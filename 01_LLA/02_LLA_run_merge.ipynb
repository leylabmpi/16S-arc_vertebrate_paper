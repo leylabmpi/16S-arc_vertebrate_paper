{
 "cells": [
  {
   "cell_type": "markdown",
   "metadata": {
    "toc": true
   },
   "source": [
    "<h1>Table of Contents<span class=\"tocSkip\"></span></h1>\n",
    "<div class=\"toc\"><ul class=\"toc-item\"><li><span><a href=\"#Goal\" data-toc-modified-id=\"Goal-1\"><span class=\"toc-item-num\">1&nbsp;&nbsp;</span>Goal</a></span></li><li><span><a href=\"#Var\" data-toc-modified-id=\"Var-2\"><span class=\"toc-item-num\">2&nbsp;&nbsp;</span>Var</a></span></li><li><span><a href=\"#Init\" data-toc-modified-id=\"Init-3\"><span class=\"toc-item-num\">3&nbsp;&nbsp;</span>Init</a></span></li><li><span><a href=\"#Merging\" data-toc-modified-id=\"Merging-4\"><span class=\"toc-item-num\">4&nbsp;&nbsp;</span>Merging</a></span><ul class=\"toc-item\"><li><span><a href=\"#SV-artifact\" data-toc-modified-id=\"SV-artifact-4.1\"><span class=\"toc-item-num\">4.1&nbsp;&nbsp;</span>SV artifact</a></span></li><li><span><a href=\"#rep-seqs\" data-toc-modified-id=\"rep-seqs-4.2\"><span class=\"toc-item-num\">4.2&nbsp;&nbsp;</span>rep-seqs</a></span></li><li><span><a href=\"#Taxonomy\" data-toc-modified-id=\"Taxonomy-4.3\"><span class=\"toc-item-num\">4.3&nbsp;&nbsp;</span>Taxonomy</a></span></li></ul></li><li><span><a href=\"#Alignment\" data-toc-modified-id=\"Alignment-5\"><span class=\"toc-item-num\">5&nbsp;&nbsp;</span>Alignment</a></span><ul class=\"toc-item\"><li><span><a href=\"#Creating-alignment\" data-toc-modified-id=\"Creating-alignment-5.1\"><span class=\"toc-item-num\">5.1&nbsp;&nbsp;</span>Creating alignment</a></span></li><li><span><a href=\"#Masking-alignment\" data-toc-modified-id=\"Masking-alignment-5.2\"><span class=\"toc-item-num\">5.2&nbsp;&nbsp;</span>Masking alignment</a></span></li></ul></li><li><span><a href=\"#Phylogeny\" data-toc-modified-id=\"Phylogeny-6\"><span class=\"toc-item-num\">6&nbsp;&nbsp;</span>Phylogeny</a></span><ul class=\"toc-item\"><li><span><a href=\"#Unrooted-tree\" data-toc-modified-id=\"Unrooted-tree-6.1\"><span class=\"toc-item-num\">6.1&nbsp;&nbsp;</span>Unrooted tree</a></span></li><li><span><a href=\"#Rooted-tree\" data-toc-modified-id=\"Rooted-tree-6.2\"><span class=\"toc-item-num\">6.2&nbsp;&nbsp;</span>Rooted tree</a></span></li></ul></li><li><span><a href=\"#sessionInfo\" data-toc-modified-id=\"sessionInfo-7\"><span class=\"toc-item-num\">7&nbsp;&nbsp;</span>sessionInfo</a></span></li></ul></div>"
   ]
  },
  {
   "cell_type": "markdown",
   "metadata": {},
   "source": [
    "# Goal\n",
    "\n",
    "* Merge results from all per-MiSeq-run `LLA` jobs\n",
    "* Merging feature tables for multiple sequencing runs:\n",
    "   * MiSeq-Run0116\n",
    "   * MiSeq-Run0122\n",
    "   * MiSeq-Run0126\n",
    "   * **NOT** MiSeq-Run187 (failed run)\n",
    "   * MiSeq-run0189\n",
    "* Then running standard processing:\n",
    "  * dataset summary\n",
    "  * taxonomy\n",
    "  * phylogeny"
   ]
  },
  {
   "cell_type": "markdown",
   "metadata": {},
   "source": [
    "# Var"
   ]
  },
  {
   "cell_type": "code",
   "execution_count": 1,
   "metadata": {
    "ExecuteTime": {
     "end_time": "2020-03-06T07:36:46.226138Z",
     "start_time": "2020-03-06T07:36:46.134Z"
    }
   },
   "outputs": [],
   "source": [
    "work_dir = '/ebio/abt3_projects/Georg_animal_feces/data/16S_arch/MiSeq-Runs-116-122-126-189-190/LLA/merged/'\n",
    "\n",
    "run_dir = '/ebio/abt3_projects/Georg_animal_feces/data/16S_arch/MiSeq-Runs-116-122-126-189-190/LLA/'\n",
    "miseq_runs = c('Run0116', 'Run0122', 'Run0126', 'Run0189', 'Run0190')\n",
    "\n",
    "# params\n",
    "conda_env = 'qiime2-2019.10'\n",
    "threads = 24"
   ]
  },
  {
   "cell_type": "markdown",
   "metadata": {},
   "source": [
    "# Init"
   ]
  },
  {
   "cell_type": "code",
   "execution_count": 2,
   "metadata": {
    "ExecuteTime": {
     "end_time": "2020-03-06T07:36:47.958471Z",
     "start_time": "2020-03-06T07:36:46.512Z"
    }
   },
   "outputs": [
    {
     "name": "stderr",
     "output_type": "stream",
     "text": [
      "\n",
      "Attaching package: ‘dplyr’\n",
      "\n",
      "\n",
      "The following objects are masked from ‘package:stats’:\n",
      "\n",
      "    filter, lag\n",
      "\n",
      "\n",
      "The following objects are masked from ‘package:base’:\n",
      "\n",
      "    intersect, setdiff, setequal, union\n",
      "\n",
      "\n"
     ]
    }
   ],
   "source": [
    "library(dplyr)\n",
    "library(tidyr)\n",
    "library(ggplot2)\n",
    "library(LeyLabRMisc)"
   ]
  },
  {
   "cell_type": "code",
   "execution_count": 3,
   "metadata": {
    "ExecuteTime": {
     "end_time": "2020-03-06T07:36:47.977516Z",
     "start_time": "2020-03-06T07:36:46.737Z"
    }
   },
   "outputs": [
    {
     "name": "stdout",
     "output_type": "stream",
     "text": [
      "Directory already exists: /ebio/abt3_projects/Georg_animal_feces/data/16S_arch/MiSeq-Runs-116-122-126-189-190/LLA/merged/ \n"
     ]
    }
   ],
   "source": [
    "df.dims()\n",
    "make_dir(work_dir)"
   ]
  },
  {
   "cell_type": "markdown",
   "metadata": {},
   "source": [
    "# Merging"
   ]
  },
  {
   "cell_type": "markdown",
   "metadata": {},
   "source": [
    "## SV artifact"
   ]
  },
  {
   "cell_type": "code",
   "execution_count": 4,
   "metadata": {
    "ExecuteTime": {
     "end_time": "2020-03-06T07:36:48.857543Z",
     "start_time": "2020-03-06T07:36:48.809Z"
    }
   },
   "outputs": [
    {
     "data": {
      "text/html": [
       "<ol>\n",
       "\t<li>'/ebio/abt3_projects/Georg_animal_feces/data/16S_arch/MiSeq-Runs-116-122-126-189-190/LLA//Run0116/table_merged_filt.qza'</li>\n",
       "\t<li>'/ebio/abt3_projects/Georg_animal_feces/data/16S_arch/MiSeq-Runs-116-122-126-189-190/LLA//Run0122/table_merged_filt.qza'</li>\n",
       "\t<li>'/ebio/abt3_projects/Georg_animal_feces/data/16S_arch/MiSeq-Runs-116-122-126-189-190/LLA//Run0126/table_merged_filt.qza'</li>\n",
       "\t<li>'/ebio/abt3_projects/Georg_animal_feces/data/16S_arch/MiSeq-Runs-116-122-126-189-190/LLA//Run0189/table_merged_filt.qza'</li>\n",
       "\t<li>'/ebio/abt3_projects/Georg_animal_feces/data/16S_arch/MiSeq-Runs-116-122-126-189-190/LLA//Run0190/table_merged_filt.qza'</li>\n",
       "</ol>\n"
      ],
      "text/latex": [
       "\\begin{enumerate}\n",
       "\\item '/ebio/abt3\\_projects/Georg\\_animal\\_feces/data/16S\\_arch/MiSeq-Runs-116-122-126-189-190/LLA//Run0116/table\\_merged\\_filt.qza'\n",
       "\\item '/ebio/abt3\\_projects/Georg\\_animal\\_feces/data/16S\\_arch/MiSeq-Runs-116-122-126-189-190/LLA//Run0122/table\\_merged\\_filt.qza'\n",
       "\\item '/ebio/abt3\\_projects/Georg\\_animal\\_feces/data/16S\\_arch/MiSeq-Runs-116-122-126-189-190/LLA//Run0126/table\\_merged\\_filt.qza'\n",
       "\\item '/ebio/abt3\\_projects/Georg\\_animal\\_feces/data/16S\\_arch/MiSeq-Runs-116-122-126-189-190/LLA//Run0189/table\\_merged\\_filt.qza'\n",
       "\\item '/ebio/abt3\\_projects/Georg\\_animal\\_feces/data/16S\\_arch/MiSeq-Runs-116-122-126-189-190/LLA//Run0190/table\\_merged\\_filt.qza'\n",
       "\\end{enumerate}\n"
      ],
      "text/markdown": [
       "1. '/ebio/abt3_projects/Georg_animal_feces/data/16S_arch/MiSeq-Runs-116-122-126-189-190/LLA//Run0116/table_merged_filt.qza'\n",
       "2. '/ebio/abt3_projects/Georg_animal_feces/data/16S_arch/MiSeq-Runs-116-122-126-189-190/LLA//Run0122/table_merged_filt.qza'\n",
       "3. '/ebio/abt3_projects/Georg_animal_feces/data/16S_arch/MiSeq-Runs-116-122-126-189-190/LLA//Run0126/table_merged_filt.qza'\n",
       "4. '/ebio/abt3_projects/Georg_animal_feces/data/16S_arch/MiSeq-Runs-116-122-126-189-190/LLA//Run0189/table_merged_filt.qza'\n",
       "5. '/ebio/abt3_projects/Georg_animal_feces/data/16S_arch/MiSeq-Runs-116-122-126-189-190/LLA//Run0190/table_merged_filt.qza'\n",
       "\n",
       "\n"
      ],
      "text/plain": [
       "[[1]]\n",
       "/ebio/abt3_projects/Georg_animal_feces/data/16S_arch/MiSeq-Runs-116-122-126-189-190/LLA//Run0116/table_merged_filt.qza\n",
       "\n",
       "[[2]]\n",
       "/ebio/abt3_projects/Georg_animal_feces/data/16S_arch/MiSeq-Runs-116-122-126-189-190/LLA//Run0122/table_merged_filt.qza\n",
       "\n",
       "[[3]]\n",
       "/ebio/abt3_projects/Georg_animal_feces/data/16S_arch/MiSeq-Runs-116-122-126-189-190/LLA//Run0126/table_merged_filt.qza\n",
       "\n",
       "[[4]]\n",
       "/ebio/abt3_projects/Georg_animal_feces/data/16S_arch/MiSeq-Runs-116-122-126-189-190/LLA//Run0189/table_merged_filt.qza\n",
       "\n",
       "[[5]]\n",
       "/ebio/abt3_projects/Georg_animal_feces/data/16S_arch/MiSeq-Runs-116-122-126-189-190/LLA//Run0190/table_merged_filt.qza\n"
      ]
     },
     "metadata": {},
     "output_type": "display_data"
    }
   ],
   "source": [
    "# artifacts for individual runs\n",
    "P = file.path(run_dir, '{run}', 'table_merged_filt.qza')\n",
    "runs = miseq_runs %>% as.list %>%\n",
    "    lapply(function(x) glue::glue(P, run=x))\n",
    "        \n",
    "runs"
   ]
  },
  {
   "cell_type": "code",
   "execution_count": 5,
   "metadata": {
    "ExecuteTime": {
     "end_time": "2020-03-06T07:36:49.348948Z",
     "start_time": "2020-03-06T07:36:49.322Z"
    }
   },
   "outputs": [],
   "source": [
    "# function to merge tables\n",
    "merge_tables = function(in_tbls, out_tbl, conda_env){\n",
    "    cmd = 'qiime feature-table merge --i-tables {in_tbls} --o-merged-table {out_tbl} --p-overlap-method sum'\n",
    "    cmd = glue::glue(cmd, in_tbls=in_tbls, out_tbl=out_tbl)\n",
    "    cat('CMD:', cmd, '\\n')\n",
    "    ret = bash_job(cmd, conda_env=conda_env, stderr=TRUE)\n",
    "    cat(ret, '\\n')\n",
    "    return(out_tbl)\n",
    "}"
   ]
  },
  {
   "cell_type": "code",
   "execution_count": 6,
   "metadata": {
    "ExecuteTime": {
     "end_time": "2020-03-06T07:39:08.416581Z",
     "start_time": "2020-03-06T07:36:50.090Z"
    }
   },
   "outputs": [
    {
     "name": "stdout",
     "output_type": "stream",
     "text": [
      "CMD: qiime feature-table merge --i-tables /ebio/abt3_projects/Georg_animal_feces/data/16S_arch/MiSeq-Runs-116-122-126-189-190/LLA//Run0116/table_merged_filt.qza /ebio/abt3_projects/Georg_animal_feces/data/16S_arch/MiSeq-Runs-116-122-126-189-190/LLA//Run0122/table_merged_filt.qza /ebio/abt3_projects/Georg_animal_feces/data/16S_arch/MiSeq-Runs-116-122-126-189-190/LLA//Run0126/table_merged_filt.qza /ebio/abt3_projects/Georg_animal_feces/data/16S_arch/MiSeq-Runs-116-122-126-189-190/LLA//Run0189/table_merged_filt.qza /ebio/abt3_projects/Georg_animal_feces/data/16S_arch/MiSeq-Runs-116-122-126-189-190/LLA//Run0190/table_merged_filt.qza --o-merged-table /ebio/abt3_projects/Georg_animal_feces/data/16S_arch/MiSeq-Runs-116-122-126-189-190/LLA/merged//table_merged_filt.qza --p-overlap-method sum \n",
      "Saved FeatureTable[Frequency] to: /ebio/abt3_projects/Georg_animal_feces/data/16S_arch/MiSeq-Runs-116-122-126-189-190/LLA/merged//table_merged_filt.qza \n",
      "Output file: /ebio/abt3_projects/Georg_animal_feces/data/16S_arch/MiSeq-Runs-116-122-126-189-190/LLA/merged//table_merged_filt.qza \n"
     ]
    }
   ],
   "source": [
    "# merging\n",
    "table_merged_file = file.path(work_dir, 'table_merged_filt.qza')\n",
    "table_merged_file = merge_tables(paste(runs, collapse=' '), table_merged_file, conda_env)\n",
    "cat('Output file:', table_merged_file, '\\n')"
   ]
  },
  {
   "cell_type": "markdown",
   "metadata": {},
   "source": [
    "## rep-seqs"
   ]
  },
  {
   "cell_type": "code",
   "execution_count": 7,
   "metadata": {
    "ExecuteTime": {
     "end_time": "2020-03-06T07:39:08.511680Z",
     "start_time": "2020-03-06T07:36:50.657Z"
    }
   },
   "outputs": [
    {
     "data": {
      "text/html": [
       "<ol>\n",
       "\t<li>'/ebio/abt3_projects/Georg_animal_feces/data/16S_arch/MiSeq-Runs-116-122-126-189-190/LLA//Run0116/rep-seqs_merged_filt.qza'</li>\n",
       "\t<li>'/ebio/abt3_projects/Georg_animal_feces/data/16S_arch/MiSeq-Runs-116-122-126-189-190/LLA//Run0122/rep-seqs_merged_filt.qza'</li>\n",
       "\t<li>'/ebio/abt3_projects/Georg_animal_feces/data/16S_arch/MiSeq-Runs-116-122-126-189-190/LLA//Run0126/rep-seqs_merged_filt.qza'</li>\n",
       "\t<li>'/ebio/abt3_projects/Georg_animal_feces/data/16S_arch/MiSeq-Runs-116-122-126-189-190/LLA//Run0189/rep-seqs_merged_filt.qza'</li>\n",
       "\t<li>'/ebio/abt3_projects/Georg_animal_feces/data/16S_arch/MiSeq-Runs-116-122-126-189-190/LLA//Run0190/rep-seqs_merged_filt.qza'</li>\n",
       "</ol>\n"
      ],
      "text/latex": [
       "\\begin{enumerate}\n",
       "\\item '/ebio/abt3\\_projects/Georg\\_animal\\_feces/data/16S\\_arch/MiSeq-Runs-116-122-126-189-190/LLA//Run0116/rep-seqs\\_merged\\_filt.qza'\n",
       "\\item '/ebio/abt3\\_projects/Georg\\_animal\\_feces/data/16S\\_arch/MiSeq-Runs-116-122-126-189-190/LLA//Run0122/rep-seqs\\_merged\\_filt.qza'\n",
       "\\item '/ebio/abt3\\_projects/Georg\\_animal\\_feces/data/16S\\_arch/MiSeq-Runs-116-122-126-189-190/LLA//Run0126/rep-seqs\\_merged\\_filt.qza'\n",
       "\\item '/ebio/abt3\\_projects/Georg\\_animal\\_feces/data/16S\\_arch/MiSeq-Runs-116-122-126-189-190/LLA//Run0189/rep-seqs\\_merged\\_filt.qza'\n",
       "\\item '/ebio/abt3\\_projects/Georg\\_animal\\_feces/data/16S\\_arch/MiSeq-Runs-116-122-126-189-190/LLA//Run0190/rep-seqs\\_merged\\_filt.qza'\n",
       "\\end{enumerate}\n"
      ],
      "text/markdown": [
       "1. '/ebio/abt3_projects/Georg_animal_feces/data/16S_arch/MiSeq-Runs-116-122-126-189-190/LLA//Run0116/rep-seqs_merged_filt.qza'\n",
       "2. '/ebio/abt3_projects/Georg_animal_feces/data/16S_arch/MiSeq-Runs-116-122-126-189-190/LLA//Run0122/rep-seqs_merged_filt.qza'\n",
       "3. '/ebio/abt3_projects/Georg_animal_feces/data/16S_arch/MiSeq-Runs-116-122-126-189-190/LLA//Run0126/rep-seqs_merged_filt.qza'\n",
       "4. '/ebio/abt3_projects/Georg_animal_feces/data/16S_arch/MiSeq-Runs-116-122-126-189-190/LLA//Run0189/rep-seqs_merged_filt.qza'\n",
       "5. '/ebio/abt3_projects/Georg_animal_feces/data/16S_arch/MiSeq-Runs-116-122-126-189-190/LLA//Run0190/rep-seqs_merged_filt.qza'\n",
       "\n",
       "\n"
      ],
      "text/plain": [
       "[[1]]\n",
       "/ebio/abt3_projects/Georg_animal_feces/data/16S_arch/MiSeq-Runs-116-122-126-189-190/LLA//Run0116/rep-seqs_merged_filt.qza\n",
       "\n",
       "[[2]]\n",
       "/ebio/abt3_projects/Georg_animal_feces/data/16S_arch/MiSeq-Runs-116-122-126-189-190/LLA//Run0122/rep-seqs_merged_filt.qza\n",
       "\n",
       "[[3]]\n",
       "/ebio/abt3_projects/Georg_animal_feces/data/16S_arch/MiSeq-Runs-116-122-126-189-190/LLA//Run0126/rep-seqs_merged_filt.qza\n",
       "\n",
       "[[4]]\n",
       "/ebio/abt3_projects/Georg_animal_feces/data/16S_arch/MiSeq-Runs-116-122-126-189-190/LLA//Run0189/rep-seqs_merged_filt.qza\n",
       "\n",
       "[[5]]\n",
       "/ebio/abt3_projects/Georg_animal_feces/data/16S_arch/MiSeq-Runs-116-122-126-189-190/LLA//Run0190/rep-seqs_merged_filt.qza\n"
      ]
     },
     "metadata": {},
     "output_type": "display_data"
    }
   ],
   "source": [
    "# artifacts for individual runs\n",
    "P = file.path(run_dir, '{run}', 'rep-seqs_merged_filt.qza')\n",
    "runs = miseq_runs %>% as.list %>%\n",
    "    lapply(function(x) glue::glue(P, run=x))\n",
    "        \n",
    "runs"
   ]
  },
  {
   "cell_type": "code",
   "execution_count": 8,
   "metadata": {
    "ExecuteTime": {
     "end_time": "2020-03-06T07:39:08.590300Z",
     "start_time": "2020-03-06T07:36:51.048Z"
    }
   },
   "outputs": [],
   "source": [
    "# function to merge seqs \n",
    "merge_seqs = function(in_seqs, out_seq, conda_env){\n",
    "    cmd = 'qiime feature-table merge-seqs --i-data {in_seqs} --o-merged-data {out_seq}'\n",
    "    cmd = glue::glue(cmd, in_seqs=in_seqs, out_tbl=out_seq)\n",
    "    cat('CMD:', cmd, '\\n')\n",
    "    ret = bash_job(cmd, conda_env=conda_env, stderr=TRUE)\n",
    "    cat(ret, '\\n')\n",
    "    return(out_seq)\n",
    "}"
   ]
  },
  {
   "cell_type": "code",
   "execution_count": 9,
   "metadata": {
    "ExecuteTime": {
     "end_time": "2020-03-06T07:40:25.001821Z",
     "start_time": "2020-03-06T07:36:51.394Z"
    }
   },
   "outputs": [
    {
     "name": "stdout",
     "output_type": "stream",
     "text": [
      "CMD: qiime feature-table merge-seqs --i-data /ebio/abt3_projects/Georg_animal_feces/data/16S_arch/MiSeq-Runs-116-122-126-189-190/LLA//Run0116/rep-seqs_merged_filt.qza /ebio/abt3_projects/Georg_animal_feces/data/16S_arch/MiSeq-Runs-116-122-126-189-190/LLA//Run0122/rep-seqs_merged_filt.qza /ebio/abt3_projects/Georg_animal_feces/data/16S_arch/MiSeq-Runs-116-122-126-189-190/LLA//Run0126/rep-seqs_merged_filt.qza /ebio/abt3_projects/Georg_animal_feces/data/16S_arch/MiSeq-Runs-116-122-126-189-190/LLA//Run0189/rep-seqs_merged_filt.qza /ebio/abt3_projects/Georg_animal_feces/data/16S_arch/MiSeq-Runs-116-122-126-189-190/LLA//Run0190/rep-seqs_merged_filt.qza --o-merged-data /ebio/abt3_projects/Georg_animal_feces/data/16S_arch/MiSeq-Runs-116-122-126-189-190/LLA/merged//rep-seqs_merged_filt.qza \n",
      "Saved FeatureData[Sequence] to: /ebio/abt3_projects/Georg_animal_feces/data/16S_arch/MiSeq-Runs-116-122-126-189-190/LLA/merged//rep-seqs_merged_filt.qza \n",
      "Output file: /ebio/abt3_projects/Georg_animal_feces/data/16S_arch/MiSeq-Runs-116-122-126-189-190/LLA/merged//rep-seqs_merged_filt.qza \n"
     ]
    }
   ],
   "source": [
    "# merging\n",
    "seqs_merged_file = file.path(work_dir, 'rep-seqs_merged_filt.qza')\n",
    "seqs_merged_file = merge_seqs(paste(runs, collapse=' '), seqs_merged_file, conda_env)\n",
    "cat('Output file:', seqs_merged_file, '\\n')"
   ]
  },
  {
   "cell_type": "markdown",
   "metadata": {},
   "source": [
    "## Taxonomy"
   ]
  },
  {
   "cell_type": "code",
   "execution_count": 10,
   "metadata": {
    "ExecuteTime": {
     "end_time": "2020-03-06T07:40:25.038821Z",
     "start_time": "2020-03-06T07:36:52.081Z"
    }
   },
   "outputs": [
    {
     "data": {
      "text/html": [
       "<ol>\n",
       "\t<li>'/ebio/abt3_projects/Georg_animal_feces/data/16S_arch/MiSeq-Runs-116-122-126-189-190/LLA//Run0116/taxonomy.qza'</li>\n",
       "\t<li>'/ebio/abt3_projects/Georg_animal_feces/data/16S_arch/MiSeq-Runs-116-122-126-189-190/LLA//Run0122/taxonomy.qza'</li>\n",
       "\t<li>'/ebio/abt3_projects/Georg_animal_feces/data/16S_arch/MiSeq-Runs-116-122-126-189-190/LLA//Run0126/taxonomy.qza'</li>\n",
       "\t<li>'/ebio/abt3_projects/Georg_animal_feces/data/16S_arch/MiSeq-Runs-116-122-126-189-190/LLA//Run0189/taxonomy.qza'</li>\n",
       "\t<li>'/ebio/abt3_projects/Georg_animal_feces/data/16S_arch/MiSeq-Runs-116-122-126-189-190/LLA//Run0190/taxonomy.qza'</li>\n",
       "</ol>\n"
      ],
      "text/latex": [
       "\\begin{enumerate}\n",
       "\\item '/ebio/abt3\\_projects/Georg\\_animal\\_feces/data/16S\\_arch/MiSeq-Runs-116-122-126-189-190/LLA//Run0116/taxonomy.qza'\n",
       "\\item '/ebio/abt3\\_projects/Georg\\_animal\\_feces/data/16S\\_arch/MiSeq-Runs-116-122-126-189-190/LLA//Run0122/taxonomy.qza'\n",
       "\\item '/ebio/abt3\\_projects/Georg\\_animal\\_feces/data/16S\\_arch/MiSeq-Runs-116-122-126-189-190/LLA//Run0126/taxonomy.qza'\n",
       "\\item '/ebio/abt3\\_projects/Georg\\_animal\\_feces/data/16S\\_arch/MiSeq-Runs-116-122-126-189-190/LLA//Run0189/taxonomy.qza'\n",
       "\\item '/ebio/abt3\\_projects/Georg\\_animal\\_feces/data/16S\\_arch/MiSeq-Runs-116-122-126-189-190/LLA//Run0190/taxonomy.qza'\n",
       "\\end{enumerate}\n"
      ],
      "text/markdown": [
       "1. '/ebio/abt3_projects/Georg_animal_feces/data/16S_arch/MiSeq-Runs-116-122-126-189-190/LLA//Run0116/taxonomy.qza'\n",
       "2. '/ebio/abt3_projects/Georg_animal_feces/data/16S_arch/MiSeq-Runs-116-122-126-189-190/LLA//Run0122/taxonomy.qza'\n",
       "3. '/ebio/abt3_projects/Georg_animal_feces/data/16S_arch/MiSeq-Runs-116-122-126-189-190/LLA//Run0126/taxonomy.qza'\n",
       "4. '/ebio/abt3_projects/Georg_animal_feces/data/16S_arch/MiSeq-Runs-116-122-126-189-190/LLA//Run0189/taxonomy.qza'\n",
       "5. '/ebio/abt3_projects/Georg_animal_feces/data/16S_arch/MiSeq-Runs-116-122-126-189-190/LLA//Run0190/taxonomy.qza'\n",
       "\n",
       "\n"
      ],
      "text/plain": [
       "[[1]]\n",
       "/ebio/abt3_projects/Georg_animal_feces/data/16S_arch/MiSeq-Runs-116-122-126-189-190/LLA//Run0116/taxonomy.qza\n",
       "\n",
       "[[2]]\n",
       "/ebio/abt3_projects/Georg_animal_feces/data/16S_arch/MiSeq-Runs-116-122-126-189-190/LLA//Run0122/taxonomy.qza\n",
       "\n",
       "[[3]]\n",
       "/ebio/abt3_projects/Georg_animal_feces/data/16S_arch/MiSeq-Runs-116-122-126-189-190/LLA//Run0126/taxonomy.qza\n",
       "\n",
       "[[4]]\n",
       "/ebio/abt3_projects/Georg_animal_feces/data/16S_arch/MiSeq-Runs-116-122-126-189-190/LLA//Run0189/taxonomy.qza\n",
       "\n",
       "[[5]]\n",
       "/ebio/abt3_projects/Georg_animal_feces/data/16S_arch/MiSeq-Runs-116-122-126-189-190/LLA//Run0190/taxonomy.qza\n"
      ]
     },
     "metadata": {},
     "output_type": "display_data"
    }
   ],
   "source": [
    "# artifacts for individual runs\n",
    "P = file.path(run_dir, '{run}', 'taxonomy.qza')\n",
    "runs = miseq_runs %>% as.list %>%\n",
    "    lapply(function(x) glue::glue(P, run=x))\n",
    "        \n",
    "runs"
   ]
  },
  {
   "cell_type": "code",
   "execution_count": 11,
   "metadata": {
    "ExecuteTime": {
     "end_time": "2020-03-06T07:40:25.055753Z",
     "start_time": "2020-03-06T07:36:52.521Z"
    }
   },
   "outputs": [],
   "source": [
    "# function to merge tax \n",
    "merge_tax = function(in_taxs, out_tax, conda_env){\n",
    "    cmd = 'qiime feature-table merge-taxa --i-data {in_seqs} --o-merged-data {out_tax}'\n",
    "    cmd = glue::glue(cmd, in_seqs=in_taxs, out_tbl=out_tax)\n",
    "    cat('CMD:', cmd, '\\n')\n",
    "    ret = bash_job(cmd, conda_env=conda_env, stderr=TRUE)\n",
    "    cat(ret, '\\n')\n",
    "    return(out_tax)\n",
    "}"
   ]
  },
  {
   "cell_type": "code",
   "execution_count": 12,
   "metadata": {
    "ExecuteTime": {
     "end_time": "2020-03-06T07:40:40.898766Z",
     "start_time": "2020-03-06T07:36:52.719Z"
    }
   },
   "outputs": [
    {
     "name": "stdout",
     "output_type": "stream",
     "text": [
      "CMD: qiime feature-table merge-taxa --i-data /ebio/abt3_projects/Georg_animal_feces/data/16S_arch/MiSeq-Runs-116-122-126-189-190/LLA//Run0116/taxonomy.qza /ebio/abt3_projects/Georg_animal_feces/data/16S_arch/MiSeq-Runs-116-122-126-189-190/LLA//Run0122/taxonomy.qza /ebio/abt3_projects/Georg_animal_feces/data/16S_arch/MiSeq-Runs-116-122-126-189-190/LLA//Run0126/taxonomy.qza /ebio/abt3_projects/Georg_animal_feces/data/16S_arch/MiSeq-Runs-116-122-126-189-190/LLA//Run0189/taxonomy.qza /ebio/abt3_projects/Georg_animal_feces/data/16S_arch/MiSeq-Runs-116-122-126-189-190/LLA//Run0190/taxonomy.qza --o-merged-data /ebio/abt3_projects/Georg_animal_feces/data/16S_arch/MiSeq-Runs-116-122-126-189-190/LLA/merged//taxonomy.qza \n",
      "Saved FeatureData[Taxonomy] to: /ebio/abt3_projects/Georg_animal_feces/data/16S_arch/MiSeq-Runs-116-122-126-189-190/LLA/merged//taxonomy.qza \n",
      "Output file: /ebio/abt3_projects/Georg_animal_feces/data/16S_arch/MiSeq-Runs-116-122-126-189-190/LLA/merged//taxonomy.qza \n"
     ]
    }
   ],
   "source": [
    "# merging\n",
    "tax_merged_file = file.path(work_dir, 'taxonomy.qza')\n",
    "tax_merged_file = merge_tax(paste(runs, collapse=' '), tax_merged_file, conda_env)\n",
    "cat('Output file:', tax_merged_file, '\\n')"
   ]
  },
  {
   "cell_type": "markdown",
   "metadata": {},
   "source": [
    "# Alignment"
   ]
  },
  {
   "cell_type": "markdown",
   "metadata": {},
   "source": [
    "## Creating alignment"
   ]
  },
  {
   "cell_type": "code",
   "execution_count": 13,
   "metadata": {
    "ExecuteTime": {
     "end_time": "2020-03-06T08:24:02.159737Z",
     "start_time": "2020-03-06T07:36:53.504Z"
    }
   },
   "outputs": [
    {
     "name": "stdout",
     "output_type": "stream",
     "text": [
      "Saved FeatureData[AlignedSequence] to: /ebio/abt3_projects/Georg_animal_feces/data/16S_arch/MiSeq-Runs-116-122-126-189-190/LLA/merged//aligned-rep-seqs_filt.qza"
     ]
    },
    {
     "data": {
      "text/plain": [
       "NULL"
      ]
     },
     "metadata": {},
     "output_type": "display_data"
    }
   ],
   "source": [
    "aln_file = file.path(work_dir, 'aligned-rep-seqs_filt.qza')\n",
    "\n",
    "cmd = 'qiime alignment mafft --p-n-threads {threads} --i-sequences {in_seq} --o-alignment {out_aln}'\n",
    "cmd = glue::glue(cmd, threads=threads, in_seq=seqs_merged_file, out_aln=aln_file)\n",
    "bash_job(cmd, conda_env=conda_env, stderr=TRUE)\n"
   ]
  },
  {
   "cell_type": "markdown",
   "metadata": {},
   "source": [
    "## Masking alignment"
   ]
  },
  {
   "cell_type": "code",
   "execution_count": 14,
   "metadata": {
    "ExecuteTime": {
     "end_time": "2020-03-06T09:00:33.716076Z",
     "start_time": "2020-03-06T07:36:54.231Z"
    }
   },
   "outputs": [
    {
     "name": "stdout",
     "output_type": "stream",
     "text": [
      "Saved FeatureData[AlignedSequence] to: /ebio/abt3_projects/Georg_animal_feces/data/16S_arch/MiSeq-Runs-116-122-126-189-190/LLA/merged//aligned-rep-seqs_filt_masked.qza"
     ]
    },
    {
     "data": {
      "text/plain": [
       "NULL"
      ]
     },
     "metadata": {},
     "output_type": "display_data"
    }
   ],
   "source": [
    "aln_mask_file = file.path(work_dir, 'aligned-rep-seqs_filt_masked.qza')\n",
    "\n",
    "cmd = 'qiime alignment mask --i-alignment {in_aln} --o-masked-alignment {out_aln}'\n",
    "cmd = glue::glue(cmd, in_aln=aln_file, out_aln=aln_mask_file)\n",
    "bash_job(cmd, conda_env=conda_env, stderr=TRUE)\n"
   ]
  },
  {
   "cell_type": "markdown",
   "metadata": {},
   "source": [
    "# Phylogeny"
   ]
  },
  {
   "cell_type": "markdown",
   "metadata": {},
   "source": [
    "## Unrooted tree"
   ]
  },
  {
   "cell_type": "code",
   "execution_count": 15,
   "metadata": {
    "ExecuteTime": {
     "end_time": "2020-03-06T09:59:41.501755Z",
     "start_time": "2020-03-06T07:36:55.146Z"
    }
   },
   "outputs": [
    {
     "name": "stdout",
     "output_type": "stream",
     "text": [
      "Saved Phylogeny[Unrooted] to: /ebio/abt3_projects/Georg_animal_feces/data/16S_arch/MiSeq-Runs-116-122-126-189-190/LLA/merged//aligned-rep-seqs_filt_masked_unroot-tree.qza"
     ]
    },
    {
     "data": {
      "text/plain": [
       "NULL"
      ]
     },
     "metadata": {},
     "output_type": "display_data"
    }
   ],
   "source": [
    "phy_unroot_file = file.path(work_dir, 'aligned-rep-seqs_filt_masked_unroot-tree.qza')\n",
    "\n",
    "cmd = 'qiime phylogeny fasttree --p-n-threads {threads} --i-alignment {in_aln} --o-tree {out_phy}'\n",
    "cmd = glue::glue(cmd, threads=threads, in_aln=aln_mask_file, out_phy=phy_unroot_file)\n",
    "bash_job(cmd, conda_env=conda_env, stderr=TRUE)\n"
   ]
  },
  {
   "cell_type": "markdown",
   "metadata": {},
   "source": [
    "## Rooted tree"
   ]
  },
  {
   "cell_type": "code",
   "execution_count": 16,
   "metadata": {
    "ExecuteTime": {
     "end_time": "2020-03-06T10:15:08.573907Z",
     "start_time": "2020-03-06T07:36:55.487Z"
    }
   },
   "outputs": [
    {
     "name": "stdout",
     "output_type": "stream",
     "text": [
      "Saved Phylogeny[Rooted] to: /ebio/abt3_projects/Georg_animal_feces/data/16S_arch/MiSeq-Runs-116-122-126-189-190/LLA/merged//aligned-rep-seqs_filt_masked_midroot-tree.qza"
     ]
    },
    {
     "data": {
      "text/plain": [
       "NULL"
      ]
     },
     "metadata": {},
     "output_type": "display_data"
    }
   ],
   "source": [
    "phy_root_file = file.path(work_dir, 'aligned-rep-seqs_filt_masked_midroot-tree.qza')\n",
    "\n",
    "cmd = 'qiime phylogeny midpoint-root --i-tree {in_phy} --o-rooted-tree {out_phy}'\n",
    "cmd = glue::glue(cmd, in_phy=phy_unroot_file, out_phy=phy_root_file)\n",
    "bash_job(cmd, conda_env=conda_env, stderr=TRUE)\n"
   ]
  },
  {
   "cell_type": "markdown",
   "metadata": {},
   "source": [
    "# sessionInfo"
   ]
  },
  {
   "cell_type": "code",
   "execution_count": 17,
   "metadata": {
    "ExecuteTime": {
     "end_time": "2020-03-06T10:15:10.401047Z",
     "start_time": "2020-03-06T07:36:55.969Z"
    }
   },
   "outputs": [
    {
     "data": {
      "text/plain": [
       "R version 3.6.2 (2019-12-12)\n",
       "Platform: x86_64-conda_cos6-linux-gnu (64-bit)\n",
       "Running under: Ubuntu 18.04.3 LTS\n",
       "\n",
       "Matrix products: default\n",
       "BLAS/LAPACK: /ebio/abt3_projects/Georg_animal_feces/envs/tidyverse/lib/libopenblasp-r0.3.7.so\n",
       "\n",
       "locale:\n",
       " [1] LC_CTYPE=en_US.UTF-8       LC_NUMERIC=C              \n",
       " [3] LC_TIME=en_US.UTF-8        LC_COLLATE=en_US.UTF-8    \n",
       " [5] LC_MONETARY=en_US.UTF-8    LC_MESSAGES=en_US.UTF-8   \n",
       " [7] LC_PAPER=en_US.UTF-8       LC_NAME=C                 \n",
       " [9] LC_ADDRESS=C               LC_TELEPHONE=C            \n",
       "[11] LC_MEASUREMENT=en_US.UTF-8 LC_IDENTIFICATION=C       \n",
       "\n",
       "attached base packages:\n",
       "[1] stats     graphics  grDevices utils     datasets  methods   base     \n",
       "\n",
       "other attached packages:\n",
       "[1] LeyLabRMisc_0.1.1 ggplot2_3.2.1     tidyr_1.0.0       dplyr_0.8.3      \n",
       "\n",
       "loaded via a namespace (and not attached):\n",
       " [1] Rcpp_1.0.3       magrittr_1.5     munsell_0.5.0    tidyselect_0.2.5\n",
       " [5] uuid_0.1-2       colorspace_1.4-1 R6_2.4.1         rlang_0.4.2     \n",
       " [9] tools_3.6.2      grid_3.6.2       gtable_0.3.0     withr_2.1.2     \n",
       "[13] htmltools_0.4.0  lazyeval_0.2.2   digest_0.6.23    assertthat_0.2.1\n",
       "[17] lifecycle_0.1.0  tibble_2.1.3     crayon_1.3.4     IRdisplay_0.7.0 \n",
       "[21] purrr_0.3.3      repr_1.0.2       base64enc_0.1-3  vctrs_0.2.1     \n",
       "[25] IRkernel_1.1     zeallot_0.1.0    glue_1.3.1       evaluate_0.14   \n",
       "[29] pbdZMQ_0.3-3     compiler_3.6.2   pillar_1.4.3     scales_1.1.0    \n",
       "[33] backports_1.1.5  jsonlite_1.6     pkgconfig_2.0.3 "
      ]
     },
     "metadata": {},
     "output_type": "display_data"
    }
   ],
   "source": [
    "sessionInfo()"
   ]
  }
 ],
 "metadata": {
  "kernelspec": {
   "display_name": "R [conda env:Georg_animal_feces-tidyverse]",
   "language": "R",
   "name": "conda-env-Georg_animal_feces-tidyverse-r"
  },
  "language_info": {
   "codemirror_mode": "r",
   "file_extension": ".r",
   "mimetype": "text/x-r-source",
   "name": "R",
   "pygments_lexer": "r",
   "version": "3.6.2"
  },
  "notify_time": "30",
  "toc": {
   "base_numbering": 1,
   "nav_menu": {},
   "number_sections": true,
   "sideBar": true,
   "skip_h1_title": false,
   "title_cell": "Table of Contents",
   "title_sidebar": "Contents",
   "toc_cell": true,
   "toc_position": {},
   "toc_section_display": true,
   "toc_window_display": true
  }
 },
 "nbformat": 4,
 "nbformat_minor": 2
}
