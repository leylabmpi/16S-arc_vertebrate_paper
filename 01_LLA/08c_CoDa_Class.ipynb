{
 "cells": [
  {
   "cell_type": "markdown",
   "metadata": {
    "toc": true
   },
   "source": [
    "<h1>Table of Contents<span class=\"tocSkip\"></span></h1>\n",
    "<div class=\"toc\"><ul class=\"toc-item\"><li><span><a href=\"#Goal\" data-toc-modified-id=\"Goal-1\"><span class=\"toc-item-num\">1&nbsp;&nbsp;</span>Goal</a></span></li><li><span><a href=\"#Var\" data-toc-modified-id=\"Var-2\"><span class=\"toc-item-num\">2&nbsp;&nbsp;</span>Var</a></span></li><li><span><a href=\"#Init\" data-toc-modified-id=\"Init-3\"><span class=\"toc-item-num\">3&nbsp;&nbsp;</span>Init</a></span></li><li><span><a href=\"#Load\" data-toc-modified-id=\"Load-4\"><span class=\"toc-item-num\">4&nbsp;&nbsp;</span>Load</a></span></li><li><span><a href=\"#SpecD\" data-toc-modified-id=\"SpecD-5\"><span class=\"toc-item-num\">5&nbsp;&nbsp;</span>SpecD</a></span><ul class=\"toc-item\"><li><span><a href=\"#Aggregating\" data-toc-modified-id=\"Aggregating-5.1\"><span class=\"toc-item-num\">5.1&nbsp;&nbsp;</span>Aggregating</a></span></li><li><span><a href=\"#Filter-by-sparsity\" data-toc-modified-id=\"Filter-by-sparsity-5.2\"><span class=\"toc-item-num\">5.2&nbsp;&nbsp;</span>Filter by sparsity</a></span></li><li><span><a href=\"#Zero-estimation\" data-toc-modified-id=\"Zero-estimation-5.3\"><span class=\"toc-item-num\">5.3&nbsp;&nbsp;</span>Zero estimation</a></span></li><li><span><a href=\"#clr-transformation\" data-toc-modified-id=\"clr-transformation-5.4\"><span class=\"toc-item-num\">5.4&nbsp;&nbsp;</span>clr transformation</a></span></li><li><span><a href=\"#New-phyloseq-obj.\" data-toc-modified-id=\"New-phyloseq-obj.-5.5\"><span class=\"toc-item-num\">5.5&nbsp;&nbsp;</span>New phyloseq obj.</a></span></li></ul></li><li><span><a href=\"#IndD\" data-toc-modified-id=\"IndD-6\"><span class=\"toc-item-num\">6&nbsp;&nbsp;</span>IndD</a></span><ul class=\"toc-item\"><li><span><a href=\"#Aggregating\" data-toc-modified-id=\"Aggregating-6.1\"><span class=\"toc-item-num\">6.1&nbsp;&nbsp;</span>Aggregating</a></span></li><li><span><a href=\"#Filter-by-sparsity\" data-toc-modified-id=\"Filter-by-sparsity-6.2\"><span class=\"toc-item-num\">6.2&nbsp;&nbsp;</span>Filter by sparsity</a></span></li><li><span><a href=\"#Zero-estimation\" data-toc-modified-id=\"Zero-estimation-6.3\"><span class=\"toc-item-num\">6.3&nbsp;&nbsp;</span>Zero estimation</a></span></li><li><span><a href=\"#clr-transformation\" data-toc-modified-id=\"clr-transformation-6.4\"><span class=\"toc-item-num\">6.4&nbsp;&nbsp;</span>clr transformation</a></span></li><li><span><a href=\"#New-phyloseq-obj\" data-toc-modified-id=\"New-phyloseq-obj-6.5\"><span class=\"toc-item-num\">6.5&nbsp;&nbsp;</span>New phyloseq obj</a></span></li></ul></li><li><span><a href=\"#sessionInfo\" data-toc-modified-id=\"sessionInfo-7\"><span class=\"toc-item-num\">7&nbsp;&nbsp;</span>sessionInfo</a></span></li></ul></div>"
   ]
  },
  {
   "cell_type": "markdown",
   "metadata": {},
   "source": [
    "# Goal\n",
    "\n",
    "* Create coda-transformed dataset\n",
    "  * accounting for compositional data\n",
    "* Method\n",
    "  * impute zeros with zCompositions\n",
    "  * perform clr transformation on counts\n",
    "    * `compositions::clr`"
   ]
  },
  {
   "cell_type": "markdown",
   "metadata": {},
   "source": [
    "# Var"
   ]
  },
  {
   "cell_type": "code",
   "execution_count": 1,
   "metadata": {
    "ExecuteTime": {
     "end_time": "2020-06-18T11:52:47.916075Z",
     "start_time": "2020-06-18T11:52:47.852Z"
    }
   },
   "outputs": [],
   "source": [
    "work_dir = '/ebio/abt3_projects/Georg_animal_feces/data/16S_arch/MiSeq-Runs-116-122-126-189-190/LLA/merged/'\n",
    "\n",
    "# microbiome\n",
    "## 16S-arch phyloseq object (one sample per species)\n",
    "physeq_arch_SpecD_file = '/ebio/abt3_projects/Georg_animal_feces/data/16S_arch/MiSeq-Runs-116-122-126-189-190/LLA/merged/phyloseq/physeq_arch_SpecD.RDS'\n",
    "## 16S-arch phyloseq object (one sample per individual)\n",
    "physeq_arch_IndD_file = '/ebio/abt3_projects/Georg_animal_feces/data/16S_arch/MiSeq-Runs-116-122-126-189-190/LLA/merged/phyloseq/physeq_arch_IndD.RDS'\n",
    "\n",
    "# params\n",
    "threads = 8\n",
    "my_seed = 8371\n"
   ]
  },
  {
   "cell_type": "markdown",
   "metadata": {},
   "source": [
    "# Init"
   ]
  },
  {
   "cell_type": "code",
   "execution_count": 2,
   "metadata": {
    "ExecuteTime": {
     "end_time": "2020-06-18T11:52:53.629173Z",
     "start_time": "2020-06-18T11:52:48.108Z"
    }
   },
   "outputs": [
    {
     "name": "stderr",
     "output_type": "stream",
     "text": [
      "\n",
      "Attaching package: ‘dplyr’\n",
      "\n",
      "\n",
      "The following objects are masked from ‘package:stats’:\n",
      "\n",
      "    filter, lag\n",
      "\n",
      "\n",
      "The following objects are masked from ‘package:base’:\n",
      "\n",
      "    intersect, setdiff, setequal, union\n",
      "\n",
      "\n",
      "Loading required package: MASS\n",
      "\n",
      "\n",
      "Attaching package: ‘MASS’\n",
      "\n",
      "\n",
      "The following object is masked from ‘package:dplyr’:\n",
      "\n",
      "    select\n",
      "\n",
      "\n",
      "Loading required package: NADA\n",
      "\n",
      "Loading required package: survival\n",
      "\n",
      "\n",
      "Attaching package: ‘NADA’\n",
      "\n",
      "\n",
      "The following object is masked from ‘package:stats’:\n",
      "\n",
      "    cor\n",
      "\n",
      "\n",
      "Loading required package: truncnorm\n",
      "\n"
     ]
    }
   ],
   "source": [
    "library(dplyr)\n",
    "library(tidyr)\n",
    "library(ggplot2)\n",
    "\n",
    "library(phyloseq)\n",
    "library(zCompositions)\n",
    "\n",
    "library(LeyLabRMisc)"
   ]
  },
  {
   "cell_type": "code",
   "execution_count": 3,
   "metadata": {
    "ExecuteTime": {
     "end_time": "2020-06-18T11:52:53.920163Z",
     "start_time": "2020-06-18T11:52:48.256Z"
    }
   },
   "outputs": [
    {
     "name": "stdout",
     "output_type": "stream",
     "text": [
      "Directory already exists: /ebio/abt3_projects/Georg_animal_feces/data/16S_arch/MiSeq-Runs-116-122-126-189-190/LLA/merged/ \n"
     ]
    }
   ],
   "source": [
    "df.dims()\n",
    "set.seed(my_seed)\n",
    "make_dir(work_dir)"
   ]
  },
  {
   "cell_type": "markdown",
   "metadata": {},
   "source": [
    "# Load"
   ]
  },
  {
   "cell_type": "code",
   "execution_count": 4,
   "metadata": {
    "ExecuteTime": {
     "end_time": "2020-06-18T11:52:53.992768Z",
     "start_time": "2020-06-18T11:52:49.969Z"
    }
   },
   "outputs": [
    {
     "data": {
      "text/plain": [
       "phyloseq-class experiment-level object\n",
       "otu_table()   OTU Table:         [ 1151 taxa and 110 samples ]\n",
       "sample_data() Sample Data:       [ 110 samples by 88 sample variables ]\n",
       "tax_table()   Taxonomy Table:    [ 1151 taxa by 7 taxonomic ranks ]\n",
       "phy_tree()    Phylogenetic Tree: [ 1151 tips and 1150 internal nodes ]"
      ]
     },
     "metadata": {},
     "output_type": "display_data"
    }
   ],
   "source": [
    "# phyloseq\n",
    "physeq_arch_SpecD = readRDS(physeq_arch_SpecD_file)\n",
    "physeq_arch_SpecD"
   ]
  },
  {
   "cell_type": "code",
   "execution_count": 5,
   "metadata": {
    "ExecuteTime": {
     "end_time": "2020-06-18T11:52:54.080283Z",
     "start_time": "2020-06-18T11:52:51.130Z"
    }
   },
   "outputs": [
    {
     "data": {
      "text/plain": [
       "phyloseq-class experiment-level object\n",
       "otu_table()   OTU Table:         [ 1891 taxa and 185 samples ]\n",
       "sample_data() Sample Data:       [ 185 samples by 88 sample variables ]\n",
       "tax_table()   Taxonomy Table:    [ 1891 taxa by 7 taxonomic ranks ]\n",
       "phy_tree()    Phylogenetic Tree: [ 1891 tips and 1888 internal nodes ]"
      ]
     },
     "metadata": {},
     "output_type": "display_data"
    }
   ],
   "source": [
    "# phyloseq\n",
    "physeq_arch_IndD = readRDS(physeq_arch_IndD_file)\n",
    "physeq_arch_IndD"
   ]
  },
  {
   "cell_type": "markdown",
   "metadata": {},
   "source": [
    "# SpecD"
   ]
  },
  {
   "cell_type": "markdown",
   "metadata": {},
   "source": [
    "## Aggregating"
   ]
  },
  {
   "cell_type": "code",
   "execution_count": 9,
   "metadata": {
    "ExecuteTime": {
     "end_time": "2020-06-18T11:54:34.492955Z",
     "start_time": "2020-06-18T11:54:33.728Z"
    }
   },
   "outputs": [
    {
     "data": {
      "text/plain": [
       "phyloseq-class experiment-level object\n",
       "otu_table()   OTU Table:         [ 10 taxa and 110 samples ]\n",
       "sample_data() Sample Data:       [ 110 samples by 88 sample variables ]\n",
       "tax_table()   Taxonomy Table:    [ 10 taxa by 7 taxonomic ranks ]\n",
       "phy_tree()    Phylogenetic Tree: [ 10 tips and 9 internal nodes ]"
      ]
     },
     "metadata": {},
     "output_type": "display_data"
    }
   ],
   "source": [
    "physeq_arch_SpecD = tax_glom(physeq_arch_SpecD, taxrank='Class')\n",
    "physeq_arch_SpecD"
   ]
  },
  {
   "cell_type": "markdown",
   "metadata": {},
   "source": [
    "## Filter by sparsity"
   ]
  },
  {
   "cell_type": "code",
   "execution_count": 10,
   "metadata": {
    "ExecuteTime": {
     "end_time": "2020-06-18T11:54:38.771720Z",
     "start_time": "2020-06-18T11:54:38.536Z"
    }
   },
   "outputs": [
    {
     "data": {
      "text/plain": [
       "phyloseq-class experiment-level object\n",
       "otu_table()   OTU Table:         [ 9 taxa and 110 samples ]\n",
       "sample_data() Sample Data:       [ 110 samples by 88 sample variables ]\n",
       "tax_table()   Taxonomy Table:    [ 9 taxa by 7 taxonomic ranks ]\n",
       "phy_tree()    Phylogenetic Tree: [ 9 tips and 8 internal nodes ]"
      ]
     },
     "metadata": {},
     "output_type": "display_data"
    }
   ],
   "source": [
    "# filter by sparsity\n",
    "physeq_arch_SpecD = physeq_arch_SpecD %>%\n",
    "    filter_taxa(function(x) sum(x > 0) >= 2, TRUE) %>%\n",
    "    prune_samples(sample_sums(.) > 0, .)\n",
    "physeq_arch_SpecD"
   ]
  },
  {
   "cell_type": "code",
   "execution_count": 11,
   "metadata": {
    "ExecuteTime": {
     "end_time": "2020-06-18T11:54:41.320911Z",
     "start_time": "2020-06-18T11:54:40.584Z"
    }
   },
   "outputs": [
    {
     "data": {
      "text/html": [
       "<table>\n",
       "<caption>A data.frame: 110 × 9</caption>\n",
       "<thead>\n",
       "\t<tr><th></th><th scope=col>cd161a55fa07f62886e28ad1665f4153</th><th scope=col>5887dc080d027d30580310a1eb1f3166</th><th scope=col>dc2d500b34b0dc2adb147b190d3b337a</th><th scope=col>00e469ce4b434d2939579272171847d0</th><th scope=col>e569d58f2813d042dd490d75c6149977</th><th scope=col>6656e50d37ef6857fdcf857d1f735353</th><th scope=col>2987f396047df01622b365b3b667a4eb</th><th scope=col>75f3ea1df98051a1b49107173aa51a32</th><th scope=col>1578a874797e43b052a66b2fb5ef9e4a</th></tr>\n",
       "\t<tr><th></th><th scope=col>&lt;dbl&gt;</th><th scope=col>&lt;dbl&gt;</th><th scope=col>&lt;dbl&gt;</th><th scope=col>&lt;dbl&gt;</th><th scope=col>&lt;dbl&gt;</th><th scope=col>&lt;dbl&gt;</th><th scope=col>&lt;dbl&gt;</th><th scope=col>&lt;dbl&gt;</th><th scope=col>&lt;dbl&gt;</th></tr>\n",
       "</thead>\n",
       "<tbody>\n",
       "\t<tr><th scope=row>F14_Common_Bream</th><td>0</td><td>2</td><td>0</td><td>812</td><td>0</td><td>14</td><td> 16</td><td>0</td><td>2613</td></tr>\n",
       "\t<tr><th scope=row>F44_Fallow_Deer</th><td>0</td><td>0</td><td>0</td><td>  0</td><td>0</td><td> 0</td><td>570</td><td>0</td><td>5767</td></tr>\n",
       "\t<tr><th scope=row>⋮</th><td>⋮</td><td>⋮</td><td>⋮</td><td>⋮</td><td>⋮</td><td>⋮</td><td>⋮</td><td>⋮</td><td>⋮</td></tr>\n",
       "\t<tr><th scope=row>X405_Nile_Crocodile</th><td>0</td><td>3</td><td>10</td><td>51</td><td>375</td><td>16</td><td>0</td><td>0</td><td> 30</td></tr>\n",
       "\t<tr><th scope=row>X67_European_Roe</th><td>0</td><td>0</td><td> 0</td><td> 0</td><td>  0</td><td> 0</td><td>0</td><td>0</td><td>721</td></tr>\n",
       "</tbody>\n",
       "</table>\n"
      ],
      "text/latex": [
       "A data.frame: 110 × 9\n",
       "\\begin{tabular}{r|lllllllll}\n",
       "  & cd161a55fa07f62886e28ad1665f4153 & 5887dc080d027d30580310a1eb1f3166 & dc2d500b34b0dc2adb147b190d3b337a & 00e469ce4b434d2939579272171847d0 & e569d58f2813d042dd490d75c6149977 & 6656e50d37ef6857fdcf857d1f735353 & 2987f396047df01622b365b3b667a4eb & 75f3ea1df98051a1b49107173aa51a32 & 1578a874797e43b052a66b2fb5ef9e4a\\\\\n",
       "  & <dbl> & <dbl> & <dbl> & <dbl> & <dbl> & <dbl> & <dbl> & <dbl> & <dbl>\\\\\n",
       "\\hline\n",
       "\tF14\\_Common\\_Bream & 0 & 2 & 0 & 812 & 0 & 14 &  16 & 0 & 2613\\\\\n",
       "\tF44\\_Fallow\\_Deer & 0 & 0 & 0 &   0 & 0 &  0 & 570 & 0 & 5767\\\\\n",
       "\t⋮ & ⋮ & ⋮ & ⋮ & ⋮ & ⋮ & ⋮ & ⋮ & ⋮ & ⋮\\\\\n",
       "\tX405\\_Nile\\_Crocodile & 0 & 3 & 10 & 51 & 375 & 16 & 0 & 0 &  30\\\\\n",
       "\tX67\\_European\\_Roe & 0 & 0 &  0 &  0 &   0 &  0 & 0 & 0 & 721\\\\\n",
       "\\end{tabular}\n"
      ],
      "text/markdown": [
       "\n",
       "A data.frame: 110 × 9\n",
       "\n",
       "| <!--/--> | cd161a55fa07f62886e28ad1665f4153 &lt;dbl&gt; | 5887dc080d027d30580310a1eb1f3166 &lt;dbl&gt; | dc2d500b34b0dc2adb147b190d3b337a &lt;dbl&gt; | 00e469ce4b434d2939579272171847d0 &lt;dbl&gt; | e569d58f2813d042dd490d75c6149977 &lt;dbl&gt; | 6656e50d37ef6857fdcf857d1f735353 &lt;dbl&gt; | 2987f396047df01622b365b3b667a4eb &lt;dbl&gt; | 75f3ea1df98051a1b49107173aa51a32 &lt;dbl&gt; | 1578a874797e43b052a66b2fb5ef9e4a &lt;dbl&gt; |\n",
       "|---|---|---|---|---|---|---|---|---|---|\n",
       "| F14_Common_Bream | 0 | 2 | 0 | 812 | 0 | 14 |  16 | 0 | 2613 |\n",
       "| F44_Fallow_Deer | 0 | 0 | 0 |   0 | 0 |  0 | 570 | 0 | 5767 |\n",
       "| ⋮ | ⋮ | ⋮ | ⋮ | ⋮ | ⋮ | ⋮ | ⋮ | ⋮ | ⋮ |\n",
       "| X405_Nile_Crocodile | 0 | 3 | 10 | 51 | 375 | 16 | 0 | 0 |  30 |\n",
       "| X67_European_Roe | 0 | 0 |  0 |  0 |   0 |  0 | 0 | 0 | 721 |\n",
       "\n"
      ],
      "text/plain": [
       "                    cd161a55fa07f62886e28ad1665f4153\n",
       "F14_Common_Bream    0                               \n",
       "F44_Fallow_Deer     0                               \n",
       "⋮                   ⋮                               \n",
       "X405_Nile_Crocodile 0                               \n",
       "X67_European_Roe    0                               \n",
       "                    5887dc080d027d30580310a1eb1f3166\n",
       "F14_Common_Bream    2                               \n",
       "F44_Fallow_Deer     0                               \n",
       "⋮                   ⋮                               \n",
       "X405_Nile_Crocodile 3                               \n",
       "X67_European_Roe    0                               \n",
       "                    dc2d500b34b0dc2adb147b190d3b337a\n",
       "F14_Common_Bream    0                               \n",
       "F44_Fallow_Deer     0                               \n",
       "⋮                   ⋮                               \n",
       "X405_Nile_Crocodile 10                              \n",
       "X67_European_Roe     0                              \n",
       "                    00e469ce4b434d2939579272171847d0\n",
       "F14_Common_Bream    812                             \n",
       "F44_Fallow_Deer       0                             \n",
       "⋮                   ⋮                               \n",
       "X405_Nile_Crocodile 51                              \n",
       "X67_European_Roe     0                              \n",
       "                    e569d58f2813d042dd490d75c6149977\n",
       "F14_Common_Bream    0                               \n",
       "F44_Fallow_Deer     0                               \n",
       "⋮                   ⋮                               \n",
       "X405_Nile_Crocodile 375                             \n",
       "X67_European_Roe      0                             \n",
       "                    6656e50d37ef6857fdcf857d1f735353\n",
       "F14_Common_Bream    14                              \n",
       "F44_Fallow_Deer      0                              \n",
       "⋮                   ⋮                               \n",
       "X405_Nile_Crocodile 16                              \n",
       "X67_European_Roe     0                              \n",
       "                    2987f396047df01622b365b3b667a4eb\n",
       "F14_Common_Bream     16                             \n",
       "F44_Fallow_Deer     570                             \n",
       "⋮                   ⋮                               \n",
       "X405_Nile_Crocodile 0                               \n",
       "X67_European_Roe    0                               \n",
       "                    75f3ea1df98051a1b49107173aa51a32\n",
       "F14_Common_Bream    0                               \n",
       "F44_Fallow_Deer     0                               \n",
       "⋮                   ⋮                               \n",
       "X405_Nile_Crocodile 0                               \n",
       "X67_European_Roe    0                               \n",
       "                    1578a874797e43b052a66b2fb5ef9e4a\n",
       "F14_Common_Bream    2613                            \n",
       "F44_Fallow_Deer     5767                            \n",
       "⋮                   ⋮                               \n",
       "X405_Nile_Crocodile  30                             \n",
       "X67_European_Roe    721                             "
      ]
     },
     "metadata": {},
     "output_type": "display_data"
    }
   ],
   "source": [
    "# otu table\n",
    "otu = physeq_arch_SpecD %>%\n",
    "    phyloseq2df(otu_table) %>%\n",
    "    as.data.frame\n",
    "rownames(otu) = otu$OTU\n",
    "otu$OTU = NULL\n",
    "otu = otu %>% t %>% as.data.frame\n",
    "otu"
   ]
  },
  {
   "cell_type": "markdown",
   "metadata": {},
   "source": [
    "## Zero estimation"
   ]
  },
  {
   "cell_type": "code",
   "execution_count": 12,
   "metadata": {
    "ExecuteTime": {
     "end_time": "2020-06-18T11:54:43.518513Z",
     "start_time": "2020-06-18T11:54:43.464Z"
    }
   },
   "outputs": [
    {
     "data": {
      "text/html": [
       "<table>\n",
       "<caption>A matrix: 1 × 8 of type dbl</caption>\n",
       "<thead>\n",
       "\t<tr><th></th><th scope=col>Min.</th><th scope=col>1st Qu.</th><th scope=col>Median</th><th scope=col>Mean</th><th scope=col>3rd Qu.</th><th scope=col>Max.</th><th scope=col>sd</th><th scope=col>sd_err_of_mean</th></tr>\n",
       "</thead>\n",
       "<tbody>\n",
       "\t<tr><th scope=row>sparsity</th><td>2.727273</td><td>51.81818</td><td>92.72727</td><td>71.41414</td><td>94.54545</td><td>98.18182</td><td>36.767</td><td>15.01</td></tr>\n",
       "</tbody>\n",
       "</table>\n"
      ],
      "text/latex": [
       "A matrix: 1 × 8 of type dbl\n",
       "\\begin{tabular}{r|llllllll}\n",
       "  & Min. & 1st Qu. & Median & Mean & 3rd Qu. & Max. & sd & sd\\_err\\_of\\_mean\\\\\n",
       "\\hline\n",
       "\tsparsity & 2.727273 & 51.81818 & 92.72727 & 71.41414 & 94.54545 & 98.18182 & 36.767 & 15.01\\\\\n",
       "\\end{tabular}\n"
      ],
      "text/markdown": [
       "\n",
       "A matrix: 1 × 8 of type dbl\n",
       "\n",
       "| <!--/--> | Min. | 1st Qu. | Median | Mean | 3rd Qu. | Max. | sd | sd_err_of_mean |\n",
       "|---|---|---|---|---|---|---|---|---|\n",
       "| sparsity | 2.727273 | 51.81818 | 92.72727 | 71.41414 | 94.54545 | 98.18182 | 36.767 | 15.01 |\n",
       "\n"
      ],
      "text/plain": [
       "         Min.     1st Qu.  Median   Mean     3rd Qu.  Max.     sd    \n",
       "sparsity 2.727273 51.81818 92.72727 71.41414 94.54545 98.18182 36.767\n",
       "         sd_err_of_mean\n",
       "sparsity 15.01         "
      ]
     },
     "metadata": {},
     "output_type": "display_data"
    }
   ],
   "source": [
    "# sparsity (%)\n",
    "otu %>%\n",
    "    apply(2, function(x) sum(x == 0) / length(x) * 100) %>%\n",
    "    summary_x('sparsity')"
   ]
  },
  {
   "cell_type": "code",
   "execution_count": 13,
   "metadata": {
    "ExecuteTime": {
     "end_time": "2020-06-18T11:54:45.709624Z",
     "start_time": "2020-06-18T11:54:45.487Z"
    }
   },
   "outputs": [
    {
     "name": "stdout",
     "output_type": "stream",
     "text": [
      "No. corrected values:  237 \n"
     ]
    },
    {
     "data": {
      "text/html": [
       "<table>\n",
       "<caption>A data.frame: 110 × 9</caption>\n",
       "<thead>\n",
       "\t<tr><th></th><th scope=col>cd161a55fa07f62886e28ad1665f4153</th><th scope=col>5887dc080d027d30580310a1eb1f3166</th><th scope=col>dc2d500b34b0dc2adb147b190d3b337a</th><th scope=col>00e469ce4b434d2939579272171847d0</th><th scope=col>e569d58f2813d042dd490d75c6149977</th><th scope=col>6656e50d37ef6857fdcf857d1f735353</th><th scope=col>2987f396047df01622b365b3b667a4eb</th><th scope=col>75f3ea1df98051a1b49107173aa51a32</th><th scope=col>1578a874797e43b052a66b2fb5ef9e4a</th></tr>\n",
       "\t<tr><th></th><th scope=col>&lt;dbl&gt;</th><th scope=col>&lt;dbl&gt;</th><th scope=col>&lt;dbl&gt;</th><th scope=col>&lt;dbl&gt;</th><th scope=col>&lt;dbl&gt;</th><th scope=col>&lt;dbl&gt;</th><th scope=col>&lt;dbl&gt;</th><th scope=col>&lt;dbl&gt;</th><th scope=col>&lt;dbl&gt;</th></tr>\n",
       "</thead>\n",
       "<tbody>\n",
       "\t<tr><th scope=row>F14_Common_Bream</th><td>0.009311928</td><td>2.00000000</td><td>1.789753</td><td>812.000000</td><td>1.391459</td><td>14.00000000</td><td> 16</td><td>0.2619756</td><td>2613</td></tr>\n",
       "\t<tr><th scope=row>F44_Fallow_Deer</th><td>0.009374887</td><td>0.04562445</td><td>1.801853</td><td>  5.020784</td><td>2.552064</td><td> 0.09249889</td><td>570</td><td>0.2637468</td><td>5767</td></tr>\n",
       "\t<tr><th scope=row>⋮</th><td>⋮</td><td>⋮</td><td>⋮</td><td>⋮</td><td>⋮</td><td>⋮</td><td>⋮</td><td>⋮</td><td>⋮</td></tr>\n",
       "\t<tr><th scope=row>X405_Nile_Crocodile</th><td>0.007455791</td><td>3.00000000</td><td>10.0000000</td><td>51.0000000</td><td>375.0000000</td><td>16.00000000</td><td>0.01953328</td><td>0.2097563</td><td> 30</td></tr>\n",
       "\t<tr><th scope=row>X67_European_Roe</th><td>0.007933819</td><td>0.03861125</td><td> 0.5657115</td><td> 0.5717932</td><td>  0.2906424</td><td> 0.07828034</td><td>0.02909664</td><td>0.2232048</td><td>721</td></tr>\n",
       "</tbody>\n",
       "</table>\n"
      ],
      "text/latex": [
       "A data.frame: 110 × 9\n",
       "\\begin{tabular}{r|lllllllll}\n",
       "  & cd161a55fa07f62886e28ad1665f4153 & 5887dc080d027d30580310a1eb1f3166 & dc2d500b34b0dc2adb147b190d3b337a & 00e469ce4b434d2939579272171847d0 & e569d58f2813d042dd490d75c6149977 & 6656e50d37ef6857fdcf857d1f735353 & 2987f396047df01622b365b3b667a4eb & 75f3ea1df98051a1b49107173aa51a32 & 1578a874797e43b052a66b2fb5ef9e4a\\\\\n",
       "  & <dbl> & <dbl> & <dbl> & <dbl> & <dbl> & <dbl> & <dbl> & <dbl> & <dbl>\\\\\n",
       "\\hline\n",
       "\tF14\\_Common\\_Bream & 0.009311928 & 2.00000000 & 1.789753 & 812.000000 & 1.391459 & 14.00000000 &  16 & 0.2619756 & 2613\\\\\n",
       "\tF44\\_Fallow\\_Deer & 0.009374887 & 0.04562445 & 1.801853 &   5.020784 & 2.552064 &  0.09249889 & 570 & 0.2637468 & 5767\\\\\n",
       "\t⋮ & ⋮ & ⋮ & ⋮ & ⋮ & ⋮ & ⋮ & ⋮ & ⋮ & ⋮\\\\\n",
       "\tX405\\_Nile\\_Crocodile & 0.007455791 & 3.00000000 & 10.0000000 & 51.0000000 & 375.0000000 & 16.00000000 & 0.01953328 & 0.2097563 &  30\\\\\n",
       "\tX67\\_European\\_Roe & 0.007933819 & 0.03861125 &  0.5657115 &  0.5717932 &   0.2906424 &  0.07828034 & 0.02909664 & 0.2232048 & 721\\\\\n",
       "\\end{tabular}\n"
      ],
      "text/markdown": [
       "\n",
       "A data.frame: 110 × 9\n",
       "\n",
       "| <!--/--> | cd161a55fa07f62886e28ad1665f4153 &lt;dbl&gt; | 5887dc080d027d30580310a1eb1f3166 &lt;dbl&gt; | dc2d500b34b0dc2adb147b190d3b337a &lt;dbl&gt; | 00e469ce4b434d2939579272171847d0 &lt;dbl&gt; | e569d58f2813d042dd490d75c6149977 &lt;dbl&gt; | 6656e50d37ef6857fdcf857d1f735353 &lt;dbl&gt; | 2987f396047df01622b365b3b667a4eb &lt;dbl&gt; | 75f3ea1df98051a1b49107173aa51a32 &lt;dbl&gt; | 1578a874797e43b052a66b2fb5ef9e4a &lt;dbl&gt; |\n",
       "|---|---|---|---|---|---|---|---|---|---|\n",
       "| F14_Common_Bream | 0.009311928 | 2.00000000 | 1.789753 | 812.000000 | 1.391459 | 14.00000000 |  16 | 0.2619756 | 2613 |\n",
       "| F44_Fallow_Deer | 0.009374887 | 0.04562445 | 1.801853 |   5.020784 | 2.552064 |  0.09249889 | 570 | 0.2637468 | 5767 |\n",
       "| ⋮ | ⋮ | ⋮ | ⋮ | ⋮ | ⋮ | ⋮ | ⋮ | ⋮ | ⋮ |\n",
       "| X405_Nile_Crocodile | 0.007455791 | 3.00000000 | 10.0000000 | 51.0000000 | 375.0000000 | 16.00000000 | 0.01953328 | 0.2097563 |  30 |\n",
       "| X67_European_Roe | 0.007933819 | 0.03861125 |  0.5657115 |  0.5717932 |   0.2906424 |  0.07828034 | 0.02909664 | 0.2232048 | 721 |\n",
       "\n"
      ],
      "text/plain": [
       "                    cd161a55fa07f62886e28ad1665f4153\n",
       "F14_Common_Bream    0.009311928                     \n",
       "F44_Fallow_Deer     0.009374887                     \n",
       "⋮                   ⋮                               \n",
       "X405_Nile_Crocodile 0.007455791                     \n",
       "X67_European_Roe    0.007933819                     \n",
       "                    5887dc080d027d30580310a1eb1f3166\n",
       "F14_Common_Bream    2.00000000                      \n",
       "F44_Fallow_Deer     0.04562445                      \n",
       "⋮                   ⋮                               \n",
       "X405_Nile_Crocodile 3.00000000                      \n",
       "X67_European_Roe    0.03861125                      \n",
       "                    dc2d500b34b0dc2adb147b190d3b337a\n",
       "F14_Common_Bream    1.789753                        \n",
       "F44_Fallow_Deer     1.801853                        \n",
       "⋮                   ⋮                               \n",
       "X405_Nile_Crocodile 10.0000000                      \n",
       "X67_European_Roe     0.5657115                      \n",
       "                    00e469ce4b434d2939579272171847d0\n",
       "F14_Common_Bream    812.000000                      \n",
       "F44_Fallow_Deer       5.020784                      \n",
       "⋮                   ⋮                               \n",
       "X405_Nile_Crocodile 51.0000000                      \n",
       "X67_European_Roe     0.5717932                      \n",
       "                    e569d58f2813d042dd490d75c6149977\n",
       "F14_Common_Bream    1.391459                        \n",
       "F44_Fallow_Deer     2.552064                        \n",
       "⋮                   ⋮                               \n",
       "X405_Nile_Crocodile 375.0000000                     \n",
       "X67_European_Roe      0.2906424                     \n",
       "                    6656e50d37ef6857fdcf857d1f735353\n",
       "F14_Common_Bream    14.00000000                     \n",
       "F44_Fallow_Deer      0.09249889                     \n",
       "⋮                   ⋮                               \n",
       "X405_Nile_Crocodile 16.00000000                     \n",
       "X67_European_Roe     0.07828034                     \n",
       "                    2987f396047df01622b365b3b667a4eb\n",
       "F14_Common_Bream     16                             \n",
       "F44_Fallow_Deer     570                             \n",
       "⋮                   ⋮                               \n",
       "X405_Nile_Crocodile 0.01953328                      \n",
       "X67_European_Roe    0.02909664                      \n",
       "                    75f3ea1df98051a1b49107173aa51a32\n",
       "F14_Common_Bream    0.2619756                       \n",
       "F44_Fallow_Deer     0.2637468                       \n",
       "⋮                   ⋮                               \n",
       "X405_Nile_Crocodile 0.2097563                       \n",
       "X67_European_Roe    0.2232048                       \n",
       "                    1578a874797e43b052a66b2fb5ef9e4a\n",
       "F14_Common_Bream    2613                            \n",
       "F44_Fallow_Deer     5767                            \n",
       "⋮                   ⋮                               \n",
       "X405_Nile_Crocodile  30                             \n",
       "X67_European_Roe    721                             "
      ]
     },
     "metadata": {},
     "output_type": "display_data"
    }
   ],
   "source": [
    "# inferring zeros\n",
    "## warning: a bit slow\n",
    "otu = cmultRepl(otu, output = 'p-counts')\n",
    "otu"
   ]
  },
  {
   "cell_type": "code",
   "execution_count": 14,
   "metadata": {
    "ExecuteTime": {
     "end_time": "2020-06-18T11:54:51.843257Z",
     "start_time": "2020-06-18T11:54:51.790Z"
    }
   },
   "outputs": [
    {
     "data": {
      "text/html": [
       "<table>\n",
       "<caption>A matrix: 1 × 8 of type dbl</caption>\n",
       "<thead>\n",
       "\t<tr><th></th><th scope=col>Min.</th><th scope=col>1st Qu.</th><th scope=col>Median</th><th scope=col>Mean</th><th scope=col>3rd Qu.</th><th scope=col>Max.</th><th scope=col>sd</th><th scope=col>sd_err_of_mean</th></tr>\n",
       "</thead>\n",
       "<tbody>\n",
       "\t<tr><th scope=row>sparsity</th><td>0</td><td>0</td><td>0</td><td>0</td><td>0</td><td>0</td><td>0</td><td>0</td></tr>\n",
       "</tbody>\n",
       "</table>\n"
      ],
      "text/latex": [
       "A matrix: 1 × 8 of type dbl\n",
       "\\begin{tabular}{r|llllllll}\n",
       "  & Min. & 1st Qu. & Median & Mean & 3rd Qu. & Max. & sd & sd\\_err\\_of\\_mean\\\\\n",
       "\\hline\n",
       "\tsparsity & 0 & 0 & 0 & 0 & 0 & 0 & 0 & 0\\\\\n",
       "\\end{tabular}\n"
      ],
      "text/markdown": [
       "\n",
       "A matrix: 1 × 8 of type dbl\n",
       "\n",
       "| <!--/--> | Min. | 1st Qu. | Median | Mean | 3rd Qu. | Max. | sd | sd_err_of_mean |\n",
       "|---|---|---|---|---|---|---|---|---|\n",
       "| sparsity | 0 | 0 | 0 | 0 | 0 | 0 | 0 | 0 |\n",
       "\n"
      ],
      "text/plain": [
       "         Min. 1st Qu. Median Mean 3rd Qu. Max. sd sd_err_of_mean\n",
       "sparsity 0    0       0      0    0       0    0  0             "
      ]
     },
     "metadata": {},
     "output_type": "display_data"
    }
   ],
   "source": [
    "# check\n",
    "## sparsity (%)\n",
    "otu %>%\n",
    "    apply(1, function(x) sum(x == 0) / length(x) * 100) %>%\n",
    "    summary_x('sparsity')"
   ]
  },
  {
   "cell_type": "markdown",
   "metadata": {},
   "source": [
    "## clr transformation"
   ]
  },
  {
   "cell_type": "code",
   "execution_count": 15,
   "metadata": {
    "ExecuteTime": {
     "end_time": "2020-06-18T11:54:54.223288Z",
     "start_time": "2020-06-18T11:54:53.926Z"
    }
   },
   "outputs": [
    {
     "data": {
      "text/html": [
       "<table>\n",
       "<caption>A data.frame: 110 × 9</caption>\n",
       "<thead>\n",
       "\t<tr><th></th><th scope=col>cd161a55fa07f62886e28ad1665f4153</th><th scope=col>5887dc080d027d30580310a1eb1f3166</th><th scope=col>dc2d500b34b0dc2adb147b190d3b337a</th><th scope=col>00e469ce4b434d2939579272171847d0</th><th scope=col>e569d58f2813d042dd490d75c6149977</th><th scope=col>6656e50d37ef6857fdcf857d1f735353</th><th scope=col>2987f396047df01622b365b3b667a4eb</th><th scope=col>75f3ea1df98051a1b49107173aa51a32</th><th scope=col>1578a874797e43b052a66b2fb5ef9e4a</th></tr>\n",
       "\t<tr><th></th><th scope=col>&lt;dbl&gt;</th><th scope=col>&lt;dbl&gt;</th><th scope=col>&lt;dbl&gt;</th><th scope=col>&lt;dbl&gt;</th><th scope=col>&lt;dbl&gt;</th><th scope=col>&lt;dbl&gt;</th><th scope=col>&lt;dbl&gt;</th><th scope=col>&lt;dbl&gt;</th><th scope=col>&lt;dbl&gt;</th></tr>\n",
       "</thead>\n",
       "<tbody>\n",
       "\t<tr><th scope=row>F14_Common_Bream</th><td>-6.406350</td><td>-1.036743</td><td>-1.1478132</td><td>4.969610</td><td>-1.3995375</td><td> 0.9091667</td><td>1.042698</td><td>-3.069395</td><td>6.138364</td></tr>\n",
       "\t<tr><th scope=row>F44_Fallow_Deer</th><td>-5.411331</td><td>-3.828922</td><td>-0.1527944</td><td>0.871976</td><td> 0.1952922</td><td>-3.1221688</td><td>5.604026</td><td>-2.074376</td><td>7.918297</td></tr>\n",
       "\t<tr><th scope=row>⋮</th><td>⋮</td><td>⋮</td><td>⋮</td><td>⋮</td><td>⋮</td><td>⋮</td><td>⋮</td><td>⋮</td><td>⋮</td></tr>\n",
       "\t<tr><th scope=row>X405_Nile_Crocodile</th><td>-5.902934</td><td> 0.0944427</td><td>1.2984155</td><td>2.9276560</td><td>4.92275643</td><td> 1.768419</td><td>-4.939805</td><td>-2.5659787</td><td>2.397028</td></tr>\n",
       "\t<tr><th scope=row>X67_European_Roe</th><td>-3.563425</td><td>-1.9810159</td><td>0.7035247</td><td>0.7142178</td><td>0.03753398</td><td>-1.274263</td><td>-2.263937</td><td>-0.2264701</td><td>7.853835</td></tr>\n",
       "</tbody>\n",
       "</table>\n"
      ],
      "text/latex": [
       "A data.frame: 110 × 9\n",
       "\\begin{tabular}{r|lllllllll}\n",
       "  & cd161a55fa07f62886e28ad1665f4153 & 5887dc080d027d30580310a1eb1f3166 & dc2d500b34b0dc2adb147b190d3b337a & 00e469ce4b434d2939579272171847d0 & e569d58f2813d042dd490d75c6149977 & 6656e50d37ef6857fdcf857d1f735353 & 2987f396047df01622b365b3b667a4eb & 75f3ea1df98051a1b49107173aa51a32 & 1578a874797e43b052a66b2fb5ef9e4a\\\\\n",
       "  & <dbl> & <dbl> & <dbl> & <dbl> & <dbl> & <dbl> & <dbl> & <dbl> & <dbl>\\\\\n",
       "\\hline\n",
       "\tF14\\_Common\\_Bream & -6.406350 & -1.036743 & -1.1478132 & 4.969610 & -1.3995375 &  0.9091667 & 1.042698 & -3.069395 & 6.138364\\\\\n",
       "\tF44\\_Fallow\\_Deer & -5.411331 & -3.828922 & -0.1527944 & 0.871976 &  0.1952922 & -3.1221688 & 5.604026 & -2.074376 & 7.918297\\\\\n",
       "\t⋮ & ⋮ & ⋮ & ⋮ & ⋮ & ⋮ & ⋮ & ⋮ & ⋮ & ⋮\\\\\n",
       "\tX405\\_Nile\\_Crocodile & -5.902934 &  0.0944427 & 1.2984155 & 2.9276560 & 4.92275643 &  1.768419 & -4.939805 & -2.5659787 & 2.397028\\\\\n",
       "\tX67\\_European\\_Roe & -3.563425 & -1.9810159 & 0.7035247 & 0.7142178 & 0.03753398 & -1.274263 & -2.263937 & -0.2264701 & 7.853835\\\\\n",
       "\\end{tabular}\n"
      ],
      "text/markdown": [
       "\n",
       "A data.frame: 110 × 9\n",
       "\n",
       "| <!--/--> | cd161a55fa07f62886e28ad1665f4153 &lt;dbl&gt; | 5887dc080d027d30580310a1eb1f3166 &lt;dbl&gt; | dc2d500b34b0dc2adb147b190d3b337a &lt;dbl&gt; | 00e469ce4b434d2939579272171847d0 &lt;dbl&gt; | e569d58f2813d042dd490d75c6149977 &lt;dbl&gt; | 6656e50d37ef6857fdcf857d1f735353 &lt;dbl&gt; | 2987f396047df01622b365b3b667a4eb &lt;dbl&gt; | 75f3ea1df98051a1b49107173aa51a32 &lt;dbl&gt; | 1578a874797e43b052a66b2fb5ef9e4a &lt;dbl&gt; |\n",
       "|---|---|---|---|---|---|---|---|---|---|\n",
       "| F14_Common_Bream | -6.406350 | -1.036743 | -1.1478132 | 4.969610 | -1.3995375 |  0.9091667 | 1.042698 | -3.069395 | 6.138364 |\n",
       "| F44_Fallow_Deer | -5.411331 | -3.828922 | -0.1527944 | 0.871976 |  0.1952922 | -3.1221688 | 5.604026 | -2.074376 | 7.918297 |\n",
       "| ⋮ | ⋮ | ⋮ | ⋮ | ⋮ | ⋮ | ⋮ | ⋮ | ⋮ | ⋮ |\n",
       "| X405_Nile_Crocodile | -5.902934 |  0.0944427 | 1.2984155 | 2.9276560 | 4.92275643 |  1.768419 | -4.939805 | -2.5659787 | 2.397028 |\n",
       "| X67_European_Roe | -3.563425 | -1.9810159 | 0.7035247 | 0.7142178 | 0.03753398 | -1.274263 | -2.263937 | -0.2264701 | 7.853835 |\n",
       "\n"
      ],
      "text/plain": [
       "                    cd161a55fa07f62886e28ad1665f4153\n",
       "F14_Common_Bream    -6.406350                       \n",
       "F44_Fallow_Deer     -5.411331                       \n",
       "⋮                   ⋮                               \n",
       "X405_Nile_Crocodile -5.902934                       \n",
       "X67_European_Roe    -3.563425                       \n",
       "                    5887dc080d027d30580310a1eb1f3166\n",
       "F14_Common_Bream    -1.036743                       \n",
       "F44_Fallow_Deer     -3.828922                       \n",
       "⋮                   ⋮                               \n",
       "X405_Nile_Crocodile  0.0944427                      \n",
       "X67_European_Roe    -1.9810159                      \n",
       "                    dc2d500b34b0dc2adb147b190d3b337a\n",
       "F14_Common_Bream    -1.1478132                      \n",
       "F44_Fallow_Deer     -0.1527944                      \n",
       "⋮                   ⋮                               \n",
       "X405_Nile_Crocodile 1.2984155                       \n",
       "X67_European_Roe    0.7035247                       \n",
       "                    00e469ce4b434d2939579272171847d0\n",
       "F14_Common_Bream    4.969610                        \n",
       "F44_Fallow_Deer     0.871976                        \n",
       "⋮                   ⋮                               \n",
       "X405_Nile_Crocodile 2.9276560                       \n",
       "X67_European_Roe    0.7142178                       \n",
       "                    e569d58f2813d042dd490d75c6149977\n",
       "F14_Common_Bream    -1.3995375                      \n",
       "F44_Fallow_Deer      0.1952922                      \n",
       "⋮                   ⋮                               \n",
       "X405_Nile_Crocodile 4.92275643                      \n",
       "X67_European_Roe    0.03753398                      \n",
       "                    6656e50d37ef6857fdcf857d1f735353\n",
       "F14_Common_Bream     0.9091667                      \n",
       "F44_Fallow_Deer     -3.1221688                      \n",
       "⋮                   ⋮                               \n",
       "X405_Nile_Crocodile  1.768419                       \n",
       "X67_European_Roe    -1.274263                       \n",
       "                    2987f396047df01622b365b3b667a4eb\n",
       "F14_Common_Bream    1.042698                        \n",
       "F44_Fallow_Deer     5.604026                        \n",
       "⋮                   ⋮                               \n",
       "X405_Nile_Crocodile -4.939805                       \n",
       "X67_European_Roe    -2.263937                       \n",
       "                    75f3ea1df98051a1b49107173aa51a32\n",
       "F14_Common_Bream    -3.069395                       \n",
       "F44_Fallow_Deer     -2.074376                       \n",
       "⋮                   ⋮                               \n",
       "X405_Nile_Crocodile -2.5659787                      \n",
       "X67_European_Roe    -0.2264701                      \n",
       "                    1578a874797e43b052a66b2fb5ef9e4a\n",
       "F14_Common_Bream    6.138364                        \n",
       "F44_Fallow_Deer     7.918297                        \n",
       "⋮                   ⋮                               \n",
       "X405_Nile_Crocodile 2.397028                        \n",
       "X67_European_Roe    7.853835                        "
      ]
     },
     "metadata": {},
     "output_type": "display_data"
    }
   ],
   "source": [
    "# transforming\n",
    "otu = compositions::clr(otu) %>%\n",
    "    as.data.frame\n",
    "otu"
   ]
  },
  {
   "cell_type": "code",
   "execution_count": 16,
   "metadata": {
    "ExecuteTime": {
     "end_time": "2020-06-18T11:54:56.421086Z",
     "start_time": "2020-06-18T11:54:56.351Z"
    }
   },
   "outputs": [
    {
     "data": {
      "text/plain": [
       "      Min.    1st Qu.     Median       Mean    3rd Qu.       Max. \n",
       "-4.885e-15 -8.188e-16  9.714e-17 -2.422e-17  8.882e-16  3.886e-15 "
      ]
     },
     "metadata": {},
     "output_type": "display_data"
    },
    {
     "data": {
      "text/plain": [
       "   Min. 1st Qu.  Median    Mean 3rd Qu.    Max. \n",
       "-501.48 -241.81   28.45    0.00   99.93  738.70 "
      ]
     },
     "metadata": {},
     "output_type": "display_data"
    }
   ],
   "source": [
    "# summary\n",
    "otu %>% rowSums %>% summary\n",
    "otu %>% colSums %>% summary"
   ]
  },
  {
   "cell_type": "markdown",
   "metadata": {},
   "source": [
    "## New phyloseq obj."
   ]
  },
  {
   "cell_type": "code",
   "execution_count": 17,
   "metadata": {
    "ExecuteTime": {
     "end_time": "2020-06-18T11:55:03.065241Z",
     "start_time": "2020-06-18T11:55:02.959Z"
    }
   },
   "outputs": [
    {
     "data": {
      "text/plain": [
       "phyloseq-class experiment-level object\n",
       "otu_table()   OTU Table:         [ 9 taxa and 110 samples ]\n",
       "sample_data() Sample Data:       [ 110 samples by 88 sample variables ]\n",
       "tax_table()   Taxonomy Table:    [ 9 taxa by 7 taxonomic ranks ]\n",
       "phy_tree()    Phylogenetic Tree: [ 9 tips and 8 internal nodes ]"
      ]
     },
     "metadata": {},
     "output_type": "display_data"
    }
   ],
   "source": [
    "# new phyloseq object\n",
    "physeq_arch_SpecD_clr = phyloseq(otu_table(otu %>% t %>% as.data.frame, \n",
    "                                           taxa_are_rows=TRUE),\n",
    "                                tax_table(physeq_arch_SpecD),\n",
    "                                sample_data(physeq_arch_SpecD),\n",
    "                                phy_tree(physeq_arch_SpecD))\n",
    "physeq_arch_SpecD_clr"
   ]
  },
  {
   "cell_type": "code",
   "execution_count": 18,
   "metadata": {
    "ExecuteTime": {
     "end_time": "2020-06-18T11:55:09.700851Z",
     "start_time": "2020-06-18T11:55:09.640Z"
    }
   },
   "outputs": [
    {
     "name": "stdout",
     "output_type": "stream",
     "text": [
      "File written: /ebio/abt3_projects/Georg_animal_feces/data/16S_arch/MiSeq-Runs-116-122-126-189-190/LLA/merged/phyloseq/physeq_arch_SpecD_clr-class.RDS \n"
     ]
    }
   ],
   "source": [
    "# writing new file\n",
    "physeq_arch_SpecD_clr_file = file.path(dirname(physeq_arch_SpecD_file),\n",
    "                                      'physeq_arch_SpecD_clr-class.RDS')\n",
    "saveRDS(physeq_arch_SpecD_clr, physeq_arch_SpecD_clr_file)\n",
    "cat('File written:', physeq_arch_SpecD_clr_file, '\\n')"
   ]
  },
  {
   "cell_type": "markdown",
   "metadata": {},
   "source": [
    "# IndD"
   ]
  },
  {
   "cell_type": "markdown",
   "metadata": {},
   "source": [
    "## Aggregating"
   ]
  },
  {
   "cell_type": "code",
   "execution_count": 19,
   "metadata": {
    "ExecuteTime": {
     "end_time": "2020-06-18T11:55:33.331358Z",
     "start_time": "2020-06-18T11:55:32.129Z"
    }
   },
   "outputs": [
    {
     "data": {
      "text/plain": [
       "phyloseq-class experiment-level object\n",
       "otu_table()   OTU Table:         [ 11 taxa and 185 samples ]\n",
       "sample_data() Sample Data:       [ 185 samples by 88 sample variables ]\n",
       "tax_table()   Taxonomy Table:    [ 11 taxa by 7 taxonomic ranks ]\n",
       "phy_tree()    Phylogenetic Tree: [ 11 tips and 10 internal nodes ]"
      ]
     },
     "metadata": {},
     "output_type": "display_data"
    }
   ],
   "source": [
    "physeq_arch_IndD = tax_glom(physeq_arch_IndD, taxrank='Class')\n",
    "physeq_arch_IndD"
   ]
  },
  {
   "cell_type": "markdown",
   "metadata": {},
   "source": [
    "## Filter by sparsity"
   ]
  },
  {
   "cell_type": "code",
   "execution_count": 20,
   "metadata": {
    "ExecuteTime": {
     "end_time": "2020-06-18T11:55:35.051361Z",
     "start_time": "2020-06-18T11:55:34.960Z"
    }
   },
   "outputs": [
    {
     "data": {
      "text/plain": [
       "phyloseq-class experiment-level object\n",
       "otu_table()   OTU Table:         [ 9 taxa and 185 samples ]\n",
       "sample_data() Sample Data:       [ 185 samples by 88 sample variables ]\n",
       "tax_table()   Taxonomy Table:    [ 9 taxa by 7 taxonomic ranks ]\n",
       "phy_tree()    Phylogenetic Tree: [ 9 tips and 8 internal nodes ]"
      ]
     },
     "metadata": {},
     "output_type": "display_data"
    }
   ],
   "source": [
    "# filter by sparsity\n",
    "physeq_arch_IndD = physeq_arch_IndD %>%\n",
    "    filter_taxa(function(x) sum(x > 0) >= 2, TRUE) %>%\n",
    "    prune_samples(sample_sums(.) > 0, .)\n",
    "physeq_arch_IndD"
   ]
  },
  {
   "cell_type": "code",
   "execution_count": 21,
   "metadata": {
    "ExecuteTime": {
     "end_time": "2020-06-18T11:55:38.816354Z",
     "start_time": "2020-06-18T11:55:38.184Z"
    }
   },
   "outputs": [
    {
     "data": {
      "text/html": [
       "<table>\n",
       "<caption>A data.frame: 185 × 9</caption>\n",
       "<thead>\n",
       "\t<tr><th></th><th scope=col>cd161a55fa07f62886e28ad1665f4153</th><th scope=col>5887dc080d027d30580310a1eb1f3166</th><th scope=col>861c85239d21bf467158a1a867489ebf</th><th scope=col>16c9cf055840535f82770aa57f56486a</th><th scope=col>e569d58f2813d042dd490d75c6149977</th><th scope=col>f7b992dfabd26d5316abbe75dba81cad</th><th scope=col>2987f396047df01622b365b3b667a4eb</th><th scope=col>75f3ea1df98051a1b49107173aa51a32</th><th scope=col>1578a874797e43b052a66b2fb5ef9e4a</th></tr>\n",
       "\t<tr><th></th><th scope=col>&lt;dbl&gt;</th><th scope=col>&lt;dbl&gt;</th><th scope=col>&lt;dbl&gt;</th><th scope=col>&lt;dbl&gt;</th><th scope=col>&lt;dbl&gt;</th><th scope=col>&lt;dbl&gt;</th><th scope=col>&lt;dbl&gt;</th><th scope=col>&lt;dbl&gt;</th><th scope=col>&lt;dbl&gt;</th></tr>\n",
       "</thead>\n",
       "<tbody>\n",
       "\t<tr><th scope=row>F14_Common_Bream</th><td>0</td><td>2</td><td>0</td><td>812</td><td>0</td><td>14</td><td>16</td><td>0</td><td>2613</td></tr>\n",
       "\t<tr><th scope=row>F35_Red_Deer</th><td>0</td><td>4</td><td>0</td><td>554</td><td>0</td><td> 0</td><td>81</td><td>0</td><td>1235</td></tr>\n",
       "\t<tr><th scope=row>⋮</th><td>⋮</td><td>⋮</td><td>⋮</td><td>⋮</td><td>⋮</td><td>⋮</td><td>⋮</td><td>⋮</td><td>⋮</td></tr>\n",
       "\t<tr><th scope=row>X431_Quagga</th><td>0</td><td>0</td><td>0</td><td>2136</td><td>0</td><td>0</td><td>267</td><td>0</td><td> 30</td></tr>\n",
       "\t<tr><th scope=row>X67_European_Roe</th><td>0</td><td>0</td><td>0</td><td>   0</td><td>0</td><td>0</td><td>  0</td><td>0</td><td>721</td></tr>\n",
       "</tbody>\n",
       "</table>\n"
      ],
      "text/latex": [
       "A data.frame: 185 × 9\n",
       "\\begin{tabular}{r|lllllllll}\n",
       "  & cd161a55fa07f62886e28ad1665f4153 & 5887dc080d027d30580310a1eb1f3166 & 861c85239d21bf467158a1a867489ebf & 16c9cf055840535f82770aa57f56486a & e569d58f2813d042dd490d75c6149977 & f7b992dfabd26d5316abbe75dba81cad & 2987f396047df01622b365b3b667a4eb & 75f3ea1df98051a1b49107173aa51a32 & 1578a874797e43b052a66b2fb5ef9e4a\\\\\n",
       "  & <dbl> & <dbl> & <dbl> & <dbl> & <dbl> & <dbl> & <dbl> & <dbl> & <dbl>\\\\\n",
       "\\hline\n",
       "\tF14\\_Common\\_Bream & 0 & 2 & 0 & 812 & 0 & 14 & 16 & 0 & 2613\\\\\n",
       "\tF35\\_Red\\_Deer & 0 & 4 & 0 & 554 & 0 &  0 & 81 & 0 & 1235\\\\\n",
       "\t⋮ & ⋮ & ⋮ & ⋮ & ⋮ & ⋮ & ⋮ & ⋮ & ⋮ & ⋮\\\\\n",
       "\tX431\\_Quagga & 0 & 0 & 0 & 2136 & 0 & 0 & 267 & 0 &  30\\\\\n",
       "\tX67\\_European\\_Roe & 0 & 0 & 0 &    0 & 0 & 0 &   0 & 0 & 721\\\\\n",
       "\\end{tabular}\n"
      ],
      "text/markdown": [
       "\n",
       "A data.frame: 185 × 9\n",
       "\n",
       "| <!--/--> | cd161a55fa07f62886e28ad1665f4153 &lt;dbl&gt; | 5887dc080d027d30580310a1eb1f3166 &lt;dbl&gt; | 861c85239d21bf467158a1a867489ebf &lt;dbl&gt; | 16c9cf055840535f82770aa57f56486a &lt;dbl&gt; | e569d58f2813d042dd490d75c6149977 &lt;dbl&gt; | f7b992dfabd26d5316abbe75dba81cad &lt;dbl&gt; | 2987f396047df01622b365b3b667a4eb &lt;dbl&gt; | 75f3ea1df98051a1b49107173aa51a32 &lt;dbl&gt; | 1578a874797e43b052a66b2fb5ef9e4a &lt;dbl&gt; |\n",
       "|---|---|---|---|---|---|---|---|---|---|\n",
       "| F14_Common_Bream | 0 | 2 | 0 | 812 | 0 | 14 | 16 | 0 | 2613 |\n",
       "| F35_Red_Deer | 0 | 4 | 0 | 554 | 0 |  0 | 81 | 0 | 1235 |\n",
       "| ⋮ | ⋮ | ⋮ | ⋮ | ⋮ | ⋮ | ⋮ | ⋮ | ⋮ | ⋮ |\n",
       "| X431_Quagga | 0 | 0 | 0 | 2136 | 0 | 0 | 267 | 0 |  30 |\n",
       "| X67_European_Roe | 0 | 0 | 0 |    0 | 0 | 0 |   0 | 0 | 721 |\n",
       "\n"
      ],
      "text/plain": [
       "                 cd161a55fa07f62886e28ad1665f4153\n",
       "F14_Common_Bream 0                               \n",
       "F35_Red_Deer     0                               \n",
       "⋮                ⋮                               \n",
       "X431_Quagga      0                               \n",
       "X67_European_Roe 0                               \n",
       "                 5887dc080d027d30580310a1eb1f3166\n",
       "F14_Common_Bream 2                               \n",
       "F35_Red_Deer     4                               \n",
       "⋮                ⋮                               \n",
       "X431_Quagga      0                               \n",
       "X67_European_Roe 0                               \n",
       "                 861c85239d21bf467158a1a867489ebf\n",
       "F14_Common_Bream 0                               \n",
       "F35_Red_Deer     0                               \n",
       "⋮                ⋮                               \n",
       "X431_Quagga      0                               \n",
       "X67_European_Roe 0                               \n",
       "                 16c9cf055840535f82770aa57f56486a\n",
       "F14_Common_Bream 812                             \n",
       "F35_Red_Deer     554                             \n",
       "⋮                ⋮                               \n",
       "X431_Quagga      2136                            \n",
       "X67_European_Roe    0                            \n",
       "                 e569d58f2813d042dd490d75c6149977\n",
       "F14_Common_Bream 0                               \n",
       "F35_Red_Deer     0                               \n",
       "⋮                ⋮                               \n",
       "X431_Quagga      0                               \n",
       "X67_European_Roe 0                               \n",
       "                 f7b992dfabd26d5316abbe75dba81cad\n",
       "F14_Common_Bream 14                              \n",
       "F35_Red_Deer      0                              \n",
       "⋮                ⋮                               \n",
       "X431_Quagga      0                               \n",
       "X67_European_Roe 0                               \n",
       "                 2987f396047df01622b365b3b667a4eb\n",
       "F14_Common_Bream 16                              \n",
       "F35_Red_Deer     81                              \n",
       "⋮                ⋮                               \n",
       "X431_Quagga      267                             \n",
       "X67_European_Roe   0                             \n",
       "                 75f3ea1df98051a1b49107173aa51a32\n",
       "F14_Common_Bream 0                               \n",
       "F35_Red_Deer     0                               \n",
       "⋮                ⋮                               \n",
       "X431_Quagga      0                               \n",
       "X67_European_Roe 0                               \n",
       "                 1578a874797e43b052a66b2fb5ef9e4a\n",
       "F14_Common_Bream 2613                            \n",
       "F35_Red_Deer     1235                            \n",
       "⋮                ⋮                               \n",
       "X431_Quagga       30                             \n",
       "X67_European_Roe 721                             "
      ]
     },
     "metadata": {},
     "output_type": "display_data"
    }
   ],
   "source": [
    "# otu table\n",
    "otu = physeq_arch_IndD %>%\n",
    "    phyloseq2df(otu_table) %>%\n",
    "    as.data.frame\n",
    "rownames(otu) = otu$OTU\n",
    "otu$OTU = NULL\n",
    "otu = otu %>% t %>% as.data.frame\n",
    "otu"
   ]
  },
  {
   "cell_type": "markdown",
   "metadata": {},
   "source": [
    "## Zero estimation"
   ]
  },
  {
   "cell_type": "code",
   "execution_count": 22,
   "metadata": {
    "ExecuteTime": {
     "end_time": "2020-06-18T11:55:41.233508Z",
     "start_time": "2020-06-18T11:55:41.174Z"
    }
   },
   "outputs": [
    {
     "data": {
      "text/html": [
       "<table>\n",
       "<caption>A matrix: 1 × 8 of type dbl</caption>\n",
       "<thead>\n",
       "\t<tr><th></th><th scope=col>Min.</th><th scope=col>1st Qu.</th><th scope=col>Median</th><th scope=col>Mean</th><th scope=col>3rd Qu.</th><th scope=col>Max.</th><th scope=col>sd</th><th scope=col>sd_err_of_mean</th></tr>\n",
       "</thead>\n",
       "<tbody>\n",
       "\t<tr><th scope=row>sparsity</th><td>33.33333</td><td>66.66667</td><td>66.66667</td><td>70.63063</td><td>77.77778</td><td>88.88889</td><td>18.663</td><td>7.619</td></tr>\n",
       "</tbody>\n",
       "</table>\n"
      ],
      "text/latex": [
       "A matrix: 1 × 8 of type dbl\n",
       "\\begin{tabular}{r|llllllll}\n",
       "  & Min. & 1st Qu. & Median & Mean & 3rd Qu. & Max. & sd & sd\\_err\\_of\\_mean\\\\\n",
       "\\hline\n",
       "\tsparsity & 33.33333 & 66.66667 & 66.66667 & 70.63063 & 77.77778 & 88.88889 & 18.663 & 7.619\\\\\n",
       "\\end{tabular}\n"
      ],
      "text/markdown": [
       "\n",
       "A matrix: 1 × 8 of type dbl\n",
       "\n",
       "| <!--/--> | Min. | 1st Qu. | Median | Mean | 3rd Qu. | Max. | sd | sd_err_of_mean |\n",
       "|---|---|---|---|---|---|---|---|---|\n",
       "| sparsity | 33.33333 | 66.66667 | 66.66667 | 70.63063 | 77.77778 | 88.88889 | 18.663 | 7.619 |\n",
       "\n"
      ],
      "text/plain": [
       "         Min.     1st Qu.  Median   Mean     3rd Qu.  Max.     sd    \n",
       "sparsity 33.33333 66.66667 66.66667 70.63063 77.77778 88.88889 18.663\n",
       "         sd_err_of_mean\n",
       "sparsity 7.619         "
      ]
     },
     "metadata": {},
     "output_type": "display_data"
    }
   ],
   "source": [
    "# sparsity (%)\n",
    "otu %>%\n",
    "    apply(1, function(x) sum(x == 0) / length(x) * 100) %>%\n",
    "    summary_x('sparsity')"
   ]
  },
  {
   "cell_type": "code",
   "execution_count": 23,
   "metadata": {
    "ExecuteTime": {
     "end_time": "2020-06-18T11:55:42.773063Z",
     "start_time": "2020-06-18T11:55:42.383Z"
    }
   },
   "outputs": [
    {
     "name": "stdout",
     "output_type": "stream",
     "text": [
      "No. corrected values:  451 \n"
     ]
    },
    {
     "data": {
      "text/html": [
       "<table>\n",
       "<caption>A data.frame: 185 × 9</caption>\n",
       "<thead>\n",
       "\t<tr><th></th><th scope=col>cd161a55fa07f62886e28ad1665f4153</th><th scope=col>5887dc080d027d30580310a1eb1f3166</th><th scope=col>861c85239d21bf467158a1a867489ebf</th><th scope=col>16c9cf055840535f82770aa57f56486a</th><th scope=col>e569d58f2813d042dd490d75c6149977</th><th scope=col>f7b992dfabd26d5316abbe75dba81cad</th><th scope=col>2987f396047df01622b365b3b667a4eb</th><th scope=col>75f3ea1df98051a1b49107173aa51a32</th><th scope=col>1578a874797e43b052a66b2fb5ef9e4a</th></tr>\n",
       "\t<tr><th></th><th scope=col>&lt;dbl&gt;</th><th scope=col>&lt;dbl&gt;</th><th scope=col>&lt;dbl&gt;</th><th scope=col>&lt;dbl&gt;</th><th scope=col>&lt;dbl&gt;</th><th scope=col>&lt;dbl&gt;</th><th scope=col>&lt;dbl&gt;</th><th scope=col>&lt;dbl&gt;</th><th scope=col>&lt;dbl&gt;</th></tr>\n",
       "</thead>\n",
       "<tbody>\n",
       "\t<tr><th scope=row>F14_Common_Bream</th><td>0.004328734</td><td>2</td><td>1.0232501</td><td>812</td><td>1.1065906</td><td>14.0000000</td><td>16</td><td>0.2383689</td><td>2613</td></tr>\n",
       "\t<tr><th scope=row>F35_Red_Deer</th><td>0.004191709</td><td>4</td><td>0.5547652</td><td>554</td><td>0.5999491</td><td> 0.1433565</td><td>81</td><td>0.2308235</td><td>1235</td></tr>\n",
       "\t<tr><th scope=row>⋮</th><td>⋮</td><td>⋮</td><td>⋮</td><td>⋮</td><td>⋮</td><td>⋮</td><td>⋮</td><td>⋮</td><td>⋮</td></tr>\n",
       "\t<tr><th scope=row>X431_Quagga</th><td>0.004255424</td><td>0.03546187</td><td>0.7202262</td><td>2136.0000000</td><td>0.7788864</td><td>0.1455355</td><td>267.00000000</td><td>0.2343320</td><td> 30</td></tr>\n",
       "\t<tr><th scope=row>X67_European_Roe</th><td>0.003783021</td><td>0.03152518</td><td>0.2136216</td><td>   0.3585286</td><td>0.2310204</td><td>0.1293793</td><td>  0.02907248</td><td>0.2083184</td><td>721</td></tr>\n",
       "</tbody>\n",
       "</table>\n"
      ],
      "text/latex": [
       "A data.frame: 185 × 9\n",
       "\\begin{tabular}{r|lllllllll}\n",
       "  & cd161a55fa07f62886e28ad1665f4153 & 5887dc080d027d30580310a1eb1f3166 & 861c85239d21bf467158a1a867489ebf & 16c9cf055840535f82770aa57f56486a & e569d58f2813d042dd490d75c6149977 & f7b992dfabd26d5316abbe75dba81cad & 2987f396047df01622b365b3b667a4eb & 75f3ea1df98051a1b49107173aa51a32 & 1578a874797e43b052a66b2fb5ef9e4a\\\\\n",
       "  & <dbl> & <dbl> & <dbl> & <dbl> & <dbl> & <dbl> & <dbl> & <dbl> & <dbl>\\\\\n",
       "\\hline\n",
       "\tF14\\_Common\\_Bream & 0.004328734 & 2 & 1.0232501 & 812 & 1.1065906 & 14.0000000 & 16 & 0.2383689 & 2613\\\\\n",
       "\tF35\\_Red\\_Deer & 0.004191709 & 4 & 0.5547652 & 554 & 0.5999491 &  0.1433565 & 81 & 0.2308235 & 1235\\\\\n",
       "\t⋮ & ⋮ & ⋮ & ⋮ & ⋮ & ⋮ & ⋮ & ⋮ & ⋮ & ⋮\\\\\n",
       "\tX431\\_Quagga & 0.004255424 & 0.03546187 & 0.7202262 & 2136.0000000 & 0.7788864 & 0.1455355 & 267.00000000 & 0.2343320 &  30\\\\\n",
       "\tX67\\_European\\_Roe & 0.003783021 & 0.03152518 & 0.2136216 &    0.3585286 & 0.2310204 & 0.1293793 &   0.02907248 & 0.2083184 & 721\\\\\n",
       "\\end{tabular}\n"
      ],
      "text/markdown": [
       "\n",
       "A data.frame: 185 × 9\n",
       "\n",
       "| <!--/--> | cd161a55fa07f62886e28ad1665f4153 &lt;dbl&gt; | 5887dc080d027d30580310a1eb1f3166 &lt;dbl&gt; | 861c85239d21bf467158a1a867489ebf &lt;dbl&gt; | 16c9cf055840535f82770aa57f56486a &lt;dbl&gt; | e569d58f2813d042dd490d75c6149977 &lt;dbl&gt; | f7b992dfabd26d5316abbe75dba81cad &lt;dbl&gt; | 2987f396047df01622b365b3b667a4eb &lt;dbl&gt; | 75f3ea1df98051a1b49107173aa51a32 &lt;dbl&gt; | 1578a874797e43b052a66b2fb5ef9e4a &lt;dbl&gt; |\n",
       "|---|---|---|---|---|---|---|---|---|---|\n",
       "| F14_Common_Bream | 0.004328734 | 2 | 1.0232501 | 812 | 1.1065906 | 14.0000000 | 16 | 0.2383689 | 2613 |\n",
       "| F35_Red_Deer | 0.004191709 | 4 | 0.5547652 | 554 | 0.5999491 |  0.1433565 | 81 | 0.2308235 | 1235 |\n",
       "| ⋮ | ⋮ | ⋮ | ⋮ | ⋮ | ⋮ | ⋮ | ⋮ | ⋮ | ⋮ |\n",
       "| X431_Quagga | 0.004255424 | 0.03546187 | 0.7202262 | 2136.0000000 | 0.7788864 | 0.1455355 | 267.00000000 | 0.2343320 |  30 |\n",
       "| X67_European_Roe | 0.003783021 | 0.03152518 | 0.2136216 |    0.3585286 | 0.2310204 | 0.1293793 |   0.02907248 | 0.2083184 | 721 |\n",
       "\n"
      ],
      "text/plain": [
       "                 cd161a55fa07f62886e28ad1665f4153\n",
       "F14_Common_Bream 0.004328734                     \n",
       "F35_Red_Deer     0.004191709                     \n",
       "⋮                ⋮                               \n",
       "X431_Quagga      0.004255424                     \n",
       "X67_European_Roe 0.003783021                     \n",
       "                 5887dc080d027d30580310a1eb1f3166\n",
       "F14_Common_Bream 2                               \n",
       "F35_Red_Deer     4                               \n",
       "⋮                ⋮                               \n",
       "X431_Quagga      0.03546187                      \n",
       "X67_European_Roe 0.03152518                      \n",
       "                 861c85239d21bf467158a1a867489ebf\n",
       "F14_Common_Bream 1.0232501                       \n",
       "F35_Red_Deer     0.5547652                       \n",
       "⋮                ⋮                               \n",
       "X431_Quagga      0.7202262                       \n",
       "X67_European_Roe 0.2136216                       \n",
       "                 16c9cf055840535f82770aa57f56486a\n",
       "F14_Common_Bream 812                             \n",
       "F35_Red_Deer     554                             \n",
       "⋮                ⋮                               \n",
       "X431_Quagga      2136.0000000                    \n",
       "X67_European_Roe    0.3585286                    \n",
       "                 e569d58f2813d042dd490d75c6149977\n",
       "F14_Common_Bream 1.1065906                       \n",
       "F35_Red_Deer     0.5999491                       \n",
       "⋮                ⋮                               \n",
       "X431_Quagga      0.7788864                       \n",
       "X67_European_Roe 0.2310204                       \n",
       "                 f7b992dfabd26d5316abbe75dba81cad\n",
       "F14_Common_Bream 14.0000000                      \n",
       "F35_Red_Deer      0.1433565                      \n",
       "⋮                ⋮                               \n",
       "X431_Quagga      0.1455355                       \n",
       "X67_European_Roe 0.1293793                       \n",
       "                 2987f396047df01622b365b3b667a4eb\n",
       "F14_Common_Bream 16                              \n",
       "F35_Red_Deer     81                              \n",
       "⋮                ⋮                               \n",
       "X431_Quagga      267.00000000                    \n",
       "X67_European_Roe   0.02907248                    \n",
       "                 75f3ea1df98051a1b49107173aa51a32\n",
       "F14_Common_Bream 0.2383689                       \n",
       "F35_Red_Deer     0.2308235                       \n",
       "⋮                ⋮                               \n",
       "X431_Quagga      0.2343320                       \n",
       "X67_European_Roe 0.2083184                       \n",
       "                 1578a874797e43b052a66b2fb5ef9e4a\n",
       "F14_Common_Bream 2613                            \n",
       "F35_Red_Deer     1235                            \n",
       "⋮                ⋮                               \n",
       "X431_Quagga       30                             \n",
       "X67_European_Roe 721                             "
      ]
     },
     "metadata": {},
     "output_type": "display_data"
    }
   ],
   "source": [
    "# inferring zeros\n",
    "## warning: a bit slow\n",
    "otu = cmultRepl(otu, output = 'p-counts')\n",
    "otu"
   ]
  },
  {
   "cell_type": "markdown",
   "metadata": {},
   "source": [
    "## clr transformation"
   ]
  },
  {
   "cell_type": "code",
   "execution_count": 24,
   "metadata": {
    "ExecuteTime": {
     "end_time": "2020-06-18T11:55:48.890568Z",
     "start_time": "2020-06-18T11:55:48.823Z"
    }
   },
   "outputs": [
    {
     "data": {
      "text/html": [
       "<table>\n",
       "<caption>A data.frame: 185 × 9</caption>\n",
       "<thead>\n",
       "\t<tr><th></th><th scope=col>cd161a55fa07f62886e28ad1665f4153</th><th scope=col>5887dc080d027d30580310a1eb1f3166</th><th scope=col>861c85239d21bf467158a1a867489ebf</th><th scope=col>16c9cf055840535f82770aa57f56486a</th><th scope=col>e569d58f2813d042dd490d75c6149977</th><th scope=col>f7b992dfabd26d5316abbe75dba81cad</th><th scope=col>2987f396047df01622b365b3b667a4eb</th><th scope=col>75f3ea1df98051a1b49107173aa51a32</th><th scope=col>1578a874797e43b052a66b2fb5ef9e4a</th></tr>\n",
       "\t<tr><th></th><th scope=col>&lt;dbl&gt;</th><th scope=col>&lt;dbl&gt;</th><th scope=col>&lt;dbl&gt;</th><th scope=col>&lt;dbl&gt;</th><th scope=col>&lt;dbl&gt;</th><th scope=col>&lt;dbl&gt;</th><th scope=col>&lt;dbl&gt;</th><th scope=col>&lt;dbl&gt;</th><th scope=col>&lt;dbl&gt;</th></tr>\n",
       "</thead>\n",
       "<tbody>\n",
       "\t<tr><th scope=row>F14_Common_Bream</th><td>-0.00545212</td><td>3.774822</td><td> 0.3864814</td><td>4.189274</td><td>-0.4028117</td><td> 4.4313581</td><td>1.826603</td><td>-0.1864763</td><td>1.1855663</td></tr>\n",
       "\t<tr><th scope=row>F35_Red_Deer</th><td>-0.03761856</td><td>4.467969</td><td>-0.2257129</td><td>3.806939</td><td>-1.0150060</td><td>-0.1501203</td><td>3.448463</td><td>-0.2186428</td><td>0.4361383</td></tr>\n",
       "\t<tr><th scope=row>⋮</th><td>⋮</td><td>⋮</td><td>⋮</td><td>⋮</td><td>⋮</td><td>⋮</td><td>⋮</td><td>⋮</td><td>⋮</td></tr>\n",
       "\t<tr><th scope=row>X431_Quagga</th><td>-0.02253269</td><td>-0.2576229</td><td> 0.03530752</td><td> 5.156464</td><td>-0.7539856</td><td>-0.1350344</td><td> 4.641263</td><td>-0.2035569</td><td>-3.2814906</td></tr>\n",
       "\t<tr><th scope=row>X67_European_Roe</th><td>-0.14020423</td><td>-0.3752945</td><td>-1.18005175</td><td>-3.535973</td><td>-1.9693448</td><td>-0.2527060</td><td>-4.483949</td><td>-0.3212284</td><td>-0.1020488</td></tr>\n",
       "</tbody>\n",
       "</table>\n"
      ],
      "text/latex": [
       "A data.frame: 185 × 9\n",
       "\\begin{tabular}{r|lllllllll}\n",
       "  & cd161a55fa07f62886e28ad1665f4153 & 5887dc080d027d30580310a1eb1f3166 & 861c85239d21bf467158a1a867489ebf & 16c9cf055840535f82770aa57f56486a & e569d58f2813d042dd490d75c6149977 & f7b992dfabd26d5316abbe75dba81cad & 2987f396047df01622b365b3b667a4eb & 75f3ea1df98051a1b49107173aa51a32 & 1578a874797e43b052a66b2fb5ef9e4a\\\\\n",
       "  & <dbl> & <dbl> & <dbl> & <dbl> & <dbl> & <dbl> & <dbl> & <dbl> & <dbl>\\\\\n",
       "\\hline\n",
       "\tF14\\_Common\\_Bream & -0.00545212 & 3.774822 &  0.3864814 & 4.189274 & -0.4028117 &  4.4313581 & 1.826603 & -0.1864763 & 1.1855663\\\\\n",
       "\tF35\\_Red\\_Deer & -0.03761856 & 4.467969 & -0.2257129 & 3.806939 & -1.0150060 & -0.1501203 & 3.448463 & -0.2186428 & 0.4361383\\\\\n",
       "\t⋮ & ⋮ & ⋮ & ⋮ & ⋮ & ⋮ & ⋮ & ⋮ & ⋮ & ⋮\\\\\n",
       "\tX431\\_Quagga & -0.02253269 & -0.2576229 &  0.03530752 &  5.156464 & -0.7539856 & -0.1350344 &  4.641263 & -0.2035569 & -3.2814906\\\\\n",
       "\tX67\\_European\\_Roe & -0.14020423 & -0.3752945 & -1.18005175 & -3.535973 & -1.9693448 & -0.2527060 & -4.483949 & -0.3212284 & -0.1020488\\\\\n",
       "\\end{tabular}\n"
      ],
      "text/markdown": [
       "\n",
       "A data.frame: 185 × 9\n",
       "\n",
       "| <!--/--> | cd161a55fa07f62886e28ad1665f4153 &lt;dbl&gt; | 5887dc080d027d30580310a1eb1f3166 &lt;dbl&gt; | 861c85239d21bf467158a1a867489ebf &lt;dbl&gt; | 16c9cf055840535f82770aa57f56486a &lt;dbl&gt; | e569d58f2813d042dd490d75c6149977 &lt;dbl&gt; | f7b992dfabd26d5316abbe75dba81cad &lt;dbl&gt; | 2987f396047df01622b365b3b667a4eb &lt;dbl&gt; | 75f3ea1df98051a1b49107173aa51a32 &lt;dbl&gt; | 1578a874797e43b052a66b2fb5ef9e4a &lt;dbl&gt; |\n",
       "|---|---|---|---|---|---|---|---|---|---|\n",
       "| F14_Common_Bream | -0.00545212 | 3.774822 |  0.3864814 | 4.189274 | -0.4028117 |  4.4313581 | 1.826603 | -0.1864763 | 1.1855663 |\n",
       "| F35_Red_Deer | -0.03761856 | 4.467969 | -0.2257129 | 3.806939 | -1.0150060 | -0.1501203 | 3.448463 | -0.2186428 | 0.4361383 |\n",
       "| ⋮ | ⋮ | ⋮ | ⋮ | ⋮ | ⋮ | ⋮ | ⋮ | ⋮ | ⋮ |\n",
       "| X431_Quagga | -0.02253269 | -0.2576229 |  0.03530752 |  5.156464 | -0.7539856 | -0.1350344 |  4.641263 | -0.2035569 | -3.2814906 |\n",
       "| X67_European_Roe | -0.14020423 | -0.3752945 | -1.18005175 | -3.535973 | -1.9693448 | -0.2527060 | -4.483949 | -0.3212284 | -0.1020488 |\n",
       "\n"
      ],
      "text/plain": [
       "                 cd161a55fa07f62886e28ad1665f4153\n",
       "F14_Common_Bream -0.00545212                     \n",
       "F35_Red_Deer     -0.03761856                     \n",
       "⋮                ⋮                               \n",
       "X431_Quagga      -0.02253269                     \n",
       "X67_European_Roe -0.14020423                     \n",
       "                 5887dc080d027d30580310a1eb1f3166\n",
       "F14_Common_Bream 3.774822                        \n",
       "F35_Red_Deer     4.467969                        \n",
       "⋮                ⋮                               \n",
       "X431_Quagga      -0.2576229                      \n",
       "X67_European_Roe -0.3752945                      \n",
       "                 861c85239d21bf467158a1a867489ebf\n",
       "F14_Common_Bream  0.3864814                      \n",
       "F35_Red_Deer     -0.2257129                      \n",
       "⋮                ⋮                               \n",
       "X431_Quagga       0.03530752                     \n",
       "X67_European_Roe -1.18005175                     \n",
       "                 16c9cf055840535f82770aa57f56486a\n",
       "F14_Common_Bream 4.189274                        \n",
       "F35_Red_Deer     3.806939                        \n",
       "⋮                ⋮                               \n",
       "X431_Quagga       5.156464                       \n",
       "X67_European_Roe -3.535973                       \n",
       "                 e569d58f2813d042dd490d75c6149977\n",
       "F14_Common_Bream -0.4028117                      \n",
       "F35_Red_Deer     -1.0150060                      \n",
       "⋮                ⋮                               \n",
       "X431_Quagga      -0.7539856                      \n",
       "X67_European_Roe -1.9693448                      \n",
       "                 f7b992dfabd26d5316abbe75dba81cad\n",
       "F14_Common_Bream  4.4313581                      \n",
       "F35_Red_Deer     -0.1501203                      \n",
       "⋮                ⋮                               \n",
       "X431_Quagga      -0.1350344                      \n",
       "X67_European_Roe -0.2527060                      \n",
       "                 2987f396047df01622b365b3b667a4eb\n",
       "F14_Common_Bream 1.826603                        \n",
       "F35_Red_Deer     3.448463                        \n",
       "⋮                ⋮                               \n",
       "X431_Quagga       4.641263                       \n",
       "X67_European_Roe -4.483949                       \n",
       "                 75f3ea1df98051a1b49107173aa51a32\n",
       "F14_Common_Bream -0.1864763                      \n",
       "F35_Red_Deer     -0.2186428                      \n",
       "⋮                ⋮                               \n",
       "X431_Quagga      -0.2035569                      \n",
       "X67_European_Roe -0.3212284                      \n",
       "                 1578a874797e43b052a66b2fb5ef9e4a\n",
       "F14_Common_Bream 1.1855663                       \n",
       "F35_Red_Deer     0.4361383                       \n",
       "⋮                ⋮                               \n",
       "X431_Quagga      -3.2814906                      \n",
       "X67_European_Roe -0.1020488                      "
      ]
     },
     "metadata": {},
     "output_type": "display_data"
    }
   ],
   "source": [
    "# transforming\n",
    "otu = compositions::clr(t(otu)) %>%\n",
    "    t %>% as.data.frame\n",
    "otu"
   ]
  },
  {
   "cell_type": "code",
   "execution_count": 25,
   "metadata": {
    "ExecuteTime": {
     "end_time": "2020-06-18T11:55:50.074349Z",
     "start_time": "2020-06-18T11:55:50.030Z"
    }
   },
   "outputs": [
    {
     "data": {
      "text/plain": [
       "   Min. 1st Qu.  Median    Mean 3rd Qu.    Max. \n",
       "-18.083  -5.477   1.318   0.000   5.846  19.795 "
      ]
     },
     "metadata": {},
     "output_type": "display_data"
    },
    {
     "data": {
      "text/plain": [
       "      Min.    1st Qu.     Median       Mean    3rd Qu.       Max. \n",
       "-1.270e-13 -1.760e-14  2.731e-14  6.742e-14  7.039e-14  6.128e-13 "
      ]
     },
     "metadata": {},
     "output_type": "display_data"
    }
   ],
   "source": [
    "# summary\n",
    "otu %>% rowSums %>% summary\n",
    "otu %>% colSums %>% summary"
   ]
  },
  {
   "cell_type": "markdown",
   "metadata": {},
   "source": [
    "## New phyloseq obj"
   ]
  },
  {
   "cell_type": "code",
   "execution_count": 26,
   "metadata": {
    "ExecuteTime": {
     "end_time": "2020-06-18T11:55:51.959642Z",
     "start_time": "2020-06-18T11:55:51.862Z"
    }
   },
   "outputs": [
    {
     "data": {
      "text/plain": [
       "phyloseq-class experiment-level object\n",
       "otu_table()   OTU Table:         [ 9 taxa and 185 samples ]\n",
       "sample_data() Sample Data:       [ 185 samples by 88 sample variables ]\n",
       "tax_table()   Taxonomy Table:    [ 9 taxa by 7 taxonomic ranks ]\n",
       "phy_tree()    Phylogenetic Tree: [ 9 tips and 8 internal nodes ]"
      ]
     },
     "metadata": {},
     "output_type": "display_data"
    }
   ],
   "source": [
    "# new phyloseq object\n",
    "physeq_arch_IndD_clr = phyloseq(otu_table(otu %>% t %>% as.data.frame, \n",
    "                                          taxa_are_rows=TRUE),\n",
    "                                tax_table(physeq_arch_IndD),\n",
    "                                sample_data(physeq_arch_IndD),\n",
    "                                phy_tree(physeq_arch_IndD))\n",
    "physeq_arch_IndD_clr"
   ]
  },
  {
   "cell_type": "code",
   "execution_count": 27,
   "metadata": {
    "ExecuteTime": {
     "end_time": "2020-06-18T11:55:54.464931Z",
     "start_time": "2020-06-18T11:55:54.416Z"
    }
   },
   "outputs": [
    {
     "name": "stdout",
     "output_type": "stream",
     "text": [
      "File written: /ebio/abt3_projects/Georg_animal_feces/data/16S_arch/MiSeq-Runs-116-122-126-189-190/LLA/merged/phyloseq/physeq_arch_IndD_clr-class.RDS \n"
     ]
    }
   ],
   "source": [
    "# writing new file\n",
    "physeq_arch_IndD_clr_file = file.path(dirname(physeq_arch_IndD_file),\n",
    "                                      'physeq_arch_IndD_clr-class.RDS')\n",
    "saveRDS(physeq_arch_IndD_clr, physeq_arch_IndD_clr_file)\n",
    "cat('File written:', physeq_arch_IndD_clr_file, '\\n')"
   ]
  },
  {
   "cell_type": "markdown",
   "metadata": {},
   "source": [
    "# sessionInfo"
   ]
  },
  {
   "cell_type": "code",
   "execution_count": 28,
   "metadata": {
    "ExecuteTime": {
     "end_time": "2020-06-18T11:55:55.838778Z",
     "start_time": "2020-06-18T11:55:55.743Z"
    }
   },
   "outputs": [
    {
     "data": {
      "text/plain": [
       "R version 3.6.2 (2019-12-12)\n",
       "Platform: x86_64-conda_cos6-linux-gnu (64-bit)\n",
       "Running under: Ubuntu 18.04.4 LTS\n",
       "\n",
       "Matrix products: default\n",
       "BLAS/LAPACK: /ebio/abt3_projects/Georg_animal_feces/envs/phyloseq-eco/lib/libopenblasp-r0.3.7.so\n",
       "\n",
       "locale:\n",
       " [1] LC_CTYPE=en_US.UTF-8       LC_NUMERIC=C              \n",
       " [3] LC_TIME=en_US.UTF-8        LC_COLLATE=en_US.UTF-8    \n",
       " [5] LC_MONETARY=en_US.UTF-8    LC_MESSAGES=en_US.UTF-8   \n",
       " [7] LC_PAPER=en_US.UTF-8       LC_NAME=C                 \n",
       " [9] LC_ADDRESS=C               LC_TELEPHONE=C            \n",
       "[11] LC_MEASUREMENT=en_US.UTF-8 LC_IDENTIFICATION=C       \n",
       "\n",
       "attached base packages:\n",
       "[1] stats     graphics  grDevices utils     datasets  methods   base     \n",
       "\n",
       "other attached packages:\n",
       " [1] LeyLabRMisc_0.1.6   zCompositions_1.3.4 truncnorm_1.0-8    \n",
       " [4] NADA_1.6-1.1        survival_3.1-8      MASS_7.3-51.5      \n",
       " [7] phyloseq_1.30.0     ggplot2_3.2.1       tidyr_1.0.0        \n",
       "[10] dplyr_0.8.5        \n",
       "\n",
       "loaded via a namespace (and not attached):\n",
       " [1] Biobase_2.46.0      jsonlite_1.6        splines_3.6.2      \n",
       " [4] foreach_1.4.7       assertthat_0.2.1    stats4_3.6.2       \n",
       " [7] tensorA_0.36.1      robustbase_0.93-6   pillar_1.4.3       \n",
       "[10] lattice_0.20-38     glue_1.3.1          uuid_0.1-2         \n",
       "[13] digest_0.6.23       XVector_0.26.0      colorspace_1.4-1   \n",
       "[16] htmltools_0.4.0     Matrix_1.2-18       plyr_1.8.5         \n",
       "[19] pkgconfig_2.0.3     zlibbioc_1.32.0     purrr_0.3.3        \n",
       "[22] scales_1.1.0        tibble_2.1.3        mgcv_1.8-31        \n",
       "[25] IRanges_2.20.0      withr_2.1.2         repr_1.0.2         \n",
       "[28] BiocGenerics_0.32.0 lazyeval_0.2.2      magrittr_1.5       \n",
       "[31] crayon_1.3.4        evaluate_0.14       nlme_3.1-143       \n",
       "[34] compositions_1.40-5 vegan_2.5-6         tools_3.6.2        \n",
       "[37] data.table_1.12.8   lifecycle_0.1.0     stringr_1.4.0      \n",
       "[40] Rhdf5lib_1.8.0      S4Vectors_0.24.0    munsell_0.5.0      \n",
       "[43] cluster_2.1.0       Biostrings_2.54.0   ade4_1.7-13        \n",
       "[46] compiler_3.6.2      rlang_0.4.6         rhdf5_2.30.0       \n",
       "[49] grid_3.6.2          pbdZMQ_0.3-3        iterators_1.0.12   \n",
       "[52] IRkernel_1.1        biomformat_1.14.0   igraph_1.2.4.2     \n",
       "[55] base64enc_0.1-3     gtable_0.3.0        codetools_0.2-16   \n",
       "[58] multtest_2.42.0     reshape2_1.4.3      R6_2.4.1           \n",
       "[61] bayesm_3.1-4        permute_0.9-5       ape_5.3            \n",
       "[64] stringi_1.4.5       parallel_3.6.2      IRdisplay_0.7.0    \n",
       "[67] Rcpp_1.0.3          vctrs_0.3.0         DEoptimR_1.0-8     \n",
       "[70] tidyselect_1.1.0   "
      ]
     },
     "metadata": {},
     "output_type": "display_data"
    }
   ],
   "source": [
    "sessionInfo()"
   ]
  },
  {
   "cell_type": "code",
   "execution_count": null,
   "metadata": {},
   "outputs": [],
   "source": []
  }
 ],
 "metadata": {
  "kernelspec": {
   "display_name": "R [conda env:Georg_animal_feces-phyloseq-eco]",
   "language": "R",
   "name": "conda-env-Georg_animal_feces-phyloseq-eco-r"
  },
  "language_info": {
   "codemirror_mode": "r",
   "file_extension": ".r",
   "mimetype": "text/x-r-source",
   "name": "R",
   "pygments_lexer": "r",
   "version": "3.6.2"
  },
  "notify_time": "30",
  "toc": {
   "base_numbering": 1,
   "nav_menu": {},
   "number_sections": true,
   "sideBar": true,
   "skip_h1_title": false,
   "title_cell": "Table of Contents",
   "title_sidebar": "Contents",
   "toc_cell": true,
   "toc_position": {},
   "toc_section_display": true,
   "toc_window_display": true
  }
 },
 "nbformat": 4,
 "nbformat_minor": 4
}
