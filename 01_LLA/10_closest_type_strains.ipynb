{
 "cells": [
  {
   "cell_type": "markdown",
   "metadata": {
    "toc": true
   },
   "source": [
    "<h1>Table of Contents<span class=\"tocSkip\"></span></h1>\n",
    "<div class=\"toc\"><ul class=\"toc-item\"><li><span><a href=\"#Goal\" data-toc-modified-id=\"Goal-1\"><span class=\"toc-item-num\">1&nbsp;&nbsp;</span>Goal</a></span></li><li><span><a href=\"#Var\" data-toc-modified-id=\"Var-2\"><span class=\"toc-item-num\">2&nbsp;&nbsp;</span>Var</a></span></li><li><span><a href=\"#Init\" data-toc-modified-id=\"Init-3\"><span class=\"toc-item-num\">3&nbsp;&nbsp;</span>Init</a></span></li><li><span><a href=\"#Load\" data-toc-modified-id=\"Load-4\"><span class=\"toc-item-num\">4&nbsp;&nbsp;</span>Load</a></span></li><li><span><a href=\"#Rep-sequences\" data-toc-modified-id=\"Rep-sequences-5\"><span class=\"toc-item-num\">5&nbsp;&nbsp;</span>Rep sequences</a></span></li><li><span><a href=\"#BLASTn-run\" data-toc-modified-id=\"BLASTn-run-6\"><span class=\"toc-item-num\">6&nbsp;&nbsp;</span>BLASTn run</a></span></li><li><span><a href=\"#Parsing-BLAST-results\" data-toc-modified-id=\"Parsing-BLAST-results-7\"><span class=\"toc-item-num\">7&nbsp;&nbsp;</span>Parsing BLAST results</a></span><ul class=\"toc-item\"><li><span><a href=\"#Adding-taxonomy\" data-toc-modified-id=\"Adding-taxonomy-7.1\"><span class=\"toc-item-num\">7.1&nbsp;&nbsp;</span>Adding taxonomy</a></span></li><li><span><a href=\"#Summarizing\" data-toc-modified-id=\"Summarizing-7.2\"><span class=\"toc-item-num\">7.2&nbsp;&nbsp;</span>Summarizing</a></span><ul class=\"toc-item\"><li><span><a href=\"#Number-of-OTUs-lacking-a-culture\" data-toc-modified-id=\"Number-of-OTUs-lacking-a-culture-7.2.1\"><span class=\"toc-item-num\">7.2.1&nbsp;&nbsp;</span>Number of OTUs lacking a culture</a></span></li><li><span><a href=\"#Which-taxonomic-groups?\" data-toc-modified-id=\"Which-taxonomic-groups?-7.2.2\"><span class=\"toc-item-num\">7.2.2&nbsp;&nbsp;</span>Which taxonomic groups?</a></span></li><li><span><a href=\"#Distribution-of-OTUs-lacking-a-rep\" data-toc-modified-id=\"Distribution-of-OTUs-lacking-a-rep-7.2.3\"><span class=\"toc-item-num\">7.2.3&nbsp;&nbsp;</span>Distribution of OTUs lacking a rep</a></span><ul class=\"toc-item\"><li><span><a href=\"#iTOL\" data-toc-modified-id=\"iTOL-7.2.3.1\"><span class=\"toc-item-num\">7.2.3.1&nbsp;&nbsp;</span>iTOL</a></span></li></ul></li><li><span><a href=\"#Distribution-per-microbe-class\" data-toc-modified-id=\"Distribution-per-microbe-class-7.2.4\"><span class=\"toc-item-num\">7.2.4&nbsp;&nbsp;</span>Distribution per microbe class</a></span><ul class=\"toc-item\"><li><span><a href=\"#iTOL\" data-toc-modified-id=\"iTOL-7.2.4.1\"><span class=\"toc-item-num\">7.2.4.1&nbsp;&nbsp;</span>iTOL</a></span></li></ul></li><li><span><a href=\"#Methanobactericeae\" data-toc-modified-id=\"Methanobactericeae-7.2.5\"><span class=\"toc-item-num\">7.2.5&nbsp;&nbsp;</span>Methanobactericeae</a></span></li><li><span><a href=\"#Best-hits-for-Methanothermobacter\" data-toc-modified-id=\"Best-hits-for-Methanothermobacter-7.2.6\"><span class=\"toc-item-num\">7.2.6&nbsp;&nbsp;</span>Best hits for Methanothermobacter</a></span><ul class=\"toc-item\"><li><span><a href=\"#Adding-average-abundances\" data-toc-modified-id=\"Adding-average-abundances-7.2.6.1\"><span class=\"toc-item-num\">7.2.6.1&nbsp;&nbsp;</span>Adding average abundances</a></span></li></ul></li></ul></li></ul></li><li><span><a href=\"#sessionInfo\" data-toc-modified-id=\"sessionInfo-8\"><span class=\"toc-item-num\">8&nbsp;&nbsp;</span>sessionInfo</a></span></li></ul></div>"
   ]
  },
  {
   "cell_type": "markdown",
   "metadata": {},
   "source": [
    "# Goal\n",
    "\n",
    "* Determine the closest type strains for each OTU in the dataset.\n",
    "* Using SILVA \"All-Species Living Tree Project\" dataset, which comprises all 16S genes for all type strains"
   ]
  },
  {
   "cell_type": "markdown",
   "metadata": {},
   "source": [
    "# Var"
   ]
  },
  {
   "cell_type": "code",
   "execution_count": 205,
   "metadata": {
    "ExecuteTime": {
     "end_time": "2020-10-02T14:01:46.240897Z",
     "start_time": "2020-10-02T14:01:45.687Z"
    }
   },
   "outputs": [],
   "source": [
    "work_dir = '/ebio/abt3_projects/Georg_animal_feces/data/16S_arch/MiSeq-Runs-116-122-126-189-190/LLA/type_strain_similarity/'\n",
    "tmp_dir = '/ebio/abt3_scratch/Georg_animal_feces/tmp/'\n",
    "\n",
    "# phyloseq\n",
    "physeq_arch_IndD_file = '/ebio/abt3_projects/Georg_animal_feces/data/16S_arch/MiSeq-Runs-116-122-126-189-190/LLA/merged/phyloseq/physeq_arch_IndD.RDS'\n",
    "# all post LLA sequences\n",
    "rep_seq_qza_file = file.path('/ebio/abt3_projects/Georg_animal_feces/data/16S_arch/MiSeq-Runs-116-122-126-189-190/LLA/', 'merged', 'rep-seqs_merged_filt.qza')\n",
    "# LTP blast database\n",
    "LTP_blast_db_file = '/ebio/abt3_projects/databases_no-backup/SILVA/all_species_living_tree/LTPs132_SSU_blastdb.fasta'\n",
    "LTP_blast_csv_file = '/ebio/abt3_projects/databases_no-backup/SILVA/all_species_living_tree/LTPs132_SSU.csv'\n",
    "\n",
    "# params\n",
    "hit_len_cutoff = 0.95   # fraction of query that must be aligned to subject\n",
    "threads = 24\n",
    "conda_env = 'qiime2-2019.10'\n"
   ]
  },
  {
   "cell_type": "markdown",
   "metadata": {},
   "source": [
    "# Init"
   ]
  },
  {
   "cell_type": "code",
   "execution_count": 206,
   "metadata": {
    "ExecuteTime": {
     "end_time": "2020-10-02T14:01:46.423058Z",
     "start_time": "2020-10-02T14:01:45.796Z"
    }
   },
   "outputs": [],
   "source": [
    "library(dplyr)\n",
    "library(tidyr)\n",
    "library(ggplot2)\n",
    "library(phyloseq)\n",
    "library(data.table)\n",
    "library(tidytable)\n",
    "library(LeyLabRMisc)"
   ]
  },
  {
   "cell_type": "code",
   "execution_count": 207,
   "metadata": {
    "ExecuteTime": {
     "end_time": "2020-10-02T14:01:46.602058Z",
     "start_time": "2020-10-02T14:01:45.858Z"
    }
   },
   "outputs": [
    {
     "name": "stdout",
     "output_type": "stream",
     "text": [
      "Directory already exists: /ebio/abt3_projects/Georg_animal_feces/data/16S_arch/MiSeq-Runs-116-122-126-189-190/LLA/type_strain_similarity/ \n",
      "Directory already exists: /ebio/abt3_scratch/Georg_animal_feces/tmp/ \n"
     ]
    }
   ],
   "source": [
    "make_dir(work_dir)\n",
    "make_dir(tmp_dir)\n",
    "df.dims()\n",
    "setDTthreads(8)"
   ]
  },
  {
   "cell_type": "markdown",
   "metadata": {},
   "source": [
    "# Load"
   ]
  },
  {
   "cell_type": "code",
   "execution_count": 208,
   "metadata": {
    "ExecuteTime": {
     "end_time": "2020-10-02T14:01:48.554170Z",
     "start_time": "2020-10-02T14:01:48.117Z"
    }
   },
   "outputs": [
    {
     "data": {
      "text/plain": [
       "phyloseq-class experiment-level object\n",
       "otu_table()   OTU Table:         [ 1891 taxa and 185 samples ]\n",
       "sample_data() Sample Data:       [ 185 samples by 88 sample variables ]\n",
       "tax_table()   Taxonomy Table:    [ 1891 taxa by 7 taxonomic ranks ]\n",
       "phy_tree()    Phylogenetic Tree: [ 1891 tips and 1888 internal nodes ]"
      ]
     },
     "metadata": {},
     "output_type": "display_data"
    }
   ],
   "source": [
    "# loading phyloseq object\n",
    "physeq_arch_IndD = readRDS(physeq_arch_IndD_file)\n",
    "physeq_arch_IndD"
   ]
  },
  {
   "cell_type": "code",
   "execution_count": 115,
   "metadata": {
    "ExecuteTime": {
     "end_time": "2020-09-26T07:54:07.761455Z",
     "start_time": "2020-09-26T07:54:06.930Z"
    }
   },
   "outputs": [
    {
     "data": {
      "text/html": [
       "<table>\n",
       "<caption>A data.frame: 13903 × 11</caption>\n",
       "<thead>\n",
       "\t<tr><th scope=col>V1</th><th scope=col>V2</th><th scope=col>V3</th><th scope=col>V4</th><th scope=col>V5</th><th scope=col>V6</th><th scope=col>V7</th><th scope=col>V8</th><th scope=col>V9</th><th scope=col>V10</th><th scope=col>V11</th></tr>\n",
       "\t<tr><th scope=col>&lt;fct&gt;</th><th scope=col>&lt;int&gt;</th><th scope=col>&lt;int&gt;</th><th scope=col>&lt;fct&gt;</th><th scope=col>&lt;fct&gt;</th><th scope=col>&lt;fct&gt;</th><th scope=col>&lt;fct&gt;</th><th scope=col>&lt;fct&gt;</th><th scope=col>&lt;fct&gt;</th><th scope=col>&lt;fct&gt;</th><th scope=col>&lt;fct&gt;</th></tr>\n",
       "</thead>\n",
       "<tbody>\n",
       "\t<tr><td>FJ611848</td><td>1</td><td>1348</td><td>s128</td><td>Erwinia gerundensis</td><td></td><td>Erwiniaceae</td><td> </td><td>http://www.bacterio.net/erwinia.html</td><td>Bacteria/Alpha, Beta and Gammaproteobacteria/Gammaproteobacteria and Betaproteobacteria/Enterobacterales, Pasteurellales and Orbales/Erwiniaceae</td><td>Bacteria;Proteobacteria;Gammaproteobacteria;Enterobacteriales;Erwiniaceae;Erwinia</td></tr>\n",
       "\t<tr><td>GU810925</td><td>1</td><td>1494</td><td>s108</td><td>Erwinia oleae      </td><td></td><td>Erwiniaceae</td><td>1</td><td>http://www.bacterio.net/erwinia.html</td><td>Bacteria/Alpha, Beta and Gammaproteobacteria/Gammaproteobacteria and Betaproteobacteria/Enterobacterales, Pasteurellales and Orbales/Erwiniaceae</td><td>Bacteria;Proteobacteria;Gammaproteobacteria;Enterobacteriales;Erwiniaceae;Erwinia</td></tr>\n",
       "\t<tr><td>⋮</td><td>⋮</td><td>⋮</td><td>⋮</td><td>⋮</td><td>⋮</td><td>⋮</td><td>⋮</td><td>⋮</td><td>⋮</td><td>⋮</td></tr>\n",
       "\t<tr><td>CP000493</td><td>1664038</td><td>1665353</td><td>s93 </td><td>Hyperthermus butylicus   </td><td>type sp.</td><td>Pyrodictiaceae    </td><td>1</td><td>http://www.bacterio.net/hyperthermus.html  </td><td>Archaea/Crenarchaeota/Pyrodictiaceae</td><td>Archaea;Crenarchaeota;Thermoprotei;Desulfurococcales;Pyrodictiaceae;Hyperthermus</td></tr>\n",
       "\t<tr><td>CP007536</td><td> 892626</td><td> 894095</td><td>s121</td><td>Nitrososphaera viennensis</td><td>type sp.</td><td>Nitrososphaeraceae</td><td> </td><td>http://www.bacterio.net/nitrososphaera.html</td><td>Archaea                             </td><td>Archaea;Thaumarchaeota;Nitrososphaerales;Nitrososphaeraceae;Nitrososphaera      </td></tr>\n",
       "</tbody>\n",
       "</table>\n"
      ],
      "text/latex": [
       "A data.frame: 13903 × 11\n",
       "\\begin{tabular}{lllllllllll}\n",
       " V1 & V2 & V3 & V4 & V5 & V6 & V7 & V8 & V9 & V10 & V11\\\\\n",
       " <fct> & <int> & <int> & <fct> & <fct> & <fct> & <fct> & <fct> & <fct> & <fct> & <fct>\\\\\n",
       "\\hline\n",
       "\t FJ611848 & 1 & 1348 & s128 & Erwinia gerundensis &  & Erwiniaceae &   & http://www.bacterio.net/erwinia.html & Bacteria/Alpha, Beta and Gammaproteobacteria/Gammaproteobacteria and Betaproteobacteria/Enterobacterales, Pasteurellales and Orbales/Erwiniaceae & Bacteria;Proteobacteria;Gammaproteobacteria;Enterobacteriales;Erwiniaceae;Erwinia\\\\\n",
       "\t GU810925 & 1 & 1494 & s108 & Erwinia oleae       &  & Erwiniaceae & 1 & http://www.bacterio.net/erwinia.html & Bacteria/Alpha, Beta and Gammaproteobacteria/Gammaproteobacteria and Betaproteobacteria/Enterobacterales, Pasteurellales and Orbales/Erwiniaceae & Bacteria;Proteobacteria;Gammaproteobacteria;Enterobacteriales;Erwiniaceae;Erwinia\\\\\n",
       "\t ⋮ & ⋮ & ⋮ & ⋮ & ⋮ & ⋮ & ⋮ & ⋮ & ⋮ & ⋮ & ⋮\\\\\n",
       "\t CP000493 & 1664038 & 1665353 & s93  & Hyperthermus butylicus    & type sp. & Pyrodictiaceae     & 1 & http://www.bacterio.net/hyperthermus.html   & Archaea/Crenarchaeota/Pyrodictiaceae & Archaea;Crenarchaeota;Thermoprotei;Desulfurococcales;Pyrodictiaceae;Hyperthermus\\\\\n",
       "\t CP007536 &  892626 &  894095 & s121 & Nitrososphaera viennensis & type sp. & Nitrososphaeraceae &   & http://www.bacterio.net/nitrososphaera.html & Archaea                              & Archaea;Thaumarchaeota;Nitrososphaerales;Nitrososphaeraceae;Nitrososphaera      \\\\\n",
       "\\end{tabular}\n"
      ],
      "text/markdown": [
       "\n",
       "A data.frame: 13903 × 11\n",
       "\n",
       "| V1 &lt;fct&gt; | V2 &lt;int&gt; | V3 &lt;int&gt; | V4 &lt;fct&gt; | V5 &lt;fct&gt; | V6 &lt;fct&gt; | V7 &lt;fct&gt; | V8 &lt;fct&gt; | V9 &lt;fct&gt; | V10 &lt;fct&gt; | V11 &lt;fct&gt; |\n",
       "|---|---|---|---|---|---|---|---|---|---|---|\n",
       "| FJ611848 | 1 | 1348 | s128 | Erwinia gerundensis | <!----> | Erwiniaceae | <!----> | http://www.bacterio.net/erwinia.html | Bacteria/Alpha, Beta and Gammaproteobacteria/Gammaproteobacteria and Betaproteobacteria/Enterobacterales, Pasteurellales and Orbales/Erwiniaceae | Bacteria;Proteobacteria;Gammaproteobacteria;Enterobacteriales;Erwiniaceae;Erwinia |\n",
       "| GU810925 | 1 | 1494 | s108 | Erwinia oleae       | <!----> | Erwiniaceae | 1 | http://www.bacterio.net/erwinia.html | Bacteria/Alpha, Beta and Gammaproteobacteria/Gammaproteobacteria and Betaproteobacteria/Enterobacterales, Pasteurellales and Orbales/Erwiniaceae | Bacteria;Proteobacteria;Gammaproteobacteria;Enterobacteriales;Erwiniaceae;Erwinia |\n",
       "| ⋮ | ⋮ | ⋮ | ⋮ | ⋮ | ⋮ | ⋮ | ⋮ | ⋮ | ⋮ | ⋮ |\n",
       "| CP000493 | 1664038 | 1665353 | s93  | Hyperthermus butylicus    | type sp. | Pyrodictiaceae     | 1 | http://www.bacterio.net/hyperthermus.html   | Archaea/Crenarchaeota/Pyrodictiaceae | Archaea;Crenarchaeota;Thermoprotei;Desulfurococcales;Pyrodictiaceae;Hyperthermus |\n",
       "| CP007536 |  892626 |  894095 | s121 | Nitrososphaera viennensis | type sp. | Nitrososphaeraceae | <!----> | http://www.bacterio.net/nitrososphaera.html | Archaea                              | Archaea;Thaumarchaeota;Nitrososphaerales;Nitrososphaeraceae;Nitrososphaera       |\n",
       "\n"
      ],
      "text/plain": [
       "      V1       V2      V3      V4   V5                        V6      \n",
       "1     FJ611848 1       1348    s128 Erwinia gerundensis               \n",
       "2     GU810925 1       1494    s108 Erwinia oleae                     \n",
       "⋮     ⋮        ⋮       ⋮       ⋮    ⋮                         ⋮       \n",
       "13902 CP000493 1664038 1665353 s93  Hyperthermus butylicus    type sp.\n",
       "13903 CP007536  892626  894095 s121 Nitrososphaera viennensis type sp.\n",
       "      V7                 V8 V9                                         \n",
       "1     Erwiniaceae           http://www.bacterio.net/erwinia.html       \n",
       "2     Erwiniaceae        1  http://www.bacterio.net/erwinia.html       \n",
       "⋮     ⋮                  ⋮  ⋮                                          \n",
       "13902 Pyrodictiaceae     1  http://www.bacterio.net/hyperthermus.html  \n",
       "13903 Nitrososphaeraceae    http://www.bacterio.net/nitrososphaera.html\n",
       "      V10                                                                                                                                             \n",
       "1     Bacteria/Alpha, Beta and Gammaproteobacteria/Gammaproteobacteria and Betaproteobacteria/Enterobacterales, Pasteurellales and Orbales/Erwiniaceae\n",
       "2     Bacteria/Alpha, Beta and Gammaproteobacteria/Gammaproteobacteria and Betaproteobacteria/Enterobacterales, Pasteurellales and Orbales/Erwiniaceae\n",
       "⋮     ⋮                                                                                                                                               \n",
       "13902 Archaea/Crenarchaeota/Pyrodictiaceae                                                                                                            \n",
       "13903 Archaea                                                                                                                                         \n",
       "      V11                                                                              \n",
       "1     Bacteria;Proteobacteria;Gammaproteobacteria;Enterobacteriales;Erwiniaceae;Erwinia\n",
       "2     Bacteria;Proteobacteria;Gammaproteobacteria;Enterobacteriales;Erwiniaceae;Erwinia\n",
       "⋮     ⋮                                                                                \n",
       "13902 Archaea;Crenarchaeota;Thermoprotei;Desulfurococcales;Pyrodictiaceae;Hyperthermus \n",
       "13903 Archaea;Thaumarchaeota;Nitrososphaerales;Nitrososphaeraceae;Nitrososphaera       "
      ]
     },
     "metadata": {},
     "output_type": "display_data"
    }
   ],
   "source": [
    "# LTP summary\n",
    "LTP_blast_csv = read.delim(LTP_blast_csv_file, sep='\\t', header=FALSE)\n",
    "LTP_blast_csv"
   ]
  },
  {
   "cell_type": "markdown",
   "metadata": {
    "ExecuteTime": {
     "end_time": "2020-06-14T06:36:06.955881Z",
     "start_time": "2020-06-14T06:36:05.381Z"
    }
   },
   "source": [
    "# Rep sequences"
   ]
  },
  {
   "cell_type": "code",
   "execution_count": 273,
   "metadata": {
    "ExecuteTime": {
     "end_time": "2020-06-15T11:52:34.558447Z",
     "start_time": "2020-06-15T11:52:32.018Z"
    }
   },
   "outputs": [],
   "source": [
    "# exporting sequences\n",
    "cmd = 'qiime tools export --input-path %s --output-path %s'\n",
    "cmd = sprintf(cmd, rep_seq_qza_file, tmp_dir)\n",
    "bash_job(cmd, conda_env=conda_env)"
   ]
  },
  {
   "cell_type": "code",
   "execution_count": 40,
   "metadata": {
    "ExecuteTime": {
     "end_time": "2020-06-14T06:44:55.330233Z",
     "start_time": "2020-06-14T06:44:11.295Z"
    }
   },
   "outputs": [
    {
     "data": {
      "text/html": [
       "<table>\n",
       "<caption>A data.frame: 1 × 10</caption>\n",
       "<thead>\n",
       "\t<tr><th></th><th scope=col>size</th><th scope=col>isdir</th><th scope=col>mode</th><th scope=col>mtime</th><th scope=col>ctime</th><th scope=col>atime</th><th scope=col>uid</th><th scope=col>gid</th><th scope=col>uname</th><th scope=col>grname</th></tr>\n",
       "\t<tr><th></th><th scope=col>&lt;dbl&gt;</th><th scope=col>&lt;lgl&gt;</th><th scope=col>&lt;octmode&gt;</th><th scope=col>&lt;dttm&gt;</th><th scope=col>&lt;dttm&gt;</th><th scope=col>&lt;dttm&gt;</th><th scope=col>&lt;int&gt;</th><th scope=col>&lt;int&gt;</th><th scope=col>&lt;chr&gt;</th><th scope=col>&lt;chr&gt;</th></tr>\n",
       "</thead>\n",
       "<tbody>\n",
       "\t<tr><th scope=row>/ebio/abt3_scratch/Georg_animal_feces/tmp//dna-sequences.fasta</th><td>36783199</td><td>FALSE</td><td>644</td><td>2020-06-14 08:44:23</td><td>2020-06-14 08:44:54</td><td>2020-06-14 08:44:23</td><td>6354</td><td>353</td><td>nyoungblut</td><td>abt3</td></tr>\n",
       "</tbody>\n",
       "</table>\n"
      ],
      "text/latex": [
       "A data.frame: 1 × 10\n",
       "\\begin{tabular}{r|llllllllll}\n",
       "  & size & isdir & mode & mtime & ctime & atime & uid & gid & uname & grname\\\\\n",
       "  & <dbl> & <lgl> & <octmode> & <dttm> & <dttm> & <dttm> & <int> & <int> & <chr> & <chr>\\\\\n",
       "\\hline\n",
       "\t/ebio/abt3\\_scratch/Georg\\_animal\\_feces/tmp//dna-sequences.fasta & 36783199 & FALSE & 644 & 2020-06-14 08:44:23 & 2020-06-14 08:44:54 & 2020-06-14 08:44:23 & 6354 & 353 & nyoungblut & abt3\\\\\n",
       "\\end{tabular}\n"
      ],
      "text/markdown": [
       "\n",
       "A data.frame: 1 × 10\n",
       "\n",
       "| <!--/--> | size &lt;dbl&gt; | isdir &lt;lgl&gt; | mode &lt;octmode&gt; | mtime &lt;dttm&gt; | ctime &lt;dttm&gt; | atime &lt;dttm&gt; | uid &lt;int&gt; | gid &lt;int&gt; | uname &lt;chr&gt; | grname &lt;chr&gt; |\n",
       "|---|---|---|---|---|---|---|---|---|---|---|\n",
       "| /ebio/abt3_scratch/Georg_animal_feces/tmp//dna-sequences.fasta | 36783199 | FALSE | 644 | 2020-06-14 08:44:23 | 2020-06-14 08:44:54 | 2020-06-14 08:44:23 | 6354 | 353 | nyoungblut | abt3 |\n",
       "\n"
      ],
      "text/plain": [
       "                                                               size     isdir\n",
       "/ebio/abt3_scratch/Georg_animal_feces/tmp//dna-sequences.fasta 36783199 FALSE\n",
       "                                                               mode\n",
       "/ebio/abt3_scratch/Georg_animal_feces/tmp//dna-sequences.fasta 644 \n",
       "                                                               mtime              \n",
       "/ebio/abt3_scratch/Georg_animal_feces/tmp//dna-sequences.fasta 2020-06-14 08:44:23\n",
       "                                                               ctime              \n",
       "/ebio/abt3_scratch/Georg_animal_feces/tmp//dna-sequences.fasta 2020-06-14 08:44:54\n",
       "                                                               atime              \n",
       "/ebio/abt3_scratch/Georg_animal_feces/tmp//dna-sequences.fasta 2020-06-14 08:44:23\n",
       "                                                               uid  gid\n",
       "/ebio/abt3_scratch/Georg_animal_feces/tmp//dna-sequences.fasta 6354 353\n",
       "                                                               uname     \n",
       "/ebio/abt3_scratch/Georg_animal_feces/tmp//dna-sequences.fasta nyoungblut\n",
       "                                                               grname\n",
       "/ebio/abt3_scratch/Georg_animal_feces/tmp//dna-sequences.fasta abt3  "
      ]
     },
     "metadata": {},
     "output_type": "display_data"
    }
   ],
   "source": [
    "dna_seq_file = file.path(tmp_dir, 'dna-sequences.fasta')\n",
    "file.info(dna_seq_file)"
   ]
  },
  {
   "cell_type": "markdown",
   "metadata": {},
   "source": [
    "# BLASTn run"
   ]
  },
  {
   "cell_type": "code",
   "execution_count": 5,
   "metadata": {
    "ExecuteTime": {
     "end_time": "2020-09-26T07:21:56.961950Z",
     "start_time": "2020-09-26T07:21:54.194Z"
    }
   },
   "outputs": [
    {
     "data": {
      "text/html": [
       "'/ebio/abt3_projects/Georg_animal_feces/data/16S_arch/MiSeq-Runs-116-122-126-189-190/LLA/type_strain_similarity//rep-seqs_merged_filt_blastn-LTP.txt'"
      ],
      "text/latex": [
       "'/ebio/abt3\\_projects/Georg\\_animal\\_feces/data/16S\\_arch/MiSeq-Runs-116-122-126-189-190/LLA/type\\_strain\\_similarity//rep-seqs\\_merged\\_filt\\_blastn-LTP.txt'"
      ],
      "text/markdown": [
       "'/ebio/abt3_projects/Georg_animal_feces/data/16S_arch/MiSeq-Runs-116-122-126-189-190/LLA/type_strain_similarity//rep-seqs_merged_filt_blastn-LTP.txt'"
      ],
      "text/plain": [
       "[1] \"/ebio/abt3_projects/Georg_animal_feces/data/16S_arch/MiSeq-Runs-116-122-126-189-190/LLA/type_strain_similarity//rep-seqs_merged_filt_blastn-LTP.txt\""
      ]
     },
     "metadata": {},
     "output_type": "display_data"
    }
   ],
   "source": [
    "blast_out_file = file.path(work_dir, 'rep-seqs_merged_filt_blastn-LTP.txt')\n",
    "blast_out_file"
   ]
  },
  {
   "cell_type": "code",
   "execution_count": 50,
   "metadata": {
    "ExecuteTime": {
     "end_time": "2020-06-14T06:46:55.499944Z",
     "start_time": "2020-06-14T06:46:55.444Z"
    }
   },
   "outputs": [
    {
     "data": {
      "text/html": [
       "'blastn -query /ebio/abt3_scratch/Georg_animal_feces/tmp//dna-sequences.fasta -subject /ebio/abt3_projects/databases_no-backup/SILVA/all_species_living_tree/LTPs132_SSU_blastdb.fasta -out /ebio/abt3_projects/Georg_animal_feces/data/16S_arch/MiSeq-Runs-116-122-126-189-190/LLA/type_strain_similarity//rep-seqs_merged_filt_blastn-LTP.txt -evalue 1e-5 -num_threads 24 -outfmt \\\\\"6 qaccver saccver pident length mismatch gapopen qlen qstart qend slen sstart send evalue\\\\\"'"
      ],
      "text/latex": [
       "'blastn -query /ebio/abt3\\_scratch/Georg\\_animal\\_feces/tmp//dna-sequences.fasta -subject /ebio/abt3\\_projects/databases\\_no-backup/SILVA/all\\_species\\_living\\_tree/LTPs132\\_SSU\\_blastdb.fasta -out /ebio/abt3\\_projects/Georg\\_animal\\_feces/data/16S\\_arch/MiSeq-Runs-116-122-126-189-190/LLA/type\\_strain\\_similarity//rep-seqs\\_merged\\_filt\\_blastn-LTP.txt -evalue 1e-5 -num\\_threads 24 -outfmt \\textbackslash{}\\textbackslash{}\"6 qaccver saccver pident length mismatch gapopen qlen qstart qend slen sstart send evalue\\textbackslash{}\\textbackslash{}\"'"
      ],
      "text/markdown": [
       "'blastn -query /ebio/abt3_scratch/Georg_animal_feces/tmp//dna-sequences.fasta -subject /ebio/abt3_projects/databases_no-backup/SILVA/all_species_living_tree/LTPs132_SSU_blastdb.fasta -out /ebio/abt3_projects/Georg_animal_feces/data/16S_arch/MiSeq-Runs-116-122-126-189-190/LLA/type_strain_similarity//rep-seqs_merged_filt_blastn-LTP.txt -evalue 1e-5 -num_threads 24 -outfmt \\\\\"6 qaccver saccver pident length mismatch gapopen qlen qstart qend slen sstart send evalue\\\\\"'"
      ],
      "text/plain": [
       "[1] \"blastn -query /ebio/abt3_scratch/Georg_animal_feces/tmp//dna-sequences.fasta -subject /ebio/abt3_projects/databases_no-backup/SILVA/all_species_living_tree/LTPs132_SSU_blastdb.fasta -out /ebio/abt3_projects/Georg_animal_feces/data/16S_arch/MiSeq-Runs-116-122-126-189-190/LLA/type_strain_similarity//rep-seqs_merged_filt_blastn-LTP.txt -evalue 1e-5 -num_threads 24 -outfmt \\\\\\\"6 qaccver saccver pident length mismatch gapopen qlen qstart qend slen sstart send evalue\\\\\\\"\""
      ]
     },
     "metadata": {},
     "output_type": "display_data"
    }
   ],
   "source": [
    "outfmt = '\\\\\"6 qaccver saccver pident length mismatch gapopen qlen qstart qend slen sstart send evalue\\\\\"'\n",
    "cmd = 'blastn -query %s -subject %s -out %s -evalue 1e-5 -num_threads %s -outfmt %s'\n",
    "cmd = sprintf(cmd, dna_seq_file, LTP_blast_db_file, blast_out_file, threads, outfmt)\n",
    "cmd"
   ]
  },
  {
   "cell_type": "code",
   "execution_count": 51,
   "metadata": {
    "ExecuteTime": {
     "end_time": "2020-06-14T17:45:23.818502Z",
     "start_time": "2020-06-14T06:46:56.684Z"
    }
   },
   "outputs": [
    {
     "name": "stdout",
     "output_type": "stream",
     "text": [
      "'num_threads' is currently ignored when 'subject' is specified."
     ]
    },
    {
     "data": {
      "text/plain": [
       "NULL"
      ]
     },
     "metadata": {},
     "output_type": "display_data"
    }
   ],
   "source": [
    "# running blast job\n",
    "bash_job(cmd, conda_env='py3_genome')"
   ]
  },
  {
   "cell_type": "code",
   "execution_count": 52,
   "metadata": {
    "ExecuteTime": {
     "end_time": "2020-06-14T17:45:23.821018Z",
     "start_time": "2020-06-14T06:46:58.019Z"
    }
   },
   "outputs": [
    {
     "name": "stderr",
     "output_type": "stream",
     "text": [
      "Sending email to: nyoungblut@tuebingen.mpg.de\n",
      "\n"
     ]
    }
   ],
   "source": [
    "send_email('http://127.0.0.1:9705/notebooks/notebooks/16S_arch/MiSeq-Runs116-122-126-189-190/01_LLA/11_closest_type_strains.ipynb')"
   ]
  },
  {
   "cell_type": "code",
   "execution_count": 53,
   "metadata": {
    "ExecuteTime": {
     "end_time": "2020-06-14T17:45:23.823702Z",
     "start_time": "2020-06-14T06:46:58.372Z"
    }
   },
   "outputs": [
    {
     "data": {
      "text/html": [
       "<table>\n",
       "<caption>A data.frame: 1 × 10</caption>\n",
       "<thead>\n",
       "\t<tr><th></th><th scope=col>size</th><th scope=col>isdir</th><th scope=col>mode</th><th scope=col>mtime</th><th scope=col>ctime</th><th scope=col>atime</th><th scope=col>uid</th><th scope=col>gid</th><th scope=col>uname</th><th scope=col>grname</th></tr>\n",
       "\t<tr><th></th><th scope=col>&lt;dbl&gt;</th><th scope=col>&lt;lgl&gt;</th><th scope=col>&lt;octmode&gt;</th><th scope=col>&lt;dttm&gt;</th><th scope=col>&lt;dttm&gt;</th><th scope=col>&lt;dttm&gt;</th><th scope=col>&lt;int&gt;</th><th scope=col>&lt;int&gt;</th><th scope=col>&lt;chr&gt;</th><th scope=col>&lt;chr&gt;</th></tr>\n",
       "</thead>\n",
       "<tbody>\n",
       "\t<tr><th scope=row>/ebio/abt3_projects/Georg_animal_feces/data/16S_arch/MiSeq-Runs-116-122-126-189-190/LLA/type_strain_similarity//rep-seqs_merged_filt_blastn-LTP.txt</th><td>5787873369</td><td>FALSE</td><td>644</td><td>2020-06-14 15:53:22</td><td>2020-06-14 15:53:22</td><td>2020-06-14 08:47:01</td><td>6354</td><td>353</td><td>nyoungblut</td><td>abt3</td></tr>\n",
       "</tbody>\n",
       "</table>\n"
      ],
      "text/latex": [
       "A data.frame: 1 × 10\n",
       "\\begin{tabular}{r|llllllllll}\n",
       "  & size & isdir & mode & mtime & ctime & atime & uid & gid & uname & grname\\\\\n",
       "  & <dbl> & <lgl> & <octmode> & <dttm> & <dttm> & <dttm> & <int> & <int> & <chr> & <chr>\\\\\n",
       "\\hline\n",
       "\t/ebio/abt3\\_projects/Georg\\_animal\\_feces/data/16S\\_arch/MiSeq-Runs-116-122-126-189-190/LLA/type\\_strain\\_similarity//rep-seqs\\_merged\\_filt\\_blastn-LTP.txt & 5787873369 & FALSE & 644 & 2020-06-14 15:53:22 & 2020-06-14 15:53:22 & 2020-06-14 08:47:01 & 6354 & 353 & nyoungblut & abt3\\\\\n",
       "\\end{tabular}\n"
      ],
      "text/markdown": [
       "\n",
       "A data.frame: 1 × 10\n",
       "\n",
       "| <!--/--> | size &lt;dbl&gt; | isdir &lt;lgl&gt; | mode &lt;octmode&gt; | mtime &lt;dttm&gt; | ctime &lt;dttm&gt; | atime &lt;dttm&gt; | uid &lt;int&gt; | gid &lt;int&gt; | uname &lt;chr&gt; | grname &lt;chr&gt; |\n",
       "|---|---|---|---|---|---|---|---|---|---|---|\n",
       "| /ebio/abt3_projects/Georg_animal_feces/data/16S_arch/MiSeq-Runs-116-122-126-189-190/LLA/type_strain_similarity//rep-seqs_merged_filt_blastn-LTP.txt | 5787873369 | FALSE | 644 | 2020-06-14 15:53:22 | 2020-06-14 15:53:22 | 2020-06-14 08:47:01 | 6354 | 353 | nyoungblut | abt3 |\n",
       "\n"
      ],
      "text/plain": [
       "                                                                                                                                                    size      \n",
       "/ebio/abt3_projects/Georg_animal_feces/data/16S_arch/MiSeq-Runs-116-122-126-189-190/LLA/type_strain_similarity//rep-seqs_merged_filt_blastn-LTP.txt 5787873369\n",
       "                                                                                                                                                    isdir\n",
       "/ebio/abt3_projects/Georg_animal_feces/data/16S_arch/MiSeq-Runs-116-122-126-189-190/LLA/type_strain_similarity//rep-seqs_merged_filt_blastn-LTP.txt FALSE\n",
       "                                                                                                                                                    mode\n",
       "/ebio/abt3_projects/Georg_animal_feces/data/16S_arch/MiSeq-Runs-116-122-126-189-190/LLA/type_strain_similarity//rep-seqs_merged_filt_blastn-LTP.txt 644 \n",
       "                                                                                                                                                    mtime              \n",
       "/ebio/abt3_projects/Georg_animal_feces/data/16S_arch/MiSeq-Runs-116-122-126-189-190/LLA/type_strain_similarity//rep-seqs_merged_filt_blastn-LTP.txt 2020-06-14 15:53:22\n",
       "                                                                                                                                                    ctime              \n",
       "/ebio/abt3_projects/Georg_animal_feces/data/16S_arch/MiSeq-Runs-116-122-126-189-190/LLA/type_strain_similarity//rep-seqs_merged_filt_blastn-LTP.txt 2020-06-14 15:53:22\n",
       "                                                                                                                                                    atime              \n",
       "/ebio/abt3_projects/Georg_animal_feces/data/16S_arch/MiSeq-Runs-116-122-126-189-190/LLA/type_strain_similarity//rep-seqs_merged_filt_blastn-LTP.txt 2020-06-14 08:47:01\n",
       "                                                                                                                                                    uid \n",
       "/ebio/abt3_projects/Georg_animal_feces/data/16S_arch/MiSeq-Runs-116-122-126-189-190/LLA/type_strain_similarity//rep-seqs_merged_filt_blastn-LTP.txt 6354\n",
       "                                                                                                                                                    gid\n",
       "/ebio/abt3_projects/Georg_animal_feces/data/16S_arch/MiSeq-Runs-116-122-126-189-190/LLA/type_strain_similarity//rep-seqs_merged_filt_blastn-LTP.txt 353\n",
       "                                                                                                                                                    uname     \n",
       "/ebio/abt3_projects/Georg_animal_feces/data/16S_arch/MiSeq-Runs-116-122-126-189-190/LLA/type_strain_similarity//rep-seqs_merged_filt_blastn-LTP.txt nyoungblut\n",
       "                                                                                                                                                    grname\n",
       "/ebio/abt3_projects/Georg_animal_feces/data/16S_arch/MiSeq-Runs-116-122-126-189-190/LLA/type_strain_similarity//rep-seqs_merged_filt_blastn-LTP.txt abt3  "
      ]
     },
     "metadata": {},
     "output_type": "display_data"
    }
   ],
   "source": [
    "# output file\n",
    "file.info(blast_out_file)"
   ]
  },
  {
   "cell_type": "markdown",
   "metadata": {},
   "source": [
    "# Parsing BLAST results"
   ]
  },
  {
   "cell_type": "code",
   "execution_count": 6,
   "metadata": {
    "ExecuteTime": {
     "end_time": "2020-09-26T07:23:05.411594Z",
     "start_time": "2020-09-26T07:21:59.526Z"
    }
   },
   "outputs": [
    {
     "data": {
      "text/html": [
       "<table>\n",
       "<caption>A data.table: 15131221 × 13</caption>\n",
       "<thead>\n",
       "\t<tr><th scope=col>qaccver</th><th scope=col>saccver</th><th scope=col>pident</th><th scope=col>length</th><th scope=col>mismatch</th><th scope=col>gapopen</th><th scope=col>qlen</th><th scope=col>qstart</th><th scope=col>qend</th><th scope=col>slen</th><th scope=col>sstart</th><th scope=col>send</th><th scope=col>evalue</th></tr>\n",
       "\t<tr><th scope=col>&lt;chr&gt;</th><th scope=col>&lt;chr&gt;</th><th scope=col>&lt;dbl&gt;</th><th scope=col>&lt;int&gt;</th><th scope=col>&lt;int&gt;</th><th scope=col>&lt;int&gt;</th><th scope=col>&lt;int&gt;</th><th scope=col>&lt;int&gt;</th><th scope=col>&lt;int&gt;</th><th scope=col>&lt;int&gt;</th><th scope=col>&lt;int&gt;</th><th scope=col>&lt;int&gt;</th><th scope=col>&lt;dbl&gt;</th></tr>\n",
       "</thead>\n",
       "<tbody>\n",
       "\t<tr><td>000029244345a7c6e454809d6a334492</td><td>lcl\\|LTPs132_SSU\\|AarDelic\\|1451bp\\|Rikenellaceae\\|AB298736</td><td>88.350</td><td>412</td><td>46</td><td>2</td><td>416</td><td>1</td><td>411</td><td>1451</td><td>493</td><td>903</td><td>1.36e-139</td></tr>\n",
       "\t<tr><td>000029244345a7c6e454809d6a334492</td><td>lcl\\|LTPs132_SSU\\|MuiHirud\\|1511bp\\|Rikenellaceae\\|HG934468</td><td>88.378</td><td>413</td><td>44</td><td>4</td><td>416</td><td>1</td><td>411</td><td>1511</td><td>499</td><td>909</td><td>1.36e-139</td></tr>\n",
       "\t<tr><td>⋮</td><td>⋮</td><td>⋮</td><td>⋮</td><td>⋮</td><td>⋮</td><td>⋮</td><td>⋮</td><td>⋮</td><td>⋮</td><td>⋮</td><td>⋮</td><td>⋮</td></tr>\n",
       "\t<tr><td>fffd4d88f98e37e62eaa23deafeca2d0</td><td>lcl\\|LTPs132_SSU\\|ConArcti\\|1441bp\\|Paenibacillaceae\\|HQ315787</td><td>85.060</td><td>415</td><td>57</td><td> 4</td><td>419</td><td>1</td><td>413</td><td>1441</td><td>465</td><td>876</td><td>8.47e-117</td></tr>\n",
       "\t<tr><td>fffd4d88f98e37e62eaa23deafeca2d0</td><td>lcl\\|LTPs132_SSU\\|CloColla\\|1506bp\\|Clostridiaceae\\|X73439    </td><td>85.132</td><td>417</td><td>50</td><td>11</td><td>419</td><td>1</td><td>413</td><td>1506</td><td>488</td><td>896</td><td>3.05e-116</td></tr>\n",
       "</tbody>\n",
       "</table>\n"
      ],
      "text/latex": [
       "A data.table: 15131221 × 13\n",
       "\\begin{tabular}{lllllllllllll}\n",
       " qaccver & saccver & pident & length & mismatch & gapopen & qlen & qstart & qend & slen & sstart & send & evalue\\\\\n",
       " <chr> & <chr> & <dbl> & <int> & <int> & <int> & <int> & <int> & <int> & <int> & <int> & <int> & <dbl>\\\\\n",
       "\\hline\n",
       "\t 000029244345a7c6e454809d6a334492 & lcl\\textbackslash{}\\textbar{}LTPs132\\_SSU\\textbackslash{}\\textbar{}AarDelic\\textbackslash{}\\textbar{}1451bp\\textbackslash{}\\textbar{}Rikenellaceae\\textbackslash{}\\textbar{}AB298736 & 88.350 & 412 & 46 & 2 & 416 & 1 & 411 & 1451 & 493 & 903 & 1.36e-139\\\\\n",
       "\t 000029244345a7c6e454809d6a334492 & lcl\\textbackslash{}\\textbar{}LTPs132\\_SSU\\textbackslash{}\\textbar{}MuiHirud\\textbackslash{}\\textbar{}1511bp\\textbackslash{}\\textbar{}Rikenellaceae\\textbackslash{}\\textbar{}HG934468 & 88.378 & 413 & 44 & 4 & 416 & 1 & 411 & 1511 & 499 & 909 & 1.36e-139\\\\\n",
       "\t ⋮ & ⋮ & ⋮ & ⋮ & ⋮ & ⋮ & ⋮ & ⋮ & ⋮ & ⋮ & ⋮ & ⋮ & ⋮\\\\\n",
       "\t fffd4d88f98e37e62eaa23deafeca2d0 & lcl\\textbackslash{}\\textbar{}LTPs132\\_SSU\\textbackslash{}\\textbar{}ConArcti\\textbackslash{}\\textbar{}1441bp\\textbackslash{}\\textbar{}Paenibacillaceae\\textbackslash{}\\textbar{}HQ315787 & 85.060 & 415 & 57 &  4 & 419 & 1 & 413 & 1441 & 465 & 876 & 8.47e-117\\\\\n",
       "\t fffd4d88f98e37e62eaa23deafeca2d0 & lcl\\textbackslash{}\\textbar{}LTPs132\\_SSU\\textbackslash{}\\textbar{}CloColla\\textbackslash{}\\textbar{}1506bp\\textbackslash{}\\textbar{}Clostridiaceae\\textbackslash{}\\textbar{}X73439     & 85.132 & 417 & 50 & 11 & 419 & 1 & 413 & 1506 & 488 & 896 & 3.05e-116\\\\\n",
       "\\end{tabular}\n"
      ],
      "text/markdown": [
       "\n",
       "A data.table: 15131221 × 13\n",
       "\n",
       "| qaccver &lt;chr&gt; | saccver &lt;chr&gt; | pident &lt;dbl&gt; | length &lt;int&gt; | mismatch &lt;int&gt; | gapopen &lt;int&gt; | qlen &lt;int&gt; | qstart &lt;int&gt; | qend &lt;int&gt; | slen &lt;int&gt; | sstart &lt;int&gt; | send &lt;int&gt; | evalue &lt;dbl&gt; |\n",
       "|---|---|---|---|---|---|---|---|---|---|---|---|---|\n",
       "| 000029244345a7c6e454809d6a334492 | lcl\\|LTPs132_SSU\\|AarDelic\\|1451bp\\|Rikenellaceae\\|AB298736 | 88.350 | 412 | 46 | 2 | 416 | 1 | 411 | 1451 | 493 | 903 | 1.36e-139 |\n",
       "| 000029244345a7c6e454809d6a334492 | lcl\\|LTPs132_SSU\\|MuiHirud\\|1511bp\\|Rikenellaceae\\|HG934468 | 88.378 | 413 | 44 | 4 | 416 | 1 | 411 | 1511 | 499 | 909 | 1.36e-139 |\n",
       "| ⋮ | ⋮ | ⋮ | ⋮ | ⋮ | ⋮ | ⋮ | ⋮ | ⋮ | ⋮ | ⋮ | ⋮ | ⋮ |\n",
       "| fffd4d88f98e37e62eaa23deafeca2d0 | lcl\\|LTPs132_SSU\\|ConArcti\\|1441bp\\|Paenibacillaceae\\|HQ315787 | 85.060 | 415 | 57 |  4 | 419 | 1 | 413 | 1441 | 465 | 876 | 8.47e-117 |\n",
       "| fffd4d88f98e37e62eaa23deafeca2d0 | lcl\\|LTPs132_SSU\\|CloColla\\|1506bp\\|Clostridiaceae\\|X73439     | 85.132 | 417 | 50 | 11 | 419 | 1 | 413 | 1506 | 488 | 896 | 3.05e-116 |\n",
       "\n"
      ],
      "text/plain": [
       "         qaccver                         \n",
       "1        000029244345a7c6e454809d6a334492\n",
       "2        000029244345a7c6e454809d6a334492\n",
       "⋮        ⋮                               \n",
       "15131220 fffd4d88f98e37e62eaa23deafeca2d0\n",
       "15131221 fffd4d88f98e37e62eaa23deafeca2d0\n",
       "         saccver                                                            \n",
       "1        lcl\\\\|LTPs132_SSU\\\\|AarDelic\\\\|1451bp\\\\|Rikenellaceae\\\\|AB298736   \n",
       "2        lcl\\\\|LTPs132_SSU\\\\|MuiHirud\\\\|1511bp\\\\|Rikenellaceae\\\\|HG934468   \n",
       "⋮        ⋮                                                                  \n",
       "15131220 lcl\\\\|LTPs132_SSU\\\\|ConArcti\\\\|1441bp\\\\|Paenibacillaceae\\\\|HQ315787\n",
       "15131221 lcl\\\\|LTPs132_SSU\\\\|CloColla\\\\|1506bp\\\\|Clostridiaceae\\\\|X73439    \n",
       "         pident length mismatch gapopen qlen qstart qend slen sstart send\n",
       "1        88.350 412    46       2       416  1      411  1451 493    903 \n",
       "2        88.378 413    44       4       416  1      411  1511 499    909 \n",
       "⋮        ⋮      ⋮      ⋮        ⋮       ⋮    ⋮      ⋮    ⋮    ⋮      ⋮   \n",
       "15131220 85.060 415    57        4      419  1      413  1441 465    876 \n",
       "15131221 85.132 417    50       11      419  1      413  1506 488    896 \n",
       "         evalue   \n",
       "1        1.36e-139\n",
       "2        1.36e-139\n",
       "⋮        ⋮        \n",
       "15131220 8.47e-117\n",
       "15131221 3.05e-116"
      ]
     },
     "metadata": {},
     "output_type": "display_data"
    }
   ],
   "source": [
    "# load table\n",
    "blast_res = Fread(blast_out_file) %>%\n",
    "    dt_filter(V4 / V7 >= hit_len_cutoff,\n",
    "              V3 >= 85)\n",
    "colnames(blast_res) = c(\n",
    "    'qaccver',\n",
    "    'saccver',\n",
    "    'pident',\n",
    "    'length',\n",
    "    'mismatch',\n",
    "    'gapopen',\n",
    "    'qlen',\n",
    "    'qstart',\n",
    "    'qend',\n",
    "    'slen',\n",
    "    'sstart',\n",
    "    'send',\n",
    "    'evalue')\n",
    "blast_res"
   ]
  },
  {
   "cell_type": "markdown",
   "metadata": {},
   "source": [
    "## Adding taxonomy"
   ]
  },
  {
   "cell_type": "code",
   "execution_count": 7,
   "metadata": {
    "ExecuteTime": {
     "end_time": "2020-09-26T07:23:05.524936Z",
     "start_time": "2020-09-26T07:22:18.299Z"
    }
   },
   "outputs": [
    {
     "data": {
      "text/html": [
       "<table>\n",
       "<caption>A data.table: 1891 × 8</caption>\n",
       "<thead>\n",
       "\t<tr><th scope=col>Domain</th><th scope=col>Phylum</th><th scope=col>Class</th><th scope=col>Order</th><th scope=col>Family</th><th scope=col>Genus</th><th scope=col>Species</th><th scope=col>OTU</th></tr>\n",
       "\t<tr><th scope=col>&lt;chr&gt;</th><th scope=col>&lt;chr&gt;</th><th scope=col>&lt;chr&gt;</th><th scope=col>&lt;chr&gt;</th><th scope=col>&lt;chr&gt;</th><th scope=col>&lt;chr&gt;</th><th scope=col>&lt;chr&gt;</th><th scope=col>&lt;chr&gt;</th></tr>\n",
       "</thead>\n",
       "<tbody>\n",
       "\t<tr><td>Archaea</td><td>Euryarchaeota</td><td>Methanobacteria</td><td>Methanobacteriales</td><td>Methanobacteriaceae</td><td>Methanobrevibacter</td><td>unclassified</td><td>0e97060fe4b9be17bddeedcd27826b04</td></tr>\n",
       "\t<tr><td>Archaea</td><td>Euryarchaeota</td><td>Methanobacteria</td><td>Methanobacteriales</td><td>Methanobacteriaceae</td><td>Methanobrevibacter</td><td>unclassified</td><td>a86c26bd7f16d93e38b101dbd2614a07</td></tr>\n",
       "\t<tr><td>⋮</td><td>⋮</td><td>⋮</td><td>⋮</td><td>⋮</td><td>⋮</td><td>⋮</td><td>⋮</td></tr>\n",
       "\t<tr><td>Archaea</td><td>Euryarchaeota</td><td>Methanobacteria</td><td>Methanobacteriales</td><td>Methanobacteriaceae</td><td>Methanobrevibacter</td><td>unclassified</td><td>9449f372c36cd2d8994d79b091425d42</td></tr>\n",
       "\t<tr><td>Archaea</td><td>Euryarchaeota</td><td>Methanobacteria</td><td>Methanobacteriales</td><td>Methanobacteriaceae</td><td>Methanobrevibacter</td><td>unclassified</td><td>467eeae6997d3667b5d07a76bc1bcdfd</td></tr>\n",
       "</tbody>\n",
       "</table>\n"
      ],
      "text/latex": [
       "A data.table: 1891 × 8\n",
       "\\begin{tabular}{llllllll}\n",
       " Domain & Phylum & Class & Order & Family & Genus & Species & OTU\\\\\n",
       " <chr> & <chr> & <chr> & <chr> & <chr> & <chr> & <chr> & <chr>\\\\\n",
       "\\hline\n",
       "\t Archaea & Euryarchaeota & Methanobacteria & Methanobacteriales & Methanobacteriaceae & Methanobrevibacter & unclassified & 0e97060fe4b9be17bddeedcd27826b04\\\\\n",
       "\t Archaea & Euryarchaeota & Methanobacteria & Methanobacteriales & Methanobacteriaceae & Methanobrevibacter & unclassified & a86c26bd7f16d93e38b101dbd2614a07\\\\\n",
       "\t ⋮ & ⋮ & ⋮ & ⋮ & ⋮ & ⋮ & ⋮ & ⋮\\\\\n",
       "\t Archaea & Euryarchaeota & Methanobacteria & Methanobacteriales & Methanobacteriaceae & Methanobrevibacter & unclassified & 9449f372c36cd2d8994d79b091425d42\\\\\n",
       "\t Archaea & Euryarchaeota & Methanobacteria & Methanobacteriales & Methanobacteriaceae & Methanobrevibacter & unclassified & 467eeae6997d3667b5d07a76bc1bcdfd\\\\\n",
       "\\end{tabular}\n"
      ],
      "text/markdown": [
       "\n",
       "A data.table: 1891 × 8\n",
       "\n",
       "| Domain &lt;chr&gt; | Phylum &lt;chr&gt; | Class &lt;chr&gt; | Order &lt;chr&gt; | Family &lt;chr&gt; | Genus &lt;chr&gt; | Species &lt;chr&gt; | OTU &lt;chr&gt; |\n",
       "|---|---|---|---|---|---|---|---|\n",
       "| Archaea | Euryarchaeota | Methanobacteria | Methanobacteriales | Methanobacteriaceae | Methanobrevibacter | unclassified | 0e97060fe4b9be17bddeedcd27826b04 |\n",
       "| Archaea | Euryarchaeota | Methanobacteria | Methanobacteriales | Methanobacteriaceae | Methanobrevibacter | unclassified | a86c26bd7f16d93e38b101dbd2614a07 |\n",
       "| ⋮ | ⋮ | ⋮ | ⋮ | ⋮ | ⋮ | ⋮ | ⋮ |\n",
       "| Archaea | Euryarchaeota | Methanobacteria | Methanobacteriales | Methanobacteriaceae | Methanobrevibacter | unclassified | 9449f372c36cd2d8994d79b091425d42 |\n",
       "| Archaea | Euryarchaeota | Methanobacteria | Methanobacteriales | Methanobacteriaceae | Methanobrevibacter | unclassified | 467eeae6997d3667b5d07a76bc1bcdfd |\n",
       "\n"
      ],
      "text/plain": [
       "     Domain  Phylum        Class           Order             \n",
       "1    Archaea Euryarchaeota Methanobacteria Methanobacteriales\n",
       "2    Archaea Euryarchaeota Methanobacteria Methanobacteriales\n",
       "⋮    ⋮       ⋮             ⋮               ⋮                 \n",
       "1890 Archaea Euryarchaeota Methanobacteria Methanobacteriales\n",
       "1891 Archaea Euryarchaeota Methanobacteria Methanobacteriales\n",
       "     Family              Genus              Species     \n",
       "1    Methanobacteriaceae Methanobrevibacter unclassified\n",
       "2    Methanobacteriaceae Methanobrevibacter unclassified\n",
       "⋮    ⋮                   ⋮                  ⋮           \n",
       "1890 Methanobacteriaceae Methanobrevibacter unclassified\n",
       "1891 Methanobacteriaceae Methanobrevibacter unclassified\n",
       "     OTU                             \n",
       "1    0e97060fe4b9be17bddeedcd27826b04\n",
       "2    a86c26bd7f16d93e38b101dbd2614a07\n",
       "⋮    ⋮                               \n",
       "1890 9449f372c36cd2d8994d79b091425d42\n",
       "1891 467eeae6997d3667b5d07a76bc1bcdfd"
      ]
     },
     "metadata": {},
     "output_type": "display_data"
    }
   ],
   "source": [
    "# adding taxonomy\n",
    "tax = physeq_arch_IndD %>%\n",
    "    phyloseq2df(tax_table) %>%\n",
    "    as.data.table\n",
    "tax "
   ]
  },
  {
   "cell_type": "code",
   "execution_count": 8,
   "metadata": {
    "ExecuteTime": {
     "end_time": "2020-09-26T07:23:06.442780Z",
     "start_time": "2020-09-26T07:22:20.274Z"
    }
   },
   "outputs": [
    {
     "name": "stdout",
     "output_type": "stream",
     "text": [
      "intersect(x,y): 1744 \n",
      "setdiff(x,y): 74378 \n",
      "setdiff(y,x): 147 \n",
      "union(x,y): 76269 \n"
     ]
    },
    {
     "data": {
      "text/html": [
       "<table>\n",
       "<caption>A data.table: 71911 × 20</caption>\n",
       "<thead>\n",
       "\t<tr><th scope=col>qaccver</th><th scope=col>saccver</th><th scope=col>pident</th><th scope=col>length</th><th scope=col>mismatch</th><th scope=col>gapopen</th><th scope=col>qlen</th><th scope=col>qstart</th><th scope=col>qend</th><th scope=col>slen</th><th scope=col>sstart</th><th scope=col>send</th><th scope=col>evalue</th><th scope=col>Domain</th><th scope=col>Phylum</th><th scope=col>Class</th><th scope=col>Order</th><th scope=col>Family</th><th scope=col>Genus</th><th scope=col>Species</th></tr>\n",
       "\t<tr><th scope=col>&lt;chr&gt;</th><th scope=col>&lt;chr&gt;</th><th scope=col>&lt;dbl&gt;</th><th scope=col>&lt;int&gt;</th><th scope=col>&lt;int&gt;</th><th scope=col>&lt;int&gt;</th><th scope=col>&lt;int&gt;</th><th scope=col>&lt;int&gt;</th><th scope=col>&lt;int&gt;</th><th scope=col>&lt;int&gt;</th><th scope=col>&lt;int&gt;</th><th scope=col>&lt;int&gt;</th><th scope=col>&lt;dbl&gt;</th><th scope=col>&lt;chr&gt;</th><th scope=col>&lt;chr&gt;</th><th scope=col>&lt;chr&gt;</th><th scope=col>&lt;chr&gt;</th><th scope=col>&lt;chr&gt;</th><th scope=col>&lt;chr&gt;</th><th scope=col>&lt;chr&gt;</th></tr>\n",
       "</thead>\n",
       "<tbody>\n",
       "\t<tr><td>e49aea031100097ee25afdeb3fa5ca11</td><td>lcl\\|LTPs132_SSU\\|MthOlley\\|1266bp\\|Methanobacteriaceae\\|AY615201</td><td>85.012</td><td>427</td><td>54</td><td>9</td><td>420</td><td>1</td><td>420</td><td>1266</td><td>374</td><td>797</td><td>5.07e-119</td><td>Archaea</td><td>Euryarchaeota</td><td>Methanobacteria</td><td>Methanobacteriales</td><td>Methanobacteriaceae</td><td>Methanobrevibacter</td><td>Haemonchus placei</td></tr>\n",
       "\t<tr><td>21751bfde2294a2dae4b25267b4ca645</td><td>lcl\\|LTPs132_SSU\\|MthThaue\\|1268bp\\|Methanobacteriaceae\\|U55236  </td><td>86.824</td><td>425</td><td>51</td><td>5</td><td>421</td><td>1</td><td>421</td><td>1268</td><td>408</td><td>831</td><td>4.98e-134</td><td>Archaea</td><td>Euryarchaeota</td><td>Methanobacteria</td><td>Methanobacteriales</td><td>Methanobacteriaceae</td><td>Methanobrevibacter</td><td>unclassified     </td></tr>\n",
       "\t<tr><td>⋮</td><td>⋮</td><td>⋮</td><td>⋮</td><td>⋮</td><td>⋮</td><td>⋮</td><td>⋮</td><td>⋮</td><td>⋮</td><td>⋮</td><td>⋮</td><td>⋮</td><td>⋮</td><td>⋮</td><td>⋮</td><td>⋮</td><td>⋮</td><td>⋮</td><td>⋮</td></tr>\n",
       "\t<tr><td>9449f372c36cd2d8994d79b091425d42</td><td>lcl\\|LTPs132_SSU\\|MctFormi\\|1376bp\\|Methanobacteriaceae\\|AF169245</td><td>85.882</td><td>425</td><td>57</td><td>3</td><td>423</td><td>1</td><td>423</td><td>1376</td><td>414</td><td>837</td><td>8.43e-127</td><td>Archaea</td><td>Euryarchaeota</td><td>Methanobacteria</td><td>Methanobacteriales</td><td>Methanobacteriaceae</td><td>Methanobrevibacter</td><td>unclassified</td></tr>\n",
       "\t<tr><td>9449f372c36cd2d8994d79b091425d42</td><td>lcl\\|LTPs132_SSU\\|MctPetro\\|1392bp\\|Methanobacteriaceae\\|AB542742</td><td>85.176</td><td>425</td><td>60</td><td>3</td><td>423</td><td>1</td><td>423</td><td>1392</td><td>421</td><td>844</td><td>3.06e-121</td><td>Archaea</td><td>Euryarchaeota</td><td>Methanobacteria</td><td>Methanobacteriales</td><td>Methanobacteriaceae</td><td>Methanobrevibacter</td><td>unclassified</td></tr>\n",
       "</tbody>\n",
       "</table>\n"
      ],
      "text/latex": [
       "A data.table: 71911 × 20\n",
       "\\begin{tabular}{llllllllllllllllllll}\n",
       " qaccver & saccver & pident & length & mismatch & gapopen & qlen & qstart & qend & slen & sstart & send & evalue & Domain & Phylum & Class & Order & Family & Genus & Species\\\\\n",
       " <chr> & <chr> & <dbl> & <int> & <int> & <int> & <int> & <int> & <int> & <int> & <int> & <int> & <dbl> & <chr> & <chr> & <chr> & <chr> & <chr> & <chr> & <chr>\\\\\n",
       "\\hline\n",
       "\t e49aea031100097ee25afdeb3fa5ca11 & lcl\\textbackslash{}\\textbar{}LTPs132\\_SSU\\textbackslash{}\\textbar{}MthOlley\\textbackslash{}\\textbar{}1266bp\\textbackslash{}\\textbar{}Methanobacteriaceae\\textbackslash{}\\textbar{}AY615201 & 85.012 & 427 & 54 & 9 & 420 & 1 & 420 & 1266 & 374 & 797 & 5.07e-119 & Archaea & Euryarchaeota & Methanobacteria & Methanobacteriales & Methanobacteriaceae & Methanobrevibacter & Haemonchus placei\\\\\n",
       "\t 21751bfde2294a2dae4b25267b4ca645 & lcl\\textbackslash{}\\textbar{}LTPs132\\_SSU\\textbackslash{}\\textbar{}MthThaue\\textbackslash{}\\textbar{}1268bp\\textbackslash{}\\textbar{}Methanobacteriaceae\\textbackslash{}\\textbar{}U55236   & 86.824 & 425 & 51 & 5 & 421 & 1 & 421 & 1268 & 408 & 831 & 4.98e-134 & Archaea & Euryarchaeota & Methanobacteria & Methanobacteriales & Methanobacteriaceae & Methanobrevibacter & unclassified     \\\\\n",
       "\t ⋮ & ⋮ & ⋮ & ⋮ & ⋮ & ⋮ & ⋮ & ⋮ & ⋮ & ⋮ & ⋮ & ⋮ & ⋮ & ⋮ & ⋮ & ⋮ & ⋮ & ⋮ & ⋮ & ⋮\\\\\n",
       "\t 9449f372c36cd2d8994d79b091425d42 & lcl\\textbackslash{}\\textbar{}LTPs132\\_SSU\\textbackslash{}\\textbar{}MctFormi\\textbackslash{}\\textbar{}1376bp\\textbackslash{}\\textbar{}Methanobacteriaceae\\textbackslash{}\\textbar{}AF169245 & 85.882 & 425 & 57 & 3 & 423 & 1 & 423 & 1376 & 414 & 837 & 8.43e-127 & Archaea & Euryarchaeota & Methanobacteria & Methanobacteriales & Methanobacteriaceae & Methanobrevibacter & unclassified\\\\\n",
       "\t 9449f372c36cd2d8994d79b091425d42 & lcl\\textbackslash{}\\textbar{}LTPs132\\_SSU\\textbackslash{}\\textbar{}MctPetro\\textbackslash{}\\textbar{}1392bp\\textbackslash{}\\textbar{}Methanobacteriaceae\\textbackslash{}\\textbar{}AB542742 & 85.176 & 425 & 60 & 3 & 423 & 1 & 423 & 1392 & 421 & 844 & 3.06e-121 & Archaea & Euryarchaeota & Methanobacteria & Methanobacteriales & Methanobacteriaceae & Methanobrevibacter & unclassified\\\\\n",
       "\\end{tabular}\n"
      ],
      "text/markdown": [
       "\n",
       "A data.table: 71911 × 20\n",
       "\n",
       "| qaccver &lt;chr&gt; | saccver &lt;chr&gt; | pident &lt;dbl&gt; | length &lt;int&gt; | mismatch &lt;int&gt; | gapopen &lt;int&gt; | qlen &lt;int&gt; | qstart &lt;int&gt; | qend &lt;int&gt; | slen &lt;int&gt; | sstart &lt;int&gt; | send &lt;int&gt; | evalue &lt;dbl&gt; | Domain &lt;chr&gt; | Phylum &lt;chr&gt; | Class &lt;chr&gt; | Order &lt;chr&gt; | Family &lt;chr&gt; | Genus &lt;chr&gt; | Species &lt;chr&gt; |\n",
       "|---|---|---|---|---|---|---|---|---|---|---|---|---|---|---|---|---|---|---|---|\n",
       "| e49aea031100097ee25afdeb3fa5ca11 | lcl\\|LTPs132_SSU\\|MthOlley\\|1266bp\\|Methanobacteriaceae\\|AY615201 | 85.012 | 427 | 54 | 9 | 420 | 1 | 420 | 1266 | 374 | 797 | 5.07e-119 | Archaea | Euryarchaeota | Methanobacteria | Methanobacteriales | Methanobacteriaceae | Methanobrevibacter | Haemonchus placei |\n",
       "| 21751bfde2294a2dae4b25267b4ca645 | lcl\\|LTPs132_SSU\\|MthThaue\\|1268bp\\|Methanobacteriaceae\\|U55236   | 86.824 | 425 | 51 | 5 | 421 | 1 | 421 | 1268 | 408 | 831 | 4.98e-134 | Archaea | Euryarchaeota | Methanobacteria | Methanobacteriales | Methanobacteriaceae | Methanobrevibacter | unclassified      |\n",
       "| ⋮ | ⋮ | ⋮ | ⋮ | ⋮ | ⋮ | ⋮ | ⋮ | ⋮ | ⋮ | ⋮ | ⋮ | ⋮ | ⋮ | ⋮ | ⋮ | ⋮ | ⋮ | ⋮ | ⋮ |\n",
       "| 9449f372c36cd2d8994d79b091425d42 | lcl\\|LTPs132_SSU\\|MctFormi\\|1376bp\\|Methanobacteriaceae\\|AF169245 | 85.882 | 425 | 57 | 3 | 423 | 1 | 423 | 1376 | 414 | 837 | 8.43e-127 | Archaea | Euryarchaeota | Methanobacteria | Methanobacteriales | Methanobacteriaceae | Methanobrevibacter | unclassified |\n",
       "| 9449f372c36cd2d8994d79b091425d42 | lcl\\|LTPs132_SSU\\|MctPetro\\|1392bp\\|Methanobacteriaceae\\|AB542742 | 85.176 | 425 | 60 | 3 | 423 | 1 | 423 | 1392 | 421 | 844 | 3.06e-121 | Archaea | Euryarchaeota | Methanobacteria | Methanobacteriales | Methanobacteriaceae | Methanobrevibacter | unclassified |\n",
       "\n"
      ],
      "text/plain": [
       "      qaccver                         \n",
       "1     e49aea031100097ee25afdeb3fa5ca11\n",
       "2     21751bfde2294a2dae4b25267b4ca645\n",
       "⋮     ⋮                               \n",
       "71910 9449f372c36cd2d8994d79b091425d42\n",
       "71911 9449f372c36cd2d8994d79b091425d42\n",
       "      saccver                                                               \n",
       "1     lcl\\\\|LTPs132_SSU\\\\|MthOlley\\\\|1266bp\\\\|Methanobacteriaceae\\\\|AY615201\n",
       "2     lcl\\\\|LTPs132_SSU\\\\|MthThaue\\\\|1268bp\\\\|Methanobacteriaceae\\\\|U55236  \n",
       "⋮     ⋮                                                                     \n",
       "71910 lcl\\\\|LTPs132_SSU\\\\|MctFormi\\\\|1376bp\\\\|Methanobacteriaceae\\\\|AF169245\n",
       "71911 lcl\\\\|LTPs132_SSU\\\\|MctPetro\\\\|1392bp\\\\|Methanobacteriaceae\\\\|AB542742\n",
       "      pident length mismatch gapopen qlen qstart qend slen sstart send\n",
       "1     85.012 427    54       9       420  1      420  1266 374    797 \n",
       "2     86.824 425    51       5       421  1      421  1268 408    831 \n",
       "⋮     ⋮      ⋮      ⋮        ⋮       ⋮    ⋮      ⋮    ⋮    ⋮      ⋮   \n",
       "71910 85.882 425    57       3       423  1      423  1376 414    837 \n",
       "71911 85.176 425    60       3       423  1      423  1392 421    844 \n",
       "      evalue    Domain  Phylum        Class           Order             \n",
       "1     5.07e-119 Archaea Euryarchaeota Methanobacteria Methanobacteriales\n",
       "2     4.98e-134 Archaea Euryarchaeota Methanobacteria Methanobacteriales\n",
       "⋮     ⋮         ⋮       ⋮             ⋮               ⋮                 \n",
       "71910 8.43e-127 Archaea Euryarchaeota Methanobacteria Methanobacteriales\n",
       "71911 3.06e-121 Archaea Euryarchaeota Methanobacteria Methanobacteriales\n",
       "      Family              Genus              Species          \n",
       "1     Methanobacteriaceae Methanobrevibacter Haemonchus placei\n",
       "2     Methanobacteriaceae Methanobrevibacter unclassified     \n",
       "⋮     ⋮                   ⋮                  ⋮                \n",
       "71910 Methanobacteriaceae Methanobrevibacter unclassified     \n",
       "71911 Methanobacteriaceae Methanobrevibacter unclassified     "
      ]
     },
     "metadata": {},
     "output_type": "display_data"
    }
   ],
   "source": [
    "# joining\n",
    "overlap(blast_res, tax, qaccver, OTU)\n",
    "blast_res = blast_res %>%\n",
    "    dt_inner_join(tax, c('qaccver'='OTU'))\n",
    "tax = NULL\n",
    "blast_res"
   ]
  },
  {
   "cell_type": "code",
   "execution_count": 9,
   "metadata": {
    "ExecuteTime": {
     "end_time": "2020-09-26T07:23:06.472159Z",
     "start_time": "2020-09-26T07:22:21.175Z"
    }
   },
   "outputs": [
    {
     "name": "stdout",
     "output_type": "stream",
     "text": [
      "No. of unique OTUs: 1744 \n"
     ]
    }
   ],
   "source": [
    "# filtered table\n",
    "blast_res %>% dt_pull(qaccver) %>% unique_n('OTUs')"
   ]
  },
  {
   "cell_type": "markdown",
   "metadata": {},
   "source": [
    "## Summarizing"
   ]
  },
  {
   "cell_type": "markdown",
   "metadata": {},
   "source": [
    "### Number of OTUs lacking a culture"
   ]
  },
  {
   "cell_type": "code",
   "execution_count": 10,
   "metadata": {
    "ExecuteTime": {
     "end_time": "2020-09-26T07:23:24.530078Z",
     "start_time": "2020-09-26T07:23:24.479Z"
    }
   },
   "outputs": [
    {
     "name": "stdout",
     "output_type": "stream",
     "text": [
      "Total no. of OTUs: 1891 \n"
     ]
    }
   ],
   "source": [
    "total_OTUs = physeq_arch_IndD %>% taxa_names %>% unique %>% length\n",
    "cat('Total no. of OTUs:', total_OTUs, '\\n')"
   ]
  },
  {
   "cell_type": "code",
   "execution_count": 11,
   "metadata": {
    "ExecuteTime": {
     "end_time": "2020-09-26T07:23:25.898518Z",
     "start_time": "2020-09-26T07:23:25.760Z"
    }
   },
   "outputs": [
    {
     "data": {
      "text/plain": [
       "   Min. 1st Qu.  Median    Mean 3rd Qu.    Max. \n",
       "  85.01   91.04   95.75   94.55   97.88   99.77 "
      ]
     },
     "metadata": {},
     "output_type": "display_data"
    },
    {
     "data": {
      "text/html": [
       "<table>\n",
       "<caption>A data.table: 1744 × 8</caption>\n",
       "<thead>\n",
       "\t<tr><th scope=col>Domain</th><th scope=col>Phylum</th><th scope=col>Class</th><th scope=col>Order</th><th scope=col>Family</th><th scope=col>Genus</th><th scope=col>qaccver</th><th scope=col>max_pident</th></tr>\n",
       "\t<tr><th scope=col>&lt;chr&gt;</th><th scope=col>&lt;chr&gt;</th><th scope=col>&lt;chr&gt;</th><th scope=col>&lt;chr&gt;</th><th scope=col>&lt;chr&gt;</th><th scope=col>&lt;chr&gt;</th><th scope=col>&lt;chr&gt;</th><th scope=col>&lt;dbl&gt;</th></tr>\n",
       "</thead>\n",
       "<tbody>\n",
       "\t<tr><td>Archaea</td><td>Euryarchaeota</td><td>Methanobacteria</td><td>Methanobacteriales</td><td>Methanobacteriaceae</td><td>Methanobrevibacter</td><td>e49aea031100097ee25afdeb3fa5ca11</td><td>85.012</td></tr>\n",
       "\t<tr><td>Archaea</td><td>Euryarchaeota</td><td>Methanobacteria</td><td>Methanobacteriales</td><td>Methanobacteriaceae</td><td>Methanobrevibacter</td><td>21751bfde2294a2dae4b25267b4ca645</td><td>86.824</td></tr>\n",
       "\t<tr><td>⋮</td><td>⋮</td><td>⋮</td><td>⋮</td><td>⋮</td><td>⋮</td><td>⋮</td><td>⋮</td></tr>\n",
       "\t<tr><td>Archaea</td><td>Euryarchaeota</td><td>Methanobacteria</td><td>Methanobacteriales</td><td>Methanobacteriaceae</td><td>Methanobrevibacter</td><td>2ff60015277d12d8ca868dab173e96fb</td><td>87.674</td></tr>\n",
       "\t<tr><td>Archaea</td><td>Euryarchaeota</td><td>Methanobacteria</td><td>Methanobacteriales</td><td>Methanobacteriaceae</td><td>Methanobrevibacter</td><td>9449f372c36cd2d8994d79b091425d42</td><td>88.263</td></tr>\n",
       "</tbody>\n",
       "</table>\n"
      ],
      "text/latex": [
       "A data.table: 1744 × 8\n",
       "\\begin{tabular}{llllllll}\n",
       " Domain & Phylum & Class & Order & Family & Genus & qaccver & max\\_pident\\\\\n",
       " <chr> & <chr> & <chr> & <chr> & <chr> & <chr> & <chr> & <dbl>\\\\\n",
       "\\hline\n",
       "\t Archaea & Euryarchaeota & Methanobacteria & Methanobacteriales & Methanobacteriaceae & Methanobrevibacter & e49aea031100097ee25afdeb3fa5ca11 & 85.012\\\\\n",
       "\t Archaea & Euryarchaeota & Methanobacteria & Methanobacteriales & Methanobacteriaceae & Methanobrevibacter & 21751bfde2294a2dae4b25267b4ca645 & 86.824\\\\\n",
       "\t ⋮ & ⋮ & ⋮ & ⋮ & ⋮ & ⋮ & ⋮ & ⋮\\\\\n",
       "\t Archaea & Euryarchaeota & Methanobacteria & Methanobacteriales & Methanobacteriaceae & Methanobrevibacter & 2ff60015277d12d8ca868dab173e96fb & 87.674\\\\\n",
       "\t Archaea & Euryarchaeota & Methanobacteria & Methanobacteriales & Methanobacteriaceae & Methanobrevibacter & 9449f372c36cd2d8994d79b091425d42 & 88.263\\\\\n",
       "\\end{tabular}\n"
      ],
      "text/markdown": [
       "\n",
       "A data.table: 1744 × 8\n",
       "\n",
       "| Domain &lt;chr&gt; | Phylum &lt;chr&gt; | Class &lt;chr&gt; | Order &lt;chr&gt; | Family &lt;chr&gt; | Genus &lt;chr&gt; | qaccver &lt;chr&gt; | max_pident &lt;dbl&gt; |\n",
       "|---|---|---|---|---|---|---|---|\n",
       "| Archaea | Euryarchaeota | Methanobacteria | Methanobacteriales | Methanobacteriaceae | Methanobrevibacter | e49aea031100097ee25afdeb3fa5ca11 | 85.012 |\n",
       "| Archaea | Euryarchaeota | Methanobacteria | Methanobacteriales | Methanobacteriaceae | Methanobrevibacter | 21751bfde2294a2dae4b25267b4ca645 | 86.824 |\n",
       "| ⋮ | ⋮ | ⋮ | ⋮ | ⋮ | ⋮ | ⋮ | ⋮ |\n",
       "| Archaea | Euryarchaeota | Methanobacteria | Methanobacteriales | Methanobacteriaceae | Methanobrevibacter | 2ff60015277d12d8ca868dab173e96fb | 87.674 |\n",
       "| Archaea | Euryarchaeota | Methanobacteria | Methanobacteriales | Methanobacteriaceae | Methanobrevibacter | 9449f372c36cd2d8994d79b091425d42 | 88.263 |\n",
       "\n"
      ],
      "text/plain": [
       "     Domain  Phylum        Class           Order             \n",
       "1    Archaea Euryarchaeota Methanobacteria Methanobacteriales\n",
       "2    Archaea Euryarchaeota Methanobacteria Methanobacteriales\n",
       "⋮    ⋮       ⋮             ⋮               ⋮                 \n",
       "1743 Archaea Euryarchaeota Methanobacteria Methanobacteriales\n",
       "1744 Archaea Euryarchaeota Methanobacteria Methanobacteriales\n",
       "     Family              Genus              qaccver                         \n",
       "1    Methanobacteriaceae Methanobrevibacter e49aea031100097ee25afdeb3fa5ca11\n",
       "2    Methanobacteriaceae Methanobrevibacter 21751bfde2294a2dae4b25267b4ca645\n",
       "⋮    ⋮                   ⋮                  ⋮                               \n",
       "1743 Methanobacteriaceae Methanobrevibacter 2ff60015277d12d8ca868dab173e96fb\n",
       "1744 Methanobacteriaceae Methanobrevibacter 9449f372c36cd2d8994d79b091425d42\n",
       "     max_pident\n",
       "1    85.012    \n",
       "2    86.824    \n",
       "⋮    ⋮         \n",
       "1743 87.674    \n",
       "1744 88.263    "
      ]
     },
     "metadata": {},
     "output_type": "display_data"
    }
   ],
   "source": [
    "# max perc seqID of query\n",
    "blast_res_s = blast_res %>%\n",
    "    dt_summarize(max_pident = max(pident), \n",
    "                 by = c(Domain, Phylum, Class, Order, Family, Genus, qaccver)) \n",
    "\n",
    "blast_res_s$max_pident %>% summary\n",
    "blast_res_s"
   ]
  },
  {
   "cell_type": "code",
   "execution_count": 12,
   "metadata": {
    "ExecuteTime": {
     "end_time": "2020-09-26T07:23:26.806736Z",
     "start_time": "2020-09-26T07:23:26.750Z"
    }
   },
   "outputs": [
    {
     "data": {
      "text/html": [
       "7339416"
      ],
      "text/latex": [
       "7339416"
      ],
      "text/markdown": [
       "7339416"
      ],
      "text/plain": [
       "[1] 7339416"
      ]
     },
     "metadata": {},
     "output_type": "display_data"
    }
   ],
   "source": [
    "# filtering blast results\n",
    "blast_res_s_s = blast_res_s %>%\n",
    "    dt_filter(max_pident < 97) %>%\n",
    "    dt_summarize(n=length(max_pident), c(Domain, Phylum, Class, Order, Family, Genus)) \n",
    "blast_res_s_s$n %>% sum"
   ]
  },
  {
   "cell_type": "code",
   "execution_count": 13,
   "metadata": {
    "ExecuteTime": {
     "end_time": "2020-09-26T07:23:27.471525Z",
     "start_time": "2020-09-26T07:23:27.431Z"
    }
   },
   "outputs": [],
   "source": [
    "#' OTUs with a hit at specific seqID cutoff\n",
    "otus_with_rep = function(seqid_cutoff, blast_res_s){\n",
    "    seqid_cutoff = enquo(seqid_cutoff)\n",
    "    blast_res_s %>%\n",
    "        dt_filter(max_pident < !!seqid_cutoff) %>%\n",
    "        dt_pull(qaccver) %>% unique %>% length\n",
    "}"
   ]
  },
  {
   "cell_type": "code",
   "execution_count": 14,
   "metadata": {
    "ExecuteTime": {
     "end_time": "2020-09-26T07:23:28.491529Z",
     "start_time": "2020-09-26T07:23:28.320Z"
    }
   },
   "outputs": [
    {
     "data": {
      "text/html": [
       "<table>\n",
       "<caption>A data.frame: 16 × 4</caption>\n",
       "<thead>\n",
       "\t<tr><th scope=col>seqID_cutoff</th><th scope=col>n_OTUs</th><th scope=col>perc_OTUs_with_hit</th><th scope=col>perc_OTUs_without_hit</th></tr>\n",
       "\t<tr><th scope=col>&lt;int&gt;</th><th scope=col>&lt;int&gt;</th><th scope=col>&lt;dbl&gt;</th><th scope=col>&lt;dbl&gt;</th></tr>\n",
       "</thead>\n",
       "<tbody>\n",
       "\t<tr><td>100</td><td>1744</td><td> 7.773665</td><td>92.22634</td></tr>\n",
       "\t<tr><td> 99</td><td>1590</td><td>15.917504</td><td>84.08250</td></tr>\n",
       "\t<tr><td>⋮</td><td>⋮</td><td>⋮</td><td>⋮</td></tr>\n",
       "\t<tr><td>86</td><td>23</td><td> 98.78371</td><td>1.216288</td></tr>\n",
       "\t<tr><td>85</td><td> 0</td><td>100.00000</td><td>0.000000</td></tr>\n",
       "</tbody>\n",
       "</table>\n"
      ],
      "text/latex": [
       "A data.frame: 16 × 4\n",
       "\\begin{tabular}{llll}\n",
       " seqID\\_cutoff & n\\_OTUs & perc\\_OTUs\\_with\\_hit & perc\\_OTUs\\_without\\_hit\\\\\n",
       " <int> & <int> & <dbl> & <dbl>\\\\\n",
       "\\hline\n",
       "\t 100 & 1744 &  7.773665 & 92.22634\\\\\n",
       "\t  99 & 1590 & 15.917504 & 84.08250\\\\\n",
       "\t ⋮ & ⋮ & ⋮ & ⋮\\\\\n",
       "\t 86 & 23 &  98.78371 & 1.216288\\\\\n",
       "\t 85 &  0 & 100.00000 & 0.000000\\\\\n",
       "\\end{tabular}\n"
      ],
      "text/markdown": [
       "\n",
       "A data.frame: 16 × 4\n",
       "\n",
       "| seqID_cutoff &lt;int&gt; | n_OTUs &lt;int&gt; | perc_OTUs_with_hit &lt;dbl&gt; | perc_OTUs_without_hit &lt;dbl&gt; |\n",
       "|---|---|---|---|\n",
       "| 100 | 1744 |  7.773665 | 92.22634 |\n",
       "|  99 | 1590 | 15.917504 | 84.08250 |\n",
       "| ⋮ | ⋮ | ⋮ | ⋮ |\n",
       "| 86 | 23 |  98.78371 | 1.216288 |\n",
       "| 85 |  0 | 100.00000 | 0.000000 |\n",
       "\n"
      ],
      "text/plain": [
       "   seqID_cutoff n_OTUs perc_OTUs_with_hit perc_OTUs_without_hit\n",
       "1  100          1744    7.773665          92.22634             \n",
       "2   99          1590   15.917504          84.08250             \n",
       "⋮  ⋮            ⋮      ⋮                  ⋮                    \n",
       "15 86           23      98.78371          1.216288             \n",
       "16 85            0     100.00000          0.000000             "
      ]
     },
     "metadata": {},
     "output_type": "display_data"
    }
   ],
   "source": [
    "# checking multiple seqID cutoffs\n",
    "seqID_cutoff = 85:100\n",
    "n_remain = sapply(seqID_cutoff, otus_with_rep, blast_res_s=blast_res_s)\n",
    "\n",
    "df = data.frame(seqID_cutoff = seqID_cutoff,\n",
    "                n_OTUs = n_remain) %>%\n",
    "    mutate(perc_OTUs_with_hit = (1 - n_OTUs / total_OTUs) * 100,\n",
    "           perc_OTUs_without_hit = 100 - perc_OTUs_with_hit) %>%\n",
    "    arrange(-seqID_cutoff)\n",
    "df"
   ]
  },
  {
   "cell_type": "code",
   "execution_count": 15,
   "metadata": {
    "ExecuteTime": {
     "end_time": "2020-09-26T07:23:30.125093Z",
     "start_time": "2020-09-26T07:23:28.980Z"
    }
   },
   "outputs": [
    {
     "data": {
      "image/png": "[encoded data removed]",
      "text/plain": [
       "plot without title"
      ]
     },
     "metadata": {
      "image/png": {
       "height": 250,
       "width": 400
      },
      "text/plain": {
       "height": 250,
       "width": 400
      }
     },
     "output_type": "display_data"
    }
   ],
   "source": [
    "# plotting\n",
    "p = ggplot(df, aes(seqID_cutoff, perc_OTUs_without_hit)) +\n",
    "    geom_vline(xintercept=97, linetype='dashed', alpha=0.5) +\n",
    "    geom_line() +\n",
    "    geom_point() +\n",
    "    scale_y_continuous(limits = c(0, 100)) +\n",
    "    labs(x='Sequence identity cutoff',\n",
    "         y='% of ASVs lacking a hit\\nto All Species Living Tree') +\n",
    "    theme_bw() \n",
    "\n",
    "p.dims(4,2.5)\n",
    "plot(p)"
   ]
  },
  {
   "cell_type": "code",
   "execution_count": 16,
   "metadata": {
    "ExecuteTime": {
     "end_time": "2020-09-26T07:23:30.844623Z",
     "start_time": "2020-09-26T07:23:30.270Z"
    }
   },
   "outputs": [
    {
     "data": {
      "image/png": "[encoded data removed]",
      "text/plain": [
       "plot without title"
      ]
     },
     "metadata": {
      "image/png": {
       "height": 250,
       "width": 400
      },
      "text/plain": {
       "height": 250,
       "width": 400
      }
     },
     "output_type": "display_data"
    }
   ],
   "source": [
    "# plotting (reverse)\n",
    "p = ggplot(df, aes(seqID_cutoff, perc_OTUs_with_hit)) +\n",
    "    geom_vline(xintercept=97, linetype='dashed', alpha=0.5) +\n",
    "    geom_line() +\n",
    "    geom_point() +\n",
    "    scale_y_continuous(limits = c(0, 100)) +\n",
    "    labs(x='Sequence identity cutoff',\n",
    "         y='% of ASVs with a hit to\\nAll Species Living Tree') +\n",
    "    theme_bw() \n",
    "\n",
    "p.dims(4,2.5)\n",
    "plot(p)"
   ]
  },
  {
   "cell_type": "markdown",
   "metadata": {},
   "source": [
    "### Which taxonomic groups?"
   ]
  },
  {
   "cell_type": "code",
   "execution_count": 17,
   "metadata": {
    "ExecuteTime": {
     "end_time": "2020-09-26T07:23:32.908683Z",
     "start_time": "2020-09-26T07:23:32.777Z"
    }
   },
   "outputs": [
    {
     "data": {
      "text/html": [
       "<table>\n",
       "<caption>A tibble: 11 × 2</caption>\n",
       "<thead>\n",
       "\t<tr><th scope=col>Taxonomy</th><th scope=col>total_per_tax_OTUs</th></tr>\n",
       "\t<tr><th scope=col>&lt;chr&gt;</th><th scope=col>&lt;int&gt;</th></tr>\n",
       "</thead>\n",
       "<tbody>\n",
       "\t<tr><td>Euryarchaeota;Methanobacteria </td><td>991</td></tr>\n",
       "\t<tr><td>Euryarchaeota;Methanomicrobia </td><td>321</td></tr>\n",
       "\t<tr><td>Euryarchaeota;Thermoplasmata  </td><td>230</td></tr>\n",
       "\t<tr><td>Thaumarchaeota;Nitrososphaeria</td><td>167</td></tr>\n",
       "\t<tr><td>Euryarchaeota;Halobacteria    </td><td>121</td></tr>\n",
       "\t<tr><td>Nanoarchaeaeota;Woesearchaeia </td><td> 24</td></tr>\n",
       "\t<tr><td>Crenarchaeota;Bathyarchaeia   </td><td> 22</td></tr>\n",
       "\t<tr><td>Euryarchaeota;unclassified    </td><td> 11</td></tr>\n",
       "\t<tr><td>Euryarchaeota;Thermococci     </td><td>  2</td></tr>\n",
       "\t<tr><td>Asgardaeota;Odinarchaeia      </td><td>  1</td></tr>\n",
       "\t<tr><td>Diapherotrites;Iainarchaeia   </td><td>  1</td></tr>\n",
       "</tbody>\n",
       "</table>\n"
      ],
      "text/latex": [
       "A tibble: 11 × 2\n",
       "\\begin{tabular}{ll}\n",
       " Taxonomy & total\\_per\\_tax\\_OTUs\\\\\n",
       " <chr> & <int>\\\\\n",
       "\\hline\n",
       "\t Euryarchaeota;Methanobacteria  & 991\\\\\n",
       "\t Euryarchaeota;Methanomicrobia  & 321\\\\\n",
       "\t Euryarchaeota;Thermoplasmata   & 230\\\\\n",
       "\t Thaumarchaeota;Nitrososphaeria & 167\\\\\n",
       "\t Euryarchaeota;Halobacteria     & 121\\\\\n",
       "\t Nanoarchaeaeota;Woesearchaeia  &  24\\\\\n",
       "\t Crenarchaeota;Bathyarchaeia    &  22\\\\\n",
       "\t Euryarchaeota;unclassified     &  11\\\\\n",
       "\t Euryarchaeota;Thermococci      &   2\\\\\n",
       "\t Asgardaeota;Odinarchaeia       &   1\\\\\n",
       "\t Diapherotrites;Iainarchaeia    &   1\\\\\n",
       "\\end{tabular}\n"
      ],
      "text/markdown": [
       "\n",
       "A tibble: 11 × 2\n",
       "\n",
       "| Taxonomy &lt;chr&gt; | total_per_tax_OTUs &lt;int&gt; |\n",
       "|---|---|\n",
       "| Euryarchaeota;Methanobacteria  | 991 |\n",
       "| Euryarchaeota;Methanomicrobia  | 321 |\n",
       "| Euryarchaeota;Thermoplasmata   | 230 |\n",
       "| Thaumarchaeota;Nitrososphaeria | 167 |\n",
       "| Euryarchaeota;Halobacteria     | 121 |\n",
       "| Nanoarchaeaeota;Woesearchaeia  |  24 |\n",
       "| Crenarchaeota;Bathyarchaeia    |  22 |\n",
       "| Euryarchaeota;unclassified     |  11 |\n",
       "| Euryarchaeota;Thermococci      |   2 |\n",
       "| Asgardaeota;Odinarchaeia       |   1 |\n",
       "| Diapherotrites;Iainarchaeia    |   1 |\n",
       "\n"
      ],
      "text/plain": [
       "   Taxonomy                       total_per_tax_OTUs\n",
       "1  Euryarchaeota;Methanobacteria  991               \n",
       "2  Euryarchaeota;Methanomicrobia  321               \n",
       "3  Euryarchaeota;Thermoplasmata   230               \n",
       "4  Thaumarchaeota;Nitrososphaeria 167               \n",
       "5  Euryarchaeota;Halobacteria     121               \n",
       "6  Nanoarchaeaeota;Woesearchaeia   24               \n",
       "7  Crenarchaeota;Bathyarchaeia     22               \n",
       "8  Euryarchaeota;unclassified      11               \n",
       "9  Euryarchaeota;Thermococci        2               \n",
       "10 Asgardaeota;Odinarchaeia         1               \n",
       "11 Diapherotrites;Iainarchaeia      1               "
      ]
     },
     "metadata": {},
     "output_type": "display_data"
    }
   ],
   "source": [
    "# adding taxonomy\n",
    "tax = physeq_arch_IndD %>%\n",
    "    phyloseq2df(tax_table) %>%\n",
    "    as.data.table %>%\n",
    "    mutate(Taxonomy = paste(Phylum, Class, sep=';')) %>%\n",
    "    group_by(Taxonomy) %>%\n",
    "    summarize(total_per_tax_OTUs = n(), .groups='drop')\n",
    "df.dims(30)\n",
    "tax %>% arrange(-total_per_tax_OTUs)\n",
    "df.dims()"
   ]
  },
  {
   "cell_type": "code",
   "execution_count": 18,
   "metadata": {
    "ExecuteTime": {
     "end_time": "2020-09-26T07:23:33.883034Z",
     "start_time": "2020-09-26T07:23:33.831Z"
    }
   },
   "outputs": [],
   "source": [
    "#' OTUs with a hit\n",
    "otus_with_rep = function(seqid_cutoff, blast_res_s, tax_table){\n",
    "    x = blast_res_s %>%\n",
    "        mutate(Taxonomy = paste(Phylum, Class, sep=';')) %>%\n",
    "        left_join(tax_table, c('Taxonomy')) %>%\n",
    "        #mutate(max_pident = ifelse(is.na(max_pident), 0, max_pident)) %>%\n",
    "        filter(max_pident < seqid_cutoff) %>%\n",
    "        distinct(Taxonomy, qaccver, total_per_tax_OTUs) %>%\n",
    "        group_by(Taxonomy, total_per_tax_OTUs) %>%\n",
    "        summarize(n_OTUs = n(), \n",
    "                  .groups='drop')\n",
    "    x$seqID_cutoff = seqid_cutoff\n",
    "    return(x)\n",
    "}"
   ]
  },
  {
   "cell_type": "code",
   "execution_count": 19,
   "metadata": {
    "ExecuteTime": {
     "end_time": "2020-09-26T07:23:35.341690Z",
     "start_time": "2020-09-26T07:23:34.760Z"
    }
   },
   "outputs": [
    {
     "data": {
      "text/html": [
       "<table>\n",
       "<caption>A tibble: 73 × 9</caption>\n",
       "<thead>\n",
       "\t<tr><th scope=col>Taxonomy</th><th scope=col>total_per_tax_OTUs</th><th scope=col>n_OTUs</th><th scope=col>seqID_cutoff</th><th scope=col>perc_OTUs_with_hit</th><th scope=col>perc_OTUs_without_hit</th><th scope=col>perc_total_OTUs_with_hit</th><th scope=col>perc_total_OTUs_without_hit</th><th scope=col>max_n_OTUs</th></tr>\n",
       "\t<tr><th scope=col>&lt;chr&gt;</th><th scope=col>&lt;int&gt;</th><th scope=col>&lt;int&gt;</th><th scope=col>&lt;int&gt;</th><th scope=col>&lt;dbl&gt;</th><th scope=col>&lt;dbl&gt;</th><th scope=col>&lt;dbl&gt;</th><th scope=col>&lt;dbl&gt;</th><th scope=col>&lt;int&gt;</th></tr>\n",
       "</thead>\n",
       "<tbody>\n",
       "\t<tr><td>Euryarchaeota;Methanobacteria</td><td>991</td><td>12</td><td>86</td><td>98.78910</td><td>1.2108981</td><td>99.36542</td><td>0.6345849</td><td>946</td></tr>\n",
       "\t<tr><td>Euryarchaeota;Methanomicrobia</td><td>321</td><td> 3</td><td>86</td><td>99.06542</td><td>0.9345794</td><td>99.84135</td><td>0.1586462</td><td>304</td></tr>\n",
       "\t<tr><td>⋮</td><td>⋮</td><td>⋮</td><td>⋮</td><td>⋮</td><td>⋮</td><td>⋮</td><td>⋮</td><td>⋮</td></tr>\n",
       "\t<tr><td>Euryarchaeota;Thermoplasmata  </td><td>230</td><td>197</td><td>100</td><td>14.347826</td><td>85.65217</td><td>89.58223</td><td>10.417768</td><td>197</td></tr>\n",
       "\t<tr><td>Thaumarchaeota;Nitrososphaeria</td><td>167</td><td>165</td><td>100</td><td> 1.197605</td><td>98.80240</td><td>91.27446</td><td> 8.725542</td><td>165</td></tr>\n",
       "</tbody>\n",
       "</table>\n"
      ],
      "text/latex": [
       "A tibble: 73 × 9\n",
       "\\begin{tabular}{lllllllll}\n",
       " Taxonomy & total\\_per\\_tax\\_OTUs & n\\_OTUs & seqID\\_cutoff & perc\\_OTUs\\_with\\_hit & perc\\_OTUs\\_without\\_hit & perc\\_total\\_OTUs\\_with\\_hit & perc\\_total\\_OTUs\\_without\\_hit & max\\_n\\_OTUs\\\\\n",
       " <chr> & <int> & <int> & <int> & <dbl> & <dbl> & <dbl> & <dbl> & <int>\\\\\n",
       "\\hline\n",
       "\t Euryarchaeota;Methanobacteria & 991 & 12 & 86 & 98.78910 & 1.2108981 & 99.36542 & 0.6345849 & 946\\\\\n",
       "\t Euryarchaeota;Methanomicrobia & 321 &  3 & 86 & 99.06542 & 0.9345794 & 99.84135 & 0.1586462 & 304\\\\\n",
       "\t ⋮ & ⋮ & ⋮ & ⋮ & ⋮ & ⋮ & ⋮ & ⋮ & ⋮\\\\\n",
       "\t Euryarchaeota;Thermoplasmata   & 230 & 197 & 100 & 14.347826 & 85.65217 & 89.58223 & 10.417768 & 197\\\\\n",
       "\t Thaumarchaeota;Nitrososphaeria & 167 & 165 & 100 &  1.197605 & 98.80240 & 91.27446 &  8.725542 & 165\\\\\n",
       "\\end{tabular}\n"
      ],
      "text/markdown": [
       "\n",
       "A tibble: 73 × 9\n",
       "\n",
       "| Taxonomy &lt;chr&gt; | total_per_tax_OTUs &lt;int&gt; | n_OTUs &lt;int&gt; | seqID_cutoff &lt;int&gt; | perc_OTUs_with_hit &lt;dbl&gt; | perc_OTUs_without_hit &lt;dbl&gt; | perc_total_OTUs_with_hit &lt;dbl&gt; | perc_total_OTUs_without_hit &lt;dbl&gt; | max_n_OTUs &lt;int&gt; |\n",
       "|---|---|---|---|---|---|---|---|---|\n",
       "| Euryarchaeota;Methanobacteria | 991 | 12 | 86 | 98.78910 | 1.2108981 | 99.36542 | 0.6345849 | 946 |\n",
       "| Euryarchaeota;Methanomicrobia | 321 |  3 | 86 | 99.06542 | 0.9345794 | 99.84135 | 0.1586462 | 304 |\n",
       "| ⋮ | ⋮ | ⋮ | ⋮ | ⋮ | ⋮ | ⋮ | ⋮ | ⋮ |\n",
       "| Euryarchaeota;Thermoplasmata   | 230 | 197 | 100 | 14.347826 | 85.65217 | 89.58223 | 10.417768 | 197 |\n",
       "| Thaumarchaeota;Nitrososphaeria | 167 | 165 | 100 |  1.197605 | 98.80240 | 91.27446 |  8.725542 | 165 |\n",
       "\n"
      ],
      "text/plain": [
       "   Taxonomy                       total_per_tax_OTUs n_OTUs seqID_cutoff\n",
       "1  Euryarchaeota;Methanobacteria  991                12     86          \n",
       "2  Euryarchaeota;Methanomicrobia  321                 3     86          \n",
       "⋮  ⋮                              ⋮                  ⋮      ⋮           \n",
       "72 Euryarchaeota;Thermoplasmata   230                197    100         \n",
       "73 Thaumarchaeota;Nitrososphaeria 167                165    100         \n",
       "   perc_OTUs_with_hit perc_OTUs_without_hit perc_total_OTUs_with_hit\n",
       "1  98.78910           1.2108981             99.36542                \n",
       "2  99.06542           0.9345794             99.84135                \n",
       "⋮  ⋮                  ⋮                     ⋮                       \n",
       "72 14.347826          85.65217              89.58223                \n",
       "73  1.197605          98.80240              91.27446                \n",
       "   perc_total_OTUs_without_hit max_n_OTUs\n",
       "1  0.6345849                   946       \n",
       "2  0.1586462                   304       \n",
       "⋮  ⋮                           ⋮         \n",
       "72 10.417768                   197       \n",
       "73  8.725542                   165       "
      ]
     },
     "metadata": {},
     "output_type": "display_data"
    }
   ],
   "source": [
    "# per cutoff\n",
    "seqID_cutoff = 86:100\n",
    "df = lapply(as.list(seqID_cutoff), \n",
    "            otus_with_rep, \n",
    "            blast_res_s=as.data.frame(blast_res_s),\n",
    "            tax_table=tax) %>%\n",
    "    do.call(rbind, .) %>%\n",
    "    mutate(perc_OTUs_with_hit = (1 - n_OTUs / total_per_tax_OTUs) * 100,\n",
    "           perc_OTUs_without_hit = 100 - perc_OTUs_with_hit,\n",
    "           perc_total_OTUs_with_hit = (1 - n_OTUs / total_OTUs) * 100,\n",
    "           perc_total_OTUs_without_hit = 100 - perc_total_OTUs_with_hit) %>%\n",
    "    group_by(Taxonomy) %>%\n",
    "    mutate(max_n_OTUs = max(n_OTUs)) %>%\n",
    "    ungroup() %>%\n",
    "    filter(!grepl('unclassified', Taxonomy),\n",
    "           max_n_OTUs >= 50)\n",
    "\n",
    "tmp = df %>%\n",
    "    filter(seqID_cutoff == 90) %>%\n",
    "    mutate(perc_OTUs_with_hit = 100,\n",
    "           seqID_cutoff = 85)\n",
    "df "
   ]
  },
  {
   "cell_type": "code",
   "execution_count": 20,
   "metadata": {
    "ExecuteTime": {
     "end_time": "2020-09-26T07:23:36.963582Z",
     "start_time": "2020-09-26T07:23:35.681Z"
    }
   },
   "outputs": [
    {
     "data": {
      "image/png": "[encoded data removed]",
      "text/plain": [
       "plot without title"
      ]
     },
     "metadata": {
      "image/png": {
       "height": 400,
       "width": 650
      },
      "text/plain": {
       "height": 400,
       "width": 650
      }
     },
     "output_type": "display_data"
    }
   ],
   "source": [
    "# plotting\n",
    "p = df %>%\n",
    "    mutate(Taxonomy = gsub(';', ';\\n', Taxonomy)) %>%\n",
    "    filter(Taxonomy != 'Other') %>%\n",
    "    mutate(Taxonomy = Taxonomy %>% reorder(-total_per_tax_OTUs)) %>%\n",
    "    ggplot(aes(seqID_cutoff)) +\n",
    "    geom_vline(xintercept=97, linetype='dashed', alpha=0.5) +\n",
    "    geom_line(aes(y=perc_OTUs_with_hit)) +\n",
    "    geom_point(aes(y=perc_OTUs_with_hit), size=0.8) +\n",
    "    #scale_color_gradient('No. of ASVs\\n(log10)', low='black', high='red') +\n",
    "    facet_wrap(~ Taxonomy) +\n",
    "    labs(x='Sequence identity cutoff',\n",
    "         y='% of ASVs with a hit to\\nAll Species Living Tree') +\n",
    "    theme_bw() \n",
    "\n",
    "p.dims(6.5,4)\n",
    "plot(p)"
   ]
  },
  {
   "cell_type": "code",
   "execution_count": 21,
   "metadata": {
    "ExecuteTime": {
     "end_time": "2020-09-26T07:23:41.156505Z",
     "start_time": "2020-09-26T07:23:41.071Z"
    }
   },
   "outputs": [
    {
     "data": {
      "text/html": [
       "<table>\n",
       "<caption>A tibble: 5 × 9</caption>\n",
       "<thead>\n",
       "\t<tr><th scope=col>Taxonomy</th><th scope=col>total_per_tax_OTUs</th><th scope=col>n_OTUs</th><th scope=col>seqID_cutoff</th><th scope=col>perc_OTUs_with_hit</th><th scope=col>perc_OTUs_without_hit</th><th scope=col>perc_total_OTUs_with_hit</th><th scope=col>perc_total_OTUs_without_hit</th><th scope=col>max_n_OTUs</th></tr>\n",
       "\t<tr><th scope=col>&lt;chr&gt;</th><th scope=col>&lt;int&gt;</th><th scope=col>&lt;int&gt;</th><th scope=col>&lt;int&gt;</th><th scope=col>&lt;dbl&gt;</th><th scope=col>&lt;dbl&gt;</th><th scope=col>&lt;dbl&gt;</th><th scope=col>&lt;dbl&gt;</th><th scope=col>&lt;int&gt;</th></tr>\n",
       "</thead>\n",
       "<tbody>\n",
       "\t<tr><td>Thaumarchaeota;Nitrososphaeria</td><td>167</td><td>155</td><td>97</td><td> 7.185629</td><td>92.81437</td><td>91.80328</td><td> 8.196721</td><td>165</td></tr>\n",
       "\t<tr><td>Euryarchaeota;Thermoplasmata  </td><td>230</td><td>194</td><td>97</td><td>15.652174</td><td>84.34783</td><td>89.74088</td><td>10.259122</td><td>197</td></tr>\n",
       "\t<tr><td>Euryarchaeota;Halobacteria    </td><td>121</td><td> 78</td><td>97</td><td>35.537190</td><td>64.46281</td><td>95.87520</td><td> 4.124802</td><td>121</td></tr>\n",
       "\t<tr><td>Euryarchaeota;Methanomicrobia </td><td>321</td><td>201</td><td>97</td><td>37.383178</td><td>62.61682</td><td>89.37070</td><td>10.629297</td><td>304</td></tr>\n",
       "\t<tr><td>Euryarchaeota;Methanobacteria </td><td>991</td><td>476</td><td>97</td><td>51.967709</td><td>48.03229</td><td>74.82813</td><td>25.171867</td><td>946</td></tr>\n",
       "</tbody>\n",
       "</table>\n"
      ],
      "text/latex": [
       "A tibble: 5 × 9\n",
       "\\begin{tabular}{lllllllll}\n",
       " Taxonomy & total\\_per\\_tax\\_OTUs & n\\_OTUs & seqID\\_cutoff & perc\\_OTUs\\_with\\_hit & perc\\_OTUs\\_without\\_hit & perc\\_total\\_OTUs\\_with\\_hit & perc\\_total\\_OTUs\\_without\\_hit & max\\_n\\_OTUs\\\\\n",
       " <chr> & <int> & <int> & <int> & <dbl> & <dbl> & <dbl> & <dbl> & <int>\\\\\n",
       "\\hline\n",
       "\t Thaumarchaeota;Nitrososphaeria & 167 & 155 & 97 &  7.185629 & 92.81437 & 91.80328 &  8.196721 & 165\\\\\n",
       "\t Euryarchaeota;Thermoplasmata   & 230 & 194 & 97 & 15.652174 & 84.34783 & 89.74088 & 10.259122 & 197\\\\\n",
       "\t Euryarchaeota;Halobacteria     & 121 &  78 & 97 & 35.537190 & 64.46281 & 95.87520 &  4.124802 & 121\\\\\n",
       "\t Euryarchaeota;Methanomicrobia  & 321 & 201 & 97 & 37.383178 & 62.61682 & 89.37070 & 10.629297 & 304\\\\\n",
       "\t Euryarchaeota;Methanobacteria  & 991 & 476 & 97 & 51.967709 & 48.03229 & 74.82813 & 25.171867 & 946\\\\\n",
       "\\end{tabular}\n"
      ],
      "text/markdown": [
       "\n",
       "A tibble: 5 × 9\n",
       "\n",
       "| Taxonomy &lt;chr&gt; | total_per_tax_OTUs &lt;int&gt; | n_OTUs &lt;int&gt; | seqID_cutoff &lt;int&gt; | perc_OTUs_with_hit &lt;dbl&gt; | perc_OTUs_without_hit &lt;dbl&gt; | perc_total_OTUs_with_hit &lt;dbl&gt; | perc_total_OTUs_without_hit &lt;dbl&gt; | max_n_OTUs &lt;int&gt; |\n",
       "|---|---|---|---|---|---|---|---|---|\n",
       "| Thaumarchaeota;Nitrososphaeria | 167 | 155 | 97 |  7.185629 | 92.81437 | 91.80328 |  8.196721 | 165 |\n",
       "| Euryarchaeota;Thermoplasmata   | 230 | 194 | 97 | 15.652174 | 84.34783 | 89.74088 | 10.259122 | 197 |\n",
       "| Euryarchaeota;Halobacteria     | 121 |  78 | 97 | 35.537190 | 64.46281 | 95.87520 |  4.124802 | 121 |\n",
       "| Euryarchaeota;Methanomicrobia  | 321 | 201 | 97 | 37.383178 | 62.61682 | 89.37070 | 10.629297 | 304 |\n",
       "| Euryarchaeota;Methanobacteria  | 991 | 476 | 97 | 51.967709 | 48.03229 | 74.82813 | 25.171867 | 946 |\n",
       "\n"
      ],
      "text/plain": [
       "  Taxonomy                       total_per_tax_OTUs n_OTUs seqID_cutoff\n",
       "1 Thaumarchaeota;Nitrososphaeria 167                155    97          \n",
       "2 Euryarchaeota;Thermoplasmata   230                194    97          \n",
       "3 Euryarchaeota;Halobacteria     121                 78    97          \n",
       "4 Euryarchaeota;Methanomicrobia  321                201    97          \n",
       "5 Euryarchaeota;Methanobacteria  991                476    97          \n",
       "  perc_OTUs_with_hit perc_OTUs_without_hit perc_total_OTUs_with_hit\n",
       "1  7.185629          92.81437              91.80328                \n",
       "2 15.652174          84.34783              89.74088                \n",
       "3 35.537190          64.46281              95.87520                \n",
       "4 37.383178          62.61682              89.37070                \n",
       "5 51.967709          48.03229              74.82813                \n",
       "  perc_total_OTUs_without_hit max_n_OTUs\n",
       "1  8.196721                   165       \n",
       "2 10.259122                   197       \n",
       "3  4.124802                   121       \n",
       "4 10.629297                   304       \n",
       "5 25.171867                   946       "
      ]
     },
     "metadata": {},
     "output_type": "display_data"
    }
   ],
   "source": [
    "# breakdown at 97% seqID\n",
    "df.dims(10)\n",
    "df %>%\n",
    "    filter(seqID_cutoff == 97,\n",
    "           Taxonomy != 'Other') %>%\n",
    "    arrange(-perc_OTUs_without_hit)\n",
    "df.dims()"
   ]
  },
  {
   "cell_type": "code",
   "execution_count": 22,
   "metadata": {
    "ExecuteTime": {
     "end_time": "2020-09-26T07:23:41.405814Z",
     "start_time": "2020-09-26T07:23:41.322Z"
    }
   },
   "outputs": [
    {
     "data": {
      "text/html": [
       "<table>\n",
       "<caption>A tibble: 5 × 9</caption>\n",
       "<thead>\n",
       "\t<tr><th scope=col>Taxonomy</th><th scope=col>total_per_tax_OTUs</th><th scope=col>n_OTUs</th><th scope=col>seqID_cutoff</th><th scope=col>perc_OTUs_with_hit</th><th scope=col>perc_OTUs_without_hit</th><th scope=col>perc_total_OTUs_with_hit</th><th scope=col>perc_total_OTUs_without_hit</th><th scope=col>max_n_OTUs</th></tr>\n",
       "\t<tr><th scope=col>&lt;chr&gt;</th><th scope=col>&lt;int&gt;</th><th scope=col>&lt;int&gt;</th><th scope=col>&lt;int&gt;</th><th scope=col>&lt;dbl&gt;</th><th scope=col>&lt;dbl&gt;</th><th scope=col>&lt;dbl&gt;</th><th scope=col>&lt;dbl&gt;</th><th scope=col>&lt;int&gt;</th></tr>\n",
       "</thead>\n",
       "<tbody>\n",
       "\t<tr><td>Euryarchaeota;Thermoplasmata  </td><td>230</td><td> 59</td><td>90</td><td>74.34783</td><td>25.652174</td><td>96.87996</td><td>3.1200423</td><td>197</td></tr>\n",
       "\t<tr><td>Euryarchaeota;Methanomicrobia </td><td>321</td><td> 65</td><td>90</td><td>79.75078</td><td>20.249221</td><td>96.56267</td><td>3.4373347</td><td>304</td></tr>\n",
       "\t<tr><td>Euryarchaeota;Methanobacteria </td><td>991</td><td>116</td><td>90</td><td>88.29465</td><td>11.705348</td><td>93.86568</td><td>6.1343205</td><td>946</td></tr>\n",
       "\t<tr><td>Thaumarchaeota;Nitrososphaeria</td><td>167</td><td>  9</td><td>90</td><td>94.61078</td><td> 5.389222</td><td>99.52406</td><td>0.4759387</td><td>165</td></tr>\n",
       "\t<tr><td>Euryarchaeota;Halobacteria    </td><td>121</td><td>  6</td><td>90</td><td>95.04132</td><td> 4.958678</td><td>99.68271</td><td>0.3172924</td><td>121</td></tr>\n",
       "</tbody>\n",
       "</table>\n"
      ],
      "text/latex": [
       "A tibble: 5 × 9\n",
       "\\begin{tabular}{lllllllll}\n",
       " Taxonomy & total\\_per\\_tax\\_OTUs & n\\_OTUs & seqID\\_cutoff & perc\\_OTUs\\_with\\_hit & perc\\_OTUs\\_without\\_hit & perc\\_total\\_OTUs\\_with\\_hit & perc\\_total\\_OTUs\\_without\\_hit & max\\_n\\_OTUs\\\\\n",
       " <chr> & <int> & <int> & <int> & <dbl> & <dbl> & <dbl> & <dbl> & <int>\\\\\n",
       "\\hline\n",
       "\t Euryarchaeota;Thermoplasmata   & 230 &  59 & 90 & 74.34783 & 25.652174 & 96.87996 & 3.1200423 & 197\\\\\n",
       "\t Euryarchaeota;Methanomicrobia  & 321 &  65 & 90 & 79.75078 & 20.249221 & 96.56267 & 3.4373347 & 304\\\\\n",
       "\t Euryarchaeota;Methanobacteria  & 991 & 116 & 90 & 88.29465 & 11.705348 & 93.86568 & 6.1343205 & 946\\\\\n",
       "\t Thaumarchaeota;Nitrososphaeria & 167 &   9 & 90 & 94.61078 &  5.389222 & 99.52406 & 0.4759387 & 165\\\\\n",
       "\t Euryarchaeota;Halobacteria     & 121 &   6 & 90 & 95.04132 &  4.958678 & 99.68271 & 0.3172924 & 121\\\\\n",
       "\\end{tabular}\n"
      ],
      "text/markdown": [
       "\n",
       "A tibble: 5 × 9\n",
       "\n",
       "| Taxonomy &lt;chr&gt; | total_per_tax_OTUs &lt;int&gt; | n_OTUs &lt;int&gt; | seqID_cutoff &lt;int&gt; | perc_OTUs_with_hit &lt;dbl&gt; | perc_OTUs_without_hit &lt;dbl&gt; | perc_total_OTUs_with_hit &lt;dbl&gt; | perc_total_OTUs_without_hit &lt;dbl&gt; | max_n_OTUs &lt;int&gt; |\n",
       "|---|---|---|---|---|---|---|---|---|\n",
       "| Euryarchaeota;Thermoplasmata   | 230 |  59 | 90 | 74.34783 | 25.652174 | 96.87996 | 3.1200423 | 197 |\n",
       "| Euryarchaeota;Methanomicrobia  | 321 |  65 | 90 | 79.75078 | 20.249221 | 96.56267 | 3.4373347 | 304 |\n",
       "| Euryarchaeota;Methanobacteria  | 991 | 116 | 90 | 88.29465 | 11.705348 | 93.86568 | 6.1343205 | 946 |\n",
       "| Thaumarchaeota;Nitrososphaeria | 167 |   9 | 90 | 94.61078 |  5.389222 | 99.52406 | 0.4759387 | 165 |\n",
       "| Euryarchaeota;Halobacteria     | 121 |   6 | 90 | 95.04132 |  4.958678 | 99.68271 | 0.3172924 | 121 |\n",
       "\n"
      ],
      "text/plain": [
       "  Taxonomy                       total_per_tax_OTUs n_OTUs seqID_cutoff\n",
       "1 Euryarchaeota;Thermoplasmata   230                 59    90          \n",
       "2 Euryarchaeota;Methanomicrobia  321                 65    90          \n",
       "3 Euryarchaeota;Methanobacteria  991                116    90          \n",
       "4 Thaumarchaeota;Nitrososphaeria 167                  9    90          \n",
       "5 Euryarchaeota;Halobacteria     121                  6    90          \n",
       "  perc_OTUs_with_hit perc_OTUs_without_hit perc_total_OTUs_with_hit\n",
       "1 74.34783           25.652174             96.87996                \n",
       "2 79.75078           20.249221             96.56267                \n",
       "3 88.29465           11.705348             93.86568                \n",
       "4 94.61078            5.389222             99.52406                \n",
       "5 95.04132            4.958678             99.68271                \n",
       "  perc_total_OTUs_without_hit max_n_OTUs\n",
       "1 3.1200423                   197       \n",
       "2 3.4373347                   304       \n",
       "3 6.1343205                   946       \n",
       "4 0.4759387                   165       \n",
       "5 0.3172924                   121       "
      ]
     },
     "metadata": {},
     "output_type": "display_data"
    }
   ],
   "source": [
    "# breakdown at 90% seqID\n",
    "df.dims(10)\n",
    "df %>%\n",
    "    filter(seqID_cutoff == 90,\n",
    "           Taxonomy != 'Other') %>%\n",
    "    arrange(-perc_OTUs_without_hit)\n",
    "df.dims()"
   ]
  },
  {
   "cell_type": "markdown",
   "metadata": {},
   "source": [
    "### Distribution of OTUs lacking a rep"
   ]
  },
  {
   "cell_type": "code",
   "execution_count": 23,
   "metadata": {
    "ExecuteTime": {
     "end_time": "2020-09-26T07:23:42.780226Z",
     "start_time": "2020-09-26T07:23:42.734Z"
    }
   },
   "outputs": [],
   "source": [
    "pident_cutoff = 0.97"
   ]
  },
  {
   "cell_type": "code",
   "execution_count": 24,
   "metadata": {
    "ExecuteTime": {
     "end_time": "2020-09-26T07:23:43.197358Z",
     "start_time": "2020-09-26T07:23:43.079Z"
    }
   },
   "outputs": [
    {
     "data": {
      "text/html": [
       "<table>\n",
       "<caption>A tibble: 185 × 11</caption>\n",
       "<thead>\n",
       "\t<tr><th scope=col>SampleID</th><th scope=col>scientific_name</th><th scope=col>class</th><th scope=col>order</th><th scope=col>family</th><th scope=col>genus</th><th scope=col>habitat</th><th scope=col>diet</th><th scope=col>digestive_system</th><th scope=col>captive_wild</th><th scope=col>sample_type</th></tr>\n",
       "\t<tr><th scope=col>&lt;chr&gt;</th><th scope=col>&lt;chr&gt;</th><th scope=col>&lt;chr&gt;</th><th scope=col>&lt;chr&gt;</th><th scope=col>&lt;chr&gt;</th><th scope=col>&lt;chr&gt;</th><th scope=col>&lt;chr&gt;</th><th scope=col>&lt;chr&gt;</th><th scope=col>&lt;chr&gt;</th><th scope=col>&lt;chr&gt;</th><th scope=col>&lt;chr&gt;</th></tr>\n",
       "</thead>\n",
       "<tbody>\n",
       "\t<tr><td>F14_Common_Bream</td><td>Abramis_brama </td><td>Actinopterygii</td><td>Cypriniformes</td><td>Cyprinidae</td><td>Abramis</td><td>aquatic habitat    </td><td>omnivore </td><td>simple </td><td>wild</td><td>feces</td></tr>\n",
       "\t<tr><td>F35_Red_Deer    </td><td>Cervus_elaphus</td><td>Mammalia      </td><td>Artiodactyla </td><td>Cervidae  </td><td>Cervus </td><td>terrestrial habitat</td><td>herbivore</td><td>foregut</td><td>wild</td><td>feces</td></tr>\n",
       "\t<tr><td>⋮</td><td>⋮</td><td>⋮</td><td>⋮</td><td>⋮</td><td>⋮</td><td>⋮</td><td>⋮</td><td>⋮</td><td>⋮</td><td>⋮</td></tr>\n",
       "\t<tr><td>X431_Quagga     </td><td>Equus_quagga       </td><td>Mammalia</td><td>Perissodactyla</td><td>Equidae </td><td>Equus    </td><td>terrestrial habitat</td><td>herbivore</td><td>hindgut</td><td>captive</td><td>feces</td></tr>\n",
       "\t<tr><td>X67_European_Roe</td><td>Capreolus_capreolus</td><td>Mammalia</td><td>Artiodactyla  </td><td>Cervidae</td><td>Capreolus</td><td>terrestrial habitat</td><td>herbivore</td><td>foregut</td><td>wild   </td><td>feces</td></tr>\n",
       "</tbody>\n",
       "</table>\n"
      ],
      "text/latex": [
       "A tibble: 185 × 11\n",
       "\\begin{tabular}{lllllllllll}\n",
       " SampleID & scientific\\_name & class & order & family & genus & habitat & diet & digestive\\_system & captive\\_wild & sample\\_type\\\\\n",
       " <chr> & <chr> & <chr> & <chr> & <chr> & <chr> & <chr> & <chr> & <chr> & <chr> & <chr>\\\\\n",
       "\\hline\n",
       "\t F14\\_Common\\_Bream & Abramis\\_brama  & Actinopterygii & Cypriniformes & Cyprinidae & Abramis & aquatic habitat     & omnivore  & simple  & wild & feces\\\\\n",
       "\t F35\\_Red\\_Deer     & Cervus\\_elaphus & Mammalia       & Artiodactyla  & Cervidae   & Cervus  & terrestrial habitat & herbivore & foregut & wild & feces\\\\\n",
       "\t ⋮ & ⋮ & ⋮ & ⋮ & ⋮ & ⋮ & ⋮ & ⋮ & ⋮ & ⋮ & ⋮\\\\\n",
       "\t X431\\_Quagga      & Equus\\_quagga        & Mammalia & Perissodactyla & Equidae  & Equus     & terrestrial habitat & herbivore & hindgut & captive & feces\\\\\n",
       "\t X67\\_European\\_Roe & Capreolus\\_capreolus & Mammalia & Artiodactyla   & Cervidae & Capreolus & terrestrial habitat & herbivore & foregut & wild    & feces\\\\\n",
       "\\end{tabular}\n"
      ],
      "text/markdown": [
       "\n",
       "A tibble: 185 × 11\n",
       "\n",
       "| SampleID &lt;chr&gt; | scientific_name &lt;chr&gt; | class &lt;chr&gt; | order &lt;chr&gt; | family &lt;chr&gt; | genus &lt;chr&gt; | habitat &lt;chr&gt; | diet &lt;chr&gt; | digestive_system &lt;chr&gt; | captive_wild &lt;chr&gt; | sample_type &lt;chr&gt; |\n",
       "|---|---|---|---|---|---|---|---|---|---|---|\n",
       "| F14_Common_Bream | Abramis_brama  | Actinopterygii | Cypriniformes | Cyprinidae | Abramis | aquatic habitat     | omnivore  | simple  | wild | feces |\n",
       "| F35_Red_Deer     | Cervus_elaphus | Mammalia       | Artiodactyla  | Cervidae   | Cervus  | terrestrial habitat | herbivore | foregut | wild | feces |\n",
       "| ⋮ | ⋮ | ⋮ | ⋮ | ⋮ | ⋮ | ⋮ | ⋮ | ⋮ | ⋮ | ⋮ |\n",
       "| X431_Quagga      | Equus_quagga        | Mammalia | Perissodactyla | Equidae  | Equus     | terrestrial habitat | herbivore | hindgut | captive | feces |\n",
       "| X67_European_Roe | Capreolus_capreolus | Mammalia | Artiodactyla   | Cervidae | Capreolus | terrestrial habitat | herbivore | foregut | wild    | feces |\n",
       "\n"
      ],
      "text/plain": [
       "    SampleID         scientific_name     class          order         \n",
       "1   F14_Common_Bream Abramis_brama       Actinopterygii Cypriniformes \n",
       "2   F35_Red_Deer     Cervus_elaphus      Mammalia       Artiodactyla  \n",
       "⋮   ⋮                ⋮                   ⋮              ⋮             \n",
       "184 X431_Quagga      Equus_quagga        Mammalia       Perissodactyla\n",
       "185 X67_European_Roe Capreolus_capreolus Mammalia       Artiodactyla  \n",
       "    family     genus     habitat             diet      digestive_system\n",
       "1   Cyprinidae Abramis   aquatic habitat     omnivore  simple          \n",
       "2   Cervidae   Cervus    terrestrial habitat herbivore foregut         \n",
       "⋮   ⋮          ⋮         ⋮                   ⋮         ⋮               \n",
       "184 Equidae    Equus     terrestrial habitat herbivore hindgut         \n",
       "185 Cervidae   Capreolus terrestrial habitat herbivore foregut         \n",
       "    captive_wild sample_type\n",
       "1   wild         feces      \n",
       "2   wild         feces      \n",
       "⋮   ⋮            ⋮          \n",
       "184 captive      feces      \n",
       "185 wild         feces      "
      ]
     },
     "metadata": {},
     "output_type": "display_data"
    }
   ],
   "source": [
    "# sample metadata\n",
    "meta = physeq_arch_IndD %>%\n",
    "    phyloseq2df(sample_data) %>%\n",
    "    dplyr::select(SampleID, scientific_name, \n",
    "                  class, order, family, genus,\n",
    "                  habitat, diet, digestive_system,\n",
    "                  captive_wild, sample_type)\n",
    "meta"
   ]
  },
  {
   "cell_type": "code",
   "execution_count": 25,
   "metadata": {
    "ExecuteTime": {
     "end_time": "2020-09-26T07:23:44.371769Z",
     "start_time": "2020-09-26T07:23:43.631Z"
    }
   },
   "outputs": [
    {
     "data": {
      "text/html": [
       "<table>\n",
       "<caption>A tibble: 349835 × 3</caption>\n",
       "<thead>\n",
       "\t<tr><th scope=col>OTU</th><th scope=col>Sample</th><th scope=col>Count</th></tr>\n",
       "\t<tr><th scope=col>&lt;chr&gt;</th><th scope=col>&lt;chr&gt;</th><th scope=col>&lt;dbl&gt;</th></tr>\n",
       "</thead>\n",
       "<tbody>\n",
       "\t<tr><td>0e97060fe4b9be17bddeedcd27826b04</td><td>F14_Common_Bream</td><td>0</td></tr>\n",
       "\t<tr><td>a86c26bd7f16d93e38b101dbd2614a07</td><td>F14_Common_Bream</td><td>0</td></tr>\n",
       "\t<tr><td>⋮</td><td>⋮</td><td>⋮</td></tr>\n",
       "\t<tr><td>9449f372c36cd2d8994d79b091425d42</td><td>X67_European_Roe</td><td>0</td></tr>\n",
       "\t<tr><td>467eeae6997d3667b5d07a76bc1bcdfd</td><td>X67_European_Roe</td><td>0</td></tr>\n",
       "</tbody>\n",
       "</table>\n"
      ],
      "text/latex": [
       "A tibble: 349835 × 3\n",
       "\\begin{tabular}{lll}\n",
       " OTU & Sample & Count\\\\\n",
       " <chr> & <chr> & <dbl>\\\\\n",
       "\\hline\n",
       "\t 0e97060fe4b9be17bddeedcd27826b04 & F14\\_Common\\_Bream & 0\\\\\n",
       "\t a86c26bd7f16d93e38b101dbd2614a07 & F14\\_Common\\_Bream & 0\\\\\n",
       "\t ⋮ & ⋮ & ⋮\\\\\n",
       "\t 9449f372c36cd2d8994d79b091425d42 & X67\\_European\\_Roe & 0\\\\\n",
       "\t 467eeae6997d3667b5d07a76bc1bcdfd & X67\\_European\\_Roe & 0\\\\\n",
       "\\end{tabular}\n"
      ],
      "text/markdown": [
       "\n",
       "A tibble: 349835 × 3\n",
       "\n",
       "| OTU &lt;chr&gt; | Sample &lt;chr&gt; | Count &lt;dbl&gt; |\n",
       "|---|---|---|\n",
       "| 0e97060fe4b9be17bddeedcd27826b04 | F14_Common_Bream | 0 |\n",
       "| a86c26bd7f16d93e38b101dbd2614a07 | F14_Common_Bream | 0 |\n",
       "| ⋮ | ⋮ | ⋮ |\n",
       "| 9449f372c36cd2d8994d79b091425d42 | X67_European_Roe | 0 |\n",
       "| 467eeae6997d3667b5d07a76bc1bcdfd | X67_European_Roe | 0 |\n",
       "\n"
      ],
      "text/plain": [
       "       OTU                              Sample           Count\n",
       "1      0e97060fe4b9be17bddeedcd27826b04 F14_Common_Bream 0    \n",
       "2      a86c26bd7f16d93e38b101dbd2614a07 F14_Common_Bream 0    \n",
       "⋮      ⋮                                ⋮                ⋮    \n",
       "349834 9449f372c36cd2d8994d79b091425d42 X67_European_Roe 0    \n",
       "349835 467eeae6997d3667b5d07a76bc1bcdfd X67_European_Roe 0    "
      ]
     },
     "metadata": {},
     "output_type": "display_data"
    }
   ],
   "source": [
    "# otu table\n",
    "otu = physeq_arch_IndD %>%\n",
    "    phyloseq2df(otu_table, long = TRUE)\n",
    "otu "
   ]
  },
  {
   "cell_type": "code",
   "execution_count": 26,
   "metadata": {
    "ExecuteTime": {
     "end_time": "2020-09-26T07:23:45.021491Z",
     "start_time": "2020-09-26T07:23:44.209Z"
    }
   },
   "outputs": [
    {
     "name": "stdout",
     "output_type": "stream",
     "text": [
      "intersect(x,y): 1744 \n",
      "setdiff(x,y): 0 \n",
      "setdiff(y,x): 147 \n",
      "union(x,y): 1891 \n"
     ]
    },
    {
     "data": {
      "text/html": [
       "<table>\n",
       "<caption>A data.table: 349835 × 21</caption>\n",
       "<thead>\n",
       "\t<tr><th scope=col>qaccver</th><th scope=col>max_pident</th><th scope=col>Sample</th><th scope=col>Count</th><th scope=col>scientific_name</th><th scope=col>class</th><th scope=col>order</th><th scope=col>family</th><th scope=col>genus</th><th scope=col>habitat</th><th scope=col>⋯</th><th scope=col>digestive_system</th><th scope=col>captive_wild</th><th scope=col>sample_type</th><th scope=col>Domain</th><th scope=col>Phylum</th><th scope=col>Class</th><th scope=col>Order</th><th scope=col>Family</th><th scope=col>Genus</th><th scope=col>Species</th></tr>\n",
       "\t<tr><th scope=col>&lt;chr&gt;</th><th scope=col>&lt;dbl&gt;</th><th scope=col>&lt;chr&gt;</th><th scope=col>&lt;dbl&gt;</th><th scope=col>&lt;chr&gt;</th><th scope=col>&lt;chr&gt;</th><th scope=col>&lt;chr&gt;</th><th scope=col>&lt;chr&gt;</th><th scope=col>&lt;chr&gt;</th><th scope=col>&lt;chr&gt;</th><th scope=col>⋯</th><th scope=col>&lt;chr&gt;</th><th scope=col>&lt;chr&gt;</th><th scope=col>&lt;chr&gt;</th><th scope=col>&lt;chr&gt;</th><th scope=col>&lt;chr&gt;</th><th scope=col>&lt;chr&gt;</th><th scope=col>&lt;chr&gt;</th><th scope=col>&lt;chr&gt;</th><th scope=col>&lt;chr&gt;</th><th scope=col>&lt;chr&gt;</th></tr>\n",
       "</thead>\n",
       "<tbody>\n",
       "\t<tr><td>e49aea031100097ee25afdeb3fa5ca11</td><td>85.012</td><td>F14_Common_Bream</td><td>0</td><td>Abramis_brama </td><td>Actinopterygii</td><td>Cypriniformes</td><td>Cyprinidae</td><td>Abramis</td><td>aquatic habitat    </td><td>⋯</td><td>simple </td><td>wild</td><td>feces</td><td>Archaea</td><td>Euryarchaeota</td><td>Methanobacteria</td><td>Methanobacteriales</td><td>Methanobacteriaceae</td><td>Methanobrevibacter</td><td>Haemonchus placei</td></tr>\n",
       "\t<tr><td>e49aea031100097ee25afdeb3fa5ca11</td><td>85.012</td><td>F35_Red_Deer    </td><td>0</td><td>Cervus_elaphus</td><td>Mammalia      </td><td>Artiodactyla </td><td>Cervidae  </td><td>Cervus </td><td>terrestrial habitat</td><td>⋯</td><td>foregut</td><td>wild</td><td>feces</td><td>Archaea</td><td>Euryarchaeota</td><td>Methanobacteria</td><td>Methanobacteriales</td><td>Methanobacteriaceae</td><td>Methanobrevibacter</td><td>Haemonchus placei</td></tr>\n",
       "\t<tr><td>⋮</td><td>⋮</td><td>⋮</td><td>⋮</td><td>⋮</td><td>⋮</td><td>⋮</td><td>⋮</td><td>⋮</td><td>⋮</td><td>⋱</td><td>⋮</td><td>⋮</td><td>⋮</td><td>⋮</td><td>⋮</td><td>⋮</td><td>⋮</td><td>⋮</td><td>⋮</td><td>⋮</td></tr>\n",
       "\t<tr><td>ef02b880ce3046db6ea55417877cb35b</td><td>NA</td><td>X67_European_Roe</td><td>0</td><td>Capreolus_capreolus</td><td>Mammalia</td><td>Artiodactyla</td><td>Cervidae</td><td>Capreolus</td><td>terrestrial habitat</td><td>⋯</td><td>foregut</td><td>wild</td><td>feces</td><td>Archaea</td><td>Euryarchaeota</td><td>Methanobacteria</td><td>Methanobacteriales</td><td>Methanobacteriaceae</td><td>Methanobrevibacter</td><td>unclassified</td></tr>\n",
       "\t<tr><td>467eeae6997d3667b5d07a76bc1bcdfd</td><td>NA</td><td>X67_European_Roe</td><td>0</td><td>Capreolus_capreolus</td><td>Mammalia</td><td>Artiodactyla</td><td>Cervidae</td><td>Capreolus</td><td>terrestrial habitat</td><td>⋯</td><td>foregut</td><td>wild</td><td>feces</td><td>Archaea</td><td>Euryarchaeota</td><td>Methanobacteria</td><td>Methanobacteriales</td><td>Methanobacteriaceae</td><td>Methanobrevibacter</td><td>unclassified</td></tr>\n",
       "</tbody>\n",
       "</table>\n"
      ],
      "text/latex": [
       "A data.table: 349835 × 21\n",
       "\\begin{tabular}{lllllllllllllllllllll}\n",
       " qaccver & max\\_pident & Sample & Count & scientific\\_name & class & order & family & genus & habitat & ⋯ & digestive\\_system & captive\\_wild & sample\\_type & Domain & Phylum & Class & Order & Family & Genus & Species\\\\\n",
       " <chr> & <dbl> & <chr> & <dbl> & <chr> & <chr> & <chr> & <chr> & <chr> & <chr> & ⋯ & <chr> & <chr> & <chr> & <chr> & <chr> & <chr> & <chr> & <chr> & <chr> & <chr>\\\\\n",
       "\\hline\n",
       "\t e49aea031100097ee25afdeb3fa5ca11 & 85.012 & F14\\_Common\\_Bream & 0 & Abramis\\_brama  & Actinopterygii & Cypriniformes & Cyprinidae & Abramis & aquatic habitat     & ⋯ & simple  & wild & feces & Archaea & Euryarchaeota & Methanobacteria & Methanobacteriales & Methanobacteriaceae & Methanobrevibacter & Haemonchus placei\\\\\n",
       "\t e49aea031100097ee25afdeb3fa5ca11 & 85.012 & F35\\_Red\\_Deer     & 0 & Cervus\\_elaphus & Mammalia       & Artiodactyla  & Cervidae   & Cervus  & terrestrial habitat & ⋯ & foregut & wild & feces & Archaea & Euryarchaeota & Methanobacteria & Methanobacteriales & Methanobacteriaceae & Methanobrevibacter & Haemonchus placei\\\\\n",
       "\t ⋮ & ⋮ & ⋮ & ⋮ & ⋮ & ⋮ & ⋮ & ⋮ & ⋮ & ⋮ & ⋱ & ⋮ & ⋮ & ⋮ & ⋮ & ⋮ & ⋮ & ⋮ & ⋮ & ⋮ & ⋮\\\\\n",
       "\t ef02b880ce3046db6ea55417877cb35b & NA & X67\\_European\\_Roe & 0 & Capreolus\\_capreolus & Mammalia & Artiodactyla & Cervidae & Capreolus & terrestrial habitat & ⋯ & foregut & wild & feces & Archaea & Euryarchaeota & Methanobacteria & Methanobacteriales & Methanobacteriaceae & Methanobrevibacter & unclassified\\\\\n",
       "\t 467eeae6997d3667b5d07a76bc1bcdfd & NA & X67\\_European\\_Roe & 0 & Capreolus\\_capreolus & Mammalia & Artiodactyla & Cervidae & Capreolus & terrestrial habitat & ⋯ & foregut & wild & feces & Archaea & Euryarchaeota & Methanobacteria & Methanobacteriales & Methanobacteriaceae & Methanobrevibacter & unclassified\\\\\n",
       "\\end{tabular}\n"
      ],
      "text/markdown": [
       "\n",
       "A data.table: 349835 × 21\n",
       "\n",
       "| qaccver &lt;chr&gt; | max_pident &lt;dbl&gt; | Sample &lt;chr&gt; | Count &lt;dbl&gt; | scientific_name &lt;chr&gt; | class &lt;chr&gt; | order &lt;chr&gt; | family &lt;chr&gt; | genus &lt;chr&gt; | habitat &lt;chr&gt; | ⋯ ⋯ | digestive_system &lt;chr&gt; | captive_wild &lt;chr&gt; | sample_type &lt;chr&gt; | Domain &lt;chr&gt; | Phylum &lt;chr&gt; | Class &lt;chr&gt; | Order &lt;chr&gt; | Family &lt;chr&gt; | Genus &lt;chr&gt; | Species &lt;chr&gt; |\n",
       "|---|---|---|---|---|---|---|---|---|---|---|---|---|---|---|---|---|---|---|---|---|\n",
       "| e49aea031100097ee25afdeb3fa5ca11 | 85.012 | F14_Common_Bream | 0 | Abramis_brama  | Actinopterygii | Cypriniformes | Cyprinidae | Abramis | aquatic habitat     | ⋯ | simple  | wild | feces | Archaea | Euryarchaeota | Methanobacteria | Methanobacteriales | Methanobacteriaceae | Methanobrevibacter | Haemonchus placei |\n",
       "| e49aea031100097ee25afdeb3fa5ca11 | 85.012 | F35_Red_Deer     | 0 | Cervus_elaphus | Mammalia       | Artiodactyla  | Cervidae   | Cervus  | terrestrial habitat | ⋯ | foregut | wild | feces | Archaea | Euryarchaeota | Methanobacteria | Methanobacteriales | Methanobacteriaceae | Methanobrevibacter | Haemonchus placei |\n",
       "| ⋮ | ⋮ | ⋮ | ⋮ | ⋮ | ⋮ | ⋮ | ⋮ | ⋮ | ⋮ | ⋱ | ⋮ | ⋮ | ⋮ | ⋮ | ⋮ | ⋮ | ⋮ | ⋮ | ⋮ | ⋮ |\n",
       "| ef02b880ce3046db6ea55417877cb35b | NA | X67_European_Roe | 0 | Capreolus_capreolus | Mammalia | Artiodactyla | Cervidae | Capreolus | terrestrial habitat | ⋯ | foregut | wild | feces | Archaea | Euryarchaeota | Methanobacteria | Methanobacteriales | Methanobacteriaceae | Methanobrevibacter | unclassified |\n",
       "| 467eeae6997d3667b5d07a76bc1bcdfd | NA | X67_European_Roe | 0 | Capreolus_capreolus | Mammalia | Artiodactyla | Cervidae | Capreolus | terrestrial habitat | ⋯ | foregut | wild | feces | Archaea | Euryarchaeota | Methanobacteria | Methanobacteriales | Methanobacteriaceae | Methanobrevibacter | unclassified |\n",
       "\n"
      ],
      "text/plain": [
       "       qaccver                          max_pident Sample           Count\n",
       "1      e49aea031100097ee25afdeb3fa5ca11 85.012     F14_Common_Bream 0    \n",
       "2      e49aea031100097ee25afdeb3fa5ca11 85.012     F35_Red_Deer     0    \n",
       "⋮      ⋮                                ⋮          ⋮                ⋮    \n",
       "349834 ef02b880ce3046db6ea55417877cb35b NA         X67_European_Roe 0    \n",
       "349835 467eeae6997d3667b5d07a76bc1bcdfd NA         X67_European_Roe 0    \n",
       "       scientific_name     class          order         family     genus    \n",
       "1      Abramis_brama       Actinopterygii Cypriniformes Cyprinidae Abramis  \n",
       "2      Cervus_elaphus      Mammalia       Artiodactyla  Cervidae   Cervus   \n",
       "⋮      ⋮                   ⋮              ⋮             ⋮          ⋮        \n",
       "349834 Capreolus_capreolus Mammalia       Artiodactyla  Cervidae   Capreolus\n",
       "349835 Capreolus_capreolus Mammalia       Artiodactyla  Cervidae   Capreolus\n",
       "       habitat             ⋯ digestive_system captive_wild sample_type Domain \n",
       "1      aquatic habitat     ⋯ simple           wild         feces       Archaea\n",
       "2      terrestrial habitat ⋯ foregut          wild         feces       Archaea\n",
       "⋮      ⋮                   ⋱ ⋮                ⋮            ⋮           ⋮      \n",
       "349834 terrestrial habitat ⋯ foregut          wild         feces       Archaea\n",
       "349835 terrestrial habitat ⋯ foregut          wild         feces       Archaea\n",
       "       Phylum        Class           Order              Family             \n",
       "1      Euryarchaeota Methanobacteria Methanobacteriales Methanobacteriaceae\n",
       "2      Euryarchaeota Methanobacteria Methanobacteriales Methanobacteriaceae\n",
       "⋮      ⋮             ⋮               ⋮                  ⋮                  \n",
       "349834 Euryarchaeota Methanobacteria Methanobacteriales Methanobacteriaceae\n",
       "349835 Euryarchaeota Methanobacteria Methanobacteriales Methanobacteriaceae\n",
       "       Genus              Species          \n",
       "1      Methanobrevibacter Haemonchus placei\n",
       "2      Methanobrevibacter Haemonchus placei\n",
       "⋮      ⋮                  ⋮                \n",
       "349834 Methanobrevibacter unclassified     \n",
       "349835 Methanobrevibacter unclassified     "
      ]
     },
     "metadata": {},
     "output_type": "display_data"
    }
   ],
   "source": [
    "# joining tables\n",
    "overlap(blast_res_s, otu, qaccver, OTU)\n",
    "blast_res_s_j = blast_res_s %>%\n",
    "    right_join(otu, c('qaccver'='OTU')) %>%\n",
    "    inner_join(meta, c('Sample'='SampleID')) %>%\n",
    "    dplyr::select(-Domain, -Phylum, -Class, -Order, -Family, -Genus) %>%\n",
    "    inner_join(physeq_arch_IndD %>% phyloseq2df(tax_table), \n",
    "               c('qaccver'='OTU'))\n",
    "blast_res_s_j"
   ]
  },
  {
   "cell_type": "code",
   "execution_count": 27,
   "metadata": {
    "ExecuteTime": {
     "end_time": "2020-09-26T07:23:45.139682Z",
     "start_time": "2020-09-26T07:23:44.825Z"
    }
   },
   "outputs": [
    {
     "data": {
      "text/plain": [
       "   Min. 1st Qu.  Median    Mean 3rd Qu.    Max. \n",
       "  48.28   96.15  100.00   97.01  100.00  100.00 "
      ]
     },
     "metadata": {},
     "output_type": "display_data"
    },
    {
     "data": {
      "text/html": [
       "<table>\n",
       "<caption>A tibble: 185 × 12</caption>\n",
       "<thead>\n",
       "\t<tr><th scope=col>Sample</th><th scope=col>class</th><th scope=col>order</th><th scope=col>family</th><th scope=col>genus</th><th scope=col>scientific_name</th><th scope=col>habitat</th><th scope=col>diet</th><th scope=col>digestive_system</th><th scope=col>captive_wild</th><th scope=col>sample_type</th><th scope=col>perc_OTUs_with_hit</th></tr>\n",
       "\t<tr><th scope=col>&lt;chr&gt;</th><th scope=col>&lt;chr&gt;</th><th scope=col>&lt;chr&gt;</th><th scope=col>&lt;chr&gt;</th><th scope=col>&lt;chr&gt;</th><th scope=col>&lt;chr&gt;</th><th scope=col>&lt;chr&gt;</th><th scope=col>&lt;chr&gt;</th><th scope=col>&lt;chr&gt;</th><th scope=col>&lt;chr&gt;</th><th scope=col>&lt;chr&gt;</th><th scope=col>&lt;dbl&gt;</th></tr>\n",
       "</thead>\n",
       "<tbody>\n",
       "\t<tr><td>F14_Common_Bream   </td><td>Actinopterygii</td><td>Cypriniformes</td><td>Cyprinidae</td><td>Abramis</td><td>Abramis_brama</td><td>aquatic habitat    </td><td>omnivore </td><td>simple</td><td>wild</td><td>feces</td><td> 88.88889</td></tr>\n",
       "\t<tr><td>F157a_European_Toad</td><td>Amphibia      </td><td>Anura        </td><td>Bufonidae </td><td>Bufo   </td><td>Bufo_bufo    </td><td>terrestrial habitat</td><td>carnivore</td><td>simple</td><td>wild</td><td>feces</td><td>100.00000</td></tr>\n",
       "\t<tr><td>⋮</td><td>⋮</td><td>⋮</td><td>⋮</td><td>⋮</td><td>⋮</td><td>⋮</td><td>⋮</td><td>⋮</td><td>⋮</td><td>⋮</td><td>⋮</td></tr>\n",
       "\t<tr><td>X95_Meadow_Viper </td><td>Reptilia</td><td>Squamata  </td><td>Viperidae</td><td>Vipera</td><td>Vipera_ursinii </td><td>terrestrial habitat</td><td>carnivore</td><td>simple </td><td>wild</td><td>feces</td><td>100.00000</td></tr>\n",
       "\t<tr><td>X96_European_Hare</td><td>Mammalia</td><td>Lagomorpha</td><td>Leporidae</td><td>Lepus </td><td>Lepus_europaeus</td><td>terrestrial habitat</td><td>herbivore</td><td>hindgut</td><td>wild</td><td>feces</td><td> 84.61538</td></tr>\n",
       "</tbody>\n",
       "</table>\n"
      ],
      "text/latex": [
       "A tibble: 185 × 12\n",
       "\\begin{tabular}{llllllllllll}\n",
       " Sample & class & order & family & genus & scientific\\_name & habitat & diet & digestive\\_system & captive\\_wild & sample\\_type & perc\\_OTUs\\_with\\_hit\\\\\n",
       " <chr> & <chr> & <chr> & <chr> & <chr> & <chr> & <chr> & <chr> & <chr> & <chr> & <chr> & <dbl>\\\\\n",
       "\\hline\n",
       "\t F14\\_Common\\_Bream    & Actinopterygii & Cypriniformes & Cyprinidae & Abramis & Abramis\\_brama & aquatic habitat     & omnivore  & simple & wild & feces &  88.88889\\\\\n",
       "\t F157a\\_European\\_Toad & Amphibia       & Anura         & Bufonidae  & Bufo    & Bufo\\_bufo     & terrestrial habitat & carnivore & simple & wild & feces & 100.00000\\\\\n",
       "\t ⋮ & ⋮ & ⋮ & ⋮ & ⋮ & ⋮ & ⋮ & ⋮ & ⋮ & ⋮ & ⋮ & ⋮\\\\\n",
       "\t X95\\_Meadow\\_Viper  & Reptilia & Squamata   & Viperidae & Vipera & Vipera\\_ursinii  & terrestrial habitat & carnivore & simple  & wild & feces & 100.00000\\\\\n",
       "\t X96\\_European\\_Hare & Mammalia & Lagomorpha & Leporidae & Lepus  & Lepus\\_europaeus & terrestrial habitat & herbivore & hindgut & wild & feces &  84.61538\\\\\n",
       "\\end{tabular}\n"
      ],
      "text/markdown": [
       "\n",
       "A tibble: 185 × 12\n",
       "\n",
       "| Sample &lt;chr&gt; | class &lt;chr&gt; | order &lt;chr&gt; | family &lt;chr&gt; | genus &lt;chr&gt; | scientific_name &lt;chr&gt; | habitat &lt;chr&gt; | diet &lt;chr&gt; | digestive_system &lt;chr&gt; | captive_wild &lt;chr&gt; | sample_type &lt;chr&gt; | perc_OTUs_with_hit &lt;dbl&gt; |\n",
       "|---|---|---|---|---|---|---|---|---|---|---|---|\n",
       "| F14_Common_Bream    | Actinopterygii | Cypriniformes | Cyprinidae | Abramis | Abramis_brama | aquatic habitat     | omnivore  | simple | wild | feces |  88.88889 |\n",
       "| F157a_European_Toad | Amphibia       | Anura         | Bufonidae  | Bufo    | Bufo_bufo     | terrestrial habitat | carnivore | simple | wild | feces | 100.00000 |\n",
       "| ⋮ | ⋮ | ⋮ | ⋮ | ⋮ | ⋮ | ⋮ | ⋮ | ⋮ | ⋮ | ⋮ | ⋮ |\n",
       "| X95_Meadow_Viper  | Reptilia | Squamata   | Viperidae | Vipera | Vipera_ursinii  | terrestrial habitat | carnivore | simple  | wild | feces | 100.00000 |\n",
       "| X96_European_Hare | Mammalia | Lagomorpha | Leporidae | Lepus  | Lepus_europaeus | terrestrial habitat | herbivore | hindgut | wild | feces |  84.61538 |\n",
       "\n"
      ],
      "text/plain": [
       "    Sample              class          order         family     genus  \n",
       "1   F14_Common_Bream    Actinopterygii Cypriniformes Cyprinidae Abramis\n",
       "2   F157a_European_Toad Amphibia       Anura         Bufonidae  Bufo   \n",
       "⋮   ⋮                   ⋮              ⋮             ⋮          ⋮      \n",
       "184 X95_Meadow_Viper    Reptilia       Squamata      Viperidae  Vipera \n",
       "185 X96_European_Hare   Mammalia       Lagomorpha    Leporidae  Lepus  \n",
       "    scientific_name habitat             diet      digestive_system captive_wild\n",
       "1   Abramis_brama   aquatic habitat     omnivore  simple           wild        \n",
       "2   Bufo_bufo       terrestrial habitat carnivore simple           wild        \n",
       "⋮   ⋮               ⋮                   ⋮         ⋮                ⋮           \n",
       "184 Vipera_ursinii  terrestrial habitat carnivore simple           wild        \n",
       "185 Lepus_europaeus terrestrial habitat herbivore hindgut          wild        \n",
       "    sample_type perc_OTUs_with_hit\n",
       "1   feces        88.88889         \n",
       "2   feces       100.00000         \n",
       "⋮   ⋮           ⋮                 \n",
       "184 feces       100.00000         \n",
       "185 feces        84.61538         "
      ]
     },
     "metadata": {},
     "output_type": "display_data"
    }
   ],
   "source": [
    "# perc w/ hit per sample\n",
    "blast_res_s_j_s = blast_res_s_j %>%\n",
    "    filter(Count > 0) %>%\n",
    "    group_by(Sample, class, order, family, genus, scientific_name,\n",
    "             habitat, diet, digestive_system, captive_wild, sample_type) %>%\n",
    "    summarize(perc_OTUs_with_hit = sum(max_pident >= pident_cutoff, na.rm=TRUE) / length(unique(qaccver)) * 100,\n",
    "              .groups='drop')\n",
    "\n",
    "blast_res_s_j_s %>% .$perc_OTUs_with_hit %>% summary\n",
    "blast_res_s_j_s"
   ]
  },
  {
   "cell_type": "code",
   "execution_count": 28,
   "metadata": {
    "ExecuteTime": {
     "end_time": "2020-09-26T07:23:46.201101Z",
     "start_time": "2020-09-26T07:23:45.552Z"
    }
   },
   "outputs": [
    {
     "data": {
      "image/png": "[encoded data removed]",
      "text/plain": [
       "plot without title"
      ]
     },
     "metadata": {
      "image/png": {
       "height": 270,
       "width": 370
      },
      "text/plain": {
       "height": 270,
       "width": 370
      }
     },
     "output_type": "display_data"
    }
   ],
   "source": [
    "# plotting\n",
    "p = blast_res_s_j_s %>%\n",
    "    ggplot(aes(class, perc_OTUs_with_hit)) +\n",
    "    geom_boxplot(outlier.size=0.7) +\n",
    "    labs(x='Host class',\n",
    "         y='% of ASVs with a hit to\\nAll Species Living Tree') +\n",
    "    theme_bw() +\n",
    "    theme(\n",
    "        axis.text.x = element_text(angle=45, hjust=1)\n",
    "    )\n",
    "\n",
    "p.dims(3.7,2.7)\n",
    "plot(p)"
   ]
  },
  {
   "cell_type": "code",
   "execution_count": 29,
   "metadata": {
    "ExecuteTime": {
     "end_time": "2020-09-26T07:23:46.798684Z",
     "start_time": "2020-09-26T07:23:46.325Z"
    }
   },
   "outputs": [
    {
     "data": {
      "image/png": "[encoded data removed]",
      "text/plain": [
       "plot without title"
      ]
     },
     "metadata": {
      "image/png": {
       "height": 270,
       "width": 330
      },
      "text/plain": {
       "height": 270,
       "width": 330
      }
     },
     "output_type": "display_data"
    }
   ],
   "source": [
    "# plotting\n",
    "p = blast_res_s_j_s %>%\n",
    "    ggplot(aes(diet, perc_OTUs_with_hit)) +\n",
    "    geom_boxplot(outlier.size=0.7) +\n",
    "    labs(x='Host diet',\n",
    "         y='% of ASVs with a hit to\\nAll Species Living Tree') +\n",
    "    theme_bw() +\n",
    "    theme(\n",
    "        axis.text.x = element_text(angle=45, hjust=1)\n",
    "    )\n",
    "\n",
    "p.dims(3.3,2.7)\n",
    "plot(p)"
   ]
  },
  {
   "cell_type": "code",
   "execution_count": 30,
   "metadata": {
    "ExecuteTime": {
     "end_time": "2020-09-26T07:23:47.573536Z",
     "start_time": "2020-09-26T07:23:46.922Z"
    }
   },
   "outputs": [
    {
     "data": {
      "image/png": "[encoded data removed]",
      "text/plain": [
       "plot without title"
      ]
     },
     "metadata": {
      "image/png": {
       "height": 270,
       "width": 370
      },
      "text/plain": {
       "height": 270,
       "width": 370
      }
     },
     "output_type": "display_data"
    }
   ],
   "source": [
    "# plotting\n",
    "p = blast_res_s_j_s %>%\n",
    "    mutate(digestive_system = digestive_system %>% as.character,\n",
    "           digestive_system = gsub('fermentation activity ', '', digestive_system)) %>%\n",
    "    ggplot(aes(digestive_system, perc_OTUs_with_hit)) +\n",
    "    geom_boxplot(outlier.size=0.7) +\n",
    "    labs(x='Host class',\n",
    "         y='% of ASVs with a hit to\\nAll Species Living Tree') +\n",
    "    theme_bw() +\n",
    "    theme(\n",
    "        axis.text.x = element_text(angle=45, hjust=1)\n",
    "    )\n",
    "\n",
    "p.dims(3.7,2.7)\n",
    "plot(p)"
   ]
  },
  {
   "cell_type": "code",
   "execution_count": 31,
   "metadata": {
    "ExecuteTime": {
     "end_time": "2020-09-26T07:23:48.006337Z",
     "start_time": "2020-09-26T07:23:47.558Z"
    }
   },
   "outputs": [
    {
     "data": {
      "image/png": "[encoded data removed]",
      "text/plain": [
       "plot without title"
      ]
     },
     "metadata": {
      "image/png": {
       "height": 270,
       "width": 320
      },
      "text/plain": {
       "height": 270,
       "width": 320
      }
     },
     "output_type": "display_data"
    }
   ],
   "source": [
    "# plotting\n",
    "p = blast_res_s_j_s %>%\n",
    "    ggplot(aes(captive_wild, perc_OTUs_with_hit)) +\n",
    "    geom_boxplot(outlier.size=0.7) +\n",
    "    labs(x='Host captive/wild status',\n",
    "         y='% of ASVs with a hit to\\nAll Species Living Tree') +\n",
    "    theme_bw() +\n",
    "    theme(\n",
    "        axis.text.x = element_text(angle=45, hjust=1)\n",
    "    )\n",
    "\n",
    "p.dims(3.2,2.7)\n",
    "plot(p)"
   ]
  },
  {
   "cell_type": "code",
   "execution_count": 32,
   "metadata": {
    "ExecuteTime": {
     "end_time": "2020-09-26T07:23:48.682141Z",
     "start_time": "2020-09-26T07:23:48.215Z"
    }
   },
   "outputs": [
    {
     "data": {
      "image/png": "[encoded data removed]",
      "text/plain": [
       "plot without title"
      ]
     },
     "metadata": {
      "image/png": {
       "height": 270,
       "width": 320
      },
      "text/plain": {
       "height": 270,
       "width": 320
      }
     },
     "output_type": "display_data"
    }
   ],
   "source": [
    "# plotting\n",
    "p = blast_res_s_j_s %>%\n",
    "    ggplot(aes(sample_type, perc_OTUs_with_hit)) +\n",
    "    geom_boxplot(outlier.size=0.7) +\n",
    "    labs(x='Sample type',\n",
    "         y='% of ASVs with a hit to\\nAll Species Living Tree') +\n",
    "    theme_bw() +\n",
    "    theme(\n",
    "        axis.text.x = element_text(angle=45, hjust=1)\n",
    "    )\n",
    "\n",
    "p.dims(3.2,2.7)\n",
    "plot(p)"
   ]
  },
  {
   "cell_type": "markdown",
   "metadata": {},
   "source": [
    "#### iTOL"
   ]
  },
  {
   "cell_type": "code",
   "execution_count": 33,
   "metadata": {
    "ExecuteTime": {
     "end_time": "2020-09-26T07:23:49.465653Z",
     "start_time": "2020-09-26T07:23:49.344Z"
    }
   },
   "outputs": [
    {
     "data": {
      "text/html": [
       "<table>\n",
       "<caption>A data.frame: 110 × 1</caption>\n",
       "<thead>\n",
       "\t<tr><th></th><th scope=col>perc_OTUs_without_hit</th></tr>\n",
       "\t<tr><th></th><th scope=col>&lt;dbl&gt;</th></tr>\n",
       "</thead>\n",
       "<tbody>\n",
       "\t<tr><th scope=row>Abramis_brama</th><td>11.111111</td></tr>\n",
       "\t<tr><th scope=row>Aepyceros_melampus</th><td> 1.388889</td></tr>\n",
       "\t<tr><th scope=row>⋮</th><td>⋮</td></tr>\n",
       "\t<tr><th scope=row>Vulpes_vulpes</th><td>0</td></tr>\n",
       "\t<tr><th scope=row>Zamenis_longissimus</th><td>0</td></tr>\n",
       "</tbody>\n",
       "</table>\n"
      ],
      "text/latex": [
       "A data.frame: 110 × 1\n",
       "\\begin{tabular}{r|l}\n",
       "  & perc\\_OTUs\\_without\\_hit\\\\\n",
       "  & <dbl>\\\\\n",
       "\\hline\n",
       "\tAbramis\\_brama & 11.111111\\\\\n",
       "\tAepyceros\\_melampus &  1.388889\\\\\n",
       "\t⋮ & ⋮\\\\\n",
       "\tVulpes\\_vulpes & 0\\\\\n",
       "\tZamenis\\_longissimus & 0\\\\\n",
       "\\end{tabular}\n"
      ],
      "text/markdown": [
       "\n",
       "A data.frame: 110 × 1\n",
       "\n",
       "| <!--/--> | perc_OTUs_without_hit &lt;dbl&gt; |\n",
       "|---|---|\n",
       "| Abramis_brama | 11.111111 |\n",
       "| Aepyceros_melampus |  1.388889 |\n",
       "| ⋮ | ⋮ |\n",
       "| Vulpes_vulpes | 0 |\n",
       "| Zamenis_longissimus | 0 |\n",
       "\n"
      ],
      "text/plain": [
       "                    perc_OTUs_without_hit\n",
       "Abramis_brama       11.111111            \n",
       "Aepyceros_melampus   1.388889            \n",
       "⋮                   ⋮                    \n",
       "Vulpes_vulpes       0                    \n",
       "Zamenis_longissimus 0                    "
      ]
     },
     "metadata": {},
     "output_type": "display_data"
    }
   ],
   "source": [
    "# getting mean per sample\n",
    "df = blast_res_s_j_s %>%\n",
    "    mutate(perc_OTUs_without_hit = 100 - perc_OTUs_with_hit) %>%\n",
    "    group_by(scientific_name) %>%\n",
    "    summarize(perc_OTUs_without_hit = mean(perc_OTUs_without_hit),\n",
    "              .groups='drop') %>%\n",
    "    as.data.frame\n",
    "rownames(df) = df$scientific_name\n",
    "df$scientific_name = NULL\n",
    "df"
   ]
  },
  {
   "cell_type": "code",
   "execution_count": 34,
   "metadata": {
    "ExecuteTime": {
     "end_time": "2020-09-26T07:23:51.762054Z",
     "start_time": "2020-09-26T07:23:51.686Z"
    }
   },
   "outputs": [
    {
     "name": "stdout",
     "output_type": "stream",
     "text": [
      "File written: /ebio/abt3_projects/Georg_animal_feces/data/16S_arch/MiSeq-Runs-116-122-126-189-190/LLA/type_strain_similarity//LTP132_97pHit_SpecD_multibar.txt \n"
     ]
    }
   ],
   "source": [
    "# writing file\n",
    "outfile = file.path(work_dir, 'LTP132_97pHit_SpecD_multibar.txt')\n",
    "itol_multibar(df, 'LTP132_97pHit', outfile)"
   ]
  },
  {
   "cell_type": "markdown",
   "metadata": {},
   "source": [
    "### Distribution per microbe class"
   ]
  },
  {
   "cell_type": "code",
   "execution_count": 35,
   "metadata": {
    "ExecuteTime": {
     "end_time": "2020-09-26T07:23:58.428028Z",
     "start_time": "2020-09-26T07:23:58.381Z"
    }
   },
   "outputs": [],
   "source": [
    "pident_cutoff = 0.97"
   ]
  },
  {
   "cell_type": "code",
   "execution_count": 36,
   "metadata": {
    "ExecuteTime": {
     "end_time": "2020-09-26T07:23:58.863210Z",
     "start_time": "2020-09-26T07:23:58.679Z"
    }
   },
   "outputs": [
    {
     "data": {
      "text/plain": [
       "   Min. 1st Qu.  Median    Mean 3rd Qu.    Max. \n",
       "   0.00  100.00  100.00   96.08  100.00  100.00 "
      ]
     },
     "metadata": {},
     "output_type": "display_data"
    },
    {
     "data": {
      "text/html": [
       "<table>\n",
       "<caption>A tibble: 466 × 13</caption>\n",
       "<thead>\n",
       "\t<tr><th scope=col>Sample</th><th scope=col>class</th><th scope=col>order</th><th scope=col>family</th><th scope=col>genus</th><th scope=col>scientific_name</th><th scope=col>Taxonomy</th><th scope=col>habitat</th><th scope=col>diet</th><th scope=col>digestive_system</th><th scope=col>captive_wild</th><th scope=col>sample_type</th><th scope=col>perc_OTUs_with_hit</th></tr>\n",
       "\t<tr><th scope=col>&lt;chr&gt;</th><th scope=col>&lt;chr&gt;</th><th scope=col>&lt;chr&gt;</th><th scope=col>&lt;chr&gt;</th><th scope=col>&lt;chr&gt;</th><th scope=col>&lt;chr&gt;</th><th scope=col>&lt;chr&gt;</th><th scope=col>&lt;chr&gt;</th><th scope=col>&lt;chr&gt;</th><th scope=col>&lt;chr&gt;</th><th scope=col>&lt;chr&gt;</th><th scope=col>&lt;chr&gt;</th><th scope=col>&lt;dbl&gt;</th></tr>\n",
       "</thead>\n",
       "<tbody>\n",
       "\t<tr><td>F14_Common_Bream</td><td>Actinopterygii</td><td>Cypriniformes</td><td>Cyprinidae</td><td>Abramis</td><td>Abramis_brama</td><td>Crenarchaeota;Bathyarchaeia  </td><td>aquatic habitat</td><td>omnivore</td><td>simple</td><td>wild</td><td>feces</td><td>  0</td></tr>\n",
       "\t<tr><td>F14_Common_Bream</td><td>Actinopterygii</td><td>Cypriniformes</td><td>Cyprinidae</td><td>Abramis</td><td>Abramis_brama</td><td>Euryarchaeota;Methanobacteria</td><td>aquatic habitat</td><td>omnivore</td><td>simple</td><td>wild</td><td>feces</td><td>100</td></tr>\n",
       "\t<tr><td>⋮</td><td>⋮</td><td>⋮</td><td>⋮</td><td>⋮</td><td>⋮</td><td>⋮</td><td>⋮</td><td>⋮</td><td>⋮</td><td>⋮</td><td>⋮</td><td>⋮</td></tr>\n",
       "\t<tr><td>X95_Meadow_Viper </td><td>Reptilia</td><td>Squamata  </td><td>Viperidae</td><td>Vipera</td><td>Vipera_ursinii </td><td>Thaumarchaeota;Nitrososphaeria</td><td>terrestrial habitat</td><td>carnivore</td><td>simple </td><td>wild</td><td>feces</td><td>100.00000</td></tr>\n",
       "\t<tr><td>X96_European_Hare</td><td>Mammalia</td><td>Lagomorpha</td><td>Leporidae</td><td>Lepus </td><td>Lepus_europaeus</td><td>Euryarchaeota;Methanobacteria </td><td>terrestrial habitat</td><td>herbivore</td><td>hindgut</td><td>wild</td><td>feces</td><td> 84.61538</td></tr>\n",
       "</tbody>\n",
       "</table>\n"
      ],
      "text/latex": [
       "A tibble: 466 × 13\n",
       "\\begin{tabular}{lllllllllllll}\n",
       " Sample & class & order & family & genus & scientific\\_name & Taxonomy & habitat & diet & digestive\\_system & captive\\_wild & sample\\_type & perc\\_OTUs\\_with\\_hit\\\\\n",
       " <chr> & <chr> & <chr> & <chr> & <chr> & <chr> & <chr> & <chr> & <chr> & <chr> & <chr> & <chr> & <dbl>\\\\\n",
       "\\hline\n",
       "\t F14\\_Common\\_Bream & Actinopterygii & Cypriniformes & Cyprinidae & Abramis & Abramis\\_brama & Crenarchaeota;Bathyarchaeia   & aquatic habitat & omnivore & simple & wild & feces &   0\\\\\n",
       "\t F14\\_Common\\_Bream & Actinopterygii & Cypriniformes & Cyprinidae & Abramis & Abramis\\_brama & Euryarchaeota;Methanobacteria & aquatic habitat & omnivore & simple & wild & feces & 100\\\\\n",
       "\t ⋮ & ⋮ & ⋮ & ⋮ & ⋮ & ⋮ & ⋮ & ⋮ & ⋮ & ⋮ & ⋮ & ⋮ & ⋮\\\\\n",
       "\t X95\\_Meadow\\_Viper  & Reptilia & Squamata   & Viperidae & Vipera & Vipera\\_ursinii  & Thaumarchaeota;Nitrososphaeria & terrestrial habitat & carnivore & simple  & wild & feces & 100.00000\\\\\n",
       "\t X96\\_European\\_Hare & Mammalia & Lagomorpha & Leporidae & Lepus  & Lepus\\_europaeus & Euryarchaeota;Methanobacteria  & terrestrial habitat & herbivore & hindgut & wild & feces &  84.61538\\\\\n",
       "\\end{tabular}\n"
      ],
      "text/markdown": [
       "\n",
       "A tibble: 466 × 13\n",
       "\n",
       "| Sample &lt;chr&gt; | class &lt;chr&gt; | order &lt;chr&gt; | family &lt;chr&gt; | genus &lt;chr&gt; | scientific_name &lt;chr&gt; | Taxonomy &lt;chr&gt; | habitat &lt;chr&gt; | diet &lt;chr&gt; | digestive_system &lt;chr&gt; | captive_wild &lt;chr&gt; | sample_type &lt;chr&gt; | perc_OTUs_with_hit &lt;dbl&gt; |\n",
       "|---|---|---|---|---|---|---|---|---|---|---|---|---|\n",
       "| F14_Common_Bream | Actinopterygii | Cypriniformes | Cyprinidae | Abramis | Abramis_brama | Crenarchaeota;Bathyarchaeia   | aquatic habitat | omnivore | simple | wild | feces |   0 |\n",
       "| F14_Common_Bream | Actinopterygii | Cypriniformes | Cyprinidae | Abramis | Abramis_brama | Euryarchaeota;Methanobacteria | aquatic habitat | omnivore | simple | wild | feces | 100 |\n",
       "| ⋮ | ⋮ | ⋮ | ⋮ | ⋮ | ⋮ | ⋮ | ⋮ | ⋮ | ⋮ | ⋮ | ⋮ | ⋮ |\n",
       "| X95_Meadow_Viper  | Reptilia | Squamata   | Viperidae | Vipera | Vipera_ursinii  | Thaumarchaeota;Nitrososphaeria | terrestrial habitat | carnivore | simple  | wild | feces | 100.00000 |\n",
       "| X96_European_Hare | Mammalia | Lagomorpha | Leporidae | Lepus  | Lepus_europaeus | Euryarchaeota;Methanobacteria  | terrestrial habitat | herbivore | hindgut | wild | feces |  84.61538 |\n",
       "\n"
      ],
      "text/plain": [
       "    Sample            class          order         family     genus  \n",
       "1   F14_Common_Bream  Actinopterygii Cypriniformes Cyprinidae Abramis\n",
       "2   F14_Common_Bream  Actinopterygii Cypriniformes Cyprinidae Abramis\n",
       "⋮   ⋮                 ⋮              ⋮             ⋮          ⋮      \n",
       "465 X95_Meadow_Viper  Reptilia       Squamata      Viperidae  Vipera \n",
       "466 X96_European_Hare Mammalia       Lagomorpha    Leporidae  Lepus  \n",
       "    scientific_name Taxonomy                       habitat            \n",
       "1   Abramis_brama   Crenarchaeota;Bathyarchaeia    aquatic habitat    \n",
       "2   Abramis_brama   Euryarchaeota;Methanobacteria  aquatic habitat    \n",
       "⋮   ⋮               ⋮                              ⋮                  \n",
       "465 Vipera_ursinii  Thaumarchaeota;Nitrososphaeria terrestrial habitat\n",
       "466 Lepus_europaeus Euryarchaeota;Methanobacteria  terrestrial habitat\n",
       "    diet      digestive_system captive_wild sample_type perc_OTUs_with_hit\n",
       "1   omnivore  simple           wild         feces         0               \n",
       "2   omnivore  simple           wild         feces       100               \n",
       "⋮   ⋮         ⋮                ⋮            ⋮           ⋮                 \n",
       "465 carnivore simple           wild         feces       100.00000         \n",
       "466 herbivore hindgut          wild         feces        84.61538         "
      ]
     },
     "metadata": {},
     "output_type": "display_data"
    }
   ],
   "source": [
    "# perc w/ hit per sample\n",
    "blast_res_s_j_s = blast_res_s_j %>%\n",
    "    filter(Count > 0) %>%\n",
    "    mutate(Taxonomy = paste(Phylum, Class, sep=';')) %>%\n",
    "    group_by(Sample) %>%\n",
    "    mutate(total_count = sum(Count)) %>%\n",
    "    group_by(Taxonomy, Sample) %>%\n",
    "    mutate(tax_sum_abund = sum(Count) / total_count * 100) %>%\n",
    "    group_by(Taxonomy) %>%\n",
    "    mutate(tax_mean_abund = mean(tax_sum_abund)) %>%\n",
    "    ungroup() %>%\n",
    "    filter(tax_mean_abund >= 5) %>%\n",
    "    group_by(Sample, class, order, family, genus, scientific_name, Taxonomy,\n",
    "             habitat, diet, digestive_system, captive_wild, sample_type) %>%\n",
    "    summarize(perc_OTUs_with_hit = sum(max_pident >= pident_cutoff, na.rm=TRUE) / length(unique(qaccver)) * 100,\n",
    "              .groups='drop')\n",
    "\n",
    "blast_res_s_j_s %>% .$perc_OTUs_with_hit %>% summary\n",
    "blast_res_s_j_s"
   ]
  },
  {
   "cell_type": "code",
   "execution_count": 37,
   "metadata": {
    "ExecuteTime": {
     "end_time": "2020-09-26T07:24:00.998172Z",
     "start_time": "2020-09-26T07:23:59.198Z"
    }
   },
   "outputs": [
    {
     "data": {
      "image/png": "[encoded data removed]",
      "text/plain": [
       "plot without title"
      ]
     },
     "metadata": {
      "image/png": {
       "height": 500,
       "width": 700
      },
      "text/plain": {
       "height": 500,
       "width": 700
      }
     },
     "output_type": "display_data"
    }
   ],
   "source": [
    "# plotting\n",
    "p = blast_res_s_j_s %>%\n",
    "    mutate(Taxonomy = gsub(';', ';\\n', Taxonomy),\n",
    "           perc_OTUs_without_hit = 100 - perc_OTUs_with_hit) %>%\n",
    "    ggplot(aes(class, perc_OTUs_without_hit)) +\n",
    "    geom_boxplot(outlier.size=0.7) +\n",
    "    labs(x='Host class',\n",
    "         y='% of ASVs lacking a hit to\\nAll Species Living Tree') +\n",
    "    facet_wrap(~ Taxonomy) +\n",
    "    theme_bw() +\n",
    "    theme(\n",
    "        axis.text.x = element_text(angle=90, hjust=1, vjust=0.5)\n",
    "    )\n",
    "\n",
    "p.dims(7,5)\n",
    "plot(p)"
   ]
  },
  {
   "cell_type": "markdown",
   "metadata": {},
   "source": [
    "#### iTOL"
   ]
  },
  {
   "cell_type": "code",
   "execution_count": 38,
   "metadata": {
    "ExecuteTime": {
     "end_time": "2020-09-26T07:24:01.020072Z",
     "start_time": "2020-09-26T07:24:00.302Z"
    }
   },
   "outputs": [],
   "source": [
    "itol_multibar = function(df, dataset_label, out_file, out_dir=NULL,\n",
    "                         legend=NULL, WIDTH=200, COLOR=\"#ff0000\"){\n",
    "  if(! is.null(out_dir)){\n",
    "    out_file = file.path(out_dir, out_file)\n",
    "  }\n",
    "  # Main params\n",
    "  cat('DATASET_MULTIBAR\\n', file=out_file)\n",
    "  cat('SEPARATOR SPACE\\n', file=out_file, append=TRUE)\n",
    "  cat(sprintf('DATASET_LABEL %s\\n', dataset_label), file=out_file, append=TRUE)\n",
    "  cat(sprintf('COLOR %s\\n', COLOR), file=out_file, append=TRUE)\n",
    "  cat(sprintf('WIDTH %s\\n', WIDTH), file=out_file, append=TRUE)\n",
    "\n",
    "  # Field labels\n",
    "  labs = gsub(' ', '_', colnames(df))\n",
    "  labs = sprintf('FIELD_LABELS %s\\n', paste(labs, collapse=' '))\n",
    "  cat(labs, file=out_file, append=TRUE)\n",
    "\n",
    "  # Field colors\n",
    "  if(is.null(legend)){\n",
    "    cols = rainbow(ncol(df))\n",
    "    cols = gsub('FFFF00FF', 'FFD966', cols)\n",
    "  } else {\n",
    "    cols = legend$colors %>% as.character\n",
    "  }\n",
    "  cols = sprintf('FIELD_COLORS %s\\n', paste(cols, collapse=' '))\n",
    "  cat(cols, file=out_file, append=TRUE)\n",
    "  \n",
    "\n",
    "  # legend\n",
    "  cat(sprintf('LEGEND_TITLE %s\\n', dataset_label), file=out_file, append=TRUE)\n",
    "  if(is.null(legend)){\n",
    "    shapes = rep(1, colnames(df) %>% length)\n",
    "    cols = rainbow(length(shapes))\n",
    "    cols = gsub('FFFF00FF', 'FFD966', cols)\n",
    "    labs = paste(gsub(' ', '_', colnames(df)), collapse=' ')\n",
    "  } else {\n",
    "    stopifnot(all(colnames(legend) %in% c('shapes', 'colors', 'labels')))\n",
    "    shapes = legend$shapes %>% as.character\n",
    "    cols = legend$colors %>% as.character\n",
    "    labs = legend$labels %>% as.character\n",
    "  }\n",
    "  cat(sprintf('LEGEND_SHAPES %s\\n', paste(shapes, collapse=' ')),\n",
    "      file=out_file, append=TRUE)\n",
    "  cat(sprintf('LEGEND_COLORS %s\\n', paste(cols, collapse=' ')),\n",
    "      file=out_file, append=TRUE)\n",
    "  cat(sprintf('LEGEND_LABELS %s\\n', paste(labs, collapse=' ')), file=out_file, append=TRUE)\n",
    "\n",
    "  # Data\n",
    "  cat('DATA\\n', file=out_file, append=TRUE)\n",
    "  write.table(df, file=out_file, append=TRUE, sep=' ',\n",
    "              quote=FALSE, row.names=TRUE, col.names=FALSE)\n",
    "  cat('File written:', out_file, '\\n')\n",
    "}"
   ]
  },
  {
   "cell_type": "code",
   "execution_count": 39,
   "metadata": {
    "ExecuteTime": {
     "end_time": "2020-09-26T07:24:01.224415Z",
     "start_time": "2020-09-26T07:24:01.104Z"
    }
   },
   "outputs": [
    {
     "data": {
      "text/html": [
       "<table>\n",
       "<caption>A data.frame: 110 × 6</caption>\n",
       "<thead>\n",
       "\t<tr><th></th><th scope=col>Thaumarchaeota-Nitrososphaeria</th><th scope=col>Euryarchaeota-Thermoplasmata</th><th scope=col>Euryarchaeota-Methanomicrobia</th><th scope=col>Euryarchaeota-Methanobacteria</th><th scope=col>Euryarchaeota-Halobacteria</th><th scope=col>Crenarchaeota-Bathyarchaeia</th></tr>\n",
       "\t<tr><th></th><th scope=col>&lt;dbl&gt;</th><th scope=col>&lt;dbl&gt;</th><th scope=col>&lt;dbl&gt;</th><th scope=col>&lt;dbl&gt;</th><th scope=col>&lt;dbl&gt;</th><th scope=col>&lt;dbl&gt;</th></tr>\n",
       "</thead>\n",
       "<tbody>\n",
       "\t<tr><th scope=row>Abramis_brama</th><td>0</td><td>0</td><td>6.25</td><td>0.0000</td><td>0</td><td>100</td></tr>\n",
       "\t<tr><th scope=row>Aepyceros_melampus</th><td>0</td><td>0</td><td>0.00</td><td>1.5625</td><td>0</td><td>  0</td></tr>\n",
       "\t<tr><th scope=row>⋮</th><td>⋮</td><td>⋮</td><td>⋮</td><td>⋮</td><td>⋮</td><td>⋮</td></tr>\n",
       "\t<tr><th scope=row>Vulpes_vulpes</th><td>0</td><td>0</td><td>0</td><td>0</td><td>0</td><td>0</td></tr>\n",
       "\t<tr><th scope=row>Zamenis_longissimus</th><td>0</td><td>0</td><td>0</td><td>0</td><td>0</td><td>0</td></tr>\n",
       "</tbody>\n",
       "</table>\n"
      ],
      "text/latex": [
       "A data.frame: 110 × 6\n",
       "\\begin{tabular}{r|llllll}\n",
       "  & Thaumarchaeota-Nitrososphaeria & Euryarchaeota-Thermoplasmata & Euryarchaeota-Methanomicrobia & Euryarchaeota-Methanobacteria & Euryarchaeota-Halobacteria & Crenarchaeota-Bathyarchaeia\\\\\n",
       "  & <dbl> & <dbl> & <dbl> & <dbl> & <dbl> & <dbl>\\\\\n",
       "\\hline\n",
       "\tAbramis\\_brama & 0 & 0 & 6.25 & 0.0000 & 0 & 100\\\\\n",
       "\tAepyceros\\_melampus & 0 & 0 & 0.00 & 1.5625 & 0 &   0\\\\\n",
       "\t⋮ & ⋮ & ⋮ & ⋮ & ⋮ & ⋮ & ⋮\\\\\n",
       "\tVulpes\\_vulpes & 0 & 0 & 0 & 0 & 0 & 0\\\\\n",
       "\tZamenis\\_longissimus & 0 & 0 & 0 & 0 & 0 & 0\\\\\n",
       "\\end{tabular}\n"
      ],
      "text/markdown": [
       "\n",
       "A data.frame: 110 × 6\n",
       "\n",
       "| <!--/--> | Thaumarchaeota-Nitrososphaeria &lt;dbl&gt; | Euryarchaeota-Thermoplasmata &lt;dbl&gt; | Euryarchaeota-Methanomicrobia &lt;dbl&gt; | Euryarchaeota-Methanobacteria &lt;dbl&gt; | Euryarchaeota-Halobacteria &lt;dbl&gt; | Crenarchaeota-Bathyarchaeia &lt;dbl&gt; |\n",
       "|---|---|---|---|---|---|---|\n",
       "| Abramis_brama | 0 | 0 | 6.25 | 0.0000 | 0 | 100 |\n",
       "| Aepyceros_melampus | 0 | 0 | 0.00 | 1.5625 | 0 |   0 |\n",
       "| ⋮ | ⋮ | ⋮ | ⋮ | ⋮ | ⋮ | ⋮ |\n",
       "| Vulpes_vulpes | 0 | 0 | 0 | 0 | 0 | 0 |\n",
       "| Zamenis_longissimus | 0 | 0 | 0 | 0 | 0 | 0 |\n",
       "\n"
      ],
      "text/plain": [
       "                    Thaumarchaeota-Nitrososphaeria Euryarchaeota-Thermoplasmata\n",
       "Abramis_brama       0                              0                           \n",
       "Aepyceros_melampus  0                              0                           \n",
       "⋮                   ⋮                              ⋮                           \n",
       "Vulpes_vulpes       0                              0                           \n",
       "Zamenis_longissimus 0                              0                           \n",
       "                    Euryarchaeota-Methanomicrobia Euryarchaeota-Methanobacteria\n",
       "Abramis_brama       6.25                          0.0000                       \n",
       "Aepyceros_melampus  0.00                          1.5625                       \n",
       "⋮                   ⋮                             ⋮                            \n",
       "Vulpes_vulpes       0                             0                            \n",
       "Zamenis_longissimus 0                             0                            \n",
       "                    Euryarchaeota-Halobacteria Crenarchaeota-Bathyarchaeia\n",
       "Abramis_brama       0                          100                        \n",
       "Aepyceros_melampus  0                            0                        \n",
       "⋮                   ⋮                          ⋮                          \n",
       "Vulpes_vulpes       0                          0                          \n",
       "Zamenis_longissimus 0                          0                          "
      ]
     },
     "metadata": {},
     "output_type": "display_data"
    }
   ],
   "source": [
    "# getting mean per sample\n",
    "df = blast_res_s_j_s %>%\n",
    "    mutate(perc_OTUs_without_hit = 100 - perc_OTUs_with_hit)%>%\n",
    "    group_by(scientific_name, Taxonomy) %>%\n",
    "    summarize(perc_OTUs_without_hit = mean(perc_OTUs_without_hit),\n",
    "              .groups='drop') %>%\n",
    "    spread(Taxonomy, perc_OTUs_without_hit, fill=0) %>%\n",
    "    as.data.frame\n",
    "rownames(df) = df$scientific_name\n",
    "df$scientific_name = NULL\n",
    "df = df[,sort(colnames(df), decreasing=TRUE)]\n",
    "colnames(df) = gsub(';', '-', colnames(df))\n",
    "df"
   ]
  },
  {
   "cell_type": "code",
   "execution_count": 40,
   "metadata": {
    "ExecuteTime": {
     "end_time": "2020-09-26T07:24:03.183982Z",
     "start_time": "2020-09-26T07:24:03.111Z"
    }
   },
   "outputs": [
    {
     "name": "stderr",
     "output_type": "stream",
     "text": [
      "Warning message in vegan::vegdist(., method = dist_method):\n",
      "“you have empty rows: their dissimilarities may be meaningless in method “bray””\n"
     ]
    },
    {
     "name": "stdout",
     "output_type": "stream",
     "text": [
      "File written: /ebio/abt3_projects/Georg_animal_feces/data/16S_arch/MiSeq-Runs-116-122-126-189-190/LLA/type_strain_similarity//LTP132_97pHit_SpecD_per-class_htmp.txt \n"
     ]
    }
   ],
   "source": [
    "# writing file\n",
    "outfile = file.path(work_dir, 'LTP132_97pHit_SpecD_per-class_htmp.txt')\n",
    "itol_heatmap(df, 'LTP132_97pHit_class', outfile, dist_method = 'bray')"
   ]
  },
  {
   "cell_type": "markdown",
   "metadata": {},
   "source": [
    "### Methanobactericeae\n",
    "\n",
    "* How novel are the Methanothermobacter ASVs in particular?"
   ]
  },
  {
   "cell_type": "code",
   "execution_count": 94,
   "metadata": {
    "ExecuteTime": {
     "end_time": "2020-09-26T07:45:45.582247Z",
     "start_time": "2020-09-26T07:45:45.457Z"
    }
   },
   "outputs": [
    {
     "data": {
      "text/html": [
       "<table>\n",
       "<caption>A tibble: 83 × 2</caption>\n",
       "<thead>\n",
       "\t<tr><th scope=col>Taxonomy</th><th scope=col>total_per_tax_OTUs</th></tr>\n",
       "\t<tr><th scope=col>&lt;chr&gt;</th><th scope=col>&lt;int&gt;</th></tr>\n",
       "</thead>\n",
       "<tbody>\n",
       "\t<tr><td>Methanobacteriaceae;Methanobrevibacter                 </td><td>699</td></tr>\n",
       "\t<tr><td>Methanocorpusculaceae;Methanocorpusculum               </td><td>215</td></tr>\n",
       "\t<tr><td>Methanobacteriaceae;Methanosphaera                     </td><td>188</td></tr>\n",
       "\t<tr><td>Methanomethylophilaceae;uncultured                     </td><td> 91</td></tr>\n",
       "\t<tr><td>Methanomethylophilaceae;Candidatus Methanomethylophilus</td><td> 61</td></tr>\n",
       "\t<tr><td>⋮</td><td>⋮</td></tr>\n",
       "\t<tr><td>Nitrosopumilaceae;unclassified                                         </td><td>1</td></tr>\n",
       "\t<tr><td>Nitrososphaeraceae;unidentified archaeon SCA1166                       </td><td>1</td></tr>\n",
       "\t<tr><td>uncultured eukaryote;uncultured eukaryote                              </td><td>1</td></tr>\n",
       "\t<tr><td>uncultured Thermoproteales archaeon;uncultured Thermoproteales archaeon</td><td>1</td></tr>\n",
       "\t<tr><td>uncultured;uncultured Thermoplasmatales archaeon                       </td><td>1</td></tr>\n",
       "</tbody>\n",
       "</table>\n"
      ],
      "text/latex": [
       "A tibble: 83 × 2\n",
       "\\begin{tabular}{ll}\n",
       " Taxonomy & total\\_per\\_tax\\_OTUs\\\\\n",
       " <chr> & <int>\\\\\n",
       "\\hline\n",
       "\t Methanobacteriaceae;Methanobrevibacter                  & 699\\\\\n",
       "\t Methanocorpusculaceae;Methanocorpusculum                & 215\\\\\n",
       "\t Methanobacteriaceae;Methanosphaera                      & 188\\\\\n",
       "\t Methanomethylophilaceae;uncultured                      &  91\\\\\n",
       "\t Methanomethylophilaceae;Candidatus Methanomethylophilus &  61\\\\\n",
       "\t ⋮ & ⋮\\\\\n",
       "\t Nitrosopumilaceae;unclassified                                          & 1\\\\\n",
       "\t Nitrososphaeraceae;unidentified archaeon SCA1166                        & 1\\\\\n",
       "\t uncultured eukaryote;uncultured eukaryote                               & 1\\\\\n",
       "\t uncultured Thermoproteales archaeon;uncultured Thermoproteales archaeon & 1\\\\\n",
       "\t uncultured;uncultured Thermoplasmatales archaeon                        & 1\\\\\n",
       "\\end{tabular}\n"
      ],
      "text/markdown": [
       "\n",
       "A tibble: 83 × 2\n",
       "\n",
       "| Taxonomy &lt;chr&gt; | total_per_tax_OTUs &lt;int&gt; |\n",
       "|---|---|\n",
       "| Methanobacteriaceae;Methanobrevibacter                  | 699 |\n",
       "| Methanocorpusculaceae;Methanocorpusculum                | 215 |\n",
       "| Methanobacteriaceae;Methanosphaera                      | 188 |\n",
       "| Methanomethylophilaceae;uncultured                      |  91 |\n",
       "| Methanomethylophilaceae;Candidatus Methanomethylophilus |  61 |\n",
       "| ⋮ | ⋮ |\n",
       "| Nitrosopumilaceae;unclassified                                          | 1 |\n",
       "| Nitrososphaeraceae;unidentified archaeon SCA1166                        | 1 |\n",
       "| uncultured eukaryote;uncultured eukaryote                               | 1 |\n",
       "| uncultured Thermoproteales archaeon;uncultured Thermoproteales archaeon | 1 |\n",
       "| uncultured;uncultured Thermoplasmatales archaeon                        | 1 |\n",
       "\n"
      ],
      "text/plain": [
       "   Taxonomy                                                               \n",
       "1  Methanobacteriaceae;Methanobrevibacter                                 \n",
       "2  Methanocorpusculaceae;Methanocorpusculum                               \n",
       "3  Methanobacteriaceae;Methanosphaera                                     \n",
       "4  Methanomethylophilaceae;uncultured                                     \n",
       "5  Methanomethylophilaceae;Candidatus Methanomethylophilus                \n",
       "⋮  ⋮                                                                      \n",
       "79 Nitrosopumilaceae;unclassified                                         \n",
       "80 Nitrososphaeraceae;unidentified archaeon SCA1166                       \n",
       "81 uncultured eukaryote;uncultured eukaryote                              \n",
       "82 uncultured Thermoproteales archaeon;uncultured Thermoproteales archaeon\n",
       "83 uncultured;uncultured Thermoplasmatales archaeon                       \n",
       "   total_per_tax_OTUs\n",
       "1  699               \n",
       "2  215               \n",
       "3  188               \n",
       "4   91               \n",
       "5   61               \n",
       "⋮  ⋮                 \n",
       "79 1                 \n",
       "80 1                 \n",
       "81 1                 \n",
       "82 1                 \n",
       "83 1                 "
      ]
     },
     "metadata": {},
     "output_type": "display_data"
    }
   ],
   "source": [
    "# adding taxonomy\n",
    "tax = physeq_arch_IndD %>%\n",
    "    phyloseq2df(tax_table) %>%\n",
    "    as.data.table %>%\n",
    "    mutate(Taxonomy = paste(Family, Genus, sep=';')) %>%\n",
    "    group_by(Taxonomy) %>%\n",
    "    summarize(total_per_tax_OTUs = n(), .groups='drop')\n",
    "df.dims(10)\n",
    "tax %>% arrange(-total_per_tax_OTUs)\n",
    "df.dims()"
   ]
  },
  {
   "cell_type": "code",
   "execution_count": 96,
   "metadata": {
    "ExecuteTime": {
     "end_time": "2020-09-26T07:45:46.427321Z",
     "start_time": "2020-09-26T07:45:46.383Z"
    }
   },
   "outputs": [],
   "source": [
    "#' OTUs with a hit\n",
    "otus_with_rep = function(seqid_cutoff, blast_res_s, tax_table){      \n",
    "    x = blast_res_s %>%\n",
    "        mutate(Taxonomy = paste(Family, Genus, sep=';')) %>%\n",
    "        left_join(tax_table, c('Taxonomy')) %>%\n",
    "        filter(max_pident < seqid_cutoff) %>%\n",
    "        distinct(Taxonomy, qaccver, total_per_tax_OTUs) %>%\n",
    "        group_by(Taxonomy, total_per_tax_OTUs) %>%\n",
    "        summarize(n_OTUs = n(), \n",
    "                  .groups='drop')\n",
    "    x$seqID_cutoff = seqid_cutoff\n",
    "    return(x)\n",
    "}"
   ]
  },
  {
   "cell_type": "code",
   "execution_count": 97,
   "metadata": {
    "ExecuteTime": {
     "end_time": "2020-09-26T07:45:47.472026Z",
     "start_time": "2020-09-26T07:45:46.906Z"
    }
   },
   "outputs": [
    {
     "data": {
      "text/html": [
       "<table>\n",
       "<caption>A tibble: 53 × 9</caption>\n",
       "<thead>\n",
       "\t<tr><th scope=col>Taxonomy</th><th scope=col>total_per_tax_OTUs</th><th scope=col>n_OTUs</th><th scope=col>seqID_cutoff</th><th scope=col>perc_OTUs_with_hit</th><th scope=col>perc_OTUs_without_hit</th><th scope=col>perc_total_OTUs_with_hit</th><th scope=col>perc_total_OTUs_without_hit</th><th scope=col>max_n_OTUs</th></tr>\n",
       "\t<tr><th scope=col>&lt;chr&gt;</th><th scope=col>&lt;int&gt;</th><th scope=col>&lt;int&gt;</th><th scope=col>&lt;int&gt;</th><th scope=col>&lt;dbl&gt;</th><th scope=col>&lt;dbl&gt;</th><th scope=col>&lt;dbl&gt;</th><th scope=col>&lt;dbl&gt;</th><th scope=col>&lt;int&gt;</th></tr>\n",
       "</thead>\n",
       "<tbody>\n",
       "\t<tr><td>Methanobacteriaceae;Methanobrevibacter</td><td>699</td><td>10</td><td>86</td><td>98.56938</td><td>1.4306152</td><td>99.47118</td><td>0.52882073</td><td>662</td></tr>\n",
       "\t<tr><td>Methanobacteriaceae;Methanosphaera    </td><td>188</td><td> 1</td><td>86</td><td>99.46809</td><td>0.5319149</td><td>99.94712</td><td>0.05288207</td><td>183</td></tr>\n",
       "\t<tr><td>⋮</td><td>⋮</td><td>⋮</td><td>⋮</td><td>⋮</td><td>⋮</td><td>⋮</td><td>⋮</td><td>⋮</td></tr>\n",
       "\t<tr><td>Methanobacteriaceae;Methanosphaera          </td><td>188</td><td>183</td><td>100</td><td>2.659574</td><td>97.34043</td><td>90.32258</td><td>9.677419</td><td>183</td></tr>\n",
       "\t<tr><td>Methanothermobacteraceae;Methanothermobacter</td><td> 39</td><td> 38</td><td>100</td><td>2.564103</td><td>97.43590</td><td>97.99048</td><td>2.009519</td><td> 38</td></tr>\n",
       "</tbody>\n",
       "</table>\n"
      ],
      "text/latex": [
       "A tibble: 53 × 9\n",
       "\\begin{tabular}{lllllllll}\n",
       " Taxonomy & total\\_per\\_tax\\_OTUs & n\\_OTUs & seqID\\_cutoff & perc\\_OTUs\\_with\\_hit & perc\\_OTUs\\_without\\_hit & perc\\_total\\_OTUs\\_with\\_hit & perc\\_total\\_OTUs\\_without\\_hit & max\\_n\\_OTUs\\\\\n",
       " <chr> & <int> & <int> & <int> & <dbl> & <dbl> & <dbl> & <dbl> & <int>\\\\\n",
       "\\hline\n",
       "\t Methanobacteriaceae;Methanobrevibacter & 699 & 10 & 86 & 98.56938 & 1.4306152 & 99.47118 & 0.52882073 & 662\\\\\n",
       "\t Methanobacteriaceae;Methanosphaera     & 188 &  1 & 86 & 99.46809 & 0.5319149 & 99.94712 & 0.05288207 & 183\\\\\n",
       "\t ⋮ & ⋮ & ⋮ & ⋮ & ⋮ & ⋮ & ⋮ & ⋮ & ⋮\\\\\n",
       "\t Methanobacteriaceae;Methanosphaera           & 188 & 183 & 100 & 2.659574 & 97.34043 & 90.32258 & 9.677419 & 183\\\\\n",
       "\t Methanothermobacteraceae;Methanothermobacter &  39 &  38 & 100 & 2.564103 & 97.43590 & 97.99048 & 2.009519 &  38\\\\\n",
       "\\end{tabular}\n"
      ],
      "text/markdown": [
       "\n",
       "A tibble: 53 × 9\n",
       "\n",
       "| Taxonomy &lt;chr&gt; | total_per_tax_OTUs &lt;int&gt; | n_OTUs &lt;int&gt; | seqID_cutoff &lt;int&gt; | perc_OTUs_with_hit &lt;dbl&gt; | perc_OTUs_without_hit &lt;dbl&gt; | perc_total_OTUs_with_hit &lt;dbl&gt; | perc_total_OTUs_without_hit &lt;dbl&gt; | max_n_OTUs &lt;int&gt; |\n",
       "|---|---|---|---|---|---|---|---|---|\n",
       "| Methanobacteriaceae;Methanobrevibacter | 699 | 10 | 86 | 98.56938 | 1.4306152 | 99.47118 | 0.52882073 | 662 |\n",
       "| Methanobacteriaceae;Methanosphaera     | 188 |  1 | 86 | 99.46809 | 0.5319149 | 99.94712 | 0.05288207 | 183 |\n",
       "| ⋮ | ⋮ | ⋮ | ⋮ | ⋮ | ⋮ | ⋮ | ⋮ | ⋮ |\n",
       "| Methanobacteriaceae;Methanosphaera           | 188 | 183 | 100 | 2.659574 | 97.34043 | 90.32258 | 9.677419 | 183 |\n",
       "| Methanothermobacteraceae;Methanothermobacter |  39 |  38 | 100 | 2.564103 | 97.43590 | 97.99048 | 2.009519 |  38 |\n",
       "\n"
      ],
      "text/plain": [
       "   Taxonomy                                     total_per_tax_OTUs n_OTUs\n",
       "1  Methanobacteriaceae;Methanobrevibacter       699                10    \n",
       "2  Methanobacteriaceae;Methanosphaera           188                 1    \n",
       "⋮  ⋮                                            ⋮                  ⋮     \n",
       "52 Methanobacteriaceae;Methanosphaera           188                183   \n",
       "53 Methanothermobacteraceae;Methanothermobacter  39                 38   \n",
       "   seqID_cutoff perc_OTUs_with_hit perc_OTUs_without_hit\n",
       "1  86           98.56938           1.4306152            \n",
       "2  86           99.46809           0.5319149            \n",
       "⋮  ⋮            ⋮                  ⋮                    \n",
       "52 100          2.659574           97.34043             \n",
       "53 100          2.564103           97.43590             \n",
       "   perc_total_OTUs_with_hit perc_total_OTUs_without_hit max_n_OTUs\n",
       "1  99.47118                 0.52882073                  662       \n",
       "2  99.94712                 0.05288207                  183       \n",
       "⋮  ⋮                        ⋮                           ⋮         \n",
       "52 90.32258                 9.677419                    183       \n",
       "53 97.99048                 2.009519                     38       "
      ]
     },
     "metadata": {},
     "output_type": "display_data"
    }
   ],
   "source": [
    "# per cutoff\n",
    "seqID_cutoff = 86:100\n",
    "df = lapply(as.list(seqID_cutoff), \n",
    "            otus_with_rep, \n",
    "            blast_res_s=as.data.frame(blast_res_s %>% \n",
    "                                      filter(Family %in% c('Methanobacteriaceae',\n",
    "                                                           'Methanothermobacteraceae'))),\n",
    "            tax_table=tax) %>%\n",
    "    do.call(rbind, .) %>%\n",
    "    mutate(perc_OTUs_with_hit = (1 - n_OTUs / total_per_tax_OTUs) * 100,\n",
    "           perc_OTUs_without_hit = 100 - perc_OTUs_with_hit,\n",
    "           perc_total_OTUs_with_hit = (1 - n_OTUs / total_OTUs) * 100,\n",
    "           perc_total_OTUs_without_hit = 100 - perc_total_OTUs_with_hit) %>%\n",
    "    group_by(Taxonomy) %>%\n",
    "    mutate(max_n_OTUs = max(n_OTUs)) %>%\n",
    "    ungroup() %>%\n",
    "    filter(!grepl('unclassified|uncultured', Taxonomy))\n",
    "\n",
    "tmp = df %>%\n",
    "    filter(seqID_cutoff == 90) %>%\n",
    "    mutate(perc_OTUs_with_hit = 100,\n",
    "           seqID_cutoff = 85)\n",
    "df "
   ]
  },
  {
   "cell_type": "code",
   "execution_count": 101,
   "metadata": {
    "ExecuteTime": {
     "end_time": "2020-09-26T07:46:49.211967Z",
     "start_time": "2020-09-26T07:46:48.158Z"
    }
   },
   "outputs": [
    {
     "data": {
      "image/png": "[encoded data removed]",
      "text/plain": [
       "plot without title"
      ]
     },
     "metadata": {
      "image/png": {
       "height": 400,
       "width": 550
      },
      "text/plain": {
       "height": 400,
       "width": 550
      }
     },
     "output_type": "display_data"
    }
   ],
   "source": [
    "# plotting\n",
    "p = df %>%\n",
    "    mutate(Taxonomy = gsub(';', ';\\n', Taxonomy)) %>%\n",
    "    filter(Taxonomy != 'Other') %>%\n",
    "    mutate(Taxonomy = Taxonomy %>% reorder(-total_per_tax_OTUs)) %>%\n",
    "    ggplot(aes(seqID_cutoff)) +\n",
    "    geom_vline(xintercept=97, linetype='dashed', alpha=0.5) +\n",
    "    geom_line(aes(y=perc_OTUs_with_hit)) +\n",
    "    geom_point(aes(y=perc_OTUs_with_hit), size=0.8) +\n",
    "    facet_wrap(~ Taxonomy) +\n",
    "    labs(x='Sequence identity cutoff',\n",
    "         y='% of ASVs with a hit to\\nAll Species Living Tree') +\n",
    "    theme_bw() \n",
    "\n",
    "p.dims(5.5,4)\n",
    "plot(p)"
   ]
  },
  {
   "cell_type": "markdown",
   "metadata": {},
   "source": [
    "### Best hits for Methanothermobacter"
   ]
  },
  {
   "cell_type": "code",
   "execution_count": 123,
   "metadata": {
    "ExecuteTime": {
     "end_time": "2020-09-26T07:56:20.778903Z",
     "start_time": "2020-09-26T07:56:20.655Z"
    }
   },
   "outputs": [
    {
     "data": {
      "text/html": [
       "<table>\n",
       "<caption>A data.table: 1544 × 24</caption>\n",
       "<thead>\n",
       "\t<tr><th scope=col>qaccver</th><th scope=col>lcl</th><th scope=col>SSU</th><th scope=col>marker</th><th scope=col>length</th><th scope=col>family</th><th scope=col>acc</th><th scope=col>pident</th><th scope=col>mismatch</th><th scope=col>gapopen</th><th scope=col>⋯</th><th scope=col>sstart</th><th scope=col>send</th><th scope=col>evalue</th><th scope=col>Domain</th><th scope=col>Phylum</th><th scope=col>Class</th><th scope=col>Order</th><th scope=col>Family</th><th scope=col>Genus</th><th scope=col>Species</th></tr>\n",
       "\t<tr><th scope=col>&lt;chr&gt;</th><th scope=col>&lt;chr&gt;</th><th scope=col>&lt;chr&gt;</th><th scope=col>&lt;chr&gt;</th><th scope=col>&lt;chr&gt;</th><th scope=col>&lt;chr&gt;</th><th scope=col>&lt;chr&gt;</th><th scope=col>&lt;dbl&gt;</th><th scope=col>&lt;int&gt;</th><th scope=col>&lt;int&gt;</th><th scope=col>⋯</th><th scope=col>&lt;int&gt;</th><th scope=col>&lt;int&gt;</th><th scope=col>&lt;dbl&gt;</th><th scope=col>&lt;chr&gt;</th><th scope=col>&lt;chr&gt;</th><th scope=col>&lt;chr&gt;</th><th scope=col>&lt;chr&gt;</th><th scope=col>&lt;chr&gt;</th><th scope=col>&lt;chr&gt;</th><th scope=col>&lt;chr&gt;</th></tr>\n",
       "</thead>\n",
       "<tbody>\n",
       "\t<tr><td>49f15f210d13333e7ff3f8a4a9afdfb8</td><td>lcl</td><td>LTPs132_SSU</td><td>MhtMarb2</td><td>1482bp</td><td>Methanobacteriaceae</td><td>X15364  </td><td>89.882</td><td>31</td><td>6</td><td>⋯</td><td>458</td><td>882</td><td>2.21e-152</td><td>Archaea</td><td>Euryarchaeota</td><td>Methanobacteria</td><td>Methanobacteriales</td><td>Methanothermobacteraceae</td><td>Methanothermobacter</td><td>unclassified</td></tr>\n",
       "\t<tr><td>49f15f210d13333e7ff3f8a4a9afdfb8</td><td>lcl</td><td>LTPs132_SSU</td><td>MhtWolfe</td><td>1446bp</td><td>Methanobacteriaceae</td><td>AB104858</td><td>89.882</td><td>31</td><td>6</td><td>⋯</td><td>438</td><td>862</td><td>2.21e-152</td><td>Archaea</td><td>Euryarchaeota</td><td>Methanobacteria</td><td>Methanobacteriales</td><td>Methanothermobacteraceae</td><td>Methanothermobacter</td><td>unclassified</td></tr>\n",
       "\t<tr><td>⋮</td><td>⋮</td><td>⋮</td><td>⋮</td><td>⋮</td><td>⋮</td><td>⋮</td><td>⋮</td><td>⋮</td><td>⋮</td><td>⋱</td><td>⋮</td><td>⋮</td><td>⋮</td><td>⋮</td><td>⋮</td><td>⋮</td><td>⋮</td><td>⋮</td><td>⋮</td><td>⋮</td></tr>\n",
       "\t<tr><td>9e14597a1b5c9ce09111b5343451fc2b</td><td>lcl</td><td>LTPs132_SSU</td><td>MeeSocia</td><td>1469bp</td><td>Methanothermaceae</td><td>HE654004</td><td>87.529</td><td>51</td><td>2</td><td>⋯</td><td>449</td><td>872</td><td>1.79e-138</td><td>Archaea</td><td>Euryarchaeota</td><td>Methanobacteria</td><td>Methanobacteriales</td><td>Methanothermobacteraceae</td><td>Methanothermobacter</td><td>Methanothermobacter marburgensis str. Marburg</td></tr>\n",
       "\t<tr><td>9e14597a1b5c9ce09111b5343451fc2b</td><td>lcl</td><td>LTPs132_SSU</td><td>MeeFervi</td><td>1481bp</td><td>Methanothermaceae</td><td>CP002278</td><td>86.854</td><td>53</td><td>3</td><td>⋯</td><td>457</td><td>881</td><td>1.80e-133</td><td>Archaea</td><td>Euryarchaeota</td><td>Methanobacteria</td><td>Methanobacteriales</td><td>Methanothermobacteraceae</td><td>Methanothermobacter</td><td>Methanothermobacter marburgensis str. Marburg</td></tr>\n",
       "</tbody>\n",
       "</table>\n"
      ],
      "text/latex": [
       "A data.table: 1544 × 24\n",
       "\\begin{tabular}{lllllllllllllllllllll}\n",
       " qaccver & lcl & SSU & marker & length & family & acc & pident & mismatch & gapopen & ⋯ & sstart & send & evalue & Domain & Phylum & Class & Order & Family & Genus & Species\\\\\n",
       " <chr> & <chr> & <chr> & <chr> & <chr> & <chr> & <chr> & <dbl> & <int> & <int> & ⋯ & <int> & <int> & <dbl> & <chr> & <chr> & <chr> & <chr> & <chr> & <chr> & <chr>\\\\\n",
       "\\hline\n",
       "\t 49f15f210d13333e7ff3f8a4a9afdfb8 & lcl & LTPs132\\_SSU & MhtMarb2 & 1482bp & Methanobacteriaceae & X15364   & 89.882 & 31 & 6 & ⋯ & 458 & 882 & 2.21e-152 & Archaea & Euryarchaeota & Methanobacteria & Methanobacteriales & Methanothermobacteraceae & Methanothermobacter & unclassified\\\\\n",
       "\t 49f15f210d13333e7ff3f8a4a9afdfb8 & lcl & LTPs132\\_SSU & MhtWolfe & 1446bp & Methanobacteriaceae & AB104858 & 89.882 & 31 & 6 & ⋯ & 438 & 862 & 2.21e-152 & Archaea & Euryarchaeota & Methanobacteria & Methanobacteriales & Methanothermobacteraceae & Methanothermobacter & unclassified\\\\\n",
       "\t ⋮ & ⋮ & ⋮ & ⋮ & ⋮ & ⋮ & ⋮ & ⋮ & ⋮ & ⋮ & ⋱ & ⋮ & ⋮ & ⋮ & ⋮ & ⋮ & ⋮ & ⋮ & ⋮ & ⋮ & ⋮\\\\\n",
       "\t 9e14597a1b5c9ce09111b5343451fc2b & lcl & LTPs132\\_SSU & MeeSocia & 1469bp & Methanothermaceae & HE654004 & 87.529 & 51 & 2 & ⋯ & 449 & 872 & 1.79e-138 & Archaea & Euryarchaeota & Methanobacteria & Methanobacteriales & Methanothermobacteraceae & Methanothermobacter & Methanothermobacter marburgensis str. Marburg\\\\\n",
       "\t 9e14597a1b5c9ce09111b5343451fc2b & lcl & LTPs132\\_SSU & MeeFervi & 1481bp & Methanothermaceae & CP002278 & 86.854 & 53 & 3 & ⋯ & 457 & 881 & 1.80e-133 & Archaea & Euryarchaeota & Methanobacteria & Methanobacteriales & Methanothermobacteraceae & Methanothermobacter & Methanothermobacter marburgensis str. Marburg\\\\\n",
       "\\end{tabular}\n"
      ],
      "text/markdown": [
       "\n",
       "A data.table: 1544 × 24\n",
       "\n",
       "| qaccver &lt;chr&gt; | lcl &lt;chr&gt; | SSU &lt;chr&gt; | marker &lt;chr&gt; | length &lt;chr&gt; | family &lt;chr&gt; | acc &lt;chr&gt; | pident &lt;dbl&gt; | mismatch &lt;int&gt; | gapopen &lt;int&gt; | ⋯ ⋯ | sstart &lt;int&gt; | send &lt;int&gt; | evalue &lt;dbl&gt; | Domain &lt;chr&gt; | Phylum &lt;chr&gt; | Class &lt;chr&gt; | Order &lt;chr&gt; | Family &lt;chr&gt; | Genus &lt;chr&gt; | Species &lt;chr&gt; |\n",
       "|---|---|---|---|---|---|---|---|---|---|---|---|---|---|---|---|---|---|---|---|---|\n",
       "| 49f15f210d13333e7ff3f8a4a9afdfb8 | lcl | LTPs132_SSU | MhtMarb2 | 1482bp | Methanobacteriaceae | X15364   | 89.882 | 31 | 6 | ⋯ | 458 | 882 | 2.21e-152 | Archaea | Euryarchaeota | Methanobacteria | Methanobacteriales | Methanothermobacteraceae | Methanothermobacter | unclassified |\n",
       "| 49f15f210d13333e7ff3f8a4a9afdfb8 | lcl | LTPs132_SSU | MhtWolfe | 1446bp | Methanobacteriaceae | AB104858 | 89.882 | 31 | 6 | ⋯ | 438 | 862 | 2.21e-152 | Archaea | Euryarchaeota | Methanobacteria | Methanobacteriales | Methanothermobacteraceae | Methanothermobacter | unclassified |\n",
       "| ⋮ | ⋮ | ⋮ | ⋮ | ⋮ | ⋮ | ⋮ | ⋮ | ⋮ | ⋮ | ⋱ | ⋮ | ⋮ | ⋮ | ⋮ | ⋮ | ⋮ | ⋮ | ⋮ | ⋮ | ⋮ |\n",
       "| 9e14597a1b5c9ce09111b5343451fc2b | lcl | LTPs132_SSU | MeeSocia | 1469bp | Methanothermaceae | HE654004 | 87.529 | 51 | 2 | ⋯ | 449 | 872 | 1.79e-138 | Archaea | Euryarchaeota | Methanobacteria | Methanobacteriales | Methanothermobacteraceae | Methanothermobacter | Methanothermobacter marburgensis str. Marburg |\n",
       "| 9e14597a1b5c9ce09111b5343451fc2b | lcl | LTPs132_SSU | MeeFervi | 1481bp | Methanothermaceae | CP002278 | 86.854 | 53 | 3 | ⋯ | 457 | 881 | 1.80e-133 | Archaea | Euryarchaeota | Methanobacteria | Methanobacteriales | Methanothermobacteraceae | Methanothermobacter | Methanothermobacter marburgensis str. Marburg |\n",
       "\n"
      ],
      "text/plain": [
       "     qaccver                          lcl SSU         marker   length\n",
       "1    49f15f210d13333e7ff3f8a4a9afdfb8 lcl LTPs132_SSU MhtMarb2 1482bp\n",
       "2    49f15f210d13333e7ff3f8a4a9afdfb8 lcl LTPs132_SSU MhtWolfe 1446bp\n",
       "⋮    ⋮                                ⋮   ⋮           ⋮        ⋮     \n",
       "1543 9e14597a1b5c9ce09111b5343451fc2b lcl LTPs132_SSU MeeSocia 1469bp\n",
       "1544 9e14597a1b5c9ce09111b5343451fc2b lcl LTPs132_SSU MeeFervi 1481bp\n",
       "     family              acc      pident mismatch gapopen ⋯ sstart send\n",
       "1    Methanobacteriaceae X15364   89.882 31       6       ⋯ 458    882 \n",
       "2    Methanobacteriaceae AB104858 89.882 31       6       ⋯ 438    862 \n",
       "⋮    ⋮                   ⋮        ⋮      ⋮        ⋮       ⋱ ⋮      ⋮   \n",
       "1543 Methanothermaceae   HE654004 87.529 51       2       ⋯ 449    872 \n",
       "1544 Methanothermaceae   CP002278 86.854 53       3       ⋯ 457    881 \n",
       "     evalue    Domain  Phylum        Class           Order             \n",
       "1    2.21e-152 Archaea Euryarchaeota Methanobacteria Methanobacteriales\n",
       "2    2.21e-152 Archaea Euryarchaeota Methanobacteria Methanobacteriales\n",
       "⋮    ⋮         ⋮       ⋮             ⋮               ⋮                 \n",
       "1543 1.79e-138 Archaea Euryarchaeota Methanobacteria Methanobacteriales\n",
       "1544 1.80e-133 Archaea Euryarchaeota Methanobacteria Methanobacteriales\n",
       "     Family                   Genus              \n",
       "1    Methanothermobacteraceae Methanothermobacter\n",
       "2    Methanothermobacteraceae Methanothermobacter\n",
       "⋮    ⋮                        ⋮                  \n",
       "1543 Methanothermobacteraceae Methanothermobacter\n",
       "1544 Methanothermobacteraceae Methanothermobacter\n",
       "     Species                                      \n",
       "1    unclassified                                 \n",
       "2    unclassified                                 \n",
       "⋮    ⋮                                            \n",
       "1543 Methanothermobacter marburgensis str. Marburg\n",
       "1544 Methanothermobacter marburgensis str. Marburg"
      ]
     },
     "metadata": {},
     "output_type": "display_data"
    }
   ],
   "source": [
    "# total hits \n",
    "blast_res_f = blast_res %>%\n",
    "    filter(Genus == 'Methanothermobacter') %>%\n",
    "    mutate(saccver = gsub('\\\\\\\\', '', saccver)) %>%\n",
    "    separate(saccver, c('lcl', 'SSU', 'marker', 'length', 'family', 'acc'), sep='\\\\|')\n",
    "blast_res_f"
   ]
  },
  {
   "cell_type": "code",
   "execution_count": 126,
   "metadata": {
    "ExecuteTime": {
     "end_time": "2020-09-26T07:56:51.844349Z",
     "start_time": "2020-09-26T07:56:51.781Z"
    }
   },
   "outputs": [
    {
     "data": {
      "text/html": [
       "<table>\n",
       "<caption>A matrix: 1 × 8 of type dbl</caption>\n",
       "<thead>\n",
       "\t<tr><th></th><th scope=col>Min.</th><th scope=col>1st Qu.</th><th scope=col>Median</th><th scope=col>Mean</th><th scope=col>3rd Qu.</th><th scope=col>Max.</th><th scope=col>sd</th><th scope=col>sd_err_of_mean</th></tr>\n",
       "</thead>\n",
       "<tbody>\n",
       "\t<tr><th scope=row>.</th><td>4</td><td>22</td><td>32</td><td>26.62069</td><td>33</td><td>36</td><td>11.7</td><td>4.776</td></tr>\n",
       "</tbody>\n",
       "</table>\n"
      ],
      "text/latex": [
       "A matrix: 1 × 8 of type dbl\n",
       "\\begin{tabular}{r|llllllll}\n",
       "  & Min. & 1st Qu. & Median & Mean & 3rd Qu. & Max. & sd & sd\\_err\\_of\\_mean\\\\\n",
       "\\hline\n",
       "\t. & 4 & 22 & 32 & 26.62069 & 33 & 36 & 11.7 & 4.776\\\\\n",
       "\\end{tabular}\n"
      ],
      "text/markdown": [
       "\n",
       "A matrix: 1 × 8 of type dbl\n",
       "\n",
       "| <!--/--> | Min. | 1st Qu. | Median | Mean | 3rd Qu. | Max. | sd | sd_err_of_mean |\n",
       "|---|---|---|---|---|---|---|---|---|\n",
       "| . | 4 | 22 | 32 | 26.62069 | 33 | 36 | 11.7 | 4.776 |\n",
       "\n"
      ],
      "text/plain": [
       "  Min. 1st Qu. Median Mean     3rd Qu. Max. sd   sd_err_of_mean\n",
       ". 4    22      32     26.62069 33      36   11.7 4.776         "
      ]
     },
     "metadata": {},
     "output_type": "display_data"
    }
   ],
   "source": [
    "# number of hits per ASV\n",
    "blast_res_f %>%\n",
    "    group_by(acc) %>%\n",
    "    summarize(n = n(), .groups='drop') %>%\n",
    "    .$n %>% summary_x"
   ]
  },
  {
   "cell_type": "code",
   "execution_count": 132,
   "metadata": {
    "ExecuteTime": {
     "end_time": "2020-09-26T07:58:13.119813Z",
     "start_time": "2020-09-26T07:58:13.001Z"
    }
   },
   "outputs": [
    {
     "data": {
      "text/html": [
       "<table>\n",
       "<caption>A data.table: 1544 × 34</caption>\n",
       "<thead>\n",
       "\t<tr><th scope=col>qaccver</th><th scope=col>lcl</th><th scope=col>SSU</th><th scope=col>marker</th><th scope=col>length</th><th scope=col>family</th><th scope=col>acc</th><th scope=col>pident</th><th scope=col>mismatch</th><th scope=col>gapopen</th><th scope=col>⋯</th><th scope=col>V2</th><th scope=col>V3</th><th scope=col>V4</th><th scope=col>V5</th><th scope=col>V6</th><th scope=col>V7</th><th scope=col>V8</th><th scope=col>V9</th><th scope=col>V10</th><th scope=col>V11</th></tr>\n",
       "\t<tr><th scope=col>&lt;chr&gt;</th><th scope=col>&lt;chr&gt;</th><th scope=col>&lt;chr&gt;</th><th scope=col>&lt;chr&gt;</th><th scope=col>&lt;chr&gt;</th><th scope=col>&lt;chr&gt;</th><th scope=col>&lt;chr&gt;</th><th scope=col>&lt;dbl&gt;</th><th scope=col>&lt;int&gt;</th><th scope=col>&lt;int&gt;</th><th scope=col>⋯</th><th scope=col>&lt;int&gt;</th><th scope=col>&lt;int&gt;</th><th scope=col>&lt;fct&gt;</th><th scope=col>&lt;fct&gt;</th><th scope=col>&lt;fct&gt;</th><th scope=col>&lt;fct&gt;</th><th scope=col>&lt;fct&gt;</th><th scope=col>&lt;fct&gt;</th><th scope=col>&lt;fct&gt;</th><th scope=col>&lt;fct&gt;</th></tr>\n",
       "</thead>\n",
       "<tbody>\n",
       "\t<tr><td>49f15f210d13333e7ff3f8a4a9afdfb8</td><td>lcl</td><td>LTPs132_SSU</td><td>MhtMarb2</td><td>1482bp</td><td>Methanobacteriaceae</td><td>X15364  </td><td>89.882</td><td>31</td><td>6</td><td>⋯</td><td>1641</td><td>3122</td><td>s93</td><td>Methanothermobacter marburgensis</td><td></td><td>Methanobacteriaceae</td><td>1</td><td>http://www.bacterio.net/methanothermobacter.html</td><td>Archaea/Euryarchaeota/Methanobacteria/Methanobacteriaceae</td><td>Archaea;Euryarchaeota;Methanobacteria;Methanobacteriales;Methanobacteriaceae;Methanothermobacter</td></tr>\n",
       "\t<tr><td>49f15f210d13333e7ff3f8a4a9afdfb8</td><td>lcl</td><td>LTPs132_SSU</td><td>MhtWolfe</td><td>1446bp</td><td>Methanobacteriaceae</td><td>AB104858</td><td>89.882</td><td>31</td><td>6</td><td>⋯</td><td>   1</td><td>1446</td><td>s93</td><td>Methanothermobacter wolfeii     </td><td></td><td>Methanobacteriaceae</td><td>1</td><td>http://www.bacterio.net/methanothermobacter.html</td><td>Archaea/Euryarchaeota/Methanobacteria/Methanobacteriaceae</td><td>Archaea;Euryarchaeota;Methanobacteria;Methanobacteriales;Methanobacteriaceae;Methanothermobacter</td></tr>\n",
       "\t<tr><td>⋮</td><td>⋮</td><td>⋮</td><td>⋮</td><td>⋮</td><td>⋮</td><td>⋮</td><td>⋮</td><td>⋮</td><td>⋮</td><td>⋱</td><td>⋮</td><td>⋮</td><td>⋮</td><td>⋮</td><td>⋮</td><td>⋮</td><td>⋮</td><td>⋮</td><td>⋮</td><td>⋮</td></tr>\n",
       "\t<tr><td>9e14597a1b5c9ce09111b5343451fc2b</td><td>lcl</td><td>LTPs132_SSU</td><td>MeeSocia</td><td>1469bp</td><td>Methanothermaceae</td><td>HE654004</td><td>87.529</td><td>51</td><td>2</td><td>⋯</td><td>     1</td><td>  1469</td><td>s115</td><td>Methanothermus sociabilis</td><td>        </td><td>Methanothermaceae</td><td>1</td><td>http://www.bacterio.net/methanothermus.html</td><td>Archaea/Euryarchaeota/Methanobacteria/Methanothermaceae</td><td>Archaea;Euryarchaeota;Methanobacteria;Methanobacteriales;Methanothermaceae;Methanothermus</td></tr>\n",
       "\t<tr><td>9e14597a1b5c9ce09111b5343451fc2b</td><td>lcl</td><td>LTPs132_SSU</td><td>MeeFervi</td><td>1481bp</td><td>Methanothermaceae</td><td>CP002278</td><td>86.854</td><td>53</td><td>3</td><td>⋯</td><td>767977</td><td>769457</td><td>s106</td><td>Methanothermus fervidus  </td><td>type sp.</td><td>Methanothermaceae</td><td>1</td><td>http://www.bacterio.net/methanothermus.html</td><td>Archaea/Euryarchaeota/Methanobacteria/Methanothermaceae</td><td>Archaea;Euryarchaeota;Methanobacteria;Methanobacteriales;Methanothermaceae;Methanothermus</td></tr>\n",
       "</tbody>\n",
       "</table>\n"
      ],
      "text/latex": [
       "A data.table: 1544 × 34\n",
       "\\begin{tabular}{lllllllllllllllllllll}\n",
       " qaccver & lcl & SSU & marker & length & family & acc & pident & mismatch & gapopen & ⋯ & V2 & V3 & V4 & V5 & V6 & V7 & V8 & V9 & V10 & V11\\\\\n",
       " <chr> & <chr> & <chr> & <chr> & <chr> & <chr> & <chr> & <dbl> & <int> & <int> & ⋯ & <int> & <int> & <fct> & <fct> & <fct> & <fct> & <fct> & <fct> & <fct> & <fct>\\\\\n",
       "\\hline\n",
       "\t 49f15f210d13333e7ff3f8a4a9afdfb8 & lcl & LTPs132\\_SSU & MhtMarb2 & 1482bp & Methanobacteriaceae & X15364   & 89.882 & 31 & 6 & ⋯ & 1641 & 3122 & s93 & Methanothermobacter marburgensis &  & Methanobacteriaceae & 1 & http://www.bacterio.net/methanothermobacter.html & Archaea/Euryarchaeota/Methanobacteria/Methanobacteriaceae & Archaea;Euryarchaeota;Methanobacteria;Methanobacteriales;Methanobacteriaceae;Methanothermobacter\\\\\n",
       "\t 49f15f210d13333e7ff3f8a4a9afdfb8 & lcl & LTPs132\\_SSU & MhtWolfe & 1446bp & Methanobacteriaceae & AB104858 & 89.882 & 31 & 6 & ⋯ &    1 & 1446 & s93 & Methanothermobacter wolfeii      &  & Methanobacteriaceae & 1 & http://www.bacterio.net/methanothermobacter.html & Archaea/Euryarchaeota/Methanobacteria/Methanobacteriaceae & Archaea;Euryarchaeota;Methanobacteria;Methanobacteriales;Methanobacteriaceae;Methanothermobacter\\\\\n",
       "\t ⋮ & ⋮ & ⋮ & ⋮ & ⋮ & ⋮ & ⋮ & ⋮ & ⋮ & ⋮ & ⋱ & ⋮ & ⋮ & ⋮ & ⋮ & ⋮ & ⋮ & ⋮ & ⋮ & ⋮ & ⋮\\\\\n",
       "\t 9e14597a1b5c9ce09111b5343451fc2b & lcl & LTPs132\\_SSU & MeeSocia & 1469bp & Methanothermaceae & HE654004 & 87.529 & 51 & 2 & ⋯ &      1 &   1469 & s115 & Methanothermus sociabilis &          & Methanothermaceae & 1 & http://www.bacterio.net/methanothermus.html & Archaea/Euryarchaeota/Methanobacteria/Methanothermaceae & Archaea;Euryarchaeota;Methanobacteria;Methanobacteriales;Methanothermaceae;Methanothermus\\\\\n",
       "\t 9e14597a1b5c9ce09111b5343451fc2b & lcl & LTPs132\\_SSU & MeeFervi & 1481bp & Methanothermaceae & CP002278 & 86.854 & 53 & 3 & ⋯ & 767977 & 769457 & s106 & Methanothermus fervidus   & type sp. & Methanothermaceae & 1 & http://www.bacterio.net/methanothermus.html & Archaea/Euryarchaeota/Methanobacteria/Methanothermaceae & Archaea;Euryarchaeota;Methanobacteria;Methanobacteriales;Methanothermaceae;Methanothermus\\\\\n",
       "\\end{tabular}\n"
      ],
      "text/markdown": [
       "\n",
       "A data.table: 1544 × 34\n",
       "\n",
       "| qaccver &lt;chr&gt; | lcl &lt;chr&gt; | SSU &lt;chr&gt; | marker &lt;chr&gt; | length &lt;chr&gt; | family &lt;chr&gt; | acc &lt;chr&gt; | pident &lt;dbl&gt; | mismatch &lt;int&gt; | gapopen &lt;int&gt; | ⋯ ⋯ | V2 &lt;int&gt; | V3 &lt;int&gt; | V4 &lt;fct&gt; | V5 &lt;fct&gt; | V6 &lt;fct&gt; | V7 &lt;fct&gt; | V8 &lt;fct&gt; | V9 &lt;fct&gt; | V10 &lt;fct&gt; | V11 &lt;fct&gt; |\n",
       "|---|---|---|---|---|---|---|---|---|---|---|---|---|---|---|---|---|---|---|---|---|\n",
       "| 49f15f210d13333e7ff3f8a4a9afdfb8 | lcl | LTPs132_SSU | MhtMarb2 | 1482bp | Methanobacteriaceae | X15364   | 89.882 | 31 | 6 | ⋯ | 1641 | 3122 | s93 | Methanothermobacter marburgensis | <!----> | Methanobacteriaceae | 1 | http://www.bacterio.net/methanothermobacter.html | Archaea/Euryarchaeota/Methanobacteria/Methanobacteriaceae | Archaea;Euryarchaeota;Methanobacteria;Methanobacteriales;Methanobacteriaceae;Methanothermobacter |\n",
       "| 49f15f210d13333e7ff3f8a4a9afdfb8 | lcl | LTPs132_SSU | MhtWolfe | 1446bp | Methanobacteriaceae | AB104858 | 89.882 | 31 | 6 | ⋯ |    1 | 1446 | s93 | Methanothermobacter wolfeii      | <!----> | Methanobacteriaceae | 1 | http://www.bacterio.net/methanothermobacter.html | Archaea/Euryarchaeota/Methanobacteria/Methanobacteriaceae | Archaea;Euryarchaeota;Methanobacteria;Methanobacteriales;Methanobacteriaceae;Methanothermobacter |\n",
       "| ⋮ | ⋮ | ⋮ | ⋮ | ⋮ | ⋮ | ⋮ | ⋮ | ⋮ | ⋮ | ⋱ | ⋮ | ⋮ | ⋮ | ⋮ | ⋮ | ⋮ | ⋮ | ⋮ | ⋮ | ⋮ |\n",
       "| 9e14597a1b5c9ce09111b5343451fc2b | lcl | LTPs132_SSU | MeeSocia | 1469bp | Methanothermaceae | HE654004 | 87.529 | 51 | 2 | ⋯ |      1 |   1469 | s115 | Methanothermus sociabilis | <!----> | Methanothermaceae | 1 | http://www.bacterio.net/methanothermus.html | Archaea/Euryarchaeota/Methanobacteria/Methanothermaceae | Archaea;Euryarchaeota;Methanobacteria;Methanobacteriales;Methanothermaceae;Methanothermus |\n",
       "| 9e14597a1b5c9ce09111b5343451fc2b | lcl | LTPs132_SSU | MeeFervi | 1481bp | Methanothermaceae | CP002278 | 86.854 | 53 | 3 | ⋯ | 767977 | 769457 | s106 | Methanothermus fervidus   | type sp. | Methanothermaceae | 1 | http://www.bacterio.net/methanothermus.html | Archaea/Euryarchaeota/Methanobacteria/Methanothermaceae | Archaea;Euryarchaeota;Methanobacteria;Methanobacteriales;Methanothermaceae;Methanothermus |\n",
       "\n"
      ],
      "text/plain": [
       "     qaccver                          lcl SSU         marker   length\n",
       "1    49f15f210d13333e7ff3f8a4a9afdfb8 lcl LTPs132_SSU MhtMarb2 1482bp\n",
       "2    49f15f210d13333e7ff3f8a4a9afdfb8 lcl LTPs132_SSU MhtWolfe 1446bp\n",
       "⋮    ⋮                                ⋮   ⋮           ⋮        ⋮     \n",
       "1543 9e14597a1b5c9ce09111b5343451fc2b lcl LTPs132_SSU MeeSocia 1469bp\n",
       "1544 9e14597a1b5c9ce09111b5343451fc2b lcl LTPs132_SSU MeeFervi 1481bp\n",
       "     family              acc      pident mismatch gapopen ⋯ V2     V3     V4  \n",
       "1    Methanobacteriaceae X15364   89.882 31       6       ⋯ 1641   3122   s93 \n",
       "2    Methanobacteriaceae AB104858 89.882 31       6       ⋯    1   1446   s93 \n",
       "⋮    ⋮                   ⋮        ⋮      ⋮        ⋮       ⋱ ⋮      ⋮      ⋮   \n",
       "1543 Methanothermaceae   HE654004 87.529 51       2       ⋯      1   1469 s115\n",
       "1544 Methanothermaceae   CP002278 86.854 53       3       ⋯ 767977 769457 s106\n",
       "     V5                               V6       V7                  V8\n",
       "1    Methanothermobacter marburgensis          Methanobacteriaceae 1 \n",
       "2    Methanothermobacter wolfeii               Methanobacteriaceae 1 \n",
       "⋮    ⋮                                ⋮        ⋮                   ⋮ \n",
       "1543 Methanothermus sociabilis                 Methanothermaceae   1 \n",
       "1544 Methanothermus fervidus          type sp. Methanothermaceae   1 \n",
       "     V9                                              \n",
       "1    http://www.bacterio.net/methanothermobacter.html\n",
       "2    http://www.bacterio.net/methanothermobacter.html\n",
       "⋮    ⋮                                               \n",
       "1543 http://www.bacterio.net/methanothermus.html     \n",
       "1544 http://www.bacterio.net/methanothermus.html     \n",
       "     V10                                                      \n",
       "1    Archaea/Euryarchaeota/Methanobacteria/Methanobacteriaceae\n",
       "2    Archaea/Euryarchaeota/Methanobacteria/Methanobacteriaceae\n",
       "⋮    ⋮                                                        \n",
       "1543 Archaea/Euryarchaeota/Methanobacteria/Methanothermaceae  \n",
       "1544 Archaea/Euryarchaeota/Methanobacteria/Methanothermaceae  \n",
       "     V11                                                                                             \n",
       "1    Archaea;Euryarchaeota;Methanobacteria;Methanobacteriales;Methanobacteriaceae;Methanothermobacter\n",
       "2    Archaea;Euryarchaeota;Methanobacteria;Methanobacteriales;Methanobacteriaceae;Methanothermobacter\n",
       "⋮    ⋮                                                                                               \n",
       "1543 Archaea;Euryarchaeota;Methanobacteria;Methanobacteriales;Methanothermaceae;Methanothermus       \n",
       "1544 Archaea;Euryarchaeota;Methanobacteria;Methanobacteriales;Methanothermaceae;Methanothermus       "
      ]
     },
     "metadata": {},
     "output_type": "display_data"
    }
   ],
   "source": [
    "blast_res_fj = blast_res_f %>%\n",
    "    inner_join(LTP_blast_csv, c('acc'='V1'))\n",
    "blast_res_fj"
   ]
  },
  {
   "cell_type": "code",
   "execution_count": 153,
   "metadata": {
    "ExecuteTime": {
     "end_time": "2020-09-26T08:09:06.686308Z",
     "start_time": "2020-09-26T08:09:06.576Z"
    }
   },
   "outputs": [
    {
     "name": "stdout",
     "output_type": "stream",
     "text": [
      "Of 38 ASVs, 36 have hit to Methanothermobacter\n"
     ]
    }
   ],
   "source": [
    "# best hit\n",
    "blast_res_fjf = blast_res_fj %>%\n",
    "    group_by(qaccver) %>%\n",
    "    mutate(rank = row_number(-pident)) %>%\n",
    "    ungroup() %>%\n",
    "    filter(rank %in% c(1)) %>%\n",
    "    dplyr::select(qaccver, pident, rank, marker, length, V5)\n",
    "\n",
    "# summary\n",
    "total = blast_res_fjf %>% distinct(qaccver) %>% nrow\n",
    "mtherm = blast_res_fjf  %>%\n",
    "    filter(grepl('Methanothermobacter', V5)) %>%\n",
    "    distinct(qaccver) %>% nrow\n",
    "\n",
    "cat(sprintf('Of %s ASVs, %s have hit to Methanothermobacter\\n', total, mtherm))"
   ]
  },
  {
   "cell_type": "code",
   "execution_count": 154,
   "metadata": {
    "ExecuteTime": {
     "end_time": "2020-09-26T08:09:21.160577Z",
     "start_time": "2020-09-26T08:09:21.017Z"
    }
   },
   "outputs": [
    {
     "name": "stdout",
     "output_type": "stream",
     "text": [
      "Of 38 ASVs, 36 have hit to Methanothermobacter\n"
     ]
    }
   ],
   "source": [
    "# top 2 hits\n",
    "blast_res_fjf = blast_res_fj %>%\n",
    "    group_by(qaccver) %>%\n",
    "    mutate(rank = row_number(-pident)) %>%\n",
    "    ungroup() %>%\n",
    "    filter(rank %in% c(1:2)) %>%\n",
    "    dplyr::select(qaccver, pident, rank, marker, length, V5)\n",
    "\n",
    "# summary\n",
    "total = blast_res_fjf %>% distinct(qaccver) %>% nrow\n",
    "mtherm = blast_res_fjf  %>%\n",
    "    filter(grepl('Methanothermobacter', V5)) %>%\n",
    "    distinct(qaccver) %>% nrow\n",
    "\n",
    "cat(sprintf('Of %s ASVs, %s have hit to Methanothermobacter\\n', total, mtherm))"
   ]
  },
  {
   "cell_type": "code",
   "execution_count": 157,
   "metadata": {
    "ExecuteTime": {
     "end_time": "2020-09-26T08:09:36.711565Z",
     "start_time": "2020-09-26T08:09:36.608Z"
    }
   },
   "outputs": [
    {
     "name": "stdout",
     "output_type": "stream",
     "text": [
      "Of 38 ASVs, 37 have hit to Methanothermobacter\n"
     ]
    }
   ],
   "source": [
    "# top 3 hits\n",
    "blast_res_fjf = blast_res_fj %>%\n",
    "    group_by(qaccver) %>%\n",
    "    mutate(rank = row_number(-pident)) %>%\n",
    "    ungroup() %>%\n",
    "    filter(rank %in% c(1:3)) %>%\n",
    "    dplyr::select(qaccver, pident, rank, marker, length, V5)\n",
    "\n",
    "# summary\n",
    "total = blast_res_fjf %>% distinct(qaccver) %>% nrow\n",
    "mtherm = blast_res_fjf  %>%\n",
    "    filter(grepl('Methanothermobacter', V5)) %>%\n",
    "    distinct(qaccver) %>% nrow\n",
    "\n",
    "cat(sprintf('Of %s ASVs, %s have hit to Methanothermobacter\\n', total, mtherm))"
   ]
  },
  {
   "cell_type": "code",
   "execution_count": 158,
   "metadata": {
    "ExecuteTime": {
     "end_time": "2020-09-26T08:09:39.586282Z",
     "start_time": "2020-09-26T08:09:39.481Z"
    }
   },
   "outputs": [
    {
     "name": "stdout",
     "output_type": "stream",
     "text": [
      "Of 38 ASVs, 37 have hit to Methanothermobacter\n"
     ]
    }
   ],
   "source": [
    "# top 5 hits\n",
    "blast_res_fjf = blast_res_fj %>%\n",
    "    group_by(qaccver) %>%\n",
    "    mutate(rank = row_number(-pident)) %>%\n",
    "    ungroup() %>%\n",
    "    filter(rank %in% c(1:5)) %>%\n",
    "    dplyr::select(qaccver, pident, rank, marker, length, V5)\n",
    "\n",
    "# summary\n",
    "total = blast_res_fjf %>% distinct(qaccver) %>% nrow\n",
    "mtherm = blast_res_fjf  %>%\n",
    "    filter(grepl('Methanothermobacter', V5)) %>%\n",
    "    distinct(qaccver) %>% nrow\n",
    "\n",
    "cat(sprintf('Of %s ASVs, %s have hit to Methanothermobacter\\n', total, mtherm))"
   ]
  },
  {
   "cell_type": "markdown",
   "metadata": {},
   "source": [
    "#### Adding average abundances"
   ]
  },
  {
   "cell_type": "code",
   "execution_count": 187,
   "metadata": {
    "ExecuteTime": {
     "end_time": "2020-09-26T08:22:19.158114Z",
     "start_time": "2020-09-26T08:22:18.087Z"
    }
   },
   "outputs": [
    {
     "data": {
      "text/html": [
       "<table>\n",
       "<caption>A matrix: 1 × 8 of type dbl</caption>\n",
       "<thead>\n",
       "\t<tr><th></th><th scope=col>Min.</th><th scope=col>1st Qu.</th><th scope=col>Median</th><th scope=col>Mean</th><th scope=col>3rd Qu.</th><th scope=col>Max.</th><th scope=col>sd</th><th scope=col>sd_err_of_mean</th></tr>\n",
       "</thead>\n",
       "<tbody>\n",
       "\t<tr><th scope=row>.</th><td>0.0002978185</td><td>0.001214243</td><td>0.002428486</td><td>0.6150858</td><td>0.4705523</td><td>3.813713</td><td>1.492</td><td>0.609</td></tr>\n",
       "</tbody>\n",
       "</table>\n"
      ],
      "text/latex": [
       "A matrix: 1 × 8 of type dbl\n",
       "\\begin{tabular}{r|llllllll}\n",
       "  & Min. & 1st Qu. & Median & Mean & 3rd Qu. & Max. & sd & sd\\_err\\_of\\_mean\\\\\n",
       "\\hline\n",
       "\t. & 0.0002978185 & 0.001214243 & 0.002428486 & 0.6150858 & 0.4705523 & 3.813713 & 1.492 & 0.609\\\\\n",
       "\\end{tabular}\n"
      ],
      "text/markdown": [
       "\n",
       "A matrix: 1 × 8 of type dbl\n",
       "\n",
       "| <!--/--> | Min. | 1st Qu. | Median | Mean | 3rd Qu. | Max. | sd | sd_err_of_mean |\n",
       "|---|---|---|---|---|---|---|---|---|\n",
       "| . | 0.0002978185 | 0.001214243 | 0.002428486 | 0.6150858 | 0.4705523 | 3.813713 | 1.492 | 0.609 |\n",
       "\n"
      ],
      "text/plain": [
       "  Min.         1st Qu.     Median      Mean      3rd Qu.   Max.     sd   \n",
       ". 0.0002978185 0.001214243 0.002428486 0.6150858 0.4705523 3.813713 1.492\n",
       "  sd_err_of_mean\n",
       ". 0.609         "
      ]
     },
     "metadata": {},
     "output_type": "display_data"
    },
    {
     "data": {
      "text/html": [
       "<table>\n",
       "<caption>A matrix: 1 × 8 of type dbl</caption>\n",
       "<thead>\n",
       "\t<tr><th></th><th scope=col>Min.</th><th scope=col>1st Qu.</th><th scope=col>Median</th><th scope=col>Mean</th><th scope=col>3rd Qu.</th><th scope=col>Max.</th><th scope=col>sd</th><th scope=col>sd_err_of_mean</th></tr>\n",
       "</thead>\n",
       "<tbody>\n",
       "\t<tr><th scope=row>.</th><td>0</td><td>0</td><td>0</td><td>0.7548818</td><td>0.4293263</td><td>9.361535</td><td>3.738</td><td>1.526</td></tr>\n",
       "</tbody>\n",
       "</table>\n"
      ],
      "text/latex": [
       "A matrix: 1 × 8 of type dbl\n",
       "\\begin{tabular}{r|llllllll}\n",
       "  & Min. & 1st Qu. & Median & Mean & 3rd Qu. & Max. & sd & sd\\_err\\_of\\_mean\\\\\n",
       "\\hline\n",
       "\t. & 0 & 0 & 0 & 0.7548818 & 0.4293263 & 9.361535 & 3.738 & 1.526\\\\\n",
       "\\end{tabular}\n"
      ],
      "text/markdown": [
       "\n",
       "A matrix: 1 × 8 of type dbl\n",
       "\n",
       "| <!--/--> | Min. | 1st Qu. | Median | Mean | 3rd Qu. | Max. | sd | sd_err_of_mean |\n",
       "|---|---|---|---|---|---|---|---|---|\n",
       "| . | 0 | 0 | 0 | 0.7548818 | 0.4293263 | 9.361535 | 3.738 | 1.526 |\n",
       "\n"
      ],
      "text/plain": [
       "  Min. 1st Qu. Median Mean      3rd Qu.   Max.     sd    sd_err_of_mean\n",
       ". 0    0       0      0.7548818 0.4293263 9.361535 3.738 1.526         "
      ]
     },
     "metadata": {},
     "output_type": "display_data"
    },
    {
     "data": {
      "text/html": [
       "<table>\n",
       "<caption>A tibble: 195 × 4</caption>\n",
       "<thead>\n",
       "\t<tr><th scope=col>OTU</th><th scope=col>class</th><th scope=col>total_mean_abund</th><th scope=col>mean_abund</th></tr>\n",
       "\t<tr><th scope=col>&lt;chr&gt;</th><th scope=col>&lt;chr&gt;</th><th scope=col>&lt;dbl&gt;</th><th scope=col>&lt;dbl&gt;</th></tr>\n",
       "</thead>\n",
       "<tbody>\n",
       "\t<tr><td>065aa600f85d38fa5fbb39aaaa096ff2</td><td>Actinopterygii</td><td>0.0002978185</td><td>0</td></tr>\n",
       "\t<tr><td>065aa600f85d38fa5fbb39aaaa096ff2</td><td>Amphibia      </td><td>0.0002978185</td><td>0</td></tr>\n",
       "\t<tr><td>⋮</td><td>⋮</td><td>⋮</td><td>⋮</td></tr>\n",
       "\t<tr><td>fc9e283f48f653c1b54f860d9cf996cf</td><td>Mammalia</td><td>0.01841927</td><td>0.0221644</td></tr>\n",
       "\t<tr><td>fc9e283f48f653c1b54f860d9cf996cf</td><td>Reptilia</td><td>0.01841927</td><td>0.0000000</td></tr>\n",
       "</tbody>\n",
       "</table>\n"
      ],
      "text/latex": [
       "A tibble: 195 × 4\n",
       "\\begin{tabular}{llll}\n",
       " OTU & class & total\\_mean\\_abund & mean\\_abund\\\\\n",
       " <chr> & <chr> & <dbl> & <dbl>\\\\\n",
       "\\hline\n",
       "\t 065aa600f85d38fa5fbb39aaaa096ff2 & Actinopterygii & 0.0002978185 & 0\\\\\n",
       "\t 065aa600f85d38fa5fbb39aaaa096ff2 & Amphibia       & 0.0002978185 & 0\\\\\n",
       "\t ⋮ & ⋮ & ⋮ & ⋮\\\\\n",
       "\t fc9e283f48f653c1b54f860d9cf996cf & Mammalia & 0.01841927 & 0.0221644\\\\\n",
       "\t fc9e283f48f653c1b54f860d9cf996cf & Reptilia & 0.01841927 & 0.0000000\\\\\n",
       "\\end{tabular}\n"
      ],
      "text/markdown": [
       "\n",
       "A tibble: 195 × 4\n",
       "\n",
       "| OTU &lt;chr&gt; | class &lt;chr&gt; | total_mean_abund &lt;dbl&gt; | mean_abund &lt;dbl&gt; |\n",
       "|---|---|---|---|\n",
       "| 065aa600f85d38fa5fbb39aaaa096ff2 | Actinopterygii | 0.0002978185 | 0 |\n",
       "| 065aa600f85d38fa5fbb39aaaa096ff2 | Amphibia       | 0.0002978185 | 0 |\n",
       "| ⋮ | ⋮ | ⋮ | ⋮ |\n",
       "| fc9e283f48f653c1b54f860d9cf996cf | Mammalia | 0.01841927 | 0.0221644 |\n",
       "| fc9e283f48f653c1b54f860d9cf996cf | Reptilia | 0.01841927 | 0.0000000 |\n",
       "\n"
      ],
      "text/plain": [
       "    OTU                              class          total_mean_abund mean_abund\n",
       "1   065aa600f85d38fa5fbb39aaaa096ff2 Actinopterygii 0.0002978185     0         \n",
       "2   065aa600f85d38fa5fbb39aaaa096ff2 Amphibia       0.0002978185     0         \n",
       "⋮   ⋮                                ⋮              ⋮                ⋮         \n",
       "194 fc9e283f48f653c1b54f860d9cf996cf Mammalia       0.01841927       0.0221644 \n",
       "195 fc9e283f48f653c1b54f860d9cf996cf Reptilia       0.01841927       0.0000000 "
      ]
     },
     "metadata": {},
     "output_type": "display_data"
    }
   ],
   "source": [
    "meta = physeq_arch_IndD %>%\n",
    "    phyloseq2df(sample_data) %>%\n",
    "    dplyr::select(Sample, class)\n",
    "\n",
    "tax = physeq_arch_IndD %>%\n",
    "    phyloseq2df(tax_table) %>%\n",
    "    filter(Genus == 'Methanothermobacter')\n",
    "\n",
    "otu = physeq_arch_IndD %>%\n",
    "    phyloseq::transformSampleCounts(function(x) x/sum(x) * 100) %>%\n",
    "    phyloseq2df(otu_table, long=TRUE) %>%\n",
    "    inner_join(tax, c('OTU')) %>%\n",
    "    inner_join(meta, c('Sample')) %>%\n",
    "    group_by(OTU) %>%\n",
    "    mutate(total_mean_abund = mean(Count)) %>%\n",
    "    group_by(OTU, class, total_mean_abund) %>% \n",
    "    summarize(mean_abund = mean(Count),\n",
    "              .groups='drop')\n",
    "\n",
    "otu$total_mean_abund %>% summary_x\n",
    "otu$mean_abund %>% summary_x\n",
    "otu"
   ]
  },
  {
   "cell_type": "code",
   "execution_count": 188,
   "metadata": {
    "ExecuteTime": {
     "end_time": "2020-09-26T08:22:34.168075Z",
     "start_time": "2020-09-26T08:22:34.121Z"
    }
   },
   "outputs": [
    {
     "name": "stdout",
     "output_type": "stream",
     "text": [
      "intersect(x,y): 38 \n",
      "setdiff(x,y): 0 \n",
      "setdiff(y,x): 1 \n",
      "union(x,y): 39 \n"
     ]
    }
   ],
   "source": [
    "# checking overlap\n",
    "overlap(blast_res_fjf$qaccver, otu$OTU)"
   ]
  },
  {
   "cell_type": "code",
   "execution_count": 203,
   "metadata": {
    "ExecuteTime": {
     "end_time": "2020-09-26T08:28:53.868433Z",
     "start_time": "2020-09-26T08:28:53.686Z"
    }
   },
   "outputs": [
    {
     "data": {
      "text/html": [
       "<table>\n",
       "<caption>A tibble: 183 × 12</caption>\n",
       "<thead>\n",
       "\t<tr><th scope=col>Methanothermobacter ASV</th><th scope=col>BLASTn % identity</th><th scope=col>% identity rank</th><th scope=col>Gene ID</th><th scope=col>Gene length</th><th scope=col>BLAST hit: species</th><th scope=col>Mean % abundance</th><th scope=col>Actinopterygii: Mean % abund.</th><th scope=col>Amphibia: Mean % abund.</th><th scope=col>Aves: Mean % abund.</th><th scope=col>Mammalia: Mean % abund.</th><th scope=col>Reptilia: Mean % abund.</th></tr>\n",
       "\t<tr><th scope=col>&lt;chr&gt;</th><th scope=col>&lt;dbl&gt;</th><th scope=col>&lt;int&gt;</th><th scope=col>&lt;chr&gt;</th><th scope=col>&lt;chr&gt;</th><th scope=col>&lt;fct&gt;</th><th scope=col>&lt;dbl&gt;</th><th scope=col>&lt;dbl&gt;</th><th scope=col>&lt;dbl&gt;</th><th scope=col>&lt;dbl&gt;</th><th scope=col>&lt;dbl&gt;</th><th scope=col>&lt;dbl&gt;</th></tr>\n",
       "</thead>\n",
       "<tbody>\n",
       "\t<tr><td>859b0f9281126ff8d74d751373fd8891</td><td>99.294</td><td>1</td><td>MhtMarb2</td><td>1482bp</td><td>Methanothermobacter marburgensis</td><td>3.8137</td><td>3.2126</td><td>5.4846</td><td>9.3615</td><td>2.4209</td><td>4.5432</td></tr>\n",
       "\t<tr><td>859b0f9281126ff8d74d751373fd8891</td><td>98.824</td><td>2</td><td>MhtWolfe</td><td>1446bp</td><td>Methanothermobacter wolfeii     </td><td>3.8137</td><td>3.2126</td><td>5.4846</td><td>9.3615</td><td>2.4209</td><td>4.5432</td></tr>\n",
       "\t<tr><td>⋮</td><td>⋮</td><td>⋮</td><td>⋮</td><td>⋮</td><td>⋮</td><td>⋮</td><td>⋮</td><td>⋮</td><td>⋮</td><td>⋮</td><td>⋮</td></tr>\n",
       "\t<tr><td>065aa600f85d38fa5fbb39aaaa096ff2</td><td>98.824</td><td>5</td><td>MhtTher4</td><td>1432bp</td><td>Methanothermobacter thermophilus</td><td>3e-04</td><td>0</td><td>0</td><td>0.000</td><td>4e-04</td><td>0</td></tr>\n",
       "\t<tr><td>73c16f2a05ba87177cdec602099114d0</td><td>91.315</td><td>5</td><td>MhtTher4</td><td>1432bp</td><td>Methanothermobacter thermophilus</td><td>3e-04</td><td>0</td><td>0</td><td>0.002</td><td>0e+00</td><td>0</td></tr>\n",
       "</tbody>\n",
       "</table>\n"
      ],
      "text/latex": [
       "A tibble: 183 × 12\n",
       "\\begin{tabular}{llllllllllll}\n",
       " Methanothermobacter ASV & BLASTn \\% identity & \\% identity rank & Gene ID & Gene length & BLAST hit: species & Mean \\% abundance & Actinopterygii: Mean \\% abund. & Amphibia: Mean \\% abund. & Aves: Mean \\% abund. & Mammalia: Mean \\% abund. & Reptilia: Mean \\% abund.\\\\\n",
       " <chr> & <dbl> & <int> & <chr> & <chr> & <fct> & <dbl> & <dbl> & <dbl> & <dbl> & <dbl> & <dbl>\\\\\n",
       "\\hline\n",
       "\t 859b0f9281126ff8d74d751373fd8891 & 99.294 & 1 & MhtMarb2 & 1482bp & Methanothermobacter marburgensis & 3.8137 & 3.2126 & 5.4846 & 9.3615 & 2.4209 & 4.5432\\\\\n",
       "\t 859b0f9281126ff8d74d751373fd8891 & 98.824 & 2 & MhtWolfe & 1446bp & Methanothermobacter wolfeii      & 3.8137 & 3.2126 & 5.4846 & 9.3615 & 2.4209 & 4.5432\\\\\n",
       "\t ⋮ & ⋮ & ⋮ & ⋮ & ⋮ & ⋮ & ⋮ & ⋮ & ⋮ & ⋮ & ⋮ & ⋮\\\\\n",
       "\t 065aa600f85d38fa5fbb39aaaa096ff2 & 98.824 & 5 & MhtTher4 & 1432bp & Methanothermobacter thermophilus & 3e-04 & 0 & 0 & 0.000 & 4e-04 & 0\\\\\n",
       "\t 73c16f2a05ba87177cdec602099114d0 & 91.315 & 5 & MhtTher4 & 1432bp & Methanothermobacter thermophilus & 3e-04 & 0 & 0 & 0.002 & 0e+00 & 0\\\\\n",
       "\\end{tabular}\n"
      ],
      "text/markdown": [
       "\n",
       "A tibble: 183 × 12\n",
       "\n",
       "| Methanothermobacter ASV &lt;chr&gt; | BLASTn % identity &lt;dbl&gt; | % identity rank &lt;int&gt; | Gene ID &lt;chr&gt; | Gene length &lt;chr&gt; | BLAST hit: species &lt;fct&gt; | Mean % abundance &lt;dbl&gt; | Actinopterygii: Mean % abund. &lt;dbl&gt; | Amphibia: Mean % abund. &lt;dbl&gt; | Aves: Mean % abund. &lt;dbl&gt; | Mammalia: Mean % abund. &lt;dbl&gt; | Reptilia: Mean % abund. &lt;dbl&gt; |\n",
       "|---|---|---|---|---|---|---|---|---|---|---|---|\n",
       "| 859b0f9281126ff8d74d751373fd8891 | 99.294 | 1 | MhtMarb2 | 1482bp | Methanothermobacter marburgensis | 3.8137 | 3.2126 | 5.4846 | 9.3615 | 2.4209 | 4.5432 |\n",
       "| 859b0f9281126ff8d74d751373fd8891 | 98.824 | 2 | MhtWolfe | 1446bp | Methanothermobacter wolfeii      | 3.8137 | 3.2126 | 5.4846 | 9.3615 | 2.4209 | 4.5432 |\n",
       "| ⋮ | ⋮ | ⋮ | ⋮ | ⋮ | ⋮ | ⋮ | ⋮ | ⋮ | ⋮ | ⋮ | ⋮ |\n",
       "| 065aa600f85d38fa5fbb39aaaa096ff2 | 98.824 | 5 | MhtTher4 | 1432bp | Methanothermobacter thermophilus | 3e-04 | 0 | 0 | 0.000 | 4e-04 | 0 |\n",
       "| 73c16f2a05ba87177cdec602099114d0 | 91.315 | 5 | MhtTher4 | 1432bp | Methanothermobacter thermophilus | 3e-04 | 0 | 0 | 0.002 | 0e+00 | 0 |\n",
       "\n"
      ],
      "text/plain": [
       "    Methanothermobacter ASV          BLASTn % identity % identity rank Gene ID \n",
       "1   859b0f9281126ff8d74d751373fd8891 99.294            1               MhtMarb2\n",
       "2   859b0f9281126ff8d74d751373fd8891 98.824            2               MhtWolfe\n",
       "⋮   ⋮                                ⋮                 ⋮               ⋮       \n",
       "182 065aa600f85d38fa5fbb39aaaa096ff2 98.824            5               MhtTher4\n",
       "183 73c16f2a05ba87177cdec602099114d0 91.315            5               MhtTher4\n",
       "    Gene length BLAST hit: species               Mean % abundance\n",
       "1   1482bp      Methanothermobacter marburgensis 3.8137          \n",
       "2   1446bp      Methanothermobacter wolfeii      3.8137          \n",
       "⋮   ⋮           ⋮                                ⋮               \n",
       "182 1432bp      Methanothermobacter thermophilus 3e-04           \n",
       "183 1432bp      Methanothermobacter thermophilus 3e-04           \n",
       "    Actinopterygii: Mean % abund. Amphibia: Mean % abund. Aves: Mean % abund.\n",
       "1   3.2126                        5.4846                  9.3615             \n",
       "2   3.2126                        5.4846                  9.3615             \n",
       "⋮   ⋮                             ⋮                       ⋮                  \n",
       "182 0                             0                       0.000              \n",
       "183 0                             0                       0.002              \n",
       "    Mammalia: Mean % abund. Reptilia: Mean % abund.\n",
       "1   2.4209                  4.5432                 \n",
       "2   2.4209                  4.5432                 \n",
       "⋮   ⋮                       ⋮                      \n",
       "182 4e-04                   0                      \n",
       "183 0e+00                   0                      "
      ]
     },
     "metadata": {},
     "output_type": "display_data"
    }
   ],
   "source": [
    "blast_res_fjfj = blast_res_fjf %>%\n",
    "    inner_join(otu, c('qaccver' = 'OTU')) %>%\n",
    "    mutate(total_mean_abund = round(total_mean_abund, 4),\n",
    "           mean_abund = round(mean_abund, 4)) %>%\n",
    "    spread(class, mean_abund) %>%\n",
    "    arrange(-total_mean_abund, rank) %>%\n",
    "    rename('Methanothermobacter ASV' = qaccver,\n",
    "           'BLASTn % identity' = pident,\n",
    "           '% identity rank' = rank,\n",
    "           'Gene ID' = marker,\n",
    "           'Gene length' = length,\n",
    "           'BLAST hit: species' = V5,\n",
    "           'Mean % abundance' = total_mean_abund,\n",
    "           'Actinopterygii: Mean % abund.' = Actinopterygii,\n",
    "           'Amphibia: Mean % abund.' = Amphibia,\n",
    "           'Reptilia: Mean % abund.' = Reptilia,\n",
    "           'Aves: Mean % abund.' = Aves,\n",
    "           'Mammalia: Mean % abund.' = Mammalia)\n",
    " blast_res_fjfj          "
   ]
  },
  {
   "cell_type": "code",
   "execution_count": 204,
   "metadata": {
    "ExecuteTime": {
     "end_time": "2020-09-26T08:28:57.298105Z",
     "start_time": "2020-09-26T08:28:57.224Z"
    }
   },
   "outputs": [
    {
     "name": "stdout",
     "output_type": "stream",
     "text": [
      "File written: /ebio/abt3_projects/Georg_animal_feces/data/16S_arch/MiSeq-Runs-116-122-126-189-190/LLA/type_strain_similarity//Mthermobacter_LTP_top-hits.tsv \n"
     ]
    }
   ],
   "source": [
    "out_file = file.path(work_dir, 'Mthermobacter_LTP_top-hits.tsv')\n",
    "write_table(blast_res_fjfj, out_file, sep='\\t')"
   ]
  },
  {
   "cell_type": "markdown",
   "metadata": {},
   "source": [
    "# sessionInfo"
   ]
  },
  {
   "cell_type": "code",
   "execution_count": 401,
   "metadata": {
    "ExecuteTime": {
     "end_time": "2020-06-15T14:19:34.390725Z",
     "start_time": "2020-06-15T14:19:34.216Z"
    }
   },
   "outputs": [
    {
     "data": {
      "text/plain": [
       "R version 3.6.3 (2020-02-29)\n",
       "Platform: x86_64-conda_cos6-linux-gnu (64-bit)\n",
       "Running under: Ubuntu 18.04.4 LTS\n",
       "\n",
       "Matrix products: default\n",
       "BLAS/LAPACK: /ebio/abt3_projects/Georg_animal_feces/envs/phyloseq/lib/libopenblasp-r0.3.9.so\n",
       "\n",
       "locale:\n",
       " [1] LC_CTYPE=en_US.UTF-8       LC_NUMERIC=C              \n",
       " [3] LC_TIME=en_US.UTF-8        LC_COLLATE=en_US.UTF-8    \n",
       " [5] LC_MONETARY=en_US.UTF-8    LC_MESSAGES=en_US.UTF-8   \n",
       " [7] LC_PAPER=en_US.UTF-8       LC_NAME=C                 \n",
       " [9] LC_ADDRESS=C               LC_TELEPHONE=C            \n",
       "[11] LC_MEASUREMENT=en_US.UTF-8 LC_IDENTIFICATION=C       \n",
       "\n",
       "attached base packages:\n",
       "[1] stats     graphics  grDevices utils     datasets  methods   base     \n",
       "\n",
       "other attached packages:\n",
       "[1] ape_5.4           tidytable_0.4.1   tidyselect_1.1.0  data.table_1.12.8\n",
       "[5] LeyLabRMisc_0.1.5 phyloseq_1.30.0   ggplot2_3.3.1     tidyr_1.1.0      \n",
       "[9] dplyr_1.0.0      \n",
       "\n",
       "loaded via a namespace (and not attached):\n",
       " [1] Rcpp_1.0.4.6        lattice_0.20-41     Biostrings_2.54.0  \n",
       " [4] assertthat_0.2.1    digest_0.6.25       foreach_1.5.0      \n",
       " [7] IRdisplay_0.7.0     R6_2.4.1            plyr_1.8.6         \n",
       "[10] repr_1.1.0          stats4_3.6.3        evaluate_0.14      \n",
       "[13] pillar_1.4.4        zlibbioc_1.32.0     rlang_0.4.6        \n",
       "[16] uuid_0.1-4          vegan_2.5-6         S4Vectors_0.24.0   \n",
       "[19] Matrix_1.2-18       labeling_0.3        splines_3.6.3      \n",
       "[22] stringr_1.4.0       igraph_1.2.5        munsell_0.5.0      \n",
       "[25] xfun_0.14           compiler_3.6.3      pkgconfig_2.0.3    \n",
       "[28] BiocGenerics_0.32.0 base64enc_0.1-3     multtest_2.42.0    \n",
       "[31] mgcv_1.8-31         htmltools_0.4.0     biomformat_1.14.0  \n",
       "[34] tibble_3.0.1        IRanges_2.20.0      codetools_0.2-16   \n",
       "[37] fansi_0.4.1         permute_0.9-5       crayon_1.3.4       \n",
       "[40] withr_2.2.0         MASS_7.3-51.6       grid_3.6.3         \n",
       "[43] nlme_3.1-148        jsonlite_1.6.1      gtable_0.3.0       \n",
       "[46] lifecycle_0.2.0     magrittr_1.5        scales_1.1.1       \n",
       "[49] cli_2.0.2           stringi_1.4.6       farver_2.0.3       \n",
       "[52] XVector_0.26.0      reshape2_1.4.4      ellipsis_0.3.1     \n",
       "[55] generics_0.0.2      vctrs_0.3.0         IRkernel_1.1       \n",
       "[58] Rhdf5lib_1.8.0      iterators_1.0.12    tools_3.6.3        \n",
       "[61] ade4_1.7-15         Biobase_2.46.0      glue_1.4.1         \n",
       "[64] purrr_0.3.4         parallel_3.6.3      survival_3.1-12    \n",
       "[67] colorspace_1.4-1    rhdf5_2.30.0        cluster_2.1.0      \n",
       "[70] pbdZMQ_0.3-3        knitr_1.28         "
      ]
     },
     "metadata": {},
     "output_type": "display_data"
    }
   ],
   "source": [
    "sessionInfo()"
   ]
  },
  {
   "cell_type": "code",
   "execution_count": null,
   "metadata": {},
   "outputs": [],
   "source": []
  }
 ],
 "metadata": {
  "kernelspec": {
   "display_name": "R [conda env:Georg_animal_feces-phyloseq]",
   "language": "R",
   "name": "conda-env-Georg_animal_feces-phyloseq-r"
  },
  "language_info": {
   "codemirror_mode": "r",
   "file_extension": ".r",
   "mimetype": "text/x-r-source",
   "name": "R",
   "pygments_lexer": "r",
   "version": "3.6.3"
  },
  "notify_time": "30",
  "toc": {
   "base_numbering": 1,
   "nav_menu": {},
   "number_sections": true,
   "sideBar": true,
   "skip_h1_title": false,
   "title_cell": "Table of Contents",
   "title_sidebar": "Contents",
   "toc_cell": true,
   "toc_position": {},
   "toc_section_display": true,
   "toc_window_display": true
  }
 },
 "nbformat": 4,
 "nbformat_minor": 4
}
