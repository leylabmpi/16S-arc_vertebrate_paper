{
 "cells": [
  {
   "cell_type": "markdown",
   "metadata": {
    "toc": true
   },
   "source": [
    "<h1>Table of Contents<span class=\"tocSkip\"></span></h1>\n",
    "<div class=\"toc\"><ul class=\"toc-item\"><li><span><a href=\"#Goal\" data-toc-modified-id=\"Goal-1\"><span class=\"toc-item-num\">1&nbsp;&nbsp;</span>Goal</a></span></li><li><span><a href=\"#Var\" data-toc-modified-id=\"Var-2\"><span class=\"toc-item-num\">2&nbsp;&nbsp;</span>Var</a></span></li><li><span><a href=\"#Init\" data-toc-modified-id=\"Init-3\"><span class=\"toc-item-num\">3&nbsp;&nbsp;</span>Init</a></span></li><li><span><a href=\"#Load\" data-toc-modified-id=\"Load-4\"><span class=\"toc-item-num\">4&nbsp;&nbsp;</span>Load</a></span></li><li><span><a href=\"#SpecD\" data-toc-modified-id=\"SpecD-5\"><span class=\"toc-item-num\">5&nbsp;&nbsp;</span>SpecD</a></span><ul class=\"toc-item\"><li><span><a href=\"#Aggregating\" data-toc-modified-id=\"Aggregating-5.1\"><span class=\"toc-item-num\">5.1&nbsp;&nbsp;</span>Aggregating</a></span></li><li><span><a href=\"#Filter-by-sparsity\" data-toc-modified-id=\"Filter-by-sparsity-5.2\"><span class=\"toc-item-num\">5.2&nbsp;&nbsp;</span>Filter by sparsity</a></span></li><li><span><a href=\"#Zero-estimation\" data-toc-modified-id=\"Zero-estimation-5.3\"><span class=\"toc-item-num\">5.3&nbsp;&nbsp;</span>Zero estimation</a></span></li><li><span><a href=\"#clr-transformation\" data-toc-modified-id=\"clr-transformation-5.4\"><span class=\"toc-item-num\">5.4&nbsp;&nbsp;</span>clr transformation</a></span></li><li><span><a href=\"#New-phyloseq-obj.\" data-toc-modified-id=\"New-phyloseq-obj.-5.5\"><span class=\"toc-item-num\">5.5&nbsp;&nbsp;</span>New phyloseq obj.</a></span></li></ul></li><li><span><a href=\"#IndD\" data-toc-modified-id=\"IndD-6\"><span class=\"toc-item-num\">6&nbsp;&nbsp;</span>IndD</a></span><ul class=\"toc-item\"><li><span><a href=\"#Aggregating\" data-toc-modified-id=\"Aggregating-6.1\"><span class=\"toc-item-num\">6.1&nbsp;&nbsp;</span>Aggregating</a></span></li><li><span><a href=\"#Filter-by-sparsity\" data-toc-modified-id=\"Filter-by-sparsity-6.2\"><span class=\"toc-item-num\">6.2&nbsp;&nbsp;</span>Filter by sparsity</a></span></li><li><span><a href=\"#Zero-estimation\" data-toc-modified-id=\"Zero-estimation-6.3\"><span class=\"toc-item-num\">6.3&nbsp;&nbsp;</span>Zero estimation</a></span></li><li><span><a href=\"#clr-transformation\" data-toc-modified-id=\"clr-transformation-6.4\"><span class=\"toc-item-num\">6.4&nbsp;&nbsp;</span>clr transformation</a></span></li><li><span><a href=\"#New-phyloseq-obj\" data-toc-modified-id=\"New-phyloseq-obj-6.5\"><span class=\"toc-item-num\">6.5&nbsp;&nbsp;</span>New phyloseq obj</a></span></li></ul></li><li><span><a href=\"#sessionInfo\" data-toc-modified-id=\"sessionInfo-7\"><span class=\"toc-item-num\">7&nbsp;&nbsp;</span>sessionInfo</a></span></li></ul></div>"
   ]
  },
  {
   "cell_type": "markdown",
   "metadata": {},
   "source": [
    "# Goal\n",
    "\n",
    "* Create coda-transformed dataset\n",
    "  * accounting for compositional data\n",
    "* Method\n",
    "  * impute zeros with zCompositions\n",
    "  * perform clr transformation on counts\n",
    "    * `compositions::clr`"
   ]
  },
  {
   "cell_type": "markdown",
   "metadata": {},
   "source": [
    "# Var"
   ]
  },
  {
   "cell_type": "code",
   "execution_count": 1,
   "metadata": {
    "ExecuteTime": {
     "end_time": "2020-06-18T12:24:49.411501Z",
     "start_time": "2020-06-18T12:24:49.337Z"
    }
   },
   "outputs": [],
   "source": [
    "work_dir = '/ebio/abt3_projects/Georg_animal_feces/data/16S_arch/MiSeq-Runs-116-122-126-189-190/LLA/merged/'\n",
    "\n",
    "# microbiome\n",
    "## 16S-arch phyloseq object (one sample per species)\n",
    "physeq_arch_SpecD_file = '/ebio/abt3_projects/Georg_animal_feces/data/16S_arch/MiSeq-Runs-116-122-126-189-190/LLA/merged/phyloseq/physeq_arch_SpecD.RDS'\n",
    "## 16S-arch phyloseq object (one sample per individual)\n",
    "physeq_arch_IndD_file = '/ebio/abt3_projects/Georg_animal_feces/data/16S_arch/MiSeq-Runs-116-122-126-189-190/LLA/merged/phyloseq/physeq_arch_IndD.RDS'\n",
    "\n",
    "# params\n",
    "threads = 8\n",
    "my_seed = 8371\n"
   ]
  },
  {
   "cell_type": "markdown",
   "metadata": {},
   "source": [
    "# Init"
   ]
  },
  {
   "cell_type": "code",
   "execution_count": 2,
   "metadata": {
    "ExecuteTime": {
     "end_time": "2020-06-18T12:24:57.883327Z",
     "start_time": "2020-06-18T12:24:50.038Z"
    }
   },
   "outputs": [
    {
     "name": "stderr",
     "output_type": "stream",
     "text": [
      "\n",
      "Attaching package: ‘dplyr’\n",
      "\n",
      "\n",
      "The following objects are masked from ‘package:stats’:\n",
      "\n",
      "    filter, lag\n",
      "\n",
      "\n",
      "The following objects are masked from ‘package:base’:\n",
      "\n",
      "    intersect, setdiff, setequal, union\n",
      "\n",
      "\n",
      "Loading required package: MASS\n",
      "\n",
      "\n",
      "Attaching package: ‘MASS’\n",
      "\n",
      "\n",
      "The following object is masked from ‘package:dplyr’:\n",
      "\n",
      "    select\n",
      "\n",
      "\n",
      "Loading required package: NADA\n",
      "\n",
      "Loading required package: survival\n",
      "\n",
      "\n",
      "Attaching package: ‘NADA’\n",
      "\n",
      "\n",
      "The following object is masked from ‘package:stats’:\n",
      "\n",
      "    cor\n",
      "\n",
      "\n",
      "Loading required package: truncnorm\n",
      "\n"
     ]
    }
   ],
   "source": [
    "library(dplyr)\n",
    "library(tidyr)\n",
    "library(ggplot2)\n",
    "\n",
    "library(phyloseq)\n",
    "library(zCompositions)\n",
    "\n",
    "library(LeyLabRMisc)"
   ]
  },
  {
   "cell_type": "code",
   "execution_count": 3,
   "metadata": {
    "ExecuteTime": {
     "end_time": "2020-06-18T12:24:58.248121Z",
     "start_time": "2020-06-18T12:24:50.967Z"
    }
   },
   "outputs": [
    {
     "name": "stdout",
     "output_type": "stream",
     "text": [
      "Directory already exists: /ebio/abt3_projects/Georg_animal_feces/data/16S_arch/MiSeq-Runs-116-122-126-189-190/LLA/merged/ \n"
     ]
    }
   ],
   "source": [
    "df.dims()\n",
    "set.seed(my_seed)\n",
    "make_dir(work_dir)"
   ]
  },
  {
   "cell_type": "markdown",
   "metadata": {},
   "source": [
    "# Load"
   ]
  },
  {
   "cell_type": "code",
   "execution_count": 4,
   "metadata": {
    "ExecuteTime": {
     "end_time": "2020-06-18T12:24:58.335638Z",
     "start_time": "2020-06-18T12:24:52.544Z"
    }
   },
   "outputs": [
    {
     "data": {
      "text/plain": [
       "phyloseq-class experiment-level object\n",
       "otu_table()   OTU Table:         [ 1151 taxa and 110 samples ]\n",
       "sample_data() Sample Data:       [ 110 samples by 88 sample variables ]\n",
       "tax_table()   Taxonomy Table:    [ 1151 taxa by 7 taxonomic ranks ]\n",
       "phy_tree()    Phylogenetic Tree: [ 1151 tips and 1150 internal nodes ]"
      ]
     },
     "metadata": {},
     "output_type": "display_data"
    }
   ],
   "source": [
    "# phyloseq\n",
    "physeq_arch_SpecD = readRDS(physeq_arch_SpecD_file)\n",
    "physeq_arch_SpecD"
   ]
  },
  {
   "cell_type": "code",
   "execution_count": 5,
   "metadata": {
    "ExecuteTime": {
     "end_time": "2020-06-18T12:24:58.442806Z",
     "start_time": "2020-06-18T12:24:52.712Z"
    }
   },
   "outputs": [
    {
     "data": {
      "text/plain": [
       "phyloseq-class experiment-level object\n",
       "otu_table()   OTU Table:         [ 1891 taxa and 185 samples ]\n",
       "sample_data() Sample Data:       [ 185 samples by 88 sample variables ]\n",
       "tax_table()   Taxonomy Table:    [ 1891 taxa by 7 taxonomic ranks ]\n",
       "phy_tree()    Phylogenetic Tree: [ 1891 tips and 1888 internal nodes ]"
      ]
     },
     "metadata": {},
     "output_type": "display_data"
    }
   ],
   "source": [
    "# phyloseq\n",
    "physeq_arch_IndD = readRDS(physeq_arch_IndD_file)\n",
    "physeq_arch_IndD"
   ]
  },
  {
   "cell_type": "markdown",
   "metadata": {},
   "source": [
    "# SpecD"
   ]
  },
  {
   "cell_type": "markdown",
   "metadata": {},
   "source": [
    "## Aggregating"
   ]
  },
  {
   "cell_type": "code",
   "execution_count": 6,
   "metadata": {
    "ExecuteTime": {
     "end_time": "2020-06-18T12:25:04.688899Z",
     "start_time": "2020-06-18T12:24:57.591Z"
    }
   },
   "outputs": [
    {
     "data": {
      "text/plain": [
       "phyloseq-class experiment-level object\n",
       "otu_table()   OTU Table:         [ 82 taxa and 110 samples ]\n",
       "sample_data() Sample Data:       [ 110 samples by 88 sample variables ]\n",
       "tax_table()   Taxonomy Table:    [ 82 taxa by 7 taxonomic ranks ]\n",
       "phy_tree()    Phylogenetic Tree: [ 82 tips and 81 internal nodes ]"
      ]
     },
     "metadata": {},
     "output_type": "display_data"
    }
   ],
   "source": [
    "physeq_arch_SpecD = tax_glom(physeq_arch_SpecD, taxrank='Genus')\n",
    "physeq_arch_SpecD"
   ]
  },
  {
   "cell_type": "markdown",
   "metadata": {},
   "source": [
    "## Filter by sparsity"
   ]
  },
  {
   "cell_type": "code",
   "execution_count": 7,
   "metadata": {
    "ExecuteTime": {
     "end_time": "2020-06-18T12:25:04.749037Z",
     "start_time": "2020-06-18T12:25:00.958Z"
    }
   },
   "outputs": [
    {
     "data": {
      "text/plain": [
       "phyloseq-class experiment-level object\n",
       "otu_table()   OTU Table:         [ 42 taxa and 110 samples ]\n",
       "sample_data() Sample Data:       [ 110 samples by 88 sample variables ]\n",
       "tax_table()   Taxonomy Table:    [ 42 taxa by 7 taxonomic ranks ]\n",
       "phy_tree()    Phylogenetic Tree: [ 42 tips and 41 internal nodes ]"
      ]
     },
     "metadata": {},
     "output_type": "display_data"
    }
   ],
   "source": [
    "# filter by sparsity\n",
    "physeq_arch_SpecD = physeq_arch_SpecD %>%\n",
    "    filter_taxa(function(x) sum(x > 0) >= 2, TRUE) %>%\n",
    "    prune_samples(sample_sums(.) > 0, .)\n",
    "physeq_arch_SpecD"
   ]
  },
  {
   "cell_type": "code",
   "execution_count": 8,
   "metadata": {
    "ExecuteTime": {
     "end_time": "2020-06-18T12:25:05.048400Z",
     "start_time": "2020-06-18T12:25:02.430Z"
    }
   },
   "outputs": [
    {
     "data": {
      "text/html": [
       "<table>\n",
       "<caption>A data.frame: 110 × 42</caption>\n",
       "<thead>\n",
       "\t<tr><th></th><th scope=col>c3b19986023201183d07b2bf6dc9eaab</th><th scope=col>e6ddd5efa2e9229aa04f33e832450fa8</th><th scope=col>5887dc080d027d30580310a1eb1f3166</th><th scope=col>66cc60d5322fdeaf48cc8bdd82effea2</th><th scope=col>6668cc03267d4f04b5a34d676c1db57a</th><th scope=col>252850216e7d0123bfafd7eed609799d</th><th scope=col>dc2d500b34b0dc2adb147b190d3b337a</th><th scope=col>19fff4ad5946206827aa5d91e47fbcf1</th><th scope=col>cfd2bb81e97edddddf1a843a0d6999fa</th><th scope=col>51b922408976c428c8b582162eaefb1c</th><th scope=col>⋯</th><th scope=col>2987f396047df01622b365b3b667a4eb</th><th scope=col>fef8ef65bd3598e9f1fec3bd32a9b4bd</th><th scope=col>9e6f5751d7458b48c1fd8272e3683ded</th><th scope=col>2aae9c46a33f7677efc6534f91a980bc</th><th scope=col>75f3ea1df98051a1b49107173aa51a32</th><th scope=col>1578a874797e43b052a66b2fb5ef9e4a</th><th scope=col>b7ed842d3fbe5d8d33504a0a765409ae</th><th scope=col>e94f4096695b98afaec1d5a4517b0c87</th><th scope=col>250a31c11dbecf1e2ef705424fdaa7a7</th><th scope=col>188795b8eb1edbd3334be2676ca05391</th></tr>\n",
       "\t<tr><th></th><th scope=col>&lt;dbl&gt;</th><th scope=col>&lt;dbl&gt;</th><th scope=col>&lt;dbl&gt;</th><th scope=col>&lt;dbl&gt;</th><th scope=col>&lt;dbl&gt;</th><th scope=col>&lt;dbl&gt;</th><th scope=col>&lt;dbl&gt;</th><th scope=col>&lt;dbl&gt;</th><th scope=col>&lt;dbl&gt;</th><th scope=col>&lt;dbl&gt;</th><th scope=col>⋯</th><th scope=col>&lt;dbl&gt;</th><th scope=col>&lt;dbl&gt;</th><th scope=col>&lt;dbl&gt;</th><th scope=col>&lt;dbl&gt;</th><th scope=col>&lt;dbl&gt;</th><th scope=col>&lt;dbl&gt;</th><th scope=col>&lt;dbl&gt;</th><th scope=col>&lt;dbl&gt;</th><th scope=col>&lt;dbl&gt;</th><th scope=col>&lt;dbl&gt;</th></tr>\n",
       "</thead>\n",
       "<tbody>\n",
       "\t<tr><th scope=row>F14_Common_Bream</th><td>0</td><td>0</td><td>2</td><td>0</td><td>0</td><td>0</td><td>0</td><td>0</td><td>0</td><td>507</td><td>⋯</td><td>  0</td><td>0</td><td>  6</td><td>0</td><td>0</td><td>  14</td><td>0</td><td>  0</td><td>2599</td><td>0</td></tr>\n",
       "\t<tr><th scope=row>F44_Fallow_Deer</th><td>0</td><td>0</td><td>0</td><td>0</td><td>0</td><td>0</td><td>0</td><td>0</td><td>0</td><td>  0</td><td>⋯</td><td>127</td><td>0</td><td>443</td><td>0</td><td>0</td><td>5074</td><td>0</td><td>693</td><td>   0</td><td>0</td></tr>\n",
       "\t<tr><th scope=row>⋮</th><td>⋮</td><td>⋮</td><td>⋮</td><td>⋮</td><td>⋮</td><td>⋮</td><td>⋮</td><td>⋮</td><td>⋮</td><td>⋮</td><td>⋱</td><td>⋮</td><td>⋮</td><td>⋮</td><td>⋮</td><td>⋮</td><td>⋮</td><td>⋮</td><td>⋮</td><td>⋮</td><td>⋮</td></tr>\n",
       "\t<tr><th scope=row>X405_Nile_Crocodile</th><td>0</td><td>3</td><td>0</td><td>0</td><td>0</td><td>10</td><td>0</td><td>0</td><td>0</td><td>0</td><td>⋯</td><td>0</td><td>0</td><td>0</td><td>0</td><td>0</td><td>  0</td><td>0</td><td> 0</td><td>25</td><td>5</td></tr>\n",
       "\t<tr><th scope=row>X67_European_Roe</th><td>0</td><td>0</td><td>0</td><td>0</td><td>0</td><td> 0</td><td>0</td><td>0</td><td>0</td><td>0</td><td>⋯</td><td>0</td><td>0</td><td>0</td><td>0</td><td>0</td><td>709</td><td>0</td><td>12</td><td> 0</td><td>0</td></tr>\n",
       "</tbody>\n",
       "</table>\n"
      ],
      "text/latex": [
       "A data.frame: 110 × 42\n",
       "\\begin{tabular}{r|lllllllllllllllllllll}\n",
       "  & c3b19986023201183d07b2bf6dc9eaab & e6ddd5efa2e9229aa04f33e832450fa8 & 5887dc080d027d30580310a1eb1f3166 & 66cc60d5322fdeaf48cc8bdd82effea2 & 6668cc03267d4f04b5a34d676c1db57a & 252850216e7d0123bfafd7eed609799d & dc2d500b34b0dc2adb147b190d3b337a & 19fff4ad5946206827aa5d91e47fbcf1 & cfd2bb81e97edddddf1a843a0d6999fa & 51b922408976c428c8b582162eaefb1c & ⋯ & 2987f396047df01622b365b3b667a4eb & fef8ef65bd3598e9f1fec3bd32a9b4bd & 9e6f5751d7458b48c1fd8272e3683ded & 2aae9c46a33f7677efc6534f91a980bc & 75f3ea1df98051a1b49107173aa51a32 & 1578a874797e43b052a66b2fb5ef9e4a & b7ed842d3fbe5d8d33504a0a765409ae & e94f4096695b98afaec1d5a4517b0c87 & 250a31c11dbecf1e2ef705424fdaa7a7 & 188795b8eb1edbd3334be2676ca05391\\\\\n",
       "  & <dbl> & <dbl> & <dbl> & <dbl> & <dbl> & <dbl> & <dbl> & <dbl> & <dbl> & <dbl> & ⋯ & <dbl> & <dbl> & <dbl> & <dbl> & <dbl> & <dbl> & <dbl> & <dbl> & <dbl> & <dbl>\\\\\n",
       "\\hline\n",
       "\tF14\\_Common\\_Bream & 0 & 0 & 2 & 0 & 0 & 0 & 0 & 0 & 0 & 507 & ⋯ &   0 & 0 &   6 & 0 & 0 &   14 & 0 &   0 & 2599 & 0\\\\\n",
       "\tF44\\_Fallow\\_Deer & 0 & 0 & 0 & 0 & 0 & 0 & 0 & 0 & 0 &   0 & ⋯ & 127 & 0 & 443 & 0 & 0 & 5074 & 0 & 693 &    0 & 0\\\\\n",
       "\t⋮ & ⋮ & ⋮ & ⋮ & ⋮ & ⋮ & ⋮ & ⋮ & ⋮ & ⋮ & ⋮ & ⋱ & ⋮ & ⋮ & ⋮ & ⋮ & ⋮ & ⋮ & ⋮ & ⋮ & ⋮ & ⋮\\\\\n",
       "\tX405\\_Nile\\_Crocodile & 0 & 3 & 0 & 0 & 0 & 10 & 0 & 0 & 0 & 0 & ⋯ & 0 & 0 & 0 & 0 & 0 &   0 & 0 &  0 & 25 & 5\\\\\n",
       "\tX67\\_European\\_Roe & 0 & 0 & 0 & 0 & 0 &  0 & 0 & 0 & 0 & 0 & ⋯ & 0 & 0 & 0 & 0 & 0 & 709 & 0 & 12 &  0 & 0\\\\\n",
       "\\end{tabular}\n"
      ],
      "text/markdown": [
       "\n",
       "A data.frame: 110 × 42\n",
       "\n",
       "| <!--/--> | c3b19986023201183d07b2bf6dc9eaab &lt;dbl&gt; | e6ddd5efa2e9229aa04f33e832450fa8 &lt;dbl&gt; | 5887dc080d027d30580310a1eb1f3166 &lt;dbl&gt; | 66cc60d5322fdeaf48cc8bdd82effea2 &lt;dbl&gt; | 6668cc03267d4f04b5a34d676c1db57a &lt;dbl&gt; | 252850216e7d0123bfafd7eed609799d &lt;dbl&gt; | dc2d500b34b0dc2adb147b190d3b337a &lt;dbl&gt; | 19fff4ad5946206827aa5d91e47fbcf1 &lt;dbl&gt; | cfd2bb81e97edddddf1a843a0d6999fa &lt;dbl&gt; | 51b922408976c428c8b582162eaefb1c &lt;dbl&gt; | ⋯ ⋯ | 2987f396047df01622b365b3b667a4eb &lt;dbl&gt; | fef8ef65bd3598e9f1fec3bd32a9b4bd &lt;dbl&gt; | 9e6f5751d7458b48c1fd8272e3683ded &lt;dbl&gt; | 2aae9c46a33f7677efc6534f91a980bc &lt;dbl&gt; | 75f3ea1df98051a1b49107173aa51a32 &lt;dbl&gt; | 1578a874797e43b052a66b2fb5ef9e4a &lt;dbl&gt; | b7ed842d3fbe5d8d33504a0a765409ae &lt;dbl&gt; | e94f4096695b98afaec1d5a4517b0c87 &lt;dbl&gt; | 250a31c11dbecf1e2ef705424fdaa7a7 &lt;dbl&gt; | 188795b8eb1edbd3334be2676ca05391 &lt;dbl&gt; |\n",
       "|---|---|---|---|---|---|---|---|---|---|---|---|---|---|---|---|---|---|---|---|---|---|\n",
       "| F14_Common_Bream | 0 | 0 | 2 | 0 | 0 | 0 | 0 | 0 | 0 | 507 | ⋯ |   0 | 0 |   6 | 0 | 0 |   14 | 0 |   0 | 2599 | 0 |\n",
       "| F44_Fallow_Deer | 0 | 0 | 0 | 0 | 0 | 0 | 0 | 0 | 0 |   0 | ⋯ | 127 | 0 | 443 | 0 | 0 | 5074 | 0 | 693 |    0 | 0 |\n",
       "| ⋮ | ⋮ | ⋮ | ⋮ | ⋮ | ⋮ | ⋮ | ⋮ | ⋮ | ⋮ | ⋮ | ⋱ | ⋮ | ⋮ | ⋮ | ⋮ | ⋮ | ⋮ | ⋮ | ⋮ | ⋮ | ⋮ |\n",
       "| X405_Nile_Crocodile | 0 | 3 | 0 | 0 | 0 | 10 | 0 | 0 | 0 | 0 | ⋯ | 0 | 0 | 0 | 0 | 0 |   0 | 0 |  0 | 25 | 5 |\n",
       "| X67_European_Roe | 0 | 0 | 0 | 0 | 0 |  0 | 0 | 0 | 0 | 0 | ⋯ | 0 | 0 | 0 | 0 | 0 | 709 | 0 | 12 |  0 | 0 |\n",
       "\n"
      ],
      "text/plain": [
       "                    c3b19986023201183d07b2bf6dc9eaab\n",
       "F14_Common_Bream    0                               \n",
       "F44_Fallow_Deer     0                               \n",
       "⋮                   ⋮                               \n",
       "X405_Nile_Crocodile 0                               \n",
       "X67_European_Roe    0                               \n",
       "                    e6ddd5efa2e9229aa04f33e832450fa8\n",
       "F14_Common_Bream    0                               \n",
       "F44_Fallow_Deer     0                               \n",
       "⋮                   ⋮                               \n",
       "X405_Nile_Crocodile 3                               \n",
       "X67_European_Roe    0                               \n",
       "                    5887dc080d027d30580310a1eb1f3166\n",
       "F14_Common_Bream    2                               \n",
       "F44_Fallow_Deer     0                               \n",
       "⋮                   ⋮                               \n",
       "X405_Nile_Crocodile 0                               \n",
       "X67_European_Roe    0                               \n",
       "                    66cc60d5322fdeaf48cc8bdd82effea2\n",
       "F14_Common_Bream    0                               \n",
       "F44_Fallow_Deer     0                               \n",
       "⋮                   ⋮                               \n",
       "X405_Nile_Crocodile 0                               \n",
       "X67_European_Roe    0                               \n",
       "                    6668cc03267d4f04b5a34d676c1db57a\n",
       "F14_Common_Bream    0                               \n",
       "F44_Fallow_Deer     0                               \n",
       "⋮                   ⋮                               \n",
       "X405_Nile_Crocodile 0                               \n",
       "X67_European_Roe    0                               \n",
       "                    252850216e7d0123bfafd7eed609799d\n",
       "F14_Common_Bream    0                               \n",
       "F44_Fallow_Deer     0                               \n",
       "⋮                   ⋮                               \n",
       "X405_Nile_Crocodile 10                              \n",
       "X67_European_Roe     0                              \n",
       "                    dc2d500b34b0dc2adb147b190d3b337a\n",
       "F14_Common_Bream    0                               \n",
       "F44_Fallow_Deer     0                               \n",
       "⋮                   ⋮                               \n",
       "X405_Nile_Crocodile 0                               \n",
       "X67_European_Roe    0                               \n",
       "                    19fff4ad5946206827aa5d91e47fbcf1\n",
       "F14_Common_Bream    0                               \n",
       "F44_Fallow_Deer     0                               \n",
       "⋮                   ⋮                               \n",
       "X405_Nile_Crocodile 0                               \n",
       "X67_European_Roe    0                               \n",
       "                    cfd2bb81e97edddddf1a843a0d6999fa\n",
       "F14_Common_Bream    0                               \n",
       "F44_Fallow_Deer     0                               \n",
       "⋮                   ⋮                               \n",
       "X405_Nile_Crocodile 0                               \n",
       "X67_European_Roe    0                               \n",
       "                    51b922408976c428c8b582162eaefb1c ⋯\n",
       "F14_Common_Bream    507                              ⋯\n",
       "F44_Fallow_Deer       0                              ⋯\n",
       "⋮                   ⋮                                ⋱\n",
       "X405_Nile_Crocodile 0                                ⋯\n",
       "X67_European_Roe    0                                ⋯\n",
       "                    2987f396047df01622b365b3b667a4eb\n",
       "F14_Common_Bream      0                             \n",
       "F44_Fallow_Deer     127                             \n",
       "⋮                   ⋮                               \n",
       "X405_Nile_Crocodile 0                               \n",
       "X67_European_Roe    0                               \n",
       "                    fef8ef65bd3598e9f1fec3bd32a9b4bd\n",
       "F14_Common_Bream    0                               \n",
       "F44_Fallow_Deer     0                               \n",
       "⋮                   ⋮                               \n",
       "X405_Nile_Crocodile 0                               \n",
       "X67_European_Roe    0                               \n",
       "                    9e6f5751d7458b48c1fd8272e3683ded\n",
       "F14_Common_Bream      6                             \n",
       "F44_Fallow_Deer     443                             \n",
       "⋮                   ⋮                               \n",
       "X405_Nile_Crocodile 0                               \n",
       "X67_European_Roe    0                               \n",
       "                    2aae9c46a33f7677efc6534f91a980bc\n",
       "F14_Common_Bream    0                               \n",
       "F44_Fallow_Deer     0                               \n",
       "⋮                   ⋮                               \n",
       "X405_Nile_Crocodile 0                               \n",
       "X67_European_Roe    0                               \n",
       "                    75f3ea1df98051a1b49107173aa51a32\n",
       "F14_Common_Bream    0                               \n",
       "F44_Fallow_Deer     0                               \n",
       "⋮                   ⋮                               \n",
       "X405_Nile_Crocodile 0                               \n",
       "X67_European_Roe    0                               \n",
       "                    1578a874797e43b052a66b2fb5ef9e4a\n",
       "F14_Common_Bream      14                            \n",
       "F44_Fallow_Deer     5074                            \n",
       "⋮                   ⋮                               \n",
       "X405_Nile_Crocodile   0                             \n",
       "X67_European_Roe    709                             \n",
       "                    b7ed842d3fbe5d8d33504a0a765409ae\n",
       "F14_Common_Bream    0                               \n",
       "F44_Fallow_Deer     0                               \n",
       "⋮                   ⋮                               \n",
       "X405_Nile_Crocodile 0                               \n",
       "X67_European_Roe    0                               \n",
       "                    e94f4096695b98afaec1d5a4517b0c87\n",
       "F14_Common_Bream      0                             \n",
       "F44_Fallow_Deer     693                             \n",
       "⋮                   ⋮                               \n",
       "X405_Nile_Crocodile  0                              \n",
       "X67_European_Roe    12                              \n",
       "                    250a31c11dbecf1e2ef705424fdaa7a7\n",
       "F14_Common_Bream    2599                            \n",
       "F44_Fallow_Deer        0                            \n",
       "⋮                   ⋮                               \n",
       "X405_Nile_Crocodile 25                              \n",
       "X67_European_Roe     0                              \n",
       "                    188795b8eb1edbd3334be2676ca05391\n",
       "F14_Common_Bream    0                               \n",
       "F44_Fallow_Deer     0                               \n",
       "⋮                   ⋮                               \n",
       "X405_Nile_Crocodile 5                               \n",
       "X67_European_Roe    0                               "
      ]
     },
     "metadata": {},
     "output_type": "display_data"
    }
   ],
   "source": [
    "# otu table\n",
    "otu = physeq_arch_SpecD %>%\n",
    "    phyloseq2df(otu_table) %>%\n",
    "    as.data.frame\n",
    "rownames(otu) = otu$OTU\n",
    "otu$OTU = NULL\n",
    "otu = otu %>% t %>% as.data.frame\n",
    "otu"
   ]
  },
  {
   "cell_type": "markdown",
   "metadata": {},
   "source": [
    "## Zero estimation"
   ]
  },
  {
   "cell_type": "code",
   "execution_count": 9,
   "metadata": {
    "ExecuteTime": {
     "end_time": "2020-06-18T12:25:05.090484Z",
     "start_time": "2020-06-18T12:25:04.807Z"
    }
   },
   "outputs": [
    {
     "data": {
      "text/html": [
       "<table>\n",
       "<caption>A matrix: 1 × 8 of type dbl</caption>\n",
       "<thead>\n",
       "\t<tr><th></th><th scope=col>Min.</th><th scope=col>1st Qu.</th><th scope=col>Median</th><th scope=col>Mean</th><th scope=col>3rd Qu.</th><th scope=col>Max.</th><th scope=col>sd</th><th scope=col>sd_err_of_mean</th></tr>\n",
       "</thead>\n",
       "<tbody>\n",
       "\t<tr><th scope=row>sparsity</th><td>3.636364</td><td>87.27273</td><td>95.90909</td><td>87.1645</td><td>97.95455</td><td>98.18182</td><td>36.947</td><td>15.084</td></tr>\n",
       "</tbody>\n",
       "</table>\n"
      ],
      "text/latex": [
       "A matrix: 1 × 8 of type dbl\n",
       "\\begin{tabular}{r|llllllll}\n",
       "  & Min. & 1st Qu. & Median & Mean & 3rd Qu. & Max. & sd & sd\\_err\\_of\\_mean\\\\\n",
       "\\hline\n",
       "\tsparsity & 3.636364 & 87.27273 & 95.90909 & 87.1645 & 97.95455 & 98.18182 & 36.947 & 15.084\\\\\n",
       "\\end{tabular}\n"
      ],
      "text/markdown": [
       "\n",
       "A matrix: 1 × 8 of type dbl\n",
       "\n",
       "| <!--/--> | Min. | 1st Qu. | Median | Mean | 3rd Qu. | Max. | sd | sd_err_of_mean |\n",
       "|---|---|---|---|---|---|---|---|---|\n",
       "| sparsity | 3.636364 | 87.27273 | 95.90909 | 87.1645 | 97.95455 | 98.18182 | 36.947 | 15.084 |\n",
       "\n"
      ],
      "text/plain": [
       "         Min.     1st Qu.  Median   Mean    3rd Qu.  Max.     sd    \n",
       "sparsity 3.636364 87.27273 95.90909 87.1645 97.95455 98.18182 36.947\n",
       "         sd_err_of_mean\n",
       "sparsity 15.084        "
      ]
     },
     "metadata": {},
     "output_type": "display_data"
    }
   ],
   "source": [
    "# sparsity (%)\n",
    "otu %>%\n",
    "    apply(2, function(x) sum(x == 0) / length(x) * 100) %>%\n",
    "    summary_x('sparsity')"
   ]
  },
  {
   "cell_type": "code",
   "execution_count": 10,
   "metadata": {
    "ExecuteTime": {
     "end_time": "2020-06-18T12:25:05.531818Z",
     "start_time": "2020-06-18T12:25:05.138Z"
    }
   },
   "outputs": [
    {
     "name": "stdout",
     "output_type": "stream",
     "text": [
      "No. corrected values:  1079 \n"
     ]
    },
    {
     "data": {
      "text/html": [
       "<table>\n",
       "<caption>A data.frame: 110 × 42</caption>\n",
       "<thead>\n",
       "\t<tr><th></th><th scope=col>c3b19986023201183d07b2bf6dc9eaab</th><th scope=col>e6ddd5efa2e9229aa04f33e832450fa8</th><th scope=col>5887dc080d027d30580310a1eb1f3166</th><th scope=col>66cc60d5322fdeaf48cc8bdd82effea2</th><th scope=col>6668cc03267d4f04b5a34d676c1db57a</th><th scope=col>252850216e7d0123bfafd7eed609799d</th><th scope=col>dc2d500b34b0dc2adb147b190d3b337a</th><th scope=col>19fff4ad5946206827aa5d91e47fbcf1</th><th scope=col>cfd2bb81e97edddddf1a843a0d6999fa</th><th scope=col>51b922408976c428c8b582162eaefb1c</th><th scope=col>⋯</th><th scope=col>2987f396047df01622b365b3b667a4eb</th><th scope=col>fef8ef65bd3598e9f1fec3bd32a9b4bd</th><th scope=col>9e6f5751d7458b48c1fd8272e3683ded</th><th scope=col>2aae9c46a33f7677efc6534f91a980bc</th><th scope=col>75f3ea1df98051a1b49107173aa51a32</th><th scope=col>1578a874797e43b052a66b2fb5ef9e4a</th><th scope=col>b7ed842d3fbe5d8d33504a0a765409ae</th><th scope=col>e94f4096695b98afaec1d5a4517b0c87</th><th scope=col>250a31c11dbecf1e2ef705424fdaa7a7</th><th scope=col>188795b8eb1edbd3334be2676ca05391</th></tr>\n",
       "\t<tr><th></th><th scope=col>&lt;dbl&gt;</th><th scope=col>&lt;dbl&gt;</th><th scope=col>&lt;dbl&gt;</th><th scope=col>&lt;dbl&gt;</th><th scope=col>&lt;dbl&gt;</th><th scope=col>&lt;dbl&gt;</th><th scope=col>&lt;dbl&gt;</th><th scope=col>&lt;dbl&gt;</th><th scope=col>&lt;dbl&gt;</th><th scope=col>&lt;dbl&gt;</th><th scope=col>⋯</th><th scope=col>&lt;dbl&gt;</th><th scope=col>&lt;dbl&gt;</th><th scope=col>&lt;dbl&gt;</th><th scope=col>&lt;dbl&gt;</th><th scope=col>&lt;dbl&gt;</th><th scope=col>&lt;dbl&gt;</th><th scope=col>&lt;dbl&gt;</th><th scope=col>&lt;dbl&gt;</th><th scope=col>&lt;dbl&gt;</th><th scope=col>&lt;dbl&gt;</th></tr>\n",
       "</thead>\n",
       "<tbody>\n",
       "\t<tr><th scope=row>F14_Common_Bream</th><td>0.03419676</td><td>0.06313249</td><td>2.0000000</td><td>0.2183332</td><td>0.3735339</td><td>0.04997988</td><td>3.961563</td><td>0.2946183</td><td>0.2262247</td><td>507.000000</td><td>⋯</td><td>  1.960887</td><td>0.1400200</td><td>  6</td><td>1.652707</td><td>1.11008</td><td>  14</td><td>0.7000999</td><td>  3.239116</td><td>2599.000000</td><td>1.652707</td></tr>\n",
       "\t<tr><th scope=row>F44_Fallow_Deer</th><td>0.03389148</td><td>0.06256889</td><td>0.1173167</td><td>0.2163841</td><td>0.3701992</td><td>0.04953370</td><td>3.926198</td><td>0.2919881</td><td>0.2242052</td><td>  3.031984</td><td>⋯</td><td>127.000000</td><td>0.2572004</td><td>443</td><td>2.849491</td><td>1.10017</td><td>5074</td><td>1.2860019</td><td>693.000000</td><td>   9.476579</td><td>3.146694</td></tr>\n",
       "\t<tr><th scope=row>⋮</th><td>⋮</td><td>⋮</td><td>⋮</td><td>⋮</td><td>⋮</td><td>⋮</td><td>⋮</td><td>⋮</td><td>⋮</td><td>⋮</td><td>⋱</td><td>⋮</td><td>⋮</td><td>⋮</td><td>⋮</td><td>⋮</td><td>⋮</td><td>⋮</td><td>⋮</td><td>⋮</td><td>⋮</td></tr>\n",
       "\t<tr><th scope=row>X405_Nile_Crocodile</th><td>0.01668630</td><td>3.0000000</td><td>0.05776027</td><td>0.1065356</td><td>0.1822657</td><td>10.00000000</td><td>1.933044</td><td>0.1437589</td><td>0.1103863</td><td>0.4854015</td><td>⋯</td><td>0.2747381</td><td>0.01961807</td><td>0.5509096</td><td>0.2315592</td><td>0.3088962</td><td>  1.285456</td><td>0.09809037</td><td> 0.4538296</td><td>25.000000</td><td>5.0000000</td></tr>\n",
       "\t<tr><th scope=row>X67_European_Roe</th><td>0.01992228</td><td>0.0367796</td><td>0.06896175</td><td>0.1271961</td><td>0.2176126</td><td> 0.02911718</td><td>2.307920</td><td>0.1716381</td><td>0.1317936</td><td>0.7344780</td><td>⋯</td><td>0.4157158</td><td>0.02968479</td><td>0.8336005</td><td>0.3503803</td><td>0.6467079</td><td>709.000000</td><td>0.14842395</td><td>12.0000000</td><td> 2.095918</td><td>0.3503803</td></tr>\n",
       "</tbody>\n",
       "</table>\n"
      ],
      "text/latex": [
       "A data.frame: 110 × 42\n",
       "\\begin{tabular}{r|lllllllllllllllllllll}\n",
       "  & c3b19986023201183d07b2bf6dc9eaab & e6ddd5efa2e9229aa04f33e832450fa8 & 5887dc080d027d30580310a1eb1f3166 & 66cc60d5322fdeaf48cc8bdd82effea2 & 6668cc03267d4f04b5a34d676c1db57a & 252850216e7d0123bfafd7eed609799d & dc2d500b34b0dc2adb147b190d3b337a & 19fff4ad5946206827aa5d91e47fbcf1 & cfd2bb81e97edddddf1a843a0d6999fa & 51b922408976c428c8b582162eaefb1c & ⋯ & 2987f396047df01622b365b3b667a4eb & fef8ef65bd3598e9f1fec3bd32a9b4bd & 9e6f5751d7458b48c1fd8272e3683ded & 2aae9c46a33f7677efc6534f91a980bc & 75f3ea1df98051a1b49107173aa51a32 & 1578a874797e43b052a66b2fb5ef9e4a & b7ed842d3fbe5d8d33504a0a765409ae & e94f4096695b98afaec1d5a4517b0c87 & 250a31c11dbecf1e2ef705424fdaa7a7 & 188795b8eb1edbd3334be2676ca05391\\\\\n",
       "  & <dbl> & <dbl> & <dbl> & <dbl> & <dbl> & <dbl> & <dbl> & <dbl> & <dbl> & <dbl> & ⋯ & <dbl> & <dbl> & <dbl> & <dbl> & <dbl> & <dbl> & <dbl> & <dbl> & <dbl> & <dbl>\\\\\n",
       "\\hline\n",
       "\tF14\\_Common\\_Bream & 0.03419676 & 0.06313249 & 2.0000000 & 0.2183332 & 0.3735339 & 0.04997988 & 3.961563 & 0.2946183 & 0.2262247 & 507.000000 & ⋯ &   1.960887 & 0.1400200 &   6 & 1.652707 & 1.11008 &   14 & 0.7000999 &   3.239116 & 2599.000000 & 1.652707\\\\\n",
       "\tF44\\_Fallow\\_Deer & 0.03389148 & 0.06256889 & 0.1173167 & 0.2163841 & 0.3701992 & 0.04953370 & 3.926198 & 0.2919881 & 0.2242052 &   3.031984 & ⋯ & 127.000000 & 0.2572004 & 443 & 2.849491 & 1.10017 & 5074 & 1.2860019 & 693.000000 &    9.476579 & 3.146694\\\\\n",
       "\t⋮ & ⋮ & ⋮ & ⋮ & ⋮ & ⋮ & ⋮ & ⋮ & ⋮ & ⋮ & ⋮ & ⋱ & ⋮ & ⋮ & ⋮ & ⋮ & ⋮ & ⋮ & ⋮ & ⋮ & ⋮ & ⋮\\\\\n",
       "\tX405\\_Nile\\_Crocodile & 0.01668630 & 3.0000000 & 0.05776027 & 0.1065356 & 0.1822657 & 10.00000000 & 1.933044 & 0.1437589 & 0.1103863 & 0.4854015 & ⋯ & 0.2747381 & 0.01961807 & 0.5509096 & 0.2315592 & 0.3088962 &   1.285456 & 0.09809037 &  0.4538296 & 25.000000 & 5.0000000\\\\\n",
       "\tX67\\_European\\_Roe & 0.01992228 & 0.0367796 & 0.06896175 & 0.1271961 & 0.2176126 &  0.02911718 & 2.307920 & 0.1716381 & 0.1317936 & 0.7344780 & ⋯ & 0.4157158 & 0.02968479 & 0.8336005 & 0.3503803 & 0.6467079 & 709.000000 & 0.14842395 & 12.0000000 &  2.095918 & 0.3503803\\\\\n",
       "\\end{tabular}\n"
      ],
      "text/markdown": [
       "\n",
       "A data.frame: 110 × 42\n",
       "\n",
       "| <!--/--> | c3b19986023201183d07b2bf6dc9eaab &lt;dbl&gt; | e6ddd5efa2e9229aa04f33e832450fa8 &lt;dbl&gt; | 5887dc080d027d30580310a1eb1f3166 &lt;dbl&gt; | 66cc60d5322fdeaf48cc8bdd82effea2 &lt;dbl&gt; | 6668cc03267d4f04b5a34d676c1db57a &lt;dbl&gt; | 252850216e7d0123bfafd7eed609799d &lt;dbl&gt; | dc2d500b34b0dc2adb147b190d3b337a &lt;dbl&gt; | 19fff4ad5946206827aa5d91e47fbcf1 &lt;dbl&gt; | cfd2bb81e97edddddf1a843a0d6999fa &lt;dbl&gt; | 51b922408976c428c8b582162eaefb1c &lt;dbl&gt; | ⋯ ⋯ | 2987f396047df01622b365b3b667a4eb &lt;dbl&gt; | fef8ef65bd3598e9f1fec3bd32a9b4bd &lt;dbl&gt; | 9e6f5751d7458b48c1fd8272e3683ded &lt;dbl&gt; | 2aae9c46a33f7677efc6534f91a980bc &lt;dbl&gt; | 75f3ea1df98051a1b49107173aa51a32 &lt;dbl&gt; | 1578a874797e43b052a66b2fb5ef9e4a &lt;dbl&gt; | b7ed842d3fbe5d8d33504a0a765409ae &lt;dbl&gt; | e94f4096695b98afaec1d5a4517b0c87 &lt;dbl&gt; | 250a31c11dbecf1e2ef705424fdaa7a7 &lt;dbl&gt; | 188795b8eb1edbd3334be2676ca05391 &lt;dbl&gt; |\n",
       "|---|---|---|---|---|---|---|---|---|---|---|---|---|---|---|---|---|---|---|---|---|---|\n",
       "| F14_Common_Bream | 0.03419676 | 0.06313249 | 2.0000000 | 0.2183332 | 0.3735339 | 0.04997988 | 3.961563 | 0.2946183 | 0.2262247 | 507.000000 | ⋯ |   1.960887 | 0.1400200 |   6 | 1.652707 | 1.11008 |   14 | 0.7000999 |   3.239116 | 2599.000000 | 1.652707 |\n",
       "| F44_Fallow_Deer | 0.03389148 | 0.06256889 | 0.1173167 | 0.2163841 | 0.3701992 | 0.04953370 | 3.926198 | 0.2919881 | 0.2242052 |   3.031984 | ⋯ | 127.000000 | 0.2572004 | 443 | 2.849491 | 1.10017 | 5074 | 1.2860019 | 693.000000 |    9.476579 | 3.146694 |\n",
       "| ⋮ | ⋮ | ⋮ | ⋮ | ⋮ | ⋮ | ⋮ | ⋮ | ⋮ | ⋮ | ⋮ | ⋱ | ⋮ | ⋮ | ⋮ | ⋮ | ⋮ | ⋮ | ⋮ | ⋮ | ⋮ | ⋮ |\n",
       "| X405_Nile_Crocodile | 0.01668630 | 3.0000000 | 0.05776027 | 0.1065356 | 0.1822657 | 10.00000000 | 1.933044 | 0.1437589 | 0.1103863 | 0.4854015 | ⋯ | 0.2747381 | 0.01961807 | 0.5509096 | 0.2315592 | 0.3088962 |   1.285456 | 0.09809037 |  0.4538296 | 25.000000 | 5.0000000 |\n",
       "| X67_European_Roe | 0.01992228 | 0.0367796 | 0.06896175 | 0.1271961 | 0.2176126 |  0.02911718 | 2.307920 | 0.1716381 | 0.1317936 | 0.7344780 | ⋯ | 0.4157158 | 0.02968479 | 0.8336005 | 0.3503803 | 0.6467079 | 709.000000 | 0.14842395 | 12.0000000 |  2.095918 | 0.3503803 |\n",
       "\n"
      ],
      "text/plain": [
       "                    c3b19986023201183d07b2bf6dc9eaab\n",
       "F14_Common_Bream    0.03419676                      \n",
       "F44_Fallow_Deer     0.03389148                      \n",
       "⋮                   ⋮                               \n",
       "X405_Nile_Crocodile 0.01668630                      \n",
       "X67_European_Roe    0.01992228                      \n",
       "                    e6ddd5efa2e9229aa04f33e832450fa8\n",
       "F14_Common_Bream    0.06313249                      \n",
       "F44_Fallow_Deer     0.06256889                      \n",
       "⋮                   ⋮                               \n",
       "X405_Nile_Crocodile 3.0000000                       \n",
       "X67_European_Roe    0.0367796                       \n",
       "                    5887dc080d027d30580310a1eb1f3166\n",
       "F14_Common_Bream    2.0000000                       \n",
       "F44_Fallow_Deer     0.1173167                       \n",
       "⋮                   ⋮                               \n",
       "X405_Nile_Crocodile 0.05776027                      \n",
       "X67_European_Roe    0.06896175                      \n",
       "                    66cc60d5322fdeaf48cc8bdd82effea2\n",
       "F14_Common_Bream    0.2183332                       \n",
       "F44_Fallow_Deer     0.2163841                       \n",
       "⋮                   ⋮                               \n",
       "X405_Nile_Crocodile 0.1065356                       \n",
       "X67_European_Roe    0.1271961                       \n",
       "                    6668cc03267d4f04b5a34d676c1db57a\n",
       "F14_Common_Bream    0.3735339                       \n",
       "F44_Fallow_Deer     0.3701992                       \n",
       "⋮                   ⋮                               \n",
       "X405_Nile_Crocodile 0.1822657                       \n",
       "X67_European_Roe    0.2176126                       \n",
       "                    252850216e7d0123bfafd7eed609799d\n",
       "F14_Common_Bream    0.04997988                      \n",
       "F44_Fallow_Deer     0.04953370                      \n",
       "⋮                   ⋮                               \n",
       "X405_Nile_Crocodile 10.00000000                     \n",
       "X67_European_Roe     0.02911718                     \n",
       "                    dc2d500b34b0dc2adb147b190d3b337a\n",
       "F14_Common_Bream    3.961563                        \n",
       "F44_Fallow_Deer     3.926198                        \n",
       "⋮                   ⋮                               \n",
       "X405_Nile_Crocodile 1.933044                        \n",
       "X67_European_Roe    2.307920                        \n",
       "                    19fff4ad5946206827aa5d91e47fbcf1\n",
       "F14_Common_Bream    0.2946183                       \n",
       "F44_Fallow_Deer     0.2919881                       \n",
       "⋮                   ⋮                               \n",
       "X405_Nile_Crocodile 0.1437589                       \n",
       "X67_European_Roe    0.1716381                       \n",
       "                    cfd2bb81e97edddddf1a843a0d6999fa\n",
       "F14_Common_Bream    0.2262247                       \n",
       "F44_Fallow_Deer     0.2242052                       \n",
       "⋮                   ⋮                               \n",
       "X405_Nile_Crocodile 0.1103863                       \n",
       "X67_European_Roe    0.1317936                       \n",
       "                    51b922408976c428c8b582162eaefb1c ⋯\n",
       "F14_Common_Bream    507.000000                       ⋯\n",
       "F44_Fallow_Deer       3.031984                       ⋯\n",
       "⋮                   ⋮                                ⋱\n",
       "X405_Nile_Crocodile 0.4854015                        ⋯\n",
       "X67_European_Roe    0.7344780                        ⋯\n",
       "                    2987f396047df01622b365b3b667a4eb\n",
       "F14_Common_Bream      1.960887                      \n",
       "F44_Fallow_Deer     127.000000                      \n",
       "⋮                   ⋮                               \n",
       "X405_Nile_Crocodile 0.2747381                       \n",
       "X67_European_Roe    0.4157158                       \n",
       "                    fef8ef65bd3598e9f1fec3bd32a9b4bd\n",
       "F14_Common_Bream    0.1400200                       \n",
       "F44_Fallow_Deer     0.2572004                       \n",
       "⋮                   ⋮                               \n",
       "X405_Nile_Crocodile 0.01961807                      \n",
       "X67_European_Roe    0.02968479                      \n",
       "                    9e6f5751d7458b48c1fd8272e3683ded\n",
       "F14_Common_Bream      6                             \n",
       "F44_Fallow_Deer     443                             \n",
       "⋮                   ⋮                               \n",
       "X405_Nile_Crocodile 0.5509096                       \n",
       "X67_European_Roe    0.8336005                       \n",
       "                    2aae9c46a33f7677efc6534f91a980bc\n",
       "F14_Common_Bream    1.652707                        \n",
       "F44_Fallow_Deer     2.849491                        \n",
       "⋮                   ⋮                               \n",
       "X405_Nile_Crocodile 0.2315592                       \n",
       "X67_European_Roe    0.3503803                       \n",
       "                    75f3ea1df98051a1b49107173aa51a32\n",
       "F14_Common_Bream    1.11008                         \n",
       "F44_Fallow_Deer     1.10017                         \n",
       "⋮                   ⋮                               \n",
       "X405_Nile_Crocodile 0.3088962                       \n",
       "X67_European_Roe    0.6467079                       \n",
       "                    1578a874797e43b052a66b2fb5ef9e4a\n",
       "F14_Common_Bream      14                            \n",
       "F44_Fallow_Deer     5074                            \n",
       "⋮                   ⋮                               \n",
       "X405_Nile_Crocodile   1.285456                      \n",
       "X67_European_Roe    709.000000                      \n",
       "                    b7ed842d3fbe5d8d33504a0a765409ae\n",
       "F14_Common_Bream    0.7000999                       \n",
       "F44_Fallow_Deer     1.2860019                       \n",
       "⋮                   ⋮                               \n",
       "X405_Nile_Crocodile 0.09809037                      \n",
       "X67_European_Roe    0.14842395                      \n",
       "                    e94f4096695b98afaec1d5a4517b0c87\n",
       "F14_Common_Bream      3.239116                      \n",
       "F44_Fallow_Deer     693.000000                      \n",
       "⋮                   ⋮                               \n",
       "X405_Nile_Crocodile  0.4538296                      \n",
       "X67_European_Roe    12.0000000                      \n",
       "                    250a31c11dbecf1e2ef705424fdaa7a7\n",
       "F14_Common_Bream    2599.000000                     \n",
       "F44_Fallow_Deer        9.476579                     \n",
       "⋮                   ⋮                               \n",
       "X405_Nile_Crocodile 25.000000                       \n",
       "X67_European_Roe     2.095918                       \n",
       "                    188795b8eb1edbd3334be2676ca05391\n",
       "F14_Common_Bream    1.652707                        \n",
       "F44_Fallow_Deer     3.146694                        \n",
       "⋮                   ⋮                               \n",
       "X405_Nile_Crocodile 5.0000000                       \n",
       "X67_European_Roe    0.3503803                       "
      ]
     },
     "metadata": {},
     "output_type": "display_data"
    }
   ],
   "source": [
    "# inferring zeros\n",
    "## warning: a bit slow\n",
    "otu = cmultRepl(otu, output = 'p-counts')\n",
    "otu"
   ]
  },
  {
   "cell_type": "code",
   "execution_count": 11,
   "metadata": {
    "ExecuteTime": {
     "end_time": "2020-06-18T12:25:07.103248Z",
     "start_time": "2020-06-18T12:25:07.039Z"
    }
   },
   "outputs": [
    {
     "data": {
      "text/html": [
       "<table>\n",
       "<caption>A matrix: 1 × 8 of type dbl</caption>\n",
       "<thead>\n",
       "\t<tr><th></th><th scope=col>Min.</th><th scope=col>1st Qu.</th><th scope=col>Median</th><th scope=col>Mean</th><th scope=col>3rd Qu.</th><th scope=col>Max.</th><th scope=col>sd</th><th scope=col>sd_err_of_mean</th></tr>\n",
       "</thead>\n",
       "<tbody>\n",
       "\t<tr><th scope=row>sparsity</th><td>0</td><td>0</td><td>0</td><td>0</td><td>0</td><td>0</td><td>0</td><td>0</td></tr>\n",
       "</tbody>\n",
       "</table>\n"
      ],
      "text/latex": [
       "A matrix: 1 × 8 of type dbl\n",
       "\\begin{tabular}{r|llllllll}\n",
       "  & Min. & 1st Qu. & Median & Mean & 3rd Qu. & Max. & sd & sd\\_err\\_of\\_mean\\\\\n",
       "\\hline\n",
       "\tsparsity & 0 & 0 & 0 & 0 & 0 & 0 & 0 & 0\\\\\n",
       "\\end{tabular}\n"
      ],
      "text/markdown": [
       "\n",
       "A matrix: 1 × 8 of type dbl\n",
       "\n",
       "| <!--/--> | Min. | 1st Qu. | Median | Mean | 3rd Qu. | Max. | sd | sd_err_of_mean |\n",
       "|---|---|---|---|---|---|---|---|---|\n",
       "| sparsity | 0 | 0 | 0 | 0 | 0 | 0 | 0 | 0 |\n",
       "\n"
      ],
      "text/plain": [
       "         Min. 1st Qu. Median Mean 3rd Qu. Max. sd sd_err_of_mean\n",
       "sparsity 0    0       0      0    0       0    0  0             "
      ]
     },
     "metadata": {},
     "output_type": "display_data"
    }
   ],
   "source": [
    "# check\n",
    "## sparsity (%)\n",
    "otu %>%\n",
    "    apply(1, function(x) sum(x == 0) / length(x) * 100) %>%\n",
    "    summary_x('sparsity')"
   ]
  },
  {
   "cell_type": "markdown",
   "metadata": {},
   "source": [
    "## clr transformation"
   ]
  },
  {
   "cell_type": "code",
   "execution_count": 12,
   "metadata": {
    "ExecuteTime": {
     "end_time": "2020-06-18T12:25:12.080298Z",
     "start_time": "2020-06-18T12:25:11.903Z"
    }
   },
   "outputs": [
    {
     "data": {
      "text/html": [
       "<table>\n",
       "<caption>A data.frame: 110 × 42</caption>\n",
       "<thead>\n",
       "\t<tr><th></th><th scope=col>c3b19986023201183d07b2bf6dc9eaab</th><th scope=col>e6ddd5efa2e9229aa04f33e832450fa8</th><th scope=col>5887dc080d027d30580310a1eb1f3166</th><th scope=col>66cc60d5322fdeaf48cc8bdd82effea2</th><th scope=col>6668cc03267d4f04b5a34d676c1db57a</th><th scope=col>252850216e7d0123bfafd7eed609799d</th><th scope=col>dc2d500b34b0dc2adb147b190d3b337a</th><th scope=col>19fff4ad5946206827aa5d91e47fbcf1</th><th scope=col>cfd2bb81e97edddddf1a843a0d6999fa</th><th scope=col>51b922408976c428c8b582162eaefb1c</th><th scope=col>⋯</th><th scope=col>2987f396047df01622b365b3b667a4eb</th><th scope=col>fef8ef65bd3598e9f1fec3bd32a9b4bd</th><th scope=col>9e6f5751d7458b48c1fd8272e3683ded</th><th scope=col>2aae9c46a33f7677efc6534f91a980bc</th><th scope=col>75f3ea1df98051a1b49107173aa51a32</th><th scope=col>1578a874797e43b052a66b2fb5ef9e4a</th><th scope=col>b7ed842d3fbe5d8d33504a0a765409ae</th><th scope=col>e94f4096695b98afaec1d5a4517b0c87</th><th scope=col>250a31c11dbecf1e2ef705424fdaa7a7</th><th scope=col>188795b8eb1edbd3334be2676ca05391</th></tr>\n",
       "\t<tr><th></th><th scope=col>&lt;dbl&gt;</th><th scope=col>&lt;dbl&gt;</th><th scope=col>&lt;dbl&gt;</th><th scope=col>&lt;dbl&gt;</th><th scope=col>&lt;dbl&gt;</th><th scope=col>&lt;dbl&gt;</th><th scope=col>&lt;dbl&gt;</th><th scope=col>&lt;dbl&gt;</th><th scope=col>&lt;dbl&gt;</th><th scope=col>&lt;dbl&gt;</th><th scope=col>⋯</th><th scope=col>&lt;dbl&gt;</th><th scope=col>&lt;dbl&gt;</th><th scope=col>&lt;dbl&gt;</th><th scope=col>&lt;dbl&gt;</th><th scope=col>&lt;dbl&gt;</th><th scope=col>&lt;dbl&gt;</th><th scope=col>&lt;dbl&gt;</th><th scope=col>&lt;dbl&gt;</th><th scope=col>&lt;dbl&gt;</th><th scope=col>&lt;dbl&gt;</th></tr>\n",
       "</thead>\n",
       "<tbody>\n",
       "\t<tr><th scope=row>F14_Common_Bream</th><td>-3.787002</td><td>-3.173898</td><td> 0.2817694</td><td>-1.933111</td><td>-1.3961243</td><td>-3.407512</td><td>0.965261</td><td>-1.633453</td><td>-1.897604</td><td>5.817133</td><td>⋯</td><td>0.2620191</td><td>-2.377348</td><td>1.380382</td><td>0.09103657</td><td>-0.3069461</td><td>2.227680</td><td>-0.7679100</td><td>0.7639226</td><td>7.451504</td><td>0.09103657</td></tr>\n",
       "\t<tr><th scope=row>F44_Fallow_Deer</th><td>-3.330035</td><td>-2.716931</td><td>-2.0883219</td><td>-1.476144</td><td>-0.9391573</td><td>-2.950545</td><td>1.422228</td><td>-1.176486</td><td>-1.440637</td><td>1.163774</td><td>⋯</td><td>4.8987437</td><td>-1.303343</td><td>6.148126</td><td>1.10169710</td><td> 0.1500209</td><td>8.586441</td><td> 0.3060947</td><td>6.5955866</td><td>2.303380</td><td>1.20090883</td></tr>\n",
       "\t<tr><th scope=row>⋮</th><td>⋮</td><td>⋮</td><td>⋮</td><td>⋮</td><td>⋮</td><td>⋮</td><td>⋮</td><td>⋮</td><td>⋮</td><td>⋮</td><td>⋱</td><td>⋮</td><td>⋮</td><td>⋮</td><td>⋮</td><td>⋮</td><td>⋮</td><td>⋮</td><td>⋮</td><td>⋮</td><td>⋮</td></tr>\n",
       "\t<tr><th scope=row>X405_Nile_Crocodile</th><td>-3.778480</td><td> 1.413299</td><td>-2.536767</td><td>-1.924589</td><td>-1.3876026</td><td> 2.617272</td><td>0.9737828</td><td>-1.6249308</td><td>-1.8890824</td><td>-0.4080918</td><td>⋯</td><td>-0.9772499</td><td>-3.616617</td><td>-0.2814975</td><td>-1.1482325</td><td>-0.8600630</td><td>0.5658004</td><td>-2.0071791</td><td>-0.4753465</td><td>3.533563</td><td>1.9241249</td></tr>\n",
       "\t<tr><th scope=row>X67_European_Roe</th><td>-2.569378</td><td>-1.956274</td><td>-1.327665</td><td>-0.715487</td><td>-0.1785006</td><td>-2.189889</td><td>2.1828848</td><td>-0.4158288</td><td>-0.6799804</td><td> 1.0379429</td><td>⋯</td><td> 0.4687847</td><td>-2.170582</td><td> 1.1645372</td><td> 0.2978021</td><td> 0.9106777</td><td>7.9103937</td><td>-0.5611444</td><td> 3.8314448</td><td>2.086530</td><td>0.2978021</td></tr>\n",
       "</tbody>\n",
       "</table>\n"
      ],
      "text/latex": [
       "A data.frame: 110 × 42\n",
       "\\begin{tabular}{r|lllllllllllllllllllll}\n",
       "  & c3b19986023201183d07b2bf6dc9eaab & e6ddd5efa2e9229aa04f33e832450fa8 & 5887dc080d027d30580310a1eb1f3166 & 66cc60d5322fdeaf48cc8bdd82effea2 & 6668cc03267d4f04b5a34d676c1db57a & 252850216e7d0123bfafd7eed609799d & dc2d500b34b0dc2adb147b190d3b337a & 19fff4ad5946206827aa5d91e47fbcf1 & cfd2bb81e97edddddf1a843a0d6999fa & 51b922408976c428c8b582162eaefb1c & ⋯ & 2987f396047df01622b365b3b667a4eb & fef8ef65bd3598e9f1fec3bd32a9b4bd & 9e6f5751d7458b48c1fd8272e3683ded & 2aae9c46a33f7677efc6534f91a980bc & 75f3ea1df98051a1b49107173aa51a32 & 1578a874797e43b052a66b2fb5ef9e4a & b7ed842d3fbe5d8d33504a0a765409ae & e94f4096695b98afaec1d5a4517b0c87 & 250a31c11dbecf1e2ef705424fdaa7a7 & 188795b8eb1edbd3334be2676ca05391\\\\\n",
       "  & <dbl> & <dbl> & <dbl> & <dbl> & <dbl> & <dbl> & <dbl> & <dbl> & <dbl> & <dbl> & ⋯ & <dbl> & <dbl> & <dbl> & <dbl> & <dbl> & <dbl> & <dbl> & <dbl> & <dbl> & <dbl>\\\\\n",
       "\\hline\n",
       "\tF14\\_Common\\_Bream & -3.787002 & -3.173898 &  0.2817694 & -1.933111 & -1.3961243 & -3.407512 & 0.965261 & -1.633453 & -1.897604 & 5.817133 & ⋯ & 0.2620191 & -2.377348 & 1.380382 & 0.09103657 & -0.3069461 & 2.227680 & -0.7679100 & 0.7639226 & 7.451504 & 0.09103657\\\\\n",
       "\tF44\\_Fallow\\_Deer & -3.330035 & -2.716931 & -2.0883219 & -1.476144 & -0.9391573 & -2.950545 & 1.422228 & -1.176486 & -1.440637 & 1.163774 & ⋯ & 4.8987437 & -1.303343 & 6.148126 & 1.10169710 &  0.1500209 & 8.586441 &  0.3060947 & 6.5955866 & 2.303380 & 1.20090883\\\\\n",
       "\t⋮ & ⋮ & ⋮ & ⋮ & ⋮ & ⋮ & ⋮ & ⋮ & ⋮ & ⋮ & ⋮ & ⋱ & ⋮ & ⋮ & ⋮ & ⋮ & ⋮ & ⋮ & ⋮ & ⋮ & ⋮ & ⋮\\\\\n",
       "\tX405\\_Nile\\_Crocodile & -3.778480 &  1.413299 & -2.536767 & -1.924589 & -1.3876026 &  2.617272 & 0.9737828 & -1.6249308 & -1.8890824 & -0.4080918 & ⋯ & -0.9772499 & -3.616617 & -0.2814975 & -1.1482325 & -0.8600630 & 0.5658004 & -2.0071791 & -0.4753465 & 3.533563 & 1.9241249\\\\\n",
       "\tX67\\_European\\_Roe & -2.569378 & -1.956274 & -1.327665 & -0.715487 & -0.1785006 & -2.189889 & 2.1828848 & -0.4158288 & -0.6799804 &  1.0379429 & ⋯ &  0.4687847 & -2.170582 &  1.1645372 &  0.2978021 &  0.9106777 & 7.9103937 & -0.5611444 &  3.8314448 & 2.086530 & 0.2978021\\\\\n",
       "\\end{tabular}\n"
      ],
      "text/markdown": [
       "\n",
       "A data.frame: 110 × 42\n",
       "\n",
       "| <!--/--> | c3b19986023201183d07b2bf6dc9eaab &lt;dbl&gt; | e6ddd5efa2e9229aa04f33e832450fa8 &lt;dbl&gt; | 5887dc080d027d30580310a1eb1f3166 &lt;dbl&gt; | 66cc60d5322fdeaf48cc8bdd82effea2 &lt;dbl&gt; | 6668cc03267d4f04b5a34d676c1db57a &lt;dbl&gt; | 252850216e7d0123bfafd7eed609799d &lt;dbl&gt; | dc2d500b34b0dc2adb147b190d3b337a &lt;dbl&gt; | 19fff4ad5946206827aa5d91e47fbcf1 &lt;dbl&gt; | cfd2bb81e97edddddf1a843a0d6999fa &lt;dbl&gt; | 51b922408976c428c8b582162eaefb1c &lt;dbl&gt; | ⋯ ⋯ | 2987f396047df01622b365b3b667a4eb &lt;dbl&gt; | fef8ef65bd3598e9f1fec3bd32a9b4bd &lt;dbl&gt; | 9e6f5751d7458b48c1fd8272e3683ded &lt;dbl&gt; | 2aae9c46a33f7677efc6534f91a980bc &lt;dbl&gt; | 75f3ea1df98051a1b49107173aa51a32 &lt;dbl&gt; | 1578a874797e43b052a66b2fb5ef9e4a &lt;dbl&gt; | b7ed842d3fbe5d8d33504a0a765409ae &lt;dbl&gt; | e94f4096695b98afaec1d5a4517b0c87 &lt;dbl&gt; | 250a31c11dbecf1e2ef705424fdaa7a7 &lt;dbl&gt; | 188795b8eb1edbd3334be2676ca05391 &lt;dbl&gt; |\n",
       "|---|---|---|---|---|---|---|---|---|---|---|---|---|---|---|---|---|---|---|---|---|---|\n",
       "| F14_Common_Bream | -3.787002 | -3.173898 |  0.2817694 | -1.933111 | -1.3961243 | -3.407512 | 0.965261 | -1.633453 | -1.897604 | 5.817133 | ⋯ | 0.2620191 | -2.377348 | 1.380382 | 0.09103657 | -0.3069461 | 2.227680 | -0.7679100 | 0.7639226 | 7.451504 | 0.09103657 |\n",
       "| F44_Fallow_Deer | -3.330035 | -2.716931 | -2.0883219 | -1.476144 | -0.9391573 | -2.950545 | 1.422228 | -1.176486 | -1.440637 | 1.163774 | ⋯ | 4.8987437 | -1.303343 | 6.148126 | 1.10169710 |  0.1500209 | 8.586441 |  0.3060947 | 6.5955866 | 2.303380 | 1.20090883 |\n",
       "| ⋮ | ⋮ | ⋮ | ⋮ | ⋮ | ⋮ | ⋮ | ⋮ | ⋮ | ⋮ | ⋮ | ⋱ | ⋮ | ⋮ | ⋮ | ⋮ | ⋮ | ⋮ | ⋮ | ⋮ | ⋮ | ⋮ |\n",
       "| X405_Nile_Crocodile | -3.778480 |  1.413299 | -2.536767 | -1.924589 | -1.3876026 |  2.617272 | 0.9737828 | -1.6249308 | -1.8890824 | -0.4080918 | ⋯ | -0.9772499 | -3.616617 | -0.2814975 | -1.1482325 | -0.8600630 | 0.5658004 | -2.0071791 | -0.4753465 | 3.533563 | 1.9241249 |\n",
       "| X67_European_Roe | -2.569378 | -1.956274 | -1.327665 | -0.715487 | -0.1785006 | -2.189889 | 2.1828848 | -0.4158288 | -0.6799804 |  1.0379429 | ⋯ |  0.4687847 | -2.170582 |  1.1645372 |  0.2978021 |  0.9106777 | 7.9103937 | -0.5611444 |  3.8314448 | 2.086530 | 0.2978021 |\n",
       "\n"
      ],
      "text/plain": [
       "                    c3b19986023201183d07b2bf6dc9eaab\n",
       "F14_Common_Bream    -3.787002                       \n",
       "F44_Fallow_Deer     -3.330035                       \n",
       "⋮                   ⋮                               \n",
       "X405_Nile_Crocodile -3.778480                       \n",
       "X67_European_Roe    -2.569378                       \n",
       "                    e6ddd5efa2e9229aa04f33e832450fa8\n",
       "F14_Common_Bream    -3.173898                       \n",
       "F44_Fallow_Deer     -2.716931                       \n",
       "⋮                   ⋮                               \n",
       "X405_Nile_Crocodile  1.413299                       \n",
       "X67_European_Roe    -1.956274                       \n",
       "                    5887dc080d027d30580310a1eb1f3166\n",
       "F14_Common_Bream     0.2817694                      \n",
       "F44_Fallow_Deer     -2.0883219                      \n",
       "⋮                   ⋮                               \n",
       "X405_Nile_Crocodile -2.536767                       \n",
       "X67_European_Roe    -1.327665                       \n",
       "                    66cc60d5322fdeaf48cc8bdd82effea2\n",
       "F14_Common_Bream    -1.933111                       \n",
       "F44_Fallow_Deer     -1.476144                       \n",
       "⋮                   ⋮                               \n",
       "X405_Nile_Crocodile -1.924589                       \n",
       "X67_European_Roe    -0.715487                       \n",
       "                    6668cc03267d4f04b5a34d676c1db57a\n",
       "F14_Common_Bream    -1.3961243                      \n",
       "F44_Fallow_Deer     -0.9391573                      \n",
       "⋮                   ⋮                               \n",
       "X405_Nile_Crocodile -1.3876026                      \n",
       "X67_European_Roe    -0.1785006                      \n",
       "                    252850216e7d0123bfafd7eed609799d\n",
       "F14_Common_Bream    -3.407512                       \n",
       "F44_Fallow_Deer     -2.950545                       \n",
       "⋮                   ⋮                               \n",
       "X405_Nile_Crocodile  2.617272                       \n",
       "X67_European_Roe    -2.189889                       \n",
       "                    dc2d500b34b0dc2adb147b190d3b337a\n",
       "F14_Common_Bream    0.965261                        \n",
       "F44_Fallow_Deer     1.422228                        \n",
       "⋮                   ⋮                               \n",
       "X405_Nile_Crocodile 0.9737828                       \n",
       "X67_European_Roe    2.1828848                       \n",
       "                    19fff4ad5946206827aa5d91e47fbcf1\n",
       "F14_Common_Bream    -1.633453                       \n",
       "F44_Fallow_Deer     -1.176486                       \n",
       "⋮                   ⋮                               \n",
       "X405_Nile_Crocodile -1.6249308                      \n",
       "X67_European_Roe    -0.4158288                      \n",
       "                    cfd2bb81e97edddddf1a843a0d6999fa\n",
       "F14_Common_Bream    -1.897604                       \n",
       "F44_Fallow_Deer     -1.440637                       \n",
       "⋮                   ⋮                               \n",
       "X405_Nile_Crocodile -1.8890824                      \n",
       "X67_European_Roe    -0.6799804                      \n",
       "                    51b922408976c428c8b582162eaefb1c ⋯\n",
       "F14_Common_Bream    5.817133                         ⋯\n",
       "F44_Fallow_Deer     1.163774                         ⋯\n",
       "⋮                   ⋮                                ⋱\n",
       "X405_Nile_Crocodile -0.4080918                       ⋯\n",
       "X67_European_Roe     1.0379429                       ⋯\n",
       "                    2987f396047df01622b365b3b667a4eb\n",
       "F14_Common_Bream    0.2620191                       \n",
       "F44_Fallow_Deer     4.8987437                       \n",
       "⋮                   ⋮                               \n",
       "X405_Nile_Crocodile -0.9772499                      \n",
       "X67_European_Roe     0.4687847                      \n",
       "                    fef8ef65bd3598e9f1fec3bd32a9b4bd\n",
       "F14_Common_Bream    -2.377348                       \n",
       "F44_Fallow_Deer     -1.303343                       \n",
       "⋮                   ⋮                               \n",
       "X405_Nile_Crocodile -3.616617                       \n",
       "X67_European_Roe    -2.170582                       \n",
       "                    9e6f5751d7458b48c1fd8272e3683ded\n",
       "F14_Common_Bream    1.380382                        \n",
       "F44_Fallow_Deer     6.148126                        \n",
       "⋮                   ⋮                               \n",
       "X405_Nile_Crocodile -0.2814975                      \n",
       "X67_European_Roe     1.1645372                      \n",
       "                    2aae9c46a33f7677efc6534f91a980bc\n",
       "F14_Common_Bream    0.09103657                      \n",
       "F44_Fallow_Deer     1.10169710                      \n",
       "⋮                   ⋮                               \n",
       "X405_Nile_Crocodile -1.1482325                      \n",
       "X67_European_Roe     0.2978021                      \n",
       "                    75f3ea1df98051a1b49107173aa51a32\n",
       "F14_Common_Bream    -0.3069461                      \n",
       "F44_Fallow_Deer      0.1500209                      \n",
       "⋮                   ⋮                               \n",
       "X405_Nile_Crocodile -0.8600630                      \n",
       "X67_European_Roe     0.9106777                      \n",
       "                    1578a874797e43b052a66b2fb5ef9e4a\n",
       "F14_Common_Bream    2.227680                        \n",
       "F44_Fallow_Deer     8.586441                        \n",
       "⋮                   ⋮                               \n",
       "X405_Nile_Crocodile 0.5658004                       \n",
       "X67_European_Roe    7.9103937                       \n",
       "                    b7ed842d3fbe5d8d33504a0a765409ae\n",
       "F14_Common_Bream    -0.7679100                      \n",
       "F44_Fallow_Deer      0.3060947                      \n",
       "⋮                   ⋮                               \n",
       "X405_Nile_Crocodile -2.0071791                      \n",
       "X67_European_Roe    -0.5611444                      \n",
       "                    e94f4096695b98afaec1d5a4517b0c87\n",
       "F14_Common_Bream    0.7639226                       \n",
       "F44_Fallow_Deer     6.5955866                       \n",
       "⋮                   ⋮                               \n",
       "X405_Nile_Crocodile -0.4753465                      \n",
       "X67_European_Roe     3.8314448                      \n",
       "                    250a31c11dbecf1e2ef705424fdaa7a7\n",
       "F14_Common_Bream    7.451504                        \n",
       "F44_Fallow_Deer     2.303380                        \n",
       "⋮                   ⋮                               \n",
       "X405_Nile_Crocodile 3.533563                        \n",
       "X67_European_Roe    2.086530                        \n",
       "                    188795b8eb1edbd3334be2676ca05391\n",
       "F14_Common_Bream    0.09103657                      \n",
       "F44_Fallow_Deer     1.20090883                      \n",
       "⋮                   ⋮                               \n",
       "X405_Nile_Crocodile 1.9241249                       \n",
       "X67_European_Roe    0.2978021                       "
      ]
     },
     "metadata": {},
     "output_type": "display_data"
    }
   ],
   "source": [
    "# transforming\n",
    "otu = compositions::clr(otu) %>%\n",
    "    as.data.frame\n",
    "otu"
   ]
  },
  {
   "cell_type": "code",
   "execution_count": 13,
   "metadata": {
    "ExecuteTime": {
     "end_time": "2020-06-18T12:25:12.667805Z",
     "start_time": "2020-06-18T12:25:12.607Z"
    }
   },
   "outputs": [
    {
     "data": {
      "text/plain": [
       "      Min.    1st Qu.     Median       Mean    3rd Qu.       Max. \n",
       "-2.598e-14 -3.740e-15  3.608e-16 -1.711e-16  3.969e-15  2.065e-14 "
      ]
     },
     "metadata": {},
     "output_type": "display_data"
    },
    {
     "data": {
      "text/plain": [
       "   Min. 1st Qu.  Median    Mean 3rd Qu.    Max. \n",
       "-333.20 -166.52   20.96    0.00  132.43  652.24 "
      ]
     },
     "metadata": {},
     "output_type": "display_data"
    }
   ],
   "source": [
    "# summary\n",
    "otu %>% rowSums %>% summary\n",
    "otu %>% colSums %>% summary"
   ]
  },
  {
   "cell_type": "markdown",
   "metadata": {},
   "source": [
    "## New phyloseq obj."
   ]
  },
  {
   "cell_type": "code",
   "execution_count": 14,
   "metadata": {
    "ExecuteTime": {
     "end_time": "2020-06-18T12:25:17.663749Z",
     "start_time": "2020-06-18T12:25:17.582Z"
    }
   },
   "outputs": [
    {
     "data": {
      "text/plain": [
       "phyloseq-class experiment-level object\n",
       "otu_table()   OTU Table:         [ 42 taxa and 110 samples ]\n",
       "sample_data() Sample Data:       [ 110 samples by 88 sample variables ]\n",
       "tax_table()   Taxonomy Table:    [ 42 taxa by 7 taxonomic ranks ]\n",
       "phy_tree()    Phylogenetic Tree: [ 42 tips and 41 internal nodes ]"
      ]
     },
     "metadata": {},
     "output_type": "display_data"
    }
   ],
   "source": [
    "# new phyloseq object\n",
    "physeq_arch_SpecD_clr = phyloseq(otu_table(otu %>% t %>% as.data.frame, \n",
    "                                           taxa_are_rows=TRUE),\n",
    "                                tax_table(physeq_arch_SpecD),\n",
    "                                sample_data(physeq_arch_SpecD),\n",
    "                                phy_tree(physeq_arch_SpecD))\n",
    "physeq_arch_SpecD_clr"
   ]
  },
  {
   "cell_type": "code",
   "execution_count": 15,
   "metadata": {
    "ExecuteTime": {
     "end_time": "2020-06-18T12:25:21.150364Z",
     "start_time": "2020-06-18T12:25:21.087Z"
    }
   },
   "outputs": [
    {
     "name": "stdout",
     "output_type": "stream",
     "text": [
      "File written: /ebio/abt3_projects/Georg_animal_feces/data/16S_arch/MiSeq-Runs-116-122-126-189-190/LLA/merged/phyloseq/physeq_arch_SpecD_clr-genus.RDS \n"
     ]
    }
   ],
   "source": [
    "# writing new file\n",
    "physeq_arch_SpecD_clr_file = file.path(dirname(physeq_arch_SpecD_file),\n",
    "                                      'physeq_arch_SpecD_clr-genus.RDS')\n",
    "saveRDS(physeq_arch_SpecD_clr, physeq_arch_SpecD_clr_file)\n",
    "cat('File written:', physeq_arch_SpecD_clr_file, '\\n')"
   ]
  },
  {
   "cell_type": "markdown",
   "metadata": {},
   "source": [
    "# IndD"
   ]
  },
  {
   "cell_type": "markdown",
   "metadata": {},
   "source": [
    "## Aggregating"
   ]
  },
  {
   "cell_type": "code",
   "execution_count": 16,
   "metadata": {
    "ExecuteTime": {
     "end_time": "2020-06-18T12:25:33.893058Z",
     "start_time": "2020-06-18T12:25:26.054Z"
    }
   },
   "outputs": [
    {
     "data": {
      "text/plain": [
       "phyloseq-class experiment-level object\n",
       "otu_table()   OTU Table:         [ 90 taxa and 185 samples ]\n",
       "sample_data() Sample Data:       [ 185 samples by 88 sample variables ]\n",
       "tax_table()   Taxonomy Table:    [ 90 taxa by 7 taxonomic ranks ]\n",
       "phy_tree()    Phylogenetic Tree: [ 90 tips and 89 internal nodes ]"
      ]
     },
     "metadata": {},
     "output_type": "display_data"
    }
   ],
   "source": [
    "physeq_arch_IndD = tax_glom(physeq_arch_IndD, taxrank='Genus')\n",
    "physeq_arch_IndD"
   ]
  },
  {
   "cell_type": "markdown",
   "metadata": {},
   "source": [
    "## Filter by sparsity"
   ]
  },
  {
   "cell_type": "code",
   "execution_count": 17,
   "metadata": {
    "ExecuteTime": {
     "end_time": "2020-06-18T12:25:33.947002Z",
     "start_time": "2020-06-18T12:25:27.316Z"
    }
   },
   "outputs": [
    {
     "data": {
      "text/plain": [
       "phyloseq-class experiment-level object\n",
       "otu_table()   OTU Table:         [ 57 taxa and 185 samples ]\n",
       "sample_data() Sample Data:       [ 185 samples by 88 sample variables ]\n",
       "tax_table()   Taxonomy Table:    [ 57 taxa by 7 taxonomic ranks ]\n",
       "phy_tree()    Phylogenetic Tree: [ 57 tips and 56 internal nodes ]"
      ]
     },
     "metadata": {},
     "output_type": "display_data"
    }
   ],
   "source": [
    "# filter by sparsity\n",
    "physeq_arch_IndD = physeq_arch_IndD %>%\n",
    "    filter_taxa(function(x) sum(x > 0) >= 2, TRUE) %>%\n",
    "    prune_samples(sample_sums(.) > 0, .)\n",
    "physeq_arch_IndD"
   ]
  },
  {
   "cell_type": "code",
   "execution_count": 18,
   "metadata": {
    "ExecuteTime": {
     "end_time": "2020-06-18T12:25:35.244946Z",
     "start_time": "2020-06-18T12:25:28.006Z"
    }
   },
   "outputs": [
    {
     "data": {
      "text/html": [
       "<table>\n",
       "<caption>A data.frame: 185 × 57</caption>\n",
       "<thead>\n",
       "\t<tr><th></th><th scope=col>c3b19986023201183d07b2bf6dc9eaab</th><th scope=col>e6ddd5efa2e9229aa04f33e832450fa8</th><th scope=col>5887dc080d027d30580310a1eb1f3166</th><th scope=col>c0eb38cd52d8be27c54de8a8b06f9a9a</th><th scope=col>bfb96cf07d2fec50b18d3a9665ba6e80</th><th scope=col>66cc60d5322fdeaf48cc8bdd82effea2</th><th scope=col>f906aca9a9c84f01cbd8a874cce7e6fe</th><th scope=col>1936b1a270b058c5754be0addc7c7c31</th><th scope=col>252850216e7d0123bfafd7eed609799d</th><th scope=col>7950a70a07006f7c7b0c6f02c46a93af</th><th scope=col>⋯</th><th scope=col>092547e9f87986180c27587156336bcb</th><th scope=col>2987f396047df01622b365b3b667a4eb</th><th scope=col>fef8ef65bd3598e9f1fec3bd32a9b4bd</th><th scope=col>b9abd819fdd733c57642461d1c2247a6</th><th scope=col>75f3ea1df98051a1b49107173aa51a32</th><th scope=col>1578a874797e43b052a66b2fb5ef9e4a</th><th scope=col>b7ed842d3fbe5d8d33504a0a765409ae</th><th scope=col>1f1f87cab902b66753b8bbd81e69a7d4</th><th scope=col>250a31c11dbecf1e2ef705424fdaa7a7</th><th scope=col>188795b8eb1edbd3334be2676ca05391</th></tr>\n",
       "\t<tr><th></th><th scope=col>&lt;dbl&gt;</th><th scope=col>&lt;dbl&gt;</th><th scope=col>&lt;dbl&gt;</th><th scope=col>&lt;dbl&gt;</th><th scope=col>&lt;dbl&gt;</th><th scope=col>&lt;dbl&gt;</th><th scope=col>&lt;dbl&gt;</th><th scope=col>&lt;dbl&gt;</th><th scope=col>&lt;dbl&gt;</th><th scope=col>&lt;dbl&gt;</th><th scope=col>⋯</th><th scope=col>&lt;dbl&gt;</th><th scope=col>&lt;dbl&gt;</th><th scope=col>&lt;dbl&gt;</th><th scope=col>&lt;dbl&gt;</th><th scope=col>&lt;dbl&gt;</th><th scope=col>&lt;dbl&gt;</th><th scope=col>&lt;dbl&gt;</th><th scope=col>&lt;dbl&gt;</th><th scope=col>&lt;dbl&gt;</th><th scope=col>&lt;dbl&gt;</th></tr>\n",
       "</thead>\n",
       "<tbody>\n",
       "\t<tr><th scope=row>F14_Common_Bream</th><td>0</td><td>0</td><td>2</td><td>0</td><td>0</td><td>0</td><td>0</td><td>0</td><td>0</td><td>0</td><td>⋯</td><td> 6</td><td>0</td><td>0</td><td>0</td><td>0</td><td> 14</td><td>0</td><td>  0</td><td>2599</td><td>0</td></tr>\n",
       "\t<tr><th scope=row>F35_Red_Deer</th><td>0</td><td>0</td><td>0</td><td>2</td><td>0</td><td>0</td><td>0</td><td>0</td><td>0</td><td>0</td><td>⋯</td><td>81</td><td>0</td><td>0</td><td>0</td><td>0</td><td>930</td><td>0</td><td>305</td><td>   0</td><td>0</td></tr>\n",
       "\t<tr><th scope=row>⋮</th><td>⋮</td><td>⋮</td><td>⋮</td><td>⋮</td><td>⋮</td><td>⋮</td><td>⋮</td><td>⋮</td><td>⋮</td><td>⋮</td><td>⋱</td><td>⋮</td><td>⋮</td><td>⋮</td><td>⋮</td><td>⋮</td><td>⋮</td><td>⋮</td><td>⋮</td><td>⋮</td><td>⋮</td></tr>\n",
       "\t<tr><th scope=row>X431_Quagga</th><td>0</td><td>0</td><td>0</td><td>0</td><td>0</td><td>0</td><td>0</td><td>0</td><td>0</td><td>0</td><td>⋯</td><td>129</td><td>0</td><td>0</td><td>138</td><td>0</td><td> 30</td><td>0</td><td> 0</td><td>0</td><td>0</td></tr>\n",
       "\t<tr><th scope=row>X67_European_Roe</th><td>0</td><td>0</td><td>0</td><td>0</td><td>0</td><td>0</td><td>0</td><td>0</td><td>0</td><td>0</td><td>⋯</td><td>  0</td><td>0</td><td>0</td><td>  0</td><td>0</td><td>709</td><td>0</td><td>12</td><td>0</td><td>0</td></tr>\n",
       "</tbody>\n",
       "</table>\n"
      ],
      "text/latex": [
       "A data.frame: 185 × 57\n",
       "\\begin{tabular}{r|lllllllllllllllllllll}\n",
       "  & c3b19986023201183d07b2bf6dc9eaab & e6ddd5efa2e9229aa04f33e832450fa8 & 5887dc080d027d30580310a1eb1f3166 & c0eb38cd52d8be27c54de8a8b06f9a9a & bfb96cf07d2fec50b18d3a9665ba6e80 & 66cc60d5322fdeaf48cc8bdd82effea2 & f906aca9a9c84f01cbd8a874cce7e6fe & 1936b1a270b058c5754be0addc7c7c31 & 252850216e7d0123bfafd7eed609799d & 7950a70a07006f7c7b0c6f02c46a93af & ⋯ & 092547e9f87986180c27587156336bcb & 2987f396047df01622b365b3b667a4eb & fef8ef65bd3598e9f1fec3bd32a9b4bd & b9abd819fdd733c57642461d1c2247a6 & 75f3ea1df98051a1b49107173aa51a32 & 1578a874797e43b052a66b2fb5ef9e4a & b7ed842d3fbe5d8d33504a0a765409ae & 1f1f87cab902b66753b8bbd81e69a7d4 & 250a31c11dbecf1e2ef705424fdaa7a7 & 188795b8eb1edbd3334be2676ca05391\\\\\n",
       "  & <dbl> & <dbl> & <dbl> & <dbl> & <dbl> & <dbl> & <dbl> & <dbl> & <dbl> & <dbl> & ⋯ & <dbl> & <dbl> & <dbl> & <dbl> & <dbl> & <dbl> & <dbl> & <dbl> & <dbl> & <dbl>\\\\\n",
       "\\hline\n",
       "\tF14\\_Common\\_Bream & 0 & 0 & 2 & 0 & 0 & 0 & 0 & 0 & 0 & 0 & ⋯ &  6 & 0 & 0 & 0 & 0 &  14 & 0 &   0 & 2599 & 0\\\\\n",
       "\tF35\\_Red\\_Deer & 0 & 0 & 0 & 2 & 0 & 0 & 0 & 0 & 0 & 0 & ⋯ & 81 & 0 & 0 & 0 & 0 & 930 & 0 & 305 &    0 & 0\\\\\n",
       "\t⋮ & ⋮ & ⋮ & ⋮ & ⋮ & ⋮ & ⋮ & ⋮ & ⋮ & ⋮ & ⋮ & ⋱ & ⋮ & ⋮ & ⋮ & ⋮ & ⋮ & ⋮ & ⋮ & ⋮ & ⋮ & ⋮\\\\\n",
       "\tX431\\_Quagga & 0 & 0 & 0 & 0 & 0 & 0 & 0 & 0 & 0 & 0 & ⋯ & 129 & 0 & 0 & 138 & 0 &  30 & 0 &  0 & 0 & 0\\\\\n",
       "\tX67\\_European\\_Roe & 0 & 0 & 0 & 0 & 0 & 0 & 0 & 0 & 0 & 0 & ⋯ &   0 & 0 & 0 &   0 & 0 & 709 & 0 & 12 & 0 & 0\\\\\n",
       "\\end{tabular}\n"
      ],
      "text/markdown": [
       "\n",
       "A data.frame: 185 × 57\n",
       "\n",
       "| <!--/--> | c3b19986023201183d07b2bf6dc9eaab &lt;dbl&gt; | e6ddd5efa2e9229aa04f33e832450fa8 &lt;dbl&gt; | 5887dc080d027d30580310a1eb1f3166 &lt;dbl&gt; | c0eb38cd52d8be27c54de8a8b06f9a9a &lt;dbl&gt; | bfb96cf07d2fec50b18d3a9665ba6e80 &lt;dbl&gt; | 66cc60d5322fdeaf48cc8bdd82effea2 &lt;dbl&gt; | f906aca9a9c84f01cbd8a874cce7e6fe &lt;dbl&gt; | 1936b1a270b058c5754be0addc7c7c31 &lt;dbl&gt; | 252850216e7d0123bfafd7eed609799d &lt;dbl&gt; | 7950a70a07006f7c7b0c6f02c46a93af &lt;dbl&gt; | ⋯ ⋯ | 092547e9f87986180c27587156336bcb &lt;dbl&gt; | 2987f396047df01622b365b3b667a4eb &lt;dbl&gt; | fef8ef65bd3598e9f1fec3bd32a9b4bd &lt;dbl&gt; | b9abd819fdd733c57642461d1c2247a6 &lt;dbl&gt; | 75f3ea1df98051a1b49107173aa51a32 &lt;dbl&gt; | 1578a874797e43b052a66b2fb5ef9e4a &lt;dbl&gt; | b7ed842d3fbe5d8d33504a0a765409ae &lt;dbl&gt; | 1f1f87cab902b66753b8bbd81e69a7d4 &lt;dbl&gt; | 250a31c11dbecf1e2ef705424fdaa7a7 &lt;dbl&gt; | 188795b8eb1edbd3334be2676ca05391 &lt;dbl&gt; |\n",
       "|---|---|---|---|---|---|---|---|---|---|---|---|---|---|---|---|---|---|---|---|---|---|\n",
       "| F14_Common_Bream | 0 | 0 | 2 | 0 | 0 | 0 | 0 | 0 | 0 | 0 | ⋯ |  6 | 0 | 0 | 0 | 0 |  14 | 0 |   0 | 2599 | 0 |\n",
       "| F35_Red_Deer | 0 | 0 | 0 | 2 | 0 | 0 | 0 | 0 | 0 | 0 | ⋯ | 81 | 0 | 0 | 0 | 0 | 930 | 0 | 305 |    0 | 0 |\n",
       "| ⋮ | ⋮ | ⋮ | ⋮ | ⋮ | ⋮ | ⋮ | ⋮ | ⋮ | ⋮ | ⋮ | ⋱ | ⋮ | ⋮ | ⋮ | ⋮ | ⋮ | ⋮ | ⋮ | ⋮ | ⋮ | ⋮ |\n",
       "| X431_Quagga | 0 | 0 | 0 | 0 | 0 | 0 | 0 | 0 | 0 | 0 | ⋯ | 129 | 0 | 0 | 138 | 0 |  30 | 0 |  0 | 0 | 0 |\n",
       "| X67_European_Roe | 0 | 0 | 0 | 0 | 0 | 0 | 0 | 0 | 0 | 0 | ⋯ |   0 | 0 | 0 |   0 | 0 | 709 | 0 | 12 | 0 | 0 |\n",
       "\n"
      ],
      "text/plain": [
       "                 c3b19986023201183d07b2bf6dc9eaab\n",
       "F14_Common_Bream 0                               \n",
       "F35_Red_Deer     0                               \n",
       "⋮                ⋮                               \n",
       "X431_Quagga      0                               \n",
       "X67_European_Roe 0                               \n",
       "                 e6ddd5efa2e9229aa04f33e832450fa8\n",
       "F14_Common_Bream 0                               \n",
       "F35_Red_Deer     0                               \n",
       "⋮                ⋮                               \n",
       "X431_Quagga      0                               \n",
       "X67_European_Roe 0                               \n",
       "                 5887dc080d027d30580310a1eb1f3166\n",
       "F14_Common_Bream 2                               \n",
       "F35_Red_Deer     0                               \n",
       "⋮                ⋮                               \n",
       "X431_Quagga      0                               \n",
       "X67_European_Roe 0                               \n",
       "                 c0eb38cd52d8be27c54de8a8b06f9a9a\n",
       "F14_Common_Bream 0                               \n",
       "F35_Red_Deer     2                               \n",
       "⋮                ⋮                               \n",
       "X431_Quagga      0                               \n",
       "X67_European_Roe 0                               \n",
       "                 bfb96cf07d2fec50b18d3a9665ba6e80\n",
       "F14_Common_Bream 0                               \n",
       "F35_Red_Deer     0                               \n",
       "⋮                ⋮                               \n",
       "X431_Quagga      0                               \n",
       "X67_European_Roe 0                               \n",
       "                 66cc60d5322fdeaf48cc8bdd82effea2\n",
       "F14_Common_Bream 0                               \n",
       "F35_Red_Deer     0                               \n",
       "⋮                ⋮                               \n",
       "X431_Quagga      0                               \n",
       "X67_European_Roe 0                               \n",
       "                 f906aca9a9c84f01cbd8a874cce7e6fe\n",
       "F14_Common_Bream 0                               \n",
       "F35_Red_Deer     0                               \n",
       "⋮                ⋮                               \n",
       "X431_Quagga      0                               \n",
       "X67_European_Roe 0                               \n",
       "                 1936b1a270b058c5754be0addc7c7c31\n",
       "F14_Common_Bream 0                               \n",
       "F35_Red_Deer     0                               \n",
       "⋮                ⋮                               \n",
       "X431_Quagga      0                               \n",
       "X67_European_Roe 0                               \n",
       "                 252850216e7d0123bfafd7eed609799d\n",
       "F14_Common_Bream 0                               \n",
       "F35_Red_Deer     0                               \n",
       "⋮                ⋮                               \n",
       "X431_Quagga      0                               \n",
       "X67_European_Roe 0                               \n",
       "                 7950a70a07006f7c7b0c6f02c46a93af ⋯\n",
       "F14_Common_Bream 0                                ⋯\n",
       "F35_Red_Deer     0                                ⋯\n",
       "⋮                ⋮                                ⋱\n",
       "X431_Quagga      0                                ⋯\n",
       "X67_European_Roe 0                                ⋯\n",
       "                 092547e9f87986180c27587156336bcb\n",
       "F14_Common_Bream  6                              \n",
       "F35_Red_Deer     81                              \n",
       "⋮                ⋮                               \n",
       "X431_Quagga      129                             \n",
       "X67_European_Roe   0                             \n",
       "                 2987f396047df01622b365b3b667a4eb\n",
       "F14_Common_Bream 0                               \n",
       "F35_Red_Deer     0                               \n",
       "⋮                ⋮                               \n",
       "X431_Quagga      0                               \n",
       "X67_European_Roe 0                               \n",
       "                 fef8ef65bd3598e9f1fec3bd32a9b4bd\n",
       "F14_Common_Bream 0                               \n",
       "F35_Red_Deer     0                               \n",
       "⋮                ⋮                               \n",
       "X431_Quagga      0                               \n",
       "X67_European_Roe 0                               \n",
       "                 b9abd819fdd733c57642461d1c2247a6\n",
       "F14_Common_Bream 0                               \n",
       "F35_Red_Deer     0                               \n",
       "⋮                ⋮                               \n",
       "X431_Quagga      138                             \n",
       "X67_European_Roe   0                             \n",
       "                 75f3ea1df98051a1b49107173aa51a32\n",
       "F14_Common_Bream 0                               \n",
       "F35_Red_Deer     0                               \n",
       "⋮                ⋮                               \n",
       "X431_Quagga      0                               \n",
       "X67_European_Roe 0                               \n",
       "                 1578a874797e43b052a66b2fb5ef9e4a\n",
       "F14_Common_Bream  14                             \n",
       "F35_Red_Deer     930                             \n",
       "⋮                ⋮                               \n",
       "X431_Quagga       30                             \n",
       "X67_European_Roe 709                             \n",
       "                 b7ed842d3fbe5d8d33504a0a765409ae\n",
       "F14_Common_Bream 0                               \n",
       "F35_Red_Deer     0                               \n",
       "⋮                ⋮                               \n",
       "X431_Quagga      0                               \n",
       "X67_European_Roe 0                               \n",
       "                 1f1f87cab902b66753b8bbd81e69a7d4\n",
       "F14_Common_Bream   0                             \n",
       "F35_Red_Deer     305                             \n",
       "⋮                ⋮                               \n",
       "X431_Quagga       0                              \n",
       "X67_European_Roe 12                              \n",
       "                 250a31c11dbecf1e2ef705424fdaa7a7\n",
       "F14_Common_Bream 2599                            \n",
       "F35_Red_Deer        0                            \n",
       "⋮                ⋮                               \n",
       "X431_Quagga      0                               \n",
       "X67_European_Roe 0                               \n",
       "                 188795b8eb1edbd3334be2676ca05391\n",
       "F14_Common_Bream 0                               \n",
       "F35_Red_Deer     0                               \n",
       "⋮                ⋮                               \n",
       "X431_Quagga      0                               \n",
       "X67_European_Roe 0                               "
      ]
     },
     "metadata": {},
     "output_type": "display_data"
    }
   ],
   "source": [
    "# otu table\n",
    "otu = physeq_arch_IndD %>%\n",
    "    phyloseq2df(otu_table) %>%\n",
    "    as.data.frame\n",
    "rownames(otu) = otu$OTU\n",
    "otu$OTU = NULL\n",
    "otu = otu %>% t %>% as.data.frame\n",
    "otu"
   ]
  },
  {
   "cell_type": "markdown",
   "metadata": {},
   "source": [
    "## Zero estimation"
   ]
  },
  {
   "cell_type": "code",
   "execution_count": 19,
   "metadata": {
    "ExecuteTime": {
     "end_time": "2020-06-18T12:25:35.274658Z",
     "start_time": "2020-06-18T12:25:29.334Z"
    }
   },
   "outputs": [
    {
     "data": {
      "text/html": [
       "<table>\n",
       "<caption>A matrix: 1 × 8 of type dbl</caption>\n",
       "<thead>\n",
       "\t<tr><th></th><th scope=col>Min.</th><th scope=col>1st Qu.</th><th scope=col>Median</th><th scope=col>Mean</th><th scope=col>3rd Qu.</th><th scope=col>Max.</th><th scope=col>sd</th><th scope=col>sd_err_of_mean</th></tr>\n",
       "</thead>\n",
       "<tbody>\n",
       "\t<tr><th scope=row>sparsity</th><td>71.92982</td><td>89.47368</td><td>91.22807</td><td>90.38407</td><td>94.73684</td><td>98.24561</td><td>9.124</td><td>3.725</td></tr>\n",
       "</tbody>\n",
       "</table>\n"
      ],
      "text/latex": [
       "A matrix: 1 × 8 of type dbl\n",
       "\\begin{tabular}{r|llllllll}\n",
       "  & Min. & 1st Qu. & Median & Mean & 3rd Qu. & Max. & sd & sd\\_err\\_of\\_mean\\\\\n",
       "\\hline\n",
       "\tsparsity & 71.92982 & 89.47368 & 91.22807 & 90.38407 & 94.73684 & 98.24561 & 9.124 & 3.725\\\\\n",
       "\\end{tabular}\n"
      ],
      "text/markdown": [
       "\n",
       "A matrix: 1 × 8 of type dbl\n",
       "\n",
       "| <!--/--> | Min. | 1st Qu. | Median | Mean | 3rd Qu. | Max. | sd | sd_err_of_mean |\n",
       "|---|---|---|---|---|---|---|---|---|\n",
       "| sparsity | 71.92982 | 89.47368 | 91.22807 | 90.38407 | 94.73684 | 98.24561 | 9.124 | 3.725 |\n",
       "\n"
      ],
      "text/plain": [
       "         Min.     1st Qu.  Median   Mean     3rd Qu.  Max.     sd   \n",
       "sparsity 71.92982 89.47368 91.22807 90.38407 94.73684 98.24561 9.124\n",
       "         sd_err_of_mean\n",
       "sparsity 3.725         "
      ]
     },
     "metadata": {},
     "output_type": "display_data"
    }
   ],
   "source": [
    "# sparsity (%)\n",
    "otu %>%\n",
    "    apply(1, function(x) sum(x == 0) / length(x) * 100) %>%\n",
    "    summary_x('sparsity')"
   ]
  },
  {
   "cell_type": "code",
   "execution_count": 20,
   "metadata": {
    "ExecuteTime": {
     "end_time": "2020-06-18T12:25:35.912216Z",
     "start_time": "2020-06-18T12:25:29.702Z"
    }
   },
   "outputs": [
    {
     "name": "stdout",
     "output_type": "stream",
     "text": [
      "No. corrected values:  2254 \n"
     ]
    },
    {
     "data": {
      "text/html": [
       "<table>\n",
       "<caption>A data.frame: 185 × 57</caption>\n",
       "<thead>\n",
       "\t<tr><th></th><th scope=col>c3b19986023201183d07b2bf6dc9eaab</th><th scope=col>e6ddd5efa2e9229aa04f33e832450fa8</th><th scope=col>5887dc080d027d30580310a1eb1f3166</th><th scope=col>c0eb38cd52d8be27c54de8a8b06f9a9a</th><th scope=col>bfb96cf07d2fec50b18d3a9665ba6e80</th><th scope=col>66cc60d5322fdeaf48cc8bdd82effea2</th><th scope=col>f906aca9a9c84f01cbd8a874cce7e6fe</th><th scope=col>1936b1a270b058c5754be0addc7c7c31</th><th scope=col>252850216e7d0123bfafd7eed609799d</th><th scope=col>7950a70a07006f7c7b0c6f02c46a93af</th><th scope=col>⋯</th><th scope=col>092547e9f87986180c27587156336bcb</th><th scope=col>2987f396047df01622b365b3b667a4eb</th><th scope=col>fef8ef65bd3598e9f1fec3bd32a9b4bd</th><th scope=col>b9abd819fdd733c57642461d1c2247a6</th><th scope=col>75f3ea1df98051a1b49107173aa51a32</th><th scope=col>1578a874797e43b052a66b2fb5ef9e4a</th><th scope=col>b7ed842d3fbe5d8d33504a0a765409ae</th><th scope=col>1f1f87cab902b66753b8bbd81e69a7d4</th><th scope=col>250a31c11dbecf1e2ef705424fdaa7a7</th><th scope=col>188795b8eb1edbd3334be2676ca05391</th></tr>\n",
       "\t<tr><th></th><th scope=col>&lt;dbl&gt;</th><th scope=col>&lt;dbl&gt;</th><th scope=col>&lt;dbl&gt;</th><th scope=col>&lt;dbl&gt;</th><th scope=col>&lt;dbl&gt;</th><th scope=col>&lt;dbl&gt;</th><th scope=col>&lt;dbl&gt;</th><th scope=col>&lt;dbl&gt;</th><th scope=col>&lt;dbl&gt;</th><th scope=col>&lt;dbl&gt;</th><th scope=col>⋯</th><th scope=col>&lt;dbl&gt;</th><th scope=col>&lt;dbl&gt;</th><th scope=col>&lt;dbl&gt;</th><th scope=col>&lt;dbl&gt;</th><th scope=col>&lt;dbl&gt;</th><th scope=col>&lt;dbl&gt;</th><th scope=col>&lt;dbl&gt;</th><th scope=col>&lt;dbl&gt;</th><th scope=col>&lt;dbl&gt;</th><th scope=col>&lt;dbl&gt;</th></tr>\n",
       "</thead>\n",
       "<tbody>\n",
       "\t<tr><th scope=row>F14_Common_Bream</th><td>0.03617861</td><td>0.08441676</td><td>2.0000000</td><td>0.03135479</td><td>0.03376670</td><td>0.2074240</td><td>0.1977764</td><td>1.1287726</td><td>0.04582624</td><td>1.787223</td><td>⋯</td><td> 6</td><td>1.967987</td><td>0.14052698</td><td>1.6586909</td><td>1.9922354</td><td> 14</td><td>0.7026349</td><td>  1.489229</td><td>2599.0000000</td><td>0.7623347</td></tr>\n",
       "\t<tr><th scope=row>F35_Red_Deer</th><td>0.02803368</td><td>0.06541191</td><td>0.1140036</td><td>2.00000000</td><td>0.02616476</td><td>0.1607264</td><td>0.1532508</td><td>0.8746507</td><td>0.03550932</td><td>1.384864</td><td>⋯</td><td>81</td><td>1.072973</td><td>0.07661717</td><td>0.9043402</td><td>0.9868153</td><td>930</td><td>0.3830858</td><td>305.000000</td><td>   0.3044887</td><td>0.4156350</td></tr>\n",
       "\t<tr><th scope=row>⋮</th><td>⋮</td><td>⋮</td><td>⋮</td><td>⋮</td><td>⋮</td><td>⋮</td><td>⋮</td><td>⋮</td><td>⋮</td><td>⋮</td><td>⋱</td><td>⋮</td><td>⋮</td><td>⋮</td><td>⋮</td><td>⋮</td><td>⋮</td><td>⋮</td><td>⋮</td><td>⋮</td><td>⋮</td></tr>\n",
       "\t<tr><th scope=row>X431_Quagga</th><td>0.03099892</td><td>0.07233082</td><td>0.12606229</td><td>0.02686573</td><td>0.02893233</td><td>0.17772716</td><td>0.16946078</td><td>0.9671664</td><td>0.03926530</td><td>1.5313468</td><td>⋯</td><td>129.0000000</td><td>1.3912466</td><td>0.09934398</td><td>138.0000000</td><td>1.7070074</td><td> 30</td><td>0.4967199</td><td> 1.052794</td><td>0.3948086</td><td>0.5389240</td></tr>\n",
       "\t<tr><th scope=row>X67_European_Roe</th><td>0.01671186</td><td>0.03899434</td><td>0.06796157</td><td>0.01448361</td><td>0.01559774</td><td>0.09581467</td><td>0.09135817</td><td>0.5214101</td><td>0.02116836</td><td>0.8255659</td><td>⋯</td><td>  0.5819093</td><td>0.4153611</td><td>0.02965946</td><td>  0.3500814</td><td>0.3820085</td><td>709</td><td>0.1482973</td><td>12.000000</td><td>0.1178714</td><td>0.1608975</td></tr>\n",
       "</tbody>\n",
       "</table>\n"
      ],
      "text/latex": [
       "A data.frame: 185 × 57\n",
       "\\begin{tabular}{r|lllllllllllllllllllll}\n",
       "  & c3b19986023201183d07b2bf6dc9eaab & e6ddd5efa2e9229aa04f33e832450fa8 & 5887dc080d027d30580310a1eb1f3166 & c0eb38cd52d8be27c54de8a8b06f9a9a & bfb96cf07d2fec50b18d3a9665ba6e80 & 66cc60d5322fdeaf48cc8bdd82effea2 & f906aca9a9c84f01cbd8a874cce7e6fe & 1936b1a270b058c5754be0addc7c7c31 & 252850216e7d0123bfafd7eed609799d & 7950a70a07006f7c7b0c6f02c46a93af & ⋯ & 092547e9f87986180c27587156336bcb & 2987f396047df01622b365b3b667a4eb & fef8ef65bd3598e9f1fec3bd32a9b4bd & b9abd819fdd733c57642461d1c2247a6 & 75f3ea1df98051a1b49107173aa51a32 & 1578a874797e43b052a66b2fb5ef9e4a & b7ed842d3fbe5d8d33504a0a765409ae & 1f1f87cab902b66753b8bbd81e69a7d4 & 250a31c11dbecf1e2ef705424fdaa7a7 & 188795b8eb1edbd3334be2676ca05391\\\\\n",
       "  & <dbl> & <dbl> & <dbl> & <dbl> & <dbl> & <dbl> & <dbl> & <dbl> & <dbl> & <dbl> & ⋯ & <dbl> & <dbl> & <dbl> & <dbl> & <dbl> & <dbl> & <dbl> & <dbl> & <dbl> & <dbl>\\\\\n",
       "\\hline\n",
       "\tF14\\_Common\\_Bream & 0.03617861 & 0.08441676 & 2.0000000 & 0.03135479 & 0.03376670 & 0.2074240 & 0.1977764 & 1.1287726 & 0.04582624 & 1.787223 & ⋯ &  6 & 1.967987 & 0.14052698 & 1.6586909 & 1.9922354 &  14 & 0.7026349 &   1.489229 & 2599.0000000 & 0.7623347\\\\\n",
       "\tF35\\_Red\\_Deer & 0.02803368 & 0.06541191 & 0.1140036 & 2.00000000 & 0.02616476 & 0.1607264 & 0.1532508 & 0.8746507 & 0.03550932 & 1.384864 & ⋯ & 81 & 1.072973 & 0.07661717 & 0.9043402 & 0.9868153 & 930 & 0.3830858 & 305.000000 &    0.3044887 & 0.4156350\\\\\n",
       "\t⋮ & ⋮ & ⋮ & ⋮ & ⋮ & ⋮ & ⋮ & ⋮ & ⋮ & ⋮ & ⋮ & ⋱ & ⋮ & ⋮ & ⋮ & ⋮ & ⋮ & ⋮ & ⋮ & ⋮ & ⋮ & ⋮\\\\\n",
       "\tX431\\_Quagga & 0.03099892 & 0.07233082 & 0.12606229 & 0.02686573 & 0.02893233 & 0.17772716 & 0.16946078 & 0.9671664 & 0.03926530 & 1.5313468 & ⋯ & 129.0000000 & 1.3912466 & 0.09934398 & 138.0000000 & 1.7070074 &  30 & 0.4967199 &  1.052794 & 0.3948086 & 0.5389240\\\\\n",
       "\tX67\\_European\\_Roe & 0.01671186 & 0.03899434 & 0.06796157 & 0.01448361 & 0.01559774 & 0.09581467 & 0.09135817 & 0.5214101 & 0.02116836 & 0.8255659 & ⋯ &   0.5819093 & 0.4153611 & 0.02965946 &   0.3500814 & 0.3820085 & 709 & 0.1482973 & 12.000000 & 0.1178714 & 0.1608975\\\\\n",
       "\\end{tabular}\n"
      ],
      "text/markdown": [
       "\n",
       "A data.frame: 185 × 57\n",
       "\n",
       "| <!--/--> | c3b19986023201183d07b2bf6dc9eaab &lt;dbl&gt; | e6ddd5efa2e9229aa04f33e832450fa8 &lt;dbl&gt; | 5887dc080d027d30580310a1eb1f3166 &lt;dbl&gt; | c0eb38cd52d8be27c54de8a8b06f9a9a &lt;dbl&gt; | bfb96cf07d2fec50b18d3a9665ba6e80 &lt;dbl&gt; | 66cc60d5322fdeaf48cc8bdd82effea2 &lt;dbl&gt; | f906aca9a9c84f01cbd8a874cce7e6fe &lt;dbl&gt; | 1936b1a270b058c5754be0addc7c7c31 &lt;dbl&gt; | 252850216e7d0123bfafd7eed609799d &lt;dbl&gt; | 7950a70a07006f7c7b0c6f02c46a93af &lt;dbl&gt; | ⋯ ⋯ | 092547e9f87986180c27587156336bcb &lt;dbl&gt; | 2987f396047df01622b365b3b667a4eb &lt;dbl&gt; | fef8ef65bd3598e9f1fec3bd32a9b4bd &lt;dbl&gt; | b9abd819fdd733c57642461d1c2247a6 &lt;dbl&gt; | 75f3ea1df98051a1b49107173aa51a32 &lt;dbl&gt; | 1578a874797e43b052a66b2fb5ef9e4a &lt;dbl&gt; | b7ed842d3fbe5d8d33504a0a765409ae &lt;dbl&gt; | 1f1f87cab902b66753b8bbd81e69a7d4 &lt;dbl&gt; | 250a31c11dbecf1e2ef705424fdaa7a7 &lt;dbl&gt; | 188795b8eb1edbd3334be2676ca05391 &lt;dbl&gt; |\n",
       "|---|---|---|---|---|---|---|---|---|---|---|---|---|---|---|---|---|---|---|---|---|---|\n",
       "| F14_Common_Bream | 0.03617861 | 0.08441676 | 2.0000000 | 0.03135479 | 0.03376670 | 0.2074240 | 0.1977764 | 1.1287726 | 0.04582624 | 1.787223 | ⋯ |  6 | 1.967987 | 0.14052698 | 1.6586909 | 1.9922354 |  14 | 0.7026349 |   1.489229 | 2599.0000000 | 0.7623347 |\n",
       "| F35_Red_Deer | 0.02803368 | 0.06541191 | 0.1140036 | 2.00000000 | 0.02616476 | 0.1607264 | 0.1532508 | 0.8746507 | 0.03550932 | 1.384864 | ⋯ | 81 | 1.072973 | 0.07661717 | 0.9043402 | 0.9868153 | 930 | 0.3830858 | 305.000000 |    0.3044887 | 0.4156350 |\n",
       "| ⋮ | ⋮ | ⋮ | ⋮ | ⋮ | ⋮ | ⋮ | ⋮ | ⋮ | ⋮ | ⋮ | ⋱ | ⋮ | ⋮ | ⋮ | ⋮ | ⋮ | ⋮ | ⋮ | ⋮ | ⋮ | ⋮ |\n",
       "| X431_Quagga | 0.03099892 | 0.07233082 | 0.12606229 | 0.02686573 | 0.02893233 | 0.17772716 | 0.16946078 | 0.9671664 | 0.03926530 | 1.5313468 | ⋯ | 129.0000000 | 1.3912466 | 0.09934398 | 138.0000000 | 1.7070074 |  30 | 0.4967199 |  1.052794 | 0.3948086 | 0.5389240 |\n",
       "| X67_European_Roe | 0.01671186 | 0.03899434 | 0.06796157 | 0.01448361 | 0.01559774 | 0.09581467 | 0.09135817 | 0.5214101 | 0.02116836 | 0.8255659 | ⋯ |   0.5819093 | 0.4153611 | 0.02965946 |   0.3500814 | 0.3820085 | 709 | 0.1482973 | 12.000000 | 0.1178714 | 0.1608975 |\n",
       "\n"
      ],
      "text/plain": [
       "                 c3b19986023201183d07b2bf6dc9eaab\n",
       "F14_Common_Bream 0.03617861                      \n",
       "F35_Red_Deer     0.02803368                      \n",
       "⋮                ⋮                               \n",
       "X431_Quagga      0.03099892                      \n",
       "X67_European_Roe 0.01671186                      \n",
       "                 e6ddd5efa2e9229aa04f33e832450fa8\n",
       "F14_Common_Bream 0.08441676                      \n",
       "F35_Red_Deer     0.06541191                      \n",
       "⋮                ⋮                               \n",
       "X431_Quagga      0.07233082                      \n",
       "X67_European_Roe 0.03899434                      \n",
       "                 5887dc080d027d30580310a1eb1f3166\n",
       "F14_Common_Bream 2.0000000                       \n",
       "F35_Red_Deer     0.1140036                       \n",
       "⋮                ⋮                               \n",
       "X431_Quagga      0.12606229                      \n",
       "X67_European_Roe 0.06796157                      \n",
       "                 c0eb38cd52d8be27c54de8a8b06f9a9a\n",
       "F14_Common_Bream 0.03135479                      \n",
       "F35_Red_Deer     2.00000000                      \n",
       "⋮                ⋮                               \n",
       "X431_Quagga      0.02686573                      \n",
       "X67_European_Roe 0.01448361                      \n",
       "                 bfb96cf07d2fec50b18d3a9665ba6e80\n",
       "F14_Common_Bream 0.03376670                      \n",
       "F35_Red_Deer     0.02616476                      \n",
       "⋮                ⋮                               \n",
       "X431_Quagga      0.02893233                      \n",
       "X67_European_Roe 0.01559774                      \n",
       "                 66cc60d5322fdeaf48cc8bdd82effea2\n",
       "F14_Common_Bream 0.2074240                       \n",
       "F35_Red_Deer     0.1607264                       \n",
       "⋮                ⋮                               \n",
       "X431_Quagga      0.17772716                      \n",
       "X67_European_Roe 0.09581467                      \n",
       "                 f906aca9a9c84f01cbd8a874cce7e6fe\n",
       "F14_Common_Bream 0.1977764                       \n",
       "F35_Red_Deer     0.1532508                       \n",
       "⋮                ⋮                               \n",
       "X431_Quagga      0.16946078                      \n",
       "X67_European_Roe 0.09135817                      \n",
       "                 1936b1a270b058c5754be0addc7c7c31\n",
       "F14_Common_Bream 1.1287726                       \n",
       "F35_Red_Deer     0.8746507                       \n",
       "⋮                ⋮                               \n",
       "X431_Quagga      0.9671664                       \n",
       "X67_European_Roe 0.5214101                       \n",
       "                 252850216e7d0123bfafd7eed609799d\n",
       "F14_Common_Bream 0.04582624                      \n",
       "F35_Red_Deer     0.03550932                      \n",
       "⋮                ⋮                               \n",
       "X431_Quagga      0.03926530                      \n",
       "X67_European_Roe 0.02116836                      \n",
       "                 7950a70a07006f7c7b0c6f02c46a93af ⋯\n",
       "F14_Common_Bream 1.787223                         ⋯\n",
       "F35_Red_Deer     1.384864                         ⋯\n",
       "⋮                ⋮                                ⋱\n",
       "X431_Quagga      1.5313468                        ⋯\n",
       "X67_European_Roe 0.8255659                        ⋯\n",
       "                 092547e9f87986180c27587156336bcb\n",
       "F14_Common_Bream  6                              \n",
       "F35_Red_Deer     81                              \n",
       "⋮                ⋮                               \n",
       "X431_Quagga      129.0000000                     \n",
       "X67_European_Roe   0.5819093                     \n",
       "                 2987f396047df01622b365b3b667a4eb\n",
       "F14_Common_Bream 1.967987                        \n",
       "F35_Red_Deer     1.072973                        \n",
       "⋮                ⋮                               \n",
       "X431_Quagga      1.3912466                       \n",
       "X67_European_Roe 0.4153611                       \n",
       "                 fef8ef65bd3598e9f1fec3bd32a9b4bd\n",
       "F14_Common_Bream 0.14052698                      \n",
       "F35_Red_Deer     0.07661717                      \n",
       "⋮                ⋮                               \n",
       "X431_Quagga      0.09934398                      \n",
       "X67_European_Roe 0.02965946                      \n",
       "                 b9abd819fdd733c57642461d1c2247a6\n",
       "F14_Common_Bream 1.6586909                       \n",
       "F35_Red_Deer     0.9043402                       \n",
       "⋮                ⋮                               \n",
       "X431_Quagga      138.0000000                     \n",
       "X67_European_Roe   0.3500814                     \n",
       "                 75f3ea1df98051a1b49107173aa51a32\n",
       "F14_Common_Bream 1.9922354                       \n",
       "F35_Red_Deer     0.9868153                       \n",
       "⋮                ⋮                               \n",
       "X431_Quagga      1.7070074                       \n",
       "X67_European_Roe 0.3820085                       \n",
       "                 1578a874797e43b052a66b2fb5ef9e4a\n",
       "F14_Common_Bream  14                             \n",
       "F35_Red_Deer     930                             \n",
       "⋮                ⋮                               \n",
       "X431_Quagga       30                             \n",
       "X67_European_Roe 709                             \n",
       "                 b7ed842d3fbe5d8d33504a0a765409ae\n",
       "F14_Common_Bream 0.7026349                       \n",
       "F35_Red_Deer     0.3830858                       \n",
       "⋮                ⋮                               \n",
       "X431_Quagga      0.4967199                       \n",
       "X67_European_Roe 0.1482973                       \n",
       "                 1f1f87cab902b66753b8bbd81e69a7d4\n",
       "F14_Common_Bream   1.489229                      \n",
       "F35_Red_Deer     305.000000                      \n",
       "⋮                ⋮                               \n",
       "X431_Quagga       1.052794                       \n",
       "X67_European_Roe 12.000000                       \n",
       "                 250a31c11dbecf1e2ef705424fdaa7a7\n",
       "F14_Common_Bream 2599.0000000                    \n",
       "F35_Red_Deer        0.3044887                    \n",
       "⋮                ⋮                               \n",
       "X431_Quagga      0.3948086                       \n",
       "X67_European_Roe 0.1178714                       \n",
       "                 188795b8eb1edbd3334be2676ca05391\n",
       "F14_Common_Bream 0.7623347                       \n",
       "F35_Red_Deer     0.4156350                       \n",
       "⋮                ⋮                               \n",
       "X431_Quagga      0.5389240                       \n",
       "X67_European_Roe 0.1608975                       "
      ]
     },
     "metadata": {},
     "output_type": "display_data"
    }
   ],
   "source": [
    "# inferring zeros\n",
    "## warning: a bit slow\n",
    "otu = cmultRepl(otu, output = 'p-counts')\n",
    "otu"
   ]
  },
  {
   "cell_type": "markdown",
   "metadata": {},
   "source": [
    "## clr transformation"
   ]
  },
  {
   "cell_type": "code",
   "execution_count": 21,
   "metadata": {
    "ExecuteTime": {
     "end_time": "2020-06-18T12:25:36.058218Z",
     "start_time": "2020-06-18T12:25:30.811Z"
    }
   },
   "outputs": [
    {
     "data": {
      "text/html": [
       "<table>\n",
       "<caption>A data.frame: 185 × 57</caption>\n",
       "<thead>\n",
       "\t<tr><th></th><th scope=col>c3b19986023201183d07b2bf6dc9eaab</th><th scope=col>e6ddd5efa2e9229aa04f33e832450fa8</th><th scope=col>5887dc080d027d30580310a1eb1f3166</th><th scope=col>c0eb38cd52d8be27c54de8a8b06f9a9a</th><th scope=col>bfb96cf07d2fec50b18d3a9665ba6e80</th><th scope=col>66cc60d5322fdeaf48cc8bdd82effea2</th><th scope=col>f906aca9a9c84f01cbd8a874cce7e6fe</th><th scope=col>1936b1a270b058c5754be0addc7c7c31</th><th scope=col>252850216e7d0123bfafd7eed609799d</th><th scope=col>7950a70a07006f7c7b0c6f02c46a93af</th><th scope=col>⋯</th><th scope=col>092547e9f87986180c27587156336bcb</th><th scope=col>2987f396047df01622b365b3b667a4eb</th><th scope=col>fef8ef65bd3598e9f1fec3bd32a9b4bd</th><th scope=col>b9abd819fdd733c57642461d1c2247a6</th><th scope=col>75f3ea1df98051a1b49107173aa51a32</th><th scope=col>1578a874797e43b052a66b2fb5ef9e4a</th><th scope=col>b7ed842d3fbe5d8d33504a0a765409ae</th><th scope=col>1f1f87cab902b66753b8bbd81e69a7d4</th><th scope=col>250a31c11dbecf1e2ef705424fdaa7a7</th><th scope=col>188795b8eb1edbd3334be2676ca05391</th></tr>\n",
       "\t<tr><th></th><th scope=col>&lt;dbl&gt;</th><th scope=col>&lt;dbl&gt;</th><th scope=col>&lt;dbl&gt;</th><th scope=col>&lt;dbl&gt;</th><th scope=col>&lt;dbl&gt;</th><th scope=col>&lt;dbl&gt;</th><th scope=col>&lt;dbl&gt;</th><th scope=col>&lt;dbl&gt;</th><th scope=col>&lt;dbl&gt;</th><th scope=col>&lt;dbl&gt;</th><th scope=col>⋯</th><th scope=col>&lt;dbl&gt;</th><th scope=col>&lt;dbl&gt;</th><th scope=col>&lt;dbl&gt;</th><th scope=col>&lt;dbl&gt;</th><th scope=col>&lt;dbl&gt;</th><th scope=col>&lt;dbl&gt;</th><th scope=col>&lt;dbl&gt;</th><th scope=col>&lt;dbl&gt;</th><th scope=col>&lt;dbl&gt;</th><th scope=col>&lt;dbl&gt;</th></tr>\n",
       "</thead>\n",
       "<tbody>\n",
       "\t<tr><th scope=row>F14_Common_Bream</th><td>0.3533185</td><td>0.32246438</td><td>2.91428908</td><td>0.3254381</td><td>0.3703154</td><td>0.3612832</td><td>0.30778200</td><td>0.27413385</td><td>0.3629528</td><td>0.29043538</td><td>⋯</td><td>0.1665158</td><td>-0.03874821</td><td> 0.4547095</td><td> 0.2546676</td><td>0.73849765</td><td>-2.920287</td><td>-3.236448</td><td>-2.117767</td><td> 8.7026399</td><td> 0.4149247</td></tr>\n",
       "\t<tr><th scope=row>F35_Red_Deer</th><td>0.0982570</td><td>0.06740287</td><td>0.04961681</td><td>4.4809734</td><td>0.1152539</td><td>0.1062217</td><td>0.05272048</td><td>0.01907233</td><td>0.1078913</td><td>0.03537386</td><td>⋯</td><td>2.7692054</td><td>-0.64532655</td><td>-0.1518688</td><td>-0.3519108</td><td>0.03596791</td><td> 1.275840</td><td>-3.843026</td><td> 3.204286</td><td>-0.3493636</td><td>-0.1916536</td></tr>\n",
       "\t<tr><th scope=row>⋮</th><td>⋮</td><td>⋮</td><td>⋮</td><td>⋮</td><td>⋮</td><td>⋮</td><td>⋮</td><td>⋮</td><td>⋮</td><td>⋮</td><td>⋱</td><td>⋮</td><td>⋮</td><td>⋮</td><td>⋮</td><td>⋮</td><td>⋮</td><td>⋮</td><td>⋮</td><td>⋮</td><td>⋮</td></tr>\n",
       "\t<tr><th scope=row>X431_Quagga</th><td> 0.1988029</td><td> 0.1679488</td><td> 0.1501628</td><td> 0.1709225</td><td> 0.2157999</td><td> 0.2067676</td><td> 0.1532664</td><td> 0.1196183</td><td> 0.2084372</td><td> 0.1359198</td><td>⋯</td><td> 3.234569</td><td>-0.3855593</td><td> 0.1078984</td><td> 4.675893</td><td> 0.5839821</td><td>-2.158147</td><td>-3.583259</td><td>-2.46457812</td><td>-0.08959639</td><td> 0.0681136</td></tr>\n",
       "\t<tr><th scope=row>X67_European_Roe</th><td>-0.4190308</td><td>-0.4498850</td><td>-0.4676710</td><td>-0.4469112</td><td>-0.4020339</td><td>-0.4110661</td><td>-0.4645673</td><td>-0.4982155</td><td>-0.4093965</td><td>-0.4819140</td><td>⋯</td><td>-2.166684</td><td>-1.5943665</td><td>-1.1009088</td><td>-1.300951</td><td>-0.9130721</td><td> 1.004511</td><td>-4.792066</td><td>-0.03111916</td><td>-1.29840360</td><td>-1.1406936</td></tr>\n",
       "</tbody>\n",
       "</table>\n"
      ],
      "text/latex": [
       "A data.frame: 185 × 57\n",
       "\\begin{tabular}{r|lllllllllllllllllllll}\n",
       "  & c3b19986023201183d07b2bf6dc9eaab & e6ddd5efa2e9229aa04f33e832450fa8 & 5887dc080d027d30580310a1eb1f3166 & c0eb38cd52d8be27c54de8a8b06f9a9a & bfb96cf07d2fec50b18d3a9665ba6e80 & 66cc60d5322fdeaf48cc8bdd82effea2 & f906aca9a9c84f01cbd8a874cce7e6fe & 1936b1a270b058c5754be0addc7c7c31 & 252850216e7d0123bfafd7eed609799d & 7950a70a07006f7c7b0c6f02c46a93af & ⋯ & 092547e9f87986180c27587156336bcb & 2987f396047df01622b365b3b667a4eb & fef8ef65bd3598e9f1fec3bd32a9b4bd & b9abd819fdd733c57642461d1c2247a6 & 75f3ea1df98051a1b49107173aa51a32 & 1578a874797e43b052a66b2fb5ef9e4a & b7ed842d3fbe5d8d33504a0a765409ae & 1f1f87cab902b66753b8bbd81e69a7d4 & 250a31c11dbecf1e2ef705424fdaa7a7 & 188795b8eb1edbd3334be2676ca05391\\\\\n",
       "  & <dbl> & <dbl> & <dbl> & <dbl> & <dbl> & <dbl> & <dbl> & <dbl> & <dbl> & <dbl> & ⋯ & <dbl> & <dbl> & <dbl> & <dbl> & <dbl> & <dbl> & <dbl> & <dbl> & <dbl> & <dbl>\\\\\n",
       "\\hline\n",
       "\tF14\\_Common\\_Bream & 0.3533185 & 0.32246438 & 2.91428908 & 0.3254381 & 0.3703154 & 0.3612832 & 0.30778200 & 0.27413385 & 0.3629528 & 0.29043538 & ⋯ & 0.1665158 & -0.03874821 &  0.4547095 &  0.2546676 & 0.73849765 & -2.920287 & -3.236448 & -2.117767 &  8.7026399 &  0.4149247\\\\\n",
       "\tF35\\_Red\\_Deer & 0.0982570 & 0.06740287 & 0.04961681 & 4.4809734 & 0.1152539 & 0.1062217 & 0.05272048 & 0.01907233 & 0.1078913 & 0.03537386 & ⋯ & 2.7692054 & -0.64532655 & -0.1518688 & -0.3519108 & 0.03596791 &  1.275840 & -3.843026 &  3.204286 & -0.3493636 & -0.1916536\\\\\n",
       "\t⋮ & ⋮ & ⋮ & ⋮ & ⋮ & ⋮ & ⋮ & ⋮ & ⋮ & ⋮ & ⋮ & ⋱ & ⋮ & ⋮ & ⋮ & ⋮ & ⋮ & ⋮ & ⋮ & ⋮ & ⋮ & ⋮\\\\\n",
       "\tX431\\_Quagga &  0.1988029 &  0.1679488 &  0.1501628 &  0.1709225 &  0.2157999 &  0.2067676 &  0.1532664 &  0.1196183 &  0.2084372 &  0.1359198 & ⋯ &  3.234569 & -0.3855593 &  0.1078984 &  4.675893 &  0.5839821 & -2.158147 & -3.583259 & -2.46457812 & -0.08959639 &  0.0681136\\\\\n",
       "\tX67\\_European\\_Roe & -0.4190308 & -0.4498850 & -0.4676710 & -0.4469112 & -0.4020339 & -0.4110661 & -0.4645673 & -0.4982155 & -0.4093965 & -0.4819140 & ⋯ & -2.166684 & -1.5943665 & -1.1009088 & -1.300951 & -0.9130721 &  1.004511 & -4.792066 & -0.03111916 & -1.29840360 & -1.1406936\\\\\n",
       "\\end{tabular}\n"
      ],
      "text/markdown": [
       "\n",
       "A data.frame: 185 × 57\n",
       "\n",
       "| <!--/--> | c3b19986023201183d07b2bf6dc9eaab &lt;dbl&gt; | e6ddd5efa2e9229aa04f33e832450fa8 &lt;dbl&gt; | 5887dc080d027d30580310a1eb1f3166 &lt;dbl&gt; | c0eb38cd52d8be27c54de8a8b06f9a9a &lt;dbl&gt; | bfb96cf07d2fec50b18d3a9665ba6e80 &lt;dbl&gt; | 66cc60d5322fdeaf48cc8bdd82effea2 &lt;dbl&gt; | f906aca9a9c84f01cbd8a874cce7e6fe &lt;dbl&gt; | 1936b1a270b058c5754be0addc7c7c31 &lt;dbl&gt; | 252850216e7d0123bfafd7eed609799d &lt;dbl&gt; | 7950a70a07006f7c7b0c6f02c46a93af &lt;dbl&gt; | ⋯ ⋯ | 092547e9f87986180c27587156336bcb &lt;dbl&gt; | 2987f396047df01622b365b3b667a4eb &lt;dbl&gt; | fef8ef65bd3598e9f1fec3bd32a9b4bd &lt;dbl&gt; | b9abd819fdd733c57642461d1c2247a6 &lt;dbl&gt; | 75f3ea1df98051a1b49107173aa51a32 &lt;dbl&gt; | 1578a874797e43b052a66b2fb5ef9e4a &lt;dbl&gt; | b7ed842d3fbe5d8d33504a0a765409ae &lt;dbl&gt; | 1f1f87cab902b66753b8bbd81e69a7d4 &lt;dbl&gt; | 250a31c11dbecf1e2ef705424fdaa7a7 &lt;dbl&gt; | 188795b8eb1edbd3334be2676ca05391 &lt;dbl&gt; |\n",
       "|---|---|---|---|---|---|---|---|---|---|---|---|---|---|---|---|---|---|---|---|---|---|\n",
       "| F14_Common_Bream | 0.3533185 | 0.32246438 | 2.91428908 | 0.3254381 | 0.3703154 | 0.3612832 | 0.30778200 | 0.27413385 | 0.3629528 | 0.29043538 | ⋯ | 0.1665158 | -0.03874821 |  0.4547095 |  0.2546676 | 0.73849765 | -2.920287 | -3.236448 | -2.117767 |  8.7026399 |  0.4149247 |\n",
       "| F35_Red_Deer | 0.0982570 | 0.06740287 | 0.04961681 | 4.4809734 | 0.1152539 | 0.1062217 | 0.05272048 | 0.01907233 | 0.1078913 | 0.03537386 | ⋯ | 2.7692054 | -0.64532655 | -0.1518688 | -0.3519108 | 0.03596791 |  1.275840 | -3.843026 |  3.204286 | -0.3493636 | -0.1916536 |\n",
       "| ⋮ | ⋮ | ⋮ | ⋮ | ⋮ | ⋮ | ⋮ | ⋮ | ⋮ | ⋮ | ⋮ | ⋱ | ⋮ | ⋮ | ⋮ | ⋮ | ⋮ | ⋮ | ⋮ | ⋮ | ⋮ | ⋮ |\n",
       "| X431_Quagga |  0.1988029 |  0.1679488 |  0.1501628 |  0.1709225 |  0.2157999 |  0.2067676 |  0.1532664 |  0.1196183 |  0.2084372 |  0.1359198 | ⋯ |  3.234569 | -0.3855593 |  0.1078984 |  4.675893 |  0.5839821 | -2.158147 | -3.583259 | -2.46457812 | -0.08959639 |  0.0681136 |\n",
       "| X67_European_Roe | -0.4190308 | -0.4498850 | -0.4676710 | -0.4469112 | -0.4020339 | -0.4110661 | -0.4645673 | -0.4982155 | -0.4093965 | -0.4819140 | ⋯ | -2.166684 | -1.5943665 | -1.1009088 | -1.300951 | -0.9130721 |  1.004511 | -4.792066 | -0.03111916 | -1.29840360 | -1.1406936 |\n",
       "\n"
      ],
      "text/plain": [
       "                 c3b19986023201183d07b2bf6dc9eaab\n",
       "F14_Common_Bream 0.3533185                       \n",
       "F35_Red_Deer     0.0982570                       \n",
       "⋮                ⋮                               \n",
       "X431_Quagga       0.1988029                      \n",
       "X67_European_Roe -0.4190308                      \n",
       "                 e6ddd5efa2e9229aa04f33e832450fa8\n",
       "F14_Common_Bream 0.32246438                      \n",
       "F35_Red_Deer     0.06740287                      \n",
       "⋮                ⋮                               \n",
       "X431_Quagga       0.1679488                      \n",
       "X67_European_Roe -0.4498850                      \n",
       "                 5887dc080d027d30580310a1eb1f3166\n",
       "F14_Common_Bream 2.91428908                      \n",
       "F35_Red_Deer     0.04961681                      \n",
       "⋮                ⋮                               \n",
       "X431_Quagga       0.1501628                      \n",
       "X67_European_Roe -0.4676710                      \n",
       "                 c0eb38cd52d8be27c54de8a8b06f9a9a\n",
       "F14_Common_Bream 0.3254381                       \n",
       "F35_Red_Deer     4.4809734                       \n",
       "⋮                ⋮                               \n",
       "X431_Quagga       0.1709225                      \n",
       "X67_European_Roe -0.4469112                      \n",
       "                 bfb96cf07d2fec50b18d3a9665ba6e80\n",
       "F14_Common_Bream 0.3703154                       \n",
       "F35_Red_Deer     0.1152539                       \n",
       "⋮                ⋮                               \n",
       "X431_Quagga       0.2157999                      \n",
       "X67_European_Roe -0.4020339                      \n",
       "                 66cc60d5322fdeaf48cc8bdd82effea2\n",
       "F14_Common_Bream 0.3612832                       \n",
       "F35_Red_Deer     0.1062217                       \n",
       "⋮                ⋮                               \n",
       "X431_Quagga       0.2067676                      \n",
       "X67_European_Roe -0.4110661                      \n",
       "                 f906aca9a9c84f01cbd8a874cce7e6fe\n",
       "F14_Common_Bream 0.30778200                      \n",
       "F35_Red_Deer     0.05272048                      \n",
       "⋮                ⋮                               \n",
       "X431_Quagga       0.1532664                      \n",
       "X67_European_Roe -0.4645673                      \n",
       "                 1936b1a270b058c5754be0addc7c7c31\n",
       "F14_Common_Bream 0.27413385                      \n",
       "F35_Red_Deer     0.01907233                      \n",
       "⋮                ⋮                               \n",
       "X431_Quagga       0.1196183                      \n",
       "X67_European_Roe -0.4982155                      \n",
       "                 252850216e7d0123bfafd7eed609799d\n",
       "F14_Common_Bream 0.3629528                       \n",
       "F35_Red_Deer     0.1078913                       \n",
       "⋮                ⋮                               \n",
       "X431_Quagga       0.2084372                      \n",
       "X67_European_Roe -0.4093965                      \n",
       "                 7950a70a07006f7c7b0c6f02c46a93af ⋯\n",
       "F14_Common_Bream 0.29043538                       ⋯\n",
       "F35_Red_Deer     0.03537386                       ⋯\n",
       "⋮                ⋮                                ⋱\n",
       "X431_Quagga       0.1359198                       ⋯\n",
       "X67_European_Roe -0.4819140                       ⋯\n",
       "                 092547e9f87986180c27587156336bcb\n",
       "F14_Common_Bream 0.1665158                       \n",
       "F35_Red_Deer     2.7692054                       \n",
       "⋮                ⋮                               \n",
       "X431_Quagga       3.234569                       \n",
       "X67_European_Roe -2.166684                       \n",
       "                 2987f396047df01622b365b3b667a4eb\n",
       "F14_Common_Bream -0.03874821                     \n",
       "F35_Red_Deer     -0.64532655                     \n",
       "⋮                ⋮                               \n",
       "X431_Quagga      -0.3855593                      \n",
       "X67_European_Roe -1.5943665                      \n",
       "                 fef8ef65bd3598e9f1fec3bd32a9b4bd\n",
       "F14_Common_Bream  0.4547095                      \n",
       "F35_Red_Deer     -0.1518688                      \n",
       "⋮                ⋮                               \n",
       "X431_Quagga       0.1078984                      \n",
       "X67_European_Roe -1.1009088                      \n",
       "                 b9abd819fdd733c57642461d1c2247a6\n",
       "F14_Common_Bream  0.2546676                      \n",
       "F35_Red_Deer     -0.3519108                      \n",
       "⋮                ⋮                               \n",
       "X431_Quagga       4.675893                       \n",
       "X67_European_Roe -1.300951                       \n",
       "                 75f3ea1df98051a1b49107173aa51a32\n",
       "F14_Common_Bream 0.73849765                      \n",
       "F35_Red_Deer     0.03596791                      \n",
       "⋮                ⋮                               \n",
       "X431_Quagga       0.5839821                      \n",
       "X67_European_Roe -0.9130721                      \n",
       "                 1578a874797e43b052a66b2fb5ef9e4a\n",
       "F14_Common_Bream -2.920287                       \n",
       "F35_Red_Deer      1.275840                       \n",
       "⋮                ⋮                               \n",
       "X431_Quagga      -2.158147                       \n",
       "X67_European_Roe  1.004511                       \n",
       "                 b7ed842d3fbe5d8d33504a0a765409ae\n",
       "F14_Common_Bream -3.236448                       \n",
       "F35_Red_Deer     -3.843026                       \n",
       "⋮                ⋮                               \n",
       "X431_Quagga      -3.583259                       \n",
       "X67_European_Roe -4.792066                       \n",
       "                 1f1f87cab902b66753b8bbd81e69a7d4\n",
       "F14_Common_Bream -2.117767                       \n",
       "F35_Red_Deer      3.204286                       \n",
       "⋮                ⋮                               \n",
       "X431_Quagga      -2.46457812                     \n",
       "X67_European_Roe -0.03111916                     \n",
       "                 250a31c11dbecf1e2ef705424fdaa7a7\n",
       "F14_Common_Bream  8.7026399                      \n",
       "F35_Red_Deer     -0.3493636                      \n",
       "⋮                ⋮                               \n",
       "X431_Quagga      -0.08959639                     \n",
       "X67_European_Roe -1.29840360                     \n",
       "                 188795b8eb1edbd3334be2676ca05391\n",
       "F14_Common_Bream  0.4149247                      \n",
       "F35_Red_Deer     -0.1916536                      \n",
       "⋮                ⋮                               \n",
       "X431_Quagga       0.0681136                      \n",
       "X67_European_Roe -1.1406936                      "
      ]
     },
     "metadata": {},
     "output_type": "display_data"
    }
   ],
   "source": [
    "# transforming\n",
    "otu = compositions::clr(t(otu)) %>%\n",
    "    t %>% as.data.frame\n",
    "otu"
   ]
  },
  {
   "cell_type": "code",
   "execution_count": 22,
   "metadata": {
    "ExecuteTime": {
     "end_time": "2020-06-18T12:25:36.095391Z",
     "start_time": "2020-06-18T12:25:31.094Z"
    }
   },
   "outputs": [
    {
     "data": {
      "text/plain": [
       "   Min. 1st Qu.  Median    Mean 3rd Qu.    Max. \n",
       "-92.235 -26.878   8.046   0.000  27.231  58.193 "
      ]
     },
     "metadata": {},
     "output_type": "display_data"
    },
    {
     "data": {
      "text/plain": [
       "      Min.    1st Qu.     Median       Mean    3rd Qu.       Max. \n",
       "-2.611e-13 -5.373e-14 -2.581e-15 -1.383e-14  3.109e-14  2.420e-13 "
      ]
     },
     "metadata": {},
     "output_type": "display_data"
    }
   ],
   "source": [
    "# summary\n",
    "otu %>% rowSums %>% summary\n",
    "otu %>% colSums %>% summary"
   ]
  },
  {
   "cell_type": "markdown",
   "metadata": {},
   "source": [
    "## New phyloseq obj"
   ]
  },
  {
   "cell_type": "code",
   "execution_count": 23,
   "metadata": {
    "ExecuteTime": {
     "end_time": "2020-06-18T12:25:36.158823Z",
     "start_time": "2020-06-18T12:25:32.304Z"
    }
   },
   "outputs": [
    {
     "data": {
      "text/plain": [
       "phyloseq-class experiment-level object\n",
       "otu_table()   OTU Table:         [ 57 taxa and 185 samples ]\n",
       "sample_data() Sample Data:       [ 185 samples by 88 sample variables ]\n",
       "tax_table()   Taxonomy Table:    [ 57 taxa by 7 taxonomic ranks ]\n",
       "phy_tree()    Phylogenetic Tree: [ 57 tips and 56 internal nodes ]"
      ]
     },
     "metadata": {},
     "output_type": "display_data"
    }
   ],
   "source": [
    "# new phyloseq object\n",
    "physeq_arch_IndD_clr = phyloseq(otu_table(otu %>% t %>% as.data.frame, \n",
    "                                          taxa_are_rows=TRUE),\n",
    "                                tax_table(physeq_arch_IndD),\n",
    "                                sample_data(physeq_arch_IndD),\n",
    "                                phy_tree(physeq_arch_IndD))\n",
    "physeq_arch_IndD_clr"
   ]
  },
  {
   "cell_type": "code",
   "execution_count": 24,
   "metadata": {
    "ExecuteTime": {
     "end_time": "2020-06-18T12:25:36.199680Z",
     "start_time": "2020-06-18T12:25:35.503Z"
    }
   },
   "outputs": [
    {
     "name": "stdout",
     "output_type": "stream",
     "text": [
      "File written: /ebio/abt3_projects/Georg_animal_feces/data/16S_arch/MiSeq-Runs-116-122-126-189-190/LLA/merged/phyloseq/physeq_arch_IndD_clr-genus.RDS \n"
     ]
    }
   ],
   "source": [
    "# writing new file\n",
    "physeq_arch_IndD_clr_file = file.path(dirname(physeq_arch_IndD_file),\n",
    "                                      'physeq_arch_IndD_clr-genus.RDS')\n",
    "saveRDS(physeq_arch_IndD_clr, physeq_arch_IndD_clr_file)\n",
    "cat('File written:', physeq_arch_IndD_clr_file, '\\n')"
   ]
  },
  {
   "cell_type": "markdown",
   "metadata": {},
   "source": [
    "# sessionInfo"
   ]
  },
  {
   "cell_type": "code",
   "execution_count": 25,
   "metadata": {
    "ExecuteTime": {
     "end_time": "2020-06-18T12:25:37.191193Z",
     "start_time": "2020-06-18T12:25:37.097Z"
    }
   },
   "outputs": [
    {
     "data": {
      "text/plain": [
       "R version 3.6.2 (2019-12-12)\n",
       "Platform: x86_64-conda_cos6-linux-gnu (64-bit)\n",
       "Running under: Ubuntu 18.04.4 LTS\n",
       "\n",
       "Matrix products: default\n",
       "BLAS/LAPACK: /ebio/abt3_projects/Georg_animal_feces/envs/phyloseq-eco/lib/libopenblasp-r0.3.7.so\n",
       "\n",
       "locale:\n",
       " [1] LC_CTYPE=en_US.UTF-8       LC_NUMERIC=C              \n",
       " [3] LC_TIME=en_US.UTF-8        LC_COLLATE=en_US.UTF-8    \n",
       " [5] LC_MONETARY=en_US.UTF-8    LC_MESSAGES=en_US.UTF-8   \n",
       " [7] LC_PAPER=en_US.UTF-8       LC_NAME=C                 \n",
       " [9] LC_ADDRESS=C               LC_TELEPHONE=C            \n",
       "[11] LC_MEASUREMENT=en_US.UTF-8 LC_IDENTIFICATION=C       \n",
       "\n",
       "attached base packages:\n",
       "[1] stats     graphics  grDevices utils     datasets  methods   base     \n",
       "\n",
       "other attached packages:\n",
       " [1] LeyLabRMisc_0.1.6   zCompositions_1.3.4 truncnorm_1.0-8    \n",
       " [4] NADA_1.6-1.1        survival_3.1-8      MASS_7.3-51.5      \n",
       " [7] phyloseq_1.30.0     ggplot2_3.2.1       tidyr_1.0.0        \n",
       "[10] dplyr_0.8.5        \n",
       "\n",
       "loaded via a namespace (and not attached):\n",
       " [1] Biobase_2.46.0      jsonlite_1.6        splines_3.6.2      \n",
       " [4] foreach_1.4.7       assertthat_0.2.1    stats4_3.6.2       \n",
       " [7] tensorA_0.36.1      robustbase_0.93-6   pillar_1.4.3       \n",
       "[10] lattice_0.20-38     glue_1.3.1          uuid_0.1-2         \n",
       "[13] digest_0.6.23       XVector_0.26.0      colorspace_1.4-1   \n",
       "[16] htmltools_0.4.0     Matrix_1.2-18       plyr_1.8.5         \n",
       "[19] pkgconfig_2.0.3     zlibbioc_1.32.0     purrr_0.3.3        \n",
       "[22] scales_1.1.0        tibble_2.1.3        mgcv_1.8-31        \n",
       "[25] IRanges_2.20.0      withr_2.1.2         repr_1.0.2         \n",
       "[28] BiocGenerics_0.32.0 lazyeval_0.2.2      magrittr_1.5       \n",
       "[31] crayon_1.3.4        evaluate_0.14       nlme_3.1-143       \n",
       "[34] compositions_1.40-5 vegan_2.5-6         tools_3.6.2        \n",
       "[37] data.table_1.12.8   lifecycle_0.1.0     stringr_1.4.0      \n",
       "[40] Rhdf5lib_1.8.0      S4Vectors_0.24.0    munsell_0.5.0      \n",
       "[43] cluster_2.1.0       Biostrings_2.54.0   ade4_1.7-13        \n",
       "[46] compiler_3.6.2      rlang_0.4.6         rhdf5_2.30.0       \n",
       "[49] grid_3.6.2          pbdZMQ_0.3-3        iterators_1.0.12   \n",
       "[52] IRkernel_1.1        biomformat_1.14.0   igraph_1.2.4.2     \n",
       "[55] base64enc_0.1-3     gtable_0.3.0        codetools_0.2-16   \n",
       "[58] multtest_2.42.0     reshape2_1.4.3      R6_2.4.1           \n",
       "[61] bayesm_3.1-4        permute_0.9-5       ape_5.3            \n",
       "[64] stringi_1.4.5       parallel_3.6.2      IRdisplay_0.7.0    \n",
       "[67] Rcpp_1.0.3          vctrs_0.3.0         DEoptimR_1.0-8     \n",
       "[70] tidyselect_1.1.0   "
      ]
     },
     "metadata": {},
     "output_type": "display_data"
    }
   ],
   "source": [
    "sessionInfo()"
   ]
  },
  {
   "cell_type": "code",
   "execution_count": null,
   "metadata": {},
   "outputs": [],
   "source": []
  }
 ],
 "metadata": {
  "kernelspec": {
   "display_name": "R [conda env:Georg_animal_feces-phyloseq-eco]",
   "language": "R",
   "name": "conda-env-Georg_animal_feces-phyloseq-eco-r"
  },
  "language_info": {
   "codemirror_mode": "r",
   "file_extension": ".r",
   "mimetype": "text/x-r-source",
   "name": "R",
   "pygments_lexer": "r",
   "version": "3.6.2"
  },
  "notify_time": "30",
  "toc": {
   "base_numbering": 1,
   "nav_menu": {},
   "number_sections": true,
   "sideBar": true,
   "skip_h1_title": false,
   "title_cell": "Table of Contents",
   "title_sidebar": "Contents",
   "toc_cell": true,
   "toc_position": {},
   "toc_section_display": true,
   "toc_window_display": true
  }
 },
 "nbformat": 4,
 "nbformat_minor": 4
}
