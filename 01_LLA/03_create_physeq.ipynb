{
 "cells": [
  {
   "cell_type": "markdown",
   "metadata": {
    "toc": true
   },
   "source": [
    "<h1>Table of Contents<span class=\"tocSkip\"></span></h1>\n",
    "<div class=\"toc\"><ul class=\"toc-item\"><li><span><a href=\"#Goal\" data-toc-modified-id=\"Goal-1\"><span class=\"toc-item-num\">1&nbsp;&nbsp;</span>Goal</a></span></li><li><span><a href=\"#Var\" data-toc-modified-id=\"Var-2\"><span class=\"toc-item-num\">2&nbsp;&nbsp;</span>Var</a></span></li><li><span><a href=\"#Init\" data-toc-modified-id=\"Init-3\"><span class=\"toc-item-num\">3&nbsp;&nbsp;</span>Init</a></span></li><li><span><a href=\"#Converting-qiime2-files\" data-toc-modified-id=\"Converting-qiime2-files-4\"><span class=\"toc-item-num\">4&nbsp;&nbsp;</span>Converting qiime2 files</a></span><ul class=\"toc-item\"><li><span><a href=\"#OTU-table\" data-toc-modified-id=\"OTU-table-4.1\"><span class=\"toc-item-num\">4.1&nbsp;&nbsp;</span>OTU table</a></span></li><li><span><a href=\"#Taxonomy\" data-toc-modified-id=\"Taxonomy-4.2\"><span class=\"toc-item-num\">4.2&nbsp;&nbsp;</span>Taxonomy</a></span></li><li><span><a href=\"#Tree\" data-toc-modified-id=\"Tree-4.3\"><span class=\"toc-item-num\">4.3&nbsp;&nbsp;</span>Tree</a></span></li></ul></li><li><span><a href=\"#Load\" data-toc-modified-id=\"Load-5\"><span class=\"toc-item-num\">5&nbsp;&nbsp;</span>Load</a></span></li><li><span><a href=\"#Formatting-metadata\" data-toc-modified-id=\"Formatting-metadata-6\"><span class=\"toc-item-num\">6&nbsp;&nbsp;</span>Formatting metadata</a></span></li><li><span><a href=\"#Checking-overlap\" data-toc-modified-id=\"Checking-overlap-7\"><span class=\"toc-item-num\">7&nbsp;&nbsp;</span>Checking overlap</a></span></li><li><span><a href=\"#Making-phyloseq-object\" data-toc-modified-id=\"Making-phyloseq-object-8\"><span class=\"toc-item-num\">8&nbsp;&nbsp;</span>Making phyloseq object</a></span><ul class=\"toc-item\"><li><span><a href=\"#Writing-object\" data-toc-modified-id=\"Writing-object-8.1\"><span class=\"toc-item-num\">8.1&nbsp;&nbsp;</span>Writing object</a></span></li></ul></li><li><span><a href=\"#sessionInfo\" data-toc-modified-id=\"sessionInfo-9\"><span class=\"toc-item-num\">9&nbsp;&nbsp;</span>sessionInfo</a></span></li></ul></div>"
   ]
  },
  {
   "cell_type": "markdown",
   "metadata": {},
   "source": [
    "# Goal\n",
    "\n",
    "* Creating a phyloseq object from the merged Qiime2 artifacts"
   ]
  },
  {
   "cell_type": "markdown",
   "metadata": {},
   "source": [
    "# Var"
   ]
  },
  {
   "cell_type": "code",
   "execution_count": 1,
   "metadata": {
    "ExecuteTime": {
     "end_time": "2020-03-06T12:45:23.289629Z",
     "start_time": "2020-03-06T12:45:23.170Z"
    }
   },
   "outputs": [],
   "source": [
    "work_dir = '/ebio/abt3_projects/Georg_animal_feces/data/16S_arch/MiSeq-Runs-116-122-126-189-190/LLA/merged/'\n",
    "\n",
    "# all MiSeq runs (LLA_merged)\n",
    "SV_file = file.path(work_dir, 'table_merged_filt.qza')\n",
    "tax_file = file.path(work_dir, 'taxonomy.qza')\n",
    "tree_file = file.path(work_dir, 'aligned-rep-seqs_filt_masked_midroot-tree.qza')\n",
    "\n",
    "# newest version of metadata\n",
    "metadata_file = '/ebio/abt3_projects/Georg_animal_feces/data/mapping/unified_metadata_complete_190529.tsv'\n",
    "\n",
    "# params\n",
    "conda_env = 'qiime2-2019.10'\n",
    "threads = 24"
   ]
  },
  {
   "cell_type": "markdown",
   "metadata": {},
   "source": [
    "# Init"
   ]
  },
  {
   "cell_type": "code",
   "execution_count": 4,
   "metadata": {
    "ExecuteTime": {
     "end_time": "2020-03-06T12:45:31.543846Z",
     "start_time": "2020-03-06T12:45:27.187Z"
    }
   },
   "outputs": [],
   "source": [
    "library(dtplyr)\n",
    "library(dplyr)\n",
    "library(tidyr)\n",
    "library(ggplot2)\n",
    "library(phyloseq)\n",
    "library(LeyLabRMisc)"
   ]
  },
  {
   "cell_type": "code",
   "execution_count": 3,
   "metadata": {
    "ExecuteTime": {
     "end_time": "2020-03-06T12:45:31.518858Z",
     "start_time": "2020-03-06T12:45:23.537Z"
    }
   },
   "outputs": [
    {
     "name": "stdout",
     "output_type": "stream",
     "text": [
      "Directory already exists: /ebio/abt3_projects/Georg_animal_feces/data/16S_arch/MiSeq-Runs-116-122-126-189-190/LLA/merged/ \n"
     ]
    }
   ],
   "source": [
    "df.dims()\n",
    "make_dir(work_dir)\n",
    "setwd(work_dir)"
   ]
  },
  {
   "cell_type": "markdown",
   "metadata": {},
   "source": [
    "# Converting qiime2 files"
   ]
  },
  {
   "cell_type": "code",
   "execution_count": 5,
   "metadata": {
    "ExecuteTime": {
     "end_time": "2020-03-06T12:45:35.059533Z",
     "start_time": "2020-03-06T12:45:34.962Z"
    }
   },
   "outputs": [
    {
     "name": "stdout",
     "output_type": "stream",
     "text": [
      "[1] TRUE\n",
      "[1] TRUE\n",
      "[1] TRUE\n",
      "[1] TRUE\n"
     ]
    }
   ],
   "source": [
    "file.exists(SV_file) %>% print\n",
    "file.exists(tax_file) %>% print\n",
    "file.exists(tree_file) %>% print\n",
    "file.exists(metadata_file) %>% print"
   ]
  },
  {
   "cell_type": "markdown",
   "metadata": {},
   "source": [
    "## OTU table"
   ]
  },
  {
   "cell_type": "code",
   "execution_count": 6,
   "metadata": {
    "ExecuteTime": {
     "end_time": "2020-03-06T12:46:19.025546Z",
     "start_time": "2020-03-06T12:45:37.120Z"
    }
   },
   "outputs": [
    {
     "name": "stdout",
     "output_type": "stream",
     "text": [
      "Exported /ebio/abt3_projects/Georg_animal_feces/data/16S_arch/MiSeq-Runs-116-122-126-189-190/LLA/merged//table_merged_filt.qza as BIOMV210DirFmt to directory ."
     ]
    },
    {
     "data": {
      "text/plain": [
       "NULL"
      ]
     },
     "metadata": {},
     "output_type": "display_data"
    }
   ],
   "source": [
    "# coverting artifact to biom\n",
    "cmd = sprintf('qiime tools export --output-path . --input-path %s', SV_file)\n",
    "bash_job(cmd, conda_env, stderr=TRUE)"
   ]
  },
  {
   "cell_type": "code",
   "execution_count": 7,
   "metadata": {
    "ExecuteTime": {
     "end_time": "2020-03-06T12:46:43.666134Z",
     "start_time": "2020-03-06T12:45:37.249Z"
    }
   },
   "outputs": [
    {
     "data": {
      "text/plain": [
       "NULL"
      ]
     },
     "metadata": {},
     "output_type": "display_data"
    }
   ],
   "source": [
    "# converting biom to tsv\n",
    "cmd = sprintf('biom convert -i feature-table.biom -o otu_table.tsv --to-tsv')\n",
    "bash_job(cmd, conda_env, stderr=TRUE)"
   ]
  },
  {
   "cell_type": "markdown",
   "metadata": {},
   "source": [
    "## Taxonomy"
   ]
  },
  {
   "cell_type": "code",
   "execution_count": 8,
   "metadata": {
    "ExecuteTime": {
     "end_time": "2020-03-06T12:46:54.281404Z",
     "start_time": "2020-03-06T12:45:39.736Z"
    }
   },
   "outputs": [
    {
     "name": "stdout",
     "output_type": "stream",
     "text": [
      "Exported /ebio/abt3_projects/Georg_animal_feces/data/16S_arch/MiSeq-Runs-116-122-126-189-190/LLA/merged//taxonomy.qza as TSVTaxonomyDirectoryFormat to directory ."
     ]
    },
    {
     "data": {
      "text/plain": [
       "NULL"
      ]
     },
     "metadata": {},
     "output_type": "display_data"
    }
   ],
   "source": [
    "# coverting artifact to biom\n",
    "cmd = sprintf('qiime tools export --output-path . --input-path %s', tax_file)\n",
    "bash_job(cmd, conda_env, stderr=TRUE)"
   ]
  },
  {
   "cell_type": "code",
   "execution_count": 9,
   "metadata": {
    "ExecuteTime": {
     "end_time": "2020-03-06T12:47:01.460781Z",
     "start_time": "2020-03-06T12:45:39.849Z"
    }
   },
   "outputs": [
    {
     "data": {
      "text/plain": [
       "NULL"
      ]
     },
     "metadata": {},
     "output_type": "display_data"
    }
   ],
   "source": [
    "# formatting taxonomy\n",
    "exe = '/ebio/abt3_projects/Georg_animal_feces/code/taxonomy_format.py'\n",
    "cmd = sprintf('%s %s > %s', exe, 'taxonomy.tsv', 'taxonomy_L0-6.tsv')\n",
    "bash_job(cmd, conda_env, stderr=TRUE)"
   ]
  },
  {
   "cell_type": "markdown",
   "metadata": {},
   "source": [
    "## Tree"
   ]
  },
  {
   "cell_type": "code",
   "execution_count": 10,
   "metadata": {
    "ExecuteTime": {
     "end_time": "2020-03-06T12:47:12.165066Z",
     "start_time": "2020-03-06T12:45:42.640Z"
    }
   },
   "outputs": [
    {
     "name": "stdout",
     "output_type": "stream",
     "text": [
      "Exported /ebio/abt3_projects/Georg_animal_feces/data/16S_arch/MiSeq-Runs-116-122-126-189-190/LLA/merged//aligned-rep-seqs_filt_masked_midroot-tree.qza as NewickDirectoryFormat to directory ."
     ]
    },
    {
     "data": {
      "text/plain": [
       "NULL"
      ]
     },
     "metadata": {},
     "output_type": "display_data"
    }
   ],
   "source": [
    "# coverting artifact to biom\n",
    "cmd = sprintf('qiime tools export --output-path . --input-path %s', tree_file)\n",
    "bash_job(cmd, conda_env, stderr=TRUE)"
   ]
  },
  {
   "cell_type": "markdown",
   "metadata": {},
   "source": [
    "# Load"
   ]
  },
  {
   "cell_type": "code",
   "execution_count": 11,
   "metadata": {
    "ExecuteTime": {
     "end_time": "2020-03-06T12:47:17.463659Z",
     "start_time": "2020-03-06T12:45:43.409Z"
    }
   },
   "outputs": [
    {
     "data": {
      "text/html": [
       "<table>\n",
       "<caption>A data.frame: 81276 × 301</caption>\n",
       "<thead>\n",
       "\t<tr><th></th><th scope=col>F14_Common_Bream</th><th scope=col>F35_Red_Deer</th><th scope=col>F36_Red_Deer</th><th scope=col>F44_Fallow_Deer</th><th scope=col>F45_Red_Deer</th><th scope=col>F46_Red_Deer</th><th scope=col>F47_Red_Deer</th><th scope=col>F48_Red_Deer</th><th scope=col>F53_Mouflon</th><th scope=col>F66_Wild_Boar</th><th scope=col>⋯</th><th scope=col>X354_Hoffmanns_Two_toed_Sloth</th><th scope=col>X357_Northern_Tamandua</th><th scope=col>X359_Brown_throated_Sloth</th><th scope=col>X4_Red_Fox</th><th scope=col>X403_Chacma_Baboon</th><th scope=col>X405_Nile_Crocodile</th><th scope=col>X431_Quagga</th><th scope=col>X44_Meadow_Viper</th><th scope=col>X67_European_Roe</th><th scope=col>X98_Eurasian_Red_Squirrel</th></tr>\n",
       "\t<tr><th></th><th scope=col>&lt;dbl&gt;</th><th scope=col>&lt;dbl&gt;</th><th scope=col>&lt;dbl&gt;</th><th scope=col>&lt;dbl&gt;</th><th scope=col>&lt;dbl&gt;</th><th scope=col>&lt;dbl&gt;</th><th scope=col>&lt;dbl&gt;</th><th scope=col>&lt;dbl&gt;</th><th scope=col>&lt;dbl&gt;</th><th scope=col>&lt;dbl&gt;</th><th scope=col>⋯</th><th scope=col>&lt;dbl&gt;</th><th scope=col>&lt;dbl&gt;</th><th scope=col>&lt;dbl&gt;</th><th scope=col>&lt;dbl&gt;</th><th scope=col>&lt;dbl&gt;</th><th scope=col>&lt;dbl&gt;</th><th scope=col>&lt;dbl&gt;</th><th scope=col>&lt;dbl&gt;</th><th scope=col>&lt;dbl&gt;</th><th scope=col>&lt;dbl&gt;</th></tr>\n",
       "</thead>\n",
       "<tbody>\n",
       "\t<tr><th scope=row>77f55e61d7f58d90f3ef64b3606594e2</th><td>0</td><td>0</td><td>0</td><td>0</td><td>0</td><td>0</td><td>0</td><td>0</td><td>0</td><td>0</td><td>⋯</td><td>0</td><td>0</td><td>0</td><td>0</td><td>0</td><td>0</td><td>0</td><td>0</td><td>0</td><td>0</td></tr>\n",
       "\t<tr><th scope=row>7227f0b58d14954b49687a6fc68e5bf6</th><td>0</td><td>0</td><td>0</td><td>0</td><td>0</td><td>0</td><td>0</td><td>0</td><td>0</td><td>0</td><td>⋯</td><td>0</td><td>0</td><td>0</td><td>0</td><td>0</td><td>0</td><td>0</td><td>0</td><td>0</td><td>0</td></tr>\n",
       "\t<tr><th scope=row>⋮</th><td>⋮</td><td>⋮</td><td>⋮</td><td>⋮</td><td>⋮</td><td>⋮</td><td>⋮</td><td>⋮</td><td>⋮</td><td>⋮</td><td>⋱</td><td>⋮</td><td>⋮</td><td>⋮</td><td>⋮</td><td>⋮</td><td>⋮</td><td>⋮</td><td>⋮</td><td>⋮</td><td>⋮</td></tr>\n",
       "\t<tr><th scope=row>a088965958efffb207a1168f48649e0e</th><td>0</td><td>0</td><td>0</td><td>0</td><td>0</td><td>0</td><td>0</td><td>0</td><td>0</td><td>0</td><td>⋯</td><td>0</td><td>0</td><td>0</td><td>0</td><td>0</td><td>0</td><td>0</td><td>0</td><td>0</td><td>0</td></tr>\n",
       "\t<tr><th scope=row>efc922cdf4d0824db9bd0f23e6b5ab1f</th><td>0</td><td>0</td><td>0</td><td>0</td><td>0</td><td>0</td><td>0</td><td>0</td><td>0</td><td>0</td><td>⋯</td><td>0</td><td>0</td><td>0</td><td>0</td><td>0</td><td>0</td><td>0</td><td>0</td><td>0</td><td>0</td></tr>\n",
       "</tbody>\n",
       "</table>\n"
      ],
      "text/latex": [
       "A data.frame: 81276 × 301\n",
       "\\begin{tabular}{r|lllllllllllllllllllll}\n",
       "  & F14\\_Common\\_Bream & F35\\_Red\\_Deer & F36\\_Red\\_Deer & F44\\_Fallow\\_Deer & F45\\_Red\\_Deer & F46\\_Red\\_Deer & F47\\_Red\\_Deer & F48\\_Red\\_Deer & F53\\_Mouflon & F66\\_Wild\\_Boar & ⋯ & X354\\_Hoffmanns\\_Two\\_toed\\_Sloth & X357\\_Northern\\_Tamandua & X359\\_Brown\\_throated\\_Sloth & X4\\_Red\\_Fox & X403\\_Chacma\\_Baboon & X405\\_Nile\\_Crocodile & X431\\_Quagga & X44\\_Meadow\\_Viper & X67\\_European\\_Roe & X98\\_Eurasian\\_Red\\_Squirrel\\\\\n",
       "  & <dbl> & <dbl> & <dbl> & <dbl> & <dbl> & <dbl> & <dbl> & <dbl> & <dbl> & <dbl> & ⋯ & <dbl> & <dbl> & <dbl> & <dbl> & <dbl> & <dbl> & <dbl> & <dbl> & <dbl> & <dbl>\\\\\n",
       "\\hline\n",
       "\t77f55e61d7f58d90f3ef64b3606594e2 & 0 & 0 & 0 & 0 & 0 & 0 & 0 & 0 & 0 & 0 & ⋯ & 0 & 0 & 0 & 0 & 0 & 0 & 0 & 0 & 0 & 0\\\\\n",
       "\t7227f0b58d14954b49687a6fc68e5bf6 & 0 & 0 & 0 & 0 & 0 & 0 & 0 & 0 & 0 & 0 & ⋯ & 0 & 0 & 0 & 0 & 0 & 0 & 0 & 0 & 0 & 0\\\\\n",
       "\t⋮ & ⋮ & ⋮ & ⋮ & ⋮ & ⋮ & ⋮ & ⋮ & ⋮ & ⋮ & ⋮ & ⋱ & ⋮ & ⋮ & ⋮ & ⋮ & ⋮ & ⋮ & ⋮ & ⋮ & ⋮ & ⋮\\\\\n",
       "\ta088965958efffb207a1168f48649e0e & 0 & 0 & 0 & 0 & 0 & 0 & 0 & 0 & 0 & 0 & ⋯ & 0 & 0 & 0 & 0 & 0 & 0 & 0 & 0 & 0 & 0\\\\\n",
       "\tefc922cdf4d0824db9bd0f23e6b5ab1f & 0 & 0 & 0 & 0 & 0 & 0 & 0 & 0 & 0 & 0 & ⋯ & 0 & 0 & 0 & 0 & 0 & 0 & 0 & 0 & 0 & 0\\\\\n",
       "\\end{tabular}\n"
      ],
      "text/markdown": [
       "\n",
       "A data.frame: 81276 × 301\n",
       "\n",
       "| <!--/--> | F14_Common_Bream &lt;dbl&gt; | F35_Red_Deer &lt;dbl&gt; | F36_Red_Deer &lt;dbl&gt; | F44_Fallow_Deer &lt;dbl&gt; | F45_Red_Deer &lt;dbl&gt; | F46_Red_Deer &lt;dbl&gt; | F47_Red_Deer &lt;dbl&gt; | F48_Red_Deer &lt;dbl&gt; | F53_Mouflon &lt;dbl&gt; | F66_Wild_Boar &lt;dbl&gt; | ⋯ ⋯ | X354_Hoffmanns_Two_toed_Sloth &lt;dbl&gt; | X357_Northern_Tamandua &lt;dbl&gt; | X359_Brown_throated_Sloth &lt;dbl&gt; | X4_Red_Fox &lt;dbl&gt; | X403_Chacma_Baboon &lt;dbl&gt; | X405_Nile_Crocodile &lt;dbl&gt; | X431_Quagga &lt;dbl&gt; | X44_Meadow_Viper &lt;dbl&gt; | X67_European_Roe &lt;dbl&gt; | X98_Eurasian_Red_Squirrel &lt;dbl&gt; |\n",
       "|---|---|---|---|---|---|---|---|---|---|---|---|---|---|---|---|---|---|---|---|---|---|\n",
       "| 77f55e61d7f58d90f3ef64b3606594e2 | 0 | 0 | 0 | 0 | 0 | 0 | 0 | 0 | 0 | 0 | ⋯ | 0 | 0 | 0 | 0 | 0 | 0 | 0 | 0 | 0 | 0 |\n",
       "| 7227f0b58d14954b49687a6fc68e5bf6 | 0 | 0 | 0 | 0 | 0 | 0 | 0 | 0 | 0 | 0 | ⋯ | 0 | 0 | 0 | 0 | 0 | 0 | 0 | 0 | 0 | 0 |\n",
       "| ⋮ | ⋮ | ⋮ | ⋮ | ⋮ | ⋮ | ⋮ | ⋮ | ⋮ | ⋮ | ⋮ | ⋱ | ⋮ | ⋮ | ⋮ | ⋮ | ⋮ | ⋮ | ⋮ | ⋮ | ⋮ | ⋮ |\n",
       "| a088965958efffb207a1168f48649e0e | 0 | 0 | 0 | 0 | 0 | 0 | 0 | 0 | 0 | 0 | ⋯ | 0 | 0 | 0 | 0 | 0 | 0 | 0 | 0 | 0 | 0 |\n",
       "| efc922cdf4d0824db9bd0f23e6b5ab1f | 0 | 0 | 0 | 0 | 0 | 0 | 0 | 0 | 0 | 0 | ⋯ | 0 | 0 | 0 | 0 | 0 | 0 | 0 | 0 | 0 | 0 |\n",
       "\n"
      ],
      "text/plain": [
       "                                 F14_Common_Bream F35_Red_Deer F36_Red_Deer\n",
       "77f55e61d7f58d90f3ef64b3606594e2 0                0            0           \n",
       "7227f0b58d14954b49687a6fc68e5bf6 0                0            0           \n",
       "⋮                                ⋮                ⋮            ⋮           \n",
       "a088965958efffb207a1168f48649e0e 0                0            0           \n",
       "efc922cdf4d0824db9bd0f23e6b5ab1f 0                0            0           \n",
       "                                 F44_Fallow_Deer F45_Red_Deer F46_Red_Deer\n",
       "77f55e61d7f58d90f3ef64b3606594e2 0               0            0           \n",
       "7227f0b58d14954b49687a6fc68e5bf6 0               0            0           \n",
       "⋮                                ⋮               ⋮            ⋮           \n",
       "a088965958efffb207a1168f48649e0e 0               0            0           \n",
       "efc922cdf4d0824db9bd0f23e6b5ab1f 0               0            0           \n",
       "                                 F47_Red_Deer F48_Red_Deer F53_Mouflon\n",
       "77f55e61d7f58d90f3ef64b3606594e2 0            0            0          \n",
       "7227f0b58d14954b49687a6fc68e5bf6 0            0            0          \n",
       "⋮                                ⋮            ⋮            ⋮          \n",
       "a088965958efffb207a1168f48649e0e 0            0            0          \n",
       "efc922cdf4d0824db9bd0f23e6b5ab1f 0            0            0          \n",
       "                                 F66_Wild_Boar ⋯ X354_Hoffmanns_Two_toed_Sloth\n",
       "77f55e61d7f58d90f3ef64b3606594e2 0             ⋯ 0                            \n",
       "7227f0b58d14954b49687a6fc68e5bf6 0             ⋯ 0                            \n",
       "⋮                                ⋮             ⋱ ⋮                            \n",
       "a088965958efffb207a1168f48649e0e 0             ⋯ 0                            \n",
       "efc922cdf4d0824db9bd0f23e6b5ab1f 0             ⋯ 0                            \n",
       "                                 X357_Northern_Tamandua\n",
       "77f55e61d7f58d90f3ef64b3606594e2 0                     \n",
       "7227f0b58d14954b49687a6fc68e5bf6 0                     \n",
       "⋮                                ⋮                     \n",
       "a088965958efffb207a1168f48649e0e 0                     \n",
       "efc922cdf4d0824db9bd0f23e6b5ab1f 0                     \n",
       "                                 X359_Brown_throated_Sloth X4_Red_Fox\n",
       "77f55e61d7f58d90f3ef64b3606594e2 0                         0         \n",
       "7227f0b58d14954b49687a6fc68e5bf6 0                         0         \n",
       "⋮                                ⋮                         ⋮         \n",
       "a088965958efffb207a1168f48649e0e 0                         0         \n",
       "efc922cdf4d0824db9bd0f23e6b5ab1f 0                         0         \n",
       "                                 X403_Chacma_Baboon X405_Nile_Crocodile\n",
       "77f55e61d7f58d90f3ef64b3606594e2 0                  0                  \n",
       "7227f0b58d14954b49687a6fc68e5bf6 0                  0                  \n",
       "⋮                                ⋮                  ⋮                  \n",
       "a088965958efffb207a1168f48649e0e 0                  0                  \n",
       "efc922cdf4d0824db9bd0f23e6b5ab1f 0                  0                  \n",
       "                                 X431_Quagga X44_Meadow_Viper X67_European_Roe\n",
       "77f55e61d7f58d90f3ef64b3606594e2 0           0                0               \n",
       "7227f0b58d14954b49687a6fc68e5bf6 0           0                0               \n",
       "⋮                                ⋮           ⋮                ⋮               \n",
       "a088965958efffb207a1168f48649e0e 0           0                0               \n",
       "efc922cdf4d0824db9bd0f23e6b5ab1f 0           0                0               \n",
       "                                 X98_Eurasian_Red_Squirrel\n",
       "77f55e61d7f58d90f3ef64b3606594e2 0                        \n",
       "7227f0b58d14954b49687a6fc68e5bf6 0                        \n",
       "⋮                                ⋮                        \n",
       "a088965958efffb207a1168f48649e0e 0                        \n",
       "efc922cdf4d0824db9bd0f23e6b5ab1f 0                        "
      ]
     },
     "metadata": {},
     "output_type": "display_data"
    }
   ],
   "source": [
    "# otu table\n",
    "physeq_otu = data.table::fread('otu_table.tsv', sep='\\t', skip=1) %>%\n",
    "    as.data.frame\n",
    "colnames(physeq_otu)[1] = 'X.OTU.ID'\n",
    "rownames(physeq_otu) = physeq_otu$X.OTU.ID\n",
    "physeq_otu$X.OTU.ID = NULL\n",
    "colnames(physeq_otu) = gsub(' $', '', colnames(physeq_otu))\n",
    "\n",
    "physeq_otu "
   ]
  },
  {
   "cell_type": "code",
   "execution_count": 12,
   "metadata": {
    "ExecuteTime": {
     "end_time": "2020-03-06T12:47:17.545007Z",
     "start_time": "2020-03-06T12:45:44.057Z"
    }
   },
   "outputs": [
    {
     "data": {
      "text/html": [
       "<table>\n",
       "<caption>A data.frame: 475 × 71</caption>\n",
       "<thead>\n",
       "\t<tr><th scope=col>SampleID</th><th scope=col>host_subject_id</th><th scope=col>host_german_name</th><th scope=col>host_common_name</th><th scope=col>scientific_name</th><th scope=col>scientific_name_subspecies</th><th scope=col>host_taxid</th><th scope=col>class</th><th scope=col>order</th><th scope=col>family</th><th scope=col>⋯</th><th scope=col>temp_regulation</th><th scope=col>collection_date</th><th scope=col>season</th><th scope=col>samp_store_days</th><th scope=col>samp_collect_device</th><th scope=col>sampling_method</th><th scope=col>diet</th><th scope=col>feeding_style</th><th scope=col>digestive_system</th><th scope=col>digestive_system_detail</th></tr>\n",
       "\t<tr><th scope=col>&lt;chr&gt;</th><th scope=col>&lt;fct&gt;</th><th scope=col>&lt;fct&gt;</th><th scope=col>&lt;fct&gt;</th><th scope=col>&lt;fct&gt;</th><th scope=col>&lt;fct&gt;</th><th scope=col>&lt;int&gt;</th><th scope=col>&lt;fct&gt;</th><th scope=col>&lt;fct&gt;</th><th scope=col>&lt;fct&gt;</th><th scope=col>⋯</th><th scope=col>&lt;fct&gt;</th><th scope=col>&lt;fct&gt;</th><th scope=col>&lt;fct&gt;</th><th scope=col>&lt;fct&gt;</th><th scope=col>&lt;fct&gt;</th><th scope=col>&lt;fct&gt;</th><th scope=col>&lt;fct&gt;</th><th scope=col>&lt;fct&gt;</th><th scope=col>&lt;fct&gt;</th><th scope=col>&lt;fct&gt;</th></tr>\n",
       "</thead>\n",
       "<tbody>\n",
       "\t<tr><td>F14_Common_Bream</td><td>F14</td><td>Brachse  </td><td>Common.Bream</td><td>Abramis_brama </td><td>NA</td><td>38527</td><td>Actinopterygii</td><td>Cypriniformes</td><td>Cyprinidae</td><td>⋯</td><td>ectotherm/poikilotherm</td><td>2010-08-10</td><td>summer</td><td>317</td><td>Greiner Polypropylene Tube 50ml          </td><td>feces sampling</td><td>omnivore </td><td>NA               </td><td>simple </td><td>simple </td></tr>\n",
       "\t<tr><td>F35_Red_Deer    </td><td>F35</td><td>Rothirsch</td><td>Red.Deer    </td><td>Cervus_elaphus</td><td>NA</td><td> 9860</td><td>Mammalia      </td><td>Artiodactyla </td><td>Cervidae  </td><td>⋯</td><td>endotherm/homoiotherm </td><td>2010-09-29</td><td>autumn</td><td>229</td><td>Greiner Polystyrene 30ml Faeces Container</td><td>feces sampling</td><td>herbivore</td><td>intermediate type</td><td>foregut</td><td>foregut</td></tr>\n",
       "\t<tr><td>⋮</td><td>⋮</td><td>⋮</td><td>⋮</td><td>⋮</td><td>⋮</td><td>⋮</td><td>⋮</td><td>⋮</td><td>⋮</td><td>⋱</td><td>⋮</td><td>⋮</td><td>⋮</td><td>⋮</td><td>⋮</td><td>⋮</td><td>⋮</td><td>⋮</td><td>⋮</td><td>⋮</td></tr>\n",
       "\t<tr><td>X189_fail_Rainbow_Trout</td><td>189.fail</td><td>Regenbogenforelle</td><td>Rainbow.Trout</td><td>Oncorhynchus_mykiss</td><td>NA</td><td>8022</td><td>Actinopterygii</td><td>Salmoniformes</td><td>Salmonidae</td><td>⋯</td><td>ectotherm/poikilotherm</td><td>2012-03-01</td><td>winter</td><td>467</td><td>Eppendorf tube          </td><td>feces sampling</td><td>carnivore</td><td>NA</td><td>simple</td><td>simple</td></tr>\n",
       "\t<tr><td>X232_fail_Brown_Trout  </td><td>232.fail</td><td>Seeforelle       </td><td>Brown.Trout  </td><td>Salmo_trutta       </td><td>NA</td><td>8032</td><td>Actinopterygii</td><td>Salmoniformes</td><td>Salmonidae</td><td>⋯</td><td>ectotherm/poikilotherm</td><td>2012-03-15</td><td>winter</td><td>453</td><td>Polyethylene freezer bag</td><td>gut section   </td><td>carnivore</td><td>NA</td><td>simple</td><td>simple</td></tr>\n",
       "</tbody>\n",
       "</table>\n"
      ],
      "text/latex": [
       "A data.frame: 475 × 71\n",
       "\\begin{tabular}{lllllllllllllllllllll}\n",
       " SampleID & host\\_subject\\_id & host\\_german\\_name & host\\_common\\_name & scientific\\_name & scientific\\_name\\_subspecies & host\\_taxid & class & order & family & ⋯ & temp\\_regulation & collection\\_date & season & samp\\_store\\_days & samp\\_collect\\_device & sampling\\_method & diet & feeding\\_style & digestive\\_system & digestive\\_system\\_detail\\\\\n",
       " <chr> & <fct> & <fct> & <fct> & <fct> & <fct> & <int> & <fct> & <fct> & <fct> & ⋯ & <fct> & <fct> & <fct> & <fct> & <fct> & <fct> & <fct> & <fct> & <fct> & <fct>\\\\\n",
       "\\hline\n",
       "\t F14\\_Common\\_Bream & F14 & Brachse   & Common.Bream & Abramis\\_brama  & NA & 38527 & Actinopterygii & Cypriniformes & Cyprinidae & ⋯ & ectotherm/poikilotherm & 2010-08-10 & summer & 317 & Greiner Polypropylene Tube 50ml           & feces sampling & omnivore  & NA                & simple  & simple \\\\\n",
       "\t F35\\_Red\\_Deer     & F35 & Rothirsch & Red.Deer     & Cervus\\_elaphus & NA &  9860 & Mammalia       & Artiodactyla  & Cervidae   & ⋯ & endotherm/homoiotherm  & 2010-09-29 & autumn & 229 & Greiner Polystyrene 30ml Faeces Container & feces sampling & herbivore & intermediate type & foregut & foregut\\\\\n",
       "\t ⋮ & ⋮ & ⋮ & ⋮ & ⋮ & ⋮ & ⋮ & ⋮ & ⋮ & ⋮ & ⋱ & ⋮ & ⋮ & ⋮ & ⋮ & ⋮ & ⋮ & ⋮ & ⋮ & ⋮ & ⋮\\\\\n",
       "\t X189\\_fail\\_Rainbow\\_Trout & 189.fail & Regenbogenforelle & Rainbow.Trout & Oncorhynchus\\_mykiss & NA & 8022 & Actinopterygii & Salmoniformes & Salmonidae & ⋯ & ectotherm/poikilotherm & 2012-03-01 & winter & 467 & Eppendorf tube           & feces sampling & carnivore & NA & simple & simple\\\\\n",
       "\t X232\\_fail\\_Brown\\_Trout   & 232.fail & Seeforelle        & Brown.Trout   & Salmo\\_trutta        & NA & 8032 & Actinopterygii & Salmoniformes & Salmonidae & ⋯ & ectotherm/poikilotherm & 2012-03-15 & winter & 453 & Polyethylene freezer bag & gut section    & carnivore & NA & simple & simple\\\\\n",
       "\\end{tabular}\n"
      ],
      "text/markdown": [
       "\n",
       "A data.frame: 475 × 71\n",
       "\n",
       "| SampleID &lt;chr&gt; | host_subject_id &lt;fct&gt; | host_german_name &lt;fct&gt; | host_common_name &lt;fct&gt; | scientific_name &lt;fct&gt; | scientific_name_subspecies &lt;fct&gt; | host_taxid &lt;int&gt; | class &lt;fct&gt; | order &lt;fct&gt; | family &lt;fct&gt; | ⋯ ⋯ | temp_regulation &lt;fct&gt; | collection_date &lt;fct&gt; | season &lt;fct&gt; | samp_store_days &lt;fct&gt; | samp_collect_device &lt;fct&gt; | sampling_method &lt;fct&gt; | diet &lt;fct&gt; | feeding_style &lt;fct&gt; | digestive_system &lt;fct&gt; | digestive_system_detail &lt;fct&gt; |\n",
       "|---|---|---|---|---|---|---|---|---|---|---|---|---|---|---|---|---|---|---|---|---|\n",
       "| F14_Common_Bream | F14 | Brachse   | Common.Bream | Abramis_brama  | NA | 38527 | Actinopterygii | Cypriniformes | Cyprinidae | ⋯ | ectotherm/poikilotherm | 2010-08-10 | summer | 317 | Greiner Polypropylene Tube 50ml           | feces sampling | omnivore  | NA                | simple  | simple  |\n",
       "| F35_Red_Deer     | F35 | Rothirsch | Red.Deer     | Cervus_elaphus | NA |  9860 | Mammalia       | Artiodactyla  | Cervidae   | ⋯ | endotherm/homoiotherm  | 2010-09-29 | autumn | 229 | Greiner Polystyrene 30ml Faeces Container | feces sampling | herbivore | intermediate type | foregut | foregut |\n",
       "| ⋮ | ⋮ | ⋮ | ⋮ | ⋮ | ⋮ | ⋮ | ⋮ | ⋮ | ⋮ | ⋱ | ⋮ | ⋮ | ⋮ | ⋮ | ⋮ | ⋮ | ⋮ | ⋮ | ⋮ | ⋮ |\n",
       "| X189_fail_Rainbow_Trout | 189.fail | Regenbogenforelle | Rainbow.Trout | Oncorhynchus_mykiss | NA | 8022 | Actinopterygii | Salmoniformes | Salmonidae | ⋯ | ectotherm/poikilotherm | 2012-03-01 | winter | 467 | Eppendorf tube           | feces sampling | carnivore | NA | simple | simple |\n",
       "| X232_fail_Brown_Trout   | 232.fail | Seeforelle        | Brown.Trout   | Salmo_trutta        | NA | 8032 | Actinopterygii | Salmoniformes | Salmonidae | ⋯ | ectotherm/poikilotherm | 2012-03-15 | winter | 453 | Polyethylene freezer bag | gut section    | carnivore | NA | simple | simple |\n",
       "\n"
      ],
      "text/plain": [
       "    SampleID                host_subject_id host_german_name  host_common_name\n",
       "1   F14_Common_Bream        F14             Brachse           Common.Bream    \n",
       "2   F35_Red_Deer            F35             Rothirsch         Red.Deer        \n",
       "⋮   ⋮                       ⋮               ⋮                 ⋮               \n",
       "474 X189_fail_Rainbow_Trout 189.fail        Regenbogenforelle Rainbow.Trout   \n",
       "475 X232_fail_Brown_Trout   232.fail        Seeforelle        Brown.Trout     \n",
       "    scientific_name     scientific_name_subspecies host_taxid class         \n",
       "1   Abramis_brama       NA                         38527      Actinopterygii\n",
       "2   Cervus_elaphus      NA                          9860      Mammalia      \n",
       "⋮   ⋮                   ⋮                          ⋮          ⋮             \n",
       "474 Oncorhynchus_mykiss NA                         8022       Actinopterygii\n",
       "475 Salmo_trutta        NA                         8032       Actinopterygii\n",
       "    order         family     ⋯ temp_regulation        collection_date season\n",
       "1   Cypriniformes Cyprinidae ⋯ ectotherm/poikilotherm 2010-08-10      summer\n",
       "2   Artiodactyla  Cervidae   ⋯ endotherm/homoiotherm  2010-09-29      autumn\n",
       "⋮   ⋮             ⋮          ⋱ ⋮                      ⋮               ⋮     \n",
       "474 Salmoniformes Salmonidae ⋯ ectotherm/poikilotherm 2012-03-01      winter\n",
       "475 Salmoniformes Salmonidae ⋯ ectotherm/poikilotherm 2012-03-15      winter\n",
       "    samp_store_days samp_collect_device                       sampling_method\n",
       "1   317             Greiner Polypropylene Tube 50ml           feces sampling \n",
       "2   229             Greiner Polystyrene 30ml Faeces Container feces sampling \n",
       "⋮   ⋮               ⋮                                         ⋮              \n",
       "474 467             Eppendorf tube                            feces sampling \n",
       "475 453             Polyethylene freezer bag                  gut section    \n",
       "    diet      feeding_style     digestive_system digestive_system_detail\n",
       "1   omnivore  NA                simple           simple                 \n",
       "2   herbivore intermediate type foregut          foregut                \n",
       "⋮   ⋮         ⋮                 ⋮                ⋮                      \n",
       "474 carnivore NA                simple           simple                 \n",
       "475 carnivore NA                simple           simple                 "
      ]
     },
     "metadata": {},
     "output_type": "display_data"
    }
   ],
   "source": [
    "# metadata\n",
    "metadata = read.delim(metadata_file, sep='\\t') %>%\n",
    "    mutate(SampleID = gsub('^([0-9])', 'X\\\\1', SampleID)) %>%\n",
    "    as.data.frame\n",
    "\n",
    "metadata "
   ]
  },
  {
   "cell_type": "code",
   "execution_count": 13,
   "metadata": {
    "ExecuteTime": {
     "end_time": "2020-03-06T12:47:18.517140Z",
     "start_time": "2020-03-06T12:45:44.761Z"
    }
   },
   "outputs": [
    {
     "data": {
      "text/html": [
       "<table>\n",
       "<caption>A data.frame: 81276 × 7</caption>\n",
       "<thead>\n",
       "\t<tr><th></th><th scope=col>Domain</th><th scope=col>Phylum</th><th scope=col>Class</th><th scope=col>Order</th><th scope=col>Family</th><th scope=col>Genus</th><th scope=col>Species</th></tr>\n",
       "\t<tr><th></th><th scope=col>&lt;fct&gt;</th><th scope=col>&lt;fct&gt;</th><th scope=col>&lt;fct&gt;</th><th scope=col>&lt;fct&gt;</th><th scope=col>&lt;fct&gt;</th><th scope=col>&lt;fct&gt;</th><th scope=col>&lt;fct&gt;</th></tr>\n",
       "</thead>\n",
       "<tbody>\n",
       "\t<tr><th scope=row>000029244345a7c6e454809d6a334492</th><td>Bacteria</td><td>Bacteroidetes</td><td>Bacteroidia</td><td>unclassified </td><td>unclassified   </td><td>unclassified</td><td>unclassified</td></tr>\n",
       "\t<tr><th scope=row>000102e42b17dbeeaec2c42e1c5a600c</th><td>Bacteria</td><td>Firmicutes   </td><td>Clostridia </td><td>Clostridiales</td><td>Ruminococcaceae</td><td>unclassified</td><td>unclassified</td></tr>\n",
       "\t<tr><th scope=row>⋮</th><td>⋮</td><td>⋮</td><td>⋮</td><td>⋮</td><td>⋮</td><td>⋮</td><td>⋮</td></tr>\n",
       "\t<tr><th scope=row>fffd4d88f98e37e62eaa23deafeca2d0</th><td>Bacteria</td><td>Firmicutes   </td><td>Clostridia </td><td>Clostridiales</td><td>Lachnospiraceae</td><td>unclassified          </td><td>unclassified</td></tr>\n",
       "\t<tr><th scope=row>ffffb69ce78f6f3888ccc1b61f829077</th><td>Bacteria</td><td>Bacteroidetes</td><td>Bacteroidia</td><td>Bacteroidales</td><td>Prevotellaceae </td><td>Prevotellaceae UCG-001</td><td>bacterium P3</td></tr>\n",
       "</tbody>\n",
       "</table>\n"
      ],
      "text/latex": [
       "A data.frame: 81276 × 7\n",
       "\\begin{tabular}{r|lllllll}\n",
       "  & Domain & Phylum & Class & Order & Family & Genus & Species\\\\\n",
       "  & <fct> & <fct> & <fct> & <fct> & <fct> & <fct> & <fct>\\\\\n",
       "\\hline\n",
       "\t000029244345a7c6e454809d6a334492 & Bacteria & Bacteroidetes & Bacteroidia & unclassified  & unclassified    & unclassified & unclassified\\\\\n",
       "\t000102e42b17dbeeaec2c42e1c5a600c & Bacteria & Firmicutes    & Clostridia  & Clostridiales & Ruminococcaceae & unclassified & unclassified\\\\\n",
       "\t⋮ & ⋮ & ⋮ & ⋮ & ⋮ & ⋮ & ⋮ & ⋮\\\\\n",
       "\tfffd4d88f98e37e62eaa23deafeca2d0 & Bacteria & Firmicutes    & Clostridia  & Clostridiales & Lachnospiraceae & unclassified           & unclassified\\\\\n",
       "\tffffb69ce78f6f3888ccc1b61f829077 & Bacteria & Bacteroidetes & Bacteroidia & Bacteroidales & Prevotellaceae  & Prevotellaceae UCG-001 & bacterium P3\\\\\n",
       "\\end{tabular}\n"
      ],
      "text/markdown": [
       "\n",
       "A data.frame: 81276 × 7\n",
       "\n",
       "| <!--/--> | Domain &lt;fct&gt; | Phylum &lt;fct&gt; | Class &lt;fct&gt; | Order &lt;fct&gt; | Family &lt;fct&gt; | Genus &lt;fct&gt; | Species &lt;fct&gt; |\n",
       "|---|---|---|---|---|---|---|---|\n",
       "| 000029244345a7c6e454809d6a334492 | Bacteria | Bacteroidetes | Bacteroidia | unclassified  | unclassified    | unclassified | unclassified |\n",
       "| 000102e42b17dbeeaec2c42e1c5a600c | Bacteria | Firmicutes    | Clostridia  | Clostridiales | Ruminococcaceae | unclassified | unclassified |\n",
       "| ⋮ | ⋮ | ⋮ | ⋮ | ⋮ | ⋮ | ⋮ | ⋮ |\n",
       "| fffd4d88f98e37e62eaa23deafeca2d0 | Bacteria | Firmicutes    | Clostridia  | Clostridiales | Lachnospiraceae | unclassified           | unclassified |\n",
       "| ffffb69ce78f6f3888ccc1b61f829077 | Bacteria | Bacteroidetes | Bacteroidia | Bacteroidales | Prevotellaceae  | Prevotellaceae UCG-001 | bacterium P3 |\n",
       "\n"
      ],
      "text/plain": [
       "                                 Domain   Phylum        Class      \n",
       "000029244345a7c6e454809d6a334492 Bacteria Bacteroidetes Bacteroidia\n",
       "000102e42b17dbeeaec2c42e1c5a600c Bacteria Firmicutes    Clostridia \n",
       "⋮                                ⋮        ⋮             ⋮          \n",
       "fffd4d88f98e37e62eaa23deafeca2d0 Bacteria Firmicutes    Clostridia \n",
       "ffffb69ce78f6f3888ccc1b61f829077 Bacteria Bacteroidetes Bacteroidia\n",
       "                                 Order         Family         \n",
       "000029244345a7c6e454809d6a334492 unclassified  unclassified   \n",
       "000102e42b17dbeeaec2c42e1c5a600c Clostridiales Ruminococcaceae\n",
       "⋮                                ⋮             ⋮              \n",
       "fffd4d88f98e37e62eaa23deafeca2d0 Clostridiales Lachnospiraceae\n",
       "ffffb69ce78f6f3888ccc1b61f829077 Bacteroidales Prevotellaceae \n",
       "                                 Genus                  Species     \n",
       "000029244345a7c6e454809d6a334492 unclassified           unclassified\n",
       "000102e42b17dbeeaec2c42e1c5a600c unclassified           unclassified\n",
       "⋮                                ⋮                      ⋮           \n",
       "fffd4d88f98e37e62eaa23deafeca2d0 unclassified           unclassified\n",
       "ffffb69ce78f6f3888ccc1b61f829077 Prevotellaceae UCG-001 bacterium P3"
      ]
     },
     "metadata": {},
     "output_type": "display_data"
    }
   ],
   "source": [
    "# taxonomy \n",
    "physeq_tax = read.delim('taxonomy_L0-6.tsv', sep='\\t') %>%\n",
    "    filter(Feature.ID %in% rownames(physeq_otu))\n",
    "rownames(physeq_tax) = physeq_tax$Feature.ID\n",
    "physeq_tax$Feature.ID = NULL\n",
    "physeq_tax = physeq_tax %>% \n",
    "    dplyr::select(-Confidence)\n",
    "\n",
    "physeq_tax "
   ]
  },
  {
   "cell_type": "code",
   "execution_count": 14,
   "metadata": {
    "ExecuteTime": {
     "end_time": "2020-03-06T12:47:20.055015Z",
     "start_time": "2020-03-06T12:45:44.929Z"
    }
   },
   "outputs": [
    {
     "data": {
      "text/plain": [
       "\n",
       "Phylogenetic tree with 81276 tips and 81157 internal nodes.\n",
       "\n",
       "Tip labels:\n",
       "\t27056924d25a972043773840061213f9, 91783a64f15025a663fb7ca42b62aa27, bf7812de16984aabb5ff7b218905d930, 0fe0885c69de8bf86dd8d74a49cc9d78, e33d2aee347a38209febc0579b219495, b9c6d5d5c82259dfb90ce105f6ad03da, ...\n",
       "Node labels:\n",
       "\troot, 0.864, 0.496, 0.975, 0.875, 1.000, ...\n",
       "\n",
       "Rooted; includes branch lengths."
      ]
     },
     "metadata": {},
     "output_type": "display_data"
    }
   ],
   "source": [
    "# tree \n",
    "tree = ape::read.tree('tree.nwk')\n",
    "tree"
   ]
  },
  {
   "cell_type": "markdown",
   "metadata": {},
   "source": [
    "# Formatting metadata"
   ]
  },
  {
   "cell_type": "code",
   "execution_count": 15,
   "metadata": {
    "ExecuteTime": {
     "end_time": "2020-03-06T12:47:21.764835Z",
     "start_time": "2020-03-06T12:45:45.400Z"
    }
   },
   "outputs": [
    {
     "data": {
      "text/html": [
       "<table>\n",
       "<caption>A data.frame: 475 × 71</caption>\n",
       "<thead>\n",
       "\t<tr><th></th><th scope=col>SampleID</th><th scope=col>host_subject_id</th><th scope=col>host_german_name</th><th scope=col>host_common_name</th><th scope=col>scientific_name</th><th scope=col>scientific_name_subspecies</th><th scope=col>host_taxid</th><th scope=col>class</th><th scope=col>order</th><th scope=col>family</th><th scope=col>⋯</th><th scope=col>temp_regulation</th><th scope=col>collection_date</th><th scope=col>season</th><th scope=col>samp_store_days</th><th scope=col>samp_collect_device</th><th scope=col>sampling_method</th><th scope=col>diet</th><th scope=col>feeding_style</th><th scope=col>digestive_system</th><th scope=col>digestive_system_detail</th></tr>\n",
       "\t<tr><th></th><th scope=col>&lt;chr&gt;</th><th scope=col>&lt;chr&gt;</th><th scope=col>&lt;chr&gt;</th><th scope=col>&lt;chr&gt;</th><th scope=col>&lt;chr&gt;</th><th scope=col>&lt;chr&gt;</th><th scope=col>&lt;chr&gt;</th><th scope=col>&lt;chr&gt;</th><th scope=col>&lt;chr&gt;</th><th scope=col>&lt;chr&gt;</th><th scope=col>⋯</th><th scope=col>&lt;chr&gt;</th><th scope=col>&lt;chr&gt;</th><th scope=col>&lt;chr&gt;</th><th scope=col>&lt;chr&gt;</th><th scope=col>&lt;chr&gt;</th><th scope=col>&lt;chr&gt;</th><th scope=col>&lt;chr&gt;</th><th scope=col>&lt;chr&gt;</th><th scope=col>&lt;chr&gt;</th><th scope=col>&lt;chr&gt;</th></tr>\n",
       "</thead>\n",
       "<tbody>\n",
       "\t<tr><th scope=row>F14_Common_Bream</th><td>F14_Common_Bream</td><td>F14</td><td>Brachse  </td><td>Common.Bream</td><td>Abramis_brama </td><td>NA</td><td>38527</td><td>Actinopterygii</td><td>Cypriniformes</td><td>Cyprinidae</td><td>⋯</td><td>ectotherm/poikilotherm</td><td>2010-08-10</td><td>summer</td><td>317</td><td>Greiner Polypropylene Tube 50ml          </td><td>feces sampling</td><td>omnivore </td><td>NA               </td><td>simple </td><td>simple </td></tr>\n",
       "\t<tr><th scope=row>F35_Red_Deer</th><td>F35_Red_Deer    </td><td>F35</td><td>Rothirsch</td><td>Red.Deer    </td><td>Cervus_elaphus</td><td>NA</td><td>9860 </td><td>Mammalia      </td><td>Artiodactyla </td><td>Cervidae  </td><td>⋯</td><td>endotherm/homoiotherm </td><td>2010-09-29</td><td>autumn</td><td>229</td><td>Greiner Polystyrene 30ml Faeces Container</td><td>feces sampling</td><td>herbivore</td><td>intermediate type</td><td>foregut</td><td>foregut</td></tr>\n",
       "\t<tr><th scope=row>⋮</th><td>⋮</td><td>⋮</td><td>⋮</td><td>⋮</td><td>⋮</td><td>⋮</td><td>⋮</td><td>⋮</td><td>⋮</td><td>⋮</td><td>⋱</td><td>⋮</td><td>⋮</td><td>⋮</td><td>⋮</td><td>⋮</td><td>⋮</td><td>⋮</td><td>⋮</td><td>⋮</td><td>⋮</td></tr>\n",
       "\t<tr><th scope=row>X189_fail_Rainbow_Trout</th><td>X189_fail_Rainbow_Trout</td><td>189.fail</td><td>Regenbogenforelle</td><td>Rainbow.Trout</td><td>Oncorhynchus_mykiss</td><td>NA</td><td>8022</td><td>Actinopterygii</td><td>Salmoniformes</td><td>Salmonidae</td><td>⋯</td><td>ectotherm/poikilotherm</td><td>2012-03-01</td><td>winter</td><td>467</td><td>Eppendorf tube          </td><td>feces sampling</td><td>carnivore</td><td>NA</td><td>simple</td><td>simple</td></tr>\n",
       "\t<tr><th scope=row>X232_fail_Brown_Trout</th><td>X232_fail_Brown_Trout  </td><td>232.fail</td><td>Seeforelle       </td><td>Brown.Trout  </td><td>Salmo_trutta       </td><td>NA</td><td>8032</td><td>Actinopterygii</td><td>Salmoniformes</td><td>Salmonidae</td><td>⋯</td><td>ectotherm/poikilotherm</td><td>2012-03-15</td><td>winter</td><td>453</td><td>Polyethylene freezer bag</td><td>gut section   </td><td>carnivore</td><td>NA</td><td>simple</td><td>simple</td></tr>\n",
       "</tbody>\n",
       "</table>\n"
      ],
      "text/latex": [
       "A data.frame: 475 × 71\n",
       "\\begin{tabular}{r|lllllllllllllllllllll}\n",
       "  & SampleID & host\\_subject\\_id & host\\_german\\_name & host\\_common\\_name & scientific\\_name & scientific\\_name\\_subspecies & host\\_taxid & class & order & family & ⋯ & temp\\_regulation & collection\\_date & season & samp\\_store\\_days & samp\\_collect\\_device & sampling\\_method & diet & feeding\\_style & digestive\\_system & digestive\\_system\\_detail\\\\\n",
       "  & <chr> & <chr> & <chr> & <chr> & <chr> & <chr> & <chr> & <chr> & <chr> & <chr> & ⋯ & <chr> & <chr> & <chr> & <chr> & <chr> & <chr> & <chr> & <chr> & <chr> & <chr>\\\\\n",
       "\\hline\n",
       "\tF14\\_Common\\_Bream & F14\\_Common\\_Bream & F14 & Brachse   & Common.Bream & Abramis\\_brama  & NA & 38527 & Actinopterygii & Cypriniformes & Cyprinidae & ⋯ & ectotherm/poikilotherm & 2010-08-10 & summer & 317 & Greiner Polypropylene Tube 50ml           & feces sampling & omnivore  & NA                & simple  & simple \\\\\n",
       "\tF35\\_Red\\_Deer & F35\\_Red\\_Deer     & F35 & Rothirsch & Red.Deer     & Cervus\\_elaphus & NA & 9860  & Mammalia       & Artiodactyla  & Cervidae   & ⋯ & endotherm/homoiotherm  & 2010-09-29 & autumn & 229 & Greiner Polystyrene 30ml Faeces Container & feces sampling & herbivore & intermediate type & foregut & foregut\\\\\n",
       "\t⋮ & ⋮ & ⋮ & ⋮ & ⋮ & ⋮ & ⋮ & ⋮ & ⋮ & ⋮ & ⋮ & ⋱ & ⋮ & ⋮ & ⋮ & ⋮ & ⋮ & ⋮ & ⋮ & ⋮ & ⋮ & ⋮\\\\\n",
       "\tX189\\_fail\\_Rainbow\\_Trout & X189\\_fail\\_Rainbow\\_Trout & 189.fail & Regenbogenforelle & Rainbow.Trout & Oncorhynchus\\_mykiss & NA & 8022 & Actinopterygii & Salmoniformes & Salmonidae & ⋯ & ectotherm/poikilotherm & 2012-03-01 & winter & 467 & Eppendorf tube           & feces sampling & carnivore & NA & simple & simple\\\\\n",
       "\tX232\\_fail\\_Brown\\_Trout & X232\\_fail\\_Brown\\_Trout   & 232.fail & Seeforelle        & Brown.Trout   & Salmo\\_trutta        & NA & 8032 & Actinopterygii & Salmoniformes & Salmonidae & ⋯ & ectotherm/poikilotherm & 2012-03-15 & winter & 453 & Polyethylene freezer bag & gut section    & carnivore & NA & simple & simple\\\\\n",
       "\\end{tabular}\n"
      ],
      "text/markdown": [
       "\n",
       "A data.frame: 475 × 71\n",
       "\n",
       "| <!--/--> | SampleID &lt;chr&gt; | host_subject_id &lt;chr&gt; | host_german_name &lt;chr&gt; | host_common_name &lt;chr&gt; | scientific_name &lt;chr&gt; | scientific_name_subspecies &lt;chr&gt; | host_taxid &lt;chr&gt; | class &lt;chr&gt; | order &lt;chr&gt; | family &lt;chr&gt; | ⋯ ⋯ | temp_regulation &lt;chr&gt; | collection_date &lt;chr&gt; | season &lt;chr&gt; | samp_store_days &lt;chr&gt; | samp_collect_device &lt;chr&gt; | sampling_method &lt;chr&gt; | diet &lt;chr&gt; | feeding_style &lt;chr&gt; | digestive_system &lt;chr&gt; | digestive_system_detail &lt;chr&gt; |\n",
       "|---|---|---|---|---|---|---|---|---|---|---|---|---|---|---|---|---|---|---|---|---|---|\n",
       "| F14_Common_Bream | F14_Common_Bream | F14 | Brachse   | Common.Bream | Abramis_brama  | NA | 38527 | Actinopterygii | Cypriniformes | Cyprinidae | ⋯ | ectotherm/poikilotherm | 2010-08-10 | summer | 317 | Greiner Polypropylene Tube 50ml           | feces sampling | omnivore  | NA                | simple  | simple  |\n",
       "| F35_Red_Deer | F35_Red_Deer     | F35 | Rothirsch | Red.Deer     | Cervus_elaphus | NA | 9860  | Mammalia       | Artiodactyla  | Cervidae   | ⋯ | endotherm/homoiotherm  | 2010-09-29 | autumn | 229 | Greiner Polystyrene 30ml Faeces Container | feces sampling | herbivore | intermediate type | foregut | foregut |\n",
       "| ⋮ | ⋮ | ⋮ | ⋮ | ⋮ | ⋮ | ⋮ | ⋮ | ⋮ | ⋮ | ⋮ | ⋱ | ⋮ | ⋮ | ⋮ | ⋮ | ⋮ | ⋮ | ⋮ | ⋮ | ⋮ | ⋮ |\n",
       "| X189_fail_Rainbow_Trout | X189_fail_Rainbow_Trout | 189.fail | Regenbogenforelle | Rainbow.Trout | Oncorhynchus_mykiss | NA | 8022 | Actinopterygii | Salmoniformes | Salmonidae | ⋯ | ectotherm/poikilotherm | 2012-03-01 | winter | 467 | Eppendorf tube           | feces sampling | carnivore | NA | simple | simple |\n",
       "| X232_fail_Brown_Trout | X232_fail_Brown_Trout   | 232.fail | Seeforelle        | Brown.Trout   | Salmo_trutta        | NA | 8032 | Actinopterygii | Salmoniformes | Salmonidae | ⋯ | ectotherm/poikilotherm | 2012-03-15 | winter | 453 | Polyethylene freezer bag | gut section    | carnivore | NA | simple | simple |\n",
       "\n"
      ],
      "text/plain": [
       "                        SampleID                host_subject_id\n",
       "F14_Common_Bream        F14_Common_Bream        F14            \n",
       "F35_Red_Deer            F35_Red_Deer            F35            \n",
       "⋮                       ⋮                       ⋮              \n",
       "X189_fail_Rainbow_Trout X189_fail_Rainbow_Trout 189.fail       \n",
       "X232_fail_Brown_Trout   X232_fail_Brown_Trout   232.fail       \n",
       "                        host_german_name  host_common_name scientific_name    \n",
       "F14_Common_Bream        Brachse           Common.Bream     Abramis_brama      \n",
       "F35_Red_Deer            Rothirsch         Red.Deer         Cervus_elaphus     \n",
       "⋮                       ⋮                 ⋮                ⋮                  \n",
       "X189_fail_Rainbow_Trout Regenbogenforelle Rainbow.Trout    Oncorhynchus_mykiss\n",
       "X232_fail_Brown_Trout   Seeforelle        Brown.Trout      Salmo_trutta       \n",
       "                        scientific_name_subspecies host_taxid class         \n",
       "F14_Common_Bream        NA                         38527      Actinopterygii\n",
       "F35_Red_Deer            NA                         9860       Mammalia      \n",
       "⋮                       ⋮                          ⋮          ⋮             \n",
       "X189_fail_Rainbow_Trout NA                         8022       Actinopterygii\n",
       "X232_fail_Brown_Trout   NA                         8032       Actinopterygii\n",
       "                        order         family     ⋯ temp_regulation       \n",
       "F14_Common_Bream        Cypriniformes Cyprinidae ⋯ ectotherm/poikilotherm\n",
       "F35_Red_Deer            Artiodactyla  Cervidae   ⋯ endotherm/homoiotherm \n",
       "⋮                       ⋮             ⋮          ⋱ ⋮                     \n",
       "X189_fail_Rainbow_Trout Salmoniformes Salmonidae ⋯ ectotherm/poikilotherm\n",
       "X232_fail_Brown_Trout   Salmoniformes Salmonidae ⋯ ectotherm/poikilotherm\n",
       "                        collection_date season samp_store_days\n",
       "F14_Common_Bream        2010-08-10      summer 317            \n",
       "F35_Red_Deer            2010-09-29      autumn 229            \n",
       "⋮                       ⋮               ⋮      ⋮              \n",
       "X189_fail_Rainbow_Trout 2012-03-01      winter 467            \n",
       "X232_fail_Brown_Trout   2012-03-15      winter 453            \n",
       "                        samp_collect_device                      \n",
       "F14_Common_Bream        Greiner Polypropylene Tube 50ml          \n",
       "F35_Red_Deer            Greiner Polystyrene 30ml Faeces Container\n",
       "⋮                       ⋮                                        \n",
       "X189_fail_Rainbow_Trout Eppendorf tube                           \n",
       "X232_fail_Brown_Trout   Polyethylene freezer bag                 \n",
       "                        sampling_method diet      feeding_style    \n",
       "F14_Common_Bream        feces sampling  omnivore  NA               \n",
       "F35_Red_Deer            feces sampling  herbivore intermediate type\n",
       "⋮                       ⋮               ⋮         ⋮                \n",
       "X189_fail_Rainbow_Trout feces sampling  carnivore NA               \n",
       "X232_fail_Brown_Trout   gut section     carnivore NA               \n",
       "                        digestive_system digestive_system_detail\n",
       "F14_Common_Bream        simple           simple                 \n",
       "F35_Red_Deer            foregut          foregut                \n",
       "⋮                       ⋮                ⋮                      \n",
       "X189_fail_Rainbow_Trout simple           simple                 \n",
       "X232_fail_Brown_Trout   simple           simple                 "
      ]
     },
     "metadata": {},
     "output_type": "display_data"
    }
   ],
   "source": [
    "# striping whitespace from labels\n",
    "tws = function(x){\n",
    "    if(class(x) == 'numeric'){\n",
    "        return(x)\n",
    "    } else {\n",
    "        x = sapply(as.character(x), function(y) trimws(y, which = 'both'))\n",
    "        return(x)\n",
    "    }\n",
    "}\n",
    "\n",
    "\n",
    "metadata = metadata %>%\n",
    "    mutate_all(tws) %>%\n",
    "    as.data.frame\n",
    "    \n",
    "rownames(metadata) = metadata$SampleID\n",
    "metadata "
   ]
  },
  {
   "cell_type": "code",
   "execution_count": 16,
   "metadata": {
    "ExecuteTime": {
     "end_time": "2020-03-06T12:47:21.831796Z",
     "start_time": "2020-03-06T12:45:45.681Z"
    }
   },
   "outputs": [
    {
     "name": "stderr",
     "output_type": "stream",
     "text": [
      "Warning message:\n",
      "“Column `SampleID`/`Sample` joining character vector and factor, coercing into character vector”\n"
     ]
    },
    {
     "data": {
      "text/html": [
       "<table>\n",
       "<caption>A data.frame: 301 × 71</caption>\n",
       "<thead>\n",
       "\t<tr><th></th><th scope=col>SampleID</th><th scope=col>host_subject_id</th><th scope=col>host_german_name</th><th scope=col>host_common_name</th><th scope=col>scientific_name</th><th scope=col>scientific_name_subspecies</th><th scope=col>host_taxid</th><th scope=col>class</th><th scope=col>order</th><th scope=col>family</th><th scope=col>⋯</th><th scope=col>temp_regulation</th><th scope=col>collection_date</th><th scope=col>season</th><th scope=col>samp_store_days</th><th scope=col>samp_collect_device</th><th scope=col>sampling_method</th><th scope=col>diet</th><th scope=col>feeding_style</th><th scope=col>digestive_system</th><th scope=col>digestive_system_detail</th></tr>\n",
       "\t<tr><th></th><th scope=col>&lt;chr&gt;</th><th scope=col>&lt;chr&gt;</th><th scope=col>&lt;chr&gt;</th><th scope=col>&lt;chr&gt;</th><th scope=col>&lt;chr&gt;</th><th scope=col>&lt;chr&gt;</th><th scope=col>&lt;chr&gt;</th><th scope=col>&lt;chr&gt;</th><th scope=col>&lt;chr&gt;</th><th scope=col>&lt;chr&gt;</th><th scope=col>⋯</th><th scope=col>&lt;chr&gt;</th><th scope=col>&lt;chr&gt;</th><th scope=col>&lt;chr&gt;</th><th scope=col>&lt;chr&gt;</th><th scope=col>&lt;chr&gt;</th><th scope=col>&lt;chr&gt;</th><th scope=col>&lt;chr&gt;</th><th scope=col>&lt;chr&gt;</th><th scope=col>&lt;chr&gt;</th><th scope=col>&lt;chr&gt;</th></tr>\n",
       "</thead>\n",
       "<tbody>\n",
       "\t<tr><th scope=row>F14_Common_Bream</th><td>F14_Common_Bream</td><td>F14</td><td>Brachse  </td><td>Common.Bream</td><td>Abramis_brama </td><td>NA</td><td>38527</td><td>Actinopterygii</td><td>Cypriniformes</td><td>Cyprinidae</td><td>⋯</td><td>ectotherm/poikilotherm</td><td>2010-08-10</td><td>summer</td><td>317</td><td>Greiner Polypropylene Tube 50ml          </td><td>feces sampling</td><td>omnivore </td><td>NA               </td><td>simple </td><td>simple </td></tr>\n",
       "\t<tr><th scope=row>F35_Red_Deer</th><td>F35_Red_Deer    </td><td>F35</td><td>Rothirsch</td><td>Red.Deer    </td><td>Cervus_elaphus</td><td>NA</td><td>9860 </td><td>Mammalia      </td><td>Artiodactyla </td><td>Cervidae  </td><td>⋯</td><td>endotherm/homoiotherm </td><td>2010-09-29</td><td>autumn</td><td>229</td><td>Greiner Polystyrene 30ml Faeces Container</td><td>feces sampling</td><td>herbivore</td><td>intermediate type</td><td>foregut</td><td>foregut</td></tr>\n",
       "\t<tr><th scope=row>⋮</th><td>⋮</td><td>⋮</td><td>⋮</td><td>⋮</td><td>⋮</td><td>⋮</td><td>⋮</td><td>⋮</td><td>⋮</td><td>⋮</td><td>⋱</td><td>⋮</td><td>⋮</td><td>⋮</td><td>⋮</td><td>⋮</td><td>⋮</td><td>⋮</td><td>⋮</td><td>⋮</td><td>⋮</td></tr>\n",
       "\t<tr><th scope=row>X67_European_Roe</th><td>X67_European_Roe         </td><td>67</td><td>Reh          </td><td>European.Roe         </td><td>Capreolus_capreolus</td><td>NA</td><td>9858 </td><td>Mammalia</td><td>Artiodactyla</td><td>Cervidae </td><td>⋯</td><td>endotherm/homoiotherm</td><td>2011-10-31</td><td>autumn</td><td>#VALUE!</td><td>Screw cap vial</td><td>feces sampling</td><td>herbivore</td><td>concentrate selector</td><td>foregut       </td><td>foregut</td></tr>\n",
       "\t<tr><th scope=row>X98_Eurasian_Red_Squirrel</th><td>X98_Eurasian_Red_Squirrel</td><td>98</td><td>Eichhoernchen</td><td>Eurasian.Red.Squirrel</td><td>Sciurus_vulgaris   </td><td>NA</td><td>55149</td><td>Mammalia</td><td>Rodentia    </td><td>Sciuridae</td><td>⋯</td><td>endotherm/homoiotherm</td><td>2011-11-03</td><td>autumn</td><td>#VALUE!</td><td>Screw cap vial</td><td>gut section   </td><td>omnivore </td><td>NA                  </td><td>simple hindgut</td><td>caecum </td></tr>\n",
       "</tbody>\n",
       "</table>\n"
      ],
      "text/latex": [
       "A data.frame: 301 × 71\n",
       "\\begin{tabular}{r|lllllllllllllllllllll}\n",
       "  & SampleID & host\\_subject\\_id & host\\_german\\_name & host\\_common\\_name & scientific\\_name & scientific\\_name\\_subspecies & host\\_taxid & class & order & family & ⋯ & temp\\_regulation & collection\\_date & season & samp\\_store\\_days & samp\\_collect\\_device & sampling\\_method & diet & feeding\\_style & digestive\\_system & digestive\\_system\\_detail\\\\\n",
       "  & <chr> & <chr> & <chr> & <chr> & <chr> & <chr> & <chr> & <chr> & <chr> & <chr> & ⋯ & <chr> & <chr> & <chr> & <chr> & <chr> & <chr> & <chr> & <chr> & <chr> & <chr>\\\\\n",
       "\\hline\n",
       "\tF14\\_Common\\_Bream & F14\\_Common\\_Bream & F14 & Brachse   & Common.Bream & Abramis\\_brama  & NA & 38527 & Actinopterygii & Cypriniformes & Cyprinidae & ⋯ & ectotherm/poikilotherm & 2010-08-10 & summer & 317 & Greiner Polypropylene Tube 50ml           & feces sampling & omnivore  & NA                & simple  & simple \\\\\n",
       "\tF35\\_Red\\_Deer & F35\\_Red\\_Deer     & F35 & Rothirsch & Red.Deer     & Cervus\\_elaphus & NA & 9860  & Mammalia       & Artiodactyla  & Cervidae   & ⋯ & endotherm/homoiotherm  & 2010-09-29 & autumn & 229 & Greiner Polystyrene 30ml Faeces Container & feces sampling & herbivore & intermediate type & foregut & foregut\\\\\n",
       "\t⋮ & ⋮ & ⋮ & ⋮ & ⋮ & ⋮ & ⋮ & ⋮ & ⋮ & ⋮ & ⋮ & ⋱ & ⋮ & ⋮ & ⋮ & ⋮ & ⋮ & ⋮ & ⋮ & ⋮ & ⋮ & ⋮\\\\\n",
       "\tX67\\_European\\_Roe & X67\\_European\\_Roe          & 67 & Reh           & European.Roe          & Capreolus\\_capreolus & NA & 9858  & Mammalia & Artiodactyla & Cervidae  & ⋯ & endotherm/homoiotherm & 2011-10-31 & autumn & \\#VALUE! & Screw cap vial & feces sampling & herbivore & concentrate selector & foregut        & foregut\\\\\n",
       "\tX98\\_Eurasian\\_Red\\_Squirrel & X98\\_Eurasian\\_Red\\_Squirrel & 98 & Eichhoernchen & Eurasian.Red.Squirrel & Sciurus\\_vulgaris    & NA & 55149 & Mammalia & Rodentia     & Sciuridae & ⋯ & endotherm/homoiotherm & 2011-11-03 & autumn & \\#VALUE! & Screw cap vial & gut section    & omnivore  & NA                   & simple hindgut & caecum \\\\\n",
       "\\end{tabular}\n"
      ],
      "text/markdown": [
       "\n",
       "A data.frame: 301 × 71\n",
       "\n",
       "| <!--/--> | SampleID &lt;chr&gt; | host_subject_id &lt;chr&gt; | host_german_name &lt;chr&gt; | host_common_name &lt;chr&gt; | scientific_name &lt;chr&gt; | scientific_name_subspecies &lt;chr&gt; | host_taxid &lt;chr&gt; | class &lt;chr&gt; | order &lt;chr&gt; | family &lt;chr&gt; | ⋯ ⋯ | temp_regulation &lt;chr&gt; | collection_date &lt;chr&gt; | season &lt;chr&gt; | samp_store_days &lt;chr&gt; | samp_collect_device &lt;chr&gt; | sampling_method &lt;chr&gt; | diet &lt;chr&gt; | feeding_style &lt;chr&gt; | digestive_system &lt;chr&gt; | digestive_system_detail &lt;chr&gt; |\n",
       "|---|---|---|---|---|---|---|---|---|---|---|---|---|---|---|---|---|---|---|---|---|---|\n",
       "| F14_Common_Bream | F14_Common_Bream | F14 | Brachse   | Common.Bream | Abramis_brama  | NA | 38527 | Actinopterygii | Cypriniformes | Cyprinidae | ⋯ | ectotherm/poikilotherm | 2010-08-10 | summer | 317 | Greiner Polypropylene Tube 50ml           | feces sampling | omnivore  | NA                | simple  | simple  |\n",
       "| F35_Red_Deer | F35_Red_Deer     | F35 | Rothirsch | Red.Deer     | Cervus_elaphus | NA | 9860  | Mammalia       | Artiodactyla  | Cervidae   | ⋯ | endotherm/homoiotherm  | 2010-09-29 | autumn | 229 | Greiner Polystyrene 30ml Faeces Container | feces sampling | herbivore | intermediate type | foregut | foregut |\n",
       "| ⋮ | ⋮ | ⋮ | ⋮ | ⋮ | ⋮ | ⋮ | ⋮ | ⋮ | ⋮ | ⋮ | ⋱ | ⋮ | ⋮ | ⋮ | ⋮ | ⋮ | ⋮ | ⋮ | ⋮ | ⋮ | ⋮ |\n",
       "| X67_European_Roe | X67_European_Roe          | 67 | Reh           | European.Roe          | Capreolus_capreolus | NA | 9858  | Mammalia | Artiodactyla | Cervidae  | ⋯ | endotherm/homoiotherm | 2011-10-31 | autumn | #VALUE! | Screw cap vial | feces sampling | herbivore | concentrate selector | foregut        | foregut |\n",
       "| X98_Eurasian_Red_Squirrel | X98_Eurasian_Red_Squirrel | 98 | Eichhoernchen | Eurasian.Red.Squirrel | Sciurus_vulgaris    | NA | 55149 | Mammalia | Rodentia     | Sciuridae | ⋯ | endotherm/homoiotherm | 2011-11-03 | autumn | #VALUE! | Screw cap vial | gut section    | omnivore  | NA                   | simple hindgut | caecum  |\n",
       "\n"
      ],
      "text/plain": [
       "                          SampleID                  host_subject_id\n",
       "F14_Common_Bream          F14_Common_Bream          F14            \n",
       "F35_Red_Deer              F35_Red_Deer              F35            \n",
       "⋮                         ⋮                         ⋮              \n",
       "X67_European_Roe          X67_European_Roe          67             \n",
       "X98_Eurasian_Red_Squirrel X98_Eurasian_Red_Squirrel 98             \n",
       "                          host_german_name host_common_name     \n",
       "F14_Common_Bream          Brachse          Common.Bream         \n",
       "F35_Red_Deer              Rothirsch        Red.Deer             \n",
       "⋮                         ⋮                ⋮                    \n",
       "X67_European_Roe          Reh              European.Roe         \n",
       "X98_Eurasian_Red_Squirrel Eichhoernchen    Eurasian.Red.Squirrel\n",
       "                          scientific_name     scientific_name_subspecies\n",
       "F14_Common_Bream          Abramis_brama       NA                        \n",
       "F35_Red_Deer              Cervus_elaphus      NA                        \n",
       "⋮                         ⋮                   ⋮                         \n",
       "X67_European_Roe          Capreolus_capreolus NA                        \n",
       "X98_Eurasian_Red_Squirrel Sciurus_vulgaris    NA                        \n",
       "                          host_taxid class          order         family     ⋯\n",
       "F14_Common_Bream          38527      Actinopterygii Cypriniformes Cyprinidae ⋯\n",
       "F35_Red_Deer              9860       Mammalia       Artiodactyla  Cervidae   ⋯\n",
       "⋮                         ⋮          ⋮              ⋮             ⋮          ⋱\n",
       "X67_European_Roe          9858       Mammalia       Artiodactyla  Cervidae   ⋯\n",
       "X98_Eurasian_Red_Squirrel 55149      Mammalia       Rodentia      Sciuridae  ⋯\n",
       "                          temp_regulation        collection_date season\n",
       "F14_Common_Bream          ectotherm/poikilotherm 2010-08-10      summer\n",
       "F35_Red_Deer              endotherm/homoiotherm  2010-09-29      autumn\n",
       "⋮                         ⋮                      ⋮               ⋮     \n",
       "X67_European_Roe          endotherm/homoiotherm  2011-10-31      autumn\n",
       "X98_Eurasian_Red_Squirrel endotherm/homoiotherm  2011-11-03      autumn\n",
       "                          samp_store_days\n",
       "F14_Common_Bream          317            \n",
       "F35_Red_Deer              229            \n",
       "⋮                         ⋮              \n",
       "X67_European_Roe          #VALUE!        \n",
       "X98_Eurasian_Red_Squirrel #VALUE!        \n",
       "                          samp_collect_device                      \n",
       "F14_Common_Bream          Greiner Polypropylene Tube 50ml          \n",
       "F35_Red_Deer              Greiner Polystyrene 30ml Faeces Container\n",
       "⋮                         ⋮                                        \n",
       "X67_European_Roe          Screw cap vial                           \n",
       "X98_Eurasian_Red_Squirrel Screw cap vial                           \n",
       "                          sampling_method diet      feeding_style       \n",
       "F14_Common_Bream          feces sampling  omnivore  NA                  \n",
       "F35_Red_Deer              feces sampling  herbivore intermediate type   \n",
       "⋮                         ⋮               ⋮         ⋮                   \n",
       "X67_European_Roe          feces sampling  herbivore concentrate selector\n",
       "X98_Eurasian_Red_Squirrel gut section     omnivore  NA                  \n",
       "                          digestive_system digestive_system_detail\n",
       "F14_Common_Bream          simple           simple                 \n",
       "F35_Red_Deer              foregut          foregut                \n",
       "⋮                         ⋮                ⋮                      \n",
       "X67_European_Roe          foregut          foregut                \n",
       "X98_Eurasian_Red_Squirrel simple hindgut   caecum                 "
      ]
     },
     "metadata": {},
     "output_type": "display_data"
    }
   ],
   "source": [
    "# adding extra rows to metadata\n",
    "x = data.frame(Sample = colnames(physeq_otu)) %>%\n",
    "    filter(!is.na(Sample))\n",
    "\n",
    "metadata_j = metadata %>%\n",
    "    right_join(x, c('SampleID'='Sample')) %>%\n",
    "    as.data.frame\n",
    "\n",
    "rownames(metadata_j) = metadata_j$SampleID\n",
    "metadata_j "
   ]
  },
  {
   "cell_type": "markdown",
   "metadata": {},
   "source": [
    "# Checking overlap"
   ]
  },
  {
   "cell_type": "code",
   "execution_count": 17,
   "metadata": {
    "ExecuteTime": {
     "end_time": "2020-03-06T12:47:21.856871Z",
     "start_time": "2020-03-06T12:45:46.384Z"
    }
   },
   "outputs": [
    {
     "name": "stdout",
     "output_type": "stream",
     "text": [
      "intersect(x,y): 280 \n",
      "setdiff(x,y): 195 \n",
      "setdiff(y,x): 21 \n",
      "union(x,y): 496 \n",
      "[1] 195\n",
      "[1] 21\n"
     ]
    }
   ],
   "source": [
    "overlap(rownames(metadata), colnames(physeq_otu))\n",
    "setdiff(rownames(metadata), colnames(physeq_otu)) %>% length %>% print\n",
    "setdiff(colnames(physeq_otu), rownames(metadata)) %>% length %>% print"
   ]
  },
  {
   "cell_type": "code",
   "execution_count": 18,
   "metadata": {
    "ExecuteTime": {
     "end_time": "2020-03-06T12:47:21.876478Z",
     "start_time": "2020-03-06T12:45:46.552Z"
    }
   },
   "outputs": [
    {
     "data": {
      "text/html": [
       "<ol class=list-inline>\n",
       "\t<li>'methanogen'</li>\n",
       "\t<li>'mock'</li>\n",
       "\t<li>'Neg_control_1_A'</li>\n",
       "\t<li>'Neg_control_2_B'</li>\n",
       "\t<li>'Neg_control_3_C'</li>\n",
       "\t<li>'Neg_control_4_D'</li>\n",
       "\t<li>'Neg_control_5_E'</li>\n",
       "\t<li>'Neg_control_6_F'</li>\n",
       "\t<li>'Neg_control_7_G'</li>\n",
       "\t<li>'Neg_control_8_H'</li>\n",
       "\t<li>'Neg_control_9_I'</li>\n",
       "\t<li>'Pos_control_1_J'</li>\n",
       "\t<li>'Pos_control_2_K'</li>\n",
       "\t<li>'Pos_control_3_L'</li>\n",
       "\t<li>'Pos_control_4_M'</li>\n",
       "\t<li>'Pos_control_5_N'</li>\n",
       "\t<li>'Pos_control_6_O'</li>\n",
       "\t<li>'Pos_control_7_P'</li>\n",
       "\t<li>'Pos_control_8_Q'</li>\n",
       "\t<li>'Pos_control_9_R'</li>\n",
       "\t<li>'water'</li>\n",
       "</ol>\n"
      ],
      "text/latex": [
       "\\begin{enumerate*}\n",
       "\\item 'methanogen'\n",
       "\\item 'mock'\n",
       "\\item 'Neg\\_control\\_1\\_A'\n",
       "\\item 'Neg\\_control\\_2\\_B'\n",
       "\\item 'Neg\\_control\\_3\\_C'\n",
       "\\item 'Neg\\_control\\_4\\_D'\n",
       "\\item 'Neg\\_control\\_5\\_E'\n",
       "\\item 'Neg\\_control\\_6\\_F'\n",
       "\\item 'Neg\\_control\\_7\\_G'\n",
       "\\item 'Neg\\_control\\_8\\_H'\n",
       "\\item 'Neg\\_control\\_9\\_I'\n",
       "\\item 'Pos\\_control\\_1\\_J'\n",
       "\\item 'Pos\\_control\\_2\\_K'\n",
       "\\item 'Pos\\_control\\_3\\_L'\n",
       "\\item 'Pos\\_control\\_4\\_M'\n",
       "\\item 'Pos\\_control\\_5\\_N'\n",
       "\\item 'Pos\\_control\\_6\\_O'\n",
       "\\item 'Pos\\_control\\_7\\_P'\n",
       "\\item 'Pos\\_control\\_8\\_Q'\n",
       "\\item 'Pos\\_control\\_9\\_R'\n",
       "\\item 'water'\n",
       "\\end{enumerate*}\n"
      ],
      "text/markdown": [
       "1. 'methanogen'\n",
       "2. 'mock'\n",
       "3. 'Neg_control_1_A'\n",
       "4. 'Neg_control_2_B'\n",
       "5. 'Neg_control_3_C'\n",
       "6. 'Neg_control_4_D'\n",
       "7. 'Neg_control_5_E'\n",
       "8. 'Neg_control_6_F'\n",
       "9. 'Neg_control_7_G'\n",
       "10. 'Neg_control_8_H'\n",
       "11. 'Neg_control_9_I'\n",
       "12. 'Pos_control_1_J'\n",
       "13. 'Pos_control_2_K'\n",
       "14. 'Pos_control_3_L'\n",
       "15. 'Pos_control_4_M'\n",
       "16. 'Pos_control_5_N'\n",
       "17. 'Pos_control_6_O'\n",
       "18. 'Pos_control_7_P'\n",
       "19. 'Pos_control_8_Q'\n",
       "20. 'Pos_control_9_R'\n",
       "21. 'water'\n",
       "\n",
       "\n"
      ],
      "text/plain": [
       " [1] \"methanogen\"      \"mock\"            \"Neg_control_1_A\" \"Neg_control_2_B\"\n",
       " [5] \"Neg_control_3_C\" \"Neg_control_4_D\" \"Neg_control_5_E\" \"Neg_control_6_F\"\n",
       " [9] \"Neg_control_7_G\" \"Neg_control_8_H\" \"Neg_control_9_I\" \"Pos_control_1_J\"\n",
       "[13] \"Pos_control_2_K\" \"Pos_control_3_L\" \"Pos_control_4_M\" \"Pos_control_5_N\"\n",
       "[17] \"Pos_control_6_O\" \"Pos_control_7_P\" \"Pos_control_8_Q\" \"Pos_control_9_R\"\n",
       "[21] \"water\"          "
      ]
     },
     "metadata": {},
     "output_type": "display_data"
    }
   ],
   "source": [
    "setdiff(colnames(physeq_otu), rownames(metadata))"
   ]
  },
  {
   "cell_type": "code",
   "execution_count": 19,
   "metadata": {
    "ExecuteTime": {
     "end_time": "2020-03-06T12:47:21.892776Z",
     "start_time": "2020-03-06T12:45:46.936Z"
    }
   },
   "outputs": [
    {
     "name": "stdout",
     "output_type": "stream",
     "text": [
      "intersect(x,y): 301 \n",
      "setdiff(x,y): 0 \n",
      "setdiff(y,x): 0 \n",
      "union(x,y): 301 \n"
     ]
    }
   ],
   "source": [
    "overlap(colnames(physeq_otu), rownames(metadata_j))"
   ]
  },
  {
   "cell_type": "code",
   "execution_count": 20,
   "metadata": {
    "ExecuteTime": {
     "end_time": "2020-03-06T12:47:21.950690Z",
     "start_time": "2020-03-06T12:45:47.105Z"
    }
   },
   "outputs": [
    {
     "name": "stdout",
     "output_type": "stream",
     "text": [
      "intersect(x,y): 81276 \n",
      "setdiff(x,y): 0 \n",
      "setdiff(y,x): 0 \n",
      "union(x,y): 81276 \n"
     ]
    }
   ],
   "source": [
    "overlap(rownames(physeq_otu), rownames(physeq_tax))"
   ]
  },
  {
   "cell_type": "code",
   "execution_count": 21,
   "metadata": {
    "ExecuteTime": {
     "end_time": "2020-03-06T12:47:22.009025Z",
     "start_time": "2020-03-06T12:45:47.264Z"
    }
   },
   "outputs": [
    {
     "name": "stdout",
     "output_type": "stream",
     "text": [
      "intersect(x,y): 81276 \n",
      "setdiff(x,y): 0 \n",
      "setdiff(y,x): 0 \n",
      "union(x,y): 81276 \n"
     ]
    }
   ],
   "source": [
    "overlap(rownames(physeq_otu), tree$tip.label)"
   ]
  },
  {
   "cell_type": "markdown",
   "metadata": {},
   "source": [
    "# Making phyloseq object\n",
    "\n",
    "* all samples in the dataset\n",
    "* all taxa in the dataset"
   ]
  },
  {
   "cell_type": "code",
   "execution_count": 22,
   "metadata": {
    "ExecuteTime": {
     "end_time": "2020-03-06T12:47:25.628003Z",
     "start_time": "2020-03-06T12:45:48.028Z"
    }
   },
   "outputs": [
    {
     "data": {
      "text/plain": [
       "phyloseq-class experiment-level object\n",
       "otu_table()   OTU Table:         [ 81276 taxa and 301 samples ]\n",
       "sample_data() Sample Data:       [ 301 samples by 71 sample variables ]\n",
       "tax_table()   Taxonomy Table:    [ 81276 taxa by 7 taxonomic ranks ]\n",
       "phy_tree()    Phylogenetic Tree: [ 81276 tips and 81157 internal nodes ]"
      ]
     },
     "metadata": {},
     "output_type": "display_data"
    }
   ],
   "source": [
    "physeq = phyloseq(\n",
    "                  otu_table(physeq_otu %>% as.matrix, taxa_are_rows=TRUE),\n",
    "                  sample_data(metadata_j),\n",
    "                  tax_table(physeq_tax %>% as.matrix),\n",
    "                  phy_tree(tree)\n",
    "                 )\n",
    "physeq"
   ]
  },
  {
   "cell_type": "markdown",
   "metadata": {},
   "source": [
    "## Writing object"
   ]
  },
  {
   "cell_type": "code",
   "execution_count": 23,
   "metadata": {
    "ExecuteTime": {
     "end_time": "2020-03-06T12:47:25.647652Z",
     "start_time": "2020-03-06T12:45:48.792Z"
    }
   },
   "outputs": [
    {
     "name": "stdout",
     "output_type": "stream",
     "text": [
      "Created directory: /ebio/abt3_projects/Georg_animal_feces/data/16S_arch/MiSeq-Runs-116-122-126-189-190/LLA/merged//phyloseq \n"
     ]
    }
   ],
   "source": [
    "# output dir\n",
    "D = file.path(work_dir, 'phyloseq')\n",
    "make_dir(D)"
   ]
  },
  {
   "cell_type": "code",
   "execution_count": 24,
   "metadata": {
    "ExecuteTime": {
     "end_time": "2020-03-06T12:47:30.178976Z",
     "start_time": "2020-03-06T12:45:48.960Z"
    }
   },
   "outputs": [
    {
     "name": "stdout",
     "output_type": "stream",
     "text": [
      "File written: /ebio/abt3_projects/Georg_animal_feces/data/16S_arch/MiSeq-Runs-116-122-126-189-190/LLA/merged//phyloseq/physeq_all.RDS"
     ]
    }
   ],
   "source": [
    "# writing\n",
    "physeq_file = file.path(D, 'physeq_all.RDS')\n",
    "saveRDS(physeq, file=physeq_file)\n",
    "cat('File written:', physeq_file)"
   ]
  },
  {
   "cell_type": "markdown",
   "metadata": {},
   "source": [
    "# sessionInfo"
   ]
  },
  {
   "cell_type": "code",
   "execution_count": 25,
   "metadata": {
    "ExecuteTime": {
     "end_time": "2020-03-06T12:47:30.251342Z",
     "start_time": "2020-03-06T12:45:49.399Z"
    }
   },
   "outputs": [
    {
     "data": {
      "text/plain": [
       "R version 3.6.2 (2019-12-12)\n",
       "Platform: x86_64-conda_cos6-linux-gnu (64-bit)\n",
       "Running under: Ubuntu 18.04.3 LTS\n",
       "\n",
       "Matrix products: default\n",
       "BLAS/LAPACK: /ebio/abt3_projects/Georg_animal_feces/envs/phyloseq/lib/libopenblasp-r0.3.7.so\n",
       "\n",
       "locale:\n",
       " [1] LC_CTYPE=en_US.UTF-8       LC_NUMERIC=C              \n",
       " [3] LC_TIME=en_US.UTF-8        LC_COLLATE=en_US.UTF-8    \n",
       " [5] LC_MONETARY=en_US.UTF-8    LC_MESSAGES=en_US.UTF-8   \n",
       " [7] LC_PAPER=en_US.UTF-8       LC_NAME=C                 \n",
       " [9] LC_ADDRESS=C               LC_TELEPHONE=C            \n",
       "[11] LC_MEASUREMENT=en_US.UTF-8 LC_IDENTIFICATION=C       \n",
       "\n",
       "attached base packages:\n",
       "[1] stats     graphics  grDevices utils     datasets  methods   base     \n",
       "\n",
       "other attached packages:\n",
       "[1] LeyLabRMisc_0.1.1 phyloseq_1.30.0   ggplot2_3.2.1     tidyr_1.0.0      \n",
       "[5] dplyr_0.8.3       dtplyr_1.0.0     \n",
       "\n",
       "loaded via a namespace (and not attached):\n",
       " [1] Rcpp_1.0.3          ape_5.3             lattice_0.20-38    \n",
       " [4] Biostrings_2.54.0   assertthat_0.2.1    zeallot_0.1.0      \n",
       " [7] digest_0.6.23       foreach_1.4.7       IRdisplay_0.7.0    \n",
       "[10] R6_2.4.1            plyr_1.8.5          repr_1.0.2         \n",
       "[13] backports_1.1.5     stats4_3.6.2        evaluate_0.14      \n",
       "[16] pillar_1.4.3        zlibbioc_1.32.0     rlang_0.4.2        \n",
       "[19] lazyeval_0.2.2      uuid_0.1-2          data.table_1.12.8  \n",
       "[22] vegan_2.5-6         S4Vectors_0.24.0    Matrix_1.2-18      \n",
       "[25] splines_3.6.2       stringr_1.4.0       igraph_1.2.4.2     \n",
       "[28] munsell_0.5.0       compiler_3.6.2      pkgconfig_2.0.3    \n",
       "[31] BiocGenerics_0.32.0 base64enc_0.1-3     multtest_2.42.0    \n",
       "[34] mgcv_1.8-31         htmltools_0.4.0     biomformat_1.14.0  \n",
       "[37] tidyselect_0.2.5    tibble_2.1.3        IRanges_2.20.0     \n",
       "[40] codetools_0.2-16    permute_0.9-5       crayon_1.3.4       \n",
       "[43] withr_2.1.2         MASS_7.3-51.5       grid_3.6.2         \n",
       "[46] nlme_3.1-143        jsonlite_1.6        gtable_0.3.0       \n",
       "[49] lifecycle_0.1.0     magrittr_1.5        scales_1.1.0       \n",
       "[52] stringi_1.4.5       XVector_0.26.0      reshape2_1.4.3     \n",
       "[55] vctrs_0.2.1         IRkernel_1.1        Rhdf5lib_1.8.0     \n",
       "[58] iterators_1.0.12    tools_3.6.2         ade4_1.7-13        \n",
       "[61] Biobase_2.46.0      glue_1.3.1          purrr_0.3.3        \n",
       "[64] parallel_3.6.2      survival_3.1-8      colorspace_1.4-1   \n",
       "[67] rhdf5_2.30.0        cluster_2.1.0       pbdZMQ_0.3-3       "
      ]
     },
     "metadata": {},
     "output_type": "display_data"
    }
   ],
   "source": [
    "sessionInfo()"
   ]
  },
  {
   "cell_type": "code",
   "execution_count": null,
   "metadata": {},
   "outputs": [],
   "source": []
  }
 ],
 "metadata": {
  "kernelspec": {
   "display_name": "R [conda env:Georg_animal_feces-phyloseq]",
   "language": "R",
   "name": "conda-env-Georg_animal_feces-phyloseq-r"
  },
  "language_info": {
   "codemirror_mode": "r",
   "file_extension": ".r",
   "mimetype": "text/x-r-source",
   "name": "R",
   "pygments_lexer": "r",
   "version": "3.6.2"
  },
  "notify_time": "30",
  "toc": {
   "base_numbering": 1,
   "nav_menu": {},
   "number_sections": true,
   "sideBar": true,
   "skip_h1_title": false,
   "title_cell": "Table of Contents",
   "title_sidebar": "Contents",
   "toc_cell": true,
   "toc_position": {},
   "toc_section_display": true,
   "toc_window_display": true
  }
 },
 "nbformat": 4,
 "nbformat_minor": 2
}
