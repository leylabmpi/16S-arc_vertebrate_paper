{
 "cells": [
  {
   "cell_type": "markdown",
   "metadata": {
    "toc": true
   },
   "source": [
    "<h1>Table of Contents<span class=\"tocSkip\"></span></h1>\n",
    "<div class=\"toc\"><ul class=\"toc-item\"><li><span><a href=\"#Goal\" data-toc-modified-id=\"Goal-1\"><span class=\"toc-item-num\">1&nbsp;&nbsp;</span>Goal</a></span></li><li><span><a href=\"#Var\" data-toc-modified-id=\"Var-2\"><span class=\"toc-item-num\">2&nbsp;&nbsp;</span>Var</a></span></li><li><span><a href=\"#Init\" data-toc-modified-id=\"Init-3\"><span class=\"toc-item-num\">3&nbsp;&nbsp;</span>Init</a></span></li><li><span><a href=\"#Load\" data-toc-modified-id=\"Load-4\"><span class=\"toc-item-num\">4&nbsp;&nbsp;</span>Load</a></span></li><li><span><a href=\"#Metadata\" data-toc-modified-id=\"Metadata-5\"><span class=\"toc-item-num\">5&nbsp;&nbsp;</span>Metadata</a></span><ul class=\"toc-item\"><li><span><a href=\"#IndD\" data-toc-modified-id=\"IndD-5.1\"><span class=\"toc-item-num\">5.1&nbsp;&nbsp;</span>IndD</a></span><ul class=\"toc-item\"><li><span><a href=\"#Writing-table\" data-toc-modified-id=\"Writing-table-5.1.1\"><span class=\"toc-item-num\">5.1.1&nbsp;&nbsp;</span>Writing table</a></span></li></ul></li></ul></li><li><span><a href=\"#Taxon-prevalence\" data-toc-modified-id=\"Taxon-prevalence-6\"><span class=\"toc-item-num\">6&nbsp;&nbsp;</span>Taxon prevalence</a></span><ul class=\"toc-item\"><li><span><a href=\"#Class-level\" data-toc-modified-id=\"Class-level-6.1\"><span class=\"toc-item-num\">6.1&nbsp;&nbsp;</span>Class-level</a></span><ul class=\"toc-item\"><li><span><a href=\"#Writing-table\" data-toc-modified-id=\"Writing-table-6.1.1\"><span class=\"toc-item-num\">6.1.1&nbsp;&nbsp;</span>Writing table</a></span></li></ul></li><li><span><a href=\"#General-summary\" data-toc-modified-id=\"General-summary-6.2\"><span class=\"toc-item-num\">6.2&nbsp;&nbsp;</span>General summary</a></span></li></ul></li><li><span><a href=\"#sessionInfo\" data-toc-modified-id=\"sessionInfo-7\"><span class=\"toc-item-num\">7&nbsp;&nbsp;</span>sessionInfo</a></span></li></ul></div>"
   ]
  },
  {
   "cell_type": "markdown",
   "metadata": {},
   "source": [
    "# Goal\n",
    "\n",
    "* General summaries of the dataset"
   ]
  },
  {
   "cell_type": "markdown",
   "metadata": {},
   "source": [
    "# Var"
   ]
  },
  {
   "cell_type": "code",
   "execution_count": 1,
   "metadata": {
    "ExecuteTime": {
     "end_time": "2020-10-08T07:07:58.879394Z",
     "start_time": "2020-10-08T07:07:58.570Z"
    }
   },
   "outputs": [],
   "source": [
    "work_dir = '/ebio/abt3_projects/Georg_animal_feces/data/16S_arch/MiSeq-Runs-116-122-126-189-190/LLA/merged/'\n",
    "\n",
    "# microbiome\n",
    "## 16S-arch phyloseq object (one sample per species)\n",
    "physeq_arch_SpecD_file = '/ebio/abt3_projects/Georg_animal_feces/data/16S_arch/MiSeq-Runs-116-122-126-189-190/LLA/merged/phyloseq/physeq_arch_SpecD.RDS'\n",
    "## 16S-arch phyloseq object (one sample per individual)\n",
    "physeq_arch_IndD_file = '/ebio/abt3_projects/Georg_animal_feces/data/16S_arch/MiSeq-Runs-116-122-126-189-190/LLA/merged/phyloseq/physeq_arch_IndD.RDS'\n",
    "\n",
    "# host tree\n",
    "host_tree_SpecD_file = '/ebio/abt3_projects/Georg_animal_feces/data/animal/phylogeny/TT/unified_metadata_complete_20190416_rn.nwk'\n",
    "host_tree_IndD_file = '/ebio/abt3_projects/Georg_animal_feces/data/animal/phylogeny/TT/unified_metadata_complete_200429_16S-arch_IndD.nwk'\n",
    "\n",
    "# params\n",
    "threads = 8\n",
    "my_seed = 8371\n"
   ]
  },
  {
   "cell_type": "markdown",
   "metadata": {},
   "source": [
    "# Init"
   ]
  },
  {
   "cell_type": "code",
   "execution_count": 2,
   "metadata": {
    "ExecuteTime": {
     "end_time": "2020-10-08T07:08:11.350234Z",
     "start_time": "2020-10-08T07:07:58.815Z"
    }
   },
   "outputs": [
    {
     "name": "stderr",
     "output_type": "stream",
     "text": [
      "\n",
      "Attaching package: ‘dplyr’\n",
      "\n",
      "\n",
      "The following objects are masked from ‘package:stats’:\n",
      "\n",
      "    filter, lag\n",
      "\n",
      "\n",
      "The following objects are masked from ‘package:base’:\n",
      "\n",
      "    intersect, setdiff, setequal, union\n",
      "\n",
      "\n"
     ]
    }
   ],
   "source": [
    "library(dplyr)\n",
    "library(tidyr)\n",
    "library(ggplot2)\n",
    "library(phyloseq)\n",
    "library(ape)\n",
    "library(LeyLabRMisc)"
   ]
  },
  {
   "cell_type": "code",
   "execution_count": 3,
   "metadata": {
    "ExecuteTime": {
     "end_time": "2020-10-08T07:08:11.601032Z",
     "start_time": "2020-10-08T07:07:59.303Z"
    }
   },
   "outputs": [],
   "source": [
    "df.dims()\n",
    "set.seed(1341)"
   ]
  },
  {
   "cell_type": "markdown",
   "metadata": {},
   "source": [
    "# Load"
   ]
  },
  {
   "cell_type": "code",
   "execution_count": 4,
   "metadata": {
    "ExecuteTime": {
     "end_time": "2020-10-08T07:08:11.725998Z",
     "start_time": "2020-10-08T07:08:03.719Z"
    }
   },
   "outputs": [
    {
     "data": {
      "text/plain": [
       "phyloseq-class experiment-level object\n",
       "otu_table()   OTU Table:         [ 1151 taxa and 110 samples ]\n",
       "sample_data() Sample Data:       [ 110 samples by 88 sample variables ]\n",
       "tax_table()   Taxonomy Table:    [ 1151 taxa by 7 taxonomic ranks ]\n",
       "phy_tree()    Phylogenetic Tree: [ 1151 tips and 1150 internal nodes ]"
      ]
     },
     "metadata": {},
     "output_type": "display_data"
    }
   ],
   "source": [
    "# archaea\n",
    "physeq_arch_SpecD = readRDS(physeq_arch_SpecD_file)\n",
    "physeq_arch_SpecD"
   ]
  },
  {
   "cell_type": "code",
   "execution_count": 5,
   "metadata": {
    "ExecuteTime": {
     "end_time": "2020-10-08T07:08:11.829973Z",
     "start_time": "2020-10-08T07:08:03.855Z"
    }
   },
   "outputs": [
    {
     "data": {
      "text/plain": [
       "phyloseq-class experiment-level object\n",
       "otu_table()   OTU Table:         [ 1891 taxa and 185 samples ]\n",
       "sample_data() Sample Data:       [ 185 samples by 88 sample variables ]\n",
       "tax_table()   Taxonomy Table:    [ 1891 taxa by 7 taxonomic ranks ]\n",
       "phy_tree()    Phylogenetic Tree: [ 1891 tips and 1888 internal nodes ]"
      ]
     },
     "metadata": {},
     "output_type": "display_data"
    }
   ],
   "source": [
    "# archaea\n",
    "physeq_arch_IndD = readRDS(physeq_arch_IndD_file)\n",
    "physeq_arch_IndD"
   ]
  },
  {
   "cell_type": "markdown",
   "metadata": {},
   "source": [
    "# Metadata"
   ]
  },
  {
   "cell_type": "markdown",
   "metadata": {},
   "source": [
    "## IndD\n",
    "\n",
    "* all samples"
   ]
  },
  {
   "cell_type": "code",
   "execution_count": 6,
   "metadata": {
    "ExecuteTime": {
     "end_time": "2020-10-08T07:08:11.981383Z",
     "start_time": "2020-10-08T07:08:07.059Z"
    }
   },
   "outputs": [
    {
     "data": {
      "text/html": [
       "<table>\n",
       "<caption>A tibble: 185 × 27</caption>\n",
       "<thead>\n",
       "\t<tr><th scope=col>Sample</th><th scope=col>class</th><th scope=col>order</th><th scope=col>family</th><th scope=col>genus</th><th scope=col>scientific_name</th><th scope=col>diet</th><th scope=col>diet_detail</th><th scope=col>diet_vertebrate</th><th scope=col>diet_invertebrate</th><th scope=col>⋯</th><th scope=col>sample_type</th><th scope=col>habitat</th><th scope=col>habitat_detail</th><th scope=col>habitat_detail_1</th><th scope=col>habitat_detail_2</th><th scope=col>country</th><th scope=col>region</th><th scope=col>latitude</th><th scope=col>longitude</th><th scope=col>collection_date</th></tr>\n",
       "\t<tr><th scope=col>&lt;chr&gt;</th><th scope=col>&lt;chr&gt;</th><th scope=col>&lt;chr&gt;</th><th scope=col>&lt;chr&gt;</th><th scope=col>&lt;chr&gt;</th><th scope=col>&lt;chr&gt;</th><th scope=col>&lt;chr&gt;</th><th scope=col>&lt;chr&gt;</th><th scope=col>&lt;chr&gt;</th><th scope=col>&lt;chr&gt;</th><th scope=col>⋯</th><th scope=col>&lt;chr&gt;</th><th scope=col>&lt;chr&gt;</th><th scope=col>&lt;chr&gt;</th><th scope=col>&lt;chr&gt;</th><th scope=col>&lt;chr&gt;</th><th scope=col>&lt;chr&gt;</th><th scope=col>&lt;chr&gt;</th><th scope=col>&lt;dbl&gt;</th><th scope=col>&lt;dbl&gt;</th><th scope=col>&lt;chr&gt;</th></tr>\n",
       "</thead>\n",
       "<tbody>\n",
       "\t<tr><td>F14_Common_Bream</td><td>Actinopterygii</td><td>Cypriniformes</td><td>Cyprinidae</td><td>Abramis</td><td>Abramis brama </td><td>omnivore </td><td>NA</td><td>no</td><td>yes</td><td>⋯</td><td>feces</td><td>aquatic habitat    </td><td>freshwater habitat</td><td>freshwater habitat</td><td>freshwater habitat</td><td>Austria</td><td>Vienna</td><td>48.20833</td><td>16.37306</td><td>8/10/10</td></tr>\n",
       "\t<tr><td>F35_Red_Deer    </td><td>Mammalia      </td><td>Artiodactyla </td><td>Cervidae  </td><td>Cervus </td><td>Cervus elaphus</td><td>herbivore</td><td>NA</td><td>no</td><td>no </td><td>⋯</td><td>feces</td><td>terrestrial habitat</td><td>grassland         </td><td>meadow            </td><td>flood meadow      </td><td>Austria</td><td>Vienna</td><td>48.20833</td><td>16.37306</td><td>9/29/10</td></tr>\n",
       "\t<tr><td>⋮</td><td>⋮</td><td>⋮</td><td>⋮</td><td>⋮</td><td>⋮</td><td>⋮</td><td>⋮</td><td>⋮</td><td>⋮</td><td>⋱</td><td>⋮</td><td>⋮</td><td>⋮</td><td>⋮</td><td>⋮</td><td>⋮</td><td>⋮</td><td>⋮</td><td>⋮</td><td>⋮</td></tr>\n",
       "\t<tr><td>X431_Quagga     </td><td>Mammalia</td><td>Perissodactyla</td><td>Equidae </td><td>Equus    </td><td>Equus quagga       </td><td>herbivore</td><td>NA</td><td>no</td><td>no</td><td>⋯</td><td>feces</td><td>terrestrial habitat</td><td>terrestrial habitat</td><td>terrestrial habitat</td><td>terrestrial habitat</td><td>Austria</td><td>Styria</td><td>47.22400</td><td>15.81200</td><td>12/15/13</td></tr>\n",
       "\t<tr><td>X67_European_Roe</td><td>Mammalia</td><td>Artiodactyla  </td><td>Cervidae</td><td>Capreolus</td><td>Capreolus capreolus</td><td>herbivore</td><td>NA</td><td>no</td><td>no</td><td>⋯</td><td>feces</td><td>terrestrial habitat</td><td>woodland           </td><td>forest             </td><td>forest             </td><td>Austria</td><td>Vienna</td><td>48.20833</td><td>16.37306</td><td>10/31/11</td></tr>\n",
       "</tbody>\n",
       "</table>\n"
      ],
      "text/latex": [
       "A tibble: 185 × 27\n",
       "\\begin{tabular}{lllllllllllllllllllll}\n",
       " Sample & class & order & family & genus & scientific\\_name & diet & diet\\_detail & diet\\_vertebrate & diet\\_invertebrate & ⋯ & sample\\_type & habitat & habitat\\_detail & habitat\\_detail\\_1 & habitat\\_detail\\_2 & country & region & latitude & longitude & collection\\_date\\\\\n",
       " <chr> & <chr> & <chr> & <chr> & <chr> & <chr> & <chr> & <chr> & <chr> & <chr> & ⋯ & <chr> & <chr> & <chr> & <chr> & <chr> & <chr> & <chr> & <dbl> & <dbl> & <chr>\\\\\n",
       "\\hline\n",
       "\t F14\\_Common\\_Bream & Actinopterygii & Cypriniformes & Cyprinidae & Abramis & Abramis brama  & omnivore  & NA & no & yes & ⋯ & feces & aquatic habitat     & freshwater habitat & freshwater habitat & freshwater habitat & Austria & Vienna & 48.20833 & 16.37306 & 8/10/10\\\\\n",
       "\t F35\\_Red\\_Deer     & Mammalia       & Artiodactyla  & Cervidae   & Cervus  & Cervus elaphus & herbivore & NA & no & no  & ⋯ & feces & terrestrial habitat & grassland          & meadow             & flood meadow       & Austria & Vienna & 48.20833 & 16.37306 & 9/29/10\\\\\n",
       "\t ⋮ & ⋮ & ⋮ & ⋮ & ⋮ & ⋮ & ⋮ & ⋮ & ⋮ & ⋮ & ⋱ & ⋮ & ⋮ & ⋮ & ⋮ & ⋮ & ⋮ & ⋮ & ⋮ & ⋮ & ⋮\\\\\n",
       "\t X431\\_Quagga      & Mammalia & Perissodactyla & Equidae  & Equus     & Equus quagga        & herbivore & NA & no & no & ⋯ & feces & terrestrial habitat & terrestrial habitat & terrestrial habitat & terrestrial habitat & Austria & Styria & 47.22400 & 15.81200 & 12/15/13\\\\\n",
       "\t X67\\_European\\_Roe & Mammalia & Artiodactyla   & Cervidae & Capreolus & Capreolus capreolus & herbivore & NA & no & no & ⋯ & feces & terrestrial habitat & woodland            & forest              & forest              & Austria & Vienna & 48.20833 & 16.37306 & 10/31/11\\\\\n",
       "\\end{tabular}\n"
      ],
      "text/markdown": [
       "\n",
       "A tibble: 185 × 27\n",
       "\n",
       "| Sample &lt;chr&gt; | class &lt;chr&gt; | order &lt;chr&gt; | family &lt;chr&gt; | genus &lt;chr&gt; | scientific_name &lt;chr&gt; | diet &lt;chr&gt; | diet_detail &lt;chr&gt; | diet_vertebrate &lt;chr&gt; | diet_invertebrate &lt;chr&gt; | ⋯ ⋯ | sample_type &lt;chr&gt; | habitat &lt;chr&gt; | habitat_detail &lt;chr&gt; | habitat_detail_1 &lt;chr&gt; | habitat_detail_2 &lt;chr&gt; | country &lt;chr&gt; | region &lt;chr&gt; | latitude &lt;dbl&gt; | longitude &lt;dbl&gt; | collection_date &lt;chr&gt; |\n",
       "|---|---|---|---|---|---|---|---|---|---|---|---|---|---|---|---|---|---|---|---|---|\n",
       "| F14_Common_Bream | Actinopterygii | Cypriniformes | Cyprinidae | Abramis | Abramis brama  | omnivore  | NA | no | yes | ⋯ | feces | aquatic habitat     | freshwater habitat | freshwater habitat | freshwater habitat | Austria | Vienna | 48.20833 | 16.37306 | 8/10/10 |\n",
       "| F35_Red_Deer     | Mammalia       | Artiodactyla  | Cervidae   | Cervus  | Cervus elaphus | herbivore | NA | no | no  | ⋯ | feces | terrestrial habitat | grassland          | meadow             | flood meadow       | Austria | Vienna | 48.20833 | 16.37306 | 9/29/10 |\n",
       "| ⋮ | ⋮ | ⋮ | ⋮ | ⋮ | ⋮ | ⋮ | ⋮ | ⋮ | ⋮ | ⋱ | ⋮ | ⋮ | ⋮ | ⋮ | ⋮ | ⋮ | ⋮ | ⋮ | ⋮ | ⋮ |\n",
       "| X431_Quagga      | Mammalia | Perissodactyla | Equidae  | Equus     | Equus quagga        | herbivore | NA | no | no | ⋯ | feces | terrestrial habitat | terrestrial habitat | terrestrial habitat | terrestrial habitat | Austria | Styria | 47.22400 | 15.81200 | 12/15/13 |\n",
       "| X67_European_Roe | Mammalia | Artiodactyla   | Cervidae | Capreolus | Capreolus capreolus | herbivore | NA | no | no | ⋯ | feces | terrestrial habitat | woodland            | forest              | forest              | Austria | Vienna | 48.20833 | 16.37306 | 10/31/11 |\n",
       "\n"
      ],
      "text/plain": [
       "    Sample           class          order          family     genus    \n",
       "1   F14_Common_Bream Actinopterygii Cypriniformes  Cyprinidae Abramis  \n",
       "2   F35_Red_Deer     Mammalia       Artiodactyla   Cervidae   Cervus   \n",
       "⋮   ⋮                ⋮              ⋮              ⋮          ⋮        \n",
       "184 X431_Quagga      Mammalia       Perissodactyla Equidae    Equus    \n",
       "185 X67_European_Roe Mammalia       Artiodactyla   Cervidae   Capreolus\n",
       "    scientific_name     diet      diet_detail diet_vertebrate diet_invertebrate\n",
       "1   Abramis brama       omnivore  NA          no              yes              \n",
       "2   Cervus elaphus      herbivore NA          no              no               \n",
       "⋮   ⋮                   ⋮         ⋮           ⋮               ⋮                \n",
       "184 Equus quagga        herbivore NA          no              no               \n",
       "185 Capreolus capreolus herbivore NA          no              no               \n",
       "    ⋯ sample_type habitat             habitat_detail      habitat_detail_1   \n",
       "1   ⋯ feces       aquatic habitat     freshwater habitat  freshwater habitat \n",
       "2   ⋯ feces       terrestrial habitat grassland           meadow             \n",
       "⋮   ⋱ ⋮           ⋮                   ⋮                   ⋮                  \n",
       "184 ⋯ feces       terrestrial habitat terrestrial habitat terrestrial habitat\n",
       "185 ⋯ feces       terrestrial habitat woodland            forest             \n",
       "    habitat_detail_2    country region latitude longitude collection_date\n",
       "1   freshwater habitat  Austria Vienna 48.20833 16.37306  8/10/10        \n",
       "2   flood meadow        Austria Vienna 48.20833 16.37306  9/29/10        \n",
       "⋮   ⋮                   ⋮       ⋮      ⋮        ⋮         ⋮              \n",
       "184 terrestrial habitat Austria Styria 47.22400 15.81200  12/15/13       \n",
       "185 forest              Austria Vienna 48.20833 16.37306  10/31/11       "
      ]
     },
     "metadata": {},
     "output_type": "display_data"
    }
   ],
   "source": [
    "meta = physeq_arch_IndD %>%\n",
    "    phyloseq2df(sample_data) %>%\n",
    "    dplyr::select(SampleID, class, order, family, genus, scientific_name,\n",
    "               diet, diet_detail, diet_vertebrate, diet_invertebrate, diet_fruit, \n",
    "               diet_flowers_nectar_pollen, diet_leaves_branches_bark_buds, diet_seeds,\n",
    "               diet_grass_waterplants, diet_roots_tubers,\n",
    "               captive_wild, sample_type,\n",
    "               habitat, habitat_detail, habitat_detail_1, habitat_detail_2,\n",
    "               country, region, latitude, longitude, collection_date) %>%\n",
    "    rename('Sample' = SampleID) %>%\n",
    "    mutate(scientific_name = gsub('_', ' ', scientific_name))\n",
    "meta "
   ]
  },
  {
   "cell_type": "markdown",
   "metadata": {},
   "source": [
    "### Writing table"
   ]
  },
  {
   "cell_type": "code",
   "execution_count": 14,
   "metadata": {
    "ExecuteTime": {
     "end_time": "2020-08-31T07:22:24.632309Z",
     "start_time": "2020-08-31T07:22:24.600Z"
    }
   },
   "outputs": [
    {
     "name": "stdout",
     "output_type": "stream",
     "text": [
      "File written: /ebio/abt3_projects/Georg_animal_feces/data/16S_arch/MiSeq-Runs-116-122-126-189-190/LLA/merged//IndD_metadata.tsv \n"
     ]
    }
   ],
   "source": [
    "outfile = file.path(work_dir, 'IndD_metadata.tsv')\n",
    "write_table(meta, outfile)"
   ]
  },
  {
   "cell_type": "code",
   "execution_count": 44,
   "metadata": {
    "ExecuteTime": {
     "end_time": "2020-10-08T07:27:05.497122Z",
     "start_time": "2020-10-08T07:27:05.470Z"
    }
   },
   "outputs": [],
   "source": [
    "X = c(\n",
    "'F14_Common_Bream',\n",
    "'F35_Red_Deer',\n",
    "'F36_Red_Deer',\n",
    "'F44_Fallow_Deer',\n",
    "'F45_Red_Deer',\n",
    "'F46_Red_Deer',\n",
    "'F47_Red_Deer',\n",
    "'F48_Red_Deer',\n",
    "'F53_Mouflon',\n",
    "'F66_Wild_Boar',\n",
    "'F68_Red_Deer',\n",
    "'F69_Red_Deer',\n",
    "'F70_Red_Deer',\n",
    "'F80_Red_Deer',\n",
    "'F90_Domestic_Dog',\n",
    "'X101_Horse',\n",
    "'X102_Kulan',\n",
    "'X109_Red_Fox',\n",
    "'X11_Onager',\n",
    "'X111_West_European_Hedgehog',\n",
    "'X116_Common_Kestrel',\n",
    "'X117_Long_eared_Owl',\n",
    "'X119_Ural_Owl',\n",
    "'X121_Raccoon_Dog',\n",
    "'X122_Wild_Boar',\n",
    "'X123_Alpine_Chamois',\n",
    "'X125_Common_Carp',\n",
    "'X128_Alpine_Marmot',\n",
    "'X129_Alpine_Ibex',\n",
    "'X13_Wolf',\n",
    "'X130_Alpine_Ibex',\n",
    "'X131_Rock_Ptarmigan',\n",
    "'X135_Horse',\n",
    "'X137_Gaur',\n",
    "'X138_Gaur',\n",
    "'X139_Sambar',\n",
    "'X140_Sambar',\n",
    "'X141_Red_cheeked_Gibbon',\n",
    "'X146_Cattle',\n",
    "'X15_Tawny_Owl',\n",
    "'X153_Bank_Vole',\n",
    "'X154_Tree_Shrew',\n",
    "'X157_Grey_Heron',\n",
    "'X158_White_tailed_Eagle',\n",
    "'X16_Fat_Dormouse',\n",
    "'X164_Greylag_Goose',\n",
    "'X170_Tawny_Owl',\n",
    "'X172_European_Greenfinch',\n",
    "'X174_Great_Tit',\n",
    "'X179_Roach',\n",
    "'X194_Agile_Frog',\n",
    "'X195_Domestic_Cat',\n",
    "'X203_Red_Deer',\n",
    "'X206_Red_Sheep',\n",
    "'X212_Goose',\n",
    "'X213_Goose',\n",
    "'X214_Goose',\n",
    "'X215_Goose',\n",
    "'X218_Goose',\n",
    "'X219_Goose',\n",
    "'X22_European_Rabbit',\n",
    "'X221_Alpine_Ibex',\n",
    "'X23_Garden_Dormouse',\n",
    "'X230_Carrion_Crow',\n",
    "'X233_Aesculapian_Snake',\n",
    "'X234_Beech_Marten',\n",
    "'X236_Pygmy_Slow_Loris',\n",
    "'X237_Red_shanked_Douc_Langur',\n",
    "'X238_Hanuman_Langur',\n",
    "'X240_Southern_White_cheeked_Gibbon',\n",
    "'X241_Italian_wall_lizard',\n",
    "'X242_Dalmatian_Tortoise',\n",
    "'X247_Common_Hamster',\n",
    "'X252_Eurasian_Lynx',\n",
    "'X259_Mute_Swan',\n",
    "'X260_Blackbird',\n",
    "'X265_Western_Marsh_Harrier',\n",
    "'X266_Western_Marsh_Harrier',\n",
    "'X268_Rook',\n",
    "'X270_Common_Pheasant',\n",
    "'X271_Common_Pheasant',\n",
    "'X279_Western_Grey_Kangaroo',\n",
    "'X280_Western_Grey_Kangaroo',\n",
    "'X283_Koala',\n",
    "'X285_Short_beaked_Echidna',\n",
    "'X286_Short_beaked_Echidna',\n",
    "'X287_Common_Brushtail',\n",
    "'X288_Common_Brushtail',\n",
    "'X289_Eastern_Grey_Kangaroo',\n",
    "'X290_Eastern_Grey_Kangaroo',\n",
    "'X292_Central_Bearded_Dragon',\n",
    "'X305_European_Hare',\n",
    "'X31_Chicken',\n",
    "'X32_Greylag_Goose',\n",
    "'X320_Red_Deer',\n",
    "'X326_Silver_Bream',\n",
    "'X327_Silver_Bream',\n",
    "'X328_Prussian_Carp',\n",
    "'X33_Wild_Turkey',\n",
    "'X330_Ide',\n",
    "'X333_Gray_Seal',\n",
    "'X336_Sei_Whale',\n",
    "'X338_White_beaked_Dolphin',\n",
    "'X339_White_beaked_Dolphin',\n",
    "'X34_Mallard_Duck',\n",
    "'X340_Western_Lowland_Gorilla',\n",
    "'X341_Western_Lowland_Gorilla',\n",
    "'X344_Indian_Rhinoceros',\n",
    "'X349_Smooth_Newt',\n",
    "'X350_Smooth_Newt',\n",
    "'X351_Grass_Snake',\n",
    "'X352_Kinkajou',\n",
    "'X353_Raccoon',\n",
    "'X356_Northern_Tamandua',\n",
    "'X360_White_tailed_Deer',\n",
    "'X363_Desmarests_Spiny_Pocket_Mouse',\n",
    "'X368_European_Ground_Squirrel',\n",
    "'X369_Koala',\n",
    "'X370_African_Bush_Elephant',\n",
    "'X371_Linnaeus_Two_toed_Sloth',\n",
    "'X372_Emu',\n",
    "'X376_Kulan',\n",
    "'X378_Fat_Sand_Rat',\n",
    "'X380_Wild_Boar',\n",
    "'X381_Wild_Boar',\n",
    "'X382_Arctic_Wolf',\n",
    "'X384_Eurasian_Lynx',\n",
    "'X389_Indian_Rhinoceros',\n",
    "'X390_European_Ground_Squirrel',\n",
    "'X391_European_Ground_Squirrel',\n",
    "'X394_Przewalski_horse',\n",
    "'X395_Przewalski_horse',\n",
    "'X396_Morelets_crocodile',\n",
    "'X40_Bactrian_Camel',\n",
    "'X404_Brown_Greater_Galago',\n",
    "'X407_African_Bush_Elephant',\n",
    "'X408_African_Bush_Elephant',\n",
    "'X409_Impala',\n",
    "'X41_Pika',\n",
    "'X410_Impala',\n",
    "'X411_Leopard',\n",
    "'X414_Vervet_Monkey',\n",
    "'X415_White_Rhinoceros',\n",
    "'X416_White_Rhinoceros',\n",
    "'X417_Giraffe',\n",
    "'X418_Giraffe',\n",
    "'X419_African_Buffalo',\n",
    "'X42_Goitered_Gazelle',\n",
    "'X420_Cattle',\n",
    "'X421_Common_Hippopotamus',\n",
    "'X422_Common_Hippopotamus',\n",
    "'X423_Quagga',\n",
    "'X424_Quagga',\n",
    "'X426_Ural_Owl',\n",
    "'X427_Great_Spotted_Woodpecker',\n",
    "'X428_African_Bush_Elephant',\n",
    "'X429_Giraffe',\n",
    "'X43_European_Badger',\n",
    "'X430_Giraffe',\n",
    "'X432_Vervet_Monkey',\n",
    "'X434_Blue_Wildebeest',\n",
    "'X435_Bactrian_Camel',\n",
    "'X60_European_Chub',\n",
    "'X66_Mouflon',\n",
    "'X7_European_Otter',\n",
    "'X73_One_humped_Camel',\n",
    "'X77_Onager',\n",
    "'X85_Domestic_Dog',\n",
    "'X88_European_Rabbit',\n",
    "'X93_Red_Sheep',\n",
    "'X94_Mangalica',\n",
    "'X95_Meadow_Viper',\n",
    "'X96_European_Hare',\n",
    "'F157a_European_Toad',\n",
    "'X127_Alpine_Marmot',\n",
    "'X133_Domestic_Goat',\n",
    "'X134_Domestic_Goat',\n",
    "'X281_Tammar_Wallaby',\n",
    "'X3_Alpine_Chamois',\n",
    "'X357_Northern_Tamandua',\n",
    "'X359_Brown_throated_Sloth',\n",
    "'X403_Chacma_Baboon',\n",
    "'X405_Nile_Crocodile',\n",
    "'X431_Quagga',\n",
    "'X67_European_Roe')"
   ]
  },
  {
   "cell_type": "code",
   "execution_count": 52,
   "metadata": {
    "ExecuteTime": {
     "end_time": "2020-10-08T07:31:09.177708Z",
     "start_time": "2020-10-08T07:31:09.117Z"
    }
   },
   "outputs": [
    {
     "data": {
      "text/html": [
       "<table>\n",
       "<caption>A data.frame: 185 × 7</caption>\n",
       "<thead>\n",
       "\t<tr><th></th><th scope=col>SampleID</th><th scope=col>biome</th><th scope=col>geo_feature</th><th scope=col>geo_feature_detail_1</th><th scope=col>geo_feature_detail_2</th><th scope=col>geo_feature_detail_3</th><th scope=col>geo_feature_detail_4</th></tr>\n",
       "\t<tr><th></th><th scope=col>&lt;chr&gt;</th><th scope=col>&lt;chr&gt;</th><th scope=col>&lt;chr&gt;</th><th scope=col>&lt;chr&gt;</th><th scope=col>&lt;chr&gt;</th><th scope=col>&lt;chr&gt;</th><th scope=col>&lt;chr&gt;</th></tr>\n",
       "</thead>\n",
       "<tbody>\n",
       "\t<tr><th scope=row>F14_Common_Bream</th><td>F14_Common_Bream</td><td>Small river biome                         </td><td>water body</td><td>watercourse</td><td>backwater  </td><td>backwater  </td><td>backwater  </td></tr>\n",
       "\t<tr><th scope=row>F35_Red_Deer</th><td>F35_Red_Deer    </td><td>Temperate broadleaf and mixed forest biome</td><td>plain     </td><td>flood plain</td><td>flood plain</td><td>flood plain</td><td>flood plain</td></tr>\n",
       "\t<tr><th scope=row>⋮</th><td>⋮</td><td>⋮</td><td>⋮</td><td>⋮</td><td>⋮</td><td>⋮</td><td>⋮</td></tr>\n",
       "\t<tr><th scope=row>X431_Quagga</th><td>X431_Quagga     </td><td>Temperate broadleaf and mixed forest biome</td><td>zoological garden</td><td>zoological garden</td><td>zoological garden</td><td>zoological garden</td><td>zoological garden</td></tr>\n",
       "\t<tr><th scope=row>X67_European_Roe</th><td>X67_European_Roe</td><td>Temperate broadleaf and mixed forest biome</td><td>park             </td><td>protected area   </td><td>biosphere reserve</td><td>biosphere reserve</td><td>biosphere reserve</td></tr>\n",
       "</tbody>\n",
       "</table>\n"
      ],
      "text/latex": [
       "A data.frame: 185 × 7\n",
       "\\begin{tabular}{r|lllllll}\n",
       "  & SampleID & biome & geo\\_feature & geo\\_feature\\_detail\\_1 & geo\\_feature\\_detail\\_2 & geo\\_feature\\_detail\\_3 & geo\\_feature\\_detail\\_4\\\\\n",
       "  & <chr> & <chr> & <chr> & <chr> & <chr> & <chr> & <chr>\\\\\n",
       "\\hline\n",
       "\tF14\\_Common\\_Bream & F14\\_Common\\_Bream & Small river biome                          & water body & watercourse & backwater   & backwater   & backwater  \\\\\n",
       "\tF35\\_Red\\_Deer & F35\\_Red\\_Deer     & Temperate broadleaf and mixed forest biome & plain      & flood plain & flood plain & flood plain & flood plain\\\\\n",
       "\t⋮ & ⋮ & ⋮ & ⋮ & ⋮ & ⋮ & ⋮ & ⋮\\\\\n",
       "\tX431\\_Quagga & X431\\_Quagga      & Temperate broadleaf and mixed forest biome & zoological garden & zoological garden & zoological garden & zoological garden & zoological garden\\\\\n",
       "\tX67\\_European\\_Roe & X67\\_European\\_Roe & Temperate broadleaf and mixed forest biome & park              & protected area    & biosphere reserve & biosphere reserve & biosphere reserve\\\\\n",
       "\\end{tabular}\n"
      ],
      "text/markdown": [
       "\n",
       "A data.frame: 185 × 7\n",
       "\n",
       "| <!--/--> | SampleID &lt;chr&gt; | biome &lt;chr&gt; | geo_feature &lt;chr&gt; | geo_feature_detail_1 &lt;chr&gt; | geo_feature_detail_2 &lt;chr&gt; | geo_feature_detail_3 &lt;chr&gt; | geo_feature_detail_4 &lt;chr&gt; |\n",
       "|---|---|---|---|---|---|---|---|\n",
       "| F14_Common_Bream | F14_Common_Bream | Small river biome                          | water body | watercourse | backwater   | backwater   | backwater   |\n",
       "| F35_Red_Deer | F35_Red_Deer     | Temperate broadleaf and mixed forest biome | plain      | flood plain | flood plain | flood plain | flood plain |\n",
       "| ⋮ | ⋮ | ⋮ | ⋮ | ⋮ | ⋮ | ⋮ | ⋮ |\n",
       "| X431_Quagga | X431_Quagga      | Temperate broadleaf and mixed forest biome | zoological garden | zoological garden | zoological garden | zoological garden | zoological garden |\n",
       "| X67_European_Roe | X67_European_Roe | Temperate broadleaf and mixed forest biome | park              | protected area    | biosphere reserve | biosphere reserve | biosphere reserve |\n",
       "\n"
      ],
      "text/plain": [
       "                 SampleID         biome                                     \n",
       "F14_Common_Bream F14_Common_Bream Small river biome                         \n",
       "F35_Red_Deer     F35_Red_Deer     Temperate broadleaf and mixed forest biome\n",
       "⋮                ⋮                ⋮                                         \n",
       "X431_Quagga      X431_Quagga      Temperate broadleaf and mixed forest biome\n",
       "X67_European_Roe X67_European_Roe Temperate broadleaf and mixed forest biome\n",
       "                 geo_feature       geo_feature_detail_1 geo_feature_detail_2\n",
       "F14_Common_Bream water body        watercourse          backwater           \n",
       "F35_Red_Deer     plain             flood plain          flood plain         \n",
       "⋮                ⋮                 ⋮                    ⋮                   \n",
       "X431_Quagga      zoological garden zoological garden    zoological garden   \n",
       "X67_European_Roe park              protected area       biosphere reserve   \n",
       "                 geo_feature_detail_3 geo_feature_detail_4\n",
       "F14_Common_Bream backwater            backwater           \n",
       "F35_Red_Deer     flood plain          flood plain         \n",
       "⋮                ⋮                    ⋮                   \n",
       "X431_Quagga      zoological garden    zoological garden   \n",
       "X67_European_Roe biosphere reserve    biosphere reserve   "
      ]
     },
     "metadata": {},
     "output_type": "display_data"
    }
   ],
   "source": [
    "df = physeq_arch_IndD %>%\n",
    "    phyloseq2df(sample_data) %>%\n",
    "    dplyr::select(SampleID, biome, geo_feature, \n",
    "                  geo_feature_detail_1, geo_feature_detail_2, \n",
    "                  geo_feature_detail_3, geo_feature_detail_4) %>%\n",
    "    as.data.frame\n",
    "rownames(df) = df$SampleID\n",
    "df = df[X,]\n",
    "df"
   ]
  },
  {
   "cell_type": "code",
   "execution_count": 54,
   "metadata": {
    "ExecuteTime": {
     "end_time": "2020-10-08T07:31:32.880484Z",
     "start_time": "2020-10-08T07:31:32.852Z"
    }
   },
   "outputs": [
    {
     "name": "stdout",
     "output_type": "stream",
     "text": [
      "File written: /ebio/abt3_projects/Georg_animal_feces/data/16S_arch/MiSeq-Runs-116-122-126-189-190/LLA/merged//TMP.tsv \n"
     ]
    }
   ],
   "source": [
    "outF = file.path(work_dir, 'TMP.tsv')\n",
    "df %>%\n",
    "    write_table(outF)"
   ]
  },
  {
   "cell_type": "markdown",
   "metadata": {},
   "source": [
    "# Taxon prevalence"
   ]
  },
  {
   "cell_type": "markdown",
   "metadata": {},
   "source": [
    "## Class-level"
   ]
  },
  {
   "cell_type": "code",
   "execution_count": 25,
   "metadata": {
    "ExecuteTime": {
     "end_time": "2020-10-08T07:15:19.172799Z",
     "start_time": "2020-10-08T07:15:18.289Z"
    }
   },
   "outputs": [
    {
     "data": {
      "text/html": [
       "<table>\n",
       "<caption>A matrix: 1 × 8 of type dbl</caption>\n",
       "<thead>\n",
       "\t<tr><th></th><th scope=col>Min.</th><th scope=col>1st Qu.</th><th scope=col>Median</th><th scope=col>Mean</th><th scope=col>3rd Qu.</th><th scope=col>Max.</th><th scope=col>sd</th><th scope=col>sd_err_of_mean</th></tr>\n",
       "</thead>\n",
       "<tbody>\n",
       "\t<tr><th scope=row>% rel. abund.</th><td>0</td><td>0</td><td>0</td><td>9.090909</td><td>0</td><td>100</td><td>40.247</td><td>16.431</td></tr>\n",
       "</tbody>\n",
       "</table>\n"
      ],
      "text/latex": [
       "A matrix: 1 × 8 of type dbl\n",
       "\\begin{tabular}{r|llllllll}\n",
       "  & Min. & 1st Qu. & Median & Mean & 3rd Qu. & Max. & sd & sd\\_err\\_of\\_mean\\\\\n",
       "\\hline\n",
       "\t\\% rel. abund. & 0 & 0 & 0 & 9.090909 & 0 & 100 & 40.247 & 16.431\\\\\n",
       "\\end{tabular}\n"
      ],
      "text/markdown": [
       "\n",
       "A matrix: 1 × 8 of type dbl\n",
       "\n",
       "| <!--/--> | Min. | 1st Qu. | Median | Mean | 3rd Qu. | Max. | sd | sd_err_of_mean |\n",
       "|---|---|---|---|---|---|---|---|---|\n",
       "| % rel. abund. | 0 | 0 | 0 | 9.090909 | 0 | 100 | 40.247 | 16.431 |\n",
       "\n"
      ],
      "text/plain": [
       "              Min. 1st Qu. Median Mean     3rd Qu. Max. sd     sd_err_of_mean\n",
       "% rel. abund. 0    0       0      9.090909 0       100  40.247 16.431        "
      ]
     },
     "metadata": {},
     "output_type": "display_data"
    },
    {
     "data": {
      "text/html": [
       "<table>\n",
       "<caption>A tibble: 2035 × 4</caption>\n",
       "<thead>\n",
       "\t<tr><th scope=col>Sample</th><th scope=col>Phylum</th><th scope=col>Class</th><th scope=col>Count</th></tr>\n",
       "\t<tr><th scope=col>&lt;chr&gt;</th><th scope=col>&lt;chr&gt;</th><th scope=col>&lt;chr&gt;</th><th scope=col>&lt;dbl&gt;</th></tr>\n",
       "</thead>\n",
       "<tbody>\n",
       "\t<tr><td>F14_Common_Bream</td><td>Asgardaeota  </td><td>Odinarchaeia </td><td>0.0000000</td></tr>\n",
       "\t<tr><td>F14_Common_Bream</td><td>Crenarchaeota</td><td>Bathyarchaeia</td><td>0.4049754</td></tr>\n",
       "\t<tr><td>⋮</td><td>⋮</td><td>⋮</td><td>⋮</td></tr>\n",
       "\t<tr><td>X96_European_Hare</td><td>Nanoarchaeaeota</td><td>Woesearchaeia  </td><td>0</td></tr>\n",
       "\t<tr><td>X96_European_Hare</td><td>Thaumarchaeota </td><td>Nitrososphaeria</td><td>0</td></tr>\n",
       "</tbody>\n",
       "</table>\n"
      ],
      "text/latex": [
       "A tibble: 2035 × 4\n",
       "\\begin{tabular}{llll}\n",
       " Sample & Phylum & Class & Count\\\\\n",
       " <chr> & <chr> & <chr> & <dbl>\\\\\n",
       "\\hline\n",
       "\t F14\\_Common\\_Bream & Asgardaeota   & Odinarchaeia  & 0.0000000\\\\\n",
       "\t F14\\_Common\\_Bream & Crenarchaeota & Bathyarchaeia & 0.4049754\\\\\n",
       "\t ⋮ & ⋮ & ⋮ & ⋮\\\\\n",
       "\t X96\\_European\\_Hare & Nanoarchaeaeota & Woesearchaeia   & 0\\\\\n",
       "\t X96\\_European\\_Hare & Thaumarchaeota  & Nitrososphaeria & 0\\\\\n",
       "\\end{tabular}\n"
      ],
      "text/markdown": [
       "\n",
       "A tibble: 2035 × 4\n",
       "\n",
       "| Sample &lt;chr&gt; | Phylum &lt;chr&gt; | Class &lt;chr&gt; | Count &lt;dbl&gt; |\n",
       "|---|---|---|---|\n",
       "| F14_Common_Bream | Asgardaeota   | Odinarchaeia  | 0.0000000 |\n",
       "| F14_Common_Bream | Crenarchaeota | Bathyarchaeia | 0.4049754 |\n",
       "| ⋮ | ⋮ | ⋮ | ⋮ |\n",
       "| X96_European_Hare | Nanoarchaeaeota | Woesearchaeia   | 0 |\n",
       "| X96_European_Hare | Thaumarchaeota  | Nitrososphaeria | 0 |\n",
       "\n"
      ],
      "text/plain": [
       "     Sample            Phylum          Class           Count    \n",
       "1    F14_Common_Bream  Asgardaeota     Odinarchaeia    0.0000000\n",
       "2    F14_Common_Bream  Crenarchaeota   Bathyarchaeia   0.4049754\n",
       "⋮    ⋮                 ⋮               ⋮               ⋮        \n",
       "2034 X96_European_Hare Nanoarchaeaeota Woesearchaeia   0        \n",
       "2035 X96_European_Hare Thaumarchaeota  Nitrososphaeria 0        "
      ]
     },
     "metadata": {},
     "output_type": "display_data"
    }
   ],
   "source": [
    "otu = physeq_arch_IndD %>%\n",
    "    transform_sample_counts(function(x) x / sum(x) * 100) %>%\n",
    "    phyloseq2df(otu_table, long=TRUE) %>%\n",
    "    inner_join(phyloseq2df(physeq_arch_IndD, tax_table),\n",
    "               c('OTU')) %>%\n",
    "    group_by(Sample, Phylum, Class) %>%\n",
    "    summarize(Count = sum(Count), .groups='drop') %>%\n",
    "    ungroup()\n",
    "otu$Count %>% summary_x('% rel. abund.')\n",
    "otu"
   ]
  },
  {
   "cell_type": "code",
   "execution_count": 26,
   "metadata": {
    "ExecuteTime": {
     "end_time": "2020-10-08T07:15:19.198713Z",
     "start_time": "2020-10-08T07:15:18.606Z"
    }
   },
   "outputs": [
    {
     "name": "stdout",
     "output_type": "stream",
     "text": [
      "No. of unique items: 11 \n",
      "No. of unique items: 185 \n"
     ]
    }
   ],
   "source": [
    "otu$Class %>% unique_n\n",
    "otu$Sample %>% unique_n"
   ]
  },
  {
   "cell_type": "code",
   "execution_count": 39,
   "metadata": {
    "ExecuteTime": {
     "end_time": "2020-10-08T07:19:30.126014Z",
     "start_time": "2020-10-08T07:19:30.056Z"
    }
   },
   "outputs": [
    {
     "data": {
      "text/html": [
       "<table>\n",
       "<caption>A tibble: 185 × 12</caption>\n",
       "<thead>\n",
       "\t<tr><th scope=col>Sample</th><th scope=col>Asgardaeota;Odinarchaeia</th><th scope=col>Crenarchaeota;Bathyarchaeia</th><th scope=col>Diapherotrites;Iainarchaeia</th><th scope=col>Euryarchaeota;Halobacteria</th><th scope=col>Euryarchaeota;Methanobacteria</th><th scope=col>Euryarchaeota;Methanomicrobia</th><th scope=col>Euryarchaeota;Thermococci</th><th scope=col>Euryarchaeota;Thermoplasmata</th><th scope=col>Euryarchaeota;unclassified</th><th scope=col>Nanoarchaeaeota;Woesearchaeia</th><th scope=col>Thaumarchaeota;Nitrososphaeria</th></tr>\n",
       "\t<tr><th scope=col>&lt;chr&gt;</th><th scope=col>&lt;dbl&gt;</th><th scope=col>&lt;dbl&gt;</th><th scope=col>&lt;dbl&gt;</th><th scope=col>&lt;dbl&gt;</th><th scope=col>&lt;dbl&gt;</th><th scope=col>&lt;dbl&gt;</th><th scope=col>&lt;dbl&gt;</th><th scope=col>&lt;dbl&gt;</th><th scope=col>&lt;dbl&gt;</th><th scope=col>&lt;dbl&gt;</th><th scope=col>&lt;dbl&gt;</th></tr>\n",
       "</thead>\n",
       "<tbody>\n",
       "\t<tr><td>F14_Common_Bream   </td><td>0</td><td>0.4049754</td><td>0</td><td>0</td><td>75.58577</td><td>23.48857</td><td>0</td><td>0.462829</td><td>0</td><td>0.05785363</td><td> 0.00000</td></tr>\n",
       "\t<tr><td>F157a_European_Toad</td><td>0</td><td>0.0000000</td><td>0</td><td>0</td><td>78.35821</td><td> 0.00000</td><td>0</td><td>0.000000</td><td>0</td><td>0.00000000</td><td>21.64179</td></tr>\n",
       "\t<tr><td>⋮</td><td>⋮</td><td>⋮</td><td>⋮</td><td>⋮</td><td>⋮</td><td>⋮</td><td>⋮</td><td>⋮</td><td>⋮</td><td>⋮</td><td>⋮</td></tr>\n",
       "\t<tr><td>X95_Meadow_Viper </td><td>0</td><td>0</td><td>0</td><td>0</td><td>  0</td><td>3.497164</td><td>0</td><td>0.7561437</td><td>0</td><td>0</td><td>95.74669</td></tr>\n",
       "\t<tr><td>X96_European_Hare</td><td>0</td><td>0</td><td>0</td><td>0</td><td>100</td><td>0.000000</td><td>0</td><td>0.0000000</td><td>0</td><td>0</td><td> 0.00000</td></tr>\n",
       "</tbody>\n",
       "</table>\n"
      ],
      "text/latex": [
       "A tibble: 185 × 12\n",
       "\\begin{tabular}{llllllllllll}\n",
       " Sample & Asgardaeota;Odinarchaeia & Crenarchaeota;Bathyarchaeia & Diapherotrites;Iainarchaeia & Euryarchaeota;Halobacteria & Euryarchaeota;Methanobacteria & Euryarchaeota;Methanomicrobia & Euryarchaeota;Thermococci & Euryarchaeota;Thermoplasmata & Euryarchaeota;unclassified & Nanoarchaeaeota;Woesearchaeia & Thaumarchaeota;Nitrososphaeria\\\\\n",
       " <chr> & <dbl> & <dbl> & <dbl> & <dbl> & <dbl> & <dbl> & <dbl> & <dbl> & <dbl> & <dbl> & <dbl>\\\\\n",
       "\\hline\n",
       "\t F14\\_Common\\_Bream    & 0 & 0.4049754 & 0 & 0 & 75.58577 & 23.48857 & 0 & 0.462829 & 0 & 0.05785363 &  0.00000\\\\\n",
       "\t F157a\\_European\\_Toad & 0 & 0.0000000 & 0 & 0 & 78.35821 &  0.00000 & 0 & 0.000000 & 0 & 0.00000000 & 21.64179\\\\\n",
       "\t ⋮ & ⋮ & ⋮ & ⋮ & ⋮ & ⋮ & ⋮ & ⋮ & ⋮ & ⋮ & ⋮ & ⋮\\\\\n",
       "\t X95\\_Meadow\\_Viper  & 0 & 0 & 0 & 0 &   0 & 3.497164 & 0 & 0.7561437 & 0 & 0 & 95.74669\\\\\n",
       "\t X96\\_European\\_Hare & 0 & 0 & 0 & 0 & 100 & 0.000000 & 0 & 0.0000000 & 0 & 0 &  0.00000\\\\\n",
       "\\end{tabular}\n"
      ],
      "text/markdown": [
       "\n",
       "A tibble: 185 × 12\n",
       "\n",
       "| Sample &lt;chr&gt; | Asgardaeota;Odinarchaeia &lt;dbl&gt; | Crenarchaeota;Bathyarchaeia &lt;dbl&gt; | Diapherotrites;Iainarchaeia &lt;dbl&gt; | Euryarchaeota;Halobacteria &lt;dbl&gt; | Euryarchaeota;Methanobacteria &lt;dbl&gt; | Euryarchaeota;Methanomicrobia &lt;dbl&gt; | Euryarchaeota;Thermococci &lt;dbl&gt; | Euryarchaeota;Thermoplasmata &lt;dbl&gt; | Euryarchaeota;unclassified &lt;dbl&gt; | Nanoarchaeaeota;Woesearchaeia &lt;dbl&gt; | Thaumarchaeota;Nitrososphaeria &lt;dbl&gt; |\n",
       "|---|---|---|---|---|---|---|---|---|---|---|---|\n",
       "| F14_Common_Bream    | 0 | 0.4049754 | 0 | 0 | 75.58577 | 23.48857 | 0 | 0.462829 | 0 | 0.05785363 |  0.00000 |\n",
       "| F157a_European_Toad | 0 | 0.0000000 | 0 | 0 | 78.35821 |  0.00000 | 0 | 0.000000 | 0 | 0.00000000 | 21.64179 |\n",
       "| ⋮ | ⋮ | ⋮ | ⋮ | ⋮ | ⋮ | ⋮ | ⋮ | ⋮ | ⋮ | ⋮ | ⋮ |\n",
       "| X95_Meadow_Viper  | 0 | 0 | 0 | 0 |   0 | 3.497164 | 0 | 0.7561437 | 0 | 0 | 95.74669 |\n",
       "| X96_European_Hare | 0 | 0 | 0 | 0 | 100 | 0.000000 | 0 | 0.0000000 | 0 | 0 |  0.00000 |\n",
       "\n"
      ],
      "text/plain": [
       "    Sample              Asgardaeota;Odinarchaeia Crenarchaeota;Bathyarchaeia\n",
       "1   F14_Common_Bream    0                        0.4049754                  \n",
       "2   F157a_European_Toad 0                        0.0000000                  \n",
       "⋮   ⋮                   ⋮                        ⋮                          \n",
       "184 X95_Meadow_Viper    0                        0                          \n",
       "185 X96_European_Hare   0                        0                          \n",
       "    Diapherotrites;Iainarchaeia Euryarchaeota;Halobacteria\n",
       "1   0                           0                         \n",
       "2   0                           0                         \n",
       "⋮   ⋮                           ⋮                         \n",
       "184 0                           0                         \n",
       "185 0                           0                         \n",
       "    Euryarchaeota;Methanobacteria Euryarchaeota;Methanomicrobia\n",
       "1   75.58577                      23.48857                     \n",
       "2   78.35821                       0.00000                     \n",
       "⋮   ⋮                             ⋮                            \n",
       "184   0                           3.497164                     \n",
       "185 100                           0.000000                     \n",
       "    Euryarchaeota;Thermococci Euryarchaeota;Thermoplasmata\n",
       "1   0                         0.462829                    \n",
       "2   0                         0.000000                    \n",
       "⋮   ⋮                         ⋮                           \n",
       "184 0                         0.7561437                   \n",
       "185 0                         0.0000000                   \n",
       "    Euryarchaeota;unclassified Nanoarchaeaeota;Woesearchaeia\n",
       "1   0                          0.05785363                   \n",
       "2   0                          0.00000000                   \n",
       "⋮   ⋮                          ⋮                            \n",
       "184 0                          0                            \n",
       "185 0                          0                            \n",
       "    Thaumarchaeota;Nitrososphaeria\n",
       "1    0.00000                      \n",
       "2   21.64179                      \n",
       "⋮   ⋮                             \n",
       "184 95.74669                      \n",
       "185  0.00000                      "
      ]
     },
     "metadata": {},
     "output_type": "display_data"
    }
   ],
   "source": [
    "otu_s = otu %>%\n",
    "    unite(Taxonomy, Phylum, Class, sep=';') %>%\n",
    "    spread(Taxonomy, Count) %>%\n",
    "    arrange(Sample)\n",
    "otu_s"
   ]
  },
  {
   "cell_type": "markdown",
   "metadata": {
    "ExecuteTime": {
     "end_time": "2020-10-08T07:18:39.325420Z",
     "start_time": "2020-10-08T07:18:39.274Z"
    }
   },
   "source": [
    "### Writing table"
   ]
  },
  {
   "cell_type": "code",
   "execution_count": 40,
   "metadata": {
    "ExecuteTime": {
     "end_time": "2020-10-08T07:19:38.550529Z",
     "start_time": "2020-10-08T07:19:38.517Z"
    }
   },
   "outputs": [
    {
     "name": "stdout",
     "output_type": "stream",
     "text": [
      "File written: /ebio/abt3_projects/Georg_animal_feces/data/16S_arch/MiSeq-Runs-116-122-126-189-190/LLA/merged//IndD_Class-relAbund.tsv \n"
     ]
    }
   ],
   "source": [
    "outF = file.path(work_dir, 'IndD_Class-relAbund.tsv') \n",
    "otu_s %>%\n",
    "    write_table(outF)"
   ]
  },
  {
   "cell_type": "markdown",
   "metadata": {},
   "source": [
    "## General summary"
   ]
  },
  {
   "cell_type": "code",
   "execution_count": 26,
   "metadata": {
    "ExecuteTime": {
     "end_time": "2020-08-31T08:54:09.443076Z",
     "start_time": "2020-08-31T08:54:07.843Z"
    }
   },
   "outputs": [
    {
     "data": {
      "text/html": [
       "<table>\n",
       "<caption>A tibble: 349835 × 10</caption>\n",
       "<thead>\n",
       "\t<tr><th scope=col>OTU</th><th scope=col>Sample</th><th scope=col>Count</th><th scope=col>Domain</th><th scope=col>Phylum</th><th scope=col>Class</th><th scope=col>Order</th><th scope=col>Family</th><th scope=col>Genus</th><th scope=col>Species</th></tr>\n",
       "\t<tr><th scope=col>&lt;chr&gt;</th><th scope=col>&lt;chr&gt;</th><th scope=col>&lt;dbl&gt;</th><th scope=col>&lt;chr&gt;</th><th scope=col>&lt;chr&gt;</th><th scope=col>&lt;chr&gt;</th><th scope=col>&lt;chr&gt;</th><th scope=col>&lt;chr&gt;</th><th scope=col>&lt;chr&gt;</th><th scope=col>&lt;chr&gt;</th></tr>\n",
       "</thead>\n",
       "<tbody>\n",
       "\t<tr><td>0e97060fe4b9be17bddeedcd27826b04</td><td>F14_Common_Bream</td><td>0</td><td>Archaea</td><td>Euryarchaeota</td><td>Methanobacteria</td><td>Methanobacteriales</td><td>Methanobacteriaceae</td><td>Methanobrevibacter</td><td>unclassified</td></tr>\n",
       "\t<tr><td>a86c26bd7f16d93e38b101dbd2614a07</td><td>F14_Common_Bream</td><td>0</td><td>Archaea</td><td>Euryarchaeota</td><td>Methanobacteria</td><td>Methanobacteriales</td><td>Methanobacteriaceae</td><td>Methanobrevibacter</td><td>unclassified</td></tr>\n",
       "\t<tr><td>⋮</td><td>⋮</td><td>⋮</td><td>⋮</td><td>⋮</td><td>⋮</td><td>⋮</td><td>⋮</td><td>⋮</td><td>⋮</td></tr>\n",
       "\t<tr><td>9449f372c36cd2d8994d79b091425d42</td><td>X67_European_Roe</td><td>0</td><td>Archaea</td><td>Euryarchaeota</td><td>Methanobacteria</td><td>Methanobacteriales</td><td>Methanobacteriaceae</td><td>Methanobrevibacter</td><td>unclassified</td></tr>\n",
       "\t<tr><td>467eeae6997d3667b5d07a76bc1bcdfd</td><td>X67_European_Roe</td><td>0</td><td>Archaea</td><td>Euryarchaeota</td><td>Methanobacteria</td><td>Methanobacteriales</td><td>Methanobacteriaceae</td><td>Methanobrevibacter</td><td>unclassified</td></tr>\n",
       "</tbody>\n",
       "</table>\n"
      ],
      "text/latex": [
       "A tibble: 349835 × 10\n",
       "\\begin{tabular}{llllllllll}\n",
       " OTU & Sample & Count & Domain & Phylum & Class & Order & Family & Genus & Species\\\\\n",
       " <chr> & <chr> & <dbl> & <chr> & <chr> & <chr> & <chr> & <chr> & <chr> & <chr>\\\\\n",
       "\\hline\n",
       "\t 0e97060fe4b9be17bddeedcd27826b04 & F14\\_Common\\_Bream & 0 & Archaea & Euryarchaeota & Methanobacteria & Methanobacteriales & Methanobacteriaceae & Methanobrevibacter & unclassified\\\\\n",
       "\t a86c26bd7f16d93e38b101dbd2614a07 & F14\\_Common\\_Bream & 0 & Archaea & Euryarchaeota & Methanobacteria & Methanobacteriales & Methanobacteriaceae & Methanobrevibacter & unclassified\\\\\n",
       "\t ⋮ & ⋮ & ⋮ & ⋮ & ⋮ & ⋮ & ⋮ & ⋮ & ⋮ & ⋮\\\\\n",
       "\t 9449f372c36cd2d8994d79b091425d42 & X67\\_European\\_Roe & 0 & Archaea & Euryarchaeota & Methanobacteria & Methanobacteriales & Methanobacteriaceae & Methanobrevibacter & unclassified\\\\\n",
       "\t 467eeae6997d3667b5d07a76bc1bcdfd & X67\\_European\\_Roe & 0 & Archaea & Euryarchaeota & Methanobacteria & Methanobacteriales & Methanobacteriaceae & Methanobrevibacter & unclassified\\\\\n",
       "\\end{tabular}\n"
      ],
      "text/markdown": [
       "\n",
       "A tibble: 349835 × 10\n",
       "\n",
       "| OTU &lt;chr&gt; | Sample &lt;chr&gt; | Count &lt;dbl&gt; | Domain &lt;chr&gt; | Phylum &lt;chr&gt; | Class &lt;chr&gt; | Order &lt;chr&gt; | Family &lt;chr&gt; | Genus &lt;chr&gt; | Species &lt;chr&gt; |\n",
       "|---|---|---|---|---|---|---|---|---|---|\n",
       "| 0e97060fe4b9be17bddeedcd27826b04 | F14_Common_Bream | 0 | Archaea | Euryarchaeota | Methanobacteria | Methanobacteriales | Methanobacteriaceae | Methanobrevibacter | unclassified |\n",
       "| a86c26bd7f16d93e38b101dbd2614a07 | F14_Common_Bream | 0 | Archaea | Euryarchaeota | Methanobacteria | Methanobacteriales | Methanobacteriaceae | Methanobrevibacter | unclassified |\n",
       "| ⋮ | ⋮ | ⋮ | ⋮ | ⋮ | ⋮ | ⋮ | ⋮ | ⋮ | ⋮ |\n",
       "| 9449f372c36cd2d8994d79b091425d42 | X67_European_Roe | 0 | Archaea | Euryarchaeota | Methanobacteria | Methanobacteriales | Methanobacteriaceae | Methanobrevibacter | unclassified |\n",
       "| 467eeae6997d3667b5d07a76bc1bcdfd | X67_European_Roe | 0 | Archaea | Euryarchaeota | Methanobacteria | Methanobacteriales | Methanobacteriaceae | Methanobrevibacter | unclassified |\n",
       "\n"
      ],
      "text/plain": [
       "       OTU                              Sample           Count Domain \n",
       "1      0e97060fe4b9be17bddeedcd27826b04 F14_Common_Bream 0     Archaea\n",
       "2      a86c26bd7f16d93e38b101dbd2614a07 F14_Common_Bream 0     Archaea\n",
       "⋮      ⋮                                ⋮                ⋮     ⋮      \n",
       "349834 9449f372c36cd2d8994d79b091425d42 X67_European_Roe 0     Archaea\n",
       "349835 467eeae6997d3667b5d07a76bc1bcdfd X67_European_Roe 0     Archaea\n",
       "       Phylum        Class           Order              Family             \n",
       "1      Euryarchaeota Methanobacteria Methanobacteriales Methanobacteriaceae\n",
       "2      Euryarchaeota Methanobacteria Methanobacteriales Methanobacteriaceae\n",
       "⋮      ⋮             ⋮               ⋮                  ⋮                  \n",
       "349834 Euryarchaeota Methanobacteria Methanobacteriales Methanobacteriaceae\n",
       "349835 Euryarchaeota Methanobacteria Methanobacteriales Methanobacteriaceae\n",
       "       Genus              Species     \n",
       "1      Methanobrevibacter unclassified\n",
       "2      Methanobrevibacter unclassified\n",
       "⋮      ⋮                  ⋮           \n",
       "349834 Methanobrevibacter unclassified\n",
       "349835 Methanobrevibacter unclassified"
      ]
     },
     "metadata": {},
     "output_type": "display_data"
    }
   ],
   "source": [
    "otu = physeq_arch_IndD %>%\n",
    "    phyloseq2df(otu_table, long=TRUE) %>%\n",
    "    inner_join(phyloseq2df(physeq_arch_IndD, tax_table),\n",
    "               c('OTU'))\n",
    "otu"
   ]
  },
  {
   "cell_type": "code",
   "execution_count": 30,
   "metadata": {
    "ExecuteTime": {
     "end_time": "2020-08-31T08:54:48.617782Z",
     "start_time": "2020-08-31T08:54:48.561Z"
    }
   },
   "outputs": [
    {
     "data": {
      "text/html": [
       "<table>\n",
       "<caption>A tibble: 2 × 10</caption>\n",
       "<thead>\n",
       "\t<tr><th scope=col>OTU</th><th scope=col>Sample</th><th scope=col>Count</th><th scope=col>Domain</th><th scope=col>Phylum</th><th scope=col>Class</th><th scope=col>Order</th><th scope=col>Family</th><th scope=col>Genus</th><th scope=col>Species</th></tr>\n",
       "\t<tr><th scope=col>&lt;chr&gt;</th><th scope=col>&lt;chr&gt;</th><th scope=col>&lt;dbl&gt;</th><th scope=col>&lt;chr&gt;</th><th scope=col>&lt;chr&gt;</th><th scope=col>&lt;chr&gt;</th><th scope=col>&lt;chr&gt;</th><th scope=col>&lt;chr&gt;</th><th scope=col>&lt;chr&gt;</th><th scope=col>&lt;chr&gt;</th></tr>\n",
       "</thead>\n",
       "<tbody>\n",
       "\t<tr><td>e54e6f3a600245221e7b9dc948c2910a</td><td>X125_Common_Carp </td><td> 5</td><td>Archaea</td><td>Euryarchaeota</td><td>Thermococci</td><td>Methanofastidiosales</td><td>uncultured           </td><td>uncultured bacterium         </td><td>uncultured bacterium                 </td></tr>\n",
       "\t<tr><td>cd161a55fa07f62886e28ad1665f4153</td><td>X7_European_Otter</td><td>10</td><td>Archaea</td><td>Euryarchaeota</td><td>Thermococci</td><td>Methanofastidiosales</td><td>Methanofastidiosaceae</td><td>Candidatus Methanofastidiosum</td><td>Arc I group archaeon U1lsi0528_Bin055</td></tr>\n",
       "</tbody>\n",
       "</table>\n"
      ],
      "text/latex": [
       "A tibble: 2 × 10\n",
       "\\begin{tabular}{llllllllll}\n",
       " OTU & Sample & Count & Domain & Phylum & Class & Order & Family & Genus & Species\\\\\n",
       " <chr> & <chr> & <dbl> & <chr> & <chr> & <chr> & <chr> & <chr> & <chr> & <chr>\\\\\n",
       "\\hline\n",
       "\t e54e6f3a600245221e7b9dc948c2910a & X125\\_Common\\_Carp  &  5 & Archaea & Euryarchaeota & Thermococci & Methanofastidiosales & uncultured            & uncultured bacterium          & uncultured bacterium                 \\\\\n",
       "\t cd161a55fa07f62886e28ad1665f4153 & X7\\_European\\_Otter & 10 & Archaea & Euryarchaeota & Thermococci & Methanofastidiosales & Methanofastidiosaceae & Candidatus Methanofastidiosum & Arc I group archaeon U1lsi0528\\_Bin055\\\\\n",
       "\\end{tabular}\n"
      ],
      "text/markdown": [
       "\n",
       "A tibble: 2 × 10\n",
       "\n",
       "| OTU &lt;chr&gt; | Sample &lt;chr&gt; | Count &lt;dbl&gt; | Domain &lt;chr&gt; | Phylum &lt;chr&gt; | Class &lt;chr&gt; | Order &lt;chr&gt; | Family &lt;chr&gt; | Genus &lt;chr&gt; | Species &lt;chr&gt; |\n",
       "|---|---|---|---|---|---|---|---|---|---|\n",
       "| e54e6f3a600245221e7b9dc948c2910a | X125_Common_Carp  |  5 | Archaea | Euryarchaeota | Thermococci | Methanofastidiosales | uncultured            | uncultured bacterium          | uncultured bacterium                  |\n",
       "| cd161a55fa07f62886e28ad1665f4153 | X7_European_Otter | 10 | Archaea | Euryarchaeota | Thermococci | Methanofastidiosales | Methanofastidiosaceae | Candidatus Methanofastidiosum | Arc I group archaeon U1lsi0528_Bin055 |\n",
       "\n"
      ],
      "text/plain": [
       "  OTU                              Sample            Count Domain \n",
       "1 e54e6f3a600245221e7b9dc948c2910a X125_Common_Carp   5    Archaea\n",
       "2 cd161a55fa07f62886e28ad1665f4153 X7_European_Otter 10    Archaea\n",
       "  Phylum        Class       Order                Family               \n",
       "1 Euryarchaeota Thermococci Methanofastidiosales uncultured           \n",
       "2 Euryarchaeota Thermococci Methanofastidiosales Methanofastidiosaceae\n",
       "  Genus                         Species                              \n",
       "1 uncultured bacterium          uncultured bacterium                 \n",
       "2 Candidatus Methanofastidiosum Arc I group archaeon U1lsi0528_Bin055"
      ]
     },
     "metadata": {},
     "output_type": "display_data"
    }
   ],
   "source": [
    "df.dims(20)\n",
    "otu %>%\n",
    "    filter(Count > 0) %>%\n",
    "    filter(Class == 'Thermococci')\n",
    "df.dims()"
   ]
  },
  {
   "cell_type": "code",
   "execution_count": 39,
   "metadata": {
    "ExecuteTime": {
     "end_time": "2020-08-31T18:15:58.854042Z",
     "start_time": "2020-08-31T18:16:00.256Z"
    }
   },
   "outputs": [
    {
     "data": {
      "text/plain": [
       ".\n",
       "               X23_Garden_Dormouse                   X121_Raccoon_Dog \n",
       "                                15                                 14 \n",
       "                          X13_Wolf           X172_European_Greenfinch \n",
       "                                13                                 13 \n",
       "                       X31_Chicken                      X352_Kinkajou \n",
       "                                13                                 13 \n",
       "                 X60_European_Chub                X116_Common_Kestrel \n",
       "                                13                                 12 \n",
       "           X158_White_tailed_Eagle         X266_Western_Marsh_Harrier \n",
       "                                12                                 12 \n",
       "                 X32_Greylag_Goose                    X33_Wild_Turkey \n",
       "                                12                                 12 \n",
       "                  X34_Mallard_Duck                 X384_Eurasian_Lynx \n",
       "                                12                                 12 \n",
       "                     X426_Ural_Owl      X427_Great_Spotted_Woodpecker \n",
       "                                12                                 12 \n",
       "                 X7_European_Otter                   X85_Domestic_Dog \n",
       "                                12                                 12 \n",
       "                        X11_Onager                      X119_Ural_Owl \n",
       "                                11                                 11 \n",
       "                   X154_Tree_Shrew                    X157_Grey_Heron \n",
       "                                11                                 11 \n",
       "                X164_Greylag_Goose                  X230_Carrion_Crow \n",
       "                                11                                 11 \n",
       "                 X234_Beech_Marten              X236_Pygmy_Slow_Loris \n",
       "                                11                                 11 \n",
       "          X241_Italian_wall_lizard                     X259_Mute_Swan \n",
       "                                11                                 11 \n",
       "        X265_Western_Marsh_Harrier                      X93_Red_Sheep \n",
       "                                11                                 11 \n",
       "               X117_Long_eared_Owl                   X16_Fat_Dormouse \n",
       "                                10                                 10 \n",
       "                    X170_Tawny_Owl                     X260_Blackbird \n",
       "                                10                                 10 \n",
       "                 X326_Silver_Bream          X339_White_beaked_Dolphin \n",
       "                                10                                 10 \n",
       "                          X41_Pika               X42_Goitered_Gazelle \n",
       "                                10                                 10 \n",
       "                      X109_Red_Fox                      X15_Tawny_Owl \n",
       "                                 9                                  9 \n",
       "                    X153_Bank_Vole                    X194_Agile_Frog \n",
       "                                 9                                  9 \n",
       "                X252_Eurasian_Lynx        X292_Central_Bearded_Dragon \n",
       "                                 9                                  9 \n",
       "         X338_White_beaked_Dolphin                       X353_Raccoon \n",
       "                                 9                                  9 \n",
       "             X288_Common_Brushtail          X404_Brown_Greater_Galago \n",
       "                                 8                                  8 \n",
       "               X247_Common_Hamster                 X40_Bactrian_Camel \n",
       "                                 7                                  7 \n",
       "           X141_Red_cheeked_Gibbon                X22_European_Rabbit \n",
       "                                 6                                  6 \n",
       "X363_Desmarests_Spiny_Pocket_Mouse                   X382_Arctic_Wolf \n",
       "                                 6                                  6 \n",
       "                  F90_Domestic_Dog             X233_Aesculapian_Snake \n",
       "                                 5                                  5 \n",
       "                  X349_Smooth_Newt                   X350_Smooth_Newt \n",
       "                                 5                                  5 \n",
       "                  X125_Common_Carp                        X139_Sambar \n",
       "                                 4                                  4 \n",
       "X240_Southern_White_cheeked_Gibbon      X391_European_Ground_Squirrel \n",
       "                                 4                                  4 \n",
       "                     F66_Wild_Boar                         X213_Goose \n",
       "                                 3                                  3 \n",
       "                        X214_Goose                 X328_Prussian_Carp \n",
       "                                 3                                  3 \n",
       "                    X381_Wild_Boar            X396_Morelets_crocodile \n",
       "                                 3                                  3 \n",
       "          X421_Common_Hippopotamus                       F68_Red_Deer \n",
       "                                 3                                  2 \n",
       "                        X135_Horse                         X218_Goose \n",
       "                                 2                                  2 \n",
       "                        X219_Goose               X270_Common_Pheasant \n",
       "                                 2                                  2 \n",
       "              X271_Common_Pheasant          X286_Short_beaked_Echidna \n",
       "                                 2                                  2 \n",
       "        X290_Eastern_Grey_Kangaroo                  X327_Silver_Bream \n",
       "                                 2                                  2 \n",
       "                    X333_Gray_Seal                     X336_Sei_Whale \n",
       "                                 2                                  2 \n",
       "            X356_Northern_Tamandua                           X372_Emu \n",
       "                                 2                                  2 \n",
       "                    X380_Wild_Boar      X390_European_Ground_Squirrel \n",
       "                                 2                                  2 \n",
       "             X394_Przewalski_horse                       X411_Leopard \n",
       "                                 2                                  2 \n",
       "                      X417_Giraffe         X428_African_Bush_Elephant \n",
       "                                 2                                  2 \n",
       "                      X429_Giraffe                      X94_Mangalica \n",
       "                                 2                                  2 \n",
       "                 X96_European_Hare                        F53_Mouflon \n",
       "                                 2                                  1 \n",
       "                      F69_Red_Deer                       F70_Red_Deer \n",
       "                                 1                                  1 \n",
       "                      F80_Red_Deer                          X138_Gaur \n",
       "                                 1                                  1 \n",
       "                       X146_Cattle                     X174_Great_Tit \n",
       "                                 1                                  1 \n",
       "                        X179_Roach                      X203_Red_Deer \n",
       "                                 1                                  1 \n",
       "                        X212_Goose                         X215_Goose \n",
       "                                 1                                  1 \n",
       "               X238_Hanuman_Langur                         X283_Koala \n",
       "                                 1                                  1 \n",
       "         X285_Short_beaked_Echidna                 X305_European_Hare \n",
       "                                 1                                  1 \n",
       "                          X330_Ide       X340_Western_Lowland_Gorilla \n",
       "                                 1                                  1 \n",
       "            X360_White_tailed_Deer      X368_European_Ground_Squirrel \n",
       "                                 1                                  1 \n",
       "                        X369_Koala         X370_African_Bush_Elephant \n",
       "                                 1                                  1 \n",
       "                 X378_Fat_Sand_Rat         X408_African_Bush_Elephant \n",
       "                                 1                                  1 \n",
       "                       X409_Impala                        X410_Impala \n",
       "                                 1                                  1 \n",
       "                X414_Vervet_Monkey                        X423_Quagga \n",
       "                                 1                                  1 \n",
       "                X432_Vervet_Monkey                X88_European_Rabbit \n",
       "                                 1                                  1 "
      ]
     },
     "metadata": {},
     "output_type": "display_data"
    }
   ],
   "source": [
    "df.dims(20)\n",
    "otu %>%\n",
    "    filter(Count > 0) %>%\n",
    "    filter(Genus == 'Methanothermobacter') %>%\n",
    "    distinct(OTU, Sample) %>%\n",
    "    .$Sample %>% table %>% sort(decreasing=TRUE)\n",
    "df.dims()"
   ]
  },
  {
   "cell_type": "code",
   "execution_count": 47,
   "metadata": {
    "ExecuteTime": {
     "end_time": "2020-08-31T18:25:34.733061Z",
     "start_time": "2020-08-31T18:25:34.668Z"
    }
   },
   "outputs": [
    {
     "data": {
      "text/html": [
       "<table>\n",
       "<caption>A matrix: 1 × 8 of type dbl</caption>\n",
       "<thead>\n",
       "\t<tr><th></th><th scope=col>Min.</th><th scope=col>1st Qu.</th><th scope=col>Median</th><th scope=col>Mean</th><th scope=col>3rd Qu.</th><th scope=col>Max.</th><th scope=col>sd</th><th scope=col>sd_err_of_mean</th></tr>\n",
       "</thead>\n",
       "<tbody>\n",
       "\t<tr><th scope=row>.</th><td>1</td><td>1</td><td>1</td><td>17.79487</td><td>38</td><td>78</td><td>30.753</td><td>12.555</td></tr>\n",
       "</tbody>\n",
       "</table>\n"
      ],
      "text/latex": [
       "A matrix: 1 × 8 of type dbl\n",
       "\\begin{tabular}{r|llllllll}\n",
       "  & Min. & 1st Qu. & Median & Mean & 3rd Qu. & Max. & sd & sd\\_err\\_of\\_mean\\\\\n",
       "\\hline\n",
       "\t. & 1 & 1 & 1 & 17.79487 & 38 & 78 & 30.753 & 12.555\\\\\n",
       "\\end{tabular}\n"
      ],
      "text/markdown": [
       "\n",
       "A matrix: 1 × 8 of type dbl\n",
       "\n",
       "| <!--/--> | Min. | 1st Qu. | Median | Mean | 3rd Qu. | Max. | sd | sd_err_of_mean |\n",
       "|---|---|---|---|---|---|---|---|---|\n",
       "| . | 1 | 1 | 1 | 17.79487 | 38 | 78 | 30.753 | 12.555 |\n",
       "\n"
      ],
      "text/plain": [
       "  Min. 1st Qu. Median Mean     3rd Qu. Max. sd     sd_err_of_mean\n",
       ". 1    1       1      17.79487 38      78   30.753 12.555        "
      ]
     },
     "metadata": {},
     "output_type": "display_data"
    }
   ],
   "source": [
    "df.dims(20)\n",
    "otu %>%\n",
    "    filter(Count > 0) %>%\n",
    "    filter(Genus == 'Methanothermobacter') %>%\n",
    "    .$OTU %>% table %>% sort(decreasing=TRUE) %>%\n",
    "    as.numeric %>% summary_x"
   ]
  },
  {
   "cell_type": "code",
   "execution_count": 48,
   "metadata": {
    "ExecuteTime": {
     "end_time": "2020-08-31T19:02:08.584857Z",
     "start_time": "2020-08-31T19:02:08.520Z"
    }
   },
   "outputs": [
    {
     "data": {
      "text/plain": [
       ".\n",
       "               X23_Garden_Dormouse                   X121_Raccoon_Dog \n",
       "                                15                                 14 \n",
       "                          X13_Wolf           X172_European_Greenfinch \n",
       "                                13                                 13 \n",
       "                       X31_Chicken                      X352_Kinkajou \n",
       "                                13                                 13 \n",
       "                 X60_European_Chub                X116_Common_Kestrel \n",
       "                                13                                 12 \n",
       "           X158_White_tailed_Eagle         X266_Western_Marsh_Harrier \n",
       "                                12                                 12 \n",
       "                 X32_Greylag_Goose                    X33_Wild_Turkey \n",
       "                                12                                 12 \n",
       "                  X34_Mallard_Duck                 X384_Eurasian_Lynx \n",
       "                                12                                 12 \n",
       "                     X426_Ural_Owl      X427_Great_Spotted_Woodpecker \n",
       "                                12                                 12 \n",
       "                 X7_European_Otter                   X85_Domestic_Dog \n",
       "                                12                                 12 \n",
       "                        X11_Onager                      X119_Ural_Owl \n",
       "                                11                                 11 \n",
       "                   X154_Tree_Shrew                    X157_Grey_Heron \n",
       "                                11                                 11 \n",
       "                X164_Greylag_Goose                  X230_Carrion_Crow \n",
       "                                11                                 11 \n",
       "                 X234_Beech_Marten              X236_Pygmy_Slow_Loris \n",
       "                                11                                 11 \n",
       "          X241_Italian_wall_lizard                     X259_Mute_Swan \n",
       "                                11                                 11 \n",
       "        X265_Western_Marsh_Harrier                      X93_Red_Sheep \n",
       "                                11                                 11 \n",
       "               X117_Long_eared_Owl                   X16_Fat_Dormouse \n",
       "                                10                                 10 \n",
       "                    X170_Tawny_Owl                     X260_Blackbird \n",
       "                                10                                 10 \n",
       "                 X326_Silver_Bream          X339_White_beaked_Dolphin \n",
       "                                10                                 10 \n",
       "                          X41_Pika               X42_Goitered_Gazelle \n",
       "                                10                                 10 \n",
       "                      X109_Red_Fox                      X15_Tawny_Owl \n",
       "                                 9                                  9 \n",
       "                    X153_Bank_Vole                    X194_Agile_Frog \n",
       "                                 9                                  9 \n",
       "                X252_Eurasian_Lynx        X292_Central_Bearded_Dragon \n",
       "                                 9                                  9 \n",
       "         X338_White_beaked_Dolphin                       X353_Raccoon \n",
       "                                 9                                  9 \n",
       "             X288_Common_Brushtail          X404_Brown_Greater_Galago \n",
       "                                 8                                  8 \n",
       "               X247_Common_Hamster                 X40_Bactrian_Camel \n",
       "                                 7                                  7 \n",
       "           X141_Red_cheeked_Gibbon                X22_European_Rabbit \n",
       "                                 6                                  6 \n",
       "X363_Desmarests_Spiny_Pocket_Mouse                   X382_Arctic_Wolf \n",
       "                                 6                                  6 \n",
       "                  F90_Domestic_Dog             X233_Aesculapian_Snake \n",
       "                                 5                                  5 \n",
       "                  X349_Smooth_Newt                   X350_Smooth_Newt \n",
       "                                 5                                  5 \n",
       "                  X125_Common_Carp                        X139_Sambar \n",
       "                                 4                                  4 \n",
       "X240_Southern_White_cheeked_Gibbon      X391_European_Ground_Squirrel \n",
       "                                 4                                  4 \n",
       "                     F66_Wild_Boar                         X213_Goose \n",
       "                                 3                                  3 \n",
       "                        X214_Goose                 X328_Prussian_Carp \n",
       "                                 3                                  3 \n",
       "                    X381_Wild_Boar            X396_Morelets_crocodile \n",
       "                                 3                                  3 \n",
       "          X421_Common_Hippopotamus                       F68_Red_Deer \n",
       "                                 3                                  2 \n",
       "                        X135_Horse                         X218_Goose \n",
       "                                 2                                  2 \n",
       "                        X219_Goose               X270_Common_Pheasant \n",
       "                                 2                                  2 \n",
       "              X271_Common_Pheasant          X286_Short_beaked_Echidna \n",
       "                                 2                                  2 \n",
       "        X290_Eastern_Grey_Kangaroo                  X327_Silver_Bream \n",
       "                                 2                                  2 \n",
       "                    X333_Gray_Seal                     X336_Sei_Whale \n",
       "                                 2                                  2 \n",
       "            X356_Northern_Tamandua                           X372_Emu \n",
       "                                 2                                  2 \n",
       "                    X380_Wild_Boar      X390_European_Ground_Squirrel \n",
       "                                 2                                  2 \n",
       "             X394_Przewalski_horse                       X411_Leopard \n",
       "                                 2                                  2 \n",
       "                      X417_Giraffe         X428_African_Bush_Elephant \n",
       "                                 2                                  2 \n",
       "                      X429_Giraffe                      X94_Mangalica \n",
       "                                 2                                  2 \n",
       "                 X96_European_Hare                        F53_Mouflon \n",
       "                                 2                                  1 \n",
       "                      F69_Red_Deer                       F70_Red_Deer \n",
       "                                 1                                  1 \n",
       "                      F80_Red_Deer                          X138_Gaur \n",
       "                                 1                                  1 \n",
       "                       X146_Cattle                     X174_Great_Tit \n",
       "                                 1                                  1 \n",
       "                        X179_Roach                      X203_Red_Deer \n",
       "                                 1                                  1 \n",
       "                        X212_Goose                         X215_Goose \n",
       "                                 1                                  1 \n",
       "               X238_Hanuman_Langur                         X283_Koala \n",
       "                                 1                                  1 \n",
       "         X285_Short_beaked_Echidna                 X305_European_Hare \n",
       "                                 1                                  1 \n",
       "                          X330_Ide       X340_Western_Lowland_Gorilla \n",
       "                                 1                                  1 \n",
       "            X360_White_tailed_Deer      X368_European_Ground_Squirrel \n",
       "                                 1                                  1 \n",
       "                        X369_Koala         X370_African_Bush_Elephant \n",
       "                                 1                                  1 \n",
       "                 X378_Fat_Sand_Rat         X408_African_Bush_Elephant \n",
       "                                 1                                  1 \n",
       "                       X409_Impala                        X410_Impala \n",
       "                                 1                                  1 \n",
       "                X414_Vervet_Monkey                        X423_Quagga \n",
       "                                 1                                  1 \n",
       "                X432_Vervet_Monkey                X88_European_Rabbit \n",
       "                                 1                                  1 "
      ]
     },
     "metadata": {},
     "output_type": "display_data"
    }
   ],
   "source": [
    "df.dims(20)\n",
    "otu %>%\n",
    "    filter(Count > 0) %>%\n",
    "    filter(Genus == 'Methanothermobacter') %>%\n",
    "    .$Sample %>% table %>% sort(decreasing=TRUE) "
   ]
  },
  {
   "cell_type": "markdown",
   "metadata": {},
   "source": [
    "# sessionInfo"
   ]
  },
  {
   "cell_type": "code",
   "execution_count": 15,
   "metadata": {
    "ExecuteTime": {
     "end_time": "2020-08-31T07:22:35.995382Z",
     "start_time": "2020-08-31T07:22:35.624Z"
    }
   },
   "outputs": [
    {
     "data": {
      "text/plain": [
       "R version 3.6.3 (2020-02-29)\n",
       "Platform: x86_64-conda_cos6-linux-gnu (64-bit)\n",
       "Running under: Ubuntu 18.04.5 LTS\n",
       "\n",
       "Matrix products: default\n",
       "BLAS/LAPACK: /ebio/abt3_projects/Georg_animal_feces/envs/phyloseq/lib/libopenblasp-r0.3.9.so\n",
       "\n",
       "locale:\n",
       " [1] LC_CTYPE=en_US.UTF-8       LC_NUMERIC=C              \n",
       " [3] LC_TIME=en_US.UTF-8        LC_COLLATE=en_US.UTF-8    \n",
       " [5] LC_MONETARY=en_US.UTF-8    LC_MESSAGES=en_US.UTF-8   \n",
       " [7] LC_PAPER=en_US.UTF-8       LC_NAME=C                 \n",
       " [9] LC_ADDRESS=C               LC_TELEPHONE=C            \n",
       "[11] LC_MEASUREMENT=en_US.UTF-8 LC_IDENTIFICATION=C       \n",
       "\n",
       "attached base packages:\n",
       "[1] stats     graphics  grDevices utils     datasets  methods   base     \n",
       "\n",
       "other attached packages:\n",
       "[1] LeyLabRMisc_0.1.6 ape_5.4           phyloseq_1.30.0   ggplot2_3.3.1    \n",
       "[5] tidyr_1.1.0       dplyr_1.0.0      \n",
       "\n",
       "loaded via a namespace (and not attached):\n",
       " [1] Rcpp_1.0.4.6        lattice_0.20-41     Biostrings_2.54.0  \n",
       " [4] digest_0.6.25       foreach_1.5.0       IRdisplay_0.7.0    \n",
       " [7] R6_2.4.1            plyr_1.8.6          repr_1.1.0         \n",
       "[10] stats4_3.6.3        evaluate_0.14       pillar_1.4.4       \n",
       "[13] zlibbioc_1.32.0     rlang_0.4.6         uuid_0.1-4         \n",
       "[16] data.table_1.12.8   vegan_2.5-6         S4Vectors_0.24.0   \n",
       "[19] Matrix_1.2-18       splines_3.6.3       stringr_1.4.0      \n",
       "[22] igraph_1.2.5        munsell_0.5.0       compiler_3.6.3     \n",
       "[25] pkgconfig_2.0.3     BiocGenerics_0.32.0 base64enc_0.1-3    \n",
       "[28] multtest_2.42.0     mgcv_1.8-31         htmltools_0.4.0    \n",
       "[31] biomformat_1.14.0   tidyselect_1.1.0    tibble_3.0.1       \n",
       "[34] IRanges_2.20.0      codetools_0.2-16    permute_0.9-5      \n",
       "[37] crayon_1.3.4        withr_2.2.0         MASS_7.3-51.6      \n",
       "[40] grid_3.6.3          nlme_3.1-148        jsonlite_1.6.1     \n",
       "[43] gtable_0.3.0        lifecycle_0.2.0     magrittr_1.5       \n",
       "[46] scales_1.1.1        stringi_1.4.6       XVector_0.26.0     \n",
       "[49] reshape2_1.4.4      ellipsis_0.3.1      generics_0.0.2     \n",
       "[52] vctrs_0.3.0         IRkernel_1.1        Rhdf5lib_1.8.0     \n",
       "[55] iterators_1.0.12    tools_3.6.3         ade4_1.7-15        \n",
       "[58] Biobase_2.46.0      glue_1.4.1          purrr_0.3.4        \n",
       "[61] parallel_3.6.3      survival_3.1-12     colorspace_1.4-1   \n",
       "[64] rhdf5_2.30.0        cluster_2.1.0       pbdZMQ_0.3-3       "
      ]
     },
     "metadata": {},
     "output_type": "display_data"
    }
   ],
   "source": [
    "sessionInfo()"
   ]
  }
 ],
 "metadata": {
  "kernelspec": {
   "display_name": "R [conda env:Georg_animal_feces-phyloseq]",
   "language": "R",
   "name": "conda-env-Georg_animal_feces-phyloseq-r"
  },
  "language_info": {
   "codemirror_mode": "r",
   "file_extension": ".r",
   "mimetype": "text/x-r-source",
   "name": "R",
   "pygments_lexer": "r",
   "version": "3.6.3"
  },
  "notify_time": "30",
  "toc": {
   "base_numbering": 1,
   "nav_menu": {},
   "number_sections": true,
   "sideBar": true,
   "skip_h1_title": false,
   "title_cell": "Table of Contents",
   "title_sidebar": "Contents",
   "toc_cell": true,
   "toc_position": {},
   "toc_section_display": true,
   "toc_window_display": true
  }
 },
 "nbformat": 4,
 "nbformat_minor": 4
}
