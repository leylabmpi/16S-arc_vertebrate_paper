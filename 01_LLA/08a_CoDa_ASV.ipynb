{
 "cells": [
  {
   "cell_type": "markdown",
   "metadata": {
    "toc": true
   },
   "source": [
    "<h1>Table of Contents<span class=\"tocSkip\"></span></h1>\n",
    "<div class=\"toc\"><ul class=\"toc-item\"><li><span><a href=\"#Goal\" data-toc-modified-id=\"Goal-1\"><span class=\"toc-item-num\">1&nbsp;&nbsp;</span>Goal</a></span></li><li><span><a href=\"#Var\" data-toc-modified-id=\"Var-2\"><span class=\"toc-item-num\">2&nbsp;&nbsp;</span>Var</a></span></li><li><span><a href=\"#Init\" data-toc-modified-id=\"Init-3\"><span class=\"toc-item-num\">3&nbsp;&nbsp;</span>Init</a></span></li><li><span><a href=\"#Load\" data-toc-modified-id=\"Load-4\"><span class=\"toc-item-num\">4&nbsp;&nbsp;</span>Load</a></span></li><li><span><a href=\"#SpecD\" data-toc-modified-id=\"SpecD-5\"><span class=\"toc-item-num\">5&nbsp;&nbsp;</span>SpecD</a></span><ul class=\"toc-item\"><li><span><a href=\"#Filter-by-sparsity\" data-toc-modified-id=\"Filter-by-sparsity-5.1\"><span class=\"toc-item-num\">5.1&nbsp;&nbsp;</span>Filter by sparsity</a></span></li><li><span><a href=\"#Zero-estimation\" data-toc-modified-id=\"Zero-estimation-5.2\"><span class=\"toc-item-num\">5.2&nbsp;&nbsp;</span>Zero estimation</a></span></li><li><span><a href=\"#clr-transformation\" data-toc-modified-id=\"clr-transformation-5.3\"><span class=\"toc-item-num\">5.3&nbsp;&nbsp;</span>clr transformation</a></span></li><li><span><a href=\"#New-phyloseq-obj.\" data-toc-modified-id=\"New-phyloseq-obj.-5.4\"><span class=\"toc-item-num\">5.4&nbsp;&nbsp;</span>New phyloseq obj.</a></span></li></ul></li><li><span><a href=\"#IndD\" data-toc-modified-id=\"IndD-6\"><span class=\"toc-item-num\">6&nbsp;&nbsp;</span>IndD</a></span><ul class=\"toc-item\"><li><span><a href=\"#Filter-by-sparsity\" data-toc-modified-id=\"Filter-by-sparsity-6.1\"><span class=\"toc-item-num\">6.1&nbsp;&nbsp;</span>Filter by sparsity</a></span></li><li><span><a href=\"#Zero-estimation\" data-toc-modified-id=\"Zero-estimation-6.2\"><span class=\"toc-item-num\">6.2&nbsp;&nbsp;</span>Zero estimation</a></span></li><li><span><a href=\"#clr-transformation\" data-toc-modified-id=\"clr-transformation-6.3\"><span class=\"toc-item-num\">6.3&nbsp;&nbsp;</span>clr transformation</a></span></li><li><span><a href=\"#New-phyloseq-obj\" data-toc-modified-id=\"New-phyloseq-obj-6.4\"><span class=\"toc-item-num\">6.4&nbsp;&nbsp;</span>New phyloseq obj</a></span></li></ul></li><li><span><a href=\"#sessionInfo\" data-toc-modified-id=\"sessionInfo-7\"><span class=\"toc-item-num\">7&nbsp;&nbsp;</span>sessionInfo</a></span></li></ul></div>"
   ]
  },
  {
   "cell_type": "markdown",
   "metadata": {},
   "source": [
    "# Goal\n",
    "\n",
    "* Create coda-transformed dataset\n",
    "  * accounting for compositional data\n",
    "* Method\n",
    "  * impute zeros with zCompositions\n",
    "  * perform clr transformation on counts\n",
    "    * `compositions::clr`"
   ]
  },
  {
   "cell_type": "markdown",
   "metadata": {},
   "source": [
    "# Var"
   ]
  },
  {
   "cell_type": "code",
   "execution_count": 1,
   "metadata": {
    "ExecuteTime": {
     "end_time": "2020-06-18T11:51:40.316623Z",
     "start_time": "2020-06-18T11:51:40.253Z"
    }
   },
   "outputs": [],
   "source": [
    "work_dir = '/ebio/abt3_projects/Georg_animal_feces/data/16S_arch/MiSeq-Runs-116-122-126-189-190/LLA/merged/'\n",
    "\n",
    "# microbiome\n",
    "## 16S-arch phyloseq object (one sample per species)\n",
    "physeq_arch_SpecD_file = '/ebio/abt3_projects/Georg_animal_feces/data/16S_arch/MiSeq-Runs-116-122-126-189-190/LLA/merged/phyloseq/physeq_arch_SpecD.RDS'\n",
    "## 16S-arch phyloseq object (one sample per individual)\n",
    "physeq_arch_IndD_file = '/ebio/abt3_projects/Georg_animal_feces/data/16S_arch/MiSeq-Runs-116-122-126-189-190/LLA/merged/phyloseq/physeq_arch_IndD.RDS'\n",
    "\n",
    "# params\n",
    "threads = 8\n",
    "my_seed = 8371\n"
   ]
  },
  {
   "cell_type": "markdown",
   "metadata": {},
   "source": [
    "# Init"
   ]
  },
  {
   "cell_type": "code",
   "execution_count": 2,
   "metadata": {
    "ExecuteTime": {
     "end_time": "2020-06-18T11:51:46.451109Z",
     "start_time": "2020-06-18T11:51:40.524Z"
    }
   },
   "outputs": [
    {
     "name": "stderr",
     "output_type": "stream",
     "text": [
      "\n",
      "Attaching package: ‘dplyr’\n",
      "\n",
      "\n",
      "The following objects are masked from ‘package:stats’:\n",
      "\n",
      "    filter, lag\n",
      "\n",
      "\n",
      "The following objects are masked from ‘package:base’:\n",
      "\n",
      "    intersect, setdiff, setequal, union\n",
      "\n",
      "\n",
      "Loading required package: MASS\n",
      "\n",
      "\n",
      "Attaching package: ‘MASS’\n",
      "\n",
      "\n",
      "The following object is masked from ‘package:dplyr’:\n",
      "\n",
      "    select\n",
      "\n",
      "\n",
      "Loading required package: NADA\n",
      "\n",
      "Loading required package: survival\n",
      "\n",
      "\n",
      "Attaching package: ‘NADA’\n",
      "\n",
      "\n",
      "The following object is masked from ‘package:stats’:\n",
      "\n",
      "    cor\n",
      "\n",
      "\n",
      "Loading required package: truncnorm\n",
      "\n"
     ]
    }
   ],
   "source": [
    "library(dplyr)\n",
    "library(tidyr)\n",
    "library(ggplot2)\n",
    "\n",
    "library(phyloseq)\n",
    "library(zCompositions)\n",
    "\n",
    "library(LeyLabRMisc)"
   ]
  },
  {
   "cell_type": "code",
   "execution_count": 3,
   "metadata": {
    "ExecuteTime": {
     "end_time": "2020-06-18T11:51:46.644435Z",
     "start_time": "2020-06-18T11:51:40.642Z"
    }
   },
   "outputs": [
    {
     "name": "stdout",
     "output_type": "stream",
     "text": [
      "Directory already exists: /ebio/abt3_projects/Georg_animal_feces/data/16S_arch/MiSeq-Runs-116-122-126-189-190/LLA/merged/ \n"
     ]
    }
   ],
   "source": [
    "df.dims()\n",
    "set.seed(my_seed)\n",
    "make_dir(work_dir)"
   ]
  },
  {
   "cell_type": "markdown",
   "metadata": {},
   "source": [
    "# Load"
   ]
  },
  {
   "cell_type": "code",
   "execution_count": 4,
   "metadata": {
    "ExecuteTime": {
     "end_time": "2020-06-18T11:51:46.697010Z",
     "start_time": "2020-06-18T11:51:41.665Z"
    }
   },
   "outputs": [
    {
     "data": {
      "text/plain": [
       "phyloseq-class experiment-level object\n",
       "otu_table()   OTU Table:         [ 1151 taxa and 110 samples ]\n",
       "sample_data() Sample Data:       [ 110 samples by 88 sample variables ]\n",
       "tax_table()   Taxonomy Table:    [ 1151 taxa by 7 taxonomic ranks ]\n",
       "phy_tree()    Phylogenetic Tree: [ 1151 tips and 1150 internal nodes ]"
      ]
     },
     "metadata": {},
     "output_type": "display_data"
    }
   ],
   "source": [
    "# phyloseq\n",
    "physeq_arch_SpecD = readRDS(physeq_arch_SpecD_file)\n",
    "physeq_arch_SpecD"
   ]
  },
  {
   "cell_type": "code",
   "execution_count": 5,
   "metadata": {
    "ExecuteTime": {
     "end_time": "2020-06-18T11:51:46.759485Z",
     "start_time": "2020-06-18T11:51:41.833Z"
    }
   },
   "outputs": [
    {
     "data": {
      "text/plain": [
       "phyloseq-class experiment-level object\n",
       "otu_table()   OTU Table:         [ 1891 taxa and 185 samples ]\n",
       "sample_data() Sample Data:       [ 185 samples by 88 sample variables ]\n",
       "tax_table()   Taxonomy Table:    [ 1891 taxa by 7 taxonomic ranks ]\n",
       "phy_tree()    Phylogenetic Tree: [ 1891 tips and 1888 internal nodes ]"
      ]
     },
     "metadata": {},
     "output_type": "display_data"
    }
   ],
   "source": [
    "# phyloseq\n",
    "physeq_arch_IndD = readRDS(physeq_arch_IndD_file)\n",
    "physeq_arch_IndD"
   ]
  },
  {
   "cell_type": "markdown",
   "metadata": {},
   "source": [
    "# SpecD"
   ]
  },
  {
   "cell_type": "markdown",
   "metadata": {},
   "source": [
    "## Filter by sparsity"
   ]
  },
  {
   "cell_type": "code",
   "execution_count": 6,
   "metadata": {
    "ExecuteTime": {
     "end_time": "2020-06-18T11:51:47.313358Z",
     "start_time": "2020-06-18T11:51:43.187Z"
    }
   },
   "outputs": [
    {
     "data": {
      "text/plain": [
       "phyloseq-class experiment-level object\n",
       "otu_table()   OTU Table:         [ 225 taxa and 110 samples ]\n",
       "sample_data() Sample Data:       [ 110 samples by 88 sample variables ]\n",
       "tax_table()   Taxonomy Table:    [ 225 taxa by 7 taxonomic ranks ]\n",
       "phy_tree()    Phylogenetic Tree: [ 225 tips and 224 internal nodes ]"
      ]
     },
     "metadata": {},
     "output_type": "display_data"
    }
   ],
   "source": [
    "# filter by sparsity\n",
    "physeq_arch_SpecD = physeq_arch_SpecD %>%\n",
    "    filter_taxa(function(x) sum(x > 0) >= 2, TRUE) %>%\n",
    "    prune_samples(sample_sums(.) > 0, .)\n",
    "physeq_arch_SpecD"
   ]
  },
  {
   "cell_type": "code",
   "execution_count": 7,
   "metadata": {
    "ExecuteTime": {
     "end_time": "2020-06-18T11:51:47.607274Z",
     "start_time": "2020-06-18T11:51:44.118Z"
    }
   },
   "outputs": [
    {
     "data": {
      "text/html": [
       "<table>\n",
       "<caption>A data.frame: 110 × 225</caption>\n",
       "<thead>\n",
       "\t<tr><th></th><th scope=col>6668cc03267d4f04b5a34d676c1db57a</th><th scope=col>cfd2bb81e97edddddf1a843a0d6999fa</th><th scope=col>51b922408976c428c8b582162eaefb1c</th><th scope=col>c0a04f628d6cf2335740fafaa08df6d9</th><th scope=col>617cfd32cb2af41ec4a5ba9ff3a05812</th><th scope=col>0bce7af71d4ef12c38f1d4550626d2ec</th><th scope=col>e3e571be3293bddcadd6be6a621d137b</th><th scope=col>669563302fb65e3b5f7097564fd8b880</th><th scope=col>376173310729d029029e14e72197f90d</th><th scope=col>7071f99f1374237a16119ec7838beea5</th><th scope=col>⋯</th><th scope=col>2de3f467031273dab285a370dc6fd85d</th><th scope=col>6c5b0990f1e56ac81d4f158ad3fe7ddf</th><th scope=col>f40a4552f05b5c3ca111c9886b7360a0</th><th scope=col>e50dfa4783c02bc4cbff9d9297e8d844</th><th scope=col>056a6332380b1f40d814d70adc074217</th><th scope=col>de8bd36d71e9372a6b9e16b54cefa562</th><th scope=col>890c6bb9fc8dea9dc4b756a645f4f472</th><th scope=col>b171d5cdecd235e7199d44ce8991794d</th><th scope=col>36fd5c55ad082f4d05194157da9d13da</th><th scope=col>d7dd0bdd8184f8cb7189e1e09afa97d0</th></tr>\n",
       "\t<tr><th></th><th scope=col>&lt;dbl&gt;</th><th scope=col>&lt;dbl&gt;</th><th scope=col>&lt;dbl&gt;</th><th scope=col>&lt;dbl&gt;</th><th scope=col>&lt;dbl&gt;</th><th scope=col>&lt;dbl&gt;</th><th scope=col>&lt;dbl&gt;</th><th scope=col>&lt;dbl&gt;</th><th scope=col>&lt;dbl&gt;</th><th scope=col>&lt;dbl&gt;</th><th scope=col>⋯</th><th scope=col>&lt;dbl&gt;</th><th scope=col>&lt;dbl&gt;</th><th scope=col>&lt;dbl&gt;</th><th scope=col>&lt;dbl&gt;</th><th scope=col>&lt;dbl&gt;</th><th scope=col>&lt;dbl&gt;</th><th scope=col>&lt;dbl&gt;</th><th scope=col>&lt;dbl&gt;</th><th scope=col>&lt;dbl&gt;</th><th scope=col>&lt;dbl&gt;</th></tr>\n",
       "</thead>\n",
       "<tbody>\n",
       "\t<tr><th scope=row>F14_Common_Bream</th><td>0</td><td>0</td><td>0</td><td>0</td><td>0</td><td>0</td><td>0</td><td>48</td><td>0</td><td>0</td><td>⋯</td><td>0</td><td>0</td><td>0</td><td>0</td><td>0</td><td>0</td><td>0</td><td>0</td><td>0</td><td>0</td></tr>\n",
       "\t<tr><th scope=row>F44_Fallow_Deer</th><td>0</td><td>0</td><td>0</td><td>0</td><td>0</td><td>0</td><td>0</td><td> 0</td><td>0</td><td>0</td><td>⋯</td><td>0</td><td>0</td><td>0</td><td>0</td><td>0</td><td>0</td><td>0</td><td>0</td><td>0</td><td>0</td></tr>\n",
       "\t<tr><th scope=row>⋮</th><td>⋮</td><td>⋮</td><td>⋮</td><td>⋮</td><td>⋮</td><td>⋮</td><td>⋮</td><td>⋮</td><td>⋮</td><td>⋮</td><td>⋱</td><td>⋮</td><td>⋮</td><td>⋮</td><td>⋮</td><td>⋮</td><td>⋮</td><td>⋮</td><td>⋮</td><td>⋮</td><td>⋮</td></tr>\n",
       "\t<tr><th scope=row>X405_Nile_Crocodile</th><td>0</td><td>0</td><td>0</td><td>0</td><td>0</td><td>0</td><td>0</td><td>0</td><td>22</td><td>0</td><td>⋯</td><td>0</td><td>0</td><td>0</td><td>0</td><td>0</td><td>0</td><td>0</td><td>0</td><td>0</td><td>0</td></tr>\n",
       "\t<tr><th scope=row>X67_European_Roe</th><td>0</td><td>0</td><td>0</td><td>0</td><td>0</td><td>0</td><td>0</td><td>0</td><td> 0</td><td>0</td><td>⋯</td><td>0</td><td>0</td><td>0</td><td>0</td><td>0</td><td>0</td><td>0</td><td>0</td><td>0</td><td>0</td></tr>\n",
       "</tbody>\n",
       "</table>\n"
      ],
      "text/latex": [
       "A data.frame: 110 × 225\n",
       "\\begin{tabular}{r|lllllllllllllllllllll}\n",
       "  & 6668cc03267d4f04b5a34d676c1db57a & cfd2bb81e97edddddf1a843a0d6999fa & 51b922408976c428c8b582162eaefb1c & c0a04f628d6cf2335740fafaa08df6d9 & 617cfd32cb2af41ec4a5ba9ff3a05812 & 0bce7af71d4ef12c38f1d4550626d2ec & e3e571be3293bddcadd6be6a621d137b & 669563302fb65e3b5f7097564fd8b880 & 376173310729d029029e14e72197f90d & 7071f99f1374237a16119ec7838beea5 & ⋯ & 2de3f467031273dab285a370dc6fd85d & 6c5b0990f1e56ac81d4f158ad3fe7ddf & f40a4552f05b5c3ca111c9886b7360a0 & e50dfa4783c02bc4cbff9d9297e8d844 & 056a6332380b1f40d814d70adc074217 & de8bd36d71e9372a6b9e16b54cefa562 & 890c6bb9fc8dea9dc4b756a645f4f472 & b171d5cdecd235e7199d44ce8991794d & 36fd5c55ad082f4d05194157da9d13da & d7dd0bdd8184f8cb7189e1e09afa97d0\\\\\n",
       "  & <dbl> & <dbl> & <dbl> & <dbl> & <dbl> & <dbl> & <dbl> & <dbl> & <dbl> & <dbl> & ⋯ & <dbl> & <dbl> & <dbl> & <dbl> & <dbl> & <dbl> & <dbl> & <dbl> & <dbl> & <dbl>\\\\\n",
       "\\hline\n",
       "\tF14\\_Common\\_Bream & 0 & 0 & 0 & 0 & 0 & 0 & 0 & 48 & 0 & 0 & ⋯ & 0 & 0 & 0 & 0 & 0 & 0 & 0 & 0 & 0 & 0\\\\\n",
       "\tF44\\_Fallow\\_Deer & 0 & 0 & 0 & 0 & 0 & 0 & 0 &  0 & 0 & 0 & ⋯ & 0 & 0 & 0 & 0 & 0 & 0 & 0 & 0 & 0 & 0\\\\\n",
       "\t⋮ & ⋮ & ⋮ & ⋮ & ⋮ & ⋮ & ⋮ & ⋮ & ⋮ & ⋮ & ⋮ & ⋱ & ⋮ & ⋮ & ⋮ & ⋮ & ⋮ & ⋮ & ⋮ & ⋮ & ⋮ & ⋮\\\\\n",
       "\tX405\\_Nile\\_Crocodile & 0 & 0 & 0 & 0 & 0 & 0 & 0 & 0 & 22 & 0 & ⋯ & 0 & 0 & 0 & 0 & 0 & 0 & 0 & 0 & 0 & 0\\\\\n",
       "\tX67\\_European\\_Roe & 0 & 0 & 0 & 0 & 0 & 0 & 0 & 0 &  0 & 0 & ⋯ & 0 & 0 & 0 & 0 & 0 & 0 & 0 & 0 & 0 & 0\\\\\n",
       "\\end{tabular}\n"
      ],
      "text/markdown": [
       "\n",
       "A data.frame: 110 × 225\n",
       "\n",
       "| <!--/--> | 6668cc03267d4f04b5a34d676c1db57a &lt;dbl&gt; | cfd2bb81e97edddddf1a843a0d6999fa &lt;dbl&gt; | 51b922408976c428c8b582162eaefb1c &lt;dbl&gt; | c0a04f628d6cf2335740fafaa08df6d9 &lt;dbl&gt; | 617cfd32cb2af41ec4a5ba9ff3a05812 &lt;dbl&gt; | 0bce7af71d4ef12c38f1d4550626d2ec &lt;dbl&gt; | e3e571be3293bddcadd6be6a621d137b &lt;dbl&gt; | 669563302fb65e3b5f7097564fd8b880 &lt;dbl&gt; | 376173310729d029029e14e72197f90d &lt;dbl&gt; | 7071f99f1374237a16119ec7838beea5 &lt;dbl&gt; | ⋯ ⋯ | 2de3f467031273dab285a370dc6fd85d &lt;dbl&gt; | 6c5b0990f1e56ac81d4f158ad3fe7ddf &lt;dbl&gt; | f40a4552f05b5c3ca111c9886b7360a0 &lt;dbl&gt; | e50dfa4783c02bc4cbff9d9297e8d844 &lt;dbl&gt; | 056a6332380b1f40d814d70adc074217 &lt;dbl&gt; | de8bd36d71e9372a6b9e16b54cefa562 &lt;dbl&gt; | 890c6bb9fc8dea9dc4b756a645f4f472 &lt;dbl&gt; | b171d5cdecd235e7199d44ce8991794d &lt;dbl&gt; | 36fd5c55ad082f4d05194157da9d13da &lt;dbl&gt; | d7dd0bdd8184f8cb7189e1e09afa97d0 &lt;dbl&gt; |\n",
       "|---|---|---|---|---|---|---|---|---|---|---|---|---|---|---|---|---|---|---|---|---|---|\n",
       "| F14_Common_Bream | 0 | 0 | 0 | 0 | 0 | 0 | 0 | 48 | 0 | 0 | ⋯ | 0 | 0 | 0 | 0 | 0 | 0 | 0 | 0 | 0 | 0 |\n",
       "| F44_Fallow_Deer | 0 | 0 | 0 | 0 | 0 | 0 | 0 |  0 | 0 | 0 | ⋯ | 0 | 0 | 0 | 0 | 0 | 0 | 0 | 0 | 0 | 0 |\n",
       "| ⋮ | ⋮ | ⋮ | ⋮ | ⋮ | ⋮ | ⋮ | ⋮ | ⋮ | ⋮ | ⋮ | ⋱ | ⋮ | ⋮ | ⋮ | ⋮ | ⋮ | ⋮ | ⋮ | ⋮ | ⋮ | ⋮ |\n",
       "| X405_Nile_Crocodile | 0 | 0 | 0 | 0 | 0 | 0 | 0 | 0 | 22 | 0 | ⋯ | 0 | 0 | 0 | 0 | 0 | 0 | 0 | 0 | 0 | 0 |\n",
       "| X67_European_Roe | 0 | 0 | 0 | 0 | 0 | 0 | 0 | 0 |  0 | 0 | ⋯ | 0 | 0 | 0 | 0 | 0 | 0 | 0 | 0 | 0 | 0 |\n",
       "\n"
      ],
      "text/plain": [
       "                    6668cc03267d4f04b5a34d676c1db57a\n",
       "F14_Common_Bream    0                               \n",
       "F44_Fallow_Deer     0                               \n",
       "⋮                   ⋮                               \n",
       "X405_Nile_Crocodile 0                               \n",
       "X67_European_Roe    0                               \n",
       "                    cfd2bb81e97edddddf1a843a0d6999fa\n",
       "F14_Common_Bream    0                               \n",
       "F44_Fallow_Deer     0                               \n",
       "⋮                   ⋮                               \n",
       "X405_Nile_Crocodile 0                               \n",
       "X67_European_Roe    0                               \n",
       "                    51b922408976c428c8b582162eaefb1c\n",
       "F14_Common_Bream    0                               \n",
       "F44_Fallow_Deer     0                               \n",
       "⋮                   ⋮                               \n",
       "X405_Nile_Crocodile 0                               \n",
       "X67_European_Roe    0                               \n",
       "                    c0a04f628d6cf2335740fafaa08df6d9\n",
       "F14_Common_Bream    0                               \n",
       "F44_Fallow_Deer     0                               \n",
       "⋮                   ⋮                               \n",
       "X405_Nile_Crocodile 0                               \n",
       "X67_European_Roe    0                               \n",
       "                    617cfd32cb2af41ec4a5ba9ff3a05812\n",
       "F14_Common_Bream    0                               \n",
       "F44_Fallow_Deer     0                               \n",
       "⋮                   ⋮                               \n",
       "X405_Nile_Crocodile 0                               \n",
       "X67_European_Roe    0                               \n",
       "                    0bce7af71d4ef12c38f1d4550626d2ec\n",
       "F14_Common_Bream    0                               \n",
       "F44_Fallow_Deer     0                               \n",
       "⋮                   ⋮                               \n",
       "X405_Nile_Crocodile 0                               \n",
       "X67_European_Roe    0                               \n",
       "                    e3e571be3293bddcadd6be6a621d137b\n",
       "F14_Common_Bream    0                               \n",
       "F44_Fallow_Deer     0                               \n",
       "⋮                   ⋮                               \n",
       "X405_Nile_Crocodile 0                               \n",
       "X67_European_Roe    0                               \n",
       "                    669563302fb65e3b5f7097564fd8b880\n",
       "F14_Common_Bream    48                              \n",
       "F44_Fallow_Deer      0                              \n",
       "⋮                   ⋮                               \n",
       "X405_Nile_Crocodile 0                               \n",
       "X67_European_Roe    0                               \n",
       "                    376173310729d029029e14e72197f90d\n",
       "F14_Common_Bream    0                               \n",
       "F44_Fallow_Deer     0                               \n",
       "⋮                   ⋮                               \n",
       "X405_Nile_Crocodile 22                              \n",
       "X67_European_Roe     0                              \n",
       "                    7071f99f1374237a16119ec7838beea5 ⋯\n",
       "F14_Common_Bream    0                                ⋯\n",
       "F44_Fallow_Deer     0                                ⋯\n",
       "⋮                   ⋮                                ⋱\n",
       "X405_Nile_Crocodile 0                                ⋯\n",
       "X67_European_Roe    0                                ⋯\n",
       "                    2de3f467031273dab285a370dc6fd85d\n",
       "F14_Common_Bream    0                               \n",
       "F44_Fallow_Deer     0                               \n",
       "⋮                   ⋮                               \n",
       "X405_Nile_Crocodile 0                               \n",
       "X67_European_Roe    0                               \n",
       "                    6c5b0990f1e56ac81d4f158ad3fe7ddf\n",
       "F14_Common_Bream    0                               \n",
       "F44_Fallow_Deer     0                               \n",
       "⋮                   ⋮                               \n",
       "X405_Nile_Crocodile 0                               \n",
       "X67_European_Roe    0                               \n",
       "                    f40a4552f05b5c3ca111c9886b7360a0\n",
       "F14_Common_Bream    0                               \n",
       "F44_Fallow_Deer     0                               \n",
       "⋮                   ⋮                               \n",
       "X405_Nile_Crocodile 0                               \n",
       "X67_European_Roe    0                               \n",
       "                    e50dfa4783c02bc4cbff9d9297e8d844\n",
       "F14_Common_Bream    0                               \n",
       "F44_Fallow_Deer     0                               \n",
       "⋮                   ⋮                               \n",
       "X405_Nile_Crocodile 0                               \n",
       "X67_European_Roe    0                               \n",
       "                    056a6332380b1f40d814d70adc074217\n",
       "F14_Common_Bream    0                               \n",
       "F44_Fallow_Deer     0                               \n",
       "⋮                   ⋮                               \n",
       "X405_Nile_Crocodile 0                               \n",
       "X67_European_Roe    0                               \n",
       "                    de8bd36d71e9372a6b9e16b54cefa562\n",
       "F14_Common_Bream    0                               \n",
       "F44_Fallow_Deer     0                               \n",
       "⋮                   ⋮                               \n",
       "X405_Nile_Crocodile 0                               \n",
       "X67_European_Roe    0                               \n",
       "                    890c6bb9fc8dea9dc4b756a645f4f472\n",
       "F14_Common_Bream    0                               \n",
       "F44_Fallow_Deer     0                               \n",
       "⋮                   ⋮                               \n",
       "X405_Nile_Crocodile 0                               \n",
       "X67_European_Roe    0                               \n",
       "                    b171d5cdecd235e7199d44ce8991794d\n",
       "F14_Common_Bream    0                               \n",
       "F44_Fallow_Deer     0                               \n",
       "⋮                   ⋮                               \n",
       "X405_Nile_Crocodile 0                               \n",
       "X67_European_Roe    0                               \n",
       "                    36fd5c55ad082f4d05194157da9d13da\n",
       "F14_Common_Bream    0                               \n",
       "F44_Fallow_Deer     0                               \n",
       "⋮                   ⋮                               \n",
       "X405_Nile_Crocodile 0                               \n",
       "X67_European_Roe    0                               \n",
       "                    d7dd0bdd8184f8cb7189e1e09afa97d0\n",
       "F14_Common_Bream    0                               \n",
       "F44_Fallow_Deer     0                               \n",
       "⋮                   ⋮                               \n",
       "X405_Nile_Crocodile 0                               \n",
       "X67_European_Roe    0                               "
      ]
     },
     "metadata": {},
     "output_type": "display_data"
    }
   ],
   "source": [
    "# otu table\n",
    "otu = physeq_arch_SpecD %>%\n",
    "    phyloseq2df(otu_table) %>%\n",
    "    as.data.frame\n",
    "rownames(otu) = otu$OTU\n",
    "otu$OTU = NULL\n",
    "otu = otu %>% t %>% as.data.frame\n",
    "otu"
   ]
  },
  {
   "cell_type": "markdown",
   "metadata": {},
   "source": [
    "## Zero estimation"
   ]
  },
  {
   "cell_type": "code",
   "execution_count": 8,
   "metadata": {
    "ExecuteTime": {
     "end_time": "2020-06-18T11:51:47.636341Z",
     "start_time": "2020-06-18T11:51:44.386Z"
    }
   },
   "outputs": [
    {
     "data": {
      "text/html": [
       "<table>\n",
       "<caption>A matrix: 1 × 8 of type dbl</caption>\n",
       "<thead>\n",
       "\t<tr><th></th><th scope=col>Min.</th><th scope=col>1st Qu.</th><th scope=col>Median</th><th scope=col>Mean</th><th scope=col>3rd Qu.</th><th scope=col>Max.</th><th scope=col>sd</th><th scope=col>sd_err_of_mean</th></tr>\n",
       "</thead>\n",
       "<tbody>\n",
       "\t<tr><th scope=row>sparsity</th><td>52.72727</td><td>94.54545</td><td>97.27273</td><td>94.04444</td><td>98.18182</td><td>98.18182</td><td>17.938</td><td>7.323</td></tr>\n",
       "</tbody>\n",
       "</table>\n"
      ],
      "text/latex": [
       "A matrix: 1 × 8 of type dbl\n",
       "\\begin{tabular}{r|llllllll}\n",
       "  & Min. & 1st Qu. & Median & Mean & 3rd Qu. & Max. & sd & sd\\_err\\_of\\_mean\\\\\n",
       "\\hline\n",
       "\tsparsity & 52.72727 & 94.54545 & 97.27273 & 94.04444 & 98.18182 & 98.18182 & 17.938 & 7.323\\\\\n",
       "\\end{tabular}\n"
      ],
      "text/markdown": [
       "\n",
       "A matrix: 1 × 8 of type dbl\n",
       "\n",
       "| <!--/--> | Min. | 1st Qu. | Median | Mean | 3rd Qu. | Max. | sd | sd_err_of_mean |\n",
       "|---|---|---|---|---|---|---|---|---|\n",
       "| sparsity | 52.72727 | 94.54545 | 97.27273 | 94.04444 | 98.18182 | 98.18182 | 17.938 | 7.323 |\n",
       "\n"
      ],
      "text/plain": [
       "         Min.     1st Qu.  Median   Mean     3rd Qu.  Max.     sd    \n",
       "sparsity 52.72727 94.54545 97.27273 94.04444 98.18182 98.18182 17.938\n",
       "         sd_err_of_mean\n",
       "sparsity 7.323         "
      ]
     },
     "metadata": {},
     "output_type": "display_data"
    }
   ],
   "source": [
    "# sparsity (%)\n",
    "otu %>%\n",
    "    apply(2, function(x) sum(x == 0) / length(x) * 100) %>%\n",
    "    summary_x('sparsity')"
   ]
  },
  {
   "cell_type": "code",
   "execution_count": 9,
   "metadata": {
    "ExecuteTime": {
     "end_time": "2020-06-18T11:51:48.833020Z",
     "start_time": "2020-06-18T11:51:45.341Z"
    }
   },
   "outputs": [
    {
     "name": "stdout",
     "output_type": "stream",
     "text": [
      "No. corrected values:  1187 \n"
     ]
    },
    {
     "data": {
      "text/html": [
       "<table>\n",
       "<caption>A data.frame: 110 × 225</caption>\n",
       "<thead>\n",
       "\t<tr><th></th><th scope=col>6668cc03267d4f04b5a34d676c1db57a</th><th scope=col>cfd2bb81e97edddddf1a843a0d6999fa</th><th scope=col>51b922408976c428c8b582162eaefb1c</th><th scope=col>c0a04f628d6cf2335740fafaa08df6d9</th><th scope=col>617cfd32cb2af41ec4a5ba9ff3a05812</th><th scope=col>0bce7af71d4ef12c38f1d4550626d2ec</th><th scope=col>e3e571be3293bddcadd6be6a621d137b</th><th scope=col>669563302fb65e3b5f7097564fd8b880</th><th scope=col>376173310729d029029e14e72197f90d</th><th scope=col>7071f99f1374237a16119ec7838beea5</th><th scope=col>⋯</th><th scope=col>2de3f467031273dab285a370dc6fd85d</th><th scope=col>6c5b0990f1e56ac81d4f158ad3fe7ddf</th><th scope=col>f40a4552f05b5c3ca111c9886b7360a0</th><th scope=col>e50dfa4783c02bc4cbff9d9297e8d844</th><th scope=col>056a6332380b1f40d814d70adc074217</th><th scope=col>de8bd36d71e9372a6b9e16b54cefa562</th><th scope=col>890c6bb9fc8dea9dc4b756a645f4f472</th><th scope=col>b171d5cdecd235e7199d44ce8991794d</th><th scope=col>36fd5c55ad082f4d05194157da9d13da</th><th scope=col>d7dd0bdd8184f8cb7189e1e09afa97d0</th></tr>\n",
       "\t<tr><th></th><th scope=col>&lt;dbl&gt;</th><th scope=col>&lt;dbl&gt;</th><th scope=col>&lt;dbl&gt;</th><th scope=col>&lt;dbl&gt;</th><th scope=col>&lt;dbl&gt;</th><th scope=col>&lt;dbl&gt;</th><th scope=col>&lt;dbl&gt;</th><th scope=col>&lt;dbl&gt;</th><th scope=col>&lt;dbl&gt;</th><th scope=col>&lt;dbl&gt;</th><th scope=col>⋯</th><th scope=col>&lt;dbl&gt;</th><th scope=col>&lt;dbl&gt;</th><th scope=col>&lt;dbl&gt;</th><th scope=col>&lt;dbl&gt;</th><th scope=col>&lt;dbl&gt;</th><th scope=col>&lt;dbl&gt;</th><th scope=col>&lt;dbl&gt;</th><th scope=col>&lt;dbl&gt;</th><th scope=col>&lt;dbl&gt;</th><th scope=col>&lt;dbl&gt;</th></tr>\n",
       "</thead>\n",
       "<tbody>\n",
       "\t<tr><th scope=row>F14_Common_Bream</th><td>0.1046535</td><td>0.06201692</td><td>0.2842442</td><td>0.1459982</td><td>0.1408301</td><td>0.5168077</td><td>0.4586668</td><td>48.0000000</td><td>0.2390235</td><td>0.2144752</td><td>⋯</td><td>0.07752115</td><td>0.03488452</td><td> 2.311549</td><td>2.149920</td><td>0.9677223</td><td>0.0335925</td><td> 1.414057</td><td>0.7050356</td><td>0.5155156</td><td>0.1369540</td></tr>\n",
       "\t<tr><th scope=row>F44_Fallow_Deer</th><td>0.3256748</td><td>0.19299249</td><td>0.8845489</td><td>0.4543365</td><td>0.4382538</td><td>1.6082708</td><td>1.4273403</td><td> 0.4422745</td><td>0.7438252</td><td>0.6674324</td><td>⋯</td><td>0.24124062</td><td>0.10855828</td><td>11.555426</td><td>6.690406</td><td>3.0114870</td><td>0.1045376</td><td>11.169441</td><td>6.6904065</td><td>1.6042501</td><td>0.4261918</td></tr>\n",
       "\t<tr><th scope=row>⋮</th><td>⋮</td><td>⋮</td><td>⋮</td><td>⋮</td><td>⋮</td><td>⋮</td><td>⋮</td><td>⋮</td><td>⋮</td><td>⋮</td><td>⋱</td><td>⋮</td><td>⋮</td><td>⋮</td><td>⋮</td><td>⋮</td><td>⋮</td><td>⋮</td><td>⋮</td><td>⋮</td><td>⋮</td></tr>\n",
       "\t<tr><th scope=row>X405_Nile_Crocodile</th><td>0.08203047</td><td>0.04861065</td><td>0.2227988</td><td>0.1144376</td><td>0.1103867</td><td>0.4050888</td><td>0.3595163</td><td>0.1113994</td><td>22.0000000</td><td>0.1681118</td><td>⋯</td><td>0.06076331</td><td>0.02734349</td><td>1.729729</td><td>1.079079</td><td>0.7585287</td><td>0.02633077</td><td>1.058137</td><td>0.5275772</td><td>0.404076</td><td>0.1073485</td></tr>\n",
       "\t<tr><th scope=row>X67_European_Roe</th><td>0.23311313</td><td>0.13814111</td><td>0.6331468</td><td>0.3252072</td><td>0.3136954</td><td>1.1511759</td><td>1.0216687</td><td>0.3165734</td><td> 0.5324189</td><td>0.4777380</td><td>⋯</td><td>0.17267639</td><td>0.07770438</td><td>8.271199</td><td>4.788892</td><td>2.1555770</td><td>0.07482644</td><td>5.015845</td><td>2.5008525</td><td>1.148298</td><td>0.3050616</td></tr>\n",
       "</tbody>\n",
       "</table>\n"
      ],
      "text/latex": [
       "A data.frame: 110 × 225\n",
       "\\begin{tabular}{r|lllllllllllllllllllll}\n",
       "  & 6668cc03267d4f04b5a34d676c1db57a & cfd2bb81e97edddddf1a843a0d6999fa & 51b922408976c428c8b582162eaefb1c & c0a04f628d6cf2335740fafaa08df6d9 & 617cfd32cb2af41ec4a5ba9ff3a05812 & 0bce7af71d4ef12c38f1d4550626d2ec & e3e571be3293bddcadd6be6a621d137b & 669563302fb65e3b5f7097564fd8b880 & 376173310729d029029e14e72197f90d & 7071f99f1374237a16119ec7838beea5 & ⋯ & 2de3f467031273dab285a370dc6fd85d & 6c5b0990f1e56ac81d4f158ad3fe7ddf & f40a4552f05b5c3ca111c9886b7360a0 & e50dfa4783c02bc4cbff9d9297e8d844 & 056a6332380b1f40d814d70adc074217 & de8bd36d71e9372a6b9e16b54cefa562 & 890c6bb9fc8dea9dc4b756a645f4f472 & b171d5cdecd235e7199d44ce8991794d & 36fd5c55ad082f4d05194157da9d13da & d7dd0bdd8184f8cb7189e1e09afa97d0\\\\\n",
       "  & <dbl> & <dbl> & <dbl> & <dbl> & <dbl> & <dbl> & <dbl> & <dbl> & <dbl> & <dbl> & ⋯ & <dbl> & <dbl> & <dbl> & <dbl> & <dbl> & <dbl> & <dbl> & <dbl> & <dbl> & <dbl>\\\\\n",
       "\\hline\n",
       "\tF14\\_Common\\_Bream & 0.1046535 & 0.06201692 & 0.2842442 & 0.1459982 & 0.1408301 & 0.5168077 & 0.4586668 & 48.0000000 & 0.2390235 & 0.2144752 & ⋯ & 0.07752115 & 0.03488452 &  2.311549 & 2.149920 & 0.9677223 & 0.0335925 &  1.414057 & 0.7050356 & 0.5155156 & 0.1369540\\\\\n",
       "\tF44\\_Fallow\\_Deer & 0.3256748 & 0.19299249 & 0.8845489 & 0.4543365 & 0.4382538 & 1.6082708 & 1.4273403 &  0.4422745 & 0.7438252 & 0.6674324 & ⋯ & 0.24124062 & 0.10855828 & 11.555426 & 6.690406 & 3.0114870 & 0.1045376 & 11.169441 & 6.6904065 & 1.6042501 & 0.4261918\\\\\n",
       "\t⋮ & ⋮ & ⋮ & ⋮ & ⋮ & ⋮ & ⋮ & ⋮ & ⋮ & ⋮ & ⋮ & ⋱ & ⋮ & ⋮ & ⋮ & ⋮ & ⋮ & ⋮ & ⋮ & ⋮ & ⋮ & ⋮\\\\\n",
       "\tX405\\_Nile\\_Crocodile & 0.08203047 & 0.04861065 & 0.2227988 & 0.1144376 & 0.1103867 & 0.4050888 & 0.3595163 & 0.1113994 & 22.0000000 & 0.1681118 & ⋯ & 0.06076331 & 0.02734349 & 1.729729 & 1.079079 & 0.7585287 & 0.02633077 & 1.058137 & 0.5275772 & 0.404076 & 0.1073485\\\\\n",
       "\tX67\\_European\\_Roe & 0.23311313 & 0.13814111 & 0.6331468 & 0.3252072 & 0.3136954 & 1.1511759 & 1.0216687 & 0.3165734 &  0.5324189 & 0.4777380 & ⋯ & 0.17267639 & 0.07770438 & 8.271199 & 4.788892 & 2.1555770 & 0.07482644 & 5.015845 & 2.5008525 & 1.148298 & 0.3050616\\\\\n",
       "\\end{tabular}\n"
      ],
      "text/markdown": [
       "\n",
       "A data.frame: 110 × 225\n",
       "\n",
       "| <!--/--> | 6668cc03267d4f04b5a34d676c1db57a &lt;dbl&gt; | cfd2bb81e97edddddf1a843a0d6999fa &lt;dbl&gt; | 51b922408976c428c8b582162eaefb1c &lt;dbl&gt; | c0a04f628d6cf2335740fafaa08df6d9 &lt;dbl&gt; | 617cfd32cb2af41ec4a5ba9ff3a05812 &lt;dbl&gt; | 0bce7af71d4ef12c38f1d4550626d2ec &lt;dbl&gt; | e3e571be3293bddcadd6be6a621d137b &lt;dbl&gt; | 669563302fb65e3b5f7097564fd8b880 &lt;dbl&gt; | 376173310729d029029e14e72197f90d &lt;dbl&gt; | 7071f99f1374237a16119ec7838beea5 &lt;dbl&gt; | ⋯ ⋯ | 2de3f467031273dab285a370dc6fd85d &lt;dbl&gt; | 6c5b0990f1e56ac81d4f158ad3fe7ddf &lt;dbl&gt; | f40a4552f05b5c3ca111c9886b7360a0 &lt;dbl&gt; | e50dfa4783c02bc4cbff9d9297e8d844 &lt;dbl&gt; | 056a6332380b1f40d814d70adc074217 &lt;dbl&gt; | de8bd36d71e9372a6b9e16b54cefa562 &lt;dbl&gt; | 890c6bb9fc8dea9dc4b756a645f4f472 &lt;dbl&gt; | b171d5cdecd235e7199d44ce8991794d &lt;dbl&gt; | 36fd5c55ad082f4d05194157da9d13da &lt;dbl&gt; | d7dd0bdd8184f8cb7189e1e09afa97d0 &lt;dbl&gt; |\n",
       "|---|---|---|---|---|---|---|---|---|---|---|---|---|---|---|---|---|---|---|---|---|---|\n",
       "| F14_Common_Bream | 0.1046535 | 0.06201692 | 0.2842442 | 0.1459982 | 0.1408301 | 0.5168077 | 0.4586668 | 48.0000000 | 0.2390235 | 0.2144752 | ⋯ | 0.07752115 | 0.03488452 |  2.311549 | 2.149920 | 0.9677223 | 0.0335925 |  1.414057 | 0.7050356 | 0.5155156 | 0.1369540 |\n",
       "| F44_Fallow_Deer | 0.3256748 | 0.19299249 | 0.8845489 | 0.4543365 | 0.4382538 | 1.6082708 | 1.4273403 |  0.4422745 | 0.7438252 | 0.6674324 | ⋯ | 0.24124062 | 0.10855828 | 11.555426 | 6.690406 | 3.0114870 | 0.1045376 | 11.169441 | 6.6904065 | 1.6042501 | 0.4261918 |\n",
       "| ⋮ | ⋮ | ⋮ | ⋮ | ⋮ | ⋮ | ⋮ | ⋮ | ⋮ | ⋮ | ⋮ | ⋱ | ⋮ | ⋮ | ⋮ | ⋮ | ⋮ | ⋮ | ⋮ | ⋮ | ⋮ | ⋮ |\n",
       "| X405_Nile_Crocodile | 0.08203047 | 0.04861065 | 0.2227988 | 0.1144376 | 0.1103867 | 0.4050888 | 0.3595163 | 0.1113994 | 22.0000000 | 0.1681118 | ⋯ | 0.06076331 | 0.02734349 | 1.729729 | 1.079079 | 0.7585287 | 0.02633077 | 1.058137 | 0.5275772 | 0.404076 | 0.1073485 |\n",
       "| X67_European_Roe | 0.23311313 | 0.13814111 | 0.6331468 | 0.3252072 | 0.3136954 | 1.1511759 | 1.0216687 | 0.3165734 |  0.5324189 | 0.4777380 | ⋯ | 0.17267639 | 0.07770438 | 8.271199 | 4.788892 | 2.1555770 | 0.07482644 | 5.015845 | 2.5008525 | 1.148298 | 0.3050616 |\n",
       "\n"
      ],
      "text/plain": [
       "                    6668cc03267d4f04b5a34d676c1db57a\n",
       "F14_Common_Bream    0.1046535                       \n",
       "F44_Fallow_Deer     0.3256748                       \n",
       "⋮                   ⋮                               \n",
       "X405_Nile_Crocodile 0.08203047                      \n",
       "X67_European_Roe    0.23311313                      \n",
       "                    cfd2bb81e97edddddf1a843a0d6999fa\n",
       "F14_Common_Bream    0.06201692                      \n",
       "F44_Fallow_Deer     0.19299249                      \n",
       "⋮                   ⋮                               \n",
       "X405_Nile_Crocodile 0.04861065                      \n",
       "X67_European_Roe    0.13814111                      \n",
       "                    51b922408976c428c8b582162eaefb1c\n",
       "F14_Common_Bream    0.2842442                       \n",
       "F44_Fallow_Deer     0.8845489                       \n",
       "⋮                   ⋮                               \n",
       "X405_Nile_Crocodile 0.2227988                       \n",
       "X67_European_Roe    0.6331468                       \n",
       "                    c0a04f628d6cf2335740fafaa08df6d9\n",
       "F14_Common_Bream    0.1459982                       \n",
       "F44_Fallow_Deer     0.4543365                       \n",
       "⋮                   ⋮                               \n",
       "X405_Nile_Crocodile 0.1144376                       \n",
       "X67_European_Roe    0.3252072                       \n",
       "                    617cfd32cb2af41ec4a5ba9ff3a05812\n",
       "F14_Common_Bream    0.1408301                       \n",
       "F44_Fallow_Deer     0.4382538                       \n",
       "⋮                   ⋮                               \n",
       "X405_Nile_Crocodile 0.1103867                       \n",
       "X67_European_Roe    0.3136954                       \n",
       "                    0bce7af71d4ef12c38f1d4550626d2ec\n",
       "F14_Common_Bream    0.5168077                       \n",
       "F44_Fallow_Deer     1.6082708                       \n",
       "⋮                   ⋮                               \n",
       "X405_Nile_Crocodile 0.4050888                       \n",
       "X67_European_Roe    1.1511759                       \n",
       "                    e3e571be3293bddcadd6be6a621d137b\n",
       "F14_Common_Bream    0.4586668                       \n",
       "F44_Fallow_Deer     1.4273403                       \n",
       "⋮                   ⋮                               \n",
       "X405_Nile_Crocodile 0.3595163                       \n",
       "X67_European_Roe    1.0216687                       \n",
       "                    669563302fb65e3b5f7097564fd8b880\n",
       "F14_Common_Bream    48.0000000                      \n",
       "F44_Fallow_Deer      0.4422745                      \n",
       "⋮                   ⋮                               \n",
       "X405_Nile_Crocodile 0.1113994                       \n",
       "X67_European_Roe    0.3165734                       \n",
       "                    376173310729d029029e14e72197f90d\n",
       "F14_Common_Bream    0.2390235                       \n",
       "F44_Fallow_Deer     0.7438252                       \n",
       "⋮                   ⋮                               \n",
       "X405_Nile_Crocodile 22.0000000                      \n",
       "X67_European_Roe     0.5324189                      \n",
       "                    7071f99f1374237a16119ec7838beea5 ⋯\n",
       "F14_Common_Bream    0.2144752                        ⋯\n",
       "F44_Fallow_Deer     0.6674324                        ⋯\n",
       "⋮                   ⋮                                ⋱\n",
       "X405_Nile_Crocodile 0.1681118                        ⋯\n",
       "X67_European_Roe    0.4777380                        ⋯\n",
       "                    2de3f467031273dab285a370dc6fd85d\n",
       "F14_Common_Bream    0.07752115                      \n",
       "F44_Fallow_Deer     0.24124062                      \n",
       "⋮                   ⋮                               \n",
       "X405_Nile_Crocodile 0.06076331                      \n",
       "X67_European_Roe    0.17267639                      \n",
       "                    6c5b0990f1e56ac81d4f158ad3fe7ddf\n",
       "F14_Common_Bream    0.03488452                      \n",
       "F44_Fallow_Deer     0.10855828                      \n",
       "⋮                   ⋮                               \n",
       "X405_Nile_Crocodile 0.02734349                      \n",
       "X67_European_Roe    0.07770438                      \n",
       "                    f40a4552f05b5c3ca111c9886b7360a0\n",
       "F14_Common_Bream     2.311549                       \n",
       "F44_Fallow_Deer     11.555426                       \n",
       "⋮                   ⋮                               \n",
       "X405_Nile_Crocodile 1.729729                        \n",
       "X67_European_Roe    8.271199                        \n",
       "                    e50dfa4783c02bc4cbff9d9297e8d844\n",
       "F14_Common_Bream    2.149920                        \n",
       "F44_Fallow_Deer     6.690406                        \n",
       "⋮                   ⋮                               \n",
       "X405_Nile_Crocodile 1.079079                        \n",
       "X67_European_Roe    4.788892                        \n",
       "                    056a6332380b1f40d814d70adc074217\n",
       "F14_Common_Bream    0.9677223                       \n",
       "F44_Fallow_Deer     3.0114870                       \n",
       "⋮                   ⋮                               \n",
       "X405_Nile_Crocodile 0.7585287                       \n",
       "X67_European_Roe    2.1555770                       \n",
       "                    de8bd36d71e9372a6b9e16b54cefa562\n",
       "F14_Common_Bream    0.0335925                       \n",
       "F44_Fallow_Deer     0.1045376                       \n",
       "⋮                   ⋮                               \n",
       "X405_Nile_Crocodile 0.02633077                      \n",
       "X67_European_Roe    0.07482644                      \n",
       "                    890c6bb9fc8dea9dc4b756a645f4f472\n",
       "F14_Common_Bream     1.414057                       \n",
       "F44_Fallow_Deer     11.169441                       \n",
       "⋮                   ⋮                               \n",
       "X405_Nile_Crocodile 1.058137                        \n",
       "X67_European_Roe    5.015845                        \n",
       "                    b171d5cdecd235e7199d44ce8991794d\n",
       "F14_Common_Bream    0.7050356                       \n",
       "F44_Fallow_Deer     6.6904065                       \n",
       "⋮                   ⋮                               \n",
       "X405_Nile_Crocodile 0.5275772                       \n",
       "X67_European_Roe    2.5008525                       \n",
       "                    36fd5c55ad082f4d05194157da9d13da\n",
       "F14_Common_Bream    0.5155156                       \n",
       "F44_Fallow_Deer     1.6042501                       \n",
       "⋮                   ⋮                               \n",
       "X405_Nile_Crocodile 0.404076                        \n",
       "X67_European_Roe    1.148298                        \n",
       "                    d7dd0bdd8184f8cb7189e1e09afa97d0\n",
       "F14_Common_Bream    0.1369540                       \n",
       "F44_Fallow_Deer     0.4261918                       \n",
       "⋮                   ⋮                               \n",
       "X405_Nile_Crocodile 0.1073485                       \n",
       "X67_European_Roe    0.3050616                       "
      ]
     },
     "metadata": {},
     "output_type": "display_data"
    }
   ],
   "source": [
    "# inferring zeros\n",
    "## warning: a bit slow\n",
    "otu = cmultRepl(otu, output = 'p-counts')\n",
    "otu"
   ]
  },
  {
   "cell_type": "code",
   "execution_count": 10,
   "metadata": {
    "ExecuteTime": {
     "end_time": "2020-06-18T11:51:48.862524Z",
     "start_time": "2020-06-18T11:51:45.499Z"
    }
   },
   "outputs": [
    {
     "data": {
      "text/html": [
       "<table>\n",
       "<caption>A matrix: 1 × 8 of type dbl</caption>\n",
       "<thead>\n",
       "\t<tr><th></th><th scope=col>Min.</th><th scope=col>1st Qu.</th><th scope=col>Median</th><th scope=col>Mean</th><th scope=col>3rd Qu.</th><th scope=col>Max.</th><th scope=col>sd</th><th scope=col>sd_err_of_mean</th></tr>\n",
       "</thead>\n",
       "<tbody>\n",
       "\t<tr><th scope=row>sparsity</th><td>0</td><td>0</td><td>0</td><td>0</td><td>0</td><td>0</td><td>0</td><td>0</td></tr>\n",
       "</tbody>\n",
       "</table>\n"
      ],
      "text/latex": [
       "A matrix: 1 × 8 of type dbl\n",
       "\\begin{tabular}{r|llllllll}\n",
       "  & Min. & 1st Qu. & Median & Mean & 3rd Qu. & Max. & sd & sd\\_err\\_of\\_mean\\\\\n",
       "\\hline\n",
       "\tsparsity & 0 & 0 & 0 & 0 & 0 & 0 & 0 & 0\\\\\n",
       "\\end{tabular}\n"
      ],
      "text/markdown": [
       "\n",
       "A matrix: 1 × 8 of type dbl\n",
       "\n",
       "| <!--/--> | Min. | 1st Qu. | Median | Mean | 3rd Qu. | Max. | sd | sd_err_of_mean |\n",
       "|---|---|---|---|---|---|---|---|---|\n",
       "| sparsity | 0 | 0 | 0 | 0 | 0 | 0 | 0 | 0 |\n",
       "\n"
      ],
      "text/plain": [
       "         Min. 1st Qu. Median Mean 3rd Qu. Max. sd sd_err_of_mean\n",
       "sparsity 0    0       0      0    0       0    0  0             "
      ]
     },
     "metadata": {},
     "output_type": "display_data"
    }
   ],
   "source": [
    "# check\n",
    "## sparsity (%)\n",
    "otu %>%\n",
    "    apply(1, function(x) sum(x == 0) / length(x) * 100) %>%\n",
    "    summary_x('sparsity')"
   ]
  },
  {
   "cell_type": "markdown",
   "metadata": {},
   "source": [
    "## clr transformation"
   ]
  },
  {
   "cell_type": "code",
   "execution_count": 11,
   "metadata": {
    "ExecuteTime": {
     "end_time": "2020-06-18T11:51:49.106144Z",
     "start_time": "2020-06-18T11:51:46.574Z"
    }
   },
   "outputs": [
    {
     "data": {
      "text/html": [
       "<table>\n",
       "<caption>A data.frame: 110 × 225</caption>\n",
       "<thead>\n",
       "\t<tr><th></th><th scope=col>6668cc03267d4f04b5a34d676c1db57a</th><th scope=col>cfd2bb81e97edddddf1a843a0d6999fa</th><th scope=col>51b922408976c428c8b582162eaefb1c</th><th scope=col>c0a04f628d6cf2335740fafaa08df6d9</th><th scope=col>617cfd32cb2af41ec4a5ba9ff3a05812</th><th scope=col>0bce7af71d4ef12c38f1d4550626d2ec</th><th scope=col>e3e571be3293bddcadd6be6a621d137b</th><th scope=col>669563302fb65e3b5f7097564fd8b880</th><th scope=col>376173310729d029029e14e72197f90d</th><th scope=col>7071f99f1374237a16119ec7838beea5</th><th scope=col>⋯</th><th scope=col>2de3f467031273dab285a370dc6fd85d</th><th scope=col>6c5b0990f1e56ac81d4f158ad3fe7ddf</th><th scope=col>f40a4552f05b5c3ca111c9886b7360a0</th><th scope=col>e50dfa4783c02bc4cbff9d9297e8d844</th><th scope=col>056a6332380b1f40d814d70adc074217</th><th scope=col>de8bd36d71e9372a6b9e16b54cefa562</th><th scope=col>890c6bb9fc8dea9dc4b756a645f4f472</th><th scope=col>b171d5cdecd235e7199d44ce8991794d</th><th scope=col>36fd5c55ad082f4d05194157da9d13da</th><th scope=col>d7dd0bdd8184f8cb7189e1e09afa97d0</th></tr>\n",
       "\t<tr><th></th><th scope=col>&lt;dbl&gt;</th><th scope=col>&lt;dbl&gt;</th><th scope=col>&lt;dbl&gt;</th><th scope=col>&lt;dbl&gt;</th><th scope=col>&lt;dbl&gt;</th><th scope=col>&lt;dbl&gt;</th><th scope=col>&lt;dbl&gt;</th><th scope=col>&lt;dbl&gt;</th><th scope=col>&lt;dbl&gt;</th><th scope=col>&lt;dbl&gt;</th><th scope=col>⋯</th><th scope=col>&lt;dbl&gt;</th><th scope=col>&lt;dbl&gt;</th><th scope=col>&lt;dbl&gt;</th><th scope=col>&lt;dbl&gt;</th><th scope=col>&lt;dbl&gt;</th><th scope=col>&lt;dbl&gt;</th><th scope=col>&lt;dbl&gt;</th><th scope=col>&lt;dbl&gt;</th><th scope=col>&lt;dbl&gt;</th><th scope=col>&lt;dbl&gt;</th></tr>\n",
       "</thead>\n",
       "<tbody>\n",
       "\t<tr><th scope=row>F14_Common_Bream</th><td>-1.101301</td><td>-1.624549</td><td>-0.1021229</td><td>-0.7683627</td><td>-0.8044026</td><td> 0.49571407</td><td> 0.3763673</td><td> 5.027000</td><td>-0.2753946</td><td>-0.3837627</td><td>⋯</td><td>-1.401406</td><td>-2.199914</td><td>1.993716</td><td>1.921229</td><td>1.1229885</td><td>-2.237654</td><td>1.502262</td><td>0.8062916</td><td> 0.49321094</td><td>-0.8323114</td></tr>\n",
       "\t<tr><th scope=row>F44_Fallow_Deer</th><td>-1.676850</td><td>-2.200098</td><td>-0.6776718</td><td>-1.3439115</td><td>-1.3799514</td><td>-0.07983478</td><td>-0.1991815</td><td>-1.370819</td><td>-0.8509435</td><td>-0.9593115</td><td>⋯</td><td>-1.976955</td><td>-2.775462</td><td>1.892161</td><td>1.345680</td><td>0.5474397</td><td>-2.813203</td><td>1.858187</td><td>1.3456803</td><td>-0.08233791</td><td>-1.4078602</td></tr>\n",
       "\t<tr><th scope=row>⋮</th><td>⋮</td><td>⋮</td><td>⋮</td><td>⋮</td><td>⋮</td><td>⋮</td><td>⋮</td><td>⋮</td><td>⋮</td><td>⋮</td><td>⋱</td><td>⋮</td><td>⋮</td><td>⋮</td><td>⋮</td><td>⋮</td><td>⋮</td><td>⋮</td><td>⋮</td><td>⋮</td><td>⋮</td></tr>\n",
       "\t<tr><th scope=row>X405_Nile_Crocodile</th><td>-1.107361</td><td>-1.630609</td><td>-0.10818212</td><td>-0.7744218</td><td>-0.8104618</td><td>0.4896549</td><td>0.3703081</td><td>-0.8013293</td><td> 4.4843464</td><td>-0.3898219</td><td>⋯</td><td>-1.407465</td><td>-2.205973</td><td>1.941269</td><td>1.469412</td><td>1.116929</td><td>-2.243713</td><td>1.449814</td><td>0.753844</td><td>0.4871518</td><td>-0.8383706</td></tr>\n",
       "\t<tr><th scope=row>X67_European_Roe</th><td>-1.083338</td><td>-1.606586</td><td>-0.08415915</td><td>-0.7503989</td><td>-0.7864388</td><td>0.5136778</td><td>0.3943311</td><td>-0.7773063</td><td>-0.2574309</td><td>-0.3657989</td><td>⋯</td><td>-1.383442</td><td>-2.181950</td><td>2.485673</td><td>1.939193</td><td>1.140952</td><td>-2.219690</td><td>1.985496</td><td>1.289526</td><td>0.5111747</td><td>-0.8143476</td></tr>\n",
       "</tbody>\n",
       "</table>\n"
      ],
      "text/latex": [
       "A data.frame: 110 × 225\n",
       "\\begin{tabular}{r|lllllllllllllllllllll}\n",
       "  & 6668cc03267d4f04b5a34d676c1db57a & cfd2bb81e97edddddf1a843a0d6999fa & 51b922408976c428c8b582162eaefb1c & c0a04f628d6cf2335740fafaa08df6d9 & 617cfd32cb2af41ec4a5ba9ff3a05812 & 0bce7af71d4ef12c38f1d4550626d2ec & e3e571be3293bddcadd6be6a621d137b & 669563302fb65e3b5f7097564fd8b880 & 376173310729d029029e14e72197f90d & 7071f99f1374237a16119ec7838beea5 & ⋯ & 2de3f467031273dab285a370dc6fd85d & 6c5b0990f1e56ac81d4f158ad3fe7ddf & f40a4552f05b5c3ca111c9886b7360a0 & e50dfa4783c02bc4cbff9d9297e8d844 & 056a6332380b1f40d814d70adc074217 & de8bd36d71e9372a6b9e16b54cefa562 & 890c6bb9fc8dea9dc4b756a645f4f472 & b171d5cdecd235e7199d44ce8991794d & 36fd5c55ad082f4d05194157da9d13da & d7dd0bdd8184f8cb7189e1e09afa97d0\\\\\n",
       "  & <dbl> & <dbl> & <dbl> & <dbl> & <dbl> & <dbl> & <dbl> & <dbl> & <dbl> & <dbl> & ⋯ & <dbl> & <dbl> & <dbl> & <dbl> & <dbl> & <dbl> & <dbl> & <dbl> & <dbl> & <dbl>\\\\\n",
       "\\hline\n",
       "\tF14\\_Common\\_Bream & -1.101301 & -1.624549 & -0.1021229 & -0.7683627 & -0.8044026 &  0.49571407 &  0.3763673 &  5.027000 & -0.2753946 & -0.3837627 & ⋯ & -1.401406 & -2.199914 & 1.993716 & 1.921229 & 1.1229885 & -2.237654 & 1.502262 & 0.8062916 &  0.49321094 & -0.8323114\\\\\n",
       "\tF44\\_Fallow\\_Deer & -1.676850 & -2.200098 & -0.6776718 & -1.3439115 & -1.3799514 & -0.07983478 & -0.1991815 & -1.370819 & -0.8509435 & -0.9593115 & ⋯ & -1.976955 & -2.775462 & 1.892161 & 1.345680 & 0.5474397 & -2.813203 & 1.858187 & 1.3456803 & -0.08233791 & -1.4078602\\\\\n",
       "\t⋮ & ⋮ & ⋮ & ⋮ & ⋮ & ⋮ & ⋮ & ⋮ & ⋮ & ⋮ & ⋮ & ⋱ & ⋮ & ⋮ & ⋮ & ⋮ & ⋮ & ⋮ & ⋮ & ⋮ & ⋮ & ⋮\\\\\n",
       "\tX405\\_Nile\\_Crocodile & -1.107361 & -1.630609 & -0.10818212 & -0.7744218 & -0.8104618 & 0.4896549 & 0.3703081 & -0.8013293 &  4.4843464 & -0.3898219 & ⋯ & -1.407465 & -2.205973 & 1.941269 & 1.469412 & 1.116929 & -2.243713 & 1.449814 & 0.753844 & 0.4871518 & -0.8383706\\\\\n",
       "\tX67\\_European\\_Roe & -1.083338 & -1.606586 & -0.08415915 & -0.7503989 & -0.7864388 & 0.5136778 & 0.3943311 & -0.7773063 & -0.2574309 & -0.3657989 & ⋯ & -1.383442 & -2.181950 & 2.485673 & 1.939193 & 1.140952 & -2.219690 & 1.985496 & 1.289526 & 0.5111747 & -0.8143476\\\\\n",
       "\\end{tabular}\n"
      ],
      "text/markdown": [
       "\n",
       "A data.frame: 110 × 225\n",
       "\n",
       "| <!--/--> | 6668cc03267d4f04b5a34d676c1db57a &lt;dbl&gt; | cfd2bb81e97edddddf1a843a0d6999fa &lt;dbl&gt; | 51b922408976c428c8b582162eaefb1c &lt;dbl&gt; | c0a04f628d6cf2335740fafaa08df6d9 &lt;dbl&gt; | 617cfd32cb2af41ec4a5ba9ff3a05812 &lt;dbl&gt; | 0bce7af71d4ef12c38f1d4550626d2ec &lt;dbl&gt; | e3e571be3293bddcadd6be6a621d137b &lt;dbl&gt; | 669563302fb65e3b5f7097564fd8b880 &lt;dbl&gt; | 376173310729d029029e14e72197f90d &lt;dbl&gt; | 7071f99f1374237a16119ec7838beea5 &lt;dbl&gt; | ⋯ ⋯ | 2de3f467031273dab285a370dc6fd85d &lt;dbl&gt; | 6c5b0990f1e56ac81d4f158ad3fe7ddf &lt;dbl&gt; | f40a4552f05b5c3ca111c9886b7360a0 &lt;dbl&gt; | e50dfa4783c02bc4cbff9d9297e8d844 &lt;dbl&gt; | 056a6332380b1f40d814d70adc074217 &lt;dbl&gt; | de8bd36d71e9372a6b9e16b54cefa562 &lt;dbl&gt; | 890c6bb9fc8dea9dc4b756a645f4f472 &lt;dbl&gt; | b171d5cdecd235e7199d44ce8991794d &lt;dbl&gt; | 36fd5c55ad082f4d05194157da9d13da &lt;dbl&gt; | d7dd0bdd8184f8cb7189e1e09afa97d0 &lt;dbl&gt; |\n",
       "|---|---|---|---|---|---|---|---|---|---|---|---|---|---|---|---|---|---|---|---|---|---|\n",
       "| F14_Common_Bream | -1.101301 | -1.624549 | -0.1021229 | -0.7683627 | -0.8044026 |  0.49571407 |  0.3763673 |  5.027000 | -0.2753946 | -0.3837627 | ⋯ | -1.401406 | -2.199914 | 1.993716 | 1.921229 | 1.1229885 | -2.237654 | 1.502262 | 0.8062916 |  0.49321094 | -0.8323114 |\n",
       "| F44_Fallow_Deer | -1.676850 | -2.200098 | -0.6776718 | -1.3439115 | -1.3799514 | -0.07983478 | -0.1991815 | -1.370819 | -0.8509435 | -0.9593115 | ⋯ | -1.976955 | -2.775462 | 1.892161 | 1.345680 | 0.5474397 | -2.813203 | 1.858187 | 1.3456803 | -0.08233791 | -1.4078602 |\n",
       "| ⋮ | ⋮ | ⋮ | ⋮ | ⋮ | ⋮ | ⋮ | ⋮ | ⋮ | ⋮ | ⋮ | ⋱ | ⋮ | ⋮ | ⋮ | ⋮ | ⋮ | ⋮ | ⋮ | ⋮ | ⋮ | ⋮ |\n",
       "| X405_Nile_Crocodile | -1.107361 | -1.630609 | -0.10818212 | -0.7744218 | -0.8104618 | 0.4896549 | 0.3703081 | -0.8013293 |  4.4843464 | -0.3898219 | ⋯ | -1.407465 | -2.205973 | 1.941269 | 1.469412 | 1.116929 | -2.243713 | 1.449814 | 0.753844 | 0.4871518 | -0.8383706 |\n",
       "| X67_European_Roe | -1.083338 | -1.606586 | -0.08415915 | -0.7503989 | -0.7864388 | 0.5136778 | 0.3943311 | -0.7773063 | -0.2574309 | -0.3657989 | ⋯ | -1.383442 | -2.181950 | 2.485673 | 1.939193 | 1.140952 | -2.219690 | 1.985496 | 1.289526 | 0.5111747 | -0.8143476 |\n",
       "\n"
      ],
      "text/plain": [
       "                    6668cc03267d4f04b5a34d676c1db57a\n",
       "F14_Common_Bream    -1.101301                       \n",
       "F44_Fallow_Deer     -1.676850                       \n",
       "⋮                   ⋮                               \n",
       "X405_Nile_Crocodile -1.107361                       \n",
       "X67_European_Roe    -1.083338                       \n",
       "                    cfd2bb81e97edddddf1a843a0d6999fa\n",
       "F14_Common_Bream    -1.624549                       \n",
       "F44_Fallow_Deer     -2.200098                       \n",
       "⋮                   ⋮                               \n",
       "X405_Nile_Crocodile -1.630609                       \n",
       "X67_European_Roe    -1.606586                       \n",
       "                    51b922408976c428c8b582162eaefb1c\n",
       "F14_Common_Bream    -0.1021229                      \n",
       "F44_Fallow_Deer     -0.6776718                      \n",
       "⋮                   ⋮                               \n",
       "X405_Nile_Crocodile -0.10818212                     \n",
       "X67_European_Roe    -0.08415915                     \n",
       "                    c0a04f628d6cf2335740fafaa08df6d9\n",
       "F14_Common_Bream    -0.7683627                      \n",
       "F44_Fallow_Deer     -1.3439115                      \n",
       "⋮                   ⋮                               \n",
       "X405_Nile_Crocodile -0.7744218                      \n",
       "X67_European_Roe    -0.7503989                      \n",
       "                    617cfd32cb2af41ec4a5ba9ff3a05812\n",
       "F14_Common_Bream    -0.8044026                      \n",
       "F44_Fallow_Deer     -1.3799514                      \n",
       "⋮                   ⋮                               \n",
       "X405_Nile_Crocodile -0.8104618                      \n",
       "X67_European_Roe    -0.7864388                      \n",
       "                    0bce7af71d4ef12c38f1d4550626d2ec\n",
       "F14_Common_Bream     0.49571407                     \n",
       "F44_Fallow_Deer     -0.07983478                     \n",
       "⋮                   ⋮                               \n",
       "X405_Nile_Crocodile 0.4896549                       \n",
       "X67_European_Roe    0.5136778                       \n",
       "                    e3e571be3293bddcadd6be6a621d137b\n",
       "F14_Common_Bream     0.3763673                      \n",
       "F44_Fallow_Deer     -0.1991815                      \n",
       "⋮                   ⋮                               \n",
       "X405_Nile_Crocodile 0.3703081                       \n",
       "X67_European_Roe    0.3943311                       \n",
       "                    669563302fb65e3b5f7097564fd8b880\n",
       "F14_Common_Bream     5.027000                       \n",
       "F44_Fallow_Deer     -1.370819                       \n",
       "⋮                   ⋮                               \n",
       "X405_Nile_Crocodile -0.8013293                      \n",
       "X67_European_Roe    -0.7773063                      \n",
       "                    376173310729d029029e14e72197f90d\n",
       "F14_Common_Bream    -0.2753946                      \n",
       "F44_Fallow_Deer     -0.8509435                      \n",
       "⋮                   ⋮                               \n",
       "X405_Nile_Crocodile  4.4843464                      \n",
       "X67_European_Roe    -0.2574309                      \n",
       "                    7071f99f1374237a16119ec7838beea5 ⋯\n",
       "F14_Common_Bream    -0.3837627                       ⋯\n",
       "F44_Fallow_Deer     -0.9593115                       ⋯\n",
       "⋮                   ⋮                                ⋱\n",
       "X405_Nile_Crocodile -0.3898219                       ⋯\n",
       "X67_European_Roe    -0.3657989                       ⋯\n",
       "                    2de3f467031273dab285a370dc6fd85d\n",
       "F14_Common_Bream    -1.401406                       \n",
       "F44_Fallow_Deer     -1.976955                       \n",
       "⋮                   ⋮                               \n",
       "X405_Nile_Crocodile -1.407465                       \n",
       "X67_European_Roe    -1.383442                       \n",
       "                    6c5b0990f1e56ac81d4f158ad3fe7ddf\n",
       "F14_Common_Bream    -2.199914                       \n",
       "F44_Fallow_Deer     -2.775462                       \n",
       "⋮                   ⋮                               \n",
       "X405_Nile_Crocodile -2.205973                       \n",
       "X67_European_Roe    -2.181950                       \n",
       "                    f40a4552f05b5c3ca111c9886b7360a0\n",
       "F14_Common_Bream    1.993716                        \n",
       "F44_Fallow_Deer     1.892161                        \n",
       "⋮                   ⋮                               \n",
       "X405_Nile_Crocodile 1.941269                        \n",
       "X67_European_Roe    2.485673                        \n",
       "                    e50dfa4783c02bc4cbff9d9297e8d844\n",
       "F14_Common_Bream    1.921229                        \n",
       "F44_Fallow_Deer     1.345680                        \n",
       "⋮                   ⋮                               \n",
       "X405_Nile_Crocodile 1.469412                        \n",
       "X67_European_Roe    1.939193                        \n",
       "                    056a6332380b1f40d814d70adc074217\n",
       "F14_Common_Bream    1.1229885                       \n",
       "F44_Fallow_Deer     0.5474397                       \n",
       "⋮                   ⋮                               \n",
       "X405_Nile_Crocodile 1.116929                        \n",
       "X67_European_Roe    1.140952                        \n",
       "                    de8bd36d71e9372a6b9e16b54cefa562\n",
       "F14_Common_Bream    -2.237654                       \n",
       "F44_Fallow_Deer     -2.813203                       \n",
       "⋮                   ⋮                               \n",
       "X405_Nile_Crocodile -2.243713                       \n",
       "X67_European_Roe    -2.219690                       \n",
       "                    890c6bb9fc8dea9dc4b756a645f4f472\n",
       "F14_Common_Bream    1.502262                        \n",
       "F44_Fallow_Deer     1.858187                        \n",
       "⋮                   ⋮                               \n",
       "X405_Nile_Crocodile 1.449814                        \n",
       "X67_European_Roe    1.985496                        \n",
       "                    b171d5cdecd235e7199d44ce8991794d\n",
       "F14_Common_Bream    0.8062916                       \n",
       "F44_Fallow_Deer     1.3456803                       \n",
       "⋮                   ⋮                               \n",
       "X405_Nile_Crocodile 0.753844                        \n",
       "X67_European_Roe    1.289526                        \n",
       "                    36fd5c55ad082f4d05194157da9d13da\n",
       "F14_Common_Bream     0.49321094                     \n",
       "F44_Fallow_Deer     -0.08233791                     \n",
       "⋮                   ⋮                               \n",
       "X405_Nile_Crocodile 0.4871518                       \n",
       "X67_European_Roe    0.5111747                       \n",
       "                    d7dd0bdd8184f8cb7189e1e09afa97d0\n",
       "F14_Common_Bream    -0.8323114                      \n",
       "F44_Fallow_Deer     -1.4078602                      \n",
       "⋮                   ⋮                               \n",
       "X405_Nile_Crocodile -0.8383706                      \n",
       "X67_European_Roe    -0.8143476                      "
      ]
     },
     "metadata": {},
     "output_type": "display_data"
    }
   ],
   "source": [
    "# transforming\n",
    "otu = compositions::clr(otu) %>%\n",
    "    as.data.frame\n",
    "otu"
   ]
  },
  {
   "cell_type": "code",
   "execution_count": 12,
   "metadata": {
    "ExecuteTime": {
     "end_time": "2020-06-18T11:51:49.150411Z",
     "start_time": "2020-06-18T11:51:46.978Z"
    }
   },
   "outputs": [
    {
     "data": {
      "text/plain": [
       "      Min.    1st Qu.     Median       Mean    3rd Qu.       Max. \n",
       "-9.337e-14 -1.230e-14 -8.674e-16 -1.402e-15  1.119e-14  1.574e-13 "
      ]
     },
     "metadata": {},
     "output_type": "display_data"
    },
    {
     "data": {
      "text/plain": [
       "   Min. 1st Qu.  Median    Mean 3rd Qu.    Max. \n",
       " -367.9  -122.3   -23.2     0.0   132.0   403.6 "
      ]
     },
     "metadata": {},
     "output_type": "display_data"
    }
   ],
   "source": [
    "# summary\n",
    "otu %>% rowSums %>% summary\n",
    "otu %>% colSums %>% summary"
   ]
  },
  {
   "cell_type": "markdown",
   "metadata": {},
   "source": [
    "## New phyloseq obj."
   ]
  },
  {
   "cell_type": "code",
   "execution_count": 14,
   "metadata": {
    "ExecuteTime": {
     "end_time": "2020-06-18T11:51:57.996356Z",
     "start_time": "2020-06-18T11:51:57.882Z"
    }
   },
   "outputs": [
    {
     "data": {
      "text/plain": [
       "phyloseq-class experiment-level object\n",
       "otu_table()   OTU Table:         [ 225 taxa and 110 samples ]\n",
       "sample_data() Sample Data:       [ 110 samples by 88 sample variables ]\n",
       "tax_table()   Taxonomy Table:    [ 225 taxa by 7 taxonomic ranks ]\n",
       "phy_tree()    Phylogenetic Tree: [ 225 tips and 224 internal nodes ]"
      ]
     },
     "metadata": {},
     "output_type": "display_data"
    }
   ],
   "source": [
    "# new phyloseq object\n",
    "physeq_arch_SpecD_clr = phyloseq(otu_table(otu %>% t %>% as.data.frame, \n",
    "                                           taxa_are_rows=TRUE),\n",
    "                                tax_table(physeq_arch_SpecD),\n",
    "                                sample_data(physeq_arch_SpecD),\n",
    "                                phy_tree(physeq_arch_SpecD))\n",
    "physeq_arch_SpecD_clr"
   ]
  },
  {
   "cell_type": "code",
   "execution_count": 15,
   "metadata": {
    "ExecuteTime": {
     "end_time": "2020-06-18T11:51:58.893641Z",
     "start_time": "2020-06-18T11:51:58.810Z"
    }
   },
   "outputs": [
    {
     "name": "stdout",
     "output_type": "stream",
     "text": [
      "File written: /ebio/abt3_projects/Georg_animal_feces/data/16S_arch/MiSeq-Runs-116-122-126-189-190/LLA/merged/phyloseq/physeq_arch_SpecD_clr.RDS \n"
     ]
    }
   ],
   "source": [
    "# writing new file\n",
    "physeq_arch_SpecD_clr_file = file.path(dirname(physeq_arch_SpecD_file),\n",
    "                                      'physeq_arch_SpecD_clr.RDS')\n",
    "saveRDS(physeq_arch_SpecD_clr, physeq_arch_SpecD_clr_file)\n",
    "cat('File written:', physeq_arch_SpecD_clr_file, '\\n')"
   ]
  },
  {
   "cell_type": "markdown",
   "metadata": {},
   "source": [
    "# IndD"
   ]
  },
  {
   "cell_type": "markdown",
   "metadata": {},
   "source": [
    "## Filter by sparsity"
   ]
  },
  {
   "cell_type": "code",
   "execution_count": 16,
   "metadata": {
    "ExecuteTime": {
     "end_time": "2020-06-18T11:52:00.450222Z",
     "start_time": "2020-06-18T11:52:00.273Z"
    }
   },
   "outputs": [
    {
     "data": {
      "text/plain": [
       "phyloseq-class experiment-level object\n",
       "otu_table()   OTU Table:         [ 377 taxa and 185 samples ]\n",
       "sample_data() Sample Data:       [ 185 samples by 88 sample variables ]\n",
       "tax_table()   Taxonomy Table:    [ 377 taxa by 7 taxonomic ranks ]\n",
       "phy_tree()    Phylogenetic Tree: [ 377 tips and 375 internal nodes ]"
      ]
     },
     "metadata": {},
     "output_type": "display_data"
    }
   ],
   "source": [
    "# filter by sparsity\n",
    "physeq_arch_IndD = physeq_arch_IndD %>%\n",
    "    filter_taxa(function(x) sum(x > 0) >= 2, TRUE) %>%\n",
    "    prune_samples(sample_sums(.) > 0, .)\n",
    "physeq_arch_IndD"
   ]
  },
  {
   "cell_type": "code",
   "execution_count": 17,
   "metadata": {
    "ExecuteTime": {
     "end_time": "2020-06-18T11:52:03.457264Z",
     "start_time": "2020-06-18T11:52:01.750Z"
    }
   },
   "outputs": [
    {
     "data": {
      "text/html": [
       "<table>\n",
       "<caption>A data.frame: 185 × 377</caption>\n",
       "<thead>\n",
       "\t<tr><th></th><th scope=col>c5fbed2bb10ab3a08275a92e9caea3c1</th><th scope=col>1936b1a270b058c5754be0addc7c7c31</th><th scope=col>cf3b465ae342367687f3fa74da2c46f0</th><th scope=col>6668cc03267d4f04b5a34d676c1db57a</th><th scope=col>6e9321684640a05dd16b7bc01b98c14a</th><th scope=col>0c59c44aeb355d3aa4dfa33ac4e77cde</th><th scope=col>2a64fe6cea748d320b2f99fe83449e46</th><th scope=col>458f7b9ac8ea99af3b251a761c878332</th><th scope=col>7950a70a07006f7c7b0c6f02c46a93af</th><th scope=col>9dd5def1c71e9aa144221be97b12d2e6</th><th scope=col>⋯</th><th scope=col>95cfc3c342d1f3a2af58c49f6065b08a</th><th scope=col>f40a4552f05b5c3ca111c9886b7360a0</th><th scope=col>e50dfa4783c02bc4cbff9d9297e8d844</th><th scope=col>056a6332380b1f40d814d70adc074217</th><th scope=col>de8bd36d71e9372a6b9e16b54cefa562</th><th scope=col>569a2abee10cb7fdef315334d856b92b</th><th scope=col>890c6bb9fc8dea9dc4b756a645f4f472</th><th scope=col>b171d5cdecd235e7199d44ce8991794d</th><th scope=col>36fd5c55ad082f4d05194157da9d13da</th><th scope=col>d7dd0bdd8184f8cb7189e1e09afa97d0</th></tr>\n",
       "\t<tr><th></th><th scope=col>&lt;dbl&gt;</th><th scope=col>&lt;dbl&gt;</th><th scope=col>&lt;dbl&gt;</th><th scope=col>&lt;dbl&gt;</th><th scope=col>&lt;dbl&gt;</th><th scope=col>&lt;dbl&gt;</th><th scope=col>&lt;dbl&gt;</th><th scope=col>&lt;dbl&gt;</th><th scope=col>&lt;dbl&gt;</th><th scope=col>&lt;dbl&gt;</th><th scope=col>⋯</th><th scope=col>&lt;dbl&gt;</th><th scope=col>&lt;dbl&gt;</th><th scope=col>&lt;dbl&gt;</th><th scope=col>&lt;dbl&gt;</th><th scope=col>&lt;dbl&gt;</th><th scope=col>&lt;dbl&gt;</th><th scope=col>&lt;dbl&gt;</th><th scope=col>&lt;dbl&gt;</th><th scope=col>&lt;dbl&gt;</th><th scope=col>&lt;dbl&gt;</th></tr>\n",
       "</thead>\n",
       "<tbody>\n",
       "\t<tr><th scope=row>F14_Common_Bream</th><td>0</td><td>0</td><td>0</td><td>0</td><td>0</td><td>0</td><td>0</td><td>0</td><td>0</td><td>0</td><td>⋯</td><td>0</td><td>0</td><td>0</td><td>0</td><td>0</td><td>0</td><td>0</td><td>0</td><td>0</td><td> 0</td></tr>\n",
       "\t<tr><th scope=row>F35_Red_Deer</th><td>0</td><td>0</td><td>0</td><td>0</td><td>0</td><td>0</td><td>0</td><td>0</td><td>0</td><td>0</td><td>⋯</td><td>0</td><td>0</td><td>0</td><td>0</td><td>0</td><td>0</td><td>0</td><td>0</td><td>0</td><td>61</td></tr>\n",
       "\t<tr><th scope=row>⋮</th><td>⋮</td><td>⋮</td><td>⋮</td><td>⋮</td><td>⋮</td><td>⋮</td><td>⋮</td><td>⋮</td><td>⋮</td><td>⋮</td><td>⋱</td><td>⋮</td><td>⋮</td><td>⋮</td><td>⋮</td><td>⋮</td><td>⋮</td><td>⋮</td><td>⋮</td><td>⋮</td><td>⋮</td></tr>\n",
       "\t<tr><th scope=row>X431_Quagga</th><td>0</td><td>0</td><td>0</td><td>0</td><td>0</td><td>0</td><td>0</td><td>0</td><td>0</td><td>0</td><td>⋯</td><td>0</td><td>0</td><td>0</td><td>0</td><td>0</td><td>0</td><td>0</td><td>0</td><td>0</td><td>0</td></tr>\n",
       "\t<tr><th scope=row>X67_European_Roe</th><td>0</td><td>0</td><td>0</td><td>0</td><td>0</td><td>0</td><td>0</td><td>0</td><td>0</td><td>0</td><td>⋯</td><td>0</td><td>0</td><td>0</td><td>0</td><td>0</td><td>0</td><td>0</td><td>0</td><td>0</td><td>0</td></tr>\n",
       "</tbody>\n",
       "</table>\n"
      ],
      "text/latex": [
       "A data.frame: 185 × 377\n",
       "\\begin{tabular}{r|lllllllllllllllllllll}\n",
       "  & c5fbed2bb10ab3a08275a92e9caea3c1 & 1936b1a270b058c5754be0addc7c7c31 & cf3b465ae342367687f3fa74da2c46f0 & 6668cc03267d4f04b5a34d676c1db57a & 6e9321684640a05dd16b7bc01b98c14a & 0c59c44aeb355d3aa4dfa33ac4e77cde & 2a64fe6cea748d320b2f99fe83449e46 & 458f7b9ac8ea99af3b251a761c878332 & 7950a70a07006f7c7b0c6f02c46a93af & 9dd5def1c71e9aa144221be97b12d2e6 & ⋯ & 95cfc3c342d1f3a2af58c49f6065b08a & f40a4552f05b5c3ca111c9886b7360a0 & e50dfa4783c02bc4cbff9d9297e8d844 & 056a6332380b1f40d814d70adc074217 & de8bd36d71e9372a6b9e16b54cefa562 & 569a2abee10cb7fdef315334d856b92b & 890c6bb9fc8dea9dc4b756a645f4f472 & b171d5cdecd235e7199d44ce8991794d & 36fd5c55ad082f4d05194157da9d13da & d7dd0bdd8184f8cb7189e1e09afa97d0\\\\\n",
       "  & <dbl> & <dbl> & <dbl> & <dbl> & <dbl> & <dbl> & <dbl> & <dbl> & <dbl> & <dbl> & ⋯ & <dbl> & <dbl> & <dbl> & <dbl> & <dbl> & <dbl> & <dbl> & <dbl> & <dbl> & <dbl>\\\\\n",
       "\\hline\n",
       "\tF14\\_Common\\_Bream & 0 & 0 & 0 & 0 & 0 & 0 & 0 & 0 & 0 & 0 & ⋯ & 0 & 0 & 0 & 0 & 0 & 0 & 0 & 0 & 0 &  0\\\\\n",
       "\tF35\\_Red\\_Deer & 0 & 0 & 0 & 0 & 0 & 0 & 0 & 0 & 0 & 0 & ⋯ & 0 & 0 & 0 & 0 & 0 & 0 & 0 & 0 & 0 & 61\\\\\n",
       "\t⋮ & ⋮ & ⋮ & ⋮ & ⋮ & ⋮ & ⋮ & ⋮ & ⋮ & ⋮ & ⋮ & ⋱ & ⋮ & ⋮ & ⋮ & ⋮ & ⋮ & ⋮ & ⋮ & ⋮ & ⋮ & ⋮\\\\\n",
       "\tX431\\_Quagga & 0 & 0 & 0 & 0 & 0 & 0 & 0 & 0 & 0 & 0 & ⋯ & 0 & 0 & 0 & 0 & 0 & 0 & 0 & 0 & 0 & 0\\\\\n",
       "\tX67\\_European\\_Roe & 0 & 0 & 0 & 0 & 0 & 0 & 0 & 0 & 0 & 0 & ⋯ & 0 & 0 & 0 & 0 & 0 & 0 & 0 & 0 & 0 & 0\\\\\n",
       "\\end{tabular}\n"
      ],
      "text/markdown": [
       "\n",
       "A data.frame: 185 × 377\n",
       "\n",
       "| <!--/--> | c5fbed2bb10ab3a08275a92e9caea3c1 &lt;dbl&gt; | 1936b1a270b058c5754be0addc7c7c31 &lt;dbl&gt; | cf3b465ae342367687f3fa74da2c46f0 &lt;dbl&gt; | 6668cc03267d4f04b5a34d676c1db57a &lt;dbl&gt; | 6e9321684640a05dd16b7bc01b98c14a &lt;dbl&gt; | 0c59c44aeb355d3aa4dfa33ac4e77cde &lt;dbl&gt; | 2a64fe6cea748d320b2f99fe83449e46 &lt;dbl&gt; | 458f7b9ac8ea99af3b251a761c878332 &lt;dbl&gt; | 7950a70a07006f7c7b0c6f02c46a93af &lt;dbl&gt; | 9dd5def1c71e9aa144221be97b12d2e6 &lt;dbl&gt; | ⋯ ⋯ | 95cfc3c342d1f3a2af58c49f6065b08a &lt;dbl&gt; | f40a4552f05b5c3ca111c9886b7360a0 &lt;dbl&gt; | e50dfa4783c02bc4cbff9d9297e8d844 &lt;dbl&gt; | 056a6332380b1f40d814d70adc074217 &lt;dbl&gt; | de8bd36d71e9372a6b9e16b54cefa562 &lt;dbl&gt; | 569a2abee10cb7fdef315334d856b92b &lt;dbl&gt; | 890c6bb9fc8dea9dc4b756a645f4f472 &lt;dbl&gt; | b171d5cdecd235e7199d44ce8991794d &lt;dbl&gt; | 36fd5c55ad082f4d05194157da9d13da &lt;dbl&gt; | d7dd0bdd8184f8cb7189e1e09afa97d0 &lt;dbl&gt; |\n",
       "|---|---|---|---|---|---|---|---|---|---|---|---|---|---|---|---|---|---|---|---|---|---|\n",
       "| F14_Common_Bream | 0 | 0 | 0 | 0 | 0 | 0 | 0 | 0 | 0 | 0 | ⋯ | 0 | 0 | 0 | 0 | 0 | 0 | 0 | 0 | 0 |  0 |\n",
       "| F35_Red_Deer | 0 | 0 | 0 | 0 | 0 | 0 | 0 | 0 | 0 | 0 | ⋯ | 0 | 0 | 0 | 0 | 0 | 0 | 0 | 0 | 0 | 61 |\n",
       "| ⋮ | ⋮ | ⋮ | ⋮ | ⋮ | ⋮ | ⋮ | ⋮ | ⋮ | ⋮ | ⋮ | ⋱ | ⋮ | ⋮ | ⋮ | ⋮ | ⋮ | ⋮ | ⋮ | ⋮ | ⋮ | ⋮ |\n",
       "| X431_Quagga | 0 | 0 | 0 | 0 | 0 | 0 | 0 | 0 | 0 | 0 | ⋯ | 0 | 0 | 0 | 0 | 0 | 0 | 0 | 0 | 0 | 0 |\n",
       "| X67_European_Roe | 0 | 0 | 0 | 0 | 0 | 0 | 0 | 0 | 0 | 0 | ⋯ | 0 | 0 | 0 | 0 | 0 | 0 | 0 | 0 | 0 | 0 |\n",
       "\n"
      ],
      "text/plain": [
       "                 c5fbed2bb10ab3a08275a92e9caea3c1\n",
       "F14_Common_Bream 0                               \n",
       "F35_Red_Deer     0                               \n",
       "⋮                ⋮                               \n",
       "X431_Quagga      0                               \n",
       "X67_European_Roe 0                               \n",
       "                 1936b1a270b058c5754be0addc7c7c31\n",
       "F14_Common_Bream 0                               \n",
       "F35_Red_Deer     0                               \n",
       "⋮                ⋮                               \n",
       "X431_Quagga      0                               \n",
       "X67_European_Roe 0                               \n",
       "                 cf3b465ae342367687f3fa74da2c46f0\n",
       "F14_Common_Bream 0                               \n",
       "F35_Red_Deer     0                               \n",
       "⋮                ⋮                               \n",
       "X431_Quagga      0                               \n",
       "X67_European_Roe 0                               \n",
       "                 6668cc03267d4f04b5a34d676c1db57a\n",
       "F14_Common_Bream 0                               \n",
       "F35_Red_Deer     0                               \n",
       "⋮                ⋮                               \n",
       "X431_Quagga      0                               \n",
       "X67_European_Roe 0                               \n",
       "                 6e9321684640a05dd16b7bc01b98c14a\n",
       "F14_Common_Bream 0                               \n",
       "F35_Red_Deer     0                               \n",
       "⋮                ⋮                               \n",
       "X431_Quagga      0                               \n",
       "X67_European_Roe 0                               \n",
       "                 0c59c44aeb355d3aa4dfa33ac4e77cde\n",
       "F14_Common_Bream 0                               \n",
       "F35_Red_Deer     0                               \n",
       "⋮                ⋮                               \n",
       "X431_Quagga      0                               \n",
       "X67_European_Roe 0                               \n",
       "                 2a64fe6cea748d320b2f99fe83449e46\n",
       "F14_Common_Bream 0                               \n",
       "F35_Red_Deer     0                               \n",
       "⋮                ⋮                               \n",
       "X431_Quagga      0                               \n",
       "X67_European_Roe 0                               \n",
       "                 458f7b9ac8ea99af3b251a761c878332\n",
       "F14_Common_Bream 0                               \n",
       "F35_Red_Deer     0                               \n",
       "⋮                ⋮                               \n",
       "X431_Quagga      0                               \n",
       "X67_European_Roe 0                               \n",
       "                 7950a70a07006f7c7b0c6f02c46a93af\n",
       "F14_Common_Bream 0                               \n",
       "F35_Red_Deer     0                               \n",
       "⋮                ⋮                               \n",
       "X431_Quagga      0                               \n",
       "X67_European_Roe 0                               \n",
       "                 9dd5def1c71e9aa144221be97b12d2e6 ⋯\n",
       "F14_Common_Bream 0                                ⋯\n",
       "F35_Red_Deer     0                                ⋯\n",
       "⋮                ⋮                                ⋱\n",
       "X431_Quagga      0                                ⋯\n",
       "X67_European_Roe 0                                ⋯\n",
       "                 95cfc3c342d1f3a2af58c49f6065b08a\n",
       "F14_Common_Bream 0                               \n",
       "F35_Red_Deer     0                               \n",
       "⋮                ⋮                               \n",
       "X431_Quagga      0                               \n",
       "X67_European_Roe 0                               \n",
       "                 f40a4552f05b5c3ca111c9886b7360a0\n",
       "F14_Common_Bream 0                               \n",
       "F35_Red_Deer     0                               \n",
       "⋮                ⋮                               \n",
       "X431_Quagga      0                               \n",
       "X67_European_Roe 0                               \n",
       "                 e50dfa4783c02bc4cbff9d9297e8d844\n",
       "F14_Common_Bream 0                               \n",
       "F35_Red_Deer     0                               \n",
       "⋮                ⋮                               \n",
       "X431_Quagga      0                               \n",
       "X67_European_Roe 0                               \n",
       "                 056a6332380b1f40d814d70adc074217\n",
       "F14_Common_Bream 0                               \n",
       "F35_Red_Deer     0                               \n",
       "⋮                ⋮                               \n",
       "X431_Quagga      0                               \n",
       "X67_European_Roe 0                               \n",
       "                 de8bd36d71e9372a6b9e16b54cefa562\n",
       "F14_Common_Bream 0                               \n",
       "F35_Red_Deer     0                               \n",
       "⋮                ⋮                               \n",
       "X431_Quagga      0                               \n",
       "X67_European_Roe 0                               \n",
       "                 569a2abee10cb7fdef315334d856b92b\n",
       "F14_Common_Bream 0                               \n",
       "F35_Red_Deer     0                               \n",
       "⋮                ⋮                               \n",
       "X431_Quagga      0                               \n",
       "X67_European_Roe 0                               \n",
       "                 890c6bb9fc8dea9dc4b756a645f4f472\n",
       "F14_Common_Bream 0                               \n",
       "F35_Red_Deer     0                               \n",
       "⋮                ⋮                               \n",
       "X431_Quagga      0                               \n",
       "X67_European_Roe 0                               \n",
       "                 b171d5cdecd235e7199d44ce8991794d\n",
       "F14_Common_Bream 0                               \n",
       "F35_Red_Deer     0                               \n",
       "⋮                ⋮                               \n",
       "X431_Quagga      0                               \n",
       "X67_European_Roe 0                               \n",
       "                 36fd5c55ad082f4d05194157da9d13da\n",
       "F14_Common_Bream 0                               \n",
       "F35_Red_Deer     0                               \n",
       "⋮                ⋮                               \n",
       "X431_Quagga      0                               \n",
       "X67_European_Roe 0                               \n",
       "                 d7dd0bdd8184f8cb7189e1e09afa97d0\n",
       "F14_Common_Bream  0                              \n",
       "F35_Red_Deer     61                              \n",
       "⋮                ⋮                               \n",
       "X431_Quagga      0                               \n",
       "X67_European_Roe 0                               "
      ]
     },
     "metadata": {},
     "output_type": "display_data"
    }
   ],
   "source": [
    "# otu table\n",
    "otu = physeq_arch_IndD %>%\n",
    "    phyloseq2df(otu_table) %>%\n",
    "    as.data.frame\n",
    "rownames(otu) = otu$OTU\n",
    "otu$OTU = NULL\n",
    "otu = otu %>% t %>% as.data.frame\n",
    "otu"
   ]
  },
  {
   "cell_type": "markdown",
   "metadata": {},
   "source": [
    "## Zero estimation"
   ]
  },
  {
   "cell_type": "code",
   "execution_count": 18,
   "metadata": {
    "ExecuteTime": {
     "end_time": "2020-06-18T11:52:03.513496Z",
     "start_time": "2020-06-18T11:52:03.050Z"
    }
   },
   "outputs": [
    {
     "data": {
      "text/html": [
       "<table>\n",
       "<caption>A matrix: 1 × 8 of type dbl</caption>\n",
       "<thead>\n",
       "\t<tr><th></th><th scope=col>Min.</th><th scope=col>1st Qu.</th><th scope=col>Median</th><th scope=col>Mean</th><th scope=col>3rd Qu.</th><th scope=col>Max.</th><th scope=col>sd</th><th scope=col>sd_err_of_mean</th></tr>\n",
       "</thead>\n",
       "<tbody>\n",
       "\t<tr><th scope=row>sparsity</th><td>86.47215</td><td>94.69496</td><td>96.28647</td><td>95.90508</td><td>97.61273</td><td>99.73475</td><td>4.571</td><td>1.866</td></tr>\n",
       "</tbody>\n",
       "</table>\n"
      ],
      "text/latex": [
       "A matrix: 1 × 8 of type dbl\n",
       "\\begin{tabular}{r|llllllll}\n",
       "  & Min. & 1st Qu. & Median & Mean & 3rd Qu. & Max. & sd & sd\\_err\\_of\\_mean\\\\\n",
       "\\hline\n",
       "\tsparsity & 86.47215 & 94.69496 & 96.28647 & 95.90508 & 97.61273 & 99.73475 & 4.571 & 1.866\\\\\n",
       "\\end{tabular}\n"
      ],
      "text/markdown": [
       "\n",
       "A matrix: 1 × 8 of type dbl\n",
       "\n",
       "| <!--/--> | Min. | 1st Qu. | Median | Mean | 3rd Qu. | Max. | sd | sd_err_of_mean |\n",
       "|---|---|---|---|---|---|---|---|---|\n",
       "| sparsity | 86.47215 | 94.69496 | 96.28647 | 95.90508 | 97.61273 | 99.73475 | 4.571 | 1.866 |\n",
       "\n"
      ],
      "text/plain": [
       "         Min.     1st Qu.  Median   Mean     3rd Qu.  Max.     sd   \n",
       "sparsity 86.47215 94.69496 96.28647 95.90508 97.61273 99.73475 4.571\n",
       "         sd_err_of_mean\n",
       "sparsity 1.866         "
      ]
     },
     "metadata": {},
     "output_type": "display_data"
    }
   ],
   "source": [
    "# sparsity (%)\n",
    "otu %>%\n",
    "    apply(1, function(x) sum(x == 0) / length(x) * 100) %>%\n",
    "    summary_x('sparsity')"
   ]
  },
  {
   "cell_type": "code",
   "execution_count": 19,
   "metadata": {
    "ExecuteTime": {
     "end_time": "2020-06-18T11:52:08.136982Z",
     "start_time": "2020-06-18T11:52:04.051Z"
    }
   },
   "outputs": [
    {
     "name": "stdout",
     "output_type": "stream",
     "text": [
      "No. corrected values:  4764 \n"
     ]
    },
    {
     "data": {
      "text/html": [
       "<table>\n",
       "<caption>A data.frame: 185 × 377</caption>\n",
       "<thead>\n",
       "\t<tr><th></th><th scope=col>c5fbed2bb10ab3a08275a92e9caea3c1</th><th scope=col>1936b1a270b058c5754be0addc7c7c31</th><th scope=col>cf3b465ae342367687f3fa74da2c46f0</th><th scope=col>6668cc03267d4f04b5a34d676c1db57a</th><th scope=col>6e9321684640a05dd16b7bc01b98c14a</th><th scope=col>0c59c44aeb355d3aa4dfa33ac4e77cde</th><th scope=col>2a64fe6cea748d320b2f99fe83449e46</th><th scope=col>458f7b9ac8ea99af3b251a761c878332</th><th scope=col>7950a70a07006f7c7b0c6f02c46a93af</th><th scope=col>9dd5def1c71e9aa144221be97b12d2e6</th><th scope=col>⋯</th><th scope=col>95cfc3c342d1f3a2af58c49f6065b08a</th><th scope=col>f40a4552f05b5c3ca111c9886b7360a0</th><th scope=col>e50dfa4783c02bc4cbff9d9297e8d844</th><th scope=col>056a6332380b1f40d814d70adc074217</th><th scope=col>de8bd36d71e9372a6b9e16b54cefa562</th><th scope=col>569a2abee10cb7fdef315334d856b92b</th><th scope=col>890c6bb9fc8dea9dc4b756a645f4f472</th><th scope=col>b171d5cdecd235e7199d44ce8991794d</th><th scope=col>36fd5c55ad082f4d05194157da9d13da</th><th scope=col>d7dd0bdd8184f8cb7189e1e09afa97d0</th></tr>\n",
       "\t<tr><th></th><th scope=col>&lt;dbl&gt;</th><th scope=col>&lt;dbl&gt;</th><th scope=col>&lt;dbl&gt;</th><th scope=col>&lt;dbl&gt;</th><th scope=col>&lt;dbl&gt;</th><th scope=col>&lt;dbl&gt;</th><th scope=col>&lt;dbl&gt;</th><th scope=col>&lt;dbl&gt;</th><th scope=col>&lt;dbl&gt;</th><th scope=col>&lt;dbl&gt;</th><th scope=col>⋯</th><th scope=col>&lt;dbl&gt;</th><th scope=col>&lt;dbl&gt;</th><th scope=col>&lt;dbl&gt;</th><th scope=col>&lt;dbl&gt;</th><th scope=col>&lt;dbl&gt;</th><th scope=col>&lt;dbl&gt;</th><th scope=col>&lt;dbl&gt;</th><th scope=col>&lt;dbl&gt;</th><th scope=col>&lt;dbl&gt;</th><th scope=col>&lt;dbl&gt;</th></tr>\n",
       "</thead>\n",
       "<tbody>\n",
       "\t<tr><th scope=row>F14_Common_Bream</th><td>0.2695234</td><td>0.3277987</td><td>0.04127835</td><td>0.1966792</td><td>0.3909303</td><td>0.4831995</td><td>0.1602571</td><td>0.1675415</td><td>0.5414748</td><td>0.2258169</td><td>⋯</td><td>0.02670952</td><td>2.878422</td><td>12.11641</td><td>4.822283</td><td>0.09226926</td><td>0.08255670</td><td> 9.13987</td><td>4.516788</td><td>1.146081</td><td> 0.473487</td></tr>\n",
       "\t<tr><th scope=row>F35_Red_Deer</th><td>0.2773891</td><td>0.3373651</td><td>0.04248301</td><td>0.2024191</td><td>0.4023391</td><td>0.4973011</td><td>0.1649340</td><td>0.1724310</td><td>0.5572771</td><td>0.2324071</td><td>⋯</td><td>0.02748901</td><td>3.366608</td><td>12.47001</td><td>4.963015</td><td>0.09496202</td><td>0.08496602</td><td>10.69001</td><td>5.282844</td><td>1.179528</td><td>61.000000</td></tr>\n",
       "\t<tr><th scope=row>⋮</th><td>⋮</td><td>⋮</td><td>⋮</td><td>⋮</td><td>⋮</td><td>⋮</td><td>⋮</td><td>⋮</td><td>⋮</td><td>⋮</td><td>⋱</td><td>⋮</td><td>⋮</td><td>⋮</td><td>⋮</td><td>⋮</td><td>⋮</td><td>⋮</td><td>⋮</td><td>⋮</td><td>⋮</td></tr>\n",
       "\t<tr><th scope=row>X431_Quagga</th><td>0.3108877</td><td>0.3781067</td><td>0.04761344</td><td>0.2268640</td><td>0.4509272</td><td>0.5573573</td><td>0.1848522</td><td>0.1932545</td><td>0.6245763</td><td>0.2604735</td><td>⋯</td><td>0.03080869</td><td>4.569213</td><td>13.975944</td><td>5.562370</td><td>0.10643003</td><td>0.09522687</td><td>14.508648</td><td>7.169959</td><td>1.3219731</td><td>0.5461541</td></tr>\n",
       "\t<tr><th scope=row>X67_European_Roe</th><td>0.2029716</td><td>0.2468573</td><td>0.03108574</td><td>0.1481144</td><td>0.2944002</td><td>0.3638860</td><td>0.1206858</td><td>0.1261715</td><td>0.4077717</td><td>0.1700573</td><td>⋯</td><td>0.02011430</td><td>1.676119</td><td> 4.732914</td><td>3.631546</td><td>0.06948577</td><td>0.06217148</td><td> 5.322192</td><td>2.630148</td><td>0.8630864</td><td>0.3565717</td></tr>\n",
       "</tbody>\n",
       "</table>\n"
      ],
      "text/latex": [
       "A data.frame: 185 × 377\n",
       "\\begin{tabular}{r|lllllllllllllllllllll}\n",
       "  & c5fbed2bb10ab3a08275a92e9caea3c1 & 1936b1a270b058c5754be0addc7c7c31 & cf3b465ae342367687f3fa74da2c46f0 & 6668cc03267d4f04b5a34d676c1db57a & 6e9321684640a05dd16b7bc01b98c14a & 0c59c44aeb355d3aa4dfa33ac4e77cde & 2a64fe6cea748d320b2f99fe83449e46 & 458f7b9ac8ea99af3b251a761c878332 & 7950a70a07006f7c7b0c6f02c46a93af & 9dd5def1c71e9aa144221be97b12d2e6 & ⋯ & 95cfc3c342d1f3a2af58c49f6065b08a & f40a4552f05b5c3ca111c9886b7360a0 & e50dfa4783c02bc4cbff9d9297e8d844 & 056a6332380b1f40d814d70adc074217 & de8bd36d71e9372a6b9e16b54cefa562 & 569a2abee10cb7fdef315334d856b92b & 890c6bb9fc8dea9dc4b756a645f4f472 & b171d5cdecd235e7199d44ce8991794d & 36fd5c55ad082f4d05194157da9d13da & d7dd0bdd8184f8cb7189e1e09afa97d0\\\\\n",
       "  & <dbl> & <dbl> & <dbl> & <dbl> & <dbl> & <dbl> & <dbl> & <dbl> & <dbl> & <dbl> & ⋯ & <dbl> & <dbl> & <dbl> & <dbl> & <dbl> & <dbl> & <dbl> & <dbl> & <dbl> & <dbl>\\\\\n",
       "\\hline\n",
       "\tF14\\_Common\\_Bream & 0.2695234 & 0.3277987 & 0.04127835 & 0.1966792 & 0.3909303 & 0.4831995 & 0.1602571 & 0.1675415 & 0.5414748 & 0.2258169 & ⋯ & 0.02670952 & 2.878422 & 12.11641 & 4.822283 & 0.09226926 & 0.08255670 &  9.13987 & 4.516788 & 1.146081 &  0.473487\\\\\n",
       "\tF35\\_Red\\_Deer & 0.2773891 & 0.3373651 & 0.04248301 & 0.2024191 & 0.4023391 & 0.4973011 & 0.1649340 & 0.1724310 & 0.5572771 & 0.2324071 & ⋯ & 0.02748901 & 3.366608 & 12.47001 & 4.963015 & 0.09496202 & 0.08496602 & 10.69001 & 5.282844 & 1.179528 & 61.000000\\\\\n",
       "\t⋮ & ⋮ & ⋮ & ⋮ & ⋮ & ⋮ & ⋮ & ⋮ & ⋮ & ⋮ & ⋮ & ⋱ & ⋮ & ⋮ & ⋮ & ⋮ & ⋮ & ⋮ & ⋮ & ⋮ & ⋮ & ⋮\\\\\n",
       "\tX431\\_Quagga & 0.3108877 & 0.3781067 & 0.04761344 & 0.2268640 & 0.4509272 & 0.5573573 & 0.1848522 & 0.1932545 & 0.6245763 & 0.2604735 & ⋯ & 0.03080869 & 4.569213 & 13.975944 & 5.562370 & 0.10643003 & 0.09522687 & 14.508648 & 7.169959 & 1.3219731 & 0.5461541\\\\\n",
       "\tX67\\_European\\_Roe & 0.2029716 & 0.2468573 & 0.03108574 & 0.1481144 & 0.2944002 & 0.3638860 & 0.1206858 & 0.1261715 & 0.4077717 & 0.1700573 & ⋯ & 0.02011430 & 1.676119 &  4.732914 & 3.631546 & 0.06948577 & 0.06217148 &  5.322192 & 2.630148 & 0.8630864 & 0.3565717\\\\\n",
       "\\end{tabular}\n"
      ],
      "text/markdown": [
       "\n",
       "A data.frame: 185 × 377\n",
       "\n",
       "| <!--/--> | c5fbed2bb10ab3a08275a92e9caea3c1 &lt;dbl&gt; | 1936b1a270b058c5754be0addc7c7c31 &lt;dbl&gt; | cf3b465ae342367687f3fa74da2c46f0 &lt;dbl&gt; | 6668cc03267d4f04b5a34d676c1db57a &lt;dbl&gt; | 6e9321684640a05dd16b7bc01b98c14a &lt;dbl&gt; | 0c59c44aeb355d3aa4dfa33ac4e77cde &lt;dbl&gt; | 2a64fe6cea748d320b2f99fe83449e46 &lt;dbl&gt; | 458f7b9ac8ea99af3b251a761c878332 &lt;dbl&gt; | 7950a70a07006f7c7b0c6f02c46a93af &lt;dbl&gt; | 9dd5def1c71e9aa144221be97b12d2e6 &lt;dbl&gt; | ⋯ ⋯ | 95cfc3c342d1f3a2af58c49f6065b08a &lt;dbl&gt; | f40a4552f05b5c3ca111c9886b7360a0 &lt;dbl&gt; | e50dfa4783c02bc4cbff9d9297e8d844 &lt;dbl&gt; | 056a6332380b1f40d814d70adc074217 &lt;dbl&gt; | de8bd36d71e9372a6b9e16b54cefa562 &lt;dbl&gt; | 569a2abee10cb7fdef315334d856b92b &lt;dbl&gt; | 890c6bb9fc8dea9dc4b756a645f4f472 &lt;dbl&gt; | b171d5cdecd235e7199d44ce8991794d &lt;dbl&gt; | 36fd5c55ad082f4d05194157da9d13da &lt;dbl&gt; | d7dd0bdd8184f8cb7189e1e09afa97d0 &lt;dbl&gt; |\n",
       "|---|---|---|---|---|---|---|---|---|---|---|---|---|---|---|---|---|---|---|---|---|---|\n",
       "| F14_Common_Bream | 0.2695234 | 0.3277987 | 0.04127835 | 0.1966792 | 0.3909303 | 0.4831995 | 0.1602571 | 0.1675415 | 0.5414748 | 0.2258169 | ⋯ | 0.02670952 | 2.878422 | 12.11641 | 4.822283 | 0.09226926 | 0.08255670 |  9.13987 | 4.516788 | 1.146081 |  0.473487 |\n",
       "| F35_Red_Deer | 0.2773891 | 0.3373651 | 0.04248301 | 0.2024191 | 0.4023391 | 0.4973011 | 0.1649340 | 0.1724310 | 0.5572771 | 0.2324071 | ⋯ | 0.02748901 | 3.366608 | 12.47001 | 4.963015 | 0.09496202 | 0.08496602 | 10.69001 | 5.282844 | 1.179528 | 61.000000 |\n",
       "| ⋮ | ⋮ | ⋮ | ⋮ | ⋮ | ⋮ | ⋮ | ⋮ | ⋮ | ⋮ | ⋮ | ⋱ | ⋮ | ⋮ | ⋮ | ⋮ | ⋮ | ⋮ | ⋮ | ⋮ | ⋮ | ⋮ |\n",
       "| X431_Quagga | 0.3108877 | 0.3781067 | 0.04761344 | 0.2268640 | 0.4509272 | 0.5573573 | 0.1848522 | 0.1932545 | 0.6245763 | 0.2604735 | ⋯ | 0.03080869 | 4.569213 | 13.975944 | 5.562370 | 0.10643003 | 0.09522687 | 14.508648 | 7.169959 | 1.3219731 | 0.5461541 |\n",
       "| X67_European_Roe | 0.2029716 | 0.2468573 | 0.03108574 | 0.1481144 | 0.2944002 | 0.3638860 | 0.1206858 | 0.1261715 | 0.4077717 | 0.1700573 | ⋯ | 0.02011430 | 1.676119 |  4.732914 | 3.631546 | 0.06948577 | 0.06217148 |  5.322192 | 2.630148 | 0.8630864 | 0.3565717 |\n",
       "\n"
      ],
      "text/plain": [
       "                 c5fbed2bb10ab3a08275a92e9caea3c1\n",
       "F14_Common_Bream 0.2695234                       \n",
       "F35_Red_Deer     0.2773891                       \n",
       "⋮                ⋮                               \n",
       "X431_Quagga      0.3108877                       \n",
       "X67_European_Roe 0.2029716                       \n",
       "                 1936b1a270b058c5754be0addc7c7c31\n",
       "F14_Common_Bream 0.3277987                       \n",
       "F35_Red_Deer     0.3373651                       \n",
       "⋮                ⋮                               \n",
       "X431_Quagga      0.3781067                       \n",
       "X67_European_Roe 0.2468573                       \n",
       "                 cf3b465ae342367687f3fa74da2c46f0\n",
       "F14_Common_Bream 0.04127835                      \n",
       "F35_Red_Deer     0.04248301                      \n",
       "⋮                ⋮                               \n",
       "X431_Quagga      0.04761344                      \n",
       "X67_European_Roe 0.03108574                      \n",
       "                 6668cc03267d4f04b5a34d676c1db57a\n",
       "F14_Common_Bream 0.1966792                       \n",
       "F35_Red_Deer     0.2024191                       \n",
       "⋮                ⋮                               \n",
       "X431_Quagga      0.2268640                       \n",
       "X67_European_Roe 0.1481144                       \n",
       "                 6e9321684640a05dd16b7bc01b98c14a\n",
       "F14_Common_Bream 0.3909303                       \n",
       "F35_Red_Deer     0.4023391                       \n",
       "⋮                ⋮                               \n",
       "X431_Quagga      0.4509272                       \n",
       "X67_European_Roe 0.2944002                       \n",
       "                 0c59c44aeb355d3aa4dfa33ac4e77cde\n",
       "F14_Common_Bream 0.4831995                       \n",
       "F35_Red_Deer     0.4973011                       \n",
       "⋮                ⋮                               \n",
       "X431_Quagga      0.5573573                       \n",
       "X67_European_Roe 0.3638860                       \n",
       "                 2a64fe6cea748d320b2f99fe83449e46\n",
       "F14_Common_Bream 0.1602571                       \n",
       "F35_Red_Deer     0.1649340                       \n",
       "⋮                ⋮                               \n",
       "X431_Quagga      0.1848522                       \n",
       "X67_European_Roe 0.1206858                       \n",
       "                 458f7b9ac8ea99af3b251a761c878332\n",
       "F14_Common_Bream 0.1675415                       \n",
       "F35_Red_Deer     0.1724310                       \n",
       "⋮                ⋮                               \n",
       "X431_Quagga      0.1932545                       \n",
       "X67_European_Roe 0.1261715                       \n",
       "                 7950a70a07006f7c7b0c6f02c46a93af\n",
       "F14_Common_Bream 0.5414748                       \n",
       "F35_Red_Deer     0.5572771                       \n",
       "⋮                ⋮                               \n",
       "X431_Quagga      0.6245763                       \n",
       "X67_European_Roe 0.4077717                       \n",
       "                 9dd5def1c71e9aa144221be97b12d2e6 ⋯\n",
       "F14_Common_Bream 0.2258169                        ⋯\n",
       "F35_Red_Deer     0.2324071                        ⋯\n",
       "⋮                ⋮                                ⋱\n",
       "X431_Quagga      0.2604735                        ⋯\n",
       "X67_European_Roe 0.1700573                        ⋯\n",
       "                 95cfc3c342d1f3a2af58c49f6065b08a\n",
       "F14_Common_Bream 0.02670952                      \n",
       "F35_Red_Deer     0.02748901                      \n",
       "⋮                ⋮                               \n",
       "X431_Quagga      0.03080869                      \n",
       "X67_European_Roe 0.02011430                      \n",
       "                 f40a4552f05b5c3ca111c9886b7360a0\n",
       "F14_Common_Bream 2.878422                        \n",
       "F35_Red_Deer     3.366608                        \n",
       "⋮                ⋮                               \n",
       "X431_Quagga      4.569213                        \n",
       "X67_European_Roe 1.676119                        \n",
       "                 e50dfa4783c02bc4cbff9d9297e8d844\n",
       "F14_Common_Bream 12.11641                        \n",
       "F35_Red_Deer     12.47001                        \n",
       "⋮                ⋮                               \n",
       "X431_Quagga      13.975944                       \n",
       "X67_European_Roe  4.732914                       \n",
       "                 056a6332380b1f40d814d70adc074217\n",
       "F14_Common_Bream 4.822283                        \n",
       "F35_Red_Deer     4.963015                        \n",
       "⋮                ⋮                               \n",
       "X431_Quagga      5.562370                        \n",
       "X67_European_Roe 3.631546                        \n",
       "                 de8bd36d71e9372a6b9e16b54cefa562\n",
       "F14_Common_Bream 0.09226926                      \n",
       "F35_Red_Deer     0.09496202                      \n",
       "⋮                ⋮                               \n",
       "X431_Quagga      0.10643003                      \n",
       "X67_European_Roe 0.06948577                      \n",
       "                 569a2abee10cb7fdef315334d856b92b\n",
       "F14_Common_Bream 0.08255670                      \n",
       "F35_Red_Deer     0.08496602                      \n",
       "⋮                ⋮                               \n",
       "X431_Quagga      0.09522687                      \n",
       "X67_European_Roe 0.06217148                      \n",
       "                 890c6bb9fc8dea9dc4b756a645f4f472\n",
       "F14_Common_Bream  9.13987                        \n",
       "F35_Red_Deer     10.69001                        \n",
       "⋮                ⋮                               \n",
       "X431_Quagga      14.508648                       \n",
       "X67_European_Roe  5.322192                       \n",
       "                 b171d5cdecd235e7199d44ce8991794d\n",
       "F14_Common_Bream 4.516788                        \n",
       "F35_Red_Deer     5.282844                        \n",
       "⋮                ⋮                               \n",
       "X431_Quagga      7.169959                        \n",
       "X67_European_Roe 2.630148                        \n",
       "                 36fd5c55ad082f4d05194157da9d13da\n",
       "F14_Common_Bream 1.146081                        \n",
       "F35_Red_Deer     1.179528                        \n",
       "⋮                ⋮                               \n",
       "X431_Quagga      1.3219731                       \n",
       "X67_European_Roe 0.8630864                       \n",
       "                 d7dd0bdd8184f8cb7189e1e09afa97d0\n",
       "F14_Common_Bream  0.473487                       \n",
       "F35_Red_Deer     61.000000                       \n",
       "⋮                ⋮                               \n",
       "X431_Quagga      0.5461541                       \n",
       "X67_European_Roe 0.3565717                       "
      ]
     },
     "metadata": {},
     "output_type": "display_data"
    }
   ],
   "source": [
    "# inferring zeros\n",
    "## warning: a bit slow\n",
    "otu = cmultRepl(otu, output = 'p-counts')\n",
    "otu"
   ]
  },
  {
   "cell_type": "markdown",
   "metadata": {},
   "source": [
    "## clr transformation"
   ]
  },
  {
   "cell_type": "code",
   "execution_count": 20,
   "metadata": {
    "ExecuteTime": {
     "end_time": "2020-06-18T11:52:08.340119Z",
     "start_time": "2020-06-18T11:52:06.604Z"
    }
   },
   "outputs": [
    {
     "data": {
      "text/html": [
       "<table>\n",
       "<caption>A data.frame: 185 × 377</caption>\n",
       "<thead>\n",
       "\t<tr><th></th><th scope=col>c5fbed2bb10ab3a08275a92e9caea3c1</th><th scope=col>1936b1a270b058c5754be0addc7c7c31</th><th scope=col>cf3b465ae342367687f3fa74da2c46f0</th><th scope=col>6668cc03267d4f04b5a34d676c1db57a</th><th scope=col>6e9321684640a05dd16b7bc01b98c14a</th><th scope=col>0c59c44aeb355d3aa4dfa33ac4e77cde</th><th scope=col>2a64fe6cea748d320b2f99fe83449e46</th><th scope=col>458f7b9ac8ea99af3b251a761c878332</th><th scope=col>7950a70a07006f7c7b0c6f02c46a93af</th><th scope=col>9dd5def1c71e9aa144221be97b12d2e6</th><th scope=col>⋯</th><th scope=col>95cfc3c342d1f3a2af58c49f6065b08a</th><th scope=col>f40a4552f05b5c3ca111c9886b7360a0</th><th scope=col>e50dfa4783c02bc4cbff9d9297e8d844</th><th scope=col>056a6332380b1f40d814d70adc074217</th><th scope=col>de8bd36d71e9372a6b9e16b54cefa562</th><th scope=col>569a2abee10cb7fdef315334d856b92b</th><th scope=col>890c6bb9fc8dea9dc4b756a645f4f472</th><th scope=col>b171d5cdecd235e7199d44ce8991794d</th><th scope=col>36fd5c55ad082f4d05194157da9d13da</th><th scope=col>d7dd0bdd8184f8cb7189e1e09afa97d0</th></tr>\n",
       "\t<tr><th></th><th scope=col>&lt;dbl&gt;</th><th scope=col>&lt;dbl&gt;</th><th scope=col>&lt;dbl&gt;</th><th scope=col>&lt;dbl&gt;</th><th scope=col>&lt;dbl&gt;</th><th scope=col>&lt;dbl&gt;</th><th scope=col>&lt;dbl&gt;</th><th scope=col>&lt;dbl&gt;</th><th scope=col>&lt;dbl&gt;</th><th scope=col>&lt;dbl&gt;</th><th scope=col>⋯</th><th scope=col>&lt;dbl&gt;</th><th scope=col>&lt;dbl&gt;</th><th scope=col>&lt;dbl&gt;</th><th scope=col>&lt;dbl&gt;</th><th scope=col>&lt;dbl&gt;</th><th scope=col>&lt;dbl&gt;</th><th scope=col>&lt;dbl&gt;</th><th scope=col>&lt;dbl&gt;</th><th scope=col>&lt;dbl&gt;</th><th scope=col>&lt;dbl&gt;</th></tr>\n",
       "</thead>\n",
       "<tbody>\n",
       "\t<tr><th scope=row>F14_Common_Bream</th><td>0.1387614</td><td>0.1419004</td><td>0.139731</td><td>0.1458316</td><td>0.102588</td><td>0.1244376</td><td>0.1165754</td><td>0.1385505</td><td>0.1216122</td><td>0.1383319</td><td>⋯</td><td>0.1381729</td><td>-0.6199650</td><td>0.2210105</td><td>-0.07582190</td><td>0.1171848</td><td>0.1358529</td><td>-0.3086362</td><td>-0.2762924</td><td>0.1044886</td><td>0.09084924</td></tr>\n",
       "\t<tr><th scope=row>F35_Red_Deer</th><td>0.1675274</td><td>0.1706665</td><td>0.168497</td><td>0.1745976</td><td>0.131354</td><td>0.1532036</td><td>0.1453414</td><td>0.1673166</td><td>0.1503782</td><td>0.1670979</td><td>⋯</td><td>0.1669390</td><td>-0.4633016</td><td>0.2497766</td><td>-0.04705585</td><td>0.1459509</td><td>0.1646190</td><td>-0.1519728</td><td>-0.1196291</td><td>0.1332547</td><td>4.94935398</td></tr>\n",
       "\t<tr><th scope=row>⋮</th><td>⋮</td><td>⋮</td><td>⋮</td><td>⋮</td><td>⋮</td><td>⋮</td><td>⋮</td><td>⋮</td><td>⋮</td><td>⋮</td><td>⋱</td><td>⋮</td><td>⋮</td><td>⋮</td><td>⋮</td><td>⋮</td><td>⋮</td><td>⋮</td><td>⋮</td><td>⋮</td><td>⋮</td></tr>\n",
       "\t<tr><th scope=row>X431_Quagga</th><td> 0.2815382</td><td> 0.2846772</td><td> 0.2825078</td><td> 0.2886084</td><td> 0.2453648</td><td> 0.2672144</td><td> 0.2593522</td><td> 0.2813273</td><td> 0.2643890</td><td> 0.2811087</td><td>⋯</td><td> 0.2809497</td><td>-0.1578663</td><td> 0.3637873</td><td> 0.0669549</td><td> 0.2599617</td><td> 0.2786297</td><td> 0.1534625</td><td> 0.1858063</td><td> 0.2472654</td><td> 0.2336260</td></tr>\n",
       "\t<tr><th scope=row>X67_European_Roe</th><td>-0.1448277</td><td>-0.1416887</td><td>-0.1438581</td><td>-0.1377575</td><td>-0.1810011</td><td>-0.1591515</td><td>-0.1670137</td><td>-0.1450385</td><td>-0.1619769</td><td>-0.1452572</td><td>⋯</td><td>-0.1454161</td><td>-1.1607260</td><td>-0.7190091</td><td>-0.3594110</td><td>-0.1664042</td><td>-0.1477362</td><td>-0.8493972</td><td>-0.8170534</td><td>-0.1791004</td><td>-0.1927398</td></tr>\n",
       "</tbody>\n",
       "</table>\n"
      ],
      "text/latex": [
       "A data.frame: 185 × 377\n",
       "\\begin{tabular}{r|lllllllllllllllllllll}\n",
       "  & c5fbed2bb10ab3a08275a92e9caea3c1 & 1936b1a270b058c5754be0addc7c7c31 & cf3b465ae342367687f3fa74da2c46f0 & 6668cc03267d4f04b5a34d676c1db57a & 6e9321684640a05dd16b7bc01b98c14a & 0c59c44aeb355d3aa4dfa33ac4e77cde & 2a64fe6cea748d320b2f99fe83449e46 & 458f7b9ac8ea99af3b251a761c878332 & 7950a70a07006f7c7b0c6f02c46a93af & 9dd5def1c71e9aa144221be97b12d2e6 & ⋯ & 95cfc3c342d1f3a2af58c49f6065b08a & f40a4552f05b5c3ca111c9886b7360a0 & e50dfa4783c02bc4cbff9d9297e8d844 & 056a6332380b1f40d814d70adc074217 & de8bd36d71e9372a6b9e16b54cefa562 & 569a2abee10cb7fdef315334d856b92b & 890c6bb9fc8dea9dc4b756a645f4f472 & b171d5cdecd235e7199d44ce8991794d & 36fd5c55ad082f4d05194157da9d13da & d7dd0bdd8184f8cb7189e1e09afa97d0\\\\\n",
       "  & <dbl> & <dbl> & <dbl> & <dbl> & <dbl> & <dbl> & <dbl> & <dbl> & <dbl> & <dbl> & ⋯ & <dbl> & <dbl> & <dbl> & <dbl> & <dbl> & <dbl> & <dbl> & <dbl> & <dbl> & <dbl>\\\\\n",
       "\\hline\n",
       "\tF14\\_Common\\_Bream & 0.1387614 & 0.1419004 & 0.139731 & 0.1458316 & 0.102588 & 0.1244376 & 0.1165754 & 0.1385505 & 0.1216122 & 0.1383319 & ⋯ & 0.1381729 & -0.6199650 & 0.2210105 & -0.07582190 & 0.1171848 & 0.1358529 & -0.3086362 & -0.2762924 & 0.1044886 & 0.09084924\\\\\n",
       "\tF35\\_Red\\_Deer & 0.1675274 & 0.1706665 & 0.168497 & 0.1745976 & 0.131354 & 0.1532036 & 0.1453414 & 0.1673166 & 0.1503782 & 0.1670979 & ⋯ & 0.1669390 & -0.4633016 & 0.2497766 & -0.04705585 & 0.1459509 & 0.1646190 & -0.1519728 & -0.1196291 & 0.1332547 & 4.94935398\\\\\n",
       "\t⋮ & ⋮ & ⋮ & ⋮ & ⋮ & ⋮ & ⋮ & ⋮ & ⋮ & ⋮ & ⋮ & ⋱ & ⋮ & ⋮ & ⋮ & ⋮ & ⋮ & ⋮ & ⋮ & ⋮ & ⋮ & ⋮\\\\\n",
       "\tX431\\_Quagga &  0.2815382 &  0.2846772 &  0.2825078 &  0.2886084 &  0.2453648 &  0.2672144 &  0.2593522 &  0.2813273 &  0.2643890 &  0.2811087 & ⋯ &  0.2809497 & -0.1578663 &  0.3637873 &  0.0669549 &  0.2599617 &  0.2786297 &  0.1534625 &  0.1858063 &  0.2472654 &  0.2336260\\\\\n",
       "\tX67\\_European\\_Roe & -0.1448277 & -0.1416887 & -0.1438581 & -0.1377575 & -0.1810011 & -0.1591515 & -0.1670137 & -0.1450385 & -0.1619769 & -0.1452572 & ⋯ & -0.1454161 & -1.1607260 & -0.7190091 & -0.3594110 & -0.1664042 & -0.1477362 & -0.8493972 & -0.8170534 & -0.1791004 & -0.1927398\\\\\n",
       "\\end{tabular}\n"
      ],
      "text/markdown": [
       "\n",
       "A data.frame: 185 × 377\n",
       "\n",
       "| <!--/--> | c5fbed2bb10ab3a08275a92e9caea3c1 &lt;dbl&gt; | 1936b1a270b058c5754be0addc7c7c31 &lt;dbl&gt; | cf3b465ae342367687f3fa74da2c46f0 &lt;dbl&gt; | 6668cc03267d4f04b5a34d676c1db57a &lt;dbl&gt; | 6e9321684640a05dd16b7bc01b98c14a &lt;dbl&gt; | 0c59c44aeb355d3aa4dfa33ac4e77cde &lt;dbl&gt; | 2a64fe6cea748d320b2f99fe83449e46 &lt;dbl&gt; | 458f7b9ac8ea99af3b251a761c878332 &lt;dbl&gt; | 7950a70a07006f7c7b0c6f02c46a93af &lt;dbl&gt; | 9dd5def1c71e9aa144221be97b12d2e6 &lt;dbl&gt; | ⋯ ⋯ | 95cfc3c342d1f3a2af58c49f6065b08a &lt;dbl&gt; | f40a4552f05b5c3ca111c9886b7360a0 &lt;dbl&gt; | e50dfa4783c02bc4cbff9d9297e8d844 &lt;dbl&gt; | 056a6332380b1f40d814d70adc074217 &lt;dbl&gt; | de8bd36d71e9372a6b9e16b54cefa562 &lt;dbl&gt; | 569a2abee10cb7fdef315334d856b92b &lt;dbl&gt; | 890c6bb9fc8dea9dc4b756a645f4f472 &lt;dbl&gt; | b171d5cdecd235e7199d44ce8991794d &lt;dbl&gt; | 36fd5c55ad082f4d05194157da9d13da &lt;dbl&gt; | d7dd0bdd8184f8cb7189e1e09afa97d0 &lt;dbl&gt; |\n",
       "|---|---|---|---|---|---|---|---|---|---|---|---|---|---|---|---|---|---|---|---|---|---|\n",
       "| F14_Common_Bream | 0.1387614 | 0.1419004 | 0.139731 | 0.1458316 | 0.102588 | 0.1244376 | 0.1165754 | 0.1385505 | 0.1216122 | 0.1383319 | ⋯ | 0.1381729 | -0.6199650 | 0.2210105 | -0.07582190 | 0.1171848 | 0.1358529 | -0.3086362 | -0.2762924 | 0.1044886 | 0.09084924 |\n",
       "| F35_Red_Deer | 0.1675274 | 0.1706665 | 0.168497 | 0.1745976 | 0.131354 | 0.1532036 | 0.1453414 | 0.1673166 | 0.1503782 | 0.1670979 | ⋯ | 0.1669390 | -0.4633016 | 0.2497766 | -0.04705585 | 0.1459509 | 0.1646190 | -0.1519728 | -0.1196291 | 0.1332547 | 4.94935398 |\n",
       "| ⋮ | ⋮ | ⋮ | ⋮ | ⋮ | ⋮ | ⋮ | ⋮ | ⋮ | ⋮ | ⋮ | ⋱ | ⋮ | ⋮ | ⋮ | ⋮ | ⋮ | ⋮ | ⋮ | ⋮ | ⋮ | ⋮ |\n",
       "| X431_Quagga |  0.2815382 |  0.2846772 |  0.2825078 |  0.2886084 |  0.2453648 |  0.2672144 |  0.2593522 |  0.2813273 |  0.2643890 |  0.2811087 | ⋯ |  0.2809497 | -0.1578663 |  0.3637873 |  0.0669549 |  0.2599617 |  0.2786297 |  0.1534625 |  0.1858063 |  0.2472654 |  0.2336260 |\n",
       "| X67_European_Roe | -0.1448277 | -0.1416887 | -0.1438581 | -0.1377575 | -0.1810011 | -0.1591515 | -0.1670137 | -0.1450385 | -0.1619769 | -0.1452572 | ⋯ | -0.1454161 | -1.1607260 | -0.7190091 | -0.3594110 | -0.1664042 | -0.1477362 | -0.8493972 | -0.8170534 | -0.1791004 | -0.1927398 |\n",
       "\n"
      ],
      "text/plain": [
       "                 c5fbed2bb10ab3a08275a92e9caea3c1\n",
       "F14_Common_Bream 0.1387614                       \n",
       "F35_Red_Deer     0.1675274                       \n",
       "⋮                ⋮                               \n",
       "X431_Quagga       0.2815382                      \n",
       "X67_European_Roe -0.1448277                      \n",
       "                 1936b1a270b058c5754be0addc7c7c31\n",
       "F14_Common_Bream 0.1419004                       \n",
       "F35_Red_Deer     0.1706665                       \n",
       "⋮                ⋮                               \n",
       "X431_Quagga       0.2846772                      \n",
       "X67_European_Roe -0.1416887                      \n",
       "                 cf3b465ae342367687f3fa74da2c46f0\n",
       "F14_Common_Bream 0.139731                        \n",
       "F35_Red_Deer     0.168497                        \n",
       "⋮                ⋮                               \n",
       "X431_Quagga       0.2825078                      \n",
       "X67_European_Roe -0.1438581                      \n",
       "                 6668cc03267d4f04b5a34d676c1db57a\n",
       "F14_Common_Bream 0.1458316                       \n",
       "F35_Red_Deer     0.1745976                       \n",
       "⋮                ⋮                               \n",
       "X431_Quagga       0.2886084                      \n",
       "X67_European_Roe -0.1377575                      \n",
       "                 6e9321684640a05dd16b7bc01b98c14a\n",
       "F14_Common_Bream 0.102588                        \n",
       "F35_Red_Deer     0.131354                        \n",
       "⋮                ⋮                               \n",
       "X431_Quagga       0.2453648                      \n",
       "X67_European_Roe -0.1810011                      \n",
       "                 0c59c44aeb355d3aa4dfa33ac4e77cde\n",
       "F14_Common_Bream 0.1244376                       \n",
       "F35_Red_Deer     0.1532036                       \n",
       "⋮                ⋮                               \n",
       "X431_Quagga       0.2672144                      \n",
       "X67_European_Roe -0.1591515                      \n",
       "                 2a64fe6cea748d320b2f99fe83449e46\n",
       "F14_Common_Bream 0.1165754                       \n",
       "F35_Red_Deer     0.1453414                       \n",
       "⋮                ⋮                               \n",
       "X431_Quagga       0.2593522                      \n",
       "X67_European_Roe -0.1670137                      \n",
       "                 458f7b9ac8ea99af3b251a761c878332\n",
       "F14_Common_Bream 0.1385505                       \n",
       "F35_Red_Deer     0.1673166                       \n",
       "⋮                ⋮                               \n",
       "X431_Quagga       0.2813273                      \n",
       "X67_European_Roe -0.1450385                      \n",
       "                 7950a70a07006f7c7b0c6f02c46a93af\n",
       "F14_Common_Bream 0.1216122                       \n",
       "F35_Red_Deer     0.1503782                       \n",
       "⋮                ⋮                               \n",
       "X431_Quagga       0.2643890                      \n",
       "X67_European_Roe -0.1619769                      \n",
       "                 9dd5def1c71e9aa144221be97b12d2e6 ⋯\n",
       "F14_Common_Bream 0.1383319                        ⋯\n",
       "F35_Red_Deer     0.1670979                        ⋯\n",
       "⋮                ⋮                                ⋱\n",
       "X431_Quagga       0.2811087                       ⋯\n",
       "X67_European_Roe -0.1452572                       ⋯\n",
       "                 95cfc3c342d1f3a2af58c49f6065b08a\n",
       "F14_Common_Bream 0.1381729                       \n",
       "F35_Red_Deer     0.1669390                       \n",
       "⋮                ⋮                               \n",
       "X431_Quagga       0.2809497                      \n",
       "X67_European_Roe -0.1454161                      \n",
       "                 f40a4552f05b5c3ca111c9886b7360a0\n",
       "F14_Common_Bream -0.6199650                      \n",
       "F35_Red_Deer     -0.4633016                      \n",
       "⋮                ⋮                               \n",
       "X431_Quagga      -0.1578663                      \n",
       "X67_European_Roe -1.1607260                      \n",
       "                 e50dfa4783c02bc4cbff9d9297e8d844\n",
       "F14_Common_Bream 0.2210105                       \n",
       "F35_Red_Deer     0.2497766                       \n",
       "⋮                ⋮                               \n",
       "X431_Quagga       0.3637873                      \n",
       "X67_European_Roe -0.7190091                      \n",
       "                 056a6332380b1f40d814d70adc074217\n",
       "F14_Common_Bream -0.07582190                     \n",
       "F35_Red_Deer     -0.04705585                     \n",
       "⋮                ⋮                               \n",
       "X431_Quagga       0.0669549                      \n",
       "X67_European_Roe -0.3594110                      \n",
       "                 de8bd36d71e9372a6b9e16b54cefa562\n",
       "F14_Common_Bream 0.1171848                       \n",
       "F35_Red_Deer     0.1459509                       \n",
       "⋮                ⋮                               \n",
       "X431_Quagga       0.2599617                      \n",
       "X67_European_Roe -0.1664042                      \n",
       "                 569a2abee10cb7fdef315334d856b92b\n",
       "F14_Common_Bream 0.1358529                       \n",
       "F35_Red_Deer     0.1646190                       \n",
       "⋮                ⋮                               \n",
       "X431_Quagga       0.2786297                      \n",
       "X67_European_Roe -0.1477362                      \n",
       "                 890c6bb9fc8dea9dc4b756a645f4f472\n",
       "F14_Common_Bream -0.3086362                      \n",
       "F35_Red_Deer     -0.1519728                      \n",
       "⋮                ⋮                               \n",
       "X431_Quagga       0.1534625                      \n",
       "X67_European_Roe -0.8493972                      \n",
       "                 b171d5cdecd235e7199d44ce8991794d\n",
       "F14_Common_Bream -0.2762924                      \n",
       "F35_Red_Deer     -0.1196291                      \n",
       "⋮                ⋮                               \n",
       "X431_Quagga       0.1858063                      \n",
       "X67_European_Roe -0.8170534                      \n",
       "                 36fd5c55ad082f4d05194157da9d13da\n",
       "F14_Common_Bream 0.1044886                       \n",
       "F35_Red_Deer     0.1332547                       \n",
       "⋮                ⋮                               \n",
       "X431_Quagga       0.2472654                      \n",
       "X67_European_Roe -0.1791004                      \n",
       "                 d7dd0bdd8184f8cb7189e1e09afa97d0\n",
       "F14_Common_Bream 0.09084924                      \n",
       "F35_Red_Deer     4.94935398                      \n",
       "⋮                ⋮                               \n",
       "X431_Quagga       0.2336260                      \n",
       "X67_European_Roe -0.1927398                      "
      ]
     },
     "metadata": {},
     "output_type": "display_data"
    }
   ],
   "source": [
    "# transforming\n",
    "otu = compositions::clr(t(otu)) %>%\n",
    "    t %>% as.data.frame\n",
    "otu"
   ]
  },
  {
   "cell_type": "code",
   "execution_count": 21,
   "metadata": {
    "ExecuteTime": {
     "end_time": "2020-06-18T11:52:08.585655Z",
     "start_time": "2020-06-18T11:52:08.529Z"
    }
   },
   "outputs": [
    {
     "data": {
      "text/plain": [
       "    Min.  1st Qu.   Median     Mean  3rd Qu.     Max. \n",
       "-1804.96  -104.70    60.98     0.00   151.16   271.71 "
      ]
     },
     "metadata": {},
     "output_type": "display_data"
    },
    {
     "data": {
      "text/plain": [
       "      Min.    1st Qu.     Median       Mean    3rd Qu.       Max. \n",
       "-2.024e-13 -2.887e-14 -1.776e-15 -1.075e-16  1.808e-14  4.574e-13 "
      ]
     },
     "metadata": {},
     "output_type": "display_data"
    }
   ],
   "source": [
    "# summary\n",
    "otu %>% rowSums %>% summary\n",
    "otu %>% colSums %>% summary"
   ]
  },
  {
   "cell_type": "markdown",
   "metadata": {},
   "source": [
    "## New phyloseq obj"
   ]
  },
  {
   "cell_type": "code",
   "execution_count": 22,
   "metadata": {
    "ExecuteTime": {
     "end_time": "2020-06-18T11:52:10.298877Z",
     "start_time": "2020-06-18T11:52:10.203Z"
    }
   },
   "outputs": [
    {
     "data": {
      "text/plain": [
       "phyloseq-class experiment-level object\n",
       "otu_table()   OTU Table:         [ 377 taxa and 185 samples ]\n",
       "sample_data() Sample Data:       [ 185 samples by 88 sample variables ]\n",
       "tax_table()   Taxonomy Table:    [ 377 taxa by 7 taxonomic ranks ]\n",
       "phy_tree()    Phylogenetic Tree: [ 377 tips and 375 internal nodes ]"
      ]
     },
     "metadata": {},
     "output_type": "display_data"
    }
   ],
   "source": [
    "# new phyloseq object\n",
    "physeq_arch_IndD_clr = phyloseq(otu_table(otu %>% t %>% as.data.frame, \n",
    "                                          taxa_are_rows=TRUE),\n",
    "                                tax_table(physeq_arch_IndD),\n",
    "                                sample_data(physeq_arch_IndD),\n",
    "                                phy_tree(physeq_arch_IndD))\n",
    "physeq_arch_IndD_clr"
   ]
  },
  {
   "cell_type": "code",
   "execution_count": 23,
   "metadata": {
    "ExecuteTime": {
     "end_time": "2020-06-18T11:52:10.468270Z",
     "start_time": "2020-06-18T11:52:10.356Z"
    }
   },
   "outputs": [
    {
     "name": "stdout",
     "output_type": "stream",
     "text": [
      "File written: /ebio/abt3_projects/Georg_animal_feces/data/16S_arch/MiSeq-Runs-116-122-126-189-190/LLA/merged/phyloseq/physeq_arch_IndD_clr.RDS \n"
     ]
    }
   ],
   "source": [
    "# writing new file\n",
    "physeq_arch_IndD_clr_file = file.path(dirname(physeq_arch_IndD_file),\n",
    "                                      'physeq_arch_IndD_clr.RDS')\n",
    "saveRDS(physeq_arch_IndD_clr, physeq_arch_IndD_clr_file)\n",
    "cat('File written:', physeq_arch_IndD_clr_file, '\\n')"
   ]
  },
  {
   "cell_type": "markdown",
   "metadata": {},
   "source": [
    "# sessionInfo"
   ]
  },
  {
   "cell_type": "code",
   "execution_count": 24,
   "metadata": {
    "ExecuteTime": {
     "end_time": "2020-06-18T11:52:12.186914Z",
     "start_time": "2020-06-18T11:52:12.098Z"
    }
   },
   "outputs": [
    {
     "data": {
      "text/plain": [
       "R version 3.6.2 (2019-12-12)\n",
       "Platform: x86_64-conda_cos6-linux-gnu (64-bit)\n",
       "Running under: Ubuntu 18.04.4 LTS\n",
       "\n",
       "Matrix products: default\n",
       "BLAS/LAPACK: /ebio/abt3_projects/Georg_animal_feces/envs/phyloseq-eco/lib/libopenblasp-r0.3.7.so\n",
       "\n",
       "locale:\n",
       " [1] LC_CTYPE=en_US.UTF-8       LC_NUMERIC=C              \n",
       " [3] LC_TIME=en_US.UTF-8        LC_COLLATE=en_US.UTF-8    \n",
       " [5] LC_MONETARY=en_US.UTF-8    LC_MESSAGES=en_US.UTF-8   \n",
       " [7] LC_PAPER=en_US.UTF-8       LC_NAME=C                 \n",
       " [9] LC_ADDRESS=C               LC_TELEPHONE=C            \n",
       "[11] LC_MEASUREMENT=en_US.UTF-8 LC_IDENTIFICATION=C       \n",
       "\n",
       "attached base packages:\n",
       "[1] stats     graphics  grDevices utils     datasets  methods   base     \n",
       "\n",
       "other attached packages:\n",
       " [1] LeyLabRMisc_0.1.6   zCompositions_1.3.4 truncnorm_1.0-8    \n",
       " [4] NADA_1.6-1.1        survival_3.1-8      MASS_7.3-51.5      \n",
       " [7] phyloseq_1.30.0     ggplot2_3.2.1       tidyr_1.0.0        \n",
       "[10] dplyr_0.8.5        \n",
       "\n",
       "loaded via a namespace (and not attached):\n",
       " [1] Biobase_2.46.0      jsonlite_1.6        splines_3.6.2      \n",
       " [4] foreach_1.4.7       assertthat_0.2.1    stats4_3.6.2       \n",
       " [7] tensorA_0.36.1      robustbase_0.93-6   pillar_1.4.3       \n",
       "[10] lattice_0.20-38     glue_1.3.1          uuid_0.1-2         \n",
       "[13] digest_0.6.23       XVector_0.26.0      colorspace_1.4-1   \n",
       "[16] htmltools_0.4.0     Matrix_1.2-18       plyr_1.8.5         \n",
       "[19] pkgconfig_2.0.3     zlibbioc_1.32.0     purrr_0.3.3        \n",
       "[22] scales_1.1.0        tibble_2.1.3        mgcv_1.8-31        \n",
       "[25] IRanges_2.20.0      withr_2.1.2         repr_1.0.2         \n",
       "[28] BiocGenerics_0.32.0 lazyeval_0.2.2      magrittr_1.5       \n",
       "[31] crayon_1.3.4        evaluate_0.14       nlme_3.1-143       \n",
       "[34] compositions_1.40-5 vegan_2.5-6         tools_3.6.2        \n",
       "[37] data.table_1.12.8   lifecycle_0.1.0     stringr_1.4.0      \n",
       "[40] Rhdf5lib_1.8.0      S4Vectors_0.24.0    munsell_0.5.0      \n",
       "[43] cluster_2.1.0       Biostrings_2.54.0   ade4_1.7-13        \n",
       "[46] compiler_3.6.2      rlang_0.4.6         rhdf5_2.30.0       \n",
       "[49] grid_3.6.2          pbdZMQ_0.3-3        iterators_1.0.12   \n",
       "[52] IRkernel_1.1        biomformat_1.14.0   igraph_1.2.4.2     \n",
       "[55] base64enc_0.1-3     gtable_0.3.0        codetools_0.2-16   \n",
       "[58] multtest_2.42.0     reshape2_1.4.3      R6_2.4.1           \n",
       "[61] bayesm_3.1-4        permute_0.9-5       ape_5.3            \n",
       "[64] stringi_1.4.5       parallel_3.6.2      IRdisplay_0.7.0    \n",
       "[67] Rcpp_1.0.3          vctrs_0.3.0         DEoptimR_1.0-8     \n",
       "[70] tidyselect_1.1.0   "
      ]
     },
     "metadata": {},
     "output_type": "display_data"
    }
   ],
   "source": [
    "sessionInfo()"
   ]
  },
  {
   "cell_type": "code",
   "execution_count": null,
   "metadata": {},
   "outputs": [],
   "source": []
  }
 ],
 "metadata": {
  "kernelspec": {
   "display_name": "R [conda env:Georg_animal_feces-phyloseq-eco]",
   "language": "R",
   "name": "conda-env-Georg_animal_feces-phyloseq-eco-r"
  },
  "language_info": {
   "codemirror_mode": "r",
   "file_extension": ".r",
   "mimetype": "text/x-r-source",
   "name": "R",
   "pygments_lexer": "r",
   "version": "3.6.2"
  },
  "notify_time": "30",
  "toc": {
   "base_numbering": 1,
   "nav_menu": {},
   "number_sections": true,
   "sideBar": true,
   "skip_h1_title": false,
   "title_cell": "Table of Contents",
   "title_sidebar": "Contents",
   "toc_cell": true,
   "toc_position": {},
   "toc_section_display": true,
   "toc_window_display": true
  }
 },
 "nbformat": 4,
 "nbformat_minor": 4
}
