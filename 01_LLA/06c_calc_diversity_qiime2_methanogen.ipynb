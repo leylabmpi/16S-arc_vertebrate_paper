{
 "cells": [
  {
   "cell_type": "markdown",
   "metadata": {
    "toc": true
   },
   "source": [
    "<h1>Table of Contents<span class=\"tocSkip\"></span></h1>\n",
    "<div class=\"toc\"><ul class=\"toc-item\"><li><span><a href=\"#Goals\" data-toc-modified-id=\"Goals-1\"><span class=\"toc-item-num\">1&nbsp;&nbsp;</span>Goals</a></span></li><li><span><a href=\"#Var\" data-toc-modified-id=\"Var-2\"><span class=\"toc-item-num\">2&nbsp;&nbsp;</span>Var</a></span></li><li><span><a href=\"#Init\" data-toc-modified-id=\"Init-3\"><span class=\"toc-item-num\">3&nbsp;&nbsp;</span>Init</a></span></li><li><span><a href=\"#Converting-to-qiime2-artifacts\" data-toc-modified-id=\"Converting-to-qiime2-artifacts-4\"><span class=\"toc-item-num\">4&nbsp;&nbsp;</span>Converting to qiime2 artifacts</a></span><ul class=\"toc-item\"><li><span><a href=\"#OTU-table\" data-toc-modified-id=\"OTU-table-4.1\"><span class=\"toc-item-num\">4.1&nbsp;&nbsp;</span>OTU table</a></span></li><li><span><a href=\"#Metadata\" data-toc-modified-id=\"Metadata-4.2\"><span class=\"toc-item-num\">4.2&nbsp;&nbsp;</span>Metadata</a></span></li><li><span><a href=\"#Taxonomy\" data-toc-modified-id=\"Taxonomy-4.3\"><span class=\"toc-item-num\">4.3&nbsp;&nbsp;</span>Taxonomy</a></span></li><li><span><a href=\"#Phylogeny\" data-toc-modified-id=\"Phylogeny-4.4\"><span class=\"toc-item-num\">4.4&nbsp;&nbsp;</span>Phylogeny</a></span></li></ul></li><li><span><a href=\"#Calculating-diversity\" data-toc-modified-id=\"Calculating-diversity-5\"><span class=\"toc-item-num\">5&nbsp;&nbsp;</span>Calculating diversity</a></span></li><li><span><a href=\"#Converting-to-R-objects\" data-toc-modified-id=\"Converting-to-R-objects-6\"><span class=\"toc-item-num\">6&nbsp;&nbsp;</span>Converting to R objects</a></span><ul class=\"toc-item\"><li><span><a href=\"#alpha-diversity\" data-toc-modified-id=\"alpha-diversity-6.1\"><span class=\"toc-item-num\">6.1&nbsp;&nbsp;</span>alpha-diversity</a></span><ul class=\"toc-item\"><li><span><a href=\"#Compiling-into-a-list\" data-toc-modified-id=\"Compiling-into-a-list-6.1.1\"><span class=\"toc-item-num\">6.1.1&nbsp;&nbsp;</span>Compiling into a list</a></span></li></ul></li><li><span><a href=\"#beta-diversity\" data-toc-modified-id=\"beta-diversity-6.2\"><span class=\"toc-item-num\">6.2&nbsp;&nbsp;</span>beta-diversity</a></span><ul class=\"toc-item\"><li><span><a href=\"#Compiling-into-a-list\" data-toc-modified-id=\"Compiling-into-a-list-6.2.1\"><span class=\"toc-item-num\">6.2.1&nbsp;&nbsp;</span>Compiling into a list</a></span></li></ul></li></ul></li><li><span><a href=\"#Final-files\" data-toc-modified-id=\"Final-files-7\"><span class=\"toc-item-num\">7&nbsp;&nbsp;</span>Final files</a></span></li><li><span><a href=\"#sessionInfo\" data-toc-modified-id=\"sessionInfo-8\"><span class=\"toc-item-num\">8&nbsp;&nbsp;</span>sessionInfo</a></span></li></ul></div>"
   ]
  },
  {
   "cell_type": "markdown",
   "metadata": {},
   "source": [
    "# Goals\n",
    "\n",
    "* Calculating alpha & beta diversity via qiime2\n",
    "* First, aggregating OTUs at the genus level"
   ]
  },
  {
   "cell_type": "markdown",
   "metadata": {},
   "source": [
    "# Var"
   ]
  },
  {
   "cell_type": "code",
   "execution_count": 1,
   "metadata": {
    "ExecuteTime": {
     "end_time": "2020-09-21T10:44:19.623124Z",
     "start_time": "2020-09-21T10:44:19.513Z"
    }
   },
   "outputs": [],
   "source": [
    "work_dir = '/ebio/abt3_projects/Georg_animal_feces/data/16S_arch/MiSeq-Runs-116-122-126-189-190/LLA/merged/diversity-qiime2/'\n",
    "\n",
    "# 16S-arch phyloseq object (one sample per individual)\n",
    "physeq_arch_IndD_file = '/ebio/abt3_projects/Georg_animal_feces/data/16S_arch/MiSeq-Runs-116-122-126-189-190/LLA/merged/phyloseq/physeq_arch_IndD.RDS'\n",
    "\n",
    "# misc\n",
    "tmp_dir = file.path(work_dir, 'qiime2_files')\n",
    "conda_env = 'qiime2-2019.10'"
   ]
  },
  {
   "cell_type": "markdown",
   "metadata": {},
   "source": [
    "# Init"
   ]
  },
  {
   "cell_type": "code",
   "execution_count": 2,
   "metadata": {
    "ExecuteTime": {
     "end_time": "2020-09-21T10:44:32.423330Z",
     "start_time": "2020-09-21T10:44:19.759Z"
    }
   },
   "outputs": [
    {
     "name": "stderr",
     "output_type": "stream",
     "text": [
      "\n",
      "Attaching package: ‘dplyr’\n",
      "\n",
      "\n",
      "The following objects are masked from ‘package:stats’:\n",
      "\n",
      "    filter, lag\n",
      "\n",
      "\n",
      "The following objects are masked from ‘package:base’:\n",
      "\n",
      "    intersect, setdiff, setequal, union\n",
      "\n",
      "\n"
     ]
    }
   ],
   "source": [
    "library(dplyr)\n",
    "library(tidyr)\n",
    "library(ggplot2)\n",
    "library(phyloseq)\n",
    "library(ape)\n",
    "library(LeyLabRMisc)"
   ]
  },
  {
   "cell_type": "code",
   "execution_count": 3,
   "metadata": {
    "ExecuteTime": {
     "end_time": "2020-09-21T10:44:32.707528Z",
     "start_time": "2020-09-21T10:44:19.882Z"
    }
   },
   "outputs": [
    {
     "name": "stdout",
     "output_type": "stream",
     "text": [
      "Directory already exists: /ebio/abt3_projects/Georg_animal_feces/data/16S_arch/MiSeq-Runs-116-122-126-189-190/LLA/merged/diversity-qiime2/ \n",
      "Directory already exists: /ebio/abt3_projects/Georg_animal_feces/data/16S_arch/MiSeq-Runs-116-122-126-189-190/LLA/merged/diversity-qiime2//qiime2_files \n"
     ]
    }
   ],
   "source": [
    "df.dims()\n",
    "make_dir(work_dir)\n",
    "make_dir(tmp_dir)"
   ]
  },
  {
   "cell_type": "markdown",
   "metadata": {},
   "source": [
    "# Converting to qiime2 artifacts"
   ]
  },
  {
   "cell_type": "code",
   "execution_count": 21,
   "metadata": {
    "ExecuteTime": {
     "end_time": "2020-09-21T10:49:28.896468Z",
     "start_time": "2020-09-21T10:49:28.706Z"
    }
   },
   "outputs": [
    {
     "data": {
      "text/plain": [
       "phyloseq-class experiment-level object\n",
       "otu_table()   OTU Table:         [ 1542 taxa and 184 samples ]\n",
       "sample_data() Sample Data:       [ 184 samples by 88 sample variables ]\n",
       "tax_table()   Taxonomy Table:    [ 1542 taxa by 7 taxonomic ranks ]\n",
       "phy_tree()    Phylogenetic Tree: [ 1542 tips and 1539 internal nodes ]"
      ]
     },
     "metadata": {},
     "output_type": "display_data"
    }
   ],
   "source": [
    "# loading phyloseq object & filtering to just methanogens\n",
    "physeq = readRDS(physeq_arch_IndD_file) %>%\n",
    "    subset_taxa(grepl('Methano|Thermoplas', Class)) %>%\n",
    "    prune_samples(sample_sums(.) > 0, .) \n",
    "physeq"
   ]
  },
  {
   "cell_type": "markdown",
   "metadata": {},
   "source": [
    "## OTU table"
   ]
  },
  {
   "cell_type": "code",
   "execution_count": 22,
   "metadata": {
    "ExecuteTime": {
     "end_time": "2020-09-21T10:49:30.221792Z",
     "start_time": "2020-09-21T10:49:29.581Z"
    }
   },
   "outputs": [
    {
     "data": {
      "text/html": [
       "<table>\n",
       "<caption>A data.frame: 1542 × 185</caption>\n",
       "<thead>\n",
       "\t<tr><th scope=col>OTU</th><th scope=col>F14_Common_Bream</th><th scope=col>F35_Red_Deer</th><th scope=col>F36_Red_Deer</th><th scope=col>F44_Fallow_Deer</th><th scope=col>F45_Red_Deer</th><th scope=col>F46_Red_Deer</th><th scope=col>F47_Red_Deer</th><th scope=col>F48_Red_Deer</th><th scope=col>F53_Mouflon</th><th scope=col>⋯</th><th scope=col>X133_Domestic_Goat</th><th scope=col>X134_Domestic_Goat</th><th scope=col>X281_Tammar_Wallaby</th><th scope=col>X3_Alpine_Chamois</th><th scope=col>X357_Northern_Tamandua</th><th scope=col>X359_Brown_throated_Sloth</th><th scope=col>X403_Chacma_Baboon</th><th scope=col>X405_Nile_Crocodile</th><th scope=col>X431_Quagga</th><th scope=col>X67_European_Roe</th></tr>\n",
       "\t<tr><th scope=col>&lt;chr&gt;</th><th scope=col>&lt;dbl&gt;</th><th scope=col>&lt;dbl&gt;</th><th scope=col>&lt;dbl&gt;</th><th scope=col>&lt;dbl&gt;</th><th scope=col>&lt;dbl&gt;</th><th scope=col>&lt;dbl&gt;</th><th scope=col>&lt;dbl&gt;</th><th scope=col>&lt;dbl&gt;</th><th scope=col>&lt;dbl&gt;</th><th scope=col>⋯</th><th scope=col>&lt;dbl&gt;</th><th scope=col>&lt;dbl&gt;</th><th scope=col>&lt;dbl&gt;</th><th scope=col>&lt;dbl&gt;</th><th scope=col>&lt;dbl&gt;</th><th scope=col>&lt;dbl&gt;</th><th scope=col>&lt;dbl&gt;</th><th scope=col>&lt;dbl&gt;</th><th scope=col>&lt;dbl&gt;</th><th scope=col>&lt;dbl&gt;</th></tr>\n",
       "</thead>\n",
       "<tbody>\n",
       "\t<tr><td>0e97060fe4b9be17bddeedcd27826b04</td><td>0</td><td>0</td><td>0</td><td>0</td><td>0</td><td>0</td><td>0</td><td>0</td><td>0</td><td>⋯</td><td>0</td><td>0</td><td>0</td><td>0</td><td>0</td><td>5</td><td>0</td><td>0</td><td>0</td><td>0</td></tr>\n",
       "\t<tr><td>a86c26bd7f16d93e38b101dbd2614a07</td><td>0</td><td>0</td><td>0</td><td>0</td><td>0</td><td>0</td><td>0</td><td>0</td><td>0</td><td>⋯</td><td>0</td><td>0</td><td>0</td><td>0</td><td>0</td><td>0</td><td>0</td><td>0</td><td>0</td><td>0</td></tr>\n",
       "\t<tr><td>⋮</td><td>⋮</td><td>⋮</td><td>⋮</td><td>⋮</td><td>⋮</td><td>⋮</td><td>⋮</td><td>⋮</td><td>⋮</td><td>⋱</td><td>⋮</td><td>⋮</td><td>⋮</td><td>⋮</td><td>⋮</td><td>⋮</td><td>⋮</td><td>⋮</td><td>⋮</td><td>⋮</td></tr>\n",
       "\t<tr><td>9449f372c36cd2d8994d79b091425d42</td><td>0</td><td>0</td><td>0</td><td>0</td><td>0</td><td>0</td><td>0</td><td>0</td><td>0</td><td>⋯</td><td>0</td><td>0</td><td>0</td><td>0</td><td>0</td><td>0</td><td>0</td><td>0</td><td>0</td><td>0</td></tr>\n",
       "\t<tr><td>467eeae6997d3667b5d07a76bc1bcdfd</td><td>0</td><td>0</td><td>0</td><td>0</td><td>0</td><td>0</td><td>0</td><td>0</td><td>0</td><td>⋯</td><td>0</td><td>0</td><td>0</td><td>0</td><td>0</td><td>0</td><td>0</td><td>0</td><td>0</td><td>0</td></tr>\n",
       "</tbody>\n",
       "</table>\n"
      ],
      "text/latex": [
       "A data.frame: 1542 × 185\n",
       "\\begin{tabular}{lllllllllllllllllllll}\n",
       " OTU & F14\\_Common\\_Bream & F35\\_Red\\_Deer & F36\\_Red\\_Deer & F44\\_Fallow\\_Deer & F45\\_Red\\_Deer & F46\\_Red\\_Deer & F47\\_Red\\_Deer & F48\\_Red\\_Deer & F53\\_Mouflon & ⋯ & X133\\_Domestic\\_Goat & X134\\_Domestic\\_Goat & X281\\_Tammar\\_Wallaby & X3\\_Alpine\\_Chamois & X357\\_Northern\\_Tamandua & X359\\_Brown\\_throated\\_Sloth & X403\\_Chacma\\_Baboon & X405\\_Nile\\_Crocodile & X431\\_Quagga & X67\\_European\\_Roe\\\\\n",
       " <chr> & <dbl> & <dbl> & <dbl> & <dbl> & <dbl> & <dbl> & <dbl> & <dbl> & <dbl> & ⋯ & <dbl> & <dbl> & <dbl> & <dbl> & <dbl> & <dbl> & <dbl> & <dbl> & <dbl> & <dbl>\\\\\n",
       "\\hline\n",
       "\t 0e97060fe4b9be17bddeedcd27826b04 & 0 & 0 & 0 & 0 & 0 & 0 & 0 & 0 & 0 & ⋯ & 0 & 0 & 0 & 0 & 0 & 5 & 0 & 0 & 0 & 0\\\\\n",
       "\t a86c26bd7f16d93e38b101dbd2614a07 & 0 & 0 & 0 & 0 & 0 & 0 & 0 & 0 & 0 & ⋯ & 0 & 0 & 0 & 0 & 0 & 0 & 0 & 0 & 0 & 0\\\\\n",
       "\t ⋮ & ⋮ & ⋮ & ⋮ & ⋮ & ⋮ & ⋮ & ⋮ & ⋮ & ⋮ & ⋱ & ⋮ & ⋮ & ⋮ & ⋮ & ⋮ & ⋮ & ⋮ & ⋮ & ⋮ & ⋮\\\\\n",
       "\t 9449f372c36cd2d8994d79b091425d42 & 0 & 0 & 0 & 0 & 0 & 0 & 0 & 0 & 0 & ⋯ & 0 & 0 & 0 & 0 & 0 & 0 & 0 & 0 & 0 & 0\\\\\n",
       "\t 467eeae6997d3667b5d07a76bc1bcdfd & 0 & 0 & 0 & 0 & 0 & 0 & 0 & 0 & 0 & ⋯ & 0 & 0 & 0 & 0 & 0 & 0 & 0 & 0 & 0 & 0\\\\\n",
       "\\end{tabular}\n"
      ],
      "text/markdown": [
       "\n",
       "A data.frame: 1542 × 185\n",
       "\n",
       "| OTU &lt;chr&gt; | F14_Common_Bream &lt;dbl&gt; | F35_Red_Deer &lt;dbl&gt; | F36_Red_Deer &lt;dbl&gt; | F44_Fallow_Deer &lt;dbl&gt; | F45_Red_Deer &lt;dbl&gt; | F46_Red_Deer &lt;dbl&gt; | F47_Red_Deer &lt;dbl&gt; | F48_Red_Deer &lt;dbl&gt; | F53_Mouflon &lt;dbl&gt; | ⋯ ⋯ | X133_Domestic_Goat &lt;dbl&gt; | X134_Domestic_Goat &lt;dbl&gt; | X281_Tammar_Wallaby &lt;dbl&gt; | X3_Alpine_Chamois &lt;dbl&gt; | X357_Northern_Tamandua &lt;dbl&gt; | X359_Brown_throated_Sloth &lt;dbl&gt; | X403_Chacma_Baboon &lt;dbl&gt; | X405_Nile_Crocodile &lt;dbl&gt; | X431_Quagga &lt;dbl&gt; | X67_European_Roe &lt;dbl&gt; |\n",
       "|---|---|---|---|---|---|---|---|---|---|---|---|---|---|---|---|---|---|---|---|---|\n",
       "| 0e97060fe4b9be17bddeedcd27826b04 | 0 | 0 | 0 | 0 | 0 | 0 | 0 | 0 | 0 | ⋯ | 0 | 0 | 0 | 0 | 0 | 5 | 0 | 0 | 0 | 0 |\n",
       "| a86c26bd7f16d93e38b101dbd2614a07 | 0 | 0 | 0 | 0 | 0 | 0 | 0 | 0 | 0 | ⋯ | 0 | 0 | 0 | 0 | 0 | 0 | 0 | 0 | 0 | 0 |\n",
       "| ⋮ | ⋮ | ⋮ | ⋮ | ⋮ | ⋮ | ⋮ | ⋮ | ⋮ | ⋮ | ⋱ | ⋮ | ⋮ | ⋮ | ⋮ | ⋮ | ⋮ | ⋮ | ⋮ | ⋮ | ⋮ |\n",
       "| 9449f372c36cd2d8994d79b091425d42 | 0 | 0 | 0 | 0 | 0 | 0 | 0 | 0 | 0 | ⋯ | 0 | 0 | 0 | 0 | 0 | 0 | 0 | 0 | 0 | 0 |\n",
       "| 467eeae6997d3667b5d07a76bc1bcdfd | 0 | 0 | 0 | 0 | 0 | 0 | 0 | 0 | 0 | ⋯ | 0 | 0 | 0 | 0 | 0 | 0 | 0 | 0 | 0 | 0 |\n",
       "\n"
      ],
      "text/plain": [
       "     OTU                              F14_Common_Bream F35_Red_Deer\n",
       "1    0e97060fe4b9be17bddeedcd27826b04 0                0           \n",
       "2    a86c26bd7f16d93e38b101dbd2614a07 0                0           \n",
       "⋮    ⋮                                ⋮                ⋮           \n",
       "1541 9449f372c36cd2d8994d79b091425d42 0                0           \n",
       "1542 467eeae6997d3667b5d07a76bc1bcdfd 0                0           \n",
       "     F36_Red_Deer F44_Fallow_Deer F45_Red_Deer F46_Red_Deer F47_Red_Deer\n",
       "1    0            0               0            0            0           \n",
       "2    0            0               0            0            0           \n",
       "⋮    ⋮            ⋮               ⋮            ⋮            ⋮           \n",
       "1541 0            0               0            0            0           \n",
       "1542 0            0               0            0            0           \n",
       "     F48_Red_Deer F53_Mouflon ⋯ X133_Domestic_Goat X134_Domestic_Goat\n",
       "1    0            0           ⋯ 0                  0                 \n",
       "2    0            0           ⋯ 0                  0                 \n",
       "⋮    ⋮            ⋮           ⋱ ⋮                  ⋮                 \n",
       "1541 0            0           ⋯ 0                  0                 \n",
       "1542 0            0           ⋯ 0                  0                 \n",
       "     X281_Tammar_Wallaby X3_Alpine_Chamois X357_Northern_Tamandua\n",
       "1    0                   0                 0                     \n",
       "2    0                   0                 0                     \n",
       "⋮    ⋮                   ⋮                 ⋮                     \n",
       "1541 0                   0                 0                     \n",
       "1542 0                   0                 0                     \n",
       "     X359_Brown_throated_Sloth X403_Chacma_Baboon X405_Nile_Crocodile\n",
       "1    5                         0                  0                  \n",
       "2    0                         0                  0                  \n",
       "⋮    ⋮                         ⋮                  ⋮                  \n",
       "1541 0                         0                  0                  \n",
       "1542 0                         0                  0                  \n",
       "     X431_Quagga X67_European_Roe\n",
       "1    0           0               \n",
       "2    0           0               \n",
       "⋮    ⋮           ⋮               \n",
       "1541 0           0               \n",
       "1542 0           0               "
      ]
     },
     "metadata": {},
     "output_type": "display_data"
    }
   ],
   "source": [
    "# converting OTU table\n",
    "tmp = physeq %>% phyloseq2df(otu_table)\n",
    "tmp = cbind(tmp %>% dplyr::select(OTU),\n",
    "            tmp %>% dplyr::select(-OTU))\n",
    "tmp"
   ]
  },
  {
   "cell_type": "code",
   "execution_count": 23,
   "metadata": {
    "ExecuteTime": {
     "end_time": "2020-09-21T10:49:30.574241Z",
     "start_time": "2020-09-21T10:49:30.524Z"
    }
   },
   "outputs": [
    {
     "name": "stdout",
     "output_type": "stream",
     "text": [
      "   Min. 1st Qu.  Median    Mean 3rd Qu.    Max. \n",
      "    1.0     3.0    14.0   268.9    78.0 17228.0 \n",
      "   Min. 1st Qu.  Median    Mean 3rd Qu.    Max. \n",
      "   24.0   590.5  1378.5  2253.1  2981.8 32294.0 \n"
     ]
    }
   ],
   "source": [
    "# OTU table value summary\n",
    "rowSums(tmp[,2:ncol(tmp)]) %>% summary %>% print\n",
    "colSums(tmp[,2:ncol(tmp)]) %>% summary %>% print"
   ]
  },
  {
   "cell_type": "code",
   "execution_count": 24,
   "metadata": {
    "ExecuteTime": {
     "end_time": "2020-09-21T10:49:32.113654Z",
     "start_time": "2020-09-21T10:49:31.627Z"
    }
   },
   "outputs": [
    {
     "name": "stdout",
     "output_type": "stream",
     "text": [
      "File written: /ebio/abt3_projects/Georg_animal_feces/data/16S_arch/MiSeq-Runs-116-122-126-189-190/LLA/merged/diversity-qiime2//qiime2_files/physeq_otu-table_meth.tsv \n"
     ]
    }
   ],
   "source": [
    "# writing out table\n",
    "otu_table_file = file.path(tmp_dir, 'physeq_otu-table_meth.tsv')\n",
    "write.table(tmp, otu_table_file, sep='\\t', quote=FALSE, row.names=FALSE)\n",
    "cat('File written:', otu_table_file, '\\n')"
   ]
  },
  {
   "cell_type": "code",
   "execution_count": 25,
   "metadata": {
    "ExecuteTime": {
     "end_time": "2020-09-21T10:49:39.732726Z",
     "start_time": "2020-09-21T10:49:32.162Z"
    }
   },
   "outputs": [
    {
     "name": "stdout",
     "output_type": "stream",
     "text": [
      "[1] \"biom convert -i /ebio/abt3_projects/Georg_animal_feces/data/16S_arch/MiSeq-Runs-116-122-126-189-190/LLA/merged/diversity-qiime2//qiime2_files/physeq_otu-table_meth.tsv -o /ebio/abt3_projects/Georg_animal_feces/data/16S_arch/MiSeq-Runs-116-122-126-189-190/LLA/merged/diversity-qiime2//qiime2_files/physeq_otu-table_meth.biom --to-hdf5\"\n"
     ]
    },
    {
     "data": {
      "text/plain": [
       "NULL"
      ]
     },
     "metadata": {},
     "output_type": "display_data"
    }
   ],
   "source": [
    "# converting otu to biom\n",
    "otu_biom_file = file.path(tmp_dir, 'physeq_otu-table_meth.biom')\n",
    "cmd = sprintf('biom convert -i %s -o %s --to-hdf5', otu_table_file, otu_biom_file)\n",
    "print(cmd)\n",
    "bash_job(cmd, conda_env)"
   ]
  },
  {
   "cell_type": "code",
   "execution_count": 26,
   "metadata": {
    "ExecuteTime": {
     "end_time": "2020-09-21T10:50:16.886440Z",
     "start_time": "2020-09-21T10:49:35.379Z"
    }
   },
   "outputs": [
    {
     "name": "stdout",
     "output_type": "stream",
     "text": [
      "[1] \"qiime tools import --type FeatureTable[Frequency] --input-path /ebio/abt3_projects/Georg_animal_feces/data/16S_arch/MiSeq-Runs-116-122-126-189-190/LLA/merged/diversity-qiime2//qiime2_files/physeq_otu-table_meth.biom --output-path /ebio/abt3_projects/Georg_animal_feces/data/16S_arch/MiSeq-Runs-116-122-126-189-190/LLA/merged/diversity-qiime2//qiime2_files/physeq_otu_meth.qza\"\n",
      "Imported /ebio/abt3_projects/Georg_animal_feces/data/16S_arch/MiSeq-Runs-116-122-126-189-190/LLA/merged/diversity-qiime2//qiime2_files/physeq_otu-table_meth.biom as BIOMV210DirFmt to /ebio/abt3_projects/Georg_animal_feces/data/16S_arch/MiSeq-Runs-116-122-126-189-190/LLA/merged/diversity-qiime2//qiime2_files/physeq_otu_meth.qza"
     ]
    },
    {
     "data": {
      "text/plain": [
       "NULL"
      ]
     },
     "metadata": {},
     "output_type": "display_data"
    }
   ],
   "source": [
    "# converting biom to qiime2 artifact\n",
    "otu_art_file = file.path(tmp_dir, 'physeq_otu_meth.qza')\n",
    "cmd = sprintf('qiime tools import --type FeatureTable[Frequency] --input-path %s --output-path %s', \n",
    "              otu_biom_file, otu_art_file)\n",
    "print(cmd)\n",
    "bash_job(cmd, conda_env)"
   ]
  },
  {
   "cell_type": "markdown",
   "metadata": {},
   "source": [
    "## Metadata"
   ]
  },
  {
   "cell_type": "code",
   "execution_count": 27,
   "metadata": {
    "ExecuteTime": {
     "end_time": "2020-09-21T10:50:16.987196Z",
     "start_time": "2020-09-21T10:49:41.779Z"
    }
   },
   "outputs": [
    {
     "data": {
      "text/html": [
       "<table>\n",
       "<caption>A data.frame: 184 × 90</caption>\n",
       "<thead>\n",
       "\t<tr><th scope=col>#SampleID</th><th scope=col>host_subject_id</th><th scope=col>host_german_name</th><th scope=col>host_common_name</th><th scope=col>scientific_name</th><th scope=col>scientific_name_subspecies</th><th scope=col>host_taxid</th><th scope=col>class</th><th scope=col>order</th><th scope=col>family</th><th scope=col>⋯</th><th scope=col>i.CH4_L.d_mean</th><th scope=col>i.CH4_L.d_sd</th><th scope=col>i.CH4_L.kgBM_mean</th><th scope=col>i.CH4_L.kgBM_sd</th><th scope=col>i.CH4_g.d_mean</th><th scope=col>i.CH4_g.d_sd</th><th scope=col>i.CH4_kJ.d_mean</th><th scope=col>i.CH4_kJ.d_sd</th><th scope=col>Sample</th><th scope=col>host_class</th></tr>\n",
       "\t<tr><th scope=col>&lt;chr&gt;</th><th scope=col>&lt;chr&gt;</th><th scope=col>&lt;chr&gt;</th><th scope=col>&lt;chr&gt;</th><th scope=col>&lt;chr&gt;</th><th scope=col>&lt;chr&gt;</th><th scope=col>&lt;int&gt;</th><th scope=col>&lt;chr&gt;</th><th scope=col>&lt;chr&gt;</th><th scope=col>&lt;chr&gt;</th><th scope=col>⋯</th><th scope=col>&lt;dbl&gt;</th><th scope=col>&lt;dbl&gt;</th><th scope=col>&lt;dbl&gt;</th><th scope=col>&lt;dbl&gt;</th><th scope=col>&lt;dbl&gt;</th><th scope=col>&lt;dbl&gt;</th><th scope=col>&lt;dbl&gt;</th><th scope=col>&lt;dbl&gt;</th><th scope=col>&lt;chr&gt;</th><th scope=col>&lt;chr&gt;</th></tr>\n",
       "</thead>\n",
       "<tbody>\n",
       "\t<tr><td>F14_Common_Bream</td><td>F14</td><td>Brachse  </td><td>Common.Bream</td><td>Abramis_brama </td><td>NA</td><td>38527</td><td>Actinopterygii</td><td>Cypriniformes</td><td>Cyprinidae</td><td>⋯</td><td>      NA</td><td>      NA</td><td>       NA</td><td>       NA</td><td>      NA</td><td>      NA</td><td>      NA</td><td>      NA</td><td>F14_Common_Bream</td><td>Actinopterygii</td></tr>\n",
       "\t<tr><td>F35_Red_Deer    </td><td>F35</td><td>Rothirsch</td><td>Red.Deer    </td><td>Cervus_elaphus</td><td>NA</td><td> 9860</td><td>Mammalia      </td><td>Artiodactyla </td><td>Cervidae  </td><td>⋯</td><td>52.24132</td><td>27.18306</td><td>0.4858472</td><td>0.1686955</td><td>38.67117</td><td>21.30162</td><td>2066.942</td><td>1075.505</td><td>F35_Red_Deer    </td><td>Mammalia      </td></tr>\n",
       "\t<tr><td>⋮</td><td>⋮</td><td>⋮</td><td>⋮</td><td>⋮</td><td>⋮</td><td>⋮</td><td>⋮</td><td>⋮</td><td>⋮</td><td>⋱</td><td>⋮</td><td>⋮</td><td>⋮</td><td>⋮</td><td>⋮</td><td>⋮</td><td>⋮</td><td>⋮</td><td>⋮</td><td>⋮</td></tr>\n",
       "\t<tr><td>X431_Quagga     </td><td>431</td><td>Steppenzebra</td><td>Quagga      </td><td>Equus_quagga       </td><td>NA</td><td>89252</td><td>Mammalia</td><td>Perissodactyla</td><td>Equidae </td><td>⋯</td><td>NA</td><td>NA</td><td>NA</td><td>NA</td><td>NA</td><td>NA</td><td>NA</td><td>NA</td><td>X431_Quagga     </td><td>Mammalia</td></tr>\n",
       "\t<tr><td>X67_European_Roe</td><td>67 </td><td>Reh         </td><td>European.Roe</td><td>Capreolus_capreolus</td><td>NA</td><td> 9858</td><td>Mammalia</td><td>Artiodactyla  </td><td>Cervidae</td><td>⋯</td><td>NA</td><td>NA</td><td>NA</td><td>NA</td><td>NA</td><td>NA</td><td>NA</td><td>NA</td><td>X67_European_Roe</td><td>Mammalia</td></tr>\n",
       "</tbody>\n",
       "</table>\n"
      ],
      "text/latex": [
       "A data.frame: 184 × 90\n",
       "\\begin{tabular}{lllllllllllllllllllll}\n",
       " \\#SampleID & host\\_subject\\_id & host\\_german\\_name & host\\_common\\_name & scientific\\_name & scientific\\_name\\_subspecies & host\\_taxid & class & order & family & ⋯ & i.CH4\\_L.d\\_mean & i.CH4\\_L.d\\_sd & i.CH4\\_L.kgBM\\_mean & i.CH4\\_L.kgBM\\_sd & i.CH4\\_g.d\\_mean & i.CH4\\_g.d\\_sd & i.CH4\\_kJ.d\\_mean & i.CH4\\_kJ.d\\_sd & Sample & host\\_class\\\\\n",
       " <chr> & <chr> & <chr> & <chr> & <chr> & <chr> & <int> & <chr> & <chr> & <chr> & ⋯ & <dbl> & <dbl> & <dbl> & <dbl> & <dbl> & <dbl> & <dbl> & <dbl> & <chr> & <chr>\\\\\n",
       "\\hline\n",
       "\t F14\\_Common\\_Bream & F14 & Brachse   & Common.Bream & Abramis\\_brama  & NA & 38527 & Actinopterygii & Cypriniformes & Cyprinidae & ⋯ &       NA &       NA &        NA &        NA &       NA &       NA &       NA &       NA & F14\\_Common\\_Bream & Actinopterygii\\\\\n",
       "\t F35\\_Red\\_Deer     & F35 & Rothirsch & Red.Deer     & Cervus\\_elaphus & NA &  9860 & Mammalia       & Artiodactyla  & Cervidae   & ⋯ & 52.24132 & 27.18306 & 0.4858472 & 0.1686955 & 38.67117 & 21.30162 & 2066.942 & 1075.505 & F35\\_Red\\_Deer     & Mammalia      \\\\\n",
       "\t ⋮ & ⋮ & ⋮ & ⋮ & ⋮ & ⋮ & ⋮ & ⋮ & ⋮ & ⋮ & ⋱ & ⋮ & ⋮ & ⋮ & ⋮ & ⋮ & ⋮ & ⋮ & ⋮ & ⋮ & ⋮\\\\\n",
       "\t X431\\_Quagga      & 431 & Steppenzebra & Quagga       & Equus\\_quagga        & NA & 89252 & Mammalia & Perissodactyla & Equidae  & ⋯ & NA & NA & NA & NA & NA & NA & NA & NA & X431\\_Quagga      & Mammalia\\\\\n",
       "\t X67\\_European\\_Roe & 67  & Reh          & European.Roe & Capreolus\\_capreolus & NA &  9858 & Mammalia & Artiodactyla   & Cervidae & ⋯ & NA & NA & NA & NA & NA & NA & NA & NA & X67\\_European\\_Roe & Mammalia\\\\\n",
       "\\end{tabular}\n"
      ],
      "text/markdown": [
       "\n",
       "A data.frame: 184 × 90\n",
       "\n",
       "| #SampleID &lt;chr&gt; | host_subject_id &lt;chr&gt; | host_german_name &lt;chr&gt; | host_common_name &lt;chr&gt; | scientific_name &lt;chr&gt; | scientific_name_subspecies &lt;chr&gt; | host_taxid &lt;int&gt; | class &lt;chr&gt; | order &lt;chr&gt; | family &lt;chr&gt; | ⋯ ⋯ | i.CH4_L.d_mean &lt;dbl&gt; | i.CH4_L.d_sd &lt;dbl&gt; | i.CH4_L.kgBM_mean &lt;dbl&gt; | i.CH4_L.kgBM_sd &lt;dbl&gt; | i.CH4_g.d_mean &lt;dbl&gt; | i.CH4_g.d_sd &lt;dbl&gt; | i.CH4_kJ.d_mean &lt;dbl&gt; | i.CH4_kJ.d_sd &lt;dbl&gt; | Sample &lt;chr&gt; | host_class &lt;chr&gt; |\n",
       "|---|---|---|---|---|---|---|---|---|---|---|---|---|---|---|---|---|---|---|---|---|\n",
       "| F14_Common_Bream | F14 | Brachse   | Common.Bream | Abramis_brama  | NA | 38527 | Actinopterygii | Cypriniformes | Cyprinidae | ⋯ |       NA |       NA |        NA |        NA |       NA |       NA |       NA |       NA | F14_Common_Bream | Actinopterygii |\n",
       "| F35_Red_Deer     | F35 | Rothirsch | Red.Deer     | Cervus_elaphus | NA |  9860 | Mammalia       | Artiodactyla  | Cervidae   | ⋯ | 52.24132 | 27.18306 | 0.4858472 | 0.1686955 | 38.67117 | 21.30162 | 2066.942 | 1075.505 | F35_Red_Deer     | Mammalia       |\n",
       "| ⋮ | ⋮ | ⋮ | ⋮ | ⋮ | ⋮ | ⋮ | ⋮ | ⋮ | ⋮ | ⋱ | ⋮ | ⋮ | ⋮ | ⋮ | ⋮ | ⋮ | ⋮ | ⋮ | ⋮ | ⋮ |\n",
       "| X431_Quagga      | 431 | Steppenzebra | Quagga       | Equus_quagga        | NA | 89252 | Mammalia | Perissodactyla | Equidae  | ⋯ | NA | NA | NA | NA | NA | NA | NA | NA | X431_Quagga      | Mammalia |\n",
       "| X67_European_Roe | 67  | Reh          | European.Roe | Capreolus_capreolus | NA |  9858 | Mammalia | Artiodactyla   | Cervidae | ⋯ | NA | NA | NA | NA | NA | NA | NA | NA | X67_European_Roe | Mammalia |\n",
       "\n"
      ],
      "text/plain": [
       "    #SampleID        host_subject_id host_german_name host_common_name\n",
       "1   F14_Common_Bream F14             Brachse          Common.Bream    \n",
       "2   F35_Red_Deer     F35             Rothirsch        Red.Deer        \n",
       "⋮   ⋮                ⋮               ⋮                ⋮               \n",
       "183 X431_Quagga      431             Steppenzebra     Quagga          \n",
       "184 X67_European_Roe 67              Reh              European.Roe    \n",
       "    scientific_name     scientific_name_subspecies host_taxid class         \n",
       "1   Abramis_brama       NA                         38527      Actinopterygii\n",
       "2   Cervus_elaphus      NA                          9860      Mammalia      \n",
       "⋮   ⋮                   ⋮                          ⋮          ⋮             \n",
       "183 Equus_quagga        NA                         89252      Mammalia      \n",
       "184 Capreolus_capreolus NA                          9858      Mammalia      \n",
       "    order          family     ⋯ i.CH4_L.d_mean i.CH4_L.d_sd i.CH4_L.kgBM_mean\n",
       "1   Cypriniformes  Cyprinidae ⋯       NA             NA            NA        \n",
       "2   Artiodactyla   Cervidae   ⋯ 52.24132       27.18306     0.4858472        \n",
       "⋮   ⋮              ⋮          ⋱ ⋮              ⋮            ⋮                \n",
       "183 Perissodactyla Equidae    ⋯ NA             NA           NA               \n",
       "184 Artiodactyla   Cervidae   ⋯ NA             NA           NA               \n",
       "    i.CH4_L.kgBM_sd i.CH4_g.d_mean i.CH4_g.d_sd i.CH4_kJ.d_mean i.CH4_kJ.d_sd\n",
       "1          NA             NA             NA           NA              NA     \n",
       "2   0.1686955       38.67117       21.30162     2066.942        1075.505     \n",
       "⋮   ⋮               ⋮              ⋮            ⋮               ⋮            \n",
       "183 NA              NA             NA           NA              NA           \n",
       "184 NA              NA             NA           NA              NA           \n",
       "    Sample           host_class    \n",
       "1   F14_Common_Bream Actinopterygii\n",
       "2   F35_Red_Deer     Mammalia      \n",
       "⋮   ⋮                ⋮             \n",
       "183 X431_Quagga      Mammalia      \n",
       "184 X67_European_Roe Mammalia      "
      ]
     },
     "metadata": {},
     "output_type": "display_data"
    }
   ],
   "source": [
    "# converting sample metadata\n",
    "tmp = physeq %>% phyloseq2df(sample_data)\n",
    "tmp = cbind(tmp %>% dplyr::select(SampleID),\n",
    "            tmp %>% dplyr::select(-SampleID))\n",
    "colnames(tmp)[1] = '#SampleID'\n",
    "tmp$host_class = tmp$class\n",
    "tmp "
   ]
  },
  {
   "cell_type": "code",
   "execution_count": 28,
   "metadata": {
    "ExecuteTime": {
     "end_time": "2020-09-21T10:50:17.032364Z",
     "start_time": "2020-09-21T10:49:45.498Z"
    }
   },
   "outputs": [
    {
     "name": "stdout",
     "output_type": "stream",
     "text": [
      "File written: /ebio/abt3_projects/Georg_animal_feces/data/16S_arch/MiSeq-Runs-116-122-126-189-190/LLA/merged/diversity-qiime2//qiime2_files/physeq_sample-data_meth.tsv \n"
     ]
    }
   ],
   "source": [
    "# writing out table\n",
    "sample_data_file = file.path(tmp_dir, 'physeq_sample-data_meth.tsv')\n",
    "write.table(tmp, sample_data_file, sep='\\t', quote=FALSE, row.names=FALSE)\n",
    "cat('File written:', sample_data_file, '\\n')"
   ]
  },
  {
   "cell_type": "markdown",
   "metadata": {},
   "source": [
    "## Taxonomy"
   ]
  },
  {
   "cell_type": "code",
   "execution_count": 29,
   "metadata": {
    "ExecuteTime": {
     "end_time": "2020-09-21T10:50:17.138503Z",
     "start_time": "2020-09-21T10:49:49.442Z"
    }
   },
   "outputs": [
    {
     "data": {
      "text/html": [
       "<table>\n",
       "<caption>A data.frame: 1542 × 3</caption>\n",
       "<thead>\n",
       "\t<tr><th scope=col>OTU</th><th scope=col>taxonomy</th><th scope=col>Species</th></tr>\n",
       "\t<tr><th scope=col>&lt;chr&gt;</th><th scope=col>&lt;chr&gt;</th><th scope=col>&lt;chr&gt;</th></tr>\n",
       "</thead>\n",
       "<tbody>\n",
       "\t<tr><td>0e97060fe4b9be17bddeedcd27826b04</td><td>Archaea;Euryarchaeota;Methanobacteria;Methanobacteriales;Methanobacteriaceae;Methanobrevibacter</td><td>unclassified</td></tr>\n",
       "\t<tr><td>a86c26bd7f16d93e38b101dbd2614a07</td><td>Archaea;Euryarchaeota;Methanobacteria;Methanobacteriales;Methanobacteriaceae;Methanobrevibacter</td><td>unclassified</td></tr>\n",
       "\t<tr><td>⋮</td><td>⋮</td><td>⋮</td></tr>\n",
       "\t<tr><td>9449f372c36cd2d8994d79b091425d42</td><td>Archaea;Euryarchaeota;Methanobacteria;Methanobacteriales;Methanobacteriaceae;Methanobrevibacter</td><td>unclassified</td></tr>\n",
       "\t<tr><td>467eeae6997d3667b5d07a76bc1bcdfd</td><td>Archaea;Euryarchaeota;Methanobacteria;Methanobacteriales;Methanobacteriaceae;Methanobrevibacter</td><td>unclassified</td></tr>\n",
       "</tbody>\n",
       "</table>\n"
      ],
      "text/latex": [
       "A data.frame: 1542 × 3\n",
       "\\begin{tabular}{lll}\n",
       " OTU & taxonomy & Species\\\\\n",
       " <chr> & <chr> & <chr>\\\\\n",
       "\\hline\n",
       "\t 0e97060fe4b9be17bddeedcd27826b04 & Archaea;Euryarchaeota;Methanobacteria;Methanobacteriales;Methanobacteriaceae;Methanobrevibacter & unclassified\\\\\n",
       "\t a86c26bd7f16d93e38b101dbd2614a07 & Archaea;Euryarchaeota;Methanobacteria;Methanobacteriales;Methanobacteriaceae;Methanobrevibacter & unclassified\\\\\n",
       "\t ⋮ & ⋮ & ⋮\\\\\n",
       "\t 9449f372c36cd2d8994d79b091425d42 & Archaea;Euryarchaeota;Methanobacteria;Methanobacteriales;Methanobacteriaceae;Methanobrevibacter & unclassified\\\\\n",
       "\t 467eeae6997d3667b5d07a76bc1bcdfd & Archaea;Euryarchaeota;Methanobacteria;Methanobacteriales;Methanobacteriaceae;Methanobrevibacter & unclassified\\\\\n",
       "\\end{tabular}\n"
      ],
      "text/markdown": [
       "\n",
       "A data.frame: 1542 × 3\n",
       "\n",
       "| OTU &lt;chr&gt; | taxonomy &lt;chr&gt; | Species &lt;chr&gt; |\n",
       "|---|---|---|\n",
       "| 0e97060fe4b9be17bddeedcd27826b04 | Archaea;Euryarchaeota;Methanobacteria;Methanobacteriales;Methanobacteriaceae;Methanobrevibacter | unclassified |\n",
       "| a86c26bd7f16d93e38b101dbd2614a07 | Archaea;Euryarchaeota;Methanobacteria;Methanobacteriales;Methanobacteriaceae;Methanobrevibacter | unclassified |\n",
       "| ⋮ | ⋮ | ⋮ |\n",
       "| 9449f372c36cd2d8994d79b091425d42 | Archaea;Euryarchaeota;Methanobacteria;Methanobacteriales;Methanobacteriaceae;Methanobrevibacter | unclassified |\n",
       "| 467eeae6997d3667b5d07a76bc1bcdfd | Archaea;Euryarchaeota;Methanobacteria;Methanobacteriales;Methanobacteriaceae;Methanobrevibacter | unclassified |\n",
       "\n"
      ],
      "text/plain": [
       "     OTU                             \n",
       "1    0e97060fe4b9be17bddeedcd27826b04\n",
       "2    a86c26bd7f16d93e38b101dbd2614a07\n",
       "⋮    ⋮                               \n",
       "1541 9449f372c36cd2d8994d79b091425d42\n",
       "1542 467eeae6997d3667b5d07a76bc1bcdfd\n",
       "     taxonomy                                                                                       \n",
       "1    Archaea;Euryarchaeota;Methanobacteria;Methanobacteriales;Methanobacteriaceae;Methanobrevibacter\n",
       "2    Archaea;Euryarchaeota;Methanobacteria;Methanobacteriales;Methanobacteriaceae;Methanobrevibacter\n",
       "⋮    ⋮                                                                                              \n",
       "1541 Archaea;Euryarchaeota;Methanobacteria;Methanobacteriales;Methanobacteriaceae;Methanobrevibacter\n",
       "1542 Archaea;Euryarchaeota;Methanobacteria;Methanobacteriales;Methanobacteriaceae;Methanobrevibacter\n",
       "     Species     \n",
       "1    unclassified\n",
       "2    unclassified\n",
       "⋮    ⋮           \n",
       "1541 unclassified\n",
       "1542 unclassified"
      ]
     },
     "metadata": {},
     "output_type": "display_data"
    }
   ],
   "source": [
    "# converting taxonomy\n",
    "tmp = physeq %>% phyloseq2df(tax_table)\n",
    "tmp = cbind(tmp %>% dplyr::select(OTU),\n",
    "            tmp %>% dplyr::select(-OTU))\n",
    "tmp = tmp %>%\n",
    "    unite(taxonomy, Domain, Phylum, Class, Order, Family, Genus, sep=';') %>%\n",
    "    mutate(taxonomy = gsub(';+$','', taxonomy))\n",
    "tmp"
   ]
  },
  {
   "cell_type": "code",
   "execution_count": 30,
   "metadata": {
    "ExecuteTime": {
     "end_time": "2020-09-21T10:50:17.172471Z",
     "start_time": "2020-09-21T10:49:53.611Z"
    }
   },
   "outputs": [
    {
     "name": "stdout",
     "output_type": "stream",
     "text": [
      "File written: /ebio/abt3_projects/Georg_animal_feces/data/16S_arch/MiSeq-Runs-116-122-126-189-190/LLA/merged/diversity-qiime2//qiime2_files/physeq_tax-table_meth.tsv \n"
     ]
    }
   ],
   "source": [
    "# writing out table\n",
    "tax_table_file = file.path(tmp_dir, 'physeq_tax-table_meth.tsv')\n",
    "write.table(tmp, tax_table_file, sep='\\t', quote=FALSE, row.names=FALSE, col.names=FALSE)\n",
    "cat('File written:', tax_table_file, '\\n')"
   ]
  },
  {
   "cell_type": "code",
   "execution_count": 31,
   "metadata": {
    "ExecuteTime": {
     "end_time": "2020-09-21T10:50:29.928311Z",
     "start_time": "2020-09-21T10:49:57.035Z"
    }
   },
   "outputs": [
    {
     "name": "stdout",
     "output_type": "stream",
     "text": [
      "[1] \"qiime tools import --type FeatureData[Taxonomy] --input-format HeaderlessTSVTaxonomyFormat --input-path /ebio/abt3_projects/Georg_animal_feces/data/16S_arch/MiSeq-Runs-116-122-126-189-190/LLA/merged/diversity-qiime2//qiime2_files/physeq_tax-table_meth.tsv --output-path /ebio/abt3_projects/Georg_animal_feces/data/16S_arch/MiSeq-Runs-116-122-126-189-190/LLA/merged/diversity-qiime2//qiime2_files/physeq_tax_meth.qza\"\n",
      "Imported /ebio/abt3_projects/Georg_animal_feces/data/16S_arch/MiSeq-Runs-116-122-126-189-190/LLA/merged/diversity-qiime2//qiime2_files/physeq_tax-table_meth.tsv as HeaderlessTSVTaxonomyFormat to /ebio/abt3_projects/Georg_animal_feces/data/16S_arch/MiSeq-Runs-116-122-126-189-190/LLA/merged/diversity-qiime2//qiime2_files/physeq_tax_meth.qza"
     ]
    },
    {
     "data": {
      "text/plain": [
       "NULL"
      ]
     },
     "metadata": {},
     "output_type": "display_data"
    }
   ],
   "source": [
    "# converting tsv to artifact\n",
    "tax_art_file = file.path(tmp_dir, 'physeq_tax_meth.qza')\n",
    "cmd = sprintf('qiime tools import --type FeatureData[Taxonomy] --input-format HeaderlessTSVTaxonomyFormat --input-path %s --output-path %s', \n",
    "              tax_table_file, tax_art_file)\n",
    "print(cmd)\n",
    "bash_job(cmd, conda_env)"
   ]
  },
  {
   "cell_type": "markdown",
   "metadata": {},
   "source": [
    "## Phylogeny"
   ]
  },
  {
   "cell_type": "code",
   "execution_count": 32,
   "metadata": {
    "ExecuteTime": {
     "end_time": "2020-09-21T10:50:30.079717Z",
     "start_time": "2020-09-21T10:50:00.946Z"
    }
   },
   "outputs": [
    {
     "name": "stdout",
     "output_type": "stream",
     "text": [
      "File written: /ebio/abt3_projects/Georg_animal_feces/data/16S_arch/MiSeq-Runs-116-122-126-189-190/LLA/merged/diversity-qiime2//qiime2_files/physeq_16S_meth.nwk \n"
     ]
    }
   ],
   "source": [
    "tree_file = file.path(tmp_dir, 'physeq_16S_meth.nwk')\n",
    "write.tree(physeq %>% phy_tree, tree_file)\n",
    "cat('File written:', tree_file, '\\n')"
   ]
  },
  {
   "cell_type": "code",
   "execution_count": 33,
   "metadata": {
    "ExecuteTime": {
     "end_time": "2020-09-21T10:50:42.530991Z",
     "start_time": "2020-09-21T10:50:05.052Z"
    }
   },
   "outputs": [
    {
     "name": "stdout",
     "output_type": "stream",
     "text": [
      "[1] \"qiime tools import --type Phylogeny[Rooted] --input-path /ebio/abt3_projects/Georg_animal_feces/data/16S_arch/MiSeq-Runs-116-122-126-189-190/LLA/merged/diversity-qiime2//qiime2_files/physeq_16S_meth.nwk --output-path /ebio/abt3_projects/Georg_animal_feces/data/16S_arch/MiSeq-Runs-116-122-126-189-190/LLA/merged/diversity-qiime2//qiime2_files/physeq_16Stree_meth.qza\"\n",
      "Imported /ebio/abt3_projects/Georg_animal_feces/data/16S_arch/MiSeq-Runs-116-122-126-189-190/LLA/merged/diversity-qiime2//qiime2_files/physeq_16S_meth.nwk as NewickDirectoryFormat to /ebio/abt3_projects/Georg_animal_feces/data/16S_arch/MiSeq-Runs-116-122-126-189-190/LLA/merged/diversity-qiime2//qiime2_files/physeq_16Stree_meth.qza"
     ]
    },
    {
     "data": {
      "text/plain": [
       "NULL"
      ]
     },
     "metadata": {},
     "output_type": "display_data"
    }
   ],
   "source": [
    "# convert to artifact\n",
    "tree_art_file = file.path(tmp_dir, 'physeq_16Stree_meth.qza')\n",
    "cmd = sprintf('qiime tools import --type Phylogeny[Rooted] --input-path %s --output-path %s', \n",
    "              tree_file, tree_art_file)\n",
    "print(cmd)\n",
    "bash_job(cmd, conda_env)"
   ]
  },
  {
   "cell_type": "markdown",
   "metadata": {},
   "source": [
    "# Calculating diversity"
   ]
  },
  {
   "cell_type": "code",
   "execution_count": 34,
   "metadata": {
    "ExecuteTime": {
     "end_time": "2020-09-21T10:51:06.568098Z",
     "start_time": "2020-09-21T10:50:35.514Z"
    }
   },
   "outputs": [
    {
     "name": "stdout",
     "output_type": "stream",
     "text": [
      "qiime diversity core-metrics-phylogenetic \\\n",
      "  --i-phylogeny /ebio/abt3_projects/Georg_animal_feces/data/16S_arch/MiSeq-Runs-116-122-126-189-190/LLA/merged/diversity-qiime2//qiime2_files/physeq_16Stree_meth.qza \\\n",
      "  --i-table /ebio/abt3_projects/Georg_animal_feces/data/16S_arch/MiSeq-Runs-116-122-126-189-190/LLA/merged/diversity-qiime2//qiime2_files/physeq_otu_meth.qza \\\n",
      "  --m-metadata-file /ebio/abt3_projects/Georg_animal_feces/data/16S_arch/MiSeq-Runs-116-122-126-189-190/LLA/merged/diversity-qiime2//qiime2_files/physeq_sample-data_meth.tsv \\\n",
      "  --output-dir /ebio/abt3_projects/Georg_animal_feces/data/16S_arch/MiSeq-Runs-116-122-126-189-190/LLA/merged/diversity-qiime2//qiime2_files/core_metrics_phylo_meth \\\n",
      "  --p-sampling-depth 200 \\\n",
      "  2> /ebio/abt3_projects/Georg_animal_feces/data/16S_arch/MiSeq-Runs-116-122-126-189-190/LLA/merged/diversity-qiime2//qiime2_files/core-metrics-phylo_meth.log 1>&2"
     ]
    },
    {
     "data": {
      "text/plain": [
       "NULL"
      ]
     },
     "metadata": {},
     "output_type": "display_data"
    }
   ],
   "source": [
    "# core-metrics: phylogenetic diversity function\n",
    "\n",
    "## output \n",
    "core_metrics_phylo_dir = file.path(tmp_dir, 'core_metrics_phylo_meth')\n",
    "unlink(core_metrics_phylo_dir, recursive=TRUE)\n",
    "log_file = file.path(tmp_dir, 'core-metrics-phylo_meth.log')\n",
    "\n",
    "\n",
    "## command\n",
    "cmd = \"qiime diversity core-metrics-phylogenetic \\\\\n",
    "  --i-phylogeny %s \\\\\n",
    "  --i-table %s \\\\\n",
    "  --m-metadata-file %s \\\\\n",
    "  --output-dir %s \\\\\n",
    "  --p-sampling-depth %s \\\\\n",
    "  2> %s 1>&2\"\n",
    "\n",
    "cmd = sprintf(cmd,\n",
    "              tree_art_file,\n",
    "              otu_art_file, \n",
    "              sample_data_file, \n",
    "              core_metrics_phylo_dir,\n",
    "              200, log_file)\n",
    "\n",
    "## run\n",
    "cat(cmd)\n",
    "bash_job(cmd, conda_env)"
   ]
  },
  {
   "cell_type": "markdown",
   "metadata": {},
   "source": [
    "# Converting to R objects"
   ]
  },
  {
   "cell_type": "markdown",
   "metadata": {},
   "source": [
    "## alpha-diversity"
   ]
  },
  {
   "cell_type": "code",
   "execution_count": 35,
   "metadata": {
    "ExecuteTime": {
     "end_time": "2020-09-21T10:51:06.600336Z",
     "start_time": "2020-09-21T10:50:38.832Z"
    }
   },
   "outputs": [
    {
     "data": {
      "text/html": [
       "<style>\n",
       ".list-inline {list-style: none; margin:0; padding: 0}\n",
       ".list-inline>li {display: inline-block}\n",
       ".list-inline>li:not(:last-child)::after {content: \"\\00b7\"; padding: 0 .5ex}\n",
       "</style>\n",
       "<ol class=list-inline><li>'/ebio/abt3_projects/Georg_animal_feces/data/16S_arch/MiSeq-Runs-116-122-126-189-190/LLA/merged/diversity-qiime2//qiime2_files/core_metrics_phylo_meth/evenness_vector.qza'</li><li>'/ebio/abt3_projects/Georg_animal_feces/data/16S_arch/MiSeq-Runs-116-122-126-189-190/LLA/merged/diversity-qiime2//qiime2_files/core_metrics_phylo_meth/faith_pd_vector.qza'</li><li>'/ebio/abt3_projects/Georg_animal_feces/data/16S_arch/MiSeq-Runs-116-122-126-189-190/LLA/merged/diversity-qiime2//qiime2_files/core_metrics_phylo_meth/observed_otus_vector.qza'</li><li>'/ebio/abt3_projects/Georg_animal_feces/data/16S_arch/MiSeq-Runs-116-122-126-189-190/LLA/merged/diversity-qiime2//qiime2_files/core_metrics_phylo_meth/shannon_vector.qza'</li></ol>\n"
      ],
      "text/latex": [
       "\\begin{enumerate*}\n",
       "\\item '/ebio/abt3\\_projects/Georg\\_animal\\_feces/data/16S\\_arch/MiSeq-Runs-116-122-126-189-190/LLA/merged/diversity-qiime2//qiime2\\_files/core\\_metrics\\_phylo\\_meth/evenness\\_vector.qza'\n",
       "\\item '/ebio/abt3\\_projects/Georg\\_animal\\_feces/data/16S\\_arch/MiSeq-Runs-116-122-126-189-190/LLA/merged/diversity-qiime2//qiime2\\_files/core\\_metrics\\_phylo\\_meth/faith\\_pd\\_vector.qza'\n",
       "\\item '/ebio/abt3\\_projects/Georg\\_animal\\_feces/data/16S\\_arch/MiSeq-Runs-116-122-126-189-190/LLA/merged/diversity-qiime2//qiime2\\_files/core\\_metrics\\_phylo\\_meth/observed\\_otus\\_vector.qza'\n",
       "\\item '/ebio/abt3\\_projects/Georg\\_animal\\_feces/data/16S\\_arch/MiSeq-Runs-116-122-126-189-190/LLA/merged/diversity-qiime2//qiime2\\_files/core\\_metrics\\_phylo\\_meth/shannon\\_vector.qza'\n",
       "\\end{enumerate*}\n"
      ],
      "text/markdown": [
       "1. '/ebio/abt3_projects/Georg_animal_feces/data/16S_arch/MiSeq-Runs-116-122-126-189-190/LLA/merged/diversity-qiime2//qiime2_files/core_metrics_phylo_meth/evenness_vector.qza'\n",
       "2. '/ebio/abt3_projects/Georg_animal_feces/data/16S_arch/MiSeq-Runs-116-122-126-189-190/LLA/merged/diversity-qiime2//qiime2_files/core_metrics_phylo_meth/faith_pd_vector.qza'\n",
       "3. '/ebio/abt3_projects/Georg_animal_feces/data/16S_arch/MiSeq-Runs-116-122-126-189-190/LLA/merged/diversity-qiime2//qiime2_files/core_metrics_phylo_meth/observed_otus_vector.qza'\n",
       "4. '/ebio/abt3_projects/Georg_animal_feces/data/16S_arch/MiSeq-Runs-116-122-126-189-190/LLA/merged/diversity-qiime2//qiime2_files/core_metrics_phylo_meth/shannon_vector.qza'\n",
       "\n",
       "\n"
      ],
      "text/plain": [
       "[1] \"/ebio/abt3_projects/Georg_animal_feces/data/16S_arch/MiSeq-Runs-116-122-126-189-190/LLA/merged/diversity-qiime2//qiime2_files/core_metrics_phylo_meth/evenness_vector.qza\"     \n",
       "[2] \"/ebio/abt3_projects/Georg_animal_feces/data/16S_arch/MiSeq-Runs-116-122-126-189-190/LLA/merged/diversity-qiime2//qiime2_files/core_metrics_phylo_meth/faith_pd_vector.qza\"     \n",
       "[3] \"/ebio/abt3_projects/Georg_animal_feces/data/16S_arch/MiSeq-Runs-116-122-126-189-190/LLA/merged/diversity-qiime2//qiime2_files/core_metrics_phylo_meth/observed_otus_vector.qza\"\n",
       "[4] \"/ebio/abt3_projects/Georg_animal_feces/data/16S_arch/MiSeq-Runs-116-122-126-189-190/LLA/merged/diversity-qiime2//qiime2_files/core_metrics_phylo_meth/shannon_vector.qza\"      "
      ]
     },
     "metadata": {},
     "output_type": "display_data"
    }
   ],
   "source": [
    "# phylo vectors\n",
    "files = list.files(core_metrics_phylo_dir, pattern='*_vector.qza', full.names=TRUE)\n",
    "files"
   ]
  },
  {
   "cell_type": "code",
   "execution_count": 36,
   "metadata": {
    "ExecuteTime": {
     "end_time": "2020-09-21T10:51:54.872237Z",
     "start_time": "2020-09-21T10:51:00.849Z"
    }
   },
   "outputs": [
    {
     "name": "stdout",
     "output_type": "stream",
     "text": [
      "qiime tools export --output-path /ebio/abt3_projects/Georg_animal_feces/data/16S_arch/MiSeq-Runs-116-122-126-189-190/LLA/merged/diversity-qiime2//qiime2_files/core_metrics_phylo_meth --input-path /ebio/abt3_projects/Georg_animal_feces/data/16S_arch/MiSeq-Runs-116-122-126-189-190/LLA/merged/diversity-qiime2//qiime2_files/core_metrics_phylo_meth/evenness_vector.qza \n",
      "Exported /ebio/abt3_projects/Georg_animal_feces/data/16S_arch/MiSeq-Runs-116-122-126-189-190/LLA/merged/diversity-qiime2//qiime2_files/core_metrics_phylo_meth/evenness_vector.qza as AlphaDiversityDirectoryFormat to directory /ebio/abt3_projects/Georg_animal_feces/data/16S_arch/MiSeq-Runs-116-122-126-189-190/LLA/merged/diversity-qiime2//qiime2_files/core_metrics_phylo_methFile written: /ebio/abt3_projects/Georg_animal_feces/data/16S_arch/MiSeq-Runs-116-122-126-189-190/LLA/merged/diversity-qiime2//evenness.RDS \n",
      "\n",
      "qiime tools export --output-path /ebio/abt3_projects/Georg_animal_feces/data/16S_arch/MiSeq-Runs-116-122-126-189-190/LLA/merged/diversity-qiime2//qiime2_files/core_metrics_phylo_meth --input-path /ebio/abt3_projects/Georg_animal_feces/data/16S_arch/MiSeq-Runs-116-122-126-189-190/LLA/merged/diversity-qiime2//qiime2_files/core_metrics_phylo_meth/faith_pd_vector.qza \n",
      "Exported /ebio/abt3_projects/Georg_animal_feces/data/16S_arch/MiSeq-Runs-116-122-126-189-190/LLA/merged/diversity-qiime2//qiime2_files/core_metrics_phylo_meth/faith_pd_vector.qza as AlphaDiversityDirectoryFormat to directory /ebio/abt3_projects/Georg_animal_feces/data/16S_arch/MiSeq-Runs-116-122-126-189-190/LLA/merged/diversity-qiime2//qiime2_files/core_metrics_phylo_methFile written: /ebio/abt3_projects/Georg_animal_feces/data/16S_arch/MiSeq-Runs-116-122-126-189-190/LLA/merged/diversity-qiime2//faith_pd.RDS \n",
      "\n",
      "qiime tools export --output-path /ebio/abt3_projects/Georg_animal_feces/data/16S_arch/MiSeq-Runs-116-122-126-189-190/LLA/merged/diversity-qiime2//qiime2_files/core_metrics_phylo_meth --input-path /ebio/abt3_projects/Georg_animal_feces/data/16S_arch/MiSeq-Runs-116-122-126-189-190/LLA/merged/diversity-qiime2//qiime2_files/core_metrics_phylo_meth/observed_otus_vector.qza \n",
      "Exported /ebio/abt3_projects/Georg_animal_feces/data/16S_arch/MiSeq-Runs-116-122-126-189-190/LLA/merged/diversity-qiime2//qiime2_files/core_metrics_phylo_meth/observed_otus_vector.qza as AlphaDiversityDirectoryFormat to directory /ebio/abt3_projects/Georg_animal_feces/data/16S_arch/MiSeq-Runs-116-122-126-189-190/LLA/merged/diversity-qiime2//qiime2_files/core_metrics_phylo_methFile written: /ebio/abt3_projects/Georg_animal_feces/data/16S_arch/MiSeq-Runs-116-122-126-189-190/LLA/merged/diversity-qiime2//observed_otus.RDS \n",
      "\n",
      "qiime tools export --output-path /ebio/abt3_projects/Georg_animal_feces/data/16S_arch/MiSeq-Runs-116-122-126-189-190/LLA/merged/diversity-qiime2//qiime2_files/core_metrics_phylo_meth --input-path /ebio/abt3_projects/Georg_animal_feces/data/16S_arch/MiSeq-Runs-116-122-126-189-190/LLA/merged/diversity-qiime2//qiime2_files/core_metrics_phylo_meth/shannon_vector.qza \n",
      "Exported /ebio/abt3_projects/Georg_animal_feces/data/16S_arch/MiSeq-Runs-116-122-126-189-190/LLA/merged/diversity-qiime2//qiime2_files/core_metrics_phylo_meth/shannon_vector.qza as AlphaDiversityDirectoryFormat to directory /ebio/abt3_projects/Georg_animal_feces/data/16S_arch/MiSeq-Runs-116-122-126-189-190/LLA/merged/diversity-qiime2//qiime2_files/core_metrics_phylo_methFile written: /ebio/abt3_projects/Georg_animal_feces/data/16S_arch/MiSeq-Runs-116-122-126-189-190/LLA/merged/diversity-qiime2//shannon.RDS \n",
      "\n"
     ]
    }
   ],
   "source": [
    "# phylo vectors\n",
    "cmd = \"qiime tools export --output-path %s --input-path %s\"\n",
    "\n",
    "for(f in files){\n",
    "    # export qza to tsv\n",
    "    cmd_tmp = sprintf(cmd, core_metrics_phylo_dir, f)\n",
    "    cat(cmd_tmp, '\\n')\n",
    "    bash_job(cmd_tmp, conda_env)    \n",
    "          \n",
    "    # convert tsv to data.frame RDS\n",
    "    exported_file = file.path(core_metrics_phylo_dir, 'alpha-diversity.tsv')\n",
    "    df = read.delim(exported_file, sep='\\t', row.names=1)\n",
    "    final_file = gsub('_vector.+', '.RDS', f)\n",
    "    final_file = file.path(work_dir, basename(final_file))\n",
    "    saveRDS(df, final_file)\n",
    "    cat('File written:', final_file, '\\n\\n')\n",
    "}"
   ]
  },
  {
   "cell_type": "markdown",
   "metadata": {},
   "source": [
    "### Compiling into a list"
   ]
  },
  {
   "cell_type": "code",
   "execution_count": 37,
   "metadata": {
    "ExecuteTime": {
     "end_time": "2020-09-21T10:51:55.513587Z",
     "start_time": "2020-09-21T10:51:06.000Z"
    }
   },
   "outputs": [
    {
     "name": "stdout",
     "output_type": "stream",
     "text": [
      "File written: /ebio/abt3_projects/Georg_animal_feces/data/16S_arch/MiSeq-Runs-116-122-126-189-190/LLA/merged/diversity-qiime2//alpha_div_meth.RDS \n"
     ]
    }
   ],
   "source": [
    "alpha_div = list(\n",
    "   'evenness' = 'evenness.RDS',\n",
    "   'observed' = 'observed_otus.RDS',\n",
    "   'shannon' = 'shannon.RDS',\n",
    "   'faith_pd' = 'faith_pd.RDS'\n",
    ")\n",
    "\n",
    "alpha_div_rds = list()\n",
    "for(n in names(alpha_div)){\n",
    "    x = readRDS(file.path(work_dir, alpha_div[[n]]))\n",
    "    alpha_div_rds[[n]] = x\n",
    "}\n",
    "\n",
    "alpha_div_rds_file = file.path(work_dir, 'alpha_div_meth.RDS')\n",
    "saveRDS(alpha_div_rds, alpha_div_rds_file)\n",
    "cat('File written:', alpha_div_rds_file, '\\n')"
   ]
  },
  {
   "cell_type": "markdown",
   "metadata": {},
   "source": [
    "## beta-diversity"
   ]
  },
  {
   "cell_type": "code",
   "execution_count": 38,
   "metadata": {
    "ExecuteTime": {
     "end_time": "2020-09-21T10:51:55.540312Z",
     "start_time": "2020-09-21T10:51:12.056Z"
    }
   },
   "outputs": [
    {
     "data": {
      "text/html": [
       "<style>\n",
       ".list-inline {list-style: none; margin:0; padding: 0}\n",
       ".list-inline>li {display: inline-block}\n",
       ".list-inline>li:not(:last-child)::after {content: \"\\00b7\"; padding: 0 .5ex}\n",
       "</style>\n",
       "<ol class=list-inline><li>'/ebio/abt3_projects/Georg_animal_feces/data/16S_arch/MiSeq-Runs-116-122-126-189-190/LLA/merged/diversity-qiime2//qiime2_files/core_metrics_phylo_meth/bray_curtis_distance_matrix.qza'</li><li>'/ebio/abt3_projects/Georg_animal_feces/data/16S_arch/MiSeq-Runs-116-122-126-189-190/LLA/merged/diversity-qiime2//qiime2_files/core_metrics_phylo_meth/jaccard_distance_matrix.qza'</li><li>'/ebio/abt3_projects/Georg_animal_feces/data/16S_arch/MiSeq-Runs-116-122-126-189-190/LLA/merged/diversity-qiime2//qiime2_files/core_metrics_phylo_meth/unweighted_unifrac_distance_matrix.qza'</li><li>'/ebio/abt3_projects/Georg_animal_feces/data/16S_arch/MiSeq-Runs-116-122-126-189-190/LLA/merged/diversity-qiime2//qiime2_files/core_metrics_phylo_meth/weighted_unifrac_distance_matrix.qza'</li></ol>\n"
      ],
      "text/latex": [
       "\\begin{enumerate*}\n",
       "\\item '/ebio/abt3\\_projects/Georg\\_animal\\_feces/data/16S\\_arch/MiSeq-Runs-116-122-126-189-190/LLA/merged/diversity-qiime2//qiime2\\_files/core\\_metrics\\_phylo\\_meth/bray\\_curtis\\_distance\\_matrix.qza'\n",
       "\\item '/ebio/abt3\\_projects/Georg\\_animal\\_feces/data/16S\\_arch/MiSeq-Runs-116-122-126-189-190/LLA/merged/diversity-qiime2//qiime2\\_files/core\\_metrics\\_phylo\\_meth/jaccard\\_distance\\_matrix.qza'\n",
       "\\item '/ebio/abt3\\_projects/Georg\\_animal\\_feces/data/16S\\_arch/MiSeq-Runs-116-122-126-189-190/LLA/merged/diversity-qiime2//qiime2\\_files/core\\_metrics\\_phylo\\_meth/unweighted\\_unifrac\\_distance\\_matrix.qza'\n",
       "\\item '/ebio/abt3\\_projects/Georg\\_animal\\_feces/data/16S\\_arch/MiSeq-Runs-116-122-126-189-190/LLA/merged/diversity-qiime2//qiime2\\_files/core\\_metrics\\_phylo\\_meth/weighted\\_unifrac\\_distance\\_matrix.qza'\n",
       "\\end{enumerate*}\n"
      ],
      "text/markdown": [
       "1. '/ebio/abt3_projects/Georg_animal_feces/data/16S_arch/MiSeq-Runs-116-122-126-189-190/LLA/merged/diversity-qiime2//qiime2_files/core_metrics_phylo_meth/bray_curtis_distance_matrix.qza'\n",
       "2. '/ebio/abt3_projects/Georg_animal_feces/data/16S_arch/MiSeq-Runs-116-122-126-189-190/LLA/merged/diversity-qiime2//qiime2_files/core_metrics_phylo_meth/jaccard_distance_matrix.qza'\n",
       "3. '/ebio/abt3_projects/Georg_animal_feces/data/16S_arch/MiSeq-Runs-116-122-126-189-190/LLA/merged/diversity-qiime2//qiime2_files/core_metrics_phylo_meth/unweighted_unifrac_distance_matrix.qza'\n",
       "4. '/ebio/abt3_projects/Georg_animal_feces/data/16S_arch/MiSeq-Runs-116-122-126-189-190/LLA/merged/diversity-qiime2//qiime2_files/core_metrics_phylo_meth/weighted_unifrac_distance_matrix.qza'\n",
       "\n",
       "\n"
      ],
      "text/plain": [
       "[1] \"/ebio/abt3_projects/Georg_animal_feces/data/16S_arch/MiSeq-Runs-116-122-126-189-190/LLA/merged/diversity-qiime2//qiime2_files/core_metrics_phylo_meth/bray_curtis_distance_matrix.qza\"       \n",
       "[2] \"/ebio/abt3_projects/Georg_animal_feces/data/16S_arch/MiSeq-Runs-116-122-126-189-190/LLA/merged/diversity-qiime2//qiime2_files/core_metrics_phylo_meth/jaccard_distance_matrix.qza\"           \n",
       "[3] \"/ebio/abt3_projects/Georg_animal_feces/data/16S_arch/MiSeq-Runs-116-122-126-189-190/LLA/merged/diversity-qiime2//qiime2_files/core_metrics_phylo_meth/unweighted_unifrac_distance_matrix.qza\"\n",
       "[4] \"/ebio/abt3_projects/Georg_animal_feces/data/16S_arch/MiSeq-Runs-116-122-126-189-190/LLA/merged/diversity-qiime2//qiime2_files/core_metrics_phylo_meth/weighted_unifrac_distance_matrix.qza\"  "
      ]
     },
     "metadata": {},
     "output_type": "display_data"
    }
   ],
   "source": [
    "# phylo distance matrices\n",
    "files = list.files(core_metrics_phylo_dir, pattern='*matrix.qza', full.names=TRUE)\n",
    "files"
   ]
  },
  {
   "cell_type": "code",
   "execution_count": 39,
   "metadata": {
    "ExecuteTime": {
     "end_time": "2020-09-21T10:52:44.221034Z",
     "start_time": "2020-09-21T10:51:30.864Z"
    }
   },
   "outputs": [
    {
     "name": "stdout",
     "output_type": "stream",
     "text": [
      "qiime tools export --output-path /ebio/abt3_projects/Georg_animal_feces/data/16S_arch/MiSeq-Runs-116-122-126-189-190/LLA/merged/diversity-qiime2//qiime2_files/core_metrics_phylo_meth --input-path /ebio/abt3_projects/Georg_animal_feces/data/16S_arch/MiSeq-Runs-116-122-126-189-190/LLA/merged/diversity-qiime2//qiime2_files/core_metrics_phylo_meth/bray_curtis_distance_matrix.qza \n",
      "Exported /ebio/abt3_projects/Georg_animal_feces/data/16S_arch/MiSeq-Runs-116-122-126-189-190/LLA/merged/diversity-qiime2//qiime2_files/core_metrics_phylo_meth/bray_curtis_distance_matrix.qza as DistanceMatrixDirectoryFormat to directory /ebio/abt3_projects/Georg_animal_feces/data/16S_arch/MiSeq-Runs-116-122-126-189-190/LLA/merged/diversity-qiime2//qiime2_files/core_metrics_phylo_meth\n",
      "File written: /ebio/abt3_projects/Georg_animal_feces/data/16S_arch/MiSeq-Runs-116-122-126-189-190/LLA/merged/diversity-qiime2//bray_curtis_meth.RDS \n",
      "\n",
      "qiime tools export --output-path /ebio/abt3_projects/Georg_animal_feces/data/16S_arch/MiSeq-Runs-116-122-126-189-190/LLA/merged/diversity-qiime2//qiime2_files/core_metrics_phylo_meth --input-path /ebio/abt3_projects/Georg_animal_feces/data/16S_arch/MiSeq-Runs-116-122-126-189-190/LLA/merged/diversity-qiime2//qiime2_files/core_metrics_phylo_meth/jaccard_distance_matrix.qza \n",
      "Exported /ebio/abt3_projects/Georg_animal_feces/data/16S_arch/MiSeq-Runs-116-122-126-189-190/LLA/merged/diversity-qiime2//qiime2_files/core_metrics_phylo_meth/jaccard_distance_matrix.qza as DistanceMatrixDirectoryFormat to directory /ebio/abt3_projects/Georg_animal_feces/data/16S_arch/MiSeq-Runs-116-122-126-189-190/LLA/merged/diversity-qiime2//qiime2_files/core_metrics_phylo_meth\n",
      "File written: /ebio/abt3_projects/Georg_animal_feces/data/16S_arch/MiSeq-Runs-116-122-126-189-190/LLA/merged/diversity-qiime2//jaccard_meth.RDS \n",
      "\n",
      "qiime tools export --output-path /ebio/abt3_projects/Georg_animal_feces/data/16S_arch/MiSeq-Runs-116-122-126-189-190/LLA/merged/diversity-qiime2//qiime2_files/core_metrics_phylo_meth --input-path /ebio/abt3_projects/Georg_animal_feces/data/16S_arch/MiSeq-Runs-116-122-126-189-190/LLA/merged/diversity-qiime2//qiime2_files/core_metrics_phylo_meth/unweighted_unifrac_distance_matrix.qza \n",
      "Exported /ebio/abt3_projects/Georg_animal_feces/data/16S_arch/MiSeq-Runs-116-122-126-189-190/LLA/merged/diversity-qiime2//qiime2_files/core_metrics_phylo_meth/unweighted_unifrac_distance_matrix.qza as DistanceMatrixDirectoryFormat to directory /ebio/abt3_projects/Georg_animal_feces/data/16S_arch/MiSeq-Runs-116-122-126-189-190/LLA/merged/diversity-qiime2//qiime2_files/core_metrics_phylo_meth\n",
      "File written: /ebio/abt3_projects/Georg_animal_feces/data/16S_arch/MiSeq-Runs-116-122-126-189-190/LLA/merged/diversity-qiime2//unweighted_unifrac_meth.RDS \n",
      "\n",
      "qiime tools export --output-path /ebio/abt3_projects/Georg_animal_feces/data/16S_arch/MiSeq-Runs-116-122-126-189-190/LLA/merged/diversity-qiime2//qiime2_files/core_metrics_phylo_meth --input-path /ebio/abt3_projects/Georg_animal_feces/data/16S_arch/MiSeq-Runs-116-122-126-189-190/LLA/merged/diversity-qiime2//qiime2_files/core_metrics_phylo_meth/weighted_unifrac_distance_matrix.qza \n",
      "Exported /ebio/abt3_projects/Georg_animal_feces/data/16S_arch/MiSeq-Runs-116-122-126-189-190/LLA/merged/diversity-qiime2//qiime2_files/core_metrics_phylo_meth/weighted_unifrac_distance_matrix.qza as DistanceMatrixDirectoryFormat to directory /ebio/abt3_projects/Georg_animal_feces/data/16S_arch/MiSeq-Runs-116-122-126-189-190/LLA/merged/diversity-qiime2//qiime2_files/core_metrics_phylo_meth\n",
      "File written: /ebio/abt3_projects/Georg_animal_feces/data/16S_arch/MiSeq-Runs-116-122-126-189-190/LLA/merged/diversity-qiime2//weighted_unifrac_meth.RDS \n",
      "\n"
     ]
    }
   ],
   "source": [
    "# phylo distance matrices\n",
    "cmd = \"qiime tools export --output-path %s --input-path %s\"\n",
    "\n",
    "for(f in files){\n",
    "    # export qza to tsv\n",
    "    cmd_tmp = sprintf(cmd, core_metrics_phylo_dir, f)\n",
    "    cat(cmd_tmp, '\\n') \n",
    "    bash_job(cmd_tmp, conda_env)    \n",
    "          \n",
    "    # convert tsv to data.frame RDS\n",
    "    exported_file = file.path(core_metrics_phylo_dir, 'distance-matrix.tsv')\n",
    "    d = read.delim(exported_file, sep='\\t', row.names=1) %>% as.dist\n",
    "    final_file = gsub('_distance_matrix.+', '_meth.RDS', f)\n",
    "    final_file = file.path(work_dir, basename(final_file))\n",
    "    saveRDS(d, final_file)\n",
    "    cat('\\nFile written:', final_file, '\\n\\n')\n",
    "}"
   ]
  },
  {
   "cell_type": "markdown",
   "metadata": {},
   "source": [
    "### Compiling into a list"
   ]
  },
  {
   "cell_type": "code",
   "execution_count": 40,
   "metadata": {
    "ExecuteTime": {
     "end_time": "2020-09-21T10:52:44.306732Z",
     "start_time": "2020-09-21T10:51:47.432Z"
    }
   },
   "outputs": [
    {
     "name": "stdout",
     "output_type": "stream",
     "text": [
      "File written: /ebio/abt3_projects/Georg_animal_feces/data/16S_arch/MiSeq-Runs-116-122-126-189-190/LLA/merged/diversity-qiime2//beta_div_meth.RDS \n"
     ]
    }
   ],
   "source": [
    "beta_div = list(\n",
    "   'bray_curtis' = 'bray_curtis_meth.RDS',\n",
    "   'jaccard' = 'jaccard_meth.RDS',\n",
    "   'unweighted_unifrac' = 'unweighted_unifrac_meth.RDS',\n",
    "   'weighted_unifrac' = 'weighted_unifrac_meth.RDS'\n",
    ")\n",
    "\n",
    "beta_div_rds = list()\n",
    "for(n in names(beta_div)){\n",
    "    x = readRDS(file.path(work_dir, beta_div[[n]]))\n",
    "    beta_div_rds[[n]] = x\n",
    "}\n",
    "\n",
    "beta_div_rds_file = file.path(work_dir, 'beta_div_meth.RDS')\n",
    "saveRDS(beta_div_rds, beta_div_rds_file)\n",
    "cat('File written:', beta_div_rds_file, '\\n')"
   ]
  },
  {
   "cell_type": "markdown",
   "metadata": {},
   "source": [
    "# Final files"
   ]
  },
  {
   "cell_type": "code",
   "execution_count": 41,
   "metadata": {
    "ExecuteTime": {
     "end_time": "2020-09-21T10:52:44.334626Z",
     "start_time": "2020-09-21T10:51:49.197Z"
    }
   },
   "outputs": [
    {
     "name": "stdout",
     "output_type": "stream",
     "text": [
      "[1] \"/ebio/abt3_projects/Georg_animal_feces/data/16S_arch/MiSeq-Runs-116-122-126-189-190/LLA/merged/diversity-qiime2//alpha_div_meth.RDS\"\n",
      "[1] \"/ebio/abt3_projects/Georg_animal_feces/data/16S_arch/MiSeq-Runs-116-122-126-189-190/LLA/merged/diversity-qiime2//beta_div_meth.RDS\"\n"
     ]
    }
   ],
   "source": [
    "print(alpha_div_rds_file)\n",
    "print(beta_div_rds_file)"
   ]
  },
  {
   "cell_type": "markdown",
   "metadata": {},
   "source": [
    "# sessionInfo"
   ]
  },
  {
   "cell_type": "code",
   "execution_count": 42,
   "metadata": {
    "ExecuteTime": {
     "end_time": "2020-09-21T10:52:44.780912Z",
     "start_time": "2020-09-21T10:51:50.047Z"
    }
   },
   "outputs": [
    {
     "data": {
      "text/plain": [
       "R version 3.6.3 (2020-02-29)\n",
       "Platform: x86_64-conda_cos6-linux-gnu (64-bit)\n",
       "Running under: Ubuntu 18.04.5 LTS\n",
       "\n",
       "Matrix products: default\n",
       "BLAS/LAPACK: /ebio/abt3_projects/Georg_animal_feces/envs/phyloseq/lib/libopenblasp-r0.3.9.so\n",
       "\n",
       "locale:\n",
       " [1] LC_CTYPE=en_US.UTF-8       LC_NUMERIC=C              \n",
       " [3] LC_TIME=en_US.UTF-8        LC_COLLATE=en_US.UTF-8    \n",
       " [5] LC_MONETARY=en_US.UTF-8    LC_MESSAGES=en_US.UTF-8   \n",
       " [7] LC_PAPER=en_US.UTF-8       LC_NAME=C                 \n",
       " [9] LC_ADDRESS=C               LC_TELEPHONE=C            \n",
       "[11] LC_MEASUREMENT=en_US.UTF-8 LC_IDENTIFICATION=C       \n",
       "\n",
       "attached base packages:\n",
       "[1] stats     graphics  grDevices utils     datasets  methods   base     \n",
       "\n",
       "other attached packages:\n",
       "[1] LeyLabRMisc_0.1.6 ape_5.4           phyloseq_1.30.0   ggplot2_3.3.1    \n",
       "[5] tidyr_1.1.0       dplyr_1.0.0      \n",
       "\n",
       "loaded via a namespace (and not attached):\n",
       " [1] Rcpp_1.0.4.6        lattice_0.20-41     Biostrings_2.54.0  \n",
       " [4] digest_0.6.25       foreach_1.5.0       IRdisplay_0.7.0    \n",
       " [7] R6_2.4.1            plyr_1.8.6          repr_1.1.0         \n",
       "[10] stats4_3.6.3        evaluate_0.14       pillar_1.4.4       \n",
       "[13] zlibbioc_1.32.0     rlang_0.4.6         uuid_0.1-4         \n",
       "[16] data.table_1.12.8   vegan_2.5-6         S4Vectors_0.24.0   \n",
       "[19] Matrix_1.2-18       splines_3.6.3       stringr_1.4.0      \n",
       "[22] igraph_1.2.5        munsell_0.5.0       compiler_3.6.3     \n",
       "[25] pkgconfig_2.0.3     BiocGenerics_0.32.0 base64enc_0.1-3    \n",
       "[28] multtest_2.42.0     mgcv_1.8-31         htmltools_0.4.0    \n",
       "[31] biomformat_1.14.0   tidyselect_1.1.0    tibble_3.0.1       \n",
       "[34] IRanges_2.20.0      codetools_0.2-16    permute_0.9-5      \n",
       "[37] crayon_1.3.4        withr_2.2.0         MASS_7.3-51.6      \n",
       "[40] grid_3.6.3          nlme_3.1-148        jsonlite_1.6.1     \n",
       "[43] gtable_0.3.0        lifecycle_0.2.0     magrittr_1.5       \n",
       "[46] scales_1.1.1        stringi_1.4.6       XVector_0.26.0     \n",
       "[49] reshape2_1.4.4      ellipsis_0.3.1      generics_0.0.2     \n",
       "[52] vctrs_0.3.0         IRkernel_1.1        Rhdf5lib_1.8.0     \n",
       "[55] iterators_1.0.12    tools_3.6.3         ade4_1.7-15        \n",
       "[58] Biobase_2.46.0      glue_1.4.1          purrr_0.3.4        \n",
       "[61] parallel_3.6.3      survival_3.1-12     colorspace_1.4-1   \n",
       "[64] rhdf5_2.30.0        cluster_2.1.0       pbdZMQ_0.3-3       "
      ]
     },
     "metadata": {},
     "output_type": "display_data"
    }
   ],
   "source": [
    "sessionInfo()"
   ]
  },
  {
   "cell_type": "code",
   "execution_count": null,
   "metadata": {},
   "outputs": [],
   "source": []
  }
 ],
 "metadata": {
  "kernelspec": {
   "display_name": "R [conda env:Georg_animal_feces-phyloseq]",
   "language": "R",
   "name": "conda-env-Georg_animal_feces-phyloseq-r"
  },
  "language_info": {
   "codemirror_mode": "r",
   "file_extension": ".r",
   "mimetype": "text/x-r-source",
   "name": "R",
   "pygments_lexer": "r",
   "version": "3.6.3"
  },
  "notify_time": "30",
  "toc": {
   "base_numbering": 1,
   "nav_menu": {},
   "number_sections": true,
   "sideBar": true,
   "skip_h1_title": false,
   "title_cell": "Table of Contents",
   "title_sidebar": "Contents",
   "toc_cell": true,
   "toc_position": {},
   "toc_section_display": true,
   "toc_window_display": true
  }
 },
 "nbformat": 4,
 "nbformat_minor": 2
}
