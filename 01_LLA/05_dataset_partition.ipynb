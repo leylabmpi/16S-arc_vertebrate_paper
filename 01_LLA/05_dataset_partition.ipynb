{
 "cells": [
  {
   "cell_type": "markdown",
   "metadata": {
    "toc": true
   },
   "source": [
    "<h1>Table of Contents<span class=\"tocSkip\"></span></h1>\n",
    "<div class=\"toc\"><ul class=\"toc-item\"><li><span><a href=\"#Goal\" data-toc-modified-id=\"Goal-1\"><span class=\"toc-item-num\">1&nbsp;&nbsp;</span>Goal</a></span></li><li><span><a href=\"#Init\" data-toc-modified-id=\"Init-2\"><span class=\"toc-item-num\">2&nbsp;&nbsp;</span>Init</a></span></li><li><span><a href=\"#Load\" data-toc-modified-id=\"Load-3\"><span class=\"toc-item-num\">3&nbsp;&nbsp;</span>Load</a></span></li><li><span><a href=\"#Partition\" data-toc-modified-id=\"Partition-4\"><span class=\"toc-item-num\">4&nbsp;&nbsp;</span>Partition</a></span><ul class=\"toc-item\"><li><span><a href=\"#IndD\" data-toc-modified-id=\"IndD-4.1\"><span class=\"toc-item-num\">4.1&nbsp;&nbsp;</span>IndD</a></span></li></ul></li><li><span><a href=\"#SpecD\" data-toc-modified-id=\"SpecD-5\"><span class=\"toc-item-num\">5&nbsp;&nbsp;</span>SpecD</a></span></li><li><span><a href=\"#arch-bac-intersect\" data-toc-modified-id=\"arch-bac-intersect-6\"><span class=\"toc-item-num\">6&nbsp;&nbsp;</span>arch-bac intersect</a></span><ul class=\"toc-item\"><li><span><a href=\"#Load\" data-toc-modified-id=\"Load-6.1\"><span class=\"toc-item-num\">6.1&nbsp;&nbsp;</span>Load</a></span></li><li><span><a href=\"#Sample-intersection\" data-toc-modified-id=\"Sample-intersection-6.2\"><span class=\"toc-item-num\">6.2&nbsp;&nbsp;</span>Sample intersection</a></span></li><li><span><a href=\"#Filtering\" data-toc-modified-id=\"Filtering-6.3\"><span class=\"toc-item-num\">6.3&nbsp;&nbsp;</span>Filtering</a></span></li><li><span><a href=\"#IndD\" data-toc-modified-id=\"IndD-6.4\"><span class=\"toc-item-num\">6.4&nbsp;&nbsp;</span>IndD</a></span><ul class=\"toc-item\"><li><span><a href=\"#16S-arch\" data-toc-modified-id=\"16S-arch-6.4.1\"><span class=\"toc-item-num\">6.4.1&nbsp;&nbsp;</span>16S arch</a></span></li><li><span><a href=\"#Y2019\" data-toc-modified-id=\"Y2019-6.4.2\"><span class=\"toc-item-num\">6.4.2&nbsp;&nbsp;</span>Y2019</a></span></li></ul></li><li><span><a href=\"#SpecD\" data-toc-modified-id=\"SpecD-6.5\"><span class=\"toc-item-num\">6.5&nbsp;&nbsp;</span>SpecD</a></span><ul class=\"toc-item\"><li><span><a href=\"#16S-arch\" data-toc-modified-id=\"16S-arch-6.5.1\"><span class=\"toc-item-num\">6.5.1&nbsp;&nbsp;</span>16S arch</a></span></li><li><span><a href=\"#Y2019\" data-toc-modified-id=\"Y2019-6.5.2\"><span class=\"toc-item-num\">6.5.2&nbsp;&nbsp;</span>Y2019</a></span></li></ul></li></ul></li><li><span><a href=\"#sessionInfo\" data-toc-modified-id=\"sessionInfo-7\"><span class=\"toc-item-num\">7&nbsp;&nbsp;</span>sessionInfo</a></span></li></ul></div>"
   ]
  },
  {
   "cell_type": "markdown",
   "metadata": {},
   "source": [
    "# Goal\n",
    "\n",
    "* Partition dataset into sample sets"
   ]
  },
  {
   "cell_type": "code",
   "execution_count": 1,
   "metadata": {
    "ExecuteTime": {
     "end_time": "2020-05-27T07:54:34.301787Z",
     "start_time": "2020-05-27T07:54:34.230Z"
    }
   },
   "outputs": [],
   "source": [
    "work_dir = '/ebio/abt3_projects/Georg_animal_feces/data/16S_arch/MiSeq-Runs-116-122-126-189-190/LLA/merged/phyloseq/'\n",
    "\n",
    "# 16S-arch phyloseq object\n",
    "physeq_arch_file = '/ebio/abt3_projects/Georg_animal_feces/data/16S_arch/MiSeq-Runs-116-122-126-189-190/LLA/merged/phyloseq/physeq_arch.RDS'\n",
    "\n",
    "# `Youngblut et al., 2019` phyloseq object (rarefied)\n",
    "physeq_Y2019_file = '/ebio/abt3_projects/Georg_animal_feces/data/16S/LLA/phyloseq/physeq_r5k.RDS'"
   ]
  },
  {
   "cell_type": "markdown",
   "metadata": {},
   "source": [
    "# Init"
   ]
  },
  {
   "cell_type": "code",
   "execution_count": 2,
   "metadata": {
    "ExecuteTime": {
     "end_time": "2020-05-27T07:54:39.524377Z",
     "start_time": "2020-05-27T07:54:34.235Z"
    }
   },
   "outputs": [
    {
     "name": "stderr",
     "output_type": "stream",
     "text": [
      "\n",
      "Attaching package: ‘dplyr’\n",
      "\n",
      "\n",
      "The following objects are masked from ‘package:stats’:\n",
      "\n",
      "    filter, lag\n",
      "\n",
      "\n",
      "The following objects are masked from ‘package:base’:\n",
      "\n",
      "    intersect, setdiff, setequal, union\n",
      "\n",
      "\n"
     ]
    }
   ],
   "source": [
    "library(dplyr)\n",
    "library(tidyr)\n",
    "library(ggplot2)\n",
    "library(phyloseq)\n",
    "library(LeyLabRMisc)"
   ]
  },
  {
   "cell_type": "code",
   "execution_count": 3,
   "metadata": {
    "ExecuteTime": {
     "end_time": "2020-05-27T07:54:39.701103Z",
     "start_time": "2020-05-27T07:54:34.238Z"
    }
   },
   "outputs": [],
   "source": [
    "df.dims()\n",
    "set.seed(38461)"
   ]
  },
  {
   "cell_type": "code",
   "execution_count": 4,
   "metadata": {
    "ExecuteTime": {
     "end_time": "2020-05-27T07:54:39.716154Z",
     "start_time": "2020-05-27T07:54:34.241Z"
    }
   },
   "outputs": [],
   "source": [
    "# helper function for creating file names\n",
    "out_file_name = function(work_dir, file_name, suffix){\n",
    "    file_name = strsplit(file_name, '/')[[1]]\n",
    "    file_name = file_name[length(file_name)]\n",
    "    new_file = file.path(work_dir, paste0(gsub('\\\\.[^.]+$', '', file_name), suffix))\n",
    "    return(new_file)\n",
    "}"
   ]
  },
  {
   "cell_type": "code",
   "execution_count": 5,
   "metadata": {
    "ExecuteTime": {
     "end_time": "2020-05-27T07:54:39.731936Z",
     "start_time": "2020-05-27T07:54:34.244Z"
    }
   },
   "outputs": [],
   "source": [
    "# helper function for saving objects\n",
    "save_RDS = function(obj, file_name){\n",
    "    saveRDS(obj, file_name)\n",
    "    cat('RDS: object saved:', file_name)\n",
    "}"
   ]
  },
  {
   "cell_type": "markdown",
   "metadata": {},
   "source": [
    "# Load"
   ]
  },
  {
   "cell_type": "code",
   "execution_count": 6,
   "metadata": {
    "ExecuteTime": {
     "end_time": "2020-05-27T07:54:39.806573Z",
     "start_time": "2020-05-27T07:54:34.248Z"
    }
   },
   "outputs": [
    {
     "data": {
      "text/plain": [
       "phyloseq-class experiment-level object\n",
       "otu_table()   OTU Table:         [ 2091 taxa and 203 samples ]\n",
       "sample_data() Sample Data:       [ 203 samples by 74 sample variables ]\n",
       "tax_table()   Taxonomy Table:    [ 2091 taxa by 7 taxonomic ranks ]\n",
       "phy_tree()    Phylogenetic Tree: [ 2091 tips and 2088 internal nodes ]"
      ]
     },
     "metadata": {},
     "output_type": "display_data"
    }
   ],
   "source": [
    "physeq = readRDS(physeq_arch_file)\n",
    "physeq"
   ]
  },
  {
   "cell_type": "code",
   "execution_count": 7,
   "metadata": {
    "ExecuteTime": {
     "end_time": "2020-05-27T07:54:39.868328Z",
     "start_time": "2020-05-27T07:54:34.256Z"
    }
   },
   "outputs": [
    {
     "data": {
      "text/html": [
       "<table>\n",
       "<caption>A tibble: 203 × 74</caption>\n",
       "<thead>\n",
       "\t<tr><th scope=col>SampleID</th><th scope=col>host_subject_id</th><th scope=col>host_german_name</th><th scope=col>host_common_name</th><th scope=col>scientific_name</th><th scope=col>scientific_name_subspecies</th><th scope=col>host_taxid</th><th scope=col>class</th><th scope=col>order</th><th scope=col>family</th><th scope=col>⋯</th><th scope=col>season</th><th scope=col>samp_store_days</th><th scope=col>samp_collect_device</th><th scope=col>sampling_method</th><th scope=col>diet</th><th scope=col>feeding_style</th><th scope=col>digestive_system</th><th scope=col>digestive_system_detail</th><th scope=col>Sample</th><th scope=col>total_count</th></tr>\n",
       "\t<tr><th scope=col>&lt;chr&gt;</th><th scope=col>&lt;chr&gt;</th><th scope=col>&lt;chr&gt;</th><th scope=col>&lt;chr&gt;</th><th scope=col>&lt;chr&gt;</th><th scope=col>&lt;chr&gt;</th><th scope=col>&lt;chr&gt;</th><th scope=col>&lt;chr&gt;</th><th scope=col>&lt;chr&gt;</th><th scope=col>&lt;chr&gt;</th><th scope=col>⋯</th><th scope=col>&lt;chr&gt;</th><th scope=col>&lt;chr&gt;</th><th scope=col>&lt;chr&gt;</th><th scope=col>&lt;chr&gt;</th><th scope=col>&lt;chr&gt;</th><th scope=col>&lt;chr&gt;</th><th scope=col>&lt;chr&gt;</th><th scope=col>&lt;chr&gt;</th><th scope=col>&lt;chr&gt;</th><th scope=col>&lt;dbl&gt;</th></tr>\n",
       "</thead>\n",
       "<tbody>\n",
       "\t<tr><td>F14_Common_Bream</td><td>F14</td><td>Brachse  </td><td>Common.Bream</td><td>Abramis_brama </td><td>NA</td><td>38527</td><td>Actinopterygii</td><td>Cypriniformes</td><td>Cyprinidae</td><td>⋯</td><td>summer</td><td>317</td><td>Greiner Polypropylene Tube 50ml          </td><td>feces sampling</td><td>omnivore </td><td>NA               </td><td>simple </td><td>simple </td><td>F14_Common_Bream</td><td>3457</td></tr>\n",
       "\t<tr><td>F35_Red_Deer    </td><td>F35</td><td>Rothirsch</td><td>Red.Deer    </td><td>Cervus_elaphus</td><td>NA</td><td>9860 </td><td>Mammalia      </td><td>Artiodactyla </td><td>Cervidae  </td><td>⋯</td><td>autumn</td><td>229</td><td>Greiner Polystyrene 30ml Faeces Container</td><td>feces sampling</td><td>herbivore</td><td>intermediate type</td><td>foregut</td><td>foregut</td><td>F35_Red_Deer    </td><td>1874</td></tr>\n",
       "\t<tr><td>⋮</td><td>⋮</td><td>⋮</td><td>⋮</td><td>⋮</td><td>⋮</td><td>⋮</td><td>⋮</td><td>⋮</td><td>⋮</td><td>⋱</td><td>⋮</td><td>⋮</td><td>⋮</td><td>⋮</td><td>⋮</td><td>⋮</td><td>⋮</td><td>⋮</td><td>⋮</td><td>⋮</td></tr>\n",
       "\t<tr><td>X431_Quagga     </td><td>431</td><td>Steppenzebra</td><td>Quagga      </td><td>Equus_quagga       </td><td>NA</td><td>89252</td><td>Mammalia</td><td>Perissodactyla</td><td>Equidae </td><td>⋯</td><td>autumn</td><td>NA     </td><td>Screw cap vial</td><td>feces sampling</td><td>herbivore</td><td>NA                  </td><td>hindgut</td><td>colon  </td><td>X431_Quagga     </td><td>2433</td></tr>\n",
       "\t<tr><td>X67_European_Roe</td><td>67 </td><td>Reh         </td><td>European.Roe</td><td>Capreolus_capreolus</td><td>NA</td><td>9858 </td><td>Mammalia</td><td>Artiodactyla  </td><td>Cervidae</td><td>⋯</td><td>autumn</td><td>#VALUE!</td><td>Screw cap vial</td><td>feces sampling</td><td>herbivore</td><td>concentrate selector</td><td>foregut</td><td>foregut</td><td>X67_European_Roe</td><td> 721</td></tr>\n",
       "</tbody>\n",
       "</table>\n"
      ],
      "text/latex": [
       "A tibble: 203 × 74\n",
       "\\begin{tabular}{lllllllllllllllllllll}\n",
       " SampleID & host\\_subject\\_id & host\\_german\\_name & host\\_common\\_name & scientific\\_name & scientific\\_name\\_subspecies & host\\_taxid & class & order & family & ⋯ & season & samp\\_store\\_days & samp\\_collect\\_device & sampling\\_method & diet & feeding\\_style & digestive\\_system & digestive\\_system\\_detail & Sample & total\\_count\\\\\n",
       " <chr> & <chr> & <chr> & <chr> & <chr> & <chr> & <chr> & <chr> & <chr> & <chr> & ⋯ & <chr> & <chr> & <chr> & <chr> & <chr> & <chr> & <chr> & <chr> & <chr> & <dbl>\\\\\n",
       "\\hline\n",
       "\t F14\\_Common\\_Bream & F14 & Brachse   & Common.Bream & Abramis\\_brama  & NA & 38527 & Actinopterygii & Cypriniformes & Cyprinidae & ⋯ & summer & 317 & Greiner Polypropylene Tube 50ml           & feces sampling & omnivore  & NA                & simple  & simple  & F14\\_Common\\_Bream & 3457\\\\\n",
       "\t F35\\_Red\\_Deer     & F35 & Rothirsch & Red.Deer     & Cervus\\_elaphus & NA & 9860  & Mammalia       & Artiodactyla  & Cervidae   & ⋯ & autumn & 229 & Greiner Polystyrene 30ml Faeces Container & feces sampling & herbivore & intermediate type & foregut & foregut & F35\\_Red\\_Deer     & 1874\\\\\n",
       "\t ⋮ & ⋮ & ⋮ & ⋮ & ⋮ & ⋮ & ⋮ & ⋮ & ⋮ & ⋮ & ⋱ & ⋮ & ⋮ & ⋮ & ⋮ & ⋮ & ⋮ & ⋮ & ⋮ & ⋮ & ⋮\\\\\n",
       "\t X431\\_Quagga      & 431 & Steppenzebra & Quagga       & Equus\\_quagga        & NA & 89252 & Mammalia & Perissodactyla & Equidae  & ⋯ & autumn & NA      & Screw cap vial & feces sampling & herbivore & NA                   & hindgut & colon   & X431\\_Quagga      & 2433\\\\\n",
       "\t X67\\_European\\_Roe & 67  & Reh          & European.Roe & Capreolus\\_capreolus & NA & 9858  & Mammalia & Artiodactyla   & Cervidae & ⋯ & autumn & \\#VALUE! & Screw cap vial & feces sampling & herbivore & concentrate selector & foregut & foregut & X67\\_European\\_Roe &  721\\\\\n",
       "\\end{tabular}\n"
      ],
      "text/markdown": [
       "\n",
       "A tibble: 203 × 74\n",
       "\n",
       "| SampleID &lt;chr&gt; | host_subject_id &lt;chr&gt; | host_german_name &lt;chr&gt; | host_common_name &lt;chr&gt; | scientific_name &lt;chr&gt; | scientific_name_subspecies &lt;chr&gt; | host_taxid &lt;chr&gt; | class &lt;chr&gt; | order &lt;chr&gt; | family &lt;chr&gt; | ⋯ ⋯ | season &lt;chr&gt; | samp_store_days &lt;chr&gt; | samp_collect_device &lt;chr&gt; | sampling_method &lt;chr&gt; | diet &lt;chr&gt; | feeding_style &lt;chr&gt; | digestive_system &lt;chr&gt; | digestive_system_detail &lt;chr&gt; | Sample &lt;chr&gt; | total_count &lt;dbl&gt; |\n",
       "|---|---|---|---|---|---|---|---|---|---|---|---|---|---|---|---|---|---|---|---|---|\n",
       "| F14_Common_Bream | F14 | Brachse   | Common.Bream | Abramis_brama  | NA | 38527 | Actinopterygii | Cypriniformes | Cyprinidae | ⋯ | summer | 317 | Greiner Polypropylene Tube 50ml           | feces sampling | omnivore  | NA                | simple  | simple  | F14_Common_Bream | 3457 |\n",
       "| F35_Red_Deer     | F35 | Rothirsch | Red.Deer     | Cervus_elaphus | NA | 9860  | Mammalia       | Artiodactyla  | Cervidae   | ⋯ | autumn | 229 | Greiner Polystyrene 30ml Faeces Container | feces sampling | herbivore | intermediate type | foregut | foregut | F35_Red_Deer     | 1874 |\n",
       "| ⋮ | ⋮ | ⋮ | ⋮ | ⋮ | ⋮ | ⋮ | ⋮ | ⋮ | ⋮ | ⋱ | ⋮ | ⋮ | ⋮ | ⋮ | ⋮ | ⋮ | ⋮ | ⋮ | ⋮ | ⋮ |\n",
       "| X431_Quagga      | 431 | Steppenzebra | Quagga       | Equus_quagga        | NA | 89252 | Mammalia | Perissodactyla | Equidae  | ⋯ | autumn | NA      | Screw cap vial | feces sampling | herbivore | NA                   | hindgut | colon   | X431_Quagga      | 2433 |\n",
       "| X67_European_Roe | 67  | Reh          | European.Roe | Capreolus_capreolus | NA | 9858  | Mammalia | Artiodactyla   | Cervidae | ⋯ | autumn | #VALUE! | Screw cap vial | feces sampling | herbivore | concentrate selector | foregut | foregut | X67_European_Roe |  721 |\n",
       "\n"
      ],
      "text/plain": [
       "    SampleID         host_subject_id host_german_name host_common_name\n",
       "1   F14_Common_Bream F14             Brachse          Common.Bream    \n",
       "2   F35_Red_Deer     F35             Rothirsch        Red.Deer        \n",
       "⋮   ⋮                ⋮               ⋮                ⋮               \n",
       "202 X431_Quagga      431             Steppenzebra     Quagga          \n",
       "203 X67_European_Roe 67              Reh              European.Roe    \n",
       "    scientific_name     scientific_name_subspecies host_taxid class         \n",
       "1   Abramis_brama       NA                         38527      Actinopterygii\n",
       "2   Cervus_elaphus      NA                         9860       Mammalia      \n",
       "⋮   ⋮                   ⋮                          ⋮          ⋮             \n",
       "202 Equus_quagga        NA                         89252      Mammalia      \n",
       "203 Capreolus_capreolus NA                         9858       Mammalia      \n",
       "    order          family     ⋯ season samp_store_days\n",
       "1   Cypriniformes  Cyprinidae ⋯ summer 317            \n",
       "2   Artiodactyla   Cervidae   ⋯ autumn 229            \n",
       "⋮   ⋮              ⋮          ⋱ ⋮      ⋮              \n",
       "202 Perissodactyla Equidae    ⋯ autumn NA             \n",
       "203 Artiodactyla   Cervidae   ⋯ autumn #VALUE!        \n",
       "    samp_collect_device                       sampling_method diet     \n",
       "1   Greiner Polypropylene Tube 50ml           feces sampling  omnivore \n",
       "2   Greiner Polystyrene 30ml Faeces Container feces sampling  herbivore\n",
       "⋮   ⋮                                         ⋮               ⋮        \n",
       "202 Screw cap vial                            feces sampling  herbivore\n",
       "203 Screw cap vial                            feces sampling  herbivore\n",
       "    feeding_style        digestive_system digestive_system_detail\n",
       "1   NA                   simple           simple                 \n",
       "2   intermediate type    foregut          foregut                \n",
       "⋮   ⋮                    ⋮                ⋮                      \n",
       "202 NA                   hindgut          colon                  \n",
       "203 concentrate selector foregut          foregut                \n",
       "    Sample           total_count\n",
       "1   F14_Common_Bream 3457       \n",
       "2   F35_Red_Deer     1874       \n",
       "⋮   ⋮                ⋮          \n",
       "202 X431_Quagga      2433       \n",
       "203 X67_European_Roe  721       "
      ]
     },
     "metadata": {},
     "output_type": "display_data"
    }
   ],
   "source": [
    "metadata = physeq %>% phyloseq2df(sample_data)\n",
    "metadata "
   ]
  },
  {
   "cell_type": "markdown",
   "metadata": {},
   "source": [
    "# Partition"
   ]
  },
  {
   "cell_type": "markdown",
   "metadata": {},
   "source": [
    "## IndD\n",
    "\n",
    "* 1 sample per individual host"
   ]
  },
  {
   "cell_type": "code",
   "execution_count": 8,
   "metadata": {
    "ExecuteTime": {
     "end_time": "2020-05-27T07:54:39.897474Z",
     "start_time": "2020-05-27T07:54:34.261Z"
    }
   },
   "outputs": [
    {
     "name": "stdout",
     "output_type": "stream",
     "text": [
      "Number of samples per individual:"
     ]
    },
    {
     "data": {
      "text/plain": [
       "   Min. 1st Qu.  Median    Mean 3rd Qu.    Max. \n",
       "  1.000   1.000   1.000   1.097   1.000  10.000 "
      ]
     },
     "metadata": {},
     "output_type": "display_data"
    }
   ],
   "source": [
    "cat('Number of samples per individual:')\n",
    "metadata %>%\n",
    "    group_by(host_subject_id) %>%\n",
    "    summarize(n = n()) %>%\n",
    "    ungroup() %>%\n",
    "    .$n %>% summary"
   ]
  },
  {
   "cell_type": "code",
   "execution_count": 9,
   "metadata": {
    "ExecuteTime": {
     "end_time": "2020-05-27T07:54:39.929030Z",
     "start_time": "2020-05-27T07:54:34.264Z"
    }
   },
   "outputs": [
    {
     "name": "stdout",
     "output_type": "stream",
     "text": [
      "Individuals with multiple samples:"
     ]
    },
    {
     "data": {
      "text/html": [
       "<table>\n",
       "<caption>A tibble: 3 × 3</caption>\n",
       "<thead>\n",
       "\t<tr><th scope=col>host_subject_id</th><th scope=col>host_common_name</th><th scope=col>n</th></tr>\n",
       "\t<tr><th scope=col>&lt;chr&gt;</th><th scope=col>&lt;chr&gt;</th><th scope=col>&lt;int&gt;</th></tr>\n",
       "</thead>\n",
       "<tbody>\n",
       "\t<tr><td>142</td><td>Cattle   </td><td> 4</td></tr>\n",
       "\t<tr><td>204</td><td>Red.Sheep</td><td> 7</td></tr>\n",
       "\t<tr><td>313</td><td>Red.Deer </td><td>10</td></tr>\n",
       "</tbody>\n",
       "</table>\n"
      ],
      "text/latex": [
       "A tibble: 3 × 3\n",
       "\\begin{tabular}{lll}\n",
       " host\\_subject\\_id & host\\_common\\_name & n\\\\\n",
       " <chr> & <chr> & <int>\\\\\n",
       "\\hline\n",
       "\t 142 & Cattle    &  4\\\\\n",
       "\t 204 & Red.Sheep &  7\\\\\n",
       "\t 313 & Red.Deer  & 10\\\\\n",
       "\\end{tabular}\n"
      ],
      "text/markdown": [
       "\n",
       "A tibble: 3 × 3\n",
       "\n",
       "| host_subject_id &lt;chr&gt; | host_common_name &lt;chr&gt; | n &lt;int&gt; |\n",
       "|---|---|---|\n",
       "| 142 | Cattle    |  4 |\n",
       "| 204 | Red.Sheep |  7 |\n",
       "| 313 | Red.Deer  | 10 |\n",
       "\n"
      ],
      "text/plain": [
       "  host_subject_id host_common_name n \n",
       "1 142             Cattle            4\n",
       "2 204             Red.Sheep         7\n",
       "3 313             Red.Deer         10"
      ]
     },
     "metadata": {},
     "output_type": "display_data"
    }
   ],
   "source": [
    "cat('Individuals with multiple samples:')\n",
    "metadata %>%\n",
    "    group_by(host_subject_id, host_common_name) %>%\n",
    "    summarize(n = n()) %>%\n",
    "    ungroup() %>%\n",
    "    filter(n > 1)"
   ]
  },
  {
   "cell_type": "code",
   "execution_count": 10,
   "metadata": {
    "ExecuteTime": {
     "end_time": "2020-05-27T07:54:39.999806Z",
     "start_time": "2020-05-27T07:54:34.269Z"
    }
   },
   "outputs": [
    {
     "data": {
      "text/html": [
       "<table>\n",
       "<caption>A tibble: 185 × 74</caption>\n",
       "<thead>\n",
       "\t<tr><th scope=col>SampleID</th><th scope=col>host_subject_id</th><th scope=col>host_german_name</th><th scope=col>host_common_name</th><th scope=col>scientific_name</th><th scope=col>scientific_name_subspecies</th><th scope=col>host_taxid</th><th scope=col>class</th><th scope=col>order</th><th scope=col>family</th><th scope=col>⋯</th><th scope=col>season</th><th scope=col>samp_store_days</th><th scope=col>samp_collect_device</th><th scope=col>sampling_method</th><th scope=col>diet</th><th scope=col>feeding_style</th><th scope=col>digestive_system</th><th scope=col>digestive_system_detail</th><th scope=col>Sample</th><th scope=col>total_count</th></tr>\n",
       "\t<tr><th scope=col>&lt;chr&gt;</th><th scope=col>&lt;chr&gt;</th><th scope=col>&lt;chr&gt;</th><th scope=col>&lt;chr&gt;</th><th scope=col>&lt;chr&gt;</th><th scope=col>&lt;chr&gt;</th><th scope=col>&lt;chr&gt;</th><th scope=col>&lt;chr&gt;</th><th scope=col>&lt;chr&gt;</th><th scope=col>&lt;chr&gt;</th><th scope=col>⋯</th><th scope=col>&lt;chr&gt;</th><th scope=col>&lt;chr&gt;</th><th scope=col>&lt;chr&gt;</th><th scope=col>&lt;chr&gt;</th><th scope=col>&lt;chr&gt;</th><th scope=col>&lt;chr&gt;</th><th scope=col>&lt;chr&gt;</th><th scope=col>&lt;chr&gt;</th><th scope=col>&lt;chr&gt;</th><th scope=col>&lt;dbl&gt;</th></tr>\n",
       "</thead>\n",
       "<tbody>\n",
       "\t<tr><td>F14_Common_Bream</td><td>F14</td><td>Brachse  </td><td>Common.Bream</td><td>Abramis_brama </td><td>NA</td><td>38527</td><td>Actinopterygii</td><td>Cypriniformes</td><td>Cyprinidae</td><td>⋯</td><td>summer</td><td>317</td><td>Greiner Polypropylene Tube 50ml          </td><td>feces sampling</td><td>omnivore </td><td>NA               </td><td>simple </td><td>simple </td><td>F14_Common_Bream</td><td>3457</td></tr>\n",
       "\t<tr><td>F35_Red_Deer    </td><td>F35</td><td>Rothirsch</td><td>Red.Deer    </td><td>Cervus_elaphus</td><td>NA</td><td>9860 </td><td>Mammalia      </td><td>Artiodactyla </td><td>Cervidae  </td><td>⋯</td><td>autumn</td><td>229</td><td>Greiner Polystyrene 30ml Faeces Container</td><td>feces sampling</td><td>herbivore</td><td>intermediate type</td><td>foregut</td><td>foregut</td><td>F35_Red_Deer    </td><td>1874</td></tr>\n",
       "\t<tr><td>⋮</td><td>⋮</td><td>⋮</td><td>⋮</td><td>⋮</td><td>⋮</td><td>⋮</td><td>⋮</td><td>⋮</td><td>⋮</td><td>⋱</td><td>⋮</td><td>⋮</td><td>⋮</td><td>⋮</td><td>⋮</td><td>⋮</td><td>⋮</td><td>⋮</td><td>⋮</td><td>⋮</td></tr>\n",
       "\t<tr><td>X431_Quagga     </td><td>431</td><td>Steppenzebra</td><td>Quagga      </td><td>Equus_quagga       </td><td>NA</td><td>89252</td><td>Mammalia</td><td>Perissodactyla</td><td>Equidae </td><td>⋯</td><td>autumn</td><td>NA     </td><td>Screw cap vial</td><td>feces sampling</td><td>herbivore</td><td>NA                  </td><td>hindgut</td><td>colon  </td><td>X431_Quagga     </td><td>2433</td></tr>\n",
       "\t<tr><td>X67_European_Roe</td><td>67 </td><td>Reh         </td><td>European.Roe</td><td>Capreolus_capreolus</td><td>NA</td><td>9858 </td><td>Mammalia</td><td>Artiodactyla  </td><td>Cervidae</td><td>⋯</td><td>autumn</td><td>#VALUE!</td><td>Screw cap vial</td><td>feces sampling</td><td>herbivore</td><td>concentrate selector</td><td>foregut</td><td>foregut</td><td>X67_European_Roe</td><td> 721</td></tr>\n",
       "</tbody>\n",
       "</table>\n"
      ],
      "text/latex": [
       "A tibble: 185 × 74\n",
       "\\begin{tabular}{lllllllllllllllllllll}\n",
       " SampleID & host\\_subject\\_id & host\\_german\\_name & host\\_common\\_name & scientific\\_name & scientific\\_name\\_subspecies & host\\_taxid & class & order & family & ⋯ & season & samp\\_store\\_days & samp\\_collect\\_device & sampling\\_method & diet & feeding\\_style & digestive\\_system & digestive\\_system\\_detail & Sample & total\\_count\\\\\n",
       " <chr> & <chr> & <chr> & <chr> & <chr> & <chr> & <chr> & <chr> & <chr> & <chr> & ⋯ & <chr> & <chr> & <chr> & <chr> & <chr> & <chr> & <chr> & <chr> & <chr> & <dbl>\\\\\n",
       "\\hline\n",
       "\t F14\\_Common\\_Bream & F14 & Brachse   & Common.Bream & Abramis\\_brama  & NA & 38527 & Actinopterygii & Cypriniformes & Cyprinidae & ⋯ & summer & 317 & Greiner Polypropylene Tube 50ml           & feces sampling & omnivore  & NA                & simple  & simple  & F14\\_Common\\_Bream & 3457\\\\\n",
       "\t F35\\_Red\\_Deer     & F35 & Rothirsch & Red.Deer     & Cervus\\_elaphus & NA & 9860  & Mammalia       & Artiodactyla  & Cervidae   & ⋯ & autumn & 229 & Greiner Polystyrene 30ml Faeces Container & feces sampling & herbivore & intermediate type & foregut & foregut & F35\\_Red\\_Deer     & 1874\\\\\n",
       "\t ⋮ & ⋮ & ⋮ & ⋮ & ⋮ & ⋮ & ⋮ & ⋮ & ⋮ & ⋮ & ⋱ & ⋮ & ⋮ & ⋮ & ⋮ & ⋮ & ⋮ & ⋮ & ⋮ & ⋮ & ⋮\\\\\n",
       "\t X431\\_Quagga      & 431 & Steppenzebra & Quagga       & Equus\\_quagga        & NA & 89252 & Mammalia & Perissodactyla & Equidae  & ⋯ & autumn & NA      & Screw cap vial & feces sampling & herbivore & NA                   & hindgut & colon   & X431\\_Quagga      & 2433\\\\\n",
       "\t X67\\_European\\_Roe & 67  & Reh          & European.Roe & Capreolus\\_capreolus & NA & 9858  & Mammalia & Artiodactyla   & Cervidae & ⋯ & autumn & \\#VALUE! & Screw cap vial & feces sampling & herbivore & concentrate selector & foregut & foregut & X67\\_European\\_Roe &  721\\\\\n",
       "\\end{tabular}\n"
      ],
      "text/markdown": [
       "\n",
       "A tibble: 185 × 74\n",
       "\n",
       "| SampleID &lt;chr&gt; | host_subject_id &lt;chr&gt; | host_german_name &lt;chr&gt; | host_common_name &lt;chr&gt; | scientific_name &lt;chr&gt; | scientific_name_subspecies &lt;chr&gt; | host_taxid &lt;chr&gt; | class &lt;chr&gt; | order &lt;chr&gt; | family &lt;chr&gt; | ⋯ ⋯ | season &lt;chr&gt; | samp_store_days &lt;chr&gt; | samp_collect_device &lt;chr&gt; | sampling_method &lt;chr&gt; | diet &lt;chr&gt; | feeding_style &lt;chr&gt; | digestive_system &lt;chr&gt; | digestive_system_detail &lt;chr&gt; | Sample &lt;chr&gt; | total_count &lt;dbl&gt; |\n",
       "|---|---|---|---|---|---|---|---|---|---|---|---|---|---|---|---|---|---|---|---|---|\n",
       "| F14_Common_Bream | F14 | Brachse   | Common.Bream | Abramis_brama  | NA | 38527 | Actinopterygii | Cypriniformes | Cyprinidae | ⋯ | summer | 317 | Greiner Polypropylene Tube 50ml           | feces sampling | omnivore  | NA                | simple  | simple  | F14_Common_Bream | 3457 |\n",
       "| F35_Red_Deer     | F35 | Rothirsch | Red.Deer     | Cervus_elaphus | NA | 9860  | Mammalia       | Artiodactyla  | Cervidae   | ⋯ | autumn | 229 | Greiner Polystyrene 30ml Faeces Container | feces sampling | herbivore | intermediate type | foregut | foregut | F35_Red_Deer     | 1874 |\n",
       "| ⋮ | ⋮ | ⋮ | ⋮ | ⋮ | ⋮ | ⋮ | ⋮ | ⋮ | ⋮ | ⋱ | ⋮ | ⋮ | ⋮ | ⋮ | ⋮ | ⋮ | ⋮ | ⋮ | ⋮ | ⋮ |\n",
       "| X431_Quagga      | 431 | Steppenzebra | Quagga       | Equus_quagga        | NA | 89252 | Mammalia | Perissodactyla | Equidae  | ⋯ | autumn | NA      | Screw cap vial | feces sampling | herbivore | NA                   | hindgut | colon   | X431_Quagga      | 2433 |\n",
       "| X67_European_Roe | 67  | Reh          | European.Roe | Capreolus_capreolus | NA | 9858  | Mammalia | Artiodactyla   | Cervidae | ⋯ | autumn | #VALUE! | Screw cap vial | feces sampling | herbivore | concentrate selector | foregut | foregut | X67_European_Roe |  721 |\n",
       "\n"
      ],
      "text/plain": [
       "    SampleID         host_subject_id host_german_name host_common_name\n",
       "1   F14_Common_Bream F14             Brachse          Common.Bream    \n",
       "2   F35_Red_Deer     F35             Rothirsch        Red.Deer        \n",
       "⋮   ⋮                ⋮               ⋮                ⋮               \n",
       "184 X431_Quagga      431             Steppenzebra     Quagga          \n",
       "185 X67_European_Roe 67              Reh              European.Roe    \n",
       "    scientific_name     scientific_name_subspecies host_taxid class         \n",
       "1   Abramis_brama       NA                         38527      Actinopterygii\n",
       "2   Cervus_elaphus      NA                         9860       Mammalia      \n",
       "⋮   ⋮                   ⋮                          ⋮          ⋮             \n",
       "184 Equus_quagga        NA                         89252      Mammalia      \n",
       "185 Capreolus_capreolus NA                         9858       Mammalia      \n",
       "    order          family     ⋯ season samp_store_days\n",
       "1   Cypriniformes  Cyprinidae ⋯ summer 317            \n",
       "2   Artiodactyla   Cervidae   ⋯ autumn 229            \n",
       "⋮   ⋮              ⋮          ⋱ ⋮      ⋮              \n",
       "184 Perissodactyla Equidae    ⋯ autumn NA             \n",
       "185 Artiodactyla   Cervidae   ⋯ autumn #VALUE!        \n",
       "    samp_collect_device                       sampling_method diet     \n",
       "1   Greiner Polypropylene Tube 50ml           feces sampling  omnivore \n",
       "2   Greiner Polystyrene 30ml Faeces Container feces sampling  herbivore\n",
       "⋮   ⋮                                         ⋮               ⋮        \n",
       "184 Screw cap vial                            feces sampling  herbivore\n",
       "185 Screw cap vial                            feces sampling  herbivore\n",
       "    feeding_style        digestive_system digestive_system_detail\n",
       "1   NA                   simple           simple                 \n",
       "2   intermediate type    foregut          foregut                \n",
       "⋮   ⋮                    ⋮                ⋮                      \n",
       "184 NA                   hindgut          colon                  \n",
       "185 concentrate selector foregut          foregut                \n",
       "    Sample           total_count\n",
       "1   F14_Common_Bream 3457       \n",
       "2   F35_Red_Deer     1874       \n",
       "⋮   ⋮                ⋮          \n",
       "184 X431_Quagga      2433       \n",
       "185 X67_European_Roe  721       "
      ]
     },
     "metadata": {},
     "output_type": "display_data"
    }
   ],
   "source": [
    "# random selection of 1 sample per host (host_subj_id)\n",
    "IndD = metadata %>% \n",
    "    group_by(host_subject_id) %>%\n",
    "    mutate(RAND = sample(1:n(), n())) %>%\n",
    "    ungroup() %>%\n",
    "    filter(RAND == 1) %>%\n",
    "    dplyr::select(-RAND) \n",
    "\n",
    "stopifnot((IndD$host_subject_id %>% table %>% sort %>% unique) == 1)\n",
    "IndD "
   ]
  },
  {
   "cell_type": "code",
   "execution_count": 11,
   "metadata": {
    "ExecuteTime": {
     "end_time": "2020-05-27T07:54:40.145465Z",
     "start_time": "2020-05-27T07:54:34.273Z"
    }
   },
   "outputs": [
    {
     "data": {
      "text/plain": [
       "phyloseq-class experiment-level object\n",
       "otu_table()   OTU Table:         [ 1891 taxa and 185 samples ]\n",
       "sample_data() Sample Data:       [ 185 samples by 74 sample variables ]\n",
       "tax_table()   Taxonomy Table:    [ 1891 taxa by 7 taxonomic ranks ]\n",
       "phy_tree()    Phylogenetic Tree: [ 1891 tips and 1888 internal nodes ]"
      ]
     },
     "metadata": {},
     "output_type": "display_data"
    }
   ],
   "source": [
    "# filtering\n",
    "physeq_IndD = prune_samples(IndD$SampleID, physeq) %>%\n",
    "    filter_taxa(function(x) sum(x > 0) > 0, TRUE)\n",
    "physeq_IndD"
   ]
  },
  {
   "cell_type": "code",
   "execution_count": 12,
   "metadata": {
    "ExecuteTime": {
     "end_time": "2020-05-27T07:54:40.255596Z",
     "start_time": "2020-05-27T07:54:34.276Z"
    }
   },
   "outputs": [
    {
     "name": "stdout",
     "output_type": "stream",
     "text": [
      "RDS: object saved: /ebio/abt3_projects/Georg_animal_feces/data/16S_arch/MiSeq-Runs-116-122-126-189-190/LLA/merged/phyloseq//physeq_arch_IndD.RDS"
     ]
    }
   ],
   "source": [
    "# writing output\n",
    "out_file = out_file_name(work_dir, physeq_arch_file, '_IndD.RDS')\n",
    "save_RDS(physeq_IndD, out_file)"
   ]
  },
  {
   "cell_type": "markdown",
   "metadata": {},
   "source": [
    "# SpecD\n",
    "\n",
    "* 1 sample per individual species (scientific_name)"
   ]
  },
  {
   "cell_type": "code",
   "execution_count": 13,
   "metadata": {
    "ExecuteTime": {
     "end_time": "2020-05-27T07:54:40.277111Z",
     "start_time": "2020-05-27T07:54:34.279Z"
    }
   },
   "outputs": [
    {
     "name": "stdout",
     "output_type": "stream",
     "text": [
      "Number of samples per species:"
     ]
    },
    {
     "data": {
      "text/plain": [
       "   Min. 1st Qu.  Median    Mean 3rd Qu.    Max. \n",
       "  1.000   1.000   1.000   1.845   2.000  21.000 "
      ]
     },
     "metadata": {},
     "output_type": "display_data"
    }
   ],
   "source": [
    "cat('Number of samples per species:')\n",
    "metadata %>%\n",
    "    group_by(scientific_name) %>%\n",
    "    summarize(n = n()) %>%\n",
    "    ungroup() %>%\n",
    "    .$n %>% summary"
   ]
  },
  {
   "cell_type": "code",
   "execution_count": 14,
   "metadata": {
    "ExecuteTime": {
     "end_time": "2020-05-27T07:54:40.318469Z",
     "start_time": "2020-05-27T07:54:34.282Z"
    }
   },
   "outputs": [
    {
     "name": "stdout",
     "output_type": "stream",
     "text": [
      "Species with multiple samples:"
     ]
    },
    {
     "data": {
      "text/html": [
       "<table>\n",
       "<caption>A tibble: 45 × 3</caption>\n",
       "<thead>\n",
       "\t<tr><th scope=col>scientific_name</th><th scope=col>host_common_name</th><th scope=col>n</th></tr>\n",
       "\t<tr><th scope=col>&lt;chr&gt;</th><th scope=col>&lt;chr&gt;</th><th scope=col>&lt;int&gt;</th></tr>\n",
       "</thead>\n",
       "<tbody>\n",
       "\t<tr><td>Cervus_elaphus        </td><td>Red.Deer                </td><td>21</td></tr>\n",
       "\t<tr><td>Ovis_aries            </td><td>Red.Sheep               </td><td> 8</td></tr>\n",
       "\t<tr><td>Anser_anser           </td><td>Goose                   </td><td> 6</td></tr>\n",
       "\t<tr><td>Bos_taurus            </td><td>Cattle                  </td><td> 5</td></tr>\n",
       "\t<tr><td>Giraffa_camelopardalis</td><td>Giraffe                 </td><td> 4</td></tr>\n",
       "\t<tr><td>Loxodonta_africana    </td><td>African.Bush.Elephant   </td><td> 4</td></tr>\n",
       "\t<tr><td>Sus_scrofa            </td><td>Wild.Boar               </td><td> 4</td></tr>\n",
       "\t<tr><td>Capra_ibex            </td><td>Alpine.Ibex             </td><td> 3</td></tr>\n",
       "\t<tr><td>Equus_quagga          </td><td>Quagga                  </td><td> 3</td></tr>\n",
       "\t<tr><td>Spermophilus_citellus </td><td>European.Ground.Squirrel</td><td> 3</td></tr>\n",
       "\t<tr><td>⋮</td><td>⋮</td><td>⋮</td></tr>\n",
       "\t<tr><td>Ovis_aries            </td><td>Mouflon             </td><td>2</td></tr>\n",
       "\t<tr><td>Phascolarctos_cinereus</td><td>Koala               </td><td>2</td></tr>\n",
       "\t<tr><td>Phasianus_colchicus   </td><td>Common.Pheasant     </td><td>2</td></tr>\n",
       "\t<tr><td>Rhinoceros_unicornis  </td><td>Indian.Rhinoceros   </td><td>2</td></tr>\n",
       "\t<tr><td>Rupicapra_rupicapra   </td><td>Alpine.Chamois      </td><td>2</td></tr>\n",
       "\t<tr><td>Strix_aluco           </td><td>Tawny.Owl           </td><td>2</td></tr>\n",
       "\t<tr><td>Strix_uralensis       </td><td>Ural.Owl            </td><td>2</td></tr>\n",
       "\t<tr><td>Tachyglossus_aculeatus</td><td>Short.beaked.Echidna</td><td>2</td></tr>\n",
       "\t<tr><td>Tamandua_mexicana     </td><td>Northern.Tamandua   </td><td>2</td></tr>\n",
       "\t<tr><td>Trichosurus_vulpecula </td><td>Common.Brushtail    </td><td>2</td></tr>\n",
       "</tbody>\n",
       "</table>\n"
      ],
      "text/latex": [
       "A tibble: 45 × 3\n",
       "\\begin{tabular}{lll}\n",
       " scientific\\_name & host\\_common\\_name & n\\\\\n",
       " <chr> & <chr> & <int>\\\\\n",
       "\\hline\n",
       "\t Cervus\\_elaphus         & Red.Deer                 & 21\\\\\n",
       "\t Ovis\\_aries             & Red.Sheep                &  8\\\\\n",
       "\t Anser\\_anser            & Goose                    &  6\\\\\n",
       "\t Bos\\_taurus             & Cattle                   &  5\\\\\n",
       "\t Giraffa\\_camelopardalis & Giraffe                  &  4\\\\\n",
       "\t Loxodonta\\_africana     & African.Bush.Elephant    &  4\\\\\n",
       "\t Sus\\_scrofa             & Wild.Boar                &  4\\\\\n",
       "\t Capra\\_ibex             & Alpine.Ibex              &  3\\\\\n",
       "\t Equus\\_quagga           & Quagga                   &  3\\\\\n",
       "\t Spermophilus\\_citellus  & European.Ground.Squirrel &  3\\\\\n",
       "\t ⋮ & ⋮ & ⋮\\\\\n",
       "\t Ovis\\_aries             & Mouflon              & 2\\\\\n",
       "\t Phascolarctos\\_cinereus & Koala                & 2\\\\\n",
       "\t Phasianus\\_colchicus    & Common.Pheasant      & 2\\\\\n",
       "\t Rhinoceros\\_unicornis   & Indian.Rhinoceros    & 2\\\\\n",
       "\t Rupicapra\\_rupicapra    & Alpine.Chamois       & 2\\\\\n",
       "\t Strix\\_aluco            & Tawny.Owl            & 2\\\\\n",
       "\t Strix\\_uralensis        & Ural.Owl             & 2\\\\\n",
       "\t Tachyglossus\\_aculeatus & Short.beaked.Echidna & 2\\\\\n",
       "\t Tamandua\\_mexicana      & Northern.Tamandua    & 2\\\\\n",
       "\t Trichosurus\\_vulpecula  & Common.Brushtail     & 2\\\\\n",
       "\\end{tabular}\n"
      ],
      "text/markdown": [
       "\n",
       "A tibble: 45 × 3\n",
       "\n",
       "| scientific_name &lt;chr&gt; | host_common_name &lt;chr&gt; | n &lt;int&gt; |\n",
       "|---|---|---|\n",
       "| Cervus_elaphus         | Red.Deer                 | 21 |\n",
       "| Ovis_aries             | Red.Sheep                |  8 |\n",
       "| Anser_anser            | Goose                    |  6 |\n",
       "| Bos_taurus             | Cattle                   |  5 |\n",
       "| Giraffa_camelopardalis | Giraffe                  |  4 |\n",
       "| Loxodonta_africana     | African.Bush.Elephant    |  4 |\n",
       "| Sus_scrofa             | Wild.Boar                |  4 |\n",
       "| Capra_ibex             | Alpine.Ibex              |  3 |\n",
       "| Equus_quagga           | Quagga                   |  3 |\n",
       "| Spermophilus_citellus  | European.Ground.Squirrel |  3 |\n",
       "| ⋮ | ⋮ | ⋮ |\n",
       "| Ovis_aries             | Mouflon              | 2 |\n",
       "| Phascolarctos_cinereus | Koala                | 2 |\n",
       "| Phasianus_colchicus    | Common.Pheasant      | 2 |\n",
       "| Rhinoceros_unicornis   | Indian.Rhinoceros    | 2 |\n",
       "| Rupicapra_rupicapra    | Alpine.Chamois       | 2 |\n",
       "| Strix_aluco            | Tawny.Owl            | 2 |\n",
       "| Strix_uralensis        | Ural.Owl             | 2 |\n",
       "| Tachyglossus_aculeatus | Short.beaked.Echidna | 2 |\n",
       "| Tamandua_mexicana      | Northern.Tamandua    | 2 |\n",
       "| Trichosurus_vulpecula  | Common.Brushtail     | 2 |\n",
       "\n"
      ],
      "text/plain": [
       "   scientific_name        host_common_name         n \n",
       "1  Cervus_elaphus         Red.Deer                 21\n",
       "2  Ovis_aries             Red.Sheep                 8\n",
       "3  Anser_anser            Goose                     6\n",
       "4  Bos_taurus             Cattle                    5\n",
       "5  Giraffa_camelopardalis Giraffe                   4\n",
       "6  Loxodonta_africana     African.Bush.Elephant     4\n",
       "7  Sus_scrofa             Wild.Boar                 4\n",
       "8  Capra_ibex             Alpine.Ibex               3\n",
       "9  Equus_quagga           Quagga                    3\n",
       "10 Spermophilus_citellus  European.Ground.Squirrel  3\n",
       "⋮  ⋮                      ⋮                        ⋮ \n",
       "36 Ovis_aries             Mouflon                  2 \n",
       "37 Phascolarctos_cinereus Koala                    2 \n",
       "38 Phasianus_colchicus    Common.Pheasant          2 \n",
       "39 Rhinoceros_unicornis   Indian.Rhinoceros        2 \n",
       "40 Rupicapra_rupicapra    Alpine.Chamois           2 \n",
       "41 Strix_aluco            Tawny.Owl                2 \n",
       "42 Strix_uralensis        Ural.Owl                 2 \n",
       "43 Tachyglossus_aculeatus Short.beaked.Echidna     2 \n",
       "44 Tamandua_mexicana      Northern.Tamandua        2 \n",
       "45 Trichosurus_vulpecula  Common.Brushtail         2 "
      ]
     },
     "metadata": {},
     "output_type": "display_data"
    }
   ],
   "source": [
    "df.dims(20)\n",
    "cat('Species with multiple samples:')\n",
    "metadata %>%\n",
    "    group_by(scientific_name, host_common_name) %>%\n",
    "    summarize(n = n()) %>%\n",
    "    ungroup() %>%\n",
    "    filter(n > 1) %>%\n",
    "    arrange(-n)\n",
    "df.dims()"
   ]
  },
  {
   "cell_type": "code",
   "execution_count": 15,
   "metadata": {
    "ExecuteTime": {
     "end_time": "2020-05-27T07:54:40.776946Z",
     "start_time": "2020-05-27T07:54:34.288Z"
    }
   },
   "outputs": [
    {
     "data": {
      "text/html": [
       "<table>\n",
       "<caption>A tibble: 110 × 74</caption>\n",
       "<thead>\n",
       "\t<tr><th scope=col>SampleID</th><th scope=col>host_subject_id</th><th scope=col>host_german_name</th><th scope=col>host_common_name</th><th scope=col>scientific_name</th><th scope=col>scientific_name_subspecies</th><th scope=col>host_taxid</th><th scope=col>class</th><th scope=col>order</th><th scope=col>family</th><th scope=col>⋯</th><th scope=col>season</th><th scope=col>samp_store_days</th><th scope=col>samp_collect_device</th><th scope=col>sampling_method</th><th scope=col>diet</th><th scope=col>feeding_style</th><th scope=col>digestive_system</th><th scope=col>digestive_system_detail</th><th scope=col>Sample</th><th scope=col>total_count</th></tr>\n",
       "\t<tr><th scope=col>&lt;chr&gt;</th><th scope=col>&lt;chr&gt;</th><th scope=col>&lt;chr&gt;</th><th scope=col>&lt;chr&gt;</th><th scope=col>&lt;chr&gt;</th><th scope=col>&lt;chr&gt;</th><th scope=col>&lt;chr&gt;</th><th scope=col>&lt;chr&gt;</th><th scope=col>&lt;chr&gt;</th><th scope=col>&lt;chr&gt;</th><th scope=col>⋯</th><th scope=col>&lt;chr&gt;</th><th scope=col>&lt;chr&gt;</th><th scope=col>&lt;chr&gt;</th><th scope=col>&lt;chr&gt;</th><th scope=col>&lt;chr&gt;</th><th scope=col>&lt;chr&gt;</th><th scope=col>&lt;chr&gt;</th><th scope=col>&lt;chr&gt;</th><th scope=col>&lt;chr&gt;</th><th scope=col>&lt;dbl&gt;</th></tr>\n",
       "</thead>\n",
       "<tbody>\n",
       "\t<tr><td>F14_Common_Bream</td><td>F14</td><td>Brachse  </td><td>Common.Bream</td><td>Abramis_brama</td><td>NA</td><td>38527</td><td>Actinopterygii</td><td>Cypriniformes</td><td>Cyprinidae</td><td>⋯</td><td>summer</td><td>317</td><td>Greiner Polypropylene Tube 50ml          </td><td>feces sampling</td><td>omnivore </td><td>NA               </td><td>simple </td><td>simple </td><td>F14_Common_Bream</td><td>3457</td></tr>\n",
       "\t<tr><td>F44_Fallow_Deer </td><td>F44</td><td>Damhirsch</td><td>Fallow.Deer </td><td>Dama_dama    </td><td>NA</td><td>30532</td><td>Mammalia      </td><td>Artiodactyla </td><td>Cervidae  </td><td>⋯</td><td>autumn</td><td>230</td><td>Greiner Polystyrene 30ml Faeces Container</td><td>feces sampling</td><td>herbivore</td><td>intermediate type</td><td>foregut</td><td>foregut</td><td>F44_Fallow_Deer </td><td>6337</td></tr>\n",
       "\t<tr><td>⋮</td><td>⋮</td><td>⋮</td><td>⋮</td><td>⋮</td><td>⋮</td><td>⋮</td><td>⋮</td><td>⋮</td><td>⋮</td><td>⋱</td><td>⋮</td><td>⋮</td><td>⋮</td><td>⋮</td><td>⋮</td><td>⋮</td><td>⋮</td><td>⋮</td><td>⋮</td><td>⋮</td></tr>\n",
       "\t<tr><td>X405_Nile_Crocodile</td><td>405</td><td>Nilkrokodil</td><td>Nile.Crocodile</td><td>Crocodylus_niloticus</td><td>NA</td><td>8501</td><td>Reptilia</td><td>Crocodilia  </td><td>Crocodylidae</td><td>⋯</td><td>summer</td><td>NA     </td><td>Screw cap vial</td><td>feces sampling</td><td>carnivore</td><td>NA                  </td><td>simple </td><td>simple </td><td>X405_Nile_Crocodile</td><td>485</td></tr>\n",
       "\t<tr><td>X67_European_Roe   </td><td>67 </td><td>Reh        </td><td>European.Roe  </td><td>Capreolus_capreolus </td><td>NA</td><td>9858</td><td>Mammalia</td><td>Artiodactyla</td><td>Cervidae    </td><td>⋯</td><td>autumn</td><td>#VALUE!</td><td>Screw cap vial</td><td>feces sampling</td><td>herbivore</td><td>concentrate selector</td><td>foregut</td><td>foregut</td><td>X67_European_Roe   </td><td>721</td></tr>\n",
       "</tbody>\n",
       "</table>\n"
      ],
      "text/latex": [
       "A tibble: 110 × 74\n",
       "\\begin{tabular}{lllllllllllllllllllll}\n",
       " SampleID & host\\_subject\\_id & host\\_german\\_name & host\\_common\\_name & scientific\\_name & scientific\\_name\\_subspecies & host\\_taxid & class & order & family & ⋯ & season & samp\\_store\\_days & samp\\_collect\\_device & sampling\\_method & diet & feeding\\_style & digestive\\_system & digestive\\_system\\_detail & Sample & total\\_count\\\\\n",
       " <chr> & <chr> & <chr> & <chr> & <chr> & <chr> & <chr> & <chr> & <chr> & <chr> & ⋯ & <chr> & <chr> & <chr> & <chr> & <chr> & <chr> & <chr> & <chr> & <chr> & <dbl>\\\\\n",
       "\\hline\n",
       "\t F14\\_Common\\_Bream & F14 & Brachse   & Common.Bream & Abramis\\_brama & NA & 38527 & Actinopterygii & Cypriniformes & Cyprinidae & ⋯ & summer & 317 & Greiner Polypropylene Tube 50ml           & feces sampling & omnivore  & NA                & simple  & simple  & F14\\_Common\\_Bream & 3457\\\\\n",
       "\t F44\\_Fallow\\_Deer  & F44 & Damhirsch & Fallow.Deer  & Dama\\_dama     & NA & 30532 & Mammalia       & Artiodactyla  & Cervidae   & ⋯ & autumn & 230 & Greiner Polystyrene 30ml Faeces Container & feces sampling & herbivore & intermediate type & foregut & foregut & F44\\_Fallow\\_Deer  & 6337\\\\\n",
       "\t ⋮ & ⋮ & ⋮ & ⋮ & ⋮ & ⋮ & ⋮ & ⋮ & ⋮ & ⋮ & ⋱ & ⋮ & ⋮ & ⋮ & ⋮ & ⋮ & ⋮ & ⋮ & ⋮ & ⋮ & ⋮\\\\\n",
       "\t X405\\_Nile\\_Crocodile & 405 & Nilkrokodil & Nile.Crocodile & Crocodylus\\_niloticus & NA & 8501 & Reptilia & Crocodilia   & Crocodylidae & ⋯ & summer & NA      & Screw cap vial & feces sampling & carnivore & NA                   & simple  & simple  & X405\\_Nile\\_Crocodile & 485\\\\\n",
       "\t X67\\_European\\_Roe    & 67  & Reh         & European.Roe   & Capreolus\\_capreolus  & NA & 9858 & Mammalia & Artiodactyla & Cervidae     & ⋯ & autumn & \\#VALUE! & Screw cap vial & feces sampling & herbivore & concentrate selector & foregut & foregut & X67\\_European\\_Roe    & 721\\\\\n",
       "\\end{tabular}\n"
      ],
      "text/markdown": [
       "\n",
       "A tibble: 110 × 74\n",
       "\n",
       "| SampleID &lt;chr&gt; | host_subject_id &lt;chr&gt; | host_german_name &lt;chr&gt; | host_common_name &lt;chr&gt; | scientific_name &lt;chr&gt; | scientific_name_subspecies &lt;chr&gt; | host_taxid &lt;chr&gt; | class &lt;chr&gt; | order &lt;chr&gt; | family &lt;chr&gt; | ⋯ ⋯ | season &lt;chr&gt; | samp_store_days &lt;chr&gt; | samp_collect_device &lt;chr&gt; | sampling_method &lt;chr&gt; | diet &lt;chr&gt; | feeding_style &lt;chr&gt; | digestive_system &lt;chr&gt; | digestive_system_detail &lt;chr&gt; | Sample &lt;chr&gt; | total_count &lt;dbl&gt; |\n",
       "|---|---|---|---|---|---|---|---|---|---|---|---|---|---|---|---|---|---|---|---|---|\n",
       "| F14_Common_Bream | F14 | Brachse   | Common.Bream | Abramis_brama | NA | 38527 | Actinopterygii | Cypriniformes | Cyprinidae | ⋯ | summer | 317 | Greiner Polypropylene Tube 50ml           | feces sampling | omnivore  | NA                | simple  | simple  | F14_Common_Bream | 3457 |\n",
       "| F44_Fallow_Deer  | F44 | Damhirsch | Fallow.Deer  | Dama_dama     | NA | 30532 | Mammalia       | Artiodactyla  | Cervidae   | ⋯ | autumn | 230 | Greiner Polystyrene 30ml Faeces Container | feces sampling | herbivore | intermediate type | foregut | foregut | F44_Fallow_Deer  | 6337 |\n",
       "| ⋮ | ⋮ | ⋮ | ⋮ | ⋮ | ⋮ | ⋮ | ⋮ | ⋮ | ⋮ | ⋱ | ⋮ | ⋮ | ⋮ | ⋮ | ⋮ | ⋮ | ⋮ | ⋮ | ⋮ | ⋮ |\n",
       "| X405_Nile_Crocodile | 405 | Nilkrokodil | Nile.Crocodile | Crocodylus_niloticus | NA | 8501 | Reptilia | Crocodilia   | Crocodylidae | ⋯ | summer | NA      | Screw cap vial | feces sampling | carnivore | NA                   | simple  | simple  | X405_Nile_Crocodile | 485 |\n",
       "| X67_European_Roe    | 67  | Reh         | European.Roe   | Capreolus_capreolus  | NA | 9858 | Mammalia | Artiodactyla | Cervidae     | ⋯ | autumn | #VALUE! | Screw cap vial | feces sampling | herbivore | concentrate selector | foregut | foregut | X67_European_Roe    | 721 |\n",
       "\n"
      ],
      "text/plain": [
       "    SampleID            host_subject_id host_german_name host_common_name\n",
       "1   F14_Common_Bream    F14             Brachse          Common.Bream    \n",
       "2   F44_Fallow_Deer     F44             Damhirsch        Fallow.Deer     \n",
       "⋮   ⋮                   ⋮               ⋮                ⋮               \n",
       "109 X405_Nile_Crocodile 405             Nilkrokodil      Nile.Crocodile  \n",
       "110 X67_European_Roe    67              Reh              European.Roe    \n",
       "    scientific_name      scientific_name_subspecies host_taxid class         \n",
       "1   Abramis_brama        NA                         38527      Actinopterygii\n",
       "2   Dama_dama            NA                         30532      Mammalia      \n",
       "⋮   ⋮                    ⋮                          ⋮          ⋮             \n",
       "109 Crocodylus_niloticus NA                         8501       Reptilia      \n",
       "110 Capreolus_capreolus  NA                         9858       Mammalia      \n",
       "    order         family       ⋯ season samp_store_days\n",
       "1   Cypriniformes Cyprinidae   ⋯ summer 317            \n",
       "2   Artiodactyla  Cervidae     ⋯ autumn 230            \n",
       "⋮   ⋮             ⋮            ⋱ ⋮      ⋮              \n",
       "109 Crocodilia    Crocodylidae ⋯ summer NA             \n",
       "110 Artiodactyla  Cervidae     ⋯ autumn #VALUE!        \n",
       "    samp_collect_device                       sampling_method diet     \n",
       "1   Greiner Polypropylene Tube 50ml           feces sampling  omnivore \n",
       "2   Greiner Polystyrene 30ml Faeces Container feces sampling  herbivore\n",
       "⋮   ⋮                                         ⋮               ⋮        \n",
       "109 Screw cap vial                            feces sampling  carnivore\n",
       "110 Screw cap vial                            feces sampling  herbivore\n",
       "    feeding_style        digestive_system digestive_system_detail\n",
       "1   NA                   simple           simple                 \n",
       "2   intermediate type    foregut          foregut                \n",
       "⋮   ⋮                    ⋮                ⋮                      \n",
       "109 NA                   simple           simple                 \n",
       "110 concentrate selector foregut          foregut                \n",
       "    Sample              total_count\n",
       "1   F14_Common_Bream    3457       \n",
       "2   F44_Fallow_Deer     6337       \n",
       "⋮   ⋮                   ⋮          \n",
       "109 X405_Nile_Crocodile 485        \n",
       "110 X67_European_Roe    721        "
      ]
     },
     "metadata": {},
     "output_type": "display_data"
    }
   ],
   "source": [
    "# random selection of 1 sample per host (scientific_name)\n",
    "SpecD = metadata %>% \n",
    "    filter(SampleID %in% (physeq_IndD %>% sample_names)) %>%\n",
    "    group_by(scientific_name) %>%\n",
    "    mutate(RAND = sample(1:n(), n())) %>%\n",
    "    ungroup() %>%\n",
    "    filter(RAND == 1) %>%\n",
    "    dplyr::select(-RAND) \n",
    "\n",
    "stopifnot((SpecD$scientific_name %>% table %>% sort %>% unique) == 1)\n",
    "SpecD"
   ]
  },
  {
   "cell_type": "code",
   "execution_count": 16,
   "metadata": {
    "ExecuteTime": {
     "end_time": "2020-05-27T07:54:40.793155Z",
     "start_time": "2020-05-27T07:54:34.291Z"
    }
   },
   "outputs": [
    {
     "name": "stdout",
     "output_type": "stream",
     "text": [
      "intersect(x,y): 110 \n",
      "setdiff(x,y): 0 \n",
      "setdiff(y,x): 75 \n",
      "union(x,y): 185 \n"
     ]
    }
   ],
   "source": [
    "# checking overlap between IndD and SpecD\n",
    "overlap(SpecD$SampleID, physeq_IndD %>% sample_names)"
   ]
  },
  {
   "cell_type": "code",
   "execution_count": 17,
   "metadata": {
    "ExecuteTime": {
     "end_time": "2020-05-27T07:54:40.887817Z",
     "start_time": "2020-05-27T07:54:34.294Z"
    }
   },
   "outputs": [
    {
     "data": {
      "text/plain": [
       "phyloseq-class experiment-level object\n",
       "otu_table()   OTU Table:         [ 1151 taxa and 110 samples ]\n",
       "sample_data() Sample Data:       [ 110 samples by 74 sample variables ]\n",
       "tax_table()   Taxonomy Table:    [ 1151 taxa by 7 taxonomic ranks ]\n",
       "phy_tree()    Phylogenetic Tree: [ 1151 tips and 1150 internal nodes ]"
      ]
     },
     "metadata": {},
     "output_type": "display_data"
    }
   ],
   "source": [
    "# filtering\n",
    "physeq_SpecD = prune_samples(SpecD$SampleID, physeq) %>%\n",
    "    filter_taxa(function(x) sum(x > 0) > 0, TRUE)\n",
    "physeq_SpecD"
   ]
  },
  {
   "cell_type": "code",
   "execution_count": 18,
   "metadata": {
    "ExecuteTime": {
     "end_time": "2020-05-27T07:54:40.962885Z",
     "start_time": "2020-05-27T07:54:34.296Z"
    }
   },
   "outputs": [
    {
     "name": "stdout",
     "output_type": "stream",
     "text": [
      "RDS: object saved: /ebio/abt3_projects/Georg_animal_feces/data/16S_arch/MiSeq-Runs-116-122-126-189-190/LLA/merged/phyloseq//physeq_arch_SpecD.RDS"
     ]
    }
   ],
   "source": [
    "# writing output\n",
    "out_file = out_file_name(work_dir, physeq_arch_file, '_SpecD.RDS')\n",
    "save_RDS(physeq_SpecD, out_file)"
   ]
  },
  {
   "cell_type": "markdown",
   "metadata": {},
   "source": [
    "# arch-bac intersect\n",
    "\n",
    "* Partition to samples that overlap with the `Youngblut et al., 2019` dataset"
   ]
  },
  {
   "cell_type": "markdown",
   "metadata": {},
   "source": [
    "## Load"
   ]
  },
  {
   "cell_type": "code",
   "execution_count": 19,
   "metadata": {
    "ExecuteTime": {
     "end_time": "2020-05-27T07:54:41.808725Z",
     "start_time": "2020-05-27T07:54:34.299Z"
    }
   },
   "outputs": [
    {
     "data": {
      "text/plain": [
       "phyloseq-class experiment-level object\n",
       "otu_table()   OTU Table:         [ 30290 taxa and 213 samples ]\n",
       "sample_data() Sample Data:       [ 213 samples by 171 sample variables ]\n",
       "tax_table()   Taxonomy Table:    [ 30290 taxa by 7 taxonomic ranks ]\n",
       "phy_tree()    Phylogenetic Tree: [ 30290 tips and 29752 internal nodes ]"
      ]
     },
     "metadata": {},
     "output_type": "display_data"
    }
   ],
   "source": [
    "physeq_Y2019 = readRDS(physeq_Y2019_file)\n",
    "physeq_Y2019"
   ]
  },
  {
   "cell_type": "code",
   "execution_count": 20,
   "metadata": {
    "ExecuteTime": {
     "end_time": "2020-05-27T07:54:42.243299Z",
     "start_time": "2020-05-27T07:54:34.302Z"
    }
   },
   "outputs": [],
   "source": [
    "# fixing names for Y2019 dataset\n",
    "sample_names(physeq_Y2019) = physeq_Y2019 %>% sample_names %>% gsub('\\\\.', '_', .)"
   ]
  },
  {
   "cell_type": "markdown",
   "metadata": {},
   "source": [
    "## Sample intersection"
   ]
  },
  {
   "cell_type": "code",
   "execution_count": 21,
   "metadata": {
    "ExecuteTime": {
     "end_time": "2020-05-27T07:54:42.259352Z",
     "start_time": "2020-05-27T07:54:34.305Z"
    }
   },
   "outputs": [],
   "source": [
    "arch_samps = physeq %>% sample_names\n",
    "Y2019_samps = physeq_Y2019 %>% sample_names"
   ]
  },
  {
   "cell_type": "code",
   "execution_count": 22,
   "metadata": {
    "ExecuteTime": {
     "end_time": "2020-05-27T07:54:42.274625Z",
     "start_time": "2020-05-27T07:54:34.308Z"
    }
   },
   "outputs": [
    {
     "name": "stdout",
     "output_type": "stream",
     "text": [
      "intersect(x,y): 140 \n",
      "setdiff(x,y): 63 \n",
      "setdiff(y,x): 73 \n",
      "union(x,y): 276 \n"
     ]
    }
   ],
   "source": [
    "overlap(arch_samps, Y2019_samps)"
   ]
  },
  {
   "cell_type": "markdown",
   "metadata": {},
   "source": [
    "## Filtering"
   ]
  },
  {
   "cell_type": "code",
   "execution_count": 23,
   "metadata": {
    "ExecuteTime": {
     "end_time": "2020-05-27T07:54:42.300230Z",
     "start_time": "2020-05-27T07:54:34.312Z"
    }
   },
   "outputs": [
    {
     "data": {
      "text/html": [
       "<ol class=list-inline>\n",
       "\t<li>'F157a_European_Toad'</li>\n",
       "\t<li>'F35_Red_Deer'</li>\n",
       "\t<li>'F36_Red_Deer'</li>\n",
       "\t<li>'F44_Fallow_Deer'</li>\n",
       "\t<li>'F45_Red_Deer'</li>\n",
       "\t<li>'F47_Red_Deer'</li>\n",
       "\t<li>'F48_Red_Deer'</li>\n",
       "\t<li>'F53_Mouflon'</li>\n",
       "\t<li>'F66_Wild_Boar'</li>\n",
       "\t<li>'F68_Red_Deer'</li>\n",
       "\t<li>'F69_Red_Deer'</li>\n",
       "\t<li>'F70_Red_Deer'</li>\n",
       "\t<li>'F80_Red_Deer'</li>\n",
       "\t<li>'F90_Domestic_Dog'</li>\n",
       "\t<li>'X101_Horse'</li>\n",
       "\t<li>'X102_Kulan'</li>\n",
       "\t<li>'X109_Red_Fox'</li>\n",
       "\t<li>'X11_Onager'</li>\n",
       "\t<li>'X111_West_European_Hedgehog'</li>\n",
       "\t<li>'X116_Common_Kestrel'</li>\n",
       "\t<li>'X117_Long_eared_Owl'</li>\n",
       "\t<li>'X122_Wild_Boar'</li>\n",
       "\t<li>'X123_Alpine_Chamois'</li>\n",
       "\t<li>'X125_Common_Carp'</li>\n",
       "\t<li>'X127_Alpine_Marmot'</li>\n",
       "\t<li>'X128_Alpine_Marmot'</li>\n",
       "\t<li>'X129_Alpine_Ibex'</li>\n",
       "\t<li>'X13_Wolf'</li>\n",
       "\t<li>'X130_Alpine_Ibex'</li>\n",
       "\t<li>'X131_Rock_Ptarmigan'</li>\n",
       "\t<li>'X133_Domestic_Goat'</li>\n",
       "\t<li>'X134_Domestic_Goat'</li>\n",
       "\t<li>'X137_Gaur'</li>\n",
       "\t<li>'X138_Gaur'</li>\n",
       "\t<li>'X139_Sambar'</li>\n",
       "\t<li>'X140_Sambar'</li>\n",
       "\t<li>'X141_Red_cheeked_Gibbon'</li>\n",
       "\t<li>'X144_Cattle'</li>\n",
       "\t<li>'X157_Grey_Heron'</li>\n",
       "\t<li>'X158_White_tailed_Eagle'</li>\n",
       "\t<li>'X16_Fat_Dormouse'</li>\n",
       "\t<li>'X172_European_Greenfinch'</li>\n",
       "\t<li>'X174_Great_Tit'</li>\n",
       "\t<li>'X203_Red_Deer'</li>\n",
       "\t<li>'X221_Alpine_Ibex'</li>\n",
       "\t<li>'X230_Carrion_Crow'</li>\n",
       "\t<li>'X233_Aesculapian_Snake'</li>\n",
       "\t<li>'X236_Pygmy_Slow_Loris'</li>\n",
       "\t<li>'X237_Red_shanked_Douc_Langur'</li>\n",
       "\t<li>'X238_Hanuman_Langur'</li>\n",
       "\t<li>'X240_Southern_White_cheeked_Gibbon'</li>\n",
       "\t<li>'X241_Italian_wall_lizard'</li>\n",
       "\t<li>'X242_Dalmatian_Tortoise'</li>\n",
       "\t<li>'X247_Common_Hamster'</li>\n",
       "\t<li>'X252_Eurasian_Lynx'</li>\n",
       "\t<li>'X260_Blackbird'</li>\n",
       "\t<li>'X266_Western_Marsh_Harrier'</li>\n",
       "\t<li>'X268_Rook'</li>\n",
       "\t<li>'X279_Western_Grey_Kangaroo'</li>\n",
       "\t<li>'X280_Western_Grey_Kangaroo'</li>\n",
       "\t<li>'X283_Koala'</li>\n",
       "\t<li>'X285_Short_beaked_Echidna'</li>\n",
       "\t<li>'X286_Short_beaked_Echidna'</li>\n",
       "\t<li>'X287_Common_Brushtail'</li>\n",
       "\t<li>'X288_Common_Brushtail'</li>\n",
       "\t<li>'X289_Eastern_Grey_Kangaroo'</li>\n",
       "\t<li>'X290_Eastern_Grey_Kangaroo'</li>\n",
       "\t<li>'X3_Alpine_Chamois'</li>\n",
       "\t<li>'X31_Chicken'</li>\n",
       "\t<li>'X315_Red_Deer'</li>\n",
       "\t<li>'X32_Greylag_Goose'</li>\n",
       "\t<li>'X326_Silver_Bream'</li>\n",
       "\t<li>'X327_Silver_Bream'</li>\n",
       "\t<li>'X328_Prussian_Carp'</li>\n",
       "\t<li>'X33_Wild_Turkey'</li>\n",
       "\t<li>'X330_Ide'</li>\n",
       "\t<li>'X333_Gray_Seal'</li>\n",
       "\t<li>'X336_Sei_Whale'</li>\n",
       "\t<li>'X338_White_beaked_Dolphin'</li>\n",
       "\t<li>'X339_White_beaked_Dolphin'</li>\n",
       "\t<li>'X34_Mallard_Duck'</li>\n",
       "\t<li>'X340_Western_Lowland_Gorilla'</li>\n",
       "\t<li>'X341_Western_Lowland_Gorilla'</li>\n",
       "\t<li>'X344_Indian_Rhinoceros'</li>\n",
       "\t<li>'X350_Smooth_Newt'</li>\n",
       "\t<li>'X351_Grass_Snake'</li>\n",
       "\t<li>'X352_Kinkajou'</li>\n",
       "\t<li>'X353_Raccoon'</li>\n",
       "\t<li>'X356_Northern_Tamandua'</li>\n",
       "\t<li>'X357_Northern_Tamandua'</li>\n",
       "\t<li>'X359_Brown_throated_Sloth'</li>\n",
       "\t<li>'X360_White_tailed_Deer'</li>\n",
       "\t<li>'X363_Desmarests_Spiny_Pocket_Mouse'</li>\n",
       "\t<li>'X368_European_Ground_Squirrel'</li>\n",
       "\t<li>'X369_Koala'</li>\n",
       "\t<li>'X370_African_Bush_Elephant'</li>\n",
       "\t<li>'X372_Emu'</li>\n",
       "\t<li>'X376_Kulan'</li>\n",
       "\t<li>'X380_Wild_Boar'</li>\n",
       "\t<li>'X381_Wild_Boar'</li>\n",
       "\t<li>'X382_Arctic_Wolf'</li>\n",
       "\t<li>'X384_Eurasian_Lynx'</li>\n",
       "\t<li>'X389_Indian_Rhinoceros'</li>\n",
       "\t<li>'X390_European_Ground_Squirrel'</li>\n",
       "\t<li>'X394_Przewalski_horse'</li>\n",
       "\t<li>'X395_Przewalski_horse'</li>\n",
       "\t<li>'X396_Morelets_crocodile'</li>\n",
       "\t<li>'X403_Chacma_Baboon'</li>\n",
       "\t<li>'X405_Nile_Crocodile'</li>\n",
       "\t<li>'X407_African_Bush_Elephant'</li>\n",
       "\t<li>'X408_African_Bush_Elephant'</li>\n",
       "\t<li>'X41_Pika'</li>\n",
       "\t<li>'X410_Impala'</li>\n",
       "\t<li>'X411_Leopard'</li>\n",
       "\t<li>'X414_Vervet_Monkey'</li>\n",
       "\t<li>'X415_White_Rhinoceros'</li>\n",
       "\t<li>'X416_White_Rhinoceros'</li>\n",
       "\t<li>'X417_Giraffe'</li>\n",
       "\t<li>'X418_Giraffe'</li>\n",
       "\t<li>'X419_African_Buffalo'</li>\n",
       "\t<li>'X42_Goitered_Gazelle'</li>\n",
       "\t<li>'X420_Cattle'</li>\n",
       "\t<li>'X422_Common_Hippopotamus'</li>\n",
       "\t<li>'X423_Quagga'</li>\n",
       "\t<li>'X424_Quagga'</li>\n",
       "\t<li>'X426_Ural_Owl'</li>\n",
       "\t<li>'X427_Great_Spotted_Woodpecker'</li>\n",
       "\t<li>'X428_African_Bush_Elephant'</li>\n",
       "\t<li>'X429_Giraffe'</li>\n",
       "\t<li>'X430_Giraffe'</li>\n",
       "\t<li>'X431_Quagga'</li>\n",
       "\t<li>'X432_Vervet_Monkey'</li>\n",
       "\t<li>'X435_Bactrian_Camel'</li>\n",
       "\t<li>'X67_European_Roe'</li>\n",
       "\t<li>'X7_European_Otter'</li>\n",
       "\t<li>'X77_Onager'</li>\n",
       "\t<li>'X85_Domestic_Dog'</li>\n",
       "\t<li>'X88_European_Rabbit'</li>\n",
       "\t<li>'X95_Meadow_Viper'</li>\n",
       "\t<li>'X96_European_Hare'</li>\n",
       "</ol>\n"
      ],
      "text/latex": [
       "\\begin{enumerate*}\n",
       "\\item 'F157a\\_European\\_Toad'\n",
       "\\item 'F35\\_Red\\_Deer'\n",
       "\\item 'F36\\_Red\\_Deer'\n",
       "\\item 'F44\\_Fallow\\_Deer'\n",
       "\\item 'F45\\_Red\\_Deer'\n",
       "\\item 'F47\\_Red\\_Deer'\n",
       "\\item 'F48\\_Red\\_Deer'\n",
       "\\item 'F53\\_Mouflon'\n",
       "\\item 'F66\\_Wild\\_Boar'\n",
       "\\item 'F68\\_Red\\_Deer'\n",
       "\\item 'F69\\_Red\\_Deer'\n",
       "\\item 'F70\\_Red\\_Deer'\n",
       "\\item 'F80\\_Red\\_Deer'\n",
       "\\item 'F90\\_Domestic\\_Dog'\n",
       "\\item 'X101\\_Horse'\n",
       "\\item 'X102\\_Kulan'\n",
       "\\item 'X109\\_Red\\_Fox'\n",
       "\\item 'X11\\_Onager'\n",
       "\\item 'X111\\_West\\_European\\_Hedgehog'\n",
       "\\item 'X116\\_Common\\_Kestrel'\n",
       "\\item 'X117\\_Long\\_eared\\_Owl'\n",
       "\\item 'X122\\_Wild\\_Boar'\n",
       "\\item 'X123\\_Alpine\\_Chamois'\n",
       "\\item 'X125\\_Common\\_Carp'\n",
       "\\item 'X127\\_Alpine\\_Marmot'\n",
       "\\item 'X128\\_Alpine\\_Marmot'\n",
       "\\item 'X129\\_Alpine\\_Ibex'\n",
       "\\item 'X13\\_Wolf'\n",
       "\\item 'X130\\_Alpine\\_Ibex'\n",
       "\\item 'X131\\_Rock\\_Ptarmigan'\n",
       "\\item 'X133\\_Domestic\\_Goat'\n",
       "\\item 'X134\\_Domestic\\_Goat'\n",
       "\\item 'X137\\_Gaur'\n",
       "\\item 'X138\\_Gaur'\n",
       "\\item 'X139\\_Sambar'\n",
       "\\item 'X140\\_Sambar'\n",
       "\\item 'X141\\_Red\\_cheeked\\_Gibbon'\n",
       "\\item 'X144\\_Cattle'\n",
       "\\item 'X157\\_Grey\\_Heron'\n",
       "\\item 'X158\\_White\\_tailed\\_Eagle'\n",
       "\\item 'X16\\_Fat\\_Dormouse'\n",
       "\\item 'X172\\_European\\_Greenfinch'\n",
       "\\item 'X174\\_Great\\_Tit'\n",
       "\\item 'X203\\_Red\\_Deer'\n",
       "\\item 'X221\\_Alpine\\_Ibex'\n",
       "\\item 'X230\\_Carrion\\_Crow'\n",
       "\\item 'X233\\_Aesculapian\\_Snake'\n",
       "\\item 'X236\\_Pygmy\\_Slow\\_Loris'\n",
       "\\item 'X237\\_Red\\_shanked\\_Douc\\_Langur'\n",
       "\\item 'X238\\_Hanuman\\_Langur'\n",
       "\\item 'X240\\_Southern\\_White\\_cheeked\\_Gibbon'\n",
       "\\item 'X241\\_Italian\\_wall\\_lizard'\n",
       "\\item 'X242\\_Dalmatian\\_Tortoise'\n",
       "\\item 'X247\\_Common\\_Hamster'\n",
       "\\item 'X252\\_Eurasian\\_Lynx'\n",
       "\\item 'X260\\_Blackbird'\n",
       "\\item 'X266\\_Western\\_Marsh\\_Harrier'\n",
       "\\item 'X268\\_Rook'\n",
       "\\item 'X279\\_Western\\_Grey\\_Kangaroo'\n",
       "\\item 'X280\\_Western\\_Grey\\_Kangaroo'\n",
       "\\item 'X283\\_Koala'\n",
       "\\item 'X285\\_Short\\_beaked\\_Echidna'\n",
       "\\item 'X286\\_Short\\_beaked\\_Echidna'\n",
       "\\item 'X287\\_Common\\_Brushtail'\n",
       "\\item 'X288\\_Common\\_Brushtail'\n",
       "\\item 'X289\\_Eastern\\_Grey\\_Kangaroo'\n",
       "\\item 'X290\\_Eastern\\_Grey\\_Kangaroo'\n",
       "\\item 'X3\\_Alpine\\_Chamois'\n",
       "\\item 'X31\\_Chicken'\n",
       "\\item 'X315\\_Red\\_Deer'\n",
       "\\item 'X32\\_Greylag\\_Goose'\n",
       "\\item 'X326\\_Silver\\_Bream'\n",
       "\\item 'X327\\_Silver\\_Bream'\n",
       "\\item 'X328\\_Prussian\\_Carp'\n",
       "\\item 'X33\\_Wild\\_Turkey'\n",
       "\\item 'X330\\_Ide'\n",
       "\\item 'X333\\_Gray\\_Seal'\n",
       "\\item 'X336\\_Sei\\_Whale'\n",
       "\\item 'X338\\_White\\_beaked\\_Dolphin'\n",
       "\\item 'X339\\_White\\_beaked\\_Dolphin'\n",
       "\\item 'X34\\_Mallard\\_Duck'\n",
       "\\item 'X340\\_Western\\_Lowland\\_Gorilla'\n",
       "\\item 'X341\\_Western\\_Lowland\\_Gorilla'\n",
       "\\item 'X344\\_Indian\\_Rhinoceros'\n",
       "\\item 'X350\\_Smooth\\_Newt'\n",
       "\\item 'X351\\_Grass\\_Snake'\n",
       "\\item 'X352\\_Kinkajou'\n",
       "\\item 'X353\\_Raccoon'\n",
       "\\item 'X356\\_Northern\\_Tamandua'\n",
       "\\item 'X357\\_Northern\\_Tamandua'\n",
       "\\item 'X359\\_Brown\\_throated\\_Sloth'\n",
       "\\item 'X360\\_White\\_tailed\\_Deer'\n",
       "\\item 'X363\\_Desmarests\\_Spiny\\_Pocket\\_Mouse'\n",
       "\\item 'X368\\_European\\_Ground\\_Squirrel'\n",
       "\\item 'X369\\_Koala'\n",
       "\\item 'X370\\_African\\_Bush\\_Elephant'\n",
       "\\item 'X372\\_Emu'\n",
       "\\item 'X376\\_Kulan'\n",
       "\\item 'X380\\_Wild\\_Boar'\n",
       "\\item 'X381\\_Wild\\_Boar'\n",
       "\\item 'X382\\_Arctic\\_Wolf'\n",
       "\\item 'X384\\_Eurasian\\_Lynx'\n",
       "\\item 'X389\\_Indian\\_Rhinoceros'\n",
       "\\item 'X390\\_European\\_Ground\\_Squirrel'\n",
       "\\item 'X394\\_Przewalski\\_horse'\n",
       "\\item 'X395\\_Przewalski\\_horse'\n",
       "\\item 'X396\\_Morelets\\_crocodile'\n",
       "\\item 'X403\\_Chacma\\_Baboon'\n",
       "\\item 'X405\\_Nile\\_Crocodile'\n",
       "\\item 'X407\\_African\\_Bush\\_Elephant'\n",
       "\\item 'X408\\_African\\_Bush\\_Elephant'\n",
       "\\item 'X41\\_Pika'\n",
       "\\item 'X410\\_Impala'\n",
       "\\item 'X411\\_Leopard'\n",
       "\\item 'X414\\_Vervet\\_Monkey'\n",
       "\\item 'X415\\_White\\_Rhinoceros'\n",
       "\\item 'X416\\_White\\_Rhinoceros'\n",
       "\\item 'X417\\_Giraffe'\n",
       "\\item 'X418\\_Giraffe'\n",
       "\\item 'X419\\_African\\_Buffalo'\n",
       "\\item 'X42\\_Goitered\\_Gazelle'\n",
       "\\item 'X420\\_Cattle'\n",
       "\\item 'X422\\_Common\\_Hippopotamus'\n",
       "\\item 'X423\\_Quagga'\n",
       "\\item 'X424\\_Quagga'\n",
       "\\item 'X426\\_Ural\\_Owl'\n",
       "\\item 'X427\\_Great\\_Spotted\\_Woodpecker'\n",
       "\\item 'X428\\_African\\_Bush\\_Elephant'\n",
       "\\item 'X429\\_Giraffe'\n",
       "\\item 'X430\\_Giraffe'\n",
       "\\item 'X431\\_Quagga'\n",
       "\\item 'X432\\_Vervet\\_Monkey'\n",
       "\\item 'X435\\_Bactrian\\_Camel'\n",
       "\\item 'X67\\_European\\_Roe'\n",
       "\\item 'X7\\_European\\_Otter'\n",
       "\\item 'X77\\_Onager'\n",
       "\\item 'X85\\_Domestic\\_Dog'\n",
       "\\item 'X88\\_European\\_Rabbit'\n",
       "\\item 'X95\\_Meadow\\_Viper'\n",
       "\\item 'X96\\_European\\_Hare'\n",
       "\\end{enumerate*}\n"
      ],
      "text/markdown": [
       "1. 'F157a_European_Toad'\n",
       "2. 'F35_Red_Deer'\n",
       "3. 'F36_Red_Deer'\n",
       "4. 'F44_Fallow_Deer'\n",
       "5. 'F45_Red_Deer'\n",
       "6. 'F47_Red_Deer'\n",
       "7. 'F48_Red_Deer'\n",
       "8. 'F53_Mouflon'\n",
       "9. 'F66_Wild_Boar'\n",
       "10. 'F68_Red_Deer'\n",
       "11. 'F69_Red_Deer'\n",
       "12. 'F70_Red_Deer'\n",
       "13. 'F80_Red_Deer'\n",
       "14. 'F90_Domestic_Dog'\n",
       "15. 'X101_Horse'\n",
       "16. 'X102_Kulan'\n",
       "17. 'X109_Red_Fox'\n",
       "18. 'X11_Onager'\n",
       "19. 'X111_West_European_Hedgehog'\n",
       "20. 'X116_Common_Kestrel'\n",
       "21. 'X117_Long_eared_Owl'\n",
       "22. 'X122_Wild_Boar'\n",
       "23. 'X123_Alpine_Chamois'\n",
       "24. 'X125_Common_Carp'\n",
       "25. 'X127_Alpine_Marmot'\n",
       "26. 'X128_Alpine_Marmot'\n",
       "27. 'X129_Alpine_Ibex'\n",
       "28. 'X13_Wolf'\n",
       "29. 'X130_Alpine_Ibex'\n",
       "30. 'X131_Rock_Ptarmigan'\n",
       "31. 'X133_Domestic_Goat'\n",
       "32. 'X134_Domestic_Goat'\n",
       "33. 'X137_Gaur'\n",
       "34. 'X138_Gaur'\n",
       "35. 'X139_Sambar'\n",
       "36. 'X140_Sambar'\n",
       "37. 'X141_Red_cheeked_Gibbon'\n",
       "38. 'X144_Cattle'\n",
       "39. 'X157_Grey_Heron'\n",
       "40. 'X158_White_tailed_Eagle'\n",
       "41. 'X16_Fat_Dormouse'\n",
       "42. 'X172_European_Greenfinch'\n",
       "43. 'X174_Great_Tit'\n",
       "44. 'X203_Red_Deer'\n",
       "45. 'X221_Alpine_Ibex'\n",
       "46. 'X230_Carrion_Crow'\n",
       "47. 'X233_Aesculapian_Snake'\n",
       "48. 'X236_Pygmy_Slow_Loris'\n",
       "49. 'X237_Red_shanked_Douc_Langur'\n",
       "50. 'X238_Hanuman_Langur'\n",
       "51. 'X240_Southern_White_cheeked_Gibbon'\n",
       "52. 'X241_Italian_wall_lizard'\n",
       "53. 'X242_Dalmatian_Tortoise'\n",
       "54. 'X247_Common_Hamster'\n",
       "55. 'X252_Eurasian_Lynx'\n",
       "56. 'X260_Blackbird'\n",
       "57. 'X266_Western_Marsh_Harrier'\n",
       "58. 'X268_Rook'\n",
       "59. 'X279_Western_Grey_Kangaroo'\n",
       "60. 'X280_Western_Grey_Kangaroo'\n",
       "61. 'X283_Koala'\n",
       "62. 'X285_Short_beaked_Echidna'\n",
       "63. 'X286_Short_beaked_Echidna'\n",
       "64. 'X287_Common_Brushtail'\n",
       "65. 'X288_Common_Brushtail'\n",
       "66. 'X289_Eastern_Grey_Kangaroo'\n",
       "67. 'X290_Eastern_Grey_Kangaroo'\n",
       "68. 'X3_Alpine_Chamois'\n",
       "69. 'X31_Chicken'\n",
       "70. 'X315_Red_Deer'\n",
       "71. 'X32_Greylag_Goose'\n",
       "72. 'X326_Silver_Bream'\n",
       "73. 'X327_Silver_Bream'\n",
       "74. 'X328_Prussian_Carp'\n",
       "75. 'X33_Wild_Turkey'\n",
       "76. 'X330_Ide'\n",
       "77. 'X333_Gray_Seal'\n",
       "78. 'X336_Sei_Whale'\n",
       "79. 'X338_White_beaked_Dolphin'\n",
       "80. 'X339_White_beaked_Dolphin'\n",
       "81. 'X34_Mallard_Duck'\n",
       "82. 'X340_Western_Lowland_Gorilla'\n",
       "83. 'X341_Western_Lowland_Gorilla'\n",
       "84. 'X344_Indian_Rhinoceros'\n",
       "85. 'X350_Smooth_Newt'\n",
       "86. 'X351_Grass_Snake'\n",
       "87. 'X352_Kinkajou'\n",
       "88. 'X353_Raccoon'\n",
       "89. 'X356_Northern_Tamandua'\n",
       "90. 'X357_Northern_Tamandua'\n",
       "91. 'X359_Brown_throated_Sloth'\n",
       "92. 'X360_White_tailed_Deer'\n",
       "93. 'X363_Desmarests_Spiny_Pocket_Mouse'\n",
       "94. 'X368_European_Ground_Squirrel'\n",
       "95. 'X369_Koala'\n",
       "96. 'X370_African_Bush_Elephant'\n",
       "97. 'X372_Emu'\n",
       "98. 'X376_Kulan'\n",
       "99. 'X380_Wild_Boar'\n",
       "100. 'X381_Wild_Boar'\n",
       "101. 'X382_Arctic_Wolf'\n",
       "102. 'X384_Eurasian_Lynx'\n",
       "103. 'X389_Indian_Rhinoceros'\n",
       "104. 'X390_European_Ground_Squirrel'\n",
       "105. 'X394_Przewalski_horse'\n",
       "106. 'X395_Przewalski_horse'\n",
       "107. 'X396_Morelets_crocodile'\n",
       "108. 'X403_Chacma_Baboon'\n",
       "109. 'X405_Nile_Crocodile'\n",
       "110. 'X407_African_Bush_Elephant'\n",
       "111. 'X408_African_Bush_Elephant'\n",
       "112. 'X41_Pika'\n",
       "113. 'X410_Impala'\n",
       "114. 'X411_Leopard'\n",
       "115. 'X414_Vervet_Monkey'\n",
       "116. 'X415_White_Rhinoceros'\n",
       "117. 'X416_White_Rhinoceros'\n",
       "118. 'X417_Giraffe'\n",
       "119. 'X418_Giraffe'\n",
       "120. 'X419_African_Buffalo'\n",
       "121. 'X42_Goitered_Gazelle'\n",
       "122. 'X420_Cattle'\n",
       "123. 'X422_Common_Hippopotamus'\n",
       "124. 'X423_Quagga'\n",
       "125. 'X424_Quagga'\n",
       "126. 'X426_Ural_Owl'\n",
       "127. 'X427_Great_Spotted_Woodpecker'\n",
       "128. 'X428_African_Bush_Elephant'\n",
       "129. 'X429_Giraffe'\n",
       "130. 'X430_Giraffe'\n",
       "131. 'X431_Quagga'\n",
       "132. 'X432_Vervet_Monkey'\n",
       "133. 'X435_Bactrian_Camel'\n",
       "134. 'X67_European_Roe'\n",
       "135. 'X7_European_Otter'\n",
       "136. 'X77_Onager'\n",
       "137. 'X85_Domestic_Dog'\n",
       "138. 'X88_European_Rabbit'\n",
       "139. 'X95_Meadow_Viper'\n",
       "140. 'X96_European_Hare'\n",
       "\n",
       "\n"
      ],
      "text/plain": [
       "  [1] \"F157a_European_Toad\"                \"F35_Red_Deer\"                      \n",
       "  [3] \"F36_Red_Deer\"                       \"F44_Fallow_Deer\"                   \n",
       "  [5] \"F45_Red_Deer\"                       \"F47_Red_Deer\"                      \n",
       "  [7] \"F48_Red_Deer\"                       \"F53_Mouflon\"                       \n",
       "  [9] \"F66_Wild_Boar\"                      \"F68_Red_Deer\"                      \n",
       " [11] \"F69_Red_Deer\"                       \"F70_Red_Deer\"                      \n",
       " [13] \"F80_Red_Deer\"                       \"F90_Domestic_Dog\"                  \n",
       " [15] \"X101_Horse\"                         \"X102_Kulan\"                        \n",
       " [17] \"X109_Red_Fox\"                       \"X11_Onager\"                        \n",
       " [19] \"X111_West_European_Hedgehog\"        \"X116_Common_Kestrel\"               \n",
       " [21] \"X117_Long_eared_Owl\"                \"X122_Wild_Boar\"                    \n",
       " [23] \"X123_Alpine_Chamois\"                \"X125_Common_Carp\"                  \n",
       " [25] \"X127_Alpine_Marmot\"                 \"X128_Alpine_Marmot\"                \n",
       " [27] \"X129_Alpine_Ibex\"                   \"X13_Wolf\"                          \n",
       " [29] \"X130_Alpine_Ibex\"                   \"X131_Rock_Ptarmigan\"               \n",
       " [31] \"X133_Domestic_Goat\"                 \"X134_Domestic_Goat\"                \n",
       " [33] \"X137_Gaur\"                          \"X138_Gaur\"                         \n",
       " [35] \"X139_Sambar\"                        \"X140_Sambar\"                       \n",
       " [37] \"X141_Red_cheeked_Gibbon\"            \"X144_Cattle\"                       \n",
       " [39] \"X157_Grey_Heron\"                    \"X158_White_tailed_Eagle\"           \n",
       " [41] \"X16_Fat_Dormouse\"                   \"X172_European_Greenfinch\"          \n",
       " [43] \"X174_Great_Tit\"                     \"X203_Red_Deer\"                     \n",
       " [45] \"X221_Alpine_Ibex\"                   \"X230_Carrion_Crow\"                 \n",
       " [47] \"X233_Aesculapian_Snake\"             \"X236_Pygmy_Slow_Loris\"             \n",
       " [49] \"X237_Red_shanked_Douc_Langur\"       \"X238_Hanuman_Langur\"               \n",
       " [51] \"X240_Southern_White_cheeked_Gibbon\" \"X241_Italian_wall_lizard\"          \n",
       " [53] \"X242_Dalmatian_Tortoise\"            \"X247_Common_Hamster\"               \n",
       " [55] \"X252_Eurasian_Lynx\"                 \"X260_Blackbird\"                    \n",
       " [57] \"X266_Western_Marsh_Harrier\"         \"X268_Rook\"                         \n",
       " [59] \"X279_Western_Grey_Kangaroo\"         \"X280_Western_Grey_Kangaroo\"        \n",
       " [61] \"X283_Koala\"                         \"X285_Short_beaked_Echidna\"         \n",
       " [63] \"X286_Short_beaked_Echidna\"          \"X287_Common_Brushtail\"             \n",
       " [65] \"X288_Common_Brushtail\"              \"X289_Eastern_Grey_Kangaroo\"        \n",
       " [67] \"X290_Eastern_Grey_Kangaroo\"         \"X3_Alpine_Chamois\"                 \n",
       " [69] \"X31_Chicken\"                        \"X315_Red_Deer\"                     \n",
       " [71] \"X32_Greylag_Goose\"                  \"X326_Silver_Bream\"                 \n",
       " [73] \"X327_Silver_Bream\"                  \"X328_Prussian_Carp\"                \n",
       " [75] \"X33_Wild_Turkey\"                    \"X330_Ide\"                          \n",
       " [77] \"X333_Gray_Seal\"                     \"X336_Sei_Whale\"                    \n",
       " [79] \"X338_White_beaked_Dolphin\"          \"X339_White_beaked_Dolphin\"         \n",
       " [81] \"X34_Mallard_Duck\"                   \"X340_Western_Lowland_Gorilla\"      \n",
       " [83] \"X341_Western_Lowland_Gorilla\"       \"X344_Indian_Rhinoceros\"            \n",
       " [85] \"X350_Smooth_Newt\"                   \"X351_Grass_Snake\"                  \n",
       " [87] \"X352_Kinkajou\"                      \"X353_Raccoon\"                      \n",
       " [89] \"X356_Northern_Tamandua\"             \"X357_Northern_Tamandua\"            \n",
       " [91] \"X359_Brown_throated_Sloth\"          \"X360_White_tailed_Deer\"            \n",
       " [93] \"X363_Desmarests_Spiny_Pocket_Mouse\" \"X368_European_Ground_Squirrel\"     \n",
       " [95] \"X369_Koala\"                         \"X370_African_Bush_Elephant\"        \n",
       " [97] \"X372_Emu\"                           \"X376_Kulan\"                        \n",
       " [99] \"X380_Wild_Boar\"                     \"X381_Wild_Boar\"                    \n",
       "[101] \"X382_Arctic_Wolf\"                   \"X384_Eurasian_Lynx\"                \n",
       "[103] \"X389_Indian_Rhinoceros\"             \"X390_European_Ground_Squirrel\"     \n",
       "[105] \"X394_Przewalski_horse\"              \"X395_Przewalski_horse\"             \n",
       "[107] \"X396_Morelets_crocodile\"            \"X403_Chacma_Baboon\"                \n",
       "[109] \"X405_Nile_Crocodile\"                \"X407_African_Bush_Elephant\"        \n",
       "[111] \"X408_African_Bush_Elephant\"         \"X41_Pika\"                          \n",
       "[113] \"X410_Impala\"                        \"X411_Leopard\"                      \n",
       "[115] \"X414_Vervet_Monkey\"                 \"X415_White_Rhinoceros\"             \n",
       "[117] \"X416_White_Rhinoceros\"              \"X417_Giraffe\"                      \n",
       "[119] \"X418_Giraffe\"                       \"X419_African_Buffalo\"              \n",
       "[121] \"X42_Goitered_Gazelle\"               \"X420_Cattle\"                       \n",
       "[123] \"X422_Common_Hippopotamus\"           \"X423_Quagga\"                       \n",
       "[125] \"X424_Quagga\"                        \"X426_Ural_Owl\"                     \n",
       "[127] \"X427_Great_Spotted_Woodpecker\"      \"X428_African_Bush_Elephant\"        \n",
       "[129] \"X429_Giraffe\"                       \"X430_Giraffe\"                      \n",
       "[131] \"X431_Quagga\"                        \"X432_Vervet_Monkey\"                \n",
       "[133] \"X435_Bactrian_Camel\"                \"X67_European_Roe\"                  \n",
       "[135] \"X7_European_Otter\"                  \"X77_Onager\"                        \n",
       "[137] \"X85_Domestic_Dog\"                   \"X88_European_Rabbit\"               \n",
       "[139] \"X95_Meadow_Viper\"                   \"X96_European_Hare\"                 "
      ]
     },
     "metadata": {},
     "output_type": "display_data"
    }
   ],
   "source": [
    "to_keep = intersect(Y2019_samps, arch_samps)\n",
    "to_keep %>% sort"
   ]
  },
  {
   "cell_type": "code",
   "execution_count": 24,
   "metadata": {
    "ExecuteTime": {
     "end_time": "2020-05-27T07:54:42.376033Z",
     "start_time": "2020-05-27T07:54:34.314Z"
    }
   },
   "outputs": [
    {
     "data": {
      "text/plain": [
       "phyloseq-class experiment-level object\n",
       "otu_table()   OTU Table:         [ 1529 taxa and 140 samples ]\n",
       "sample_data() Sample Data:       [ 140 samples by 74 sample variables ]\n",
       "tax_table()   Taxonomy Table:    [ 1529 taxa by 7 taxonomic ranks ]\n",
       "phy_tree()    Phylogenetic Tree: [ 1529 tips and 1526 internal nodes ]"
      ]
     },
     "metadata": {},
     "output_type": "display_data"
    }
   ],
   "source": [
    "# filtering\n",
    "physeq_int = prune_samples(to_keep, physeq) %>%\n",
    "    filter_taxa(function(x) sum(x > 0) > 0, TRUE)\n",
    "physeq_int"
   ]
  },
  {
   "cell_type": "code",
   "execution_count": 25,
   "metadata": {
    "ExecuteTime": {
     "end_time": "2020-05-27T07:54:43.855482Z",
     "start_time": "2020-05-27T07:54:34.317Z"
    }
   },
   "outputs": [
    {
     "data": {
      "text/plain": [
       "phyloseq-class experiment-level object\n",
       "otu_table()   OTU Table:         [ 26283 taxa and 140 samples ]\n",
       "sample_data() Sample Data:       [ 140 samples by 171 sample variables ]\n",
       "tax_table()   Taxonomy Table:    [ 26283 taxa by 7 taxonomic ranks ]\n",
       "phy_tree()    Phylogenetic Tree: [ 26283 tips and 25836 internal nodes ]"
      ]
     },
     "metadata": {},
     "output_type": "display_data"
    }
   ],
   "source": [
    "# filtering\n",
    "physeq_Y2019_int = prune_samples(to_keep, physeq_Y2019) %>%\n",
    "    filter_taxa(function(x) sum(x > 0) > 0, TRUE)\n",
    "physeq_Y2019_int"
   ]
  },
  {
   "cell_type": "markdown",
   "metadata": {},
   "source": [
    "## IndD"
   ]
  },
  {
   "cell_type": "markdown",
   "metadata": {},
   "source": [
    "### 16S arch"
   ]
  },
  {
   "cell_type": "code",
   "execution_count": 26,
   "metadata": {
    "ExecuteTime": {
     "end_time": "2020-05-27T07:54:43.912502Z",
     "start_time": "2020-05-27T07:54:34.329Z"
    }
   },
   "outputs": [
    {
     "data": {
      "text/html": [
       "<table>\n",
       "<caption>A tibble: 140 × 74</caption>\n",
       "<thead>\n",
       "\t<tr><th scope=col>SampleID</th><th scope=col>host_subject_id</th><th scope=col>host_german_name</th><th scope=col>host_common_name</th><th scope=col>scientific_name</th><th scope=col>scientific_name_subspecies</th><th scope=col>host_taxid</th><th scope=col>class</th><th scope=col>order</th><th scope=col>family</th><th scope=col>⋯</th><th scope=col>season</th><th scope=col>samp_store_days</th><th scope=col>samp_collect_device</th><th scope=col>sampling_method</th><th scope=col>diet</th><th scope=col>feeding_style</th><th scope=col>digestive_system</th><th scope=col>digestive_system_detail</th><th scope=col>Sample</th><th scope=col>total_count</th></tr>\n",
       "\t<tr><th scope=col>&lt;chr&gt;</th><th scope=col>&lt;chr&gt;</th><th scope=col>&lt;chr&gt;</th><th scope=col>&lt;chr&gt;</th><th scope=col>&lt;chr&gt;</th><th scope=col>&lt;chr&gt;</th><th scope=col>&lt;chr&gt;</th><th scope=col>&lt;chr&gt;</th><th scope=col>&lt;chr&gt;</th><th scope=col>&lt;chr&gt;</th><th scope=col>⋯</th><th scope=col>&lt;chr&gt;</th><th scope=col>&lt;chr&gt;</th><th scope=col>&lt;chr&gt;</th><th scope=col>&lt;chr&gt;</th><th scope=col>&lt;chr&gt;</th><th scope=col>&lt;chr&gt;</th><th scope=col>&lt;chr&gt;</th><th scope=col>&lt;chr&gt;</th><th scope=col>&lt;chr&gt;</th><th scope=col>&lt;dbl&gt;</th></tr>\n",
       "</thead>\n",
       "<tbody>\n",
       "\t<tr><td>F35_Red_Deer</td><td>F35</td><td>Rothirsch</td><td>Red.Deer</td><td>Cervus_elaphus</td><td>NA</td><td>9860</td><td>Mammalia</td><td>Artiodactyla</td><td>Cervidae</td><td>⋯</td><td>autumn</td><td>229</td><td>Greiner Polystyrene 30ml Faeces Container</td><td>feces sampling</td><td>herbivore</td><td>intermediate type</td><td>foregut</td><td>foregut</td><td>F35_Red_Deer</td><td>1874</td></tr>\n",
       "\t<tr><td>F36_Red_Deer</td><td>F36</td><td>Rothirsch</td><td>Red.Deer</td><td>Cervus_elaphus</td><td>NA</td><td>9860</td><td>Mammalia</td><td>Artiodactyla</td><td>Cervidae</td><td>⋯</td><td>autumn</td><td>229</td><td>Greiner Polystyrene 30ml Faeces Container</td><td>feces sampling</td><td>herbivore</td><td>intermediate type</td><td>foregut</td><td>foregut</td><td>F36_Red_Deer</td><td>3369</td></tr>\n",
       "\t<tr><td>⋮</td><td>⋮</td><td>⋮</td><td>⋮</td><td>⋮</td><td>⋮</td><td>⋮</td><td>⋮</td><td>⋮</td><td>⋮</td><td>⋱</td><td>⋮</td><td>⋮</td><td>⋮</td><td>⋮</td><td>⋮</td><td>⋮</td><td>⋮</td><td>⋮</td><td>⋮</td><td>⋮</td></tr>\n",
       "\t<tr><td>X431_Quagga     </td><td>431</td><td>Steppenzebra</td><td>Quagga      </td><td>Equus_quagga       </td><td>NA</td><td>89252</td><td>Mammalia</td><td>Perissodactyla</td><td>Equidae </td><td>⋯</td><td>autumn</td><td>NA     </td><td>Screw cap vial</td><td>feces sampling</td><td>herbivore</td><td>NA                  </td><td>hindgut</td><td>colon  </td><td>X431_Quagga     </td><td>2433</td></tr>\n",
       "\t<tr><td>X67_European_Roe</td><td>67 </td><td>Reh         </td><td>European.Roe</td><td>Capreolus_capreolus</td><td>NA</td><td>9858 </td><td>Mammalia</td><td>Artiodactyla  </td><td>Cervidae</td><td>⋯</td><td>autumn</td><td>#VALUE!</td><td>Screw cap vial</td><td>feces sampling</td><td>herbivore</td><td>concentrate selector</td><td>foregut</td><td>foregut</td><td>X67_European_Roe</td><td> 721</td></tr>\n",
       "</tbody>\n",
       "</table>\n"
      ],
      "text/latex": [
       "A tibble: 140 × 74\n",
       "\\begin{tabular}{lllllllllllllllllllll}\n",
       " SampleID & host\\_subject\\_id & host\\_german\\_name & host\\_common\\_name & scientific\\_name & scientific\\_name\\_subspecies & host\\_taxid & class & order & family & ⋯ & season & samp\\_store\\_days & samp\\_collect\\_device & sampling\\_method & diet & feeding\\_style & digestive\\_system & digestive\\_system\\_detail & Sample & total\\_count\\\\\n",
       " <chr> & <chr> & <chr> & <chr> & <chr> & <chr> & <chr> & <chr> & <chr> & <chr> & ⋯ & <chr> & <chr> & <chr> & <chr> & <chr> & <chr> & <chr> & <chr> & <chr> & <dbl>\\\\\n",
       "\\hline\n",
       "\t F35\\_Red\\_Deer & F35 & Rothirsch & Red.Deer & Cervus\\_elaphus & NA & 9860 & Mammalia & Artiodactyla & Cervidae & ⋯ & autumn & 229 & Greiner Polystyrene 30ml Faeces Container & feces sampling & herbivore & intermediate type & foregut & foregut & F35\\_Red\\_Deer & 1874\\\\\n",
       "\t F36\\_Red\\_Deer & F36 & Rothirsch & Red.Deer & Cervus\\_elaphus & NA & 9860 & Mammalia & Artiodactyla & Cervidae & ⋯ & autumn & 229 & Greiner Polystyrene 30ml Faeces Container & feces sampling & herbivore & intermediate type & foregut & foregut & F36\\_Red\\_Deer & 3369\\\\\n",
       "\t ⋮ & ⋮ & ⋮ & ⋮ & ⋮ & ⋮ & ⋮ & ⋮ & ⋮ & ⋮ & ⋱ & ⋮ & ⋮ & ⋮ & ⋮ & ⋮ & ⋮ & ⋮ & ⋮ & ⋮ & ⋮\\\\\n",
       "\t X431\\_Quagga      & 431 & Steppenzebra & Quagga       & Equus\\_quagga        & NA & 89252 & Mammalia & Perissodactyla & Equidae  & ⋯ & autumn & NA      & Screw cap vial & feces sampling & herbivore & NA                   & hindgut & colon   & X431\\_Quagga      & 2433\\\\\n",
       "\t X67\\_European\\_Roe & 67  & Reh          & European.Roe & Capreolus\\_capreolus & NA & 9858  & Mammalia & Artiodactyla   & Cervidae & ⋯ & autumn & \\#VALUE! & Screw cap vial & feces sampling & herbivore & concentrate selector & foregut & foregut & X67\\_European\\_Roe &  721\\\\\n",
       "\\end{tabular}\n"
      ],
      "text/markdown": [
       "\n",
       "A tibble: 140 × 74\n",
       "\n",
       "| SampleID &lt;chr&gt; | host_subject_id &lt;chr&gt; | host_german_name &lt;chr&gt; | host_common_name &lt;chr&gt; | scientific_name &lt;chr&gt; | scientific_name_subspecies &lt;chr&gt; | host_taxid &lt;chr&gt; | class &lt;chr&gt; | order &lt;chr&gt; | family &lt;chr&gt; | ⋯ ⋯ | season &lt;chr&gt; | samp_store_days &lt;chr&gt; | samp_collect_device &lt;chr&gt; | sampling_method &lt;chr&gt; | diet &lt;chr&gt; | feeding_style &lt;chr&gt; | digestive_system &lt;chr&gt; | digestive_system_detail &lt;chr&gt; | Sample &lt;chr&gt; | total_count &lt;dbl&gt; |\n",
       "|---|---|---|---|---|---|---|---|---|---|---|---|---|---|---|---|---|---|---|---|---|\n",
       "| F35_Red_Deer | F35 | Rothirsch | Red.Deer | Cervus_elaphus | NA | 9860 | Mammalia | Artiodactyla | Cervidae | ⋯ | autumn | 229 | Greiner Polystyrene 30ml Faeces Container | feces sampling | herbivore | intermediate type | foregut | foregut | F35_Red_Deer | 1874 |\n",
       "| F36_Red_Deer | F36 | Rothirsch | Red.Deer | Cervus_elaphus | NA | 9860 | Mammalia | Artiodactyla | Cervidae | ⋯ | autumn | 229 | Greiner Polystyrene 30ml Faeces Container | feces sampling | herbivore | intermediate type | foregut | foregut | F36_Red_Deer | 3369 |\n",
       "| ⋮ | ⋮ | ⋮ | ⋮ | ⋮ | ⋮ | ⋮ | ⋮ | ⋮ | ⋮ | ⋱ | ⋮ | ⋮ | ⋮ | ⋮ | ⋮ | ⋮ | ⋮ | ⋮ | ⋮ | ⋮ |\n",
       "| X431_Quagga      | 431 | Steppenzebra | Quagga       | Equus_quagga        | NA | 89252 | Mammalia | Perissodactyla | Equidae  | ⋯ | autumn | NA      | Screw cap vial | feces sampling | herbivore | NA                   | hindgut | colon   | X431_Quagga      | 2433 |\n",
       "| X67_European_Roe | 67  | Reh          | European.Roe | Capreolus_capreolus | NA | 9858  | Mammalia | Artiodactyla   | Cervidae | ⋯ | autumn | #VALUE! | Screw cap vial | feces sampling | herbivore | concentrate selector | foregut | foregut | X67_European_Roe |  721 |\n",
       "\n"
      ],
      "text/plain": [
       "    SampleID         host_subject_id host_german_name host_common_name\n",
       "1   F35_Red_Deer     F35             Rothirsch        Red.Deer        \n",
       "2   F36_Red_Deer     F36             Rothirsch        Red.Deer        \n",
       "⋮   ⋮                ⋮               ⋮                ⋮               \n",
       "139 X431_Quagga      431             Steppenzebra     Quagga          \n",
       "140 X67_European_Roe 67              Reh              European.Roe    \n",
       "    scientific_name     scientific_name_subspecies host_taxid class   \n",
       "1   Cervus_elaphus      NA                         9860       Mammalia\n",
       "2   Cervus_elaphus      NA                         9860       Mammalia\n",
       "⋮   ⋮                   ⋮                          ⋮          ⋮       \n",
       "139 Equus_quagga        NA                         89252      Mammalia\n",
       "140 Capreolus_capreolus NA                         9858       Mammalia\n",
       "    order          family   ⋯ season samp_store_days\n",
       "1   Artiodactyla   Cervidae ⋯ autumn 229            \n",
       "2   Artiodactyla   Cervidae ⋯ autumn 229            \n",
       "⋮   ⋮              ⋮        ⋱ ⋮      ⋮              \n",
       "139 Perissodactyla Equidae  ⋯ autumn NA             \n",
       "140 Artiodactyla   Cervidae ⋯ autumn #VALUE!        \n",
       "    samp_collect_device                       sampling_method diet     \n",
       "1   Greiner Polystyrene 30ml Faeces Container feces sampling  herbivore\n",
       "2   Greiner Polystyrene 30ml Faeces Container feces sampling  herbivore\n",
       "⋮   ⋮                                         ⋮               ⋮        \n",
       "139 Screw cap vial                            feces sampling  herbivore\n",
       "140 Screw cap vial                            feces sampling  herbivore\n",
       "    feeding_style        digestive_system digestive_system_detail\n",
       "1   intermediate type    foregut          foregut                \n",
       "2   intermediate type    foregut          foregut                \n",
       "⋮   ⋮                    ⋮                ⋮                      \n",
       "139 NA                   hindgut          colon                  \n",
       "140 concentrate selector foregut          foregut                \n",
       "    Sample           total_count\n",
       "1   F35_Red_Deer     1874       \n",
       "2   F36_Red_Deer     3369       \n",
       "⋮   ⋮                ⋮          \n",
       "139 X431_Quagga      2433       \n",
       "140 X67_European_Roe  721       "
      ]
     },
     "metadata": {},
     "output_type": "display_data"
    }
   ],
   "source": [
    "# random selection of 1 sample per host (host_subj_id)\n",
    "IndD = physeq_int %>%\n",
    "    phyloseq2df(sample_data) %>% \n",
    "    group_by(host_subject_id) %>%\n",
    "    mutate(RAND = sample(1:n(), n())) %>%\n",
    "    ungroup() %>%\n",
    "    filter(RAND == 1) %>%\n",
    "    dplyr::select(-RAND) \n",
    "\n",
    "stopifnot((IndD$host_subject_id %>% table %>% sort %>% unique) == 1)\n",
    "IndD "
   ]
  },
  {
   "cell_type": "code",
   "execution_count": 27,
   "metadata": {
    "ExecuteTime": {
     "end_time": "2020-05-27T07:54:43.972895Z",
     "start_time": "2020-05-27T07:54:34.332Z"
    }
   },
   "outputs": [
    {
     "data": {
      "text/plain": [
       "phyloseq-class experiment-level object\n",
       "otu_table()   OTU Table:         [ 1529 taxa and 140 samples ]\n",
       "sample_data() Sample Data:       [ 140 samples by 74 sample variables ]\n",
       "tax_table()   Taxonomy Table:    [ 1529 taxa by 7 taxonomic ranks ]\n",
       "phy_tree()    Phylogenetic Tree: [ 1529 tips and 1526 internal nodes ]"
      ]
     },
     "metadata": {},
     "output_type": "display_data"
    }
   ],
   "source": [
    "# filtering\n",
    "physeq_int_IndD = prune_samples(IndD$SampleID, physeq_int) %>%\n",
    "    filter_taxa(function(x) sum(x > 0) > 0, TRUE)\n",
    "physeq_int_IndD"
   ]
  },
  {
   "cell_type": "code",
   "execution_count": 28,
   "metadata": {
    "ExecuteTime": {
     "end_time": "2020-05-27T07:54:44.059288Z",
     "start_time": "2020-05-27T07:54:34.335Z"
    }
   },
   "outputs": [
    {
     "name": "stdout",
     "output_type": "stream",
     "text": [
      "RDS: object saved: /ebio/abt3_projects/Georg_animal_feces/data/16S_arch/MiSeq-Runs-116-122-126-189-190/LLA/merged/phyloseq//physeq_arch_Y2019-16Sarch_IndD.RDS"
     ]
    }
   ],
   "source": [
    "# writing output\n",
    "out_file = out_file_name(work_dir, physeq_arch_file, '_Y2019-16Sarch_IndD.RDS')\n",
    "save_RDS(physeq_int_IndD, out_file)"
   ]
  },
  {
   "cell_type": "markdown",
   "metadata": {},
   "source": [
    "### Y2019"
   ]
  },
  {
   "cell_type": "code",
   "execution_count": 29,
   "metadata": {
    "ExecuteTime": {
     "end_time": "2020-05-27T07:54:44.779468Z",
     "start_time": "2020-05-27T07:54:34.337Z"
    }
   },
   "outputs": [
    {
     "data": {
      "text/plain": [
       "phyloseq-class experiment-level object\n",
       "otu_table()   OTU Table:         [ 26283 taxa and 140 samples ]\n",
       "sample_data() Sample Data:       [ 140 samples by 171 sample variables ]\n",
       "tax_table()   Taxonomy Table:    [ 26283 taxa by 7 taxonomic ranks ]\n",
       "phy_tree()    Phylogenetic Tree: [ 26283 tips and 25836 internal nodes ]"
      ]
     },
     "metadata": {},
     "output_type": "display_data"
    }
   ],
   "source": [
    "# filtering\n",
    "physeq_Y2019_int_IndD = prune_samples(IndD$SampleID, physeq_Y2019_int) %>%\n",
    "    filter_taxa(function(x) sum(x > 0) > 0, TRUE)\n",
    "physeq_Y2019_int_IndD"
   ]
  },
  {
   "cell_type": "code",
   "execution_count": 30,
   "metadata": {
    "ExecuteTime": {
     "end_time": "2020-05-27T07:54:45.829204Z",
     "start_time": "2020-05-27T07:54:34.341Z"
    }
   },
   "outputs": [
    {
     "name": "stdout",
     "output_type": "stream",
     "text": [
      "Directory already exists: /ebio/abt3_projects/Georg_animal_feces/data/16S_arch/MiSeq-Runs-116-122-126-189-190/LLA/merged/phyloseq//Y2019 \n",
      "RDS: object saved: /ebio/abt3_projects/Georg_animal_feces/data/16S_arch/MiSeq-Runs-116-122-126-189-190/LLA/merged/phyloseq//Y2019/physeq_r5k_Y2019-16Sarch_IndD.RDS"
     ]
    }
   ],
   "source": [
    "# writing output\n",
    "make_dir(file.path(work_dir, 'Y2019'))\n",
    "out_file = out_file_name(file.path(work_dir, 'Y2019'), \n",
    "                         physeq_Y2019_file, '_Y2019-16Sarch_IndD.RDS')\n",
    "save_RDS(physeq_Y2019_int_IndD, out_file)"
   ]
  },
  {
   "cell_type": "markdown",
   "metadata": {},
   "source": [
    "## SpecD"
   ]
  },
  {
   "cell_type": "markdown",
   "metadata": {},
   "source": [
    "### 16S arch"
   ]
  },
  {
   "cell_type": "code",
   "execution_count": 31,
   "metadata": {
    "ExecuteTime": {
     "end_time": "2020-05-27T07:54:45.884576Z",
     "start_time": "2020-05-27T07:54:34.346Z"
    }
   },
   "outputs": [
    {
     "data": {
      "text/html": [
       "<table>\n",
       "<caption>A tibble: 89 × 74</caption>\n",
       "<thead>\n",
       "\t<tr><th scope=col>SampleID</th><th scope=col>host_subject_id</th><th scope=col>host_german_name</th><th scope=col>host_common_name</th><th scope=col>scientific_name</th><th scope=col>scientific_name_subspecies</th><th scope=col>host_taxid</th><th scope=col>class</th><th scope=col>order</th><th scope=col>family</th><th scope=col>⋯</th><th scope=col>season</th><th scope=col>samp_store_days</th><th scope=col>samp_collect_device</th><th scope=col>sampling_method</th><th scope=col>diet</th><th scope=col>feeding_style</th><th scope=col>digestive_system</th><th scope=col>digestive_system_detail</th><th scope=col>Sample</th><th scope=col>total_count</th></tr>\n",
       "\t<tr><th scope=col>&lt;chr&gt;</th><th scope=col>&lt;chr&gt;</th><th scope=col>&lt;chr&gt;</th><th scope=col>&lt;chr&gt;</th><th scope=col>&lt;chr&gt;</th><th scope=col>&lt;chr&gt;</th><th scope=col>&lt;chr&gt;</th><th scope=col>&lt;chr&gt;</th><th scope=col>&lt;chr&gt;</th><th scope=col>&lt;chr&gt;</th><th scope=col>⋯</th><th scope=col>&lt;chr&gt;</th><th scope=col>&lt;chr&gt;</th><th scope=col>&lt;chr&gt;</th><th scope=col>&lt;chr&gt;</th><th scope=col>&lt;chr&gt;</th><th scope=col>&lt;chr&gt;</th><th scope=col>&lt;chr&gt;</th><th scope=col>&lt;chr&gt;</th><th scope=col>&lt;chr&gt;</th><th scope=col>&lt;dbl&gt;</th></tr>\n",
       "</thead>\n",
       "<tbody>\n",
       "\t<tr><td>F35_Red_Deer   </td><td>F35</td><td>Rothirsch</td><td>Red.Deer   </td><td>Cervus_elaphus</td><td>NA</td><td>9860 </td><td>Mammalia</td><td>Artiodactyla</td><td>Cervidae</td><td>⋯</td><td>autumn</td><td>229</td><td>Greiner Polystyrene 30ml Faeces Container</td><td>feces sampling</td><td>herbivore</td><td>intermediate type</td><td>foregut</td><td>foregut</td><td>F35_Red_Deer   </td><td>1874</td></tr>\n",
       "\t<tr><td>F44_Fallow_Deer</td><td>F44</td><td>Damhirsch</td><td>Fallow.Deer</td><td>Dama_dama     </td><td>NA</td><td>30532</td><td>Mammalia</td><td>Artiodactyla</td><td>Cervidae</td><td>⋯</td><td>autumn</td><td>230</td><td>Greiner Polystyrene 30ml Faeces Container</td><td>feces sampling</td><td>herbivore</td><td>intermediate type</td><td>foregut</td><td>foregut</td><td>F44_Fallow_Deer</td><td>6337</td></tr>\n",
       "\t<tr><td>⋮</td><td>⋮</td><td>⋮</td><td>⋮</td><td>⋮</td><td>⋮</td><td>⋮</td><td>⋮</td><td>⋮</td><td>⋮</td><td>⋱</td><td>⋮</td><td>⋮</td><td>⋮</td><td>⋮</td><td>⋮</td><td>⋮</td><td>⋮</td><td>⋮</td><td>⋮</td><td>⋮</td></tr>\n",
       "\t<tr><td>X405_Nile_Crocodile</td><td>405</td><td>Nilkrokodil</td><td>Nile.Crocodile</td><td>Crocodylus_niloticus</td><td>NA</td><td>8501</td><td>Reptilia</td><td>Crocodilia  </td><td>Crocodylidae</td><td>⋯</td><td>summer</td><td>NA     </td><td>Screw cap vial</td><td>feces sampling</td><td>carnivore</td><td>NA                  </td><td>simple </td><td>simple </td><td>X405_Nile_Crocodile</td><td>485</td></tr>\n",
       "\t<tr><td>X67_European_Roe   </td><td>67 </td><td>Reh        </td><td>European.Roe  </td><td>Capreolus_capreolus </td><td>NA</td><td>9858</td><td>Mammalia</td><td>Artiodactyla</td><td>Cervidae    </td><td>⋯</td><td>autumn</td><td>#VALUE!</td><td>Screw cap vial</td><td>feces sampling</td><td>herbivore</td><td>concentrate selector</td><td>foregut</td><td>foregut</td><td>X67_European_Roe   </td><td>721</td></tr>\n",
       "</tbody>\n",
       "</table>\n"
      ],
      "text/latex": [
       "A tibble: 89 × 74\n",
       "\\begin{tabular}{lllllllllllllllllllll}\n",
       " SampleID & host\\_subject\\_id & host\\_german\\_name & host\\_common\\_name & scientific\\_name & scientific\\_name\\_subspecies & host\\_taxid & class & order & family & ⋯ & season & samp\\_store\\_days & samp\\_collect\\_device & sampling\\_method & diet & feeding\\_style & digestive\\_system & digestive\\_system\\_detail & Sample & total\\_count\\\\\n",
       " <chr> & <chr> & <chr> & <chr> & <chr> & <chr> & <chr> & <chr> & <chr> & <chr> & ⋯ & <chr> & <chr> & <chr> & <chr> & <chr> & <chr> & <chr> & <chr> & <chr> & <dbl>\\\\\n",
       "\\hline\n",
       "\t F35\\_Red\\_Deer    & F35 & Rothirsch & Red.Deer    & Cervus\\_elaphus & NA & 9860  & Mammalia & Artiodactyla & Cervidae & ⋯ & autumn & 229 & Greiner Polystyrene 30ml Faeces Container & feces sampling & herbivore & intermediate type & foregut & foregut & F35\\_Red\\_Deer    & 1874\\\\\n",
       "\t F44\\_Fallow\\_Deer & F44 & Damhirsch & Fallow.Deer & Dama\\_dama      & NA & 30532 & Mammalia & Artiodactyla & Cervidae & ⋯ & autumn & 230 & Greiner Polystyrene 30ml Faeces Container & feces sampling & herbivore & intermediate type & foregut & foregut & F44\\_Fallow\\_Deer & 6337\\\\\n",
       "\t ⋮ & ⋮ & ⋮ & ⋮ & ⋮ & ⋮ & ⋮ & ⋮ & ⋮ & ⋮ & ⋱ & ⋮ & ⋮ & ⋮ & ⋮ & ⋮ & ⋮ & ⋮ & ⋮ & ⋮ & ⋮\\\\\n",
       "\t X405\\_Nile\\_Crocodile & 405 & Nilkrokodil & Nile.Crocodile & Crocodylus\\_niloticus & NA & 8501 & Reptilia & Crocodilia   & Crocodylidae & ⋯ & summer & NA      & Screw cap vial & feces sampling & carnivore & NA                   & simple  & simple  & X405\\_Nile\\_Crocodile & 485\\\\\n",
       "\t X67\\_European\\_Roe    & 67  & Reh         & European.Roe   & Capreolus\\_capreolus  & NA & 9858 & Mammalia & Artiodactyla & Cervidae     & ⋯ & autumn & \\#VALUE! & Screw cap vial & feces sampling & herbivore & concentrate selector & foregut & foregut & X67\\_European\\_Roe    & 721\\\\\n",
       "\\end{tabular}\n"
      ],
      "text/markdown": [
       "\n",
       "A tibble: 89 × 74\n",
       "\n",
       "| SampleID &lt;chr&gt; | host_subject_id &lt;chr&gt; | host_german_name &lt;chr&gt; | host_common_name &lt;chr&gt; | scientific_name &lt;chr&gt; | scientific_name_subspecies &lt;chr&gt; | host_taxid &lt;chr&gt; | class &lt;chr&gt; | order &lt;chr&gt; | family &lt;chr&gt; | ⋯ ⋯ | season &lt;chr&gt; | samp_store_days &lt;chr&gt; | samp_collect_device &lt;chr&gt; | sampling_method &lt;chr&gt; | diet &lt;chr&gt; | feeding_style &lt;chr&gt; | digestive_system &lt;chr&gt; | digestive_system_detail &lt;chr&gt; | Sample &lt;chr&gt; | total_count &lt;dbl&gt; |\n",
       "|---|---|---|---|---|---|---|---|---|---|---|---|---|---|---|---|---|---|---|---|---|\n",
       "| F35_Red_Deer    | F35 | Rothirsch | Red.Deer    | Cervus_elaphus | NA | 9860  | Mammalia | Artiodactyla | Cervidae | ⋯ | autumn | 229 | Greiner Polystyrene 30ml Faeces Container | feces sampling | herbivore | intermediate type | foregut | foregut | F35_Red_Deer    | 1874 |\n",
       "| F44_Fallow_Deer | F44 | Damhirsch | Fallow.Deer | Dama_dama      | NA | 30532 | Mammalia | Artiodactyla | Cervidae | ⋯ | autumn | 230 | Greiner Polystyrene 30ml Faeces Container | feces sampling | herbivore | intermediate type | foregut | foregut | F44_Fallow_Deer | 6337 |\n",
       "| ⋮ | ⋮ | ⋮ | ⋮ | ⋮ | ⋮ | ⋮ | ⋮ | ⋮ | ⋮ | ⋱ | ⋮ | ⋮ | ⋮ | ⋮ | ⋮ | ⋮ | ⋮ | ⋮ | ⋮ | ⋮ |\n",
       "| X405_Nile_Crocodile | 405 | Nilkrokodil | Nile.Crocodile | Crocodylus_niloticus | NA | 8501 | Reptilia | Crocodilia   | Crocodylidae | ⋯ | summer | NA      | Screw cap vial | feces sampling | carnivore | NA                   | simple  | simple  | X405_Nile_Crocodile | 485 |\n",
       "| X67_European_Roe    | 67  | Reh         | European.Roe   | Capreolus_capreolus  | NA | 9858 | Mammalia | Artiodactyla | Cervidae     | ⋯ | autumn | #VALUE! | Screw cap vial | feces sampling | herbivore | concentrate selector | foregut | foregut | X67_European_Roe    | 721 |\n",
       "\n"
      ],
      "text/plain": [
       "   SampleID            host_subject_id host_german_name host_common_name\n",
       "1  F35_Red_Deer        F35             Rothirsch        Red.Deer        \n",
       "2  F44_Fallow_Deer     F44             Damhirsch        Fallow.Deer     \n",
       "⋮  ⋮                   ⋮               ⋮                ⋮               \n",
       "88 X405_Nile_Crocodile 405             Nilkrokodil      Nile.Crocodile  \n",
       "89 X67_European_Roe    67              Reh              European.Roe    \n",
       "   scientific_name      scientific_name_subspecies host_taxid class   \n",
       "1  Cervus_elaphus       NA                         9860       Mammalia\n",
       "2  Dama_dama            NA                         30532      Mammalia\n",
       "⋮  ⋮                    ⋮                          ⋮          ⋮       \n",
       "88 Crocodylus_niloticus NA                         8501       Reptilia\n",
       "89 Capreolus_capreolus  NA                         9858       Mammalia\n",
       "   order        family       ⋯ season samp_store_days\n",
       "1  Artiodactyla Cervidae     ⋯ autumn 229            \n",
       "2  Artiodactyla Cervidae     ⋯ autumn 230            \n",
       "⋮  ⋮            ⋮            ⋱ ⋮      ⋮              \n",
       "88 Crocodilia   Crocodylidae ⋯ summer NA             \n",
       "89 Artiodactyla Cervidae     ⋯ autumn #VALUE!        \n",
       "   samp_collect_device                       sampling_method diet     \n",
       "1  Greiner Polystyrene 30ml Faeces Container feces sampling  herbivore\n",
       "2  Greiner Polystyrene 30ml Faeces Container feces sampling  herbivore\n",
       "⋮  ⋮                                         ⋮               ⋮        \n",
       "88 Screw cap vial                            feces sampling  carnivore\n",
       "89 Screw cap vial                            feces sampling  herbivore\n",
       "   feeding_style        digestive_system digestive_system_detail\n",
       "1  intermediate type    foregut          foregut                \n",
       "2  intermediate type    foregut          foregut                \n",
       "⋮  ⋮                    ⋮                ⋮                      \n",
       "88 NA                   simple           simple                 \n",
       "89 concentrate selector foregut          foregut                \n",
       "   Sample              total_count\n",
       "1  F35_Red_Deer        1874       \n",
       "2  F44_Fallow_Deer     6337       \n",
       "⋮  ⋮                   ⋮          \n",
       "88 X405_Nile_Crocodile 485        \n",
       "89 X67_European_Roe    721        "
      ]
     },
     "metadata": {},
     "output_type": "display_data"
    }
   ],
   "source": [
    "# random selection of 1 sample per host (scientific_name)\n",
    "SpecD = physeq_int %>%\n",
    "    phyloseq2df(sample_data) %>% \n",
    "    filter(SampleID %in% sample_names(physeq_int_IndD)) %>%\n",
    "    group_by(scientific_name) %>%\n",
    "    mutate(RAND = sample(1:n(), n())) %>%\n",
    "    ungroup() %>%\n",
    "    filter(RAND == 1) %>%\n",
    "    dplyr::select(-RAND) \n",
    "\n",
    "stopifnot((SpecD$scientific_name %>% table %>% sort %>% unique) == 1)\n",
    "SpecD"
   ]
  },
  {
   "cell_type": "code",
   "execution_count": 32,
   "metadata": {
    "ExecuteTime": {
     "end_time": "2020-05-27T07:54:45.899894Z",
     "start_time": "2020-05-27T07:54:34.349Z"
    }
   },
   "outputs": [
    {
     "name": "stdout",
     "output_type": "stream",
     "text": [
      "intersect(x,y): 89 \n",
      "setdiff(x,y): 0 \n",
      "setdiff(y,x): 51 \n",
      "union(x,y): 140 \n"
     ]
    }
   ],
   "source": [
    "# checking overlap\n",
    "overlap(SpecD$SampleID, sample_names(physeq_int_IndD))"
   ]
  },
  {
   "cell_type": "code",
   "execution_count": 33,
   "metadata": {
    "ExecuteTime": {
     "end_time": "2020-05-27T07:54:45.959586Z",
     "start_time": "2020-05-27T07:54:34.353Z"
    }
   },
   "outputs": [
    {
     "data": {
      "text/plain": [
       "phyloseq-class experiment-level object\n",
       "otu_table()   OTU Table:         [ 999 taxa and 89 samples ]\n",
       "sample_data() Sample Data:       [ 89 samples by 74 sample variables ]\n",
       "tax_table()   Taxonomy Table:    [ 999 taxa by 7 taxonomic ranks ]\n",
       "phy_tree()    Phylogenetic Tree: [ 999 tips and 996 internal nodes ]"
      ]
     },
     "metadata": {},
     "output_type": "display_data"
    }
   ],
   "source": [
    "# filtering\n",
    "physeq_int_SpecD = prune_samples(SpecD$SampleID, physeq_int) %>%\n",
    "    filter_taxa(function(x) sum(x > 0) > 0, TRUE)\n",
    "physeq_int_SpecD"
   ]
  },
  {
   "cell_type": "code",
   "execution_count": 34,
   "metadata": {
    "ExecuteTime": {
     "end_time": "2020-05-27T07:54:46.018394Z",
     "start_time": "2020-05-27T07:54:34.357Z"
    }
   },
   "outputs": [
    {
     "name": "stdout",
     "output_type": "stream",
     "text": [
      "RDS: object saved: /ebio/abt3_projects/Georg_animal_feces/data/16S_arch/MiSeq-Runs-116-122-126-189-190/LLA/merged/phyloseq//physeq_arch_Y2019-16Sarch_SpecD.RDS"
     ]
    }
   ],
   "source": [
    "# writing output\n",
    "out_file = out_file_name(work_dir, physeq_arch_file, '_Y2019-16Sarch_SpecD.RDS')\n",
    "save_RDS(physeq_int_SpecD, out_file)"
   ]
  },
  {
   "cell_type": "markdown",
   "metadata": {},
   "source": [
    "### Y2019"
   ]
  },
  {
   "cell_type": "code",
   "execution_count": 35,
   "metadata": {
    "ExecuteTime": {
     "end_time": "2020-05-27T07:54:46.541633Z",
     "start_time": "2020-05-27T07:54:34.363Z"
    }
   },
   "outputs": [
    {
     "data": {
      "text/plain": [
       "phyloseq-class experiment-level object\n",
       "otu_table()   OTU Table:         [ 17587 taxa and 89 samples ]\n",
       "sample_data() Sample Data:       [ 89 samples by 171 sample variables ]\n",
       "tax_table()   Taxonomy Table:    [ 17587 taxa by 7 taxonomic ranks ]\n",
       "phy_tree()    Phylogenetic Tree: [ 17587 tips and 17374 internal nodes ]"
      ]
     },
     "metadata": {},
     "output_type": "display_data"
    }
   ],
   "source": [
    "# filtering\n",
    "physeq_Y2019_int_SpecD = prune_samples(SpecD$SampleID, physeq_Y2019_int) %>%\n",
    "    filter_taxa(function(x) sum(x > 0) > 0, TRUE)\n",
    "physeq_Y2019_int_SpecD"
   ]
  },
  {
   "cell_type": "code",
   "execution_count": 36,
   "metadata": {
    "ExecuteTime": {
     "end_time": "2020-05-27T07:54:47.177819Z",
     "start_time": "2020-05-27T07:54:34.367Z"
    }
   },
   "outputs": [
    {
     "name": "stdout",
     "output_type": "stream",
     "text": [
      "RDS: object saved: /ebio/abt3_projects/Georg_animal_feces/data/16S_arch/MiSeq-Runs-116-122-126-189-190/LLA/merged/phyloseq//Y2019/physeq_r5k_Y2019-16Sarch_SpecD.RDS"
     ]
    }
   ],
   "source": [
    "# writing output\n",
    "out_file = out_file_name(file.path(work_dir, 'Y2019'), \n",
    "                         physeq_Y2019_file, '_Y2019-16Sarch_SpecD.RDS')\n",
    "save_RDS(physeq_Y2019_int_SpecD, out_file)"
   ]
  },
  {
   "cell_type": "markdown",
   "metadata": {},
   "source": [
    "# sessionInfo"
   ]
  },
  {
   "cell_type": "code",
   "execution_count": 37,
   "metadata": {
    "ExecuteTime": {
     "end_time": "2020-05-27T07:54:47.220586Z",
     "start_time": "2020-05-27T07:54:34.370Z"
    }
   },
   "outputs": [
    {
     "data": {
      "text/plain": [
       "R version 3.6.2 (2019-12-12)\n",
       "Platform: x86_64-conda_cos6-linux-gnu (64-bit)\n",
       "Running under: Ubuntu 18.04.4 LTS\n",
       "\n",
       "Matrix products: default\n",
       "BLAS/LAPACK: /ebio/abt3_projects/Georg_animal_feces/envs/phyloseq/lib/libopenblasp-r0.3.7.so\n",
       "\n",
       "locale:\n",
       " [1] LC_CTYPE=en_US.UTF-8       LC_NUMERIC=C              \n",
       " [3] LC_TIME=en_US.UTF-8        LC_COLLATE=en_US.UTF-8    \n",
       " [5] LC_MONETARY=en_US.UTF-8    LC_MESSAGES=en_US.UTF-8   \n",
       " [7] LC_PAPER=en_US.UTF-8       LC_NAME=C                 \n",
       " [9] LC_ADDRESS=C               LC_TELEPHONE=C            \n",
       "[11] LC_MEASUREMENT=en_US.UTF-8 LC_IDENTIFICATION=C       \n",
       "\n",
       "attached base packages:\n",
       "[1] stats     graphics  grDevices utils     datasets  methods   base     \n",
       "\n",
       "other attached packages:\n",
       "[1] LeyLabRMisc_0.1.5 phyloseq_1.30.0   ggplot2_3.2.1     tidyr_1.0.0      \n",
       "[5] dplyr_0.8.3      \n",
       "\n",
       "loaded via a namespace (and not attached):\n",
       " [1] Rcpp_1.0.3          ape_5.3             lattice_0.20-38    \n",
       " [4] Biostrings_2.54.0   assertthat_0.2.1    digest_0.6.23      \n",
       " [7] foreach_1.4.7       IRdisplay_0.7.0     R6_2.4.1           \n",
       "[10] plyr_1.8.5          repr_1.0.2          stats4_3.6.2       \n",
       "[13] evaluate_0.14       pillar_1.4.3        zlibbioc_1.32.0    \n",
       "[16] rlang_0.4.6         lazyeval_0.2.2      uuid_0.1-2         \n",
       "[19] data.table_1.12.8   vegan_2.5-6         S4Vectors_0.24.0   \n",
       "[22] Matrix_1.2-18       splines_3.6.2       stringr_1.4.0      \n",
       "[25] igraph_1.2.4.2      munsell_0.5.0       compiler_3.6.2     \n",
       "[28] pkgconfig_2.0.3     BiocGenerics_0.32.0 base64enc_0.1-3    \n",
       "[31] multtest_2.42.0     mgcv_1.8-31         htmltools_0.4.0    \n",
       "[34] biomformat_1.14.0   tidyselect_1.1.0    tibble_2.1.3       \n",
       "[37] IRanges_2.20.0      codetools_0.2-16    permute_0.9-5      \n",
       "[40] crayon_1.3.4        withr_2.1.2         MASS_7.3-51.5      \n",
       "[43] grid_3.6.2          nlme_3.1-143        jsonlite_1.6       \n",
       "[46] gtable_0.3.0        lifecycle_0.1.0     magrittr_1.5       \n",
       "[49] scales_1.1.0        stringi_1.4.5       XVector_0.26.0     \n",
       "[52] reshape2_1.4.3      vctrs_0.3.0         IRkernel_1.1       \n",
       "[55] Rhdf5lib_1.8.0      iterators_1.0.12    tools_3.6.2        \n",
       "[58] ade4_1.7-13         Biobase_2.46.0      glue_1.3.1         \n",
       "[61] purrr_0.3.3         parallel_3.6.2      survival_3.1-8     \n",
       "[64] colorspace_1.4-1    rhdf5_2.30.0        cluster_2.1.0      \n",
       "[67] pbdZMQ_0.3-3       "
      ]
     },
     "metadata": {},
     "output_type": "display_data"
    }
   ],
   "source": [
    "sessionInfo()"
   ]
  },
  {
   "cell_type": "code",
   "execution_count": null,
   "metadata": {},
   "outputs": [],
   "source": []
  }
 ],
 "metadata": {
  "kernelspec": {
   "display_name": "R [conda env:Georg_animal_feces-phyloseq]",
   "language": "R",
   "name": "conda-env-Georg_animal_feces-phyloseq-r"
  },
  "language_info": {
   "codemirror_mode": "r",
   "file_extension": ".r",
   "mimetype": "text/x-r-source",
   "name": "R",
   "pygments_lexer": "r",
   "version": "3.6.3"
  },
  "notify_time": "30",
  "toc": {
   "base_numbering": 1,
   "nav_menu": {},
   "number_sections": true,
   "sideBar": true,
   "skip_h1_title": false,
   "title_cell": "Table of Contents",
   "title_sidebar": "Contents",
   "toc_cell": true,
   "toc_position": {
    "height": "calc(100% - 180px)",
    "left": "10px",
    "top": "150px",
    "width": "256px"
   },
   "toc_section_display": true,
   "toc_window_display": true
  }
 },
 "nbformat": 4,
 "nbformat_minor": 2
}
