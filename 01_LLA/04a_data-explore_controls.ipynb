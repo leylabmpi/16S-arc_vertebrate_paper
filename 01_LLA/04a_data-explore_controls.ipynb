{
 "cells": [
  {
   "cell_type": "markdown",
   "metadata": {
    "toc": true
   },
   "source": [
    "<h1>Table of Contents<span class=\"tocSkip\"></span></h1>\n",
    "<div class=\"toc\"><ul class=\"toc-item\"><li><span><a href=\"#Goal\" data-toc-modified-id=\"Goal-1\"><span class=\"toc-item-num\">1&nbsp;&nbsp;</span>Goal</a></span></li><li><span><a href=\"#Var\" data-toc-modified-id=\"Var-2\"><span class=\"toc-item-num\">2&nbsp;&nbsp;</span>Var</a></span></li><li><span><a href=\"#Init\" data-toc-modified-id=\"Init-3\"><span class=\"toc-item-num\">3&nbsp;&nbsp;</span>Init</a></span></li><li><span><a href=\"#Load\" data-toc-modified-id=\"Load-4\"><span class=\"toc-item-num\">4&nbsp;&nbsp;</span>Load</a></span></li><li><span><a href=\"#Totals\" data-toc-modified-id=\"Totals-5\"><span class=\"toc-item-num\">5&nbsp;&nbsp;</span>Totals</a></span></li><li><span><a href=\"#sessionInfo\" data-toc-modified-id=\"sessionInfo-6\"><span class=\"toc-item-num\">6&nbsp;&nbsp;</span>sessionInfo</a></span></li></ul></div>"
   ]
  },
  {
   "cell_type": "markdown",
   "metadata": {},
   "source": [
    "# Goal\n",
    "\n",
    "* Comparing neg + pos controls versus treatments"
   ]
  },
  {
   "cell_type": "markdown",
   "metadata": {},
   "source": [
    "# Var"
   ]
  },
  {
   "cell_type": "code",
   "execution_count": 102,
   "metadata": {
    "ExecuteTime": {
     "end_time": "2021-01-16T15:03:27.150191Z",
     "start_time": "2021-01-16T15:03:27.088Z"
    }
   },
   "outputs": [],
   "source": [
    "work_dir = '/ebio/abt3_projects/Georg_animal_feces/data/16S_arch/MiSeq-Runs-116-122-126-189-190/LLA/merged/phyloseq/'\n",
    "\n",
    "# all samples & taxa\n",
    "physeq_file = file.path(work_dir, 'physeq_all.rds')\n",
    "\n",
    "# params\n",
    "threads = 16"
   ]
  },
  {
   "cell_type": "markdown",
   "metadata": {},
   "source": [
    "# Init"
   ]
  },
  {
   "cell_type": "code",
   "execution_count": 103,
   "metadata": {
    "ExecuteTime": {
     "end_time": "2021-01-16T15:03:27.430406Z",
     "start_time": "2021-01-16T15:03:27.376Z"
    }
   },
   "outputs": [],
   "source": [
    "library(dtplyr)\n",
    "library(dplyr)\n",
    "library(tidyr)\n",
    "library(ggplot2)\n",
    "library(phyloseq)\n",
    "library(doParallel)\n",
    "library(LeyLabRMisc)"
   ]
  },
  {
   "cell_type": "code",
   "execution_count": 104,
   "metadata": {
    "ExecuteTime": {
     "end_time": "2021-01-16T15:03:27.537550Z",
     "start_time": "2021-01-16T15:03:27.501Z"
    }
   },
   "outputs": [],
   "source": [
    "df.dims()"
   ]
  },
  {
   "cell_type": "markdown",
   "metadata": {},
   "source": [
    "# Load"
   ]
  },
  {
   "cell_type": "code",
   "execution_count": 105,
   "metadata": {
    "ExecuteTime": {
     "end_time": "2021-01-16T15:03:30.654876Z",
     "start_time": "2021-01-16T15:03:29.000Z"
    }
   },
   "outputs": [
    {
     "data": {
      "text/plain": [
       "phyloseq-class experiment-level object\n",
       "otu_table()   OTU Table:         [ 79104 taxa and 301 samples ]\n",
       "sample_data() Sample Data:       [ 301 samples by 71 sample variables ]\n",
       "tax_table()   Taxonomy Table:    [ 79104 taxa by 7 taxonomic ranks ]\n",
       "phy_tree()    Phylogenetic Tree: [ 79104 tips and 78987 internal nodes ]"
      ]
     },
     "metadata": {},
     "output_type": "display_data"
    }
   ],
   "source": [
    "# phyloseq object\n",
    "physeq = readRDS(physeq_file)\n",
    "physeq"
   ]
  },
  {
   "cell_type": "code",
   "execution_count": 106,
   "metadata": {
    "ExecuteTime": {
     "end_time": "2021-01-16T15:03:40.865489Z",
     "start_time": "2021-01-16T15:03:35.585Z"
    }
   },
   "outputs": [
    {
     "data": {
      "text/html": [
       "<table>\n",
       "<caption>A tibble: 23810304 × 4</caption>\n",
       "<thead>\n",
       "\t<tr><th scope=col>OTU</th><th scope=col>Sample</th><th scope=col>Count</th><th scope=col>Perc_abund</th></tr>\n",
       "\t<tr><th scope=col>&lt;chr&gt;</th><th scope=col>&lt;chr&gt;</th><th scope=col>&lt;dbl&gt;</th><th scope=col>&lt;dbl&gt;</th></tr>\n",
       "</thead>\n",
       "<tbody>\n",
       "\t<tr><td>27056924d25a972043773840061213f9</td><td>F14_Common_Bream</td><td>0</td><td>0</td></tr>\n",
       "\t<tr><td>91783a64f15025a663fb7ca42b62aa27</td><td>F14_Common_Bream</td><td>0</td><td>0</td></tr>\n",
       "\t<tr><td>⋮</td><td>⋮</td><td>⋮</td><td>⋮</td></tr>\n",
       "\t<tr><td>499551aa042940d0668b0e44fe97517d</td><td>X98_Eurasian_Red_Squirrel</td><td>0</td><td>0</td></tr>\n",
       "\t<tr><td>b76690c467af807ee8f7ed9773f7ab40</td><td>X98_Eurasian_Red_Squirrel</td><td>0</td><td>0</td></tr>\n",
       "</tbody>\n",
       "</table>\n"
      ],
      "text/latex": [
       "A tibble: 23810304 × 4\n",
       "\\begin{tabular}{llll}\n",
       " OTU & Sample & Count & Perc\\_abund\\\\\n",
       " <chr> & <chr> & <dbl> & <dbl>\\\\\n",
       "\\hline\n",
       "\t 27056924d25a972043773840061213f9 & F14\\_Common\\_Bream & 0 & 0\\\\\n",
       "\t 91783a64f15025a663fb7ca42b62aa27 & F14\\_Common\\_Bream & 0 & 0\\\\\n",
       "\t ⋮ & ⋮ & ⋮ & ⋮\\\\\n",
       "\t 499551aa042940d0668b0e44fe97517d & X98\\_Eurasian\\_Red\\_Squirrel & 0 & 0\\\\\n",
       "\t b76690c467af807ee8f7ed9773f7ab40 & X98\\_Eurasian\\_Red\\_Squirrel & 0 & 0\\\\\n",
       "\\end{tabular}\n"
      ],
      "text/markdown": [
       "\n",
       "A tibble: 23810304 × 4\n",
       "\n",
       "| OTU &lt;chr&gt; | Sample &lt;chr&gt; | Count &lt;dbl&gt; | Perc_abund &lt;dbl&gt; |\n",
       "|---|---|---|---|\n",
       "| 27056924d25a972043773840061213f9 | F14_Common_Bream | 0 | 0 |\n",
       "| 91783a64f15025a663fb7ca42b62aa27 | F14_Common_Bream | 0 | 0 |\n",
       "| ⋮ | ⋮ | ⋮ | ⋮ |\n",
       "| 499551aa042940d0668b0e44fe97517d | X98_Eurasian_Red_Squirrel | 0 | 0 |\n",
       "| b76690c467af807ee8f7ed9773f7ab40 | X98_Eurasian_Red_Squirrel | 0 | 0 |\n",
       "\n"
      ],
      "text/plain": [
       "         OTU                              Sample                    Count\n",
       "1        27056924d25a972043773840061213f9 F14_Common_Bream          0    \n",
       "2        91783a64f15025a663fb7ca42b62aa27 F14_Common_Bream          0    \n",
       "⋮        ⋮                                ⋮                         ⋮    \n",
       "23810303 499551aa042940d0668b0e44fe97517d X98_Eurasian_Red_Squirrel 0    \n",
       "23810304 b76690c467af807ee8f7ed9773f7ab40 X98_Eurasian_Red_Squirrel 0    \n",
       "         Perc_abund\n",
       "1        0         \n",
       "2        0         \n",
       "⋮        ⋮         \n",
       "23810303 0         \n",
       "23810304 0         "
      ]
     },
     "metadata": {},
     "output_type": "display_data"
    }
   ],
   "source": [
    "# OTU table  \n",
    "otu = phyloseq2df(physeq, otu_table, long=TRUE) %>%\n",
    "    group_by(Sample) %>%\n",
    "    mutate(TOTAL_CNT = sum(Count)) %>%\n",
    "    ungroup() %>%\n",
    "    mutate(Perc_abund = Count / TOTAL_CNT * 100) %>%\n",
    "    dplyr::select(-TOTAL_CNT)\n",
    "otu "
   ]
  },
  {
   "cell_type": "code",
   "execution_count": 107,
   "metadata": {
    "ExecuteTime": {
     "end_time": "2021-01-16T15:03:40.926341Z",
     "start_time": "2021-01-16T15:03:37.929Z"
    }
   },
   "outputs": [
    {
     "data": {
      "text/html": [
       "<table>\n",
       "<caption>A tibble: 301 × 72</caption>\n",
       "<thead>\n",
       "\t<tr><th scope=col>SampleID</th><th scope=col>host_subject_id</th><th scope=col>host_german_name</th><th scope=col>host_common_name</th><th scope=col>scientific_name</th><th scope=col>scientific_name_subspecies</th><th scope=col>host_taxid</th><th scope=col>class</th><th scope=col>order</th><th scope=col>family</th><th scope=col>⋯</th><th scope=col>collection_date</th><th scope=col>season</th><th scope=col>samp_store_days</th><th scope=col>samp_collect_device</th><th scope=col>sampling_method</th><th scope=col>diet</th><th scope=col>feeding_style</th><th scope=col>digestive_system</th><th scope=col>digestive_system_detail</th><th scope=col>Sample</th></tr>\n",
       "\t<tr><th scope=col>&lt;chr&gt;</th><th scope=col>&lt;chr&gt;</th><th scope=col>&lt;chr&gt;</th><th scope=col>&lt;chr&gt;</th><th scope=col>&lt;chr&gt;</th><th scope=col>&lt;chr&gt;</th><th scope=col>&lt;chr&gt;</th><th scope=col>&lt;chr&gt;</th><th scope=col>&lt;chr&gt;</th><th scope=col>&lt;chr&gt;</th><th scope=col>⋯</th><th scope=col>&lt;chr&gt;</th><th scope=col>&lt;chr&gt;</th><th scope=col>&lt;chr&gt;</th><th scope=col>&lt;chr&gt;</th><th scope=col>&lt;chr&gt;</th><th scope=col>&lt;chr&gt;</th><th scope=col>&lt;chr&gt;</th><th scope=col>&lt;chr&gt;</th><th scope=col>&lt;chr&gt;</th><th scope=col>&lt;chr&gt;</th></tr>\n",
       "</thead>\n",
       "<tbody>\n",
       "\t<tr><td>F14_Common_Bream</td><td>F14</td><td>Brachse  </td><td>Common.Bream</td><td>Abramis_brama </td><td>NA</td><td>38527</td><td>Actinopterygii</td><td>Cypriniformes</td><td>Cyprinidae</td><td>⋯</td><td>2010-08-10</td><td>summer</td><td>317</td><td>Greiner Polypropylene Tube 50ml          </td><td>feces sampling</td><td>omnivore </td><td>NA               </td><td>simple </td><td>simple </td><td>F14_Common_Bream</td></tr>\n",
       "\t<tr><td>F35_Red_Deer    </td><td>F35</td><td>Rothirsch</td><td>Red.Deer    </td><td>Cervus_elaphus</td><td>NA</td><td>9860 </td><td>Mammalia      </td><td>Artiodactyla </td><td>Cervidae  </td><td>⋯</td><td>2010-09-29</td><td>autumn</td><td>229</td><td>Greiner Polystyrene 30ml Faeces Container</td><td>feces sampling</td><td>herbivore</td><td>intermediate type</td><td>foregut</td><td>foregut</td><td>F35_Red_Deer    </td></tr>\n",
       "\t<tr><td>⋮</td><td>⋮</td><td>⋮</td><td>⋮</td><td>⋮</td><td>⋮</td><td>⋮</td><td>⋮</td><td>⋮</td><td>⋮</td><td>⋱</td><td>⋮</td><td>⋮</td><td>⋮</td><td>⋮</td><td>⋮</td><td>⋮</td><td>⋮</td><td>⋮</td><td>⋮</td><td>⋮</td></tr>\n",
       "\t<tr><td>X67_European_Roe         </td><td>67</td><td>Reh          </td><td>European.Roe         </td><td>Capreolus_capreolus</td><td>NA</td><td>9858 </td><td>Mammalia</td><td>Artiodactyla</td><td>Cervidae </td><td>⋯</td><td>2011-10-31</td><td>autumn</td><td>#VALUE!</td><td>Screw cap vial</td><td>feces sampling</td><td>herbivore</td><td>concentrate selector</td><td>foregut       </td><td>foregut</td><td>X67_European_Roe         </td></tr>\n",
       "\t<tr><td>X98_Eurasian_Red_Squirrel</td><td>98</td><td>Eichhoernchen</td><td>Eurasian.Red.Squirrel</td><td>Sciurus_vulgaris   </td><td>NA</td><td>55149</td><td>Mammalia</td><td>Rodentia    </td><td>Sciuridae</td><td>⋯</td><td>2011-11-03</td><td>autumn</td><td>#VALUE!</td><td>Screw cap vial</td><td>gut section   </td><td>omnivore </td><td>NA                  </td><td>simple hindgut</td><td>caecum </td><td>X98_Eurasian_Red_Squirrel</td></tr>\n",
       "</tbody>\n",
       "</table>\n"
      ],
      "text/latex": [
       "A tibble: 301 × 72\n",
       "\\begin{tabular}{lllllllllllllllllllll}\n",
       " SampleID & host\\_subject\\_id & host\\_german\\_name & host\\_common\\_name & scientific\\_name & scientific\\_name\\_subspecies & host\\_taxid & class & order & family & ⋯ & collection\\_date & season & samp\\_store\\_days & samp\\_collect\\_device & sampling\\_method & diet & feeding\\_style & digestive\\_system & digestive\\_system\\_detail & Sample\\\\\n",
       " <chr> & <chr> & <chr> & <chr> & <chr> & <chr> & <chr> & <chr> & <chr> & <chr> & ⋯ & <chr> & <chr> & <chr> & <chr> & <chr> & <chr> & <chr> & <chr> & <chr> & <chr>\\\\\n",
       "\\hline\n",
       "\t F14\\_Common\\_Bream & F14 & Brachse   & Common.Bream & Abramis\\_brama  & NA & 38527 & Actinopterygii & Cypriniformes & Cyprinidae & ⋯ & 2010-08-10 & summer & 317 & Greiner Polypropylene Tube 50ml           & feces sampling & omnivore  & NA                & simple  & simple  & F14\\_Common\\_Bream\\\\\n",
       "\t F35\\_Red\\_Deer     & F35 & Rothirsch & Red.Deer     & Cervus\\_elaphus & NA & 9860  & Mammalia       & Artiodactyla  & Cervidae   & ⋯ & 2010-09-29 & autumn & 229 & Greiner Polystyrene 30ml Faeces Container & feces sampling & herbivore & intermediate type & foregut & foregut & F35\\_Red\\_Deer    \\\\\n",
       "\t ⋮ & ⋮ & ⋮ & ⋮ & ⋮ & ⋮ & ⋮ & ⋮ & ⋮ & ⋮ & ⋱ & ⋮ & ⋮ & ⋮ & ⋮ & ⋮ & ⋮ & ⋮ & ⋮ & ⋮ & ⋮\\\\\n",
       "\t X67\\_European\\_Roe          & 67 & Reh           & European.Roe          & Capreolus\\_capreolus & NA & 9858  & Mammalia & Artiodactyla & Cervidae  & ⋯ & 2011-10-31 & autumn & \\#VALUE! & Screw cap vial & feces sampling & herbivore & concentrate selector & foregut        & foregut & X67\\_European\\_Roe         \\\\\n",
       "\t X98\\_Eurasian\\_Red\\_Squirrel & 98 & Eichhoernchen & Eurasian.Red.Squirrel & Sciurus\\_vulgaris    & NA & 55149 & Mammalia & Rodentia     & Sciuridae & ⋯ & 2011-11-03 & autumn & \\#VALUE! & Screw cap vial & gut section    & omnivore  & NA                   & simple hindgut & caecum  & X98\\_Eurasian\\_Red\\_Squirrel\\\\\n",
       "\\end{tabular}\n"
      ],
      "text/markdown": [
       "\n",
       "A tibble: 301 × 72\n",
       "\n",
       "| SampleID &lt;chr&gt; | host_subject_id &lt;chr&gt; | host_german_name &lt;chr&gt; | host_common_name &lt;chr&gt; | scientific_name &lt;chr&gt; | scientific_name_subspecies &lt;chr&gt; | host_taxid &lt;chr&gt; | class &lt;chr&gt; | order &lt;chr&gt; | family &lt;chr&gt; | ⋯ ⋯ | collection_date &lt;chr&gt; | season &lt;chr&gt; | samp_store_days &lt;chr&gt; | samp_collect_device &lt;chr&gt; | sampling_method &lt;chr&gt; | diet &lt;chr&gt; | feeding_style &lt;chr&gt; | digestive_system &lt;chr&gt; | digestive_system_detail &lt;chr&gt; | Sample &lt;chr&gt; |\n",
       "|---|---|---|---|---|---|---|---|---|---|---|---|---|---|---|---|---|---|---|---|---|\n",
       "| F14_Common_Bream | F14 | Brachse   | Common.Bream | Abramis_brama  | NA | 38527 | Actinopterygii | Cypriniformes | Cyprinidae | ⋯ | 2010-08-10 | summer | 317 | Greiner Polypropylene Tube 50ml           | feces sampling | omnivore  | NA                | simple  | simple  | F14_Common_Bream |\n",
       "| F35_Red_Deer     | F35 | Rothirsch | Red.Deer     | Cervus_elaphus | NA | 9860  | Mammalia       | Artiodactyla  | Cervidae   | ⋯ | 2010-09-29 | autumn | 229 | Greiner Polystyrene 30ml Faeces Container | feces sampling | herbivore | intermediate type | foregut | foregut | F35_Red_Deer     |\n",
       "| ⋮ | ⋮ | ⋮ | ⋮ | ⋮ | ⋮ | ⋮ | ⋮ | ⋮ | ⋮ | ⋱ | ⋮ | ⋮ | ⋮ | ⋮ | ⋮ | ⋮ | ⋮ | ⋮ | ⋮ | ⋮ |\n",
       "| X67_European_Roe          | 67 | Reh           | European.Roe          | Capreolus_capreolus | NA | 9858  | Mammalia | Artiodactyla | Cervidae  | ⋯ | 2011-10-31 | autumn | #VALUE! | Screw cap vial | feces sampling | herbivore | concentrate selector | foregut        | foregut | X67_European_Roe          |\n",
       "| X98_Eurasian_Red_Squirrel | 98 | Eichhoernchen | Eurasian.Red.Squirrel | Sciurus_vulgaris    | NA | 55149 | Mammalia | Rodentia     | Sciuridae | ⋯ | 2011-11-03 | autumn | #VALUE! | Screw cap vial | gut section    | omnivore  | NA                   | simple hindgut | caecum  | X98_Eurasian_Red_Squirrel |\n",
       "\n"
      ],
      "text/plain": [
       "    SampleID                  host_subject_id host_german_name\n",
       "1   F14_Common_Bream          F14             Brachse         \n",
       "2   F35_Red_Deer              F35             Rothirsch       \n",
       "⋮   ⋮                         ⋮               ⋮               \n",
       "300 X67_European_Roe          67              Reh             \n",
       "301 X98_Eurasian_Red_Squirrel 98              Eichhoernchen   \n",
       "    host_common_name      scientific_name     scientific_name_subspecies\n",
       "1   Common.Bream          Abramis_brama       NA                        \n",
       "2   Red.Deer              Cervus_elaphus      NA                        \n",
       "⋮   ⋮                     ⋮                   ⋮                         \n",
       "300 European.Roe          Capreolus_capreolus NA                        \n",
       "301 Eurasian.Red.Squirrel Sciurus_vulgaris    NA                        \n",
       "    host_taxid class          order         family     ⋯ collection_date season\n",
       "1   38527      Actinopterygii Cypriniformes Cyprinidae ⋯ 2010-08-10      summer\n",
       "2   9860       Mammalia       Artiodactyla  Cervidae   ⋯ 2010-09-29      autumn\n",
       "⋮   ⋮          ⋮              ⋮             ⋮          ⋱ ⋮               ⋮     \n",
       "300 9858       Mammalia       Artiodactyla  Cervidae   ⋯ 2011-10-31      autumn\n",
       "301 55149      Mammalia       Rodentia      Sciuridae  ⋯ 2011-11-03      autumn\n",
       "    samp_store_days samp_collect_device                       sampling_method\n",
       "1   317             Greiner Polypropylene Tube 50ml           feces sampling \n",
       "2   229             Greiner Polystyrene 30ml Faeces Container feces sampling \n",
       "⋮   ⋮               ⋮                                         ⋮              \n",
       "300 #VALUE!         Screw cap vial                            feces sampling \n",
       "301 #VALUE!         Screw cap vial                            gut section    \n",
       "    diet      feeding_style        digestive_system digestive_system_detail\n",
       "1   omnivore  NA                   simple           simple                 \n",
       "2   herbivore intermediate type    foregut          foregut                \n",
       "⋮   ⋮         ⋮                    ⋮                ⋮                      \n",
       "300 herbivore concentrate selector foregut          foregut                \n",
       "301 omnivore  NA                   simple hindgut   caecum                 \n",
       "    Sample                   \n",
       "1   F14_Common_Bream         \n",
       "2   F35_Red_Deer             \n",
       "⋮   ⋮                        \n",
       "300 X67_European_Roe         \n",
       "301 X98_Eurasian_Red_Squirrel"
      ]
     },
     "metadata": {},
     "output_type": "display_data"
    }
   ],
   "source": [
    "# metadata\n",
    "meta = phyloseq2df(physeq, sample_data) \n",
    "meta"
   ]
  },
  {
   "cell_type": "code",
   "execution_count": 108,
   "metadata": {
    "ExecuteTime": {
     "end_time": "2021-01-16T15:03:40.975848Z",
     "start_time": "2021-01-16T15:03:38.439Z"
    }
   },
   "outputs": [
    {
     "data": {
      "text/html": [
       "<table>\n",
       "<caption>A tibble: 301 × 9</caption>\n",
       "<thead>\n",
       "\t<tr><th scope=col>SampleID</th><th scope=col>host_common_name</th><th scope=col>scientific_name</th><th scope=col>class</th><th scope=col>order</th><th scope=col>family</th><th scope=col>genus</th><th scope=col>diet</th><th scope=col>habitat</th></tr>\n",
       "\t<tr><th scope=col>&lt;chr&gt;</th><th scope=col>&lt;chr&gt;</th><th scope=col>&lt;chr&gt;</th><th scope=col>&lt;chr&gt;</th><th scope=col>&lt;chr&gt;</th><th scope=col>&lt;chr&gt;</th><th scope=col>&lt;chr&gt;</th><th scope=col>&lt;chr&gt;</th><th scope=col>&lt;chr&gt;</th></tr>\n",
       "</thead>\n",
       "<tbody>\n",
       "\t<tr><td>F14_Common_Bream</td><td>Common.Bream</td><td>Abramis_brama </td><td>Actinopterygii</td><td>Cypriniformes</td><td>Cyprinidae</td><td>Abramis</td><td>omnivore </td><td>aquatic habitat    </td></tr>\n",
       "\t<tr><td>F35_Red_Deer    </td><td>Red.Deer    </td><td>Cervus_elaphus</td><td>Mammalia      </td><td>Artiodactyla </td><td>Cervidae  </td><td>Cervus </td><td>herbivore</td><td>terrestrial habitat</td></tr>\n",
       "\t<tr><td>⋮</td><td>⋮</td><td>⋮</td><td>⋮</td><td>⋮</td><td>⋮</td><td>⋮</td><td>⋮</td><td>⋮</td></tr>\n",
       "\t<tr><td>X67_European_Roe         </td><td>European.Roe         </td><td>Capreolus_capreolus</td><td>Mammalia</td><td>Artiodactyla</td><td>Cervidae </td><td>Capreolus</td><td>herbivore</td><td>terrestrial habitat</td></tr>\n",
       "\t<tr><td>X98_Eurasian_Red_Squirrel</td><td>Eurasian.Red.Squirrel</td><td>Sciurus_vulgaris   </td><td>Mammalia</td><td>Rodentia    </td><td>Sciuridae</td><td>Sciurus  </td><td>omnivore </td><td>terrestrial habitat</td></tr>\n",
       "</tbody>\n",
       "</table>\n"
      ],
      "text/latex": [
       "A tibble: 301 × 9\n",
       "\\begin{tabular}{lllllllll}\n",
       " SampleID & host\\_common\\_name & scientific\\_name & class & order & family & genus & diet & habitat\\\\\n",
       " <chr> & <chr> & <chr> & <chr> & <chr> & <chr> & <chr> & <chr> & <chr>\\\\\n",
       "\\hline\n",
       "\t F14\\_Common\\_Bream & Common.Bream & Abramis\\_brama  & Actinopterygii & Cypriniformes & Cyprinidae & Abramis & omnivore  & aquatic habitat    \\\\\n",
       "\t F35\\_Red\\_Deer     & Red.Deer     & Cervus\\_elaphus & Mammalia       & Artiodactyla  & Cervidae   & Cervus  & herbivore & terrestrial habitat\\\\\n",
       "\t ⋮ & ⋮ & ⋮ & ⋮ & ⋮ & ⋮ & ⋮ & ⋮ & ⋮\\\\\n",
       "\t X67\\_European\\_Roe          & European.Roe          & Capreolus\\_capreolus & Mammalia & Artiodactyla & Cervidae  & Capreolus & herbivore & terrestrial habitat\\\\\n",
       "\t X98\\_Eurasian\\_Red\\_Squirrel & Eurasian.Red.Squirrel & Sciurus\\_vulgaris    & Mammalia & Rodentia     & Sciuridae & Sciurus   & omnivore  & terrestrial habitat\\\\\n",
       "\\end{tabular}\n"
      ],
      "text/markdown": [
       "\n",
       "A tibble: 301 × 9\n",
       "\n",
       "| SampleID &lt;chr&gt; | host_common_name &lt;chr&gt; | scientific_name &lt;chr&gt; | class &lt;chr&gt; | order &lt;chr&gt; | family &lt;chr&gt; | genus &lt;chr&gt; | diet &lt;chr&gt; | habitat &lt;chr&gt; |\n",
       "|---|---|---|---|---|---|---|---|---|\n",
       "| F14_Common_Bream | Common.Bream | Abramis_brama  | Actinopterygii | Cypriniformes | Cyprinidae | Abramis | omnivore  | aquatic habitat     |\n",
       "| F35_Red_Deer     | Red.Deer     | Cervus_elaphus | Mammalia       | Artiodactyla  | Cervidae   | Cervus  | herbivore | terrestrial habitat |\n",
       "| ⋮ | ⋮ | ⋮ | ⋮ | ⋮ | ⋮ | ⋮ | ⋮ | ⋮ |\n",
       "| X67_European_Roe          | European.Roe          | Capreolus_capreolus | Mammalia | Artiodactyla | Cervidae  | Capreolus | herbivore | terrestrial habitat |\n",
       "| X98_Eurasian_Red_Squirrel | Eurasian.Red.Squirrel | Sciurus_vulgaris    | Mammalia | Rodentia     | Sciuridae | Sciurus   | omnivore  | terrestrial habitat |\n",
       "\n"
      ],
      "text/plain": [
       "    SampleID                  host_common_name      scientific_name    \n",
       "1   F14_Common_Bream          Common.Bream          Abramis_brama      \n",
       "2   F35_Red_Deer              Red.Deer              Cervus_elaphus     \n",
       "⋮   ⋮                         ⋮                     ⋮                  \n",
       "300 X67_European_Roe          European.Roe          Capreolus_capreolus\n",
       "301 X98_Eurasian_Red_Squirrel Eurasian.Red.Squirrel Sciurus_vulgaris   \n",
       "    class          order         family     genus     diet     \n",
       "1   Actinopterygii Cypriniformes Cyprinidae Abramis   omnivore \n",
       "2   Mammalia       Artiodactyla  Cervidae   Cervus    herbivore\n",
       "⋮   ⋮              ⋮             ⋮          ⋮         ⋮        \n",
       "300 Mammalia       Artiodactyla  Cervidae   Capreolus herbivore\n",
       "301 Mammalia       Rodentia      Sciuridae  Sciurus   omnivore \n",
       "    habitat            \n",
       "1   aquatic habitat    \n",
       "2   terrestrial habitat\n",
       "⋮   ⋮                  \n",
       "300 terrestrial habitat\n",
       "301 terrestrial habitat"
      ]
     },
     "metadata": {},
     "output_type": "display_data"
    }
   ],
   "source": [
    "# filtering metadata \n",
    "meta_f = meta %>%\n",
    "    dplyr::select(SampleID, host_common_name, scientific_name, \n",
    "                  class, order, family, genus, diet, habitat) %>%\n",
    "    mutate(class = class %>% as.character,\n",
    "           class = ifelse(grepl('Indian.Gazelle', SampleID), 'Mammalia', class))\n",
    "meta_f"
   ]
  },
  {
   "cell_type": "code",
   "execution_count": 109,
   "metadata": {
    "ExecuteTime": {
     "end_time": "2021-01-16T15:03:44.939141Z",
     "start_time": "2021-01-16T15:03:44.786Z"
    }
   },
   "outputs": [
    {
     "data": {
      "text/html": [
       "<table>\n",
       "<caption>A tibble: 79104 × 8</caption>\n",
       "<thead>\n",
       "\t<tr><th scope=col>Domain</th><th scope=col>Phylum</th><th scope=col>Class</th><th scope=col>Order</th><th scope=col>Family</th><th scope=col>Genus</th><th scope=col>Species</th><th scope=col>OTU</th></tr>\n",
       "\t<tr><th scope=col>&lt;chr&gt;</th><th scope=col>&lt;chr&gt;</th><th scope=col>&lt;chr&gt;</th><th scope=col>&lt;chr&gt;</th><th scope=col>&lt;chr&gt;</th><th scope=col>&lt;chr&gt;</th><th scope=col>&lt;chr&gt;</th><th scope=col>&lt;chr&gt;</th></tr>\n",
       "</thead>\n",
       "<tbody>\n",
       "\t<tr><td>Bacteria</td><td>Proteobacteria</td><td>Gammaproteobacteria</td><td>unclassified</td><td>unclassified</td><td>unclassified</td><td>unclassified</td><td>27056924d25a972043773840061213f9</td></tr>\n",
       "\t<tr><td>Bacteria</td><td>Proteobacteria</td><td>Gammaproteobacteria</td><td>unclassified</td><td>unclassified</td><td>unclassified</td><td>unclassified</td><td>91783a64f15025a663fb7ca42b62aa27</td></tr>\n",
       "\t<tr><td>⋮</td><td>⋮</td><td>⋮</td><td>⋮</td><td>⋮</td><td>⋮</td><td>⋮</td><td>⋮</td></tr>\n",
       "\t<tr><td>Bacteria</td><td>Firmicutes</td><td>Clostridia</td><td>Clostridiales</td><td>Lachnospiraceae</td><td>unclassified</td><td>unclassified</td><td>499551aa042940d0668b0e44fe97517d</td></tr>\n",
       "\t<tr><td>Bacteria</td><td>Firmicutes</td><td>Clostridia</td><td>Clostridiales</td><td>Lachnospiraceae</td><td>unclassified</td><td>unclassified</td><td>b76690c467af807ee8f7ed9773f7ab40</td></tr>\n",
       "</tbody>\n",
       "</table>\n"
      ],
      "text/latex": [
       "A tibble: 79104 × 8\n",
       "\\begin{tabular}{llllllll}\n",
       " Domain & Phylum & Class & Order & Family & Genus & Species & OTU\\\\\n",
       " <chr> & <chr> & <chr> & <chr> & <chr> & <chr> & <chr> & <chr>\\\\\n",
       "\\hline\n",
       "\t Bacteria & Proteobacteria & Gammaproteobacteria & unclassified & unclassified & unclassified & unclassified & 27056924d25a972043773840061213f9\\\\\n",
       "\t Bacteria & Proteobacteria & Gammaproteobacteria & unclassified & unclassified & unclassified & unclassified & 91783a64f15025a663fb7ca42b62aa27\\\\\n",
       "\t ⋮ & ⋮ & ⋮ & ⋮ & ⋮ & ⋮ & ⋮ & ⋮\\\\\n",
       "\t Bacteria & Firmicutes & Clostridia & Clostridiales & Lachnospiraceae & unclassified & unclassified & 499551aa042940d0668b0e44fe97517d\\\\\n",
       "\t Bacteria & Firmicutes & Clostridia & Clostridiales & Lachnospiraceae & unclassified & unclassified & b76690c467af807ee8f7ed9773f7ab40\\\\\n",
       "\\end{tabular}\n"
      ],
      "text/markdown": [
       "\n",
       "A tibble: 79104 × 8\n",
       "\n",
       "| Domain &lt;chr&gt; | Phylum &lt;chr&gt; | Class &lt;chr&gt; | Order &lt;chr&gt; | Family &lt;chr&gt; | Genus &lt;chr&gt; | Species &lt;chr&gt; | OTU &lt;chr&gt; |\n",
       "|---|---|---|---|---|---|---|---|\n",
       "| Bacteria | Proteobacteria | Gammaproteobacteria | unclassified | unclassified | unclassified | unclassified | 27056924d25a972043773840061213f9 |\n",
       "| Bacteria | Proteobacteria | Gammaproteobacteria | unclassified | unclassified | unclassified | unclassified | 91783a64f15025a663fb7ca42b62aa27 |\n",
       "| ⋮ | ⋮ | ⋮ | ⋮ | ⋮ | ⋮ | ⋮ | ⋮ |\n",
       "| Bacteria | Firmicutes | Clostridia | Clostridiales | Lachnospiraceae | unclassified | unclassified | 499551aa042940d0668b0e44fe97517d |\n",
       "| Bacteria | Firmicutes | Clostridia | Clostridiales | Lachnospiraceae | unclassified | unclassified | b76690c467af807ee8f7ed9773f7ab40 |\n",
       "\n"
      ],
      "text/plain": [
       "      Domain   Phylum         Class               Order         Family         \n",
       "1     Bacteria Proteobacteria Gammaproteobacteria unclassified  unclassified   \n",
       "2     Bacteria Proteobacteria Gammaproteobacteria unclassified  unclassified   \n",
       "⋮     ⋮        ⋮              ⋮                   ⋮             ⋮              \n",
       "79103 Bacteria Firmicutes     Clostridia          Clostridiales Lachnospiraceae\n",
       "79104 Bacteria Firmicutes     Clostridia          Clostridiales Lachnospiraceae\n",
       "      Genus        Species      OTU                             \n",
       "1     unclassified unclassified 27056924d25a972043773840061213f9\n",
       "2     unclassified unclassified 91783a64f15025a663fb7ca42b62aa27\n",
       "⋮     ⋮            ⋮            ⋮                               \n",
       "79103 unclassified unclassified 499551aa042940d0668b0e44fe97517d\n",
       "79104 unclassified unclassified b76690c467af807ee8f7ed9773f7ab40"
      ]
     },
     "metadata": {},
     "output_type": "display_data"
    }
   ],
   "source": [
    "# taxonomy\n",
    "tax = phyloseq2df(physeq, tax_table)\n",
    "tax"
   ]
  },
  {
   "cell_type": "markdown",
   "metadata": {},
   "source": [
    "# Totals"
   ]
  },
  {
   "cell_type": "code",
   "execution_count": 110,
   "metadata": {
    "ExecuteTime": {
     "end_time": "2021-01-16T15:04:27.382898Z",
     "start_time": "2021-01-16T15:03:48.081Z"
    }
   },
   "outputs": [
    {
     "data": {
      "text/html": [
       "<table>\n",
       "<caption>A tibble: 23810304 × 20</caption>\n",
       "<thead>\n",
       "\t<tr><th scope=col>SampleID</th><th scope=col>host_common_name</th><th scope=col>scientific_name</th><th scope=col>class</th><th scope=col>order</th><th scope=col>family</th><th scope=col>genus</th><th scope=col>diet</th><th scope=col>habitat</th><th scope=col>OTU</th><th scope=col>Count</th><th scope=col>Perc_abund</th><th scope=col>Domain</th><th scope=col>Phylum</th><th scope=col>Class</th><th scope=col>Order</th><th scope=col>Family</th><th scope=col>Genus</th><th scope=col>Species</th><th scope=col>NGS_control</th></tr>\n",
       "\t<tr><th scope=col>&lt;chr&gt;</th><th scope=col>&lt;chr&gt;</th><th scope=col>&lt;chr&gt;</th><th scope=col>&lt;chr&gt;</th><th scope=col>&lt;chr&gt;</th><th scope=col>&lt;chr&gt;</th><th scope=col>&lt;chr&gt;</th><th scope=col>&lt;chr&gt;</th><th scope=col>&lt;chr&gt;</th><th scope=col>&lt;chr&gt;</th><th scope=col>&lt;dbl&gt;</th><th scope=col>&lt;dbl&gt;</th><th scope=col>&lt;chr&gt;</th><th scope=col>&lt;chr&gt;</th><th scope=col>&lt;chr&gt;</th><th scope=col>&lt;chr&gt;</th><th scope=col>&lt;chr&gt;</th><th scope=col>&lt;chr&gt;</th><th scope=col>&lt;chr&gt;</th><th scope=col>&lt;chr&gt;</th></tr>\n",
       "</thead>\n",
       "<tbody>\n",
       "\t<tr><td>F14_Common_Bream</td><td>Common.Bream</td><td>Abramis_brama</td><td>Actinopterygii</td><td>Cypriniformes</td><td>Cyprinidae</td><td>Abramis</td><td>omnivore</td><td>aquatic habitat</td><td>27056924d25a972043773840061213f9</td><td>0</td><td>0</td><td>Bacteria</td><td>Proteobacteria</td><td>Gammaproteobacteria</td><td>unclassified</td><td>unclassified</td><td>unclassified</td><td>unclassified</td><td>Actinopterygii</td></tr>\n",
       "\t<tr><td>F14_Common_Bream</td><td>Common.Bream</td><td>Abramis_brama</td><td>Actinopterygii</td><td>Cypriniformes</td><td>Cyprinidae</td><td>Abramis</td><td>omnivore</td><td>aquatic habitat</td><td>91783a64f15025a663fb7ca42b62aa27</td><td>0</td><td>0</td><td>Bacteria</td><td>Proteobacteria</td><td>Gammaproteobacteria</td><td>unclassified</td><td>unclassified</td><td>unclassified</td><td>unclassified</td><td>Actinopterygii</td></tr>\n",
       "\t<tr><td>⋮</td><td>⋮</td><td>⋮</td><td>⋮</td><td>⋮</td><td>⋮</td><td>⋮</td><td>⋮</td><td>⋮</td><td>⋮</td><td>⋮</td><td>⋮</td><td>⋮</td><td>⋮</td><td>⋮</td><td>⋮</td><td>⋮</td><td>⋮</td><td>⋮</td><td>⋮</td></tr>\n",
       "\t<tr><td>X98_Eurasian_Red_Squirrel</td><td>Eurasian.Red.Squirrel</td><td>Sciurus_vulgaris</td><td>Mammalia</td><td>Rodentia</td><td>Sciuridae</td><td>Sciurus</td><td>omnivore</td><td>terrestrial habitat</td><td>499551aa042940d0668b0e44fe97517d</td><td>0</td><td>0</td><td>Bacteria</td><td>Firmicutes</td><td>Clostridia</td><td>Clostridiales</td><td>Lachnospiraceae</td><td>unclassified</td><td>unclassified</td><td>Mammalia</td></tr>\n",
       "\t<tr><td>X98_Eurasian_Red_Squirrel</td><td>Eurasian.Red.Squirrel</td><td>Sciurus_vulgaris</td><td>Mammalia</td><td>Rodentia</td><td>Sciuridae</td><td>Sciurus</td><td>omnivore</td><td>terrestrial habitat</td><td>b76690c467af807ee8f7ed9773f7ab40</td><td>0</td><td>0</td><td>Bacteria</td><td>Firmicutes</td><td>Clostridia</td><td>Clostridiales</td><td>Lachnospiraceae</td><td>unclassified</td><td>unclassified</td><td>Mammalia</td></tr>\n",
       "</tbody>\n",
       "</table>\n"
      ],
      "text/latex": [
       "A tibble: 23810304 × 20\n",
       "\\begin{tabular}{llllllllllllllllllll}\n",
       " SampleID & host\\_common\\_name & scientific\\_name & class & order & family & genus & diet & habitat & OTU & Count & Perc\\_abund & Domain & Phylum & Class & Order & Family & Genus & Species & NGS\\_control\\\\\n",
       " <chr> & <chr> & <chr> & <chr> & <chr> & <chr> & <chr> & <chr> & <chr> & <chr> & <dbl> & <dbl> & <chr> & <chr> & <chr> & <chr> & <chr> & <chr> & <chr> & <chr>\\\\\n",
       "\\hline\n",
       "\t F14\\_Common\\_Bream & Common.Bream & Abramis\\_brama & Actinopterygii & Cypriniformes & Cyprinidae & Abramis & omnivore & aquatic habitat & 27056924d25a972043773840061213f9 & 0 & 0 & Bacteria & Proteobacteria & Gammaproteobacteria & unclassified & unclassified & unclassified & unclassified & Actinopterygii\\\\\n",
       "\t F14\\_Common\\_Bream & Common.Bream & Abramis\\_brama & Actinopterygii & Cypriniformes & Cyprinidae & Abramis & omnivore & aquatic habitat & 91783a64f15025a663fb7ca42b62aa27 & 0 & 0 & Bacteria & Proteobacteria & Gammaproteobacteria & unclassified & unclassified & unclassified & unclassified & Actinopterygii\\\\\n",
       "\t ⋮ & ⋮ & ⋮ & ⋮ & ⋮ & ⋮ & ⋮ & ⋮ & ⋮ & ⋮ & ⋮ & ⋮ & ⋮ & ⋮ & ⋮ & ⋮ & ⋮ & ⋮ & ⋮ & ⋮\\\\\n",
       "\t X98\\_Eurasian\\_Red\\_Squirrel & Eurasian.Red.Squirrel & Sciurus\\_vulgaris & Mammalia & Rodentia & Sciuridae & Sciurus & omnivore & terrestrial habitat & 499551aa042940d0668b0e44fe97517d & 0 & 0 & Bacteria & Firmicutes & Clostridia & Clostridiales & Lachnospiraceae & unclassified & unclassified & Mammalia\\\\\n",
       "\t X98\\_Eurasian\\_Red\\_Squirrel & Eurasian.Red.Squirrel & Sciurus\\_vulgaris & Mammalia & Rodentia & Sciuridae & Sciurus & omnivore & terrestrial habitat & b76690c467af807ee8f7ed9773f7ab40 & 0 & 0 & Bacteria & Firmicutes & Clostridia & Clostridiales & Lachnospiraceae & unclassified & unclassified & Mammalia\\\\\n",
       "\\end{tabular}\n"
      ],
      "text/markdown": [
       "\n",
       "A tibble: 23810304 × 20\n",
       "\n",
       "| SampleID &lt;chr&gt; | host_common_name &lt;chr&gt; | scientific_name &lt;chr&gt; | class &lt;chr&gt; | order &lt;chr&gt; | family &lt;chr&gt; | genus &lt;chr&gt; | diet &lt;chr&gt; | habitat &lt;chr&gt; | OTU &lt;chr&gt; | Count &lt;dbl&gt; | Perc_abund &lt;dbl&gt; | Domain &lt;chr&gt; | Phylum &lt;chr&gt; | Class &lt;chr&gt; | Order &lt;chr&gt; | Family &lt;chr&gt; | Genus &lt;chr&gt; | Species &lt;chr&gt; | NGS_control &lt;chr&gt; |\n",
       "|---|---|---|---|---|---|---|---|---|---|---|---|---|---|---|---|---|---|---|---|\n",
       "| F14_Common_Bream | Common.Bream | Abramis_brama | Actinopterygii | Cypriniformes | Cyprinidae | Abramis | omnivore | aquatic habitat | 27056924d25a972043773840061213f9 | 0 | 0 | Bacteria | Proteobacteria | Gammaproteobacteria | unclassified | unclassified | unclassified | unclassified | Actinopterygii |\n",
       "| F14_Common_Bream | Common.Bream | Abramis_brama | Actinopterygii | Cypriniformes | Cyprinidae | Abramis | omnivore | aquatic habitat | 91783a64f15025a663fb7ca42b62aa27 | 0 | 0 | Bacteria | Proteobacteria | Gammaproteobacteria | unclassified | unclassified | unclassified | unclassified | Actinopterygii |\n",
       "| ⋮ | ⋮ | ⋮ | ⋮ | ⋮ | ⋮ | ⋮ | ⋮ | ⋮ | ⋮ | ⋮ | ⋮ | ⋮ | ⋮ | ⋮ | ⋮ | ⋮ | ⋮ | ⋮ | ⋮ |\n",
       "| X98_Eurasian_Red_Squirrel | Eurasian.Red.Squirrel | Sciurus_vulgaris | Mammalia | Rodentia | Sciuridae | Sciurus | omnivore | terrestrial habitat | 499551aa042940d0668b0e44fe97517d | 0 | 0 | Bacteria | Firmicutes | Clostridia | Clostridiales | Lachnospiraceae | unclassified | unclassified | Mammalia |\n",
       "| X98_Eurasian_Red_Squirrel | Eurasian.Red.Squirrel | Sciurus_vulgaris | Mammalia | Rodentia | Sciuridae | Sciurus | omnivore | terrestrial habitat | b76690c467af807ee8f7ed9773f7ab40 | 0 | 0 | Bacteria | Firmicutes | Clostridia | Clostridiales | Lachnospiraceae | unclassified | unclassified | Mammalia |\n",
       "\n"
      ],
      "text/plain": [
       "         SampleID                  host_common_name      scientific_name \n",
       "1        F14_Common_Bream          Common.Bream          Abramis_brama   \n",
       "2        F14_Common_Bream          Common.Bream          Abramis_brama   \n",
       "⋮        ⋮                         ⋮                     ⋮               \n",
       "23810303 X98_Eurasian_Red_Squirrel Eurasian.Red.Squirrel Sciurus_vulgaris\n",
       "23810304 X98_Eurasian_Red_Squirrel Eurasian.Red.Squirrel Sciurus_vulgaris\n",
       "         class          order         family     genus   diet    \n",
       "1        Actinopterygii Cypriniformes Cyprinidae Abramis omnivore\n",
       "2        Actinopterygii Cypriniformes Cyprinidae Abramis omnivore\n",
       "⋮        ⋮              ⋮             ⋮          ⋮       ⋮       \n",
       "23810303 Mammalia       Rodentia      Sciuridae  Sciurus omnivore\n",
       "23810304 Mammalia       Rodentia      Sciuridae  Sciurus omnivore\n",
       "         habitat             OTU                              Count Perc_abund\n",
       "1        aquatic habitat     27056924d25a972043773840061213f9 0     0         \n",
       "2        aquatic habitat     91783a64f15025a663fb7ca42b62aa27 0     0         \n",
       "⋮        ⋮                   ⋮                                ⋮     ⋮         \n",
       "23810303 terrestrial habitat 499551aa042940d0668b0e44fe97517d 0     0         \n",
       "23810304 terrestrial habitat b76690c467af807ee8f7ed9773f7ab40 0     0         \n",
       "         Domain   Phylum         Class               Order        \n",
       "1        Bacteria Proteobacteria Gammaproteobacteria unclassified \n",
       "2        Bacteria Proteobacteria Gammaproteobacteria unclassified \n",
       "⋮        ⋮        ⋮              ⋮                   ⋮            \n",
       "23810303 Bacteria Firmicutes     Clostridia          Clostridiales\n",
       "23810304 Bacteria Firmicutes     Clostridia          Clostridiales\n",
       "         Family          Genus        Species      NGS_control   \n",
       "1        unclassified    unclassified unclassified Actinopterygii\n",
       "2        unclassified    unclassified unclassified Actinopterygii\n",
       "⋮        ⋮               ⋮            ⋮            ⋮             \n",
       "23810303 Lachnospiraceae unclassified unclassified Mammalia      \n",
       "23810304 Lachnospiraceae unclassified unclassified Mammalia      "
      ]
     },
     "metadata": {},
     "output_type": "display_data"
    }
   ],
   "source": [
    "# summarizing\n",
    "otu_all = meta_f %>%\n",
    "    inner_join(otu, c('SampleID'='Sample')) %>%\n",
    "    inner_join(tax, c('OTU')) %>%\n",
    "    mutate(class = class %>% as.character,\n",
    "           NGS_control = ifelse(grepl('^(Neg_control|water)', SampleID),\n",
    "                                'PCR_neg_cont', class),\n",
    "           NGS_control = ifelse(grepl('^(Pos_control|methanogen|mock)', SampleID),\n",
    "                                'PCR_pos_cont', NGS_control)) \n",
    "otu_all"
   ]
  },
  {
   "cell_type": "code",
   "execution_count": 111,
   "metadata": {
    "ExecuteTime": {
     "end_time": "2021-01-16T15:04:29.906513Z",
     "start_time": "2021-01-16T15:03:48.711Z"
    }
   },
   "outputs": [
    {
     "data": {
      "text/html": [
       "<table>\n",
       "<caption>A tibble: 602 × 4</caption>\n",
       "<thead>\n",
       "\t<tr><th scope=col>SampleID</th><th scope=col>NGS_control</th><th scope=col>category</th><th scope=col>value</th></tr>\n",
       "\t<tr><th scope=col>&lt;chr&gt;</th><th scope=col>&lt;chr&gt;</th><th scope=col>&lt;chr&gt;</th><th scope=col>&lt;dbl&gt;</th></tr>\n",
       "</thead>\n",
       "<tbody>\n",
       "\t<tr><td>F14_Common_Bream   </td><td>Actinopterygii</td><td>nOTU</td><td>667</td></tr>\n",
       "\t<tr><td>F141_Wood_Sandpiper</td><td>Aves          </td><td>nOTU</td><td>  5</td></tr>\n",
       "\t<tr><td>⋮</td><td>⋮</td><td>⋮</td><td>⋮</td></tr>\n",
       "\t<tr><td>X96_European_Hare        </td><td>Mammalia</td><td>Total_count</td><td>21879</td></tr>\n",
       "\t<tr><td>X98_Eurasian_Red_Squirrel</td><td>Mammalia</td><td>Total_count</td><td> 3949</td></tr>\n",
       "</tbody>\n",
       "</table>\n"
      ],
      "text/latex": [
       "A tibble: 602 × 4\n",
       "\\begin{tabular}{llll}\n",
       " SampleID & NGS\\_control & category & value\\\\\n",
       " <chr> & <chr> & <chr> & <dbl>\\\\\n",
       "\\hline\n",
       "\t F14\\_Common\\_Bream    & Actinopterygii & nOTU & 667\\\\\n",
       "\t F141\\_Wood\\_Sandpiper & Aves           & nOTU &   5\\\\\n",
       "\t ⋮ & ⋮ & ⋮ & ⋮\\\\\n",
       "\t X96\\_European\\_Hare         & Mammalia & Total\\_count & 21879\\\\\n",
       "\t X98\\_Eurasian\\_Red\\_Squirrel & Mammalia & Total\\_count &  3949\\\\\n",
       "\\end{tabular}\n"
      ],
      "text/markdown": [
       "\n",
       "A tibble: 602 × 4\n",
       "\n",
       "| SampleID &lt;chr&gt; | NGS_control &lt;chr&gt; | category &lt;chr&gt; | value &lt;dbl&gt; |\n",
       "|---|---|---|---|\n",
       "| F14_Common_Bream    | Actinopterygii | nOTU | 667 |\n",
       "| F141_Wood_Sandpiper | Aves           | nOTU |   5 |\n",
       "| ⋮ | ⋮ | ⋮ | ⋮ |\n",
       "| X96_European_Hare         | Mammalia | Total_count | 21879 |\n",
       "| X98_Eurasian_Red_Squirrel | Mammalia | Total_count |  3949 |\n",
       "\n"
      ],
      "text/plain": [
       "    SampleID                  NGS_control    category    value\n",
       "1   F14_Common_Bream          Actinopterygii nOTU        667  \n",
       "2   F141_Wood_Sandpiper       Aves           nOTU          5  \n",
       "⋮   ⋮                         ⋮              ⋮           ⋮    \n",
       "601 X96_European_Hare         Mammalia       Total_count 21879\n",
       "602 X98_Eurasian_Red_Squirrel Mammalia       Total_count  3949"
      ]
     },
     "metadata": {},
     "output_type": "display_data"
    }
   ],
   "source": [
    "# number of sequences\n",
    "otu_all_s = otu_all %>%\n",
    "    filter(Count > 0) %>%\n",
    "    group_by(SampleID, NGS_control) %>%\n",
    "    summarize(nOTU = OTU %>% unique %>% length,\n",
    "              Total_count = sum(Count),\n",
    "              .groups='drop') %>%\n",
    "    ungroup() %>%\n",
    "    gather(category, value, -SampleID, -NGS_control)\n",
    "otu_all_s"
   ]
  },
  {
   "cell_type": "code",
   "execution_count": 112,
   "metadata": {
    "ExecuteTime": {
     "end_time": "2021-01-16T15:04:30.452515Z",
     "start_time": "2021-01-16T15:03:50.078Z"
    }
   },
   "outputs": [
    {
     "data": {
      "image/png": "[encoded data removed]",
      "text/plain": [
       "plot without title"
      ]
     },
     "metadata": {
      "image/png": {
       "height": 370,
       "width": 400
      },
      "text/plain": {
       "height": 370,
       "width": 400
      }
     },
     "output_type": "display_data"
    }
   ],
   "source": [
    "# number of sequences: plotting\n",
    "p = otu_all_s %>%\n",
    "    filter(NGS_control != 'PCR_pos_cont') %>%\n",
    "    mutate(category = ifelse(category == 'nOTU', 'No. of ASVs', 'Abundance')) %>%\n",
    "    ggplot(aes(NGS_control, value)) +\n",
    "    geom_boxplot() +\n",
    "    scale_y_log10() +\n",
    "    labs(x='Host Class (or PCR control)', y='') +\n",
    "    facet_grid(category ~ ., scales='free_y') +\n",
    "    theme_bw() +\n",
    "    theme(\n",
    "        axis.text.x = element_text(angle=45, hjust=1)\n",
    "    )\n",
    "p.dims(4,3.7)\n",
    "plot(p)"
   ]
  },
  {
   "cell_type": "code",
   "execution_count": 117,
   "metadata": {
    "ExecuteTime": {
     "end_time": "2021-01-16T15:06:15.092309Z",
     "start_time": "2021-01-16T15:06:14.548Z"
    }
   },
   "outputs": [
    {
     "data": {
      "text/html": [
       "<table>\n",
       "<caption>A tibble: 6 × 9</caption>\n",
       "<thead>\n",
       "\t<tr><th scope=col>Domain</th><th scope=col>Phylum</th><th scope=col>Class</th><th scope=col>Order</th><th scope=col>Family</th><th scope=col>Genus</th><th scope=col>Species</th><th scope=col>mean_perc_abund</th><th scope=col>mean_nOTU</th></tr>\n",
       "\t<tr><th scope=col>&lt;chr&gt;</th><th scope=col>&lt;chr&gt;</th><th scope=col>&lt;chr&gt;</th><th scope=col>&lt;chr&gt;</th><th scope=col>&lt;chr&gt;</th><th scope=col>&lt;chr&gt;</th><th scope=col>&lt;chr&gt;</th><th scope=col>&lt;dbl&gt;</th><th scope=col>&lt;dbl&gt;</th></tr>\n",
       "</thead>\n",
       "<tbody>\n",
       "\t<tr><td>Bacteria</td><td>Firmicutes</td><td>Bacilli         </td><td>Lactobacillales   </td><td>Enterococcaceae    </td><td>Catellicoccus          </td><td>Catellicoccus marimammalium M35/04/3</td><td>31.64414</td><td>1.000000</td></tr>\n",
       "\t<tr><td>Bacteria</td><td>Firmicutes</td><td>Erysipelotrichia</td><td>Erysipelotrichales</td><td>Erysipelotrichaceae</td><td>Catenibacterium        </td><td>unclassified                        </td><td>20.20202</td><td>1.000000</td></tr>\n",
       "\t<tr><td>Bacteria</td><td>Firmicutes</td><td>Bacilli         </td><td>Lactobacillales   </td><td>Lactobacillaceae   </td><td>Lactobacillus          </td><td>unclassified                        </td><td>16.61021</td><td>2.555556</td></tr>\n",
       "\t<tr><td>Bacteria</td><td>Firmicutes</td><td>Bacilli         </td><td>Bacillales        </td><td>Bacillaceae        </td><td>Bacillus               </td><td>unclassified                        </td><td>13.64867</td><td>1.222222</td></tr>\n",
       "\t<tr><td>Bacteria</td><td>Firmicutes</td><td>Bacilli         </td><td>Lactobacillales   </td><td>Streptococcaceae   </td><td>Lactococcus            </td><td>unclassified                        </td><td>12.00887</td><td>1.571429</td></tr>\n",
       "\t<tr><td>Bacteria</td><td>Firmicutes</td><td>Clostridia      </td><td>Clostridiales     </td><td>Ruminococcaceae    </td><td>Ruminococcaceae UCG-014</td><td>unidentified rumen bacterium RFN33  </td><td>10.87733</td><td>1.571429</td></tr>\n",
       "</tbody>\n",
       "</table>\n"
      ],
      "text/latex": [
       "A tibble: 6 × 9\n",
       "\\begin{tabular}{lllllllll}\n",
       " Domain & Phylum & Class & Order & Family & Genus & Species & mean\\_perc\\_abund & mean\\_nOTU\\\\\n",
       " <chr> & <chr> & <chr> & <chr> & <chr> & <chr> & <chr> & <dbl> & <dbl>\\\\\n",
       "\\hline\n",
       "\t Bacteria & Firmicutes & Bacilli          & Lactobacillales    & Enterococcaceae     & Catellicoccus           & Catellicoccus marimammalium M35/04/3 & 31.64414 & 1.000000\\\\\n",
       "\t Bacteria & Firmicutes & Erysipelotrichia & Erysipelotrichales & Erysipelotrichaceae & Catenibacterium         & unclassified                         & 20.20202 & 1.000000\\\\\n",
       "\t Bacteria & Firmicutes & Bacilli          & Lactobacillales    & Lactobacillaceae    & Lactobacillus           & unclassified                         & 16.61021 & 2.555556\\\\\n",
       "\t Bacteria & Firmicutes & Bacilli          & Bacillales         & Bacillaceae         & Bacillus                & unclassified                         & 13.64867 & 1.222222\\\\\n",
       "\t Bacteria & Firmicutes & Bacilli          & Lactobacillales    & Streptococcaceae    & Lactococcus             & unclassified                         & 12.00887 & 1.571429\\\\\n",
       "\t Bacteria & Firmicutes & Clostridia       & Clostridiales      & Ruminococcaceae     & Ruminococcaceae UCG-014 & unidentified rumen bacterium RFN33   & 10.87733 & 1.571429\\\\\n",
       "\\end{tabular}\n"
      ],
      "text/markdown": [
       "\n",
       "A tibble: 6 × 9\n",
       "\n",
       "| Domain &lt;chr&gt; | Phylum &lt;chr&gt; | Class &lt;chr&gt; | Order &lt;chr&gt; | Family &lt;chr&gt; | Genus &lt;chr&gt; | Species &lt;chr&gt; | mean_perc_abund &lt;dbl&gt; | mean_nOTU &lt;dbl&gt; |\n",
       "|---|---|---|---|---|---|---|---|---|\n",
       "| Bacteria | Firmicutes | Bacilli          | Lactobacillales    | Enterococcaceae     | Catellicoccus           | Catellicoccus marimammalium M35/04/3 | 31.64414 | 1.000000 |\n",
       "| Bacteria | Firmicutes | Erysipelotrichia | Erysipelotrichales | Erysipelotrichaceae | Catenibacterium         | unclassified                         | 20.20202 | 1.000000 |\n",
       "| Bacteria | Firmicutes | Bacilli          | Lactobacillales    | Lactobacillaceae    | Lactobacillus           | unclassified                         | 16.61021 | 2.555556 |\n",
       "| Bacteria | Firmicutes | Bacilli          | Bacillales         | Bacillaceae         | Bacillus                | unclassified                         | 13.64867 | 1.222222 |\n",
       "| Bacteria | Firmicutes | Bacilli          | Lactobacillales    | Streptococcaceae    | Lactococcus             | unclassified                         | 12.00887 | 1.571429 |\n",
       "| Bacteria | Firmicutes | Clostridia       | Clostridiales      | Ruminococcaceae     | Ruminococcaceae UCG-014 | unidentified rumen bacterium RFN33   | 10.87733 | 1.571429 |\n",
       "\n"
      ],
      "text/plain": [
       "  Domain   Phylum     Class            Order              Family             \n",
       "1 Bacteria Firmicutes Bacilli          Lactobacillales    Enterococcaceae    \n",
       "2 Bacteria Firmicutes Erysipelotrichia Erysipelotrichales Erysipelotrichaceae\n",
       "3 Bacteria Firmicutes Bacilli          Lactobacillales    Lactobacillaceae   \n",
       "4 Bacteria Firmicutes Bacilli          Bacillales         Bacillaceae        \n",
       "5 Bacteria Firmicutes Bacilli          Lactobacillales    Streptococcaceae   \n",
       "6 Bacteria Firmicutes Clostridia       Clostridiales      Ruminococcaceae    \n",
       "  Genus                   Species                              mean_perc_abund\n",
       "1 Catellicoccus           Catellicoccus marimammalium M35/04/3 31.64414       \n",
       "2 Catenibacterium         unclassified                         20.20202       \n",
       "3 Lactobacillus           unclassified                         16.61021       \n",
       "4 Bacillus                unclassified                         13.64867       \n",
       "5 Lactococcus             unclassified                         12.00887       \n",
       "6 Ruminococcaceae UCG-014 unidentified rumen bacterium RFN33   10.87733       \n",
       "  mean_nOTU\n",
       "1 1.000000 \n",
       "2 1.000000 \n",
       "3 2.555556 \n",
       "4 1.222222 \n",
       "5 1.571429 \n",
       "6 1.571429 "
      ]
     },
     "metadata": {},
     "output_type": "display_data"
    }
   ],
   "source": [
    "# summary table\n",
    "otu_all_f = otu_all %>%\n",
    "    filter(NGS_control == 'PCR_neg_cont',\n",
    "           Count > 0)  %>%\n",
    "    group_by(SampleID) %>%\n",
    "    mutate(TOTAL = sum(Count)) %>%\n",
    "    group_by(SampleID, Domain, Phylum, Class, Order, Family, Genus, Species) %>%\n",
    "    summarize(perc_abund = sum(Count) / TOTAL * 100,\n",
    "              nOTU = OTU %>% unique %>% length,\n",
    "              .groups='drop') %>%\n",
    "    group_by(Domain, Phylum, Class, Order, Family, Genus, Species) %>%\n",
    "    summarize(mean_perc_abund = mean(perc_abund),\n",
    "              mean_nOTU = mean(nOTU),\n",
    "              .groups='drop') %>%\n",
    "    filter(mean_perc_abund >= 10) %>%\n",
    "    arrange(-mean_perc_abund)\n",
    "df.dims(40)\n",
    "otu_all_f %>% head(n=40)\n",
    "df.dims()"
   ]
  },
  {
   "cell_type": "code",
   "execution_count": 114,
   "metadata": {
    "ExecuteTime": {
     "end_time": "2021-01-16T15:04:31.010101Z",
     "start_time": "2021-01-16T15:04:09.283Z"
    }
   },
   "outputs": [
    {
     "name": "stdout",
     "output_type": "stream",
     "text": [
      "File written: /ebio/abt3_projects/Georg_animal_feces/data/16S_arch/MiSeq-Runs-116-122-126-189-190/LLA/merged/phyloseq//neg_cont_summary.tsv \n"
     ]
    }
   ],
   "source": [
    "F = file.path(work_dir, 'neg_cont_summary.tsv')\n",
    "otu_all_f %>% write_table(F)"
   ]
  },
  {
   "cell_type": "markdown",
   "metadata": {},
   "source": [
    "# sessionInfo"
   ]
  },
  {
   "cell_type": "code",
   "execution_count": 54,
   "metadata": {
    "ExecuteTime": {
     "end_time": "2020-03-06T12:59:43.730603Z",
     "start_time": "2020-03-06T12:57:52.780Z"
    }
   },
   "outputs": [
    {
     "data": {
      "text/plain": [
       "R version 3.6.2 (2019-12-12)\n",
       "Platform: x86_64-conda_cos6-linux-gnu (64-bit)\n",
       "Running under: Ubuntu 18.04.3 LTS\n",
       "\n",
       "Matrix products: default\n",
       "BLAS/LAPACK: /ebio/abt3_projects/Georg_animal_feces/envs/phyloseq/lib/libopenblasp-r0.3.7.so\n",
       "\n",
       "locale:\n",
       " [1] LC_CTYPE=en_US.UTF-8       LC_NUMERIC=C              \n",
       " [3] LC_TIME=en_US.UTF-8        LC_COLLATE=en_US.UTF-8    \n",
       " [5] LC_MONETARY=en_US.UTF-8    LC_MESSAGES=en_US.UTF-8   \n",
       " [7] LC_PAPER=en_US.UTF-8       LC_NAME=C                 \n",
       " [9] LC_ADDRESS=C               LC_TELEPHONE=C            \n",
       "[11] LC_MEASUREMENT=en_US.UTF-8 LC_IDENTIFICATION=C       \n",
       "\n",
       "attached base packages:\n",
       "[1] parallel  stats     graphics  grDevices utils     datasets  methods  \n",
       "[8] base     \n",
       "\n",
       "other attached packages:\n",
       "[1] LeyLabRMisc_0.1.1 doParallel_1.0.15 iterators_1.0.12  foreach_1.4.7    \n",
       "[5] phyloseq_1.30.0   ggplot2_3.2.1     tidyr_1.0.0       dplyr_0.8.3      \n",
       "[9] dtplyr_1.0.0     \n",
       "\n",
       "loaded via a namespace (and not attached):\n",
       " [1] Rcpp_1.0.3          ape_5.3             lattice_0.20-38    \n",
       " [4] Biostrings_2.54.0   assertthat_0.2.1    zeallot_0.1.0      \n",
       " [7] digest_0.6.23       IRdisplay_0.7.0     R6_2.4.1           \n",
       "[10] plyr_1.8.5          repr_1.0.2          backports_1.1.5    \n",
       "[13] stats4_3.6.2        evaluate_0.14       pillar_1.4.3       \n",
       "[16] zlibbioc_1.32.0     rlang_0.4.2         lazyeval_0.2.2     \n",
       "[19] uuid_0.1-2          data.table_1.12.8   vegan_2.5-6        \n",
       "[22] S4Vectors_0.24.0    Matrix_1.2-18       labeling_0.3       \n",
       "[25] splines_3.6.2       stringr_1.4.0       igraph_1.2.4.2     \n",
       "[28] munsell_0.5.0       compiler_3.6.2      pkgconfig_2.0.3    \n",
       "[31] BiocGenerics_0.32.0 base64enc_0.1-3     multtest_2.42.0    \n",
       "[34] mgcv_1.8-31         htmltools_0.4.0     biomformat_1.14.0  \n",
       "[37] tidyselect_0.2.5    tibble_2.1.3        IRanges_2.20.0     \n",
       "[40] codetools_0.2-16    permute_0.9-5       crayon_1.3.4       \n",
       "[43] withr_2.1.2         MASS_7.3-51.5       grid_3.6.2         \n",
       "[46] nlme_3.1-143        jsonlite_1.6        gtable_0.3.0       \n",
       "[49] lifecycle_0.1.0     magrittr_1.5        scales_1.1.0       \n",
       "[52] stringi_1.4.5       farver_2.0.2        XVector_0.26.0     \n",
       "[55] reshape2_1.4.3      ellipsis_0.3.0      vctrs_0.2.1        \n",
       "[58] IRkernel_1.1        Rhdf5lib_1.8.0      tools_3.6.2        \n",
       "[61] ade4_1.7-13         Biobase_2.46.0      glue_1.3.1         \n",
       "[64] purrr_0.3.3         survival_3.1-8      colorspace_1.4-1   \n",
       "[67] rhdf5_2.30.0        cluster_2.1.0       pbdZMQ_0.3-3       "
      ]
     },
     "metadata": {},
     "output_type": "display_data"
    }
   ],
   "source": [
    "sessionInfo()"
   ]
  },
  {
   "cell_type": "code",
   "execution_count": null,
   "metadata": {},
   "outputs": [],
   "source": []
  }
 ],
 "metadata": {
  "kernelspec": {
   "display_name": "R [conda env:Georg_animal_feces-phyloseq]",
   "language": "R",
   "name": "conda-env-Georg_animal_feces-phyloseq-r"
  },
  "language_info": {
   "codemirror_mode": "r",
   "file_extension": ".r",
   "mimetype": "text/x-r-source",
   "name": "R",
   "pygments_lexer": "r",
   "version": "3.6.3"
  },
  "notify_time": "30",
  "toc": {
   "base_numbering": 1,
   "nav_menu": {},
   "number_sections": true,
   "sideBar": true,
   "skip_h1_title": false,
   "title_cell": "Table of Contents",
   "title_sidebar": "Contents",
   "toc_cell": true,
   "toc_position": {
    "height": "calc(100% - 180px)",
    "left": "10px",
    "top": "150px",
    "width": "256px"
   },
   "toc_section_display": true,
   "toc_window_display": true
  }
 },
 "nbformat": 4,
 "nbformat_minor": 2
}
