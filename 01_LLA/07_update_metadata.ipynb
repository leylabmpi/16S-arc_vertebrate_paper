{
 "cells": [
  {
   "cell_type": "markdown",
   "metadata": {
    "toc": true
   },
   "source": [
    "<h1>Table of Contents<span class=\"tocSkip\"></span></h1>\n",
    "<div class=\"toc\"><ul class=\"toc-item\"><li><span><a href=\"#Goal\" data-toc-modified-id=\"Goal-1\"><span class=\"toc-item-num\">1&nbsp;&nbsp;</span>Goal</a></span></li><li><span><a href=\"#Var\" data-toc-modified-id=\"Var-2\"><span class=\"toc-item-num\">2&nbsp;&nbsp;</span>Var</a></span></li><li><span><a href=\"#Init\" data-toc-modified-id=\"Init-3\"><span class=\"toc-item-num\">3&nbsp;&nbsp;</span>Init</a></span></li><li><span><a href=\"#Load\" data-toc-modified-id=\"Load-4\"><span class=\"toc-item-num\">4&nbsp;&nbsp;</span>Load</a></span><ul class=\"toc-item\"><li><span><a href=\"#checks\" data-toc-modified-id=\"checks-4.1\"><span class=\"toc-item-num\">4.1&nbsp;&nbsp;</span>checks</a></span></li></ul></li><li><span><a href=\"#Methane-data\" data-toc-modified-id=\"Methane-data-5\"><span class=\"toc-item-num\">5&nbsp;&nbsp;</span>Methane data</a></span></li><li><span><a href=\"#Filtering-metadata\" data-toc-modified-id=\"Filtering-metadata-6\"><span class=\"toc-item-num\">6&nbsp;&nbsp;</span>Filtering metadata</a></span></li><li><span><a href=\"#Updating-phyloseq-objects\" data-toc-modified-id=\"Updating-phyloseq-objects-7\"><span class=\"toc-item-num\">7&nbsp;&nbsp;</span>Updating phyloseq objects</a></span><ul class=\"toc-item\"><li><span><a href=\"#IndD\" data-toc-modified-id=\"IndD-7.1\"><span class=\"toc-item-num\">7.1&nbsp;&nbsp;</span>IndD</a></span></li><li><span><a href=\"#SpecD\" data-toc-modified-id=\"SpecD-7.2\"><span class=\"toc-item-num\">7.2&nbsp;&nbsp;</span>SpecD</a></span></li></ul></li><li><span><a href=\"#Host-tree\" data-toc-modified-id=\"Host-tree-8\"><span class=\"toc-item-num\">8&nbsp;&nbsp;</span>Host tree</a></span><ul class=\"toc-item\"><li><span><a href=\"#Expanding-tips:-IndD\" data-toc-modified-id=\"Expanding-tips:-IndD-8.1\"><span class=\"toc-item-num\">8.1&nbsp;&nbsp;</span>Expanding tips: IndD</a></span></li></ul></li><li><span><a href=\"#sessionInfo\" data-toc-modified-id=\"sessionInfo-9\"><span class=\"toc-item-num\">9&nbsp;&nbsp;</span>sessionInfo</a></span></li></ul></div>"
   ]
  },
  {
   "cell_type": "markdown",
   "metadata": {},
   "source": [
    "# Goal\n",
    "\n",
    "* update metadata \n",
    "  * make sure all host common names are present\n",
    "  * include CH4 production from Clauss et al., 2020\n",
    "* make sure host tree matches samples\n",
    "  * using host common names for host tree"
   ]
  },
  {
   "cell_type": "markdown",
   "metadata": {},
   "source": [
    "# Var"
   ]
  },
  {
   "cell_type": "code",
   "execution_count": 40,
   "metadata": {
    "ExecuteTime": {
     "end_time": "2020-05-27T07:59:51.477584Z",
     "start_time": "2020-05-27T07:59:51.419Z"
    }
   },
   "outputs": [],
   "source": [
    "# phyloseq file\n",
    "physeq_arch_SpecD_file = '/ebio/abt3_projects/Georg_animal_feces/data/16S_arch/MiSeq-Runs-116-122-126-189-190/LLA/merged/phyloseq/physeq_arch_SpecD.RDS'\n",
    "physeq_arch_IndD_file = '/ebio/abt3_projects/Georg_animal_feces/data/16S_arch/MiSeq-Runs-116-122-126-189-190/LLA/merged/phyloseq/physeq_arch_IndD.RDS'\n",
    "\n",
    "# updated host metadata\n",
    "host_meta_file = '/ebio/abt3_projects/Georg_animal_feces/data/mapping/unified_metadata_complete_200429.tsv'\n",
    "\n",
    "# host tree (scientific names)\n",
    "host_tree_file = '/ebio/abt3_projects/Georg_animal_feces/data/animal/phylogeny/TT/unified_metadata_complete_20190416_rn.nwk'\n",
    "\n",
    "# Clauss et al., 2020\n",
    "methane_file = '/ebio/abt3_projects/Georg_animal_feces/data/animal/metadata/Clauss-2020_methane_animals.xlsx'"
   ]
  },
  {
   "cell_type": "markdown",
   "metadata": {},
   "source": [
    "# Init"
   ]
  },
  {
   "cell_type": "code",
   "execution_count": 41,
   "metadata": {
    "ExecuteTime": {
     "end_time": "2020-05-27T07:59:51.776153Z",
     "start_time": "2020-05-27T07:59:51.717Z"
    }
   },
   "outputs": [],
   "source": [
    "library(dplyr)\n",
    "library(tidyr)\n",
    "library(ggplot2)\n",
    "library(phyloseq)\n",
    "library(ape)\n",
    "library(readxl)\n",
    "library(tidytable)\n",
    "library(LeyLabRMisc)"
   ]
  },
  {
   "cell_type": "code",
   "execution_count": 42,
   "metadata": {
    "ExecuteTime": {
     "end_time": "2020-05-27T07:59:51.909073Z",
     "start_time": "2020-05-27T07:59:51.857Z"
    }
   },
   "outputs": [],
   "source": [
    "df.dims()\n",
    "set.seed(1341)"
   ]
  },
  {
   "cell_type": "markdown",
   "metadata": {},
   "source": [
    "# Load"
   ]
  },
  {
   "cell_type": "code",
   "execution_count": 43,
   "metadata": {
    "ExecuteTime": {
     "end_time": "2020-05-27T07:59:52.381983Z",
     "start_time": "2020-05-27T07:59:52.298Z"
    }
   },
   "outputs": [
    {
     "data": {
      "text/plain": [
       "phyloseq-class experiment-level object\n",
       "otu_table()   OTU Table:         [ 1151 taxa and 110 samples ]\n",
       "sample_data() Sample Data:       [ 110 samples by 74 sample variables ]\n",
       "tax_table()   Taxonomy Table:    [ 1151 taxa by 7 taxonomic ranks ]\n",
       "phy_tree()    Phylogenetic Tree: [ 1151 tips and 1150 internal nodes ]"
      ]
     },
     "metadata": {},
     "output_type": "display_data"
    }
   ],
   "source": [
    "# archaea\n",
    "physeq_arch_SpecD = readRDS(physeq_arch_SpecD_file)\n",
    "physeq_arch_SpecD"
   ]
  },
  {
   "cell_type": "code",
   "execution_count": 44,
   "metadata": {
    "ExecuteTime": {
     "end_time": "2020-05-27T07:59:52.612311Z",
     "start_time": "2020-05-27T07:59:52.514Z"
    }
   },
   "outputs": [
    {
     "data": {
      "text/plain": [
       "phyloseq-class experiment-level object\n",
       "otu_table()   OTU Table:         [ 1891 taxa and 185 samples ]\n",
       "sample_data() Sample Data:       [ 185 samples by 74 sample variables ]\n",
       "tax_table()   Taxonomy Table:    [ 1891 taxa by 7 taxonomic ranks ]\n",
       "phy_tree()    Phylogenetic Tree: [ 1891 tips and 1888 internal nodes ]"
      ]
     },
     "metadata": {},
     "output_type": "display_data"
    }
   ],
   "source": [
    "# archaea\n",
    "physeq_arch_IndD = readRDS(physeq_arch_IndD_file)\n",
    "physeq_arch_IndD"
   ]
  },
  {
   "cell_type": "code",
   "execution_count": 45,
   "metadata": {
    "ExecuteTime": {
     "end_time": "2020-05-27T07:59:52.881396Z",
     "start_time": "2020-05-27T07:59:52.749Z"
    }
   },
   "outputs": [
    {
     "data": {
      "text/html": [
       "<table>\n",
       "<caption>A data.table: 475 × 72</caption>\n",
       "<thead>\n",
       "\t<tr><th scope=col>SampleID</th><th scope=col>host_subject_id</th><th scope=col>host_german_name</th><th scope=col>host_common_name</th><th scope=col>scientific_name</th><th scope=col>scientific_name_subspecies</th><th scope=col>host_taxid</th><th scope=col>class</th><th scope=col>order</th><th scope=col>family</th><th scope=col>⋯</th><th scope=col>temp_regulation</th><th scope=col>collection_date</th><th scope=col>season</th><th scope=col>samp_store_days</th><th scope=col>samp_collect_device</th><th scope=col>sampling_method</th><th scope=col>diet</th><th scope=col>feeding_style</th><th scope=col>digestive_system</th><th scope=col>digestive_system_detail</th></tr>\n",
       "\t<tr><th scope=col>&lt;chr&gt;</th><th scope=col>&lt;chr&gt;</th><th scope=col>&lt;chr&gt;</th><th scope=col>&lt;chr&gt;</th><th scope=col>&lt;chr&gt;</th><th scope=col>&lt;chr&gt;</th><th scope=col>&lt;int&gt;</th><th scope=col>&lt;chr&gt;</th><th scope=col>&lt;chr&gt;</th><th scope=col>&lt;chr&gt;</th><th scope=col>⋯</th><th scope=col>&lt;chr&gt;</th><th scope=col>&lt;chr&gt;</th><th scope=col>&lt;chr&gt;</th><th scope=col>&lt;dbl&gt;</th><th scope=col>&lt;chr&gt;</th><th scope=col>&lt;chr&gt;</th><th scope=col>&lt;chr&gt;</th><th scope=col>&lt;chr&gt;</th><th scope=col>&lt;chr&gt;</th><th scope=col>&lt;chr&gt;</th></tr>\n",
       "</thead>\n",
       "<tbody>\n",
       "\t<tr><td>F14_Common_Bream</td><td>F14</td><td>Brachse  </td><td>Common.Bream</td><td>Abramis_brama </td><td>NA</td><td>38527</td><td>Actinopterygii</td><td>Cypriniformes</td><td>Cyprinidae</td><td>⋯</td><td>ectotherm/poikilotherm</td><td>8/10/10</td><td>summer</td><td>317</td><td>Greiner Polypropylene Tube 50ml          </td><td>feces sampling</td><td>omnivore </td><td>NA               </td><td>simple </td><td>simple </td></tr>\n",
       "\t<tr><td>F35_Red_Deer    </td><td>F35</td><td>Rothirsch</td><td>Red.Deer    </td><td>Cervus_elaphus</td><td>NA</td><td> 9860</td><td>Mammalia      </td><td>Artiodactyla </td><td>Cervidae  </td><td>⋯</td><td>endotherm/homoiotherm </td><td>9/29/10</td><td>autumn</td><td>229</td><td>Greiner Polystyrene 30ml Faeces Container</td><td>feces sampling</td><td>herbivore</td><td>intermediate type</td><td>foregut</td><td>foregut</td></tr>\n",
       "\t<tr><td>⋮</td><td>⋮</td><td>⋮</td><td>⋮</td><td>⋮</td><td>⋮</td><td>⋮</td><td>⋮</td><td>⋮</td><td>⋮</td><td>⋱</td><td>⋮</td><td>⋮</td><td>⋮</td><td>⋮</td><td>⋮</td><td>⋮</td><td>⋮</td><td>⋮</td><td>⋮</td><td>⋮</td></tr>\n",
       "\t<tr><td>X189_fail_Rainbow_Trout</td><td>189.fail</td><td>Regenbogenforelle</td><td>Rainbow.Trout</td><td>Oncorhynchus_mykiss</td><td>NA</td><td>8022</td><td>Actinopterygii</td><td>Salmoniformes</td><td>Salmonidae</td><td>⋯</td><td>ectotherm/poikilotherm</td><td>3/1/12 </td><td>winter</td><td>467</td><td>Eppendorf tube          </td><td>feces sampling</td><td>carnivore</td><td>NA</td><td>simple</td><td>simple</td></tr>\n",
       "\t<tr><td>X232_fail_Brown_Trout  </td><td>232.fail</td><td>Seeforelle       </td><td>Brown.Trout  </td><td>Salmo_trutta       </td><td>NA</td><td>8032</td><td>Actinopterygii</td><td>Salmoniformes</td><td>Salmonidae</td><td>⋯</td><td>ectotherm/poikilotherm</td><td>3/15/12</td><td>winter</td><td>453</td><td>Polyethylene freezer bag</td><td>gut section   </td><td>carnivore</td><td>NA</td><td>simple</td><td>simple</td></tr>\n",
       "</tbody>\n",
       "</table>\n"
      ],
      "text/latex": [
       "A data.table: 475 × 72\n",
       "\\begin{tabular}{lllllllllllllllllllll}\n",
       " SampleID & host\\_subject\\_id & host\\_german\\_name & host\\_common\\_name & scientific\\_name & scientific\\_name\\_subspecies & host\\_taxid & class & order & family & ⋯ & temp\\_regulation & collection\\_date & season & samp\\_store\\_days & samp\\_collect\\_device & sampling\\_method & diet & feeding\\_style & digestive\\_system & digestive\\_system\\_detail\\\\\n",
       " <chr> & <chr> & <chr> & <chr> & <chr> & <chr> & <int> & <chr> & <chr> & <chr> & ⋯ & <chr> & <chr> & <chr> & <dbl> & <chr> & <chr> & <chr> & <chr> & <chr> & <chr>\\\\\n",
       "\\hline\n",
       "\t F14\\_Common\\_Bream & F14 & Brachse   & Common.Bream & Abramis\\_brama  & NA & 38527 & Actinopterygii & Cypriniformes & Cyprinidae & ⋯ & ectotherm/poikilotherm & 8/10/10 & summer & 317 & Greiner Polypropylene Tube 50ml           & feces sampling & omnivore  & NA                & simple  & simple \\\\\n",
       "\t F35\\_Red\\_Deer     & F35 & Rothirsch & Red.Deer     & Cervus\\_elaphus & NA &  9860 & Mammalia       & Artiodactyla  & Cervidae   & ⋯ & endotherm/homoiotherm  & 9/29/10 & autumn & 229 & Greiner Polystyrene 30ml Faeces Container & feces sampling & herbivore & intermediate type & foregut & foregut\\\\\n",
       "\t ⋮ & ⋮ & ⋮ & ⋮ & ⋮ & ⋮ & ⋮ & ⋮ & ⋮ & ⋮ & ⋱ & ⋮ & ⋮ & ⋮ & ⋮ & ⋮ & ⋮ & ⋮ & ⋮ & ⋮ & ⋮\\\\\n",
       "\t X189\\_fail\\_Rainbow\\_Trout & 189.fail & Regenbogenforelle & Rainbow.Trout & Oncorhynchus\\_mykiss & NA & 8022 & Actinopterygii & Salmoniformes & Salmonidae & ⋯ & ectotherm/poikilotherm & 3/1/12  & winter & 467 & Eppendorf tube           & feces sampling & carnivore & NA & simple & simple\\\\\n",
       "\t X232\\_fail\\_Brown\\_Trout   & 232.fail & Seeforelle        & Brown.Trout   & Salmo\\_trutta        & NA & 8032 & Actinopterygii & Salmoniformes & Salmonidae & ⋯ & ectotherm/poikilotherm & 3/15/12 & winter & 453 & Polyethylene freezer bag & gut section    & carnivore & NA & simple & simple\\\\\n",
       "\\end{tabular}\n"
      ],
      "text/markdown": [
       "\n",
       "A data.table: 475 × 72\n",
       "\n",
       "| SampleID &lt;chr&gt; | host_subject_id &lt;chr&gt; | host_german_name &lt;chr&gt; | host_common_name &lt;chr&gt; | scientific_name &lt;chr&gt; | scientific_name_subspecies &lt;chr&gt; | host_taxid &lt;int&gt; | class &lt;chr&gt; | order &lt;chr&gt; | family &lt;chr&gt; | ⋯ ⋯ | temp_regulation &lt;chr&gt; | collection_date &lt;chr&gt; | season &lt;chr&gt; | samp_store_days &lt;dbl&gt; | samp_collect_device &lt;chr&gt; | sampling_method &lt;chr&gt; | diet &lt;chr&gt; | feeding_style &lt;chr&gt; | digestive_system &lt;chr&gt; | digestive_system_detail &lt;chr&gt; |\n",
       "|---|---|---|---|---|---|---|---|---|---|---|---|---|---|---|---|---|---|---|---|---|\n",
       "| F14_Common_Bream | F14 | Brachse   | Common.Bream | Abramis_brama  | NA | 38527 | Actinopterygii | Cypriniformes | Cyprinidae | ⋯ | ectotherm/poikilotherm | 8/10/10 | summer | 317 | Greiner Polypropylene Tube 50ml           | feces sampling | omnivore  | NA                | simple  | simple  |\n",
       "| F35_Red_Deer     | F35 | Rothirsch | Red.Deer     | Cervus_elaphus | NA |  9860 | Mammalia       | Artiodactyla  | Cervidae   | ⋯ | endotherm/homoiotherm  | 9/29/10 | autumn | 229 | Greiner Polystyrene 30ml Faeces Container | feces sampling | herbivore | intermediate type | foregut | foregut |\n",
       "| ⋮ | ⋮ | ⋮ | ⋮ | ⋮ | ⋮ | ⋮ | ⋮ | ⋮ | ⋮ | ⋱ | ⋮ | ⋮ | ⋮ | ⋮ | ⋮ | ⋮ | ⋮ | ⋮ | ⋮ | ⋮ |\n",
       "| X189_fail_Rainbow_Trout | 189.fail | Regenbogenforelle | Rainbow.Trout | Oncorhynchus_mykiss | NA | 8022 | Actinopterygii | Salmoniformes | Salmonidae | ⋯ | ectotherm/poikilotherm | 3/1/12  | winter | 467 | Eppendorf tube           | feces sampling | carnivore | NA | simple | simple |\n",
       "| X232_fail_Brown_Trout   | 232.fail | Seeforelle        | Brown.Trout   | Salmo_trutta        | NA | 8032 | Actinopterygii | Salmoniformes | Salmonidae | ⋯ | ectotherm/poikilotherm | 3/15/12 | winter | 453 | Polyethylene freezer bag | gut section    | carnivore | NA | simple | simple |\n",
       "\n"
      ],
      "text/plain": [
       "    SampleID                host_subject_id host_german_name  host_common_name\n",
       "1   F14_Common_Bream        F14             Brachse           Common.Bream    \n",
       "2   F35_Red_Deer            F35             Rothirsch         Red.Deer        \n",
       "⋮   ⋮                       ⋮               ⋮                 ⋮               \n",
       "474 X189_fail_Rainbow_Trout 189.fail        Regenbogenforelle Rainbow.Trout   \n",
       "475 X232_fail_Brown_Trout   232.fail        Seeforelle        Brown.Trout     \n",
       "    scientific_name     scientific_name_subspecies host_taxid class         \n",
       "1   Abramis_brama       NA                         38527      Actinopterygii\n",
       "2   Cervus_elaphus      NA                          9860      Mammalia      \n",
       "⋮   ⋮                   ⋮                          ⋮          ⋮             \n",
       "474 Oncorhynchus_mykiss NA                         8022       Actinopterygii\n",
       "475 Salmo_trutta        NA                         8032       Actinopterygii\n",
       "    order         family     ⋯ temp_regulation        collection_date season\n",
       "1   Cypriniformes Cyprinidae ⋯ ectotherm/poikilotherm 8/10/10         summer\n",
       "2   Artiodactyla  Cervidae   ⋯ endotherm/homoiotherm  9/29/10         autumn\n",
       "⋮   ⋮             ⋮          ⋱ ⋮                      ⋮               ⋮     \n",
       "474 Salmoniformes Salmonidae ⋯ ectotherm/poikilotherm 3/1/12          winter\n",
       "475 Salmoniformes Salmonidae ⋯ ectotherm/poikilotherm 3/15/12         winter\n",
       "    samp_store_days samp_collect_device                       sampling_method\n",
       "1   317             Greiner Polypropylene Tube 50ml           feces sampling \n",
       "2   229             Greiner Polystyrene 30ml Faeces Container feces sampling \n",
       "⋮   ⋮               ⋮                                         ⋮              \n",
       "474 467             Eppendorf tube                            feces sampling \n",
       "475 453             Polyethylene freezer bag                  gut section    \n",
       "    diet      feeding_style     digestive_system digestive_system_detail\n",
       "1   omnivore  NA                simple           simple                 \n",
       "2   herbivore intermediate type foregut          foregut                \n",
       "⋮   ⋮         ⋮                 ⋮                ⋮                      \n",
       "474 carnivore NA                simple           simple                 \n",
       "475 carnivore NA                simple           simple                 "
      ]
     },
     "metadata": {},
     "output_type": "display_data"
    }
   ],
   "source": [
    "# updated metadata\n",
    "host_meta = Fread(host_meta_file)\n",
    "host_meta"
   ]
  },
  {
   "cell_type": "code",
   "execution_count": 46,
   "metadata": {
    "ExecuteTime": {
     "end_time": "2020-05-27T07:59:53.149040Z",
     "start_time": "2020-05-27T07:59:53.084Z"
    }
   },
   "outputs": [
    {
     "data": {
      "text/plain": [
       "\n",
       "Phylogenetic tree with 199 tips and 198 internal nodes.\n",
       "\n",
       "Tip labels:\n",
       "\tPerca_fluviatilis, Gymnocephalus_cernua, Sander_lucioperca, Zingel_zingel, Neogobius_melanostomus, Esox_lucius, ...\n",
       "Node labels:\n",
       "\t, @_22_@, @_8_@, @_4_@, @_3_@, @_1_@, ...\n",
       "\n",
       "Rooted; includes branch lengths."
      ]
     },
     "metadata": {},
     "output_type": "display_data"
    }
   ],
   "source": [
    "# host tree\n",
    "host_tree = read.tree(host_tree_file)\n",
    "host_tree"
   ]
  },
  {
   "cell_type": "code",
   "execution_count": 47,
   "metadata": {
    "ExecuteTime": {
     "end_time": "2020-05-27T07:59:55.398640Z",
     "start_time": "2020-05-27T07:59:55.156Z"
    }
   },
   "outputs": [
    {
     "name": "stderr",
     "output_type": "stream",
     "text": [
      "New names:\n",
      "* `` -> ...73\n",
      "* `` -> ...74\n",
      "* `` -> ...75\n",
      "* `` -> ...76\n",
      "* `` -> ...77\n",
      "* … and 188 more problems\n",
      "\n"
     ]
    },
    {
     "data": {
      "text/html": [
       "<table>\n",
       "<caption>A data.table: 706 × 265</caption>\n",
       "<thead>\n",
       "\t<tr><th scope=col>Authors</th><th scope=col>Source_journal</th><th scope=col>Common_name</th><th scope=col>Species</th><th scope=col>Ruminant_Nonruminant</th><th scope=col>Foregut_Hindgut_Fermenter</th><th scope=col>Sorting_name</th><th scope=col>Sorting_no</th><th scope=col>Diet</th><th scope=col>Measurement</th><th scope=col>⋯</th><th scope=col>...256</th><th scope=col>...257</th><th scope=col>...258</th><th scope=col>...259</th><th scope=col>...260</th><th scope=col>...261</th><th scope=col>...262</th><th scope=col>...263</th><th scope=col>...264</th><th scope=col>...265</th></tr>\n",
       "\t<tr><th scope=col>&lt;chr&gt;</th><th scope=col>&lt;chr&gt;</th><th scope=col>&lt;chr&gt;</th><th scope=col>&lt;chr&gt;</th><th scope=col>&lt;chr&gt;</th><th scope=col>&lt;chr&gt;</th><th scope=col>&lt;chr&gt;</th><th scope=col>&lt;dbl&gt;</th><th scope=col>&lt;chr&gt;</th><th scope=col>&lt;chr&gt;</th><th scope=col>⋯</th><th scope=col>&lt;lgl&gt;</th><th scope=col>&lt;lgl&gt;</th><th scope=col>&lt;lgl&gt;</th><th scope=col>&lt;dbl&gt;</th><th scope=col>&lt;dbl&gt;</th><th scope=col>&lt;lgl&gt;</th><th scope=col>&lt;lgl&gt;</th><th scope=col>&lt;lgl&gt;</th><th scope=col>&lt;lgl&gt;</th><th scope=col>&lt;dbl&gt;</th></tr>\n",
       "</thead>\n",
       "<tbody>\n",
       "\t<tr><td>Archimede et al. (2014)</td><td>Anim Feed Sci Technol</td><td>Domestic sheep</td><td>Ovis_aries</td><td>Ruminant</td><td>Foregut</td><td>Sheep</td><td>1</td><td>Grass hay and straw</td><td>SF6</td><td>⋯</td><td>NA</td><td>NA</td><td>NA</td><td>NA</td><td>NA</td><td>NA</td><td>NA</td><td>NA</td><td>NA</td><td>NA</td></tr>\n",
       "\t<tr><td>Archimede et al. (2014)</td><td>Anim Feed Sci Technol</td><td>Domestic sheep</td><td>Ovis_aries</td><td>Ruminant</td><td>Foregut</td><td>Sheep</td><td>1</td><td>Sugarcane          </td><td>SF6</td><td>⋯</td><td>NA</td><td>NA</td><td>NA</td><td>NA</td><td>NA</td><td>NA</td><td>NA</td><td>NA</td><td>NA</td><td>NA</td></tr>\n",
       "\t<tr><td>⋮</td><td>⋮</td><td>⋮</td><td>⋮</td><td>⋮</td><td>⋮</td><td>⋮</td><td>⋮</td><td>⋮</td><td>⋮</td><td>⋱</td><td>⋮</td><td>⋮</td><td>⋮</td><td>⋮</td><td>⋮</td><td>⋮</td><td>⋮</td><td>⋮</td><td>⋮</td><td>⋮</td></tr>\n",
       "\t<tr><td>NA                                                                                                   </td><td>NA</td><td>NA</td><td>NA</td><td>NA</td><td>NA</td><td>NA</td><td>NA</td><td>NA</td><td>NA</td><td>⋯</td><td>NA</td><td>NA</td><td>NA</td><td>NA</td><td>NA</td><td>NA</td><td>NA</td><td>NA</td><td>NA</td><td>NA</td></tr>\n",
       "\t<tr><td>*note that for average values, those from the paper (Galbraith et al. 1998, Can J Anim Sci) were used</td><td>NA</td><td>NA</td><td>NA</td><td>NA</td><td>NA</td><td>NA</td><td>NA</td><td>NA</td><td>NA</td><td>⋯</td><td>NA</td><td>NA</td><td>NA</td><td>NA</td><td>NA</td><td>NA</td><td>NA</td><td>NA</td><td>NA</td><td>NA</td></tr>\n",
       "</tbody>\n",
       "</table>\n"
      ],
      "text/latex": [
       "A data.table: 706 × 265\n",
       "\\begin{tabular}{lllllllllllllllllllll}\n",
       " Authors & Source\\_journal & Common\\_name & Species & Ruminant\\_Nonruminant & Foregut\\_Hindgut\\_Fermenter & Sorting\\_name & Sorting\\_no & Diet & Measurement & ⋯ & ...256 & ...257 & ...258 & ...259 & ...260 & ...261 & ...262 & ...263 & ...264 & ...265\\\\\n",
       " <chr> & <chr> & <chr> & <chr> & <chr> & <chr> & <chr> & <dbl> & <chr> & <chr> & ⋯ & <lgl> & <lgl> & <lgl> & <dbl> & <dbl> & <lgl> & <lgl> & <lgl> & <lgl> & <dbl>\\\\\n",
       "\\hline\n",
       "\t Archimede et al. (2014) & Anim Feed Sci Technol & Domestic sheep & Ovis\\_aries & Ruminant & Foregut & Sheep & 1 & Grass hay and straw & SF6 & ⋯ & NA & NA & NA & NA & NA & NA & NA & NA & NA & NA\\\\\n",
       "\t Archimede et al. (2014) & Anim Feed Sci Technol & Domestic sheep & Ovis\\_aries & Ruminant & Foregut & Sheep & 1 & Sugarcane           & SF6 & ⋯ & NA & NA & NA & NA & NA & NA & NA & NA & NA & NA\\\\\n",
       "\t ⋮ & ⋮ & ⋮ & ⋮ & ⋮ & ⋮ & ⋮ & ⋮ & ⋮ & ⋮ & ⋱ & ⋮ & ⋮ & ⋮ & ⋮ & ⋮ & ⋮ & ⋮ & ⋮ & ⋮ & ⋮\\\\\n",
       "\t NA                                                                                                    & NA & NA & NA & NA & NA & NA & NA & NA & NA & ⋯ & NA & NA & NA & NA & NA & NA & NA & NA & NA & NA\\\\\n",
       "\t *note that for average values, those from the paper (Galbraith et al. 1998, Can J Anim Sci) were used & NA & NA & NA & NA & NA & NA & NA & NA & NA & ⋯ & NA & NA & NA & NA & NA & NA & NA & NA & NA & NA\\\\\n",
       "\\end{tabular}\n"
      ],
      "text/markdown": [
       "\n",
       "A data.table: 706 × 265\n",
       "\n",
       "| Authors &lt;chr&gt; | Source_journal &lt;chr&gt; | Common_name &lt;chr&gt; | Species &lt;chr&gt; | Ruminant_Nonruminant &lt;chr&gt; | Foregut_Hindgut_Fermenter &lt;chr&gt; | Sorting_name &lt;chr&gt; | Sorting_no &lt;dbl&gt; | Diet &lt;chr&gt; | Measurement &lt;chr&gt; | ⋯ ⋯ | ...256 &lt;lgl&gt; | ...257 &lt;lgl&gt; | ...258 &lt;lgl&gt; | ...259 &lt;dbl&gt; | ...260 &lt;dbl&gt; | ...261 &lt;lgl&gt; | ...262 &lt;lgl&gt; | ...263 &lt;lgl&gt; | ...264 &lt;lgl&gt; | ...265 &lt;dbl&gt; |\n",
       "|---|---|---|---|---|---|---|---|---|---|---|---|---|---|---|---|---|---|---|---|---|\n",
       "| Archimede et al. (2014) | Anim Feed Sci Technol | Domestic sheep | Ovis_aries | Ruminant | Foregut | Sheep | 1 | Grass hay and straw | SF6 | ⋯ | NA | NA | NA | NA | NA | NA | NA | NA | NA | NA |\n",
       "| Archimede et al. (2014) | Anim Feed Sci Technol | Domestic sheep | Ovis_aries | Ruminant | Foregut | Sheep | 1 | Sugarcane           | SF6 | ⋯ | NA | NA | NA | NA | NA | NA | NA | NA | NA | NA |\n",
       "| ⋮ | ⋮ | ⋮ | ⋮ | ⋮ | ⋮ | ⋮ | ⋮ | ⋮ | ⋮ | ⋱ | ⋮ | ⋮ | ⋮ | ⋮ | ⋮ | ⋮ | ⋮ | ⋮ | ⋮ | ⋮ |\n",
       "| NA                                                                                                    | NA | NA | NA | NA | NA | NA | NA | NA | NA | ⋯ | NA | NA | NA | NA | NA | NA | NA | NA | NA | NA |\n",
       "| *note that for average values, those from the paper (Galbraith et al. 1998, Can J Anim Sci) were used | NA | NA | NA | NA | NA | NA | NA | NA | NA | ⋯ | NA | NA | NA | NA | NA | NA | NA | NA | NA | NA |\n",
       "\n"
      ],
      "text/plain": [
       "    Authors                                                                                              \n",
       "1   Archimede et al. (2014)                                                                              \n",
       "2   Archimede et al. (2014)                                                                              \n",
       "⋮   ⋮                                                                                                    \n",
       "705 NA                                                                                                   \n",
       "706 *note that for average values, those from the paper (Galbraith et al. 1998, Can J Anim Sci) were used\n",
       "    Source_journal        Common_name    Species    Ruminant_Nonruminant\n",
       "1   Anim Feed Sci Technol Domestic sheep Ovis_aries Ruminant            \n",
       "2   Anim Feed Sci Technol Domestic sheep Ovis_aries Ruminant            \n",
       "⋮   ⋮                     ⋮              ⋮          ⋮                   \n",
       "705 NA                    NA             NA         NA                  \n",
       "706 NA                    NA             NA         NA                  \n",
       "    Foregut_Hindgut_Fermenter Sorting_name Sorting_no Diet               \n",
       "1   Foregut                   Sheep        1          Grass hay and straw\n",
       "2   Foregut                   Sheep        1          Sugarcane          \n",
       "⋮   ⋮                         ⋮            ⋮          ⋮                  \n",
       "705 NA                        NA           NA         NA                 \n",
       "706 NA                        NA           NA         NA                 \n",
       "    Measurement ⋯ ...256 ...257 ...258 ...259 ...260 ...261 ...262 ...263\n",
       "1   SF6         ⋯ NA     NA     NA     NA     NA     NA     NA     NA    \n",
       "2   SF6         ⋯ NA     NA     NA     NA     NA     NA     NA     NA    \n",
       "⋮   ⋮           ⋱ ⋮      ⋮      ⋮      ⋮      ⋮      ⋮      ⋮      ⋮     \n",
       "705 NA          ⋯ NA     NA     NA     NA     NA     NA     NA     NA    \n",
       "706 NA          ⋯ NA     NA     NA     NA     NA     NA     NA     NA    \n",
       "    ...264 ...265\n",
       "1   NA     NA    \n",
       "2   NA     NA    \n",
       "⋮   ⋮      ⋮     \n",
       "705 NA     NA    \n",
       "706 NA     NA    "
      ]
     },
     "metadata": {},
     "output_type": "display_data"
    }
   ],
   "source": [
    "# Clauss et al., 2020\n",
    "meth = readxl::read_excel(methane_file, skip=1) %>%\n",
    "    as.data.frame %>%\n",
    "    dt_mutate(Species = gsub(' ', '_', Species))\n",
    "meth"
   ]
  },
  {
   "cell_type": "markdown",
   "metadata": {},
   "source": [
    "## checks"
   ]
  },
  {
   "cell_type": "code",
   "execution_count": 48,
   "metadata": {
    "ExecuteTime": {
     "end_time": "2020-05-27T07:59:56.046985Z",
     "start_time": "2020-05-27T07:59:55.994Z"
    }
   },
   "outputs": [
    {
     "name": "stdout",
     "output_type": "stream",
     "text": [
      "intersect(x,y): 110 \n",
      "setdiff(x,y): 0 \n",
      "setdiff(y,x): 75 \n",
      "union(x,y): 185 \n"
     ]
    }
   ],
   "source": [
    "# tree and updated metadata\n",
    "overlap(physeq_arch_SpecD %>% sample_names,\n",
    "        physeq_arch_IndD %>% sample_names)"
   ]
  },
  {
   "cell_type": "code",
   "execution_count": 49,
   "metadata": {
    "ExecuteTime": {
     "end_time": "2020-05-27T07:59:56.559832Z",
     "start_time": "2020-05-27T07:59:56.515Z"
    }
   },
   "outputs": [
    {
     "name": "stdout",
     "output_type": "stream",
     "text": [
      "intersect(x,y): 199 \n",
      "setdiff(x,y): 0 \n",
      "setdiff(y,x): 4 \n",
      "union(x,y): 203 \n"
     ]
    }
   ],
   "source": [
    "# tree and updated metadata\n",
    "overlap(host_tree$tip.label, host_meta %>% dt_pull(scientific_name))"
   ]
  },
  {
   "cell_type": "code",
   "execution_count": 50,
   "metadata": {
    "ExecuteTime": {
     "end_time": "2020-05-27T07:59:57.120866Z",
     "start_time": "2020-05-27T07:59:57.067Z"
    }
   },
   "outputs": [
    {
     "name": "stdout",
     "output_type": "stream",
     "text": [
      "intersect(x,y): 110 \n",
      "setdiff(x,y): 0 \n",
      "setdiff(y,x): 89 \n",
      "union(x,y): 199 \n"
     ]
    }
   ],
   "source": [
    "# tree and phyloseq metadata\n",
    "overlap(physeq_arch_IndD %>% sample_data %>% .$scientific_name,\n",
    "        host_tree$tip.label)"
   ]
  },
  {
   "cell_type": "code",
   "execution_count": 51,
   "metadata": {
    "ExecuteTime": {
     "end_time": "2020-05-27T07:59:57.984601Z",
     "start_time": "2020-05-27T07:59:57.923Z"
    }
   },
   "outputs": [
    {
     "name": "stdout",
     "output_type": "stream",
     "text": [
      "intersect(x,y): 185 \n",
      "setdiff(x,y): 0 \n",
      "setdiff(y,x): 290 \n",
      "union(x,y): 475 \n"
     ]
    }
   ],
   "source": [
    "# original and updated metadata\n",
    "overlap(physeq_arch_IndD %>% sample_data %>% .$SampleID,\n",
    "        host_meta %>% dt_pull(SampleID))"
   ]
  },
  {
   "cell_type": "markdown",
   "metadata": {},
   "source": [
    "# Methane data"
   ]
  },
  {
   "cell_type": "code",
   "execution_count": 52,
   "metadata": {
    "ExecuteTime": {
     "end_time": "2020-05-27T07:59:59.481960Z",
     "start_time": "2020-05-27T07:59:59.384Z"
    }
   },
   "outputs": [
    {
     "name": "stdout",
     "output_type": "stream",
     "text": [
      "intersect(x,y): 10 \n",
      "setdiff(x,y): 26 \n",
      "setdiff(y,x): 192 \n",
      "union(x,y): 228 \n"
     ]
    }
   ],
   "source": [
    "# overlap at the species level \n",
    "overlap(meth %>% dt_pull(Species), \n",
    "        host_meta %>% dt_filter(!is.na(scientific_name)) %>% dt_pull(scientific_name))"
   ]
  },
  {
   "cell_type": "code",
   "execution_count": 53,
   "metadata": {
    "ExecuteTime": {
     "end_time": "2020-05-27T08:00:00.029269Z",
     "start_time": "2020-05-27T07:59:59.937Z"
    }
   },
   "outputs": [
    {
     "data": {
      "text/html": [
       "<ol class=list-inline>\n",
       "\t<li>'Ovis_aries'</li>\n",
       "\t<li>'Bos_taurus'</li>\n",
       "\t<li>'Capra_hircus'</li>\n",
       "\t<li>'Cervus_elaphus'</li>\n",
       "\t<li>'Odocoileus_virginianus'</li>\n",
       "\t<li>'Camelus_bactrianus'</li>\n",
       "\t<li>'Equus_caballus'</li>\n",
       "\t<li>'Oryctolagus_cuniculus'</li>\n",
       "\t<li>'Macropus_eugenii'</li>\n",
       "\t<li>'Macropus_fuliginosus'</li>\n",
       "</ol>\n"
      ],
      "text/latex": [
       "\\begin{enumerate*}\n",
       "\\item 'Ovis\\_aries'\n",
       "\\item 'Bos\\_taurus'\n",
       "\\item 'Capra\\_hircus'\n",
       "\\item 'Cervus\\_elaphus'\n",
       "\\item 'Odocoileus\\_virginianus'\n",
       "\\item 'Camelus\\_bactrianus'\n",
       "\\item 'Equus\\_caballus'\n",
       "\\item 'Oryctolagus\\_cuniculus'\n",
       "\\item 'Macropus\\_eugenii'\n",
       "\\item 'Macropus\\_fuliginosus'\n",
       "\\end{enumerate*}\n"
      ],
      "text/markdown": [
       "1. 'Ovis_aries'\n",
       "2. 'Bos_taurus'\n",
       "3. 'Capra_hircus'\n",
       "4. 'Cervus_elaphus'\n",
       "5. 'Odocoileus_virginianus'\n",
       "6. 'Camelus_bactrianus'\n",
       "7. 'Equus_caballus'\n",
       "8. 'Oryctolagus_cuniculus'\n",
       "9. 'Macropus_eugenii'\n",
       "10. 'Macropus_fuliginosus'\n",
       "\n",
       "\n"
      ],
      "text/plain": [
       " [1] \"Ovis_aries\"             \"Bos_taurus\"             \"Capra_hircus\"          \n",
       " [4] \"Cervus_elaphus\"         \"Odocoileus_virginianus\" \"Camelus_bactrianus\"    \n",
       " [7] \"Equus_caballus\"         \"Oryctolagus_cuniculus\"  \"Macropus_eugenii\"      \n",
       "[10] \"Macropus_fuliginosus\"  "
      ]
     },
     "metadata": {},
     "output_type": "display_data"
    }
   ],
   "source": [
    "# which species overlap?\n",
    "intersect(meth %>% dt_pull(Species), \n",
    "          host_meta %>% dt_filter(!is.na(scientific_name)) %>% dt_pull(scientific_name))"
   ]
  },
  {
   "cell_type": "code",
   "execution_count": 54,
   "metadata": {
    "ExecuteTime": {
     "end_time": "2020-05-27T08:00:00.948171Z",
     "start_time": "2020-05-27T08:00:00.867Z"
    }
   },
   "outputs": [
    {
     "name": "stdout",
     "output_type": "stream",
     "text": [
      "intersect(x,y): 10 \n",
      "setdiff(x,y): 20 \n",
      "setdiff(y,x): 161 \n",
      "union(x,y): 191 \n"
     ]
    },
    {
     "data": {
      "text/html": [
       "<ol class=list-inline>\n",
       "\t<li>'Ovis'</li>\n",
       "\t<li>'Bos'</li>\n",
       "\t<li>'Capra'</li>\n",
       "\t<li>'Cervus'</li>\n",
       "\t<li>'Odocoileus'</li>\n",
       "\t<li>'Gazella'</li>\n",
       "\t<li>'Camelus'</li>\n",
       "\t<li>'Equus'</li>\n",
       "\t<li>'Oryctolagus'</li>\n",
       "\t<li>'Macropus'</li>\n",
       "</ol>\n"
      ],
      "text/latex": [
       "\\begin{enumerate*}\n",
       "\\item 'Ovis'\n",
       "\\item 'Bos'\n",
       "\\item 'Capra'\n",
       "\\item 'Cervus'\n",
       "\\item 'Odocoileus'\n",
       "\\item 'Gazella'\n",
       "\\item 'Camelus'\n",
       "\\item 'Equus'\n",
       "\\item 'Oryctolagus'\n",
       "\\item 'Macropus'\n",
       "\\end{enumerate*}\n"
      ],
      "text/markdown": [
       "1. 'Ovis'\n",
       "2. 'Bos'\n",
       "3. 'Capra'\n",
       "4. 'Cervus'\n",
       "5. 'Odocoileus'\n",
       "6. 'Gazella'\n",
       "7. 'Camelus'\n",
       "8. 'Equus'\n",
       "9. 'Oryctolagus'\n",
       "10. 'Macropus'\n",
       "\n",
       "\n"
      ],
      "text/plain": [
       " [1] \"Ovis\"        \"Bos\"         \"Capra\"       \"Cervus\"      \"Odocoileus\" \n",
       " [6] \"Gazella\"     \"Camelus\"     \"Equus\"       \"Oryctolagus\" \"Macropus\"   "
      ]
     },
     "metadata": {},
     "output_type": "display_data"
    }
   ],
   "source": [
    "# overlap at the genus level\n",
    "overlap(meth %>% dt_pull(Species) %>% gsub('_.+', '', .), \n",
    "        host_meta %>% dt_filter(!is.na(genus)) %>% dt_pull(genus))\n",
    "\n",
    "intersect(meth %>% dt_pull(Species) %>% gsub('_.+', '', .), \n",
    "          host_meta %>% dt_filter(!is.na(genus)) %>% dt_pull(genus))"
   ]
  },
  {
   "cell_type": "code",
   "execution_count": 55,
   "metadata": {
    "ExecuteTime": {
     "end_time": "2020-05-27T08:00:01.653541Z",
     "start_time": "2020-05-27T08:00:01.506Z"
    }
   },
   "outputs": [
    {
     "data": {
      "text/html": [
       "<table>\n",
       "<caption>A data.table: 559 × 8</caption>\n",
       "<thead>\n",
       "\t<tr><th scope=col>Authors</th><th scope=col>Source_journal</th><th scope=col>Species</th><th scope=col>Diet</th><th scope=col>CH4_L/d</th><th scope=col>CH4_L/kgBM</th><th scope=col>CH4_g/d</th><th scope=col>CH4_kJ/d</th></tr>\n",
       "\t<tr><th scope=col>&lt;chr&gt;</th><th scope=col>&lt;chr&gt;</th><th scope=col>&lt;chr&gt;</th><th scope=col>&lt;chr&gt;</th><th scope=col>&lt;dbl&gt;</th><th scope=col>&lt;dbl&gt;</th><th scope=col>&lt;dbl&gt;</th><th scope=col>&lt;dbl&gt;</th></tr>\n",
       "</thead>\n",
       "<tbody>\n",
       "\t<tr><td>Archimede et al. (2014)</td><td>Anim Feed Sci Technol</td><td>Ovis_aries</td><td>Grass hay and straw</td><td>32.68156</td><td>0.8150016</td><td>23.4</td><td>1293.055</td></tr>\n",
       "\t<tr><td>Archimede et al. (2014)</td><td>Anim Feed Sci Technol</td><td>Ovis_aries</td><td>Sugarcane          </td><td>27.51397</td><td>0.6861338</td><td>19.7</td><td>1088.597</td></tr>\n",
       "\t<tr><td>⋮</td><td>⋮</td><td>⋮</td><td>⋮</td><td>⋮</td><td>⋮</td><td>⋮</td><td>⋮</td></tr>\n",
       "\t<tr><td>Vendl et al. (2015) &amp; this study</td><td>J Exp Biol</td><td>Macropus_fuliginosus</td><td>Alfalfa hay</td><td>2.34</td><td>0.09551020</td><td>1.78074</td><td> 92.5938</td></tr>\n",
       "\t<tr><td>Vendl et al. (2015) &amp; this study</td><td>J Exp Biol</td><td>Macropus_fuliginosus</td><td>Alfalfa hay</td><td>1.80</td><td>0.09448819</td><td>1.36980</td><td>215.2608</td></tr>\n",
       "</tbody>\n",
       "</table>\n"
      ],
      "text/latex": [
       "A data.table: 559 × 8\n",
       "\\begin{tabular}{llllllll}\n",
       " Authors & Source\\_journal & Species & Diet & CH4\\_L/d & CH4\\_L/kgBM & CH4\\_g/d & CH4\\_kJ/d\\\\\n",
       " <chr> & <chr> & <chr> & <chr> & <dbl> & <dbl> & <dbl> & <dbl>\\\\\n",
       "\\hline\n",
       "\t Archimede et al. (2014) & Anim Feed Sci Technol & Ovis\\_aries & Grass hay and straw & 32.68156 & 0.8150016 & 23.4 & 1293.055\\\\\n",
       "\t Archimede et al. (2014) & Anim Feed Sci Technol & Ovis\\_aries & Sugarcane           & 27.51397 & 0.6861338 & 19.7 & 1088.597\\\\\n",
       "\t ⋮ & ⋮ & ⋮ & ⋮ & ⋮ & ⋮ & ⋮ & ⋮\\\\\n",
       "\t Vendl et al. (2015) \\& this study & J Exp Biol & Macropus\\_fuliginosus & Alfalfa hay & 2.34 & 0.09551020 & 1.78074 &  92.5938\\\\\n",
       "\t Vendl et al. (2015) \\& this study & J Exp Biol & Macropus\\_fuliginosus & Alfalfa hay & 1.80 & 0.09448819 & 1.36980 & 215.2608\\\\\n",
       "\\end{tabular}\n"
      ],
      "text/markdown": [
       "\n",
       "A data.table: 559 × 8\n",
       "\n",
       "| Authors &lt;chr&gt; | Source_journal &lt;chr&gt; | Species &lt;chr&gt; | Diet &lt;chr&gt; | CH4_L/d &lt;dbl&gt; | CH4_L/kgBM &lt;dbl&gt; | CH4_g/d &lt;dbl&gt; | CH4_kJ/d &lt;dbl&gt; |\n",
       "|---|---|---|---|---|---|---|---|\n",
       "| Archimede et al. (2014) | Anim Feed Sci Technol | Ovis_aries | Grass hay and straw | 32.68156 | 0.8150016 | 23.4 | 1293.055 |\n",
       "| Archimede et al. (2014) | Anim Feed Sci Technol | Ovis_aries | Sugarcane           | 27.51397 | 0.6861338 | 19.7 | 1088.597 |\n",
       "| ⋮ | ⋮ | ⋮ | ⋮ | ⋮ | ⋮ | ⋮ | ⋮ |\n",
       "| Vendl et al. (2015) &amp; this study | J Exp Biol | Macropus_fuliginosus | Alfalfa hay | 2.34 | 0.09551020 | 1.78074 |  92.5938 |\n",
       "| Vendl et al. (2015) &amp; this study | J Exp Biol | Macropus_fuliginosus | Alfalfa hay | 1.80 | 0.09448819 | 1.36980 | 215.2608 |\n",
       "\n"
      ],
      "text/plain": [
       "    Authors                          Source_journal        Species             \n",
       "1   Archimede et al. (2014)          Anim Feed Sci Technol Ovis_aries          \n",
       "2   Archimede et al. (2014)          Anim Feed Sci Technol Ovis_aries          \n",
       "⋮   ⋮                                ⋮                     ⋮                   \n",
       "558 Vendl et al. (2015) & this study J Exp Biol            Macropus_fuliginosus\n",
       "559 Vendl et al. (2015) & this study J Exp Biol            Macropus_fuliginosus\n",
       "    Diet                CH4_L/d  CH4_L/kgBM CH4_g/d CH4_kJ/d\n",
       "1   Grass hay and straw 32.68156 0.8150016  23.4    1293.055\n",
       "2   Sugarcane           27.51397 0.6861338  19.7    1088.597\n",
       "⋮   ⋮                   ⋮        ⋮          ⋮       ⋮       \n",
       "558 Alfalfa hay         2.34     0.09551020 1.78074  92.5938\n",
       "559 Alfalfa hay         1.80     0.09448819 1.36980 215.2608"
      ]
     },
     "metadata": {},
     "output_type": "display_data"
    }
   ],
   "source": [
    "# which values to keep?\n",
    "x = intersect(meth %>% dt_pull(Species), \n",
    "             host_meta %>% dt_filter(!is.na(scientific_name)) %>% dt_pull(scientific_name))\n",
    "meth_f = meth %>%\n",
    "    dt_filter(Species %in% x) %>%\n",
    "    dt_select(Authors, Source_journal, Species, Diet, `CH4_L/d`, `CH4_L/kgBM`, `CH4_g/d`, `CH4_kJ/d`)\n",
    "meth_f "
   ]
  },
  {
   "cell_type": "code",
   "execution_count": 56,
   "metadata": {
    "ExecuteTime": {
     "end_time": "2020-05-27T08:00:02.698610Z",
     "start_time": "2020-05-27T08:00:02.586Z"
    }
   },
   "outputs": [
    {
     "data": {
      "text/html": [
       "<table>\n",
       "<caption>A data.table: 10 × 9</caption>\n",
       "<thead>\n",
       "\t<tr><th scope=col>Species</th><th scope=col>CH4_L.d_mean</th><th scope=col>CH4_L.d_sd</th><th scope=col>CH4_L.kgBM_mean</th><th scope=col>CH4_L.kgBM_sd</th><th scope=col>CH4_g.d_mean</th><th scope=col>CH4_g.d_sd</th><th scope=col>CH4_kJ.d_mean</th><th scope=col>CH4_kJ.d_sd</th></tr>\n",
       "\t<tr><th scope=col>&lt;chr&gt;</th><th scope=col>&lt;dbl&gt;</th><th scope=col>&lt;dbl&gt;</th><th scope=col>&lt;dbl&gt;</th><th scope=col>&lt;dbl&gt;</th><th scope=col>&lt;dbl&gt;</th><th scope=col>&lt;dbl&gt;</th><th scope=col>&lt;dbl&gt;</th><th scope=col>&lt;dbl&gt;</th></tr>\n",
       "</thead>\n",
       "<tbody>\n",
       "\t<tr><td>Ovis_aries</td><td> 29.35006</td><td> 9.543165</td><td>0.5260416</td><td>0.1785786</td><td> 21.65932</td><td> 7.180903</td><td> 1161.102</td><td> 377.627</td></tr>\n",
       "\t<tr><td>Bos_taurus</td><td>256.88794</td><td>99.988609</td><td>0.5980840</td><td>0.1761529</td><td>186.54783</td><td>70.914384</td><td>10157.566</td><td>3948.019</td></tr>\n",
       "\t<tr><td>⋮</td><td>⋮</td><td>⋮</td><td>⋮</td><td>⋮</td><td>⋮</td><td>⋮</td><td>⋮</td><td>⋮</td></tr>\n",
       "\t<tr><td>Macropus_eugenii    </td><td>0.903180</td><td>0.5400612</td><td>0.1758000</td><td>0.10620508</td><td>0.687320</td><td>0.4109866</td><td> 35.73455</td><td>21.36766</td></tr>\n",
       "\t<tr><td>Macropus_fuliginosus</td><td>2.868333</td><td>1.1103057</td><td>0.1506371</td><td>0.06839973</td><td>2.182802</td><td>0.8449427</td><td>121.41395</td><td>50.68523</td></tr>\n",
       "</tbody>\n",
       "</table>\n"
      ],
      "text/latex": [
       "A data.table: 10 × 9\n",
       "\\begin{tabular}{lllllllll}\n",
       " Species & CH4\\_L.d\\_mean & CH4\\_L.d\\_sd & CH4\\_L.kgBM\\_mean & CH4\\_L.kgBM\\_sd & CH4\\_g.d\\_mean & CH4\\_g.d\\_sd & CH4\\_kJ.d\\_mean & CH4\\_kJ.d\\_sd\\\\\n",
       " <chr> & <dbl> & <dbl> & <dbl> & <dbl> & <dbl> & <dbl> & <dbl> & <dbl>\\\\\n",
       "\\hline\n",
       "\t Ovis\\_aries &  29.35006 &  9.543165 & 0.5260416 & 0.1785786 &  21.65932 &  7.180903 &  1161.102 &  377.627\\\\\n",
       "\t Bos\\_taurus & 256.88794 & 99.988609 & 0.5980840 & 0.1761529 & 186.54783 & 70.914384 & 10157.566 & 3948.019\\\\\n",
       "\t ⋮ & ⋮ & ⋮ & ⋮ & ⋮ & ⋮ & ⋮ & ⋮ & ⋮\\\\\n",
       "\t Macropus\\_eugenii     & 0.903180 & 0.5400612 & 0.1758000 & 0.10620508 & 0.687320 & 0.4109866 &  35.73455 & 21.36766\\\\\n",
       "\t Macropus\\_fuliginosus & 2.868333 & 1.1103057 & 0.1506371 & 0.06839973 & 2.182802 & 0.8449427 & 121.41395 & 50.68523\\\\\n",
       "\\end{tabular}\n"
      ],
      "text/markdown": [
       "\n",
       "A data.table: 10 × 9\n",
       "\n",
       "| Species &lt;chr&gt; | CH4_L.d_mean &lt;dbl&gt; | CH4_L.d_sd &lt;dbl&gt; | CH4_L.kgBM_mean &lt;dbl&gt; | CH4_L.kgBM_sd &lt;dbl&gt; | CH4_g.d_mean &lt;dbl&gt; | CH4_g.d_sd &lt;dbl&gt; | CH4_kJ.d_mean &lt;dbl&gt; | CH4_kJ.d_sd &lt;dbl&gt; |\n",
       "|---|---|---|---|---|---|---|---|---|\n",
       "| Ovis_aries |  29.35006 |  9.543165 | 0.5260416 | 0.1785786 |  21.65932 |  7.180903 |  1161.102 |  377.627 |\n",
       "| Bos_taurus | 256.88794 | 99.988609 | 0.5980840 | 0.1761529 | 186.54783 | 70.914384 | 10157.566 | 3948.019 |\n",
       "| ⋮ | ⋮ | ⋮ | ⋮ | ⋮ | ⋮ | ⋮ | ⋮ | ⋮ |\n",
       "| Macropus_eugenii     | 0.903180 | 0.5400612 | 0.1758000 | 0.10620508 | 0.687320 | 0.4109866 |  35.73455 | 21.36766 |\n",
       "| Macropus_fuliginosus | 2.868333 | 1.1103057 | 0.1506371 | 0.06839973 | 2.182802 | 0.8449427 | 121.41395 | 50.68523 |\n",
       "\n"
      ],
      "text/plain": [
       "   Species              CH4_L.d_mean CH4_L.d_sd CH4_L.kgBM_mean CH4_L.kgBM_sd\n",
       "1  Ovis_aries            29.35006     9.543165  0.5260416       0.1785786    \n",
       "2  Bos_taurus           256.88794    99.988609  0.5980840       0.1761529    \n",
       "⋮  ⋮                    ⋮            ⋮          ⋮               ⋮            \n",
       "9  Macropus_eugenii     0.903180     0.5400612  0.1758000       0.10620508   \n",
       "10 Macropus_fuliginosus 2.868333     1.1103057  0.1506371       0.06839973   \n",
       "   CH4_g.d_mean CH4_g.d_sd CH4_kJ.d_mean CH4_kJ.d_sd\n",
       "1   21.65932     7.180903   1161.102      377.627   \n",
       "2  186.54783    70.914384  10157.566     3948.019   \n",
       "⋮  ⋮            ⋮          ⋮             ⋮          \n",
       "9  0.687320     0.4109866   35.73455     21.36766   \n",
       "10 2.182802     0.8449427  121.41395     50.68523   "
      ]
     },
     "metadata": {},
     "output_type": "display_data"
    }
   ],
   "source": [
    "# summarizing\n",
    "meth_f_s = meth_f %>%\n",
    "    dt_summarize(CH4_L.d_mean = mean(`CH4_L/d`, na.rm=TRUE),\n",
    "                 CH4_L.d_sd = sd(`CH4_L/d`, na.rm=TRUE),\n",
    "                 CH4_L.kgBM_mean = mean(`CH4_L/kgBM`, na.rm=TRUE),\n",
    "                 CH4_L.kgBM_sd = sd(`CH4_L/kgBM`, na.rm=TRUE),\n",
    "                 CH4_g.d_mean = mean(`CH4_g/d`, na.rm=TRUE),\n",
    "                 CH4_g.d_sd = sd(`CH4_g/d`, na.rm=TRUE),\n",
    "                 CH4_kJ.d_mean = mean(`CH4_kJ/d`, na.rm=TRUE),\n",
    "                 CH4_kJ.d_sd = sd(`CH4_kJ/d`, na.rm=TRUE),\n",
    "                 by=c(Species))\n",
    "meth_f_s"
   ]
  },
  {
   "cell_type": "code",
   "execution_count": 60,
   "metadata": {
    "ExecuteTime": {
     "end_time": "2020-05-27T08:00:41.671165Z",
     "start_time": "2020-05-27T08:00:40.921Z"
    }
   },
   "outputs": [
    {
     "data": {
      "image/png": "[encoded data removed]",
      "text/plain": [
       "plot without title"
      ]
     },
     "metadata": {
      "image/png": {
       "height": 500,
       "width": 600
      },
      "text/plain": {
       "height": 500,
       "width": 600
      }
     },
     "output_type": "display_data"
    }
   ],
   "source": [
    "# formatting to long version\n",
    "x = meth_f_s %>%\n",
    "    dt_select(Species, dt_ends_with('_mean')) %>%\n",
    "    dt_pivot_longer(cols = c(-Species), names_to = 'measure', values_to = 'mean_value') %>%\n",
    "    dt_mutate(measure = gsub('_mean$', '', measure))\n",
    "y = meth_f_s %>%\n",
    "    dt_select(Species, dt_ends_with('_sd')) %>%\n",
    "    dt_pivot_longer(cols = c(-Species), names_to = 'measure', values_to = 'sd_value')  %>%\n",
    "    dt_mutate(measure = gsub('_sd$', '', measure))\n",
    "\n",
    "meth_f_s_s = x %>%\n",
    "    dt_inner_join(y, c('Species', 'measure'))\n",
    "\n",
    "# plotting\n",
    "p = meth_f_s_s %>%\n",
    "    dt_mutate(Species = gsub('_', ' ', Species)) %>%\n",
    "    ggplot(aes(Species, mean_value)) +\n",
    "    geom_linerange(aes(ymin=mean_value-sd_value,\n",
    "                       ymax=mean_value+sd_value)) +\n",
    "    geom_point() +\n",
    "    labs(y='Mean value') +\n",
    "    facet_wrap(~ measure, scales='free_y') +\n",
    "    theme_bw() +\n",
    "    theme(\n",
    "        axis.text.x = element_text(angle=55, hjust=1)\n",
    "    )\n",
    "\n",
    "p.dims(6,5)\n",
    "plot(p)"
   ]
  },
  {
   "cell_type": "code",
   "execution_count": 61,
   "metadata": {
    "ExecuteTime": {
     "end_time": "2020-05-27T08:00:46.306723Z",
     "start_time": "2020-05-27T08:00:46.035Z"
    }
   },
   "outputs": [
    {
     "data": {
      "text/html": [
       "<table>\n",
       "<caption>A data.table: 475 × 88</caption>\n",
       "<thead>\n",
       "\t<tr><th scope=col>SampleID</th><th scope=col>host_subject_id</th><th scope=col>host_german_name</th><th scope=col>host_common_name</th><th scope=col>scientific_name</th><th scope=col>scientific_name_subspecies</th><th scope=col>host_taxid</th><th scope=col>class</th><th scope=col>order</th><th scope=col>family</th><th scope=col>⋯</th><th scope=col>CH4_kJ.d_mean</th><th scope=col>CH4_kJ.d_sd</th><th scope=col>i.CH4_L.d_mean</th><th scope=col>i.CH4_L.d_sd</th><th scope=col>i.CH4_L.kgBM_mean</th><th scope=col>i.CH4_L.kgBM_sd</th><th scope=col>i.CH4_g.d_mean</th><th scope=col>i.CH4_g.d_sd</th><th scope=col>i.CH4_kJ.d_mean</th><th scope=col>i.CH4_kJ.d_sd</th></tr>\n",
       "\t<tr><th scope=col>&lt;chr&gt;</th><th scope=col>&lt;chr&gt;</th><th scope=col>&lt;chr&gt;</th><th scope=col>&lt;chr&gt;</th><th scope=col>&lt;chr&gt;</th><th scope=col>&lt;chr&gt;</th><th scope=col>&lt;int&gt;</th><th scope=col>&lt;chr&gt;</th><th scope=col>&lt;chr&gt;</th><th scope=col>&lt;chr&gt;</th><th scope=col>⋯</th><th scope=col>&lt;dbl&gt;</th><th scope=col>&lt;dbl&gt;</th><th scope=col>&lt;dbl&gt;</th><th scope=col>&lt;dbl&gt;</th><th scope=col>&lt;dbl&gt;</th><th scope=col>&lt;dbl&gt;</th><th scope=col>&lt;dbl&gt;</th><th scope=col>&lt;dbl&gt;</th><th scope=col>&lt;dbl&gt;</th><th scope=col>&lt;dbl&gt;</th></tr>\n",
       "</thead>\n",
       "<tbody>\n",
       "\t<tr><td>F14_Common_Bream</td><td>F14</td><td>Brachse  </td><td>Common.Bream</td><td>Abramis_brama </td><td>NA</td><td>38527</td><td>Actinopterygii</td><td>Cypriniformes</td><td>Cyprinidae</td><td>⋯</td><td>      NA</td><td>      NA</td><td>      NA</td><td>      NA</td><td>       NA</td><td>       NA</td><td>      NA</td><td>      NA</td><td>      NA</td><td>      NA</td></tr>\n",
       "\t<tr><td>F35_Red_Deer    </td><td>F35</td><td>Rothirsch</td><td>Red.Deer    </td><td>Cervus_elaphus</td><td>NA</td><td> 9860</td><td>Mammalia      </td><td>Artiodactyla </td><td>Cervidae  </td><td>⋯</td><td>2066.942</td><td>1075.505</td><td>52.24132</td><td>27.18306</td><td>0.4858472</td><td>0.1686955</td><td>38.67117</td><td>21.30162</td><td>2066.942</td><td>1075.505</td></tr>\n",
       "\t<tr><td>⋮</td><td>⋮</td><td>⋮</td><td>⋮</td><td>⋮</td><td>⋮</td><td>⋮</td><td>⋮</td><td>⋮</td><td>⋮</td><td>⋱</td><td>⋮</td><td>⋮</td><td>⋮</td><td>⋮</td><td>⋮</td><td>⋮</td><td>⋮</td><td>⋮</td><td>⋮</td><td>⋮</td></tr>\n",
       "\t<tr><td>X189_fail_Rainbow_Trout</td><td>189.fail</td><td>Regenbogenforelle</td><td>Rainbow.Trout</td><td>Oncorhynchus_mykiss</td><td>NA</td><td>8022</td><td>Actinopterygii</td><td>Salmoniformes</td><td>Salmonidae</td><td>⋯</td><td>NA</td><td>NA</td><td>NA</td><td>NA</td><td>NA</td><td>NA</td><td>NA</td><td>NA</td><td>NA</td><td>NA</td></tr>\n",
       "\t<tr><td>X232_fail_Brown_Trout  </td><td>232.fail</td><td>Seeforelle       </td><td>Brown.Trout  </td><td>Salmo_trutta       </td><td>NA</td><td>8032</td><td>Actinopterygii</td><td>Salmoniformes</td><td>Salmonidae</td><td>⋯</td><td>NA</td><td>NA</td><td>NA</td><td>NA</td><td>NA</td><td>NA</td><td>NA</td><td>NA</td><td>NA</td><td>NA</td></tr>\n",
       "</tbody>\n",
       "</table>\n"
      ],
      "text/latex": [
       "A data.table: 475 × 88\n",
       "\\begin{tabular}{lllllllllllllllllllll}\n",
       " SampleID & host\\_subject\\_id & host\\_german\\_name & host\\_common\\_name & scientific\\_name & scientific\\_name\\_subspecies & host\\_taxid & class & order & family & ⋯ & CH4\\_kJ.d\\_mean & CH4\\_kJ.d\\_sd & i.CH4\\_L.d\\_mean & i.CH4\\_L.d\\_sd & i.CH4\\_L.kgBM\\_mean & i.CH4\\_L.kgBM\\_sd & i.CH4\\_g.d\\_mean & i.CH4\\_g.d\\_sd & i.CH4\\_kJ.d\\_mean & i.CH4\\_kJ.d\\_sd\\\\\n",
       " <chr> & <chr> & <chr> & <chr> & <chr> & <chr> & <int> & <chr> & <chr> & <chr> & ⋯ & <dbl> & <dbl> & <dbl> & <dbl> & <dbl> & <dbl> & <dbl> & <dbl> & <dbl> & <dbl>\\\\\n",
       "\\hline\n",
       "\t F14\\_Common\\_Bream & F14 & Brachse   & Common.Bream & Abramis\\_brama  & NA & 38527 & Actinopterygii & Cypriniformes & Cyprinidae & ⋯ &       NA &       NA &       NA &       NA &        NA &        NA &       NA &       NA &       NA &       NA\\\\\n",
       "\t F35\\_Red\\_Deer     & F35 & Rothirsch & Red.Deer     & Cervus\\_elaphus & NA &  9860 & Mammalia       & Artiodactyla  & Cervidae   & ⋯ & 2066.942 & 1075.505 & 52.24132 & 27.18306 & 0.4858472 & 0.1686955 & 38.67117 & 21.30162 & 2066.942 & 1075.505\\\\\n",
       "\t ⋮ & ⋮ & ⋮ & ⋮ & ⋮ & ⋮ & ⋮ & ⋮ & ⋮ & ⋮ & ⋱ & ⋮ & ⋮ & ⋮ & ⋮ & ⋮ & ⋮ & ⋮ & ⋮ & ⋮ & ⋮\\\\\n",
       "\t X189\\_fail\\_Rainbow\\_Trout & 189.fail & Regenbogenforelle & Rainbow.Trout & Oncorhynchus\\_mykiss & NA & 8022 & Actinopterygii & Salmoniformes & Salmonidae & ⋯ & NA & NA & NA & NA & NA & NA & NA & NA & NA & NA\\\\\n",
       "\t X232\\_fail\\_Brown\\_Trout   & 232.fail & Seeforelle        & Brown.Trout   & Salmo\\_trutta        & NA & 8032 & Actinopterygii & Salmoniformes & Salmonidae & ⋯ & NA & NA & NA & NA & NA & NA & NA & NA & NA & NA\\\\\n",
       "\\end{tabular}\n"
      ],
      "text/markdown": [
       "\n",
       "A data.table: 475 × 88\n",
       "\n",
       "| SampleID &lt;chr&gt; | host_subject_id &lt;chr&gt; | host_german_name &lt;chr&gt; | host_common_name &lt;chr&gt; | scientific_name &lt;chr&gt; | scientific_name_subspecies &lt;chr&gt; | host_taxid &lt;int&gt; | class &lt;chr&gt; | order &lt;chr&gt; | family &lt;chr&gt; | ⋯ ⋯ | CH4_kJ.d_mean &lt;dbl&gt; | CH4_kJ.d_sd &lt;dbl&gt; | i.CH4_L.d_mean &lt;dbl&gt; | i.CH4_L.d_sd &lt;dbl&gt; | i.CH4_L.kgBM_mean &lt;dbl&gt; | i.CH4_L.kgBM_sd &lt;dbl&gt; | i.CH4_g.d_mean &lt;dbl&gt; | i.CH4_g.d_sd &lt;dbl&gt; | i.CH4_kJ.d_mean &lt;dbl&gt; | i.CH4_kJ.d_sd &lt;dbl&gt; |\n",
       "|---|---|---|---|---|---|---|---|---|---|---|---|---|---|---|---|---|---|---|---|---|\n",
       "| F14_Common_Bream | F14 | Brachse   | Common.Bream | Abramis_brama  | NA | 38527 | Actinopterygii | Cypriniformes | Cyprinidae | ⋯ |       NA |       NA |       NA |       NA |        NA |        NA |       NA |       NA |       NA |       NA |\n",
       "| F35_Red_Deer     | F35 | Rothirsch | Red.Deer     | Cervus_elaphus | NA |  9860 | Mammalia       | Artiodactyla  | Cervidae   | ⋯ | 2066.942 | 1075.505 | 52.24132 | 27.18306 | 0.4858472 | 0.1686955 | 38.67117 | 21.30162 | 2066.942 | 1075.505 |\n",
       "| ⋮ | ⋮ | ⋮ | ⋮ | ⋮ | ⋮ | ⋮ | ⋮ | ⋮ | ⋮ | ⋱ | ⋮ | ⋮ | ⋮ | ⋮ | ⋮ | ⋮ | ⋮ | ⋮ | ⋮ | ⋮ |\n",
       "| X189_fail_Rainbow_Trout | 189.fail | Regenbogenforelle | Rainbow.Trout | Oncorhynchus_mykiss | NA | 8022 | Actinopterygii | Salmoniformes | Salmonidae | ⋯ | NA | NA | NA | NA | NA | NA | NA | NA | NA | NA |\n",
       "| X232_fail_Brown_Trout   | 232.fail | Seeforelle        | Brown.Trout   | Salmo_trutta        | NA | 8032 | Actinopterygii | Salmoniformes | Salmonidae | ⋯ | NA | NA | NA | NA | NA | NA | NA | NA | NA | NA |\n",
       "\n"
      ],
      "text/plain": [
       "    SampleID                host_subject_id host_german_name  host_common_name\n",
       "1   F14_Common_Bream        F14             Brachse           Common.Bream    \n",
       "2   F35_Red_Deer            F35             Rothirsch         Red.Deer        \n",
       "⋮   ⋮                       ⋮               ⋮                 ⋮               \n",
       "474 X189_fail_Rainbow_Trout 189.fail        Regenbogenforelle Rainbow.Trout   \n",
       "475 X232_fail_Brown_Trout   232.fail        Seeforelle        Brown.Trout     \n",
       "    scientific_name     scientific_name_subspecies host_taxid class         \n",
       "1   Abramis_brama       NA                         38527      Actinopterygii\n",
       "2   Cervus_elaphus      NA                          9860      Mammalia      \n",
       "⋮   ⋮                   ⋮                          ⋮          ⋮             \n",
       "474 Oncorhynchus_mykiss NA                         8022       Actinopterygii\n",
       "475 Salmo_trutta        NA                         8032       Actinopterygii\n",
       "    order         family     ⋯ CH4_kJ.d_mean CH4_kJ.d_sd i.CH4_L.d_mean\n",
       "1   Cypriniformes Cyprinidae ⋯       NA            NA          NA      \n",
       "2   Artiodactyla  Cervidae   ⋯ 2066.942      1075.505    52.24132      \n",
       "⋮   ⋮             ⋮          ⋱ ⋮             ⋮           ⋮             \n",
       "474 Salmoniformes Salmonidae ⋯ NA            NA          NA            \n",
       "475 Salmoniformes Salmonidae ⋯ NA            NA          NA            \n",
       "    i.CH4_L.d_sd i.CH4_L.kgBM_mean i.CH4_L.kgBM_sd i.CH4_g.d_mean i.CH4_g.d_sd\n",
       "1         NA            NA                NA             NA             NA    \n",
       "2   27.18306     0.4858472         0.1686955       38.67117       21.30162    \n",
       "⋮   ⋮            ⋮                 ⋮               ⋮              ⋮           \n",
       "474 NA           NA                NA              NA             NA          \n",
       "475 NA           NA                NA              NA             NA          \n",
       "    i.CH4_kJ.d_mean i.CH4_kJ.d_sd\n",
       "1         NA              NA     \n",
       "2   2066.942        1075.505     \n",
       "⋮   ⋮               ⋮            \n",
       "474 NA              NA           \n",
       "475 NA              NA           "
      ]
     },
     "metadata": {},
     "output_type": "display_data"
    }
   ],
   "source": [
    "# adding values to metadata\n",
    "host_meta = host_meta %>%\n",
    "    dt_left_join(meth_f_s, c('scientific_name' = 'Species'))\n",
    "host_meta"
   ]
  },
  {
   "cell_type": "markdown",
   "metadata": {},
   "source": [
    "# Filtering metadata"
   ]
  },
  {
   "cell_type": "code",
   "execution_count": 62,
   "metadata": {
    "ExecuteTime": {
     "end_time": "2020-05-27T08:00:47.792891Z",
     "start_time": "2020-05-27T08:00:47.738Z"
    }
   },
   "outputs": [
    {
     "name": "stdout",
     "output_type": "stream",
     "text": [
      "intersect(x,y): 185 \n",
      "setdiff(x,y): 0 \n",
      "setdiff(y,x): 290 \n",
      "union(x,y): 475 \n"
     ]
    }
   ],
   "source": [
    "# original and updated metadata\n",
    "overlap(physeq_arch_IndD %>% sample_data %>% .$SampleID,\n",
    "        host_meta %>% dt_pull(SampleID))"
   ]
  },
  {
   "cell_type": "code",
   "execution_count": 63,
   "metadata": {
    "ExecuteTime": {
     "end_time": "2020-05-27T08:00:48.824898Z",
     "start_time": "2020-05-27T08:00:48.665Z"
    }
   },
   "outputs": [
    {
     "data": {
      "text/html": [
       "<table>\n",
       "<caption>A data.table: 185 × 88</caption>\n",
       "<thead>\n",
       "\t<tr><th scope=col>SampleID</th><th scope=col>host_subject_id</th><th scope=col>host_german_name</th><th scope=col>host_common_name</th><th scope=col>scientific_name</th><th scope=col>scientific_name_subspecies</th><th scope=col>host_taxid</th><th scope=col>class</th><th scope=col>order</th><th scope=col>family</th><th scope=col>⋯</th><th scope=col>CH4_kJ.d_mean</th><th scope=col>CH4_kJ.d_sd</th><th scope=col>i.CH4_L.d_mean</th><th scope=col>i.CH4_L.d_sd</th><th scope=col>i.CH4_L.kgBM_mean</th><th scope=col>i.CH4_L.kgBM_sd</th><th scope=col>i.CH4_g.d_mean</th><th scope=col>i.CH4_g.d_sd</th><th scope=col>i.CH4_kJ.d_mean</th><th scope=col>i.CH4_kJ.d_sd</th></tr>\n",
       "\t<tr><th scope=col>&lt;chr&gt;</th><th scope=col>&lt;chr&gt;</th><th scope=col>&lt;chr&gt;</th><th scope=col>&lt;chr&gt;</th><th scope=col>&lt;chr&gt;</th><th scope=col>&lt;chr&gt;</th><th scope=col>&lt;int&gt;</th><th scope=col>&lt;chr&gt;</th><th scope=col>&lt;chr&gt;</th><th scope=col>&lt;chr&gt;</th><th scope=col>⋯</th><th scope=col>&lt;dbl&gt;</th><th scope=col>&lt;dbl&gt;</th><th scope=col>&lt;dbl&gt;</th><th scope=col>&lt;dbl&gt;</th><th scope=col>&lt;dbl&gt;</th><th scope=col>&lt;dbl&gt;</th><th scope=col>&lt;dbl&gt;</th><th scope=col>&lt;dbl&gt;</th><th scope=col>&lt;dbl&gt;</th><th scope=col>&lt;dbl&gt;</th></tr>\n",
       "</thead>\n",
       "<tbody>\n",
       "\t<tr><td>F14_Common_Bream</td><td>F14</td><td>Brachse  </td><td>Common.Bream</td><td>Abramis_brama </td><td>NA</td><td>38527</td><td>Actinopterygii</td><td>Cypriniformes</td><td>Cyprinidae</td><td>⋯</td><td>      NA</td><td>      NA</td><td>      NA</td><td>      NA</td><td>       NA</td><td>       NA</td><td>      NA</td><td>      NA</td><td>      NA</td><td>      NA</td></tr>\n",
       "\t<tr><td>F35_Red_Deer    </td><td>F35</td><td>Rothirsch</td><td>Red.Deer    </td><td>Cervus_elaphus</td><td>NA</td><td> 9860</td><td>Mammalia      </td><td>Artiodactyla </td><td>Cervidae  </td><td>⋯</td><td>2066.942</td><td>1075.505</td><td>52.24132</td><td>27.18306</td><td>0.4858472</td><td>0.1686955</td><td>38.67117</td><td>21.30162</td><td>2066.942</td><td>1075.505</td></tr>\n",
       "\t<tr><td>⋮</td><td>⋮</td><td>⋮</td><td>⋮</td><td>⋮</td><td>⋮</td><td>⋮</td><td>⋮</td><td>⋮</td><td>⋮</td><td>⋱</td><td>⋮</td><td>⋮</td><td>⋮</td><td>⋮</td><td>⋮</td><td>⋮</td><td>⋮</td><td>⋮</td><td>⋮</td><td>⋮</td></tr>\n",
       "\t<tr><td>X67_European_Roe </td><td>67</td><td>Reh     </td><td>European.Roe </td><td>Capreolus_capreolus</td><td>NA</td><td>9858</td><td>Mammalia</td><td>Artiodactyla</td><td>Cervidae </td><td>⋯</td><td>NA</td><td>NA</td><td>NA</td><td>NA</td><td>NA</td><td>NA</td><td>NA</td><td>NA</td><td>NA</td><td>NA</td></tr>\n",
       "\t<tr><td>X96_European_Hare</td><td>96</td><td>Feldhase</td><td>European.Hare</td><td>Lepus_europaeus    </td><td>NA</td><td>9983</td><td>Mammalia</td><td>Lagomorpha  </td><td>Leporidae</td><td>⋯</td><td>NA</td><td>NA</td><td>NA</td><td>NA</td><td>NA</td><td>NA</td><td>NA</td><td>NA</td><td>NA</td><td>NA</td></tr>\n",
       "</tbody>\n",
       "</table>\n"
      ],
      "text/latex": [
       "A data.table: 185 × 88\n",
       "\\begin{tabular}{lllllllllllllllllllll}\n",
       " SampleID & host\\_subject\\_id & host\\_german\\_name & host\\_common\\_name & scientific\\_name & scientific\\_name\\_subspecies & host\\_taxid & class & order & family & ⋯ & CH4\\_kJ.d\\_mean & CH4\\_kJ.d\\_sd & i.CH4\\_L.d\\_mean & i.CH4\\_L.d\\_sd & i.CH4\\_L.kgBM\\_mean & i.CH4\\_L.kgBM\\_sd & i.CH4\\_g.d\\_mean & i.CH4\\_g.d\\_sd & i.CH4\\_kJ.d\\_mean & i.CH4\\_kJ.d\\_sd\\\\\n",
       " <chr> & <chr> & <chr> & <chr> & <chr> & <chr> & <int> & <chr> & <chr> & <chr> & ⋯ & <dbl> & <dbl> & <dbl> & <dbl> & <dbl> & <dbl> & <dbl> & <dbl> & <dbl> & <dbl>\\\\\n",
       "\\hline\n",
       "\t F14\\_Common\\_Bream & F14 & Brachse   & Common.Bream & Abramis\\_brama  & NA & 38527 & Actinopterygii & Cypriniformes & Cyprinidae & ⋯ &       NA &       NA &       NA &       NA &        NA &        NA &       NA &       NA &       NA &       NA\\\\\n",
       "\t F35\\_Red\\_Deer     & F35 & Rothirsch & Red.Deer     & Cervus\\_elaphus & NA &  9860 & Mammalia       & Artiodactyla  & Cervidae   & ⋯ & 2066.942 & 1075.505 & 52.24132 & 27.18306 & 0.4858472 & 0.1686955 & 38.67117 & 21.30162 & 2066.942 & 1075.505\\\\\n",
       "\t ⋮ & ⋮ & ⋮ & ⋮ & ⋮ & ⋮ & ⋮ & ⋮ & ⋮ & ⋮ & ⋱ & ⋮ & ⋮ & ⋮ & ⋮ & ⋮ & ⋮ & ⋮ & ⋮ & ⋮ & ⋮\\\\\n",
       "\t X67\\_European\\_Roe  & 67 & Reh      & European.Roe  & Capreolus\\_capreolus & NA & 9858 & Mammalia & Artiodactyla & Cervidae  & ⋯ & NA & NA & NA & NA & NA & NA & NA & NA & NA & NA\\\\\n",
       "\t X96\\_European\\_Hare & 96 & Feldhase & European.Hare & Lepus\\_europaeus     & NA & 9983 & Mammalia & Lagomorpha   & Leporidae & ⋯ & NA & NA & NA & NA & NA & NA & NA & NA & NA & NA\\\\\n",
       "\\end{tabular}\n"
      ],
      "text/markdown": [
       "\n",
       "A data.table: 185 × 88\n",
       "\n",
       "| SampleID &lt;chr&gt; | host_subject_id &lt;chr&gt; | host_german_name &lt;chr&gt; | host_common_name &lt;chr&gt; | scientific_name &lt;chr&gt; | scientific_name_subspecies &lt;chr&gt; | host_taxid &lt;int&gt; | class &lt;chr&gt; | order &lt;chr&gt; | family &lt;chr&gt; | ⋯ ⋯ | CH4_kJ.d_mean &lt;dbl&gt; | CH4_kJ.d_sd &lt;dbl&gt; | i.CH4_L.d_mean &lt;dbl&gt; | i.CH4_L.d_sd &lt;dbl&gt; | i.CH4_L.kgBM_mean &lt;dbl&gt; | i.CH4_L.kgBM_sd &lt;dbl&gt; | i.CH4_g.d_mean &lt;dbl&gt; | i.CH4_g.d_sd &lt;dbl&gt; | i.CH4_kJ.d_mean &lt;dbl&gt; | i.CH4_kJ.d_sd &lt;dbl&gt; |\n",
       "|---|---|---|---|---|---|---|---|---|---|---|---|---|---|---|---|---|---|---|---|---|\n",
       "| F14_Common_Bream | F14 | Brachse   | Common.Bream | Abramis_brama  | NA | 38527 | Actinopterygii | Cypriniformes | Cyprinidae | ⋯ |       NA |       NA |       NA |       NA |        NA |        NA |       NA |       NA |       NA |       NA |\n",
       "| F35_Red_Deer     | F35 | Rothirsch | Red.Deer     | Cervus_elaphus | NA |  9860 | Mammalia       | Artiodactyla  | Cervidae   | ⋯ | 2066.942 | 1075.505 | 52.24132 | 27.18306 | 0.4858472 | 0.1686955 | 38.67117 | 21.30162 | 2066.942 | 1075.505 |\n",
       "| ⋮ | ⋮ | ⋮ | ⋮ | ⋮ | ⋮ | ⋮ | ⋮ | ⋮ | ⋮ | ⋱ | ⋮ | ⋮ | ⋮ | ⋮ | ⋮ | ⋮ | ⋮ | ⋮ | ⋮ | ⋮ |\n",
       "| X67_European_Roe  | 67 | Reh      | European.Roe  | Capreolus_capreolus | NA | 9858 | Mammalia | Artiodactyla | Cervidae  | ⋯ | NA | NA | NA | NA | NA | NA | NA | NA | NA | NA |\n",
       "| X96_European_Hare | 96 | Feldhase | European.Hare | Lepus_europaeus     | NA | 9983 | Mammalia | Lagomorpha   | Leporidae | ⋯ | NA | NA | NA | NA | NA | NA | NA | NA | NA | NA |\n",
       "\n"
      ],
      "text/plain": [
       "    SampleID          host_subject_id host_german_name host_common_name\n",
       "1   F14_Common_Bream  F14             Brachse          Common.Bream    \n",
       "2   F35_Red_Deer      F35             Rothirsch        Red.Deer        \n",
       "⋮   ⋮                 ⋮               ⋮                ⋮               \n",
       "184 X67_European_Roe  67              Reh              European.Roe    \n",
       "185 X96_European_Hare 96              Feldhase         European.Hare   \n",
       "    scientific_name     scientific_name_subspecies host_taxid class         \n",
       "1   Abramis_brama       NA                         38527      Actinopterygii\n",
       "2   Cervus_elaphus      NA                          9860      Mammalia      \n",
       "⋮   ⋮                   ⋮                          ⋮          ⋮             \n",
       "184 Capreolus_capreolus NA                         9858       Mammalia      \n",
       "185 Lepus_europaeus     NA                         9983       Mammalia      \n",
       "    order         family     ⋯ CH4_kJ.d_mean CH4_kJ.d_sd i.CH4_L.d_mean\n",
       "1   Cypriniformes Cyprinidae ⋯       NA            NA          NA      \n",
       "2   Artiodactyla  Cervidae   ⋯ 2066.942      1075.505    52.24132      \n",
       "⋮   ⋮             ⋮          ⋱ ⋮             ⋮           ⋮             \n",
       "184 Artiodactyla  Cervidae   ⋯ NA            NA          NA            \n",
       "185 Lagomorpha    Leporidae  ⋯ NA            NA          NA            \n",
       "    i.CH4_L.d_sd i.CH4_L.kgBM_mean i.CH4_L.kgBM_sd i.CH4_g.d_mean i.CH4_g.d_sd\n",
       "1         NA            NA                NA             NA             NA    \n",
       "2   27.18306     0.4858472         0.1686955       38.67117       21.30162    \n",
       "⋮   ⋮            ⋮                 ⋮               ⋮              ⋮           \n",
       "184 NA           NA                NA              NA             NA          \n",
       "185 NA           NA                NA              NA             NA          \n",
       "    i.CH4_kJ.d_mean i.CH4_kJ.d_sd\n",
       "1         NA              NA     \n",
       "2   2066.942        1075.505     \n",
       "⋮   ⋮               ⋮            \n",
       "184 NA              NA           \n",
       "185 NA              NA           "
      ]
     },
     "metadata": {},
     "output_type": "display_data"
    }
   ],
   "source": [
    "# filtering to just 16S samples\n",
    "x = physeq_arch_IndD %>% sample_data %>% .$SampleID\n",
    "host_meta_f = host_meta %>%\n",
    "    dt_filter(SampleID %in% x)\n",
    "host_meta_f   "
   ]
  },
  {
   "cell_type": "markdown",
   "metadata": {},
   "source": [
    "# Updating phyloseq objects"
   ]
  },
  {
   "cell_type": "markdown",
   "metadata": {},
   "source": [
    "## IndD"
   ]
  },
  {
   "cell_type": "code",
   "execution_count": 64,
   "metadata": {
    "ExecuteTime": {
     "end_time": "2020-05-27T08:00:50.501998Z",
     "start_time": "2020-05-27T08:00:50.456Z"
    }
   },
   "outputs": [
    {
     "data": {
      "text/plain": [
       "phyloseq-class experiment-level object\n",
       "otu_table()   OTU Table:         [ 1891 taxa and 185 samples ]\n",
       "sample_data() Sample Data:       [ 185 samples by 74 sample variables ]\n",
       "tax_table()   Taxonomy Table:    [ 1891 taxa by 7 taxonomic ranks ]\n",
       "phy_tree()    Phylogenetic Tree: [ 1891 tips and 1888 internal nodes ]"
      ]
     },
     "metadata": {},
     "output_type": "display_data"
    }
   ],
   "source": [
    "# physeq object overview\n",
    "physeq_arch_IndD"
   ]
  },
  {
   "cell_type": "code",
   "execution_count": 65,
   "metadata": {
    "ExecuteTime": {
     "end_time": "2020-05-27T08:00:55.507200Z",
     "start_time": "2020-05-27T08:00:55.368Z"
    }
   },
   "outputs": [
    {
     "data": {
      "text/html": [
       "<ol class=list-inline>\n",
       "\t<li>'SampleID'</li>\n",
       "\t<li>'host_subject_id'</li>\n",
       "\t<li>'host_german_name'</li>\n",
       "\t<li>'host_common_name'</li>\n",
       "\t<li>'scientific_name'</li>\n",
       "\t<li>'scientific_name_subspecies'</li>\n",
       "\t<li>'host_taxid'</li>\n",
       "\t<li>'class'</li>\n",
       "\t<li>'order'</li>\n",
       "\t<li>'family'</li>\n",
       "\t<li>'genus'</li>\n",
       "\t<li>'sample_type'</li>\n",
       "\t<li>'sex'</li>\n",
       "\t<li>'pregnant_animal'</li>\n",
       "\t<li>'age'</li>\n",
       "\t<li>'host_body_temp'</li>\n",
       "\t<li>'disease_stat'</li>\n",
       "\t<li>'body_habitat'</li>\n",
       "\t<li>'body_product'</li>\n",
       "\t<li>'No_individuals'</li>\n",
       "\t<li>'species_replicates'</li>\n",
       "\t<li>'indiv_coreset'</li>\n",
       "\t<li>'duplicates_group'</li>\n",
       "\t<li>'duplicates_common_name'</li>\n",
       "\t<li>'pass_fail_info'</li>\n",
       "\t<li>'coreset'</li>\n",
       "\t<li>'population_species'</li>\n",
       "\t<li>'ruminant'</li>\n",
       "\t<li>'pseudoruminants'</li>\n",
       "\t<li>'wild_domesticated'</li>\n",
       "\t<li>'captive_wild'</li>\n",
       "\t<li>'captive_wild_exp'</li>\n",
       "\t<li>'captive_origin'</li>\n",
       "\t<li>'geo_loc_name'</li>\n",
       "\t<li>'country'</li>\n",
       "\t<li>'region'</li>\n",
       "\t<li>'location'</li>\n",
       "\t<li>'location_detail'</li>\n",
       "\t<li>'latitude'</li>\n",
       "\t<li>'longitude'</li>\n",
       "\t<li>'elev'</li>\n",
       "\t<li>'geo_feature'</li>\n",
       "\t<li>'geo_feature_detail_1'</li>\n",
       "\t<li>'geo_feature_detail_2'</li>\n",
       "\t<li>'geo_feature_detail_3'</li>\n",
       "\t<li>'geo_feature_detail_4'</li>\n",
       "\t<li>'habitat'</li>\n",
       "\t<li>'habitat_detail'</li>\n",
       "\t<li>'habitat_detail_1'</li>\n",
       "\t<li>'habitat_detail_2'</li>\n",
       "\t<li>'biome'</li>\n",
       "\t<li>'diet_detail'</li>\n",
       "\t<li>'diet_breadth'</li>\n",
       "\t<li>'diet_breadth_gabrielle'</li>\n",
       "\t<li>'diet_vertebrate'</li>\n",
       "\t<li>'diet_invertebrate'</li>\n",
       "\t<li>'diet_fruit'</li>\n",
       "\t<li>'diet_flowers_nectar_pollen'</li>\n",
       "\t<li>'diet_leaves_branches_bark_buds'</li>\n",
       "\t<li>'diet_seeds'</li>\n",
       "\t<li>'diet_grass_waterplants'</li>\n",
       "\t<li>'diet_roots_tubers'</li>\n",
       "\t<li>'temp_regulation'</li>\n",
       "\t<li>'collection_date'</li>\n",
       "\t<li>'season'</li>\n",
       "\t<li>'samp_store_days'</li>\n",
       "\t<li>'samp_collect_device'</li>\n",
       "\t<li>'sampling_method'</li>\n",
       "\t<li>'diet'</li>\n",
       "\t<li>'feeding_style'</li>\n",
       "\t<li>'digestive_system'</li>\n",
       "\t<li>'digestive_system_detail'</li>\n",
       "\t<li>'CH4_L.d_mean'</li>\n",
       "\t<li>'CH4_L.d_sd'</li>\n",
       "\t<li>'CH4_L.kgBM_mean'</li>\n",
       "\t<li>'CH4_L.kgBM_sd'</li>\n",
       "\t<li>'CH4_g.d_mean'</li>\n",
       "\t<li>'CH4_g.d_sd'</li>\n",
       "\t<li>'CH4_kJ.d_mean'</li>\n",
       "\t<li>'CH4_kJ.d_sd'</li>\n",
       "\t<li>'i.CH4_L.d_mean'</li>\n",
       "\t<li>'i.CH4_L.d_sd'</li>\n",
       "\t<li>'i.CH4_L.kgBM_mean'</li>\n",
       "\t<li>'i.CH4_L.kgBM_sd'</li>\n",
       "\t<li>'i.CH4_g.d_mean'</li>\n",
       "\t<li>'i.CH4_g.d_sd'</li>\n",
       "\t<li>'i.CH4_kJ.d_mean'</li>\n",
       "\t<li>'i.CH4_kJ.d_sd'</li>\n",
       "</ol>\n"
      ],
      "text/latex": [
       "\\begin{enumerate*}\n",
       "\\item 'SampleID'\n",
       "\\item 'host\\_subject\\_id'\n",
       "\\item 'host\\_german\\_name'\n",
       "\\item 'host\\_common\\_name'\n",
       "\\item 'scientific\\_name'\n",
       "\\item 'scientific\\_name\\_subspecies'\n",
       "\\item 'host\\_taxid'\n",
       "\\item 'class'\n",
       "\\item 'order'\n",
       "\\item 'family'\n",
       "\\item 'genus'\n",
       "\\item 'sample\\_type'\n",
       "\\item 'sex'\n",
       "\\item 'pregnant\\_animal'\n",
       "\\item 'age'\n",
       "\\item 'host\\_body\\_temp'\n",
       "\\item 'disease\\_stat'\n",
       "\\item 'body\\_habitat'\n",
       "\\item 'body\\_product'\n",
       "\\item 'No\\_individuals'\n",
       "\\item 'species\\_replicates'\n",
       "\\item 'indiv\\_coreset'\n",
       "\\item 'duplicates\\_group'\n",
       "\\item 'duplicates\\_common\\_name'\n",
       "\\item 'pass\\_fail\\_info'\n",
       "\\item 'coreset'\n",
       "\\item 'population\\_species'\n",
       "\\item 'ruminant'\n",
       "\\item 'pseudoruminants'\n",
       "\\item 'wild\\_domesticated'\n",
       "\\item 'captive\\_wild'\n",
       "\\item 'captive\\_wild\\_exp'\n",
       "\\item 'captive\\_origin'\n",
       "\\item 'geo\\_loc\\_name'\n",
       "\\item 'country'\n",
       "\\item 'region'\n",
       "\\item 'location'\n",
       "\\item 'location\\_detail'\n",
       "\\item 'latitude'\n",
       "\\item 'longitude'\n",
       "\\item 'elev'\n",
       "\\item 'geo\\_feature'\n",
       "\\item 'geo\\_feature\\_detail\\_1'\n",
       "\\item 'geo\\_feature\\_detail\\_2'\n",
       "\\item 'geo\\_feature\\_detail\\_3'\n",
       "\\item 'geo\\_feature\\_detail\\_4'\n",
       "\\item 'habitat'\n",
       "\\item 'habitat\\_detail'\n",
       "\\item 'habitat\\_detail\\_1'\n",
       "\\item 'habitat\\_detail\\_2'\n",
       "\\item 'biome'\n",
       "\\item 'diet\\_detail'\n",
       "\\item 'diet\\_breadth'\n",
       "\\item 'diet\\_breadth\\_gabrielle'\n",
       "\\item 'diet\\_vertebrate'\n",
       "\\item 'diet\\_invertebrate'\n",
       "\\item 'diet\\_fruit'\n",
       "\\item 'diet\\_flowers\\_nectar\\_pollen'\n",
       "\\item 'diet\\_leaves\\_branches\\_bark\\_buds'\n",
       "\\item 'diet\\_seeds'\n",
       "\\item 'diet\\_grass\\_waterplants'\n",
       "\\item 'diet\\_roots\\_tubers'\n",
       "\\item 'temp\\_regulation'\n",
       "\\item 'collection\\_date'\n",
       "\\item 'season'\n",
       "\\item 'samp\\_store\\_days'\n",
       "\\item 'samp\\_collect\\_device'\n",
       "\\item 'sampling\\_method'\n",
       "\\item 'diet'\n",
       "\\item 'feeding\\_style'\n",
       "\\item 'digestive\\_system'\n",
       "\\item 'digestive\\_system\\_detail'\n",
       "\\item 'CH4\\_L.d\\_mean'\n",
       "\\item 'CH4\\_L.d\\_sd'\n",
       "\\item 'CH4\\_L.kgBM\\_mean'\n",
       "\\item 'CH4\\_L.kgBM\\_sd'\n",
       "\\item 'CH4\\_g.d\\_mean'\n",
       "\\item 'CH4\\_g.d\\_sd'\n",
       "\\item 'CH4\\_kJ.d\\_mean'\n",
       "\\item 'CH4\\_kJ.d\\_sd'\n",
       "\\item 'i.CH4\\_L.d\\_mean'\n",
       "\\item 'i.CH4\\_L.d\\_sd'\n",
       "\\item 'i.CH4\\_L.kgBM\\_mean'\n",
       "\\item 'i.CH4\\_L.kgBM\\_sd'\n",
       "\\item 'i.CH4\\_g.d\\_mean'\n",
       "\\item 'i.CH4\\_g.d\\_sd'\n",
       "\\item 'i.CH4\\_kJ.d\\_mean'\n",
       "\\item 'i.CH4\\_kJ.d\\_sd'\n",
       "\\end{enumerate*}\n"
      ],
      "text/markdown": [
       "1. 'SampleID'\n",
       "2. 'host_subject_id'\n",
       "3. 'host_german_name'\n",
       "4. 'host_common_name'\n",
       "5. 'scientific_name'\n",
       "6. 'scientific_name_subspecies'\n",
       "7. 'host_taxid'\n",
       "8. 'class'\n",
       "9. 'order'\n",
       "10. 'family'\n",
       "11. 'genus'\n",
       "12. 'sample_type'\n",
       "13. 'sex'\n",
       "14. 'pregnant_animal'\n",
       "15. 'age'\n",
       "16. 'host_body_temp'\n",
       "17. 'disease_stat'\n",
       "18. 'body_habitat'\n",
       "19. 'body_product'\n",
       "20. 'No_individuals'\n",
       "21. 'species_replicates'\n",
       "22. 'indiv_coreset'\n",
       "23. 'duplicates_group'\n",
       "24. 'duplicates_common_name'\n",
       "25. 'pass_fail_info'\n",
       "26. 'coreset'\n",
       "27. 'population_species'\n",
       "28. 'ruminant'\n",
       "29. 'pseudoruminants'\n",
       "30. 'wild_domesticated'\n",
       "31. 'captive_wild'\n",
       "32. 'captive_wild_exp'\n",
       "33. 'captive_origin'\n",
       "34. 'geo_loc_name'\n",
       "35. 'country'\n",
       "36. 'region'\n",
       "37. 'location'\n",
       "38. 'location_detail'\n",
       "39. 'latitude'\n",
       "40. 'longitude'\n",
       "41. 'elev'\n",
       "42. 'geo_feature'\n",
       "43. 'geo_feature_detail_1'\n",
       "44. 'geo_feature_detail_2'\n",
       "45. 'geo_feature_detail_3'\n",
       "46. 'geo_feature_detail_4'\n",
       "47. 'habitat'\n",
       "48. 'habitat_detail'\n",
       "49. 'habitat_detail_1'\n",
       "50. 'habitat_detail_2'\n",
       "51. 'biome'\n",
       "52. 'diet_detail'\n",
       "53. 'diet_breadth'\n",
       "54. 'diet_breadth_gabrielle'\n",
       "55. 'diet_vertebrate'\n",
       "56. 'diet_invertebrate'\n",
       "57. 'diet_fruit'\n",
       "58. 'diet_flowers_nectar_pollen'\n",
       "59. 'diet_leaves_branches_bark_buds'\n",
       "60. 'diet_seeds'\n",
       "61. 'diet_grass_waterplants'\n",
       "62. 'diet_roots_tubers'\n",
       "63. 'temp_regulation'\n",
       "64. 'collection_date'\n",
       "65. 'season'\n",
       "66. 'samp_store_days'\n",
       "67. 'samp_collect_device'\n",
       "68. 'sampling_method'\n",
       "69. 'diet'\n",
       "70. 'feeding_style'\n",
       "71. 'digestive_system'\n",
       "72. 'digestive_system_detail'\n",
       "73. 'CH4_L.d_mean'\n",
       "74. 'CH4_L.d_sd'\n",
       "75. 'CH4_L.kgBM_mean'\n",
       "76. 'CH4_L.kgBM_sd'\n",
       "77. 'CH4_g.d_mean'\n",
       "78. 'CH4_g.d_sd'\n",
       "79. 'CH4_kJ.d_mean'\n",
       "80. 'CH4_kJ.d_sd'\n",
       "81. 'i.CH4_L.d_mean'\n",
       "82. 'i.CH4_L.d_sd'\n",
       "83. 'i.CH4_L.kgBM_mean'\n",
       "84. 'i.CH4_L.kgBM_sd'\n",
       "85. 'i.CH4_g.d_mean'\n",
       "86. 'i.CH4_g.d_sd'\n",
       "87. 'i.CH4_kJ.d_mean'\n",
       "88. 'i.CH4_kJ.d_sd'\n",
       "\n",
       "\n"
      ],
      "text/plain": [
       " [1] \"SampleID\"                       \"host_subject_id\"               \n",
       " [3] \"host_german_name\"               \"host_common_name\"              \n",
       " [5] \"scientific_name\"                \"scientific_name_subspecies\"    \n",
       " [7] \"host_taxid\"                     \"class\"                         \n",
       " [9] \"order\"                          \"family\"                        \n",
       "[11] \"genus\"                          \"sample_type\"                   \n",
       "[13] \"sex\"                            \"pregnant_animal\"               \n",
       "[15] \"age\"                            \"host_body_temp\"                \n",
       "[17] \"disease_stat\"                   \"body_habitat\"                  \n",
       "[19] \"body_product\"                   \"No_individuals\"                \n",
       "[21] \"species_replicates\"             \"indiv_coreset\"                 \n",
       "[23] \"duplicates_group\"               \"duplicates_common_name\"        \n",
       "[25] \"pass_fail_info\"                 \"coreset\"                       \n",
       "[27] \"population_species\"             \"ruminant\"                      \n",
       "[29] \"pseudoruminants\"                \"wild_domesticated\"             \n",
       "[31] \"captive_wild\"                   \"captive_wild_exp\"              \n",
       "[33] \"captive_origin\"                 \"geo_loc_name\"                  \n",
       "[35] \"country\"                        \"region\"                        \n",
       "[37] \"location\"                       \"location_detail\"               \n",
       "[39] \"latitude\"                       \"longitude\"                     \n",
       "[41] \"elev\"                           \"geo_feature\"                   \n",
       "[43] \"geo_feature_detail_1\"           \"geo_feature_detail_2\"          \n",
       "[45] \"geo_feature_detail_3\"           \"geo_feature_detail_4\"          \n",
       "[47] \"habitat\"                        \"habitat_detail\"                \n",
       "[49] \"habitat_detail_1\"               \"habitat_detail_2\"              \n",
       "[51] \"biome\"                          \"diet_detail\"                   \n",
       "[53] \"diet_breadth\"                   \"diet_breadth_gabrielle\"        \n",
       "[55] \"diet_vertebrate\"                \"diet_invertebrate\"             \n",
       "[57] \"diet_fruit\"                     \"diet_flowers_nectar_pollen\"    \n",
       "[59] \"diet_leaves_branches_bark_buds\" \"diet_seeds\"                    \n",
       "[61] \"diet_grass_waterplants\"         \"diet_roots_tubers\"             \n",
       "[63] \"temp_regulation\"                \"collection_date\"               \n",
       "[65] \"season\"                         \"samp_store_days\"               \n",
       "[67] \"samp_collect_device\"            \"sampling_method\"               \n",
       "[69] \"diet\"                           \"feeding_style\"                 \n",
       "[71] \"digestive_system\"               \"digestive_system_detail\"       \n",
       "[73] \"CH4_L.d_mean\"                   \"CH4_L.d_sd\"                    \n",
       "[75] \"CH4_L.kgBM_mean\"                \"CH4_L.kgBM_sd\"                 \n",
       "[77] \"CH4_g.d_mean\"                   \"CH4_g.d_sd\"                    \n",
       "[79] \"CH4_kJ.d_mean\"                  \"CH4_kJ.d_sd\"                   \n",
       "[81] \"i.CH4_L.d_mean\"                 \"i.CH4_L.d_sd\"                  \n",
       "[83] \"i.CH4_L.kgBM_mean\"              \"i.CH4_L.kgBM_sd\"               \n",
       "[85] \"i.CH4_g.d_mean\"                 \"i.CH4_g.d_sd\"                  \n",
       "[87] \"i.CH4_kJ.d_mean\"                \"i.CH4_kJ.d_sd\"                 "
      ]
     },
     "metadata": {},
     "output_type": "display_data"
    }
   ],
   "source": [
    "# updating metadata\n",
    "x = host_meta_f %>%\n",
    "    as.data.frame\n",
    "rownames(x) = x$SampleID\n",
    "sample_data(physeq_arch_IndD) = x\n",
    "physeq_arch_IndD %>% sample_data %>% colnames"
   ]
  },
  {
   "cell_type": "code",
   "execution_count": 66,
   "metadata": {
    "ExecuteTime": {
     "end_time": "2020-05-27T08:00:56.996494Z",
     "start_time": "2020-05-27T08:00:56.793Z"
    }
   },
   "outputs": [
    {
     "name": "stdout",
     "output_type": "stream",
     "text": [
      "File written: /ebio/abt3_projects/Georg_animal_feces/data/16S_arch/MiSeq-Runs-116-122-126-189-190/LLA/merged/phyloseq/physeq_arch_IndD.RDS \n"
     ]
    }
   ],
   "source": [
    "# over-writing file\n",
    "saveRDS(physeq_arch_IndD, physeq_arch_IndD_file)\n",
    "cat('File written:', physeq_arch_IndD_file, '\\n')"
   ]
  },
  {
   "cell_type": "markdown",
   "metadata": {},
   "source": [
    "## SpecD"
   ]
  },
  {
   "cell_type": "code",
   "execution_count": 67,
   "metadata": {
    "ExecuteTime": {
     "end_time": "2020-05-27T08:01:10.697834Z",
     "start_time": "2020-05-27T08:01:10.639Z"
    }
   },
   "outputs": [
    {
     "data": {
      "text/plain": [
       "phyloseq-class experiment-level object\n",
       "otu_table()   OTU Table:         [ 1151 taxa and 110 samples ]\n",
       "sample_data() Sample Data:       [ 110 samples by 74 sample variables ]\n",
       "tax_table()   Taxonomy Table:    [ 1151 taxa by 7 taxonomic ranks ]\n",
       "phy_tree()    Phylogenetic Tree: [ 1151 tips and 1150 internal nodes ]"
      ]
     },
     "metadata": {},
     "output_type": "display_data"
    }
   ],
   "source": [
    "# physeq object overview\n",
    "physeq_arch_SpecD"
   ]
  },
  {
   "cell_type": "code",
   "execution_count": 68,
   "metadata": {
    "ExecuteTime": {
     "end_time": "2020-05-27T08:01:11.265307Z",
     "start_time": "2020-05-27T08:01:11.207Z"
    }
   },
   "outputs": [
    {
     "name": "stdout",
     "output_type": "stream",
     "text": [
      "intersect(x,y): 110 \n",
      "setdiff(x,y): 0 \n",
      "setdiff(y,x): 75 \n",
      "union(x,y): 185 \n"
     ]
    }
   ],
   "source": [
    "# checking overlap\n",
    "overlap(sample_names(physeq_arch_SpecD), host_meta_f %>% dt_pull(SampleID))"
   ]
  },
  {
   "cell_type": "code",
   "execution_count": 69,
   "metadata": {
    "ExecuteTime": {
     "end_time": "2020-05-27T08:01:12.438828Z",
     "start_time": "2020-05-27T08:01:12.105Z"
    }
   },
   "outputs": [
    {
     "data": {
      "text/html": [
       "<table>\n",
       "<caption>A data.table: 110 × 88</caption>\n",
       "<thead>\n",
       "\t<tr><th scope=col>SampleID</th><th scope=col>host_subject_id</th><th scope=col>host_german_name</th><th scope=col>host_common_name</th><th scope=col>scientific_name</th><th scope=col>scientific_name_subspecies</th><th scope=col>host_taxid</th><th scope=col>class</th><th scope=col>order</th><th scope=col>family</th><th scope=col>⋯</th><th scope=col>CH4_kJ.d_mean</th><th scope=col>CH4_kJ.d_sd</th><th scope=col>i.CH4_L.d_mean</th><th scope=col>i.CH4_L.d_sd</th><th scope=col>i.CH4_L.kgBM_mean</th><th scope=col>i.CH4_L.kgBM_sd</th><th scope=col>i.CH4_g.d_mean</th><th scope=col>i.CH4_g.d_sd</th><th scope=col>i.CH4_kJ.d_mean</th><th scope=col>i.CH4_kJ.d_sd</th></tr>\n",
       "\t<tr><th scope=col>&lt;chr&gt;</th><th scope=col>&lt;chr&gt;</th><th scope=col>&lt;chr&gt;</th><th scope=col>&lt;chr&gt;</th><th scope=col>&lt;chr&gt;</th><th scope=col>&lt;chr&gt;</th><th scope=col>&lt;int&gt;</th><th scope=col>&lt;chr&gt;</th><th scope=col>&lt;chr&gt;</th><th scope=col>&lt;chr&gt;</th><th scope=col>⋯</th><th scope=col>&lt;dbl&gt;</th><th scope=col>&lt;dbl&gt;</th><th scope=col>&lt;dbl&gt;</th><th scope=col>&lt;dbl&gt;</th><th scope=col>&lt;dbl&gt;</th><th scope=col>&lt;dbl&gt;</th><th scope=col>&lt;dbl&gt;</th><th scope=col>&lt;dbl&gt;</th><th scope=col>&lt;dbl&gt;</th><th scope=col>&lt;dbl&gt;</th></tr>\n",
       "</thead>\n",
       "<tbody>\n",
       "\t<tr><td>F14_Common_Bream</td><td>F14</td><td>Brachse  </td><td>Common.Bream</td><td>Abramis_brama</td><td>NA</td><td>38527</td><td>Actinopterygii</td><td>Cypriniformes</td><td>Cyprinidae</td><td>⋯</td><td>NA</td><td>NA</td><td>NA</td><td>NA</td><td>NA</td><td>NA</td><td>NA</td><td>NA</td><td>NA</td><td>NA</td></tr>\n",
       "\t<tr><td>F44_Fallow_Deer </td><td>F44</td><td>Damhirsch</td><td>Fallow.Deer </td><td>Dama_dama    </td><td>NA</td><td>30532</td><td>Mammalia      </td><td>Artiodactyla </td><td>Cervidae  </td><td>⋯</td><td>NA</td><td>NA</td><td>NA</td><td>NA</td><td>NA</td><td>NA</td><td>NA</td><td>NA</td><td>NA</td><td>NA</td></tr>\n",
       "\t<tr><td>⋮</td><td>⋮</td><td>⋮</td><td>⋮</td><td>⋮</td><td>⋮</td><td>⋮</td><td>⋮</td><td>⋮</td><td>⋮</td><td>⋱</td><td>⋮</td><td>⋮</td><td>⋮</td><td>⋮</td><td>⋮</td><td>⋮</td><td>⋮</td><td>⋮</td><td>⋮</td><td>⋮</td></tr>\n",
       "\t<tr><td>X73_One_humped_Camel</td><td>73</td><td>Dromedar</td><td>One.humped.Camel</td><td>Camelus_dromedarius</td><td>NA</td><td>9838</td><td>Mammalia</td><td>Artiodactyla</td><td>Camelidae</td><td>⋯</td><td>NA</td><td>NA</td><td>NA</td><td>NA</td><td>NA</td><td>NA</td><td>NA</td><td>NA</td><td>NA</td><td>NA</td></tr>\n",
       "\t<tr><td>X67_European_Roe    </td><td>67</td><td>Reh     </td><td>European.Roe    </td><td>Capreolus_capreolus</td><td>NA</td><td>9858</td><td>Mammalia</td><td>Artiodactyla</td><td>Cervidae </td><td>⋯</td><td>NA</td><td>NA</td><td>NA</td><td>NA</td><td>NA</td><td>NA</td><td>NA</td><td>NA</td><td>NA</td><td>NA</td></tr>\n",
       "</tbody>\n",
       "</table>\n"
      ],
      "text/latex": [
       "A data.table: 110 × 88\n",
       "\\begin{tabular}{lllllllllllllllllllll}\n",
       " SampleID & host\\_subject\\_id & host\\_german\\_name & host\\_common\\_name & scientific\\_name & scientific\\_name\\_subspecies & host\\_taxid & class & order & family & ⋯ & CH4\\_kJ.d\\_mean & CH4\\_kJ.d\\_sd & i.CH4\\_L.d\\_mean & i.CH4\\_L.d\\_sd & i.CH4\\_L.kgBM\\_mean & i.CH4\\_L.kgBM\\_sd & i.CH4\\_g.d\\_mean & i.CH4\\_g.d\\_sd & i.CH4\\_kJ.d\\_mean & i.CH4\\_kJ.d\\_sd\\\\\n",
       " <chr> & <chr> & <chr> & <chr> & <chr> & <chr> & <int> & <chr> & <chr> & <chr> & ⋯ & <dbl> & <dbl> & <dbl> & <dbl> & <dbl> & <dbl> & <dbl> & <dbl> & <dbl> & <dbl>\\\\\n",
       "\\hline\n",
       "\t F14\\_Common\\_Bream & F14 & Brachse   & Common.Bream & Abramis\\_brama & NA & 38527 & Actinopterygii & Cypriniformes & Cyprinidae & ⋯ & NA & NA & NA & NA & NA & NA & NA & NA & NA & NA\\\\\n",
       "\t F44\\_Fallow\\_Deer  & F44 & Damhirsch & Fallow.Deer  & Dama\\_dama     & NA & 30532 & Mammalia       & Artiodactyla  & Cervidae   & ⋯ & NA & NA & NA & NA & NA & NA & NA & NA & NA & NA\\\\\n",
       "\t ⋮ & ⋮ & ⋮ & ⋮ & ⋮ & ⋮ & ⋮ & ⋮ & ⋮ & ⋮ & ⋱ & ⋮ & ⋮ & ⋮ & ⋮ & ⋮ & ⋮ & ⋮ & ⋮ & ⋮ & ⋮\\\\\n",
       "\t X73\\_One\\_humped\\_Camel & 73 & Dromedar & One.humped.Camel & Camelus\\_dromedarius & NA & 9838 & Mammalia & Artiodactyla & Camelidae & ⋯ & NA & NA & NA & NA & NA & NA & NA & NA & NA & NA\\\\\n",
       "\t X67\\_European\\_Roe     & 67 & Reh      & European.Roe     & Capreolus\\_capreolus & NA & 9858 & Mammalia & Artiodactyla & Cervidae  & ⋯ & NA & NA & NA & NA & NA & NA & NA & NA & NA & NA\\\\\n",
       "\\end{tabular}\n"
      ],
      "text/markdown": [
       "\n",
       "A data.table: 110 × 88\n",
       "\n",
       "| SampleID &lt;chr&gt; | host_subject_id &lt;chr&gt; | host_german_name &lt;chr&gt; | host_common_name &lt;chr&gt; | scientific_name &lt;chr&gt; | scientific_name_subspecies &lt;chr&gt; | host_taxid &lt;int&gt; | class &lt;chr&gt; | order &lt;chr&gt; | family &lt;chr&gt; | ⋯ ⋯ | CH4_kJ.d_mean &lt;dbl&gt; | CH4_kJ.d_sd &lt;dbl&gt; | i.CH4_L.d_mean &lt;dbl&gt; | i.CH4_L.d_sd &lt;dbl&gt; | i.CH4_L.kgBM_mean &lt;dbl&gt; | i.CH4_L.kgBM_sd &lt;dbl&gt; | i.CH4_g.d_mean &lt;dbl&gt; | i.CH4_g.d_sd &lt;dbl&gt; | i.CH4_kJ.d_mean &lt;dbl&gt; | i.CH4_kJ.d_sd &lt;dbl&gt; |\n",
       "|---|---|---|---|---|---|---|---|---|---|---|---|---|---|---|---|---|---|---|---|---|\n",
       "| F14_Common_Bream | F14 | Brachse   | Common.Bream | Abramis_brama | NA | 38527 | Actinopterygii | Cypriniformes | Cyprinidae | ⋯ | NA | NA | NA | NA | NA | NA | NA | NA | NA | NA |\n",
       "| F44_Fallow_Deer  | F44 | Damhirsch | Fallow.Deer  | Dama_dama     | NA | 30532 | Mammalia       | Artiodactyla  | Cervidae   | ⋯ | NA | NA | NA | NA | NA | NA | NA | NA | NA | NA |\n",
       "| ⋮ | ⋮ | ⋮ | ⋮ | ⋮ | ⋮ | ⋮ | ⋮ | ⋮ | ⋮ | ⋱ | ⋮ | ⋮ | ⋮ | ⋮ | ⋮ | ⋮ | ⋮ | ⋮ | ⋮ | ⋮ |\n",
       "| X73_One_humped_Camel | 73 | Dromedar | One.humped.Camel | Camelus_dromedarius | NA | 9838 | Mammalia | Artiodactyla | Camelidae | ⋯ | NA | NA | NA | NA | NA | NA | NA | NA | NA | NA |\n",
       "| X67_European_Roe     | 67 | Reh      | European.Roe     | Capreolus_capreolus | NA | 9858 | Mammalia | Artiodactyla | Cervidae  | ⋯ | NA | NA | NA | NA | NA | NA | NA | NA | NA | NA |\n",
       "\n"
      ],
      "text/plain": [
       "    SampleID             host_subject_id host_german_name host_common_name\n",
       "1   F14_Common_Bream     F14             Brachse          Common.Bream    \n",
       "2   F44_Fallow_Deer      F44             Damhirsch        Fallow.Deer     \n",
       "⋮   ⋮                    ⋮               ⋮                ⋮               \n",
       "109 X73_One_humped_Camel 73              Dromedar         One.humped.Camel\n",
       "110 X67_European_Roe     67              Reh              European.Roe    \n",
       "    scientific_name     scientific_name_subspecies host_taxid class         \n",
       "1   Abramis_brama       NA                         38527      Actinopterygii\n",
       "2   Dama_dama           NA                         30532      Mammalia      \n",
       "⋮   ⋮                   ⋮                          ⋮          ⋮             \n",
       "109 Camelus_dromedarius NA                         9838       Mammalia      \n",
       "110 Capreolus_capreolus NA                         9858       Mammalia      \n",
       "    order         family     ⋯ CH4_kJ.d_mean CH4_kJ.d_sd i.CH4_L.d_mean\n",
       "1   Cypriniformes Cyprinidae ⋯ NA            NA          NA            \n",
       "2   Artiodactyla  Cervidae   ⋯ NA            NA          NA            \n",
       "⋮   ⋮             ⋮          ⋱ ⋮             ⋮           ⋮             \n",
       "109 Artiodactyla  Camelidae  ⋯ NA            NA          NA            \n",
       "110 Artiodactyla  Cervidae   ⋯ NA            NA          NA            \n",
       "    i.CH4_L.d_sd i.CH4_L.kgBM_mean i.CH4_L.kgBM_sd i.CH4_g.d_mean i.CH4_g.d_sd\n",
       "1   NA           NA                NA              NA             NA          \n",
       "2   NA           NA                NA              NA             NA          \n",
       "⋮   ⋮            ⋮                 ⋮               ⋮              ⋮           \n",
       "109 NA           NA                NA              NA             NA          \n",
       "110 NA           NA                NA              NA             NA          \n",
       "    i.CH4_kJ.d_mean i.CH4_kJ.d_sd\n",
       "1   NA              NA           \n",
       "2   NA              NA           \n",
       "⋮   ⋮               ⋮            \n",
       "109 NA              NA           \n",
       "110 NA              NA           "
      ]
     },
     "metadata": {},
     "output_type": "display_data"
    }
   ],
   "source": [
    "# getting samples\n",
    "host_meta_f_SpecD = host_meta_f %>%\n",
    "    dt_filter(SampleID %in% sample_names(physeq_arch_SpecD))\n",
    "host_meta_f_SpecD"
   ]
  },
  {
   "cell_type": "code",
   "execution_count": 70,
   "metadata": {
    "ExecuteTime": {
     "end_time": "2020-05-27T08:01:12.662867Z",
     "start_time": "2020-05-27T08:01:12.562Z"
    }
   },
   "outputs": [
    {
     "data": {
      "text/html": [
       "<ol class=list-inline>\n",
       "\t<li>'SampleID'</li>\n",
       "\t<li>'host_subject_id'</li>\n",
       "\t<li>'host_german_name'</li>\n",
       "\t<li>'host_common_name'</li>\n",
       "\t<li>'scientific_name'</li>\n",
       "\t<li>'scientific_name_subspecies'</li>\n",
       "\t<li>'host_taxid'</li>\n",
       "\t<li>'class'</li>\n",
       "\t<li>'order'</li>\n",
       "\t<li>'family'</li>\n",
       "\t<li>'genus'</li>\n",
       "\t<li>'sample_type'</li>\n",
       "\t<li>'sex'</li>\n",
       "\t<li>'pregnant_animal'</li>\n",
       "\t<li>'age'</li>\n",
       "\t<li>'host_body_temp'</li>\n",
       "\t<li>'disease_stat'</li>\n",
       "\t<li>'body_habitat'</li>\n",
       "\t<li>'body_product'</li>\n",
       "\t<li>'No_individuals'</li>\n",
       "\t<li>'species_replicates'</li>\n",
       "\t<li>'indiv_coreset'</li>\n",
       "\t<li>'duplicates_group'</li>\n",
       "\t<li>'duplicates_common_name'</li>\n",
       "\t<li>'pass_fail_info'</li>\n",
       "\t<li>'coreset'</li>\n",
       "\t<li>'population_species'</li>\n",
       "\t<li>'ruminant'</li>\n",
       "\t<li>'pseudoruminants'</li>\n",
       "\t<li>'wild_domesticated'</li>\n",
       "\t<li>'captive_wild'</li>\n",
       "\t<li>'captive_wild_exp'</li>\n",
       "\t<li>'captive_origin'</li>\n",
       "\t<li>'geo_loc_name'</li>\n",
       "\t<li>'country'</li>\n",
       "\t<li>'region'</li>\n",
       "\t<li>'location'</li>\n",
       "\t<li>'location_detail'</li>\n",
       "\t<li>'latitude'</li>\n",
       "\t<li>'longitude'</li>\n",
       "\t<li>'elev'</li>\n",
       "\t<li>'geo_feature'</li>\n",
       "\t<li>'geo_feature_detail_1'</li>\n",
       "\t<li>'geo_feature_detail_2'</li>\n",
       "\t<li>'geo_feature_detail_3'</li>\n",
       "\t<li>'geo_feature_detail_4'</li>\n",
       "\t<li>'habitat'</li>\n",
       "\t<li>'habitat_detail'</li>\n",
       "\t<li>'habitat_detail_1'</li>\n",
       "\t<li>'habitat_detail_2'</li>\n",
       "\t<li>'biome'</li>\n",
       "\t<li>'diet_detail'</li>\n",
       "\t<li>'diet_breadth'</li>\n",
       "\t<li>'diet_breadth_gabrielle'</li>\n",
       "\t<li>'diet_vertebrate'</li>\n",
       "\t<li>'diet_invertebrate'</li>\n",
       "\t<li>'diet_fruit'</li>\n",
       "\t<li>'diet_flowers_nectar_pollen'</li>\n",
       "\t<li>'diet_leaves_branches_bark_buds'</li>\n",
       "\t<li>'diet_seeds'</li>\n",
       "\t<li>'diet_grass_waterplants'</li>\n",
       "\t<li>'diet_roots_tubers'</li>\n",
       "\t<li>'temp_regulation'</li>\n",
       "\t<li>'collection_date'</li>\n",
       "\t<li>'season'</li>\n",
       "\t<li>'samp_store_days'</li>\n",
       "\t<li>'samp_collect_device'</li>\n",
       "\t<li>'sampling_method'</li>\n",
       "\t<li>'diet'</li>\n",
       "\t<li>'feeding_style'</li>\n",
       "\t<li>'digestive_system'</li>\n",
       "\t<li>'digestive_system_detail'</li>\n",
       "\t<li>'CH4_L.d_mean'</li>\n",
       "\t<li>'CH4_L.d_sd'</li>\n",
       "\t<li>'CH4_L.kgBM_mean'</li>\n",
       "\t<li>'CH4_L.kgBM_sd'</li>\n",
       "\t<li>'CH4_g.d_mean'</li>\n",
       "\t<li>'CH4_g.d_sd'</li>\n",
       "\t<li>'CH4_kJ.d_mean'</li>\n",
       "\t<li>'CH4_kJ.d_sd'</li>\n",
       "\t<li>'i.CH4_L.d_mean'</li>\n",
       "\t<li>'i.CH4_L.d_sd'</li>\n",
       "\t<li>'i.CH4_L.kgBM_mean'</li>\n",
       "\t<li>'i.CH4_L.kgBM_sd'</li>\n",
       "\t<li>'i.CH4_g.d_mean'</li>\n",
       "\t<li>'i.CH4_g.d_sd'</li>\n",
       "\t<li>'i.CH4_kJ.d_mean'</li>\n",
       "\t<li>'i.CH4_kJ.d_sd'</li>\n",
       "</ol>\n"
      ],
      "text/latex": [
       "\\begin{enumerate*}\n",
       "\\item 'SampleID'\n",
       "\\item 'host\\_subject\\_id'\n",
       "\\item 'host\\_german\\_name'\n",
       "\\item 'host\\_common\\_name'\n",
       "\\item 'scientific\\_name'\n",
       "\\item 'scientific\\_name\\_subspecies'\n",
       "\\item 'host\\_taxid'\n",
       "\\item 'class'\n",
       "\\item 'order'\n",
       "\\item 'family'\n",
       "\\item 'genus'\n",
       "\\item 'sample\\_type'\n",
       "\\item 'sex'\n",
       "\\item 'pregnant\\_animal'\n",
       "\\item 'age'\n",
       "\\item 'host\\_body\\_temp'\n",
       "\\item 'disease\\_stat'\n",
       "\\item 'body\\_habitat'\n",
       "\\item 'body\\_product'\n",
       "\\item 'No\\_individuals'\n",
       "\\item 'species\\_replicates'\n",
       "\\item 'indiv\\_coreset'\n",
       "\\item 'duplicates\\_group'\n",
       "\\item 'duplicates\\_common\\_name'\n",
       "\\item 'pass\\_fail\\_info'\n",
       "\\item 'coreset'\n",
       "\\item 'population\\_species'\n",
       "\\item 'ruminant'\n",
       "\\item 'pseudoruminants'\n",
       "\\item 'wild\\_domesticated'\n",
       "\\item 'captive\\_wild'\n",
       "\\item 'captive\\_wild\\_exp'\n",
       "\\item 'captive\\_origin'\n",
       "\\item 'geo\\_loc\\_name'\n",
       "\\item 'country'\n",
       "\\item 'region'\n",
       "\\item 'location'\n",
       "\\item 'location\\_detail'\n",
       "\\item 'latitude'\n",
       "\\item 'longitude'\n",
       "\\item 'elev'\n",
       "\\item 'geo\\_feature'\n",
       "\\item 'geo\\_feature\\_detail\\_1'\n",
       "\\item 'geo\\_feature\\_detail\\_2'\n",
       "\\item 'geo\\_feature\\_detail\\_3'\n",
       "\\item 'geo\\_feature\\_detail\\_4'\n",
       "\\item 'habitat'\n",
       "\\item 'habitat\\_detail'\n",
       "\\item 'habitat\\_detail\\_1'\n",
       "\\item 'habitat\\_detail\\_2'\n",
       "\\item 'biome'\n",
       "\\item 'diet\\_detail'\n",
       "\\item 'diet\\_breadth'\n",
       "\\item 'diet\\_breadth\\_gabrielle'\n",
       "\\item 'diet\\_vertebrate'\n",
       "\\item 'diet\\_invertebrate'\n",
       "\\item 'diet\\_fruit'\n",
       "\\item 'diet\\_flowers\\_nectar\\_pollen'\n",
       "\\item 'diet\\_leaves\\_branches\\_bark\\_buds'\n",
       "\\item 'diet\\_seeds'\n",
       "\\item 'diet\\_grass\\_waterplants'\n",
       "\\item 'diet\\_roots\\_tubers'\n",
       "\\item 'temp\\_regulation'\n",
       "\\item 'collection\\_date'\n",
       "\\item 'season'\n",
       "\\item 'samp\\_store\\_days'\n",
       "\\item 'samp\\_collect\\_device'\n",
       "\\item 'sampling\\_method'\n",
       "\\item 'diet'\n",
       "\\item 'feeding\\_style'\n",
       "\\item 'digestive\\_system'\n",
       "\\item 'digestive\\_system\\_detail'\n",
       "\\item 'CH4\\_L.d\\_mean'\n",
       "\\item 'CH4\\_L.d\\_sd'\n",
       "\\item 'CH4\\_L.kgBM\\_mean'\n",
       "\\item 'CH4\\_L.kgBM\\_sd'\n",
       "\\item 'CH4\\_g.d\\_mean'\n",
       "\\item 'CH4\\_g.d\\_sd'\n",
       "\\item 'CH4\\_kJ.d\\_mean'\n",
       "\\item 'CH4\\_kJ.d\\_sd'\n",
       "\\item 'i.CH4\\_L.d\\_mean'\n",
       "\\item 'i.CH4\\_L.d\\_sd'\n",
       "\\item 'i.CH4\\_L.kgBM\\_mean'\n",
       "\\item 'i.CH4\\_L.kgBM\\_sd'\n",
       "\\item 'i.CH4\\_g.d\\_mean'\n",
       "\\item 'i.CH4\\_g.d\\_sd'\n",
       "\\item 'i.CH4\\_kJ.d\\_mean'\n",
       "\\item 'i.CH4\\_kJ.d\\_sd'\n",
       "\\end{enumerate*}\n"
      ],
      "text/markdown": [
       "1. 'SampleID'\n",
       "2. 'host_subject_id'\n",
       "3. 'host_german_name'\n",
       "4. 'host_common_name'\n",
       "5. 'scientific_name'\n",
       "6. 'scientific_name_subspecies'\n",
       "7. 'host_taxid'\n",
       "8. 'class'\n",
       "9. 'order'\n",
       "10. 'family'\n",
       "11. 'genus'\n",
       "12. 'sample_type'\n",
       "13. 'sex'\n",
       "14. 'pregnant_animal'\n",
       "15. 'age'\n",
       "16. 'host_body_temp'\n",
       "17. 'disease_stat'\n",
       "18. 'body_habitat'\n",
       "19. 'body_product'\n",
       "20. 'No_individuals'\n",
       "21. 'species_replicates'\n",
       "22. 'indiv_coreset'\n",
       "23. 'duplicates_group'\n",
       "24. 'duplicates_common_name'\n",
       "25. 'pass_fail_info'\n",
       "26. 'coreset'\n",
       "27. 'population_species'\n",
       "28. 'ruminant'\n",
       "29. 'pseudoruminants'\n",
       "30. 'wild_domesticated'\n",
       "31. 'captive_wild'\n",
       "32. 'captive_wild_exp'\n",
       "33. 'captive_origin'\n",
       "34. 'geo_loc_name'\n",
       "35. 'country'\n",
       "36. 'region'\n",
       "37. 'location'\n",
       "38. 'location_detail'\n",
       "39. 'latitude'\n",
       "40. 'longitude'\n",
       "41. 'elev'\n",
       "42. 'geo_feature'\n",
       "43. 'geo_feature_detail_1'\n",
       "44. 'geo_feature_detail_2'\n",
       "45. 'geo_feature_detail_3'\n",
       "46. 'geo_feature_detail_4'\n",
       "47. 'habitat'\n",
       "48. 'habitat_detail'\n",
       "49. 'habitat_detail_1'\n",
       "50. 'habitat_detail_2'\n",
       "51. 'biome'\n",
       "52. 'diet_detail'\n",
       "53. 'diet_breadth'\n",
       "54. 'diet_breadth_gabrielle'\n",
       "55. 'diet_vertebrate'\n",
       "56. 'diet_invertebrate'\n",
       "57. 'diet_fruit'\n",
       "58. 'diet_flowers_nectar_pollen'\n",
       "59. 'diet_leaves_branches_bark_buds'\n",
       "60. 'diet_seeds'\n",
       "61. 'diet_grass_waterplants'\n",
       "62. 'diet_roots_tubers'\n",
       "63. 'temp_regulation'\n",
       "64. 'collection_date'\n",
       "65. 'season'\n",
       "66. 'samp_store_days'\n",
       "67. 'samp_collect_device'\n",
       "68. 'sampling_method'\n",
       "69. 'diet'\n",
       "70. 'feeding_style'\n",
       "71. 'digestive_system'\n",
       "72. 'digestive_system_detail'\n",
       "73. 'CH4_L.d_mean'\n",
       "74. 'CH4_L.d_sd'\n",
       "75. 'CH4_L.kgBM_mean'\n",
       "76. 'CH4_L.kgBM_sd'\n",
       "77. 'CH4_g.d_mean'\n",
       "78. 'CH4_g.d_sd'\n",
       "79. 'CH4_kJ.d_mean'\n",
       "80. 'CH4_kJ.d_sd'\n",
       "81. 'i.CH4_L.d_mean'\n",
       "82. 'i.CH4_L.d_sd'\n",
       "83. 'i.CH4_L.kgBM_mean'\n",
       "84. 'i.CH4_L.kgBM_sd'\n",
       "85. 'i.CH4_g.d_mean'\n",
       "86. 'i.CH4_g.d_sd'\n",
       "87. 'i.CH4_kJ.d_mean'\n",
       "88. 'i.CH4_kJ.d_sd'\n",
       "\n",
       "\n"
      ],
      "text/plain": [
       " [1] \"SampleID\"                       \"host_subject_id\"               \n",
       " [3] \"host_german_name\"               \"host_common_name\"              \n",
       " [5] \"scientific_name\"                \"scientific_name_subspecies\"    \n",
       " [7] \"host_taxid\"                     \"class\"                         \n",
       " [9] \"order\"                          \"family\"                        \n",
       "[11] \"genus\"                          \"sample_type\"                   \n",
       "[13] \"sex\"                            \"pregnant_animal\"               \n",
       "[15] \"age\"                            \"host_body_temp\"                \n",
       "[17] \"disease_stat\"                   \"body_habitat\"                  \n",
       "[19] \"body_product\"                   \"No_individuals\"                \n",
       "[21] \"species_replicates\"             \"indiv_coreset\"                 \n",
       "[23] \"duplicates_group\"               \"duplicates_common_name\"        \n",
       "[25] \"pass_fail_info\"                 \"coreset\"                       \n",
       "[27] \"population_species\"             \"ruminant\"                      \n",
       "[29] \"pseudoruminants\"                \"wild_domesticated\"             \n",
       "[31] \"captive_wild\"                   \"captive_wild_exp\"              \n",
       "[33] \"captive_origin\"                 \"geo_loc_name\"                  \n",
       "[35] \"country\"                        \"region\"                        \n",
       "[37] \"location\"                       \"location_detail\"               \n",
       "[39] \"latitude\"                       \"longitude\"                     \n",
       "[41] \"elev\"                           \"geo_feature\"                   \n",
       "[43] \"geo_feature_detail_1\"           \"geo_feature_detail_2\"          \n",
       "[45] \"geo_feature_detail_3\"           \"geo_feature_detail_4\"          \n",
       "[47] \"habitat\"                        \"habitat_detail\"                \n",
       "[49] \"habitat_detail_1\"               \"habitat_detail_2\"              \n",
       "[51] \"biome\"                          \"diet_detail\"                   \n",
       "[53] \"diet_breadth\"                   \"diet_breadth_gabrielle\"        \n",
       "[55] \"diet_vertebrate\"                \"diet_invertebrate\"             \n",
       "[57] \"diet_fruit\"                     \"diet_flowers_nectar_pollen\"    \n",
       "[59] \"diet_leaves_branches_bark_buds\" \"diet_seeds\"                    \n",
       "[61] \"diet_grass_waterplants\"         \"diet_roots_tubers\"             \n",
       "[63] \"temp_regulation\"                \"collection_date\"               \n",
       "[65] \"season\"                         \"samp_store_days\"               \n",
       "[67] \"samp_collect_device\"            \"sampling_method\"               \n",
       "[69] \"diet\"                           \"feeding_style\"                 \n",
       "[71] \"digestive_system\"               \"digestive_system_detail\"       \n",
       "[73] \"CH4_L.d_mean\"                   \"CH4_L.d_sd\"                    \n",
       "[75] \"CH4_L.kgBM_mean\"                \"CH4_L.kgBM_sd\"                 \n",
       "[77] \"CH4_g.d_mean\"                   \"CH4_g.d_sd\"                    \n",
       "[79] \"CH4_kJ.d_mean\"                  \"CH4_kJ.d_sd\"                   \n",
       "[81] \"i.CH4_L.d_mean\"                 \"i.CH4_L.d_sd\"                  \n",
       "[83] \"i.CH4_L.kgBM_mean\"              \"i.CH4_L.kgBM_sd\"               \n",
       "[85] \"i.CH4_g.d_mean\"                 \"i.CH4_g.d_sd\"                  \n",
       "[87] \"i.CH4_kJ.d_mean\"                \"i.CH4_kJ.d_sd\"                 "
      ]
     },
     "metadata": {},
     "output_type": "display_data"
    }
   ],
   "source": [
    "# updating metadata\n",
    "x = host_meta_f_SpecD %>%\n",
    "    as.data.frame\n",
    "rownames(x) = x$SampleID\n",
    "sample_data(physeq_arch_SpecD) = x\n",
    "physeq_arch_SpecD %>% sample_data %>% colnames"
   ]
  },
  {
   "cell_type": "code",
   "execution_count": 71,
   "metadata": {
    "ExecuteTime": {
     "end_time": "2020-05-27T08:01:13.218837Z",
     "start_time": "2020-05-27T08:01:13.119Z"
    }
   },
   "outputs": [
    {
     "name": "stdout",
     "output_type": "stream",
     "text": [
      "File written: /ebio/abt3_projects/Georg_animal_feces/data/16S_arch/MiSeq-Runs-116-122-126-189-190/LLA/merged/phyloseq/physeq_arch_SpecD.RDS \n"
     ]
    }
   ],
   "source": [
    "# over-writing file\n",
    "saveRDS(physeq_arch_SpecD, physeq_arch_SpecD_file)\n",
    "cat('File written:', physeq_arch_SpecD_file, '\\n')"
   ]
  },
  {
   "cell_type": "markdown",
   "metadata": {},
   "source": [
    "# Host tree"
   ]
  },
  {
   "cell_type": "code",
   "execution_count": 72,
   "metadata": {
    "ExecuteTime": {
     "end_time": "2020-05-27T08:01:14.126070Z",
     "start_time": "2020-05-27T08:01:14.063Z"
    }
   },
   "outputs": [
    {
     "name": "stdout",
     "output_type": "stream",
     "text": [
      "intersect(x,y): 110 \n",
      "setdiff(x,y): 0 \n",
      "setdiff(y,x): 89 \n",
      "union(x,y): 199 \n"
     ]
    }
   ],
   "source": [
    "# tree and updated metadata\n",
    "overlap(host_meta_f %>% dt_pull(scientific_name), host_tree$tip.label)"
   ]
  },
  {
   "cell_type": "code",
   "execution_count": 73,
   "metadata": {
    "ExecuteTime": {
     "end_time": "2020-05-27T08:01:14.642544Z",
     "start_time": "2020-05-27T08:01:14.575Z"
    }
   },
   "outputs": [
    {
     "data": {
      "text/plain": [
       "\n",
       "Phylogenetic tree with 110 tips and 109 internal nodes.\n",
       "\n",
       "Tip labels:\n",
       "\tLeuciscus_cephalus, Rutilus_rutilus, Leuciscus_idus, Blicca_bjoerkna, Abramis_brama, Cyprinus_carpio, ...\n",
       "Node labels:\n",
       "\t, @_20_@, @_17_@, @_14_@, @_9_@, @_15_@, ...\n",
       "\n",
       "Rooted; includes branch lengths."
      ]
     },
     "metadata": {},
     "output_type": "display_data"
    }
   ],
   "source": [
    "# pruning\n",
    "to_rm = setdiff(host_tree$tip.label, host_meta_f %>% dt_pull(scientific_name))\n",
    "host_tree_f = ape::drop.tip(host_tree, to_rm)\n",
    "host_tree_f"
   ]
  },
  {
   "cell_type": "code",
   "execution_count": 74,
   "metadata": {
    "ExecuteTime": {
     "end_time": "2020-05-27T08:01:15.146627Z",
     "start_time": "2020-05-27T08:01:15.063Z"
    }
   },
   "outputs": [
    {
     "name": "stdout",
     "output_type": "stream",
     "text": [
      "intersect(x,y): 110 \n",
      "setdiff(x,y): 0 \n",
      "setdiff(y,x): 0 \n",
      "union(x,y): 110 \n"
     ]
    }
   ],
   "source": [
    "# checking overlap\n",
    "overlap(host_meta_f %>% dt_pull(scientific_name), host_tree_f$tip.label)"
   ]
  },
  {
   "cell_type": "code",
   "execution_count": 75,
   "metadata": {
    "ExecuteTime": {
     "end_time": "2020-05-27T08:01:15.662018Z",
     "start_time": "2020-05-27T08:01:15.599Z"
    }
   },
   "outputs": [
    {
     "name": "stdout",
     "output_type": "stream",
     "text": [
      "File written: /ebio/abt3_projects/Georg_animal_feces/data/animal/phylogeny/TT/unified_metadata_complete_200429_16S-arch.nwk \n"
     ]
    }
   ],
   "source": [
    "F = file.path(dirname(host_tree_file), 'unified_metadata_complete_200429_16S-arch.nwk')\n",
    "write.tree(host_tree_f, F)\n",
    "cat('File written:', F, '\\n')"
   ]
  },
  {
   "cell_type": "markdown",
   "metadata": {},
   "source": [
    "## Expanding tips: IndD\n",
    "\n",
    "* one tip per sample"
   ]
  },
  {
   "cell_type": "code",
   "execution_count": 76,
   "metadata": {
    "ExecuteTime": {
     "end_time": "2020-05-27T08:01:16.473013Z",
     "start_time": "2020-05-27T08:01:16.311Z"
    }
   },
   "outputs": [
    {
     "data": {
      "text/html": [
       "185"
      ],
      "text/latex": [
       "185"
      ],
      "text/markdown": [
       "185"
      ],
      "text/plain": [
       "[1] 185"
      ]
     },
     "metadata": {},
     "output_type": "display_data"
    }
   ],
   "source": [
    "# as list\n",
    "x = host_meta_f %>%\n",
    "    dt_distinct(scientific_name, SampleID) %>%\n",
    "    dt_group_split(SampleID)\n",
    "x %>% length"
   ]
  },
  {
   "cell_type": "code",
   "execution_count": 77,
   "metadata": {
    "ExecuteTime": {
     "end_time": "2020-05-27T08:01:20.576475Z",
     "start_time": "2020-05-27T08:01:16.920Z"
    }
   },
   "outputs": [
    {
     "data": {
      "text/plain": [
       "\n",
       "Phylogenetic tree with 295 tips and 294 internal nodes.\n",
       "\n",
       "Tip labels:\n",
       "\tLeuciscus_cephalus, X60_European_Chub, Rutilus_rutilus, X179_Roach, Leuciscus_idus, X330_Ide, ...\n",
       "Node labels:\n",
       "\t, @_20_@, @_17_@, @_14_@, @_9_@, NA, ...\n",
       "\n",
       "Rooted; includes branch lengths."
      ]
     },
     "metadata": {},
     "output_type": "display_data"
    }
   ],
   "source": [
    "# adding samples as tips\n",
    "host_tree_all = host_tree_f\n",
    "for(y in x){\n",
    "    parent_node = y %>% dt_pull(scientific_name) %>% .[1]\n",
    "    child_node = y %>% dt_pull(SampleID) %>% .[1]\n",
    "\n",
    "    host_tree_all = phytools::bind.tip(host_tree_all, child_node, edge.length=1e-9, \n",
    "                       where=which(host_tree_all$tip.label == parent_node), \n",
    "                       position=1e-9)\n",
    "}\n",
    "host_tree_all"
   ]
  },
  {
   "cell_type": "code",
   "execution_count": 78,
   "metadata": {
    "ExecuteTime": {
     "end_time": "2020-05-27T08:01:20.602126Z",
     "start_time": "2020-05-27T08:01:17.518Z"
    }
   },
   "outputs": [
    {
     "data": {
      "text/plain": [
       "\n",
       "Phylogenetic tree with 185 tips and 184 internal nodes.\n",
       "\n",
       "Tip labels:\n",
       "\tX60_European_Chub, X179_Roach, X330_Ide, X327_Silver_Bream, X326_Silver_Bream, F14_Common_Bream, ...\n",
       "Node labels:\n",
       "\t, @_20_@, @_17_@, @_14_@, @_9_@, @_15_@, ...\n",
       "\n",
       "Rooted; includes branch lengths."
      ]
     },
     "metadata": {},
     "output_type": "display_data"
    }
   ],
   "source": [
    "# removing scientific name tips\n",
    "to_rm = host_meta_f %>% dt_pull(scientific_name) %>% unique\n",
    "host_tree_all = ape::drop.tip(host_tree_all, to_rm)\n",
    "host_tree_all"
   ]
  },
  {
   "cell_type": "code",
   "execution_count": 79,
   "metadata": {
    "ExecuteTime": {
     "end_time": "2020-05-27T08:01:20.633701Z",
     "start_time": "2020-05-27T08:01:18.009Z"
    }
   },
   "outputs": [
    {
     "name": "stdout",
     "output_type": "stream",
     "text": [
      "File written: /ebio/abt3_projects/Georg_animal_feces/data/animal/phylogeny/TT/unified_metadata_complete_200429_16S-arch_IndD.nwk \n"
     ]
    }
   ],
   "source": [
    "# writing tree\n",
    "F = file.path(dirname(host_tree_file), 'unified_metadata_complete_200429_16S-arch_IndD.nwk')\n",
    "write.tree(host_tree_all, F)\n",
    "cat('File written:', F, '\\n')"
   ]
  },
  {
   "cell_type": "markdown",
   "metadata": {},
   "source": [
    "# sessionInfo"
   ]
  },
  {
   "cell_type": "code",
   "execution_count": 80,
   "metadata": {
    "ExecuteTime": {
     "end_time": "2020-05-27T08:01:20.785471Z",
     "start_time": "2020-05-27T08:01:19.255Z"
    }
   },
   "outputs": [
    {
     "data": {
      "text/plain": [
       "R version 3.6.2 (2019-12-12)\n",
       "Platform: x86_64-conda_cos6-linux-gnu (64-bit)\n",
       "Running under: Ubuntu 18.04.4 LTS\n",
       "\n",
       "Matrix products: default\n",
       "BLAS/LAPACK: /ebio/abt3_projects/Georg_animal_feces/envs/phyloseq-phy/lib/libopenblasp-r0.3.7.so\n",
       "\n",
       "locale:\n",
       " [1] LC_CTYPE=en_US.UTF-8       LC_NUMERIC=C              \n",
       " [3] LC_TIME=en_US.UTF-8        LC_COLLATE=en_US.UTF-8    \n",
       " [5] LC_MONETARY=en_US.UTF-8    LC_MESSAGES=en_US.UTF-8   \n",
       " [7] LC_PAPER=en_US.UTF-8       LC_NAME=C                 \n",
       " [9] LC_ADDRESS=C               LC_TELEPHONE=C            \n",
       "[11] LC_MEASUREMENT=en_US.UTF-8 LC_IDENTIFICATION=C       \n",
       "\n",
       "attached base packages:\n",
       "[1] stats     graphics  grDevices utils     datasets  methods   base     \n",
       "\n",
       "other attached packages:\n",
       "[1] LeyLabRMisc_0.1.5 tidytable_0.4.1   readxl_1.3.1      ape_5.3          \n",
       "[5] phyloseq_1.30.0   ggplot2_3.2.1     tidyr_1.0.0       dplyr_0.8.3      \n",
       "\n",
       "loaded via a namespace (and not attached):\n",
       " [1] nlme_3.1-143            repr_1.0.2              numDeriv_2016.8-1.1    \n",
       " [4] tools_3.6.2             R6_2.4.1                vegan_2.5-6            \n",
       " [7] lazyeval_0.2.2          BiocGenerics_0.32.0     mgcv_1.8-31            \n",
       "[10] colorspace_1.4-1        permute_0.9-5           ade4_1.7-13            \n",
       "[13] withr_2.1.2             tidyselect_1.1.0        mnormt_1.5-6           \n",
       "[16] phangorn_2.5.5          compiler_3.6.2          cli_2.0.1              \n",
       "[19] Biobase_2.46.0          animation_2.6           expm_0.999-4           \n",
       "[22] labeling_0.3            scales_1.1.0            quadprog_1.5-8         \n",
       "[25] pbdZMQ_0.3-3            stringr_1.4.0           digest_0.6.23          \n",
       "[28] XVector_0.26.0          base64enc_0.1-3         pkgconfig_2.0.3        \n",
       "[31] htmltools_0.4.0         plotrix_3.7-7           maps_3.3.0             \n",
       "[34] rlang_0.4.6             farver_2.0.2            combinat_0.0-8         \n",
       "[37] jsonlite_1.6            gtools_3.8.1            magrittr_1.5           \n",
       "[40] biomformat_1.14.0       Matrix_1.2-18           Rcpp_1.0.3             \n",
       "[43] IRkernel_1.1            munsell_0.5.0           S4Vectors_0.24.0       \n",
       "[46] Rhdf5lib_1.8.0          fansi_0.4.1             lifecycle_0.1.0        \n",
       "[49] scatterplot3d_0.3-41    stringi_1.4.5           clusterGeneration_1.3.4\n",
       "[52] MASS_7.3-51.5           zlibbioc_1.32.0         rhdf5_2.30.0           \n",
       "[55] plyr_1.8.5              grid_3.6.2              parallel_3.6.2         \n",
       "[58] crayon_1.3.4            lattice_0.20-38         IRdisplay_0.7.0        \n",
       "[61] Biostrings_2.54.0       splines_3.6.2           multtest_2.42.0        \n",
       "[64] knitr_1.26              pillar_1.4.3            igraph_1.2.4.2         \n",
       "[67] uuid_0.1-2              reshape2_1.4.3          codetools_0.2-16       \n",
       "[70] stats4_3.6.2            fastmatch_1.1-0         glue_1.3.1             \n",
       "[73] evaluate_0.14           data.table_1.12.8       vctrs_0.3.0            \n",
       "[76] foreach_1.4.7           cellranger_1.1.0        gtable_0.3.0           \n",
       "[79] purrr_0.3.3             assertthat_0.2.1        xfun_0.12              \n",
       "[82] phytools_0.6-99         coda_0.19-3             survival_3.1-8         \n",
       "[85] tibble_2.1.3            iterators_1.0.12        IRanges_2.20.0         \n",
       "[88] cluster_2.1.0           ellipsis_0.3.0         "
      ]
     },
     "metadata": {},
     "output_type": "display_data"
    }
   ],
   "source": [
    "sessionInfo()"
   ]
  }
 ],
 "metadata": {
  "kernelspec": {
   "display_name": "R [conda env:Georg_animal_feces-phyloseq-phy]",
   "language": "R",
   "name": "conda-env-Georg_animal_feces-phyloseq-phy-r"
  },
  "language_info": {
   "codemirror_mode": "r",
   "file_extension": ".r",
   "mimetype": "text/x-r-source",
   "name": "R",
   "pygments_lexer": "r",
   "version": "3.6.2"
  },
  "notify_time": "30",
  "toc": {
   "base_numbering": 1,
   "nav_menu": {},
   "number_sections": true,
   "sideBar": true,
   "skip_h1_title": false,
   "title_cell": "Table of Contents",
   "title_sidebar": "Contents",
   "toc_cell": true,
   "toc_position": {},
   "toc_section_display": true,
   "toc_window_display": true
  }
 },
 "nbformat": 4,
 "nbformat_minor": 4
}
