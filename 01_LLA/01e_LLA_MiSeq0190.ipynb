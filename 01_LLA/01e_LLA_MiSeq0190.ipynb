{
 "cells": [
  {
   "cell_type": "markdown",
   "metadata": {
    "toc": true
   },
   "source": [
    "<h1>Table of Contents<span class=\"tocSkip\"></span></h1>\n",
    "<div class=\"toc\"><ul class=\"toc-item\"><li><span><a href=\"#Goal\" data-toc-modified-id=\"Goal-1\"><span class=\"toc-item-num\">1&nbsp;&nbsp;</span>Goal</a></span></li><li><span><a href=\"#Var\" data-toc-modified-id=\"Var-2\"><span class=\"toc-item-num\">2&nbsp;&nbsp;</span>Var</a></span></li><li><span><a href=\"#Init\" data-toc-modified-id=\"Init-3\"><span class=\"toc-item-num\">3&nbsp;&nbsp;</span>Init</a></span></li><li><span><a href=\"#Samples-table\" data-toc-modified-id=\"Samples-table-4\"><span class=\"toc-item-num\">4&nbsp;&nbsp;</span>Samples table</a></span><ul class=\"toc-item\"><li><span><a href=\"#Labeling\" data-toc-modified-id=\"Labeling-4.1\"><span class=\"toc-item-num\">4.1&nbsp;&nbsp;</span>Labeling</a></span></li></ul></li><li><span><a href=\"#LLA\" data-toc-modified-id=\"LLA-5\"><span class=\"toc-item-num\">5&nbsp;&nbsp;</span>LLA</a></span><ul class=\"toc-item\"><li><span><a href=\"#Config\" data-toc-modified-id=\"Config-5.1\"><span class=\"toc-item-num\">5.1&nbsp;&nbsp;</span>Config</a></span></li><li><span><a href=\"#Run\" data-toc-modified-id=\"Run-5.2\"><span class=\"toc-item-num\">5.2&nbsp;&nbsp;</span>Run</a></span></li></ul></li><li><span><a href=\"#Summary\" data-toc-modified-id=\"Summary-6\"><span class=\"toc-item-num\">6&nbsp;&nbsp;</span>Summary</a></span><ul class=\"toc-item\"><li><span><a href=\"#Number-of-ASVs\" data-toc-modified-id=\"Number-of-ASVs-6.1\"><span class=\"toc-item-num\">6.1&nbsp;&nbsp;</span>Number of ASVs</a></span></li></ul></li><li><span><a href=\"#sessionInfo\" data-toc-modified-id=\"sessionInfo-7\"><span class=\"toc-item-num\">7&nbsp;&nbsp;</span>sessionInfo</a></span></li></ul></div>"
   ]
  },
  {
   "cell_type": "markdown",
   "metadata": {},
   "source": [
    "# Goal\n",
    "\n",
    "* LLA on MiSeq Run190"
   ]
  },
  {
   "cell_type": "markdown",
   "metadata": {},
   "source": [
    "# Var"
   ]
  },
  {
   "cell_type": "code",
   "execution_count": 1,
   "metadata": {
    "ExecuteTime": {
     "end_time": "2020-03-05T14:08:24.392679Z",
     "start_time": "2020-03-05T14:08:23.894Z"
    }
   },
   "outputs": [],
   "source": [
    "work_dir = '/ebio/abt3_projects/Georg_animal_feces/data/16S_arch/MiSeq-Runs-116-122-126-189-190/LLA/Run0190/'\n",
    "\n",
    "# metadata\n",
    "metadata_file = '/ebio/abt3_projects/Georg_animal_feces/data/mapping/unified_metadata_complete_190529.tsv'\n",
    "\n",
    "# params\n",
    "pipeline_dir = '/ebio/abt3_projects/Georg_animal_feces/bin/lla'"
   ]
  },
  {
   "cell_type": "markdown",
   "metadata": {},
   "source": [
    "# Init"
   ]
  },
  {
   "cell_type": "code",
   "execution_count": 8,
   "metadata": {
    "ExecuteTime": {
     "end_time": "2020-03-05T14:08:31.790245Z",
     "start_time": "2020-03-05T14:08:31.781Z"
    }
   },
   "outputs": [],
   "source": [
    "library(dplyr)\n",
    "library(tidyr)\n",
    "library(ggplot2)\n",
    "library(LeyLabRMisc)"
   ]
  },
  {
   "cell_type": "code",
   "execution_count": 3,
   "metadata": {
    "ExecuteTime": {
     "end_time": "2020-03-05T14:08:27.789318Z",
     "start_time": "2020-03-05T14:08:24.246Z"
    }
   },
   "outputs": [],
   "source": [
    "df.dims()"
   ]
  },
  {
   "cell_type": "markdown",
   "metadata": {},
   "source": [
    "# Samples table\n",
    "\n",
    "* Created from [local SRA](http://readarchive.eb.local/sra/)\n",
    "  * MiSeq-run = 0190\n",
    "* converted to LLA input samples table with `convert_SRA_to_samples_table.py`"
   ]
  },
  {
   "cell_type": "markdown",
   "metadata": {},
   "source": [
    "## Labeling"
   ]
  },
  {
   "cell_type": "code",
   "execution_count": 10,
   "metadata": {
    "ExecuteTime": {
     "end_time": "2020-03-05T14:19:56.715103Z",
     "start_time": "2020-03-05T14:19:56.657Z"
    }
   },
   "outputs": [
    {
     "data": {
      "text/html": [
       "<table>\n",
       "<caption>A data.frame: 475 × 71</caption>\n",
       "<thead>\n",
       "\t<tr><th scope=col>SampleID</th><th scope=col>host_subject_id</th><th scope=col>host_german_name</th><th scope=col>host_common_name</th><th scope=col>scientific_name</th><th scope=col>scientific_name_subspecies</th><th scope=col>host_taxid</th><th scope=col>class</th><th scope=col>order</th><th scope=col>family</th><th scope=col>⋯</th><th scope=col>temp_regulation</th><th scope=col>collection_date</th><th scope=col>season</th><th scope=col>samp_store_days</th><th scope=col>samp_collect_device</th><th scope=col>sampling_method</th><th scope=col>diet</th><th scope=col>feeding_style</th><th scope=col>digestive_system</th><th scope=col>digestive_system_detail</th></tr>\n",
       "\t<tr><th scope=col>&lt;fct&gt;</th><th scope=col>&lt;fct&gt;</th><th scope=col>&lt;fct&gt;</th><th scope=col>&lt;fct&gt;</th><th scope=col>&lt;fct&gt;</th><th scope=col>&lt;fct&gt;</th><th scope=col>&lt;int&gt;</th><th scope=col>&lt;fct&gt;</th><th scope=col>&lt;fct&gt;</th><th scope=col>&lt;fct&gt;</th><th scope=col>⋯</th><th scope=col>&lt;fct&gt;</th><th scope=col>&lt;fct&gt;</th><th scope=col>&lt;fct&gt;</th><th scope=col>&lt;fct&gt;</th><th scope=col>&lt;fct&gt;</th><th scope=col>&lt;fct&gt;</th><th scope=col>&lt;fct&gt;</th><th scope=col>&lt;fct&gt;</th><th scope=col>&lt;fct&gt;</th><th scope=col>&lt;fct&gt;</th></tr>\n",
       "</thead>\n",
       "<tbody>\n",
       "\t<tr><td>F14_Common_Bream</td><td>F14</td><td>Brachse  </td><td>Common.Bream</td><td>Abramis_brama </td><td>NA</td><td>38527</td><td>Actinopterygii</td><td>Cypriniformes</td><td>Cyprinidae</td><td>⋯</td><td>ectotherm/poikilotherm</td><td>2010-08-10</td><td>summer</td><td>317</td><td>Greiner Polypropylene Tube 50ml          </td><td>feces sampling</td><td>omnivore </td><td>NA               </td><td>simple </td><td>simple </td></tr>\n",
       "\t<tr><td>F35_Red_Deer    </td><td>F35</td><td>Rothirsch</td><td>Red.Deer    </td><td>Cervus_elaphus</td><td>NA</td><td> 9860</td><td>Mammalia      </td><td>Artiodactyla </td><td>Cervidae  </td><td>⋯</td><td>endotherm/homoiotherm </td><td>2010-09-29</td><td>autumn</td><td>229</td><td>Greiner Polystyrene 30ml Faeces Container</td><td>feces sampling</td><td>herbivore</td><td>intermediate type</td><td>foregut</td><td>foregut</td></tr>\n",
       "\t<tr><td>⋮</td><td>⋮</td><td>⋮</td><td>⋮</td><td>⋮</td><td>⋮</td><td>⋮</td><td>⋮</td><td>⋮</td><td>⋮</td><td>⋱</td><td>⋮</td><td>⋮</td><td>⋮</td><td>⋮</td><td>⋮</td><td>⋮</td><td>⋮</td><td>⋮</td><td>⋮</td><td>⋮</td></tr>\n",
       "\t<tr><td>X189_fail_Rainbow_Trout</td><td>189.fail</td><td>Regenbogenforelle</td><td>Rainbow.Trout</td><td>Oncorhynchus_mykiss</td><td>NA</td><td>8022</td><td>Actinopterygii</td><td>Salmoniformes</td><td>Salmonidae</td><td>⋯</td><td>ectotherm/poikilotherm</td><td>2012-03-01</td><td>winter</td><td>467</td><td>Eppendorf tube          </td><td>feces sampling</td><td>carnivore</td><td>NA</td><td>simple</td><td>simple</td></tr>\n",
       "\t<tr><td>X232_fail_Brown_Trout  </td><td>232.fail</td><td>Seeforelle       </td><td>Brown.Trout  </td><td>Salmo_trutta       </td><td>NA</td><td>8032</td><td>Actinopterygii</td><td>Salmoniformes</td><td>Salmonidae</td><td>⋯</td><td>ectotherm/poikilotherm</td><td>2012-03-15</td><td>winter</td><td>453</td><td>Polyethylene freezer bag</td><td>gut section   </td><td>carnivore</td><td>NA</td><td>simple</td><td>simple</td></tr>\n",
       "</tbody>\n",
       "</table>\n"
      ],
      "text/latex": [
       "A data.frame: 475 × 71\n",
       "\\begin{tabular}{lllllllllllllllllllll}\n",
       " SampleID & host\\_subject\\_id & host\\_german\\_name & host\\_common\\_name & scientific\\_name & scientific\\_name\\_subspecies & host\\_taxid & class & order & family & ⋯ & temp\\_regulation & collection\\_date & season & samp\\_store\\_days & samp\\_collect\\_device & sampling\\_method & diet & feeding\\_style & digestive\\_system & digestive\\_system\\_detail\\\\\n",
       " <fct> & <fct> & <fct> & <fct> & <fct> & <fct> & <int> & <fct> & <fct> & <fct> & ⋯ & <fct> & <fct> & <fct> & <fct> & <fct> & <fct> & <fct> & <fct> & <fct> & <fct>\\\\\n",
       "\\hline\n",
       "\t F14\\_Common\\_Bream & F14 & Brachse   & Common.Bream & Abramis\\_brama  & NA & 38527 & Actinopterygii & Cypriniformes & Cyprinidae & ⋯ & ectotherm/poikilotherm & 2010-08-10 & summer & 317 & Greiner Polypropylene Tube 50ml           & feces sampling & omnivore  & NA                & simple  & simple \\\\\n",
       "\t F35\\_Red\\_Deer     & F35 & Rothirsch & Red.Deer     & Cervus\\_elaphus & NA &  9860 & Mammalia       & Artiodactyla  & Cervidae   & ⋯ & endotherm/homoiotherm  & 2010-09-29 & autumn & 229 & Greiner Polystyrene 30ml Faeces Container & feces sampling & herbivore & intermediate type & foregut & foregut\\\\\n",
       "\t ⋮ & ⋮ & ⋮ & ⋮ & ⋮ & ⋮ & ⋮ & ⋮ & ⋮ & ⋮ & ⋱ & ⋮ & ⋮ & ⋮ & ⋮ & ⋮ & ⋮ & ⋮ & ⋮ & ⋮ & ⋮\\\\\n",
       "\t X189\\_fail\\_Rainbow\\_Trout & 189.fail & Regenbogenforelle & Rainbow.Trout & Oncorhynchus\\_mykiss & NA & 8022 & Actinopterygii & Salmoniformes & Salmonidae & ⋯ & ectotherm/poikilotherm & 2012-03-01 & winter & 467 & Eppendorf tube           & feces sampling & carnivore & NA & simple & simple\\\\\n",
       "\t X232\\_fail\\_Brown\\_Trout   & 232.fail & Seeforelle        & Brown.Trout   & Salmo\\_trutta        & NA & 8032 & Actinopterygii & Salmoniformes & Salmonidae & ⋯ & ectotherm/poikilotherm & 2012-03-15 & winter & 453 & Polyethylene freezer bag & gut section    & carnivore & NA & simple & simple\\\\\n",
       "\\end{tabular}\n"
      ],
      "text/markdown": [
       "\n",
       "A data.frame: 475 × 71\n",
       "\n",
       "| SampleID &lt;fct&gt; | host_subject_id &lt;fct&gt; | host_german_name &lt;fct&gt; | host_common_name &lt;fct&gt; | scientific_name &lt;fct&gt; | scientific_name_subspecies &lt;fct&gt; | host_taxid &lt;int&gt; | class &lt;fct&gt; | order &lt;fct&gt; | family &lt;fct&gt; | ⋯ ⋯ | temp_regulation &lt;fct&gt; | collection_date &lt;fct&gt; | season &lt;fct&gt; | samp_store_days &lt;fct&gt; | samp_collect_device &lt;fct&gt; | sampling_method &lt;fct&gt; | diet &lt;fct&gt; | feeding_style &lt;fct&gt; | digestive_system &lt;fct&gt; | digestive_system_detail &lt;fct&gt; |\n",
       "|---|---|---|---|---|---|---|---|---|---|---|---|---|---|---|---|---|---|---|---|---|\n",
       "| F14_Common_Bream | F14 | Brachse   | Common.Bream | Abramis_brama  | NA | 38527 | Actinopterygii | Cypriniformes | Cyprinidae | ⋯ | ectotherm/poikilotherm | 2010-08-10 | summer | 317 | Greiner Polypropylene Tube 50ml           | feces sampling | omnivore  | NA                | simple  | simple  |\n",
       "| F35_Red_Deer     | F35 | Rothirsch | Red.Deer     | Cervus_elaphus | NA |  9860 | Mammalia       | Artiodactyla  | Cervidae   | ⋯ | endotherm/homoiotherm  | 2010-09-29 | autumn | 229 | Greiner Polystyrene 30ml Faeces Container | feces sampling | herbivore | intermediate type | foregut | foregut |\n",
       "| ⋮ | ⋮ | ⋮ | ⋮ | ⋮ | ⋮ | ⋮ | ⋮ | ⋮ | ⋮ | ⋱ | ⋮ | ⋮ | ⋮ | ⋮ | ⋮ | ⋮ | ⋮ | ⋮ | ⋮ | ⋮ |\n",
       "| X189_fail_Rainbow_Trout | 189.fail | Regenbogenforelle | Rainbow.Trout | Oncorhynchus_mykiss | NA | 8022 | Actinopterygii | Salmoniformes | Salmonidae | ⋯ | ectotherm/poikilotherm | 2012-03-01 | winter | 467 | Eppendorf tube           | feces sampling | carnivore | NA | simple | simple |\n",
       "| X232_fail_Brown_Trout   | 232.fail | Seeforelle        | Brown.Trout   | Salmo_trutta        | NA | 8032 | Actinopterygii | Salmoniformes | Salmonidae | ⋯ | ectotherm/poikilotherm | 2012-03-15 | winter | 453 | Polyethylene freezer bag | gut section    | carnivore | NA | simple | simple |\n",
       "\n"
      ],
      "text/plain": [
       "    SampleID                host_subject_id host_german_name  host_common_name\n",
       "1   F14_Common_Bream        F14             Brachse           Common.Bream    \n",
       "2   F35_Red_Deer            F35             Rothirsch         Red.Deer        \n",
       "⋮   ⋮                       ⋮               ⋮                 ⋮               \n",
       "474 X189_fail_Rainbow_Trout 189.fail        Regenbogenforelle Rainbow.Trout   \n",
       "475 X232_fail_Brown_Trout   232.fail        Seeforelle        Brown.Trout     \n",
       "    scientific_name     scientific_name_subspecies host_taxid class         \n",
       "1   Abramis_brama       NA                         38527      Actinopterygii\n",
       "2   Cervus_elaphus      NA                          9860      Mammalia      \n",
       "⋮   ⋮                   ⋮                          ⋮          ⋮             \n",
       "474 Oncorhynchus_mykiss NA                         8022       Actinopterygii\n",
       "475 Salmo_trutta        NA                         8032       Actinopterygii\n",
       "    order         family     ⋯ temp_regulation        collection_date season\n",
       "1   Cypriniformes Cyprinidae ⋯ ectotherm/poikilotherm 2010-08-10      summer\n",
       "2   Artiodactyla  Cervidae   ⋯ endotherm/homoiotherm  2010-09-29      autumn\n",
       "⋮   ⋮             ⋮          ⋱ ⋮                      ⋮               ⋮     \n",
       "474 Salmoniformes Salmonidae ⋯ ectotherm/poikilotherm 2012-03-01      winter\n",
       "475 Salmoniformes Salmonidae ⋯ ectotherm/poikilotherm 2012-03-15      winter\n",
       "    samp_store_days samp_collect_device                       sampling_method\n",
       "1   317             Greiner Polypropylene Tube 50ml           feces sampling \n",
       "2   229             Greiner Polystyrene 30ml Faeces Container feces sampling \n",
       "⋮   ⋮               ⋮                                         ⋮              \n",
       "474 467             Eppendorf tube                            feces sampling \n",
       "475 453             Polyethylene freezer bag                  gut section    \n",
       "    diet      feeding_style     digestive_system digestive_system_detail\n",
       "1   omnivore  NA                simple           simple                 \n",
       "2   herbivore intermediate type foregut          foregut                \n",
       "⋮   ⋮         ⋮                 ⋮                ⋮                      \n",
       "474 carnivore NA                simple           simple                 \n",
       "475 carnivore NA                simple           simple                 "
      ]
     },
     "metadata": {},
     "output_type": "display_data"
    }
   ],
   "source": [
    "# metadata\n",
    "metadata = read.delim(metadata_file, sep='\\t')\n",
    "metadata"
   ]
  },
  {
   "cell_type": "code",
   "execution_count": 11,
   "metadata": {
    "ExecuteTime": {
     "end_time": "2020-03-05T14:19:56.810539Z",
     "start_time": "2020-03-05T14:19:56.780Z"
    }
   },
   "outputs": [
    {
     "data": {
      "text/html": [
       "<table>\n",
       "<caption>A data.frame: 51 × 5</caption>\n",
       "<thead>\n",
       "\t<tr><th scope=col>Sample</th><th scope=col>Run</th><th scope=col>Lane</th><th scope=col>Read1</th><th scope=col>Read2</th></tr>\n",
       "\t<tr><th scope=col>&lt;fct&gt;</th><th scope=col>&lt;int&gt;</th><th scope=col>&lt;int&gt;</th><th scope=col>&lt;fct&gt;</th><th scope=col>&lt;fct&gt;</th></tr>\n",
       "</thead>\n",
       "<tbody>\n",
       "\t<tr><td>X108_Striped_Desert_Hamster</td><td>190</td><td>1</td><td>/ebio/abt6_sra/years/2020/03_02/Georg_animal_gut_archaea_16S/illumina_M00333_flowcellA_SampleIdX108_Striped_Desert_Hamster_RunId0190_LaneId1/X108_Striped_Desert_Hamster_TACGCTGC-AGCCAACT_L001_R1_001.fastq.gz</td><td>/ebio/abt6_sra/years/2020/03_02/Georg_animal_gut_archaea_16S/illumina_M00333_flowcellA_SampleIdX108_Striped_Desert_Hamster_RunId0190_LaneId1/X108_Striped_Desert_Hamster_TACGCTGC-AGCCAACT_L001_R2_001.fastq.gz</td></tr>\n",
       "\t<tr><td>X109_Red_Fox               </td><td>190</td><td>1</td><td>/ebio/abt6_sra/years/2020/03_02/Georg_animal_gut_archaea_16S/illumina_M00333_flowcellA_SampleIdX109_Red_Fox_RunId0190_LaneId1/X109_Red_Fox_CGATCAGT-AGCCAACT_L001_R1_001.fastq.gz                              </td><td>/ebio/abt6_sra/years/2020/03_02/Georg_animal_gut_archaea_16S/illumina_M00333_flowcellA_SampleIdX109_Red_Fox_RunId0190_LaneId1/X109_Red_Fox_CGATCAGT-AGCCAACT_L001_R2_001.fastq.gz                              </td></tr>\n",
       "\t<tr><td>⋮</td><td>⋮</td><td>⋮</td><td>⋮</td><td>⋮</td></tr>\n",
       "\t<tr><td>XF302_Northern_Pike</td><td>190</td><td>1</td><td>/ebio/abt6_sra/years/2020/03_02/Georg_animal_gut_archaea_16S/illumina_M00333_flowcellA_SampleIdXF302_Northern_Pike_RunId0190_LaneId1/XF302_Northern_Pike_ACTCGCTA-CGCGGTTA_L001_R1_001.fastq.gz</td><td>/ebio/abt6_sra/years/2020/03_02/Georg_animal_gut_archaea_16S/illumina_M00333_flowcellA_SampleIdXF302_Northern_Pike_RunId0190_LaneId1/XF302_Northern_Pike_ACTCGCTA-CGCGGTTA_L001_R2_001.fastq.gz</td></tr>\n",
       "\t<tr><td>XF90_Domestic_Dog  </td><td>190</td><td>1</td><td>/ebio/abt6_sra/years/2020/03_02/Georg_animal_gut_archaea_16S/illumina_M00333_flowcellA_SampleIdXF90_Domestic_Dog_RunId0190_LaneId1/XF90_Domestic_Dog_GTAGAGGA-CGCGGTTA_L001_R1_001.fastq.gz    </td><td>/ebio/abt6_sra/years/2020/03_02/Georg_animal_gut_archaea_16S/illumina_M00333_flowcellA_SampleIdXF90_Domestic_Dog_RunId0190_LaneId1/XF90_Domestic_Dog_GTAGAGGA-CGCGGTTA_L001_R2_001.fastq.gz    </td></tr>\n",
       "</tbody>\n",
       "</table>\n"
      ],
      "text/latex": [
       "A data.frame: 51 × 5\n",
       "\\begin{tabular}{lllll}\n",
       " Sample & Run & Lane & Read1 & Read2\\\\\n",
       " <fct> & <int> & <int> & <fct> & <fct>\\\\\n",
       "\\hline\n",
       "\t X108\\_Striped\\_Desert\\_Hamster & 190 & 1 & /ebio/abt6\\_sra/years/2020/03\\_02/Georg\\_animal\\_gut\\_archaea\\_16S/illumina\\_M00333\\_flowcellA\\_SampleIdX108\\_Striped\\_Desert\\_Hamster\\_RunId0190\\_LaneId1/X108\\_Striped\\_Desert\\_Hamster\\_TACGCTGC-AGCCAACT\\_L001\\_R1\\_001.fastq.gz & /ebio/abt6\\_sra/years/2020/03\\_02/Georg\\_animal\\_gut\\_archaea\\_16S/illumina\\_M00333\\_flowcellA\\_SampleIdX108\\_Striped\\_Desert\\_Hamster\\_RunId0190\\_LaneId1/X108\\_Striped\\_Desert\\_Hamster\\_TACGCTGC-AGCCAACT\\_L001\\_R2\\_001.fastq.gz\\\\\n",
       "\t X109\\_Red\\_Fox                & 190 & 1 & /ebio/abt6\\_sra/years/2020/03\\_02/Georg\\_animal\\_gut\\_archaea\\_16S/illumina\\_M00333\\_flowcellA\\_SampleIdX109\\_Red\\_Fox\\_RunId0190\\_LaneId1/X109\\_Red\\_Fox\\_CGATCAGT-AGCCAACT\\_L001\\_R1\\_001.fastq.gz                               & /ebio/abt6\\_sra/years/2020/03\\_02/Georg\\_animal\\_gut\\_archaea\\_16S/illumina\\_M00333\\_flowcellA\\_SampleIdX109\\_Red\\_Fox\\_RunId0190\\_LaneId1/X109\\_Red\\_Fox\\_CGATCAGT-AGCCAACT\\_L001\\_R2\\_001.fastq.gz                              \\\\\n",
       "\t ⋮ & ⋮ & ⋮ & ⋮ & ⋮\\\\\n",
       "\t XF302\\_Northern\\_Pike & 190 & 1 & /ebio/abt6\\_sra/years/2020/03\\_02/Georg\\_animal\\_gut\\_archaea\\_16S/illumina\\_M00333\\_flowcellA\\_SampleIdXF302\\_Northern\\_Pike\\_RunId0190\\_LaneId1/XF302\\_Northern\\_Pike\\_ACTCGCTA-CGCGGTTA\\_L001\\_R1\\_001.fastq.gz & /ebio/abt6\\_sra/years/2020/03\\_02/Georg\\_animal\\_gut\\_archaea\\_16S/illumina\\_M00333\\_flowcellA\\_SampleIdXF302\\_Northern\\_Pike\\_RunId0190\\_LaneId1/XF302\\_Northern\\_Pike\\_ACTCGCTA-CGCGGTTA\\_L001\\_R2\\_001.fastq.gz\\\\\n",
       "\t XF90\\_Domestic\\_Dog   & 190 & 1 & /ebio/abt6\\_sra/years/2020/03\\_02/Georg\\_animal\\_gut\\_archaea\\_16S/illumina\\_M00333\\_flowcellA\\_SampleIdXF90\\_Domestic\\_Dog\\_RunId0190\\_LaneId1/XF90\\_Domestic\\_Dog\\_GTAGAGGA-CGCGGTTA\\_L001\\_R1\\_001.fastq.gz     & /ebio/abt6\\_sra/years/2020/03\\_02/Georg\\_animal\\_gut\\_archaea\\_16S/illumina\\_M00333\\_flowcellA\\_SampleIdXF90\\_Domestic\\_Dog\\_RunId0190\\_LaneId1/XF90\\_Domestic\\_Dog\\_GTAGAGGA-CGCGGTTA\\_L001\\_R2\\_001.fastq.gz    \\\\\n",
       "\\end{tabular}\n"
      ],
      "text/markdown": [
       "\n",
       "A data.frame: 51 × 5\n",
       "\n",
       "| Sample &lt;fct&gt; | Run &lt;int&gt; | Lane &lt;int&gt; | Read1 &lt;fct&gt; | Read2 &lt;fct&gt; |\n",
       "|---|---|---|---|---|\n",
       "| X108_Striped_Desert_Hamster | 190 | 1 | /ebio/abt6_sra/years/2020/03_02/Georg_animal_gut_archaea_16S/illumina_M00333_flowcellA_SampleIdX108_Striped_Desert_Hamster_RunId0190_LaneId1/X108_Striped_Desert_Hamster_TACGCTGC-AGCCAACT_L001_R1_001.fastq.gz | /ebio/abt6_sra/years/2020/03_02/Georg_animal_gut_archaea_16S/illumina_M00333_flowcellA_SampleIdX108_Striped_Desert_Hamster_RunId0190_LaneId1/X108_Striped_Desert_Hamster_TACGCTGC-AGCCAACT_L001_R2_001.fastq.gz |\n",
       "| X109_Red_Fox                | 190 | 1 | /ebio/abt6_sra/years/2020/03_02/Georg_animal_gut_archaea_16S/illumina_M00333_flowcellA_SampleIdX109_Red_Fox_RunId0190_LaneId1/X109_Red_Fox_CGATCAGT-AGCCAACT_L001_R1_001.fastq.gz                               | /ebio/abt6_sra/years/2020/03_02/Georg_animal_gut_archaea_16S/illumina_M00333_flowcellA_SampleIdX109_Red_Fox_RunId0190_LaneId1/X109_Red_Fox_CGATCAGT-AGCCAACT_L001_R2_001.fastq.gz                               |\n",
       "| ⋮ | ⋮ | ⋮ | ⋮ | ⋮ |\n",
       "| XF302_Northern_Pike | 190 | 1 | /ebio/abt6_sra/years/2020/03_02/Georg_animal_gut_archaea_16S/illumina_M00333_flowcellA_SampleIdXF302_Northern_Pike_RunId0190_LaneId1/XF302_Northern_Pike_ACTCGCTA-CGCGGTTA_L001_R1_001.fastq.gz | /ebio/abt6_sra/years/2020/03_02/Georg_animal_gut_archaea_16S/illumina_M00333_flowcellA_SampleIdXF302_Northern_Pike_RunId0190_LaneId1/XF302_Northern_Pike_ACTCGCTA-CGCGGTTA_L001_R2_001.fastq.gz |\n",
       "| XF90_Domestic_Dog   | 190 | 1 | /ebio/abt6_sra/years/2020/03_02/Georg_animal_gut_archaea_16S/illumina_M00333_flowcellA_SampleIdXF90_Domestic_Dog_RunId0190_LaneId1/XF90_Domestic_Dog_GTAGAGGA-CGCGGTTA_L001_R1_001.fastq.gz     | /ebio/abt6_sra/years/2020/03_02/Georg_animal_gut_archaea_16S/illumina_M00333_flowcellA_SampleIdXF90_Domestic_Dog_RunId0190_LaneId1/XF90_Domestic_Dog_GTAGAGGA-CGCGGTTA_L001_R2_001.fastq.gz     |\n",
       "\n"
      ],
      "text/plain": [
       "   Sample                      Run Lane\n",
       "1  X108_Striped_Desert_Hamster 190 1   \n",
       "2  X109_Red_Fox                190 1   \n",
       "⋮  ⋮                           ⋮   ⋮   \n",
       "50 XF302_Northern_Pike         190 1   \n",
       "51 XF90_Domestic_Dog           190 1   \n",
       "   Read1                                                                                                                                                                                                          \n",
       "1  /ebio/abt6_sra/years/2020/03_02/Georg_animal_gut_archaea_16S/illumina_M00333_flowcellA_SampleIdX108_Striped_Desert_Hamster_RunId0190_LaneId1/X108_Striped_Desert_Hamster_TACGCTGC-AGCCAACT_L001_R1_001.fastq.gz\n",
       "2  /ebio/abt6_sra/years/2020/03_02/Georg_animal_gut_archaea_16S/illumina_M00333_flowcellA_SampleIdX109_Red_Fox_RunId0190_LaneId1/X109_Red_Fox_CGATCAGT-AGCCAACT_L001_R1_001.fastq.gz                              \n",
       "⋮  ⋮                                                                                                                                                                                                              \n",
       "50 /ebio/abt6_sra/years/2020/03_02/Georg_animal_gut_archaea_16S/illumina_M00333_flowcellA_SampleIdXF302_Northern_Pike_RunId0190_LaneId1/XF302_Northern_Pike_ACTCGCTA-CGCGGTTA_L001_R1_001.fastq.gz                \n",
       "51 /ebio/abt6_sra/years/2020/03_02/Georg_animal_gut_archaea_16S/illumina_M00333_flowcellA_SampleIdXF90_Domestic_Dog_RunId0190_LaneId1/XF90_Domestic_Dog_GTAGAGGA-CGCGGTTA_L001_R1_001.fastq.gz                    \n",
       "   Read2                                                                                                                                                                                                          \n",
       "1  /ebio/abt6_sra/years/2020/03_02/Georg_animal_gut_archaea_16S/illumina_M00333_flowcellA_SampleIdX108_Striped_Desert_Hamster_RunId0190_LaneId1/X108_Striped_Desert_Hamster_TACGCTGC-AGCCAACT_L001_R2_001.fastq.gz\n",
       "2  /ebio/abt6_sra/years/2020/03_02/Georg_animal_gut_archaea_16S/illumina_M00333_flowcellA_SampleIdX109_Red_Fox_RunId0190_LaneId1/X109_Red_Fox_CGATCAGT-AGCCAACT_L001_R2_001.fastq.gz                              \n",
       "⋮  ⋮                                                                                                                                                                                                              \n",
       "50 /ebio/abt6_sra/years/2020/03_02/Georg_animal_gut_archaea_16S/illumina_M00333_flowcellA_SampleIdXF302_Northern_Pike_RunId0190_LaneId1/XF302_Northern_Pike_ACTCGCTA-CGCGGTTA_L001_R2_001.fastq.gz                \n",
       "51 /ebio/abt6_sra/years/2020/03_02/Georg_animal_gut_archaea_16S/illumina_M00333_flowcellA_SampleIdXF90_Domestic_Dog_RunId0190_LaneId1/XF90_Domestic_Dog_GTAGAGGA-CGCGGTTA_L001_R2_001.fastq.gz                    "
      ]
     },
     "metadata": {},
     "output_type": "display_data"
    }
   ],
   "source": [
    "# samples\n",
    "samp = read.delim(file.path(work_dir, 'samples.txt'), sep='\\t')\n",
    "samp "
   ]
  },
  {
   "cell_type": "code",
   "execution_count": 12,
   "metadata": {
    "ExecuteTime": {
     "end_time": "2020-03-05T14:19:59.175395Z",
     "start_time": "2020-03-05T14:19:59.140Z"
    }
   },
   "outputs": [
    {
     "name": "stdout",
     "output_type": "stream",
     "text": [
      "intersect(x,y): 51 \n",
      "setdiff(x,y): 0 \n",
      "setdiff(y,x): 424 \n",
      "union(x,y): 475 \n"
     ]
    }
   ],
   "source": [
    "# formatting\n",
    "samp = samp %>%\n",
    "    mutate(Sample = gsub('^XF', 'F', Sample))\n",
    "\n",
    "# checking overlap with metadata\n",
    "overlap(samp$Sample, metadata$SampleID)"
   ]
  },
  {
   "cell_type": "code",
   "execution_count": 17,
   "metadata": {
    "ExecuteTime": {
     "end_time": "2020-03-05T14:20:59.748153Z",
     "start_time": "2020-03-05T14:20:59.724Z"
    }
   },
   "outputs": [
    {
     "name": "stdout",
     "output_type": "stream",
     "text": [
      "intersect(x,y): 50 \n",
      "setdiff(x,y): 0 \n",
      "setdiff(y,x): 425 \n",
      "union(x,y): 475 \n"
     ]
    },
    {
     "data": {
      "text/html": [
       "<table>\n",
       "<caption>A data.frame: 50 × 5</caption>\n",
       "<thead>\n",
       "\t<tr><th scope=col>Sample</th><th scope=col>Run</th><th scope=col>Lane</th><th scope=col>Read1</th><th scope=col>Read2</th></tr>\n",
       "\t<tr><th scope=col>&lt;chr&gt;</th><th scope=col>&lt;int&gt;</th><th scope=col>&lt;int&gt;</th><th scope=col>&lt;fct&gt;</th><th scope=col>&lt;fct&gt;</th></tr>\n",
       "</thead>\n",
       "<tbody>\n",
       "\t<tr><td>X108_Striped_Desert_Hamster</td><td>190</td><td>1</td><td>/ebio/abt6_sra/years/2020/03_02/Georg_animal_gut_archaea_16S/illumina_M00333_flowcellA_SampleIdX108_Striped_Desert_Hamster_RunId0190_LaneId1/X108_Striped_Desert_Hamster_TACGCTGC-AGCCAACT_L001_R1_001.fastq.gz</td><td>/ebio/abt6_sra/years/2020/03_02/Georg_animal_gut_archaea_16S/illumina_M00333_flowcellA_SampleIdX108_Striped_Desert_Hamster_RunId0190_LaneId1/X108_Striped_Desert_Hamster_TACGCTGC-AGCCAACT_L001_R2_001.fastq.gz</td></tr>\n",
       "\t<tr><td>X109_Red_Fox               </td><td>190</td><td>1</td><td>/ebio/abt6_sra/years/2020/03_02/Georg_animal_gut_archaea_16S/illumina_M00333_flowcellA_SampleIdX109_Red_Fox_RunId0190_LaneId1/X109_Red_Fox_CGATCAGT-AGCCAACT_L001_R1_001.fastq.gz                              </td><td>/ebio/abt6_sra/years/2020/03_02/Georg_animal_gut_archaea_16S/illumina_M00333_flowcellA_SampleIdX109_Red_Fox_RunId0190_LaneId1/X109_Red_Fox_CGATCAGT-AGCCAACT_L001_R2_001.fastq.gz                              </td></tr>\n",
       "\t<tr><td>⋮</td><td>⋮</td><td>⋮</td><td>⋮</td><td>⋮</td></tr>\n",
       "\t<tr><td>F302_Northern_Pike</td><td>190</td><td>1</td><td>/ebio/abt6_sra/years/2020/03_02/Georg_animal_gut_archaea_16S/illumina_M00333_flowcellA_SampleIdXF302_Northern_Pike_RunId0190_LaneId1/XF302_Northern_Pike_ACTCGCTA-CGCGGTTA_L001_R1_001.fastq.gz</td><td>/ebio/abt6_sra/years/2020/03_02/Georg_animal_gut_archaea_16S/illumina_M00333_flowcellA_SampleIdXF302_Northern_Pike_RunId0190_LaneId1/XF302_Northern_Pike_ACTCGCTA-CGCGGTTA_L001_R2_001.fastq.gz</td></tr>\n",
       "\t<tr><td>F90_Domestic_Dog  </td><td>190</td><td>1</td><td>/ebio/abt6_sra/years/2020/03_02/Georg_animal_gut_archaea_16S/illumina_M00333_flowcellA_SampleIdXF90_Domestic_Dog_RunId0190_LaneId1/XF90_Domestic_Dog_GTAGAGGA-CGCGGTTA_L001_R1_001.fastq.gz    </td><td>/ebio/abt6_sra/years/2020/03_02/Georg_animal_gut_archaea_16S/illumina_M00333_flowcellA_SampleIdXF90_Domestic_Dog_RunId0190_LaneId1/XF90_Domestic_Dog_GTAGAGGA-CGCGGTTA_L001_R2_001.fastq.gz    </td></tr>\n",
       "</tbody>\n",
       "</table>\n"
      ],
      "text/latex": [
       "A data.frame: 50 × 5\n",
       "\\begin{tabular}{lllll}\n",
       " Sample & Run & Lane & Read1 & Read2\\\\\n",
       " <chr> & <int> & <int> & <fct> & <fct>\\\\\n",
       "\\hline\n",
       "\t X108\\_Striped\\_Desert\\_Hamster & 190 & 1 & /ebio/abt6\\_sra/years/2020/03\\_02/Georg\\_animal\\_gut\\_archaea\\_16S/illumina\\_M00333\\_flowcellA\\_SampleIdX108\\_Striped\\_Desert\\_Hamster\\_RunId0190\\_LaneId1/X108\\_Striped\\_Desert\\_Hamster\\_TACGCTGC-AGCCAACT\\_L001\\_R1\\_001.fastq.gz & /ebio/abt6\\_sra/years/2020/03\\_02/Georg\\_animal\\_gut\\_archaea\\_16S/illumina\\_M00333\\_flowcellA\\_SampleIdX108\\_Striped\\_Desert\\_Hamster\\_RunId0190\\_LaneId1/X108\\_Striped\\_Desert\\_Hamster\\_TACGCTGC-AGCCAACT\\_L001\\_R2\\_001.fastq.gz\\\\\n",
       "\t X109\\_Red\\_Fox                & 190 & 1 & /ebio/abt6\\_sra/years/2020/03\\_02/Georg\\_animal\\_gut\\_archaea\\_16S/illumina\\_M00333\\_flowcellA\\_SampleIdX109\\_Red\\_Fox\\_RunId0190\\_LaneId1/X109\\_Red\\_Fox\\_CGATCAGT-AGCCAACT\\_L001\\_R1\\_001.fastq.gz                               & /ebio/abt6\\_sra/years/2020/03\\_02/Georg\\_animal\\_gut\\_archaea\\_16S/illumina\\_M00333\\_flowcellA\\_SampleIdX109\\_Red\\_Fox\\_RunId0190\\_LaneId1/X109\\_Red\\_Fox\\_CGATCAGT-AGCCAACT\\_L001\\_R2\\_001.fastq.gz                              \\\\\n",
       "\t ⋮ & ⋮ & ⋮ & ⋮ & ⋮\\\\\n",
       "\t F302\\_Northern\\_Pike & 190 & 1 & /ebio/abt6\\_sra/years/2020/03\\_02/Georg\\_animal\\_gut\\_archaea\\_16S/illumina\\_M00333\\_flowcellA\\_SampleIdXF302\\_Northern\\_Pike\\_RunId0190\\_LaneId1/XF302\\_Northern\\_Pike\\_ACTCGCTA-CGCGGTTA\\_L001\\_R1\\_001.fastq.gz & /ebio/abt6\\_sra/years/2020/03\\_02/Georg\\_animal\\_gut\\_archaea\\_16S/illumina\\_M00333\\_flowcellA\\_SampleIdXF302\\_Northern\\_Pike\\_RunId0190\\_LaneId1/XF302\\_Northern\\_Pike\\_ACTCGCTA-CGCGGTTA\\_L001\\_R2\\_001.fastq.gz\\\\\n",
       "\t F90\\_Domestic\\_Dog   & 190 & 1 & /ebio/abt6\\_sra/years/2020/03\\_02/Georg\\_animal\\_gut\\_archaea\\_16S/illumina\\_M00333\\_flowcellA\\_SampleIdXF90\\_Domestic\\_Dog\\_RunId0190\\_LaneId1/XF90\\_Domestic\\_Dog\\_GTAGAGGA-CGCGGTTA\\_L001\\_R1\\_001.fastq.gz     & /ebio/abt6\\_sra/years/2020/03\\_02/Georg\\_animal\\_gut\\_archaea\\_16S/illumina\\_M00333\\_flowcellA\\_SampleIdXF90\\_Domestic\\_Dog\\_RunId0190\\_LaneId1/XF90\\_Domestic\\_Dog\\_GTAGAGGA-CGCGGTTA\\_L001\\_R2\\_001.fastq.gz    \\\\\n",
       "\\end{tabular}\n"
      ],
      "text/markdown": [
       "\n",
       "A data.frame: 50 × 5\n",
       "\n",
       "| Sample &lt;chr&gt; | Run &lt;int&gt; | Lane &lt;int&gt; | Read1 &lt;fct&gt; | Read2 &lt;fct&gt; |\n",
       "|---|---|---|---|---|\n",
       "| X108_Striped_Desert_Hamster | 190 | 1 | /ebio/abt6_sra/years/2020/03_02/Georg_animal_gut_archaea_16S/illumina_M00333_flowcellA_SampleIdX108_Striped_Desert_Hamster_RunId0190_LaneId1/X108_Striped_Desert_Hamster_TACGCTGC-AGCCAACT_L001_R1_001.fastq.gz | /ebio/abt6_sra/years/2020/03_02/Georg_animal_gut_archaea_16S/illumina_M00333_flowcellA_SampleIdX108_Striped_Desert_Hamster_RunId0190_LaneId1/X108_Striped_Desert_Hamster_TACGCTGC-AGCCAACT_L001_R2_001.fastq.gz |\n",
       "| X109_Red_Fox                | 190 | 1 | /ebio/abt6_sra/years/2020/03_02/Georg_animal_gut_archaea_16S/illumina_M00333_flowcellA_SampleIdX109_Red_Fox_RunId0190_LaneId1/X109_Red_Fox_CGATCAGT-AGCCAACT_L001_R1_001.fastq.gz                               | /ebio/abt6_sra/years/2020/03_02/Georg_animal_gut_archaea_16S/illumina_M00333_flowcellA_SampleIdX109_Red_Fox_RunId0190_LaneId1/X109_Red_Fox_CGATCAGT-AGCCAACT_L001_R2_001.fastq.gz                               |\n",
       "| ⋮ | ⋮ | ⋮ | ⋮ | ⋮ |\n",
       "| F302_Northern_Pike | 190 | 1 | /ebio/abt6_sra/years/2020/03_02/Georg_animal_gut_archaea_16S/illumina_M00333_flowcellA_SampleIdXF302_Northern_Pike_RunId0190_LaneId1/XF302_Northern_Pike_ACTCGCTA-CGCGGTTA_L001_R1_001.fastq.gz | /ebio/abt6_sra/years/2020/03_02/Georg_animal_gut_archaea_16S/illumina_M00333_flowcellA_SampleIdXF302_Northern_Pike_RunId0190_LaneId1/XF302_Northern_Pike_ACTCGCTA-CGCGGTTA_L001_R2_001.fastq.gz |\n",
       "| F90_Domestic_Dog   | 190 | 1 | /ebio/abt6_sra/years/2020/03_02/Georg_animal_gut_archaea_16S/illumina_M00333_flowcellA_SampleIdXF90_Domestic_Dog_RunId0190_LaneId1/XF90_Domestic_Dog_GTAGAGGA-CGCGGTTA_L001_R1_001.fastq.gz     | /ebio/abt6_sra/years/2020/03_02/Georg_animal_gut_archaea_16S/illumina_M00333_flowcellA_SampleIdXF90_Domestic_Dog_RunId0190_LaneId1/XF90_Domestic_Dog_GTAGAGGA-CGCGGTTA_L001_R2_001.fastq.gz     |\n",
       "\n"
      ],
      "text/plain": [
       "   Sample                      Run Lane\n",
       "1  X108_Striped_Desert_Hamster 190 1   \n",
       "2  X109_Red_Fox                190 1   \n",
       "⋮  ⋮                           ⋮   ⋮   \n",
       "49 F302_Northern_Pike          190 1   \n",
       "50 F90_Domestic_Dog            190 1   \n",
       "   Read1                                                                                                                                                                                                          \n",
       "1  /ebio/abt6_sra/years/2020/03_02/Georg_animal_gut_archaea_16S/illumina_M00333_flowcellA_SampleIdX108_Striped_Desert_Hamster_RunId0190_LaneId1/X108_Striped_Desert_Hamster_TACGCTGC-AGCCAACT_L001_R1_001.fastq.gz\n",
       "2  /ebio/abt6_sra/years/2020/03_02/Georg_animal_gut_archaea_16S/illumina_M00333_flowcellA_SampleIdX109_Red_Fox_RunId0190_LaneId1/X109_Red_Fox_CGATCAGT-AGCCAACT_L001_R1_001.fastq.gz                              \n",
       "⋮  ⋮                                                                                                                                                                                                              \n",
       "49 /ebio/abt6_sra/years/2020/03_02/Georg_animal_gut_archaea_16S/illumina_M00333_flowcellA_SampleIdXF302_Northern_Pike_RunId0190_LaneId1/XF302_Northern_Pike_ACTCGCTA-CGCGGTTA_L001_R1_001.fastq.gz                \n",
       "50 /ebio/abt6_sra/years/2020/03_02/Georg_animal_gut_archaea_16S/illumina_M00333_flowcellA_SampleIdXF90_Domestic_Dog_RunId0190_LaneId1/XF90_Domestic_Dog_GTAGAGGA-CGCGGTTA_L001_R1_001.fastq.gz                    \n",
       "   Read2                                                                                                                                                                                                          \n",
       "1  /ebio/abt6_sra/years/2020/03_02/Georg_animal_gut_archaea_16S/illumina_M00333_flowcellA_SampleIdX108_Striped_Desert_Hamster_RunId0190_LaneId1/X108_Striped_Desert_Hamster_TACGCTGC-AGCCAACT_L001_R2_001.fastq.gz\n",
       "2  /ebio/abt6_sra/years/2020/03_02/Georg_animal_gut_archaea_16S/illumina_M00333_flowcellA_SampleIdX109_Red_Fox_RunId0190_LaneId1/X109_Red_Fox_CGATCAGT-AGCCAACT_L001_R2_001.fastq.gz                              \n",
       "⋮  ⋮                                                                                                                                                                                                              \n",
       "49 /ebio/abt6_sra/years/2020/03_02/Georg_animal_gut_archaea_16S/illumina_M00333_flowcellA_SampleIdXF302_Northern_Pike_RunId0190_LaneId1/XF302_Northern_Pike_ACTCGCTA-CGCGGTTA_L001_R2_001.fastq.gz                \n",
       "50 /ebio/abt6_sra/years/2020/03_02/Georg_animal_gut_archaea_16S/illumina_M00333_flowcellA_SampleIdXF90_Domestic_Dog_RunId0190_LaneId1/XF90_Domestic_Dog_GTAGAGGA-CGCGGTTA_L001_R2_001.fastq.gz                    "
      ]
     },
     "metadata": {},
     "output_type": "display_data"
    }
   ],
   "source": [
    "# removing poor read quality samples\n",
    "to_rm = 'X78_Indian_Gazelle'\n",
    "samp = samp %>%\n",
    "    filter(!Sample %in% to_rm) \n",
    "overlap(samp$Sample, metadata$SampleID)\n",
    "samp"
   ]
  },
  {
   "cell_type": "code",
   "execution_count": 18,
   "metadata": {
    "ExecuteTime": {
     "end_time": "2020-03-05T14:21:03.092745Z",
     "start_time": "2020-03-05T14:21:03.080Z"
    }
   },
   "outputs": [
    {
     "name": "stdout",
     "output_type": "stream",
     "text": [
      "File written: /ebio/abt3_projects/Georg_animal_feces/data/16S_arch/MiSeq-Runs-116-122-126-189-190/LLA/Run0190//samples_rn.txt \n"
     ]
    }
   ],
   "source": [
    "# writing\n",
    "out_file = file.path(work_dir, 'samples_rn.txt')\n",
    "write.table(samp, file=out_file, sep='\\t', quote=FALSE, row.names=FALSE)\n",
    "cat('File written:', out_file, '\\n')"
   ]
  },
  {
   "cell_type": "markdown",
   "metadata": {},
   "source": [
    "# LLA"
   ]
  },
  {
   "cell_type": "markdown",
   "metadata": {},
   "source": [
    "## Config"
   ]
  },
  {
   "cell_type": "code",
   "execution_count": 23,
   "metadata": {
    "ExecuteTime": {
     "end_time": "2020-03-05T17:56:53.965880Z",
     "start_time": "2020-03-05T17:56:53.429Z"
    }
   },
   "outputs": [
    {
     "name": "stdout",
     "output_type": "stream",
     "text": [
      "# table with sample --> read_file information \n",
      "samples_file: /ebio/abt3_projects/Georg_animal_feces/data/16S_arch/MiSeq-Runs-116-122-126-189-190/LLA/Run0190/samples_rn.txt\n",
      "\n",
      "# output location\n",
      "output_dir: /ebio/abt3_projects/Georg_animal_feces/data/16S_arch/MiSeq-Runs-116-122-126-189-190/LLA/Run0190/\n",
      "\n",
      "\n",
      "#---- You probably don't need to change anything below this line ----#\n",
      "\n",
      "# taxonomy classifier database (SILVA by default)\n",
      "classifier: /ebio/abt3_projects/databases/leylab16s/classifiers/scikit_0.21.2/silva-132-99-515-806-nb-classifier.qza\n",
      "\n",
      "# params (change as needed)\n",
      "params:\n",
      "  trimmomatic:\n",
      "    sample_size: 10000\n",
      "    window_size: 20\n",
      "    qlty_threshold: 25\n",
      "  feature_table_merge:\n",
      "    p_overlap_method: sum\n",
      "  classify_sklearn:\n",
      "    p_reads_per_batch: 1000\n",
      "  filter_table:\n",
      "    p_include:\n",
      "      - D_1__\n",
      "    p_exclude:\n",
      "      - D_0__Eukaryota,D_4__mitochondria,D_2__Chloroplast\n",
      "\n",
      "\n",
      "# snakemake pipeline\n",
      "pipeline:\n",
      "  snakemake_folder: ./\n",
      "  script_folder: ./bin/scripts/\n",
      "  temp_folder: /tmp/global2/nyoungblut/"
     ]
    }
   ],
   "source": [
    "cat_file(file.path(work_dir, 'config.yaml'))"
   ]
  },
  {
   "cell_type": "markdown",
   "metadata": {},
   "source": [
    "## Run"
   ]
  },
  {
   "cell_type": "markdown",
   "metadata": {},
   "source": [
    "```\n",
    "(snakemake) @ rick:/ebio/abt3_projects/Georg_animal_feces/bin/lla\n",
    "$ screen -L -S LLA-run190 ./snakemake_sge.sh /ebio/abt3_projects/Georg_animal_feces/data/16S_arch/MiSeq-Runs-116-122-126-189-190/LLA/Run0190/config.yaml cluster.json 20\n",
    "```"
   ]
  },
  {
   "cell_type": "markdown",
   "metadata": {},
   "source": [
    "# Summary"
   ]
  },
  {
   "cell_type": "code",
   "execution_count": 24,
   "metadata": {
    "ExecuteTime": {
     "end_time": "2020-03-06T07:34:44.462076Z",
     "start_time": "2020-03-06T07:34:44.301Z"
    }
   },
   "outputs": [
    {
     "data": {
      "text/html": [
       "<table>\n",
       "<caption>A data.frame: 18 × 10</caption>\n",
       "<thead>\n",
       "\t<tr><th></th><th scope=col>size</th><th scope=col>isdir</th><th scope=col>mode</th><th scope=col>mtime</th><th scope=col>ctime</th><th scope=col>atime</th><th scope=col>uid</th><th scope=col>gid</th><th scope=col>uname</th><th scope=col>grname</th></tr>\n",
       "\t<tr><th></th><th scope=col>&lt;dbl&gt;</th><th scope=col>&lt;lgl&gt;</th><th scope=col>&lt;octmode&gt;</th><th scope=col>&lt;dttm&gt;</th><th scope=col>&lt;dttm&gt;</th><th scope=col>&lt;dttm&gt;</th><th scope=col>&lt;int&gt;</th><th scope=col>&lt;int&gt;</th><th scope=col>&lt;chr&gt;</th><th scope=col>&lt;chr&gt;</th></tr>\n",
       "</thead>\n",
       "<tbody>\n",
       "\t<tr><th scope=row>/ebio/abt3_projects/Georg_animal_feces/data/16S_arch/MiSeq-Runs-116-122-126-189-190/LLA/Run0190//aligned-rep-seqs.qza</th><td> 963220</td><td>FALSE</td><td>0644</td><td>2020-03-05 22:14:05</td><td>2020-03-05 22:14:05</td><td>2020-03-05 22:14:05</td><td>6354</td><td>353</td><td>nyoungblut</td><td>abt3</td></tr>\n",
       "\t<tr><th scope=row>/ebio/abt3_projects/Georg_animal_feces/data/16S_arch/MiSeq-Runs-116-122-126-189-190/LLA/Run0190//benchmark</th><td>   4096</td><td> TRUE</td><td>2755</td><td>2020-03-05 22:36:54</td><td>2020-03-05 22:36:54</td><td>2020-03-05 18:58:39</td><td>6354</td><td>353</td><td>nyoungblut</td><td>abt3</td></tr>\n",
       "\t<tr><th scope=row>/ebio/abt3_projects/Georg_animal_feces/data/16S_arch/MiSeq-Runs-116-122-126-189-190/LLA/Run0190//config.yaml</th><td>   1002</td><td>FALSE</td><td>0644</td><td>2020-03-05 18:56:34</td><td>2020-03-05 18:56:34</td><td>2020-03-05 18:56:34</td><td>6354</td><td>353</td><td>nyoungblut</td><td>abt3</td></tr>\n",
       "\t<tr><th scope=row>/ebio/abt3_projects/Georg_animal_feces/data/16S_arch/MiSeq-Runs-116-122-126-189-190/LLA/Run0190//data_export_2020-03-04.csv</th><td>  34546</td><td>FALSE</td><td>0644</td><td>2020-03-05 18:56:39</td><td>2020-03-05 18:56:39</td><td>2020-03-05 18:56:39</td><td>6354</td><td>353</td><td>nyoungblut</td><td>abt3</td></tr>\n",
       "\t<tr><th scope=row>/ebio/abt3_projects/Georg_animal_feces/data/16S_arch/MiSeq-Runs-116-122-126-189-190/LLA/Run0190//log</th><td>   4096</td><td> TRUE</td><td>2755</td><td>2020-03-05 22:35:06</td><td>2020-03-05 22:35:06</td><td>2020-03-05 18:57:22</td><td>6354</td><td>353</td><td>nyoungblut</td><td>abt3</td></tr>\n",
       "\t<tr><th scope=row>/ebio/abt3_projects/Georg_animal_feces/data/16S_arch/MiSeq-Runs-116-122-126-189-190/LLA/Run0190//masked-aligned-rep-seqs.qza</th><td> 903443</td><td>FALSE</td><td>0644</td><td>2020-03-05 22:17:46</td><td>2020-03-05 22:17:46</td><td>2020-03-05 22:17:46</td><td>6354</td><td>353</td><td>nyoungblut</td><td>abt3</td></tr>\n",
       "\t<tr><th scope=row>/ebio/abt3_projects/Georg_animal_feces/data/16S_arch/MiSeq-Runs-116-122-126-189-190/LLA/Run0190//midpoint-rooted-tree.qza</th><td> 437582</td><td>FALSE</td><td>0644</td><td>2020-03-05 22:37:23</td><td>2020-03-05 22:37:23</td><td>2020-03-05 22:37:23</td><td>6354</td><td>353</td><td>nyoungblut</td><td>abt3</td></tr>\n",
       "\t<tr><th scope=row>/ebio/abt3_projects/Georg_animal_feces/data/16S_arch/MiSeq-Runs-116-122-126-189-190/LLA/Run0190//rep-seqs_merged_filt.qza</th><td> 850020</td><td>FALSE</td><td>0644</td><td>2020-03-05 21:44:04</td><td>2020-03-05 21:44:04</td><td>2020-03-05 21:44:04</td><td>6354</td><td>353</td><td>nyoungblut</td><td>abt3</td></tr>\n",
       "\t<tr><th scope=row>/ebio/abt3_projects/Georg_animal_feces/data/16S_arch/MiSeq-Runs-116-122-126-189-190/LLA/Run0190//rep-seqs_merged.qza</th><td>1090824</td><td>FALSE</td><td>0644</td><td>2020-03-05 20:59:14</td><td>2020-03-05 20:59:14</td><td>2020-03-05 20:59:14</td><td>6354</td><td>353</td><td>nyoungblut</td><td>abt3</td></tr>\n",
       "\t<tr><th scope=row>/ebio/abt3_projects/Georg_animal_feces/data/16S_arch/MiSeq-Runs-116-122-126-189-190/LLA/Run0190//Run190</th><td>    216</td><td> TRUE</td><td>2755</td><td>2020-03-05 20:55:15</td><td>2020-03-05 20:55:15</td><td>2020-03-05 18:57:21</td><td>6354</td><td>353</td><td>nyoungblut</td><td>abt3</td></tr>\n",
       "\t<tr><th scope=row>/ebio/abt3_projects/Georg_animal_feces/data/16S_arch/MiSeq-Runs-116-122-126-189-190/LLA/Run0190//samples_rn.txt</th><td>  20386</td><td>FALSE</td><td>0644</td><td>2020-03-05 18:56:26</td><td>2020-03-05 18:56:26</td><td>2020-03-05 18:56:26</td><td>6354</td><td>353</td><td>nyoungblut</td><td>abt3</td></tr>\n",
       "\t<tr><th scope=row>/ebio/abt3_projects/Georg_animal_feces/data/16S_arch/MiSeq-Runs-116-122-126-189-190/LLA/Run0190//samples.txt</th><td>  20793</td><td>FALSE</td><td>0644</td><td>2020-03-05 18:56:26</td><td>2020-03-05 18:56:26</td><td>2020-03-05 18:56:26</td><td>6354</td><td>353</td><td>nyoungblut</td><td>abt3</td></tr>\n",
       "\t<tr><th scope=row>/ebio/abt3_projects/Georg_animal_feces/data/16S_arch/MiSeq-Runs-116-122-126-189-190/LLA/Run0190//table_merged_filt.qza</th><td> 309261</td><td>FALSE</td><td>0644</td><td>2020-03-05 21:36:48</td><td>2020-03-05 21:36:48</td><td>2020-03-05 21:36:48</td><td>6354</td><td>353</td><td>nyoungblut</td><td>abt3</td></tr>\n",
       "\t<tr><th scope=row>/ebio/abt3_projects/Georg_animal_feces/data/16S_arch/MiSeq-Runs-116-122-126-189-190/LLA/Run0190//table_merged_filt.txt</th><td> 258929</td><td>FALSE</td><td>0644</td><td>2020-03-05 21:39:41</td><td>2020-03-05 21:39:41</td><td>2020-03-05 21:39:41</td><td>6354</td><td>353</td><td>nyoungblut</td><td>abt3</td></tr>\n",
       "\t<tr><th scope=row>/ebio/abt3_projects/Georg_animal_feces/data/16S_arch/MiSeq-Runs-116-122-126-189-190/LLA/Run0190//table_merged.qza</th><td> 327353</td><td>FALSE</td><td>0644</td><td>2020-03-05 21:00:36</td><td>2020-03-05 21:00:36</td><td>2020-03-05 21:00:36</td><td>6354</td><td>353</td><td>nyoungblut</td><td>abt3</td></tr>\n",
       "\t<tr><th scope=row>/ebio/abt3_projects/Georg_animal_feces/data/16S_arch/MiSeq-Runs-116-122-126-189-190/LLA/Run0190//taxonomy.qza</th><td> 462895</td><td>FALSE</td><td>0644</td><td>2020-03-05 21:32:22</td><td>2020-03-05 21:32:22</td><td>2020-03-05 21:32:22</td><td>6354</td><td>353</td><td>nyoungblut</td><td>abt3</td></tr>\n",
       "\t<tr><th scope=row>/ebio/abt3_projects/Georg_animal_feces/data/16S_arch/MiSeq-Runs-116-122-126-189-190/LLA/Run0190//taxonomy.qzv</th><td>2556693</td><td>FALSE</td><td>0644</td><td>2020-03-05 21:36:48</td><td>2020-03-05 21:36:48</td><td>2020-03-05 21:36:48</td><td>6354</td><td>353</td><td>nyoungblut</td><td>abt3</td></tr>\n",
       "\t<tr><th scope=row>/ebio/abt3_projects/Georg_animal_feces/data/16S_arch/MiSeq-Runs-116-122-126-189-190/LLA/Run0190//unrooted-tree.qza</th><td> 439304</td><td>FALSE</td><td>0644</td><td>2020-03-05 22:34:19</td><td>2020-03-05 22:34:19</td><td>2020-03-05 22:34:19</td><td>6354</td><td>353</td><td>nyoungblut</td><td>abt3</td></tr>\n",
       "</tbody>\n",
       "</table>\n"
      ],
      "text/latex": [
       "A data.frame: 18 × 10\n",
       "\\begin{tabular}{r|llllllllll}\n",
       "  & size & isdir & mode & mtime & ctime & atime & uid & gid & uname & grname\\\\\n",
       "  & <dbl> & <lgl> & <octmode> & <dttm> & <dttm> & <dttm> & <int> & <int> & <chr> & <chr>\\\\\n",
       "\\hline\n",
       "\t/ebio/abt3\\_projects/Georg\\_animal\\_feces/data/16S\\_arch/MiSeq-Runs-116-122-126-189-190/LLA/Run0190//aligned-rep-seqs.qza &  963220 & FALSE & 0644 & 2020-03-05 22:14:05 & 2020-03-05 22:14:05 & 2020-03-05 22:14:05 & 6354 & 353 & nyoungblut & abt3\\\\\n",
       "\t/ebio/abt3\\_projects/Georg\\_animal\\_feces/data/16S\\_arch/MiSeq-Runs-116-122-126-189-190/LLA/Run0190//benchmark &    4096 &  TRUE & 2755 & 2020-03-05 22:36:54 & 2020-03-05 22:36:54 & 2020-03-05 18:58:39 & 6354 & 353 & nyoungblut & abt3\\\\\n",
       "\t/ebio/abt3\\_projects/Georg\\_animal\\_feces/data/16S\\_arch/MiSeq-Runs-116-122-126-189-190/LLA/Run0190//config.yaml &    1002 & FALSE & 0644 & 2020-03-05 18:56:34 & 2020-03-05 18:56:34 & 2020-03-05 18:56:34 & 6354 & 353 & nyoungblut & abt3\\\\\n",
       "\t/ebio/abt3\\_projects/Georg\\_animal\\_feces/data/16S\\_arch/MiSeq-Runs-116-122-126-189-190/LLA/Run0190//data\\_export\\_2020-03-04.csv &   34546 & FALSE & 0644 & 2020-03-05 18:56:39 & 2020-03-05 18:56:39 & 2020-03-05 18:56:39 & 6354 & 353 & nyoungblut & abt3\\\\\n",
       "\t/ebio/abt3\\_projects/Georg\\_animal\\_feces/data/16S\\_arch/MiSeq-Runs-116-122-126-189-190/LLA/Run0190//log &    4096 &  TRUE & 2755 & 2020-03-05 22:35:06 & 2020-03-05 22:35:06 & 2020-03-05 18:57:22 & 6354 & 353 & nyoungblut & abt3\\\\\n",
       "\t/ebio/abt3\\_projects/Georg\\_animal\\_feces/data/16S\\_arch/MiSeq-Runs-116-122-126-189-190/LLA/Run0190//masked-aligned-rep-seqs.qza &  903443 & FALSE & 0644 & 2020-03-05 22:17:46 & 2020-03-05 22:17:46 & 2020-03-05 22:17:46 & 6354 & 353 & nyoungblut & abt3\\\\\n",
       "\t/ebio/abt3\\_projects/Georg\\_animal\\_feces/data/16S\\_arch/MiSeq-Runs-116-122-126-189-190/LLA/Run0190//midpoint-rooted-tree.qza &  437582 & FALSE & 0644 & 2020-03-05 22:37:23 & 2020-03-05 22:37:23 & 2020-03-05 22:37:23 & 6354 & 353 & nyoungblut & abt3\\\\\n",
       "\t/ebio/abt3\\_projects/Georg\\_animal\\_feces/data/16S\\_arch/MiSeq-Runs-116-122-126-189-190/LLA/Run0190//rep-seqs\\_merged\\_filt.qza &  850020 & FALSE & 0644 & 2020-03-05 21:44:04 & 2020-03-05 21:44:04 & 2020-03-05 21:44:04 & 6354 & 353 & nyoungblut & abt3\\\\\n",
       "\t/ebio/abt3\\_projects/Georg\\_animal\\_feces/data/16S\\_arch/MiSeq-Runs-116-122-126-189-190/LLA/Run0190//rep-seqs\\_merged.qza & 1090824 & FALSE & 0644 & 2020-03-05 20:59:14 & 2020-03-05 20:59:14 & 2020-03-05 20:59:14 & 6354 & 353 & nyoungblut & abt3\\\\\n",
       "\t/ebio/abt3\\_projects/Georg\\_animal\\_feces/data/16S\\_arch/MiSeq-Runs-116-122-126-189-190/LLA/Run0190//Run190 &     216 &  TRUE & 2755 & 2020-03-05 20:55:15 & 2020-03-05 20:55:15 & 2020-03-05 18:57:21 & 6354 & 353 & nyoungblut & abt3\\\\\n",
       "\t/ebio/abt3\\_projects/Georg\\_animal\\_feces/data/16S\\_arch/MiSeq-Runs-116-122-126-189-190/LLA/Run0190//samples\\_rn.txt &   20386 & FALSE & 0644 & 2020-03-05 18:56:26 & 2020-03-05 18:56:26 & 2020-03-05 18:56:26 & 6354 & 353 & nyoungblut & abt3\\\\\n",
       "\t/ebio/abt3\\_projects/Georg\\_animal\\_feces/data/16S\\_arch/MiSeq-Runs-116-122-126-189-190/LLA/Run0190//samples.txt &   20793 & FALSE & 0644 & 2020-03-05 18:56:26 & 2020-03-05 18:56:26 & 2020-03-05 18:56:26 & 6354 & 353 & nyoungblut & abt3\\\\\n",
       "\t/ebio/abt3\\_projects/Georg\\_animal\\_feces/data/16S\\_arch/MiSeq-Runs-116-122-126-189-190/LLA/Run0190//table\\_merged\\_filt.qza &  309261 & FALSE & 0644 & 2020-03-05 21:36:48 & 2020-03-05 21:36:48 & 2020-03-05 21:36:48 & 6354 & 353 & nyoungblut & abt3\\\\\n",
       "\t/ebio/abt3\\_projects/Georg\\_animal\\_feces/data/16S\\_arch/MiSeq-Runs-116-122-126-189-190/LLA/Run0190//table\\_merged\\_filt.txt &  258929 & FALSE & 0644 & 2020-03-05 21:39:41 & 2020-03-05 21:39:41 & 2020-03-05 21:39:41 & 6354 & 353 & nyoungblut & abt3\\\\\n",
       "\t/ebio/abt3\\_projects/Georg\\_animal\\_feces/data/16S\\_arch/MiSeq-Runs-116-122-126-189-190/LLA/Run0190//table\\_merged.qza &  327353 & FALSE & 0644 & 2020-03-05 21:00:36 & 2020-03-05 21:00:36 & 2020-03-05 21:00:36 & 6354 & 353 & nyoungblut & abt3\\\\\n",
       "\t/ebio/abt3\\_projects/Georg\\_animal\\_feces/data/16S\\_arch/MiSeq-Runs-116-122-126-189-190/LLA/Run0190//taxonomy.qza &  462895 & FALSE & 0644 & 2020-03-05 21:32:22 & 2020-03-05 21:32:22 & 2020-03-05 21:32:22 & 6354 & 353 & nyoungblut & abt3\\\\\n",
       "\t/ebio/abt3\\_projects/Georg\\_animal\\_feces/data/16S\\_arch/MiSeq-Runs-116-122-126-189-190/LLA/Run0190//taxonomy.qzv & 2556693 & FALSE & 0644 & 2020-03-05 21:36:48 & 2020-03-05 21:36:48 & 2020-03-05 21:36:48 & 6354 & 353 & nyoungblut & abt3\\\\\n",
       "\t/ebio/abt3\\_projects/Georg\\_animal\\_feces/data/16S\\_arch/MiSeq-Runs-116-122-126-189-190/LLA/Run0190//unrooted-tree.qza &  439304 & FALSE & 0644 & 2020-03-05 22:34:19 & 2020-03-05 22:34:19 & 2020-03-05 22:34:19 & 6354 & 353 & nyoungblut & abt3\\\\\n",
       "\\end{tabular}\n"
      ],
      "text/markdown": [
       "\n",
       "A data.frame: 18 × 10\n",
       "\n",
       "| <!--/--> | size &lt;dbl&gt; | isdir &lt;lgl&gt; | mode &lt;octmode&gt; | mtime &lt;dttm&gt; | ctime &lt;dttm&gt; | atime &lt;dttm&gt; | uid &lt;int&gt; | gid &lt;int&gt; | uname &lt;chr&gt; | grname &lt;chr&gt; |\n",
       "|---|---|---|---|---|---|---|---|---|---|---|\n",
       "| /ebio/abt3_projects/Georg_animal_feces/data/16S_arch/MiSeq-Runs-116-122-126-189-190/LLA/Run0190//aligned-rep-seqs.qza |  963220 | FALSE | 0644 | 2020-03-05 22:14:05 | 2020-03-05 22:14:05 | 2020-03-05 22:14:05 | 6354 | 353 | nyoungblut | abt3 |\n",
       "| /ebio/abt3_projects/Georg_animal_feces/data/16S_arch/MiSeq-Runs-116-122-126-189-190/LLA/Run0190//benchmark |    4096 |  TRUE | 2755 | 2020-03-05 22:36:54 | 2020-03-05 22:36:54 | 2020-03-05 18:58:39 | 6354 | 353 | nyoungblut | abt3 |\n",
       "| /ebio/abt3_projects/Georg_animal_feces/data/16S_arch/MiSeq-Runs-116-122-126-189-190/LLA/Run0190//config.yaml |    1002 | FALSE | 0644 | 2020-03-05 18:56:34 | 2020-03-05 18:56:34 | 2020-03-05 18:56:34 | 6354 | 353 | nyoungblut | abt3 |\n",
       "| /ebio/abt3_projects/Georg_animal_feces/data/16S_arch/MiSeq-Runs-116-122-126-189-190/LLA/Run0190//data_export_2020-03-04.csv |   34546 | FALSE | 0644 | 2020-03-05 18:56:39 | 2020-03-05 18:56:39 | 2020-03-05 18:56:39 | 6354 | 353 | nyoungblut | abt3 |\n",
       "| /ebio/abt3_projects/Georg_animal_feces/data/16S_arch/MiSeq-Runs-116-122-126-189-190/LLA/Run0190//log |    4096 |  TRUE | 2755 | 2020-03-05 22:35:06 | 2020-03-05 22:35:06 | 2020-03-05 18:57:22 | 6354 | 353 | nyoungblut | abt3 |\n",
       "| /ebio/abt3_projects/Georg_animal_feces/data/16S_arch/MiSeq-Runs-116-122-126-189-190/LLA/Run0190//masked-aligned-rep-seqs.qza |  903443 | FALSE | 0644 | 2020-03-05 22:17:46 | 2020-03-05 22:17:46 | 2020-03-05 22:17:46 | 6354 | 353 | nyoungblut | abt3 |\n",
       "| /ebio/abt3_projects/Georg_animal_feces/data/16S_arch/MiSeq-Runs-116-122-126-189-190/LLA/Run0190//midpoint-rooted-tree.qza |  437582 | FALSE | 0644 | 2020-03-05 22:37:23 | 2020-03-05 22:37:23 | 2020-03-05 22:37:23 | 6354 | 353 | nyoungblut | abt3 |\n",
       "| /ebio/abt3_projects/Georg_animal_feces/data/16S_arch/MiSeq-Runs-116-122-126-189-190/LLA/Run0190//rep-seqs_merged_filt.qza |  850020 | FALSE | 0644 | 2020-03-05 21:44:04 | 2020-03-05 21:44:04 | 2020-03-05 21:44:04 | 6354 | 353 | nyoungblut | abt3 |\n",
       "| /ebio/abt3_projects/Georg_animal_feces/data/16S_arch/MiSeq-Runs-116-122-126-189-190/LLA/Run0190//rep-seqs_merged.qza | 1090824 | FALSE | 0644 | 2020-03-05 20:59:14 | 2020-03-05 20:59:14 | 2020-03-05 20:59:14 | 6354 | 353 | nyoungblut | abt3 |\n",
       "| /ebio/abt3_projects/Georg_animal_feces/data/16S_arch/MiSeq-Runs-116-122-126-189-190/LLA/Run0190//Run190 |     216 |  TRUE | 2755 | 2020-03-05 20:55:15 | 2020-03-05 20:55:15 | 2020-03-05 18:57:21 | 6354 | 353 | nyoungblut | abt3 |\n",
       "| /ebio/abt3_projects/Georg_animal_feces/data/16S_arch/MiSeq-Runs-116-122-126-189-190/LLA/Run0190//samples_rn.txt |   20386 | FALSE | 0644 | 2020-03-05 18:56:26 | 2020-03-05 18:56:26 | 2020-03-05 18:56:26 | 6354 | 353 | nyoungblut | abt3 |\n",
       "| /ebio/abt3_projects/Georg_animal_feces/data/16S_arch/MiSeq-Runs-116-122-126-189-190/LLA/Run0190//samples.txt |   20793 | FALSE | 0644 | 2020-03-05 18:56:26 | 2020-03-05 18:56:26 | 2020-03-05 18:56:26 | 6354 | 353 | nyoungblut | abt3 |\n",
       "| /ebio/abt3_projects/Georg_animal_feces/data/16S_arch/MiSeq-Runs-116-122-126-189-190/LLA/Run0190//table_merged_filt.qza |  309261 | FALSE | 0644 | 2020-03-05 21:36:48 | 2020-03-05 21:36:48 | 2020-03-05 21:36:48 | 6354 | 353 | nyoungblut | abt3 |\n",
       "| /ebio/abt3_projects/Georg_animal_feces/data/16S_arch/MiSeq-Runs-116-122-126-189-190/LLA/Run0190//table_merged_filt.txt |  258929 | FALSE | 0644 | 2020-03-05 21:39:41 | 2020-03-05 21:39:41 | 2020-03-05 21:39:41 | 6354 | 353 | nyoungblut | abt3 |\n",
       "| /ebio/abt3_projects/Georg_animal_feces/data/16S_arch/MiSeq-Runs-116-122-126-189-190/LLA/Run0190//table_merged.qza |  327353 | FALSE | 0644 | 2020-03-05 21:00:36 | 2020-03-05 21:00:36 | 2020-03-05 21:00:36 | 6354 | 353 | nyoungblut | abt3 |\n",
       "| /ebio/abt3_projects/Georg_animal_feces/data/16S_arch/MiSeq-Runs-116-122-126-189-190/LLA/Run0190//taxonomy.qza |  462895 | FALSE | 0644 | 2020-03-05 21:32:22 | 2020-03-05 21:32:22 | 2020-03-05 21:32:22 | 6354 | 353 | nyoungblut | abt3 |\n",
       "| /ebio/abt3_projects/Georg_animal_feces/data/16S_arch/MiSeq-Runs-116-122-126-189-190/LLA/Run0190//taxonomy.qzv | 2556693 | FALSE | 0644 | 2020-03-05 21:36:48 | 2020-03-05 21:36:48 | 2020-03-05 21:36:48 | 6354 | 353 | nyoungblut | abt3 |\n",
       "| /ebio/abt3_projects/Georg_animal_feces/data/16S_arch/MiSeq-Runs-116-122-126-189-190/LLA/Run0190//unrooted-tree.qza |  439304 | FALSE | 0644 | 2020-03-05 22:34:19 | 2020-03-05 22:34:19 | 2020-03-05 22:34:19 | 6354 | 353 | nyoungblut | abt3 |\n",
       "\n"
      ],
      "text/plain": [
       "                                                                                                                             size   \n",
       "/ebio/abt3_projects/Georg_animal_feces/data/16S_arch/MiSeq-Runs-116-122-126-189-190/LLA/Run0190//aligned-rep-seqs.qza         963220\n",
       "/ebio/abt3_projects/Georg_animal_feces/data/16S_arch/MiSeq-Runs-116-122-126-189-190/LLA/Run0190//benchmark                      4096\n",
       "/ebio/abt3_projects/Georg_animal_feces/data/16S_arch/MiSeq-Runs-116-122-126-189-190/LLA/Run0190//config.yaml                    1002\n",
       "/ebio/abt3_projects/Georg_animal_feces/data/16S_arch/MiSeq-Runs-116-122-126-189-190/LLA/Run0190//data_export_2020-03-04.csv    34546\n",
       "/ebio/abt3_projects/Georg_animal_feces/data/16S_arch/MiSeq-Runs-116-122-126-189-190/LLA/Run0190//log                            4096\n",
       "/ebio/abt3_projects/Georg_animal_feces/data/16S_arch/MiSeq-Runs-116-122-126-189-190/LLA/Run0190//masked-aligned-rep-seqs.qza  903443\n",
       "/ebio/abt3_projects/Georg_animal_feces/data/16S_arch/MiSeq-Runs-116-122-126-189-190/LLA/Run0190//midpoint-rooted-tree.qza     437582\n",
       "/ebio/abt3_projects/Georg_animal_feces/data/16S_arch/MiSeq-Runs-116-122-126-189-190/LLA/Run0190//rep-seqs_merged_filt.qza     850020\n",
       "/ebio/abt3_projects/Georg_animal_feces/data/16S_arch/MiSeq-Runs-116-122-126-189-190/LLA/Run0190//rep-seqs_merged.qza         1090824\n",
       "/ebio/abt3_projects/Georg_animal_feces/data/16S_arch/MiSeq-Runs-116-122-126-189-190/LLA/Run0190//Run190                          216\n",
       "/ebio/abt3_projects/Georg_animal_feces/data/16S_arch/MiSeq-Runs-116-122-126-189-190/LLA/Run0190//samples_rn.txt                20386\n",
       "/ebio/abt3_projects/Georg_animal_feces/data/16S_arch/MiSeq-Runs-116-122-126-189-190/LLA/Run0190//samples.txt                   20793\n",
       "/ebio/abt3_projects/Georg_animal_feces/data/16S_arch/MiSeq-Runs-116-122-126-189-190/LLA/Run0190//table_merged_filt.qza        309261\n",
       "/ebio/abt3_projects/Georg_animal_feces/data/16S_arch/MiSeq-Runs-116-122-126-189-190/LLA/Run0190//table_merged_filt.txt        258929\n",
       "/ebio/abt3_projects/Georg_animal_feces/data/16S_arch/MiSeq-Runs-116-122-126-189-190/LLA/Run0190//table_merged.qza             327353\n",
       "/ebio/abt3_projects/Georg_animal_feces/data/16S_arch/MiSeq-Runs-116-122-126-189-190/LLA/Run0190//taxonomy.qza                 462895\n",
       "/ebio/abt3_projects/Georg_animal_feces/data/16S_arch/MiSeq-Runs-116-122-126-189-190/LLA/Run0190//taxonomy.qzv                2556693\n",
       "/ebio/abt3_projects/Georg_animal_feces/data/16S_arch/MiSeq-Runs-116-122-126-189-190/LLA/Run0190//unrooted-tree.qza            439304\n",
       "                                                                                                                             isdir\n",
       "/ebio/abt3_projects/Georg_animal_feces/data/16S_arch/MiSeq-Runs-116-122-126-189-190/LLA/Run0190//aligned-rep-seqs.qza        FALSE\n",
       "/ebio/abt3_projects/Georg_animal_feces/data/16S_arch/MiSeq-Runs-116-122-126-189-190/LLA/Run0190//benchmark                    TRUE\n",
       "/ebio/abt3_projects/Georg_animal_feces/data/16S_arch/MiSeq-Runs-116-122-126-189-190/LLA/Run0190//config.yaml                 FALSE\n",
       "/ebio/abt3_projects/Georg_animal_feces/data/16S_arch/MiSeq-Runs-116-122-126-189-190/LLA/Run0190//data_export_2020-03-04.csv  FALSE\n",
       "/ebio/abt3_projects/Georg_animal_feces/data/16S_arch/MiSeq-Runs-116-122-126-189-190/LLA/Run0190//log                          TRUE\n",
       "/ebio/abt3_projects/Georg_animal_feces/data/16S_arch/MiSeq-Runs-116-122-126-189-190/LLA/Run0190//masked-aligned-rep-seqs.qza FALSE\n",
       "/ebio/abt3_projects/Georg_animal_feces/data/16S_arch/MiSeq-Runs-116-122-126-189-190/LLA/Run0190//midpoint-rooted-tree.qza    FALSE\n",
       "/ebio/abt3_projects/Georg_animal_feces/data/16S_arch/MiSeq-Runs-116-122-126-189-190/LLA/Run0190//rep-seqs_merged_filt.qza    FALSE\n",
       "/ebio/abt3_projects/Georg_animal_feces/data/16S_arch/MiSeq-Runs-116-122-126-189-190/LLA/Run0190//rep-seqs_merged.qza         FALSE\n",
       "/ebio/abt3_projects/Georg_animal_feces/data/16S_arch/MiSeq-Runs-116-122-126-189-190/LLA/Run0190//Run190                       TRUE\n",
       "/ebio/abt3_projects/Georg_animal_feces/data/16S_arch/MiSeq-Runs-116-122-126-189-190/LLA/Run0190//samples_rn.txt              FALSE\n",
       "/ebio/abt3_projects/Georg_animal_feces/data/16S_arch/MiSeq-Runs-116-122-126-189-190/LLA/Run0190//samples.txt                 FALSE\n",
       "/ebio/abt3_projects/Georg_animal_feces/data/16S_arch/MiSeq-Runs-116-122-126-189-190/LLA/Run0190//table_merged_filt.qza       FALSE\n",
       "/ebio/abt3_projects/Georg_animal_feces/data/16S_arch/MiSeq-Runs-116-122-126-189-190/LLA/Run0190//table_merged_filt.txt       FALSE\n",
       "/ebio/abt3_projects/Georg_animal_feces/data/16S_arch/MiSeq-Runs-116-122-126-189-190/LLA/Run0190//table_merged.qza            FALSE\n",
       "/ebio/abt3_projects/Georg_animal_feces/data/16S_arch/MiSeq-Runs-116-122-126-189-190/LLA/Run0190//taxonomy.qza                FALSE\n",
       "/ebio/abt3_projects/Georg_animal_feces/data/16S_arch/MiSeq-Runs-116-122-126-189-190/LLA/Run0190//taxonomy.qzv                FALSE\n",
       "/ebio/abt3_projects/Georg_animal_feces/data/16S_arch/MiSeq-Runs-116-122-126-189-190/LLA/Run0190//unrooted-tree.qza           FALSE\n",
       "                                                                                                                             mode\n",
       "/ebio/abt3_projects/Georg_animal_feces/data/16S_arch/MiSeq-Runs-116-122-126-189-190/LLA/Run0190//aligned-rep-seqs.qza        0644\n",
       "/ebio/abt3_projects/Georg_animal_feces/data/16S_arch/MiSeq-Runs-116-122-126-189-190/LLA/Run0190//benchmark                   2755\n",
       "/ebio/abt3_projects/Georg_animal_feces/data/16S_arch/MiSeq-Runs-116-122-126-189-190/LLA/Run0190//config.yaml                 0644\n",
       "/ebio/abt3_projects/Georg_animal_feces/data/16S_arch/MiSeq-Runs-116-122-126-189-190/LLA/Run0190//data_export_2020-03-04.csv  0644\n",
       "/ebio/abt3_projects/Georg_animal_feces/data/16S_arch/MiSeq-Runs-116-122-126-189-190/LLA/Run0190//log                         2755\n",
       "/ebio/abt3_projects/Georg_animal_feces/data/16S_arch/MiSeq-Runs-116-122-126-189-190/LLA/Run0190//masked-aligned-rep-seqs.qza 0644\n",
       "/ebio/abt3_projects/Georg_animal_feces/data/16S_arch/MiSeq-Runs-116-122-126-189-190/LLA/Run0190//midpoint-rooted-tree.qza    0644\n",
       "/ebio/abt3_projects/Georg_animal_feces/data/16S_arch/MiSeq-Runs-116-122-126-189-190/LLA/Run0190//rep-seqs_merged_filt.qza    0644\n",
       "/ebio/abt3_projects/Georg_animal_feces/data/16S_arch/MiSeq-Runs-116-122-126-189-190/LLA/Run0190//rep-seqs_merged.qza         0644\n",
       "/ebio/abt3_projects/Georg_animal_feces/data/16S_arch/MiSeq-Runs-116-122-126-189-190/LLA/Run0190//Run190                      2755\n",
       "/ebio/abt3_projects/Georg_animal_feces/data/16S_arch/MiSeq-Runs-116-122-126-189-190/LLA/Run0190//samples_rn.txt              0644\n",
       "/ebio/abt3_projects/Georg_animal_feces/data/16S_arch/MiSeq-Runs-116-122-126-189-190/LLA/Run0190//samples.txt                 0644\n",
       "/ebio/abt3_projects/Georg_animal_feces/data/16S_arch/MiSeq-Runs-116-122-126-189-190/LLA/Run0190//table_merged_filt.qza       0644\n",
       "/ebio/abt3_projects/Georg_animal_feces/data/16S_arch/MiSeq-Runs-116-122-126-189-190/LLA/Run0190//table_merged_filt.txt       0644\n",
       "/ebio/abt3_projects/Georg_animal_feces/data/16S_arch/MiSeq-Runs-116-122-126-189-190/LLA/Run0190//table_merged.qza            0644\n",
       "/ebio/abt3_projects/Georg_animal_feces/data/16S_arch/MiSeq-Runs-116-122-126-189-190/LLA/Run0190//taxonomy.qza                0644\n",
       "/ebio/abt3_projects/Georg_animal_feces/data/16S_arch/MiSeq-Runs-116-122-126-189-190/LLA/Run0190//taxonomy.qzv                0644\n",
       "/ebio/abt3_projects/Georg_animal_feces/data/16S_arch/MiSeq-Runs-116-122-126-189-190/LLA/Run0190//unrooted-tree.qza           0644\n",
       "                                                                                                                             mtime              \n",
       "/ebio/abt3_projects/Georg_animal_feces/data/16S_arch/MiSeq-Runs-116-122-126-189-190/LLA/Run0190//aligned-rep-seqs.qza        2020-03-05 22:14:05\n",
       "/ebio/abt3_projects/Georg_animal_feces/data/16S_arch/MiSeq-Runs-116-122-126-189-190/LLA/Run0190//benchmark                   2020-03-05 22:36:54\n",
       "/ebio/abt3_projects/Georg_animal_feces/data/16S_arch/MiSeq-Runs-116-122-126-189-190/LLA/Run0190//config.yaml                 2020-03-05 18:56:34\n",
       "/ebio/abt3_projects/Georg_animal_feces/data/16S_arch/MiSeq-Runs-116-122-126-189-190/LLA/Run0190//data_export_2020-03-04.csv  2020-03-05 18:56:39\n",
       "/ebio/abt3_projects/Georg_animal_feces/data/16S_arch/MiSeq-Runs-116-122-126-189-190/LLA/Run0190//log                         2020-03-05 22:35:06\n",
       "/ebio/abt3_projects/Georg_animal_feces/data/16S_arch/MiSeq-Runs-116-122-126-189-190/LLA/Run0190//masked-aligned-rep-seqs.qza 2020-03-05 22:17:46\n",
       "/ebio/abt3_projects/Georg_animal_feces/data/16S_arch/MiSeq-Runs-116-122-126-189-190/LLA/Run0190//midpoint-rooted-tree.qza    2020-03-05 22:37:23\n",
       "/ebio/abt3_projects/Georg_animal_feces/data/16S_arch/MiSeq-Runs-116-122-126-189-190/LLA/Run0190//rep-seqs_merged_filt.qza    2020-03-05 21:44:04\n",
       "/ebio/abt3_projects/Georg_animal_feces/data/16S_arch/MiSeq-Runs-116-122-126-189-190/LLA/Run0190//rep-seqs_merged.qza         2020-03-05 20:59:14\n",
       "/ebio/abt3_projects/Georg_animal_feces/data/16S_arch/MiSeq-Runs-116-122-126-189-190/LLA/Run0190//Run190                      2020-03-05 20:55:15\n",
       "/ebio/abt3_projects/Georg_animal_feces/data/16S_arch/MiSeq-Runs-116-122-126-189-190/LLA/Run0190//samples_rn.txt              2020-03-05 18:56:26\n",
       "/ebio/abt3_projects/Georg_animal_feces/data/16S_arch/MiSeq-Runs-116-122-126-189-190/LLA/Run0190//samples.txt                 2020-03-05 18:56:26\n",
       "/ebio/abt3_projects/Georg_animal_feces/data/16S_arch/MiSeq-Runs-116-122-126-189-190/LLA/Run0190//table_merged_filt.qza       2020-03-05 21:36:48\n",
       "/ebio/abt3_projects/Georg_animal_feces/data/16S_arch/MiSeq-Runs-116-122-126-189-190/LLA/Run0190//table_merged_filt.txt       2020-03-05 21:39:41\n",
       "/ebio/abt3_projects/Georg_animal_feces/data/16S_arch/MiSeq-Runs-116-122-126-189-190/LLA/Run0190//table_merged.qza            2020-03-05 21:00:36\n",
       "/ebio/abt3_projects/Georg_animal_feces/data/16S_arch/MiSeq-Runs-116-122-126-189-190/LLA/Run0190//taxonomy.qza                2020-03-05 21:32:22\n",
       "/ebio/abt3_projects/Georg_animal_feces/data/16S_arch/MiSeq-Runs-116-122-126-189-190/LLA/Run0190//taxonomy.qzv                2020-03-05 21:36:48\n",
       "/ebio/abt3_projects/Georg_animal_feces/data/16S_arch/MiSeq-Runs-116-122-126-189-190/LLA/Run0190//unrooted-tree.qza           2020-03-05 22:34:19\n",
       "                                                                                                                             ctime              \n",
       "/ebio/abt3_projects/Georg_animal_feces/data/16S_arch/MiSeq-Runs-116-122-126-189-190/LLA/Run0190//aligned-rep-seqs.qza        2020-03-05 22:14:05\n",
       "/ebio/abt3_projects/Georg_animal_feces/data/16S_arch/MiSeq-Runs-116-122-126-189-190/LLA/Run0190//benchmark                   2020-03-05 22:36:54\n",
       "/ebio/abt3_projects/Georg_animal_feces/data/16S_arch/MiSeq-Runs-116-122-126-189-190/LLA/Run0190//config.yaml                 2020-03-05 18:56:34\n",
       "/ebio/abt3_projects/Georg_animal_feces/data/16S_arch/MiSeq-Runs-116-122-126-189-190/LLA/Run0190//data_export_2020-03-04.csv  2020-03-05 18:56:39\n",
       "/ebio/abt3_projects/Georg_animal_feces/data/16S_arch/MiSeq-Runs-116-122-126-189-190/LLA/Run0190//log                         2020-03-05 22:35:06\n",
       "/ebio/abt3_projects/Georg_animal_feces/data/16S_arch/MiSeq-Runs-116-122-126-189-190/LLA/Run0190//masked-aligned-rep-seqs.qza 2020-03-05 22:17:46\n",
       "/ebio/abt3_projects/Georg_animal_feces/data/16S_arch/MiSeq-Runs-116-122-126-189-190/LLA/Run0190//midpoint-rooted-tree.qza    2020-03-05 22:37:23\n",
       "/ebio/abt3_projects/Georg_animal_feces/data/16S_arch/MiSeq-Runs-116-122-126-189-190/LLA/Run0190//rep-seqs_merged_filt.qza    2020-03-05 21:44:04\n",
       "/ebio/abt3_projects/Georg_animal_feces/data/16S_arch/MiSeq-Runs-116-122-126-189-190/LLA/Run0190//rep-seqs_merged.qza         2020-03-05 20:59:14\n",
       "/ebio/abt3_projects/Georg_animal_feces/data/16S_arch/MiSeq-Runs-116-122-126-189-190/LLA/Run0190//Run190                      2020-03-05 20:55:15\n",
       "/ebio/abt3_projects/Georg_animal_feces/data/16S_arch/MiSeq-Runs-116-122-126-189-190/LLA/Run0190//samples_rn.txt              2020-03-05 18:56:26\n",
       "/ebio/abt3_projects/Georg_animal_feces/data/16S_arch/MiSeq-Runs-116-122-126-189-190/LLA/Run0190//samples.txt                 2020-03-05 18:56:26\n",
       "/ebio/abt3_projects/Georg_animal_feces/data/16S_arch/MiSeq-Runs-116-122-126-189-190/LLA/Run0190//table_merged_filt.qza       2020-03-05 21:36:48\n",
       "/ebio/abt3_projects/Georg_animal_feces/data/16S_arch/MiSeq-Runs-116-122-126-189-190/LLA/Run0190//table_merged_filt.txt       2020-03-05 21:39:41\n",
       "/ebio/abt3_projects/Georg_animal_feces/data/16S_arch/MiSeq-Runs-116-122-126-189-190/LLA/Run0190//table_merged.qza            2020-03-05 21:00:36\n",
       "/ebio/abt3_projects/Georg_animal_feces/data/16S_arch/MiSeq-Runs-116-122-126-189-190/LLA/Run0190//taxonomy.qza                2020-03-05 21:32:22\n",
       "/ebio/abt3_projects/Georg_animal_feces/data/16S_arch/MiSeq-Runs-116-122-126-189-190/LLA/Run0190//taxonomy.qzv                2020-03-05 21:36:48\n",
       "/ebio/abt3_projects/Georg_animal_feces/data/16S_arch/MiSeq-Runs-116-122-126-189-190/LLA/Run0190//unrooted-tree.qza           2020-03-05 22:34:19\n",
       "                                                                                                                             atime              \n",
       "/ebio/abt3_projects/Georg_animal_feces/data/16S_arch/MiSeq-Runs-116-122-126-189-190/LLA/Run0190//aligned-rep-seqs.qza        2020-03-05 22:14:05\n",
       "/ebio/abt3_projects/Georg_animal_feces/data/16S_arch/MiSeq-Runs-116-122-126-189-190/LLA/Run0190//benchmark                   2020-03-05 18:58:39\n",
       "/ebio/abt3_projects/Georg_animal_feces/data/16S_arch/MiSeq-Runs-116-122-126-189-190/LLA/Run0190//config.yaml                 2020-03-05 18:56:34\n",
       "/ebio/abt3_projects/Georg_animal_feces/data/16S_arch/MiSeq-Runs-116-122-126-189-190/LLA/Run0190//data_export_2020-03-04.csv  2020-03-05 18:56:39\n",
       "/ebio/abt3_projects/Georg_animal_feces/data/16S_arch/MiSeq-Runs-116-122-126-189-190/LLA/Run0190//log                         2020-03-05 18:57:22\n",
       "/ebio/abt3_projects/Georg_animal_feces/data/16S_arch/MiSeq-Runs-116-122-126-189-190/LLA/Run0190//masked-aligned-rep-seqs.qza 2020-03-05 22:17:46\n",
       "/ebio/abt3_projects/Georg_animal_feces/data/16S_arch/MiSeq-Runs-116-122-126-189-190/LLA/Run0190//midpoint-rooted-tree.qza    2020-03-05 22:37:23\n",
       "/ebio/abt3_projects/Georg_animal_feces/data/16S_arch/MiSeq-Runs-116-122-126-189-190/LLA/Run0190//rep-seqs_merged_filt.qza    2020-03-05 21:44:04\n",
       "/ebio/abt3_projects/Georg_animal_feces/data/16S_arch/MiSeq-Runs-116-122-126-189-190/LLA/Run0190//rep-seqs_merged.qza         2020-03-05 20:59:14\n",
       "/ebio/abt3_projects/Georg_animal_feces/data/16S_arch/MiSeq-Runs-116-122-126-189-190/LLA/Run0190//Run190                      2020-03-05 18:57:21\n",
       "/ebio/abt3_projects/Georg_animal_feces/data/16S_arch/MiSeq-Runs-116-122-126-189-190/LLA/Run0190//samples_rn.txt              2020-03-05 18:56:26\n",
       "/ebio/abt3_projects/Georg_animal_feces/data/16S_arch/MiSeq-Runs-116-122-126-189-190/LLA/Run0190//samples.txt                 2020-03-05 18:56:26\n",
       "/ebio/abt3_projects/Georg_animal_feces/data/16S_arch/MiSeq-Runs-116-122-126-189-190/LLA/Run0190//table_merged_filt.qza       2020-03-05 21:36:48\n",
       "/ebio/abt3_projects/Georg_animal_feces/data/16S_arch/MiSeq-Runs-116-122-126-189-190/LLA/Run0190//table_merged_filt.txt       2020-03-05 21:39:41\n",
       "/ebio/abt3_projects/Georg_animal_feces/data/16S_arch/MiSeq-Runs-116-122-126-189-190/LLA/Run0190//table_merged.qza            2020-03-05 21:00:36\n",
       "/ebio/abt3_projects/Georg_animal_feces/data/16S_arch/MiSeq-Runs-116-122-126-189-190/LLA/Run0190//taxonomy.qza                2020-03-05 21:32:22\n",
       "/ebio/abt3_projects/Georg_animal_feces/data/16S_arch/MiSeq-Runs-116-122-126-189-190/LLA/Run0190//taxonomy.qzv                2020-03-05 21:36:48\n",
       "/ebio/abt3_projects/Georg_animal_feces/data/16S_arch/MiSeq-Runs-116-122-126-189-190/LLA/Run0190//unrooted-tree.qza           2020-03-05 22:34:19\n",
       "                                                                                                                             uid \n",
       "/ebio/abt3_projects/Georg_animal_feces/data/16S_arch/MiSeq-Runs-116-122-126-189-190/LLA/Run0190//aligned-rep-seqs.qza        6354\n",
       "/ebio/abt3_projects/Georg_animal_feces/data/16S_arch/MiSeq-Runs-116-122-126-189-190/LLA/Run0190//benchmark                   6354\n",
       "/ebio/abt3_projects/Georg_animal_feces/data/16S_arch/MiSeq-Runs-116-122-126-189-190/LLA/Run0190//config.yaml                 6354\n",
       "/ebio/abt3_projects/Georg_animal_feces/data/16S_arch/MiSeq-Runs-116-122-126-189-190/LLA/Run0190//data_export_2020-03-04.csv  6354\n",
       "/ebio/abt3_projects/Georg_animal_feces/data/16S_arch/MiSeq-Runs-116-122-126-189-190/LLA/Run0190//log                         6354\n",
       "/ebio/abt3_projects/Georg_animal_feces/data/16S_arch/MiSeq-Runs-116-122-126-189-190/LLA/Run0190//masked-aligned-rep-seqs.qza 6354\n",
       "/ebio/abt3_projects/Georg_animal_feces/data/16S_arch/MiSeq-Runs-116-122-126-189-190/LLA/Run0190//midpoint-rooted-tree.qza    6354\n",
       "/ebio/abt3_projects/Georg_animal_feces/data/16S_arch/MiSeq-Runs-116-122-126-189-190/LLA/Run0190//rep-seqs_merged_filt.qza    6354\n",
       "/ebio/abt3_projects/Georg_animal_feces/data/16S_arch/MiSeq-Runs-116-122-126-189-190/LLA/Run0190//rep-seqs_merged.qza         6354\n",
       "/ebio/abt3_projects/Georg_animal_feces/data/16S_arch/MiSeq-Runs-116-122-126-189-190/LLA/Run0190//Run190                      6354\n",
       "/ebio/abt3_projects/Georg_animal_feces/data/16S_arch/MiSeq-Runs-116-122-126-189-190/LLA/Run0190//samples_rn.txt              6354\n",
       "/ebio/abt3_projects/Georg_animal_feces/data/16S_arch/MiSeq-Runs-116-122-126-189-190/LLA/Run0190//samples.txt                 6354\n",
       "/ebio/abt3_projects/Georg_animal_feces/data/16S_arch/MiSeq-Runs-116-122-126-189-190/LLA/Run0190//table_merged_filt.qza       6354\n",
       "/ebio/abt3_projects/Georg_animal_feces/data/16S_arch/MiSeq-Runs-116-122-126-189-190/LLA/Run0190//table_merged_filt.txt       6354\n",
       "/ebio/abt3_projects/Georg_animal_feces/data/16S_arch/MiSeq-Runs-116-122-126-189-190/LLA/Run0190//table_merged.qza            6354\n",
       "/ebio/abt3_projects/Georg_animal_feces/data/16S_arch/MiSeq-Runs-116-122-126-189-190/LLA/Run0190//taxonomy.qza                6354\n",
       "/ebio/abt3_projects/Georg_animal_feces/data/16S_arch/MiSeq-Runs-116-122-126-189-190/LLA/Run0190//taxonomy.qzv                6354\n",
       "/ebio/abt3_projects/Georg_animal_feces/data/16S_arch/MiSeq-Runs-116-122-126-189-190/LLA/Run0190//unrooted-tree.qza           6354\n",
       "                                                                                                                             gid\n",
       "/ebio/abt3_projects/Georg_animal_feces/data/16S_arch/MiSeq-Runs-116-122-126-189-190/LLA/Run0190//aligned-rep-seqs.qza        353\n",
       "/ebio/abt3_projects/Georg_animal_feces/data/16S_arch/MiSeq-Runs-116-122-126-189-190/LLA/Run0190//benchmark                   353\n",
       "/ebio/abt3_projects/Georg_animal_feces/data/16S_arch/MiSeq-Runs-116-122-126-189-190/LLA/Run0190//config.yaml                 353\n",
       "/ebio/abt3_projects/Georg_animal_feces/data/16S_arch/MiSeq-Runs-116-122-126-189-190/LLA/Run0190//data_export_2020-03-04.csv  353\n",
       "/ebio/abt3_projects/Georg_animal_feces/data/16S_arch/MiSeq-Runs-116-122-126-189-190/LLA/Run0190//log                         353\n",
       "/ebio/abt3_projects/Georg_animal_feces/data/16S_arch/MiSeq-Runs-116-122-126-189-190/LLA/Run0190//masked-aligned-rep-seqs.qza 353\n",
       "/ebio/abt3_projects/Georg_animal_feces/data/16S_arch/MiSeq-Runs-116-122-126-189-190/LLA/Run0190//midpoint-rooted-tree.qza    353\n",
       "/ebio/abt3_projects/Georg_animal_feces/data/16S_arch/MiSeq-Runs-116-122-126-189-190/LLA/Run0190//rep-seqs_merged_filt.qza    353\n",
       "/ebio/abt3_projects/Georg_animal_feces/data/16S_arch/MiSeq-Runs-116-122-126-189-190/LLA/Run0190//rep-seqs_merged.qza         353\n",
       "/ebio/abt3_projects/Georg_animal_feces/data/16S_arch/MiSeq-Runs-116-122-126-189-190/LLA/Run0190//Run190                      353\n",
       "/ebio/abt3_projects/Georg_animal_feces/data/16S_arch/MiSeq-Runs-116-122-126-189-190/LLA/Run0190//samples_rn.txt              353\n",
       "/ebio/abt3_projects/Georg_animal_feces/data/16S_arch/MiSeq-Runs-116-122-126-189-190/LLA/Run0190//samples.txt                 353\n",
       "/ebio/abt3_projects/Georg_animal_feces/data/16S_arch/MiSeq-Runs-116-122-126-189-190/LLA/Run0190//table_merged_filt.qza       353\n",
       "/ebio/abt3_projects/Georg_animal_feces/data/16S_arch/MiSeq-Runs-116-122-126-189-190/LLA/Run0190//table_merged_filt.txt       353\n",
       "/ebio/abt3_projects/Georg_animal_feces/data/16S_arch/MiSeq-Runs-116-122-126-189-190/LLA/Run0190//table_merged.qza            353\n",
       "/ebio/abt3_projects/Georg_animal_feces/data/16S_arch/MiSeq-Runs-116-122-126-189-190/LLA/Run0190//taxonomy.qza                353\n",
       "/ebio/abt3_projects/Georg_animal_feces/data/16S_arch/MiSeq-Runs-116-122-126-189-190/LLA/Run0190//taxonomy.qzv                353\n",
       "/ebio/abt3_projects/Georg_animal_feces/data/16S_arch/MiSeq-Runs-116-122-126-189-190/LLA/Run0190//unrooted-tree.qza           353\n",
       "                                                                                                                             uname     \n",
       "/ebio/abt3_projects/Georg_animal_feces/data/16S_arch/MiSeq-Runs-116-122-126-189-190/LLA/Run0190//aligned-rep-seqs.qza        nyoungblut\n",
       "/ebio/abt3_projects/Georg_animal_feces/data/16S_arch/MiSeq-Runs-116-122-126-189-190/LLA/Run0190//benchmark                   nyoungblut\n",
       "/ebio/abt3_projects/Georg_animal_feces/data/16S_arch/MiSeq-Runs-116-122-126-189-190/LLA/Run0190//config.yaml                 nyoungblut\n",
       "/ebio/abt3_projects/Georg_animal_feces/data/16S_arch/MiSeq-Runs-116-122-126-189-190/LLA/Run0190//data_export_2020-03-04.csv  nyoungblut\n",
       "/ebio/abt3_projects/Georg_animal_feces/data/16S_arch/MiSeq-Runs-116-122-126-189-190/LLA/Run0190//log                         nyoungblut\n",
       "/ebio/abt3_projects/Georg_animal_feces/data/16S_arch/MiSeq-Runs-116-122-126-189-190/LLA/Run0190//masked-aligned-rep-seqs.qza nyoungblut\n",
       "/ebio/abt3_projects/Georg_animal_feces/data/16S_arch/MiSeq-Runs-116-122-126-189-190/LLA/Run0190//midpoint-rooted-tree.qza    nyoungblut\n",
       "/ebio/abt3_projects/Georg_animal_feces/data/16S_arch/MiSeq-Runs-116-122-126-189-190/LLA/Run0190//rep-seqs_merged_filt.qza    nyoungblut\n",
       "/ebio/abt3_projects/Georg_animal_feces/data/16S_arch/MiSeq-Runs-116-122-126-189-190/LLA/Run0190//rep-seqs_merged.qza         nyoungblut\n",
       "/ebio/abt3_projects/Georg_animal_feces/data/16S_arch/MiSeq-Runs-116-122-126-189-190/LLA/Run0190//Run190                      nyoungblut\n",
       "/ebio/abt3_projects/Georg_animal_feces/data/16S_arch/MiSeq-Runs-116-122-126-189-190/LLA/Run0190//samples_rn.txt              nyoungblut\n",
       "/ebio/abt3_projects/Georg_animal_feces/data/16S_arch/MiSeq-Runs-116-122-126-189-190/LLA/Run0190//samples.txt                 nyoungblut\n",
       "/ebio/abt3_projects/Georg_animal_feces/data/16S_arch/MiSeq-Runs-116-122-126-189-190/LLA/Run0190//table_merged_filt.qza       nyoungblut\n",
       "/ebio/abt3_projects/Georg_animal_feces/data/16S_arch/MiSeq-Runs-116-122-126-189-190/LLA/Run0190//table_merged_filt.txt       nyoungblut\n",
       "/ebio/abt3_projects/Georg_animal_feces/data/16S_arch/MiSeq-Runs-116-122-126-189-190/LLA/Run0190//table_merged.qza            nyoungblut\n",
       "/ebio/abt3_projects/Georg_animal_feces/data/16S_arch/MiSeq-Runs-116-122-126-189-190/LLA/Run0190//taxonomy.qza                nyoungblut\n",
       "/ebio/abt3_projects/Georg_animal_feces/data/16S_arch/MiSeq-Runs-116-122-126-189-190/LLA/Run0190//taxonomy.qzv                nyoungblut\n",
       "/ebio/abt3_projects/Georg_animal_feces/data/16S_arch/MiSeq-Runs-116-122-126-189-190/LLA/Run0190//unrooted-tree.qza           nyoungblut\n",
       "                                                                                                                             grname\n",
       "/ebio/abt3_projects/Georg_animal_feces/data/16S_arch/MiSeq-Runs-116-122-126-189-190/LLA/Run0190//aligned-rep-seqs.qza        abt3  \n",
       "/ebio/abt3_projects/Georg_animal_feces/data/16S_arch/MiSeq-Runs-116-122-126-189-190/LLA/Run0190//benchmark                   abt3  \n",
       "/ebio/abt3_projects/Georg_animal_feces/data/16S_arch/MiSeq-Runs-116-122-126-189-190/LLA/Run0190//config.yaml                 abt3  \n",
       "/ebio/abt3_projects/Georg_animal_feces/data/16S_arch/MiSeq-Runs-116-122-126-189-190/LLA/Run0190//data_export_2020-03-04.csv  abt3  \n",
       "/ebio/abt3_projects/Georg_animal_feces/data/16S_arch/MiSeq-Runs-116-122-126-189-190/LLA/Run0190//log                         abt3  \n",
       "/ebio/abt3_projects/Georg_animal_feces/data/16S_arch/MiSeq-Runs-116-122-126-189-190/LLA/Run0190//masked-aligned-rep-seqs.qza abt3  \n",
       "/ebio/abt3_projects/Georg_animal_feces/data/16S_arch/MiSeq-Runs-116-122-126-189-190/LLA/Run0190//midpoint-rooted-tree.qza    abt3  \n",
       "/ebio/abt3_projects/Georg_animal_feces/data/16S_arch/MiSeq-Runs-116-122-126-189-190/LLA/Run0190//rep-seqs_merged_filt.qza    abt3  \n",
       "/ebio/abt3_projects/Georg_animal_feces/data/16S_arch/MiSeq-Runs-116-122-126-189-190/LLA/Run0190//rep-seqs_merged.qza         abt3  \n",
       "/ebio/abt3_projects/Georg_animal_feces/data/16S_arch/MiSeq-Runs-116-122-126-189-190/LLA/Run0190//Run190                      abt3  \n",
       "/ebio/abt3_projects/Georg_animal_feces/data/16S_arch/MiSeq-Runs-116-122-126-189-190/LLA/Run0190//samples_rn.txt              abt3  \n",
       "/ebio/abt3_projects/Georg_animal_feces/data/16S_arch/MiSeq-Runs-116-122-126-189-190/LLA/Run0190//samples.txt                 abt3  \n",
       "/ebio/abt3_projects/Georg_animal_feces/data/16S_arch/MiSeq-Runs-116-122-126-189-190/LLA/Run0190//table_merged_filt.qza       abt3  \n",
       "/ebio/abt3_projects/Georg_animal_feces/data/16S_arch/MiSeq-Runs-116-122-126-189-190/LLA/Run0190//table_merged_filt.txt       abt3  \n",
       "/ebio/abt3_projects/Georg_animal_feces/data/16S_arch/MiSeq-Runs-116-122-126-189-190/LLA/Run0190//table_merged.qza            abt3  \n",
       "/ebio/abt3_projects/Georg_animal_feces/data/16S_arch/MiSeq-Runs-116-122-126-189-190/LLA/Run0190//taxonomy.qza                abt3  \n",
       "/ebio/abt3_projects/Georg_animal_feces/data/16S_arch/MiSeq-Runs-116-122-126-189-190/LLA/Run0190//taxonomy.qzv                abt3  \n",
       "/ebio/abt3_projects/Georg_animal_feces/data/16S_arch/MiSeq-Runs-116-122-126-189-190/LLA/Run0190//unrooted-tree.qza           abt3  "
      ]
     },
     "metadata": {},
     "output_type": "display_data"
    }
   ],
   "source": [
    "df.dims(20)\n",
    "list.files(work_dir, full.names=TRUE) %>%\n",
    "    as.list %>%\n",
    "    lapply(file.info) %>%\n",
    "    do.call(rbind, .)\n",
    "df.dims()"
   ]
  },
  {
   "cell_type": "markdown",
   "metadata": {},
   "source": [
    "## Number of ASVs"
   ]
  },
  {
   "cell_type": "code",
   "execution_count": 25,
   "metadata": {
    "ExecuteTime": {
     "end_time": "2020-03-06T07:34:46.558328Z",
     "start_time": "2020-03-06T07:34:46.460Z"
    }
   },
   "outputs": [
    {
     "data": {
      "text/html": [
       "<table>\n",
       "<caption>A data.frame: 7846 × 1</caption>\n",
       "<thead>\n",
       "\t<tr><th scope=col>feature.id</th></tr>\n",
       "\t<tr><th scope=col>&lt;fct&gt;</th></tr>\n",
       "</thead>\n",
       "<tbody>\n",
       "\t<tr><td>7b26c5be21629cb95e83197a642bc80b</td></tr>\n",
       "\t<tr><td>805723e060d8edbefa21d92d6fc276f3</td></tr>\n",
       "\t<tr><td>⋮</td></tr>\n",
       "\t<tr><td>a6cc50f0924bb8a7d38136da9382e01f</td></tr>\n",
       "\t<tr><td>666138d6bd41d65ba65e48edd123bf5e</td></tr>\n",
       "</tbody>\n",
       "</table>\n"
      ],
      "text/latex": [
       "A data.frame: 7846 × 1\n",
       "\\begin{tabular}{l}\n",
       " feature.id\\\\\n",
       " <fct>\\\\\n",
       "\\hline\n",
       "\t 7b26c5be21629cb95e83197a642bc80b\\\\\n",
       "\t 805723e060d8edbefa21d92d6fc276f3\\\\\n",
       "\t ⋮\\\\\n",
       "\t a6cc50f0924bb8a7d38136da9382e01f\\\\\n",
       "\t 666138d6bd41d65ba65e48edd123bf5e\\\\\n",
       "\\end{tabular}\n"
      ],
      "text/markdown": [
       "\n",
       "A data.frame: 7846 × 1\n",
       "\n",
       "| feature.id &lt;fct&gt; |\n",
       "|---|\n",
       "| 7b26c5be21629cb95e83197a642bc80b |\n",
       "| 805723e060d8edbefa21d92d6fc276f3 |\n",
       "| ⋮ |\n",
       "| a6cc50f0924bb8a7d38136da9382e01f |\n",
       "| 666138d6bd41d65ba65e48edd123bf5e |\n",
       "\n"
      ],
      "text/plain": [
       "     feature.id                      \n",
       "1    7b26c5be21629cb95e83197a642bc80b\n",
       "2    805723e060d8edbefa21d92d6fc276f3\n",
       "⋮    ⋮                               \n",
       "7845 a6cc50f0924bb8a7d38136da9382e01f\n",
       "7846 666138d6bd41d65ba65e48edd123bf5e"
      ]
     },
     "metadata": {},
     "output_type": "display_data"
    }
   ],
   "source": [
    "F = file.path(work_dir, 'table_merged_filt.txt')\n",
    "read.delim(F, sep='\\t')"
   ]
  },
  {
   "cell_type": "markdown",
   "metadata": {},
   "source": [
    "# sessionInfo"
   ]
  },
  {
   "cell_type": "code",
   "execution_count": 15,
   "metadata": {
    "ExecuteTime": {
     "end_time": "2020-03-05T09:14:47.064515Z",
     "start_time": "2020-03-05T09:14:45.660Z"
    }
   },
   "outputs": [
    {
     "data": {
      "text/plain": [
       "R version 3.6.2 (2019-12-12)\n",
       "Platform: x86_64-conda_cos6-linux-gnu (64-bit)\n",
       "Running under: Ubuntu 18.04.3 LTS\n",
       "\n",
       "Matrix products: default\n",
       "BLAS/LAPACK: /ebio/abt3_projects/Georg_animal_feces/envs/tidyverse/lib/libopenblasp-r0.3.7.so\n",
       "\n",
       "locale:\n",
       " [1] LC_CTYPE=en_US.UTF-8       LC_NUMERIC=C              \n",
       " [3] LC_TIME=en_US.UTF-8        LC_COLLATE=en_US.UTF-8    \n",
       " [5] LC_MONETARY=en_US.UTF-8    LC_MESSAGES=en_US.UTF-8   \n",
       " [7] LC_PAPER=en_US.UTF-8       LC_NAME=C                 \n",
       " [9] LC_ADDRESS=C               LC_TELEPHONE=C            \n",
       "[11] LC_MEASUREMENT=en_US.UTF-8 LC_IDENTIFICATION=C       \n",
       "\n",
       "attached base packages:\n",
       "[1] stats     graphics  grDevices utils     datasets  methods   base     \n",
       "\n",
       "other attached packages:\n",
       "[1] LeyLabRMisc_0.1.1 ggplot2_3.2.1     tidyr_1.0.0       dplyr_0.8.3      \n",
       "\n",
       "loaded via a namespace (and not attached):\n",
       " [1] Rcpp_1.0.3       magrittr_1.5     munsell_0.5.0    tidyselect_0.2.5\n",
       " [5] uuid_0.1-2       colorspace_1.4-1 R6_2.4.1         rlang_0.4.2     \n",
       " [9] tools_3.6.2      grid_3.6.2       gtable_0.3.0     withr_2.1.2     \n",
       "[13] htmltools_0.4.0  lazyeval_0.2.2   digest_0.6.23    assertthat_0.2.1\n",
       "[17] lifecycle_0.1.0  tibble_2.1.3     crayon_1.3.4     IRdisplay_0.7.0 \n",
       "[21] purrr_0.3.3      repr_1.0.2       base64enc_0.1-3  vctrs_0.2.1     \n",
       "[25] IRkernel_1.1     zeallot_0.1.0    glue_1.3.1       evaluate_0.14   \n",
       "[29] pbdZMQ_0.3-3     compiler_3.6.2   pillar_1.4.3     scales_1.1.0    \n",
       "[33] backports_1.1.5  jsonlite_1.6     pkgconfig_2.0.3 "
      ]
     },
     "metadata": {},
     "output_type": "display_data"
    }
   ],
   "source": [
    "sessionInfo()"
   ]
  },
  {
   "cell_type": "code",
   "execution_count": 16,
   "metadata": {
    "ExecuteTime": {
     "end_time": "2020-03-05T09:14:47.308233Z",
     "start_time": "2020-03-05T09:14:45.753Z"
    }
   },
   "outputs": [
    {
     "name": "stdout",
     "output_type": "stream",
     "text": [
      "LLA\n",
      "===\n",
      "\n",
      "Ley Lab Amplicon pipeline (LLA)\n",
      "\n",
      "* Version: 0.2.6\n",
      "* Authors:\n",
      "  * Nick Youngblut <nyoungb2@gmail.com>\n",
      "  * Guillermo Luque <guillermo.luque@tuebingen.mpg.de>\n",
      "  * Jacobo de la Cuesta <jacobo.delacuesta@tuebingen.mpg.de>\n",
      "\n",
      "--- conda envs ---\n",
      "==> /ebio/abt3_projects/Georg_animal_feces/bin/lla/bin/envs/qiime2.yaml <==\n",
      "channels:\n",
      "- qiime2/label/r2019.10\n",
      "- conda-forge\n",
      "- bioconda\n",
      "- defaults\n",
      "dependencies:\n",
      "- _libgcc_mutex=0.1\n",
      "- _r-mutex=1.0.1\n",
      "- alsa-lib=1.1.5\n",
      "- arb-bio-tools=6.0.6\n",
      "- asn1crypto=1.2.0\n",
      "- atomicwrites=1.3.0\n",
      "- attrs=19.3.0\n",
      "- backcall=0.1.0\n",
      "- bibtexparser=1.1.0\n",
      "- binutils_impl_linux-64=2.31.1\n",
      "- binutils_linux-64=2.31.1\n",
      "- bioconductor-biobase=2.42.0\n",
      "- bioconductor-biocgenerics=0.28.0\n",
      "- bioconductor-biocparallel=1.16.6\n",
      "- bioconductor-biostrings=2.50.2\n",
      "- bioconductor-dada2=1.10.0\n",
      "- bioconductor-delayedarray=0.8.0\n",
      "- bioconductor-genomeinfodb=1.18.1\n",
      "- bioconductor-genomeinfodbdata=1.2.1\n",
      "- bioconductor-genomicalignments=1.18.1\n",
      "- bioconductor-genomicranges=1.34.0\n",
      "- bioconductor-iranges=2.16.0\n",
      "- bioconductor-rsamtools=1.34.0\n",
      "- bioconductor-s4vectors=0.20.1\n",
      "- bioconductor-shortread=1.40.0\n",
      "- bioconductor-summarizedexperiment=1.12.0\n",
      "- bioconductor-xvector=0.22.0\n",
      "- bioconductor-zlibbioc=1.28.0\n",
      "- biom-format=2.1.7\n",
      "- blas=2.14\n",
      "- blast=2.9.0\n",
      "- bleach=3.1.0\n",
      "- bokeh=1.3.4\n",
      "- boost=1.68.0\n",
      "- boost-cpp=1.68.0\n",
      "- bwidget=1.9.13\n",
      "- bzip2=1.0.8\n",
      "- ca-certificates=2019.9.11\n",
      "- cachecontrol=0.12.5\n",
      "- cairo=1.16.0\n",
      "- certifi=2019.9.11\n",
      "- cffi=1.13.1\n",
      "- chardet=3.0.4\n",
      "- click=7.0\n",
      "- cryptography=2.7\n",
      "- curl=7.65.3\n",
      "- cutadapt=2.6\n",
      "- cycler=0.10.0\n",
      "- cython=0.29.13\n",
      "- dbus=1.13.6\n",
      "- deblur=1.1.0\n",
      "- decorator=4.4.1\n",
      "- defusedxml=0.6.0\n",
      "- dendropy=4.4.0\n",
      "- dnaio=0.4\n",
      "- emperor=1.0.0b20\n",
      "- entrypoints=0.3\n",
      "- expat=2.2.5\n",
      "- fastcluster=1.1.25\n",
      "- fasttree=2.1.10\n",
      "- fontconfig=2.13.1\n",
      "- freetype=2.10.0\n",
      "- future=0.18.2\n",
      "- gcc_impl_linux-64=7.3.0\n",
      "- gcc_linux-64=7.3.0\n",
      "- gettext=0.19.8.1\n",
      "- gfortran_impl_linux-64=7.3.0\n",
      "- gfortran_linux-64=7.3.0\n",
      "- giflib=5.1.7\n",
      "- glib=2.58.3\n",
      "- gmp=6.1.2\n",
      "- gneiss=0.4.6\n",
      "- gnutls=3.6.5\n",
      "- graphite2=1.3.13\n",
      "- gsl=2.5\n",
      "- gst-plugins-base=1.14.5\n",
      "- gstreamer=1.14.5\n",
      "- gxx_impl_linux-64=7.3.0\n",
      "- gxx_linux-64=7.3.0\n",
      "- h5py=2.10.0\n",
      "- harfbuzz=2.4.0\n",
      "- hdf5=1.10.5\n",
      "- hdmedians=0.13\n",
      "- hmmer=3.1b2\n",
      "- icu=58.2\n",
      "- idna=2.8\n",
      "- ijson=2.5\n",
      "- importlib_metadata=0.23\n",
      "- ipykernel=5.1.3\n",
      "- ipython=7.9.0\n",
      "- ipython_genutils=0.2.0\n",
      "- ipywidgets=7.5.1\n",
      "- iqtree=1.6.12\n",
      "- jedi=0.15.1\n",
      "- jinja2=2.10.3\n",
      "- joblib=0.14.0\n",
      "- jpeg=9c\n",
      "- jsonschema=3.1.1\n",
      "- jupyter_client=5.3.3\n",
      "- jupyter_core=4.5.0\n",
      "- kiwisolver=1.1.0\n",
      "- krb5=1.16.3\n",
      "- lcms2=2.9\n",
      "- libarbdb=6.0.6\n",
      "- libblas=3.8.0\n",
      "- libcblas=3.8.0\n",
      "- libcurl=7.65.3\n",
      "- libedit=3.1.20170329\n",
      "- libffi=3.2.1\n",
      "- libgcc=7.2.0\n",
      "- libgcc-ng=9.1.0\n",
      "- libgfortran-ng=7.3.0\n",
      "- libiconv=1.15\n",
      "- liblapack=3.8.0\n",
      "- liblapacke=3.8.0\n",
      "- libopenblas=0.3.7\n",
      "- libpng=1.6.37\n",
      "- libsodium=1.0.17\n",
      "- libssh2=1.8.2\n",
      "- libstdcxx-ng=9.1.0\n",
      "- libtiff=4.0.10\n",
      "- libuuid=2.32.1\n",
      "- libxcb=1.13\n",
      "- libxml2=2.9.9\n",
      "- lockfile=0.12.2\n",
      "- lz4-c=1.8.3\n",
      "- mafft=7.310\n",
      "- make=4.2.1\n",
      "- markupsafe=1.1.1\n",
      "- matplotlib=3.1.0\n",
      "- matplotlib-base=3.1.0\n",
      "- mistune=0.8.4\n",
      "- more-itertools=7.2.0\n",
      "- msgpack-python=0.6.2\n",
      "- natsort=6.0.0\n",
      "- nbconvert=5.6.1\n",
      "- nbformat=4.4.0\n",
      "- ncurses=6.1\n",
      "- nettle=3.4.1\n",
      "- networkx=2.4\n",
      "- nose=1.3.7\n",
      "- notebook=6.0.1\n",
      "- numpy=1.17.3\n",
      "- olefile=0.46\n",
      "- openjdk=11.0.1\n",
      "- openssl=1.1.1c\n",
      "- packaging=19.2\n",
      "- pandas=0.25.2\n",
      "- pandoc=2.7.3\n",
      "- pandocfilters=1.4.2\n",
      "- pango=1.40.14\n",
      "- parso=0.5.1\n",
      "- patsy=0.5.1\n",
      "- pcre=8.43\n",
      "- perl=5.26.2\n",
      "- perl-archive-tar=2.32\n",
      "- perl-carp=1.38\n",
      "- perl-common-sense=3.74\n",
      "- perl-compress-raw-bzip2=2.087\n",
      "- perl-compress-raw-zlib=2.087\n",
      "- perl-exporter=5.72\n",
      "- perl-exporter-tiny=1.002001\n",
      "- perl-extutils-makemaker=7.36\n",
      "- perl-io-compress=2.087\n",
      "- perl-io-zlib=1.10\n",
      "- perl-json=4.02\n",
      "- perl-json-xs=2.34\n",
      "- perl-list-moreutils=0.428\n",
      "- perl-list-moreutils-xs=0.428\n",
      "- perl-pathtools=3.75\n",
      "- perl-scalar-list-utils=1.52\n",
      "- perl-types-serialiser=1.0\n",
      "- perl-xsloader=0.24\n",
      "- pexpect=4.7.0\n",
      "- pickleshare=0.7.5\n",
      "- pigz=2.3.4\n",
      "- pillow=6.2.1\n",
      "- pip=19.3.1\n",
      "- pixman=0.38.0\n",
      "- pluggy=0.12.0\n",
      "- prometheus_client=0.7.1\n",
      "- prompt_toolkit=2.0.10\n",
      "- psutil=5.6.3\n",
      "- pthread-stubs=0.4\n",
      "- ptyprocess=0.6.0\n",
      "- py=1.8.0\n",
      "- pycparser=2.19\n",
      "- pygments=2.4.2\n",
      "- pyopenssl=19.0.0\n",
      "- pyparsing=2.4.2\n",
      "- pyqt=5.9.2\n",
      "- pyrsistent=0.15.5\n",
      "- pysocks=1.7.1\n",
      "- pytest=5.2.2\n",
      "- python=3.6.7\n",
      "- python-dateutil=2.8.0\n",
      "- pytz=2019.3\n",
      "- pyyaml=5.1.2\n",
      "- pyzmq=18.1.0\n",
      "- q2-alignment=2019.10.0\n",
      "- q2-composition=2019.10.0\n",
      "- q2-cutadapt=2019.10.0\n",
      "- q2-dada2=2019.10.0\n",
      "- q2-deblur=2019.10.0\n",
      "- q2-demux=2019.10.0\n",
      "- q2-diversity=2019.10.0\n",
      "- q2-emperor=2019.10.0\n",
      "- q2-feature-classifier=2019.10.0\n",
      "- q2-feature-table=2019.10.0\n",
      "- q2-fragment-insertion=2019.10.0\n",
      "- q2-gneiss=2019.10.0\n",
      "- q2-longitudinal=2019.10.0\n",
      "- q2-metadata=2019.10.0\n",
      "- q2-phylogeny=2019.10.0\n",
      "- q2-quality-control=2019.10.0\n",
      "- q2-quality-filter=2019.10.0\n",
      "- q2-sample-classifier=2019.10.0\n",
      "- q2-taxa=2019.10.0\n",
      "- q2-types=2019.10.0\n",
      "- q2-vsearch=2019.10.0\n",
      "- q2cli=2019.10.0\n",
      "- q2templates=2019.10.0\n",
      "- qiime2=2019.10.0\n",
      "- qt=5.9.7\n",
      "- r-assertthat=0.2.1\n",
      "- r-backports=1.1.5\n",
      "- r-base=3.5.1\n",
      "- r-bh=1.69.0_1\n",
      "- r-bitops=1.0_6\n",
      "- r-cli=1.1.0\n",
      "- r-cluster=2.1.0\n",
      "- r-colorspace=1.4_1\n",
      "- r-crayon=1.3.4\n",
      "- r-data.table=1.12.6\n",
      "- r-digest=0.6.22\n",
      "- r-ellipsis=0.3.0\n",
      "- r-fansi=0.4.0\n",
      "- r-formatr=1.7\n",
      "- r-futile.logger=1.4.3\n",
      "- r-futile.options=1.0.1\n",
      "- r-ggplot2=3.2.1\n",
      "- r-glue=1.3.1\n",
      "- r-gtable=0.3.0\n",
      "- r-hwriter=1.3.2\n",
      "- r-labeling=0.3\n",
      "- r-lambda.r=1.2.4\n",
      "- r-lattice=0.20_38\n",
      "- r-latticeextra=0.6_28\n",
      "- r-lazyeval=0.2.2\n",
      "- r-magrittr=1.5\n",
      "- r-mass=7.3_51.4\n",
      "- r-matrix=1.2_17\n",
      "- r-matrixstats=0.55.0\n",
      "- r-mgcv=1.8_29\n",
      "- r-munsell=0.5.0\n",
      "- r-nlme=3.1_141\n",
      "- r-permute=0.9_5\n",
      "- r-pillar=1.4.2\n",
      "- r-pkgconfig=2.0.3\n",
      "- r-plyr=1.8.4\n",
      "- r-r6=2.4.0\n",
      "- r-rcolorbrewer=1.1_2\n",
      "- r-rcpp=1.0.2\n",
      "- r-rcppparallel=4.4.4\n",
      "- r-rcurl=1.95_4.12\n",
      "- r-reshape2=1.4.3\n",
      "- r-rlang=0.4.1\n",
      "- r-scales=1.0.0\n",
      "- r-snow=0.4_3\n",
      "- r-stringi=1.4.3\n",
      "- r-stringr=1.4.0\n",
      "- r-tibble=2.1.3\n",
      "- r-utf8=1.1.4\n",
      "- r-vctrs=0.2.0\n",
      "- r-vegan=2.5_6\n",
      "- r-viridislite=0.3.0\n",
      "- r-withr=2.1.2\n",
      "- r-zeallot=0.1.0\n",
      "- raxml=8.2.12\n",
      "- readline=8.0\n",
      "- requests=2.22.0\n",
      "- scikit-bio=0.5.5\n",
      "- scikit-learn=0.21.2\n",
      "- scipy=1.3.1\n",
      "- seaborn=0.9.0\n",
      "- send2trash=1.5.0\n",
      "- sepp=4.3.10\n",
      "- setuptools=41.6.0\n",
      "- sina=1.6.0\n",
      "- sip=4.19.8\n",
      "- six=1.12.0\n",
      "- sortmerna=2.0\n",
      "- sqlite=3.30.1\n",
      "- statsmodels=0.10.1\n",
      "- tbb=2019.9\n",
      "- terminado=0.8.2\n",
      "- testpath=0.4.2\n",
      "- tk=8.6.9\n",
      "- tktable=2.10\n",
      "- tornado=6.0.3\n",
      "- traitlets=4.3.3\n",
      "- tzlocal=2.0.0\n",
      "- unifrac=0.10.0\n",
      "- urllib3=1.25.6\n",
      "- vsearch=2.7.0\n",
      "- wcwidth=0.1.7\n",
      "- webencodings=0.5.1\n",
      "- wheel=0.33.6\n",
      "- widgetsnbextension=3.5.1\n",
      "- xopen=0.8.4\n",
      "- xorg-fixesproto=5.0\n",
      "- xorg-inputproto=2.3.2\n",
      "- xorg-kbproto=1.0.7\n",
      "- xorg-libice=1.0.10\n",
      "- xorg-libsm=1.2.3\n",
      "- xorg-libx11=1.6.9\n",
      "- xorg-libxau=1.0.9\n",
      "- xorg-libxdmcp=1.1.3\n",
      "- xorg-libxext=1.3.4\n",
      "- xorg-libxfixes=5.0.3\n",
      "- xorg-libxi=1.7.10\n",
      "- xorg-libxrender=0.9.10\n",
      "- xorg-libxtst=1.2.3\n",
      "- xorg-recordproto=1.14.2\n",
      "- xorg-renderproto=0.11.1\n",
      "- xorg-xextproto=7.3.0\n",
      "- xorg-xproto=7.0.31\n",
      "- xz=5.2.4\n",
      "- yaml=0.1.7\n",
      "- zeromq=4.3.2\n",
      "- zipp=0.6.0\n",
      "- zlib=1.2.11\n",
      "- zstd=1.4.3\n",
      "\n",
      "==> /ebio/abt3_projects/Georg_animal_feces/bin/lla/bin/envs/trimmomatic.yaml <==\n",
      "channels:\n",
      "- conda-forge\n",
      "- bioconda\n",
      "dependencies:\n",
      "- pigz\n",
      "- bioconda::seqtk\n",
      "- bioconda::trimmomatic"
     ]
    }
   ],
   "source": [
    "pipelineInfo(pipeline_dir)"
   ]
  },
  {
   "cell_type": "code",
   "execution_count": null,
   "metadata": {},
   "outputs": [],
   "source": []
  }
 ],
 "metadata": {
  "kernelspec": {
   "display_name": "R [conda env:Georg_animal_feces-tidyverse]",
   "language": "R",
   "name": "conda-env-Georg_animal_feces-tidyverse-r"
  },
  "language_info": {
   "codemirror_mode": "r",
   "file_extension": ".r",
   "mimetype": "text/x-r-source",
   "name": "R",
   "pygments_lexer": "r",
   "version": "3.6.2"
  },
  "notify_time": "30",
  "toc": {
   "base_numbering": 1,
   "nav_menu": {},
   "number_sections": true,
   "sideBar": true,
   "skip_h1_title": false,
   "title_cell": "Table of Contents",
   "title_sidebar": "Contents",
   "toc_cell": true,
   "toc_position": {},
   "toc_section_display": true,
   "toc_window_display": true
  }
 },
 "nbformat": 4,
 "nbformat_minor": 2
}
