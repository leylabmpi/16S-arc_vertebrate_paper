{
 "cells": [
  {
   "cell_type": "markdown",
   "metadata": {
    "toc": true
   },
   "source": [
    "<h1>Table of Contents<span class=\"tocSkip\"></span></h1>\n",
    "<div class=\"toc\"><ul class=\"toc-item\"><li><span><a href=\"#Goal\" data-toc-modified-id=\"Goal-1\"><span class=\"toc-item-num\">1&nbsp;&nbsp;</span>Goal</a></span></li><li><span><a href=\"#Var\" data-toc-modified-id=\"Var-2\"><span class=\"toc-item-num\">2&nbsp;&nbsp;</span>Var</a></span></li><li><span><a href=\"#Init\" data-toc-modified-id=\"Init-3\"><span class=\"toc-item-num\">3&nbsp;&nbsp;</span>Init</a></span></li><li><span><a href=\"#Load\" data-toc-modified-id=\"Load-4\"><span class=\"toc-item-num\">4&nbsp;&nbsp;</span>Load</a></span></li><li><span><a href=\"#Filtering-dataset\" data-toc-modified-id=\"Filtering-dataset-5\"><span class=\"toc-item-num\">5&nbsp;&nbsp;</span>Filtering dataset</a></span></li><li><span><a href=\"#Checks\" data-toc-modified-id=\"Checks-6\"><span class=\"toc-item-num\">6&nbsp;&nbsp;</span>Checks</a></span></li><li><span><a href=\"#Subsampling-tree\" data-toc-modified-id=\"Subsampling-tree-7\"><span class=\"toc-item-num\">7&nbsp;&nbsp;</span>Subsampling tree</a></span></li><li><span><a href=\"#Creating-datasets\" data-toc-modified-id=\"Creating-datasets-8\"><span class=\"toc-item-num\">8&nbsp;&nbsp;</span>Creating datasets</a></span></li><li><span><a href=\"#parafit:-global-test\" data-toc-modified-id=\"parafit:-global-test-9\"><span class=\"toc-item-num\">9&nbsp;&nbsp;</span>parafit: global test</a></span><ul class=\"toc-item\"><li><span><a href=\"#Saving-results\" data-toc-modified-id=\"Saving-results-9.1\"><span class=\"toc-item-num\">9.1&nbsp;&nbsp;</span>Saving results</a></span></li><li><span><a href=\"#Summarizing\" data-toc-modified-id=\"Summarizing-9.2\"><span class=\"toc-item-num\">9.2&nbsp;&nbsp;</span>Summarizing</a></span></li></ul></li><li><span><a href=\"#parafit:-individual-links\" data-toc-modified-id=\"parafit:-individual-links-10\"><span class=\"toc-item-num\">10&nbsp;&nbsp;</span>parafit: individual links</a></span><ul class=\"toc-item\"><li><span><a href=\"#Saving-results\" data-toc-modified-id=\"Saving-results-10.1\"><span class=\"toc-item-num\">10.1&nbsp;&nbsp;</span>Saving results</a></span></li><li><span><a href=\"#Summarizing\" data-toc-modified-id=\"Summarizing-10.2\"><span class=\"toc-item-num\">10.2&nbsp;&nbsp;</span>Summarizing</a></span></li><li><span><a href=\"#Links-per-host\" data-toc-modified-id=\"Links-per-host-10.3\"><span class=\"toc-item-num\">10.3&nbsp;&nbsp;</span>Links per host</a></span></li></ul></li><li><span><a href=\"#sessionInfo\" data-toc-modified-id=\"sessionInfo-11\"><span class=\"toc-item-num\">11&nbsp;&nbsp;</span>sessionInfo</a></span></li></ul></div>"
   ]
  },
  {
   "cell_type": "markdown",
   "metadata": {},
   "source": [
    "# Goal\n",
    "\n",
    "* parafit analysis to support PACo results"
   ]
  },
  {
   "cell_type": "markdown",
   "metadata": {},
   "source": [
    "# Var"
   ]
  },
  {
   "cell_type": "code",
   "execution_count": 1,
   "metadata": {
    "ExecuteTime": {
     "end_time": "2020-08-27T07:06:34.669359Z",
     "start_time": "2020-08-27T07:06:34.592Z"
    }
   },
   "outputs": [],
   "source": [
    "work_dir = '/ebio/abt3_projects/Georg_animal_feces/data/16S_arch/MiSeq-Runs-116-122-126-189-190/LLA/cophylo/'\n",
    "\n",
    "# microbiome\n",
    "## 16S-arch phyloseq object (one sample per individual)\n",
    "physeq_arch_IndD_file = '/ebio/abt3_projects/Georg_animal_feces/data/16S_arch/MiSeq-Runs-116-122-126-189-190/LLA/merged/phyloseq/physeq_arch_IndD_rare250.RDS'\n",
    "\n",
    "# host tree\n",
    "host_tree_IndD_file = '/ebio/abt3_projects/Georg_animal_feces/data/animal/phylogeny/TT/unified_metadata_complete_200429_16S-arch_IndD.nwk'\n",
    "\n",
    "# misc\n",
    "threads = 12\n",
    "my_seed = 8394"
   ]
  },
  {
   "cell_type": "markdown",
   "metadata": {},
   "source": [
    "# Init"
   ]
  },
  {
   "cell_type": "code",
   "execution_count": 4,
   "metadata": {
    "ExecuteTime": {
     "end_time": "2020-08-27T07:14:22.746717Z",
     "start_time": "2020-08-27T07:14:22.696Z"
    }
   },
   "outputs": [],
   "source": [
    "library(dplyr)\n",
    "library(tidyr)\n",
    "library(ggplot2)\n",
    "library(data.table)\n",
    "library(tidytable)\n",
    "\n",
    "library(phyloseq)\n",
    "library(ape)\n",
    "library(ggpubr)\n",
    "\n",
    "library(LeyLabRMisc)"
   ]
  },
  {
   "cell_type": "code",
   "execution_count": 5,
   "metadata": {
    "ExecuteTime": {
     "end_time": "2020-08-27T07:14:23.104427Z",
     "start_time": "2020-08-27T07:14:22.836Z"
    }
   },
   "outputs": [
    {
     "name": "stderr",
     "output_type": "stream",
     "text": [
      "Loading required package: clustermq\n",
      "\n",
      "Warning message:\n",
      "“package ‘clustermq’ was built under R version 3.6.3”\n"
     ]
    }
   ],
   "source": [
    "clustermq_setup() \n",
    "library(clustermq)"
   ]
  },
  {
   "cell_type": "code",
   "execution_count": 6,
   "metadata": {
    "ExecuteTime": {
     "end_time": "2020-08-27T07:14:25.272165Z",
     "start_time": "2020-08-27T07:14:25.239Z"
    }
   },
   "outputs": [
    {
     "name": "stdout",
     "output_type": "stream",
     "text": [
      "Directory already exists: /ebio/abt3_projects/Georg_animal_feces/data/16S_arch/MiSeq-Runs-116-122-126-189-190/LLA/cophylo/ \n"
     ]
    }
   ],
   "source": [
    "df.dims()\n",
    "make_dir(work_dir)\n",
    "set.seed(my_seed)"
   ]
  },
  {
   "cell_type": "code",
   "execution_count": 7,
   "metadata": {
    "ExecuteTime": {
     "end_time": "2020-08-27T07:14:25.423482Z",
     "start_time": "2020-08-27T07:14:25.393Z"
    }
   },
   "outputs": [],
   "source": [
    "rescale_dist_mtx = function(m){\n",
    "    m = m %>% as.matrix\n",
    "    labs = m %>% colnames\n",
    "    n_row = m %>% nrow\n",
    "    n_col = m %>% ncol\n",
    "    x = m %>% as.vector \n",
    "    x = scales::rescale(x) \n",
    "    m = matrix(x, nrow=n_row, ncol=n_col)\n",
    "    colnames(m) = labs\n",
    "    rownames(m) = labs\n",
    "    m = m %>% as.dist\n",
    "    return(m)\n",
    "}"
   ]
  },
  {
   "cell_type": "markdown",
   "metadata": {},
   "source": [
    "# Load"
   ]
  },
  {
   "cell_type": "code",
   "execution_count": 8,
   "metadata": {
    "ExecuteTime": {
     "end_time": "2020-08-27T07:14:26.288507Z",
     "start_time": "2020-08-27T07:14:26.190Z"
    }
   },
   "outputs": [
    {
     "data": {
      "text/plain": [
       "phyloseq-class experiment-level object\n",
       "otu_table()   OTU Table:         [ 1345 taxa and 185 samples ]\n",
       "sample_data() Sample Data:       [ 185 samples by 88 sample variables ]\n",
       "tax_table()   Taxonomy Table:    [ 1345 taxa by 7 taxonomic ranks ]\n",
       "phy_tree()    Phylogenetic Tree: [ 1345 tips and 1342 internal nodes ]"
      ]
     },
     "metadata": {},
     "output_type": "display_data"
    }
   ],
   "source": [
    "# phyloseq\n",
    "physeq_arch_IndD = readRDS(physeq_arch_IndD_file)\n",
    "physeq_arch_IndD"
   ]
  },
  {
   "cell_type": "code",
   "execution_count": 9,
   "metadata": {
    "ExecuteTime": {
     "end_time": "2020-08-27T07:14:26.394328Z",
     "start_time": "2020-08-27T07:14:26.356Z"
    }
   },
   "outputs": [
    {
     "data": {
      "text/plain": [
       "\n",
       "Phylogenetic tree with 185 tips and 184 internal nodes.\n",
       "\n",
       "Tip labels:\n",
       "\tX60_European_Chub, X179_Roach, X330_Ide, X327_Silver_Bream, X326_Silver_Bream, F14_Common_Bream, ...\n",
       "Node labels:\n",
       "\t, @_20_@, @_17_@, @_14_@, @_9_@, @_15_@, ...\n",
       "\n",
       "Rooted; includes branch lengths."
      ]
     },
     "metadata": {},
     "output_type": "display_data"
    }
   ],
   "source": [
    "# host tree\n",
    "host_tree_IndD = read.tree(host_tree_IndD_file)\n",
    "host_tree_IndD"
   ]
  },
  {
   "cell_type": "markdown",
   "metadata": {},
   "source": [
    "# Filtering dataset"
   ]
  },
  {
   "cell_type": "code",
   "execution_count": 10,
   "metadata": {
    "ExecuteTime": {
     "end_time": "2020-08-27T07:14:33.176871Z",
     "start_time": "2020-08-27T07:14:32.397Z"
    }
   },
   "outputs": [
    {
     "data": {
      "text/plain": [
       "phyloseq-class experiment-level object\n",
       "otu_table()   OTU Table:         [ 355 taxa and 185 samples ]\n",
       "sample_data() Sample Data:       [ 185 samples by 88 sample variables ]\n",
       "tax_table()   Taxonomy Table:    [ 355 taxa by 7 taxonomic ranks ]\n",
       "phy_tree()    Phylogenetic Tree: [ 355 tips and 354 internal nodes ]"
      ]
     },
     "metadata": {},
     "output_type": "display_data"
    }
   ],
   "source": [
    "# filtering\n",
    "physeq_arch_IndD = physeq_arch_IndD %>%\n",
    "    filter_taxa(function(x) sum(x > 0) >= 2, TRUE) %>%\n",
    "    prune_samples(sample_sums(.)>0, .)\n",
    "physeq_arch_IndD"
   ]
  },
  {
   "cell_type": "code",
   "execution_count": 11,
   "metadata": {
    "ExecuteTime": {
     "end_time": "2020-08-27T07:14:33.259454Z",
     "start_time": "2020-08-27T07:14:32.710Z"
    }
   },
   "outputs": [
    {
     "data": {
      "text/html": [
       "<table>\n",
       "<caption>A data.frame: 185 × 2</caption>\n",
       "<thead>\n",
       "\t<tr><th></th><th scope=col>SampleID</th><th scope=col>scientific_name</th></tr>\n",
       "\t<tr><th></th><th scope=col>&lt;chr&gt;</th><th scope=col>&lt;chr&gt;</th></tr>\n",
       "</thead>\n",
       "<tbody>\n",
       "\t<tr><th scope=row>F14_Common_Bream</th><td>F14_Common_Bream</td><td>Abramis_brama </td></tr>\n",
       "\t<tr><th scope=row>F35_Red_Deer</th><td>F35_Red_Deer    </td><td>Cervus_elaphus</td></tr>\n",
       "\t<tr><th scope=row>⋮</th><td>⋮</td><td>⋮</td></tr>\n",
       "\t<tr><th scope=row>X431_Quagga</th><td>X431_Quagga     </td><td>Equus_quagga       </td></tr>\n",
       "\t<tr><th scope=row>X67_European_Roe</th><td>X67_European_Roe</td><td>Capreolus_capreolus</td></tr>\n",
       "</tbody>\n",
       "</table>\n"
      ],
      "text/latex": [
       "A data.frame: 185 × 2\n",
       "\\begin{tabular}{r|ll}\n",
       "  & SampleID & scientific\\_name\\\\\n",
       "  & <chr> & <chr>\\\\\n",
       "\\hline\n",
       "\tF14\\_Common\\_Bream & F14\\_Common\\_Bream & Abramis\\_brama \\\\\n",
       "\tF35\\_Red\\_Deer & F35\\_Red\\_Deer     & Cervus\\_elaphus\\\\\n",
       "\t⋮ & ⋮ & ⋮\\\\\n",
       "\tX431\\_Quagga & X431\\_Quagga      & Equus\\_quagga       \\\\\n",
       "\tX67\\_European\\_Roe & X67\\_European\\_Roe & Capreolus\\_capreolus\\\\\n",
       "\\end{tabular}\n"
      ],
      "text/markdown": [
       "\n",
       "A data.frame: 185 × 2\n",
       "\n",
       "| <!--/--> | SampleID &lt;chr&gt; | scientific_name &lt;chr&gt; |\n",
       "|---|---|---|\n",
       "| F14_Common_Bream | F14_Common_Bream | Abramis_brama  |\n",
       "| F35_Red_Deer | F35_Red_Deer     | Cervus_elaphus |\n",
       "| ⋮ | ⋮ | ⋮ |\n",
       "| X431_Quagga | X431_Quagga      | Equus_quagga        |\n",
       "| X67_European_Roe | X67_European_Roe | Capreolus_capreolus |\n",
       "\n"
      ],
      "text/plain": [
       "                 SampleID         scientific_name    \n",
       "F14_Common_Bream F14_Common_Bream Abramis_brama      \n",
       "F35_Red_Deer     F35_Red_Deer     Cervus_elaphus     \n",
       "⋮                ⋮                ⋮                  \n",
       "X431_Quagga      X431_Quagga      Equus_quagga       \n",
       "X67_European_Roe X67_European_Roe Capreolus_capreolus"
      ]
     },
     "metadata": {},
     "output_type": "display_data"
    },
    {
     "data": {
      "text/html": [
       "<table>\n",
       "<caption>A data.frame: 185 × 2</caption>\n",
       "<thead>\n",
       "\t<tr><th></th><th scope=col>SampleID</th><th scope=col>scientific_name</th></tr>\n",
       "\t<tr><th></th><th scope=col>&lt;chr&gt;</th><th scope=col>&lt;chr&gt;</th></tr>\n",
       "</thead>\n",
       "<tbody>\n",
       "\t<tr><th scope=row>F14_Common_Bream</th><td>F14_Common_Bream</td><td>Abramis_brama </td></tr>\n",
       "\t<tr><th scope=row>F35_Red_Deer</th><td>F35_Red_Deer    </td><td>Cervus_elaphus</td></tr>\n",
       "\t<tr><th scope=row>⋮</th><td>⋮</td><td>⋮</td></tr>\n",
       "\t<tr><th scope=row>X431_Quagga</th><td>X431_Quagga     </td><td>Equus_quagga       </td></tr>\n",
       "\t<tr><th scope=row>X67_European_Roe</th><td>X67_European_Roe</td><td>Capreolus_capreolus</td></tr>\n",
       "</tbody>\n",
       "</table>\n"
      ],
      "text/latex": [
       "A data.frame: 185 × 2\n",
       "\\begin{tabular}{r|ll}\n",
       "  & SampleID & scientific\\_name\\\\\n",
       "  & <chr> & <chr>\\\\\n",
       "\\hline\n",
       "\tF14\\_Common\\_Bream & F14\\_Common\\_Bream & Abramis\\_brama \\\\\n",
       "\tF35\\_Red\\_Deer & F35\\_Red\\_Deer     & Cervus\\_elaphus\\\\\n",
       "\t⋮ & ⋮ & ⋮\\\\\n",
       "\tX431\\_Quagga & X431\\_Quagga      & Equus\\_quagga       \\\\\n",
       "\tX67\\_European\\_Roe & X67\\_European\\_Roe & Capreolus\\_capreolus\\\\\n",
       "\\end{tabular}\n"
      ],
      "text/markdown": [
       "\n",
       "A data.frame: 185 × 2\n",
       "\n",
       "| <!--/--> | SampleID &lt;chr&gt; | scientific_name &lt;chr&gt; |\n",
       "|---|---|---|\n",
       "| F14_Common_Bream | F14_Common_Bream | Abramis_brama  |\n",
       "| F35_Red_Deer | F35_Red_Deer     | Cervus_elaphus |\n",
       "| ⋮ | ⋮ | ⋮ |\n",
       "| X431_Quagga | X431_Quagga      | Equus_quagga        |\n",
       "| X67_European_Roe | X67_European_Roe | Capreolus_capreolus |\n",
       "\n"
      ],
      "text/plain": [
       "                 SampleID         scientific_name    \n",
       "F14_Common_Bream F14_Common_Bream Abramis_brama      \n",
       "F35_Red_Deer     F35_Red_Deer     Cervus_elaphus     \n",
       "⋮                ⋮                ⋮                  \n",
       "X431_Quagga      X431_Quagga      Equus_quagga       \n",
       "X67_European_Roe X67_European_Roe Capreolus_capreolus"
      ]
     },
     "metadata": {},
     "output_type": "display_data"
    }
   ],
   "source": [
    "# metadata\n",
    "metadata = physeq_arch_IndD %>%\n",
    "    phyloseq2df(sample_data) %>%\n",
    "    dplyr::select(SampleID, scientific_name) %>%\n",
    "    as.data.frame\n",
    "\n",
    "rownames(metadata) = metadata$SampleID\n",
    "metadata[sample_names(physeq_arch_IndD),]\n",
    "metadata"
   ]
  },
  {
   "cell_type": "markdown",
   "metadata": {},
   "source": [
    "# Checks"
   ]
  },
  {
   "cell_type": "code",
   "execution_count": 12,
   "metadata": {
    "ExecuteTime": {
     "end_time": "2020-08-27T07:14:34.515641Z",
     "start_time": "2020-08-27T07:14:34.483Z"
    }
   },
   "outputs": [
    {
     "name": "stdout",
     "output_type": "stream",
     "text": [
      "intersect(x,y): 185 \n",
      "setdiff(x,y): 0 \n",
      "setdiff(y,x): 0 \n",
      "union(x,y): 185 \n"
     ]
    }
   ],
   "source": [
    "overlap(sample_names(physeq_arch_IndD), host_tree_IndD$tip.label)"
   ]
  },
  {
   "cell_type": "markdown",
   "metadata": {},
   "source": [
    "# Subsampling tree\n",
    "\n",
    "* multiple subsamples: one sample per species"
   ]
  },
  {
   "cell_type": "code",
   "execution_count": 11,
   "metadata": {
    "ExecuteTime": {
     "end_time": "2020-08-26T13:58:05.818667Z",
     "start_time": "2020-08-26T13:58:00.839Z"
    }
   },
   "outputs": [],
   "source": [
    "# number of subsampled trees\n",
    "ntrees = 100"
   ]
  },
  {
   "cell_type": "code",
   "execution_count": 12,
   "metadata": {
    "ExecuteTime": {
     "end_time": "2020-08-26T13:58:05.840145Z",
     "start_time": "2020-08-26T13:58:01.310Z"
    }
   },
   "outputs": [],
   "source": [
    "#' randomly selecting one per group\n",
    "tree_subsample = function(L, df, tree){\n",
    "    # get subsample (note: subsampling within each species)\n",
    "    to_keep = df %>% \n",
    "        group_by(scientific_name) %>% \n",
    "        sample_n(1) %>%\n",
    "        .$sample\n",
    "    # subsampling tree\n",
    "    to_rm = setdiff(tree$tip.label, to_keep)\n",
    "    tree = drop.tip(tree, to_rm)\n",
    "    return(tree)\n",
    "}"
   ]
  },
  {
   "cell_type": "code",
   "execution_count": 13,
   "metadata": {
    "ExecuteTime": {
     "end_time": "2020-08-26T13:58:06.608714Z",
     "start_time": "2020-08-26T13:58:02.069Z"
    }
   },
   "outputs": [
    {
     "name": "stdout",
     "output_type": "stream",
     "text": [
      "[1] 100\n"
     ]
    },
    {
     "data": {
      "text/plain": [
       "   Min. 1st Qu.  Median    Mean 3rd Qu.    Max. \n",
       "    110     110     110     110     110     110 "
      ]
     },
     "metadata": {},
     "output_type": "display_data"
    }
   ],
   "source": [
    "# subsampling trees\n",
    "df = metadata %>%\n",
    "    mutate(sample = rownames(.)) %>%\n",
    "    dplyr::select(sample, scientific_name) \n",
    "\n",
    "doParallel::registerDoParallel(threads)\n",
    "host_tree_l = plyr::llply(as.list(1:ntrees), \n",
    "                          function(x) tree_subsample(x, df, host_tree_IndD),\n",
    "                          .parallel=TRUE)\n",
    "\n",
    "# tree lengths\n",
    "host_tree_l %>% length %>% print\n",
    "lapply(host_tree_l, function(x) x$tip.label %>% length) %>% unlist %>% summary"
   ]
  },
  {
   "cell_type": "code",
   "execution_count": 14,
   "metadata": {
    "ExecuteTime": {
     "end_time": "2020-08-26T13:58:06.634558Z",
     "start_time": "2020-08-26T13:58:02.654Z"
    }
   },
   "outputs": [
    {
     "name": "stdout",
     "output_type": "stream",
     "text": [
      "[1] 0\n"
     ]
    }
   ],
   "source": [
    "# checking overlap of labels\n",
    "setdiff(host_tree_l[[1]]$tip.label, rownames(metadata)) %>% length %>% print"
   ]
  },
  {
   "cell_type": "markdown",
   "metadata": {},
   "source": [
    "# Creating datasets"
   ]
  },
  {
   "cell_type": "code",
   "execution_count": 15,
   "metadata": {
    "ExecuteTime": {
     "end_time": "2020-08-26T13:58:06.656507Z",
     "start_time": "2020-08-26T13:58:03.973Z"
    }
   },
   "outputs": [],
   "source": [
    "make_parafit_input = function(host_tree, physeq){\n",
    "    # subsampled phyloseq object\n",
    "    physeq_f = prune_samples(sample_names(physeq) %in% host_tree$tip.label, \n",
    "                             physeq) \n",
    "\n",
    "    # microbial tree distance matrix\n",
    "    micro_D = physeq_f %>%\n",
    "        phy_tree %>% cophenetic %>% \n",
    "        rescale_dist_mtx %>% as.matrix\n",
    "    # host tree distance matrix\n",
    "    host_D = host_tree %>% cophenetic %>% \n",
    "             rescale_dist_mtx %>% as.matrix\n",
    "    \n",
    "    # otu pres/abs matrix\n",
    "    otu = physeq_f %>% \n",
    "        otu_table %>%\n",
    "        as.data.frame %>%\n",
    "        as.matrix %>%\n",
    "        t %>%\n",
    "        apply(2, function(x) ifelse(x > 0, 1, 0)) %>% \n",
    "        as.matrix                \n",
    "              \n",
    "              \n",
    "    # checking overlap\n",
    "    x = length(intersect(rownames(otu), rownames(host_D)))\n",
    "    y = length(union(rownames(otu), rownames(host_D)))\n",
    "    stopifnot(x == y)\n",
    "              \n",
    "    # preparing paco data\n",
    "    return(list(host.D=host_D, para.D = micro_D, HP=otu))\n",
    "}"
   ]
  },
  {
   "cell_type": "code",
   "execution_count": 16,
   "metadata": {
    "ExecuteTime": {
     "end_time": "2020-08-26T13:58:14.532807Z",
     "start_time": "2020-08-26T13:58:04.925Z"
    }
   },
   "outputs": [
    {
     "data": {
      "text/html": [
       "100"
      ],
      "text/latex": [
       "100"
      ],
      "text/markdown": [
       "100"
      ],
      "text/plain": [
       "[1] 100"
      ]
     },
     "metadata": {},
     "output_type": "display_data"
    }
   ],
   "source": [
    "# creating list of parafit input objects\n",
    "doParallel::registerDoParallel(threads)\n",
    "PF_l = plyr::llply(host_tree_l, make_parafit_input, physeq=physeq_arch_IndD, .parallel=TRUE)\n",
    "PF_l %>% length"
   ]
  },
  {
   "cell_type": "markdown",
   "metadata": {
    "ExecuteTime": {
     "end_time": "2020-08-26T13:00:28.647499Z",
     "start_time": "2020-08-26T13:00:28.617Z"
    }
   },
   "source": [
    "# parafit: global test"
   ]
  },
  {
   "cell_type": "code",
   "execution_count": 33,
   "metadata": {
    "ExecuteTime": {
     "end_time": "2020-08-26T13:59:52.325256Z",
     "start_time": "2020-08-26T13:59:52.297Z"
    }
   },
   "outputs": [],
   "source": [
    "# Function for running parafit on each dataset subsample\n",
    "parafit_each = function(L, nperm=99, seed=3843, correction=\"cailliez\", test.links=TRUE){\n",
    "    parafit(L$host.D, L$para.D, L$HP, \n",
    "            nperm=nperm, \n",
    "            seed=seed,\n",
    "            correction=correction,\n",
    "            test.links=test.links)\n",
    "}\n",
    "\n",
    "## debug (WARNING: Slow)\n",
    "#res = lapply(PF_l, parafit_each, nperm=9, test.links=FALSE)"
   ]
  },
  {
   "cell_type": "code",
   "execution_count": 34,
   "metadata": {
    "ExecuteTime": {
     "end_time": "2020-08-26T14:01:02.958066Z",
     "start_time": "2020-08-26T13:59:52.642Z"
    }
   },
   "outputs": [
    {
     "name": "stderr",
     "output_type": "stream",
     "text": [
      "Setting logfile dir: /ebio/abt3_scratch//nyoungblut/clustermq/d9d3e32e-8621-4c03-bf01-03cd3d8a590d\n",
      "\n",
      "Submitting 100 worker jobs (ID: cmq7059) ...\n",
      "\n",
      "Running 100 calculations (2 objs/0 Mb common; 1 calls/chunk) ...\n",
      "\n",
      "\n",
      "[--------------------------------------------------]   0% (1/100 wrk) eta:  ?s\n",
      "\n",
      "[--------------------------------------------------]   0% (2/100 wrk) eta:  ?s\n",
      "\n",
      "[--------------------------------------------------]   0% (3/100 wrk) eta:  ?s\n",
      "\n",
      "[--------------------------------------------------]   0% (4/100 wrk) eta:  ?s\n",
      "\n",
      "[--------------------------------------------------]   0% (5/100 wrk) eta:  ?s\n",
      "\n",
      "[--------------------------------------------------]   0% (6/100 wrk) eta:  ?s\n",
      "\n",
      "[--------------------------------------------------]   0% (7/100 wrk) eta:  ?s\n",
      "\n",
      "[--------------------------------------------------]   0% (8/100 wrk) eta:  ?s\n",
      "\n",
      "[--------------------------------------------------]   0% (9/100 wrk) eta:  ?s\n",
      "\n",
      "[-------------------------------------------------]   0% (10/100 wrk) eta:  ?s\n",
      "\n",
      "[-------------------------------------------------]   0% (11/100 wrk) eta:  ?s\n",
      "\n",
      "[-------------------------------------------------]   0% (12/100 wrk) eta:  ?s\n",
      "\n",
      "[-------------------------------------------------]   0% (13/100 wrk) eta:  ?s\n",
      "\n",
      "[-------------------------------------------------]   0% (14/100 wrk) eta:  ?s\n",
      "\n",
      "[-------------------------------------------------]   0% (15/100 wrk) eta:  ?s\n",
      "\n",
      "[-------------------------------------------------]   0% (16/100 wrk) eta:  ?s\n",
      "\n",
      "[-------------------------------------------------]   0% (17/100 wrk) eta:  ?s\n",
      "\n",
      "[-------------------------------------------------]   0% (18/100 wrk) eta:  ?s\n",
      "\n",
      "[-------------------------------------------------]   0% (19/100 wrk) eta:  ?s\n",
      "\n",
      "[-------------------------------------------------]   0% (20/100 wrk) eta:  ?s\n",
      "\n",
      "[-------------------------------------------------]   0% (21/100 wrk) eta:  ?s\n",
      "\n",
      "[-------------------------------------------------]   0% (22/100 wrk) eta:  ?s\n",
      "\n",
      "[-------------------------------------------------]   0% (23/100 wrk) eta:  ?s\n",
      "\n",
      "[-------------------------------------------------]   0% (24/100 wrk) eta:  ?s\n",
      "\n",
      "[-------------------------------------------------]   0% (25/100 wrk) eta:  ?s\n",
      "\n",
      "[-------------------------------------------------]   0% (26/100 wrk) eta:  ?s\n",
      "\n",
      "[-------------------------------------------------]   0% (27/100 wrk) eta:  ?s\n",
      "\n",
      "[-------------------------------------------------]   0% (28/100 wrk) eta:  ?s\n",
      "\n",
      "[-------------------------------------------------]   0% (29/100 wrk) eta:  ?s\n",
      "\n",
      "[-------------------------------------------------]   0% (30/100 wrk) eta:  ?s\n",
      "\n",
      "[-------------------------------------------------]   0% (31/100 wrk) eta:  ?s\n",
      "\n",
      "[-------------------------------------------------]   0% (32/100 wrk) eta:  ?s\n",
      "\n",
      "[-------------------------------------------------]   0% (33/100 wrk) eta:  ?s\n",
      "\n",
      "[-------------------------------------------------]   0% (34/100 wrk) eta:  ?s\n",
      "\n",
      "[-------------------------------------------------]   0% (35/100 wrk) eta:  ?s\n",
      "\n",
      "[-------------------------------------------------]   0% (36/100 wrk) eta:  ?s\n",
      "\n",
      "[-------------------------------------------------]   0% (37/100 wrk) eta:  ?s\n",
      "\n",
      "[-------------------------------------------------]   0% (38/100 wrk) eta:  ?s\n",
      "\n",
      "[-------------------------------------------------]   0% (39/100 wrk) eta:  ?s\n",
      "\n",
      "[-------------------------------------------------]   0% (40/100 wrk) eta:  ?s\n",
      "\n",
      "[-------------------------------------------------]   0% (41/100 wrk) eta:  ?s\n",
      "\n",
      "[-------------------------------------------------]   0% (42/100 wrk) eta:  ?s\n",
      "\n",
      "[-------------------------------------------------]   0% (43/100 wrk) eta:  ?s\n",
      "\n",
      "[-------------------------------------------------]   0% (44/100 wrk) eta:  ?s\n",
      "\n",
      "[-------------------------------------------------]   0% (45/100 wrk) eta:  ?s\n",
      "\n",
      "[-------------------------------------------------]   0% (46/100 wrk) eta:  ?s\n",
      "\n",
      "[-------------------------------------------------]   0% (47/100 wrk) eta:  ?s\n",
      "\n",
      "[-------------------------------------------------]   0% (48/100 wrk) eta:  ?s\n",
      "\n",
      "[-------------------------------------------------]   0% (49/100 wrk) eta:  ?s\n",
      "\n",
      "[-------------------------------------------------]   0% (50/100 wrk) eta:  ?s\n",
      "\n",
      "[-------------------------------------------------]   0% (51/100 wrk) eta:  ?s\n",
      "\n",
      "[-------------------------------------------------]   0% (52/100 wrk) eta:  ?s\n",
      "\n",
      "[-------------------------------------------------]   0% (53/100 wrk) eta:  ?s\n",
      "\n",
      "[-------------------------------------------------]   0% (54/100 wrk) eta:  ?s\n",
      "\n",
      "[-------------------------------------------------]   0% (55/100 wrk) eta:  ?s\n",
      "\n",
      "[-------------------------------------------------]   0% (56/100 wrk) eta:  ?s\n",
      "\n",
      "[-------------------------------------------------]   0% (57/100 wrk) eta:  ?s\n",
      "\n",
      "[-------------------------------------------------]   0% (58/100 wrk) eta:  ?s\n",
      "\n",
      "[-------------------------------------------------]   0% (59/100 wrk) eta:  ?s\n",
      "\n",
      "[-------------------------------------------------]   0% (60/100 wrk) eta:  ?s\n",
      "\n",
      "[-------------------------------------------------]   0% (61/100 wrk) eta:  ?s\n",
      "\n",
      "[-------------------------------------------------]   0% (62/100 wrk) eta:  ?s\n",
      "\n",
      "[-------------------------------------------------]   0% (63/100 wrk) eta:  ?s\n",
      "\n",
      "[-------------------------------------------------]   0% (64/100 wrk) eta:  ?s\n",
      "\n",
      "[-------------------------------------------------]   0% (65/100 wrk) eta:  ?s\n",
      "\n",
      "[-------------------------------------------------]   0% (66/100 wrk) eta:  ?s\n",
      "\n",
      "[-------------------------------------------------]   0% (67/100 wrk) eta:  ?s\n",
      "\n",
      "[-------------------------------------------------]   0% (68/100 wrk) eta:  ?s\n",
      "\n",
      "[-------------------------------------------------]   0% (69/100 wrk) eta:  ?s\n",
      "\n",
      "[-------------------------------------------------]   0% (70/100 wrk) eta:  ?s\n",
      "\n",
      "[-------------------------------------------------]   0% (71/100 wrk) eta:  ?s\n",
      "\n",
      "[-------------------------------------------------]   0% (72/100 wrk) eta:  ?s\n",
      "\n",
      "[-------------------------------------------------]   0% (73/100 wrk) eta:  ?s\n",
      "\n",
      "[-------------------------------------------------]   0% (74/100 wrk) eta:  ?s\n",
      "\n",
      "[-------------------------------------------------]   1% (74/100 wrk) eta:  1h\n",
      "\n",
      "[-------------------------------------------------]   1% (75/100 wrk) eta:  1h\n",
      "\n",
      "[-------------------------------------------------]   1% (76/100 wrk) eta:  1h\n",
      "\n",
      "[-------------------------------------------------]   1% (77/100 wrk) eta:  1h\n",
      "\n",
      "[>------------------------------------------------]   2% (77/100 wrk) eta: 33m\n",
      "\n",
      "[>------------------------------------------------]   2% (78/100 wrk) eta: 33m\n",
      "\n",
      "[>------------------------------------------------]   3% (78/100 wrk) eta: 22m\n",
      "\n",
      "[>------------------------------------------------]   3% (79/100 wrk) eta: 22m\n",
      "\n",
      "[=>-----------------------------------------------]   4% (79/100 wrk) eta: 17m\n",
      "\n",
      "[=>-----------------------------------------------]   4% (80/100 wrk) eta: 17m\n",
      "\n",
      "[=>-----------------------------------------------]   5% (80/100 wrk) eta: 13m\n",
      "\n",
      "[==>----------------------------------------------]   6% (80/100 wrk) eta: 11m\n",
      "\n",
      "[==>----------------------------------------------]   7% (80/100 wrk) eta:  9m\n",
      "\n",
      "[==>----------------------------------------------]   7% (81/100 wrk) eta:  9m\n",
      "\n",
      "[==>----------------------------------------------]   7% (82/100 wrk) eta:  9m\n",
      "\n",
      "[===>---------------------------------------------]   8% (82/100 wrk) eta:  8m\n",
      "\n",
      "[===>---------------------------------------------]   9% (82/100 wrk) eta:  7m\n",
      "\n",
      "[====>--------------------------------------------]  10% (82/100 wrk) eta:  6m\n",
      "\n",
      "[====>--------------------------------------------]  10% (83/100 wrk) eta:  6m\n",
      "\n",
      "[====>--------------------------------------------]  11% (83/100 wrk) eta:  6m\n",
      "\n",
      "[=====>-------------------------------------------]  12% (83/100 wrk) eta:  5m\n",
      "\n",
      "[=====>-------------------------------------------]  12% (84/100 wrk) eta:  5m\n",
      "\n",
      "[=====>-------------------------------------------]  12% (85/100 wrk) eta:  5m\n",
      "\n",
      "[=====>-------------------------------------------]  12% (86/100 wrk) eta:  5m\n",
      "\n",
      "[=====>-------------------------------------------]  13% (86/100 wrk) eta:  5m\n",
      "\n",
      "[======>------------------------------------------]  14% (86/100 wrk) eta:  4m\n"
     ]
    },
    {
     "name": "stderr",
     "output_type": "stream",
     "text": [
      "\n",
      "[======>------------------------------------------]  15% (86/100 wrk) eta:  4m\n",
      "\n",
      "[=======>------------------------------------------]  15% (86/99 wrk) eta:  4m\n",
      "\n",
      "[=======>------------------------------------------]  16% (85/98 wrk) eta:  4m\n",
      "\n",
      "[=======>------------------------------------------]  17% (84/97 wrk) eta:  4m\n",
      "\n",
      "[========>-----------------------------------------]  18% (83/96 wrk) eta:  3m\n",
      "\n",
      "[=========>----------------------------------------]  19% (82/95 wrk) eta:  3m\n",
      "\n",
      "[=========>----------------------------------------]  20% (82/95 wrk) eta:  3m\n",
      "\n",
      "[=========>----------------------------------------]  21% (80/93 wrk) eta:  3m\n",
      "\n",
      "[==========>---------------------------------------]  22% (79/92 wrk) eta:  3m\n",
      "\n",
      "[===========>--------------------------------------]  23% (78/91 wrk) eta:  3m\n",
      "\n",
      "[===========>--------------------------------------]  24% (77/90 wrk) eta:  3m\n",
      "\n",
      "[===========>--------------------------------------]  25% (76/89 wrk) eta:  2m\n",
      "\n",
      "[============>-------------------------------------]  26% (75/88 wrk) eta:  2m\n",
      "\n",
      "[=============>------------------------------------]  27% (74/87 wrk) eta:  2m\n",
      "\n",
      "[=============>------------------------------------]  28% (73/86 wrk) eta:  2m\n",
      "\n",
      "[=============>------------------------------------]  29% (72/85 wrk) eta:  2m\n",
      "\n",
      "[==============>-----------------------------------]  30% (71/84 wrk) eta:  2m\n",
      "\n",
      "[===============>----------------------------------]  31% (70/83 wrk) eta:  2m\n",
      "\n",
      "[===============>----------------------------------]  32% (70/83 wrk) eta:  2m\n",
      "\n",
      "[===============>----------------------------------]  33% (68/81 wrk) eta:  2m\n",
      "\n",
      "[================>---------------------------------]  34% (67/80 wrk) eta:  2m\n",
      "\n",
      "[=================>--------------------------------]  35% (66/79 wrk) eta:  2m\n",
      "\n",
      "[=================>--------------------------------]  35% (67/79 wrk) eta:  2m\n",
      "\n",
      "[=================>--------------------------------]  35% (66/78 wrk) eta:  2m\n",
      "\n",
      "[=================>--------------------------------]  36% (66/78 wrk) eta:  2m\n",
      "\n",
      "[=================>--------------------------------]  37% (64/76 wrk) eta:  2m\n",
      "\n",
      "[==================>-------------------------------]  38% (63/75 wrk) eta:  2m\n",
      "\n",
      "[===================>------------------------------]  39% (63/75 wrk) eta:  1m\n",
      "\n",
      "[===================>------------------------------]  40% (61/73 wrk) eta:  1m\n",
      "\n",
      "[===================>------------------------------]  41% (60/72 wrk) eta:  1m\n",
      "\n",
      "[====================>-----------------------------]  42% (59/71 wrk) eta:  1m\n",
      "\n",
      "[=====================>----------------------------]  43% (58/70 wrk) eta:  1m\n",
      "\n",
      "[=====================>----------------------------]  44% (57/69 wrk) eta:  1m\n",
      "\n",
      "[=====================>----------------------------]  44% (58/69 wrk) eta:  1m\n",
      "\n",
      "[=====================>----------------------------]  44% (57/68 wrk) eta:  1m\n",
      "\n",
      "[=====================>----------------------------]  45% (56/67 wrk) eta:  1m\n",
      "\n",
      "[=====================>----------------------------]  45% (57/67 wrk) eta:  1m\n",
      "\n",
      "[=====================>----------------------------]  45% (56/66 wrk) eta:  1m\n",
      "\n",
      "[======================>---------------------------]  46% (56/66 wrk) eta:  1m\n",
      "\n",
      "[=======================>--------------------------]  47% (56/66 wrk) eta:  1m\n",
      "\n",
      "[=======================>--------------------------]  48% (53/63 wrk) eta:  1m\n",
      "\n",
      "[=======================>--------------------------]  49% (52/62 wrk) eta:  1m\n",
      "\n",
      "[========================>-------------------------]  50% (51/61 wrk) eta:  1m\n",
      "\n",
      "[=========================>------------------------]  51% (51/61 wrk) eta:  1m\n",
      "\n",
      "[=========================>------------------------]  52% (49/59 wrk) eta:  1m\n",
      "\n",
      "[=========================>------------------------]  53% (49/59 wrk) eta:  1m\n",
      "\n",
      "[==========================>-----------------------]  54% (47/57 wrk) eta:  1m\n",
      "\n",
      "[===========================>----------------------]  55% (46/56 wrk) eta: 50s\n",
      "\n",
      "[===========================>----------------------]  55% (47/56 wrk) eta: 50s\n",
      "\n",
      "[===========================>----------------------]  55% (46/55 wrk) eta:  1m\n",
      "\n",
      "[===========================>----------------------]  56% (46/55 wrk) eta: 48s\n",
      "\n",
      "[===========================>----------------------]  57% (45/54 wrk) eta: 46s\n",
      "\n",
      "[============================>---------------------]  58% (43/52 wrk) eta: 45s\n",
      "\n",
      "[=============================>--------------------]  59% (43/52 wrk) eta: 43s\n",
      "\n",
      "[=============================>--------------------]  60% (43/52 wrk) eta: 41s\n",
      "\n",
      "[=============================>--------------------]  61% (40/49 wrk) eta: 40s\n",
      "\n",
      "[==============================>-------------------]  62% (40/49 wrk) eta: 38s\n",
      "\n",
      "[===============================>------------------]  63% (38/47 wrk) eta: 37s\n",
      "\n",
      "[===============================>------------------]  64% (38/47 wrk) eta: 35s\n",
      "\n",
      "[===============================>------------------]  65% (36/45 wrk) eta: 34s\n",
      "\n",
      "[================================>-----------------]  66% (36/45 wrk) eta: 32s\n",
      "\n",
      "[=================================>----------------]  67% (35/44 wrk) eta: 31s\n",
      "\n",
      "[=================================>----------------]  68% (34/43 wrk) eta: 30s\n",
      "\n",
      "[=================================>----------------]  69% (34/43 wrk) eta: 28s\n",
      "\n",
      "[==================================>---------------]  70% (31/40 wrk) eta: 27s\n",
      "\n",
      "[===================================>--------------]  71% (30/39 wrk) eta: 26s\n",
      "\n",
      "[===================================>--------------]  71% (30/38 wrk) eta: 26s\n",
      "\n",
      "[===================================>--------------]  72% (30/38 wrk) eta: 25s\n",
      "\n",
      "[===================================>--------------]  73% (29/37 wrk) eta: 24s\n",
      "\n",
      "[====================================>-------------]  74% (27/35 wrk) eta: 22s\n",
      "\n",
      "[=====================================>------------]  75% (26/34 wrk) eta: 21s\n",
      "\n",
      "[=====================================>------------]  76% (25/33 wrk) eta: 20s\n",
      "\n",
      "[=====================================>------------]  77% (25/33 wrk) eta: 19s\n",
      "\n",
      "[======================================>-----------]  78% (25/33 wrk) eta: 18s\n",
      "\n",
      "[=======================================>----------]  79% (22/30 wrk) eta: 17s\n",
      "\n",
      "[=======================================>----------]  80% (22/30 wrk) eta: 16s\n",
      "\n",
      "[=======================================>----------]  81% (21/29 wrk) eta: 15s\n",
      "\n",
      "[========================================>---------]  82% (21/29 wrk) eta: 14s\n",
      "\n",
      "[========================================>---------]  82% (21/28 wrk) eta: 14s\n",
      "\n",
      "[========================================>---------]  82% (19/26 wrk) eta: 14s\n",
      "\n",
      "[=========================================>--------]  83% (19/26 wrk) eta: 13s\n",
      "\n",
      "[=========================================>--------]  84% (17/24 wrk) eta: 12s\n",
      "\n",
      "[=========================================>--------]  85% (16/23 wrk) eta: 12s\n",
      "\n",
      "[==========================================>-------]  86% (15/22 wrk) eta: 11s\n",
      "\n",
      "[===========================================>------]  87% (15/22 wrk) eta: 10s\n",
      "\n",
      "[===========================================>------]  88% (13/20 wrk) eta:  9s\n",
      "\n",
      "[===========================================>------]  89% (13/20 wrk) eta:  8s\n",
      "\n",
      "[============================================>-----]  90% (13/20 wrk) eta:  7s\n",
      "\n",
      "[=============================================>----]  91% (10/17 wrk) eta:  7s\n",
      "\n",
      "[=============================================>----]  92% (10/17 wrk) eta:  6s\n",
      "\n",
      "[==============================================>----]  93% (8/15 wrk) eta:  5s\n",
      "\n",
      "[==============================================>----]  93% (8/14 wrk) eta:  5s\n",
      "\n",
      "[===============================================>---]  94% (7/13 wrk) eta:  4s\n",
      "\n",
      "[===============================================>---]  94% (7/12 wrk) eta:  4s\n",
      "\n",
      "[===============================================>---]  95% (7/12 wrk) eta:  4s\n",
      "\n",
      "[================================================>--]  96% (7/12 wrk) eta:  3s\n",
      "\n",
      "[=================================================>--]  97% (4/9 wrk) eta:  2s\n",
      "\n",
      "[==================================================>-]  98% (3/8 wrk) eta:  1s\n",
      "\n",
      "[==================================================>-]  99% (2/7 wrk) eta:  1s\n",
      "\n",
      "[====================================================] 100% (2/7 wrk) eta:  0s\n",
      "                                                                              \n",
      "\n",
      "Master: [69.6s 3.8% CPU]; Worker: [avg 99.6% CPU, max 311.3 Mb]\n",
      "\n"
     ]
    }
   ],
   "source": [
    "# cluster job submission\n",
    "tmpl = list(job_time = '00:59:00', job_mem = '10G', \n",
    "            conda = '/ebio/abt3_projects/Georg_animal_feces/envs/phyloseq',\n",
    "            log_file = clustermq_logfile())  \n",
    "params = list(nperm = 999, test.links = FALSE)\n",
    "PF_res_l = Q(parafit_each, PF_l, const=params, pkgs=c('ape'),\n",
    "             n_jobs=100, job_size=1, template=tmpl)"
   ]
  },
  {
   "cell_type": "code",
   "execution_count": 36,
   "metadata": {
    "ExecuteTime": {
     "end_time": "2020-08-26T14:01:03.152679Z",
     "start_time": "2020-08-26T13:59:54.904Z"
    }
   },
   "outputs": [],
   "source": [
    "# # Running on cluster\n",
    "# ## cluster resources\n",
    "# resources = list(h_rt = '00:59:00',\n",
    "#                  h_vmem = '12G',\n",
    "#                  threads = '1',\n",
    "#                  conda.env = '/ebio/abt3_projects/Georg_animal_feces/envs/phyloseq', \n",
    "#                  conda.path = '/ebio/abt3_projects/software/miniconda3_gt4.4/bin')\n",
    "# plan(batchtools_sge, resources=resources, workers=100)\n",
    "# ## job submission\n",
    "# PF_res_l = future_lapply(PF_l, parafit_each, \n",
    "#                          nperm=9, \n",
    "#                          test.links=FALSE,\n",
    "#                          future.packages=c('ape'))"
   ]
  },
  {
   "cell_type": "code",
   "execution_count": 37,
   "metadata": {
    "ExecuteTime": {
     "end_time": "2020-08-26T14:01:03.184563Z",
     "start_time": "2020-08-26T13:59:55.064Z"
    }
   },
   "outputs": [
    {
     "data": {
      "text/html": [
       "100"
      ],
      "text/latex": [
       "100"
      ],
      "text/markdown": [
       "100"
      ],
      "text/plain": [
       "[1] 100"
      ]
     },
     "metadata": {},
     "output_type": "display_data"
    }
   ],
   "source": [
    "# results\n",
    "PF_res_l %>% length"
   ]
  },
  {
   "cell_type": "markdown",
   "metadata": {},
   "source": [
    "## Saving results"
   ]
  },
  {
   "cell_type": "code",
   "execution_count": 38,
   "metadata": {
    "ExecuteTime": {
     "end_time": "2020-08-26T14:01:03.218640Z",
     "start_time": "2020-08-26T13:59:56.096Z"
    }
   },
   "outputs": [
    {
     "data": {
      "text/html": [
       "'/ebio/abt3_projects/Georg_animal_feces/data/16S_arch/MiSeq-Runs-116-122-126-189-190/LLA/cophylo//physeq_IndD-sens_parafit.RDS'"
      ],
      "text/latex": [
       "'/ebio/abt3\\_projects/Georg\\_animal\\_feces/data/16S\\_arch/MiSeq-Runs-116-122-126-189-190/LLA/cophylo//physeq\\_IndD-sens\\_parafit.RDS'"
      ],
      "text/markdown": [
       "'/ebio/abt3_projects/Georg_animal_feces/data/16S_arch/MiSeq-Runs-116-122-126-189-190/LLA/cophylo//physeq_IndD-sens_parafit.RDS'"
      ],
      "text/plain": [
       "[1] \"/ebio/abt3_projects/Georg_animal_feces/data/16S_arch/MiSeq-Runs-116-122-126-189-190/LLA/cophylo//physeq_IndD-sens_parafit.RDS\""
      ]
     },
     "metadata": {},
     "output_type": "display_data"
    }
   ],
   "source": [
    "# for loading results instead of re-running\n",
    "PF_file = file.path(work_dir, 'physeq_IndD-sens_parafit.RDS')\n",
    "PF_file"
   ]
  },
  {
   "cell_type": "code",
   "execution_count": 39,
   "metadata": {
    "ExecuteTime": {
     "end_time": "2020-08-26T14:01:03.361763Z",
     "start_time": "2020-08-26T13:59:56.367Z"
    }
   },
   "outputs": [
    {
     "name": "stdout",
     "output_type": "stream",
     "text": [
      "File written: /ebio/abt3_projects/Georg_animal_feces/data/16S_arch/MiSeq-Runs-116-122-126-189-190/LLA/cophylo//physeq_IndD-sens_parafit.RDS \n"
     ]
    }
   ],
   "source": [
    "# saving\n",
    "saveRDS(PF_res_l, file=PF_file)\n",
    "cat('File written:', PF_file, '\\n')"
   ]
  },
  {
   "cell_type": "code",
   "execution_count": 40,
   "metadata": {
    "ExecuteTime": {
     "end_time": "2020-08-26T14:01:03.438869Z",
     "start_time": "2020-08-26T13:59:56.705Z"
    }
   },
   "outputs": [
    {
     "data": {
      "text/html": [
       "100"
      ],
      "text/latex": [
       "100"
      ],
      "text/markdown": [
       "100"
      ],
      "text/plain": [
       "[1] 100"
      ]
     },
     "metadata": {},
     "output_type": "display_data"
    }
   ],
   "source": [
    "# re-loading\n",
    "PF_res_l = readRDS(PF_file)\n",
    "PF_res_l %>% length"
   ]
  },
  {
   "cell_type": "code",
   "execution_count": 41,
   "metadata": {
    "ExecuteTime": {
     "end_time": "2020-08-26T14:01:04.565241Z",
     "start_time": "2020-08-26T13:59:57.152Z"
    }
   },
   "outputs": [
    {
     "name": "stderr",
     "output_type": "stream",
     "text": [
      "Sending email to: nyoungblut@tuebingen.mpg.de\n",
      "\n"
     ]
    }
   ],
   "source": [
    "send_email('http://127.0.0.1:9805/notebooks/notebooks/16S_arch/MiSeq-Runs116-122-126-189-190/04_cophylo/03_parafit_rarefy.ipynb')"
   ]
  },
  {
   "cell_type": "markdown",
   "metadata": {},
   "source": [
    "## Summarizing"
   ]
  },
  {
   "cell_type": "code",
   "execution_count": 43,
   "metadata": {
    "ExecuteTime": {
     "end_time": "2020-08-26T14:03:20.781110Z",
     "start_time": "2020-08-26T14:03:20.747Z"
    }
   },
   "outputs": [
    {
     "name": "stdout",
     "output_type": "stream",
     "text": [
      "   Min. 1st Qu.  Median    Mean 3rd Qu.    Max. \n",
      "  226.1   473.3   625.0   645.1   759.0  1614.2 \n"
     ]
    }
   ],
   "source": [
    "# distribution of effect size\n",
    "lapply(PF_res_l, function(x) x$ParaFitGlobal) %>% unlist %>% summary %>% print"
   ]
  },
  {
   "cell_type": "code",
   "execution_count": 44,
   "metadata": {
    "ExecuteTime": {
     "end_time": "2020-08-26T14:03:21.358465Z",
     "start_time": "2020-08-26T14:03:21.324Z"
    }
   },
   "outputs": [
    {
     "name": "stdout",
     "output_type": "stream",
     "text": [
      "   Min. 1st Qu.  Median    Mean 3rd Qu.    Max. \n",
      "0.00100 0.00100 0.00100 0.00106 0.00100 0.00500 \n"
     ]
    }
   ],
   "source": [
    "# distribution of p-values\n",
    "lapply(PF_res_l, function(x) x$p.global) %>% unlist %>% summary %>% print"
   ]
  },
  {
   "cell_type": "markdown",
   "metadata": {},
   "source": [
    "# parafit: individual links"
   ]
  },
  {
   "cell_type": "code",
   "execution_count": 47,
   "metadata": {
    "ExecuteTime": {
     "end_time": "2020-08-26T14:04:10.156407Z",
     "start_time": "2020-08-26T14:04:10.129Z"
    }
   },
   "outputs": [],
   "source": [
    "parafit_each = function(L, nperm=99, seed=3843, correction=\"cailliez\", test.links=TRUE){\n",
    "    parafit(L$host.D, L$para.D, L$HP, \n",
    "            nperm=nperm, \n",
    "            seed=seed,\n",
    "            correction=correction,\n",
    "            test.links=test.links)\n",
    "}"
   ]
  },
  {
   "cell_type": "code",
   "execution_count": null,
   "metadata": {},
   "outputs": [],
   "source": [
    "# # cluster jobs\n",
    "# ## cluster resources\n",
    "# resources = list(h_rt = '200:00:00',\n",
    "#                  h_vmem = '10G',\n",
    "#                  threads = '1',\n",
    "#                  conda.env = 'py3_physeq_eco', \n",
    "#                  conda.path = \"/ebio/abt3_projects/software/miniconda3_gt4.4/bin\")\n",
    "# plan(batchtools_sge, resources=resources, workers=100)\n",
    "# ## submission\n",
    "# PF_res_links_l = future_lapply(PF_l, parafit_each, \n",
    "#                          nperm=999, \n",
    "#                          test.links=TRUE,\n",
    "#                          future.packages=c('ape'))"
   ]
  },
  {
   "cell_type": "code",
   "execution_count": 50,
   "metadata": {
    "ExecuteTime": {
     "end_time": "2020-08-27T06:59:54.384450Z",
     "start_time": "2020-08-26T14:05:26.815Z"
    }
   },
   "outputs": [
    {
     "name": "stderr",
     "output_type": "stream",
     "text": [
      "Setting logfile dir: /ebio/abt3_scratch//nyoungblut/clustermq/7f81b199-061b-4964-bc03-310dfc25d88f\n",
      "\n",
      "Submitting 100 worker jobs (ID: cmq6529) ...\n",
      "\n",
      "Running 100 calculations (2 objs/0 Mb common; 1 calls/chunk) ...\n",
      "\n",
      "\n",
      "[--------------------------------------------------]   0% (1/100 wrk) eta:  ?s\n",
      "\n",
      "[--------------------------------------------------]   0% (2/100 wrk) eta:  ?s\n",
      "\n",
      "[--------------------------------------------------]   0% (3/100 wrk) eta:  ?s\n",
      "\n",
      "[--------------------------------------------------]   0% (4/100 wrk) eta:  ?s\n",
      "\n",
      "[--------------------------------------------------]   0% (5/100 wrk) eta:  ?s\n",
      "\n",
      "[--------------------------------------------------]   0% (6/100 wrk) eta:  ?s\n",
      "\n",
      "[--------------------------------------------------]   0% (7/100 wrk) eta:  ?s\n",
      "\n",
      "[--------------------------------------------------]   0% (8/100 wrk) eta:  ?s\n",
      "\n",
      "[--------------------------------------------------]   0% (9/100 wrk) eta:  ?s\n",
      "\n",
      "[-------------------------------------------------]   0% (10/100 wrk) eta:  ?s\n",
      "\n",
      "[-------------------------------------------------]   0% (11/100 wrk) eta:  ?s\n",
      "\n",
      "[-------------------------------------------------]   0% (12/100 wrk) eta:  ?s\n",
      "\n",
      "[-------------------------------------------------]   0% (13/100 wrk) eta:  ?s\n",
      "\n",
      "[-------------------------------------------------]   0% (14/100 wrk) eta:  ?s\n",
      "\n",
      "[-------------------------------------------------]   0% (15/100 wrk) eta:  ?s\n",
      "\n",
      "[-------------------------------------------------]   0% (16/100 wrk) eta:  ?s\n",
      "\n",
      "[-------------------------------------------------]   0% (17/100 wrk) eta:  ?s\n",
      "\n",
      "[-------------------------------------------------]   0% (18/100 wrk) eta:  ?s\n",
      "\n",
      "[-------------------------------------------------]   0% (19/100 wrk) eta:  ?s\n",
      "\n",
      "[-------------------------------------------------]   0% (20/100 wrk) eta:  ?s\n",
      "\n",
      "[-------------------------------------------------]   0% (21/100 wrk) eta:  ?s\n",
      "\n",
      "[-------------------------------------------------]   0% (22/100 wrk) eta:  ?s\n",
      "\n",
      "[-------------------------------------------------]   0% (23/100 wrk) eta:  ?s\n",
      "\n",
      "[-------------------------------------------------]   0% (24/100 wrk) eta:  ?s\n",
      "\n",
      "[-------------------------------------------------]   0% (25/100 wrk) eta:  ?s\n",
      "\n",
      "[-------------------------------------------------]   0% (26/100 wrk) eta:  ?s\n",
      "\n",
      "[-------------------------------------------------]   0% (27/100 wrk) eta:  ?s\n",
      "\n",
      "[-------------------------------------------------]   0% (28/100 wrk) eta:  ?s\n",
      "\n",
      "[-------------------------------------------------]   0% (29/100 wrk) eta:  ?s\n",
      "\n",
      "[-------------------------------------------------]   0% (30/100 wrk) eta:  ?s\n",
      "\n",
      "[-------------------------------------------------]   0% (31/100 wrk) eta:  ?s\n",
      "\n",
      "[-------------------------------------------------]   0% (32/100 wrk) eta:  ?s\n",
      "\n",
      "[-------------------------------------------------]   0% (33/100 wrk) eta:  ?s\n",
      "\n",
      "[-------------------------------------------------]   0% (34/100 wrk) eta:  ?s\n",
      "\n",
      "[-------------------------------------------------]   0% (35/100 wrk) eta:  ?s\n",
      "\n",
      "[-------------------------------------------------]   0% (36/100 wrk) eta:  ?s\n",
      "\n",
      "[-------------------------------------------------]   0% (37/100 wrk) eta:  ?s\n",
      "\n",
      "[-------------------------------------------------]   0% (38/100 wrk) eta:  ?s\n",
      "\n",
      "[-------------------------------------------------]   0% (39/100 wrk) eta:  ?s\n",
      "\n",
      "[-------------------------------------------------]   0% (40/100 wrk) eta:  ?s\n",
      "\n",
      "[-------------------------------------------------]   0% (41/100 wrk) eta:  ?s\n",
      "\n",
      "[-------------------------------------------------]   0% (42/100 wrk) eta:  ?s\n",
      "\n",
      "[-------------------------------------------------]   0% (43/100 wrk) eta:  ?s\n",
      "\n",
      "[-------------------------------------------------]   0% (44/100 wrk) eta:  ?s\n",
      "\n",
      "[-------------------------------------------------]   0% (45/100 wrk) eta:  ?s\n",
      "\n",
      "[-------------------------------------------------]   0% (46/100 wrk) eta:  ?s\n",
      "\n",
      "[-------------------------------------------------]   0% (47/100 wrk) eta:  ?s\n",
      "\n",
      "[-------------------------------------------------]   0% (48/100 wrk) eta:  ?s\n",
      "\n",
      "[-------------------------------------------------]   0% (49/100 wrk) eta:  ?s\n",
      "\n",
      "[-------------------------------------------------]   0% (50/100 wrk) eta:  ?s\n",
      "\n",
      "[-------------------------------------------------]   0% (51/100 wrk) eta:  ?s\n",
      "\n",
      "[-------------------------------------------------]   0% (52/100 wrk) eta:  ?s\n",
      "\n",
      "[-------------------------------------------------]   0% (53/100 wrk) eta:  ?s\n",
      "\n",
      "[-------------------------------------------------]   0% (54/100 wrk) eta:  ?s\n",
      "\n",
      "[-------------------------------------------------]   0% (55/100 wrk) eta:  ?s\n",
      "\n",
      "[-------------------------------------------------]   0% (56/100 wrk) eta:  ?s\n",
      "\n",
      "[-------------------------------------------------]   0% (57/100 wrk) eta:  ?s\n",
      "\n",
      "[-------------------------------------------------]   0% (58/100 wrk) eta:  ?s\n",
      "\n",
      "[-------------------------------------------------]   0% (59/100 wrk) eta:  ?s\n",
      "\n",
      "[-------------------------------------------------]   0% (60/100 wrk) eta:  ?s\n",
      "\n",
      "[-------------------------------------------------]   0% (61/100 wrk) eta:  ?s\n",
      "\n",
      "[-------------------------------------------------]   0% (62/100 wrk) eta:  ?s\n",
      "\n",
      "[-------------------------------------------------]   0% (63/100 wrk) eta:  ?s\n",
      "\n",
      "[-------------------------------------------------]   0% (64/100 wrk) eta:  ?s\n",
      "\n",
      "[-------------------------------------------------]   0% (65/100 wrk) eta:  ?s\n",
      "\n",
      "[-------------------------------------------------]   0% (66/100 wrk) eta:  ?s\n",
      "\n",
      "[-------------------------------------------------]   0% (67/100 wrk) eta:  ?s\n",
      "\n",
      "[-------------------------------------------------]   0% (68/100 wrk) eta:  ?s\n",
      "\n",
      "[-------------------------------------------------]   0% (69/100 wrk) eta:  ?s\n",
      "\n",
      "[-------------------------------------------------]   0% (70/100 wrk) eta:  ?s\n",
      "\n",
      "[-------------------------------------------------]   0% (71/100 wrk) eta:  ?s\n",
      "\n",
      "[-------------------------------------------------]   0% (72/100 wrk) eta:  ?s\n",
      "\n",
      "[-------------------------------------------------]   0% (73/100 wrk) eta:  ?s\n",
      "\n",
      "[-------------------------------------------------]   0% (74/100 wrk) eta:  ?s\n",
      "\n",
      "[-------------------------------------------------]   0% (75/100 wrk) eta:  ?s\n",
      "\n",
      "[-------------------------------------------------]   0% (76/100 wrk) eta:  ?s\n",
      "\n",
      "[-------------------------------------------------]   0% (77/100 wrk) eta:  ?s\n",
      "\n",
      "[-------------------------------------------------]   0% (78/100 wrk) eta:  ?s\n",
      "\n",
      "[-------------------------------------------------]   0% (79/100 wrk) eta:  ?s\n",
      "\n",
      "[-------------------------------------------------]   0% (80/100 wrk) eta:  ?s\n",
      "\n",
      "[-------------------------------------------------]   0% (81/100 wrk) eta:  ?s\n",
      "\n",
      "[-------------------------------------------------]   0% (82/100 wrk) eta:  ?s\n",
      "\n",
      "[-------------------------------------------------]   0% (83/100 wrk) eta:  ?s\n",
      "\n",
      "[-------------------------------------------------]   0% (84/100 wrk) eta:  ?s\n",
      "\n",
      "[-------------------------------------------------]   0% (85/100 wrk) eta:  ?s\n",
      "\n",
      "[-------------------------------------------------]   0% (86/100 wrk) eta:  ?s\n",
      "\n",
      "[-------------------------------------------------]   0% (87/100 wrk) eta:  ?s\n",
      "\n",
      "[-------------------------------------------------]   0% (88/100 wrk) eta:  ?s\n",
      "\n",
      "[-------------------------------------------------]   0% (89/100 wrk) eta:  ?s\n",
      "\n",
      "[-------------------------------------------------]   0% (90/100 wrk) eta:  ?s\n",
      "\n",
      "[-------------------------------------------------]   0% (91/100 wrk) eta:  ?s\n",
      "\n",
      "[-------------------------------------------------]   0% (92/100 wrk) eta:  ?s\n",
      "\n",
      "[-------------------------------------------------]   0% (93/100 wrk) eta:  ?s\n",
      "\n",
      "[-------------------------------------------------]   0% (94/100 wrk) eta:  ?s\n",
      "\n",
      "[-------------------------------------------------]   0% (95/100 wrk) eta:  ?s\n",
      "\n",
      "[-------------------------------------------------]   0% (96/100 wrk) eta:  ?s\n",
      "\n",
      "[-------------------------------------------------]   0% (97/100 wrk) eta:  ?s\n",
      "\n",
      "[-------------------------------------------------]   0% (98/100 wrk) eta:  ?s\n",
      "\n",
      "[-------------------------------------------------]   0% (99/100 wrk) eta:  ?s\n",
      "\n",
      "[------------------------------------------------]   0% (100/100 wrk) eta:  ?s\n"
     ]
    },
    {
     "name": "stderr",
     "output_type": "stream",
     "text": [
      "\n",
      "[------------------------------------------------]   1% (100/100 wrk) eta: 16d\n",
      "\n",
      "[>-------------------------------------------------]   2% (99/99 wrk) eta:  9d\n",
      "\n",
      "[=>------------------------------------------------]   3% (98/98 wrk) eta:  6d\n",
      "\n",
      "[=>------------------------------------------------]   4% (97/97 wrk) eta:  5d\n",
      "\n",
      "[=>------------------------------------------------]   5% (96/96 wrk) eta:  4d\n",
      "\n",
      "[==>-----------------------------------------------]   6% (95/95 wrk) eta:  3d\n",
      "\n",
      "[===>----------------------------------------------]   7% (94/94 wrk) eta:  3d\n",
      "\n",
      "[===>----------------------------------------------]   8% (93/93 wrk) eta:  2d\n",
      "\n",
      "[===>----------------------------------------------]   9% (92/92 wrk) eta:  2d\n",
      "\n",
      "[====>---------------------------------------------]  10% (91/91 wrk) eta:  2d\n",
      "\n",
      "[=====>--------------------------------------------]  11% (90/90 wrk) eta:  2d\n",
      "\n",
      "[=====>--------------------------------------------]  12% (89/89 wrk) eta:  2d\n",
      "\n",
      "[=====>--------------------------------------------]  13% (88/88 wrk) eta:  2d\n",
      "\n",
      "[======>-------------------------------------------]  14% (87/87 wrk) eta:  1d\n",
      "\n",
      "[=======>------------------------------------------]  15% (86/86 wrk) eta:  1d\n",
      "\n",
      "[=======>------------------------------------------]  16% (85/85 wrk) eta:  1d\n",
      "\n",
      "[=======>------------------------------------------]  17% (84/84 wrk) eta:  1d\n",
      "\n",
      "[========>-----------------------------------------]  18% (83/83 wrk) eta:  1d\n",
      "\n",
      "[=========>----------------------------------------]  19% (82/82 wrk) eta:  1d\n",
      "\n",
      "[=========>----------------------------------------]  20% (81/81 wrk) eta:  1d\n",
      "\n",
      "[=========>----------------------------------------]  21% (80/80 wrk) eta:  1d\n",
      "\n",
      "[==========>---------------------------------------]  22% (79/79 wrk) eta:  1d\n",
      "\n",
      "[===========>--------------------------------------]  23% (78/78 wrk) eta:  1d\n",
      "\n",
      "[===========>--------------------------------------]  24% (77/77 wrk) eta: 18h\n",
      "\n",
      "[===========>--------------------------------------]  25% (76/76 wrk) eta: 17h\n",
      "\n",
      "[============>-------------------------------------]  26% (75/75 wrk) eta: 16h\n",
      "\n",
      "[=============>------------------------------------]  27% (74/74 wrk) eta: 15h\n",
      "\n",
      "[=============>------------------------------------]  28% (73/73 wrk) eta: 15h\n",
      "\n",
      "[=============>------------------------------------]  29% (72/72 wrk) eta: 14h\n",
      "\n",
      "[==============>-----------------------------------]  30% (71/71 wrk) eta: 13h\n",
      "\n",
      "[===============>----------------------------------]  31% (70/70 wrk) eta: 13h\n",
      "\n",
      "[===============>----------------------------------]  32% (69/69 wrk) eta: 12h\n",
      "\n",
      "[===============>----------------------------------]  33% (68/68 wrk) eta: 12h\n",
      "\n",
      "[================>---------------------------------]  34% (67/67 wrk) eta: 11h\n",
      "\n",
      "[=================>--------------------------------]  35% (66/66 wrk) eta: 11h\n",
      "\n",
      "[=================>--------------------------------]  36% (65/65 wrk) eta: 10h\n",
      "\n",
      "[=================>--------------------------------]  37% (64/64 wrk) eta: 10h\n",
      "\n",
      "[==================>-------------------------------]  38% (63/63 wrk) eta: 10h\n",
      "\n",
      "[===================>------------------------------]  39% (62/62 wrk) eta:  9h\n",
      "\n",
      "[===================>------------------------------]  40% (61/61 wrk) eta:  9h\n",
      "\n",
      "[===================>------------------------------]  41% (60/60 wrk) eta:  9h\n",
      "\n",
      "[====================>-----------------------------]  42% (59/59 wrk) eta:  8h\n",
      "\n",
      "[=====================>----------------------------]  43% (58/58 wrk) eta:  8h\n",
      "\n",
      "[=====================>----------------------------]  44% (57/57 wrk) eta:  8h\n",
      "\n",
      "[=====================>----------------------------]  45% (56/56 wrk) eta:  8h\n",
      "\n",
      "[======================>---------------------------]  46% (55/55 wrk) eta:  7h\n",
      "\n",
      "[=======================>--------------------------]  47% (54/54 wrk) eta:  7h\n",
      "\n",
      "[=======================>--------------------------]  48% (53/53 wrk) eta:  7h\n",
      "\n",
      "[=======================>--------------------------]  49% (52/52 wrk) eta:  7h\n",
      "\n",
      "[========================>-------------------------]  50% (51/51 wrk) eta:  6h\n",
      "\n",
      "[=========================>------------------------]  51% (50/50 wrk) eta:  6h\n",
      "\n",
      "[=========================>------------------------]  52% (49/49 wrk) eta:  6h\n",
      "\n",
      "[=========================>------------------------]  53% (48/48 wrk) eta:  6h\n",
      "\n",
      "[==========================>-----------------------]  54% (47/47 wrk) eta:  5h\n",
      "\n",
      "[===========================>----------------------]  55% (46/46 wrk) eta:  5h\n",
      "\n",
      "[===========================>----------------------]  56% (45/45 wrk) eta:  5h\n",
      "\n",
      "[===========================>----------------------]  57% (44/44 wrk) eta:  5h\n",
      "\n",
      "[============================>---------------------]  58% (43/43 wrk) eta:  5h\n",
      "\n",
      "[=============================>--------------------]  59% (42/42 wrk) eta:  5h\n",
      "\n",
      "[=============================>--------------------]  60% (41/41 wrk) eta:  4h\n",
      "\n",
      "[=============================>--------------------]  61% (40/40 wrk) eta:  4h\n",
      "\n",
      "[==============================>-------------------]  62% (39/39 wrk) eta:  4h\n",
      "\n",
      "[===============================>------------------]  63% (38/38 wrk) eta:  4h\n",
      "\n",
      "[===============================>------------------]  64% (37/37 wrk) eta:  4h\n",
      "\n",
      "[===============================>------------------]  65% (36/36 wrk) eta:  4h\n",
      "\n",
      "[================================>-----------------]  66% (35/35 wrk) eta:  3h\n",
      "\n",
      "[=================================>----------------]  67% (34/34 wrk) eta:  3h\n",
      "\n",
      "[=================================>----------------]  68% (33/33 wrk) eta:  3h\n",
      "\n",
      "[=================================>----------------]  69% (32/32 wrk) eta:  3h\n",
      "\n",
      "[==================================>---------------]  70% (31/31 wrk) eta:  3h\n",
      "\n",
      "[===================================>--------------]  71% (30/30 wrk) eta:  3h\n",
      "\n",
      "[===================================>--------------]  72% (29/29 wrk) eta:  3h\n",
      "\n",
      "[===================================>--------------]  73% (28/28 wrk) eta:  2h\n",
      "\n",
      "[====================================>-------------]  74% (27/27 wrk) eta:  2h\n",
      "\n",
      "[=====================================>------------]  75% (26/26 wrk) eta:  2h\n",
      "\n",
      "[=====================================>------------]  76% (25/25 wrk) eta:  2h\n",
      "\n",
      "[=====================================>------------]  77% (24/24 wrk) eta:  2h\n",
      "\n",
      "[======================================>-----------]  78% (23/23 wrk) eta:  2h\n",
      "\n",
      "[=======================================>----------]  79% (22/22 wrk) eta:  2h\n",
      "\n",
      "[=======================================>----------]  80% (21/21 wrk) eta:  2h\n",
      "\n",
      "[=======================================>----------]  81% (20/20 wrk) eta:  2h\n",
      "\n",
      "[========================================>---------]  82% (19/19 wrk) eta:  2h\n",
      "\n",
      "[=========================================>--------]  83% (18/18 wrk) eta:  1h\n",
      "\n",
      "[=========================================>--------]  84% (17/17 wrk) eta:  1h\n",
      "\n",
      "[=========================================>--------]  85% (16/16 wrk) eta:  1h\n",
      "\n",
      "[==========================================>-------]  86% (15/15 wrk) eta:  1h\n",
      "\n",
      "[===========================================>------]  87% (14/14 wrk) eta:  1h\n",
      "\n",
      "[===========================================>------]  88% (13/13 wrk) eta:  1h\n",
      "\n",
      "[===========================================>------]  89% (12/12 wrk) eta:  1h\n",
      "\n",
      "[============================================>-----]  90% (11/11 wrk) eta: 48m\n",
      "\n",
      "[=============================================>----]  91% (10/10 wrk) eta: 43m\n",
      "\n",
      "[===============================================>----]  92% (9/9 wrk) eta: 38m\n",
      "\n",
      "[===============================================>----]  93% (8/8 wrk) eta: 33m\n",
      "\n",
      "[================================================>---]  94% (7/7 wrk) eta: 28m\n",
      "\n",
      "[================================================>---]  95% (6/6 wrk) eta: 23m\n",
      "\n",
      "[=================================================>--]  96% (5/5 wrk) eta: 19m\n",
      "\n",
      "[=================================================>--]  97% (4/4 wrk) eta: 18m\n",
      "\n",
      "[==================================================>-]  98% (3/3 wrk) eta: 12m\n",
      "\n",
      "[==================================================>-]  99% (2/2 wrk) eta:  6m\n",
      "\n",
      "[====================================================] 100% (1/1 wrk) eta:  0s\n",
      "                                                                              \n",
      "\n",
      "Master: [36997.6s 0.0% CPU]; Worker: [avg 99.4% CPU, max 314.3 Mb]\n",
      "\n"
     ]
    }
   ],
   "source": [
    "# cluster job submission\n",
    "tmpl = list(job_time = '72:00:00', job_mem = '10G', \n",
    "            conda = '/ebio/abt3_projects/Georg_animal_feces/envs/phyloseq',\n",
    "            log_file = clustermq_logfile())  \n",
    "params = list(nperm = 999, test.links = TRUE)\n",
    "PF_res_links_l = Q(parafit_each, PF_l, const=params, pkgs=c('ape'),\n",
    "             n_jobs=100, job_size=1, template=tmpl)"
   ]
  },
  {
   "cell_type": "code",
   "execution_count": 56,
   "metadata": {
    "ExecuteTime": {
     "end_time": "2020-08-27T07:01:07.216918Z",
     "start_time": "2020-08-27T07:01:07.189Z"
    }
   },
   "outputs": [],
   "source": [
    "PF_res_links_l = PF_res_l "
   ]
  },
  {
   "cell_type": "code",
   "execution_count": 57,
   "metadata": {
    "ExecuteTime": {
     "end_time": "2020-08-27T07:01:07.689357Z",
     "start_time": "2020-08-27T07:01:07.656Z"
    }
   },
   "outputs": [
    {
     "data": {
      "text/html": [
       "100"
      ],
      "text/latex": [
       "100"
      ],
      "text/markdown": [
       "100"
      ],
      "text/plain": [
       "[1] 100"
      ]
     },
     "metadata": {},
     "output_type": "display_data"
    }
   ],
   "source": [
    "# results\n",
    "PF_res_links_l %>% length"
   ]
  },
  {
   "cell_type": "markdown",
   "metadata": {},
   "source": [
    "## Saving results"
   ]
  },
  {
   "cell_type": "code",
   "execution_count": 13,
   "metadata": {
    "ExecuteTime": {
     "end_time": "2020-08-27T07:14:40.486290Z",
     "start_time": "2020-08-27T07:14:40.446Z"
    }
   },
   "outputs": [
    {
     "data": {
      "text/html": [
       "'/ebio/abt3_projects/Georg_animal_feces/data/16S_arch/MiSeq-Runs-116-122-126-189-190/LLA/cophylo//physeq_IndD-sens_parafit-links.RDS'"
      ],
      "text/latex": [
       "'/ebio/abt3\\_projects/Georg\\_animal\\_feces/data/16S\\_arch/MiSeq-Runs-116-122-126-189-190/LLA/cophylo//physeq\\_IndD-sens\\_parafit-links.RDS'"
      ],
      "text/markdown": [
       "'/ebio/abt3_projects/Georg_animal_feces/data/16S_arch/MiSeq-Runs-116-122-126-189-190/LLA/cophylo//physeq_IndD-sens_parafit-links.RDS'"
      ],
      "text/plain": [
       "[1] \"/ebio/abt3_projects/Georg_animal_feces/data/16S_arch/MiSeq-Runs-116-122-126-189-190/LLA/cophylo//physeq_IndD-sens_parafit-links.RDS\""
      ]
     },
     "metadata": {},
     "output_type": "display_data"
    }
   ],
   "source": [
    "# for loading results instead of re-running\n",
    "PF_file = file.path(work_dir, 'physeq_IndD-sens_parafit-links.RDS')\n",
    "PF_file"
   ]
  },
  {
   "cell_type": "code",
   "execution_count": 59,
   "metadata": {
    "ExecuteTime": {
     "end_time": "2020-08-27T07:01:11.563186Z",
     "start_time": "2020-08-27T07:01:10.860Z"
    }
   },
   "outputs": [
    {
     "name": "stdout",
     "output_type": "stream",
     "text": [
      "File written: /ebio/abt3_projects/Georg_animal_feces/data/16S_arch/MiSeq-Runs-116-122-126-189-190/LLA/cophylo//physeq_IndD-sens_parafit-links.RDS \n"
     ]
    }
   ],
   "source": [
    "# saving\n",
    "saveRDS(PF_res_links_l, file=PF_file)\n",
    "cat('File written:', PF_file, '\\n')"
   ]
  },
  {
   "cell_type": "code",
   "execution_count": 14,
   "metadata": {
    "ExecuteTime": {
     "end_time": "2020-08-27T07:14:42.148382Z",
     "start_time": "2020-08-27T07:14:41.998Z"
    }
   },
   "outputs": [
    {
     "data": {
      "text/html": [
       "100"
      ],
      "text/latex": [
       "100"
      ],
      "text/markdown": [
       "100"
      ],
      "text/plain": [
       "[1] 100"
      ]
     },
     "metadata": {},
     "output_type": "display_data"
    }
   ],
   "source": [
    "# re-loading\n",
    "PF_res_links_l = readRDS(PF_file)\n",
    "PF_res_links_l %>% length"
   ]
  },
  {
   "cell_type": "code",
   "execution_count": null,
   "metadata": {
    "ExecuteTime": {
     "end_time": "2020-08-27T06:59:54.390550Z",
     "start_time": "2020-08-26T14:05:33.557Z"
    }
   },
   "outputs": [],
   "source": [
    "send_email('http://127.0.0.1:9805/notebooks/notebooks/16S_arch/MiSeq-Runs116-122-126-189-190/04_cophylo/03_parafit_rarefy.ipynb')"
   ]
  },
  {
   "cell_type": "markdown",
   "metadata": {},
   "source": [
    "## Summarizing"
   ]
  },
  {
   "cell_type": "code",
   "execution_count": 15,
   "metadata": {
    "ExecuteTime": {
     "end_time": "2020-08-27T07:14:44.148467Z",
     "start_time": "2020-08-27T07:14:44.110Z"
    }
   },
   "outputs": [
    {
     "data": {
      "text/plain": [
       "   Min. 1st Qu.  Median    Mean 3rd Qu.    Max. \n",
       "  226.1   473.3   625.0   645.1   759.0  1614.2 "
      ]
     },
     "metadata": {},
     "output_type": "display_data"
    }
   ],
   "source": [
    "# distribution of effect size\n",
    "lapply(PF_res_links_l, function(x) x$ParaFitGlobal) %>% unlist %>% summary"
   ]
  },
  {
   "cell_type": "code",
   "execution_count": 16,
   "metadata": {
    "ExecuteTime": {
     "end_time": "2020-08-27T07:14:44.378741Z",
     "start_time": "2020-08-27T07:14:44.342Z"
    }
   },
   "outputs": [
    {
     "data": {
      "text/plain": [
       "   Min. 1st Qu.  Median    Mean 3rd Qu.    Max. \n",
       "0.00100 0.00100 0.00100 0.00106 0.00100 0.00500 "
      ]
     },
     "metadata": {},
     "output_type": "display_data"
    }
   ],
   "source": [
    "# distribution of p-values\n",
    "lapply(PF_res_links_l, function(x) x$p.global) %>% unlist %>% summary"
   ]
  },
  {
   "cell_type": "markdown",
   "metadata": {},
   "source": [
    "## Links per host"
   ]
  },
  {
   "cell_type": "code",
   "execution_count": 24,
   "metadata": {
    "ExecuteTime": {
     "end_time": "2020-08-27T07:15:23.914977Z",
     "start_time": "2020-08-27T07:15:23.845Z"
    }
   },
   "outputs": [
    {
     "data": {
      "text/html": [
       "<table>\n",
       "<caption>A data.frame: 11000 × 3</caption>\n",
       "<thead>\n",
       "\t<tr><th scope=col>Dataset_rep</th><th scope=col>Sample</th><th scope=col>N_links</th></tr>\n",
       "\t<tr><th scope=col>&lt;int&gt;</th><th scope=col>&lt;chr&gt;</th><th scope=col>&lt;dbl&gt;</th></tr>\n",
       "</thead>\n",
       "<tbody>\n",
       "\t<tr><td>1</td><td>F14_Common_Bream</td><td>9</td></tr>\n",
       "\t<tr><td>2</td><td>F14_Common_Bream</td><td>9</td></tr>\n",
       "\t<tr><td>⋮</td><td>⋮</td><td>⋮</td></tr>\n",
       "\t<tr><td> 99</td><td>X67_European_Roe</td><td>3</td></tr>\n",
       "\t<tr><td>100</td><td>X67_European_Roe</td><td>3</td></tr>\n",
       "</tbody>\n",
       "</table>\n"
      ],
      "text/latex": [
       "A data.frame: 11000 × 3\n",
       "\\begin{tabular}{lll}\n",
       " Dataset\\_rep & Sample & N\\_links\\\\\n",
       " <int> & <chr> & <dbl>\\\\\n",
       "\\hline\n",
       "\t 1 & F14\\_Common\\_Bream & 9\\\\\n",
       "\t 2 & F14\\_Common\\_Bream & 9\\\\\n",
       "\t ⋮ & ⋮ & ⋮\\\\\n",
       "\t  99 & X67\\_European\\_Roe & 3\\\\\n",
       "\t 100 & X67\\_European\\_Roe & 3\\\\\n",
       "\\end{tabular}\n"
      ],
      "text/markdown": [
       "\n",
       "A data.frame: 11000 × 3\n",
       "\n",
       "| Dataset_rep &lt;int&gt; | Sample &lt;chr&gt; | N_links &lt;dbl&gt; |\n",
       "|---|---|---|\n",
       "| 1 | F14_Common_Bream | 9 |\n",
       "| 2 | F14_Common_Bream | 9 |\n",
       "| ⋮ | ⋮ | ⋮ |\n",
       "|  99 | X67_European_Roe | 3 |\n",
       "| 100 | X67_European_Roe | 3 |\n",
       "\n"
      ],
      "text/plain": [
       "      Dataset_rep Sample           N_links\n",
       "1     1           F14_Common_Bream 9      \n",
       "2     2           F14_Common_Bream 9      \n",
       "⋮     ⋮           ⋮                ⋮      \n",
       "10999  99         X67_European_Roe 3      \n",
       "11000 100         X67_European_Roe 3      "
      ]
     },
     "metadata": {},
     "output_type": "display_data"
    }
   ],
   "source": [
    "# format\n",
    "para_per_host = lapply(PF_res_links_l, function(x) x$para.per.host) %>%\n",
    "    do.call(rbind, .) %>%\n",
    "    as.data.frame %>%\n",
    "    mutate(Dataset_rep = 1:nrow(.)) %>%\n",
    "    gather(Sample, N_links, -Dataset_rep) \n",
    "               \n",
    "para_per_host"
   ]
  },
  {
   "cell_type": "code",
   "execution_count": 25,
   "metadata": {
    "ExecuteTime": {
     "end_time": "2020-08-27T07:15:24.116073Z",
     "start_time": "2020-08-27T07:15:24.009Z"
    }
   },
   "outputs": [
    {
     "name": "stderr",
     "output_type": "stream",
     "text": [
      "Warning message:\n",
      "“Column `SampleID`/`Sample` joining factor and character vector, coercing into character vector”\n"
     ]
    },
    {
     "data": {
      "text/html": [
       "<table>\n",
       "<caption>A data.frame: 11000 × 9</caption>\n",
       "<thead>\n",
       "\t<tr><th scope=col>SampleID</th><th scope=col>class</th><th scope=col>order</th><th scope=col>family</th><th scope=col>genus</th><th scope=col>scientific_name</th><th scope=col>diet</th><th scope=col>Dataset_rep</th><th scope=col>N_links</th></tr>\n",
       "\t<tr><th scope=col>&lt;chr&gt;</th><th scope=col>&lt;fct&gt;</th><th scope=col>&lt;fct&gt;</th><th scope=col>&lt;fct&gt;</th><th scope=col>&lt;fct&gt;</th><th scope=col>&lt;fct&gt;</th><th scope=col>&lt;fct&gt;</th><th scope=col>&lt;int&gt;</th><th scope=col>&lt;dbl&gt;</th></tr>\n",
       "</thead>\n",
       "<tbody>\n",
       "\t<tr><td>F14_Common_Bream</td><td>Actinopterygii</td><td>Cypriniformes</td><td>Cyprinidae</td><td>Abramis</td><td>Abramis_brama</td><td>omnivore</td><td>1</td><td>9</td></tr>\n",
       "\t<tr><td>F14_Common_Bream</td><td>Actinopterygii</td><td>Cypriniformes</td><td>Cyprinidae</td><td>Abramis</td><td>Abramis_brama</td><td>omnivore</td><td>2</td><td>9</td></tr>\n",
       "\t<tr><td>⋮</td><td>⋮</td><td>⋮</td><td>⋮</td><td>⋮</td><td>⋮</td><td>⋮</td><td>⋮</td><td>⋮</td></tr>\n",
       "\t<tr><td>X67_European_Roe</td><td>Mammalia</td><td>Artiodactyla</td><td>Cervidae</td><td>Capreolus</td><td>Capreolus_capreolus</td><td>herbivore</td><td> 99</td><td>3</td></tr>\n",
       "\t<tr><td>X67_European_Roe</td><td>Mammalia</td><td>Artiodactyla</td><td>Cervidae</td><td>Capreolus</td><td>Capreolus_capreolus</td><td>herbivore</td><td>100</td><td>3</td></tr>\n",
       "</tbody>\n",
       "</table>\n"
      ],
      "text/latex": [
       "A data.frame: 11000 × 9\n",
       "\\begin{tabular}{lllllllll}\n",
       " SampleID & class & order & family & genus & scientific\\_name & diet & Dataset\\_rep & N\\_links\\\\\n",
       " <chr> & <fct> & <fct> & <fct> & <fct> & <fct> & <fct> & <int> & <dbl>\\\\\n",
       "\\hline\n",
       "\t F14\\_Common\\_Bream & Actinopterygii & Cypriniformes & Cyprinidae & Abramis & Abramis\\_brama & omnivore & 1 & 9\\\\\n",
       "\t F14\\_Common\\_Bream & Actinopterygii & Cypriniformes & Cyprinidae & Abramis & Abramis\\_brama & omnivore & 2 & 9\\\\\n",
       "\t ⋮ & ⋮ & ⋮ & ⋮ & ⋮ & ⋮ & ⋮ & ⋮ & ⋮\\\\\n",
       "\t X67\\_European\\_Roe & Mammalia & Artiodactyla & Cervidae & Capreolus & Capreolus\\_capreolus & herbivore &  99 & 3\\\\\n",
       "\t X67\\_European\\_Roe & Mammalia & Artiodactyla & Cervidae & Capreolus & Capreolus\\_capreolus & herbivore & 100 & 3\\\\\n",
       "\\end{tabular}\n"
      ],
      "text/markdown": [
       "\n",
       "A data.frame: 11000 × 9\n",
       "\n",
       "| SampleID &lt;chr&gt; | class &lt;fct&gt; | order &lt;fct&gt; | family &lt;fct&gt; | genus &lt;fct&gt; | scientific_name &lt;fct&gt; | diet &lt;fct&gt; | Dataset_rep &lt;int&gt; | N_links &lt;dbl&gt; |\n",
       "|---|---|---|---|---|---|---|---|---|\n",
       "| F14_Common_Bream | Actinopterygii | Cypriniformes | Cyprinidae | Abramis | Abramis_brama | omnivore | 1 | 9 |\n",
       "| F14_Common_Bream | Actinopterygii | Cypriniformes | Cyprinidae | Abramis | Abramis_brama | omnivore | 2 | 9 |\n",
       "| ⋮ | ⋮ | ⋮ | ⋮ | ⋮ | ⋮ | ⋮ | ⋮ | ⋮ |\n",
       "| X67_European_Roe | Mammalia | Artiodactyla | Cervidae | Capreolus | Capreolus_capreolus | herbivore |  99 | 3 |\n",
       "| X67_European_Roe | Mammalia | Artiodactyla | Cervidae | Capreolus | Capreolus_capreolus | herbivore | 100 | 3 |\n",
       "\n"
      ],
      "text/plain": [
       "      SampleID         class          order         family     genus    \n",
       "1     F14_Common_Bream Actinopterygii Cypriniformes Cyprinidae Abramis  \n",
       "2     F14_Common_Bream Actinopterygii Cypriniformes Cyprinidae Abramis  \n",
       "⋮     ⋮                ⋮              ⋮             ⋮          ⋮        \n",
       "10999 X67_European_Roe Mammalia       Artiodactyla  Cervidae   Capreolus\n",
       "11000 X67_European_Roe Mammalia       Artiodactyla  Cervidae   Capreolus\n",
       "      scientific_name     diet      Dataset_rep N_links\n",
       "1     Abramis_brama       omnivore  1           9      \n",
       "2     Abramis_brama       omnivore  2           9      \n",
       "⋮     ⋮                   ⋮         ⋮           ⋮      \n",
       "10999 Capreolus_capreolus herbivore  99         3      \n",
       "11000 Capreolus_capreolus herbivore 100         3      "
      ]
     },
     "metadata": {},
     "output_type": "display_data"
    }
   ],
   "source": [
    "# adding metadata\n",
    "para_per_host = physeq_arch_IndD %>%\n",
    "    sample_data %>%\n",
    "    as.matrix %>%\n",
    "    as.data.frame %>%\n",
    "    dplyr::select(SampleID, class, order, family, genus, scientific_name, diet) %>%\n",
    "    inner_join(para_per_host, c('SampleID'='Sample')) \n",
    "\n",
    "para_per_host "
   ]
  },
  {
   "cell_type": "code",
   "execution_count": 26,
   "metadata": {
    "ExecuteTime": {
     "end_time": "2020-08-27T07:15:24.149274Z",
     "start_time": "2020-08-27T07:15:24.100Z"
    }
   },
   "outputs": [
    {
     "name": "stdout",
     "output_type": "stream",
     "text": [
      "   Min. 1st Qu.  Median    Mean 3rd Qu.    Max. \n",
      "    100     100     100     100     100     100 \n"
     ]
    }
   ],
   "source": [
    "# summarizing by species: check\n",
    "para_per_host %>%\n",
    "    group_by(scientific_name) %>%\n",
    "    summarize(n=n()) %>%\n",
    "    ungroup() %>%\n",
    "    .$n %>% summary %>% print"
   ]
  },
  {
   "cell_type": "code",
   "execution_count": 27,
   "metadata": {
    "ExecuteTime": {
     "end_time": "2020-08-27T07:15:24.443447Z",
     "start_time": "2020-08-27T07:15:24.240Z"
    }
   },
   "outputs": [
    {
     "name": "stdout",
     "output_type": "stream",
     "text": [
      "   Min. 1st Qu.  Median    Mean 3rd Qu.    Max. \n",
      "  1.000   2.000   4.000   4.679   6.987  15.000 \n"
     ]
    },
    {
     "data": {
      "text/html": [
       "<table>\n",
       "<caption>A tibble: 110 × 15</caption>\n",
       "<thead>\n",
       "\t<tr><th scope=col>scientific_name</th><th scope=col>class</th><th scope=col>order</th><th scope=col>family</th><th scope=col>genus</th><th scope=col>diet</th><th scope=col>min_n_links</th><th scope=col>q1_n_links</th><th scope=col>mean_n_links</th><th scope=col>median_n_links</th><th scope=col>q3_n_links</th><th scope=col>max_n_links</th><th scope=col>sd_n_links</th><th scope=col>CI_low</th><th scope=col>CI_high</th></tr>\n",
       "\t<tr><th scope=col>&lt;fct&gt;</th><th scope=col>&lt;fct&gt;</th><th scope=col>&lt;fct&gt;</th><th scope=col>&lt;fct&gt;</th><th scope=col>&lt;fct&gt;</th><th scope=col>&lt;fct&gt;</th><th scope=col>&lt;dbl&gt;</th><th scope=col>&lt;dbl&gt;</th><th scope=col>&lt;dbl&gt;</th><th scope=col>&lt;dbl&gt;</th><th scope=col>&lt;dbl&gt;</th><th scope=col>&lt;dbl&gt;</th><th scope=col>&lt;dbl&gt;</th><th scope=col>&lt;dbl&gt;</th><th scope=col>&lt;dbl&gt;</th></tr>\n",
       "</thead>\n",
       "<tbody>\n",
       "\t<tr><td>Abramis_brama     </td><td>Actinopterygii</td><td>Cypriniformes</td><td>Cyprinidae</td><td>Abramis  </td><td>omnivore </td><td>9</td><td> 9</td><td> 9.00</td><td> 9.0</td><td> 9</td><td> 9</td><td>0.000000</td><td>9</td><td> 9</td></tr>\n",
       "\t<tr><td>Aepyceros_melampus</td><td>Mammalia      </td><td>Artiodactyla </td><td>Bovidae   </td><td>Aepyceros</td><td>herbivore</td><td>3</td><td>10</td><td>12.84</td><td>10.5</td><td>13</td><td>28</td><td>6.167232</td><td>6</td><td>28</td></tr>\n",
       "\t<tr><td>⋮</td><td>⋮</td><td>⋮</td><td>⋮</td><td>⋮</td><td>⋮</td><td>⋮</td><td>⋮</td><td>⋮</td><td>⋮</td><td>⋮</td><td>⋮</td><td>⋮</td><td>⋮</td><td>⋮</td></tr>\n",
       "\t<tr><td>Vulpes_vulpes      </td><td>Mammalia</td><td>Carnivora</td><td>Canidae   </td><td>Vulpes </td><td>omnivore </td><td>9</td><td>9</td><td>12.24</td><td>10</td><td>19</td><td>20</td><td>4.564067</td><td>9</td><td>20</td></tr>\n",
       "\t<tr><td>Zamenis_longissimus</td><td>Reptilia</td><td>Squamata </td><td>Colubridae</td><td>Zamenis</td><td>carnivore</td><td>2</td><td>6</td><td>12.80</td><td>12</td><td>16</td><td>24</td><td>7.305733</td><td>2</td><td>24</td></tr>\n",
       "</tbody>\n",
       "</table>\n"
      ],
      "text/latex": [
       "A tibble: 110 × 15\n",
       "\\begin{tabular}{lllllllllllllll}\n",
       " scientific\\_name & class & order & family & genus & diet & min\\_n\\_links & q1\\_n\\_links & mean\\_n\\_links & median\\_n\\_links & q3\\_n\\_links & max\\_n\\_links & sd\\_n\\_links & CI\\_low & CI\\_high\\\\\n",
       " <fct> & <fct> & <fct> & <fct> & <fct> & <fct> & <dbl> & <dbl> & <dbl> & <dbl> & <dbl> & <dbl> & <dbl> & <dbl> & <dbl>\\\\\n",
       "\\hline\n",
       "\t Abramis\\_brama      & Actinopterygii & Cypriniformes & Cyprinidae & Abramis   & omnivore  & 9 &  9 &  9.00 &  9.0 &  9 &  9 & 0.000000 & 9 &  9\\\\\n",
       "\t Aepyceros\\_melampus & Mammalia       & Artiodactyla  & Bovidae    & Aepyceros & herbivore & 3 & 10 & 12.84 & 10.5 & 13 & 28 & 6.167232 & 6 & 28\\\\\n",
       "\t ⋮ & ⋮ & ⋮ & ⋮ & ⋮ & ⋮ & ⋮ & ⋮ & ⋮ & ⋮ & ⋮ & ⋮ & ⋮ & ⋮ & ⋮\\\\\n",
       "\t Vulpes\\_vulpes       & Mammalia & Carnivora & Canidae    & Vulpes  & omnivore  & 9 & 9 & 12.24 & 10 & 19 & 20 & 4.564067 & 9 & 20\\\\\n",
       "\t Zamenis\\_longissimus & Reptilia & Squamata  & Colubridae & Zamenis & carnivore & 2 & 6 & 12.80 & 12 & 16 & 24 & 7.305733 & 2 & 24\\\\\n",
       "\\end{tabular}\n"
      ],
      "text/markdown": [
       "\n",
       "A tibble: 110 × 15\n",
       "\n",
       "| scientific_name &lt;fct&gt; | class &lt;fct&gt; | order &lt;fct&gt; | family &lt;fct&gt; | genus &lt;fct&gt; | diet &lt;fct&gt; | min_n_links &lt;dbl&gt; | q1_n_links &lt;dbl&gt; | mean_n_links &lt;dbl&gt; | median_n_links &lt;dbl&gt; | q3_n_links &lt;dbl&gt; | max_n_links &lt;dbl&gt; | sd_n_links &lt;dbl&gt; | CI_low &lt;dbl&gt; | CI_high &lt;dbl&gt; |\n",
       "|---|---|---|---|---|---|---|---|---|---|---|---|---|---|---|\n",
       "| Abramis_brama      | Actinopterygii | Cypriniformes | Cyprinidae | Abramis   | omnivore  | 9 |  9 |  9.00 |  9.0 |  9 |  9 | 0.000000 | 9 |  9 |\n",
       "| Aepyceros_melampus | Mammalia       | Artiodactyla  | Bovidae    | Aepyceros | herbivore | 3 | 10 | 12.84 | 10.5 | 13 | 28 | 6.167232 | 6 | 28 |\n",
       "| ⋮ | ⋮ | ⋮ | ⋮ | ⋮ | ⋮ | ⋮ | ⋮ | ⋮ | ⋮ | ⋮ | ⋮ | ⋮ | ⋮ | ⋮ |\n",
       "| Vulpes_vulpes       | Mammalia | Carnivora | Canidae    | Vulpes  | omnivore  | 9 | 9 | 12.24 | 10 | 19 | 20 | 4.564067 | 9 | 20 |\n",
       "| Zamenis_longissimus | Reptilia | Squamata  | Colubridae | Zamenis | carnivore | 2 | 6 | 12.80 | 12 | 16 | 24 | 7.305733 | 2 | 24 |\n",
       "\n"
      ],
      "text/plain": [
       "    scientific_name     class          order         family     genus    \n",
       "1   Abramis_brama       Actinopterygii Cypriniformes Cyprinidae Abramis  \n",
       "2   Aepyceros_melampus  Mammalia       Artiodactyla  Bovidae    Aepyceros\n",
       "⋮   ⋮                   ⋮              ⋮             ⋮          ⋮        \n",
       "109 Vulpes_vulpes       Mammalia       Carnivora     Canidae    Vulpes   \n",
       "110 Zamenis_longissimus Reptilia       Squamata      Colubridae Zamenis  \n",
       "    diet      min_n_links q1_n_links mean_n_links median_n_links q3_n_links\n",
       "1   omnivore  9            9          9.00         9.0            9        \n",
       "2   herbivore 3           10         12.84        10.5           13        \n",
       "⋮   ⋮         ⋮           ⋮          ⋮            ⋮              ⋮         \n",
       "109 omnivore  9           9          12.24        10             19        \n",
       "110 carnivore 2           6          12.80        12             16        \n",
       "    max_n_links sd_n_links CI_low CI_high\n",
       "1    9          0.000000   9       9     \n",
       "2   28          6.167232   6      28     \n",
       "⋮   ⋮           ⋮          ⋮      ⋮      \n",
       "109 20          4.564067   9      20     \n",
       "110 24          7.305733   2      24     "
      ]
     },
     "metadata": {},
     "output_type": "display_data"
    }
   ],
   "source": [
    "# summarizing by species\n",
    "alpha=0.95\n",
    "\n",
    "para_per_host = para_per_host %>%\n",
    "    group_by(scientific_name, class, order, family, genus, diet) %>%\n",
    "    summarize(min_n_links = min(N_links),\n",
    "              q1_n_links = quantile(N_links, 0.25),\n",
    "              mean_n_links = mean(N_links),\n",
    "              median_n_links = median(N_links),\n",
    "              q3_n_links = quantile(N_links, 0.75),\n",
    "              max_n_links = max(N_links),\n",
    "              sd_n_links = sd(N_links),\n",
    "              CI_low = quantile(N_links, (1-alpha)/2),\n",
    "              CI_high = quantile(N_links, alpha+((1-alpha)/2))) %>%\n",
    "    ungroup() %>%\n",
    "    mutate(scientific_name = scientific_name %>% reorder(-median_n_links))\n",
    "\n",
    "para_per_host$CI_low %>% summary %>% print\n",
    "para_per_host "
   ]
  },
  {
   "cell_type": "code",
   "execution_count": 28,
   "metadata": {
    "ExecuteTime": {
     "end_time": "2020-08-27T07:15:25.881265Z",
     "start_time": "2020-08-27T07:15:24.883Z"
    }
   },
   "outputs": [
    {
     "data": {
      "image/png": "[encoded data removed]",
      "text/plain": [
       "plot without title"
      ]
     },
     "metadata": {
      "image/png": {
       "height": 400,
       "width": 1000
      },
      "text/plain": {
       "height": 400,
       "width": 1000
      }
     },
     "output_type": "display_data"
    }
   ],
   "source": [
    "# plotting distribution\n",
    "p = ggplot(para_per_host, aes(scientific_name, median_n_links, color=class)) +\n",
    "    geom_linerange(aes(ymin=median_n_links-sd_n_links,\n",
    "                       ymax=median_n_links+sd_n_links)) +\n",
    "    geom_point() +\n",
    "    theme_bw() +\n",
    "    theme(\n",
    "        axis.text.x = element_blank()\n",
    "    )\n",
    "\n",
    "p.dims(10,4)\n",
    "plot(p)"
   ]
  },
  {
   "cell_type": "code",
   "execution_count": 29,
   "metadata": {
    "ExecuteTime": {
     "end_time": "2020-08-27T07:15:26.565156Z",
     "start_time": "2020-08-27T07:15:25.597Z"
    }
   },
   "outputs": [
    {
     "data": {
      "image/png": "[encoded data removed]",
      "text/plain": [
       "plot without title"
      ]
     },
     "metadata": {
      "image/png": {
       "height": 350,
       "width": 400
      },
      "text/plain": {
       "height": 350,
       "width": 400
      }
     },
     "output_type": "display_data"
    }
   ],
   "source": [
    "# plotting distribution\n",
    "p = para_per_host %>%\n",
    "    ggplot(aes(class, mean_n_links)) +\n",
    "    geom_boxplot() +\n",
    "    scale_y_log10() +\n",
    "    labs(x='Host class', y='No. of host-symbiont links') +\n",
    "    theme_bw() +\n",
    "    theme(\n",
    "        axis.text.x = element_text(angle=45, hjust=1)\n",
    "    )\n",
    "\n",
    "p.dims(4,3.5)\n",
    "plot(p)"
   ]
  },
  {
   "cell_type": "code",
   "execution_count": 34,
   "metadata": {
    "ExecuteTime": {
     "end_time": "2020-08-27T07:18:21.107150Z",
     "start_time": "2020-08-27T07:18:20.325Z"
    }
   },
   "outputs": [
    {
     "data": {
      "image/png": "[encoded data removed]",
      "text/plain": [
       "plot without title"
      ]
     },
     "metadata": {
      "image/png": {
       "height": 350,
       "width": 500
      },
      "text/plain": {
       "height": 350,
       "width": 500
      }
     },
     "output_type": "display_data"
    }
   ],
   "source": [
    "# plotting distribution\n",
    "p = para_per_host %>%\n",
    "    ggplot(aes(class, mean_n_links, color=diet)) +\n",
    "    geom_boxplot() +\n",
    "    scale_color_discrete('Diet') +\n",
    "    labs(x='Class', y='No. of host-symbiont links') +\n",
    "    theme_bw() +\n",
    "    theme(\n",
    "        axis.text.x = element_text(angle=45, hjust=1)\n",
    "    )\n",
    "\n",
    "p.dims(5,3.5)\n",
    "plot(p)"
   ]
  },
  {
   "cell_type": "code",
   "execution_count": 32,
   "metadata": {
    "ExecuteTime": {
     "end_time": "2020-08-27T07:17:28.081855Z",
     "start_time": "2020-08-27T07:17:27.976Z"
    }
   },
   "outputs": [
    {
     "data": {
      "text/html": [
       "<table>\n",
       "<caption>A anova: 3 × 4</caption>\n",
       "<thead>\n",
       "\t<tr><th></th><th scope=col>Sum Sq</th><th scope=col>Df</th><th scope=col>F value</th><th scope=col>Pr(&gt;F)</th></tr>\n",
       "\t<tr><th></th><th scope=col>&lt;dbl&gt;</th><th scope=col>&lt;dbl&gt;</th><th scope=col>&lt;dbl&gt;</th><th scope=col>&lt;dbl&gt;</th></tr>\n",
       "</thead>\n",
       "<tbody>\n",
       "\t<tr><th scope=row>class</th><td>  60.5342763</td><td>  4</td><td>0.765170450</td><td>0.5502969</td></tr>\n",
       "\t<tr><th scope=row>diet</th><td>   0.3157129</td><td>  2</td><td>0.007981401</td><td>0.9920510</td></tr>\n",
       "\t<tr><th scope=row>Residuals</th><td>2037.1377558</td><td>103</td><td>         NA</td><td>       NA</td></tr>\n",
       "</tbody>\n",
       "</table>\n"
      ],
      "text/latex": [
       "A anova: 3 × 4\n",
       "\\begin{tabular}{r|llll}\n",
       "  & Sum Sq & Df & F value & Pr(>F)\\\\\n",
       "  & <dbl> & <dbl> & <dbl> & <dbl>\\\\\n",
       "\\hline\n",
       "\tclass &   60.5342763 &   4 & 0.765170450 & 0.5502969\\\\\n",
       "\tdiet &    0.3157129 &   2 & 0.007981401 & 0.9920510\\\\\n",
       "\tResiduals & 2037.1377558 & 103 &          NA &        NA\\\\\n",
       "\\end{tabular}\n"
      ],
      "text/markdown": [
       "\n",
       "A anova: 3 × 4\n",
       "\n",
       "| <!--/--> | Sum Sq &lt;dbl&gt; | Df &lt;dbl&gt; | F value &lt;dbl&gt; | Pr(&gt;F) &lt;dbl&gt; |\n",
       "|---|---|---|---|---|\n",
       "| class |   60.5342763 |   4 | 0.765170450 | 0.5502969 |\n",
       "| diet |    0.3157129 |   2 | 0.007981401 | 0.9920510 |\n",
       "| Residuals | 2037.1377558 | 103 |          NA |        NA |\n",
       "\n"
      ],
      "text/plain": [
       "          Sum Sq       Df  F value     Pr(>F)   \n",
       "class       60.5342763   4 0.765170450 0.5502969\n",
       "diet         0.3157129   2 0.007981401 0.9920510\n",
       "Residuals 2037.1377558 103          NA        NA"
      ]
     },
     "metadata": {},
     "output_type": "display_data"
    }
   ],
   "source": [
    "# anova\n",
    "aov_res = car::Anova(lm(mean_n_links ~ class + diet, data=para_per_host), type=2)\n",
    "aov_res "
   ]
  },
  {
   "cell_type": "markdown",
   "metadata": {},
   "source": [
    "# sessionInfo"
   ]
  },
  {
   "cell_type": "code",
   "execution_count": 80,
   "metadata": {
    "ExecuteTime": {
     "end_time": "2020-08-27T07:03:18.595606Z",
     "start_time": "2020-08-27T07:03:18.351Z"
    }
   },
   "outputs": [
    {
     "data": {
      "text/plain": [
       "R version 3.6.3 (2020-02-29)\n",
       "Platform: x86_64-conda_cos6-linux-gnu (64-bit)\n",
       "Running under: Ubuntu 18.04.5 LTS\n",
       "\n",
       "Matrix products: default\n",
       "BLAS/LAPACK: /ebio/abt3_projects/Georg_animal_feces/envs/phyloseq/lib/libopenblasp-r0.3.9.so\n",
       "\n",
       "locale:\n",
       " [1] LC_CTYPE=en_US.UTF-8       LC_NUMERIC=C              \n",
       " [3] LC_TIME=en_US.UTF-8        LC_COLLATE=en_US.UTF-8    \n",
       " [5] LC_MONETARY=en_US.UTF-8    LC_MESSAGES=en_US.UTF-8   \n",
       " [7] LC_PAPER=en_US.UTF-8       LC_NAME=C                 \n",
       " [9] LC_ADDRESS=C               LC_TELEPHONE=C            \n",
       "[11] LC_MEASUREMENT=en_US.UTF-8 LC_IDENTIFICATION=C       \n",
       "\n",
       "attached base packages:\n",
       "[1] stats     graphics  grDevices utils     datasets  methods   base     \n",
       "\n",
       "other attached packages:\n",
       " [1] uuid_0.1-4         clustermq_0.8.95.1 LeyLabRMisc_0.1.6  ape_5.4           \n",
       " [5] phyloseq_1.30.0    tidytable_0.4.1    data.table_1.12.8  ggplot2_3.3.1     \n",
       " [9] tidyr_1.1.0        dplyr_1.0.0       \n",
       "\n",
       "loaded via a namespace (and not attached):\n",
       " [1] Biobase_2.46.0      jsonlite_1.6.1      splines_3.6.3      \n",
       " [4] foreach_1.5.0       assertthat_0.2.1    stats4_3.6.3       \n",
       " [7] progress_1.2.2      pillar_1.4.4        lattice_0.20-41    \n",
       "[10] glue_1.4.1          digest_0.6.25       XVector_0.26.0     \n",
       "[13] colorspace_1.4-1    htmltools_0.4.0     Matrix_1.2-18      \n",
       "[16] plyr_1.8.6          pkgconfig_2.0.3     zlibbioc_1.32.0    \n",
       "[19] purrr_0.3.4         scales_1.1.1        tibble_3.0.1       \n",
       "[22] mgcv_1.8-31         farver_2.0.3        generics_0.0.2     \n",
       "[25] IRanges_2.20.0      ellipsis_0.3.1      withr_2.2.0        \n",
       "[28] repr_1.1.0          BiocGenerics_0.32.0 cli_2.0.2          \n",
       "[31] survival_3.1-12     magrittr_1.5        crayon_1.3.4       \n",
       "[34] evaluate_0.14       fansi_0.4.1         doParallel_1.0.15  \n",
       "[37] nlme_3.1-148        MASS_7.3-51.6       vegan_2.5-6        \n",
       "[40] tools_3.6.3         prettyunits_1.1.1   hms_0.5.3          \n",
       "[43] lifecycle_0.2.0     stringr_1.4.0       Rhdf5lib_1.8.0     \n",
       "[46] S4Vectors_0.24.0    munsell_0.5.0       cluster_2.1.0      \n",
       "[49] Biostrings_2.54.0   ade4_1.7-15         compiler_3.6.3     \n",
       "[52] rlang_0.4.6         rhdf5_2.30.0        grid_3.6.3         \n",
       "[55] pbdZMQ_0.3-3        iterators_1.0.12    IRkernel_1.1       \n",
       "[58] biomformat_1.14.0   igraph_1.2.5        labeling_0.3       \n",
       "[61] base64enc_0.1-3     gtable_0.3.0        codetools_0.2-16   \n",
       "[64] multtest_2.42.0     reshape2_1.4.4      R6_2.4.1           \n",
       "[67] permute_0.9-5       stringi_1.4.6       parallel_3.6.3     \n",
       "[70] IRdisplay_0.7.0     Rcpp_1.0.4.6        vctrs_0.3.0        \n",
       "[73] tidyselect_1.1.0   "
      ]
     },
     "metadata": {},
     "output_type": "display_data"
    }
   ],
   "source": [
    "sessionInfo()"
   ]
  }
 ],
 "metadata": {
  "kernelspec": {
   "display_name": "R [conda env:Georg_animal_feces-phyloseq-phy]",
   "language": "R",
   "name": "conda-env-Georg_animal_feces-phyloseq-phy-r"
  },
  "language_info": {
   "codemirror_mode": "r",
   "file_extension": ".r",
   "mimetype": "text/x-r-source",
   "name": "R",
   "pygments_lexer": "r",
   "version": "3.6.2"
  },
  "notify_time": "30",
  "toc": {
   "base_numbering": 1,
   "nav_menu": {},
   "number_sections": true,
   "sideBar": true,
   "skip_h1_title": false,
   "title_cell": "Table of Contents",
   "title_sidebar": "Contents",
   "toc_cell": true,
   "toc_position": {},
   "toc_section_display": true,
   "toc_window_display": true
  }
 },
 "nbformat": 4,
 "nbformat_minor": 4
}
