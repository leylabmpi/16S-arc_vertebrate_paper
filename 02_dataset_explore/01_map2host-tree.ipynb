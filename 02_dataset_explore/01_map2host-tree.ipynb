{
 "cells": [
  {
   "cell_type": "markdown",
   "metadata": {
    "toc": true
   },
   "source": [
    "<h1>Table of Contents<span class=\"tocSkip\"></span></h1>\n",
    "<div class=\"toc\"><ul class=\"toc-item\"><li><span><a href=\"#Goal\" data-toc-modified-id=\"Goal-1\"><span class=\"toc-item-num\">1&nbsp;&nbsp;</span>Goal</a></span></li><li><span><a href=\"#Var\" data-toc-modified-id=\"Var-2\"><span class=\"toc-item-num\">2&nbsp;&nbsp;</span>Var</a></span></li><li><span><a href=\"#Init\" data-toc-modified-id=\"Init-3\"><span class=\"toc-item-num\">3&nbsp;&nbsp;</span>Init</a></span></li><li><span><a href=\"#Load\" data-toc-modified-id=\"Load-4\"><span class=\"toc-item-num\">4&nbsp;&nbsp;</span>Load</a></span></li><li><span><a href=\"#IndD\" data-toc-modified-id=\"IndD-5\"><span class=\"toc-item-num\">5&nbsp;&nbsp;</span>IndD</a></span><ul class=\"toc-item\"><li><span><a href=\"#Checks\" data-toc-modified-id=\"Checks-5.1\"><span class=\"toc-item-num\">5.1&nbsp;&nbsp;</span>Checks</a></span></li><li><span><a href=\"#Host-metadata-to-tree\" data-toc-modified-id=\"Host-metadata-to-tree-5.2\"><span class=\"toc-item-num\">5.2&nbsp;&nbsp;</span>Host metadata to tree</a></span><ul class=\"toc-item\"><li><span><a href=\"#Diet\" data-toc-modified-id=\"Diet-5.2.1\"><span class=\"toc-item-num\">5.2.1&nbsp;&nbsp;</span>Diet</a></span></li></ul></li><li><span><a href=\"#Microbiome-abundances-to-tree\" data-toc-modified-id=\"Microbiome-abundances-to-tree-5.3\"><span class=\"toc-item-num\">5.3&nbsp;&nbsp;</span>Microbiome abundances to tree</a></span><ul class=\"toc-item\"><li><span><a href=\"#Phylum\" data-toc-modified-id=\"Phylum-5.3.1\"><span class=\"toc-item-num\">5.3.1&nbsp;&nbsp;</span>Phylum</a></span><ul class=\"toc-item\"><li><span><a href=\"#Abundance-summary\" data-toc-modified-id=\"Abundance-summary-5.3.1.1\"><span class=\"toc-item-num\">5.3.1.1&nbsp;&nbsp;</span>Abundance summary</a></span></li></ul></li><li><span><a href=\"#Class\" data-toc-modified-id=\"Class-5.3.2\"><span class=\"toc-item-num\">5.3.2&nbsp;&nbsp;</span>Class</a></span><ul class=\"toc-item\"><li><span><a href=\"#Abundance-summary\" data-toc-modified-id=\"Abundance-summary-5.3.2.1\"><span class=\"toc-item-num\">5.3.2.1&nbsp;&nbsp;</span>Abundance summary</a></span></li></ul></li><li><span><a href=\"#Family:-just-Eurys\" data-toc-modified-id=\"Family:-just-Eurys-5.3.3\"><span class=\"toc-item-num\">5.3.3&nbsp;&nbsp;</span>Family: just Eurys</a></span><ul class=\"toc-item\"><li><span><a href=\"#Abundance-summary\" data-toc-modified-id=\"Abundance-summary-5.3.3.1\"><span class=\"toc-item-num\">5.3.3.1&nbsp;&nbsp;</span>Abundance summary</a></span></li></ul></li></ul></li></ul></li><li><span><a href=\"#SpecD\" data-toc-modified-id=\"SpecD-6\"><span class=\"toc-item-num\">6&nbsp;&nbsp;</span>SpecD</a></span><ul class=\"toc-item\"><li><span><a href=\"#Checks\" data-toc-modified-id=\"Checks-6.1\"><span class=\"toc-item-num\">6.1&nbsp;&nbsp;</span>Checks</a></span></li><li><span><a href=\"#Metadata\" data-toc-modified-id=\"Metadata-6.2\"><span class=\"toc-item-num\">6.2&nbsp;&nbsp;</span>Metadata</a></span><ul class=\"toc-item\"><li><span><a href=\"#Diet\" data-toc-modified-id=\"Diet-6.2.1\"><span class=\"toc-item-num\">6.2.1&nbsp;&nbsp;</span>Diet</a></span></li><li><span><a href=\"#Diet:-detailed\" data-toc-modified-id=\"Diet:-detailed-6.2.2\"><span class=\"toc-item-num\">6.2.2&nbsp;&nbsp;</span>Diet: detailed</a></span></li><li><span><a href=\"#Habitat\" data-toc-modified-id=\"Habitat-6.2.3\"><span class=\"toc-item-num\">6.2.3&nbsp;&nbsp;</span>Habitat</a></span></li><li><span><a href=\"#wild/captive\" data-toc-modified-id=\"wild/captive-6.2.4\"><span class=\"toc-item-num\">6.2.4&nbsp;&nbsp;</span>wild/captive</a></span></li><li><span><a href=\"#sample-type\" data-toc-modified-id=\"sample-type-6.2.5\"><span class=\"toc-item-num\">6.2.5&nbsp;&nbsp;</span>sample type</a></span></li><li><span><a href=\"#digestive-system\" data-toc-modified-id=\"digestive-system-6.2.6\"><span class=\"toc-item-num\">6.2.6&nbsp;&nbsp;</span>digestive system</a></span></li><li><span><a href=\"#Ruminant\" data-toc-modified-id=\"Ruminant-6.2.7\"><span class=\"toc-item-num\">6.2.7&nbsp;&nbsp;</span>Ruminant</a></span></li><li><span><a href=\"#temp-regulation\" data-toc-modified-id=\"temp-regulation-6.2.8\"><span class=\"toc-item-num\">6.2.8&nbsp;&nbsp;</span>temp regulation</a></span></li></ul></li><li><span><a href=\"#Taxon-abundances\" data-toc-modified-id=\"Taxon-abundances-6.3\"><span class=\"toc-item-num\">6.3&nbsp;&nbsp;</span>Taxon abundances</a></span><ul class=\"toc-item\"><li><span><a href=\"#Phylum\" data-toc-modified-id=\"Phylum-6.3.1\"><span class=\"toc-item-num\">6.3.1&nbsp;&nbsp;</span>Phylum</a></span></li><li><span><a href=\"#Class\" data-toc-modified-id=\"Class-6.3.2\"><span class=\"toc-item-num\">6.3.2&nbsp;&nbsp;</span>Class</a></span></li><li><span><a href=\"#Methanogens\" data-toc-modified-id=\"Methanogens-6.3.3\"><span class=\"toc-item-num\">6.3.3&nbsp;&nbsp;</span>Methanogens</a></span></li><li><span><a href=\"#Alpha-diversity\" data-toc-modified-id=\"Alpha-diversity-6.3.4\"><span class=\"toc-item-num\">6.3.4&nbsp;&nbsp;</span>Alpha diversity</a></span><ul class=\"toc-item\"><li><span><a href=\"#Shannon\" data-toc-modified-id=\"Shannon-6.3.4.1\"><span class=\"toc-item-num\">6.3.4.1&nbsp;&nbsp;</span>Shannon</a></span></li><li><span><a href=\"#Faiths-PD\" data-toc-modified-id=\"Faiths-PD-6.3.4.2\"><span class=\"toc-item-num\">6.3.4.2&nbsp;&nbsp;</span>Faiths PD</a></span></li></ul></li></ul></li><li><span><a href=\"#Seq-general\" data-toc-modified-id=\"Seq-general-6.4\"><span class=\"toc-item-num\">6.4&nbsp;&nbsp;</span>Seq general</a></span><ul class=\"toc-item\"><li><span><a href=\"#Counts-per-sample\" data-toc-modified-id=\"Counts-per-sample-6.4.1\"><span class=\"toc-item-num\">6.4.1&nbsp;&nbsp;</span>Counts per sample</a></span></li><li><span><a href=\"#Number-of-samples\" data-toc-modified-id=\"Number-of-samples-6.4.2\"><span class=\"toc-item-num\">6.4.2&nbsp;&nbsp;</span>Number of samples</a></span></li></ul></li></ul></li><li><span><a href=\"#sessionInfo\" data-toc-modified-id=\"sessionInfo-7\"><span class=\"toc-item-num\">7&nbsp;&nbsp;</span>sessionInfo</a></span></li></ul></div>"
   ]
  },
  {
   "cell_type": "markdown",
   "metadata": {},
   "source": [
    "# Goal\n",
    "\n",
    "* Map archaea data (eg., clade abundances & alpha diversity) to the host phylogeny"
   ]
  },
  {
   "cell_type": "markdown",
   "metadata": {},
   "source": [
    "# Var"
   ]
  },
  {
   "cell_type": "code",
   "execution_count": 97,
   "metadata": {
    "ExecuteTime": {
     "end_time": "2020-06-15T14:11:11.327941Z",
     "start_time": "2020-06-15T14:11:11.243Z"
    }
   },
   "outputs": [],
   "source": [
    "work_dir = '/ebio/abt3_projects/Georg_animal_feces/data/16S_arch/MiSeq-Runs-116-122-126-189-190/LLA/dataset_explore/'\n",
    "\n",
    "# microbiome\n",
    "## raw counts\n",
    "### 16S-arch phyloseq object (one sample per species)\n",
    "physeq_arch_SpecD_file = '/ebio/abt3_projects/Georg_animal_feces/data/16S_arch/MiSeq-Runs-116-122-126-189-190/LLA/merged/phyloseq/physeq_arch_SpecD.RDS'\n",
    "### 16S-arch phyloseq object (one sample per individual)\n",
    "physeq_arch_IndD_file = '/ebio/abt3_projects/Georg_animal_feces/data/16S_arch/MiSeq-Runs-116-122-126-189-190/LLA/merged/phyloseq/physeq_arch_IndD.RDS'\n",
    "## clr-transformed\n",
    "### 16S-arch phyloseq object (one sample per species)\n",
    "physeq_arch_SpecD_clr_file = ' /ebio/abt3_projects/Georg_animal_feces/data/16S_arch/MiSeq-Runs-116-122-126-189-190/LLA/merged/phyloseq/physeq_arch_SpecD_clr_digSysR.RDS'\n",
    "### 16S-arch phyloseq object (one sample per individual)\n",
    "physeq_arch_IndD_clr_file = '/ebio/abt3_projects/Georg_animal_feces/data/16S_arch/MiSeq-Runs-116-122-126-189-190/LLA/merged/phyloseq/physeq_arch_IndD_clr_digSysR.RDS'\n",
    "\n",
    "# diversity\n",
    "alpha_div_file = '/ebio/abt3_projects/Georg_animal_feces/data/16S_arch/MiSeq-Runs-116-122-126-189-190/LLA/merged/diversity-qiime2/alpha_div.RDS'\n",
    "beta_div_file = '/ebio/abt3_projects/Georg_animal_feces/data/16S_arch/MiSeq-Runs-116-122-126-189-190/LLA/merged/diversity-qiime2/beta_div.RDS'\n",
    "\n",
    "# host tree\n",
    "host_tree_SpecD_file = '/ebio/abt3_projects/Georg_animal_feces/data/animal/phylogeny/TT/unified_metadata_complete_200429_16S-arch.nwk'\n",
    "host_tree_IndD_file = '/ebio/abt3_projects/Georg_animal_feces/data/animal/phylogeny/TT/unified_metadata_complete_200429_16S-arch_IndD.nwk'"
   ]
  },
  {
   "cell_type": "markdown",
   "metadata": {},
   "source": [
    "# Init"
   ]
  },
  {
   "cell_type": "code",
   "execution_count": 98,
   "metadata": {
    "ExecuteTime": {
     "end_time": "2020-06-15T14:11:11.598326Z",
     "start_time": "2020-06-15T14:11:11.547Z"
    }
   },
   "outputs": [],
   "source": [
    "library(dplyr)\n",
    "library(tidyr)\n",
    "library(ggplot2)\n",
    "library(phyloseq)\n",
    "library(ape)\n",
    "library(data.table)\n",
    "library(tidytable)\n",
    "library(LeyLabRMisc)"
   ]
  },
  {
   "cell_type": "code",
   "execution_count": 99,
   "metadata": {
    "ExecuteTime": {
     "end_time": "2020-06-15T14:11:11.730351Z",
     "start_time": "2020-06-15T14:11:11.670Z"
    }
   },
   "outputs": [
    {
     "name": "stdout",
     "output_type": "stream",
     "text": [
      "Directory already exists: /ebio/abt3_projects/Georg_animal_feces/data/16S_arch/MiSeq-Runs-116-122-126-189-190/LLA/dataset_explore/ \n"
     ]
    }
   ],
   "source": [
    "df.dims()\n",
    "make_dir(work_dir)"
   ]
  },
  {
   "cell_type": "markdown",
   "metadata": {},
   "source": [
    "# Load"
   ]
  },
  {
   "cell_type": "code",
   "execution_count": 100,
   "metadata": {
    "ExecuteTime": {
     "end_time": "2020-06-15T14:11:30.080125Z",
     "start_time": "2020-06-15T14:11:29.973Z"
    }
   },
   "outputs": [
    {
     "data": {
      "text/html": [
       "<table>\n",
       "<caption>A matrix: 1 × 8 of type dbl</caption>\n",
       "<thead>\n",
       "\t<tr><th></th><th scope=col>Min.</th><th scope=col>1st Qu.</th><th scope=col>Median</th><th scope=col>Mean</th><th scope=col>3rd Qu.</th><th scope=col>Max.</th><th scope=col>sd</th><th scope=col>sd_err_of_mean</th></tr>\n",
       "</thead>\n",
       "<tbody>\n",
       "\t<tr><th scope=row>Sample counts</th><td>251</td><td>645.25</td><td>1277.5</td><td>2072.955</td><td>2459.25</td><td>32294</td><td>12663.8</td><td>5169.976</td></tr>\n",
       "</tbody>\n",
       "</table>\n"
      ],
      "text/latex": [
       "A matrix: 1 × 8 of type dbl\n",
       "\\begin{tabular}{r|llllllll}\n",
       "  & Min. & 1st Qu. & Median & Mean & 3rd Qu. & Max. & sd & sd\\_err\\_of\\_mean\\\\\n",
       "\\hline\n",
       "\tSample counts & 251 & 645.25 & 1277.5 & 2072.955 & 2459.25 & 32294 & 12663.8 & 5169.976\\\\\n",
       "\\end{tabular}\n"
      ],
      "text/markdown": [
       "\n",
       "A matrix: 1 × 8 of type dbl\n",
       "\n",
       "| <!--/--> | Min. | 1st Qu. | Median | Mean | 3rd Qu. | Max. | sd | sd_err_of_mean |\n",
       "|---|---|---|---|---|---|---|---|---|\n",
       "| Sample counts | 251 | 645.25 | 1277.5 | 2072.955 | 2459.25 | 32294 | 12663.8 | 5169.976 |\n",
       "\n"
      ],
      "text/plain": [
       "              Min. 1st Qu. Median Mean     3rd Qu. Max.  sd      sd_err_of_mean\n",
       "Sample counts 251  645.25  1277.5 2072.955 2459.25 32294 12663.8 5169.976      "
      ]
     },
     "metadata": {},
     "output_type": "display_data"
    },
    {
     "data": {
      "text/plain": [
       "phyloseq-class experiment-level object\n",
       "otu_table()   OTU Table:         [ 1151 taxa and 110 samples ]\n",
       "sample_data() Sample Data:       [ 110 samples by 88 sample variables ]\n",
       "tax_table()   Taxonomy Table:    [ 1151 taxa by 7 taxonomic ranks ]\n",
       "phy_tree()    Phylogenetic Tree: [ 1151 tips and 1150 internal nodes ]"
      ]
     },
     "metadata": {},
     "output_type": "display_data"
    }
   ],
   "source": [
    "# phyloseq\n",
    "physeq_arch_SpecD = readRDS(physeq_arch_SpecD_file)\n",
    "physeq_arch_SpecD %>% sample_sums %>% summary_x('Sample counts')\n",
    "physeq_arch_SpecD"
   ]
  },
  {
   "cell_type": "code",
   "execution_count": 101,
   "metadata": {
    "ExecuteTime": {
     "end_time": "2020-06-15T14:11:38.987795Z",
     "start_time": "2020-06-15T14:11:38.852Z"
    }
   },
   "outputs": [
    {
     "data": {
      "text/html": [
       "<table>\n",
       "<caption>A matrix: 1 × 8 of type dbl</caption>\n",
       "<thead>\n",
       "\t<tr><th></th><th scope=col>Min.</th><th scope=col>1st Qu.</th><th scope=col>Median</th><th scope=col>Mean</th><th scope=col>3rd Qu.</th><th scope=col>Max.</th><th scope=col>sd</th><th scope=col>sd_err_of_mean</th></tr>\n",
       "</thead>\n",
       "<tbody>\n",
       "\t<tr><th scope=row>Sample counts</th><td>251</td><td>732</td><td>1567</td><td>2360.93</td><td>2973</td><td>32294</td><td>12580.34</td><td>5135.903</td></tr>\n",
       "</tbody>\n",
       "</table>\n"
      ],
      "text/latex": [
       "A matrix: 1 × 8 of type dbl\n",
       "\\begin{tabular}{r|llllllll}\n",
       "  & Min. & 1st Qu. & Median & Mean & 3rd Qu. & Max. & sd & sd\\_err\\_of\\_mean\\\\\n",
       "\\hline\n",
       "\tSample counts & 251 & 732 & 1567 & 2360.93 & 2973 & 32294 & 12580.34 & 5135.903\\\\\n",
       "\\end{tabular}\n"
      ],
      "text/markdown": [
       "\n",
       "A matrix: 1 × 8 of type dbl\n",
       "\n",
       "| <!--/--> | Min. | 1st Qu. | Median | Mean | 3rd Qu. | Max. | sd | sd_err_of_mean |\n",
       "|---|---|---|---|---|---|---|---|---|\n",
       "| Sample counts | 251 | 732 | 1567 | 2360.93 | 2973 | 32294 | 12580.34 | 5135.903 |\n",
       "\n"
      ],
      "text/plain": [
       "              Min. 1st Qu. Median Mean    3rd Qu. Max.  sd       sd_err_of_mean\n",
       "Sample counts 251  732     1567   2360.93 2973    32294 12580.34 5135.903      "
      ]
     },
     "metadata": {},
     "output_type": "display_data"
    },
    {
     "data": {
      "text/plain": [
       "phyloseq-class experiment-level object\n",
       "otu_table()   OTU Table:         [ 1891 taxa and 185 samples ]\n",
       "sample_data() Sample Data:       [ 185 samples by 88 sample variables ]\n",
       "tax_table()   Taxonomy Table:    [ 1891 taxa by 7 taxonomic ranks ]\n",
       "phy_tree()    Phylogenetic Tree: [ 1891 tips and 1888 internal nodes ]"
      ]
     },
     "metadata": {},
     "output_type": "display_data"
    }
   ],
   "source": [
    "# phyloseq\n",
    "physeq_arch_IndD = readRDS(physeq_arch_IndD_file)\n",
    "physeq_arch_IndD %>% sample_sums %>% summary_x('Sample counts')\n",
    "physeq_arch_IndD"
   ]
  },
  {
   "cell_type": "code",
   "execution_count": 46,
   "metadata": {
    "ExecuteTime": {
     "end_time": "2020-06-15T13:52:26.319481Z",
     "start_time": "2020-06-15T13:52:26.194Z"
    }
   },
   "outputs": [
    {
     "data": {
      "text/html": [
       "<table>\n",
       "<caption>A data.table: 185 × 5</caption>\n",
       "<thead>\n",
       "\t<tr><th scope=col>pielou_e</th><th scope=col>observed_otus</th><th scope=col>shannon</th><th scope=col>faith_pd</th><th scope=col>SampleID</th></tr>\n",
       "\t<tr><th scope=col>&lt;dbl&gt;</th><th scope=col>&lt;int&gt;</th><th scope=col>&lt;dbl&gt;</th><th scope=col>&lt;dbl&gt;</th><th scope=col>&lt;chr&gt;</th></tr>\n",
       "</thead>\n",
       "<tbody>\n",
       "\t<tr><td>0.6493088</td><td>29</td><td>3.154330</td><td>3.862071</td><td>F14_Common_Bream</td></tr>\n",
       "\t<tr><td>0.8770891</td><td>19</td><td>3.725811</td><td>3.337468</td><td>F35_Red_Deer    </td></tr>\n",
       "\t<tr><td>⋮</td><td>⋮</td><td>⋮</td><td>⋮</td><td>⋮</td></tr>\n",
       "\t<tr><td>0.7195625</td><td>19</td><td>3.056649</td><td>3.376661</td><td>X431_Quagga     </td></tr>\n",
       "\t<tr><td>0.6582057</td><td> 7</td><td>1.847817</td><td>2.200689</td><td>X67_European_Roe</td></tr>\n",
       "</tbody>\n",
       "</table>\n"
      ],
      "text/latex": [
       "A data.table: 185 × 5\n",
       "\\begin{tabular}{lllll}\n",
       " pielou\\_e & observed\\_otus & shannon & faith\\_pd & SampleID\\\\\n",
       " <dbl> & <int> & <dbl> & <dbl> & <chr>\\\\\n",
       "\\hline\n",
       "\t 0.6493088 & 29 & 3.154330 & 3.862071 & F14\\_Common\\_Bream\\\\\n",
       "\t 0.8770891 & 19 & 3.725811 & 3.337468 & F35\\_Red\\_Deer    \\\\\n",
       "\t ⋮ & ⋮ & ⋮ & ⋮ & ⋮\\\\\n",
       "\t 0.7195625 & 19 & 3.056649 & 3.376661 & X431\\_Quagga     \\\\\n",
       "\t 0.6582057 &  7 & 1.847817 & 2.200689 & X67\\_European\\_Roe\\\\\n",
       "\\end{tabular}\n"
      ],
      "text/markdown": [
       "\n",
       "A data.table: 185 × 5\n",
       "\n",
       "| pielou_e &lt;dbl&gt; | observed_otus &lt;int&gt; | shannon &lt;dbl&gt; | faith_pd &lt;dbl&gt; | SampleID &lt;chr&gt; |\n",
       "|---|---|---|---|---|\n",
       "| 0.6493088 | 29 | 3.154330 | 3.862071 | F14_Common_Bream |\n",
       "| 0.8770891 | 19 | 3.725811 | 3.337468 | F35_Red_Deer     |\n",
       "| ⋮ | ⋮ | ⋮ | ⋮ | ⋮ |\n",
       "| 0.7195625 | 19 | 3.056649 | 3.376661 | X431_Quagga      |\n",
       "| 0.6582057 |  7 | 1.847817 | 2.200689 | X67_European_Roe |\n",
       "\n"
      ],
      "text/plain": [
       "    pielou_e  observed_otus shannon  faith_pd SampleID        \n",
       "1   0.6493088 29            3.154330 3.862071 F14_Common_Bream\n",
       "2   0.8770891 19            3.725811 3.337468 F35_Red_Deer    \n",
       "⋮   ⋮         ⋮             ⋮        ⋮        ⋮               \n",
       "184 0.7195625 19            3.056649 3.376661 X431_Quagga     \n",
       "185 0.6582057  7            1.847817 2.200689 X67_European_Roe"
      ]
     },
     "metadata": {},
     "output_type": "display_data"
    }
   ],
   "source": [
    "# alpha diversity\n",
    "alpha_div = readRDS(alpha_div_file) %>%\n",
    "    do.call(cbind, .) %>%\n",
    "    mutate(SampleID = row.names(.)) %>%\n",
    "    data.table\n",
    "alpha_div"
   ]
  },
  {
   "cell_type": "code",
   "execution_count": 47,
   "metadata": {
    "ExecuteTime": {
     "end_time": "2020-06-15T13:52:26.411326Z",
     "start_time": "2020-06-15T13:52:26.299Z"
    }
   },
   "outputs": [
    {
     "data": {
      "text/html": [
       "4"
      ],
      "text/latex": [
       "4"
      ],
      "text/markdown": [
       "4"
      ],
      "text/plain": [
       "[1] 4"
      ]
     },
     "metadata": {},
     "output_type": "display_data"
    }
   ],
   "source": [
    "# beta diversity\n",
    "beta_div = readRDS(beta_div_file)\n",
    "beta_div %>% length"
   ]
  },
  {
   "cell_type": "code",
   "execution_count": 48,
   "metadata": {
    "ExecuteTime": {
     "end_time": "2020-06-15T13:52:27.632104Z",
     "start_time": "2020-06-15T13:52:27.565Z"
    }
   },
   "outputs": [
    {
     "data": {
      "text/plain": [
       "\n",
       "Phylogenetic tree with 110 tips and 109 internal nodes.\n",
       "\n",
       "Tip labels:\n",
       "\tLeuciscus_cephalus, Rutilus_rutilus, Leuciscus_idus, Blicca_bjoerkna, Abramis_brama, Cyprinus_carpio, ...\n",
       "Node labels:\n",
       "\t, @_20_@, @_17_@, @_14_@, @_9_@, @_15_@, ...\n",
       "\n",
       "Rooted; includes branch lengths."
      ]
     },
     "metadata": {},
     "output_type": "display_data"
    }
   ],
   "source": [
    "# host tree\n",
    "host_tree_SpecD = read.tree(host_tree_SpecD_file)\n",
    "host_tree_SpecD"
   ]
  },
  {
   "cell_type": "code",
   "execution_count": 49,
   "metadata": {
    "ExecuteTime": {
     "end_time": "2020-06-15T13:52:28.316040Z",
     "start_time": "2020-06-15T13:52:28.250Z"
    }
   },
   "outputs": [
    {
     "data": {
      "text/plain": [
       "\n",
       "Phylogenetic tree with 185 tips and 184 internal nodes.\n",
       "\n",
       "Tip labels:\n",
       "\tX60_European_Chub, X179_Roach, X330_Ide, X327_Silver_Bream, X326_Silver_Bream, F14_Common_Bream, ...\n",
       "Node labels:\n",
       "\t, @_20_@, @_17_@, @_14_@, @_9_@, @_15_@, ...\n",
       "\n",
       "Rooted; includes branch lengths."
      ]
     },
     "metadata": {},
     "output_type": "display_data"
    }
   ],
   "source": [
    "# host tree\n",
    "host_tree_IndD = read.tree(host_tree_IndD_file)\n",
    "host_tree_IndD"
   ]
  },
  {
   "cell_type": "markdown",
   "metadata": {},
   "source": [
    "# IndD"
   ]
  },
  {
   "cell_type": "markdown",
   "metadata": {},
   "source": [
    "## Checks"
   ]
  },
  {
   "cell_type": "code",
   "execution_count": 50,
   "metadata": {
    "ExecuteTime": {
     "end_time": "2020-06-15T13:52:29.377599Z",
     "start_time": "2020-06-15T13:52:29.323Z"
    }
   },
   "outputs": [
    {
     "name": "stdout",
     "output_type": "stream",
     "text": [
      "intersect(x,y): 185 \n",
      "setdiff(x,y): 0 \n",
      "setdiff(y,x): 0 \n",
      "union(x,y): 185 \n"
     ]
    }
   ],
   "source": [
    "# IndD: physeq vs host tree\n",
    "overlap(physeq_arch_IndD %>% sample_names, host_tree_IndD$tip.label)"
   ]
  },
  {
   "cell_type": "code",
   "execution_count": 51,
   "metadata": {
    "ExecuteTime": {
     "end_time": "2020-06-15T13:52:29.643100Z",
     "start_time": "2020-06-15T13:52:29.591Z"
    }
   },
   "outputs": [
    {
     "name": "stdout",
     "output_type": "stream",
     "text": [
      "intersect(x,y): 185 \n",
      "setdiff(x,y): 0 \n",
      "setdiff(y,x): 0 \n",
      "union(x,y): 185 \n"
     ]
    }
   ],
   "source": [
    "# IndD: physeq vs alpha-div\n",
    "overlap(physeq_arch_IndD %>% sample_names, alpha_div %>% dt_pull(SampleID))"
   ]
  },
  {
   "cell_type": "code",
   "execution_count": 52,
   "metadata": {
    "ExecuteTime": {
     "end_time": "2020-06-15T13:52:29.789204Z",
     "start_time": "2020-06-15T13:52:29.717Z"
    }
   },
   "outputs": [
    {
     "data": {
      "text/plain": [
       "   Min. 1st Qu.  Median    Mean 3rd Qu.    Max. \n",
       "      1       1       1       1       1       1 "
      ]
     },
     "metadata": {},
     "output_type": "display_data"
    }
   ],
   "source": [
    "# one sample per individual? \n",
    "physeq_arch_IndD %>%\n",
    "    phyloseq2df(sample_data) %>%\n",
    "    group_by(host_subject_id) %>%\n",
    "    summarize(n = n()) %>%\n",
    "    ungroup()  %>%\n",
    "    .$n %>% summary"
   ]
  },
  {
   "cell_type": "markdown",
   "metadata": {},
   "source": [
    "## Host metadata to tree"
   ]
  },
  {
   "cell_type": "code",
   "execution_count": 53,
   "metadata": {
    "ExecuteTime": {
     "end_time": "2020-06-15T13:52:30.885705Z",
     "start_time": "2020-06-15T13:52:30.743Z"
    }
   },
   "outputs": [
    {
     "data": {
      "text/html": [
       "<table>\n",
       "<caption>A data.table: 185 × 88</caption>\n",
       "<thead>\n",
       "\t<tr><th scope=col>SampleID</th><th scope=col>host_subject_id</th><th scope=col>host_german_name</th><th scope=col>host_common_name</th><th scope=col>scientific_name</th><th scope=col>scientific_name_subspecies</th><th scope=col>host_taxid</th><th scope=col>class</th><th scope=col>order</th><th scope=col>family</th><th scope=col>⋯</th><th scope=col>CH4_kJ.d_mean</th><th scope=col>CH4_kJ.d_sd</th><th scope=col>i.CH4_L.d_mean</th><th scope=col>i.CH4_L.d_sd</th><th scope=col>i.CH4_L.kgBM_mean</th><th scope=col>i.CH4_L.kgBM_sd</th><th scope=col>i.CH4_g.d_mean</th><th scope=col>i.CH4_g.d_sd</th><th scope=col>i.CH4_kJ.d_mean</th><th scope=col>i.CH4_kJ.d_sd</th></tr>\n",
       "\t<tr><th scope=col>&lt;chr&gt;</th><th scope=col>&lt;chr&gt;</th><th scope=col>&lt;chr&gt;</th><th scope=col>&lt;chr&gt;</th><th scope=col>&lt;chr&gt;</th><th scope=col>&lt;chr&gt;</th><th scope=col>&lt;chr&gt;</th><th scope=col>&lt;chr&gt;</th><th scope=col>&lt;chr&gt;</th><th scope=col>&lt;chr&gt;</th><th scope=col>⋯</th><th scope=col>&lt;chr&gt;</th><th scope=col>&lt;chr&gt;</th><th scope=col>&lt;chr&gt;</th><th scope=col>&lt;chr&gt;</th><th scope=col>&lt;chr&gt;</th><th scope=col>&lt;chr&gt;</th><th scope=col>&lt;chr&gt;</th><th scope=col>&lt;chr&gt;</th><th scope=col>&lt;chr&gt;</th><th scope=col>&lt;chr&gt;</th></tr>\n",
       "</thead>\n",
       "<tbody>\n",
       "\t<tr><td>F14_Common_Bream</td><td>F14</td><td>Brachse  </td><td>Common.Bream</td><td>Abramis_brama </td><td>NA</td><td>  38527</td><td>Actinopterygii</td><td>Cypriniformes</td><td>Cyprinidae</td><td>⋯</td><td>NA         </td><td>NA        </td><td>NA         </td><td>NA        </td><td>NA       </td><td>NA        </td><td>NA         </td><td>NA        </td><td>NA         </td><td>NA        </td></tr>\n",
       "\t<tr><td>F35_Red_Deer    </td><td>F35</td><td>Rothirsch</td><td>Red.Deer    </td><td>Cervus_elaphus</td><td>NA</td><td>   9860</td><td>Mammalia      </td><td>Artiodactyla </td><td>Cervidae  </td><td>⋯</td><td> 2066.94152</td><td>1075.50477</td><td> 52.2413228</td><td>27.1830584</td><td>0.4858472</td><td>0.16869553</td><td> 38.6711742</td><td>21.3016201</td><td> 2066.94152</td><td>1075.50477</td></tr>\n",
       "\t<tr><td>⋮</td><td>⋮</td><td>⋮</td><td>⋮</td><td>⋮</td><td>⋮</td><td>⋮</td><td>⋮</td><td>⋮</td><td>⋮</td><td>⋱</td><td>⋮</td><td>⋮</td><td>⋮</td><td>⋮</td><td>⋮</td><td>⋮</td><td>⋮</td><td>⋮</td><td>⋮</td><td>⋮</td></tr>\n",
       "\t<tr><td>X431_Quagga     </td><td>431</td><td>Steppenzebra</td><td>Quagga      </td><td>Equus_quagga       </td><td>NA</td><td>  89252</td><td>Mammalia</td><td>Perissodactyla</td><td>Equidae </td><td>⋯</td><td>NA</td><td>NA</td><td>NA</td><td>NA</td><td>NA</td><td>NA</td><td>NA</td><td>NA</td><td>NA</td><td>NA</td></tr>\n",
       "\t<tr><td>X67_European_Roe</td><td>67 </td><td>Reh         </td><td>European.Roe</td><td>Capreolus_capreolus</td><td>NA</td><td>   9858</td><td>Mammalia</td><td>Artiodactyla  </td><td>Cervidae</td><td>⋯</td><td>NA</td><td>NA</td><td>NA</td><td>NA</td><td>NA</td><td>NA</td><td>NA</td><td>NA</td><td>NA</td><td>NA</td></tr>\n",
       "</tbody>\n",
       "</table>\n"
      ],
      "text/latex": [
       "A data.table: 185 × 88\n",
       "\\begin{tabular}{lllllllllllllllllllll}\n",
       " SampleID & host\\_subject\\_id & host\\_german\\_name & host\\_common\\_name & scientific\\_name & scientific\\_name\\_subspecies & host\\_taxid & class & order & family & ⋯ & CH4\\_kJ.d\\_mean & CH4\\_kJ.d\\_sd & i.CH4\\_L.d\\_mean & i.CH4\\_L.d\\_sd & i.CH4\\_L.kgBM\\_mean & i.CH4\\_L.kgBM\\_sd & i.CH4\\_g.d\\_mean & i.CH4\\_g.d\\_sd & i.CH4\\_kJ.d\\_mean & i.CH4\\_kJ.d\\_sd\\\\\n",
       " <chr> & <chr> & <chr> & <chr> & <chr> & <chr> & <chr> & <chr> & <chr> & <chr> & ⋯ & <chr> & <chr> & <chr> & <chr> & <chr> & <chr> & <chr> & <chr> & <chr> & <chr>\\\\\n",
       "\\hline\n",
       "\t F14\\_Common\\_Bream & F14 & Brachse   & Common.Bream & Abramis\\_brama  & NA &   38527 & Actinopterygii & Cypriniformes & Cyprinidae & ⋯ & NA          & NA         & NA          & NA         & NA        & NA         & NA          & NA         & NA          & NA        \\\\\n",
       "\t F35\\_Red\\_Deer     & F35 & Rothirsch & Red.Deer     & Cervus\\_elaphus & NA &    9860 & Mammalia       & Artiodactyla  & Cervidae   & ⋯ &  2066.94152 & 1075.50477 &  52.2413228 & 27.1830584 & 0.4858472 & 0.16869553 &  38.6711742 & 21.3016201 &  2066.94152 & 1075.50477\\\\\n",
       "\t ⋮ & ⋮ & ⋮ & ⋮ & ⋮ & ⋮ & ⋮ & ⋮ & ⋮ & ⋮ & ⋱ & ⋮ & ⋮ & ⋮ & ⋮ & ⋮ & ⋮ & ⋮ & ⋮ & ⋮ & ⋮\\\\\n",
       "\t X431\\_Quagga      & 431 & Steppenzebra & Quagga       & Equus\\_quagga        & NA &   89252 & Mammalia & Perissodactyla & Equidae  & ⋯ & NA & NA & NA & NA & NA & NA & NA & NA & NA & NA\\\\\n",
       "\t X67\\_European\\_Roe & 67  & Reh          & European.Roe & Capreolus\\_capreolus & NA &    9858 & Mammalia & Artiodactyla   & Cervidae & ⋯ & NA & NA & NA & NA & NA & NA & NA & NA & NA & NA\\\\\n",
       "\\end{tabular}\n"
      ],
      "text/markdown": [
       "\n",
       "A data.table: 185 × 88\n",
       "\n",
       "| SampleID &lt;chr&gt; | host_subject_id &lt;chr&gt; | host_german_name &lt;chr&gt; | host_common_name &lt;chr&gt; | scientific_name &lt;chr&gt; | scientific_name_subspecies &lt;chr&gt; | host_taxid &lt;chr&gt; | class &lt;chr&gt; | order &lt;chr&gt; | family &lt;chr&gt; | ⋯ ⋯ | CH4_kJ.d_mean &lt;chr&gt; | CH4_kJ.d_sd &lt;chr&gt; | i.CH4_L.d_mean &lt;chr&gt; | i.CH4_L.d_sd &lt;chr&gt; | i.CH4_L.kgBM_mean &lt;chr&gt; | i.CH4_L.kgBM_sd &lt;chr&gt; | i.CH4_g.d_mean &lt;chr&gt; | i.CH4_g.d_sd &lt;chr&gt; | i.CH4_kJ.d_mean &lt;chr&gt; | i.CH4_kJ.d_sd &lt;chr&gt; |\n",
       "|---|---|---|---|---|---|---|---|---|---|---|---|---|---|---|---|---|---|---|---|---|\n",
       "| F14_Common_Bream | F14 | Brachse   | Common.Bream | Abramis_brama  | NA |   38527 | Actinopterygii | Cypriniformes | Cyprinidae | ⋯ | NA          | NA         | NA          | NA         | NA        | NA         | NA          | NA         | NA          | NA         |\n",
       "| F35_Red_Deer     | F35 | Rothirsch | Red.Deer     | Cervus_elaphus | NA |    9860 | Mammalia       | Artiodactyla  | Cervidae   | ⋯ |  2066.94152 | 1075.50477 |  52.2413228 | 27.1830584 | 0.4858472 | 0.16869553 |  38.6711742 | 21.3016201 |  2066.94152 | 1075.50477 |\n",
       "| ⋮ | ⋮ | ⋮ | ⋮ | ⋮ | ⋮ | ⋮ | ⋮ | ⋮ | ⋮ | ⋱ | ⋮ | ⋮ | ⋮ | ⋮ | ⋮ | ⋮ | ⋮ | ⋮ | ⋮ | ⋮ |\n",
       "| X431_Quagga      | 431 | Steppenzebra | Quagga       | Equus_quagga        | NA |   89252 | Mammalia | Perissodactyla | Equidae  | ⋯ | NA | NA | NA | NA | NA | NA | NA | NA | NA | NA |\n",
       "| X67_European_Roe | 67  | Reh          | European.Roe | Capreolus_capreolus | NA |    9858 | Mammalia | Artiodactyla   | Cervidae | ⋯ | NA | NA | NA | NA | NA | NA | NA | NA | NA | NA |\n",
       "\n"
      ],
      "text/plain": [
       "    SampleID         host_subject_id host_german_name host_common_name\n",
       "1   F14_Common_Bream F14             Brachse          Common.Bream    \n",
       "2   F35_Red_Deer     F35             Rothirsch        Red.Deer        \n",
       "⋮   ⋮                ⋮               ⋮                ⋮               \n",
       "184 X431_Quagga      431             Steppenzebra     Quagga          \n",
       "185 X67_European_Roe 67              Reh              European.Roe    \n",
       "    scientific_name     scientific_name_subspecies host_taxid class         \n",
       "1   Abramis_brama       NA                           38527    Actinopterygii\n",
       "2   Cervus_elaphus      NA                            9860    Mammalia      \n",
       "⋮   ⋮                   ⋮                          ⋮          ⋮             \n",
       "184 Equus_quagga        NA                           89252    Mammalia      \n",
       "185 Capreolus_capreolus NA                            9858    Mammalia      \n",
       "    order          family     ⋯ CH4_kJ.d_mean CH4_kJ.d_sd i.CH4_L.d_mean\n",
       "1   Cypriniformes  Cyprinidae ⋯ NA            NA          NA            \n",
       "2   Artiodactyla   Cervidae   ⋯  2066.94152   1075.50477   52.2413228   \n",
       "⋮   ⋮              ⋮          ⋱ ⋮             ⋮           ⋮             \n",
       "184 Perissodactyla Equidae    ⋯ NA            NA          NA            \n",
       "185 Artiodactyla   Cervidae   ⋯ NA            NA          NA            \n",
       "    i.CH4_L.d_sd i.CH4_L.kgBM_mean i.CH4_L.kgBM_sd i.CH4_g.d_mean i.CH4_g.d_sd\n",
       "1   NA           NA                NA              NA             NA          \n",
       "2   27.1830584   0.4858472         0.16869553       38.6711742    21.3016201  \n",
       "⋮   ⋮            ⋮                 ⋮               ⋮              ⋮           \n",
       "184 NA           NA                NA              NA             NA          \n",
       "185 NA           NA                NA              NA             NA          \n",
       "    i.CH4_kJ.d_mean i.CH4_kJ.d_sd\n",
       "1   NA              NA           \n",
       "2    2066.94152     1075.50477   \n",
       "⋮   ⋮               ⋮            \n",
       "184 NA              NA           \n",
       "185 NA              NA           "
      ]
     },
     "metadata": {},
     "output_type": "display_data"
    }
   ],
   "source": [
    "meta = physeq_arch_IndD %>% sample_data %>% as.matrix %>% as.data.table\n",
    "meta"
   ]
  },
  {
   "cell_type": "markdown",
   "metadata": {},
   "source": [
    "### Diet"
   ]
  },
  {
   "cell_type": "code",
   "execution_count": 57,
   "metadata": {
    "ExecuteTime": {
     "end_time": "2020-06-15T13:53:56.342632Z",
     "start_time": "2020-06-15T13:53:56.253Z"
    }
   },
   "outputs": [
    {
     "name": "stdout",
     "output_type": "stream",
     "text": [
      "File written: /ebio/abt3_projects/Georg_animal_feces/data/16S_arch/MiSeq-Runs-116-122-126-189-190/LLA/dataset_explore//IndD_diet_clrstrp.txt \n"
     ]
    }
   ],
   "source": [
    "# simple diet\n",
    "x = meta %>%\n",
    "    dt_select(SampleID, diet) %>%\n",
    "    as.data.frame\n",
    "rownames(x) = x$SampleID\n",
    "x$SampleID = NULL\n",
    "\n",
    "# legend\n",
    "y = meta %>% dt_pull(diet) %>% unique\n",
    "cols = c('#FFCC33', '#00CC00', '#FF0000')\n",
    "legend = data.frame(labels = y,\n",
    "                    colors = cols,\n",
    "                    shapes = rep(1, length(labels)))\n",
    "\n",
    "# creating file\n",
    "F = file.path(work_dir, 'IndD_diet_clrstrp.txt')\n",
    "itol_colorstrip(x, 'diet', F, legend=legend)"
   ]
  },
  {
   "cell_type": "markdown",
   "metadata": {},
   "source": [
    "## Microbiome abundances to tree"
   ]
  },
  {
   "cell_type": "code",
   "execution_count": 58,
   "metadata": {
    "ExecuteTime": {
     "end_time": "2020-06-15T13:54:07.703290Z",
     "start_time": "2020-06-15T13:54:06.745Z"
    }
   },
   "outputs": [
    {
     "data": {
      "text/html": [
       "<table>\n",
       "<caption>A data.table: 349835 × 10</caption>\n",
       "<thead>\n",
       "\t<tr><th scope=col>OTU</th><th scope=col>Sample</th><th scope=col>Count</th><th scope=col>Domain</th><th scope=col>Phylum</th><th scope=col>Class</th><th scope=col>Order</th><th scope=col>Family</th><th scope=col>Genus</th><th scope=col>Species</th></tr>\n",
       "\t<tr><th scope=col>&lt;chr&gt;</th><th scope=col>&lt;chr&gt;</th><th scope=col>&lt;dbl&gt;</th><th scope=col>&lt;chr&gt;</th><th scope=col>&lt;chr&gt;</th><th scope=col>&lt;chr&gt;</th><th scope=col>&lt;chr&gt;</th><th scope=col>&lt;chr&gt;</th><th scope=col>&lt;chr&gt;</th><th scope=col>&lt;chr&gt;</th></tr>\n",
       "</thead>\n",
       "<tbody>\n",
       "\t<tr><td>0e97060fe4b9be17bddeedcd27826b04</td><td>F14_Common_Bream</td><td>0</td><td>Archaea</td><td>Euryarchaeota</td><td>Methanobacteria</td><td>Methanobacteriales</td><td>Methanobacteriaceae</td><td>Methanobrevibacter</td><td>unclassified</td></tr>\n",
       "\t<tr><td>0e97060fe4b9be17bddeedcd27826b04</td><td>F35_Red_Deer    </td><td>0</td><td>Archaea</td><td>Euryarchaeota</td><td>Methanobacteria</td><td>Methanobacteriales</td><td>Methanobacteriaceae</td><td>Methanobrevibacter</td><td>unclassified</td></tr>\n",
       "\t<tr><td>⋮</td><td>⋮</td><td>⋮</td><td>⋮</td><td>⋮</td><td>⋮</td><td>⋮</td><td>⋮</td><td>⋮</td><td>⋮</td></tr>\n",
       "\t<tr><td>467eeae6997d3667b5d07a76bc1bcdfd</td><td>X431_Quagga     </td><td>0</td><td>Archaea</td><td>Euryarchaeota</td><td>Methanobacteria</td><td>Methanobacteriales</td><td>Methanobacteriaceae</td><td>Methanobrevibacter</td><td>unclassified</td></tr>\n",
       "\t<tr><td>467eeae6997d3667b5d07a76bc1bcdfd</td><td>X67_European_Roe</td><td>0</td><td>Archaea</td><td>Euryarchaeota</td><td>Methanobacteria</td><td>Methanobacteriales</td><td>Methanobacteriaceae</td><td>Methanobrevibacter</td><td>unclassified</td></tr>\n",
       "</tbody>\n",
       "</table>\n"
      ],
      "text/latex": [
       "A data.table: 349835 × 10\n",
       "\\begin{tabular}{llllllllll}\n",
       " OTU & Sample & Count & Domain & Phylum & Class & Order & Family & Genus & Species\\\\\n",
       " <chr> & <chr> & <dbl> & <chr> & <chr> & <chr> & <chr> & <chr> & <chr> & <chr>\\\\\n",
       "\\hline\n",
       "\t 0e97060fe4b9be17bddeedcd27826b04 & F14\\_Common\\_Bream & 0 & Archaea & Euryarchaeota & Methanobacteria & Methanobacteriales & Methanobacteriaceae & Methanobrevibacter & unclassified\\\\\n",
       "\t 0e97060fe4b9be17bddeedcd27826b04 & F35\\_Red\\_Deer     & 0 & Archaea & Euryarchaeota & Methanobacteria & Methanobacteriales & Methanobacteriaceae & Methanobrevibacter & unclassified\\\\\n",
       "\t ⋮ & ⋮ & ⋮ & ⋮ & ⋮ & ⋮ & ⋮ & ⋮ & ⋮ & ⋮\\\\\n",
       "\t 467eeae6997d3667b5d07a76bc1bcdfd & X431\\_Quagga      & 0 & Archaea & Euryarchaeota & Methanobacteria & Methanobacteriales & Methanobacteriaceae & Methanobrevibacter & unclassified\\\\\n",
       "\t 467eeae6997d3667b5d07a76bc1bcdfd & X67\\_European\\_Roe & 0 & Archaea & Euryarchaeota & Methanobacteria & Methanobacteriales & Methanobacteriaceae & Methanobrevibacter & unclassified\\\\\n",
       "\\end{tabular}\n"
      ],
      "text/markdown": [
       "\n",
       "A data.table: 349835 × 10\n",
       "\n",
       "| OTU &lt;chr&gt; | Sample &lt;chr&gt; | Count &lt;dbl&gt; | Domain &lt;chr&gt; | Phylum &lt;chr&gt; | Class &lt;chr&gt; | Order &lt;chr&gt; | Family &lt;chr&gt; | Genus &lt;chr&gt; | Species &lt;chr&gt; |\n",
       "|---|---|---|---|---|---|---|---|---|---|\n",
       "| 0e97060fe4b9be17bddeedcd27826b04 | F14_Common_Bream | 0 | Archaea | Euryarchaeota | Methanobacteria | Methanobacteriales | Methanobacteriaceae | Methanobrevibacter | unclassified |\n",
       "| 0e97060fe4b9be17bddeedcd27826b04 | F35_Red_Deer     | 0 | Archaea | Euryarchaeota | Methanobacteria | Methanobacteriales | Methanobacteriaceae | Methanobrevibacter | unclassified |\n",
       "| ⋮ | ⋮ | ⋮ | ⋮ | ⋮ | ⋮ | ⋮ | ⋮ | ⋮ | ⋮ |\n",
       "| 467eeae6997d3667b5d07a76bc1bcdfd | X431_Quagga      | 0 | Archaea | Euryarchaeota | Methanobacteria | Methanobacteriales | Methanobacteriaceae | Methanobrevibacter | unclassified |\n",
       "| 467eeae6997d3667b5d07a76bc1bcdfd | X67_European_Roe | 0 | Archaea | Euryarchaeota | Methanobacteria | Methanobacteriales | Methanobacteriaceae | Methanobrevibacter | unclassified |\n",
       "\n"
      ],
      "text/plain": [
       "       OTU                              Sample           Count Domain \n",
       "1      0e97060fe4b9be17bddeedcd27826b04 F14_Common_Bream 0     Archaea\n",
       "2      0e97060fe4b9be17bddeedcd27826b04 F35_Red_Deer     0     Archaea\n",
       "⋮      ⋮                                ⋮                ⋮     ⋮      \n",
       "349834 467eeae6997d3667b5d07a76bc1bcdfd X431_Quagga      0     Archaea\n",
       "349835 467eeae6997d3667b5d07a76bc1bcdfd X67_European_Roe 0     Archaea\n",
       "       Phylum        Class           Order              Family             \n",
       "1      Euryarchaeota Methanobacteria Methanobacteriales Methanobacteriaceae\n",
       "2      Euryarchaeota Methanobacteria Methanobacteriales Methanobacteriaceae\n",
       "⋮      ⋮             ⋮               ⋮                  ⋮                  \n",
       "349834 Euryarchaeota Methanobacteria Methanobacteriales Methanobacteriaceae\n",
       "349835 Euryarchaeota Methanobacteria Methanobacteriales Methanobacteriaceae\n",
       "       Genus              Species     \n",
       "1      Methanobrevibacter unclassified\n",
       "2      Methanobrevibacter unclassified\n",
       "⋮      ⋮                  ⋮           \n",
       "349834 Methanobrevibacter unclassified\n",
       "349835 Methanobrevibacter unclassified"
      ]
     },
     "metadata": {},
     "output_type": "display_data"
    }
   ],
   "source": [
    "otu = physeq_arch_IndD %>%\n",
    "    phyloseq2df(otu_table, long=TRUE) %>%\n",
    "    as.data.table\n",
    "\n",
    "tax = physeq_arch_IndD %>%\n",
    "    phyloseq2df(tax_table) %>%\n",
    "    as.data.table\n",
    "\n",
    "otu = otu %>%\n",
    "    dt_inner_join(tax, c('OTU'))\n",
    "otu"
   ]
  },
  {
   "cell_type": "code",
   "execution_count": 59,
   "metadata": {
    "ExecuteTime": {
     "end_time": "2020-06-15T13:54:07.747304Z",
     "start_time": "2020-06-15T13:54:07.570Z"
    }
   },
   "outputs": [
    {
     "data": {
      "text/html": [
       "<table>\n",
       "<caption>A matrix: 1 × 8 of type dbl</caption>\n",
       "<thead>\n",
       "\t<tr><th></th><th scope=col>Min.</th><th scope=col>1st Qu.</th><th scope=col>Median</th><th scope=col>Mean</th><th scope=col>3rd Qu.</th><th scope=col>Max.</th><th scope=col>sd</th><th scope=col>sd_err_of_mean</th></tr>\n",
       "</thead>\n",
       "<tbody>\n",
       "\t<tr><th scope=row>total_count</th><td>251</td><td>732</td><td>1567</td><td>2360.93</td><td>2973</td><td>32294</td><td>12580.34</td><td>5135.903</td></tr>\n",
       "</tbody>\n",
       "</table>\n"
      ],
      "text/latex": [
       "A matrix: 1 × 8 of type dbl\n",
       "\\begin{tabular}{r|llllllll}\n",
       "  & Min. & 1st Qu. & Median & Mean & 3rd Qu. & Max. & sd & sd\\_err\\_of\\_mean\\\\\n",
       "\\hline\n",
       "\ttotal\\_count & 251 & 732 & 1567 & 2360.93 & 2973 & 32294 & 12580.34 & 5135.903\\\\\n",
       "\\end{tabular}\n"
      ],
      "text/markdown": [
       "\n",
       "A matrix: 1 × 8 of type dbl\n",
       "\n",
       "| <!--/--> | Min. | 1st Qu. | Median | Mean | 3rd Qu. | Max. | sd | sd_err_of_mean |\n",
       "|---|---|---|---|---|---|---|---|---|\n",
       "| total_count | 251 | 732 | 1567 | 2360.93 | 2973 | 32294 | 12580.34 | 5135.903 |\n",
       "\n"
      ],
      "text/plain": [
       "            Min. 1st Qu. Median Mean    3rd Qu. Max.  sd       sd_err_of_mean\n",
       "total_count 251  732     1567   2360.93 2973    32294 12580.34 5135.903      "
      ]
     },
     "metadata": {},
     "output_type": "display_data"
    }
   ],
   "source": [
    "# total counts per sample\n",
    "otu %>%\n",
    "    dt_summarize(total_count = sum(Count), by=c(Sample)) %>%\n",
    "    dt_pull(total_count) %>% summary_x('total_count')"
   ]
  },
  {
   "cell_type": "code",
   "execution_count": 60,
   "metadata": {
    "ExecuteTime": {
     "end_time": "2020-06-15T13:54:08.475702Z",
     "start_time": "2020-06-15T13:54:08.266Z"
    }
   },
   "outputs": [
    {
     "data": {
      "text/html": [
       "<table>\n",
       "<caption>A matrix: 1 × 8 of type dbl</caption>\n",
       "<thead>\n",
       "\t<tr><th></th><th scope=col>Min.</th><th scope=col>1st Qu.</th><th scope=col>Median</th><th scope=col>Mean</th><th scope=col>3rd Qu.</th><th scope=col>Max.</th><th scope=col>sd</th><th scope=col>sd_err_of_mean</th></tr>\n",
       "</thead>\n",
       "<tbody>\n",
       "\t<tr><th scope=row>.</th><td>0</td><td>0</td><td>0</td><td>0.05288207</td><td>0</td><td>94.38129</td><td>38.527</td><td>15.728</td></tr>\n",
       "</tbody>\n",
       "</table>\n"
      ],
      "text/latex": [
       "A matrix: 1 × 8 of type dbl\n",
       "\\begin{tabular}{r|llllllll}\n",
       "  & Min. & 1st Qu. & Median & Mean & 3rd Qu. & Max. & sd & sd\\_err\\_of\\_mean\\\\\n",
       "\\hline\n",
       "\t. & 0 & 0 & 0 & 0.05288207 & 0 & 94.38129 & 38.527 & 15.728\\\\\n",
       "\\end{tabular}\n"
      ],
      "text/markdown": [
       "\n",
       "A matrix: 1 × 8 of type dbl\n",
       "\n",
       "| <!--/--> | Min. | 1st Qu. | Median | Mean | 3rd Qu. | Max. | sd | sd_err_of_mean |\n",
       "|---|---|---|---|---|---|---|---|---|\n",
       "| . | 0 | 0 | 0 | 0.05288207 | 0 | 94.38129 | 38.527 | 15.728 |\n",
       "\n"
      ],
      "text/plain": [
       "  Min. 1st Qu. Median Mean       3rd Qu. Max.     sd     sd_err_of_mean\n",
       ". 0    0       0      0.05288207 0       94.38129 38.527 15.728        "
      ]
     },
     "metadata": {},
     "output_type": "display_data"
    }
   ],
   "source": [
    "# perc abundance\n",
    "otu = otu %>%\n",
    "    dt_mutate(total_count = sum(Count), by=c(Sample)) %>%\n",
    "    dt_mutate(perc_abund = Count / total_count * 100) \n",
    "\n",
    "otu %>% dt_pull(perc_abund) %>% summary_x"
   ]
  },
  {
   "cell_type": "markdown",
   "metadata": {
    "ExecuteTime": {
     "end_time": "2020-05-22T09:20:42.769432Z",
     "start_time": "2020-05-22T09:20:42.685Z"
    }
   },
   "source": [
    "### Phylum"
   ]
  },
  {
   "cell_type": "code",
   "execution_count": 61,
   "metadata": {
    "ExecuteTime": {
     "end_time": "2020-06-15T13:54:09.464039Z",
     "start_time": "2020-06-15T13:54:09.307Z"
    }
   },
   "outputs": [
    {
     "data": {
      "text/html": [
       "<table>\n",
       "<caption>A data.table: 1110 × 3</caption>\n",
       "<thead>\n",
       "\t<tr><th scope=col>Sample</th><th scope=col>Phylum</th><th scope=col>perc_abund</th></tr>\n",
       "\t<tr><th scope=col>&lt;chr&gt;</th><th scope=col>&lt;chr&gt;</th><th scope=col>&lt;dbl&gt;</th></tr>\n",
       "</thead>\n",
       "<tbody>\n",
       "\t<tr><td>F14_Common_Bream</td><td>Euryarchaeota</td><td>99.53717</td></tr>\n",
       "\t<tr><td>F35_Red_Deer    </td><td>Euryarchaeota</td><td>99.78655</td></tr>\n",
       "\t<tr><td>⋮</td><td>⋮</td><td>⋮</td></tr>\n",
       "\t<tr><td>X431_Quagga     </td><td>Crenarchaeota</td><td>0</td></tr>\n",
       "\t<tr><td>X67_European_Roe</td><td>Crenarchaeota</td><td>0</td></tr>\n",
       "</tbody>\n",
       "</table>\n"
      ],
      "text/latex": [
       "A data.table: 1110 × 3\n",
       "\\begin{tabular}{lll}\n",
       " Sample & Phylum & perc\\_abund\\\\\n",
       " <chr> & <chr> & <dbl>\\\\\n",
       "\\hline\n",
       "\t F14\\_Common\\_Bream & Euryarchaeota & 99.53717\\\\\n",
       "\t F35\\_Red\\_Deer     & Euryarchaeota & 99.78655\\\\\n",
       "\t ⋮ & ⋮ & ⋮\\\\\n",
       "\t X431\\_Quagga      & Crenarchaeota & 0\\\\\n",
       "\t X67\\_European\\_Roe & Crenarchaeota & 0\\\\\n",
       "\\end{tabular}\n"
      ],
      "text/markdown": [
       "\n",
       "A data.table: 1110 × 3\n",
       "\n",
       "| Sample &lt;chr&gt; | Phylum &lt;chr&gt; | perc_abund &lt;dbl&gt; |\n",
       "|---|---|---|\n",
       "| F14_Common_Bream | Euryarchaeota | 99.53717 |\n",
       "| F35_Red_Deer     | Euryarchaeota | 99.78655 |\n",
       "| ⋮ | ⋮ | ⋮ |\n",
       "| X431_Quagga      | Crenarchaeota | 0 |\n",
       "| X67_European_Roe | Crenarchaeota | 0 |\n",
       "\n"
      ],
      "text/plain": [
       "     Sample           Phylum        perc_abund\n",
       "1    F14_Common_Bream Euryarchaeota 99.53717  \n",
       "2    F35_Red_Deer     Euryarchaeota 99.78655  \n",
       "⋮    ⋮                ⋮             ⋮         \n",
       "1109 X431_Quagga      Crenarchaeota 0         \n",
       "1110 X67_European_Roe Crenarchaeota 0         "
      ]
     },
     "metadata": {},
     "output_type": "display_data"
    }
   ],
   "source": [
    "phylum = otu %>%\n",
    "    dt_summarize(perc_abund = sum(perc_abund),\n",
    "                 by=c(Sample, Phylum))\n",
    "phylum "
   ]
  },
  {
   "cell_type": "code",
   "execution_count": 62,
   "metadata": {
    "ExecuteTime": {
     "end_time": "2020-06-15T13:54:09.665736Z",
     "start_time": "2020-06-15T13:54:09.555Z"
    }
   },
   "outputs": [
    {
     "name": "stdout",
     "output_type": "stream",
     "text": [
      "No. of unique Phyla: 6 \n"
     ]
    },
    {
     "data": {
      "text/html": [
       "<ol class=list-inline>\n",
       "\t<li>'Euryarchaeota'</li>\n",
       "\t<li>'Nanoarchaeaeota'</li>\n",
       "\t<li>'Thaumarchaeota'</li>\n",
       "\t<li>'Diapherotrites'</li>\n",
       "\t<li>'Asgardaeota'</li>\n",
       "\t<li>'Crenarchaeota'</li>\n",
       "</ol>\n"
      ],
      "text/latex": [
       "\\begin{enumerate*}\n",
       "\\item 'Euryarchaeota'\n",
       "\\item 'Nanoarchaeaeota'\n",
       "\\item 'Thaumarchaeota'\n",
       "\\item 'Diapherotrites'\n",
       "\\item 'Asgardaeota'\n",
       "\\item 'Crenarchaeota'\n",
       "\\end{enumerate*}\n"
      ],
      "text/markdown": [
       "1. 'Euryarchaeota'\n",
       "2. 'Nanoarchaeaeota'\n",
       "3. 'Thaumarchaeota'\n",
       "4. 'Diapherotrites'\n",
       "5. 'Asgardaeota'\n",
       "6. 'Crenarchaeota'\n",
       "\n",
       "\n"
      ],
      "text/plain": [
       "[1] \"Euryarchaeota\"   \"Nanoarchaeaeota\" \"Thaumarchaeota\"  \"Diapherotrites\" \n",
       "[5] \"Asgardaeota\"     \"Crenarchaeota\"  "
      ]
     },
     "metadata": {},
     "output_type": "display_data"
    }
   ],
   "source": [
    "# summarizing\n",
    "phylum %>% unique_n('Phyla', Phylum)\n",
    "phylum %>% dt_pull(Phylum) %>% unique"
   ]
  },
  {
   "cell_type": "code",
   "execution_count": 63,
   "metadata": {
    "ExecuteTime": {
     "end_time": "2020-06-15T13:54:10.191292Z",
     "start_time": "2020-06-15T13:54:10.075Z"
    }
   },
   "outputs": [
    {
     "data": {
      "text/html": [
       "<table>\n",
       "<caption>A data.frame: 6 × 2</caption>\n",
       "<thead>\n",
       "\t<tr><th scope=col>Phylum</th><th scope=col>mean_abund</th></tr>\n",
       "\t<tr><th scope=col>&lt;chr&gt;</th><th scope=col>&lt;dbl&gt;</th></tr>\n",
       "</thead>\n",
       "<tbody>\n",
       "\t<tr><td>Euryarchaeota  </td><td>94.592923120</td></tr>\n",
       "\t<tr><td>Thaumarchaeota </td><td> 4.991003406</td></tr>\n",
       "\t<tr><td>Crenarchaeota  </td><td> 0.347218110</td></tr>\n",
       "\t<tr><td>Nanoarchaeaeota</td><td> 0.064042155</td></tr>\n",
       "\t<tr><td>Asgardaeota    </td><td> 0.002896399</td></tr>\n",
       "\t<tr><td>Diapherotrites </td><td> 0.001916810</td></tr>\n",
       "</tbody>\n",
       "</table>\n"
      ],
      "text/latex": [
       "A data.frame: 6 × 2\n",
       "\\begin{tabular}{ll}\n",
       " Phylum & mean\\_abund\\\\\n",
       " <chr> & <dbl>\\\\\n",
       "\\hline\n",
       "\t Euryarchaeota   & 94.592923120\\\\\n",
       "\t Thaumarchaeota  &  4.991003406\\\\\n",
       "\t Crenarchaeota   &  0.347218110\\\\\n",
       "\t Nanoarchaeaeota &  0.064042155\\\\\n",
       "\t Asgardaeota     &  0.002896399\\\\\n",
       "\t Diapherotrites  &  0.001916810\\\\\n",
       "\\end{tabular}\n"
      ],
      "text/markdown": [
       "\n",
       "A data.frame: 6 × 2\n",
       "\n",
       "| Phylum &lt;chr&gt; | mean_abund &lt;dbl&gt; |\n",
       "|---|---|\n",
       "| Euryarchaeota   | 94.592923120 |\n",
       "| Thaumarchaeota  |  4.991003406 |\n",
       "| Crenarchaeota   |  0.347218110 |\n",
       "| Nanoarchaeaeota |  0.064042155 |\n",
       "| Asgardaeota     |  0.002896399 |\n",
       "| Diapherotrites  |  0.001916810 |\n",
       "\n"
      ],
      "text/plain": [
       "  Phylum          mean_abund  \n",
       "1 Euryarchaeota   94.592923120\n",
       "2 Thaumarchaeota   4.991003406\n",
       "3 Crenarchaeota    0.347218110\n",
       "4 Nanoarchaeaeota  0.064042155\n",
       "5 Asgardaeota      0.002896399\n",
       "6 Diapherotrites   0.001916810"
      ]
     },
     "metadata": {},
     "output_type": "display_data"
    }
   ],
   "source": [
    "# ordering by overall abundance\n",
    "x = phylum %>%\n",
    "    dt_summarize(mean_abund = mean(perc_abund), by=c(Phylum)) %>%\n",
    "    arrange(-mean_abund)\n",
    "df.dims(10)\n",
    "x\n",
    "df.dims()"
   ]
  },
  {
   "cell_type": "code",
   "execution_count": 64,
   "metadata": {
    "ExecuteTime": {
     "end_time": "2020-06-15T13:54:10.640814Z",
     "start_time": "2020-06-15T13:54:10.584Z"
    }
   },
   "outputs": [
    {
     "data": {
      "text/html": [
       "<ol class=list-inline>\n",
       "\t<li>'Sample'</li>\n",
       "\t<li>'Euryarchaeota'</li>\n",
       "\t<li>'Thaumarchaeota'</li>\n",
       "\t<li>'Crenarchaeota'</li>\n",
       "\t<li>'Nanoarchaeaeota'</li>\n",
       "\t<li>'Asgardaeota'</li>\n",
       "\t<li>'Diapherotrites'</li>\n",
       "</ol>\n"
      ],
      "text/latex": [
       "\\begin{enumerate*}\n",
       "\\item 'Sample'\n",
       "\\item 'Euryarchaeota'\n",
       "\\item 'Thaumarchaeota'\n",
       "\\item 'Crenarchaeota'\n",
       "\\item 'Nanoarchaeaeota'\n",
       "\\item 'Asgardaeota'\n",
       "\\item 'Diapherotrites'\n",
       "\\end{enumerate*}\n"
      ],
      "text/markdown": [
       "1. 'Sample'\n",
       "2. 'Euryarchaeota'\n",
       "3. 'Thaumarchaeota'\n",
       "4. 'Crenarchaeota'\n",
       "5. 'Nanoarchaeaeota'\n",
       "6. 'Asgardaeota'\n",
       "7. 'Diapherotrites'\n",
       "\n",
       "\n"
      ],
      "text/plain": [
       "[1] \"Sample\"          \"Euryarchaeota\"   \"Thaumarchaeota\"  \"Crenarchaeota\"  \n",
       "[5] \"Nanoarchaeaeota\" \"Asgardaeota\"     \"Diapherotrites\" "
      ]
     },
     "metadata": {},
     "output_type": "display_data"
    }
   ],
   "source": [
    "# sorting\n",
    "phy_by_abund = x$Phylum\n",
    "phy_by_abund = c('Sample', phy_by_abund)\n",
    "phy_by_abund"
   ]
  },
  {
   "cell_type": "code",
   "execution_count": 65,
   "metadata": {
    "ExecuteTime": {
     "end_time": "2020-06-15T13:54:11.512128Z",
     "start_time": "2020-06-15T13:54:11.248Z"
    }
   },
   "outputs": [
    {
     "data": {
      "text/html": [
       "<table>\n",
       "<caption>A data.frame: 185 × 6</caption>\n",
       "<thead>\n",
       "\t<tr><th></th><th scope=col>Euryarchaeota</th><th scope=col>Thaumarchaeota</th><th scope=col>Crenarchaeota</th><th scope=col>Nanoarchaeaeota</th><th scope=col>Asgardaeota</th><th scope=col>Diapherotrites</th></tr>\n",
       "\t<tr><th></th><th scope=col>&lt;dbl&gt;</th><th scope=col>&lt;dbl&gt;</th><th scope=col>&lt;dbl&gt;</th><th scope=col>&lt;dbl&gt;</th><th scope=col>&lt;dbl&gt;</th><th scope=col>&lt;dbl&gt;</th></tr>\n",
       "</thead>\n",
       "<tbody>\n",
       "\t<tr><th scope=row>F14_Common_Bream</th><td>99.53717</td><td> 0.00000</td><td>0.4049754</td><td>0.05785363</td><td>0</td><td>0</td></tr>\n",
       "\t<tr><th scope=row>F157a_European_Toad</th><td>78.35821</td><td>21.64179</td><td>0.0000000</td><td>0.00000000</td><td>0</td><td>0</td></tr>\n",
       "\t<tr><th scope=row>⋮</th><td>⋮</td><td>⋮</td><td>⋮</td><td>⋮</td><td>⋮</td><td>⋮</td></tr>\n",
       "\t<tr><th scope=row>X95_Meadow_Viper</th><td>  4.253308</td><td>95.74669</td><td>0</td><td>0</td><td>0</td><td>0</td></tr>\n",
       "\t<tr><th scope=row>X96_European_Hare</th><td>100.000000</td><td> 0.00000</td><td>0</td><td>0</td><td>0</td><td>0</td></tr>\n",
       "</tbody>\n",
       "</table>\n"
      ],
      "text/latex": [
       "A data.frame: 185 × 6\n",
       "\\begin{tabular}{r|llllll}\n",
       "  & Euryarchaeota & Thaumarchaeota & Crenarchaeota & Nanoarchaeaeota & Asgardaeota & Diapherotrites\\\\\n",
       "  & <dbl> & <dbl> & <dbl> & <dbl> & <dbl> & <dbl>\\\\\n",
       "\\hline\n",
       "\tF14\\_Common\\_Bream & 99.53717 &  0.00000 & 0.4049754 & 0.05785363 & 0 & 0\\\\\n",
       "\tF157a\\_European\\_Toad & 78.35821 & 21.64179 & 0.0000000 & 0.00000000 & 0 & 0\\\\\n",
       "\t⋮ & ⋮ & ⋮ & ⋮ & ⋮ & ⋮ & ⋮\\\\\n",
       "\tX95\\_Meadow\\_Viper &   4.253308 & 95.74669 & 0 & 0 & 0 & 0\\\\\n",
       "\tX96\\_European\\_Hare & 100.000000 &  0.00000 & 0 & 0 & 0 & 0\\\\\n",
       "\\end{tabular}\n"
      ],
      "text/markdown": [
       "\n",
       "A data.frame: 185 × 6\n",
       "\n",
       "| <!--/--> | Euryarchaeota &lt;dbl&gt; | Thaumarchaeota &lt;dbl&gt; | Crenarchaeota &lt;dbl&gt; | Nanoarchaeaeota &lt;dbl&gt; | Asgardaeota &lt;dbl&gt; | Diapherotrites &lt;dbl&gt; |\n",
       "|---|---|---|---|---|---|---|\n",
       "| F14_Common_Bream | 99.53717 |  0.00000 | 0.4049754 | 0.05785363 | 0 | 0 |\n",
       "| F157a_European_Toad | 78.35821 | 21.64179 | 0.0000000 | 0.00000000 | 0 | 0 |\n",
       "| ⋮ | ⋮ | ⋮ | ⋮ | ⋮ | ⋮ | ⋮ |\n",
       "| X95_Meadow_Viper |   4.253308 | 95.74669 | 0 | 0 | 0 | 0 |\n",
       "| X96_European_Hare | 100.000000 |  0.00000 | 0 | 0 | 0 | 0 |\n",
       "\n"
      ],
      "text/plain": [
       "                    Euryarchaeota Thaumarchaeota Crenarchaeota Nanoarchaeaeota\n",
       "F14_Common_Bream    99.53717       0.00000       0.4049754     0.05785363     \n",
       "F157a_European_Toad 78.35821      21.64179       0.0000000     0.00000000     \n",
       "⋮                   ⋮             ⋮              ⋮             ⋮              \n",
       "X95_Meadow_Viper      4.253308    95.74669       0             0              \n",
       "X96_European_Hare   100.000000     0.00000       0             0              \n",
       "                    Asgardaeota Diapherotrites\n",
       "F14_Common_Bream    0           0             \n",
       "F157a_European_Toad 0           0             \n",
       "⋮                   ⋮           ⋮             \n",
       "X95_Meadow_Viper    0           0             \n",
       "X96_European_Hare   0           0             "
      ]
     },
     "metadata": {},
     "output_type": "display_data"
    }
   ],
   "source": [
    "# creating multi-bar \n",
    "x = phylum %>%\n",
    "    dt_pivot_wider(names_from=Phylum, values_from=perc_abund) %>%\n",
    "    dt_select({{phy_by_abund}}) %>%\n",
    "    as.data.frame \n",
    "rownames(x) = x$Sample\n",
    "x$Sample = NULL\n",
    "x"
   ]
  },
  {
   "cell_type": "code",
   "execution_count": 66,
   "metadata": {
    "ExecuteTime": {
     "end_time": "2020-06-15T13:54:11.859696Z",
     "start_time": "2020-06-15T13:54:11.801Z"
    }
   },
   "outputs": [
    {
     "name": "stdout",
     "output_type": "stream",
     "text": [
      "File written: /ebio/abt3_projects/Georg_animal_feces/data/16S_arch/MiSeq-Runs-116-122-126-189-190/LLA/dataset_explore//IndD_phylum-abund_multibar.txt \n"
     ]
    }
   ],
   "source": [
    "# writing itol input file\n",
    "F = file.path(work_dir, 'IndD_phylum-abund_multibar.txt')\n",
    "itol_multibar(x, 'Phylum_perc_abund', F)"
   ]
  },
  {
   "cell_type": "markdown",
   "metadata": {},
   "source": [
    "#### Abundance summary"
   ]
  },
  {
   "cell_type": "code",
   "execution_count": 67,
   "metadata": {
    "ExecuteTime": {
     "end_time": "2020-06-15T13:54:13.315182Z",
     "start_time": "2020-06-15T13:54:13.172Z"
    }
   },
   "outputs": [
    {
     "data": {
      "text/html": [
       "<table>\n",
       "<caption>A data.table: 6 × 4</caption>\n",
       "<thead>\n",
       "\t<tr><th scope=col>Phylum</th><th scope=col>Mean Perc. Abund.</th><th scope=col>s.d. Perc. Abund.</th><th scope=col>Max Perc. Abund.</th></tr>\n",
       "\t<tr><th scope=col>&lt;chr&gt;</th><th scope=col>&lt;dbl&gt;</th><th scope=col>&lt;dbl&gt;</th><th scope=col>&lt;dbl&gt;</th></tr>\n",
       "</thead>\n",
       "<tbody>\n",
       "\t<tr><td>Euryarchaeota  </td><td>94.6</td><td>18.5</td><td>100.0</td></tr>\n",
       "\t<tr><td>Thaumarchaeota </td><td> 5.0</td><td>17.7</td><td>100.0</td></tr>\n",
       "\t<tr><td>Crenarchaeota  </td><td> 0.3</td><td> 3.4</td><td> 42.2</td></tr>\n",
       "\t<tr><td>Nanoarchaeaeota</td><td> 0.1</td><td> 0.4</td><td>  3.6</td></tr>\n",
       "\t<tr><td>Diapherotrites </td><td> 0.0</td><td> 0.0</td><td>  0.4</td></tr>\n",
       "\t<tr><td>Asgardaeota    </td><td> 0.0</td><td> 0.0</td><td>  0.5</td></tr>\n",
       "</tbody>\n",
       "</table>\n"
      ],
      "text/latex": [
       "A data.table: 6 × 4\n",
       "\\begin{tabular}{llll}\n",
       " Phylum & Mean Perc. Abund. & s.d. Perc. Abund. & Max Perc. Abund.\\\\\n",
       " <chr> & <dbl> & <dbl> & <dbl>\\\\\n",
       "\\hline\n",
       "\t Euryarchaeota   & 94.6 & 18.5 & 100.0\\\\\n",
       "\t Thaumarchaeota  &  5.0 & 17.7 & 100.0\\\\\n",
       "\t Crenarchaeota   &  0.3 &  3.4 &  42.2\\\\\n",
       "\t Nanoarchaeaeota &  0.1 &  0.4 &   3.6\\\\\n",
       "\t Diapherotrites  &  0.0 &  0.0 &   0.4\\\\\n",
       "\t Asgardaeota     &  0.0 &  0.0 &   0.5\\\\\n",
       "\\end{tabular}\n"
      ],
      "text/markdown": [
       "\n",
       "A data.table: 6 × 4\n",
       "\n",
       "| Phylum &lt;chr&gt; | Mean Perc. Abund. &lt;dbl&gt; | s.d. Perc. Abund. &lt;dbl&gt; | Max Perc. Abund. &lt;dbl&gt; |\n",
       "|---|---|---|---|\n",
       "| Euryarchaeota   | 94.6 | 18.5 | 100.0 |\n",
       "| Thaumarchaeota  |  5.0 | 17.7 | 100.0 |\n",
       "| Crenarchaeota   |  0.3 |  3.4 |  42.2 |\n",
       "| Nanoarchaeaeota |  0.1 |  0.4 |   3.6 |\n",
       "| Diapherotrites  |  0.0 |  0.0 |   0.4 |\n",
       "| Asgardaeota     |  0.0 |  0.0 |   0.5 |\n",
       "\n"
      ],
      "text/plain": [
       "  Phylum          Mean Perc. Abund. s.d. Perc. Abund. Max Perc. Abund.\n",
       "1 Euryarchaeota   94.6              18.5              100.0           \n",
       "2 Thaumarchaeota   5.0              17.7              100.0           \n",
       "3 Crenarchaeota    0.3               3.4               42.2           \n",
       "4 Nanoarchaeaeota  0.1               0.4                3.6           \n",
       "5 Diapherotrites   0.0               0.0                0.4           \n",
       "6 Asgardaeota      0.0               0.0                0.5           "
      ]
     },
     "metadata": {},
     "output_type": "display_data"
    }
   ],
   "source": [
    "df.dims(10)\n",
    "phylum %>%\n",
    "    dt_summarize(mean_abund = mean(perc_abund), \n",
    "                 sd_abund = sd(perc_abund),\n",
    "                 max_abund = max(perc_abund),\n",
    "                 by=c(Phylum)) %>%\n",
    "    dt_mutate_across(is.numeric, function(x) round(x,1)) %>%\n",
    "    dt_arrange(-mean_abund) %>%\n",
    "    dt_rename('Mean Perc. Abund.' = mean_abund,\n",
    "              's.d. Perc. Abund.' = sd_abund,\n",
    "              'Max Perc. Abund.' = max_abund)\n",
    "df.dims()"
   ]
  },
  {
   "cell_type": "markdown",
   "metadata": {},
   "source": [
    "### Class"
   ]
  },
  {
   "cell_type": "code",
   "execution_count": 68,
   "metadata": {
    "ExecuteTime": {
     "end_time": "2020-06-15T13:54:14.996161Z",
     "start_time": "2020-06-15T13:54:14.803Z"
    }
   },
   "outputs": [
    {
     "data": {
      "text/html": [
       "<table>\n",
       "<caption>A data.table: 2035 × 3</caption>\n",
       "<thead>\n",
       "\t<tr><th scope=col>Sample</th><th scope=col>perc_abund</th><th scope=col>Taxonomy</th></tr>\n",
       "\t<tr><th scope=col>&lt;chr&gt;</th><th scope=col>&lt;dbl&gt;</th><th scope=col>&lt;chr&gt;</th></tr>\n",
       "</thead>\n",
       "<tbody>\n",
       "\t<tr><td>F14_Common_Bream</td><td>75.58577</td><td>Euryarchaeota;Methanobacteria</td></tr>\n",
       "\t<tr><td>F35_Red_Deer    </td><td>65.90181</td><td>Euryarchaeota;Methanobacteria</td></tr>\n",
       "\t<tr><td>⋮</td><td>⋮</td><td>⋮</td></tr>\n",
       "\t<tr><td>X431_Quagga     </td><td>0</td><td>Euryarchaeota;unclassified</td></tr>\n",
       "\t<tr><td>X67_European_Roe</td><td>0</td><td>Euryarchaeota;unclassified</td></tr>\n",
       "</tbody>\n",
       "</table>\n"
      ],
      "text/latex": [
       "A data.table: 2035 × 3\n",
       "\\begin{tabular}{lll}\n",
       " Sample & perc\\_abund & Taxonomy\\\\\n",
       " <chr> & <dbl> & <chr>\\\\\n",
       "\\hline\n",
       "\t F14\\_Common\\_Bream & 75.58577 & Euryarchaeota;Methanobacteria\\\\\n",
       "\t F35\\_Red\\_Deer     & 65.90181 & Euryarchaeota;Methanobacteria\\\\\n",
       "\t ⋮ & ⋮ & ⋮\\\\\n",
       "\t X431\\_Quagga      & 0 & Euryarchaeota;unclassified\\\\\n",
       "\t X67\\_European\\_Roe & 0 & Euryarchaeota;unclassified\\\\\n",
       "\\end{tabular}\n"
      ],
      "text/markdown": [
       "\n",
       "A data.table: 2035 × 3\n",
       "\n",
       "| Sample &lt;chr&gt; | perc_abund &lt;dbl&gt; | Taxonomy &lt;chr&gt; |\n",
       "|---|---|---|\n",
       "| F14_Common_Bream | 75.58577 | Euryarchaeota;Methanobacteria |\n",
       "| F35_Red_Deer     | 65.90181 | Euryarchaeota;Methanobacteria |\n",
       "| ⋮ | ⋮ | ⋮ |\n",
       "| X431_Quagga      | 0 | Euryarchaeota;unclassified |\n",
       "| X67_European_Roe | 0 | Euryarchaeota;unclassified |\n",
       "\n"
      ],
      "text/plain": [
       "     Sample           perc_abund Taxonomy                     \n",
       "1    F14_Common_Bream 75.58577   Euryarchaeota;Methanobacteria\n",
       "2    F35_Red_Deer     65.90181   Euryarchaeota;Methanobacteria\n",
       "⋮    ⋮                ⋮          ⋮                            \n",
       "2034 X431_Quagga      0          Euryarchaeota;unclassified   \n",
       "2035 X67_European_Roe 0          Euryarchaeota;unclassified   "
      ]
     },
     "metadata": {},
     "output_type": "display_data"
    }
   ],
   "source": [
    "otu_s = otu %>%\n",
    "    dt_summarize(perc_abund = sum(perc_abund),\n",
    "                 by=c(Sample, Phylum, Class)) %>%\n",
    "    dt_mutate(Taxonomy = paste(Phylum, Class, sep=';')) %>%\n",
    "    dt_select(-Phylum, -Class)\n",
    "otu_s"
   ]
  },
  {
   "cell_type": "code",
   "execution_count": 69,
   "metadata": {
    "ExecuteTime": {
     "end_time": "2020-06-15T13:54:15.674420Z",
     "start_time": "2020-06-15T13:54:15.559Z"
    }
   },
   "outputs": [
    {
     "name": "stdout",
     "output_type": "stream",
     "text": [
      "No. of unique Classes: 11 \n"
     ]
    },
    {
     "data": {
      "text/html": [
       "<ol class=list-inline>\n",
       "\t<li>'Euryarchaeota;Methanobacteria'</li>\n",
       "\t<li>'Euryarchaeota;Thermococci'</li>\n",
       "\t<li>'Nanoarchaeaeota;Woesearchaeia'</li>\n",
       "\t<li>'Euryarchaeota;Halobacteria'</li>\n",
       "\t<li>'Euryarchaeota;Methanomicrobia'</li>\n",
       "\t<li>'Euryarchaeota;Thermoplasmata'</li>\n",
       "\t<li>'Thaumarchaeota;Nitrososphaeria'</li>\n",
       "\t<li>'Diapherotrites;Iainarchaeia'</li>\n",
       "\t<li>'Asgardaeota;Odinarchaeia'</li>\n",
       "\t<li>'Crenarchaeota;Bathyarchaeia'</li>\n",
       "\t<li>'Euryarchaeota;unclassified'</li>\n",
       "</ol>\n"
      ],
      "text/latex": [
       "\\begin{enumerate*}\n",
       "\\item 'Euryarchaeota;Methanobacteria'\n",
       "\\item 'Euryarchaeota;Thermococci'\n",
       "\\item 'Nanoarchaeaeota;Woesearchaeia'\n",
       "\\item 'Euryarchaeota;Halobacteria'\n",
       "\\item 'Euryarchaeota;Methanomicrobia'\n",
       "\\item 'Euryarchaeota;Thermoplasmata'\n",
       "\\item 'Thaumarchaeota;Nitrososphaeria'\n",
       "\\item 'Diapherotrites;Iainarchaeia'\n",
       "\\item 'Asgardaeota;Odinarchaeia'\n",
       "\\item 'Crenarchaeota;Bathyarchaeia'\n",
       "\\item 'Euryarchaeota;unclassified'\n",
       "\\end{enumerate*}\n"
      ],
      "text/markdown": [
       "1. 'Euryarchaeota;Methanobacteria'\n",
       "2. 'Euryarchaeota;Thermococci'\n",
       "3. 'Nanoarchaeaeota;Woesearchaeia'\n",
       "4. 'Euryarchaeota;Halobacteria'\n",
       "5. 'Euryarchaeota;Methanomicrobia'\n",
       "6. 'Euryarchaeota;Thermoplasmata'\n",
       "7. 'Thaumarchaeota;Nitrososphaeria'\n",
       "8. 'Diapherotrites;Iainarchaeia'\n",
       "9. 'Asgardaeota;Odinarchaeia'\n",
       "10. 'Crenarchaeota;Bathyarchaeia'\n",
       "11. 'Euryarchaeota;unclassified'\n",
       "\n",
       "\n"
      ],
      "text/plain": [
       " [1] \"Euryarchaeota;Methanobacteria\"  \"Euryarchaeota;Thermococci\"     \n",
       " [3] \"Nanoarchaeaeota;Woesearchaeia\"  \"Euryarchaeota;Halobacteria\"    \n",
       " [5] \"Euryarchaeota;Methanomicrobia\"  \"Euryarchaeota;Thermoplasmata\"  \n",
       " [7] \"Thaumarchaeota;Nitrososphaeria\" \"Diapherotrites;Iainarchaeia\"   \n",
       " [9] \"Asgardaeota;Odinarchaeia\"       \"Crenarchaeota;Bathyarchaeia\"   \n",
       "[11] \"Euryarchaeota;unclassified\"    "
      ]
     },
     "metadata": {},
     "output_type": "display_data"
    }
   ],
   "source": [
    "# summarizing\n",
    "otu_s %>% unique_n('Classes', Taxonomy)\n",
    "otu_s %>% dt_pull(Taxonomy) %>% unique"
   ]
  },
  {
   "cell_type": "code",
   "execution_count": 70,
   "metadata": {
    "ExecuteTime": {
     "end_time": "2020-06-15T13:54:16.422264Z",
     "start_time": "2020-06-15T13:54:16.298Z"
    }
   },
   "outputs": [
    {
     "data": {
      "text/html": [
       "<table>\n",
       "<caption>A data.table: 2035 × 3</caption>\n",
       "<thead>\n",
       "\t<tr><th scope=col>Sample</th><th scope=col>perc_abund</th><th scope=col>Taxonomy</th></tr>\n",
       "\t<tr><th scope=col>&lt;chr&gt;</th><th scope=col>&lt;dbl&gt;</th><th scope=col>&lt;chr&gt;</th></tr>\n",
       "</thead>\n",
       "<tbody>\n",
       "\t<tr><td>F14_Common_Bream</td><td>75.58577</td><td>Euryarchaeota;Methanobacteria</td></tr>\n",
       "\t<tr><td>F35_Red_Deer    </td><td>65.90181</td><td>Euryarchaeota;Methanobacteria</td></tr>\n",
       "\t<tr><td>⋮</td><td>⋮</td><td>⋮</td></tr>\n",
       "\t<tr><td>X431_Quagga     </td><td>0</td><td>Other</td></tr>\n",
       "\t<tr><td>X67_European_Roe</td><td>0</td><td>Other</td></tr>\n",
       "</tbody>\n",
       "</table>\n"
      ],
      "text/latex": [
       "A data.table: 2035 × 3\n",
       "\\begin{tabular}{lll}\n",
       " Sample & perc\\_abund & Taxonomy\\\\\n",
       " <chr> & <dbl> & <chr>\\\\\n",
       "\\hline\n",
       "\t F14\\_Common\\_Bream & 75.58577 & Euryarchaeota;Methanobacteria\\\\\n",
       "\t F35\\_Red\\_Deer     & 65.90181 & Euryarchaeota;Methanobacteria\\\\\n",
       "\t ⋮ & ⋮ & ⋮\\\\\n",
       "\t X431\\_Quagga      & 0 & Other\\\\\n",
       "\t X67\\_European\\_Roe & 0 & Other\\\\\n",
       "\\end{tabular}\n"
      ],
      "text/markdown": [
       "\n",
       "A data.table: 2035 × 3\n",
       "\n",
       "| Sample &lt;chr&gt; | perc_abund &lt;dbl&gt; | Taxonomy &lt;chr&gt; |\n",
       "|---|---|---|\n",
       "| F14_Common_Bream | 75.58577 | Euryarchaeota;Methanobacteria |\n",
       "| F35_Red_Deer     | 65.90181 | Euryarchaeota;Methanobacteria |\n",
       "| ⋮ | ⋮ | ⋮ |\n",
       "| X431_Quagga      | 0 | Other |\n",
       "| X67_European_Roe | 0 | Other |\n",
       "\n"
      ],
      "text/plain": [
       "     Sample           perc_abund Taxonomy                     \n",
       "1    F14_Common_Bream 75.58577   Euryarchaeota;Methanobacteria\n",
       "2    F35_Red_Deer     65.90181   Euryarchaeota;Methanobacteria\n",
       "⋮    ⋮                ⋮          ⋮                            \n",
       "2034 X431_Quagga      0          Other                        \n",
       "2035 X67_European_Roe 0          Other                        "
      ]
     },
     "metadata": {},
     "output_type": "display_data"
    }
   ],
   "source": [
    "# changing rare to \"Other\"\n",
    "otu_s = otu_s %>%\n",
    "    dt_mutate(mean_perc_abund = mean(perc_abund), by=c(Taxonomy)) %>%\n",
    "    dt_mutate(Taxonomy = Taxonomy %>% as.character,\n",
    "              Taxonomy = ifelse(mean_perc_abund < 1, 'Other', Taxonomy)) %>%\n",
    "    dt_select(-mean_perc_abund)\n",
    "otu_s"
   ]
  },
  {
   "cell_type": "code",
   "execution_count": 71,
   "metadata": {
    "ExecuteTime": {
     "end_time": "2020-06-15T13:54:17.038828Z",
     "start_time": "2020-06-15T13:54:16.935Z"
    }
   },
   "outputs": [
    {
     "name": "stdout",
     "output_type": "stream",
     "text": [
      "No. of unique Classes: 6 \n"
     ]
    },
    {
     "data": {
      "text/html": [
       "<ol class=list-inline>\n",
       "\t<li>'Euryarchaeota;Methanobacteria'</li>\n",
       "\t<li>'Other'</li>\n",
       "\t<li>'Euryarchaeota;Halobacteria'</li>\n",
       "\t<li>'Euryarchaeota;Methanomicrobia'</li>\n",
       "\t<li>'Euryarchaeota;Thermoplasmata'</li>\n",
       "\t<li>'Thaumarchaeota;Nitrososphaeria'</li>\n",
       "</ol>\n"
      ],
      "text/latex": [
       "\\begin{enumerate*}\n",
       "\\item 'Euryarchaeota;Methanobacteria'\n",
       "\\item 'Other'\n",
       "\\item 'Euryarchaeota;Halobacteria'\n",
       "\\item 'Euryarchaeota;Methanomicrobia'\n",
       "\\item 'Euryarchaeota;Thermoplasmata'\n",
       "\\item 'Thaumarchaeota;Nitrososphaeria'\n",
       "\\end{enumerate*}\n"
      ],
      "text/markdown": [
       "1. 'Euryarchaeota;Methanobacteria'\n",
       "2. 'Other'\n",
       "3. 'Euryarchaeota;Halobacteria'\n",
       "4. 'Euryarchaeota;Methanomicrobia'\n",
       "5. 'Euryarchaeota;Thermoplasmata'\n",
       "6. 'Thaumarchaeota;Nitrososphaeria'\n",
       "\n",
       "\n"
      ],
      "text/plain": [
       "[1] \"Euryarchaeota;Methanobacteria\"  \"Other\"                         \n",
       "[3] \"Euryarchaeota;Halobacteria\"     \"Euryarchaeota;Methanomicrobia\" \n",
       "[5] \"Euryarchaeota;Thermoplasmata\"   \"Thaumarchaeota;Nitrososphaeria\""
      ]
     },
     "metadata": {},
     "output_type": "display_data"
    }
   ],
   "source": [
    "# summarizing\n",
    "otu_s %>% unique_n('Classes', Taxonomy)\n",
    "otu_s %>% dt_pull(Taxonomy) %>% unique"
   ]
  },
  {
   "cell_type": "code",
   "execution_count": 72,
   "metadata": {
    "ExecuteTime": {
     "end_time": "2020-06-15T13:54:17.856214Z",
     "start_time": "2020-06-15T13:54:17.700Z"
    }
   },
   "outputs": [
    {
     "data": {
      "text/html": [
       "<table>\n",
       "<caption>A data.frame: 6 × 2</caption>\n",
       "<thead>\n",
       "\t<tr><th scope=col>Taxonomy</th><th scope=col>mean_abund</th></tr>\n",
       "\t<tr><th scope=col>&lt;chr&gt;</th><th scope=col>&lt;dbl&gt;</th></tr>\n",
       "</thead>\n",
       "<tbody>\n",
       "\t<tr><td>Euryarchaeota;Methanobacteria </td><td>71.40408099</td></tr>\n",
       "\t<tr><td>Euryarchaeota;Methanomicrobia </td><td>11.31239599</td></tr>\n",
       "\t<tr><td>Euryarchaeota;Thermoplasmata  </td><td> 8.42753160</td></tr>\n",
       "\t<tr><td>Thaumarchaeota;Nitrososphaeria</td><td> 4.99100341</td></tr>\n",
       "\t<tr><td>Euryarchaeota;Halobacteria    </td><td> 3.33597332</td></tr>\n",
       "\t<tr><td>Other                         </td><td> 0.08816912</td></tr>\n",
       "</tbody>\n",
       "</table>\n"
      ],
      "text/latex": [
       "A data.frame: 6 × 2\n",
       "\\begin{tabular}{ll}\n",
       " Taxonomy & mean\\_abund\\\\\n",
       " <chr> & <dbl>\\\\\n",
       "\\hline\n",
       "\t Euryarchaeota;Methanobacteria  & 71.40408099\\\\\n",
       "\t Euryarchaeota;Methanomicrobia  & 11.31239599\\\\\n",
       "\t Euryarchaeota;Thermoplasmata   &  8.42753160\\\\\n",
       "\t Thaumarchaeota;Nitrososphaeria &  4.99100341\\\\\n",
       "\t Euryarchaeota;Halobacteria     &  3.33597332\\\\\n",
       "\t Other                          &  0.08816912\\\\\n",
       "\\end{tabular}\n"
      ],
      "text/markdown": [
       "\n",
       "A data.frame: 6 × 2\n",
       "\n",
       "| Taxonomy &lt;chr&gt; | mean_abund &lt;dbl&gt; |\n",
       "|---|---|\n",
       "| Euryarchaeota;Methanobacteria  | 71.40408099 |\n",
       "| Euryarchaeota;Methanomicrobia  | 11.31239599 |\n",
       "| Euryarchaeota;Thermoplasmata   |  8.42753160 |\n",
       "| Thaumarchaeota;Nitrososphaeria |  4.99100341 |\n",
       "| Euryarchaeota;Halobacteria     |  3.33597332 |\n",
       "| Other                          |  0.08816912 |\n",
       "\n"
      ],
      "text/plain": [
       "  Taxonomy                       mean_abund \n",
       "1 Euryarchaeota;Methanobacteria  71.40408099\n",
       "2 Euryarchaeota;Methanomicrobia  11.31239599\n",
       "3 Euryarchaeota;Thermoplasmata    8.42753160\n",
       "4 Thaumarchaeota;Nitrososphaeria  4.99100341\n",
       "5 Euryarchaeota;Halobacteria      3.33597332\n",
       "6 Other                           0.08816912"
      ]
     },
     "metadata": {},
     "output_type": "display_data"
    }
   ],
   "source": [
    "# ordering by overall abundance\n",
    "x = otu_s %>%\n",
    "    dt_summarize(mean_abund = mean(perc_abund), by=c(Taxonomy)) %>%\n",
    "    arrange(-mean_abund)\n",
    "df.dims(10)\n",
    "x\n",
    "df.dims()"
   ]
  },
  {
   "cell_type": "code",
   "execution_count": 73,
   "metadata": {
    "ExecuteTime": {
     "end_time": "2020-06-15T13:54:18.734264Z",
     "start_time": "2020-06-15T13:54:18.674Z"
    }
   },
   "outputs": [
    {
     "data": {
      "text/html": [
       "<ol class=list-inline>\n",
       "\t<li>'Sample'</li>\n",
       "\t<li>'Euryarchaeota;Methanobacteria'</li>\n",
       "\t<li>'Euryarchaeota;Methanomicrobia'</li>\n",
       "\t<li>'Euryarchaeota;Thermoplasmata'</li>\n",
       "\t<li>'Thaumarchaeota;Nitrososphaeria'</li>\n",
       "\t<li>'Euryarchaeota;Halobacteria'</li>\n",
       "\t<li>'Other'</li>\n",
       "</ol>\n"
      ],
      "text/latex": [
       "\\begin{enumerate*}\n",
       "\\item 'Sample'\n",
       "\\item 'Euryarchaeota;Methanobacteria'\n",
       "\\item 'Euryarchaeota;Methanomicrobia'\n",
       "\\item 'Euryarchaeota;Thermoplasmata'\n",
       "\\item 'Thaumarchaeota;Nitrososphaeria'\n",
       "\\item 'Euryarchaeota;Halobacteria'\n",
       "\\item 'Other'\n",
       "\\end{enumerate*}\n"
      ],
      "text/markdown": [
       "1. 'Sample'\n",
       "2. 'Euryarchaeota;Methanobacteria'\n",
       "3. 'Euryarchaeota;Methanomicrobia'\n",
       "4. 'Euryarchaeota;Thermoplasmata'\n",
       "5. 'Thaumarchaeota;Nitrososphaeria'\n",
       "6. 'Euryarchaeota;Halobacteria'\n",
       "7. 'Other'\n",
       "\n",
       "\n"
      ],
      "text/plain": [
       "[1] \"Sample\"                         \"Euryarchaeota;Methanobacteria\" \n",
       "[3] \"Euryarchaeota;Methanomicrobia\"  \"Euryarchaeota;Thermoplasmata\"  \n",
       "[5] \"Thaumarchaeota;Nitrososphaeria\" \"Euryarchaeota;Halobacteria\"    \n",
       "[7] \"Other\"                         "
      ]
     },
     "metadata": {},
     "output_type": "display_data"
    }
   ],
   "source": [
    "# sorting\n",
    "phy_by_abund = x$Taxonomy\n",
    "phy_by_abund = c('Sample', phy_by_abund)\n",
    "phy_by_abund"
   ]
  },
  {
   "cell_type": "code",
   "execution_count": 74,
   "metadata": {
    "ExecuteTime": {
     "end_time": "2020-06-15T13:54:19.971074Z",
     "start_time": "2020-06-15T13:54:19.617Z"
    }
   },
   "outputs": [
    {
     "data": {
      "text/html": [
       "<table>\n",
       "<caption>A data.frame: 185 × 6</caption>\n",
       "<thead>\n",
       "\t<tr><th></th><th scope=col>Euryarchaeota;Methanobacteria</th><th scope=col>Euryarchaeota;Methanomicrobia</th><th scope=col>Euryarchaeota;Thermoplasmata</th><th scope=col>Thaumarchaeota;Nitrososphaeria</th><th scope=col>Euryarchaeota;Halobacteria</th><th scope=col>Other</th></tr>\n",
       "\t<tr><th></th><th scope=col>&lt;dbl&gt;</th><th scope=col>&lt;dbl&gt;</th><th scope=col>&lt;dbl&gt;</th><th scope=col>&lt;dbl&gt;</th><th scope=col>&lt;dbl&gt;</th><th scope=col>&lt;dbl&gt;</th></tr>\n",
       "</thead>\n",
       "<tbody>\n",
       "\t<tr><th scope=row>F14_Common_Bream</th><td>75.58577</td><td>23.48857</td><td>0.462829</td><td> 0.00000</td><td>0</td><td>0.462829</td></tr>\n",
       "\t<tr><th scope=row>F157a_European_Toad</th><td>78.35821</td><td> 0.00000</td><td>0.000000</td><td>21.64179</td><td>0</td><td>0.000000</td></tr>\n",
       "\t<tr><th scope=row>⋮</th><td>⋮</td><td>⋮</td><td>⋮</td><td>⋮</td><td>⋮</td><td>⋮</td></tr>\n",
       "\t<tr><th scope=row>X95_Meadow_Viper</th><td>  0</td><td>3.497164</td><td>0.7561437</td><td>95.74669</td><td>0</td><td>0</td></tr>\n",
       "\t<tr><th scope=row>X96_European_Hare</th><td>100</td><td>0.000000</td><td>0.0000000</td><td> 0.00000</td><td>0</td><td>0</td></tr>\n",
       "</tbody>\n",
       "</table>\n"
      ],
      "text/latex": [
       "A data.frame: 185 × 6\n",
       "\\begin{tabular}{r|llllll}\n",
       "  & Euryarchaeota;Methanobacteria & Euryarchaeota;Methanomicrobia & Euryarchaeota;Thermoplasmata & Thaumarchaeota;Nitrososphaeria & Euryarchaeota;Halobacteria & Other\\\\\n",
       "  & <dbl> & <dbl> & <dbl> & <dbl> & <dbl> & <dbl>\\\\\n",
       "\\hline\n",
       "\tF14\\_Common\\_Bream & 75.58577 & 23.48857 & 0.462829 &  0.00000 & 0 & 0.462829\\\\\n",
       "\tF157a\\_European\\_Toad & 78.35821 &  0.00000 & 0.000000 & 21.64179 & 0 & 0.000000\\\\\n",
       "\t⋮ & ⋮ & ⋮ & ⋮ & ⋮ & ⋮ & ⋮\\\\\n",
       "\tX95\\_Meadow\\_Viper &   0 & 3.497164 & 0.7561437 & 95.74669 & 0 & 0\\\\\n",
       "\tX96\\_European\\_Hare & 100 & 0.000000 & 0.0000000 &  0.00000 & 0 & 0\\\\\n",
       "\\end{tabular}\n"
      ],
      "text/markdown": [
       "\n",
       "A data.frame: 185 × 6\n",
       "\n",
       "| <!--/--> | Euryarchaeota;Methanobacteria &lt;dbl&gt; | Euryarchaeota;Methanomicrobia &lt;dbl&gt; | Euryarchaeota;Thermoplasmata &lt;dbl&gt; | Thaumarchaeota;Nitrososphaeria &lt;dbl&gt; | Euryarchaeota;Halobacteria &lt;dbl&gt; | Other &lt;dbl&gt; |\n",
       "|---|---|---|---|---|---|---|\n",
       "| F14_Common_Bream | 75.58577 | 23.48857 | 0.462829 |  0.00000 | 0 | 0.462829 |\n",
       "| F157a_European_Toad | 78.35821 |  0.00000 | 0.000000 | 21.64179 | 0 | 0.000000 |\n",
       "| ⋮ | ⋮ | ⋮ | ⋮ | ⋮ | ⋮ | ⋮ |\n",
       "| X95_Meadow_Viper |   0 | 3.497164 | 0.7561437 | 95.74669 | 0 | 0 |\n",
       "| X96_European_Hare | 100 | 0.000000 | 0.0000000 |  0.00000 | 0 | 0 |\n",
       "\n"
      ],
      "text/plain": [
       "                    Euryarchaeota;Methanobacteria Euryarchaeota;Methanomicrobia\n",
       "F14_Common_Bream    75.58577                      23.48857                     \n",
       "F157a_European_Toad 78.35821                       0.00000                     \n",
       "⋮                   ⋮                             ⋮                            \n",
       "X95_Meadow_Viper      0                           3.497164                     \n",
       "X96_European_Hare   100                           0.000000                     \n",
       "                    Euryarchaeota;Thermoplasmata Thaumarchaeota;Nitrososphaeria\n",
       "F14_Common_Bream    0.462829                      0.00000                      \n",
       "F157a_European_Toad 0.000000                     21.64179                      \n",
       "⋮                   ⋮                            ⋮                             \n",
       "X95_Meadow_Viper    0.7561437                    95.74669                      \n",
       "X96_European_Hare   0.0000000                     0.00000                      \n",
       "                    Euryarchaeota;Halobacteria Other   \n",
       "F14_Common_Bream    0                          0.462829\n",
       "F157a_European_Toad 0                          0.000000\n",
       "⋮                   ⋮                          ⋮       \n",
       "X95_Meadow_Viper    0                          0       \n",
       "X96_European_Hare   0                          0       "
      ]
     },
     "metadata": {},
     "output_type": "display_data"
    }
   ],
   "source": [
    "# creating multi-bar \n",
    "x = otu_s %>%\n",
    "    dt_pivot_wider(names_from=Taxonomy, values_from=perc_abund, values_fn=sum) %>%\n",
    "    dt_select({{phy_by_abund}}) %>%\n",
    "    as.data.frame \n",
    "rownames(x) = x$Sample\n",
    "x$Sample = NULL\n",
    "x"
   ]
  },
  {
   "cell_type": "code",
   "execution_count": 75,
   "metadata": {
    "ExecuteTime": {
     "end_time": "2020-06-15T13:54:20.366728Z",
     "start_time": "2020-06-15T13:54:20.300Z"
    }
   },
   "outputs": [
    {
     "data": {
      "text/plain": [
       "   Min. 1st Qu.  Median    Mean 3rd Qu.    Max. \n",
       "    100     100     100     100     100     100 "
      ]
     },
     "metadata": {},
     "output_type": "display_data"
    }
   ],
   "source": [
    "# checking abundances\n",
    "x %>% apply(1, sum) %>% summary"
   ]
  },
  {
   "cell_type": "code",
   "execution_count": 76,
   "metadata": {
    "ExecuteTime": {
     "end_time": "2020-06-15T13:54:21.510560Z",
     "start_time": "2020-06-15T13:54:21.450Z"
    }
   },
   "outputs": [
    {
     "name": "stdout",
     "output_type": "stream",
     "text": [
      "File written: /ebio/abt3_projects/Georg_animal_feces/data/16S_arch/MiSeq-Runs-116-122-126-189-190/LLA/dataset_explore//IndD_class-abund_multibar.txt \n"
     ]
    }
   ],
   "source": [
    "# writing itol input file\n",
    "F = file.path(work_dir, 'IndD_class-abund_multibar.txt')\n",
    "itol_multibar(x, 'Class_perc_abund', F)"
   ]
  },
  {
   "cell_type": "markdown",
   "metadata": {},
   "source": [
    "#### Abundance summary"
   ]
  },
  {
   "cell_type": "code",
   "execution_count": 77,
   "metadata": {
    "ExecuteTime": {
     "end_time": "2020-06-15T13:54:23.289065Z",
     "start_time": "2020-06-15T13:54:23.105Z"
    }
   },
   "outputs": [
    {
     "data": {
      "text/html": [
       "<table>\n",
       "<caption>A data.table: 2035 × 3</caption>\n",
       "<thead>\n",
       "\t<tr><th scope=col>Sample</th><th scope=col>perc_abund</th><th scope=col>Taxonomy</th></tr>\n",
       "\t<tr><th scope=col>&lt;chr&gt;</th><th scope=col>&lt;dbl&gt;</th><th scope=col>&lt;chr&gt;</th></tr>\n",
       "</thead>\n",
       "<tbody>\n",
       "\t<tr><td>F14_Common_Bream</td><td>75.58577</td><td>Euryarchaeota;Methanobacteria</td></tr>\n",
       "\t<tr><td>F35_Red_Deer    </td><td>65.90181</td><td>Euryarchaeota;Methanobacteria</td></tr>\n",
       "\t<tr><td>⋮</td><td>⋮</td><td>⋮</td></tr>\n",
       "\t<tr><td>X431_Quagga     </td><td>0</td><td>Euryarchaeota;unclassified</td></tr>\n",
       "\t<tr><td>X67_European_Roe</td><td>0</td><td>Euryarchaeota;unclassified</td></tr>\n",
       "</tbody>\n",
       "</table>\n"
      ],
      "text/latex": [
       "A data.table: 2035 × 3\n",
       "\\begin{tabular}{lll}\n",
       " Sample & perc\\_abund & Taxonomy\\\\\n",
       " <chr> & <dbl> & <chr>\\\\\n",
       "\\hline\n",
       "\t F14\\_Common\\_Bream & 75.58577 & Euryarchaeota;Methanobacteria\\\\\n",
       "\t F35\\_Red\\_Deer     & 65.90181 & Euryarchaeota;Methanobacteria\\\\\n",
       "\t ⋮ & ⋮ & ⋮\\\\\n",
       "\t X431\\_Quagga      & 0 & Euryarchaeota;unclassified\\\\\n",
       "\t X67\\_European\\_Roe & 0 & Euryarchaeota;unclassified\\\\\n",
       "\\end{tabular}\n"
      ],
      "text/markdown": [
       "\n",
       "A data.table: 2035 × 3\n",
       "\n",
       "| Sample &lt;chr&gt; | perc_abund &lt;dbl&gt; | Taxonomy &lt;chr&gt; |\n",
       "|---|---|---|\n",
       "| F14_Common_Bream | 75.58577 | Euryarchaeota;Methanobacteria |\n",
       "| F35_Red_Deer     | 65.90181 | Euryarchaeota;Methanobacteria |\n",
       "| ⋮ | ⋮ | ⋮ |\n",
       "| X431_Quagga      | 0 | Euryarchaeota;unclassified |\n",
       "| X67_European_Roe | 0 | Euryarchaeota;unclassified |\n",
       "\n"
      ],
      "text/plain": [
       "     Sample           perc_abund Taxonomy                     \n",
       "1    F14_Common_Bream 75.58577   Euryarchaeota;Methanobacteria\n",
       "2    F35_Red_Deer     65.90181   Euryarchaeota;Methanobacteria\n",
       "⋮    ⋮                ⋮          ⋮                            \n",
       "2034 X431_Quagga      0          Euryarchaeota;unclassified   \n",
       "2035 X67_European_Roe 0          Euryarchaeota;unclassified   "
      ]
     },
     "metadata": {},
     "output_type": "display_data"
    }
   ],
   "source": [
    "otu_s = otu %>%\n",
    "    dt_summarize(perc_abund = sum(perc_abund),\n",
    "                 by=c(Sample, Phylum, Class)) %>%\n",
    "    dt_mutate(Taxonomy = paste(Phylum, Class, sep=';')) %>%\n",
    "    dt_select(-Phylum, -Class)\n",
    "otu_s"
   ]
  },
  {
   "cell_type": "code",
   "execution_count": 78,
   "metadata": {
    "ExecuteTime": {
     "end_time": "2020-06-15T13:54:23.858079Z",
     "start_time": "2020-06-15T13:54:23.746Z"
    }
   },
   "outputs": [
    {
     "data": {
      "text/html": [
       "<table>\n",
       "<caption>A data.table: 2035 × 3</caption>\n",
       "<thead>\n",
       "\t<tr><th scope=col>Sample</th><th scope=col>perc_abund</th><th scope=col>Taxonomy</th></tr>\n",
       "\t<tr><th scope=col>&lt;chr&gt;</th><th scope=col>&lt;dbl&gt;</th><th scope=col>&lt;chr&gt;</th></tr>\n",
       "</thead>\n",
       "<tbody>\n",
       "\t<tr><td>F14_Common_Bream</td><td>75.58577</td><td>Euryarchaeota;Methanobacteria</td></tr>\n",
       "\t<tr><td>F35_Red_Deer    </td><td>65.90181</td><td>Euryarchaeota;Methanobacteria</td></tr>\n",
       "\t<tr><td>⋮</td><td>⋮</td><td>⋮</td></tr>\n",
       "\t<tr><td>X431_Quagga     </td><td>0</td><td>Euryarchaeota;unclassified</td></tr>\n",
       "\t<tr><td>X67_European_Roe</td><td>0</td><td>Euryarchaeota;unclassified</td></tr>\n",
       "</tbody>\n",
       "</table>\n"
      ],
      "text/latex": [
       "A data.table: 2035 × 3\n",
       "\\begin{tabular}{lll}\n",
       " Sample & perc\\_abund & Taxonomy\\\\\n",
       " <chr> & <dbl> & <chr>\\\\\n",
       "\\hline\n",
       "\t F14\\_Common\\_Bream & 75.58577 & Euryarchaeota;Methanobacteria\\\\\n",
       "\t F35\\_Red\\_Deer     & 65.90181 & Euryarchaeota;Methanobacteria\\\\\n",
       "\t ⋮ & ⋮ & ⋮\\\\\n",
       "\t X431\\_Quagga      & 0 & Euryarchaeota;unclassified\\\\\n",
       "\t X67\\_European\\_Roe & 0 & Euryarchaeota;unclassified\\\\\n",
       "\\end{tabular}\n"
      ],
      "text/markdown": [
       "\n",
       "A data.table: 2035 × 3\n",
       "\n",
       "| Sample &lt;chr&gt; | perc_abund &lt;dbl&gt; | Taxonomy &lt;chr&gt; |\n",
       "|---|---|---|\n",
       "| F14_Common_Bream | 75.58577 | Euryarchaeota;Methanobacteria |\n",
       "| F35_Red_Deer     | 65.90181 | Euryarchaeota;Methanobacteria |\n",
       "| ⋮ | ⋮ | ⋮ |\n",
       "| X431_Quagga      | 0 | Euryarchaeota;unclassified |\n",
       "| X67_European_Roe | 0 | Euryarchaeota;unclassified |\n",
       "\n"
      ],
      "text/plain": [
       "     Sample           perc_abund Taxonomy                     \n",
       "1    F14_Common_Bream 75.58577   Euryarchaeota;Methanobacteria\n",
       "2    F35_Red_Deer     65.90181   Euryarchaeota;Methanobacteria\n",
       "⋮    ⋮                ⋮          ⋮                            \n",
       "2034 X431_Quagga      0          Euryarchaeota;unclassified   \n",
       "2035 X67_European_Roe 0          Euryarchaeota;unclassified   "
      ]
     },
     "metadata": {},
     "output_type": "display_data"
    }
   ],
   "source": [
    "# changing rare to \"Other\"\n",
    "otu_s = otu_s %>%\n",
    "    dt_mutate(mean_perc_abund = mean(perc_abund), by=c(Taxonomy)) %>%\n",
    "    dt_mutate(Taxonomy = Taxonomy %>% as.character,\n",
    "              Taxonomy = ifelse(mean_perc_abund < 0.01, 'Other', Taxonomy)) %>%\n",
    "    dt_select(-mean_perc_abund)\n",
    "otu_s"
   ]
  },
  {
   "cell_type": "code",
   "execution_count": 79,
   "metadata": {
    "ExecuteTime": {
     "end_time": "2020-06-15T13:54:24.413408Z",
     "start_time": "2020-06-15T13:54:24.259Z"
    }
   },
   "outputs": [
    {
     "data": {
      "text/html": [
       "<table>\n",
       "<caption>A data.table: 9 × 4</caption>\n",
       "<thead>\n",
       "\t<tr><th scope=col>Taxonomy</th><th scope=col>Mean Perc. Abund.</th><th scope=col>s.d. Perc. Abund.</th><th scope=col>Max Perc. Abund.</th></tr>\n",
       "\t<tr><th scope=col>&lt;chr&gt;</th><th scope=col>&lt;dbl&gt;</th><th scope=col>&lt;dbl&gt;</th><th scope=col>&lt;dbl&gt;</th></tr>\n",
       "</thead>\n",
       "<tbody>\n",
       "\t<tr><td>Euryarchaeota;Methanobacteria </td><td>71.4</td><td>34.5</td><td>100.0</td></tr>\n",
       "\t<tr><td>Euryarchaeota;Methanomicrobia </td><td>11.3</td><td>21.6</td><td> 90.6</td></tr>\n",
       "\t<tr><td>Euryarchaeota;Thermoplasmata  </td><td> 8.4</td><td>19.9</td><td>100.0</td></tr>\n",
       "\t<tr><td>Thaumarchaeota;Nitrososphaeria</td><td> 5.0</td><td>17.7</td><td>100.0</td></tr>\n",
       "\t<tr><td>Euryarchaeota;Halobacteria    </td><td> 3.3</td><td>16.9</td><td> 98.2</td></tr>\n",
       "\t<tr><td>Crenarchaeota;Bathyarchaeia   </td><td> 0.3</td><td> 3.4</td><td> 42.2</td></tr>\n",
       "\t<tr><td>Nanoarchaeaeota;Woesearchaeia </td><td> 0.1</td><td> 0.4</td><td>  3.6</td></tr>\n",
       "\t<tr><td>Euryarchaeota;unclassified    </td><td> 0.1</td><td> 0.7</td><td>  6.3</td></tr>\n",
       "\t<tr><td>Other                         </td><td> 0.0</td><td> 0.0</td><td>  0.7</td></tr>\n",
       "</tbody>\n",
       "</table>\n"
      ],
      "text/latex": [
       "A data.table: 9 × 4\n",
       "\\begin{tabular}{llll}\n",
       " Taxonomy & Mean Perc. Abund. & s.d. Perc. Abund. & Max Perc. Abund.\\\\\n",
       " <chr> & <dbl> & <dbl> & <dbl>\\\\\n",
       "\\hline\n",
       "\t Euryarchaeota;Methanobacteria  & 71.4 & 34.5 & 100.0\\\\\n",
       "\t Euryarchaeota;Methanomicrobia  & 11.3 & 21.6 &  90.6\\\\\n",
       "\t Euryarchaeota;Thermoplasmata   &  8.4 & 19.9 & 100.0\\\\\n",
       "\t Thaumarchaeota;Nitrososphaeria &  5.0 & 17.7 & 100.0\\\\\n",
       "\t Euryarchaeota;Halobacteria     &  3.3 & 16.9 &  98.2\\\\\n",
       "\t Crenarchaeota;Bathyarchaeia    &  0.3 &  3.4 &  42.2\\\\\n",
       "\t Nanoarchaeaeota;Woesearchaeia  &  0.1 &  0.4 &   3.6\\\\\n",
       "\t Euryarchaeota;unclassified     &  0.1 &  0.7 &   6.3\\\\\n",
       "\t Other                          &  0.0 &  0.0 &   0.7\\\\\n",
       "\\end{tabular}\n"
      ],
      "text/markdown": [
       "\n",
       "A data.table: 9 × 4\n",
       "\n",
       "| Taxonomy &lt;chr&gt; | Mean Perc. Abund. &lt;dbl&gt; | s.d. Perc. Abund. &lt;dbl&gt; | Max Perc. Abund. &lt;dbl&gt; |\n",
       "|---|---|---|---|\n",
       "| Euryarchaeota;Methanobacteria  | 71.4 | 34.5 | 100.0 |\n",
       "| Euryarchaeota;Methanomicrobia  | 11.3 | 21.6 |  90.6 |\n",
       "| Euryarchaeota;Thermoplasmata   |  8.4 | 19.9 | 100.0 |\n",
       "| Thaumarchaeota;Nitrososphaeria |  5.0 | 17.7 | 100.0 |\n",
       "| Euryarchaeota;Halobacteria     |  3.3 | 16.9 |  98.2 |\n",
       "| Crenarchaeota;Bathyarchaeia    |  0.3 |  3.4 |  42.2 |\n",
       "| Nanoarchaeaeota;Woesearchaeia  |  0.1 |  0.4 |   3.6 |\n",
       "| Euryarchaeota;unclassified     |  0.1 |  0.7 |   6.3 |\n",
       "| Other                          |  0.0 |  0.0 |   0.7 |\n",
       "\n"
      ],
      "text/plain": [
       "  Taxonomy                       Mean Perc. Abund. s.d. Perc. Abund.\n",
       "1 Euryarchaeota;Methanobacteria  71.4              34.5             \n",
       "2 Euryarchaeota;Methanomicrobia  11.3              21.6             \n",
       "3 Euryarchaeota;Thermoplasmata    8.4              19.9             \n",
       "4 Thaumarchaeota;Nitrososphaeria  5.0              17.7             \n",
       "5 Euryarchaeota;Halobacteria      3.3              16.9             \n",
       "6 Crenarchaeota;Bathyarchaeia     0.3               3.4             \n",
       "7 Nanoarchaeaeota;Woesearchaeia   0.1               0.4             \n",
       "8 Euryarchaeota;unclassified      0.1               0.7             \n",
       "9 Other                           0.0               0.0             \n",
       "  Max Perc. Abund.\n",
       "1 100.0           \n",
       "2  90.6           \n",
       "3 100.0           \n",
       "4 100.0           \n",
       "5  98.2           \n",
       "6  42.2           \n",
       "7   3.6           \n",
       "8   6.3           \n",
       "9   0.7           "
      ]
     },
     "metadata": {},
     "output_type": "display_data"
    }
   ],
   "source": [
    "df.dims(10)\n",
    "otu_s %>%\n",
    "    dt_summarize(mean_abund = mean(perc_abund), \n",
    "                 sd_abund = sd(perc_abund),\n",
    "                 max_abund = max(perc_abund),\n",
    "                 by=c(Taxonomy)) %>%\n",
    "    dt_mutate_across(is.numeric, function(x) round(x,1)) %>%\n",
    "    dt_arrange(-mean_abund) %>%\n",
    "    dt_rename('Mean Perc. Abund.' = mean_abund,\n",
    "              's.d. Perc. Abund.' = sd_abund,\n",
    "              'Max Perc. Abund.' = max_abund)\n",
    "df.dims()"
   ]
  },
  {
   "cell_type": "markdown",
   "metadata": {},
   "source": [
    "### Family: just Eurys"
   ]
  },
  {
   "cell_type": "code",
   "execution_count": 80,
   "metadata": {
    "ExecuteTime": {
     "end_time": "2020-06-15T13:54:26.003480Z",
     "start_time": "2020-06-15T13:54:25.724Z"
    }
   },
   "outputs": [
    {
     "data": {
      "text/html": [
       "<table>\n",
       "<caption>A data.table: 6845 × 3</caption>\n",
       "<thead>\n",
       "\t<tr><th scope=col>Sample</th><th scope=col>perc_abund</th><th scope=col>Taxonomy</th></tr>\n",
       "\t<tr><th scope=col>&lt;chr&gt;</th><th scope=col>&lt;dbl&gt;</th><th scope=col>&lt;chr&gt;</th></tr>\n",
       "</thead>\n",
       "<tbody>\n",
       "\t<tr><td>F14_Common_Bream</td><td>75.58577</td><td>Euryarchaeota;Methanobacteria;Methanobacteriales;Methanobacteriaceae</td></tr>\n",
       "\t<tr><td>F35_Red_Deer    </td><td>65.90181</td><td>Euryarchaeota;Methanobacteria;Methanobacteriales;Methanobacteriaceae</td></tr>\n",
       "\t<tr><td>⋮</td><td>⋮</td><td>⋮</td></tr>\n",
       "\t<tr><td>X431_Quagga     </td><td>0</td><td>Other</td></tr>\n",
       "\t<tr><td>X67_European_Roe</td><td>0</td><td>Other</td></tr>\n",
       "</tbody>\n",
       "</table>\n"
      ],
      "text/latex": [
       "A data.table: 6845 × 3\n",
       "\\begin{tabular}{lll}\n",
       " Sample & perc\\_abund & Taxonomy\\\\\n",
       " <chr> & <dbl> & <chr>\\\\\n",
       "\\hline\n",
       "\t F14\\_Common\\_Bream & 75.58577 & Euryarchaeota;Methanobacteria;Methanobacteriales;Methanobacteriaceae\\\\\n",
       "\t F35\\_Red\\_Deer     & 65.90181 & Euryarchaeota;Methanobacteria;Methanobacteriales;Methanobacteriaceae\\\\\n",
       "\t ⋮ & ⋮ & ⋮\\\\\n",
       "\t X431\\_Quagga      & 0 & Other\\\\\n",
       "\t X67\\_European\\_Roe & 0 & Other\\\\\n",
       "\\end{tabular}\n"
      ],
      "text/markdown": [
       "\n",
       "A data.table: 6845 × 3\n",
       "\n",
       "| Sample &lt;chr&gt; | perc_abund &lt;dbl&gt; | Taxonomy &lt;chr&gt; |\n",
       "|---|---|---|\n",
       "| F14_Common_Bream | 75.58577 | Euryarchaeota;Methanobacteria;Methanobacteriales;Methanobacteriaceae |\n",
       "| F35_Red_Deer     | 65.90181 | Euryarchaeota;Methanobacteria;Methanobacteriales;Methanobacteriaceae |\n",
       "| ⋮ | ⋮ | ⋮ |\n",
       "| X431_Quagga      | 0 | Other |\n",
       "| X67_European_Roe | 0 | Other |\n",
       "\n"
      ],
      "text/plain": [
       "     Sample           perc_abund\n",
       "1    F14_Common_Bream 75.58577  \n",
       "2    F35_Red_Deer     65.90181  \n",
       "⋮    ⋮                ⋮         \n",
       "6844 X431_Quagga      0         \n",
       "6845 X67_European_Roe 0         \n",
       "     Taxonomy                                                            \n",
       "1    Euryarchaeota;Methanobacteria;Methanobacteriales;Methanobacteriaceae\n",
       "2    Euryarchaeota;Methanobacteria;Methanobacteriales;Methanobacteriaceae\n",
       "⋮    ⋮                                                                   \n",
       "6844 Other                                                               \n",
       "6845 Other                                                               "
      ]
     },
     "metadata": {},
     "output_type": "display_data"
    }
   ],
   "source": [
    "otu_s = otu %>%\n",
    "    dt_summarize(perc_abund = sum(perc_abund),\n",
    "                 by=c(Sample, Phylum, Class, Order, Family)) %>%\n",
    "    dt_mutate(Taxonomy = paste(Phylum, Class, Order, Family, sep=';')) %>%\n",
    "    dt_mutate(Taxonomy = Taxonomy %>% as.character,\n",
    "              Taxonomy = ifelse(Phylum != 'Euryarchaeota', 'Other', Taxonomy),\n",
    "              Taxonomy = ifelse(grepl('^(unclassified|Uncultured|uncultured)', Family), 'Other', Taxonomy)) %>%\n",
    "    dt_select(-Phylum, -Class, -Order, -Family)\n",
    "otu_s"
   ]
  },
  {
   "cell_type": "code",
   "execution_count": 81,
   "metadata": {
    "ExecuteTime": {
     "end_time": "2020-06-15T13:54:27.067805Z",
     "start_time": "2020-06-15T13:54:26.971Z"
    }
   },
   "outputs": [
    {
     "name": "stdout",
     "output_type": "stream",
     "text": [
      "No. of unique Eury families: 18 \n"
     ]
    },
    {
     "data": {
      "text/html": [
       "<ol class=list-inline>\n",
       "\t<li>'Euryarchaeota;Methanobacteria;Methanobacteriales;Methanobacteriaceae'</li>\n",
       "\t<li>'Euryarchaeota;Methanobacteria;Methanobacteriales;Methanothermobacteraceae'</li>\n",
       "\t<li>'Euryarchaeota;Thermococci;Methanofastidiosales;Methanofastidiosaceae'</li>\n",
       "\t<li>'Other'</li>\n",
       "\t<li>'Euryarchaeota;Halobacteria;Halobacteriales;Halomicrobiaceae'</li>\n",
       "\t<li>'Euryarchaeota;Halobacteria;Halobacteriales;Halococcaceae'</li>\n",
       "\t<li>'Euryarchaeota;Halobacteria;Halobacteriales;Haloferacaceae'</li>\n",
       "\t<li>'Euryarchaeota;Halobacteria;Halobacteriales;Haloadaptaceae'</li>\n",
       "\t<li>'Euryarchaeota;Methanomicrobia;Methanosarcinales;Methanosaetaceae'</li>\n",
       "\t<li>'Euryarchaeota;Methanomicrobia;Methanosarcinales;Methanoperedenaceae'</li>\n",
       "\t<li>'Euryarchaeota;Methanomicrobia;Methanosarcinales;Methanosarcinaceae'</li>\n",
       "\t<li>'Euryarchaeota;Methanomicrobia;Methanocellales;Methanocellaceae'</li>\n",
       "\t<li>'Euryarchaeota;Methanomicrobia;Methanomicrobiales;Methanomicrobiaceae'</li>\n",
       "\t<li>'Euryarchaeota;Methanomicrobia;Methanomicrobiales;Methanocorpusculaceae'</li>\n",
       "\t<li>'Euryarchaeota;Thermoplasmata;Methanomassiliicoccales;Methanomethylophilaceae'</li>\n",
       "\t<li>'Euryarchaeota;Methanomicrobia;Methanomicrobiales;Methanoregulaceae'</li>\n",
       "\t<li>'Euryarchaeota;Methanomicrobia;Methanomicrobiales;Methanospirillaceae'</li>\n",
       "\t<li>'Euryarchaeota;Thermoplasmata;Methanomassiliicoccales;Methanomassiliicoccaceae'</li>\n",
       "</ol>\n"
      ],
      "text/latex": [
       "\\begin{enumerate*}\n",
       "\\item 'Euryarchaeota;Methanobacteria;Methanobacteriales;Methanobacteriaceae'\n",
       "\\item 'Euryarchaeota;Methanobacteria;Methanobacteriales;Methanothermobacteraceae'\n",
       "\\item 'Euryarchaeota;Thermococci;Methanofastidiosales;Methanofastidiosaceae'\n",
       "\\item 'Other'\n",
       "\\item 'Euryarchaeota;Halobacteria;Halobacteriales;Halomicrobiaceae'\n",
       "\\item 'Euryarchaeota;Halobacteria;Halobacteriales;Halococcaceae'\n",
       "\\item 'Euryarchaeota;Halobacteria;Halobacteriales;Haloferacaceae'\n",
       "\\item 'Euryarchaeota;Halobacteria;Halobacteriales;Haloadaptaceae'\n",
       "\\item 'Euryarchaeota;Methanomicrobia;Methanosarcinales;Methanosaetaceae'\n",
       "\\item 'Euryarchaeota;Methanomicrobia;Methanosarcinales;Methanoperedenaceae'\n",
       "\\item 'Euryarchaeota;Methanomicrobia;Methanosarcinales;Methanosarcinaceae'\n",
       "\\item 'Euryarchaeota;Methanomicrobia;Methanocellales;Methanocellaceae'\n",
       "\\item 'Euryarchaeota;Methanomicrobia;Methanomicrobiales;Methanomicrobiaceae'\n",
       "\\item 'Euryarchaeota;Methanomicrobia;Methanomicrobiales;Methanocorpusculaceae'\n",
       "\\item 'Euryarchaeota;Thermoplasmata;Methanomassiliicoccales;Methanomethylophilaceae'\n",
       "\\item 'Euryarchaeota;Methanomicrobia;Methanomicrobiales;Methanoregulaceae'\n",
       "\\item 'Euryarchaeota;Methanomicrobia;Methanomicrobiales;Methanospirillaceae'\n",
       "\\item 'Euryarchaeota;Thermoplasmata;Methanomassiliicoccales;Methanomassiliicoccaceae'\n",
       "\\end{enumerate*}\n"
      ],
      "text/markdown": [
       "1. 'Euryarchaeota;Methanobacteria;Methanobacteriales;Methanobacteriaceae'\n",
       "2. 'Euryarchaeota;Methanobacteria;Methanobacteriales;Methanothermobacteraceae'\n",
       "3. 'Euryarchaeota;Thermococci;Methanofastidiosales;Methanofastidiosaceae'\n",
       "4. 'Other'\n",
       "5. 'Euryarchaeota;Halobacteria;Halobacteriales;Halomicrobiaceae'\n",
       "6. 'Euryarchaeota;Halobacteria;Halobacteriales;Halococcaceae'\n",
       "7. 'Euryarchaeota;Halobacteria;Halobacteriales;Haloferacaceae'\n",
       "8. 'Euryarchaeota;Halobacteria;Halobacteriales;Haloadaptaceae'\n",
       "9. 'Euryarchaeota;Methanomicrobia;Methanosarcinales;Methanosaetaceae'\n",
       "10. 'Euryarchaeota;Methanomicrobia;Methanosarcinales;Methanoperedenaceae'\n",
       "11. 'Euryarchaeota;Methanomicrobia;Methanosarcinales;Methanosarcinaceae'\n",
       "12. 'Euryarchaeota;Methanomicrobia;Methanocellales;Methanocellaceae'\n",
       "13. 'Euryarchaeota;Methanomicrobia;Methanomicrobiales;Methanomicrobiaceae'\n",
       "14. 'Euryarchaeota;Methanomicrobia;Methanomicrobiales;Methanocorpusculaceae'\n",
       "15. 'Euryarchaeota;Thermoplasmata;Methanomassiliicoccales;Methanomethylophilaceae'\n",
       "16. 'Euryarchaeota;Methanomicrobia;Methanomicrobiales;Methanoregulaceae'\n",
       "17. 'Euryarchaeota;Methanomicrobia;Methanomicrobiales;Methanospirillaceae'\n",
       "18. 'Euryarchaeota;Thermoplasmata;Methanomassiliicoccales;Methanomassiliicoccaceae'\n",
       "\n",
       "\n"
      ],
      "text/plain": [
       " [1] \"Euryarchaeota;Methanobacteria;Methanobacteriales;Methanobacteriaceae\"         \n",
       " [2] \"Euryarchaeota;Methanobacteria;Methanobacteriales;Methanothermobacteraceae\"    \n",
       " [3] \"Euryarchaeota;Thermococci;Methanofastidiosales;Methanofastidiosaceae\"         \n",
       " [4] \"Other\"                                                                        \n",
       " [5] \"Euryarchaeota;Halobacteria;Halobacteriales;Halomicrobiaceae\"                  \n",
       " [6] \"Euryarchaeota;Halobacteria;Halobacteriales;Halococcaceae\"                     \n",
       " [7] \"Euryarchaeota;Halobacteria;Halobacteriales;Haloferacaceae\"                    \n",
       " [8] \"Euryarchaeota;Halobacteria;Halobacteriales;Haloadaptaceae\"                    \n",
       " [9] \"Euryarchaeota;Methanomicrobia;Methanosarcinales;Methanosaetaceae\"             \n",
       "[10] \"Euryarchaeota;Methanomicrobia;Methanosarcinales;Methanoperedenaceae\"          \n",
       "[11] \"Euryarchaeota;Methanomicrobia;Methanosarcinales;Methanosarcinaceae\"           \n",
       "[12] \"Euryarchaeota;Methanomicrobia;Methanocellales;Methanocellaceae\"               \n",
       "[13] \"Euryarchaeota;Methanomicrobia;Methanomicrobiales;Methanomicrobiaceae\"         \n",
       "[14] \"Euryarchaeota;Methanomicrobia;Methanomicrobiales;Methanocorpusculaceae\"       \n",
       "[15] \"Euryarchaeota;Thermoplasmata;Methanomassiliicoccales;Methanomethylophilaceae\" \n",
       "[16] \"Euryarchaeota;Methanomicrobia;Methanomicrobiales;Methanoregulaceae\"           \n",
       "[17] \"Euryarchaeota;Methanomicrobia;Methanomicrobiales;Methanospirillaceae\"         \n",
       "[18] \"Euryarchaeota;Thermoplasmata;Methanomassiliicoccales;Methanomassiliicoccaceae\""
      ]
     },
     "metadata": {},
     "output_type": "display_data"
    }
   ],
   "source": [
    "# summarizing\n",
    "otu_s %>% unique_n('Eury families', Taxonomy)\n",
    "otu_s %>% dt_pull(Taxonomy) %>% unique"
   ]
  },
  {
   "cell_type": "code",
   "execution_count": 82,
   "metadata": {
    "ExecuteTime": {
     "end_time": "2020-06-15T13:54:27.838808Z",
     "start_time": "2020-06-15T13:54:27.730Z"
    }
   },
   "outputs": [
    {
     "data": {
      "text/html": [
       "<table>\n",
       "<caption>A data.table: 6845 × 3</caption>\n",
       "<thead>\n",
       "\t<tr><th scope=col>Sample</th><th scope=col>perc_abund</th><th scope=col>Taxonomy</th></tr>\n",
       "\t<tr><th scope=col>&lt;chr&gt;</th><th scope=col>&lt;dbl&gt;</th><th scope=col>&lt;chr&gt;</th></tr>\n",
       "</thead>\n",
       "<tbody>\n",
       "\t<tr><td>F14_Common_Bream</td><td>75.58577</td><td>Euryarchaeota;Methanobacteria;Methanobacteriales;Methanobacteriaceae</td></tr>\n",
       "\t<tr><td>F35_Red_Deer    </td><td>65.90181</td><td>Euryarchaeota;Methanobacteria;Methanobacteriales;Methanobacteriaceae</td></tr>\n",
       "\t<tr><td>⋮</td><td>⋮</td><td>⋮</td></tr>\n",
       "\t<tr><td>X431_Quagga     </td><td>0</td><td>Other</td></tr>\n",
       "\t<tr><td>X67_European_Roe</td><td>0</td><td>Other</td></tr>\n",
       "</tbody>\n",
       "</table>\n"
      ],
      "text/latex": [
       "A data.table: 6845 × 3\n",
       "\\begin{tabular}{lll}\n",
       " Sample & perc\\_abund & Taxonomy\\\\\n",
       " <chr> & <dbl> & <chr>\\\\\n",
       "\\hline\n",
       "\t F14\\_Common\\_Bream & 75.58577 & Euryarchaeota;Methanobacteria;Methanobacteriales;Methanobacteriaceae\\\\\n",
       "\t F35\\_Red\\_Deer     & 65.90181 & Euryarchaeota;Methanobacteria;Methanobacteriales;Methanobacteriaceae\\\\\n",
       "\t ⋮ & ⋮ & ⋮\\\\\n",
       "\t X431\\_Quagga      & 0 & Other\\\\\n",
       "\t X67\\_European\\_Roe & 0 & Other\\\\\n",
       "\\end{tabular}\n"
      ],
      "text/markdown": [
       "\n",
       "A data.table: 6845 × 3\n",
       "\n",
       "| Sample &lt;chr&gt; | perc_abund &lt;dbl&gt; | Taxonomy &lt;chr&gt; |\n",
       "|---|---|---|\n",
       "| F14_Common_Bream | 75.58577 | Euryarchaeota;Methanobacteria;Methanobacteriales;Methanobacteriaceae |\n",
       "| F35_Red_Deer     | 65.90181 | Euryarchaeota;Methanobacteria;Methanobacteriales;Methanobacteriaceae |\n",
       "| ⋮ | ⋮ | ⋮ |\n",
       "| X431_Quagga      | 0 | Other |\n",
       "| X67_European_Roe | 0 | Other |\n",
       "\n"
      ],
      "text/plain": [
       "     Sample           perc_abund\n",
       "1    F14_Common_Bream 75.58577  \n",
       "2    F35_Red_Deer     65.90181  \n",
       "⋮    ⋮                ⋮         \n",
       "6844 X431_Quagga      0         \n",
       "6845 X67_European_Roe 0         \n",
       "     Taxonomy                                                            \n",
       "1    Euryarchaeota;Methanobacteria;Methanobacteriales;Methanobacteriaceae\n",
       "2    Euryarchaeota;Methanobacteria;Methanobacteriales;Methanobacteriaceae\n",
       "⋮    ⋮                                                                   \n",
       "6844 Other                                                               \n",
       "6845 Other                                                               "
      ]
     },
     "metadata": {},
     "output_type": "display_data"
    }
   ],
   "source": [
    "# changing rare to \"Other\"\n",
    "otu_s = otu_s %>%\n",
    "    dt_mutate(mean_perc_abund = mean(perc_abund), by=c(Taxonomy)) %>%\n",
    "    dt_mutate(Taxonomy = Taxonomy %>% as.character,\n",
    "              Taxonomy = ifelse(mean_perc_abund < 1, 'Other', Taxonomy)) %>%\n",
    "    dt_select(-mean_perc_abund)\n",
    "otu_s"
   ]
  },
  {
   "cell_type": "code",
   "execution_count": 83,
   "metadata": {
    "ExecuteTime": {
     "end_time": "2020-06-15T13:54:28.670607Z",
     "start_time": "2020-06-15T13:54:28.570Z"
    }
   },
   "outputs": [
    {
     "name": "stdout",
     "output_type": "stream",
     "text": [
      "No. of unique Eury families: 6 \n"
     ]
    },
    {
     "data": {
      "text/html": [
       "<ol class=list-inline>\n",
       "\t<li>'Euryarchaeota;Methanobacteria;Methanobacteriales;Methanobacteriaceae'</li>\n",
       "\t<li>'Euryarchaeota;Methanobacteria;Methanobacteriales;Methanothermobacteraceae'</li>\n",
       "\t<li>'Other'</li>\n",
       "\t<li>'Euryarchaeota;Halobacteria;Halobacteriales;Haloferacaceae'</li>\n",
       "\t<li>'Euryarchaeota;Methanomicrobia;Methanomicrobiales;Methanocorpusculaceae'</li>\n",
       "\t<li>'Euryarchaeota;Thermoplasmata;Methanomassiliicoccales;Methanomethylophilaceae'</li>\n",
       "</ol>\n"
      ],
      "text/latex": [
       "\\begin{enumerate*}\n",
       "\\item 'Euryarchaeota;Methanobacteria;Methanobacteriales;Methanobacteriaceae'\n",
       "\\item 'Euryarchaeota;Methanobacteria;Methanobacteriales;Methanothermobacteraceae'\n",
       "\\item 'Other'\n",
       "\\item 'Euryarchaeota;Halobacteria;Halobacteriales;Haloferacaceae'\n",
       "\\item 'Euryarchaeota;Methanomicrobia;Methanomicrobiales;Methanocorpusculaceae'\n",
       "\\item 'Euryarchaeota;Thermoplasmata;Methanomassiliicoccales;Methanomethylophilaceae'\n",
       "\\end{enumerate*}\n"
      ],
      "text/markdown": [
       "1. 'Euryarchaeota;Methanobacteria;Methanobacteriales;Methanobacteriaceae'\n",
       "2. 'Euryarchaeota;Methanobacteria;Methanobacteriales;Methanothermobacteraceae'\n",
       "3. 'Other'\n",
       "4. 'Euryarchaeota;Halobacteria;Halobacteriales;Haloferacaceae'\n",
       "5. 'Euryarchaeota;Methanomicrobia;Methanomicrobiales;Methanocorpusculaceae'\n",
       "6. 'Euryarchaeota;Thermoplasmata;Methanomassiliicoccales;Methanomethylophilaceae'\n",
       "\n",
       "\n"
      ],
      "text/plain": [
       "[1] \"Euryarchaeota;Methanobacteria;Methanobacteriales;Methanobacteriaceae\"        \n",
       "[2] \"Euryarchaeota;Methanobacteria;Methanobacteriales;Methanothermobacteraceae\"   \n",
       "[3] \"Other\"                                                                       \n",
       "[4] \"Euryarchaeota;Halobacteria;Halobacteriales;Haloferacaceae\"                   \n",
       "[5] \"Euryarchaeota;Methanomicrobia;Methanomicrobiales;Methanocorpusculaceae\"      \n",
       "[6] \"Euryarchaeota;Thermoplasmata;Methanomassiliicoccales;Methanomethylophilaceae\""
      ]
     },
     "metadata": {},
     "output_type": "display_data"
    }
   ],
   "source": [
    "# summarizing\n",
    "otu_s %>% unique_n('Eury families', Taxonomy)\n",
    "otu_s %>% dt_pull(Taxonomy) %>% unique"
   ]
  },
  {
   "cell_type": "code",
   "execution_count": 84,
   "metadata": {
    "ExecuteTime": {
     "end_time": "2020-06-15T13:54:29.386657Z",
     "start_time": "2020-06-15T13:54:29.273Z"
    }
   },
   "outputs": [
    {
     "data": {
      "text/html": [
       "<table>\n",
       "<caption>A data.frame: 6 × 2</caption>\n",
       "<thead>\n",
       "\t<tr><th scope=col>Taxonomy</th><th scope=col>mean_abund</th></tr>\n",
       "\t<tr><th scope=col>&lt;chr&gt;</th><th scope=col>&lt;dbl&gt;</th></tr>\n",
       "</thead>\n",
       "<tbody>\n",
       "\t<tr><td>Euryarchaeota;Methanobacteria;Methanobacteriales;Methanobacteriaceae        </td><td>47.4157366</td></tr>\n",
       "\t<tr><td>Euryarchaeota;Methanobacteria;Methanobacteriales;Methanothermobacteraceae   </td><td>23.9883444</td></tr>\n",
       "\t<tr><td>Euryarchaeota;Methanomicrobia;Methanomicrobiales;Methanocorpusculaceae      </td><td> 9.7227707</td></tr>\n",
       "\t<tr><td>Euryarchaeota;Thermoplasmata;Methanomassiliicoccales;Methanomethylophilaceae</td><td> 8.3806663</td></tr>\n",
       "\t<tr><td>Euryarchaeota;Halobacteria;Halobacteriales;Haloferacaceae                   </td><td> 2.7629815</td></tr>\n",
       "\t<tr><td>Other                                                                       </td><td> 0.2415469</td></tr>\n",
       "</tbody>\n",
       "</table>\n"
      ],
      "text/latex": [
       "A data.frame: 6 × 2\n",
       "\\begin{tabular}{ll}\n",
       " Taxonomy & mean\\_abund\\\\\n",
       " <chr> & <dbl>\\\\\n",
       "\\hline\n",
       "\t Euryarchaeota;Methanobacteria;Methanobacteriales;Methanobacteriaceae         & 47.4157366\\\\\n",
       "\t Euryarchaeota;Methanobacteria;Methanobacteriales;Methanothermobacteraceae    & 23.9883444\\\\\n",
       "\t Euryarchaeota;Methanomicrobia;Methanomicrobiales;Methanocorpusculaceae       &  9.7227707\\\\\n",
       "\t Euryarchaeota;Thermoplasmata;Methanomassiliicoccales;Methanomethylophilaceae &  8.3806663\\\\\n",
       "\t Euryarchaeota;Halobacteria;Halobacteriales;Haloferacaceae                    &  2.7629815\\\\\n",
       "\t Other                                                                        &  0.2415469\\\\\n",
       "\\end{tabular}\n"
      ],
      "text/markdown": [
       "\n",
       "A data.frame: 6 × 2\n",
       "\n",
       "| Taxonomy &lt;chr&gt; | mean_abund &lt;dbl&gt; |\n",
       "|---|---|\n",
       "| Euryarchaeota;Methanobacteria;Methanobacteriales;Methanobacteriaceae         | 47.4157366 |\n",
       "| Euryarchaeota;Methanobacteria;Methanobacteriales;Methanothermobacteraceae    | 23.9883444 |\n",
       "| Euryarchaeota;Methanomicrobia;Methanomicrobiales;Methanocorpusculaceae       |  9.7227707 |\n",
       "| Euryarchaeota;Thermoplasmata;Methanomassiliicoccales;Methanomethylophilaceae |  8.3806663 |\n",
       "| Euryarchaeota;Halobacteria;Halobacteriales;Haloferacaceae                    |  2.7629815 |\n",
       "| Other                                                                        |  0.2415469 |\n",
       "\n"
      ],
      "text/plain": [
       "  Taxonomy                                                                    \n",
       "1 Euryarchaeota;Methanobacteria;Methanobacteriales;Methanobacteriaceae        \n",
       "2 Euryarchaeota;Methanobacteria;Methanobacteriales;Methanothermobacteraceae   \n",
       "3 Euryarchaeota;Methanomicrobia;Methanomicrobiales;Methanocorpusculaceae      \n",
       "4 Euryarchaeota;Thermoplasmata;Methanomassiliicoccales;Methanomethylophilaceae\n",
       "5 Euryarchaeota;Halobacteria;Halobacteriales;Haloferacaceae                   \n",
       "6 Other                                                                       \n",
       "  mean_abund\n",
       "1 47.4157366\n",
       "2 23.9883444\n",
       "3  9.7227707\n",
       "4  8.3806663\n",
       "5  2.7629815\n",
       "6  0.2415469"
      ]
     },
     "metadata": {},
     "output_type": "display_data"
    }
   ],
   "source": [
    "# ordering by overall abundance\n",
    "x = otu_s %>%\n",
    "    dt_summarize(mean_abund = mean(perc_abund), by=c(Taxonomy)) %>%\n",
    "    arrange(-mean_abund)\n",
    "df.dims(10)\n",
    "x\n",
    "df.dims()"
   ]
  },
  {
   "cell_type": "code",
   "execution_count": 85,
   "metadata": {
    "ExecuteTime": {
     "end_time": "2020-06-15T13:54:30.037233Z",
     "start_time": "2020-06-15T13:54:29.977Z"
    }
   },
   "outputs": [
    {
     "data": {
      "text/html": [
       "<ol class=list-inline>\n",
       "\t<li>'Sample'</li>\n",
       "\t<li>'Euryarchaeota;Methanobacteria;Methanobacteriales;Methanobacteriaceae'</li>\n",
       "\t<li>'Euryarchaeota;Methanobacteria;Methanobacteriales;Methanothermobacteraceae'</li>\n",
       "\t<li>'Euryarchaeota;Methanomicrobia;Methanomicrobiales;Methanocorpusculaceae'</li>\n",
       "\t<li>'Euryarchaeota;Thermoplasmata;Methanomassiliicoccales;Methanomethylophilaceae'</li>\n",
       "\t<li>'Euryarchaeota;Halobacteria;Halobacteriales;Haloferacaceae'</li>\n",
       "\t<li>'Other'</li>\n",
       "</ol>\n"
      ],
      "text/latex": [
       "\\begin{enumerate*}\n",
       "\\item 'Sample'\n",
       "\\item 'Euryarchaeota;Methanobacteria;Methanobacteriales;Methanobacteriaceae'\n",
       "\\item 'Euryarchaeota;Methanobacteria;Methanobacteriales;Methanothermobacteraceae'\n",
       "\\item 'Euryarchaeota;Methanomicrobia;Methanomicrobiales;Methanocorpusculaceae'\n",
       "\\item 'Euryarchaeota;Thermoplasmata;Methanomassiliicoccales;Methanomethylophilaceae'\n",
       "\\item 'Euryarchaeota;Halobacteria;Halobacteriales;Haloferacaceae'\n",
       "\\item 'Other'\n",
       "\\end{enumerate*}\n"
      ],
      "text/markdown": [
       "1. 'Sample'\n",
       "2. 'Euryarchaeota;Methanobacteria;Methanobacteriales;Methanobacteriaceae'\n",
       "3. 'Euryarchaeota;Methanobacteria;Methanobacteriales;Methanothermobacteraceae'\n",
       "4. 'Euryarchaeota;Methanomicrobia;Methanomicrobiales;Methanocorpusculaceae'\n",
       "5. 'Euryarchaeota;Thermoplasmata;Methanomassiliicoccales;Methanomethylophilaceae'\n",
       "6. 'Euryarchaeota;Halobacteria;Halobacteriales;Haloferacaceae'\n",
       "7. 'Other'\n",
       "\n",
       "\n"
      ],
      "text/plain": [
       "[1] \"Sample\"                                                                      \n",
       "[2] \"Euryarchaeota;Methanobacteria;Methanobacteriales;Methanobacteriaceae\"        \n",
       "[3] \"Euryarchaeota;Methanobacteria;Methanobacteriales;Methanothermobacteraceae\"   \n",
       "[4] \"Euryarchaeota;Methanomicrobia;Methanomicrobiales;Methanocorpusculaceae\"      \n",
       "[5] \"Euryarchaeota;Thermoplasmata;Methanomassiliicoccales;Methanomethylophilaceae\"\n",
       "[6] \"Euryarchaeota;Halobacteria;Halobacteriales;Haloferacaceae\"                   \n",
       "[7] \"Other\"                                                                       "
      ]
     },
     "metadata": {},
     "output_type": "display_data"
    }
   ],
   "source": [
    "# sorting\n",
    "phy_by_abund = x$Taxonomy\n",
    "phy_by_abund = c('Sample', phy_by_abund)\n",
    "phy_by_abund"
   ]
  },
  {
   "cell_type": "code",
   "execution_count": 86,
   "metadata": {
    "ExecuteTime": {
     "end_time": "2020-06-15T13:54:31.101272Z",
     "start_time": "2020-06-15T13:54:30.748Z"
    }
   },
   "outputs": [
    {
     "data": {
      "text/html": [
       "<table>\n",
       "<caption>A data.frame: 185 × 6</caption>\n",
       "<thead>\n",
       "\t<tr><th></th><th scope=col>Methanobacteria;Methanobacteriales;Methanobacteriaceae</th><th scope=col>Methanobacteria;Methanobacteriales;Methanothermobacteraceae</th><th scope=col>Methanomicrobia;Methanomicrobiales;Methanocorpusculaceae</th><th scope=col>Thermoplasmata;Methanomassiliicoccales;Methanomethylophilaceae</th><th scope=col>Halobacteria;Halobacteriales;Haloferacaceae</th><th scope=col>Other</th></tr>\n",
       "\t<tr><th></th><th scope=col>&lt;dbl&gt;</th><th scope=col>&lt;dbl&gt;</th><th scope=col>&lt;dbl&gt;</th><th scope=col>&lt;dbl&gt;</th><th scope=col>&lt;dbl&gt;</th><th scope=col>&lt;dbl&gt;</th></tr>\n",
       "</thead>\n",
       "<tbody>\n",
       "\t<tr><th scope=row>F14_Common_Bream</th><td>75.58577</td><td>0</td><td>1.880243</td><td>0.1735609</td><td>0</td><td>22.36043</td></tr>\n",
       "\t<tr><th scope=row>F157a_European_Toad</th><td>78.35821</td><td>0</td><td>0.000000</td><td>0.0000000</td><td>0</td><td>21.64179</td></tr>\n",
       "\t<tr><th scope=row>⋮</th><td>⋮</td><td>⋮</td><td>⋮</td><td>⋮</td><td>⋮</td><td>⋮</td></tr>\n",
       "\t<tr><th scope=row>X95_Meadow_Viper</th><td> 0.0000</td><td>0.000000</td><td>3.497164</td><td>0.7561437</td><td>0</td><td>95.74669</td></tr>\n",
       "\t<tr><th scope=row>X96_European_Hare</th><td>98.3857</td><td>1.614298</td><td>0.000000</td><td>0.0000000</td><td>0</td><td> 0.00000</td></tr>\n",
       "</tbody>\n",
       "</table>\n"
      ],
      "text/latex": [
       "A data.frame: 185 × 6\n",
       "\\begin{tabular}{r|llllll}\n",
       "  & Methanobacteria;Methanobacteriales;Methanobacteriaceae & Methanobacteria;Methanobacteriales;Methanothermobacteraceae & Methanomicrobia;Methanomicrobiales;Methanocorpusculaceae & Thermoplasmata;Methanomassiliicoccales;Methanomethylophilaceae & Halobacteria;Halobacteriales;Haloferacaceae & Other\\\\\n",
       "  & <dbl> & <dbl> & <dbl> & <dbl> & <dbl> & <dbl>\\\\\n",
       "\\hline\n",
       "\tF14\\_Common\\_Bream & 75.58577 & 0 & 1.880243 & 0.1735609 & 0 & 22.36043\\\\\n",
       "\tF157a\\_European\\_Toad & 78.35821 & 0 & 0.000000 & 0.0000000 & 0 & 21.64179\\\\\n",
       "\t⋮ & ⋮ & ⋮ & ⋮ & ⋮ & ⋮ & ⋮\\\\\n",
       "\tX95\\_Meadow\\_Viper &  0.0000 & 0.000000 & 3.497164 & 0.7561437 & 0 & 95.74669\\\\\n",
       "\tX96\\_European\\_Hare & 98.3857 & 1.614298 & 0.000000 & 0.0000000 & 0 &  0.00000\\\\\n",
       "\\end{tabular}\n"
      ],
      "text/markdown": [
       "\n",
       "A data.frame: 185 × 6\n",
       "\n",
       "| <!--/--> | Methanobacteria;Methanobacteriales;Methanobacteriaceae &lt;dbl&gt; | Methanobacteria;Methanobacteriales;Methanothermobacteraceae &lt;dbl&gt; | Methanomicrobia;Methanomicrobiales;Methanocorpusculaceae &lt;dbl&gt; | Thermoplasmata;Methanomassiliicoccales;Methanomethylophilaceae &lt;dbl&gt; | Halobacteria;Halobacteriales;Haloferacaceae &lt;dbl&gt; | Other &lt;dbl&gt; |\n",
       "|---|---|---|---|---|---|---|\n",
       "| F14_Common_Bream | 75.58577 | 0 | 1.880243 | 0.1735609 | 0 | 22.36043 |\n",
       "| F157a_European_Toad | 78.35821 | 0 | 0.000000 | 0.0000000 | 0 | 21.64179 |\n",
       "| ⋮ | ⋮ | ⋮ | ⋮ | ⋮ | ⋮ | ⋮ |\n",
       "| X95_Meadow_Viper |  0.0000 | 0.000000 | 3.497164 | 0.7561437 | 0 | 95.74669 |\n",
       "| X96_European_Hare | 98.3857 | 1.614298 | 0.000000 | 0.0000000 | 0 |  0.00000 |\n",
       "\n"
      ],
      "text/plain": [
       "                    Methanobacteria;Methanobacteriales;Methanobacteriaceae\n",
       "F14_Common_Bream    75.58577                                              \n",
       "F157a_European_Toad 78.35821                                              \n",
       "⋮                   ⋮                                                     \n",
       "X95_Meadow_Viper     0.0000                                               \n",
       "X96_European_Hare   98.3857                                               \n",
       "                    Methanobacteria;Methanobacteriales;Methanothermobacteraceae\n",
       "F14_Common_Bream    0                                                          \n",
       "F157a_European_Toad 0                                                          \n",
       "⋮                   ⋮                                                          \n",
       "X95_Meadow_Viper    0.000000                                                   \n",
       "X96_European_Hare   1.614298                                                   \n",
       "                    Methanomicrobia;Methanomicrobiales;Methanocorpusculaceae\n",
       "F14_Common_Bream    1.880243                                                \n",
       "F157a_European_Toad 0.000000                                                \n",
       "⋮                   ⋮                                                       \n",
       "X95_Meadow_Viper    3.497164                                                \n",
       "X96_European_Hare   0.000000                                                \n",
       "                    Thermoplasmata;Methanomassiliicoccales;Methanomethylophilaceae\n",
       "F14_Common_Bream    0.1735609                                                     \n",
       "F157a_European_Toad 0.0000000                                                     \n",
       "⋮                   ⋮                                                             \n",
       "X95_Meadow_Viper    0.7561437                                                     \n",
       "X96_European_Hare   0.0000000                                                     \n",
       "                    Halobacteria;Halobacteriales;Haloferacaceae Other   \n",
       "F14_Common_Bream    0                                           22.36043\n",
       "F157a_European_Toad 0                                           21.64179\n",
       "⋮                   ⋮                                           ⋮       \n",
       "X95_Meadow_Viper    0                                           95.74669\n",
       "X96_European_Hare   0                                            0.00000"
      ]
     },
     "metadata": {},
     "output_type": "display_data"
    }
   ],
   "source": [
    "# creating multi-bar \n",
    "x = otu_s %>%\n",
    "    dt_pivot_wider(names_from=Taxonomy, values_from=perc_abund, values_fn=sum) %>%\n",
    "    dt_select({{phy_by_abund}}) %>%\n",
    "    as.data.frame \n",
    "rownames(x) = x$Sample\n",
    "x$Sample = NULL\n",
    "colnames(x) = gsub('^Euryarchaeota;', '', colnames(x))\n",
    "x"
   ]
  },
  {
   "cell_type": "code",
   "execution_count": 87,
   "metadata": {
    "ExecuteTime": {
     "end_time": "2020-06-15T13:54:31.466852Z",
     "start_time": "2020-06-15T13:54:31.413Z"
    }
   },
   "outputs": [
    {
     "data": {
      "text/plain": [
       "   Min. 1st Qu.  Median    Mean 3rd Qu.    Max. \n",
       "    100     100     100     100     100     100 "
      ]
     },
     "metadata": {},
     "output_type": "display_data"
    }
   ],
   "source": [
    "# checking abundances\n",
    "x %>% apply(1, sum) %>% summary"
   ]
  },
  {
   "cell_type": "code",
   "execution_count": 88,
   "metadata": {
    "ExecuteTime": {
     "end_time": "2020-06-15T13:54:32.141780Z",
     "start_time": "2020-06-15T13:54:32.081Z"
    }
   },
   "outputs": [
    {
     "name": "stdout",
     "output_type": "stream",
     "text": [
      "File written: /ebio/abt3_projects/Georg_animal_feces/data/16S_arch/MiSeq-Runs-116-122-126-189-190/LLA/dataset_explore//IndD_eury-family-abund_multibar.txt \n"
     ]
    }
   ],
   "source": [
    "# writing itol input file\n",
    "F = file.path(work_dir, 'IndD_eury-family-abund_multibar.txt')\n",
    "itol_multibar(x, 'Family_eury_perc_abund', F)"
   ]
  },
  {
   "cell_type": "markdown",
   "metadata": {},
   "source": [
    "#### Abundance summary"
   ]
  },
  {
   "cell_type": "code",
   "execution_count": 89,
   "metadata": {
    "ExecuteTime": {
     "end_time": "2020-06-15T13:54:33.558063Z",
     "start_time": "2020-06-15T13:54:33.291Z"
    }
   },
   "outputs": [
    {
     "data": {
      "text/html": [
       "<table>\n",
       "<caption>A data.table: 6845 × 3</caption>\n",
       "<thead>\n",
       "\t<tr><th scope=col>Sample</th><th scope=col>perc_abund</th><th scope=col>Taxonomy</th></tr>\n",
       "\t<tr><th scope=col>&lt;chr&gt;</th><th scope=col>&lt;dbl&gt;</th><th scope=col>&lt;chr&gt;</th></tr>\n",
       "</thead>\n",
       "<tbody>\n",
       "\t<tr><td>F14_Common_Bream</td><td>75.58577</td><td>Euryarchaeota;Methanobacteria;Methanobacteriales;Methanobacteriaceae</td></tr>\n",
       "\t<tr><td>F35_Red_Deer    </td><td>65.90181</td><td>Euryarchaeota;Methanobacteria;Methanobacteriales;Methanobacteriaceae</td></tr>\n",
       "\t<tr><td>⋮</td><td>⋮</td><td>⋮</td></tr>\n",
       "\t<tr><td>X431_Quagga     </td><td>0</td><td>Other</td></tr>\n",
       "\t<tr><td>X67_European_Roe</td><td>0</td><td>Other</td></tr>\n",
       "</tbody>\n",
       "</table>\n"
      ],
      "text/latex": [
       "A data.table: 6845 × 3\n",
       "\\begin{tabular}{lll}\n",
       " Sample & perc\\_abund & Taxonomy\\\\\n",
       " <chr> & <dbl> & <chr>\\\\\n",
       "\\hline\n",
       "\t F14\\_Common\\_Bream & 75.58577 & Euryarchaeota;Methanobacteria;Methanobacteriales;Methanobacteriaceae\\\\\n",
       "\t F35\\_Red\\_Deer     & 65.90181 & Euryarchaeota;Methanobacteria;Methanobacteriales;Methanobacteriaceae\\\\\n",
       "\t ⋮ & ⋮ & ⋮\\\\\n",
       "\t X431\\_Quagga      & 0 & Other\\\\\n",
       "\t X67\\_European\\_Roe & 0 & Other\\\\\n",
       "\\end{tabular}\n"
      ],
      "text/markdown": [
       "\n",
       "A data.table: 6845 × 3\n",
       "\n",
       "| Sample &lt;chr&gt; | perc_abund &lt;dbl&gt; | Taxonomy &lt;chr&gt; |\n",
       "|---|---|---|\n",
       "| F14_Common_Bream | 75.58577 | Euryarchaeota;Methanobacteria;Methanobacteriales;Methanobacteriaceae |\n",
       "| F35_Red_Deer     | 65.90181 | Euryarchaeota;Methanobacteria;Methanobacteriales;Methanobacteriaceae |\n",
       "| ⋮ | ⋮ | ⋮ |\n",
       "| X431_Quagga      | 0 | Other |\n",
       "| X67_European_Roe | 0 | Other |\n",
       "\n"
      ],
      "text/plain": [
       "     Sample           perc_abund\n",
       "1    F14_Common_Bream 75.58577  \n",
       "2    F35_Red_Deer     65.90181  \n",
       "⋮    ⋮                ⋮         \n",
       "6844 X431_Quagga      0         \n",
       "6845 X67_European_Roe 0         \n",
       "     Taxonomy                                                            \n",
       "1    Euryarchaeota;Methanobacteria;Methanobacteriales;Methanobacteriaceae\n",
       "2    Euryarchaeota;Methanobacteria;Methanobacteriales;Methanobacteriaceae\n",
       "⋮    ⋮                                                                   \n",
       "6844 Other                                                               \n",
       "6845 Other                                                               "
      ]
     },
     "metadata": {},
     "output_type": "display_data"
    }
   ],
   "source": [
    "otu_s = otu %>%\n",
    "    dt_summarize(perc_abund = sum(perc_abund),\n",
    "                 by=c(Sample, Phylum, Class, Order, Family)) %>%\n",
    "    dt_mutate(Taxonomy = paste(Phylum, Class, Order, Family, sep=';')) %>%\n",
    "    dt_mutate(Taxonomy = Taxonomy %>% as.character,\n",
    "              Taxonomy = ifelse(Phylum != 'Euryarchaeota', 'Other', Taxonomy),\n",
    "              Taxonomy = ifelse(grepl('^(unclassified|Uncultured|uncultured)', Family), 'Other', Taxonomy)) %>%\n",
    "    dt_select(-Phylum, -Class, -Order, -Family)\n",
    "otu_s"
   ]
  },
  {
   "cell_type": "code",
   "execution_count": 90,
   "metadata": {
    "ExecuteTime": {
     "end_time": "2020-06-15T13:54:34.173248Z",
     "start_time": "2020-06-15T13:54:34.038Z"
    }
   },
   "outputs": [
    {
     "data": {
      "text/html": [
       "<table>\n",
       "<caption>A data.table: 6845 × 3</caption>\n",
       "<thead>\n",
       "\t<tr><th scope=col>Sample</th><th scope=col>perc_abund</th><th scope=col>Taxonomy</th></tr>\n",
       "\t<tr><th scope=col>&lt;chr&gt;</th><th scope=col>&lt;dbl&gt;</th><th scope=col>&lt;chr&gt;</th></tr>\n",
       "</thead>\n",
       "<tbody>\n",
       "\t<tr><td>F14_Common_Bream</td><td>75.58577</td><td>Euryarchaeota;Methanobacteria;Methanobacteriales;Methanobacteriaceae</td></tr>\n",
       "\t<tr><td>F35_Red_Deer    </td><td>65.90181</td><td>Euryarchaeota;Methanobacteria;Methanobacteriales;Methanobacteriaceae</td></tr>\n",
       "\t<tr><td>⋮</td><td>⋮</td><td>⋮</td></tr>\n",
       "\t<tr><td>X431_Quagga     </td><td>0</td><td>Other</td></tr>\n",
       "\t<tr><td>X67_European_Roe</td><td>0</td><td>Other</td></tr>\n",
       "</tbody>\n",
       "</table>\n"
      ],
      "text/latex": [
       "A data.table: 6845 × 3\n",
       "\\begin{tabular}{lll}\n",
       " Sample & perc\\_abund & Taxonomy\\\\\n",
       " <chr> & <dbl> & <chr>\\\\\n",
       "\\hline\n",
       "\t F14\\_Common\\_Bream & 75.58577 & Euryarchaeota;Methanobacteria;Methanobacteriales;Methanobacteriaceae\\\\\n",
       "\t F35\\_Red\\_Deer     & 65.90181 & Euryarchaeota;Methanobacteria;Methanobacteriales;Methanobacteriaceae\\\\\n",
       "\t ⋮ & ⋮ & ⋮\\\\\n",
       "\t X431\\_Quagga      & 0 & Other\\\\\n",
       "\t X67\\_European\\_Roe & 0 & Other\\\\\n",
       "\\end{tabular}\n"
      ],
      "text/markdown": [
       "\n",
       "A data.table: 6845 × 3\n",
       "\n",
       "| Sample &lt;chr&gt; | perc_abund &lt;dbl&gt; | Taxonomy &lt;chr&gt; |\n",
       "|---|---|---|\n",
       "| F14_Common_Bream | 75.58577 | Euryarchaeota;Methanobacteria;Methanobacteriales;Methanobacteriaceae |\n",
       "| F35_Red_Deer     | 65.90181 | Euryarchaeota;Methanobacteria;Methanobacteriales;Methanobacteriaceae |\n",
       "| ⋮ | ⋮ | ⋮ |\n",
       "| X431_Quagga      | 0 | Other |\n",
       "| X67_European_Roe | 0 | Other |\n",
       "\n"
      ],
      "text/plain": [
       "     Sample           perc_abund\n",
       "1    F14_Common_Bream 75.58577  \n",
       "2    F35_Red_Deer     65.90181  \n",
       "⋮    ⋮                ⋮         \n",
       "6844 X431_Quagga      0         \n",
       "6845 X67_European_Roe 0         \n",
       "     Taxonomy                                                            \n",
       "1    Euryarchaeota;Methanobacteria;Methanobacteriales;Methanobacteriaceae\n",
       "2    Euryarchaeota;Methanobacteria;Methanobacteriales;Methanobacteriaceae\n",
       "⋮    ⋮                                                                   \n",
       "6844 Other                                                               \n",
       "6845 Other                                                               "
      ]
     },
     "metadata": {},
     "output_type": "display_data"
    }
   ],
   "source": [
    "# changing rare to \"Other\"\n",
    "otu_s = otu_s %>%\n",
    "    dt_mutate(mean_perc_abund = mean(perc_abund), by=c(Taxonomy)) %>%\n",
    "    dt_mutate(Taxonomy = Taxonomy %>% as.character,\n",
    "              Taxonomy = ifelse(mean_perc_abund < 0.01, 'Other', Taxonomy)) %>%\n",
    "    dt_select(-mean_perc_abund)\n",
    "otu_s"
   ]
  },
  {
   "cell_type": "code",
   "execution_count": 91,
   "metadata": {
    "ExecuteTime": {
     "end_time": "2020-06-15T13:54:34.900266Z",
     "start_time": "2020-06-15T13:54:34.740Z"
    }
   },
   "outputs": [
    {
     "data": {
      "text/html": [
       "<table>\n",
       "<caption>A data.table: 17 × 4</caption>\n",
       "<thead>\n",
       "\t<tr><th scope=col>Taxonomy</th><th scope=col>Mean Perc. Abund.</th><th scope=col>s.d. Perc. Abund.</th><th scope=col>Max Perc. Abund.</th></tr>\n",
       "\t<tr><th scope=col>&lt;chr&gt;</th><th scope=col>&lt;dbl&gt;</th><th scope=col>&lt;dbl&gt;</th><th scope=col>&lt;dbl&gt;</th></tr>\n",
       "</thead>\n",
       "<tbody>\n",
       "\t<tr><td>Euryarchaeota;Methanobacteria;Methanobacteriales;Methanobacteriaceae         </td><td>47.4</td><td>38.6</td><td>100.0</td></tr>\n",
       "\t<tr><td>Euryarchaeota;Methanobacteria;Methanobacteriales;Methanothermobacteraceae    </td><td>24.0</td><td>35.5</td><td> 97.4</td></tr>\n",
       "\t<tr><td>Euryarchaeota;Methanomicrobia;Methanomicrobiales;Methanocorpusculaceae       </td><td> 9.7</td><td>21.2</td><td> 90.6</td></tr>\n",
       "\t<tr><td>Euryarchaeota;Thermoplasmata;Methanomassiliicoccales;Methanomethylophilaceae </td><td> 8.4</td><td>19.9</td><td>100.0</td></tr>\n",
       "\t<tr><td>Euryarchaeota;Halobacteria;Halobacteriales;Haloferacaceae                    </td><td> 2.8</td><td>14.4</td><td> 85.5</td></tr>\n",
       "\t<tr><td>Euryarchaeota;Methanomicrobia;Methanosarcinales;Methanosarcinaceae           </td><td> 1.0</td><td> 3.3</td><td> 20.7</td></tr>\n",
       "\t<tr><td>Euryarchaeota;Halobacteria;Halobacteriales;Halococcaceae                     </td><td> 0.4</td><td> 2.0</td><td> 13.6</td></tr>\n",
       "\t<tr><td>Other                                                                        </td><td> 0.3</td><td> 4.1</td><td>100.0</td></tr>\n",
       "\t<tr><td>Euryarchaeota;Halobacteria;Halobacteriales;Halomicrobiaceae                  </td><td> 0.1</td><td> 0.4</td><td>  5.2</td></tr>\n",
       "\t<tr><td>Euryarchaeota;Halobacteria;Halobacteriales;Haloadaptaceae                    </td><td> 0.1</td><td> 1.0</td><td> 14.2</td></tr>\n",
       "\t<tr><td>Euryarchaeota;Methanomicrobia;Methanosarcinales;Methanosaetaceae             </td><td> 0.1</td><td> 0.5</td><td>  6.6</td></tr>\n",
       "\t<tr><td>Euryarchaeota;Methanomicrobia;Methanomicrobiales;Methanospirillaceae         </td><td> 0.1</td><td> 1.1</td><td> 13.9</td></tr>\n",
       "\t<tr><td>Euryarchaeota;Methanomicrobia;Methanosarcinales;Methanoperedenaceae          </td><td> 0.0</td><td> 0.2</td><td>  2.5</td></tr>\n",
       "\t<tr><td>Euryarchaeota;Methanomicrobia;Methanocellales;Methanocellaceae               </td><td> 0.0</td><td> 0.2</td><td>  2.1</td></tr>\n",
       "\t<tr><td>Euryarchaeota;Methanomicrobia;Methanomicrobiales;Methanomicrobiaceae         </td><td> 0.0</td><td> 0.3</td><td>  3.8</td></tr>\n",
       "\t<tr><td>Euryarchaeota;Methanomicrobia;Methanomicrobiales;Methanoregulaceae           </td><td> 0.0</td><td> 0.2</td><td>  1.5</td></tr>\n",
       "\t<tr><td>Euryarchaeota;Thermoplasmata;Methanomassiliicoccales;Methanomassiliicoccaceae</td><td> 0.0</td><td> 0.3</td><td>  3.1</td></tr>\n",
       "</tbody>\n",
       "</table>\n"
      ],
      "text/latex": [
       "A data.table: 17 × 4\n",
       "\\begin{tabular}{llll}\n",
       " Taxonomy & Mean Perc. Abund. & s.d. Perc. Abund. & Max Perc. Abund.\\\\\n",
       " <chr> & <dbl> & <dbl> & <dbl>\\\\\n",
       "\\hline\n",
       "\t Euryarchaeota;Methanobacteria;Methanobacteriales;Methanobacteriaceae          & 47.4 & 38.6 & 100.0\\\\\n",
       "\t Euryarchaeota;Methanobacteria;Methanobacteriales;Methanothermobacteraceae     & 24.0 & 35.5 &  97.4\\\\\n",
       "\t Euryarchaeota;Methanomicrobia;Methanomicrobiales;Methanocorpusculaceae        &  9.7 & 21.2 &  90.6\\\\\n",
       "\t Euryarchaeota;Thermoplasmata;Methanomassiliicoccales;Methanomethylophilaceae  &  8.4 & 19.9 & 100.0\\\\\n",
       "\t Euryarchaeota;Halobacteria;Halobacteriales;Haloferacaceae                     &  2.8 & 14.4 &  85.5\\\\\n",
       "\t Euryarchaeota;Methanomicrobia;Methanosarcinales;Methanosarcinaceae            &  1.0 &  3.3 &  20.7\\\\\n",
       "\t Euryarchaeota;Halobacteria;Halobacteriales;Halococcaceae                      &  0.4 &  2.0 &  13.6\\\\\n",
       "\t Other                                                                         &  0.3 &  4.1 & 100.0\\\\\n",
       "\t Euryarchaeota;Halobacteria;Halobacteriales;Halomicrobiaceae                   &  0.1 &  0.4 &   5.2\\\\\n",
       "\t Euryarchaeota;Halobacteria;Halobacteriales;Haloadaptaceae                     &  0.1 &  1.0 &  14.2\\\\\n",
       "\t Euryarchaeota;Methanomicrobia;Methanosarcinales;Methanosaetaceae              &  0.1 &  0.5 &   6.6\\\\\n",
       "\t Euryarchaeota;Methanomicrobia;Methanomicrobiales;Methanospirillaceae          &  0.1 &  1.1 &  13.9\\\\\n",
       "\t Euryarchaeota;Methanomicrobia;Methanosarcinales;Methanoperedenaceae           &  0.0 &  0.2 &   2.5\\\\\n",
       "\t Euryarchaeota;Methanomicrobia;Methanocellales;Methanocellaceae                &  0.0 &  0.2 &   2.1\\\\\n",
       "\t Euryarchaeota;Methanomicrobia;Methanomicrobiales;Methanomicrobiaceae          &  0.0 &  0.3 &   3.8\\\\\n",
       "\t Euryarchaeota;Methanomicrobia;Methanomicrobiales;Methanoregulaceae            &  0.0 &  0.2 &   1.5\\\\\n",
       "\t Euryarchaeota;Thermoplasmata;Methanomassiliicoccales;Methanomassiliicoccaceae &  0.0 &  0.3 &   3.1\\\\\n",
       "\\end{tabular}\n"
      ],
      "text/markdown": [
       "\n",
       "A data.table: 17 × 4\n",
       "\n",
       "| Taxonomy &lt;chr&gt; | Mean Perc. Abund. &lt;dbl&gt; | s.d. Perc. Abund. &lt;dbl&gt; | Max Perc. Abund. &lt;dbl&gt; |\n",
       "|---|---|---|---|\n",
       "| Euryarchaeota;Methanobacteria;Methanobacteriales;Methanobacteriaceae          | 47.4 | 38.6 | 100.0 |\n",
       "| Euryarchaeota;Methanobacteria;Methanobacteriales;Methanothermobacteraceae     | 24.0 | 35.5 |  97.4 |\n",
       "| Euryarchaeota;Methanomicrobia;Methanomicrobiales;Methanocorpusculaceae        |  9.7 | 21.2 |  90.6 |\n",
       "| Euryarchaeota;Thermoplasmata;Methanomassiliicoccales;Methanomethylophilaceae  |  8.4 | 19.9 | 100.0 |\n",
       "| Euryarchaeota;Halobacteria;Halobacteriales;Haloferacaceae                     |  2.8 | 14.4 |  85.5 |\n",
       "| Euryarchaeota;Methanomicrobia;Methanosarcinales;Methanosarcinaceae            |  1.0 |  3.3 |  20.7 |\n",
       "| Euryarchaeota;Halobacteria;Halobacteriales;Halococcaceae                      |  0.4 |  2.0 |  13.6 |\n",
       "| Other                                                                         |  0.3 |  4.1 | 100.0 |\n",
       "| Euryarchaeota;Halobacteria;Halobacteriales;Halomicrobiaceae                   |  0.1 |  0.4 |   5.2 |\n",
       "| Euryarchaeota;Halobacteria;Halobacteriales;Haloadaptaceae                     |  0.1 |  1.0 |  14.2 |\n",
       "| Euryarchaeota;Methanomicrobia;Methanosarcinales;Methanosaetaceae              |  0.1 |  0.5 |   6.6 |\n",
       "| Euryarchaeota;Methanomicrobia;Methanomicrobiales;Methanospirillaceae          |  0.1 |  1.1 |  13.9 |\n",
       "| Euryarchaeota;Methanomicrobia;Methanosarcinales;Methanoperedenaceae           |  0.0 |  0.2 |   2.5 |\n",
       "| Euryarchaeota;Methanomicrobia;Methanocellales;Methanocellaceae                |  0.0 |  0.2 |   2.1 |\n",
       "| Euryarchaeota;Methanomicrobia;Methanomicrobiales;Methanomicrobiaceae          |  0.0 |  0.3 |   3.8 |\n",
       "| Euryarchaeota;Methanomicrobia;Methanomicrobiales;Methanoregulaceae            |  0.0 |  0.2 |   1.5 |\n",
       "| Euryarchaeota;Thermoplasmata;Methanomassiliicoccales;Methanomassiliicoccaceae |  0.0 |  0.3 |   3.1 |\n",
       "\n"
      ],
      "text/plain": [
       "   Taxonomy                                                                     \n",
       "1  Euryarchaeota;Methanobacteria;Methanobacteriales;Methanobacteriaceae         \n",
       "2  Euryarchaeota;Methanobacteria;Methanobacteriales;Methanothermobacteraceae    \n",
       "3  Euryarchaeota;Methanomicrobia;Methanomicrobiales;Methanocorpusculaceae       \n",
       "4  Euryarchaeota;Thermoplasmata;Methanomassiliicoccales;Methanomethylophilaceae \n",
       "5  Euryarchaeota;Halobacteria;Halobacteriales;Haloferacaceae                    \n",
       "6  Euryarchaeota;Methanomicrobia;Methanosarcinales;Methanosarcinaceae           \n",
       "7  Euryarchaeota;Halobacteria;Halobacteriales;Halococcaceae                     \n",
       "8  Other                                                                        \n",
       "9  Euryarchaeota;Halobacteria;Halobacteriales;Halomicrobiaceae                  \n",
       "10 Euryarchaeota;Halobacteria;Halobacteriales;Haloadaptaceae                    \n",
       "11 Euryarchaeota;Methanomicrobia;Methanosarcinales;Methanosaetaceae             \n",
       "12 Euryarchaeota;Methanomicrobia;Methanomicrobiales;Methanospirillaceae         \n",
       "13 Euryarchaeota;Methanomicrobia;Methanosarcinales;Methanoperedenaceae          \n",
       "14 Euryarchaeota;Methanomicrobia;Methanocellales;Methanocellaceae               \n",
       "15 Euryarchaeota;Methanomicrobia;Methanomicrobiales;Methanomicrobiaceae         \n",
       "16 Euryarchaeota;Methanomicrobia;Methanomicrobiales;Methanoregulaceae           \n",
       "17 Euryarchaeota;Thermoplasmata;Methanomassiliicoccales;Methanomassiliicoccaceae\n",
       "   Mean Perc. Abund. s.d. Perc. Abund. Max Perc. Abund.\n",
       "1  47.4              38.6              100.0           \n",
       "2  24.0              35.5               97.4           \n",
       "3   9.7              21.2               90.6           \n",
       "4   8.4              19.9              100.0           \n",
       "5   2.8              14.4               85.5           \n",
       "6   1.0               3.3               20.7           \n",
       "7   0.4               2.0               13.6           \n",
       "8   0.3               4.1              100.0           \n",
       "9   0.1               0.4                5.2           \n",
       "10  0.1               1.0               14.2           \n",
       "11  0.1               0.5                6.6           \n",
       "12  0.1               1.1               13.9           \n",
       "13  0.0               0.2                2.5           \n",
       "14  0.0               0.2                2.1           \n",
       "15  0.0               0.3                3.8           \n",
       "16  0.0               0.2                1.5           \n",
       "17  0.0               0.3                3.1           "
      ]
     },
     "metadata": {},
     "output_type": "display_data"
    }
   ],
   "source": [
    "df.dims(20)\n",
    "otu_s %>%\n",
    "    dt_summarize(mean_abund = mean(perc_abund), \n",
    "                 sd_abund = sd(perc_abund),\n",
    "                 max_abund = max(perc_abund),\n",
    "                 by=c(Taxonomy)) %>%\n",
    "    dt_mutate_across(is.numeric, function(x) round(x,1)) %>%\n",
    "    dt_arrange(-mean_abund) %>%\n",
    "    dt_rename('Mean Perc. Abund.' = mean_abund,\n",
    "              's.d. Perc. Abund.' = sd_abund,\n",
    "              'Max Perc. Abund.' = max_abund)\n",
    "df.dims()"
   ]
  },
  {
   "cell_type": "markdown",
   "metadata": {},
   "source": [
    "# SpecD"
   ]
  },
  {
   "cell_type": "markdown",
   "metadata": {},
   "source": [
    "## Checks"
   ]
  },
  {
   "cell_type": "code",
   "execution_count": 92,
   "metadata": {
    "ExecuteTime": {
     "end_time": "2020-06-15T13:54:36.442492Z",
     "start_time": "2020-06-15T13:54:36.367Z"
    }
   },
   "outputs": [
    {
     "name": "stdout",
     "output_type": "stream",
     "text": [
      "intersect(x,y): 110 \n",
      "setdiff(x,y): 0 \n",
      "setdiff(y,x): 0 \n",
      "union(x,y): 110 \n"
     ]
    }
   ],
   "source": [
    "# IndD: physeq vs host tree\n",
    "meta = physeq_arch_SpecD %>%\n",
    "    sample_data %>% as.matrix %>% as.data.frame\n",
    "\n",
    "overlap(meta %>% dt_pull(scientific_name), host_tree_SpecD$tip.label)"
   ]
  },
  {
   "cell_type": "markdown",
   "metadata": {},
   "source": [
    "## Metadata"
   ]
  },
  {
   "cell_type": "code",
   "execution_count": 93,
   "metadata": {
    "ExecuteTime": {
     "end_time": "2020-06-15T13:54:37.716772Z",
     "start_time": "2020-06-15T13:54:37.600Z"
    }
   },
   "outputs": [
    {
     "data": {
      "text/html": [
       "<table>\n",
       "<caption>A data.table: 110 × 88</caption>\n",
       "<thead>\n",
       "\t<tr><th scope=col>SampleID</th><th scope=col>host_subject_id</th><th scope=col>host_german_name</th><th scope=col>host_common_name</th><th scope=col>scientific_name</th><th scope=col>scientific_name_subspecies</th><th scope=col>host_taxid</th><th scope=col>class</th><th scope=col>order</th><th scope=col>family</th><th scope=col>⋯</th><th scope=col>CH4_kJ.d_mean</th><th scope=col>CH4_kJ.d_sd</th><th scope=col>i.CH4_L.d_mean</th><th scope=col>i.CH4_L.d_sd</th><th scope=col>i.CH4_L.kgBM_mean</th><th scope=col>i.CH4_L.kgBM_sd</th><th scope=col>i.CH4_g.d_mean</th><th scope=col>i.CH4_g.d_sd</th><th scope=col>i.CH4_kJ.d_mean</th><th scope=col>i.CH4_kJ.d_sd</th></tr>\n",
       "\t<tr><th scope=col>&lt;chr&gt;</th><th scope=col>&lt;chr&gt;</th><th scope=col>&lt;chr&gt;</th><th scope=col>&lt;chr&gt;</th><th scope=col>&lt;chr&gt;</th><th scope=col>&lt;chr&gt;</th><th scope=col>&lt;chr&gt;</th><th scope=col>&lt;chr&gt;</th><th scope=col>&lt;chr&gt;</th><th scope=col>&lt;chr&gt;</th><th scope=col>⋯</th><th scope=col>&lt;chr&gt;</th><th scope=col>&lt;chr&gt;</th><th scope=col>&lt;chr&gt;</th><th scope=col>&lt;chr&gt;</th><th scope=col>&lt;chr&gt;</th><th scope=col>&lt;chr&gt;</th><th scope=col>&lt;chr&gt;</th><th scope=col>&lt;chr&gt;</th><th scope=col>&lt;chr&gt;</th><th scope=col>&lt;chr&gt;</th></tr>\n",
       "</thead>\n",
       "<tbody>\n",
       "\t<tr><td>F14_Common_Bream</td><td>F14</td><td>Brachse  </td><td>Common.Bream</td><td>Abramis_brama</td><td>NA</td><td> 38527</td><td>Actinopterygii</td><td>Cypriniformes</td><td>Cyprinidae</td><td>⋯</td><td>NA</td><td>NA</td><td>NA</td><td>NA</td><td>NA</td><td>NA</td><td>NA</td><td>NA</td><td>NA</td><td>NA</td></tr>\n",
       "\t<tr><td>F44_Fallow_Deer </td><td>F44</td><td>Damhirsch</td><td>Fallow.Deer </td><td>Dama_dama    </td><td>NA</td><td> 30532</td><td>Mammalia      </td><td>Artiodactyla </td><td>Cervidae  </td><td>⋯</td><td>NA</td><td>NA</td><td>NA</td><td>NA</td><td>NA</td><td>NA</td><td>NA</td><td>NA</td><td>NA</td><td>NA</td></tr>\n",
       "\t<tr><td>⋮</td><td>⋮</td><td>⋮</td><td>⋮</td><td>⋮</td><td>⋮</td><td>⋮</td><td>⋮</td><td>⋮</td><td>⋮</td><td>⋱</td><td>⋮</td><td>⋮</td><td>⋮</td><td>⋮</td><td>⋮</td><td>⋮</td><td>⋮</td><td>⋮</td><td>⋮</td><td>⋮</td></tr>\n",
       "\t<tr><td>X405_Nile_Crocodile</td><td>405</td><td>Nilkrokodil</td><td>Nile.Crocodile</td><td>Crocodylus_niloticus</td><td>NA</td><td>  8501</td><td>Reptilia</td><td>Crocodilia  </td><td>Crocodylidae</td><td>⋯</td><td>NA</td><td>NA</td><td>NA</td><td>NA</td><td>NA</td><td>NA</td><td>NA</td><td>NA</td><td>NA</td><td>NA</td></tr>\n",
       "\t<tr><td>X67_European_Roe   </td><td>67 </td><td>Reh        </td><td>European.Roe  </td><td>Capreolus_capreolus </td><td>NA</td><td>  9858</td><td>Mammalia</td><td>Artiodactyla</td><td>Cervidae    </td><td>⋯</td><td>NA</td><td>NA</td><td>NA</td><td>NA</td><td>NA</td><td>NA</td><td>NA</td><td>NA</td><td>NA</td><td>NA</td></tr>\n",
       "</tbody>\n",
       "</table>\n"
      ],
      "text/latex": [
       "A data.table: 110 × 88\n",
       "\\begin{tabular}{lllllllllllllllllllll}\n",
       " SampleID & host\\_subject\\_id & host\\_german\\_name & host\\_common\\_name & scientific\\_name & scientific\\_name\\_subspecies & host\\_taxid & class & order & family & ⋯ & CH4\\_kJ.d\\_mean & CH4\\_kJ.d\\_sd & i.CH4\\_L.d\\_mean & i.CH4\\_L.d\\_sd & i.CH4\\_L.kgBM\\_mean & i.CH4\\_L.kgBM\\_sd & i.CH4\\_g.d\\_mean & i.CH4\\_g.d\\_sd & i.CH4\\_kJ.d\\_mean & i.CH4\\_kJ.d\\_sd\\\\\n",
       " <chr> & <chr> & <chr> & <chr> & <chr> & <chr> & <chr> & <chr> & <chr> & <chr> & ⋯ & <chr> & <chr> & <chr> & <chr> & <chr> & <chr> & <chr> & <chr> & <chr> & <chr>\\\\\n",
       "\\hline\n",
       "\t F14\\_Common\\_Bream & F14 & Brachse   & Common.Bream & Abramis\\_brama & NA &  38527 & Actinopterygii & Cypriniformes & Cyprinidae & ⋯ & NA & NA & NA & NA & NA & NA & NA & NA & NA & NA\\\\\n",
       "\t F44\\_Fallow\\_Deer  & F44 & Damhirsch & Fallow.Deer  & Dama\\_dama     & NA &  30532 & Mammalia       & Artiodactyla  & Cervidae   & ⋯ & NA & NA & NA & NA & NA & NA & NA & NA & NA & NA\\\\\n",
       "\t ⋮ & ⋮ & ⋮ & ⋮ & ⋮ & ⋮ & ⋮ & ⋮ & ⋮ & ⋮ & ⋱ & ⋮ & ⋮ & ⋮ & ⋮ & ⋮ & ⋮ & ⋮ & ⋮ & ⋮ & ⋮\\\\\n",
       "\t X405\\_Nile\\_Crocodile & 405 & Nilkrokodil & Nile.Crocodile & Crocodylus\\_niloticus & NA &   8501 & Reptilia & Crocodilia   & Crocodylidae & ⋯ & NA & NA & NA & NA & NA & NA & NA & NA & NA & NA\\\\\n",
       "\t X67\\_European\\_Roe    & 67  & Reh         & European.Roe   & Capreolus\\_capreolus  & NA &   9858 & Mammalia & Artiodactyla & Cervidae     & ⋯ & NA & NA & NA & NA & NA & NA & NA & NA & NA & NA\\\\\n",
       "\\end{tabular}\n"
      ],
      "text/markdown": [
       "\n",
       "A data.table: 110 × 88\n",
       "\n",
       "| SampleID &lt;chr&gt; | host_subject_id &lt;chr&gt; | host_german_name &lt;chr&gt; | host_common_name &lt;chr&gt; | scientific_name &lt;chr&gt; | scientific_name_subspecies &lt;chr&gt; | host_taxid &lt;chr&gt; | class &lt;chr&gt; | order &lt;chr&gt; | family &lt;chr&gt; | ⋯ ⋯ | CH4_kJ.d_mean &lt;chr&gt; | CH4_kJ.d_sd &lt;chr&gt; | i.CH4_L.d_mean &lt;chr&gt; | i.CH4_L.d_sd &lt;chr&gt; | i.CH4_L.kgBM_mean &lt;chr&gt; | i.CH4_L.kgBM_sd &lt;chr&gt; | i.CH4_g.d_mean &lt;chr&gt; | i.CH4_g.d_sd &lt;chr&gt; | i.CH4_kJ.d_mean &lt;chr&gt; | i.CH4_kJ.d_sd &lt;chr&gt; |\n",
       "|---|---|---|---|---|---|---|---|---|---|---|---|---|---|---|---|---|---|---|---|---|\n",
       "| F14_Common_Bream | F14 | Brachse   | Common.Bream | Abramis_brama | NA |  38527 | Actinopterygii | Cypriniformes | Cyprinidae | ⋯ | NA | NA | NA | NA | NA | NA | NA | NA | NA | NA |\n",
       "| F44_Fallow_Deer  | F44 | Damhirsch | Fallow.Deer  | Dama_dama     | NA |  30532 | Mammalia       | Artiodactyla  | Cervidae   | ⋯ | NA | NA | NA | NA | NA | NA | NA | NA | NA | NA |\n",
       "| ⋮ | ⋮ | ⋮ | ⋮ | ⋮ | ⋮ | ⋮ | ⋮ | ⋮ | ⋮ | ⋱ | ⋮ | ⋮ | ⋮ | ⋮ | ⋮ | ⋮ | ⋮ | ⋮ | ⋮ | ⋮ |\n",
       "| X405_Nile_Crocodile | 405 | Nilkrokodil | Nile.Crocodile | Crocodylus_niloticus | NA |   8501 | Reptilia | Crocodilia   | Crocodylidae | ⋯ | NA | NA | NA | NA | NA | NA | NA | NA | NA | NA |\n",
       "| X67_European_Roe    | 67  | Reh         | European.Roe   | Capreolus_capreolus  | NA |   9858 | Mammalia | Artiodactyla | Cervidae     | ⋯ | NA | NA | NA | NA | NA | NA | NA | NA | NA | NA |\n",
       "\n"
      ],
      "text/plain": [
       "    SampleID            host_subject_id host_german_name host_common_name\n",
       "1   F14_Common_Bream    F14             Brachse          Common.Bream    \n",
       "2   F44_Fallow_Deer     F44             Damhirsch        Fallow.Deer     \n",
       "⋮   ⋮                   ⋮               ⋮                ⋮               \n",
       "109 X405_Nile_Crocodile 405             Nilkrokodil      Nile.Crocodile  \n",
       "110 X67_European_Roe    67              Reh              European.Roe    \n",
       "    scientific_name      scientific_name_subspecies host_taxid class         \n",
       "1   Abramis_brama        NA                          38527     Actinopterygii\n",
       "2   Dama_dama            NA                          30532     Mammalia      \n",
       "⋮   ⋮                    ⋮                          ⋮          ⋮             \n",
       "109 Crocodylus_niloticus NA                           8501     Reptilia      \n",
       "110 Capreolus_capreolus  NA                           9858     Mammalia      \n",
       "    order         family       ⋯ CH4_kJ.d_mean CH4_kJ.d_sd i.CH4_L.d_mean\n",
       "1   Cypriniformes Cyprinidae   ⋯ NA            NA          NA            \n",
       "2   Artiodactyla  Cervidae     ⋯ NA            NA          NA            \n",
       "⋮   ⋮             ⋮            ⋱ ⋮             ⋮           ⋮             \n",
       "109 Crocodilia    Crocodylidae ⋯ NA            NA          NA            \n",
       "110 Artiodactyla  Cervidae     ⋯ NA            NA          NA            \n",
       "    i.CH4_L.d_sd i.CH4_L.kgBM_mean i.CH4_L.kgBM_sd i.CH4_g.d_mean i.CH4_g.d_sd\n",
       "1   NA           NA                NA              NA             NA          \n",
       "2   NA           NA                NA              NA             NA          \n",
       "⋮   ⋮            ⋮                 ⋮               ⋮              ⋮           \n",
       "109 NA           NA                NA              NA             NA          \n",
       "110 NA           NA                NA              NA             NA          \n",
       "    i.CH4_kJ.d_mean i.CH4_kJ.d_sd\n",
       "1   NA              NA           \n",
       "2   NA              NA           \n",
       "⋮   ⋮               ⋮            \n",
       "109 NA              NA           \n",
       "110 NA              NA           "
      ]
     },
     "metadata": {},
     "output_type": "display_data"
    }
   ],
   "source": [
    "meta = physeq_arch_SpecD %>% sample_data %>% as.matrix %>% as.data.table\n",
    "meta"
   ]
  },
  {
   "cell_type": "markdown",
   "metadata": {},
   "source": [
    "### Diet"
   ]
  },
  {
   "cell_type": "code",
   "execution_count": 96,
   "metadata": {
    "ExecuteTime": {
     "end_time": "2020-06-15T13:56:28.870638Z",
     "start_time": "2020-06-15T13:56:28.746Z"
    }
   },
   "outputs": [
    {
     "name": "stdout",
     "output_type": "stream",
     "text": [
      "[1] \"omnivore\"  \"herbivore\" \"carnivore\"\n",
      "File written: /ebio/abt3_projects/Georg_animal_feces/data/16S_arch/MiSeq-Runs-116-122-126-189-190/LLA/dataset_explore//SpecD_diet_clrstrp.txt \n"
     ]
    }
   ],
   "source": [
    "# simple diet\n",
    "x = meta %>%\n",
    "    dt_select(scientific_name, diet) %>%\n",
    "    as.data.frame\n",
    "rownames(x) = x$scientific_name\n",
    "x$scientific_name = NULL\n",
    "\n",
    "# legend\n",
    "y = meta %>% dt_pull(diet) %>% unique\n",
    "print(y)\n",
    "cols = c('#FFCC33', '#00CC00', '#FF0000')\n",
    "legend = data.frame(labels = y,\n",
    "                    colors = cols,\n",
    "                    shapes = rep(1, length(labels)))\n",
    "\n",
    "# creating the itol input file\n",
    "F = file.path(work_dir, 'SpecD_diet_clrstrp.txt')\n",
    "itol_colorstrip(x, 'diet', F, legend=legend)"
   ]
  },
  {
   "cell_type": "markdown",
   "metadata": {},
   "source": [
    "### Diet: detailed"
   ]
  },
  {
   "cell_type": "code",
   "execution_count": 52,
   "metadata": {
    "ExecuteTime": {
     "end_time": "2020-05-27T14:19:16.460713Z",
     "start_time": "2020-05-27T14:19:04.360Z"
    }
   },
   "outputs": [
    {
     "data": {
      "text/plain": [
       " scientific_name    diet_vertebrate    diet_invertebrate   diet_fruit       \n",
       " Length:110         Length:110         Length:110         Length:110        \n",
       " Class :character   Class :character   Class :character   Class :character  \n",
       " Mode  :character   Mode  :character   Mode  :character   Mode  :character  \n",
       " diet_flowers_nectar_pollen diet_leaves_branches_bark_buds  diet_seeds       \n",
       " Length:110                 Length:110                     Length:110        \n",
       " Class :character           Class :character               Class :character  \n",
       " Mode  :character           Mode  :character               Mode  :character  \n",
       " diet_grass_waterplants diet_roots_tubers \n",
       " Length:110             Length:110        \n",
       " Class :character       Class :character  \n",
       " Mode  :character       Mode  :character  "
      ]
     },
     "metadata": {},
     "output_type": "display_data"
    }
   ],
   "source": [
    "meta %>% \n",
    "    dt_distinct(scientific_name, diet_vertebrate, diet_invertebrate, \n",
    "                  diet_fruit, diet_flowers_nectar_pollen, diet_leaves_branches_bark_buds, \n",
    "                  diet_seeds, diet_grass_waterplants, diet_roots_tubers) %>%\n",
    " summary"
   ]
  },
  {
   "cell_type": "code",
   "execution_count": 53,
   "metadata": {
    "ExecuteTime": {
     "end_time": "2020-05-27T14:19:16.555041Z",
     "start_time": "2020-05-27T14:19:04.366Z"
    }
   },
   "outputs": [
    {
     "data": {
      "text/html": [
       "<table>\n",
       "<caption>A data.frame: 110 × 8</caption>\n",
       "<thead>\n",
       "\t<tr><th></th><th scope=col>flowers_nectar_pollen</th><th scope=col>fruit</th><th scope=col>grass_waterplants</th><th scope=col>invertebrate</th><th scope=col>leaves_branches_bark_buds</th><th scope=col>roots_tubers</th><th scope=col>seeds</th><th scope=col>vertebrate</th></tr>\n",
       "\t<tr><th></th><th scope=col>&lt;dbl&gt;</th><th scope=col>&lt;dbl&gt;</th><th scope=col>&lt;dbl&gt;</th><th scope=col>&lt;dbl&gt;</th><th scope=col>&lt;dbl&gt;</th><th scope=col>&lt;dbl&gt;</th><th scope=col>&lt;dbl&gt;</th><th scope=col>&lt;dbl&gt;</th></tr>\n",
       "</thead>\n",
       "<tbody>\n",
       "\t<tr><th scope=row>Abramis_brama</th><td>0</td><td>0</td><td>1</td><td>1</td><td>0</td><td>0</td><td>0</td><td>0</td></tr>\n",
       "\t<tr><th scope=row>Aepyceros_melampus</th><td>1</td><td>0</td><td>1</td><td>0</td><td>1</td><td>0</td><td>1</td><td>0</td></tr>\n",
       "\t<tr><th scope=row>⋮</th><td>⋮</td><td>⋮</td><td>⋮</td><td>⋮</td><td>⋮</td><td>⋮</td><td>⋮</td><td>⋮</td></tr>\n",
       "\t<tr><th scope=row>Vulpes_vulpes</th><td>0</td><td>1</td><td>0</td><td>1</td><td>0</td><td>0</td><td>0</td><td>1</td></tr>\n",
       "\t<tr><th scope=row>Zamenis_longissimus</th><td>0</td><td>0</td><td>0</td><td>0</td><td>0</td><td>0</td><td>0</td><td>1</td></tr>\n",
       "</tbody>\n",
       "</table>\n"
      ],
      "text/latex": [
       "A data.frame: 110 × 8\n",
       "\\begin{tabular}{r|llllllll}\n",
       "  & flowers\\_nectar\\_pollen & fruit & grass\\_waterplants & invertebrate & leaves\\_branches\\_bark\\_buds & roots\\_tubers & seeds & vertebrate\\\\\n",
       "  & <dbl> & <dbl> & <dbl> & <dbl> & <dbl> & <dbl> & <dbl> & <dbl>\\\\\n",
       "\\hline\n",
       "\tAbramis\\_brama & 0 & 0 & 1 & 1 & 0 & 0 & 0 & 0\\\\\n",
       "\tAepyceros\\_melampus & 1 & 0 & 1 & 0 & 1 & 0 & 1 & 0\\\\\n",
       "\t⋮ & ⋮ & ⋮ & ⋮ & ⋮ & ⋮ & ⋮ & ⋮ & ⋮\\\\\n",
       "\tVulpes\\_vulpes & 0 & 1 & 0 & 1 & 0 & 0 & 0 & 1\\\\\n",
       "\tZamenis\\_longissimus & 0 & 0 & 0 & 0 & 0 & 0 & 0 & 1\\\\\n",
       "\\end{tabular}\n"
      ],
      "text/markdown": [
       "\n",
       "A data.frame: 110 × 8\n",
       "\n",
       "| <!--/--> | flowers_nectar_pollen &lt;dbl&gt; | fruit &lt;dbl&gt; | grass_waterplants &lt;dbl&gt; | invertebrate &lt;dbl&gt; | leaves_branches_bark_buds &lt;dbl&gt; | roots_tubers &lt;dbl&gt; | seeds &lt;dbl&gt; | vertebrate &lt;dbl&gt; |\n",
       "|---|---|---|---|---|---|---|---|---|\n",
       "| Abramis_brama | 0 | 0 | 1 | 1 | 0 | 0 | 0 | 0 |\n",
       "| Aepyceros_melampus | 1 | 0 | 1 | 0 | 1 | 0 | 1 | 0 |\n",
       "| ⋮ | ⋮ | ⋮ | ⋮ | ⋮ | ⋮ | ⋮ | ⋮ | ⋮ |\n",
       "| Vulpes_vulpes | 0 | 1 | 0 | 1 | 0 | 0 | 0 | 1 |\n",
       "| Zamenis_longissimus | 0 | 0 | 0 | 0 | 0 | 0 | 0 | 1 |\n",
       "\n"
      ],
      "text/plain": [
       "                    flowers_nectar_pollen fruit grass_waterplants invertebrate\n",
       "Abramis_brama       0                     0     1                 1           \n",
       "Aepyceros_melampus  1                     0     1                 0           \n",
       "⋮                   ⋮                     ⋮     ⋮                 ⋮           \n",
       "Vulpes_vulpes       0                     1     0                 1           \n",
       "Zamenis_longissimus 0                     0     0                 0           \n",
       "                    leaves_branches_bark_buds roots_tubers seeds vertebrate\n",
       "Abramis_brama       0                         0            0     0         \n",
       "Aepyceros_melampus  1                         0            1     0         \n",
       "⋮                   ⋮                         ⋮            ⋮     ⋮         \n",
       "Vulpes_vulpes       0                         0            0     1         \n",
       "Zamenis_longissimus 0                         0            0     1         "
      ]
     },
     "metadata": {},
     "output_type": "display_data"
    }
   ],
   "source": [
    "# selecting diet-detailed\n",
    "## for differning diets, taking the average\n",
    "x = meta %>%\n",
    "    dt_distinct(scientific_name, diet_vertebrate, diet_invertebrate, \n",
    "             diet_fruit, diet_flowers_nectar_pollen, diet_leaves_branches_bark_buds, \n",
    "             diet_seeds, diet_grass_waterplants, diet_roots_tubers) %>%\n",
    "    dt_pivot_longer(cols = c(-scientific_name), names_to='diet_category', values_to='diet_value') %>%\n",
    "    dt_mutate(diet_value = gsub(' .+', '', diet_value),\n",
    "              diet_value_binary = ifelse(diet_value == 'yes', 1, 0),\n",
    "              diet_category = gsub('diet_', '', diet_category)) %>%\n",
    "    dt_summarize(diet_value_mean = mean(diet_value_binary),\n",
    "                 by=c(scientific_name, diet_category)) %>%\n",
    "    dt_pivot_wider(names_from=diet_category, values_from=diet_value_mean) %>%\n",
    "    as.data.frame\n",
    "rownames(x) = x$scientific_name\n",
    "x$scientific_name = NULL   \n",
    "x"
   ]
  },
  {
   "cell_type": "code",
   "execution_count": 54,
   "metadata": {
    "ExecuteTime": {
     "end_time": "2020-05-27T14:19:16.588306Z",
     "start_time": "2020-05-27T14:19:04.371Z"
    }
   },
   "outputs": [
    {
     "name": "stderr",
     "output_type": "stream",
     "text": [
      "Warning message in if (color_scheme == \"color\") {:\n",
      "“the condition has length > 1 and only the first element will be used”\n"
     ]
    },
    {
     "name": "stdout",
     "output_type": "stream",
     "text": [
      "File written: /ebio/abt3_projects/Georg_animal_feces/data/16S_arch/MiSeq-Runs-116-122-126-189-190/LLA/dataset_explore//SpecD_diet-detailed_htmp.txt \n"
     ]
    }
   ],
   "source": [
    "# creating the itol input file\n",
    "F = file.path(work_dir, 'SpecD_diet-detailed_htmp.txt')\n",
    "itol_heatmap(x, 'diet_detailed', F, dist_method='bray')"
   ]
  },
  {
   "cell_type": "markdown",
   "metadata": {},
   "source": [
    "### Habitat"
   ]
  },
  {
   "cell_type": "code",
   "execution_count": 55,
   "metadata": {
    "ExecuteTime": {
     "end_time": "2020-05-27T14:19:16.623634Z",
     "start_time": "2020-05-27T14:19:04.377Z"
    }
   },
   "outputs": [
    {
     "data": {
      "text/html": [
       "<table>\n",
       "<caption>A data.frame: 3 × 3</caption>\n",
       "<thead>\n",
       "\t<tr><th scope=col>labels</th><th scope=col>colors</th><th scope=col>shapes</th></tr>\n",
       "\t<tr><th scope=col>&lt;fct&gt;</th><th scope=col>&lt;fct&gt;</th><th scope=col>&lt;dbl&gt;</th></tr>\n",
       "</thead>\n",
       "<tbody>\n",
       "\t<tr><td>anthropogenic</td><td>#FF9900</td><td>1</td></tr>\n",
       "\t<tr><td>aquatic      </td><td>#00CCFF</td><td>1</td></tr>\n",
       "\t<tr><td>terrestrial  </td><td>#663300</td><td>1</td></tr>\n",
       "</tbody>\n",
       "</table>\n"
      ],
      "text/latex": [
       "A data.frame: 3 × 3\n",
       "\\begin{tabular}{lll}\n",
       " labels & colors & shapes\\\\\n",
       " <fct> & <fct> & <dbl>\\\\\n",
       "\\hline\n",
       "\t anthropogenic & \\#FF9900 & 1\\\\\n",
       "\t aquatic       & \\#00CCFF & 1\\\\\n",
       "\t terrestrial   & \\#663300 & 1\\\\\n",
       "\\end{tabular}\n"
      ],
      "text/markdown": [
       "\n",
       "A data.frame: 3 × 3\n",
       "\n",
       "| labels &lt;fct&gt; | colors &lt;fct&gt; | shapes &lt;dbl&gt; |\n",
       "|---|---|---|\n",
       "| anthropogenic | #FF9900 | 1 |\n",
       "| aquatic       | #00CCFF | 1 |\n",
       "| terrestrial   | #663300 | 1 |\n",
       "\n"
      ],
      "text/plain": [
       "  labels        colors  shapes\n",
       "1 anthropogenic #FF9900 1     \n",
       "2 aquatic       #00CCFF 1     \n",
       "3 terrestrial   #663300 1     "
      ]
     },
     "metadata": {},
     "output_type": "display_data"
    }
   ],
   "source": [
    "# setting colors\n",
    "x = meta %>% dt_pull(habitat) %>% unique %>% gsub(' habitat', '', .) %>% sort\n",
    "#cols = c('#FF9900', '#00CCFF', '#999600', '#663300')\n",
    "cols = c('#FF9900', '#00CCFF', '#663300')\n",
    "legend = data.frame(labels = x,\n",
    "                    colors = cols,\n",
    "                    shapes = rep(1, length(labels)))\n",
    "legend"
   ]
  },
  {
   "cell_type": "code",
   "execution_count": 56,
   "metadata": {
    "ExecuteTime": {
     "end_time": "2020-05-27T14:19:16.732290Z",
     "start_time": "2020-05-27T14:19:04.382Z"
    }
   },
   "outputs": [
    {
     "data": {
      "text/html": [
       "<table>\n",
       "<caption>A data.table: 110 × 3</caption>\n",
       "<thead>\n",
       "\t<tr><th></th><th scope=col>anthropogenic_habitat</th><th scope=col>aquatic_habitat</th><th scope=col>terrestrial_habitat</th></tr>\n",
       "\t<tr><th></th><th scope=col>&lt;dbl&gt;</th><th scope=col>&lt;dbl&gt;</th><th scope=col>&lt;dbl&gt;</th></tr>\n",
       "</thead>\n",
       "<tbody>\n",
       "\t<tr><th scope=row>Abramis_brama</th><td>0</td><td>100</td><td>  0</td></tr>\n",
       "\t<tr><th scope=row>Aepyceros_melampus</th><td>0</td><td>  0</td><td>100</td></tr>\n",
       "\t<tr><th scope=row>⋮</th><td>⋮</td><td>⋮</td><td>⋮</td></tr>\n",
       "\t<tr><th scope=row>Vulpes_vulpes</th><td>0</td><td>0</td><td>100</td></tr>\n",
       "\t<tr><th scope=row>Zamenis_longissimus</th><td>0</td><td>0</td><td>100</td></tr>\n",
       "</tbody>\n",
       "</table>\n"
      ],
      "text/latex": [
       "A data.table: 110 × 3\n",
       "\\begin{tabular}{r|lll}\n",
       "  & anthropogenic\\_habitat & aquatic\\_habitat & terrestrial\\_habitat\\\\\n",
       "  & <dbl> & <dbl> & <dbl>\\\\\n",
       "\\hline\n",
       "\tAbramis\\_brama & 0 & 100 &   0\\\\\n",
       "\tAepyceros\\_melampus & 0 &   0 & 100\\\\\n",
       "\t⋮ & ⋮ & ⋮ & ⋮\\\\\n",
       "\tVulpes\\_vulpes & 0 & 0 & 100\\\\\n",
       "\tZamenis\\_longissimus & 0 & 0 & 100\\\\\n",
       "\\end{tabular}\n"
      ],
      "text/markdown": [
       "\n",
       "A data.table: 110 × 3\n",
       "\n",
       "| <!--/--> | anthropogenic_habitat &lt;dbl&gt; | aquatic_habitat &lt;dbl&gt; | terrestrial_habitat &lt;dbl&gt; |\n",
       "|---|---|---|---|\n",
       "| Abramis_brama | 0 | 100 |   0 |\n",
       "| Aepyceros_melampus | 0 |   0 | 100 |\n",
       "| ⋮ | ⋮ | ⋮ | ⋮ |\n",
       "| Vulpes_vulpes | 0 | 0 | 100 |\n",
       "| Zamenis_longissimus | 0 | 0 | 100 |\n",
       "\n"
      ],
      "text/plain": [
       "    anthropogenic_habitat aquatic_habitat terrestrial_habitat\n",
       "1   0                     100               0                \n",
       "2   0                       0             100                \n",
       "⋮   ⋮                     ⋮               ⋮                  \n",
       "109 0                     0               100                \n",
       "110 0                     0               100                "
      ]
     },
     "metadata": {},
     "output_type": "display_data"
    }
   ],
   "source": [
    "# summarizing\n",
    "x = meta %>%\n",
    "    dt_mutate(n_samples_per_sp = length(SampleID), \n",
    "              by=c(scientific_name)) %>%\n",
    "    dt_summarize(n_samples = length(SampleID),\n",
    "                 by=c(scientific_name, habitat, n_samples_per_sp)) %>%\n",
    "    dt_summarize(perc_samples = n_samples / first(n_samples_per_sp) * 100,\n",
    "                 by=c(scientific_name, habitat)) %>%\n",
    "    dt_select(scientific_name, habitat, perc_samples) %>%\n",
    "    dt_mutate(habitat = gsub(' ', '_', habitat)) %>%\n",
    "    dt_pivot_wider(names_from=habitat, values_from=perc_samples) %>%\n",
    "    dt_mutate_across(is.numeric, function(x) ifelse(is.na(x), 0, x))\n",
    "                     \n",
    "rownames(x) = x$scientific_name\n",
    "x$scientific_name = NULL\n",
    "x"
   ]
  },
  {
   "cell_type": "code",
   "execution_count": 57,
   "metadata": {
    "ExecuteTime": {
     "end_time": "2020-05-27T14:19:16.760833Z",
     "start_time": "2020-05-27T14:19:04.387Z"
    }
   },
   "outputs": [
    {
     "name": "stdout",
     "output_type": "stream",
     "text": [
      "File written: /ebio/abt3_projects/Georg_animal_feces/data/16S_arch/MiSeq-Runs-116-122-126-189-190/LLA/dataset_explore//SpecD_habitat_multibar.txt \n"
     ]
    }
   ],
   "source": [
    "# writing output\n",
    "F = file.path(work_dir, 'SpecD_habitat_multibar.txt')\n",
    "itol_multibar(x, 'habitat', F, legend=legend, WIDTH=50)"
   ]
  },
  {
   "cell_type": "code",
   "execution_count": 58,
   "metadata": {
    "ExecuteTime": {
     "end_time": "2020-05-27T14:19:16.804524Z",
     "start_time": "2020-05-27T14:19:04.392Z"
    }
   },
   "outputs": [
    {
     "data": {
      "text/html": [
       "<table>\n",
       "<caption>A data.table: 110 × 1</caption>\n",
       "<thead>\n",
       "\t<tr><th></th><th scope=col>habitat</th></tr>\n",
       "\t<tr><th></th><th scope=col>&lt;chr&gt;</th></tr>\n",
       "</thead>\n",
       "<tbody>\n",
       "\t<tr><th scope=row>Abramis_brama</th><td>aquatic    </td></tr>\n",
       "\t<tr><th scope=row>Dama_dama</th><td>terrestrial</td></tr>\n",
       "\t<tr><th scope=row>⋮</th><td>⋮</td></tr>\n",
       "\t<tr><th scope=row>Crocodylus_niloticus</th><td>terrestrial</td></tr>\n",
       "\t<tr><th scope=row>Capreolus_capreolus</th><td>terrestrial</td></tr>\n",
       "</tbody>\n",
       "</table>\n"
      ],
      "text/latex": [
       "A data.table: 110 × 1\n",
       "\\begin{tabular}{r|l}\n",
       "  & habitat\\\\\n",
       "  & <chr>\\\\\n",
       "\\hline\n",
       "\tAbramis\\_brama & aquatic    \\\\\n",
       "\tDama\\_dama & terrestrial\\\\\n",
       "\t⋮ & ⋮\\\\\n",
       "\tCrocodylus\\_niloticus & terrestrial\\\\\n",
       "\tCapreolus\\_capreolus & terrestrial\\\\\n",
       "\\end{tabular}\n"
      ],
      "text/markdown": [
       "\n",
       "A data.table: 110 × 1\n",
       "\n",
       "| <!--/--> | habitat &lt;chr&gt; |\n",
       "|---|---|\n",
       "| Abramis_brama | aquatic     |\n",
       "| Dama_dama | terrestrial |\n",
       "| ⋮ | ⋮ |\n",
       "| Crocodylus_niloticus | terrestrial |\n",
       "| Capreolus_capreolus | terrestrial |\n",
       "\n"
      ],
      "text/plain": [
       "    habitat    \n",
       "1   aquatic    \n",
       "2   terrestrial\n",
       "⋮   ⋮          \n",
       "109 terrestrial\n",
       "110 terrestrial"
      ]
     },
     "metadata": {},
     "output_type": "display_data"
    }
   ],
   "source": [
    "# as a colorstrip\n",
    "x = meta %>%\n",
    "    dt_select(scientific_name, habitat) %>%\n",
    "    dt_mutate(habitat = gsub(' .+', '', habitat))\n",
    "rownames(x) = x$scientific_name\n",
    "x$scientific_name = NULL\n",
    "x"
   ]
  },
  {
   "cell_type": "code",
   "execution_count": 59,
   "metadata": {
    "ExecuteTime": {
     "end_time": "2020-05-27T14:19:17.668966Z",
     "start_time": "2020-05-27T14:19:04.396Z"
    }
   },
   "outputs": [
    {
     "name": "stdout",
     "output_type": "stream",
     "text": [
      "File written: /ebio/abt3_projects/Georg_animal_feces/data/16S_arch/MiSeq-Runs-116-122-126-189-190/LLA/dataset_explore//SpecD_habitat_clrstrp.txt \n"
     ]
    }
   ],
   "source": [
    "# writing output\n",
    "F = file.path(work_dir, 'SpecD_habitat_clrstrp.txt')\n",
    "itol_colorstrip(x, 'habitat', F, legend=legend)"
   ]
  },
  {
   "cell_type": "markdown",
   "metadata": {},
   "source": [
    "### wild/captive"
   ]
  },
  {
   "cell_type": "code",
   "execution_count": 60,
   "metadata": {
    "ExecuteTime": {
     "end_time": "2020-05-27T14:19:17.700910Z",
     "start_time": "2020-05-27T14:19:04.402Z"
    }
   },
   "outputs": [
    {
     "data": {
      "text/html": [
       "<table>\n",
       "<caption>A data.frame: 2 × 3</caption>\n",
       "<thead>\n",
       "\t<tr><th scope=col>labels</th><th scope=col>colors</th><th scope=col>shapes</th></tr>\n",
       "\t<tr><th scope=col>&lt;fct&gt;</th><th scope=col>&lt;fct&gt;</th><th scope=col>&lt;dbl&gt;</th></tr>\n",
       "</thead>\n",
       "<tbody>\n",
       "\t<tr><td>captive</td><td>#FF9900</td><td>1</td></tr>\n",
       "\t<tr><td>wild   </td><td>#009900</td><td>1</td></tr>\n",
       "</tbody>\n",
       "</table>\n"
      ],
      "text/latex": [
       "A data.frame: 2 × 3\n",
       "\\begin{tabular}{lll}\n",
       " labels & colors & shapes\\\\\n",
       " <fct> & <fct> & <dbl>\\\\\n",
       "\\hline\n",
       "\t captive & \\#FF9900 & 1\\\\\n",
       "\t wild    & \\#009900 & 1\\\\\n",
       "\\end{tabular}\n"
      ],
      "text/markdown": [
       "\n",
       "A data.frame: 2 × 3\n",
       "\n",
       "| labels &lt;fct&gt; | colors &lt;fct&gt; | shapes &lt;dbl&gt; |\n",
       "|---|---|---|\n",
       "| captive | #FF9900 | 1 |\n",
       "| wild    | #009900 | 1 |\n",
       "\n"
      ],
      "text/plain": [
       "  labels  colors  shapes\n",
       "1 captive #FF9900 1     \n",
       "2 wild    #009900 1     "
      ]
     },
     "metadata": {},
     "output_type": "display_data"
    }
   ],
   "source": [
    "# setting colors\n",
    "x = meta %>% dt_pull(captive_wild) %>% unique %>% sort\n",
    "cols = c('#FF9900', '#009900')\n",
    "legend = data.frame(labels = x,\n",
    "                    colors = cols,\n",
    "                    shapes = rep(1, length(labels)))\n",
    "legend"
   ]
  },
  {
   "cell_type": "code",
   "execution_count": 61,
   "metadata": {
    "ExecuteTime": {
     "end_time": "2020-05-27T14:19:17.778535Z",
     "start_time": "2020-05-27T14:19:04.407Z"
    }
   },
   "outputs": [
    {
     "data": {
      "text/html": [
       "<table>\n",
       "<caption>A data.table: 110 × 2</caption>\n",
       "<thead>\n",
       "\t<tr><th></th><th scope=col>captive</th><th scope=col>wild</th></tr>\n",
       "\t<tr><th></th><th scope=col>&lt;dbl&gt;</th><th scope=col>&lt;dbl&gt;</th></tr>\n",
       "</thead>\n",
       "<tbody>\n",
       "\t<tr><th scope=row>Abramis_brama</th><td>0</td><td>100</td></tr>\n",
       "\t<tr><th scope=row>Aepyceros_melampus</th><td>0</td><td>100</td></tr>\n",
       "\t<tr><th scope=row>⋮</th><td>⋮</td><td>⋮</td></tr>\n",
       "\t<tr><th scope=row>Vulpes_vulpes</th><td>0</td><td>100</td></tr>\n",
       "\t<tr><th scope=row>Zamenis_longissimus</th><td>0</td><td>100</td></tr>\n",
       "</tbody>\n",
       "</table>\n"
      ],
      "text/latex": [
       "A data.table: 110 × 2\n",
       "\\begin{tabular}{r|ll}\n",
       "  & captive & wild\\\\\n",
       "  & <dbl> & <dbl>\\\\\n",
       "\\hline\n",
       "\tAbramis\\_brama & 0 & 100\\\\\n",
       "\tAepyceros\\_melampus & 0 & 100\\\\\n",
       "\t⋮ & ⋮ & ⋮\\\\\n",
       "\tVulpes\\_vulpes & 0 & 100\\\\\n",
       "\tZamenis\\_longissimus & 0 & 100\\\\\n",
       "\\end{tabular}\n"
      ],
      "text/markdown": [
       "\n",
       "A data.table: 110 × 2\n",
       "\n",
       "| <!--/--> | captive &lt;dbl&gt; | wild &lt;dbl&gt; |\n",
       "|---|---|---|\n",
       "| Abramis_brama | 0 | 100 |\n",
       "| Aepyceros_melampus | 0 | 100 |\n",
       "| ⋮ | ⋮ | ⋮ |\n",
       "| Vulpes_vulpes | 0 | 100 |\n",
       "| Zamenis_longissimus | 0 | 100 |\n",
       "\n"
      ],
      "text/plain": [
       "    captive wild\n",
       "1   0       100 \n",
       "2   0       100 \n",
       "⋮   ⋮       ⋮   \n",
       "109 0       100 \n",
       "110 0       100 "
      ]
     },
     "metadata": {},
     "output_type": "display_data"
    }
   ],
   "source": [
    "# summarizing\n",
    "x = meta %>%\n",
    "    dt_mutate(n_samples_per_sp = length(SampleID), \n",
    "              by=c(scientific_name)) %>%\n",
    "    dt_summarize(n_samples = length(SampleID),\n",
    "                 by=c(scientific_name, captive_wild, n_samples_per_sp)) %>%\n",
    "    dt_summarize(perc_samples = n_samples / first(n_samples_per_sp) * 100,\n",
    "                 by=c(scientific_name, captive_wild)) %>%\n",
    "    dt_select(scientific_name, captive_wild, perc_samples) %>%\n",
    "    dt_mutate(captive_wild = gsub(' ', '_', captive_wild)) %>%\n",
    "    dt_pivot_wider(names_from=captive_wild, values_from=perc_samples) %>%\n",
    "    dt_mutate_across(is.numeric, function(x) ifelse(is.na(x), 0, x))\n",
    "                     \n",
    "rownames(x) = x$scientific_name\n",
    "x$scientific_name = NULL\n",
    "x"
   ]
  },
  {
   "cell_type": "code",
   "execution_count": 62,
   "metadata": {
    "ExecuteTime": {
     "end_time": "2020-05-27T14:19:17.806399Z",
     "start_time": "2020-05-27T14:19:04.412Z"
    }
   },
   "outputs": [
    {
     "name": "stdout",
     "output_type": "stream",
     "text": [
      "File written: /ebio/abt3_projects/Georg_animal_feces/data/16S_arch/MiSeq-Runs-116-122-126-189-190/LLA/dataset_explore//SpecD_wild-capt_multibar.txt \n"
     ]
    }
   ],
   "source": [
    "# writing output\n",
    "F = file.path(work_dir, 'SpecD_wild-capt_multibar.txt')\n",
    "itol_multibar(x, 'wild_captive', F, legend=legend, WIDTH=50)"
   ]
  },
  {
   "cell_type": "code",
   "execution_count": 63,
   "metadata": {
    "ExecuteTime": {
     "end_time": "2020-05-27T14:19:17.865043Z",
     "start_time": "2020-05-27T14:19:04.417Z"
    }
   },
   "outputs": [
    {
     "data": {
      "text/html": [
       "<table>\n",
       "<caption>A data.table: 110 × 1</caption>\n",
       "<thead>\n",
       "\t<tr><th></th><th scope=col>captive_wild</th></tr>\n",
       "\t<tr><th></th><th scope=col>&lt;chr&gt;</th></tr>\n",
       "</thead>\n",
       "<tbody>\n",
       "\t<tr><th scope=row>Abramis_brama</th><td>wild</td></tr>\n",
       "\t<tr><th scope=row>Dama_dama</th><td>wild</td></tr>\n",
       "\t<tr><th scope=row>⋮</th><td>⋮</td></tr>\n",
       "\t<tr><th scope=row>Crocodylus_niloticus</th><td>wild</td></tr>\n",
       "\t<tr><th scope=row>Capreolus_capreolus</th><td>wild</td></tr>\n",
       "</tbody>\n",
       "</table>\n"
      ],
      "text/latex": [
       "A data.table: 110 × 1\n",
       "\\begin{tabular}{r|l}\n",
       "  & captive\\_wild\\\\\n",
       "  & <chr>\\\\\n",
       "\\hline\n",
       "\tAbramis\\_brama & wild\\\\\n",
       "\tDama\\_dama & wild\\\\\n",
       "\t⋮ & ⋮\\\\\n",
       "\tCrocodylus\\_niloticus & wild\\\\\n",
       "\tCapreolus\\_capreolus & wild\\\\\n",
       "\\end{tabular}\n"
      ],
      "text/markdown": [
       "\n",
       "A data.table: 110 × 1\n",
       "\n",
       "| <!--/--> | captive_wild &lt;chr&gt; |\n",
       "|---|---|\n",
       "| Abramis_brama | wild |\n",
       "| Dama_dama | wild |\n",
       "| ⋮ | ⋮ |\n",
       "| Crocodylus_niloticus | wild |\n",
       "| Capreolus_capreolus | wild |\n",
       "\n"
      ],
      "text/plain": [
       "    captive_wild\n",
       "1   wild        \n",
       "2   wild        \n",
       "⋮   ⋮           \n",
       "109 wild        \n",
       "110 wild        "
      ]
     },
     "metadata": {},
     "output_type": "display_data"
    }
   ],
   "source": [
    "# as a colorstrip\n",
    "x = meta %>%\n",
    "    dt_select(scientific_name, captive_wild)                  \n",
    "rownames(x) = x$scientific_name\n",
    "x$scientific_name = NULL\n",
    "x"
   ]
  },
  {
   "cell_type": "code",
   "execution_count": 64,
   "metadata": {
    "ExecuteTime": {
     "end_time": "2020-05-27T14:19:17.912740Z",
     "start_time": "2020-05-27T14:19:04.421Z"
    }
   },
   "outputs": [
    {
     "name": "stdout",
     "output_type": "stream",
     "text": [
      "File written: /ebio/abt3_projects/Georg_animal_feces/data/16S_arch/MiSeq-Runs-116-122-126-189-190/LLA/dataset_explore//SpecD_wild-capt_clrstrp.txt \n"
     ]
    }
   ],
   "source": [
    "# writing output\n",
    "F = file.path(work_dir, 'SpecD_wild-capt_clrstrp.txt')\n",
    "itol_colorstrip(x, 'wild_captive', F, legend=legend)"
   ]
  },
  {
   "cell_type": "markdown",
   "metadata": {},
   "source": [
    "### sample type"
   ]
  },
  {
   "cell_type": "code",
   "execution_count": 65,
   "metadata": {
    "ExecuteTime": {
     "end_time": "2020-05-27T14:19:17.952456Z",
     "start_time": "2020-05-27T14:19:04.427Z"
    }
   },
   "outputs": [
    {
     "data": {
      "text/html": [
       "<table>\n",
       "<caption>A data.frame: 2 × 3</caption>\n",
       "<thead>\n",
       "\t<tr><th scope=col>labels</th><th scope=col>colors</th><th scope=col>shapes</th></tr>\n",
       "\t<tr><th scope=col>&lt;fct&gt;</th><th scope=col>&lt;fct&gt;</th><th scope=col>&lt;dbl&gt;</th></tr>\n",
       "</thead>\n",
       "<tbody>\n",
       "\t<tr><td>feces</td><td>#663300</td><td>1</td></tr>\n",
       "\t<tr><td>gut  </td><td>#CC9900</td><td>1</td></tr>\n",
       "</tbody>\n",
       "</table>\n"
      ],
      "text/latex": [
       "A data.frame: 2 × 3\n",
       "\\begin{tabular}{lll}\n",
       " labels & colors & shapes\\\\\n",
       " <fct> & <fct> & <dbl>\\\\\n",
       "\\hline\n",
       "\t feces & \\#663300 & 1\\\\\n",
       "\t gut   & \\#CC9900 & 1\\\\\n",
       "\\end{tabular}\n"
      ],
      "text/markdown": [
       "\n",
       "A data.frame: 2 × 3\n",
       "\n",
       "| labels &lt;fct&gt; | colors &lt;fct&gt; | shapes &lt;dbl&gt; |\n",
       "|---|---|---|\n",
       "| feces | #663300 | 1 |\n",
       "| gut   | #CC9900 | 1 |\n",
       "\n"
      ],
      "text/plain": [
       "  labels colors  shapes\n",
       "1 feces  #663300 1     \n",
       "2 gut    #CC9900 1     "
      ]
     },
     "metadata": {},
     "output_type": "display_data"
    }
   ],
   "source": [
    "# setting colors\n",
    "x = meta %>% dt_pull(sample_type) %>% unique %>% sort\n",
    "cols = c('#663300', '#CC9900')\n",
    "legend = data.frame(labels = x,\n",
    "                    colors = cols,\n",
    "                    shapes = rep(1, length(labels)))\n",
    "legend"
   ]
  },
  {
   "cell_type": "code",
   "execution_count": 66,
   "metadata": {
    "ExecuteTime": {
     "end_time": "2020-05-27T14:19:18.034983Z",
     "start_time": "2020-05-27T14:19:04.432Z"
    }
   },
   "outputs": [
    {
     "data": {
      "text/html": [
       "<table>\n",
       "<caption>A data.table: 110 × 2</caption>\n",
       "<thead>\n",
       "\t<tr><th></th><th scope=col>feces</th><th scope=col>gut</th></tr>\n",
       "\t<tr><th></th><th scope=col>&lt;dbl&gt;</th><th scope=col>&lt;dbl&gt;</th></tr>\n",
       "</thead>\n",
       "<tbody>\n",
       "\t<tr><th scope=row>Abramis_brama</th><td>100</td><td>0</td></tr>\n",
       "\t<tr><th scope=row>Aepyceros_melampus</th><td>100</td><td>0</td></tr>\n",
       "\t<tr><th scope=row>⋮</th><td>⋮</td><td>⋮</td></tr>\n",
       "\t<tr><th scope=row>Vulpes_vulpes</th><td>100</td><td>0</td></tr>\n",
       "\t<tr><th scope=row>Zamenis_longissimus</th><td>100</td><td>0</td></tr>\n",
       "</tbody>\n",
       "</table>\n"
      ],
      "text/latex": [
       "A data.table: 110 × 2\n",
       "\\begin{tabular}{r|ll}\n",
       "  & feces & gut\\\\\n",
       "  & <dbl> & <dbl>\\\\\n",
       "\\hline\n",
       "\tAbramis\\_brama & 100 & 0\\\\\n",
       "\tAepyceros\\_melampus & 100 & 0\\\\\n",
       "\t⋮ & ⋮ & ⋮\\\\\n",
       "\tVulpes\\_vulpes & 100 & 0\\\\\n",
       "\tZamenis\\_longissimus & 100 & 0\\\\\n",
       "\\end{tabular}\n"
      ],
      "text/markdown": [
       "\n",
       "A data.table: 110 × 2\n",
       "\n",
       "| <!--/--> | feces &lt;dbl&gt; | gut &lt;dbl&gt; |\n",
       "|---|---|---|\n",
       "| Abramis_brama | 100 | 0 |\n",
       "| Aepyceros_melampus | 100 | 0 |\n",
       "| ⋮ | ⋮ | ⋮ |\n",
       "| Vulpes_vulpes | 100 | 0 |\n",
       "| Zamenis_longissimus | 100 | 0 |\n",
       "\n"
      ],
      "text/plain": [
       "    feces gut\n",
       "1   100   0  \n",
       "2   100   0  \n",
       "⋮   ⋮     ⋮  \n",
       "109 100   0  \n",
       "110 100   0  "
      ]
     },
     "metadata": {},
     "output_type": "display_data"
    }
   ],
   "source": [
    "# summarizing\n",
    "x = meta %>%\n",
    "    dt_mutate(n_samples_per_sp = length(SampleID), \n",
    "              by=c(scientific_name)) %>%\n",
    "    dt_summarize(n_samples = length(SampleID),\n",
    "                 by=c(scientific_name, sample_type, n_samples_per_sp)) %>%\n",
    "    dt_summarize(perc_samples = n_samples / first(n_samples_per_sp) * 100,\n",
    "                 by=c(scientific_name, sample_type)) %>%\n",
    "    dt_select(scientific_name, sample_type, perc_samples) %>%\n",
    "    dt_mutate(sample_type = gsub(' ', '_', sample_type)) %>%\n",
    "    dt_pivot_wider(names_from=sample_type, values_from=perc_samples) %>%\n",
    "    dt_mutate_across(is.numeric, function(x) ifelse(is.na(x), 0, x))\n",
    "                     \n",
    "rownames(x) = x$scientific_name\n",
    "x$scientific_name = NULL\n",
    "x"
   ]
  },
  {
   "cell_type": "code",
   "execution_count": 67,
   "metadata": {
    "ExecuteTime": {
     "end_time": "2020-05-27T14:19:18.066979Z",
     "start_time": "2020-05-27T14:19:04.437Z"
    }
   },
   "outputs": [
    {
     "name": "stdout",
     "output_type": "stream",
     "text": [
      "File written: /ebio/abt3_projects/Georg_animal_feces/data/16S_arch/MiSeq-Runs-116-122-126-189-190/LLA/dataset_explore//SpecD_sample-type_multibar.txt \n"
     ]
    }
   ],
   "source": [
    "# writing output\n",
    "F = file.path(work_dir, 'SpecD_sample-type_multibar.txt')\n",
    "itol_multibar(x, 'sample_type', F, legend=legend, WIDTH=50)"
   ]
  },
  {
   "cell_type": "code",
   "execution_count": 68,
   "metadata": {
    "ExecuteTime": {
     "end_time": "2020-05-27T14:19:18.132562Z",
     "start_time": "2020-05-27T14:19:04.442Z"
    }
   },
   "outputs": [
    {
     "data": {
      "text/html": [
       "<table>\n",
       "<caption>A data.table: 110 × 1</caption>\n",
       "<thead>\n",
       "\t<tr><th></th><th scope=col>sample_type</th></tr>\n",
       "\t<tr><th></th><th scope=col>&lt;chr&gt;</th></tr>\n",
       "</thead>\n",
       "<tbody>\n",
       "\t<tr><th scope=row>Abramis_brama</th><td>feces</td></tr>\n",
       "\t<tr><th scope=row>Dama_dama</th><td>feces</td></tr>\n",
       "\t<tr><th scope=row>⋮</th><td>⋮</td></tr>\n",
       "\t<tr><th scope=row>Crocodylus_niloticus</th><td>feces</td></tr>\n",
       "\t<tr><th scope=row>Capreolus_capreolus</th><td>feces</td></tr>\n",
       "</tbody>\n",
       "</table>\n"
      ],
      "text/latex": [
       "A data.table: 110 × 1\n",
       "\\begin{tabular}{r|l}\n",
       "  & sample\\_type\\\\\n",
       "  & <chr>\\\\\n",
       "\\hline\n",
       "\tAbramis\\_brama & feces\\\\\n",
       "\tDama\\_dama & feces\\\\\n",
       "\t⋮ & ⋮\\\\\n",
       "\tCrocodylus\\_niloticus & feces\\\\\n",
       "\tCapreolus\\_capreolus & feces\\\\\n",
       "\\end{tabular}\n"
      ],
      "text/markdown": [
       "\n",
       "A data.table: 110 × 1\n",
       "\n",
       "| <!--/--> | sample_type &lt;chr&gt; |\n",
       "|---|---|\n",
       "| Abramis_brama | feces |\n",
       "| Dama_dama | feces |\n",
       "| ⋮ | ⋮ |\n",
       "| Crocodylus_niloticus | feces |\n",
       "| Capreolus_capreolus | feces |\n",
       "\n"
      ],
      "text/plain": [
       "    sample_type\n",
       "1   feces      \n",
       "2   feces      \n",
       "⋮   ⋮          \n",
       "109 feces      \n",
       "110 feces      "
      ]
     },
     "metadata": {},
     "output_type": "display_data"
    }
   ],
   "source": [
    "# as a colorstrip\n",
    "x = meta %>%\n",
    "    dt_select(scientific_name, sample_type)                  \n",
    "rownames(x) = x$scientific_name\n",
    "x$scientific_name = NULL\n",
    "x"
   ]
  },
  {
   "cell_type": "code",
   "execution_count": 69,
   "metadata": {
    "ExecuteTime": {
     "end_time": "2020-05-27T14:19:18.180159Z",
     "start_time": "2020-05-27T14:19:04.447Z"
    }
   },
   "outputs": [
    {
     "name": "stdout",
     "output_type": "stream",
     "text": [
      "File written: /ebio/abt3_projects/Georg_animal_feces/data/16S_arch/MiSeq-Runs-116-122-126-189-190/LLA/dataset_explore//SpecD_sample-type_clrstrp.txt \n"
     ]
    }
   ],
   "source": [
    "# writing output\n",
    "F = file.path(work_dir, 'SpecD_sample-type_clrstrp.txt')\n",
    "itol_colorstrip(x, 'sample_type', F, legend=legend)"
   ]
  },
  {
   "cell_type": "markdown",
   "metadata": {},
   "source": [
    "### digestive system"
   ]
  },
  {
   "cell_type": "code",
   "execution_count": 70,
   "metadata": {
    "ExecuteTime": {
     "end_time": "2020-05-27T14:19:18.240111Z",
     "start_time": "2020-05-27T14:19:04.453Z"
    }
   },
   "outputs": [
    {
     "data": {
      "text/plain": [
       ".\n",
       "       foregut        hindgut         simple simple foregut simple hindgut \n",
       "            27             12             56              1             14 "
      ]
     },
     "metadata": {},
     "output_type": "display_data"
    },
    {
     "data": {
      "text/html": [
       "<table>\n",
       "<caption>A data.table: 110 × 1</caption>\n",
       "<thead>\n",
       "\t<tr><th></th><th scope=col>digestive_system</th></tr>\n",
       "\t<tr><th></th><th scope=col>&lt;chr&gt;</th></tr>\n",
       "</thead>\n",
       "<tbody>\n",
       "\t<tr><th scope=row>Abramis_brama</th><td>simple </td></tr>\n",
       "\t<tr><th scope=row>Dama_dama</th><td>foregut</td></tr>\n",
       "\t<tr><th scope=row>⋮</th><td>⋮</td></tr>\n",
       "\t<tr><th scope=row>Crocodylus_niloticus</th><td>simple </td></tr>\n",
       "\t<tr><th scope=row>Capreolus_capreolus</th><td>foregut</td></tr>\n",
       "</tbody>\n",
       "</table>\n"
      ],
      "text/latex": [
       "A data.table: 110 × 1\n",
       "\\begin{tabular}{r|l}\n",
       "  & digestive\\_system\\\\\n",
       "  & <chr>\\\\\n",
       "\\hline\n",
       "\tAbramis\\_brama & simple \\\\\n",
       "\tDama\\_dama & foregut\\\\\n",
       "\t⋮ & ⋮\\\\\n",
       "\tCrocodylus\\_niloticus & simple \\\\\n",
       "\tCapreolus\\_capreolus & foregut\\\\\n",
       "\\end{tabular}\n"
      ],
      "text/markdown": [
       "\n",
       "A data.table: 110 × 1\n",
       "\n",
       "| <!--/--> | digestive_system &lt;chr&gt; |\n",
       "|---|---|\n",
       "| Abramis_brama | simple  |\n",
       "| Dama_dama | foregut |\n",
       "| ⋮ | ⋮ |\n",
       "| Crocodylus_niloticus | simple  |\n",
       "| Capreolus_capreolus | foregut |\n",
       "\n"
      ],
      "text/plain": [
       "    digestive_system\n",
       "1   simple          \n",
       "2   foregut         \n",
       "⋮   ⋮               \n",
       "109 simple          \n",
       "110 foregut         "
      ]
     },
     "metadata": {},
     "output_type": "display_data"
    }
   ],
   "source": [
    "# summarizing\n",
    "x = meta %>%\n",
    "    dt_select(scientific_name, digestive_system) %>%\n",
    "    dt_mutate(digestive_system =  ifelse(digestive_system == 'fermentation activity foregut',\n",
    "                                         'foregut', digestive_system))\n",
    "                     \n",
    "rownames(x) = x$scientific_name\n",
    "x$scientific_name = NULL\n",
    "x$digestive_system %>% table\n",
    "x"
   ]
  },
  {
   "cell_type": "code",
   "execution_count": 71,
   "metadata": {
    "ExecuteTime": {
     "end_time": "2020-05-27T14:19:18.278371Z",
     "start_time": "2020-05-27T14:19:04.457Z"
    }
   },
   "outputs": [
    {
     "name": "stdout",
     "output_type": "stream",
     "text": [
      "File written: /ebio/abt3_projects/Georg_animal_feces/data/16S_arch/MiSeq-Runs-116-122-126-189-190/LLA/dataset_explore//SpecD_dig-sys_clrstrp.txt \n"
     ]
    }
   ],
   "source": [
    "# creating the itol input file\n",
    "F = file.path(work_dir, 'SpecD_dig-sys_clrstrp.txt')\n",
    "itol_colorstrip(x, 'digestive_system', F)"
   ]
  },
  {
   "cell_type": "markdown",
   "metadata": {},
   "source": [
    "### Ruminant"
   ]
  },
  {
   "cell_type": "code",
   "execution_count": 72,
   "metadata": {
    "ExecuteTime": {
     "end_time": "2020-05-27T14:19:18.330463Z",
     "start_time": "2020-05-27T14:19:04.464Z"
    }
   },
   "outputs": [
    {
     "data": {
      "text/html": [
       "<table>\n",
       "<caption>A data.table: 110 × 1</caption>\n",
       "<thead>\n",
       "\t<tr><th></th><th scope=col>ruminant</th></tr>\n",
       "\t<tr><th></th><th scope=col>&lt;chr&gt;</th></tr>\n",
       "</thead>\n",
       "<tbody>\n",
       "\t<tr><th scope=row>Abramis_brama</th><td>neither </td></tr>\n",
       "\t<tr><th scope=row>Dama_dama</th><td>ruminant</td></tr>\n",
       "\t<tr><th scope=row>⋮</th><td>⋮</td></tr>\n",
       "\t<tr><th scope=row>Crocodylus_niloticus</th><td>neither </td></tr>\n",
       "\t<tr><th scope=row>Capreolus_capreolus</th><td>ruminant</td></tr>\n",
       "</tbody>\n",
       "</table>\n"
      ],
      "text/latex": [
       "A data.table: 110 × 1\n",
       "\\begin{tabular}{r|l}\n",
       "  & ruminant\\\\\n",
       "  & <chr>\\\\\n",
       "\\hline\n",
       "\tAbramis\\_brama & neither \\\\\n",
       "\tDama\\_dama & ruminant\\\\\n",
       "\t⋮ & ⋮\\\\\n",
       "\tCrocodylus\\_niloticus & neither \\\\\n",
       "\tCapreolus\\_capreolus & ruminant\\\\\n",
       "\\end{tabular}\n"
      ],
      "text/markdown": [
       "\n",
       "A data.table: 110 × 1\n",
       "\n",
       "| <!--/--> | ruminant &lt;chr&gt; |\n",
       "|---|---|\n",
       "| Abramis_brama | neither  |\n",
       "| Dama_dama | ruminant |\n",
       "| ⋮ | ⋮ |\n",
       "| Crocodylus_niloticus | neither  |\n",
       "| Capreolus_capreolus | ruminant |\n",
       "\n"
      ],
      "text/plain": [
       "    ruminant\n",
       "1   neither \n",
       "2   ruminant\n",
       "⋮   ⋮       \n",
       "109 neither \n",
       "110 ruminant"
      ]
     },
     "metadata": {},
     "output_type": "display_data"
    }
   ],
   "source": [
    "# summarizing\n",
    "x = meta %>%\n",
    "    dt_select(scientific_name, ruminant, pseudoruminants) %>%\n",
    "    dt_mutate(ruminant = dt_case(ruminant == 'yes', 'ruminant',\n",
    "                                 pseudoruminants == 'yes', 'pseudoruminants',\n",
    "                                 default='neither')) %>%\n",
    "    dt_select(-pseudoruminants)\n",
    "                     \n",
    "rownames(x) = x$scientific_name\n",
    "x$scientific_name = NULL\n",
    "x"
   ]
  },
  {
   "cell_type": "code",
   "execution_count": 73,
   "metadata": {
    "ExecuteTime": {
     "end_time": "2020-05-27T14:19:18.364071Z",
     "start_time": "2020-05-27T14:19:04.469Z"
    }
   },
   "outputs": [
    {
     "name": "stdout",
     "output_type": "stream",
     "text": [
      "File written: /ebio/abt3_projects/Georg_animal_feces/data/16S_arch/MiSeq-Runs-116-122-126-189-190/LLA/dataset_explore//SpecD_ruminant_clrstrp.txt \n"
     ]
    }
   ],
   "source": [
    "# creating the itol input file\n",
    "F = file.path(work_dir, 'SpecD_ruminant_clrstrp.txt')\n",
    "itol_colorstrip(x, 'ruminant', F)"
   ]
  },
  {
   "cell_type": "markdown",
   "metadata": {},
   "source": [
    "### temp regulation"
   ]
  },
  {
   "cell_type": "code",
   "execution_count": 74,
   "metadata": {
    "ExecuteTime": {
     "end_time": "2020-05-27T14:19:18.407559Z",
     "start_time": "2020-05-27T14:19:04.476Z"
    }
   },
   "outputs": [
    {
     "data": {
      "text/html": [
       "<table>\n",
       "<caption>A data.table: 110 × 1</caption>\n",
       "<thead>\n",
       "\t<tr><th></th><th scope=col>temp_regulation</th></tr>\n",
       "\t<tr><th></th><th scope=col>&lt;chr&gt;</th></tr>\n",
       "</thead>\n",
       "<tbody>\n",
       "\t<tr><th scope=row>Abramis_brama</th><td>ectotherm</td></tr>\n",
       "\t<tr><th scope=row>Dama_dama</th><td>endotherm</td></tr>\n",
       "\t<tr><th scope=row>⋮</th><td>⋮</td></tr>\n",
       "\t<tr><th scope=row>Crocodylus_niloticus</th><td>ectotherm</td></tr>\n",
       "\t<tr><th scope=row>Capreolus_capreolus</th><td>endotherm</td></tr>\n",
       "</tbody>\n",
       "</table>\n"
      ],
      "text/latex": [
       "A data.table: 110 × 1\n",
       "\\begin{tabular}{r|l}\n",
       "  & temp\\_regulation\\\\\n",
       "  & <chr>\\\\\n",
       "\\hline\n",
       "\tAbramis\\_brama & ectotherm\\\\\n",
       "\tDama\\_dama & endotherm\\\\\n",
       "\t⋮ & ⋮\\\\\n",
       "\tCrocodylus\\_niloticus & ectotherm\\\\\n",
       "\tCapreolus\\_capreolus & endotherm\\\\\n",
       "\\end{tabular}\n"
      ],
      "text/markdown": [
       "\n",
       "A data.table: 110 × 1\n",
       "\n",
       "| <!--/--> | temp_regulation &lt;chr&gt; |\n",
       "|---|---|\n",
       "| Abramis_brama | ectotherm |\n",
       "| Dama_dama | endotherm |\n",
       "| ⋮ | ⋮ |\n",
       "| Crocodylus_niloticus | ectotherm |\n",
       "| Capreolus_capreolus | endotherm |\n",
       "\n"
      ],
      "text/plain": [
       "    temp_regulation\n",
       "1   ectotherm      \n",
       "2   endotherm      \n",
       "⋮   ⋮              \n",
       "109 ectotherm      \n",
       "110 endotherm      "
      ]
     },
     "metadata": {},
     "output_type": "display_data"
    }
   ],
   "source": [
    "x = meta %>%\n",
    "    dt_select(scientific_name, temp_regulation) %>%\n",
    "    dt_mutate(temp_regulation = gsub('/.+', '', temp_regulation))\n",
    "\n",
    "rownames(x) = x$scientific_name\n",
    "x$scientific_name = NULL\n",
    "x"
   ]
  },
  {
   "cell_type": "code",
   "execution_count": 75,
   "metadata": {
    "ExecuteTime": {
     "end_time": "2020-05-27T14:19:18.443156Z",
     "start_time": "2020-05-27T14:19:04.480Z"
    }
   },
   "outputs": [
    {
     "name": "stdout",
     "output_type": "stream",
     "text": [
      "File written: /ebio/abt3_projects/Georg_animal_feces/data/16S_arch/MiSeq-Runs-116-122-126-189-190/LLA/dataset_explore//SpecD_temp-reg_clrstrp.txt \n"
     ]
    }
   ],
   "source": [
    "# creating the itol input file\n",
    "F = file.path(work_dir, 'SpecD_temp-reg_clrstrp.txt')\n",
    "itol_colorstrip(x, 'temp_regulation', F)"
   ]
  },
  {
   "cell_type": "markdown",
   "metadata": {},
   "source": [
    "## Taxon abundances"
   ]
  },
  {
   "cell_type": "code",
   "execution_count": 76,
   "metadata": {
    "ExecuteTime": {
     "end_time": "2020-05-27T14:19:24.290525Z",
     "start_time": "2020-05-27T14:19:04.491Z"
    }
   },
   "outputs": [
    {
     "data": {
      "text/html": [
       "<table>\n",
       "<caption>A data.table: 349835 × 98</caption>\n",
       "<thead>\n",
       "\t<tr><th scope=col>OTU</th><th scope=col>Sample</th><th scope=col>Count</th><th scope=col>Domain</th><th scope=col>Phylum</th><th scope=col>Class</th><th scope=col>Order</th><th scope=col>Family</th><th scope=col>Genus</th><th scope=col>Species</th><th scope=col>⋯</th><th scope=col>CH4_kJ.d_mean</th><th scope=col>CH4_kJ.d_sd</th><th scope=col>i.CH4_L.d_mean</th><th scope=col>i.CH4_L.d_sd</th><th scope=col>i.CH4_L.kgBM_mean</th><th scope=col>i.CH4_L.kgBM_sd</th><th scope=col>i.CH4_g.d_mean</th><th scope=col>i.CH4_g.d_sd</th><th scope=col>i.CH4_kJ.d_mean</th><th scope=col>i.CH4_kJ.d_sd</th></tr>\n",
       "\t<tr><th scope=col>&lt;chr&gt;</th><th scope=col>&lt;chr&gt;</th><th scope=col>&lt;dbl&gt;</th><th scope=col>&lt;chr&gt;</th><th scope=col>&lt;chr&gt;</th><th scope=col>&lt;chr&gt;</th><th scope=col>&lt;chr&gt;</th><th scope=col>&lt;chr&gt;</th><th scope=col>&lt;chr&gt;</th><th scope=col>&lt;chr&gt;</th><th scope=col>⋯</th><th scope=col>&lt;dbl&gt;</th><th scope=col>&lt;dbl&gt;</th><th scope=col>&lt;dbl&gt;</th><th scope=col>&lt;dbl&gt;</th><th scope=col>&lt;dbl&gt;</th><th scope=col>&lt;dbl&gt;</th><th scope=col>&lt;dbl&gt;</th><th scope=col>&lt;dbl&gt;</th><th scope=col>&lt;dbl&gt;</th><th scope=col>&lt;dbl&gt;</th></tr>\n",
       "</thead>\n",
       "<tbody>\n",
       "\t<tr><td>0e97060fe4b9be17bddeedcd27826b04</td><td>F14_Common_Bream</td><td>0</td><td>Archaea</td><td>Euryarchaeota</td><td>Methanobacteria</td><td>Methanobacteriales</td><td>Methanobacteriaceae</td><td>Methanobrevibacter</td><td>unclassified</td><td>⋯</td><td>NA</td><td>NA</td><td>NA</td><td>NA</td><td>NA</td><td>NA</td><td>NA</td><td>NA</td><td>NA</td><td>NA</td></tr>\n",
       "\t<tr><td>a86c26bd7f16d93e38b101dbd2614a07</td><td>F14_Common_Bream</td><td>0</td><td>Archaea</td><td>Euryarchaeota</td><td>Methanobacteria</td><td>Methanobacteriales</td><td>Methanobacteriaceae</td><td>Methanobrevibacter</td><td>unclassified</td><td>⋯</td><td>NA</td><td>NA</td><td>NA</td><td>NA</td><td>NA</td><td>NA</td><td>NA</td><td>NA</td><td>NA</td><td>NA</td></tr>\n",
       "\t<tr><td>⋮</td><td>⋮</td><td>⋮</td><td>⋮</td><td>⋮</td><td>⋮</td><td>⋮</td><td>⋮</td><td>⋮</td><td>⋮</td><td>⋱</td><td>⋮</td><td>⋮</td><td>⋮</td><td>⋮</td><td>⋮</td><td>⋮</td><td>⋮</td><td>⋮</td><td>⋮</td><td>⋮</td></tr>\n",
       "\t<tr><td>9449f372c36cd2d8994d79b091425d42</td><td>X67_European_Roe</td><td>0</td><td>Archaea</td><td>Euryarchaeota</td><td>Methanobacteria</td><td>Methanobacteriales</td><td>Methanobacteriaceae</td><td>Methanobrevibacter</td><td>unclassified</td><td>⋯</td><td>NA</td><td>NA</td><td>NA</td><td>NA</td><td>NA</td><td>NA</td><td>NA</td><td>NA</td><td>NA</td><td>NA</td></tr>\n",
       "\t<tr><td>467eeae6997d3667b5d07a76bc1bcdfd</td><td>X67_European_Roe</td><td>0</td><td>Archaea</td><td>Euryarchaeota</td><td>Methanobacteria</td><td>Methanobacteriales</td><td>Methanobacteriaceae</td><td>Methanobrevibacter</td><td>unclassified</td><td>⋯</td><td>NA</td><td>NA</td><td>NA</td><td>NA</td><td>NA</td><td>NA</td><td>NA</td><td>NA</td><td>NA</td><td>NA</td></tr>\n",
       "</tbody>\n",
       "</table>\n"
      ],
      "text/latex": [
       "A data.table: 349835 × 98\n",
       "\\begin{tabular}{lllllllllllllllllllll}\n",
       " OTU & Sample & Count & Domain & Phylum & Class & Order & Family & Genus & Species & ⋯ & CH4\\_kJ.d\\_mean & CH4\\_kJ.d\\_sd & i.CH4\\_L.d\\_mean & i.CH4\\_L.d\\_sd & i.CH4\\_L.kgBM\\_mean & i.CH4\\_L.kgBM\\_sd & i.CH4\\_g.d\\_mean & i.CH4\\_g.d\\_sd & i.CH4\\_kJ.d\\_mean & i.CH4\\_kJ.d\\_sd\\\\\n",
       " <chr> & <chr> & <dbl> & <chr> & <chr> & <chr> & <chr> & <chr> & <chr> & <chr> & ⋯ & <dbl> & <dbl> & <dbl> & <dbl> & <dbl> & <dbl> & <dbl> & <dbl> & <dbl> & <dbl>\\\\\n",
       "\\hline\n",
       "\t 0e97060fe4b9be17bddeedcd27826b04 & F14\\_Common\\_Bream & 0 & Archaea & Euryarchaeota & Methanobacteria & Methanobacteriales & Methanobacteriaceae & Methanobrevibacter & unclassified & ⋯ & NA & NA & NA & NA & NA & NA & NA & NA & NA & NA\\\\\n",
       "\t a86c26bd7f16d93e38b101dbd2614a07 & F14\\_Common\\_Bream & 0 & Archaea & Euryarchaeota & Methanobacteria & Methanobacteriales & Methanobacteriaceae & Methanobrevibacter & unclassified & ⋯ & NA & NA & NA & NA & NA & NA & NA & NA & NA & NA\\\\\n",
       "\t ⋮ & ⋮ & ⋮ & ⋮ & ⋮ & ⋮ & ⋮ & ⋮ & ⋮ & ⋮ & ⋱ & ⋮ & ⋮ & ⋮ & ⋮ & ⋮ & ⋮ & ⋮ & ⋮ & ⋮ & ⋮\\\\\n",
       "\t 9449f372c36cd2d8994d79b091425d42 & X67\\_European\\_Roe & 0 & Archaea & Euryarchaeota & Methanobacteria & Methanobacteriales & Methanobacteriaceae & Methanobrevibacter & unclassified & ⋯ & NA & NA & NA & NA & NA & NA & NA & NA & NA & NA\\\\\n",
       "\t 467eeae6997d3667b5d07a76bc1bcdfd & X67\\_European\\_Roe & 0 & Archaea & Euryarchaeota & Methanobacteria & Methanobacteriales & Methanobacteriaceae & Methanobrevibacter & unclassified & ⋯ & NA & NA & NA & NA & NA & NA & NA & NA & NA & NA\\\\\n",
       "\\end{tabular}\n"
      ],
      "text/markdown": [
       "\n",
       "A data.table: 349835 × 98\n",
       "\n",
       "| OTU &lt;chr&gt; | Sample &lt;chr&gt; | Count &lt;dbl&gt; | Domain &lt;chr&gt; | Phylum &lt;chr&gt; | Class &lt;chr&gt; | Order &lt;chr&gt; | Family &lt;chr&gt; | Genus &lt;chr&gt; | Species &lt;chr&gt; | ⋯ ⋯ | CH4_kJ.d_mean &lt;dbl&gt; | CH4_kJ.d_sd &lt;dbl&gt; | i.CH4_L.d_mean &lt;dbl&gt; | i.CH4_L.d_sd &lt;dbl&gt; | i.CH4_L.kgBM_mean &lt;dbl&gt; | i.CH4_L.kgBM_sd &lt;dbl&gt; | i.CH4_g.d_mean &lt;dbl&gt; | i.CH4_g.d_sd &lt;dbl&gt; | i.CH4_kJ.d_mean &lt;dbl&gt; | i.CH4_kJ.d_sd &lt;dbl&gt; |\n",
       "|---|---|---|---|---|---|---|---|---|---|---|---|---|---|---|---|---|---|---|---|---|\n",
       "| 0e97060fe4b9be17bddeedcd27826b04 | F14_Common_Bream | 0 | Archaea | Euryarchaeota | Methanobacteria | Methanobacteriales | Methanobacteriaceae | Methanobrevibacter | unclassified | ⋯ | NA | NA | NA | NA | NA | NA | NA | NA | NA | NA |\n",
       "| a86c26bd7f16d93e38b101dbd2614a07 | F14_Common_Bream | 0 | Archaea | Euryarchaeota | Methanobacteria | Methanobacteriales | Methanobacteriaceae | Methanobrevibacter | unclassified | ⋯ | NA | NA | NA | NA | NA | NA | NA | NA | NA | NA |\n",
       "| ⋮ | ⋮ | ⋮ | ⋮ | ⋮ | ⋮ | ⋮ | ⋮ | ⋮ | ⋮ | ⋱ | ⋮ | ⋮ | ⋮ | ⋮ | ⋮ | ⋮ | ⋮ | ⋮ | ⋮ | ⋮ |\n",
       "| 9449f372c36cd2d8994d79b091425d42 | X67_European_Roe | 0 | Archaea | Euryarchaeota | Methanobacteria | Methanobacteriales | Methanobacteriaceae | Methanobrevibacter | unclassified | ⋯ | NA | NA | NA | NA | NA | NA | NA | NA | NA | NA |\n",
       "| 467eeae6997d3667b5d07a76bc1bcdfd | X67_European_Roe | 0 | Archaea | Euryarchaeota | Methanobacteria | Methanobacteriales | Methanobacteriaceae | Methanobrevibacter | unclassified | ⋯ | NA | NA | NA | NA | NA | NA | NA | NA | NA | NA |\n",
       "\n"
      ],
      "text/plain": [
       "       OTU                              Sample           Count Domain \n",
       "1      0e97060fe4b9be17bddeedcd27826b04 F14_Common_Bream 0     Archaea\n",
       "2      a86c26bd7f16d93e38b101dbd2614a07 F14_Common_Bream 0     Archaea\n",
       "⋮      ⋮                                ⋮                ⋮     ⋮      \n",
       "349834 9449f372c36cd2d8994d79b091425d42 X67_European_Roe 0     Archaea\n",
       "349835 467eeae6997d3667b5d07a76bc1bcdfd X67_European_Roe 0     Archaea\n",
       "       Phylum        Class           Order              Family             \n",
       "1      Euryarchaeota Methanobacteria Methanobacteriales Methanobacteriaceae\n",
       "2      Euryarchaeota Methanobacteria Methanobacteriales Methanobacteriaceae\n",
       "⋮      ⋮             ⋮               ⋮                  ⋮                  \n",
       "349834 Euryarchaeota Methanobacteria Methanobacteriales Methanobacteriaceae\n",
       "349835 Euryarchaeota Methanobacteria Methanobacteriales Methanobacteriaceae\n",
       "       Genus              Species      ⋯ CH4_kJ.d_mean CH4_kJ.d_sd\n",
       "1      Methanobrevibacter unclassified ⋯ NA            NA         \n",
       "2      Methanobrevibacter unclassified ⋯ NA            NA         \n",
       "⋮      ⋮                  ⋮            ⋱ ⋮             ⋮          \n",
       "349834 Methanobrevibacter unclassified ⋯ NA            NA         \n",
       "349835 Methanobrevibacter unclassified ⋯ NA            NA         \n",
       "       i.CH4_L.d_mean i.CH4_L.d_sd i.CH4_L.kgBM_mean i.CH4_L.kgBM_sd\n",
       "1      NA             NA           NA                NA             \n",
       "2      NA             NA           NA                NA             \n",
       "⋮      ⋮              ⋮            ⋮                 ⋮              \n",
       "349834 NA             NA           NA                NA             \n",
       "349835 NA             NA           NA                NA             \n",
       "       i.CH4_g.d_mean i.CH4_g.d_sd i.CH4_kJ.d_mean i.CH4_kJ.d_sd\n",
       "1      NA             NA           NA              NA           \n",
       "2      NA             NA           NA              NA           \n",
       "⋮      ⋮              ⋮            ⋮               ⋮            \n",
       "349834 NA             NA           NA              NA           \n",
       "349835 NA             NA           NA              NA           "
      ]
     },
     "metadata": {},
     "output_type": "display_data"
    }
   ],
   "source": [
    "otu = physeq_arch_IndD %>%\n",
    "    phyloseq2df(otu_table, long=TRUE) %>%\n",
    "    as.data.table\n",
    "\n",
    "tax = physeq_arch_IndD %>%\n",
    "    phyloseq2df(tax_table) %>%\n",
    "    as.data.table\n",
    "\n",
    "metadata = physeq_arch_IndD %>%\n",
    "    phyloseq2df(sample_data) %>%\n",
    "    as.data.table\n",
    "\n",
    "otu = otu %>%\n",
    "    dt_inner_join(tax, c('OTU')) %>%\n",
    "    dt_inner_join(metadata, c('Sample'))\n",
    "otu"
   ]
  },
  {
   "cell_type": "code",
   "execution_count": 77,
   "metadata": {
    "ExecuteTime": {
     "end_time": "2020-05-27T14:19:24.366062Z",
     "start_time": "2020-05-27T14:19:04.497Z"
    }
   },
   "outputs": [
    {
     "data": {
      "text/html": [
       "<table>\n",
       "<caption>A matrix: 1 × 8 of type dbl</caption>\n",
       "<thead>\n",
       "\t<tr><th></th><th scope=col>Min.</th><th scope=col>1st Qu.</th><th scope=col>Median</th><th scope=col>Mean</th><th scope=col>3rd Qu.</th><th scope=col>Max.</th><th scope=col>sd</th><th scope=col>sd_err_of_mean</th></tr>\n",
       "</thead>\n",
       "<tbody>\n",
       "\t<tr><th scope=row>total_count</th><td>251</td><td>732</td><td>1567</td><td>2360.93</td><td>2973</td><td>32294</td><td>12580.34</td><td>5135.903</td></tr>\n",
       "</tbody>\n",
       "</table>\n"
      ],
      "text/latex": [
       "A matrix: 1 × 8 of type dbl\n",
       "\\begin{tabular}{r|llllllll}\n",
       "  & Min. & 1st Qu. & Median & Mean & 3rd Qu. & Max. & sd & sd\\_err\\_of\\_mean\\\\\n",
       "\\hline\n",
       "\ttotal\\_count & 251 & 732 & 1567 & 2360.93 & 2973 & 32294 & 12580.34 & 5135.903\\\\\n",
       "\\end{tabular}\n"
      ],
      "text/markdown": [
       "\n",
       "A matrix: 1 × 8 of type dbl\n",
       "\n",
       "| <!--/--> | Min. | 1st Qu. | Median | Mean | 3rd Qu. | Max. | sd | sd_err_of_mean |\n",
       "|---|---|---|---|---|---|---|---|---|\n",
       "| total_count | 251 | 732 | 1567 | 2360.93 | 2973 | 32294 | 12580.34 | 5135.903 |\n",
       "\n"
      ],
      "text/plain": [
       "            Min. 1st Qu. Median Mean    3rd Qu. Max.  sd       sd_err_of_mean\n",
       "total_count 251  732     1567   2360.93 2973    32294 12580.34 5135.903      "
      ]
     },
     "metadata": {},
     "output_type": "display_data"
    }
   ],
   "source": [
    "# total counts per sample\n",
    "otu %>%\n",
    "    dt_summarize(total_count = sum(Count), by=c(Sample)) %>%\n",
    "    dt_pull(total_count) %>% summary_x('total_count')"
   ]
  },
  {
   "cell_type": "code",
   "execution_count": 78,
   "metadata": {
    "ExecuteTime": {
     "end_time": "2020-05-27T14:19:24.494849Z",
     "start_time": "2020-05-27T14:19:04.504Z"
    }
   },
   "outputs": [
    {
     "data": {
      "text/html": [
       "<table>\n",
       "<caption>A matrix: 1 × 8 of type dbl</caption>\n",
       "<thead>\n",
       "\t<tr><th></th><th scope=col>Min.</th><th scope=col>1st Qu.</th><th scope=col>Median</th><th scope=col>Mean</th><th scope=col>3rd Qu.</th><th scope=col>Max.</th><th scope=col>sd</th><th scope=col>sd_err_of_mean</th></tr>\n",
       "</thead>\n",
       "<tbody>\n",
       "\t<tr><th scope=row>.</th><td>0</td><td>0</td><td>0</td><td>0.05288207</td><td>0</td><td>94.38129</td><td>38.527</td><td>15.728</td></tr>\n",
       "</tbody>\n",
       "</table>\n"
      ],
      "text/latex": [
       "A matrix: 1 × 8 of type dbl\n",
       "\\begin{tabular}{r|llllllll}\n",
       "  & Min. & 1st Qu. & Median & Mean & 3rd Qu. & Max. & sd & sd\\_err\\_of\\_mean\\\\\n",
       "\\hline\n",
       "\t. & 0 & 0 & 0 & 0.05288207 & 0 & 94.38129 & 38.527 & 15.728\\\\\n",
       "\\end{tabular}\n"
      ],
      "text/markdown": [
       "\n",
       "A matrix: 1 × 8 of type dbl\n",
       "\n",
       "| <!--/--> | Min. | 1st Qu. | Median | Mean | 3rd Qu. | Max. | sd | sd_err_of_mean |\n",
       "|---|---|---|---|---|---|---|---|---|\n",
       "| . | 0 | 0 | 0 | 0.05288207 | 0 | 94.38129 | 38.527 | 15.728 |\n",
       "\n"
      ],
      "text/plain": [
       "  Min. 1st Qu. Median Mean       3rd Qu. Max.     sd     sd_err_of_mean\n",
       ". 0    0       0      0.05288207 0       94.38129 38.527 15.728        "
      ]
     },
     "metadata": {},
     "output_type": "display_data"
    }
   ],
   "source": [
    "# perc abundance\n",
    "otu = otu %>%\n",
    "    dt_mutate(total_count = sum(Count), by=c(Sample)) %>%\n",
    "    dt_mutate(perc_abund = Count / total_count * 100) \n",
    "\n",
    "otu %>% dt_pull(perc_abund) %>% summary_x"
   ]
  },
  {
   "cell_type": "markdown",
   "metadata": {},
   "source": [
    "### Phylum"
   ]
  },
  {
   "cell_type": "code",
   "execution_count": 79,
   "metadata": {
    "ExecuteTime": {
     "end_time": "2020-05-27T14:19:24.598478Z",
     "start_time": "2020-05-27T14:19:04.511Z"
    }
   },
   "outputs": [
    {
     "data": {
      "text/html": [
       "<table>\n",
       "<caption>A data.table: 660 × 3</caption>\n",
       "<thead>\n",
       "\t<tr><th scope=col>scientific_name</th><th scope=col>Phylum</th><th scope=col>perc_abund</th></tr>\n",
       "\t<tr><th scope=col>&lt;chr&gt;</th><th scope=col>&lt;chr&gt;</th><th scope=col>&lt;dbl&gt;</th></tr>\n",
       "</thead>\n",
       "<tbody>\n",
       "\t<tr><td>Abramis_brama</td><td>Euryarchaeota  </td><td>99.53717096</td></tr>\n",
       "\t<tr><td>Abramis_brama</td><td>Nanoarchaeaeota</td><td> 0.05785363</td></tr>\n",
       "\t<tr><td>⋮</td><td>⋮</td><td>⋮</td></tr>\n",
       "\t<tr><td>Capreolus_capreolus</td><td>Asgardaeota  </td><td>0</td></tr>\n",
       "\t<tr><td>Capreolus_capreolus</td><td>Crenarchaeota</td><td>0</td></tr>\n",
       "</tbody>\n",
       "</table>\n"
      ],
      "text/latex": [
       "A data.table: 660 × 3\n",
       "\\begin{tabular}{lll}\n",
       " scientific\\_name & Phylum & perc\\_abund\\\\\n",
       " <chr> & <chr> & <dbl>\\\\\n",
       "\\hline\n",
       "\t Abramis\\_brama & Euryarchaeota   & 99.53717096\\\\\n",
       "\t Abramis\\_brama & Nanoarchaeaeota &  0.05785363\\\\\n",
       "\t ⋮ & ⋮ & ⋮\\\\\n",
       "\t Capreolus\\_capreolus & Asgardaeota   & 0\\\\\n",
       "\t Capreolus\\_capreolus & Crenarchaeota & 0\\\\\n",
       "\\end{tabular}\n"
      ],
      "text/markdown": [
       "\n",
       "A data.table: 660 × 3\n",
       "\n",
       "| scientific_name &lt;chr&gt; | Phylum &lt;chr&gt; | perc_abund &lt;dbl&gt; |\n",
       "|---|---|---|\n",
       "| Abramis_brama | Euryarchaeota   | 99.53717096 |\n",
       "| Abramis_brama | Nanoarchaeaeota |  0.05785363 |\n",
       "| ⋮ | ⋮ | ⋮ |\n",
       "| Capreolus_capreolus | Asgardaeota   | 0 |\n",
       "| Capreolus_capreolus | Crenarchaeota | 0 |\n",
       "\n"
      ],
      "text/plain": [
       "    scientific_name     Phylum          perc_abund \n",
       "1   Abramis_brama       Euryarchaeota   99.53717096\n",
       "2   Abramis_brama       Nanoarchaeaeota  0.05785363\n",
       "⋮   ⋮                   ⋮               ⋮          \n",
       "659 Capreolus_capreolus Asgardaeota     0          \n",
       "660 Capreolus_capreolus Crenarchaeota   0          "
      ]
     },
     "metadata": {},
     "output_type": "display_data"
    }
   ],
   "source": [
    "# using mean perc abund\n",
    "otu_s = otu %>%\n",
    "    dt_summarize(perc_abund = sum(perc_abund),\n",
    "                 by=c(Sample, Phylum, scientific_name)) %>%\n",
    "    dt_summarize(perc_abund = mean(perc_abund),\n",
    "                 by=c(scientific_name, Phylum))\n",
    "otu_s"
   ]
  },
  {
   "cell_type": "code",
   "execution_count": 80,
   "metadata": {
    "ExecuteTime": {
     "end_time": "2020-05-27T14:19:24.629504Z",
     "start_time": "2020-05-27T14:19:04.516Z"
    }
   },
   "outputs": [
    {
     "data": {
      "text/html": [
       "<table>\n",
       "<caption>A matrix: 1 × 8 of type dbl</caption>\n",
       "<thead>\n",
       "\t<tr><th></th><th scope=col>Min.</th><th scope=col>1st Qu.</th><th scope=col>Median</th><th scope=col>Mean</th><th scope=col>3rd Qu.</th><th scope=col>Max.</th><th scope=col>sd</th><th scope=col>sd_err_of_mean</th></tr>\n",
       "</thead>\n",
       "<tbody>\n",
       "\t<tr><th scope=row>mean % abund</th><td>100</td><td>100</td><td>100</td><td>100</td><td>100</td><td>100</td><td>0</td><td>0</td></tr>\n",
       "</tbody>\n",
       "</table>\n"
      ],
      "text/latex": [
       "A matrix: 1 × 8 of type dbl\n",
       "\\begin{tabular}{r|llllllll}\n",
       "  & Min. & 1st Qu. & Median & Mean & 3rd Qu. & Max. & sd & sd\\_err\\_of\\_mean\\\\\n",
       "\\hline\n",
       "\tmean \\% abund & 100 & 100 & 100 & 100 & 100 & 100 & 0 & 0\\\\\n",
       "\\end{tabular}\n"
      ],
      "text/markdown": [
       "\n",
       "A matrix: 1 × 8 of type dbl\n",
       "\n",
       "| <!--/--> | Min. | 1st Qu. | Median | Mean | 3rd Qu. | Max. | sd | sd_err_of_mean |\n",
       "|---|---|---|---|---|---|---|---|---|\n",
       "| mean % abund | 100 | 100 | 100 | 100 | 100 | 100 | 0 | 0 |\n",
       "\n"
      ],
      "text/plain": [
       "             Min. 1st Qu. Median Mean 3rd Qu. Max. sd sd_err_of_mean\n",
       "mean % abund 100  100     100    100  100     100  0  0             "
      ]
     },
     "metadata": {},
     "output_type": "display_data"
    }
   ],
   "source": [
    "# total % abund per host species\n",
    "otu_s %>%\n",
    "    dt_summarize(perc_abund_sum = sum(perc_abund),\n",
    "                 by=c(scientific_name)) %>%\n",
    "    dt_pull(perc_abund_sum) %>% summary_x('mean % abund')"
   ]
  },
  {
   "cell_type": "code",
   "execution_count": 81,
   "metadata": {
    "ExecuteTime": {
     "end_time": "2020-05-27T14:19:24.667768Z",
     "start_time": "2020-05-27T14:19:04.521Z"
    }
   },
   "outputs": [
    {
     "data": {
      "text/html": [
       "<table>\n",
       "<caption>A data.frame: 6 × 2</caption>\n",
       "<thead>\n",
       "\t<tr><th scope=col>Phylum</th><th scope=col>mean_abund</th></tr>\n",
       "\t<tr><th scope=col>&lt;chr&gt;</th><th scope=col>&lt;dbl&gt;</th></tr>\n",
       "</thead>\n",
       "<tbody>\n",
       "\t<tr><td>Euryarchaeota  </td><td>92.040861732</td></tr>\n",
       "\t<tr><td>Thaumarchaeota </td><td> 7.578280929</td></tr>\n",
       "\t<tr><td>Crenarchaeota  </td><td> 0.308551113</td></tr>\n",
       "\t<tr><td>Nanoarchaeaeota</td><td> 0.065823145</td></tr>\n",
       "\t<tr><td>Asgardaeota    </td><td> 0.004871217</td></tr>\n",
       "\t<tr><td>Diapherotrites </td><td> 0.001611863</td></tr>\n",
       "</tbody>\n",
       "</table>\n"
      ],
      "text/latex": [
       "A data.frame: 6 × 2\n",
       "\\begin{tabular}{ll}\n",
       " Phylum & mean\\_abund\\\\\n",
       " <chr> & <dbl>\\\\\n",
       "\\hline\n",
       "\t Euryarchaeota   & 92.040861732\\\\\n",
       "\t Thaumarchaeota  &  7.578280929\\\\\n",
       "\t Crenarchaeota   &  0.308551113\\\\\n",
       "\t Nanoarchaeaeota &  0.065823145\\\\\n",
       "\t Asgardaeota     &  0.004871217\\\\\n",
       "\t Diapherotrites  &  0.001611863\\\\\n",
       "\\end{tabular}\n"
      ],
      "text/markdown": [
       "\n",
       "A data.frame: 6 × 2\n",
       "\n",
       "| Phylum &lt;chr&gt; | mean_abund &lt;dbl&gt; |\n",
       "|---|---|\n",
       "| Euryarchaeota   | 92.040861732 |\n",
       "| Thaumarchaeota  |  7.578280929 |\n",
       "| Crenarchaeota   |  0.308551113 |\n",
       "| Nanoarchaeaeota |  0.065823145 |\n",
       "| Asgardaeota     |  0.004871217 |\n",
       "| Diapherotrites  |  0.001611863 |\n",
       "\n"
      ],
      "text/plain": [
       "  Phylum          mean_abund  \n",
       "1 Euryarchaeota   92.040861732\n",
       "2 Thaumarchaeota   7.578280929\n",
       "3 Crenarchaeota    0.308551113\n",
       "4 Nanoarchaeaeota  0.065823145\n",
       "5 Asgardaeota      0.004871217\n",
       "6 Diapherotrites   0.001611863"
      ]
     },
     "metadata": {},
     "output_type": "display_data"
    }
   ],
   "source": [
    "# ordering by overall abundance\n",
    "x = otu_s %>%\n",
    "    dt_summarize(mean_abund = mean(perc_abund), by=c(Phylum)) %>%\n",
    "    arrange(-mean_abund)\n",
    "df.dims(10)\n",
    "x\n",
    "df.dims()"
   ]
  },
  {
   "cell_type": "code",
   "execution_count": 82,
   "metadata": {
    "ExecuteTime": {
     "end_time": "2020-05-27T14:19:24.689189Z",
     "start_time": "2020-05-27T14:19:04.526Z"
    }
   },
   "outputs": [
    {
     "data": {
      "text/html": [
       "<ol class=list-inline>\n",
       "\t<li>'scientific_name'</li>\n",
       "\t<li>'Euryarchaeota'</li>\n",
       "\t<li>'Thaumarchaeota'</li>\n",
       "\t<li>'Crenarchaeota'</li>\n",
       "\t<li>'Nanoarchaeaeota'</li>\n",
       "\t<li>'Asgardaeota'</li>\n",
       "\t<li>'Diapherotrites'</li>\n",
       "</ol>\n"
      ],
      "text/latex": [
       "\\begin{enumerate*}\n",
       "\\item 'scientific\\_name'\n",
       "\\item 'Euryarchaeota'\n",
       "\\item 'Thaumarchaeota'\n",
       "\\item 'Crenarchaeota'\n",
       "\\item 'Nanoarchaeaeota'\n",
       "\\item 'Asgardaeota'\n",
       "\\item 'Diapherotrites'\n",
       "\\end{enumerate*}\n"
      ],
      "text/markdown": [
       "1. 'scientific_name'\n",
       "2. 'Euryarchaeota'\n",
       "3. 'Thaumarchaeota'\n",
       "4. 'Crenarchaeota'\n",
       "5. 'Nanoarchaeaeota'\n",
       "6. 'Asgardaeota'\n",
       "7. 'Diapherotrites'\n",
       "\n",
       "\n"
      ],
      "text/plain": [
       "[1] \"scientific_name\" \"Euryarchaeota\"   \"Thaumarchaeota\"  \"Crenarchaeota\"  \n",
       "[5] \"Nanoarchaeaeota\" \"Asgardaeota\"     \"Diapherotrites\" "
      ]
     },
     "metadata": {},
     "output_type": "display_data"
    }
   ],
   "source": [
    "# sorting\n",
    "phy_by_abund = x$Phylum\n",
    "phy_by_abund = c('scientific_name', phy_by_abund)\n",
    "phy_by_abund"
   ]
  },
  {
   "cell_type": "code",
   "execution_count": 83,
   "metadata": {
    "ExecuteTime": {
     "end_time": "2020-05-27T14:19:24.739807Z",
     "start_time": "2020-05-27T14:19:04.531Z"
    }
   },
   "outputs": [
    {
     "data": {
      "text/html": [
       "<table>\n",
       "<caption>A data.frame: 110 × 6</caption>\n",
       "<thead>\n",
       "\t<tr><th></th><th scope=col>Euryarchaeota</th><th scope=col>Thaumarchaeota</th><th scope=col>Crenarchaeota</th><th scope=col>Nanoarchaeaeota</th><th scope=col>Asgardaeota</th><th scope=col>Diapherotrites</th></tr>\n",
       "\t<tr><th></th><th scope=col>&lt;dbl&gt;</th><th scope=col>&lt;dbl&gt;</th><th scope=col>&lt;dbl&gt;</th><th scope=col>&lt;dbl&gt;</th><th scope=col>&lt;dbl&gt;</th><th scope=col>&lt;dbl&gt;</th></tr>\n",
       "</thead>\n",
       "<tbody>\n",
       "\t<tr><th scope=row>Abramis_brama</th><td>99.53717</td><td>0.00000000</td><td>0.4049754</td><td>0.05785363</td><td>0</td><td>0</td></tr>\n",
       "\t<tr><th scope=row>Aepyceros_melampus</th><td>99.93956</td><td>0.06044003</td><td>0.0000000</td><td>0.00000000</td><td>0</td><td>0</td></tr>\n",
       "\t<tr><th scope=row>⋮</th><td>⋮</td><td>⋮</td><td>⋮</td><td>⋮</td><td>⋮</td><td>⋮</td></tr>\n",
       "\t<tr><th scope=row>Vulpes_vulpes</th><td>100.00000</td><td> 0.00000</td><td>0</td><td>0</td><td>0</td><td>0</td></tr>\n",
       "\t<tr><th scope=row>Zamenis_longissimus</th><td> 28.18471</td><td>71.81529</td><td>0</td><td>0</td><td>0</td><td>0</td></tr>\n",
       "</tbody>\n",
       "</table>\n"
      ],
      "text/latex": [
       "A data.frame: 110 × 6\n",
       "\\begin{tabular}{r|llllll}\n",
       "  & Euryarchaeota & Thaumarchaeota & Crenarchaeota & Nanoarchaeaeota & Asgardaeota & Diapherotrites\\\\\n",
       "  & <dbl> & <dbl> & <dbl> & <dbl> & <dbl> & <dbl>\\\\\n",
       "\\hline\n",
       "\tAbramis\\_brama & 99.53717 & 0.00000000 & 0.4049754 & 0.05785363 & 0 & 0\\\\\n",
       "\tAepyceros\\_melampus & 99.93956 & 0.06044003 & 0.0000000 & 0.00000000 & 0 & 0\\\\\n",
       "\t⋮ & ⋮ & ⋮ & ⋮ & ⋮ & ⋮ & ⋮\\\\\n",
       "\tVulpes\\_vulpes & 100.00000 &  0.00000 & 0 & 0 & 0 & 0\\\\\n",
       "\tZamenis\\_longissimus &  28.18471 & 71.81529 & 0 & 0 & 0 & 0\\\\\n",
       "\\end{tabular}\n"
      ],
      "text/markdown": [
       "\n",
       "A data.frame: 110 × 6\n",
       "\n",
       "| <!--/--> | Euryarchaeota &lt;dbl&gt; | Thaumarchaeota &lt;dbl&gt; | Crenarchaeota &lt;dbl&gt; | Nanoarchaeaeota &lt;dbl&gt; | Asgardaeota &lt;dbl&gt; | Diapherotrites &lt;dbl&gt; |\n",
       "|---|---|---|---|---|---|---|\n",
       "| Abramis_brama | 99.53717 | 0.00000000 | 0.4049754 | 0.05785363 | 0 | 0 |\n",
       "| Aepyceros_melampus | 99.93956 | 0.06044003 | 0.0000000 | 0.00000000 | 0 | 0 |\n",
       "| ⋮ | ⋮ | ⋮ | ⋮ | ⋮ | ⋮ | ⋮ |\n",
       "| Vulpes_vulpes | 100.00000 |  0.00000 | 0 | 0 | 0 | 0 |\n",
       "| Zamenis_longissimus |  28.18471 | 71.81529 | 0 | 0 | 0 | 0 |\n",
       "\n"
      ],
      "text/plain": [
       "                    Euryarchaeota Thaumarchaeota Crenarchaeota Nanoarchaeaeota\n",
       "Abramis_brama       99.53717      0.00000000     0.4049754     0.05785363     \n",
       "Aepyceros_melampus  99.93956      0.06044003     0.0000000     0.00000000     \n",
       "⋮                   ⋮             ⋮              ⋮             ⋮              \n",
       "Vulpes_vulpes       100.00000      0.00000       0             0              \n",
       "Zamenis_longissimus  28.18471     71.81529       0             0              \n",
       "                    Asgardaeota Diapherotrites\n",
       "Abramis_brama       0           0             \n",
       "Aepyceros_melampus  0           0             \n",
       "⋮                   ⋮           ⋮             \n",
       "Vulpes_vulpes       0           0             \n",
       "Zamenis_longissimus 0           0             "
      ]
     },
     "metadata": {},
     "output_type": "display_data"
    }
   ],
   "source": [
    "# creating multi-bar \n",
    "x = otu_s %>%\n",
    "    dt_pivot_wider(names_from=Phylum, values_from=perc_abund) %>%\n",
    "    dt_select({{phy_by_abund}}) %>%\n",
    "    as.data.frame \n",
    "rownames(x) = x$scientific_name\n",
    "x$scientific_name = NULL\n",
    "x"
   ]
  },
  {
   "cell_type": "code",
   "execution_count": 84,
   "metadata": {
    "ExecuteTime": {
     "end_time": "2020-05-27T14:19:24.769217Z",
     "start_time": "2020-05-27T14:19:04.535Z"
    }
   },
   "outputs": [
    {
     "name": "stdout",
     "output_type": "stream",
     "text": [
      "File written: /ebio/abt3_projects/Georg_animal_feces/data/16S_arch/MiSeq-Runs-116-122-126-189-190/LLA/dataset_explore//SpecD_phylum-abund_multibar.txt \n"
     ]
    }
   ],
   "source": [
    "# writing itol input file\n",
    "F = file.path(work_dir, 'SpecD_phylum-abund_multibar.txt')\n",
    "itol_multibar(x, 'Phylum_perc_abund', F)"
   ]
  },
  {
   "cell_type": "markdown",
   "metadata": {},
   "source": [
    "### Class"
   ]
  },
  {
   "cell_type": "code",
   "execution_count": 85,
   "metadata": {
    "ExecuteTime": {
     "end_time": "2020-05-27T14:19:25.064063Z",
     "start_time": "2020-05-27T14:19:04.541Z"
    }
   },
   "outputs": [
    {
     "data": {
      "text/html": [
       "<table>\n",
       "<caption>A data.table: 1210 × 3</caption>\n",
       "<thead>\n",
       "\t<tr><th scope=col>scientific_name</th><th scope=col>Taxonomy</th><th scope=col>perc_abund</th></tr>\n",
       "\t<tr><th scope=col>&lt;chr&gt;</th><th scope=col>&lt;chr&gt;</th><th scope=col>&lt;dbl&gt;</th></tr>\n",
       "</thead>\n",
       "<tbody>\n",
       "\t<tr><td>Abramis_brama</td><td>Euryarchaeota;Methanobacteria</td><td>75.58577</td></tr>\n",
       "\t<tr><td>Abramis_brama</td><td>Euryarchaeota;Thermococci    </td><td> 0.00000</td></tr>\n",
       "\t<tr><td>⋮</td><td>⋮</td><td>⋮</td></tr>\n",
       "\t<tr><td>Capreolus_capreolus</td><td>Crenarchaeota;Bathyarchaeia</td><td>0</td></tr>\n",
       "\t<tr><td>Capreolus_capreolus</td><td>Euryarchaeota;unclassified </td><td>0</td></tr>\n",
       "</tbody>\n",
       "</table>\n"
      ],
      "text/latex": [
       "A data.table: 1210 × 3\n",
       "\\begin{tabular}{lll}\n",
       " scientific\\_name & Taxonomy & perc\\_abund\\\\\n",
       " <chr> & <chr> & <dbl>\\\\\n",
       "\\hline\n",
       "\t Abramis\\_brama & Euryarchaeota;Methanobacteria & 75.58577\\\\\n",
       "\t Abramis\\_brama & Euryarchaeota;Thermococci     &  0.00000\\\\\n",
       "\t ⋮ & ⋮ & ⋮\\\\\n",
       "\t Capreolus\\_capreolus & Crenarchaeota;Bathyarchaeia & 0\\\\\n",
       "\t Capreolus\\_capreolus & Euryarchaeota;unclassified  & 0\\\\\n",
       "\\end{tabular}\n"
      ],
      "text/markdown": [
       "\n",
       "A data.table: 1210 × 3\n",
       "\n",
       "| scientific_name &lt;chr&gt; | Taxonomy &lt;chr&gt; | perc_abund &lt;dbl&gt; |\n",
       "|---|---|---|\n",
       "| Abramis_brama | Euryarchaeota;Methanobacteria | 75.58577 |\n",
       "| Abramis_brama | Euryarchaeota;Thermococci     |  0.00000 |\n",
       "| ⋮ | ⋮ | ⋮ |\n",
       "| Capreolus_capreolus | Crenarchaeota;Bathyarchaeia | 0 |\n",
       "| Capreolus_capreolus | Euryarchaeota;unclassified  | 0 |\n",
       "\n"
      ],
      "text/plain": [
       "     scientific_name     Taxonomy                      perc_abund\n",
       "1    Abramis_brama       Euryarchaeota;Methanobacteria 75.58577  \n",
       "2    Abramis_brama       Euryarchaeota;Thermococci      0.00000  \n",
       "⋮    ⋮                   ⋮                             ⋮         \n",
       "1209 Capreolus_capreolus Crenarchaeota;Bathyarchaeia   0         \n",
       "1210 Capreolus_capreolus Euryarchaeota;unclassified    0         "
      ]
     },
     "metadata": {},
     "output_type": "display_data"
    }
   ],
   "source": [
    "# using mean perc abund\n",
    "otu_s = otu %>%\n",
    "    dt_mutate(Taxonomy = paste(Phylum, Class, sep=';')) %>%\n",
    "    dt_summarize(perc_abund = sum(perc_abund),\n",
    "                 by=c(Sample, Taxonomy, scientific_name)) %>%\n",
    "    dt_summarize(perc_abund = mean(perc_abund),\n",
    "                 by=c(scientific_name, Taxonomy))\n",
    "otu_s"
   ]
  },
  {
   "cell_type": "code",
   "execution_count": 86,
   "metadata": {
    "ExecuteTime": {
     "end_time": "2020-05-27T14:19:25.116822Z",
     "start_time": "2020-05-27T14:19:04.546Z"
    }
   },
   "outputs": [
    {
     "data": {
      "text/html": [
       "<table>\n",
       "<caption>A matrix: 1 × 8 of type dbl</caption>\n",
       "<thead>\n",
       "\t<tr><th></th><th scope=col>Min.</th><th scope=col>1st Qu.</th><th scope=col>Median</th><th scope=col>Mean</th><th scope=col>3rd Qu.</th><th scope=col>Max.</th><th scope=col>sd</th><th scope=col>sd_err_of_mean</th></tr>\n",
       "</thead>\n",
       "<tbody>\n",
       "\t<tr><th scope=row>mean % abund</th><td>100</td><td>100</td><td>100</td><td>100</td><td>100</td><td>100</td><td>0</td><td>0</td></tr>\n",
       "</tbody>\n",
       "</table>\n"
      ],
      "text/latex": [
       "A matrix: 1 × 8 of type dbl\n",
       "\\begin{tabular}{r|llllllll}\n",
       "  & Min. & 1st Qu. & Median & Mean & 3rd Qu. & Max. & sd & sd\\_err\\_of\\_mean\\\\\n",
       "\\hline\n",
       "\tmean \\% abund & 100 & 100 & 100 & 100 & 100 & 100 & 0 & 0\\\\\n",
       "\\end{tabular}\n"
      ],
      "text/markdown": [
       "\n",
       "A matrix: 1 × 8 of type dbl\n",
       "\n",
       "| <!--/--> | Min. | 1st Qu. | Median | Mean | 3rd Qu. | Max. | sd | sd_err_of_mean |\n",
       "|---|---|---|---|---|---|---|---|---|\n",
       "| mean % abund | 100 | 100 | 100 | 100 | 100 | 100 | 0 | 0 |\n",
       "\n"
      ],
      "text/plain": [
       "             Min. 1st Qu. Median Mean 3rd Qu. Max. sd sd_err_of_mean\n",
       "mean % abund 100  100     100    100  100     100  0  0             "
      ]
     },
     "metadata": {},
     "output_type": "display_data"
    }
   ],
   "source": [
    "# total % abund per host species\n",
    "otu_s %>%\n",
    "    dt_summarize(perc_abund_sum = sum(perc_abund),\n",
    "                 by=c(scientific_name)) %>%\n",
    "    dt_pull(perc_abund_sum) %>% summary_x('mean % abund')"
   ]
  },
  {
   "cell_type": "code",
   "execution_count": 87,
   "metadata": {
    "ExecuteTime": {
     "end_time": "2020-05-27T14:19:25.975004Z",
     "start_time": "2020-05-27T14:19:04.551Z"
    }
   },
   "outputs": [
    {
     "name": "stdout",
     "output_type": "stream",
     "text": [
      "No. of unique Classes: 11 \n"
     ]
    },
    {
     "data": {
      "text/html": [
       "<ol class=list-inline>\n",
       "\t<li>'Euryarchaeota;Methanobacteria'</li>\n",
       "\t<li>'Euryarchaeota;Thermococci'</li>\n",
       "\t<li>'Nanoarchaeaeota;Woesearchaeia'</li>\n",
       "\t<li>'Euryarchaeota;Halobacteria'</li>\n",
       "\t<li>'Euryarchaeota;Methanomicrobia'</li>\n",
       "\t<li>'Euryarchaeota;Thermoplasmata'</li>\n",
       "\t<li>'Thaumarchaeota;Nitrososphaeria'</li>\n",
       "\t<li>'Diapherotrites;Iainarchaeia'</li>\n",
       "\t<li>'Asgardaeota;Odinarchaeia'</li>\n",
       "\t<li>'Crenarchaeota;Bathyarchaeia'</li>\n",
       "\t<li>'Euryarchaeota;unclassified'</li>\n",
       "</ol>\n"
      ],
      "text/latex": [
       "\\begin{enumerate*}\n",
       "\\item 'Euryarchaeota;Methanobacteria'\n",
       "\\item 'Euryarchaeota;Thermococci'\n",
       "\\item 'Nanoarchaeaeota;Woesearchaeia'\n",
       "\\item 'Euryarchaeota;Halobacteria'\n",
       "\\item 'Euryarchaeota;Methanomicrobia'\n",
       "\\item 'Euryarchaeota;Thermoplasmata'\n",
       "\\item 'Thaumarchaeota;Nitrososphaeria'\n",
       "\\item 'Diapherotrites;Iainarchaeia'\n",
       "\\item 'Asgardaeota;Odinarchaeia'\n",
       "\\item 'Crenarchaeota;Bathyarchaeia'\n",
       "\\item 'Euryarchaeota;unclassified'\n",
       "\\end{enumerate*}\n"
      ],
      "text/markdown": [
       "1. 'Euryarchaeota;Methanobacteria'\n",
       "2. 'Euryarchaeota;Thermococci'\n",
       "3. 'Nanoarchaeaeota;Woesearchaeia'\n",
       "4. 'Euryarchaeota;Halobacteria'\n",
       "5. 'Euryarchaeota;Methanomicrobia'\n",
       "6. 'Euryarchaeota;Thermoplasmata'\n",
       "7. 'Thaumarchaeota;Nitrososphaeria'\n",
       "8. 'Diapherotrites;Iainarchaeia'\n",
       "9. 'Asgardaeota;Odinarchaeia'\n",
       "10. 'Crenarchaeota;Bathyarchaeia'\n",
       "11. 'Euryarchaeota;unclassified'\n",
       "\n",
       "\n"
      ],
      "text/plain": [
       " [1] \"Euryarchaeota;Methanobacteria\"  \"Euryarchaeota;Thermococci\"     \n",
       " [3] \"Nanoarchaeaeota;Woesearchaeia\"  \"Euryarchaeota;Halobacteria\"    \n",
       " [5] \"Euryarchaeota;Methanomicrobia\"  \"Euryarchaeota;Thermoplasmata\"  \n",
       " [7] \"Thaumarchaeota;Nitrososphaeria\" \"Diapherotrites;Iainarchaeia\"   \n",
       " [9] \"Asgardaeota;Odinarchaeia\"       \"Crenarchaeota;Bathyarchaeia\"   \n",
       "[11] \"Euryarchaeota;unclassified\"    "
      ]
     },
     "metadata": {},
     "output_type": "display_data"
    }
   ],
   "source": [
    "# summarizing\n",
    "otu_s %>% unique_n('Classes', Taxonomy)\n",
    "otu_s %>% dt_pull(Taxonomy) %>% unique"
   ]
  },
  {
   "cell_type": "code",
   "execution_count": 88,
   "metadata": {
    "ExecuteTime": {
     "end_time": "2020-05-27T14:19:26.064797Z",
     "start_time": "2020-05-27T14:19:04.556Z"
    }
   },
   "outputs": [
    {
     "data": {
      "text/html": [
       "<table>\n",
       "<caption>A data.table: 1210 × 3</caption>\n",
       "<thead>\n",
       "\t<tr><th scope=col>scientific_name</th><th scope=col>Taxonomy</th><th scope=col>perc_abund</th></tr>\n",
       "\t<tr><th scope=col>&lt;chr&gt;</th><th scope=col>&lt;chr&gt;</th><th scope=col>&lt;dbl&gt;</th></tr>\n",
       "</thead>\n",
       "<tbody>\n",
       "\t<tr><td>Abramis_brama</td><td>Euryarchaeota;Methanobacteria</td><td>75.58577</td></tr>\n",
       "\t<tr><td>Abramis_brama</td><td>Other                        </td><td> 0.00000</td></tr>\n",
       "\t<tr><td>⋮</td><td>⋮</td><td>⋮</td></tr>\n",
       "\t<tr><td>Capreolus_capreolus</td><td>Crenarchaeota;Bathyarchaeia</td><td>0</td></tr>\n",
       "\t<tr><td>Capreolus_capreolus</td><td>Other                      </td><td>0</td></tr>\n",
       "</tbody>\n",
       "</table>\n"
      ],
      "text/latex": [
       "A data.table: 1210 × 3\n",
       "\\begin{tabular}{lll}\n",
       " scientific\\_name & Taxonomy & perc\\_abund\\\\\n",
       " <chr> & <chr> & <dbl>\\\\\n",
       "\\hline\n",
       "\t Abramis\\_brama & Euryarchaeota;Methanobacteria & 75.58577\\\\\n",
       "\t Abramis\\_brama & Other                         &  0.00000\\\\\n",
       "\t ⋮ & ⋮ & ⋮\\\\\n",
       "\t Capreolus\\_capreolus & Crenarchaeota;Bathyarchaeia & 0\\\\\n",
       "\t Capreolus\\_capreolus & Other                       & 0\\\\\n",
       "\\end{tabular}\n"
      ],
      "text/markdown": [
       "\n",
       "A data.table: 1210 × 3\n",
       "\n",
       "| scientific_name &lt;chr&gt; | Taxonomy &lt;chr&gt; | perc_abund &lt;dbl&gt; |\n",
       "|---|---|---|\n",
       "| Abramis_brama | Euryarchaeota;Methanobacteria | 75.58577 |\n",
       "| Abramis_brama | Other                         |  0.00000 |\n",
       "| ⋮ | ⋮ | ⋮ |\n",
       "| Capreolus_capreolus | Crenarchaeota;Bathyarchaeia | 0 |\n",
       "| Capreolus_capreolus | Other                       | 0 |\n",
       "\n"
      ],
      "text/plain": [
       "     scientific_name     Taxonomy                      perc_abund\n",
       "1    Abramis_brama       Euryarchaeota;Methanobacteria 75.58577  \n",
       "2    Abramis_brama       Other                          0.00000  \n",
       "⋮    ⋮                   ⋮                             ⋮         \n",
       "1209 Capreolus_capreolus Crenarchaeota;Bathyarchaeia   0         \n",
       "1210 Capreolus_capreolus Other                         0         "
      ]
     },
     "metadata": {},
     "output_type": "display_data"
    }
   ],
   "source": [
    "# changing rare to \"Other\"\n",
    "otu_s = otu_s %>%\n",
    "    dt_mutate(mean_perc_abund = mean(perc_abund), by=c(Taxonomy)) %>%\n",
    "    dt_mutate(Taxonomy = Taxonomy %>% as.character,\n",
    "              Taxonomy = ifelse(mean_perc_abund < 0.1, 'Other', Taxonomy),\n",
    "              Taxonomy = ifelse(grepl('unclassified', Taxonomy), 'Other', Taxonomy)) %>%\n",
    "    dt_select(-mean_perc_abund)\n",
    "otu_s"
   ]
  },
  {
   "cell_type": "code",
   "execution_count": 89,
   "metadata": {
    "ExecuteTime": {
     "end_time": "2020-05-27T14:19:26.102217Z",
     "start_time": "2020-05-27T14:19:04.562Z"
    }
   },
   "outputs": [
    {
     "name": "stdout",
     "output_type": "stream",
     "text": [
      "No. of unique Classes: 7 \n"
     ]
    },
    {
     "data": {
      "text/html": [
       "<ol class=list-inline>\n",
       "\t<li>'Euryarchaeota;Methanobacteria'</li>\n",
       "\t<li>'Other'</li>\n",
       "\t<li>'Euryarchaeota;Halobacteria'</li>\n",
       "\t<li>'Euryarchaeota;Methanomicrobia'</li>\n",
       "\t<li>'Euryarchaeota;Thermoplasmata'</li>\n",
       "\t<li>'Thaumarchaeota;Nitrososphaeria'</li>\n",
       "\t<li>'Crenarchaeota;Bathyarchaeia'</li>\n",
       "</ol>\n"
      ],
      "text/latex": [
       "\\begin{enumerate*}\n",
       "\\item 'Euryarchaeota;Methanobacteria'\n",
       "\\item 'Other'\n",
       "\\item 'Euryarchaeota;Halobacteria'\n",
       "\\item 'Euryarchaeota;Methanomicrobia'\n",
       "\\item 'Euryarchaeota;Thermoplasmata'\n",
       "\\item 'Thaumarchaeota;Nitrososphaeria'\n",
       "\\item 'Crenarchaeota;Bathyarchaeia'\n",
       "\\end{enumerate*}\n"
      ],
      "text/markdown": [
       "1. 'Euryarchaeota;Methanobacteria'\n",
       "2. 'Other'\n",
       "3. 'Euryarchaeota;Halobacteria'\n",
       "4. 'Euryarchaeota;Methanomicrobia'\n",
       "5. 'Euryarchaeota;Thermoplasmata'\n",
       "6. 'Thaumarchaeota;Nitrososphaeria'\n",
       "7. 'Crenarchaeota;Bathyarchaeia'\n",
       "\n",
       "\n"
      ],
      "text/plain": [
       "[1] \"Euryarchaeota;Methanobacteria\"  \"Other\"                         \n",
       "[3] \"Euryarchaeota;Halobacteria\"     \"Euryarchaeota;Methanomicrobia\" \n",
       "[5] \"Euryarchaeota;Thermoplasmata\"   \"Thaumarchaeota;Nitrososphaeria\"\n",
       "[7] \"Crenarchaeota;Bathyarchaeia\"   "
      ]
     },
     "metadata": {},
     "output_type": "display_data"
    }
   ],
   "source": [
    "# summarizing\n",
    "otu_s %>% unique_n('Classes', Taxonomy)\n",
    "otu_s %>% dt_pull(Taxonomy) %>% unique"
   ]
  },
  {
   "cell_type": "code",
   "execution_count": 90,
   "metadata": {
    "ExecuteTime": {
     "end_time": "2020-05-27T14:19:26.142469Z",
     "start_time": "2020-05-27T14:19:04.569Z"
    }
   },
   "outputs": [
    {
     "data": {
      "text/html": [
       "<table>\n",
       "<caption>A data.frame: 7 × 2</caption>\n",
       "<thead>\n",
       "\t<tr><th scope=col>Taxonomy</th><th scope=col>mean_abund</th></tr>\n",
       "\t<tr><th scope=col>&lt;chr&gt;</th><th scope=col>&lt;dbl&gt;</th></tr>\n",
       "</thead>\n",
       "<tbody>\n",
       "\t<tr><td>Euryarchaeota;Methanobacteria </td><td>74.27533491</td></tr>\n",
       "\t<tr><td>Euryarchaeota;Methanomicrobia </td><td> 9.08812368</td></tr>\n",
       "\t<tr><td>Euryarchaeota;Thermoplasmata  </td><td> 7.58505171</td></tr>\n",
       "\t<tr><td>Thaumarchaeota;Nitrososphaeria</td><td> 7.57828093</td></tr>\n",
       "\t<tr><td>Euryarchaeota;Halobacteria    </td><td> 0.95295243</td></tr>\n",
       "\t<tr><td>Crenarchaeota;Bathyarchaeia   </td><td> 0.30855111</td></tr>\n",
       "\t<tr><td>Other                         </td><td> 0.04234105</td></tr>\n",
       "</tbody>\n",
       "</table>\n"
      ],
      "text/latex": [
       "A data.frame: 7 × 2\n",
       "\\begin{tabular}{ll}\n",
       " Taxonomy & mean\\_abund\\\\\n",
       " <chr> & <dbl>\\\\\n",
       "\\hline\n",
       "\t Euryarchaeota;Methanobacteria  & 74.27533491\\\\\n",
       "\t Euryarchaeota;Methanomicrobia  &  9.08812368\\\\\n",
       "\t Euryarchaeota;Thermoplasmata   &  7.58505171\\\\\n",
       "\t Thaumarchaeota;Nitrososphaeria &  7.57828093\\\\\n",
       "\t Euryarchaeota;Halobacteria     &  0.95295243\\\\\n",
       "\t Crenarchaeota;Bathyarchaeia    &  0.30855111\\\\\n",
       "\t Other                          &  0.04234105\\\\\n",
       "\\end{tabular}\n"
      ],
      "text/markdown": [
       "\n",
       "A data.frame: 7 × 2\n",
       "\n",
       "| Taxonomy &lt;chr&gt; | mean_abund &lt;dbl&gt; |\n",
       "|---|---|\n",
       "| Euryarchaeota;Methanobacteria  | 74.27533491 |\n",
       "| Euryarchaeota;Methanomicrobia  |  9.08812368 |\n",
       "| Euryarchaeota;Thermoplasmata   |  7.58505171 |\n",
       "| Thaumarchaeota;Nitrososphaeria |  7.57828093 |\n",
       "| Euryarchaeota;Halobacteria     |  0.95295243 |\n",
       "| Crenarchaeota;Bathyarchaeia    |  0.30855111 |\n",
       "| Other                          |  0.04234105 |\n",
       "\n"
      ],
      "text/plain": [
       "  Taxonomy                       mean_abund \n",
       "1 Euryarchaeota;Methanobacteria  74.27533491\n",
       "2 Euryarchaeota;Methanomicrobia   9.08812368\n",
       "3 Euryarchaeota;Thermoplasmata    7.58505171\n",
       "4 Thaumarchaeota;Nitrososphaeria  7.57828093\n",
       "5 Euryarchaeota;Halobacteria      0.95295243\n",
       "6 Crenarchaeota;Bathyarchaeia     0.30855111\n",
       "7 Other                           0.04234105"
      ]
     },
     "metadata": {},
     "output_type": "display_data"
    }
   ],
   "source": [
    "# ordering by overall abundance\n",
    "x = otu_s %>%\n",
    "    dt_summarize(mean_abund = mean(perc_abund), by=c(Taxonomy)) %>%\n",
    "    arrange(-mean_abund)\n",
    "df.dims(10)\n",
    "x\n",
    "df.dims()"
   ]
  },
  {
   "cell_type": "code",
   "execution_count": 91,
   "metadata": {
    "ExecuteTime": {
     "end_time": "2020-05-27T14:19:26.165370Z",
     "start_time": "2020-05-27T14:19:04.575Z"
    }
   },
   "outputs": [
    {
     "data": {
      "text/html": [
       "<ol class=list-inline>\n",
       "\t<li>'scientific_name'</li>\n",
       "\t<li>'Euryarchaeota;Methanobacteria'</li>\n",
       "\t<li>'Euryarchaeota;Methanomicrobia'</li>\n",
       "\t<li>'Euryarchaeota;Thermoplasmata'</li>\n",
       "\t<li>'Thaumarchaeota;Nitrososphaeria'</li>\n",
       "\t<li>'Euryarchaeota;Halobacteria'</li>\n",
       "\t<li>'Crenarchaeota;Bathyarchaeia'</li>\n",
       "\t<li>'Other'</li>\n",
       "</ol>\n"
      ],
      "text/latex": [
       "\\begin{enumerate*}\n",
       "\\item 'scientific\\_name'\n",
       "\\item 'Euryarchaeota;Methanobacteria'\n",
       "\\item 'Euryarchaeota;Methanomicrobia'\n",
       "\\item 'Euryarchaeota;Thermoplasmata'\n",
       "\\item 'Thaumarchaeota;Nitrososphaeria'\n",
       "\\item 'Euryarchaeota;Halobacteria'\n",
       "\\item 'Crenarchaeota;Bathyarchaeia'\n",
       "\\item 'Other'\n",
       "\\end{enumerate*}\n"
      ],
      "text/markdown": [
       "1. 'scientific_name'\n",
       "2. 'Euryarchaeota;Methanobacteria'\n",
       "3. 'Euryarchaeota;Methanomicrobia'\n",
       "4. 'Euryarchaeota;Thermoplasmata'\n",
       "5. 'Thaumarchaeota;Nitrososphaeria'\n",
       "6. 'Euryarchaeota;Halobacteria'\n",
       "7. 'Crenarchaeota;Bathyarchaeia'\n",
       "8. 'Other'\n",
       "\n",
       "\n"
      ],
      "text/plain": [
       "[1] \"scientific_name\"                \"Euryarchaeota;Methanobacteria\" \n",
       "[3] \"Euryarchaeota;Methanomicrobia\"  \"Euryarchaeota;Thermoplasmata\"  \n",
       "[5] \"Thaumarchaeota;Nitrososphaeria\" \"Euryarchaeota;Halobacteria\"    \n",
       "[7] \"Crenarchaeota;Bathyarchaeia\"    \"Other\"                         "
      ]
     },
     "metadata": {},
     "output_type": "display_data"
    }
   ],
   "source": [
    "# sorting\n",
    "phy_by_abund = x$Taxonomy\n",
    "phy_by_abund = c('scientific_name', phy_by_abund)\n",
    "phy_by_abund"
   ]
  },
  {
   "cell_type": "code",
   "execution_count": 92,
   "metadata": {
    "ExecuteTime": {
     "end_time": "2020-05-27T14:19:26.218240Z",
     "start_time": "2020-05-27T14:19:04.581Z"
    }
   },
   "outputs": [
    {
     "data": {
      "text/html": [
       "<table>\n",
       "<caption>A data.frame: 110 × 7</caption>\n",
       "<thead>\n",
       "\t<tr><th></th><th scope=col>Euryarchaeota;Methanobacteria</th><th scope=col>Euryarchaeota;Methanomicrobia</th><th scope=col>Euryarchaeota;Thermoplasmata</th><th scope=col>Thaumarchaeota;Nitrososphaeria</th><th scope=col>Euryarchaeota;Halobacteria</th><th scope=col>Crenarchaeota;Bathyarchaeia</th><th scope=col>Other</th></tr>\n",
       "\t<tr><th></th><th scope=col>&lt;dbl&gt;</th><th scope=col>&lt;dbl&gt;</th><th scope=col>&lt;dbl&gt;</th><th scope=col>&lt;dbl&gt;</th><th scope=col>&lt;dbl&gt;</th><th scope=col>&lt;dbl&gt;</th><th scope=col>&lt;dbl&gt;</th></tr>\n",
       "</thead>\n",
       "<tbody>\n",
       "\t<tr><th scope=row>Abramis_brama</th><td>75.58577</td><td>23.488574</td><td>0.462829</td><td>0.00000000</td><td>0</td><td>0.4049754</td><td>0.05785363</td></tr>\n",
       "\t<tr><th scope=row>Aepyceros_melampus</th><td>98.21954</td><td> 1.720019</td><td>0.000000</td><td>0.06044003</td><td>0</td><td>0.0000000</td><td>0.00000000</td></tr>\n",
       "\t<tr><th scope=row>⋮</th><td>⋮</td><td>⋮</td><td>⋮</td><td>⋮</td><td>⋮</td><td>⋮</td><td>⋮</td></tr>\n",
       "\t<tr><th scope=row>Vulpes_vulpes</th><td>99.49109</td><td>0.5089059</td><td>0</td><td> 0.00000</td><td>0</td><td>0</td><td>0</td></tr>\n",
       "\t<tr><th scope=row>Zamenis_longissimus</th><td>27.54777</td><td>0.6369427</td><td>0</td><td>71.81529</td><td>0</td><td>0</td><td>0</td></tr>\n",
       "</tbody>\n",
       "</table>\n"
      ],
      "text/latex": [
       "A data.frame: 110 × 7\n",
       "\\begin{tabular}{r|lllllll}\n",
       "  & Euryarchaeota;Methanobacteria & Euryarchaeota;Methanomicrobia & Euryarchaeota;Thermoplasmata & Thaumarchaeota;Nitrososphaeria & Euryarchaeota;Halobacteria & Crenarchaeota;Bathyarchaeia & Other\\\\\n",
       "  & <dbl> & <dbl> & <dbl> & <dbl> & <dbl> & <dbl> & <dbl>\\\\\n",
       "\\hline\n",
       "\tAbramis\\_brama & 75.58577 & 23.488574 & 0.462829 & 0.00000000 & 0 & 0.4049754 & 0.05785363\\\\\n",
       "\tAepyceros\\_melampus & 98.21954 &  1.720019 & 0.000000 & 0.06044003 & 0 & 0.0000000 & 0.00000000\\\\\n",
       "\t⋮ & ⋮ & ⋮ & ⋮ & ⋮ & ⋮ & ⋮ & ⋮\\\\\n",
       "\tVulpes\\_vulpes & 99.49109 & 0.5089059 & 0 &  0.00000 & 0 & 0 & 0\\\\\n",
       "\tZamenis\\_longissimus & 27.54777 & 0.6369427 & 0 & 71.81529 & 0 & 0 & 0\\\\\n",
       "\\end{tabular}\n"
      ],
      "text/markdown": [
       "\n",
       "A data.frame: 110 × 7\n",
       "\n",
       "| <!--/--> | Euryarchaeota;Methanobacteria &lt;dbl&gt; | Euryarchaeota;Methanomicrobia &lt;dbl&gt; | Euryarchaeota;Thermoplasmata &lt;dbl&gt; | Thaumarchaeota;Nitrososphaeria &lt;dbl&gt; | Euryarchaeota;Halobacteria &lt;dbl&gt; | Crenarchaeota;Bathyarchaeia &lt;dbl&gt; | Other &lt;dbl&gt; |\n",
       "|---|---|---|---|---|---|---|---|\n",
       "| Abramis_brama | 75.58577 | 23.488574 | 0.462829 | 0.00000000 | 0 | 0.4049754 | 0.05785363 |\n",
       "| Aepyceros_melampus | 98.21954 |  1.720019 | 0.000000 | 0.06044003 | 0 | 0.0000000 | 0.00000000 |\n",
       "| ⋮ | ⋮ | ⋮ | ⋮ | ⋮ | ⋮ | ⋮ | ⋮ |\n",
       "| Vulpes_vulpes | 99.49109 | 0.5089059 | 0 |  0.00000 | 0 | 0 | 0 |\n",
       "| Zamenis_longissimus | 27.54777 | 0.6369427 | 0 | 71.81529 | 0 | 0 | 0 |\n",
       "\n"
      ],
      "text/plain": [
       "                    Euryarchaeota;Methanobacteria Euryarchaeota;Methanomicrobia\n",
       "Abramis_brama       75.58577                      23.488574                    \n",
       "Aepyceros_melampus  98.21954                       1.720019                    \n",
       "⋮                   ⋮                             ⋮                            \n",
       "Vulpes_vulpes       99.49109                      0.5089059                    \n",
       "Zamenis_longissimus 27.54777                      0.6369427                    \n",
       "                    Euryarchaeota;Thermoplasmata Thaumarchaeota;Nitrososphaeria\n",
       "Abramis_brama       0.462829                     0.00000000                    \n",
       "Aepyceros_melampus  0.000000                     0.06044003                    \n",
       "⋮                   ⋮                            ⋮                             \n",
       "Vulpes_vulpes       0                             0.00000                      \n",
       "Zamenis_longissimus 0                            71.81529                      \n",
       "                    Euryarchaeota;Halobacteria Crenarchaeota;Bathyarchaeia\n",
       "Abramis_brama       0                          0.4049754                  \n",
       "Aepyceros_melampus  0                          0.0000000                  \n",
       "⋮                   ⋮                          ⋮                          \n",
       "Vulpes_vulpes       0                          0                          \n",
       "Zamenis_longissimus 0                          0                          \n",
       "                    Other     \n",
       "Abramis_brama       0.05785363\n",
       "Aepyceros_melampus  0.00000000\n",
       "⋮                   ⋮         \n",
       "Vulpes_vulpes       0         \n",
       "Zamenis_longissimus 0         "
      ]
     },
     "metadata": {},
     "output_type": "display_data"
    }
   ],
   "source": [
    "# creating multi-bar \n",
    "x = otu_s %>%\n",
    "    dt_pivot_wider(names_from=Taxonomy, values_from=perc_abund, values_fn=sum) %>%\n",
    "    dt_select({{phy_by_abund}}) %>%\n",
    "    as.data.frame \n",
    "rownames(x) = x$scientific_name\n",
    "x$scientific_name = NULL\n",
    "x"
   ]
  },
  {
   "cell_type": "code",
   "execution_count": 93,
   "metadata": {
    "ExecuteTime": {
     "end_time": "2020-05-27T14:19:26.237417Z",
     "start_time": "2020-05-27T14:19:04.587Z"
    }
   },
   "outputs": [
    {
     "data": {
      "text/plain": [
       "   Min. 1st Qu.  Median    Mean 3rd Qu.    Max. \n",
       "    100     100     100     100     100     100 "
      ]
     },
     "metadata": {},
     "output_type": "display_data"
    }
   ],
   "source": [
    "# checking abundances\n",
    "x %>% apply(1, sum) %>% summary"
   ]
  },
  {
   "cell_type": "code",
   "execution_count": 94,
   "metadata": {
    "ExecuteTime": {
     "end_time": "2020-05-27T14:19:26.261727Z",
     "start_time": "2020-05-27T14:19:04.592Z"
    }
   },
   "outputs": [
    {
     "name": "stdout",
     "output_type": "stream",
     "text": [
      "File written: /ebio/abt3_projects/Georg_animal_feces/data/16S_arch/MiSeq-Runs-116-122-126-189-190/LLA/dataset_explore//SpecD_class-abund_multibar.txt \n"
     ]
    }
   ],
   "source": [
    "# writing itol input file\n",
    "F = file.path(work_dir, 'SpecD_class-abund_multibar.txt')\n",
    "itol_multibar(x, 'Class_perc_abund', F)"
   ]
  },
  {
   "cell_type": "markdown",
   "metadata": {},
   "source": [
    "### Methanogens"
   ]
  },
  {
   "cell_type": "code",
   "execution_count": 95,
   "metadata": {
    "ExecuteTime": {
     "end_time": "2020-05-27T14:19:26.671500Z",
     "start_time": "2020-05-27T14:19:04.597Z"
    }
   },
   "outputs": [
    {
     "data": {
      "text/html": [
       "<table>\n",
       "<caption>A data.table: 9900 × 3</caption>\n",
       "<thead>\n",
       "\t<tr><th scope=col>scientific_name</th><th scope=col>Taxonomy</th><th scope=col>perc_abund</th></tr>\n",
       "\t<tr><th scope=col>&lt;chr&gt;</th><th scope=col>&lt;chr&gt;</th><th scope=col>&lt;dbl&gt;</th></tr>\n",
       "</thead>\n",
       "<tbody>\n",
       "\t<tr><td>Abramis_brama</td><td>Euryarchaeota-Methanobacteria-Methanobacteriales-Methanobacteriaceae-Methanobrevibacter</td><td>0.4049754</td></tr>\n",
       "\t<tr><td>Abramis_brama</td><td>Euryarchaeota-Methanobacteria-Methanobacteriales-Methanobacteriaceae-unclassified      </td><td>0.0000000</td></tr>\n",
       "\t<tr><td>⋮</td><td>⋮</td><td>⋮</td></tr>\n",
       "\t<tr><td>Capreolus_capreolus</td><td>Euryarchaeota-unclassified-unclassified-unclassified-unclassified                                    </td><td>0</td></tr>\n",
       "\t<tr><td>Capreolus_capreolus</td><td>Euryarchaeota-Thermoplasmata-Methanomassiliicoccales-Methanomethylophilaceae-Candidatus Methanoplasma</td><td>0</td></tr>\n",
       "</tbody>\n",
       "</table>\n"
      ],
      "text/latex": [
       "A data.table: 9900 × 3\n",
       "\\begin{tabular}{lll}\n",
       " scientific\\_name & Taxonomy & perc\\_abund\\\\\n",
       " <chr> & <chr> & <dbl>\\\\\n",
       "\\hline\n",
       "\t Abramis\\_brama & Euryarchaeota-Methanobacteria-Methanobacteriales-Methanobacteriaceae-Methanobrevibacter & 0.4049754\\\\\n",
       "\t Abramis\\_brama & Euryarchaeota-Methanobacteria-Methanobacteriales-Methanobacteriaceae-unclassified       & 0.0000000\\\\\n",
       "\t ⋮ & ⋮ & ⋮\\\\\n",
       "\t Capreolus\\_capreolus & Euryarchaeota-unclassified-unclassified-unclassified-unclassified                                     & 0\\\\\n",
       "\t Capreolus\\_capreolus & Euryarchaeota-Thermoplasmata-Methanomassiliicoccales-Methanomethylophilaceae-Candidatus Methanoplasma & 0\\\\\n",
       "\\end{tabular}\n"
      ],
      "text/markdown": [
       "\n",
       "A data.table: 9900 × 3\n",
       "\n",
       "| scientific_name &lt;chr&gt; | Taxonomy &lt;chr&gt; | perc_abund &lt;dbl&gt; |\n",
       "|---|---|---|\n",
       "| Abramis_brama | Euryarchaeota-Methanobacteria-Methanobacteriales-Methanobacteriaceae-Methanobrevibacter | 0.4049754 |\n",
       "| Abramis_brama | Euryarchaeota-Methanobacteria-Methanobacteriales-Methanobacteriaceae-unclassified       | 0.0000000 |\n",
       "| ⋮ | ⋮ | ⋮ |\n",
       "| Capreolus_capreolus | Euryarchaeota-unclassified-unclassified-unclassified-unclassified                                     | 0 |\n",
       "| Capreolus_capreolus | Euryarchaeota-Thermoplasmata-Methanomassiliicoccales-Methanomethylophilaceae-Candidatus Methanoplasma | 0 |\n",
       "\n"
      ],
      "text/plain": [
       "     scientific_name    \n",
       "1    Abramis_brama      \n",
       "2    Abramis_brama      \n",
       "⋮    ⋮                  \n",
       "9899 Capreolus_capreolus\n",
       "9900 Capreolus_capreolus\n",
       "     Taxonomy                                                                                             \n",
       "1    Euryarchaeota-Methanobacteria-Methanobacteriales-Methanobacteriaceae-Methanobrevibacter              \n",
       "2    Euryarchaeota-Methanobacteria-Methanobacteriales-Methanobacteriaceae-unclassified                    \n",
       "⋮    ⋮                                                                                                    \n",
       "9899 Euryarchaeota-unclassified-unclassified-unclassified-unclassified                                    \n",
       "9900 Euryarchaeota-Thermoplasmata-Methanomassiliicoccales-Methanomethylophilaceae-Candidatus Methanoplasma\n",
       "     perc_abund\n",
       "1    0.4049754 \n",
       "2    0.0000000 \n",
       "⋮    ⋮         \n",
       "9899 0         \n",
       "9900 0         "
      ]
     },
     "metadata": {},
     "output_type": "display_data"
    }
   ],
   "source": [
    "# using mean perc abund\n",
    "otu_s = otu %>%\n",
    "    dt_mutate(Taxonomy = paste(Phylum, Class, Order, Family, Genus, sep='-')) %>%\n",
    "    dt_summarize(perc_abund = sum(perc_abund),\n",
    "                 by=c(Sample, Taxonomy, scientific_name)) %>%\n",
    "    dt_summarize(perc_abund = mean(perc_abund),\n",
    "                 by=c(scientific_name, Taxonomy))\n",
    "otu_s"
   ]
  },
  {
   "cell_type": "code",
   "execution_count": 96,
   "metadata": {
    "ExecuteTime": {
     "end_time": "2020-05-27T14:19:26.755405Z",
     "start_time": "2020-05-27T14:19:04.602Z"
    }
   },
   "outputs": [
    {
     "data": {
      "text/html": [
       "<table>\n",
       "<caption>A data.table: 9900 × 3</caption>\n",
       "<thead>\n",
       "\t<tr><th scope=col>scientific_name</th><th scope=col>Taxonomy</th><th scope=col>perc_abund</th></tr>\n",
       "\t<tr><th scope=col>&lt;chr&gt;</th><th scope=col>&lt;chr&gt;</th><th scope=col>&lt;dbl&gt;</th></tr>\n",
       "</thead>\n",
       "<tbody>\n",
       "\t<tr><td>Abramis_brama</td><td>Methanobacteria-Methanobacteriales-Methanobacteriaceae-Methanobrevibacter</td><td>0.4049754</td></tr>\n",
       "\t<tr><td>Abramis_brama</td><td>Other methanogen                                                         </td><td>0.0000000</td></tr>\n",
       "\t<tr><td>⋮</td><td>⋮</td><td>⋮</td></tr>\n",
       "\t<tr><td>Capreolus_capreolus</td><td>Other methanogen</td><td>0</td></tr>\n",
       "\t<tr><td>Capreolus_capreolus</td><td>Other methanogen</td><td>0</td></tr>\n",
       "</tbody>\n",
       "</table>\n"
      ],
      "text/latex": [
       "A data.table: 9900 × 3\n",
       "\\begin{tabular}{lll}\n",
       " scientific\\_name & Taxonomy & perc\\_abund\\\\\n",
       " <chr> & <chr> & <dbl>\\\\\n",
       "\\hline\n",
       "\t Abramis\\_brama & Methanobacteria-Methanobacteriales-Methanobacteriaceae-Methanobrevibacter & 0.4049754\\\\\n",
       "\t Abramis\\_brama & Other methanogen                                                          & 0.0000000\\\\\n",
       "\t ⋮ & ⋮ & ⋮\\\\\n",
       "\t Capreolus\\_capreolus & Other methanogen & 0\\\\\n",
       "\t Capreolus\\_capreolus & Other methanogen & 0\\\\\n",
       "\\end{tabular}\n"
      ],
      "text/markdown": [
       "\n",
       "A data.table: 9900 × 3\n",
       "\n",
       "| scientific_name &lt;chr&gt; | Taxonomy &lt;chr&gt; | perc_abund &lt;dbl&gt; |\n",
       "|---|---|---|\n",
       "| Abramis_brama | Methanobacteria-Methanobacteriales-Methanobacteriaceae-Methanobrevibacter | 0.4049754 |\n",
       "| Abramis_brama | Other methanogen                                                          | 0.0000000 |\n",
       "| ⋮ | ⋮ | ⋮ |\n",
       "| Capreolus_capreolus | Other methanogen | 0 |\n",
       "| Capreolus_capreolus | Other methanogen | 0 |\n",
       "\n"
      ],
      "text/plain": [
       "     scientific_name    \n",
       "1    Abramis_brama      \n",
       "2    Abramis_brama      \n",
       "⋮    ⋮                  \n",
       "9899 Capreolus_capreolus\n",
       "9900 Capreolus_capreolus\n",
       "     Taxonomy                                                                 \n",
       "1    Methanobacteria-Methanobacteriales-Methanobacteriaceae-Methanobrevibacter\n",
       "2    Other methanogen                                                         \n",
       "⋮    ⋮                                                                        \n",
       "9899 Other methanogen                                                         \n",
       "9900 Other methanogen                                                         \n",
       "     perc_abund\n",
       "1    0.4049754 \n",
       "2    0.0000000 \n",
       "⋮    ⋮         \n",
       "9899 0         \n",
       "9900 0         "
      ]
     },
     "metadata": {},
     "output_type": "display_data"
    }
   ],
   "source": [
    "# changing rare & non-methanogens to \"Other\"\n",
    "otu_s = otu_s %>%\n",
    "    dt_mutate(mean_perc_abund = mean(perc_abund), by=c(Taxonomy)) %>%\n",
    "    dt_mutate(Taxonomy = Taxonomy %>% as.character,\n",
    "              Taxonomy = ifelse(!grepl('Methano', Taxonomy), 'non-methanogen', Taxonomy),\n",
    "              Taxonomy = ifelse(mean_perc_abund < 1, 'Other methanogen', Taxonomy),\n",
    "              Taxonomy = ifelse(grepl('unclassified|uncultured', Taxonomy), 'Other methanogen', Taxonomy)) %>%\n",
    "    dt_select(-mean_perc_abund) %>%\n",
    "    dt_mutate(Taxonomy = gsub('^Euryarchaeota-', '', Taxonomy))\n",
    "otu_s"
   ]
  },
  {
   "cell_type": "code",
   "execution_count": 97,
   "metadata": {
    "ExecuteTime": {
     "end_time": "2020-05-27T14:19:26.786237Z",
     "start_time": "2020-05-27T14:19:04.607Z"
    }
   },
   "outputs": [
    {
     "name": "stdout",
     "output_type": "stream",
     "text": [
      "No. of unique Classes: 8 \n"
     ]
    },
    {
     "data": {
      "text/html": [
       "<ol class=list-inline>\n",
       "\t<li>'Methanobacteria-Methanobacteriales-Methanobacteriaceae-Methanobrevibacter'</li>\n",
       "\t<li>'Other methanogen'</li>\n",
       "\t<li>'Methanobacteria-Methanobacteriales-Methanobacteriaceae-Methanosphaera'</li>\n",
       "\t<li>'Methanobacteria-Methanobacteriales-Methanobacteriaceae-Methanobacterium'</li>\n",
       "\t<li>'Methanobacteria-Methanobacteriales-Methanothermobacteraceae-Methanothermobacter'</li>\n",
       "\t<li>'Methanomicrobia-Methanomicrobiales-Methanocorpusculaceae-Methanocorpusculum'</li>\n",
       "\t<li>'Thermoplasmata-Methanomassiliicoccales-Methanomethylophilaceae-Candidatus Methanomethylophilus'</li>\n",
       "\t<li>'non-methanogen'</li>\n",
       "</ol>\n"
      ],
      "text/latex": [
       "\\begin{enumerate*}\n",
       "\\item 'Methanobacteria-Methanobacteriales-Methanobacteriaceae-Methanobrevibacter'\n",
       "\\item 'Other methanogen'\n",
       "\\item 'Methanobacteria-Methanobacteriales-Methanobacteriaceae-Methanosphaera'\n",
       "\\item 'Methanobacteria-Methanobacteriales-Methanobacteriaceae-Methanobacterium'\n",
       "\\item 'Methanobacteria-Methanobacteriales-Methanothermobacteraceae-Methanothermobacter'\n",
       "\\item 'Methanomicrobia-Methanomicrobiales-Methanocorpusculaceae-Methanocorpusculum'\n",
       "\\item 'Thermoplasmata-Methanomassiliicoccales-Methanomethylophilaceae-Candidatus Methanomethylophilus'\n",
       "\\item 'non-methanogen'\n",
       "\\end{enumerate*}\n"
      ],
      "text/markdown": [
       "1. 'Methanobacteria-Methanobacteriales-Methanobacteriaceae-Methanobrevibacter'\n",
       "2. 'Other methanogen'\n",
       "3. 'Methanobacteria-Methanobacteriales-Methanobacteriaceae-Methanosphaera'\n",
       "4. 'Methanobacteria-Methanobacteriales-Methanobacteriaceae-Methanobacterium'\n",
       "5. 'Methanobacteria-Methanobacteriales-Methanothermobacteraceae-Methanothermobacter'\n",
       "6. 'Methanomicrobia-Methanomicrobiales-Methanocorpusculaceae-Methanocorpusculum'\n",
       "7. 'Thermoplasmata-Methanomassiliicoccales-Methanomethylophilaceae-Candidatus Methanomethylophilus'\n",
       "8. 'non-methanogen'\n",
       "\n",
       "\n"
      ],
      "text/plain": [
       "[1] \"Methanobacteria-Methanobacteriales-Methanobacteriaceae-Methanobrevibacter\"                     \n",
       "[2] \"Other methanogen\"                                                                              \n",
       "[3] \"Methanobacteria-Methanobacteriales-Methanobacteriaceae-Methanosphaera\"                         \n",
       "[4] \"Methanobacteria-Methanobacteriales-Methanobacteriaceae-Methanobacterium\"                       \n",
       "[5] \"Methanobacteria-Methanobacteriales-Methanothermobacteraceae-Methanothermobacter\"               \n",
       "[6] \"Methanomicrobia-Methanomicrobiales-Methanocorpusculaceae-Methanocorpusculum\"                   \n",
       "[7] \"Thermoplasmata-Methanomassiliicoccales-Methanomethylophilaceae-Candidatus Methanomethylophilus\"\n",
       "[8] \"non-methanogen\"                                                                                "
      ]
     },
     "metadata": {},
     "output_type": "display_data"
    }
   ],
   "source": [
    "# summarizing\n",
    "otu_s %>% unique_n('Classes', Taxonomy)\n",
    "otu_s %>% dt_pull(Taxonomy) %>% unique"
   ]
  },
  {
   "cell_type": "code",
   "execution_count": 98,
   "metadata": {
    "ExecuteTime": {
     "end_time": "2020-05-27T14:19:26.828554Z",
     "start_time": "2020-05-27T14:19:04.612Z"
    }
   },
   "outputs": [
    {
     "data": {
      "text/html": [
       "<table>\n",
       "<caption>A data.frame: 8 × 2</caption>\n",
       "<thead>\n",
       "\t<tr><th scope=col>Taxonomy</th><th scope=col>mean_abund</th></tr>\n",
       "\t<tr><th scope=col>&lt;chr&gt;</th><th scope=col>&lt;dbl&gt;</th></tr>\n",
       "</thead>\n",
       "<tbody>\n",
       "\t<tr><td>Methanobacteria-Methanobacteriales-Methanobacteriaceae-Methanobrevibacter                     </td><td>36.2255767</td></tr>\n",
       "\t<tr><td>Methanobacteria-Methanobacteriales-Methanothermobacteraceae-Methanothermobacter               </td><td>30.4956073</td></tr>\n",
       "\t<tr><td>Methanomicrobia-Methanomicrobiales-Methanocorpusculaceae-Methanocorpusculum                   </td><td> 6.8649619</td></tr>\n",
       "\t<tr><td>Methanobacteria-Methanobacteriales-Methanobacteriaceae-Methanosphaera                         </td><td> 5.7640196</td></tr>\n",
       "\t<tr><td>non-methanogen                                                                                </td><td> 2.3800661</td></tr>\n",
       "\t<tr><td>Methanobacteria-Methanobacteriales-Methanobacteriaceae-Methanobacterium                       </td><td> 1.4025730</td></tr>\n",
       "\t<tr><td>Thermoplasmata-Methanomassiliicoccales-Methanomethylophilaceae-Candidatus Methanomethylophilus</td><td> 1.1600391</td></tr>\n",
       "\t<tr><td>Other methanogen                                                                              </td><td> 0.1625255</td></tr>\n",
       "</tbody>\n",
       "</table>\n"
      ],
      "text/latex": [
       "A data.frame: 8 × 2\n",
       "\\begin{tabular}{ll}\n",
       " Taxonomy & mean\\_abund\\\\\n",
       " <chr> & <dbl>\\\\\n",
       "\\hline\n",
       "\t Methanobacteria-Methanobacteriales-Methanobacteriaceae-Methanobrevibacter                      & 36.2255767\\\\\n",
       "\t Methanobacteria-Methanobacteriales-Methanothermobacteraceae-Methanothermobacter                & 30.4956073\\\\\n",
       "\t Methanomicrobia-Methanomicrobiales-Methanocorpusculaceae-Methanocorpusculum                    &  6.8649619\\\\\n",
       "\t Methanobacteria-Methanobacteriales-Methanobacteriaceae-Methanosphaera                          &  5.7640196\\\\\n",
       "\t non-methanogen                                                                                 &  2.3800661\\\\\n",
       "\t Methanobacteria-Methanobacteriales-Methanobacteriaceae-Methanobacterium                        &  1.4025730\\\\\n",
       "\t Thermoplasmata-Methanomassiliicoccales-Methanomethylophilaceae-Candidatus Methanomethylophilus &  1.1600391\\\\\n",
       "\t Other methanogen                                                                               &  0.1625255\\\\\n",
       "\\end{tabular}\n"
      ],
      "text/markdown": [
       "\n",
       "A data.frame: 8 × 2\n",
       "\n",
       "| Taxonomy &lt;chr&gt; | mean_abund &lt;dbl&gt; |\n",
       "|---|---|\n",
       "| Methanobacteria-Methanobacteriales-Methanobacteriaceae-Methanobrevibacter                      | 36.2255767 |\n",
       "| Methanobacteria-Methanobacteriales-Methanothermobacteraceae-Methanothermobacter                | 30.4956073 |\n",
       "| Methanomicrobia-Methanomicrobiales-Methanocorpusculaceae-Methanocorpusculum                    |  6.8649619 |\n",
       "| Methanobacteria-Methanobacteriales-Methanobacteriaceae-Methanosphaera                          |  5.7640196 |\n",
       "| non-methanogen                                                                                 |  2.3800661 |\n",
       "| Methanobacteria-Methanobacteriales-Methanobacteriaceae-Methanobacterium                        |  1.4025730 |\n",
       "| Thermoplasmata-Methanomassiliicoccales-Methanomethylophilaceae-Candidatus Methanomethylophilus |  1.1600391 |\n",
       "| Other methanogen                                                                               |  0.1625255 |\n",
       "\n"
      ],
      "text/plain": [
       "  Taxonomy                                                                                      \n",
       "1 Methanobacteria-Methanobacteriales-Methanobacteriaceae-Methanobrevibacter                     \n",
       "2 Methanobacteria-Methanobacteriales-Methanothermobacteraceae-Methanothermobacter               \n",
       "3 Methanomicrobia-Methanomicrobiales-Methanocorpusculaceae-Methanocorpusculum                   \n",
       "4 Methanobacteria-Methanobacteriales-Methanobacteriaceae-Methanosphaera                         \n",
       "5 non-methanogen                                                                                \n",
       "6 Methanobacteria-Methanobacteriales-Methanobacteriaceae-Methanobacterium                       \n",
       "7 Thermoplasmata-Methanomassiliicoccales-Methanomethylophilaceae-Candidatus Methanomethylophilus\n",
       "8 Other methanogen                                                                              \n",
       "  mean_abund\n",
       "1 36.2255767\n",
       "2 30.4956073\n",
       "3  6.8649619\n",
       "4  5.7640196\n",
       "5  2.3800661\n",
       "6  1.4025730\n",
       "7  1.1600391\n",
       "8  0.1625255"
      ]
     },
     "metadata": {},
     "output_type": "display_data"
    }
   ],
   "source": [
    "# ordering by overall abundance\n",
    "x = otu_s %>%\n",
    "    dt_summarize(mean_abund = mean(perc_abund), by=c(Taxonomy)) %>%\n",
    "    arrange(-mean_abund)\n",
    "df.dims(10)\n",
    "x\n",
    "df.dims()"
   ]
  },
  {
   "cell_type": "code",
   "execution_count": 99,
   "metadata": {
    "ExecuteTime": {
     "end_time": "2020-05-27T14:19:26.853954Z",
     "start_time": "2020-05-27T14:19:04.617Z"
    }
   },
   "outputs": [
    {
     "data": {
      "text/html": [
       "<ol class=list-inline>\n",
       "\t<li>'scientific_name'</li>\n",
       "\t<li>'Methanobacteria-Methanobacteriales-Methanobacteriaceae-Methanobrevibacter'</li>\n",
       "\t<li>'Methanobacteria-Methanobacteriales-Methanothermobacteraceae-Methanothermobacter'</li>\n",
       "\t<li>'Methanomicrobia-Methanomicrobiales-Methanocorpusculaceae-Methanocorpusculum'</li>\n",
       "\t<li>'Methanobacteria-Methanobacteriales-Methanobacteriaceae-Methanosphaera'</li>\n",
       "\t<li>'non-methanogen'</li>\n",
       "\t<li>'Methanobacteria-Methanobacteriales-Methanobacteriaceae-Methanobacterium'</li>\n",
       "\t<li>'Thermoplasmata-Methanomassiliicoccales-Methanomethylophilaceae-Candidatus Methanomethylophilus'</li>\n",
       "\t<li>'Other methanogen'</li>\n",
       "</ol>\n"
      ],
      "text/latex": [
       "\\begin{enumerate*}\n",
       "\\item 'scientific\\_name'\n",
       "\\item 'Methanobacteria-Methanobacteriales-Methanobacteriaceae-Methanobrevibacter'\n",
       "\\item 'Methanobacteria-Methanobacteriales-Methanothermobacteraceae-Methanothermobacter'\n",
       "\\item 'Methanomicrobia-Methanomicrobiales-Methanocorpusculaceae-Methanocorpusculum'\n",
       "\\item 'Methanobacteria-Methanobacteriales-Methanobacteriaceae-Methanosphaera'\n",
       "\\item 'non-methanogen'\n",
       "\\item 'Methanobacteria-Methanobacteriales-Methanobacteriaceae-Methanobacterium'\n",
       "\\item 'Thermoplasmata-Methanomassiliicoccales-Methanomethylophilaceae-Candidatus Methanomethylophilus'\n",
       "\\item 'Other methanogen'\n",
       "\\end{enumerate*}\n"
      ],
      "text/markdown": [
       "1. 'scientific_name'\n",
       "2. 'Methanobacteria-Methanobacteriales-Methanobacteriaceae-Methanobrevibacter'\n",
       "3. 'Methanobacteria-Methanobacteriales-Methanothermobacteraceae-Methanothermobacter'\n",
       "4. 'Methanomicrobia-Methanomicrobiales-Methanocorpusculaceae-Methanocorpusculum'\n",
       "5. 'Methanobacteria-Methanobacteriales-Methanobacteriaceae-Methanosphaera'\n",
       "6. 'non-methanogen'\n",
       "7. 'Methanobacteria-Methanobacteriales-Methanobacteriaceae-Methanobacterium'\n",
       "8. 'Thermoplasmata-Methanomassiliicoccales-Methanomethylophilaceae-Candidatus Methanomethylophilus'\n",
       "9. 'Other methanogen'\n",
       "\n",
       "\n"
      ],
      "text/plain": [
       "[1] \"scientific_name\"                                                                               \n",
       "[2] \"Methanobacteria-Methanobacteriales-Methanobacteriaceae-Methanobrevibacter\"                     \n",
       "[3] \"Methanobacteria-Methanobacteriales-Methanothermobacteraceae-Methanothermobacter\"               \n",
       "[4] \"Methanomicrobia-Methanomicrobiales-Methanocorpusculaceae-Methanocorpusculum\"                   \n",
       "[5] \"Methanobacteria-Methanobacteriales-Methanobacteriaceae-Methanosphaera\"                         \n",
       "[6] \"non-methanogen\"                                                                                \n",
       "[7] \"Methanobacteria-Methanobacteriales-Methanobacteriaceae-Methanobacterium\"                       \n",
       "[8] \"Thermoplasmata-Methanomassiliicoccales-Methanomethylophilaceae-Candidatus Methanomethylophilus\"\n",
       "[9] \"Other methanogen\"                                                                              "
      ]
     },
     "metadata": {},
     "output_type": "display_data"
    }
   ],
   "source": [
    "# sorting\n",
    "phy_by_abund = x$Taxonomy\n",
    "phy_by_abund = c('scientific_name', phy_by_abund)\n",
    "phy_by_abund"
   ]
  },
  {
   "cell_type": "code",
   "execution_count": 100,
   "metadata": {
    "ExecuteTime": {
     "end_time": "2020-05-27T14:19:26.932477Z",
     "start_time": "2020-05-27T14:19:04.623Z"
    }
   },
   "outputs": [
    {
     "data": {
      "text/html": [
       "<table>\n",
       "<caption>A data.frame: 110 × 8</caption>\n",
       "<thead>\n",
       "\t<tr><th></th><th scope=col>Methanobacteria-Methanobacteriales-Methanobacteriaceae-Methanobrevibacter</th><th scope=col>Methanobacteria-Methanobacteriales-Methanothermobacteraceae-Methanothermobacter</th><th scope=col>Methanomicrobia-Methanomicrobiales-Methanocorpusculaceae-Methanocorpusculum</th><th scope=col>Methanobacteria-Methanobacteriales-Methanobacteriaceae-Methanosphaera</th><th scope=col>non-methanogen</th><th scope=col>Methanobacteria-Methanobacteriales-Methanobacteriaceae-Methanobacterium</th><th scope=col>Thermoplasmata-Methanomassiliicoccales-Methanomethylophilaceae-Candidatus Methanomethylophilus</th><th scope=col>Other methanogen</th></tr>\n",
       "\t<tr><th></th><th scope=col>&lt;dbl&gt;</th><th scope=col>&lt;dbl&gt;</th><th scope=col>&lt;dbl&gt;</th><th scope=col>&lt;dbl&gt;</th><th scope=col>&lt;dbl&gt;</th><th scope=col>&lt;dbl&gt;</th><th scope=col>&lt;dbl&gt;</th><th scope=col>&lt;dbl&gt;</th></tr>\n",
       "</thead>\n",
       "<tbody>\n",
       "\t<tr><th scope=row>Abramis_brama</th><td> 0.4049754</td><td>0.0000000</td><td>1.880243</td><td>0.000000</td><td>0.00000000</td><td>75.18079</td><td>0</td><td>22.53399</td></tr>\n",
       "\t<tr><th scope=row>Aepyceros_melampus</th><td>91.8258150</td><td>0.4849545</td><td>1.720019</td><td>5.908771</td><td>0.06044003</td><td> 0.00000</td><td>0</td><td> 0.00000</td></tr>\n",
       "\t<tr><th scope=row>⋮</th><td>⋮</td><td>⋮</td><td>⋮</td><td>⋮</td><td>⋮</td><td>⋮</td><td>⋮</td><td>⋮</td></tr>\n",
       "\t<tr><th scope=row>Vulpes_vulpes</th><td>4.580153</td><td>94.40204</td><td>0.5089059</td><td>0.5089059</td><td> 0.00000</td><td>0</td><td>0</td><td>0.000000</td></tr>\n",
       "\t<tr><th scope=row>Zamenis_longissimus</th><td>2.547771</td><td>25.00000</td><td>0.0000000</td><td>0.0000000</td><td>68.15287</td><td>0</td><td>0</td><td>4.299363</td></tr>\n",
       "</tbody>\n",
       "</table>\n"
      ],
      "text/latex": [
       "A data.frame: 110 × 8\n",
       "\\begin{tabular}{r|llllllll}\n",
       "  & Methanobacteria-Methanobacteriales-Methanobacteriaceae-Methanobrevibacter & Methanobacteria-Methanobacteriales-Methanothermobacteraceae-Methanothermobacter & Methanomicrobia-Methanomicrobiales-Methanocorpusculaceae-Methanocorpusculum & Methanobacteria-Methanobacteriales-Methanobacteriaceae-Methanosphaera & non-methanogen & Methanobacteria-Methanobacteriales-Methanobacteriaceae-Methanobacterium & Thermoplasmata-Methanomassiliicoccales-Methanomethylophilaceae-Candidatus Methanomethylophilus & Other methanogen\\\\\n",
       "  & <dbl> & <dbl> & <dbl> & <dbl> & <dbl> & <dbl> & <dbl> & <dbl>\\\\\n",
       "\\hline\n",
       "\tAbramis\\_brama &  0.4049754 & 0.0000000 & 1.880243 & 0.000000 & 0.00000000 & 75.18079 & 0 & 22.53399\\\\\n",
       "\tAepyceros\\_melampus & 91.8258150 & 0.4849545 & 1.720019 & 5.908771 & 0.06044003 &  0.00000 & 0 &  0.00000\\\\\n",
       "\t⋮ & ⋮ & ⋮ & ⋮ & ⋮ & ⋮ & ⋮ & ⋮ & ⋮\\\\\n",
       "\tVulpes\\_vulpes & 4.580153 & 94.40204 & 0.5089059 & 0.5089059 &  0.00000 & 0 & 0 & 0.000000\\\\\n",
       "\tZamenis\\_longissimus & 2.547771 & 25.00000 & 0.0000000 & 0.0000000 & 68.15287 & 0 & 0 & 4.299363\\\\\n",
       "\\end{tabular}\n"
      ],
      "text/markdown": [
       "\n",
       "A data.frame: 110 × 8\n",
       "\n",
       "| <!--/--> | Methanobacteria-Methanobacteriales-Methanobacteriaceae-Methanobrevibacter &lt;dbl&gt; | Methanobacteria-Methanobacteriales-Methanothermobacteraceae-Methanothermobacter &lt;dbl&gt; | Methanomicrobia-Methanomicrobiales-Methanocorpusculaceae-Methanocorpusculum &lt;dbl&gt; | Methanobacteria-Methanobacteriales-Methanobacteriaceae-Methanosphaera &lt;dbl&gt; | non-methanogen &lt;dbl&gt; | Methanobacteria-Methanobacteriales-Methanobacteriaceae-Methanobacterium &lt;dbl&gt; | Thermoplasmata-Methanomassiliicoccales-Methanomethylophilaceae-Candidatus Methanomethylophilus &lt;dbl&gt; | Other methanogen &lt;dbl&gt; |\n",
       "|---|---|---|---|---|---|---|---|---|\n",
       "| Abramis_brama |  0.4049754 | 0.0000000 | 1.880243 | 0.000000 | 0.00000000 | 75.18079 | 0 | 22.53399 |\n",
       "| Aepyceros_melampus | 91.8258150 | 0.4849545 | 1.720019 | 5.908771 | 0.06044003 |  0.00000 | 0 |  0.00000 |\n",
       "| ⋮ | ⋮ | ⋮ | ⋮ | ⋮ | ⋮ | ⋮ | ⋮ | ⋮ |\n",
       "| Vulpes_vulpes | 4.580153 | 94.40204 | 0.5089059 | 0.5089059 |  0.00000 | 0 | 0 | 0.000000 |\n",
       "| Zamenis_longissimus | 2.547771 | 25.00000 | 0.0000000 | 0.0000000 | 68.15287 | 0 | 0 | 4.299363 |\n",
       "\n"
      ],
      "text/plain": [
       "                    Methanobacteria-Methanobacteriales-Methanobacteriaceae-Methanobrevibacter\n",
       "Abramis_brama        0.4049754                                                               \n",
       "Aepyceros_melampus  91.8258150                                                               \n",
       "⋮                   ⋮                                                                        \n",
       "Vulpes_vulpes       4.580153                                                                 \n",
       "Zamenis_longissimus 2.547771                                                                 \n",
       "                    Methanobacteria-Methanobacteriales-Methanothermobacteraceae-Methanothermobacter\n",
       "Abramis_brama       0.0000000                                                                      \n",
       "Aepyceros_melampus  0.4849545                                                                      \n",
       "⋮                   ⋮                                                                              \n",
       "Vulpes_vulpes       94.40204                                                                       \n",
       "Zamenis_longissimus 25.00000                                                                       \n",
       "                    Methanomicrobia-Methanomicrobiales-Methanocorpusculaceae-Methanocorpusculum\n",
       "Abramis_brama       1.880243                                                                   \n",
       "Aepyceros_melampus  1.720019                                                                   \n",
       "⋮                   ⋮                                                                          \n",
       "Vulpes_vulpes       0.5089059                                                                  \n",
       "Zamenis_longissimus 0.0000000                                                                  \n",
       "                    Methanobacteria-Methanobacteriales-Methanobacteriaceae-Methanosphaera\n",
       "Abramis_brama       0.000000                                                             \n",
       "Aepyceros_melampus  5.908771                                                             \n",
       "⋮                   ⋮                                                                    \n",
       "Vulpes_vulpes       0.5089059                                                            \n",
       "Zamenis_longissimus 0.0000000                                                            \n",
       "                    non-methanogen\n",
       "Abramis_brama       0.00000000    \n",
       "Aepyceros_melampus  0.06044003    \n",
       "⋮                   ⋮             \n",
       "Vulpes_vulpes        0.00000      \n",
       "Zamenis_longissimus 68.15287      \n",
       "                    Methanobacteria-Methanobacteriales-Methanobacteriaceae-Methanobacterium\n",
       "Abramis_brama       75.18079                                                               \n",
       "Aepyceros_melampus   0.00000                                                               \n",
       "⋮                   ⋮                                                                      \n",
       "Vulpes_vulpes       0                                                                      \n",
       "Zamenis_longissimus 0                                                                      \n",
       "                    Thermoplasmata-Methanomassiliicoccales-Methanomethylophilaceae-Candidatus Methanomethylophilus\n",
       "Abramis_brama       0                                                                                             \n",
       "Aepyceros_melampus  0                                                                                             \n",
       "⋮                   ⋮                                                                                             \n",
       "Vulpes_vulpes       0                                                                                             \n",
       "Zamenis_longissimus 0                                                                                             \n",
       "                    Other methanogen\n",
       "Abramis_brama       22.53399        \n",
       "Aepyceros_melampus   0.00000        \n",
       "⋮                   ⋮               \n",
       "Vulpes_vulpes       0.000000        \n",
       "Zamenis_longissimus 4.299363        "
      ]
     },
     "metadata": {},
     "output_type": "display_data"
    }
   ],
   "source": [
    "# creating heatmap \n",
    "x = otu_s %>%\n",
    "    dt_pivot_wider(names_from=Taxonomy, values_from=perc_abund, values_fn=sum) %>%\n",
    "    dt_select({{phy_by_abund}}) %>%\n",
    "    as.data.frame \n",
    "rownames(x) = x$scientific_name\n",
    "x$scientific_name = NULL\n",
    "x"
   ]
  },
  {
   "cell_type": "code",
   "execution_count": 101,
   "metadata": {
    "ExecuteTime": {
     "end_time": "2020-05-27T14:19:26.970698Z",
     "start_time": "2020-05-27T14:19:04.629Z"
    }
   },
   "outputs": [
    {
     "name": "stderr",
     "output_type": "stream",
     "text": [
      "Warning message in if (color_scheme == \"color\") {:\n",
      "“the condition has length > 1 and only the first element will be used”\n"
     ]
    },
    {
     "name": "stdout",
     "output_type": "stream",
     "text": [
      "File written: /ebio/abt3_projects/Georg_animal_feces/data/16S_arch/MiSeq-Runs-116-122-126-189-190/LLA/dataset_explore//SpecD_meth-genus-abund_htmp.txt \n"
     ]
    }
   ],
   "source": [
    "# writing itol input file\n",
    "F = file.path(work_dir, 'SpecD_meth-genus-abund_htmp.txt')\n",
    "itol_heatmap(x, 'Meth_genus_perc_abund', F)"
   ]
  },
  {
   "cell_type": "markdown",
   "metadata": {},
   "source": [
    "### Alpha diversity"
   ]
  },
  {
   "cell_type": "code",
   "execution_count": 102,
   "metadata": {
    "ExecuteTime": {
     "end_time": "2020-05-27T14:19:27.029682Z",
     "start_time": "2020-05-27T14:19:04.636Z"
    }
   },
   "outputs": [
    {
     "data": {
      "text/html": [
       "<table>\n",
       "<caption>A data.table: 185 × 6</caption>\n",
       "<thead>\n",
       "\t<tr><th scope=col>SampleID</th><th scope=col>scientific_name</th><th scope=col>class</th><th scope=col>order</th><th scope=col>family</th><th scope=col>genus</th></tr>\n",
       "\t<tr><th scope=col>&lt;chr&gt;</th><th scope=col>&lt;chr&gt;</th><th scope=col>&lt;chr&gt;</th><th scope=col>&lt;chr&gt;</th><th scope=col>&lt;chr&gt;</th><th scope=col>&lt;chr&gt;</th></tr>\n",
       "</thead>\n",
       "<tbody>\n",
       "\t<tr><td>F14_Common_Bream</td><td>Abramis_brama </td><td>Actinopterygii</td><td>Cypriniformes</td><td>Cyprinidae</td><td>Abramis</td></tr>\n",
       "\t<tr><td>F35_Red_Deer    </td><td>Cervus_elaphus</td><td>Mammalia      </td><td>Artiodactyla </td><td>Cervidae  </td><td>Cervus </td></tr>\n",
       "\t<tr><td>⋮</td><td>⋮</td><td>⋮</td><td>⋮</td><td>⋮</td><td>⋮</td></tr>\n",
       "\t<tr><td>X431_Quagga     </td><td>Equus_quagga       </td><td>Mammalia</td><td>Perissodactyla</td><td>Equidae </td><td>Equus    </td></tr>\n",
       "\t<tr><td>X67_European_Roe</td><td>Capreolus_capreolus</td><td>Mammalia</td><td>Artiodactyla  </td><td>Cervidae</td><td>Capreolus</td></tr>\n",
       "</tbody>\n",
       "</table>\n"
      ],
      "text/latex": [
       "A data.table: 185 × 6\n",
       "\\begin{tabular}{llllll}\n",
       " SampleID & scientific\\_name & class & order & family & genus\\\\\n",
       " <chr> & <chr> & <chr> & <chr> & <chr> & <chr>\\\\\n",
       "\\hline\n",
       "\t F14\\_Common\\_Bream & Abramis\\_brama  & Actinopterygii & Cypriniformes & Cyprinidae & Abramis\\\\\n",
       "\t F35\\_Red\\_Deer     & Cervus\\_elaphus & Mammalia       & Artiodactyla  & Cervidae   & Cervus \\\\\n",
       "\t ⋮ & ⋮ & ⋮ & ⋮ & ⋮ & ⋮\\\\\n",
       "\t X431\\_Quagga      & Equus\\_quagga        & Mammalia & Perissodactyla & Equidae  & Equus    \\\\\n",
       "\t X67\\_European\\_Roe & Capreolus\\_capreolus & Mammalia & Artiodactyla   & Cervidae & Capreolus\\\\\n",
       "\\end{tabular}\n"
      ],
      "text/markdown": [
       "\n",
       "A data.table: 185 × 6\n",
       "\n",
       "| SampleID &lt;chr&gt; | scientific_name &lt;chr&gt; | class &lt;chr&gt; | order &lt;chr&gt; | family &lt;chr&gt; | genus &lt;chr&gt; |\n",
       "|---|---|---|---|---|---|\n",
       "| F14_Common_Bream | Abramis_brama  | Actinopterygii | Cypriniformes | Cyprinidae | Abramis |\n",
       "| F35_Red_Deer     | Cervus_elaphus | Mammalia       | Artiodactyla  | Cervidae   | Cervus  |\n",
       "| ⋮ | ⋮ | ⋮ | ⋮ | ⋮ | ⋮ |\n",
       "| X431_Quagga      | Equus_quagga        | Mammalia | Perissodactyla | Equidae  | Equus     |\n",
       "| X67_European_Roe | Capreolus_capreolus | Mammalia | Artiodactyla   | Cervidae | Capreolus |\n",
       "\n"
      ],
      "text/plain": [
       "    SampleID         scientific_name     class          order         \n",
       "1   F14_Common_Bream Abramis_brama       Actinopterygii Cypriniformes \n",
       "2   F35_Red_Deer     Cervus_elaphus      Mammalia       Artiodactyla  \n",
       "⋮   ⋮                ⋮                   ⋮              ⋮             \n",
       "184 X431_Quagga      Equus_quagga        Mammalia       Perissodactyla\n",
       "185 X67_European_Roe Capreolus_capreolus Mammalia       Artiodactyla  \n",
       "    family     genus    \n",
       "1   Cyprinidae Abramis  \n",
       "2   Cervidae   Cervus   \n",
       "⋮   ⋮          ⋮        \n",
       "184 Equidae    Equus    \n",
       "185 Cervidae   Capreolus"
      ]
     },
     "metadata": {},
     "output_type": "display_data"
    }
   ],
   "source": [
    "# IndD metadata\n",
    "metadata = physeq_arch_IndD %>%\n",
    "    phyloseq2df(sample_data) %>%\n",
    "    dt_select(SampleID, scientific_name, class, order, family, genus)\n",
    "metadata"
   ]
  },
  {
   "cell_type": "markdown",
   "metadata": {},
   "source": [
    "#### Shannon"
   ]
  },
  {
   "cell_type": "code",
   "execution_count": 103,
   "metadata": {
    "ExecuteTime": {
     "end_time": "2020-05-27T14:19:27.143314Z",
     "start_time": "2020-05-27T14:19:04.643Z"
    }
   },
   "outputs": [
    {
     "data": {
      "text/html": [
       "<table>\n",
       "<caption>A data.frame: 110 × 5</caption>\n",
       "<thead>\n",
       "\t<tr><th></th><th scope=col>minimum</th><th scope=col>q1</th><th scope=col>median</th><th scope=col>q3</th><th scope=col>maximum</th></tr>\n",
       "\t<tr><th></th><th scope=col>&lt;dbl&gt;</th><th scope=col>&lt;dbl&gt;</th><th scope=col>&lt;dbl&gt;</th><th scope=col>&lt;dbl&gt;</th><th scope=col>&lt;dbl&gt;</th></tr>\n",
       "</thead>\n",
       "<tbody>\n",
       "\t<tr><th scope=row>Abramis_brama</th><td>3.154330</td><td>3.154330</td><td>3.154330</td><td>3.154330</td><td>3.154330</td></tr>\n",
       "\t<tr><th scope=row>Cervus_elaphus</th><td>2.327413</td><td>3.710466</td><td>3.991075</td><td>4.187366</td><td>4.524224</td></tr>\n",
       "\t<tr><th scope=row>⋮</th><td>⋮</td><td>⋮</td><td>⋮</td><td>⋮</td><td>⋮</td></tr>\n",
       "\t<tr><th scope=row>Crocodylus_niloticus</th><td>4.045976</td><td>4.045976</td><td>4.045976</td><td>4.045976</td><td>4.045976</td></tr>\n",
       "\t<tr><th scope=row>Capreolus_capreolus</th><td>1.847817</td><td>1.847817</td><td>1.847817</td><td>1.847817</td><td>1.847817</td></tr>\n",
       "</tbody>\n",
       "</table>\n"
      ],
      "text/latex": [
       "A data.frame: 110 × 5\n",
       "\\begin{tabular}{r|lllll}\n",
       "  & minimum & q1 & median & q3 & maximum\\\\\n",
       "  & <dbl> & <dbl> & <dbl> & <dbl> & <dbl>\\\\\n",
       "\\hline\n",
       "\tAbramis\\_brama & 3.154330 & 3.154330 & 3.154330 & 3.154330 & 3.154330\\\\\n",
       "\tCervus\\_elaphus & 2.327413 & 3.710466 & 3.991075 & 4.187366 & 4.524224\\\\\n",
       "\t⋮ & ⋮ & ⋮ & ⋮ & ⋮ & ⋮\\\\\n",
       "\tCrocodylus\\_niloticus & 4.045976 & 4.045976 & 4.045976 & 4.045976 & 4.045976\\\\\n",
       "\tCapreolus\\_capreolus & 1.847817 & 1.847817 & 1.847817 & 1.847817 & 1.847817\\\\\n",
       "\\end{tabular}\n"
      ],
      "text/markdown": [
       "\n",
       "A data.frame: 110 × 5\n",
       "\n",
       "| <!--/--> | minimum &lt;dbl&gt; | q1 &lt;dbl&gt; | median &lt;dbl&gt; | q3 &lt;dbl&gt; | maximum &lt;dbl&gt; |\n",
       "|---|---|---|---|---|---|\n",
       "| Abramis_brama | 3.154330 | 3.154330 | 3.154330 | 3.154330 | 3.154330 |\n",
       "| Cervus_elaphus | 2.327413 | 3.710466 | 3.991075 | 4.187366 | 4.524224 |\n",
       "| ⋮ | ⋮ | ⋮ | ⋮ | ⋮ | ⋮ |\n",
       "| Crocodylus_niloticus | 4.045976 | 4.045976 | 4.045976 | 4.045976 | 4.045976 |\n",
       "| Capreolus_capreolus | 1.847817 | 1.847817 | 1.847817 | 1.847817 | 1.847817 |\n",
       "\n"
      ],
      "text/plain": [
       "                     minimum  q1       median   q3       maximum \n",
       "Abramis_brama        3.154330 3.154330 3.154330 3.154330 3.154330\n",
       "Cervus_elaphus       2.327413 3.710466 3.991075 4.187366 4.524224\n",
       "⋮                    ⋮        ⋮        ⋮        ⋮        ⋮       \n",
       "Crocodylus_niloticus 4.045976 4.045976 4.045976 4.045976 4.045976\n",
       "Capreolus_capreolus  1.847817 1.847817 1.847817 1.847817 1.847817"
      ]
     },
     "metadata": {},
     "output_type": "display_data"
    }
   ],
   "source": [
    "# summarize per species\n",
    "x = alpha_div %>%\n",
    "    dt_select(SampleID, shannon) %>%\n",
    "    dt_inner_join(metadata, c('SampleID')) %>%\n",
    "    dt_summarize(minimum = min(shannon),\n",
    "                 q1 = quantile(shannon, 0.25),\n",
    "                 median = median(shannon),\n",
    "                 q3 = quantile(shannon, 0.75),\n",
    "                 maximum = max(shannon),\n",
    "                 by=c(scientific_name)) %>%\n",
    "    as.data.frame\n",
    "rownames(x) = x$scientific_name\n",
    "x$scientific_name = NULL\n",
    "x"
   ]
  },
  {
   "cell_type": "code",
   "execution_count": 104,
   "metadata": {
    "ExecuteTime": {
     "end_time": "2020-05-27T14:19:27.166223Z",
     "start_time": "2020-05-27T14:19:04.648Z"
    }
   },
   "outputs": [
    {
     "name": "stdout",
     "output_type": "stream",
     "text": [
      "File written: /ebio/abt3_projects/Georg_animal_feces/data/16S_arch/MiSeq-Runs-116-122-126-189-190/LLA/dataset_explore//SpecD_shannon_boxplot.txt \n"
     ]
    }
   ],
   "source": [
    "# writing itol input file\n",
    "F = file.path(work_dir, 'SpecD_shannon_boxplot.txt')\n",
    "itol_boxplot(x, 'shannon_index', F)"
   ]
  },
  {
   "cell_type": "markdown",
   "metadata": {},
   "source": [
    "#### Faiths PD"
   ]
  },
  {
   "cell_type": "code",
   "execution_count": 105,
   "metadata": {
    "ExecuteTime": {
     "end_time": "2020-05-27T14:19:27.256831Z",
     "start_time": "2020-05-27T14:19:04.655Z"
    }
   },
   "outputs": [
    {
     "data": {
      "text/html": [
       "<table>\n",
       "<caption>A data.frame: 110 × 5</caption>\n",
       "<thead>\n",
       "\t<tr><th></th><th scope=col>minimum</th><th scope=col>q1</th><th scope=col>median</th><th scope=col>q3</th><th scope=col>maximum</th></tr>\n",
       "\t<tr><th></th><th scope=col>&lt;dbl&gt;</th><th scope=col>&lt;dbl&gt;</th><th scope=col>&lt;dbl&gt;</th><th scope=col>&lt;dbl&gt;</th><th scope=col>&lt;dbl&gt;</th></tr>\n",
       "</thead>\n",
       "<tbody>\n",
       "\t<tr><th scope=row>Abramis_brama</th><td>3.862071</td><td>3.862071</td><td>3.862071</td><td>3.862071</td><td>3.862071</td></tr>\n",
       "\t<tr><th scope=row>Cervus_elaphus</th><td>1.254370</td><td>2.584689</td><td>3.095995</td><td>3.477889</td><td>4.396595</td></tr>\n",
       "\t<tr><th scope=row>⋮</th><td>⋮</td><td>⋮</td><td>⋮</td><td>⋮</td><td>⋮</td></tr>\n",
       "\t<tr><th scope=row>Crocodylus_niloticus</th><td>4.438056</td><td>4.438056</td><td>4.438056</td><td>4.438056</td><td>4.438056</td></tr>\n",
       "\t<tr><th scope=row>Capreolus_capreolus</th><td>2.200689</td><td>2.200689</td><td>2.200689</td><td>2.200689</td><td>2.200689</td></tr>\n",
       "</tbody>\n",
       "</table>\n"
      ],
      "text/latex": [
       "A data.frame: 110 × 5\n",
       "\\begin{tabular}{r|lllll}\n",
       "  & minimum & q1 & median & q3 & maximum\\\\\n",
       "  & <dbl> & <dbl> & <dbl> & <dbl> & <dbl>\\\\\n",
       "\\hline\n",
       "\tAbramis\\_brama & 3.862071 & 3.862071 & 3.862071 & 3.862071 & 3.862071\\\\\n",
       "\tCervus\\_elaphus & 1.254370 & 2.584689 & 3.095995 & 3.477889 & 4.396595\\\\\n",
       "\t⋮ & ⋮ & ⋮ & ⋮ & ⋮ & ⋮\\\\\n",
       "\tCrocodylus\\_niloticus & 4.438056 & 4.438056 & 4.438056 & 4.438056 & 4.438056\\\\\n",
       "\tCapreolus\\_capreolus & 2.200689 & 2.200689 & 2.200689 & 2.200689 & 2.200689\\\\\n",
       "\\end{tabular}\n"
      ],
      "text/markdown": [
       "\n",
       "A data.frame: 110 × 5\n",
       "\n",
       "| <!--/--> | minimum &lt;dbl&gt; | q1 &lt;dbl&gt; | median &lt;dbl&gt; | q3 &lt;dbl&gt; | maximum &lt;dbl&gt; |\n",
       "|---|---|---|---|---|---|\n",
       "| Abramis_brama | 3.862071 | 3.862071 | 3.862071 | 3.862071 | 3.862071 |\n",
       "| Cervus_elaphus | 1.254370 | 2.584689 | 3.095995 | 3.477889 | 4.396595 |\n",
       "| ⋮ | ⋮ | ⋮ | ⋮ | ⋮ | ⋮ |\n",
       "| Crocodylus_niloticus | 4.438056 | 4.438056 | 4.438056 | 4.438056 | 4.438056 |\n",
       "| Capreolus_capreolus | 2.200689 | 2.200689 | 2.200689 | 2.200689 | 2.200689 |\n",
       "\n"
      ],
      "text/plain": [
       "                     minimum  q1       median   q3       maximum \n",
       "Abramis_brama        3.862071 3.862071 3.862071 3.862071 3.862071\n",
       "Cervus_elaphus       1.254370 2.584689 3.095995 3.477889 4.396595\n",
       "⋮                    ⋮        ⋮        ⋮        ⋮        ⋮       \n",
       "Crocodylus_niloticus 4.438056 4.438056 4.438056 4.438056 4.438056\n",
       "Capreolus_capreolus  2.200689 2.200689 2.200689 2.200689 2.200689"
      ]
     },
     "metadata": {},
     "output_type": "display_data"
    }
   ],
   "source": [
    "# summarize per species\n",
    "x = alpha_div %>%\n",
    "    dt_select(SampleID, faith_pd) %>%\n",
    "    dt_inner_join(metadata, c('SampleID')) %>%\n",
    "    dt_summarize(minimum = min(faith_pd),\n",
    "                 q1 = quantile(faith_pd, 0.25),\n",
    "                 median = median(faith_pd),\n",
    "                 q3 = quantile(faith_pd, 0.75),\n",
    "                 maximum = max(faith_pd),\n",
    "                 by=c(scientific_name)) %>%\n",
    "    as.data.frame\n",
    "rownames(x) = x$scientific_name\n",
    "x$scientific_name = NULL\n",
    "x"
   ]
  },
  {
   "cell_type": "code",
   "execution_count": 106,
   "metadata": {
    "ExecuteTime": {
     "end_time": "2020-05-27T14:19:27.281685Z",
     "start_time": "2020-05-27T14:19:04.660Z"
    }
   },
   "outputs": [
    {
     "name": "stdout",
     "output_type": "stream",
     "text": [
      "File written: /ebio/abt3_projects/Georg_animal_feces/data/16S_arch/MiSeq-Runs-116-122-126-189-190/LLA/dataset_explore//SpecD_faithPD_boxplot.txt \n"
     ]
    }
   ],
   "source": [
    "# writing itol input file\n",
    "F = file.path(work_dir, 'SpecD_faithPD_boxplot.txt')\n",
    "itol_boxplot(x, 'faithPD', F)"
   ]
  },
  {
   "cell_type": "markdown",
   "metadata": {},
   "source": [
    "## Seq general"
   ]
  },
  {
   "cell_type": "markdown",
   "metadata": {},
   "source": [
    "### Counts per sample"
   ]
  },
  {
   "cell_type": "code",
   "execution_count": 107,
   "metadata": {
    "ExecuteTime": {
     "end_time": "2020-05-27T14:19:30.399855Z",
     "start_time": "2020-05-27T14:19:04.668Z"
    }
   },
   "outputs": [
    {
     "data": {
      "text/html": [
       "<table>\n",
       "<caption>A data.table: 349835 × 98</caption>\n",
       "<thead>\n",
       "\t<tr><th scope=col>OTU</th><th scope=col>Sample</th><th scope=col>Count</th><th scope=col>Domain</th><th scope=col>Phylum</th><th scope=col>Class</th><th scope=col>Order</th><th scope=col>Family</th><th scope=col>Genus</th><th scope=col>Species</th><th scope=col>⋯</th><th scope=col>CH4_kJ.d_mean</th><th scope=col>CH4_kJ.d_sd</th><th scope=col>i.CH4_L.d_mean</th><th scope=col>i.CH4_L.d_sd</th><th scope=col>i.CH4_L.kgBM_mean</th><th scope=col>i.CH4_L.kgBM_sd</th><th scope=col>i.CH4_g.d_mean</th><th scope=col>i.CH4_g.d_sd</th><th scope=col>i.CH4_kJ.d_mean</th><th scope=col>i.CH4_kJ.d_sd</th></tr>\n",
       "\t<tr><th scope=col>&lt;chr&gt;</th><th scope=col>&lt;chr&gt;</th><th scope=col>&lt;dbl&gt;</th><th scope=col>&lt;chr&gt;</th><th scope=col>&lt;chr&gt;</th><th scope=col>&lt;chr&gt;</th><th scope=col>&lt;chr&gt;</th><th scope=col>&lt;chr&gt;</th><th scope=col>&lt;chr&gt;</th><th scope=col>&lt;chr&gt;</th><th scope=col>⋯</th><th scope=col>&lt;dbl&gt;</th><th scope=col>&lt;dbl&gt;</th><th scope=col>&lt;dbl&gt;</th><th scope=col>&lt;dbl&gt;</th><th scope=col>&lt;dbl&gt;</th><th scope=col>&lt;dbl&gt;</th><th scope=col>&lt;dbl&gt;</th><th scope=col>&lt;dbl&gt;</th><th scope=col>&lt;dbl&gt;</th><th scope=col>&lt;dbl&gt;</th></tr>\n",
       "</thead>\n",
       "<tbody>\n",
       "\t<tr><td>0e97060fe4b9be17bddeedcd27826b04</td><td>F14_Common_Bream</td><td>0</td><td>Archaea</td><td>Euryarchaeota</td><td>Methanobacteria</td><td>Methanobacteriales</td><td>Methanobacteriaceae</td><td>Methanobrevibacter</td><td>unclassified</td><td>⋯</td><td>NA</td><td>NA</td><td>NA</td><td>NA</td><td>NA</td><td>NA</td><td>NA</td><td>NA</td><td>NA</td><td>NA</td></tr>\n",
       "\t<tr><td>a86c26bd7f16d93e38b101dbd2614a07</td><td>F14_Common_Bream</td><td>0</td><td>Archaea</td><td>Euryarchaeota</td><td>Methanobacteria</td><td>Methanobacteriales</td><td>Methanobacteriaceae</td><td>Methanobrevibacter</td><td>unclassified</td><td>⋯</td><td>NA</td><td>NA</td><td>NA</td><td>NA</td><td>NA</td><td>NA</td><td>NA</td><td>NA</td><td>NA</td><td>NA</td></tr>\n",
       "\t<tr><td>⋮</td><td>⋮</td><td>⋮</td><td>⋮</td><td>⋮</td><td>⋮</td><td>⋮</td><td>⋮</td><td>⋮</td><td>⋮</td><td>⋱</td><td>⋮</td><td>⋮</td><td>⋮</td><td>⋮</td><td>⋮</td><td>⋮</td><td>⋮</td><td>⋮</td><td>⋮</td><td>⋮</td></tr>\n",
       "\t<tr><td>9449f372c36cd2d8994d79b091425d42</td><td>X67_European_Roe</td><td>0</td><td>Archaea</td><td>Euryarchaeota</td><td>Methanobacteria</td><td>Methanobacteriales</td><td>Methanobacteriaceae</td><td>Methanobrevibacter</td><td>unclassified</td><td>⋯</td><td>NA</td><td>NA</td><td>NA</td><td>NA</td><td>NA</td><td>NA</td><td>NA</td><td>NA</td><td>NA</td><td>NA</td></tr>\n",
       "\t<tr><td>467eeae6997d3667b5d07a76bc1bcdfd</td><td>X67_European_Roe</td><td>0</td><td>Archaea</td><td>Euryarchaeota</td><td>Methanobacteria</td><td>Methanobacteriales</td><td>Methanobacteriaceae</td><td>Methanobrevibacter</td><td>unclassified</td><td>⋯</td><td>NA</td><td>NA</td><td>NA</td><td>NA</td><td>NA</td><td>NA</td><td>NA</td><td>NA</td><td>NA</td><td>NA</td></tr>\n",
       "</tbody>\n",
       "</table>\n"
      ],
      "text/latex": [
       "A data.table: 349835 × 98\n",
       "\\begin{tabular}{lllllllllllllllllllll}\n",
       " OTU & Sample & Count & Domain & Phylum & Class & Order & Family & Genus & Species & ⋯ & CH4\\_kJ.d\\_mean & CH4\\_kJ.d\\_sd & i.CH4\\_L.d\\_mean & i.CH4\\_L.d\\_sd & i.CH4\\_L.kgBM\\_mean & i.CH4\\_L.kgBM\\_sd & i.CH4\\_g.d\\_mean & i.CH4\\_g.d\\_sd & i.CH4\\_kJ.d\\_mean & i.CH4\\_kJ.d\\_sd\\\\\n",
       " <chr> & <chr> & <dbl> & <chr> & <chr> & <chr> & <chr> & <chr> & <chr> & <chr> & ⋯ & <dbl> & <dbl> & <dbl> & <dbl> & <dbl> & <dbl> & <dbl> & <dbl> & <dbl> & <dbl>\\\\\n",
       "\\hline\n",
       "\t 0e97060fe4b9be17bddeedcd27826b04 & F14\\_Common\\_Bream & 0 & Archaea & Euryarchaeota & Methanobacteria & Methanobacteriales & Methanobacteriaceae & Methanobrevibacter & unclassified & ⋯ & NA & NA & NA & NA & NA & NA & NA & NA & NA & NA\\\\\n",
       "\t a86c26bd7f16d93e38b101dbd2614a07 & F14\\_Common\\_Bream & 0 & Archaea & Euryarchaeota & Methanobacteria & Methanobacteriales & Methanobacteriaceae & Methanobrevibacter & unclassified & ⋯ & NA & NA & NA & NA & NA & NA & NA & NA & NA & NA\\\\\n",
       "\t ⋮ & ⋮ & ⋮ & ⋮ & ⋮ & ⋮ & ⋮ & ⋮ & ⋮ & ⋮ & ⋱ & ⋮ & ⋮ & ⋮ & ⋮ & ⋮ & ⋮ & ⋮ & ⋮ & ⋮ & ⋮\\\\\n",
       "\t 9449f372c36cd2d8994d79b091425d42 & X67\\_European\\_Roe & 0 & Archaea & Euryarchaeota & Methanobacteria & Methanobacteriales & Methanobacteriaceae & Methanobrevibacter & unclassified & ⋯ & NA & NA & NA & NA & NA & NA & NA & NA & NA & NA\\\\\n",
       "\t 467eeae6997d3667b5d07a76bc1bcdfd & X67\\_European\\_Roe & 0 & Archaea & Euryarchaeota & Methanobacteria & Methanobacteriales & Methanobacteriaceae & Methanobrevibacter & unclassified & ⋯ & NA & NA & NA & NA & NA & NA & NA & NA & NA & NA\\\\\n",
       "\\end{tabular}\n"
      ],
      "text/markdown": [
       "\n",
       "A data.table: 349835 × 98\n",
       "\n",
       "| OTU &lt;chr&gt; | Sample &lt;chr&gt; | Count &lt;dbl&gt; | Domain &lt;chr&gt; | Phylum &lt;chr&gt; | Class &lt;chr&gt; | Order &lt;chr&gt; | Family &lt;chr&gt; | Genus &lt;chr&gt; | Species &lt;chr&gt; | ⋯ ⋯ | CH4_kJ.d_mean &lt;dbl&gt; | CH4_kJ.d_sd &lt;dbl&gt; | i.CH4_L.d_mean &lt;dbl&gt; | i.CH4_L.d_sd &lt;dbl&gt; | i.CH4_L.kgBM_mean &lt;dbl&gt; | i.CH4_L.kgBM_sd &lt;dbl&gt; | i.CH4_g.d_mean &lt;dbl&gt; | i.CH4_g.d_sd &lt;dbl&gt; | i.CH4_kJ.d_mean &lt;dbl&gt; | i.CH4_kJ.d_sd &lt;dbl&gt; |\n",
       "|---|---|---|---|---|---|---|---|---|---|---|---|---|---|---|---|---|---|---|---|---|\n",
       "| 0e97060fe4b9be17bddeedcd27826b04 | F14_Common_Bream | 0 | Archaea | Euryarchaeota | Methanobacteria | Methanobacteriales | Methanobacteriaceae | Methanobrevibacter | unclassified | ⋯ | NA | NA | NA | NA | NA | NA | NA | NA | NA | NA |\n",
       "| a86c26bd7f16d93e38b101dbd2614a07 | F14_Common_Bream | 0 | Archaea | Euryarchaeota | Methanobacteria | Methanobacteriales | Methanobacteriaceae | Methanobrevibacter | unclassified | ⋯ | NA | NA | NA | NA | NA | NA | NA | NA | NA | NA |\n",
       "| ⋮ | ⋮ | ⋮ | ⋮ | ⋮ | ⋮ | ⋮ | ⋮ | ⋮ | ⋮ | ⋱ | ⋮ | ⋮ | ⋮ | ⋮ | ⋮ | ⋮ | ⋮ | ⋮ | ⋮ | ⋮ |\n",
       "| 9449f372c36cd2d8994d79b091425d42 | X67_European_Roe | 0 | Archaea | Euryarchaeota | Methanobacteria | Methanobacteriales | Methanobacteriaceae | Methanobrevibacter | unclassified | ⋯ | NA | NA | NA | NA | NA | NA | NA | NA | NA | NA |\n",
       "| 467eeae6997d3667b5d07a76bc1bcdfd | X67_European_Roe | 0 | Archaea | Euryarchaeota | Methanobacteria | Methanobacteriales | Methanobacteriaceae | Methanobrevibacter | unclassified | ⋯ | NA | NA | NA | NA | NA | NA | NA | NA | NA | NA |\n",
       "\n"
      ],
      "text/plain": [
       "       OTU                              Sample           Count Domain \n",
       "1      0e97060fe4b9be17bddeedcd27826b04 F14_Common_Bream 0     Archaea\n",
       "2      a86c26bd7f16d93e38b101dbd2614a07 F14_Common_Bream 0     Archaea\n",
       "⋮      ⋮                                ⋮                ⋮     ⋮      \n",
       "349834 9449f372c36cd2d8994d79b091425d42 X67_European_Roe 0     Archaea\n",
       "349835 467eeae6997d3667b5d07a76bc1bcdfd X67_European_Roe 0     Archaea\n",
       "       Phylum        Class           Order              Family             \n",
       "1      Euryarchaeota Methanobacteria Methanobacteriales Methanobacteriaceae\n",
       "2      Euryarchaeota Methanobacteria Methanobacteriales Methanobacteriaceae\n",
       "⋮      ⋮             ⋮               ⋮                  ⋮                  \n",
       "349834 Euryarchaeota Methanobacteria Methanobacteriales Methanobacteriaceae\n",
       "349835 Euryarchaeota Methanobacteria Methanobacteriales Methanobacteriaceae\n",
       "       Genus              Species      ⋯ CH4_kJ.d_mean CH4_kJ.d_sd\n",
       "1      Methanobrevibacter unclassified ⋯ NA            NA         \n",
       "2      Methanobrevibacter unclassified ⋯ NA            NA         \n",
       "⋮      ⋮                  ⋮            ⋱ ⋮             ⋮          \n",
       "349834 Methanobrevibacter unclassified ⋯ NA            NA         \n",
       "349835 Methanobrevibacter unclassified ⋯ NA            NA         \n",
       "       i.CH4_L.d_mean i.CH4_L.d_sd i.CH4_L.kgBM_mean i.CH4_L.kgBM_sd\n",
       "1      NA             NA           NA                NA             \n",
       "2      NA             NA           NA                NA             \n",
       "⋮      ⋮              ⋮            ⋮                 ⋮              \n",
       "349834 NA             NA           NA                NA             \n",
       "349835 NA             NA           NA                NA             \n",
       "       i.CH4_g.d_mean i.CH4_g.d_sd i.CH4_kJ.d_mean i.CH4_kJ.d_sd\n",
       "1      NA             NA           NA              NA           \n",
       "2      NA             NA           NA              NA           \n",
       "⋮      ⋮              ⋮            ⋮               ⋮            \n",
       "349834 NA             NA           NA              NA           \n",
       "349835 NA             NA           NA              NA           "
      ]
     },
     "metadata": {},
     "output_type": "display_data"
    }
   ],
   "source": [
    "otu = physeq_arch_IndD %>%\n",
    "    phyloseq2df(otu_table, long=TRUE) %>%\n",
    "    as.data.table\n",
    "\n",
    "tax = physeq_arch_IndD %>%\n",
    "    phyloseq2df(tax_table) %>%\n",
    "    as.data.table\n",
    "\n",
    "metadata = physeq_arch_IndD %>%\n",
    "    phyloseq2df(sample_data) %>%\n",
    "    as.data.table\n",
    "\n",
    "otu = otu %>%\n",
    "    dt_inner_join(tax, c('OTU')) %>%\n",
    "    dt_inner_join(metadata, c('Sample'))\n",
    "otu"
   ]
  },
  {
   "cell_type": "code",
   "execution_count": 108,
   "metadata": {
    "ExecuteTime": {
     "end_time": "2020-05-27T14:19:30.506329Z",
     "start_time": "2020-05-27T14:19:04.675Z"
    }
   },
   "outputs": [
    {
     "data": {
      "text/html": [
       "<table>\n",
       "<caption>A data.frame: 110 × 5</caption>\n",
       "<thead>\n",
       "\t<tr><th></th><th scope=col>minimum</th><th scope=col>q1</th><th scope=col>median</th><th scope=col>q3</th><th scope=col>maximum</th></tr>\n",
       "\t<tr><th></th><th scope=col>&lt;dbl&gt;</th><th scope=col>&lt;dbl&gt;</th><th scope=col>&lt;dbl&gt;</th><th scope=col>&lt;dbl&gt;</th><th scope=col>&lt;dbl&gt;</th></tr>\n",
       "</thead>\n",
       "<tbody>\n",
       "\t<tr><th scope=row>Abramis_brama</th><td>3457</td><td>3457.0</td><td>3457.0</td><td>3457</td><td>3457</td></tr>\n",
       "\t<tr><th scope=row>Cervus_elaphus</th><td> 645</td><td>1584.5</td><td>2241.5</td><td>3267</td><td>6865</td></tr>\n",
       "\t<tr><th scope=row>⋮</th><td>⋮</td><td>⋮</td><td>⋮</td><td>⋮</td><td>⋮</td></tr>\n",
       "\t<tr><th scope=row>Crocodylus_niloticus</th><td>485</td><td>485</td><td>485</td><td>485</td><td>485</td></tr>\n",
       "\t<tr><th scope=row>Capreolus_capreolus</th><td>721</td><td>721</td><td>721</td><td>721</td><td>721</td></tr>\n",
       "</tbody>\n",
       "</table>\n"
      ],
      "text/latex": [
       "A data.frame: 110 × 5\n",
       "\\begin{tabular}{r|lllll}\n",
       "  & minimum & q1 & median & q3 & maximum\\\\\n",
       "  & <dbl> & <dbl> & <dbl> & <dbl> & <dbl>\\\\\n",
       "\\hline\n",
       "\tAbramis\\_brama & 3457 & 3457.0 & 3457.0 & 3457 & 3457\\\\\n",
       "\tCervus\\_elaphus &  645 & 1584.5 & 2241.5 & 3267 & 6865\\\\\n",
       "\t⋮ & ⋮ & ⋮ & ⋮ & ⋮ & ⋮\\\\\n",
       "\tCrocodylus\\_niloticus & 485 & 485 & 485 & 485 & 485\\\\\n",
       "\tCapreolus\\_capreolus & 721 & 721 & 721 & 721 & 721\\\\\n",
       "\\end{tabular}\n"
      ],
      "text/markdown": [
       "\n",
       "A data.frame: 110 × 5\n",
       "\n",
       "| <!--/--> | minimum &lt;dbl&gt; | q1 &lt;dbl&gt; | median &lt;dbl&gt; | q3 &lt;dbl&gt; | maximum &lt;dbl&gt; |\n",
       "|---|---|---|---|---|---|\n",
       "| Abramis_brama | 3457 | 3457.0 | 3457.0 | 3457 | 3457 |\n",
       "| Cervus_elaphus |  645 | 1584.5 | 2241.5 | 3267 | 6865 |\n",
       "| ⋮ | ⋮ | ⋮ | ⋮ | ⋮ | ⋮ |\n",
       "| Crocodylus_niloticus | 485 | 485 | 485 | 485 | 485 |\n",
       "| Capreolus_capreolus | 721 | 721 | 721 | 721 | 721 |\n",
       "\n"
      ],
      "text/plain": [
       "                     minimum q1     median q3   maximum\n",
       "Abramis_brama        3457    3457.0 3457.0 3457 3457   \n",
       "Cervus_elaphus        645    1584.5 2241.5 3267 6865   \n",
       "⋮                    ⋮       ⋮      ⋮      ⋮    ⋮      \n",
       "Crocodylus_niloticus 485     485    485    485  485    \n",
       "Capreolus_capreolus  721     721    721    721  721    "
      ]
     },
     "metadata": {},
     "output_type": "display_data"
    }
   ],
   "source": [
    "# summarize per species\n",
    "x = otu %>%\n",
    "    dt_summarize(Count = sum(Count),\n",
    "                 by=c(Sample, scientific_name)) %>%\n",
    "    dt_summarize(minimum = min(Count),\n",
    "                 q1 = quantile(Count, 0.25),\n",
    "                 median = median(Count),\n",
    "                 q3 = quantile(Count, 0.75),\n",
    "                 maximum = max(Count),\n",
    "                 by=c(scientific_name)) %>%\n",
    "    as.data.frame\n",
    "rownames(x) = x$scientific_name\n",
    "x$scientific_name = NULL\n",
    "x"
   ]
  },
  {
   "cell_type": "code",
   "execution_count": 109,
   "metadata": {
    "ExecuteTime": {
     "end_time": "2020-05-27T14:19:30.529874Z",
     "start_time": "2020-05-27T14:19:04.681Z"
    }
   },
   "outputs": [
    {
     "name": "stdout",
     "output_type": "stream",
     "text": [
      "File written: /ebio/abt3_projects/Georg_animal_feces/data/16S_arch/MiSeq-Runs-116-122-126-189-190/LLA/dataset_explore//SpecD_nSeqs_boxplot.txt \n"
     ]
    }
   ],
   "source": [
    "# writing itol input file\n",
    "F = file.path(work_dir, 'SpecD_nSeqs_boxplot.txt')\n",
    "itol_boxplot(x, 'num_seqs', F)"
   ]
  },
  {
   "cell_type": "markdown",
   "metadata": {},
   "source": [
    "### Number of samples"
   ]
  },
  {
   "cell_type": "code",
   "execution_count": 110,
   "metadata": {
    "ExecuteTime": {
     "end_time": "2020-05-27T14:19:30.584436Z",
     "start_time": "2020-05-27T14:19:04.687Z"
    }
   },
   "outputs": [
    {
     "data": {
      "text/html": [
       "<table>\n",
       "<caption>A data.frame: 110 × 1</caption>\n",
       "<thead>\n",
       "\t<tr><th></th><th scope=col>n_samples</th></tr>\n",
       "\t<tr><th></th><th scope=col>&lt;int&gt;</th></tr>\n",
       "</thead>\n",
       "<tbody>\n",
       "\t<tr><th scope=row>Abramis_brama</th><td> 1</td></tr>\n",
       "\t<tr><th scope=row>Cervus_elaphus</th><td>12</td></tr>\n",
       "\t<tr><th scope=row>⋮</th><td>⋮</td></tr>\n",
       "\t<tr><th scope=row>Crocodylus_niloticus</th><td>1</td></tr>\n",
       "\t<tr><th scope=row>Capreolus_capreolus</th><td>1</td></tr>\n",
       "</tbody>\n",
       "</table>\n"
      ],
      "text/latex": [
       "A data.frame: 110 × 1\n",
       "\\begin{tabular}{r|l}\n",
       "  & n\\_samples\\\\\n",
       "  & <int>\\\\\n",
       "\\hline\n",
       "\tAbramis\\_brama &  1\\\\\n",
       "\tCervus\\_elaphus & 12\\\\\n",
       "\t⋮ & ⋮\\\\\n",
       "\tCrocodylus\\_niloticus & 1\\\\\n",
       "\tCapreolus\\_capreolus & 1\\\\\n",
       "\\end{tabular}\n"
      ],
      "text/markdown": [
       "\n",
       "A data.frame: 110 × 1\n",
       "\n",
       "| <!--/--> | n_samples &lt;int&gt; |\n",
       "|---|---|\n",
       "| Abramis_brama |  1 |\n",
       "| Cervus_elaphus | 12 |\n",
       "| ⋮ | ⋮ |\n",
       "| Crocodylus_niloticus | 1 |\n",
       "| Capreolus_capreolus | 1 |\n",
       "\n"
      ],
      "text/plain": [
       "                     n_samples\n",
       "Abramis_brama         1       \n",
       "Cervus_elaphus       12       \n",
       "⋮                    ⋮        \n",
       "Crocodylus_niloticus 1        \n",
       "Capreolus_capreolus  1        "
      ]
     },
     "metadata": {},
     "output_type": "display_data"
    }
   ],
   "source": [
    "# summarize per species\n",
    "x = otu %>%\n",
    "    dt_summarize(n_samples = length(unique(Sample)),\n",
    "                 by=c(scientific_name)) %>%\n",
    "    as.data.frame\n",
    "rownames(x) = x$scientific_name\n",
    "x$scientific_name = NULL\n",
    "x"
   ]
  },
  {
   "cell_type": "code",
   "execution_count": 111,
   "metadata": {
    "ExecuteTime": {
     "end_time": "2020-05-27T14:19:30.610250Z",
     "start_time": "2020-05-27T14:19:04.692Z"
    }
   },
   "outputs": [
    {
     "name": "stdout",
     "output_type": "stream",
     "text": [
      "File written: /ebio/abt3_projects/Georg_animal_feces/data/16S_arch/MiSeq-Runs-116-122-126-189-190/LLA/dataset_explore//SpecD_nSamples_multibar.txt \n"
     ]
    }
   ],
   "source": [
    "# writing itol input file\n",
    "F = file.path(work_dir, 'SpecD_nSamples_multibar.txt')\n",
    "itol_multibar(x, 'num_samples', F)"
   ]
  },
  {
   "cell_type": "markdown",
   "metadata": {},
   "source": [
    "# sessionInfo"
   ]
  },
  {
   "cell_type": "code",
   "execution_count": 112,
   "metadata": {
    "ExecuteTime": {
     "end_time": "2020-05-27T14:19:30.664384Z",
     "start_time": "2020-05-27T14:19:04.698Z"
    }
   },
   "outputs": [
    {
     "data": {
      "text/plain": [
       "R version 3.6.2 (2019-12-12)\n",
       "Platform: x86_64-conda_cos6-linux-gnu (64-bit)\n",
       "Running under: Ubuntu 18.04.4 LTS\n",
       "\n",
       "Matrix products: default\n",
       "BLAS/LAPACK: /ebio/abt3_projects/Georg_animal_feces/envs/phyloseq-phy/lib/libopenblasp-r0.3.7.so\n",
       "\n",
       "locale:\n",
       " [1] LC_CTYPE=en_US.UTF-8       LC_NUMERIC=C              \n",
       " [3] LC_TIME=en_US.UTF-8        LC_COLLATE=en_US.UTF-8    \n",
       " [5] LC_MONETARY=en_US.UTF-8    LC_MESSAGES=en_US.UTF-8   \n",
       " [7] LC_PAPER=en_US.UTF-8       LC_NAME=C                 \n",
       " [9] LC_ADDRESS=C               LC_TELEPHONE=C            \n",
       "[11] LC_MEASUREMENT=en_US.UTF-8 LC_IDENTIFICATION=C       \n",
       "\n",
       "attached base packages:\n",
       "[1] stats     graphics  grDevices utils     datasets  methods   base     \n",
       "\n",
       "other attached packages:\n",
       "[1] LeyLabRMisc_0.1.5 tidytable_0.4.1   data.table_1.12.8 ape_5.3          \n",
       "[5] phyloseq_1.30.0   ggplot2_3.2.1     tidyr_1.0.0       dplyr_0.8.3      \n",
       "\n",
       "loaded via a namespace (and not attached):\n",
       " [1] Rcpp_1.0.3          lattice_0.20-38     Biostrings_2.54.0  \n",
       " [4] assertthat_0.2.1    digest_0.6.23       foreach_1.4.7      \n",
       " [7] IRdisplay_0.7.0     R6_2.4.1            plyr_1.8.5         \n",
       "[10] repr_1.0.2          stats4_3.6.2        evaluate_0.14      \n",
       "[13] pillar_1.4.3        zlibbioc_1.32.0     rlang_0.4.6        \n",
       "[16] lazyeval_0.2.2      uuid_0.1-2          vegan_2.5-6        \n",
       "[19] S4Vectors_0.24.0    Matrix_1.2-18       splines_3.6.2      \n",
       "[22] stringr_1.4.0       igraph_1.2.4.2      munsell_0.5.0      \n",
       "[25] xfun_0.12           compiler_3.6.2      pkgconfig_2.0.3    \n",
       "[28] BiocGenerics_0.32.0 base64enc_0.1-3     multtest_2.42.0    \n",
       "[31] mgcv_1.8-31         htmltools_0.4.0     biomformat_1.14.0  \n",
       "[34] tidyselect_1.1.0    tibble_2.1.3        IRanges_2.20.0     \n",
       "[37] codetools_0.2-16    fansi_0.4.1         permute_0.9-5      \n",
       "[40] crayon_1.3.4        withr_2.1.2         MASS_7.3-51.5      \n",
       "[43] grid_3.6.2          nlme_3.1-143        jsonlite_1.6       \n",
       "[46] gtable_0.3.0        lifecycle_0.1.0     magrittr_1.5       \n",
       "[49] scales_1.1.0        cli_2.0.1           stringi_1.4.5      \n",
       "[52] XVector_0.26.0      reshape2_1.4.3      ellipsis_0.3.0     \n",
       "[55] vctrs_0.3.0         IRkernel_1.1        Rhdf5lib_1.8.0     \n",
       "[58] iterators_1.0.12    tools_3.6.2         ade4_1.7-13        \n",
       "[61] Biobase_2.46.0      glue_1.3.1          purrr_0.3.3        \n",
       "[64] parallel_3.6.2      survival_3.1-8      colorspace_1.4-1   \n",
       "[67] rhdf5_2.30.0        cluster_2.1.0       pbdZMQ_0.3-3       \n",
       "[70] knitr_1.26         "
      ]
     },
     "metadata": {},
     "output_type": "display_data"
    }
   ],
   "source": [
    "sessionInfo()"
   ]
  },
  {
   "cell_type": "code",
   "execution_count": null,
   "metadata": {},
   "outputs": [],
   "source": []
  }
 ],
 "metadata": {
  "kernelspec": {
   "display_name": "R [conda env:Georg_animal_feces-phyloseq-phy]",
   "language": "R",
   "name": "conda-env-Georg_animal_feces-phyloseq-phy-r"
  },
  "language_info": {
   "codemirror_mode": "r",
   "file_extension": ".r",
   "mimetype": "text/x-r-source",
   "name": "R",
   "pygments_lexer": "r",
   "version": "3.6.2"
  },
  "toc": {
   "base_numbering": 1,
   "nav_menu": {},
   "number_sections": true,
   "sideBar": true,
   "skip_h1_title": false,
   "title_cell": "Table of Contents",
   "title_sidebar": "Contents",
   "toc_cell": true,
   "toc_position": {},
   "toc_section_display": true,
   "toc_window_display": true
  }
 },
 "nbformat": 4,
 "nbformat_minor": 4
}
