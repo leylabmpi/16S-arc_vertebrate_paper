{
 "cells": [
  {
   "cell_type": "markdown",
   "metadata": {
    "toc": true
   },
   "source": [
    "<h1>Table of Contents<span class=\"tocSkip\"></span></h1>\n",
    "<div class=\"toc\"><ul class=\"toc-item\"><li><span><a href=\"#Goal\" data-toc-modified-id=\"Goal-1\"><span class=\"toc-item-num\">1&nbsp;&nbsp;</span>Goal</a></span></li><li><span><a href=\"#Var\" data-toc-modified-id=\"Var-2\"><span class=\"toc-item-num\">2&nbsp;&nbsp;</span>Var</a></span></li><li><span><a href=\"#Init\" data-toc-modified-id=\"Init-3\"><span class=\"toc-item-num\">3&nbsp;&nbsp;</span>Init</a></span></li><li><span><a href=\"#Load\" data-toc-modified-id=\"Load-4\"><span class=\"toc-item-num\">4&nbsp;&nbsp;</span>Load</a></span><ul class=\"toc-item\"><li><span><a href=\"#Format\" data-toc-modified-id=\"Format-4.1\"><span class=\"toc-item-num\">4.1&nbsp;&nbsp;</span>Format</a></span></li><li><span><a href=\"#Filtering\" data-toc-modified-id=\"Filtering-4.2\"><span class=\"toc-item-num\">4.2&nbsp;&nbsp;</span>Filtering</a></span></li></ul></li><li><span><a href=\"#Plotting\" data-toc-modified-id=\"Plotting-5\"><span class=\"toc-item-num\">5&nbsp;&nbsp;</span>Plotting</a></span></li><li><span><a href=\"#Tree-subsample\" data-toc-modified-id=\"Tree-subsample-6\"><span class=\"toc-item-num\">6&nbsp;&nbsp;</span>Tree subsample</a></span></li><li><span><a href=\"#RRPP\" data-toc-modified-id=\"RRPP-7\"><span class=\"toc-item-num\">7&nbsp;&nbsp;</span>RRPP</a></span><ul class=\"toc-item\"><li><span><a href=\"#Summary\" data-toc-modified-id=\"Summary-7.1\"><span class=\"toc-item-num\">7.1&nbsp;&nbsp;</span>Summary</a></span></li></ul></li><li><span><a href=\"#sessionInfo\" data-toc-modified-id=\"sessionInfo-8\"><span class=\"toc-item-num\">8&nbsp;&nbsp;</span>sessionInfo</a></span></li></ul></div>"
   ]
  },
  {
   "cell_type": "markdown",
   "metadata": {},
   "source": [
    "# Goal\n",
    "\n",
    "* RRPP analysis to assess correlations of OTUs and host phenotypes while controlling for host phylogeny\n",
    "* Just assessing Methanobrevibacter ASVs versus body temperature"
   ]
  },
  {
   "cell_type": "markdown",
   "metadata": {},
   "source": [
    "# Var"
   ]
  },
  {
   "cell_type": "code",
   "execution_count": 1,
   "metadata": {
    "ExecuteTime": {
     "end_time": "2020-09-05T12:25:54.367450Z",
     "start_time": "2020-09-05T12:25:54.270Z"
    }
   },
   "outputs": [],
   "source": [
    "work_dir = '/ebio/abt3_projects/Georg_animal_feces/data/16S_arch/MiSeq-Runs-116-122-126-189-190/LLA/modulating/RRPP/'\n",
    "\n",
    "# microbiome\n",
    "## 16S-arch phyloseq object (one sample per individual)\n",
    "physeq_arch_IndD_file = '/ebio/abt3_projects/Georg_animal_feces/data/16S_arch/MiSeq-Runs-116-122-126-189-190/LLA/merged/phyloseq/physeq_arch_IndD_rare250.RDS'\n",
    "\n",
    "# host tree\n",
    "host_tree_IndD_file = '/ebio/abt3_projects/Georg_animal_feces/data/animal/phylogeny/TT/unified_metadata_complete_200429_16S-arch_IndD.nwk'\n",
    "\n",
    "# body temp data\n",
    "Tb_file = '/ebio/abt3_projects/Georg_animal_feces/data/16S_arch/MiSeq-Runs-116-122-126-189-190/LLA/merged//bodyTemp_all.tsv'\n",
    "\n",
    "# misc params\n",
    "threads = 12\n",
    "my_seed = 8394"
   ]
  },
  {
   "cell_type": "markdown",
   "metadata": {},
   "source": [
    "# Init"
   ]
  },
  {
   "cell_type": "code",
   "execution_count": 2,
   "metadata": {
    "ExecuteTime": {
     "end_time": "2020-09-05T12:26:02.723713Z",
     "start_time": "2020-09-05T12:25:54.277Z"
    }
   },
   "outputs": [
    {
     "name": "stderr",
     "output_type": "stream",
     "text": [
      "\n",
      "Attaching package: ‘dplyr’\n",
      "\n",
      "\n",
      "The following objects are masked from ‘package:stats’:\n",
      "\n",
      "    filter, lag\n",
      "\n",
      "\n",
      "The following objects are masked from ‘package:base’:\n",
      "\n",
      "    intersect, setdiff, setequal, union\n",
      "\n",
      "\n",
      "\n",
      "Attaching package: ‘RRPP’\n",
      "\n",
      "\n",
      "The following object is masked from ‘package:phyloseq’:\n",
      "\n",
      "    ordinate\n",
      "\n",
      "\n",
      "Loading required package: foreach\n",
      "\n",
      "Loading required package: iterators\n",
      "\n",
      "Loading required package: parallel\n",
      "\n"
     ]
    }
   ],
   "source": [
    "library(dplyr)\n",
    "library(tidyr)\n",
    "library(ggplot2)\n",
    "\n",
    "library(ape)\n",
    "library(phyloseq)\n",
    "library(RRPP)\n",
    "\n",
    "library(doParallel)\n",
    "library(LeyLabRMisc)"
   ]
  },
  {
   "cell_type": "code",
   "execution_count": 3,
   "metadata": {
    "ExecuteTime": {
     "end_time": "2020-09-05T12:26:02.744085Z",
     "start_time": "2020-09-05T12:25:54.285Z"
    }
   },
   "outputs": [],
   "source": [
    "# cluster job submission\n",
    "#clustermq_setup()\n",
    "#library(clustermq)"
   ]
  },
  {
   "cell_type": "code",
   "execution_count": 4,
   "metadata": {
    "ExecuteTime": {
     "end_time": "2020-09-05T12:26:02.781416Z",
     "start_time": "2020-09-05T12:25:54.290Z"
    }
   },
   "outputs": [
    {
     "name": "stdout",
     "output_type": "stream",
     "text": [
      "Directory already exists: /ebio/abt3_projects/Georg_animal_feces/data/16S_arch/MiSeq-Runs-116-122-126-189-190/LLA/modulating/RRPP/ \n"
     ]
    }
   ],
   "source": [
    "df.dims()\n",
    "set.seed(my_seed)\n",
    "make_dir(work_dir)\n",
    "RhpcBLASctl::blas_set_num_threads(1)"
   ]
  },
  {
   "cell_type": "markdown",
   "metadata": {},
   "source": [
    "# Load"
   ]
  },
  {
   "cell_type": "code",
   "execution_count": 5,
   "metadata": {
    "ExecuteTime": {
     "end_time": "2020-09-05T12:26:03.069144Z",
     "start_time": "2020-09-05T12:25:54.294Z"
    }
   },
   "outputs": [
    {
     "data": {
      "text/plain": [
       "phyloseq-class experiment-level object\n",
       "otu_table()   OTU Table:         [ 188 taxa and 179 samples ]\n",
       "sample_data() Sample Data:       [ 179 samples by 88 sample variables ]\n",
       "tax_table()   Taxonomy Table:    [ 188 taxa by 7 taxonomic ranks ]\n",
       "phy_tree()    Phylogenetic Tree: [ 188 tips and 187 internal nodes ]"
      ]
     },
     "metadata": {},
     "output_type": "display_data"
    }
   ],
   "source": [
    "# phyloseq obj.\n",
    "physeq = readRDS(physeq_arch_IndD_file) %>%\n",
    "    subset_taxa(Order == 'Methanobacteriales') %>%\n",
    "    filter_taxa(function(x) sum(x > 0) >= 2, TRUE) %>%\n",
    "    prune_samples(sample_sums(.) > 0, .) \n",
    "physeq"
   ]
  },
  {
   "cell_type": "code",
   "execution_count": 6,
   "metadata": {
    "ExecuteTime": {
     "end_time": "2020-09-05T12:26:04.381492Z",
     "start_time": "2020-09-05T12:25:54.298Z"
    }
   },
   "outputs": [
    {
     "data": {
      "text/html": [
       "<table>\n",
       "<caption>A data.frame: 179 × 5</caption>\n",
       "<thead>\n",
       "\t<tr><th></th><th scope=col>Archaea;Euryarchaeota;Methanobacteria;Methanobacteriales;Methanobacteriaceae;Methanobacterium</th><th scope=col>Archaea;Euryarchaeota;Methanobacteria;Methanobacteriales;Methanobacteriaceae;Methanobrevibacter</th><th scope=col>Archaea;Euryarchaeota;Methanobacteria;Methanobacteriales;Methanobacteriaceae;Methanosphaera</th><th scope=col>Archaea;Euryarchaeota;Methanobacteria;Methanobacteriales;Methanobacteriaceae;unclassified</th><th scope=col>Archaea;Euryarchaeota;Methanobacteria;Methanobacteriales;Methanothermobacteraceae;Methanothermobacter</th></tr>\n",
       "\t<tr><th></th><th scope=col>&lt;int&gt;</th><th scope=col>&lt;int&gt;</th><th scope=col>&lt;int&gt;</th><th scope=col>&lt;int&gt;</th><th scope=col>&lt;int&gt;</th></tr>\n",
       "</thead>\n",
       "<tbody>\n",
       "\t<tr><th scope=row>F14_Common_Bream</th><td>4</td><td>1</td><td>0</td><td>0</td><td>0</td></tr>\n",
       "\t<tr><th scope=row>F157a_European_Toad</th><td>0</td><td>1</td><td>0</td><td>0</td><td>0</td></tr>\n",
       "\t<tr><th scope=row>⋮</th><td>⋮</td><td>⋮</td><td>⋮</td><td>⋮</td><td>⋮</td></tr>\n",
       "\t<tr><th scope=row>X94_Mangalica</th><td>0</td><td>3</td><td>0</td><td>0</td><td>2</td></tr>\n",
       "\t<tr><th scope=row>X96_European_Hare</th><td>0</td><td>1</td><td>4</td><td>0</td><td>1</td></tr>\n",
       "</tbody>\n",
       "</table>\n"
      ],
      "text/latex": [
       "A data.frame: 179 × 5\n",
       "\\begin{tabular}{r|lllll}\n",
       "  & Archaea;Euryarchaeota;Methanobacteria;Methanobacteriales;Methanobacteriaceae;Methanobacterium & Archaea;Euryarchaeota;Methanobacteria;Methanobacteriales;Methanobacteriaceae;Methanobrevibacter & Archaea;Euryarchaeota;Methanobacteria;Methanobacteriales;Methanobacteriaceae;Methanosphaera & Archaea;Euryarchaeota;Methanobacteria;Methanobacteriales;Methanobacteriaceae;unclassified & Archaea;Euryarchaeota;Methanobacteria;Methanobacteriales;Methanothermobacteraceae;Methanothermobacter\\\\\n",
       "  & <int> & <int> & <int> & <int> & <int>\\\\\n",
       "\\hline\n",
       "\tF14\\_Common\\_Bream & 4 & 1 & 0 & 0 & 0\\\\\n",
       "\tF157a\\_European\\_Toad & 0 & 1 & 0 & 0 & 0\\\\\n",
       "\t⋮ & ⋮ & ⋮ & ⋮ & ⋮ & ⋮\\\\\n",
       "\tX94\\_Mangalica & 0 & 3 & 0 & 0 & 2\\\\\n",
       "\tX96\\_European\\_Hare & 0 & 1 & 4 & 0 & 1\\\\\n",
       "\\end{tabular}\n"
      ],
      "text/markdown": [
       "\n",
       "A data.frame: 179 × 5\n",
       "\n",
       "| <!--/--> | Archaea;Euryarchaeota;Methanobacteria;Methanobacteriales;Methanobacteriaceae;Methanobacterium &lt;int&gt; | Archaea;Euryarchaeota;Methanobacteria;Methanobacteriales;Methanobacteriaceae;Methanobrevibacter &lt;int&gt; | Archaea;Euryarchaeota;Methanobacteria;Methanobacteriales;Methanobacteriaceae;Methanosphaera &lt;int&gt; | Archaea;Euryarchaeota;Methanobacteria;Methanobacteriales;Methanobacteriaceae;unclassified &lt;int&gt; | Archaea;Euryarchaeota;Methanobacteria;Methanobacteriales;Methanothermobacteraceae;Methanothermobacter &lt;int&gt; |\n",
       "|---|---|---|---|---|---|\n",
       "| F14_Common_Bream | 4 | 1 | 0 | 0 | 0 |\n",
       "| F157a_European_Toad | 0 | 1 | 0 | 0 | 0 |\n",
       "| ⋮ | ⋮ | ⋮ | ⋮ | ⋮ | ⋮ |\n",
       "| X94_Mangalica | 0 | 3 | 0 | 0 | 2 |\n",
       "| X96_European_Hare | 0 | 1 | 4 | 0 | 1 |\n",
       "\n"
      ],
      "text/plain": [
       "                    Archaea;Euryarchaeota;Methanobacteria;Methanobacteriales;Methanobacteriaceae;Methanobacterium\n",
       "F14_Common_Bream    4                                                                                            \n",
       "F157a_European_Toad 0                                                                                            \n",
       "⋮                   ⋮                                                                                            \n",
       "X94_Mangalica       0                                                                                            \n",
       "X96_European_Hare   0                                                                                            \n",
       "                    Archaea;Euryarchaeota;Methanobacteria;Methanobacteriales;Methanobacteriaceae;Methanobrevibacter\n",
       "F14_Common_Bream    1                                                                                              \n",
       "F157a_European_Toad 1                                                                                              \n",
       "⋮                   ⋮                                                                                              \n",
       "X94_Mangalica       3                                                                                              \n",
       "X96_European_Hare   1                                                                                              \n",
       "                    Archaea;Euryarchaeota;Methanobacteria;Methanobacteriales;Methanobacteriaceae;Methanosphaera\n",
       "F14_Common_Bream    0                                                                                          \n",
       "F157a_European_Toad 0                                                                                          \n",
       "⋮                   ⋮                                                                                          \n",
       "X94_Mangalica       0                                                                                          \n",
       "X96_European_Hare   4                                                                                          \n",
       "                    Archaea;Euryarchaeota;Methanobacteria;Methanobacteriales;Methanobacteriaceae;unclassified\n",
       "F14_Common_Bream    0                                                                                        \n",
       "F157a_European_Toad 0                                                                                        \n",
       "⋮                   ⋮                                                                                        \n",
       "X94_Mangalica       0                                                                                        \n",
       "X96_European_Hare   0                                                                                        \n",
       "                    Archaea;Euryarchaeota;Methanobacteria;Methanobacteriales;Methanothermobacteraceae;Methanothermobacter\n",
       "F14_Common_Bream    0                                                                                                    \n",
       "F157a_European_Toad 0                                                                                                    \n",
       "⋮                   ⋮                                                                                                    \n",
       "X94_Mangalica       2                                                                                                    \n",
       "X96_European_Hare   1                                                                                                    "
      ]
     },
     "metadata": {},
     "output_type": "display_data"
    }
   ],
   "source": [
    "# otus per genus table\n",
    "otu = physeq %>%\n",
    "    phyloseq2df(otu_table, long=TRUE) %>%\n",
    "    inner_join(phyloseq2df(physeq, tax_table),\n",
    "               c('OTU')) %>%\n",
    "    mutate(Taxonomy = paste(Domain, Phylum, Class, Order, Family, Genus, sep=';')) %>%\n",
    "    group_by(Sample, Taxonomy) %>%\n",
    "    summarize(Count = sum(Count > 0), .groups='drop') %>%\n",
    "    spread(Taxonomy, Count) %>%\n",
    "    as.data.frame\n",
    "rownames(otu) = otu$Sample\n",
    "otu$Sample = NULL\n",
    "otu"
   ]
  },
  {
   "cell_type": "code",
   "execution_count": 7,
   "metadata": {
    "ExecuteTime": {
     "end_time": "2020-09-05T12:26:04.414155Z",
     "start_time": "2020-09-05T12:25:54.301Z"
    }
   },
   "outputs": [
    {
     "data": {
      "text/plain": [
       "\n",
       "Phylogenetic tree with 185 tips and 184 internal nodes.\n",
       "\n",
       "Tip labels:\n",
       "\tX60_European_Chub, X179_Roach, X330_Ide, X327_Silver_Bream, X326_Silver_Bream, F14_Common_Bream, ...\n",
       "Node labels:\n",
       "\t, @_20_@, @_17_@, @_14_@, @_9_@, @_15_@, ...\n",
       "\n",
       "Rooted; includes branch lengths."
      ]
     },
     "metadata": {},
     "output_type": "display_data"
    }
   ],
   "source": [
    "# host phylogeny\n",
    "host_tree = read.tree(host_tree_IndD_file)\n",
    "host_tree"
   ]
  },
  {
   "cell_type": "code",
   "execution_count": 8,
   "metadata": {
    "ExecuteTime": {
     "end_time": "2020-09-05T12:26:04.534093Z",
     "start_time": "2020-09-05T12:25:54.312Z"
    }
   },
   "outputs": [
    {
     "data": {
      "text/html": [
       "<table>\n",
       "<caption>A data.frame: 179 × 90</caption>\n",
       "<thead>\n",
       "\t<tr><th></th><th scope=col>SampleID</th><th scope=col>host_subject_id</th><th scope=col>host_german_name</th><th scope=col>host_common_name</th><th scope=col>scientific_name</th><th scope=col>scientific_name_subspecies</th><th scope=col>host_taxid</th><th scope=col>class</th><th scope=col>order</th><th scope=col>family</th><th scope=col>⋯</th><th scope=col>i.CH4_L.d_mean</th><th scope=col>i.CH4_L.d_sd</th><th scope=col>i.CH4_L.kgBM_mean</th><th scope=col>i.CH4_L.kgBM_sd</th><th scope=col>i.CH4_g.d_mean</th><th scope=col>i.CH4_g.d_sd</th><th scope=col>i.CH4_kJ.d_mean</th><th scope=col>i.CH4_kJ.d_sd</th><th scope=col>Sample</th><th scope=col>dig_sys</th></tr>\n",
       "\t<tr><th></th><th scope=col>&lt;chr&gt;</th><th scope=col>&lt;chr&gt;</th><th scope=col>&lt;chr&gt;</th><th scope=col>&lt;chr&gt;</th><th scope=col>&lt;chr&gt;</th><th scope=col>&lt;chr&gt;</th><th scope=col>&lt;int&gt;</th><th scope=col>&lt;chr&gt;</th><th scope=col>&lt;chr&gt;</th><th scope=col>&lt;chr&gt;</th><th scope=col>⋯</th><th scope=col>&lt;dbl&gt;</th><th scope=col>&lt;dbl&gt;</th><th scope=col>&lt;dbl&gt;</th><th scope=col>&lt;dbl&gt;</th><th scope=col>&lt;dbl&gt;</th><th scope=col>&lt;dbl&gt;</th><th scope=col>&lt;dbl&gt;</th><th scope=col>&lt;dbl&gt;</th><th scope=col>&lt;chr&gt;</th><th scope=col>&lt;chr&gt;</th></tr>\n",
       "</thead>\n",
       "<tbody>\n",
       "\t<tr><th scope=row>F14_Common_Bream</th><td>F14_Common_Bream</td><td>F14</td><td>Brachse  </td><td>Common.Bream</td><td>Abramis_brama </td><td>NA</td><td>38527</td><td>Actinopterygii</td><td>Cypriniformes</td><td>Cyprinidae</td><td>⋯</td><td>      NA</td><td>      NA</td><td>       NA</td><td>       NA</td><td>      NA</td><td>      NA</td><td>      NA</td><td>      NA</td><td>F14_Common_Bream</td><td>simple </td></tr>\n",
       "\t<tr><th scope=row>F35_Red_Deer</th><td>F35_Red_Deer    </td><td>F35</td><td>Rothirsch</td><td>Red.Deer    </td><td>Cervus_elaphus</td><td>NA</td><td> 9860</td><td>Mammalia      </td><td>Artiodactyla </td><td>Cervidae  </td><td>⋯</td><td>52.24132</td><td>27.18306</td><td>0.4858472</td><td>0.1686955</td><td>38.67117</td><td>21.30162</td><td>2066.942</td><td>1075.505</td><td>F35_Red_Deer    </td><td>foregut</td></tr>\n",
       "\t<tr><th scope=row>⋮</th><td>⋮</td><td>⋮</td><td>⋮</td><td>⋮</td><td>⋮</td><td>⋮</td><td>⋮</td><td>⋮</td><td>⋮</td><td>⋮</td><td>⋱</td><td>⋮</td><td>⋮</td><td>⋮</td><td>⋮</td><td>⋮</td><td>⋮</td><td>⋮</td><td>⋮</td><td>⋮</td><td>⋮</td></tr>\n",
       "\t<tr><th scope=row>X405_Nile_Crocodile</th><td>X405_Nile_Crocodile</td><td>405</td><td>Nilkrokodil</td><td>Nile.Crocodile</td><td>Crocodylus_niloticus</td><td>NA</td><td>8501</td><td>Reptilia</td><td>Crocodilia  </td><td>Crocodylidae</td><td>⋯</td><td>NA</td><td>NA</td><td>NA</td><td>NA</td><td>NA</td><td>NA</td><td>NA</td><td>NA</td><td>X405_Nile_Crocodile</td><td>simple </td></tr>\n",
       "\t<tr><th scope=row>X67_European_Roe</th><td>X67_European_Roe   </td><td>67 </td><td>Reh        </td><td>European.Roe  </td><td>Capreolus_capreolus </td><td>NA</td><td>9858</td><td>Mammalia</td><td>Artiodactyla</td><td>Cervidae    </td><td>⋯</td><td>NA</td><td>NA</td><td>NA</td><td>NA</td><td>NA</td><td>NA</td><td>NA</td><td>NA</td><td>X67_European_Roe   </td><td>foregut</td></tr>\n",
       "</tbody>\n",
       "</table>\n"
      ],
      "text/latex": [
       "A data.frame: 179 × 90\n",
       "\\begin{tabular}{r|lllllllllllllllllllll}\n",
       "  & SampleID & host\\_subject\\_id & host\\_german\\_name & host\\_common\\_name & scientific\\_name & scientific\\_name\\_subspecies & host\\_taxid & class & order & family & ⋯ & i.CH4\\_L.d\\_mean & i.CH4\\_L.d\\_sd & i.CH4\\_L.kgBM\\_mean & i.CH4\\_L.kgBM\\_sd & i.CH4\\_g.d\\_mean & i.CH4\\_g.d\\_sd & i.CH4\\_kJ.d\\_mean & i.CH4\\_kJ.d\\_sd & Sample & dig\\_sys\\\\\n",
       "  & <chr> & <chr> & <chr> & <chr> & <chr> & <chr> & <int> & <chr> & <chr> & <chr> & ⋯ & <dbl> & <dbl> & <dbl> & <dbl> & <dbl> & <dbl> & <dbl> & <dbl> & <chr> & <chr>\\\\\n",
       "\\hline\n",
       "\tF14\\_Common\\_Bream & F14\\_Common\\_Bream & F14 & Brachse   & Common.Bream & Abramis\\_brama  & NA & 38527 & Actinopterygii & Cypriniformes & Cyprinidae & ⋯ &       NA &       NA &        NA &        NA &       NA &       NA &       NA &       NA & F14\\_Common\\_Bream & simple \\\\\n",
       "\tF35\\_Red\\_Deer & F35\\_Red\\_Deer     & F35 & Rothirsch & Red.Deer     & Cervus\\_elaphus & NA &  9860 & Mammalia       & Artiodactyla  & Cervidae   & ⋯ & 52.24132 & 27.18306 & 0.4858472 & 0.1686955 & 38.67117 & 21.30162 & 2066.942 & 1075.505 & F35\\_Red\\_Deer     & foregut\\\\\n",
       "\t⋮ & ⋮ & ⋮ & ⋮ & ⋮ & ⋮ & ⋮ & ⋮ & ⋮ & ⋮ & ⋮ & ⋱ & ⋮ & ⋮ & ⋮ & ⋮ & ⋮ & ⋮ & ⋮ & ⋮ & ⋮ & ⋮\\\\\n",
       "\tX405\\_Nile\\_Crocodile & X405\\_Nile\\_Crocodile & 405 & Nilkrokodil & Nile.Crocodile & Crocodylus\\_niloticus & NA & 8501 & Reptilia & Crocodilia   & Crocodylidae & ⋯ & NA & NA & NA & NA & NA & NA & NA & NA & X405\\_Nile\\_Crocodile & simple \\\\\n",
       "\tX67\\_European\\_Roe & X67\\_European\\_Roe    & 67  & Reh         & European.Roe   & Capreolus\\_capreolus  & NA & 9858 & Mammalia & Artiodactyla & Cervidae     & ⋯ & NA & NA & NA & NA & NA & NA & NA & NA & X67\\_European\\_Roe    & foregut\\\\\n",
       "\\end{tabular}\n"
      ],
      "text/markdown": [
       "\n",
       "A data.frame: 179 × 90\n",
       "\n",
       "| <!--/--> | SampleID &lt;chr&gt; | host_subject_id &lt;chr&gt; | host_german_name &lt;chr&gt; | host_common_name &lt;chr&gt; | scientific_name &lt;chr&gt; | scientific_name_subspecies &lt;chr&gt; | host_taxid &lt;int&gt; | class &lt;chr&gt; | order &lt;chr&gt; | family &lt;chr&gt; | ⋯ ⋯ | i.CH4_L.d_mean &lt;dbl&gt; | i.CH4_L.d_sd &lt;dbl&gt; | i.CH4_L.kgBM_mean &lt;dbl&gt; | i.CH4_L.kgBM_sd &lt;dbl&gt; | i.CH4_g.d_mean &lt;dbl&gt; | i.CH4_g.d_sd &lt;dbl&gt; | i.CH4_kJ.d_mean &lt;dbl&gt; | i.CH4_kJ.d_sd &lt;dbl&gt; | Sample &lt;chr&gt; | dig_sys &lt;chr&gt; |\n",
       "|---|---|---|---|---|---|---|---|---|---|---|---|---|---|---|---|---|---|---|---|---|---|\n",
       "| F14_Common_Bream | F14_Common_Bream | F14 | Brachse   | Common.Bream | Abramis_brama  | NA | 38527 | Actinopterygii | Cypriniformes | Cyprinidae | ⋯ |       NA |       NA |        NA |        NA |       NA |       NA |       NA |       NA | F14_Common_Bream | simple  |\n",
       "| F35_Red_Deer | F35_Red_Deer     | F35 | Rothirsch | Red.Deer     | Cervus_elaphus | NA |  9860 | Mammalia       | Artiodactyla  | Cervidae   | ⋯ | 52.24132 | 27.18306 | 0.4858472 | 0.1686955 | 38.67117 | 21.30162 | 2066.942 | 1075.505 | F35_Red_Deer     | foregut |\n",
       "| ⋮ | ⋮ | ⋮ | ⋮ | ⋮ | ⋮ | ⋮ | ⋮ | ⋮ | ⋮ | ⋮ | ⋱ | ⋮ | ⋮ | ⋮ | ⋮ | ⋮ | ⋮ | ⋮ | ⋮ | ⋮ | ⋮ |\n",
       "| X405_Nile_Crocodile | X405_Nile_Crocodile | 405 | Nilkrokodil | Nile.Crocodile | Crocodylus_niloticus | NA | 8501 | Reptilia | Crocodilia   | Crocodylidae | ⋯ | NA | NA | NA | NA | NA | NA | NA | NA | X405_Nile_Crocodile | simple  |\n",
       "| X67_European_Roe | X67_European_Roe    | 67  | Reh         | European.Roe   | Capreolus_capreolus  | NA | 9858 | Mammalia | Artiodactyla | Cervidae     | ⋯ | NA | NA | NA | NA | NA | NA | NA | NA | X67_European_Roe    | foregut |\n",
       "\n"
      ],
      "text/plain": [
       "                    SampleID            host_subject_id host_german_name\n",
       "F14_Common_Bream    F14_Common_Bream    F14             Brachse         \n",
       "F35_Red_Deer        F35_Red_Deer        F35             Rothirsch       \n",
       "⋮                   ⋮                   ⋮               ⋮               \n",
       "X405_Nile_Crocodile X405_Nile_Crocodile 405             Nilkrokodil     \n",
       "X67_European_Roe    X67_European_Roe    67              Reh             \n",
       "                    host_common_name scientific_name     \n",
       "F14_Common_Bream    Common.Bream     Abramis_brama       \n",
       "F35_Red_Deer        Red.Deer         Cervus_elaphus      \n",
       "⋮                   ⋮                ⋮                   \n",
       "X405_Nile_Crocodile Nile.Crocodile   Crocodylus_niloticus\n",
       "X67_European_Roe    European.Roe     Capreolus_capreolus \n",
       "                    scientific_name_subspecies host_taxid class         \n",
       "F14_Common_Bream    NA                         38527      Actinopterygii\n",
       "F35_Red_Deer        NA                          9860      Mammalia      \n",
       "⋮                   ⋮                          ⋮          ⋮             \n",
       "X405_Nile_Crocodile NA                         8501       Reptilia      \n",
       "X67_European_Roe    NA                         9858       Mammalia      \n",
       "                    order         family       ⋯ i.CH4_L.d_mean i.CH4_L.d_sd\n",
       "F14_Common_Bream    Cypriniformes Cyprinidae   ⋯       NA             NA    \n",
       "F35_Red_Deer        Artiodactyla  Cervidae     ⋯ 52.24132       27.18306    \n",
       "⋮                   ⋮             ⋮            ⋱ ⋮              ⋮           \n",
       "X405_Nile_Crocodile Crocodilia    Crocodylidae ⋯ NA             NA          \n",
       "X67_European_Roe    Artiodactyla  Cervidae     ⋯ NA             NA          \n",
       "                    i.CH4_L.kgBM_mean i.CH4_L.kgBM_sd i.CH4_g.d_mean\n",
       "F14_Common_Bream           NA                NA             NA      \n",
       "F35_Red_Deer        0.4858472         0.1686955       38.67117      \n",
       "⋮                   ⋮                 ⋮               ⋮             \n",
       "X405_Nile_Crocodile NA                NA              NA            \n",
       "X67_European_Roe    NA                NA              NA            \n",
       "                    i.CH4_g.d_sd i.CH4_kJ.d_mean i.CH4_kJ.d_sd\n",
       "F14_Common_Bream          NA           NA              NA     \n",
       "F35_Red_Deer        21.30162     2066.942        1075.505     \n",
       "⋮                   ⋮            ⋮               ⋮            \n",
       "X405_Nile_Crocodile NA           NA              NA           \n",
       "X67_European_Roe    NA           NA              NA           \n",
       "                    Sample              dig_sys\n",
       "F14_Common_Bream    F14_Common_Bream    simple \n",
       "F35_Red_Deer        F35_Red_Deer        foregut\n",
       "⋮                   ⋮                   ⋮      \n",
       "X405_Nile_Crocodile X405_Nile_Crocodile simple \n",
       "X67_European_Roe    X67_European_Roe    foregut"
      ]
     },
     "metadata": {},
     "output_type": "display_data"
    }
   ],
   "source": [
    "# metadata\n",
    "metadata = physeq %>% \n",
    "    phyloseq2df(sample_data) %>%\n",
    "    mutate(scientific_name = gsub(' ', '_', scientific_name),\n",
    "           digestive_system = gsub('fermentation activity ', '', digestive_system),\n",
    "           dig_sys = gsub('simple ', '', digestive_system)) %>%\n",
    "    as.data.frame\n",
    "rownames(metadata) = metadata$SampleID\n",
    "metadata "
   ]
  },
  {
   "cell_type": "code",
   "execution_count": 9,
   "metadata": {
    "ExecuteTime": {
     "end_time": "2020-09-05T12:26:04.653001Z",
     "start_time": "2020-09-05T12:25:54.323Z"
    }
   },
   "outputs": [
    {
     "data": {
      "text/html": [
       "<table>\n",
       "<caption>A matrix: 1 × 9 of type dbl</caption>\n",
       "<thead>\n",
       "\t<tr><th></th><th scope=col>Min.</th><th scope=col>1st Qu.</th><th scope=col>Median</th><th scope=col>Mean</th><th scope=col>3rd Qu.</th><th scope=col>Max.</th><th scope=col>NA's</th><th scope=col>sd</th><th scope=col>sd_err_of_mean</th></tr>\n",
       "</thead>\n",
       "<tbody>\n",
       "\t<tr><th scope=row>.</th><td>30.7</td><td>37.4</td><td>38.6</td><td>38.27883</td><td>39.5</td><td>41.9</td><td>42</td><td>3.802</td><td>1.437</td></tr>\n",
       "</tbody>\n",
       "</table>\n"
      ],
      "text/latex": [
       "A matrix: 1 × 9 of type dbl\n",
       "\\begin{tabular}{r|lllllllll}\n",
       "  & Min. & 1st Qu. & Median & Mean & 3rd Qu. & Max. & NA's & sd & sd\\_err\\_of\\_mean\\\\\n",
       "\\hline\n",
       "\t. & 30.7 & 37.4 & 38.6 & 38.27883 & 39.5 & 41.9 & 42 & 3.802 & 1.437\\\\\n",
       "\\end{tabular}\n"
      ],
      "text/markdown": [
       "\n",
       "A matrix: 1 × 9 of type dbl\n",
       "\n",
       "| <!--/--> | Min. | 1st Qu. | Median | Mean | 3rd Qu. | Max. | NA's | sd | sd_err_of_mean |\n",
       "|---|---|---|---|---|---|---|---|---|---|\n",
       "| . | 30.7 | 37.4 | 38.6 | 38.27883 | 39.5 | 41.9 | 42 | 3.802 | 1.437 |\n",
       "\n"
      ],
      "text/plain": [
       "  Min. 1st Qu. Median Mean     3rd Qu. Max. NA's sd    sd_err_of_mean\n",
       ". 30.7 37.4    38.6   38.27883 39.5    41.9 42   3.802 1.437         "
      ]
     },
     "metadata": {},
     "output_type": "display_data"
    },
    {
     "data": {
      "text/html": [
       "<table>\n",
       "<caption>A data.frame: 179 × 92</caption>\n",
       "<thead>\n",
       "\t<tr><th scope=col>SampleID</th><th scope=col>host_subject_id</th><th scope=col>host_german_name</th><th scope=col>host_common_name</th><th scope=col>scientific_name</th><th scope=col>scientific_name_subspecies</th><th scope=col>host_taxid</th><th scope=col>class</th><th scope=col>order</th><th scope=col>family</th><th scope=col>⋯</th><th scope=col>i.CH4_L.kgBM_mean</th><th scope=col>i.CH4_L.kgBM_sd</th><th scope=col>i.CH4_g.d_mean</th><th scope=col>i.CH4_g.d_sd</th><th scope=col>i.CH4_kJ.d_mean</th><th scope=col>i.CH4_kJ.d_sd</th><th scope=col>Sample</th><th scope=col>dig_sys</th><th scope=col>dataset_Tb</th><th scope=col>Tb</th></tr>\n",
       "\t<tr><th scope=col>&lt;chr&gt;</th><th scope=col>&lt;chr&gt;</th><th scope=col>&lt;chr&gt;</th><th scope=col>&lt;chr&gt;</th><th scope=col>&lt;chr&gt;</th><th scope=col>&lt;chr&gt;</th><th scope=col>&lt;int&gt;</th><th scope=col>&lt;chr&gt;</th><th scope=col>&lt;chr&gt;</th><th scope=col>&lt;chr&gt;</th><th scope=col>⋯</th><th scope=col>&lt;dbl&gt;</th><th scope=col>&lt;dbl&gt;</th><th scope=col>&lt;dbl&gt;</th><th scope=col>&lt;dbl&gt;</th><th scope=col>&lt;dbl&gt;</th><th scope=col>&lt;dbl&gt;</th><th scope=col>&lt;chr&gt;</th><th scope=col>&lt;chr&gt;</th><th scope=col>&lt;chr&gt;</th><th scope=col>&lt;dbl&gt;</th></tr>\n",
       "</thead>\n",
       "<tbody>\n",
       "\t<tr><td>F14_Common_Bream</td><td>F14</td><td>Brachse  </td><td>Common.Bream</td><td>Abramis_brama </td><td>NA</td><td>38527</td><td>Actinopterygii</td><td>Cypriniformes</td><td>Cyprinidae</td><td>⋯</td><td>       NA</td><td>       NA</td><td>      NA</td><td>      NA</td><td>      NA</td><td>      NA</td><td>F14_Common_Bream</td><td>simple </td><td>NA        </td><td>  NA</td></tr>\n",
       "\t<tr><td>F35_Red_Deer    </td><td>F35</td><td>Rothirsch</td><td>Red.Deer    </td><td>Cervus_elaphus</td><td>NA</td><td> 9860</td><td>Mammalia      </td><td>Artiodactyla </td><td>Cervidae  </td><td>⋯</td><td>0.4858472</td><td>0.1686955</td><td>38.67117</td><td>21.30162</td><td>2066.942</td><td>1075.505</td><td>F35_Red_Deer    </td><td>foregut</td><td>WalzerXXXX</td><td>38.6</td></tr>\n",
       "\t<tr><td>⋮</td><td>⋮</td><td>⋮</td><td>⋮</td><td>⋮</td><td>⋮</td><td>⋮</td><td>⋮</td><td>⋮</td><td>⋮</td><td>⋱</td><td>⋮</td><td>⋮</td><td>⋮</td><td>⋮</td><td>⋮</td><td>⋮</td><td>⋮</td><td>⋮</td><td>⋮</td><td>⋮</td></tr>\n",
       "\t<tr><td>X405_Nile_Crocodile</td><td>405</td><td>Nilkrokodil</td><td>Nile.Crocodile</td><td>Crocodylus_niloticus</td><td>NA</td><td>8501</td><td>Reptilia</td><td>Crocodilia  </td><td>Crocodylidae</td><td>⋯</td><td>NA</td><td>NA</td><td>NA</td><td>NA</td><td>NA</td><td>NA</td><td>X405_Nile_Crocodile</td><td>simple </td><td>NA        </td><td>  NA</td></tr>\n",
       "\t<tr><td>X67_European_Roe   </td><td>67 </td><td>Reh        </td><td>European.Roe  </td><td>Capreolus_capreolus </td><td>NA</td><td>9858</td><td>Mammalia</td><td>Artiodactyla</td><td>Cervidae    </td><td>⋯</td><td>NA</td><td>NA</td><td>NA</td><td>NA</td><td>NA</td><td>NA</td><td>X67_European_Roe   </td><td>foregut</td><td>WalzerXXXX</td><td>40.4</td></tr>\n",
       "</tbody>\n",
       "</table>\n"
      ],
      "text/latex": [
       "A data.frame: 179 × 92\n",
       "\\begin{tabular}{lllllllllllllllllllll}\n",
       " SampleID & host\\_subject\\_id & host\\_german\\_name & host\\_common\\_name & scientific\\_name & scientific\\_name\\_subspecies & host\\_taxid & class & order & family & ⋯ & i.CH4\\_L.kgBM\\_mean & i.CH4\\_L.kgBM\\_sd & i.CH4\\_g.d\\_mean & i.CH4\\_g.d\\_sd & i.CH4\\_kJ.d\\_mean & i.CH4\\_kJ.d\\_sd & Sample & dig\\_sys & dataset\\_Tb & Tb\\\\\n",
       " <chr> & <chr> & <chr> & <chr> & <chr> & <chr> & <int> & <chr> & <chr> & <chr> & ⋯ & <dbl> & <dbl> & <dbl> & <dbl> & <dbl> & <dbl> & <chr> & <chr> & <chr> & <dbl>\\\\\n",
       "\\hline\n",
       "\t F14\\_Common\\_Bream & F14 & Brachse   & Common.Bream & Abramis\\_brama  & NA & 38527 & Actinopterygii & Cypriniformes & Cyprinidae & ⋯ &        NA &        NA &       NA &       NA &       NA &       NA & F14\\_Common\\_Bream & simple  & NA         &   NA\\\\\n",
       "\t F35\\_Red\\_Deer     & F35 & Rothirsch & Red.Deer     & Cervus\\_elaphus & NA &  9860 & Mammalia       & Artiodactyla  & Cervidae   & ⋯ & 0.4858472 & 0.1686955 & 38.67117 & 21.30162 & 2066.942 & 1075.505 & F35\\_Red\\_Deer     & foregut & WalzerXXXX & 38.6\\\\\n",
       "\t ⋮ & ⋮ & ⋮ & ⋮ & ⋮ & ⋮ & ⋮ & ⋮ & ⋮ & ⋮ & ⋱ & ⋮ & ⋮ & ⋮ & ⋮ & ⋮ & ⋮ & ⋮ & ⋮ & ⋮ & ⋮\\\\\n",
       "\t X405\\_Nile\\_Crocodile & 405 & Nilkrokodil & Nile.Crocodile & Crocodylus\\_niloticus & NA & 8501 & Reptilia & Crocodilia   & Crocodylidae & ⋯ & NA & NA & NA & NA & NA & NA & X405\\_Nile\\_Crocodile & simple  & NA         &   NA\\\\\n",
       "\t X67\\_European\\_Roe    & 67  & Reh         & European.Roe   & Capreolus\\_capreolus  & NA & 9858 & Mammalia & Artiodactyla & Cervidae     & ⋯ & NA & NA & NA & NA & NA & NA & X67\\_European\\_Roe    & foregut & WalzerXXXX & 40.4\\\\\n",
       "\\end{tabular}\n"
      ],
      "text/markdown": [
       "\n",
       "A data.frame: 179 × 92\n",
       "\n",
       "| SampleID &lt;chr&gt; | host_subject_id &lt;chr&gt; | host_german_name &lt;chr&gt; | host_common_name &lt;chr&gt; | scientific_name &lt;chr&gt; | scientific_name_subspecies &lt;chr&gt; | host_taxid &lt;int&gt; | class &lt;chr&gt; | order &lt;chr&gt; | family &lt;chr&gt; | ⋯ ⋯ | i.CH4_L.kgBM_mean &lt;dbl&gt; | i.CH4_L.kgBM_sd &lt;dbl&gt; | i.CH4_g.d_mean &lt;dbl&gt; | i.CH4_g.d_sd &lt;dbl&gt; | i.CH4_kJ.d_mean &lt;dbl&gt; | i.CH4_kJ.d_sd &lt;dbl&gt; | Sample &lt;chr&gt; | dig_sys &lt;chr&gt; | dataset_Tb &lt;chr&gt; | Tb &lt;dbl&gt; |\n",
       "|---|---|---|---|---|---|---|---|---|---|---|---|---|---|---|---|---|---|---|---|---|\n",
       "| F14_Common_Bream | F14 | Brachse   | Common.Bream | Abramis_brama  | NA | 38527 | Actinopterygii | Cypriniformes | Cyprinidae | ⋯ |        NA |        NA |       NA |       NA |       NA |       NA | F14_Common_Bream | simple  | NA         |   NA |\n",
       "| F35_Red_Deer     | F35 | Rothirsch | Red.Deer     | Cervus_elaphus | NA |  9860 | Mammalia       | Artiodactyla  | Cervidae   | ⋯ | 0.4858472 | 0.1686955 | 38.67117 | 21.30162 | 2066.942 | 1075.505 | F35_Red_Deer     | foregut | WalzerXXXX | 38.6 |\n",
       "| ⋮ | ⋮ | ⋮ | ⋮ | ⋮ | ⋮ | ⋮ | ⋮ | ⋮ | ⋮ | ⋱ | ⋮ | ⋮ | ⋮ | ⋮ | ⋮ | ⋮ | ⋮ | ⋮ | ⋮ | ⋮ |\n",
       "| X405_Nile_Crocodile | 405 | Nilkrokodil | Nile.Crocodile | Crocodylus_niloticus | NA | 8501 | Reptilia | Crocodilia   | Crocodylidae | ⋯ | NA | NA | NA | NA | NA | NA | X405_Nile_Crocodile | simple  | NA         |   NA |\n",
       "| X67_European_Roe    | 67  | Reh         | European.Roe   | Capreolus_capreolus  | NA | 9858 | Mammalia | Artiodactyla | Cervidae     | ⋯ | NA | NA | NA | NA | NA | NA | X67_European_Roe    | foregut | WalzerXXXX | 40.4 |\n",
       "\n"
      ],
      "text/plain": [
       "    SampleID            host_subject_id host_german_name host_common_name\n",
       "1   F14_Common_Bream    F14             Brachse          Common.Bream    \n",
       "2   F35_Red_Deer        F35             Rothirsch        Red.Deer        \n",
       "⋮   ⋮                   ⋮               ⋮                ⋮               \n",
       "178 X405_Nile_Crocodile 405             Nilkrokodil      Nile.Crocodile  \n",
       "179 X67_European_Roe    67              Reh              European.Roe    \n",
       "    scientific_name      scientific_name_subspecies host_taxid class         \n",
       "1   Abramis_brama        NA                         38527      Actinopterygii\n",
       "2   Cervus_elaphus       NA                          9860      Mammalia      \n",
       "⋮   ⋮                    ⋮                          ⋮          ⋮             \n",
       "178 Crocodylus_niloticus NA                         8501       Reptilia      \n",
       "179 Capreolus_capreolus  NA                         9858       Mammalia      \n",
       "    order         family       ⋯ i.CH4_L.kgBM_mean i.CH4_L.kgBM_sd\n",
       "1   Cypriniformes Cyprinidae   ⋯        NA                NA      \n",
       "2   Artiodactyla  Cervidae     ⋯ 0.4858472         0.1686955      \n",
       "⋮   ⋮             ⋮            ⋱ ⋮                 ⋮              \n",
       "178 Crocodilia    Crocodylidae ⋯ NA                NA             \n",
       "179 Artiodactyla  Cervidae     ⋯ NA                NA             \n",
       "    i.CH4_g.d_mean i.CH4_g.d_sd i.CH4_kJ.d_mean i.CH4_kJ.d_sd\n",
       "1         NA             NA           NA              NA     \n",
       "2   38.67117       21.30162     2066.942        1075.505     \n",
       "⋮   ⋮              ⋮            ⋮               ⋮            \n",
       "178 NA             NA           NA              NA           \n",
       "179 NA             NA           NA              NA           \n",
       "    Sample              dig_sys dataset_Tb Tb  \n",
       "1   F14_Common_Bream    simple  NA           NA\n",
       "2   F35_Red_Deer        foregut WalzerXXXX 38.6\n",
       "⋮   ⋮                   ⋮       ⋮          ⋮   \n",
       "178 X405_Nile_Crocodile simple  NA           NA\n",
       "179 X67_European_Roe    foregut WalzerXXXX 40.4"
      ]
     },
     "metadata": {},
     "output_type": "display_data"
    }
   ],
   "source": [
    "# body temp\n",
    "metadata = metadata %>%\n",
    "    inner_join(read.delim(Tb_file) %>% \n",
    "                   dplyr::select(scientific_name, dataset, Tb) %>%\n",
    "                   mutate(scientific_name = gsub(' ', '_', scientific_name)),\n",
    "               c('scientific_name')) %>%\n",
    "    rename('dataset_Tb' = dataset)\n",
    "\n",
    "metadata %>% .$Tb %>% summary_x\n",
    "metadata "
   ]
  },
  {
   "cell_type": "markdown",
   "metadata": {},
   "source": [
    "## Format"
   ]
  },
  {
   "cell_type": "code",
   "execution_count": 10,
   "metadata": {
    "ExecuteTime": {
     "end_time": "2020-09-05T12:26:04.700153Z",
     "start_time": "2020-09-05T12:25:54.328Z"
    }
   },
   "outputs": [
    {
     "data": {
      "text/html": [
       "<table>\n",
       "<caption>A data.frame: 179 × 6</caption>\n",
       "<thead>\n",
       "\t<tr><th></th><th scope=col>Tb</th><th scope=col>Archaea;Euryarchaeota;Methanobacteria;Methanobacteriales;Methanobacteriaceae;Methanobacterium</th><th scope=col>Archaea;Euryarchaeota;Methanobacteria;Methanobacteriales;Methanobacteriaceae;Methanobrevibacter</th><th scope=col>Archaea;Euryarchaeota;Methanobacteria;Methanobacteriales;Methanobacteriaceae;Methanosphaera</th><th scope=col>Archaea;Euryarchaeota;Methanobacteria;Methanobacteriales;Methanobacteriaceae;unclassified</th><th scope=col>Archaea;Euryarchaeota;Methanobacteria;Methanobacteriales;Methanothermobacteraceae;Methanothermobacter</th></tr>\n",
       "\t<tr><th></th><th scope=col>&lt;dbl&gt;</th><th scope=col>&lt;int&gt;</th><th scope=col>&lt;int&gt;</th><th scope=col>&lt;int&gt;</th><th scope=col>&lt;int&gt;</th><th scope=col>&lt;int&gt;</th></tr>\n",
       "</thead>\n",
       "<tbody>\n",
       "\t<tr><th scope=row>F14_Common_Bream</th><td>  NA</td><td>4</td><td>1</td><td>0</td><td>0</td><td>0</td></tr>\n",
       "\t<tr><th scope=row>F157a_European_Toad</th><td>38.6</td><td>0</td><td>1</td><td>0</td><td>0</td><td>0</td></tr>\n",
       "\t<tr><th scope=row>⋮</th><td>⋮</td><td>⋮</td><td>⋮</td><td>⋮</td><td>⋮</td><td>⋮</td></tr>\n",
       "\t<tr><th scope=row>X94_Mangalica</th><td>  NA</td><td>0</td><td>3</td><td>0</td><td>0</td><td>2</td></tr>\n",
       "\t<tr><th scope=row>X96_European_Hare</th><td>40.4</td><td>0</td><td>1</td><td>4</td><td>0</td><td>1</td></tr>\n",
       "</tbody>\n",
       "</table>\n"
      ],
      "text/latex": [
       "A data.frame: 179 × 6\n",
       "\\begin{tabular}{r|llllll}\n",
       "  & Tb & Archaea;Euryarchaeota;Methanobacteria;Methanobacteriales;Methanobacteriaceae;Methanobacterium & Archaea;Euryarchaeota;Methanobacteria;Methanobacteriales;Methanobacteriaceae;Methanobrevibacter & Archaea;Euryarchaeota;Methanobacteria;Methanobacteriales;Methanobacteriaceae;Methanosphaera & Archaea;Euryarchaeota;Methanobacteria;Methanobacteriales;Methanobacteriaceae;unclassified & Archaea;Euryarchaeota;Methanobacteria;Methanobacteriales;Methanothermobacteraceae;Methanothermobacter\\\\\n",
       "  & <dbl> & <int> & <int> & <int> & <int> & <int>\\\\\n",
       "\\hline\n",
       "\tF14\\_Common\\_Bream &   NA & 4 & 1 & 0 & 0 & 0\\\\\n",
       "\tF157a\\_European\\_Toad & 38.6 & 0 & 1 & 0 & 0 & 0\\\\\n",
       "\t⋮ & ⋮ & ⋮ & ⋮ & ⋮ & ⋮ & ⋮\\\\\n",
       "\tX94\\_Mangalica &   NA & 0 & 3 & 0 & 0 & 2\\\\\n",
       "\tX96\\_European\\_Hare & 40.4 & 0 & 1 & 4 & 0 & 1\\\\\n",
       "\\end{tabular}\n"
      ],
      "text/markdown": [
       "\n",
       "A data.frame: 179 × 6\n",
       "\n",
       "| <!--/--> | Tb &lt;dbl&gt; | Archaea;Euryarchaeota;Methanobacteria;Methanobacteriales;Methanobacteriaceae;Methanobacterium &lt;int&gt; | Archaea;Euryarchaeota;Methanobacteria;Methanobacteriales;Methanobacteriaceae;Methanobrevibacter &lt;int&gt; | Archaea;Euryarchaeota;Methanobacteria;Methanobacteriales;Methanobacteriaceae;Methanosphaera &lt;int&gt; | Archaea;Euryarchaeota;Methanobacteria;Methanobacteriales;Methanobacteriaceae;unclassified &lt;int&gt; | Archaea;Euryarchaeota;Methanobacteria;Methanobacteriales;Methanothermobacteraceae;Methanothermobacter &lt;int&gt; |\n",
       "|---|---|---|---|---|---|---|\n",
       "| F14_Common_Bream |   NA | 4 | 1 | 0 | 0 | 0 |\n",
       "| F157a_European_Toad | 38.6 | 0 | 1 | 0 | 0 | 0 |\n",
       "| ⋮ | ⋮ | ⋮ | ⋮ | ⋮ | ⋮ | ⋮ |\n",
       "| X94_Mangalica |   NA | 0 | 3 | 0 | 0 | 2 |\n",
       "| X96_European_Hare | 40.4 | 0 | 1 | 4 | 0 | 1 |\n",
       "\n"
      ],
      "text/plain": [
       "                    Tb  \n",
       "F14_Common_Bream      NA\n",
       "F157a_European_Toad 38.6\n",
       "⋮                   ⋮   \n",
       "X94_Mangalica         NA\n",
       "X96_European_Hare   40.4\n",
       "                    Archaea;Euryarchaeota;Methanobacteria;Methanobacteriales;Methanobacteriaceae;Methanobacterium\n",
       "F14_Common_Bream    4                                                                                            \n",
       "F157a_European_Toad 0                                                                                            \n",
       "⋮                   ⋮                                                                                            \n",
       "X94_Mangalica       0                                                                                            \n",
       "X96_European_Hare   0                                                                                            \n",
       "                    Archaea;Euryarchaeota;Methanobacteria;Methanobacteriales;Methanobacteriaceae;Methanobrevibacter\n",
       "F14_Common_Bream    1                                                                                              \n",
       "F157a_European_Toad 1                                                                                              \n",
       "⋮                   ⋮                                                                                              \n",
       "X94_Mangalica       3                                                                                              \n",
       "X96_European_Hare   1                                                                                              \n",
       "                    Archaea;Euryarchaeota;Methanobacteria;Methanobacteriales;Methanobacteriaceae;Methanosphaera\n",
       "F14_Common_Bream    0                                                                                          \n",
       "F157a_European_Toad 0                                                                                          \n",
       "⋮                   ⋮                                                                                          \n",
       "X94_Mangalica       0                                                                                          \n",
       "X96_European_Hare   4                                                                                          \n",
       "                    Archaea;Euryarchaeota;Methanobacteria;Methanobacteriales;Methanobacteriaceae;unclassified\n",
       "F14_Common_Bream    0                                                                                        \n",
       "F157a_European_Toad 0                                                                                        \n",
       "⋮                   ⋮                                                                                        \n",
       "X94_Mangalica       0                                                                                        \n",
       "X96_European_Hare   0                                                                                        \n",
       "                    Archaea;Euryarchaeota;Methanobacteria;Methanobacteriales;Methanothermobacteraceae;Methanothermobacter\n",
       "F14_Common_Bream    0                                                                                                    \n",
       "F157a_European_Toad 0                                                                                                    \n",
       "⋮                   ⋮                                                                                                    \n",
       "X94_Mangalica       2                                                                                                    \n",
       "X96_European_Hare   1                                                                                                    "
      ]
     },
     "metadata": {},
     "output_type": "display_data"
    }
   ],
   "source": [
    "vars = c('Tb')\n",
    "otu = cbind(metadata[,vars, drop=FALSE], otu)\n",
    "otu"
   ]
  },
  {
   "cell_type": "markdown",
   "metadata": {},
   "source": [
    "## Filtering"
   ]
  },
  {
   "cell_type": "code",
   "execution_count": 11,
   "metadata": {
    "ExecuteTime": {
     "end_time": "2020-09-05T12:26:04.753359Z",
     "start_time": "2020-09-05T12:25:54.337Z"
    }
   },
   "outputs": [
    {
     "data": {
      "text/plain": [
       "   Min. 1st Qu.  Median    Mean 3rd Qu.    Max. \n",
       "  30.70   37.40   38.60   38.28   39.50   41.90 "
      ]
     },
     "metadata": {},
     "output_type": "display_data"
    },
    {
     "data": {
      "text/html": [
       "<table>\n",
       "<caption>A data.frame: 137 × 6</caption>\n",
       "<thead>\n",
       "\t<tr><th></th><th scope=col>Tb</th><th scope=col>Archaea;Euryarchaeota;Methanobacteria;Methanobacteriales;Methanobacteriaceae;Methanobacterium</th><th scope=col>Archaea;Euryarchaeota;Methanobacteria;Methanobacteriales;Methanobacteriaceae;Methanobrevibacter</th><th scope=col>Archaea;Euryarchaeota;Methanobacteria;Methanobacteriales;Methanobacteriaceae;Methanosphaera</th><th scope=col>Archaea;Euryarchaeota;Methanobacteria;Methanobacteriales;Methanobacteriaceae;unclassified</th><th scope=col>Archaea;Euryarchaeota;Methanobacteria;Methanobacteriales;Methanothermobacteraceae;Methanothermobacter</th></tr>\n",
       "\t<tr><th></th><th scope=col>&lt;dbl&gt;</th><th scope=col>&lt;int&gt;</th><th scope=col>&lt;int&gt;</th><th scope=col>&lt;int&gt;</th><th scope=col>&lt;int&gt;</th><th scope=col>&lt;int&gt;</th></tr>\n",
       "</thead>\n",
       "<tbody>\n",
       "\t<tr><th scope=row>F157a_European_Toad</th><td>38.6</td><td>0</td><td>1</td><td>0</td><td>0</td><td>0</td></tr>\n",
       "\t<tr><th scope=row>F35_Red_Deer</th><td>38.6</td><td>0</td><td>8</td><td>4</td><td>0</td><td>0</td></tr>\n",
       "\t<tr><th scope=row>⋮</th><td>⋮</td><td>⋮</td><td>⋮</td><td>⋮</td><td>⋮</td><td>⋮</td></tr>\n",
       "\t<tr><th scope=row>X93_Red_Sheep</th><td>37.0</td><td>0</td><td>17</td><td>1</td><td>0</td><td>9</td></tr>\n",
       "\t<tr><th scope=row>X96_European_Hare</th><td>40.4</td><td>0</td><td> 1</td><td>4</td><td>0</td><td>1</td></tr>\n",
       "</tbody>\n",
       "</table>\n"
      ],
      "text/latex": [
       "A data.frame: 137 × 6\n",
       "\\begin{tabular}{r|llllll}\n",
       "  & Tb & Archaea;Euryarchaeota;Methanobacteria;Methanobacteriales;Methanobacteriaceae;Methanobacterium & Archaea;Euryarchaeota;Methanobacteria;Methanobacteriales;Methanobacteriaceae;Methanobrevibacter & Archaea;Euryarchaeota;Methanobacteria;Methanobacteriales;Methanobacteriaceae;Methanosphaera & Archaea;Euryarchaeota;Methanobacteria;Methanobacteriales;Methanobacteriaceae;unclassified & Archaea;Euryarchaeota;Methanobacteria;Methanobacteriales;Methanothermobacteraceae;Methanothermobacter\\\\\n",
       "  & <dbl> & <int> & <int> & <int> & <int> & <int>\\\\\n",
       "\\hline\n",
       "\tF157a\\_European\\_Toad & 38.6 & 0 & 1 & 0 & 0 & 0\\\\\n",
       "\tF35\\_Red\\_Deer & 38.6 & 0 & 8 & 4 & 0 & 0\\\\\n",
       "\t⋮ & ⋮ & ⋮ & ⋮ & ⋮ & ⋮ & ⋮\\\\\n",
       "\tX93\\_Red\\_Sheep & 37.0 & 0 & 17 & 1 & 0 & 9\\\\\n",
       "\tX96\\_European\\_Hare & 40.4 & 0 &  1 & 4 & 0 & 1\\\\\n",
       "\\end{tabular}\n"
      ],
      "text/markdown": [
       "\n",
       "A data.frame: 137 × 6\n",
       "\n",
       "| <!--/--> | Tb &lt;dbl&gt; | Archaea;Euryarchaeota;Methanobacteria;Methanobacteriales;Methanobacteriaceae;Methanobacterium &lt;int&gt; | Archaea;Euryarchaeota;Methanobacteria;Methanobacteriales;Methanobacteriaceae;Methanobrevibacter &lt;int&gt; | Archaea;Euryarchaeota;Methanobacteria;Methanobacteriales;Methanobacteriaceae;Methanosphaera &lt;int&gt; | Archaea;Euryarchaeota;Methanobacteria;Methanobacteriales;Methanobacteriaceae;unclassified &lt;int&gt; | Archaea;Euryarchaeota;Methanobacteria;Methanobacteriales;Methanothermobacteraceae;Methanothermobacter &lt;int&gt; |\n",
       "|---|---|---|---|---|---|---|\n",
       "| F157a_European_Toad | 38.6 | 0 | 1 | 0 | 0 | 0 |\n",
       "| F35_Red_Deer | 38.6 | 0 | 8 | 4 | 0 | 0 |\n",
       "| ⋮ | ⋮ | ⋮ | ⋮ | ⋮ | ⋮ | ⋮ |\n",
       "| X93_Red_Sheep | 37.0 | 0 | 17 | 1 | 0 | 9 |\n",
       "| X96_European_Hare | 40.4 | 0 |  1 | 4 | 0 | 1 |\n",
       "\n"
      ],
      "text/plain": [
       "                    Tb  \n",
       "F157a_European_Toad 38.6\n",
       "F35_Red_Deer        38.6\n",
       "⋮                   ⋮   \n",
       "X93_Red_Sheep       37.0\n",
       "X96_European_Hare   40.4\n",
       "                    Archaea;Euryarchaeota;Methanobacteria;Methanobacteriales;Methanobacteriaceae;Methanobacterium\n",
       "F157a_European_Toad 0                                                                                            \n",
       "F35_Red_Deer        0                                                                                            \n",
       "⋮                   ⋮                                                                                            \n",
       "X93_Red_Sheep       0                                                                                            \n",
       "X96_European_Hare   0                                                                                            \n",
       "                    Archaea;Euryarchaeota;Methanobacteria;Methanobacteriales;Methanobacteriaceae;Methanobrevibacter\n",
       "F157a_European_Toad 1                                                                                              \n",
       "F35_Red_Deer        8                                                                                              \n",
       "⋮                   ⋮                                                                                              \n",
       "X93_Red_Sheep       17                                                                                             \n",
       "X96_European_Hare    1                                                                                             \n",
       "                    Archaea;Euryarchaeota;Methanobacteria;Methanobacteriales;Methanobacteriaceae;Methanosphaera\n",
       "F157a_European_Toad 0                                                                                          \n",
       "F35_Red_Deer        4                                                                                          \n",
       "⋮                   ⋮                                                                                          \n",
       "X93_Red_Sheep       1                                                                                          \n",
       "X96_European_Hare   4                                                                                          \n",
       "                    Archaea;Euryarchaeota;Methanobacteria;Methanobacteriales;Methanobacteriaceae;unclassified\n",
       "F157a_European_Toad 0                                                                                        \n",
       "F35_Red_Deer        0                                                                                        \n",
       "⋮                   ⋮                                                                                        \n",
       "X93_Red_Sheep       0                                                                                        \n",
       "X96_European_Hare   0                                                                                        \n",
       "                    Archaea;Euryarchaeota;Methanobacteria;Methanobacteriales;Methanothermobacteraceae;Methanothermobacter\n",
       "F157a_European_Toad 0                                                                                                    \n",
       "F35_Red_Deer        0                                                                                                    \n",
       "⋮                   ⋮                                                                                                    \n",
       "X93_Red_Sheep       9                                                                                                    \n",
       "X96_European_Hare   1                                                                                                    "
      ]
     },
     "metadata": {},
     "output_type": "display_data"
    }
   ],
   "source": [
    "# filtering otu\n",
    "otu = otu[!is.na(otu$Tb),]\n",
    "otu$Tb %>% summary\n",
    "otu"
   ]
  },
  {
   "cell_type": "code",
   "execution_count": 12,
   "metadata": {
    "ExecuteTime": {
     "end_time": "2020-09-05T12:26:04.787240Z",
     "start_time": "2020-09-05T12:25:54.343Z"
    }
   },
   "outputs": [
    {
     "data": {
      "text/plain": [
       "\n",
       "Phylogenetic tree with 137 tips and 136 internal nodes.\n",
       "\n",
       "Tip labels:\n",
       "\tX179_Roach, X330_Ide, X125_Common_Carp, X350_Smooth_Newt, X349_Smooth_Newt, X194_Agile_Frog, ...\n",
       "Node labels:\n",
       "\t, @_20_@, @_14_@, @_197_@, @_28_@, NA, ...\n",
       "\n",
       "Rooted; includes branch lengths."
      ]
     },
     "metadata": {},
     "output_type": "display_data"
    }
   ],
   "source": [
    "# filtering tree\n",
    "to_rm = setdiff(host_tree$tip.label, rownames(otu))\n",
    "host_tree = ape::drop.tip(host_tree, to_rm)\n",
    "host_tree"
   ]
  },
  {
   "cell_type": "code",
   "execution_count": 13,
   "metadata": {
    "ExecuteTime": {
     "end_time": "2020-09-05T12:26:04.813580Z",
     "start_time": "2020-09-05T12:25:54.346Z"
    }
   },
   "outputs": [
    {
     "name": "stdout",
     "output_type": "stream",
     "text": [
      "intersect(x,y): 137 \n",
      "setdiff(x,y): 0 \n",
      "setdiff(y,x): 0 \n",
      "union(x,y): 137 \n"
     ]
    }
   ],
   "source": [
    "# checking overlap\n",
    "overlap(host_tree$tip.label, rownames(otu))"
   ]
  },
  {
   "cell_type": "markdown",
   "metadata": {},
   "source": [
    "# Plotting"
   ]
  },
  {
   "cell_type": "code",
   "execution_count": 14,
   "metadata": {
    "ExecuteTime": {
     "end_time": "2020-09-05T12:26:04.889290Z",
     "start_time": "2020-09-05T12:25:54.351Z"
    }
   },
   "outputs": [
    {
     "data": {
      "text/html": [
       "<table>\n",
       "<caption>A tibble: 188 × 8</caption>\n",
       "<thead>\n",
       "\t<tr><th scope=col>Domain</th><th scope=col>Phylum</th><th scope=col>Class</th><th scope=col>Order</th><th scope=col>Family</th><th scope=col>Genus</th><th scope=col>Species</th><th scope=col>OTU</th></tr>\n",
       "\t<tr><th scope=col>&lt;chr&gt;</th><th scope=col>&lt;chr&gt;</th><th scope=col>&lt;chr&gt;</th><th scope=col>&lt;chr&gt;</th><th scope=col>&lt;chr&gt;</th><th scope=col>&lt;chr&gt;</th><th scope=col>&lt;chr&gt;</th><th scope=col>&lt;chr&gt;</th></tr>\n",
       "</thead>\n",
       "<tbody>\n",
       "\t<tr><td>Archaea</td><td>Euryarchaeota</td><td>Methanobacteria</td><td>Methanobacteriales</td><td>Methanobacteriaceae</td><td>Methanobrevibacter</td><td>unclassified</td><td>b9654a42cc8eefb1cbb0daba005335ff  </td></tr>\n",
       "\t<tr><td>Archaea</td><td>Euryarchaeota</td><td>Methanobacteria</td><td>Methanobacteriales</td><td>Methanobacteriaceae</td><td>Methanobrevibacter</td><td>unclassified</td><td>X_5cd4fe5cb79cdf4841549e580ea5a27f</td></tr>\n",
       "\t<tr><td>⋮</td><td>⋮</td><td>⋮</td><td>⋮</td><td>⋮</td><td>⋮</td><td>⋮</td><td>⋮</td></tr>\n",
       "\t<tr><td>Archaea</td><td>Euryarchaeota</td><td>Methanobacteria</td><td>Methanobacteriales</td><td>Methanobacteriaceae</td><td>Methanobrevibacter</td><td>unclassified     </td><td>X_36fd5c55ad082f4d05194157da9d13da</td></tr>\n",
       "\t<tr><td>Archaea</td><td>Euryarchaeota</td><td>Methanobacteria</td><td>Methanobacteriales</td><td>Methanobacteriaceae</td><td>Methanobrevibacter</td><td>Haemonchus placei</td><td>d7dd0bdd8184f8cb7189e1e09afa97d0  </td></tr>\n",
       "</tbody>\n",
       "</table>\n"
      ],
      "text/latex": [
       "A tibble: 188 × 8\n",
       "\\begin{tabular}{llllllll}\n",
       " Domain & Phylum & Class & Order & Family & Genus & Species & OTU\\\\\n",
       " <chr> & <chr> & <chr> & <chr> & <chr> & <chr> & <chr> & <chr>\\\\\n",
       "\\hline\n",
       "\t Archaea & Euryarchaeota & Methanobacteria & Methanobacteriales & Methanobacteriaceae & Methanobrevibacter & unclassified & b9654a42cc8eefb1cbb0daba005335ff  \\\\\n",
       "\t Archaea & Euryarchaeota & Methanobacteria & Methanobacteriales & Methanobacteriaceae & Methanobrevibacter & unclassified & X\\_5cd4fe5cb79cdf4841549e580ea5a27f\\\\\n",
       "\t ⋮ & ⋮ & ⋮ & ⋮ & ⋮ & ⋮ & ⋮ & ⋮\\\\\n",
       "\t Archaea & Euryarchaeota & Methanobacteria & Methanobacteriales & Methanobacteriaceae & Methanobrevibacter & unclassified      & X\\_36fd5c55ad082f4d05194157da9d13da\\\\\n",
       "\t Archaea & Euryarchaeota & Methanobacteria & Methanobacteriales & Methanobacteriaceae & Methanobrevibacter & Haemonchus placei & d7dd0bdd8184f8cb7189e1e09afa97d0  \\\\\n",
       "\\end{tabular}\n"
      ],
      "text/markdown": [
       "\n",
       "A tibble: 188 × 8\n",
       "\n",
       "| Domain &lt;chr&gt; | Phylum &lt;chr&gt; | Class &lt;chr&gt; | Order &lt;chr&gt; | Family &lt;chr&gt; | Genus &lt;chr&gt; | Species &lt;chr&gt; | OTU &lt;chr&gt; |\n",
       "|---|---|---|---|---|---|---|---|\n",
       "| Archaea | Euryarchaeota | Methanobacteria | Methanobacteriales | Methanobacteriaceae | Methanobrevibacter | unclassified | b9654a42cc8eefb1cbb0daba005335ff   |\n",
       "| Archaea | Euryarchaeota | Methanobacteria | Methanobacteriales | Methanobacteriaceae | Methanobrevibacter | unclassified | X_5cd4fe5cb79cdf4841549e580ea5a27f |\n",
       "| ⋮ | ⋮ | ⋮ | ⋮ | ⋮ | ⋮ | ⋮ | ⋮ |\n",
       "| Archaea | Euryarchaeota | Methanobacteria | Methanobacteriales | Methanobacteriaceae | Methanobrevibacter | unclassified      | X_36fd5c55ad082f4d05194157da9d13da |\n",
       "| Archaea | Euryarchaeota | Methanobacteria | Methanobacteriales | Methanobacteriaceae | Methanobrevibacter | Haemonchus placei | d7dd0bdd8184f8cb7189e1e09afa97d0   |\n",
       "\n"
      ],
      "text/plain": [
       "    Domain  Phylum        Class           Order             \n",
       "1   Archaea Euryarchaeota Methanobacteria Methanobacteriales\n",
       "2   Archaea Euryarchaeota Methanobacteria Methanobacteriales\n",
       "⋮   ⋮       ⋮             ⋮               ⋮                 \n",
       "187 Archaea Euryarchaeota Methanobacteria Methanobacteriales\n",
       "188 Archaea Euryarchaeota Methanobacteria Methanobacteriales\n",
       "    Family              Genus              Species          \n",
       "1   Methanobacteriaceae Methanobrevibacter unclassified     \n",
       "2   Methanobacteriaceae Methanobrevibacter unclassified     \n",
       "⋮   ⋮                   ⋮                  ⋮                \n",
       "187 Methanobacteriaceae Methanobrevibacter unclassified     \n",
       "188 Methanobacteriaceae Methanobrevibacter Haemonchus placei\n",
       "    OTU                               \n",
       "1   b9654a42cc8eefb1cbb0daba005335ff  \n",
       "2   X_5cd4fe5cb79cdf4841549e580ea5a27f\n",
       "⋮   ⋮                                 \n",
       "187 X_36fd5c55ad082f4d05194157da9d13da\n",
       "188 d7dd0bdd8184f8cb7189e1e09afa97d0  "
      ]
     },
     "metadata": {},
     "output_type": "display_data"
    }
   ],
   "source": [
    "tax = physeq %>%\n",
    "    phyloseq2df(tax_table) %>%\n",
    "    mutate(OTU = gsub('^([0-9])', 'X_\\\\1', OTU))\n",
    "tax"
   ]
  },
  {
   "cell_type": "code",
   "execution_count": 15,
   "metadata": {
    "ExecuteTime": {
     "end_time": "2020-09-05T12:26:05.008659Z",
     "start_time": "2020-09-05T12:25:54.357Z"
    }
   },
   "outputs": [
    {
     "data": {
      "text/html": [
       "<table>\n",
       "<caption>A data.frame: 545 × 94</caption>\n",
       "<thead>\n",
       "\t<tr><th scope=col>Sample</th><th scope=col>OTU</th><th scope=col>richness</th><th scope=col>host_subject_id</th><th scope=col>host_german_name</th><th scope=col>host_common_name</th><th scope=col>scientific_name</th><th scope=col>scientific_name_subspecies</th><th scope=col>host_taxid</th><th scope=col>class</th><th scope=col>⋯</th><th scope=col>i.CH4_L.kgBM_mean</th><th scope=col>i.CH4_L.kgBM_sd</th><th scope=col>i.CH4_g.d_mean</th><th scope=col>i.CH4_g.d_sd</th><th scope=col>i.CH4_kJ.d_mean</th><th scope=col>i.CH4_kJ.d_sd</th><th scope=col>Sample.y</th><th scope=col>dig_sys</th><th scope=col>dataset_Tb</th><th scope=col>Tb</th></tr>\n",
       "\t<tr><th scope=col>&lt;chr&gt;</th><th scope=col>&lt;chr&gt;</th><th scope=col>&lt;int&gt;</th><th scope=col>&lt;chr&gt;</th><th scope=col>&lt;chr&gt;</th><th scope=col>&lt;chr&gt;</th><th scope=col>&lt;chr&gt;</th><th scope=col>&lt;chr&gt;</th><th scope=col>&lt;int&gt;</th><th scope=col>&lt;chr&gt;</th><th scope=col>⋯</th><th scope=col>&lt;dbl&gt;</th><th scope=col>&lt;dbl&gt;</th><th scope=col>&lt;dbl&gt;</th><th scope=col>&lt;dbl&gt;</th><th scope=col>&lt;dbl&gt;</th><th scope=col>&lt;dbl&gt;</th><th scope=col>&lt;chr&gt;</th><th scope=col>&lt;chr&gt;</th><th scope=col>&lt;chr&gt;</th><th scope=col>&lt;dbl&gt;</th></tr>\n",
       "</thead>\n",
       "<tbody>\n",
       "\t<tr><td>F35_Red_Deer</td><td>Archaea;Euryarchaeota;Methanobacteria;Methanobacteriales;Methanobacteriaceae;Methanobacterium</td><td>0</td><td>F35</td><td>Rothirsch</td><td>Red.Deer</td><td>Cervus_elaphus</td><td>NA</td><td>9860</td><td>Mammalia</td><td>⋯</td><td>0.4858472</td><td>0.1686955</td><td>38.67117</td><td>21.30162</td><td>2066.942</td><td>1075.505</td><td>F35_Red_Deer</td><td>foregut</td><td>WalzerXXXX</td><td>38.6</td></tr>\n",
       "\t<tr><td>F36_Red_Deer</td><td>Archaea;Euryarchaeota;Methanobacteria;Methanobacteriales;Methanobacteriaceae;Methanobacterium</td><td>0</td><td>F36</td><td>Rothirsch</td><td>Red.Deer</td><td>Cervus_elaphus</td><td>NA</td><td>9860</td><td>Mammalia</td><td>⋯</td><td>0.4858472</td><td>0.1686955</td><td>38.67117</td><td>21.30162</td><td>2066.942</td><td>1075.505</td><td>F36_Red_Deer</td><td>foregut</td><td>WalzerXXXX</td><td>38.6</td></tr>\n",
       "\t<tr><td>⋮</td><td>⋮</td><td>⋮</td><td>⋮</td><td>⋮</td><td>⋮</td><td>⋮</td><td>⋮</td><td>⋮</td><td>⋮</td><td>⋱</td><td>⋮</td><td>⋮</td><td>⋮</td><td>⋮</td><td>⋮</td><td>⋮</td><td>⋮</td><td>⋮</td><td>⋮</td><td>⋮</td></tr>\n",
       "\t<tr><td>X88_European_Rabbit</td><td>Archaea;Euryarchaeota;Methanobacteria;Methanobacteriales;Methanothermobacteraceae;Methanothermobacter</td><td>1</td><td>88</td><td>Wildkaninchen</td><td>European.Rabbit</td><td>Oryctolagus_cuniculus</td><td>NA</td><td>9986</td><td>Mammalia</td><td>⋯</td><td>0.1876504</td><td>0.08941013</td><td> 0.6779272</td><td>0.6824092</td><td>  35.24621</td><td> 35.47923</td><td>X88_European_Rabbit</td><td>hindgut</td><td>WalzerXXXX</td><td>38.4</td></tr>\n",
       "\t<tr><td>X93_Red_Sheep      </td><td>Archaea;Euryarchaeota;Methanobacteria;Methanobacteriales;Methanothermobacteraceae;Methanothermobacter</td><td>9</td><td>93</td><td>Hausschaf    </td><td>Red.Sheep      </td><td>Ovis_aries           </td><td>NA</td><td>9940</td><td>Mammalia</td><td>⋯</td><td>0.5260416</td><td>0.17857864</td><td>21.6593240</td><td>7.1809034</td><td>1161.10184</td><td>377.62696</td><td>X93_Red_Sheep      </td><td>foregut</td><td>WalzerXXXX</td><td>39.2</td></tr>\n",
       "</tbody>\n",
       "</table>\n"
      ],
      "text/latex": [
       "A data.frame: 545 × 94\n",
       "\\begin{tabular}{lllllllllllllllllllll}\n",
       " Sample & OTU & richness & host\\_subject\\_id & host\\_german\\_name & host\\_common\\_name & scientific\\_name & scientific\\_name\\_subspecies & host\\_taxid & class & ⋯ & i.CH4\\_L.kgBM\\_mean & i.CH4\\_L.kgBM\\_sd & i.CH4\\_g.d\\_mean & i.CH4\\_g.d\\_sd & i.CH4\\_kJ.d\\_mean & i.CH4\\_kJ.d\\_sd & Sample.y & dig\\_sys & dataset\\_Tb & Tb\\\\\n",
       " <chr> & <chr> & <int> & <chr> & <chr> & <chr> & <chr> & <chr> & <int> & <chr> & ⋯ & <dbl> & <dbl> & <dbl> & <dbl> & <dbl> & <dbl> & <chr> & <chr> & <chr> & <dbl>\\\\\n",
       "\\hline\n",
       "\t F35\\_Red\\_Deer & Archaea;Euryarchaeota;Methanobacteria;Methanobacteriales;Methanobacteriaceae;Methanobacterium & 0 & F35 & Rothirsch & Red.Deer & Cervus\\_elaphus & NA & 9860 & Mammalia & ⋯ & 0.4858472 & 0.1686955 & 38.67117 & 21.30162 & 2066.942 & 1075.505 & F35\\_Red\\_Deer & foregut & WalzerXXXX & 38.6\\\\\n",
       "\t F36\\_Red\\_Deer & Archaea;Euryarchaeota;Methanobacteria;Methanobacteriales;Methanobacteriaceae;Methanobacterium & 0 & F36 & Rothirsch & Red.Deer & Cervus\\_elaphus & NA & 9860 & Mammalia & ⋯ & 0.4858472 & 0.1686955 & 38.67117 & 21.30162 & 2066.942 & 1075.505 & F36\\_Red\\_Deer & foregut & WalzerXXXX & 38.6\\\\\n",
       "\t ⋮ & ⋮ & ⋮ & ⋮ & ⋮ & ⋮ & ⋮ & ⋮ & ⋮ & ⋮ & ⋱ & ⋮ & ⋮ & ⋮ & ⋮ & ⋮ & ⋮ & ⋮ & ⋮ & ⋮ & ⋮\\\\\n",
       "\t X88\\_European\\_Rabbit & Archaea;Euryarchaeota;Methanobacteria;Methanobacteriales;Methanothermobacteraceae;Methanothermobacter & 1 & 88 & Wildkaninchen & European.Rabbit & Oryctolagus\\_cuniculus & NA & 9986 & Mammalia & ⋯ & 0.1876504 & 0.08941013 &  0.6779272 & 0.6824092 &   35.24621 &  35.47923 & X88\\_European\\_Rabbit & hindgut & WalzerXXXX & 38.4\\\\\n",
       "\t X93\\_Red\\_Sheep       & Archaea;Euryarchaeota;Methanobacteria;Methanobacteriales;Methanothermobacteraceae;Methanothermobacter & 9 & 93 & Hausschaf     & Red.Sheep       & Ovis\\_aries            & NA & 9940 & Mammalia & ⋯ & 0.5260416 & 0.17857864 & 21.6593240 & 7.1809034 & 1161.10184 & 377.62696 & X93\\_Red\\_Sheep       & foregut & WalzerXXXX & 39.2\\\\\n",
       "\\end{tabular}\n"
      ],
      "text/markdown": [
       "\n",
       "A data.frame: 545 × 94\n",
       "\n",
       "| Sample &lt;chr&gt; | OTU &lt;chr&gt; | richness &lt;int&gt; | host_subject_id &lt;chr&gt; | host_german_name &lt;chr&gt; | host_common_name &lt;chr&gt; | scientific_name &lt;chr&gt; | scientific_name_subspecies &lt;chr&gt; | host_taxid &lt;int&gt; | class &lt;chr&gt; | ⋯ ⋯ | i.CH4_L.kgBM_mean &lt;dbl&gt; | i.CH4_L.kgBM_sd &lt;dbl&gt; | i.CH4_g.d_mean &lt;dbl&gt; | i.CH4_g.d_sd &lt;dbl&gt; | i.CH4_kJ.d_mean &lt;dbl&gt; | i.CH4_kJ.d_sd &lt;dbl&gt; | Sample.y &lt;chr&gt; | dig_sys &lt;chr&gt; | dataset_Tb &lt;chr&gt; | Tb &lt;dbl&gt; |\n",
       "|---|---|---|---|---|---|---|---|---|---|---|---|---|---|---|---|---|---|---|---|---|\n",
       "| F35_Red_Deer | Archaea;Euryarchaeota;Methanobacteria;Methanobacteriales;Methanobacteriaceae;Methanobacterium | 0 | F35 | Rothirsch | Red.Deer | Cervus_elaphus | NA | 9860 | Mammalia | ⋯ | 0.4858472 | 0.1686955 | 38.67117 | 21.30162 | 2066.942 | 1075.505 | F35_Red_Deer | foregut | WalzerXXXX | 38.6 |\n",
       "| F36_Red_Deer | Archaea;Euryarchaeota;Methanobacteria;Methanobacteriales;Methanobacteriaceae;Methanobacterium | 0 | F36 | Rothirsch | Red.Deer | Cervus_elaphus | NA | 9860 | Mammalia | ⋯ | 0.4858472 | 0.1686955 | 38.67117 | 21.30162 | 2066.942 | 1075.505 | F36_Red_Deer | foregut | WalzerXXXX | 38.6 |\n",
       "| ⋮ | ⋮ | ⋮ | ⋮ | ⋮ | ⋮ | ⋮ | ⋮ | ⋮ | ⋮ | ⋱ | ⋮ | ⋮ | ⋮ | ⋮ | ⋮ | ⋮ | ⋮ | ⋮ | ⋮ | ⋮ |\n",
       "| X88_European_Rabbit | Archaea;Euryarchaeota;Methanobacteria;Methanobacteriales;Methanothermobacteraceae;Methanothermobacter | 1 | 88 | Wildkaninchen | European.Rabbit | Oryctolagus_cuniculus | NA | 9986 | Mammalia | ⋯ | 0.1876504 | 0.08941013 |  0.6779272 | 0.6824092 |   35.24621 |  35.47923 | X88_European_Rabbit | hindgut | WalzerXXXX | 38.4 |\n",
       "| X93_Red_Sheep       | Archaea;Euryarchaeota;Methanobacteria;Methanobacteriales;Methanothermobacteraceae;Methanothermobacter | 9 | 93 | Hausschaf     | Red.Sheep       | Ovis_aries            | NA | 9940 | Mammalia | ⋯ | 0.5260416 | 0.17857864 | 21.6593240 | 7.1809034 | 1161.10184 | 377.62696 | X93_Red_Sheep       | foregut | WalzerXXXX | 39.2 |\n",
       "\n"
      ],
      "text/plain": [
       "    Sample             \n",
       "1   F35_Red_Deer       \n",
       "2   F36_Red_Deer       \n",
       "⋮   ⋮                  \n",
       "544 X88_European_Rabbit\n",
       "545 X93_Red_Sheep      \n",
       "    OTU                                                                                                  \n",
       "1   Archaea;Euryarchaeota;Methanobacteria;Methanobacteriales;Methanobacteriaceae;Methanobacterium        \n",
       "2   Archaea;Euryarchaeota;Methanobacteria;Methanobacteriales;Methanobacteriaceae;Methanobacterium        \n",
       "⋮   ⋮                                                                                                    \n",
       "544 Archaea;Euryarchaeota;Methanobacteria;Methanobacteriales;Methanothermobacteraceae;Methanothermobacter\n",
       "545 Archaea;Euryarchaeota;Methanobacteria;Methanobacteriales;Methanothermobacteraceae;Methanothermobacter\n",
       "    richness host_subject_id host_german_name host_common_name\n",
       "1   0        F35             Rothirsch        Red.Deer        \n",
       "2   0        F36             Rothirsch        Red.Deer        \n",
       "⋮   ⋮        ⋮               ⋮                ⋮               \n",
       "544 1        88              Wildkaninchen    European.Rabbit \n",
       "545 9        93              Hausschaf        Red.Sheep       \n",
       "    scientific_name       scientific_name_subspecies host_taxid class    ⋯\n",
       "1   Cervus_elaphus        NA                         9860       Mammalia ⋯\n",
       "2   Cervus_elaphus        NA                         9860       Mammalia ⋯\n",
       "⋮   ⋮                     ⋮                          ⋮          ⋮        ⋱\n",
       "544 Oryctolagus_cuniculus NA                         9986       Mammalia ⋯\n",
       "545 Ovis_aries            NA                         9940       Mammalia ⋯\n",
       "    i.CH4_L.kgBM_mean i.CH4_L.kgBM_sd i.CH4_g.d_mean i.CH4_g.d_sd\n",
       "1   0.4858472         0.1686955       38.67117       21.30162    \n",
       "2   0.4858472         0.1686955       38.67117       21.30162    \n",
       "⋮   ⋮                 ⋮               ⋮              ⋮           \n",
       "544 0.1876504         0.08941013       0.6779272     0.6824092   \n",
       "545 0.5260416         0.17857864      21.6593240     7.1809034   \n",
       "    i.CH4_kJ.d_mean i.CH4_kJ.d_sd Sample.y            dig_sys dataset_Tb Tb  \n",
       "1   2066.942        1075.505      F35_Red_Deer        foregut WalzerXXXX 38.6\n",
       "2   2066.942        1075.505      F36_Red_Deer        foregut WalzerXXXX 38.6\n",
       "⋮   ⋮               ⋮             ⋮                   ⋮       ⋮          ⋮   \n",
       "544   35.24621       35.47923     X88_European_Rabbit hindgut WalzerXXXX 38.4\n",
       "545 1161.10184      377.62696     X93_Red_Sheep       foregut WalzerXXXX 39.2"
      ]
     },
     "metadata": {},
     "output_type": "display_data"
    }
   ],
   "source": [
    "# joining\n",
    "otu_j = otu %>%\n",
    "    mutate(Sample = rownames(.)) %>%\n",
    "    gather(OTU, richness, -Tb, -Sample) %>%\n",
    "    dplyr::select(-Tb) %>%\n",
    "    inner_join(metadata, c('Sample'='SampleID')) %>%\n",
    "    filter(!is.na(Tb))\n",
    "otu_j"
   ]
  },
  {
   "cell_type": "code",
   "execution_count": 16,
   "metadata": {
    "ExecuteTime": {
     "end_time": "2020-09-05T12:26:06.138886Z",
     "start_time": "2020-09-05T12:25:54.361Z"
    }
   },
   "outputs": [
    {
     "name": "stderr",
     "output_type": "stream",
     "text": [
      "`geom_smooth()` using method = 'loess' and formula 'y ~ x'\n",
      "\n"
     ]
    },
    {
     "data": {
      "image/png": "[encoded data removed]",
      "text/plain": [
       "plot without title"
      ]
     },
     "metadata": {
      "image/png": {
       "height": 620,
       "width": 600
      },
      "text/plain": {
       "height": 620,
       "width": 600
      }
     },
     "output_type": "display_data"
    }
   ],
   "source": [
    "# plotting\n",
    "p = otu_j %>%\n",
    "    group_by(OTU) %>%\n",
    "    mutate(mean_r = mean(richness)) %>%\n",
    "    ungroup() %>%\n",
    "    filter(mean_r > 1) %>%\n",
    "    mutate(OTU = gsub(';', '; ', OTU),\n",
    "           OTU = stringr::str_wrap(OTU, 20)) %>%\n",
    "    ggplot(aes(Tb, richness)) +\n",
    "    geom_point(aes(color=class)) +\n",
    "    geom_smooth() +\n",
    "    labs(x='Body Temp. (C)', y='No. of ASVs') +\n",
    "    facet_grid(OTU ~ .) +\n",
    "    theme_bw()\n",
    "\n",
    "p.dims(6,6.2)\n",
    "plot(p)"
   ]
  },
  {
   "cell_type": "markdown",
   "metadata": {},
   "source": [
    "# Tree subsample"
   ]
  },
  {
   "cell_type": "code",
   "execution_count": 17,
   "metadata": {
    "ExecuteTime": {
     "end_time": "2020-09-05T12:26:06.155208Z",
     "start_time": "2020-09-05T12:25:54.368Z"
    }
   },
   "outputs": [],
   "source": [
    "#' randomly selecting one per group\n",
    "tree_subsample = function(L, df, tree){\n",
    "    # get subsample (note: subsampling within each species)\n",
    "    to_keep = df %>% \n",
    "        group_by(scientific_name) %>% \n",
    "        sample_n(1) %>%\n",
    "        .$sample\n",
    "    # subsampling tree\n",
    "    to_rm = setdiff(tree$tip.label, to_keep)\n",
    "    tree = drop.tip(tree, to_rm)\n",
    "    return(tree)\n",
    "}"
   ]
  },
  {
   "cell_type": "code",
   "execution_count": 18,
   "metadata": {
    "ExecuteTime": {
     "end_time": "2020-09-05T12:26:06.179882Z",
     "start_time": "2020-09-05T12:25:54.377Z"
    }
   },
   "outputs": [],
   "source": [
    "# replicate analyses with different subsets of the host phylogeny\n",
    "n_reps = 100"
   ]
  },
  {
   "cell_type": "code",
   "execution_count": 19,
   "metadata": {
    "ExecuteTime": {
     "end_time": "2020-09-05T12:26:06.797910Z",
     "start_time": "2020-09-05T12:25:54.386Z"
    }
   },
   "outputs": [
    {
     "data": {
      "text/html": [
       "100"
      ],
      "text/latex": [
       "100"
      ],
      "text/markdown": [
       "100"
      ],
      "text/plain": [
       "[1] 100"
      ]
     },
     "metadata": {},
     "output_type": "display_data"
    }
   ],
   "source": [
    "# permuted trees\n",
    "df = metadata %>%\n",
    "    mutate(sample = SampleID) %>%\n",
    "    dplyr::select(sample, scientific_name) \n",
    "\n",
    "doParallel::registerDoParallel(threads)\n",
    "host_tree_l = plyr::llply(as.list(1:n_reps), \n",
    "                          function(x) tree_subsample(x, df, host_tree),\n",
    "                          .parallel=TRUE)\n",
    "host_tree_l %>% length"
   ]
  },
  {
   "cell_type": "markdown",
   "metadata": {},
   "source": [
    "# RRPP"
   ]
  },
  {
   "cell_type": "code",
   "execution_count": 20,
   "metadata": {
    "ExecuteTime": {
     "end_time": "2020-09-05T12:26:06.828810Z",
     "start_time": "2020-09-05T12:25:54.391Z"
    }
   },
   "outputs": [],
   "source": [
    ".rrpp_per = function(tree, taxon, otu, iter=999){\n",
    "    # tree\n",
    "    PhyCov = ape::vcv(tree, model = \"Brownian\")\n",
    "    # otu\n",
    "    otu_f = otu[rownames(PhyCov),]\n",
    "    data = list(OTUs = otu_f[,taxon] %>% as.matrix,\n",
    "                Tb = otu_f$Tb)\n",
    "    names(data[['Tb']]) = rownames(otu_f)\n",
    "    # rrpp\n",
    "    fitGLS = lm.rrpp(OTUs ~ Tb, data = data, Cov = PhyCov,\n",
    "                     print.progress = FALSE, SS.type = \"II\", iter = iter)\n",
    "    anova(fitGLS)$table\n",
    "}\n",
    "\n",
    "rrpp_per = function(taxon, otu, trees, iter=999){\n",
    "    df = trees %>% \n",
    "        plyr::llply(.rrpp_per, taxon=taxon, otu=otu, iter=iter, .parallel=FALSE) %>%\n",
    "        do.call(rbind, .) %>%\n",
    "        mutate(feature = gsub('[0-9]+$', '', rownames(.))) \n",
    "    df$taxon = taxon\n",
    "    return(df)   \n",
    "}"
   ]
  },
  {
   "cell_type": "code",
   "execution_count": 21,
   "metadata": {
    "ExecuteTime": {
     "end_time": "2020-09-05T12:26:34.194891Z",
     "start_time": "2020-09-05T12:25:54.396Z"
    }
   },
   "outputs": [
    {
     "name": "stdout",
     "output_type": "stream",
     "text": [
      "Number of OTUs: 5 \n"
     ]
    },
    {
     "data": {
      "text/html": [
       "<table>\n",
       "<caption>A anova: 500 × 9</caption>\n",
       "<thead>\n",
       "\t<tr><th scope=col>Df</th><th scope=col>SS</th><th scope=col>MS</th><th scope=col>Rsq</th><th scope=col>F</th><th scope=col>Z</th><th scope=col>Pr(&gt;F)</th><th scope=col>feature</th><th scope=col>taxon</th></tr>\n",
       "\t<tr><th scope=col>&lt;dbl&gt;</th><th scope=col>&lt;dbl&gt;</th><th scope=col>&lt;dbl&gt;</th><th scope=col>&lt;dbl&gt;</th><th scope=col>&lt;dbl&gt;</th><th scope=col>&lt;dbl&gt;</th><th scope=col>&lt;dbl&gt;</th><th scope=col>&lt;chr&gt;</th><th scope=col>&lt;chr&gt;</th></tr>\n",
       "</thead>\n",
       "<tbody>\n",
       "\t<tr><td>1</td><td>2.382818e-05</td><td>2.382818e-05</td><td>5.009303e-05</td><td>0.003907452</td><td>-1.980612</td><td>0.949</td><td>Tb</td><td>Archaea;Euryarchaeota;Methanobacteria;Methanobacteriales;Methanobacteriaceae;Methanobacterium</td></tr>\n",
       "\t<tr><td>1</td><td>7.728774e-06</td><td>7.728774e-06</td><td>1.624762e-05</td><td>0.001316079</td><td>-1.893158</td><td>0.952</td><td>Tb</td><td>Archaea;Euryarchaeota;Methanobacteria;Methanobacteriales;Methanobacteriaceae;Methanobacterium</td></tr>\n",
       "\t<tr><td>⋮</td><td>⋮</td><td>⋮</td><td>⋮</td><td>⋮</td><td>⋮</td><td>⋮</td><td>⋮</td><td>⋮</td></tr>\n",
       "\t<tr><td>1</td><td>0.1992675</td><td>0.1992675</td><td>0.006180562</td><td>0.4913009</td><td>0.2775288</td><td>0.472</td><td>Tb</td><td>Archaea;Euryarchaeota;Methanobacteria;Methanobacteriales;Methanothermobacteraceae;Methanothermobacter</td></tr>\n",
       "\t<tr><td>1</td><td>0.5091536</td><td>0.5091536</td><td>0.014796440</td><td>1.2014931</td><td>0.6860996</td><td>0.265</td><td>Tb</td><td>Archaea;Euryarchaeota;Methanobacteria;Methanobacteriales;Methanothermobacteraceae;Methanothermobacter</td></tr>\n",
       "</tbody>\n",
       "</table>\n"
      ],
      "text/latex": [
       "A anova: 500 × 9\n",
       "\\begin{tabular}{lllllllll}\n",
       " Df & SS & MS & Rsq & F & Z & Pr(>F) & feature & taxon\\\\\n",
       " <dbl> & <dbl> & <dbl> & <dbl> & <dbl> & <dbl> & <dbl> & <chr> & <chr>\\\\\n",
       "\\hline\n",
       "\t 1 & 2.382818e-05 & 2.382818e-05 & 5.009303e-05 & 0.003907452 & -1.980612 & 0.949 & Tb & Archaea;Euryarchaeota;Methanobacteria;Methanobacteriales;Methanobacteriaceae;Methanobacterium\\\\\n",
       "\t 1 & 7.728774e-06 & 7.728774e-06 & 1.624762e-05 & 0.001316079 & -1.893158 & 0.952 & Tb & Archaea;Euryarchaeota;Methanobacteria;Methanobacteriales;Methanobacteriaceae;Methanobacterium\\\\\n",
       "\t ⋮ & ⋮ & ⋮ & ⋮ & ⋮ & ⋮ & ⋮ & ⋮ & ⋮\\\\\n",
       "\t 1 & 0.1992675 & 0.1992675 & 0.006180562 & 0.4913009 & 0.2775288 & 0.472 & Tb & Archaea;Euryarchaeota;Methanobacteria;Methanobacteriales;Methanothermobacteraceae;Methanothermobacter\\\\\n",
       "\t 1 & 0.5091536 & 0.5091536 & 0.014796440 & 1.2014931 & 0.6860996 & 0.265 & Tb & Archaea;Euryarchaeota;Methanobacteria;Methanobacteriales;Methanothermobacteraceae;Methanothermobacter\\\\\n",
       "\\end{tabular}\n"
      ],
      "text/markdown": [
       "\n",
       "A anova: 500 × 9\n",
       "\n",
       "| Df &lt;dbl&gt; | SS &lt;dbl&gt; | MS &lt;dbl&gt; | Rsq &lt;dbl&gt; | F &lt;dbl&gt; | Z &lt;dbl&gt; | Pr(&gt;F) &lt;dbl&gt; | feature &lt;chr&gt; | taxon &lt;chr&gt; |\n",
       "|---|---|---|---|---|---|---|---|---|\n",
       "| 1 | 2.382818e-05 | 2.382818e-05 | 5.009303e-05 | 0.003907452 | -1.980612 | 0.949 | Tb | Archaea;Euryarchaeota;Methanobacteria;Methanobacteriales;Methanobacteriaceae;Methanobacterium |\n",
       "| 1 | 7.728774e-06 | 7.728774e-06 | 1.624762e-05 | 0.001316079 | -1.893158 | 0.952 | Tb | Archaea;Euryarchaeota;Methanobacteria;Methanobacteriales;Methanobacteriaceae;Methanobacterium |\n",
       "| ⋮ | ⋮ | ⋮ | ⋮ | ⋮ | ⋮ | ⋮ | ⋮ | ⋮ |\n",
       "| 1 | 0.1992675 | 0.1992675 | 0.006180562 | 0.4913009 | 0.2775288 | 0.472 | Tb | Archaea;Euryarchaeota;Methanobacteria;Methanobacteriales;Methanothermobacteraceae;Methanothermobacter |\n",
       "| 1 | 0.5091536 | 0.5091536 | 0.014796440 | 1.2014931 | 0.6860996 | 0.265 | Tb | Archaea;Euryarchaeota;Methanobacteria;Methanobacteriales;Methanothermobacteraceae;Methanothermobacter |\n",
       "\n"
      ],
      "text/plain": [
       "    Df SS           MS           Rsq          F           Z         Pr(>F)\n",
       "1   1  2.382818e-05 2.382818e-05 5.009303e-05 0.003907452 -1.980612 0.949 \n",
       "2   1  7.728774e-06 7.728774e-06 1.624762e-05 0.001316079 -1.893158 0.952 \n",
       "⋮   ⋮  ⋮            ⋮            ⋮            ⋮           ⋮         ⋮     \n",
       "499 1  0.1992675    0.1992675    0.006180562  0.4913009   0.2775288 0.472 \n",
       "500 1  0.5091536    0.5091536    0.014796440  1.2014931   0.6860996 0.265 \n",
       "    feature\n",
       "1   Tb     \n",
       "2   Tb     \n",
       "⋮   ⋮      \n",
       "499 Tb     \n",
       "500 Tb     \n",
       "    taxon                                                                                                \n",
       "1   Archaea;Euryarchaeota;Methanobacteria;Methanobacteriales;Methanobacteriaceae;Methanobacterium        \n",
       "2   Archaea;Euryarchaeota;Methanobacteria;Methanobacteriales;Methanobacteriaceae;Methanobacterium        \n",
       "⋮   ⋮                                                                                                    \n",
       "499 Archaea;Euryarchaeota;Methanobacteria;Methanobacteriales;Methanothermobacteraceae;Methanothermobacter\n",
       "500 Archaea;Euryarchaeota;Methanobacteria;Methanobacteriales;Methanothermobacteraceae;Methanothermobacter"
      ]
     },
     "metadata": {},
     "output_type": "display_data"
    }
   ],
   "source": [
    "#running for all OTUs & all trees\n",
    "taxa = colnames(otu)[2:ncol(otu)]\n",
    "taxa %>% length %>% cat('Number of OTUs:', ., '\\n')\n",
    "\n",
    "doParallel::registerDoParallel(threads)\n",
    "rrpp_res = taxa %>%\n",
    "    plyr::llply(rrpp_per, otu, host_tree_l, iter=999, .parallel=TRUE) %>%\n",
    "    do.call(rbind, .) %>%\n",
    "    filter(feature == 'Tb')\n",
    "rrpp_res"
   ]
  },
  {
   "cell_type": "markdown",
   "metadata": {},
   "source": [
    "## Summary"
   ]
  },
  {
   "cell_type": "code",
   "execution_count": 22,
   "metadata": {
    "ExecuteTime": {
     "end_time": "2020-09-05T12:26:34.303785Z",
     "start_time": "2020-09-05T12:25:54.403Z"
    }
   },
   "outputs": [
    {
     "data": {
      "text/html": [
       "<table>\n",
       "<caption>A matrix: 1 × 8 of type dbl</caption>\n",
       "<thead>\n",
       "\t<tr><th></th><th scope=col>Min.</th><th scope=col>1st Qu.</th><th scope=col>Median</th><th scope=col>Mean</th><th scope=col>3rd Qu.</th><th scope=col>Max.</th><th scope=col>sd</th><th scope=col>sd_err_of_mean</th></tr>\n",
       "</thead>\n",
       "<tbody>\n",
       "\t<tr><th scope=row>P</th><td>0.58</td><td>0.6</td><td>0.9</td><td>0.814</td><td>0.99</td><td>1</td><td>0.186</td><td>0.076</td></tr>\n",
       "</tbody>\n",
       "</table>\n"
      ],
      "text/latex": [
       "A matrix: 1 × 8 of type dbl\n",
       "\\begin{tabular}{r|llllllll}\n",
       "  & Min. & 1st Qu. & Median & Mean & 3rd Qu. & Max. & sd & sd\\_err\\_of\\_mean\\\\\n",
       "\\hline\n",
       "\tP & 0.58 & 0.6 & 0.9 & 0.814 & 0.99 & 1 & 0.186 & 0.076\\\\\n",
       "\\end{tabular}\n"
      ],
      "text/markdown": [
       "\n",
       "A matrix: 1 × 8 of type dbl\n",
       "\n",
       "| <!--/--> | Min. | 1st Qu. | Median | Mean | 3rd Qu. | Max. | sd | sd_err_of_mean |\n",
       "|---|---|---|---|---|---|---|---|---|\n",
       "| P | 0.58 | 0.6 | 0.9 | 0.814 | 0.99 | 1 | 0.186 | 0.076 |\n",
       "\n"
      ],
      "text/plain": [
       "  Min. 1st Qu. Median Mean  3rd Qu. Max. sd    sd_err_of_mean\n",
       "P 0.58 0.6     0.9    0.814 0.99    1    0.186 0.076         "
      ]
     },
     "metadata": {},
     "output_type": "display_data"
    },
    {
     "data": {
      "text/html": [
       "<table>\n",
       "<caption>A matrix: 1 × 8 of type dbl</caption>\n",
       "<thead>\n",
       "\t<tr><th></th><th scope=col>Min.</th><th scope=col>1st Qu.</th><th scope=col>Median</th><th scope=col>Mean</th><th scope=col>3rd Qu.</th><th scope=col>Max.</th><th scope=col>sd</th><th scope=col>sd_err_of_mean</th></tr>\n",
       "</thead>\n",
       "<tbody>\n",
       "\t<tr><th scope=row>Adj. P</th><td>1</td><td>1</td><td>1</td><td>1</td><td>1</td><td>1</td><td>0</td><td>0</td></tr>\n",
       "</tbody>\n",
       "</table>\n"
      ],
      "text/latex": [
       "A matrix: 1 × 8 of type dbl\n",
       "\\begin{tabular}{r|llllllll}\n",
       "  & Min. & 1st Qu. & Median & Mean & 3rd Qu. & Max. & sd & sd\\_err\\_of\\_mean\\\\\n",
       "\\hline\n",
       "\tAdj. P & 1 & 1 & 1 & 1 & 1 & 1 & 0 & 0\\\\\n",
       "\\end{tabular}\n"
      ],
      "text/markdown": [
       "\n",
       "A matrix: 1 × 8 of type dbl\n",
       "\n",
       "| <!--/--> | Min. | 1st Qu. | Median | Mean | 3rd Qu. | Max. | sd | sd_err_of_mean |\n",
       "|---|---|---|---|---|---|---|---|---|\n",
       "| Adj. P | 1 | 1 | 1 | 1 | 1 | 1 | 0 | 0 |\n",
       "\n"
      ],
      "text/plain": [
       "       Min. 1st Qu. Median Mean 3rd Qu. Max. sd sd_err_of_mean\n",
       "Adj. P 1    1       1      1    1       1    0  0             "
      ]
     },
     "metadata": {},
     "output_type": "display_data"
    },
    {
     "data": {
      "text/html": [
       "<table>\n",
       "<caption>A tibble: 500 × 10</caption>\n",
       "<thead>\n",
       "\t<tr><th scope=col>Df</th><th scope=col>SS</th><th scope=col>MS</th><th scope=col>Rsq</th><th scope=col>F</th><th scope=col>Z</th><th scope=col>P</th><th scope=col>feature</th><th scope=col>taxon</th><th scope=col>Q</th></tr>\n",
       "\t<tr><th scope=col>&lt;dbl&gt;</th><th scope=col>&lt;dbl&gt;</th><th scope=col>&lt;dbl&gt;</th><th scope=col>&lt;dbl&gt;</th><th scope=col>&lt;dbl&gt;</th><th scope=col>&lt;dbl&gt;</th><th scope=col>&lt;dbl&gt;</th><th scope=col>&lt;chr&gt;</th><th scope=col>&lt;chr&gt;</th><th scope=col>&lt;dbl&gt;</th></tr>\n",
       "</thead>\n",
       "<tbody>\n",
       "\t<tr><td>1</td><td>2.382818e-05</td><td>2.382818e-05</td><td>5.009303e-05</td><td>0.003907452</td><td>-1.980612</td><td>1</td><td>Tb</td><td>Archaea;Euryarchaeota;Methanobacteria;Methanobacteriales;Methanobacteriaceae;Methanobacterium</td><td>1</td></tr>\n",
       "\t<tr><td>1</td><td>7.728774e-06</td><td>7.728774e-06</td><td>1.624762e-05</td><td>0.001316079</td><td>-1.893158</td><td>1</td><td>Tb</td><td>Archaea;Euryarchaeota;Methanobacteria;Methanobacteriales;Methanobacteriaceae;Methanobacterium</td><td>1</td></tr>\n",
       "\t<tr><td>⋮</td><td>⋮</td><td>⋮</td><td>⋮</td><td>⋮</td><td>⋮</td><td>⋮</td><td>⋮</td><td>⋮</td><td>⋮</td></tr>\n",
       "\t<tr><td>1</td><td>0.1992675</td><td>0.1992675</td><td>0.006180562</td><td>0.4913009</td><td>0.2775288</td><td>0.99</td><td>Tb</td><td>Archaea;Euryarchaeota;Methanobacteria;Methanobacteriales;Methanothermobacteraceae;Methanothermobacter</td><td>1</td></tr>\n",
       "\t<tr><td>1</td><td>0.5091536</td><td>0.5091536</td><td>0.014796440</td><td>1.2014931</td><td>0.6860996</td><td>0.99</td><td>Tb</td><td>Archaea;Euryarchaeota;Methanobacteria;Methanobacteriales;Methanothermobacteraceae;Methanothermobacter</td><td>1</td></tr>\n",
       "</tbody>\n",
       "</table>\n"
      ],
      "text/latex": [
       "A tibble: 500 × 10\n",
       "\\begin{tabular}{llllllllll}\n",
       " Df & SS & MS & Rsq & F & Z & P & feature & taxon & Q\\\\\n",
       " <dbl> & <dbl> & <dbl> & <dbl> & <dbl> & <dbl> & <dbl> & <chr> & <chr> & <dbl>\\\\\n",
       "\\hline\n",
       "\t 1 & 2.382818e-05 & 2.382818e-05 & 5.009303e-05 & 0.003907452 & -1.980612 & 1 & Tb & Archaea;Euryarchaeota;Methanobacteria;Methanobacteriales;Methanobacteriaceae;Methanobacterium & 1\\\\\n",
       "\t 1 & 7.728774e-06 & 7.728774e-06 & 1.624762e-05 & 0.001316079 & -1.893158 & 1 & Tb & Archaea;Euryarchaeota;Methanobacteria;Methanobacteriales;Methanobacteriaceae;Methanobacterium & 1\\\\\n",
       "\t ⋮ & ⋮ & ⋮ & ⋮ & ⋮ & ⋮ & ⋮ & ⋮ & ⋮ & ⋮\\\\\n",
       "\t 1 & 0.1992675 & 0.1992675 & 0.006180562 & 0.4913009 & 0.2775288 & 0.99 & Tb & Archaea;Euryarchaeota;Methanobacteria;Methanobacteriales;Methanothermobacteraceae;Methanothermobacter & 1\\\\\n",
       "\t 1 & 0.5091536 & 0.5091536 & 0.014796440 & 1.2014931 & 0.6860996 & 0.99 & Tb & Archaea;Euryarchaeota;Methanobacteria;Methanobacteriales;Methanothermobacteraceae;Methanothermobacter & 1\\\\\n",
       "\\end{tabular}\n"
      ],
      "text/markdown": [
       "\n",
       "A tibble: 500 × 10\n",
       "\n",
       "| Df &lt;dbl&gt; | SS &lt;dbl&gt; | MS &lt;dbl&gt; | Rsq &lt;dbl&gt; | F &lt;dbl&gt; | Z &lt;dbl&gt; | P &lt;dbl&gt; | feature &lt;chr&gt; | taxon &lt;chr&gt; | Q &lt;dbl&gt; |\n",
       "|---|---|---|---|---|---|---|---|---|---|\n",
       "| 1 | 2.382818e-05 | 2.382818e-05 | 5.009303e-05 | 0.003907452 | -1.980612 | 1 | Tb | Archaea;Euryarchaeota;Methanobacteria;Methanobacteriales;Methanobacteriaceae;Methanobacterium | 1 |\n",
       "| 1 | 7.728774e-06 | 7.728774e-06 | 1.624762e-05 | 0.001316079 | -1.893158 | 1 | Tb | Archaea;Euryarchaeota;Methanobacteria;Methanobacteriales;Methanobacteriaceae;Methanobacterium | 1 |\n",
       "| ⋮ | ⋮ | ⋮ | ⋮ | ⋮ | ⋮ | ⋮ | ⋮ | ⋮ | ⋮ |\n",
       "| 1 | 0.1992675 | 0.1992675 | 0.006180562 | 0.4913009 | 0.2775288 | 0.99 | Tb | Archaea;Euryarchaeota;Methanobacteria;Methanobacteriales;Methanothermobacteraceae;Methanothermobacter | 1 |\n",
       "| 1 | 0.5091536 | 0.5091536 | 0.014796440 | 1.2014931 | 0.6860996 | 0.99 | Tb | Archaea;Euryarchaeota;Methanobacteria;Methanobacteriales;Methanothermobacteraceae;Methanothermobacter | 1 |\n",
       "\n"
      ],
      "text/plain": [
       "    Df SS           MS           Rsq          F           Z         P   \n",
       "1   1  2.382818e-05 2.382818e-05 5.009303e-05 0.003907452 -1.980612 1   \n",
       "2   1  7.728774e-06 7.728774e-06 1.624762e-05 0.001316079 -1.893158 1   \n",
       "⋮   ⋮  ⋮            ⋮            ⋮            ⋮           ⋮         ⋮   \n",
       "499 1  0.1992675    0.1992675    0.006180562  0.4913009   0.2775288 0.99\n",
       "500 1  0.5091536    0.5091536    0.014796440  1.2014931   0.6860996 0.99\n",
       "    feature\n",
       "1   Tb     \n",
       "2   Tb     \n",
       "⋮   ⋮      \n",
       "499 Tb     \n",
       "500 Tb     \n",
       "    taxon                                                                                                \n",
       "1   Archaea;Euryarchaeota;Methanobacteria;Methanobacteriales;Methanobacteriaceae;Methanobacterium        \n",
       "2   Archaea;Euryarchaeota;Methanobacteria;Methanobacteriales;Methanobacteriaceae;Methanobacterium        \n",
       "⋮   ⋮                                                                                                    \n",
       "499 Archaea;Euryarchaeota;Methanobacteria;Methanobacteriales;Methanothermobacteraceae;Methanothermobacter\n",
       "500 Archaea;Euryarchaeota;Methanobacteria;Methanobacteriales;Methanothermobacteraceae;Methanothermobacter\n",
       "    Q\n",
       "1   1\n",
       "2   1\n",
       "⋮   ⋮\n",
       "499 1\n",
       "500 1"
      ]
     },
     "metadata": {},
     "output_type": "display_data"
    }
   ],
   "source": [
    "# formatting\n",
    "rrpp_res_s = rrpp_res %>%\n",
    "    rename('P' = `Pr(>F)`) %>%\n",
    "    group_by(taxon) %>%\n",
    "    mutate(P = (length(P) - sum(P < 0.05)) / length(P)) %>%\n",
    "    ungroup() %>%\n",
    "    mutate(Q = p.adjust(P, method='BH'))\n",
    "\n",
    "rrpp_res_s %>% .$P %>% summary_x('P')\n",
    "rrpp_res_s %>% .$Q %>% summary_x('Adj. P')\n",
    "rrpp_res_s"
   ]
  },
  {
   "cell_type": "code",
   "execution_count": 23,
   "metadata": {
    "ExecuteTime": {
     "end_time": "2020-09-05T12:26:34.358900Z",
     "start_time": "2020-09-05T12:25:54.416Z"
    }
   },
   "outputs": [
    {
     "data": {
      "text/html": [
       "<table>\n",
       "<caption>A tibble: 100 × 10</caption>\n",
       "<thead>\n",
       "\t<tr><th scope=col>Df</th><th scope=col>SS</th><th scope=col>MS</th><th scope=col>Rsq</th><th scope=col>F</th><th scope=col>Z</th><th scope=col>P</th><th scope=col>feature</th><th scope=col>taxon</th><th scope=col>Q</th></tr>\n",
       "\t<tr><th scope=col>&lt;dbl&gt;</th><th scope=col>&lt;dbl&gt;</th><th scope=col>&lt;dbl&gt;</th><th scope=col>&lt;dbl&gt;</th><th scope=col>&lt;dbl&gt;</th><th scope=col>&lt;dbl&gt;</th><th scope=col>&lt;dbl&gt;</th><th scope=col>&lt;chr&gt;</th><th scope=col>&lt;chr&gt;</th><th scope=col>&lt;dbl&gt;</th></tr>\n",
       "</thead>\n",
       "<tbody>\n",
       "\t<tr><td>1</td><td>2.169711</td><td>2.169711</td><td>0.03429613</td><td> 2.770102</td><td>1.021326</td><td>0.58</td><td>Tb</td><td>Archaea;Euryarchaeota;Methanobacteria;Methanobacteriales;Methanobacteriaceae;Methanobrevibacter</td><td>1</td></tr>\n",
       "\t<tr><td>1</td><td>8.470209</td><td>8.470209</td><td>0.16455951</td><td>15.954841</td><td>1.813814</td><td>0.58</td><td>Tb</td><td>Archaea;Euryarchaeota;Methanobacteria;Methanobacteriales;Methanobacteriaceae;Methanobrevibacter</td><td>1</td></tr>\n",
       "\t<tr><td>⋮</td><td>⋮</td><td>⋮</td><td>⋮</td><td>⋮</td><td>⋮</td><td>⋮</td><td>⋮</td><td>⋮</td><td>⋮</td></tr>\n",
       "\t<tr><td>1</td><td>0.1170897</td><td>0.1170897</td><td>0.002085743</td><td>0.1651181</td><td>-0.242383</td><td>0.58</td><td>Tb</td><td>Archaea;Euryarchaeota;Methanobacteria;Methanobacteriales;Methanobacteriaceae;Methanobrevibacter</td><td>1</td></tr>\n",
       "\t<tr><td>1</td><td>2.6092111</td><td>2.6092111</td><td>0.056673728</td><td>4.8062885</td><td> 1.224582</td><td>0.58</td><td>Tb</td><td>Archaea;Euryarchaeota;Methanobacteria;Methanobacteriales;Methanobacteriaceae;Methanobrevibacter</td><td>1</td></tr>\n",
       "</tbody>\n",
       "</table>\n"
      ],
      "text/latex": [
       "A tibble: 100 × 10\n",
       "\\begin{tabular}{llllllllll}\n",
       " Df & SS & MS & Rsq & F & Z & P & feature & taxon & Q\\\\\n",
       " <dbl> & <dbl> & <dbl> & <dbl> & <dbl> & <dbl> & <dbl> & <chr> & <chr> & <dbl>\\\\\n",
       "\\hline\n",
       "\t 1 & 2.169711 & 2.169711 & 0.03429613 &  2.770102 & 1.021326 & 0.58 & Tb & Archaea;Euryarchaeota;Methanobacteria;Methanobacteriales;Methanobacteriaceae;Methanobrevibacter & 1\\\\\n",
       "\t 1 & 8.470209 & 8.470209 & 0.16455951 & 15.954841 & 1.813814 & 0.58 & Tb & Archaea;Euryarchaeota;Methanobacteria;Methanobacteriales;Methanobacteriaceae;Methanobrevibacter & 1\\\\\n",
       "\t ⋮ & ⋮ & ⋮ & ⋮ & ⋮ & ⋮ & ⋮ & ⋮ & ⋮ & ⋮\\\\\n",
       "\t 1 & 0.1170897 & 0.1170897 & 0.002085743 & 0.1651181 & -0.242383 & 0.58 & Tb & Archaea;Euryarchaeota;Methanobacteria;Methanobacteriales;Methanobacteriaceae;Methanobrevibacter & 1\\\\\n",
       "\t 1 & 2.6092111 & 2.6092111 & 0.056673728 & 4.8062885 &  1.224582 & 0.58 & Tb & Archaea;Euryarchaeota;Methanobacteria;Methanobacteriales;Methanobacteriaceae;Methanobrevibacter & 1\\\\\n",
       "\\end{tabular}\n"
      ],
      "text/markdown": [
       "\n",
       "A tibble: 100 × 10\n",
       "\n",
       "| Df &lt;dbl&gt; | SS &lt;dbl&gt; | MS &lt;dbl&gt; | Rsq &lt;dbl&gt; | F &lt;dbl&gt; | Z &lt;dbl&gt; | P &lt;dbl&gt; | feature &lt;chr&gt; | taxon &lt;chr&gt; | Q &lt;dbl&gt; |\n",
       "|---|---|---|---|---|---|---|---|---|---|\n",
       "| 1 | 2.169711 | 2.169711 | 0.03429613 |  2.770102 | 1.021326 | 0.58 | Tb | Archaea;Euryarchaeota;Methanobacteria;Methanobacteriales;Methanobacteriaceae;Methanobrevibacter | 1 |\n",
       "| 1 | 8.470209 | 8.470209 | 0.16455951 | 15.954841 | 1.813814 | 0.58 | Tb | Archaea;Euryarchaeota;Methanobacteria;Methanobacteriales;Methanobacteriaceae;Methanobrevibacter | 1 |\n",
       "| ⋮ | ⋮ | ⋮ | ⋮ | ⋮ | ⋮ | ⋮ | ⋮ | ⋮ | ⋮ |\n",
       "| 1 | 0.1170897 | 0.1170897 | 0.002085743 | 0.1651181 | -0.242383 | 0.58 | Tb | Archaea;Euryarchaeota;Methanobacteria;Methanobacteriales;Methanobacteriaceae;Methanobrevibacter | 1 |\n",
       "| 1 | 2.6092111 | 2.6092111 | 0.056673728 | 4.8062885 |  1.224582 | 0.58 | Tb | Archaea;Euryarchaeota;Methanobacteria;Methanobacteriales;Methanobacteriaceae;Methanobrevibacter | 1 |\n",
       "\n"
      ],
      "text/plain": [
       "    Df SS        MS        Rsq         F         Z         P    feature\n",
       "1   1  2.169711  2.169711  0.03429613   2.770102 1.021326  0.58 Tb     \n",
       "2   1  8.470209  8.470209  0.16455951  15.954841 1.813814  0.58 Tb     \n",
       "⋮   ⋮  ⋮         ⋮         ⋮           ⋮         ⋮         ⋮    ⋮      \n",
       "99  1  0.1170897 0.1170897 0.002085743 0.1651181 -0.242383 0.58 Tb     \n",
       "100 1  2.6092111 2.6092111 0.056673728 4.8062885  1.224582 0.58 Tb     \n",
       "    taxon                                                                                          \n",
       "1   Archaea;Euryarchaeota;Methanobacteria;Methanobacteriales;Methanobacteriaceae;Methanobrevibacter\n",
       "2   Archaea;Euryarchaeota;Methanobacteria;Methanobacteriales;Methanobacteriaceae;Methanobrevibacter\n",
       "⋮   ⋮                                                                                              \n",
       "99  Archaea;Euryarchaeota;Methanobacteria;Methanobacteriales;Methanobacteriaceae;Methanobrevibacter\n",
       "100 Archaea;Euryarchaeota;Methanobacteria;Methanobacteriales;Methanobacteriaceae;Methanobrevibacter\n",
       "    Q\n",
       "1   1\n",
       "2   1\n",
       "⋮   ⋮\n",
       "99  1\n",
       "100 1"
      ]
     },
     "metadata": {},
     "output_type": "display_data"
    }
   ],
   "source": [
    "rrpp_res_s %>%\n",
    "    filter(P < 0.6)"
   ]
  },
  {
   "cell_type": "code",
   "execution_count": 24,
   "metadata": {
    "ExecuteTime": {
     "end_time": "2020-09-05T12:26:34.449819Z",
     "start_time": "2020-09-05T12:25:54.423Z"
    }
   },
   "outputs": [
    {
     "data": {
      "text/html": [
       "<table>\n",
       "<caption>A tibble: 0 × 17</caption>\n",
       "<thead>\n",
       "\t<tr><th scope=col>Df</th><th scope=col>SS</th><th scope=col>MS</th><th scope=col>Rsq</th><th scope=col>F</th><th scope=col>Z</th><th scope=col>P</th><th scope=col>feature</th><th scope=col>taxon</th><th scope=col>Q</th><th scope=col>Domain</th><th scope=col>Phylum</th><th scope=col>Class</th><th scope=col>Order</th><th scope=col>Family</th><th scope=col>Genus</th><th scope=col>Species</th></tr>\n",
       "\t<tr><th scope=col>&lt;dbl&gt;</th><th scope=col>&lt;dbl&gt;</th><th scope=col>&lt;dbl&gt;</th><th scope=col>&lt;dbl&gt;</th><th scope=col>&lt;dbl&gt;</th><th scope=col>&lt;dbl&gt;</th><th scope=col>&lt;dbl&gt;</th><th scope=col>&lt;chr&gt;</th><th scope=col>&lt;chr&gt;</th><th scope=col>&lt;dbl&gt;</th><th scope=col>&lt;chr&gt;</th><th scope=col>&lt;chr&gt;</th><th scope=col>&lt;chr&gt;</th><th scope=col>&lt;chr&gt;</th><th scope=col>&lt;chr&gt;</th><th scope=col>&lt;chr&gt;</th><th scope=col>&lt;chr&gt;</th></tr>\n",
       "</thead>\n",
       "<tbody>\n",
       "</tbody>\n",
       "</table>\n"
      ],
      "text/latex": [
       "A tibble: 0 × 17\n",
       "\\begin{tabular}{lllllllllllllllll}\n",
       " Df & SS & MS & Rsq & F & Z & P & feature & taxon & Q & Domain & Phylum & Class & Order & Family & Genus & Species\\\\\n",
       " <dbl> & <dbl> & <dbl> & <dbl> & <dbl> & <dbl> & <dbl> & <chr> & <chr> & <dbl> & <chr> & <chr> & <chr> & <chr> & <chr> & <chr> & <chr>\\\\\n",
       "\\hline\n",
       "\\end{tabular}\n"
      ],
      "text/markdown": [
       "\n",
       "A tibble: 0 × 17\n",
       "\n",
       "| Df &lt;dbl&gt; | SS &lt;dbl&gt; | MS &lt;dbl&gt; | Rsq &lt;dbl&gt; | F &lt;dbl&gt; | Z &lt;dbl&gt; | P &lt;dbl&gt; | feature &lt;chr&gt; | taxon &lt;chr&gt; | Q &lt;dbl&gt; | Domain &lt;chr&gt; | Phylum &lt;chr&gt; | Class &lt;chr&gt; | Order &lt;chr&gt; | Family &lt;chr&gt; | Genus &lt;chr&gt; | Species &lt;chr&gt; |\n",
       "|---|---|---|---|---|---|---|---|---|---|---|---|---|---|---|---|---|\n",
       "\n"
      ],
      "text/plain": [
       "     Df SS MS Rsq F Z P feature taxon Q Domain Phylum Class Order Family Genus\n",
       "     Species"
      ]
     },
     "metadata": {},
     "output_type": "display_data"
    }
   ],
   "source": [
    "# significant taxa\n",
    "tax = physeq %>%\n",
    "    phyloseq2df(tax_table) %>%\n",
    "    mutate(OTU = gsub('^([0-9])', 'X_\\\\1', OTU))\n",
    "\n",
    "rrpp_res_s_f = rrpp_res_s %>%\n",
    "    filter(Q < 0.05) %>%\n",
    "    inner_join(tax, c('taxon'='OTU'))\n",
    "rrpp_res_s_f"
   ]
  },
  {
   "cell_type": "markdown",
   "metadata": {},
   "source": [
    "# sessionInfo"
   ]
  },
  {
   "cell_type": "code",
   "execution_count": 25,
   "metadata": {
    "ExecuteTime": {
     "end_time": "2020-09-05T12:26:34.522206Z",
     "start_time": "2020-09-05T12:25:54.426Z"
    }
   },
   "outputs": [
    {
     "data": {
      "text/plain": [
       "R version 4.0.0 (2020-04-24)\n",
       "Platform: x86_64-conda_cos6-linux-gnu (64-bit)\n",
       "Running under: Ubuntu 18.04.5 LTS\n",
       "\n",
       "Matrix products: default\n",
       "BLAS/LAPACK: /ebio/abt3_projects/Georg_animal_feces/envs/phyloseq-physig/lib/libopenblasp-r0.3.9.so\n",
       "\n",
       "locale:\n",
       " [1] LC_CTYPE=en_US.UTF-8       LC_NUMERIC=C              \n",
       " [3] LC_TIME=en_US.UTF-8        LC_COLLATE=en_US.UTF-8    \n",
       " [5] LC_MONETARY=en_US.UTF-8    LC_MESSAGES=en_US.UTF-8   \n",
       " [7] LC_PAPER=en_US.UTF-8       LC_NAME=C                 \n",
       " [9] LC_ADDRESS=C               LC_TELEPHONE=C            \n",
       "[11] LC_MEASUREMENT=en_US.UTF-8 LC_IDENTIFICATION=C       \n",
       "\n",
       "attached base packages:\n",
       "[1] parallel  stats     graphics  grDevices utils     datasets  methods  \n",
       "[8] base     \n",
       "\n",
       "other attached packages:\n",
       " [1] LeyLabRMisc_0.1.6 doParallel_1.0.15 iterators_1.0.12  foreach_1.5.0    \n",
       " [5] RRPP_0.6.0        phyloseq_1.32.0   ape_5.4           ggplot2_3.3.1    \n",
       " [9] tidyr_1.1.0       dplyr_1.0.0      \n",
       "\n",
       "loaded via a namespace (and not attached):\n",
       " [1] Rcpp_1.0.4.6         lattice_0.20-41      Biostrings_2.56.0   \n",
       " [4] RhpcBLASctl_0.20-137 digest_0.6.25        IRdisplay_0.7.0     \n",
       " [7] R6_2.4.1             plyr_1.8.6           repr_1.1.0          \n",
       "[10] stats4_4.0.0         evaluate_0.14        pillar_1.4.4        \n",
       "[13] zlibbioc_1.34.0      rlang_0.4.6          uuid_0.1-4          \n",
       "[16] data.table_1.12.8    vegan_2.5-6          S4Vectors_0.26.0    \n",
       "[19] Matrix_1.2-18        labeling_0.3         splines_4.0.0       \n",
       "[22] stringr_1.4.0        igraph_1.2.5         munsell_0.5.0       \n",
       "[25] compiler_4.0.0       pkgconfig_2.0.3      BiocGenerics_0.34.0 \n",
       "[28] base64enc_0.1-3      multtest_2.44.0      mgcv_1.8-31         \n",
       "[31] htmltools_0.4.0      biomformat_1.16.0    tidyselect_1.1.0    \n",
       "[34] tibble_3.0.1         IRanges_2.22.1       codetools_0.2-16    \n",
       "[37] permute_0.9-5        crayon_1.3.4         withr_2.2.0         \n",
       "[40] MASS_7.3-51.6        grid_4.0.0           nlme_3.1-148        \n",
       "[43] jsonlite_1.6.1       gtable_0.3.0         lifecycle_0.2.0     \n",
       "[46] magrittr_1.5         scales_1.1.1         stringi_1.4.6       \n",
       "[49] farver_2.0.3         XVector_0.28.0       reshape2_1.4.4      \n",
       "[52] ellipsis_0.3.1       generics_0.0.2       vctrs_0.3.1         \n",
       "[55] IRkernel_1.1         Rhdf5lib_1.10.0      tools_4.0.0         \n",
       "[58] ade4_1.7-15          Biobase_2.48.0       glue_1.4.1          \n",
       "[61] purrr_0.3.4          survival_3.1-12      colorspace_1.4-1    \n",
       "[64] rhdf5_2.32.0         cluster_2.1.0        pbdZMQ_0.3-3        "
      ]
     },
     "metadata": {},
     "output_type": "display_data"
    }
   ],
   "source": [
    "sessionInfo()"
   ]
  },
  {
   "cell_type": "code",
   "execution_count": null,
   "metadata": {},
   "outputs": [],
   "source": []
  }
 ],
 "metadata": {
  "kernelspec": {
   "display_name": "R [conda env:Georg_animal_feces-phyloseq-physig]",
   "language": "R",
   "name": "conda-env-Georg_animal_feces-phyloseq-physig-r"
  },
  "language_info": {
   "codemirror_mode": "r",
   "file_extension": ".r",
   "mimetype": "text/x-r-source",
   "name": "R",
   "pygments_lexer": "r",
   "version": "4.0.0"
  },
  "notify_time": "30",
  "toc": {
   "base_numbering": 1,
   "nav_menu": {},
   "number_sections": true,
   "sideBar": true,
   "skip_h1_title": false,
   "title_cell": "Table of Contents",
   "title_sidebar": "Contents",
   "toc_cell": true,
   "toc_position": {},
   "toc_section_display": true,
   "toc_window_display": true
  }
 },
 "nbformat": 4,
 "nbformat_minor": 4
}
