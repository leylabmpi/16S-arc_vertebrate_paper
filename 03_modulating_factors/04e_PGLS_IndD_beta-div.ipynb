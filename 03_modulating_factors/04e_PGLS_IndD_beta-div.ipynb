{
 "cells": [
  {
   "cell_type": "markdown",
   "metadata": {
    "toc": true
   },
   "source": [
    "<h1>Table of Contents<span class=\"tocSkip\"></span></h1>\n",
    "<div class=\"toc\"><ul class=\"toc-item\"><li><span><a href=\"#Goal\" data-toc-modified-id=\"Goal-1\"><span class=\"toc-item-num\">1&nbsp;&nbsp;</span>Goal</a></span></li><li><span><a href=\"#Var\" data-toc-modified-id=\"Var-2\"><span class=\"toc-item-num\">2&nbsp;&nbsp;</span>Var</a></span></li><li><span><a href=\"#Init\" data-toc-modified-id=\"Init-3\"><span class=\"toc-item-num\">3&nbsp;&nbsp;</span>Init</a></span></li><li><span><a href=\"#Load\" data-toc-modified-id=\"Load-4\"><span class=\"toc-item-num\">4&nbsp;&nbsp;</span>Load</a></span></li><li><span><a href=\"#beta-div-PCoA-PCs\" data-toc-modified-id=\"beta-div-PCoA-PCs-5\"><span class=\"toc-item-num\">5&nbsp;&nbsp;</span>beta div PCoA PCs</a></span><ul class=\"toc-item\"><li><span><a href=\"#Format\" data-toc-modified-id=\"Format-5.1\"><span class=\"toc-item-num\">5.1&nbsp;&nbsp;</span>Format</a></span></li><li><span><a href=\"#checks\" data-toc-modified-id=\"checks-5.2\"><span class=\"toc-item-num\">5.2&nbsp;&nbsp;</span>checks</a></span></li></ul></li><li><span><a href=\"#Host-tree-subsample\" data-toc-modified-id=\"Host-tree-subsample-6\"><span class=\"toc-item-num\">6&nbsp;&nbsp;</span>Host tree subsample</a></span></li><li><span><a href=\"#PGLS\" data-toc-modified-id=\"PGLS-7\"><span class=\"toc-item-num\">7&nbsp;&nbsp;</span>PGLS</a></span><ul class=\"toc-item\"><li><span><a href=\"#Digestive-system\" data-toc-modified-id=\"Digestive-system-7.1\"><span class=\"toc-item-num\">7.1&nbsp;&nbsp;</span>Digestive system</a></span><ul class=\"toc-item\"><li><span><a href=\"#Saving-output\" data-toc-modified-id=\"Saving-output-7.1.1\"><span class=\"toc-item-num\">7.1.1&nbsp;&nbsp;</span>Saving output</a></span></li><li><span><a href=\"#Summary\" data-toc-modified-id=\"Summary-7.1.2\"><span class=\"toc-item-num\">7.1.2&nbsp;&nbsp;</span>Summary</a></span></li></ul></li><li><span><a href=\"#Diet\" data-toc-modified-id=\"Diet-7.2\"><span class=\"toc-item-num\">7.2&nbsp;&nbsp;</span>Diet</a></span><ul class=\"toc-item\"><li><span><a href=\"#Saving-output\" data-toc-modified-id=\"Saving-output-7.2.1\"><span class=\"toc-item-num\">7.2.1&nbsp;&nbsp;</span>Saving output</a></span></li><li><span><a href=\"#Summary\" data-toc-modified-id=\"Summary-7.2.2\"><span class=\"toc-item-num\">7.2.2&nbsp;&nbsp;</span>Summary</a></span></li><li><span><a href=\"#significant-values\" data-toc-modified-id=\"significant-values-7.2.3\"><span class=\"toc-item-num\">7.2.3&nbsp;&nbsp;</span>significant values</a></span></li></ul></li></ul></li><li><span><a href=\"#sessionInfo\" data-toc-modified-id=\"sessionInfo-8\"><span class=\"toc-item-num\">8&nbsp;&nbsp;</span>sessionInfo</a></span></li></ul></div>"
   ]
  },
  {
   "cell_type": "markdown",
   "metadata": {},
   "source": [
    "# Goal\n",
    "\n",
    "* PGLS to assess alpha diversity associations with diet or digestive systems"
   ]
  },
  {
   "cell_type": "markdown",
   "metadata": {},
   "source": [
    "# Var"
   ]
  },
  {
   "cell_type": "code",
   "execution_count": 1,
   "metadata": {
    "ExecuteTime": {
     "end_time": "2020-08-26T17:30:18.895516Z",
     "start_time": "2020-08-26T17:30:18.790Z"
    }
   },
   "outputs": [],
   "source": [
    "work_dir = '/ebio/abt3_projects/Georg_animal_feces/data/16S_arch/MiSeq-Runs-116-122-126-189-190/LLA/modulating/PGLS/'\n",
    "\n",
    "# microbiome\n",
    "## 16S-arch phyloseq object (one sample per individual)\n",
    "physeq_arch_IndD_file = '/ebio/abt3_projects/Georg_animal_feces/data/16S_arch/MiSeq-Runs-116-122-126-189-190/LLA/merged/phyloseq/physeq_arch_IndD_clr-genus.RDS'\n",
    "\n",
    "# diversity\n",
    "beta_div_file = '/ebio/abt3_projects/Georg_animal_feces/data/16S_arch/MiSeq-Runs-116-122-126-189-190/LLA/merged/diversity-qiime2/beta_div_genus.RDS'\n",
    "\n",
    "# host tree\n",
    "host_tree_IndD_file = '/ebio/abt3_projects/Georg_animal_feces/data/animal/phylogeny/TT/unified_metadata_complete_200429_16S-arch_IndD.nwk'\n",
    "\n",
    "# misc params\n",
    "threads = 8\n",
    "my_seed = 8394"
   ]
  },
  {
   "cell_type": "markdown",
   "metadata": {},
   "source": [
    "# Init"
   ]
  },
  {
   "cell_type": "code",
   "execution_count": 2,
   "metadata": {
    "ExecuteTime": {
     "end_time": "2020-08-26T17:30:28.041169Z",
     "start_time": "2020-08-26T17:30:19.050Z"
    }
   },
   "outputs": [
    {
     "name": "stderr",
     "output_type": "stream",
     "text": [
      "\n",
      "Attaching package: ‘dplyr’\n",
      "\n",
      "\n",
      "The following objects are masked from ‘package:stats’:\n",
      "\n",
      "    filter, lag\n",
      "\n",
      "\n",
      "The following objects are masked from ‘package:base’:\n",
      "\n",
      "    intersect, setdiff, setequal, union\n",
      "\n",
      "\n",
      "Warning message:\n",
      "“package ‘caper’ was built under R version 3.6.3”\n",
      "Loading required package: MASS\n",
      "\n",
      "\n",
      "Attaching package: ‘MASS’\n",
      "\n",
      "\n",
      "The following object is masked from ‘package:dplyr’:\n",
      "\n",
      "    select\n",
      "\n",
      "\n",
      "Loading required package: mvtnorm\n",
      "\n",
      "Warning message:\n",
      "“package ‘mvtnorm’ was built under R version 3.6.3”\n",
      "Loading required package: foreach\n",
      "\n",
      "Loading required package: iterators\n",
      "\n",
      "Loading required package: parallel\n",
      "\n"
     ]
    }
   ],
   "source": [
    "library(dplyr)\n",
    "library(tidyr)\n",
    "library(ggplot2)\n",
    "\n",
    "library(ape)\n",
    "library(ade4)\n",
    "library(caper)\n",
    "library(phyloseq)\n",
    "\n",
    "library(doParallel)\n",
    "library(LeyLabRMisc)"
   ]
  },
  {
   "cell_type": "code",
   "execution_count": 3,
   "metadata": {
    "ExecuteTime": {
     "end_time": "2020-08-26T17:30:28.403940Z",
     "start_time": "2020-08-26T17:30:19.947Z"
    }
   },
   "outputs": [
    {
     "name": "stdout",
     "output_type": "stream",
     "text": [
      "Directory already exists: /ebio/abt3_projects/Georg_animal_feces/data/16S_arch/MiSeq-Runs-116-122-126-189-190/LLA/modulating/PGLS/ \n"
     ]
    }
   ],
   "source": [
    "df.dims()\n",
    "set.seed(my_seed)\n",
    "make_dir(work_dir)\n",
    "RhpcBLASctl::blas_set_num_threads(1)"
   ]
  },
  {
   "cell_type": "markdown",
   "metadata": {},
   "source": [
    "# Load"
   ]
  },
  {
   "cell_type": "code",
   "execution_count": 4,
   "metadata": {
    "ExecuteTime": {
     "end_time": "2020-08-26T17:30:28.521049Z",
     "start_time": "2020-08-26T17:30:23.195Z"
    }
   },
   "outputs": [
    {
     "data": {
      "text/plain": [
       "phyloseq-class experiment-level object\n",
       "otu_table()   OTU Table:         [ 57 taxa and 185 samples ]\n",
       "sample_data() Sample Data:       [ 185 samples by 88 sample variables ]\n",
       "tax_table()   Taxonomy Table:    [ 57 taxa by 7 taxonomic ranks ]\n",
       "phy_tree()    Phylogenetic Tree: [ 57 tips and 56 internal nodes ]"
      ]
     },
     "metadata": {},
     "output_type": "display_data"
    }
   ],
   "source": [
    "# phyloseq obj.\n",
    "physeq = readRDS(physeq_arch_IndD_file)\n",
    "physeq"
   ]
  },
  {
   "cell_type": "code",
   "execution_count": 5,
   "metadata": {
    "ExecuteTime": {
     "end_time": "2020-08-26T17:30:29.171711Z",
     "start_time": "2020-08-26T17:30:24.035Z"
    }
   },
   "outputs": [
    {
     "data": {
      "text/html": [
       "<table>\n",
       "<caption>A data.frame: 185 × 57</caption>\n",
       "<thead>\n",
       "\t<tr><th></th><th scope=col>c3b19986023201183d07b2bf6dc9eaab</th><th scope=col>e6ddd5efa2e9229aa04f33e832450fa8</th><th scope=col>5887dc080d027d30580310a1eb1f3166</th><th scope=col>c0eb38cd52d8be27c54de8a8b06f9a9a</th><th scope=col>bfb96cf07d2fec50b18d3a9665ba6e80</th><th scope=col>66cc60d5322fdeaf48cc8bdd82effea2</th><th scope=col>f906aca9a9c84f01cbd8a874cce7e6fe</th><th scope=col>1936b1a270b058c5754be0addc7c7c31</th><th scope=col>252850216e7d0123bfafd7eed609799d</th><th scope=col>7950a70a07006f7c7b0c6f02c46a93af</th><th scope=col>⋯</th><th scope=col>092547e9f87986180c27587156336bcb</th><th scope=col>2987f396047df01622b365b3b667a4eb</th><th scope=col>fef8ef65bd3598e9f1fec3bd32a9b4bd</th><th scope=col>b9abd819fdd733c57642461d1c2247a6</th><th scope=col>75f3ea1df98051a1b49107173aa51a32</th><th scope=col>1578a874797e43b052a66b2fb5ef9e4a</th><th scope=col>b7ed842d3fbe5d8d33504a0a765409ae</th><th scope=col>1f1f87cab902b66753b8bbd81e69a7d4</th><th scope=col>250a31c11dbecf1e2ef705424fdaa7a7</th><th scope=col>188795b8eb1edbd3334be2676ca05391</th></tr>\n",
       "\t<tr><th></th><th scope=col>&lt;dbl&gt;</th><th scope=col>&lt;dbl&gt;</th><th scope=col>&lt;dbl&gt;</th><th scope=col>&lt;dbl&gt;</th><th scope=col>&lt;dbl&gt;</th><th scope=col>&lt;dbl&gt;</th><th scope=col>&lt;dbl&gt;</th><th scope=col>&lt;dbl&gt;</th><th scope=col>&lt;dbl&gt;</th><th scope=col>&lt;dbl&gt;</th><th scope=col>⋯</th><th scope=col>&lt;dbl&gt;</th><th scope=col>&lt;dbl&gt;</th><th scope=col>&lt;dbl&gt;</th><th scope=col>&lt;dbl&gt;</th><th scope=col>&lt;dbl&gt;</th><th scope=col>&lt;dbl&gt;</th><th scope=col>&lt;dbl&gt;</th><th scope=col>&lt;dbl&gt;</th><th scope=col>&lt;dbl&gt;</th><th scope=col>&lt;dbl&gt;</th></tr>\n",
       "</thead>\n",
       "<tbody>\n",
       "\t<tr><th scope=row>F14_Common_Bream</th><td>0.3533185</td><td>0.32246438</td><td>2.91428908</td><td>0.3254381</td><td>0.3703154</td><td>0.3612832</td><td>0.30778200</td><td>0.27413385</td><td>0.3629528</td><td>0.29043538</td><td>⋯</td><td>0.1665158</td><td>-0.03874821</td><td> 0.4547095</td><td> 0.2546676</td><td>0.73849765</td><td>-2.920287</td><td>-3.236448</td><td>-2.117767</td><td> 8.7026399</td><td> 0.4149247</td></tr>\n",
       "\t<tr><th scope=row>F35_Red_Deer</th><td>0.0982570</td><td>0.06740287</td><td>0.04961681</td><td>4.4809734</td><td>0.1152539</td><td>0.1062217</td><td>0.05272048</td><td>0.01907233</td><td>0.1078913</td><td>0.03537386</td><td>⋯</td><td>2.7692054</td><td>-0.64532655</td><td>-0.1518688</td><td>-0.3519108</td><td>0.03596791</td><td> 1.275840</td><td>-3.843026</td><td> 3.204286</td><td>-0.3493636</td><td>-0.1916536</td></tr>\n",
       "\t<tr><th scope=row>⋮</th><td>⋮</td><td>⋮</td><td>⋮</td><td>⋮</td><td>⋮</td><td>⋮</td><td>⋮</td><td>⋮</td><td>⋮</td><td>⋮</td><td>⋱</td><td>⋮</td><td>⋮</td><td>⋮</td><td>⋮</td><td>⋮</td><td>⋮</td><td>⋮</td><td>⋮</td><td>⋮</td><td>⋮</td></tr>\n",
       "\t<tr><th scope=row>X431_Quagga</th><td> 0.1988029</td><td> 0.1679488</td><td> 0.1501628</td><td> 0.1709225</td><td> 0.2157999</td><td> 0.2067676</td><td> 0.1532664</td><td> 0.1196183</td><td> 0.2084372</td><td> 0.1359198</td><td>⋯</td><td> 3.234569</td><td>-0.3855593</td><td> 0.1078984</td><td> 4.675893</td><td> 0.5839821</td><td>-2.158147</td><td>-3.583259</td><td>-2.46457812</td><td>-0.08959639</td><td> 0.0681136</td></tr>\n",
       "\t<tr><th scope=row>X67_European_Roe</th><td>-0.4190308</td><td>-0.4498850</td><td>-0.4676710</td><td>-0.4469112</td><td>-0.4020339</td><td>-0.4110661</td><td>-0.4645673</td><td>-0.4982155</td><td>-0.4093965</td><td>-0.4819140</td><td>⋯</td><td>-2.166684</td><td>-1.5943665</td><td>-1.1009088</td><td>-1.300951</td><td>-0.9130721</td><td> 1.004511</td><td>-4.792066</td><td>-0.03111916</td><td>-1.29840360</td><td>-1.1406936</td></tr>\n",
       "</tbody>\n",
       "</table>\n"
      ],
      "text/latex": [
       "A data.frame: 185 × 57\n",
       "\\begin{tabular}{r|lllllllllllllllllllll}\n",
       "  & c3b19986023201183d07b2bf6dc9eaab & e6ddd5efa2e9229aa04f33e832450fa8 & 5887dc080d027d30580310a1eb1f3166 & c0eb38cd52d8be27c54de8a8b06f9a9a & bfb96cf07d2fec50b18d3a9665ba6e80 & 66cc60d5322fdeaf48cc8bdd82effea2 & f906aca9a9c84f01cbd8a874cce7e6fe & 1936b1a270b058c5754be0addc7c7c31 & 252850216e7d0123bfafd7eed609799d & 7950a70a07006f7c7b0c6f02c46a93af & ⋯ & 092547e9f87986180c27587156336bcb & 2987f396047df01622b365b3b667a4eb & fef8ef65bd3598e9f1fec3bd32a9b4bd & b9abd819fdd733c57642461d1c2247a6 & 75f3ea1df98051a1b49107173aa51a32 & 1578a874797e43b052a66b2fb5ef9e4a & b7ed842d3fbe5d8d33504a0a765409ae & 1f1f87cab902b66753b8bbd81e69a7d4 & 250a31c11dbecf1e2ef705424fdaa7a7 & 188795b8eb1edbd3334be2676ca05391\\\\\n",
       "  & <dbl> & <dbl> & <dbl> & <dbl> & <dbl> & <dbl> & <dbl> & <dbl> & <dbl> & <dbl> & ⋯ & <dbl> & <dbl> & <dbl> & <dbl> & <dbl> & <dbl> & <dbl> & <dbl> & <dbl> & <dbl>\\\\\n",
       "\\hline\n",
       "\tF14\\_Common\\_Bream & 0.3533185 & 0.32246438 & 2.91428908 & 0.3254381 & 0.3703154 & 0.3612832 & 0.30778200 & 0.27413385 & 0.3629528 & 0.29043538 & ⋯ & 0.1665158 & -0.03874821 &  0.4547095 &  0.2546676 & 0.73849765 & -2.920287 & -3.236448 & -2.117767 &  8.7026399 &  0.4149247\\\\\n",
       "\tF35\\_Red\\_Deer & 0.0982570 & 0.06740287 & 0.04961681 & 4.4809734 & 0.1152539 & 0.1062217 & 0.05272048 & 0.01907233 & 0.1078913 & 0.03537386 & ⋯ & 2.7692054 & -0.64532655 & -0.1518688 & -0.3519108 & 0.03596791 &  1.275840 & -3.843026 &  3.204286 & -0.3493636 & -0.1916536\\\\\n",
       "\t⋮ & ⋮ & ⋮ & ⋮ & ⋮ & ⋮ & ⋮ & ⋮ & ⋮ & ⋮ & ⋮ & ⋱ & ⋮ & ⋮ & ⋮ & ⋮ & ⋮ & ⋮ & ⋮ & ⋮ & ⋮ & ⋮\\\\\n",
       "\tX431\\_Quagga &  0.1988029 &  0.1679488 &  0.1501628 &  0.1709225 &  0.2157999 &  0.2067676 &  0.1532664 &  0.1196183 &  0.2084372 &  0.1359198 & ⋯ &  3.234569 & -0.3855593 &  0.1078984 &  4.675893 &  0.5839821 & -2.158147 & -3.583259 & -2.46457812 & -0.08959639 &  0.0681136\\\\\n",
       "\tX67\\_European\\_Roe & -0.4190308 & -0.4498850 & -0.4676710 & -0.4469112 & -0.4020339 & -0.4110661 & -0.4645673 & -0.4982155 & -0.4093965 & -0.4819140 & ⋯ & -2.166684 & -1.5943665 & -1.1009088 & -1.300951 & -0.9130721 &  1.004511 & -4.792066 & -0.03111916 & -1.29840360 & -1.1406936\\\\\n",
       "\\end{tabular}\n"
      ],
      "text/markdown": [
       "\n",
       "A data.frame: 185 × 57\n",
       "\n",
       "| <!--/--> | c3b19986023201183d07b2bf6dc9eaab &lt;dbl&gt; | e6ddd5efa2e9229aa04f33e832450fa8 &lt;dbl&gt; | 5887dc080d027d30580310a1eb1f3166 &lt;dbl&gt; | c0eb38cd52d8be27c54de8a8b06f9a9a &lt;dbl&gt; | bfb96cf07d2fec50b18d3a9665ba6e80 &lt;dbl&gt; | 66cc60d5322fdeaf48cc8bdd82effea2 &lt;dbl&gt; | f906aca9a9c84f01cbd8a874cce7e6fe &lt;dbl&gt; | 1936b1a270b058c5754be0addc7c7c31 &lt;dbl&gt; | 252850216e7d0123bfafd7eed609799d &lt;dbl&gt; | 7950a70a07006f7c7b0c6f02c46a93af &lt;dbl&gt; | ⋯ ⋯ | 092547e9f87986180c27587156336bcb &lt;dbl&gt; | 2987f396047df01622b365b3b667a4eb &lt;dbl&gt; | fef8ef65bd3598e9f1fec3bd32a9b4bd &lt;dbl&gt; | b9abd819fdd733c57642461d1c2247a6 &lt;dbl&gt; | 75f3ea1df98051a1b49107173aa51a32 &lt;dbl&gt; | 1578a874797e43b052a66b2fb5ef9e4a &lt;dbl&gt; | b7ed842d3fbe5d8d33504a0a765409ae &lt;dbl&gt; | 1f1f87cab902b66753b8bbd81e69a7d4 &lt;dbl&gt; | 250a31c11dbecf1e2ef705424fdaa7a7 &lt;dbl&gt; | 188795b8eb1edbd3334be2676ca05391 &lt;dbl&gt; |\n",
       "|---|---|---|---|---|---|---|---|---|---|---|---|---|---|---|---|---|---|---|---|---|---|\n",
       "| F14_Common_Bream | 0.3533185 | 0.32246438 | 2.91428908 | 0.3254381 | 0.3703154 | 0.3612832 | 0.30778200 | 0.27413385 | 0.3629528 | 0.29043538 | ⋯ | 0.1665158 | -0.03874821 |  0.4547095 |  0.2546676 | 0.73849765 | -2.920287 | -3.236448 | -2.117767 |  8.7026399 |  0.4149247 |\n",
       "| F35_Red_Deer | 0.0982570 | 0.06740287 | 0.04961681 | 4.4809734 | 0.1152539 | 0.1062217 | 0.05272048 | 0.01907233 | 0.1078913 | 0.03537386 | ⋯ | 2.7692054 | -0.64532655 | -0.1518688 | -0.3519108 | 0.03596791 |  1.275840 | -3.843026 |  3.204286 | -0.3493636 | -0.1916536 |\n",
       "| ⋮ | ⋮ | ⋮ | ⋮ | ⋮ | ⋮ | ⋮ | ⋮ | ⋮ | ⋮ | ⋮ | ⋱ | ⋮ | ⋮ | ⋮ | ⋮ | ⋮ | ⋮ | ⋮ | ⋮ | ⋮ | ⋮ |\n",
       "| X431_Quagga |  0.1988029 |  0.1679488 |  0.1501628 |  0.1709225 |  0.2157999 |  0.2067676 |  0.1532664 |  0.1196183 |  0.2084372 |  0.1359198 | ⋯ |  3.234569 | -0.3855593 |  0.1078984 |  4.675893 |  0.5839821 | -2.158147 | -3.583259 | -2.46457812 | -0.08959639 |  0.0681136 |\n",
       "| X67_European_Roe | -0.4190308 | -0.4498850 | -0.4676710 | -0.4469112 | -0.4020339 | -0.4110661 | -0.4645673 | -0.4982155 | -0.4093965 | -0.4819140 | ⋯ | -2.166684 | -1.5943665 | -1.1009088 | -1.300951 | -0.9130721 |  1.004511 | -4.792066 | -0.03111916 | -1.29840360 | -1.1406936 |\n",
       "\n"
      ],
      "text/plain": [
       "                 c3b19986023201183d07b2bf6dc9eaab\n",
       "F14_Common_Bream 0.3533185                       \n",
       "F35_Red_Deer     0.0982570                       \n",
       "⋮                ⋮                               \n",
       "X431_Quagga       0.1988029                      \n",
       "X67_European_Roe -0.4190308                      \n",
       "                 e6ddd5efa2e9229aa04f33e832450fa8\n",
       "F14_Common_Bream 0.32246438                      \n",
       "F35_Red_Deer     0.06740287                      \n",
       "⋮                ⋮                               \n",
       "X431_Quagga       0.1679488                      \n",
       "X67_European_Roe -0.4498850                      \n",
       "                 5887dc080d027d30580310a1eb1f3166\n",
       "F14_Common_Bream 2.91428908                      \n",
       "F35_Red_Deer     0.04961681                      \n",
       "⋮                ⋮                               \n",
       "X431_Quagga       0.1501628                      \n",
       "X67_European_Roe -0.4676710                      \n",
       "                 c0eb38cd52d8be27c54de8a8b06f9a9a\n",
       "F14_Common_Bream 0.3254381                       \n",
       "F35_Red_Deer     4.4809734                       \n",
       "⋮                ⋮                               \n",
       "X431_Quagga       0.1709225                      \n",
       "X67_European_Roe -0.4469112                      \n",
       "                 bfb96cf07d2fec50b18d3a9665ba6e80\n",
       "F14_Common_Bream 0.3703154                       \n",
       "F35_Red_Deer     0.1152539                       \n",
       "⋮                ⋮                               \n",
       "X431_Quagga       0.2157999                      \n",
       "X67_European_Roe -0.4020339                      \n",
       "                 66cc60d5322fdeaf48cc8bdd82effea2\n",
       "F14_Common_Bream 0.3612832                       \n",
       "F35_Red_Deer     0.1062217                       \n",
       "⋮                ⋮                               \n",
       "X431_Quagga       0.2067676                      \n",
       "X67_European_Roe -0.4110661                      \n",
       "                 f906aca9a9c84f01cbd8a874cce7e6fe\n",
       "F14_Common_Bream 0.30778200                      \n",
       "F35_Red_Deer     0.05272048                      \n",
       "⋮                ⋮                               \n",
       "X431_Quagga       0.1532664                      \n",
       "X67_European_Roe -0.4645673                      \n",
       "                 1936b1a270b058c5754be0addc7c7c31\n",
       "F14_Common_Bream 0.27413385                      \n",
       "F35_Red_Deer     0.01907233                      \n",
       "⋮                ⋮                               \n",
       "X431_Quagga       0.1196183                      \n",
       "X67_European_Roe -0.4982155                      \n",
       "                 252850216e7d0123bfafd7eed609799d\n",
       "F14_Common_Bream 0.3629528                       \n",
       "F35_Red_Deer     0.1078913                       \n",
       "⋮                ⋮                               \n",
       "X431_Quagga       0.2084372                      \n",
       "X67_European_Roe -0.4093965                      \n",
       "                 7950a70a07006f7c7b0c6f02c46a93af ⋯\n",
       "F14_Common_Bream 0.29043538                       ⋯\n",
       "F35_Red_Deer     0.03537386                       ⋯\n",
       "⋮                ⋮                                ⋱\n",
       "X431_Quagga       0.1359198                       ⋯\n",
       "X67_European_Roe -0.4819140                       ⋯\n",
       "                 092547e9f87986180c27587156336bcb\n",
       "F14_Common_Bream 0.1665158                       \n",
       "F35_Red_Deer     2.7692054                       \n",
       "⋮                ⋮                               \n",
       "X431_Quagga       3.234569                       \n",
       "X67_European_Roe -2.166684                       \n",
       "                 2987f396047df01622b365b3b667a4eb\n",
       "F14_Common_Bream -0.03874821                     \n",
       "F35_Red_Deer     -0.64532655                     \n",
       "⋮                ⋮                               \n",
       "X431_Quagga      -0.3855593                      \n",
       "X67_European_Roe -1.5943665                      \n",
       "                 fef8ef65bd3598e9f1fec3bd32a9b4bd\n",
       "F14_Common_Bream  0.4547095                      \n",
       "F35_Red_Deer     -0.1518688                      \n",
       "⋮                ⋮                               \n",
       "X431_Quagga       0.1078984                      \n",
       "X67_European_Roe -1.1009088                      \n",
       "                 b9abd819fdd733c57642461d1c2247a6\n",
       "F14_Common_Bream  0.2546676                      \n",
       "F35_Red_Deer     -0.3519108                      \n",
       "⋮                ⋮                               \n",
       "X431_Quagga       4.675893                       \n",
       "X67_European_Roe -1.300951                       \n",
       "                 75f3ea1df98051a1b49107173aa51a32\n",
       "F14_Common_Bream 0.73849765                      \n",
       "F35_Red_Deer     0.03596791                      \n",
       "⋮                ⋮                               \n",
       "X431_Quagga       0.5839821                      \n",
       "X67_European_Roe -0.9130721                      \n",
       "                 1578a874797e43b052a66b2fb5ef9e4a\n",
       "F14_Common_Bream -2.920287                       \n",
       "F35_Red_Deer      1.275840                       \n",
       "⋮                ⋮                               \n",
       "X431_Quagga      -2.158147                       \n",
       "X67_European_Roe  1.004511                       \n",
       "                 b7ed842d3fbe5d8d33504a0a765409ae\n",
       "F14_Common_Bream -3.236448                       \n",
       "F35_Red_Deer     -3.843026                       \n",
       "⋮                ⋮                               \n",
       "X431_Quagga      -3.583259                       \n",
       "X67_European_Roe -4.792066                       \n",
       "                 1f1f87cab902b66753b8bbd81e69a7d4\n",
       "F14_Common_Bream -2.117767                       \n",
       "F35_Red_Deer      3.204286                       \n",
       "⋮                ⋮                               \n",
       "X431_Quagga      -2.46457812                     \n",
       "X67_European_Roe -0.03111916                     \n",
       "                 250a31c11dbecf1e2ef705424fdaa7a7\n",
       "F14_Common_Bream  8.7026399                      \n",
       "F35_Red_Deer     -0.3493636                      \n",
       "⋮                ⋮                               \n",
       "X431_Quagga      -0.08959639                     \n",
       "X67_European_Roe -1.29840360                     \n",
       "                 188795b8eb1edbd3334be2676ca05391\n",
       "F14_Common_Bream  0.4149247                      \n",
       "F35_Red_Deer     -0.1916536                      \n",
       "⋮                ⋮                               \n",
       "X431_Quagga       0.0681136                      \n",
       "X67_European_Roe -1.1406936                      "
      ]
     },
     "metadata": {},
     "output_type": "display_data"
    }
   ],
   "source": [
    "# otu table\n",
    "otu = physeq %>%\n",
    "    phyloseq2df(otu_table) %>%\n",
    "    as.data.frame\n",
    "rownames(otu) = otu$OTU\n",
    "otu$OTU = NULL\n",
    "otu = otu %>% t %>% as.data.frame\n",
    "otu"
   ]
  },
  {
   "cell_type": "code",
   "execution_count": 6,
   "metadata": {
    "ExecuteTime": {
     "end_time": "2020-08-26T17:30:29.261106Z",
     "start_time": "2020-08-26T17:30:24.332Z"
    }
   },
   "outputs": [
    {
     "data": {
      "text/html": [
       "<table>\n",
       "<caption>A data.frame: 185 × 90</caption>\n",
       "<thead>\n",
       "\t<tr><th></th><th scope=col>SampleID</th><th scope=col>host_subject_id</th><th scope=col>host_german_name</th><th scope=col>host_common_name</th><th scope=col>scientific_name</th><th scope=col>scientific_name_subspecies</th><th scope=col>host_taxid</th><th scope=col>class</th><th scope=col>order</th><th scope=col>family</th><th scope=col>⋯</th><th scope=col>i.CH4_L.d_mean</th><th scope=col>i.CH4_L.d_sd</th><th scope=col>i.CH4_L.kgBM_mean</th><th scope=col>i.CH4_L.kgBM_sd</th><th scope=col>i.CH4_g.d_mean</th><th scope=col>i.CH4_g.d_sd</th><th scope=col>i.CH4_kJ.d_mean</th><th scope=col>i.CH4_kJ.d_sd</th><th scope=col>Sample</th><th scope=col>dig_sys</th></tr>\n",
       "\t<tr><th></th><th scope=col>&lt;chr&gt;</th><th scope=col>&lt;chr&gt;</th><th scope=col>&lt;chr&gt;</th><th scope=col>&lt;chr&gt;</th><th scope=col>&lt;chr&gt;</th><th scope=col>&lt;chr&gt;</th><th scope=col>&lt;int&gt;</th><th scope=col>&lt;chr&gt;</th><th scope=col>&lt;chr&gt;</th><th scope=col>&lt;chr&gt;</th><th scope=col>⋯</th><th scope=col>&lt;dbl&gt;</th><th scope=col>&lt;dbl&gt;</th><th scope=col>&lt;dbl&gt;</th><th scope=col>&lt;dbl&gt;</th><th scope=col>&lt;dbl&gt;</th><th scope=col>&lt;dbl&gt;</th><th scope=col>&lt;dbl&gt;</th><th scope=col>&lt;dbl&gt;</th><th scope=col>&lt;chr&gt;</th><th scope=col>&lt;chr&gt;</th></tr>\n",
       "</thead>\n",
       "<tbody>\n",
       "\t<tr><th scope=row>F14_Common_Bream</th><td>F14_Common_Bream</td><td>F14</td><td>Brachse  </td><td>Common.Bream</td><td>Abramis_brama </td><td>NA</td><td>38527</td><td>Actinopterygii</td><td>Cypriniformes</td><td>Cyprinidae</td><td>⋯</td><td>      NA</td><td>      NA</td><td>       NA</td><td>       NA</td><td>      NA</td><td>      NA</td><td>      NA</td><td>      NA</td><td>F14_Common_Bream</td><td>simple </td></tr>\n",
       "\t<tr><th scope=row>F35_Red_Deer</th><td>F35_Red_Deer    </td><td>F35</td><td>Rothirsch</td><td>Red.Deer    </td><td>Cervus_elaphus</td><td>NA</td><td> 9860</td><td>Mammalia      </td><td>Artiodactyla </td><td>Cervidae  </td><td>⋯</td><td>52.24132</td><td>27.18306</td><td>0.4858472</td><td>0.1686955</td><td>38.67117</td><td>21.30162</td><td>2066.942</td><td>1075.505</td><td>F35_Red_Deer    </td><td>foregut</td></tr>\n",
       "\t<tr><th scope=row>⋮</th><td>⋮</td><td>⋮</td><td>⋮</td><td>⋮</td><td>⋮</td><td>⋮</td><td>⋮</td><td>⋮</td><td>⋮</td><td>⋮</td><td>⋱</td><td>⋮</td><td>⋮</td><td>⋮</td><td>⋮</td><td>⋮</td><td>⋮</td><td>⋮</td><td>⋮</td><td>⋮</td><td>⋮</td></tr>\n",
       "\t<tr><th scope=row>X431_Quagga</th><td>X431_Quagga     </td><td>431</td><td>Steppenzebra</td><td>Quagga      </td><td>Equus_quagga       </td><td>NA</td><td>89252</td><td>Mammalia</td><td>Perissodactyla</td><td>Equidae </td><td>⋯</td><td>NA</td><td>NA</td><td>NA</td><td>NA</td><td>NA</td><td>NA</td><td>NA</td><td>NA</td><td>X431_Quagga     </td><td>hindgut</td></tr>\n",
       "\t<tr><th scope=row>X67_European_Roe</th><td>X67_European_Roe</td><td>67 </td><td>Reh         </td><td>European.Roe</td><td>Capreolus_capreolus</td><td>NA</td><td> 9858</td><td>Mammalia</td><td>Artiodactyla  </td><td>Cervidae</td><td>⋯</td><td>NA</td><td>NA</td><td>NA</td><td>NA</td><td>NA</td><td>NA</td><td>NA</td><td>NA</td><td>X67_European_Roe</td><td>foregut</td></tr>\n",
       "</tbody>\n",
       "</table>\n"
      ],
      "text/latex": [
       "A data.frame: 185 × 90\n",
       "\\begin{tabular}{r|lllllllllllllllllllll}\n",
       "  & SampleID & host\\_subject\\_id & host\\_german\\_name & host\\_common\\_name & scientific\\_name & scientific\\_name\\_subspecies & host\\_taxid & class & order & family & ⋯ & i.CH4\\_L.d\\_mean & i.CH4\\_L.d\\_sd & i.CH4\\_L.kgBM\\_mean & i.CH4\\_L.kgBM\\_sd & i.CH4\\_g.d\\_mean & i.CH4\\_g.d\\_sd & i.CH4\\_kJ.d\\_mean & i.CH4\\_kJ.d\\_sd & Sample & dig\\_sys\\\\\n",
       "  & <chr> & <chr> & <chr> & <chr> & <chr> & <chr> & <int> & <chr> & <chr> & <chr> & ⋯ & <dbl> & <dbl> & <dbl> & <dbl> & <dbl> & <dbl> & <dbl> & <dbl> & <chr> & <chr>\\\\\n",
       "\\hline\n",
       "\tF14\\_Common\\_Bream & F14\\_Common\\_Bream & F14 & Brachse   & Common.Bream & Abramis\\_brama  & NA & 38527 & Actinopterygii & Cypriniformes & Cyprinidae & ⋯ &       NA &       NA &        NA &        NA &       NA &       NA &       NA &       NA & F14\\_Common\\_Bream & simple \\\\\n",
       "\tF35\\_Red\\_Deer & F35\\_Red\\_Deer     & F35 & Rothirsch & Red.Deer     & Cervus\\_elaphus & NA &  9860 & Mammalia       & Artiodactyla  & Cervidae   & ⋯ & 52.24132 & 27.18306 & 0.4858472 & 0.1686955 & 38.67117 & 21.30162 & 2066.942 & 1075.505 & F35\\_Red\\_Deer     & foregut\\\\\n",
       "\t⋮ & ⋮ & ⋮ & ⋮ & ⋮ & ⋮ & ⋮ & ⋮ & ⋮ & ⋮ & ⋮ & ⋱ & ⋮ & ⋮ & ⋮ & ⋮ & ⋮ & ⋮ & ⋮ & ⋮ & ⋮ & ⋮\\\\\n",
       "\tX431\\_Quagga & X431\\_Quagga      & 431 & Steppenzebra & Quagga       & Equus\\_quagga        & NA & 89252 & Mammalia & Perissodactyla & Equidae  & ⋯ & NA & NA & NA & NA & NA & NA & NA & NA & X431\\_Quagga      & hindgut\\\\\n",
       "\tX67\\_European\\_Roe & X67\\_European\\_Roe & 67  & Reh          & European.Roe & Capreolus\\_capreolus & NA &  9858 & Mammalia & Artiodactyla   & Cervidae & ⋯ & NA & NA & NA & NA & NA & NA & NA & NA & X67\\_European\\_Roe & foregut\\\\\n",
       "\\end{tabular}\n"
      ],
      "text/markdown": [
       "\n",
       "A data.frame: 185 × 90\n",
       "\n",
       "| <!--/--> | SampleID &lt;chr&gt; | host_subject_id &lt;chr&gt; | host_german_name &lt;chr&gt; | host_common_name &lt;chr&gt; | scientific_name &lt;chr&gt; | scientific_name_subspecies &lt;chr&gt; | host_taxid &lt;int&gt; | class &lt;chr&gt; | order &lt;chr&gt; | family &lt;chr&gt; | ⋯ ⋯ | i.CH4_L.d_mean &lt;dbl&gt; | i.CH4_L.d_sd &lt;dbl&gt; | i.CH4_L.kgBM_mean &lt;dbl&gt; | i.CH4_L.kgBM_sd &lt;dbl&gt; | i.CH4_g.d_mean &lt;dbl&gt; | i.CH4_g.d_sd &lt;dbl&gt; | i.CH4_kJ.d_mean &lt;dbl&gt; | i.CH4_kJ.d_sd &lt;dbl&gt; | Sample &lt;chr&gt; | dig_sys &lt;chr&gt; |\n",
       "|---|---|---|---|---|---|---|---|---|---|---|---|---|---|---|---|---|---|---|---|---|---|\n",
       "| F14_Common_Bream | F14_Common_Bream | F14 | Brachse   | Common.Bream | Abramis_brama  | NA | 38527 | Actinopterygii | Cypriniformes | Cyprinidae | ⋯ |       NA |       NA |        NA |        NA |       NA |       NA |       NA |       NA | F14_Common_Bream | simple  |\n",
       "| F35_Red_Deer | F35_Red_Deer     | F35 | Rothirsch | Red.Deer     | Cervus_elaphus | NA |  9860 | Mammalia       | Artiodactyla  | Cervidae   | ⋯ | 52.24132 | 27.18306 | 0.4858472 | 0.1686955 | 38.67117 | 21.30162 | 2066.942 | 1075.505 | F35_Red_Deer     | foregut |\n",
       "| ⋮ | ⋮ | ⋮ | ⋮ | ⋮ | ⋮ | ⋮ | ⋮ | ⋮ | ⋮ | ⋮ | ⋱ | ⋮ | ⋮ | ⋮ | ⋮ | ⋮ | ⋮ | ⋮ | ⋮ | ⋮ | ⋮ |\n",
       "| X431_Quagga | X431_Quagga      | 431 | Steppenzebra | Quagga       | Equus_quagga        | NA | 89252 | Mammalia | Perissodactyla | Equidae  | ⋯ | NA | NA | NA | NA | NA | NA | NA | NA | X431_Quagga      | hindgut |\n",
       "| X67_European_Roe | X67_European_Roe | 67  | Reh          | European.Roe | Capreolus_capreolus | NA |  9858 | Mammalia | Artiodactyla   | Cervidae | ⋯ | NA | NA | NA | NA | NA | NA | NA | NA | X67_European_Roe | foregut |\n",
       "\n"
      ],
      "text/plain": [
       "                 SampleID         host_subject_id host_german_name\n",
       "F14_Common_Bream F14_Common_Bream F14             Brachse         \n",
       "F35_Red_Deer     F35_Red_Deer     F35             Rothirsch       \n",
       "⋮                ⋮                ⋮               ⋮               \n",
       "X431_Quagga      X431_Quagga      431             Steppenzebra    \n",
       "X67_European_Roe X67_European_Roe 67              Reh             \n",
       "                 host_common_name scientific_name    \n",
       "F14_Common_Bream Common.Bream     Abramis_brama      \n",
       "F35_Red_Deer     Red.Deer         Cervus_elaphus     \n",
       "⋮                ⋮                ⋮                  \n",
       "X431_Quagga      Quagga           Equus_quagga       \n",
       "X67_European_Roe European.Roe     Capreolus_capreolus\n",
       "                 scientific_name_subspecies host_taxid class         \n",
       "F14_Common_Bream NA                         38527      Actinopterygii\n",
       "F35_Red_Deer     NA                          9860      Mammalia      \n",
       "⋮                ⋮                          ⋮          ⋮             \n",
       "X431_Quagga      NA                         89252      Mammalia      \n",
       "X67_European_Roe NA                          9858      Mammalia      \n",
       "                 order          family     ⋯ i.CH4_L.d_mean i.CH4_L.d_sd\n",
       "F14_Common_Bream Cypriniformes  Cyprinidae ⋯       NA             NA    \n",
       "F35_Red_Deer     Artiodactyla   Cervidae   ⋯ 52.24132       27.18306    \n",
       "⋮                ⋮              ⋮          ⋱ ⋮              ⋮           \n",
       "X431_Quagga      Perissodactyla Equidae    ⋯ NA             NA          \n",
       "X67_European_Roe Artiodactyla   Cervidae   ⋯ NA             NA          \n",
       "                 i.CH4_L.kgBM_mean i.CH4_L.kgBM_sd i.CH4_g.d_mean i.CH4_g.d_sd\n",
       "F14_Common_Bream        NA                NA             NA             NA    \n",
       "F35_Red_Deer     0.4858472         0.1686955       38.67117       21.30162    \n",
       "⋮                ⋮                 ⋮               ⋮              ⋮           \n",
       "X431_Quagga      NA                NA              NA             NA          \n",
       "X67_European_Roe NA                NA              NA             NA          \n",
       "                 i.CH4_kJ.d_mean i.CH4_kJ.d_sd Sample           dig_sys\n",
       "F14_Common_Bream       NA              NA      F14_Common_Bream simple \n",
       "F35_Red_Deer     2066.942        1075.505      F35_Red_Deer     foregut\n",
       "⋮                ⋮               ⋮             ⋮                ⋮      \n",
       "X431_Quagga      NA              NA            X431_Quagga      hindgut\n",
       "X67_European_Roe NA              NA            X67_European_Roe foregut"
      ]
     },
     "metadata": {},
     "output_type": "display_data"
    }
   ],
   "source": [
    "# metadata\n",
    "metadata = physeq %>% \n",
    "    phyloseq2df(sample_data) %>%\n",
    "    mutate(scientific_name = gsub(' ', '_', scientific_name),\n",
    "           digestive_system = gsub('fermentation activity ', '', digestive_system),\n",
    "           dig_sys = gsub('simple ', '', digestive_system)) %>%\n",
    "    as.data.frame\n",
    "rownames(metadata) = metadata$SampleID\n",
    "metadata "
   ]
  },
  {
   "cell_type": "code",
   "execution_count": 7,
   "metadata": {
    "ExecuteTime": {
     "end_time": "2020-08-26T17:30:46.125000Z",
     "start_time": "2020-08-26T17:30:46.059Z"
    }
   },
   "outputs": [
    {
     "data": {
      "text/html": [
       "4"
      ],
      "text/latex": [
       "4"
      ],
      "text/markdown": [
       "4"
      ],
      "text/plain": [
       "[1] 4"
      ]
     },
     "metadata": {},
     "output_type": "display_data"
    }
   ],
   "source": [
    "# beta diversity calculated by QIIME2 (rarefaction)\n",
    "beta_div = readRDS(beta_div_file) \n",
    "beta_div %>% length"
   ]
  },
  {
   "cell_type": "code",
   "execution_count": 8,
   "metadata": {
    "ExecuteTime": {
     "end_time": "2020-08-26T17:30:50.698547Z",
     "start_time": "2020-08-26T17:30:50.626Z"
    }
   },
   "outputs": [
    {
     "data": {
      "text/plain": [
       "\n",
       "Phylogenetic tree with 185 tips and 184 internal nodes.\n",
       "\n",
       "Tip labels:\n",
       "\tX60_European_Chub, X179_Roach, X330_Ide, X327_Silver_Bream, X326_Silver_Bream, F14_Common_Bream, ...\n",
       "Node labels:\n",
       "\t, @_20_@, @_17_@, @_14_@, @_9_@, @_15_@, ...\n",
       "\n",
       "Rooted; includes branch lengths."
      ]
     },
     "metadata": {},
     "output_type": "display_data"
    }
   ],
   "source": [
    "# host phylogeny\n",
    "host_tree = read.tree(host_tree_IndD_file)\n",
    "host_tree"
   ]
  },
  {
   "cell_type": "markdown",
   "metadata": {},
   "source": [
    "# beta div PCoA PCs"
   ]
  },
  {
   "cell_type": "code",
   "execution_count": 56,
   "metadata": {
    "ExecuteTime": {
     "end_time": "2020-08-26T17:45:09.871786Z",
     "start_time": "2020-08-26T17:45:09.827Z"
    }
   },
   "outputs": [],
   "source": [
    "pcoa = function(id, dist_list, k=5){\n",
    "    # making PCoA plot \n",
    "    # id = list name\n",
    "    # dist_list = list of distance matrixes\n",
    "    # make_plt = create plot?\n",
    "    \n",
    "    d = dist_list[[id]]\n",
    "    # using cmdscale for getting PCoA \n",
    "    r = cmdscale(d, eig=TRUE, k=k)\n",
    "    df = as.data.frame(r$points)\n",
    "    df$Sample = rownames(df)\n",
    "    df$dist = id\n",
    "    return(df)\n",
    "}"
   ]
  },
  {
   "cell_type": "code",
   "execution_count": 57,
   "metadata": {
    "ExecuteTime": {
     "end_time": "2020-08-26T17:45:10.107341Z",
     "start_time": "2020-08-26T17:45:09.976Z"
    }
   },
   "outputs": [
    {
     "data": {
      "text/html": [
       "<table>\n",
       "<caption>A data.frame: 740 × 7</caption>\n",
       "<thead>\n",
       "\t<tr><th></th><th scope=col>PC1</th><th scope=col>PC2</th><th scope=col>PC3</th><th scope=col>PC4</th><th scope=col>PC5</th><th scope=col>Sample</th><th scope=col>dist</th></tr>\n",
       "\t<tr><th></th><th scope=col>&lt;dbl&gt;</th><th scope=col>&lt;dbl&gt;</th><th scope=col>&lt;dbl&gt;</th><th scope=col>&lt;dbl&gt;</th><th scope=col>&lt;dbl&gt;</th><th scope=col>&lt;chr&gt;</th><th scope=col>&lt;chr&gt;</th></tr>\n",
       "</thead>\n",
       "<tbody>\n",
       "\t<tr><th scope=row>F14_Common_Bream</th><td> 0.1208262</td><td>-0.2262896</td><td>-0.3035369</td><td> 0.10187296</td><td>0.03771982</td><td>F14_Common_Bream</td><td>bray_curtis</td></tr>\n",
       "\t<tr><th scope=row>F35_Red_Deer</th><td>-0.2981791</td><td>-0.1792220</td><td> 0.2009252</td><td>-0.01909055</td><td>0.03321149</td><td>F35_Red_Deer    </td><td>bray_curtis</td></tr>\n",
       "\t<tr><th scope=row>⋮</th><td>⋮</td><td>⋮</td><td>⋮</td><td>⋮</td><td>⋮</td><td>⋮</td><td>⋮</td></tr>\n",
       "\t<tr><th scope=row>X431_Quagga3</th><td> 1.5130192</td><td>-0.142210002</td><td>-0.35478443</td><td>-0.18108222</td><td>-0.19320644</td><td>X431_Quagga     </td><td>weighted_unifrac</td></tr>\n",
       "\t<tr><th scope=row>X67_European_Roe3</th><td>-0.4745075</td><td> 0.005165221</td><td> 0.05367902</td><td>-0.06638933</td><td>-0.08896124</td><td>X67_European_Roe</td><td>weighted_unifrac</td></tr>\n",
       "</tbody>\n",
       "</table>\n"
      ],
      "text/latex": [
       "A data.frame: 740 × 7\n",
       "\\begin{tabular}{r|lllllll}\n",
       "  & PC1 & PC2 & PC3 & PC4 & PC5 & Sample & dist\\\\\n",
       "  & <dbl> & <dbl> & <dbl> & <dbl> & <dbl> & <chr> & <chr>\\\\\n",
       "\\hline\n",
       "\tF14\\_Common\\_Bream &  0.1208262 & -0.2262896 & -0.3035369 &  0.10187296 & 0.03771982 & F14\\_Common\\_Bream & bray\\_curtis\\\\\n",
       "\tF35\\_Red\\_Deer & -0.2981791 & -0.1792220 &  0.2009252 & -0.01909055 & 0.03321149 & F35\\_Red\\_Deer     & bray\\_curtis\\\\\n",
       "\t⋮ & ⋮ & ⋮ & ⋮ & ⋮ & ⋮ & ⋮ & ⋮\\\\\n",
       "\tX431\\_Quagga3 &  1.5130192 & -0.142210002 & -0.35478443 & -0.18108222 & -0.19320644 & X431\\_Quagga      & weighted\\_unifrac\\\\\n",
       "\tX67\\_European\\_Roe3 & -0.4745075 &  0.005165221 &  0.05367902 & -0.06638933 & -0.08896124 & X67\\_European\\_Roe & weighted\\_unifrac\\\\\n",
       "\\end{tabular}\n"
      ],
      "text/markdown": [
       "\n",
       "A data.frame: 740 × 7\n",
       "\n",
       "| <!--/--> | PC1 &lt;dbl&gt; | PC2 &lt;dbl&gt; | PC3 &lt;dbl&gt; | PC4 &lt;dbl&gt; | PC5 &lt;dbl&gt; | Sample &lt;chr&gt; | dist &lt;chr&gt; |\n",
       "|---|---|---|---|---|---|---|---|\n",
       "| F14_Common_Bream |  0.1208262 | -0.2262896 | -0.3035369 |  0.10187296 | 0.03771982 | F14_Common_Bream | bray_curtis |\n",
       "| F35_Red_Deer | -0.2981791 | -0.1792220 |  0.2009252 | -0.01909055 | 0.03321149 | F35_Red_Deer     | bray_curtis |\n",
       "| ⋮ | ⋮ | ⋮ | ⋮ | ⋮ | ⋮ | ⋮ | ⋮ |\n",
       "| X431_Quagga3 |  1.5130192 | -0.142210002 | -0.35478443 | -0.18108222 | -0.19320644 | X431_Quagga      | weighted_unifrac |\n",
       "| X67_European_Roe3 | -0.4745075 |  0.005165221 |  0.05367902 | -0.06638933 | -0.08896124 | X67_European_Roe | weighted_unifrac |\n",
       "\n"
      ],
      "text/plain": [
       "                  PC1        PC2          PC3         PC4         PC5        \n",
       "F14_Common_Bream   0.1208262 -0.2262896   -0.3035369   0.10187296 0.03771982 \n",
       "F35_Red_Deer      -0.2981791 -0.1792220    0.2009252  -0.01909055 0.03321149 \n",
       "⋮                 ⋮          ⋮            ⋮           ⋮           ⋮          \n",
       "X431_Quagga3       1.5130192 -0.142210002 -0.35478443 -0.18108222 -0.19320644\n",
       "X67_European_Roe3 -0.4745075  0.005165221  0.05367902 -0.06638933 -0.08896124\n",
       "                  Sample           dist            \n",
       "F14_Common_Bream  F14_Common_Bream bray_curtis     \n",
       "F35_Red_Deer      F35_Red_Deer     bray_curtis     \n",
       "⋮                 ⋮                ⋮               \n",
       "X431_Quagga3      X431_Quagga      weighted_unifrac\n",
       "X67_European_Roe3 X67_European_Roe weighted_unifrac"
      ]
     },
     "metadata": {},
     "output_type": "display_data"
    }
   ],
   "source": [
    "PCs = plyr::llply(names(beta_div), pcoa, dist_list=beta_div) %>%\n",
    "    do.call(rbind, .)\n",
    "colnames(PCs) = gsub('^V', 'PC', colnames(PCs))\n",
    "PCs"
   ]
  },
  {
   "cell_type": "markdown",
   "metadata": {},
   "source": [
    "## Format"
   ]
  },
  {
   "cell_type": "code",
   "execution_count": 58,
   "metadata": {
    "ExecuteTime": {
     "end_time": "2020-08-26T17:45:12.558404Z",
     "start_time": "2020-08-26T17:45:12.461Z"
    }
   },
   "outputs": [
    {
     "data": {
      "text/html": [
       "<table>\n",
       "<caption>A data.frame: 740 × 18</caption>\n",
       "<thead>\n",
       "\t<tr><th scope=col>PC1</th><th scope=col>PC2</th><th scope=col>PC3</th><th scope=col>PC4</th><th scope=col>PC5</th><th scope=col>Sample</th><th scope=col>dist</th><th scope=col>diet</th><th scope=col>diet_vertebrate</th><th scope=col>diet_invertebrate</th><th scope=col>diet_fruit</th><th scope=col>diet_flowers_nectar_pollen</th><th scope=col>diet_leaves_branches_bark_buds</th><th scope=col>diet_seeds</th><th scope=col>diet_grass_waterplants</th><th scope=col>diet_roots_tubers</th><th scope=col>digestive_system</th><th scope=col>dig_sys</th></tr>\n",
       "\t<tr><th scope=col>&lt;dbl&gt;</th><th scope=col>&lt;dbl&gt;</th><th scope=col>&lt;dbl&gt;</th><th scope=col>&lt;dbl&gt;</th><th scope=col>&lt;dbl&gt;</th><th scope=col>&lt;chr&gt;</th><th scope=col>&lt;chr&gt;</th><th scope=col>&lt;chr&gt;</th><th scope=col>&lt;chr&gt;</th><th scope=col>&lt;chr&gt;</th><th scope=col>&lt;chr&gt;</th><th scope=col>&lt;chr&gt;</th><th scope=col>&lt;chr&gt;</th><th scope=col>&lt;chr&gt;</th><th scope=col>&lt;chr&gt;</th><th scope=col>&lt;chr&gt;</th><th scope=col>&lt;chr&gt;</th><th scope=col>&lt;chr&gt;</th></tr>\n",
       "</thead>\n",
       "<tbody>\n",
       "\t<tr><td> 0.1208262</td><td>-0.2262896</td><td>-0.3035369</td><td> 0.10187296</td><td>0.03771982</td><td>F14_Common_Bream</td><td>bray_curtis</td><td>omnivore </td><td>no</td><td>yes</td><td>no </td><td>no</td><td>no </td><td>no </td><td>yes</td><td>no </td><td>simple </td><td>simple </td></tr>\n",
       "\t<tr><td>-0.2981791</td><td>-0.1792220</td><td> 0.2009252</td><td>-0.01909055</td><td>0.03321149</td><td>F35_Red_Deer    </td><td>bray_curtis</td><td>herbivore</td><td>no</td><td>no </td><td>yes</td><td>no</td><td>yes</td><td>yes</td><td>yes</td><td>yes</td><td>foregut</td><td>foregut</td></tr>\n",
       "\t<tr><td>⋮</td><td>⋮</td><td>⋮</td><td>⋮</td><td>⋮</td><td>⋮</td><td>⋮</td><td>⋮</td><td>⋮</td><td>⋮</td><td>⋮</td><td>⋮</td><td>⋮</td><td>⋮</td><td>⋮</td><td>⋮</td><td>⋮</td><td>⋮</td></tr>\n",
       "\t<tr><td> 1.5130192</td><td>-0.142210002</td><td>-0.35478443</td><td>-0.18108222</td><td>-0.19320644</td><td>X431_Quagga     </td><td>weighted_unifrac</td><td>herbivore</td><td>no</td><td>no</td><td>no </td><td>no</td><td>no </td><td>yes</td><td>yes</td><td>no</td><td>hindgut</td><td>hindgut</td></tr>\n",
       "\t<tr><td>-0.4745075</td><td> 0.005165221</td><td> 0.05367902</td><td>-0.06638933</td><td>-0.08896124</td><td>X67_European_Roe</td><td>weighted_unifrac</td><td>herbivore</td><td>no</td><td>no</td><td>yes</td><td>no</td><td>yes</td><td>yes</td><td>yes</td><td>no</td><td>foregut</td><td>foregut</td></tr>\n",
       "</tbody>\n",
       "</table>\n"
      ],
      "text/latex": [
       "A data.frame: 740 × 18\n",
       "\\begin{tabular}{llllllllllllllllll}\n",
       " PC1 & PC2 & PC3 & PC4 & PC5 & Sample & dist & diet & diet\\_vertebrate & diet\\_invertebrate & diet\\_fruit & diet\\_flowers\\_nectar\\_pollen & diet\\_leaves\\_branches\\_bark\\_buds & diet\\_seeds & diet\\_grass\\_waterplants & diet\\_roots\\_tubers & digestive\\_system & dig\\_sys\\\\\n",
       " <dbl> & <dbl> & <dbl> & <dbl> & <dbl> & <chr> & <chr> & <chr> & <chr> & <chr> & <chr> & <chr> & <chr> & <chr> & <chr> & <chr> & <chr> & <chr>\\\\\n",
       "\\hline\n",
       "\t  0.1208262 & -0.2262896 & -0.3035369 &  0.10187296 & 0.03771982 & F14\\_Common\\_Bream & bray\\_curtis & omnivore  & no & yes & no  & no & no  & no  & yes & no  & simple  & simple \\\\\n",
       "\t -0.2981791 & -0.1792220 &  0.2009252 & -0.01909055 & 0.03321149 & F35\\_Red\\_Deer     & bray\\_curtis & herbivore & no & no  & yes & no & yes & yes & yes & yes & foregut & foregut\\\\\n",
       "\t ⋮ & ⋮ & ⋮ & ⋮ & ⋮ & ⋮ & ⋮ & ⋮ & ⋮ & ⋮ & ⋮ & ⋮ & ⋮ & ⋮ & ⋮ & ⋮ & ⋮ & ⋮\\\\\n",
       "\t  1.5130192 & -0.142210002 & -0.35478443 & -0.18108222 & -0.19320644 & X431\\_Quagga      & weighted\\_unifrac & herbivore & no & no & no  & no & no  & yes & yes & no & hindgut & hindgut\\\\\n",
       "\t -0.4745075 &  0.005165221 &  0.05367902 & -0.06638933 & -0.08896124 & X67\\_European\\_Roe & weighted\\_unifrac & herbivore & no & no & yes & no & yes & yes & yes & no & foregut & foregut\\\\\n",
       "\\end{tabular}\n"
      ],
      "text/markdown": [
       "\n",
       "A data.frame: 740 × 18\n",
       "\n",
       "| PC1 &lt;dbl&gt; | PC2 &lt;dbl&gt; | PC3 &lt;dbl&gt; | PC4 &lt;dbl&gt; | PC5 &lt;dbl&gt; | Sample &lt;chr&gt; | dist &lt;chr&gt; | diet &lt;chr&gt; | diet_vertebrate &lt;chr&gt; | diet_invertebrate &lt;chr&gt; | diet_fruit &lt;chr&gt; | diet_flowers_nectar_pollen &lt;chr&gt; | diet_leaves_branches_bark_buds &lt;chr&gt; | diet_seeds &lt;chr&gt; | diet_grass_waterplants &lt;chr&gt; | diet_roots_tubers &lt;chr&gt; | digestive_system &lt;chr&gt; | dig_sys &lt;chr&gt; |\n",
       "|---|---|---|---|---|---|---|---|---|---|---|---|---|---|---|---|---|---|\n",
       "|  0.1208262 | -0.2262896 | -0.3035369 |  0.10187296 | 0.03771982 | F14_Common_Bream | bray_curtis | omnivore  | no | yes | no  | no | no  | no  | yes | no  | simple  | simple  |\n",
       "| -0.2981791 | -0.1792220 |  0.2009252 | -0.01909055 | 0.03321149 | F35_Red_Deer     | bray_curtis | herbivore | no | no  | yes | no | yes | yes | yes | yes | foregut | foregut |\n",
       "| ⋮ | ⋮ | ⋮ | ⋮ | ⋮ | ⋮ | ⋮ | ⋮ | ⋮ | ⋮ | ⋮ | ⋮ | ⋮ | ⋮ | ⋮ | ⋮ | ⋮ | ⋮ |\n",
       "|  1.5130192 | -0.142210002 | -0.35478443 | -0.18108222 | -0.19320644 | X431_Quagga      | weighted_unifrac | herbivore | no | no | no  | no | no  | yes | yes | no | hindgut | hindgut |\n",
       "| -0.4745075 |  0.005165221 |  0.05367902 | -0.06638933 | -0.08896124 | X67_European_Roe | weighted_unifrac | herbivore | no | no | yes | no | yes | yes | yes | no | foregut | foregut |\n",
       "\n"
      ],
      "text/plain": [
       "    PC1        PC2          PC3         PC4         PC5        \n",
       "1    0.1208262 -0.2262896   -0.3035369   0.10187296 0.03771982 \n",
       "2   -0.2981791 -0.1792220    0.2009252  -0.01909055 0.03321149 \n",
       "⋮   ⋮          ⋮            ⋮           ⋮           ⋮          \n",
       "739  1.5130192 -0.142210002 -0.35478443 -0.18108222 -0.19320644\n",
       "740 -0.4745075  0.005165221  0.05367902 -0.06638933 -0.08896124\n",
       "    Sample           dist             diet      diet_vertebrate\n",
       "1   F14_Common_Bream bray_curtis      omnivore  no             \n",
       "2   F35_Red_Deer     bray_curtis      herbivore no             \n",
       "⋮   ⋮                ⋮                ⋮         ⋮              \n",
       "739 X431_Quagga      weighted_unifrac herbivore no             \n",
       "740 X67_European_Roe weighted_unifrac herbivore no             \n",
       "    diet_invertebrate diet_fruit diet_flowers_nectar_pollen\n",
       "1   yes               no         no                        \n",
       "2   no                yes        no                        \n",
       "⋮   ⋮                 ⋮          ⋮                         \n",
       "739 no                no         no                        \n",
       "740 no                yes        no                        \n",
       "    diet_leaves_branches_bark_buds diet_seeds diet_grass_waterplants\n",
       "1   no                             no         yes                   \n",
       "2   yes                            yes        yes                   \n",
       "⋮   ⋮                              ⋮          ⋮                     \n",
       "739 no                             yes        yes                   \n",
       "740 yes                            yes        yes                   \n",
       "    diet_roots_tubers digestive_system dig_sys\n",
       "1   no                simple           simple \n",
       "2   yes               foregut          foregut\n",
       "⋮   ⋮                 ⋮                ⋮      \n",
       "739 no                hindgut          hindgut\n",
       "740 no                foregut          foregut"
      ]
     },
     "metadata": {},
     "output_type": "display_data"
    }
   ],
   "source": [
    "diet_vars = c(\n",
    "'SampleID',\n",
    "'diet',\n",
    "'diet_vertebrate',\n",
    "'diet_invertebrate',\n",
    "'diet_fruit',\n",
    "'diet_flowers_nectar_pollen',\n",
    "'diet_leaves_branches_bark_buds',\n",
    "'diet_seeds',\n",
    "'diet_grass_waterplants',\n",
    "'diet_roots_tubers',\n",
    "'digestive_system',\n",
    "'dig_sys'\n",
    ")\n",
    "\n",
    "PCs = PCs %>%\n",
    "    inner_join(metadata[,diet_vars], c('Sample'='SampleID'))\n",
    "PCs"
   ]
  },
  {
   "cell_type": "code",
   "execution_count": 60,
   "metadata": {
    "ExecuteTime": {
     "end_time": "2020-08-26T17:46:21.958585Z",
     "start_time": "2020-08-26T17:46:21.833Z"
    }
   },
   "outputs": [
    {
     "data": {
      "text/html": [
       "<table>\n",
       "<caption>A data.frame: 740 × 19</caption>\n",
       "<thead>\n",
       "\t<tr><th scope=col>PC1</th><th scope=col>PC2</th><th scope=col>PC3</th><th scope=col>PC4</th><th scope=col>PC5</th><th scope=col>Sample</th><th scope=col>dist</th><th scope=col>diet</th><th scope=col>diet_vertebrate</th><th scope=col>diet_invertebrate</th><th scope=col>diet_fruit</th><th scope=col>diet_flowers_nectar_pollen</th><th scope=col>diet_leaves_branches_bark_buds</th><th scope=col>diet_seeds</th><th scope=col>diet_grass_waterplants</th><th scope=col>diet_roots_tubers</th><th scope=col>digestive_system</th><th scope=col>dig_sys</th><th scope=col>taxa</th></tr>\n",
       "\t<tr><th scope=col>&lt;dbl&gt;</th><th scope=col>&lt;dbl&gt;</th><th scope=col>&lt;dbl&gt;</th><th scope=col>&lt;dbl&gt;</th><th scope=col>&lt;dbl&gt;</th><th scope=col>&lt;chr&gt;</th><th scope=col>&lt;chr&gt;</th><th scope=col>&lt;dbl&gt;</th><th scope=col>&lt;dbl&gt;</th><th scope=col>&lt;dbl&gt;</th><th scope=col>&lt;dbl&gt;</th><th scope=col>&lt;dbl&gt;</th><th scope=col>&lt;dbl&gt;</th><th scope=col>&lt;dbl&gt;</th><th scope=col>&lt;dbl&gt;</th><th scope=col>&lt;dbl&gt;</th><th scope=col>&lt;dbl&gt;</th><th scope=col>&lt;dbl&gt;</th><th scope=col>&lt;chr&gt;</th></tr>\n",
       "</thead>\n",
       "<tbody>\n",
       "\t<tr><td> 0.1208262</td><td>-0.2262896</td><td>-0.3035369</td><td> 0.10187296</td><td>0.03771982</td><td>F14_Common_Bream</td><td>bray_curtis</td><td>0.5</td><td>0</td><td>1</td><td>0</td><td>0</td><td>0</td><td>0</td><td>1</td><td>0</td><td>0.5</td><td>0.5</td><td>1</td></tr>\n",
       "\t<tr><td>-0.2981791</td><td>-0.1792220</td><td> 0.2009252</td><td>-0.01909055</td><td>0.03321149</td><td>F35_Red_Deer    </td><td>bray_curtis</td><td>1.0</td><td>0</td><td>0</td><td>1</td><td>0</td><td>1</td><td>1</td><td>1</td><td>1</td><td>1.0</td><td>1.0</td><td>2</td></tr>\n",
       "\t<tr><td>⋮</td><td>⋮</td><td>⋮</td><td>⋮</td><td>⋮</td><td>⋮</td><td>⋮</td><td>⋮</td><td>⋮</td><td>⋮</td><td>⋮</td><td>⋮</td><td>⋮</td><td>⋮</td><td>⋮</td><td>⋮</td><td>⋮</td><td>⋮</td><td>⋮</td></tr>\n",
       "\t<tr><td> 1.5130192</td><td>-0.142210002</td><td>-0.35478443</td><td>-0.18108222</td><td>-0.19320644</td><td>X431_Quagga     </td><td>weighted_unifrac</td><td>1</td><td>0</td><td>0</td><td>0</td><td>0</td><td>0</td><td>1</td><td>1</td><td>0</td><td>0</td><td>0</td><td>739</td></tr>\n",
       "\t<tr><td>-0.4745075</td><td> 0.005165221</td><td> 0.05367902</td><td>-0.06638933</td><td>-0.08896124</td><td>X67_European_Roe</td><td>weighted_unifrac</td><td>1</td><td>0</td><td>0</td><td>1</td><td>0</td><td>1</td><td>1</td><td>1</td><td>0</td><td>1</td><td>1</td><td>740</td></tr>\n",
       "</tbody>\n",
       "</table>\n"
      ],
      "text/latex": [
       "A data.frame: 740 × 19\n",
       "\\begin{tabular}{lllllllllllllllllll}\n",
       " PC1 & PC2 & PC3 & PC4 & PC5 & Sample & dist & diet & diet\\_vertebrate & diet\\_invertebrate & diet\\_fruit & diet\\_flowers\\_nectar\\_pollen & diet\\_leaves\\_branches\\_bark\\_buds & diet\\_seeds & diet\\_grass\\_waterplants & diet\\_roots\\_tubers & digestive\\_system & dig\\_sys & taxa\\\\\n",
       " <dbl> & <dbl> & <dbl> & <dbl> & <dbl> & <chr> & <chr> & <dbl> & <dbl> & <dbl> & <dbl> & <dbl> & <dbl> & <dbl> & <dbl> & <dbl> & <dbl> & <dbl> & <chr>\\\\\n",
       "\\hline\n",
       "\t  0.1208262 & -0.2262896 & -0.3035369 &  0.10187296 & 0.03771982 & F14\\_Common\\_Bream & bray\\_curtis & 0.5 & 0 & 1 & 0 & 0 & 0 & 0 & 1 & 0 & 0.5 & 0.5 & 1\\\\\n",
       "\t -0.2981791 & -0.1792220 &  0.2009252 & -0.01909055 & 0.03321149 & F35\\_Red\\_Deer     & bray\\_curtis & 1.0 & 0 & 0 & 1 & 0 & 1 & 1 & 1 & 1 & 1.0 & 1.0 & 2\\\\\n",
       "\t ⋮ & ⋮ & ⋮ & ⋮ & ⋮ & ⋮ & ⋮ & ⋮ & ⋮ & ⋮ & ⋮ & ⋮ & ⋮ & ⋮ & ⋮ & ⋮ & ⋮ & ⋮ & ⋮\\\\\n",
       "\t  1.5130192 & -0.142210002 & -0.35478443 & -0.18108222 & -0.19320644 & X431\\_Quagga      & weighted\\_unifrac & 1 & 0 & 0 & 0 & 0 & 0 & 1 & 1 & 0 & 0 & 0 & 739\\\\\n",
       "\t -0.4745075 &  0.005165221 &  0.05367902 & -0.06638933 & -0.08896124 & X67\\_European\\_Roe & weighted\\_unifrac & 1 & 0 & 0 & 1 & 0 & 1 & 1 & 1 & 0 & 1 & 1 & 740\\\\\n",
       "\\end{tabular}\n"
      ],
      "text/markdown": [
       "\n",
       "A data.frame: 740 × 19\n",
       "\n",
       "| PC1 &lt;dbl&gt; | PC2 &lt;dbl&gt; | PC3 &lt;dbl&gt; | PC4 &lt;dbl&gt; | PC5 &lt;dbl&gt; | Sample &lt;chr&gt; | dist &lt;chr&gt; | diet &lt;dbl&gt; | diet_vertebrate &lt;dbl&gt; | diet_invertebrate &lt;dbl&gt; | diet_fruit &lt;dbl&gt; | diet_flowers_nectar_pollen &lt;dbl&gt; | diet_leaves_branches_bark_buds &lt;dbl&gt; | diet_seeds &lt;dbl&gt; | diet_grass_waterplants &lt;dbl&gt; | diet_roots_tubers &lt;dbl&gt; | digestive_system &lt;dbl&gt; | dig_sys &lt;dbl&gt; | taxa &lt;chr&gt; |\n",
       "|---|---|---|---|---|---|---|---|---|---|---|---|---|---|---|---|---|---|---|\n",
       "|  0.1208262 | -0.2262896 | -0.3035369 |  0.10187296 | 0.03771982 | F14_Common_Bream | bray_curtis | 0.5 | 0 | 1 | 0 | 0 | 0 | 0 | 1 | 0 | 0.5 | 0.5 | 1 |\n",
       "| -0.2981791 | -0.1792220 |  0.2009252 | -0.01909055 | 0.03321149 | F35_Red_Deer     | bray_curtis | 1.0 | 0 | 0 | 1 | 0 | 1 | 1 | 1 | 1 | 1.0 | 1.0 | 2 |\n",
       "| ⋮ | ⋮ | ⋮ | ⋮ | ⋮ | ⋮ | ⋮ | ⋮ | ⋮ | ⋮ | ⋮ | ⋮ | ⋮ | ⋮ | ⋮ | ⋮ | ⋮ | ⋮ | ⋮ |\n",
       "|  1.5130192 | -0.142210002 | -0.35478443 | -0.18108222 | -0.19320644 | X431_Quagga      | weighted_unifrac | 1 | 0 | 0 | 0 | 0 | 0 | 1 | 1 | 0 | 0 | 0 | 739 |\n",
       "| -0.4745075 |  0.005165221 |  0.05367902 | -0.06638933 | -0.08896124 | X67_European_Roe | weighted_unifrac | 1 | 0 | 0 | 1 | 0 | 1 | 1 | 1 | 0 | 1 | 1 | 740 |\n",
       "\n"
      ],
      "text/plain": [
       "    PC1        PC2          PC3         PC4         PC5        \n",
       "1    0.1208262 -0.2262896   -0.3035369   0.10187296 0.03771982 \n",
       "2   -0.2981791 -0.1792220    0.2009252  -0.01909055 0.03321149 \n",
       "⋮   ⋮          ⋮            ⋮           ⋮           ⋮          \n",
       "739  1.5130192 -0.142210002 -0.35478443 -0.18108222 -0.19320644\n",
       "740 -0.4745075  0.005165221  0.05367902 -0.06638933 -0.08896124\n",
       "    Sample           dist             diet diet_vertebrate diet_invertebrate\n",
       "1   F14_Common_Bream bray_curtis      0.5  0               1                \n",
       "2   F35_Red_Deer     bray_curtis      1.0  0               0                \n",
       "⋮   ⋮                ⋮                ⋮    ⋮               ⋮                \n",
       "739 X431_Quagga      weighted_unifrac 1    0               0                \n",
       "740 X67_European_Roe weighted_unifrac 1    0               0                \n",
       "    diet_fruit diet_flowers_nectar_pollen diet_leaves_branches_bark_buds\n",
       "1   0          0                          0                             \n",
       "2   1          0                          1                             \n",
       "⋮   ⋮          ⋮                          ⋮                             \n",
       "739 0          0                          0                             \n",
       "740 1          0                          1                             \n",
       "    diet_seeds diet_grass_waterplants diet_roots_tubers digestive_system\n",
       "1   0          1                      0                 0.5             \n",
       "2   1          1                      1                 1.0             \n",
       "⋮   ⋮          ⋮                      ⋮                 ⋮               \n",
       "739 1          1                      0                 0               \n",
       "740 1          1                      0                 1               \n",
       "    dig_sys taxa\n",
       "1   0.5     1   \n",
       "2   1.0     2   \n",
       "⋮   ⋮       ⋮   \n",
       "739 0       739 \n",
       "740 1       740 "
      ]
     },
     "metadata": {},
     "output_type": "display_data"
    }
   ],
   "source": [
    "# encoding diet vars as numeric\n",
    "PCs$diet = case_when(PCs$diet == 'herbivore' ~ 1,\n",
    "                     PCs$diet == 'omnivore' ~ 0.5,\n",
    "                     PCs$diet == 'carnivore' ~ 0)\n",
    "\n",
    "PCs$digestive_system = case_when(PCs$digestive_system == 'hindgut' ~ 0,\n",
    "                                 PCs$digestive_system == 'simple hindgut' ~ 0.25,\n",
    "                                 PCs$digestive_system == 'simple' ~ 0.5,\n",
    "                                 PCs$digestive_system == 'simple foregut' ~ 0.75,\n",
    "                                 PCs$digestive_system == 'foregut' ~1)\n",
    "\n",
    "\n",
    "PCs$dig_sys = case_when(PCs$dig_sys == 'hindgut' ~ 0,\n",
    "                        PCs$dig_sys == 'simple' ~ 0.5,\n",
    "                        PCs$dig_sys == 'foregut' ~1)\n",
    "\n",
    "vars = c(\n",
    "'diet_vertebrate',\n",
    "'diet_invertebrate',\n",
    "'diet_fruit',\n",
    "'diet_flowers_nectar_pollen',\n",
    "'diet_leaves_branches_bark_buds',\n",
    "'diet_seeds',\n",
    "'diet_grass_waterplants',\n",
    "'diet_roots_tubers'\n",
    ")\n",
    "\n",
    "for(x in vars){\n",
    "    PCs[,x] = gsub(' .+', '', PCs[,x])\n",
    "    PCs[,x] = ifelse(PCs[,x] == 'yes', 1, 0) %>% as.numeric\n",
    "}\n",
    "\n",
    "PCs$taxa = rownames(PCs)\n",
    "PCs"
   ]
  },
  {
   "cell_type": "code",
   "execution_count": 61,
   "metadata": {
    "ExecuteTime": {
     "end_time": "2020-08-26T17:46:26.705412Z",
     "start_time": "2020-08-26T17:46:26.653Z"
    }
   },
   "outputs": [
    {
     "data": {
      "text/html": [
       "<dl class=dl-horizontal>\n",
       "\t<dt>PC1</dt>\n",
       "\t\t<dd>8.24383963871078e-15</dd>\n",
       "\t<dt>PC2</dt>\n",
       "\t\t<dd>2.41090784489084e-14</dd>\n",
       "\t<dt>PC3</dt>\n",
       "\t\t<dd>-2.29542947149941e-14</dd>\n",
       "\t<dt>PC4</dt>\n",
       "\t\t<dd>-3.98570065840431e-14</dd>\n",
       "\t<dt>PC5</dt>\n",
       "\t\t<dd>2.1689247620138e-14</dd>\n",
       "</dl>\n"
      ],
      "text/latex": [
       "\\begin{description*}\n",
       "\\item[PC1] 8.24383963871078e-15\n",
       "\\item[PC2] 2.41090784489084e-14\n",
       "\\item[PC3] -2.29542947149941e-14\n",
       "\\item[PC4] -3.98570065840431e-14\n",
       "\\item[PC5] 2.1689247620138e-14\n",
       "\\end{description*}\n"
      ],
      "text/markdown": [
       "PC1\n",
       ":   8.24383963871078e-15PC2\n",
       ":   2.41090784489084e-14PC3\n",
       ":   -2.29542947149941e-14PC4\n",
       ":   -3.98570065840431e-14PC5\n",
       ":   2.1689247620138e-14\n",
       "\n"
      ],
      "text/plain": [
       "          PC1           PC2           PC3           PC4           PC5 \n",
       " 8.243840e-15  2.410908e-14 -2.295429e-14 -3.985701e-14  2.168925e-14 "
      ]
     },
     "metadata": {},
     "output_type": "display_data"
    }
   ],
   "source": [
    "# checking values\n",
    "colSums(PCs[,1:5])"
   ]
  },
  {
   "cell_type": "markdown",
   "metadata": {},
   "source": [
    "## checks"
   ]
  },
  {
   "cell_type": "code",
   "execution_count": 62,
   "metadata": {
    "ExecuteTime": {
     "end_time": "2020-08-26T17:46:26.986323Z",
     "start_time": "2020-08-26T17:46:26.948Z"
    }
   },
   "outputs": [
    {
     "name": "stdout",
     "output_type": "stream",
     "text": [
      "intersect(x,y): 110 \n",
      "setdiff(x,y): 75 \n",
      "setdiff(y,x): 0 \n",
      "union(x,y): 185 \n"
     ]
    }
   ],
   "source": [
    "overlap(PCs$Sample, host_tree$tip.label)"
   ]
  },
  {
   "cell_type": "code",
   "execution_count": 63,
   "metadata": {
    "ExecuteTime": {
     "end_time": "2020-08-26T17:46:27.122584Z",
     "start_time": "2020-08-26T17:46:27.088Z"
    }
   },
   "outputs": [],
   "source": [
    "# ordering\n",
    "#PCs = PCs[host_tree$tip.label,]\n",
    "#PCs"
   ]
  },
  {
   "cell_type": "markdown",
   "metadata": {},
   "source": [
    "# Host tree subsample"
   ]
  },
  {
   "cell_type": "code",
   "execution_count": 64,
   "metadata": {
    "ExecuteTime": {
     "end_time": "2020-08-26T17:46:28.001748Z",
     "start_time": "2020-08-26T17:46:27.965Z"
    }
   },
   "outputs": [],
   "source": [
    "# replicate analyses with different subsets of the host phylogeny\n",
    "n_reps = 100"
   ]
  },
  {
   "cell_type": "code",
   "execution_count": 65,
   "metadata": {
    "ExecuteTime": {
     "end_time": "2020-08-26T17:46:28.137166Z",
     "start_time": "2020-08-26T17:46:28.100Z"
    }
   },
   "outputs": [],
   "source": [
    "#' randomly selecting one per group\n",
    "tree_subsample = function(L, df, tree){\n",
    "    # get subsample (note: subsampling within each species)\n",
    "    to_keep = df %>% \n",
    "        group_by(scientific_name) %>% \n",
    "        sample_n(1) %>%\n",
    "        .$sample\n",
    "    # subsampling tree\n",
    "    to_rm = setdiff(tree$tip.label, to_keep)\n",
    "    tree = drop.tip(tree, to_rm)\n",
    "    return(tree)\n",
    "}"
   ]
  },
  {
   "cell_type": "code",
   "execution_count": 66,
   "metadata": {
    "ExecuteTime": {
     "end_time": "2020-08-26T17:46:28.699014Z",
     "start_time": "2020-08-26T17:46:28.250Z"
    }
   },
   "outputs": [
    {
     "data": {
      "text/html": [
       "100"
      ],
      "text/latex": [
       "100"
      ],
      "text/markdown": [
       "100"
      ],
      "text/plain": [
       "[1] 100"
      ]
     },
     "metadata": {},
     "output_type": "display_data"
    }
   ],
   "source": [
    "# permuted trees\n",
    "df = metadata %>%\n",
    "    mutate(sample = SampleID) %>%\n",
    "    dplyr::select(sample, scientific_name) \n",
    "\n",
    "doParallel::registerDoParallel(threads)\n",
    "host_tree_l = plyr::llply(as.list(1:n_reps), \n",
    "                          function(x) tree_subsample(x, df, host_tree),\n",
    "                          .parallel=TRUE)\n",
    "host_tree_l %>% length"
   ]
  },
  {
   "cell_type": "code",
   "execution_count": 67,
   "metadata": {
    "ExecuteTime": {
     "end_time": "2020-08-26T17:46:28.744985Z",
     "start_time": "2020-08-26T17:46:28.439Z"
    }
   },
   "outputs": [
    {
     "data": {
      "text/plain": [
       "   Min. 1st Qu.  Median    Mean 3rd Qu.    Max. \n",
       "  81.00   84.00   86.00   86.65   89.25   94.00 "
      ]
     },
     "metadata": {},
     "output_type": "display_data"
    }
   ],
   "source": [
    "# check tips per tree\n",
    "lapply(host_tree_l, function(x) x$tip.label %>% length) %>% unlist %>% summary"
   ]
  },
  {
   "cell_type": "code",
   "execution_count": 77,
   "metadata": {
    "ExecuteTime": {
     "end_time": "2020-08-26T17:53:12.968798Z",
     "start_time": "2020-08-26T17:53:12.915Z"
    }
   },
   "outputs": [
    {
     "data": {
      "text/html": [
       "<ol class=list-inline>\n",
       "\t<li>'bray_curtis'</li>\n",
       "\t<li>'jaccard'</li>\n",
       "\t<li>'unweighted_unifrac'</li>\n",
       "\t<li>'weighted_unifrac'</li>\n",
       "</ol>\n"
      ],
      "text/latex": [
       "\\begin{enumerate*}\n",
       "\\item 'bray\\_curtis'\n",
       "\\item 'jaccard'\n",
       "\\item 'unweighted\\_unifrac'\n",
       "\\item 'weighted\\_unifrac'\n",
       "\\end{enumerate*}\n"
      ],
      "text/markdown": [
       "1. 'bray_curtis'\n",
       "2. 'jaccard'\n",
       "3. 'unweighted_unifrac'\n",
       "4. 'weighted_unifrac'\n",
       "\n",
       "\n"
      ],
      "text/plain": [
       "[1] \"bray_curtis\"        \"jaccard\"            \"unweighted_unifrac\"\n",
       "[4] \"weighted_unifrac\"  "
      ]
     },
     "metadata": {},
     "output_type": "display_data"
    }
   ],
   "source": [
    "beta_dists = PCs$dist %>% unique\n",
    "beta_dists"
   ]
  },
  {
   "cell_type": "markdown",
   "metadata": {},
   "source": [
    "# PGLS"
   ]
  },
  {
   "cell_type": "code",
   "execution_count": 68,
   "metadata": {
    "ExecuteTime": {
     "end_time": "2020-08-26T17:46:30.123995Z",
     "start_time": "2020-08-26T17:46:30.079Z"
    }
   },
   "outputs": [],
   "source": [
    "pgls_each_var = function(y, x, tree, data, dist){\n",
    "    # formatting data\n",
    "    data = data[data$dist == dist,]\n",
    "    rownames(data) = data$Sample\n",
    "    data = data[tree$tip.label,]\n",
    "    cdat = comparative.data(data=data, phy=tree, names.col=\"Sample\")\n",
    "    # PGLS\n",
    "    f = as.formula(paste(c(y, x), collapse=' ~ '))\n",
    "    mod = pgls(f, cdat) %>% summary\n",
    "    # formatting output\n",
    "    df = mod$coefficients %>% as.data.frame\n",
    "    colnames(df) = c('Estimate', 'std_err', 't_value', 'p_value')\n",
    "    df$R2 = mod$adj.r.squared %>% as.vector %>% .[1]\n",
    "    df$x = x\n",
    "    df$y = y\n",
    "    df = df[2,] %>% as.data.frame\n",
    "    return(df)\n",
    "}"
   ]
  },
  {
   "cell_type": "code",
   "execution_count": 69,
   "metadata": {
    "ExecuteTime": {
     "end_time": "2020-08-26T17:46:30.685634Z",
     "start_time": "2020-08-26T17:46:30.461Z"
    }
   },
   "outputs": [
    {
     "data": {
      "text/html": [
       "<table>\n",
       "<caption>A data.frame: 1 × 7</caption>\n",
       "<thead>\n",
       "\t<tr><th></th><th scope=col>Estimate</th><th scope=col>std_err</th><th scope=col>t_value</th><th scope=col>p_value</th><th scope=col>R2</th><th scope=col>x</th><th scope=col>y</th></tr>\n",
       "\t<tr><th></th><th scope=col>&lt;dbl&gt;</th><th scope=col>&lt;dbl&gt;</th><th scope=col>&lt;dbl&gt;</th><th scope=col>&lt;dbl&gt;</th><th scope=col>&lt;dbl&gt;</th><th scope=col>&lt;chr&gt;</th><th scope=col>&lt;chr&gt;</th></tr>\n",
       "</thead>\n",
       "<tbody>\n",
       "\t<tr><th scope=row>diet</th><td>-0.3643992</td><td>0.1182125</td><td>-3.082577</td><td>0.002785269</td><td>0.0919143</td><td>diet</td><td>PC1</td></tr>\n",
       "</tbody>\n",
       "</table>\n"
      ],
      "text/latex": [
       "A data.frame: 1 × 7\n",
       "\\begin{tabular}{r|lllllll}\n",
       "  & Estimate & std\\_err & t\\_value & p\\_value & R2 & x & y\\\\\n",
       "  & <dbl> & <dbl> & <dbl> & <dbl> & <dbl> & <chr> & <chr>\\\\\n",
       "\\hline\n",
       "\tdiet & -0.3643992 & 0.1182125 & -3.082577 & 0.002785269 & 0.0919143 & diet & PC1\\\\\n",
       "\\end{tabular}\n"
      ],
      "text/markdown": [
       "\n",
       "A data.frame: 1 × 7\n",
       "\n",
       "| <!--/--> | Estimate &lt;dbl&gt; | std_err &lt;dbl&gt; | t_value &lt;dbl&gt; | p_value &lt;dbl&gt; | R2 &lt;dbl&gt; | x &lt;chr&gt; | y &lt;chr&gt; |\n",
       "|---|---|---|---|---|---|---|---|\n",
       "| diet | -0.3643992 | 0.1182125 | -3.082577 | 0.002785269 | 0.0919143 | diet | PC1 |\n",
       "\n"
      ],
      "text/plain": [
       "     Estimate   std_err   t_value   p_value     R2        x    y  \n",
       "diet -0.3643992 0.1182125 -3.082577 0.002785269 0.0919143 diet PC1"
      ]
     },
     "metadata": {},
     "output_type": "display_data"
    }
   ],
   "source": [
    "# #-- debug --#\n",
    "rep = 1\n",
    "host_tree = host_tree_l[[rep]]\n",
    "df = otu[host_tree$tip.label,] \n",
    "\n",
    "pgls_each_var(y = 'PC1',\n",
    "              x = 'diet',\n",
    "              tree = host_tree,\n",
    "              data = PCs,\n",
    "              dist = 'bray_curtis')"
   ]
  },
  {
   "cell_type": "code",
   "execution_count": 102,
   "metadata": {
    "ExecuteTime": {
     "end_time": "2020-08-26T18:08:25.814190Z",
     "start_time": "2020-08-26T18:08:25.741Z"
    }
   },
   "outputs": [],
   "source": [
    "#' PGLS on each tree\n",
    "pgls_each_tree = function(rep, y, x, tree_list, data, dist, threads=1){\n",
    "    tree = tree_list[[rep]]\n",
    "    \n",
    "    doParallel::registerDoParallel(threads)\n",
    "    ret = plyr::llply(as.list(y),\n",
    "                      pgls_each_var,\n",
    "                      x = x,\n",
    "                      tree = tree,\n",
    "                      data = data,\n",
    "                      dist = dist,\n",
    "                      .parallel = TRUE)\n",
    "    ret = do.call(rbind, ret)\n",
    "    ret$rep = rep\n",
    "    return(ret)\n",
    "}"
   ]
  },
  {
   "cell_type": "code",
   "execution_count": 103,
   "metadata": {
    "ExecuteTime": {
     "end_time": "2020-08-26T18:08:26.544424Z",
     "start_time": "2020-08-26T18:08:26.111Z"
    }
   },
   "outputs": [
    {
     "data": {
      "text/html": [
       "<table>\n",
       "<caption>A data.frame: 2 × 8</caption>\n",
       "<thead>\n",
       "\t<tr><th></th><th scope=col>Estimate</th><th scope=col>std_err</th><th scope=col>t_value</th><th scope=col>p_value</th><th scope=col>R2</th><th scope=col>x</th><th scope=col>y</th><th scope=col>rep</th></tr>\n",
       "\t<tr><th></th><th scope=col>&lt;dbl&gt;</th><th scope=col>&lt;dbl&gt;</th><th scope=col>&lt;dbl&gt;</th><th scope=col>&lt;dbl&gt;</th><th scope=col>&lt;dbl&gt;</th><th scope=col>&lt;chr&gt;</th><th scope=col>&lt;chr&gt;</th><th scope=col>&lt;dbl&gt;</th></tr>\n",
       "</thead>\n",
       "<tbody>\n",
       "\t<tr><th scope=row>diet</th><td>-0.36439921</td><td>0.11821251</td><td>-3.082577</td><td>0.002785269</td><td> 0.09191430</td><td>diet</td><td>PC1</td><td>1</td></tr>\n",
       "\t<tr><th scope=row>diet1</th><td>-0.03318851</td><td>0.09517318</td><td>-0.348717</td><td>0.728184804</td><td>-0.01056761</td><td>diet</td><td>PC2</td><td>1</td></tr>\n",
       "</tbody>\n",
       "</table>\n"
      ],
      "text/latex": [
       "A data.frame: 2 × 8\n",
       "\\begin{tabular}{r|llllllll}\n",
       "  & Estimate & std\\_err & t\\_value & p\\_value & R2 & x & y & rep\\\\\n",
       "  & <dbl> & <dbl> & <dbl> & <dbl> & <dbl> & <chr> & <chr> & <dbl>\\\\\n",
       "\\hline\n",
       "\tdiet & -0.36439921 & 0.11821251 & -3.082577 & 0.002785269 &  0.09191430 & diet & PC1 & 1\\\\\n",
       "\tdiet1 & -0.03318851 & 0.09517318 & -0.348717 & 0.728184804 & -0.01056761 & diet & PC2 & 1\\\\\n",
       "\\end{tabular}\n"
      ],
      "text/markdown": [
       "\n",
       "A data.frame: 2 × 8\n",
       "\n",
       "| <!--/--> | Estimate &lt;dbl&gt; | std_err &lt;dbl&gt; | t_value &lt;dbl&gt; | p_value &lt;dbl&gt; | R2 &lt;dbl&gt; | x &lt;chr&gt; | y &lt;chr&gt; | rep &lt;dbl&gt; |\n",
       "|---|---|---|---|---|---|---|---|---|\n",
       "| diet | -0.36439921 | 0.11821251 | -3.082577 | 0.002785269 |  0.09191430 | diet | PC1 | 1 |\n",
       "| diet1 | -0.03318851 | 0.09517318 | -0.348717 | 0.728184804 | -0.01056761 | diet | PC2 | 1 |\n",
       "\n"
      ],
      "text/plain": [
       "      Estimate    std_err    t_value   p_value     R2          x    y   rep\n",
       "diet  -0.36439921 0.11821251 -3.082577 0.002785269  0.09191430 diet PC1 1  \n",
       "diet1 -0.03318851 0.09517318 -0.348717 0.728184804 -0.01056761 diet PC2 1  "
      ]
     },
     "metadata": {},
     "output_type": "display_data"
    }
   ],
   "source": [
    "#-- debug --#\n",
    "y = colnames(PCs)[1:2]\n",
    "ret = pgls_each_tree(1,\n",
    "                     y = y,\n",
    "                     x = 'diet',\n",
    "                     tree_list = host_tree_l,\n",
    "                     data = PCs,\n",
    "                     dist = 'bray_curtis',\n",
    "                     threads = threads)\n",
    "\n",
    "#ret = do.call(rbind, ret) %>%\n",
    "#    as.data.frame\n",
    "#colnames(ret) = y\n",
    "\n",
    "ret "
   ]
  },
  {
   "cell_type": "code",
   "execution_count": 113,
   "metadata": {
    "ExecuteTime": {
     "end_time": "2020-08-26T18:10:20.108651Z",
     "start_time": "2020-08-26T18:10:20.054Z"
    }
   },
   "outputs": [],
   "source": [
    "pgls_each_dist = function(dist, x, tree_list, data, threads=1){\n",
    "    y = c('PC1', 'PC2', 'PC3', 'PC4', 'PC5')\n",
    "    ret = 1:length(tree_list) %>%\n",
    "            lapply(pgls_each_tree,\n",
    "                   y = y,\n",
    "                   x = x,\n",
    "                   tree_list = host_tree_l,\n",
    "                   data = PCs,\n",
    "                   dist = dist,\n",
    "                   threads = threads) %>%\n",
    "        do.call(rbind, .)\n",
    "    ret$dist = dist\n",
    "    return(ret)\n",
    "}"
   ]
  },
  {
   "cell_type": "markdown",
   "metadata": {},
   "source": [
    "## Digestive system"
   ]
  },
  {
   "cell_type": "code",
   "execution_count": 156,
   "metadata": {
    "ExecuteTime": {
     "end_time": "2020-08-26T18:26:42.358590Z",
     "start_time": "2020-08-26T18:26:42.286Z"
    }
   },
   "outputs": [
    {
     "data": {
      "text/plain": [
       ".\n",
       "       foregut        hindgut         simple simple foregut simple hindgut \n",
       "            56             29             72              2             26 "
      ]
     },
     "metadata": {},
     "output_type": "display_data"
    }
   ],
   "source": [
    "# summary of covariate\n",
    "metadata %>% .$digestive_system %>% table"
   ]
  },
  {
   "cell_type": "code",
   "execution_count": 157,
   "metadata": {
    "ExecuteTime": {
     "end_time": "2020-08-26T18:30:01.652302Z",
     "start_time": "2020-08-26T18:26:43.542Z"
    }
   },
   "outputs": [
    {
     "data": {
      "text/html": [
       "<table>\n",
       "<caption>A data.frame: 2000 × 9</caption>\n",
       "<thead>\n",
       "\t<tr><th></th><th scope=col>Estimate</th><th scope=col>std_err</th><th scope=col>t_value</th><th scope=col>p_value</th><th scope=col>R2</th><th scope=col>x</th><th scope=col>y</th><th scope=col>rep</th><th scope=col>dist</th></tr>\n",
       "\t<tr><th></th><th scope=col>&lt;dbl&gt;</th><th scope=col>&lt;dbl&gt;</th><th scope=col>&lt;dbl&gt;</th><th scope=col>&lt;dbl&gt;</th><th scope=col>&lt;dbl&gt;</th><th scope=col>&lt;chr&gt;</th><th scope=col>&lt;chr&gt;</th><th scope=col>&lt;int&gt;</th><th scope=col>&lt;chr&gt;</th></tr>\n",
       "</thead>\n",
       "<tbody>\n",
       "\t<tr><th scope=row>digestive_system</th><td>-0.17424143</td><td>0.2139165</td><td>-0.8145300</td><td>0.4176723</td><td>-0.004022555</td><td>digestive_system</td><td>PC1</td><td>1</td><td>bray_curtis</td></tr>\n",
       "\t<tr><th scope=row>digestive_system1</th><td>-0.03549255</td><td>0.1638635</td><td>-0.2165982</td><td>0.8290530</td><td>-0.011476468</td><td>digestive_system</td><td>PC2</td><td>1</td><td>bray_curtis</td></tr>\n",
       "\t<tr><th scope=row>⋮</th><td>⋮</td><td>⋮</td><td>⋮</td><td>⋮</td><td>⋮</td><td>⋮</td><td>⋮</td><td>⋮</td><td>⋮</td></tr>\n",
       "\t<tr><th scope=row>digestive_system3993</th><td>0.01498559</td><td>0.08338788</td><td>0.1797095</td><td>0.8577892</td><td>-0.01086914</td><td>digestive_system</td><td>PC4</td><td>100</td><td>weighted_unifrac</td></tr>\n",
       "\t<tr><th scope=row>digestive_system4993</th><td>0.01499218</td><td>0.09095090</td><td>0.1648381</td><td>0.8694452</td><td>-0.01092732</td><td>digestive_system</td><td>PC5</td><td>100</td><td>weighted_unifrac</td></tr>\n",
       "</tbody>\n",
       "</table>\n"
      ],
      "text/latex": [
       "A data.frame: 2000 × 9\n",
       "\\begin{tabular}{r|lllllllll}\n",
       "  & Estimate & std\\_err & t\\_value & p\\_value & R2 & x & y & rep & dist\\\\\n",
       "  & <dbl> & <dbl> & <dbl> & <dbl> & <dbl> & <chr> & <chr> & <int> & <chr>\\\\\n",
       "\\hline\n",
       "\tdigestive\\_system & -0.17424143 & 0.2139165 & -0.8145300 & 0.4176723 & -0.004022555 & digestive\\_system & PC1 & 1 & bray\\_curtis\\\\\n",
       "\tdigestive\\_system1 & -0.03549255 & 0.1638635 & -0.2165982 & 0.8290530 & -0.011476468 & digestive\\_system & PC2 & 1 & bray\\_curtis\\\\\n",
       "\t⋮ & ⋮ & ⋮ & ⋮ & ⋮ & ⋮ & ⋮ & ⋮ & ⋮ & ⋮\\\\\n",
       "\tdigestive\\_system3993 & 0.01498559 & 0.08338788 & 0.1797095 & 0.8577892 & -0.01086914 & digestive\\_system & PC4 & 100 & weighted\\_unifrac\\\\\n",
       "\tdigestive\\_system4993 & 0.01499218 & 0.09095090 & 0.1648381 & 0.8694452 & -0.01092732 & digestive\\_system & PC5 & 100 & weighted\\_unifrac\\\\\n",
       "\\end{tabular}\n"
      ],
      "text/markdown": [
       "\n",
       "A data.frame: 2000 × 9\n",
       "\n",
       "| <!--/--> | Estimate &lt;dbl&gt; | std_err &lt;dbl&gt; | t_value &lt;dbl&gt; | p_value &lt;dbl&gt; | R2 &lt;dbl&gt; | x &lt;chr&gt; | y &lt;chr&gt; | rep &lt;int&gt; | dist &lt;chr&gt; |\n",
       "|---|---|---|---|---|---|---|---|---|---|\n",
       "| digestive_system | -0.17424143 | 0.2139165 | -0.8145300 | 0.4176723 | -0.004022555 | digestive_system | PC1 | 1 | bray_curtis |\n",
       "| digestive_system1 | -0.03549255 | 0.1638635 | -0.2165982 | 0.8290530 | -0.011476468 | digestive_system | PC2 | 1 | bray_curtis |\n",
       "| ⋮ | ⋮ | ⋮ | ⋮ | ⋮ | ⋮ | ⋮ | ⋮ | ⋮ | ⋮ |\n",
       "| digestive_system3993 | 0.01498559 | 0.08338788 | 0.1797095 | 0.8577892 | -0.01086914 | digestive_system | PC4 | 100 | weighted_unifrac |\n",
       "| digestive_system4993 | 0.01499218 | 0.09095090 | 0.1648381 | 0.8694452 | -0.01092732 | digestive_system | PC5 | 100 | weighted_unifrac |\n",
       "\n"
      ],
      "text/plain": [
       "                     Estimate    std_err    t_value    p_value   R2          \n",
       "digestive_system     -0.17424143 0.2139165  -0.8145300 0.4176723 -0.004022555\n",
       "digestive_system1    -0.03549255 0.1638635  -0.2165982 0.8290530 -0.011476468\n",
       "⋮                    ⋮           ⋮          ⋮          ⋮         ⋮           \n",
       "digestive_system3993 0.01498559  0.08338788 0.1797095  0.8577892 -0.01086914 \n",
       "digestive_system4993 0.01499218  0.09095090 0.1648381  0.8694452 -0.01092732 \n",
       "                     x                y   rep dist            \n",
       "digestive_system     digestive_system PC1 1   bray_curtis     \n",
       "digestive_system1    digestive_system PC2 1   bray_curtis     \n",
       "⋮                    ⋮                ⋮   ⋮   ⋮               \n",
       "digestive_system3993 digestive_system PC4 100 weighted_unifrac\n",
       "digestive_system4993 digestive_system PC5 100 weighted_unifrac"
      ]
     },
     "metadata": {},
     "output_type": "display_data"
    }
   ],
   "source": [
    "# PGLS\n",
    "ret = beta_dists %>%\n",
    "    plyr::llply(pgls_each_dist,\n",
    "                x = 'digestive_system',\n",
    "                tree_list = host_tree_l,\n",
    "                data = PCs,\n",
    "                threads = threads)\n",
    "\n",
    "ret = ret %>%\n",
    "    do.call(rbind, .) %>%\n",
    "   as.data.frame\n",
    "ret"
   ]
  },
  {
   "cell_type": "code",
   "execution_count": 158,
   "metadata": {
    "ExecuteTime": {
     "end_time": "2020-08-26T18:30:01.867008Z",
     "start_time": "2020-08-26T18:26:47.286Z"
    }
   },
   "outputs": [
    {
     "data": {
      "text/plain": [
       "   Min. 1st Qu.  Median    Mean 3rd Qu.    Max. \n",
       " 0.3067  0.5443  0.6231  0.6093  0.7120  0.8073 "
      ]
     },
     "metadata": {},
     "output_type": "display_data"
    },
    {
     "data": {
      "text/plain": [
       "   Min. 1st Qu.  Median    Mean 3rd Qu.    Max. \n",
       "      1       1       1       1       1       1 "
      ]
     },
     "metadata": {},
     "output_type": "display_data"
    },
    {
     "data": {
      "text/html": [
       "<table>\n",
       "<caption>A grouped_df: 20 × 10</caption>\n",
       "<thead>\n",
       "\t<tr><th scope=col>dist</th><th scope=col>y</th><th scope=col>Estimate</th><th scope=col>std_err</th><th scope=col>t_value</th><th scope=col>p_value</th><th scope=col>q_value</th><th scope=col>R2</th><th scope=col>x</th><th scope=col>.groups</th></tr>\n",
       "\t<tr><th scope=col>&lt;chr&gt;</th><th scope=col>&lt;chr&gt;</th><th scope=col>&lt;dbl&gt;</th><th scope=col>&lt;dbl&gt;</th><th scope=col>&lt;dbl&gt;</th><th scope=col>&lt;dbl&gt;</th><th scope=col>&lt;dbl&gt;</th><th scope=col>&lt;dbl&gt;</th><th scope=col>&lt;chr&gt;</th><th scope=col>&lt;chr&gt;</th></tr>\n",
       "</thead>\n",
       "<tbody>\n",
       "\t<tr><td>bray_curtis</td><td>PC1</td><td>-0.11580081</td><td>0.2424854</td><td>-0.4760847</td><td>0.6334826</td><td>1</td><td>-0.007088630</td><td>digestive_system</td><td>drop</td></tr>\n",
       "\t<tr><td>bray_curtis</td><td>PC2</td><td>-0.03441941</td><td>0.1905554</td><td>-0.1808322</td><td>0.7629104</td><td>1</td><td>-0.009861398</td><td>digestive_system</td><td>drop</td></tr>\n",
       "\t<tr><td>⋮</td><td>⋮</td><td>⋮</td><td>⋮</td><td>⋮</td><td>⋮</td><td>⋮</td><td>⋮</td><td>⋮</td><td>⋮</td></tr>\n",
       "\t<tr><td>weighted_unifrac</td><td>PC4</td><td>0.04608408</td><td>0.09844942</td><td>0.4888939</td><td>0.6126707</td><td>1</td><td>-0.007420041</td><td>digestive_system</td><td>drop</td></tr>\n",
       "\t<tr><td>weighted_unifrac</td><td>PC5</td><td>0.04374114</td><td>0.09738884</td><td>0.4533907</td><td>0.6487138</td><td>1</td><td>-0.008480361</td><td>digestive_system</td><td>drop</td></tr>\n",
       "</tbody>\n",
       "</table>\n"
      ],
      "text/latex": [
       "A grouped\\_df: 20 × 10\n",
       "\\begin{tabular}{llllllllll}\n",
       " dist & y & Estimate & std\\_err & t\\_value & p\\_value & q\\_value & R2 & x & .groups\\\\\n",
       " <chr> & <chr> & <dbl> & <dbl> & <dbl> & <dbl> & <dbl> & <dbl> & <chr> & <chr>\\\\\n",
       "\\hline\n",
       "\t bray\\_curtis & PC1 & -0.11580081 & 0.2424854 & -0.4760847 & 0.6334826 & 1 & -0.007088630 & digestive\\_system & drop\\\\\n",
       "\t bray\\_curtis & PC2 & -0.03441941 & 0.1905554 & -0.1808322 & 0.7629104 & 1 & -0.009861398 & digestive\\_system & drop\\\\\n",
       "\t ⋮ & ⋮ & ⋮ & ⋮ & ⋮ & ⋮ & ⋮ & ⋮ & ⋮ & ⋮\\\\\n",
       "\t weighted\\_unifrac & PC4 & 0.04608408 & 0.09844942 & 0.4888939 & 0.6126707 & 1 & -0.007420041 & digestive\\_system & drop\\\\\n",
       "\t weighted\\_unifrac & PC5 & 0.04374114 & 0.09738884 & 0.4533907 & 0.6487138 & 1 & -0.008480361 & digestive\\_system & drop\\\\\n",
       "\\end{tabular}\n"
      ],
      "text/markdown": [
       "\n",
       "A grouped_df: 20 × 10\n",
       "\n",
       "| dist &lt;chr&gt; | y &lt;chr&gt; | Estimate &lt;dbl&gt; | std_err &lt;dbl&gt; | t_value &lt;dbl&gt; | p_value &lt;dbl&gt; | q_value &lt;dbl&gt; | R2 &lt;dbl&gt; | x &lt;chr&gt; | .groups &lt;chr&gt; |\n",
       "|---|---|---|---|---|---|---|---|---|---|\n",
       "| bray_curtis | PC1 | -0.11580081 | 0.2424854 | -0.4760847 | 0.6334826 | 1 | -0.007088630 | digestive_system | drop |\n",
       "| bray_curtis | PC2 | -0.03441941 | 0.1905554 | -0.1808322 | 0.7629104 | 1 | -0.009861398 | digestive_system | drop |\n",
       "| ⋮ | ⋮ | ⋮ | ⋮ | ⋮ | ⋮ | ⋮ | ⋮ | ⋮ | ⋮ |\n",
       "| weighted_unifrac | PC4 | 0.04608408 | 0.09844942 | 0.4888939 | 0.6126707 | 1 | -0.007420041 | digestive_system | drop |\n",
       "| weighted_unifrac | PC5 | 0.04374114 | 0.09738884 | 0.4533907 | 0.6487138 | 1 | -0.008480361 | digestive_system | drop |\n",
       "\n"
      ],
      "text/plain": [
       "   dist             y   Estimate    std_err    t_value    p_value   q_value\n",
       "1  bray_curtis      PC1 -0.11580081 0.2424854  -0.4760847 0.6334826 1      \n",
       "2  bray_curtis      PC2 -0.03441941 0.1905554  -0.1808322 0.7629104 1      \n",
       "⋮  ⋮                ⋮   ⋮           ⋮          ⋮          ⋮         ⋮      \n",
       "19 weighted_unifrac PC4 0.04608408  0.09844942 0.4888939  0.6126707 1      \n",
       "20 weighted_unifrac PC5 0.04374114  0.09738884 0.4533907  0.6487138 1      \n",
       "   R2           x                .groups\n",
       "1  -0.007088630 digestive_system drop   \n",
       "2  -0.009861398 digestive_system drop   \n",
       "⋮  ⋮            ⋮                ⋮      \n",
       "19 -0.007420041 digestive_system drop   \n",
       "20 -0.008480361 digestive_system drop   "
      ]
     },
     "metadata": {},
     "output_type": "display_data"
    }
   ],
   "source": [
    "# formatting results\n",
    "pgls_res = ret %>%\n",
    "    group_by(dist, rep) %>%\n",
    "    mutate(p_value = p_value %>% as.Num,\n",
    "           q_value = p.adjust(p_value, method='BH')) %>%\n",
    "    group_by(dist, y) %>%\n",
    "    summarize(Estimate = mean(Estimate),\n",
    "              std_err = mean(std_err),\n",
    "              t_value = mean(t_value),\n",
    "              p_value = mean(p_value),\n",
    "              q_value = (length(q_value) - sum(q_value < 0.05)) / length(q_value),\n",
    "              R2 = mean(R2),\n",
    "              x = first(x),\n",
    "              .groups='drop')\n",
    "\n",
    "pgls_res$p_value %>% summary\n",
    "pgls_res$q_value %>% summary\n",
    "pgls_res"
   ]
  },
  {
   "cell_type": "markdown",
   "metadata": {},
   "source": [
    "### Saving output"
   ]
  },
  {
   "cell_type": "code",
   "execution_count": 159,
   "metadata": {
    "ExecuteTime": {
     "end_time": "2020-08-26T18:30:01.898994Z",
     "start_time": "2020-08-26T18:26:48.916Z"
    }
   },
   "outputs": [
    {
     "data": {
      "text/html": [
       "'/ebio/abt3_projects/Georg_animal_feces/data/16S_arch/MiSeq-Runs-116-122-126-189-190/LLA/modulating/PGLS//pgls_IndD_beta-div_digSys.RDS'"
      ],
      "text/latex": [
       "'/ebio/abt3\\_projects/Georg\\_animal\\_feces/data/16S\\_arch/MiSeq-Runs-116-122-126-189-190/LLA/modulating/PGLS//pgls\\_IndD\\_beta-div\\_digSys.RDS'"
      ],
      "text/markdown": [
       "'/ebio/abt3_projects/Georg_animal_feces/data/16S_arch/MiSeq-Runs-116-122-126-189-190/LLA/modulating/PGLS//pgls_IndD_beta-div_digSys.RDS'"
      ],
      "text/plain": [
       "[1] \"/ebio/abt3_projects/Georg_animal_feces/data/16S_arch/MiSeq-Runs-116-122-126-189-190/LLA/modulating/PGLS//pgls_IndD_beta-div_digSys.RDS\""
      ]
     },
     "metadata": {},
     "output_type": "display_data"
    }
   ],
   "source": [
    "# output file name\n",
    "pgls_res_file = file.path(work_dir, 'pgls_IndD_beta-div_digSys.RDS')\n",
    "pgls_res_file"
   ]
  },
  {
   "cell_type": "code",
   "execution_count": 160,
   "metadata": {
    "ExecuteTime": {
     "end_time": "2020-08-26T18:30:01.929445Z",
     "start_time": "2020-08-26T18:26:52.260Z"
    }
   },
   "outputs": [
    {
     "name": "stdout",
     "output_type": "stream",
     "text": [
      "File written: /ebio/abt3_projects/Georg_animal_feces/data/16S_arch/MiSeq-Runs-116-122-126-189-190/LLA/modulating/PGLS//pgls_IndD_beta-div_digSys.RDS \n"
     ]
    }
   ],
   "source": [
    "# saving\n",
    "saveRDS(pgls_res, file=pgls_res_file)\n",
    "cat('File written:', pgls_res_file, '\\n')"
   ]
  },
  {
   "cell_type": "code",
   "execution_count": 161,
   "metadata": {
    "ExecuteTime": {
     "end_time": "2020-08-26T18:30:01.978102Z",
     "start_time": "2020-08-26T18:26:52.437Z"
    }
   },
   "outputs": [
    {
     "name": "stdout",
     "output_type": "stream",
     "text": [
      "[1] 20 10\n"
     ]
    },
    {
     "data": {
      "text/html": [
       "<table>\n",
       "<caption>A grouped_df: 3 × 10</caption>\n",
       "<thead>\n",
       "\t<tr><th scope=col>dist</th><th scope=col>y</th><th scope=col>Estimate</th><th scope=col>std_err</th><th scope=col>t_value</th><th scope=col>p_value</th><th scope=col>q_value</th><th scope=col>R2</th><th scope=col>x</th><th scope=col>.groups</th></tr>\n",
       "\t<tr><th scope=col>&lt;chr&gt;</th><th scope=col>&lt;chr&gt;</th><th scope=col>&lt;dbl&gt;</th><th scope=col>&lt;dbl&gt;</th><th scope=col>&lt;dbl&gt;</th><th scope=col>&lt;dbl&gt;</th><th scope=col>&lt;dbl&gt;</th><th scope=col>&lt;dbl&gt;</th><th scope=col>&lt;chr&gt;</th><th scope=col>&lt;chr&gt;</th></tr>\n",
       "</thead>\n",
       "<tbody>\n",
       "\t<tr><td>bray_curtis</td><td>PC1</td><td>-0.11580081</td><td>0.2424854</td><td>-0.4760847</td><td>0.6334826</td><td>1</td><td>-0.007088630</td><td>digestive_system</td><td>drop</td></tr>\n",
       "\t<tr><td>bray_curtis</td><td>PC2</td><td>-0.03441941</td><td>0.1905554</td><td>-0.1808322</td><td>0.7629104</td><td>1</td><td>-0.009861398</td><td>digestive_system</td><td>drop</td></tr>\n",
       "\t<tr><td>bray_curtis</td><td>PC3</td><td> 0.09893736</td><td>0.1573208</td><td> 0.6427140</td><td>0.5245772</td><td>1</td><td>-0.005876927</td><td>digestive_system</td><td>drop</td></tr>\n",
       "</tbody>\n",
       "</table>\n"
      ],
      "text/latex": [
       "A grouped\\_df: 3 × 10\n",
       "\\begin{tabular}{llllllllll}\n",
       " dist & y & Estimate & std\\_err & t\\_value & p\\_value & q\\_value & R2 & x & .groups\\\\\n",
       " <chr> & <chr> & <dbl> & <dbl> & <dbl> & <dbl> & <dbl> & <dbl> & <chr> & <chr>\\\\\n",
       "\\hline\n",
       "\t bray\\_curtis & PC1 & -0.11580081 & 0.2424854 & -0.4760847 & 0.6334826 & 1 & -0.007088630 & digestive\\_system & drop\\\\\n",
       "\t bray\\_curtis & PC2 & -0.03441941 & 0.1905554 & -0.1808322 & 0.7629104 & 1 & -0.009861398 & digestive\\_system & drop\\\\\n",
       "\t bray\\_curtis & PC3 &  0.09893736 & 0.1573208 &  0.6427140 & 0.5245772 & 1 & -0.005876927 & digestive\\_system & drop\\\\\n",
       "\\end{tabular}\n"
      ],
      "text/markdown": [
       "\n",
       "A grouped_df: 3 × 10\n",
       "\n",
       "| dist &lt;chr&gt; | y &lt;chr&gt; | Estimate &lt;dbl&gt; | std_err &lt;dbl&gt; | t_value &lt;dbl&gt; | p_value &lt;dbl&gt; | q_value &lt;dbl&gt; | R2 &lt;dbl&gt; | x &lt;chr&gt; | .groups &lt;chr&gt; |\n",
       "|---|---|---|---|---|---|---|---|---|---|\n",
       "| bray_curtis | PC1 | -0.11580081 | 0.2424854 | -0.4760847 | 0.6334826 | 1 | -0.007088630 | digestive_system | drop |\n",
       "| bray_curtis | PC2 | -0.03441941 | 0.1905554 | -0.1808322 | 0.7629104 | 1 | -0.009861398 | digestive_system | drop |\n",
       "| bray_curtis | PC3 |  0.09893736 | 0.1573208 |  0.6427140 | 0.5245772 | 1 | -0.005876927 | digestive_system | drop |\n",
       "\n"
      ],
      "text/plain": [
       "  dist        y   Estimate    std_err   t_value    p_value   q_value\n",
       "1 bray_curtis PC1 -0.11580081 0.2424854 -0.4760847 0.6334826 1      \n",
       "2 bray_curtis PC2 -0.03441941 0.1905554 -0.1808322 0.7629104 1      \n",
       "3 bray_curtis PC3  0.09893736 0.1573208  0.6427140 0.5245772 1      \n",
       "  R2           x                .groups\n",
       "1 -0.007088630 digestive_system drop   \n",
       "2 -0.009861398 digestive_system drop   \n",
       "3 -0.005876927 digestive_system drop   "
      ]
     },
     "metadata": {},
     "output_type": "display_data"
    }
   ],
   "source": [
    "# re-load \n",
    "pgls_res = readRDS(pgls_res_file) \n",
    "pgls_res %>% dfhead"
   ]
  },
  {
   "cell_type": "markdown",
   "metadata": {},
   "source": [
    "### Summary"
   ]
  },
  {
   "cell_type": "code",
   "execution_count": 162,
   "metadata": {
    "ExecuteTime": {
     "end_time": "2020-08-26T18:30:02.052003Z",
     "start_time": "2020-08-26T18:26:53.733Z"
    }
   },
   "outputs": [
    {
     "data": {
      "text/html": [
       "<table>\n",
       "<caption>A matrix: 1 × 8 of type dbl</caption>\n",
       "<thead>\n",
       "\t<tr><th></th><th scope=col>Min.</th><th scope=col>1st Qu.</th><th scope=col>Median</th><th scope=col>Mean</th><th scope=col>3rd Qu.</th><th scope=col>Max.</th><th scope=col>sd</th><th scope=col>sd_err_of_mean</th></tr>\n",
       "</thead>\n",
       "<tbody>\n",
       "\t<tr><th scope=row>p-value</th><td>0.3066899</td><td>0.5442938</td><td>0.6230766</td><td>0.6093351</td><td>0.7120036</td><td>0.8072995</td><td>0.17</td><td>0.07</td></tr>\n",
       "</tbody>\n",
       "</table>\n"
      ],
      "text/latex": [
       "A matrix: 1 × 8 of type dbl\n",
       "\\begin{tabular}{r|llllllll}\n",
       "  & Min. & 1st Qu. & Median & Mean & 3rd Qu. & Max. & sd & sd\\_err\\_of\\_mean\\\\\n",
       "\\hline\n",
       "\tp-value & 0.3066899 & 0.5442938 & 0.6230766 & 0.6093351 & 0.7120036 & 0.8072995 & 0.17 & 0.07\\\\\n",
       "\\end{tabular}\n"
      ],
      "text/markdown": [
       "\n",
       "A matrix: 1 × 8 of type dbl\n",
       "\n",
       "| <!--/--> | Min. | 1st Qu. | Median | Mean | 3rd Qu. | Max. | sd | sd_err_of_mean |\n",
       "|---|---|---|---|---|---|---|---|---|\n",
       "| p-value | 0.3066899 | 0.5442938 | 0.6230766 | 0.6093351 | 0.7120036 | 0.8072995 | 0.17 | 0.07 |\n",
       "\n"
      ],
      "text/plain": [
       "        Min.      1st Qu.   Median    Mean      3rd Qu.   Max.      sd  \n",
       "p-value 0.3066899 0.5442938 0.6230766 0.6093351 0.7120036 0.8072995 0.17\n",
       "        sd_err_of_mean\n",
       "p-value 0.07          "
      ]
     },
     "metadata": {},
     "output_type": "display_data"
    },
    {
     "data": {
      "text/html": [
       "<table>\n",
       "<caption>A matrix: 1 × 8 of type dbl</caption>\n",
       "<thead>\n",
       "\t<tr><th></th><th scope=col>Min.</th><th scope=col>1st Qu.</th><th scope=col>Median</th><th scope=col>Mean</th><th scope=col>3rd Qu.</th><th scope=col>Max.</th><th scope=col>sd</th><th scope=col>sd_err_of_mean</th></tr>\n",
       "</thead>\n",
       "<tbody>\n",
       "\t<tr><th scope=row>adj p-value</th><td>1</td><td>1</td><td>1</td><td>1</td><td>1</td><td>1</td><td>0</td><td>0</td></tr>\n",
       "</tbody>\n",
       "</table>\n"
      ],
      "text/latex": [
       "A matrix: 1 × 8 of type dbl\n",
       "\\begin{tabular}{r|llllllll}\n",
       "  & Min. & 1st Qu. & Median & Mean & 3rd Qu. & Max. & sd & sd\\_err\\_of\\_mean\\\\\n",
       "\\hline\n",
       "\tadj p-value & 1 & 1 & 1 & 1 & 1 & 1 & 0 & 0\\\\\n",
       "\\end{tabular}\n"
      ],
      "text/markdown": [
       "\n",
       "A matrix: 1 × 8 of type dbl\n",
       "\n",
       "| <!--/--> | Min. | 1st Qu. | Median | Mean | 3rd Qu. | Max. | sd | sd_err_of_mean |\n",
       "|---|---|---|---|---|---|---|---|---|\n",
       "| adj p-value | 1 | 1 | 1 | 1 | 1 | 1 | 0 | 0 |\n",
       "\n"
      ],
      "text/plain": [
       "            Min. 1st Qu. Median Mean 3rd Qu. Max. sd sd_err_of_mean\n",
       "adj p-value 1    1       1      1    1       1    0  0             "
      ]
     },
     "metadata": {},
     "output_type": "display_data"
    }
   ],
   "source": [
    "# summary\n",
    "pgls_res$p_value %>% summary_x('p-value')\n",
    "pgls_res$q_value %>% summary_x('adj p-value')"
   ]
  },
  {
   "cell_type": "code",
   "execution_count": 163,
   "metadata": {
    "ExecuteTime": {
     "end_time": "2020-08-26T18:30:02.426588Z",
     "start_time": "2020-08-26T18:26:54.476Z"
    }
   },
   "outputs": [
    {
     "data": {
      "image/png": "[encoded data removed]",
      "text/plain": [
       "plot without title"
      ]
     },
     "metadata": {
      "image/png": {
       "height": 350,
       "width": 500
      },
      "text/plain": {
       "height": 350,
       "width": 500
      }
     },
     "output_type": "display_data"
    }
   ],
   "source": [
    "# p-value distribution\n",
    "p = ggplot(pgls_res, aes(R2, p_value)) +\n",
    "    geom_point(alpha=0.3) +\n",
    "    scale_y_log10() +\n",
    "    theme_bw()\n",
    "\n",
    "p.dims(5,3.5)\n",
    "plot(p)"
   ]
  },
  {
   "cell_type": "code",
   "execution_count": 164,
   "metadata": {
    "ExecuteTime": {
     "end_time": "2020-08-26T18:30:02.782575Z",
     "start_time": "2020-08-26T18:26:54.796Z"
    }
   },
   "outputs": [
    {
     "data": {
      "image/png": "[encoded data removed]",
      "text/plain": [
       "plot without title"
      ]
     },
     "metadata": {
      "image/png": {
       "height": 350,
       "width": 500
      },
      "text/plain": {
       "height": 350,
       "width": 500
      }
     },
     "output_type": "display_data"
    }
   ],
   "source": [
    "# p-adj-value distribution\n",
    "p = ggplot(pgls_res, aes(R2, q_value)) +\n",
    "    geom_point(alpha=0.3) +\n",
    "    scale_y_log10() +\n",
    "    theme_bw() \n",
    "\n",
    "p.dims(5,3.5)\n",
    "plot(p)"
   ]
  },
  {
   "cell_type": "markdown",
   "metadata": {},
   "source": [
    "## Diet"
   ]
  },
  {
   "cell_type": "code",
   "execution_count": 123,
   "metadata": {
    "ExecuteTime": {
     "end_time": "2020-08-26T18:13:32.366108Z",
     "start_time": "2020-08-26T18:13:32.314Z"
    }
   },
   "outputs": [
    {
     "data": {
      "text/html": [
       "<ol class=list-inline>\n",
       "\t<li>'shannon'</li>\n",
       "\t<li>'faith_pd'</li>\n",
       "</ol>\n"
      ],
      "text/latex": [
       "\\begin{enumerate*}\n",
       "\\item 'shannon'\n",
       "\\item 'faith\\_pd'\n",
       "\\end{enumerate*}\n"
      ],
      "text/markdown": [
       "1. 'shannon'\n",
       "2. 'faith_pd'\n",
       "\n",
       "\n"
      ],
      "text/plain": [
       "[1] \"shannon\"  \"faith_pd\""
      ]
     },
     "metadata": {},
     "output_type": "display_data"
    }
   ],
   "source": [
    "# variables\n",
    "alpha_div_labels = c('shannon', 'faith_pd')\n",
    "alpha_div_labels"
   ]
  },
  {
   "cell_type": "code",
   "execution_count": 124,
   "metadata": {
    "ExecuteTime": {
     "end_time": "2020-08-26T18:13:33.745301Z",
     "start_time": "2020-08-26T18:13:33.689Z"
    }
   },
   "outputs": [
    {
     "data": {
      "text/plain": [
       ".\n",
       "carnivore herbivore  omnivore \n",
       "       39        95        51 "
      ]
     },
     "metadata": {},
     "output_type": "display_data"
    }
   ],
   "source": [
    "# summary of covariate\n",
    "metadata %>% .$diet %>% table"
   ]
  },
  {
   "cell_type": "code",
   "execution_count": 125,
   "metadata": {
    "ExecuteTime": {
     "end_time": "2020-08-26T18:17:05.384508Z",
     "start_time": "2020-08-26T18:14:00.189Z"
    }
   },
   "outputs": [
    {
     "data": {
      "text/html": [
       "<table>\n",
       "<caption>A data.frame: 2000 × 9</caption>\n",
       "<thead>\n",
       "\t<tr><th></th><th scope=col>Estimate</th><th scope=col>std_err</th><th scope=col>t_value</th><th scope=col>p_value</th><th scope=col>R2</th><th scope=col>x</th><th scope=col>y</th><th scope=col>rep</th><th scope=col>dist</th></tr>\n",
       "\t<tr><th></th><th scope=col>&lt;dbl&gt;</th><th scope=col>&lt;dbl&gt;</th><th scope=col>&lt;dbl&gt;</th><th scope=col>&lt;dbl&gt;</th><th scope=col>&lt;dbl&gt;</th><th scope=col>&lt;chr&gt;</th><th scope=col>&lt;chr&gt;</th><th scope=col>&lt;int&gt;</th><th scope=col>&lt;chr&gt;</th></tr>\n",
       "</thead>\n",
       "<tbody>\n",
       "\t<tr><th scope=row>diet</th><td>-0.36439921</td><td>0.11821251</td><td>-3.082577</td><td>0.002785269</td><td> 0.09191430</td><td>diet</td><td>PC1</td><td>1</td><td>bray_curtis</td></tr>\n",
       "\t<tr><th scope=row>diet1</th><td>-0.03318851</td><td>0.09517318</td><td>-0.348717</td><td>0.728184804</td><td>-0.01056761</td><td>diet</td><td>PC2</td><td>1</td><td>bray_curtis</td></tr>\n",
       "\t<tr><th scope=row>⋮</th><td>⋮</td><td>⋮</td><td>⋮</td><td>⋮</td><td>⋮</td><td>⋮</td><td>⋮</td><td>⋮</td><td>⋮</td></tr>\n",
       "\t<tr><th scope=row>diet3993</th><td>-0.08551951</td><td>0.05051417</td><td>-1.692981</td><td>0.09395694</td><td>0.02031415</td><td>diet</td><td>PC4</td><td>100</td><td>weighted_unifrac</td></tr>\n",
       "\t<tr><th scope=row>diet4993</th><td>-0.11873133</td><td>0.05454092</td><td>-2.176922</td><td>0.03213326</td><td>0.03988723</td><td>diet</td><td>PC5</td><td>100</td><td>weighted_unifrac</td></tr>\n",
       "</tbody>\n",
       "</table>\n"
      ],
      "text/latex": [
       "A data.frame: 2000 × 9\n",
       "\\begin{tabular}{r|lllllllll}\n",
       "  & Estimate & std\\_err & t\\_value & p\\_value & R2 & x & y & rep & dist\\\\\n",
       "  & <dbl> & <dbl> & <dbl> & <dbl> & <dbl> & <chr> & <chr> & <int> & <chr>\\\\\n",
       "\\hline\n",
       "\tdiet & -0.36439921 & 0.11821251 & -3.082577 & 0.002785269 &  0.09191430 & diet & PC1 & 1 & bray\\_curtis\\\\\n",
       "\tdiet1 & -0.03318851 & 0.09517318 & -0.348717 & 0.728184804 & -0.01056761 & diet & PC2 & 1 & bray\\_curtis\\\\\n",
       "\t⋮ & ⋮ & ⋮ & ⋮ & ⋮ & ⋮ & ⋮ & ⋮ & ⋮ & ⋮\\\\\n",
       "\tdiet3993 & -0.08551951 & 0.05051417 & -1.692981 & 0.09395694 & 0.02031415 & diet & PC4 & 100 & weighted\\_unifrac\\\\\n",
       "\tdiet4993 & -0.11873133 & 0.05454092 & -2.176922 & 0.03213326 & 0.03988723 & diet & PC5 & 100 & weighted\\_unifrac\\\\\n",
       "\\end{tabular}\n"
      ],
      "text/markdown": [
       "\n",
       "A data.frame: 2000 × 9\n",
       "\n",
       "| <!--/--> | Estimate &lt;dbl&gt; | std_err &lt;dbl&gt; | t_value &lt;dbl&gt; | p_value &lt;dbl&gt; | R2 &lt;dbl&gt; | x &lt;chr&gt; | y &lt;chr&gt; | rep &lt;int&gt; | dist &lt;chr&gt; |\n",
       "|---|---|---|---|---|---|---|---|---|---|\n",
       "| diet | -0.36439921 | 0.11821251 | -3.082577 | 0.002785269 |  0.09191430 | diet | PC1 | 1 | bray_curtis |\n",
       "| diet1 | -0.03318851 | 0.09517318 | -0.348717 | 0.728184804 | -0.01056761 | diet | PC2 | 1 | bray_curtis |\n",
       "| ⋮ | ⋮ | ⋮ | ⋮ | ⋮ | ⋮ | ⋮ | ⋮ | ⋮ | ⋮ |\n",
       "| diet3993 | -0.08551951 | 0.05051417 | -1.692981 | 0.09395694 | 0.02031415 | diet | PC4 | 100 | weighted_unifrac |\n",
       "| diet4993 | -0.11873133 | 0.05454092 | -2.176922 | 0.03213326 | 0.03988723 | diet | PC5 | 100 | weighted_unifrac |\n",
       "\n"
      ],
      "text/plain": [
       "         Estimate    std_err    t_value   p_value     R2          x    y   rep\n",
       "diet     -0.36439921 0.11821251 -3.082577 0.002785269  0.09191430 diet PC1 1  \n",
       "diet1    -0.03318851 0.09517318 -0.348717 0.728184804 -0.01056761 diet PC2 1  \n",
       "⋮        ⋮           ⋮          ⋮         ⋮           ⋮           ⋮    ⋮   ⋮  \n",
       "diet3993 -0.08551951 0.05051417 -1.692981 0.09395694  0.02031415  diet PC4 100\n",
       "diet4993 -0.11873133 0.05454092 -2.176922 0.03213326  0.03988723  diet PC5 100\n",
       "         dist            \n",
       "diet     bray_curtis     \n",
       "diet1    bray_curtis     \n",
       "⋮        ⋮               \n",
       "diet3993 weighted_unifrac\n",
       "diet4993 weighted_unifrac"
      ]
     },
     "metadata": {},
     "output_type": "display_data"
    }
   ],
   "source": [
    "# PGLS\n",
    "ret = beta_dists %>%\n",
    "    plyr::llply(pgls_each_dist,\n",
    "                x = 'diet',\n",
    "                tree_list = host_tree_l,\n",
    "                data = PCs,\n",
    "                threads = threads)\n",
    "\n",
    "ret = ret %>%\n",
    "    do.call(rbind, .) %>%\n",
    "   as.data.frame\n",
    "ret"
   ]
  },
  {
   "cell_type": "code",
   "execution_count": 147,
   "metadata": {
    "ExecuteTime": {
     "end_time": "2020-08-26T18:26:06.525351Z",
     "start_time": "2020-08-26T18:26:06.302Z"
    }
   },
   "outputs": [
    {
     "data": {
      "text/plain": [
       "    Min.  1st Qu.   Median     Mean  3rd Qu.     Max. \n",
       "0.003272 0.039805 0.111708 0.217494 0.316552 0.784740 "
      ]
     },
     "metadata": {},
     "output_type": "display_data"
    },
    {
     "data": {
      "text/plain": [
       "   Min. 1st Qu.  Median    Mean 3rd Qu.    Max. \n",
       " 0.1200  0.8875  1.0000  0.8670  1.0000  1.0000 "
      ]
     },
     "metadata": {},
     "output_type": "display_data"
    },
    {
     "data": {
      "text/html": [
       "<table>\n",
       "<caption>A grouped_df: 20 × 9</caption>\n",
       "<thead>\n",
       "\t<tr><th scope=col>dist</th><th scope=col>y</th><th scope=col>Estimate</th><th scope=col>std_err</th><th scope=col>t_value</th><th scope=col>p_value</th><th scope=col>q_value</th><th scope=col>R2</th><th scope=col>x</th></tr>\n",
       "\t<tr><th scope=col>&lt;chr&gt;</th><th scope=col>&lt;chr&gt;</th><th scope=col>&lt;dbl&gt;</th><th scope=col>&lt;dbl&gt;</th><th scope=col>&lt;dbl&gt;</th><th scope=col>&lt;dbl&gt;</th><th scope=col>&lt;dbl&gt;</th><th scope=col>&lt;dbl&gt;</th><th scope=col>&lt;chr&gt;</th></tr>\n",
       "</thead>\n",
       "<tbody>\n",
       "\t<tr><td>bray_curtis</td><td>PC1</td><td>-0.34859017</td><td>0.1279999</td><td>-2.7326333</td><td>0.01013811</td><td>0.48</td><td> 0.070805199</td><td>diet</td></tr>\n",
       "\t<tr><td>bray_curtis</td><td>PC2</td><td>-0.04419615</td><td>0.1046622</td><td>-0.4260557</td><td>0.67627183</td><td>1.00</td><td>-0.009061136</td><td>diet</td></tr>\n",
       "\t<tr><td>⋮</td><td>⋮</td><td>⋮</td><td>⋮</td><td>⋮</td><td>⋮</td><td>⋮</td><td>⋮</td><td>⋮</td></tr>\n",
       "\t<tr><td>weighted_unifrac</td><td>PC4</td><td>-0.08302049</td><td>0.05339861</td><td>-1.552578</td><td>0.13998501</td><td>1</td><td>0.01719178</td><td>diet</td></tr>\n",
       "\t<tr><td>weighted_unifrac</td><td>PC5</td><td>-0.10782777</td><td>0.05231729</td><td>-2.062737</td><td>0.04537799</td><td>1</td><td>0.03697601</td><td>diet</td></tr>\n",
       "</tbody>\n",
       "</table>\n"
      ],
      "text/latex": [
       "A grouped\\_df: 20 × 9\n",
       "\\begin{tabular}{lllllllll}\n",
       " dist & y & Estimate & std\\_err & t\\_value & p\\_value & q\\_value & R2 & x\\\\\n",
       " <chr> & <chr> & <dbl> & <dbl> & <dbl> & <dbl> & <dbl> & <dbl> & <chr>\\\\\n",
       "\\hline\n",
       "\t bray\\_curtis & PC1 & -0.34859017 & 0.1279999 & -2.7326333 & 0.01013811 & 0.48 &  0.070805199 & diet\\\\\n",
       "\t bray\\_curtis & PC2 & -0.04419615 & 0.1046622 & -0.4260557 & 0.67627183 & 1.00 & -0.009061136 & diet\\\\\n",
       "\t ⋮ & ⋮ & ⋮ & ⋮ & ⋮ & ⋮ & ⋮ & ⋮ & ⋮\\\\\n",
       "\t weighted\\_unifrac & PC4 & -0.08302049 & 0.05339861 & -1.552578 & 0.13998501 & 1 & 0.01719178 & diet\\\\\n",
       "\t weighted\\_unifrac & PC5 & -0.10782777 & 0.05231729 & -2.062737 & 0.04537799 & 1 & 0.03697601 & diet\\\\\n",
       "\\end{tabular}\n"
      ],
      "text/markdown": [
       "\n",
       "A grouped_df: 20 × 9\n",
       "\n",
       "| dist &lt;chr&gt; | y &lt;chr&gt; | Estimate &lt;dbl&gt; | std_err &lt;dbl&gt; | t_value &lt;dbl&gt; | p_value &lt;dbl&gt; | q_value &lt;dbl&gt; | R2 &lt;dbl&gt; | x &lt;chr&gt; |\n",
       "|---|---|---|---|---|---|---|---|---|\n",
       "| bray_curtis | PC1 | -0.34859017 | 0.1279999 | -2.7326333 | 0.01013811 | 0.48 |  0.070805199 | diet |\n",
       "| bray_curtis | PC2 | -0.04419615 | 0.1046622 | -0.4260557 | 0.67627183 | 1.00 | -0.009061136 | diet |\n",
       "| ⋮ | ⋮ | ⋮ | ⋮ | ⋮ | ⋮ | ⋮ | ⋮ | ⋮ |\n",
       "| weighted_unifrac | PC4 | -0.08302049 | 0.05339861 | -1.552578 | 0.13998501 | 1 | 0.01719178 | diet |\n",
       "| weighted_unifrac | PC5 | -0.10782777 | 0.05231729 | -2.062737 | 0.04537799 | 1 | 0.03697601 | diet |\n",
       "\n"
      ],
      "text/plain": [
       "   dist             y   Estimate    std_err    t_value    p_value    q_value\n",
       "1  bray_curtis      PC1 -0.34859017 0.1279999  -2.7326333 0.01013811 0.48   \n",
       "2  bray_curtis      PC2 -0.04419615 0.1046622  -0.4260557 0.67627183 1.00   \n",
       "⋮  ⋮                ⋮   ⋮           ⋮          ⋮          ⋮          ⋮      \n",
       "19 weighted_unifrac PC4 -0.08302049 0.05339861 -1.552578  0.13998501 1      \n",
       "20 weighted_unifrac PC5 -0.10782777 0.05231729 -2.062737  0.04537799 1      \n",
       "   R2           x   \n",
       "1   0.070805199 diet\n",
       "2  -0.009061136 diet\n",
       "⋮  ⋮            ⋮   \n",
       "19 0.01719178   diet\n",
       "20 0.03697601   diet"
      ]
     },
     "metadata": {},
     "output_type": "display_data"
    }
   ],
   "source": [
    "# formatting results\n",
    "pgls_res = ret %>%\n",
    "    group_by(rep) %>%\n",
    "    mutate(p_value = p_value %>% as.Num,\n",
    "           q_value = p.adjust(p_value, method='BH')) %>%\n",
    "    group_by(dist, y) %>%\n",
    "    summarize(Estimate = mean(Estimate),\n",
    "              std_err = mean(std_err),\n",
    "              t_value = mean(t_value),\n",
    "              p_value = mean(p_value),\n",
    "              q_value = (length(q_value) - sum(q_value < 0.05)) / length(q_value),\n",
    "              R2 = mean(R2),\n",
    "              x = first(x))\n",
    "\n",
    "pgls_res$p_value %>% summary\n",
    "pgls_res$q_value %>% summary\n",
    "pgls_res"
   ]
  },
  {
   "cell_type": "markdown",
   "metadata": {},
   "source": [
    "### Saving output"
   ]
  },
  {
   "cell_type": "code",
   "execution_count": 148,
   "metadata": {
    "ExecuteTime": {
     "end_time": "2020-08-26T18:26:11.249153Z",
     "start_time": "2020-08-26T18:26:11.140Z"
    }
   },
   "outputs": [
    {
     "data": {
      "text/html": [
       "'/ebio/abt3_projects/Georg_animal_feces/data/16S_arch/MiSeq-Runs-116-122-126-189-190/LLA/modulating/PGLS//pgls_IndD_beta-div_diet.RDS'"
      ],
      "text/latex": [
       "'/ebio/abt3\\_projects/Georg\\_animal\\_feces/data/16S\\_arch/MiSeq-Runs-116-122-126-189-190/LLA/modulating/PGLS//pgls\\_IndD\\_beta-div\\_diet.RDS'"
      ],
      "text/markdown": [
       "'/ebio/abt3_projects/Georg_animal_feces/data/16S_arch/MiSeq-Runs-116-122-126-189-190/LLA/modulating/PGLS//pgls_IndD_beta-div_diet.RDS'"
      ],
      "text/plain": [
       "[1] \"/ebio/abt3_projects/Georg_animal_feces/data/16S_arch/MiSeq-Runs-116-122-126-189-190/LLA/modulating/PGLS//pgls_IndD_beta-div_diet.RDS\""
      ]
     },
     "metadata": {},
     "output_type": "display_data"
    }
   ],
   "source": [
    "# output file name\n",
    "pgls_res_file = file.path(work_dir, 'pgls_IndD_beta-div_diet.RDS')\n",
    "pgls_res_file"
   ]
  },
  {
   "cell_type": "code",
   "execution_count": 149,
   "metadata": {
    "ExecuteTime": {
     "end_time": "2020-08-26T18:26:11.502489Z",
     "start_time": "2020-08-26T18:26:11.410Z"
    }
   },
   "outputs": [
    {
     "name": "stdout",
     "output_type": "stream",
     "text": [
      "File written: /ebio/abt3_projects/Georg_animal_feces/data/16S_arch/MiSeq-Runs-116-122-126-189-190/LLA/modulating/PGLS//pgls_IndD_beta-div_diet.RDS \n"
     ]
    }
   ],
   "source": [
    "# saving\n",
    "saveRDS(pgls_res, file=pgls_res_file)\n",
    "cat('File written:', pgls_res_file, '\\n')"
   ]
  },
  {
   "cell_type": "code",
   "execution_count": 150,
   "metadata": {
    "ExecuteTime": {
     "end_time": "2020-08-26T18:26:11.707470Z",
     "start_time": "2020-08-26T18:26:11.599Z"
    }
   },
   "outputs": [
    {
     "name": "stdout",
     "output_type": "stream",
     "text": [
      "[1] 20  9\n"
     ]
    },
    {
     "data": {
      "text/html": [
       "<table>\n",
       "<caption>A grouped_df: 3 × 9</caption>\n",
       "<thead>\n",
       "\t<tr><th scope=col>dist</th><th scope=col>y</th><th scope=col>Estimate</th><th scope=col>std_err</th><th scope=col>t_value</th><th scope=col>p_value</th><th scope=col>q_value</th><th scope=col>R2</th><th scope=col>x</th></tr>\n",
       "\t<tr><th scope=col>&lt;chr&gt;</th><th scope=col>&lt;chr&gt;</th><th scope=col>&lt;dbl&gt;</th><th scope=col>&lt;dbl&gt;</th><th scope=col>&lt;dbl&gt;</th><th scope=col>&lt;dbl&gt;</th><th scope=col>&lt;dbl&gt;</th><th scope=col>&lt;dbl&gt;</th><th scope=col>&lt;chr&gt;</th></tr>\n",
       "</thead>\n",
       "<tbody>\n",
       "\t<tr><td>bray_curtis</td><td>PC1</td><td>-0.34859017</td><td>0.12799992</td><td>-2.7326333</td><td>0.01013811</td><td>0.48</td><td> 0.070805199</td><td>diet</td></tr>\n",
       "\t<tr><td>bray_curtis</td><td>PC2</td><td>-0.04419615</td><td>0.10466220</td><td>-0.4260557</td><td>0.67627183</td><td>1.00</td><td>-0.009061136</td><td>diet</td></tr>\n",
       "\t<tr><td>bray_curtis</td><td>PC3</td><td>-0.06142829</td><td>0.08636842</td><td>-0.7111506</td><td>0.49226086</td><td>1.00</td><td>-0.005157685</td><td>diet</td></tr>\n",
       "</tbody>\n",
       "</table>\n"
      ],
      "text/latex": [
       "A grouped\\_df: 3 × 9\n",
       "\\begin{tabular}{lllllllll}\n",
       " dist & y & Estimate & std\\_err & t\\_value & p\\_value & q\\_value & R2 & x\\\\\n",
       " <chr> & <chr> & <dbl> & <dbl> & <dbl> & <dbl> & <dbl> & <dbl> & <chr>\\\\\n",
       "\\hline\n",
       "\t bray\\_curtis & PC1 & -0.34859017 & 0.12799992 & -2.7326333 & 0.01013811 & 0.48 &  0.070805199 & diet\\\\\n",
       "\t bray\\_curtis & PC2 & -0.04419615 & 0.10466220 & -0.4260557 & 0.67627183 & 1.00 & -0.009061136 & diet\\\\\n",
       "\t bray\\_curtis & PC3 & -0.06142829 & 0.08636842 & -0.7111506 & 0.49226086 & 1.00 & -0.005157685 & diet\\\\\n",
       "\\end{tabular}\n"
      ],
      "text/markdown": [
       "\n",
       "A grouped_df: 3 × 9\n",
       "\n",
       "| dist &lt;chr&gt; | y &lt;chr&gt; | Estimate &lt;dbl&gt; | std_err &lt;dbl&gt; | t_value &lt;dbl&gt; | p_value &lt;dbl&gt; | q_value &lt;dbl&gt; | R2 &lt;dbl&gt; | x &lt;chr&gt; |\n",
       "|---|---|---|---|---|---|---|---|---|\n",
       "| bray_curtis | PC1 | -0.34859017 | 0.12799992 | -2.7326333 | 0.01013811 | 0.48 |  0.070805199 | diet |\n",
       "| bray_curtis | PC2 | -0.04419615 | 0.10466220 | -0.4260557 | 0.67627183 | 1.00 | -0.009061136 | diet |\n",
       "| bray_curtis | PC3 | -0.06142829 | 0.08636842 | -0.7111506 | 0.49226086 | 1.00 | -0.005157685 | diet |\n",
       "\n"
      ],
      "text/plain": [
       "  dist        y   Estimate    std_err    t_value    p_value    q_value\n",
       "1 bray_curtis PC1 -0.34859017 0.12799992 -2.7326333 0.01013811 0.48   \n",
       "2 bray_curtis PC2 -0.04419615 0.10466220 -0.4260557 0.67627183 1.00   \n",
       "3 bray_curtis PC3 -0.06142829 0.08636842 -0.7111506 0.49226086 1.00   \n",
       "  R2           x   \n",
       "1  0.070805199 diet\n",
       "2 -0.009061136 diet\n",
       "3 -0.005157685 diet"
      ]
     },
     "metadata": {},
     "output_type": "display_data"
    }
   ],
   "source": [
    "# re-load \n",
    "pgls_res = readRDS(pgls_res_file) \n",
    "pgls_res %>% dfhead"
   ]
  },
  {
   "cell_type": "code",
   "execution_count": 130,
   "metadata": {
    "ExecuteTime": {
     "end_time": "2020-08-26T18:17:06.810141Z",
     "start_time": "2020-08-26T18:14:21.737Z"
    }
   },
   "outputs": [
    {
     "name": "stderr",
     "output_type": "stream",
     "text": [
      "Sending email to: nyoungblut@tuebingen.mpg.de\n",
      "\n"
     ]
    }
   ],
   "source": [
    "send_email('http://127.0.0.1:9805/notebooks/notebooks/16S_arch/MiSeq-Runs116-122-126-189-190/03_modulating_factors/04e_PGLS_IndD_beta-div.ipynb')\n"
   ]
  },
  {
   "cell_type": "markdown",
   "metadata": {},
   "source": [
    "### Summary"
   ]
  },
  {
   "cell_type": "code",
   "execution_count": 151,
   "metadata": {
    "ExecuteTime": {
     "end_time": "2020-08-26T18:26:13.871414Z",
     "start_time": "2020-08-26T18:26:13.750Z"
    }
   },
   "outputs": [
    {
     "data": {
      "text/html": [
       "<table>\n",
       "<caption>A matrix: 1 × 8 of type dbl</caption>\n",
       "<thead>\n",
       "\t<tr><th></th><th scope=col>Min.</th><th scope=col>1st Qu.</th><th scope=col>Median</th><th scope=col>Mean</th><th scope=col>3rd Qu.</th><th scope=col>Max.</th><th scope=col>sd</th><th scope=col>sd_err_of_mean</th></tr>\n",
       "</thead>\n",
       "<tbody>\n",
       "\t<tr><th scope=row>p-value</th><td>0.003271973</td><td>0.03980524</td><td>0.1117075</td><td>0.2174937</td><td>0.316552</td><td>0.7847397</td><td>0.288</td><td>0.118</td></tr>\n",
       "</tbody>\n",
       "</table>\n"
      ],
      "text/latex": [
       "A matrix: 1 × 8 of type dbl\n",
       "\\begin{tabular}{r|llllllll}\n",
       "  & Min. & 1st Qu. & Median & Mean & 3rd Qu. & Max. & sd & sd\\_err\\_of\\_mean\\\\\n",
       "\\hline\n",
       "\tp-value & 0.003271973 & 0.03980524 & 0.1117075 & 0.2174937 & 0.316552 & 0.7847397 & 0.288 & 0.118\\\\\n",
       "\\end{tabular}\n"
      ],
      "text/markdown": [
       "\n",
       "A matrix: 1 × 8 of type dbl\n",
       "\n",
       "| <!--/--> | Min. | 1st Qu. | Median | Mean | 3rd Qu. | Max. | sd | sd_err_of_mean |\n",
       "|---|---|---|---|---|---|---|---|---|\n",
       "| p-value | 0.003271973 | 0.03980524 | 0.1117075 | 0.2174937 | 0.316552 | 0.7847397 | 0.288 | 0.118 |\n",
       "\n"
      ],
      "text/plain": [
       "        Min.        1st Qu.    Median    Mean      3rd Qu.  Max.      sd   \n",
       "p-value 0.003271973 0.03980524 0.1117075 0.2174937 0.316552 0.7847397 0.288\n",
       "        sd_err_of_mean\n",
       "p-value 0.118         "
      ]
     },
     "metadata": {},
     "output_type": "display_data"
    },
    {
     "data": {
      "text/html": [
       "<table>\n",
       "<caption>A matrix: 1 × 8 of type dbl</caption>\n",
       "<thead>\n",
       "\t<tr><th></th><th scope=col>Min.</th><th scope=col>1st Qu.</th><th scope=col>Median</th><th scope=col>Mean</th><th scope=col>3rd Qu.</th><th scope=col>Max.</th><th scope=col>sd</th><th scope=col>sd_err_of_mean</th></tr>\n",
       "</thead>\n",
       "<tbody>\n",
       "\t<tr><th scope=row>adj p-value</th><td>0.12</td><td>0.8875</td><td>1</td><td>0.867</td><td>1</td><td>1</td><td>0.345</td><td>0.141</td></tr>\n",
       "</tbody>\n",
       "</table>\n"
      ],
      "text/latex": [
       "A matrix: 1 × 8 of type dbl\n",
       "\\begin{tabular}{r|llllllll}\n",
       "  & Min. & 1st Qu. & Median & Mean & 3rd Qu. & Max. & sd & sd\\_err\\_of\\_mean\\\\\n",
       "\\hline\n",
       "\tadj p-value & 0.12 & 0.8875 & 1 & 0.867 & 1 & 1 & 0.345 & 0.141\\\\\n",
       "\\end{tabular}\n"
      ],
      "text/markdown": [
       "\n",
       "A matrix: 1 × 8 of type dbl\n",
       "\n",
       "| <!--/--> | Min. | 1st Qu. | Median | Mean | 3rd Qu. | Max. | sd | sd_err_of_mean |\n",
       "|---|---|---|---|---|---|---|---|---|\n",
       "| adj p-value | 0.12 | 0.8875 | 1 | 0.867 | 1 | 1 | 0.345 | 0.141 |\n",
       "\n"
      ],
      "text/plain": [
       "            Min. 1st Qu. Median Mean  3rd Qu. Max. sd    sd_err_of_mean\n",
       "adj p-value 0.12 0.8875  1      0.867 1       1    0.345 0.141         "
      ]
     },
     "metadata": {},
     "output_type": "display_data"
    }
   ],
   "source": [
    "# summary\n",
    "pgls_res$p_value %>% summary_x('p-value')\n",
    "pgls_res$q_value %>% summary_x('adj p-value')"
   ]
  },
  {
   "cell_type": "code",
   "execution_count": 152,
   "metadata": {
    "ExecuteTime": {
     "end_time": "2020-08-26T18:26:15.291734Z",
     "start_time": "2020-08-26T18:26:14.611Z"
    }
   },
   "outputs": [
    {
     "data": {
      "image/png": "[encoded data removed]",
      "text/plain": [
       "plot without title"
      ]
     },
     "metadata": {
      "image/png": {
       "height": 350,
       "width": 500
      },
      "text/plain": {
       "height": 350,
       "width": 500
      }
     },
     "output_type": "display_data"
    }
   ],
   "source": [
    "# p-value distribution\n",
    "p = ggplot(pgls_res, aes(R2, p_value)) +\n",
    "    geom_point(alpha=0.3) +\n",
    "    scale_y_log10() +\n",
    "    theme_bw()\n",
    "\n",
    "p.dims(5,3.5)\n",
    "plot(p)"
   ]
  },
  {
   "cell_type": "code",
   "execution_count": 153,
   "metadata": {
    "ExecuteTime": {
     "end_time": "2020-08-26T18:26:15.925617Z",
     "start_time": "2020-08-26T18:26:14.809Z"
    }
   },
   "outputs": [
    {
     "data": {
      "image/png": "[encoded data removed]",
      "text/plain": [
       "plot without title"
      ]
     },
     "metadata": {
      "image/png": {
       "height": 350,
       "width": 500
      },
      "text/plain": {
       "height": 350,
       "width": 500
      }
     },
     "output_type": "display_data"
    }
   ],
   "source": [
    "# p-adj-value distribution\n",
    "p = ggplot(pgls_res, aes(R2, q_value)) +\n",
    "    geom_point(alpha=0.3) +\n",
    "    scale_y_log10() +\n",
    "    theme_bw() \n",
    "\n",
    "p.dims(5,3.5)\n",
    "plot(p)"
   ]
  },
  {
   "cell_type": "markdown",
   "metadata": {},
   "source": [
    "### significant values"
   ]
  },
  {
   "cell_type": "code",
   "execution_count": 154,
   "metadata": {
    "ExecuteTime": {
     "end_time": "2020-08-26T18:26:16.368635Z",
     "start_time": "2020-08-26T18:26:16.298Z"
    }
   },
   "outputs": [
    {
     "name": "stdout",
     "output_type": "stream",
     "text": [
      "No. of unique No. of factors: 0 \n"
     ]
    }
   ],
   "source": [
    "# how many?\n",
    "pgls_res %>%\n",
    "    filter(q_value < 0.05) %>%\n",
    "    .$y %>% unique_n('No. of factors')"
   ]
  },
  {
   "cell_type": "markdown",
   "metadata": {},
   "source": [
    "# sessionInfo"
   ]
  },
  {
   "cell_type": "code",
   "execution_count": 136,
   "metadata": {
    "ExecuteTime": {
     "end_time": "2020-08-26T18:22:36.289398Z",
     "start_time": "2020-08-26T18:22:36.042Z"
    }
   },
   "outputs": [
    {
     "data": {
      "text/plain": [
       "R version 3.6.2 (2019-12-12)\n",
       "Platform: x86_64-conda_cos6-linux-gnu (64-bit)\n",
       "Running under: Ubuntu 18.04.5 LTS\n",
       "\n",
       "Matrix products: default\n",
       "BLAS/LAPACK: /ebio/abt3_projects/Georg_animal_feces/envs/phyloseq-phy/lib/libopenblasp-r0.3.7.so\n",
       "\n",
       "locale:\n",
       " [1] LC_CTYPE=en_US.UTF-8       LC_NUMERIC=C              \n",
       " [3] LC_TIME=en_US.UTF-8        LC_COLLATE=en_US.UTF-8    \n",
       " [5] LC_MONETARY=en_US.UTF-8    LC_MESSAGES=en_US.UTF-8   \n",
       " [7] LC_PAPER=en_US.UTF-8       LC_NAME=C                 \n",
       " [9] LC_ADDRESS=C               LC_TELEPHONE=C            \n",
       "[11] LC_MEASUREMENT=en_US.UTF-8 LC_IDENTIFICATION=C       \n",
       "\n",
       "attached base packages:\n",
       "[1] parallel  stats     graphics  grDevices utils     datasets  methods  \n",
       "[8] base     \n",
       "\n",
       "other attached packages:\n",
       " [1] LeyLabRMisc_0.1.5 doParallel_1.0.15 iterators_1.0.12  foreach_1.4.7    \n",
       " [5] phyloseq_1.30.0   caper_1.0.1       mvtnorm_1.1-1     MASS_7.3-51.5    \n",
       " [9] ade4_1.7-13       ape_5.3           ggplot2_3.2.1     tidyr_1.0.0      \n",
       "[13] dplyr_0.8.3      \n",
       "\n",
       "loaded via a namespace (and not attached):\n",
       " [1] Rcpp_1.0.3           lattice_0.20-38      Biostrings_2.54.0   \n",
       " [4] RhpcBLASctl_0.20-137 assertthat_0.2.1     digest_0.6.23       \n",
       " [7] IRdisplay_0.7.0      R6_2.4.1             plyr_1.8.5          \n",
       "[10] repr_1.0.2           stats4_3.6.2         evaluate_0.14       \n",
       "[13] pillar_1.4.3         zlibbioc_1.32.0      rlang_0.4.6         \n",
       "[16] lazyeval_0.2.2       uuid_0.1-2           data.table_1.12.8   \n",
       "[19] vegan_2.5-6          S4Vectors_0.24.0     Matrix_1.2-18       \n",
       "[22] labeling_0.3         splines_3.6.2        stringr_1.4.0       \n",
       "[25] igraph_1.2.4.2       munsell_0.5.0        compiler_3.6.2      \n",
       "[28] pkgconfig_2.0.3      BiocGenerics_0.32.0  base64enc_0.1-3     \n",
       "[31] multtest_2.42.0      mgcv_1.8-31          htmltools_0.4.0     \n",
       "[34] biomformat_1.14.0    tidyselect_1.1.0     tibble_2.1.3        \n",
       "[37] IRanges_2.20.0       codetools_0.2-16     permute_0.9-5       \n",
       "[40] crayon_1.3.4         withr_2.1.2          grid_3.6.2          \n",
       "[43] nlme_3.1-143         jsonlite_1.6         gtable_0.3.0        \n",
       "[46] lifecycle_0.1.0      magrittr_1.5         scales_1.1.1        \n",
       "[49] stringi_1.4.5        farver_2.0.3         XVector_0.26.0      \n",
       "[52] reshape2_1.4.3       vctrs_0.3.1          IRkernel_1.1        \n",
       "[55] Rhdf5lib_1.8.0       tools_3.6.2          Biobase_2.46.0      \n",
       "[58] glue_1.3.1           purrr_0.3.3          survival_3.1-8      \n",
       "[61] colorspace_1.4-1     rhdf5_2.30.0         cluster_2.1.0       \n",
       "[64] pbdZMQ_0.3-3        "
      ]
     },
     "metadata": {},
     "output_type": "display_data"
    }
   ],
   "source": [
    "sessionInfo()"
   ]
  },
  {
   "cell_type": "code",
   "execution_count": null,
   "metadata": {},
   "outputs": [],
   "source": []
  }
 ],
 "metadata": {
  "kernelspec": {
   "display_name": "R [conda env:Georg_animal_feces-phyloseq-phy]",
   "language": "R",
   "name": "conda-env-Georg_animal_feces-phyloseq-phy-r"
  },
  "language_info": {
   "codemirror_mode": "r",
   "file_extension": ".r",
   "mimetype": "text/x-r-source",
   "name": "R",
   "pygments_lexer": "r",
   "version": "3.6.2"
  },
  "notify_time": "30",
  "toc": {
   "base_numbering": 1,
   "nav_menu": {},
   "number_sections": true,
   "sideBar": true,
   "skip_h1_title": false,
   "title_cell": "Table of Contents",
   "title_sidebar": "Contents",
   "toc_cell": true,
   "toc_position": {},
   "toc_section_display": true,
   "toc_window_display": true
  }
 },
 "nbformat": 4,
 "nbformat_minor": 4
}
