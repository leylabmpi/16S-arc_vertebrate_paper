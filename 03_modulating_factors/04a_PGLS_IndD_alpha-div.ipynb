{
 "cells": [
  {
   "cell_type": "markdown",
   "metadata": {
    "toc": true
   },
   "source": [
    "<h1>Table of Contents<span class=\"tocSkip\"></span></h1>\n",
    "<div class=\"toc\"><ul class=\"toc-item\"><li><span><a href=\"#Goal\" data-toc-modified-id=\"Goal-1\"><span class=\"toc-item-num\">1&nbsp;&nbsp;</span>Goal</a></span></li><li><span><a href=\"#Var\" data-toc-modified-id=\"Var-2\"><span class=\"toc-item-num\">2&nbsp;&nbsp;</span>Var</a></span></li><li><span><a href=\"#Init\" data-toc-modified-id=\"Init-3\"><span class=\"toc-item-num\">3&nbsp;&nbsp;</span>Init</a></span></li><li><span><a href=\"#Load\" data-toc-modified-id=\"Load-4\"><span class=\"toc-item-num\">4&nbsp;&nbsp;</span>Load</a></span><ul class=\"toc-item\"><li><span><a href=\"#Format\" data-toc-modified-id=\"Format-4.1\"><span class=\"toc-item-num\">4.1&nbsp;&nbsp;</span>Format</a></span></li><li><span><a href=\"#checks\" data-toc-modified-id=\"checks-4.2\"><span class=\"toc-item-num\">4.2&nbsp;&nbsp;</span>checks</a></span></li></ul></li><li><span><a href=\"#Host-tree-subsample\" data-toc-modified-id=\"Host-tree-subsample-5\"><span class=\"toc-item-num\">5&nbsp;&nbsp;</span>Host tree subsample</a></span></li><li><span><a href=\"#PGLS\" data-toc-modified-id=\"PGLS-6\"><span class=\"toc-item-num\">6&nbsp;&nbsp;</span>PGLS</a></span><ul class=\"toc-item\"><li><span><a href=\"#Digestive-system\" data-toc-modified-id=\"Digestive-system-6.1\"><span class=\"toc-item-num\">6.1&nbsp;&nbsp;</span>Digestive system</a></span><ul class=\"toc-item\"><li><span><a href=\"#Saving-output\" data-toc-modified-id=\"Saving-output-6.1.1\"><span class=\"toc-item-num\">6.1.1&nbsp;&nbsp;</span>Saving output</a></span></li><li><span><a href=\"#Summary\" data-toc-modified-id=\"Summary-6.1.2\"><span class=\"toc-item-num\">6.1.2&nbsp;&nbsp;</span>Summary</a></span></li></ul></li><li><span><a href=\"#Digestive-system-(simplified)\" data-toc-modified-id=\"Digestive-system-(simplified)-6.2\"><span class=\"toc-item-num\">6.2&nbsp;&nbsp;</span>Digestive system (simplified)</a></span><ul class=\"toc-item\"><li><span><a href=\"#Saving-output\" data-toc-modified-id=\"Saving-output-6.2.1\"><span class=\"toc-item-num\">6.2.1&nbsp;&nbsp;</span>Saving output</a></span></li><li><span><a href=\"#Summary\" data-toc-modified-id=\"Summary-6.2.2\"><span class=\"toc-item-num\">6.2.2&nbsp;&nbsp;</span>Summary</a></span></li></ul></li><li><span><a href=\"#Diet\" data-toc-modified-id=\"Diet-6.3\"><span class=\"toc-item-num\">6.3&nbsp;&nbsp;</span>Diet</a></span><ul class=\"toc-item\"><li><span><a href=\"#Saving-output\" data-toc-modified-id=\"Saving-output-6.3.1\"><span class=\"toc-item-num\">6.3.1&nbsp;&nbsp;</span>Saving output</a></span></li><li><span><a href=\"#Summary\" data-toc-modified-id=\"Summary-6.3.2\"><span class=\"toc-item-num\">6.3.2&nbsp;&nbsp;</span>Summary</a></span></li><li><span><a href=\"#significant-values\" data-toc-modified-id=\"significant-values-6.3.3\"><span class=\"toc-item-num\">6.3.3&nbsp;&nbsp;</span>significant values</a></span><ul class=\"toc-item\"><li><span><a href=\"#Saving-results\" data-toc-modified-id=\"Saving-results-6.3.3.1\"><span class=\"toc-item-num\">6.3.3.1&nbsp;&nbsp;</span>Saving results</a></span></li><li><span><a href=\"#Plotting\" data-toc-modified-id=\"Plotting-6.3.3.2\"><span class=\"toc-item-num\">6.3.3.2&nbsp;&nbsp;</span>Plotting</a></span></li></ul></li></ul></li></ul></li><li><span><a href=\"#sessionInfo\" data-toc-modified-id=\"sessionInfo-7\"><span class=\"toc-item-num\">7&nbsp;&nbsp;</span>sessionInfo</a></span></li></ul></div>"
   ]
  },
  {
   "cell_type": "markdown",
   "metadata": {},
   "source": [
    "# Goal\n",
    "\n",
    "* PGLS to assess alpha diversity associations with diet or digestive systems"
   ]
  },
  {
   "cell_type": "markdown",
   "metadata": {},
   "source": [
    "# Var"
   ]
  },
  {
   "cell_type": "code",
   "execution_count": 1,
   "metadata": {
    "ExecuteTime": {
     "end_time": "2020-08-26T17:23:01.318433Z",
     "start_time": "2020-08-26T17:23:01.220Z"
    }
   },
   "outputs": [],
   "source": [
    "work_dir = '/ebio/abt3_projects/Georg_animal_feces/data/16S_arch/MiSeq-Runs-116-122-126-189-190/LLA/modulating/PGLS/'\n",
    "\n",
    "# microbiome\n",
    "## 16S-arch phyloseq object (one sample per individual)\n",
    "physeq_arch_IndD_file = '/ebio/abt3_projects/Georg_animal_feces/data/16S_arch/MiSeq-Runs-116-122-126-189-190/LLA/merged/phyloseq/physeq_arch_IndD_clr-genus.RDS'\n",
    "\n",
    "# diversity\n",
    "alpha_div_file = '/ebio/abt3_projects/Georg_animal_feces/data/16S_arch/MiSeq-Runs-116-122-126-189-190/LLA/merged/diversity-qiime2/alpha_div_genus.RDS'\n",
    "alpha_div_hill_file = '/ebio/abt3_projects/Georg_animal_feces/data/16S/LLA/diversity//alpha_div_iNEXT.RDS'\n",
    "\n",
    "# host tree\n",
    "host_tree_IndD_file = '/ebio/abt3_projects/Georg_animal_feces/data/animal/phylogeny/TT/unified_metadata_complete_200429_16S-arch_IndD.nwk'\n",
    "\n",
    "# misc params\n",
    "threads = 8\n",
    "my_seed = 8394"
   ]
  },
  {
   "cell_type": "markdown",
   "metadata": {},
   "source": [
    "# Init"
   ]
  },
  {
   "cell_type": "code",
   "execution_count": 2,
   "metadata": {
    "ExecuteTime": {
     "end_time": "2020-08-26T17:23:10.440344Z",
     "start_time": "2020-08-26T17:23:01.862Z"
    }
   },
   "outputs": [
    {
     "name": "stderr",
     "output_type": "stream",
     "text": [
      "\n",
      "Attaching package: ‘dplyr’\n",
      "\n",
      "\n",
      "The following objects are masked from ‘package:stats’:\n",
      "\n",
      "    filter, lag\n",
      "\n",
      "\n",
      "The following objects are masked from ‘package:base’:\n",
      "\n",
      "    intersect, setdiff, setequal, union\n",
      "\n",
      "\n",
      "Warning message:\n",
      "“package ‘caper’ was built under R version 3.6.3”\n",
      "Loading required package: MASS\n",
      "\n",
      "\n",
      "Attaching package: ‘MASS’\n",
      "\n",
      "\n",
      "The following object is masked from ‘package:dplyr’:\n",
      "\n",
      "    select\n",
      "\n",
      "\n",
      "Loading required package: mvtnorm\n",
      "\n",
      "Warning message:\n",
      "“package ‘mvtnorm’ was built under R version 3.6.3”\n",
      "Loading required package: foreach\n",
      "\n",
      "Loading required package: iterators\n",
      "\n",
      "Loading required package: parallel\n",
      "\n"
     ]
    }
   ],
   "source": [
    "library(dplyr)\n",
    "library(tidyr)\n",
    "library(ggplot2)\n",
    "\n",
    "library(ape)\n",
    "library(ade4)\n",
    "library(caper)\n",
    "library(phyloseq)\n",
    "\n",
    "library(doParallel)\n",
    "library(LeyLabRMisc)"
   ]
  },
  {
   "cell_type": "code",
   "execution_count": 3,
   "metadata": {
    "ExecuteTime": {
     "end_time": "2020-08-26T17:23:10.804584Z",
     "start_time": "2020-08-26T17:23:01.979Z"
    }
   },
   "outputs": [
    {
     "name": "stdout",
     "output_type": "stream",
     "text": [
      "Directory already exists: /ebio/abt3_projects/Georg_animal_feces/data/16S_arch/MiSeq-Runs-116-122-126-189-190/LLA/modulating/PGLS/ \n"
     ]
    }
   ],
   "source": [
    "df.dims()\n",
    "set.seed(my_seed)\n",
    "make_dir(work_dir)\n",
    "RhpcBLASctl::blas_set_num_threads(1)"
   ]
  },
  {
   "cell_type": "markdown",
   "metadata": {},
   "source": [
    "# Load"
   ]
  },
  {
   "cell_type": "code",
   "execution_count": 4,
   "metadata": {
    "ExecuteTime": {
     "end_time": "2020-08-26T17:23:10.930984Z",
     "start_time": "2020-08-26T17:23:06.540Z"
    }
   },
   "outputs": [
    {
     "data": {
      "text/plain": [
       "phyloseq-class experiment-level object\n",
       "otu_table()   OTU Table:         [ 57 taxa and 185 samples ]\n",
       "sample_data() Sample Data:       [ 185 samples by 88 sample variables ]\n",
       "tax_table()   Taxonomy Table:    [ 57 taxa by 7 taxonomic ranks ]\n",
       "phy_tree()    Phylogenetic Tree: [ 57 tips and 56 internal nodes ]"
      ]
     },
     "metadata": {},
     "output_type": "display_data"
    }
   ],
   "source": [
    "# phyloseq obj.\n",
    "physeq = readRDS(physeq_arch_IndD_file)\n",
    "physeq"
   ]
  },
  {
   "cell_type": "code",
   "execution_count": 5,
   "metadata": {
    "ExecuteTime": {
     "end_time": "2020-08-26T17:23:11.575585Z",
     "start_time": "2020-08-26T17:23:06.874Z"
    }
   },
   "outputs": [
    {
     "data": {
      "text/html": [
       "<table>\n",
       "<caption>A data.frame: 185 × 57</caption>\n",
       "<thead>\n",
       "\t<tr><th></th><th scope=col>c3b19986023201183d07b2bf6dc9eaab</th><th scope=col>e6ddd5efa2e9229aa04f33e832450fa8</th><th scope=col>5887dc080d027d30580310a1eb1f3166</th><th scope=col>c0eb38cd52d8be27c54de8a8b06f9a9a</th><th scope=col>bfb96cf07d2fec50b18d3a9665ba6e80</th><th scope=col>66cc60d5322fdeaf48cc8bdd82effea2</th><th scope=col>f906aca9a9c84f01cbd8a874cce7e6fe</th><th scope=col>1936b1a270b058c5754be0addc7c7c31</th><th scope=col>252850216e7d0123bfafd7eed609799d</th><th scope=col>7950a70a07006f7c7b0c6f02c46a93af</th><th scope=col>⋯</th><th scope=col>092547e9f87986180c27587156336bcb</th><th scope=col>2987f396047df01622b365b3b667a4eb</th><th scope=col>fef8ef65bd3598e9f1fec3bd32a9b4bd</th><th scope=col>b9abd819fdd733c57642461d1c2247a6</th><th scope=col>75f3ea1df98051a1b49107173aa51a32</th><th scope=col>1578a874797e43b052a66b2fb5ef9e4a</th><th scope=col>b7ed842d3fbe5d8d33504a0a765409ae</th><th scope=col>1f1f87cab902b66753b8bbd81e69a7d4</th><th scope=col>250a31c11dbecf1e2ef705424fdaa7a7</th><th scope=col>188795b8eb1edbd3334be2676ca05391</th></tr>\n",
       "\t<tr><th></th><th scope=col>&lt;dbl&gt;</th><th scope=col>&lt;dbl&gt;</th><th scope=col>&lt;dbl&gt;</th><th scope=col>&lt;dbl&gt;</th><th scope=col>&lt;dbl&gt;</th><th scope=col>&lt;dbl&gt;</th><th scope=col>&lt;dbl&gt;</th><th scope=col>&lt;dbl&gt;</th><th scope=col>&lt;dbl&gt;</th><th scope=col>&lt;dbl&gt;</th><th scope=col>⋯</th><th scope=col>&lt;dbl&gt;</th><th scope=col>&lt;dbl&gt;</th><th scope=col>&lt;dbl&gt;</th><th scope=col>&lt;dbl&gt;</th><th scope=col>&lt;dbl&gt;</th><th scope=col>&lt;dbl&gt;</th><th scope=col>&lt;dbl&gt;</th><th scope=col>&lt;dbl&gt;</th><th scope=col>&lt;dbl&gt;</th><th scope=col>&lt;dbl&gt;</th></tr>\n",
       "</thead>\n",
       "<tbody>\n",
       "\t<tr><th scope=row>F14_Common_Bream</th><td>0.3533185</td><td>0.32246438</td><td>2.91428908</td><td>0.3254381</td><td>0.3703154</td><td>0.3612832</td><td>0.30778200</td><td>0.27413385</td><td>0.3629528</td><td>0.29043538</td><td>⋯</td><td>0.1665158</td><td>-0.03874821</td><td> 0.4547095</td><td> 0.2546676</td><td>0.73849765</td><td>-2.920287</td><td>-3.236448</td><td>-2.117767</td><td> 8.7026399</td><td> 0.4149247</td></tr>\n",
       "\t<tr><th scope=row>F35_Red_Deer</th><td>0.0982570</td><td>0.06740287</td><td>0.04961681</td><td>4.4809734</td><td>0.1152539</td><td>0.1062217</td><td>0.05272048</td><td>0.01907233</td><td>0.1078913</td><td>0.03537386</td><td>⋯</td><td>2.7692054</td><td>-0.64532655</td><td>-0.1518688</td><td>-0.3519108</td><td>0.03596791</td><td> 1.275840</td><td>-3.843026</td><td> 3.204286</td><td>-0.3493636</td><td>-0.1916536</td></tr>\n",
       "\t<tr><th scope=row>⋮</th><td>⋮</td><td>⋮</td><td>⋮</td><td>⋮</td><td>⋮</td><td>⋮</td><td>⋮</td><td>⋮</td><td>⋮</td><td>⋮</td><td>⋱</td><td>⋮</td><td>⋮</td><td>⋮</td><td>⋮</td><td>⋮</td><td>⋮</td><td>⋮</td><td>⋮</td><td>⋮</td><td>⋮</td></tr>\n",
       "\t<tr><th scope=row>X431_Quagga</th><td> 0.1988029</td><td> 0.1679488</td><td> 0.1501628</td><td> 0.1709225</td><td> 0.2157999</td><td> 0.2067676</td><td> 0.1532664</td><td> 0.1196183</td><td> 0.2084372</td><td> 0.1359198</td><td>⋯</td><td> 3.234569</td><td>-0.3855593</td><td> 0.1078984</td><td> 4.675893</td><td> 0.5839821</td><td>-2.158147</td><td>-3.583259</td><td>-2.46457812</td><td>-0.08959639</td><td> 0.0681136</td></tr>\n",
       "\t<tr><th scope=row>X67_European_Roe</th><td>-0.4190308</td><td>-0.4498850</td><td>-0.4676710</td><td>-0.4469112</td><td>-0.4020339</td><td>-0.4110661</td><td>-0.4645673</td><td>-0.4982155</td><td>-0.4093965</td><td>-0.4819140</td><td>⋯</td><td>-2.166684</td><td>-1.5943665</td><td>-1.1009088</td><td>-1.300951</td><td>-0.9130721</td><td> 1.004511</td><td>-4.792066</td><td>-0.03111916</td><td>-1.29840360</td><td>-1.1406936</td></tr>\n",
       "</tbody>\n",
       "</table>\n"
      ],
      "text/latex": [
       "A data.frame: 185 × 57\n",
       "\\begin{tabular}{r|lllllllllllllllllllll}\n",
       "  & c3b19986023201183d07b2bf6dc9eaab & e6ddd5efa2e9229aa04f33e832450fa8 & 5887dc080d027d30580310a1eb1f3166 & c0eb38cd52d8be27c54de8a8b06f9a9a & bfb96cf07d2fec50b18d3a9665ba6e80 & 66cc60d5322fdeaf48cc8bdd82effea2 & f906aca9a9c84f01cbd8a874cce7e6fe & 1936b1a270b058c5754be0addc7c7c31 & 252850216e7d0123bfafd7eed609799d & 7950a70a07006f7c7b0c6f02c46a93af & ⋯ & 092547e9f87986180c27587156336bcb & 2987f396047df01622b365b3b667a4eb & fef8ef65bd3598e9f1fec3bd32a9b4bd & b9abd819fdd733c57642461d1c2247a6 & 75f3ea1df98051a1b49107173aa51a32 & 1578a874797e43b052a66b2fb5ef9e4a & b7ed842d3fbe5d8d33504a0a765409ae & 1f1f87cab902b66753b8bbd81e69a7d4 & 250a31c11dbecf1e2ef705424fdaa7a7 & 188795b8eb1edbd3334be2676ca05391\\\\\n",
       "  & <dbl> & <dbl> & <dbl> & <dbl> & <dbl> & <dbl> & <dbl> & <dbl> & <dbl> & <dbl> & ⋯ & <dbl> & <dbl> & <dbl> & <dbl> & <dbl> & <dbl> & <dbl> & <dbl> & <dbl> & <dbl>\\\\\n",
       "\\hline\n",
       "\tF14\\_Common\\_Bream & 0.3533185 & 0.32246438 & 2.91428908 & 0.3254381 & 0.3703154 & 0.3612832 & 0.30778200 & 0.27413385 & 0.3629528 & 0.29043538 & ⋯ & 0.1665158 & -0.03874821 &  0.4547095 &  0.2546676 & 0.73849765 & -2.920287 & -3.236448 & -2.117767 &  8.7026399 &  0.4149247\\\\\n",
       "\tF35\\_Red\\_Deer & 0.0982570 & 0.06740287 & 0.04961681 & 4.4809734 & 0.1152539 & 0.1062217 & 0.05272048 & 0.01907233 & 0.1078913 & 0.03537386 & ⋯ & 2.7692054 & -0.64532655 & -0.1518688 & -0.3519108 & 0.03596791 &  1.275840 & -3.843026 &  3.204286 & -0.3493636 & -0.1916536\\\\\n",
       "\t⋮ & ⋮ & ⋮ & ⋮ & ⋮ & ⋮ & ⋮ & ⋮ & ⋮ & ⋮ & ⋮ & ⋱ & ⋮ & ⋮ & ⋮ & ⋮ & ⋮ & ⋮ & ⋮ & ⋮ & ⋮ & ⋮\\\\\n",
       "\tX431\\_Quagga &  0.1988029 &  0.1679488 &  0.1501628 &  0.1709225 &  0.2157999 &  0.2067676 &  0.1532664 &  0.1196183 &  0.2084372 &  0.1359198 & ⋯ &  3.234569 & -0.3855593 &  0.1078984 &  4.675893 &  0.5839821 & -2.158147 & -3.583259 & -2.46457812 & -0.08959639 &  0.0681136\\\\\n",
       "\tX67\\_European\\_Roe & -0.4190308 & -0.4498850 & -0.4676710 & -0.4469112 & -0.4020339 & -0.4110661 & -0.4645673 & -0.4982155 & -0.4093965 & -0.4819140 & ⋯ & -2.166684 & -1.5943665 & -1.1009088 & -1.300951 & -0.9130721 &  1.004511 & -4.792066 & -0.03111916 & -1.29840360 & -1.1406936\\\\\n",
       "\\end{tabular}\n"
      ],
      "text/markdown": [
       "\n",
       "A data.frame: 185 × 57\n",
       "\n",
       "| <!--/--> | c3b19986023201183d07b2bf6dc9eaab &lt;dbl&gt; | e6ddd5efa2e9229aa04f33e832450fa8 &lt;dbl&gt; | 5887dc080d027d30580310a1eb1f3166 &lt;dbl&gt; | c0eb38cd52d8be27c54de8a8b06f9a9a &lt;dbl&gt; | bfb96cf07d2fec50b18d3a9665ba6e80 &lt;dbl&gt; | 66cc60d5322fdeaf48cc8bdd82effea2 &lt;dbl&gt; | f906aca9a9c84f01cbd8a874cce7e6fe &lt;dbl&gt; | 1936b1a270b058c5754be0addc7c7c31 &lt;dbl&gt; | 252850216e7d0123bfafd7eed609799d &lt;dbl&gt; | 7950a70a07006f7c7b0c6f02c46a93af &lt;dbl&gt; | ⋯ ⋯ | 092547e9f87986180c27587156336bcb &lt;dbl&gt; | 2987f396047df01622b365b3b667a4eb &lt;dbl&gt; | fef8ef65bd3598e9f1fec3bd32a9b4bd &lt;dbl&gt; | b9abd819fdd733c57642461d1c2247a6 &lt;dbl&gt; | 75f3ea1df98051a1b49107173aa51a32 &lt;dbl&gt; | 1578a874797e43b052a66b2fb5ef9e4a &lt;dbl&gt; | b7ed842d3fbe5d8d33504a0a765409ae &lt;dbl&gt; | 1f1f87cab902b66753b8bbd81e69a7d4 &lt;dbl&gt; | 250a31c11dbecf1e2ef705424fdaa7a7 &lt;dbl&gt; | 188795b8eb1edbd3334be2676ca05391 &lt;dbl&gt; |\n",
       "|---|---|---|---|---|---|---|---|---|---|---|---|---|---|---|---|---|---|---|---|---|---|\n",
       "| F14_Common_Bream | 0.3533185 | 0.32246438 | 2.91428908 | 0.3254381 | 0.3703154 | 0.3612832 | 0.30778200 | 0.27413385 | 0.3629528 | 0.29043538 | ⋯ | 0.1665158 | -0.03874821 |  0.4547095 |  0.2546676 | 0.73849765 | -2.920287 | -3.236448 | -2.117767 |  8.7026399 |  0.4149247 |\n",
       "| F35_Red_Deer | 0.0982570 | 0.06740287 | 0.04961681 | 4.4809734 | 0.1152539 | 0.1062217 | 0.05272048 | 0.01907233 | 0.1078913 | 0.03537386 | ⋯ | 2.7692054 | -0.64532655 | -0.1518688 | -0.3519108 | 0.03596791 |  1.275840 | -3.843026 |  3.204286 | -0.3493636 | -0.1916536 |\n",
       "| ⋮ | ⋮ | ⋮ | ⋮ | ⋮ | ⋮ | ⋮ | ⋮ | ⋮ | ⋮ | ⋮ | ⋱ | ⋮ | ⋮ | ⋮ | ⋮ | ⋮ | ⋮ | ⋮ | ⋮ | ⋮ | ⋮ |\n",
       "| X431_Quagga |  0.1988029 |  0.1679488 |  0.1501628 |  0.1709225 |  0.2157999 |  0.2067676 |  0.1532664 |  0.1196183 |  0.2084372 |  0.1359198 | ⋯ |  3.234569 | -0.3855593 |  0.1078984 |  4.675893 |  0.5839821 | -2.158147 | -3.583259 | -2.46457812 | -0.08959639 |  0.0681136 |\n",
       "| X67_European_Roe | -0.4190308 | -0.4498850 | -0.4676710 | -0.4469112 | -0.4020339 | -0.4110661 | -0.4645673 | -0.4982155 | -0.4093965 | -0.4819140 | ⋯ | -2.166684 | -1.5943665 | -1.1009088 | -1.300951 | -0.9130721 |  1.004511 | -4.792066 | -0.03111916 | -1.29840360 | -1.1406936 |\n",
       "\n"
      ],
      "text/plain": [
       "                 c3b19986023201183d07b2bf6dc9eaab\n",
       "F14_Common_Bream 0.3533185                       \n",
       "F35_Red_Deer     0.0982570                       \n",
       "⋮                ⋮                               \n",
       "X431_Quagga       0.1988029                      \n",
       "X67_European_Roe -0.4190308                      \n",
       "                 e6ddd5efa2e9229aa04f33e832450fa8\n",
       "F14_Common_Bream 0.32246438                      \n",
       "F35_Red_Deer     0.06740287                      \n",
       "⋮                ⋮                               \n",
       "X431_Quagga       0.1679488                      \n",
       "X67_European_Roe -0.4498850                      \n",
       "                 5887dc080d027d30580310a1eb1f3166\n",
       "F14_Common_Bream 2.91428908                      \n",
       "F35_Red_Deer     0.04961681                      \n",
       "⋮                ⋮                               \n",
       "X431_Quagga       0.1501628                      \n",
       "X67_European_Roe -0.4676710                      \n",
       "                 c0eb38cd52d8be27c54de8a8b06f9a9a\n",
       "F14_Common_Bream 0.3254381                       \n",
       "F35_Red_Deer     4.4809734                       \n",
       "⋮                ⋮                               \n",
       "X431_Quagga       0.1709225                      \n",
       "X67_European_Roe -0.4469112                      \n",
       "                 bfb96cf07d2fec50b18d3a9665ba6e80\n",
       "F14_Common_Bream 0.3703154                       \n",
       "F35_Red_Deer     0.1152539                       \n",
       "⋮                ⋮                               \n",
       "X431_Quagga       0.2157999                      \n",
       "X67_European_Roe -0.4020339                      \n",
       "                 66cc60d5322fdeaf48cc8bdd82effea2\n",
       "F14_Common_Bream 0.3612832                       \n",
       "F35_Red_Deer     0.1062217                       \n",
       "⋮                ⋮                               \n",
       "X431_Quagga       0.2067676                      \n",
       "X67_European_Roe -0.4110661                      \n",
       "                 f906aca9a9c84f01cbd8a874cce7e6fe\n",
       "F14_Common_Bream 0.30778200                      \n",
       "F35_Red_Deer     0.05272048                      \n",
       "⋮                ⋮                               \n",
       "X431_Quagga       0.1532664                      \n",
       "X67_European_Roe -0.4645673                      \n",
       "                 1936b1a270b058c5754be0addc7c7c31\n",
       "F14_Common_Bream 0.27413385                      \n",
       "F35_Red_Deer     0.01907233                      \n",
       "⋮                ⋮                               \n",
       "X431_Quagga       0.1196183                      \n",
       "X67_European_Roe -0.4982155                      \n",
       "                 252850216e7d0123bfafd7eed609799d\n",
       "F14_Common_Bream 0.3629528                       \n",
       "F35_Red_Deer     0.1078913                       \n",
       "⋮                ⋮                               \n",
       "X431_Quagga       0.2084372                      \n",
       "X67_European_Roe -0.4093965                      \n",
       "                 7950a70a07006f7c7b0c6f02c46a93af ⋯\n",
       "F14_Common_Bream 0.29043538                       ⋯\n",
       "F35_Red_Deer     0.03537386                       ⋯\n",
       "⋮                ⋮                                ⋱\n",
       "X431_Quagga       0.1359198                       ⋯\n",
       "X67_European_Roe -0.4819140                       ⋯\n",
       "                 092547e9f87986180c27587156336bcb\n",
       "F14_Common_Bream 0.1665158                       \n",
       "F35_Red_Deer     2.7692054                       \n",
       "⋮                ⋮                               \n",
       "X431_Quagga       3.234569                       \n",
       "X67_European_Roe -2.166684                       \n",
       "                 2987f396047df01622b365b3b667a4eb\n",
       "F14_Common_Bream -0.03874821                     \n",
       "F35_Red_Deer     -0.64532655                     \n",
       "⋮                ⋮                               \n",
       "X431_Quagga      -0.3855593                      \n",
       "X67_European_Roe -1.5943665                      \n",
       "                 fef8ef65bd3598e9f1fec3bd32a9b4bd\n",
       "F14_Common_Bream  0.4547095                      \n",
       "F35_Red_Deer     -0.1518688                      \n",
       "⋮                ⋮                               \n",
       "X431_Quagga       0.1078984                      \n",
       "X67_European_Roe -1.1009088                      \n",
       "                 b9abd819fdd733c57642461d1c2247a6\n",
       "F14_Common_Bream  0.2546676                      \n",
       "F35_Red_Deer     -0.3519108                      \n",
       "⋮                ⋮                               \n",
       "X431_Quagga       4.675893                       \n",
       "X67_European_Roe -1.300951                       \n",
       "                 75f3ea1df98051a1b49107173aa51a32\n",
       "F14_Common_Bream 0.73849765                      \n",
       "F35_Red_Deer     0.03596791                      \n",
       "⋮                ⋮                               \n",
       "X431_Quagga       0.5839821                      \n",
       "X67_European_Roe -0.9130721                      \n",
       "                 1578a874797e43b052a66b2fb5ef9e4a\n",
       "F14_Common_Bream -2.920287                       \n",
       "F35_Red_Deer      1.275840                       \n",
       "⋮                ⋮                               \n",
       "X431_Quagga      -2.158147                       \n",
       "X67_European_Roe  1.004511                       \n",
       "                 b7ed842d3fbe5d8d33504a0a765409ae\n",
       "F14_Common_Bream -3.236448                       \n",
       "F35_Red_Deer     -3.843026                       \n",
       "⋮                ⋮                               \n",
       "X431_Quagga      -3.583259                       \n",
       "X67_European_Roe -4.792066                       \n",
       "                 1f1f87cab902b66753b8bbd81e69a7d4\n",
       "F14_Common_Bream -2.117767                       \n",
       "F35_Red_Deer      3.204286                       \n",
       "⋮                ⋮                               \n",
       "X431_Quagga      -2.46457812                     \n",
       "X67_European_Roe -0.03111916                     \n",
       "                 250a31c11dbecf1e2ef705424fdaa7a7\n",
       "F14_Common_Bream  8.7026399                      \n",
       "F35_Red_Deer     -0.3493636                      \n",
       "⋮                ⋮                               \n",
       "X431_Quagga      -0.08959639                     \n",
       "X67_European_Roe -1.29840360                     \n",
       "                 188795b8eb1edbd3334be2676ca05391\n",
       "F14_Common_Bream  0.4149247                      \n",
       "F35_Red_Deer     -0.1916536                      \n",
       "⋮                ⋮                               \n",
       "X431_Quagga       0.0681136                      \n",
       "X67_European_Roe -1.1406936                      "
      ]
     },
     "metadata": {},
     "output_type": "display_data"
    }
   ],
   "source": [
    "# otu table\n",
    "otu = physeq %>%\n",
    "    phyloseq2df(otu_table) %>%\n",
    "    as.data.frame\n",
    "rownames(otu) = otu$OTU\n",
    "otu$OTU = NULL\n",
    "otu = otu %>% t %>% as.data.frame\n",
    "otu"
   ]
  },
  {
   "cell_type": "code",
   "execution_count": 6,
   "metadata": {
    "ExecuteTime": {
     "end_time": "2020-08-26T17:23:11.665117Z",
     "start_time": "2020-08-26T17:23:07.432Z"
    }
   },
   "outputs": [
    {
     "data": {
      "text/html": [
       "<table>\n",
       "<caption>A data.frame: 185 × 90</caption>\n",
       "<thead>\n",
       "\t<tr><th></th><th scope=col>SampleID</th><th scope=col>host_subject_id</th><th scope=col>host_german_name</th><th scope=col>host_common_name</th><th scope=col>scientific_name</th><th scope=col>scientific_name_subspecies</th><th scope=col>host_taxid</th><th scope=col>class</th><th scope=col>order</th><th scope=col>family</th><th scope=col>⋯</th><th scope=col>i.CH4_L.d_mean</th><th scope=col>i.CH4_L.d_sd</th><th scope=col>i.CH4_L.kgBM_mean</th><th scope=col>i.CH4_L.kgBM_sd</th><th scope=col>i.CH4_g.d_mean</th><th scope=col>i.CH4_g.d_sd</th><th scope=col>i.CH4_kJ.d_mean</th><th scope=col>i.CH4_kJ.d_sd</th><th scope=col>Sample</th><th scope=col>dig_sys</th></tr>\n",
       "\t<tr><th></th><th scope=col>&lt;chr&gt;</th><th scope=col>&lt;chr&gt;</th><th scope=col>&lt;chr&gt;</th><th scope=col>&lt;chr&gt;</th><th scope=col>&lt;chr&gt;</th><th scope=col>&lt;chr&gt;</th><th scope=col>&lt;int&gt;</th><th scope=col>&lt;chr&gt;</th><th scope=col>&lt;chr&gt;</th><th scope=col>&lt;chr&gt;</th><th scope=col>⋯</th><th scope=col>&lt;dbl&gt;</th><th scope=col>&lt;dbl&gt;</th><th scope=col>&lt;dbl&gt;</th><th scope=col>&lt;dbl&gt;</th><th scope=col>&lt;dbl&gt;</th><th scope=col>&lt;dbl&gt;</th><th scope=col>&lt;dbl&gt;</th><th scope=col>&lt;dbl&gt;</th><th scope=col>&lt;chr&gt;</th><th scope=col>&lt;chr&gt;</th></tr>\n",
       "</thead>\n",
       "<tbody>\n",
       "\t<tr><th scope=row>F14_Common_Bream</th><td>F14_Common_Bream</td><td>F14</td><td>Brachse  </td><td>Common.Bream</td><td>Abramis_brama </td><td>NA</td><td>38527</td><td>Actinopterygii</td><td>Cypriniformes</td><td>Cyprinidae</td><td>⋯</td><td>      NA</td><td>      NA</td><td>       NA</td><td>       NA</td><td>      NA</td><td>      NA</td><td>      NA</td><td>      NA</td><td>F14_Common_Bream</td><td>simple </td></tr>\n",
       "\t<tr><th scope=row>F35_Red_Deer</th><td>F35_Red_Deer    </td><td>F35</td><td>Rothirsch</td><td>Red.Deer    </td><td>Cervus_elaphus</td><td>NA</td><td> 9860</td><td>Mammalia      </td><td>Artiodactyla </td><td>Cervidae  </td><td>⋯</td><td>52.24132</td><td>27.18306</td><td>0.4858472</td><td>0.1686955</td><td>38.67117</td><td>21.30162</td><td>2066.942</td><td>1075.505</td><td>F35_Red_Deer    </td><td>foregut</td></tr>\n",
       "\t<tr><th scope=row>⋮</th><td>⋮</td><td>⋮</td><td>⋮</td><td>⋮</td><td>⋮</td><td>⋮</td><td>⋮</td><td>⋮</td><td>⋮</td><td>⋮</td><td>⋱</td><td>⋮</td><td>⋮</td><td>⋮</td><td>⋮</td><td>⋮</td><td>⋮</td><td>⋮</td><td>⋮</td><td>⋮</td><td>⋮</td></tr>\n",
       "\t<tr><th scope=row>X431_Quagga</th><td>X431_Quagga     </td><td>431</td><td>Steppenzebra</td><td>Quagga      </td><td>Equus_quagga       </td><td>NA</td><td>89252</td><td>Mammalia</td><td>Perissodactyla</td><td>Equidae </td><td>⋯</td><td>NA</td><td>NA</td><td>NA</td><td>NA</td><td>NA</td><td>NA</td><td>NA</td><td>NA</td><td>X431_Quagga     </td><td>hindgut</td></tr>\n",
       "\t<tr><th scope=row>X67_European_Roe</th><td>X67_European_Roe</td><td>67 </td><td>Reh         </td><td>European.Roe</td><td>Capreolus_capreolus</td><td>NA</td><td> 9858</td><td>Mammalia</td><td>Artiodactyla  </td><td>Cervidae</td><td>⋯</td><td>NA</td><td>NA</td><td>NA</td><td>NA</td><td>NA</td><td>NA</td><td>NA</td><td>NA</td><td>X67_European_Roe</td><td>foregut</td></tr>\n",
       "</tbody>\n",
       "</table>\n"
      ],
      "text/latex": [
       "A data.frame: 185 × 90\n",
       "\\begin{tabular}{r|lllllllllllllllllllll}\n",
       "  & SampleID & host\\_subject\\_id & host\\_german\\_name & host\\_common\\_name & scientific\\_name & scientific\\_name\\_subspecies & host\\_taxid & class & order & family & ⋯ & i.CH4\\_L.d\\_mean & i.CH4\\_L.d\\_sd & i.CH4\\_L.kgBM\\_mean & i.CH4\\_L.kgBM\\_sd & i.CH4\\_g.d\\_mean & i.CH4\\_g.d\\_sd & i.CH4\\_kJ.d\\_mean & i.CH4\\_kJ.d\\_sd & Sample & dig\\_sys\\\\\n",
       "  & <chr> & <chr> & <chr> & <chr> & <chr> & <chr> & <int> & <chr> & <chr> & <chr> & ⋯ & <dbl> & <dbl> & <dbl> & <dbl> & <dbl> & <dbl> & <dbl> & <dbl> & <chr> & <chr>\\\\\n",
       "\\hline\n",
       "\tF14\\_Common\\_Bream & F14\\_Common\\_Bream & F14 & Brachse   & Common.Bream & Abramis\\_brama  & NA & 38527 & Actinopterygii & Cypriniformes & Cyprinidae & ⋯ &       NA &       NA &        NA &        NA &       NA &       NA &       NA &       NA & F14\\_Common\\_Bream & simple \\\\\n",
       "\tF35\\_Red\\_Deer & F35\\_Red\\_Deer     & F35 & Rothirsch & Red.Deer     & Cervus\\_elaphus & NA &  9860 & Mammalia       & Artiodactyla  & Cervidae   & ⋯ & 52.24132 & 27.18306 & 0.4858472 & 0.1686955 & 38.67117 & 21.30162 & 2066.942 & 1075.505 & F35\\_Red\\_Deer     & foregut\\\\\n",
       "\t⋮ & ⋮ & ⋮ & ⋮ & ⋮ & ⋮ & ⋮ & ⋮ & ⋮ & ⋮ & ⋮ & ⋱ & ⋮ & ⋮ & ⋮ & ⋮ & ⋮ & ⋮ & ⋮ & ⋮ & ⋮ & ⋮\\\\\n",
       "\tX431\\_Quagga & X431\\_Quagga      & 431 & Steppenzebra & Quagga       & Equus\\_quagga        & NA & 89252 & Mammalia & Perissodactyla & Equidae  & ⋯ & NA & NA & NA & NA & NA & NA & NA & NA & X431\\_Quagga      & hindgut\\\\\n",
       "\tX67\\_European\\_Roe & X67\\_European\\_Roe & 67  & Reh          & European.Roe & Capreolus\\_capreolus & NA &  9858 & Mammalia & Artiodactyla   & Cervidae & ⋯ & NA & NA & NA & NA & NA & NA & NA & NA & X67\\_European\\_Roe & foregut\\\\\n",
       "\\end{tabular}\n"
      ],
      "text/markdown": [
       "\n",
       "A data.frame: 185 × 90\n",
       "\n",
       "| <!--/--> | SampleID &lt;chr&gt; | host_subject_id &lt;chr&gt; | host_german_name &lt;chr&gt; | host_common_name &lt;chr&gt; | scientific_name &lt;chr&gt; | scientific_name_subspecies &lt;chr&gt; | host_taxid &lt;int&gt; | class &lt;chr&gt; | order &lt;chr&gt; | family &lt;chr&gt; | ⋯ ⋯ | i.CH4_L.d_mean &lt;dbl&gt; | i.CH4_L.d_sd &lt;dbl&gt; | i.CH4_L.kgBM_mean &lt;dbl&gt; | i.CH4_L.kgBM_sd &lt;dbl&gt; | i.CH4_g.d_mean &lt;dbl&gt; | i.CH4_g.d_sd &lt;dbl&gt; | i.CH4_kJ.d_mean &lt;dbl&gt; | i.CH4_kJ.d_sd &lt;dbl&gt; | Sample &lt;chr&gt; | dig_sys &lt;chr&gt; |\n",
       "|---|---|---|---|---|---|---|---|---|---|---|---|---|---|---|---|---|---|---|---|---|---|\n",
       "| F14_Common_Bream | F14_Common_Bream | F14 | Brachse   | Common.Bream | Abramis_brama  | NA | 38527 | Actinopterygii | Cypriniformes | Cyprinidae | ⋯ |       NA |       NA |        NA |        NA |       NA |       NA |       NA |       NA | F14_Common_Bream | simple  |\n",
       "| F35_Red_Deer | F35_Red_Deer     | F35 | Rothirsch | Red.Deer     | Cervus_elaphus | NA |  9860 | Mammalia       | Artiodactyla  | Cervidae   | ⋯ | 52.24132 | 27.18306 | 0.4858472 | 0.1686955 | 38.67117 | 21.30162 | 2066.942 | 1075.505 | F35_Red_Deer     | foregut |\n",
       "| ⋮ | ⋮ | ⋮ | ⋮ | ⋮ | ⋮ | ⋮ | ⋮ | ⋮ | ⋮ | ⋮ | ⋱ | ⋮ | ⋮ | ⋮ | ⋮ | ⋮ | ⋮ | ⋮ | ⋮ | ⋮ | ⋮ |\n",
       "| X431_Quagga | X431_Quagga      | 431 | Steppenzebra | Quagga       | Equus_quagga        | NA | 89252 | Mammalia | Perissodactyla | Equidae  | ⋯ | NA | NA | NA | NA | NA | NA | NA | NA | X431_Quagga      | hindgut |\n",
       "| X67_European_Roe | X67_European_Roe | 67  | Reh          | European.Roe | Capreolus_capreolus | NA |  9858 | Mammalia | Artiodactyla   | Cervidae | ⋯ | NA | NA | NA | NA | NA | NA | NA | NA | X67_European_Roe | foregut |\n",
       "\n"
      ],
      "text/plain": [
       "                 SampleID         host_subject_id host_german_name\n",
       "F14_Common_Bream F14_Common_Bream F14             Brachse         \n",
       "F35_Red_Deer     F35_Red_Deer     F35             Rothirsch       \n",
       "⋮                ⋮                ⋮               ⋮               \n",
       "X431_Quagga      X431_Quagga      431             Steppenzebra    \n",
       "X67_European_Roe X67_European_Roe 67              Reh             \n",
       "                 host_common_name scientific_name    \n",
       "F14_Common_Bream Common.Bream     Abramis_brama      \n",
       "F35_Red_Deer     Red.Deer         Cervus_elaphus     \n",
       "⋮                ⋮                ⋮                  \n",
       "X431_Quagga      Quagga           Equus_quagga       \n",
       "X67_European_Roe European.Roe     Capreolus_capreolus\n",
       "                 scientific_name_subspecies host_taxid class         \n",
       "F14_Common_Bream NA                         38527      Actinopterygii\n",
       "F35_Red_Deer     NA                          9860      Mammalia      \n",
       "⋮                ⋮                          ⋮          ⋮             \n",
       "X431_Quagga      NA                         89252      Mammalia      \n",
       "X67_European_Roe NA                          9858      Mammalia      \n",
       "                 order          family     ⋯ i.CH4_L.d_mean i.CH4_L.d_sd\n",
       "F14_Common_Bream Cypriniformes  Cyprinidae ⋯       NA             NA    \n",
       "F35_Red_Deer     Artiodactyla   Cervidae   ⋯ 52.24132       27.18306    \n",
       "⋮                ⋮              ⋮          ⋱ ⋮              ⋮           \n",
       "X431_Quagga      Perissodactyla Equidae    ⋯ NA             NA          \n",
       "X67_European_Roe Artiodactyla   Cervidae   ⋯ NA             NA          \n",
       "                 i.CH4_L.kgBM_mean i.CH4_L.kgBM_sd i.CH4_g.d_mean i.CH4_g.d_sd\n",
       "F14_Common_Bream        NA                NA             NA             NA    \n",
       "F35_Red_Deer     0.4858472         0.1686955       38.67117       21.30162    \n",
       "⋮                ⋮                 ⋮               ⋮              ⋮           \n",
       "X431_Quagga      NA                NA              NA             NA          \n",
       "X67_European_Roe NA                NA              NA             NA          \n",
       "                 i.CH4_kJ.d_mean i.CH4_kJ.d_sd Sample           dig_sys\n",
       "F14_Common_Bream       NA              NA      F14_Common_Bream simple \n",
       "F35_Red_Deer     2066.942        1075.505      F35_Red_Deer     foregut\n",
       "⋮                ⋮               ⋮             ⋮                ⋮      \n",
       "X431_Quagga      NA              NA            X431_Quagga      hindgut\n",
       "X67_European_Roe NA              NA            X67_European_Roe foregut"
      ]
     },
     "metadata": {},
     "output_type": "display_data"
    }
   ],
   "source": [
    "# metadata\n",
    "metadata = physeq %>% \n",
    "    phyloseq2df(sample_data) %>%\n",
    "    mutate(scientific_name = gsub(' ', '_', scientific_name),\n",
    "           digestive_system = gsub('fermentation activity ', '', digestive_system),\n",
    "           dig_sys = gsub('simple ', '', digestive_system)) %>%\n",
    "    as.data.frame\n",
    "rownames(metadata) = metadata$SampleID\n",
    "metadata "
   ]
  },
  {
   "cell_type": "code",
   "execution_count": 12,
   "metadata": {
    "ExecuteTime": {
     "end_time": "2020-08-26T17:23:43.503690Z",
     "start_time": "2020-08-26T17:23:43.414Z"
    }
   },
   "outputs": [
    {
     "data": {
      "text/html": [
       "<table>\n",
       "<caption>A data.frame: 185 × 5</caption>\n",
       "<thead>\n",
       "\t<tr><th></th><th scope=col>pielou_e</th><th scope=col>observed_otus</th><th scope=col>shannon</th><th scope=col>faith_pd</th><th scope=col>Sample</th></tr>\n",
       "\t<tr><th></th><th scope=col>&lt;dbl&gt;</th><th scope=col>&lt;int&gt;</th><th scope=col>&lt;dbl&gt;</th><th scope=col>&lt;dbl&gt;</th><th scope=col>&lt;chr&gt;</th></tr>\n",
       "</thead>\n",
       "<tbody>\n",
       "\t<tr><th scope=row>F14_Common_Bream</th><td>0.4255973</td><td>7</td><td>1.194803</td><td>2.629572</td><td>F14_Common_Bream</td></tr>\n",
       "\t<tr><th scope=row>F35_Red_Deer</th><td>0.7088848</td><td>5</td><td>1.645979</td><td>3.286218</td><td>F35_Red_Deer    </td></tr>\n",
       "\t<tr><th scope=row>⋮</th><td>⋮</td><td>⋮</td><td>⋮</td><td>⋮</td><td>⋮</td></tr>\n",
       "\t<tr><th scope=row>X431_Quagga</th><td>0.43631269</td><td>4</td><td>0.87262539</td><td>2.754449</td><td>X431_Quagga     </td></tr>\n",
       "\t<tr><th scope=row>X67_European_Roe</th><td>0.03762236</td><td>2</td><td>0.03762236</td><td>1.109893</td><td>X67_European_Roe</td></tr>\n",
       "</tbody>\n",
       "</table>\n"
      ],
      "text/latex": [
       "A data.frame: 185 × 5\n",
       "\\begin{tabular}{r|lllll}\n",
       "  & pielou\\_e & observed\\_otus & shannon & faith\\_pd & Sample\\\\\n",
       "  & <dbl> & <int> & <dbl> & <dbl> & <chr>\\\\\n",
       "\\hline\n",
       "\tF14\\_Common\\_Bream & 0.4255973 & 7 & 1.194803 & 2.629572 & F14\\_Common\\_Bream\\\\\n",
       "\tF35\\_Red\\_Deer & 0.7088848 & 5 & 1.645979 & 3.286218 & F35\\_Red\\_Deer    \\\\\n",
       "\t⋮ & ⋮ & ⋮ & ⋮ & ⋮ & ⋮\\\\\n",
       "\tX431\\_Quagga & 0.43631269 & 4 & 0.87262539 & 2.754449 & X431\\_Quagga     \\\\\n",
       "\tX67\\_European\\_Roe & 0.03762236 & 2 & 0.03762236 & 1.109893 & X67\\_European\\_Roe\\\\\n",
       "\\end{tabular}\n"
      ],
      "text/markdown": [
       "\n",
       "A data.frame: 185 × 5\n",
       "\n",
       "| <!--/--> | pielou_e &lt;dbl&gt; | observed_otus &lt;int&gt; | shannon &lt;dbl&gt; | faith_pd &lt;dbl&gt; | Sample &lt;chr&gt; |\n",
       "|---|---|---|---|---|---|\n",
       "| F14_Common_Bream | 0.4255973 | 7 | 1.194803 | 2.629572 | F14_Common_Bream |\n",
       "| F35_Red_Deer | 0.7088848 | 5 | 1.645979 | 3.286218 | F35_Red_Deer     |\n",
       "| ⋮ | ⋮ | ⋮ | ⋮ | ⋮ | ⋮ |\n",
       "| X431_Quagga | 0.43631269 | 4 | 0.87262539 | 2.754449 | X431_Quagga      |\n",
       "| X67_European_Roe | 0.03762236 | 2 | 0.03762236 | 1.109893 | X67_European_Roe |\n",
       "\n"
      ],
      "text/plain": [
       "                 pielou_e   observed_otus shannon    faith_pd Sample          \n",
       "F14_Common_Bream 0.4255973  7             1.194803   2.629572 F14_Common_Bream\n",
       "F35_Red_Deer     0.7088848  5             1.645979   3.286218 F35_Red_Deer    \n",
       "⋮                ⋮          ⋮             ⋮          ⋮        ⋮               \n",
       "X431_Quagga      0.43631269 4             0.87262539 2.754449 X431_Quagga     \n",
       "X67_European_Roe 0.03762236 2             0.03762236 1.109893 X67_European_Roe"
      ]
     },
     "metadata": {},
     "output_type": "display_data"
    }
   ],
   "source": [
    "# alpha diversity calculated by QIIME2 (rarefaction)\n",
    "alpha_div = readRDS(alpha_div_file) %>%\n",
    "    do.call(cbind, .) %>%\n",
    "    mutate(Sample = rownames(.))\n",
    "rownames(alpha_div) = alpha_div$Sample\n",
    "alpha_div"
   ]
  },
  {
   "cell_type": "code",
   "execution_count": 10,
   "metadata": {
    "ExecuteTime": {
     "end_time": "2020-08-26T17:23:27.311300Z",
     "start_time": "2020-08-26T17:23:27.270Z"
    }
   },
   "outputs": [],
   "source": [
    "# # alpha diversity estimated by iNEXT\n",
    "# alpha_div_hill = readRDS(alpha_div_hill_file)\n",
    "# alpha_div_hill %>% names\n",
    "\n",
    "# alpha_div_hill = alpha_div_hill$AsyEst\n",
    "# alpha_div_hill"
   ]
  },
  {
   "cell_type": "code",
   "execution_count": 11,
   "metadata": {
    "ExecuteTime": {
     "end_time": "2020-08-26T17:23:39.941981Z",
     "start_time": "2020-08-26T17:23:39.888Z"
    }
   },
   "outputs": [],
   "source": [
    "# # joining alpha div\n",
    "# overlap(alpha_div$Sample, alpha_div_hill$Site)\n",
    "\n",
    "# alpha_div = alpha_div %>%\n",
    "#     inner_join(alpha_div_hill %>% \n",
    "#                    filter(Diversity == 'Shannon diversity') %>%\n",
    "#                    dplyr::select(Site, Estimator) %>%\n",
    "#                    rename('shannon_hill' = Estimator),\n",
    "#                c('Sample'='Site')) %>%\n",
    "#     as.data.frame\n",
    "\n",
    "# rownames(alpha_div) = alpha_div$Sample\n",
    "# alpha_div$Sample = NULL\n",
    "# alpha_div"
   ]
  },
  {
   "cell_type": "code",
   "execution_count": 13,
   "metadata": {
    "ExecuteTime": {
     "end_time": "2020-08-26T17:23:48.018549Z",
     "start_time": "2020-08-26T17:23:47.963Z"
    }
   },
   "outputs": [
    {
     "data": {
      "text/plain": [
       "\n",
       "Phylogenetic tree with 185 tips and 184 internal nodes.\n",
       "\n",
       "Tip labels:\n",
       "\tX60_European_Chub, X179_Roach, X330_Ide, X327_Silver_Bream, X326_Silver_Bream, F14_Common_Bream, ...\n",
       "Node labels:\n",
       "\t, @_20_@, @_17_@, @_14_@, @_9_@, @_15_@, ...\n",
       "\n",
       "Rooted; includes branch lengths."
      ]
     },
     "metadata": {},
     "output_type": "display_data"
    }
   ],
   "source": [
    "# host phylogeny\n",
    "host_tree = read.tree(host_tree_IndD_file)\n",
    "host_tree"
   ]
  },
  {
   "cell_type": "markdown",
   "metadata": {},
   "source": [
    "## Format"
   ]
  },
  {
   "cell_type": "code",
   "execution_count": 14,
   "metadata": {
    "ExecuteTime": {
     "end_time": "2020-08-26T17:23:49.524914Z",
     "start_time": "2020-08-26T17:23:49.437Z"
    }
   },
   "outputs": [
    {
     "data": {
      "text/html": [
       "<table>\n",
       "<caption>A data.frame: 185 × 16</caption>\n",
       "<thead>\n",
       "\t<tr><th></th><th scope=col>diet</th><th scope=col>diet_vertebrate</th><th scope=col>diet_invertebrate</th><th scope=col>diet_fruit</th><th scope=col>diet_flowers_nectar_pollen</th><th scope=col>diet_leaves_branches_bark_buds</th><th scope=col>diet_seeds</th><th scope=col>diet_grass_waterplants</th><th scope=col>diet_roots_tubers</th><th scope=col>digestive_system</th><th scope=col>dig_sys</th><th scope=col>pielou_e</th><th scope=col>observed_otus</th><th scope=col>shannon</th><th scope=col>faith_pd</th><th scope=col>Sample</th></tr>\n",
       "\t<tr><th></th><th scope=col>&lt;chr&gt;</th><th scope=col>&lt;chr&gt;</th><th scope=col>&lt;chr&gt;</th><th scope=col>&lt;chr&gt;</th><th scope=col>&lt;chr&gt;</th><th scope=col>&lt;chr&gt;</th><th scope=col>&lt;chr&gt;</th><th scope=col>&lt;chr&gt;</th><th scope=col>&lt;chr&gt;</th><th scope=col>&lt;chr&gt;</th><th scope=col>&lt;chr&gt;</th><th scope=col>&lt;dbl&gt;</th><th scope=col>&lt;int&gt;</th><th scope=col>&lt;dbl&gt;</th><th scope=col>&lt;dbl&gt;</th><th scope=col>&lt;chr&gt;</th></tr>\n",
       "</thead>\n",
       "<tbody>\n",
       "\t<tr><th scope=row>F14_Common_Bream</th><td>omnivore </td><td>no</td><td>yes</td><td>no </td><td>no</td><td>no </td><td>no </td><td>yes</td><td>no </td><td>simple </td><td>simple </td><td>0.4255973</td><td>7</td><td>1.194803</td><td>2.629572</td><td>F14_Common_Bream</td></tr>\n",
       "\t<tr><th scope=row>F35_Red_Deer</th><td>herbivore</td><td>no</td><td>no </td><td>yes</td><td>no</td><td>yes</td><td>yes</td><td>yes</td><td>yes</td><td>foregut</td><td>foregut</td><td>0.7088848</td><td>5</td><td>1.645979</td><td>3.286218</td><td>F35_Red_Deer    </td></tr>\n",
       "\t<tr><th scope=row>⋮</th><td>⋮</td><td>⋮</td><td>⋮</td><td>⋮</td><td>⋮</td><td>⋮</td><td>⋮</td><td>⋮</td><td>⋮</td><td>⋮</td><td>⋮</td><td>⋮</td><td>⋮</td><td>⋮</td><td>⋮</td><td>⋮</td></tr>\n",
       "\t<tr><th scope=row>X431_Quagga</th><td>herbivore</td><td>no</td><td>no</td><td>no </td><td>no</td><td>no </td><td>yes</td><td>yes</td><td>no</td><td>hindgut</td><td>hindgut</td><td>0.43631269</td><td>4</td><td>0.87262539</td><td>2.754449</td><td>X431_Quagga     </td></tr>\n",
       "\t<tr><th scope=row>X67_European_Roe</th><td>herbivore</td><td>no</td><td>no</td><td>yes</td><td>no</td><td>yes</td><td>yes</td><td>yes</td><td>no</td><td>foregut</td><td>foregut</td><td>0.03762236</td><td>2</td><td>0.03762236</td><td>1.109893</td><td>X67_European_Roe</td></tr>\n",
       "</tbody>\n",
       "</table>\n"
      ],
      "text/latex": [
       "A data.frame: 185 × 16\n",
       "\\begin{tabular}{r|llllllllllllllll}\n",
       "  & diet & diet\\_vertebrate & diet\\_invertebrate & diet\\_fruit & diet\\_flowers\\_nectar\\_pollen & diet\\_leaves\\_branches\\_bark\\_buds & diet\\_seeds & diet\\_grass\\_waterplants & diet\\_roots\\_tubers & digestive\\_system & dig\\_sys & pielou\\_e & observed\\_otus & shannon & faith\\_pd & Sample\\\\\n",
       "  & <chr> & <chr> & <chr> & <chr> & <chr> & <chr> & <chr> & <chr> & <chr> & <chr> & <chr> & <dbl> & <int> & <dbl> & <dbl> & <chr>\\\\\n",
       "\\hline\n",
       "\tF14\\_Common\\_Bream & omnivore  & no & yes & no  & no & no  & no  & yes & no  & simple  & simple  & 0.4255973 & 7 & 1.194803 & 2.629572 & F14\\_Common\\_Bream\\\\\n",
       "\tF35\\_Red\\_Deer & herbivore & no & no  & yes & no & yes & yes & yes & yes & foregut & foregut & 0.7088848 & 5 & 1.645979 & 3.286218 & F35\\_Red\\_Deer    \\\\\n",
       "\t⋮ & ⋮ & ⋮ & ⋮ & ⋮ & ⋮ & ⋮ & ⋮ & ⋮ & ⋮ & ⋮ & ⋮ & ⋮ & ⋮ & ⋮ & ⋮ & ⋮\\\\\n",
       "\tX431\\_Quagga & herbivore & no & no & no  & no & no  & yes & yes & no & hindgut & hindgut & 0.43631269 & 4 & 0.87262539 & 2.754449 & X431\\_Quagga     \\\\\n",
       "\tX67\\_European\\_Roe & herbivore & no & no & yes & no & yes & yes & yes & no & foregut & foregut & 0.03762236 & 2 & 0.03762236 & 1.109893 & X67\\_European\\_Roe\\\\\n",
       "\\end{tabular}\n"
      ],
      "text/markdown": [
       "\n",
       "A data.frame: 185 × 16\n",
       "\n",
       "| <!--/--> | diet &lt;chr&gt; | diet_vertebrate &lt;chr&gt; | diet_invertebrate &lt;chr&gt; | diet_fruit &lt;chr&gt; | diet_flowers_nectar_pollen &lt;chr&gt; | diet_leaves_branches_bark_buds &lt;chr&gt; | diet_seeds &lt;chr&gt; | diet_grass_waterplants &lt;chr&gt; | diet_roots_tubers &lt;chr&gt; | digestive_system &lt;chr&gt; | dig_sys &lt;chr&gt; | pielou_e &lt;dbl&gt; | observed_otus &lt;int&gt; | shannon &lt;dbl&gt; | faith_pd &lt;dbl&gt; | Sample &lt;chr&gt; |\n",
       "|---|---|---|---|---|---|---|---|---|---|---|---|---|---|---|---|---|\n",
       "| F14_Common_Bream | omnivore  | no | yes | no  | no | no  | no  | yes | no  | simple  | simple  | 0.4255973 | 7 | 1.194803 | 2.629572 | F14_Common_Bream |\n",
       "| F35_Red_Deer | herbivore | no | no  | yes | no | yes | yes | yes | yes | foregut | foregut | 0.7088848 | 5 | 1.645979 | 3.286218 | F35_Red_Deer     |\n",
       "| ⋮ | ⋮ | ⋮ | ⋮ | ⋮ | ⋮ | ⋮ | ⋮ | ⋮ | ⋮ | ⋮ | ⋮ | ⋮ | ⋮ | ⋮ | ⋮ | ⋮ |\n",
       "| X431_Quagga | herbivore | no | no | no  | no | no  | yes | yes | no | hindgut | hindgut | 0.43631269 | 4 | 0.87262539 | 2.754449 | X431_Quagga      |\n",
       "| X67_European_Roe | herbivore | no | no | yes | no | yes | yes | yes | no | foregut | foregut | 0.03762236 | 2 | 0.03762236 | 1.109893 | X67_European_Roe |\n",
       "\n"
      ],
      "text/plain": [
       "                 diet      diet_vertebrate diet_invertebrate diet_fruit\n",
       "F14_Common_Bream omnivore  no              yes               no        \n",
       "F35_Red_Deer     herbivore no              no                yes       \n",
       "⋮                ⋮         ⋮               ⋮                 ⋮         \n",
       "X431_Quagga      herbivore no              no                no        \n",
       "X67_European_Roe herbivore no              no                yes       \n",
       "                 diet_flowers_nectar_pollen diet_leaves_branches_bark_buds\n",
       "F14_Common_Bream no                         no                            \n",
       "F35_Red_Deer     no                         yes                           \n",
       "⋮                ⋮                          ⋮                             \n",
       "X431_Quagga      no                         no                            \n",
       "X67_European_Roe no                         yes                           \n",
       "                 diet_seeds diet_grass_waterplants diet_roots_tubers\n",
       "F14_Common_Bream no         yes                    no               \n",
       "F35_Red_Deer     yes        yes                    yes              \n",
       "⋮                ⋮          ⋮                      ⋮                \n",
       "X431_Quagga      yes        yes                    no               \n",
       "X67_European_Roe yes        yes                    no               \n",
       "                 digestive_system dig_sys pielou_e   observed_otus shannon   \n",
       "F14_Common_Bream simple           simple  0.4255973  7             1.194803  \n",
       "F35_Red_Deer     foregut          foregut 0.7088848  5             1.645979  \n",
       "⋮                ⋮                ⋮       ⋮          ⋮             ⋮         \n",
       "X431_Quagga      hindgut          hindgut 0.43631269 4             0.87262539\n",
       "X67_European_Roe foregut          foregut 0.03762236 2             0.03762236\n",
       "                 faith_pd Sample          \n",
       "F14_Common_Bream 2.629572 F14_Common_Bream\n",
       "F35_Red_Deer     3.286218 F35_Red_Deer    \n",
       "⋮                ⋮        ⋮               \n",
       "X431_Quagga      2.754449 X431_Quagga     \n",
       "X67_European_Roe 1.109893 X67_European_Roe"
      ]
     },
     "metadata": {},
     "output_type": "display_data"
    }
   ],
   "source": [
    "diet_vars = c(\n",
    "'diet',\n",
    "'diet_vertebrate',\n",
    "'diet_invertebrate',\n",
    "'diet_fruit',\n",
    "'diet_flowers_nectar_pollen',\n",
    "'diet_leaves_branches_bark_buds',\n",
    "'diet_seeds',\n",
    "'diet_grass_waterplants',\n",
    "'diet_roots_tubers',\n",
    "'digestive_system',\n",
    "'dig_sys'\n",
    ")\n",
    "alpha_div = cbind(metadata[,diet_vars], alpha_div)\n",
    "alpha_div"
   ]
  },
  {
   "cell_type": "code",
   "execution_count": 15,
   "metadata": {
    "ExecuteTime": {
     "end_time": "2020-08-26T17:23:55.773375Z",
     "start_time": "2020-08-26T17:23:55.630Z"
    }
   },
   "outputs": [
    {
     "data": {
      "text/html": [
       "<table>\n",
       "<caption>A data.frame: 185 × 17</caption>\n",
       "<thead>\n",
       "\t<tr><th></th><th scope=col>diet</th><th scope=col>diet_vertebrate</th><th scope=col>diet_invertebrate</th><th scope=col>diet_fruit</th><th scope=col>diet_flowers_nectar_pollen</th><th scope=col>diet_leaves_branches_bark_buds</th><th scope=col>diet_seeds</th><th scope=col>diet_grass_waterplants</th><th scope=col>diet_roots_tubers</th><th scope=col>digestive_system</th><th scope=col>dig_sys</th><th scope=col>pielou_e</th><th scope=col>observed_otus</th><th scope=col>shannon</th><th scope=col>faith_pd</th><th scope=col>Sample</th><th scope=col>taxa</th></tr>\n",
       "\t<tr><th></th><th scope=col>&lt;dbl&gt;</th><th scope=col>&lt;dbl&gt;</th><th scope=col>&lt;dbl&gt;</th><th scope=col>&lt;dbl&gt;</th><th scope=col>&lt;dbl&gt;</th><th scope=col>&lt;dbl&gt;</th><th scope=col>&lt;dbl&gt;</th><th scope=col>&lt;dbl&gt;</th><th scope=col>&lt;dbl&gt;</th><th scope=col>&lt;dbl&gt;</th><th scope=col>&lt;dbl&gt;</th><th scope=col>&lt;dbl&gt;</th><th scope=col>&lt;int&gt;</th><th scope=col>&lt;dbl&gt;</th><th scope=col>&lt;dbl&gt;</th><th scope=col>&lt;chr&gt;</th><th scope=col>&lt;chr&gt;</th></tr>\n",
       "</thead>\n",
       "<tbody>\n",
       "\t<tr><th scope=row>F14_Common_Bream</th><td>0.5</td><td>0</td><td>1</td><td>0</td><td>0</td><td>0</td><td>0</td><td>1</td><td>0</td><td>0.5</td><td>0.5</td><td>0.4255973</td><td>7</td><td>1.194803</td><td>2.629572</td><td>F14_Common_Bream</td><td>F14_Common_Bream</td></tr>\n",
       "\t<tr><th scope=row>F35_Red_Deer</th><td>1.0</td><td>0</td><td>0</td><td>1</td><td>0</td><td>1</td><td>1</td><td>1</td><td>1</td><td>1.0</td><td>1.0</td><td>0.7088848</td><td>5</td><td>1.645979</td><td>3.286218</td><td>F35_Red_Deer    </td><td>F35_Red_Deer    </td></tr>\n",
       "\t<tr><th scope=row>⋮</th><td>⋮</td><td>⋮</td><td>⋮</td><td>⋮</td><td>⋮</td><td>⋮</td><td>⋮</td><td>⋮</td><td>⋮</td><td>⋮</td><td>⋮</td><td>⋮</td><td>⋮</td><td>⋮</td><td>⋮</td><td>⋮</td><td>⋮</td></tr>\n",
       "\t<tr><th scope=row>X431_Quagga</th><td>1</td><td>0</td><td>0</td><td>0</td><td>0</td><td>0</td><td>1</td><td>1</td><td>0</td><td>0</td><td>0</td><td>0.43631269</td><td>4</td><td>0.87262539</td><td>2.754449</td><td>X431_Quagga     </td><td>X431_Quagga     </td></tr>\n",
       "\t<tr><th scope=row>X67_European_Roe</th><td>1</td><td>0</td><td>0</td><td>1</td><td>0</td><td>1</td><td>1</td><td>1</td><td>0</td><td>1</td><td>1</td><td>0.03762236</td><td>2</td><td>0.03762236</td><td>1.109893</td><td>X67_European_Roe</td><td>X67_European_Roe</td></tr>\n",
       "</tbody>\n",
       "</table>\n"
      ],
      "text/latex": [
       "A data.frame: 185 × 17\n",
       "\\begin{tabular}{r|lllllllllllllllll}\n",
       "  & diet & diet\\_vertebrate & diet\\_invertebrate & diet\\_fruit & diet\\_flowers\\_nectar\\_pollen & diet\\_leaves\\_branches\\_bark\\_buds & diet\\_seeds & diet\\_grass\\_waterplants & diet\\_roots\\_tubers & digestive\\_system & dig\\_sys & pielou\\_e & observed\\_otus & shannon & faith\\_pd & Sample & taxa\\\\\n",
       "  & <dbl> & <dbl> & <dbl> & <dbl> & <dbl> & <dbl> & <dbl> & <dbl> & <dbl> & <dbl> & <dbl> & <dbl> & <int> & <dbl> & <dbl> & <chr> & <chr>\\\\\n",
       "\\hline\n",
       "\tF14\\_Common\\_Bream & 0.5 & 0 & 1 & 0 & 0 & 0 & 0 & 1 & 0 & 0.5 & 0.5 & 0.4255973 & 7 & 1.194803 & 2.629572 & F14\\_Common\\_Bream & F14\\_Common\\_Bream\\\\\n",
       "\tF35\\_Red\\_Deer & 1.0 & 0 & 0 & 1 & 0 & 1 & 1 & 1 & 1 & 1.0 & 1.0 & 0.7088848 & 5 & 1.645979 & 3.286218 & F35\\_Red\\_Deer     & F35\\_Red\\_Deer    \\\\\n",
       "\t⋮ & ⋮ & ⋮ & ⋮ & ⋮ & ⋮ & ⋮ & ⋮ & ⋮ & ⋮ & ⋮ & ⋮ & ⋮ & ⋮ & ⋮ & ⋮ & ⋮ & ⋮\\\\\n",
       "\tX431\\_Quagga & 1 & 0 & 0 & 0 & 0 & 0 & 1 & 1 & 0 & 0 & 0 & 0.43631269 & 4 & 0.87262539 & 2.754449 & X431\\_Quagga      & X431\\_Quagga     \\\\\n",
       "\tX67\\_European\\_Roe & 1 & 0 & 0 & 1 & 0 & 1 & 1 & 1 & 0 & 1 & 1 & 0.03762236 & 2 & 0.03762236 & 1.109893 & X67\\_European\\_Roe & X67\\_European\\_Roe\\\\\n",
       "\\end{tabular}\n"
      ],
      "text/markdown": [
       "\n",
       "A data.frame: 185 × 17\n",
       "\n",
       "| <!--/--> | diet &lt;dbl&gt; | diet_vertebrate &lt;dbl&gt; | diet_invertebrate &lt;dbl&gt; | diet_fruit &lt;dbl&gt; | diet_flowers_nectar_pollen &lt;dbl&gt; | diet_leaves_branches_bark_buds &lt;dbl&gt; | diet_seeds &lt;dbl&gt; | diet_grass_waterplants &lt;dbl&gt; | diet_roots_tubers &lt;dbl&gt; | digestive_system &lt;dbl&gt; | dig_sys &lt;dbl&gt; | pielou_e &lt;dbl&gt; | observed_otus &lt;int&gt; | shannon &lt;dbl&gt; | faith_pd &lt;dbl&gt; | Sample &lt;chr&gt; | taxa &lt;chr&gt; |\n",
       "|---|---|---|---|---|---|---|---|---|---|---|---|---|---|---|---|---|---|\n",
       "| F14_Common_Bream | 0.5 | 0 | 1 | 0 | 0 | 0 | 0 | 1 | 0 | 0.5 | 0.5 | 0.4255973 | 7 | 1.194803 | 2.629572 | F14_Common_Bream | F14_Common_Bream |\n",
       "| F35_Red_Deer | 1.0 | 0 | 0 | 1 | 0 | 1 | 1 | 1 | 1 | 1.0 | 1.0 | 0.7088848 | 5 | 1.645979 | 3.286218 | F35_Red_Deer     | F35_Red_Deer     |\n",
       "| ⋮ | ⋮ | ⋮ | ⋮ | ⋮ | ⋮ | ⋮ | ⋮ | ⋮ | ⋮ | ⋮ | ⋮ | ⋮ | ⋮ | ⋮ | ⋮ | ⋮ | ⋮ |\n",
       "| X431_Quagga | 1 | 0 | 0 | 0 | 0 | 0 | 1 | 1 | 0 | 0 | 0 | 0.43631269 | 4 | 0.87262539 | 2.754449 | X431_Quagga      | X431_Quagga      |\n",
       "| X67_European_Roe | 1 | 0 | 0 | 1 | 0 | 1 | 1 | 1 | 0 | 1 | 1 | 0.03762236 | 2 | 0.03762236 | 1.109893 | X67_European_Roe | X67_European_Roe |\n",
       "\n"
      ],
      "text/plain": [
       "                 diet diet_vertebrate diet_invertebrate diet_fruit\n",
       "F14_Common_Bream 0.5  0               1                 0         \n",
       "F35_Red_Deer     1.0  0               0                 1         \n",
       "⋮                ⋮    ⋮               ⋮                 ⋮         \n",
       "X431_Quagga      1    0               0                 0         \n",
       "X67_European_Roe 1    0               0                 1         \n",
       "                 diet_flowers_nectar_pollen diet_leaves_branches_bark_buds\n",
       "F14_Common_Bream 0                          0                             \n",
       "F35_Red_Deer     0                          1                             \n",
       "⋮                ⋮                          ⋮                             \n",
       "X431_Quagga      0                          0                             \n",
       "X67_European_Roe 0                          1                             \n",
       "                 diet_seeds diet_grass_waterplants diet_roots_tubers\n",
       "F14_Common_Bream 0          1                      0                \n",
       "F35_Red_Deer     1          1                      1                \n",
       "⋮                ⋮          ⋮                      ⋮                \n",
       "X431_Quagga      1          1                      0                \n",
       "X67_European_Roe 1          1                      0                \n",
       "                 digestive_system dig_sys pielou_e   observed_otus shannon   \n",
       "F14_Common_Bream 0.5              0.5     0.4255973  7             1.194803  \n",
       "F35_Red_Deer     1.0              1.0     0.7088848  5             1.645979  \n",
       "⋮                ⋮                ⋮       ⋮          ⋮             ⋮         \n",
       "X431_Quagga      0                0       0.43631269 4             0.87262539\n",
       "X67_European_Roe 1                1       0.03762236 2             0.03762236\n",
       "                 faith_pd Sample           taxa            \n",
       "F14_Common_Bream 2.629572 F14_Common_Bream F14_Common_Bream\n",
       "F35_Red_Deer     3.286218 F35_Red_Deer     F35_Red_Deer    \n",
       "⋮                ⋮        ⋮                ⋮               \n",
       "X431_Quagga      2.754449 X431_Quagga      X431_Quagga     \n",
       "X67_European_Roe 1.109893 X67_European_Roe X67_European_Roe"
      ]
     },
     "metadata": {},
     "output_type": "display_data"
    }
   ],
   "source": [
    "# encoding diet vars as numeric\n",
    "alpha_div$diet = case_when(alpha_div$diet == 'herbivore' ~ 1,\n",
    "                           alpha_div$diet == 'omnivore' ~ 0.5,\n",
    "                           alpha_div$diet == 'carnivore' ~ 0)\n",
    "\n",
    "alpha_div$digestive_system = case_when(alpha_div$digestive_system == 'hindgut' ~ 0,\n",
    "                                 alpha_div$digestive_system == 'simple hindgut' ~ 0.25,\n",
    "                                 alpha_div$digestive_system == 'simple' ~ 0.5,\n",
    "                                 alpha_div$digestive_system == 'simple foregut' ~ 0.75,\n",
    "                                 alpha_div$digestive_system == 'foregut' ~1)\n",
    "\n",
    "\n",
    "alpha_div$dig_sys = case_when(alpha_div$dig_sys == 'hindgut' ~ 0,\n",
    "                        alpha_div$dig_sys == 'simple' ~ 0.5,\n",
    "                        alpha_div$dig_sys == 'foregut' ~1)\n",
    "\n",
    "for(x in diet_vars[2:(length(diet_vars)-2)]){\n",
    "    alpha_div[,x] = gsub(' .+', '', alpha_div[,x])\n",
    "    alpha_div[,x] = ifelse(alpha_div[,x] == 'yes', 1, 0) %>% as.numeric\n",
    "}\n",
    "\n",
    "alpha_div$taxa = rownames(alpha_div)\n",
    "alpha_div "
   ]
  },
  {
   "cell_type": "code",
   "execution_count": 16,
   "metadata": {
    "ExecuteTime": {
     "end_time": "2020-08-26T17:23:56.890877Z",
     "start_time": "2020-08-26T17:23:56.844Z"
    }
   },
   "outputs": [
    {
     "data": {
      "text/html": [
       "<dl class=dl-horizontal>\n",
       "\t<dt>diet</dt>\n",
       "\t\t<dd>120.5</dd>\n",
       "\t<dt>diet_vertebrate</dt>\n",
       "\t\t<dd>52</dd>\n",
       "\t<dt>diet_invertebrate</dt>\n",
       "\t\t<dd>82</dd>\n",
       "\t<dt>diet_fruit</dt>\n",
       "\t\t<dd>74</dd>\n",
       "\t<dt>diet_flowers_nectar_pollen</dt>\n",
       "\t\t<dd>16</dd>\n",
       "\t<dt>diet_leaves_branches_bark_buds</dt>\n",
       "\t\t<dd>93</dd>\n",
       "\t<dt>diet_seeds</dt>\n",
       "\t\t<dd>79</dd>\n",
       "\t<dt>diet_grass_waterplants</dt>\n",
       "\t\t<dd>104</dd>\n",
       "\t<dt>diet_roots_tubers</dt>\n",
       "\t\t<dd>66</dd>\n",
       "\t<dt>digestive_system</dt>\n",
       "\t\t<dd>100</dd>\n",
       "\t<dt>dig_sys</dt>\n",
       "\t\t<dd>94</dd>\n",
       "</dl>\n"
      ],
      "text/latex": [
       "\\begin{description*}\n",
       "\\item[diet] 120.5\n",
       "\\item[diet\\textbackslash{}\\_vertebrate] 52\n",
       "\\item[diet\\textbackslash{}\\_invertebrate] 82\n",
       "\\item[diet\\textbackslash{}\\_fruit] 74\n",
       "\\item[diet\\textbackslash{}\\_flowers\\textbackslash{}\\_nectar\\textbackslash{}\\_pollen] 16\n",
       "\\item[diet\\textbackslash{}\\_leaves\\textbackslash{}\\_branches\\textbackslash{}\\_bark\\textbackslash{}\\_buds] 93\n",
       "\\item[diet\\textbackslash{}\\_seeds] 79\n",
       "\\item[diet\\textbackslash{}\\_grass\\textbackslash{}\\_waterplants] 104\n",
       "\\item[diet\\textbackslash{}\\_roots\\textbackslash{}\\_tubers] 66\n",
       "\\item[digestive\\textbackslash{}\\_system] 100\n",
       "\\item[dig\\textbackslash{}\\_sys] 94\n",
       "\\end{description*}\n"
      ],
      "text/markdown": [
       "diet\n",
       ":   120.5diet_vertebrate\n",
       ":   52diet_invertebrate\n",
       ":   82diet_fruit\n",
       ":   74diet_flowers_nectar_pollen\n",
       ":   16diet_leaves_branches_bark_buds\n",
       ":   93diet_seeds\n",
       ":   79diet_grass_waterplants\n",
       ":   104diet_roots_tubers\n",
       ":   66digestive_system\n",
       ":   100dig_sys\n",
       ":   94\n",
       "\n"
      ],
      "text/plain": [
       "                          diet                diet_vertebrate \n",
       "                         120.5                           52.0 \n",
       "             diet_invertebrate                     diet_fruit \n",
       "                          82.0                           74.0 \n",
       "    diet_flowers_nectar_pollen diet_leaves_branches_bark_buds \n",
       "                          16.0                           93.0 \n",
       "                    diet_seeds         diet_grass_waterplants \n",
       "                          79.0                          104.0 \n",
       "             diet_roots_tubers               digestive_system \n",
       "                          66.0                          100.0 \n",
       "                       dig_sys \n",
       "                          94.0 "
      ]
     },
     "metadata": {},
     "output_type": "display_data"
    }
   ],
   "source": [
    "# checking values\n",
    "colSums(alpha_div[,1:11])"
   ]
  },
  {
   "cell_type": "markdown",
   "metadata": {},
   "source": [
    "## checks"
   ]
  },
  {
   "cell_type": "code",
   "execution_count": 17,
   "metadata": {
    "ExecuteTime": {
     "end_time": "2020-08-26T17:23:58.781431Z",
     "start_time": "2020-08-26T17:23:58.731Z"
    }
   },
   "outputs": [
    {
     "name": "stdout",
     "output_type": "stream",
     "text": [
      "intersect(x,y): 185 \n",
      "setdiff(x,y): 0 \n",
      "setdiff(y,x): 0 \n",
      "union(x,y): 185 \n"
     ]
    }
   ],
   "source": [
    "overlap(alpha_div$Sample, host_tree$tip.label)"
   ]
  },
  {
   "cell_type": "code",
   "execution_count": 18,
   "metadata": {
    "ExecuteTime": {
     "end_time": "2020-08-26T17:23:59.503537Z",
     "start_time": "2020-08-26T17:23:59.424Z"
    }
   },
   "outputs": [
    {
     "data": {
      "text/html": [
       "<table>\n",
       "<caption>A data.frame: 185 × 17</caption>\n",
       "<thead>\n",
       "\t<tr><th></th><th scope=col>diet</th><th scope=col>diet_vertebrate</th><th scope=col>diet_invertebrate</th><th scope=col>diet_fruit</th><th scope=col>diet_flowers_nectar_pollen</th><th scope=col>diet_leaves_branches_bark_buds</th><th scope=col>diet_seeds</th><th scope=col>diet_grass_waterplants</th><th scope=col>diet_roots_tubers</th><th scope=col>digestive_system</th><th scope=col>dig_sys</th><th scope=col>pielou_e</th><th scope=col>observed_otus</th><th scope=col>shannon</th><th scope=col>faith_pd</th><th scope=col>Sample</th><th scope=col>taxa</th></tr>\n",
       "\t<tr><th></th><th scope=col>&lt;dbl&gt;</th><th scope=col>&lt;dbl&gt;</th><th scope=col>&lt;dbl&gt;</th><th scope=col>&lt;dbl&gt;</th><th scope=col>&lt;dbl&gt;</th><th scope=col>&lt;dbl&gt;</th><th scope=col>&lt;dbl&gt;</th><th scope=col>&lt;dbl&gt;</th><th scope=col>&lt;dbl&gt;</th><th scope=col>&lt;dbl&gt;</th><th scope=col>&lt;dbl&gt;</th><th scope=col>&lt;dbl&gt;</th><th scope=col>&lt;int&gt;</th><th scope=col>&lt;dbl&gt;</th><th scope=col>&lt;dbl&gt;</th><th scope=col>&lt;chr&gt;</th><th scope=col>&lt;chr&gt;</th></tr>\n",
       "</thead>\n",
       "<tbody>\n",
       "\t<tr><th scope=row>X60_European_Chub</th><td>0.5</td><td>1</td><td>1</td><td>0</td><td>0</td><td>0</td><td>0</td><td>1</td><td>0</td><td>0.5</td><td>0.5</td><td>0.3547527</td><td>11</td><td>1.227243</td><td>3.490057</td><td>X60_European_Chub</td><td>X60_European_Chub</td></tr>\n",
       "\t<tr><th scope=row>X179_Roach</th><td>0.5</td><td>0</td><td>1</td><td>0</td><td>0</td><td>0</td><td>0</td><td>1</td><td>0</td><td>0.5</td><td>0.5</td><td>0.7804664</td><td>15</td><td>3.049197</td><td>3.805766</td><td>X179_Roach       </td><td>X179_Roach       </td></tr>\n",
       "\t<tr><th scope=row>⋮</th><td>⋮</td><td>⋮</td><td>⋮</td><td>⋮</td><td>⋮</td><td>⋮</td><td>⋮</td><td>⋮</td><td>⋮</td><td>⋮</td><td>⋮</td><td>⋮</td><td>⋮</td><td>⋮</td><td>⋮</td><td>⋮</td><td>⋮</td></tr>\n",
       "\t<tr><th scope=row>X286_Short_beaked_Echidna</th><td>0</td><td>0</td><td>1</td><td>0</td><td>0</td><td>0</td><td>0</td><td>0</td><td>0</td><td>0.5</td><td>0.5</td><td>0.7067627</td><td>15</td><td>2.761245</td><td>3.094346</td><td>X286_Short_beaked_Echidna</td><td>X286_Short_beaked_Echidna</td></tr>\n",
       "\t<tr><th scope=row>X285_Short_beaked_Echidna</th><td>0</td><td>0</td><td>1</td><td>0</td><td>0</td><td>0</td><td>0</td><td>0</td><td>0</td><td>0.5</td><td>0.5</td><td>0.5635522</td><td>10</td><td>1.872080</td><td>3.015827</td><td>X285_Short_beaked_Echidna</td><td>X285_Short_beaked_Echidna</td></tr>\n",
       "</tbody>\n",
       "</table>\n"
      ],
      "text/latex": [
       "A data.frame: 185 × 17\n",
       "\\begin{tabular}{r|lllllllllllllllll}\n",
       "  & diet & diet\\_vertebrate & diet\\_invertebrate & diet\\_fruit & diet\\_flowers\\_nectar\\_pollen & diet\\_leaves\\_branches\\_bark\\_buds & diet\\_seeds & diet\\_grass\\_waterplants & diet\\_roots\\_tubers & digestive\\_system & dig\\_sys & pielou\\_e & observed\\_otus & shannon & faith\\_pd & Sample & taxa\\\\\n",
       "  & <dbl> & <dbl> & <dbl> & <dbl> & <dbl> & <dbl> & <dbl> & <dbl> & <dbl> & <dbl> & <dbl> & <dbl> & <int> & <dbl> & <dbl> & <chr> & <chr>\\\\\n",
       "\\hline\n",
       "\tX60\\_European\\_Chub & 0.5 & 1 & 1 & 0 & 0 & 0 & 0 & 1 & 0 & 0.5 & 0.5 & 0.3547527 & 11 & 1.227243 & 3.490057 & X60\\_European\\_Chub & X60\\_European\\_Chub\\\\\n",
       "\tX179\\_Roach & 0.5 & 0 & 1 & 0 & 0 & 0 & 0 & 1 & 0 & 0.5 & 0.5 & 0.7804664 & 15 & 3.049197 & 3.805766 & X179\\_Roach        & X179\\_Roach       \\\\\n",
       "\t⋮ & ⋮ & ⋮ & ⋮ & ⋮ & ⋮ & ⋮ & ⋮ & ⋮ & ⋮ & ⋮ & ⋮ & ⋮ & ⋮ & ⋮ & ⋮ & ⋮ & ⋮\\\\\n",
       "\tX286\\_Short\\_beaked\\_Echidna & 0 & 0 & 1 & 0 & 0 & 0 & 0 & 0 & 0 & 0.5 & 0.5 & 0.7067627 & 15 & 2.761245 & 3.094346 & X286\\_Short\\_beaked\\_Echidna & X286\\_Short\\_beaked\\_Echidna\\\\\n",
       "\tX285\\_Short\\_beaked\\_Echidna & 0 & 0 & 1 & 0 & 0 & 0 & 0 & 0 & 0 & 0.5 & 0.5 & 0.5635522 & 10 & 1.872080 & 3.015827 & X285\\_Short\\_beaked\\_Echidna & X285\\_Short\\_beaked\\_Echidna\\\\\n",
       "\\end{tabular}\n"
      ],
      "text/markdown": [
       "\n",
       "A data.frame: 185 × 17\n",
       "\n",
       "| <!--/--> | diet &lt;dbl&gt; | diet_vertebrate &lt;dbl&gt; | diet_invertebrate &lt;dbl&gt; | diet_fruit &lt;dbl&gt; | diet_flowers_nectar_pollen &lt;dbl&gt; | diet_leaves_branches_bark_buds &lt;dbl&gt; | diet_seeds &lt;dbl&gt; | diet_grass_waterplants &lt;dbl&gt; | diet_roots_tubers &lt;dbl&gt; | digestive_system &lt;dbl&gt; | dig_sys &lt;dbl&gt; | pielou_e &lt;dbl&gt; | observed_otus &lt;int&gt; | shannon &lt;dbl&gt; | faith_pd &lt;dbl&gt; | Sample &lt;chr&gt; | taxa &lt;chr&gt; |\n",
       "|---|---|---|---|---|---|---|---|---|---|---|---|---|---|---|---|---|---|\n",
       "| X60_European_Chub | 0.5 | 1 | 1 | 0 | 0 | 0 | 0 | 1 | 0 | 0.5 | 0.5 | 0.3547527 | 11 | 1.227243 | 3.490057 | X60_European_Chub | X60_European_Chub |\n",
       "| X179_Roach | 0.5 | 0 | 1 | 0 | 0 | 0 | 0 | 1 | 0 | 0.5 | 0.5 | 0.7804664 | 15 | 3.049197 | 3.805766 | X179_Roach        | X179_Roach        |\n",
       "| ⋮ | ⋮ | ⋮ | ⋮ | ⋮ | ⋮ | ⋮ | ⋮ | ⋮ | ⋮ | ⋮ | ⋮ | ⋮ | ⋮ | ⋮ | ⋮ | ⋮ | ⋮ |\n",
       "| X286_Short_beaked_Echidna | 0 | 0 | 1 | 0 | 0 | 0 | 0 | 0 | 0 | 0.5 | 0.5 | 0.7067627 | 15 | 2.761245 | 3.094346 | X286_Short_beaked_Echidna | X286_Short_beaked_Echidna |\n",
       "| X285_Short_beaked_Echidna | 0 | 0 | 1 | 0 | 0 | 0 | 0 | 0 | 0 | 0.5 | 0.5 | 0.5635522 | 10 | 1.872080 | 3.015827 | X285_Short_beaked_Echidna | X285_Short_beaked_Echidna |\n",
       "\n"
      ],
      "text/plain": [
       "                          diet diet_vertebrate diet_invertebrate diet_fruit\n",
       "X60_European_Chub         0.5  1               1                 0         \n",
       "X179_Roach                0.5  0               1                 0         \n",
       "⋮                         ⋮    ⋮               ⋮                 ⋮         \n",
       "X286_Short_beaked_Echidna 0    0               1                 0         \n",
       "X285_Short_beaked_Echidna 0    0               1                 0         \n",
       "                          diet_flowers_nectar_pollen\n",
       "X60_European_Chub         0                         \n",
       "X179_Roach                0                         \n",
       "⋮                         ⋮                         \n",
       "X286_Short_beaked_Echidna 0                         \n",
       "X285_Short_beaked_Echidna 0                         \n",
       "                          diet_leaves_branches_bark_buds diet_seeds\n",
       "X60_European_Chub         0                              0         \n",
       "X179_Roach                0                              0         \n",
       "⋮                         ⋮                              ⋮         \n",
       "X286_Short_beaked_Echidna 0                              0         \n",
       "X285_Short_beaked_Echidna 0                              0         \n",
       "                          diet_grass_waterplants diet_roots_tubers\n",
       "X60_European_Chub         1                      0                \n",
       "X179_Roach                1                      0                \n",
       "⋮                         ⋮                      ⋮                \n",
       "X286_Short_beaked_Echidna 0                      0                \n",
       "X285_Short_beaked_Echidna 0                      0                \n",
       "                          digestive_system dig_sys pielou_e  observed_otus\n",
       "X60_European_Chub         0.5              0.5     0.3547527 11           \n",
       "X179_Roach                0.5              0.5     0.7804664 15           \n",
       "⋮                         ⋮                ⋮       ⋮         ⋮            \n",
       "X286_Short_beaked_Echidna 0.5              0.5     0.7067627 15           \n",
       "X285_Short_beaked_Echidna 0.5              0.5     0.5635522 10           \n",
       "                          shannon  faith_pd Sample                   \n",
       "X60_European_Chub         1.227243 3.490057 X60_European_Chub        \n",
       "X179_Roach                3.049197 3.805766 X179_Roach               \n",
       "⋮                         ⋮        ⋮        ⋮                        \n",
       "X286_Short_beaked_Echidna 2.761245 3.094346 X286_Short_beaked_Echidna\n",
       "X285_Short_beaked_Echidna 1.872080 3.015827 X285_Short_beaked_Echidna\n",
       "                          taxa                     \n",
       "X60_European_Chub         X60_European_Chub        \n",
       "X179_Roach                X179_Roach               \n",
       "⋮                         ⋮                        \n",
       "X286_Short_beaked_Echidna X286_Short_beaked_Echidna\n",
       "X285_Short_beaked_Echidna X285_Short_beaked_Echidna"
      ]
     },
     "metadata": {},
     "output_type": "display_data"
    }
   ],
   "source": [
    "# ordering\n",
    "alpha_div = alpha_div[host_tree$tip.label,]\n",
    "alpha_div"
   ]
  },
  {
   "cell_type": "markdown",
   "metadata": {},
   "source": [
    "# Host tree subsample"
   ]
  },
  {
   "cell_type": "code",
   "execution_count": 19,
   "metadata": {
    "ExecuteTime": {
     "end_time": "2020-08-26T17:24:02.662727Z",
     "start_time": "2020-08-26T17:24:02.620Z"
    }
   },
   "outputs": [],
   "source": [
    "# replicate analyses with different subsets of the host phylogeny\n",
    "n_reps = 100"
   ]
  },
  {
   "cell_type": "code",
   "execution_count": 20,
   "metadata": {
    "ExecuteTime": {
     "end_time": "2020-08-26T17:24:03.819107Z",
     "start_time": "2020-08-26T17:24:03.780Z"
    }
   },
   "outputs": [],
   "source": [
    "#' randomly selecting one per group\n",
    "tree_subsample = function(L, df, tree){\n",
    "    # get subsample (note: subsampling within each species)\n",
    "    to_keep = df %>% \n",
    "        group_by(scientific_name) %>% \n",
    "        sample_n(1) %>%\n",
    "        .$sample\n",
    "    # subsampling tree\n",
    "    to_rm = setdiff(tree$tip.label, to_keep)\n",
    "    tree = drop.tip(tree, to_rm)\n",
    "    return(tree)\n",
    "}"
   ]
  },
  {
   "cell_type": "code",
   "execution_count": 21,
   "metadata": {
    "ExecuteTime": {
     "end_time": "2020-08-26T17:24:05.219849Z",
     "start_time": "2020-08-26T17:24:04.657Z"
    }
   },
   "outputs": [
    {
     "data": {
      "text/html": [
       "100"
      ],
      "text/latex": [
       "100"
      ],
      "text/markdown": [
       "100"
      ],
      "text/plain": [
       "[1] 100"
      ]
     },
     "metadata": {},
     "output_type": "display_data"
    }
   ],
   "source": [
    "# permuted trees\n",
    "df = metadata %>%\n",
    "    mutate(sample = SampleID) %>%\n",
    "    dplyr::select(sample, scientific_name) \n",
    "\n",
    "doParallel::registerDoParallel(threads)\n",
    "host_tree_l = plyr::llply(as.list(1:n_reps), \n",
    "                          function(x) tree_subsample(x, df, host_tree),\n",
    "                          .parallel=TRUE)\n",
    "host_tree_l %>% length"
   ]
  },
  {
   "cell_type": "code",
   "execution_count": 22,
   "metadata": {
    "ExecuteTime": {
     "end_time": "2020-08-26T17:24:05.906522Z",
     "start_time": "2020-08-26T17:24:05.800Z"
    }
   },
   "outputs": [
    {
     "data": {
      "text/plain": [
       "   Min. 1st Qu.  Median    Mean 3rd Qu.    Max. \n",
       "    110     110     110     110     110     110 "
      ]
     },
     "metadata": {},
     "output_type": "display_data"
    }
   ],
   "source": [
    "# check tips per tree\n",
    "lapply(host_tree_l, function(x) x$tip.label %>% length) %>% unlist %>% summary"
   ]
  },
  {
   "cell_type": "markdown",
   "metadata": {},
   "source": [
    "# PGLS"
   ]
  },
  {
   "cell_type": "code",
   "execution_count": 23,
   "metadata": {
    "ExecuteTime": {
     "end_time": "2020-08-26T17:24:07.025408Z",
     "start_time": "2020-08-26T17:24:06.979Z"
    }
   },
   "outputs": [],
   "source": [
    "pgls_each_var = function(y, x, tree, data){\n",
    "    cdat = comparative.data(data=data, phy=tree, names.col=\"taxa\")\n",
    "    \n",
    "    f = as.formula(paste(c(y, x), collapse=' ~ '))\n",
    "    mod = pgls(f, cdat) %>% summary\n",
    "    \n",
    "    df = mod$coefficients %>% as.data.frame\n",
    "    colnames(df) = c('Estimate', 'std_err', 't_value', 'p_value')\n",
    "    df$R2 = mod$adj.r.squared %>% as.vector %>% .[1]\n",
    "    df$x = x\n",
    "    df$y = y\n",
    "    df = df[2,] %>% as.data.frame\n",
    "    return(df)\n",
    "}"
   ]
  },
  {
   "cell_type": "code",
   "execution_count": 81,
   "metadata": {
    "ExecuteTime": {
     "end_time": "2020-06-23T09:45:22.520199Z",
     "start_time": "2020-06-23T09:45:22.492Z"
    }
   },
   "outputs": [],
   "source": [
    "# #-- debug --#\n",
    "# rep = 1\n",
    "# host_tree = host_tree_l[[rep]]\n",
    "# df = otu[host_tree$tip.label,] \n",
    "\n",
    "# pgls_each_var(y = '7efd5f90bad3210ac9182784e5882716',\n",
    "#               x = 'diet',\n",
    "#               tree = host_tree,\n",
    "#               data = otu)"
   ]
  },
  {
   "cell_type": "code",
   "execution_count": 24,
   "metadata": {
    "ExecuteTime": {
     "end_time": "2020-08-26T17:24:15.454312Z",
     "start_time": "2020-08-26T17:24:15.413Z"
    }
   },
   "outputs": [],
   "source": [
    "#' PGLS on each tree\n",
    "pgls_each_tree = function(rep, y, x, tree_list, data, threads=1){\n",
    "    tree = tree_list[[rep]]\n",
    "    data = data[tree$tip.label,] \n",
    "    \n",
    "    doParallel::registerDoParallel(threads)\n",
    "    ret = plyr::llply(as.list(y),\n",
    "                      pgls_each_var,\n",
    "                      x = x,\n",
    "                      tree = tree,\n",
    "                      data = data,\n",
    "                      .parallel = TRUE)\n",
    "    ret = do.call(rbind, ret)\n",
    "    ret$rep = rep\n",
    "    return(ret)\n",
    "}"
   ]
  },
  {
   "cell_type": "code",
   "execution_count": 25,
   "metadata": {
    "ExecuteTime": {
     "end_time": "2020-08-26T17:24:17.422124Z",
     "start_time": "2020-08-26T17:24:16.988Z"
    }
   },
   "outputs": [
    {
     "data": {
      "text/html": [
       "<table>\n",
       "<caption>A data.frame: 8 × 2</caption>\n",
       "<thead>\n",
       "\t<tr><th></th><th scope=col>diet</th><th scope=col>diet_vertebrate</th></tr>\n",
       "\t<tr><th></th><th scope=col>&lt;fct&gt;</th><th scope=col>&lt;fct&gt;</th></tr>\n",
       "</thead>\n",
       "<tbody>\n",
       "\t<tr><th scope=row>Estimate</th><td>0.00403135270061609</td><td>0.0676961194917868</td></tr>\n",
       "\t<tr><th scope=row>std_err</th><td>0.175049519462484  </td><td>0.206667001823856 </td></tr>\n",
       "\t<tr><th scope=row>⋮</th><td>⋮</td><td>⋮</td></tr>\n",
       "\t<tr><th scope=row>y</th><td>diet</td><td>diet_vertebrate</td></tr>\n",
       "\t<tr><th scope=row>rep</th><td>1   </td><td>1              </td></tr>\n",
       "</tbody>\n",
       "</table>\n"
      ],
      "text/latex": [
       "A data.frame: 8 × 2\n",
       "\\begin{tabular}{r|ll}\n",
       "  & diet & diet\\_vertebrate\\\\\n",
       "  & <fct> & <fct>\\\\\n",
       "\\hline\n",
       "\tEstimate & 0.00403135270061609 & 0.0676961194917868\\\\\n",
       "\tstd\\_err & 0.175049519462484   & 0.206667001823856 \\\\\n",
       "\t⋮ & ⋮ & ⋮\\\\\n",
       "\ty & diet & diet\\_vertebrate\\\\\n",
       "\trep & 1    & 1              \\\\\n",
       "\\end{tabular}\n"
      ],
      "text/markdown": [
       "\n",
       "A data.frame: 8 × 2\n",
       "\n",
       "| <!--/--> | diet &lt;fct&gt; | diet_vertebrate &lt;fct&gt; |\n",
       "|---|---|---|\n",
       "| Estimate | 0.00403135270061609 | 0.0676961194917868 |\n",
       "| std_err | 0.175049519462484   | 0.206667001823856  |\n",
       "| ⋮ | ⋮ | ⋮ |\n",
       "| y | diet | diet_vertebrate |\n",
       "| rep | 1    | 1               |\n",
       "\n"
      ],
      "text/plain": [
       "         diet                diet_vertebrate   \n",
       "Estimate 0.00403135270061609 0.0676961194917868\n",
       "std_err  0.175049519462484   0.206667001823856 \n",
       "⋮        ⋮                   ⋮                 \n",
       "y        diet                diet_vertebrate   \n",
       "rep      1                   1                 "
      ]
     },
     "metadata": {},
     "output_type": "display_data"
    }
   ],
   "source": [
    "#-- debug --#\n",
    "y = colnames(alpha_div)[1:2]\n",
    "ret = pgls_each_tree(1,\n",
    "                     y = y,\n",
    "                     x = 'digestive_system',\n",
    "                     tree_list = host_tree_l,\n",
    "                     data = alpha_div,\n",
    "                     threads = threads)\n",
    "\n",
    "ret = do.call(rbind, ret) %>%\n",
    "    as.data.frame\n",
    "colnames(ret) = y\n",
    "\n",
    "ret "
   ]
  },
  {
   "cell_type": "code",
   "execution_count": 26,
   "metadata": {
    "ExecuteTime": {
     "end_time": "2020-08-26T17:24:40.318766Z",
     "start_time": "2020-08-26T17:24:40.260Z"
    }
   },
   "outputs": [
    {
     "data": {
      "text/html": [
       "<ol class=list-inline>\n",
       "\t<li>'pielou_e'</li>\n",
       "\t<li>'observed_otus'</li>\n",
       "\t<li>'shannon'</li>\n",
       "\t<li>'faith_pd'</li>\n",
       "</ol>\n"
      ],
      "text/latex": [
       "\\begin{enumerate*}\n",
       "\\item 'pielou\\_e'\n",
       "\\item 'observed\\_otus'\n",
       "\\item 'shannon'\n",
       "\\item 'faith\\_pd'\n",
       "\\end{enumerate*}\n"
      ],
      "text/markdown": [
       "1. 'pielou_e'\n",
       "2. 'observed_otus'\n",
       "3. 'shannon'\n",
       "4. 'faith_pd'\n",
       "\n",
       "\n"
      ],
      "text/plain": [
       "[1] \"pielou_e\"      \"observed_otus\" \"shannon\"       \"faith_pd\"     "
      ]
     },
     "metadata": {},
     "output_type": "display_data"
    }
   ],
   "source": [
    "# variables\n",
    "alpha_div_labels = c('pielou_e', 'observed_otus', 'shannon', 'faith_pd')\n",
    "alpha_div_labels"
   ]
  },
  {
   "cell_type": "markdown",
   "metadata": {},
   "source": [
    "## Digestive system"
   ]
  },
  {
   "cell_type": "code",
   "execution_count": 27,
   "metadata": {
    "ExecuteTime": {
     "end_time": "2020-08-26T17:24:48.136000Z",
     "start_time": "2020-08-26T17:24:48.084Z"
    }
   },
   "outputs": [
    {
     "data": {
      "text/plain": [
       ".\n",
       "       foregut        hindgut         simple simple foregut simple hindgut \n",
       "            56             29             72              2             26 "
      ]
     },
     "metadata": {},
     "output_type": "display_data"
    }
   ],
   "source": [
    "# summary of covariate\n",
    "metadata %>% .$digestive_system %>% table"
   ]
  },
  {
   "cell_type": "code",
   "execution_count": 28,
   "metadata": {
    "ExecuteTime": {
     "end_time": "2020-08-26T17:25:31.406742Z",
     "start_time": "2020-08-26T17:24:49.635Z"
    }
   },
   "outputs": [
    {
     "data": {
      "text/html": [
       "<table>\n",
       "<caption>A data.frame: 400 × 8</caption>\n",
       "<thead>\n",
       "\t<tr><th></th><th scope=col>Estimate</th><th scope=col>std_err</th><th scope=col>t_value</th><th scope=col>p_value</th><th scope=col>R2</th><th scope=col>x</th><th scope=col>y</th><th scope=col>rep</th></tr>\n",
       "\t<tr><th></th><th scope=col>&lt;dbl&gt;</th><th scope=col>&lt;dbl&gt;</th><th scope=col>&lt;dbl&gt;</th><th scope=col>&lt;dbl&gt;</th><th scope=col>&lt;dbl&gt;</th><th scope=col>&lt;chr&gt;</th><th scope=col>&lt;chr&gt;</th><th scope=col>&lt;int&gt;</th></tr>\n",
       "</thead>\n",
       "<tbody>\n",
       "\t<tr><th scope=row>digestive_system</th><td>0.2164783</td><td>0.2129961</td><td>1.016349</td><td>0.3117995</td><td>0.0003108921</td><td>digestive_system</td><td>pielou_e     </td><td>1</td></tr>\n",
       "\t<tr><th scope=row>digestive_system1</th><td>3.1264787</td><td>2.0135411</td><td>1.552727</td><td>0.1234975</td><td>0.0131360861</td><td>digestive_system</td><td>observed_otus</td><td>1</td></tr>\n",
       "\t<tr><th scope=row>⋮</th><td>⋮</td><td>⋮</td><td>⋮</td><td>⋮</td><td>⋮</td><td>⋮</td><td>⋮</td><td>⋮</td></tr>\n",
       "\t<tr><th scope=row>digestive_system299</th><td>0.3435993</td><td>0.5041955</td><td>0.6814804</td><td>0.4970679</td><td>-0.005078344</td><td>digestive_system</td><td>shannon </td><td>100</td></tr>\n",
       "\t<tr><th scope=row>digestive_system399</th><td>0.3510708</td><td>0.5996324</td><td>0.5854768</td><td>0.5594834</td><td>-0.006238842</td><td>digestive_system</td><td>faith_pd</td><td>100</td></tr>\n",
       "</tbody>\n",
       "</table>\n"
      ],
      "text/latex": [
       "A data.frame: 400 × 8\n",
       "\\begin{tabular}{r|llllllll}\n",
       "  & Estimate & std\\_err & t\\_value & p\\_value & R2 & x & y & rep\\\\\n",
       "  & <dbl> & <dbl> & <dbl> & <dbl> & <dbl> & <chr> & <chr> & <int>\\\\\n",
       "\\hline\n",
       "\tdigestive\\_system & 0.2164783 & 0.2129961 & 1.016349 & 0.3117995 & 0.0003108921 & digestive\\_system & pielou\\_e      & 1\\\\\n",
       "\tdigestive\\_system1 & 3.1264787 & 2.0135411 & 1.552727 & 0.1234975 & 0.0131360861 & digestive\\_system & observed\\_otus & 1\\\\\n",
       "\t⋮ & ⋮ & ⋮ & ⋮ & ⋮ & ⋮ & ⋮ & ⋮ & ⋮\\\\\n",
       "\tdigestive\\_system299 & 0.3435993 & 0.5041955 & 0.6814804 & 0.4970679 & -0.005078344 & digestive\\_system & shannon  & 100\\\\\n",
       "\tdigestive\\_system399 & 0.3510708 & 0.5996324 & 0.5854768 & 0.5594834 & -0.006238842 & digestive\\_system & faith\\_pd & 100\\\\\n",
       "\\end{tabular}\n"
      ],
      "text/markdown": [
       "\n",
       "A data.frame: 400 × 8\n",
       "\n",
       "| <!--/--> | Estimate &lt;dbl&gt; | std_err &lt;dbl&gt; | t_value &lt;dbl&gt; | p_value &lt;dbl&gt; | R2 &lt;dbl&gt; | x &lt;chr&gt; | y &lt;chr&gt; | rep &lt;int&gt; |\n",
       "|---|---|---|---|---|---|---|---|---|\n",
       "| digestive_system | 0.2164783 | 0.2129961 | 1.016349 | 0.3117995 | 0.0003108921 | digestive_system | pielou_e      | 1 |\n",
       "| digestive_system1 | 3.1264787 | 2.0135411 | 1.552727 | 0.1234975 | 0.0131360861 | digestive_system | observed_otus | 1 |\n",
       "| ⋮ | ⋮ | ⋮ | ⋮ | ⋮ | ⋮ | ⋮ | ⋮ | ⋮ |\n",
       "| digestive_system299 | 0.3435993 | 0.5041955 | 0.6814804 | 0.4970679 | -0.005078344 | digestive_system | shannon  | 100 |\n",
       "| digestive_system399 | 0.3510708 | 0.5996324 | 0.5854768 | 0.5594834 | -0.006238842 | digestive_system | faith_pd | 100 |\n",
       "\n"
      ],
      "text/plain": [
       "                    Estimate  std_err   t_value   p_value   R2          \n",
       "digestive_system    0.2164783 0.2129961 1.016349  0.3117995 0.0003108921\n",
       "digestive_system1   3.1264787 2.0135411 1.552727  0.1234975 0.0131360861\n",
       "⋮                   ⋮         ⋮         ⋮         ⋮         ⋮           \n",
       "digestive_system299 0.3435993 0.5041955 0.6814804 0.4970679 -0.005078344\n",
       "digestive_system399 0.3510708 0.5996324 0.5854768 0.5594834 -0.006238842\n",
       "                    x                y             rep\n",
       "digestive_system    digestive_system pielou_e      1  \n",
       "digestive_system1   digestive_system observed_otus 1  \n",
       "⋮                   ⋮                ⋮             ⋮  \n",
       "digestive_system299 digestive_system shannon       100\n",
       "digestive_system399 digestive_system faith_pd      100"
      ]
     },
     "metadata": {},
     "output_type": "display_data"
    }
   ],
   "source": [
    "ret = plyr::llply(1:length(host_tree_l),\n",
    "                  pgls_each_tree,\n",
    "                  y = alpha_div_labels,\n",
    "                  x = 'digestive_system',\n",
    "                  tree_list = host_tree_l,\n",
    "                  data = alpha_div,\n",
    "                  threads = threads)\n",
    "\n",
    "ret = do.call(rbind, ret) %>%\n",
    "    as.data.frame\n",
    "ret "
   ]
  },
  {
   "cell_type": "code",
   "execution_count": 29,
   "metadata": {
    "ExecuteTime": {
     "end_time": "2020-08-26T17:25:32.538597Z",
     "start_time": "2020-08-26T17:24:54.586Z"
    }
   },
   "outputs": [
    {
     "name": "stderr",
     "output_type": "stream",
     "text": [
      "Sending email to: nyoungblut@tuebingen.mpg.de\n",
      "\n"
     ]
    }
   ],
   "source": [
    "send_email('http://127.0.0.1:9705/notebooks/notebooks/16S_arch/MiSeq-Runs116-122-126-189-190/03_modulating_factors/04d_PGLS_IndD_alpha-div.ipynb')"
   ]
  },
  {
   "cell_type": "code",
   "execution_count": 30,
   "metadata": {
    "ExecuteTime": {
     "end_time": "2020-08-26T17:25:34.444316Z",
     "start_time": "2020-08-26T17:25:34.300Z"
    }
   },
   "outputs": [
    {
     "data": {
      "text/plain": [
       "   Min. 1st Qu.  Median    Mean 3rd Qu.    Max. \n",
       " 0.2754  0.3080  0.3239  0.3774  0.3934  0.5865 "
      ]
     },
     "metadata": {},
     "output_type": "display_data"
    },
    {
     "data": {
      "text/plain": [
       "   Min. 1st Qu.  Median    Mean 3rd Qu.    Max. \n",
       "      1       1       1       1       1       1 "
      ]
     },
     "metadata": {},
     "output_type": "display_data"
    },
    {
     "data": {
      "text/html": [
       "<table>\n",
       "<caption>A tibble: 4 × 9</caption>\n",
       "<thead>\n",
       "\t<tr><th scope=col>y</th><th scope=col>Estimate</th><th scope=col>std_err</th><th scope=col>t_value</th><th scope=col>p_value</th><th scope=col>q_value</th><th scope=col>R2</th><th scope=col>x</th><th scope=col>.groups</th></tr>\n",
       "\t<tr><th scope=col>&lt;chr&gt;</th><th scope=col>&lt;dbl&gt;</th><th scope=col>&lt;dbl&gt;</th><th scope=col>&lt;dbl&gt;</th><th scope=col>&lt;dbl&gt;</th><th scope=col>&lt;dbl&gt;</th><th scope=col>&lt;dbl&gt;</th><th scope=col>&lt;chr&gt;</th><th scope=col>&lt;chr&gt;</th></tr>\n",
       "</thead>\n",
       "<tbody>\n",
       "\t<tr><td>faith_pd     </td><td>0.7820865</td><td>0.6692033</td><td>1.1704508</td><td>0.2753908</td><td>1</td><td> 0.0047007468</td><td>digestive_system</td><td>drop</td></tr>\n",
       "\t<tr><td>observed_otus</td><td>1.9692544</td><td>1.9309920</td><td>1.0166492</td><td>0.3289837</td><td>1</td><td> 0.0009779049</td><td>digestive_system</td><td>drop</td></tr>\n",
       "\t<tr><td>pielou_e     </td><td>0.1192272</td><td>0.2190864</td><td>0.5527001</td><td>0.5865030</td><td>1</td><td>-0.0048043149</td><td>digestive_system</td><td>drop</td></tr>\n",
       "\t<tr><td>shannon      </td><td>0.6080507</td><td>0.5603866</td><td>1.0940443</td><td>0.3189088</td><td>1</td><td> 0.0035385931</td><td>digestive_system</td><td>drop</td></tr>\n",
       "</tbody>\n",
       "</table>\n"
      ],
      "text/latex": [
       "A tibble: 4 × 9\n",
       "\\begin{tabular}{lllllllll}\n",
       " y & Estimate & std\\_err & t\\_value & p\\_value & q\\_value & R2 & x & .groups\\\\\n",
       " <chr> & <dbl> & <dbl> & <dbl> & <dbl> & <dbl> & <dbl> & <chr> & <chr>\\\\\n",
       "\\hline\n",
       "\t faith\\_pd      & 0.7820865 & 0.6692033 & 1.1704508 & 0.2753908 & 1 &  0.0047007468 & digestive\\_system & drop\\\\\n",
       "\t observed\\_otus & 1.9692544 & 1.9309920 & 1.0166492 & 0.3289837 & 1 &  0.0009779049 & digestive\\_system & drop\\\\\n",
       "\t pielou\\_e      & 0.1192272 & 0.2190864 & 0.5527001 & 0.5865030 & 1 & -0.0048043149 & digestive\\_system & drop\\\\\n",
       "\t shannon       & 0.6080507 & 0.5603866 & 1.0940443 & 0.3189088 & 1 &  0.0035385931 & digestive\\_system & drop\\\\\n",
       "\\end{tabular}\n"
      ],
      "text/markdown": [
       "\n",
       "A tibble: 4 × 9\n",
       "\n",
       "| y &lt;chr&gt; | Estimate &lt;dbl&gt; | std_err &lt;dbl&gt; | t_value &lt;dbl&gt; | p_value &lt;dbl&gt; | q_value &lt;dbl&gt; | R2 &lt;dbl&gt; | x &lt;chr&gt; | .groups &lt;chr&gt; |\n",
       "|---|---|---|---|---|---|---|---|---|\n",
       "| faith_pd      | 0.7820865 | 0.6692033 | 1.1704508 | 0.2753908 | 1 |  0.0047007468 | digestive_system | drop |\n",
       "| observed_otus | 1.9692544 | 1.9309920 | 1.0166492 | 0.3289837 | 1 |  0.0009779049 | digestive_system | drop |\n",
       "| pielou_e      | 0.1192272 | 0.2190864 | 0.5527001 | 0.5865030 | 1 | -0.0048043149 | digestive_system | drop |\n",
       "| shannon       | 0.6080507 | 0.5603866 | 1.0940443 | 0.3189088 | 1 |  0.0035385931 | digestive_system | drop |\n",
       "\n"
      ],
      "text/plain": [
       "  y             Estimate  std_err   t_value   p_value   q_value R2           \n",
       "1 faith_pd      0.7820865 0.6692033 1.1704508 0.2753908 1        0.0047007468\n",
       "2 observed_otus 1.9692544 1.9309920 1.0166492 0.3289837 1        0.0009779049\n",
       "3 pielou_e      0.1192272 0.2190864 0.5527001 0.5865030 1       -0.0048043149\n",
       "4 shannon       0.6080507 0.5603866 1.0940443 0.3189088 1        0.0035385931\n",
       "  x                .groups\n",
       "1 digestive_system drop   \n",
       "2 digestive_system drop   \n",
       "3 digestive_system drop   \n",
       "4 digestive_system drop   "
      ]
     },
     "metadata": {},
     "output_type": "display_data"
    }
   ],
   "source": [
    "# formatting results\n",
    "pgls_res = ret %>%\n",
    "    group_by(rep) %>%\n",
    "    mutate(p_value = p_value %>% as.Num,\n",
    "           q_value = p.adjust(p_value, method='BH')) %>%\n",
    "    group_by(y) %>%\n",
    "    summarize(Estimate = mean(Estimate),\n",
    "              std_err = mean(std_err),\n",
    "              t_value = mean(t_value),\n",
    "              p_value = mean(p_value),\n",
    "              q_value = (length(q_value) - sum(q_value < 0.05)) / length(q_value),\n",
    "              R2 = mean(R2),\n",
    "              x = first(x),\n",
    "              .groups='drop')\n",
    "\n",
    "pgls_res$p_value %>% summary\n",
    "pgls_res$q_value %>% summary\n",
    "pgls_res"
   ]
  },
  {
   "cell_type": "markdown",
   "metadata": {},
   "source": [
    "### Saving output"
   ]
  },
  {
   "cell_type": "code",
   "execution_count": 31,
   "metadata": {
    "ExecuteTime": {
     "end_time": "2020-08-26T17:25:40.033530Z",
     "start_time": "2020-08-26T17:25:39.979Z"
    }
   },
   "outputs": [
    {
     "data": {
      "text/html": [
       "'/ebio/abt3_projects/Georg_animal_feces/data/16S_arch/MiSeq-Runs-116-122-126-189-190/LLA/modulating/PGLS//pgls_IndD_alpha-div_digSys.RDS'"
      ],
      "text/latex": [
       "'/ebio/abt3\\_projects/Georg\\_animal\\_feces/data/16S\\_arch/MiSeq-Runs-116-122-126-189-190/LLA/modulating/PGLS//pgls\\_IndD\\_alpha-div\\_digSys.RDS'"
      ],
      "text/markdown": [
       "'/ebio/abt3_projects/Georg_animal_feces/data/16S_arch/MiSeq-Runs-116-122-126-189-190/LLA/modulating/PGLS//pgls_IndD_alpha-div_digSys.RDS'"
      ],
      "text/plain": [
       "[1] \"/ebio/abt3_projects/Georg_animal_feces/data/16S_arch/MiSeq-Runs-116-122-126-189-190/LLA/modulating/PGLS//pgls_IndD_alpha-div_digSys.RDS\""
      ]
     },
     "metadata": {},
     "output_type": "display_data"
    }
   ],
   "source": [
    "# output file name\n",
    "pgls_res_file = file.path(work_dir, 'pgls_IndD_alpha-div_digSys.RDS')\n",
    "pgls_res_file"
   ]
  },
  {
   "cell_type": "code",
   "execution_count": 32,
   "metadata": {
    "ExecuteTime": {
     "end_time": "2020-08-26T17:25:40.390502Z",
     "start_time": "2020-08-26T17:25:40.337Z"
    }
   },
   "outputs": [
    {
     "name": "stdout",
     "output_type": "stream",
     "text": [
      "File written: /ebio/abt3_projects/Georg_animal_feces/data/16S_arch/MiSeq-Runs-116-122-126-189-190/LLA/modulating/PGLS//pgls_IndD_alpha-div_digSys.RDS \n"
     ]
    }
   ],
   "source": [
    "# saving\n",
    "saveRDS(pgls_res, file=pgls_res_file)\n",
    "cat('File written:', pgls_res_file, '\\n')"
   ]
  },
  {
   "cell_type": "code",
   "execution_count": 33,
   "metadata": {
    "ExecuteTime": {
     "end_time": "2020-08-26T17:25:40.786159Z",
     "start_time": "2020-08-26T17:25:40.713Z"
    }
   },
   "outputs": [
    {
     "name": "stdout",
     "output_type": "stream",
     "text": [
      "[1] 4 9\n"
     ]
    },
    {
     "data": {
      "text/html": [
       "<table>\n",
       "<caption>A tibble: 3 × 9</caption>\n",
       "<thead>\n",
       "\t<tr><th scope=col>y</th><th scope=col>Estimate</th><th scope=col>std_err</th><th scope=col>t_value</th><th scope=col>p_value</th><th scope=col>q_value</th><th scope=col>R2</th><th scope=col>x</th><th scope=col>.groups</th></tr>\n",
       "\t<tr><th scope=col>&lt;chr&gt;</th><th scope=col>&lt;dbl&gt;</th><th scope=col>&lt;dbl&gt;</th><th scope=col>&lt;dbl&gt;</th><th scope=col>&lt;dbl&gt;</th><th scope=col>&lt;dbl&gt;</th><th scope=col>&lt;dbl&gt;</th><th scope=col>&lt;chr&gt;</th><th scope=col>&lt;chr&gt;</th></tr>\n",
       "</thead>\n",
       "<tbody>\n",
       "\t<tr><td>faith_pd     </td><td>0.7820865</td><td>0.6692033</td><td>1.1704508</td><td>0.2753908</td><td>1</td><td> 0.0047007468</td><td>digestive_system</td><td>drop</td></tr>\n",
       "\t<tr><td>observed_otus</td><td>1.9692544</td><td>1.9309920</td><td>1.0166492</td><td>0.3289837</td><td>1</td><td> 0.0009779049</td><td>digestive_system</td><td>drop</td></tr>\n",
       "\t<tr><td>pielou_e     </td><td>0.1192272</td><td>0.2190864</td><td>0.5527001</td><td>0.5865030</td><td>1</td><td>-0.0048043149</td><td>digestive_system</td><td>drop</td></tr>\n",
       "</tbody>\n",
       "</table>\n"
      ],
      "text/latex": [
       "A tibble: 3 × 9\n",
       "\\begin{tabular}{lllllllll}\n",
       " y & Estimate & std\\_err & t\\_value & p\\_value & q\\_value & R2 & x & .groups\\\\\n",
       " <chr> & <dbl> & <dbl> & <dbl> & <dbl> & <dbl> & <dbl> & <chr> & <chr>\\\\\n",
       "\\hline\n",
       "\t faith\\_pd      & 0.7820865 & 0.6692033 & 1.1704508 & 0.2753908 & 1 &  0.0047007468 & digestive\\_system & drop\\\\\n",
       "\t observed\\_otus & 1.9692544 & 1.9309920 & 1.0166492 & 0.3289837 & 1 &  0.0009779049 & digestive\\_system & drop\\\\\n",
       "\t pielou\\_e      & 0.1192272 & 0.2190864 & 0.5527001 & 0.5865030 & 1 & -0.0048043149 & digestive\\_system & drop\\\\\n",
       "\\end{tabular}\n"
      ],
      "text/markdown": [
       "\n",
       "A tibble: 3 × 9\n",
       "\n",
       "| y &lt;chr&gt; | Estimate &lt;dbl&gt; | std_err &lt;dbl&gt; | t_value &lt;dbl&gt; | p_value &lt;dbl&gt; | q_value &lt;dbl&gt; | R2 &lt;dbl&gt; | x &lt;chr&gt; | .groups &lt;chr&gt; |\n",
       "|---|---|---|---|---|---|---|---|---|\n",
       "| faith_pd      | 0.7820865 | 0.6692033 | 1.1704508 | 0.2753908 | 1 |  0.0047007468 | digestive_system | drop |\n",
       "| observed_otus | 1.9692544 | 1.9309920 | 1.0166492 | 0.3289837 | 1 |  0.0009779049 | digestive_system | drop |\n",
       "| pielou_e      | 0.1192272 | 0.2190864 | 0.5527001 | 0.5865030 | 1 | -0.0048043149 | digestive_system | drop |\n",
       "\n"
      ],
      "text/plain": [
       "  y             Estimate  std_err   t_value   p_value   q_value R2           \n",
       "1 faith_pd      0.7820865 0.6692033 1.1704508 0.2753908 1        0.0047007468\n",
       "2 observed_otus 1.9692544 1.9309920 1.0166492 0.3289837 1        0.0009779049\n",
       "3 pielou_e      0.1192272 0.2190864 0.5527001 0.5865030 1       -0.0048043149\n",
       "  x                .groups\n",
       "1 digestive_system drop   \n",
       "2 digestive_system drop   \n",
       "3 digestive_system drop   "
      ]
     },
     "metadata": {},
     "output_type": "display_data"
    }
   ],
   "source": [
    "# re-load \n",
    "pgls_res = readRDS(pgls_res_file) \n",
    "pgls_res %>% dfhead"
   ]
  },
  {
   "cell_type": "markdown",
   "metadata": {},
   "source": [
    "### Summary"
   ]
  },
  {
   "cell_type": "code",
   "execution_count": 34,
   "metadata": {
    "ExecuteTime": {
     "end_time": "2020-08-26T17:25:42.792814Z",
     "start_time": "2020-08-26T17:25:42.122Z"
    }
   },
   "outputs": [
    {
     "data": {
      "text/html": [
       "<table>\n",
       "<caption>A matrix: 1 × 8 of type dbl</caption>\n",
       "<thead>\n",
       "\t<tr><th></th><th scope=col>Min.</th><th scope=col>1st Qu.</th><th scope=col>Median</th><th scope=col>Mean</th><th scope=col>3rd Qu.</th><th scope=col>Max.</th><th scope=col>sd</th><th scope=col>sd_err_of_mean</th></tr>\n",
       "</thead>\n",
       "<tbody>\n",
       "\t<tr><th scope=row>p-value</th><td>0.2753908</td><td>0.3080293</td><td>0.3239463</td><td>0.3774466</td><td>0.3933635</td><td>0.586503</td><td>0.111</td><td>0.045</td></tr>\n",
       "</tbody>\n",
       "</table>\n"
      ],
      "text/latex": [
       "A matrix: 1 × 8 of type dbl\n",
       "\\begin{tabular}{r|llllllll}\n",
       "  & Min. & 1st Qu. & Median & Mean & 3rd Qu. & Max. & sd & sd\\_err\\_of\\_mean\\\\\n",
       "\\hline\n",
       "\tp-value & 0.2753908 & 0.3080293 & 0.3239463 & 0.3774466 & 0.3933635 & 0.586503 & 0.111 & 0.045\\\\\n",
       "\\end{tabular}\n"
      ],
      "text/markdown": [
       "\n",
       "A matrix: 1 × 8 of type dbl\n",
       "\n",
       "| <!--/--> | Min. | 1st Qu. | Median | Mean | 3rd Qu. | Max. | sd | sd_err_of_mean |\n",
       "|---|---|---|---|---|---|---|---|---|\n",
       "| p-value | 0.2753908 | 0.3080293 | 0.3239463 | 0.3774466 | 0.3933635 | 0.586503 | 0.111 | 0.045 |\n",
       "\n"
      ],
      "text/plain": [
       "        Min.      1st Qu.   Median    Mean      3rd Qu.   Max.     sd   \n",
       "p-value 0.2753908 0.3080293 0.3239463 0.3774466 0.3933635 0.586503 0.111\n",
       "        sd_err_of_mean\n",
       "p-value 0.045         "
      ]
     },
     "metadata": {},
     "output_type": "display_data"
    },
    {
     "data": {
      "text/html": [
       "<table>\n",
       "<caption>A matrix: 1 × 8 of type dbl</caption>\n",
       "<thead>\n",
       "\t<tr><th></th><th scope=col>Min.</th><th scope=col>1st Qu.</th><th scope=col>Median</th><th scope=col>Mean</th><th scope=col>3rd Qu.</th><th scope=col>Max.</th><th scope=col>sd</th><th scope=col>sd_err_of_mean</th></tr>\n",
       "</thead>\n",
       "<tbody>\n",
       "\t<tr><th scope=row>adj p-value</th><td>1</td><td>1</td><td>1</td><td>1</td><td>1</td><td>1</td><td>0</td><td>0</td></tr>\n",
       "</tbody>\n",
       "</table>\n"
      ],
      "text/latex": [
       "A matrix: 1 × 8 of type dbl\n",
       "\\begin{tabular}{r|llllllll}\n",
       "  & Min. & 1st Qu. & Median & Mean & 3rd Qu. & Max. & sd & sd\\_err\\_of\\_mean\\\\\n",
       "\\hline\n",
       "\tadj p-value & 1 & 1 & 1 & 1 & 1 & 1 & 0 & 0\\\\\n",
       "\\end{tabular}\n"
      ],
      "text/markdown": [
       "\n",
       "A matrix: 1 × 8 of type dbl\n",
       "\n",
       "| <!--/--> | Min. | 1st Qu. | Median | Mean | 3rd Qu. | Max. | sd | sd_err_of_mean |\n",
       "|---|---|---|---|---|---|---|---|---|\n",
       "| adj p-value | 1 | 1 | 1 | 1 | 1 | 1 | 0 | 0 |\n",
       "\n"
      ],
      "text/plain": [
       "            Min. 1st Qu. Median Mean 3rd Qu. Max. sd sd_err_of_mean\n",
       "adj p-value 1    1       1      1    1       1    0  0             "
      ]
     },
     "metadata": {},
     "output_type": "display_data"
    }
   ],
   "source": [
    "# summary\n",
    "pgls_res$p_value %>% summary_x('p-value')\n",
    "pgls_res$q_value %>% summary_x('adj p-value')"
   ]
  },
  {
   "cell_type": "code",
   "execution_count": 35,
   "metadata": {
    "ExecuteTime": {
     "end_time": "2020-08-26T17:25:43.815167Z",
     "start_time": "2020-08-26T17:25:43.179Z"
    }
   },
   "outputs": [
    {
     "data": {
      "image/png": "[encoded data removed]",
      "text/plain": [
       "plot without title"
      ]
     },
     "metadata": {
      "image/png": {
       "height": 350,
       "width": 500
      },
      "text/plain": {
       "height": 350,
       "width": 500
      }
     },
     "output_type": "display_data"
    }
   ],
   "source": [
    "# p-value distribution\n",
    "p = ggplot(pgls_res, aes(R2, p_value)) +\n",
    "    geom_point(alpha=0.3) +\n",
    "    scale_y_log10() +\n",
    "    theme_bw()\n",
    "\n",
    "p.dims(5,3.5)\n",
    "plot(p)"
   ]
  },
  {
   "cell_type": "code",
   "execution_count": 36,
   "metadata": {
    "ExecuteTime": {
     "end_time": "2020-08-26T17:25:44.414392Z",
     "start_time": "2020-08-26T17:25:43.905Z"
    }
   },
   "outputs": [
    {
     "data": {
      "image/png": "[encoded data removed]",
      "text/plain": [
       "plot without title"
      ]
     },
     "metadata": {
      "image/png": {
       "height": 350,
       "width": 500
      },
      "text/plain": {
       "height": 350,
       "width": 500
      }
     },
     "output_type": "display_data"
    }
   ],
   "source": [
    "# p-adj-value distribution\n",
    "p = ggplot(pgls_res, aes(R2, q_value)) +\n",
    "    geom_point(alpha=0.3) +\n",
    "    scale_y_log10() +\n",
    "    theme_bw() \n",
    "\n",
    "p.dims(5,3.5)\n",
    "plot(p)"
   ]
  },
  {
   "cell_type": "markdown",
   "metadata": {},
   "source": [
    "## Digestive system (simplified)"
   ]
  },
  {
   "cell_type": "code",
   "execution_count": 37,
   "metadata": {
    "ExecuteTime": {
     "end_time": "2020-08-26T17:26:28.379508Z",
     "start_time": "2020-08-26T17:25:47.730Z"
    }
   },
   "outputs": [
    {
     "data": {
      "text/html": [
       "<table>\n",
       "<caption>A data.frame: 400 × 8</caption>\n",
       "<thead>\n",
       "\t<tr><th></th><th scope=col>Estimate</th><th scope=col>std_err</th><th scope=col>t_value</th><th scope=col>p_value</th><th scope=col>R2</th><th scope=col>x</th><th scope=col>y</th><th scope=col>rep</th></tr>\n",
       "\t<tr><th></th><th scope=col>&lt;dbl&gt;</th><th scope=col>&lt;dbl&gt;</th><th scope=col>&lt;dbl&gt;</th><th scope=col>&lt;dbl&gt;</th><th scope=col>&lt;dbl&gt;</th><th scope=col>&lt;chr&gt;</th><th scope=col>&lt;chr&gt;</th><th scope=col>&lt;int&gt;</th></tr>\n",
       "</thead>\n",
       "<tbody>\n",
       "\t<tr><th scope=row>dig_sys</th><td>0.2653877</td><td>0.1965085</td><td>1.3505155</td><td>0.1797543</td><td> 0.007712619</td><td>dig_sys</td><td>pielou_e     </td><td>1</td></tr>\n",
       "\t<tr><th scope=row>dig_sys1</th><td>1.0834371</td><td>1.8829115</td><td>0.5754052</td><td>0.5662483</td><td>-0.006350535</td><td>dig_sys</td><td>observed_otus</td><td>1</td></tr>\n",
       "\t<tr><th scope=row>⋮</th><td>⋮</td><td>⋮</td><td>⋮</td><td>⋮</td><td>⋮</td><td>⋮</td><td>⋮</td><td>⋮</td></tr>\n",
       "\t<tr><th scope=row>dig_sys299</th><td>0.4997755</td><td>0.4550574</td><td>1.0982691</td><td>0.2745991</td><td> 0.001941459</td><td>dig_sys</td><td>shannon </td><td>100</td></tr>\n",
       "\t<tr><th scope=row>dig_sys399</th><td>0.3390341</td><td>0.5429716</td><td>0.6244048</td><td>0.5337162</td><td>-0.005789158</td><td>dig_sys</td><td>faith_pd</td><td>100</td></tr>\n",
       "</tbody>\n",
       "</table>\n"
      ],
      "text/latex": [
       "A data.frame: 400 × 8\n",
       "\\begin{tabular}{r|llllllll}\n",
       "  & Estimate & std\\_err & t\\_value & p\\_value & R2 & x & y & rep\\\\\n",
       "  & <dbl> & <dbl> & <dbl> & <dbl> & <dbl> & <chr> & <chr> & <int>\\\\\n",
       "\\hline\n",
       "\tdig\\_sys & 0.2653877 & 0.1965085 & 1.3505155 & 0.1797543 &  0.007712619 & dig\\_sys & pielou\\_e      & 1\\\\\n",
       "\tdig\\_sys1 & 1.0834371 & 1.8829115 & 0.5754052 & 0.5662483 & -0.006350535 & dig\\_sys & observed\\_otus & 1\\\\\n",
       "\t⋮ & ⋮ & ⋮ & ⋮ & ⋮ & ⋮ & ⋮ & ⋮ & ⋮\\\\\n",
       "\tdig\\_sys299 & 0.4997755 & 0.4550574 & 1.0982691 & 0.2745991 &  0.001941459 & dig\\_sys & shannon  & 100\\\\\n",
       "\tdig\\_sys399 & 0.3390341 & 0.5429716 & 0.6244048 & 0.5337162 & -0.005789158 & dig\\_sys & faith\\_pd & 100\\\\\n",
       "\\end{tabular}\n"
      ],
      "text/markdown": [
       "\n",
       "A data.frame: 400 × 8\n",
       "\n",
       "| <!--/--> | Estimate &lt;dbl&gt; | std_err &lt;dbl&gt; | t_value &lt;dbl&gt; | p_value &lt;dbl&gt; | R2 &lt;dbl&gt; | x &lt;chr&gt; | y &lt;chr&gt; | rep &lt;int&gt; |\n",
       "|---|---|---|---|---|---|---|---|---|\n",
       "| dig_sys | 0.2653877 | 0.1965085 | 1.3505155 | 0.1797543 |  0.007712619 | dig_sys | pielou_e      | 1 |\n",
       "| dig_sys1 | 1.0834371 | 1.8829115 | 0.5754052 | 0.5662483 | -0.006350535 | dig_sys | observed_otus | 1 |\n",
       "| ⋮ | ⋮ | ⋮ | ⋮ | ⋮ | ⋮ | ⋮ | ⋮ | ⋮ |\n",
       "| dig_sys299 | 0.4997755 | 0.4550574 | 1.0982691 | 0.2745991 |  0.001941459 | dig_sys | shannon  | 100 |\n",
       "| dig_sys399 | 0.3390341 | 0.5429716 | 0.6244048 | 0.5337162 | -0.005789158 | dig_sys | faith_pd | 100 |\n",
       "\n"
      ],
      "text/plain": [
       "           Estimate  std_err   t_value   p_value   R2           x      \n",
       "dig_sys    0.2653877 0.1965085 1.3505155 0.1797543  0.007712619 dig_sys\n",
       "dig_sys1   1.0834371 1.8829115 0.5754052 0.5662483 -0.006350535 dig_sys\n",
       "⋮          ⋮         ⋮         ⋮         ⋮         ⋮            ⋮      \n",
       "dig_sys299 0.4997755 0.4550574 1.0982691 0.2745991  0.001941459 dig_sys\n",
       "dig_sys399 0.3390341 0.5429716 0.6244048 0.5337162 -0.005789158 dig_sys\n",
       "           y             rep\n",
       "dig_sys    pielou_e      1  \n",
       "dig_sys1   observed_otus 1  \n",
       "⋮          ⋮             ⋮  \n",
       "dig_sys299 shannon       100\n",
       "dig_sys399 faith_pd      100"
      ]
     },
     "metadata": {},
     "output_type": "display_data"
    }
   ],
   "source": [
    "ret = plyr::llply(1:length(host_tree_l),\n",
    "                  pgls_each_tree,\n",
    "                  y = alpha_div_labels,\n",
    "                  x = 'dig_sys',\n",
    "                  tree_list = host_tree_l,\n",
    "                  data = alpha_div,\n",
    "                  threads = threads)\n",
    "\n",
    "ret = do.call(rbind, ret) %>%\n",
    "    as.data.frame\n",
    "ret "
   ]
  },
  {
   "cell_type": "code",
   "execution_count": 38,
   "metadata": {
    "ExecuteTime": {
     "end_time": "2020-08-26T17:26:28.486441Z",
     "start_time": "2020-08-26T17:25:53.747Z"
    }
   },
   "outputs": [
    {
     "data": {
      "text/plain": [
       "   Min. 1st Qu.  Median    Mean 3rd Qu.    Max. \n",
       " 0.4284  0.4450  0.5351  0.5385  0.6286  0.6554 "
      ]
     },
     "metadata": {},
     "output_type": "display_data"
    },
    {
     "data": {
      "text/plain": [
       "   Min. 1st Qu.  Median    Mean 3rd Qu.    Max. \n",
       "      1       1       1       1       1       1 "
      ]
     },
     "metadata": {},
     "output_type": "display_data"
    },
    {
     "data": {
      "text/html": [
       "<table>\n",
       "<caption>A tibble: 4 × 9</caption>\n",
       "<thead>\n",
       "\t<tr><th scope=col>y</th><th scope=col>Estimate</th><th scope=col>std_err</th><th scope=col>t_value</th><th scope=col>p_value</th><th scope=col>q_value</th><th scope=col>R2</th><th scope=col>x</th><th scope=col>.groups</th></tr>\n",
       "\t<tr><th scope=col>&lt;chr&gt;</th><th scope=col>&lt;dbl&gt;</th><th scope=col>&lt;dbl&gt;</th><th scope=col>&lt;dbl&gt;</th><th scope=col>&lt;dbl&gt;</th><th scope=col>&lt;dbl&gt;</th><th scope=col>&lt;dbl&gt;</th><th scope=col>&lt;chr&gt;</th><th scope=col>&lt;chr&gt;</th></tr>\n",
       "</thead>\n",
       "<tbody>\n",
       "\t<tr><td>faith_pd     </td><td>0.3167566</td><td>0.6329511</td><td>0.5104619</td><td>0.6196623</td><td>1</td><td>-0.0062425047</td><td>dig_sys</td><td>drop</td></tr>\n",
       "\t<tr><td>observed_otus</td><td>0.8179568</td><td>1.8243558</td><td>0.4559701</td><td>0.6554277</td><td>1</td><td>-0.0071119604</td><td>dig_sys</td><td>drop</td></tr>\n",
       "\t<tr><td>pielou_e     </td><td>0.1654991</td><td>0.2057263</td><td>0.8276484</td><td>0.4505591</td><td>1</td><td>-0.0007922249</td><td>dig_sys</td><td>drop</td></tr>\n",
       "\t<tr><td>shannon      </td><td>0.4468346</td><td>0.5283364</td><td>0.8663004</td><td>0.4283515</td><td>1</td><td>-0.0005534662</td><td>dig_sys</td><td>drop</td></tr>\n",
       "</tbody>\n",
       "</table>\n"
      ],
      "text/latex": [
       "A tibble: 4 × 9\n",
       "\\begin{tabular}{lllllllll}\n",
       " y & Estimate & std\\_err & t\\_value & p\\_value & q\\_value & R2 & x & .groups\\\\\n",
       " <chr> & <dbl> & <dbl> & <dbl> & <dbl> & <dbl> & <dbl> & <chr> & <chr>\\\\\n",
       "\\hline\n",
       "\t faith\\_pd      & 0.3167566 & 0.6329511 & 0.5104619 & 0.6196623 & 1 & -0.0062425047 & dig\\_sys & drop\\\\\n",
       "\t observed\\_otus & 0.8179568 & 1.8243558 & 0.4559701 & 0.6554277 & 1 & -0.0071119604 & dig\\_sys & drop\\\\\n",
       "\t pielou\\_e      & 0.1654991 & 0.2057263 & 0.8276484 & 0.4505591 & 1 & -0.0007922249 & dig\\_sys & drop\\\\\n",
       "\t shannon       & 0.4468346 & 0.5283364 & 0.8663004 & 0.4283515 & 1 & -0.0005534662 & dig\\_sys & drop\\\\\n",
       "\\end{tabular}\n"
      ],
      "text/markdown": [
       "\n",
       "A tibble: 4 × 9\n",
       "\n",
       "| y &lt;chr&gt; | Estimate &lt;dbl&gt; | std_err &lt;dbl&gt; | t_value &lt;dbl&gt; | p_value &lt;dbl&gt; | q_value &lt;dbl&gt; | R2 &lt;dbl&gt; | x &lt;chr&gt; | .groups &lt;chr&gt; |\n",
       "|---|---|---|---|---|---|---|---|---|\n",
       "| faith_pd      | 0.3167566 | 0.6329511 | 0.5104619 | 0.6196623 | 1 | -0.0062425047 | dig_sys | drop |\n",
       "| observed_otus | 0.8179568 | 1.8243558 | 0.4559701 | 0.6554277 | 1 | -0.0071119604 | dig_sys | drop |\n",
       "| pielou_e      | 0.1654991 | 0.2057263 | 0.8276484 | 0.4505591 | 1 | -0.0007922249 | dig_sys | drop |\n",
       "| shannon       | 0.4468346 | 0.5283364 | 0.8663004 | 0.4283515 | 1 | -0.0005534662 | dig_sys | drop |\n",
       "\n"
      ],
      "text/plain": [
       "  y             Estimate  std_err   t_value   p_value   q_value R2           \n",
       "1 faith_pd      0.3167566 0.6329511 0.5104619 0.6196623 1       -0.0062425047\n",
       "2 observed_otus 0.8179568 1.8243558 0.4559701 0.6554277 1       -0.0071119604\n",
       "3 pielou_e      0.1654991 0.2057263 0.8276484 0.4505591 1       -0.0007922249\n",
       "4 shannon       0.4468346 0.5283364 0.8663004 0.4283515 1       -0.0005534662\n",
       "  x       .groups\n",
       "1 dig_sys drop   \n",
       "2 dig_sys drop   \n",
       "3 dig_sys drop   \n",
       "4 dig_sys drop   "
      ]
     },
     "metadata": {},
     "output_type": "display_data"
    }
   ],
   "source": [
    "# formatting results\n",
    "pgls_res = ret %>%\n",
    "    group_by(rep) %>%\n",
    "    mutate(p_value = p_value %>% as.Num,\n",
    "           q_value = p.adjust(p_value, method='BH')) %>%\n",
    "    group_by(y) %>%\n",
    "    summarize(Estimate = mean(Estimate),\n",
    "              std_err = mean(std_err),\n",
    "              t_value = mean(t_value),\n",
    "              p_value = mean(p_value),\n",
    "              q_value = (length(q_value) - sum(q_value < 0.05)) / length(q_value),\n",
    "              R2 = mean(R2),\n",
    "              x = first(x),\n",
    "              .groups='drop')\n",
    "\n",
    "pgls_res$p_value %>% summary\n",
    "pgls_res$q_value %>% summary\n",
    "pgls_res"
   ]
  },
  {
   "cell_type": "markdown",
   "metadata": {},
   "source": [
    "### Saving output"
   ]
  },
  {
   "cell_type": "code",
   "execution_count": 39,
   "metadata": {
    "ExecuteTime": {
     "end_time": "2020-08-26T17:26:28.518913Z",
     "start_time": "2020-08-26T17:25:55.953Z"
    }
   },
   "outputs": [
    {
     "data": {
      "text/html": [
       "'/ebio/abt3_projects/Georg_animal_feces/data/16S_arch/MiSeq-Runs-116-122-126-189-190/LLA/modulating/PGLS//pgls_IndD_alpha-div_digSysSimp.RDS'"
      ],
      "text/latex": [
       "'/ebio/abt3\\_projects/Georg\\_animal\\_feces/data/16S\\_arch/MiSeq-Runs-116-122-126-189-190/LLA/modulating/PGLS//pgls\\_IndD\\_alpha-div\\_digSysSimp.RDS'"
      ],
      "text/markdown": [
       "'/ebio/abt3_projects/Georg_animal_feces/data/16S_arch/MiSeq-Runs-116-122-126-189-190/LLA/modulating/PGLS//pgls_IndD_alpha-div_digSysSimp.RDS'"
      ],
      "text/plain": [
       "[1] \"/ebio/abt3_projects/Georg_animal_feces/data/16S_arch/MiSeq-Runs-116-122-126-189-190/LLA/modulating/PGLS//pgls_IndD_alpha-div_digSysSimp.RDS\""
      ]
     },
     "metadata": {},
     "output_type": "display_data"
    }
   ],
   "source": [
    "# output file name\n",
    "pgls_res_file = file.path(work_dir, 'pgls_IndD_alpha-div_digSysSimp.RDS')\n",
    "pgls_res_file"
   ]
  },
  {
   "cell_type": "code",
   "execution_count": 40,
   "metadata": {
    "ExecuteTime": {
     "end_time": "2020-08-26T17:26:28.551229Z",
     "start_time": "2020-08-26T17:25:58.161Z"
    }
   },
   "outputs": [
    {
     "name": "stdout",
     "output_type": "stream",
     "text": [
      "File written: /ebio/abt3_projects/Georg_animal_feces/data/16S_arch/MiSeq-Runs-116-122-126-189-190/LLA/modulating/PGLS//pgls_IndD_alpha-div_digSysSimp.RDS \n"
     ]
    }
   ],
   "source": [
    "# saving\n",
    "saveRDS(pgls_res, file=pgls_res_file)\n",
    "cat('File written:', pgls_res_file, '\\n')"
   ]
  },
  {
   "cell_type": "code",
   "execution_count": 41,
   "metadata": {
    "ExecuteTime": {
     "end_time": "2020-08-26T17:26:28.600072Z",
     "start_time": "2020-08-26T17:25:58.955Z"
    }
   },
   "outputs": [
    {
     "name": "stdout",
     "output_type": "stream",
     "text": [
      "[1] 4 9\n"
     ]
    },
    {
     "data": {
      "text/html": [
       "<table>\n",
       "<caption>A tibble: 3 × 9</caption>\n",
       "<thead>\n",
       "\t<tr><th scope=col>y</th><th scope=col>Estimate</th><th scope=col>std_err</th><th scope=col>t_value</th><th scope=col>p_value</th><th scope=col>q_value</th><th scope=col>R2</th><th scope=col>x</th><th scope=col>.groups</th></tr>\n",
       "\t<tr><th scope=col>&lt;chr&gt;</th><th scope=col>&lt;dbl&gt;</th><th scope=col>&lt;dbl&gt;</th><th scope=col>&lt;dbl&gt;</th><th scope=col>&lt;dbl&gt;</th><th scope=col>&lt;dbl&gt;</th><th scope=col>&lt;dbl&gt;</th><th scope=col>&lt;chr&gt;</th><th scope=col>&lt;chr&gt;</th></tr>\n",
       "</thead>\n",
       "<tbody>\n",
       "\t<tr><td>faith_pd     </td><td>0.3167566</td><td>0.6329511</td><td>0.5104619</td><td>0.6196623</td><td>1</td><td>-0.0062425047</td><td>dig_sys</td><td>drop</td></tr>\n",
       "\t<tr><td>observed_otus</td><td>0.8179568</td><td>1.8243558</td><td>0.4559701</td><td>0.6554277</td><td>1</td><td>-0.0071119604</td><td>dig_sys</td><td>drop</td></tr>\n",
       "\t<tr><td>pielou_e     </td><td>0.1654991</td><td>0.2057263</td><td>0.8276484</td><td>0.4505591</td><td>1</td><td>-0.0007922249</td><td>dig_sys</td><td>drop</td></tr>\n",
       "</tbody>\n",
       "</table>\n"
      ],
      "text/latex": [
       "A tibble: 3 × 9\n",
       "\\begin{tabular}{lllllllll}\n",
       " y & Estimate & std\\_err & t\\_value & p\\_value & q\\_value & R2 & x & .groups\\\\\n",
       " <chr> & <dbl> & <dbl> & <dbl> & <dbl> & <dbl> & <dbl> & <chr> & <chr>\\\\\n",
       "\\hline\n",
       "\t faith\\_pd      & 0.3167566 & 0.6329511 & 0.5104619 & 0.6196623 & 1 & -0.0062425047 & dig\\_sys & drop\\\\\n",
       "\t observed\\_otus & 0.8179568 & 1.8243558 & 0.4559701 & 0.6554277 & 1 & -0.0071119604 & dig\\_sys & drop\\\\\n",
       "\t pielou\\_e      & 0.1654991 & 0.2057263 & 0.8276484 & 0.4505591 & 1 & -0.0007922249 & dig\\_sys & drop\\\\\n",
       "\\end{tabular}\n"
      ],
      "text/markdown": [
       "\n",
       "A tibble: 3 × 9\n",
       "\n",
       "| y &lt;chr&gt; | Estimate &lt;dbl&gt; | std_err &lt;dbl&gt; | t_value &lt;dbl&gt; | p_value &lt;dbl&gt; | q_value &lt;dbl&gt; | R2 &lt;dbl&gt; | x &lt;chr&gt; | .groups &lt;chr&gt; |\n",
       "|---|---|---|---|---|---|---|---|---|\n",
       "| faith_pd      | 0.3167566 | 0.6329511 | 0.5104619 | 0.6196623 | 1 | -0.0062425047 | dig_sys | drop |\n",
       "| observed_otus | 0.8179568 | 1.8243558 | 0.4559701 | 0.6554277 | 1 | -0.0071119604 | dig_sys | drop |\n",
       "| pielou_e      | 0.1654991 | 0.2057263 | 0.8276484 | 0.4505591 | 1 | -0.0007922249 | dig_sys | drop |\n",
       "\n"
      ],
      "text/plain": [
       "  y             Estimate  std_err   t_value   p_value   q_value R2           \n",
       "1 faith_pd      0.3167566 0.6329511 0.5104619 0.6196623 1       -0.0062425047\n",
       "2 observed_otus 0.8179568 1.8243558 0.4559701 0.6554277 1       -0.0071119604\n",
       "3 pielou_e      0.1654991 0.2057263 0.8276484 0.4505591 1       -0.0007922249\n",
       "  x       .groups\n",
       "1 dig_sys drop   \n",
       "2 dig_sys drop   \n",
       "3 dig_sys drop   "
      ]
     },
     "metadata": {},
     "output_type": "display_data"
    }
   ],
   "source": [
    "# re-load \n",
    "pgls_res = readRDS(pgls_res_file) \n",
    "pgls_res %>% dfhead"
   ]
  },
  {
   "cell_type": "markdown",
   "metadata": {},
   "source": [
    "### Summary"
   ]
  },
  {
   "cell_type": "code",
   "execution_count": 42,
   "metadata": {
    "ExecuteTime": {
     "end_time": "2020-08-26T17:26:28.651307Z",
     "start_time": "2020-08-26T17:26:00.402Z"
    }
   },
   "outputs": [
    {
     "data": {
      "text/html": [
       "<table>\n",
       "<caption>A matrix: 1 × 8 of type dbl</caption>\n",
       "<thead>\n",
       "\t<tr><th></th><th scope=col>Min.</th><th scope=col>1st Qu.</th><th scope=col>Median</th><th scope=col>Mean</th><th scope=col>3rd Qu.</th><th scope=col>Max.</th><th scope=col>sd</th><th scope=col>sd_err_of_mean</th></tr>\n",
       "</thead>\n",
       "<tbody>\n",
       "\t<tr><th scope=row>p-value</th><td>0.4283515</td><td>0.4450072</td><td>0.5351107</td><td>0.5385001</td><td>0.6286037</td><td>0.6554277</td><td>0.092</td><td>0.038</td></tr>\n",
       "</tbody>\n",
       "</table>\n"
      ],
      "text/latex": [
       "A matrix: 1 × 8 of type dbl\n",
       "\\begin{tabular}{r|llllllll}\n",
       "  & Min. & 1st Qu. & Median & Mean & 3rd Qu. & Max. & sd & sd\\_err\\_of\\_mean\\\\\n",
       "\\hline\n",
       "\tp-value & 0.4283515 & 0.4450072 & 0.5351107 & 0.5385001 & 0.6286037 & 0.6554277 & 0.092 & 0.038\\\\\n",
       "\\end{tabular}\n"
      ],
      "text/markdown": [
       "\n",
       "A matrix: 1 × 8 of type dbl\n",
       "\n",
       "| <!--/--> | Min. | 1st Qu. | Median | Mean | 3rd Qu. | Max. | sd | sd_err_of_mean |\n",
       "|---|---|---|---|---|---|---|---|---|\n",
       "| p-value | 0.4283515 | 0.4450072 | 0.5351107 | 0.5385001 | 0.6286037 | 0.6554277 | 0.092 | 0.038 |\n",
       "\n"
      ],
      "text/plain": [
       "        Min.      1st Qu.   Median    Mean      3rd Qu.   Max.      sd   \n",
       "p-value 0.4283515 0.4450072 0.5351107 0.5385001 0.6286037 0.6554277 0.092\n",
       "        sd_err_of_mean\n",
       "p-value 0.038         "
      ]
     },
     "metadata": {},
     "output_type": "display_data"
    },
    {
     "data": {
      "text/html": [
       "<table>\n",
       "<caption>A matrix: 1 × 8 of type dbl</caption>\n",
       "<thead>\n",
       "\t<tr><th></th><th scope=col>Min.</th><th scope=col>1st Qu.</th><th scope=col>Median</th><th scope=col>Mean</th><th scope=col>3rd Qu.</th><th scope=col>Max.</th><th scope=col>sd</th><th scope=col>sd_err_of_mean</th></tr>\n",
       "</thead>\n",
       "<tbody>\n",
       "\t<tr><th scope=row>adj p-value</th><td>1</td><td>1</td><td>1</td><td>1</td><td>1</td><td>1</td><td>0</td><td>0</td></tr>\n",
       "</tbody>\n",
       "</table>\n"
      ],
      "text/latex": [
       "A matrix: 1 × 8 of type dbl\n",
       "\\begin{tabular}{r|llllllll}\n",
       "  & Min. & 1st Qu. & Median & Mean & 3rd Qu. & Max. & sd & sd\\_err\\_of\\_mean\\\\\n",
       "\\hline\n",
       "\tadj p-value & 1 & 1 & 1 & 1 & 1 & 1 & 0 & 0\\\\\n",
       "\\end{tabular}\n"
      ],
      "text/markdown": [
       "\n",
       "A matrix: 1 × 8 of type dbl\n",
       "\n",
       "| <!--/--> | Min. | 1st Qu. | Median | Mean | 3rd Qu. | Max. | sd | sd_err_of_mean |\n",
       "|---|---|---|---|---|---|---|---|---|\n",
       "| adj p-value | 1 | 1 | 1 | 1 | 1 | 1 | 0 | 0 |\n",
       "\n"
      ],
      "text/plain": [
       "            Min. 1st Qu. Median Mean 3rd Qu. Max. sd sd_err_of_mean\n",
       "adj p-value 1    1       1      1    1       1    0  0             "
      ]
     },
     "metadata": {},
     "output_type": "display_data"
    }
   ],
   "source": [
    "# summary\n",
    "pgls_res$p_value %>% summary_x('p-value')\n",
    "pgls_res$q_value %>% summary_x('adj p-value')"
   ]
  },
  {
   "cell_type": "code",
   "execution_count": 43,
   "metadata": {
    "ExecuteTime": {
     "end_time": "2020-08-26T17:26:29.078526Z",
     "start_time": "2020-08-26T17:26:01.145Z"
    }
   },
   "outputs": [
    {
     "data": {
      "image/png": "[encoded data removed]",
      "text/plain": [
       "plot without title"
      ]
     },
     "metadata": {
      "image/png": {
       "height": 350,
       "width": 500
      },
      "text/plain": {
       "height": 350,
       "width": 500
      }
     },
     "output_type": "display_data"
    }
   ],
   "source": [
    "# p-value distribution\n",
    "p = ggplot(pgls_res, aes(R2, p_value)) +\n",
    "    geom_point(alpha=0.3) +\n",
    "    scale_y_log10() +\n",
    "    theme_bw()\n",
    "\n",
    "p.dims(5,3.5)\n",
    "plot(p)"
   ]
  },
  {
   "cell_type": "code",
   "execution_count": 44,
   "metadata": {
    "ExecuteTime": {
     "end_time": "2020-08-26T17:26:29.442764Z",
     "start_time": "2020-08-26T17:26:01.753Z"
    }
   },
   "outputs": [
    {
     "data": {
      "image/png": "[encoded data removed]",
      "text/plain": [
       "plot without title"
      ]
     },
     "metadata": {
      "image/png": {
       "height": 350,
       "width": 500
      },
      "text/plain": {
       "height": 350,
       "width": 500
      }
     },
     "output_type": "display_data"
    }
   ],
   "source": [
    "# p-adj-value distribution\n",
    "p = ggplot(pgls_res, aes(R2, q_value)) +\n",
    "    geom_point(alpha=0.3) +\n",
    "    scale_y_log10() +\n",
    "    theme_bw() \n",
    "\n",
    "p.dims(5,3.5)\n",
    "plot(p)"
   ]
  },
  {
   "cell_type": "markdown",
   "metadata": {},
   "source": [
    "## Diet"
   ]
  },
  {
   "cell_type": "code",
   "execution_count": 45,
   "metadata": {
    "ExecuteTime": {
     "end_time": "2020-08-26T17:26:29.471752Z",
     "start_time": "2020-08-26T17:26:09.185Z"
    }
   },
   "outputs": [
    {
     "data": {
      "text/html": [
       "<ol class=list-inline>\n",
       "\t<li>'shannon'</li>\n",
       "\t<li>'faith_pd'</li>\n",
       "</ol>\n"
      ],
      "text/latex": [
       "\\begin{enumerate*}\n",
       "\\item 'shannon'\n",
       "\\item 'faith\\_pd'\n",
       "\\end{enumerate*}\n"
      ],
      "text/markdown": [
       "1. 'shannon'\n",
       "2. 'faith_pd'\n",
       "\n",
       "\n"
      ],
      "text/plain": [
       "[1] \"shannon\"  \"faith_pd\""
      ]
     },
     "metadata": {},
     "output_type": "display_data"
    }
   ],
   "source": [
    "# variables\n",
    "alpha_div_labels = c('shannon', 'faith_pd')\n",
    "alpha_div_labels"
   ]
  },
  {
   "cell_type": "code",
   "execution_count": 46,
   "metadata": {
    "ExecuteTime": {
     "end_time": "2020-08-26T17:26:29.498751Z",
     "start_time": "2020-08-26T17:26:10.112Z"
    }
   },
   "outputs": [
    {
     "data": {
      "text/plain": [
       ".\n",
       "carnivore herbivore  omnivore \n",
       "       39        95        51 "
      ]
     },
     "metadata": {},
     "output_type": "display_data"
    }
   ],
   "source": [
    "# summary of covariate\n",
    "metadata %>% .$diet %>% table"
   ]
  },
  {
   "cell_type": "code",
   "execution_count": 47,
   "metadata": {
    "ExecuteTime": {
     "end_time": "2020-08-26T17:27:02.931448Z",
     "start_time": "2020-08-26T17:26:10.345Z"
    }
   },
   "outputs": [
    {
     "data": {
      "text/html": [
       "<table>\n",
       "<caption>A data.frame: 200 × 8</caption>\n",
       "<thead>\n",
       "\t<tr><th></th><th scope=col>Estimate</th><th scope=col>std_err</th><th scope=col>t_value</th><th scope=col>p_value</th><th scope=col>R2</th><th scope=col>x</th><th scope=col>y</th><th scope=col>rep</th></tr>\n",
       "\t<tr><th></th><th scope=col>&lt;dbl&gt;</th><th scope=col>&lt;dbl&gt;</th><th scope=col>&lt;dbl&gt;</th><th scope=col>&lt;dbl&gt;</th><th scope=col>&lt;dbl&gt;</th><th scope=col>&lt;chr&gt;</th><th scope=col>&lt;chr&gt;</th><th scope=col>&lt;int&gt;</th></tr>\n",
       "</thead>\n",
       "<tbody>\n",
       "\t<tr><th scope=row>diet</th><td> 0.01233429</td><td>0.3336891</td><td> 0.0369634</td><td>0.9705844</td><td>-0.009510673</td><td>diet</td><td>shannon </td><td>1</td></tr>\n",
       "\t<tr><th scope=row>diet1</th><td>-0.29680721</td><td>0.3785325</td><td>-0.7840996</td><td>0.4347469</td><td>-0.003647100</td><td>diet</td><td>faith_pd</td><td>1</td></tr>\n",
       "\t<tr><th scope=row>⋮</th><td>⋮</td><td>⋮</td><td>⋮</td><td>⋮</td><td>⋮</td><td>⋮</td><td>⋮</td><td>⋮</td></tr>\n",
       "\t<tr><th scope=row>diet109</th><td>-0.1696726</td><td>0.2874984</td><td>-0.5901688</td><td>0.5563455</td><td>-0.006186154</td><td>diet</td><td>shannon </td><td>100</td></tr>\n",
       "\t<tr><th scope=row>diet199</th><td>-0.4479492</td><td>0.3394837</td><td>-1.3195013</td><td>0.1898715</td><td> 0.006942816</td><td>diet</td><td>faith_pd</td><td>100</td></tr>\n",
       "</tbody>\n",
       "</table>\n"
      ],
      "text/latex": [
       "A data.frame: 200 × 8\n",
       "\\begin{tabular}{r|llllllll}\n",
       "  & Estimate & std\\_err & t\\_value & p\\_value & R2 & x & y & rep\\\\\n",
       "  & <dbl> & <dbl> & <dbl> & <dbl> & <dbl> & <chr> & <chr> & <int>\\\\\n",
       "\\hline\n",
       "\tdiet &  0.01233429 & 0.3336891 &  0.0369634 & 0.9705844 & -0.009510673 & diet & shannon  & 1\\\\\n",
       "\tdiet1 & -0.29680721 & 0.3785325 & -0.7840996 & 0.4347469 & -0.003647100 & diet & faith\\_pd & 1\\\\\n",
       "\t⋮ & ⋮ & ⋮ & ⋮ & ⋮ & ⋮ & ⋮ & ⋮ & ⋮\\\\\n",
       "\tdiet109 & -0.1696726 & 0.2874984 & -0.5901688 & 0.5563455 & -0.006186154 & diet & shannon  & 100\\\\\n",
       "\tdiet199 & -0.4479492 & 0.3394837 & -1.3195013 & 0.1898715 &  0.006942816 & diet & faith\\_pd & 100\\\\\n",
       "\\end{tabular}\n"
      ],
      "text/markdown": [
       "\n",
       "A data.frame: 200 × 8\n",
       "\n",
       "| <!--/--> | Estimate &lt;dbl&gt; | std_err &lt;dbl&gt; | t_value &lt;dbl&gt; | p_value &lt;dbl&gt; | R2 &lt;dbl&gt; | x &lt;chr&gt; | y &lt;chr&gt; | rep &lt;int&gt; |\n",
       "|---|---|---|---|---|---|---|---|---|\n",
       "| diet |  0.01233429 | 0.3336891 |  0.0369634 | 0.9705844 | -0.009510673 | diet | shannon  | 1 |\n",
       "| diet1 | -0.29680721 | 0.3785325 | -0.7840996 | 0.4347469 | -0.003647100 | diet | faith_pd | 1 |\n",
       "| ⋮ | ⋮ | ⋮ | ⋮ | ⋮ | ⋮ | ⋮ | ⋮ | ⋮ |\n",
       "| diet109 | -0.1696726 | 0.2874984 | -0.5901688 | 0.5563455 | -0.006186154 | diet | shannon  | 100 |\n",
       "| diet199 | -0.4479492 | 0.3394837 | -1.3195013 | 0.1898715 |  0.006942816 | diet | faith_pd | 100 |\n",
       "\n"
      ],
      "text/plain": [
       "        Estimate    std_err   t_value    p_value   R2           x    y       \n",
       "diet     0.01233429 0.3336891  0.0369634 0.9705844 -0.009510673 diet shannon \n",
       "diet1   -0.29680721 0.3785325 -0.7840996 0.4347469 -0.003647100 diet faith_pd\n",
       "⋮       ⋮           ⋮         ⋮          ⋮         ⋮            ⋮    ⋮       \n",
       "diet109 -0.1696726  0.2874984 -0.5901688 0.5563455 -0.006186154 diet shannon \n",
       "diet199 -0.4479492  0.3394837 -1.3195013 0.1898715  0.006942816 diet faith_pd\n",
       "        rep\n",
       "diet    1  \n",
       "diet1   1  \n",
       "⋮       ⋮  \n",
       "diet109 100\n",
       "diet199 100"
      ]
     },
     "metadata": {},
     "output_type": "display_data"
    }
   ],
   "source": [
    "# PGLS\n",
    "ret = plyr::llply(1:length(host_tree_l),\n",
    "                  pgls_each_tree,\n",
    "                  y = alpha_div_labels,\n",
    "                  x = 'diet',\n",
    "                  tree_list = host_tree_l,\n",
    "                  data = alpha_div,\n",
    "                  threads = threads)\n",
    "\n",
    "ret = do.call(rbind, ret) %>%\n",
    "    as.data.frame\n",
    "ret "
   ]
  },
  {
   "cell_type": "code",
   "execution_count": 48,
   "metadata": {
    "ExecuteTime": {
     "end_time": "2020-08-26T17:27:03.029923Z",
     "start_time": "2020-08-26T17:26:10.976Z"
    }
   },
   "outputs": [
    {
     "data": {
      "text/plain": [
       "   Min. 1st Qu.  Median    Mean 3rd Qu.    Max. \n",
       " 0.3626  0.4584  0.5542  0.5542  0.6500  0.7458 "
      ]
     },
     "metadata": {},
     "output_type": "display_data"
    },
    {
     "data": {
      "text/plain": [
       "   Min. 1st Qu.  Median    Mean 3rd Qu.    Max. \n",
       "      1       1       1       1       1       1 "
      ]
     },
     "metadata": {},
     "output_type": "display_data"
    },
    {
     "data": {
      "text/html": [
       "<table>\n",
       "<caption>A tibble: 2 × 8</caption>\n",
       "<thead>\n",
       "\t<tr><th scope=col>y</th><th scope=col>Estimate</th><th scope=col>std_err</th><th scope=col>t_value</th><th scope=col>p_value</th><th scope=col>q_value</th><th scope=col>R2</th><th scope=col>x</th></tr>\n",
       "\t<tr><th scope=col>&lt;chr&gt;</th><th scope=col>&lt;dbl&gt;</th><th scope=col>&lt;dbl&gt;</th><th scope=col>&lt;dbl&gt;</th><th scope=col>&lt;dbl&gt;</th><th scope=col>&lt;dbl&gt;</th><th scope=col>&lt;dbl&gt;</th><th scope=col>&lt;chr&gt;</th></tr>\n",
       "</thead>\n",
       "<tbody>\n",
       "\t<tr><td>faith_pd</td><td>-0.3732528</td><td>0.3741805</td><td>-1.0049778</td><td>0.3625779</td><td>1</td><td> 0.002028229</td><td>diet</td></tr>\n",
       "\t<tr><td>shannon </td><td>-0.0643557</td><td>0.3146586</td><td>-0.2084288</td><td>0.7457699</td><td>1</td><td>-0.007893853</td><td>diet</td></tr>\n",
       "</tbody>\n",
       "</table>\n"
      ],
      "text/latex": [
       "A tibble: 2 × 8\n",
       "\\begin{tabular}{llllllll}\n",
       " y & Estimate & std\\_err & t\\_value & p\\_value & q\\_value & R2 & x\\\\\n",
       " <chr> & <dbl> & <dbl> & <dbl> & <dbl> & <dbl> & <dbl> & <chr>\\\\\n",
       "\\hline\n",
       "\t faith\\_pd & -0.3732528 & 0.3741805 & -1.0049778 & 0.3625779 & 1 &  0.002028229 & diet\\\\\n",
       "\t shannon  & -0.0643557 & 0.3146586 & -0.2084288 & 0.7457699 & 1 & -0.007893853 & diet\\\\\n",
       "\\end{tabular}\n"
      ],
      "text/markdown": [
       "\n",
       "A tibble: 2 × 8\n",
       "\n",
       "| y &lt;chr&gt; | Estimate &lt;dbl&gt; | std_err &lt;dbl&gt; | t_value &lt;dbl&gt; | p_value &lt;dbl&gt; | q_value &lt;dbl&gt; | R2 &lt;dbl&gt; | x &lt;chr&gt; |\n",
       "|---|---|---|---|---|---|---|---|\n",
       "| faith_pd | -0.3732528 | 0.3741805 | -1.0049778 | 0.3625779 | 1 |  0.002028229 | diet |\n",
       "| shannon  | -0.0643557 | 0.3146586 | -0.2084288 | 0.7457699 | 1 | -0.007893853 | diet |\n",
       "\n"
      ],
      "text/plain": [
       "  y        Estimate   std_err   t_value    p_value   q_value R2           x   \n",
       "1 faith_pd -0.3732528 0.3741805 -1.0049778 0.3625779 1        0.002028229 diet\n",
       "2 shannon  -0.0643557 0.3146586 -0.2084288 0.7457699 1       -0.007893853 diet"
      ]
     },
     "metadata": {},
     "output_type": "display_data"
    }
   ],
   "source": [
    "# formatting results\n",
    "pgls_res = ret %>%\n",
    "    group_by(rep) %>%\n",
    "    mutate(p_value = p_value %>% as.Num,\n",
    "           q_value = p.adjust(p_value, method='BH')) %>%\n",
    "    group_by(y) %>%\n",
    "    summarize(Estimate = mean(Estimate),\n",
    "              std_err = mean(std_err),\n",
    "              t_value = mean(t_value),\n",
    "              p_value = mean(p_value),\n",
    "              q_value = (length(q_value) - sum(q_value < 0.05)) / length(q_value),\n",
    "              R2 = mean(R2),\n",
    "              x = first(x))\n",
    "\n",
    "pgls_res$p_value %>% summary\n",
    "pgls_res$q_value %>% summary\n",
    "pgls_res"
   ]
  },
  {
   "cell_type": "markdown",
   "metadata": {},
   "source": [
    "### Saving output"
   ]
  },
  {
   "cell_type": "code",
   "execution_count": 49,
   "metadata": {
    "ExecuteTime": {
     "end_time": "2020-08-26T17:27:03.062526Z",
     "start_time": "2020-08-26T17:26:12.856Z"
    }
   },
   "outputs": [
    {
     "data": {
      "text/html": [
       "'/ebio/abt3_projects/Georg_animal_feces/data/16S_arch/MiSeq-Runs-116-122-126-189-190/LLA/modulating/PGLS//pgls_IndD_alpha-div_diet.RDS'"
      ],
      "text/latex": [
       "'/ebio/abt3\\_projects/Georg\\_animal\\_feces/data/16S\\_arch/MiSeq-Runs-116-122-126-189-190/LLA/modulating/PGLS//pgls\\_IndD\\_alpha-div\\_diet.RDS'"
      ],
      "text/markdown": [
       "'/ebio/abt3_projects/Georg_animal_feces/data/16S_arch/MiSeq-Runs-116-122-126-189-190/LLA/modulating/PGLS//pgls_IndD_alpha-div_diet.RDS'"
      ],
      "text/plain": [
       "[1] \"/ebio/abt3_projects/Georg_animal_feces/data/16S_arch/MiSeq-Runs-116-122-126-189-190/LLA/modulating/PGLS//pgls_IndD_alpha-div_diet.RDS\""
      ]
     },
     "metadata": {},
     "output_type": "display_data"
    }
   ],
   "source": [
    "# output file name\n",
    "pgls_res_file = file.path(work_dir, 'pgls_IndD_alpha-div_diet.RDS')\n",
    "pgls_res_file"
   ]
  },
  {
   "cell_type": "code",
   "execution_count": 50,
   "metadata": {
    "ExecuteTime": {
     "end_time": "2020-08-26T17:27:03.093994Z",
     "start_time": "2020-08-26T17:26:13.015Z"
    }
   },
   "outputs": [
    {
     "name": "stdout",
     "output_type": "stream",
     "text": [
      "File written: /ebio/abt3_projects/Georg_animal_feces/data/16S_arch/MiSeq-Runs-116-122-126-189-190/LLA/modulating/PGLS//pgls_IndD_alpha-div_diet.RDS \n"
     ]
    }
   ],
   "source": [
    "# saving\n",
    "saveRDS(pgls_res, file=pgls_res_file)\n",
    "cat('File written:', pgls_res_file, '\\n')"
   ]
  },
  {
   "cell_type": "code",
   "execution_count": 51,
   "metadata": {
    "ExecuteTime": {
     "end_time": "2020-08-26T17:27:03.139284Z",
     "start_time": "2020-08-26T17:26:13.752Z"
    }
   },
   "outputs": [
    {
     "name": "stdout",
     "output_type": "stream",
     "text": [
      "[1] 2 8\n"
     ]
    },
    {
     "data": {
      "text/html": [
       "<table>\n",
       "<caption>A tibble: 2 × 8</caption>\n",
       "<thead>\n",
       "\t<tr><th scope=col>y</th><th scope=col>Estimate</th><th scope=col>std_err</th><th scope=col>t_value</th><th scope=col>p_value</th><th scope=col>q_value</th><th scope=col>R2</th><th scope=col>x</th></tr>\n",
       "\t<tr><th scope=col>&lt;chr&gt;</th><th scope=col>&lt;dbl&gt;</th><th scope=col>&lt;dbl&gt;</th><th scope=col>&lt;dbl&gt;</th><th scope=col>&lt;dbl&gt;</th><th scope=col>&lt;dbl&gt;</th><th scope=col>&lt;dbl&gt;</th><th scope=col>&lt;chr&gt;</th></tr>\n",
       "</thead>\n",
       "<tbody>\n",
       "\t<tr><td>faith_pd</td><td>-0.3732528</td><td>0.3741805</td><td>-1.0049778</td><td>0.3625779</td><td>1</td><td> 0.002028229</td><td>diet</td></tr>\n",
       "\t<tr><td>shannon </td><td>-0.0643557</td><td>0.3146586</td><td>-0.2084288</td><td>0.7457699</td><td>1</td><td>-0.007893853</td><td>diet</td></tr>\n",
       "</tbody>\n",
       "</table>\n"
      ],
      "text/latex": [
       "A tibble: 2 × 8\n",
       "\\begin{tabular}{llllllll}\n",
       " y & Estimate & std\\_err & t\\_value & p\\_value & q\\_value & R2 & x\\\\\n",
       " <chr> & <dbl> & <dbl> & <dbl> & <dbl> & <dbl> & <dbl> & <chr>\\\\\n",
       "\\hline\n",
       "\t faith\\_pd & -0.3732528 & 0.3741805 & -1.0049778 & 0.3625779 & 1 &  0.002028229 & diet\\\\\n",
       "\t shannon  & -0.0643557 & 0.3146586 & -0.2084288 & 0.7457699 & 1 & -0.007893853 & diet\\\\\n",
       "\\end{tabular}\n"
      ],
      "text/markdown": [
       "\n",
       "A tibble: 2 × 8\n",
       "\n",
       "| y &lt;chr&gt; | Estimate &lt;dbl&gt; | std_err &lt;dbl&gt; | t_value &lt;dbl&gt; | p_value &lt;dbl&gt; | q_value &lt;dbl&gt; | R2 &lt;dbl&gt; | x &lt;chr&gt; |\n",
       "|---|---|---|---|---|---|---|---|\n",
       "| faith_pd | -0.3732528 | 0.3741805 | -1.0049778 | 0.3625779 | 1 |  0.002028229 | diet |\n",
       "| shannon  | -0.0643557 | 0.3146586 | -0.2084288 | 0.7457699 | 1 | -0.007893853 | diet |\n",
       "\n"
      ],
      "text/plain": [
       "  y        Estimate   std_err   t_value    p_value   q_value R2           x   \n",
       "1 faith_pd -0.3732528 0.3741805 -1.0049778 0.3625779 1        0.002028229 diet\n",
       "2 shannon  -0.0643557 0.3146586 -0.2084288 0.7457699 1       -0.007893853 diet"
      ]
     },
     "metadata": {},
     "output_type": "display_data"
    }
   ],
   "source": [
    "# re-load \n",
    "pgls_res = readRDS(pgls_res_file) \n",
    "pgls_res %>% dfhead"
   ]
  },
  {
   "cell_type": "code",
   "execution_count": 52,
   "metadata": {
    "ExecuteTime": {
     "end_time": "2020-08-26T17:27:04.226193Z",
     "start_time": "2020-08-26T17:26:17.320Z"
    }
   },
   "outputs": [
    {
     "name": "stderr",
     "output_type": "stream",
     "text": [
      "Sending email to: nyoungblut@tuebingen.mpg.de\n",
      "\n"
     ]
    }
   ],
   "source": [
    "send_email('http://127.0.0.1:9705/notebooks/notebooks/16S_arch/MiSeq-Runs116-122-126-189-190/03_modulating_factors/04d_PGLS_IndD_alpha-div.ipynb')\n"
   ]
  },
  {
   "cell_type": "markdown",
   "metadata": {},
   "source": [
    "### Summary"
   ]
  },
  {
   "cell_type": "code",
   "execution_count": 53,
   "metadata": {
    "ExecuteTime": {
     "end_time": "2020-08-26T17:27:33.308331Z",
     "start_time": "2020-08-26T17:27:33.230Z"
    }
   },
   "outputs": [
    {
     "data": {
      "text/html": [
       "<table>\n",
       "<caption>A matrix: 1 × 8 of type dbl</caption>\n",
       "<thead>\n",
       "\t<tr><th></th><th scope=col>Min.</th><th scope=col>1st Qu.</th><th scope=col>Median</th><th scope=col>Mean</th><th scope=col>3rd Qu.</th><th scope=col>Max.</th><th scope=col>sd</th><th scope=col>sd_err_of_mean</th></tr>\n",
       "</thead>\n",
       "<tbody>\n",
       "\t<tr><th scope=row>p-value</th><td>0.3625779</td><td>0.4583759</td><td>0.5541739</td><td>0.5541739</td><td>0.6499719</td><td>0.7457699</td><td>0.135</td><td>0.055</td></tr>\n",
       "</tbody>\n",
       "</table>\n"
      ],
      "text/latex": [
       "A matrix: 1 × 8 of type dbl\n",
       "\\begin{tabular}{r|llllllll}\n",
       "  & Min. & 1st Qu. & Median & Mean & 3rd Qu. & Max. & sd & sd\\_err\\_of\\_mean\\\\\n",
       "\\hline\n",
       "\tp-value & 0.3625779 & 0.4583759 & 0.5541739 & 0.5541739 & 0.6499719 & 0.7457699 & 0.135 & 0.055\\\\\n",
       "\\end{tabular}\n"
      ],
      "text/markdown": [
       "\n",
       "A matrix: 1 × 8 of type dbl\n",
       "\n",
       "| <!--/--> | Min. | 1st Qu. | Median | Mean | 3rd Qu. | Max. | sd | sd_err_of_mean |\n",
       "|---|---|---|---|---|---|---|---|---|\n",
       "| p-value | 0.3625779 | 0.4583759 | 0.5541739 | 0.5541739 | 0.6499719 | 0.7457699 | 0.135 | 0.055 |\n",
       "\n"
      ],
      "text/plain": [
       "        Min.      1st Qu.   Median    Mean      3rd Qu.   Max.      sd   \n",
       "p-value 0.3625779 0.4583759 0.5541739 0.5541739 0.6499719 0.7457699 0.135\n",
       "        sd_err_of_mean\n",
       "p-value 0.055         "
      ]
     },
     "metadata": {},
     "output_type": "display_data"
    },
    {
     "data": {
      "text/html": [
       "<table>\n",
       "<caption>A matrix: 1 × 8 of type dbl</caption>\n",
       "<thead>\n",
       "\t<tr><th></th><th scope=col>Min.</th><th scope=col>1st Qu.</th><th scope=col>Median</th><th scope=col>Mean</th><th scope=col>3rd Qu.</th><th scope=col>Max.</th><th scope=col>sd</th><th scope=col>sd_err_of_mean</th></tr>\n",
       "</thead>\n",
       "<tbody>\n",
       "\t<tr><th scope=row>adj p-value</th><td>1</td><td>1</td><td>1</td><td>1</td><td>1</td><td>1</td><td>0</td><td>0</td></tr>\n",
       "</tbody>\n",
       "</table>\n"
      ],
      "text/latex": [
       "A matrix: 1 × 8 of type dbl\n",
       "\\begin{tabular}{r|llllllll}\n",
       "  & Min. & 1st Qu. & Median & Mean & 3rd Qu. & Max. & sd & sd\\_err\\_of\\_mean\\\\\n",
       "\\hline\n",
       "\tadj p-value & 1 & 1 & 1 & 1 & 1 & 1 & 0 & 0\\\\\n",
       "\\end{tabular}\n"
      ],
      "text/markdown": [
       "\n",
       "A matrix: 1 × 8 of type dbl\n",
       "\n",
       "| <!--/--> | Min. | 1st Qu. | Median | Mean | 3rd Qu. | Max. | sd | sd_err_of_mean |\n",
       "|---|---|---|---|---|---|---|---|---|\n",
       "| adj p-value | 1 | 1 | 1 | 1 | 1 | 1 | 0 | 0 |\n",
       "\n"
      ],
      "text/plain": [
       "            Min. 1st Qu. Median Mean 3rd Qu. Max. sd sd_err_of_mean\n",
       "adj p-value 1    1       1      1    1       1    0  0             "
      ]
     },
     "metadata": {},
     "output_type": "display_data"
    }
   ],
   "source": [
    "# summary\n",
    "pgls_res$p_value %>% summary_x('p-value')\n",
    "pgls_res$q_value %>% summary_x('adj p-value')"
   ]
  },
  {
   "cell_type": "code",
   "execution_count": 54,
   "metadata": {
    "ExecuteTime": {
     "end_time": "2020-08-26T17:27:34.713721Z",
     "start_time": "2020-08-26T17:27:34.228Z"
    }
   },
   "outputs": [
    {
     "data": {
      "image/png": "[encoded data removed]",
      "text/plain": [
       "plot without title"
      ]
     },
     "metadata": {
      "image/png": {
       "height": 350,
       "width": 500
      },
      "text/plain": {
       "height": 350,
       "width": 500
      }
     },
     "output_type": "display_data"
    }
   ],
   "source": [
    "# p-value distribution\n",
    "p = ggplot(pgls_res, aes(R2, p_value)) +\n",
    "    geom_point(alpha=0.3) +\n",
    "    scale_y_log10() +\n",
    "    theme_bw()\n",
    "\n",
    "p.dims(5,3.5)\n",
    "plot(p)"
   ]
  },
  {
   "cell_type": "code",
   "execution_count": 55,
   "metadata": {
    "ExecuteTime": {
     "end_time": "2020-08-26T17:27:35.704938Z",
     "start_time": "2020-08-26T17:27:35.228Z"
    }
   },
   "outputs": [
    {
     "data": {
      "image/png": "[encoded data removed]",
      "text/plain": [
       "plot without title"
      ]
     },
     "metadata": {
      "image/png": {
       "height": 350,
       "width": 500
      },
      "text/plain": {
       "height": 350,
       "width": 500
      }
     },
     "output_type": "display_data"
    }
   ],
   "source": [
    "# p-adj-value distribution\n",
    "p = ggplot(pgls_res, aes(R2, q_value)) +\n",
    "    geom_point(alpha=0.3) +\n",
    "    scale_y_log10() +\n",
    "    theme_bw() \n",
    "\n",
    "p.dims(5,3.5)\n",
    "plot(p)"
   ]
  },
  {
   "cell_type": "markdown",
   "metadata": {},
   "source": [
    "### significant values"
   ]
  },
  {
   "cell_type": "code",
   "execution_count": 56,
   "metadata": {
    "ExecuteTime": {
     "end_time": "2020-08-26T17:27:37.142051Z",
     "start_time": "2020-08-26T17:27:37.089Z"
    }
   },
   "outputs": [
    {
     "name": "stdout",
     "output_type": "stream",
     "text": [
      "No. of unique No. of OTUs: 0 \n"
     ]
    }
   ],
   "source": [
    "# how many?\n",
    "pgls_res %>%\n",
    "    filter(q_value < 0.05) %>%\n",
    "    .$y %>% unique_n('No. of OTUs')"
   ]
  },
  {
   "cell_type": "code",
   "execution_count": 57,
   "metadata": {
    "ExecuteTime": {
     "end_time": "2020-08-26T17:27:38.477801Z",
     "start_time": "2020-08-26T17:27:38.368Z"
    }
   },
   "outputs": [
    {
     "data": {
      "text/html": [
       "<table>\n",
       "<caption>A tibble: 0 × 15</caption>\n",
       "<thead>\n",
       "\t<tr><th scope=col>y</th><th scope=col>Estimate</th><th scope=col>std_err</th><th scope=col>t_value</th><th scope=col>p_value</th><th scope=col>q_value</th><th scope=col>R2</th><th scope=col>x</th><th scope=col>Domain</th><th scope=col>Phylum</th><th scope=col>Class</th><th scope=col>Order</th><th scope=col>Family</th><th scope=col>Genus</th><th scope=col>Species</th></tr>\n",
       "\t<tr><th scope=col>&lt;chr&gt;</th><th scope=col>&lt;dbl&gt;</th><th scope=col>&lt;dbl&gt;</th><th scope=col>&lt;dbl&gt;</th><th scope=col>&lt;dbl&gt;</th><th scope=col>&lt;dbl&gt;</th><th scope=col>&lt;dbl&gt;</th><th scope=col>&lt;chr&gt;</th><th scope=col>&lt;chr&gt;</th><th scope=col>&lt;chr&gt;</th><th scope=col>&lt;chr&gt;</th><th scope=col>&lt;chr&gt;</th><th scope=col>&lt;chr&gt;</th><th scope=col>&lt;chr&gt;</th><th scope=col>&lt;chr&gt;</th></tr>\n",
       "</thead>\n",
       "<tbody>\n",
       "</tbody>\n",
       "</table>\n"
      ],
      "text/latex": [
       "A tibble: 0 × 15\n",
       "\\begin{tabular}{lllllllllllllll}\n",
       " y & Estimate & std\\_err & t\\_value & p\\_value & q\\_value & R2 & x & Domain & Phylum & Class & Order & Family & Genus & Species\\\\\n",
       " <chr> & <dbl> & <dbl> & <dbl> & <dbl> & <dbl> & <dbl> & <chr> & <chr> & <chr> & <chr> & <chr> & <chr> & <chr> & <chr>\\\\\n",
       "\\hline\n",
       "\\end{tabular}\n"
      ],
      "text/markdown": [
       "\n",
       "A tibble: 0 × 15\n",
       "\n",
       "| y &lt;chr&gt; | Estimate &lt;dbl&gt; | std_err &lt;dbl&gt; | t_value &lt;dbl&gt; | p_value &lt;dbl&gt; | q_value &lt;dbl&gt; | R2 &lt;dbl&gt; | x &lt;chr&gt; | Domain &lt;chr&gt; | Phylum &lt;chr&gt; | Class &lt;chr&gt; | Order &lt;chr&gt; | Family &lt;chr&gt; | Genus &lt;chr&gt; | Species &lt;chr&gt; |\n",
       "|---|---|---|---|---|---|---|---|---|---|---|---|---|---|---|\n",
       "\n"
      ],
      "text/plain": [
       "     y Estimate std_err t_value p_value q_value R2 x Domain Phylum Class Order\n",
       "     Family Genus Species"
      ]
     },
     "metadata": {},
     "output_type": "display_data"
    }
   ],
   "source": [
    "# filtering & adding taxonomy\n",
    "pgls_res_j = pgls_res %>%\n",
    "    filter(q_value < 0.05) %>%\n",
    "    inner_join(physeq %>% \n",
    "                   phyloseq2df(tax_table) %>%\n",
    "                   mutate(OTU = gsub('^([0-9])', 'X\\\\1', OTU)),\n",
    "               c('y' = 'OTU'))\n",
    "pgls_res_j "
   ]
  },
  {
   "cell_type": "code",
   "execution_count": 58,
   "metadata": {
    "ExecuteTime": {
     "end_time": "2020-08-26T17:27:39.184696Z",
     "start_time": "2020-08-26T17:27:39.101Z"
    }
   },
   "outputs": [
    {
     "data": {
      "text/html": [
       "<table>\n",
       "<caption>A tibble: 0 × 10</caption>\n",
       "<thead>\n",
       "\t<tr><th scope=col>Estimate</th><th scope=col>p_value</th><th scope=col>q_value</th><th scope=col>R2</th><th scope=col>Phylum</th><th scope=col>Class</th><th scope=col>Order</th><th scope=col>Family</th><th scope=col>Genus</th><th scope=col>Species</th></tr>\n",
       "\t<tr><th scope=col>&lt;dbl&gt;</th><th scope=col>&lt;dbl&gt;</th><th scope=col>&lt;dbl&gt;</th><th scope=col>&lt;dbl&gt;</th><th scope=col>&lt;chr&gt;</th><th scope=col>&lt;chr&gt;</th><th scope=col>&lt;chr&gt;</th><th scope=col>&lt;chr&gt;</th><th scope=col>&lt;chr&gt;</th><th scope=col>&lt;chr&gt;</th></tr>\n",
       "</thead>\n",
       "<tbody>\n",
       "</tbody>\n",
       "</table>\n"
      ],
      "text/latex": [
       "A tibble: 0 × 10\n",
       "\\begin{tabular}{llllllllll}\n",
       " Estimate & p\\_value & q\\_value & R2 & Phylum & Class & Order & Family & Genus & Species\\\\\n",
       " <dbl> & <dbl> & <dbl> & <dbl> & <chr> & <chr> & <chr> & <chr> & <chr> & <chr>\\\\\n",
       "\\hline\n",
       "\\end{tabular}\n"
      ],
      "text/markdown": [
       "\n",
       "A tibble: 0 × 10\n",
       "\n",
       "| Estimate &lt;dbl&gt; | p_value &lt;dbl&gt; | q_value &lt;dbl&gt; | R2 &lt;dbl&gt; | Phylum &lt;chr&gt; | Class &lt;chr&gt; | Order &lt;chr&gt; | Family &lt;chr&gt; | Genus &lt;chr&gt; | Species &lt;chr&gt; |\n",
       "|---|---|---|---|---|---|---|---|---|---|\n",
       "\n"
      ],
      "text/plain": [
       "     Estimate p_value q_value R2 Phylum Class Order Family Genus Species"
      ]
     },
     "metadata": {},
     "output_type": "display_data"
    }
   ],
   "source": [
    "# viewing taxonomic distribution\n",
    "df.dims(30)\n",
    "pgls_res_j %>%\n",
    "    dplyr::select(Estimate, p_value, q_value, R2,\n",
    "                  Phylum, Class, Order, Family, Genus, Species) %>%\n",
    "    arrange(-R2) \n",
    "df.dims()"
   ]
  },
  {
   "cell_type": "markdown",
   "metadata": {},
   "source": [
    "#### Saving results"
   ]
  },
  {
   "cell_type": "code",
   "execution_count": null,
   "metadata": {
    "ExecuteTime": {
     "end_time": "2020-06-22T12:20:19.142696Z",
     "start_time": "2020-06-22T12:20:19.102Z"
    }
   },
   "outputs": [],
   "source": [
    "# F = file.path(work_dir, 'PGLS_IndD_alpha-div_diet.RDS')\n",
    "# saveRDS(pgls_res_j, file=F)\n",
    "# cat('File written:', F, '\\n')"
   ]
  },
  {
   "cell_type": "markdown",
   "metadata": {},
   "source": [
    "# sessionInfo"
   ]
  },
  {
   "cell_type": "code",
   "execution_count": 62,
   "metadata": {
    "ExecuteTime": {
     "end_time": "2020-08-26T17:27:59.577343Z",
     "start_time": "2020-08-26T17:27:59.438Z"
    }
   },
   "outputs": [
    {
     "data": {
      "text/plain": [
       "R version 3.6.2 (2019-12-12)\n",
       "Platform: x86_64-conda_cos6-linux-gnu (64-bit)\n",
       "Running under: Ubuntu 18.04.5 LTS\n",
       "\n",
       "Matrix products: default\n",
       "BLAS/LAPACK: /ebio/abt3_projects/Georg_animal_feces/envs/phyloseq-phy/lib/libopenblasp-r0.3.7.so\n",
       "\n",
       "locale:\n",
       " [1] LC_CTYPE=en_US.UTF-8       LC_NUMERIC=C              \n",
       " [3] LC_TIME=en_US.UTF-8        LC_COLLATE=en_US.UTF-8    \n",
       " [5] LC_MONETARY=en_US.UTF-8    LC_MESSAGES=en_US.UTF-8   \n",
       " [7] LC_PAPER=en_US.UTF-8       LC_NAME=C                 \n",
       " [9] LC_ADDRESS=C               LC_TELEPHONE=C            \n",
       "[11] LC_MEASUREMENT=en_US.UTF-8 LC_IDENTIFICATION=C       \n",
       "\n",
       "attached base packages:\n",
       "[1] parallel  stats     graphics  grDevices utils     datasets  methods  \n",
       "[8] base     \n",
       "\n",
       "other attached packages:\n",
       " [1] LeyLabRMisc_0.1.5 doParallel_1.0.15 iterators_1.0.12  foreach_1.4.7    \n",
       " [5] phyloseq_1.30.0   caper_1.0.1       mvtnorm_1.1-1     MASS_7.3-51.5    \n",
       " [9] ade4_1.7-13       ape_5.3           ggplot2_3.2.1     tidyr_1.0.0      \n",
       "[13] dplyr_0.8.3      \n",
       "\n",
       "loaded via a namespace (and not attached):\n",
       " [1] Rcpp_1.0.3           lattice_0.20-38      Biostrings_2.54.0   \n",
       " [4] RhpcBLASctl_0.20-137 assertthat_0.2.1     digest_0.6.23       \n",
       " [7] IRdisplay_0.7.0      R6_2.4.1             plyr_1.8.5          \n",
       "[10] repr_1.0.2           stats4_3.6.2         evaluate_0.14       \n",
       "[13] pillar_1.4.3         zlibbioc_1.32.0      rlang_0.4.6         \n",
       "[16] lazyeval_0.2.2       uuid_0.1-2           data.table_1.12.8   \n",
       "[19] vegan_2.5-6          S4Vectors_0.24.0     Matrix_1.2-18       \n",
       "[22] labeling_0.3         splines_3.6.2        stringr_1.4.0       \n",
       "[25] igraph_1.2.4.2       munsell_0.5.0        compiler_3.6.2      \n",
       "[28] pkgconfig_2.0.3      BiocGenerics_0.32.0  base64enc_0.1-3     \n",
       "[31] multtest_2.42.0      mgcv_1.8-31          htmltools_0.4.0     \n",
       "[34] biomformat_1.14.0    tidyselect_1.1.0     tibble_2.1.3        \n",
       "[37] IRanges_2.20.0       codetools_0.2-16     permute_0.9-5       \n",
       "[40] crayon_1.3.4         withr_2.1.2          grid_3.6.2          \n",
       "[43] nlme_3.1-143         jsonlite_1.6         gtable_0.3.0        \n",
       "[46] lifecycle_0.1.0      magrittr_1.5         scales_1.1.1        \n",
       "[49] stringi_1.4.5        farver_2.0.3         XVector_0.26.0      \n",
       "[52] reshape2_1.4.3       vctrs_0.3.1          IRkernel_1.1        \n",
       "[55] Rhdf5lib_1.8.0       tools_3.6.2          Biobase_2.46.0      \n",
       "[58] glue_1.3.1           purrr_0.3.3          survival_3.1-8      \n",
       "[61] colorspace_1.4-1     rhdf5_2.30.0         cluster_2.1.0       \n",
       "[64] pbdZMQ_0.3-3        "
      ]
     },
     "metadata": {},
     "output_type": "display_data"
    }
   ],
   "source": [
    "sessionInfo()"
   ]
  },
  {
   "cell_type": "code",
   "execution_count": 60,
   "metadata": {
    "ExecuteTime": {
     "end_time": "2020-08-26T17:27:56.486883Z",
     "start_time": "2020-08-26T17:27:56.387Z"
    }
   },
   "outputs": [
    {
     "data": {
      "text/html": [
       "<table>\n",
       "<caption>A tibble: 0 × 16</caption>\n",
       "<thead>\n",
       "\t<tr><th scope=col>Estimate</th><th scope=col>std_err</th><th scope=col>t_value</th><th scope=col>p_value</th><th scope=col>R2</th><th scope=col>x</th><th scope=col>y</th><th scope=col>rep</th><th scope=col>q_value</th><th scope=col>Domain</th><th scope=col>Phylum</th><th scope=col>Class</th><th scope=col>Order</th><th scope=col>Family</th><th scope=col>Genus</th><th scope=col>Species</th></tr>\n",
       "\t<tr><th scope=col>&lt;dbl&gt;</th><th scope=col>&lt;dbl&gt;</th><th scope=col>&lt;dbl&gt;</th><th scope=col>&lt;dbl&gt;</th><th scope=col>&lt;dbl&gt;</th><th scope=col>&lt;chr&gt;</th><th scope=col>&lt;chr&gt;</th><th scope=col>&lt;int&gt;</th><th scope=col>&lt;dbl&gt;</th><th scope=col>&lt;chr&gt;</th><th scope=col>&lt;chr&gt;</th><th scope=col>&lt;chr&gt;</th><th scope=col>&lt;chr&gt;</th><th scope=col>&lt;chr&gt;</th><th scope=col>&lt;chr&gt;</th><th scope=col>&lt;chr&gt;</th></tr>\n",
       "</thead>\n",
       "<tbody>\n",
       "</tbody>\n",
       "</table>\n"
      ],
      "text/latex": [
       "A tibble: 0 × 16\n",
       "\\begin{tabular}{llllllllllllllll}\n",
       " Estimate & std\\_err & t\\_value & p\\_value & R2 & x & y & rep & q\\_value & Domain & Phylum & Class & Order & Family & Genus & Species\\\\\n",
       " <dbl> & <dbl> & <dbl> & <dbl> & <dbl> & <chr> & <chr> & <int> & <dbl> & <chr> & <chr> & <chr> & <chr> & <chr> & <chr> & <chr>\\\\\n",
       "\\hline\n",
       "\\end{tabular}\n"
      ],
      "text/markdown": [
       "\n",
       "A tibble: 0 × 16\n",
       "\n",
       "| Estimate &lt;dbl&gt; | std_err &lt;dbl&gt; | t_value &lt;dbl&gt; | p_value &lt;dbl&gt; | R2 &lt;dbl&gt; | x &lt;chr&gt; | y &lt;chr&gt; | rep &lt;int&gt; | q_value &lt;dbl&gt; | Domain &lt;chr&gt; | Phylum &lt;chr&gt; | Class &lt;chr&gt; | Order &lt;chr&gt; | Family &lt;chr&gt; | Genus &lt;chr&gt; | Species &lt;chr&gt; |\n",
       "|---|---|---|---|---|---|---|---|---|---|---|---|---|---|---|---|\n",
       "\n"
      ],
      "text/plain": [
       "     Estimate std_err t_value p_value R2 x y rep q_value Domain Phylum Class\n",
       "     Order Family Genus Species"
      ]
     },
     "metadata": {},
     "output_type": "display_data"
    }
   ],
   "source": [
    "# adding taxonomy\n",
    "pgls_res = pgls_res %>%\n",
    "    inner_join(physeq %>% \n",
    "                   phyloseq2df(tax_table) %>%\n",
    "                   mutate(OTU = gsub('^([0-9])', 'X\\\\1', OTU)),\n",
    "               c('y' = 'OTU'))\n",
    "pgls_res"
   ]
  },
  {
   "cell_type": "code",
   "execution_count": null,
   "metadata": {},
   "outputs": [],
   "source": []
  },
  {
   "cell_type": "code",
   "execution_count": 61,
   "metadata": {
    "ExecuteTime": {
     "end_time": "2020-08-26T17:27:57.067529Z",
     "start_time": "2020-08-26T17:27:56.724Z"
    }
   },
   "outputs": [
    {
     "data": {
      "image/png": "[encoded data removed]",
      "text/plain": [
       "plot without title"
      ]
     },
     "metadata": {
      "image/png": {
       "height": 300,
       "width": 500
      },
      "text/plain": {
       "height": 300,
       "width": 500
      }
     },
     "output_type": "display_data"
    }
   ],
   "source": [
    "p = pgls_res %>%\n",
    "    mutate(y = y %>% as.factor %>% as.numeric %>% gsub('^', 'ASV-', .)) %>%\n",
    "    mutate(Taxonomy = paste(Order, Family, Genus, Species, y, sep='; '),\n",
    "           Taxonomy = stringr::str_wrap(Taxonomy, 50)) %>%\n",
    "    ggplot(aes(Taxonomy, R2, color=Class)) +\n",
    "    geom_boxplot() +\n",
    "    labs(y='R^2') +\n",
    "    theme_bw() \n",
    "\n",
    "p.dims(5,3)\n",
    "plot(p)"
   ]
  }
 ],
 "metadata": {
  "kernelspec": {
   "display_name": "R [conda env:Georg_animal_feces-phyloseq-phy]",
   "language": "R",
   "name": "conda-env-Georg_animal_feces-phyloseq-phy-r"
  },
  "language_info": {
   "codemirror_mode": "r",
   "file_extension": ".r",
   "mimetype": "text/x-r-source",
   "name": "R",
   "pygments_lexer": "r",
   "version": "3.6.2"
  },
  "notify_time": "30",
  "toc": {
   "base_numbering": 1,
   "nav_menu": {},
   "number_sections": true,
   "sideBar": true,
   "skip_h1_title": false,
   "title_cell": "Table of Contents",
   "title_sidebar": "Contents",
   "toc_cell": true,
   "toc_position": {},
   "toc_section_display": true,
   "toc_window_display": true
  }
 },
 "nbformat": 4,
 "nbformat_minor": 4
}
