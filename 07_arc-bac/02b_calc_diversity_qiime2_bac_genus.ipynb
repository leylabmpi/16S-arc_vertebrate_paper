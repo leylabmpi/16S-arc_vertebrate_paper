{
 "cells": [
  {
   "cell_type": "markdown",
   "metadata": {
    "toc": true
   },
   "source": [
    "<h1>Table of Contents<span class=\"tocSkip\"></span></h1>\n",
    "<div class=\"toc\"><ul class=\"toc-item\"><li><span><a href=\"#Goal\" data-toc-modified-id=\"Goal-1\"><span class=\"toc-item-num\">1&nbsp;&nbsp;</span>Goal</a></span></li><li><span><a href=\"#Var\" data-toc-modified-id=\"Var-2\"><span class=\"toc-item-num\">2&nbsp;&nbsp;</span>Var</a></span></li><li><span><a href=\"#Converting-to-qiime2-artifacts\" data-toc-modified-id=\"Converting-to-qiime2-artifacts-3\"><span class=\"toc-item-num\">3&nbsp;&nbsp;</span>Converting to qiime2 artifacts</a></span><ul class=\"toc-item\"><li><span><a href=\"#OTU-table\" data-toc-modified-id=\"OTU-table-3.1\"><span class=\"toc-item-num\">3.1&nbsp;&nbsp;</span>OTU table</a></span></li><li><span><a href=\"#Metadata\" data-toc-modified-id=\"Metadata-3.2\"><span class=\"toc-item-num\">3.2&nbsp;&nbsp;</span>Metadata</a></span></li><li><span><a href=\"#Taxonomy\" data-toc-modified-id=\"Taxonomy-3.3\"><span class=\"toc-item-num\">3.3&nbsp;&nbsp;</span>Taxonomy</a></span></li><li><span><a href=\"#Phylogeny\" data-toc-modified-id=\"Phylogeny-3.4\"><span class=\"toc-item-num\">3.4&nbsp;&nbsp;</span>Phylogeny</a></span></li></ul></li><li><span><a href=\"#Calculating-diversity\" data-toc-modified-id=\"Calculating-diversity-4\"><span class=\"toc-item-num\">4&nbsp;&nbsp;</span>Calculating diversity</a></span></li><li><span><a href=\"#Converting-to-R-objects\" data-toc-modified-id=\"Converting-to-R-objects-5\"><span class=\"toc-item-num\">5&nbsp;&nbsp;</span>Converting to R objects</a></span><ul class=\"toc-item\"><li><span><a href=\"#alpha-diversity\" data-toc-modified-id=\"alpha-diversity-5.1\"><span class=\"toc-item-num\">5.1&nbsp;&nbsp;</span>alpha-diversity</a></span><ul class=\"toc-item\"><li><span><a href=\"#Compiling-into-a-list\" data-toc-modified-id=\"Compiling-into-a-list-5.1.1\"><span class=\"toc-item-num\">5.1.1&nbsp;&nbsp;</span>Compiling into a list</a></span></li></ul></li><li><span><a href=\"#beta-diversity\" data-toc-modified-id=\"beta-diversity-5.2\"><span class=\"toc-item-num\">5.2&nbsp;&nbsp;</span>beta diversity</a></span><ul class=\"toc-item\"><li><span><a href=\"#Compiling-into-a-list\" data-toc-modified-id=\"Compiling-into-a-list-5.2.1\"><span class=\"toc-item-num\">5.2.1&nbsp;&nbsp;</span>Compiling into a list</a></span></li></ul></li></ul></li><li><span><a href=\"#Final-files\" data-toc-modified-id=\"Final-files-6\"><span class=\"toc-item-num\">6&nbsp;&nbsp;</span>Final files</a></span></li><li><span><a href=\"#sessionInfo\" data-toc-modified-id=\"sessionInfo-7\"><span class=\"toc-item-num\">7&nbsp;&nbsp;</span>sessionInfo</a></span></li></ul></div>"
   ]
  },
  {
   "cell_type": "markdown",
   "metadata": {},
   "source": [
    "# Goal\n",
    "\n",
    "* calculate alpha and beta diversity via qiime2"
   ]
  },
  {
   "cell_type": "markdown",
   "metadata": {},
   "source": [
    "# Var"
   ]
  },
  {
   "cell_type": "code",
   "execution_count": 1,
   "metadata": {
    "ExecuteTime": {
     "end_time": "2020-08-28T14:13:21.552535Z",
     "start_time": "2020-08-28T14:13:21.213Z"
    }
   },
   "outputs": [],
   "source": [
    "work_dir = '/ebio/abt3_projects/Georg_animal_feces/data/16S_arch/MiSeq-Runs-116-122-126-189-190/LLA/arch-bac/diversity-qiime2_bac/'\n",
    "\n",
    "# 16S-arch phyloseq object; rarefied\n",
    "#physeq_arc_file = '/ebio/abt3_projects/Georg_animal_feces/data/16S_arch/MiSeq-Runs-116-122-126-189-190/LLA/arch-bac/physeq_arch_arc-bac_r250.RDS'\n",
    "# 16S-bac phyloseq object; rarefied\n",
    "physeq_bac_file = '/ebio/abt3_projects/Georg_animal_feces/data/16S_arch/MiSeq-Runs-116-122-126-189-190/LLA/arch-bac/physeq_bac_arc-bac_r5k.RDS'\n",
    "\n",
    "# misc\n",
    "tmp_dir = file.path(work_dir, 'qiime2_files')\n",
    "conda_env = 'qiime2-2019.10'"
   ]
  },
  {
   "cell_type": "code",
   "execution_count": 2,
   "metadata": {
    "ExecuteTime": {
     "end_time": "2020-08-28T14:13:51.823138Z",
     "start_time": "2020-08-28T14:13:21.216Z"
    }
   },
   "outputs": [
    {
     "name": "stderr",
     "output_type": "stream",
     "text": [
      "\n",
      "Attaching package: ‘dplyr’\n",
      "\n",
      "\n",
      "The following objects are masked from ‘package:stats’:\n",
      "\n",
      "    filter, lag\n",
      "\n",
      "\n",
      "The following objects are masked from ‘package:base’:\n",
      "\n",
      "    intersect, setdiff, setequal, union\n",
      "\n",
      "\n"
     ]
    }
   ],
   "source": [
    "library(dplyr)\n",
    "library(tidyr)\n",
    "library(ggplot2)\n",
    "library(phyloseq)\n",
    "library(ape)\n",
    "library(LeyLabRMisc)"
   ]
  },
  {
   "cell_type": "code",
   "execution_count": 3,
   "metadata": {
    "ExecuteTime": {
     "end_time": "2020-08-28T14:13:52.539722Z",
     "start_time": "2020-08-28T14:13:21.218Z"
    }
   },
   "outputs": [
    {
     "name": "stdout",
     "output_type": "stream",
     "text": [
      "Directory already exists: /ebio/abt3_projects/Georg_animal_feces/data/16S_arch/MiSeq-Runs-116-122-126-189-190/LLA/arch-bac/diversity-qiime2_bac/ \n",
      "Directory already exists: /ebio/abt3_projects/Georg_animal_feces/data/16S_arch/MiSeq-Runs-116-122-126-189-190/LLA/arch-bac/diversity-qiime2_bac//qiime2_files \n"
     ]
    }
   ],
   "source": [
    "df.dims()\n",
    "make_dir(work_dir)\n",
    "make_dir(tmp_dir)"
   ]
  },
  {
   "cell_type": "markdown",
   "metadata": {},
   "source": [
    "# Converting to qiime2 artifacts"
   ]
  },
  {
   "cell_type": "code",
   "execution_count": 4,
   "metadata": {
    "ExecuteTime": {
     "end_time": "2020-08-28T14:13:55.317836Z",
     "start_time": "2020-08-28T14:13:21.221Z"
    }
   },
   "outputs": [
    {
     "data": {
      "text/plain": [
       "phyloseq-class experiment-level object\n",
       "otu_table()   OTU Table:         [ 30361 taxa and 140 samples ]\n",
       "sample_data() Sample Data:       [ 140 samples by 171 sample variables ]\n",
       "tax_table()   Taxonomy Table:    [ 30361 taxa by 7 taxonomic ranks ]\n",
       "phy_tree()    Phylogenetic Tree: [ 30361 tips and 29814 internal nodes ]"
      ]
     },
     "metadata": {},
     "output_type": "display_data"
    }
   ],
   "source": [
    "# loading phyloseq object\n",
    "physeq = readRDS(physeq_bac_file)\n",
    "physeq "
   ]
  },
  {
   "cell_type": "code",
   "execution_count": 5,
   "metadata": {
    "ExecuteTime": {
     "end_time": "2020-08-28T14:32:04.457031Z",
     "start_time": "2020-08-28T14:13:21.224Z"
    }
   },
   "outputs": [
    {
     "data": {
      "text/plain": [
       "phyloseq-class experiment-level object\n",
       "otu_table()   OTU Table:         [ 817 taxa and 140 samples ]\n",
       "sample_data() Sample Data:       [ 140 samples by 171 sample variables ]\n",
       "tax_table()   Taxonomy Table:    [ 817 taxa by 7 taxonomic ranks ]\n",
       "phy_tree()    Phylogenetic Tree: [ 817 tips and 816 internal nodes ]"
      ]
     },
     "metadata": {},
     "output_type": "display_data"
    }
   ],
   "source": [
    "# aggregating by genus\n",
    "physeq = tax_glom(physeq, 'Genus')\n",
    "physeq"
   ]
  },
  {
   "cell_type": "markdown",
   "metadata": {},
   "source": [
    "## OTU table"
   ]
  },
  {
   "cell_type": "code",
   "execution_count": 6,
   "metadata": {
    "ExecuteTime": {
     "end_time": "2020-08-28T14:32:05.656025Z",
     "start_time": "2020-08-28T14:13:21.229Z"
    }
   },
   "outputs": [
    {
     "data": {
      "text/html": [
       "<table>\n",
       "<caption>A data.frame: 817 × 141</caption>\n",
       "<thead>\n",
       "\t<tr><th scope=col>OTU</th><th scope=col>X101_Horse</th><th scope=col>X102_Kulan</th><th scope=col>X109_Red_Fox</th><th scope=col>X111_West_European_Hedgehog</th><th scope=col>X116_Common_Kestrel</th><th scope=col>X122_Wild_Boar</th><th scope=col>X123_Alpine_Chamois</th><th scope=col>X127_Alpine_Marmot</th><th scope=col>X128_Alpine_Marmot</th><th scope=col>⋯</th><th scope=col>F45_Red_Deer</th><th scope=col>F47_Red_Deer</th><th scope=col>F48_Red_Deer</th><th scope=col>F53_Mouflon</th><th scope=col>F66_Wild_Boar</th><th scope=col>F68_Red_Deer</th><th scope=col>F69_Red_Deer</th><th scope=col>F70_Red_Deer</th><th scope=col>F80_Red_Deer</th><th scope=col>F90_Domestic_Dog</th></tr>\n",
       "\t<tr><th scope=col>&lt;chr&gt;</th><th scope=col>&lt;dbl&gt;</th><th scope=col>&lt;dbl&gt;</th><th scope=col>&lt;dbl&gt;</th><th scope=col>&lt;dbl&gt;</th><th scope=col>&lt;dbl&gt;</th><th scope=col>&lt;dbl&gt;</th><th scope=col>&lt;dbl&gt;</th><th scope=col>&lt;dbl&gt;</th><th scope=col>&lt;dbl&gt;</th><th scope=col>⋯</th><th scope=col>&lt;dbl&gt;</th><th scope=col>&lt;dbl&gt;</th><th scope=col>&lt;dbl&gt;</th><th scope=col>&lt;dbl&gt;</th><th scope=col>&lt;dbl&gt;</th><th scope=col>&lt;dbl&gt;</th><th scope=col>&lt;dbl&gt;</th><th scope=col>&lt;dbl&gt;</th><th scope=col>&lt;dbl&gt;</th><th scope=col>&lt;dbl&gt;</th></tr>\n",
       "</thead>\n",
       "<tbody>\n",
       "\t<tr><td>1781517ce246703d6b462685778525d2</td><td>0</td><td>0</td><td>0</td><td>0</td><td>0</td><td>0</td><td>0</td><td>  0</td><td>0</td><td>⋯</td><td>0</td><td>0</td><td>0</td><td>0</td><td>0</td><td>0</td><td>0</td><td>0</td><td>0</td><td>0</td></tr>\n",
       "\t<tr><td>2c8d504055d7d4ed6b09da3b03b3eca9</td><td>1</td><td>2</td><td>0</td><td>0</td><td>0</td><td>1</td><td>0</td><td>284</td><td>1</td><td>⋯</td><td>0</td><td>0</td><td>0</td><td>0</td><td>1</td><td>0</td><td>0</td><td>0</td><td>1</td><td>0</td></tr>\n",
       "\t<tr><td>⋮</td><td>⋮</td><td>⋮</td><td>⋮</td><td>⋮</td><td>⋮</td><td>⋮</td><td>⋮</td><td>⋮</td><td>⋮</td><td>⋱</td><td>⋮</td><td>⋮</td><td>⋮</td><td>⋮</td><td>⋮</td><td>⋮</td><td>⋮</td><td>⋮</td><td>⋮</td><td>⋮</td></tr>\n",
       "\t<tr><td>d0208c53dfa85aa1dcbd2e39ad1dd38b</td><td>419</td><td>187</td><td>7</td><td>72</td><td>0</td><td>341</td><td>155</td><td>172</td><td>191</td><td>⋯</td><td>450</td><td>476</td><td>186</td><td>388</td><td>213</td><td>305</td><td>369</td><td>316</td><td>309</td><td>256</td></tr>\n",
       "\t<tr><td>976a36c8eb0079f5a1aef9b2b8f5c820</td><td>  0</td><td>  0</td><td>0</td><td> 0</td><td>0</td><td>  0</td><td>  0</td><td>  0</td><td>  0</td><td>⋯</td><td>  0</td><td>  0</td><td>  0</td><td>  0</td><td>  0</td><td>  0</td><td>  0</td><td>  0</td><td>  0</td><td>  0</td></tr>\n",
       "</tbody>\n",
       "</table>\n"
      ],
      "text/latex": [
       "A data.frame: 817 × 141\n",
       "\\begin{tabular}{lllllllllllllllllllll}\n",
       " OTU & X101\\_Horse & X102\\_Kulan & X109\\_Red\\_Fox & X111\\_West\\_European\\_Hedgehog & X116\\_Common\\_Kestrel & X122\\_Wild\\_Boar & X123\\_Alpine\\_Chamois & X127\\_Alpine\\_Marmot & X128\\_Alpine\\_Marmot & ⋯ & F45\\_Red\\_Deer & F47\\_Red\\_Deer & F48\\_Red\\_Deer & F53\\_Mouflon & F66\\_Wild\\_Boar & F68\\_Red\\_Deer & F69\\_Red\\_Deer & F70\\_Red\\_Deer & F80\\_Red\\_Deer & F90\\_Domestic\\_Dog\\\\\n",
       " <chr> & <dbl> & <dbl> & <dbl> & <dbl> & <dbl> & <dbl> & <dbl> & <dbl> & <dbl> & ⋯ & <dbl> & <dbl> & <dbl> & <dbl> & <dbl> & <dbl> & <dbl> & <dbl> & <dbl> & <dbl>\\\\\n",
       "\\hline\n",
       "\t 1781517ce246703d6b462685778525d2 & 0 & 0 & 0 & 0 & 0 & 0 & 0 &   0 & 0 & ⋯ & 0 & 0 & 0 & 0 & 0 & 0 & 0 & 0 & 0 & 0\\\\\n",
       "\t 2c8d504055d7d4ed6b09da3b03b3eca9 & 1 & 2 & 0 & 0 & 0 & 1 & 0 & 284 & 1 & ⋯ & 0 & 0 & 0 & 0 & 1 & 0 & 0 & 0 & 1 & 0\\\\\n",
       "\t ⋮ & ⋮ & ⋮ & ⋮ & ⋮ & ⋮ & ⋮ & ⋮ & ⋮ & ⋮ & ⋱ & ⋮ & ⋮ & ⋮ & ⋮ & ⋮ & ⋮ & ⋮ & ⋮ & ⋮ & ⋮\\\\\n",
       "\t d0208c53dfa85aa1dcbd2e39ad1dd38b & 419 & 187 & 7 & 72 & 0 & 341 & 155 & 172 & 191 & ⋯ & 450 & 476 & 186 & 388 & 213 & 305 & 369 & 316 & 309 & 256\\\\\n",
       "\t 976a36c8eb0079f5a1aef9b2b8f5c820 &   0 &   0 & 0 &  0 & 0 &   0 &   0 &   0 &   0 & ⋯ &   0 &   0 &   0 &   0 &   0 &   0 &   0 &   0 &   0 &   0\\\\\n",
       "\\end{tabular}\n"
      ],
      "text/markdown": [
       "\n",
       "A data.frame: 817 × 141\n",
       "\n",
       "| OTU &lt;chr&gt; | X101_Horse &lt;dbl&gt; | X102_Kulan &lt;dbl&gt; | X109_Red_Fox &lt;dbl&gt; | X111_West_European_Hedgehog &lt;dbl&gt; | X116_Common_Kestrel &lt;dbl&gt; | X122_Wild_Boar &lt;dbl&gt; | X123_Alpine_Chamois &lt;dbl&gt; | X127_Alpine_Marmot &lt;dbl&gt; | X128_Alpine_Marmot &lt;dbl&gt; | ⋯ ⋯ | F45_Red_Deer &lt;dbl&gt; | F47_Red_Deer &lt;dbl&gt; | F48_Red_Deer &lt;dbl&gt; | F53_Mouflon &lt;dbl&gt; | F66_Wild_Boar &lt;dbl&gt; | F68_Red_Deer &lt;dbl&gt; | F69_Red_Deer &lt;dbl&gt; | F70_Red_Deer &lt;dbl&gt; | F80_Red_Deer &lt;dbl&gt; | F90_Domestic_Dog &lt;dbl&gt; |\n",
       "|---|---|---|---|---|---|---|---|---|---|---|---|---|---|---|---|---|---|---|---|---|\n",
       "| 1781517ce246703d6b462685778525d2 | 0 | 0 | 0 | 0 | 0 | 0 | 0 |   0 | 0 | ⋯ | 0 | 0 | 0 | 0 | 0 | 0 | 0 | 0 | 0 | 0 |\n",
       "| 2c8d504055d7d4ed6b09da3b03b3eca9 | 1 | 2 | 0 | 0 | 0 | 1 | 0 | 284 | 1 | ⋯ | 0 | 0 | 0 | 0 | 1 | 0 | 0 | 0 | 1 | 0 |\n",
       "| ⋮ | ⋮ | ⋮ | ⋮ | ⋮ | ⋮ | ⋮ | ⋮ | ⋮ | ⋮ | ⋱ | ⋮ | ⋮ | ⋮ | ⋮ | ⋮ | ⋮ | ⋮ | ⋮ | ⋮ | ⋮ |\n",
       "| d0208c53dfa85aa1dcbd2e39ad1dd38b | 419 | 187 | 7 | 72 | 0 | 341 | 155 | 172 | 191 | ⋯ | 450 | 476 | 186 | 388 | 213 | 305 | 369 | 316 | 309 | 256 |\n",
       "| 976a36c8eb0079f5a1aef9b2b8f5c820 |   0 |   0 | 0 |  0 | 0 |   0 |   0 |   0 |   0 | ⋯ |   0 |   0 |   0 |   0 |   0 |   0 |   0 |   0 |   0 |   0 |\n",
       "\n"
      ],
      "text/plain": [
       "    OTU                              X101_Horse X102_Kulan X109_Red_Fox\n",
       "1   1781517ce246703d6b462685778525d2 0          0          0           \n",
       "2   2c8d504055d7d4ed6b09da3b03b3eca9 1          2          0           \n",
       "⋮   ⋮                                ⋮          ⋮          ⋮           \n",
       "816 d0208c53dfa85aa1dcbd2e39ad1dd38b 419        187        7           \n",
       "817 976a36c8eb0079f5a1aef9b2b8f5c820   0          0        0           \n",
       "    X111_West_European_Hedgehog X116_Common_Kestrel X122_Wild_Boar\n",
       "1   0                           0                   0             \n",
       "2   0                           0                   1             \n",
       "⋮   ⋮                           ⋮                   ⋮             \n",
       "816 72                          0                   341           \n",
       "817  0                          0                     0           \n",
       "    X123_Alpine_Chamois X127_Alpine_Marmot X128_Alpine_Marmot ⋯ F45_Red_Deer\n",
       "1   0                     0                0                  ⋯ 0           \n",
       "2   0                   284                1                  ⋯ 0           \n",
       "⋮   ⋮                   ⋮                  ⋮                  ⋱ ⋮           \n",
       "816 155                 172                191                ⋯ 450         \n",
       "817   0                   0                  0                ⋯   0         \n",
       "    F47_Red_Deer F48_Red_Deer F53_Mouflon F66_Wild_Boar F68_Red_Deer\n",
       "1   0            0            0           0             0           \n",
       "2   0            0            0           1             0           \n",
       "⋮   ⋮            ⋮            ⋮           ⋮             ⋮           \n",
       "816 476          186          388         213           305         \n",
       "817   0            0            0           0             0         \n",
       "    F69_Red_Deer F70_Red_Deer F80_Red_Deer F90_Domestic_Dog\n",
       "1   0            0            0            0               \n",
       "2   0            0            1            0               \n",
       "⋮   ⋮            ⋮            ⋮            ⋮               \n",
       "816 369          316          309          256             \n",
       "817   0            0            0            0             "
      ]
     },
     "metadata": {},
     "output_type": "display_data"
    }
   ],
   "source": [
    "# converting OTU table\n",
    "tmp = physeq %>% phyloseq2df(otu_table)\n",
    "tmp = cbind(tmp %>% dplyr::select(OTU),\n",
    "            tmp %>% dplyr::select(-OTU))\n",
    "tmp"
   ]
  },
  {
   "cell_type": "code",
   "execution_count": 7,
   "metadata": {
    "ExecuteTime": {
     "end_time": "2020-08-28T14:32:05.741971Z",
     "start_time": "2020-08-28T14:13:21.233Z"
    }
   },
   "outputs": [
    {
     "name": "stdout",
     "output_type": "stream",
     "text": [
      "   Min. 1st Qu.  Median    Mean 3rd Qu.    Max. \n",
      "    0.0     4.0    19.0   833.8   185.0 98090.0 \n",
      "   Min. 1st Qu.  Median    Mean 3rd Qu.    Max. \n",
      "   4245    4778    4931    4866    4999    5000 \n"
     ]
    }
   ],
   "source": [
    "# OTU table value summary\n",
    "rowSums(tmp[,2:ncol(tmp)]) %>% summary %>% print\n",
    "colSums(tmp[,2:ncol(tmp)]) %>% summary %>% print"
   ]
  },
  {
   "cell_type": "code",
   "execution_count": 8,
   "metadata": {
    "ExecuteTime": {
     "end_time": "2020-08-28T14:32:06.116173Z",
     "start_time": "2020-08-28T14:13:21.235Z"
    }
   },
   "outputs": [
    {
     "name": "stdout",
     "output_type": "stream",
     "text": [
      "File written: /ebio/abt3_projects/Georg_animal_feces/data/16S_arch/MiSeq-Runs-116-122-126-189-190/LLA/arch-bac/diversity-qiime2_bac//qiime2_files/physeq_otu-table_genus.tsv \n"
     ]
    }
   ],
   "source": [
    "# writing out table\n",
    "otu_table_file = file.path(tmp_dir, 'physeq_otu-table_genus.tsv')\n",
    "write.table(tmp, otu_table_file, sep='\\t', quote=FALSE, row.names=FALSE)\n",
    "cat('File written:', otu_table_file, '\\n')"
   ]
  },
  {
   "cell_type": "code",
   "execution_count": 9,
   "metadata": {
    "ExecuteTime": {
     "end_time": "2020-08-28T14:32:18.505232Z",
     "start_time": "2020-08-28T14:13:21.238Z"
    }
   },
   "outputs": [
    {
     "name": "stdout",
     "output_type": "stream",
     "text": [
      "[1] \"biom convert -i /ebio/abt3_projects/Georg_animal_feces/data/16S_arch/MiSeq-Runs-116-122-126-189-190/LLA/arch-bac/diversity-qiime2_bac//qiime2_files/physeq_otu-table_genus.tsv -o /ebio/abt3_projects/Georg_animal_feces/data/16S_arch/MiSeq-Runs-116-122-126-189-190/LLA/arch-bac/diversity-qiime2_bac//qiime2_files/physeq_otu-table_genus.biom --to-hdf5\"\n"
     ]
    },
    {
     "data": {
      "text/plain": [
       "NULL"
      ]
     },
     "metadata": {},
     "output_type": "display_data"
    }
   ],
   "source": [
    "# converting otu to biom\n",
    "otu_biom_file = file.path(tmp_dir, 'physeq_otu-table_genus.biom')\n",
    "cmd = sprintf('biom convert -i %s -o %s --to-hdf5', otu_table_file, otu_biom_file)\n",
    "print(cmd)\n",
    "bash_job(cmd, conda_env)"
   ]
  },
  {
   "cell_type": "code",
   "execution_count": 10,
   "metadata": {
    "ExecuteTime": {
     "end_time": "2020-08-28T14:32:39.213924Z",
     "start_time": "2020-08-28T14:13:21.241Z"
    }
   },
   "outputs": [
    {
     "name": "stdout",
     "output_type": "stream",
     "text": [
      "[1] \"qiime tools import --type FeatureTable[Frequency] --input-path /ebio/abt3_projects/Georg_animal_feces/data/16S_arch/MiSeq-Runs-116-122-126-189-190/LLA/arch-bac/diversity-qiime2_bac//qiime2_files/physeq_otu-table_genus.biom --output-path /ebio/abt3_projects/Georg_animal_feces/data/16S_arch/MiSeq-Runs-116-122-126-189-190/LLA/arch-bac/diversity-qiime2_bac//qiime2_files/physeq_otu_genus.qza\"\n",
      "Imported /ebio/abt3_projects/Georg_animal_feces/data/16S_arch/MiSeq-Runs-116-122-126-189-190/LLA/arch-bac/diversity-qiime2_bac//qiime2_files/physeq_otu-table_genus.biom as BIOMV210DirFmt to /ebio/abt3_projects/Georg_animal_feces/data/16S_arch/MiSeq-Runs-116-122-126-189-190/LLA/arch-bac/diversity-qiime2_bac//qiime2_files/physeq_otu_genus.qza"
     ]
    },
    {
     "data": {
      "text/plain": [
       "NULL"
      ]
     },
     "metadata": {},
     "output_type": "display_data"
    }
   ],
   "source": [
    "# converting biom to qiime2 artifact\n",
    "otu_art_file = file.path(tmp_dir, 'physeq_otu_genus.qza')\n",
    "cmd = sprintf('qiime tools import --type FeatureTable[Frequency] --input-path %s --output-path %s', \n",
    "              otu_biom_file, otu_art_file)\n",
    "print(cmd)\n",
    "bash_job(cmd, conda_env)"
   ]
  },
  {
   "cell_type": "markdown",
   "metadata": {},
   "source": [
    "## Metadata"
   ]
  },
  {
   "cell_type": "code",
   "execution_count": 11,
   "metadata": {
    "ExecuteTime": {
     "end_time": "2020-08-28T14:32:39.401562Z",
     "start_time": "2020-08-28T14:13:21.246Z"
    }
   },
   "outputs": [
    {
     "data": {
      "text/html": [
       "<table>\n",
       "<caption>A data.frame: 140 × 172</caption>\n",
       "<thead>\n",
       "\t<tr><th scope=col>#SampleID</th><th scope=col>BarcodeSequence</th><th scope=col>LinkerPrimerSequence</th><th scope=col>Primer</th><th scope=col>ReversePrimer</th><th scope=col>Barcode_ID</th><th scope=col>sample_number</th><th scope=col>host_subject_id</th><th scope=col>host_german_name</th><th scope=col>host_common_name</th><th scope=col>⋯</th><th scope=col>Num_Illumina</th><th scope=col>Num</th><th scope=col>sorting_454</th><th scope=col>comments_additional</th><th scope=col>DNA_box_20180622</th><th scope=col>sample_vol_20180622</th><th scope=col>sample_label_20180622</th><th scope=col>Description</th><th scope=col>Sample</th><th scope=col>host_class</th></tr>\n",
       "\t<tr><th scope=col>&lt;chr&gt;</th><th scope=col>&lt;fct&gt;</th><th scope=col>&lt;fct&gt;</th><th scope=col>&lt;fct&gt;</th><th scope=col>&lt;fct&gt;</th><th scope=col>&lt;fct&gt;</th><th scope=col>&lt;fct&gt;</th><th scope=col>&lt;fct&gt;</th><th scope=col>&lt;fct&gt;</th><th scope=col>&lt;fct&gt;</th><th scope=col>⋯</th><th scope=col>&lt;fct&gt;</th><th scope=col>&lt;fct&gt;</th><th scope=col>&lt;fct&gt;</th><th scope=col>&lt;fct&gt;</th><th scope=col>&lt;fct&gt;</th><th scope=col>&lt;fct&gt;</th><th scope=col>&lt;fct&gt;</th><th scope=col>&lt;fct&gt;</th><th scope=col>&lt;chr&gt;</th><th scope=col>&lt;fct&gt;</th></tr>\n",
       "</thead>\n",
       "<tbody>\n",
       "\t<tr><td>X101_Horse</td><td>ACGACGTCTTAG</td><td>CATGCTGCCTCCCGTAGGAGT</td><td>GCCTCCCTCGCGCCATCAG</td><td>AGAGTTTGATCCTGGCTCAG</td><td>338R_BC0030</td><td>101</td><td>101</td><td>Hauspferd</td><td>Horse</td><td>⋯</td><td>344</td><td>160</td><td>160</td><td>NA</td><td>2</td><td>20</td><td>101</td><td>NA</td><td>X101_Horse</td><td>Mammalia</td></tr>\n",
       "\t<tr><td>X102_Kulan</td><td>ACGAGTGCTATC</td><td>CATGCTGCCTCCCGTAGGAGT</td><td>GCCTCCCTCGCGCCATCAG</td><td>AGAGTTTGATCCTGGCTCAG</td><td>338R_BC0031</td><td>102</td><td>102</td><td>Khulan   </td><td>Kulan</td><td>⋯</td><td>345</td><td>161</td><td>161</td><td>NA</td><td>2</td><td>20</td><td>102</td><td>NA</td><td>X102_Kulan</td><td>Mammalia</td></tr>\n",
       "\t<tr><td>⋮</td><td>⋮</td><td>⋮</td><td>⋮</td><td>⋮</td><td>⋮</td><td>⋮</td><td>⋮</td><td>⋮</td><td>⋮</td><td>⋱</td><td>⋮</td><td>⋮</td><td>⋮</td><td>⋮</td><td>⋮</td><td>⋮</td><td>⋮</td><td>⋮</td><td>⋮</td><td>⋮</td></tr>\n",
       "\t<tr><td>F80_Red_Deer    </td><td>ACTACGTGTGGT</td><td>CATGCTGCCTCCCGTAGGAGT</td><td>GCCTCCCTCGCGCCATCAG</td><td>AGAGTTTGATCCTGGCTCAG</td><td>338R_BC0046</td><td>F80</td><td>F80</td><td>Rothirsch</td><td>Red.Deer    </td><td>⋯</td><td>116</td><td>14</td><td>14</td><td>NA</td><td>7</td><td>20</td><td>F80</td><td>NA</td><td>F80_Red_Deer    </td><td>Mammalia</td></tr>\n",
       "\t<tr><td>F90_Domestic_Dog</td><td>ACTCGATTCGAT</td><td>CATGCTGCCTCCCGTAGGAGT</td><td>GCCTCCCTCGCGCCATCAG</td><td>AGAGTTTGATCCTGGCTCAG</td><td>338R_BC0051</td><td>F90</td><td>F90</td><td>Hund     </td><td>Domestic.Dog</td><td>⋯</td><td>118</td><td>16</td><td>16</td><td>NA</td><td>7</td><td>20</td><td>F90</td><td>NA</td><td>F90_Domestic_Dog</td><td>Mammalia</td></tr>\n",
       "</tbody>\n",
       "</table>\n"
      ],
      "text/latex": [
       "A data.frame: 140 × 172\n",
       "\\begin{tabular}{lllllllllllllllllllll}\n",
       " \\#SampleID & BarcodeSequence & LinkerPrimerSequence & Primer & ReversePrimer & Barcode\\_ID & sample\\_number & host\\_subject\\_id & host\\_german\\_name & host\\_common\\_name & ⋯ & Num\\_Illumina & Num & sorting\\_454 & comments\\_additional & DNA\\_box\\_20180622 & sample\\_vol\\_20180622 & sample\\_label\\_20180622 & Description & Sample & host\\_class\\\\\n",
       " <chr> & <fct> & <fct> & <fct> & <fct> & <fct> & <fct> & <fct> & <fct> & <fct> & ⋯ & <fct> & <fct> & <fct> & <fct> & <fct> & <fct> & <fct> & <fct> & <chr> & <fct>\\\\\n",
       "\\hline\n",
       "\t X101\\_Horse & ACGACGTCTTAG & CATGCTGCCTCCCGTAGGAGT & GCCTCCCTCGCGCCATCAG & AGAGTTTGATCCTGGCTCAG & 338R\\_BC0030 & 101 & 101 & Hauspferd & Horse & ⋯ & 344 & 160 & 160 & NA & 2 & 20 & 101 & NA & X101\\_Horse & Mammalia\\\\\n",
       "\t X102\\_Kulan & ACGAGTGCTATC & CATGCTGCCTCCCGTAGGAGT & GCCTCCCTCGCGCCATCAG & AGAGTTTGATCCTGGCTCAG & 338R\\_BC0031 & 102 & 102 & Khulan    & Kulan & ⋯ & 345 & 161 & 161 & NA & 2 & 20 & 102 & NA & X102\\_Kulan & Mammalia\\\\\n",
       "\t ⋮ & ⋮ & ⋮ & ⋮ & ⋮ & ⋮ & ⋮ & ⋮ & ⋮ & ⋮ & ⋱ & ⋮ & ⋮ & ⋮ & ⋮ & ⋮ & ⋮ & ⋮ & ⋮ & ⋮ & ⋮\\\\\n",
       "\t F80\\_Red\\_Deer     & ACTACGTGTGGT & CATGCTGCCTCCCGTAGGAGT & GCCTCCCTCGCGCCATCAG & AGAGTTTGATCCTGGCTCAG & 338R\\_BC0046 & F80 & F80 & Rothirsch & Red.Deer     & ⋯ & 116 & 14 & 14 & NA & 7 & 20 & F80 & NA & F80\\_Red\\_Deer     & Mammalia\\\\\n",
       "\t F90\\_Domestic\\_Dog & ACTCGATTCGAT & CATGCTGCCTCCCGTAGGAGT & GCCTCCCTCGCGCCATCAG & AGAGTTTGATCCTGGCTCAG & 338R\\_BC0051 & F90 & F90 & Hund      & Domestic.Dog & ⋯ & 118 & 16 & 16 & NA & 7 & 20 & F90 & NA & F90\\_Domestic\\_Dog & Mammalia\\\\\n",
       "\\end{tabular}\n"
      ],
      "text/markdown": [
       "\n",
       "A data.frame: 140 × 172\n",
       "\n",
       "| #SampleID &lt;chr&gt; | BarcodeSequence &lt;fct&gt; | LinkerPrimerSequence &lt;fct&gt; | Primer &lt;fct&gt; | ReversePrimer &lt;fct&gt; | Barcode_ID &lt;fct&gt; | sample_number &lt;fct&gt; | host_subject_id &lt;fct&gt; | host_german_name &lt;fct&gt; | host_common_name &lt;fct&gt; | ⋯ ⋯ | Num_Illumina &lt;fct&gt; | Num &lt;fct&gt; | sorting_454 &lt;fct&gt; | comments_additional &lt;fct&gt; | DNA_box_20180622 &lt;fct&gt; | sample_vol_20180622 &lt;fct&gt; | sample_label_20180622 &lt;fct&gt; | Description &lt;fct&gt; | Sample &lt;chr&gt; | host_class &lt;fct&gt; |\n",
       "|---|---|---|---|---|---|---|---|---|---|---|---|---|---|---|---|---|---|---|---|---|\n",
       "| X101_Horse | ACGACGTCTTAG | CATGCTGCCTCCCGTAGGAGT | GCCTCCCTCGCGCCATCAG | AGAGTTTGATCCTGGCTCAG | 338R_BC0030 | 101 | 101 | Hauspferd | Horse | ⋯ | 344 | 160 | 160 | NA | 2 | 20 | 101 | NA | X101_Horse | Mammalia |\n",
       "| X102_Kulan | ACGAGTGCTATC | CATGCTGCCTCCCGTAGGAGT | GCCTCCCTCGCGCCATCAG | AGAGTTTGATCCTGGCTCAG | 338R_BC0031 | 102 | 102 | Khulan    | Kulan | ⋯ | 345 | 161 | 161 | NA | 2 | 20 | 102 | NA | X102_Kulan | Mammalia |\n",
       "| ⋮ | ⋮ | ⋮ | ⋮ | ⋮ | ⋮ | ⋮ | ⋮ | ⋮ | ⋮ | ⋱ | ⋮ | ⋮ | ⋮ | ⋮ | ⋮ | ⋮ | ⋮ | ⋮ | ⋮ | ⋮ |\n",
       "| F80_Red_Deer     | ACTACGTGTGGT | CATGCTGCCTCCCGTAGGAGT | GCCTCCCTCGCGCCATCAG | AGAGTTTGATCCTGGCTCAG | 338R_BC0046 | F80 | F80 | Rothirsch | Red.Deer     | ⋯ | 116 | 14 | 14 | NA | 7 | 20 | F80 | NA | F80_Red_Deer     | Mammalia |\n",
       "| F90_Domestic_Dog | ACTCGATTCGAT | CATGCTGCCTCCCGTAGGAGT | GCCTCCCTCGCGCCATCAG | AGAGTTTGATCCTGGCTCAG | 338R_BC0051 | F90 | F90 | Hund      | Domestic.Dog | ⋯ | 118 | 16 | 16 | NA | 7 | 20 | F90 | NA | F90_Domestic_Dog | Mammalia |\n",
       "\n"
      ],
      "text/plain": [
       "    #SampleID        BarcodeSequence LinkerPrimerSequence  Primer             \n",
       "1   X101_Horse       ACGACGTCTTAG    CATGCTGCCTCCCGTAGGAGT GCCTCCCTCGCGCCATCAG\n",
       "2   X102_Kulan       ACGAGTGCTATC    CATGCTGCCTCCCGTAGGAGT GCCTCCCTCGCGCCATCAG\n",
       "⋮   ⋮                ⋮               ⋮                     ⋮                  \n",
       "139 F80_Red_Deer     ACTACGTGTGGT    CATGCTGCCTCCCGTAGGAGT GCCTCCCTCGCGCCATCAG\n",
       "140 F90_Domestic_Dog ACTCGATTCGAT    CATGCTGCCTCCCGTAGGAGT GCCTCCCTCGCGCCATCAG\n",
       "    ReversePrimer        Barcode_ID  sample_number host_subject_id\n",
       "1   AGAGTTTGATCCTGGCTCAG 338R_BC0030 101           101            \n",
       "2   AGAGTTTGATCCTGGCTCAG 338R_BC0031 102           102            \n",
       "⋮   ⋮                    ⋮           ⋮             ⋮              \n",
       "139 AGAGTTTGATCCTGGCTCAG 338R_BC0046 F80           F80            \n",
       "140 AGAGTTTGATCCTGGCTCAG 338R_BC0051 F90           F90            \n",
       "    host_german_name host_common_name ⋯ Num_Illumina Num sorting_454\n",
       "1   Hauspferd        Horse            ⋯ 344          160 160        \n",
       "2   Khulan           Kulan            ⋯ 345          161 161        \n",
       "⋮   ⋮                ⋮                ⋱ ⋮            ⋮   ⋮          \n",
       "139 Rothirsch        Red.Deer         ⋯ 116          14  14         \n",
       "140 Hund             Domestic.Dog     ⋯ 118          16  16         \n",
       "    comments_additional DNA_box_20180622 sample_vol_20180622\n",
       "1   NA                  2                20                 \n",
       "2   NA                  2                20                 \n",
       "⋮   ⋮                   ⋮                ⋮                  \n",
       "139 NA                  7                20                 \n",
       "140 NA                  7                20                 \n",
       "    sample_label_20180622 Description Sample           host_class\n",
       "1   101                   NA          X101_Horse       Mammalia  \n",
       "2   102                   NA          X102_Kulan       Mammalia  \n",
       "⋮   ⋮                     ⋮           ⋮                ⋮         \n",
       "139 F80                   NA          F80_Red_Deer     Mammalia  \n",
       "140 F90                   NA          F90_Domestic_Dog Mammalia  "
      ]
     },
     "metadata": {},
     "output_type": "display_data"
    }
   ],
   "source": [
    "# converting sample metadata\n",
    "tmp = physeq %>% phyloseq2df(sample_data) %>%\n",
    "    mutate(X.SampleID = gsub('\\\\.', '_', X.SampleID)) %>%\n",
    "    dplyr::select(-sample_name)\n",
    "tmp = cbind(tmp %>% dplyr::select(X.SampleID),\n",
    "            tmp %>% dplyr::select(-X.SampleID))\n",
    "colnames(tmp)[1] = '#SampleID'\n",
    "tmp$host_class = tmp$class\n",
    "tmp "
   ]
  },
  {
   "cell_type": "code",
   "execution_count": 12,
   "metadata": {
    "ExecuteTime": {
     "end_time": "2020-08-28T14:32:39.458314Z",
     "start_time": "2020-08-28T14:13:21.248Z"
    }
   },
   "outputs": [
    {
     "name": "stdout",
     "output_type": "stream",
     "text": [
      "File written: /ebio/abt3_projects/Georg_animal_feces/data/16S_arch/MiSeq-Runs-116-122-126-189-190/LLA/arch-bac/diversity-qiime2_bac//qiime2_files/physeq_sample-data.tsv \n"
     ]
    }
   ],
   "source": [
    "# writing out table\n",
    "sample_data_file = file.path(tmp_dir, 'physeq_sample-data.tsv')\n",
    "write.table(tmp, sample_data_file, sep='\\t', quote=FALSE, row.names=FALSE)\n",
    "cat('File written:', sample_data_file, '\\n')"
   ]
  },
  {
   "cell_type": "markdown",
   "metadata": {},
   "source": [
    "## Taxonomy"
   ]
  },
  {
   "cell_type": "code",
   "execution_count": 13,
   "metadata": {
    "ExecuteTime": {
     "end_time": "2020-08-28T14:32:39.562971Z",
     "start_time": "2020-08-28T14:13:21.252Z"
    }
   },
   "outputs": [
    {
     "data": {
      "text/html": [
       "<table>\n",
       "<caption>A data.frame: 817 × 3</caption>\n",
       "<thead>\n",
       "\t<tr><th scope=col>OTU</th><th scope=col>taxonomy</th><th scope=col>Species</th></tr>\n",
       "\t<tr><th scope=col>&lt;chr&gt;</th><th scope=col>&lt;chr&gt;</th><th scope=col>&lt;chr&gt;</th></tr>\n",
       "</thead>\n",
       "<tbody>\n",
       "\t<tr><td>1781517ce246703d6b462685778525d2</td><td>Bacteria;Candidate division SR1;unclassified;unclassified;unclassified;unclassified</td><td>NA</td></tr>\n",
       "\t<tr><td>2c8d504055d7d4ed6b09da3b03b3eca9</td><td>Bacteria;Proteobacteria;unclassified;unclassified;unclassified;unclassified        </td><td>NA</td></tr>\n",
       "\t<tr><td>⋮</td><td>⋮</td><td>⋮</td></tr>\n",
       "\t<tr><td>d0208c53dfa85aa1dcbd2e39ad1dd38b</td><td>Bacteria;Firmicutes;Clostridia;Clostridiales;Lachnospiraceae;unclassified</td><td>NA</td></tr>\n",
       "\t<tr><td>976a36c8eb0079f5a1aef9b2b8f5c820</td><td>Bacteria;Firmicutes;Clostridia;Clostridiales;Lachnospiraceae;Johnsonella </td><td>NA</td></tr>\n",
       "</tbody>\n",
       "</table>\n"
      ],
      "text/latex": [
       "A data.frame: 817 × 3\n",
       "\\begin{tabular}{lll}\n",
       " OTU & taxonomy & Species\\\\\n",
       " <chr> & <chr> & <chr>\\\\\n",
       "\\hline\n",
       "\t 1781517ce246703d6b462685778525d2 & Bacteria;Candidate division SR1;unclassified;unclassified;unclassified;unclassified & NA\\\\\n",
       "\t 2c8d504055d7d4ed6b09da3b03b3eca9 & Bacteria;Proteobacteria;unclassified;unclassified;unclassified;unclassified         & NA\\\\\n",
       "\t ⋮ & ⋮ & ⋮\\\\\n",
       "\t d0208c53dfa85aa1dcbd2e39ad1dd38b & Bacteria;Firmicutes;Clostridia;Clostridiales;Lachnospiraceae;unclassified & NA\\\\\n",
       "\t 976a36c8eb0079f5a1aef9b2b8f5c820 & Bacteria;Firmicutes;Clostridia;Clostridiales;Lachnospiraceae;Johnsonella  & NA\\\\\n",
       "\\end{tabular}\n"
      ],
      "text/markdown": [
       "\n",
       "A data.frame: 817 × 3\n",
       "\n",
       "| OTU &lt;chr&gt; | taxonomy &lt;chr&gt; | Species &lt;chr&gt; |\n",
       "|---|---|---|\n",
       "| 1781517ce246703d6b462685778525d2 | Bacteria;Candidate division SR1;unclassified;unclassified;unclassified;unclassified | NA |\n",
       "| 2c8d504055d7d4ed6b09da3b03b3eca9 | Bacteria;Proteobacteria;unclassified;unclassified;unclassified;unclassified         | NA |\n",
       "| ⋮ | ⋮ | ⋮ |\n",
       "| d0208c53dfa85aa1dcbd2e39ad1dd38b | Bacteria;Firmicutes;Clostridia;Clostridiales;Lachnospiraceae;unclassified | NA |\n",
       "| 976a36c8eb0079f5a1aef9b2b8f5c820 | Bacteria;Firmicutes;Clostridia;Clostridiales;Lachnospiraceae;Johnsonella  | NA |\n",
       "\n"
      ],
      "text/plain": [
       "    OTU                             \n",
       "1   1781517ce246703d6b462685778525d2\n",
       "2   2c8d504055d7d4ed6b09da3b03b3eca9\n",
       "⋮   ⋮                               \n",
       "816 d0208c53dfa85aa1dcbd2e39ad1dd38b\n",
       "817 976a36c8eb0079f5a1aef9b2b8f5c820\n",
       "    taxonomy                                                                           \n",
       "1   Bacteria;Candidate division SR1;unclassified;unclassified;unclassified;unclassified\n",
       "2   Bacteria;Proteobacteria;unclassified;unclassified;unclassified;unclassified        \n",
       "⋮   ⋮                                                                                  \n",
       "816 Bacteria;Firmicutes;Clostridia;Clostridiales;Lachnospiraceae;unclassified          \n",
       "817 Bacteria;Firmicutes;Clostridia;Clostridiales;Lachnospiraceae;Johnsonella           \n",
       "    Species\n",
       "1   NA     \n",
       "2   NA     \n",
       "⋮   ⋮      \n",
       "816 NA     \n",
       "817 NA     "
      ]
     },
     "metadata": {},
     "output_type": "display_data"
    }
   ],
   "source": [
    "# converting taxonomy\n",
    "tmp = physeq %>% phyloseq2df(tax_table)\n",
    "tmp = cbind(tmp %>% dplyr::select(OTU),\n",
    "            tmp %>% dplyr::select(-OTU))\n",
    "tmp = tmp %>%\n",
    "    unite(taxonomy, Domain, Phylum, Class, Order, Family, Genus, sep=';') %>%\n",
    "    mutate(taxonomy = gsub(';+$','', taxonomy))\n",
    "tmp"
   ]
  },
  {
   "cell_type": "code",
   "execution_count": 14,
   "metadata": {
    "ExecuteTime": {
     "end_time": "2020-08-28T14:32:39.598638Z",
     "start_time": "2020-08-28T14:13:21.255Z"
    }
   },
   "outputs": [
    {
     "name": "stdout",
     "output_type": "stream",
     "text": [
      "File written: /ebio/abt3_projects/Georg_animal_feces/data/16S_arch/MiSeq-Runs-116-122-126-189-190/LLA/arch-bac/diversity-qiime2_bac//qiime2_files/physeq_tax-table_genus.tsv \n"
     ]
    }
   ],
   "source": [
    "# writing out table\n",
    "tax_table_file = file.path(tmp_dir, 'physeq_tax-table_genus.tsv')\n",
    "write.table(tmp, tax_table_file, sep='\\t', quote=FALSE, row.names=FALSE, col.names=FALSE)\n",
    "cat('File written:', tax_table_file, '\\n')"
   ]
  },
  {
   "cell_type": "code",
   "execution_count": 15,
   "metadata": {
    "ExecuteTime": {
     "end_time": "2020-08-28T14:32:56.787930Z",
     "start_time": "2020-08-28T14:13:21.259Z"
    }
   },
   "outputs": [
    {
     "name": "stdout",
     "output_type": "stream",
     "text": [
      "[1] \"qiime tools import --type FeatureData[Taxonomy] --input-format HeaderlessTSVTaxonomyFormat --input-path /ebio/abt3_projects/Georg_animal_feces/data/16S_arch/MiSeq-Runs-116-122-126-189-190/LLA/arch-bac/diversity-qiime2_bac//qiime2_files/physeq_tax-table_genus.tsv --output-path /ebio/abt3_projects/Georg_animal_feces/data/16S_arch/MiSeq-Runs-116-122-126-189-190/LLA/arch-bac/diversity-qiime2_bac//qiime2_files/physeq_tax_genus.qza\"\n",
      "Imported /ebio/abt3_projects/Georg_animal_feces/data/16S_arch/MiSeq-Runs-116-122-126-189-190/LLA/arch-bac/diversity-qiime2_bac//qiime2_files/physeq_tax-table_genus.tsv as HeaderlessTSVTaxonomyFormat to /ebio/abt3_projects/Georg_animal_feces/data/16S_arch/MiSeq-Runs-116-122-126-189-190/LLA/arch-bac/diversity-qiime2_bac//qiime2_files/physeq_tax_genus.qza"
     ]
    },
    {
     "data": {
      "text/plain": [
       "NULL"
      ]
     },
     "metadata": {},
     "output_type": "display_data"
    }
   ],
   "source": [
    "# converting tsv to artifact\n",
    "tax_art_file = file.path(tmp_dir, 'physeq_tax_genus.qza')\n",
    "cmd = sprintf('qiime tools import --type FeatureData[Taxonomy] --input-format HeaderlessTSVTaxonomyFormat --input-path %s --output-path %s', \n",
    "              tax_table_file, tax_art_file)\n",
    "print(cmd)\n",
    "bash_job(cmd, conda_env)"
   ]
  },
  {
   "cell_type": "markdown",
   "metadata": {},
   "source": [
    "## Phylogeny"
   ]
  },
  {
   "cell_type": "code",
   "execution_count": 16,
   "metadata": {
    "ExecuteTime": {
     "end_time": "2020-08-28T14:32:56.882839Z",
     "start_time": "2020-08-28T14:13:21.262Z"
    }
   },
   "outputs": [
    {
     "name": "stdout",
     "output_type": "stream",
     "text": [
      "File written: /ebio/abt3_projects/Georg_animal_feces/data/16S_arch/MiSeq-Runs-116-122-126-189-190/LLA/arch-bac/diversity-qiime2_bac//qiime2_files/physeq_16S_genus.nwk \n"
     ]
    }
   ],
   "source": [
    "tree_file = file.path(tmp_dir, 'physeq_16S_genus.nwk')\n",
    "write.tree(physeq %>% phy_tree, tree_file)\n",
    "cat('File written:', tree_file, '\\n')"
   ]
  },
  {
   "cell_type": "code",
   "execution_count": 17,
   "metadata": {
    "ExecuteTime": {
     "end_time": "2020-08-28T14:33:13.023922Z",
     "start_time": "2020-08-28T14:13:21.264Z"
    }
   },
   "outputs": [
    {
     "name": "stdout",
     "output_type": "stream",
     "text": [
      "[1] \"qiime tools import --type Phylogeny[Rooted] --input-path /ebio/abt3_projects/Georg_animal_feces/data/16S_arch/MiSeq-Runs-116-122-126-189-190/LLA/arch-bac/diversity-qiime2_bac//qiime2_files/physeq_16S_genus.nwk --output-path /ebio/abt3_projects/Georg_animal_feces/data/16S_arch/MiSeq-Runs-116-122-126-189-190/LLA/arch-bac/diversity-qiime2_bac//qiime2_files/physeq_16Stree_genus.qza\"\n",
      "Imported /ebio/abt3_projects/Georg_animal_feces/data/16S_arch/MiSeq-Runs-116-122-126-189-190/LLA/arch-bac/diversity-qiime2_bac//qiime2_files/physeq_16S_genus.nwk as NewickDirectoryFormat to /ebio/abt3_projects/Georg_animal_feces/data/16S_arch/MiSeq-Runs-116-122-126-189-190/LLA/arch-bac/diversity-qiime2_bac//qiime2_files/physeq_16Stree_genus.qza"
     ]
    },
    {
     "data": {
      "text/plain": [
       "NULL"
      ]
     },
     "metadata": {},
     "output_type": "display_data"
    }
   ],
   "source": [
    "# convert to artifact\n",
    "tree_art_file = file.path(tmp_dir, 'physeq_16Stree_genus.qza')\n",
    "cmd = sprintf('qiime tools import --type Phylogeny[Rooted] --input-path %s --output-path %s', \n",
    "              tree_file, tree_art_file)\n",
    "print(cmd)\n",
    "bash_job(cmd, conda_env)"
   ]
  },
  {
   "cell_type": "markdown",
   "metadata": {},
   "source": [
    "# Calculating diversity"
   ]
  },
  {
   "cell_type": "code",
   "execution_count": 40,
   "metadata": {
    "ExecuteTime": {
     "end_time": "2020-08-29T11:04:39.278368Z",
     "start_time": "2020-08-29T11:04:13.504Z"
    }
   },
   "outputs": [
    {
     "name": "stdout",
     "output_type": "stream",
     "text": [
      "qiime diversity core-metrics-phylogenetic \\\n",
      "  --i-phylogeny /ebio/abt3_projects/Georg_animal_feces/data/16S_arch/MiSeq-Runs-116-122-126-189-190/LLA/arch-bac/diversity-qiime2_bac//qiime2_files/physeq_16Stree_genus.qza \\\n",
      "  --i-table /ebio/abt3_projects/Georg_animal_feces/data/16S_arch/MiSeq-Runs-116-122-126-189-190/LLA/arch-bac/diversity-qiime2_bac//qiime2_files/physeq_otu_genus.qza \\\n",
      "  --m-metadata-file /ebio/abt3_projects/Georg_animal_feces/data/16S_arch/MiSeq-Runs-116-122-126-189-190/LLA/arch-bac/diversity-qiime2_bac//qiime2_files/physeq_sample-data.tsv \\\n",
      "  --output-dir /ebio/abt3_projects/Georg_animal_feces/data/16S_arch/MiSeq-Runs-116-122-126-189-190/LLA/arch-bac/diversity-qiime2_bac//qiime2_files/core_metrics_phylo_genus \\\n",
      "  --p-sampling-depth 4000 \\\n",
      "  2> /ebio/abt3_projects/Georg_animal_feces/data/16S_arch/MiSeq-Runs-116-122-126-189-190/LLA/arch-bac/diversity-qiime2_bac//qiime2_files/core-metrics-phylo_genus.log 1>&2"
     ]
    },
    {
     "data": {
      "text/plain": [
       "NULL"
      ]
     },
     "metadata": {},
     "output_type": "display_data"
    }
   ],
   "source": [
    "# core-metrics: phylogenetic diversity function\n",
    "\n",
    "## output \n",
    "core_metrics_phylo_dir = file.path(tmp_dir, 'core_metrics_phylo_genus')\n",
    "unlink(core_metrics_phylo_dir, recursive=TRUE)\n",
    "log_file = file.path(tmp_dir, 'core-metrics-phylo_genus.log')\n",
    "\n",
    "\n",
    "## command\n",
    "cmd = \"qiime diversity core-metrics-phylogenetic \\\\\n",
    "  --i-phylogeny %s \\\\\n",
    "  --i-table %s \\\\\n",
    "  --m-metadata-file %s \\\\\n",
    "  --output-dir %s \\\\\n",
    "  --p-sampling-depth %s \\\\\n",
    "  2> %s 1>&2\"\n",
    "\n",
    "cmd = sprintf(cmd,\n",
    "              tree_art_file,\n",
    "              otu_art_file, \n",
    "              sample_data_file, \n",
    "              core_metrics_phylo_dir,\n",
    "              4000, log_file)\n",
    "\n",
    "## run\n",
    "cat(cmd)\n",
    "bash_job(cmd, conda_env)"
   ]
  },
  {
   "cell_type": "markdown",
   "metadata": {},
   "source": [
    "# Converting to R objects"
   ]
  },
  {
   "cell_type": "markdown",
   "metadata": {},
   "source": [
    "## alpha-diversity"
   ]
  },
  {
   "cell_type": "code",
   "execution_count": 41,
   "metadata": {
    "ExecuteTime": {
     "end_time": "2020-08-29T11:04:39.311361Z",
     "start_time": "2020-08-29T11:04:14.494Z"
    }
   },
   "outputs": [
    {
     "data": {
      "text/html": [
       "<style>\n",
       ".list-inline {list-style: none; margin:0; padding: 0}\n",
       ".list-inline>li {display: inline-block}\n",
       ".list-inline>li:not(:last-child)::after {content: \"\\00b7\"; padding: 0 .5ex}\n",
       "</style>\n",
       "<ol class=list-inline><li>'/ebio/abt3_projects/Georg_animal_feces/data/16S_arch/MiSeq-Runs-116-122-126-189-190/LLA/arch-bac/diversity-qiime2_bac//qiime2_files/core_metrics_phylo_genus/evenness_vector.qza'</li><li>'/ebio/abt3_projects/Georg_animal_feces/data/16S_arch/MiSeq-Runs-116-122-126-189-190/LLA/arch-bac/diversity-qiime2_bac//qiime2_files/core_metrics_phylo_genus/faith_pd_vector.qza'</li><li>'/ebio/abt3_projects/Georg_animal_feces/data/16S_arch/MiSeq-Runs-116-122-126-189-190/LLA/arch-bac/diversity-qiime2_bac//qiime2_files/core_metrics_phylo_genus/observed_otus_vector.qza'</li><li>'/ebio/abt3_projects/Georg_animal_feces/data/16S_arch/MiSeq-Runs-116-122-126-189-190/LLA/arch-bac/diversity-qiime2_bac//qiime2_files/core_metrics_phylo_genus/shannon_vector.qza'</li></ol>\n"
      ],
      "text/latex": [
       "\\begin{enumerate*}\n",
       "\\item '/ebio/abt3\\_projects/Georg\\_animal\\_feces/data/16S\\_arch/MiSeq-Runs-116-122-126-189-190/LLA/arch-bac/diversity-qiime2\\_bac//qiime2\\_files/core\\_metrics\\_phylo\\_genus/evenness\\_vector.qza'\n",
       "\\item '/ebio/abt3\\_projects/Georg\\_animal\\_feces/data/16S\\_arch/MiSeq-Runs-116-122-126-189-190/LLA/arch-bac/diversity-qiime2\\_bac//qiime2\\_files/core\\_metrics\\_phylo\\_genus/faith\\_pd\\_vector.qza'\n",
       "\\item '/ebio/abt3\\_projects/Georg\\_animal\\_feces/data/16S\\_arch/MiSeq-Runs-116-122-126-189-190/LLA/arch-bac/diversity-qiime2\\_bac//qiime2\\_files/core\\_metrics\\_phylo\\_genus/observed\\_otus\\_vector.qza'\n",
       "\\item '/ebio/abt3\\_projects/Georg\\_animal\\_feces/data/16S\\_arch/MiSeq-Runs-116-122-126-189-190/LLA/arch-bac/diversity-qiime2\\_bac//qiime2\\_files/core\\_metrics\\_phylo\\_genus/shannon\\_vector.qza'\n",
       "\\end{enumerate*}\n"
      ],
      "text/markdown": [
       "1. '/ebio/abt3_projects/Georg_animal_feces/data/16S_arch/MiSeq-Runs-116-122-126-189-190/LLA/arch-bac/diversity-qiime2_bac//qiime2_files/core_metrics_phylo_genus/evenness_vector.qza'\n",
       "2. '/ebio/abt3_projects/Georg_animal_feces/data/16S_arch/MiSeq-Runs-116-122-126-189-190/LLA/arch-bac/diversity-qiime2_bac//qiime2_files/core_metrics_phylo_genus/faith_pd_vector.qza'\n",
       "3. '/ebio/abt3_projects/Georg_animal_feces/data/16S_arch/MiSeq-Runs-116-122-126-189-190/LLA/arch-bac/diversity-qiime2_bac//qiime2_files/core_metrics_phylo_genus/observed_otus_vector.qza'\n",
       "4. '/ebio/abt3_projects/Georg_animal_feces/data/16S_arch/MiSeq-Runs-116-122-126-189-190/LLA/arch-bac/diversity-qiime2_bac//qiime2_files/core_metrics_phylo_genus/shannon_vector.qza'\n",
       "\n",
       "\n"
      ],
      "text/plain": [
       "[1] \"/ebio/abt3_projects/Georg_animal_feces/data/16S_arch/MiSeq-Runs-116-122-126-189-190/LLA/arch-bac/diversity-qiime2_bac//qiime2_files/core_metrics_phylo_genus/evenness_vector.qza\"     \n",
       "[2] \"/ebio/abt3_projects/Georg_animal_feces/data/16S_arch/MiSeq-Runs-116-122-126-189-190/LLA/arch-bac/diversity-qiime2_bac//qiime2_files/core_metrics_phylo_genus/faith_pd_vector.qza\"     \n",
       "[3] \"/ebio/abt3_projects/Georg_animal_feces/data/16S_arch/MiSeq-Runs-116-122-126-189-190/LLA/arch-bac/diversity-qiime2_bac//qiime2_files/core_metrics_phylo_genus/observed_otus_vector.qza\"\n",
       "[4] \"/ebio/abt3_projects/Georg_animal_feces/data/16S_arch/MiSeq-Runs-116-122-126-189-190/LLA/arch-bac/diversity-qiime2_bac//qiime2_files/core_metrics_phylo_genus/shannon_vector.qza\"      "
      ]
     },
     "metadata": {},
     "output_type": "display_data"
    }
   ],
   "source": [
    "# phylo vectors\n",
    "files = list.files(core_metrics_phylo_dir, pattern='*_vector.qza', full.names=TRUE)\n",
    "files"
   ]
  },
  {
   "cell_type": "code",
   "execution_count": 42,
   "metadata": {
    "ExecuteTime": {
     "end_time": "2020-08-29T11:07:33.506114Z",
     "start_time": "2020-08-29T11:04:14.642Z"
    }
   },
   "outputs": [
    {
     "name": "stdout",
     "output_type": "stream",
     "text": [
      "qiime tools export --output-path /ebio/abt3_projects/Georg_animal_feces/data/16S_arch/MiSeq-Runs-116-122-126-189-190/LLA/arch-bac/diversity-qiime2_bac//qiime2_files/core_metrics_phylo_genus --input-path /ebio/abt3_projects/Georg_animal_feces/data/16S_arch/MiSeq-Runs-116-122-126-189-190/LLA/arch-bac/diversity-qiime2_bac//qiime2_files/core_metrics_phylo_genus/evenness_vector.qza \n",
      "Exported /ebio/abt3_projects/Georg_animal_feces/data/16S_arch/MiSeq-Runs-116-122-126-189-190/LLA/arch-bac/diversity-qiime2_bac//qiime2_files/core_metrics_phylo_genus/evenness_vector.qza as AlphaDiversityDirectoryFormat to directory /ebio/abt3_projects/Georg_animal_feces/data/16S_arch/MiSeq-Runs-116-122-126-189-190/LLA/arch-bac/diversity-qiime2_bac//qiime2_files/core_metrics_phylo_genus\n",
      "File written: /ebio/abt3_projects/Georg_animal_feces/data/16S_arch/MiSeq-Runs-116-122-126-189-190/LLA/arch-bac/diversity-qiime2_bac//evenness_genus.RDS \n",
      "\n",
      "qiime tools export --output-path /ebio/abt3_projects/Georg_animal_feces/data/16S_arch/MiSeq-Runs-116-122-126-189-190/LLA/arch-bac/diversity-qiime2_bac//qiime2_files/core_metrics_phylo_genus --input-path /ebio/abt3_projects/Georg_animal_feces/data/16S_arch/MiSeq-Runs-116-122-126-189-190/LLA/arch-bac/diversity-qiime2_bac//qiime2_files/core_metrics_phylo_genus/faith_pd_vector.qza \n",
      "Exported /ebio/abt3_projects/Georg_animal_feces/data/16S_arch/MiSeq-Runs-116-122-126-189-190/LLA/arch-bac/diversity-qiime2_bac//qiime2_files/core_metrics_phylo_genus/faith_pd_vector.qza as AlphaDiversityDirectoryFormat to directory /ebio/abt3_projects/Georg_animal_feces/data/16S_arch/MiSeq-Runs-116-122-126-189-190/LLA/arch-bac/diversity-qiime2_bac//qiime2_files/core_metrics_phylo_genus\n",
      "File written: /ebio/abt3_projects/Georg_animal_feces/data/16S_arch/MiSeq-Runs-116-122-126-189-190/LLA/arch-bac/diversity-qiime2_bac//faith_pd_genus.RDS \n",
      "\n",
      "qiime tools export --output-path /ebio/abt3_projects/Georg_animal_feces/data/16S_arch/MiSeq-Runs-116-122-126-189-190/LLA/arch-bac/diversity-qiime2_bac//qiime2_files/core_metrics_phylo_genus --input-path /ebio/abt3_projects/Georg_animal_feces/data/16S_arch/MiSeq-Runs-116-122-126-189-190/LLA/arch-bac/diversity-qiime2_bac//qiime2_files/core_metrics_phylo_genus/observed_otus_vector.qza \n",
      "Exported /ebio/abt3_projects/Georg_animal_feces/data/16S_arch/MiSeq-Runs-116-122-126-189-190/LLA/arch-bac/diversity-qiime2_bac//qiime2_files/core_metrics_phylo_genus/observed_otus_vector.qza as AlphaDiversityDirectoryFormat to directory /ebio/abt3_projects/Georg_animal_feces/data/16S_arch/MiSeq-Runs-116-122-126-189-190/LLA/arch-bac/diversity-qiime2_bac//qiime2_files/core_metrics_phylo_genus\n",
      "File written: /ebio/abt3_projects/Georg_animal_feces/data/16S_arch/MiSeq-Runs-116-122-126-189-190/LLA/arch-bac/diversity-qiime2_bac//observed_otus_genus.RDS \n",
      "\n",
      "qiime tools export --output-path /ebio/abt3_projects/Georg_animal_feces/data/16S_arch/MiSeq-Runs-116-122-126-189-190/LLA/arch-bac/diversity-qiime2_bac//qiime2_files/core_metrics_phylo_genus --input-path /ebio/abt3_projects/Georg_animal_feces/data/16S_arch/MiSeq-Runs-116-122-126-189-190/LLA/arch-bac/diversity-qiime2_bac//qiime2_files/core_metrics_phylo_genus/shannon_vector.qza \n",
      "Exported /ebio/abt3_projects/Georg_animal_feces/data/16S_arch/MiSeq-Runs-116-122-126-189-190/LLA/arch-bac/diversity-qiime2_bac//qiime2_files/core_metrics_phylo_genus/shannon_vector.qza as AlphaDiversityDirectoryFormat to directory /ebio/abt3_projects/Georg_animal_feces/data/16S_arch/MiSeq-Runs-116-122-126-189-190/LLA/arch-bac/diversity-qiime2_bac//qiime2_files/core_metrics_phylo_genus\n",
      "File written: /ebio/abt3_projects/Georg_animal_feces/data/16S_arch/MiSeq-Runs-116-122-126-189-190/LLA/arch-bac/diversity-qiime2_bac//shannon_genus.RDS \n",
      "\n"
     ]
    }
   ],
   "source": [
    "# phylo vectors\n",
    "cmd = \"qiime tools export --output-path %s --input-path %s\"\n",
    "\n",
    "for(f in files){\n",
    "    # export qza to tsv\n",
    "    cmd_tmp = sprintf(cmd, core_metrics_phylo_dir, f)\n",
    "    cat(cmd_tmp, '\\n')\n",
    "    bash_job(cmd_tmp, conda_env)    \n",
    "          \n",
    "    # convert tsv to data.frame RDS\n",
    "    exported_file = file.path(core_metrics_phylo_dir, 'alpha-diversity.tsv')\n",
    "    df = read.delim(exported_file, sep='\\t', row.names=1)\n",
    "    final_file = gsub('_vector.+', '_genus.RDS', f)\n",
    "    final_file = file.path(work_dir, basename(final_file))\n",
    "    saveRDS(df, final_file)\n",
    "    cat('\\nFile written:', final_file, '\\n\\n')\n",
    "}"
   ]
  },
  {
   "cell_type": "markdown",
   "metadata": {},
   "source": [
    "### Compiling into a list"
   ]
  },
  {
   "cell_type": "code",
   "execution_count": 43,
   "metadata": {
    "ExecuteTime": {
     "end_time": "2020-08-29T11:07:33.556698Z",
     "start_time": "2020-08-29T11:04:14.917Z"
    }
   },
   "outputs": [
    {
     "name": "stdout",
     "output_type": "stream",
     "text": [
      "File written: /ebio/abt3_projects/Georg_animal_feces/data/16S_arch/MiSeq-Runs-116-122-126-189-190/LLA/arch-bac/diversity-qiime2_bac//alpha_div_genus.RDS \n"
     ]
    }
   ],
   "source": [
    "alpha_div = list(\n",
    "   'evenness' = 'evenness_genus.RDS',\n",
    "   'observed' = 'observed_otus_genus.RDS',\n",
    "   'shannon' = 'shannon_genus.RDS',\n",
    "   'faith_pd' = 'faith_pd_genus.RDS'\n",
    ")\n",
    "\n",
    "alpha_div_rds = list()\n",
    "for(n in names(alpha_div)){\n",
    "    x = readRDS(file.path(work_dir, alpha_div[[n]]))\n",
    "    alpha_div_rds[[n]] = x\n",
    "}\n",
    "\n",
    "alpha_div_rds_file = file.path(work_dir, 'alpha_div_genus.RDS')\n",
    "saveRDS(alpha_div_rds, alpha_div_rds_file)\n",
    "cat('File written:', alpha_div_rds_file, '\\n')"
   ]
  },
  {
   "cell_type": "code",
   "execution_count": 44,
   "metadata": {
    "ExecuteTime": {
     "end_time": "2020-08-29T11:07:33.586531Z",
     "start_time": "2020-08-29T11:04:15.365Z"
    }
   },
   "outputs": [
    {
     "data": {
      "text/html": [
       "<dl>\n",
       "\t<dt>$evenness</dt>\n",
       "\t\t<dd><style>\n",
       ".list-inline {list-style: none; margin:0; padding: 0}\n",
       ".list-inline>li {display: inline-block}\n",
       ".list-inline>li:not(:last-child)::after {content: \"\\00b7\"; padding: 0 .5ex}\n",
       "</style>\n",
       "<ol class=list-inline><li>140</li><li>1</li></ol>\n",
       "</dd>\n",
       "\t<dt>$observed</dt>\n",
       "\t\t<dd><style>\n",
       ".list-inline {list-style: none; margin:0; padding: 0}\n",
       ".list-inline>li {display: inline-block}\n",
       ".list-inline>li:not(:last-child)::after {content: \"\\00b7\"; padding: 0 .5ex}\n",
       "</style>\n",
       "<ol class=list-inline><li>140</li><li>1</li></ol>\n",
       "</dd>\n",
       "\t<dt>$shannon</dt>\n",
       "\t\t<dd><style>\n",
       ".list-inline {list-style: none; margin:0; padding: 0}\n",
       ".list-inline>li {display: inline-block}\n",
       ".list-inline>li:not(:last-child)::after {content: \"\\00b7\"; padding: 0 .5ex}\n",
       "</style>\n",
       "<ol class=list-inline><li>140</li><li>1</li></ol>\n",
       "</dd>\n",
       "\t<dt>$faith_pd</dt>\n",
       "\t\t<dd><style>\n",
       ".list-inline {list-style: none; margin:0; padding: 0}\n",
       ".list-inline>li {display: inline-block}\n",
       ".list-inline>li:not(:last-child)::after {content: \"\\00b7\"; padding: 0 .5ex}\n",
       "</style>\n",
       "<ol class=list-inline><li>140</li><li>1</li></ol>\n",
       "</dd>\n",
       "</dl>\n"
      ],
      "text/latex": [
       "\\begin{description}\n",
       "\\item[\\$evenness] \\begin{enumerate*}\n",
       "\\item 140\n",
       "\\item 1\n",
       "\\end{enumerate*}\n",
       "\n",
       "\\item[\\$observed] \\begin{enumerate*}\n",
       "\\item 140\n",
       "\\item 1\n",
       "\\end{enumerate*}\n",
       "\n",
       "\\item[\\$shannon] \\begin{enumerate*}\n",
       "\\item 140\n",
       "\\item 1\n",
       "\\end{enumerate*}\n",
       "\n",
       "\\item[\\$faith\\_pd] \\begin{enumerate*}\n",
       "\\item 140\n",
       "\\item 1\n",
       "\\end{enumerate*}\n",
       "\n",
       "\\end{description}\n"
      ],
      "text/markdown": [
       "$evenness\n",
       ":   1. 140\n",
       "2. 1\n",
       "\n",
       "\n",
       "\n",
       "$observed\n",
       ":   1. 140\n",
       "2. 1\n",
       "\n",
       "\n",
       "\n",
       "$shannon\n",
       ":   1. 140\n",
       "2. 1\n",
       "\n",
       "\n",
       "\n",
       "$faith_pd\n",
       ":   1. 140\n",
       "2. 1\n",
       "\n",
       "\n",
       "\n",
       "\n",
       "\n"
      ],
      "text/plain": [
       "$evenness\n",
       "[1] 140   1\n",
       "\n",
       "$observed\n",
       "[1] 140   1\n",
       "\n",
       "$shannon\n",
       "[1] 140   1\n",
       "\n",
       "$faith_pd\n",
       "[1] 140   1\n"
      ]
     },
     "metadata": {},
     "output_type": "display_data"
    }
   ],
   "source": [
    "# checking dimensions\n",
    "alpha_div_rds %>%\n",
    "    lapply(function(x) dim(as.matrix(x)))"
   ]
  },
  {
   "cell_type": "markdown",
   "metadata": {},
   "source": [
    "## beta diversity"
   ]
  },
  {
   "cell_type": "code",
   "execution_count": 45,
   "metadata": {
    "ExecuteTime": {
     "end_time": "2020-08-29T11:07:33.617581Z",
     "start_time": "2020-08-29T11:04:15.965Z"
    }
   },
   "outputs": [
    {
     "data": {
      "text/html": [
       "<style>\n",
       ".list-inline {list-style: none; margin:0; padding: 0}\n",
       ".list-inline>li {display: inline-block}\n",
       ".list-inline>li:not(:last-child)::after {content: \"\\00b7\"; padding: 0 .5ex}\n",
       "</style>\n",
       "<ol class=list-inline><li>'/ebio/abt3_projects/Georg_animal_feces/data/16S_arch/MiSeq-Runs-116-122-126-189-190/LLA/arch-bac/diversity-qiime2_bac//qiime2_files/core_metrics_phylo_genus/bray_curtis_distance_matrix.qza'</li><li>'/ebio/abt3_projects/Georg_animal_feces/data/16S_arch/MiSeq-Runs-116-122-126-189-190/LLA/arch-bac/diversity-qiime2_bac//qiime2_files/core_metrics_phylo_genus/jaccard_distance_matrix.qza'</li><li>'/ebio/abt3_projects/Georg_animal_feces/data/16S_arch/MiSeq-Runs-116-122-126-189-190/LLA/arch-bac/diversity-qiime2_bac//qiime2_files/core_metrics_phylo_genus/unweighted_unifrac_distance_matrix.qza'</li><li>'/ebio/abt3_projects/Georg_animal_feces/data/16S_arch/MiSeq-Runs-116-122-126-189-190/LLA/arch-bac/diversity-qiime2_bac//qiime2_files/core_metrics_phylo_genus/weighted_unifrac_distance_matrix.qza'</li></ol>\n"
      ],
      "text/latex": [
       "\\begin{enumerate*}\n",
       "\\item '/ebio/abt3\\_projects/Georg\\_animal\\_feces/data/16S\\_arch/MiSeq-Runs-116-122-126-189-190/LLA/arch-bac/diversity-qiime2\\_bac//qiime2\\_files/core\\_metrics\\_phylo\\_genus/bray\\_curtis\\_distance\\_matrix.qza'\n",
       "\\item '/ebio/abt3\\_projects/Georg\\_animal\\_feces/data/16S\\_arch/MiSeq-Runs-116-122-126-189-190/LLA/arch-bac/diversity-qiime2\\_bac//qiime2\\_files/core\\_metrics\\_phylo\\_genus/jaccard\\_distance\\_matrix.qza'\n",
       "\\item '/ebio/abt3\\_projects/Georg\\_animal\\_feces/data/16S\\_arch/MiSeq-Runs-116-122-126-189-190/LLA/arch-bac/diversity-qiime2\\_bac//qiime2\\_files/core\\_metrics\\_phylo\\_genus/unweighted\\_unifrac\\_distance\\_matrix.qza'\n",
       "\\item '/ebio/abt3\\_projects/Georg\\_animal\\_feces/data/16S\\_arch/MiSeq-Runs-116-122-126-189-190/LLA/arch-bac/diversity-qiime2\\_bac//qiime2\\_files/core\\_metrics\\_phylo\\_genus/weighted\\_unifrac\\_distance\\_matrix.qza'\n",
       "\\end{enumerate*}\n"
      ],
      "text/markdown": [
       "1. '/ebio/abt3_projects/Georg_animal_feces/data/16S_arch/MiSeq-Runs-116-122-126-189-190/LLA/arch-bac/diversity-qiime2_bac//qiime2_files/core_metrics_phylo_genus/bray_curtis_distance_matrix.qza'\n",
       "2. '/ebio/abt3_projects/Georg_animal_feces/data/16S_arch/MiSeq-Runs-116-122-126-189-190/LLA/arch-bac/diversity-qiime2_bac//qiime2_files/core_metrics_phylo_genus/jaccard_distance_matrix.qza'\n",
       "3. '/ebio/abt3_projects/Georg_animal_feces/data/16S_arch/MiSeq-Runs-116-122-126-189-190/LLA/arch-bac/diversity-qiime2_bac//qiime2_files/core_metrics_phylo_genus/unweighted_unifrac_distance_matrix.qza'\n",
       "4. '/ebio/abt3_projects/Georg_animal_feces/data/16S_arch/MiSeq-Runs-116-122-126-189-190/LLA/arch-bac/diversity-qiime2_bac//qiime2_files/core_metrics_phylo_genus/weighted_unifrac_distance_matrix.qza'\n",
       "\n",
       "\n"
      ],
      "text/plain": [
       "[1] \"/ebio/abt3_projects/Georg_animal_feces/data/16S_arch/MiSeq-Runs-116-122-126-189-190/LLA/arch-bac/diversity-qiime2_bac//qiime2_files/core_metrics_phylo_genus/bray_curtis_distance_matrix.qza\"       \n",
       "[2] \"/ebio/abt3_projects/Georg_animal_feces/data/16S_arch/MiSeq-Runs-116-122-126-189-190/LLA/arch-bac/diversity-qiime2_bac//qiime2_files/core_metrics_phylo_genus/jaccard_distance_matrix.qza\"           \n",
       "[3] \"/ebio/abt3_projects/Georg_animal_feces/data/16S_arch/MiSeq-Runs-116-122-126-189-190/LLA/arch-bac/diversity-qiime2_bac//qiime2_files/core_metrics_phylo_genus/unweighted_unifrac_distance_matrix.qza\"\n",
       "[4] \"/ebio/abt3_projects/Georg_animal_feces/data/16S_arch/MiSeq-Runs-116-122-126-189-190/LLA/arch-bac/diversity-qiime2_bac//qiime2_files/core_metrics_phylo_genus/weighted_unifrac_distance_matrix.qza\"  "
      ]
     },
     "metadata": {},
     "output_type": "display_data"
    }
   ],
   "source": [
    "# phylo distance matrices\n",
    "files = list.files(core_metrics_phylo_dir, pattern='*matrix.qza', full.names=TRUE)\n",
    "files"
   ]
  },
  {
   "cell_type": "code",
   "execution_count": 46,
   "metadata": {
    "ExecuteTime": {
     "end_time": "2020-08-29T11:08:26.802816Z",
     "start_time": "2020-08-29T11:04:16.805Z"
    }
   },
   "outputs": [
    {
     "name": "stdout",
     "output_type": "stream",
     "text": [
      "qiime tools export --output-path /ebio/abt3_projects/Georg_animal_feces/data/16S_arch/MiSeq-Runs-116-122-126-189-190/LLA/arch-bac/diversity-qiime2_bac//qiime2_files/core_metrics_phylo_genus --input-path /ebio/abt3_projects/Georg_animal_feces/data/16S_arch/MiSeq-Runs-116-122-126-189-190/LLA/arch-bac/diversity-qiime2_bac//qiime2_files/core_metrics_phylo_genus/bray_curtis_distance_matrix.qza \n",
      "Exported /ebio/abt3_projects/Georg_animal_feces/data/16S_arch/MiSeq-Runs-116-122-126-189-190/LLA/arch-bac/diversity-qiime2_bac//qiime2_files/core_metrics_phylo_genus/bray_curtis_distance_matrix.qza as DistanceMatrixDirectoryFormat to directory /ebio/abt3_projects/Georg_animal_feces/data/16S_arch/MiSeq-Runs-116-122-126-189-190/LLA/arch-bac/diversity-qiime2_bac//qiime2_files/core_metrics_phylo_genus\n",
      "File written: /ebio/abt3_projects/Georg_animal_feces/data/16S_arch/MiSeq-Runs-116-122-126-189-190/LLA/arch-bac/diversity-qiime2_bac//bray_curtis_genus.RDS \n",
      "\n",
      "qiime tools export --output-path /ebio/abt3_projects/Georg_animal_feces/data/16S_arch/MiSeq-Runs-116-122-126-189-190/LLA/arch-bac/diversity-qiime2_bac//qiime2_files/core_metrics_phylo_genus --input-path /ebio/abt3_projects/Georg_animal_feces/data/16S_arch/MiSeq-Runs-116-122-126-189-190/LLA/arch-bac/diversity-qiime2_bac//qiime2_files/core_metrics_phylo_genus/jaccard_distance_matrix.qza \n",
      "Exported /ebio/abt3_projects/Georg_animal_feces/data/16S_arch/MiSeq-Runs-116-122-126-189-190/LLA/arch-bac/diversity-qiime2_bac//qiime2_files/core_metrics_phylo_genus/jaccard_distance_matrix.qza as DistanceMatrixDirectoryFormat to directory /ebio/abt3_projects/Georg_animal_feces/data/16S_arch/MiSeq-Runs-116-122-126-189-190/LLA/arch-bac/diversity-qiime2_bac//qiime2_files/core_metrics_phylo_genus\n",
      "File written: /ebio/abt3_projects/Georg_animal_feces/data/16S_arch/MiSeq-Runs-116-122-126-189-190/LLA/arch-bac/diversity-qiime2_bac//jaccard_genus.RDS \n",
      "\n",
      "qiime tools export --output-path /ebio/abt3_projects/Georg_animal_feces/data/16S_arch/MiSeq-Runs-116-122-126-189-190/LLA/arch-bac/diversity-qiime2_bac//qiime2_files/core_metrics_phylo_genus --input-path /ebio/abt3_projects/Georg_animal_feces/data/16S_arch/MiSeq-Runs-116-122-126-189-190/LLA/arch-bac/diversity-qiime2_bac//qiime2_files/core_metrics_phylo_genus/unweighted_unifrac_distance_matrix.qza \n",
      "Exported /ebio/abt3_projects/Georg_animal_feces/data/16S_arch/MiSeq-Runs-116-122-126-189-190/LLA/arch-bac/diversity-qiime2_bac//qiime2_files/core_metrics_phylo_genus/unweighted_unifrac_distance_matrix.qza as DistanceMatrixDirectoryFormat to directory /ebio/abt3_projects/Georg_animal_feces/data/16S_arch/MiSeq-Runs-116-122-126-189-190/LLA/arch-bac/diversity-qiime2_bac//qiime2_files/core_metrics_phylo_genus\n",
      "File written: /ebio/abt3_projects/Georg_animal_feces/data/16S_arch/MiSeq-Runs-116-122-126-189-190/LLA/arch-bac/diversity-qiime2_bac//unweighted_unifrac_genus.RDS \n",
      "\n",
      "qiime tools export --output-path /ebio/abt3_projects/Georg_animal_feces/data/16S_arch/MiSeq-Runs-116-122-126-189-190/LLA/arch-bac/diversity-qiime2_bac//qiime2_files/core_metrics_phylo_genus --input-path /ebio/abt3_projects/Georg_animal_feces/data/16S_arch/MiSeq-Runs-116-122-126-189-190/LLA/arch-bac/diversity-qiime2_bac//qiime2_files/core_metrics_phylo_genus/weighted_unifrac_distance_matrix.qza \n",
      "Exported /ebio/abt3_projects/Georg_animal_feces/data/16S_arch/MiSeq-Runs-116-122-126-189-190/LLA/arch-bac/diversity-qiime2_bac//qiime2_files/core_metrics_phylo_genus/weighted_unifrac_distance_matrix.qza as DistanceMatrixDirectoryFormat to directory /ebio/abt3_projects/Georg_animal_feces/data/16S_arch/MiSeq-Runs-116-122-126-189-190/LLA/arch-bac/diversity-qiime2_bac//qiime2_files/core_metrics_phylo_genus\n",
      "File written: /ebio/abt3_projects/Georg_animal_feces/data/16S_arch/MiSeq-Runs-116-122-126-189-190/LLA/arch-bac/diversity-qiime2_bac//weighted_unifrac_genus.RDS \n",
      "\n"
     ]
    }
   ],
   "source": [
    "# phylo distance matrices\n",
    "cmd = \"qiime tools export --output-path %s --input-path %s\"\n",
    "\n",
    "for(f in files){\n",
    "    # export qza to tsv\n",
    "    cmd_tmp = sprintf(cmd, core_metrics_phylo_dir, f)\n",
    "    cat(cmd_tmp, '\\n')\n",
    "    bash_job(cmd_tmp, conda_env)    \n",
    "          \n",
    "    # convert tsv to data.frame RDS\n",
    "    exported_file = file.path(core_metrics_phylo_dir, 'distance-matrix.tsv')\n",
    "    d = read.delim(exported_file, sep='\\t', row.names=1) %>% as.dist\n",
    "    final_file = gsub('_distance_matrix.+', '_genus.RDS', f)\n",
    "    final_file = file.path(work_dir, basename(final_file))\n",
    "    saveRDS(d, final_file)\n",
    "    cat('\\nFile written:', final_file, '\\n\\n')\n",
    "}"
   ]
  },
  {
   "cell_type": "markdown",
   "metadata": {},
   "source": [
    "### Compiling into a list"
   ]
  },
  {
   "cell_type": "code",
   "execution_count": 47,
   "metadata": {
    "ExecuteTime": {
     "end_time": "2020-08-29T11:08:26.885946Z",
     "start_time": "2020-08-29T11:04:17.670Z"
    }
   },
   "outputs": [
    {
     "name": "stdout",
     "output_type": "stream",
     "text": [
      "File written: /ebio/abt3_projects/Georg_animal_feces/data/16S_arch/MiSeq-Runs-116-122-126-189-190/LLA/arch-bac/diversity-qiime2_bac//beta_div_genus.RDS \n"
     ]
    }
   ],
   "source": [
    "beta_div = list(\n",
    "   'bray_curtis' = 'bray_curtis_genus.RDS',\n",
    "   'jaccard' = 'jaccard_genus.RDS',\n",
    "   'unweighted_unifrac' = 'unweighted_unifrac_genus.RDS',\n",
    "   'weighted_unifrac' = 'weighted_unifrac_genus.RDS'\n",
    ")\n",
    "\n",
    "beta_div_rds = list()\n",
    "for(n in names(beta_div)){\n",
    "    x = readRDS(file.path(work_dir, beta_div[[n]]))\n",
    "    beta_div_rds[[n]] = x\n",
    "}\n",
    "\n",
    "beta_div_rds_file = file.path(work_dir, 'beta_div_genus.RDS')\n",
    "saveRDS(beta_div_rds, beta_div_rds_file)\n",
    "cat('File written:', beta_div_rds_file, '\\n')"
   ]
  },
  {
   "cell_type": "code",
   "execution_count": 48,
   "metadata": {
    "ExecuteTime": {
     "end_time": "2020-08-29T11:08:26.952614Z",
     "start_time": "2020-08-29T11:04:18.311Z"
    }
   },
   "outputs": [
    {
     "data": {
      "text/html": [
       "<dl>\n",
       "\t<dt>$bray_curtis</dt>\n",
       "\t\t<dd><style>\n",
       ".list-inline {list-style: none; margin:0; padding: 0}\n",
       ".list-inline>li {display: inline-block}\n",
       ".list-inline>li:not(:last-child)::after {content: \"\\00b7\"; padding: 0 .5ex}\n",
       "</style>\n",
       "<ol class=list-inline><li>140</li><li>140</li></ol>\n",
       "</dd>\n",
       "\t<dt>$jaccard</dt>\n",
       "\t\t<dd><style>\n",
       ".list-inline {list-style: none; margin:0; padding: 0}\n",
       ".list-inline>li {display: inline-block}\n",
       ".list-inline>li:not(:last-child)::after {content: \"\\00b7\"; padding: 0 .5ex}\n",
       "</style>\n",
       "<ol class=list-inline><li>140</li><li>140</li></ol>\n",
       "</dd>\n",
       "\t<dt>$unweighted_unifrac</dt>\n",
       "\t\t<dd><style>\n",
       ".list-inline {list-style: none; margin:0; padding: 0}\n",
       ".list-inline>li {display: inline-block}\n",
       ".list-inline>li:not(:last-child)::after {content: \"\\00b7\"; padding: 0 .5ex}\n",
       "</style>\n",
       "<ol class=list-inline><li>140</li><li>140</li></ol>\n",
       "</dd>\n",
       "\t<dt>$weighted_unifrac</dt>\n",
       "\t\t<dd><style>\n",
       ".list-inline {list-style: none; margin:0; padding: 0}\n",
       ".list-inline>li {display: inline-block}\n",
       ".list-inline>li:not(:last-child)::after {content: \"\\00b7\"; padding: 0 .5ex}\n",
       "</style>\n",
       "<ol class=list-inline><li>140</li><li>140</li></ol>\n",
       "</dd>\n",
       "</dl>\n"
      ],
      "text/latex": [
       "\\begin{description}\n",
       "\\item[\\$bray\\_curtis] \\begin{enumerate*}\n",
       "\\item 140\n",
       "\\item 140\n",
       "\\end{enumerate*}\n",
       "\n",
       "\\item[\\$jaccard] \\begin{enumerate*}\n",
       "\\item 140\n",
       "\\item 140\n",
       "\\end{enumerate*}\n",
       "\n",
       "\\item[\\$unweighted\\_unifrac] \\begin{enumerate*}\n",
       "\\item 140\n",
       "\\item 140\n",
       "\\end{enumerate*}\n",
       "\n",
       "\\item[\\$weighted\\_unifrac] \\begin{enumerate*}\n",
       "\\item 140\n",
       "\\item 140\n",
       "\\end{enumerate*}\n",
       "\n",
       "\\end{description}\n"
      ],
      "text/markdown": [
       "$bray_curtis\n",
       ":   1. 140\n",
       "2. 140\n",
       "\n",
       "\n",
       "\n",
       "$jaccard\n",
       ":   1. 140\n",
       "2. 140\n",
       "\n",
       "\n",
       "\n",
       "$unweighted_unifrac\n",
       ":   1. 140\n",
       "2. 140\n",
       "\n",
       "\n",
       "\n",
       "$weighted_unifrac\n",
       ":   1. 140\n",
       "2. 140\n",
       "\n",
       "\n",
       "\n",
       "\n",
       "\n"
      ],
      "text/plain": [
       "$bray_curtis\n",
       "[1] 140 140\n",
       "\n",
       "$jaccard\n",
       "[1] 140 140\n",
       "\n",
       "$unweighted_unifrac\n",
       "[1] 140 140\n",
       "\n",
       "$weighted_unifrac\n",
       "[1] 140 140\n"
      ]
     },
     "metadata": {},
     "output_type": "display_data"
    }
   ],
   "source": [
    "# checking dimensions\n",
    "beta_div_rds %>% \n",
    "    lapply(function(x) dim(as.matrix(x)))"
   ]
  },
  {
   "cell_type": "markdown",
   "metadata": {},
   "source": [
    "# Final files"
   ]
  },
  {
   "cell_type": "code",
   "execution_count": 49,
   "metadata": {
    "ExecuteTime": {
     "end_time": "2020-08-29T11:08:26.979456Z",
     "start_time": "2020-08-29T11:04:19.262Z"
    }
   },
   "outputs": [
    {
     "name": "stdout",
     "output_type": "stream",
     "text": [
      "[1] \"/ebio/abt3_projects/Georg_animal_feces/data/16S_arch/MiSeq-Runs-116-122-126-189-190/LLA/arch-bac/diversity-qiime2_bac//alpha_div_genus.RDS\"\n",
      "[1] \"/ebio/abt3_projects/Georg_animal_feces/data/16S_arch/MiSeq-Runs-116-122-126-189-190/LLA/arch-bac/diversity-qiime2_bac//beta_div_genus.RDS\"\n"
     ]
    }
   ],
   "source": [
    "print(alpha_div_rds_file)\n",
    "print(beta_div_rds_file)"
   ]
  },
  {
   "cell_type": "markdown",
   "metadata": {},
   "source": [
    "# sessionInfo"
   ]
  },
  {
   "cell_type": "code",
   "execution_count": 50,
   "metadata": {
    "ExecuteTime": {
     "end_time": "2020-08-29T11:08:27.082477Z",
     "start_time": "2020-08-29T11:04:20.999Z"
    }
   },
   "outputs": [
    {
     "data": {
      "text/plain": [
       "R version 3.6.3 (2020-02-29)\n",
       "Platform: x86_64-conda_cos6-linux-gnu (64-bit)\n",
       "Running under: Ubuntu 18.04.5 LTS\n",
       "\n",
       "Matrix products: default\n",
       "BLAS/LAPACK: /ebio/abt3_projects/Georg_animal_feces/envs/phyloseq/lib/libopenblasp-r0.3.9.so\n",
       "\n",
       "locale:\n",
       " [1] LC_CTYPE=en_US.UTF-8       LC_NUMERIC=C              \n",
       " [3] LC_TIME=en_US.UTF-8        LC_COLLATE=en_US.UTF-8    \n",
       " [5] LC_MONETARY=en_US.UTF-8    LC_MESSAGES=en_US.UTF-8   \n",
       " [7] LC_PAPER=en_US.UTF-8       LC_NAME=C                 \n",
       " [9] LC_ADDRESS=C               LC_TELEPHONE=C            \n",
       "[11] LC_MEASUREMENT=en_US.UTF-8 LC_IDENTIFICATION=C       \n",
       "\n",
       "attached base packages:\n",
       "[1] stats     graphics  grDevices utils     datasets  methods   base     \n",
       "\n",
       "other attached packages:\n",
       "[1] LeyLabRMisc_0.1.6 ape_5.4           phyloseq_1.30.0   ggplot2_3.3.1    \n",
       "[5] tidyr_1.1.0       dplyr_1.0.0      \n",
       "\n",
       "loaded via a namespace (and not attached):\n",
       " [1] Rcpp_1.0.4.6        lattice_0.20-41     Biostrings_2.54.0  \n",
       " [4] digest_0.6.25       foreach_1.5.0       IRdisplay_0.7.0    \n",
       " [7] R6_2.4.1            plyr_1.8.6          repr_1.1.0         \n",
       "[10] stats4_3.6.3        evaluate_0.14       pillar_1.4.4       \n",
       "[13] zlibbioc_1.32.0     rlang_0.4.6         uuid_0.1-4         \n",
       "[16] data.table_1.12.8   vegan_2.5-6         S4Vectors_0.24.0   \n",
       "[19] Matrix_1.2-18       splines_3.6.3       stringr_1.4.0      \n",
       "[22] igraph_1.2.5        munsell_0.5.0       compiler_3.6.3     \n",
       "[25] pkgconfig_2.0.3     BiocGenerics_0.32.0 base64enc_0.1-3    \n",
       "[28] multtest_2.42.0     mgcv_1.8-31         htmltools_0.4.0    \n",
       "[31] biomformat_1.14.0   tidyselect_1.1.0    tibble_3.0.1       \n",
       "[34] IRanges_2.20.0      codetools_0.2-16    permute_0.9-5      \n",
       "[37] crayon_1.3.4        withr_2.2.0         MASS_7.3-51.6      \n",
       "[40] grid_3.6.3          nlme_3.1-148        jsonlite_1.6.1     \n",
       "[43] gtable_0.3.0        lifecycle_0.2.0     magrittr_1.5       \n",
       "[46] scales_1.1.1        stringi_1.4.6       XVector_0.26.0     \n",
       "[49] reshape2_1.4.4      ellipsis_0.3.1      generics_0.0.2     \n",
       "[52] vctrs_0.3.0         IRkernel_1.1        Rhdf5lib_1.8.0     \n",
       "[55] iterators_1.0.12    tools_3.6.3         ade4_1.7-15        \n",
       "[58] Biobase_2.46.0      glue_1.4.1          purrr_0.3.4        \n",
       "[61] parallel_3.6.3      survival_3.1-12     colorspace_1.4-1   \n",
       "[64] rhdf5_2.30.0        cluster_2.1.0       pbdZMQ_0.3-3       "
      ]
     },
     "metadata": {},
     "output_type": "display_data"
    }
   ],
   "source": [
    "sessionInfo()"
   ]
  },
  {
   "cell_type": "code",
   "execution_count": null,
   "metadata": {},
   "outputs": [],
   "source": []
  }
 ],
 "metadata": {
  "kernelspec": {
   "display_name": "R [conda env:Georg_animal_feces-phyloseq]",
   "language": "R",
   "name": "conda-env-Georg_animal_feces-phyloseq-r"
  },
  "language_info": {
   "codemirror_mode": "r",
   "file_extension": ".r",
   "mimetype": "text/x-r-source",
   "name": "R",
   "pygments_lexer": "r",
   "version": "3.6.3"
  },
  "notify_time": "30",
  "toc": {
   "base_numbering": 1,
   "nav_menu": {},
   "number_sections": true,
   "sideBar": true,
   "skip_h1_title": false,
   "title_cell": "Table of Contents",
   "title_sidebar": "Contents",
   "toc_cell": true,
   "toc_position": {},
   "toc_section_display": true,
   "toc_window_display": true
  }
 },
 "nbformat": 4,
 "nbformat_minor": 4
}
