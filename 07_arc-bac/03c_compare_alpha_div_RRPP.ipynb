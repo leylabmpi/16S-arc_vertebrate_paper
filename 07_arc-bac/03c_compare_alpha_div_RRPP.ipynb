{
 "cells": [
  {
   "cell_type": "markdown",
   "metadata": {
    "toc": true
   },
   "source": [
    "<h1>Table of Contents<span class=\"tocSkip\"></span></h1>\n",
    "<div class=\"toc\"><ul class=\"toc-item\"><li><span><a href=\"#Goal\" data-toc-modified-id=\"Goal-1\"><span class=\"toc-item-num\">1&nbsp;&nbsp;</span>Goal</a></span></li><li><span><a href=\"#Var\" data-toc-modified-id=\"Var-2\"><span class=\"toc-item-num\">2&nbsp;&nbsp;</span>Var</a></span></li><li><span><a href=\"#Init\" data-toc-modified-id=\"Init-3\"><span class=\"toc-item-num\">3&nbsp;&nbsp;</span>Init</a></span></li><li><span><a href=\"#Load\" data-toc-modified-id=\"Load-4\"><span class=\"toc-item-num\">4&nbsp;&nbsp;</span>Load</a></span><ul class=\"toc-item\"><li><span><a href=\"#Host-phylogeny\" data-toc-modified-id=\"Host-phylogeny-4.1\"><span class=\"toc-item-num\">4.1&nbsp;&nbsp;</span>Host phylogeny</a></span></li></ul></li><li><span><a href=\"#Formatting\" data-toc-modified-id=\"Formatting-5\"><span class=\"toc-item-num\">5&nbsp;&nbsp;</span>Formatting</a></span></li><li><span><a href=\"#Tree-subsample\" data-toc-modified-id=\"Tree-subsample-6\"><span class=\"toc-item-num\">6&nbsp;&nbsp;</span>Tree subsample</a></span></li><li><span><a href=\"#RRPP:-archaea-bacteria\" data-toc-modified-id=\"RRPP:-archaea-bacteria-7\"><span class=\"toc-item-num\">7&nbsp;&nbsp;</span>RRPP: archaea-bacteria</a></span><ul class=\"toc-item\"><li><span><a href=\"#archaea:-observed-OTUs\" data-toc-modified-id=\"archaea:-observed-OTUs-7.1\"><span class=\"toc-item-num\">7.1&nbsp;&nbsp;</span>archaea: observed OTUs</a></span></li><li><span><a href=\"#archaea:-shannon\" data-toc-modified-id=\"archaea:-shannon-7.2\"><span class=\"toc-item-num\">7.2&nbsp;&nbsp;</span>archaea: shannon</a></span></li><li><span><a href=\"#archaea:-faith's-PD\" data-toc-modified-id=\"archaea:-faith's-PD-7.3\"><span class=\"toc-item-num\">7.3&nbsp;&nbsp;</span>archaea: faith's PD</a></span></li><li><span><a href=\"#archaea:-Pielou's-E\" data-toc-modified-id=\"archaea:-Pielou's-E-7.4\"><span class=\"toc-item-num\">7.4&nbsp;&nbsp;</span>archaea: Pielou's E</a></span></li></ul></li><li><span><a href=\"#RRPP:-diet\" data-toc-modified-id=\"RRPP:-diet-8\"><span class=\"toc-item-num\">8&nbsp;&nbsp;</span>RRPP: diet</a></span><ul class=\"toc-item\"><li><span><a href=\"#Saving-results\" data-toc-modified-id=\"Saving-results-8.1\"><span class=\"toc-item-num\">8.1&nbsp;&nbsp;</span>Saving results</a></span></li><li><span><a href=\"#Summary\" data-toc-modified-id=\"Summary-8.2\"><span class=\"toc-item-num\">8.2&nbsp;&nbsp;</span>Summary</a></span></li></ul></li><li><span><a href=\"#RRPP:-digestive-system\" data-toc-modified-id=\"RRPP:-digestive-system-9\"><span class=\"toc-item-num\">9&nbsp;&nbsp;</span>RRPP: digestive system</a></span><ul class=\"toc-item\"><li><span><a href=\"#Saving-results\" data-toc-modified-id=\"Saving-results-9.1\"><span class=\"toc-item-num\">9.1&nbsp;&nbsp;</span>Saving results</a></span></li><li><span><a href=\"#Summary\" data-toc-modified-id=\"Summary-9.2\"><span class=\"toc-item-num\">9.2&nbsp;&nbsp;</span>Summary</a></span></li></ul></li><li><span><a href=\"#sessionInfo\" data-toc-modified-id=\"sessionInfo-10\"><span class=\"toc-item-num\">10&nbsp;&nbsp;</span>sessionInfo</a></span></li></ul></div>"
   ]
  },
  {
   "cell_type": "markdown",
   "metadata": {},
   "source": [
    "# Goal\n",
    "\n",
    "* Determine whether bacterial and archaeal alpha diversity significantly correlate"
   ]
  },
  {
   "cell_type": "markdown",
   "metadata": {},
   "source": [
    "# Var"
   ]
  },
  {
   "cell_type": "code",
   "execution_count": 1,
   "metadata": {
    "ExecuteTime": {
     "end_time": "2020-08-28T13:59:10.330473Z",
     "start_time": "2020-08-28T13:59:10.223Z"
    }
   },
   "outputs": [],
   "source": [
    "work_dir = '/ebio/abt3_projects/Georg_animal_feces/data/16S_arch/MiSeq-Runs-116-122-126-189-190/LLA/arch-bac/diversity-qiime2/'\n",
    "\n",
    "# alpha diversity (calculated via qiime2)\n",
    "alpha_div_arc_file = '/ebio/abt3_projects/Georg_animal_feces/data/16S_arch/MiSeq-Runs-116-122-126-189-190/LLA/arch-bac/diversity-qiime2_arc/alpha_div.RDS'\n",
    "alpha_div_bac_file = '/ebio/abt3_projects/Georg_animal_feces/data/16S_arch/MiSeq-Runs-116-122-126-189-190/LLA/arch-bac/diversity-qiime2_bac/alpha_div.RDS'\n",
    "\n",
    "# 16S-arch phyloseq object; rarefied\n",
    "physeq_arc_file = '/ebio/abt3_projects/Georg_animal_feces/data/16S_arch/MiSeq-Runs-116-122-126-189-190/LLA/arch-bac/physeq_arch_arc-bac_r250.RDS'\n",
    "# 16S-bac phyloseq object; rarefied\n",
    "physeq_bac_file = '/ebio/abt3_projects/Georg_animal_feces/data/16S_arch/MiSeq-Runs-116-122-126-189-190/LLA/arch-bac/physeq_bac_arc-bac_r5k.RDS'\n",
    "\n",
    "# host phylogeny\n",
    "host_tree_IndD_file = '/ebio/abt3_projects/Georg_animal_feces/data/animal/phylogeny/TT/unified_metadata_complete_200429_16S-arch_IndD.nwk'\n",
    "\n",
    "# params\n",
    "threads = 8"
   ]
  },
  {
   "cell_type": "markdown",
   "metadata": {},
   "source": [
    "# Init"
   ]
  },
  {
   "cell_type": "code",
   "execution_count": 2,
   "metadata": {
    "ExecuteTime": {
     "end_time": "2020-08-28T13:59:18.565796Z",
     "start_time": "2020-08-28T13:59:10.228Z"
    }
   },
   "outputs": [
    {
     "name": "stderr",
     "output_type": "stream",
     "text": [
      "\n",
      "Attaching package: ‘dplyr’\n",
      "\n",
      "\n",
      "The following objects are masked from ‘package:stats’:\n",
      "\n",
      "    filter, lag\n",
      "\n",
      "\n",
      "The following objects are masked from ‘package:base’:\n",
      "\n",
      "    intersect, setdiff, setequal, union\n",
      "\n",
      "\n",
      "\n",
      "Attaching package: ‘RRPP’\n",
      "\n",
      "\n",
      "The following object is masked from ‘package:phyloseq’:\n",
      "\n",
      "    ordinate\n",
      "\n",
      "\n"
     ]
    }
   ],
   "source": [
    "library(dplyr)\n",
    "library(tidyr)\n",
    "library(ggplot2)\n",
    "\n",
    "library(phyloseq)\n",
    "library(ape)\n",
    "library(phyloseq)\n",
    "library(RRPP)\n",
    "\n",
    "library(LeyLabRMisc)"
   ]
  },
  {
   "cell_type": "code",
   "execution_count": 3,
   "metadata": {
    "ExecuteTime": {
     "end_time": "2020-08-28T13:59:18.595520Z",
     "start_time": "2020-08-28T13:59:10.231Z"
    }
   },
   "outputs": [
    {
     "name": "stdout",
     "output_type": "stream",
     "text": [
      "Directory already exists: /ebio/abt3_projects/Georg_animal_feces/data/16S_arch/MiSeq-Runs-116-122-126-189-190/LLA/arch-bac/diversity-qiime2/ \n"
     ]
    }
   ],
   "source": [
    "df.dims()\n",
    "make_dir(work_dir)"
   ]
  },
  {
   "cell_type": "markdown",
   "metadata": {},
   "source": [
    "# Load"
   ]
  },
  {
   "cell_type": "code",
   "execution_count": 4,
   "metadata": {
    "ExecuteTime": {
     "end_time": "2020-08-28T13:59:18.792093Z",
     "start_time": "2020-08-28T13:59:10.239Z"
    }
   },
   "outputs": [
    {
     "data": {
      "text/html": [
       "<table>\n",
       "<caption>A tibble: 140 × 18</caption>\n",
       "<thead>\n",
       "\t<tr><th scope=col>SampleID</th><th scope=col>class</th><th scope=col>order</th><th scope=col>family</th><th scope=col>genus</th><th scope=col>scientific_name</th><th scope=col>habitat</th><th scope=col>sample_type</th><th scope=col>diet</th><th scope=col>diet_vertebrate</th><th scope=col>diet_invertebrate</th><th scope=col>diet_fruit</th><th scope=col>diet_flowers_nectar_pollen</th><th scope=col>diet_leaves_branches_bark_buds</th><th scope=col>diet_seeds</th><th scope=col>diet_grass_waterplants</th><th scope=col>diet_roots_tubers</th><th scope=col>digestive_system</th></tr>\n",
       "\t<tr><th scope=col>&lt;chr&gt;</th><th scope=col>&lt;chr&gt;</th><th scope=col>&lt;chr&gt;</th><th scope=col>&lt;chr&gt;</th><th scope=col>&lt;chr&gt;</th><th scope=col>&lt;chr&gt;</th><th scope=col>&lt;chr&gt;</th><th scope=col>&lt;chr&gt;</th><th scope=col>&lt;chr&gt;</th><th scope=col>&lt;chr&gt;</th><th scope=col>&lt;chr&gt;</th><th scope=col>&lt;chr&gt;</th><th scope=col>&lt;chr&gt;</th><th scope=col>&lt;chr&gt;</th><th scope=col>&lt;chr&gt;</th><th scope=col>&lt;chr&gt;</th><th scope=col>&lt;chr&gt;</th><th scope=col>&lt;chr&gt;</th></tr>\n",
       "</thead>\n",
       "<tbody>\n",
       "\t<tr><td>F35_Red_Deer</td><td>Mammalia</td><td>Artiodactyla</td><td>Cervidae</td><td>Cervus</td><td>Cervus_elaphus</td><td>terrestrial habitat</td><td>feces</td><td>herbivore</td><td>no</td><td>no</td><td>yes</td><td>no</td><td>yes</td><td>yes</td><td>yes</td><td>yes</td><td>foregut</td></tr>\n",
       "\t<tr><td>F36_Red_Deer</td><td>Mammalia</td><td>Artiodactyla</td><td>Cervidae</td><td>Cervus</td><td>Cervus_elaphus</td><td>terrestrial habitat</td><td>feces</td><td>herbivore</td><td>no</td><td>no</td><td>yes</td><td>no</td><td>yes</td><td>yes</td><td>yes</td><td>yes</td><td>foregut</td></tr>\n",
       "\t<tr><td>⋮</td><td>⋮</td><td>⋮</td><td>⋮</td><td>⋮</td><td>⋮</td><td>⋮</td><td>⋮</td><td>⋮</td><td>⋮</td><td>⋮</td><td>⋮</td><td>⋮</td><td>⋮</td><td>⋮</td><td>⋮</td><td>⋮</td><td>⋮</td></tr>\n",
       "\t<tr><td>X431_Quagga     </td><td>Mammalia</td><td>Perissodactyla</td><td>Equidae </td><td>Equus    </td><td>Equus_quagga       </td><td>terrestrial habitat</td><td>feces</td><td>herbivore</td><td>no</td><td>no</td><td>no </td><td>no</td><td>no </td><td>yes</td><td>yes</td><td>no</td><td>hindgut</td></tr>\n",
       "\t<tr><td>X67_European_Roe</td><td>Mammalia</td><td>Artiodactyla  </td><td>Cervidae</td><td>Capreolus</td><td>Capreolus_capreolus</td><td>terrestrial habitat</td><td>feces</td><td>herbivore</td><td>no</td><td>no</td><td>yes</td><td>no</td><td>yes</td><td>yes</td><td>yes</td><td>no</td><td>foregut</td></tr>\n",
       "</tbody>\n",
       "</table>\n"
      ],
      "text/latex": [
       "A tibble: 140 × 18\n",
       "\\begin{tabular}{llllllllllllllllll}\n",
       " SampleID & class & order & family & genus & scientific\\_name & habitat & sample\\_type & diet & diet\\_vertebrate & diet\\_invertebrate & diet\\_fruit & diet\\_flowers\\_nectar\\_pollen & diet\\_leaves\\_branches\\_bark\\_buds & diet\\_seeds & diet\\_grass\\_waterplants & diet\\_roots\\_tubers & digestive\\_system\\\\\n",
       " <chr> & <chr> & <chr> & <chr> & <chr> & <chr> & <chr> & <chr> & <chr> & <chr> & <chr> & <chr> & <chr> & <chr> & <chr> & <chr> & <chr> & <chr>\\\\\n",
       "\\hline\n",
       "\t F35\\_Red\\_Deer & Mammalia & Artiodactyla & Cervidae & Cervus & Cervus\\_elaphus & terrestrial habitat & feces & herbivore & no & no & yes & no & yes & yes & yes & yes & foregut\\\\\n",
       "\t F36\\_Red\\_Deer & Mammalia & Artiodactyla & Cervidae & Cervus & Cervus\\_elaphus & terrestrial habitat & feces & herbivore & no & no & yes & no & yes & yes & yes & yes & foregut\\\\\n",
       "\t ⋮ & ⋮ & ⋮ & ⋮ & ⋮ & ⋮ & ⋮ & ⋮ & ⋮ & ⋮ & ⋮ & ⋮ & ⋮ & ⋮ & ⋮ & ⋮ & ⋮ & ⋮\\\\\n",
       "\t X431\\_Quagga      & Mammalia & Perissodactyla & Equidae  & Equus     & Equus\\_quagga        & terrestrial habitat & feces & herbivore & no & no & no  & no & no  & yes & yes & no & hindgut\\\\\n",
       "\t X67\\_European\\_Roe & Mammalia & Artiodactyla   & Cervidae & Capreolus & Capreolus\\_capreolus & terrestrial habitat & feces & herbivore & no & no & yes & no & yes & yes & yes & no & foregut\\\\\n",
       "\\end{tabular}\n"
      ],
      "text/markdown": [
       "\n",
       "A tibble: 140 × 18\n",
       "\n",
       "| SampleID &lt;chr&gt; | class &lt;chr&gt; | order &lt;chr&gt; | family &lt;chr&gt; | genus &lt;chr&gt; | scientific_name &lt;chr&gt; | habitat &lt;chr&gt; | sample_type &lt;chr&gt; | diet &lt;chr&gt; | diet_vertebrate &lt;chr&gt; | diet_invertebrate &lt;chr&gt; | diet_fruit &lt;chr&gt; | diet_flowers_nectar_pollen &lt;chr&gt; | diet_leaves_branches_bark_buds &lt;chr&gt; | diet_seeds &lt;chr&gt; | diet_grass_waterplants &lt;chr&gt; | diet_roots_tubers &lt;chr&gt; | digestive_system &lt;chr&gt; |\n",
       "|---|---|---|---|---|---|---|---|---|---|---|---|---|---|---|---|---|---|\n",
       "| F35_Red_Deer | Mammalia | Artiodactyla | Cervidae | Cervus | Cervus_elaphus | terrestrial habitat | feces | herbivore | no | no | yes | no | yes | yes | yes | yes | foregut |\n",
       "| F36_Red_Deer | Mammalia | Artiodactyla | Cervidae | Cervus | Cervus_elaphus | terrestrial habitat | feces | herbivore | no | no | yes | no | yes | yes | yes | yes | foregut |\n",
       "| ⋮ | ⋮ | ⋮ | ⋮ | ⋮ | ⋮ | ⋮ | ⋮ | ⋮ | ⋮ | ⋮ | ⋮ | ⋮ | ⋮ | ⋮ | ⋮ | ⋮ | ⋮ |\n",
       "| X431_Quagga      | Mammalia | Perissodactyla | Equidae  | Equus     | Equus_quagga        | terrestrial habitat | feces | herbivore | no | no | no  | no | no  | yes | yes | no | hindgut |\n",
       "| X67_European_Roe | Mammalia | Artiodactyla   | Cervidae | Capreolus | Capreolus_capreolus | terrestrial habitat | feces | herbivore | no | no | yes | no | yes | yes | yes | no | foregut |\n",
       "\n"
      ],
      "text/plain": [
       "    SampleID         class    order          family   genus    \n",
       "1   F35_Red_Deer     Mammalia Artiodactyla   Cervidae Cervus   \n",
       "2   F36_Red_Deer     Mammalia Artiodactyla   Cervidae Cervus   \n",
       "⋮   ⋮                ⋮        ⋮              ⋮        ⋮        \n",
       "139 X431_Quagga      Mammalia Perissodactyla Equidae  Equus    \n",
       "140 X67_European_Roe Mammalia Artiodactyla   Cervidae Capreolus\n",
       "    scientific_name     habitat             sample_type diet     \n",
       "1   Cervus_elaphus      terrestrial habitat feces       herbivore\n",
       "2   Cervus_elaphus      terrestrial habitat feces       herbivore\n",
       "⋮   ⋮                   ⋮                   ⋮           ⋮        \n",
       "139 Equus_quagga        terrestrial habitat feces       herbivore\n",
       "140 Capreolus_capreolus terrestrial habitat feces       herbivore\n",
       "    diet_vertebrate diet_invertebrate diet_fruit diet_flowers_nectar_pollen\n",
       "1   no              no                yes        no                        \n",
       "2   no              no                yes        no                        \n",
       "⋮   ⋮               ⋮                 ⋮          ⋮                         \n",
       "139 no              no                no         no                        \n",
       "140 no              no                yes        no                        \n",
       "    diet_leaves_branches_bark_buds diet_seeds diet_grass_waterplants\n",
       "1   yes                            yes        yes                   \n",
       "2   yes                            yes        yes                   \n",
       "⋮   ⋮                              ⋮          ⋮                     \n",
       "139 no                             yes        yes                   \n",
       "140 yes                            yes        yes                   \n",
       "    diet_roots_tubers digestive_system\n",
       "1   yes               foregut         \n",
       "2   yes               foregut         \n",
       "⋮   ⋮                 ⋮               \n",
       "139 no                hindgut         \n",
       "140 no                foregut         "
      ]
     },
     "metadata": {},
     "output_type": "display_data"
    }
   ],
   "source": [
    "# loading phyloseq object\n",
    "meta = readRDS(physeq_arc_file) %>%\n",
    "    phyloseq2df(sample_data) %>%\n",
    "    dplyr::select(SampleID, class, order, family, genus, scientific_name,\n",
    "                  habitat, sample_type, diet, diet_vertebrate, diet_invertebrate, \n",
    "                  diet_fruit, diet_flowers_nectar_pollen, diet_leaves_branches_bark_buds,\n",
    "                  diet_seeds,diet_grass_waterplants, diet_roots_tubers, digestive_system) %>%\n",
    "    mutate(digestive_system = gsub('fermentation activity ', '', digestive_system))\n",
    "meta "
   ]
  },
  {
   "cell_type": "code",
   "execution_count": 5,
   "metadata": {
    "ExecuteTime": {
     "end_time": "2020-08-28T13:59:18.875987Z",
     "start_time": "2020-08-28T13:59:10.243Z"
    }
   },
   "outputs": [
    {
     "data": {
      "text/html": [
       "<table>\n",
       "<caption>A data.frame: 140 × 6</caption>\n",
       "<thead>\n",
       "\t<tr><th scope=col>pielou_e</th><th scope=col>observed_otus</th><th scope=col>shannon</th><th scope=col>faith_pd</th><th scope=col>sample</th><th scope=col>domain</th></tr>\n",
       "\t<tr><th scope=col>&lt;dbl&gt;</th><th scope=col>&lt;int&gt;</th><th scope=col>&lt;dbl&gt;</th><th scope=col>&lt;dbl&gt;</th><th scope=col>&lt;chr&gt;</th><th scope=col>&lt;chr&gt;</th></tr>\n",
       "</thead>\n",
       "<tbody>\n",
       "\t<tr><td>0.8871942</td><td>19</td><td>3.768737</td><td>3.337468</td><td>F35_Red_Deer</td><td>arc</td></tr>\n",
       "\t<tr><td>0.7740296</td><td>24</td><td>3.548897</td><td>2.053696</td><td>F36_Red_Deer</td><td>arc</td></tr>\n",
       "\t<tr><td>⋮</td><td>⋮</td><td>⋮</td><td>⋮</td><td>⋮</td><td>⋮</td></tr>\n",
       "\t<tr><td>0.7268046</td><td>17</td><td>2.970787</td><td>3.292932</td><td>X431_Quagga     </td><td>arc</td></tr>\n",
       "\t<tr><td>0.6858541</td><td> 6</td><td>1.772907</td><td>2.077323</td><td>X67_European_Roe</td><td>arc</td></tr>\n",
       "</tbody>\n",
       "</table>\n"
      ],
      "text/latex": [
       "A data.frame: 140 × 6\n",
       "\\begin{tabular}{llllll}\n",
       " pielou\\_e & observed\\_otus & shannon & faith\\_pd & sample & domain\\\\\n",
       " <dbl> & <int> & <dbl> & <dbl> & <chr> & <chr>\\\\\n",
       "\\hline\n",
       "\t 0.8871942 & 19 & 3.768737 & 3.337468 & F35\\_Red\\_Deer & arc\\\\\n",
       "\t 0.7740296 & 24 & 3.548897 & 2.053696 & F36\\_Red\\_Deer & arc\\\\\n",
       "\t ⋮ & ⋮ & ⋮ & ⋮ & ⋮ & ⋮\\\\\n",
       "\t 0.7268046 & 17 & 2.970787 & 3.292932 & X431\\_Quagga      & arc\\\\\n",
       "\t 0.6858541 &  6 & 1.772907 & 2.077323 & X67\\_European\\_Roe & arc\\\\\n",
       "\\end{tabular}\n"
      ],
      "text/markdown": [
       "\n",
       "A data.frame: 140 × 6\n",
       "\n",
       "| pielou_e &lt;dbl&gt; | observed_otus &lt;int&gt; | shannon &lt;dbl&gt; | faith_pd &lt;dbl&gt; | sample &lt;chr&gt; | domain &lt;chr&gt; |\n",
       "|---|---|---|---|---|---|\n",
       "| 0.8871942 | 19 | 3.768737 | 3.337468 | F35_Red_Deer | arc |\n",
       "| 0.7740296 | 24 | 3.548897 | 2.053696 | F36_Red_Deer | arc |\n",
       "| ⋮ | ⋮ | ⋮ | ⋮ | ⋮ | ⋮ |\n",
       "| 0.7268046 | 17 | 2.970787 | 3.292932 | X431_Quagga      | arc |\n",
       "| 0.6858541 |  6 | 1.772907 | 2.077323 | X67_European_Roe | arc |\n",
       "\n"
      ],
      "text/plain": [
       "    pielou_e  observed_otus shannon  faith_pd sample           domain\n",
       "1   0.8871942 19            3.768737 3.337468 F35_Red_Deer     arc   \n",
       "2   0.7740296 24            3.548897 2.053696 F36_Red_Deer     arc   \n",
       "⋮   ⋮         ⋮             ⋮        ⋮        ⋮                ⋮     \n",
       "139 0.7268046 17            2.970787 3.292932 X431_Quagga      arc   \n",
       "140 0.6858541  6            1.772907 2.077323 X67_European_Roe arc   "
      ]
     },
     "metadata": {},
     "output_type": "display_data"
    }
   ],
   "source": [
    "# archaea\n",
    "alpha_div_arc = readRDS(alpha_div_arc_file) %>%\n",
    "    do.call(cbind, .) %>%\n",
    "    mutate(sample = rownames(.),\n",
    "           domain = 'arc')\n",
    "alpha_div_arc "
   ]
  },
  {
   "cell_type": "code",
   "execution_count": 6,
   "metadata": {
    "ExecuteTime": {
     "end_time": "2020-08-28T13:59:18.932153Z",
     "start_time": "2020-08-28T13:59:10.248Z"
    }
   },
   "outputs": [
    {
     "data": {
      "text/html": [
       "<table>\n",
       "<caption>A data.frame: 140 × 6</caption>\n",
       "<thead>\n",
       "\t<tr><th scope=col>pielou_e</th><th scope=col>observed_otus</th><th scope=col>shannon</th><th scope=col>faith_pd</th><th scope=col>sample</th><th scope=col>domain</th></tr>\n",
       "\t<tr><th scope=col>&lt;dbl&gt;</th><th scope=col>&lt;int&gt;</th><th scope=col>&lt;dbl&gt;</th><th scope=col>&lt;dbl&gt;</th><th scope=col>&lt;chr&gt;</th><th scope=col>&lt;chr&gt;</th></tr>\n",
       "</thead>\n",
       "<tbody>\n",
       "\t<tr><td>0.9063688</td><td>923</td><td>8.927902</td><td>58.02722</td><td>X101_Horse</td><td>bac</td></tr>\n",
       "\t<tr><td>0.8540870</td><td>418</td><td>7.436842</td><td>35.97990</td><td>X102_Kulan</td><td>bac</td></tr>\n",
       "\t<tr><td>⋮</td><td>⋮</td><td>⋮</td><td>⋮</td><td>⋮</td><td>⋮</td></tr>\n",
       "\t<tr><td>0.8641072</td><td>933</td><td>8.525051</td><td>42.044094</td><td>F80_Red_Deer    </td><td>bac</td></tr>\n",
       "\t<tr><td>0.7077964</td><td> 72</td><td>4.367051</td><td> 8.306462</td><td>F90_Domestic_Dog</td><td>bac</td></tr>\n",
       "</tbody>\n",
       "</table>\n"
      ],
      "text/latex": [
       "A data.frame: 140 × 6\n",
       "\\begin{tabular}{llllll}\n",
       " pielou\\_e & observed\\_otus & shannon & faith\\_pd & sample & domain\\\\\n",
       " <dbl> & <int> & <dbl> & <dbl> & <chr> & <chr>\\\\\n",
       "\\hline\n",
       "\t 0.9063688 & 923 & 8.927902 & 58.02722 & X101\\_Horse & bac\\\\\n",
       "\t 0.8540870 & 418 & 7.436842 & 35.97990 & X102\\_Kulan & bac\\\\\n",
       "\t ⋮ & ⋮ & ⋮ & ⋮ & ⋮ & ⋮\\\\\n",
       "\t 0.8641072 & 933 & 8.525051 & 42.044094 & F80\\_Red\\_Deer     & bac\\\\\n",
       "\t 0.7077964 &  72 & 4.367051 &  8.306462 & F90\\_Domestic\\_Dog & bac\\\\\n",
       "\\end{tabular}\n"
      ],
      "text/markdown": [
       "\n",
       "A data.frame: 140 × 6\n",
       "\n",
       "| pielou_e &lt;dbl&gt; | observed_otus &lt;int&gt; | shannon &lt;dbl&gt; | faith_pd &lt;dbl&gt; | sample &lt;chr&gt; | domain &lt;chr&gt; |\n",
       "|---|---|---|---|---|---|\n",
       "| 0.9063688 | 923 | 8.927902 | 58.02722 | X101_Horse | bac |\n",
       "| 0.8540870 | 418 | 7.436842 | 35.97990 | X102_Kulan | bac |\n",
       "| ⋮ | ⋮ | ⋮ | ⋮ | ⋮ | ⋮ |\n",
       "| 0.8641072 | 933 | 8.525051 | 42.044094 | F80_Red_Deer     | bac |\n",
       "| 0.7077964 |  72 | 4.367051 |  8.306462 | F90_Domestic_Dog | bac |\n",
       "\n"
      ],
      "text/plain": [
       "    pielou_e  observed_otus shannon  faith_pd  sample           domain\n",
       "1   0.9063688 923           8.927902 58.02722  X101_Horse       bac   \n",
       "2   0.8540870 418           7.436842 35.97990  X102_Kulan       bac   \n",
       "⋮   ⋮         ⋮             ⋮        ⋮         ⋮                ⋮     \n",
       "139 0.8641072 933           8.525051 42.044094 F80_Red_Deer     bac   \n",
       "140 0.7077964  72           4.367051  8.306462 F90_Domestic_Dog bac   "
      ]
     },
     "metadata": {},
     "output_type": "display_data"
    }
   ],
   "source": [
    "# bacteria\n",
    "alpha_div_bac = readRDS(alpha_div_bac_file) %>%\n",
    "    do.call(cbind, .) %>%\n",
    "    mutate(sample = rownames(.),\n",
    "           domain = 'bac')\n",
    "alpha_div_bac "
   ]
  },
  {
   "cell_type": "code",
   "execution_count": 7,
   "metadata": {
    "ExecuteTime": {
     "end_time": "2020-08-28T13:59:18.989010Z",
     "start_time": "2020-08-28T13:59:10.252Z"
    }
   },
   "outputs": [
    {
     "name": "stdout",
     "output_type": "stream",
     "text": [
      "intersect(x,y): 140 \n",
      "setdiff(x,y): 0 \n",
      "setdiff(y,x): 0 \n",
      "union(x,y): 140 \n"
     ]
    },
    {
     "data": {
      "text/html": [
       "<table>\n",
       "<caption>A data.frame: 1120 × 4</caption>\n",
       "<thead>\n",
       "\t<tr><th scope=col>sample</th><th scope=col>domain</th><th scope=col>alpha_div_metric</th><th scope=col>alpha_div_value</th></tr>\n",
       "\t<tr><th scope=col>&lt;chr&gt;</th><th scope=col>&lt;chr&gt;</th><th scope=col>&lt;chr&gt;</th><th scope=col>&lt;dbl&gt;</th></tr>\n",
       "</thead>\n",
       "<tbody>\n",
       "\t<tr><td>F35_Red_Deer</td><td>arc</td><td>pielou_e</td><td>0.8871942</td></tr>\n",
       "\t<tr><td>F36_Red_Deer</td><td>arc</td><td>pielou_e</td><td>0.7740296</td></tr>\n",
       "\t<tr><td>⋮</td><td>⋮</td><td>⋮</td><td>⋮</td></tr>\n",
       "\t<tr><td>F80_Red_Deer    </td><td>bac</td><td>faith_pd</td><td>42.044094</td></tr>\n",
       "\t<tr><td>F90_Domestic_Dog</td><td>bac</td><td>faith_pd</td><td> 8.306462</td></tr>\n",
       "</tbody>\n",
       "</table>\n"
      ],
      "text/latex": [
       "A data.frame: 1120 × 4\n",
       "\\begin{tabular}{llll}\n",
       " sample & domain & alpha\\_div\\_metric & alpha\\_div\\_value\\\\\n",
       " <chr> & <chr> & <chr> & <dbl>\\\\\n",
       "\\hline\n",
       "\t F35\\_Red\\_Deer & arc & pielou\\_e & 0.8871942\\\\\n",
       "\t F36\\_Red\\_Deer & arc & pielou\\_e & 0.7740296\\\\\n",
       "\t ⋮ & ⋮ & ⋮ & ⋮\\\\\n",
       "\t F80\\_Red\\_Deer     & bac & faith\\_pd & 42.044094\\\\\n",
       "\t F90\\_Domestic\\_Dog & bac & faith\\_pd &  8.306462\\\\\n",
       "\\end{tabular}\n"
      ],
      "text/markdown": [
       "\n",
       "A data.frame: 1120 × 4\n",
       "\n",
       "| sample &lt;chr&gt; | domain &lt;chr&gt; | alpha_div_metric &lt;chr&gt; | alpha_div_value &lt;dbl&gt; |\n",
       "|---|---|---|---|\n",
       "| F35_Red_Deer | arc | pielou_e | 0.8871942 |\n",
       "| F36_Red_Deer | arc | pielou_e | 0.7740296 |\n",
       "| ⋮ | ⋮ | ⋮ | ⋮ |\n",
       "| F80_Red_Deer     | bac | faith_pd | 42.044094 |\n",
       "| F90_Domestic_Dog | bac | faith_pd |  8.306462 |\n",
       "\n"
      ],
      "text/plain": [
       "     sample           domain alpha_div_metric alpha_div_value\n",
       "1    F35_Red_Deer     arc    pielou_e         0.8871942      \n",
       "2    F36_Red_Deer     arc    pielou_e         0.7740296      \n",
       "⋮    ⋮                ⋮      ⋮                ⋮              \n",
       "1119 F80_Red_Deer     bac    faith_pd         42.044094      \n",
       "1120 F90_Domestic_Dog bac    faith_pd          8.306462      "
      ]
     },
     "metadata": {},
     "output_type": "display_data"
    }
   ],
   "source": [
    "# combined\n",
    "overlap(alpha_div_arc$sample, alpha_div_bac$sample)\n",
    "alpha_div = rbind(alpha_div_arc, alpha_div_bac) %>%\n",
    "    gather(alpha_div_metric, alpha_div_value, -sample, -domain)\n",
    "alpha_div"
   ]
  },
  {
   "cell_type": "code",
   "execution_count": 8,
   "metadata": {
    "ExecuteTime": {
     "end_time": "2020-08-28T13:59:19.076423Z",
     "start_time": "2020-08-28T13:59:10.258Z"
    }
   },
   "outputs": [
    {
     "name": "stdout",
     "output_type": "stream",
     "text": [
      "intersect(x,y): 140 \n",
      "setdiff(x,y): 0 \n",
      "setdiff(y,x): 0 \n",
      "union(x,y): 140 \n"
     ]
    },
    {
     "data": {
      "text/html": [
       "<table>\n",
       "<caption>A data.frame: 1120 × 21</caption>\n",
       "<thead>\n",
       "\t<tr><th scope=col>sample</th><th scope=col>domain</th><th scope=col>alpha_div_metric</th><th scope=col>alpha_div_value</th><th scope=col>class</th><th scope=col>order</th><th scope=col>family</th><th scope=col>genus</th><th scope=col>scientific_name</th><th scope=col>habitat</th><th scope=col>⋯</th><th scope=col>diet</th><th scope=col>diet_vertebrate</th><th scope=col>diet_invertebrate</th><th scope=col>diet_fruit</th><th scope=col>diet_flowers_nectar_pollen</th><th scope=col>diet_leaves_branches_bark_buds</th><th scope=col>diet_seeds</th><th scope=col>diet_grass_waterplants</th><th scope=col>diet_roots_tubers</th><th scope=col>digestive_system</th></tr>\n",
       "\t<tr><th scope=col>&lt;chr&gt;</th><th scope=col>&lt;chr&gt;</th><th scope=col>&lt;chr&gt;</th><th scope=col>&lt;dbl&gt;</th><th scope=col>&lt;chr&gt;</th><th scope=col>&lt;chr&gt;</th><th scope=col>&lt;chr&gt;</th><th scope=col>&lt;chr&gt;</th><th scope=col>&lt;chr&gt;</th><th scope=col>&lt;chr&gt;</th><th scope=col>⋯</th><th scope=col>&lt;chr&gt;</th><th scope=col>&lt;chr&gt;</th><th scope=col>&lt;chr&gt;</th><th scope=col>&lt;chr&gt;</th><th scope=col>&lt;chr&gt;</th><th scope=col>&lt;chr&gt;</th><th scope=col>&lt;chr&gt;</th><th scope=col>&lt;chr&gt;</th><th scope=col>&lt;chr&gt;</th><th scope=col>&lt;chr&gt;</th></tr>\n",
       "</thead>\n",
       "<tbody>\n",
       "\t<tr><td>F35_Red_Deer</td><td>arc</td><td>pielou_e</td><td>0.8871942</td><td>Mammalia</td><td>Artiodactyla</td><td>Cervidae</td><td>Cervus</td><td>Cervus_elaphus</td><td>terrestrial habitat</td><td>⋯</td><td>herbivore</td><td>no</td><td>no</td><td>yes</td><td>no</td><td>yes</td><td>yes</td><td>yes</td><td>yes</td><td>foregut</td></tr>\n",
       "\t<tr><td>F36_Red_Deer</td><td>arc</td><td>pielou_e</td><td>0.7740296</td><td>Mammalia</td><td>Artiodactyla</td><td>Cervidae</td><td>Cervus</td><td>Cervus_elaphus</td><td>terrestrial habitat</td><td>⋯</td><td>herbivore</td><td>no</td><td>no</td><td>yes</td><td>no</td><td>yes</td><td>yes</td><td>yes</td><td>yes</td><td>foregut</td></tr>\n",
       "\t<tr><td>⋮</td><td>⋮</td><td>⋮</td><td>⋮</td><td>⋮</td><td>⋮</td><td>⋮</td><td>⋮</td><td>⋮</td><td>⋮</td><td>⋱</td><td>⋮</td><td>⋮</td><td>⋮</td><td>⋮</td><td>⋮</td><td>⋮</td><td>⋮</td><td>⋮</td><td>⋮</td><td>⋮</td></tr>\n",
       "\t<tr><td>F80_Red_Deer    </td><td>bac</td><td>faith_pd</td><td>42.044094</td><td>Mammalia</td><td>Artiodactyla</td><td>Cervidae</td><td>Cervus</td><td>Cervus_elaphus</td><td>terrestrial habitat</td><td>⋯</td><td>herbivore</td><td>no </td><td>no </td><td>yes</td><td>no</td><td>yes</td><td>yes</td><td>yes</td><td>yes</td><td>foregut</td></tr>\n",
       "\t<tr><td>F90_Domestic_Dog</td><td>bac</td><td>faith_pd</td><td> 8.306462</td><td>Mammalia</td><td>Carnivora   </td><td>Canidae </td><td>Canis </td><td>Canis_lupus   </td><td>terrestrial habitat</td><td>⋯</td><td>carnivore</td><td>yes</td><td>yes</td><td>no </td><td>no</td><td>no </td><td>no </td><td>no </td><td>no </td><td>simple </td></tr>\n",
       "</tbody>\n",
       "</table>\n"
      ],
      "text/latex": [
       "A data.frame: 1120 × 21\n",
       "\\begin{tabular}{lllllllllllllllllllll}\n",
       " sample & domain & alpha\\_div\\_metric & alpha\\_div\\_value & class & order & family & genus & scientific\\_name & habitat & ⋯ & diet & diet\\_vertebrate & diet\\_invertebrate & diet\\_fruit & diet\\_flowers\\_nectar\\_pollen & diet\\_leaves\\_branches\\_bark\\_buds & diet\\_seeds & diet\\_grass\\_waterplants & diet\\_roots\\_tubers & digestive\\_system\\\\\n",
       " <chr> & <chr> & <chr> & <dbl> & <chr> & <chr> & <chr> & <chr> & <chr> & <chr> & ⋯ & <chr> & <chr> & <chr> & <chr> & <chr> & <chr> & <chr> & <chr> & <chr> & <chr>\\\\\n",
       "\\hline\n",
       "\t F35\\_Red\\_Deer & arc & pielou\\_e & 0.8871942 & Mammalia & Artiodactyla & Cervidae & Cervus & Cervus\\_elaphus & terrestrial habitat & ⋯ & herbivore & no & no & yes & no & yes & yes & yes & yes & foregut\\\\\n",
       "\t F36\\_Red\\_Deer & arc & pielou\\_e & 0.7740296 & Mammalia & Artiodactyla & Cervidae & Cervus & Cervus\\_elaphus & terrestrial habitat & ⋯ & herbivore & no & no & yes & no & yes & yes & yes & yes & foregut\\\\\n",
       "\t ⋮ & ⋮ & ⋮ & ⋮ & ⋮ & ⋮ & ⋮ & ⋮ & ⋮ & ⋮ & ⋱ & ⋮ & ⋮ & ⋮ & ⋮ & ⋮ & ⋮ & ⋮ & ⋮ & ⋮ & ⋮\\\\\n",
       "\t F80\\_Red\\_Deer     & bac & faith\\_pd & 42.044094 & Mammalia & Artiodactyla & Cervidae & Cervus & Cervus\\_elaphus & terrestrial habitat & ⋯ & herbivore & no  & no  & yes & no & yes & yes & yes & yes & foregut\\\\\n",
       "\t F90\\_Domestic\\_Dog & bac & faith\\_pd &  8.306462 & Mammalia & Carnivora    & Canidae  & Canis  & Canis\\_lupus    & terrestrial habitat & ⋯ & carnivore & yes & yes & no  & no & no  & no  & no  & no  & simple \\\\\n",
       "\\end{tabular}\n"
      ],
      "text/markdown": [
       "\n",
       "A data.frame: 1120 × 21\n",
       "\n",
       "| sample &lt;chr&gt; | domain &lt;chr&gt; | alpha_div_metric &lt;chr&gt; | alpha_div_value &lt;dbl&gt; | class &lt;chr&gt; | order &lt;chr&gt; | family &lt;chr&gt; | genus &lt;chr&gt; | scientific_name &lt;chr&gt; | habitat &lt;chr&gt; | ⋯ ⋯ | diet &lt;chr&gt; | diet_vertebrate &lt;chr&gt; | diet_invertebrate &lt;chr&gt; | diet_fruit &lt;chr&gt; | diet_flowers_nectar_pollen &lt;chr&gt; | diet_leaves_branches_bark_buds &lt;chr&gt; | diet_seeds &lt;chr&gt; | diet_grass_waterplants &lt;chr&gt; | diet_roots_tubers &lt;chr&gt; | digestive_system &lt;chr&gt; |\n",
       "|---|---|---|---|---|---|---|---|---|---|---|---|---|---|---|---|---|---|---|---|---|\n",
       "| F35_Red_Deer | arc | pielou_e | 0.8871942 | Mammalia | Artiodactyla | Cervidae | Cervus | Cervus_elaphus | terrestrial habitat | ⋯ | herbivore | no | no | yes | no | yes | yes | yes | yes | foregut |\n",
       "| F36_Red_Deer | arc | pielou_e | 0.7740296 | Mammalia | Artiodactyla | Cervidae | Cervus | Cervus_elaphus | terrestrial habitat | ⋯ | herbivore | no | no | yes | no | yes | yes | yes | yes | foregut |\n",
       "| ⋮ | ⋮ | ⋮ | ⋮ | ⋮ | ⋮ | ⋮ | ⋮ | ⋮ | ⋮ | ⋱ | ⋮ | ⋮ | ⋮ | ⋮ | ⋮ | ⋮ | ⋮ | ⋮ | ⋮ | ⋮ |\n",
       "| F80_Red_Deer     | bac | faith_pd | 42.044094 | Mammalia | Artiodactyla | Cervidae | Cervus | Cervus_elaphus | terrestrial habitat | ⋯ | herbivore | no  | no  | yes | no | yes | yes | yes | yes | foregut |\n",
       "| F90_Domestic_Dog | bac | faith_pd |  8.306462 | Mammalia | Carnivora    | Canidae  | Canis  | Canis_lupus    | terrestrial habitat | ⋯ | carnivore | yes | yes | no  | no | no  | no  | no  | no  | simple  |\n",
       "\n"
      ],
      "text/plain": [
       "     sample           domain alpha_div_metric alpha_div_value class   \n",
       "1    F35_Red_Deer     arc    pielou_e         0.8871942       Mammalia\n",
       "2    F36_Red_Deer     arc    pielou_e         0.7740296       Mammalia\n",
       "⋮    ⋮                ⋮      ⋮                ⋮               ⋮       \n",
       "1119 F80_Red_Deer     bac    faith_pd         42.044094       Mammalia\n",
       "1120 F90_Domestic_Dog bac    faith_pd          8.306462       Mammalia\n",
       "     order        family   genus  scientific_name habitat             ⋯\n",
       "1    Artiodactyla Cervidae Cervus Cervus_elaphus  terrestrial habitat ⋯\n",
       "2    Artiodactyla Cervidae Cervus Cervus_elaphus  terrestrial habitat ⋯\n",
       "⋮    ⋮            ⋮        ⋮      ⋮               ⋮                   ⋱\n",
       "1119 Artiodactyla Cervidae Cervus Cervus_elaphus  terrestrial habitat ⋯\n",
       "1120 Carnivora    Canidae  Canis  Canis_lupus     terrestrial habitat ⋯\n",
       "     diet      diet_vertebrate diet_invertebrate diet_fruit\n",
       "1    herbivore no              no                yes       \n",
       "2    herbivore no              no                yes       \n",
       "⋮    ⋮         ⋮               ⋮                 ⋮         \n",
       "1119 herbivore no              no                yes       \n",
       "1120 carnivore yes             yes               no        \n",
       "     diet_flowers_nectar_pollen diet_leaves_branches_bark_buds diet_seeds\n",
       "1    no                         yes                            yes       \n",
       "2    no                         yes                            yes       \n",
       "⋮    ⋮                          ⋮                              ⋮         \n",
       "1119 no                         yes                            yes       \n",
       "1120 no                         no                             no        \n",
       "     diet_grass_waterplants diet_roots_tubers digestive_system\n",
       "1    yes                    yes               foregut         \n",
       "2    yes                    yes               foregut         \n",
       "⋮    ⋮                      ⋮                 ⋮               \n",
       "1119 yes                    yes               foregut         \n",
       "1120 no                     no                simple          "
      ]
     },
     "metadata": {},
     "output_type": "display_data"
    }
   ],
   "source": [
    "# adding metadata\n",
    "overlap(alpha_div$sample, meta$SampleID)\n",
    "alpha_div = alpha_div %>%\n",
    "    inner_join(meta, c('sample'='SampleID')) %>%\n",
    "    mutate(sample = gsub('^([0-9])', 'X\\\\1', sample))\n",
    "alpha_div"
   ]
  },
  {
   "cell_type": "code",
   "execution_count": 9,
   "metadata": {
    "ExecuteTime": {
     "end_time": "2020-08-28T13:59:19.098582Z",
     "start_time": "2020-08-28T13:59:10.262Z"
    }
   },
   "outputs": [],
   "source": [
    "# # formatting\n",
    "# alpha_div = alpha_div %>%\n",
    "#     mutate(alpha_div_metric = case_when(alpha_div_metric == 'faith_pd' ~ 'Faith\\'s PD',\n",
    "#                                         alpha_div_metric == 'observed_otus' ~ 'Observed OTUs',\n",
    "#                                         alpha_div_metric == 'pielou_e' ~ 'Pielou\\'s E',\n",
    "#                                         alpha_div_metric == 'shannon' ~ 'Shannon Index')) %>%\n",
    "#     mutate(sample = gsub('^([0-9])', 'X\\\\1', sample))\n",
    "# alpha_div"
   ]
  },
  {
   "cell_type": "markdown",
   "metadata": {},
   "source": [
    "## Host phylogeny"
   ]
  },
  {
   "cell_type": "code",
   "execution_count": 10,
   "metadata": {
    "ExecuteTime": {
     "end_time": "2020-08-28T13:59:19.133991Z",
     "start_time": "2020-08-28T13:59:10.266Z"
    }
   },
   "outputs": [
    {
     "data": {
      "text/plain": [
       "\n",
       "Phylogenetic tree with 185 tips and 184 internal nodes.\n",
       "\n",
       "Tip labels:\n",
       "\tX60_European_Chub, X179_Roach, X330_Ide, X327_Silver_Bream, X326_Silver_Bream, F14_Common_Bream, ...\n",
       "Node labels:\n",
       "\t, @_20_@, @_17_@, @_14_@, @_9_@, @_15_@, ...\n",
       "\n",
       "Rooted; includes branch lengths."
      ]
     },
     "metadata": {},
     "output_type": "display_data"
    }
   ],
   "source": [
    "host_tree_IndD = read.tree(host_tree_IndD_file)\n",
    "host_tree_IndD"
   ]
  },
  {
   "cell_type": "code",
   "execution_count": 11,
   "metadata": {
    "ExecuteTime": {
     "end_time": "2020-08-28T13:59:19.161802Z",
     "start_time": "2020-08-28T13:59:10.270Z"
    }
   },
   "outputs": [
    {
     "name": "stdout",
     "output_type": "stream",
     "text": [
      "intersect(x,y): 138 \n",
      "setdiff(x,y): 47 \n",
      "setdiff(y,x): 2 \n",
      "union(x,y): 187 \n"
     ]
    }
   ],
   "source": [
    "# checking overlap\n",
    "overlap(host_tree_IndD$tip.label, alpha_div$sample)"
   ]
  },
  {
   "cell_type": "code",
   "execution_count": 12,
   "metadata": {
    "ExecuteTime": {
     "end_time": "2020-08-28T13:59:19.199625Z",
     "start_time": "2020-08-28T13:59:10.273Z"
    }
   },
   "outputs": [
    {
     "data": {
      "text/plain": [
       "\n",
       "Phylogenetic tree with 138 tips and 137 internal nodes.\n",
       "\n",
       "Tip labels:\n",
       "\tX330_Ide, X327_Silver_Bream, X326_Silver_Bream, X125_Common_Carp, X328_Prussian_Carp, X350_Smooth_Newt, ...\n",
       "Node labels:\n",
       "\t, @_20_@, @_17_@, NA, @_18_@, @_197_@, ...\n",
       "\n",
       "Rooted; includes branch lengths."
      ]
     },
     "metadata": {},
     "output_type": "display_data"
    }
   ],
   "source": [
    "# dropping tips\n",
    "to_rm = setdiff(host_tree_IndD$tip.label, alpha_div$sample)\n",
    "host_tree_IndD = ape::drop.tip(host_tree_IndD, to_rm)\n",
    "host_tree_IndD"
   ]
  },
  {
   "cell_type": "code",
   "execution_count": 13,
   "metadata": {
    "ExecuteTime": {
     "end_time": "2020-08-28T13:59:19.227549Z",
     "start_time": "2020-08-28T13:59:10.277Z"
    }
   },
   "outputs": [
    {
     "name": "stdout",
     "output_type": "stream",
     "text": [
      "intersect(x,y): 138 \n",
      "setdiff(x,y): 0 \n",
      "setdiff(y,x): 2 \n",
      "union(x,y): 140 \n"
     ]
    }
   ],
   "source": [
    "# checking overlap\n",
    "overlap(host_tree_IndD$tip.label, alpha_div$sample)"
   ]
  },
  {
   "cell_type": "code",
   "execution_count": 14,
   "metadata": {
    "ExecuteTime": {
     "end_time": "2020-08-28T13:59:19.300424Z",
     "start_time": "2020-08-28T13:59:10.284Z"
    }
   },
   "outputs": [
    {
     "data": {
      "text/html": [
       "<table>\n",
       "<caption>A data.frame: 1104 × 21</caption>\n",
       "<thead>\n",
       "\t<tr><th scope=col>sample</th><th scope=col>domain</th><th scope=col>alpha_div_metric</th><th scope=col>alpha_div_value</th><th scope=col>class</th><th scope=col>order</th><th scope=col>family</th><th scope=col>genus</th><th scope=col>scientific_name</th><th scope=col>habitat</th><th scope=col>⋯</th><th scope=col>diet</th><th scope=col>diet_vertebrate</th><th scope=col>diet_invertebrate</th><th scope=col>diet_fruit</th><th scope=col>diet_flowers_nectar_pollen</th><th scope=col>diet_leaves_branches_bark_buds</th><th scope=col>diet_seeds</th><th scope=col>diet_grass_waterplants</th><th scope=col>diet_roots_tubers</th><th scope=col>digestive_system</th></tr>\n",
       "\t<tr><th scope=col>&lt;chr&gt;</th><th scope=col>&lt;chr&gt;</th><th scope=col>&lt;chr&gt;</th><th scope=col>&lt;dbl&gt;</th><th scope=col>&lt;chr&gt;</th><th scope=col>&lt;chr&gt;</th><th scope=col>&lt;chr&gt;</th><th scope=col>&lt;chr&gt;</th><th scope=col>&lt;chr&gt;</th><th scope=col>&lt;chr&gt;</th><th scope=col>⋯</th><th scope=col>&lt;chr&gt;</th><th scope=col>&lt;chr&gt;</th><th scope=col>&lt;chr&gt;</th><th scope=col>&lt;chr&gt;</th><th scope=col>&lt;chr&gt;</th><th scope=col>&lt;chr&gt;</th><th scope=col>&lt;chr&gt;</th><th scope=col>&lt;chr&gt;</th><th scope=col>&lt;chr&gt;</th><th scope=col>&lt;chr&gt;</th></tr>\n",
       "</thead>\n",
       "<tbody>\n",
       "\t<tr><td>F35_Red_Deer</td><td>arc</td><td>pielou_e</td><td>0.8871942</td><td>Mammalia</td><td>Artiodactyla</td><td>Cervidae</td><td>Cervus</td><td>Cervus_elaphus</td><td>terrestrial habitat</td><td>⋯</td><td>herbivore</td><td>no</td><td>no</td><td>yes</td><td>no</td><td>yes</td><td>yes</td><td>yes</td><td>yes</td><td>foregut</td></tr>\n",
       "\t<tr><td>F36_Red_Deer</td><td>arc</td><td>pielou_e</td><td>0.7740296</td><td>Mammalia</td><td>Artiodactyla</td><td>Cervidae</td><td>Cervus</td><td>Cervus_elaphus</td><td>terrestrial habitat</td><td>⋯</td><td>herbivore</td><td>no</td><td>no</td><td>yes</td><td>no</td><td>yes</td><td>yes</td><td>yes</td><td>yes</td><td>foregut</td></tr>\n",
       "\t<tr><td>⋮</td><td>⋮</td><td>⋮</td><td>⋮</td><td>⋮</td><td>⋮</td><td>⋮</td><td>⋮</td><td>⋮</td><td>⋮</td><td>⋱</td><td>⋮</td><td>⋮</td><td>⋮</td><td>⋮</td><td>⋮</td><td>⋮</td><td>⋮</td><td>⋮</td><td>⋮</td><td>⋮</td></tr>\n",
       "\t<tr><td>F80_Red_Deer    </td><td>bac</td><td>faith_pd</td><td>42.044094</td><td>Mammalia</td><td>Artiodactyla</td><td>Cervidae</td><td>Cervus</td><td>Cervus_elaphus</td><td>terrestrial habitat</td><td>⋯</td><td>herbivore</td><td>no </td><td>no </td><td>yes</td><td>no</td><td>yes</td><td>yes</td><td>yes</td><td>yes</td><td>foregut</td></tr>\n",
       "\t<tr><td>F90_Domestic_Dog</td><td>bac</td><td>faith_pd</td><td> 8.306462</td><td>Mammalia</td><td>Carnivora   </td><td>Canidae </td><td>Canis </td><td>Canis_lupus   </td><td>terrestrial habitat</td><td>⋯</td><td>carnivore</td><td>yes</td><td>yes</td><td>no </td><td>no</td><td>no </td><td>no </td><td>no </td><td>no </td><td>simple </td></tr>\n",
       "</tbody>\n",
       "</table>\n"
      ],
      "text/latex": [
       "A data.frame: 1104 × 21\n",
       "\\begin{tabular}{lllllllllllllllllllll}\n",
       " sample & domain & alpha\\_div\\_metric & alpha\\_div\\_value & class & order & family & genus & scientific\\_name & habitat & ⋯ & diet & diet\\_vertebrate & diet\\_invertebrate & diet\\_fruit & diet\\_flowers\\_nectar\\_pollen & diet\\_leaves\\_branches\\_bark\\_buds & diet\\_seeds & diet\\_grass\\_waterplants & diet\\_roots\\_tubers & digestive\\_system\\\\\n",
       " <chr> & <chr> & <chr> & <dbl> & <chr> & <chr> & <chr> & <chr> & <chr> & <chr> & ⋯ & <chr> & <chr> & <chr> & <chr> & <chr> & <chr> & <chr> & <chr> & <chr> & <chr>\\\\\n",
       "\\hline\n",
       "\t F35\\_Red\\_Deer & arc & pielou\\_e & 0.8871942 & Mammalia & Artiodactyla & Cervidae & Cervus & Cervus\\_elaphus & terrestrial habitat & ⋯ & herbivore & no & no & yes & no & yes & yes & yes & yes & foregut\\\\\n",
       "\t F36\\_Red\\_Deer & arc & pielou\\_e & 0.7740296 & Mammalia & Artiodactyla & Cervidae & Cervus & Cervus\\_elaphus & terrestrial habitat & ⋯ & herbivore & no & no & yes & no & yes & yes & yes & yes & foregut\\\\\n",
       "\t ⋮ & ⋮ & ⋮ & ⋮ & ⋮ & ⋮ & ⋮ & ⋮ & ⋮ & ⋮ & ⋱ & ⋮ & ⋮ & ⋮ & ⋮ & ⋮ & ⋮ & ⋮ & ⋮ & ⋮ & ⋮\\\\\n",
       "\t F80\\_Red\\_Deer     & bac & faith\\_pd & 42.044094 & Mammalia & Artiodactyla & Cervidae & Cervus & Cervus\\_elaphus & terrestrial habitat & ⋯ & herbivore & no  & no  & yes & no & yes & yes & yes & yes & foregut\\\\\n",
       "\t F90\\_Domestic\\_Dog & bac & faith\\_pd &  8.306462 & Mammalia & Carnivora    & Canidae  & Canis  & Canis\\_lupus    & terrestrial habitat & ⋯ & carnivore & yes & yes & no  & no & no  & no  & no  & no  & simple \\\\\n",
       "\\end{tabular}\n"
      ],
      "text/markdown": [
       "\n",
       "A data.frame: 1104 × 21\n",
       "\n",
       "| sample &lt;chr&gt; | domain &lt;chr&gt; | alpha_div_metric &lt;chr&gt; | alpha_div_value &lt;dbl&gt; | class &lt;chr&gt; | order &lt;chr&gt; | family &lt;chr&gt; | genus &lt;chr&gt; | scientific_name &lt;chr&gt; | habitat &lt;chr&gt; | ⋯ ⋯ | diet &lt;chr&gt; | diet_vertebrate &lt;chr&gt; | diet_invertebrate &lt;chr&gt; | diet_fruit &lt;chr&gt; | diet_flowers_nectar_pollen &lt;chr&gt; | diet_leaves_branches_bark_buds &lt;chr&gt; | diet_seeds &lt;chr&gt; | diet_grass_waterplants &lt;chr&gt; | diet_roots_tubers &lt;chr&gt; | digestive_system &lt;chr&gt; |\n",
       "|---|---|---|---|---|---|---|---|---|---|---|---|---|---|---|---|---|---|---|---|---|\n",
       "| F35_Red_Deer | arc | pielou_e | 0.8871942 | Mammalia | Artiodactyla | Cervidae | Cervus | Cervus_elaphus | terrestrial habitat | ⋯ | herbivore | no | no | yes | no | yes | yes | yes | yes | foregut |\n",
       "| F36_Red_Deer | arc | pielou_e | 0.7740296 | Mammalia | Artiodactyla | Cervidae | Cervus | Cervus_elaphus | terrestrial habitat | ⋯ | herbivore | no | no | yes | no | yes | yes | yes | yes | foregut |\n",
       "| ⋮ | ⋮ | ⋮ | ⋮ | ⋮ | ⋮ | ⋮ | ⋮ | ⋮ | ⋮ | ⋱ | ⋮ | ⋮ | ⋮ | ⋮ | ⋮ | ⋮ | ⋮ | ⋮ | ⋮ | ⋮ |\n",
       "| F80_Red_Deer     | bac | faith_pd | 42.044094 | Mammalia | Artiodactyla | Cervidae | Cervus | Cervus_elaphus | terrestrial habitat | ⋯ | herbivore | no  | no  | yes | no | yes | yes | yes | yes | foregut |\n",
       "| F90_Domestic_Dog | bac | faith_pd |  8.306462 | Mammalia | Carnivora    | Canidae  | Canis  | Canis_lupus    | terrestrial habitat | ⋯ | carnivore | yes | yes | no  | no | no  | no  | no  | no  | simple  |\n",
       "\n"
      ],
      "text/plain": [
       "     sample           domain alpha_div_metric alpha_div_value class   \n",
       "1    F35_Red_Deer     arc    pielou_e         0.8871942       Mammalia\n",
       "2    F36_Red_Deer     arc    pielou_e         0.7740296       Mammalia\n",
       "⋮    ⋮                ⋮      ⋮                ⋮               ⋮       \n",
       "1103 F80_Red_Deer     bac    faith_pd         42.044094       Mammalia\n",
       "1104 F90_Domestic_Dog bac    faith_pd          8.306462       Mammalia\n",
       "     order        family   genus  scientific_name habitat             ⋯\n",
       "1    Artiodactyla Cervidae Cervus Cervus_elaphus  terrestrial habitat ⋯\n",
       "2    Artiodactyla Cervidae Cervus Cervus_elaphus  terrestrial habitat ⋯\n",
       "⋮    ⋮            ⋮        ⋮      ⋮               ⋮                   ⋱\n",
       "1103 Artiodactyla Cervidae Cervus Cervus_elaphus  terrestrial habitat ⋯\n",
       "1104 Carnivora    Canidae  Canis  Canis_lupus     terrestrial habitat ⋯\n",
       "     diet      diet_vertebrate diet_invertebrate diet_fruit\n",
       "1    herbivore no              no                yes       \n",
       "2    herbivore no              no                yes       \n",
       "⋮    ⋮         ⋮               ⋮                 ⋮         \n",
       "1103 herbivore no              no                yes       \n",
       "1104 carnivore yes             yes               no        \n",
       "     diet_flowers_nectar_pollen diet_leaves_branches_bark_buds diet_seeds\n",
       "1    no                         yes                            yes       \n",
       "2    no                         yes                            yes       \n",
       "⋮    ⋮                          ⋮                              ⋮         \n",
       "1103 no                         yes                            yes       \n",
       "1104 no                         no                             no        \n",
       "     diet_grass_waterplants diet_roots_tubers digestive_system\n",
       "1    yes                    yes               foregut         \n",
       "2    yes                    yes               foregut         \n",
       "⋮    ⋮                      ⋮                 ⋮               \n",
       "1103 yes                    yes               foregut         \n",
       "1104 no                     no                simple          "
      ]
     },
     "metadata": {},
     "output_type": "display_data"
    }
   ],
   "source": [
    "alpha_div = alpha_div %>%\n",
    "    filter(sample %in% host_tree_IndD$tip.label) \n",
    "alpha_div"
   ]
  },
  {
   "cell_type": "markdown",
   "metadata": {},
   "source": [
    "# Formatting"
   ]
  },
  {
   "cell_type": "code",
   "execution_count": 15,
   "metadata": {
    "ExecuteTime": {
     "end_time": "2020-08-28T13:59:19.430520Z",
     "start_time": "2020-08-28T13:59:10.294Z"
    }
   },
   "outputs": [
    {
     "data": {
      "text/html": [
       "<table>\n",
       "<caption>A data.frame: 276 × 27</caption>\n",
       "<thead>\n",
       "\t<tr><th scope=col>sample</th><th scope=col>domain</th><th scope=col>class</th><th scope=col>order</th><th scope=col>family</th><th scope=col>genus</th><th scope=col>scientific_name</th><th scope=col>habitat</th><th scope=col>sample_type</th><th scope=col>diet</th><th scope=col>⋯</th><th scope=col>diet_roots_tubers</th><th scope=col>digestive_system</th><th scope=col>arc_faith_pd</th><th scope=col>arc_observed_otus</th><th scope=col>arc_pielou_e</th><th scope=col>arc_shannon</th><th scope=col>bac_faith_pd</th><th scope=col>bac_observed_otus</th><th scope=col>bac_pielou_e</th><th scope=col>bac_shannon</th></tr>\n",
       "\t<tr><th scope=col>&lt;chr&gt;</th><th scope=col>&lt;chr&gt;</th><th scope=col>&lt;chr&gt;</th><th scope=col>&lt;chr&gt;</th><th scope=col>&lt;chr&gt;</th><th scope=col>&lt;chr&gt;</th><th scope=col>&lt;chr&gt;</th><th scope=col>&lt;chr&gt;</th><th scope=col>&lt;chr&gt;</th><th scope=col>&lt;chr&gt;</th><th scope=col>⋯</th><th scope=col>&lt;chr&gt;</th><th scope=col>&lt;chr&gt;</th><th scope=col>&lt;dbl&gt;</th><th scope=col>&lt;dbl&gt;</th><th scope=col>&lt;dbl&gt;</th><th scope=col>&lt;dbl&gt;</th><th scope=col>&lt;dbl&gt;</th><th scope=col>&lt;dbl&gt;</th><th scope=col>&lt;dbl&gt;</th><th scope=col>&lt;dbl&gt;</th></tr>\n",
       "</thead>\n",
       "<tbody>\n",
       "\t<tr><td>F35_Red_Deer</td><td>arc</td><td>Mammalia</td><td>Artiodactyla</td><td>Cervidae</td><td>Cervus</td><td>Cervus_elaphus</td><td>terrestrial habitat</td><td>feces</td><td>herbivore</td><td>⋯</td><td>yes</td><td>foregut</td><td>3.337468</td><td>19</td><td>0.8871942</td><td>3.768737</td><td>NA</td><td>NA</td><td>NA</td><td>NA</td></tr>\n",
       "\t<tr><td>F36_Red_Deer</td><td>arc</td><td>Mammalia</td><td>Artiodactyla</td><td>Cervidae</td><td>Cervus</td><td>Cervus_elaphus</td><td>terrestrial habitat</td><td>feces</td><td>herbivore</td><td>⋯</td><td>yes</td><td>foregut</td><td>2.053696</td><td>24</td><td>0.7740296</td><td>3.548897</td><td>NA</td><td>NA</td><td>NA</td><td>NA</td></tr>\n",
       "\t<tr><td>⋮</td><td>⋮</td><td>⋮</td><td>⋮</td><td>⋮</td><td>⋮</td><td>⋮</td><td>⋮</td><td>⋮</td><td>⋮</td><td>⋱</td><td>⋮</td><td>⋮</td><td>⋮</td><td>⋮</td><td>⋮</td><td>⋮</td><td>⋮</td><td>⋮</td><td>⋮</td><td>⋮</td></tr>\n",
       "\t<tr><td>F80_Red_Deer    </td><td>bac</td><td>Mammalia</td><td>Artiodactyla</td><td>Cervidae</td><td>Cervus</td><td>Cervus_elaphus</td><td>terrestrial habitat</td><td>feces</td><td>herbivore</td><td>⋯</td><td>yes</td><td>foregut</td><td>NA</td><td>NA</td><td>NA</td><td>NA</td><td>42.044094</td><td>933</td><td>0.8641072</td><td>8.525051</td></tr>\n",
       "\t<tr><td>F90_Domestic_Dog</td><td>bac</td><td>Mammalia</td><td>Carnivora   </td><td>Canidae </td><td>Canis </td><td>Canis_lupus   </td><td>terrestrial habitat</td><td>feces</td><td>carnivore</td><td>⋯</td><td>no </td><td>simple </td><td>NA</td><td>NA</td><td>NA</td><td>NA</td><td> 8.306462</td><td> 72</td><td>0.7077964</td><td>4.367051</td></tr>\n",
       "</tbody>\n",
       "</table>\n"
      ],
      "text/latex": [
       "A data.frame: 276 × 27\n",
       "\\begin{tabular}{lllllllllllllllllllll}\n",
       " sample & domain & class & order & family & genus & scientific\\_name & habitat & sample\\_type & diet & ⋯ & diet\\_roots\\_tubers & digestive\\_system & arc\\_faith\\_pd & arc\\_observed\\_otus & arc\\_pielou\\_e & arc\\_shannon & bac\\_faith\\_pd & bac\\_observed\\_otus & bac\\_pielou\\_e & bac\\_shannon\\\\\n",
       " <chr> & <chr> & <chr> & <chr> & <chr> & <chr> & <chr> & <chr> & <chr> & <chr> & ⋯ & <chr> & <chr> & <dbl> & <dbl> & <dbl> & <dbl> & <dbl> & <dbl> & <dbl> & <dbl>\\\\\n",
       "\\hline\n",
       "\t F35\\_Red\\_Deer & arc & Mammalia & Artiodactyla & Cervidae & Cervus & Cervus\\_elaphus & terrestrial habitat & feces & herbivore & ⋯ & yes & foregut & 3.337468 & 19 & 0.8871942 & 3.768737 & NA & NA & NA & NA\\\\\n",
       "\t F36\\_Red\\_Deer & arc & Mammalia & Artiodactyla & Cervidae & Cervus & Cervus\\_elaphus & terrestrial habitat & feces & herbivore & ⋯ & yes & foregut & 2.053696 & 24 & 0.7740296 & 3.548897 & NA & NA & NA & NA\\\\\n",
       "\t ⋮ & ⋮ & ⋮ & ⋮ & ⋮ & ⋮ & ⋮ & ⋮ & ⋮ & ⋮ & ⋱ & ⋮ & ⋮ & ⋮ & ⋮ & ⋮ & ⋮ & ⋮ & ⋮ & ⋮ & ⋮\\\\\n",
       "\t F80\\_Red\\_Deer     & bac & Mammalia & Artiodactyla & Cervidae & Cervus & Cervus\\_elaphus & terrestrial habitat & feces & herbivore & ⋯ & yes & foregut & NA & NA & NA & NA & 42.044094 & 933 & 0.8641072 & 8.525051\\\\\n",
       "\t F90\\_Domestic\\_Dog & bac & Mammalia & Carnivora    & Canidae  & Canis  & Canis\\_lupus    & terrestrial habitat & feces & carnivore & ⋯ & no  & simple  & NA & NA & NA & NA &  8.306462 &  72 & 0.7077964 & 4.367051\\\\\n",
       "\\end{tabular}\n"
      ],
      "text/markdown": [
       "\n",
       "A data.frame: 276 × 27\n",
       "\n",
       "| sample &lt;chr&gt; | domain &lt;chr&gt; | class &lt;chr&gt; | order &lt;chr&gt; | family &lt;chr&gt; | genus &lt;chr&gt; | scientific_name &lt;chr&gt; | habitat &lt;chr&gt; | sample_type &lt;chr&gt; | diet &lt;chr&gt; | ⋯ ⋯ | diet_roots_tubers &lt;chr&gt; | digestive_system &lt;chr&gt; | arc_faith_pd &lt;dbl&gt; | arc_observed_otus &lt;dbl&gt; | arc_pielou_e &lt;dbl&gt; | arc_shannon &lt;dbl&gt; | bac_faith_pd &lt;dbl&gt; | bac_observed_otus &lt;dbl&gt; | bac_pielou_e &lt;dbl&gt; | bac_shannon &lt;dbl&gt; |\n",
       "|---|---|---|---|---|---|---|---|---|---|---|---|---|---|---|---|---|---|---|---|---|\n",
       "| F35_Red_Deer | arc | Mammalia | Artiodactyla | Cervidae | Cervus | Cervus_elaphus | terrestrial habitat | feces | herbivore | ⋯ | yes | foregut | 3.337468 | 19 | 0.8871942 | 3.768737 | NA | NA | NA | NA |\n",
       "| F36_Red_Deer | arc | Mammalia | Artiodactyla | Cervidae | Cervus | Cervus_elaphus | terrestrial habitat | feces | herbivore | ⋯ | yes | foregut | 2.053696 | 24 | 0.7740296 | 3.548897 | NA | NA | NA | NA |\n",
       "| ⋮ | ⋮ | ⋮ | ⋮ | ⋮ | ⋮ | ⋮ | ⋮ | ⋮ | ⋮ | ⋱ | ⋮ | ⋮ | ⋮ | ⋮ | ⋮ | ⋮ | ⋮ | ⋮ | ⋮ | ⋮ |\n",
       "| F80_Red_Deer     | bac | Mammalia | Artiodactyla | Cervidae | Cervus | Cervus_elaphus | terrestrial habitat | feces | herbivore | ⋯ | yes | foregut | NA | NA | NA | NA | 42.044094 | 933 | 0.8641072 | 8.525051 |\n",
       "| F90_Domestic_Dog | bac | Mammalia | Carnivora    | Canidae  | Canis  | Canis_lupus    | terrestrial habitat | feces | carnivore | ⋯ | no  | simple  | NA | NA | NA | NA |  8.306462 |  72 | 0.7077964 | 4.367051 |\n",
       "\n"
      ],
      "text/plain": [
       "    sample           domain class    order        family   genus \n",
       "1   F35_Red_Deer     arc    Mammalia Artiodactyla Cervidae Cervus\n",
       "2   F36_Red_Deer     arc    Mammalia Artiodactyla Cervidae Cervus\n",
       "⋮   ⋮                ⋮      ⋮        ⋮            ⋮        ⋮     \n",
       "275 F80_Red_Deer     bac    Mammalia Artiodactyla Cervidae Cervus\n",
       "276 F90_Domestic_Dog bac    Mammalia Carnivora    Canidae  Canis \n",
       "    scientific_name habitat             sample_type diet      ⋯\n",
       "1   Cervus_elaphus  terrestrial habitat feces       herbivore ⋯\n",
       "2   Cervus_elaphus  terrestrial habitat feces       herbivore ⋯\n",
       "⋮   ⋮               ⋮                   ⋮           ⋮         ⋱\n",
       "275 Cervus_elaphus  terrestrial habitat feces       herbivore ⋯\n",
       "276 Canis_lupus     terrestrial habitat feces       carnivore ⋯\n",
       "    diet_roots_tubers digestive_system arc_faith_pd arc_observed_otus\n",
       "1   yes               foregut          3.337468     19               \n",
       "2   yes               foregut          2.053696     24               \n",
       "⋮   ⋮                 ⋮                ⋮            ⋮                \n",
       "275 yes               foregut          NA           NA               \n",
       "276 no                simple           NA           NA               \n",
       "    arc_pielou_e arc_shannon bac_faith_pd bac_observed_otus bac_pielou_e\n",
       "1   0.8871942    3.768737    NA           NA                NA          \n",
       "2   0.7740296    3.548897    NA           NA                NA          \n",
       "⋮   ⋮            ⋮           ⋮            ⋮                 ⋮           \n",
       "275 NA           NA          42.044094    933               0.8641072   \n",
       "276 NA           NA           8.306462     72               0.7077964   \n",
       "    bac_shannon\n",
       "1   NA         \n",
       "2   NA         \n",
       "⋮   ⋮          \n",
       "275 8.525051   \n",
       "276 4.367051   "
      ]
     },
     "metadata": {},
     "output_type": "display_data"
    }
   ],
   "source": [
    "alpha_div_f = alpha_div %>%\n",
    "    mutate(alpha_div_metric = paste(domain, alpha_div_metric, sep='_')) %>%\n",
    "    spread(alpha_div_metric, alpha_div_value)\n",
    "alpha_div_f"
   ]
  },
  {
   "cell_type": "code",
   "execution_count": 16,
   "metadata": {
    "ExecuteTime": {
     "end_time": "2020-08-28T13:59:19.554605Z",
     "start_time": "2020-08-28T13:59:10.301Z"
    }
   },
   "outputs": [
    {
     "data": {
      "text/html": [
       "<table>\n",
       "<caption>A data.frame: 138 × 21</caption>\n",
       "<thead>\n",
       "\t<tr><th></th><th scope=col>sample</th><th scope=col>arc_faith_pd</th><th scope=col>arc_observed_otus</th><th scope=col>arc_pielou_e</th><th scope=col>arc_shannon</th><th scope=col>bac_faith_pd</th><th scope=col>bac_observed_otus</th><th scope=col>bac_pielou_e</th><th scope=col>bac_shannon</th><th scope=col>habitat</th><th scope=col>⋯</th><th scope=col>diet</th><th scope=col>diet_vertebrate</th><th scope=col>diet_invertebrate</th><th scope=col>diet_fruit</th><th scope=col>diet_flowers_nectar_pollen</th><th scope=col>diet_leaves_branches_bark_buds</th><th scope=col>diet_seeds</th><th scope=col>diet_grass_waterplants</th><th scope=col>diet_roots_tubers</th><th scope=col>digestive_system</th></tr>\n",
       "\t<tr><th></th><th scope=col>&lt;chr&gt;</th><th scope=col>&lt;dbl&gt;</th><th scope=col>&lt;dbl&gt;</th><th scope=col>&lt;dbl&gt;</th><th scope=col>&lt;dbl&gt;</th><th scope=col>&lt;dbl&gt;</th><th scope=col>&lt;dbl&gt;</th><th scope=col>&lt;dbl&gt;</th><th scope=col>&lt;dbl&gt;</th><th scope=col>&lt;chr&gt;</th><th scope=col>⋯</th><th scope=col>&lt;chr&gt;</th><th scope=col>&lt;chr&gt;</th><th scope=col>&lt;chr&gt;</th><th scope=col>&lt;chr&gt;</th><th scope=col>&lt;chr&gt;</th><th scope=col>&lt;chr&gt;</th><th scope=col>&lt;chr&gt;</th><th scope=col>&lt;chr&gt;</th><th scope=col>&lt;chr&gt;</th><th scope=col>&lt;chr&gt;</th></tr>\n",
       "</thead>\n",
       "<tbody>\n",
       "\t<tr><th scope=row>F35_Red_Deer</th><td>F35_Red_Deer</td><td>3.337468</td><td>19</td><td>0.8871942</td><td>3.768737</td><td>38.11734</td><td>727</td><td>0.8519058</td><td>8.098056</td><td>terrestrial habitat</td><td>⋯</td><td>herbivore</td><td>no</td><td>no</td><td>yes</td><td>no</td><td>yes</td><td>yes</td><td>yes</td><td>yes</td><td>foregut</td></tr>\n",
       "\t<tr><th scope=row>F36_Red_Deer</th><td>F36_Red_Deer</td><td>2.053696</td><td>24</td><td>0.7740296</td><td>3.548897</td><td>18.14698</td><td>288</td><td>0.8096227</td><td>6.614557</td><td>terrestrial habitat</td><td>⋯</td><td>herbivore</td><td>no</td><td>no</td><td>yes</td><td>no</td><td>yes</td><td>yes</td><td>yes</td><td>yes</td><td>foregut</td></tr>\n",
       "\t<tr><th scope=row>⋮</th><td>⋮</td><td>⋮</td><td>⋮</td><td>⋮</td><td>⋮</td><td>⋮</td><td>⋮</td><td>⋮</td><td>⋮</td><td>⋮</td><td>⋱</td><td>⋮</td><td>⋮</td><td>⋮</td><td>⋮</td><td>⋮</td><td>⋮</td><td>⋮</td><td>⋮</td><td>⋮</td><td>⋮</td></tr>\n",
       "\t<tr><th scope=row>X431_Quagga</th><td>X431_Quagga     </td><td>3.292932</td><td>17</td><td>0.7268046</td><td>2.970787</td><td>56.9359</td><td>754</td><td>0.863565</td><td>8.254318</td><td>terrestrial habitat</td><td>⋯</td><td>herbivore</td><td>no</td><td>no</td><td>no </td><td>no</td><td>no </td><td>yes</td><td>yes</td><td>no</td><td>hindgut</td></tr>\n",
       "\t<tr><th scope=row>X67_European_Roe</th><td>X67_European_Roe</td><td>2.077323</td><td> 6</td><td>0.6858541</td><td>1.772907</td><td>23.8752</td><td>289</td><td>0.724697</td><td>5.924344</td><td>terrestrial habitat</td><td>⋯</td><td>herbivore</td><td>no</td><td>no</td><td>yes</td><td>no</td><td>yes</td><td>yes</td><td>yes</td><td>no</td><td>foregut</td></tr>\n",
       "</tbody>\n",
       "</table>\n"
      ],
      "text/latex": [
       "A data.frame: 138 × 21\n",
       "\\begin{tabular}{r|lllllllllllllllllllll}\n",
       "  & sample & arc\\_faith\\_pd & arc\\_observed\\_otus & arc\\_pielou\\_e & arc\\_shannon & bac\\_faith\\_pd & bac\\_observed\\_otus & bac\\_pielou\\_e & bac\\_shannon & habitat & ⋯ & diet & diet\\_vertebrate & diet\\_invertebrate & diet\\_fruit & diet\\_flowers\\_nectar\\_pollen & diet\\_leaves\\_branches\\_bark\\_buds & diet\\_seeds & diet\\_grass\\_waterplants & diet\\_roots\\_tubers & digestive\\_system\\\\\n",
       "  & <chr> & <dbl> & <dbl> & <dbl> & <dbl> & <dbl> & <dbl> & <dbl> & <dbl> & <chr> & ⋯ & <chr> & <chr> & <chr> & <chr> & <chr> & <chr> & <chr> & <chr> & <chr> & <chr>\\\\\n",
       "\\hline\n",
       "\tF35\\_Red\\_Deer & F35\\_Red\\_Deer & 3.337468 & 19 & 0.8871942 & 3.768737 & 38.11734 & 727 & 0.8519058 & 8.098056 & terrestrial habitat & ⋯ & herbivore & no & no & yes & no & yes & yes & yes & yes & foregut\\\\\n",
       "\tF36\\_Red\\_Deer & F36\\_Red\\_Deer & 2.053696 & 24 & 0.7740296 & 3.548897 & 18.14698 & 288 & 0.8096227 & 6.614557 & terrestrial habitat & ⋯ & herbivore & no & no & yes & no & yes & yes & yes & yes & foregut\\\\\n",
       "\t⋮ & ⋮ & ⋮ & ⋮ & ⋮ & ⋮ & ⋮ & ⋮ & ⋮ & ⋮ & ⋮ & ⋱ & ⋮ & ⋮ & ⋮ & ⋮ & ⋮ & ⋮ & ⋮ & ⋮ & ⋮ & ⋮\\\\\n",
       "\tX431\\_Quagga & X431\\_Quagga      & 3.292932 & 17 & 0.7268046 & 2.970787 & 56.9359 & 754 & 0.863565 & 8.254318 & terrestrial habitat & ⋯ & herbivore & no & no & no  & no & no  & yes & yes & no & hindgut\\\\\n",
       "\tX67\\_European\\_Roe & X67\\_European\\_Roe & 2.077323 &  6 & 0.6858541 & 1.772907 & 23.8752 & 289 & 0.724697 & 5.924344 & terrestrial habitat & ⋯ & herbivore & no & no & yes & no & yes & yes & yes & no & foregut\\\\\n",
       "\\end{tabular}\n"
      ],
      "text/markdown": [
       "\n",
       "A data.frame: 138 × 21\n",
       "\n",
       "| <!--/--> | sample &lt;chr&gt; | arc_faith_pd &lt;dbl&gt; | arc_observed_otus &lt;dbl&gt; | arc_pielou_e &lt;dbl&gt; | arc_shannon &lt;dbl&gt; | bac_faith_pd &lt;dbl&gt; | bac_observed_otus &lt;dbl&gt; | bac_pielou_e &lt;dbl&gt; | bac_shannon &lt;dbl&gt; | habitat &lt;chr&gt; | ⋯ ⋯ | diet &lt;chr&gt; | diet_vertebrate &lt;chr&gt; | diet_invertebrate &lt;chr&gt; | diet_fruit &lt;chr&gt; | diet_flowers_nectar_pollen &lt;chr&gt; | diet_leaves_branches_bark_buds &lt;chr&gt; | diet_seeds &lt;chr&gt; | diet_grass_waterplants &lt;chr&gt; | diet_roots_tubers &lt;chr&gt; | digestive_system &lt;chr&gt; |\n",
       "|---|---|---|---|---|---|---|---|---|---|---|---|---|---|---|---|---|---|---|---|---|---|\n",
       "| F35_Red_Deer | F35_Red_Deer | 3.337468 | 19 | 0.8871942 | 3.768737 | 38.11734 | 727 | 0.8519058 | 8.098056 | terrestrial habitat | ⋯ | herbivore | no | no | yes | no | yes | yes | yes | yes | foregut |\n",
       "| F36_Red_Deer | F36_Red_Deer | 2.053696 | 24 | 0.7740296 | 3.548897 | 18.14698 | 288 | 0.8096227 | 6.614557 | terrestrial habitat | ⋯ | herbivore | no | no | yes | no | yes | yes | yes | yes | foregut |\n",
       "| ⋮ | ⋮ | ⋮ | ⋮ | ⋮ | ⋮ | ⋮ | ⋮ | ⋮ | ⋮ | ⋮ | ⋱ | ⋮ | ⋮ | ⋮ | ⋮ | ⋮ | ⋮ | ⋮ | ⋮ | ⋮ | ⋮ |\n",
       "| X431_Quagga | X431_Quagga      | 3.292932 | 17 | 0.7268046 | 2.970787 | 56.9359 | 754 | 0.863565 | 8.254318 | terrestrial habitat | ⋯ | herbivore | no | no | no  | no | no  | yes | yes | no | hindgut |\n",
       "| X67_European_Roe | X67_European_Roe | 2.077323 |  6 | 0.6858541 | 1.772907 | 23.8752 | 289 | 0.724697 | 5.924344 | terrestrial habitat | ⋯ | herbivore | no | no | yes | no | yes | yes | yes | no | foregut |\n",
       "\n"
      ],
      "text/plain": [
       "                 sample           arc_faith_pd arc_observed_otus arc_pielou_e\n",
       "F35_Red_Deer     F35_Red_Deer     3.337468     19                0.8871942   \n",
       "F36_Red_Deer     F36_Red_Deer     2.053696     24                0.7740296   \n",
       "⋮                ⋮                ⋮            ⋮                 ⋮           \n",
       "X431_Quagga      X431_Quagga      3.292932     17                0.7268046   \n",
       "X67_European_Roe X67_European_Roe 2.077323      6                0.6858541   \n",
       "                 arc_shannon bac_faith_pd bac_observed_otus bac_pielou_e\n",
       "F35_Red_Deer     3.768737    38.11734     727               0.8519058   \n",
       "F36_Red_Deer     3.548897    18.14698     288               0.8096227   \n",
       "⋮                ⋮           ⋮            ⋮                 ⋮           \n",
       "X431_Quagga      2.970787    56.9359      754               0.863565    \n",
       "X67_European_Roe 1.772907    23.8752      289               0.724697    \n",
       "                 bac_shannon habitat             ⋯ diet      diet_vertebrate\n",
       "F35_Red_Deer     8.098056    terrestrial habitat ⋯ herbivore no             \n",
       "F36_Red_Deer     6.614557    terrestrial habitat ⋯ herbivore no             \n",
       "⋮                ⋮           ⋮                   ⋱ ⋮         ⋮              \n",
       "X431_Quagga      8.254318    terrestrial habitat ⋯ herbivore no             \n",
       "X67_European_Roe 5.924344    terrestrial habitat ⋯ herbivore no             \n",
       "                 diet_invertebrate diet_fruit diet_flowers_nectar_pollen\n",
       "F35_Red_Deer     no                yes        no                        \n",
       "F36_Red_Deer     no                yes        no                        \n",
       "⋮                ⋮                 ⋮          ⋮                         \n",
       "X431_Quagga      no                no         no                        \n",
       "X67_European_Roe no                yes        no                        \n",
       "                 diet_leaves_branches_bark_buds diet_seeds\n",
       "F35_Red_Deer     yes                            yes       \n",
       "F36_Red_Deer     yes                            yes       \n",
       "⋮                ⋮                              ⋮         \n",
       "X431_Quagga      no                             yes       \n",
       "X67_European_Roe yes                            yes       \n",
       "                 diet_grass_waterplants diet_roots_tubers digestive_system\n",
       "F35_Red_Deer     yes                    yes               foregut         \n",
       "F36_Red_Deer     yes                    yes               foregut         \n",
       "⋮                ⋮                      ⋮                 ⋮               \n",
       "X431_Quagga      yes                    no                hindgut         \n",
       "X67_European_Roe yes                    no                foregut         "
      ]
     },
     "metadata": {},
     "output_type": "display_data"
    }
   ],
   "source": [
    "# wide table\n",
    "alpha_div_arc = alpha_div_f %>%\n",
    "    filter(domain == 'arc') %>%\n",
    "    dplyr::select(sample, arc_faith_pd, arc_observed_otus, arc_pielou_e, arc_shannon) \n",
    "alpha_div_bac = alpha_div_f %>%\n",
    "    filter(domain == 'bac') %>%\n",
    "    dplyr::select(sample, bac_faith_pd, bac_observed_otus, bac_pielou_e, bac_shannon,\n",
    "                  habitat, sample_type, diet, diet_vertebrate, diet_invertebrate, \n",
    "                  diet_fruit, diet_flowers_nectar_pollen, diet_leaves_branches_bark_buds,\n",
    "                  diet_seeds,diet_grass_waterplants, diet_roots_tubers, digestive_system)\n",
    "alpha_div_j = inner_join(alpha_div_arc, alpha_div_bac, c('sample')) %>%\n",
    "    as.data.frame \n",
    "rownames(alpha_div_j) = alpha_div_j$sample\n",
    "alpha_div_j"
   ]
  },
  {
   "cell_type": "markdown",
   "metadata": {},
   "source": [
    "# Tree subsample"
   ]
  },
  {
   "cell_type": "code",
   "execution_count": 17,
   "metadata": {
    "ExecuteTime": {
     "end_time": "2020-08-28T13:59:19.580405Z",
     "start_time": "2020-08-28T13:59:10.308Z"
    }
   },
   "outputs": [],
   "source": [
    "#' randomly selecting one per group\n",
    "tree_subsample = function(L, df, tree){\n",
    "    # get subsample (note: subsampling within each species)\n",
    "    to_keep = df %>% \n",
    "        group_by(scientific_name) %>% \n",
    "        sample_n(1) %>%\n",
    "        .$sample\n",
    "    # subsampling tree\n",
    "    to_rm = setdiff(tree$tip.label, to_keep)\n",
    "    tree = drop.tip(tree, to_rm)\n",
    "    return(tree)\n",
    "}"
   ]
  },
  {
   "cell_type": "code",
   "execution_count": 18,
   "metadata": {
    "ExecuteTime": {
     "end_time": "2020-08-28T13:59:19.605228Z",
     "start_time": "2020-08-28T13:59:10.312Z"
    }
   },
   "outputs": [],
   "source": [
    "# replicate analyses with different subsets of the host phylogeny\n",
    "n_reps = 100"
   ]
  },
  {
   "cell_type": "code",
   "execution_count": 19,
   "metadata": {
    "ExecuteTime": {
     "end_time": "2020-08-28T13:59:20.310027Z",
     "start_time": "2020-08-28T13:59:10.317Z"
    }
   },
   "outputs": [
    {
     "data": {
      "text/html": [
       "100"
      ],
      "text/latex": [
       "100"
      ],
      "text/markdown": [
       "100"
      ],
      "text/plain": [
       "[1] 100"
      ]
     },
     "metadata": {},
     "output_type": "display_data"
    }
   ],
   "source": [
    "# permuted trees\n",
    "df = meta %>%\n",
    "    mutate(sample = SampleID) %>%\n",
    "    dplyr::select(sample, scientific_name) \n",
    "\n",
    "doParallel::registerDoParallel(threads)\n",
    "host_tree_l = plyr::llply(as.list(1:n_reps), \n",
    "                          function(x) tree_subsample(x, df, host_tree_IndD),\n",
    "                          .parallel=TRUE)\n",
    "host_tree_l %>% length"
   ]
  },
  {
   "cell_type": "markdown",
   "metadata": {},
   "source": [
    "# RRPP: archaea-bacteria"
   ]
  },
  {
   "cell_type": "code",
   "execution_count": 20,
   "metadata": {
    "ExecuteTime": {
     "end_time": "2020-08-28T13:59:20.345599Z",
     "start_time": "2020-08-28T13:59:10.322Z"
    }
   },
   "outputs": [
    {
     "data": {
      "text/html": [
       "<style>\n",
       ".list-inline {list-style: none; margin:0; padding: 0}\n",
       ".list-inline>li {display: inline-block}\n",
       ".list-inline>li:not(:last-child)::after {content: \"\\00b7\"; padding: 0 .5ex}\n",
       "</style>\n",
       "<ol class=list-inline><li>'bac_faith_pd'</li><li>'bac_observed_otus'</li><li>'bac_pielou_e'</li><li>'bac_shannon'</li></ol>\n"
      ],
      "text/latex": [
       "\\begin{enumerate*}\n",
       "\\item 'bac\\_faith\\_pd'\n",
       "\\item 'bac\\_observed\\_otus'\n",
       "\\item 'bac\\_pielou\\_e'\n",
       "\\item 'bac\\_shannon'\n",
       "\\end{enumerate*}\n"
      ],
      "text/markdown": [
       "1. 'bac_faith_pd'\n",
       "2. 'bac_observed_otus'\n",
       "3. 'bac_pielou_e'\n",
       "4. 'bac_shannon'\n",
       "\n",
       "\n"
      ],
      "text/plain": [
       "[1] \"bac_faith_pd\"      \"bac_observed_otus\" \"bac_pielou_e\"     \n",
       "[4] \"bac_shannon\"      "
      ]
     },
     "metadata": {},
     "output_type": "display_data"
    }
   ],
   "source": [
    "vars = c('bac_faith_pd', 'bac_observed_otus', \n",
    "         'bac_pielou_e', 'bac_shannon')\n",
    "vars"
   ]
  },
  {
   "cell_type": "markdown",
   "metadata": {},
   "source": [
    "## archaea: observed OTUs"
   ]
  },
  {
   "cell_type": "code",
   "execution_count": 21,
   "metadata": {
    "ExecuteTime": {
     "end_time": "2020-08-28T13:59:20.376308Z",
     "start_time": "2020-08-28T13:59:10.326Z"
    }
   },
   "outputs": [],
   "source": [
    ".rrpp_par = function(tree, taxon, otu, iter=999){\n",
    "    # tree\n",
    "    PhyCov = ape::vcv(tree, model = \"Brownian\")\n",
    "    # otu\n",
    "    otu_f = otu[rownames(PhyCov),]\n",
    "    data = list(OTUs = otu_f[,taxon] %>% as.matrix,\n",
    "                arc_observed_otus = otu_f$arc_observed_otus)\n",
    "    names(data[['arc_observed_otus']]) = rownames(otu_f)\n",
    "    # rrpp\n",
    "    fitGLS = lm.rrpp(OTUs ~ arc_observed_otus, data = data, Cov = PhyCov,\n",
    "                     print.progress = FALSE, SS.type = \"II\", iter = iter)\n",
    "    anova(fitGLS)$table\n",
    "}\n",
    "\n",
    "rrpp_par = function(taxon, otu, trees, iter=999){\n",
    "    #doParallel::registerDoParallel(threads)\n",
    "    df = trees %>% \n",
    "        plyr::llply(.rrpp_par, taxon=taxon, otu=otu, iter=iter, .parallel=FALSE) %>%\n",
    "        do.call(rbind, .) %>%\n",
    "        mutate(feature = gsub('[0-9]+$', '', rownames(.))) %>%\n",
    "        filter(! feature %in% c('Residuals', 'Total'))\n",
    "    df$alpha_div = taxon\n",
    "    return(df)   \n",
    "}"
   ]
  },
  {
   "cell_type": "code",
   "execution_count": 22,
   "metadata": {
    "ExecuteTime": {
     "end_time": "2020-08-28T14:04:49.866321Z",
     "start_time": "2020-08-28T13:59:10.329Z"
    }
   },
   "outputs": [
    {
     "data": {
      "text/html": [
       "<table>\n",
       "<caption>A anova: 400 × 9</caption>\n",
       "<thead>\n",
       "\t<tr><th scope=col>Df</th><th scope=col>SS</th><th scope=col>MS</th><th scope=col>Rsq</th><th scope=col>F</th><th scope=col>Z</th><th scope=col>Pr(&gt;F)</th><th scope=col>feature</th><th scope=col>alpha_div</th></tr>\n",
       "\t<tr><th scope=col>&lt;dbl&gt;</th><th scope=col>&lt;dbl&gt;</th><th scope=col>&lt;dbl&gt;</th><th scope=col>&lt;dbl&gt;</th><th scope=col>&lt;dbl&gt;</th><th scope=col>&lt;dbl&gt;</th><th scope=col>&lt;dbl&gt;</th><th scope=col>&lt;chr&gt;</th><th scope=col>&lt;chr&gt;</th></tr>\n",
       "</thead>\n",
       "<tbody>\n",
       "\t<tr><td>1</td><td> 2.486132</td><td> 2.486132</td><td>0.01297723</td><td>1.143863</td><td>0.566029</td><td>0.318</td><td>arc_observed_otus</td><td>bac_faith_pd</td></tr>\n",
       "\t<tr><td>1</td><td>36.889946</td><td>36.889946</td><td>0.09419707</td><td>9.047382</td><td>1.499778</td><td>0.006</td><td>arc_observed_otus</td><td>bac_faith_pd</td></tr>\n",
       "\t<tr><td>⋮</td><td>⋮</td><td>⋮</td><td>⋮</td><td>⋮</td><td>⋮</td><td>⋮</td><td>⋮</td><td>⋮</td></tr>\n",
       "\t<tr><td>1</td><td>0.96771882</td><td>0.96771882</td><td>0.09645916</td><td>9.287845</td><td>1.6408853</td><td>0.008</td><td>arc_observed_otus</td><td>bac_shannon</td></tr>\n",
       "\t<tr><td>1</td><td>0.06725226</td><td>0.06725226</td><td>0.01218812</td><td>1.061111</td><td>0.6324475</td><td>0.288</td><td>arc_observed_otus</td><td>bac_shannon</td></tr>\n",
       "</tbody>\n",
       "</table>\n"
      ],
      "text/latex": [
       "A anova: 400 × 9\n",
       "\\begin{tabular}{lllllllll}\n",
       " Df & SS & MS & Rsq & F & Z & Pr(>F) & feature & alpha\\_div\\\\\n",
       " <dbl> & <dbl> & <dbl> & <dbl> & <dbl> & <dbl> & <dbl> & <chr> & <chr>\\\\\n",
       "\\hline\n",
       "\t 1 &  2.486132 &  2.486132 & 0.01297723 & 1.143863 & 0.566029 & 0.318 & arc\\_observed\\_otus & bac\\_faith\\_pd\\\\\n",
       "\t 1 & 36.889946 & 36.889946 & 0.09419707 & 9.047382 & 1.499778 & 0.006 & arc\\_observed\\_otus & bac\\_faith\\_pd\\\\\n",
       "\t ⋮ & ⋮ & ⋮ & ⋮ & ⋮ & ⋮ & ⋮ & ⋮ & ⋮\\\\\n",
       "\t 1 & 0.96771882 & 0.96771882 & 0.09645916 & 9.287845 & 1.6408853 & 0.008 & arc\\_observed\\_otus & bac\\_shannon\\\\\n",
       "\t 1 & 0.06725226 & 0.06725226 & 0.01218812 & 1.061111 & 0.6324475 & 0.288 & arc\\_observed\\_otus & bac\\_shannon\\\\\n",
       "\\end{tabular}\n"
      ],
      "text/markdown": [
       "\n",
       "A anova: 400 × 9\n",
       "\n",
       "| Df &lt;dbl&gt; | SS &lt;dbl&gt; | MS &lt;dbl&gt; | Rsq &lt;dbl&gt; | F &lt;dbl&gt; | Z &lt;dbl&gt; | Pr(&gt;F) &lt;dbl&gt; | feature &lt;chr&gt; | alpha_div &lt;chr&gt; |\n",
       "|---|---|---|---|---|---|---|---|---|\n",
       "| 1 |  2.486132 |  2.486132 | 0.01297723 | 1.143863 | 0.566029 | 0.318 | arc_observed_otus | bac_faith_pd |\n",
       "| 1 | 36.889946 | 36.889946 | 0.09419707 | 9.047382 | 1.499778 | 0.006 | arc_observed_otus | bac_faith_pd |\n",
       "| ⋮ | ⋮ | ⋮ | ⋮ | ⋮ | ⋮ | ⋮ | ⋮ | ⋮ |\n",
       "| 1 | 0.96771882 | 0.96771882 | 0.09645916 | 9.287845 | 1.6408853 | 0.008 | arc_observed_otus | bac_shannon |\n",
       "| 1 | 0.06725226 | 0.06725226 | 0.01218812 | 1.061111 | 0.6324475 | 0.288 | arc_observed_otus | bac_shannon |\n",
       "\n"
      ],
      "text/plain": [
       "    Df SS         MS         Rsq        F        Z         Pr(>F)\n",
       "1   1   2.486132   2.486132  0.01297723 1.143863 0.566029  0.318 \n",
       "2   1  36.889946  36.889946  0.09419707 9.047382 1.499778  0.006 \n",
       "⋮   ⋮  ⋮          ⋮          ⋮          ⋮        ⋮         ⋮     \n",
       "399 1  0.96771882 0.96771882 0.09645916 9.287845 1.6408853 0.008 \n",
       "400 1  0.06725226 0.06725226 0.01218812 1.061111 0.6324475 0.288 \n",
       "    feature           alpha_div   \n",
       "1   arc_observed_otus bac_faith_pd\n",
       "2   arc_observed_otus bac_faith_pd\n",
       "⋮   ⋮                 ⋮           \n",
       "399 arc_observed_otus bac_shannon \n",
       "400 arc_observed_otus bac_shannon "
      ]
     },
     "metadata": {},
     "output_type": "display_data"
    }
   ],
   "source": [
    "#running for all alpha-div values & all trees\n",
    "doParallel::registerDoParallel(threads)\n",
    "rrpp_res = vars %>%\n",
    "    plyr::llply(rrpp_par, alpha_div_j, host_tree_l, iter=999, .parallel=TRUE) %>%\n",
    "    do.call(rbind, .)\n",
    "rrpp_res"
   ]
  },
  {
   "cell_type": "code",
   "execution_count": 23,
   "metadata": {
    "ExecuteTime": {
     "end_time": "2020-08-28T14:04:49.970098Z",
     "start_time": "2020-08-28T13:59:10.332Z"
    }
   },
   "outputs": [
    {
     "data": {
      "text/html": [
       "<table>\n",
       "<caption>A matrix: 1 × 8 of type dbl</caption>\n",
       "<thead>\n",
       "\t<tr><th></th><th scope=col>Min.</th><th scope=col>1st Qu.</th><th scope=col>Median</th><th scope=col>Mean</th><th scope=col>3rd Qu.</th><th scope=col>Max.</th><th scope=col>sd</th><th scope=col>sd_err_of_mean</th></tr>\n",
       "</thead>\n",
       "<tbody>\n",
       "\t<tr><th scope=row>Adj. P</th><td>0.63</td><td>0.63</td><td>0.63</td><td>0.63</td><td>0.63</td><td>0.63</td><td>0</td><td>0</td></tr>\n",
       "</tbody>\n",
       "</table>\n"
      ],
      "text/latex": [
       "A matrix: 1 × 8 of type dbl\n",
       "\\begin{tabular}{r|llllllll}\n",
       "  & Min. & 1st Qu. & Median & Mean & 3rd Qu. & Max. & sd & sd\\_err\\_of\\_mean\\\\\n",
       "\\hline\n",
       "\tAdj. P & 0.63 & 0.63 & 0.63 & 0.63 & 0.63 & 0.63 & 0 & 0\\\\\n",
       "\\end{tabular}\n"
      ],
      "text/markdown": [
       "\n",
       "A matrix: 1 × 8 of type dbl\n",
       "\n",
       "| <!--/--> | Min. | 1st Qu. | Median | Mean | 3rd Qu. | Max. | sd | sd_err_of_mean |\n",
       "|---|---|---|---|---|---|---|---|---|\n",
       "| Adj. P | 0.63 | 0.63 | 0.63 | 0.63 | 0.63 | 0.63 | 0 | 0 |\n",
       "\n"
      ],
      "text/plain": [
       "       Min. 1st Qu. Median Mean 3rd Qu. Max. sd sd_err_of_mean\n",
       "Adj. P 0.63 0.63    0.63   0.63 0.63    0.63 0  0             "
      ]
     },
     "metadata": {},
     "output_type": "display_data"
    },
    {
     "data": {
      "text/html": [
       "<table>\n",
       "<caption>A tibble: 400 × 10</caption>\n",
       "<thead>\n",
       "\t<tr><th scope=col>Df</th><th scope=col>SS</th><th scope=col>MS</th><th scope=col>Rsq</th><th scope=col>F</th><th scope=col>Z</th><th scope=col>P</th><th scope=col>feature</th><th scope=col>alpha_div</th><th scope=col>Q</th></tr>\n",
       "\t<tr><th scope=col>&lt;dbl&gt;</th><th scope=col>&lt;dbl&gt;</th><th scope=col>&lt;dbl&gt;</th><th scope=col>&lt;dbl&gt;</th><th scope=col>&lt;dbl&gt;</th><th scope=col>&lt;dbl&gt;</th><th scope=col>&lt;dbl&gt;</th><th scope=col>&lt;chr&gt;</th><th scope=col>&lt;chr&gt;</th><th scope=col>&lt;dbl&gt;</th></tr>\n",
       "</thead>\n",
       "<tbody>\n",
       "\t<tr><td>1</td><td> 2.486132</td><td> 2.486132</td><td>0.01297723</td><td>1.143863</td><td>0.566029</td><td>0.5</td><td>arc_observed_otus</td><td>bac_faith_pd</td><td>0.63</td></tr>\n",
       "\t<tr><td>1</td><td>36.889946</td><td>36.889946</td><td>0.09419707</td><td>9.047382</td><td>1.499778</td><td>0.5</td><td>arc_observed_otus</td><td>bac_faith_pd</td><td>0.63</td></tr>\n",
       "\t<tr><td>⋮</td><td>⋮</td><td>⋮</td><td>⋮</td><td>⋮</td><td>⋮</td><td>⋮</td><td>⋮</td><td>⋮</td><td>⋮</td></tr>\n",
       "\t<tr><td>1</td><td>0.96771882</td><td>0.96771882</td><td>0.09645916</td><td>9.287845</td><td>1.6408853</td><td>0.57</td><td>arc_observed_otus</td><td>bac_shannon</td><td>0.63</td></tr>\n",
       "\t<tr><td>1</td><td>0.06725226</td><td>0.06725226</td><td>0.01218812</td><td>1.061111</td><td>0.6324475</td><td>0.57</td><td>arc_observed_otus</td><td>bac_shannon</td><td>0.63</td></tr>\n",
       "</tbody>\n",
       "</table>\n"
      ],
      "text/latex": [
       "A tibble: 400 × 10\n",
       "\\begin{tabular}{llllllllll}\n",
       " Df & SS & MS & Rsq & F & Z & P & feature & alpha\\_div & Q\\\\\n",
       " <dbl> & <dbl> & <dbl> & <dbl> & <dbl> & <dbl> & <dbl> & <chr> & <chr> & <dbl>\\\\\n",
       "\\hline\n",
       "\t 1 &  2.486132 &  2.486132 & 0.01297723 & 1.143863 & 0.566029 & 0.5 & arc\\_observed\\_otus & bac\\_faith\\_pd & 0.63\\\\\n",
       "\t 1 & 36.889946 & 36.889946 & 0.09419707 & 9.047382 & 1.499778 & 0.5 & arc\\_observed\\_otus & bac\\_faith\\_pd & 0.63\\\\\n",
       "\t ⋮ & ⋮ & ⋮ & ⋮ & ⋮ & ⋮ & ⋮ & ⋮ & ⋮ & ⋮\\\\\n",
       "\t 1 & 0.96771882 & 0.96771882 & 0.09645916 & 9.287845 & 1.6408853 & 0.57 & arc\\_observed\\_otus & bac\\_shannon & 0.63\\\\\n",
       "\t 1 & 0.06725226 & 0.06725226 & 0.01218812 & 1.061111 & 0.6324475 & 0.57 & arc\\_observed\\_otus & bac\\_shannon & 0.63\\\\\n",
       "\\end{tabular}\n"
      ],
      "text/markdown": [
       "\n",
       "A tibble: 400 × 10\n",
       "\n",
       "| Df &lt;dbl&gt; | SS &lt;dbl&gt; | MS &lt;dbl&gt; | Rsq &lt;dbl&gt; | F &lt;dbl&gt; | Z &lt;dbl&gt; | P &lt;dbl&gt; | feature &lt;chr&gt; | alpha_div &lt;chr&gt; | Q &lt;dbl&gt; |\n",
       "|---|---|---|---|---|---|---|---|---|---|\n",
       "| 1 |  2.486132 |  2.486132 | 0.01297723 | 1.143863 | 0.566029 | 0.5 | arc_observed_otus | bac_faith_pd | 0.63 |\n",
       "| 1 | 36.889946 | 36.889946 | 0.09419707 | 9.047382 | 1.499778 | 0.5 | arc_observed_otus | bac_faith_pd | 0.63 |\n",
       "| ⋮ | ⋮ | ⋮ | ⋮ | ⋮ | ⋮ | ⋮ | ⋮ | ⋮ | ⋮ |\n",
       "| 1 | 0.96771882 | 0.96771882 | 0.09645916 | 9.287845 | 1.6408853 | 0.57 | arc_observed_otus | bac_shannon | 0.63 |\n",
       "| 1 | 0.06725226 | 0.06725226 | 0.01218812 | 1.061111 | 0.6324475 | 0.57 | arc_observed_otus | bac_shannon | 0.63 |\n",
       "\n"
      ],
      "text/plain": [
       "    Df SS         MS         Rsq        F        Z         P   \n",
       "1   1   2.486132   2.486132  0.01297723 1.143863 0.566029  0.5 \n",
       "2   1  36.889946  36.889946  0.09419707 9.047382 1.499778  0.5 \n",
       "⋮   ⋮  ⋮          ⋮          ⋮          ⋮        ⋮         ⋮   \n",
       "399 1  0.96771882 0.96771882 0.09645916 9.287845 1.6408853 0.57\n",
       "400 1  0.06725226 0.06725226 0.01218812 1.061111 0.6324475 0.57\n",
       "    feature           alpha_div    Q   \n",
       "1   arc_observed_otus bac_faith_pd 0.63\n",
       "2   arc_observed_otus bac_faith_pd 0.63\n",
       "⋮   ⋮                 ⋮            ⋮   \n",
       "399 arc_observed_otus bac_shannon  0.63\n",
       "400 arc_observed_otus bac_shannon  0.63"
      ]
     },
     "metadata": {},
     "output_type": "display_data"
    }
   ],
   "source": [
    "# formatting\n",
    "rrpp_res_obsOTU = rrpp_res %>%\n",
    "    rename('P' = `Pr(>F)`) %>%\n",
    "    group_by(alpha_div) %>%\n",
    "    mutate(P = (length(P) - sum(P < 0.05)) / length(P)) %>%\n",
    "    ungroup() %>%\n",
    "    mutate(Q = p.adjust(P, method='BH'))\n",
    "\n",
    "rrpp_res_obsOTU %>% .$Q %>% summary_x('Adj. P')\n",
    "rrpp_res_obsOTU"
   ]
  },
  {
   "cell_type": "markdown",
   "metadata": {},
   "source": [
    "## archaea: shannon"
   ]
  },
  {
   "cell_type": "code",
   "execution_count": 24,
   "metadata": {
    "ExecuteTime": {
     "end_time": "2020-08-28T14:04:49.997425Z",
     "start_time": "2020-08-28T13:59:10.336Z"
    }
   },
   "outputs": [],
   "source": [
    ".rrpp_par = function(tree, taxon, otu, iter=999){\n",
    "    # tree\n",
    "    PhyCov = ape::vcv(tree, model = \"Brownian\")\n",
    "    # otu\n",
    "    otu_f = otu[rownames(PhyCov),]\n",
    "    data = list(OTUs = otu_f[,taxon] %>% as.matrix,\n",
    "                arc_shannon = otu_f$arc_observed_otus)\n",
    "    names(data[['arc_shannon']]) = rownames(otu_f)\n",
    "    # rrpp\n",
    "    fitGLS = lm.rrpp(OTUs ~ arc_shannon, data = data, Cov = PhyCov,\n",
    "                     print.progress = FALSE, SS.type = \"II\", iter = iter)\n",
    "    anova(fitGLS)$table\n",
    "}\n",
    "\n",
    "rrpp_par = function(taxon, otu, trees, iter=999){\n",
    "    #doParallel::registerDoParallel(threads)\n",
    "    df = trees %>% \n",
    "        plyr::llply(.rrpp_par, taxon=taxon, otu=otu, iter=iter, .parallel=FALSE) %>%\n",
    "        do.call(rbind, .) %>%\n",
    "        mutate(feature = gsub('[0-9]+$', '', rownames(.))) %>%\n",
    "        filter(! feature %in% c('Residuals', 'Total'))\n",
    "    df$alpha_div = taxon\n",
    "    return(df)   \n",
    "}"
   ]
  },
  {
   "cell_type": "code",
   "execution_count": 25,
   "metadata": {
    "ExecuteTime": {
     "end_time": "2020-08-28T14:09:37.781952Z",
     "start_time": "2020-08-28T13:59:10.339Z"
    }
   },
   "outputs": [
    {
     "data": {
      "text/html": [
       "<table>\n",
       "<caption>A anova: 400 × 9</caption>\n",
       "<thead>\n",
       "\t<tr><th scope=col>Df</th><th scope=col>SS</th><th scope=col>MS</th><th scope=col>Rsq</th><th scope=col>F</th><th scope=col>Z</th><th scope=col>Pr(&gt;F)</th><th scope=col>feature</th><th scope=col>alpha_div</th></tr>\n",
       "\t<tr><th scope=col>&lt;dbl&gt;</th><th scope=col>&lt;dbl&gt;</th><th scope=col>&lt;dbl&gt;</th><th scope=col>&lt;dbl&gt;</th><th scope=col>&lt;dbl&gt;</th><th scope=col>&lt;dbl&gt;</th><th scope=col>&lt;dbl&gt;</th><th scope=col>&lt;chr&gt;</th><th scope=col>&lt;chr&gt;</th></tr>\n",
       "</thead>\n",
       "<tbody>\n",
       "\t<tr><td>1</td><td> 2.486132</td><td> 2.486132</td><td>0.01297723</td><td>1.143863</td><td>0.566029</td><td>0.318</td><td>arc_shannon</td><td>bac_faith_pd</td></tr>\n",
       "\t<tr><td>1</td><td>36.889946</td><td>36.889946</td><td>0.09419707</td><td>9.047382</td><td>1.499778</td><td>0.006</td><td>arc_shannon</td><td>bac_faith_pd</td></tr>\n",
       "\t<tr><td>⋮</td><td>⋮</td><td>⋮</td><td>⋮</td><td>⋮</td><td>⋮</td><td>⋮</td><td>⋮</td><td>⋮</td></tr>\n",
       "\t<tr><td>1</td><td>0.96771882</td><td>0.96771882</td><td>0.09645916</td><td>9.287845</td><td>1.6408853</td><td>0.008</td><td>arc_shannon</td><td>bac_shannon</td></tr>\n",
       "\t<tr><td>1</td><td>0.06725226</td><td>0.06725226</td><td>0.01218812</td><td>1.061111</td><td>0.6324475</td><td>0.288</td><td>arc_shannon</td><td>bac_shannon</td></tr>\n",
       "</tbody>\n",
       "</table>\n"
      ],
      "text/latex": [
       "A anova: 400 × 9\n",
       "\\begin{tabular}{lllllllll}\n",
       " Df & SS & MS & Rsq & F & Z & Pr(>F) & feature & alpha\\_div\\\\\n",
       " <dbl> & <dbl> & <dbl> & <dbl> & <dbl> & <dbl> & <dbl> & <chr> & <chr>\\\\\n",
       "\\hline\n",
       "\t 1 &  2.486132 &  2.486132 & 0.01297723 & 1.143863 & 0.566029 & 0.318 & arc\\_shannon & bac\\_faith\\_pd\\\\\n",
       "\t 1 & 36.889946 & 36.889946 & 0.09419707 & 9.047382 & 1.499778 & 0.006 & arc\\_shannon & bac\\_faith\\_pd\\\\\n",
       "\t ⋮ & ⋮ & ⋮ & ⋮ & ⋮ & ⋮ & ⋮ & ⋮ & ⋮\\\\\n",
       "\t 1 & 0.96771882 & 0.96771882 & 0.09645916 & 9.287845 & 1.6408853 & 0.008 & arc\\_shannon & bac\\_shannon\\\\\n",
       "\t 1 & 0.06725226 & 0.06725226 & 0.01218812 & 1.061111 & 0.6324475 & 0.288 & arc\\_shannon & bac\\_shannon\\\\\n",
       "\\end{tabular}\n"
      ],
      "text/markdown": [
       "\n",
       "A anova: 400 × 9\n",
       "\n",
       "| Df &lt;dbl&gt; | SS &lt;dbl&gt; | MS &lt;dbl&gt; | Rsq &lt;dbl&gt; | F &lt;dbl&gt; | Z &lt;dbl&gt; | Pr(&gt;F) &lt;dbl&gt; | feature &lt;chr&gt; | alpha_div &lt;chr&gt; |\n",
       "|---|---|---|---|---|---|---|---|---|\n",
       "| 1 |  2.486132 |  2.486132 | 0.01297723 | 1.143863 | 0.566029 | 0.318 | arc_shannon | bac_faith_pd |\n",
       "| 1 | 36.889946 | 36.889946 | 0.09419707 | 9.047382 | 1.499778 | 0.006 | arc_shannon | bac_faith_pd |\n",
       "| ⋮ | ⋮ | ⋮ | ⋮ | ⋮ | ⋮ | ⋮ | ⋮ | ⋮ |\n",
       "| 1 | 0.96771882 | 0.96771882 | 0.09645916 | 9.287845 | 1.6408853 | 0.008 | arc_shannon | bac_shannon |\n",
       "| 1 | 0.06725226 | 0.06725226 | 0.01218812 | 1.061111 | 0.6324475 | 0.288 | arc_shannon | bac_shannon |\n",
       "\n"
      ],
      "text/plain": [
       "    Df SS         MS         Rsq        F        Z         Pr(>F) feature    \n",
       "1   1   2.486132   2.486132  0.01297723 1.143863 0.566029  0.318  arc_shannon\n",
       "2   1  36.889946  36.889946  0.09419707 9.047382 1.499778  0.006  arc_shannon\n",
       "⋮   ⋮  ⋮          ⋮          ⋮          ⋮        ⋮         ⋮      ⋮          \n",
       "399 1  0.96771882 0.96771882 0.09645916 9.287845 1.6408853 0.008  arc_shannon\n",
       "400 1  0.06725226 0.06725226 0.01218812 1.061111 0.6324475 0.288  arc_shannon\n",
       "    alpha_div   \n",
       "1   bac_faith_pd\n",
       "2   bac_faith_pd\n",
       "⋮   ⋮           \n",
       "399 bac_shannon \n",
       "400 bac_shannon "
      ]
     },
     "metadata": {},
     "output_type": "display_data"
    }
   ],
   "source": [
    "#running for all alpha-div values & all trees\n",
    "doParallel::registerDoParallel(threads)\n",
    "rrpp_res = vars %>%\n",
    "    plyr::llply(rrpp_par, alpha_div_j, host_tree_l, iter=999, .parallel=TRUE) %>%\n",
    "    do.call(rbind, .)\n",
    "rrpp_res"
   ]
  },
  {
   "cell_type": "code",
   "execution_count": 26,
   "metadata": {
    "ExecuteTime": {
     "end_time": "2020-08-28T14:09:37.877524Z",
     "start_time": "2020-08-28T13:59:10.342Z"
    }
   },
   "outputs": [
    {
     "data": {
      "text/html": [
       "<table>\n",
       "<caption>A matrix: 1 × 8 of type dbl</caption>\n",
       "<thead>\n",
       "\t<tr><th></th><th scope=col>Min.</th><th scope=col>1st Qu.</th><th scope=col>Median</th><th scope=col>Mean</th><th scope=col>3rd Qu.</th><th scope=col>Max.</th><th scope=col>sd</th><th scope=col>sd_err_of_mean</th></tr>\n",
       "</thead>\n",
       "<tbody>\n",
       "\t<tr><th scope=row>Adj. P</th><td>0.63</td><td>0.63</td><td>0.63</td><td>0.63</td><td>0.63</td><td>0.63</td><td>0</td><td>0</td></tr>\n",
       "</tbody>\n",
       "</table>\n"
      ],
      "text/latex": [
       "A matrix: 1 × 8 of type dbl\n",
       "\\begin{tabular}{r|llllllll}\n",
       "  & Min. & 1st Qu. & Median & Mean & 3rd Qu. & Max. & sd & sd\\_err\\_of\\_mean\\\\\n",
       "\\hline\n",
       "\tAdj. P & 0.63 & 0.63 & 0.63 & 0.63 & 0.63 & 0.63 & 0 & 0\\\\\n",
       "\\end{tabular}\n"
      ],
      "text/markdown": [
       "\n",
       "A matrix: 1 × 8 of type dbl\n",
       "\n",
       "| <!--/--> | Min. | 1st Qu. | Median | Mean | 3rd Qu. | Max. | sd | sd_err_of_mean |\n",
       "|---|---|---|---|---|---|---|---|---|\n",
       "| Adj. P | 0.63 | 0.63 | 0.63 | 0.63 | 0.63 | 0.63 | 0 | 0 |\n",
       "\n"
      ],
      "text/plain": [
       "       Min. 1st Qu. Median Mean 3rd Qu. Max. sd sd_err_of_mean\n",
       "Adj. P 0.63 0.63    0.63   0.63 0.63    0.63 0  0             "
      ]
     },
     "metadata": {},
     "output_type": "display_data"
    },
    {
     "data": {
      "text/html": [
       "<table>\n",
       "<caption>A tibble: 400 × 10</caption>\n",
       "<thead>\n",
       "\t<tr><th scope=col>Df</th><th scope=col>SS</th><th scope=col>MS</th><th scope=col>Rsq</th><th scope=col>F</th><th scope=col>Z</th><th scope=col>P</th><th scope=col>feature</th><th scope=col>alpha_div</th><th scope=col>Q</th></tr>\n",
       "\t<tr><th scope=col>&lt;dbl&gt;</th><th scope=col>&lt;dbl&gt;</th><th scope=col>&lt;dbl&gt;</th><th scope=col>&lt;dbl&gt;</th><th scope=col>&lt;dbl&gt;</th><th scope=col>&lt;dbl&gt;</th><th scope=col>&lt;dbl&gt;</th><th scope=col>&lt;chr&gt;</th><th scope=col>&lt;chr&gt;</th><th scope=col>&lt;dbl&gt;</th></tr>\n",
       "</thead>\n",
       "<tbody>\n",
       "\t<tr><td>1</td><td> 2.486132</td><td> 2.486132</td><td>0.01297723</td><td>1.143863</td><td>0.566029</td><td>0.5</td><td>arc_shannon</td><td>bac_faith_pd</td><td>0.63</td></tr>\n",
       "\t<tr><td>1</td><td>36.889946</td><td>36.889946</td><td>0.09419707</td><td>9.047382</td><td>1.499778</td><td>0.5</td><td>arc_shannon</td><td>bac_faith_pd</td><td>0.63</td></tr>\n",
       "\t<tr><td>⋮</td><td>⋮</td><td>⋮</td><td>⋮</td><td>⋮</td><td>⋮</td><td>⋮</td><td>⋮</td><td>⋮</td><td>⋮</td></tr>\n",
       "\t<tr><td>1</td><td>0.96771882</td><td>0.96771882</td><td>0.09645916</td><td>9.287845</td><td>1.6408853</td><td>0.57</td><td>arc_shannon</td><td>bac_shannon</td><td>0.63</td></tr>\n",
       "\t<tr><td>1</td><td>0.06725226</td><td>0.06725226</td><td>0.01218812</td><td>1.061111</td><td>0.6324475</td><td>0.57</td><td>arc_shannon</td><td>bac_shannon</td><td>0.63</td></tr>\n",
       "</tbody>\n",
       "</table>\n"
      ],
      "text/latex": [
       "A tibble: 400 × 10\n",
       "\\begin{tabular}{llllllllll}\n",
       " Df & SS & MS & Rsq & F & Z & P & feature & alpha\\_div & Q\\\\\n",
       " <dbl> & <dbl> & <dbl> & <dbl> & <dbl> & <dbl> & <dbl> & <chr> & <chr> & <dbl>\\\\\n",
       "\\hline\n",
       "\t 1 &  2.486132 &  2.486132 & 0.01297723 & 1.143863 & 0.566029 & 0.5 & arc\\_shannon & bac\\_faith\\_pd & 0.63\\\\\n",
       "\t 1 & 36.889946 & 36.889946 & 0.09419707 & 9.047382 & 1.499778 & 0.5 & arc\\_shannon & bac\\_faith\\_pd & 0.63\\\\\n",
       "\t ⋮ & ⋮ & ⋮ & ⋮ & ⋮ & ⋮ & ⋮ & ⋮ & ⋮ & ⋮\\\\\n",
       "\t 1 & 0.96771882 & 0.96771882 & 0.09645916 & 9.287845 & 1.6408853 & 0.57 & arc\\_shannon & bac\\_shannon & 0.63\\\\\n",
       "\t 1 & 0.06725226 & 0.06725226 & 0.01218812 & 1.061111 & 0.6324475 & 0.57 & arc\\_shannon & bac\\_shannon & 0.63\\\\\n",
       "\\end{tabular}\n"
      ],
      "text/markdown": [
       "\n",
       "A tibble: 400 × 10\n",
       "\n",
       "| Df &lt;dbl&gt; | SS &lt;dbl&gt; | MS &lt;dbl&gt; | Rsq &lt;dbl&gt; | F &lt;dbl&gt; | Z &lt;dbl&gt; | P &lt;dbl&gt; | feature &lt;chr&gt; | alpha_div &lt;chr&gt; | Q &lt;dbl&gt; |\n",
       "|---|---|---|---|---|---|---|---|---|---|\n",
       "| 1 |  2.486132 |  2.486132 | 0.01297723 | 1.143863 | 0.566029 | 0.5 | arc_shannon | bac_faith_pd | 0.63 |\n",
       "| 1 | 36.889946 | 36.889946 | 0.09419707 | 9.047382 | 1.499778 | 0.5 | arc_shannon | bac_faith_pd | 0.63 |\n",
       "| ⋮ | ⋮ | ⋮ | ⋮ | ⋮ | ⋮ | ⋮ | ⋮ | ⋮ | ⋮ |\n",
       "| 1 | 0.96771882 | 0.96771882 | 0.09645916 | 9.287845 | 1.6408853 | 0.57 | arc_shannon | bac_shannon | 0.63 |\n",
       "| 1 | 0.06725226 | 0.06725226 | 0.01218812 | 1.061111 | 0.6324475 | 0.57 | arc_shannon | bac_shannon | 0.63 |\n",
       "\n"
      ],
      "text/plain": [
       "    Df SS         MS         Rsq        F        Z         P    feature    \n",
       "1   1   2.486132   2.486132  0.01297723 1.143863 0.566029  0.5  arc_shannon\n",
       "2   1  36.889946  36.889946  0.09419707 9.047382 1.499778  0.5  arc_shannon\n",
       "⋮   ⋮  ⋮          ⋮          ⋮          ⋮        ⋮         ⋮    ⋮          \n",
       "399 1  0.96771882 0.96771882 0.09645916 9.287845 1.6408853 0.57 arc_shannon\n",
       "400 1  0.06725226 0.06725226 0.01218812 1.061111 0.6324475 0.57 arc_shannon\n",
       "    alpha_div    Q   \n",
       "1   bac_faith_pd 0.63\n",
       "2   bac_faith_pd 0.63\n",
       "⋮   ⋮            ⋮   \n",
       "399 bac_shannon  0.63\n",
       "400 bac_shannon  0.63"
      ]
     },
     "metadata": {},
     "output_type": "display_data"
    }
   ],
   "source": [
    "# formatting\n",
    "rrpp_res_shannon = rrpp_res %>%\n",
    "    rename('P' = `Pr(>F)`) %>%\n",
    "    group_by(alpha_div) %>%\n",
    "    mutate(P = (length(P) - sum(P < 0.05)) / length(P)) %>%\n",
    "    ungroup() %>%\n",
    "    mutate(Q = p.adjust(P, method='BH'))\n",
    "\n",
    "rrpp_res_shannon %>% .$Q %>% summary_x('Adj. P')\n",
    "rrpp_res_shannon"
   ]
  },
  {
   "cell_type": "markdown",
   "metadata": {},
   "source": [
    "## archaea: faith's PD"
   ]
  },
  {
   "cell_type": "code",
   "execution_count": 27,
   "metadata": {
    "ExecuteTime": {
     "end_time": "2020-08-28T14:09:37.906119Z",
     "start_time": "2020-08-28T13:59:10.346Z"
    }
   },
   "outputs": [],
   "source": [
    ".rrpp_par = function(tree, taxon, otu, iter=999){\n",
    "    # tree\n",
    "    PhyCov = ape::vcv(tree, model = \"Brownian\")\n",
    "    # otu\n",
    "    otu_f = otu[rownames(PhyCov),]\n",
    "    data = list(OTUs = otu_f[,taxon] %>% as.matrix,\n",
    "                arc_faith_pd = otu_f$arc_faith_pd)\n",
    "    names(data[['arc_faith_pd']]) = rownames(otu_f)\n",
    "    # rrpp\n",
    "    fitGLS = lm.rrpp(OTUs ~ arc_faith_pd, data = data, Cov = PhyCov,\n",
    "                     print.progress = FALSE, SS.type = \"II\", iter = iter)\n",
    "    anova(fitGLS)$table\n",
    "}\n",
    "\n",
    "rrpp_par = function(taxon, otu, trees, iter=999){\n",
    "    #doParallel::registerDoParallel(threads)\n",
    "    df = trees %>% \n",
    "        plyr::llply(.rrpp_par, taxon=taxon, otu=otu, iter=iter, .parallel=FALSE) %>%\n",
    "        do.call(rbind, .) %>%\n",
    "        mutate(feature = gsub('[0-9]+$', '', rownames(.))) %>%\n",
    "        filter(! feature %in% c('Residuals', 'Total'))\n",
    "    df$alpha_div = taxon\n",
    "    return(df)   \n",
    "}"
   ]
  },
  {
   "cell_type": "code",
   "execution_count": 28,
   "metadata": {
    "ExecuteTime": {
     "end_time": "2020-08-28T14:14:29.448757Z",
     "start_time": "2020-08-28T13:59:10.349Z"
    }
   },
   "outputs": [
    {
     "data": {
      "text/html": [
       "<table>\n",
       "<caption>A anova: 400 × 9</caption>\n",
       "<thead>\n",
       "\t<tr><th scope=col>Df</th><th scope=col>SS</th><th scope=col>MS</th><th scope=col>Rsq</th><th scope=col>F</th><th scope=col>Z</th><th scope=col>Pr(&gt;F)</th><th scope=col>feature</th><th scope=col>alpha_div</th></tr>\n",
       "\t<tr><th scope=col>&lt;dbl&gt;</th><th scope=col>&lt;dbl&gt;</th><th scope=col>&lt;dbl&gt;</th><th scope=col>&lt;dbl&gt;</th><th scope=col>&lt;dbl&gt;</th><th scope=col>&lt;dbl&gt;</th><th scope=col>&lt;dbl&gt;</th><th scope=col>&lt;chr&gt;</th><th scope=col>&lt;chr&gt;</th></tr>\n",
       "</thead>\n",
       "<tbody>\n",
       "\t<tr><td>1</td><td> 0.8801858</td><td> 0.8801858</td><td>0.004594435</td><td>0.4015608</td><td>0.1828755</td><td>0.526</td><td>arc_faith_pd</td><td>bac_faith_pd</td></tr>\n",
       "\t<tr><td>1</td><td>13.2715065</td><td>13.2715065</td><td>0.033888285</td><td>3.0516976</td><td>1.0902873</td><td>0.069</td><td>arc_faith_pd</td><td>bac_faith_pd</td></tr>\n",
       "\t<tr><td>⋮</td><td>⋮</td><td>⋮</td><td>⋮</td><td>⋮</td><td>⋮</td><td>⋮</td><td>⋮</td><td>⋮</td></tr>\n",
       "\t<tr><td>1</td><td>0.4433719</td><td>0.4433719</td><td>0.044193918</td><td>4.0226474</td><td>1.1276688</td><td>0.049</td><td>arc_faith_pd</td><td>bac_shannon</td></tr>\n",
       "\t<tr><td>1</td><td>0.0405702</td><td>0.0405702</td><td>0.007352531</td><td>0.6370012</td><td>0.4001519</td><td>0.396</td><td>arc_faith_pd</td><td>bac_shannon</td></tr>\n",
       "</tbody>\n",
       "</table>\n"
      ],
      "text/latex": [
       "A anova: 400 × 9\n",
       "\\begin{tabular}{lllllllll}\n",
       " Df & SS & MS & Rsq & F & Z & Pr(>F) & feature & alpha\\_div\\\\\n",
       " <dbl> & <dbl> & <dbl> & <dbl> & <dbl> & <dbl> & <dbl> & <chr> & <chr>\\\\\n",
       "\\hline\n",
       "\t 1 &  0.8801858 &  0.8801858 & 0.004594435 & 0.4015608 & 0.1828755 & 0.526 & arc\\_faith\\_pd & bac\\_faith\\_pd\\\\\n",
       "\t 1 & 13.2715065 & 13.2715065 & 0.033888285 & 3.0516976 & 1.0902873 & 0.069 & arc\\_faith\\_pd & bac\\_faith\\_pd\\\\\n",
       "\t ⋮ & ⋮ & ⋮ & ⋮ & ⋮ & ⋮ & ⋮ & ⋮ & ⋮\\\\\n",
       "\t 1 & 0.4433719 & 0.4433719 & 0.044193918 & 4.0226474 & 1.1276688 & 0.049 & arc\\_faith\\_pd & bac\\_shannon\\\\\n",
       "\t 1 & 0.0405702 & 0.0405702 & 0.007352531 & 0.6370012 & 0.4001519 & 0.396 & arc\\_faith\\_pd & bac\\_shannon\\\\\n",
       "\\end{tabular}\n"
      ],
      "text/markdown": [
       "\n",
       "A anova: 400 × 9\n",
       "\n",
       "| Df &lt;dbl&gt; | SS &lt;dbl&gt; | MS &lt;dbl&gt; | Rsq &lt;dbl&gt; | F &lt;dbl&gt; | Z &lt;dbl&gt; | Pr(&gt;F) &lt;dbl&gt; | feature &lt;chr&gt; | alpha_div &lt;chr&gt; |\n",
       "|---|---|---|---|---|---|---|---|---|\n",
       "| 1 |  0.8801858 |  0.8801858 | 0.004594435 | 0.4015608 | 0.1828755 | 0.526 | arc_faith_pd | bac_faith_pd |\n",
       "| 1 | 13.2715065 | 13.2715065 | 0.033888285 | 3.0516976 | 1.0902873 | 0.069 | arc_faith_pd | bac_faith_pd |\n",
       "| ⋮ | ⋮ | ⋮ | ⋮ | ⋮ | ⋮ | ⋮ | ⋮ | ⋮ |\n",
       "| 1 | 0.4433719 | 0.4433719 | 0.044193918 | 4.0226474 | 1.1276688 | 0.049 | arc_faith_pd | bac_shannon |\n",
       "| 1 | 0.0405702 | 0.0405702 | 0.007352531 | 0.6370012 | 0.4001519 | 0.396 | arc_faith_pd | bac_shannon |\n",
       "\n"
      ],
      "text/plain": [
       "    Df SS         MS         Rsq         F         Z         Pr(>F)\n",
       "1   1   0.8801858  0.8801858 0.004594435 0.4015608 0.1828755 0.526 \n",
       "2   1  13.2715065 13.2715065 0.033888285 3.0516976 1.0902873 0.069 \n",
       "⋮   ⋮  ⋮          ⋮          ⋮           ⋮         ⋮         ⋮     \n",
       "399 1  0.4433719  0.4433719  0.044193918 4.0226474 1.1276688 0.049 \n",
       "400 1  0.0405702  0.0405702  0.007352531 0.6370012 0.4001519 0.396 \n",
       "    feature      alpha_div   \n",
       "1   arc_faith_pd bac_faith_pd\n",
       "2   arc_faith_pd bac_faith_pd\n",
       "⋮   ⋮            ⋮           \n",
       "399 arc_faith_pd bac_shannon \n",
       "400 arc_faith_pd bac_shannon "
      ]
     },
     "metadata": {},
     "output_type": "display_data"
    }
   ],
   "source": [
    "#running for all alpha-div values & all trees\n",
    "doParallel::registerDoParallel(threads)\n",
    "rrpp_res = vars %>%\n",
    "    plyr::llply(rrpp_par, alpha_div_j, host_tree_l, iter=999, .parallel=TRUE) %>%\n",
    "    do.call(rbind, .)\n",
    "rrpp_res"
   ]
  },
  {
   "cell_type": "code",
   "execution_count": 29,
   "metadata": {
    "ExecuteTime": {
     "end_time": "2020-08-28T14:14:30.352606Z",
     "start_time": "2020-08-28T13:59:10.352Z"
    }
   },
   "outputs": [
    {
     "data": {
      "text/html": [
       "<table>\n",
       "<caption>A matrix: 1 × 8 of type dbl</caption>\n",
       "<thead>\n",
       "\t<tr><th></th><th scope=col>Min.</th><th scope=col>1st Qu.</th><th scope=col>Median</th><th scope=col>Mean</th><th scope=col>3rd Qu.</th><th scope=col>Max.</th><th scope=col>sd</th><th scope=col>sd_err_of_mean</th></tr>\n",
       "</thead>\n",
       "<tbody>\n",
       "\t<tr><th scope=row>Adj. P</th><td>0.88</td><td>0.88</td><td>0.88</td><td>0.88</td><td>0.88</td><td>0.88</td><td>0</td><td>0</td></tr>\n",
       "</tbody>\n",
       "</table>\n"
      ],
      "text/latex": [
       "A matrix: 1 × 8 of type dbl\n",
       "\\begin{tabular}{r|llllllll}\n",
       "  & Min. & 1st Qu. & Median & Mean & 3rd Qu. & Max. & sd & sd\\_err\\_of\\_mean\\\\\n",
       "\\hline\n",
       "\tAdj. P & 0.88 & 0.88 & 0.88 & 0.88 & 0.88 & 0.88 & 0 & 0\\\\\n",
       "\\end{tabular}\n"
      ],
      "text/markdown": [
       "\n",
       "A matrix: 1 × 8 of type dbl\n",
       "\n",
       "| <!--/--> | Min. | 1st Qu. | Median | Mean | 3rd Qu. | Max. | sd | sd_err_of_mean |\n",
       "|---|---|---|---|---|---|---|---|---|\n",
       "| Adj. P | 0.88 | 0.88 | 0.88 | 0.88 | 0.88 | 0.88 | 0 | 0 |\n",
       "\n"
      ],
      "text/plain": [
       "       Min. 1st Qu. Median Mean 3rd Qu. Max. sd sd_err_of_mean\n",
       "Adj. P 0.88 0.88    0.88   0.88 0.88    0.88 0  0             "
      ]
     },
     "metadata": {},
     "output_type": "display_data"
    },
    {
     "data": {
      "text/html": [
       "<table>\n",
       "<caption>A tibble: 400 × 10</caption>\n",
       "<thead>\n",
       "\t<tr><th scope=col>Df</th><th scope=col>SS</th><th scope=col>MS</th><th scope=col>Rsq</th><th scope=col>F</th><th scope=col>Z</th><th scope=col>P</th><th scope=col>feature</th><th scope=col>alpha_div</th><th scope=col>Q</th></tr>\n",
       "\t<tr><th scope=col>&lt;dbl&gt;</th><th scope=col>&lt;dbl&gt;</th><th scope=col>&lt;dbl&gt;</th><th scope=col>&lt;dbl&gt;</th><th scope=col>&lt;dbl&gt;</th><th scope=col>&lt;dbl&gt;</th><th scope=col>&lt;dbl&gt;</th><th scope=col>&lt;chr&gt;</th><th scope=col>&lt;chr&gt;</th><th scope=col>&lt;dbl&gt;</th></tr>\n",
       "</thead>\n",
       "<tbody>\n",
       "\t<tr><td>1</td><td> 0.8801858</td><td> 0.8801858</td><td>0.004594435</td><td>0.4015608</td><td>0.1828755</td><td>0.82</td><td>arc_faith_pd</td><td>bac_faith_pd</td><td>0.88</td></tr>\n",
       "\t<tr><td>1</td><td>13.2715065</td><td>13.2715065</td><td>0.033888285</td><td>3.0516976</td><td>1.0902873</td><td>0.82</td><td>arc_faith_pd</td><td>bac_faith_pd</td><td>0.88</td></tr>\n",
       "\t<tr><td>⋮</td><td>⋮</td><td>⋮</td><td>⋮</td><td>⋮</td><td>⋮</td><td>⋮</td><td>⋮</td><td>⋮</td><td>⋮</td></tr>\n",
       "\t<tr><td>1</td><td>0.4433719</td><td>0.4433719</td><td>0.044193918</td><td>4.0226474</td><td>1.1276688</td><td>0.79</td><td>arc_faith_pd</td><td>bac_shannon</td><td>0.88</td></tr>\n",
       "\t<tr><td>1</td><td>0.0405702</td><td>0.0405702</td><td>0.007352531</td><td>0.6370012</td><td>0.4001519</td><td>0.79</td><td>arc_faith_pd</td><td>bac_shannon</td><td>0.88</td></tr>\n",
       "</tbody>\n",
       "</table>\n"
      ],
      "text/latex": [
       "A tibble: 400 × 10\n",
       "\\begin{tabular}{llllllllll}\n",
       " Df & SS & MS & Rsq & F & Z & P & feature & alpha\\_div & Q\\\\\n",
       " <dbl> & <dbl> & <dbl> & <dbl> & <dbl> & <dbl> & <dbl> & <chr> & <chr> & <dbl>\\\\\n",
       "\\hline\n",
       "\t 1 &  0.8801858 &  0.8801858 & 0.004594435 & 0.4015608 & 0.1828755 & 0.82 & arc\\_faith\\_pd & bac\\_faith\\_pd & 0.88\\\\\n",
       "\t 1 & 13.2715065 & 13.2715065 & 0.033888285 & 3.0516976 & 1.0902873 & 0.82 & arc\\_faith\\_pd & bac\\_faith\\_pd & 0.88\\\\\n",
       "\t ⋮ & ⋮ & ⋮ & ⋮ & ⋮ & ⋮ & ⋮ & ⋮ & ⋮ & ⋮\\\\\n",
       "\t 1 & 0.4433719 & 0.4433719 & 0.044193918 & 4.0226474 & 1.1276688 & 0.79 & arc\\_faith\\_pd & bac\\_shannon & 0.88\\\\\n",
       "\t 1 & 0.0405702 & 0.0405702 & 0.007352531 & 0.6370012 & 0.4001519 & 0.79 & arc\\_faith\\_pd & bac\\_shannon & 0.88\\\\\n",
       "\\end{tabular}\n"
      ],
      "text/markdown": [
       "\n",
       "A tibble: 400 × 10\n",
       "\n",
       "| Df &lt;dbl&gt; | SS &lt;dbl&gt; | MS &lt;dbl&gt; | Rsq &lt;dbl&gt; | F &lt;dbl&gt; | Z &lt;dbl&gt; | P &lt;dbl&gt; | feature &lt;chr&gt; | alpha_div &lt;chr&gt; | Q &lt;dbl&gt; |\n",
       "|---|---|---|---|---|---|---|---|---|---|\n",
       "| 1 |  0.8801858 |  0.8801858 | 0.004594435 | 0.4015608 | 0.1828755 | 0.82 | arc_faith_pd | bac_faith_pd | 0.88 |\n",
       "| 1 | 13.2715065 | 13.2715065 | 0.033888285 | 3.0516976 | 1.0902873 | 0.82 | arc_faith_pd | bac_faith_pd | 0.88 |\n",
       "| ⋮ | ⋮ | ⋮ | ⋮ | ⋮ | ⋮ | ⋮ | ⋮ | ⋮ | ⋮ |\n",
       "| 1 | 0.4433719 | 0.4433719 | 0.044193918 | 4.0226474 | 1.1276688 | 0.79 | arc_faith_pd | bac_shannon | 0.88 |\n",
       "| 1 | 0.0405702 | 0.0405702 | 0.007352531 | 0.6370012 | 0.4001519 | 0.79 | arc_faith_pd | bac_shannon | 0.88 |\n",
       "\n"
      ],
      "text/plain": [
       "    Df SS         MS         Rsq         F         Z         P    feature     \n",
       "1   1   0.8801858  0.8801858 0.004594435 0.4015608 0.1828755 0.82 arc_faith_pd\n",
       "2   1  13.2715065 13.2715065 0.033888285 3.0516976 1.0902873 0.82 arc_faith_pd\n",
       "⋮   ⋮  ⋮          ⋮          ⋮           ⋮         ⋮         ⋮    ⋮           \n",
       "399 1  0.4433719  0.4433719  0.044193918 4.0226474 1.1276688 0.79 arc_faith_pd\n",
       "400 1  0.0405702  0.0405702  0.007352531 0.6370012 0.4001519 0.79 arc_faith_pd\n",
       "    alpha_div    Q   \n",
       "1   bac_faith_pd 0.88\n",
       "2   bac_faith_pd 0.88\n",
       "⋮   ⋮            ⋮   \n",
       "399 bac_shannon  0.88\n",
       "400 bac_shannon  0.88"
      ]
     },
     "metadata": {},
     "output_type": "display_data"
    }
   ],
   "source": [
    "# formatting\n",
    "rrpp_res_faith_pd = rrpp_res %>%\n",
    "    rename('P' = `Pr(>F)`) %>%\n",
    "    group_by(alpha_div) %>%\n",
    "    mutate(P = (length(P) - sum(P < 0.05)) / length(P)) %>%\n",
    "    ungroup() %>%\n",
    "    mutate(Q = p.adjust(P, method='BH'))\n",
    "\n",
    "rrpp_res_faith_pd %>% .$Q %>% summary_x('Adj. P')\n",
    "rrpp_res_faith_pd"
   ]
  },
  {
   "cell_type": "markdown",
   "metadata": {},
   "source": [
    "## archaea: Pielou's E"
   ]
  },
  {
   "cell_type": "code",
   "execution_count": 30,
   "metadata": {
    "ExecuteTime": {
     "end_time": "2020-08-28T14:14:30.378795Z",
     "start_time": "2020-08-28T13:59:10.356Z"
    }
   },
   "outputs": [],
   "source": [
    ".rrpp_par = function(tree, taxon, otu, iter=999){\n",
    "    # tree\n",
    "    PhyCov = ape::vcv(tree, model = \"Brownian\")\n",
    "    # otu\n",
    "    otu_f = otu[rownames(PhyCov),]\n",
    "    data = list(OTUs = otu_f[,taxon] %>% as.matrix,\n",
    "                arc_pielou_e = otu_f$arc_pielou_e)\n",
    "    names(data[['arc_pielou_e']]) = rownames(otu_f)\n",
    "    # rrpp\n",
    "    fitGLS = lm.rrpp(OTUs ~ arc_pielou_e, data = data, Cov = PhyCov,\n",
    "                     print.progress = FALSE, SS.type = \"II\", iter = iter)\n",
    "    anova(fitGLS)$table\n",
    "}\n",
    "\n",
    "rrpp_par = function(taxon, otu, trees, iter=999){\n",
    "    #doParallel::registerDoParallel(threads)\n",
    "    df = trees %>% \n",
    "        plyr::llply(.rrpp_par, taxon=taxon, otu=otu, iter=iter, .parallel=FALSE) %>%\n",
    "        do.call(rbind, .) %>%\n",
    "        mutate(feature = gsub('[0-9]+$', '', rownames(.))) %>%\n",
    "        filter(! feature %in% c('Residuals', 'Total'))\n",
    "    df$alpha_div = taxon\n",
    "    return(df)   \n",
    "}"
   ]
  },
  {
   "cell_type": "code",
   "execution_count": 31,
   "metadata": {
    "ExecuteTime": {
     "end_time": "2020-08-28T14:19:27.074395Z",
     "start_time": "2020-08-28T13:59:10.359Z"
    }
   },
   "outputs": [
    {
     "data": {
      "text/html": [
       "<table>\n",
       "<caption>A anova: 400 × 9</caption>\n",
       "<thead>\n",
       "\t<tr><th scope=col>Df</th><th scope=col>SS</th><th scope=col>MS</th><th scope=col>Rsq</th><th scope=col>F</th><th scope=col>Z</th><th scope=col>Pr(&gt;F)</th><th scope=col>feature</th><th scope=col>alpha_div</th></tr>\n",
       "\t<tr><th scope=col>&lt;dbl&gt;</th><th scope=col>&lt;dbl&gt;</th><th scope=col>&lt;dbl&gt;</th><th scope=col>&lt;dbl&gt;</th><th scope=col>&lt;dbl&gt;</th><th scope=col>&lt;dbl&gt;</th><th scope=col>&lt;dbl&gt;</th><th scope=col>&lt;chr&gt;</th><th scope=col>&lt;chr&gt;</th></tr>\n",
       "</thead>\n",
       "<tbody>\n",
       "\t<tr><td>1</td><td>5.695430</td><td>5.695430</td><td>0.029729273</td><td>2.665696</td><td>1.0175061</td><td>0.117</td><td>arc_pielou_e</td><td>bac_faith_pd</td></tr>\n",
       "\t<tr><td>1</td><td>2.871363</td><td>2.871363</td><td>0.007331915</td><td>0.642588</td><td>0.3778131</td><td>0.410</td><td>arc_pielou_e</td><td>bac_faith_pd</td></tr>\n",
       "\t<tr><td>⋮</td><td>⋮</td><td>⋮</td><td>⋮</td><td>⋮</td><td>⋮</td><td>⋮</td><td>⋮</td><td>⋮</td></tr>\n",
       "\t<tr><td>1</td><td>0.2955540</td><td>0.2955540</td><td>0.02945989</td><td>2.640808</td><td>1.021533</td><td>0.113</td><td>arc_pielou_e</td><td>bac_shannon</td></tr>\n",
       "\t<tr><td>1</td><td>0.2193261</td><td>0.2193261</td><td>0.03974844</td><td>3.559865</td><td>1.162773</td><td>0.049</td><td>arc_pielou_e</td><td>bac_shannon</td></tr>\n",
       "</tbody>\n",
       "</table>\n"
      ],
      "text/latex": [
       "A anova: 400 × 9\n",
       "\\begin{tabular}{lllllllll}\n",
       " Df & SS & MS & Rsq & F & Z & Pr(>F) & feature & alpha\\_div\\\\\n",
       " <dbl> & <dbl> & <dbl> & <dbl> & <dbl> & <dbl> & <dbl> & <chr> & <chr>\\\\\n",
       "\\hline\n",
       "\t 1 & 5.695430 & 5.695430 & 0.029729273 & 2.665696 & 1.0175061 & 0.117 & arc\\_pielou\\_e & bac\\_faith\\_pd\\\\\n",
       "\t 1 & 2.871363 & 2.871363 & 0.007331915 & 0.642588 & 0.3778131 & 0.410 & arc\\_pielou\\_e & bac\\_faith\\_pd\\\\\n",
       "\t ⋮ & ⋮ & ⋮ & ⋮ & ⋮ & ⋮ & ⋮ & ⋮ & ⋮\\\\\n",
       "\t 1 & 0.2955540 & 0.2955540 & 0.02945989 & 2.640808 & 1.021533 & 0.113 & arc\\_pielou\\_e & bac\\_shannon\\\\\n",
       "\t 1 & 0.2193261 & 0.2193261 & 0.03974844 & 3.559865 & 1.162773 & 0.049 & arc\\_pielou\\_e & bac\\_shannon\\\\\n",
       "\\end{tabular}\n"
      ],
      "text/markdown": [
       "\n",
       "A anova: 400 × 9\n",
       "\n",
       "| Df &lt;dbl&gt; | SS &lt;dbl&gt; | MS &lt;dbl&gt; | Rsq &lt;dbl&gt; | F &lt;dbl&gt; | Z &lt;dbl&gt; | Pr(&gt;F) &lt;dbl&gt; | feature &lt;chr&gt; | alpha_div &lt;chr&gt; |\n",
       "|---|---|---|---|---|---|---|---|---|\n",
       "| 1 | 5.695430 | 5.695430 | 0.029729273 | 2.665696 | 1.0175061 | 0.117 | arc_pielou_e | bac_faith_pd |\n",
       "| 1 | 2.871363 | 2.871363 | 0.007331915 | 0.642588 | 0.3778131 | 0.410 | arc_pielou_e | bac_faith_pd |\n",
       "| ⋮ | ⋮ | ⋮ | ⋮ | ⋮ | ⋮ | ⋮ | ⋮ | ⋮ |\n",
       "| 1 | 0.2955540 | 0.2955540 | 0.02945989 | 2.640808 | 1.021533 | 0.113 | arc_pielou_e | bac_shannon |\n",
       "| 1 | 0.2193261 | 0.2193261 | 0.03974844 | 3.559865 | 1.162773 | 0.049 | arc_pielou_e | bac_shannon |\n",
       "\n"
      ],
      "text/plain": [
       "    Df SS        MS        Rsq         F        Z         Pr(>F) feature     \n",
       "1   1  5.695430  5.695430  0.029729273 2.665696 1.0175061 0.117  arc_pielou_e\n",
       "2   1  2.871363  2.871363  0.007331915 0.642588 0.3778131 0.410  arc_pielou_e\n",
       "⋮   ⋮  ⋮         ⋮         ⋮           ⋮        ⋮         ⋮      ⋮           \n",
       "399 1  0.2955540 0.2955540 0.02945989  2.640808 1.021533  0.113  arc_pielou_e\n",
       "400 1  0.2193261 0.2193261 0.03974844  3.559865 1.162773  0.049  arc_pielou_e\n",
       "    alpha_div   \n",
       "1   bac_faith_pd\n",
       "2   bac_faith_pd\n",
       "⋮   ⋮           \n",
       "399 bac_shannon \n",
       "400 bac_shannon "
      ]
     },
     "metadata": {},
     "output_type": "display_data"
    }
   ],
   "source": [
    "#running for all alpha-div values & all trees\n",
    "doParallel::registerDoParallel(threads)\n",
    "rrpp_res = vars %>%\n",
    "    plyr::llply(rrpp_par, alpha_div_j, host_tree_l, iter=999, .parallel=TRUE) %>%\n",
    "    do.call(rbind, .)\n",
    "rrpp_res"
   ]
  },
  {
   "cell_type": "code",
   "execution_count": 32,
   "metadata": {
    "ExecuteTime": {
     "end_time": "2020-08-28T14:19:27.170200Z",
     "start_time": "2020-08-28T13:59:10.362Z"
    }
   },
   "outputs": [
    {
     "data": {
      "text/html": [
       "<table>\n",
       "<caption>A matrix: 1 × 8 of type dbl</caption>\n",
       "<thead>\n",
       "\t<tr><th></th><th scope=col>Min.</th><th scope=col>1st Qu.</th><th scope=col>Median</th><th scope=col>Mean</th><th scope=col>3rd Qu.</th><th scope=col>Max.</th><th scope=col>sd</th><th scope=col>sd_err_of_mean</th></tr>\n",
       "</thead>\n",
       "<tbody>\n",
       "\t<tr><th scope=row>Adj. P</th><td>0.9</td><td>0.9</td><td>0.9</td><td>0.9</td><td>0.9</td><td>0.9</td><td>0</td><td>0</td></tr>\n",
       "</tbody>\n",
       "</table>\n"
      ],
      "text/latex": [
       "A matrix: 1 × 8 of type dbl\n",
       "\\begin{tabular}{r|llllllll}\n",
       "  & Min. & 1st Qu. & Median & Mean & 3rd Qu. & Max. & sd & sd\\_err\\_of\\_mean\\\\\n",
       "\\hline\n",
       "\tAdj. P & 0.9 & 0.9 & 0.9 & 0.9 & 0.9 & 0.9 & 0 & 0\\\\\n",
       "\\end{tabular}\n"
      ],
      "text/markdown": [
       "\n",
       "A matrix: 1 × 8 of type dbl\n",
       "\n",
       "| <!--/--> | Min. | 1st Qu. | Median | Mean | 3rd Qu. | Max. | sd | sd_err_of_mean |\n",
       "|---|---|---|---|---|---|---|---|---|\n",
       "| Adj. P | 0.9 | 0.9 | 0.9 | 0.9 | 0.9 | 0.9 | 0 | 0 |\n",
       "\n"
      ],
      "text/plain": [
       "       Min. 1st Qu. Median Mean 3rd Qu. Max. sd sd_err_of_mean\n",
       "Adj. P 0.9  0.9     0.9    0.9  0.9     0.9  0  0             "
      ]
     },
     "metadata": {},
     "output_type": "display_data"
    },
    {
     "data": {
      "text/html": [
       "<table>\n",
       "<caption>A tibble: 400 × 10</caption>\n",
       "<thead>\n",
       "\t<tr><th scope=col>Df</th><th scope=col>SS</th><th scope=col>MS</th><th scope=col>Rsq</th><th scope=col>F</th><th scope=col>Z</th><th scope=col>P</th><th scope=col>feature</th><th scope=col>alpha_div</th><th scope=col>Q</th></tr>\n",
       "\t<tr><th scope=col>&lt;dbl&gt;</th><th scope=col>&lt;dbl&gt;</th><th scope=col>&lt;dbl&gt;</th><th scope=col>&lt;dbl&gt;</th><th scope=col>&lt;dbl&gt;</th><th scope=col>&lt;dbl&gt;</th><th scope=col>&lt;dbl&gt;</th><th scope=col>&lt;chr&gt;</th><th scope=col>&lt;chr&gt;</th><th scope=col>&lt;dbl&gt;</th></tr>\n",
       "</thead>\n",
       "<tbody>\n",
       "\t<tr><td>1</td><td>5.695430</td><td>5.695430</td><td>0.029729273</td><td>2.665696</td><td>1.0175061</td><td>0.78</td><td>arc_pielou_e</td><td>bac_faith_pd</td><td>0.9</td></tr>\n",
       "\t<tr><td>1</td><td>2.871363</td><td>2.871363</td><td>0.007331915</td><td>0.642588</td><td>0.3778131</td><td>0.78</td><td>arc_pielou_e</td><td>bac_faith_pd</td><td>0.9</td></tr>\n",
       "\t<tr><td>⋮</td><td>⋮</td><td>⋮</td><td>⋮</td><td>⋮</td><td>⋮</td><td>⋮</td><td>⋮</td><td>⋮</td><td>⋮</td></tr>\n",
       "\t<tr><td>1</td><td>0.2955540</td><td>0.2955540</td><td>0.02945989</td><td>2.640808</td><td>1.021533</td><td>0.7</td><td>arc_pielou_e</td><td>bac_shannon</td><td>0.9</td></tr>\n",
       "\t<tr><td>1</td><td>0.2193261</td><td>0.2193261</td><td>0.03974844</td><td>3.559865</td><td>1.162773</td><td>0.7</td><td>arc_pielou_e</td><td>bac_shannon</td><td>0.9</td></tr>\n",
       "</tbody>\n",
       "</table>\n"
      ],
      "text/latex": [
       "A tibble: 400 × 10\n",
       "\\begin{tabular}{llllllllll}\n",
       " Df & SS & MS & Rsq & F & Z & P & feature & alpha\\_div & Q\\\\\n",
       " <dbl> & <dbl> & <dbl> & <dbl> & <dbl> & <dbl> & <dbl> & <chr> & <chr> & <dbl>\\\\\n",
       "\\hline\n",
       "\t 1 & 5.695430 & 5.695430 & 0.029729273 & 2.665696 & 1.0175061 & 0.78 & arc\\_pielou\\_e & bac\\_faith\\_pd & 0.9\\\\\n",
       "\t 1 & 2.871363 & 2.871363 & 0.007331915 & 0.642588 & 0.3778131 & 0.78 & arc\\_pielou\\_e & bac\\_faith\\_pd & 0.9\\\\\n",
       "\t ⋮ & ⋮ & ⋮ & ⋮ & ⋮ & ⋮ & ⋮ & ⋮ & ⋮ & ⋮\\\\\n",
       "\t 1 & 0.2955540 & 0.2955540 & 0.02945989 & 2.640808 & 1.021533 & 0.7 & arc\\_pielou\\_e & bac\\_shannon & 0.9\\\\\n",
       "\t 1 & 0.2193261 & 0.2193261 & 0.03974844 & 3.559865 & 1.162773 & 0.7 & arc\\_pielou\\_e & bac\\_shannon & 0.9\\\\\n",
       "\\end{tabular}\n"
      ],
      "text/markdown": [
       "\n",
       "A tibble: 400 × 10\n",
       "\n",
       "| Df &lt;dbl&gt; | SS &lt;dbl&gt; | MS &lt;dbl&gt; | Rsq &lt;dbl&gt; | F &lt;dbl&gt; | Z &lt;dbl&gt; | P &lt;dbl&gt; | feature &lt;chr&gt; | alpha_div &lt;chr&gt; | Q &lt;dbl&gt; |\n",
       "|---|---|---|---|---|---|---|---|---|---|\n",
       "| 1 | 5.695430 | 5.695430 | 0.029729273 | 2.665696 | 1.0175061 | 0.78 | arc_pielou_e | bac_faith_pd | 0.9 |\n",
       "| 1 | 2.871363 | 2.871363 | 0.007331915 | 0.642588 | 0.3778131 | 0.78 | arc_pielou_e | bac_faith_pd | 0.9 |\n",
       "| ⋮ | ⋮ | ⋮ | ⋮ | ⋮ | ⋮ | ⋮ | ⋮ | ⋮ | ⋮ |\n",
       "| 1 | 0.2955540 | 0.2955540 | 0.02945989 | 2.640808 | 1.021533 | 0.7 | arc_pielou_e | bac_shannon | 0.9 |\n",
       "| 1 | 0.2193261 | 0.2193261 | 0.03974844 | 3.559865 | 1.162773 | 0.7 | arc_pielou_e | bac_shannon | 0.9 |\n",
       "\n"
      ],
      "text/plain": [
       "    Df SS        MS        Rsq         F        Z         P    feature     \n",
       "1   1  5.695430  5.695430  0.029729273 2.665696 1.0175061 0.78 arc_pielou_e\n",
       "2   1  2.871363  2.871363  0.007331915 0.642588 0.3778131 0.78 arc_pielou_e\n",
       "⋮   ⋮  ⋮         ⋮         ⋮           ⋮        ⋮         ⋮    ⋮           \n",
       "399 1  0.2955540 0.2955540 0.02945989  2.640808 1.021533  0.7  arc_pielou_e\n",
       "400 1  0.2193261 0.2193261 0.03974844  3.559865 1.162773  0.7  arc_pielou_e\n",
       "    alpha_div    Q  \n",
       "1   bac_faith_pd 0.9\n",
       "2   bac_faith_pd 0.9\n",
       "⋮   ⋮            ⋮  \n",
       "399 bac_shannon  0.9\n",
       "400 bac_shannon  0.9"
      ]
     },
     "metadata": {},
     "output_type": "display_data"
    }
   ],
   "source": [
    "# formatting\n",
    "rrpp_res_pielou_e = rrpp_res %>%\n",
    "    rename('P' = `Pr(>F)`) %>%\n",
    "    group_by(alpha_div) %>%\n",
    "    mutate(P = (length(P) - sum(P < 0.05)) / length(P)) %>%\n",
    "    ungroup() %>%\n",
    "    mutate(Q = p.adjust(P, method='BH'))\n",
    "\n",
    "rrpp_res_pielou_e %>% .$Q %>% summary_x('Adj. P')\n",
    "rrpp_res_pielou_e"
   ]
  },
  {
   "cell_type": "code",
   "execution_count": 33,
   "metadata": {
    "ExecuteTime": {
     "end_time": "2020-08-28T14:19:28.300378Z",
     "start_time": "2020-08-28T13:59:10.365Z"
    }
   },
   "outputs": [
    {
     "name": "stderr",
     "output_type": "stream",
     "text": [
      "Sending email to: nyoungblut@tuebingen.mpg.de\n",
      "\n"
     ]
    }
   ],
   "source": [
    "send_email('http://127.0.0.1:9705/notebooks/notebooks/16S_arch/MiSeq-Runs116-122-126-189-190/07_arch-bac/03aa_compare_alpha_div_RRPP.ipynb#')"
   ]
  },
  {
   "cell_type": "markdown",
   "metadata": {},
   "source": [
    "# RRPP: diet"
   ]
  },
  {
   "cell_type": "code",
   "execution_count": 34,
   "metadata": {
    "ExecuteTime": {
     "end_time": "2020-08-28T14:19:28.332991Z",
     "start_time": "2020-08-28T13:59:10.369Z"
    }
   },
   "outputs": [
    {
     "data": {
      "text/html": [
       "<style>\n",
       ".list-inline {list-style: none; margin:0; padding: 0}\n",
       ".list-inline>li {display: inline-block}\n",
       ".list-inline>li:not(:last-child)::after {content: \"\\00b7\"; padding: 0 .5ex}\n",
       "</style>\n",
       "<ol class=list-inline><li>'arc_faith_pd'</li><li>'arc_observed_otus'</li><li>'arc_pielou_e'</li><li>'arc_shannon'</li><li>'bac_faith_pd'</li><li>'bac_observed_otus'</li><li>'bac_pielou_e'</li><li>'bac_shannon'</li></ol>\n"
      ],
      "text/latex": [
       "\\begin{enumerate*}\n",
       "\\item 'arc\\_faith\\_pd'\n",
       "\\item 'arc\\_observed\\_otus'\n",
       "\\item 'arc\\_pielou\\_e'\n",
       "\\item 'arc\\_shannon'\n",
       "\\item 'bac\\_faith\\_pd'\n",
       "\\item 'bac\\_observed\\_otus'\n",
       "\\item 'bac\\_pielou\\_e'\n",
       "\\item 'bac\\_shannon'\n",
       "\\end{enumerate*}\n"
      ],
      "text/markdown": [
       "1. 'arc_faith_pd'\n",
       "2. 'arc_observed_otus'\n",
       "3. 'arc_pielou_e'\n",
       "4. 'arc_shannon'\n",
       "5. 'bac_faith_pd'\n",
       "6. 'bac_observed_otus'\n",
       "7. 'bac_pielou_e'\n",
       "8. 'bac_shannon'\n",
       "\n",
       "\n"
      ],
      "text/plain": [
       "[1] \"arc_faith_pd\"      \"arc_observed_otus\" \"arc_pielou_e\"     \n",
       "[4] \"arc_shannon\"       \"bac_faith_pd\"      \"bac_observed_otus\"\n",
       "[7] \"bac_pielou_e\"      \"bac_shannon\"      "
      ]
     },
     "metadata": {},
     "output_type": "display_data"
    }
   ],
   "source": [
    "vars = c('arc_faith_pd', 'arc_observed_otus', \n",
    "         'arc_pielou_e', 'arc_shannon',\n",
    "         'bac_faith_pd', 'bac_observed_otus', \n",
    "         'bac_pielou_e', 'bac_shannon')\n",
    "vars"
   ]
  },
  {
   "cell_type": "code",
   "execution_count": 35,
   "metadata": {
    "ExecuteTime": {
     "end_time": "2020-08-28T14:19:28.360221Z",
     "start_time": "2020-08-28T13:59:10.375Z"
    }
   },
   "outputs": [],
   "source": [
    ".rrpp_diet = function(tree, taxon, otu, iter=999){\n",
    "    # tree\n",
    "    PhyCov = ape::vcv(tree, model = \"Brownian\")\n",
    "    # otu\n",
    "    otu_f = otu[rownames(PhyCov),]\n",
    "    data = list(OTUs = otu_f[,taxon] %>% as.matrix,\n",
    "                diet = otu_f$diet)\n",
    "    names(data[['diet']]) = rownames(otu_f)\n",
    "    # rrpp\n",
    "    fitGLS = lm.rrpp(OTUs ~ diet, data = data, Cov = PhyCov,\n",
    "                     print.progress = FALSE, SS.type = \"II\", iter = iter)\n",
    "    anova(fitGLS)$table\n",
    "}\n",
    "\n",
    "rrpp_diet = function(taxon, otu, trees, iter=999){\n",
    "    #doParallel::registerDoParallel(threads)\n",
    "    df = trees %>% \n",
    "        plyr::llply(.rrpp_diet, taxon=taxon, otu=otu, iter=iter, .parallel=FALSE) %>%\n",
    "        do.call(rbind, .) %>%\n",
    "        mutate(feature = gsub('[0-9]+$', '', rownames(.))) %>%\n",
    "        filter(feature == 'diet') \n",
    "    df$alpha_div = taxon\n",
    "    return(df)   \n",
    "}"
   ]
  },
  {
   "cell_type": "code",
   "execution_count": 36,
   "metadata": {
    "ExecuteTime": {
     "end_time": "2020-08-28T14:25:40.610288Z",
     "start_time": "2020-08-28T13:59:10.379Z"
    }
   },
   "outputs": [
    {
     "data": {
      "text/html": [
       "<table>\n",
       "<caption>A anova: 800 × 9</caption>\n",
       "<thead>\n",
       "\t<tr><th scope=col>Df</th><th scope=col>SS</th><th scope=col>MS</th><th scope=col>Rsq</th><th scope=col>F</th><th scope=col>Z</th><th scope=col>Pr(&gt;F)</th><th scope=col>feature</th><th scope=col>alpha_div</th></tr>\n",
       "\t<tr><th scope=col>&lt;dbl&gt;</th><th scope=col>&lt;dbl&gt;</th><th scope=col>&lt;dbl&gt;</th><th scope=col>&lt;dbl&gt;</th><th scope=col>&lt;dbl&gt;</th><th scope=col>&lt;dbl&gt;</th><th scope=col>&lt;dbl&gt;</th><th scope=col>&lt;chr&gt;</th><th scope=col>&lt;chr&gt;</th></tr>\n",
       "</thead>\n",
       "<tbody>\n",
       "\t<tr><td>2</td><td>0.06112012</td><td>0.030560059</td><td>0.020306641</td><td>0.89128458</td><td> 0.3804225</td><td>0.383</td><td>diet</td><td>arc_faith_pd</td></tr>\n",
       "\t<tr><td>2</td><td>0.00462823</td><td>0.002314115</td><td>0.001657565</td><td>0.07139365</td><td>-1.5942627</td><td>0.933</td><td>diet</td><td>arc_faith_pd</td></tr>\n",
       "\t<tr><td>⋮</td><td>⋮</td><td>⋮</td><td>⋮</td><td>⋮</td><td>⋮</td><td>⋮</td><td>⋮</td><td>⋮</td></tr>\n",
       "\t<tr><td>2</td><td>0.1866820</td><td>0.0933410</td><td>0.01860787</td><td>0.8153098</td><td>0.3080962</td><td>0.418</td><td>diet</td><td>bac_shannon</td></tr>\n",
       "\t<tr><td>2</td><td>0.2704086</td><td>0.1352043</td><td>0.04900611</td><td>2.1900873</td><td>1.0550763</td><td>0.116</td><td>diet</td><td>bac_shannon</td></tr>\n",
       "</tbody>\n",
       "</table>\n"
      ],
      "text/latex": [
       "A anova: 800 × 9\n",
       "\\begin{tabular}{lllllllll}\n",
       " Df & SS & MS & Rsq & F & Z & Pr(>F) & feature & alpha\\_div\\\\\n",
       " <dbl> & <dbl> & <dbl> & <dbl> & <dbl> & <dbl> & <dbl> & <chr> & <chr>\\\\\n",
       "\\hline\n",
       "\t 2 & 0.06112012 & 0.030560059 & 0.020306641 & 0.89128458 &  0.3804225 & 0.383 & diet & arc\\_faith\\_pd\\\\\n",
       "\t 2 & 0.00462823 & 0.002314115 & 0.001657565 & 0.07139365 & -1.5942627 & 0.933 & diet & arc\\_faith\\_pd\\\\\n",
       "\t ⋮ & ⋮ & ⋮ & ⋮ & ⋮ & ⋮ & ⋮ & ⋮ & ⋮\\\\\n",
       "\t 2 & 0.1866820 & 0.0933410 & 0.01860787 & 0.8153098 & 0.3080962 & 0.418 & diet & bac\\_shannon\\\\\n",
       "\t 2 & 0.2704086 & 0.1352043 & 0.04900611 & 2.1900873 & 1.0550763 & 0.116 & diet & bac\\_shannon\\\\\n",
       "\\end{tabular}\n"
      ],
      "text/markdown": [
       "\n",
       "A anova: 800 × 9\n",
       "\n",
       "| Df &lt;dbl&gt; | SS &lt;dbl&gt; | MS &lt;dbl&gt; | Rsq &lt;dbl&gt; | F &lt;dbl&gt; | Z &lt;dbl&gt; | Pr(&gt;F) &lt;dbl&gt; | feature &lt;chr&gt; | alpha_div &lt;chr&gt; |\n",
       "|---|---|---|---|---|---|---|---|---|\n",
       "| 2 | 0.06112012 | 0.030560059 | 0.020306641 | 0.89128458 |  0.3804225 | 0.383 | diet | arc_faith_pd |\n",
       "| 2 | 0.00462823 | 0.002314115 | 0.001657565 | 0.07139365 | -1.5942627 | 0.933 | diet | arc_faith_pd |\n",
       "| ⋮ | ⋮ | ⋮ | ⋮ | ⋮ | ⋮ | ⋮ | ⋮ | ⋮ |\n",
       "| 2 | 0.1866820 | 0.0933410 | 0.01860787 | 0.8153098 | 0.3080962 | 0.418 | diet | bac_shannon |\n",
       "| 2 | 0.2704086 | 0.1352043 | 0.04900611 | 2.1900873 | 1.0550763 | 0.116 | diet | bac_shannon |\n",
       "\n"
      ],
      "text/plain": [
       "    Df SS         MS          Rsq         F          Z          Pr(>F) feature\n",
       "1   2  0.06112012 0.030560059 0.020306641 0.89128458  0.3804225 0.383  diet   \n",
       "2   2  0.00462823 0.002314115 0.001657565 0.07139365 -1.5942627 0.933  diet   \n",
       "⋮   ⋮  ⋮          ⋮           ⋮           ⋮          ⋮          ⋮      ⋮      \n",
       "799 2  0.1866820  0.0933410   0.01860787  0.8153098  0.3080962  0.418  diet   \n",
       "800 2  0.2704086  0.1352043   0.04900611  2.1900873  1.0550763  0.116  diet   \n",
       "    alpha_div   \n",
       "1   arc_faith_pd\n",
       "2   arc_faith_pd\n",
       "⋮   ⋮           \n",
       "799 bac_shannon \n",
       "800 bac_shannon "
      ]
     },
     "metadata": {},
     "output_type": "display_data"
    }
   ],
   "source": [
    "#running for all alpha-div values & all trees\n",
    "doParallel::registerDoParallel(threads)\n",
    "rrpp_res = vars %>%\n",
    "    plyr::llply(rrpp_diet, alpha_div_j, host_tree_l, iter=999, .parallel=TRUE) %>%\n",
    "    do.call(rbind, .)\n",
    "rrpp_res"
   ]
  },
  {
   "cell_type": "markdown",
   "metadata": {},
   "source": [
    "## Saving results"
   ]
  },
  {
   "cell_type": "code",
   "execution_count": 37,
   "metadata": {
    "ExecuteTime": {
     "end_time": "2020-08-28T14:25:40.655070Z",
     "start_time": "2020-08-28T13:59:10.384Z"
    }
   },
   "outputs": [
    {
     "data": {
      "text/html": [
       "'/ebio/abt3_projects/Georg_animal_feces/data/16S_arch/MiSeq-Runs-116-122-126-189-190/LLA/arch-bac/diversity-qiime2//RRPP_lm_alphaDiv-diet.RDS'"
      ],
      "text/latex": [
       "'/ebio/abt3\\_projects/Georg\\_animal\\_feces/data/16S\\_arch/MiSeq-Runs-116-122-126-189-190/LLA/arch-bac/diversity-qiime2//RRPP\\_lm\\_alphaDiv-diet.RDS'"
      ],
      "text/markdown": [
       "'/ebio/abt3_projects/Georg_animal_feces/data/16S_arch/MiSeq-Runs-116-122-126-189-190/LLA/arch-bac/diversity-qiime2//RRPP_lm_alphaDiv-diet.RDS'"
      ],
      "text/plain": [
       "[1] \"/ebio/abt3_projects/Georg_animal_feces/data/16S_arch/MiSeq-Runs-116-122-126-189-190/LLA/arch-bac/diversity-qiime2//RRPP_lm_alphaDiv-diet.RDS\""
      ]
     },
     "metadata": {},
     "output_type": "display_data"
    }
   ],
   "source": [
    "# output file\n",
    "outF = file.path(work_dir, 'RRPP_lm_alphaDiv-diet.RDS')\n",
    "outF"
   ]
  },
  {
   "cell_type": "code",
   "execution_count": 38,
   "metadata": {
    "ExecuteTime": {
     "end_time": "2020-08-28T14:25:40.696799Z",
     "start_time": "2020-08-28T13:59:10.388Z"
    }
   },
   "outputs": [
    {
     "name": "stdout",
     "output_type": "stream",
     "text": [
      "File written: /ebio/abt3_projects/Georg_animal_feces/data/16S_arch/MiSeq-Runs-116-122-126-189-190/LLA/arch-bac/diversity-qiime2//RRPP_lm_alphaDiv-diet.RDS"
     ]
    }
   ],
   "source": [
    "# saving\n",
    "saveRDS(rrpp_res, outF)\n",
    "cat('File written:', outF)"
   ]
  },
  {
   "cell_type": "code",
   "execution_count": 39,
   "metadata": {
    "ExecuteTime": {
     "end_time": "2020-08-28T14:25:40.757477Z",
     "start_time": "2020-08-28T13:59:10.392Z"
    }
   },
   "outputs": [
    {
     "data": {
      "text/html": [
       "<table>\n",
       "<caption>A anova: 800 × 9</caption>\n",
       "<thead>\n",
       "\t<tr><th scope=col>Df</th><th scope=col>SS</th><th scope=col>MS</th><th scope=col>Rsq</th><th scope=col>F</th><th scope=col>Z</th><th scope=col>Pr(&gt;F)</th><th scope=col>feature</th><th scope=col>alpha_div</th></tr>\n",
       "\t<tr><th scope=col>&lt;dbl&gt;</th><th scope=col>&lt;dbl&gt;</th><th scope=col>&lt;dbl&gt;</th><th scope=col>&lt;dbl&gt;</th><th scope=col>&lt;dbl&gt;</th><th scope=col>&lt;dbl&gt;</th><th scope=col>&lt;dbl&gt;</th><th scope=col>&lt;chr&gt;</th><th scope=col>&lt;chr&gt;</th></tr>\n",
       "</thead>\n",
       "<tbody>\n",
       "\t<tr><td>2</td><td>0.06112012</td><td>0.030560059</td><td>0.020306641</td><td>0.89128458</td><td> 0.3804225</td><td>0.383</td><td>diet</td><td>arc_faith_pd</td></tr>\n",
       "\t<tr><td>2</td><td>0.00462823</td><td>0.002314115</td><td>0.001657565</td><td>0.07139365</td><td>-1.5942627</td><td>0.933</td><td>diet</td><td>arc_faith_pd</td></tr>\n",
       "\t<tr><td>⋮</td><td>⋮</td><td>⋮</td><td>⋮</td><td>⋮</td><td>⋮</td><td>⋮</td><td>⋮</td><td>⋮</td></tr>\n",
       "\t<tr><td>2</td><td>0.1866820</td><td>0.0933410</td><td>0.01860787</td><td>0.8153098</td><td>0.3080962</td><td>0.418</td><td>diet</td><td>bac_shannon</td></tr>\n",
       "\t<tr><td>2</td><td>0.2704086</td><td>0.1352043</td><td>0.04900611</td><td>2.1900873</td><td>1.0550763</td><td>0.116</td><td>diet</td><td>bac_shannon</td></tr>\n",
       "</tbody>\n",
       "</table>\n"
      ],
      "text/latex": [
       "A anova: 800 × 9\n",
       "\\begin{tabular}{lllllllll}\n",
       " Df & SS & MS & Rsq & F & Z & Pr(>F) & feature & alpha\\_div\\\\\n",
       " <dbl> & <dbl> & <dbl> & <dbl> & <dbl> & <dbl> & <dbl> & <chr> & <chr>\\\\\n",
       "\\hline\n",
       "\t 2 & 0.06112012 & 0.030560059 & 0.020306641 & 0.89128458 &  0.3804225 & 0.383 & diet & arc\\_faith\\_pd\\\\\n",
       "\t 2 & 0.00462823 & 0.002314115 & 0.001657565 & 0.07139365 & -1.5942627 & 0.933 & diet & arc\\_faith\\_pd\\\\\n",
       "\t ⋮ & ⋮ & ⋮ & ⋮ & ⋮ & ⋮ & ⋮ & ⋮ & ⋮\\\\\n",
       "\t 2 & 0.1866820 & 0.0933410 & 0.01860787 & 0.8153098 & 0.3080962 & 0.418 & diet & bac\\_shannon\\\\\n",
       "\t 2 & 0.2704086 & 0.1352043 & 0.04900611 & 2.1900873 & 1.0550763 & 0.116 & diet & bac\\_shannon\\\\\n",
       "\\end{tabular}\n"
      ],
      "text/markdown": [
       "\n",
       "A anova: 800 × 9\n",
       "\n",
       "| Df &lt;dbl&gt; | SS &lt;dbl&gt; | MS &lt;dbl&gt; | Rsq &lt;dbl&gt; | F &lt;dbl&gt; | Z &lt;dbl&gt; | Pr(&gt;F) &lt;dbl&gt; | feature &lt;chr&gt; | alpha_div &lt;chr&gt; |\n",
       "|---|---|---|---|---|---|---|---|---|\n",
       "| 2 | 0.06112012 | 0.030560059 | 0.020306641 | 0.89128458 |  0.3804225 | 0.383 | diet | arc_faith_pd |\n",
       "| 2 | 0.00462823 | 0.002314115 | 0.001657565 | 0.07139365 | -1.5942627 | 0.933 | diet | arc_faith_pd |\n",
       "| ⋮ | ⋮ | ⋮ | ⋮ | ⋮ | ⋮ | ⋮ | ⋮ | ⋮ |\n",
       "| 2 | 0.1866820 | 0.0933410 | 0.01860787 | 0.8153098 | 0.3080962 | 0.418 | diet | bac_shannon |\n",
       "| 2 | 0.2704086 | 0.1352043 | 0.04900611 | 2.1900873 | 1.0550763 | 0.116 | diet | bac_shannon |\n",
       "\n"
      ],
      "text/plain": [
       "    Df SS         MS          Rsq         F          Z          Pr(>F) feature\n",
       "1   2  0.06112012 0.030560059 0.020306641 0.89128458  0.3804225 0.383  diet   \n",
       "2   2  0.00462823 0.002314115 0.001657565 0.07139365 -1.5942627 0.933  diet   \n",
       "⋮   ⋮  ⋮          ⋮           ⋮           ⋮          ⋮          ⋮      ⋮      \n",
       "799 2  0.1866820  0.0933410   0.01860787  0.8153098  0.3080962  0.418  diet   \n",
       "800 2  0.2704086  0.1352043   0.04900611  2.1900873  1.0550763  0.116  diet   \n",
       "    alpha_div   \n",
       "1   arc_faith_pd\n",
       "2   arc_faith_pd\n",
       "⋮   ⋮           \n",
       "799 bac_shannon \n",
       "800 bac_shannon "
      ]
     },
     "metadata": {},
     "output_type": "display_data"
    }
   ],
   "source": [
    "# reload \n",
    "rrpp_res = readRDS(outF)\n",
    "rrpp_res"
   ]
  },
  {
   "cell_type": "code",
   "execution_count": 40,
   "metadata": {
    "ExecuteTime": {
     "end_time": "2020-08-28T14:25:40.782717Z",
     "start_time": "2020-08-28T13:59:10.395Z"
    }
   },
   "outputs": [],
   "source": [
    "#send_email('http://127.0.0.1:9705/notebooks/notebooks/16S_arch/MiSeq-Runs116-122-126-189-190/07_arch-bac/03aa_compare_alpha_div_RRPP.ipynb#')"
   ]
  },
  {
   "cell_type": "markdown",
   "metadata": {},
   "source": [
    "## Summary"
   ]
  },
  {
   "cell_type": "code",
   "execution_count": 41,
   "metadata": {
    "ExecuteTime": {
     "end_time": "2020-08-28T14:25:40.884155Z",
     "start_time": "2020-08-28T13:59:10.400Z"
    }
   },
   "outputs": [
    {
     "data": {
      "text/html": [
       "<table>\n",
       "<caption>A matrix: 1 × 8 of type dbl</caption>\n",
       "<thead>\n",
       "\t<tr><th></th><th scope=col>Min.</th><th scope=col>1st Qu.</th><th scope=col>Median</th><th scope=col>Mean</th><th scope=col>3rd Qu.</th><th scope=col>Max.</th><th scope=col>sd</th><th scope=col>sd_err_of_mean</th></tr>\n",
       "</thead>\n",
       "<tbody>\n",
       "\t<tr><th scope=row>Adj. P</th><td>1</td><td>1</td><td>1</td><td>1</td><td>1</td><td>1</td><td>0</td><td>0</td></tr>\n",
       "</tbody>\n",
       "</table>\n"
      ],
      "text/latex": [
       "A matrix: 1 × 8 of type dbl\n",
       "\\begin{tabular}{r|llllllll}\n",
       "  & Min. & 1st Qu. & Median & Mean & 3rd Qu. & Max. & sd & sd\\_err\\_of\\_mean\\\\\n",
       "\\hline\n",
       "\tAdj. P & 1 & 1 & 1 & 1 & 1 & 1 & 0 & 0\\\\\n",
       "\\end{tabular}\n"
      ],
      "text/markdown": [
       "\n",
       "A matrix: 1 × 8 of type dbl\n",
       "\n",
       "| <!--/--> | Min. | 1st Qu. | Median | Mean | 3rd Qu. | Max. | sd | sd_err_of_mean |\n",
       "|---|---|---|---|---|---|---|---|---|\n",
       "| Adj. P | 1 | 1 | 1 | 1 | 1 | 1 | 0 | 0 |\n",
       "\n"
      ],
      "text/plain": [
       "       Min. 1st Qu. Median Mean 3rd Qu. Max. sd sd_err_of_mean\n",
       "Adj. P 1    1       1      1    1       1    0  0             "
      ]
     },
     "metadata": {},
     "output_type": "display_data"
    },
    {
     "data": {
      "text/html": [
       "<table>\n",
       "<caption>A tibble: 800 × 10</caption>\n",
       "<thead>\n",
       "\t<tr><th scope=col>Df</th><th scope=col>SS</th><th scope=col>MS</th><th scope=col>Rsq</th><th scope=col>F</th><th scope=col>Z</th><th scope=col>P</th><th scope=col>feature</th><th scope=col>alpha_div</th><th scope=col>Q</th></tr>\n",
       "\t<tr><th scope=col>&lt;dbl&gt;</th><th scope=col>&lt;dbl&gt;</th><th scope=col>&lt;dbl&gt;</th><th scope=col>&lt;dbl&gt;</th><th scope=col>&lt;dbl&gt;</th><th scope=col>&lt;dbl&gt;</th><th scope=col>&lt;dbl&gt;</th><th scope=col>&lt;chr&gt;</th><th scope=col>&lt;chr&gt;</th><th scope=col>&lt;dbl&gt;</th></tr>\n",
       "</thead>\n",
       "<tbody>\n",
       "\t<tr><td>2</td><td>0.06112012</td><td>0.030560059</td><td>0.020306641</td><td>0.89128458</td><td> 0.3804225</td><td>1</td><td>diet</td><td>arc_faith_pd</td><td>1</td></tr>\n",
       "\t<tr><td>2</td><td>0.00462823</td><td>0.002314115</td><td>0.001657565</td><td>0.07139365</td><td>-1.5942627</td><td>1</td><td>diet</td><td>arc_faith_pd</td><td>1</td></tr>\n",
       "\t<tr><td>⋮</td><td>⋮</td><td>⋮</td><td>⋮</td><td>⋮</td><td>⋮</td><td>⋮</td><td>⋮</td><td>⋮</td><td>⋮</td></tr>\n",
       "\t<tr><td>2</td><td>0.1866820</td><td>0.0933410</td><td>0.01860787</td><td>0.8153098</td><td>0.3080962</td><td>0.91</td><td>diet</td><td>bac_shannon</td><td>1</td></tr>\n",
       "\t<tr><td>2</td><td>0.2704086</td><td>0.1352043</td><td>0.04900611</td><td>2.1900873</td><td>1.0550763</td><td>0.91</td><td>diet</td><td>bac_shannon</td><td>1</td></tr>\n",
       "</tbody>\n",
       "</table>\n"
      ],
      "text/latex": [
       "A tibble: 800 × 10\n",
       "\\begin{tabular}{llllllllll}\n",
       " Df & SS & MS & Rsq & F & Z & P & feature & alpha\\_div & Q\\\\\n",
       " <dbl> & <dbl> & <dbl> & <dbl> & <dbl> & <dbl> & <dbl> & <chr> & <chr> & <dbl>\\\\\n",
       "\\hline\n",
       "\t 2 & 0.06112012 & 0.030560059 & 0.020306641 & 0.89128458 &  0.3804225 & 1 & diet & arc\\_faith\\_pd & 1\\\\\n",
       "\t 2 & 0.00462823 & 0.002314115 & 0.001657565 & 0.07139365 & -1.5942627 & 1 & diet & arc\\_faith\\_pd & 1\\\\\n",
       "\t ⋮ & ⋮ & ⋮ & ⋮ & ⋮ & ⋮ & ⋮ & ⋮ & ⋮ & ⋮\\\\\n",
       "\t 2 & 0.1866820 & 0.0933410 & 0.01860787 & 0.8153098 & 0.3080962 & 0.91 & diet & bac\\_shannon & 1\\\\\n",
       "\t 2 & 0.2704086 & 0.1352043 & 0.04900611 & 2.1900873 & 1.0550763 & 0.91 & diet & bac\\_shannon & 1\\\\\n",
       "\\end{tabular}\n"
      ],
      "text/markdown": [
       "\n",
       "A tibble: 800 × 10\n",
       "\n",
       "| Df &lt;dbl&gt; | SS &lt;dbl&gt; | MS &lt;dbl&gt; | Rsq &lt;dbl&gt; | F &lt;dbl&gt; | Z &lt;dbl&gt; | P &lt;dbl&gt; | feature &lt;chr&gt; | alpha_div &lt;chr&gt; | Q &lt;dbl&gt; |\n",
       "|---|---|---|---|---|---|---|---|---|---|\n",
       "| 2 | 0.06112012 | 0.030560059 | 0.020306641 | 0.89128458 |  0.3804225 | 1 | diet | arc_faith_pd | 1 |\n",
       "| 2 | 0.00462823 | 0.002314115 | 0.001657565 | 0.07139365 | -1.5942627 | 1 | diet | arc_faith_pd | 1 |\n",
       "| ⋮ | ⋮ | ⋮ | ⋮ | ⋮ | ⋮ | ⋮ | ⋮ | ⋮ | ⋮ |\n",
       "| 2 | 0.1866820 | 0.0933410 | 0.01860787 | 0.8153098 | 0.3080962 | 0.91 | diet | bac_shannon | 1 |\n",
       "| 2 | 0.2704086 | 0.1352043 | 0.04900611 | 2.1900873 | 1.0550763 | 0.91 | diet | bac_shannon | 1 |\n",
       "\n"
      ],
      "text/plain": [
       "    Df SS         MS          Rsq         F          Z          P    feature\n",
       "1   2  0.06112012 0.030560059 0.020306641 0.89128458  0.3804225 1    diet   \n",
       "2   2  0.00462823 0.002314115 0.001657565 0.07139365 -1.5942627 1    diet   \n",
       "⋮   ⋮  ⋮          ⋮           ⋮           ⋮          ⋮          ⋮    ⋮      \n",
       "799 2  0.1866820  0.0933410   0.01860787  0.8153098  0.3080962  0.91 diet   \n",
       "800 2  0.2704086  0.1352043   0.04900611  2.1900873  1.0550763  0.91 diet   \n",
       "    alpha_div    Q\n",
       "1   arc_faith_pd 1\n",
       "2   arc_faith_pd 1\n",
       "⋮   ⋮            ⋮\n",
       "799 bac_shannon  1\n",
       "800 bac_shannon  1"
      ]
     },
     "metadata": {},
     "output_type": "display_data"
    }
   ],
   "source": [
    "# formatting\n",
    "rrpp_res_s = rrpp_res %>%\n",
    "    rename('P' = `Pr(>F)`) %>%\n",
    "    group_by(alpha_div) %>%\n",
    "    mutate(P = (length(P) - sum(P < 0.05)) / length(P)) %>%\n",
    "    ungroup() %>%\n",
    "    mutate(Q = p.adjust(P, method='BH'))\n",
    "\n",
    "rrpp_res_s %>% .$Q %>% summary_x('Adj. P')\n",
    "rrpp_res_s"
   ]
  },
  {
   "cell_type": "markdown",
   "metadata": {},
   "source": [
    "# RRPP: digestive system"
   ]
  },
  {
   "cell_type": "code",
   "execution_count": 42,
   "metadata": {
    "ExecuteTime": {
     "end_time": "2020-08-28T14:25:41.902838Z",
     "start_time": "2020-08-28T13:59:10.405Z"
    }
   },
   "outputs": [],
   "source": [
    ".rrpp_digSys = function(tree, taxon, otu, iter=999){\n",
    "    # tree\n",
    "    PhyCov = ape::vcv(tree, model = \"Brownian\")\n",
    "    # otu\n",
    "    otu_f = otu[rownames(PhyCov),]\n",
    "    data = list(OTUs = otu_f[,taxon] %>% as.matrix,\n",
    "                digestive_system = otu_f$digestive_system)\n",
    "    names(data[['digestive_system']]) = rownames(otu_f)\n",
    "    # rrpp\n",
    "    fitGLS = lm.rrpp(OTUs ~ digestive_system, data = data, Cov = PhyCov,\n",
    "                     print.progress = FALSE, SS.type = \"II\", iter = iter)\n",
    "    anova(fitGLS)$table\n",
    "}\n",
    "\n",
    "rrpp_digSys = function(taxon, otu, trees, iter=999){\n",
    "    #doParallel::registerDoParallel(threads)\n",
    "    df = trees %>% \n",
    "        plyr::llply(.rrpp_digSys, taxon=taxon, otu=otu, iter=iter, .parallel=FALSE) %>%\n",
    "        do.call(rbind, .) %>%\n",
    "        mutate(feature = gsub('[0-9]+$', '', rownames(.))) %>%\n",
    "        filter(feature == 'digestive_system') \n",
    "    df$alpha_div = taxon\n",
    "    return(df)   \n",
    "}"
   ]
  },
  {
   "cell_type": "code",
   "execution_count": 43,
   "metadata": {
    "ExecuteTime": {
     "end_time": "2020-08-28T14:32:07.727080Z",
     "start_time": "2020-08-28T13:59:10.409Z"
    }
   },
   "outputs": [
    {
     "data": {
      "text/html": [
       "<table>\n",
       "<caption>A anova: 800 × 9</caption>\n",
       "<thead>\n",
       "\t<tr><th scope=col>Df</th><th scope=col>SS</th><th scope=col>MS</th><th scope=col>Rsq</th><th scope=col>F</th><th scope=col>Z</th><th scope=col>Pr(&gt;F)</th><th scope=col>feature</th><th scope=col>alpha_div</th></tr>\n",
       "\t<tr><th scope=col>&lt;dbl&gt;</th><th scope=col>&lt;dbl&gt;</th><th scope=col>&lt;dbl&gt;</th><th scope=col>&lt;dbl&gt;</th><th scope=col>&lt;dbl&gt;</th><th scope=col>&lt;dbl&gt;</th><th scope=col>&lt;dbl&gt;</th><th scope=col>&lt;chr&gt;</th><th scope=col>&lt;chr&gt;</th></tr>\n",
       "</thead>\n",
       "<tbody>\n",
       "\t<tr><td>4</td><td>0.05587942</td><td>0.01396985</td><td>0.01856546</td><td>0.3972499</td><td>-0.7809275</td><td>0.804</td><td>digestive_system</td><td>arc_faith_pd</td></tr>\n",
       "\t<tr><td>4</td><td>0.11885939</td><td>0.02971485</td><td>0.04256859</td><td>0.9336860</td><td> 0.2761523</td><td>0.425</td><td>digestive_system</td><td>arc_faith_pd</td></tr>\n",
       "\t<tr><td>⋮</td><td>⋮</td><td>⋮</td><td>⋮</td><td>⋮</td><td>⋮</td><td>⋮</td><td>⋮</td><td>⋮</td></tr>\n",
       "\t<tr><td>4</td><td>0.2963668</td><td>0.07409171</td><td>0.02954091</td><td>0.639243</td><td>0.02112286</td><td>0.522</td><td>digestive_system</td><td>bac_shannon</td></tr>\n",
       "\t<tr><td>4</td><td>0.3652987</td><td>0.09132468</td><td>0.06620303</td><td>1.471104</td><td>0.77208995</td><td>0.223</td><td>digestive_system</td><td>bac_shannon</td></tr>\n",
       "</tbody>\n",
       "</table>\n"
      ],
      "text/latex": [
       "A anova: 800 × 9\n",
       "\\begin{tabular}{lllllllll}\n",
       " Df & SS & MS & Rsq & F & Z & Pr(>F) & feature & alpha\\_div\\\\\n",
       " <dbl> & <dbl> & <dbl> & <dbl> & <dbl> & <dbl> & <dbl> & <chr> & <chr>\\\\\n",
       "\\hline\n",
       "\t 4 & 0.05587942 & 0.01396985 & 0.01856546 & 0.3972499 & -0.7809275 & 0.804 & digestive\\_system & arc\\_faith\\_pd\\\\\n",
       "\t 4 & 0.11885939 & 0.02971485 & 0.04256859 & 0.9336860 &  0.2761523 & 0.425 & digestive\\_system & arc\\_faith\\_pd\\\\\n",
       "\t ⋮ & ⋮ & ⋮ & ⋮ & ⋮ & ⋮ & ⋮ & ⋮ & ⋮\\\\\n",
       "\t 4 & 0.2963668 & 0.07409171 & 0.02954091 & 0.639243 & 0.02112286 & 0.522 & digestive\\_system & bac\\_shannon\\\\\n",
       "\t 4 & 0.3652987 & 0.09132468 & 0.06620303 & 1.471104 & 0.77208995 & 0.223 & digestive\\_system & bac\\_shannon\\\\\n",
       "\\end{tabular}\n"
      ],
      "text/markdown": [
       "\n",
       "A anova: 800 × 9\n",
       "\n",
       "| Df &lt;dbl&gt; | SS &lt;dbl&gt; | MS &lt;dbl&gt; | Rsq &lt;dbl&gt; | F &lt;dbl&gt; | Z &lt;dbl&gt; | Pr(&gt;F) &lt;dbl&gt; | feature &lt;chr&gt; | alpha_div &lt;chr&gt; |\n",
       "|---|---|---|---|---|---|---|---|---|\n",
       "| 4 | 0.05587942 | 0.01396985 | 0.01856546 | 0.3972499 | -0.7809275 | 0.804 | digestive_system | arc_faith_pd |\n",
       "| 4 | 0.11885939 | 0.02971485 | 0.04256859 | 0.9336860 |  0.2761523 | 0.425 | digestive_system | arc_faith_pd |\n",
       "| ⋮ | ⋮ | ⋮ | ⋮ | ⋮ | ⋮ | ⋮ | ⋮ | ⋮ |\n",
       "| 4 | 0.2963668 | 0.07409171 | 0.02954091 | 0.639243 | 0.02112286 | 0.522 | digestive_system | bac_shannon |\n",
       "| 4 | 0.3652987 | 0.09132468 | 0.06620303 | 1.471104 | 0.77208995 | 0.223 | digestive_system | bac_shannon |\n",
       "\n"
      ],
      "text/plain": [
       "    Df SS         MS         Rsq        F         Z          Pr(>F)\n",
       "1   4  0.05587942 0.01396985 0.01856546 0.3972499 -0.7809275 0.804 \n",
       "2   4  0.11885939 0.02971485 0.04256859 0.9336860  0.2761523 0.425 \n",
       "⋮   ⋮  ⋮          ⋮          ⋮          ⋮         ⋮          ⋮     \n",
       "799 4  0.2963668  0.07409171 0.02954091 0.639243  0.02112286 0.522 \n",
       "800 4  0.3652987  0.09132468 0.06620303 1.471104  0.77208995 0.223 \n",
       "    feature          alpha_div   \n",
       "1   digestive_system arc_faith_pd\n",
       "2   digestive_system arc_faith_pd\n",
       "⋮   ⋮                ⋮           \n",
       "799 digestive_system bac_shannon \n",
       "800 digestive_system bac_shannon "
      ]
     },
     "metadata": {},
     "output_type": "display_data"
    }
   ],
   "source": [
    "#running for all alpha-div values & all trees\n",
    "doParallel::registerDoParallel(threads)\n",
    "rrpp_res = vars %>%\n",
    "    plyr::llply(rrpp_digSys, alpha_div_j, host_tree_l, iter=999, .parallel=TRUE) %>%\n",
    "    do.call(rbind, .)\n",
    "rrpp_res"
   ]
  },
  {
   "cell_type": "markdown",
   "metadata": {},
   "source": [
    "## Saving results"
   ]
  },
  {
   "cell_type": "code",
   "execution_count": 44,
   "metadata": {
    "ExecuteTime": {
     "end_time": "2020-08-28T14:32:07.768447Z",
     "start_time": "2020-08-28T13:59:10.412Z"
    }
   },
   "outputs": [
    {
     "data": {
      "text/html": [
       "'/ebio/abt3_projects/Georg_animal_feces/data/16S_arch/MiSeq-Runs-116-122-126-189-190/LLA/arch-bac/diversity-qiime2//RRPP_lm_alphaDiv-digSys.RDS'"
      ],
      "text/latex": [
       "'/ebio/abt3\\_projects/Georg\\_animal\\_feces/data/16S\\_arch/MiSeq-Runs-116-122-126-189-190/LLA/arch-bac/diversity-qiime2//RRPP\\_lm\\_alphaDiv-digSys.RDS'"
      ],
      "text/markdown": [
       "'/ebio/abt3_projects/Georg_animal_feces/data/16S_arch/MiSeq-Runs-116-122-126-189-190/LLA/arch-bac/diversity-qiime2//RRPP_lm_alphaDiv-digSys.RDS'"
      ],
      "text/plain": [
       "[1] \"/ebio/abt3_projects/Georg_animal_feces/data/16S_arch/MiSeq-Runs-116-122-126-189-190/LLA/arch-bac/diversity-qiime2//RRPP_lm_alphaDiv-digSys.RDS\""
      ]
     },
     "metadata": {},
     "output_type": "display_data"
    }
   ],
   "source": [
    "# output file\n",
    "outF = file.path(work_dir, 'RRPP_lm_alphaDiv-digSys.RDS')\n",
    "outF"
   ]
  },
  {
   "cell_type": "code",
   "execution_count": 45,
   "metadata": {
    "ExecuteTime": {
     "end_time": "2020-08-28T14:32:07.808289Z",
     "start_time": "2020-08-28T13:59:10.417Z"
    }
   },
   "outputs": [
    {
     "name": "stdout",
     "output_type": "stream",
     "text": [
      "File written: /ebio/abt3_projects/Georg_animal_feces/data/16S_arch/MiSeq-Runs-116-122-126-189-190/LLA/arch-bac/diversity-qiime2//RRPP_lm_alphaDiv-digSys.RDS"
     ]
    }
   ],
   "source": [
    "# saving\n",
    "saveRDS(rrpp_res, outF)\n",
    "cat('File written:', outF)"
   ]
  },
  {
   "cell_type": "code",
   "execution_count": 46,
   "metadata": {
    "ExecuteTime": {
     "end_time": "2020-08-28T14:32:07.862669Z",
     "start_time": "2020-08-28T13:59:10.420Z"
    }
   },
   "outputs": [
    {
     "data": {
      "text/html": [
       "<table>\n",
       "<caption>A anova: 800 × 9</caption>\n",
       "<thead>\n",
       "\t<tr><th scope=col>Df</th><th scope=col>SS</th><th scope=col>MS</th><th scope=col>Rsq</th><th scope=col>F</th><th scope=col>Z</th><th scope=col>Pr(&gt;F)</th><th scope=col>feature</th><th scope=col>alpha_div</th></tr>\n",
       "\t<tr><th scope=col>&lt;dbl&gt;</th><th scope=col>&lt;dbl&gt;</th><th scope=col>&lt;dbl&gt;</th><th scope=col>&lt;dbl&gt;</th><th scope=col>&lt;dbl&gt;</th><th scope=col>&lt;dbl&gt;</th><th scope=col>&lt;dbl&gt;</th><th scope=col>&lt;chr&gt;</th><th scope=col>&lt;chr&gt;</th></tr>\n",
       "</thead>\n",
       "<tbody>\n",
       "\t<tr><td>4</td><td>0.05587942</td><td>0.01396985</td><td>0.01856546</td><td>0.3972499</td><td>-0.7809275</td><td>0.804</td><td>digestive_system</td><td>arc_faith_pd</td></tr>\n",
       "\t<tr><td>4</td><td>0.11885939</td><td>0.02971485</td><td>0.04256859</td><td>0.9336860</td><td> 0.2761523</td><td>0.425</td><td>digestive_system</td><td>arc_faith_pd</td></tr>\n",
       "\t<tr><td>⋮</td><td>⋮</td><td>⋮</td><td>⋮</td><td>⋮</td><td>⋮</td><td>⋮</td><td>⋮</td><td>⋮</td></tr>\n",
       "\t<tr><td>4</td><td>0.2963668</td><td>0.07409171</td><td>0.02954091</td><td>0.639243</td><td>0.02112286</td><td>0.522</td><td>digestive_system</td><td>bac_shannon</td></tr>\n",
       "\t<tr><td>4</td><td>0.3652987</td><td>0.09132468</td><td>0.06620303</td><td>1.471104</td><td>0.77208995</td><td>0.223</td><td>digestive_system</td><td>bac_shannon</td></tr>\n",
       "</tbody>\n",
       "</table>\n"
      ],
      "text/latex": [
       "A anova: 800 × 9\n",
       "\\begin{tabular}{lllllllll}\n",
       " Df & SS & MS & Rsq & F & Z & Pr(>F) & feature & alpha\\_div\\\\\n",
       " <dbl> & <dbl> & <dbl> & <dbl> & <dbl> & <dbl> & <dbl> & <chr> & <chr>\\\\\n",
       "\\hline\n",
       "\t 4 & 0.05587942 & 0.01396985 & 0.01856546 & 0.3972499 & -0.7809275 & 0.804 & digestive\\_system & arc\\_faith\\_pd\\\\\n",
       "\t 4 & 0.11885939 & 0.02971485 & 0.04256859 & 0.9336860 &  0.2761523 & 0.425 & digestive\\_system & arc\\_faith\\_pd\\\\\n",
       "\t ⋮ & ⋮ & ⋮ & ⋮ & ⋮ & ⋮ & ⋮ & ⋮ & ⋮\\\\\n",
       "\t 4 & 0.2963668 & 0.07409171 & 0.02954091 & 0.639243 & 0.02112286 & 0.522 & digestive\\_system & bac\\_shannon\\\\\n",
       "\t 4 & 0.3652987 & 0.09132468 & 0.06620303 & 1.471104 & 0.77208995 & 0.223 & digestive\\_system & bac\\_shannon\\\\\n",
       "\\end{tabular}\n"
      ],
      "text/markdown": [
       "\n",
       "A anova: 800 × 9\n",
       "\n",
       "| Df &lt;dbl&gt; | SS &lt;dbl&gt; | MS &lt;dbl&gt; | Rsq &lt;dbl&gt; | F &lt;dbl&gt; | Z &lt;dbl&gt; | Pr(&gt;F) &lt;dbl&gt; | feature &lt;chr&gt; | alpha_div &lt;chr&gt; |\n",
       "|---|---|---|---|---|---|---|---|---|\n",
       "| 4 | 0.05587942 | 0.01396985 | 0.01856546 | 0.3972499 | -0.7809275 | 0.804 | digestive_system | arc_faith_pd |\n",
       "| 4 | 0.11885939 | 0.02971485 | 0.04256859 | 0.9336860 |  0.2761523 | 0.425 | digestive_system | arc_faith_pd |\n",
       "| ⋮ | ⋮ | ⋮ | ⋮ | ⋮ | ⋮ | ⋮ | ⋮ | ⋮ |\n",
       "| 4 | 0.2963668 | 0.07409171 | 0.02954091 | 0.639243 | 0.02112286 | 0.522 | digestive_system | bac_shannon |\n",
       "| 4 | 0.3652987 | 0.09132468 | 0.06620303 | 1.471104 | 0.77208995 | 0.223 | digestive_system | bac_shannon |\n",
       "\n"
      ],
      "text/plain": [
       "    Df SS         MS         Rsq        F         Z          Pr(>F)\n",
       "1   4  0.05587942 0.01396985 0.01856546 0.3972499 -0.7809275 0.804 \n",
       "2   4  0.11885939 0.02971485 0.04256859 0.9336860  0.2761523 0.425 \n",
       "⋮   ⋮  ⋮          ⋮          ⋮          ⋮         ⋮          ⋮     \n",
       "799 4  0.2963668  0.07409171 0.02954091 0.639243  0.02112286 0.522 \n",
       "800 4  0.3652987  0.09132468 0.06620303 1.471104  0.77208995 0.223 \n",
       "    feature          alpha_div   \n",
       "1   digestive_system arc_faith_pd\n",
       "2   digestive_system arc_faith_pd\n",
       "⋮   ⋮                ⋮           \n",
       "799 digestive_system bac_shannon \n",
       "800 digestive_system bac_shannon "
      ]
     },
     "metadata": {},
     "output_type": "display_data"
    }
   ],
   "source": [
    "# reload \n",
    "rrpp_res = readRDS(outF)\n",
    "rrpp_res"
   ]
  },
  {
   "cell_type": "code",
   "execution_count": 47,
   "metadata": {
    "ExecuteTime": {
     "end_time": "2020-08-28T14:32:09.139123Z",
     "start_time": "2020-08-28T13:59:10.423Z"
    }
   },
   "outputs": [
    {
     "name": "stderr",
     "output_type": "stream",
     "text": [
      "Sending email to: nyoungblut@tuebingen.mpg.de\n",
      "\n"
     ]
    }
   ],
   "source": [
    "send_email('http://127.0.0.1:9705/notebooks/notebooks/16S_arch/MiSeq-Runs116-122-126-189-190/07_arch-bac/03aa_compare_alpha_div_RRPP.ipynb#')"
   ]
  },
  {
   "cell_type": "markdown",
   "metadata": {},
   "source": [
    "## Summary"
   ]
  },
  {
   "cell_type": "code",
   "execution_count": 48,
   "metadata": {
    "ExecuteTime": {
     "end_time": "2020-08-28T14:32:09.238690Z",
     "start_time": "2020-08-28T13:59:10.427Z"
    }
   },
   "outputs": [
    {
     "data": {
      "text/html": [
       "<table>\n",
       "<caption>A matrix: 1 × 8 of type dbl</caption>\n",
       "<thead>\n",
       "\t<tr><th></th><th scope=col>Min.</th><th scope=col>1st Qu.</th><th scope=col>Median</th><th scope=col>Mean</th><th scope=col>3rd Qu.</th><th scope=col>Max.</th><th scope=col>sd</th><th scope=col>sd_err_of_mean</th></tr>\n",
       "</thead>\n",
       "<tbody>\n",
       "\t<tr><th scope=row>Adj. P</th><td>1</td><td>1</td><td>1</td><td>1</td><td>1</td><td>1</td><td>0</td><td>0</td></tr>\n",
       "</tbody>\n",
       "</table>\n"
      ],
      "text/latex": [
       "A matrix: 1 × 8 of type dbl\n",
       "\\begin{tabular}{r|llllllll}\n",
       "  & Min. & 1st Qu. & Median & Mean & 3rd Qu. & Max. & sd & sd\\_err\\_of\\_mean\\\\\n",
       "\\hline\n",
       "\tAdj. P & 1 & 1 & 1 & 1 & 1 & 1 & 0 & 0\\\\\n",
       "\\end{tabular}\n"
      ],
      "text/markdown": [
       "\n",
       "A matrix: 1 × 8 of type dbl\n",
       "\n",
       "| <!--/--> | Min. | 1st Qu. | Median | Mean | 3rd Qu. | Max. | sd | sd_err_of_mean |\n",
       "|---|---|---|---|---|---|---|---|---|\n",
       "| Adj. P | 1 | 1 | 1 | 1 | 1 | 1 | 0 | 0 |\n",
       "\n"
      ],
      "text/plain": [
       "       Min. 1st Qu. Median Mean 3rd Qu. Max. sd sd_err_of_mean\n",
       "Adj. P 1    1       1      1    1       1    0  0             "
      ]
     },
     "metadata": {},
     "output_type": "display_data"
    },
    {
     "data": {
      "text/html": [
       "<table>\n",
       "<caption>A tibble: 800 × 10</caption>\n",
       "<thead>\n",
       "\t<tr><th scope=col>Df</th><th scope=col>SS</th><th scope=col>MS</th><th scope=col>Rsq</th><th scope=col>F</th><th scope=col>Z</th><th scope=col>P</th><th scope=col>feature</th><th scope=col>alpha_div</th><th scope=col>Q</th></tr>\n",
       "\t<tr><th scope=col>&lt;dbl&gt;</th><th scope=col>&lt;dbl&gt;</th><th scope=col>&lt;dbl&gt;</th><th scope=col>&lt;dbl&gt;</th><th scope=col>&lt;dbl&gt;</th><th scope=col>&lt;dbl&gt;</th><th scope=col>&lt;dbl&gt;</th><th scope=col>&lt;chr&gt;</th><th scope=col>&lt;chr&gt;</th><th scope=col>&lt;dbl&gt;</th></tr>\n",
       "</thead>\n",
       "<tbody>\n",
       "\t<tr><td>4</td><td>0.05587942</td><td>0.01396985</td><td>0.01856546</td><td>0.3972499</td><td>-0.7809275</td><td>1</td><td>digestive_system</td><td>arc_faith_pd</td><td>1</td></tr>\n",
       "\t<tr><td>4</td><td>0.11885939</td><td>0.02971485</td><td>0.04256859</td><td>0.9336860</td><td> 0.2761523</td><td>1</td><td>digestive_system</td><td>arc_faith_pd</td><td>1</td></tr>\n",
       "\t<tr><td>⋮</td><td>⋮</td><td>⋮</td><td>⋮</td><td>⋮</td><td>⋮</td><td>⋮</td><td>⋮</td><td>⋮</td><td>⋮</td></tr>\n",
       "\t<tr><td>4</td><td>0.2963668</td><td>0.07409171</td><td>0.02954091</td><td>0.639243</td><td>0.02112286</td><td>1</td><td>digestive_system</td><td>bac_shannon</td><td>1</td></tr>\n",
       "\t<tr><td>4</td><td>0.3652987</td><td>0.09132468</td><td>0.06620303</td><td>1.471104</td><td>0.77208995</td><td>1</td><td>digestive_system</td><td>bac_shannon</td><td>1</td></tr>\n",
       "</tbody>\n",
       "</table>\n"
      ],
      "text/latex": [
       "A tibble: 800 × 10\n",
       "\\begin{tabular}{llllllllll}\n",
       " Df & SS & MS & Rsq & F & Z & P & feature & alpha\\_div & Q\\\\\n",
       " <dbl> & <dbl> & <dbl> & <dbl> & <dbl> & <dbl> & <dbl> & <chr> & <chr> & <dbl>\\\\\n",
       "\\hline\n",
       "\t 4 & 0.05587942 & 0.01396985 & 0.01856546 & 0.3972499 & -0.7809275 & 1 & digestive\\_system & arc\\_faith\\_pd & 1\\\\\n",
       "\t 4 & 0.11885939 & 0.02971485 & 0.04256859 & 0.9336860 &  0.2761523 & 1 & digestive\\_system & arc\\_faith\\_pd & 1\\\\\n",
       "\t ⋮ & ⋮ & ⋮ & ⋮ & ⋮ & ⋮ & ⋮ & ⋮ & ⋮ & ⋮\\\\\n",
       "\t 4 & 0.2963668 & 0.07409171 & 0.02954091 & 0.639243 & 0.02112286 & 1 & digestive\\_system & bac\\_shannon & 1\\\\\n",
       "\t 4 & 0.3652987 & 0.09132468 & 0.06620303 & 1.471104 & 0.77208995 & 1 & digestive\\_system & bac\\_shannon & 1\\\\\n",
       "\\end{tabular}\n"
      ],
      "text/markdown": [
       "\n",
       "A tibble: 800 × 10\n",
       "\n",
       "| Df &lt;dbl&gt; | SS &lt;dbl&gt; | MS &lt;dbl&gt; | Rsq &lt;dbl&gt; | F &lt;dbl&gt; | Z &lt;dbl&gt; | P &lt;dbl&gt; | feature &lt;chr&gt; | alpha_div &lt;chr&gt; | Q &lt;dbl&gt; |\n",
       "|---|---|---|---|---|---|---|---|---|---|\n",
       "| 4 | 0.05587942 | 0.01396985 | 0.01856546 | 0.3972499 | -0.7809275 | 1 | digestive_system | arc_faith_pd | 1 |\n",
       "| 4 | 0.11885939 | 0.02971485 | 0.04256859 | 0.9336860 |  0.2761523 | 1 | digestive_system | arc_faith_pd | 1 |\n",
       "| ⋮ | ⋮ | ⋮ | ⋮ | ⋮ | ⋮ | ⋮ | ⋮ | ⋮ | ⋮ |\n",
       "| 4 | 0.2963668 | 0.07409171 | 0.02954091 | 0.639243 | 0.02112286 | 1 | digestive_system | bac_shannon | 1 |\n",
       "| 4 | 0.3652987 | 0.09132468 | 0.06620303 | 1.471104 | 0.77208995 | 1 | digestive_system | bac_shannon | 1 |\n",
       "\n"
      ],
      "text/plain": [
       "    Df SS         MS         Rsq        F         Z          P feature         \n",
       "1   4  0.05587942 0.01396985 0.01856546 0.3972499 -0.7809275 1 digestive_system\n",
       "2   4  0.11885939 0.02971485 0.04256859 0.9336860  0.2761523 1 digestive_system\n",
       "⋮   ⋮  ⋮          ⋮          ⋮          ⋮         ⋮          ⋮ ⋮               \n",
       "799 4  0.2963668  0.07409171 0.02954091 0.639243  0.02112286 1 digestive_system\n",
       "800 4  0.3652987  0.09132468 0.06620303 1.471104  0.77208995 1 digestive_system\n",
       "    alpha_div    Q\n",
       "1   arc_faith_pd 1\n",
       "2   arc_faith_pd 1\n",
       "⋮   ⋮            ⋮\n",
       "799 bac_shannon  1\n",
       "800 bac_shannon  1"
      ]
     },
     "metadata": {},
     "output_type": "display_data"
    }
   ],
   "source": [
    "# formatting\n",
    "rrpp_res_s = rrpp_res %>%\n",
    "    rename('P' = `Pr(>F)`) %>%\n",
    "    group_by(alpha_div) %>%\n",
    "    mutate(P = (length(P) - sum(P < 0.05)) / length(P)) %>%\n",
    "    ungroup() %>%\n",
    "    mutate(Q = p.adjust(P, method='BH'))\n",
    "\n",
    "rrpp_res_s %>% .$Q %>% summary_x('Adj. P')\n",
    "rrpp_res_s"
   ]
  },
  {
   "cell_type": "markdown",
   "metadata": {},
   "source": [
    "# sessionInfo"
   ]
  },
  {
   "cell_type": "code",
   "execution_count": 49,
   "metadata": {
    "ExecuteTime": {
     "end_time": "2020-08-28T14:32:09.516675Z",
     "start_time": "2020-08-28T13:59:10.431Z"
    }
   },
   "outputs": [
    {
     "data": {
      "text/plain": [
       "R version 4.0.0 (2020-04-24)\n",
       "Platform: x86_64-conda_cos6-linux-gnu (64-bit)\n",
       "Running under: Ubuntu 18.04.5 LTS\n",
       "\n",
       "Matrix products: default\n",
       "BLAS/LAPACK: /ebio/abt3_projects/Georg_animal_feces/envs/phyloseq-physig/lib/libopenblasp-r0.3.9.so\n",
       "\n",
       "locale:\n",
       " [1] LC_CTYPE=en_US.UTF-8       LC_NUMERIC=C              \n",
       " [3] LC_TIME=en_US.UTF-8        LC_COLLATE=en_US.UTF-8    \n",
       " [5] LC_MONETARY=en_US.UTF-8    LC_MESSAGES=en_US.UTF-8   \n",
       " [7] LC_PAPER=en_US.UTF-8       LC_NAME=C                 \n",
       " [9] LC_ADDRESS=C               LC_TELEPHONE=C            \n",
       "[11] LC_MEASUREMENT=en_US.UTF-8 LC_IDENTIFICATION=C       \n",
       "\n",
       "attached base packages:\n",
       "[1] stats     graphics  grDevices utils     datasets  methods   base     \n",
       "\n",
       "other attached packages:\n",
       "[1] LeyLabRMisc_0.1.6 RRPP_0.6.0        ape_5.4           phyloseq_1.32.0  \n",
       "[5] ggplot2_3.3.1     tidyr_1.1.0       dplyr_1.0.0      \n",
       "\n",
       "loaded via a namespace (and not attached):\n",
       " [1] Rcpp_1.0.4.6        lattice_0.20-41     Biostrings_2.56.0  \n",
       " [4] digest_0.6.25       foreach_1.5.0       IRdisplay_0.7.0    \n",
       " [7] R6_2.4.1            plyr_1.8.6          repr_1.1.0         \n",
       "[10] stats4_4.0.0        evaluate_0.14       pillar_1.4.4       \n",
       "[13] zlibbioc_1.34.0     rlang_0.4.6         uuid_0.1-4         \n",
       "[16] data.table_1.12.8   vegan_2.5-6         S4Vectors_0.26.0   \n",
       "[19] Matrix_1.2-18       splines_4.0.0       stringr_1.4.0      \n",
       "[22] igraph_1.2.5        munsell_0.5.0       compiler_4.0.0     \n",
       "[25] pkgconfig_2.0.3     BiocGenerics_0.34.0 base64enc_0.1-3    \n",
       "[28] multtest_2.44.0     mgcv_1.8-31         htmltools_0.4.0    \n",
       "[31] biomformat_1.16.0   tidyselect_1.1.0    tibble_3.0.1       \n",
       "[34] IRanges_2.22.1      codetools_0.2-16    permute_0.9-5      \n",
       "[37] crayon_1.3.4        withr_2.2.0         MASS_7.3-51.6      \n",
       "[40] grid_4.0.0          nlme_3.1-148        jsonlite_1.6.1     \n",
       "[43] gtable_0.3.0        lifecycle_0.2.0     magrittr_1.5       \n",
       "[46] scales_1.1.1        stringi_1.4.6       XVector_0.28.0     \n",
       "[49] reshape2_1.4.4      doParallel_1.0.15   ellipsis_0.3.1     \n",
       "[52] generics_0.0.2      vctrs_0.3.1         IRkernel_1.1       \n",
       "[55] Rhdf5lib_1.10.0     iterators_1.0.12    tools_4.0.0        \n",
       "[58] ade4_1.7-15         Biobase_2.48.0      glue_1.4.1         \n",
       "[61] purrr_0.3.4         parallel_4.0.0      survival_3.1-12    \n",
       "[64] colorspace_1.4-1    rhdf5_2.32.0        cluster_2.1.0      \n",
       "[67] pbdZMQ_0.3-3       "
      ]
     },
     "metadata": {},
     "output_type": "display_data"
    }
   ],
   "source": [
    "sessionInfo()"
   ]
  },
  {
   "cell_type": "code",
   "execution_count": null,
   "metadata": {},
   "outputs": [],
   "source": []
  }
 ],
 "metadata": {
  "kernelspec": {
   "display_name": "R [conda env:Georg_animal_feces-phyloseq-physig]",
   "language": "R",
   "name": "conda-env-Georg_animal_feces-phyloseq-physig-r"
  },
  "language_info": {
   "codemirror_mode": "r",
   "file_extension": ".r",
   "mimetype": "text/x-r-source",
   "name": "R",
   "pygments_lexer": "r",
   "version": "4.0.0"
  },
  "notify_time": "30",
  "toc": {
   "base_numbering": 1,
   "nav_menu": {},
   "number_sections": true,
   "sideBar": true,
   "skip_h1_title": false,
   "title_cell": "Table of Contents",
   "title_sidebar": "Contents",
   "toc_cell": true,
   "toc_position": {},
   "toc_section_display": true,
   "toc_window_display": true
  }
 },
 "nbformat": 4,
 "nbformat_minor": 4
}
