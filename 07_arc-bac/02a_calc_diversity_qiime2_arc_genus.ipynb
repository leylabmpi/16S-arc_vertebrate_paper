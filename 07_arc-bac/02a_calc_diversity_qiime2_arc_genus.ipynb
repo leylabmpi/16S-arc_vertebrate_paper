{
 "cells": [
  {
   "cell_type": "markdown",
   "metadata": {
    "toc": true
   },
   "source": [
    "<h1>Table of Contents<span class=\"tocSkip\"></span></h1>\n",
    "<div class=\"toc\"><ul class=\"toc-item\"><li><span><a href=\"#Goal\" data-toc-modified-id=\"Goal-1\"><span class=\"toc-item-num\">1&nbsp;&nbsp;</span>Goal</a></span></li><li><span><a href=\"#Var\" data-toc-modified-id=\"Var-2\"><span class=\"toc-item-num\">2&nbsp;&nbsp;</span>Var</a></span></li><li><span><a href=\"#Converting-to-qiime2-artifacts\" data-toc-modified-id=\"Converting-to-qiime2-artifacts-3\"><span class=\"toc-item-num\">3&nbsp;&nbsp;</span>Converting to qiime2 artifacts</a></span><ul class=\"toc-item\"><li><span><a href=\"#OTU-table\" data-toc-modified-id=\"OTU-table-3.1\"><span class=\"toc-item-num\">3.1&nbsp;&nbsp;</span>OTU table</a></span></li><li><span><a href=\"#Metadata\" data-toc-modified-id=\"Metadata-3.2\"><span class=\"toc-item-num\">3.2&nbsp;&nbsp;</span>Metadata</a></span></li><li><span><a href=\"#Taxonomy\" data-toc-modified-id=\"Taxonomy-3.3\"><span class=\"toc-item-num\">3.3&nbsp;&nbsp;</span>Taxonomy</a></span></li><li><span><a href=\"#Phylogeny\" data-toc-modified-id=\"Phylogeny-3.4\"><span class=\"toc-item-num\">3.4&nbsp;&nbsp;</span>Phylogeny</a></span></li></ul></li><li><span><a href=\"#Calculating-diversity\" data-toc-modified-id=\"Calculating-diversity-4\"><span class=\"toc-item-num\">4&nbsp;&nbsp;</span>Calculating diversity</a></span></li><li><span><a href=\"#Converting-to-R-objects\" data-toc-modified-id=\"Converting-to-R-objects-5\"><span class=\"toc-item-num\">5&nbsp;&nbsp;</span>Converting to R objects</a></span><ul class=\"toc-item\"><li><span><a href=\"#alpha-diversity\" data-toc-modified-id=\"alpha-diversity-5.1\"><span class=\"toc-item-num\">5.1&nbsp;&nbsp;</span>alpha-diversity</a></span><ul class=\"toc-item\"><li><span><a href=\"#Compiling-into-a-list\" data-toc-modified-id=\"Compiling-into-a-list-5.1.1\"><span class=\"toc-item-num\">5.1.1&nbsp;&nbsp;</span>Compiling into a list</a></span></li></ul></li><li><span><a href=\"#beta-diversity\" data-toc-modified-id=\"beta-diversity-5.2\"><span class=\"toc-item-num\">5.2&nbsp;&nbsp;</span>beta diversity</a></span><ul class=\"toc-item\"><li><span><a href=\"#Compiling-into-a-list\" data-toc-modified-id=\"Compiling-into-a-list-5.2.1\"><span class=\"toc-item-num\">5.2.1&nbsp;&nbsp;</span>Compiling into a list</a></span></li></ul></li></ul></li><li><span><a href=\"#Final-files\" data-toc-modified-id=\"Final-files-6\"><span class=\"toc-item-num\">6&nbsp;&nbsp;</span>Final files</a></span></li><li><span><a href=\"#sessionInfo\" data-toc-modified-id=\"sessionInfo-7\"><span class=\"toc-item-num\">7&nbsp;&nbsp;</span>sessionInfo</a></span></li></ul></div>"
   ]
  },
  {
   "cell_type": "markdown",
   "metadata": {},
   "source": [
    "# Goal\n",
    "\n",
    "* calculate alpha and beta diversity via qiime2"
   ]
  },
  {
   "cell_type": "markdown",
   "metadata": {},
   "source": [
    "# Var"
   ]
  },
  {
   "cell_type": "code",
   "execution_count": 1,
   "metadata": {
    "ExecuteTime": {
     "end_time": "2020-08-28T11:44:03.587629Z",
     "start_time": "2020-08-28T11:44:03.431Z"
    }
   },
   "outputs": [],
   "source": [
    "work_dir = '/ebio/abt3_projects/Georg_animal_feces/data/16S_arch/MiSeq-Runs-116-122-126-189-190/LLA/arch-bac/diversity-qiime2_arc/'\n",
    "\n",
    "# 16S-arch phyloseq object; rarefied\n",
    "physeq_arc_file = '/ebio/abt3_projects/Georg_animal_feces/data/16S_arch/MiSeq-Runs-116-122-126-189-190/LLA/arch-bac/physeq_arch_arc-bac_r250.RDS'\n",
    "# 16S-bac phyloseq object; rarefied\n",
    "#physeq_bac_file = '/ebio/abt3_projects/Georg_animal_feces/data/16S_arch/MiSeq-Runs-116-122-126-189-190/LLA/arch-bac/physeq_bac_arc-bac_r5k.RDS'\n",
    "\n",
    "# misc\n",
    "tmp_dir = file.path(work_dir, 'qiime2_files')\n",
    "conda_env = 'qiime2-2019.10'"
   ]
  },
  {
   "cell_type": "code",
   "execution_count": 2,
   "metadata": {
    "ExecuteTime": {
     "end_time": "2020-08-28T11:44:11.465637Z",
     "start_time": "2020-08-28T11:44:03.558Z"
    }
   },
   "outputs": [
    {
     "name": "stderr",
     "output_type": "stream",
     "text": [
      "\n",
      "Attaching package: ‘dplyr’\n",
      "\n",
      "\n",
      "The following objects are masked from ‘package:stats’:\n",
      "\n",
      "    filter, lag\n",
      "\n",
      "\n",
      "The following objects are masked from ‘package:base’:\n",
      "\n",
      "    intersect, setdiff, setequal, union\n",
      "\n",
      "\n"
     ]
    }
   ],
   "source": [
    "library(dplyr)\n",
    "library(tidyr)\n",
    "library(ggplot2)\n",
    "library(phyloseq)\n",
    "library(ape)\n",
    "library(LeyLabRMisc)"
   ]
  },
  {
   "cell_type": "code",
   "execution_count": 3,
   "metadata": {
    "ExecuteTime": {
     "end_time": "2020-08-28T11:44:11.741713Z",
     "start_time": "2020-08-28T11:44:03.686Z"
    }
   },
   "outputs": [
    {
     "name": "stdout",
     "output_type": "stream",
     "text": [
      "Directory already exists: /ebio/abt3_projects/Georg_animal_feces/data/16S_arch/MiSeq-Runs-116-122-126-189-190/LLA/arch-bac/diversity-qiime2_arc/ \n",
      "Directory already exists: /ebio/abt3_projects/Georg_animal_feces/data/16S_arch/MiSeq-Runs-116-122-126-189-190/LLA/arch-bac/diversity-qiime2_arc//qiime2_files \n"
     ]
    }
   ],
   "source": [
    "df.dims()\n",
    "make_dir(work_dir)\n",
    "make_dir(tmp_dir)"
   ]
  },
  {
   "cell_type": "markdown",
   "metadata": {},
   "source": [
    "# Converting to qiime2 artifacts"
   ]
  },
  {
   "cell_type": "code",
   "execution_count": 4,
   "metadata": {
    "ExecuteTime": {
     "end_time": "2020-08-28T11:44:11.840527Z",
     "start_time": "2020-08-28T11:44:03.927Z"
    }
   },
   "outputs": [
    {
     "data": {
      "text/plain": [
       "phyloseq-class experiment-level object\n",
       "otu_table()   OTU Table:         [ 1400 taxa and 140 samples ]\n",
       "sample_data() Sample Data:       [ 140 samples by 74 sample variables ]\n",
       "tax_table()   Taxonomy Table:    [ 1400 taxa by 7 taxonomic ranks ]\n",
       "phy_tree()    Phylogenetic Tree: [ 1400 tips and 1397 internal nodes ]"
      ]
     },
     "metadata": {},
     "output_type": "display_data"
    }
   ],
   "source": [
    "# loading phyloseq object\n",
    "physeq = readRDS(physeq_arc_file)\n",
    "physeq "
   ]
  },
  {
   "cell_type": "code",
   "execution_count": 5,
   "metadata": {
    "ExecuteTime": {
     "end_time": "2020-08-28T11:44:17.165595Z",
     "start_time": "2020-08-28T11:44:11.258Z"
    }
   },
   "outputs": [
    {
     "data": {
      "text/plain": [
       "phyloseq-class experiment-level object\n",
       "otu_table()   OTU Table:         [ 76 taxa and 140 samples ]\n",
       "sample_data() Sample Data:       [ 140 samples by 74 sample variables ]\n",
       "tax_table()   Taxonomy Table:    [ 76 taxa by 7 taxonomic ranks ]\n",
       "phy_tree()    Phylogenetic Tree: [ 76 tips and 75 internal nodes ]"
      ]
     },
     "metadata": {},
     "output_type": "display_data"
    }
   ],
   "source": [
    "# aggregating by genus\n",
    "physeq = tax_glom(physeq, 'Genus')\n",
    "physeq"
   ]
  },
  {
   "cell_type": "markdown",
   "metadata": {},
   "source": [
    "## OTU table"
   ]
  },
  {
   "cell_type": "code",
   "execution_count": 6,
   "metadata": {
    "ExecuteTime": {
     "end_time": "2020-08-28T11:44:17.665321Z",
     "start_time": "2020-08-28T11:44:12.594Z"
    }
   },
   "outputs": [
    {
     "data": {
      "text/html": [
       "<table>\n",
       "<caption>A data.frame: 76 × 141</caption>\n",
       "<thead>\n",
       "\t<tr><th scope=col>OTU</th><th scope=col>F35_Red_Deer</th><th scope=col>F36_Red_Deer</th><th scope=col>F44_Fallow_Deer</th><th scope=col>F45_Red_Deer</th><th scope=col>F47_Red_Deer</th><th scope=col>F48_Red_Deer</th><th scope=col>F53_Mouflon</th><th scope=col>F66_Wild_Boar</th><th scope=col>F68_Red_Deer</th><th scope=col>⋯</th><th scope=col>X127_Alpine_Marmot</th><th scope=col>X133_Domestic_Goat</th><th scope=col>X134_Domestic_Goat</th><th scope=col>X3_Alpine_Chamois</th><th scope=col>X357_Northern_Tamandua</th><th scope=col>X359_Brown_throated_Sloth</th><th scope=col>X403_Chacma_Baboon</th><th scope=col>X405_Nile_Crocodile</th><th scope=col>X431_Quagga</th><th scope=col>X67_European_Roe</th></tr>\n",
       "\t<tr><th scope=col>&lt;chr&gt;</th><th scope=col>&lt;dbl&gt;</th><th scope=col>&lt;dbl&gt;</th><th scope=col>&lt;dbl&gt;</th><th scope=col>&lt;dbl&gt;</th><th scope=col>&lt;dbl&gt;</th><th scope=col>&lt;dbl&gt;</th><th scope=col>&lt;dbl&gt;</th><th scope=col>&lt;dbl&gt;</th><th scope=col>&lt;dbl&gt;</th><th scope=col>⋯</th><th scope=col>&lt;dbl&gt;</th><th scope=col>&lt;dbl&gt;</th><th scope=col>&lt;dbl&gt;</th><th scope=col>&lt;dbl&gt;</th><th scope=col>&lt;dbl&gt;</th><th scope=col>&lt;dbl&gt;</th><th scope=col>&lt;dbl&gt;</th><th scope=col>&lt;dbl&gt;</th><th scope=col>&lt;dbl&gt;</th><th scope=col>&lt;dbl&gt;</th></tr>\n",
       "</thead>\n",
       "<tbody>\n",
       "\t<tr><td>2edacf1c89218ce10512cfc2db8a6fab</td><td>0</td><td>0</td><td>0</td><td>0</td><td>0</td><td>0</td><td>0</td><td>0</td><td>0</td><td>⋯</td><td>0</td><td>0</td><td>0</td><td>0</td><td>0</td><td>0</td><td>0</td><td>0</td><td>0</td><td>0</td></tr>\n",
       "\t<tr><td>e6ddd5efa2e9229aa04f33e832450fa8</td><td>0</td><td>0</td><td>0</td><td>0</td><td>0</td><td>0</td><td>0</td><td>0</td><td>0</td><td>⋯</td><td>0</td><td>0</td><td>0</td><td>0</td><td>0</td><td>0</td><td>0</td><td>1</td><td>0</td><td>0</td></tr>\n",
       "\t<tr><td>⋮</td><td>⋮</td><td>⋮</td><td>⋮</td><td>⋮</td><td>⋮</td><td>⋮</td><td>⋮</td><td>⋮</td><td>⋮</td><td>⋱</td><td>⋮</td><td>⋮</td><td>⋮</td><td>⋮</td><td>⋮</td><td>⋮</td><td>⋮</td><td>⋮</td><td>⋮</td><td>⋮</td></tr>\n",
       "\t<tr><td>793e282cf98413345fffa5c8f9572be3</td><td>0</td><td>0</td><td>0</td><td>0</td><td>0</td><td>0</td><td>0</td><td>0</td><td>0</td><td>⋯</td><td>0</td><td>0</td><td>0</td><td>0</td><td>0</td><td>0</td><td>0</td><td>12</td><td>0</td><td>0</td></tr>\n",
       "\t<tr><td>188795b8eb1edbd3334be2676ca05391</td><td>0</td><td>0</td><td>0</td><td>0</td><td>0</td><td>0</td><td>0</td><td>0</td><td>0</td><td>⋯</td><td>0</td><td>0</td><td>0</td><td>0</td><td>0</td><td>0</td><td>0</td><td> 1</td><td>0</td><td>0</td></tr>\n",
       "</tbody>\n",
       "</table>\n"
      ],
      "text/latex": [
       "A data.frame: 76 × 141\n",
       "\\begin{tabular}{lllllllllllllllllllll}\n",
       " OTU & F35\\_Red\\_Deer & F36\\_Red\\_Deer & F44\\_Fallow\\_Deer & F45\\_Red\\_Deer & F47\\_Red\\_Deer & F48\\_Red\\_Deer & F53\\_Mouflon & F66\\_Wild\\_Boar & F68\\_Red\\_Deer & ⋯ & X127\\_Alpine\\_Marmot & X133\\_Domestic\\_Goat & X134\\_Domestic\\_Goat & X3\\_Alpine\\_Chamois & X357\\_Northern\\_Tamandua & X359\\_Brown\\_throated\\_Sloth & X403\\_Chacma\\_Baboon & X405\\_Nile\\_Crocodile & X431\\_Quagga & X67\\_European\\_Roe\\\\\n",
       " <chr> & <dbl> & <dbl> & <dbl> & <dbl> & <dbl> & <dbl> & <dbl> & <dbl> & <dbl> & ⋯ & <dbl> & <dbl> & <dbl> & <dbl> & <dbl> & <dbl> & <dbl> & <dbl> & <dbl> & <dbl>\\\\\n",
       "\\hline\n",
       "\t 2edacf1c89218ce10512cfc2db8a6fab & 0 & 0 & 0 & 0 & 0 & 0 & 0 & 0 & 0 & ⋯ & 0 & 0 & 0 & 0 & 0 & 0 & 0 & 0 & 0 & 0\\\\\n",
       "\t e6ddd5efa2e9229aa04f33e832450fa8 & 0 & 0 & 0 & 0 & 0 & 0 & 0 & 0 & 0 & ⋯ & 0 & 0 & 0 & 0 & 0 & 0 & 0 & 1 & 0 & 0\\\\\n",
       "\t ⋮ & ⋮ & ⋮ & ⋮ & ⋮ & ⋮ & ⋮ & ⋮ & ⋮ & ⋮ & ⋱ & ⋮ & ⋮ & ⋮ & ⋮ & ⋮ & ⋮ & ⋮ & ⋮ & ⋮ & ⋮\\\\\n",
       "\t 793e282cf98413345fffa5c8f9572be3 & 0 & 0 & 0 & 0 & 0 & 0 & 0 & 0 & 0 & ⋯ & 0 & 0 & 0 & 0 & 0 & 0 & 0 & 12 & 0 & 0\\\\\n",
       "\t 188795b8eb1edbd3334be2676ca05391 & 0 & 0 & 0 & 0 & 0 & 0 & 0 & 0 & 0 & ⋯ & 0 & 0 & 0 & 0 & 0 & 0 & 0 &  1 & 0 & 0\\\\\n",
       "\\end{tabular}\n"
      ],
      "text/markdown": [
       "\n",
       "A data.frame: 76 × 141\n",
       "\n",
       "| OTU &lt;chr&gt; | F35_Red_Deer &lt;dbl&gt; | F36_Red_Deer &lt;dbl&gt; | F44_Fallow_Deer &lt;dbl&gt; | F45_Red_Deer &lt;dbl&gt; | F47_Red_Deer &lt;dbl&gt; | F48_Red_Deer &lt;dbl&gt; | F53_Mouflon &lt;dbl&gt; | F66_Wild_Boar &lt;dbl&gt; | F68_Red_Deer &lt;dbl&gt; | ⋯ ⋯ | X127_Alpine_Marmot &lt;dbl&gt; | X133_Domestic_Goat &lt;dbl&gt; | X134_Domestic_Goat &lt;dbl&gt; | X3_Alpine_Chamois &lt;dbl&gt; | X357_Northern_Tamandua &lt;dbl&gt; | X359_Brown_throated_Sloth &lt;dbl&gt; | X403_Chacma_Baboon &lt;dbl&gt; | X405_Nile_Crocodile &lt;dbl&gt; | X431_Quagga &lt;dbl&gt; | X67_European_Roe &lt;dbl&gt; |\n",
       "|---|---|---|---|---|---|---|---|---|---|---|---|---|---|---|---|---|---|---|---|---|\n",
       "| 2edacf1c89218ce10512cfc2db8a6fab | 0 | 0 | 0 | 0 | 0 | 0 | 0 | 0 | 0 | ⋯ | 0 | 0 | 0 | 0 | 0 | 0 | 0 | 0 | 0 | 0 |\n",
       "| e6ddd5efa2e9229aa04f33e832450fa8 | 0 | 0 | 0 | 0 | 0 | 0 | 0 | 0 | 0 | ⋯ | 0 | 0 | 0 | 0 | 0 | 0 | 0 | 1 | 0 | 0 |\n",
       "| ⋮ | ⋮ | ⋮ | ⋮ | ⋮ | ⋮ | ⋮ | ⋮ | ⋮ | ⋮ | ⋱ | ⋮ | ⋮ | ⋮ | ⋮ | ⋮ | ⋮ | ⋮ | ⋮ | ⋮ | ⋮ |\n",
       "| 793e282cf98413345fffa5c8f9572be3 | 0 | 0 | 0 | 0 | 0 | 0 | 0 | 0 | 0 | ⋯ | 0 | 0 | 0 | 0 | 0 | 0 | 0 | 12 | 0 | 0 |\n",
       "| 188795b8eb1edbd3334be2676ca05391 | 0 | 0 | 0 | 0 | 0 | 0 | 0 | 0 | 0 | ⋯ | 0 | 0 | 0 | 0 | 0 | 0 | 0 |  1 | 0 | 0 |\n",
       "\n"
      ],
      "text/plain": [
       "   OTU                              F35_Red_Deer F36_Red_Deer F44_Fallow_Deer\n",
       "1  2edacf1c89218ce10512cfc2db8a6fab 0            0            0              \n",
       "2  e6ddd5efa2e9229aa04f33e832450fa8 0            0            0              \n",
       "⋮  ⋮                                ⋮            ⋮            ⋮              \n",
       "75 793e282cf98413345fffa5c8f9572be3 0            0            0              \n",
       "76 188795b8eb1edbd3334be2676ca05391 0            0            0              \n",
       "   F45_Red_Deer F47_Red_Deer F48_Red_Deer F53_Mouflon F66_Wild_Boar\n",
       "1  0            0            0            0           0            \n",
       "2  0            0            0            0           0            \n",
       "⋮  ⋮            ⋮            ⋮            ⋮           ⋮            \n",
       "75 0            0            0            0           0            \n",
       "76 0            0            0            0           0            \n",
       "   F68_Red_Deer ⋯ X127_Alpine_Marmot X133_Domestic_Goat X134_Domestic_Goat\n",
       "1  0            ⋯ 0                  0                  0                 \n",
       "2  0            ⋯ 0                  0                  0                 \n",
       "⋮  ⋮            ⋱ ⋮                  ⋮                  ⋮                 \n",
       "75 0            ⋯ 0                  0                  0                 \n",
       "76 0            ⋯ 0                  0                  0                 \n",
       "   X3_Alpine_Chamois X357_Northern_Tamandua X359_Brown_throated_Sloth\n",
       "1  0                 0                      0                        \n",
       "2  0                 0                      0                        \n",
       "⋮  ⋮                 ⋮                      ⋮                        \n",
       "75 0                 0                      0                        \n",
       "76 0                 0                      0                        \n",
       "   X403_Chacma_Baboon X405_Nile_Crocodile X431_Quagga X67_European_Roe\n",
       "1  0                  0                   0           0               \n",
       "2  0                  1                   0           0               \n",
       "⋮  ⋮                  ⋮                   ⋮           ⋮               \n",
       "75 0                  12                  0           0               \n",
       "76 0                   1                  0           0               "
      ]
     },
     "metadata": {},
     "output_type": "display_data"
    }
   ],
   "source": [
    "# converting OTU table\n",
    "tmp = physeq %>% phyloseq2df(otu_table)\n",
    "tmp = cbind(tmp %>% dplyr::select(OTU),\n",
    "            tmp %>% dplyr::select(-OTU))\n",
    "tmp"
   ]
  },
  {
   "cell_type": "code",
   "execution_count": 7,
   "metadata": {
    "ExecuteTime": {
     "end_time": "2020-08-28T11:44:17.699819Z",
     "start_time": "2020-08-28T11:44:12.708Z"
    }
   },
   "outputs": [
    {
     "name": "stdout",
     "output_type": "stream",
     "text": [
      "    Min.  1st Qu.   Median     Mean  3rd Qu.     Max. \n",
      "    0.00     1.00     5.50   460.53    56.25 15058.00 \n",
      "   Min. 1st Qu.  Median    Mean 3rd Qu.    Max. \n",
      "    250     250     250     250     250     250 \n"
     ]
    }
   ],
   "source": [
    "# OTU table value summary\n",
    "rowSums(tmp[,2:ncol(tmp)]) %>% summary %>% print\n",
    "colSums(tmp[,2:ncol(tmp)]) %>% summary %>% print"
   ]
  },
  {
   "cell_type": "code",
   "execution_count": 8,
   "metadata": {
    "ExecuteTime": {
     "end_time": "2020-08-28T11:44:19.147269Z",
     "start_time": "2020-08-28T11:44:19.072Z"
    }
   },
   "outputs": [
    {
     "name": "stdout",
     "output_type": "stream",
     "text": [
      "File written: /ebio/abt3_projects/Georg_animal_feces/data/16S_arch/MiSeq-Runs-116-122-126-189-190/LLA/arch-bac/diversity-qiime2_arc//qiime2_files/physeq_otu-table_genus.tsv \n"
     ]
    }
   ],
   "source": [
    "# writing out table\n",
    "otu_table_file = file.path(tmp_dir, 'physeq_otu-table_genus.tsv')\n",
    "write.table(tmp, otu_table_file, sep='\\t', quote=FALSE, row.names=FALSE)\n",
    "cat('File written:', otu_table_file, '\\n')"
   ]
  },
  {
   "cell_type": "code",
   "execution_count": 9,
   "metadata": {
    "ExecuteTime": {
     "end_time": "2020-08-28T11:44:29.963658Z",
     "start_time": "2020-08-28T11:44:21.135Z"
    }
   },
   "outputs": [
    {
     "name": "stdout",
     "output_type": "stream",
     "text": [
      "[1] \"biom convert -i /ebio/abt3_projects/Georg_animal_feces/data/16S_arch/MiSeq-Runs-116-122-126-189-190/LLA/arch-bac/diversity-qiime2_arc//qiime2_files/physeq_otu-table_genus.tsv -o /ebio/abt3_projects/Georg_animal_feces/data/16S_arch/MiSeq-Runs-116-122-126-189-190/LLA/arch-bac/diversity-qiime2_arc//qiime2_files/physeq_otu-table_genus.biom --to-hdf5\"\n"
     ]
    },
    {
     "data": {
      "text/plain": [
       "NULL"
      ]
     },
     "metadata": {},
     "output_type": "display_data"
    }
   ],
   "source": [
    "# converting otu to biom\n",
    "otu_biom_file = file.path(tmp_dir, 'physeq_otu-table_genus.biom')\n",
    "cmd = sprintf('biom convert -i %s -o %s --to-hdf5', otu_table_file, otu_biom_file)\n",
    "print(cmd)\n",
    "bash_job(cmd, conda_env)"
   ]
  },
  {
   "cell_type": "code",
   "execution_count": 10,
   "metadata": {
    "ExecuteTime": {
     "end_time": "2020-08-28T11:44:44.782751Z",
     "start_time": "2020-08-28T11:44:23.271Z"
    }
   },
   "outputs": [
    {
     "name": "stdout",
     "output_type": "stream",
     "text": [
      "[1] \"qiime tools import --type FeatureTable[Frequency] --input-path /ebio/abt3_projects/Georg_animal_feces/data/16S_arch/MiSeq-Runs-116-122-126-189-190/LLA/arch-bac/diversity-qiime2_arc//qiime2_files/physeq_otu-table_genus.biom --output-path /ebio/abt3_projects/Georg_animal_feces/data/16S_arch/MiSeq-Runs-116-122-126-189-190/LLA/arch-bac/diversity-qiime2_arc//qiime2_files/physeq_otu_genus.qza\"\n",
      "Imported /ebio/abt3_projects/Georg_animal_feces/data/16S_arch/MiSeq-Runs-116-122-126-189-190/LLA/arch-bac/diversity-qiime2_arc//qiime2_files/physeq_otu-table_genus.biom as BIOMV210DirFmt to /ebio/abt3_projects/Georg_animal_feces/data/16S_arch/MiSeq-Runs-116-122-126-189-190/LLA/arch-bac/diversity-qiime2_arc//qiime2_files/physeq_otu_genus.qza"
     ]
    },
    {
     "data": {
      "text/plain": [
       "NULL"
      ]
     },
     "metadata": {},
     "output_type": "display_data"
    }
   ],
   "source": [
    "# converting biom to qiime2 artifact\n",
    "otu_art_file = file.path(tmp_dir, 'physeq_otu_genus.qza')\n",
    "cmd = sprintf('qiime tools import --type FeatureTable[Frequency] --input-path %s --output-path %s', \n",
    "              otu_biom_file, otu_art_file)\n",
    "print(cmd)\n",
    "bash_job(cmd, conda_env)"
   ]
  },
  {
   "cell_type": "markdown",
   "metadata": {},
   "source": [
    "## Metadata"
   ]
  },
  {
   "cell_type": "code",
   "execution_count": 11,
   "metadata": {
    "ExecuteTime": {
     "end_time": "2020-08-28T11:44:44.886744Z",
     "start_time": "2020-08-28T11:44:25.999Z"
    }
   },
   "outputs": [
    {
     "data": {
      "text/html": [
       "<table>\n",
       "<caption>A data.frame: 140 × 75</caption>\n",
       "<thead>\n",
       "\t<tr><th scope=col>#SampleID</th><th scope=col>host_subject_id</th><th scope=col>host_german_name</th><th scope=col>host_common_name</th><th scope=col>scientific_name</th><th scope=col>scientific_name_subspecies</th><th scope=col>host_taxid</th><th scope=col>class</th><th scope=col>order</th><th scope=col>family</th><th scope=col>⋯</th><th scope=col>samp_store_days</th><th scope=col>samp_collect_device</th><th scope=col>sampling_method</th><th scope=col>diet</th><th scope=col>feeding_style</th><th scope=col>digestive_system</th><th scope=col>digestive_system_detail</th><th scope=col>Sample</th><th scope=col>total_count</th><th scope=col>host_class</th></tr>\n",
       "\t<tr><th scope=col>&lt;chr&gt;</th><th scope=col>&lt;chr&gt;</th><th scope=col>&lt;chr&gt;</th><th scope=col>&lt;chr&gt;</th><th scope=col>&lt;chr&gt;</th><th scope=col>&lt;chr&gt;</th><th scope=col>&lt;chr&gt;</th><th scope=col>&lt;chr&gt;</th><th scope=col>&lt;chr&gt;</th><th scope=col>&lt;chr&gt;</th><th scope=col>⋯</th><th scope=col>&lt;chr&gt;</th><th scope=col>&lt;chr&gt;</th><th scope=col>&lt;chr&gt;</th><th scope=col>&lt;chr&gt;</th><th scope=col>&lt;chr&gt;</th><th scope=col>&lt;chr&gt;</th><th scope=col>&lt;chr&gt;</th><th scope=col>&lt;chr&gt;</th><th scope=col>&lt;dbl&gt;</th><th scope=col>&lt;chr&gt;</th></tr>\n",
       "</thead>\n",
       "<tbody>\n",
       "\t<tr><td>F35_Red_Deer</td><td>F35</td><td>Rothirsch</td><td>Red.Deer</td><td>Cervus_elaphus</td><td>NA</td><td>9860</td><td>Mammalia</td><td>Artiodactyla</td><td>Cervidae</td><td>⋯</td><td>229</td><td>Greiner Polystyrene 30ml Faeces Container</td><td>feces sampling</td><td>herbivore</td><td>intermediate type</td><td>foregut</td><td>foregut</td><td>F35_Red_Deer</td><td>1874</td><td>Mammalia</td></tr>\n",
       "\t<tr><td>F36_Red_Deer</td><td>F36</td><td>Rothirsch</td><td>Red.Deer</td><td>Cervus_elaphus</td><td>NA</td><td>9860</td><td>Mammalia</td><td>Artiodactyla</td><td>Cervidae</td><td>⋯</td><td>229</td><td>Greiner Polystyrene 30ml Faeces Container</td><td>feces sampling</td><td>herbivore</td><td>intermediate type</td><td>foregut</td><td>foregut</td><td>F36_Red_Deer</td><td>3369</td><td>Mammalia</td></tr>\n",
       "\t<tr><td>⋮</td><td>⋮</td><td>⋮</td><td>⋮</td><td>⋮</td><td>⋮</td><td>⋮</td><td>⋮</td><td>⋮</td><td>⋮</td><td>⋱</td><td>⋮</td><td>⋮</td><td>⋮</td><td>⋮</td><td>⋮</td><td>⋮</td><td>⋮</td><td>⋮</td><td>⋮</td><td>⋮</td></tr>\n",
       "\t<tr><td>X431_Quagga     </td><td>431</td><td>Steppenzebra</td><td>Quagga      </td><td>Equus_quagga       </td><td>NA</td><td>89252</td><td>Mammalia</td><td>Perissodactyla</td><td>Equidae </td><td>⋯</td><td>NA     </td><td>Screw cap vial</td><td>feces sampling</td><td>herbivore</td><td>NA                  </td><td>hindgut</td><td>colon  </td><td>X431_Quagga     </td><td>2433</td><td>Mammalia</td></tr>\n",
       "\t<tr><td>X67_European_Roe</td><td>67 </td><td>Reh         </td><td>European.Roe</td><td>Capreolus_capreolus</td><td>NA</td><td>9858 </td><td>Mammalia</td><td>Artiodactyla  </td><td>Cervidae</td><td>⋯</td><td>#VALUE!</td><td>Screw cap vial</td><td>feces sampling</td><td>herbivore</td><td>concentrate selector</td><td>foregut</td><td>foregut</td><td>X67_European_Roe</td><td> 721</td><td>Mammalia</td></tr>\n",
       "</tbody>\n",
       "</table>\n"
      ],
      "text/latex": [
       "A data.frame: 140 × 75\n",
       "\\begin{tabular}{lllllllllllllllllllll}\n",
       " \\#SampleID & host\\_subject\\_id & host\\_german\\_name & host\\_common\\_name & scientific\\_name & scientific\\_name\\_subspecies & host\\_taxid & class & order & family & ⋯ & samp\\_store\\_days & samp\\_collect\\_device & sampling\\_method & diet & feeding\\_style & digestive\\_system & digestive\\_system\\_detail & Sample & total\\_count & host\\_class\\\\\n",
       " <chr> & <chr> & <chr> & <chr> & <chr> & <chr> & <chr> & <chr> & <chr> & <chr> & ⋯ & <chr> & <chr> & <chr> & <chr> & <chr> & <chr> & <chr> & <chr> & <dbl> & <chr>\\\\\n",
       "\\hline\n",
       "\t F35\\_Red\\_Deer & F35 & Rothirsch & Red.Deer & Cervus\\_elaphus & NA & 9860 & Mammalia & Artiodactyla & Cervidae & ⋯ & 229 & Greiner Polystyrene 30ml Faeces Container & feces sampling & herbivore & intermediate type & foregut & foregut & F35\\_Red\\_Deer & 1874 & Mammalia\\\\\n",
       "\t F36\\_Red\\_Deer & F36 & Rothirsch & Red.Deer & Cervus\\_elaphus & NA & 9860 & Mammalia & Artiodactyla & Cervidae & ⋯ & 229 & Greiner Polystyrene 30ml Faeces Container & feces sampling & herbivore & intermediate type & foregut & foregut & F36\\_Red\\_Deer & 3369 & Mammalia\\\\\n",
       "\t ⋮ & ⋮ & ⋮ & ⋮ & ⋮ & ⋮ & ⋮ & ⋮ & ⋮ & ⋮ & ⋱ & ⋮ & ⋮ & ⋮ & ⋮ & ⋮ & ⋮ & ⋮ & ⋮ & ⋮ & ⋮\\\\\n",
       "\t X431\\_Quagga      & 431 & Steppenzebra & Quagga       & Equus\\_quagga        & NA & 89252 & Mammalia & Perissodactyla & Equidae  & ⋯ & NA      & Screw cap vial & feces sampling & herbivore & NA                   & hindgut & colon   & X431\\_Quagga      & 2433 & Mammalia\\\\\n",
       "\t X67\\_European\\_Roe & 67  & Reh          & European.Roe & Capreolus\\_capreolus & NA & 9858  & Mammalia & Artiodactyla   & Cervidae & ⋯ & \\#VALUE! & Screw cap vial & feces sampling & herbivore & concentrate selector & foregut & foregut & X67\\_European\\_Roe &  721 & Mammalia\\\\\n",
       "\\end{tabular}\n"
      ],
      "text/markdown": [
       "\n",
       "A data.frame: 140 × 75\n",
       "\n",
       "| #SampleID &lt;chr&gt; | host_subject_id &lt;chr&gt; | host_german_name &lt;chr&gt; | host_common_name &lt;chr&gt; | scientific_name &lt;chr&gt; | scientific_name_subspecies &lt;chr&gt; | host_taxid &lt;chr&gt; | class &lt;chr&gt; | order &lt;chr&gt; | family &lt;chr&gt; | ⋯ ⋯ | samp_store_days &lt;chr&gt; | samp_collect_device &lt;chr&gt; | sampling_method &lt;chr&gt; | diet &lt;chr&gt; | feeding_style &lt;chr&gt; | digestive_system &lt;chr&gt; | digestive_system_detail &lt;chr&gt; | Sample &lt;chr&gt; | total_count &lt;dbl&gt; | host_class &lt;chr&gt; |\n",
       "|---|---|---|---|---|---|---|---|---|---|---|---|---|---|---|---|---|---|---|---|---|\n",
       "| F35_Red_Deer | F35 | Rothirsch | Red.Deer | Cervus_elaphus | NA | 9860 | Mammalia | Artiodactyla | Cervidae | ⋯ | 229 | Greiner Polystyrene 30ml Faeces Container | feces sampling | herbivore | intermediate type | foregut | foregut | F35_Red_Deer | 1874 | Mammalia |\n",
       "| F36_Red_Deer | F36 | Rothirsch | Red.Deer | Cervus_elaphus | NA | 9860 | Mammalia | Artiodactyla | Cervidae | ⋯ | 229 | Greiner Polystyrene 30ml Faeces Container | feces sampling | herbivore | intermediate type | foregut | foregut | F36_Red_Deer | 3369 | Mammalia |\n",
       "| ⋮ | ⋮ | ⋮ | ⋮ | ⋮ | ⋮ | ⋮ | ⋮ | ⋮ | ⋮ | ⋱ | ⋮ | ⋮ | ⋮ | ⋮ | ⋮ | ⋮ | ⋮ | ⋮ | ⋮ | ⋮ |\n",
       "| X431_Quagga      | 431 | Steppenzebra | Quagga       | Equus_quagga        | NA | 89252 | Mammalia | Perissodactyla | Equidae  | ⋯ | NA      | Screw cap vial | feces sampling | herbivore | NA                   | hindgut | colon   | X431_Quagga      | 2433 | Mammalia |\n",
       "| X67_European_Roe | 67  | Reh          | European.Roe | Capreolus_capreolus | NA | 9858  | Mammalia | Artiodactyla   | Cervidae | ⋯ | #VALUE! | Screw cap vial | feces sampling | herbivore | concentrate selector | foregut | foregut | X67_European_Roe |  721 | Mammalia |\n",
       "\n"
      ],
      "text/plain": [
       "    #SampleID        host_subject_id host_german_name host_common_name\n",
       "1   F35_Red_Deer     F35             Rothirsch        Red.Deer        \n",
       "2   F36_Red_Deer     F36             Rothirsch        Red.Deer        \n",
       "⋮   ⋮                ⋮               ⋮                ⋮               \n",
       "139 X431_Quagga      431             Steppenzebra     Quagga          \n",
       "140 X67_European_Roe 67              Reh              European.Roe    \n",
       "    scientific_name     scientific_name_subspecies host_taxid class   \n",
       "1   Cervus_elaphus      NA                         9860       Mammalia\n",
       "2   Cervus_elaphus      NA                         9860       Mammalia\n",
       "⋮   ⋮                   ⋮                          ⋮          ⋮       \n",
       "139 Equus_quagga        NA                         89252      Mammalia\n",
       "140 Capreolus_capreolus NA                         9858       Mammalia\n",
       "    order          family   ⋯ samp_store_days\n",
       "1   Artiodactyla   Cervidae ⋯ 229            \n",
       "2   Artiodactyla   Cervidae ⋯ 229            \n",
       "⋮   ⋮              ⋮        ⋱ ⋮              \n",
       "139 Perissodactyla Equidae  ⋯ NA             \n",
       "140 Artiodactyla   Cervidae ⋯ #VALUE!        \n",
       "    samp_collect_device                       sampling_method diet     \n",
       "1   Greiner Polystyrene 30ml Faeces Container feces sampling  herbivore\n",
       "2   Greiner Polystyrene 30ml Faeces Container feces sampling  herbivore\n",
       "⋮   ⋮                                         ⋮               ⋮        \n",
       "139 Screw cap vial                            feces sampling  herbivore\n",
       "140 Screw cap vial                            feces sampling  herbivore\n",
       "    feeding_style        digestive_system digestive_system_detail\n",
       "1   intermediate type    foregut          foregut                \n",
       "2   intermediate type    foregut          foregut                \n",
       "⋮   ⋮                    ⋮                ⋮                      \n",
       "139 NA                   hindgut          colon                  \n",
       "140 concentrate selector foregut          foregut                \n",
       "    Sample           total_count host_class\n",
       "1   F35_Red_Deer     1874        Mammalia  \n",
       "2   F36_Red_Deer     3369        Mammalia  \n",
       "⋮   ⋮                ⋮           ⋮         \n",
       "139 X431_Quagga      2433        Mammalia  \n",
       "140 X67_European_Roe  721        Mammalia  "
      ]
     },
     "metadata": {},
     "output_type": "display_data"
    }
   ],
   "source": [
    "# converting sample metadata\n",
    "tmp = physeq %>% phyloseq2df(sample_data)\n",
    "tmp = cbind(tmp %>% dplyr::select(SampleID),\n",
    "            tmp %>% dplyr::select(-SampleID))\n",
    "colnames(tmp)[1] = '#SampleID'\n",
    "tmp$host_class = tmp$class\n",
    "tmp "
   ]
  },
  {
   "cell_type": "code",
   "execution_count": 12,
   "metadata": {
    "ExecuteTime": {
     "end_time": "2020-08-28T11:44:44.926787Z",
     "start_time": "2020-08-28T11:44:27.053Z"
    }
   },
   "outputs": [
    {
     "name": "stdout",
     "output_type": "stream",
     "text": [
      "File written: /ebio/abt3_projects/Georg_animal_feces/data/16S_arch/MiSeq-Runs-116-122-126-189-190/LLA/arch-bac/diversity-qiime2_arc//qiime2_files/physeq_sample-data.tsv \n"
     ]
    }
   ],
   "source": [
    "# writing out table\n",
    "sample_data_file = file.path(tmp_dir, 'physeq_sample-data.tsv')\n",
    "write.table(tmp, sample_data_file, sep='\\t', quote=FALSE, row.names=FALSE)\n",
    "cat('File written:', sample_data_file, '\\n')"
   ]
  },
  {
   "cell_type": "markdown",
   "metadata": {},
   "source": [
    "## Taxonomy"
   ]
  },
  {
   "cell_type": "code",
   "execution_count": 15,
   "metadata": {
    "ExecuteTime": {
     "end_time": "2020-08-28T11:44:48.945453Z",
     "start_time": "2020-08-28T11:44:48.838Z"
    }
   },
   "outputs": [
    {
     "data": {
      "text/html": [
       "<table>\n",
       "<caption>A data.frame: 76 × 3</caption>\n",
       "<thead>\n",
       "\t<tr><th scope=col>OTU</th><th scope=col>taxonomy</th><th scope=col>Species</th></tr>\n",
       "\t<tr><th scope=col>&lt;chr&gt;</th><th scope=col>&lt;chr&gt;</th><th scope=col>&lt;chr&gt;</th></tr>\n",
       "</thead>\n",
       "<tbody>\n",
       "\t<tr><td>2edacf1c89218ce10512cfc2db8a6fab</td><td>Archaea;Euryarchaeota;Methanobacteria;Methanobacteriales;Methanobacteriaceae;uncultured                                                                                                                               </td><td>NA</td></tr>\n",
       "\t<tr><td>e6ddd5efa2e9229aa04f33e832450fa8</td><td>Archaea;Nanoarchaeaeota;Woesearchaeia;Candidatus Staskawiczbacteria bacterium RIFOXYA2_FULL_32_7;Candidatus Staskawiczbacteria bacterium RIFOXYA2_FULL_32_7;Candidatus Staskawiczbacteria bacterium RIFOXYA2_FULL_32_7</td><td>NA</td></tr>\n",
       "\t<tr><td>⋮</td><td>⋮</td><td>⋮</td></tr>\n",
       "\t<tr><td>793e282cf98413345fffa5c8f9572be3</td><td>Archaea;Euryarchaeota;Methanobacteria;Methanobacteriales;Methanobacteriaceae;Methanobacterium</td><td>NA</td></tr>\n",
       "\t<tr><td>188795b8eb1edbd3334be2676ca05391</td><td>Archaea;Euryarchaeota;Methanobacteria;Methanobacteriales;Methanobacteriaceae;unclassified    </td><td>NA</td></tr>\n",
       "</tbody>\n",
       "</table>\n"
      ],
      "text/latex": [
       "A data.frame: 76 × 3\n",
       "\\begin{tabular}{lll}\n",
       " OTU & taxonomy & Species\\\\\n",
       " <chr> & <chr> & <chr>\\\\\n",
       "\\hline\n",
       "\t 2edacf1c89218ce10512cfc2db8a6fab & Archaea;Euryarchaeota;Methanobacteria;Methanobacteriales;Methanobacteriaceae;uncultured                                                                                                                                & NA\\\\\n",
       "\t e6ddd5efa2e9229aa04f33e832450fa8 & Archaea;Nanoarchaeaeota;Woesearchaeia;Candidatus Staskawiczbacteria bacterium RIFOXYA2\\_FULL\\_32\\_7;Candidatus Staskawiczbacteria bacterium RIFOXYA2\\_FULL\\_32\\_7;Candidatus Staskawiczbacteria bacterium RIFOXYA2\\_FULL\\_32\\_7 & NA\\\\\n",
       "\t ⋮ & ⋮ & ⋮\\\\\n",
       "\t 793e282cf98413345fffa5c8f9572be3 & Archaea;Euryarchaeota;Methanobacteria;Methanobacteriales;Methanobacteriaceae;Methanobacterium & NA\\\\\n",
       "\t 188795b8eb1edbd3334be2676ca05391 & Archaea;Euryarchaeota;Methanobacteria;Methanobacteriales;Methanobacteriaceae;unclassified     & NA\\\\\n",
       "\\end{tabular}\n"
      ],
      "text/markdown": [
       "\n",
       "A data.frame: 76 × 3\n",
       "\n",
       "| OTU &lt;chr&gt; | taxonomy &lt;chr&gt; | Species &lt;chr&gt; |\n",
       "|---|---|---|\n",
       "| 2edacf1c89218ce10512cfc2db8a6fab | Archaea;Euryarchaeota;Methanobacteria;Methanobacteriales;Methanobacteriaceae;uncultured                                                                                                                                | NA |\n",
       "| e6ddd5efa2e9229aa04f33e832450fa8 | Archaea;Nanoarchaeaeota;Woesearchaeia;Candidatus Staskawiczbacteria bacterium RIFOXYA2_FULL_32_7;Candidatus Staskawiczbacteria bacterium RIFOXYA2_FULL_32_7;Candidatus Staskawiczbacteria bacterium RIFOXYA2_FULL_32_7 | NA |\n",
       "| ⋮ | ⋮ | ⋮ |\n",
       "| 793e282cf98413345fffa5c8f9572be3 | Archaea;Euryarchaeota;Methanobacteria;Methanobacteriales;Methanobacteriaceae;Methanobacterium | NA |\n",
       "| 188795b8eb1edbd3334be2676ca05391 | Archaea;Euryarchaeota;Methanobacteria;Methanobacteriales;Methanobacteriaceae;unclassified     | NA |\n",
       "\n"
      ],
      "text/plain": [
       "   OTU                             \n",
       "1  2edacf1c89218ce10512cfc2db8a6fab\n",
       "2  e6ddd5efa2e9229aa04f33e832450fa8\n",
       "⋮  ⋮                               \n",
       "75 793e282cf98413345fffa5c8f9572be3\n",
       "76 188795b8eb1edbd3334be2676ca05391\n",
       "   taxonomy                                                                                                                                                                                                              \n",
       "1  Archaea;Euryarchaeota;Methanobacteria;Methanobacteriales;Methanobacteriaceae;uncultured                                                                                                                               \n",
       "2  Archaea;Nanoarchaeaeota;Woesearchaeia;Candidatus Staskawiczbacteria bacterium RIFOXYA2_FULL_32_7;Candidatus Staskawiczbacteria bacterium RIFOXYA2_FULL_32_7;Candidatus Staskawiczbacteria bacterium RIFOXYA2_FULL_32_7\n",
       "⋮  ⋮                                                                                                                                                                                                                     \n",
       "75 Archaea;Euryarchaeota;Methanobacteria;Methanobacteriales;Methanobacteriaceae;Methanobacterium                                                                                                                         \n",
       "76 Archaea;Euryarchaeota;Methanobacteria;Methanobacteriales;Methanobacteriaceae;unclassified                                                                                                                             \n",
       "   Species\n",
       "1  NA     \n",
       "2  NA     \n",
       "⋮  ⋮      \n",
       "75 NA     \n",
       "76 NA     "
      ]
     },
     "metadata": {},
     "output_type": "display_data"
    }
   ],
   "source": [
    "# converting taxonomy\n",
    "tmp = physeq %>% phyloseq2df(tax_table)\n",
    "tmp = cbind(tmp %>% dplyr::select(OTU),\n",
    "            tmp %>% dplyr::select(-OTU))\n",
    "tmp = tmp %>%\n",
    "    unite(taxonomy, Domain, Phylum, Class, Order, Family, Genus, sep=';') %>%\n",
    "    mutate(taxonomy = gsub(';+$','', taxonomy))\n",
    "tmp"
   ]
  },
  {
   "cell_type": "code",
   "execution_count": 16,
   "metadata": {
    "ExecuteTime": {
     "end_time": "2020-08-28T11:44:49.084697Z",
     "start_time": "2020-08-28T11:44:49.022Z"
    }
   },
   "outputs": [
    {
     "name": "stdout",
     "output_type": "stream",
     "text": [
      "File written: /ebio/abt3_projects/Georg_animal_feces/data/16S_arch/MiSeq-Runs-116-122-126-189-190/LLA/arch-bac/diversity-qiime2_arc//qiime2_files/physeq_tax-table_genus.tsv \n"
     ]
    }
   ],
   "source": [
    "# writing out table\n",
    "tax_table_file = file.path(tmp_dir, 'physeq_tax-table_genus.tsv')\n",
    "write.table(tmp, tax_table_file, sep='\\t', quote=FALSE, row.names=FALSE, col.names=FALSE)\n",
    "cat('File written:', tax_table_file, '\\n')"
   ]
  },
  {
   "cell_type": "code",
   "execution_count": 17,
   "metadata": {
    "ExecuteTime": {
     "end_time": "2020-08-28T11:45:02.572306Z",
     "start_time": "2020-08-28T11:44:50.037Z"
    }
   },
   "outputs": [
    {
     "name": "stdout",
     "output_type": "stream",
     "text": [
      "[1] \"qiime tools import --type FeatureData[Taxonomy] --input-format HeaderlessTSVTaxonomyFormat --input-path /ebio/abt3_projects/Georg_animal_feces/data/16S_arch/MiSeq-Runs-116-122-126-189-190/LLA/arch-bac/diversity-qiime2_arc//qiime2_files/physeq_tax-table_genus.tsv --output-path /ebio/abt3_projects/Georg_animal_feces/data/16S_arch/MiSeq-Runs-116-122-126-189-190/LLA/arch-bac/diversity-qiime2_arc//qiime2_files/physeq_tax_genus.qza\"\n",
      "Imported /ebio/abt3_projects/Georg_animal_feces/data/16S_arch/MiSeq-Runs-116-122-126-189-190/LLA/arch-bac/diversity-qiime2_arc//qiime2_files/physeq_tax-table_genus.tsv as HeaderlessTSVTaxonomyFormat to /ebio/abt3_projects/Georg_animal_feces/data/16S_arch/MiSeq-Runs-116-122-126-189-190/LLA/arch-bac/diversity-qiime2_arc//qiime2_files/physeq_tax_genus.qza"
     ]
    },
    {
     "data": {
      "text/plain": [
       "NULL"
      ]
     },
     "metadata": {},
     "output_type": "display_data"
    }
   ],
   "source": [
    "# converting tsv to artifact\n",
    "tax_art_file = file.path(tmp_dir, 'physeq_tax_genus.qza')\n",
    "cmd = sprintf('qiime tools import --type FeatureData[Taxonomy] --input-format HeaderlessTSVTaxonomyFormat --input-path %s --output-path %s', \n",
    "              tax_table_file, tax_art_file)\n",
    "print(cmd)\n",
    "bash_job(cmd, conda_env)"
   ]
  },
  {
   "cell_type": "markdown",
   "metadata": {},
   "source": [
    "## Phylogeny"
   ]
  },
  {
   "cell_type": "code",
   "execution_count": 18,
   "metadata": {
    "ExecuteTime": {
     "end_time": "2020-08-28T11:45:02.612252Z",
     "start_time": "2020-08-28T11:44:54.173Z"
    }
   },
   "outputs": [
    {
     "name": "stdout",
     "output_type": "stream",
     "text": [
      "File written: /ebio/abt3_projects/Georg_animal_feces/data/16S_arch/MiSeq-Runs-116-122-126-189-190/LLA/arch-bac/diversity-qiime2_arc//qiime2_files/physeq_16S_genus.nwk \n"
     ]
    }
   ],
   "source": [
    "tree_file = file.path(tmp_dir, 'physeq_16S_genus.nwk')\n",
    "write.tree(physeq %>% phy_tree, tree_file)\n",
    "cat('File written:', tree_file, '\\n')"
   ]
  },
  {
   "cell_type": "code",
   "execution_count": 19,
   "metadata": {
    "ExecuteTime": {
     "end_time": "2020-08-28T11:45:14.820600Z",
     "start_time": "2020-08-28T11:44:56.254Z"
    }
   },
   "outputs": [
    {
     "name": "stdout",
     "output_type": "stream",
     "text": [
      "[1] \"qiime tools import --type Phylogeny[Rooted] --input-path /ebio/abt3_projects/Georg_animal_feces/data/16S_arch/MiSeq-Runs-116-122-126-189-190/LLA/arch-bac/diversity-qiime2_arc//qiime2_files/physeq_16S_genus.nwk --output-path /ebio/abt3_projects/Georg_animal_feces/data/16S_arch/MiSeq-Runs-116-122-126-189-190/LLA/arch-bac/diversity-qiime2_arc//qiime2_files/physeq_16Stree_genus.qza\"\n",
      "Imported /ebio/abt3_projects/Georg_animal_feces/data/16S_arch/MiSeq-Runs-116-122-126-189-190/LLA/arch-bac/diversity-qiime2_arc//qiime2_files/physeq_16S_genus.nwk as NewickDirectoryFormat to /ebio/abt3_projects/Georg_animal_feces/data/16S_arch/MiSeq-Runs-116-122-126-189-190/LLA/arch-bac/diversity-qiime2_arc//qiime2_files/physeq_16Stree_genus.qza"
     ]
    },
    {
     "data": {
      "text/plain": [
       "NULL"
      ]
     },
     "metadata": {},
     "output_type": "display_data"
    }
   ],
   "source": [
    "# convert to artifact\n",
    "tree_art_file = file.path(tmp_dir, 'physeq_16Stree_genus.qza')\n",
    "cmd = sprintf('qiime tools import --type Phylogeny[Rooted] --input-path %s --output-path %s', \n",
    "              tree_file, tree_art_file)\n",
    "print(cmd)\n",
    "bash_job(cmd, conda_env)"
   ]
  },
  {
   "cell_type": "markdown",
   "metadata": {},
   "source": [
    "# Calculating diversity"
   ]
  },
  {
   "cell_type": "code",
   "execution_count": 20,
   "metadata": {
    "ExecuteTime": {
     "end_time": "2020-08-28T11:45:40.401522Z",
     "start_time": "2020-08-28T11:45:04.413Z"
    }
   },
   "outputs": [
    {
     "name": "stdout",
     "output_type": "stream",
     "text": [
      "qiime diversity core-metrics-phylogenetic \\\n",
      "  --i-phylogeny /ebio/abt3_projects/Georg_animal_feces/data/16S_arch/MiSeq-Runs-116-122-126-189-190/LLA/arch-bac/diversity-qiime2_arc//qiime2_files/physeq_16Stree_genus.qza \\\n",
      "  --i-table /ebio/abt3_projects/Georg_animal_feces/data/16S_arch/MiSeq-Runs-116-122-126-189-190/LLA/arch-bac/diversity-qiime2_arc//qiime2_files/physeq_otu_genus.qza \\\n",
      "  --m-metadata-file /ebio/abt3_projects/Georg_animal_feces/data/16S_arch/MiSeq-Runs-116-122-126-189-190/LLA/arch-bac/diversity-qiime2_arc//qiime2_files/physeq_sample-data.tsv \\\n",
      "  --output-dir /ebio/abt3_projects/Georg_animal_feces/data/16S_arch/MiSeq-Runs-116-122-126-189-190/LLA/arch-bac/diversity-qiime2_arc//qiime2_files/core_metrics_phylo_genus \\\n",
      "  --p-sampling-depth 250 \\\n",
      "  2> /ebio/abt3_projects/Georg_animal_feces/data/16S_arch/MiSeq-Runs-116-122-126-189-190/LLA/arch-bac/diversity-qiime2_arc//qiime2_files/core-metrics-phylo_genus.log 1>&2"
     ]
    },
    {
     "data": {
      "text/plain": [
       "NULL"
      ]
     },
     "metadata": {},
     "output_type": "display_data"
    }
   ],
   "source": [
    "# core-metrics: phylogenetic diversity function\n",
    "\n",
    "## output \n",
    "core_metrics_phylo_dir = file.path(tmp_dir, 'core_metrics_phylo_genus')\n",
    "unlink(core_metrics_phylo_dir, recursive=TRUE)\n",
    "log_file = file.path(tmp_dir, 'core-metrics-phylo_genus.log')\n",
    "\n",
    "\n",
    "## command\n",
    "cmd = \"qiime diversity core-metrics-phylogenetic \\\\\n",
    "  --i-phylogeny %s \\\\\n",
    "  --i-table %s \\\\\n",
    "  --m-metadata-file %s \\\\\n",
    "  --output-dir %s \\\\\n",
    "  --p-sampling-depth %s \\\\\n",
    "  2> %s 1>&2\"\n",
    "\n",
    "cmd = sprintf(cmd,\n",
    "              tree_art_file,\n",
    "              otu_art_file, \n",
    "              sample_data_file, \n",
    "              core_metrics_phylo_dir,\n",
    "              250, log_file)\n",
    "\n",
    "## run\n",
    "cat(cmd)\n",
    "bash_job(cmd, conda_env)"
   ]
  },
  {
   "cell_type": "markdown",
   "metadata": {},
   "source": [
    "# Converting to R objects"
   ]
  },
  {
   "cell_type": "markdown",
   "metadata": {},
   "source": [
    "## alpha-diversity"
   ]
  },
  {
   "cell_type": "code",
   "execution_count": 21,
   "metadata": {
    "ExecuteTime": {
     "end_time": "2020-08-28T11:45:40.435811Z",
     "start_time": "2020-08-28T11:45:06.996Z"
    }
   },
   "outputs": [
    {
     "data": {
      "text/html": [
       "<style>\n",
       ".list-inline {list-style: none; margin:0; padding: 0}\n",
       ".list-inline>li {display: inline-block}\n",
       ".list-inline>li:not(:last-child)::after {content: \"\\00b7\"; padding: 0 .5ex}\n",
       "</style>\n",
       "<ol class=list-inline><li>'/ebio/abt3_projects/Georg_animal_feces/data/16S_arch/MiSeq-Runs-116-122-126-189-190/LLA/arch-bac/diversity-qiime2_arc//qiime2_files/core_metrics_phylo_genus/evenness_vector.qza'</li><li>'/ebio/abt3_projects/Georg_animal_feces/data/16S_arch/MiSeq-Runs-116-122-126-189-190/LLA/arch-bac/diversity-qiime2_arc//qiime2_files/core_metrics_phylo_genus/faith_pd_vector.qza'</li><li>'/ebio/abt3_projects/Georg_animal_feces/data/16S_arch/MiSeq-Runs-116-122-126-189-190/LLA/arch-bac/diversity-qiime2_arc//qiime2_files/core_metrics_phylo_genus/observed_otus_vector.qza'</li><li>'/ebio/abt3_projects/Georg_animal_feces/data/16S_arch/MiSeq-Runs-116-122-126-189-190/LLA/arch-bac/diversity-qiime2_arc//qiime2_files/core_metrics_phylo_genus/shannon_vector.qza'</li></ol>\n"
      ],
      "text/latex": [
       "\\begin{enumerate*}\n",
       "\\item '/ebio/abt3\\_projects/Georg\\_animal\\_feces/data/16S\\_arch/MiSeq-Runs-116-122-126-189-190/LLA/arch-bac/diversity-qiime2\\_arc//qiime2\\_files/core\\_metrics\\_phylo\\_genus/evenness\\_vector.qza'\n",
       "\\item '/ebio/abt3\\_projects/Georg\\_animal\\_feces/data/16S\\_arch/MiSeq-Runs-116-122-126-189-190/LLA/arch-bac/diversity-qiime2\\_arc//qiime2\\_files/core\\_metrics\\_phylo\\_genus/faith\\_pd\\_vector.qza'\n",
       "\\item '/ebio/abt3\\_projects/Georg\\_animal\\_feces/data/16S\\_arch/MiSeq-Runs-116-122-126-189-190/LLA/arch-bac/diversity-qiime2\\_arc//qiime2\\_files/core\\_metrics\\_phylo\\_genus/observed\\_otus\\_vector.qza'\n",
       "\\item '/ebio/abt3\\_projects/Georg\\_animal\\_feces/data/16S\\_arch/MiSeq-Runs-116-122-126-189-190/LLA/arch-bac/diversity-qiime2\\_arc//qiime2\\_files/core\\_metrics\\_phylo\\_genus/shannon\\_vector.qza'\n",
       "\\end{enumerate*}\n"
      ],
      "text/markdown": [
       "1. '/ebio/abt3_projects/Georg_animal_feces/data/16S_arch/MiSeq-Runs-116-122-126-189-190/LLA/arch-bac/diversity-qiime2_arc//qiime2_files/core_metrics_phylo_genus/evenness_vector.qza'\n",
       "2. '/ebio/abt3_projects/Georg_animal_feces/data/16S_arch/MiSeq-Runs-116-122-126-189-190/LLA/arch-bac/diversity-qiime2_arc//qiime2_files/core_metrics_phylo_genus/faith_pd_vector.qza'\n",
       "3. '/ebio/abt3_projects/Georg_animal_feces/data/16S_arch/MiSeq-Runs-116-122-126-189-190/LLA/arch-bac/diversity-qiime2_arc//qiime2_files/core_metrics_phylo_genus/observed_otus_vector.qza'\n",
       "4. '/ebio/abt3_projects/Georg_animal_feces/data/16S_arch/MiSeq-Runs-116-122-126-189-190/LLA/arch-bac/diversity-qiime2_arc//qiime2_files/core_metrics_phylo_genus/shannon_vector.qza'\n",
       "\n",
       "\n"
      ],
      "text/plain": [
       "[1] \"/ebio/abt3_projects/Georg_animal_feces/data/16S_arch/MiSeq-Runs-116-122-126-189-190/LLA/arch-bac/diversity-qiime2_arc//qiime2_files/core_metrics_phylo_genus/evenness_vector.qza\"     \n",
       "[2] \"/ebio/abt3_projects/Georg_animal_feces/data/16S_arch/MiSeq-Runs-116-122-126-189-190/LLA/arch-bac/diversity-qiime2_arc//qiime2_files/core_metrics_phylo_genus/faith_pd_vector.qza\"     \n",
       "[3] \"/ebio/abt3_projects/Georg_animal_feces/data/16S_arch/MiSeq-Runs-116-122-126-189-190/LLA/arch-bac/diversity-qiime2_arc//qiime2_files/core_metrics_phylo_genus/observed_otus_vector.qza\"\n",
       "[4] \"/ebio/abt3_projects/Georg_animal_feces/data/16S_arch/MiSeq-Runs-116-122-126-189-190/LLA/arch-bac/diversity-qiime2_arc//qiime2_files/core_metrics_phylo_genus/shannon_vector.qza\"      "
      ]
     },
     "metadata": {},
     "output_type": "display_data"
    }
   ],
   "source": [
    "# phylo vectors\n",
    "files = list.files(core_metrics_phylo_dir, pattern='*_vector.qza', full.names=TRUE)\n",
    "files"
   ]
  },
  {
   "cell_type": "code",
   "execution_count": 23,
   "metadata": {
    "ExecuteTime": {
     "end_time": "2020-08-28T11:47:26.764566Z",
     "start_time": "2020-08-28T11:46:36.478Z"
    }
   },
   "outputs": [
    {
     "name": "stdout",
     "output_type": "stream",
     "text": [
      "qiime tools export --output-path /ebio/abt3_projects/Georg_animal_feces/data/16S_arch/MiSeq-Runs-116-122-126-189-190/LLA/arch-bac/diversity-qiime2_arc//qiime2_files/core_metrics_phylo_genus --input-path /ebio/abt3_projects/Georg_animal_feces/data/16S_arch/MiSeq-Runs-116-122-126-189-190/LLA/arch-bac/diversity-qiime2_arc//qiime2_files/core_metrics_phylo_genus/evenness_vector.qza \n",
      "Exported /ebio/abt3_projects/Georg_animal_feces/data/16S_arch/MiSeq-Runs-116-122-126-189-190/LLA/arch-bac/diversity-qiime2_arc//qiime2_files/core_metrics_phylo_genus/evenness_vector.qza as AlphaDiversityDirectoryFormat to directory /ebio/abt3_projects/Georg_animal_feces/data/16S_arch/MiSeq-Runs-116-122-126-189-190/LLA/arch-bac/diversity-qiime2_arc//qiime2_files/core_metrics_phylo_genus\n",
      "File written: /ebio/abt3_projects/Georg_animal_feces/data/16S_arch/MiSeq-Runs-116-122-126-189-190/LLA/arch-bac/diversity-qiime2_arc//evenness_genus.RDS \n",
      "\n",
      "qiime tools export --output-path /ebio/abt3_projects/Georg_animal_feces/data/16S_arch/MiSeq-Runs-116-122-126-189-190/LLA/arch-bac/diversity-qiime2_arc//qiime2_files/core_metrics_phylo_genus --input-path /ebio/abt3_projects/Georg_animal_feces/data/16S_arch/MiSeq-Runs-116-122-126-189-190/LLA/arch-bac/diversity-qiime2_arc//qiime2_files/core_metrics_phylo_genus/faith_pd_vector.qza \n",
      "Exported /ebio/abt3_projects/Georg_animal_feces/data/16S_arch/MiSeq-Runs-116-122-126-189-190/LLA/arch-bac/diversity-qiime2_arc//qiime2_files/core_metrics_phylo_genus/faith_pd_vector.qza as AlphaDiversityDirectoryFormat to directory /ebio/abt3_projects/Georg_animal_feces/data/16S_arch/MiSeq-Runs-116-122-126-189-190/LLA/arch-bac/diversity-qiime2_arc//qiime2_files/core_metrics_phylo_genus\n",
      "File written: /ebio/abt3_projects/Georg_animal_feces/data/16S_arch/MiSeq-Runs-116-122-126-189-190/LLA/arch-bac/diversity-qiime2_arc//faith_pd_genus.RDS \n",
      "\n",
      "qiime tools export --output-path /ebio/abt3_projects/Georg_animal_feces/data/16S_arch/MiSeq-Runs-116-122-126-189-190/LLA/arch-bac/diversity-qiime2_arc//qiime2_files/core_metrics_phylo_genus --input-path /ebio/abt3_projects/Georg_animal_feces/data/16S_arch/MiSeq-Runs-116-122-126-189-190/LLA/arch-bac/diversity-qiime2_arc//qiime2_files/core_metrics_phylo_genus/observed_otus_vector.qza \n",
      "Exported /ebio/abt3_projects/Georg_animal_feces/data/16S_arch/MiSeq-Runs-116-122-126-189-190/LLA/arch-bac/diversity-qiime2_arc//qiime2_files/core_metrics_phylo_genus/observed_otus_vector.qza as AlphaDiversityDirectoryFormat to directory /ebio/abt3_projects/Georg_animal_feces/data/16S_arch/MiSeq-Runs-116-122-126-189-190/LLA/arch-bac/diversity-qiime2_arc//qiime2_files/core_metrics_phylo_genus\n",
      "File written: /ebio/abt3_projects/Georg_animal_feces/data/16S_arch/MiSeq-Runs-116-122-126-189-190/LLA/arch-bac/diversity-qiime2_arc//observed_otus_genus.RDS \n",
      "\n",
      "qiime tools export --output-path /ebio/abt3_projects/Georg_animal_feces/data/16S_arch/MiSeq-Runs-116-122-126-189-190/LLA/arch-bac/diversity-qiime2_arc//qiime2_files/core_metrics_phylo_genus --input-path /ebio/abt3_projects/Georg_animal_feces/data/16S_arch/MiSeq-Runs-116-122-126-189-190/LLA/arch-bac/diversity-qiime2_arc//qiime2_files/core_metrics_phylo_genus/shannon_vector.qza \n",
      "Exported /ebio/abt3_projects/Georg_animal_feces/data/16S_arch/MiSeq-Runs-116-122-126-189-190/LLA/arch-bac/diversity-qiime2_arc//qiime2_files/core_metrics_phylo_genus/shannon_vector.qza as AlphaDiversityDirectoryFormat to directory /ebio/abt3_projects/Georg_animal_feces/data/16S_arch/MiSeq-Runs-116-122-126-189-190/LLA/arch-bac/diversity-qiime2_arc//qiime2_files/core_metrics_phylo_genus\n",
      "File written: /ebio/abt3_projects/Georg_animal_feces/data/16S_arch/MiSeq-Runs-116-122-126-189-190/LLA/arch-bac/diversity-qiime2_arc//shannon_genus.RDS \n",
      "\n"
     ]
    }
   ],
   "source": [
    "# phylo vectors\n",
    "cmd = \"qiime tools export --output-path %s --input-path %s\"\n",
    "\n",
    "for(f in files){\n",
    "    # export qza to tsv\n",
    "    cmd_tmp = sprintf(cmd, core_metrics_phylo_dir, f)\n",
    "    cat(cmd_tmp, '\\n')\n",
    "    bash_job(cmd_tmp, conda_env)    \n",
    "          \n",
    "    # convert tsv to data.frame RDS\n",
    "    exported_file = file.path(core_metrics_phylo_dir, 'alpha-diversity.tsv')\n",
    "    df = read.delim(exported_file, sep='\\t', row.names=1)\n",
    "    final_file = gsub('_vector.+', '_genus.RDS', f)\n",
    "    final_file = file.path(work_dir, basename(final_file))\n",
    "    saveRDS(df, final_file)\n",
    "    cat('\\nFile written:', final_file, '\\n\\n')\n",
    "}"
   ]
  },
  {
   "cell_type": "markdown",
   "metadata": {},
   "source": [
    "### Compiling into a list"
   ]
  },
  {
   "cell_type": "code",
   "execution_count": 24,
   "metadata": {
    "ExecuteTime": {
     "end_time": "2020-08-28T11:47:26.839629Z",
     "start_time": "2020-08-28T11:46:47.563Z"
    }
   },
   "outputs": [
    {
     "name": "stdout",
     "output_type": "stream",
     "text": [
      "File written: /ebio/abt3_projects/Georg_animal_feces/data/16S_arch/MiSeq-Runs-116-122-126-189-190/LLA/arch-bac/diversity-qiime2_arc//alpha_div_genus.RDS \n"
     ]
    }
   ],
   "source": [
    "alpha_div = list(\n",
    "   'evenness' = 'evenness_genus.RDS',\n",
    "   'observed' = 'observed_otus_genus.RDS',\n",
    "   'shannon' = 'shannon_genus.RDS',\n",
    "   'faith_pd' = 'faith_pd_genus.RDS'\n",
    ")\n",
    "\n",
    "alpha_div_rds = list()\n",
    "for(n in names(alpha_div)){\n",
    "    x = readRDS(file.path(work_dir, alpha_div[[n]]))\n",
    "    alpha_div_rds[[n]] = x\n",
    "}\n",
    "\n",
    "alpha_div_rds_file = file.path(work_dir, 'alpha_div_genus.RDS')\n",
    "saveRDS(alpha_div_rds, alpha_div_rds_file)\n",
    "cat('File written:', alpha_div_rds_file, '\\n')"
   ]
  },
  {
   "cell_type": "code",
   "execution_count": 34,
   "metadata": {
    "ExecuteTime": {
     "end_time": "2020-08-28T14:14:49.853420Z",
     "start_time": "2020-08-28T14:14:49.692Z"
    }
   },
   "outputs": [
    {
     "data": {
      "text/html": [
       "<dl>\n",
       "\t<dt>$evenness</dt>\n",
       "\t\t<dd><style>\n",
       ".list-inline {list-style: none; margin:0; padding: 0}\n",
       ".list-inline>li {display: inline-block}\n",
       ".list-inline>li:not(:last-child)::after {content: \"\\00b7\"; padding: 0 .5ex}\n",
       "</style>\n",
       "<ol class=list-inline><li>140</li><li>1</li></ol>\n",
       "</dd>\n",
       "\t<dt>$observed</dt>\n",
       "\t\t<dd><style>\n",
       ".list-inline {list-style: none; margin:0; padding: 0}\n",
       ".list-inline>li {display: inline-block}\n",
       ".list-inline>li:not(:last-child)::after {content: \"\\00b7\"; padding: 0 .5ex}\n",
       "</style>\n",
       "<ol class=list-inline><li>140</li><li>1</li></ol>\n",
       "</dd>\n",
       "\t<dt>$shannon</dt>\n",
       "\t\t<dd><style>\n",
       ".list-inline {list-style: none; margin:0; padding: 0}\n",
       ".list-inline>li {display: inline-block}\n",
       ".list-inline>li:not(:last-child)::after {content: \"\\00b7\"; padding: 0 .5ex}\n",
       "</style>\n",
       "<ol class=list-inline><li>140</li><li>1</li></ol>\n",
       "</dd>\n",
       "\t<dt>$faith_pd</dt>\n",
       "\t\t<dd><style>\n",
       ".list-inline {list-style: none; margin:0; padding: 0}\n",
       ".list-inline>li {display: inline-block}\n",
       ".list-inline>li:not(:last-child)::after {content: \"\\00b7\"; padding: 0 .5ex}\n",
       "</style>\n",
       "<ol class=list-inline><li>140</li><li>1</li></ol>\n",
       "</dd>\n",
       "</dl>\n"
      ],
      "text/latex": [
       "\\begin{description}\n",
       "\\item[\\$evenness] \\begin{enumerate*}\n",
       "\\item 140\n",
       "\\item 1\n",
       "\\end{enumerate*}\n",
       "\n",
       "\\item[\\$observed] \\begin{enumerate*}\n",
       "\\item 140\n",
       "\\item 1\n",
       "\\end{enumerate*}\n",
       "\n",
       "\\item[\\$shannon] \\begin{enumerate*}\n",
       "\\item 140\n",
       "\\item 1\n",
       "\\end{enumerate*}\n",
       "\n",
       "\\item[\\$faith\\_pd] \\begin{enumerate*}\n",
       "\\item 140\n",
       "\\item 1\n",
       "\\end{enumerate*}\n",
       "\n",
       "\\end{description}\n"
      ],
      "text/markdown": [
       "$evenness\n",
       ":   1. 140\n",
       "2. 1\n",
       "\n",
       "\n",
       "\n",
       "$observed\n",
       ":   1. 140\n",
       "2. 1\n",
       "\n",
       "\n",
       "\n",
       "$shannon\n",
       ":   1. 140\n",
       "2. 1\n",
       "\n",
       "\n",
       "\n",
       "$faith_pd\n",
       ":   1. 140\n",
       "2. 1\n",
       "\n",
       "\n",
       "\n",
       "\n",
       "\n"
      ],
      "text/plain": [
       "$evenness\n",
       "[1] 140   1\n",
       "\n",
       "$observed\n",
       "[1] 140   1\n",
       "\n",
       "$shannon\n",
       "[1] 140   1\n",
       "\n",
       "$faith_pd\n",
       "[1] 140   1\n"
      ]
     },
     "metadata": {},
     "output_type": "display_data"
    }
   ],
   "source": [
    "# checking dimensions\n",
    "alpha_div_rds %>%\n",
    "    lapply(function(x) dim(as.matrix(x)))"
   ]
  },
  {
   "cell_type": "markdown",
   "metadata": {},
   "source": [
    "## beta diversity"
   ]
  },
  {
   "cell_type": "code",
   "execution_count": 25,
   "metadata": {
    "ExecuteTime": {
     "end_time": "2020-08-28T11:47:26.870540Z",
     "start_time": "2020-08-28T11:46:50.066Z"
    }
   },
   "outputs": [
    {
     "data": {
      "text/html": [
       "<style>\n",
       ".list-inline {list-style: none; margin:0; padding: 0}\n",
       ".list-inline>li {display: inline-block}\n",
       ".list-inline>li:not(:last-child)::after {content: \"\\00b7\"; padding: 0 .5ex}\n",
       "</style>\n",
       "<ol class=list-inline><li>'/ebio/abt3_projects/Georg_animal_feces/data/16S_arch/MiSeq-Runs-116-122-126-189-190/LLA/arch-bac/diversity-qiime2_arc//qiime2_files/core_metrics_phylo_genus/bray_curtis_distance_matrix.qza'</li><li>'/ebio/abt3_projects/Georg_animal_feces/data/16S_arch/MiSeq-Runs-116-122-126-189-190/LLA/arch-bac/diversity-qiime2_arc//qiime2_files/core_metrics_phylo_genus/jaccard_distance_matrix.qza'</li><li>'/ebio/abt3_projects/Georg_animal_feces/data/16S_arch/MiSeq-Runs-116-122-126-189-190/LLA/arch-bac/diversity-qiime2_arc//qiime2_files/core_metrics_phylo_genus/unweighted_unifrac_distance_matrix.qza'</li><li>'/ebio/abt3_projects/Georg_animal_feces/data/16S_arch/MiSeq-Runs-116-122-126-189-190/LLA/arch-bac/diversity-qiime2_arc//qiime2_files/core_metrics_phylo_genus/weighted_unifrac_distance_matrix.qza'</li></ol>\n"
      ],
      "text/latex": [
       "\\begin{enumerate*}\n",
       "\\item '/ebio/abt3\\_projects/Georg\\_animal\\_feces/data/16S\\_arch/MiSeq-Runs-116-122-126-189-190/LLA/arch-bac/diversity-qiime2\\_arc//qiime2\\_files/core\\_metrics\\_phylo\\_genus/bray\\_curtis\\_distance\\_matrix.qza'\n",
       "\\item '/ebio/abt3\\_projects/Georg\\_animal\\_feces/data/16S\\_arch/MiSeq-Runs-116-122-126-189-190/LLA/arch-bac/diversity-qiime2\\_arc//qiime2\\_files/core\\_metrics\\_phylo\\_genus/jaccard\\_distance\\_matrix.qza'\n",
       "\\item '/ebio/abt3\\_projects/Georg\\_animal\\_feces/data/16S\\_arch/MiSeq-Runs-116-122-126-189-190/LLA/arch-bac/diversity-qiime2\\_arc//qiime2\\_files/core\\_metrics\\_phylo\\_genus/unweighted\\_unifrac\\_distance\\_matrix.qza'\n",
       "\\item '/ebio/abt3\\_projects/Georg\\_animal\\_feces/data/16S\\_arch/MiSeq-Runs-116-122-126-189-190/LLA/arch-bac/diversity-qiime2\\_arc//qiime2\\_files/core\\_metrics\\_phylo\\_genus/weighted\\_unifrac\\_distance\\_matrix.qza'\n",
       "\\end{enumerate*}\n"
      ],
      "text/markdown": [
       "1. '/ebio/abt3_projects/Georg_animal_feces/data/16S_arch/MiSeq-Runs-116-122-126-189-190/LLA/arch-bac/diversity-qiime2_arc//qiime2_files/core_metrics_phylo_genus/bray_curtis_distance_matrix.qza'\n",
       "2. '/ebio/abt3_projects/Georg_animal_feces/data/16S_arch/MiSeq-Runs-116-122-126-189-190/LLA/arch-bac/diversity-qiime2_arc//qiime2_files/core_metrics_phylo_genus/jaccard_distance_matrix.qza'\n",
       "3. '/ebio/abt3_projects/Georg_animal_feces/data/16S_arch/MiSeq-Runs-116-122-126-189-190/LLA/arch-bac/diversity-qiime2_arc//qiime2_files/core_metrics_phylo_genus/unweighted_unifrac_distance_matrix.qza'\n",
       "4. '/ebio/abt3_projects/Georg_animal_feces/data/16S_arch/MiSeq-Runs-116-122-126-189-190/LLA/arch-bac/diversity-qiime2_arc//qiime2_files/core_metrics_phylo_genus/weighted_unifrac_distance_matrix.qza'\n",
       "\n",
       "\n"
      ],
      "text/plain": [
       "[1] \"/ebio/abt3_projects/Georg_animal_feces/data/16S_arch/MiSeq-Runs-116-122-126-189-190/LLA/arch-bac/diversity-qiime2_arc//qiime2_files/core_metrics_phylo_genus/bray_curtis_distance_matrix.qza\"       \n",
       "[2] \"/ebio/abt3_projects/Georg_animal_feces/data/16S_arch/MiSeq-Runs-116-122-126-189-190/LLA/arch-bac/diversity-qiime2_arc//qiime2_files/core_metrics_phylo_genus/jaccard_distance_matrix.qza\"           \n",
       "[3] \"/ebio/abt3_projects/Georg_animal_feces/data/16S_arch/MiSeq-Runs-116-122-126-189-190/LLA/arch-bac/diversity-qiime2_arc//qiime2_files/core_metrics_phylo_genus/unweighted_unifrac_distance_matrix.qza\"\n",
       "[4] \"/ebio/abt3_projects/Georg_animal_feces/data/16S_arch/MiSeq-Runs-116-122-126-189-190/LLA/arch-bac/diversity-qiime2_arc//qiime2_files/core_metrics_phylo_genus/weighted_unifrac_distance_matrix.qza\"  "
      ]
     },
     "metadata": {},
     "output_type": "display_data"
    }
   ],
   "source": [
    "# phylo distance matrices\n",
    "files = list.files(core_metrics_phylo_dir, pattern='*matrix.qza', full.names=TRUE)\n",
    "files"
   ]
  },
  {
   "cell_type": "code",
   "execution_count": 26,
   "metadata": {
    "ExecuteTime": {
     "end_time": "2020-08-28T11:48:14.979455Z",
     "start_time": "2020-08-28T11:46:51.882Z"
    }
   },
   "outputs": [
    {
     "name": "stdout",
     "output_type": "stream",
     "text": [
      "qiime tools export --output-path /ebio/abt3_projects/Georg_animal_feces/data/16S_arch/MiSeq-Runs-116-122-126-189-190/LLA/arch-bac/diversity-qiime2_arc//qiime2_files/core_metrics_phylo_genus --input-path /ebio/abt3_projects/Georg_animal_feces/data/16S_arch/MiSeq-Runs-116-122-126-189-190/LLA/arch-bac/diversity-qiime2_arc//qiime2_files/core_metrics_phylo_genus/bray_curtis_distance_matrix.qza \n",
      "Exported /ebio/abt3_projects/Georg_animal_feces/data/16S_arch/MiSeq-Runs-116-122-126-189-190/LLA/arch-bac/diversity-qiime2_arc//qiime2_files/core_metrics_phylo_genus/bray_curtis_distance_matrix.qza as DistanceMatrixDirectoryFormat to directory /ebio/abt3_projects/Georg_animal_feces/data/16S_arch/MiSeq-Runs-116-122-126-189-190/LLA/arch-bac/diversity-qiime2_arc//qiime2_files/core_metrics_phylo_genus\n",
      "File written: /ebio/abt3_projects/Georg_animal_feces/data/16S_arch/MiSeq-Runs-116-122-126-189-190/LLA/arch-bac/diversity-qiime2_arc//bray_curtis_genus.RDS \n",
      "\n",
      "qiime tools export --output-path /ebio/abt3_projects/Georg_animal_feces/data/16S_arch/MiSeq-Runs-116-122-126-189-190/LLA/arch-bac/diversity-qiime2_arc//qiime2_files/core_metrics_phylo_genus --input-path /ebio/abt3_projects/Georg_animal_feces/data/16S_arch/MiSeq-Runs-116-122-126-189-190/LLA/arch-bac/diversity-qiime2_arc//qiime2_files/core_metrics_phylo_genus/jaccard_distance_matrix.qza \n",
      "Exported /ebio/abt3_projects/Georg_animal_feces/data/16S_arch/MiSeq-Runs-116-122-126-189-190/LLA/arch-bac/diversity-qiime2_arc//qiime2_files/core_metrics_phylo_genus/jaccard_distance_matrix.qza as DistanceMatrixDirectoryFormat to directory /ebio/abt3_projects/Georg_animal_feces/data/16S_arch/MiSeq-Runs-116-122-126-189-190/LLA/arch-bac/diversity-qiime2_arc//qiime2_files/core_metrics_phylo_genus\n",
      "File written: /ebio/abt3_projects/Georg_animal_feces/data/16S_arch/MiSeq-Runs-116-122-126-189-190/LLA/arch-bac/diversity-qiime2_arc//jaccard_genus.RDS \n",
      "\n",
      "qiime tools export --output-path /ebio/abt3_projects/Georg_animal_feces/data/16S_arch/MiSeq-Runs-116-122-126-189-190/LLA/arch-bac/diversity-qiime2_arc//qiime2_files/core_metrics_phylo_genus --input-path /ebio/abt3_projects/Georg_animal_feces/data/16S_arch/MiSeq-Runs-116-122-126-189-190/LLA/arch-bac/diversity-qiime2_arc//qiime2_files/core_metrics_phylo_genus/unweighted_unifrac_distance_matrix.qza \n",
      "Exported /ebio/abt3_projects/Georg_animal_feces/data/16S_arch/MiSeq-Runs-116-122-126-189-190/LLA/arch-bac/diversity-qiime2_arc//qiime2_files/core_metrics_phylo_genus/unweighted_unifrac_distance_matrix.qza as DistanceMatrixDirectoryFormat to directory /ebio/abt3_projects/Georg_animal_feces/data/16S_arch/MiSeq-Runs-116-122-126-189-190/LLA/arch-bac/diversity-qiime2_arc//qiime2_files/core_metrics_phylo_genus\n",
      "File written: /ebio/abt3_projects/Georg_animal_feces/data/16S_arch/MiSeq-Runs-116-122-126-189-190/LLA/arch-bac/diversity-qiime2_arc//unweighted_unifrac_genus.RDS \n",
      "\n",
      "qiime tools export --output-path /ebio/abt3_projects/Georg_animal_feces/data/16S_arch/MiSeq-Runs-116-122-126-189-190/LLA/arch-bac/diversity-qiime2_arc//qiime2_files/core_metrics_phylo_genus --input-path /ebio/abt3_projects/Georg_animal_feces/data/16S_arch/MiSeq-Runs-116-122-126-189-190/LLA/arch-bac/diversity-qiime2_arc//qiime2_files/core_metrics_phylo_genus/weighted_unifrac_distance_matrix.qza \n",
      "Exported /ebio/abt3_projects/Georg_animal_feces/data/16S_arch/MiSeq-Runs-116-122-126-189-190/LLA/arch-bac/diversity-qiime2_arc//qiime2_files/core_metrics_phylo_genus/weighted_unifrac_distance_matrix.qza as DistanceMatrixDirectoryFormat to directory /ebio/abt3_projects/Georg_animal_feces/data/16S_arch/MiSeq-Runs-116-122-126-189-190/LLA/arch-bac/diversity-qiime2_arc//qiime2_files/core_metrics_phylo_genus\n",
      "File written: /ebio/abt3_projects/Georg_animal_feces/data/16S_arch/MiSeq-Runs-116-122-126-189-190/LLA/arch-bac/diversity-qiime2_arc//weighted_unifrac_genus.RDS \n",
      "\n"
     ]
    }
   ],
   "source": [
    "# phylo distance matrices\n",
    "cmd = \"qiime tools export --output-path %s --input-path %s\"\n",
    "\n",
    "for(f in files){\n",
    "    # export qza to tsv\n",
    "    cmd_tmp = sprintf(cmd, core_metrics_phylo_dir, f)\n",
    "    cat(cmd_tmp, '\\n')\n",
    "    bash_job(cmd_tmp, conda_env)    \n",
    "          \n",
    "    # convert tsv to data.frame RDS\n",
    "    exported_file = file.path(core_metrics_phylo_dir, 'distance-matrix.tsv')\n",
    "    d = read.delim(exported_file, sep='\\t', row.names=1) %>% as.dist\n",
    "    final_file = gsub('_distance_matrix.+', '_genus.RDS', f)\n",
    "    final_file = file.path(work_dir, basename(final_file))\n",
    "    saveRDS(d, final_file)\n",
    "    cat('\\nFile written:', final_file, '\\n\\n')\n",
    "}"
   ]
  },
  {
   "cell_type": "markdown",
   "metadata": {},
   "source": [
    "### Compiling into a list"
   ]
  },
  {
   "cell_type": "code",
   "execution_count": 27,
   "metadata": {
    "ExecuteTime": {
     "end_time": "2020-08-28T11:48:15.055740Z",
     "start_time": "2020-08-28T11:46:53.282Z"
    }
   },
   "outputs": [
    {
     "name": "stdout",
     "output_type": "stream",
     "text": [
      "File written: /ebio/abt3_projects/Georg_animal_feces/data/16S_arch/MiSeq-Runs-116-122-126-189-190/LLA/arch-bac/diversity-qiime2_arc//beta_div_genus.RDS \n"
     ]
    }
   ],
   "source": [
    "beta_div = list(\n",
    "   'bray_curtis' = 'bray_curtis_genus.RDS',\n",
    "   'jaccard' = 'jaccard_genus.RDS',\n",
    "   'unweighted_unifrac' = 'unweighted_unifrac_genus.RDS',\n",
    "   'weighted_unifrac' = 'weighted_unifrac_genus.RDS'\n",
    ")\n",
    "\n",
    "beta_div_rds = list()\n",
    "for(n in names(beta_div)){\n",
    "    x = readRDS(file.path(work_dir, beta_div[[n]]))\n",
    "    beta_div_rds[[n]] = x\n",
    "}\n",
    "\n",
    "beta_div_rds_file = file.path(work_dir, 'beta_div_genus.RDS')\n",
    "saveRDS(beta_div_rds, beta_div_rds_file)\n",
    "cat('File written:', beta_div_rds_file, '\\n')"
   ]
  },
  {
   "cell_type": "code",
   "execution_count": 33,
   "metadata": {
    "ExecuteTime": {
     "end_time": "2020-08-28T14:11:57.696768Z",
     "start_time": "2020-08-28T14:11:57.508Z"
    }
   },
   "outputs": [
    {
     "data": {
      "text/html": [
       "<dl>\n",
       "\t<dt>$bray_curtis</dt>\n",
       "\t\t<dd><style>\n",
       ".list-inline {list-style: none; margin:0; padding: 0}\n",
       ".list-inline>li {display: inline-block}\n",
       ".list-inline>li:not(:last-child)::after {content: \"\\00b7\"; padding: 0 .5ex}\n",
       "</style>\n",
       "<ol class=list-inline><li>140</li><li>140</li></ol>\n",
       "</dd>\n",
       "\t<dt>$jaccard</dt>\n",
       "\t\t<dd><style>\n",
       ".list-inline {list-style: none; margin:0; padding: 0}\n",
       ".list-inline>li {display: inline-block}\n",
       ".list-inline>li:not(:last-child)::after {content: \"\\00b7\"; padding: 0 .5ex}\n",
       "</style>\n",
       "<ol class=list-inline><li>140</li><li>140</li></ol>\n",
       "</dd>\n",
       "\t<dt>$unweighted_unifrac</dt>\n",
       "\t\t<dd><style>\n",
       ".list-inline {list-style: none; margin:0; padding: 0}\n",
       ".list-inline>li {display: inline-block}\n",
       ".list-inline>li:not(:last-child)::after {content: \"\\00b7\"; padding: 0 .5ex}\n",
       "</style>\n",
       "<ol class=list-inline><li>140</li><li>140</li></ol>\n",
       "</dd>\n",
       "\t<dt>$weighted_unifrac</dt>\n",
       "\t\t<dd><style>\n",
       ".list-inline {list-style: none; margin:0; padding: 0}\n",
       ".list-inline>li {display: inline-block}\n",
       ".list-inline>li:not(:last-child)::after {content: \"\\00b7\"; padding: 0 .5ex}\n",
       "</style>\n",
       "<ol class=list-inline><li>140</li><li>140</li></ol>\n",
       "</dd>\n",
       "</dl>\n"
      ],
      "text/latex": [
       "\\begin{description}\n",
       "\\item[\\$bray\\_curtis] \\begin{enumerate*}\n",
       "\\item 140\n",
       "\\item 140\n",
       "\\end{enumerate*}\n",
       "\n",
       "\\item[\\$jaccard] \\begin{enumerate*}\n",
       "\\item 140\n",
       "\\item 140\n",
       "\\end{enumerate*}\n",
       "\n",
       "\\item[\\$unweighted\\_unifrac] \\begin{enumerate*}\n",
       "\\item 140\n",
       "\\item 140\n",
       "\\end{enumerate*}\n",
       "\n",
       "\\item[\\$weighted\\_unifrac] \\begin{enumerate*}\n",
       "\\item 140\n",
       "\\item 140\n",
       "\\end{enumerate*}\n",
       "\n",
       "\\end{description}\n"
      ],
      "text/markdown": [
       "$bray_curtis\n",
       ":   1. 140\n",
       "2. 140\n",
       "\n",
       "\n",
       "\n",
       "$jaccard\n",
       ":   1. 140\n",
       "2. 140\n",
       "\n",
       "\n",
       "\n",
       "$unweighted_unifrac\n",
       ":   1. 140\n",
       "2. 140\n",
       "\n",
       "\n",
       "\n",
       "$weighted_unifrac\n",
       ":   1. 140\n",
       "2. 140\n",
       "\n",
       "\n",
       "\n",
       "\n",
       "\n"
      ],
      "text/plain": [
       "$bray_curtis\n",
       "[1] 140 140\n",
       "\n",
       "$jaccard\n",
       "[1] 140 140\n",
       "\n",
       "$unweighted_unifrac\n",
       "[1] 140 140\n",
       "\n",
       "$weighted_unifrac\n",
       "[1] 140 140\n"
      ]
     },
     "metadata": {},
     "output_type": "display_data"
    }
   ],
   "source": [
    "# checking dimensions\n",
    "beta_div_rds %>% \n",
    "    lapply(function(x) dim(as.matrix(x)))"
   ]
  },
  {
   "cell_type": "markdown",
   "metadata": {},
   "source": [
    "# Final files"
   ]
  },
  {
   "cell_type": "code",
   "execution_count": 28,
   "metadata": {
    "ExecuteTime": {
     "end_time": "2020-08-28T11:48:15.084182Z",
     "start_time": "2020-08-28T11:46:54.699Z"
    }
   },
   "outputs": [
    {
     "name": "stdout",
     "output_type": "stream",
     "text": [
      "[1] \"/ebio/abt3_projects/Georg_animal_feces/data/16S_arch/MiSeq-Runs-116-122-126-189-190/LLA/arch-bac/diversity-qiime2_arc//alpha_div_genus.RDS\"\n",
      "[1] \"/ebio/abt3_projects/Georg_animal_feces/data/16S_arch/MiSeq-Runs-116-122-126-189-190/LLA/arch-bac/diversity-qiime2_arc//beta_div_genus.RDS\"\n"
     ]
    }
   ],
   "source": [
    "print(alpha_div_rds_file)\n",
    "print(beta_div_rds_file)"
   ]
  },
  {
   "cell_type": "markdown",
   "metadata": {},
   "source": [
    "# sessionInfo"
   ]
  },
  {
   "cell_type": "code",
   "execution_count": 29,
   "metadata": {
    "ExecuteTime": {
     "end_time": "2020-08-28T11:48:15.177174Z",
     "start_time": "2020-08-28T11:46:55.436Z"
    }
   },
   "outputs": [
    {
     "data": {
      "text/plain": [
       "R version 3.6.3 (2020-02-29)\n",
       "Platform: x86_64-conda_cos6-linux-gnu (64-bit)\n",
       "Running under: Ubuntu 18.04.5 LTS\n",
       "\n",
       "Matrix products: default\n",
       "BLAS/LAPACK: /ebio/abt3_projects/Georg_animal_feces/envs/phyloseq/lib/libopenblasp-r0.3.9.so\n",
       "\n",
       "locale:\n",
       " [1] LC_CTYPE=en_US.UTF-8       LC_NUMERIC=C              \n",
       " [3] LC_TIME=en_US.UTF-8        LC_COLLATE=en_US.UTF-8    \n",
       " [5] LC_MONETARY=en_US.UTF-8    LC_MESSAGES=en_US.UTF-8   \n",
       " [7] LC_PAPER=en_US.UTF-8       LC_NAME=C                 \n",
       " [9] LC_ADDRESS=C               LC_TELEPHONE=C            \n",
       "[11] LC_MEASUREMENT=en_US.UTF-8 LC_IDENTIFICATION=C       \n",
       "\n",
       "attached base packages:\n",
       "[1] stats     graphics  grDevices utils     datasets  methods   base     \n",
       "\n",
       "other attached packages:\n",
       "[1] LeyLabRMisc_0.1.6 ape_5.4           phyloseq_1.30.0   ggplot2_3.3.1    \n",
       "[5] tidyr_1.1.0       dplyr_1.0.0      \n",
       "\n",
       "loaded via a namespace (and not attached):\n",
       " [1] Rcpp_1.0.4.6        lattice_0.20-41     Biostrings_2.54.0  \n",
       " [4] digest_0.6.25       foreach_1.5.0       IRdisplay_0.7.0    \n",
       " [7] R6_2.4.1            plyr_1.8.6          repr_1.1.0         \n",
       "[10] stats4_3.6.3        evaluate_0.14       pillar_1.4.4       \n",
       "[13] zlibbioc_1.32.0     rlang_0.4.6         uuid_0.1-4         \n",
       "[16] data.table_1.12.8   vegan_2.5-6         S4Vectors_0.24.0   \n",
       "[19] Matrix_1.2-18       splines_3.6.3       stringr_1.4.0      \n",
       "[22] igraph_1.2.5        munsell_0.5.0       compiler_3.6.3     \n",
       "[25] pkgconfig_2.0.3     BiocGenerics_0.32.0 base64enc_0.1-3    \n",
       "[28] multtest_2.42.0     mgcv_1.8-31         htmltools_0.4.0    \n",
       "[31] biomformat_1.14.0   tidyselect_1.1.0    tibble_3.0.1       \n",
       "[34] IRanges_2.20.0      codetools_0.2-16    permute_0.9-5      \n",
       "[37] crayon_1.3.4        withr_2.2.0         MASS_7.3-51.6      \n",
       "[40] grid_3.6.3          nlme_3.1-148        jsonlite_1.6.1     \n",
       "[43] gtable_0.3.0        lifecycle_0.2.0     magrittr_1.5       \n",
       "[46] scales_1.1.1        stringi_1.4.6       XVector_0.26.0     \n",
       "[49] reshape2_1.4.4      ellipsis_0.3.1      generics_0.0.2     \n",
       "[52] vctrs_0.3.0         IRkernel_1.1        Rhdf5lib_1.8.0     \n",
       "[55] iterators_1.0.12    tools_3.6.3         ade4_1.7-15        \n",
       "[58] Biobase_2.46.0      glue_1.4.1          purrr_0.3.4        \n",
       "[61] parallel_3.6.3      survival_3.1-12     colorspace_1.4-1   \n",
       "[64] rhdf5_2.30.0        cluster_2.1.0       pbdZMQ_0.3-3       "
      ]
     },
     "metadata": {},
     "output_type": "display_data"
    }
   ],
   "source": [
    "sessionInfo()"
   ]
  },
  {
   "cell_type": "code",
   "execution_count": null,
   "metadata": {},
   "outputs": [],
   "source": []
  }
 ],
 "metadata": {
  "kernelspec": {
   "display_name": "R [conda env:Georg_animal_feces-phyloseq]",
   "language": "R",
   "name": "conda-env-Georg_animal_feces-phyloseq-r"
  },
  "language_info": {
   "codemirror_mode": "r",
   "file_extension": ".r",
   "mimetype": "text/x-r-source",
   "name": "R",
   "pygments_lexer": "r",
   "version": "3.6.3"
  },
  "notify_time": "30",
  "toc": {
   "base_numbering": 1,
   "nav_menu": {},
   "number_sections": true,
   "sideBar": true,
   "skip_h1_title": false,
   "title_cell": "Table of Contents",
   "title_sidebar": "Contents",
   "toc_cell": true,
   "toc_position": {},
   "toc_section_display": true,
   "toc_window_display": true
  }
 },
 "nbformat": 4,
 "nbformat_minor": 4
}
