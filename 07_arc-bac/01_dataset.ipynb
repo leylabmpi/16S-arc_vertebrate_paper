{
 "cells": [
  {
   "cell_type": "markdown",
   "metadata": {
    "toc": true
   },
   "source": [
    "<h1>Table of Contents<span class=\"tocSkip\"></span></h1>\n",
    "<div class=\"toc\"><ul class=\"toc-item\"><li><span><a href=\"#Goal\" data-toc-modified-id=\"Goal-1\"><span class=\"toc-item-num\">1&nbsp;&nbsp;</span>Goal</a></span></li><li><span><a href=\"#Var\" data-toc-modified-id=\"Var-2\"><span class=\"toc-item-num\">2&nbsp;&nbsp;</span>Var</a></span></li><li><span><a href=\"#Init\" data-toc-modified-id=\"Init-3\"><span class=\"toc-item-num\">3&nbsp;&nbsp;</span>Init</a></span></li><li><span><a href=\"#Load\" data-toc-modified-id=\"Load-4\"><span class=\"toc-item-num\">4&nbsp;&nbsp;</span>Load</a></span><ul class=\"toc-item\"><li><span><a href=\"#16S-arch\" data-toc-modified-id=\"16S-arch-4.1\"><span class=\"toc-item-num\">4.1&nbsp;&nbsp;</span>16S-arch</a></span></li><li><span><a href=\"#16S-uni\" data-toc-modified-id=\"16S-uni-4.2\"><span class=\"toc-item-num\">4.2&nbsp;&nbsp;</span>16S-uni</a></span><ul class=\"toc-item\"><li><span><a href=\"#Renaming-samples\" data-toc-modified-id=\"Renaming-samples-4.2.1\"><span class=\"toc-item-num\">4.2.1&nbsp;&nbsp;</span>Renaming samples</a></span></li></ul></li></ul></li><li><span><a href=\"#Rarefy\" data-toc-modified-id=\"Rarefy-5\"><span class=\"toc-item-num\">5&nbsp;&nbsp;</span>Rarefy</a></span></li><li><span><a href=\"#Format\" data-toc-modified-id=\"Format-6\"><span class=\"toc-item-num\">6&nbsp;&nbsp;</span>Format</a></span><ul class=\"toc-item\"><li><span><a href=\"#Checks\" data-toc-modified-id=\"Checks-6.1\"><span class=\"toc-item-num\">6.1&nbsp;&nbsp;</span>Checks</a></span></li></ul></li><li><span><a href=\"#Summary\" data-toc-modified-id=\"Summary-7\"><span class=\"toc-item-num\">7&nbsp;&nbsp;</span>Summary</a></span></li><li><span><a href=\"#Writing-output\" data-toc-modified-id=\"Writing-output-8\"><span class=\"toc-item-num\">8&nbsp;&nbsp;</span>Writing output</a></span></li><li><span><a href=\"#sessionInfo\" data-toc-modified-id=\"sessionInfo-9\"><span class=\"toc-item-num\">9&nbsp;&nbsp;</span>sessionInfo</a></span></li></ul></div>"
   ]
  },
  {
   "cell_type": "markdown",
   "metadata": {},
   "source": [
    "# Goal\n",
    "\n",
    "* Format the dataset\n",
    "  * Just overlapping samples between the 2 16S rRNA sequence datasets"
   ]
  },
  {
   "cell_type": "markdown",
   "metadata": {},
   "source": [
    "# Var"
   ]
  },
  {
   "cell_type": "code",
   "execution_count": 1,
   "metadata": {
    "ExecuteTime": {
     "end_time": "2020-07-17T13:48:13.181485Z",
     "start_time": "2020-07-17T13:48:12.142Z"
    }
   },
   "outputs": [],
   "source": [
    "work_dir = '/ebio/abt3_projects/Georg_animal_feces/data/16S_arch/MiSeq-Runs-116-122-126-189-190/LLA/arch-bac/'\n",
    "\n",
    "# 16S-arch phyloseq object\n",
    "physeq_arch_file = '/ebio/abt3_projects/Georg_animal_feces/data/16S_arch/MiSeq-Runs-116-122-126-189-190/LLA/merged/phyloseq/physeq_arch.RDS'\n",
    "\n",
    "# `Youngblut et al., 2019` phyloseq object (raw counts)\n",
    "physeq_uni_file = '/ebio/abt3_projects/Georg_animal_feces/data/16S/LLA/phyloseq/physeq.RDS'"
   ]
  },
  {
   "cell_type": "markdown",
   "metadata": {},
   "source": [
    "# Init"
   ]
  },
  {
   "cell_type": "code",
   "execution_count": 4,
   "metadata": {
    "ExecuteTime": {
     "end_time": "2020-07-17T13:48:19.314036Z",
     "start_time": "2020-07-17T13:48:15.966Z"
    }
   },
   "outputs": [],
   "source": [
    "library(dplyr)\n",
    "library(tidyr)\n",
    "library(ggplot2)\n",
    "\n",
    "library(phyloseq)\n",
    "\n",
    "library(LeyLabRMisc)"
   ]
  },
  {
   "cell_type": "code",
   "execution_count": 5,
   "metadata": {
    "ExecuteTime": {
     "end_time": "2020-07-17T13:48:19.336330Z",
     "start_time": "2020-07-17T13:48:16.133Z"
    }
   },
   "outputs": [
    {
     "name": "stdout",
     "output_type": "stream",
     "text": [
      "Directory already exists: /ebio/abt3_projects/Georg_animal_feces/data/16S_arch/MiSeq-Runs-116-122-126-189-190/LLA/arch-bac/ \n"
     ]
    }
   ],
   "source": [
    "df.dims()\n",
    "make_dir(work_dir)\n",
    "my_seed = 2341"
   ]
  },
  {
   "cell_type": "markdown",
   "metadata": {},
   "source": [
    "# Load"
   ]
  },
  {
   "cell_type": "markdown",
   "metadata": {},
   "source": [
    "## 16S-arch"
   ]
  },
  {
   "cell_type": "code",
   "execution_count": 6,
   "metadata": {
    "ExecuteTime": {
     "end_time": "2020-07-17T13:48:19.420635Z",
     "start_time": "2020-07-17T13:48:16.606Z"
    }
   },
   "outputs": [
    {
     "data": {
      "text/plain": [
       "phyloseq-class experiment-level object\n",
       "otu_table()   OTU Table:         [ 2091 taxa and 203 samples ]\n",
       "sample_data() Sample Data:       [ 203 samples by 74 sample variables ]\n",
       "tax_table()   Taxonomy Table:    [ 2091 taxa by 7 taxonomic ranks ]\n",
       "phy_tree()    Phylogenetic Tree: [ 2091 tips and 2088 internal nodes ]"
      ]
     },
     "metadata": {},
     "output_type": "display_data"
    }
   ],
   "source": [
    "physeq_arch = readRDS(physeq_arch_file)\n",
    "physeq_arch"
   ]
  },
  {
   "cell_type": "code",
   "execution_count": 7,
   "metadata": {
    "ExecuteTime": {
     "end_time": "2020-07-17T13:48:19.470637Z",
     "start_time": "2020-07-17T13:48:16.734Z"
    }
   },
   "outputs": [
    {
     "data": {
      "text/html": [
       "<table>\n",
       "<caption>A matrix: 1 × 8 of type dbl</caption>\n",
       "<thead>\n",
       "\t<tr><th></th><th scope=col>Min.</th><th scope=col>1st Qu.</th><th scope=col>Median</th><th scope=col>Mean</th><th scope=col>3rd Qu.</th><th scope=col>Max.</th><th scope=col>sd</th><th scope=col>sd_err_of_mean</th></tr>\n",
       "</thead>\n",
       "<tbody>\n",
       "\t<tr><th scope=row>.</th><td>251</td><td>756</td><td>1646</td><td>2516.133</td><td>3334</td><td>32294</td><td>12540.27</td><td>5119.543</td></tr>\n",
       "</tbody>\n",
       "</table>\n"
      ],
      "text/latex": [
       "A matrix: 1 × 8 of type dbl\n",
       "\\begin{tabular}{r|llllllll}\n",
       "  & Min. & 1st Qu. & Median & Mean & 3rd Qu. & Max. & sd & sd\\_err\\_of\\_mean\\\\\n",
       "\\hline\n",
       "\t. & 251 & 756 & 1646 & 2516.133 & 3334 & 32294 & 12540.27 & 5119.543\\\\\n",
       "\\end{tabular}\n"
      ],
      "text/markdown": [
       "\n",
       "A matrix: 1 × 8 of type dbl\n",
       "\n",
       "| <!--/--> | Min. | 1st Qu. | Median | Mean | 3rd Qu. | Max. | sd | sd_err_of_mean |\n",
       "|---|---|---|---|---|---|---|---|---|\n",
       "| . | 251 | 756 | 1646 | 2516.133 | 3334 | 32294 | 12540.27 | 5119.543 |\n",
       "\n"
      ],
      "text/plain": [
       "  Min. 1st Qu. Median Mean     3rd Qu. Max.  sd       sd_err_of_mean\n",
       ". 251  756     1646   2516.133 3334    32294 12540.27 5119.543      "
      ]
     },
     "metadata": {},
     "output_type": "display_data"
    }
   ],
   "source": [
    "physeq_arch %>% sample_sums %>% summary_x"
   ]
  },
  {
   "cell_type": "markdown",
   "metadata": {},
   "source": [
    "## 16S-uni"
   ]
  },
  {
   "cell_type": "code",
   "execution_count": 8,
   "metadata": {
    "ExecuteTime": {
     "end_time": "2020-07-17T13:48:20.748905Z",
     "start_time": "2020-07-17T13:48:16.989Z"
    }
   },
   "outputs": [
    {
     "data": {
      "text/plain": [
       "phyloseq-class experiment-level object\n",
       "otu_table()   OTU Table:         [ 39903 taxa and 273 samples ]\n",
       "sample_data() Sample Data:       [ 273 samples by 171 sample variables ]\n",
       "tax_table()   Taxonomy Table:    [ 39903 taxa by 7 taxonomic ranks ]\n",
       "phy_tree()    Phylogenetic Tree: [ 39903 tips and 39154 internal nodes ]"
      ]
     },
     "metadata": {},
     "output_type": "display_data"
    }
   ],
   "source": [
    "physeq_uni = readRDS(physeq_uni_file)\n",
    "physeq_uni"
   ]
  },
  {
   "cell_type": "code",
   "execution_count": 9,
   "metadata": {
    "ExecuteTime": {
     "end_time": "2020-07-17T13:48:20.788420Z",
     "start_time": "2020-07-17T13:48:17.126Z"
    }
   },
   "outputs": [
    {
     "data": {
      "text/html": [
       "<table>\n",
       "<caption>A matrix: 1 × 8 of type dbl</caption>\n",
       "<thead>\n",
       "\t<tr><th></th><th scope=col>Min.</th><th scope=col>1st Qu.</th><th scope=col>Median</th><th scope=col>Mean</th><th scope=col>3rd Qu.</th><th scope=col>Max.</th><th scope=col>sd</th><th scope=col>sd_err_of_mean</th></tr>\n",
       "</thead>\n",
       "<tbody>\n",
       "\t<tr><th scope=row>.</th><td>1</td><td>10952</td><td>61190</td><td>55449.34</td><td>79382</td><td>228007</td><td>82088.6</td><td>33512.53</td></tr>\n",
       "</tbody>\n",
       "</table>\n"
      ],
      "text/latex": [
       "A matrix: 1 × 8 of type dbl\n",
       "\\begin{tabular}{r|llllllll}\n",
       "  & Min. & 1st Qu. & Median & Mean & 3rd Qu. & Max. & sd & sd\\_err\\_of\\_mean\\\\\n",
       "\\hline\n",
       "\t. & 1 & 10952 & 61190 & 55449.34 & 79382 & 228007 & 82088.6 & 33512.53\\\\\n",
       "\\end{tabular}\n"
      ],
      "text/markdown": [
       "\n",
       "A matrix: 1 × 8 of type dbl\n",
       "\n",
       "| <!--/--> | Min. | 1st Qu. | Median | Mean | 3rd Qu. | Max. | sd | sd_err_of_mean |\n",
       "|---|---|---|---|---|---|---|---|---|\n",
       "| . | 1 | 10952 | 61190 | 55449.34 | 79382 | 228007 | 82088.6 | 33512.53 |\n",
       "\n"
      ],
      "text/plain": [
       "  Min. 1st Qu. Median Mean     3rd Qu. Max.   sd      sd_err_of_mean\n",
       ". 1    10952   61190  55449.34 79382   228007 82088.6 33512.53      "
      ]
     },
     "metadata": {},
     "output_type": "display_data"
    }
   ],
   "source": [
    "physeq_uni %>% sample_sums %>% summary_x"
   ]
  },
  {
   "cell_type": "markdown",
   "metadata": {},
   "source": [
    "### Renaming samples"
   ]
  },
  {
   "cell_type": "code",
   "execution_count": 10,
   "metadata": {
    "ExecuteTime": {
     "end_time": "2020-07-17T13:48:21.341849Z",
     "start_time": "2020-07-17T13:48:17.389Z"
    }
   },
   "outputs": [
    {
     "data": {
      "text/plain": [
       "phyloseq-class experiment-level object\n",
       "otu_table()   OTU Table:         [ 39903 taxa and 273 samples ]\n",
       "sample_data() Sample Data:       [ 273 samples by 171 sample variables ]\n",
       "tax_table()   Taxonomy Table:    [ 39903 taxa by 7 taxonomic ranks ]\n",
       "phy_tree()    Phylogenetic Tree: [ 39903 tips and 39154 internal nodes ]"
      ]
     },
     "metadata": {},
     "output_type": "display_data"
    }
   ],
   "source": [
    "sample_names(physeq_uni) =  physeq_uni %>% sample_names %>% gsub('\\\\.', '_', .)\n",
    "physeq_uni"
   ]
  },
  {
   "cell_type": "markdown",
   "metadata": {},
   "source": [
    "# Rarefy"
   ]
  },
  {
   "cell_type": "code",
   "execution_count": 11,
   "metadata": {
    "ExecuteTime": {
     "end_time": "2020-07-17T13:49:13.906877Z",
     "start_time": "2020-07-17T13:48:17.669Z"
    }
   },
   "outputs": [
    {
     "name": "stderr",
     "output_type": "stream",
     "text": [
      "`set.seed(2341)` was used to initialize repeatable random subsampling.\n",
      "\n",
      "Please record this for your records so others can reproduce.\n",
      "\n",
      "Try `set.seed(2341); .Random.seed` for the full vector\n",
      "\n",
      "...\n",
      "\n",
      "57 samples removedbecause they contained fewer reads than `sample.size`.\n",
      "\n",
      "Up to first five removed samples are: \n",
      "\n",
      "\n",
      "X104_European_RobinX112_Eurasian_SparrowhawkX113_Eurasian_WoodcockX121_Raccoon_DogX135_Horse\n",
      "\n",
      "...\n",
      "\n",
      "9295OTUs were removed because they are no longer \n",
      "present in any sample after random subsampling\n",
      "\n",
      "\n",
      "...\n",
      "\n"
     ]
    },
    {
     "data": {
      "text/plain": [
       "phyloseq-class experiment-level object\n",
       "otu_table()   OTU Table:         [ 30361 taxa and 216 samples ]\n",
       "sample_data() Sample Data:       [ 216 samples by 171 sample variables ]\n",
       "tax_table()   Taxonomy Table:    [ 30361 taxa by 7 taxonomic ranks ]\n",
       "phy_tree()    Phylogenetic Tree: [ 30361 tips and 29814 internal nodes ]"
      ]
     },
     "metadata": {},
     "output_type": "display_data"
    }
   ],
   "source": [
    "# universal; first filtering out archaea\n",
    "physeq_uni_f = physeq_uni %>%\n",
    "    subset_taxa(Domain=='Bacteria') %>%\n",
    "    rarefy_even_depth(sample.size=5000, replace=FALSE, rngseed=my_seed)\n",
    "physeq_uni_f"
   ]
  },
  {
   "cell_type": "code",
   "execution_count": 12,
   "metadata": {
    "ExecuteTime": {
     "end_time": "2020-07-17T13:49:16.133512Z",
     "start_time": "2020-07-17T13:48:17.800Z"
    }
   },
   "outputs": [
    {
     "name": "stderr",
     "output_type": "stream",
     "text": [
      "`set.seed(2341)` was used to initialize repeatable random subsampling.\n",
      "\n",
      "Please record this for your records so others can reproduce.\n",
      "\n",
      "Try `set.seed(2341); .Random.seed` for the full vector\n",
      "\n",
      "...\n",
      "\n",
      "691OTUs were removed because they are no longer \n",
      "present in any sample after random subsampling\n",
      "\n",
      "\n",
      "...\n",
      "\n"
     ]
    },
    {
     "data": {
      "text/plain": [
       "phyloseq-class experiment-level object\n",
       "otu_table()   OTU Table:         [ 1400 taxa and 203 samples ]\n",
       "sample_data() Sample Data:       [ 203 samples by 74 sample variables ]\n",
       "tax_table()   Taxonomy Table:    [ 1400 taxa by 7 taxonomic ranks ]\n",
       "phy_tree()    Phylogenetic Tree: [ 1400 tips and 1397 internal nodes ]"
      ]
     },
     "metadata": {},
     "output_type": "display_data"
    }
   ],
   "source": [
    "# universal\n",
    "physeq_arch_f = physeq_arch %>%\n",
    "    rarefy_even_depth(sample.size=250, replace=FALSE, rngseed=my_seed)\n",
    "physeq_arch_f"
   ]
  },
  {
   "cell_type": "markdown",
   "metadata": {},
   "source": [
    "# Format"
   ]
  },
  {
   "cell_type": "code",
   "execution_count": 13,
   "metadata": {
    "ExecuteTime": {
     "end_time": "2020-07-17T13:49:16.157507Z",
     "start_time": "2020-07-17T13:48:18.749Z"
    }
   },
   "outputs": [
    {
     "name": "stdout",
     "output_type": "stream",
     "text": [
      "intersect(x,y): 140 \n",
      "setdiff(x,y): 63 \n",
      "setdiff(y,x): 76 \n",
      "union(x,y): 279 \n"
     ]
    }
   ],
   "source": [
    "# overlapping samples\n",
    "overlap(physeq_arch_f %>% sample_names,\n",
    "        physeq_uni_f %>% sample_names) #%>% gsub('\\\\.', '_', .))"
   ]
  },
  {
   "cell_type": "code",
   "execution_count": 14,
   "metadata": {
    "ExecuteTime": {
     "end_time": "2020-07-17T13:49:16.270124Z",
     "start_time": "2020-07-17T13:48:18.917Z"
    }
   },
   "outputs": [
    {
     "data": {
      "text/html": [
       "<table>\n",
       "<caption>A data.frame: 20 × 3</caption>\n",
       "<thead>\n",
       "\t<tr><th></th><th scope=col>x</th><th scope=col>y</th><th scope=col>dist</th></tr>\n",
       "\t<tr><th></th><th scope=col>&lt;fct&gt;</th><th scope=col>&lt;fct&gt;</th><th scope=col>&lt;dbl&gt;</th></tr>\n",
       "</thead>\n",
       "<tbody>\n",
       "\t<tr><th scope=row>1329</th><td>X146_Cattle                  </td><td>X144_Cattle                  </td><td>1</td></tr>\n",
       "\t<tr><th scope=row>1385</th><td>X142_Cattle                  </td><td>X144_Cattle                  </td><td>1</td></tr>\n",
       "\t<tr><th scope=row>2998</th><td>X305_European_Hare           </td><td>X301_European_Hare           </td><td>1</td></tr>\n",
       "\t<tr><th scope=row>4019</th><td>X391_European_Ground_Squirrel</td><td>X390_European_Ground_Squirrel</td><td>1</td></tr>\n",
       "\t<tr><th scope=row>5283</th><td>X421_Common_Hippopotamus     </td><td>X422_Common_Hippopotamus     </td><td>1</td></tr>\n",
       "\t<tr><th scope=row>8664</th><td>X265_Western_Marsh_Harrier   </td><td>X266_Western_Marsh_Harrier   </td><td>1</td></tr>\n",
       "\t<tr><th scope=row>9487</th><td>X305_European_Hare           </td><td>X302_European_Hare           </td><td>1</td></tr>\n",
       "\t<tr><th scope=row>9550</th><td>X305_European_Hare           </td><td>X304_European_Hare           </td><td>1</td></tr>\n",
       "\t<tr><th scope=row>9613</th><td>X305_European_Hare           </td><td>X306_European_Hare           </td><td>1</td></tr>\n",
       "\t<tr><th scope=row>9676</th><td>X305_European_Hare           </td><td>X307_European_Hare           </td><td>1</td></tr>\n",
       "\t<tr><th scope=row>9866</th><td>X313_Red_Deer                </td><td>X315_Red_Deer                </td><td>1</td></tr>\n",
       "\t<tr><th scope=row>9867</th><td>X314_Red_Deer                </td><td>X315_Red_Deer                </td><td>1</td></tr>\n",
       "\t<tr><th scope=row>9868</th><td>X316_Red_Deer                </td><td>X315_Red_Deer                </td><td>1</td></tr>\n",
       "\t<tr><th scope=row>9869</th><td>X317_Red_Deer                </td><td>X315_Red_Deer                </td><td>1</td></tr>\n",
       "\t<tr><th scope=row>9870</th><td>X318_Red_Deer                </td><td>X315_Red_Deer                </td><td>1</td></tr>\n",
       "\t<tr><th scope=row>9871</th><td>X319_Red_Deer                </td><td>X315_Red_Deer                </td><td>1</td></tr>\n",
       "\t<tr><th scope=row>12791</th><td>F46_Red_Deer                 </td><td>F36_Red_Deer                 </td><td>1</td></tr>\n",
       "\t<tr><th scope=row>12980</th><td>F46_Red_Deer                 </td><td>F45_Red_Deer                 </td><td>1</td></tr>\n",
       "\t<tr><th scope=row>13043</th><td>F46_Red_Deer                 </td><td>F47_Red_Deer                 </td><td>1</td></tr>\n",
       "\t<tr><th scope=row>13106</th><td>F46_Red_Deer                 </td><td>F48_Red_Deer                 </td><td>1</td></tr>\n",
       "</tbody>\n",
       "</table>\n"
      ],
      "text/latex": [
       "A data.frame: 20 × 3\n",
       "\\begin{tabular}{r|lll}\n",
       "  & x & y & dist\\\\\n",
       "  & <fct> & <fct> & <dbl>\\\\\n",
       "\\hline\n",
       "\t1329 & X146\\_Cattle                   & X144\\_Cattle                   & 1\\\\\n",
       "\t1385 & X142\\_Cattle                   & X144\\_Cattle                   & 1\\\\\n",
       "\t2998 & X305\\_European\\_Hare            & X301\\_European\\_Hare            & 1\\\\\n",
       "\t4019 & X391\\_European\\_Ground\\_Squirrel & X390\\_European\\_Ground\\_Squirrel & 1\\\\\n",
       "\t5283 & X421\\_Common\\_Hippopotamus      & X422\\_Common\\_Hippopotamus      & 1\\\\\n",
       "\t8664 & X265\\_Western\\_Marsh\\_Harrier    & X266\\_Western\\_Marsh\\_Harrier    & 1\\\\\n",
       "\t9487 & X305\\_European\\_Hare            & X302\\_European\\_Hare            & 1\\\\\n",
       "\t9550 & X305\\_European\\_Hare            & X304\\_European\\_Hare            & 1\\\\\n",
       "\t9613 & X305\\_European\\_Hare            & X306\\_European\\_Hare            & 1\\\\\n",
       "\t9676 & X305\\_European\\_Hare            & X307\\_European\\_Hare            & 1\\\\\n",
       "\t9866 & X313\\_Red\\_Deer                 & X315\\_Red\\_Deer                 & 1\\\\\n",
       "\t9867 & X314\\_Red\\_Deer                 & X315\\_Red\\_Deer                 & 1\\\\\n",
       "\t9868 & X316\\_Red\\_Deer                 & X315\\_Red\\_Deer                 & 1\\\\\n",
       "\t9869 & X317\\_Red\\_Deer                 & X315\\_Red\\_Deer                 & 1\\\\\n",
       "\t9870 & X318\\_Red\\_Deer                 & X315\\_Red\\_Deer                 & 1\\\\\n",
       "\t9871 & X319\\_Red\\_Deer                 & X315\\_Red\\_Deer                 & 1\\\\\n",
       "\t12791 & F46\\_Red\\_Deer                  & F36\\_Red\\_Deer                  & 1\\\\\n",
       "\t12980 & F46\\_Red\\_Deer                  & F45\\_Red\\_Deer                  & 1\\\\\n",
       "\t13043 & F46\\_Red\\_Deer                  & F47\\_Red\\_Deer                  & 1\\\\\n",
       "\t13106 & F46\\_Red\\_Deer                  & F48\\_Red\\_Deer                  & 1\\\\\n",
       "\\end{tabular}\n"
      ],
      "text/markdown": [
       "\n",
       "A data.frame: 20 × 3\n",
       "\n",
       "| <!--/--> | x &lt;fct&gt; | y &lt;fct&gt; | dist &lt;dbl&gt; |\n",
       "|---|---|---|---|\n",
       "| 1329 | X146_Cattle                   | X144_Cattle                   | 1 |\n",
       "| 1385 | X142_Cattle                   | X144_Cattle                   | 1 |\n",
       "| 2998 | X305_European_Hare            | X301_European_Hare            | 1 |\n",
       "| 4019 | X391_European_Ground_Squirrel | X390_European_Ground_Squirrel | 1 |\n",
       "| 5283 | X421_Common_Hippopotamus      | X422_Common_Hippopotamus      | 1 |\n",
       "| 8664 | X265_Western_Marsh_Harrier    | X266_Western_Marsh_Harrier    | 1 |\n",
       "| 9487 | X305_European_Hare            | X302_European_Hare            | 1 |\n",
       "| 9550 | X305_European_Hare            | X304_European_Hare            | 1 |\n",
       "| 9613 | X305_European_Hare            | X306_European_Hare            | 1 |\n",
       "| 9676 | X305_European_Hare            | X307_European_Hare            | 1 |\n",
       "| 9866 | X313_Red_Deer                 | X315_Red_Deer                 | 1 |\n",
       "| 9867 | X314_Red_Deer                 | X315_Red_Deer                 | 1 |\n",
       "| 9868 | X316_Red_Deer                 | X315_Red_Deer                 | 1 |\n",
       "| 9869 | X317_Red_Deer                 | X315_Red_Deer                 | 1 |\n",
       "| 9870 | X318_Red_Deer                 | X315_Red_Deer                 | 1 |\n",
       "| 9871 | X319_Red_Deer                 | X315_Red_Deer                 | 1 |\n",
       "| 12791 | F46_Red_Deer                  | F36_Red_Deer                  | 1 |\n",
       "| 12980 | F46_Red_Deer                  | F45_Red_Deer                  | 1 |\n",
       "| 13043 | F46_Red_Deer                  | F47_Red_Deer                  | 1 |\n",
       "| 13106 | F46_Red_Deer                  | F48_Red_Deer                  | 1 |\n",
       "\n"
      ],
      "text/plain": [
       "      x                             y                             dist\n",
       "1329  X146_Cattle                   X144_Cattle                   1   \n",
       "1385  X142_Cattle                   X144_Cattle                   1   \n",
       "2998  X305_European_Hare            X301_European_Hare            1   \n",
       "4019  X391_European_Ground_Squirrel X390_European_Ground_Squirrel 1   \n",
       "5283  X421_Common_Hippopotamus      X422_Common_Hippopotamus      1   \n",
       "8664  X265_Western_Marsh_Harrier    X266_Western_Marsh_Harrier    1   \n",
       "9487  X305_European_Hare            X302_European_Hare            1   \n",
       "9550  X305_European_Hare            X304_European_Hare            1   \n",
       "9613  X305_European_Hare            X306_European_Hare            1   \n",
       "9676  X305_European_Hare            X307_European_Hare            1   \n",
       "9866  X313_Red_Deer                 X315_Red_Deer                 1   \n",
       "9867  X314_Red_Deer                 X315_Red_Deer                 1   \n",
       "9868  X316_Red_Deer                 X315_Red_Deer                 1   \n",
       "9869  X317_Red_Deer                 X315_Red_Deer                 1   \n",
       "9870  X318_Red_Deer                 X315_Red_Deer                 1   \n",
       "9871  X319_Red_Deer                 X315_Red_Deer                 1   \n",
       "12791 F46_Red_Deer                  F36_Red_Deer                  1   \n",
       "12980 F46_Red_Deer                  F45_Red_Deer                  1   \n",
       "13043 F46_Red_Deer                  F47_Red_Deer                  1   \n",
       "13106 F46_Red_Deer                  F48_Red_Deer                  1   "
      ]
     },
     "metadata": {},
     "output_type": "display_data"
    }
   ],
   "source": [
    "# missing any?\n",
    "df.dims(20)\n",
    "overlap(physeq_arch_f %>% sample_names,\n",
    "        physeq_uni_f %>% sample_names, #%>% gsub('\\\\.', '_', .),\n",
    "        to_return='diff_fuzzy')  %>%\n",
    "    head(n=20)\n",
    "df.dims()"
   ]
  },
  {
   "cell_type": "code",
   "execution_count": 15,
   "metadata": {
    "ExecuteTime": {
     "end_time": "2020-07-17T13:49:16.302626Z",
     "start_time": "2020-07-17T13:48:19.932Z"
    }
   },
   "outputs": [
    {
     "data": {
      "text/html": [
       "140"
      ],
      "text/latex": [
       "140"
      ],
      "text/markdown": [
       "140"
      ],
      "text/plain": [
       "[1] 140"
      ]
     },
     "metadata": {},
     "output_type": "display_data"
    }
   ],
   "source": [
    "# getting just overlap\n",
    "to_keep = overlap(physeq_arch_f %>% sample_names,\n",
    "                  physeq_uni_f %>% sample_names, # %>% gsub('\\\\.', '_', .),\n",
    "                  diff='int')  \n",
    "to_keep %>% length"
   ]
  },
  {
   "cell_type": "code",
   "execution_count": 16,
   "metadata": {
    "ExecuteTime": {
     "end_time": "2020-07-17T13:49:16.388869Z",
     "start_time": "2020-07-17T13:48:20.141Z"
    }
   },
   "outputs": [
    {
     "data": {
      "text/plain": [
       "phyloseq-class experiment-level object\n",
       "otu_table()   OTU Table:         [ 1400 taxa and 140 samples ]\n",
       "sample_data() Sample Data:       [ 140 samples by 74 sample variables ]\n",
       "tax_table()   Taxonomy Table:    [ 1400 taxa by 7 taxonomic ranks ]\n",
       "phy_tree()    Phylogenetic Tree: [ 1400 tips and 1397 internal nodes ]"
      ]
     },
     "metadata": {},
     "output_type": "display_data"
    }
   ],
   "source": [
    "# subset\n",
    "physeq_arch_ff = physeq_arch_f %>% prune_samples(to_keep, .)\n",
    "physeq_arch_ff"
   ]
  },
  {
   "cell_type": "code",
   "execution_count": 18,
   "metadata": {
    "ExecuteTime": {
     "end_time": "2020-07-17T13:49:37.756466Z",
     "start_time": "2020-07-17T13:49:37.604Z"
    }
   },
   "outputs": [
    {
     "data": {
      "text/plain": [
       "phyloseq-class experiment-level object\n",
       "otu_table()   OTU Table:         [ 30361 taxa and 140 samples ]\n",
       "sample_data() Sample Data:       [ 140 samples by 171 sample variables ]\n",
       "tax_table()   Taxonomy Table:    [ 30361 taxa by 7 taxonomic ranks ]\n",
       "phy_tree()    Phylogenetic Tree: [ 30361 tips and 29814 internal nodes ]"
      ]
     },
     "metadata": {},
     "output_type": "display_data"
    }
   ],
   "source": [
    "# subset\n",
    "physeq_uni_ff = physeq_uni_f %>% prune_samples(to_keep, .)\n",
    "physeq_uni_ff"
   ]
  },
  {
   "cell_type": "markdown",
   "metadata": {},
   "source": [
    "## Checks"
   ]
  },
  {
   "cell_type": "code",
   "execution_count": 19,
   "metadata": {
    "ExecuteTime": {
     "end_time": "2020-07-17T13:49:40.930781Z",
     "start_time": "2020-07-17T13:49:39.114Z"
    }
   },
   "outputs": [
    {
     "data": {
      "text/html": [
       "<table>\n",
       "<caption>A matrix: 1 × 8 of type dbl</caption>\n",
       "<thead>\n",
       "\t<tr><th></th><th scope=col>Min.</th><th scope=col>1st Qu.</th><th scope=col>Median</th><th scope=col>Mean</th><th scope=col>3rd Qu.</th><th scope=col>Max.</th><th scope=col>sd</th><th scope=col>sd_err_of_mean</th></tr>\n",
       "</thead>\n",
       "<tbody>\n",
       "\t<tr><th scope=row>.</th><td>250</td><td>250</td><td>250</td><td>250</td><td>250</td><td>250</td><td>0</td><td>0</td></tr>\n",
       "</tbody>\n",
       "</table>\n"
      ],
      "text/latex": [
       "A matrix: 1 × 8 of type dbl\n",
       "\\begin{tabular}{r|llllllll}\n",
       "  & Min. & 1st Qu. & Median & Mean & 3rd Qu. & Max. & sd & sd\\_err\\_of\\_mean\\\\\n",
       "\\hline\n",
       "\t. & 250 & 250 & 250 & 250 & 250 & 250 & 0 & 0\\\\\n",
       "\\end{tabular}\n"
      ],
      "text/markdown": [
       "\n",
       "A matrix: 1 × 8 of type dbl\n",
       "\n",
       "| <!--/--> | Min. | 1st Qu. | Median | Mean | 3rd Qu. | Max. | sd | sd_err_of_mean |\n",
       "|---|---|---|---|---|---|---|---|---|\n",
       "| . | 250 | 250 | 250 | 250 | 250 | 250 | 0 | 0 |\n",
       "\n"
      ],
      "text/plain": [
       "  Min. 1st Qu. Median Mean 3rd Qu. Max. sd sd_err_of_mean\n",
       ". 250  250     250    250  250     250  0  0             "
      ]
     },
     "metadata": {},
     "output_type": "display_data"
    }
   ],
   "source": [
    "physeq_arch_ff %>% sample_sums %>% summary_x"
   ]
  },
  {
   "cell_type": "code",
   "execution_count": 20,
   "metadata": {
    "ExecuteTime": {
     "end_time": "2020-07-17T13:49:41.002340Z",
     "start_time": "2020-07-17T13:49:39.722Z"
    }
   },
   "outputs": [
    {
     "data": {
      "text/html": [
       "<table>\n",
       "<caption>A matrix: 1 × 8 of type dbl</caption>\n",
       "<thead>\n",
       "\t<tr><th></th><th scope=col>Min.</th><th scope=col>1st Qu.</th><th scope=col>Median</th><th scope=col>Mean</th><th scope=col>3rd Qu.</th><th scope=col>Max.</th><th scope=col>sd</th><th scope=col>sd_err_of_mean</th></tr>\n",
       "</thead>\n",
       "<tbody>\n",
       "\t<tr><th scope=row>.</th><td>5000</td><td>5000</td><td>5000</td><td>5000</td><td>5000</td><td>5000</td><td>0</td><td>0</td></tr>\n",
       "</tbody>\n",
       "</table>\n"
      ],
      "text/latex": [
       "A matrix: 1 × 8 of type dbl\n",
       "\\begin{tabular}{r|llllllll}\n",
       "  & Min. & 1st Qu. & Median & Mean & 3rd Qu. & Max. & sd & sd\\_err\\_of\\_mean\\\\\n",
       "\\hline\n",
       "\t. & 5000 & 5000 & 5000 & 5000 & 5000 & 5000 & 0 & 0\\\\\n",
       "\\end{tabular}\n"
      ],
      "text/markdown": [
       "\n",
       "A matrix: 1 × 8 of type dbl\n",
       "\n",
       "| <!--/--> | Min. | 1st Qu. | Median | Mean | 3rd Qu. | Max. | sd | sd_err_of_mean |\n",
       "|---|---|---|---|---|---|---|---|---|\n",
       "| . | 5000 | 5000 | 5000 | 5000 | 5000 | 5000 | 0 | 0 |\n",
       "\n"
      ],
      "text/plain": [
       "  Min. 1st Qu. Median Mean 3rd Qu. Max. sd sd_err_of_mean\n",
       ". 5000 5000    5000   5000 5000    5000 0  0             "
      ]
     },
     "metadata": {},
     "output_type": "display_data"
    }
   ],
   "source": [
    "physeq_uni_ff %>% sample_sums %>% summary_x"
   ]
  },
  {
   "cell_type": "markdown",
   "metadata": {},
   "source": [
    "# Summary"
   ]
  },
  {
   "cell_type": "code",
   "execution_count": 21,
   "metadata": {
    "ExecuteTime": {
     "end_time": "2020-07-17T13:49:43.939644Z",
     "start_time": "2020-07-17T13:49:43.834Z"
    }
   },
   "outputs": [
    {
     "data": {
      "text/html": [
       "<table>\n",
       "<caption>A tibble: 140 × 74</caption>\n",
       "<thead>\n",
       "\t<tr><th scope=col>SampleID</th><th scope=col>host_subject_id</th><th scope=col>host_german_name</th><th scope=col>host_common_name</th><th scope=col>scientific_name</th><th scope=col>scientific_name_subspecies</th><th scope=col>host_taxid</th><th scope=col>class</th><th scope=col>order</th><th scope=col>family</th><th scope=col>⋯</th><th scope=col>season</th><th scope=col>samp_store_days</th><th scope=col>samp_collect_device</th><th scope=col>sampling_method</th><th scope=col>diet</th><th scope=col>feeding_style</th><th scope=col>digestive_system</th><th scope=col>digestive_system_detail</th><th scope=col>Sample</th><th scope=col>total_count</th></tr>\n",
       "\t<tr><th scope=col>&lt;chr&gt;</th><th scope=col>&lt;chr&gt;</th><th scope=col>&lt;chr&gt;</th><th scope=col>&lt;chr&gt;</th><th scope=col>&lt;chr&gt;</th><th scope=col>&lt;chr&gt;</th><th scope=col>&lt;chr&gt;</th><th scope=col>&lt;chr&gt;</th><th scope=col>&lt;chr&gt;</th><th scope=col>&lt;chr&gt;</th><th scope=col>⋯</th><th scope=col>&lt;chr&gt;</th><th scope=col>&lt;chr&gt;</th><th scope=col>&lt;chr&gt;</th><th scope=col>&lt;chr&gt;</th><th scope=col>&lt;chr&gt;</th><th scope=col>&lt;chr&gt;</th><th scope=col>&lt;chr&gt;</th><th scope=col>&lt;chr&gt;</th><th scope=col>&lt;chr&gt;</th><th scope=col>&lt;dbl&gt;</th></tr>\n",
       "</thead>\n",
       "<tbody>\n",
       "\t<tr><td>F35_Red_Deer</td><td>F35</td><td>Rothirsch</td><td>Red.Deer</td><td>Cervus_elaphus</td><td>NA</td><td>9860</td><td>Mammalia</td><td>Artiodactyla</td><td>Cervidae</td><td>⋯</td><td>autumn</td><td>229</td><td>Greiner Polystyrene 30ml Faeces Container</td><td>feces sampling</td><td>herbivore</td><td>intermediate type</td><td>foregut</td><td>foregut</td><td>F35_Red_Deer</td><td>1874</td></tr>\n",
       "\t<tr><td>F36_Red_Deer</td><td>F36</td><td>Rothirsch</td><td>Red.Deer</td><td>Cervus_elaphus</td><td>NA</td><td>9860</td><td>Mammalia</td><td>Artiodactyla</td><td>Cervidae</td><td>⋯</td><td>autumn</td><td>229</td><td>Greiner Polystyrene 30ml Faeces Container</td><td>feces sampling</td><td>herbivore</td><td>intermediate type</td><td>foregut</td><td>foregut</td><td>F36_Red_Deer</td><td>3369</td></tr>\n",
       "\t<tr><td>⋮</td><td>⋮</td><td>⋮</td><td>⋮</td><td>⋮</td><td>⋮</td><td>⋮</td><td>⋮</td><td>⋮</td><td>⋮</td><td>⋱</td><td>⋮</td><td>⋮</td><td>⋮</td><td>⋮</td><td>⋮</td><td>⋮</td><td>⋮</td><td>⋮</td><td>⋮</td><td>⋮</td></tr>\n",
       "\t<tr><td>X431_Quagga     </td><td>431</td><td>Steppenzebra</td><td>Quagga      </td><td>Equus_quagga       </td><td>NA</td><td>89252</td><td>Mammalia</td><td>Perissodactyla</td><td>Equidae </td><td>⋯</td><td>autumn</td><td>NA     </td><td>Screw cap vial</td><td>feces sampling</td><td>herbivore</td><td>NA                  </td><td>hindgut</td><td>colon  </td><td>X431_Quagga     </td><td>2433</td></tr>\n",
       "\t<tr><td>X67_European_Roe</td><td>67 </td><td>Reh         </td><td>European.Roe</td><td>Capreolus_capreolus</td><td>NA</td><td>9858 </td><td>Mammalia</td><td>Artiodactyla  </td><td>Cervidae</td><td>⋯</td><td>autumn</td><td>#VALUE!</td><td>Screw cap vial</td><td>feces sampling</td><td>herbivore</td><td>concentrate selector</td><td>foregut</td><td>foregut</td><td>X67_European_Roe</td><td> 721</td></tr>\n",
       "</tbody>\n",
       "</table>\n"
      ],
      "text/latex": [
       "A tibble: 140 × 74\n",
       "\\begin{tabular}{lllllllllllllllllllll}\n",
       " SampleID & host\\_subject\\_id & host\\_german\\_name & host\\_common\\_name & scientific\\_name & scientific\\_name\\_subspecies & host\\_taxid & class & order & family & ⋯ & season & samp\\_store\\_days & samp\\_collect\\_device & sampling\\_method & diet & feeding\\_style & digestive\\_system & digestive\\_system\\_detail & Sample & total\\_count\\\\\n",
       " <chr> & <chr> & <chr> & <chr> & <chr> & <chr> & <chr> & <chr> & <chr> & <chr> & ⋯ & <chr> & <chr> & <chr> & <chr> & <chr> & <chr> & <chr> & <chr> & <chr> & <dbl>\\\\\n",
       "\\hline\n",
       "\t F35\\_Red\\_Deer & F35 & Rothirsch & Red.Deer & Cervus\\_elaphus & NA & 9860 & Mammalia & Artiodactyla & Cervidae & ⋯ & autumn & 229 & Greiner Polystyrene 30ml Faeces Container & feces sampling & herbivore & intermediate type & foregut & foregut & F35\\_Red\\_Deer & 1874\\\\\n",
       "\t F36\\_Red\\_Deer & F36 & Rothirsch & Red.Deer & Cervus\\_elaphus & NA & 9860 & Mammalia & Artiodactyla & Cervidae & ⋯ & autumn & 229 & Greiner Polystyrene 30ml Faeces Container & feces sampling & herbivore & intermediate type & foregut & foregut & F36\\_Red\\_Deer & 3369\\\\\n",
       "\t ⋮ & ⋮ & ⋮ & ⋮ & ⋮ & ⋮ & ⋮ & ⋮ & ⋮ & ⋮ & ⋱ & ⋮ & ⋮ & ⋮ & ⋮ & ⋮ & ⋮ & ⋮ & ⋮ & ⋮ & ⋮\\\\\n",
       "\t X431\\_Quagga      & 431 & Steppenzebra & Quagga       & Equus\\_quagga        & NA & 89252 & Mammalia & Perissodactyla & Equidae  & ⋯ & autumn & NA      & Screw cap vial & feces sampling & herbivore & NA                   & hindgut & colon   & X431\\_Quagga      & 2433\\\\\n",
       "\t X67\\_European\\_Roe & 67  & Reh          & European.Roe & Capreolus\\_capreolus & NA & 9858  & Mammalia & Artiodactyla   & Cervidae & ⋯ & autumn & \\#VALUE! & Screw cap vial & feces sampling & herbivore & concentrate selector & foregut & foregut & X67\\_European\\_Roe &  721\\\\\n",
       "\\end{tabular}\n"
      ],
      "text/markdown": [
       "\n",
       "A tibble: 140 × 74\n",
       "\n",
       "| SampleID &lt;chr&gt; | host_subject_id &lt;chr&gt; | host_german_name &lt;chr&gt; | host_common_name &lt;chr&gt; | scientific_name &lt;chr&gt; | scientific_name_subspecies &lt;chr&gt; | host_taxid &lt;chr&gt; | class &lt;chr&gt; | order &lt;chr&gt; | family &lt;chr&gt; | ⋯ ⋯ | season &lt;chr&gt; | samp_store_days &lt;chr&gt; | samp_collect_device &lt;chr&gt; | sampling_method &lt;chr&gt; | diet &lt;chr&gt; | feeding_style &lt;chr&gt; | digestive_system &lt;chr&gt; | digestive_system_detail &lt;chr&gt; | Sample &lt;chr&gt; | total_count &lt;dbl&gt; |\n",
       "|---|---|---|---|---|---|---|---|---|---|---|---|---|---|---|---|---|---|---|---|---|\n",
       "| F35_Red_Deer | F35 | Rothirsch | Red.Deer | Cervus_elaphus | NA | 9860 | Mammalia | Artiodactyla | Cervidae | ⋯ | autumn | 229 | Greiner Polystyrene 30ml Faeces Container | feces sampling | herbivore | intermediate type | foregut | foregut | F35_Red_Deer | 1874 |\n",
       "| F36_Red_Deer | F36 | Rothirsch | Red.Deer | Cervus_elaphus | NA | 9860 | Mammalia | Artiodactyla | Cervidae | ⋯ | autumn | 229 | Greiner Polystyrene 30ml Faeces Container | feces sampling | herbivore | intermediate type | foregut | foregut | F36_Red_Deer | 3369 |\n",
       "| ⋮ | ⋮ | ⋮ | ⋮ | ⋮ | ⋮ | ⋮ | ⋮ | ⋮ | ⋮ | ⋱ | ⋮ | ⋮ | ⋮ | ⋮ | ⋮ | ⋮ | ⋮ | ⋮ | ⋮ | ⋮ |\n",
       "| X431_Quagga      | 431 | Steppenzebra | Quagga       | Equus_quagga        | NA | 89252 | Mammalia | Perissodactyla | Equidae  | ⋯ | autumn | NA      | Screw cap vial | feces sampling | herbivore | NA                   | hindgut | colon   | X431_Quagga      | 2433 |\n",
       "| X67_European_Roe | 67  | Reh          | European.Roe | Capreolus_capreolus | NA | 9858  | Mammalia | Artiodactyla   | Cervidae | ⋯ | autumn | #VALUE! | Screw cap vial | feces sampling | herbivore | concentrate selector | foregut | foregut | X67_European_Roe |  721 |\n",
       "\n"
      ],
      "text/plain": [
       "    SampleID         host_subject_id host_german_name host_common_name\n",
       "1   F35_Red_Deer     F35             Rothirsch        Red.Deer        \n",
       "2   F36_Red_Deer     F36             Rothirsch        Red.Deer        \n",
       "⋮   ⋮                ⋮               ⋮                ⋮               \n",
       "139 X431_Quagga      431             Steppenzebra     Quagga          \n",
       "140 X67_European_Roe 67              Reh              European.Roe    \n",
       "    scientific_name     scientific_name_subspecies host_taxid class   \n",
       "1   Cervus_elaphus      NA                         9860       Mammalia\n",
       "2   Cervus_elaphus      NA                         9860       Mammalia\n",
       "⋮   ⋮                   ⋮                          ⋮          ⋮       \n",
       "139 Equus_quagga        NA                         89252      Mammalia\n",
       "140 Capreolus_capreolus NA                         9858       Mammalia\n",
       "    order          family   ⋯ season samp_store_days\n",
       "1   Artiodactyla   Cervidae ⋯ autumn 229            \n",
       "2   Artiodactyla   Cervidae ⋯ autumn 229            \n",
       "⋮   ⋮              ⋮        ⋱ ⋮      ⋮              \n",
       "139 Perissodactyla Equidae  ⋯ autumn NA             \n",
       "140 Artiodactyla   Cervidae ⋯ autumn #VALUE!        \n",
       "    samp_collect_device                       sampling_method diet     \n",
       "1   Greiner Polystyrene 30ml Faeces Container feces sampling  herbivore\n",
       "2   Greiner Polystyrene 30ml Faeces Container feces sampling  herbivore\n",
       "⋮   ⋮                                         ⋮               ⋮        \n",
       "139 Screw cap vial                            feces sampling  herbivore\n",
       "140 Screw cap vial                            feces sampling  herbivore\n",
       "    feeding_style        digestive_system digestive_system_detail\n",
       "1   intermediate type    foregut          foregut                \n",
       "2   intermediate type    foregut          foregut                \n",
       "⋮   ⋮                    ⋮                ⋮                      \n",
       "139 NA                   hindgut          colon                  \n",
       "140 concentrate selector foregut          foregut                \n",
       "    Sample           total_count\n",
       "1   F35_Red_Deer     1874       \n",
       "2   F36_Red_Deer     3369       \n",
       "⋮   ⋮                ⋮          \n",
       "139 X431_Quagga      2433       \n",
       "140 X67_European_Roe  721       "
      ]
     },
     "metadata": {},
     "output_type": "display_data"
    }
   ],
   "source": [
    "# metadata\n",
    "meta = physeq_arch_ff %>%\n",
    "    phyloseq2df(sample_data)\n",
    "meta "
   ]
  },
  {
   "cell_type": "code",
   "execution_count": 22,
   "metadata": {
    "ExecuteTime": {
     "end_time": "2020-07-17T13:49:44.696704Z",
     "start_time": "2020-07-17T13:49:44.640Z"
    }
   },
   "outputs": [
    {
     "data": {
      "text/html": [
       "<table>\n",
       "<caption>A matrix: 1 × 8 of type dbl</caption>\n",
       "<thead>\n",
       "\t<tr><th></th><th scope=col>Min.</th><th scope=col>1st Qu.</th><th scope=col>Median</th><th scope=col>Mean</th><th scope=col>3rd Qu.</th><th scope=col>Max.</th><th scope=col>sd</th><th scope=col>sd_err_of_mean</th></tr>\n",
       "</thead>\n",
       "<tbody>\n",
       "\t<tr><th scope=row>.</th><td>1</td><td>1</td><td>1</td><td>1</td><td>1</td><td>1</td><td>0</td><td>0</td></tr>\n",
       "</tbody>\n",
       "</table>\n"
      ],
      "text/latex": [
       "A matrix: 1 × 8 of type dbl\n",
       "\\begin{tabular}{r|llllllll}\n",
       "  & Min. & 1st Qu. & Median & Mean & 3rd Qu. & Max. & sd & sd\\_err\\_of\\_mean\\\\\n",
       "\\hline\n",
       "\t. & 1 & 1 & 1 & 1 & 1 & 1 & 0 & 0\\\\\n",
       "\\end{tabular}\n"
      ],
      "text/markdown": [
       "\n",
       "A matrix: 1 × 8 of type dbl\n",
       "\n",
       "| <!--/--> | Min. | 1st Qu. | Median | Mean | 3rd Qu. | Max. | sd | sd_err_of_mean |\n",
       "|---|---|---|---|---|---|---|---|---|\n",
       "| . | 1 | 1 | 1 | 1 | 1 | 1 | 0 | 0 |\n",
       "\n"
      ],
      "text/plain": [
       "  Min. 1st Qu. Median Mean 3rd Qu. Max. sd sd_err_of_mean\n",
       ". 1    1       1      1    1       1    0  0             "
      ]
     },
     "metadata": {},
     "output_type": "display_data"
    }
   ],
   "source": [
    "# samples per individual\n",
    "meta %>%\n",
    "    group_by(host_subject_id) %>%\n",
    "    summarize(n = n(), .groups='drop') %>%\n",
    "    .$n %>% summary_x"
   ]
  },
  {
   "cell_type": "code",
   "execution_count": 23,
   "metadata": {
    "ExecuteTime": {
     "end_time": "2020-07-17T13:49:45.154585Z",
     "start_time": "2020-07-17T13:49:45.112Z"
    }
   },
   "outputs": [
    {
     "data": {
      "text/html": [
       "<table>\n",
       "<caption>A matrix: 1 × 8 of type dbl</caption>\n",
       "<thead>\n",
       "\t<tr><th></th><th scope=col>Min.</th><th scope=col>1st Qu.</th><th scope=col>Median</th><th scope=col>Mean</th><th scope=col>3rd Qu.</th><th scope=col>Max.</th><th scope=col>sd</th><th scope=col>sd_err_of_mean</th></tr>\n",
       "</thead>\n",
       "<tbody>\n",
       "\t<tr><th scope=row>.</th><td>1</td><td>1</td><td>1</td><td>1.573034</td><td>2</td><td>11</td><td>3.975</td><td>1.623</td></tr>\n",
       "</tbody>\n",
       "</table>\n"
      ],
      "text/latex": [
       "A matrix: 1 × 8 of type dbl\n",
       "\\begin{tabular}{r|llllllll}\n",
       "  & Min. & 1st Qu. & Median & Mean & 3rd Qu. & Max. & sd & sd\\_err\\_of\\_mean\\\\\n",
       "\\hline\n",
       "\t. & 1 & 1 & 1 & 1.573034 & 2 & 11 & 3.975 & 1.623\\\\\n",
       "\\end{tabular}\n"
      ],
      "text/markdown": [
       "\n",
       "A matrix: 1 × 8 of type dbl\n",
       "\n",
       "| <!--/--> | Min. | 1st Qu. | Median | Mean | 3rd Qu. | Max. | sd | sd_err_of_mean |\n",
       "|---|---|---|---|---|---|---|---|---|\n",
       "| . | 1 | 1 | 1 | 1.573034 | 2 | 11 | 3.975 | 1.623 |\n",
       "\n"
      ],
      "text/plain": [
       "  Min. 1st Qu. Median Mean     3rd Qu. Max. sd    sd_err_of_mean\n",
       ". 1    1       1      1.573034 2       11   3.975 1.623         "
      ]
     },
     "metadata": {},
     "output_type": "display_data"
    }
   ],
   "source": [
    "# individuals per species\n",
    "meta %>% \n",
    "    group_by(class, order, family, genus, scientific_name) %>% \n",
    "    summarize(n = n(), .groups='drop') %>%\n",
    "    .$n %>% summary_x"
   ]
  },
  {
   "cell_type": "code",
   "execution_count": 24,
   "metadata": {
    "ExecuteTime": {
     "end_time": "2020-07-17T13:49:48.600917Z",
     "start_time": "2020-07-17T13:49:45.664Z"
    }
   },
   "outputs": [
    {
     "data": {
      "image/png": "[encoded data removed]",
      "text/plain": [
       "plot without title"
      ]
     },
     "metadata": {
      "image/png": {
       "height": 300,
       "width": 500
      },
      "text/plain": {
       "height": 300,
       "width": 500
      }
     },
     "output_type": "display_data"
    }
   ],
   "source": [
    "# samples per class\n",
    "p = meta %>%\n",
    "    group_by(class, diet) %>%\n",
    "    summarize(n = n(), .groups='drop') %>%\n",
    "    ggplot(aes(class, n, fill=diet)) +\n",
    "    geom_bar(stat='identity') +\n",
    "    labs(y='No. of samples', x='Host class') +\n",
    "    theme_bw() +\n",
    "    theme(\n",
    "        axis.text.x = element_text(angle=45, hjust=1)\n",
    "    )\n",
    "\n",
    "p.dims(5,3)\n",
    "plot(p)"
   ]
  },
  {
   "cell_type": "code",
   "execution_count": 25,
   "metadata": {
    "ExecuteTime": {
     "end_time": "2020-07-17T13:49:49.983113Z",
     "start_time": "2020-07-17T13:49:46.384Z"
    }
   },
   "outputs": [
    {
     "data": {
      "image/png": "[encoded data removed]",
      "text/plain": [
       "plot without title"
      ]
     },
     "metadata": {
      "image/png": {
       "height": 300,
       "width": 500
      },
      "text/plain": {
       "height": 300,
       "width": 500
      }
     },
     "output_type": "display_data"
    }
   ],
   "source": [
    "# species per class\n",
    "p = meta %>%\n",
    "    distinct(class, diet, scientific_name) %>%\n",
    "    group_by(class, diet) %>%\n",
    "    summarize(n = n(), .groups='drop') %>%\n",
    "    ggplot(aes(class, n, fill=diet)) +\n",
    "    geom_bar(stat='identity') +\n",
    "    labs(y='No. of species', x='Host class') +\n",
    "    theme_bw() +\n",
    "    theme(\n",
    "        axis.text.x = element_text(angle=45, hjust=1)\n",
    "    )\n",
    "\n",
    "p.dims(5,3)\n",
    "plot(p)"
   ]
  },
  {
   "cell_type": "markdown",
   "metadata": {},
   "source": [
    "# Writing output"
   ]
  },
  {
   "cell_type": "code",
   "execution_count": 26,
   "metadata": {
    "ExecuteTime": {
     "end_time": "2020-07-17T13:49:50.185678Z",
     "start_time": "2020-07-17T13:49:47.104Z"
    }
   },
   "outputs": [
    {
     "name": "stdout",
     "output_type": "stream",
     "text": [
      "File written: /ebio/abt3_projects/Georg_animal_feces/data/16S_arch/MiSeq-Runs-116-122-126-189-190/LLA/arch-bac//physeq_arch_arc-bac_r250.RDS"
     ]
    }
   ],
   "source": [
    "outF = file.path(work_dir, 'physeq_arch_arc-bac_r250.RDS')\n",
    "saveRDS(physeq_arch_ff, outF)\n",
    "cat('File written:', outF)"
   ]
  },
  {
   "cell_type": "code",
   "execution_count": 27,
   "metadata": {
    "ExecuteTime": {
     "end_time": "2020-07-17T13:49:51.797329Z",
     "start_time": "2020-07-17T13:49:47.257Z"
    }
   },
   "outputs": [
    {
     "name": "stdout",
     "output_type": "stream",
     "text": [
      "File written: /ebio/abt3_projects/Georg_animal_feces/data/16S_arch/MiSeq-Runs-116-122-126-189-190/LLA/arch-bac//physeq_bac_arc-bac_r5k.RDS"
     ]
    }
   ],
   "source": [
    "outF = file.path(work_dir, 'physeq_bac_arc-bac_r5k.RDS')\n",
    "saveRDS(physeq_uni_ff, outF)\n",
    "cat('File written:', outF)"
   ]
  },
  {
   "cell_type": "markdown",
   "metadata": {},
   "source": [
    "# sessionInfo"
   ]
  },
  {
   "cell_type": "code",
   "execution_count": 28,
   "metadata": {
    "ExecuteTime": {
     "end_time": "2020-07-17T13:49:52.659141Z",
     "start_time": "2020-07-17T13:49:47.833Z"
    },
    "scrolled": true
   },
   "outputs": [
    {
     "data": {
      "text/plain": [
       "R version 3.6.3 (2020-02-29)\n",
       "Platform: x86_64-conda_cos6-linux-gnu (64-bit)\n",
       "Running under: Ubuntu 18.04.4 LTS\n",
       "\n",
       "Matrix products: default\n",
       "BLAS/LAPACK: /ebio/abt3_projects/Georg_animal_feces/envs/phyloseq/lib/libopenblasp-r0.3.9.so\n",
       "\n",
       "locale:\n",
       " [1] LC_CTYPE=en_US.UTF-8       LC_NUMERIC=C              \n",
       " [3] LC_TIME=en_US.UTF-8        LC_COLLATE=en_US.UTF-8    \n",
       " [5] LC_MONETARY=en_US.UTF-8    LC_MESSAGES=en_US.UTF-8   \n",
       " [7] LC_PAPER=en_US.UTF-8       LC_NAME=C                 \n",
       " [9] LC_ADDRESS=C               LC_TELEPHONE=C            \n",
       "[11] LC_MEASUREMENT=en_US.UTF-8 LC_IDENTIFICATION=C       \n",
       "\n",
       "attached base packages:\n",
       "[1] stats     graphics  grDevices utils     datasets  methods   base     \n",
       "\n",
       "other attached packages:\n",
       "[1] LeyLabRMisc_0.1.6 phyloseq_1.30.0   ggplot2_3.3.1     tidyr_1.1.0      \n",
       "[5] dplyr_1.0.0      \n",
       "\n",
       "loaded via a namespace (and not attached):\n",
       " [1] Rcpp_1.0.4.6        ape_5.4             lattice_0.20-41    \n",
       " [4] Biostrings_2.54.0   digest_0.6.25       foreach_1.5.0      \n",
       " [7] IRdisplay_0.7.0     R6_2.4.1            plyr_1.8.6         \n",
       "[10] repr_1.1.0          stats4_3.6.3        evaluate_0.14      \n",
       "[13] pillar_1.4.4        zlibbioc_1.32.0     rlang_0.4.6        \n",
       "[16] uuid_0.1-4          data.table_1.12.8   vegan_2.5-6        \n",
       "[19] S4Vectors_0.24.0    Matrix_1.2-18       labeling_0.3       \n",
       "[22] splines_3.6.3       stringr_1.4.0       igraph_1.2.5       \n",
       "[25] munsell_0.5.0       compiler_3.6.3      pkgconfig_2.0.3    \n",
       "[28] BiocGenerics_0.32.0 base64enc_0.1-3     multtest_2.42.0    \n",
       "[31] mgcv_1.8-31         htmltools_0.4.0     biomformat_1.14.0  \n",
       "[34] tidyselect_1.1.0    tibble_3.0.1        IRanges_2.20.0     \n",
       "[37] codetools_0.2-16    permute_0.9-5       crayon_1.3.4       \n",
       "[40] withr_2.2.0         MASS_7.3-51.6       grid_3.6.3         \n",
       "[43] nlme_3.1-148        jsonlite_1.6.1      gtable_0.3.0       \n",
       "[46] lifecycle_0.2.0     magrittr_1.5        scales_1.1.1       \n",
       "[49] stringi_1.4.6       farver_2.0.3        XVector_0.26.0     \n",
       "[52] reshape2_1.4.4      ellipsis_0.3.1      generics_0.0.2     \n",
       "[55] vctrs_0.3.0         IRkernel_1.1        Rhdf5lib_1.8.0     \n",
       "[58] iterators_1.0.12    tools_3.6.3         ade4_1.7-15        \n",
       "[61] Biobase_2.46.0      glue_1.4.1          purrr_0.3.4        \n",
       "[64] parallel_3.6.3      survival_3.1-12     colorspace_1.4-1   \n",
       "[67] rhdf5_2.30.0        cluster_2.1.0       pbdZMQ_0.3-3       "
      ]
     },
     "metadata": {},
     "output_type": "display_data"
    }
   ],
   "source": [
    "sessionInfo()"
   ]
  },
  {
   "cell_type": "code",
   "execution_count": null,
   "metadata": {},
   "outputs": [],
   "source": []
  }
 ],
 "metadata": {
  "kernelspec": {
   "display_name": "R [conda env:Georg_animal_feces-phyloseq]",
   "language": "R",
   "name": "conda-env-Georg_animal_feces-phyloseq-r"
  },
  "language_info": {
   "codemirror_mode": "r",
   "file_extension": ".r",
   "mimetype": "text/x-r-source",
   "name": "R",
   "pygments_lexer": "r",
   "version": "3.6.3"
  },
  "notify_time": "30",
  "toc": {
   "base_numbering": 1,
   "nav_menu": {},
   "number_sections": true,
   "sideBar": true,
   "skip_h1_title": false,
   "title_cell": "Table of Contents",
   "title_sidebar": "Contents",
   "toc_cell": true,
   "toc_position": {},
   "toc_section_display": true,
   "toc_window_display": true
  }
 },
 "nbformat": 4,
 "nbformat_minor": 4
}
