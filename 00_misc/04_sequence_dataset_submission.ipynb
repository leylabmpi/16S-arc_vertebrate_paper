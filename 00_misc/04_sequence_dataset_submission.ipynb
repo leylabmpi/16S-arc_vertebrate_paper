{
 "cells": [
  {
   "cell_type": "markdown",
   "metadata": {
    "toc": true
   },
   "source": [
    "<h1>Table of Contents<span class=\"tocSkip\"></span></h1>\n",
    "<div class=\"toc\"><ul class=\"toc-item\"><li><span><a href=\"#Goal\" data-toc-modified-id=\"Goal-1\"><span class=\"toc-item-num\">1&nbsp;&nbsp;</span>Goal</a></span></li><li><span><a href=\"#Var\" data-toc-modified-id=\"Var-2\"><span class=\"toc-item-num\">2&nbsp;&nbsp;</span>Var</a></span></li><li><span><a href=\"#Init\" data-toc-modified-id=\"Init-3\"><span class=\"toc-item-num\">3&nbsp;&nbsp;</span>Init</a></span></li><li><span><a href=\"#Method\" data-toc-modified-id=\"Method-4\"><span class=\"toc-item-num\">4&nbsp;&nbsp;</span>Method</a></span><ul class=\"toc-item\"><li><span><a href=\"#local-SRA-metadata\" data-toc-modified-id=\"local-SRA-metadata-4.1\"><span class=\"toc-item-num\">4.1&nbsp;&nbsp;</span>local SRA metadata</a></span></li><li><span><a href=\"#Final-dataset-samples\" data-toc-modified-id=\"Final-dataset-samples-4.2\"><span class=\"toc-item-num\">4.2&nbsp;&nbsp;</span>Final dataset samples</a></span></li><li><span><a href=\"#Loading-records\" data-toc-modified-id=\"Loading-records-4.3\"><span class=\"toc-item-num\">4.3&nbsp;&nbsp;</span>Loading records</a></span></li><li><span><a href=\"#Formatting\" data-toc-modified-id=\"Formatting-4.4\"><span class=\"toc-item-num\">4.4&nbsp;&nbsp;</span>Formatting</a></span><ul class=\"toc-item\"><li><span><a href=\"#Run116\" data-toc-modified-id=\"Run116-4.4.1\"><span class=\"toc-item-num\">4.4.1&nbsp;&nbsp;</span>Run116</a></span></li></ul></li><li><span><a href=\"#Summary\" data-toc-modified-id=\"Summary-4.5\"><span class=\"toc-item-num\">4.5&nbsp;&nbsp;</span>Summary</a></span></li><li><span><a href=\"#Writing-table-of-all-raw-read-files\" data-toc-modified-id=\"Writing-table-of-all-raw-read-files-4.6\"><span class=\"toc-item-num\">4.6&nbsp;&nbsp;</span>Writing table of all raw read files</a></span></li><li><span><a href=\"#Running-prepare-script\" data-toc-modified-id=\"Running-prepare-script-4.7\"><span class=\"toc-item-num\">4.7&nbsp;&nbsp;</span>Running prepare script</a></span></li><li><span><a href=\"#Uploading-sequence-files-via-ftp\" data-toc-modified-id=\"Uploading-sequence-files-via-ftp-4.8\"><span class=\"toc-item-num\">4.8&nbsp;&nbsp;</span>Uploading sequence files via ftp</a></span></li><li><span><a href=\"#Formatting-experiment.tsv-file\" data-toc-modified-id=\"Formatting-experiment.tsv-file-4.9\"><span class=\"toc-item-num\">4.9&nbsp;&nbsp;</span>Formatting <code>experiment.tsv</code> file</a></span></li><li><span><a href=\"#Formating-sample.tsv-file\" data-toc-modified-id=\"Formating-sample.tsv-file-4.10\"><span class=\"toc-item-num\">4.10&nbsp;&nbsp;</span>Formating <code>sample.tsv</code> file</a></span></li><li><span><a href=\"#Finish-up\" data-toc-modified-id=\"Finish-up-4.11\"><span class=\"toc-item-num\">4.11&nbsp;&nbsp;</span>Finish-up</a></span><ul class=\"toc-item\"><li><span><a href=\"#Submission-summary\" data-toc-modified-id=\"Submission-summary-4.11.1\"><span class=\"toc-item-num\">4.11.1&nbsp;&nbsp;</span>Submission summary</a></span></li></ul></li></ul></li><li><span><a href=\"#sessionInfo\" data-toc-modified-id=\"sessionInfo-5\"><span class=\"toc-item-num\">5&nbsp;&nbsp;</span>sessionInfo</a></span></li></ul></div>"
   ]
  },
  {
   "cell_type": "markdown",
   "metadata": {},
   "source": [
    "# Goal\n",
    "\n",
    "* Submitting samples to ENA from local SRA\n",
    "* Using method described in https://confluence.eb.local:8443/display/M005SEQ/Submission+of+samples+from+our+SRA+to+the+European+Nucleotide+Archive"
   ]
  },
  {
   "cell_type": "markdown",
   "metadata": {},
   "source": [
    "# Var"
   ]
  },
  {
   "cell_type": "code",
   "execution_count": 2,
   "metadata": {
    "ExecuteTime": {
     "end_time": "2020-10-05T11:47:54.335257Z",
     "start_time": "2020-10-05T11:47:54.252Z"
    }
   },
   "outputs": [],
   "source": [
    "work_dir = '/ebio/abt3_projects/Georg_animal_feces/data/16S_arch/MiSeq-Runs-116-122-126-189-190/db_submission/'\n",
    "tmp_dir = '/ebio/abt3_scratch/nyoungblut/Georg_animal_gut_16s-arc/'\n",
    "\n",
    "# physeq obj. of processed 16S samples\n",
    "## 16S-arch phyloseq object (one sample per species)\n",
    "physeq_arch_SpecD_file = '/ebio/abt3_projects/Georg_animal_feces/data/16S_arch/MiSeq-Runs-116-122-126-189-190/LLA/merged/phyloseq/physeq_arch_SpecD.RDS'\n",
    "## 16S-arch phyloseq object (one sample per individual)\n",
    "physeq_arch_IndD_file = '/ebio/abt3_projects/Georg_animal_feces/data/16S_arch/MiSeq-Runs-116-122-126-189-190/LLA/merged/phyloseq/physeq_arch_IndD.RDS'"
   ]
  },
  {
   "cell_type": "markdown",
   "metadata": {},
   "source": [
    "# Init"
   ]
  },
  {
   "cell_type": "code",
   "execution_count": 6,
   "metadata": {
    "ExecuteTime": {
     "end_time": "2020-10-05T11:54:18.083343Z",
     "start_time": "2020-10-05T11:54:18.046Z"
    }
   },
   "outputs": [],
   "source": [
    "library(dplyr)\n",
    "library(tidyr)\n",
    "library(ggplot2)\n",
    "library(phyloseq)\n",
    "\n",
    "library(LeyLabRMisc)"
   ]
  },
  {
   "cell_type": "code",
   "execution_count": 5,
   "metadata": {
    "ExecuteTime": {
     "end_time": "2020-10-05T11:48:31.157615Z",
     "start_time": "2020-10-05T11:48:20.572Z"
    }
   },
   "outputs": [
    {
     "name": "stdout",
     "output_type": "stream",
     "text": [
      "Directory already exists: /ebio/abt3_projects/Georg_animal_feces/data/16S_arch/MiSeq-Runs-116-122-126-189-190/db_submission/ \n",
      "Directory already exists: /ebio/abt3_scratch/nyoungblut/Georg_animal_gut_16s-arc/ \n"
     ]
    }
   ],
   "source": [
    "make_dir(work_dir)\n",
    "make_dir(tmp_dir)\n",
    "df.dims()"
   ]
  },
  {
   "cell_type": "markdown",
   "metadata": {},
   "source": [
    "# Method\n",
    "\n",
    "\n",
    "## local SRA metadata\n",
    "\n",
    "* downloaded records from local SRA \n",
    "  * all 5 MiSeq runs"
   ]
  },
  {
   "cell_type": "markdown",
   "metadata": {},
   "source": [
    "## Final dataset samples"
   ]
  },
  {
   "cell_type": "code",
   "execution_count": 39,
   "metadata": {
    "ExecuteTime": {
     "end_time": "2020-10-05T12:14:20.850313Z",
     "start_time": "2020-10-05T12:14:20.571Z"
    }
   },
   "outputs": [
    {
     "data": {
      "text/html": [
       "<table>\n",
       "<caption>A tibble: 185 × 9</caption>\n",
       "<thead>\n",
       "\t<tr><th scope=col>scientific_name</th><th scope=col>host_taxid</th><th scope=col>class</th><th scope=col>order</th><th scope=col>family</th><th scope=col>genus</th><th scope=col>habitat</th><th scope=col>diet</th><th scope=col>Sample</th></tr>\n",
       "\t<tr><th scope=col>&lt;chr&gt;</th><th scope=col>&lt;int&gt;</th><th scope=col>&lt;chr&gt;</th><th scope=col>&lt;chr&gt;</th><th scope=col>&lt;chr&gt;</th><th scope=col>&lt;chr&gt;</th><th scope=col>&lt;chr&gt;</th><th scope=col>&lt;chr&gt;</th><th scope=col>&lt;chr&gt;</th></tr>\n",
       "</thead>\n",
       "<tbody>\n",
       "\t<tr><td>Abramis_brama </td><td>38527</td><td>Actinopterygii</td><td>Cypriniformes</td><td>Cyprinidae</td><td>Abramis</td><td>aquatic habitat    </td><td>omnivore </td><td>F14_Common_Bream</td></tr>\n",
       "\t<tr><td>Cervus_elaphus</td><td> 9860</td><td>Mammalia      </td><td>Artiodactyla </td><td>Cervidae  </td><td>Cervus </td><td>terrestrial habitat</td><td>herbivore</td><td>F35_Red_Deer    </td></tr>\n",
       "\t<tr><td>⋮</td><td>⋮</td><td>⋮</td><td>⋮</td><td>⋮</td><td>⋮</td><td>⋮</td><td>⋮</td><td>⋮</td></tr>\n",
       "\t<tr><td>Equus_quagga       </td><td>89252</td><td>Mammalia</td><td>Perissodactyla</td><td>Equidae </td><td>Equus    </td><td>terrestrial habitat</td><td>herbivore</td><td>X431_Quagga     </td></tr>\n",
       "\t<tr><td>Capreolus_capreolus</td><td> 9858</td><td>Mammalia</td><td>Artiodactyla  </td><td>Cervidae</td><td>Capreolus</td><td>terrestrial habitat</td><td>herbivore</td><td>X67_European_Roe</td></tr>\n",
       "</tbody>\n",
       "</table>\n"
      ],
      "text/latex": [
       "A tibble: 185 × 9\n",
       "\\begin{tabular}{lllllllll}\n",
       " scientific\\_name & host\\_taxid & class & order & family & genus & habitat & diet & Sample\\\\\n",
       " <chr> & <int> & <chr> & <chr> & <chr> & <chr> & <chr> & <chr> & <chr>\\\\\n",
       "\\hline\n",
       "\t Abramis\\_brama  & 38527 & Actinopterygii & Cypriniformes & Cyprinidae & Abramis & aquatic habitat     & omnivore  & F14\\_Common\\_Bream\\\\\n",
       "\t Cervus\\_elaphus &  9860 & Mammalia       & Artiodactyla  & Cervidae   & Cervus  & terrestrial habitat & herbivore & F35\\_Red\\_Deer    \\\\\n",
       "\t ⋮ & ⋮ & ⋮ & ⋮ & ⋮ & ⋮ & ⋮ & ⋮ & ⋮\\\\\n",
       "\t Equus\\_quagga        & 89252 & Mammalia & Perissodactyla & Equidae  & Equus     & terrestrial habitat & herbivore & X431\\_Quagga     \\\\\n",
       "\t Capreolus\\_capreolus &  9858 & Mammalia & Artiodactyla   & Cervidae & Capreolus & terrestrial habitat & herbivore & X67\\_European\\_Roe\\\\\n",
       "\\end{tabular}\n"
      ],
      "text/markdown": [
       "\n",
       "A tibble: 185 × 9\n",
       "\n",
       "| scientific_name &lt;chr&gt; | host_taxid &lt;int&gt; | class &lt;chr&gt; | order &lt;chr&gt; | family &lt;chr&gt; | genus &lt;chr&gt; | habitat &lt;chr&gt; | diet &lt;chr&gt; | Sample &lt;chr&gt; |\n",
       "|---|---|---|---|---|---|---|---|---|\n",
       "| Abramis_brama  | 38527 | Actinopterygii | Cypriniformes | Cyprinidae | Abramis | aquatic habitat     | omnivore  | F14_Common_Bream |\n",
       "| Cervus_elaphus |  9860 | Mammalia       | Artiodactyla  | Cervidae   | Cervus  | terrestrial habitat | herbivore | F35_Red_Deer     |\n",
       "| ⋮ | ⋮ | ⋮ | ⋮ | ⋮ | ⋮ | ⋮ | ⋮ | ⋮ |\n",
       "| Equus_quagga        | 89252 | Mammalia | Perissodactyla | Equidae  | Equus     | terrestrial habitat | herbivore | X431_Quagga      |\n",
       "| Capreolus_capreolus |  9858 | Mammalia | Artiodactyla   | Cervidae | Capreolus | terrestrial habitat | herbivore | X67_European_Roe |\n",
       "\n"
      ],
      "text/plain": [
       "    scientific_name     host_taxid class          order          family    \n",
       "1   Abramis_brama       38527      Actinopterygii Cypriniformes  Cyprinidae\n",
       "2   Cervus_elaphus       9860      Mammalia       Artiodactyla   Cervidae  \n",
       "⋮   ⋮                   ⋮          ⋮              ⋮              ⋮         \n",
       "184 Equus_quagga        89252      Mammalia       Perissodactyla Equidae   \n",
       "185 Capreolus_capreolus  9858      Mammalia       Artiodactyla   Cervidae  \n",
       "    genus     habitat             diet      Sample          \n",
       "1   Abramis   aquatic habitat     omnivore  F14_Common_Bream\n",
       "2   Cervus    terrestrial habitat herbivore F35_Red_Deer    \n",
       "⋮   ⋮         ⋮                   ⋮         ⋮               \n",
       "184 Equus     terrestrial habitat herbivore X431_Quagga     \n",
       "185 Capreolus terrestrial habitat herbivore X67_European_Roe"
      ]
     },
     "metadata": {},
     "output_type": "display_data"
    }
   ],
   "source": [
    "# species metadata\n",
    "meta = readRDS(physeq_arch_IndD_file) %>%\n",
    "    phyloseq2df(sample_data) %>%\n",
    "    distinct(Sample, scientific_name, \n",
    "             class, order, family, genus, host_taxid,\n",
    "             diet, habitat)\n",
    "meta"
   ]
  },
  {
   "cell_type": "markdown",
   "metadata": {},
   "source": [
    "## Loading records"
   ]
  },
  {
   "cell_type": "code",
   "execution_count": 57,
   "metadata": {
    "ExecuteTime": {
     "end_time": "2020-10-05T12:19:03.981554Z",
     "start_time": "2020-10-05T12:19:03.926Z"
    }
   },
   "outputs": [
    {
     "data": {
      "text/html": [
       "<table>\n",
       "<caption>A data.frame: 267 × 2</caption>\n",
       "<thead>\n",
       "\t<tr><th scope=col>Sample</th><th scope=col>Illumina_RunID</th></tr>\n",
       "\t<tr><th scope=col>&lt;fct&gt;</th><th scope=col>&lt;fct&gt;</th></tr>\n",
       "</thead>\n",
       "<tbody>\n",
       "\t<tr><td>1.Eurasian.Beaver</td><td>1  </td></tr>\n",
       "\t<tr><td>101.Horse        </td><td>101</td></tr>\n",
       "\t<tr><td>⋮</td><td>⋮</td></tr>\n",
       "\t<tr><td>mock  </td><td>mock </td></tr>\n",
       "\t<tr><td>water </td><td>water</td></tr>\n",
       "</tbody>\n",
       "</table>\n"
      ],
      "text/latex": [
       "A data.frame: 267 × 2\n",
       "\\begin{tabular}{ll}\n",
       " Sample & Illumina\\_RunID\\\\\n",
       " <fct> & <fct>\\\\\n",
       "\\hline\n",
       "\t 1.Eurasian.Beaver & 1  \\\\\n",
       "\t 101.Horse         & 101\\\\\n",
       "\t ⋮ & ⋮\\\\\n",
       "\t mock   & mock \\\\\n",
       "\t water  & water\\\\\n",
       "\\end{tabular}\n"
      ],
      "text/markdown": [
       "\n",
       "A data.frame: 267 × 2\n",
       "\n",
       "| Sample &lt;fct&gt; | Illumina_RunID &lt;fct&gt; |\n",
       "|---|---|\n",
       "| 1.Eurasian.Beaver | 1   |\n",
       "| 101.Horse         | 101 |\n",
       "| ⋮ | ⋮ |\n",
       "| mock   | mock  |\n",
       "| water  | water |\n",
       "\n"
      ],
      "text/plain": [
       "    Sample            Illumina_RunID\n",
       "1   1.Eurasian.Beaver 1             \n",
       "2   101.Horse         101           \n",
       "⋮   ⋮                 ⋮             \n",
       "266 mock              mock          \n",
       "267 water             water         "
      ]
     },
     "metadata": {},
     "output_type": "display_data"
    }
   ],
   "source": [
    "# sample renaming index for MiSeq116\n",
    "F = file.path(work_dir, 'local_SRA', 'MiSeq-Run0116_samples_rn.txt')\n",
    "run116_rn_idx = read.delim(F, sep='\\t') %>%\n",
    "    dplyr::select(Sample, Illumina_RunID)\n",
    "run116_rn_idx"
   ]
  },
  {
   "cell_type": "code",
   "execution_count": null,
   "metadata": {},
   "outputs": [],
   "source": [
    "# sample renaming index for MiSeq116\n",
    "F = file.path(work_dir, 'local_SRA', 'MiSeq-Run0116_samples_rn.txt')\n",
    "run116_rn_idx = read.delim(F, sep='\\t') %>%\n",
    "    dplyr::select(Sample, Illumina_RunID)\n",
    "run116_rn_idx"
   ]
  },
  {
   "cell_type": "code",
   "execution_count": 63,
   "metadata": {
    "ExecuteTime": {
     "end_time": "2020-10-05T12:24:17.369264Z",
     "start_time": "2020-10-05T12:24:17.308Z"
    }
   },
   "outputs": [
    {
     "data": {
      "text/html": [
       "<table>\n",
       "<caption>A data.frame: 86 × 2</caption>\n",
       "<thead>\n",
       "\t<tr><th scope=col>Sample</th><th scope=col>Illumina_RunID</th></tr>\n",
       "\t<tr><th scope=col>&lt;fct&gt;</th><th scope=col>&lt;chr&gt;</th></tr>\n",
       "</thead>\n",
       "<tbody>\n",
       "\t<tr><td>108.Striped.Desert.Hamster</td><td>108</td></tr>\n",
       "\t<tr><td>109.Red.Fox               </td><td>109</td></tr>\n",
       "\t<tr><td>⋮</td><td>⋮</td></tr>\n",
       "\t<tr><td>88.European.Rabbit</td><td>88 </td></tr>\n",
       "\t<tr><td>F90.Domestic.Dog  </td><td>F90</td></tr>\n",
       "</tbody>\n",
       "</table>\n"
      ],
      "text/latex": [
       "A data.frame: 86 × 2\n",
       "\\begin{tabular}{ll}\n",
       " Sample & Illumina\\_RunID\\\\\n",
       " <fct> & <chr>\\\\\n",
       "\\hline\n",
       "\t 108.Striped.Desert.Hamster & 108\\\\\n",
       "\t 109.Red.Fox                & 109\\\\\n",
       "\t ⋮ & ⋮\\\\\n",
       "\t 88.European.Rabbit & 88 \\\\\n",
       "\t F90.Domestic.Dog   & F90\\\\\n",
       "\\end{tabular}\n"
      ],
      "text/markdown": [
       "\n",
       "A data.frame: 86 × 2\n",
       "\n",
       "| Sample &lt;fct&gt; | Illumina_RunID &lt;chr&gt; |\n",
       "|---|---|\n",
       "| 108.Striped.Desert.Hamster | 108 |\n",
       "| 109.Red.Fox                | 109 |\n",
       "| ⋮ | ⋮ |\n",
       "| 88.European.Rabbit | 88  |\n",
       "| F90.Domestic.Dog   | F90 |\n",
       "\n"
      ],
      "text/plain": [
       "   Sample                     Illumina_RunID\n",
       "1  108.Striped.Desert.Hamster 108           \n",
       "2  109.Red.Fox                109           \n",
       "⋮  ⋮                          ⋮             \n",
       "85 88.European.Rabbit         88            \n",
       "86 F90.Domestic.Dog           F90           "
      ]
     },
     "metadata": {},
     "output_type": "display_data"
    }
   ],
   "source": [
    "# sample renaming index for MiSeq126\n",
    "F = file.path(work_dir, 'local_SRA', 'MiSeq-Run0126_samples.txt')\n",
    "run126_rn_idx = read.delim(F, sep='\\t') %>%\n",
    "    dplyr::select(Sample, Read1) %>%\n",
    "    mutate(Illumina_RunID = gsub('.+SampleId([F0-9]+)_RunId0126_LaneId1.+',\n",
    "                                 '\\\\1', Read1)) %>%\n",
    "    dplyr::select(-Read1)\n",
    "run126_rn_idx"
   ]
  },
  {
   "cell_type": "code",
   "execution_count": 64,
   "metadata": {
    "ExecuteTime": {
     "end_time": "2020-10-05T12:25:31.876754Z",
     "start_time": "2020-10-05T12:25:31.834Z"
    }
   },
   "outputs": [
    {
     "data": {
      "text/html": [
       "<style>\n",
       ".list-inline {list-style: none; margin:0; padding: 0}\n",
       ".list-inline>li {display: inline-block}\n",
       ".list-inline>li:not(:last-child)::after {content: \"\\00b7\"; padding: 0 .5ex}\n",
       "</style>\n",
       "<ol class=list-inline><li>'MiSeq_Run116.csv'</li><li>'MiSeq_Run122.csv'</li><li>'MiSeq_Run126.csv'</li><li>'MiSeq_Run189.csv'</li><li>'MiSeq_Run190.csv'</li></ol>\n"
      ],
      "text/latex": [
       "\\begin{enumerate*}\n",
       "\\item 'MiSeq\\_Run116.csv'\n",
       "\\item 'MiSeq\\_Run122.csv'\n",
       "\\item 'MiSeq\\_Run126.csv'\n",
       "\\item 'MiSeq\\_Run189.csv'\n",
       "\\item 'MiSeq\\_Run190.csv'\n",
       "\\end{enumerate*}\n"
      ],
      "text/markdown": [
       "1. 'MiSeq_Run116.csv'\n",
       "2. 'MiSeq_Run122.csv'\n",
       "3. 'MiSeq_Run126.csv'\n",
       "4. 'MiSeq_Run189.csv'\n",
       "5. 'MiSeq_Run190.csv'\n",
       "\n",
       "\n"
      ],
      "text/plain": [
       "[1] \"MiSeq_Run116.csv\" \"MiSeq_Run122.csv\" \"MiSeq_Run126.csv\" \"MiSeq_Run189.csv\"\n",
       "[5] \"MiSeq_Run190.csv\""
      ]
     },
     "metadata": {},
     "output_type": "display_data"
    }
   ],
   "source": [
    "# downloaded local SRA metadata\n",
    "files = c('MiSeq_Run116.csv', \n",
    "          'MiSeq_Run122.csv',\n",
    "          'MiSeq_Run126.csv',\n",
    "          'MiSeq_Run189.csv',\n",
    "          'MiSeq_Run190.csv')\n",
    "files"
   ]
  },
  {
   "cell_type": "code",
   "execution_count": 84,
   "metadata": {
    "ExecuteTime": {
     "end_time": "2020-10-05T12:30:01.676299Z",
     "start_time": "2020-10-05T12:30:01.493Z"
    }
   },
   "outputs": [
    {
     "data": {
      "text/html": [
       "<table>\n",
       "<caption>A data.frame: 1376 × 16</caption>\n",
       "<thead>\n",
       "\t<tr><th scope=col>fileId</th><th scope=col>runId</th><th scope=col>sampleId</th><th scope=col>person</th><th scope=col>project</th><th scope=col>machineId</th><th scope=col>month</th><th scope=col>year</th><th scope=col>fileLocation</th><th scope=col>description</th><th scope=col>laneId</th><th scope=col>demultiplexed</th><th scope=col>platform</th><th scope=col>RTA_version</th><th scope=col>flowcell</th><th scope=col>md5_sum</th></tr>\n",
       "\t<tr><th scope=col>&lt;int&gt;</th><th scope=col>&lt;int&gt;</th><th scope=col>&lt;fct&gt;</th><th scope=col>&lt;fct&gt;</th><th scope=col>&lt;fct&gt;</th><th scope=col>&lt;fct&gt;</th><th scope=col>&lt;int&gt;</th><th scope=col>&lt;int&gt;</th><th scope=col>&lt;fct&gt;</th><th scope=col>&lt;lgl&gt;</th><th scope=col>&lt;int&gt;</th><th scope=col>&lt;fct&gt;</th><th scope=col>&lt;fct&gt;</th><th scope=col>&lt;fct&gt;</th><th scope=col>&lt;fct&gt;</th><th scope=col>&lt;fct&gt;</th></tr>\n",
       "</thead>\n",
       "<tbody>\n",
       "\t<tr><td>75335</td><td>116</td><td>Neg9</td><td>NickYoungblut</td><td>Nextera</td><td>MiSeq</td><td>3</td><td>2018</td><td>/ebio/abt6_sra/years/2018/03_04/Nextera/illumina_M00333_flowcellA_SampleIdNeg9_RunId0116_LaneId1/Neg9_CGAGGCTG-TCCTTACG_L001_R2_001.fastq.gz</td><td>NA</td><td>1</td><td>yes</td><td>illumina</td><td>RTA_1.18.54</td><td>A</td><td>e00ab70c4b70e14ff808bb6f1519ec4a</td></tr>\n",
       "\t<tr><td>75334</td><td>116</td><td>Neg9</td><td>NickYoungblut</td><td>Nextera</td><td>MiSeq</td><td>3</td><td>2018</td><td>/ebio/abt6_sra/years/2018/03_04/Nextera/illumina_M00333_flowcellA_SampleIdNeg9_RunId0116_LaneId1/Neg9_CGAGGCTG-TCCTTACG_L001_R1_001.fastq.gz</td><td>NA</td><td>1</td><td>yes</td><td>illumina</td><td>RTA_1.18.54</td><td>A</td><td>a77de2c3d773432a2e831f7f0ceaed09</td></tr>\n",
       "\t<tr><td>⋮</td><td>⋮</td><td>⋮</td><td>⋮</td><td>⋮</td><td>⋮</td><td>⋮</td><td>⋮</td><td>⋮</td><td>⋮</td><td>⋮</td><td>⋮</td><td>⋮</td><td>⋮</td><td>⋮</td><td>⋮</td></tr>\n",
       "\t<tr><td>239416</td><td>190</td><td>X87_Garden_Dormouse</td><td>sdauser</td><td>Georg_animal_gut_archaea_16S</td><td>MiSeq</td><td>3</td><td>2020</td><td>/ebio/abt6_sra/years/2020/03_02/Georg_animal_gut_archaea_16S/illumina_M00333_flowcellA_SampleIdX87_Garden_Dormouse_RunId0190_LaneId1/X87_Garden_Dormouse_ACTGAGCG-GGAACTCC_L001_R2_001.fastq.gz</td><td>NA</td><td>1</td><td>yes</td><td>illumina</td><td>RTA_1.18.54.4</td><td>A</td><td>c028dc3c60758b655832da3011961514</td></tr>\n",
       "\t<tr><td>239415</td><td>190</td><td>X87_Garden_Dormouse</td><td>sdauser</td><td>Georg_animal_gut_archaea_16S</td><td>MiSeq</td><td>3</td><td>2020</td><td>/ebio/abt6_sra/years/2020/03_02/Georg_animal_gut_archaea_16S/illumina_M00333_flowcellA_SampleIdX87_Garden_Dormouse_RunId0190_LaneId1/X87_Garden_Dormouse_ACTGAGCG-GGAACTCC_L001_R1_001.fastq.gz</td><td>NA</td><td>1</td><td>yes</td><td>illumina</td><td>RTA_1.18.54.4</td><td>A</td><td>2dbf69e104f80fb59fe1c482dc5b0c2a</td></tr>\n",
       "</tbody>\n",
       "</table>\n"
      ],
      "text/latex": [
       "A data.frame: 1376 × 16\n",
       "\\begin{tabular}{llllllllllllllll}\n",
       " fileId & runId & sampleId & person & project & machineId & month & year & fileLocation & description & laneId & demultiplexed & platform & RTA\\_version & flowcell & md5\\_sum\\\\\n",
       " <int> & <int> & <fct> & <fct> & <fct> & <fct> & <int> & <int> & <fct> & <lgl> & <int> & <fct> & <fct> & <fct> & <fct> & <fct>\\\\\n",
       "\\hline\n",
       "\t 75335 & 116 & Neg9 & NickYoungblut & Nextera & MiSeq & 3 & 2018 & /ebio/abt6\\_sra/years/2018/03\\_04/Nextera/illumina\\_M00333\\_flowcellA\\_SampleIdNeg9\\_RunId0116\\_LaneId1/Neg9\\_CGAGGCTG-TCCTTACG\\_L001\\_R2\\_001.fastq.gz & NA & 1 & yes & illumina & RTA\\_1.18.54 & A & e00ab70c4b70e14ff808bb6f1519ec4a\\\\\n",
       "\t 75334 & 116 & Neg9 & NickYoungblut & Nextera & MiSeq & 3 & 2018 & /ebio/abt6\\_sra/years/2018/03\\_04/Nextera/illumina\\_M00333\\_flowcellA\\_SampleIdNeg9\\_RunId0116\\_LaneId1/Neg9\\_CGAGGCTG-TCCTTACG\\_L001\\_R1\\_001.fastq.gz & NA & 1 & yes & illumina & RTA\\_1.18.54 & A & a77de2c3d773432a2e831f7f0ceaed09\\\\\n",
       "\t ⋮ & ⋮ & ⋮ & ⋮ & ⋮ & ⋮ & ⋮ & ⋮ & ⋮ & ⋮ & ⋮ & ⋮ & ⋮ & ⋮ & ⋮ & ⋮\\\\\n",
       "\t 239416 & 190 & X87\\_Garden\\_Dormouse & sdauser & Georg\\_animal\\_gut\\_archaea\\_16S & MiSeq & 3 & 2020 & /ebio/abt6\\_sra/years/2020/03\\_02/Georg\\_animal\\_gut\\_archaea\\_16S/illumina\\_M00333\\_flowcellA\\_SampleIdX87\\_Garden\\_Dormouse\\_RunId0190\\_LaneId1/X87\\_Garden\\_Dormouse\\_ACTGAGCG-GGAACTCC\\_L001\\_R2\\_001.fastq.gz & NA & 1 & yes & illumina & RTA\\_1.18.54.4 & A & c028dc3c60758b655832da3011961514\\\\\n",
       "\t 239415 & 190 & X87\\_Garden\\_Dormouse & sdauser & Georg\\_animal\\_gut\\_archaea\\_16S & MiSeq & 3 & 2020 & /ebio/abt6\\_sra/years/2020/03\\_02/Georg\\_animal\\_gut\\_archaea\\_16S/illumina\\_M00333\\_flowcellA\\_SampleIdX87\\_Garden\\_Dormouse\\_RunId0190\\_LaneId1/X87\\_Garden\\_Dormouse\\_ACTGAGCG-GGAACTCC\\_L001\\_R1\\_001.fastq.gz & NA & 1 & yes & illumina & RTA\\_1.18.54.4 & A & 2dbf69e104f80fb59fe1c482dc5b0c2a\\\\\n",
       "\\end{tabular}\n"
      ],
      "text/markdown": [
       "\n",
       "A data.frame: 1376 × 16\n",
       "\n",
       "| fileId &lt;int&gt; | runId &lt;int&gt; | sampleId &lt;fct&gt; | person &lt;fct&gt; | project &lt;fct&gt; | machineId &lt;fct&gt; | month &lt;int&gt; | year &lt;int&gt; | fileLocation &lt;fct&gt; | description &lt;lgl&gt; | laneId &lt;int&gt; | demultiplexed &lt;fct&gt; | platform &lt;fct&gt; | RTA_version &lt;fct&gt; | flowcell &lt;fct&gt; | md5_sum &lt;fct&gt; |\n",
       "|---|---|---|---|---|---|---|---|---|---|---|---|---|---|---|---|\n",
       "| 75335 | 116 | Neg9 | NickYoungblut | Nextera | MiSeq | 3 | 2018 | /ebio/abt6_sra/years/2018/03_04/Nextera/illumina_M00333_flowcellA_SampleIdNeg9_RunId0116_LaneId1/Neg9_CGAGGCTG-TCCTTACG_L001_R2_001.fastq.gz | NA | 1 | yes | illumina | RTA_1.18.54 | A | e00ab70c4b70e14ff808bb6f1519ec4a |\n",
       "| 75334 | 116 | Neg9 | NickYoungblut | Nextera | MiSeq | 3 | 2018 | /ebio/abt6_sra/years/2018/03_04/Nextera/illumina_M00333_flowcellA_SampleIdNeg9_RunId0116_LaneId1/Neg9_CGAGGCTG-TCCTTACG_L001_R1_001.fastq.gz | NA | 1 | yes | illumina | RTA_1.18.54 | A | a77de2c3d773432a2e831f7f0ceaed09 |\n",
       "| ⋮ | ⋮ | ⋮ | ⋮ | ⋮ | ⋮ | ⋮ | ⋮ | ⋮ | ⋮ | ⋮ | ⋮ | ⋮ | ⋮ | ⋮ | ⋮ |\n",
       "| 239416 | 190 | X87_Garden_Dormouse | sdauser | Georg_animal_gut_archaea_16S | MiSeq | 3 | 2020 | /ebio/abt6_sra/years/2020/03_02/Georg_animal_gut_archaea_16S/illumina_M00333_flowcellA_SampleIdX87_Garden_Dormouse_RunId0190_LaneId1/X87_Garden_Dormouse_ACTGAGCG-GGAACTCC_L001_R2_001.fastq.gz | NA | 1 | yes | illumina | RTA_1.18.54.4 | A | c028dc3c60758b655832da3011961514 |\n",
       "| 239415 | 190 | X87_Garden_Dormouse | sdauser | Georg_animal_gut_archaea_16S | MiSeq | 3 | 2020 | /ebio/abt6_sra/years/2020/03_02/Georg_animal_gut_archaea_16S/illumina_M00333_flowcellA_SampleIdX87_Garden_Dormouse_RunId0190_LaneId1/X87_Garden_Dormouse_ACTGAGCG-GGAACTCC_L001_R1_001.fastq.gz | NA | 1 | yes | illumina | RTA_1.18.54.4 | A | 2dbf69e104f80fb59fe1c482dc5b0c2a |\n",
       "\n"
      ],
      "text/plain": [
       "     fileId runId sampleId            person       \n",
       "1    75335  116   Neg9                NickYoungblut\n",
       "2    75334  116   Neg9                NickYoungblut\n",
       "⋮    ⋮      ⋮     ⋮                   ⋮            \n",
       "1375 239416 190   X87_Garden_Dormouse sdauser      \n",
       "1376 239415 190   X87_Garden_Dormouse sdauser      \n",
       "     project                      machineId month year\n",
       "1    Nextera                      MiSeq     3     2018\n",
       "2    Nextera                      MiSeq     3     2018\n",
       "⋮    ⋮                            ⋮         ⋮     ⋮   \n",
       "1375 Georg_animal_gut_archaea_16S MiSeq     3     2020\n",
       "1376 Georg_animal_gut_archaea_16S MiSeq     3     2020\n",
       "     fileLocation                                                                                                                                                                                   \n",
       "1    /ebio/abt6_sra/years/2018/03_04/Nextera/illumina_M00333_flowcellA_SampleIdNeg9_RunId0116_LaneId1/Neg9_CGAGGCTG-TCCTTACG_L001_R2_001.fastq.gz                                                   \n",
       "2    /ebio/abt6_sra/years/2018/03_04/Nextera/illumina_M00333_flowcellA_SampleIdNeg9_RunId0116_LaneId1/Neg9_CGAGGCTG-TCCTTACG_L001_R1_001.fastq.gz                                                   \n",
       "⋮    ⋮                                                                                                                                                                                              \n",
       "1375 /ebio/abt6_sra/years/2020/03_02/Georg_animal_gut_archaea_16S/illumina_M00333_flowcellA_SampleIdX87_Garden_Dormouse_RunId0190_LaneId1/X87_Garden_Dormouse_ACTGAGCG-GGAACTCC_L001_R2_001.fastq.gz\n",
       "1376 /ebio/abt6_sra/years/2020/03_02/Georg_animal_gut_archaea_16S/illumina_M00333_flowcellA_SampleIdX87_Garden_Dormouse_RunId0190_LaneId1/X87_Garden_Dormouse_ACTGAGCG-GGAACTCC_L001_R1_001.fastq.gz\n",
       "     description laneId demultiplexed platform RTA_version   flowcell\n",
       "1    NA          1      yes           illumina RTA_1.18.54   A       \n",
       "2    NA          1      yes           illumina RTA_1.18.54   A       \n",
       "⋮    ⋮           ⋮      ⋮             ⋮        ⋮             ⋮       \n",
       "1375 NA          1      yes           illumina RTA_1.18.54.4 A       \n",
       "1376 NA          1      yes           illumina RTA_1.18.54.4 A       \n",
       "     md5_sum                         \n",
       "1    e00ab70c4b70e14ff808bb6f1519ec4a\n",
       "2    a77de2c3d773432a2e831f7f0ceaed09\n",
       "⋮    ⋮                               \n",
       "1375 c028dc3c60758b655832da3011961514\n",
       "1376 2dbf69e104f80fb59fe1c482dc5b0c2a"
      ]
     },
     "metadata": {},
     "output_type": "display_data"
    }
   ],
   "source": [
    "# reading in metadata\n",
    "read_table = function(F, work_dir){\n",
    "    df = read.delim(file.path(work_dir, 'local_SRA', F), sep=',')\n",
    "    return(df)\n",
    "}\n",
    "\n",
    "sra_meta = files %>%\n",
    "    lapply(read_table, work_dir=work_dir) %>%\n",
    "    do.call(rbind, .)\n",
    "sra_meta"
   ]
  },
  {
   "cell_type": "markdown",
   "metadata": {},
   "source": [
    "## Formatting"
   ]
  },
  {
   "cell_type": "markdown",
   "metadata": {},
   "source": [
    "### Run116"
   ]
  },
  {
   "cell_type": "code",
   "execution_count": 85,
   "metadata": {
    "ExecuteTime": {
     "end_time": "2020-10-05T12:30:02.026230Z",
     "start_time": "2020-10-05T12:30:01.934Z"
    }
   },
   "outputs": [
    {
     "name": "stdout",
     "output_type": "stream",
     "text": [
      "intersect(x,y): 267 \n",
      "setdiff(x,y): 0 \n",
      "setdiff(y,x): 0 \n",
      "union(x,y): 267 \n"
     ]
    },
    {
     "data": {
      "text/html": [
       "<table>\n",
       "<caption>A data.frame: 534 × 16</caption>\n",
       "<thead>\n",
       "\t<tr><th scope=col>fileId</th><th scope=col>runId</th><th scope=col>person</th><th scope=col>project</th><th scope=col>machineId</th><th scope=col>month</th><th scope=col>year</th><th scope=col>fileLocation</th><th scope=col>description</th><th scope=col>laneId</th><th scope=col>demultiplexed</th><th scope=col>platform</th><th scope=col>RTA_version</th><th scope=col>flowcell</th><th scope=col>md5_sum</th><th scope=col>sampleId</th></tr>\n",
       "\t<tr><th scope=col>&lt;int&gt;</th><th scope=col>&lt;int&gt;</th><th scope=col>&lt;fct&gt;</th><th scope=col>&lt;fct&gt;</th><th scope=col>&lt;fct&gt;</th><th scope=col>&lt;int&gt;</th><th scope=col>&lt;int&gt;</th><th scope=col>&lt;fct&gt;</th><th scope=col>&lt;lgl&gt;</th><th scope=col>&lt;int&gt;</th><th scope=col>&lt;fct&gt;</th><th scope=col>&lt;fct&gt;</th><th scope=col>&lt;fct&gt;</th><th scope=col>&lt;fct&gt;</th><th scope=col>&lt;fct&gt;</th><th scope=col>&lt;fct&gt;</th></tr>\n",
       "</thead>\n",
       "<tbody>\n",
       "\t<tr><td>75335</td><td>116</td><td>NickYoungblut</td><td>Nextera</td><td>MiSeq</td><td>3</td><td>2018</td><td>/ebio/abt6_sra/years/2018/03_04/Nextera/illumina_M00333_flowcellA_SampleIdNeg9_RunId0116_LaneId1/Neg9_CGAGGCTG-TCCTTACG_L001_R2_001.fastq.gz</td><td>NA</td><td>1</td><td>yes</td><td>illumina</td><td>RTA_1.18.54</td><td>A</td><td>e00ab70c4b70e14ff808bb6f1519ec4a</td><td>Neg.control.9</td></tr>\n",
       "\t<tr><td>75334</td><td>116</td><td>NickYoungblut</td><td>Nextera</td><td>MiSeq</td><td>3</td><td>2018</td><td>/ebio/abt6_sra/years/2018/03_04/Nextera/illumina_M00333_flowcellA_SampleIdNeg9_RunId0116_LaneId1/Neg9_CGAGGCTG-TCCTTACG_L001_R1_001.fastq.gz</td><td>NA</td><td>1</td><td>yes</td><td>illumina</td><td>RTA_1.18.54</td><td>A</td><td>a77de2c3d773432a2e831f7f0ceaed09</td><td>Neg.control.9</td></tr>\n",
       "\t<tr><td>⋮</td><td>⋮</td><td>⋮</td><td>⋮</td><td>⋮</td><td>⋮</td><td>⋮</td><td>⋮</td><td>⋮</td><td>⋮</td><td>⋮</td><td>⋮</td><td>⋮</td><td>⋮</td><td>⋮</td><td>⋮</td></tr>\n",
       "\t<tr><td>74803</td><td>116</td><td>NickYoungblut</td><td>Nextera</td><td>MiSeq</td><td>3</td><td>2018</td><td>/ebio/abt6_sra/years/2018/03_04/Nextera/illumina_M00333_flowcellA_SampleId1_RunId0116_LaneId1/1_TAAGGCGA-TAGATCGC_L001_R2_001.fastq.gz</td><td>NA</td><td>1</td><td>yes</td><td>illumina</td><td>RTA_1.18.54</td><td>A</td><td>d8569210df721c17fd3976d449148f99</td><td>1.Eurasian.Beaver</td></tr>\n",
       "\t<tr><td>74802</td><td>116</td><td>NickYoungblut</td><td>Nextera</td><td>MiSeq</td><td>3</td><td>2018</td><td>/ebio/abt6_sra/years/2018/03_04/Nextera/illumina_M00333_flowcellA_SampleId1_RunId0116_LaneId1/1_TAAGGCGA-TAGATCGC_L001_R1_001.fastq.gz</td><td>NA</td><td>1</td><td>yes</td><td>illumina</td><td>RTA_1.18.54</td><td>A</td><td>fcae7f4696b552339ad8a695ed86dcce</td><td>1.Eurasian.Beaver</td></tr>\n",
       "</tbody>\n",
       "</table>\n"
      ],
      "text/latex": [
       "A data.frame: 534 × 16\n",
       "\\begin{tabular}{llllllllllllllll}\n",
       " fileId & runId & person & project & machineId & month & year & fileLocation & description & laneId & demultiplexed & platform & RTA\\_version & flowcell & md5\\_sum & sampleId\\\\\n",
       " <int> & <int> & <fct> & <fct> & <fct> & <int> & <int> & <fct> & <lgl> & <int> & <fct> & <fct> & <fct> & <fct> & <fct> & <fct>\\\\\n",
       "\\hline\n",
       "\t 75335 & 116 & NickYoungblut & Nextera & MiSeq & 3 & 2018 & /ebio/abt6\\_sra/years/2018/03\\_04/Nextera/illumina\\_M00333\\_flowcellA\\_SampleIdNeg9\\_RunId0116\\_LaneId1/Neg9\\_CGAGGCTG-TCCTTACG\\_L001\\_R2\\_001.fastq.gz & NA & 1 & yes & illumina & RTA\\_1.18.54 & A & e00ab70c4b70e14ff808bb6f1519ec4a & Neg.control.9\\\\\n",
       "\t 75334 & 116 & NickYoungblut & Nextera & MiSeq & 3 & 2018 & /ebio/abt6\\_sra/years/2018/03\\_04/Nextera/illumina\\_M00333\\_flowcellA\\_SampleIdNeg9\\_RunId0116\\_LaneId1/Neg9\\_CGAGGCTG-TCCTTACG\\_L001\\_R1\\_001.fastq.gz & NA & 1 & yes & illumina & RTA\\_1.18.54 & A & a77de2c3d773432a2e831f7f0ceaed09 & Neg.control.9\\\\\n",
       "\t ⋮ & ⋮ & ⋮ & ⋮ & ⋮ & ⋮ & ⋮ & ⋮ & ⋮ & ⋮ & ⋮ & ⋮ & ⋮ & ⋮ & ⋮ & ⋮\\\\\n",
       "\t 74803 & 116 & NickYoungblut & Nextera & MiSeq & 3 & 2018 & /ebio/abt6\\_sra/years/2018/03\\_04/Nextera/illumina\\_M00333\\_flowcellA\\_SampleId1\\_RunId0116\\_LaneId1/1\\_TAAGGCGA-TAGATCGC\\_L001\\_R2\\_001.fastq.gz & NA & 1 & yes & illumina & RTA\\_1.18.54 & A & d8569210df721c17fd3976d449148f99 & 1.Eurasian.Beaver\\\\\n",
       "\t 74802 & 116 & NickYoungblut & Nextera & MiSeq & 3 & 2018 & /ebio/abt6\\_sra/years/2018/03\\_04/Nextera/illumina\\_M00333\\_flowcellA\\_SampleId1\\_RunId0116\\_LaneId1/1\\_TAAGGCGA-TAGATCGC\\_L001\\_R1\\_001.fastq.gz & NA & 1 & yes & illumina & RTA\\_1.18.54 & A & fcae7f4696b552339ad8a695ed86dcce & 1.Eurasian.Beaver\\\\\n",
       "\\end{tabular}\n"
      ],
      "text/markdown": [
       "\n",
       "A data.frame: 534 × 16\n",
       "\n",
       "| fileId &lt;int&gt; | runId &lt;int&gt; | person &lt;fct&gt; | project &lt;fct&gt; | machineId &lt;fct&gt; | month &lt;int&gt; | year &lt;int&gt; | fileLocation &lt;fct&gt; | description &lt;lgl&gt; | laneId &lt;int&gt; | demultiplexed &lt;fct&gt; | platform &lt;fct&gt; | RTA_version &lt;fct&gt; | flowcell &lt;fct&gt; | md5_sum &lt;fct&gt; | sampleId &lt;fct&gt; |\n",
       "|---|---|---|---|---|---|---|---|---|---|---|---|---|---|---|---|\n",
       "| 75335 | 116 | NickYoungblut | Nextera | MiSeq | 3 | 2018 | /ebio/abt6_sra/years/2018/03_04/Nextera/illumina_M00333_flowcellA_SampleIdNeg9_RunId0116_LaneId1/Neg9_CGAGGCTG-TCCTTACG_L001_R2_001.fastq.gz | NA | 1 | yes | illumina | RTA_1.18.54 | A | e00ab70c4b70e14ff808bb6f1519ec4a | Neg.control.9 |\n",
       "| 75334 | 116 | NickYoungblut | Nextera | MiSeq | 3 | 2018 | /ebio/abt6_sra/years/2018/03_04/Nextera/illumina_M00333_flowcellA_SampleIdNeg9_RunId0116_LaneId1/Neg9_CGAGGCTG-TCCTTACG_L001_R1_001.fastq.gz | NA | 1 | yes | illumina | RTA_1.18.54 | A | a77de2c3d773432a2e831f7f0ceaed09 | Neg.control.9 |\n",
       "| ⋮ | ⋮ | ⋮ | ⋮ | ⋮ | ⋮ | ⋮ | ⋮ | ⋮ | ⋮ | ⋮ | ⋮ | ⋮ | ⋮ | ⋮ | ⋮ |\n",
       "| 74803 | 116 | NickYoungblut | Nextera | MiSeq | 3 | 2018 | /ebio/abt6_sra/years/2018/03_04/Nextera/illumina_M00333_flowcellA_SampleId1_RunId0116_LaneId1/1_TAAGGCGA-TAGATCGC_L001_R2_001.fastq.gz | NA | 1 | yes | illumina | RTA_1.18.54 | A | d8569210df721c17fd3976d449148f99 | 1.Eurasian.Beaver |\n",
       "| 74802 | 116 | NickYoungblut | Nextera | MiSeq | 3 | 2018 | /ebio/abt6_sra/years/2018/03_04/Nextera/illumina_M00333_flowcellA_SampleId1_RunId0116_LaneId1/1_TAAGGCGA-TAGATCGC_L001_R1_001.fastq.gz | NA | 1 | yes | illumina | RTA_1.18.54 | A | fcae7f4696b552339ad8a695ed86dcce | 1.Eurasian.Beaver |\n",
       "\n"
      ],
      "text/plain": [
       "    fileId runId person        project machineId month year\n",
       "1   75335  116   NickYoungblut Nextera MiSeq     3     2018\n",
       "2   75334  116   NickYoungblut Nextera MiSeq     3     2018\n",
       "⋮   ⋮      ⋮     ⋮             ⋮       ⋮         ⋮     ⋮   \n",
       "533 74803  116   NickYoungblut Nextera MiSeq     3     2018\n",
       "534 74802  116   NickYoungblut Nextera MiSeq     3     2018\n",
       "    fileLocation                                                                                                                                \n",
       "1   /ebio/abt6_sra/years/2018/03_04/Nextera/illumina_M00333_flowcellA_SampleIdNeg9_RunId0116_LaneId1/Neg9_CGAGGCTG-TCCTTACG_L001_R2_001.fastq.gz\n",
       "2   /ebio/abt6_sra/years/2018/03_04/Nextera/illumina_M00333_flowcellA_SampleIdNeg9_RunId0116_LaneId1/Neg9_CGAGGCTG-TCCTTACG_L001_R1_001.fastq.gz\n",
       "⋮   ⋮                                                                                                                                           \n",
       "533 /ebio/abt6_sra/years/2018/03_04/Nextera/illumina_M00333_flowcellA_SampleId1_RunId0116_LaneId1/1_TAAGGCGA-TAGATCGC_L001_R2_001.fastq.gz      \n",
       "534 /ebio/abt6_sra/years/2018/03_04/Nextera/illumina_M00333_flowcellA_SampleId1_RunId0116_LaneId1/1_TAAGGCGA-TAGATCGC_L001_R1_001.fastq.gz      \n",
       "    description laneId demultiplexed platform RTA_version flowcell\n",
       "1   NA          1      yes           illumina RTA_1.18.54 A       \n",
       "2   NA          1      yes           illumina RTA_1.18.54 A       \n",
       "⋮   ⋮           ⋮      ⋮             ⋮        ⋮           ⋮       \n",
       "533 NA          1      yes           illumina RTA_1.18.54 A       \n",
       "534 NA          1      yes           illumina RTA_1.18.54 A       \n",
       "    md5_sum                          sampleId         \n",
       "1   e00ab70c4b70e14ff808bb6f1519ec4a Neg.control.9    \n",
       "2   a77de2c3d773432a2e831f7f0ceaed09 Neg.control.9    \n",
       "⋮   ⋮                                ⋮                \n",
       "533 d8569210df721c17fd3976d449148f99 1.Eurasian.Beaver\n",
       "534 fcae7f4696b552339ad8a695ed86dcce 1.Eurasian.Beaver"
      ]
     },
     "metadata": {},
     "output_type": "display_data"
    }
   ],
   "source": [
    "# renaming sample names\n",
    "sra_meta_tmp = sra_meta %>%\n",
    "    filter(runId == 116)\n",
    "overlap(sra_meta_tmp$sampleId, run116_rn_idx$Illumina_RunID) \n",
    "sra_meta_tmp1 = sra_meta_tmp %>%\n",
    "    inner_join(run116_rn_idx, c('sampleId'='Illumina_RunID')) %>%\n",
    "    dplyr::select(-sampleId) %>%\n",
    "    rename('sampleId' = Sample)\n",
    "sra_meta_tmp1 "
   ]
  },
  {
   "cell_type": "code",
   "execution_count": 86,
   "metadata": {
    "ExecuteTime": {
     "end_time": "2020-10-05T12:30:02.166893Z",
     "start_time": "2020-10-05T12:30:02.073Z"
    }
   },
   "outputs": [
    {
     "name": "stdout",
     "output_type": "stream",
     "text": [
      "intersect(x,y): 86 \n",
      "setdiff(x,y): 1 \n",
      "setdiff(y,x): 0 \n",
      "union(x,y): 87 \n"
     ]
    },
    {
     "data": {
      "text/html": [
       "<table>\n",
       "<caption>A data.frame: 172 × 16</caption>\n",
       "<thead>\n",
       "\t<tr><th scope=col>fileId</th><th scope=col>runId</th><th scope=col>person</th><th scope=col>project</th><th scope=col>machineId</th><th scope=col>month</th><th scope=col>year</th><th scope=col>fileLocation</th><th scope=col>description</th><th scope=col>laneId</th><th scope=col>demultiplexed</th><th scope=col>platform</th><th scope=col>RTA_version</th><th scope=col>flowcell</th><th scope=col>md5_sum</th><th scope=col>sampleId</th></tr>\n",
       "\t<tr><th scope=col>&lt;int&gt;</th><th scope=col>&lt;int&gt;</th><th scope=col>&lt;fct&gt;</th><th scope=col>&lt;fct&gt;</th><th scope=col>&lt;fct&gt;</th><th scope=col>&lt;int&gt;</th><th scope=col>&lt;int&gt;</th><th scope=col>&lt;fct&gt;</th><th scope=col>&lt;lgl&gt;</th><th scope=col>&lt;int&gt;</th><th scope=col>&lt;fct&gt;</th><th scope=col>&lt;fct&gt;</th><th scope=col>&lt;fct&gt;</th><th scope=col>&lt;fct&gt;</th><th scope=col>&lt;fct&gt;</th><th scope=col>&lt;fct&gt;</th></tr>\n",
       "</thead>\n",
       "<tbody>\n",
       "\t<tr><td>81481</td><td>126</td><td>NickYoungblut</td><td>Georg_animal_gut</td><td>MiSeq</td><td>5</td><td>2018</td><td>/ebio/abt6_sra/years/2018/05_17/Georg_animal_gut/illumina_M00333_flowcellA_SampleId384_RunId0126_LaneId1/384_GCTACGCT-CGCGGTTA_L001_R2_001.fastq.gz</td><td>NA</td><td>1</td><td>yes</td><td>illumina</td><td>RTA_1.18.54</td><td>A</td><td>28c74fefdb24586c0b8586466109aaf6</td><td>384.Eurasian.Lynx</td></tr>\n",
       "\t<tr><td>81480</td><td>126</td><td>NickYoungblut</td><td>Georg_animal_gut</td><td>MiSeq</td><td>5</td><td>2018</td><td>/ebio/abt6_sra/years/2018/05_17/Georg_animal_gut/illumina_M00333_flowcellA_SampleId384_RunId0126_LaneId1/384_GCTACGCT-CGCGGTTA_L001_R1_001.fastq.gz</td><td>NA</td><td>1</td><td>yes</td><td>illumina</td><td>RTA_1.18.54</td><td>A</td><td>2f525366fa07aea0c72e534cd6437469</td><td>384.Eurasian.Lynx</td></tr>\n",
       "\t<tr><td>⋮</td><td>⋮</td><td>⋮</td><td>⋮</td><td>⋮</td><td>⋮</td><td>⋮</td><td>⋮</td><td>⋮</td><td>⋮</td><td>⋮</td><td>⋮</td><td>⋮</td><td>⋮</td><td>⋮</td><td>⋮</td></tr>\n",
       "\t<tr><td>81309</td><td>126</td><td>NickYoungblut</td><td>Georg_animal_gut</td><td>MiSeq</td><td>5</td><td>2018</td><td>/ebio/abt6_sra/years/2018/05_17/Georg_animal_gut/illumina_M00333_flowcellA_SampleId2_RunId0126_LaneId1/2_TAAGGCGA-CTCTCTAT_L001_R2_001.fastq.gz</td><td>NA</td><td>1</td><td>yes</td><td>illumina</td><td>RTA_1.18.54</td><td>A</td><td>f55a878927a04010716b822a743a33c3</td><td>2.Raccoon.Dog</td></tr>\n",
       "\t<tr><td>81308</td><td>126</td><td>NickYoungblut</td><td>Georg_animal_gut</td><td>MiSeq</td><td>5</td><td>2018</td><td>/ebio/abt6_sra/years/2018/05_17/Georg_animal_gut/illumina_M00333_flowcellA_SampleId2_RunId0126_LaneId1/2_TAAGGCGA-CTCTCTAT_L001_R1_001.fastq.gz</td><td>NA</td><td>1</td><td>yes</td><td>illumina</td><td>RTA_1.18.54</td><td>A</td><td>fc2b6be124d4ba68a7898cac40bdfeb8</td><td>2.Raccoon.Dog</td></tr>\n",
       "</tbody>\n",
       "</table>\n"
      ],
      "text/latex": [
       "A data.frame: 172 × 16\n",
       "\\begin{tabular}{llllllllllllllll}\n",
       " fileId & runId & person & project & machineId & month & year & fileLocation & description & laneId & demultiplexed & platform & RTA\\_version & flowcell & md5\\_sum & sampleId\\\\\n",
       " <int> & <int> & <fct> & <fct> & <fct> & <int> & <int> & <fct> & <lgl> & <int> & <fct> & <fct> & <fct> & <fct> & <fct> & <fct>\\\\\n",
       "\\hline\n",
       "\t 81481 & 126 & NickYoungblut & Georg\\_animal\\_gut & MiSeq & 5 & 2018 & /ebio/abt6\\_sra/years/2018/05\\_17/Georg\\_animal\\_gut/illumina\\_M00333\\_flowcellA\\_SampleId384\\_RunId0126\\_LaneId1/384\\_GCTACGCT-CGCGGTTA\\_L001\\_R2\\_001.fastq.gz & NA & 1 & yes & illumina & RTA\\_1.18.54 & A & 28c74fefdb24586c0b8586466109aaf6 & 384.Eurasian.Lynx\\\\\n",
       "\t 81480 & 126 & NickYoungblut & Georg\\_animal\\_gut & MiSeq & 5 & 2018 & /ebio/abt6\\_sra/years/2018/05\\_17/Georg\\_animal\\_gut/illumina\\_M00333\\_flowcellA\\_SampleId384\\_RunId0126\\_LaneId1/384\\_GCTACGCT-CGCGGTTA\\_L001\\_R1\\_001.fastq.gz & NA & 1 & yes & illumina & RTA\\_1.18.54 & A & 2f525366fa07aea0c72e534cd6437469 & 384.Eurasian.Lynx\\\\\n",
       "\t ⋮ & ⋮ & ⋮ & ⋮ & ⋮ & ⋮ & ⋮ & ⋮ & ⋮ & ⋮ & ⋮ & ⋮ & ⋮ & ⋮ & ⋮ & ⋮\\\\\n",
       "\t 81309 & 126 & NickYoungblut & Georg\\_animal\\_gut & MiSeq & 5 & 2018 & /ebio/abt6\\_sra/years/2018/05\\_17/Georg\\_animal\\_gut/illumina\\_M00333\\_flowcellA\\_SampleId2\\_RunId0126\\_LaneId1/2\\_TAAGGCGA-CTCTCTAT\\_L001\\_R2\\_001.fastq.gz & NA & 1 & yes & illumina & RTA\\_1.18.54 & A & f55a878927a04010716b822a743a33c3 & 2.Raccoon.Dog\\\\\n",
       "\t 81308 & 126 & NickYoungblut & Georg\\_animal\\_gut & MiSeq & 5 & 2018 & /ebio/abt6\\_sra/years/2018/05\\_17/Georg\\_animal\\_gut/illumina\\_M00333\\_flowcellA\\_SampleId2\\_RunId0126\\_LaneId1/2\\_TAAGGCGA-CTCTCTAT\\_L001\\_R1\\_001.fastq.gz & NA & 1 & yes & illumina & RTA\\_1.18.54 & A & fc2b6be124d4ba68a7898cac40bdfeb8 & 2.Raccoon.Dog\\\\\n",
       "\\end{tabular}\n"
      ],
      "text/markdown": [
       "\n",
       "A data.frame: 172 × 16\n",
       "\n",
       "| fileId &lt;int&gt; | runId &lt;int&gt; | person &lt;fct&gt; | project &lt;fct&gt; | machineId &lt;fct&gt; | month &lt;int&gt; | year &lt;int&gt; | fileLocation &lt;fct&gt; | description &lt;lgl&gt; | laneId &lt;int&gt; | demultiplexed &lt;fct&gt; | platform &lt;fct&gt; | RTA_version &lt;fct&gt; | flowcell &lt;fct&gt; | md5_sum &lt;fct&gt; | sampleId &lt;fct&gt; |\n",
       "|---|---|---|---|---|---|---|---|---|---|---|---|---|---|---|---|\n",
       "| 81481 | 126 | NickYoungblut | Georg_animal_gut | MiSeq | 5 | 2018 | /ebio/abt6_sra/years/2018/05_17/Georg_animal_gut/illumina_M00333_flowcellA_SampleId384_RunId0126_LaneId1/384_GCTACGCT-CGCGGTTA_L001_R2_001.fastq.gz | NA | 1 | yes | illumina | RTA_1.18.54 | A | 28c74fefdb24586c0b8586466109aaf6 | 384.Eurasian.Lynx |\n",
       "| 81480 | 126 | NickYoungblut | Georg_animal_gut | MiSeq | 5 | 2018 | /ebio/abt6_sra/years/2018/05_17/Georg_animal_gut/illumina_M00333_flowcellA_SampleId384_RunId0126_LaneId1/384_GCTACGCT-CGCGGTTA_L001_R1_001.fastq.gz | NA | 1 | yes | illumina | RTA_1.18.54 | A | 2f525366fa07aea0c72e534cd6437469 | 384.Eurasian.Lynx |\n",
       "| ⋮ | ⋮ | ⋮ | ⋮ | ⋮ | ⋮ | ⋮ | ⋮ | ⋮ | ⋮ | ⋮ | ⋮ | ⋮ | ⋮ | ⋮ | ⋮ |\n",
       "| 81309 | 126 | NickYoungblut | Georg_animal_gut | MiSeq | 5 | 2018 | /ebio/abt6_sra/years/2018/05_17/Georg_animal_gut/illumina_M00333_flowcellA_SampleId2_RunId0126_LaneId1/2_TAAGGCGA-CTCTCTAT_L001_R2_001.fastq.gz | NA | 1 | yes | illumina | RTA_1.18.54 | A | f55a878927a04010716b822a743a33c3 | 2.Raccoon.Dog |\n",
       "| 81308 | 126 | NickYoungblut | Georg_animal_gut | MiSeq | 5 | 2018 | /ebio/abt6_sra/years/2018/05_17/Georg_animal_gut/illumina_M00333_flowcellA_SampleId2_RunId0126_LaneId1/2_TAAGGCGA-CTCTCTAT_L001_R1_001.fastq.gz | NA | 1 | yes | illumina | RTA_1.18.54 | A | fc2b6be124d4ba68a7898cac40bdfeb8 | 2.Raccoon.Dog |\n",
       "\n"
      ],
      "text/plain": [
       "    fileId runId person        project          machineId month year\n",
       "1   81481  126   NickYoungblut Georg_animal_gut MiSeq     5     2018\n",
       "2   81480  126   NickYoungblut Georg_animal_gut MiSeq     5     2018\n",
       "⋮   ⋮      ⋮     ⋮             ⋮                ⋮         ⋮     ⋮   \n",
       "171 81309  126   NickYoungblut Georg_animal_gut MiSeq     5     2018\n",
       "172 81308  126   NickYoungblut Georg_animal_gut MiSeq     5     2018\n",
       "    fileLocation                                                                                                                                       \n",
       "1   /ebio/abt6_sra/years/2018/05_17/Georg_animal_gut/illumina_M00333_flowcellA_SampleId384_RunId0126_LaneId1/384_GCTACGCT-CGCGGTTA_L001_R2_001.fastq.gz\n",
       "2   /ebio/abt6_sra/years/2018/05_17/Georg_animal_gut/illumina_M00333_flowcellA_SampleId384_RunId0126_LaneId1/384_GCTACGCT-CGCGGTTA_L001_R1_001.fastq.gz\n",
       "⋮   ⋮                                                                                                                                                  \n",
       "171 /ebio/abt6_sra/years/2018/05_17/Georg_animal_gut/illumina_M00333_flowcellA_SampleId2_RunId0126_LaneId1/2_TAAGGCGA-CTCTCTAT_L001_R2_001.fastq.gz    \n",
       "172 /ebio/abt6_sra/years/2018/05_17/Georg_animal_gut/illumina_M00333_flowcellA_SampleId2_RunId0126_LaneId1/2_TAAGGCGA-CTCTCTAT_L001_R1_001.fastq.gz    \n",
       "    description laneId demultiplexed platform RTA_version flowcell\n",
       "1   NA          1      yes           illumina RTA_1.18.54 A       \n",
       "2   NA          1      yes           illumina RTA_1.18.54 A       \n",
       "⋮   ⋮           ⋮      ⋮             ⋮        ⋮           ⋮       \n",
       "171 NA          1      yes           illumina RTA_1.18.54 A       \n",
       "172 NA          1      yes           illumina RTA_1.18.54 A       \n",
       "    md5_sum                          sampleId         \n",
       "1   28c74fefdb24586c0b8586466109aaf6 384.Eurasian.Lynx\n",
       "2   2f525366fa07aea0c72e534cd6437469 384.Eurasian.Lynx\n",
       "⋮   ⋮                                ⋮                \n",
       "171 f55a878927a04010716b822a743a33c3 2.Raccoon.Dog    \n",
       "172 fc2b6be124d4ba68a7898cac40bdfeb8 2.Raccoon.Dog    "
      ]
     },
     "metadata": {},
     "output_type": "display_data"
    }
   ],
   "source": [
    "# renaming sample names\n",
    "sra_meta_tmp = sra_meta %>%\n",
    "    filter(runId == 126)\n",
    "overlap(sra_meta_tmp$sampleId, run126_rn_idx$Illumina_RunID) \n",
    "sra_meta_tmp2 = sra_meta_tmp %>%\n",
    "    inner_join(run126_rn_idx, c('sampleId'='Illumina_RunID')) %>%\n",
    "    dplyr::select(-sampleId) %>%\n",
    "    rename('sampleId' = Sample)\n",
    "sra_meta_tmp2 "
   ]
  },
  {
   "cell_type": "code",
   "execution_count": 87,
   "metadata": {
    "ExecuteTime": {
     "end_time": "2020-10-05T12:30:02.283901Z",
     "start_time": "2020-10-05T12:30:02.191Z"
    }
   },
   "outputs": [
    {
     "data": {
      "text/html": [
       "<table>\n",
       "<caption>A data.frame: 1374 × 16</caption>\n",
       "<thead>\n",
       "\t<tr><th scope=col>fileId</th><th scope=col>runId</th><th scope=col>person</th><th scope=col>project</th><th scope=col>machineId</th><th scope=col>month</th><th scope=col>year</th><th scope=col>fileLocation</th><th scope=col>description</th><th scope=col>laneId</th><th scope=col>demultiplexed</th><th scope=col>platform</th><th scope=col>RTA_version</th><th scope=col>flowcell</th><th scope=col>md5_sum</th><th scope=col>sampleId</th></tr>\n",
       "\t<tr><th scope=col>&lt;int&gt;</th><th scope=col>&lt;int&gt;</th><th scope=col>&lt;fct&gt;</th><th scope=col>&lt;fct&gt;</th><th scope=col>&lt;fct&gt;</th><th scope=col>&lt;int&gt;</th><th scope=col>&lt;int&gt;</th><th scope=col>&lt;fct&gt;</th><th scope=col>&lt;lgl&gt;</th><th scope=col>&lt;int&gt;</th><th scope=col>&lt;fct&gt;</th><th scope=col>&lt;fct&gt;</th><th scope=col>&lt;fct&gt;</th><th scope=col>&lt;fct&gt;</th><th scope=col>&lt;fct&gt;</th><th scope=col>&lt;chr&gt;</th></tr>\n",
       "</thead>\n",
       "<tbody>\n",
       "\t<tr><td>75335</td><td>116</td><td>NickYoungblut</td><td>Nextera</td><td>MiSeq</td><td>3</td><td>2018</td><td>/ebio/abt6_sra/years/2018/03_04/Nextera/illumina_M00333_flowcellA_SampleIdNeg9_RunId0116_LaneId1/Neg9_CGAGGCTG-TCCTTACG_L001_R2_001.fastq.gz</td><td>NA</td><td>1</td><td>yes</td><td>illumina</td><td>RTA_1.18.54</td><td>A</td><td>e00ab70c4b70e14ff808bb6f1519ec4a</td><td>Neg_control_9</td></tr>\n",
       "\t<tr><td>75334</td><td>116</td><td>NickYoungblut</td><td>Nextera</td><td>MiSeq</td><td>3</td><td>2018</td><td>/ebio/abt6_sra/years/2018/03_04/Nextera/illumina_M00333_flowcellA_SampleIdNeg9_RunId0116_LaneId1/Neg9_CGAGGCTG-TCCTTACG_L001_R1_001.fastq.gz</td><td>NA</td><td>1</td><td>yes</td><td>illumina</td><td>RTA_1.18.54</td><td>A</td><td>a77de2c3d773432a2e831f7f0ceaed09</td><td>Neg_control_9</td></tr>\n",
       "\t<tr><td>⋮</td><td>⋮</td><td>⋮</td><td>⋮</td><td>⋮</td><td>⋮</td><td>⋮</td><td>⋮</td><td>⋮</td><td>⋮</td><td>⋮</td><td>⋮</td><td>⋮</td><td>⋮</td><td>⋮</td><td>⋮</td></tr>\n",
       "\t<tr><td>239416</td><td>190</td><td>sdauser</td><td>Georg_animal_gut_archaea_16S</td><td>MiSeq</td><td>3</td><td>2020</td><td>/ebio/abt6_sra/years/2020/03_02/Georg_animal_gut_archaea_16S/illumina_M00333_flowcellA_SampleIdX87_Garden_Dormouse_RunId0190_LaneId1/X87_Garden_Dormouse_ACTGAGCG-GGAACTCC_L001_R2_001.fastq.gz</td><td>NA</td><td>1</td><td>yes</td><td>illumina</td><td>RTA_1.18.54.4</td><td>A</td><td>c028dc3c60758b655832da3011961514</td><td>X87_Garden_Dormouse</td></tr>\n",
       "\t<tr><td>239415</td><td>190</td><td>sdauser</td><td>Georg_animal_gut_archaea_16S</td><td>MiSeq</td><td>3</td><td>2020</td><td>/ebio/abt6_sra/years/2020/03_02/Georg_animal_gut_archaea_16S/illumina_M00333_flowcellA_SampleIdX87_Garden_Dormouse_RunId0190_LaneId1/X87_Garden_Dormouse_ACTGAGCG-GGAACTCC_L001_R1_001.fastq.gz</td><td>NA</td><td>1</td><td>yes</td><td>illumina</td><td>RTA_1.18.54.4</td><td>A</td><td>2dbf69e104f80fb59fe1c482dc5b0c2a</td><td>X87_Garden_Dormouse</td></tr>\n",
       "</tbody>\n",
       "</table>\n"
      ],
      "text/latex": [
       "A data.frame: 1374 × 16\n",
       "\\begin{tabular}{llllllllllllllll}\n",
       " fileId & runId & person & project & machineId & month & year & fileLocation & description & laneId & demultiplexed & platform & RTA\\_version & flowcell & md5\\_sum & sampleId\\\\\n",
       " <int> & <int> & <fct> & <fct> & <fct> & <int> & <int> & <fct> & <lgl> & <int> & <fct> & <fct> & <fct> & <fct> & <fct> & <chr>\\\\\n",
       "\\hline\n",
       "\t 75335 & 116 & NickYoungblut & Nextera & MiSeq & 3 & 2018 & /ebio/abt6\\_sra/years/2018/03\\_04/Nextera/illumina\\_M00333\\_flowcellA\\_SampleIdNeg9\\_RunId0116\\_LaneId1/Neg9\\_CGAGGCTG-TCCTTACG\\_L001\\_R2\\_001.fastq.gz & NA & 1 & yes & illumina & RTA\\_1.18.54 & A & e00ab70c4b70e14ff808bb6f1519ec4a & Neg\\_control\\_9\\\\\n",
       "\t 75334 & 116 & NickYoungblut & Nextera & MiSeq & 3 & 2018 & /ebio/abt6\\_sra/years/2018/03\\_04/Nextera/illumina\\_M00333\\_flowcellA\\_SampleIdNeg9\\_RunId0116\\_LaneId1/Neg9\\_CGAGGCTG-TCCTTACG\\_L001\\_R1\\_001.fastq.gz & NA & 1 & yes & illumina & RTA\\_1.18.54 & A & a77de2c3d773432a2e831f7f0ceaed09 & Neg\\_control\\_9\\\\\n",
       "\t ⋮ & ⋮ & ⋮ & ⋮ & ⋮ & ⋮ & ⋮ & ⋮ & ⋮ & ⋮ & ⋮ & ⋮ & ⋮ & ⋮ & ⋮ & ⋮\\\\\n",
       "\t 239416 & 190 & sdauser & Georg\\_animal\\_gut\\_archaea\\_16S & MiSeq & 3 & 2020 & /ebio/abt6\\_sra/years/2020/03\\_02/Georg\\_animal\\_gut\\_archaea\\_16S/illumina\\_M00333\\_flowcellA\\_SampleIdX87\\_Garden\\_Dormouse\\_RunId0190\\_LaneId1/X87\\_Garden\\_Dormouse\\_ACTGAGCG-GGAACTCC\\_L001\\_R2\\_001.fastq.gz & NA & 1 & yes & illumina & RTA\\_1.18.54.4 & A & c028dc3c60758b655832da3011961514 & X87\\_Garden\\_Dormouse\\\\\n",
       "\t 239415 & 190 & sdauser & Georg\\_animal\\_gut\\_archaea\\_16S & MiSeq & 3 & 2020 & /ebio/abt6\\_sra/years/2020/03\\_02/Georg\\_animal\\_gut\\_archaea\\_16S/illumina\\_M00333\\_flowcellA\\_SampleIdX87\\_Garden\\_Dormouse\\_RunId0190\\_LaneId1/X87\\_Garden\\_Dormouse\\_ACTGAGCG-GGAACTCC\\_L001\\_R1\\_001.fastq.gz & NA & 1 & yes & illumina & RTA\\_1.18.54.4 & A & 2dbf69e104f80fb59fe1c482dc5b0c2a & X87\\_Garden\\_Dormouse\\\\\n",
       "\\end{tabular}\n"
      ],
      "text/markdown": [
       "\n",
       "A data.frame: 1374 × 16\n",
       "\n",
       "| fileId &lt;int&gt; | runId &lt;int&gt; | person &lt;fct&gt; | project &lt;fct&gt; | machineId &lt;fct&gt; | month &lt;int&gt; | year &lt;int&gt; | fileLocation &lt;fct&gt; | description &lt;lgl&gt; | laneId &lt;int&gt; | demultiplexed &lt;fct&gt; | platform &lt;fct&gt; | RTA_version &lt;fct&gt; | flowcell &lt;fct&gt; | md5_sum &lt;fct&gt; | sampleId &lt;chr&gt; |\n",
       "|---|---|---|---|---|---|---|---|---|---|---|---|---|---|---|---|\n",
       "| 75335 | 116 | NickYoungblut | Nextera | MiSeq | 3 | 2018 | /ebio/abt6_sra/years/2018/03_04/Nextera/illumina_M00333_flowcellA_SampleIdNeg9_RunId0116_LaneId1/Neg9_CGAGGCTG-TCCTTACG_L001_R2_001.fastq.gz | NA | 1 | yes | illumina | RTA_1.18.54 | A | e00ab70c4b70e14ff808bb6f1519ec4a | Neg_control_9 |\n",
       "| 75334 | 116 | NickYoungblut | Nextera | MiSeq | 3 | 2018 | /ebio/abt6_sra/years/2018/03_04/Nextera/illumina_M00333_flowcellA_SampleIdNeg9_RunId0116_LaneId1/Neg9_CGAGGCTG-TCCTTACG_L001_R1_001.fastq.gz | NA | 1 | yes | illumina | RTA_1.18.54 | A | a77de2c3d773432a2e831f7f0ceaed09 | Neg_control_9 |\n",
       "| ⋮ | ⋮ | ⋮ | ⋮ | ⋮ | ⋮ | ⋮ | ⋮ | ⋮ | ⋮ | ⋮ | ⋮ | ⋮ | ⋮ | ⋮ | ⋮ |\n",
       "| 239416 | 190 | sdauser | Georg_animal_gut_archaea_16S | MiSeq | 3 | 2020 | /ebio/abt6_sra/years/2020/03_02/Georg_animal_gut_archaea_16S/illumina_M00333_flowcellA_SampleIdX87_Garden_Dormouse_RunId0190_LaneId1/X87_Garden_Dormouse_ACTGAGCG-GGAACTCC_L001_R2_001.fastq.gz | NA | 1 | yes | illumina | RTA_1.18.54.4 | A | c028dc3c60758b655832da3011961514 | X87_Garden_Dormouse |\n",
       "| 239415 | 190 | sdauser | Georg_animal_gut_archaea_16S | MiSeq | 3 | 2020 | /ebio/abt6_sra/years/2020/03_02/Georg_animal_gut_archaea_16S/illumina_M00333_flowcellA_SampleIdX87_Garden_Dormouse_RunId0190_LaneId1/X87_Garden_Dormouse_ACTGAGCG-GGAACTCC_L001_R1_001.fastq.gz | NA | 1 | yes | illumina | RTA_1.18.54.4 | A | 2dbf69e104f80fb59fe1c482dc5b0c2a | X87_Garden_Dormouse |\n",
       "\n"
      ],
      "text/plain": [
       "     fileId runId person        project                      machineId month\n",
       "1    75335  116   NickYoungblut Nextera                      MiSeq     3    \n",
       "2    75334  116   NickYoungblut Nextera                      MiSeq     3    \n",
       "⋮    ⋮      ⋮     ⋮             ⋮                            ⋮         ⋮    \n",
       "1373 239416 190   sdauser       Georg_animal_gut_archaea_16S MiSeq     3    \n",
       "1374 239415 190   sdauser       Georg_animal_gut_archaea_16S MiSeq     3    \n",
       "     year\n",
       "1    2018\n",
       "2    2018\n",
       "⋮    ⋮   \n",
       "1373 2020\n",
       "1374 2020\n",
       "     fileLocation                                                                                                                                                                                   \n",
       "1    /ebio/abt6_sra/years/2018/03_04/Nextera/illumina_M00333_flowcellA_SampleIdNeg9_RunId0116_LaneId1/Neg9_CGAGGCTG-TCCTTACG_L001_R2_001.fastq.gz                                                   \n",
       "2    /ebio/abt6_sra/years/2018/03_04/Nextera/illumina_M00333_flowcellA_SampleIdNeg9_RunId0116_LaneId1/Neg9_CGAGGCTG-TCCTTACG_L001_R1_001.fastq.gz                                                   \n",
       "⋮    ⋮                                                                                                                                                                                              \n",
       "1373 /ebio/abt6_sra/years/2020/03_02/Georg_animal_gut_archaea_16S/illumina_M00333_flowcellA_SampleIdX87_Garden_Dormouse_RunId0190_LaneId1/X87_Garden_Dormouse_ACTGAGCG-GGAACTCC_L001_R2_001.fastq.gz\n",
       "1374 /ebio/abt6_sra/years/2020/03_02/Georg_animal_gut_archaea_16S/illumina_M00333_flowcellA_SampleIdX87_Garden_Dormouse_RunId0190_LaneId1/X87_Garden_Dormouse_ACTGAGCG-GGAACTCC_L001_R1_001.fastq.gz\n",
       "     description laneId demultiplexed platform RTA_version   flowcell\n",
       "1    NA          1      yes           illumina RTA_1.18.54   A       \n",
       "2    NA          1      yes           illumina RTA_1.18.54   A       \n",
       "⋮    ⋮           ⋮      ⋮             ⋮        ⋮             ⋮       \n",
       "1373 NA          1      yes           illumina RTA_1.18.54.4 A       \n",
       "1374 NA          1      yes           illumina RTA_1.18.54.4 A       \n",
       "     md5_sum                          sampleId           \n",
       "1    e00ab70c4b70e14ff808bb6f1519ec4a Neg_control_9      \n",
       "2    a77de2c3d773432a2e831f7f0ceaed09 Neg_control_9      \n",
       "⋮    ⋮                                ⋮                  \n",
       "1373 c028dc3c60758b655832da3011961514 X87_Garden_Dormouse\n",
       "1374 2dbf69e104f80fb59fe1c482dc5b0c2a X87_Garden_Dormouse"
      ]
     },
     "metadata": {},
     "output_type": "display_data"
    }
   ],
   "source": [
    "# re-combining \n",
    "sra_meta = rbind(sra_meta_tmp1, sra_meta_tmp2) %>%\n",
    "    rbind(sra_meta %>% filter(! runId %in% c(116,126))) %>%\n",
    "    mutate(sampleId = gsub('\\\\.', '_', sampleId),\n",
    "           sampleId = gsub('^([0-9])', 'X\\\\1', sampleId),\n",
    "           sampleId = gsub('^XF', 'F', sampleId))\n",
    "sra_meta"
   ]
  },
  {
   "cell_type": "code",
   "execution_count": 96,
   "metadata": {
    "ExecuteTime": {
     "end_time": "2020-10-05T12:31:31.025880Z",
     "start_time": "2020-10-05T12:31:30.898Z"
    }
   },
   "outputs": [
    {
     "name": "stdout",
     "output_type": "stream",
     "text": [
      "intersect(x,y): 185 \n",
      "setdiff(x,y): 0 \n",
      "setdiff(y,x): 117 \n",
      "union(x,y): 302 \n",
      "No. of unique No. of samples: 185 \n"
     ]
    },
    {
     "data": {
      "text/html": [
       "<table>\n",
       "<caption>A data.frame: 934 × 24</caption>\n",
       "<thead>\n",
       "\t<tr><th scope=col>fileId</th><th scope=col>runId</th><th scope=col>person</th><th scope=col>project</th><th scope=col>machineId</th><th scope=col>month</th><th scope=col>year</th><th scope=col>fileLocation</th><th scope=col>description</th><th scope=col>laneId</th><th scope=col>⋯</th><th scope=col>md5_sum</th><th scope=col>sampleId</th><th scope=col>scientific_name</th><th scope=col>host_taxid</th><th scope=col>class</th><th scope=col>order</th><th scope=col>family</th><th scope=col>genus</th><th scope=col>habitat</th><th scope=col>diet</th></tr>\n",
       "\t<tr><th scope=col>&lt;int&gt;</th><th scope=col>&lt;int&gt;</th><th scope=col>&lt;fct&gt;</th><th scope=col>&lt;fct&gt;</th><th scope=col>&lt;fct&gt;</th><th scope=col>&lt;int&gt;</th><th scope=col>&lt;int&gt;</th><th scope=col>&lt;fct&gt;</th><th scope=col>&lt;lgl&gt;</th><th scope=col>&lt;int&gt;</th><th scope=col>⋯</th><th scope=col>&lt;fct&gt;</th><th scope=col>&lt;chr&gt;</th><th scope=col>&lt;chr&gt;</th><th scope=col>&lt;int&gt;</th><th scope=col>&lt;chr&gt;</th><th scope=col>&lt;chr&gt;</th><th scope=col>&lt;chr&gt;</th><th scope=col>&lt;chr&gt;</th><th scope=col>&lt;chr&gt;</th><th scope=col>&lt;chr&gt;</th></tr>\n",
       "</thead>\n",
       "<tbody>\n",
       "\t<tr><td>75329</td><td>116</td><td>NickYoungblut</td><td>Nextera</td><td>MiSeq</td><td>3</td><td>2018</td><td>/ebio/abt6_sra/years/2018/03_04/Nextera/illumina_M00333_flowcellA_SampleId384_RunId0116_LaneId1/384_GCTACGCT-CGCGGTTA_L001_R2_001.fastq.gz</td><td>NA</td><td>1</td><td>⋯</td><td>16f0909fbd7464f02d0efe5b775d141b</td><td>X384_Eurasian_Lynx</td><td>Lynx_lynx</td><td>13125</td><td>Mammalia</td><td>Carnivora</td><td>Felidae</td><td>Lynx</td><td>terrestrial habitat</td><td>carnivore</td></tr>\n",
       "\t<tr><td>75328</td><td>116</td><td>NickYoungblut</td><td>Nextera</td><td>MiSeq</td><td>3</td><td>2018</td><td>/ebio/abt6_sra/years/2018/03_04/Nextera/illumina_M00333_flowcellA_SampleId384_RunId0116_LaneId1/384_GCTACGCT-CGCGGTTA_L001_R1_001.fastq.gz</td><td>NA</td><td>1</td><td>⋯</td><td>74264ec70c15e405b90e0f723cba1ae3</td><td>X384_Eurasian_Lynx</td><td>Lynx_lynx</td><td>13125</td><td>Mammalia</td><td>Carnivora</td><td>Felidae</td><td>Lynx</td><td>terrestrial habitat</td><td>carnivore</td></tr>\n",
       "\t<tr><td>⋮</td><td>⋮</td><td>⋮</td><td>⋮</td><td>⋮</td><td>⋮</td><td>⋮</td><td>⋮</td><td>⋮</td><td>⋮</td><td>⋱</td><td>⋮</td><td>⋮</td><td>⋮</td><td>⋮</td><td>⋮</td><td>⋮</td><td>⋮</td><td>⋮</td><td>⋮</td><td>⋮</td></tr>\n",
       "\t<tr><td>239418</td><td>190</td><td>sdauser</td><td>Georg_animal_gut_archaea_16S</td><td>MiSeq</td><td>3</td><td>2020</td><td>/ebio/abt6_sra/years/2020/03_02/Georg_animal_gut_archaea_16S/illumina_M00333_flowcellA_SampleIdX141_Red_cheeked_Gibbon_RunId0190_LaneId1/X141_Red_cheeked_Gibbon_CCTAAGAC-GGAACTCC_L001_R2_001.fastq.gz</td><td>NA</td><td>1</td><td>⋯</td><td>de503b6cec51808df0601551ca0fdb1f</td><td>X141_Red_cheeked_Gibbon</td><td>Nomascus_gabriellae</td><td>61852</td><td>Mammalia</td><td>Primates</td><td>Hylobatidae</td><td>Nomascus</td><td>terrestrial habitat</td><td>omnivore</td></tr>\n",
       "\t<tr><td>239417</td><td>190</td><td>sdauser</td><td>Georg_animal_gut_archaea_16S</td><td>MiSeq</td><td>3</td><td>2020</td><td>/ebio/abt6_sra/years/2020/03_02/Georg_animal_gut_archaea_16S/illumina_M00333_flowcellA_SampleIdX141_Red_cheeked_Gibbon_RunId0190_LaneId1/X141_Red_cheeked_Gibbon_CCTAAGAC-GGAACTCC_L001_R1_001.fastq.gz</td><td>NA</td><td>1</td><td>⋯</td><td>30b0b2d1a86532052d32b887249fa9ac</td><td>X141_Red_cheeked_Gibbon</td><td>Nomascus_gabriellae</td><td>61852</td><td>Mammalia</td><td>Primates</td><td>Hylobatidae</td><td>Nomascus</td><td>terrestrial habitat</td><td>omnivore</td></tr>\n",
       "</tbody>\n",
       "</table>\n"
      ],
      "text/latex": [
       "A data.frame: 934 × 24\n",
       "\\begin{tabular}{lllllllllllllllllllll}\n",
       " fileId & runId & person & project & machineId & month & year & fileLocation & description & laneId & ⋯ & md5\\_sum & sampleId & scientific\\_name & host\\_taxid & class & order & family & genus & habitat & diet\\\\\n",
       " <int> & <int> & <fct> & <fct> & <fct> & <int> & <int> & <fct> & <lgl> & <int> & ⋯ & <fct> & <chr> & <chr> & <int> & <chr> & <chr> & <chr> & <chr> & <chr> & <chr>\\\\\n",
       "\\hline\n",
       "\t 75329 & 116 & NickYoungblut & Nextera & MiSeq & 3 & 2018 & /ebio/abt6\\_sra/years/2018/03\\_04/Nextera/illumina\\_M00333\\_flowcellA\\_SampleId384\\_RunId0116\\_LaneId1/384\\_GCTACGCT-CGCGGTTA\\_L001\\_R2\\_001.fastq.gz & NA & 1 & ⋯ & 16f0909fbd7464f02d0efe5b775d141b & X384\\_Eurasian\\_Lynx & Lynx\\_lynx & 13125 & Mammalia & Carnivora & Felidae & Lynx & terrestrial habitat & carnivore\\\\\n",
       "\t 75328 & 116 & NickYoungblut & Nextera & MiSeq & 3 & 2018 & /ebio/abt6\\_sra/years/2018/03\\_04/Nextera/illumina\\_M00333\\_flowcellA\\_SampleId384\\_RunId0116\\_LaneId1/384\\_GCTACGCT-CGCGGTTA\\_L001\\_R1\\_001.fastq.gz & NA & 1 & ⋯ & 74264ec70c15e405b90e0f723cba1ae3 & X384\\_Eurasian\\_Lynx & Lynx\\_lynx & 13125 & Mammalia & Carnivora & Felidae & Lynx & terrestrial habitat & carnivore\\\\\n",
       "\t ⋮ & ⋮ & ⋮ & ⋮ & ⋮ & ⋮ & ⋮ & ⋮ & ⋮ & ⋮ & ⋱ & ⋮ & ⋮ & ⋮ & ⋮ & ⋮ & ⋮ & ⋮ & ⋮ & ⋮ & ⋮\\\\\n",
       "\t 239418 & 190 & sdauser & Georg\\_animal\\_gut\\_archaea\\_16S & MiSeq & 3 & 2020 & /ebio/abt6\\_sra/years/2020/03\\_02/Georg\\_animal\\_gut\\_archaea\\_16S/illumina\\_M00333\\_flowcellA\\_SampleIdX141\\_Red\\_cheeked\\_Gibbon\\_RunId0190\\_LaneId1/X141\\_Red\\_cheeked\\_Gibbon\\_CCTAAGAC-GGAACTCC\\_L001\\_R2\\_001.fastq.gz & NA & 1 & ⋯ & de503b6cec51808df0601551ca0fdb1f & X141\\_Red\\_cheeked\\_Gibbon & Nomascus\\_gabriellae & 61852 & Mammalia & Primates & Hylobatidae & Nomascus & terrestrial habitat & omnivore\\\\\n",
       "\t 239417 & 190 & sdauser & Georg\\_animal\\_gut\\_archaea\\_16S & MiSeq & 3 & 2020 & /ebio/abt6\\_sra/years/2020/03\\_02/Georg\\_animal\\_gut\\_archaea\\_16S/illumina\\_M00333\\_flowcellA\\_SampleIdX141\\_Red\\_cheeked\\_Gibbon\\_RunId0190\\_LaneId1/X141\\_Red\\_cheeked\\_Gibbon\\_CCTAAGAC-GGAACTCC\\_L001\\_R1\\_001.fastq.gz & NA & 1 & ⋯ & 30b0b2d1a86532052d32b887249fa9ac & X141\\_Red\\_cheeked\\_Gibbon & Nomascus\\_gabriellae & 61852 & Mammalia & Primates & Hylobatidae & Nomascus & terrestrial habitat & omnivore\\\\\n",
       "\\end{tabular}\n"
      ],
      "text/markdown": [
       "\n",
       "A data.frame: 934 × 24\n",
       "\n",
       "| fileId &lt;int&gt; | runId &lt;int&gt; | person &lt;fct&gt; | project &lt;fct&gt; | machineId &lt;fct&gt; | month &lt;int&gt; | year &lt;int&gt; | fileLocation &lt;fct&gt; | description &lt;lgl&gt; | laneId &lt;int&gt; | ⋯ ⋯ | md5_sum &lt;fct&gt; | sampleId &lt;chr&gt; | scientific_name &lt;chr&gt; | host_taxid &lt;int&gt; | class &lt;chr&gt; | order &lt;chr&gt; | family &lt;chr&gt; | genus &lt;chr&gt; | habitat &lt;chr&gt; | diet &lt;chr&gt; |\n",
       "|---|---|---|---|---|---|---|---|---|---|---|---|---|---|---|---|---|---|---|---|---|\n",
       "| 75329 | 116 | NickYoungblut | Nextera | MiSeq | 3 | 2018 | /ebio/abt6_sra/years/2018/03_04/Nextera/illumina_M00333_flowcellA_SampleId384_RunId0116_LaneId1/384_GCTACGCT-CGCGGTTA_L001_R2_001.fastq.gz | NA | 1 | ⋯ | 16f0909fbd7464f02d0efe5b775d141b | X384_Eurasian_Lynx | Lynx_lynx | 13125 | Mammalia | Carnivora | Felidae | Lynx | terrestrial habitat | carnivore |\n",
       "| 75328 | 116 | NickYoungblut | Nextera | MiSeq | 3 | 2018 | /ebio/abt6_sra/years/2018/03_04/Nextera/illumina_M00333_flowcellA_SampleId384_RunId0116_LaneId1/384_GCTACGCT-CGCGGTTA_L001_R1_001.fastq.gz | NA | 1 | ⋯ | 74264ec70c15e405b90e0f723cba1ae3 | X384_Eurasian_Lynx | Lynx_lynx | 13125 | Mammalia | Carnivora | Felidae | Lynx | terrestrial habitat | carnivore |\n",
       "| ⋮ | ⋮ | ⋮ | ⋮ | ⋮ | ⋮ | ⋮ | ⋮ | ⋮ | ⋮ | ⋱ | ⋮ | ⋮ | ⋮ | ⋮ | ⋮ | ⋮ | ⋮ | ⋮ | ⋮ | ⋮ |\n",
       "| 239418 | 190 | sdauser | Georg_animal_gut_archaea_16S | MiSeq | 3 | 2020 | /ebio/abt6_sra/years/2020/03_02/Georg_animal_gut_archaea_16S/illumina_M00333_flowcellA_SampleIdX141_Red_cheeked_Gibbon_RunId0190_LaneId1/X141_Red_cheeked_Gibbon_CCTAAGAC-GGAACTCC_L001_R2_001.fastq.gz | NA | 1 | ⋯ | de503b6cec51808df0601551ca0fdb1f | X141_Red_cheeked_Gibbon | Nomascus_gabriellae | 61852 | Mammalia | Primates | Hylobatidae | Nomascus | terrestrial habitat | omnivore |\n",
       "| 239417 | 190 | sdauser | Georg_animal_gut_archaea_16S | MiSeq | 3 | 2020 | /ebio/abt6_sra/years/2020/03_02/Georg_animal_gut_archaea_16S/illumina_M00333_flowcellA_SampleIdX141_Red_cheeked_Gibbon_RunId0190_LaneId1/X141_Red_cheeked_Gibbon_CCTAAGAC-GGAACTCC_L001_R1_001.fastq.gz | NA | 1 | ⋯ | 30b0b2d1a86532052d32b887249fa9ac | X141_Red_cheeked_Gibbon | Nomascus_gabriellae | 61852 | Mammalia | Primates | Hylobatidae | Nomascus | terrestrial habitat | omnivore |\n",
       "\n"
      ],
      "text/plain": [
       "    fileId runId person        project                      machineId month\n",
       "1   75329  116   NickYoungblut Nextera                      MiSeq     3    \n",
       "2   75328  116   NickYoungblut Nextera                      MiSeq     3    \n",
       "⋮   ⋮      ⋮     ⋮             ⋮                            ⋮         ⋮    \n",
       "933 239418 190   sdauser       Georg_animal_gut_archaea_16S MiSeq     3    \n",
       "934 239417 190   sdauser       Georg_animal_gut_archaea_16S MiSeq     3    \n",
       "    year\n",
       "1   2018\n",
       "2   2018\n",
       "⋮   ⋮   \n",
       "933 2020\n",
       "934 2020\n",
       "    fileLocation                                                                                                                                                                                           \n",
       "1   /ebio/abt6_sra/years/2018/03_04/Nextera/illumina_M00333_flowcellA_SampleId384_RunId0116_LaneId1/384_GCTACGCT-CGCGGTTA_L001_R2_001.fastq.gz                                                             \n",
       "2   /ebio/abt6_sra/years/2018/03_04/Nextera/illumina_M00333_flowcellA_SampleId384_RunId0116_LaneId1/384_GCTACGCT-CGCGGTTA_L001_R1_001.fastq.gz                                                             \n",
       "⋮   ⋮                                                                                                                                                                                                      \n",
       "933 /ebio/abt6_sra/years/2020/03_02/Georg_animal_gut_archaea_16S/illumina_M00333_flowcellA_SampleIdX141_Red_cheeked_Gibbon_RunId0190_LaneId1/X141_Red_cheeked_Gibbon_CCTAAGAC-GGAACTCC_L001_R2_001.fastq.gz\n",
       "934 /ebio/abt6_sra/years/2020/03_02/Georg_animal_gut_archaea_16S/illumina_M00333_flowcellA_SampleIdX141_Red_cheeked_Gibbon_RunId0190_LaneId1/X141_Red_cheeked_Gibbon_CCTAAGAC-GGAACTCC_L001_R1_001.fastq.gz\n",
       "    description laneId ⋯ md5_sum                         \n",
       "1   NA          1      ⋯ 16f0909fbd7464f02d0efe5b775d141b\n",
       "2   NA          1      ⋯ 74264ec70c15e405b90e0f723cba1ae3\n",
       "⋮   ⋮           ⋮      ⋱ ⋮                               \n",
       "933 NA          1      ⋯ de503b6cec51808df0601551ca0fdb1f\n",
       "934 NA          1      ⋯ 30b0b2d1a86532052d32b887249fa9ac\n",
       "    sampleId                scientific_name     host_taxid class    order    \n",
       "1   X384_Eurasian_Lynx      Lynx_lynx           13125      Mammalia Carnivora\n",
       "2   X384_Eurasian_Lynx      Lynx_lynx           13125      Mammalia Carnivora\n",
       "⋮   ⋮                       ⋮                   ⋮          ⋮        ⋮        \n",
       "933 X141_Red_cheeked_Gibbon Nomascus_gabriellae 61852      Mammalia Primates \n",
       "934 X141_Red_cheeked_Gibbon Nomascus_gabriellae 61852      Mammalia Primates \n",
       "    family      genus    habitat             diet     \n",
       "1   Felidae     Lynx     terrestrial habitat carnivore\n",
       "2   Felidae     Lynx     terrestrial habitat carnivore\n",
       "⋮   ⋮           ⋮        ⋮                   ⋮        \n",
       "933 Hylobatidae Nomascus terrestrial habitat omnivore \n",
       "934 Hylobatidae Nomascus terrestrial habitat omnivore "
      ]
     },
     "metadata": {},
     "output_type": "display_data"
    }
   ],
   "source": [
    "# filtering to just final samples\n",
    "overlap(meta$Sample, sra_meta$sampleId)\n",
    "sra_meta_j = sra_meta %>%\n",
    "    inner_join(meta, c('sampleId'='Sample'))\n",
    "sra_meta_j$sampleId %>% unique_n('No. of samples')\n",
    "sra_meta_j"
   ]
  },
  {
   "cell_type": "markdown",
   "metadata": {},
   "source": [
    "## Summary"
   ]
  },
  {
   "cell_type": "code",
   "execution_count": 94,
   "metadata": {
    "ExecuteTime": {
     "end_time": "2020-10-05T12:31:11.850901Z",
     "start_time": "2020-10-05T12:31:11.819Z"
    }
   },
   "outputs": [
    {
     "data": {
      "text/plain": [
       ".\n",
       "116 122 126 189 190 \n",
       "346 270 136 150  32 "
      ]
     },
     "metadata": {},
     "output_type": "display_data"
    },
    {
     "data": {
      "text/plain": [
       ".\n",
       "                     Nextera             Georg_animal_gut \n",
       "                         346                          406 \n",
       "Georg_animal_gut_archaea_16S \n",
       "                         182 "
      ]
     },
     "metadata": {},
     "output_type": "display_data"
    }
   ],
   "source": [
    "# summary\n",
    "sra_meta_j %>% .$runId %>% table\n",
    "sra_meta_j %>% .$project %>% table"
   ]
  },
  {
   "cell_type": "code",
   "execution_count": 95,
   "metadata": {
    "ExecuteTime": {
     "end_time": "2020-10-05T12:31:16.520666Z",
     "start_time": "2020-10-05T12:31:16.490Z"
    }
   },
   "outputs": [
    {
     "data": {
      "text/plain": [
       ".\n",
       "                  F90_Domestic_Dog       X237_Red_shanked_Douc_Langur \n",
       "                                10                                 10 \n",
       "           X396_Morelets_crocodile                X88_European_Rabbit \n",
       "                                10                                 10 \n",
       "                      X109_Red_Fox                X116_Common_Kestrel \n",
       "                                 8                                  8 \n",
       "           X141_Red_cheeked_Gibbon                    X154_Tree_Shrew \n",
       "                                 8                                  8 \n",
       "          X172_European_Greenfinch                X23_Garden_Dormouse \n",
       "                                 8                                  8 \n",
       "             X236_Pygmy_Slow_Loris                X238_Hanuman_Langur \n",
       "                                 8                                  8 \n",
       "               X247_Common_Hamster         X266_Western_Marsh_Harrier \n",
       "                                 8                                  8 \n",
       "              X270_Common_Pheasant               X271_Common_Pheasant \n",
       "                                 8                                  8 \n",
       "        X280_Western_Grey_Kangaroo                         X283_Koala \n",
       "                                 8                                  8 \n",
       "         X286_Short_beaked_Echidna              X287_Common_Brushtail \n",
       "                                 8                                  8 \n",
       "        X290_Eastern_Grey_Kangaroo          X338_White_beaked_Dolphin \n",
       "                                 8                                  8 \n",
       "         X339_White_beaked_Dolphin                   X34_Mallard_Duck \n",
       "                                 8                                  8 \n",
       "      X340_Western_Lowland_Gorilla                   X350_Smooth_Newt \n",
       "                                 8                                  8 \n",
       "X363_Desmarests_Spiny_Pocket_Mouse      X390_European_Ground_Squirrel \n",
       "                                 8                                  8 \n",
       "             X394_Przewalski_horse                       X411_Leopard \n",
       "                                 8                                  8 \n",
       "          X421_Common_Hippopotamus                       F35_Red_Deer \n",
       "                                 8                                  6 \n",
       "                     F66_Wild_Boar        X111_West_European_Hedgehog \n",
       "                                 6                                  6 \n",
       "               X117_Long_eared_Owl                   X125_Common_Carp \n",
       "                                 6                                  6 \n",
       "                   X157_Grey_Heron            X158_White_tailed_Eagle \n",
       "                                 6                                  6 \n",
       "                  X16_Fat_Dormouse                     X170_Tawny_Owl \n",
       "                                 6                                  6 \n",
       "                   X194_Agile_Frog                         X218_Goose \n",
       "                                 6                                  6 \n",
       "            X233_Aesculapian_Snake                  X234_Beech_Marten \n",
       "                                 6                                  6 \n",
       "X240_Southern_White_cheeked_Gibbon           X241_Italian_wall_lizard \n",
       "                                 6                                  6 \n",
       "                X252_Eurasian_Lynx                 X305_European_Hare \n",
       "                                 6                                  6 \n",
       "                       X31_Chicken                  X32_Greylag_Goose \n",
       "                                 6                                  6 \n",
       "                 X326_Silver_Bream                  X327_Silver_Bream \n",
       "                                 6                                  6 \n",
       "                X328_Prussian_Carp                    X33_Wild_Turkey \n",
       "                                 6                                  6 \n",
       "      X341_Western_Lowland_Gorilla                   X351_Grass_Snake \n",
       "                                 6                                  6 \n",
       "                     X352_Kinkajou                       X353_Raccoon \n",
       "                                 6                                  6 \n",
       "            X356_Northern_Tamandua      X368_European_Ground_Squirrel \n",
       "                                 6                                  6 \n",
       "                          X372_Emu                     X381_Wild_Boar \n",
       "                                 6                                  6 \n",
       "                  X382_Arctic_Wolf                 X40_Bactrian_Camel \n",
       "                                 6                                  6 \n",
       "        X408_African_Bush_Elephant                           X41_Pika \n",
       "                                 6                                  6 \n",
       "                X414_Vervet_Monkey              X415_White_Rhinoceros \n",
       "                                 6                                  6 \n",
       "              X419_African_Buffalo                X43_European_Badger \n",
       "                                 6                                  6 \n",
       "                 X7_European_Otter                   X95_Meadow_Viper \n",
       "                                 6                                  6 \n",
       "                  F14_Common_Bream                       F36_Red_Deer \n",
       "                                 4                                  4 \n",
       "                   F44_Fallow_Deer                       F45_Red_Deer \n",
       "                                 4                                  4 \n",
       "                      F46_Red_Deer                       F47_Red_Deer \n",
       "                                 4                                  4 \n",
       "                      F48_Red_Deer                        F53_Mouflon \n",
       "                                 4                                  4 \n",
       "                      F68_Red_Deer                       F69_Red_Deer \n",
       "                                 4                                  4 \n",
       "                      F70_Red_Deer                       F80_Red_Deer \n",
       "                                 4                                  4 \n",
       "                        X101_Horse                         X102_Kulan \n",
       "                                 4                                  4 \n",
       "                        X11_Onager                      X119_Ural_Owl \n",
       "                                 4                                  4 \n",
       "                  X121_Raccoon_Dog                     X122_Wild_Boar \n",
       "                                 4                                  4 \n",
       "               X123_Alpine_Chamois                 X128_Alpine_Marmot \n",
       "                                 4                                  4 \n",
       "                  X129_Alpine_Ibex                           X13_Wolf \n",
       "                                 4                                  4 \n",
       "                  X130_Alpine_Ibex                X131_Rock_Ptarmigan \n",
       "                                 4                                  4 \n",
       "                        X135_Horse                          X137_Gaur \n",
       "                                 4                                  4 \n",
       "                         X138_Gaur                        X139_Sambar \n",
       "                                 4                                  4 \n",
       "                       X140_Sambar                        X146_Cattle \n",
       "                                 4                                  4 \n",
       "                     X15_Tawny_Owl                     X153_Bank_Vole \n",
       "                                 4                                  4 \n",
       "                X164_Greylag_Goose                     X174_Great_Tit \n",
       "                                 4                                  4 \n",
       "                        X179_Roach                      X203_Red_Deer \n",
       "                                 4                                  4 \n",
       "                    X206_Red_Sheep                         X212_Goose \n",
       "                                 4                                  4 \n",
       "                        X213_Goose                         X214_Goose \n",
       "                                 4                                  4 \n",
       "                        X215_Goose                         X219_Goose \n",
       "                                 4                                  4 \n",
       "               X22_European_Rabbit                   X221_Alpine_Ibex \n",
       "                                 4                                  4 \n",
       "                 X230_Carrion_Crow            X242_Dalmatian_Tortoise \n",
       "                                 4                                  4 \n",
       "                    X259_Mute_Swan                     X260_Blackbird \n",
       "                                 4                                  4 \n",
       "        X265_Western_Marsh_Harrier                          X268_Rook \n",
       "                                 4                                  4 \n",
       "        X279_Western_Grey_Kangaroo                X281_Tammar_Wallaby \n",
       "                                 4                                  4 \n",
       "         X285_Short_beaked_Echidna              X288_Common_Brushtail \n",
       "                                 4                                  4 \n",
       "        X289_Eastern_Grey_Kangaroo        X292_Central_Bearded_Dragon \n",
       "                                 4                                  4 \n",
       "                     X320_Red_Deer                           X330_Ide \n",
       "                                 4                                  4 \n",
       "                    X333_Gray_Seal                     X336_Sei_Whale \n",
       "                                 4                                  4 \n",
       "            X344_Indian_Rhinoceros                   X349_Smooth_Newt \n",
       "                                 4                                  4 \n",
       "            X357_Northern_Tamandua             X360_White_tailed_Deer \n",
       "                                 4                                  4 \n",
       "                        X369_Koala         X370_African_Bush_Elephant \n",
       "                                 4                                  4 \n",
       "      X371_Linnaeus_Two_toed_Sloth                         X376_Kulan \n",
       "                                 4                                  4 \n",
       "                 X378_Fat_Sand_Rat                     X380_Wild_Boar \n",
       "                                 4                                  4 \n",
       "                X384_Eurasian_Lynx             X389_Indian_Rhinoceros \n",
       "                                 4                                  4 \n",
       "     X391_European_Ground_Squirrel              X395_Przewalski_horse \n",
       "                                 4                                  4 \n",
       "                X403_Chacma_Baboon          X404_Brown_Greater_Galago \n",
       "                                 4                                  4 \n",
       "               X405_Nile_Crocodile         X407_African_Bush_Elephant \n",
       "                                 4                                  4 \n",
       "                       X409_Impala                        X410_Impala \n",
       "                                 4                                  4 \n",
       "             X416_White_Rhinoceros                       X417_Giraffe \n",
       "                                 4                                  4 \n",
       "                      X418_Giraffe               X42_Goitered_Gazelle \n",
       "                                 4                                  4 \n",
       "                       X420_Cattle           X422_Common_Hippopotamus \n",
       "                                 4                                  4 \n",
       "                       X423_Quagga                        X424_Quagga \n",
       "                                 4                                  4 \n",
       "                     X426_Ural_Owl      X427_Great_Spotted_Woodpecker \n",
       "                                 4                                  4 \n",
       "        X428_African_Bush_Elephant                       X429_Giraffe \n",
       "                                 4                                  4 \n",
       "                      X430_Giraffe                 X432_Vervet_Monkey \n",
       "                                 4                                  4 \n",
       "              X434_Blue_Wildebeest                X435_Bactrian_Camel \n",
       "                                 4                                  4 \n",
       "                 X60_European_Chub                        X66_Mouflon \n",
       "                                 4                                  4 \n",
       "              X73_One_humped_Camel                         X77_Onager \n",
       "                                 4                                  4 \n",
       "                  X85_Domestic_Dog                      X94_Mangalica \n",
       "                                 4                                  4 \n",
       "                 X96_European_Hare                F157a_European_Toad \n",
       "                                 4                                  2 \n",
       "                X127_Alpine_Marmot                 X133_Domestic_Goat \n",
       "                                 2                                  2 \n",
       "                X134_Domestic_Goat                  X195_Domestic_Cat \n",
       "                                 2                                  2 \n",
       "                 X3_Alpine_Chamois          X359_Brown_throated_Sloth \n",
       "                                 2                                  2 \n",
       "                       X431_Quagga                   X67_European_Roe \n",
       "                                 2                                  2 \n",
       "                     X93_Red_Sheep \n",
       "                                 2 "
      ]
     },
     "metadata": {},
     "output_type": "display_data"
    }
   ],
   "source": [
    "sra_meta_j %>% .$sampleId %>% table %>% sort(decreasing=TRUE)"
   ]
  },
  {
   "cell_type": "markdown",
   "metadata": {},
   "source": [
    "## Writing table of all raw read files\n",
    "\n",
    "* all files to upload \n",
    "* sequences used in the final 16S-arch dataset"
   ]
  },
  {
   "cell_type": "code",
   "execution_count": 100,
   "metadata": {
    "ExecuteTime": {
     "end_time": "2020-10-05T12:49:24.052218Z",
     "start_time": "2020-10-05T12:49:23.874Z"
    }
   },
   "outputs": [
    {
     "data": {
      "text/html": [
       "<table>\n",
       "<caption>A data.frame: 934 × 16</caption>\n",
       "<thead>\n",
       "\t<tr><th scope=col>fileId</th><th scope=col>runId</th><th scope=col>sampleId</th><th scope=col>person</th><th scope=col>project</th><th scope=col>machineId</th><th scope=col>month</th><th scope=col>year</th><th scope=col>fileLocation</th><th scope=col>description</th><th scope=col>laneId</th><th scope=col>demultiplexed</th><th scope=col>platform</th><th scope=col>RTA_version</th><th scope=col>flowcell</th><th scope=col>md5_sum</th></tr>\n",
       "\t<tr><th scope=col>&lt;int&gt;</th><th scope=col>&lt;int&gt;</th><th scope=col>&lt;chr&gt;</th><th scope=col>&lt;fct&gt;</th><th scope=col>&lt;fct&gt;</th><th scope=col>&lt;fct&gt;</th><th scope=col>&lt;int&gt;</th><th scope=col>&lt;int&gt;</th><th scope=col>&lt;fct&gt;</th><th scope=col>&lt;lgl&gt;</th><th scope=col>&lt;int&gt;</th><th scope=col>&lt;fct&gt;</th><th scope=col>&lt;fct&gt;</th><th scope=col>&lt;fct&gt;</th><th scope=col>&lt;fct&gt;</th><th scope=col>&lt;fct&gt;</th></tr>\n",
       "</thead>\n",
       "<tbody>\n",
       "\t<tr><td>75329</td><td>116</td><td>X384_Eurasian_Lynx</td><td>NickYoungblut</td><td>Nextera</td><td>MiSeq</td><td>3</td><td>2018</td><td>/ebio/abt6_sra/years/2018/03_04/Nextera/illumina_M00333_flowcellA_SampleId384_RunId0116_LaneId1/384_GCTACGCT-CGCGGTTA_L001_R2_001.fastq.gz</td><td>NA</td><td>1</td><td>yes</td><td>illumina</td><td>RTA_1.18.54</td><td>A</td><td>16f0909fbd7464f02d0efe5b775d141b</td></tr>\n",
       "\t<tr><td>75328</td><td>116</td><td>X384_Eurasian_Lynx</td><td>NickYoungblut</td><td>Nextera</td><td>MiSeq</td><td>3</td><td>2018</td><td>/ebio/abt6_sra/years/2018/03_04/Nextera/illumina_M00333_flowcellA_SampleId384_RunId0116_LaneId1/384_GCTACGCT-CGCGGTTA_L001_R1_001.fastq.gz</td><td>NA</td><td>1</td><td>yes</td><td>illumina</td><td>RTA_1.18.54</td><td>A</td><td>74264ec70c15e405b90e0f723cba1ae3</td></tr>\n",
       "\t<tr><td>⋮</td><td>⋮</td><td>⋮</td><td>⋮</td><td>⋮</td><td>⋮</td><td>⋮</td><td>⋮</td><td>⋮</td><td>⋮</td><td>⋮</td><td>⋮</td><td>⋮</td><td>⋮</td><td>⋮</td><td>⋮</td></tr>\n",
       "\t<tr><td>239418</td><td>190</td><td>X141_Red_cheeked_Gibbon</td><td>sdauser</td><td>Georg_animal_gut_archaea_16S</td><td>MiSeq</td><td>3</td><td>2020</td><td>/ebio/abt6_sra/years/2020/03_02/Georg_animal_gut_archaea_16S/illumina_M00333_flowcellA_SampleIdX141_Red_cheeked_Gibbon_RunId0190_LaneId1/X141_Red_cheeked_Gibbon_CCTAAGAC-GGAACTCC_L001_R2_001.fastq.gz</td><td>NA</td><td>1</td><td>yes</td><td>illumina</td><td>RTA_1.18.54.4</td><td>A</td><td>de503b6cec51808df0601551ca0fdb1f</td></tr>\n",
       "\t<tr><td>239417</td><td>190</td><td>X141_Red_cheeked_Gibbon</td><td>sdauser</td><td>Georg_animal_gut_archaea_16S</td><td>MiSeq</td><td>3</td><td>2020</td><td>/ebio/abt6_sra/years/2020/03_02/Georg_animal_gut_archaea_16S/illumina_M00333_flowcellA_SampleIdX141_Red_cheeked_Gibbon_RunId0190_LaneId1/X141_Red_cheeked_Gibbon_CCTAAGAC-GGAACTCC_L001_R1_001.fastq.gz</td><td>NA</td><td>1</td><td>yes</td><td>illumina</td><td>RTA_1.18.54.4</td><td>A</td><td>30b0b2d1a86532052d32b887249fa9ac</td></tr>\n",
       "</tbody>\n",
       "</table>\n"
      ],
      "text/latex": [
       "A data.frame: 934 × 16\n",
       "\\begin{tabular}{llllllllllllllll}\n",
       " fileId & runId & sampleId & person & project & machineId & month & year & fileLocation & description & laneId & demultiplexed & platform & RTA\\_version & flowcell & md5\\_sum\\\\\n",
       " <int> & <int> & <chr> & <fct> & <fct> & <fct> & <int> & <int> & <fct> & <lgl> & <int> & <fct> & <fct> & <fct> & <fct> & <fct>\\\\\n",
       "\\hline\n",
       "\t 75329 & 116 & X384\\_Eurasian\\_Lynx & NickYoungblut & Nextera & MiSeq & 3 & 2018 & /ebio/abt6\\_sra/years/2018/03\\_04/Nextera/illumina\\_M00333\\_flowcellA\\_SampleId384\\_RunId0116\\_LaneId1/384\\_GCTACGCT-CGCGGTTA\\_L001\\_R2\\_001.fastq.gz & NA & 1 & yes & illumina & RTA\\_1.18.54 & A & 16f0909fbd7464f02d0efe5b775d141b\\\\\n",
       "\t 75328 & 116 & X384\\_Eurasian\\_Lynx & NickYoungblut & Nextera & MiSeq & 3 & 2018 & /ebio/abt6\\_sra/years/2018/03\\_04/Nextera/illumina\\_M00333\\_flowcellA\\_SampleId384\\_RunId0116\\_LaneId1/384\\_GCTACGCT-CGCGGTTA\\_L001\\_R1\\_001.fastq.gz & NA & 1 & yes & illumina & RTA\\_1.18.54 & A & 74264ec70c15e405b90e0f723cba1ae3\\\\\n",
       "\t ⋮ & ⋮ & ⋮ & ⋮ & ⋮ & ⋮ & ⋮ & ⋮ & ⋮ & ⋮ & ⋮ & ⋮ & ⋮ & ⋮ & ⋮ & ⋮\\\\\n",
       "\t 239418 & 190 & X141\\_Red\\_cheeked\\_Gibbon & sdauser & Georg\\_animal\\_gut\\_archaea\\_16S & MiSeq & 3 & 2020 & /ebio/abt6\\_sra/years/2020/03\\_02/Georg\\_animal\\_gut\\_archaea\\_16S/illumina\\_M00333\\_flowcellA\\_SampleIdX141\\_Red\\_cheeked\\_Gibbon\\_RunId0190\\_LaneId1/X141\\_Red\\_cheeked\\_Gibbon\\_CCTAAGAC-GGAACTCC\\_L001\\_R2\\_001.fastq.gz & NA & 1 & yes & illumina & RTA\\_1.18.54.4 & A & de503b6cec51808df0601551ca0fdb1f\\\\\n",
       "\t 239417 & 190 & X141\\_Red\\_cheeked\\_Gibbon & sdauser & Georg\\_animal\\_gut\\_archaea\\_16S & MiSeq & 3 & 2020 & /ebio/abt6\\_sra/years/2020/03\\_02/Georg\\_animal\\_gut\\_archaea\\_16S/illumina\\_M00333\\_flowcellA\\_SampleIdX141\\_Red\\_cheeked\\_Gibbon\\_RunId0190\\_LaneId1/X141\\_Red\\_cheeked\\_Gibbon\\_CCTAAGAC-GGAACTCC\\_L001\\_R1\\_001.fastq.gz & NA & 1 & yes & illumina & RTA\\_1.18.54.4 & A & 30b0b2d1a86532052d32b887249fa9ac\\\\\n",
       "\\end{tabular}\n"
      ],
      "text/markdown": [
       "\n",
       "A data.frame: 934 × 16\n",
       "\n",
       "| fileId &lt;int&gt; | runId &lt;int&gt; | sampleId &lt;chr&gt; | person &lt;fct&gt; | project &lt;fct&gt; | machineId &lt;fct&gt; | month &lt;int&gt; | year &lt;int&gt; | fileLocation &lt;fct&gt; | description &lt;lgl&gt; | laneId &lt;int&gt; | demultiplexed &lt;fct&gt; | platform &lt;fct&gt; | RTA_version &lt;fct&gt; | flowcell &lt;fct&gt; | md5_sum &lt;fct&gt; |\n",
       "|---|---|---|---|---|---|---|---|---|---|---|---|---|---|---|---|\n",
       "| 75329 | 116 | X384_Eurasian_Lynx | NickYoungblut | Nextera | MiSeq | 3 | 2018 | /ebio/abt6_sra/years/2018/03_04/Nextera/illumina_M00333_flowcellA_SampleId384_RunId0116_LaneId1/384_GCTACGCT-CGCGGTTA_L001_R2_001.fastq.gz | NA | 1 | yes | illumina | RTA_1.18.54 | A | 16f0909fbd7464f02d0efe5b775d141b |\n",
       "| 75328 | 116 | X384_Eurasian_Lynx | NickYoungblut | Nextera | MiSeq | 3 | 2018 | /ebio/abt6_sra/years/2018/03_04/Nextera/illumina_M00333_flowcellA_SampleId384_RunId0116_LaneId1/384_GCTACGCT-CGCGGTTA_L001_R1_001.fastq.gz | NA | 1 | yes | illumina | RTA_1.18.54 | A | 74264ec70c15e405b90e0f723cba1ae3 |\n",
       "| ⋮ | ⋮ | ⋮ | ⋮ | ⋮ | ⋮ | ⋮ | ⋮ | ⋮ | ⋮ | ⋮ | ⋮ | ⋮ | ⋮ | ⋮ | ⋮ |\n",
       "| 239418 | 190 | X141_Red_cheeked_Gibbon | sdauser | Georg_animal_gut_archaea_16S | MiSeq | 3 | 2020 | /ebio/abt6_sra/years/2020/03_02/Georg_animal_gut_archaea_16S/illumina_M00333_flowcellA_SampleIdX141_Red_cheeked_Gibbon_RunId0190_LaneId1/X141_Red_cheeked_Gibbon_CCTAAGAC-GGAACTCC_L001_R2_001.fastq.gz | NA | 1 | yes | illumina | RTA_1.18.54.4 | A | de503b6cec51808df0601551ca0fdb1f |\n",
       "| 239417 | 190 | X141_Red_cheeked_Gibbon | sdauser | Georg_animal_gut_archaea_16S | MiSeq | 3 | 2020 | /ebio/abt6_sra/years/2020/03_02/Georg_animal_gut_archaea_16S/illumina_M00333_flowcellA_SampleIdX141_Red_cheeked_Gibbon_RunId0190_LaneId1/X141_Red_cheeked_Gibbon_CCTAAGAC-GGAACTCC_L001_R1_001.fastq.gz | NA | 1 | yes | illumina | RTA_1.18.54.4 | A | 30b0b2d1a86532052d32b887249fa9ac |\n",
       "\n"
      ],
      "text/plain": [
       "    fileId runId sampleId                person       \n",
       "1   75329  116   X384_Eurasian_Lynx      NickYoungblut\n",
       "2   75328  116   X384_Eurasian_Lynx      NickYoungblut\n",
       "⋮   ⋮      ⋮     ⋮                       ⋮            \n",
       "933 239418 190   X141_Red_cheeked_Gibbon sdauser      \n",
       "934 239417 190   X141_Red_cheeked_Gibbon sdauser      \n",
       "    project                      machineId month year\n",
       "1   Nextera                      MiSeq     3     2018\n",
       "2   Nextera                      MiSeq     3     2018\n",
       "⋮   ⋮                            ⋮         ⋮     ⋮   \n",
       "933 Georg_animal_gut_archaea_16S MiSeq     3     2020\n",
       "934 Georg_animal_gut_archaea_16S MiSeq     3     2020\n",
       "    fileLocation                                                                                                                                                                                           \n",
       "1   /ebio/abt6_sra/years/2018/03_04/Nextera/illumina_M00333_flowcellA_SampleId384_RunId0116_LaneId1/384_GCTACGCT-CGCGGTTA_L001_R2_001.fastq.gz                                                             \n",
       "2   /ebio/abt6_sra/years/2018/03_04/Nextera/illumina_M00333_flowcellA_SampleId384_RunId0116_LaneId1/384_GCTACGCT-CGCGGTTA_L001_R1_001.fastq.gz                                                             \n",
       "⋮   ⋮                                                                                                                                                                                                      \n",
       "933 /ebio/abt6_sra/years/2020/03_02/Georg_animal_gut_archaea_16S/illumina_M00333_flowcellA_SampleIdX141_Red_cheeked_Gibbon_RunId0190_LaneId1/X141_Red_cheeked_Gibbon_CCTAAGAC-GGAACTCC_L001_R2_001.fastq.gz\n",
       "934 /ebio/abt6_sra/years/2020/03_02/Georg_animal_gut_archaea_16S/illumina_M00333_flowcellA_SampleIdX141_Red_cheeked_Gibbon_RunId0190_LaneId1/X141_Red_cheeked_Gibbon_CCTAAGAC-GGAACTCC_L001_R1_001.fastq.gz\n",
       "    description laneId demultiplexed platform RTA_version   flowcell\n",
       "1   NA          1      yes           illumina RTA_1.18.54   A       \n",
       "2   NA          1      yes           illumina RTA_1.18.54   A       \n",
       "⋮   ⋮           ⋮      ⋮             ⋮        ⋮             ⋮       \n",
       "933 NA          1      yes           illumina RTA_1.18.54.4 A       \n",
       "934 NA          1      yes           illumina RTA_1.18.54.4 A       \n",
       "    md5_sum                         \n",
       "1   16f0909fbd7464f02d0efe5b775d141b\n",
       "2   74264ec70c15e405b90e0f723cba1ae3\n",
       "⋮   ⋮                               \n",
       "933 de503b6cec51808df0601551ca0fdb1f\n",
       "934 30b0b2d1a86532052d32b887249fa9ac"
      ]
     },
     "metadata": {},
     "output_type": "display_data"
    }
   ],
   "source": [
    "sra_meta_jf = sra_meta_j %>%\n",
    "    dplyr::select(fileId,runId,sampleId,person,project,machineId,month,year,\n",
    "                  fileLocation,description,laneId,demultiplexed,platform,\n",
    "                  RTA_version,flowcell,md5_sum)\n",
    "sra_meta_jf"
   ]
  },
  {
   "cell_type": "code",
   "execution_count": 102,
   "metadata": {
    "ExecuteTime": {
     "end_time": "2020-10-05T12:52:34.688824Z",
     "start_time": "2020-10-05T12:52:34.653Z"
    }
   },
   "outputs": [
    {
     "name": "stdout",
     "output_type": "stream",
     "text": [
      "No. of unique No. of samples: 185 \n"
     ]
    }
   ],
   "source": [
    "# checking number of samples\n",
    "sra_meta_jf$sampleId %>% unique_n('No. of samples')"
   ]
  },
  {
   "cell_type": "code",
   "execution_count": 101,
   "metadata": {
    "ExecuteTime": {
     "end_time": "2020-10-05T12:49:24.520501Z",
     "start_time": "2020-10-05T12:49:24.400Z"
    }
   },
   "outputs": [
    {
     "name": "stdout",
     "output_type": "stream",
     "text": [
      "File written: /ebio/abt3_projects/Georg_animal_feces/data/16S_arch/MiSeq-Runs-116-122-126-189-190/db_submission//final_samples.csv \n"
     ]
    }
   ],
   "source": [
    "# writing table\n",
    "F = file.path(work_dir, 'final_samples.csv')\n",
    "write_table(sra_meta_jf, F, sep=',')"
   ]
  },
  {
   "cell_type": "markdown",
   "metadata": {},
   "source": [
    "## Running prepare script\n",
    "\n",
    "* script obtained from https://confluence.eb.local:8443/display/M005SEQ/Submission+of+samples+from+our+SRA+to+the+European+Nucleotide+Archive"
   ]
  },
  {
   "cell_type": "markdown",
   "metadata": {},
   "source": [
    "```\n",
    "(base) @ rick:/ebio/abt3_projects/Georg_animal_feces/data/16S_arch/MiSeq-Runs-116-122-126-189-190/db_submission\n",
    "./ena_prepare.sh -c final_samples.csv -m no\n",
    "```"
   ]
  },
  {
   "cell_type": "markdown",
   "metadata": {},
   "source": [
    "## Uploading sequence files via ftp"
   ]
  },
  {
   "cell_type": "markdown",
   "metadata": {},
   "source": [
    "```\n",
    "lftp webin2.ebi.ac.uk -u Webin-xxxxx\n",
    "lftp Webin-46512@webin2.ebi.ac.uk:/> mput *.fastq.gz\n",
    "```"
   ]
  },
  {
   "cell_type": "markdown",
   "metadata": {},
   "source": [
    "## Formatting `experiment.tsv` file"
   ]
  },
  {
   "cell_type": "code",
   "execution_count": 151,
   "metadata": {
    "ExecuteTime": {
     "end_time": "2020-10-06T08:38:32.037958Z",
     "start_time": "2020-10-06T08:38:31.951Z"
    }
   },
   "outputs": [
    {
     "data": {
      "text/html": [
       "<table>\n",
       "<caption>A data.frame: 467 × 13</caption>\n",
       "<thead>\n",
       "\t<tr><th scope=col>sample_alias</th><th scope=col>library_name</th><th scope=col>library_source</th><th scope=col>library_selection</th><th scope=col>library_strategy</th><th scope=col>instrument_model</th><th scope=col>file_type</th><th scope=col>forward_file_name</th><th scope=col>forward_file_md5</th><th scope=col>library_layout</th><th scope=col>reverse_file_name</th><th scope=col>reverse_file_md5</th><th scope=col>insert_size</th></tr>\n",
       "\t<tr><th scope=col>&lt;fct&gt;</th><th scope=col>&lt;lgl&gt;</th><th scope=col>&lt;lgl&gt;</th><th scope=col>&lt;lgl&gt;</th><th scope=col>&lt;lgl&gt;</th><th scope=col>&lt;fct&gt;</th><th scope=col>&lt;fct&gt;</th><th scope=col>&lt;fct&gt;</th><th scope=col>&lt;fct&gt;</th><th scope=col>&lt;fct&gt;</th><th scope=col>&lt;fct&gt;</th><th scope=col>&lt;fct&gt;</th><th scope=col>&lt;lgl&gt;</th></tr>\n",
       "</thead>\n",
       "<tbody>\n",
       "\t<tr><td>X384_Eurasian_Lynx</td><td>NA</td><td>NA</td><td>NA</td><td>NA</td><td>Illumina MiSeq</td><td>fastq</td><td>X384_Eurasian_Lynx.R1.RUN116.L1.fastq.gz</td><td>74264ec70c15e405b90e0f723cba1ae3</td><td>PAIRED</td><td>X384_Eurasian_Lynx.R2.RUN116.L1.fastq.gz</td><td>16f0909fbd7464f02d0efe5b775d141b</td><td>NA</td></tr>\n",
       "\t<tr><td>X382_Arctic_Wolf  </td><td>NA</td><td>NA</td><td>NA</td><td>NA</td><td>Illumina MiSeq</td><td>fastq</td><td>X382_Arctic_Wolf.R1.RUN116.L1.fastq.gz  </td><td>c846726eea281669cd8e9f3ac407f77f</td><td>PAIRED</td><td>X382_Arctic_Wolf.R2.RUN116.L1.fastq.gz  </td><td>2fc5e69563bdfc7b00e4922ddb37001f</td><td>NA</td></tr>\n",
       "\t<tr><td>⋮</td><td>⋮</td><td>⋮</td><td>⋮</td><td>⋮</td><td>⋮</td><td>⋮</td><td>⋮</td><td>⋮</td><td>⋮</td><td>⋮</td><td>⋮</td><td>⋮</td></tr>\n",
       "\t<tr><td>X237_Red_shanked_Douc_Langur</td><td>NA</td><td>NA</td><td>NA</td><td>NA</td><td>Illumina MiSeq</td><td>fastq</td><td>X237_Red_shanked_Douc_Langur.R1.RUN190.L1.fastq.gz</td><td>f4af561d62920f004cdded204badd212</td><td>PAIRED</td><td>X237_Red_shanked_Douc_Langur.R2.RUN190.L1.fastq.gz</td><td>b44e7de36d82d687e310debd0289c2f6</td><td>NA</td></tr>\n",
       "\t<tr><td>X141_Red_cheeked_Gibbon     </td><td>NA</td><td>NA</td><td>NA</td><td>NA</td><td>Illumina MiSeq</td><td>fastq</td><td>X141_Red_cheeked_Gibbon.R1.RUN190.L1.fastq.gz     </td><td>30b0b2d1a86532052d32b887249fa9ac</td><td>PAIRED</td><td>X141_Red_cheeked_Gibbon.R2.RUN190.L1.fastq.gz     </td><td>de503b6cec51808df0601551ca0fdb1f</td><td>NA</td></tr>\n",
       "</tbody>\n",
       "</table>\n"
      ],
      "text/latex": [
       "A data.frame: 467 × 13\n",
       "\\begin{tabular}{lllllllllllll}\n",
       " sample\\_alias & library\\_name & library\\_source & library\\_selection & library\\_strategy & instrument\\_model & file\\_type & forward\\_file\\_name & forward\\_file\\_md5 & library\\_layout & reverse\\_file\\_name & reverse\\_file\\_md5 & insert\\_size\\\\\n",
       " <fct> & <lgl> & <lgl> & <lgl> & <lgl> & <fct> & <fct> & <fct> & <fct> & <fct> & <fct> & <fct> & <lgl>\\\\\n",
       "\\hline\n",
       "\t X384\\_Eurasian\\_Lynx & NA & NA & NA & NA & Illumina MiSeq & fastq & X384\\_Eurasian\\_Lynx.R1.RUN116.L1.fastq.gz & 74264ec70c15e405b90e0f723cba1ae3 & PAIRED & X384\\_Eurasian\\_Lynx.R2.RUN116.L1.fastq.gz & 16f0909fbd7464f02d0efe5b775d141b & NA\\\\\n",
       "\t X382\\_Arctic\\_Wolf   & NA & NA & NA & NA & Illumina MiSeq & fastq & X382\\_Arctic\\_Wolf.R1.RUN116.L1.fastq.gz   & c846726eea281669cd8e9f3ac407f77f & PAIRED & X382\\_Arctic\\_Wolf.R2.RUN116.L1.fastq.gz   & 2fc5e69563bdfc7b00e4922ddb37001f & NA\\\\\n",
       "\t ⋮ & ⋮ & ⋮ & ⋮ & ⋮ & ⋮ & ⋮ & ⋮ & ⋮ & ⋮ & ⋮ & ⋮ & ⋮\\\\\n",
       "\t X237\\_Red\\_shanked\\_Douc\\_Langur & NA & NA & NA & NA & Illumina MiSeq & fastq & X237\\_Red\\_shanked\\_Douc\\_Langur.R1.RUN190.L1.fastq.gz & f4af561d62920f004cdded204badd212 & PAIRED & X237\\_Red\\_shanked\\_Douc\\_Langur.R2.RUN190.L1.fastq.gz & b44e7de36d82d687e310debd0289c2f6 & NA\\\\\n",
       "\t X141\\_Red\\_cheeked\\_Gibbon      & NA & NA & NA & NA & Illumina MiSeq & fastq & X141\\_Red\\_cheeked\\_Gibbon.R1.RUN190.L1.fastq.gz      & 30b0b2d1a86532052d32b887249fa9ac & PAIRED & X141\\_Red\\_cheeked\\_Gibbon.R2.RUN190.L1.fastq.gz      & de503b6cec51808df0601551ca0fdb1f & NA\\\\\n",
       "\\end{tabular}\n"
      ],
      "text/markdown": [
       "\n",
       "A data.frame: 467 × 13\n",
       "\n",
       "| sample_alias &lt;fct&gt; | library_name &lt;lgl&gt; | library_source &lt;lgl&gt; | library_selection &lt;lgl&gt; | library_strategy &lt;lgl&gt; | instrument_model &lt;fct&gt; | file_type &lt;fct&gt; | forward_file_name &lt;fct&gt; | forward_file_md5 &lt;fct&gt; | library_layout &lt;fct&gt; | reverse_file_name &lt;fct&gt; | reverse_file_md5 &lt;fct&gt; | insert_size &lt;lgl&gt; |\n",
       "|---|---|---|---|---|---|---|---|---|---|---|---|---|\n",
       "| X384_Eurasian_Lynx | NA | NA | NA | NA | Illumina MiSeq | fastq | X384_Eurasian_Lynx.R1.RUN116.L1.fastq.gz | 74264ec70c15e405b90e0f723cba1ae3 | PAIRED | X384_Eurasian_Lynx.R2.RUN116.L1.fastq.gz | 16f0909fbd7464f02d0efe5b775d141b | NA |\n",
       "| X382_Arctic_Wolf   | NA | NA | NA | NA | Illumina MiSeq | fastq | X382_Arctic_Wolf.R1.RUN116.L1.fastq.gz   | c846726eea281669cd8e9f3ac407f77f | PAIRED | X382_Arctic_Wolf.R2.RUN116.L1.fastq.gz   | 2fc5e69563bdfc7b00e4922ddb37001f | NA |\n",
       "| ⋮ | ⋮ | ⋮ | ⋮ | ⋮ | ⋮ | ⋮ | ⋮ | ⋮ | ⋮ | ⋮ | ⋮ | ⋮ |\n",
       "| X237_Red_shanked_Douc_Langur | NA | NA | NA | NA | Illumina MiSeq | fastq | X237_Red_shanked_Douc_Langur.R1.RUN190.L1.fastq.gz | f4af561d62920f004cdded204badd212 | PAIRED | X237_Red_shanked_Douc_Langur.R2.RUN190.L1.fastq.gz | b44e7de36d82d687e310debd0289c2f6 | NA |\n",
       "| X141_Red_cheeked_Gibbon      | NA | NA | NA | NA | Illumina MiSeq | fastq | X141_Red_cheeked_Gibbon.R1.RUN190.L1.fastq.gz      | 30b0b2d1a86532052d32b887249fa9ac | PAIRED | X141_Red_cheeked_Gibbon.R2.RUN190.L1.fastq.gz      | de503b6cec51808df0601551ca0fdb1f | NA |\n",
       "\n"
      ],
      "text/plain": [
       "    sample_alias                 library_name library_source library_selection\n",
       "1   X384_Eurasian_Lynx           NA           NA             NA               \n",
       "2   X382_Arctic_Wolf             NA           NA             NA               \n",
       "⋮   ⋮                            ⋮            ⋮              ⋮                \n",
       "466 X237_Red_shanked_Douc_Langur NA           NA             NA               \n",
       "467 X141_Red_cheeked_Gibbon      NA           NA             NA               \n",
       "    library_strategy instrument_model file_type\n",
       "1   NA               Illumina MiSeq   fastq    \n",
       "2   NA               Illumina MiSeq   fastq    \n",
       "⋮   ⋮                ⋮                ⋮        \n",
       "466 NA               Illumina MiSeq   fastq    \n",
       "467 NA               Illumina MiSeq   fastq    \n",
       "    forward_file_name                                 \n",
       "1   X384_Eurasian_Lynx.R1.RUN116.L1.fastq.gz          \n",
       "2   X382_Arctic_Wolf.R1.RUN116.L1.fastq.gz            \n",
       "⋮   ⋮                                                 \n",
       "466 X237_Red_shanked_Douc_Langur.R1.RUN190.L1.fastq.gz\n",
       "467 X141_Red_cheeked_Gibbon.R1.RUN190.L1.fastq.gz     \n",
       "    forward_file_md5                 library_layout\n",
       "1   74264ec70c15e405b90e0f723cba1ae3 PAIRED        \n",
       "2   c846726eea281669cd8e9f3ac407f77f PAIRED        \n",
       "⋮   ⋮                                ⋮             \n",
       "466 f4af561d62920f004cdded204badd212 PAIRED        \n",
       "467 30b0b2d1a86532052d32b887249fa9ac PAIRED        \n",
       "    reverse_file_name                                 \n",
       "1   X384_Eurasian_Lynx.R2.RUN116.L1.fastq.gz          \n",
       "2   X382_Arctic_Wolf.R2.RUN116.L1.fastq.gz            \n",
       "⋮   ⋮                                                 \n",
       "466 X237_Red_shanked_Douc_Langur.R2.RUN190.L1.fastq.gz\n",
       "467 X141_Red_cheeked_Gibbon.R2.RUN190.L1.fastq.gz     \n",
       "    reverse_file_md5                 insert_size\n",
       "1   16f0909fbd7464f02d0efe5b775d141b NA         \n",
       "2   2fc5e69563bdfc7b00e4922ddb37001f NA         \n",
       "⋮   ⋮                                ⋮          \n",
       "466 b44e7de36d82d687e310debd0289c2f6 NA         \n",
       "467 de503b6cec51808df0601551ca0fdb1f NA         "
      ]
     },
     "metadata": {},
     "output_type": "display_data"
    }
   ],
   "source": [
    "exp = read.delim(file.path(work_dir, 'ena_upload_2020-10-05', 'experiment.tsv'), \n",
    "                 sep='\\t')\n",
    "exp"
   ]
  },
  {
   "cell_type": "code",
   "execution_count": 152,
   "metadata": {
    "ExecuteTime": {
     "end_time": "2020-10-06T08:38:32.161867Z",
     "start_time": "2020-10-06T08:38:32.130Z"
    }
   },
   "outputs": [
    {
     "name": "stdout",
     "output_type": "stream",
     "text": [
      "No. of unique samples: 185 \n"
     ]
    }
   ],
   "source": [
    "exp$sample_alias %>% unique_n('samples')"
   ]
  },
  {
   "cell_type": "code",
   "execution_count": 153,
   "metadata": {
    "ExecuteTime": {
     "end_time": "2020-10-06T08:38:32.303220Z",
     "start_time": "2020-10-06T08:38:32.276Z"
    }
   },
   "outputs": [
    {
     "name": "stdout",
     "output_type": "stream",
     "text": [
      "intersect(x,y): 185 \n",
      "setdiff(x,y): 0 \n",
      "setdiff(y,x): 0 \n",
      "union(x,y): 185 \n"
     ]
    }
   ],
   "source": [
    "overlap(exp$sample_alias, meta$Sample)"
   ]
  },
  {
   "cell_type": "code",
   "execution_count": 154,
   "metadata": {
    "ExecuteTime": {
     "end_time": "2020-10-06T08:38:32.891882Z",
     "start_time": "2020-10-06T08:38:32.821Z"
    }
   },
   "outputs": [
    {
     "data": {
      "text/html": [
       "<table>\n",
       "<caption>A data.frame: 467 × 13</caption>\n",
       "<thead>\n",
       "\t<tr><th scope=col>sample_alias</th><th scope=col>library_name</th><th scope=col>library_source</th><th scope=col>library_selection</th><th scope=col>library_strategy</th><th scope=col>instrument_model</th><th scope=col>file_type</th><th scope=col>forward_file_name</th><th scope=col>forward_file_md5</th><th scope=col>library_layout</th><th scope=col>reverse_file_name</th><th scope=col>reverse_file_md5</th><th scope=col>insert_size</th></tr>\n",
       "\t<tr><th scope=col>&lt;fct&gt;</th><th scope=col>&lt;chr&gt;</th><th scope=col>&lt;chr&gt;</th><th scope=col>&lt;chr&gt;</th><th scope=col>&lt;chr&gt;</th><th scope=col>&lt;fct&gt;</th><th scope=col>&lt;fct&gt;</th><th scope=col>&lt;fct&gt;</th><th scope=col>&lt;fct&gt;</th><th scope=col>&lt;fct&gt;</th><th scope=col>&lt;fct&gt;</th><th scope=col>&lt;fct&gt;</th><th scope=col>&lt;dbl&gt;</th></tr>\n",
       "</thead>\n",
       "<tbody>\n",
       "\t<tr><td>X384_Eurasian_Lynx</td><td>Illumina MiSeq</td><td>METAGENOMIC</td><td>PCR</td><td>AMPLICON</td><td>Illumina MiSeq</td><td>fastq</td><td>X384_Eurasian_Lynx.R1.RUN116.L1.fastq.gz</td><td>74264ec70c15e405b90e0f723cba1ae3</td><td>PAIRED</td><td>X384_Eurasian_Lynx.R2.RUN116.L1.fastq.gz</td><td>16f0909fbd7464f02d0efe5b775d141b</td><td>0</td></tr>\n",
       "\t<tr><td>X382_Arctic_Wolf  </td><td>Illumina MiSeq</td><td>METAGENOMIC</td><td>PCR</td><td>AMPLICON</td><td>Illumina MiSeq</td><td>fastq</td><td>X382_Arctic_Wolf.R1.RUN116.L1.fastq.gz  </td><td>c846726eea281669cd8e9f3ac407f77f</td><td>PAIRED</td><td>X382_Arctic_Wolf.R2.RUN116.L1.fastq.gz  </td><td>2fc5e69563bdfc7b00e4922ddb37001f</td><td>0</td></tr>\n",
       "\t<tr><td>⋮</td><td>⋮</td><td>⋮</td><td>⋮</td><td>⋮</td><td>⋮</td><td>⋮</td><td>⋮</td><td>⋮</td><td>⋮</td><td>⋮</td><td>⋮</td><td>⋮</td></tr>\n",
       "\t<tr><td>X237_Red_shanked_Douc_Langur</td><td>Illumina MiSeq</td><td>METAGENOMIC</td><td>PCR</td><td>AMPLICON</td><td>Illumina MiSeq</td><td>fastq</td><td>X237_Red_shanked_Douc_Langur.R1.RUN190.L1.fastq.gz</td><td>f4af561d62920f004cdded204badd212</td><td>PAIRED</td><td>X237_Red_shanked_Douc_Langur.R2.RUN190.L1.fastq.gz</td><td>b44e7de36d82d687e310debd0289c2f6</td><td>0</td></tr>\n",
       "\t<tr><td>X141_Red_cheeked_Gibbon     </td><td>Illumina MiSeq</td><td>METAGENOMIC</td><td>PCR</td><td>AMPLICON</td><td>Illumina MiSeq</td><td>fastq</td><td>X141_Red_cheeked_Gibbon.R1.RUN190.L1.fastq.gz     </td><td>30b0b2d1a86532052d32b887249fa9ac</td><td>PAIRED</td><td>X141_Red_cheeked_Gibbon.R2.RUN190.L1.fastq.gz     </td><td>de503b6cec51808df0601551ca0fdb1f</td><td>0</td></tr>\n",
       "</tbody>\n",
       "</table>\n"
      ],
      "text/latex": [
       "A data.frame: 467 × 13\n",
       "\\begin{tabular}{lllllllllllll}\n",
       " sample\\_alias & library\\_name & library\\_source & library\\_selection & library\\_strategy & instrument\\_model & file\\_type & forward\\_file\\_name & forward\\_file\\_md5 & library\\_layout & reverse\\_file\\_name & reverse\\_file\\_md5 & insert\\_size\\\\\n",
       " <fct> & <chr> & <chr> & <chr> & <chr> & <fct> & <fct> & <fct> & <fct> & <fct> & <fct> & <fct> & <dbl>\\\\\n",
       "\\hline\n",
       "\t X384\\_Eurasian\\_Lynx & Illumina MiSeq & METAGENOMIC & PCR & AMPLICON & Illumina MiSeq & fastq & X384\\_Eurasian\\_Lynx.R1.RUN116.L1.fastq.gz & 74264ec70c15e405b90e0f723cba1ae3 & PAIRED & X384\\_Eurasian\\_Lynx.R2.RUN116.L1.fastq.gz & 16f0909fbd7464f02d0efe5b775d141b & 0\\\\\n",
       "\t X382\\_Arctic\\_Wolf   & Illumina MiSeq & METAGENOMIC & PCR & AMPLICON & Illumina MiSeq & fastq & X382\\_Arctic\\_Wolf.R1.RUN116.L1.fastq.gz   & c846726eea281669cd8e9f3ac407f77f & PAIRED & X382\\_Arctic\\_Wolf.R2.RUN116.L1.fastq.gz   & 2fc5e69563bdfc7b00e4922ddb37001f & 0\\\\\n",
       "\t ⋮ & ⋮ & ⋮ & ⋮ & ⋮ & ⋮ & ⋮ & ⋮ & ⋮ & ⋮ & ⋮ & ⋮ & ⋮\\\\\n",
       "\t X237\\_Red\\_shanked\\_Douc\\_Langur & Illumina MiSeq & METAGENOMIC & PCR & AMPLICON & Illumina MiSeq & fastq & X237\\_Red\\_shanked\\_Douc\\_Langur.R1.RUN190.L1.fastq.gz & f4af561d62920f004cdded204badd212 & PAIRED & X237\\_Red\\_shanked\\_Douc\\_Langur.R2.RUN190.L1.fastq.gz & b44e7de36d82d687e310debd0289c2f6 & 0\\\\\n",
       "\t X141\\_Red\\_cheeked\\_Gibbon      & Illumina MiSeq & METAGENOMIC & PCR & AMPLICON & Illumina MiSeq & fastq & X141\\_Red\\_cheeked\\_Gibbon.R1.RUN190.L1.fastq.gz      & 30b0b2d1a86532052d32b887249fa9ac & PAIRED & X141\\_Red\\_cheeked\\_Gibbon.R2.RUN190.L1.fastq.gz      & de503b6cec51808df0601551ca0fdb1f & 0\\\\\n",
       "\\end{tabular}\n"
      ],
      "text/markdown": [
       "\n",
       "A data.frame: 467 × 13\n",
       "\n",
       "| sample_alias &lt;fct&gt; | library_name &lt;chr&gt; | library_source &lt;chr&gt; | library_selection &lt;chr&gt; | library_strategy &lt;chr&gt; | instrument_model &lt;fct&gt; | file_type &lt;fct&gt; | forward_file_name &lt;fct&gt; | forward_file_md5 &lt;fct&gt; | library_layout &lt;fct&gt; | reverse_file_name &lt;fct&gt; | reverse_file_md5 &lt;fct&gt; | insert_size &lt;dbl&gt; |\n",
       "|---|---|---|---|---|---|---|---|---|---|---|---|---|\n",
       "| X384_Eurasian_Lynx | Illumina MiSeq | METAGENOMIC | PCR | AMPLICON | Illumina MiSeq | fastq | X384_Eurasian_Lynx.R1.RUN116.L1.fastq.gz | 74264ec70c15e405b90e0f723cba1ae3 | PAIRED | X384_Eurasian_Lynx.R2.RUN116.L1.fastq.gz | 16f0909fbd7464f02d0efe5b775d141b | 0 |\n",
       "| X382_Arctic_Wolf   | Illumina MiSeq | METAGENOMIC | PCR | AMPLICON | Illumina MiSeq | fastq | X382_Arctic_Wolf.R1.RUN116.L1.fastq.gz   | c846726eea281669cd8e9f3ac407f77f | PAIRED | X382_Arctic_Wolf.R2.RUN116.L1.fastq.gz   | 2fc5e69563bdfc7b00e4922ddb37001f | 0 |\n",
       "| ⋮ | ⋮ | ⋮ | ⋮ | ⋮ | ⋮ | ⋮ | ⋮ | ⋮ | ⋮ | ⋮ | ⋮ | ⋮ |\n",
       "| X237_Red_shanked_Douc_Langur | Illumina MiSeq | METAGENOMIC | PCR | AMPLICON | Illumina MiSeq | fastq | X237_Red_shanked_Douc_Langur.R1.RUN190.L1.fastq.gz | f4af561d62920f004cdded204badd212 | PAIRED | X237_Red_shanked_Douc_Langur.R2.RUN190.L1.fastq.gz | b44e7de36d82d687e310debd0289c2f6 | 0 |\n",
       "| X141_Red_cheeked_Gibbon      | Illumina MiSeq | METAGENOMIC | PCR | AMPLICON | Illumina MiSeq | fastq | X141_Red_cheeked_Gibbon.R1.RUN190.L1.fastq.gz      | 30b0b2d1a86532052d32b887249fa9ac | PAIRED | X141_Red_cheeked_Gibbon.R2.RUN190.L1.fastq.gz      | de503b6cec51808df0601551ca0fdb1f | 0 |\n",
       "\n"
      ],
      "text/plain": [
       "    sample_alias                 library_name   library_source\n",
       "1   X384_Eurasian_Lynx           Illumina MiSeq METAGENOMIC   \n",
       "2   X382_Arctic_Wolf             Illumina MiSeq METAGENOMIC   \n",
       "⋮   ⋮                            ⋮              ⋮             \n",
       "466 X237_Red_shanked_Douc_Langur Illumina MiSeq METAGENOMIC   \n",
       "467 X141_Red_cheeked_Gibbon      Illumina MiSeq METAGENOMIC   \n",
       "    library_selection library_strategy instrument_model file_type\n",
       "1   PCR               AMPLICON         Illumina MiSeq   fastq    \n",
       "2   PCR               AMPLICON         Illumina MiSeq   fastq    \n",
       "⋮   ⋮                 ⋮                ⋮                ⋮        \n",
       "466 PCR               AMPLICON         Illumina MiSeq   fastq    \n",
       "467 PCR               AMPLICON         Illumina MiSeq   fastq    \n",
       "    forward_file_name                                 \n",
       "1   X384_Eurasian_Lynx.R1.RUN116.L1.fastq.gz          \n",
       "2   X382_Arctic_Wolf.R1.RUN116.L1.fastq.gz            \n",
       "⋮   ⋮                                                 \n",
       "466 X237_Red_shanked_Douc_Langur.R1.RUN190.L1.fastq.gz\n",
       "467 X141_Red_cheeked_Gibbon.R1.RUN190.L1.fastq.gz     \n",
       "    forward_file_md5                 library_layout\n",
       "1   74264ec70c15e405b90e0f723cba1ae3 PAIRED        \n",
       "2   c846726eea281669cd8e9f3ac407f77f PAIRED        \n",
       "⋮   ⋮                                ⋮             \n",
       "466 f4af561d62920f004cdded204badd212 PAIRED        \n",
       "467 30b0b2d1a86532052d32b887249fa9ac PAIRED        \n",
       "    reverse_file_name                                 \n",
       "1   X384_Eurasian_Lynx.R2.RUN116.L1.fastq.gz          \n",
       "2   X382_Arctic_Wolf.R2.RUN116.L1.fastq.gz            \n",
       "⋮   ⋮                                                 \n",
       "466 X237_Red_shanked_Douc_Langur.R2.RUN190.L1.fastq.gz\n",
       "467 X141_Red_cheeked_Gibbon.R2.RUN190.L1.fastq.gz     \n",
       "    reverse_file_md5                 insert_size\n",
       "1   16f0909fbd7464f02d0efe5b775d141b 0          \n",
       "2   2fc5e69563bdfc7b00e4922ddb37001f 0          \n",
       "⋮   ⋮                                ⋮          \n",
       "466 b44e7de36d82d687e310debd0289c2f6 0          \n",
       "467 de503b6cec51808df0601551ca0fdb1f 0          "
      ]
     },
     "metadata": {},
     "output_type": "display_data"
    }
   ],
   "source": [
    "exp = exp %>%\n",
    "    mutate(library_name = 'Illumina MiSeq',\n",
    "           library_source = 'METAGENOMIC',\n",
    "           library_selection = 'PCR',\n",
    "           library_strategy = 'AMPLICON',\n",
    "           insert_size = 0) \n",
    "exp"
   ]
  },
  {
   "cell_type": "code",
   "execution_count": 157,
   "metadata": {
    "ExecuteTime": {
     "end_time": "2020-10-06T08:39:00.187454Z",
     "start_time": "2020-10-06T08:39:00.149Z"
    }
   },
   "outputs": [
    {
     "name": "stdout",
     "output_type": "stream",
     "text": [
      "File written: /ebio/abt3_projects/Georg_animal_feces/data/16S_arch/MiSeq-Runs-116-122-126-189-190/db_submission//experiment_final.tsv \n"
     ]
    }
   ],
   "source": [
    "# writing file\n",
    "outfile = file.path(work_dir, 'experiment_final.tsv') \n",
    "exp %>%\n",
    "    mutate(sample_alias = gsub('$', '_16Sarc', sample_alias)) %>%\n",
    "    write_table(file=outfile)"
   ]
  },
  {
   "cell_type": "markdown",
   "metadata": {},
   "source": [
    "## Formating `sample.tsv` file"
   ]
  },
  {
   "cell_type": "code",
   "execution_count": 145,
   "metadata": {
    "ExecuteTime": {
     "end_time": "2020-10-06T08:37:03.765851Z",
     "start_time": "2020-10-06T08:37:03.629Z"
    }
   },
   "outputs": [
    {
     "data": {
      "text/html": [
       "<table>\n",
       "<caption>A tibble: 185 × 89</caption>\n",
       "<thead>\n",
       "\t<tr><th scope=col>SampleID</th><th scope=col>host_subject_id</th><th scope=col>host_german_name</th><th scope=col>host_common_name</th><th scope=col>scientific_name</th><th scope=col>scientific_name_subspecies</th><th scope=col>host_taxid</th><th scope=col>class</th><th scope=col>order</th><th scope=col>family</th><th scope=col>⋯</th><th scope=col>CH4_kJ.d_sd</th><th scope=col>i.CH4_L.d_mean</th><th scope=col>i.CH4_L.d_sd</th><th scope=col>i.CH4_L.kgBM_mean</th><th scope=col>i.CH4_L.kgBM_sd</th><th scope=col>i.CH4_g.d_mean</th><th scope=col>i.CH4_g.d_sd</th><th scope=col>i.CH4_kJ.d_mean</th><th scope=col>i.CH4_kJ.d_sd</th><th scope=col>Sample</th></tr>\n",
       "\t<tr><th scope=col>&lt;chr&gt;</th><th scope=col>&lt;chr&gt;</th><th scope=col>&lt;chr&gt;</th><th scope=col>&lt;chr&gt;</th><th scope=col>&lt;chr&gt;</th><th scope=col>&lt;chr&gt;</th><th scope=col>&lt;int&gt;</th><th scope=col>&lt;chr&gt;</th><th scope=col>&lt;chr&gt;</th><th scope=col>&lt;chr&gt;</th><th scope=col>⋯</th><th scope=col>&lt;dbl&gt;</th><th scope=col>&lt;dbl&gt;</th><th scope=col>&lt;dbl&gt;</th><th scope=col>&lt;dbl&gt;</th><th scope=col>&lt;dbl&gt;</th><th scope=col>&lt;dbl&gt;</th><th scope=col>&lt;dbl&gt;</th><th scope=col>&lt;dbl&gt;</th><th scope=col>&lt;dbl&gt;</th><th scope=col>&lt;chr&gt;</th></tr>\n",
       "</thead>\n",
       "<tbody>\n",
       "\t<tr><td>F14_Common_Bream</td><td>F14</td><td>Brachse  </td><td>Common.Bream</td><td>Abramis_brama </td><td>NA</td><td>38527</td><td>Actinopterygii</td><td>Cypriniformes</td><td>Cyprinidae</td><td>⋯</td><td>      NA</td><td>      NA</td><td>      NA</td><td>       NA</td><td>       NA</td><td>      NA</td><td>      NA</td><td>      NA</td><td>      NA</td><td>F14_Common_Bream</td></tr>\n",
       "\t<tr><td>F35_Red_Deer    </td><td>F35</td><td>Rothirsch</td><td>Red.Deer    </td><td>Cervus_elaphus</td><td>NA</td><td> 9860</td><td>Mammalia      </td><td>Artiodactyla </td><td>Cervidae  </td><td>⋯</td><td>1075.505</td><td>52.24132</td><td>27.18306</td><td>0.4858472</td><td>0.1686955</td><td>38.67117</td><td>21.30162</td><td>2066.942</td><td>1075.505</td><td>F35_Red_Deer    </td></tr>\n",
       "\t<tr><td>⋮</td><td>⋮</td><td>⋮</td><td>⋮</td><td>⋮</td><td>⋮</td><td>⋮</td><td>⋮</td><td>⋮</td><td>⋮</td><td>⋱</td><td>⋮</td><td>⋮</td><td>⋮</td><td>⋮</td><td>⋮</td><td>⋮</td><td>⋮</td><td>⋮</td><td>⋮</td><td>⋮</td></tr>\n",
       "\t<tr><td>X431_Quagga     </td><td>431</td><td>Steppenzebra</td><td>Quagga      </td><td>Equus_quagga       </td><td>NA</td><td>89252</td><td>Mammalia</td><td>Perissodactyla</td><td>Equidae </td><td>⋯</td><td>NA</td><td>NA</td><td>NA</td><td>NA</td><td>NA</td><td>NA</td><td>NA</td><td>NA</td><td>NA</td><td>X431_Quagga     </td></tr>\n",
       "\t<tr><td>X67_European_Roe</td><td>67 </td><td>Reh         </td><td>European.Roe</td><td>Capreolus_capreolus</td><td>NA</td><td> 9858</td><td>Mammalia</td><td>Artiodactyla  </td><td>Cervidae</td><td>⋯</td><td>NA</td><td>NA</td><td>NA</td><td>NA</td><td>NA</td><td>NA</td><td>NA</td><td>NA</td><td>NA</td><td>X67_European_Roe</td></tr>\n",
       "</tbody>\n",
       "</table>\n"
      ],
      "text/latex": [
       "A tibble: 185 × 89\n",
       "\\begin{tabular}{lllllllllllllllllllll}\n",
       " SampleID & host\\_subject\\_id & host\\_german\\_name & host\\_common\\_name & scientific\\_name & scientific\\_name\\_subspecies & host\\_taxid & class & order & family & ⋯ & CH4\\_kJ.d\\_sd & i.CH4\\_L.d\\_mean & i.CH4\\_L.d\\_sd & i.CH4\\_L.kgBM\\_mean & i.CH4\\_L.kgBM\\_sd & i.CH4\\_g.d\\_mean & i.CH4\\_g.d\\_sd & i.CH4\\_kJ.d\\_mean & i.CH4\\_kJ.d\\_sd & Sample\\\\\n",
       " <chr> & <chr> & <chr> & <chr> & <chr> & <chr> & <int> & <chr> & <chr> & <chr> & ⋯ & <dbl> & <dbl> & <dbl> & <dbl> & <dbl> & <dbl> & <dbl> & <dbl> & <dbl> & <chr>\\\\\n",
       "\\hline\n",
       "\t F14\\_Common\\_Bream & F14 & Brachse   & Common.Bream & Abramis\\_brama  & NA & 38527 & Actinopterygii & Cypriniformes & Cyprinidae & ⋯ &       NA &       NA &       NA &        NA &        NA &       NA &       NA &       NA &       NA & F14\\_Common\\_Bream\\\\\n",
       "\t F35\\_Red\\_Deer     & F35 & Rothirsch & Red.Deer     & Cervus\\_elaphus & NA &  9860 & Mammalia       & Artiodactyla  & Cervidae   & ⋯ & 1075.505 & 52.24132 & 27.18306 & 0.4858472 & 0.1686955 & 38.67117 & 21.30162 & 2066.942 & 1075.505 & F35\\_Red\\_Deer    \\\\\n",
       "\t ⋮ & ⋮ & ⋮ & ⋮ & ⋮ & ⋮ & ⋮ & ⋮ & ⋮ & ⋮ & ⋱ & ⋮ & ⋮ & ⋮ & ⋮ & ⋮ & ⋮ & ⋮ & ⋮ & ⋮ & ⋮\\\\\n",
       "\t X431\\_Quagga      & 431 & Steppenzebra & Quagga       & Equus\\_quagga        & NA & 89252 & Mammalia & Perissodactyla & Equidae  & ⋯ & NA & NA & NA & NA & NA & NA & NA & NA & NA & X431\\_Quagga     \\\\\n",
       "\t X67\\_European\\_Roe & 67  & Reh          & European.Roe & Capreolus\\_capreolus & NA &  9858 & Mammalia & Artiodactyla   & Cervidae & ⋯ & NA & NA & NA & NA & NA & NA & NA & NA & NA & X67\\_European\\_Roe\\\\\n",
       "\\end{tabular}\n"
      ],
      "text/markdown": [
       "\n",
       "A tibble: 185 × 89\n",
       "\n",
       "| SampleID &lt;chr&gt; | host_subject_id &lt;chr&gt; | host_german_name &lt;chr&gt; | host_common_name &lt;chr&gt; | scientific_name &lt;chr&gt; | scientific_name_subspecies &lt;chr&gt; | host_taxid &lt;int&gt; | class &lt;chr&gt; | order &lt;chr&gt; | family &lt;chr&gt; | ⋯ ⋯ | CH4_kJ.d_sd &lt;dbl&gt; | i.CH4_L.d_mean &lt;dbl&gt; | i.CH4_L.d_sd &lt;dbl&gt; | i.CH4_L.kgBM_mean &lt;dbl&gt; | i.CH4_L.kgBM_sd &lt;dbl&gt; | i.CH4_g.d_mean &lt;dbl&gt; | i.CH4_g.d_sd &lt;dbl&gt; | i.CH4_kJ.d_mean &lt;dbl&gt; | i.CH4_kJ.d_sd &lt;dbl&gt; | Sample &lt;chr&gt; |\n",
       "|---|---|---|---|---|---|---|---|---|---|---|---|---|---|---|---|---|---|---|---|---|\n",
       "| F14_Common_Bream | F14 | Brachse   | Common.Bream | Abramis_brama  | NA | 38527 | Actinopterygii | Cypriniformes | Cyprinidae | ⋯ |       NA |       NA |       NA |        NA |        NA |       NA |       NA |       NA |       NA | F14_Common_Bream |\n",
       "| F35_Red_Deer     | F35 | Rothirsch | Red.Deer     | Cervus_elaphus | NA |  9860 | Mammalia       | Artiodactyla  | Cervidae   | ⋯ | 1075.505 | 52.24132 | 27.18306 | 0.4858472 | 0.1686955 | 38.67117 | 21.30162 | 2066.942 | 1075.505 | F35_Red_Deer     |\n",
       "| ⋮ | ⋮ | ⋮ | ⋮ | ⋮ | ⋮ | ⋮ | ⋮ | ⋮ | ⋮ | ⋱ | ⋮ | ⋮ | ⋮ | ⋮ | ⋮ | ⋮ | ⋮ | ⋮ | ⋮ | ⋮ |\n",
       "| X431_Quagga      | 431 | Steppenzebra | Quagga       | Equus_quagga        | NA | 89252 | Mammalia | Perissodactyla | Equidae  | ⋯ | NA | NA | NA | NA | NA | NA | NA | NA | NA | X431_Quagga      |\n",
       "| X67_European_Roe | 67  | Reh          | European.Roe | Capreolus_capreolus | NA |  9858 | Mammalia | Artiodactyla   | Cervidae | ⋯ | NA | NA | NA | NA | NA | NA | NA | NA | NA | X67_European_Roe |\n",
       "\n"
      ],
      "text/plain": [
       "    SampleID         host_subject_id host_german_name host_common_name\n",
       "1   F14_Common_Bream F14             Brachse          Common.Bream    \n",
       "2   F35_Red_Deer     F35             Rothirsch        Red.Deer        \n",
       "⋮   ⋮                ⋮               ⋮                ⋮               \n",
       "184 X431_Quagga      431             Steppenzebra     Quagga          \n",
       "185 X67_European_Roe 67              Reh              European.Roe    \n",
       "    scientific_name     scientific_name_subspecies host_taxid class         \n",
       "1   Abramis_brama       NA                         38527      Actinopterygii\n",
       "2   Cervus_elaphus      NA                          9860      Mammalia      \n",
       "⋮   ⋮                   ⋮                          ⋮          ⋮             \n",
       "184 Equus_quagga        NA                         89252      Mammalia      \n",
       "185 Capreolus_capreolus NA                          9858      Mammalia      \n",
       "    order          family     ⋯ CH4_kJ.d_sd i.CH4_L.d_mean i.CH4_L.d_sd\n",
       "1   Cypriniformes  Cyprinidae ⋯       NA          NA             NA    \n",
       "2   Artiodactyla   Cervidae   ⋯ 1075.505    52.24132       27.18306    \n",
       "⋮   ⋮              ⋮          ⋱ ⋮           ⋮              ⋮           \n",
       "184 Perissodactyla Equidae    ⋯ NA          NA             NA          \n",
       "185 Artiodactyla   Cervidae   ⋯ NA          NA             NA          \n",
       "    i.CH4_L.kgBM_mean i.CH4_L.kgBM_sd i.CH4_g.d_mean i.CH4_g.d_sd\n",
       "1          NA                NA             NA             NA    \n",
       "2   0.4858472         0.1686955       38.67117       21.30162    \n",
       "⋮   ⋮                 ⋮               ⋮              ⋮           \n",
       "184 NA                NA              NA             NA          \n",
       "185 NA                NA              NA             NA          \n",
       "    i.CH4_kJ.d_mean i.CH4_kJ.d_sd Sample          \n",
       "1         NA              NA      F14_Common_Bream\n",
       "2   2066.942        1075.505      F35_Red_Deer    \n",
       "⋮   ⋮               ⋮             ⋮               \n",
       "184 NA              NA            X431_Quagga     \n",
       "185 NA              NA            X67_European_Roe"
      ]
     },
     "metadata": {},
     "output_type": "display_data"
    }
   ],
   "source": [
    "# species metadata\n",
    "meta = readRDS(physeq_arch_IndD_file) %>%\n",
    "    phyloseq2df(sample_data) \n",
    "meta"
   ]
  },
  {
   "cell_type": "code",
   "execution_count": 146,
   "metadata": {
    "ExecuteTime": {
     "end_time": "2020-10-06T08:37:03.927556Z",
     "start_time": "2020-10-06T08:37:03.792Z"
    }
   },
   "outputs": [
    {
     "data": {
      "text/html": [
       "<table>\n",
       "<caption>A tibble: 185 × 17</caption>\n",
       "<thead>\n",
       "\t<tr><th scope=col>sample_alias</th><th scope=col>tax_id</th><th scope=col>scientific_name</th><th scope=col>common_name</th><th scope=col>sample_title</th><th scope=col>sample_description</th><th scope=col>investigation type</th><th scope=col>project name</th><th scope=col>sequencing method</th><th scope=col>collection date</th><th scope=col>geographic location (country and/or sea)</th><th scope=col>geographic location (latitude)</th><th scope=col>geographic location (longitude)</th><th scope=col>human gut environmental package</th><th scope=col>environment (biome)</th><th scope=col>environment (feature)</th><th scope=col>environment (material)</th></tr>\n",
       "\t<tr><th scope=col>&lt;chr&gt;</th><th scope=col>&lt;int&gt;</th><th scope=col>&lt;chr&gt;</th><th scope=col>&lt;chr&gt;</th><th scope=col>&lt;chr&gt;</th><th scope=col>&lt;chr&gt;</th><th scope=col>&lt;chr&gt;</th><th scope=col>&lt;chr&gt;</th><th scope=col>&lt;chr&gt;</th><th scope=col>&lt;chr&gt;</th><th scope=col>&lt;chr&gt;</th><th scope=col>&lt;dbl&gt;</th><th scope=col>&lt;dbl&gt;</th><th scope=col>&lt;chr&gt;</th><th scope=col>&lt;chr&gt;</th><th scope=col>&lt;chr&gt;</th><th scope=col>&lt;chr&gt;</th></tr>\n",
       "</thead>\n",
       "<tbody>\n",
       "\t<tr><td>F14_Common_Bream_16Sarc</td><td>38527</td><td>Abramis_brama </td><td>Common.Bream</td><td>F14_Common_Bream_16Sarc</td><td>16S amplicon</td><td>metagenome</td><td>Georg_animal_gut_16Sarc</td><td>MiSeq</td><td>2010-08-10</td><td>Austria</td><td>48.20833</td><td>16.37306</td><td>human-gut</td><td>human gut microbiome</td><td>gut</td><td>feces</td></tr>\n",
       "\t<tr><td>F35_Red_Deer_16Sarc    </td><td> 9860</td><td>Cervus_elaphus</td><td>Red.Deer    </td><td>F35_Red_Deer_16Sarc    </td><td>16S amplicon</td><td>metagenome</td><td>Georg_animal_gut_16Sarc</td><td>MiSeq</td><td>2010-09-29</td><td>Austria</td><td>48.20833</td><td>16.37306</td><td>human-gut</td><td>human gut microbiome</td><td>gut</td><td>feces</td></tr>\n",
       "\t<tr><td>⋮</td><td>⋮</td><td>⋮</td><td>⋮</td><td>⋮</td><td>⋮</td><td>⋮</td><td>⋮</td><td>⋮</td><td>⋮</td><td>⋮</td><td>⋮</td><td>⋮</td><td>⋮</td><td>⋮</td><td>⋮</td><td>⋮</td></tr>\n",
       "\t<tr><td>X431_Quagga_16Sarc     </td><td>89252</td><td>Equus_quagga       </td><td>Quagga      </td><td>X431_Quagga_16Sarc     </td><td>16S amplicon</td><td>metagenome</td><td>Georg_animal_gut_16Sarc</td><td>MiSeq</td><td>2013-12-15</td><td>Austria</td><td>47.22400</td><td>15.81200</td><td>human-gut</td><td>human gut microbiome</td><td>gut</td><td>feces</td></tr>\n",
       "\t<tr><td>X67_European_Roe_16Sarc</td><td> 9858</td><td>Capreolus_capreolus</td><td>European.Roe</td><td>X67_European_Roe_16Sarc</td><td>16S amplicon</td><td>metagenome</td><td>Georg_animal_gut_16Sarc</td><td>MiSeq</td><td>2011-10-31</td><td>Austria</td><td>48.20833</td><td>16.37306</td><td>human-gut</td><td>human gut microbiome</td><td>gut</td><td>feces</td></tr>\n",
       "</tbody>\n",
       "</table>\n"
      ],
      "text/latex": [
       "A tibble: 185 × 17\n",
       "\\begin{tabular}{lllllllllllllllll}\n",
       " sample\\_alias & tax\\_id & scientific\\_name & common\\_name & sample\\_title & sample\\_description & investigation type & project name & sequencing method & collection date & geographic location (country and/or sea) & geographic location (latitude) & geographic location (longitude) & human gut environmental package & environment (biome) & environment (feature) & environment (material)\\\\\n",
       " <chr> & <int> & <chr> & <chr> & <chr> & <chr> & <chr> & <chr> & <chr> & <chr> & <chr> & <dbl> & <dbl> & <chr> & <chr> & <chr> & <chr>\\\\\n",
       "\\hline\n",
       "\t F14\\_Common\\_Bream\\_16Sarc & 38527 & Abramis\\_brama  & Common.Bream & F14\\_Common\\_Bream\\_16Sarc & 16S amplicon & metagenome & Georg\\_animal\\_gut\\_16Sarc & MiSeq & 2010-08-10 & Austria & 48.20833 & 16.37306 & human-gut & human gut microbiome & gut & feces\\\\\n",
       "\t F35\\_Red\\_Deer\\_16Sarc     &  9860 & Cervus\\_elaphus & Red.Deer     & F35\\_Red\\_Deer\\_16Sarc     & 16S amplicon & metagenome & Georg\\_animal\\_gut\\_16Sarc & MiSeq & 2010-09-29 & Austria & 48.20833 & 16.37306 & human-gut & human gut microbiome & gut & feces\\\\\n",
       "\t ⋮ & ⋮ & ⋮ & ⋮ & ⋮ & ⋮ & ⋮ & ⋮ & ⋮ & ⋮ & ⋮ & ⋮ & ⋮ & ⋮ & ⋮ & ⋮ & ⋮\\\\\n",
       "\t X431\\_Quagga\\_16Sarc      & 89252 & Equus\\_quagga        & Quagga       & X431\\_Quagga\\_16Sarc      & 16S amplicon & metagenome & Georg\\_animal\\_gut\\_16Sarc & MiSeq & 2013-12-15 & Austria & 47.22400 & 15.81200 & human-gut & human gut microbiome & gut & feces\\\\\n",
       "\t X67\\_European\\_Roe\\_16Sarc &  9858 & Capreolus\\_capreolus & European.Roe & X67\\_European\\_Roe\\_16Sarc & 16S amplicon & metagenome & Georg\\_animal\\_gut\\_16Sarc & MiSeq & 2011-10-31 & Austria & 48.20833 & 16.37306 & human-gut & human gut microbiome & gut & feces\\\\\n",
       "\\end{tabular}\n"
      ],
      "text/markdown": [
       "\n",
       "A tibble: 185 × 17\n",
       "\n",
       "| sample_alias &lt;chr&gt; | tax_id &lt;int&gt; | scientific_name &lt;chr&gt; | common_name &lt;chr&gt; | sample_title &lt;chr&gt; | sample_description &lt;chr&gt; | investigation type &lt;chr&gt; | project name &lt;chr&gt; | sequencing method &lt;chr&gt; | collection date &lt;chr&gt; | geographic location (country and/or sea) &lt;chr&gt; | geographic location (latitude) &lt;dbl&gt; | geographic location (longitude) &lt;dbl&gt; | human gut environmental package &lt;chr&gt; | environment (biome) &lt;chr&gt; | environment (feature) &lt;chr&gt; | environment (material) &lt;chr&gt; |\n",
       "|---|---|---|---|---|---|---|---|---|---|---|---|---|---|---|---|---|\n",
       "| F14_Common_Bream_16Sarc | 38527 | Abramis_brama  | Common.Bream | F14_Common_Bream_16Sarc | 16S amplicon | metagenome | Georg_animal_gut_16Sarc | MiSeq | 2010-08-10 | Austria | 48.20833 | 16.37306 | human-gut | human gut microbiome | gut | feces |\n",
       "| F35_Red_Deer_16Sarc     |  9860 | Cervus_elaphus | Red.Deer     | F35_Red_Deer_16Sarc     | 16S amplicon | metagenome | Georg_animal_gut_16Sarc | MiSeq | 2010-09-29 | Austria | 48.20833 | 16.37306 | human-gut | human gut microbiome | gut | feces |\n",
       "| ⋮ | ⋮ | ⋮ | ⋮ | ⋮ | ⋮ | ⋮ | ⋮ | ⋮ | ⋮ | ⋮ | ⋮ | ⋮ | ⋮ | ⋮ | ⋮ | ⋮ |\n",
       "| X431_Quagga_16Sarc      | 89252 | Equus_quagga        | Quagga       | X431_Quagga_16Sarc      | 16S amplicon | metagenome | Georg_animal_gut_16Sarc | MiSeq | 2013-12-15 | Austria | 47.22400 | 15.81200 | human-gut | human gut microbiome | gut | feces |\n",
       "| X67_European_Roe_16Sarc |  9858 | Capreolus_capreolus | European.Roe | X67_European_Roe_16Sarc | 16S amplicon | metagenome | Georg_animal_gut_16Sarc | MiSeq | 2011-10-31 | Austria | 48.20833 | 16.37306 | human-gut | human gut microbiome | gut | feces |\n",
       "\n"
      ],
      "text/plain": [
       "    sample_alias            tax_id scientific_name     common_name \n",
       "1   F14_Common_Bream_16Sarc 38527  Abramis_brama       Common.Bream\n",
       "2   F35_Red_Deer_16Sarc      9860  Cervus_elaphus      Red.Deer    \n",
       "⋮   ⋮                       ⋮      ⋮                   ⋮           \n",
       "184 X431_Quagga_16Sarc      89252  Equus_quagga        Quagga      \n",
       "185 X67_European_Roe_16Sarc  9858  Capreolus_capreolus European.Roe\n",
       "    sample_title            sample_description investigation type\n",
       "1   F14_Common_Bream_16Sarc 16S amplicon       metagenome        \n",
       "2   F35_Red_Deer_16Sarc     16S amplicon       metagenome        \n",
       "⋮   ⋮                       ⋮                  ⋮                 \n",
       "184 X431_Quagga_16Sarc      16S amplicon       metagenome        \n",
       "185 X67_European_Roe_16Sarc 16S amplicon       metagenome        \n",
       "    project name            sequencing method collection date\n",
       "1   Georg_animal_gut_16Sarc MiSeq             2010-08-10     \n",
       "2   Georg_animal_gut_16Sarc MiSeq             2010-09-29     \n",
       "⋮   ⋮                       ⋮                 ⋮              \n",
       "184 Georg_animal_gut_16Sarc MiSeq             2013-12-15     \n",
       "185 Georg_animal_gut_16Sarc MiSeq             2011-10-31     \n",
       "    geographic location (country and/or sea) geographic location (latitude)\n",
       "1   Austria                                  48.20833                      \n",
       "2   Austria                                  48.20833                      \n",
       "⋮   ⋮                                        ⋮                             \n",
       "184 Austria                                  47.22400                      \n",
       "185 Austria                                  48.20833                      \n",
       "    geographic location (longitude) human gut environmental package\n",
       "1   16.37306                        human-gut                      \n",
       "2   16.37306                        human-gut                      \n",
       "⋮   ⋮                               ⋮                              \n",
       "184 15.81200                        human-gut                      \n",
       "185 16.37306                        human-gut                      \n",
       "    environment (biome)  environment (feature) environment (material)\n",
       "1   human gut microbiome gut                   feces                 \n",
       "2   human gut microbiome gut                   feces                 \n",
       "⋮   ⋮                    ⋮                     ⋮                     \n",
       "184 human gut microbiome gut                   feces                 \n",
       "185 human gut microbiome gut                   feces                 "
      ]
     },
     "metadata": {},
     "output_type": "display_data"
    }
   ],
   "source": [
    "# formatting\n",
    "meta_f = meta %>%\n",
    "    semi_join(exp, c('Sample'='sample_alias')) %>%\n",
    "    dplyr::select(Sample, host_taxid, scientific_name, host_common_name,\n",
    "                  collection_date, country, latitude, longitude, \n",
    "                  sample_type, ) %>%\n",
    "    mutate(Sample = gsub('$', '_16Sarc', Sample)) %>%\n",
    "    mutate(collection_date = ifelse(collection_date == 'Autumn 2013', \n",
    "                                  '10/01/2013', collection_date)) %>%\n",
    "    mutate(collection_date = as.character(as.Date(collection_date, '%m/%d/%y'))) %>%\n",
    "    mutate(sample_title = Sample,\n",
    "           sample_description = '16S amplicon',\n",
    "           `investigation type` = 'metagenome',\n",
    "           `project name` = 'Georg_animal_gut_16Sarc',\n",
    "           `sequencing method` = 'MiSeq',\n",
    "           `human gut environmental package` = 'human-gut',\n",
    "           `environment (biome)` = 'human gut microbiome',\n",
    "           `environment (feature)` = 'gut') %>%\n",
    "    rename('sample_alias' = Sample,\n",
    "           'tax_id' = host_taxid,\n",
    "           'common_name' = host_common_name,\n",
    "           'collection date' = collection_date,\n",
    "           'geographic location (country and/or sea)' = country,\n",
    "           'geographic location (latitude)' = latitude,\n",
    "           'geographic location (longitude)' = longitude,\n",
    "           'environment (material)' = sample_type) %>%\n",
    "    dplyr::select(sample_alias, tax_id, scientific_name, common_name,\n",
    "                  sample_title, sample_description, `investigation type`,\n",
    "                  `project name`, `sequencing method`, `collection date`,\n",
    "                  `geographic location (country and/or sea)`,\n",
    "                  `geographic location (latitude)`,\n",
    "                  `geographic location (longitude)`,\n",
    "                  `human gut environmental package`,\n",
    "                  `environment (biome)`,\n",
    "                  `environment (feature)`,\n",
    "                  `environment (material)`)\n",
    "meta_f"
   ]
  },
  {
   "cell_type": "code",
   "execution_count": 147,
   "metadata": {
    "ExecuteTime": {
     "end_time": "2020-10-06T08:37:04.177238Z",
     "start_time": "2020-10-06T08:37:04.133Z"
    }
   },
   "outputs": [
    {
     "name": "stderr",
     "output_type": "stream",
     "text": [
      "Warning message in write.table(meta_f, file = outfile, sep = \"\\t\", quote = FALSE, :\n",
      "“appending column names to file”\n"
     ]
    },
    {
     "name": "stdout",
     "output_type": "stream",
     "text": [
      "File written: /ebio/abt3_projects/Georg_animal_feces/data/16S_arch/MiSeq-Runs-116-122-126-189-190/db_submission//sample_final.tsv \n"
     ]
    }
   ],
   "source": [
    "# writing file\n",
    "outfile = file.path(work_dir, 'sample_final.tsv') \n",
    "cat('#checklist_accession\tERC000015\\n', file=outfile)\n",
    "cat('#unique_name_prefix\\n', file=outfile, append=TRUE)\n",
    "write.table(meta_f, file=outfile, sep='\\t', quote=FALSE, \n",
    "            row.names=FALSE, append=TRUE)\n",
    "cat('File written:', outfile, '\\n')"
   ]
  },
  {
   "cell_type": "markdown",
   "metadata": {},
   "source": [
    "## Finish-up"
   ]
  },
  {
   "cell_type": "markdown",
   "metadata": {},
   "source": [
    "* Created study: PRJEB40672\n",
    "* Uploaded `sample_final.tsv` and `experiment_final.tsv`"
   ]
  },
  {
   "cell_type": "markdown",
   "metadata": {},
   "source": [
    "### Submission summary"
   ]
  },
  {
   "cell_type": "markdown",
   "metadata": {
    "ExecuteTime": {
     "end_time": "2020-10-06T10:09:34.697150Z",
     "start_time": "2020-10-06T10:09:34.667Z"
    }
   },
   "source": [
    "```\n",
    "Accession Summary\n",
    "-----------------\n",
    "Type\tAccession\tUnique Name\n",
    "Sample\tERS5134923 (SAMEA7376482) \tF14_Common_Bream_16Sarc\n",
    "Sample\tERS5134924 (SAMEA7376483) \tF35_Red_Deer_16Sarc\n",
    "Sample\tERS5134925 (SAMEA7376484) \tF36_Red_Deer_16Sarc\n",
    "Sample\tERS5134926 (SAMEA7376485) \tF44_Fallow_Deer_16Sarc\n",
    "Sample\tERS5134927 (SAMEA7376486) \tF45_Red_Deer_16Sarc\n",
    "Sample\tERS5134928 (SAMEA7376487) \tF46_Red_Deer_16Sarc\n",
    "Sample\tERS5134929 (SAMEA7376488) \tF47_Red_Deer_16Sarc\n",
    "Sample\tERS5134930 (SAMEA7376489) \tF48_Red_Deer_16Sarc\n",
    "Sample\tERS5134931 (SAMEA7376490) \tF53_Mouflon_16Sarc\n",
    "Sample\tERS5134932 (SAMEA7376491) \tF66_Wild_Boar_16Sarc\n",
    "Sample\tERS5134933 (SAMEA7376492) \tF68_Red_Deer_16Sarc\n",
    "Sample\tERS5134934 (SAMEA7376493) \tF69_Red_Deer_16Sarc\n",
    "Sample\tERS5134935 (SAMEA7376494) \tF70_Red_Deer_16Sarc\n",
    "Sample\tERS5134936 (SAMEA7376495) \tF80_Red_Deer_16Sarc\n",
    "Sample\tERS5134937 (SAMEA7376496) \tF90_Domestic_Dog_16Sarc\n",
    "Sample\tERS5134938 (SAMEA7376497) \tX101_Horse_16Sarc\n",
    "Sample\tERS5134939 (SAMEA7376498) \tX102_Kulan_16Sarc\n",
    "Sample\tERS5134940 (SAMEA7376499) \tX109_Red_Fox_16Sarc\n",
    "Sample\tERS5134941 (SAMEA7376500) \tX11_Onager_16Sarc\n",
    "Sample\tERS5134942 (SAMEA7376501) \tX111_West_European_Hedgehog_16Sarc\n",
    "Sample\tERS5134943 (SAMEA7376502) \tX116_Common_Kestrel_16Sarc\n",
    "Sample\tERS5134944 (SAMEA7376503) \tX117_Long_eared_Owl_16Sarc\n",
    "Sample\tERS5134945 (SAMEA7376504) \tX119_Ural_Owl_16Sarc\n",
    "Sample\tERS5134946 (SAMEA7376505) \tX121_Raccoon_Dog_16Sarc\n",
    "Sample\tERS5134947 (SAMEA7376506) \tX122_Wild_Boar_16Sarc\n",
    "Sample\tERS5134948 (SAMEA7376507) \tX123_Alpine_Chamois_16Sarc\n",
    "Sample\tERS5134949 (SAMEA7376508) \tX125_Common_Carp_16Sarc\n",
    "Sample\tERS5134950 (SAMEA7376509) \tX128_Alpine_Marmot_16Sarc\n",
    "Sample\tERS5134951 (SAMEA7376510) \tX129_Alpine_Ibex_16Sarc\n",
    "Sample\tERS5134952 (SAMEA7376511) \tX13_Wolf_16Sarc\n",
    "Sample\tERS5134953 (SAMEA7376512) \tX130_Alpine_Ibex_16Sarc\n",
    "Sample\tERS5134954 (SAMEA7376513) \tX131_Rock_Ptarmigan_16Sarc\n",
    "Sample\tERS5134955 (SAMEA7376514) \tX135_Horse_16Sarc\n",
    "Sample\tERS5134956 (SAMEA7376515) \tX137_Gaur_16Sarc\n",
    "Sample\tERS5134957 (SAMEA7376516) \tX138_Gaur_16Sarc\n",
    "Sample\tERS5134958 (SAMEA7376517) \tX139_Sambar_16Sarc\n",
    "Sample\tERS5134959 (SAMEA7376518) \tX140_Sambar_16Sarc\n",
    "Sample\tERS5134960 (SAMEA7376519) \tX141_Red_cheeked_Gibbon_16Sarc\n",
    "Sample\tERS5134961 (SAMEA7376520) \tX146_Cattle_16Sarc\n",
    "Sample\tERS5134962 (SAMEA7376521) \tX15_Tawny_Owl_16Sarc\n",
    "Sample\tERS5134963 (SAMEA7376522) \tX153_Bank_Vole_16Sarc\n",
    "Sample\tERS5134964 (SAMEA7376523) \tX154_Tree_Shrew_16Sarc\n",
    "Sample\tERS5134965 (SAMEA7376524) \tX157_Grey_Heron_16Sarc\n",
    "Sample\tERS5134966 (SAMEA7376525) \tX158_White_tailed_Eagle_16Sarc\n",
    "Sample\tERS5134967 (SAMEA7376526) \tX16_Fat_Dormouse_16Sarc\n",
    "Sample\tERS5134968 (SAMEA7376527) \tX164_Greylag_Goose_16Sarc\n",
    "Sample\tERS5134969 (SAMEA7376528) \tX170_Tawny_Owl_16Sarc\n",
    "Sample\tERS5134970 (SAMEA7376529) \tX172_European_Greenfinch_16Sarc\n",
    "Sample\tERS5134971 (SAMEA7376530) \tX174_Great_Tit_16Sarc\n",
    "Sample\tERS5134972 (SAMEA7376531) \tX179_Roach_16Sarc\n",
    "Sample\tERS5134973 (SAMEA7376532) \tX194_Agile_Frog_16Sarc\n",
    "Sample\tERS5134974 (SAMEA7376533) \tX195_Domestic_Cat_16Sarc\n",
    "Sample\tERS5134975 (SAMEA7376534) \tX203_Red_Deer_16Sarc\n",
    "Sample\tERS5134976 (SAMEA7376535) \tX206_Red_Sheep_16Sarc\n",
    "Sample\tERS5134977 (SAMEA7376536) \tX212_Goose_16Sarc\n",
    "Sample\tERS5134978 (SAMEA7376537) \tX213_Goose_16Sarc\n",
    "Sample\tERS5134979 (SAMEA7376538) \tX214_Goose_16Sarc\n",
    "Sample\tERS5134980 (SAMEA7376539) \tX215_Goose_16Sarc\n",
    "Sample\tERS5134981 (SAMEA7376540) \tX218_Goose_16Sarc\n",
    "Sample\tERS5134982 (SAMEA7376541) \tX219_Goose_16Sarc\n",
    "Sample\tERS5134983 (SAMEA7376542) \tX22_European_Rabbit_16Sarc\n",
    "Sample\tERS5134984 (SAMEA7376543) \tX221_Alpine_Ibex_16Sarc\n",
    "Sample\tERS5134985 (SAMEA7376544) \tX23_Garden_Dormouse_16Sarc\n",
    "Sample\tERS5134986 (SAMEA7376545) \tX230_Carrion_Crow_16Sarc\n",
    "Sample\tERS5134987 (SAMEA7376546) \tX233_Aesculapian_Snake_16Sarc\n",
    "Sample\tERS5134988 (SAMEA7376547) \tX234_Beech_Marten_16Sarc\n",
    "Sample\tERS5134989 (SAMEA7376548) \tX236_Pygmy_Slow_Loris_16Sarc\n",
    "Sample\tERS5134990 (SAMEA7376549) \tX237_Red_shanked_Douc_Langur_16Sarc\n",
    "Sample\tERS5134991 (SAMEA7376550) \tX238_Hanuman_Langur_16Sarc\n",
    "Sample\tERS5134992 (SAMEA7376551) \tX240_Southern_White_cheeked_Gibbon_16Sarc\n",
    "Sample\tERS5134993 (SAMEA7376552) \tX241_Italian_wall_lizard_16Sarc\n",
    "Sample\tERS5134994 (SAMEA7376553) \tX242_Dalmatian_Tortoise_16Sarc\n",
    "Sample\tERS5134995 (SAMEA7376554) \tX247_Common_Hamster_16Sarc\n",
    "Sample\tERS5134996 (SAMEA7376555) \tX252_Eurasian_Lynx_16Sarc\n",
    "Sample\tERS5134997 (SAMEA7376556) \tX259_Mute_Swan_16Sarc\n",
    "Sample\tERS5134998 (SAMEA7376557) \tX260_Blackbird_16Sarc\n",
    "Sample\tERS5134999 (SAMEA7376558) \tX265_Western_Marsh_Harrier_16Sarc\n",
    "Sample\tERS5135000 (SAMEA7376559) \tX266_Western_Marsh_Harrier_16Sarc\n",
    "Sample\tERS5135001 (SAMEA7376560) \tX268_Rook_16Sarc\n",
    "Sample\tERS5135002 (SAMEA7376561) \tX270_Common_Pheasant_16Sarc\n",
    "Sample\tERS5135003 (SAMEA7376562) \tX271_Common_Pheasant_16Sarc\n",
    "Sample\tERS5135004 (SAMEA7376563) \tX279_Western_Grey_Kangaroo_16Sarc\n",
    "Sample\tERS5135005 (SAMEA7376564) \tX280_Western_Grey_Kangaroo_16Sarc\n",
    "Sample\tERS5135006 (SAMEA7376565) \tX283_Koala_16Sarc\n",
    "Sample\tERS5135007 (SAMEA7376566) \tX285_Short_beaked_Echidna_16Sarc\n",
    "Sample\tERS5135008 (SAMEA7376567) \tX286_Short_beaked_Echidna_16Sarc\n",
    "Sample\tERS5135009 (SAMEA7376568) \tX287_Common_Brushtail_16Sarc\n",
    "Sample\tERS5135010 (SAMEA7376569) \tX288_Common_Brushtail_16Sarc\n",
    "Sample\tERS5135011 (SAMEA7376570) \tX289_Eastern_Grey_Kangaroo_16Sarc\n",
    "Sample\tERS5135012 (SAMEA7376571) \tX290_Eastern_Grey_Kangaroo_16Sarc\n",
    "Sample\tERS5135013 (SAMEA7376572) \tX292_Central_Bearded_Dragon_16Sarc\n",
    "Sample\tERS5135014 (SAMEA7376573) \tX305_European_Hare_16Sarc\n",
    "Sample\tERS5135015 (SAMEA7376574) \tX31_Chicken_16Sarc\n",
    "Sample\tERS5135016 (SAMEA7376575) \tX32_Greylag_Goose_16Sarc\n",
    "Sample\tERS5135017 (SAMEA7376576) \tX320_Red_Deer_16Sarc\n",
    "Sample\tERS5135018 (SAMEA7376577) \tX326_Silver_Bream_16Sarc\n",
    "Sample\tERS5135019 (SAMEA7376578) \tX327_Silver_Bream_16Sarc\n",
    "Sample\tERS5135020 (SAMEA7376579) \tX328_Prussian_Carp_16Sarc\n",
    "Sample\tERS5135021 (SAMEA7376580) \tX33_Wild_Turkey_16Sarc\n",
    "Sample\tERS5135022 (SAMEA7376581) \tX330_Ide_16Sarc\n",
    "Sample\tERS5135023 (SAMEA7376582) \tX333_Gray_Seal_16Sarc\n",
    "Sample\tERS5135024 (SAMEA7376583) \tX336_Sei_Whale_16Sarc\n",
    "Sample\tERS5135025 (SAMEA7376584) \tX338_White_beaked_Dolphin_16Sarc\n",
    "Sample\tERS5135026 (SAMEA7376585) \tX339_White_beaked_Dolphin_16Sarc\n",
    "Sample\tERS5135027 (SAMEA7376586) \tX34_Mallard_Duck_16Sarc\n",
    "Sample\tERS5135028 (SAMEA7376587) \tX340_Western_Lowland_Gorilla_16Sarc\n",
    "Sample\tERS5135029 (SAMEA7376588) \tX341_Western_Lowland_Gorilla_16Sarc\n",
    "Sample\tERS5135030 (SAMEA7376589) \tX344_Indian_Rhinoceros_16Sarc\n",
    "Sample\tERS5135031 (SAMEA7376590) \tX349_Smooth_Newt_16Sarc\n",
    "Sample\tERS5135032 (SAMEA7376591) \tX350_Smooth_Newt_16Sarc\n",
    "Sample\tERS5135033 (SAMEA7376592) \tX351_Grass_Snake_16Sarc\n",
    "Sample\tERS5135034 (SAMEA7376593) \tX352_Kinkajou_16Sarc\n",
    "Sample\tERS5135035 (SAMEA7376594) \tX353_Raccoon_16Sarc\n",
    "Sample\tERS5135036 (SAMEA7376595) \tX356_Northern_Tamandua_16Sarc\n",
    "Sample\tERS5135037 (SAMEA7376596) \tX360_White_tailed_Deer_16Sarc\n",
    "Sample\tERS5135038 (SAMEA7376597) \tX363_Desmarests_Spiny_Pocket_Mouse_16Sarc\n",
    "Sample\tERS5135039 (SAMEA7376598) \tX368_European_Ground_Squirrel_16Sarc\n",
    "Sample\tERS5135040 (SAMEA7376599) \tX369_Koala_16Sarc\n",
    "Sample\tERS5135041 (SAMEA7376600) \tX370_African_Bush_Elephant_16Sarc\n",
    "Sample\tERS5135042 (SAMEA7376601) \tX371_Linnaeus_Two_toed_Sloth_16Sarc\n",
    "Sample\tERS5135043 (SAMEA7376602) \tX372_Emu_16Sarc\n",
    "Sample\tERS5135044 (SAMEA7376603) \tX376_Kulan_16Sarc\n",
    "Sample\tERS5135045 (SAMEA7376604) \tX378_Fat_Sand_Rat_16Sarc\n",
    "Sample\tERS5135046 (SAMEA7376605) \tX380_Wild_Boar_16Sarc\n",
    "Sample\tERS5135047 (SAMEA7376606) \tX381_Wild_Boar_16Sarc\n",
    "Sample\tERS5135048 (SAMEA7376607) \tX382_Arctic_Wolf_16Sarc\n",
    "Sample\tERS5135049 (SAMEA7376608) \tX384_Eurasian_Lynx_16Sarc\n",
    "Sample\tERS5135050 (SAMEA7376609) \tX389_Indian_Rhinoceros_16Sarc\n",
    "Sample\tERS5135051 (SAMEA7376610) \tX390_European_Ground_Squirrel_16Sarc\n",
    "Sample\tERS5135052 (SAMEA7376611) \tX391_European_Ground_Squirrel_16Sarc\n",
    "Sample\tERS5135053 (SAMEA7376612) \tX394_Przewalski_horse_16Sarc\n",
    "Sample\tERS5135054 (SAMEA7376613) \tX395_Przewalski_horse_16Sarc\n",
    "Sample\tERS5135055 (SAMEA7376614) \tX396_Morelets_crocodile_16Sarc\n",
    "Sample\tERS5135056 (SAMEA7376615) \tX40_Bactrian_Camel_16Sarc\n",
    "Sample\tERS5135057 (SAMEA7376616) \tX404_Brown_Greater_Galago_16Sarc\n",
    "Sample\tERS5135058 (SAMEA7376617) \tX407_African_Bush_Elephant_16Sarc\n",
    "Sample\tERS5135059 (SAMEA7376618) \tX408_African_Bush_Elephant_16Sarc\n",
    "Sample\tERS5135060 (SAMEA7376619) \tX409_Impala_16Sarc\n",
    "Sample\tERS5135061 (SAMEA7376620) \tX41_Pika_16Sarc\n",
    "Sample\tERS5135062 (SAMEA7376621) \tX410_Impala_16Sarc\n",
    "Sample\tERS5135063 (SAMEA7376622) \tX411_Leopard_16Sarc\n",
    "Sample\tERS5135064 (SAMEA7376623) \tX414_Vervet_Monkey_16Sarc\n",
    "Sample\tERS5135065 (SAMEA7376624) \tX415_White_Rhinoceros_16Sarc\n",
    "Sample\tERS5135066 (SAMEA7376625) \tX416_White_Rhinoceros_16Sarc\n",
    "Sample\tERS5135067 (SAMEA7376626) \tX417_Giraffe_16Sarc\n",
    "Sample\tERS5135068 (SAMEA7376627) \tX418_Giraffe_16Sarc\n",
    "Sample\tERS5135069 (SAMEA7376628) \tX419_African_Buffalo_16Sarc\n",
    "Sample\tERS5135070 (SAMEA7376629) \tX42_Goitered_Gazelle_16Sarc\n",
    "Sample\tERS5135071 (SAMEA7376630) \tX420_Cattle_16Sarc\n",
    "Sample\tERS5135072 (SAMEA7376631) \tX421_Common_Hippopotamus_16Sarc\n",
    "Sample\tERS5135073 (SAMEA7376632) \tX422_Common_Hippopotamus_16Sarc\n",
    "Sample\tERS5135074 (SAMEA7376633) \tX423_Quagga_16Sarc\n",
    "Sample\tERS5135075 (SAMEA7376634) \tX424_Quagga_16Sarc\n",
    "Sample\tERS5135076 (SAMEA7376635) \tX426_Ural_Owl_16Sarc\n",
    "Sample\tERS5135077 (SAMEA7376636) \tX427_Great_Spotted_Woodpecker_16Sarc\n",
    "Sample\tERS5135078 (SAMEA7376637) \tX428_African_Bush_Elephant_16Sarc\n",
    "Sample\tERS5135079 (SAMEA7376638) \tX429_Giraffe_16Sarc\n",
    "Sample\tERS5135080 (SAMEA7376639) \tX43_European_Badger_16Sarc\n",
    "Sample\tERS5135081 (SAMEA7376640) \tX430_Giraffe_16Sarc\n",
    "Sample\tERS5135082 (SAMEA7376641) \tX432_Vervet_Monkey_16Sarc\n",
    "Sample\tERS5135083 (SAMEA7376642) \tX434_Blue_Wildebeest_16Sarc\n",
    "Sample\tERS5135084 (SAMEA7376643) \tX435_Bactrian_Camel_16Sarc\n",
    "Sample\tERS5135085 (SAMEA7376644) \tX60_European_Chub_16Sarc\n",
    "Sample\tERS5135086 (SAMEA7376645) \tX66_Mouflon_16Sarc\n",
    "Sample\tERS5135087 (SAMEA7376646) \tX7_European_Otter_16Sarc\n",
    "Sample\tERS5135088 (SAMEA7376647) \tX73_One_humped_Camel_16Sarc\n",
    "Sample\tERS5135089 (SAMEA7376648) \tX77_Onager_16Sarc\n",
    "Sample\tERS5135090 (SAMEA7376649) \tX85_Domestic_Dog_16Sarc\n",
    "Sample\tERS5135091 (SAMEA7376650) \tX88_European_Rabbit_16Sarc\n",
    "Sample\tERS5135092 (SAMEA7376651) \tX93_Red_Sheep_16Sarc\n",
    "Sample\tERS5135093 (SAMEA7376652) \tX94_Mangalica_16Sarc\n",
    "Sample\tERS5135094 (SAMEA7376653) \tX95_Meadow_Viper_16Sarc\n",
    "Sample\tERS5135095 (SAMEA7376654) \tX96_European_Hare_16Sarc\n",
    "Sample\tERS5135096 (SAMEA7376655) \tF157a_European_Toad_16Sarc\n",
    "Sample\tERS5135097 (SAMEA7376656) \tX127_Alpine_Marmot_16Sarc\n",
    "Sample\tERS5135098 (SAMEA7376657) \tX133_Domestic_Goat_16Sarc\n",
    "Sample\tERS5135099 (SAMEA7376658) \tX134_Domestic_Goat_16Sarc\n",
    "Sample\tERS5135100 (SAMEA7376659) \tX281_Tammar_Wallaby_16Sarc\n",
    "Sample\tERS5135101 (SAMEA7376660) \tX3_Alpine_Chamois_16Sarc\n",
    "Sample\tERS5135102 (SAMEA7376661) \tX357_Northern_Tamandua_16Sarc\n",
    "Sample\tERS5135103 (SAMEA7376662) \tX359_Brown_throated_Sloth_16Sarc\n",
    "Sample\tERS5135104 (SAMEA7376663) \tX403_Chacma_Baboon_16Sarc\n",
    "Sample\tERS5135105 (SAMEA7376664) \tX405_Nile_Crocodile_16Sarc\n",
    "Sample\tERS5135106 (SAMEA7376665) \tX431_Quagga_16Sarc\n",
    "Sample\tERS5135107 (SAMEA7376666) \tX67_European_Roe_16Sarc\n",
    "```"
   ]
  },
  {
   "cell_type": "markdown",
   "metadata": {},
   "source": [
    "# sessionInfo"
   ]
  },
  {
   "cell_type": "code",
   "execution_count": 127,
   "metadata": {
    "ExecuteTime": {
     "end_time": "2020-10-06T08:24:10.782980Z",
     "start_time": "2020-10-06T08:24:10.462Z"
    }
   },
   "outputs": [
    {
     "data": {
      "text/plain": [
       "R version 3.6.3 (2020-02-29)\n",
       "Platform: x86_64-conda_cos6-linux-gnu (64-bit)\n",
       "Running under: Ubuntu 18.04.5 LTS\n",
       "\n",
       "Matrix products: default\n",
       "BLAS/LAPACK: /ebio/abt3_projects/Georg_animal_feces/envs/phyloseq/lib/libopenblasp-r0.3.9.so\n",
       "\n",
       "locale:\n",
       " [1] LC_CTYPE=en_US.UTF-8       LC_NUMERIC=C              \n",
       " [3] LC_TIME=en_US.UTF-8        LC_COLLATE=en_US.UTF-8    \n",
       " [5] LC_MONETARY=en_US.UTF-8    LC_MESSAGES=en_US.UTF-8   \n",
       " [7] LC_PAPER=en_US.UTF-8       LC_NAME=C                 \n",
       " [9] LC_ADDRESS=C               LC_TELEPHONE=C            \n",
       "[11] LC_MEASUREMENT=en_US.UTF-8 LC_IDENTIFICATION=C       \n",
       "\n",
       "attached base packages:\n",
       "[1] stats     graphics  grDevices utils     datasets  methods   base     \n",
       "\n",
       "other attached packages:\n",
       "[1] LeyLabRMisc_0.1.6 phyloseq_1.30.0   ggplot2_3.3.1     tidyr_1.1.0      \n",
       "[5] dplyr_1.0.0      \n",
       "\n",
       "loaded via a namespace (and not attached):\n",
       " [1] Rcpp_1.0.4.6        ape_5.4             lattice_0.20-41    \n",
       " [4] Biostrings_2.54.0   assertthat_0.2.1    digest_0.6.25      \n",
       " [7] foreach_1.5.0       IRdisplay_0.7.0     R6_2.4.1           \n",
       "[10] plyr_1.8.6          repr_1.1.0          stats4_3.6.3       \n",
       "[13] evaluate_0.14       pillar_1.4.4        zlibbioc_1.32.0    \n",
       "[16] rlang_0.4.6         uuid_0.1-4          data.table_1.12.8  \n",
       "[19] vegan_2.5-6         S4Vectors_0.24.0    Matrix_1.2-18      \n",
       "[22] splines_3.6.3       stringr_1.4.0       igraph_1.2.5       \n",
       "[25] munsell_0.5.0       compiler_3.6.3      pkgconfig_2.0.3    \n",
       "[28] BiocGenerics_0.32.0 base64enc_0.1-3     multtest_2.42.0    \n",
       "[31] mgcv_1.8-31         htmltools_0.4.0     biomformat_1.14.0  \n",
       "[34] tidyselect_1.1.0    tibble_3.0.1        IRanges_2.20.0     \n",
       "[37] codetools_0.2-16    fansi_0.4.1         permute_0.9-5      \n",
       "[40] crayon_1.3.4        withr_2.2.0         MASS_7.3-51.6      \n",
       "[43] grid_3.6.3          nlme_3.1-148        jsonlite_1.6.1     \n",
       "[46] gtable_0.3.0        lifecycle_0.2.0     magrittr_1.5       \n",
       "[49] scales_1.1.1        cli_2.0.2           stringi_1.4.6      \n",
       "[52] XVector_0.26.0      reshape2_1.4.4      ellipsis_0.3.1     \n",
       "[55] generics_0.0.2      vctrs_0.3.0         IRkernel_1.1       \n",
       "[58] Rhdf5lib_1.8.0      iterators_1.0.12    tools_3.6.3        \n",
       "[61] ade4_1.7-15         Biobase_2.46.0      glue_1.4.1         \n",
       "[64] purrr_0.3.4         parallel_3.6.3      survival_3.1-12    \n",
       "[67] colorspace_1.4-1    rhdf5_2.30.0        cluster_2.1.0      \n",
       "[70] pbdZMQ_0.3-3       "
      ]
     },
     "metadata": {},
     "output_type": "display_data"
    }
   ],
   "source": [
    "sessionInfo()"
   ]
  }
 ],
 "metadata": {
  "kernelspec": {
   "display_name": "R [conda env:Georg_animal_feces-phyloseq]",
   "language": "R",
   "name": "conda-env-Georg_animal_feces-phyloseq-r"
  },
  "language_info": {
   "codemirror_mode": "r",
   "file_extension": ".r",
   "mimetype": "text/x-r-source",
   "name": "R",
   "pygments_lexer": "r",
   "version": "3.6.3"
  },
  "toc": {
   "base_numbering": 1,
   "nav_menu": {},
   "number_sections": true,
   "sideBar": true,
   "skip_h1_title": false,
   "title_cell": "Table of Contents",
   "title_sidebar": "Contents",
   "toc_cell": true,
   "toc_position": {},
   "toc_section_display": true,
   "toc_window_display": true
  }
 },
 "nbformat": 4,
 "nbformat_minor": 4
}
