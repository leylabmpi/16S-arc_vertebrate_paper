{
 "cells": [
  {
   "cell_type": "markdown",
   "metadata": {
    "toc": true
   },
   "source": [
    "<h1>Table of Contents<span class=\"tocSkip\"></span></h1>\n",
    "<div class=\"toc\"><ul class=\"toc-item\"><li><span><a href=\"#Goal\" data-toc-modified-id=\"Goal-1\"><span class=\"toc-item-num\">1&nbsp;&nbsp;</span>Goal</a></span></li><li><span><a href=\"#Var\" data-toc-modified-id=\"Var-2\"><span class=\"toc-item-num\">2&nbsp;&nbsp;</span>Var</a></span></li><li><span><a href=\"#Init\" data-toc-modified-id=\"Init-3\"><span class=\"toc-item-num\">3&nbsp;&nbsp;</span>Init</a></span></li><li><span><a href=\"#Load\" data-toc-modified-id=\"Load-4\"><span class=\"toc-item-num\">4&nbsp;&nbsp;</span>Load</a></span><ul class=\"toc-item\"><li><span><a href=\"#Overlap\" data-toc-modified-id=\"Overlap-4.1\"><span class=\"toc-item-num\">4.1&nbsp;&nbsp;</span>Overlap</a></span></li></ul></li><li><span><a href=\"#Host-tree\" data-toc-modified-id=\"Host-tree-5\"><span class=\"toc-item-num\">5&nbsp;&nbsp;</span>Host tree</a></span><ul class=\"toc-item\"><li><span><a href=\"#Filtering\" data-toc-modified-id=\"Filtering-5.1\"><span class=\"toc-item-num\">5.1&nbsp;&nbsp;</span>Filtering</a></span></li><li><span><a href=\"#Writing-host-tree\" data-toc-modified-id=\"Writing-host-tree-5.2\"><span class=\"toc-item-num\">5.2&nbsp;&nbsp;</span>Writing host tree</a></span></li></ul></li><li><span><a href=\"#Formatting-for-iTOL\" data-toc-modified-id=\"Formatting-for-iTOL-6\"><span class=\"toc-item-num\">6&nbsp;&nbsp;</span>Formatting for iTOL</a></span><ul class=\"toc-item\"><li><span><a href=\"#Copies-per-g-feces\" data-toc-modified-id=\"Copies-per-g-feces-6.1\"><span class=\"toc-item-num\">6.1&nbsp;&nbsp;</span>Copies per g feces</a></span></li><li><span><a href=\"#Input-gDNA\" data-toc-modified-id=\"Input-gDNA-6.2\"><span class=\"toc-item-num\">6.2&nbsp;&nbsp;</span>Input gDNA</a></span><ul class=\"toc-item\"><li><span><a href=\"#color-strip\" data-toc-modified-id=\"color-strip-6.2.1\"><span class=\"toc-item-num\">6.2.1&nbsp;&nbsp;</span>color strip</a></span></li><li><span><a href=\"#heatmap\" data-toc-modified-id=\"heatmap-6.2.2\"><span class=\"toc-item-num\">6.2.2&nbsp;&nbsp;</span>heatmap</a></span></li></ul></li><li><span><a href=\"#Host-diet\" data-toc-modified-id=\"Host-diet-6.3\"><span class=\"toc-item-num\">6.3&nbsp;&nbsp;</span>Host diet</a></span></li><li><span><a href=\"#Host-body-temp\" data-toc-modified-id=\"Host-body-temp-6.4\"><span class=\"toc-item-num\">6.4&nbsp;&nbsp;</span>Host body temp</a></span></li></ul></li><li><span><a href=\"#sessionInfo\" data-toc-modified-id=\"sessionInfo-7\"><span class=\"toc-item-num\">7&nbsp;&nbsp;</span>sessionInfo</a></span></li></ul></div>"
   ]
  },
  {
   "cell_type": "markdown",
   "metadata": {},
   "source": [
    "# Goal\n",
    "\n",
    "* Map qPCR results to the host phylogeny"
   ]
  },
  {
   "cell_type": "markdown",
   "metadata": {},
   "source": [
    "# Var"
   ]
  },
  {
   "cell_type": "code",
   "execution_count": 3,
   "metadata": {
    "ExecuteTime": {
     "end_time": "2021-05-18T07:34:01.501654Z",
     "start_time": "2021-05-18T07:34:01.442Z"
    }
   },
   "outputs": [],
   "source": [
    "work_dir = '/ebio/abt3_projects/Georg_animal_feces/data/16S_arch/qPCR/174FR/'\n",
    "\n",
    "# processed qPCR data\n",
    "qPCR_file = '/ebio/abt3_projects/Georg_animal_feces/data/16S_arch/qPCR/174FR/2021-05-11/qPCR_results.tsv'\n",
    "\n",
    "# host tree\n",
    "host_tree_file = '/ebio/abt3_projects/Georg_animal_feces/data/animal/phylogeny/TT/unified_metadata_complete_20190416_rn_IndD.nwk'\n",
    "\n",
    "# all sample metadata\n",
    "metadata_file = '/ebio/abt3_projects/Georg_animal_feces/data/mapping/unified_metadata_complete_200429.tsv'\n",
    "\n",
    "# body temp data\n",
    "bt_file = '/ebio/abt3_projects/Georg_animal_feces/data/16S_arch/MiSeq-Runs-116-122-126-189-190/LLA/merged/bodyTemp_all.tsv'\n",
    "\n",
    "# params\n",
    "threads = 4"
   ]
  },
  {
   "cell_type": "markdown",
   "metadata": {},
   "source": [
    "# Init"
   ]
  },
  {
   "cell_type": "code",
   "execution_count": 4,
   "metadata": {
    "ExecuteTime": {
     "end_time": "2021-05-18T07:34:02.497205Z",
     "start_time": "2021-05-18T07:34:02.442Z"
    }
   },
   "outputs": [],
   "source": [
    "library(dplyr)\n",
    "library(tidyr)\n",
    "library(ggplot2)\n",
    "library(data.table)\n",
    "library(tidytable)\n",
    "library(ape)\n",
    "library(LeyLabRMisc)"
   ]
  },
  {
   "cell_type": "code",
   "execution_count": 5,
   "metadata": {
    "ExecuteTime": {
     "end_time": "2021-05-18T07:34:02.980694Z",
     "start_time": "2021-05-18T07:34:02.898Z"
    }
   },
   "outputs": [
    {
     "name": "stdout",
     "output_type": "stream",
     "text": [
      "Directory already exists: /ebio/abt3_projects/Georg_animal_feces/data/16S_arch/qPCR/174FR/ \n"
     ]
    }
   ],
   "source": [
    "make_dir(work_dir)\n",
    "setDTthreads(threads)\n",
    "df.dims()"
   ]
  },
  {
   "cell_type": "markdown",
   "metadata": {},
   "source": [
    "# Load"
   ]
  },
  {
   "cell_type": "code",
   "execution_count": 12,
   "metadata": {
    "ExecuteTime": {
     "end_time": "2021-05-18T07:34:36.837486Z",
     "start_time": "2021-05-18T07:34:36.712Z"
    }
   },
   "outputs": [
    {
     "data": {
      "text/html": [
       "<table class=\"dataframe\">\n",
       "<caption>A data.table: 475 × 72</caption>\n",
       "<thead>\n",
       "\t<tr><th scope=col>SampleID</th><th scope=col>host_subject_id</th><th scope=col>host_german_name</th><th scope=col>host_common_name</th><th scope=col>scientific_name</th><th scope=col>scientific_name_subspecies</th><th scope=col>host_taxid</th><th scope=col>class</th><th scope=col>order</th><th scope=col>family</th><th scope=col>⋯</th><th scope=col>temp_regulation</th><th scope=col>collection_date</th><th scope=col>season</th><th scope=col>samp_store_days</th><th scope=col>samp_collect_device</th><th scope=col>sampling_method</th><th scope=col>diet</th><th scope=col>feeding_style</th><th scope=col>digestive_system</th><th scope=col>digestive_system_detail</th></tr>\n",
       "\t<tr><th scope=col>&lt;chr&gt;</th><th scope=col>&lt;chr&gt;</th><th scope=col>&lt;chr&gt;</th><th scope=col>&lt;chr&gt;</th><th scope=col>&lt;chr&gt;</th><th scope=col>&lt;chr&gt;</th><th scope=col>&lt;int&gt;</th><th scope=col>&lt;chr&gt;</th><th scope=col>&lt;chr&gt;</th><th scope=col>&lt;chr&gt;</th><th scope=col>⋯</th><th scope=col>&lt;chr&gt;</th><th scope=col>&lt;chr&gt;</th><th scope=col>&lt;chr&gt;</th><th scope=col>&lt;dbl&gt;</th><th scope=col>&lt;chr&gt;</th><th scope=col>&lt;chr&gt;</th><th scope=col>&lt;chr&gt;</th><th scope=col>&lt;chr&gt;</th><th scope=col>&lt;chr&gt;</th><th scope=col>&lt;chr&gt;</th></tr>\n",
       "</thead>\n",
       "<tbody>\n",
       "\t<tr><td>F14_Common_Bream</td><td>F14</td><td>Brachse  </td><td>Common.Bream</td><td>Abramis_brama </td><td>NA</td><td>38527</td><td>Actinopterygii</td><td>Cypriniformes</td><td>Cyprinidae</td><td>⋯</td><td>ectotherm/poikilotherm</td><td>8/10/10</td><td>summer</td><td>317</td><td>Greiner Polypropylene Tube 50ml          </td><td>feces sampling</td><td>omnivore </td><td>NA               </td><td>simple </td><td>simple </td></tr>\n",
       "\t<tr><td>F35_Red_Deer    </td><td>F35</td><td>Rothirsch</td><td>Red.Deer    </td><td>Cervus_elaphus</td><td>NA</td><td> 9860</td><td>Mammalia      </td><td>Artiodactyla </td><td>Cervidae  </td><td>⋯</td><td>endotherm/homoiotherm </td><td>9/29/10</td><td>autumn</td><td>229</td><td>Greiner Polystyrene 30ml Faeces Container</td><td>feces sampling</td><td>herbivore</td><td>intermediate type</td><td>foregut</td><td>foregut</td></tr>\n",
       "\t<tr><td>⋮</td><td>⋮</td><td>⋮</td><td>⋮</td><td>⋮</td><td>⋮</td><td>⋮</td><td>⋮</td><td>⋮</td><td>⋮</td><td>⋱</td><td>⋮</td><td>⋮</td><td>⋮</td><td>⋮</td><td>⋮</td><td>⋮</td><td>⋮</td><td>⋮</td><td>⋮</td><td>⋮</td></tr>\n",
       "\t<tr><td>X189_fail_Rainbow_Trout</td><td>189.fail</td><td>Regenbogenforelle</td><td>Rainbow.Trout</td><td>Oncorhynchus_mykiss</td><td>NA</td><td>8022</td><td>Actinopterygii</td><td>Salmoniformes</td><td>Salmonidae</td><td>⋯</td><td>ectotherm/poikilotherm</td><td>3/1/12 </td><td>winter</td><td>467</td><td>Eppendorf tube          </td><td>feces sampling</td><td>carnivore</td><td>NA</td><td>simple</td><td>simple</td></tr>\n",
       "\t<tr><td>X232_fail_Brown_Trout  </td><td>232.fail</td><td>Seeforelle       </td><td>Brown.Trout  </td><td>Salmo_trutta       </td><td>NA</td><td>8032</td><td>Actinopterygii</td><td>Salmoniformes</td><td>Salmonidae</td><td>⋯</td><td>ectotherm/poikilotherm</td><td>3/15/12</td><td>winter</td><td>453</td><td>Polyethylene freezer bag</td><td>gut section   </td><td>carnivore</td><td>NA</td><td>simple</td><td>simple</td></tr>\n",
       "</tbody>\n",
       "</table>\n"
      ],
      "text/latex": [
       "A data.table: 475 × 72\n",
       "\\begin{tabular}{lllllllllllllllllllll}\n",
       " SampleID & host\\_subject\\_id & host\\_german\\_name & host\\_common\\_name & scientific\\_name & scientific\\_name\\_subspecies & host\\_taxid & class & order & family & ⋯ & temp\\_regulation & collection\\_date & season & samp\\_store\\_days & samp\\_collect\\_device & sampling\\_method & diet & feeding\\_style & digestive\\_system & digestive\\_system\\_detail\\\\\n",
       " <chr> & <chr> & <chr> & <chr> & <chr> & <chr> & <int> & <chr> & <chr> & <chr> & ⋯ & <chr> & <chr> & <chr> & <dbl> & <chr> & <chr> & <chr> & <chr> & <chr> & <chr>\\\\\n",
       "\\hline\n",
       "\t F14\\_Common\\_Bream & F14 & Brachse   & Common.Bream & Abramis\\_brama  & NA & 38527 & Actinopterygii & Cypriniformes & Cyprinidae & ⋯ & ectotherm/poikilotherm & 8/10/10 & summer & 317 & Greiner Polypropylene Tube 50ml           & feces sampling & omnivore  & NA                & simple  & simple \\\\\n",
       "\t F35\\_Red\\_Deer     & F35 & Rothirsch & Red.Deer     & Cervus\\_elaphus & NA &  9860 & Mammalia       & Artiodactyla  & Cervidae   & ⋯ & endotherm/homoiotherm  & 9/29/10 & autumn & 229 & Greiner Polystyrene 30ml Faeces Container & feces sampling & herbivore & intermediate type & foregut & foregut\\\\\n",
       "\t ⋮ & ⋮ & ⋮ & ⋮ & ⋮ & ⋮ & ⋮ & ⋮ & ⋮ & ⋮ & ⋱ & ⋮ & ⋮ & ⋮ & ⋮ & ⋮ & ⋮ & ⋮ & ⋮ & ⋮ & ⋮\\\\\n",
       "\t X189\\_fail\\_Rainbow\\_Trout & 189.fail & Regenbogenforelle & Rainbow.Trout & Oncorhynchus\\_mykiss & NA & 8022 & Actinopterygii & Salmoniformes & Salmonidae & ⋯ & ectotherm/poikilotherm & 3/1/12  & winter & 467 & Eppendorf tube           & feces sampling & carnivore & NA & simple & simple\\\\\n",
       "\t X232\\_fail\\_Brown\\_Trout   & 232.fail & Seeforelle        & Brown.Trout   & Salmo\\_trutta        & NA & 8032 & Actinopterygii & Salmoniformes & Salmonidae & ⋯ & ectotherm/poikilotherm & 3/15/12 & winter & 453 & Polyethylene freezer bag & gut section    & carnivore & NA & simple & simple\\\\\n",
       "\\end{tabular}\n"
      ],
      "text/markdown": [
       "\n",
       "A data.table: 475 × 72\n",
       "\n",
       "| SampleID &lt;chr&gt; | host_subject_id &lt;chr&gt; | host_german_name &lt;chr&gt; | host_common_name &lt;chr&gt; | scientific_name &lt;chr&gt; | scientific_name_subspecies &lt;chr&gt; | host_taxid &lt;int&gt; | class &lt;chr&gt; | order &lt;chr&gt; | family &lt;chr&gt; | ⋯ ⋯ | temp_regulation &lt;chr&gt; | collection_date &lt;chr&gt; | season &lt;chr&gt; | samp_store_days &lt;dbl&gt; | samp_collect_device &lt;chr&gt; | sampling_method &lt;chr&gt; | diet &lt;chr&gt; | feeding_style &lt;chr&gt; | digestive_system &lt;chr&gt; | digestive_system_detail &lt;chr&gt; |\n",
       "|---|---|---|---|---|---|---|---|---|---|---|---|---|---|---|---|---|---|---|---|---|\n",
       "| F14_Common_Bream | F14 | Brachse   | Common.Bream | Abramis_brama  | NA | 38527 | Actinopterygii | Cypriniformes | Cyprinidae | ⋯ | ectotherm/poikilotherm | 8/10/10 | summer | 317 | Greiner Polypropylene Tube 50ml           | feces sampling | omnivore  | NA                | simple  | simple  |\n",
       "| F35_Red_Deer     | F35 | Rothirsch | Red.Deer     | Cervus_elaphus | NA |  9860 | Mammalia       | Artiodactyla  | Cervidae   | ⋯ | endotherm/homoiotherm  | 9/29/10 | autumn | 229 | Greiner Polystyrene 30ml Faeces Container | feces sampling | herbivore | intermediate type | foregut | foregut |\n",
       "| ⋮ | ⋮ | ⋮ | ⋮ | ⋮ | ⋮ | ⋮ | ⋮ | ⋮ | ⋮ | ⋱ | ⋮ | ⋮ | ⋮ | ⋮ | ⋮ | ⋮ | ⋮ | ⋮ | ⋮ | ⋮ |\n",
       "| X189_fail_Rainbow_Trout | 189.fail | Regenbogenforelle | Rainbow.Trout | Oncorhynchus_mykiss | NA | 8022 | Actinopterygii | Salmoniformes | Salmonidae | ⋯ | ectotherm/poikilotherm | 3/1/12  | winter | 467 | Eppendorf tube           | feces sampling | carnivore | NA | simple | simple |\n",
       "| X232_fail_Brown_Trout   | 232.fail | Seeforelle        | Brown.Trout   | Salmo_trutta        | NA | 8032 | Actinopterygii | Salmoniformes | Salmonidae | ⋯ | ectotherm/poikilotherm | 3/15/12 | winter | 453 | Polyethylene freezer bag | gut section    | carnivore | NA | simple | simple |\n",
       "\n"
      ],
      "text/plain": [
       "    SampleID                host_subject_id host_german_name  host_common_name\n",
       "1   F14_Common_Bream        F14             Brachse           Common.Bream    \n",
       "2   F35_Red_Deer            F35             Rothirsch         Red.Deer        \n",
       "⋮   ⋮                       ⋮               ⋮                 ⋮               \n",
       "474 X189_fail_Rainbow_Trout 189.fail        Regenbogenforelle Rainbow.Trout   \n",
       "475 X232_fail_Brown_Trout   232.fail        Seeforelle        Brown.Trout     \n",
       "    scientific_name     scientific_name_subspecies host_taxid class         \n",
       "1   Abramis_brama       NA                         38527      Actinopterygii\n",
       "2   Cervus_elaphus      NA                          9860      Mammalia      \n",
       "⋮   ⋮                   ⋮                          ⋮          ⋮             \n",
       "474 Oncorhynchus_mykiss NA                         8022       Actinopterygii\n",
       "475 Salmo_trutta        NA                         8032       Actinopterygii\n",
       "    order         family     ⋯ temp_regulation        collection_date season\n",
       "1   Cypriniformes Cyprinidae ⋯ ectotherm/poikilotherm 8/10/10         summer\n",
       "2   Artiodactyla  Cervidae   ⋯ endotherm/homoiotherm  9/29/10         autumn\n",
       "⋮   ⋮             ⋮          ⋱ ⋮                      ⋮               ⋮     \n",
       "474 Salmoniformes Salmonidae ⋯ ectotherm/poikilotherm 3/1/12          winter\n",
       "475 Salmoniformes Salmonidae ⋯ ectotherm/poikilotherm 3/15/12         winter\n",
       "    samp_store_days samp_collect_device                       sampling_method\n",
       "1   317             Greiner Polypropylene Tube 50ml           feces sampling \n",
       "2   229             Greiner Polystyrene 30ml Faeces Container feces sampling \n",
       "⋮   ⋮               ⋮                                         ⋮              \n",
       "474 467             Eppendorf tube                            feces sampling \n",
       "475 453             Polyethylene freezer bag                  gut section    \n",
       "    diet      feeding_style     digestive_system digestive_system_detail\n",
       "1   omnivore  NA                simple           simple                 \n",
       "2   herbivore intermediate type foregut          foregut                \n",
       "⋮   ⋮         ⋮                 ⋮                ⋮                      \n",
       "474 carnivore NA                simple           simple                 \n",
       "475 carnivore NA                simple           simple                 "
      ]
     },
     "metadata": {},
     "output_type": "display_data"
    }
   ],
   "source": [
    "# sample metadata\n",
    "meta = Fread(metadata_file)\n",
    "meta"
   ]
  },
  {
   "cell_type": "code",
   "execution_count": 8,
   "metadata": {
    "ExecuteTime": {
     "end_time": "2021-05-18T07:34:14.151505Z",
     "start_time": "2021-05-18T07:34:13.966Z"
    }
   },
   "outputs": [
    {
     "data": {
      "text/html": [
       "<table class=\"dataframe\">\n",
       "<caption>A tidytable: 138 × 33</caption>\n",
       "<thead>\n",
       "\t<tr><th scope=col>Well</th><th scope=col>Fluor</th><th scope=col>Target</th><th scope=col>Content</th><th scope=col>Sample</th><th scope=col>Replicate</th><th scope=col>Cq</th><th scope=col>Cq.Mean</th><th scope=col>Cq.Std..Dev</th><th scope=col>Starting.Quantity..SQ.</th><th scope=col>⋯</th><th scope=col>copies.per.g</th><th scope=col>experiment</th><th scope=col>DNA.conc..ng.ul..diluted...used.for.qPCR.</th><th scope=col>Biological.Set.Name</th><th scope=col>Well.Note</th><th scope=col>class</th><th scope=col>order</th><th scope=col>family</th><th scope=col>genus</th><th scope=col>scientific_name</th></tr>\n",
       "\t<tr><th scope=col>&lt;chr&gt;</th><th scope=col>&lt;chr&gt;</th><th scope=col>&lt;chr&gt;</th><th scope=col>&lt;chr&gt;</th><th scope=col>&lt;chr&gt;</th><th scope=col>&lt;int&gt;</th><th scope=col>&lt;dbl&gt;</th><th scope=col>&lt;dbl&gt;</th><th scope=col>&lt;dbl&gt;</th><th scope=col>&lt;dbl&gt;</th><th scope=col>⋯</th><th scope=col>&lt;dbl&gt;</th><th scope=col>&lt;date&gt;</th><th scope=col>&lt;dbl&gt;</th><th scope=col>&lt;lgl&gt;</th><th scope=col>&lt;lgl&gt;</th><th scope=col>&lt;chr&gt;</th><th scope=col>&lt;chr&gt;</th><th scope=col>&lt;chr&gt;</th><th scope=col>&lt;chr&gt;</th><th scope=col>&lt;chr&gt;</th></tr>\n",
       "</thead>\n",
       "<tbody>\n",
       "\t<tr><td>A04</td><td>SYBR</td><td>Methanothermobacter</td><td>Unkn-1</td><td>X13_Wolf</td><td>1</td><td>NA</td><td>0</td><td>0</td><td>NA</td><td>⋯</td><td>0</td><td>2021-03-31</td><td>NA</td><td>NA</td><td>NA</td><td>Mammalia</td><td>Carnivora</td><td>Canidae</td><td>Canis</td><td>Canis lupus</td></tr>\n",
       "\t<tr><td>A05</td><td>SYBR</td><td>Methanothermobacter</td><td>Unkn-1</td><td>X13_Wolf</td><td>2</td><td>NA</td><td>0</td><td>0</td><td>NA</td><td>⋯</td><td>0</td><td>2021-03-31</td><td>NA</td><td>NA</td><td>NA</td><td>Mammalia</td><td>Carnivora</td><td>Canidae</td><td>Canis</td><td>Canis lupus</td></tr>\n",
       "\t<tr><td>⋮</td><td>⋮</td><td>⋮</td><td>⋮</td><td>⋮</td><td>⋮</td><td>⋮</td><td>⋮</td><td>⋮</td><td>⋮</td><td>⋱</td><td>⋮</td><td>⋮</td><td>⋮</td><td>⋮</td><td>⋮</td><td>⋮</td><td>⋮</td><td>⋮</td><td>⋮</td><td>⋮</td></tr>\n",
       "\t<tr><td>H05</td><td>SYBR</td><td>Methanothermobacter</td><td>Unkn-09</td><td>X18_West_European_Hedgehog</td><td>2</td><td>NA</td><td>0</td><td>0</td><td>NA</td><td>⋯</td><td>0</td><td>2021-05-11</td><td>1.67</td><td>NA</td><td>NA</td><td>Mammalia</td><td>Insectivora</td><td>Erinaceidae</td><td>Erinaceus</td><td>Erinaceus europaeus</td></tr>\n",
       "\t<tr><td>H06</td><td>SYBR</td><td>Methanothermobacter</td><td>Unkn-09</td><td>X18_West_European_Hedgehog</td><td>3</td><td>NA</td><td>0</td><td>0</td><td>NA</td><td>⋯</td><td>0</td><td>2021-05-11</td><td>1.67</td><td>NA</td><td>NA</td><td>Mammalia</td><td>Insectivora</td><td>Erinaceidae</td><td>Erinaceus</td><td>Erinaceus europaeus</td></tr>\n",
       "</tbody>\n",
       "</table>\n"
      ],
      "text/latex": [
       "A tidytable: 138 × 33\n",
       "\\begin{tabular}{lllllllllllllllllllll}\n",
       " Well & Fluor & Target & Content & Sample & Replicate & Cq & Cq.Mean & Cq.Std..Dev & Starting.Quantity..SQ. & ⋯ & copies.per.g & experiment & DNA.conc..ng.ul..diluted...used.for.qPCR. & Biological.Set.Name & Well.Note & class & order & family & genus & scientific\\_name\\\\\n",
       " <chr> & <chr> & <chr> & <chr> & <chr> & <int> & <dbl> & <dbl> & <dbl> & <dbl> & ⋯ & <dbl> & <date> & <dbl> & <lgl> & <lgl> & <chr> & <chr> & <chr> & <chr> & <chr>\\\\\n",
       "\\hline\n",
       "\t A04 & SYBR & Methanothermobacter & Unkn-1 & X13\\_Wolf & 1 & NA & 0 & 0 & NA & ⋯ & 0 & 2021-03-31 & NA & NA & NA & Mammalia & Carnivora & Canidae & Canis & Canis lupus\\\\\n",
       "\t A05 & SYBR & Methanothermobacter & Unkn-1 & X13\\_Wolf & 2 & NA & 0 & 0 & NA & ⋯ & 0 & 2021-03-31 & NA & NA & NA & Mammalia & Carnivora & Canidae & Canis & Canis lupus\\\\\n",
       "\t ⋮ & ⋮ & ⋮ & ⋮ & ⋮ & ⋮ & ⋮ & ⋮ & ⋮ & ⋮ & ⋱ & ⋮ & ⋮ & ⋮ & ⋮ & ⋮ & ⋮ & ⋮ & ⋮ & ⋮ & ⋮\\\\\n",
       "\t H05 & SYBR & Methanothermobacter & Unkn-09 & X18\\_West\\_European\\_Hedgehog & 2 & NA & 0 & 0 & NA & ⋯ & 0 & 2021-05-11 & 1.67 & NA & NA & Mammalia & Insectivora & Erinaceidae & Erinaceus & Erinaceus europaeus\\\\\n",
       "\t H06 & SYBR & Methanothermobacter & Unkn-09 & X18\\_West\\_European\\_Hedgehog & 3 & NA & 0 & 0 & NA & ⋯ & 0 & 2021-05-11 & 1.67 & NA & NA & Mammalia & Insectivora & Erinaceidae & Erinaceus & Erinaceus europaeus\\\\\n",
       "\\end{tabular}\n"
      ],
      "text/markdown": [
       "\n",
       "A tidytable: 138 × 33\n",
       "\n",
       "| Well &lt;chr&gt; | Fluor &lt;chr&gt; | Target &lt;chr&gt; | Content &lt;chr&gt; | Sample &lt;chr&gt; | Replicate &lt;int&gt; | Cq &lt;dbl&gt; | Cq.Mean &lt;dbl&gt; | Cq.Std..Dev &lt;dbl&gt; | Starting.Quantity..SQ. &lt;dbl&gt; | ⋯ ⋯ | copies.per.g &lt;dbl&gt; | experiment &lt;date&gt; | DNA.conc..ng.ul..diluted...used.for.qPCR. &lt;dbl&gt; | Biological.Set.Name &lt;lgl&gt; | Well.Note &lt;lgl&gt; | class &lt;chr&gt; | order &lt;chr&gt; | family &lt;chr&gt; | genus &lt;chr&gt; | scientific_name &lt;chr&gt; |\n",
       "|---|---|---|---|---|---|---|---|---|---|---|---|---|---|---|---|---|---|---|---|---|\n",
       "| A04 | SYBR | Methanothermobacter | Unkn-1 | X13_Wolf | 1 | NA | 0 | 0 | NA | ⋯ | 0 | 2021-03-31 | NA | NA | NA | Mammalia | Carnivora | Canidae | Canis | Canis lupus |\n",
       "| A05 | SYBR | Methanothermobacter | Unkn-1 | X13_Wolf | 2 | NA | 0 | 0 | NA | ⋯ | 0 | 2021-03-31 | NA | NA | NA | Mammalia | Carnivora | Canidae | Canis | Canis lupus |\n",
       "| ⋮ | ⋮ | ⋮ | ⋮ | ⋮ | ⋮ | ⋮ | ⋮ | ⋮ | ⋮ | ⋱ | ⋮ | ⋮ | ⋮ | ⋮ | ⋮ | ⋮ | ⋮ | ⋮ | ⋮ | ⋮ |\n",
       "| H05 | SYBR | Methanothermobacter | Unkn-09 | X18_West_European_Hedgehog | 2 | NA | 0 | 0 | NA | ⋯ | 0 | 2021-05-11 | 1.67 | NA | NA | Mammalia | Insectivora | Erinaceidae | Erinaceus | Erinaceus europaeus |\n",
       "| H06 | SYBR | Methanothermobacter | Unkn-09 | X18_West_European_Hedgehog | 3 | NA | 0 | 0 | NA | ⋯ | 0 | 2021-05-11 | 1.67 | NA | NA | Mammalia | Insectivora | Erinaceidae | Erinaceus | Erinaceus europaeus |\n",
       "\n"
      ],
      "text/plain": [
       "    Well Fluor Target              Content Sample                     Replicate\n",
       "1   A04  SYBR  Methanothermobacter Unkn-1  X13_Wolf                   1        \n",
       "2   A05  SYBR  Methanothermobacter Unkn-1  X13_Wolf                   2        \n",
       "⋮   ⋮    ⋮     ⋮                   ⋮       ⋮                          ⋮        \n",
       "137 H05  SYBR  Methanothermobacter Unkn-09 X18_West_European_Hedgehog 2        \n",
       "138 H06  SYBR  Methanothermobacter Unkn-09 X18_West_European_Hedgehog 3        \n",
       "    Cq Cq.Mean Cq.Std..Dev Starting.Quantity..SQ. ⋯ copies.per.g experiment\n",
       "1   NA 0       0           NA                     ⋯ 0            2021-03-31\n",
       "2   NA 0       0           NA                     ⋯ 0            2021-03-31\n",
       "⋮   ⋮  ⋮       ⋮           ⋮                      ⋱ ⋮            ⋮         \n",
       "137 NA 0       0           NA                     ⋯ 0            2021-05-11\n",
       "138 NA 0       0           NA                     ⋯ 0            2021-05-11\n",
       "    DNA.conc..ng.ul..diluted...used.for.qPCR. Biological.Set.Name Well.Note\n",
       "1   NA                                        NA                  NA       \n",
       "2   NA                                        NA                  NA       \n",
       "⋮   ⋮                                         ⋮                   ⋮        \n",
       "137 1.67                                      NA                  NA       \n",
       "138 1.67                                      NA                  NA       \n",
       "    class    order       family      genus     scientific_name    \n",
       "1   Mammalia Carnivora   Canidae     Canis     Canis lupus        \n",
       "2   Mammalia Carnivora   Canidae     Canis     Canis lupus        \n",
       "⋮   ⋮        ⋮           ⋮           ⋮         ⋮                  \n",
       "137 Mammalia Insectivora Erinaceidae Erinaceus Erinaceus europaeus\n",
       "138 Mammalia Insectivora Erinaceidae Erinaceus Erinaceus europaeus"
      ]
     },
     "metadata": {},
     "output_type": "display_data"
    }
   ],
   "source": [
    "# qPCR data\n",
    "qPCR = Fread(qPCR_file) %>%\n",
    "    filter.(grepl('Unkn-', Content)) %>%\n",
    "    filter.(!grepl('marburg', Sample))\n",
    "qPCR"
   ]
  },
  {
   "cell_type": "code",
   "execution_count": 9,
   "metadata": {
    "ExecuteTime": {
     "end_time": "2021-05-18T07:34:14.228184Z",
     "start_time": "2021-05-18T07:34:14.105Z"
    }
   },
   "outputs": [
    {
     "data": {
      "text/plain": [
       "\n",
       "Phylogenetic tree with 469 tips and 327 internal nodes.\n",
       "\n",
       "Tip labels:\n",
       "  X63_fail1_European_Perch, X63_fail2_European_Perch, X64_Eurasian_Ruffe, X82_Eurasian_Ruffe, X82_fail_Eurasian_Ruffe, X255_Zander, ...\n",
       "Node labels:\n",
       "  , @_22_@, @_8_@, @_4_@, @_3_@, @_1_@, ...\n",
       "\n",
       "Rooted; includes branch lengths."
      ]
     },
     "metadata": {},
     "output_type": "display_data"
    }
   ],
   "source": [
    "# host tree\n",
    "host_tree = ape::read.tree(host_tree_file)\n",
    "host_tree"
   ]
  },
  {
   "cell_type": "markdown",
   "metadata": {},
   "source": [
    "## Overlap"
   ]
  },
  {
   "cell_type": "code",
   "execution_count": 13,
   "metadata": {
    "ExecuteTime": {
     "end_time": "2021-05-18T07:34:50.712331Z",
     "start_time": "2021-05-18T07:34:50.681Z"
    }
   },
   "outputs": [
    {
     "name": "stdout",
     "output_type": "stream",
     "text": [
      "intersect(x,y): 46 \n",
      "setdiff(x,y): 0 \n",
      "setdiff(y,x): 429 \n",
      "union(x,y): 475 \n"
     ]
    }
   ],
   "source": [
    "overlap(qPCR$Sample, meta$SampleID)"
   ]
  },
  {
   "cell_type": "code",
   "execution_count": 10,
   "metadata": {
    "ExecuteTime": {
     "end_time": "2021-05-18T07:34:14.395785Z",
     "start_time": "2021-05-18T07:34:14.338Z"
    }
   },
   "outputs": [
    {
     "name": "stdout",
     "output_type": "stream",
     "text": [
      "intersect(x,y): 46 \n",
      "setdiff(x,y): 0 \n",
      "setdiff(y,x): 423 \n",
      "union(x,y): 469 \n"
     ]
    }
   ],
   "source": [
    "overlap(qPCR$Sample, host_tree$tip.label)"
   ]
  },
  {
   "cell_type": "markdown",
   "metadata": {},
   "source": [
    "# Host tree"
   ]
  },
  {
   "cell_type": "markdown",
   "metadata": {},
   "source": [
    "## Filtering"
   ]
  },
  {
   "cell_type": "code",
   "execution_count": 11,
   "metadata": {
    "ExecuteTime": {
     "end_time": "2021-05-18T07:34:19.082150Z",
     "start_time": "2021-05-18T07:34:19.017Z"
    }
   },
   "outputs": [
    {
     "data": {
      "text/plain": [
       "\n",
       "Phylogenetic tree with 46 tips and 44 internal nodes.\n",
       "\n",
       "Tip labels:\n",
       "  X372_Emu, X33_Wild_Turkey, X272_Black_Grouse, X131_Rock_Ptarmigan, X270_Common_Pheasant, X271_Common_Pheasant, ...\n",
       "Node labels:\n",
       "  @_196_@, @_89_@, @_88_@, @_46_@, @_40_@, @_38_@, ...\n",
       "\n",
       "Rooted; includes branch lengths."
      ]
     },
     "metadata": {},
     "output_type": "display_data"
    }
   ],
   "source": [
    "to_rm = setdiff(host_tree$tip.label, qPCR$Sample)\n",
    "host_tree_f = ape::drop.tip(host_tree, to_rm)\n",
    "host_tree_f"
   ]
  },
  {
   "cell_type": "markdown",
   "metadata": {},
   "source": [
    "## Writing host tree"
   ]
  },
  {
   "cell_type": "code",
   "execution_count": 8,
   "metadata": {
    "ExecuteTime": {
     "end_time": "2021-05-11T14:54:03.580897Z",
     "start_time": "2021-05-11T14:54:03.542Z"
    }
   },
   "outputs": [
    {
     "name": "stdout",
     "output_type": "stream",
     "text": [
      "File written: /ebio/abt3_projects/Georg_animal_feces/data/16S_arch/qPCR/174FR//unified_metadata_complete_20190416_IndD_qPCR.nwk \n"
     ]
    }
   ],
   "source": [
    "F = file.path(work_dir, 'unified_metadata_complete_20190416_IndD_qPCR.nwk')\n",
    "write.tree(host_tree_f, F)\n",
    "cat('File written:', F, '\\n')"
   ]
  },
  {
   "cell_type": "markdown",
   "metadata": {},
   "source": [
    "# Formatting for iTOL"
   ]
  },
  {
   "cell_type": "markdown",
   "metadata": {},
   "source": [
    "## Copies per g feces"
   ]
  },
  {
   "cell_type": "code",
   "execution_count": 9,
   "metadata": {
    "ExecuteTime": {
     "end_time": "2021-05-11T14:54:05.727344Z",
     "start_time": "2021-05-11T14:54:05.630Z"
    }
   },
   "outputs": [
    {
     "data": {
      "text/html": [
       "<table class=\"dataframe\">\n",
       "<caption>A data.frame: 46 × 5</caption>\n",
       "<thead>\n",
       "\t<tr><th></th><th scope=col>minimum</th><th scope=col>q1</th><th scope=col>median</th><th scope=col>q3</th><th scope=col>maximum</th></tr>\n",
       "\t<tr><th></th><th scope=col>&lt;dbl&gt;</th><th scope=col>&lt;dbl&gt;</th><th scope=col>&lt;dbl&gt;</th><th scope=col>&lt;dbl&gt;</th><th scope=col>&lt;dbl&gt;</th></tr>\n",
       "</thead>\n",
       "<tbody>\n",
       "\t<tr><th scope=row>X13_Wolf</th><td>0.000000</td><td>0.000000</td><td>0.000000</td><td>0.00000</td><td>0.00000</td></tr>\n",
       "\t<tr><th scope=row>X290_Eastern_Grey_Kangaroo</th><td>5.028918</td><td>5.122214</td><td>5.215509</td><td>5.24846</td><td>5.28141</td></tr>\n",
       "\t<tr><th scope=row>⋮</th><td>⋮</td><td>⋮</td><td>⋮</td><td>⋮</td><td>⋮</td></tr>\n",
       "\t<tr><th scope=row>X7_European_Otter</th><td>0</td><td>0</td><td>0</td><td>0</td><td>0</td></tr>\n",
       "\t<tr><th scope=row>X18_West_European_Hedgehog</th><td>0</td><td>0</td><td>0</td><td>0</td><td>0</td></tr>\n",
       "</tbody>\n",
       "</table>\n"
      ],
      "text/latex": [
       "A data.frame: 46 × 5\n",
       "\\begin{tabular}{r|lllll}\n",
       "  & minimum & q1 & median & q3 & maximum\\\\\n",
       "  & <dbl> & <dbl> & <dbl> & <dbl> & <dbl>\\\\\n",
       "\\hline\n",
       "\tX13\\_Wolf & 0.000000 & 0.000000 & 0.000000 & 0.00000 & 0.00000\\\\\n",
       "\tX290\\_Eastern\\_Grey\\_Kangaroo & 5.028918 & 5.122214 & 5.215509 & 5.24846 & 5.28141\\\\\n",
       "\t⋮ & ⋮ & ⋮ & ⋮ & ⋮ & ⋮\\\\\n",
       "\tX7\\_European\\_Otter & 0 & 0 & 0 & 0 & 0\\\\\n",
       "\tX18\\_West\\_European\\_Hedgehog & 0 & 0 & 0 & 0 & 0\\\\\n",
       "\\end{tabular}\n"
      ],
      "text/markdown": [
       "\n",
       "A data.frame: 46 × 5\n",
       "\n",
       "| <!--/--> | minimum &lt;dbl&gt; | q1 &lt;dbl&gt; | median &lt;dbl&gt; | q3 &lt;dbl&gt; | maximum &lt;dbl&gt; |\n",
       "|---|---|---|---|---|---|\n",
       "| X13_Wolf | 0.000000 | 0.000000 | 0.000000 | 0.00000 | 0.00000 |\n",
       "| X290_Eastern_Grey_Kangaroo | 5.028918 | 5.122214 | 5.215509 | 5.24846 | 5.28141 |\n",
       "| ⋮ | ⋮ | ⋮ | ⋮ | ⋮ | ⋮ |\n",
       "| X7_European_Otter | 0 | 0 | 0 | 0 | 0 |\n",
       "| X18_West_European_Hedgehog | 0 | 0 | 0 | 0 | 0 |\n",
       "\n"
      ],
      "text/plain": [
       "                           minimum  q1       median   q3      maximum\n",
       "X13_Wolf                   0.000000 0.000000 0.000000 0.00000 0.00000\n",
       "X290_Eastern_Grey_Kangaroo 5.028918 5.122214 5.215509 5.24846 5.28141\n",
       "⋮                          ⋮        ⋮        ⋮        ⋮       ⋮      \n",
       "X7_European_Otter          0        0        0        0       0      \n",
       "X18_West_European_Hedgehog 0        0        0        0       0      "
      ]
     },
     "metadata": {},
     "output_type": "display_data"
    }
   ],
   "source": [
    "# formatting\n",
    "df = qPCR %>%\n",
    "    select.(Sample, copies.per.g) %>%\n",
    "    mutate.(copies.per.g = log10(copies.per.g)) %>%\n",
    "    mutate.(copies.per.g = ifelse(is.infinite(copies.per.g), 0, copies.per.g)) %>%\n",
    "    summarize.(minimum = min(copies.per.g, na.rm=TRUE),\n",
    "               q1 = quantile(copies.per.g, 0.25, na.rm=TRUE),\n",
    "               median = median(copies.per.g, na.rm=TRUE),\n",
    "               q3 = quantile(copies.per.g, 0.75, na.rm=TRUE),\n",
    "               maximum = max(copies.per.g, na.rm=TRUE),\n",
    "               .by=c('Sample')) %>%\n",
    "    as.data.frame\n",
    "rownames(df) = df$Sample\n",
    "df$Sample = NULL\n",
    "df"
   ]
  },
  {
   "cell_type": "code",
   "execution_count": 10,
   "metadata": {
    "ExecuteTime": {
     "end_time": "2021-05-11T14:54:06.235162Z",
     "start_time": "2021-05-11T14:54:06.205Z"
    }
   },
   "outputs": [
    {
     "data": {
      "text/plain": [
       "   Min. 1st Qu.  Median    Mean 3rd Qu.    Max. \n",
       "  0.000   0.000   0.000   1.710   3.885   6.492 "
      ]
     },
     "metadata": {},
     "output_type": "display_data"
    }
   ],
   "source": [
    "df %>%\n",
    "    filter.(!is.infinite(median)) %>%\n",
    "    .$median %>% summary"
   ]
  },
  {
   "cell_type": "code",
   "execution_count": 11,
   "metadata": {
    "ExecuteTime": {
     "end_time": "2021-05-11T14:54:06.755254Z",
     "start_time": "2021-05-11T14:54:06.717Z"
    }
   },
   "outputs": [
    {
     "name": "stdout",
     "output_type": "stream",
     "text": [
      "File written: /ebio/abt3_projects/Georg_animal_feces/data/16S_arch/qPCR/174FR//unified_metadata_complete_20190416_IndD_qPCR-htmp.txt \n"
     ]
    }
   ],
   "source": [
    "# writing\n",
    "F = file.path(work_dir, 'unified_metadata_complete_20190416_IndD_qPCR-htmp.txt')\n",
    "itol_boxplot(df, dataset_label = 'copes_per_g', out_file=F)"
   ]
  },
  {
   "cell_type": "markdown",
   "metadata": {},
   "source": [
    "## Input gDNA"
   ]
  },
  {
   "cell_type": "markdown",
   "metadata": {},
   "source": [
    "### color strip"
   ]
  },
  {
   "cell_type": "code",
   "execution_count": 12,
   "metadata": {
    "ExecuteTime": {
     "end_time": "2021-05-11T14:54:11.651954Z",
     "start_time": "2021-05-11T14:54:11.606Z"
    }
   },
   "outputs": [
    {
     "data": {
      "text/html": [
       "<table class=\"dataframe\">\n",
       "<caption>A data.frame: 46 × 1</caption>\n",
       "<thead>\n",
       "\t<tr><th></th><th scope=col>input_5ng</th></tr>\n",
       "\t<tr><th></th><th scope=col>&lt;lgl&gt;</th></tr>\n",
       "</thead>\n",
       "<tbody>\n",
       "\t<tr><th scope=row>X13_Wolf</th><td>FALSE</td></tr>\n",
       "\t<tr><th scope=row>X290_Eastern_Grey_Kangaroo</th><td>FALSE</td></tr>\n",
       "\t<tr><th scope=row>⋮</th><td>⋮</td></tr>\n",
       "\t<tr><th scope=row>X7_European_Otter</th><td>FALSE</td></tr>\n",
       "\t<tr><th scope=row>X18_West_European_Hedgehog</th><td>FALSE</td></tr>\n",
       "</tbody>\n",
       "</table>\n"
      ],
      "text/latex": [
       "A data.frame: 46 × 1\n",
       "\\begin{tabular}{r|l}\n",
       "  & input\\_5ng\\\\\n",
       "  & <lgl>\\\\\n",
       "\\hline\n",
       "\tX13\\_Wolf & FALSE\\\\\n",
       "\tX290\\_Eastern\\_Grey\\_Kangaroo & FALSE\\\\\n",
       "\t⋮ & ⋮\\\\\n",
       "\tX7\\_European\\_Otter & FALSE\\\\\n",
       "\tX18\\_West\\_European\\_Hedgehog & FALSE\\\\\n",
       "\\end{tabular}\n"
      ],
      "text/markdown": [
       "\n",
       "A data.frame: 46 × 1\n",
       "\n",
       "| <!--/--> | input_5ng &lt;lgl&gt; |\n",
       "|---|---|\n",
       "| X13_Wolf | FALSE |\n",
       "| X290_Eastern_Grey_Kangaroo | FALSE |\n",
       "| ⋮ | ⋮ |\n",
       "| X7_European_Otter | FALSE |\n",
       "| X18_West_European_Hedgehog | FALSE |\n",
       "\n"
      ],
      "text/plain": [
       "                           input_5ng\n",
       "X13_Wolf                   FALSE    \n",
       "X290_Eastern_Grey_Kangaroo FALSE    \n",
       "⋮                          ⋮        \n",
       "X7_European_Otter          FALSE    \n",
       "X18_West_European_Hedgehog FALSE    "
      ]
     },
     "metadata": {},
     "output_type": "display_data"
    }
   ],
   "source": [
    "qPCR_f = qPCR %>%\n",
    "    filter.(!grepl('marburg', Sample)) %>%\n",
    "    filter.(!is.na(copies.per.g)) %>%\n",
    "    mutate.(input_5ng = ng.per.reaction < 5 %>% as.character) %>%\n",
    "    distinct.(Sample, input_5ng) %>%\n",
    "    as.data.frame\n",
    "rownames(qPCR_f) = qPCR_f$Sample\n",
    "qPCR_f$Sample = NULL\n",
    "qPCR_f"
   ]
  },
  {
   "cell_type": "code",
   "execution_count": 13,
   "metadata": {
    "ExecuteTime": {
     "end_time": "2021-05-11T14:54:12.139993Z",
     "start_time": "2021-05-11T14:54:12.103Z"
    }
   },
   "outputs": [
    {
     "data": {
      "text/html": [
       "<table class=\"dataframe\">\n",
       "<caption>A data.frame: 2 × 3</caption>\n",
       "<thead>\n",
       "\t<tr><th scope=col>labels</th><th scope=col>colors</th><th scope=col>shapes</th></tr>\n",
       "\t<tr><th scope=col>&lt;chr&gt;</th><th scope=col>&lt;chr&gt;</th><th scope=col>&lt;int&gt;</th></tr>\n",
       "</thead>\n",
       "<tbody>\n",
       "\t<tr><td>TRUE </td><td>#999999</td><td>1</td></tr>\n",
       "\t<tr><td>FALSE</td><td>#33cc33</td><td>2</td></tr>\n",
       "</tbody>\n",
       "</table>\n"
      ],
      "text/latex": [
       "A data.frame: 2 × 3\n",
       "\\begin{tabular}{lll}\n",
       " labels & colors & shapes\\\\\n",
       " <chr> & <chr> & <int>\\\\\n",
       "\\hline\n",
       "\t TRUE  & \\#999999 & 1\\\\\n",
       "\t FALSE & \\#33cc33 & 2\\\\\n",
       "\\end{tabular}\n"
      ],
      "text/markdown": [
       "\n",
       "A data.frame: 2 × 3\n",
       "\n",
       "| labels &lt;chr&gt; | colors &lt;chr&gt; | shapes &lt;int&gt; |\n",
       "|---|---|---|\n",
       "| TRUE  | #999999 | 1 |\n",
       "| FALSE | #33cc33 | 2 |\n",
       "\n"
      ],
      "text/plain": [
       "  labels colors  shapes\n",
       "1 TRUE   #999999 1     \n",
       "2 FALSE  #33cc33 2     "
      ]
     },
     "metadata": {},
     "output_type": "display_data"
    }
   ],
   "source": [
    "# custom legend\n",
    "legend = data.frame('labels' = c('TRUE', 'FALSE'),\n",
    "                    'colors' = c('#999999', '#33cc33'),\n",
    "                    'shapes' = 1:2)\n",
    "legend"
   ]
  },
  {
   "cell_type": "code",
   "execution_count": 14,
   "metadata": {
    "ExecuteTime": {
     "end_time": "2021-05-11T14:54:13.371083Z",
     "start_time": "2021-05-11T14:54:13.325Z"
    }
   },
   "outputs": [
    {
     "name": "stdout",
     "output_type": "stream",
     "text": [
      "File written: /ebio/abt3_projects/Georg_animal_feces/data/16S_arch/qPCR/174FR//unified_metadata_complete_20190416_IndD_qPCR-gDNA-clrstrp.txt \n"
     ]
    }
   ],
   "source": [
    "# writing\n",
    "F = file.path(work_dir, 'unified_metadata_complete_20190416_IndD_qPCR-gDNA-clrstrp.txt')\n",
    "itol_colorstrip(qPCR_f, 'input_gDNA_gte5ng', out_file=F, legend=legend)"
   ]
  },
  {
   "cell_type": "markdown",
   "metadata": {},
   "source": [
    "### heatmap"
   ]
  },
  {
   "cell_type": "code",
   "execution_count": 15,
   "metadata": {
    "ExecuteTime": {
     "end_time": "2021-05-11T14:54:14.261311Z",
     "start_time": "2021-05-11T14:54:14.214Z"
    }
   },
   "outputs": [
    {
     "data": {
      "text/html": [
       "<table class=\"dataframe\">\n",
       "<caption>A data.frame: 46 × 1</caption>\n",
       "<thead>\n",
       "\t<tr><th></th><th scope=col>ng.per.reaction</th></tr>\n",
       "\t<tr><th></th><th scope=col>&lt;dbl&gt;</th></tr>\n",
       "</thead>\n",
       "<tbody>\n",
       "\t<tr><th scope=row>X13_Wolf</th><td>5</td></tr>\n",
       "\t<tr><th scope=row>X290_Eastern_Grey_Kangaroo</th><td>5</td></tr>\n",
       "\t<tr><th scope=row>⋮</th><td>⋮</td></tr>\n",
       "\t<tr><th scope=row>X7_European_Otter</th><td>5</td></tr>\n",
       "\t<tr><th scope=row>X18_West_European_Hedgehog</th><td>5</td></tr>\n",
       "</tbody>\n",
       "</table>\n"
      ],
      "text/latex": [
       "A data.frame: 46 × 1\n",
       "\\begin{tabular}{r|l}\n",
       "  & ng.per.reaction\\\\\n",
       "  & <dbl>\\\\\n",
       "\\hline\n",
       "\tX13\\_Wolf & 5\\\\\n",
       "\tX290\\_Eastern\\_Grey\\_Kangaroo & 5\\\\\n",
       "\t⋮ & ⋮\\\\\n",
       "\tX7\\_European\\_Otter & 5\\\\\n",
       "\tX18\\_West\\_European\\_Hedgehog & 5\\\\\n",
       "\\end{tabular}\n"
      ],
      "text/markdown": [
       "\n",
       "A data.frame: 46 × 1\n",
       "\n",
       "| <!--/--> | ng.per.reaction &lt;dbl&gt; |\n",
       "|---|---|\n",
       "| X13_Wolf | 5 |\n",
       "| X290_Eastern_Grey_Kangaroo | 5 |\n",
       "| ⋮ | ⋮ |\n",
       "| X7_European_Otter | 5 |\n",
       "| X18_West_European_Hedgehog | 5 |\n",
       "\n"
      ],
      "text/plain": [
       "                           ng.per.reaction\n",
       "X13_Wolf                   5              \n",
       "X290_Eastern_Grey_Kangaroo 5              \n",
       "⋮                          ⋮              \n",
       "X7_European_Otter          5              \n",
       "X18_West_European_Hedgehog 5              "
      ]
     },
     "metadata": {},
     "output_type": "display_data"
    }
   ],
   "source": [
    "qPCR_f = qPCR %>%\n",
    "    filter.(!grepl('marburg', Sample)) %>%\n",
    "    filter.(!is.na(copies.per.g)) %>%\n",
    "    summarize.(ng.per.reaction = mean(ng.per.reaction),\n",
    "               .by=c(Sample)) %>%\n",
    "    as.data.frame\n",
    "rownames(qPCR_f) = qPCR_f$Sample\n",
    "qPCR_f$Sample = NULL\n",
    "qPCR_f"
   ]
  },
  {
   "cell_type": "code",
   "execution_count": 16,
   "metadata": {
    "ExecuteTime": {
     "end_time": "2021-05-11T14:54:14.812095Z",
     "start_time": "2021-05-11T14:54:14.772Z"
    }
   },
   "outputs": [
    {
     "name": "stdout",
     "output_type": "stream",
     "text": [
      "File written: /ebio/abt3_projects/Georg_animal_feces/data/16S_arch/qPCR/174FR//unified_metadata_complete_20190416_IndD_qPCR-gDNA-htmp.txt \n"
     ]
    }
   ],
   "source": [
    "# writing\n",
    "F = file.path(work_dir, 'unified_metadata_complete_20190416_IndD_qPCR-gDNA-htmp.txt')\n",
    "itol_heatmap(qPCR_f, 'input_gDNA_ng', out_file=F, dist_method=NULL)"
   ]
  },
  {
   "cell_type": "markdown",
   "metadata": {},
   "source": [
    "## Host diet"
   ]
  },
  {
   "cell_type": "code",
   "execution_count": 17,
   "metadata": {
    "ExecuteTime": {
     "end_time": "2021-05-18T07:35:27.958331Z",
     "start_time": "2021-05-18T07:35:27.775Z"
    }
   },
   "outputs": [
    {
     "data": {
      "text/html": [
       "<table class=\"dataframe\">\n",
       "<caption>A data.table: 46 × 72</caption>\n",
       "<thead>\n",
       "\t<tr><th scope=col>SampleID</th><th scope=col>host_subject_id</th><th scope=col>host_german_name</th><th scope=col>host_common_name</th><th scope=col>scientific_name</th><th scope=col>scientific_name_subspecies</th><th scope=col>host_taxid</th><th scope=col>class</th><th scope=col>order</th><th scope=col>family</th><th scope=col>⋯</th><th scope=col>temp_regulation</th><th scope=col>collection_date</th><th scope=col>season</th><th scope=col>samp_store_days</th><th scope=col>samp_collect_device</th><th scope=col>sampling_method</th><th scope=col>diet</th><th scope=col>feeding_style</th><th scope=col>digestive_system</th><th scope=col>digestive_system_detail</th></tr>\n",
       "\t<tr><th scope=col>&lt;chr&gt;</th><th scope=col>&lt;chr&gt;</th><th scope=col>&lt;chr&gt;</th><th scope=col>&lt;chr&gt;</th><th scope=col>&lt;chr&gt;</th><th scope=col>&lt;chr&gt;</th><th scope=col>&lt;int&gt;</th><th scope=col>&lt;chr&gt;</th><th scope=col>&lt;chr&gt;</th><th scope=col>&lt;chr&gt;</th><th scope=col>⋯</th><th scope=col>&lt;chr&gt;</th><th scope=col>&lt;chr&gt;</th><th scope=col>&lt;chr&gt;</th><th scope=col>&lt;dbl&gt;</th><th scope=col>&lt;chr&gt;</th><th scope=col>&lt;chr&gt;</th><th scope=col>&lt;chr&gt;</th><th scope=col>&lt;chr&gt;</th><th scope=col>&lt;chr&gt;</th><th scope=col>&lt;chr&gt;</th></tr>\n",
       "</thead>\n",
       "<tbody>\n",
       "\t<tr><td>X1_Eurasian_Beaver</td><td>1</td><td>Biber     </td><td>Eurasian.Beaver</td><td>Castor_fiber</td><td>NA</td><td>10185</td><td>Mammalia</td><td>Rodentia </td><td>Castoridae</td><td>⋯</td><td>endotherm/homoiotherm</td><td>5/5/11 </td><td>spring</td><td>141</td><td>Screw cap vial</td><td>feces sampling</td><td>herbivore</td><td>caecotroph</td><td>hindgut</td><td>caecum</td></tr>\n",
       "\t<tr><td>X7_European_Otter </td><td>7</td><td>Fischotter</td><td>European.Otter </td><td>Lutra_lutra </td><td>NA</td><td> 9657</td><td>Mammalia</td><td>Carnivora</td><td>Mustelidae</td><td>⋯</td><td>endotherm/homoiotherm</td><td>7/25/11</td><td>summer</td><td> 61</td><td>Screw cap vial</td><td>feces sampling</td><td>carnivore</td><td>NA        </td><td>simple </td><td>simple</td></tr>\n",
       "\t<tr><td>⋮</td><td>⋮</td><td>⋮</td><td>⋮</td><td>⋮</td><td>⋮</td><td>⋮</td><td>⋮</td><td>⋮</td><td>⋮</td><td>⋱</td><td>⋮</td><td>⋮</td><td>⋮</td><td>⋮</td><td>⋮</td><td>⋮</td><td>⋮</td><td>⋮</td><td>⋮</td><td>⋮</td></tr>\n",
       "\t<tr><td>X110_fail_Noctule             </td><td>110.fail</td><td>Grosser Abendsegler</td><td>Noctule             </td><td>Nyctalus_noctula</td><td>NA</td><td> 51300</td><td>Mammalia</td><td>Chiroptera   </td><td>Vespertilionidae</td><td>⋯</td><td>endotherm/homoiotherm</td><td>1/18/12</td><td>winter</td><td>6</td><td>Screw cap vial</td><td>gut section</td><td>carnivore</td><td>NA</td><td>simple</td><td>simple</td></tr>\n",
       "\t<tr><td>X112_fail_Eurasian_Sparrowhawk</td><td>112.fail</td><td>Sperber            </td><td>Eurasian.Sparrowhawk</td><td>Accipiter_nisus </td><td>NA</td><td>211598</td><td>Aves    </td><td>Falconiformes</td><td>Accipitridae    </td><td>⋯</td><td>endotherm/homoiotherm</td><td>1/18/12</td><td>winter</td><td>6</td><td>Screw cap vial</td><td>gut section</td><td>carnivore</td><td>NA</td><td>simple</td><td>simple</td></tr>\n",
       "</tbody>\n",
       "</table>\n"
      ],
      "text/latex": [
       "A data.table: 46 × 72\n",
       "\\begin{tabular}{lllllllllllllllllllll}\n",
       " SampleID & host\\_subject\\_id & host\\_german\\_name & host\\_common\\_name & scientific\\_name & scientific\\_name\\_subspecies & host\\_taxid & class & order & family & ⋯ & temp\\_regulation & collection\\_date & season & samp\\_store\\_days & samp\\_collect\\_device & sampling\\_method & diet & feeding\\_style & digestive\\_system & digestive\\_system\\_detail\\\\\n",
       " <chr> & <chr> & <chr> & <chr> & <chr> & <chr> & <int> & <chr> & <chr> & <chr> & ⋯ & <chr> & <chr> & <chr> & <dbl> & <chr> & <chr> & <chr> & <chr> & <chr> & <chr>\\\\\n",
       "\\hline\n",
       "\t X1\\_Eurasian\\_Beaver & 1 & Biber      & Eurasian.Beaver & Castor\\_fiber & NA & 10185 & Mammalia & Rodentia  & Castoridae & ⋯ & endotherm/homoiotherm & 5/5/11  & spring & 141 & Screw cap vial & feces sampling & herbivore & caecotroph & hindgut & caecum\\\\\n",
       "\t X7\\_European\\_Otter  & 7 & Fischotter & European.Otter  & Lutra\\_lutra  & NA &  9657 & Mammalia & Carnivora & Mustelidae & ⋯ & endotherm/homoiotherm & 7/25/11 & summer &  61 & Screw cap vial & feces sampling & carnivore & NA         & simple  & simple\\\\\n",
       "\t ⋮ & ⋮ & ⋮ & ⋮ & ⋮ & ⋮ & ⋮ & ⋮ & ⋮ & ⋮ & ⋱ & ⋮ & ⋮ & ⋮ & ⋮ & ⋮ & ⋮ & ⋮ & ⋮ & ⋮ & ⋮\\\\\n",
       "\t X110\\_fail\\_Noctule              & 110.fail & Grosser Abendsegler & Noctule              & Nyctalus\\_noctula & NA &  51300 & Mammalia & Chiroptera    & Vespertilionidae & ⋯ & endotherm/homoiotherm & 1/18/12 & winter & 6 & Screw cap vial & gut section & carnivore & NA & simple & simple\\\\\n",
       "\t X112\\_fail\\_Eurasian\\_Sparrowhawk & 112.fail & Sperber             & Eurasian.Sparrowhawk & Accipiter\\_nisus  & NA & 211598 & Aves     & Falconiformes & Accipitridae     & ⋯ & endotherm/homoiotherm & 1/18/12 & winter & 6 & Screw cap vial & gut section & carnivore & NA & simple & simple\\\\\n",
       "\\end{tabular}\n"
      ],
      "text/markdown": [
       "\n",
       "A data.table: 46 × 72\n",
       "\n",
       "| SampleID &lt;chr&gt; | host_subject_id &lt;chr&gt; | host_german_name &lt;chr&gt; | host_common_name &lt;chr&gt; | scientific_name &lt;chr&gt; | scientific_name_subspecies &lt;chr&gt; | host_taxid &lt;int&gt; | class &lt;chr&gt; | order &lt;chr&gt; | family &lt;chr&gt; | ⋯ ⋯ | temp_regulation &lt;chr&gt; | collection_date &lt;chr&gt; | season &lt;chr&gt; | samp_store_days &lt;dbl&gt; | samp_collect_device &lt;chr&gt; | sampling_method &lt;chr&gt; | diet &lt;chr&gt; | feeding_style &lt;chr&gt; | digestive_system &lt;chr&gt; | digestive_system_detail &lt;chr&gt; |\n",
       "|---|---|---|---|---|---|---|---|---|---|---|---|---|---|---|---|---|---|---|---|---|\n",
       "| X1_Eurasian_Beaver | 1 | Biber      | Eurasian.Beaver | Castor_fiber | NA | 10185 | Mammalia | Rodentia  | Castoridae | ⋯ | endotherm/homoiotherm | 5/5/11  | spring | 141 | Screw cap vial | feces sampling | herbivore | caecotroph | hindgut | caecum |\n",
       "| X7_European_Otter  | 7 | Fischotter | European.Otter  | Lutra_lutra  | NA |  9657 | Mammalia | Carnivora | Mustelidae | ⋯ | endotherm/homoiotherm | 7/25/11 | summer |  61 | Screw cap vial | feces sampling | carnivore | NA         | simple  | simple |\n",
       "| ⋮ | ⋮ | ⋮ | ⋮ | ⋮ | ⋮ | ⋮ | ⋮ | ⋮ | ⋮ | ⋱ | ⋮ | ⋮ | ⋮ | ⋮ | ⋮ | ⋮ | ⋮ | ⋮ | ⋮ | ⋮ |\n",
       "| X110_fail_Noctule              | 110.fail | Grosser Abendsegler | Noctule              | Nyctalus_noctula | NA |  51300 | Mammalia | Chiroptera    | Vespertilionidae | ⋯ | endotherm/homoiotherm | 1/18/12 | winter | 6 | Screw cap vial | gut section | carnivore | NA | simple | simple |\n",
       "| X112_fail_Eurasian_Sparrowhawk | 112.fail | Sperber             | Eurasian.Sparrowhawk | Accipiter_nisus  | NA | 211598 | Aves     | Falconiformes | Accipitridae     | ⋯ | endotherm/homoiotherm | 1/18/12 | winter | 6 | Screw cap vial | gut section | carnivore | NA | simple | simple |\n",
       "\n"
      ],
      "text/plain": [
       "   SampleID                       host_subject_id host_german_name   \n",
       "1  X1_Eurasian_Beaver             1               Biber              \n",
       "2  X7_European_Otter              7               Fischotter         \n",
       "⋮  ⋮                              ⋮               ⋮                  \n",
       "45 X110_fail_Noctule              110.fail        Grosser Abendsegler\n",
       "46 X112_fail_Eurasian_Sparrowhawk 112.fail        Sperber            \n",
       "   host_common_name     scientific_name  scientific_name_subspecies host_taxid\n",
       "1  Eurasian.Beaver      Castor_fiber     NA                         10185     \n",
       "2  European.Otter       Lutra_lutra      NA                          9657     \n",
       "⋮  ⋮                    ⋮                ⋮                          ⋮         \n",
       "45 Noctule              Nyctalus_noctula NA                          51300    \n",
       "46 Eurasian.Sparrowhawk Accipiter_nisus  NA                         211598    \n",
       "   class    order         family           ⋯ temp_regulation      \n",
       "1  Mammalia Rodentia      Castoridae       ⋯ endotherm/homoiotherm\n",
       "2  Mammalia Carnivora     Mustelidae       ⋯ endotherm/homoiotherm\n",
       "⋮  ⋮        ⋮             ⋮                ⋱ ⋮                    \n",
       "45 Mammalia Chiroptera    Vespertilionidae ⋯ endotherm/homoiotherm\n",
       "46 Aves     Falconiformes Accipitridae     ⋯ endotherm/homoiotherm\n",
       "   collection_date season samp_store_days samp_collect_device sampling_method\n",
       "1  5/5/11          spring 141             Screw cap vial      feces sampling \n",
       "2  7/25/11         summer  61             Screw cap vial      feces sampling \n",
       "⋮  ⋮               ⋮      ⋮               ⋮                   ⋮              \n",
       "45 1/18/12         winter 6               Screw cap vial      gut section    \n",
       "46 1/18/12         winter 6               Screw cap vial      gut section    \n",
       "   diet      feeding_style digestive_system digestive_system_detail\n",
       "1  herbivore caecotroph    hindgut          caecum                 \n",
       "2  carnivore NA            simple           simple                 \n",
       "⋮  ⋮         ⋮             ⋮                ⋮                      \n",
       "45 carnivore NA            simple           simple                 \n",
       "46 carnivore NA            simple           simple                 "
      ]
     },
     "metadata": {},
     "output_type": "display_data"
    }
   ],
   "source": [
    "meta_f = meta %>%\n",
    "    semi_join(qPCR, c('SampleID'='Sample'))\n",
    "meta_f"
   ]
  },
  {
   "cell_type": "code",
   "execution_count": 32,
   "metadata": {
    "ExecuteTime": {
     "end_time": "2021-05-18T07:40:59.697502Z",
     "start_time": "2021-05-18T07:40:59.659Z"
    }
   },
   "outputs": [
    {
     "data": {
      "text/html": [
       "'/ebio/abt3_projects/Georg_animal_feces/data/16S_arch/qPCR/174FR//unified_metadata_complete_20190416_IndD_diet_itol-clrstrp.txt'"
      ],
      "text/latex": [
       "'/ebio/abt3\\_projects/Georg\\_animal\\_feces/data/16S\\_arch/qPCR/174FR//unified\\_metadata\\_complete\\_20190416\\_IndD\\_diet\\_itol-clrstrp.txt'"
      ],
      "text/markdown": [
       "'/ebio/abt3_projects/Georg_animal_feces/data/16S_arch/qPCR/174FR//unified_metadata_complete_20190416_IndD_diet_itol-clrstrp.txt'"
      ],
      "text/plain": [
       "[1] \"/ebio/abt3_projects/Georg_animal_feces/data/16S_arch/qPCR/174FR//unified_metadata_complete_20190416_IndD_diet_itol-clrstrp.txt\""
      ]
     },
     "metadata": {},
     "output_type": "display_data"
    }
   ],
   "source": [
    "# output file\n",
    "out_file = file.path(work_dir, 'unified_metadata_complete_20190416_IndD_diet_itol-clrstrp.txt')\n",
    "out_file"
   ]
  },
  {
   "cell_type": "code",
   "execution_count": 35,
   "metadata": {
    "ExecuteTime": {
     "end_time": "2021-05-18T07:42:28.481382Z",
     "start_time": "2021-05-18T07:42:28.377Z"
    }
   },
   "outputs": [
    {
     "name": "stdout",
     "output_type": "stream",
     "text": [
      "[1] \"omnivore\"  \"herbivore\" \"carnivore\"\n",
      "File written: /ebio/abt3_projects/Georg_animal_feces/data/16S_arch/qPCR/174FR//unified_metadata_complete_20190416_IndD_diet_itol-clrstrp.txt \n"
     ]
    }
   ],
   "source": [
    "# diet\n",
    "df = meta_f %>%\n",
    "    select.(SampleID, diet) %>%\n",
    "    as.data.frame\n",
    "rownames(df) = df$SampleID\n",
    "df$SampleID = NULL\n",
    "\n",
    "# legend\n",
    "y = meta %>% pull.(diet) %>% unique\n",
    "print(y)\n",
    "cols = c('#FFCC33', '#00CC00', '#FF0000')\n",
    "legend = data.frame(labels = y,\n",
    "                    colors = cols,\n",
    "                    shapes = rep(1, length(labels)))\n",
    "\n",
    "# strip\n",
    "itol_colorstrip(df, 'diet', out_file, legend=legend)"
   ]
  },
  {
   "cell_type": "markdown",
   "metadata": {},
   "source": [
    "## Host body temp"
   ]
  },
  {
   "cell_type": "code",
   "execution_count": 38,
   "metadata": {
    "ExecuteTime": {
     "end_time": "2021-05-18T07:44:10.691506Z",
     "start_time": "2021-05-18T07:44:10.598Z"
    }
   },
   "outputs": [
    {
     "data": {
      "text/html": [
       "<table class=\"dataframe\">\n",
       "<caption>A tidytable: 110 × 8</caption>\n",
       "<thead>\n",
       "\t<tr><th scope=col>SampleID</th><th scope=col>class</th><th scope=col>order</th><th scope=col>family</th><th scope=col>genus</th><th scope=col>scientific_name</th><th scope=col>Tb</th><th scope=col>dataset</th></tr>\n",
       "\t<tr><th scope=col>&lt;chr&gt;</th><th scope=col>&lt;chr&gt;</th><th scope=col>&lt;chr&gt;</th><th scope=col>&lt;chr&gt;</th><th scope=col>&lt;chr&gt;</th><th scope=col>&lt;chr&gt;</th><th scope=col>&lt;dbl&gt;</th><th scope=col>&lt;chr&gt;</th></tr>\n",
       "</thead>\n",
       "<tbody>\n",
       "\t<tr><td>XF14_Common_Bream</td><td>Actinopterygii</td><td>Cypriniformes</td><td>Cyprinidae</td><td>Abramis</td><td>Abramis brama </td><td>  NA</td><td>NA        </td></tr>\n",
       "\t<tr><td>XF35_Red_Deer    </td><td>Mammalia      </td><td>Artiodactyla </td><td>Cervidae  </td><td>Cervus </td><td>Cervus elaphus</td><td>38.6</td><td>WalzerXXXX</td></tr>\n",
       "\t<tr><td>⋮</td><td>⋮</td><td>⋮</td><td>⋮</td><td>⋮</td><td>⋮</td><td>⋮</td><td>⋮</td></tr>\n",
       "\t<tr><td>X405_Nile_Crocodile</td><td>Reptilia</td><td>Crocodilia  </td><td>Crocodylidae</td><td>Crocodylus</td><td>Crocodylus niloticus</td><td>  NA</td><td>NA        </td></tr>\n",
       "\t<tr><td>X67_European_Roe   </td><td>Mammalia</td><td>Artiodactyla</td><td>Cervidae    </td><td>Capreolus </td><td>Capreolus capreolus </td><td>40.4</td><td>WalzerXXXX</td></tr>\n",
       "</tbody>\n",
       "</table>\n"
      ],
      "text/latex": [
       "A tidytable: 110 × 8\n",
       "\\begin{tabular}{llllllll}\n",
       " SampleID & class & order & family & genus & scientific\\_name & Tb & dataset\\\\\n",
       " <chr> & <chr> & <chr> & <chr> & <chr> & <chr> & <dbl> & <chr>\\\\\n",
       "\\hline\n",
       "\t XF14\\_Common\\_Bream & Actinopterygii & Cypriniformes & Cyprinidae & Abramis & Abramis brama  &   NA & NA        \\\\\n",
       "\t XF35\\_Red\\_Deer     & Mammalia       & Artiodactyla  & Cervidae   & Cervus  & Cervus elaphus & 38.6 & WalzerXXXX\\\\\n",
       "\t ⋮ & ⋮ & ⋮ & ⋮ & ⋮ & ⋮ & ⋮ & ⋮\\\\\n",
       "\t X405\\_Nile\\_Crocodile & Reptilia & Crocodilia   & Crocodylidae & Crocodylus & Crocodylus niloticus &   NA & NA        \\\\\n",
       "\t X67\\_European\\_Roe    & Mammalia & Artiodactyla & Cervidae     & Capreolus  & Capreolus capreolus  & 40.4 & WalzerXXXX\\\\\n",
       "\\end{tabular}\n"
      ],
      "text/markdown": [
       "\n",
       "A tidytable: 110 × 8\n",
       "\n",
       "| SampleID &lt;chr&gt; | class &lt;chr&gt; | order &lt;chr&gt; | family &lt;chr&gt; | genus &lt;chr&gt; | scientific_name &lt;chr&gt; | Tb &lt;dbl&gt; | dataset &lt;chr&gt; |\n",
       "|---|---|---|---|---|---|---|---|\n",
       "| XF14_Common_Bream | Actinopterygii | Cypriniformes | Cyprinidae | Abramis | Abramis brama  |   NA | NA         |\n",
       "| XF35_Red_Deer     | Mammalia       | Artiodactyla  | Cervidae   | Cervus  | Cervus elaphus | 38.6 | WalzerXXXX |\n",
       "| ⋮ | ⋮ | ⋮ | ⋮ | ⋮ | ⋮ | ⋮ | ⋮ |\n",
       "| X405_Nile_Crocodile | Reptilia | Crocodilia   | Crocodylidae | Crocodylus | Crocodylus niloticus |   NA | NA         |\n",
       "| X67_European_Roe    | Mammalia | Artiodactyla | Cervidae     | Capreolus  | Capreolus capreolus  | 40.4 | WalzerXXXX |\n",
       "\n"
      ],
      "text/plain": [
       "    SampleID            class          order         family       genus     \n",
       "1   XF14_Common_Bream   Actinopterygii Cypriniformes Cyprinidae   Abramis   \n",
       "2   XF35_Red_Deer       Mammalia       Artiodactyla  Cervidae     Cervus    \n",
       "⋮   ⋮                   ⋮              ⋮             ⋮            ⋮         \n",
       "109 X405_Nile_Crocodile Reptilia       Crocodilia    Crocodylidae Crocodylus\n",
       "110 X67_European_Roe    Mammalia       Artiodactyla  Cervidae     Capreolus \n",
       "    scientific_name      Tb   dataset   \n",
       "1   Abramis brama          NA NA        \n",
       "2   Cervus elaphus       38.6 WalzerXXXX\n",
       "⋮   ⋮                    ⋮    ⋮         \n",
       "109 Crocodylus niloticus   NA NA        \n",
       "110 Capreolus capreolus  40.4 WalzerXXXX"
      ]
     },
     "metadata": {},
     "output_type": "display_data"
    }
   ],
   "source": [
    "bt = Fread(bt_file) %>%\n",
    "    mutate.(SampleID = gsub('^F', 'XF', SampleID))\n",
    "bt"
   ]
  },
  {
   "cell_type": "code",
   "execution_count": 42,
   "metadata": {
    "ExecuteTime": {
     "end_time": "2021-05-18T07:44:40.974954Z",
     "start_time": "2021-05-18T07:44:40.908Z"
    }
   },
   "outputs": [
    {
     "data": {
      "text/html": [
       "<table class=\"dataframe\">\n",
       "<caption>A tidytable: 20 × 8</caption>\n",
       "<thead>\n",
       "\t<tr><th scope=col>SampleID</th><th scope=col>class</th><th scope=col>order</th><th scope=col>family</th><th scope=col>genus</th><th scope=col>scientific_name</th><th scope=col>Tb</th><th scope=col>dataset</th></tr>\n",
       "\t<tr><th scope=col>&lt;chr&gt;</th><th scope=col>&lt;chr&gt;</th><th scope=col>&lt;chr&gt;</th><th scope=col>&lt;chr&gt;</th><th scope=col>&lt;chr&gt;</th><th scope=col>&lt;chr&gt;</th><th scope=col>&lt;dbl&gt;</th><th scope=col>&lt;chr&gt;</th></tr>\n",
       "</thead>\n",
       "<tbody>\n",
       "\t<tr><td>X117_Long_eared_Owl</td><td>Aves</td><td>Strigiformes</td><td>Strigidae</td><td>Asio </td><td>Asio otus      </td><td>40.1</td><td>Clarke2014    </td></tr>\n",
       "\t<tr><td>X119_Ural_Owl      </td><td>Aves</td><td>Strigiformes</td><td>Strigidae</td><td>Strix</td><td>Strix uralensis</td><td>40.2</td><td>Prinzinger1990</td></tr>\n",
       "\t<tr><td>⋮</td><td>⋮</td><td>⋮</td><td>⋮</td><td>⋮</td><td>⋮</td><td>⋮</td><td>⋮</td></tr>\n",
       "\t<tr><td>X417_Giraffe     </td><td>Mammalia</td><td>Artiodactyla</td><td>Giraffidae</td><td>Giraffa</td><td>Giraffa camelopardalis</td><td>37.7</td><td>WalzerXXXX</td></tr>\n",
       "\t<tr><td>X7_European_Otter</td><td>Mammalia</td><td>Carnivora   </td><td>Mustelidae</td><td>Lutra  </td><td>Lutra lutra           </td><td>38.1</td><td>Clarke2010</td></tr>\n",
       "</tbody>\n",
       "</table>\n"
      ],
      "text/latex": [
       "A tidytable: 20 × 8\n",
       "\\begin{tabular}{llllllll}\n",
       " SampleID & class & order & family & genus & scientific\\_name & Tb & dataset\\\\\n",
       " <chr> & <chr> & <chr> & <chr> & <chr> & <chr> & <dbl> & <chr>\\\\\n",
       "\\hline\n",
       "\t X117\\_Long\\_eared\\_Owl & Aves & Strigiformes & Strigidae & Asio  & Asio otus       & 40.1 & Clarke2014    \\\\\n",
       "\t X119\\_Ural\\_Owl       & Aves & Strigiformes & Strigidae & Strix & Strix uralensis & 40.2 & Prinzinger1990\\\\\n",
       "\t ⋮ & ⋮ & ⋮ & ⋮ & ⋮ & ⋮ & ⋮ & ⋮\\\\\n",
       "\t X417\\_Giraffe      & Mammalia & Artiodactyla & Giraffidae & Giraffa & Giraffa camelopardalis & 37.7 & WalzerXXXX\\\\\n",
       "\t X7\\_European\\_Otter & Mammalia & Carnivora    & Mustelidae & Lutra   & Lutra lutra            & 38.1 & Clarke2010\\\\\n",
       "\\end{tabular}\n"
      ],
      "text/markdown": [
       "\n",
       "A tidytable: 20 × 8\n",
       "\n",
       "| SampleID &lt;chr&gt; | class &lt;chr&gt; | order &lt;chr&gt; | family &lt;chr&gt; | genus &lt;chr&gt; | scientific_name &lt;chr&gt; | Tb &lt;dbl&gt; | dataset &lt;chr&gt; |\n",
       "|---|---|---|---|---|---|---|---|\n",
       "| X117_Long_eared_Owl | Aves | Strigiformes | Strigidae | Asio  | Asio otus       | 40.1 | Clarke2014     |\n",
       "| X119_Ural_Owl       | Aves | Strigiformes | Strigidae | Strix | Strix uralensis | 40.2 | Prinzinger1990 |\n",
       "| ⋮ | ⋮ | ⋮ | ⋮ | ⋮ | ⋮ | ⋮ | ⋮ |\n",
       "| X417_Giraffe      | Mammalia | Artiodactyla | Giraffidae | Giraffa | Giraffa camelopardalis | 37.7 | WalzerXXXX |\n",
       "| X7_European_Otter | Mammalia | Carnivora    | Mustelidae | Lutra   | Lutra lutra            | 38.1 | Clarke2010 |\n",
       "\n"
      ],
      "text/plain": [
       "   SampleID            class    order        family     genus  \n",
       "1  X117_Long_eared_Owl Aves     Strigiformes Strigidae  Asio   \n",
       "2  X119_Ural_Owl       Aves     Strigiformes Strigidae  Strix  \n",
       "⋮  ⋮                   ⋮        ⋮            ⋮          ⋮      \n",
       "19 X417_Giraffe        Mammalia Artiodactyla Giraffidae Giraffa\n",
       "20 X7_European_Otter   Mammalia Carnivora    Mustelidae Lutra  \n",
       "   scientific_name        Tb   dataset       \n",
       "1  Asio otus              40.1 Clarke2014    \n",
       "2  Strix uralensis        40.2 Prinzinger1990\n",
       "⋮  ⋮                      ⋮    ⋮             \n",
       "19 Giraffa camelopardalis 37.7 WalzerXXXX    \n",
       "20 Lutra lutra            38.1 Clarke2010    "
      ]
     },
     "metadata": {},
     "output_type": "display_data"
    }
   ],
   "source": [
    "# filtering\n",
    "bt_f = bt %>%\n",
    "    semi_join(qPCR, c('SampleID'='Sample'))\n",
    "bt_f"
   ]
  },
  {
   "cell_type": "code",
   "execution_count": 43,
   "metadata": {
    "ExecuteTime": {
     "end_time": "2021-05-18T07:44:42.252701Z",
     "start_time": "2021-05-18T07:44:42.219Z"
    }
   },
   "outputs": [
    {
     "data": {
      "text/html": [
       "'/ebio/abt3_projects/Georg_animal_feces/data/16S_arch/qPCR/174FR//unified_metadata_complete_20190416_IndD_bt_itol-htmp.txt'"
      ],
      "text/latex": [
       "'/ebio/abt3\\_projects/Georg\\_animal\\_feces/data/16S\\_arch/qPCR/174FR//unified\\_metadata\\_complete\\_20190416\\_IndD\\_bt\\_itol-htmp.txt'"
      ],
      "text/markdown": [
       "'/ebio/abt3_projects/Georg_animal_feces/data/16S_arch/qPCR/174FR//unified_metadata_complete_20190416_IndD_bt_itol-htmp.txt'"
      ],
      "text/plain": [
       "[1] \"/ebio/abt3_projects/Georg_animal_feces/data/16S_arch/qPCR/174FR//unified_metadata_complete_20190416_IndD_bt_itol-htmp.txt\""
      ]
     },
     "metadata": {},
     "output_type": "display_data"
    }
   ],
   "source": [
    "# output file\n",
    "out_file = file.path(work_dir, 'unified_metadata_complete_20190416_IndD_bt_itol-htmp.txt')\n",
    "out_file"
   ]
  },
  {
   "cell_type": "code",
   "execution_count": 48,
   "metadata": {
    "ExecuteTime": {
     "end_time": "2021-05-18T07:46:00.626004Z",
     "start_time": "2021-05-18T07:46:00.560Z"
    }
   },
   "outputs": [
    {
     "name": "stdout",
     "output_type": "stream",
     "text": [
      "File written: /ebio/abt3_projects/Georg_animal_feces/data/16S_arch/qPCR/174FR//unified_metadata_complete_20190416_IndD_bt_itol-htmp.txt \n"
     ]
    }
   ],
   "source": [
    "# format\n",
    "df = bt_f %>%\n",
    "    select.(SampleID, Tb) %>%\n",
    "    as.data.frame\n",
    "rownames(df) = df$SampleID\n",
    "df$SampleID = NULL\n",
    "\n",
    "itol_heatmap(df, 'bt', out_file, dist_method = NULL)"
   ]
  },
  {
   "cell_type": "markdown",
   "metadata": {},
   "source": [
    "# sessionInfo"
   ]
  },
  {
   "cell_type": "code",
   "execution_count": 17,
   "metadata": {
    "ExecuteTime": {
     "end_time": "2021-05-11T14:54:16.304955Z",
     "start_time": "2021-05-11T14:54:16.222Z"
    }
   },
   "outputs": [
    {
     "data": {
      "text/plain": [
       "R version 4.0.3 (2020-10-10)\n",
       "Platform: x86_64-conda-linux-gnu (64-bit)\n",
       "Running under: Ubuntu 18.04.5 LTS\n",
       "\n",
       "Matrix products: default\n",
       "BLAS/LAPACK: /ebio/abt3_projects/Georg_animal_feces/envs/phyloseq2/lib/libopenblasp-r0.3.10.so\n",
       "\n",
       "locale:\n",
       " [1] LC_CTYPE=en_US.UTF-8       LC_NUMERIC=C              \n",
       " [3] LC_TIME=en_US.UTF-8        LC_COLLATE=en_US.UTF-8    \n",
       " [5] LC_MONETARY=en_US.UTF-8    LC_MESSAGES=en_US.UTF-8   \n",
       " [7] LC_PAPER=en_US.UTF-8       LC_NAME=C                 \n",
       " [9] LC_ADDRESS=C               LC_TELEPHONE=C            \n",
       "[11] LC_MEASUREMENT=en_US.UTF-8 LC_IDENTIFICATION=C       \n",
       "\n",
       "attached base packages:\n",
       "[1] stats     graphics  grDevices utils     datasets  methods   base     \n",
       "\n",
       "other attached packages:\n",
       "[1] LeyLabRMisc_0.1.9 ape_5.4-1         tidytable_0.5.8   data.table_1.13.6\n",
       "[5] ggplot2_3.3.3     tidyr_1.1.2       dplyr_1.0.3      \n",
       "\n",
       "loaded via a namespace (and not attached):\n",
       " [1] Rcpp_1.0.6        pillar_1.4.7      compiler_4.0.3    base64enc_0.1-3  \n",
       " [5] tools_4.0.3       digest_0.6.27     uuid_0.1-4        jsonlite_1.7.2   \n",
       " [9] evaluate_0.14     lifecycle_0.2.0   tibble_3.0.5      gtable_0.3.0     \n",
       "[13] nlme_3.1-151      lattice_0.20-41   pkgconfig_2.0.3   rlang_0.4.10     \n",
       "[17] IRdisplay_1.0     IRkernel_1.1.1    parallel_4.0.3    repr_1.1.3       \n",
       "[21] withr_2.4.1       generics_0.1.0    vctrs_0.3.6       grid_4.0.3       \n",
       "[25] tidyselect_1.1.0  glue_1.4.2        R6_2.5.0          pbdZMQ_0.3-4     \n",
       "[29] purrr_0.3.4       magrittr_2.0.1    scales_1.1.1      ellipsis_0.3.1   \n",
       "[33] htmltools_0.5.1.1 colorspace_2.0-0  munsell_0.5.0     crayon_1.3.4     "
      ]
     },
     "metadata": {},
     "output_type": "display_data"
    }
   ],
   "source": [
    "sessionInfo()"
   ]
  }
 ],
 "metadata": {
  "kernelspec": {
   "display_name": "R [conda env:Georg_animal_feces-phyloseq2]",
   "language": "R",
   "name": "conda-env-Georg_animal_feces-phyloseq2-r"
  },
  "language_info": {
   "codemirror_mode": "r",
   "file_extension": ".r",
   "mimetype": "text/x-r-source",
   "name": "R",
   "pygments_lexer": "r",
   "version": "4.0.3"
  },
  "notify_time": "30",
  "toc": {
   "base_numbering": 1,
   "nav_menu": {},
   "number_sections": true,
   "sideBar": true,
   "skip_h1_title": false,
   "title_cell": "Table of Contents",
   "title_sidebar": "Contents",
   "toc_cell": true,
   "toc_position": {},
   "toc_section_display": true,
   "toc_window_display": true
  }
 },
 "nbformat": 4,
 "nbformat_minor": 4
}
